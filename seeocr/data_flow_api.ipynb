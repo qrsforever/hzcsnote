{
 "cells": [
  {
   "cell_type": "markdown",
   "id": "abe03b23",
   "metadata": {},
   "source": [
    "## 摄像头FTP设置"
   ]
  },
  {
   "cell_type": "markdown",
   "id": "057e008f",
   "metadata": {},
   "source": [
    "1. 参数设置 > 网络设置 > RTMP Publish > 获取mac地址\n",
    "\n",
    "![](./images/cam-1.png)\n",
    "\n",
    "------------"
   ]
  },
  {
   "cell_type": "markdown",
   "id": "0b905bda",
   "metadata": {},
   "source": [
    "2. 参数设置 > 高级设置 > FTP设置 (注意mac地址必须和上一步获取的一致, 设置后点击测试看一下是否已通)\n",
    "\n",
    "> 密码（暂时）: holyhand \n",
    "\n",
    "![](./images/cam-2.png)\n",
    "\n",
    "--------------"
   ]
  },
  {
   "cell_type": "markdown",
   "id": "bd5f8c00",
   "metadata": {},
   "source": [
    "3. 参数设置 > 定时抓拍 > FTP时间间隔 （具体设置的值, 需要根据不同的场景确定）\n",
    "\n",
    "![](./images/cam-3.png)"
   ]
  },
  {
   "cell_type": "markdown",
   "id": "141cf97f",
   "metadata": {},
   "source": [
    "## 结构图"
   ]
  },
  {
   "cell_type": "markdown",
   "id": "60528375",
   "metadata": {},
   "source": [
    "```txt\n",
    "\n",
    "COS_DOMAIN: htpps://cosftpd-1301930378.cos.ap-beijing.myqcloud.com\n",
    "\n",
    "    ╭───────────╮\n",
    "    │           │                  ${COS_DOMAIN}/holyhand/008e9b61ac6c/20221104/images/P22110420294710.jpg\n",
    "    │  Camera   │                                        ╭─────────────╮\n",
    "    │    +ftp   │                              put       │             │\n",
    "    │           │                       ───────────────> │    COS      │\n",
    "    ╰───────────╯                      ╱                 │             │\n",
    "          │                           ╱                  ╰─────────────╯\n",
    "          │                          ╱                            ╭─────────────────────────────────────────────────────╮\n",
    "          ╰──╮                      ╱                             │{                                                    │\n",
    "             │                     ╱                              │   \"errno\": 0,                                       │\n",
    "             v                    ╱                               │   \"pigeon\": { \"msgkey\": \"seeocr_output\"},           │\n",
    "       ╔══════════════════╗      ╱                                |   \"ocr_res_json\": \"${COS_DOMAIN}/xxx/result.json\"   │\n",
    "       ║     CosFtpd      ║     ╱                                 │}                                                    │\n",
    "       ║            ╭─────╨──────╮                                ╰─────────────────────────────────────────────────────╯\n",
    "       ║            │ w  fifo  r │                                                 result\n",
    "       ║            ╰─────╥──────╯                               ╭──────────────╮                ╭────────────────╮\n",
    "       ╚══════════════════╝    │                                 │              │<───────────────│                │\n",
    "                               │                            ╭───>│   Kafka      │                │    seeocr      │\n",
    "                               │          ╭───────────╮     │    │              │───────────────>│                │\n",
    "                               │ post     │           │─────╯    ╰──────────────╯                ╰────────────────╯\n",
    "                               ╰────────> │  业务SQL   │                ^          seeocr_input\n",
    "                                http      │           │                │\n",
    "                                          ╰───────────╯                ╰──────────────────────────────────╮\n",
    "                        /cosftpd/on_upload                                                                │\n",
    " _______________________________________________________________________________________________          │\n",
    "/\\                                                                                              \\         │\n",
    "\\_| {                                                                                           |         │\n",
    "  |     \"ftp_user\":\"holyhand\",                                                                  |         │\n",
    "  |     \"mac\":\"008e9b61ac6c\",                                                                   |         │\n",
    "  |     \"cos_url\":\"${COS_DOMAIN}/holyhand/008e9b61ac6c/20221104/images/P22110420294710.jpg\"     |         │\n",
    "  | }                                                                                           |         │\n",
    "  |   __________________________________________________________________________________________|_        │\n",
    "   \\_/____________________________________________________________________________________________/       │\n",
    "                                                                                                          │\n",
    "                _______________________________________________________________________________________________\n",
    "               /\\                                                                                              \\\n",
    "               \\_|                                                                                             |\n",
    "                 | {                                                                                           |\n",
    "                 |     \"cfg\":{                                                                                 |\n",
    "                 |         \"pigeon\":{                                                                          |\n",
    "                 |             \"msgkey\":\"seeocr_output\"                                                        |\n",
    "                 |         },                                                                                  |\n",
    "                 |         \"source\":\"${COS_DOMAIN}/holyhand/008e9b61ac6c/20221104/images/P22110420294710.jpg\", |\n",
    "                 |         \"devmode\": false,                                                                   |\n",
    "                 |         \"ocr_keys\":[ \"产品型号\", \"生产人数\"],                                                  |\n",
    "                 |         \"det_max_side_len\":800,                                                             |\n",
    "                 |         \"det_thresh\":0.3,                                                                   |\n",
    "                 |         \"det_box_trhesh\":0.6,                                                               |\n",
    "                 |         \"det_unclip_ratio\":1.5,                                                             |\n",
    "                 |         \"rec_batch_num\":6,                                                                  |\n",
    "                 |         \"rec_image_shape\":[3, 48, 320],                                                     |\n",
    "                 |         \"process_code\":\"\"                                                                   |\n",
    "                 |     }                                                                                       |\n",
    "                 | }                                                                                           |\n",
    "                 |   __________________________________________________________________________________________|_\n",
    "                  \\_/____________________________________________________________________________________________/\n",
    "\n",
    "```\n"
   ]
  },
  {
   "cell_type": "markdown",
   "id": "1644be9c",
   "metadata": {},
   "source": [
    "## 接口"
   ]
  },
  {
   "cell_type": "markdown",
   "id": "d569f08e",
   "metadata": {},
   "source": [
    "### 摄像头抓拍图片接口 `/cosftpd/on_upload`\n",
    "\n",
    "```json\n",
    "{                                                                                                                                        \n",
    "    \"ftp_user\":\"holyhand\",    // FTP用户名（可用来表示不同的工厂）                                                                                                            \n",
    "    \"mac\":\"008e9b61ac6c\",     // 摄像头的MAC地址                                                                                                           \n",
    "    \"cos_url\":\"https://cosftpd-1301930378.cos.ap-beijing.myqcloud.com/holyhand/008e9b61ac6c/20221104/images/P22110420294710.jpg\"  // 抓拍上传到COS的地址        \n",
    "}                                                                                                                                        \n",
    "```"
   ]
  },
  {
   "cell_type": "markdown",
   "id": "c4015de0",
   "metadata": {},
   "source": [
    "### 执行OCR文字识别接口 `Kafka: seeocr_input`\n",
    "\n",
    "1. 输入\n",
    "\n",
    "```json\n",
    "{\n",
    "    \"cfg\":{\n",
    "        \"pigeon\":{  // 服务器可以用pigeon携带自己的信息，算法返回信息里会携带pigeon信息（给服务器）。\n",
    "            \"msgkey\":\"seeocr_output\"  // 算法执行结果返回结果到Kafka队列Topic:seeocr_output (默认）\n",
    "        },\n",
    "        \"source\":\"https://cosftpd-1301930378.cos.ap-beijing.myqcloud.com/holyhand/008e9b61ac6c/20221104/images/P22110420294710.jpg\", // 图片地址\n",
    "        \"devmode\": false,  // 是否启动调试\n",
    "        \"ocr_keys\":[ \"产品型号\", \"生产人数\"],  // 数组，指定需要识别的哪些文字\n",
    "        \"det_max_side_len\":800,  // 正整数， 图片中文字最长边长\n",
    "        \"det_thresh\":0.3,        // 浮点型，图片文字探测的判定阈值\n",
    "        \"det_box_trhesh\":0.6,    // 浮点型，Box的判定阈值\n",
    "        \"det_unclip_ratio\":1.5,  // 浮点型\n",
    "        \"rec_batch_num\":6,       // 正整数\n",
    "        \"rec_image_shape\":[3, 48, 320],  // 大小为3的数组（正整数）\n",
    "        \"process_code\":\"\"        // 字符串，插入的python 代码，纠正结果。\n",
    "    }\n",
    "}\n",
    "```\n",
    "-------------\n",
    "\n",
    "2. 输出\n",
    "\n",
    "```json\n",
    "{\n",
    "    \"errno\": 0,  // 结果码\n",
    "    \"pigeon\": {\n",
    "        \"msgkey\": \"seeocr_output\"\n",
    "    },  // 返回服务器传来的pigeon\n",
    "    \"progress\": 100,\n",
    "    \"ocr_res_json\": \"${COS_DOMAIN}/xxx/result.json\" // ocr结果存放的地址\n",
    "}\n",
    "```\n",
    "3. 结果result\n",
    "\n",
    "```json\n",
    "{\n",
    "    \"产品型号\": \"ABdhivm6KM\",\n",
    "    \"生产人数\": \"3人\",\n",
    "    \"线别\": \"2FhB\",\n",
    "    \"标准节拍\": \"100S/PCS\",\n",
    "    \"生产时间\": \"15时37分\",\n",
    "    \"实际节拍\": \"0S/PCS\",\n",
    "    \"计划产量\": \"1234PCS\",\n",
    "    \"实际产量\": \"128PCS\",\n",
    "    \"不良率\": \"36.7%\",\n",
    "    \"完成率\": \"10.3%\"\n",
    "}\n",
    "```"
   ]
  }
 ],
 "metadata": {
  "hide_input": false,
  "kernelspec": {
   "display_name": "Python 3 (ipykernel)",
   "language": "python",
   "name": "python3"
  },
  "language_info": {
   "codemirror_mode": {
    "name": "ipython",
    "version": 3
   },
   "file_extension": ".py",
   "mimetype": "text/x-python",
   "name": "python",
   "nbconvert_exporter": "python",
   "pygments_lexer": "ipython3",
   "version": "3.7.13"
  },
  "toc": {
   "base_numbering": 1,
   "nav_menu": {},
   "number_sections": true,
   "sideBar": false,
   "skip_h1_title": true,
   "title_cell": "Contents",
   "title_sidebar": "Contents",
   "toc_cell": false,
   "toc_position": {
    "height": "336px",
    "left": "1455px",
    "top": "90px",
    "width": "378.797px"
   },
   "toc_section_display": true,
   "toc_window_display": true
  }
 },
 "nbformat": 4,
 "nbformat_minor": 5
}
