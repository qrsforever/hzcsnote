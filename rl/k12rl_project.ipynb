{
 "cells": [
  {
   "cell_type": "code",
   "execution_count": null,
   "metadata": {},
   "outputs": [],
   "source": [
    "%reload_ext autoreload\n",
    "%autoreload 2"
   ]
  },
  {
   "cell_type": "code",
   "execution_count": null,
   "metadata": {},
   "outputs": [],
   "source": [
    "from k12libs.utils.nb_easy import k12ai_run_project"
   ]
  },
  {
   "cell_type": "code",
   "execution_count": null,
   "metadata": {},
   "outputs": [],
   "source": [
    "project = k12ai_run_project(framework='k12rl', lan='cn', debug=False)"
   ]
  },
  {
   "cell_type": "markdown",
   "metadata": {},
   "source": [
    "## RL训练过程数据\n",
    "\n",
    "```\n",
    "{\n",
    "    \"status\": {\n",
    "        \"version\": \"0.1.0\",\n",
    "        \"type\": \"status\",\n",
    "        \"user\": \"16601548608\",\n",
    "        \"op\": \"train.start\",\n",
    "        \"service_name\": \"k12rl\",\n",
    "        \"service_uuid\": \"3\",\n",
    "        \"timestamp\": 1580730501870,\n",
    "        \"datetime\": \"20200203194821\",\n",
    "        \"data\": {\n",
    "            \"value\": \"running\"\n",
    "        }\n",
    "    },\n",
    "    \"error\": {},\n",
    "    \"metrics\": {\n",
    "        \"version\": \"0.1.0\",\n",
    "        \"type\": \"metrics\",\n",
    "        \"user\": \"16601548608\",\n",
    "        \"op\": \"train.start\",\n",
    "        \"service_name\": \"k12rl\",\n",
    "        \"service_uuid\": \"3\",\n",
    "        \"timestamp\": 1580730629876,\n",
    "        \"datetime\": \"20200203195029\",\n",
    "        \"data\": {\n",
    "            \"training_iters\": 107,\n",
    "            \"training_progress\": 0.3567,\n",
    "            \"training_speed\": 468.0059,\n",
    "            \"training_score\": -20.285714285714285,\n",
    "            \"training_loss\": 0.010730602775472184\n",
    "        }\n",
    "    }\n",
    "}\n",
    "```"
   ]
  },
  {
   "cell_type": "markdown",
   "metadata": {},
   "source": [
    "## RL评估过程数据\n",
    "\n",
    "```json\n",
    "{\n",
    "    \"status\": {\n",
    "        \"version\": \"0.1.0\",\n",
    "        \"type\": \"status\",\n",
    "        \"user\": \"16601548608\",\n",
    "        \"op\": \"evaluate.start\",\n",
    "        \"service_name\": \"k12rl\",\n",
    "        \"service_uuid\": \"3\",\n",
    "        \"timestamp\": 1580731564067,\n",
    "        \"datetime\": \"20200203200604\",\n",
    "        \"data\": {\n",
    "            \"value\": \"exit\",\n",
    "            \"way\": \"finish\"\n",
    "        }\n",
    "    },\n",
    "    \"error\": {},\n",
    "    \"metrics\": {\n",
    "        \"version\": \"0.1.0\",\n",
    "        \"type\": \"metrics\",\n",
    "        \"user\": \"16601548608\",\n",
    "        \"op\": \"evaluate.start\",\n",
    "        \"service_name\": \"k12rl\",\n",
    "        \"service_uuid\": \"3\",\n",
    "        \"timestamp\": 1580731563999,\n",
    "        \"datetime\": \"20200203200603\",\n",
    "        \"data\": {\n",
    "            \"evaluate_score\": -20.14,\n",
    "            \"evaluate_progress\": 1.0\n",
    "        }\n",
    "    }\n",
    "}\n",
    "```"
   ]
  },
  {
   "cell_type": "code",
   "execution_count": null,
   "metadata": {},
   "outputs": [],
   "source": []
  }
 ],
 "metadata": {
  "kernelspec": {
   "display_name": "Python 3",
   "language": "python",
   "name": "python3"
  },
  "language_info": {
   "codemirror_mode": {
    "name": "ipython",
    "version": 3
   },
   "file_extension": ".py",
   "mimetype": "text/x-python",
   "name": "python",
   "nbconvert_exporter": "python",
   "pygments_lexer": "ipython3",
   "version": "3.6.9"
  }
 },
 "nbformat": 4,
 "nbformat_minor": 4
}
