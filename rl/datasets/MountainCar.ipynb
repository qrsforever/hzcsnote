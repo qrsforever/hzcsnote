{
 "cells": [
  {
   "cell_type": "code",
   "execution_count": 14,
   "metadata": {
    "ExecuteTime": {
     "end_time": "2020-04-12T08:31:50.088914Z",
     "start_time": "2020-04-12T08:31:50.083837Z"
    }
   },
   "outputs": [],
   "source": [
    "import gym\n",
    "import numpy as np\n",
    "import math\n",
    "from gym import wrappers"
   ]
  },
  {
   "cell_type": "code",
   "execution_count": 2,
   "metadata": {
    "ExecuteTime": {
     "end_time": "2020-04-12T08:25:36.420452Z",
     "start_time": "2020-04-12T08:25:36.415443Z"
    }
   },
   "outputs": [],
   "source": [
    "MAX_STEPS = 20\n",
    "game = 'MountainCar-v0'\n",
    "path = f'/tmp/gym-{game}'"
   ]
  },
  {
   "cell_type": "markdown",
   "metadata": {},
   "source": [
    "## Random Agent"
   ]
  },
  {
   "cell_type": "code",
   "execution_count": 9,
   "metadata": {
    "ExecuteTime": {
     "end_time": "2020-04-12T08:27:57.201634Z",
     "start_time": "2020-04-12T08:27:56.509563Z"
    }
   },
   "outputs": [
    {
     "name": "stdout",
     "output_type": "stream",
     "text": [
      "199\n",
      "Final score: -200.0\n"
     ]
    }
   ],
   "source": [
    "env = gym.make(game)\n",
    "env.seed(505)\n",
    "\n",
    "state = env.reset()\n",
    "score = 0\n",
    "for t in range(201):\n",
    "    action = env.action_space.sample()\n",
    "    env.render()\n",
    "    state, reward, done, _ = env.step(action)\n",
    "    score += reward\n",
    "    if done:\n",
    "        print(t)\n",
    "        break \n",
    "print('Final score:', score)\n",
    "env.close()"
   ]
  },
  {
   "cell_type": "markdown",
   "metadata": {},
   "source": [
    "### State Space"
   ]
  },
  {
   "cell_type": "code",
   "execution_count": 16,
   "metadata": {
    "ExecuteTime": {
     "end_time": "2020-04-12T08:32:49.560892Z",
     "start_time": "2020-04-12T08:32:49.542359Z"
    }
   },
   "outputs": [
    {
     "name": "stdout",
     "output_type": "stream",
     "text": [
      "State space: Box(2,)\n",
      "- low: [-1.2  -0.07]\n",
      "- high: [0.6  0.07]\n",
      "State space samples:\n",
      "[[ 0.5967834   0.02457009]\n",
      " [-0.9383424  -0.02955712]\n",
      " [-0.5799149   0.04439636]\n",
      " [ 0.4104168  -0.01634902]\n",
      " [ 0.30420193  0.02988487]\n",
      " [ 0.3287246  -0.01561117]\n",
      " [-0.49031678 -0.02326088]\n",
      " [-1.1635295  -0.00634623]\n",
      " [-0.03747315 -0.06542519]\n",
      " [-0.5403866  -0.01406195]]\n"
     ]
    }
   ],
   "source": [
    "print(\"State space:\", env.observation_space)\n",
    "print(\"- low:\", env.observation_space.low)\n",
    "print(\"- high:\", env.observation_space.high)\n",
    "print(\"State space samples:\")\n",
    "print(np.array([env.observation_space.sample() for i in range(10)]))"
   ]
  },
  {
   "cell_type": "markdown",
   "metadata": {},
   "source": [
    "### Action Space"
   ]
  },
  {
   "cell_type": "code",
   "execution_count": 18,
   "metadata": {
    "ExecuteTime": {
     "end_time": "2020-04-12T08:33:13.264411Z",
     "start_time": "2020-04-12T08:33:13.253669Z"
    }
   },
   "outputs": [
    {
     "name": "stdout",
     "output_type": "stream",
     "text": [
      "Action space: Discrete(3)\n",
      "Action space samples:\n",
      "[2 1 1 2 2 1 0 1 0 0]\n"
     ]
    }
   ],
   "source": [
    "print(\"Action space:\", env.action_space)\n",
    "print(\"Action space samples:\")\n",
    "print(np.array([env.action_space.sample() for i in range(10)]))"
   ]
  },
  {
   "cell_type": "markdown",
   "metadata": {},
   "source": [
    "### Discretize the State Space with a Uniform Grid"
   ]
  },
  {
   "cell_type": "markdown",
   "metadata": {},
   "source": [
    "[Q-Learning: MountainCar-V0](https://github.com/pchandra90/mountainCar-v0/blob/master/mountainCar-v0.ipynb)\n",
    "\n",
    "[Q-Learning: diviing](https://www.freecodecamp.org/news/diving-deeper-into-reinforcement-learning-with-q-learning-c18d0db58efe/)"
   ]
  },
  {
   "cell_type": "code",
   "execution_count": null,
   "metadata": {},
   "outputs": [],
   "source": []
  }
 ],
 "metadata": {
  "kernelspec": {
   "display_name": "Python 3",
   "language": "python",
   "name": "python3"
  },
  "language_info": {
   "codemirror_mode": {
    "name": "ipython",
    "version": 3
   },
   "file_extension": ".py",
   "mimetype": "text/x-python",
   "name": "python",
   "nbconvert_exporter": "python",
   "pygments_lexer": "ipython3",
   "version": "3.6.9"
  }
 },
 "nbformat": 4,
 "nbformat_minor": 4
}
