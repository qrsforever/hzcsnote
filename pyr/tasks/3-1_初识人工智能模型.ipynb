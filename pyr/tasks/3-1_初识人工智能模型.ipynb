{
 "cells": [
  {
   "cell_type": "code",
   "execution_count": 1,
   "metadata": {
    "ExecuteTime": {
     "end_time": "2020-09-01T08:10:42.648863Z",
     "start_time": "2020-09-01T08:10:41.484010Z"
    },
    "hide_input": true
   },
   "outputs": [],
   "source": [
    "%reload_ext autoreload\n",
    "%autoreload 2\n",
    "\n",
    "! [ -L /datasets ] && rm -f /datasets\n",
    "! ln -s /data/datasets/cv /datasets"
   ]
  },
  {
   "cell_type": "markdown",
   "metadata": {},
   "source": [
    "## 需掌握知识点\n",
    "\n",
    "1. 输入层与输出层\n",
    "- 降维（Flatten）层\n",
    "- 线性组合（Linear）层"
   ]
  },
  {
   "cell_type": "code",
   "execution_count": 4,
   "metadata": {
    "ExecuteTime": {
     "end_time": "2020-09-01T09:52:43.126827Z",
     "start_time": "2020-09-01T09:52:34.925067Z"
    },
    "scrolled": false
   },
   "outputs": [
    {
     "name": "stderr",
     "output_type": "stream",
     "text": [
      "GPU available: True, used: True\n",
      "TPU available: False, using: 0 TPU cores\n",
      "CUDA_VISIBLE_DEVICES: [0]\n"
     ]
    },
    {
     "name": "stdout",
     "output_type": "stream",
     "text": [
      "--------------------------------------------------------------------------------\n",
      "{'classes': ['normal', 'covid'],\n",
      " 'mean': [0.4857, 0.4854, 0.4882],\n",
      " 'records': 402,\n",
      " 'std': [0.2438, 0.2433, 0.2442]}\n",
      "--------------------------------------------------------------------------------\n",
      "\n",
      "--------------------------------------------------------------------------------\n",
      "\n",
      "  | Name                   | Type        | Params\n",
      "-------------------------------------------------------\n",
      "0 | model                  | FCNetwork   | 7 M   \n",
      "1 | model.fc_net           | Sequential  | 7 M   \n",
      "2 | model.fc_net.batchnorm | BatchNorm2d | 6     \n",
      "3 | model.fc_net.flatten   | Flatten     | 0     \n",
      "4 | model.fc_net.linear1   | Linear      | 7 M   \n",
      "5 | model.fc_net.linear2   | Linear      | 102   \n",
      "\n",
      "--------------------------------------------------------------------------------\n"
     ]
    },
    {
     "data": {
      "application/vnd.jupyter.widget-view+json": {
       "model_id": "9adda01d7906488aafdee231bdd6c3bb",
       "version_major": 2,
       "version_minor": 0
      },
      "text/plain": [
       "HBox(children=(FloatProgress(value=1.0, bar_style='info', description='Training', layout=Layout(flex='2'), max…"
      ]
     },
     "metadata": {},
     "output_type": "display_data"
    },
    {
     "name": "stderr",
     "output_type": "stream",
     "text": [
      "Saving latest checkpoint..\n"
     ]
    },
    {
     "name": "stdout",
     "output_type": "stream",
     "text": [
      "\n"
     ]
    }
   ],
   "source": [
    "from pyr.app.k12ai import EasyaiClassifier, EasyaiTrainer\n",
    "import torch\n",
    "from torch import nn\n",
    "\n",
    "class CustomClassifier(EasyaiClassifier):\n",
    "\n",
    "    def prepare_dataset(self):\n",
    "        \"\"\"\n",
    "        chestxray: 2个分类\n",
    "            0: 'normal' 正常\n",
    "            1: 'covid', 新冠\n",
    "        \"\"\"\n",
    "        return self.load_chestxray()\n",
    "    \n",
    "    def build_model(self):\n",
    "        class FCNetwork(nn.Module):\n",
    "            def __init__(self,):\n",
    "                super().__init__()\n",
    "                self.fc_net = nn.Sequential()\n",
    "                self.fc_net.add_module('batchnorm', nn.BatchNorm2d(num_features=3, momentum=0.1))\n",
    "                self.fc_net.add_module('flatten', nn.Flatten(start_dim=1, end_dim=-1))\n",
    "                self.fc_net.add_module('linear1', nn.Linear(in_features=150528, out_features=50, bias=True))\n",
    "                self.fc_net.add_module('linear2', nn.Linear(in_features=50, out_features=2, bias=True))\n",
    "      \n",
    "            def forward(self, x):\n",
    "                return self.fc_net(x)\n",
    "        return FCNetwork()\n",
    "    \n",
    "    def train_dataloader(self):\n",
    "        return self.get_dataloader(phase='train', input_size=224, batch_size=32)\n",
    "     \n",
    "    def training_step(self, batch, batch_idx):\n",
    "        x, y, _ = batch\n",
    "        y_hat = self(x)\n",
    "        loss = self.cross_entropy(y_hat, y, reduction='mean') # 损失方法\n",
    "        with torch.no_grad():\n",
    "            accuracy = (torch.argmax(y_hat, axis=1) == y).float().mean()\n",
    "        return {'loss': loss, 'progress_bar': {'acc': accuracy}}\n",
    "\n",
    "    def val_dataloader(self):\n",
    "        return self.get_dataloader(phase='val', input_size=224, batch_size=32)\n",
    "    \n",
    "    def validation_step(self, batch, batch_idx):\n",
    "        x, y, _ = batch\n",
    "        y_hat = self(x)\n",
    "        loss = self.cross_entropy(y_hat, y, reduction='mean')\n",
    "        accuracy = (torch.argmax(y_hat, axis=1) == y).float().mean()\n",
    "        return {'loss': loss, 'acc': accuracy}\n",
    "        \n",
    "    def validation_epoch_end(self, outputs):\n",
    "        avg_loss = torch.stack([x['loss'] for x in outputs]).mean()\n",
    "        avg_acc = torch.stack([x['acc'] for x in outputs]).mean()\n",
    "        return {'progress_bar': {'val_loss': avg_loss, 'val_acc': avg_acc}}\n",
    "    \n",
    "    def test_dataloader(self):\n",
    "        return self.get_dataloader(phase='test', input_size=224, batch_size=32)\n",
    "    \n",
    "    \n",
    "trainer = EasyaiTrainer(max_epochs=5, model_summary='full')\n",
    "\n",
    "model = CustomClassifier()\n",
    "\n",
    "# 训练\n",
    "trainer.fit(model);"
   ]
  }
 ],
 "metadata": {
  "kernelspec": {
   "display_name": "Python 3",
   "language": "python",
   "name": "python3"
  },
  "language_info": {
   "codemirror_mode": {
    "name": "ipython",
    "version": 3
   },
   "file_extension": ".py",
   "mimetype": "text/x-python",
   "name": "python",
   "nbconvert_exporter": "python",
   "pygments_lexer": "ipython3",
   "version": "3.6.9"
  },
  "toc": {
   "base_numbering": 1,
   "nav_menu": {},
   "number_sections": true,
   "sideBar": true,
   "skip_h1_title": true,
   "title_cell": "",
   "title_sidebar": "Contents",
   "toc_cell": false,
   "toc_position": {},
   "toc_section_display": true,
   "toc_window_display": false
  }
 },
 "nbformat": 4,
 "nbformat_minor": 4
}
