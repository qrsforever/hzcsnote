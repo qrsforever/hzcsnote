{
 "cells": [
  {
   "cell_type": "code",
   "execution_count": 1,
   "metadata": {
    "ExecuteTime": {
     "end_time": "2020-09-11T12:14:35.836053Z",
     "start_time": "2020-09-11T12:14:33.583123Z"
    },
    "hide_input": true,
    "scrolled": true
   },
   "outputs": [
    {
     "data": {
      "text/html": [
       "<style>.container { width:95% !important; }</style>"
      ],
      "text/plain": [
       "<IPython.core.display.HTML object>"
      ]
     },
     "metadata": {},
     "output_type": "display_data"
    }
   ],
   "source": [
    "%reload_ext autoreload\n",
    "%autoreload 2\n",
    "\n",
    "! [ ! -L /datasets ] && ln -s /data/datasets /datasets\n",
    "\n",
    "from k12libs.utils.nb_easy import k12ai_set_notebook\n",
    "\n",
    "k12ai_set_notebook(cellw=95)"
   ]
  },
  {
   "cell_type": "markdown",
   "metadata": {},
   "source": [
    "## 需掌握知识点\n",
    "\n",
    "1. resnet18模型思想"
   ]
  },
  {
   "cell_type": "code",
   "execution_count": 2,
   "metadata": {
    "ExecuteTime": {
     "end_time": "2020-09-11T12:14:53.101044Z",
     "start_time": "2020-09-11T12:14:35.840242Z"
    },
    "scrolled": false
   },
   "outputs": [
    {
     "name": "stderr",
     "output_type": "stream",
     "text": [
      "GPU available: True, used: True\n",
      "TPU available: False, using: 0 TPU cores\n",
      "CUDA_VISIBLE_DEVICES: [0]\n"
     ]
    },
    {
     "name": "stdout",
     "output_type": "stream",
     "text": [
      "--------------------------------------------------------------------------------\n",
      "{'label_names': ['salviasplendens',\n",
      "                 'daffodil',\n",
      "                 'snowdrop',\n",
      "                 'lilyvalley',\n",
      "                 'bluebell',\n",
      "                 'crocus',\n",
      "                 'iris',\n",
      "                 'tigerlily',\n",
      "                 'tulip',\n",
      "                 'fritillary',\n",
      "                 'sunflower',\n",
      "                 'daisy',\n",
      "                 'coltsfoot',\n",
      "                 'dandelion',\n",
      "                 'cowslip',\n",
      "                 'buttercup',\n",
      "                 'windflower',\n",
      "                 'pansy',\n",
      "                 'coxcomb',\n",
      "                 'flamingo',\n",
      "                 'lily',\n",
      "                 'lotus'],\n",
      " 'mean': [0.4623, 0.4305, 0.295],\n",
      " 'num_classes': 22,\n",
      " 'num_records': 1760,\n",
      " 'std': [0.252, 0.2242, 0.2091]}\n",
      "\n",
      "--------------------------------------------------------------------------------\n",
      "\n",
      "   | Name                        | Type              | Params | In sizes           | Out sizes         \n",
      "-------------------------------------------------------------------------------------------------------------\n",
      "0  | model                       | ResNet            | 11 M   | [32, 3, 224, 224]  | [32, 22]          \n",
      "1  | model.conv1                 | Conv2d            | 9 K    | [32, 3, 224, 224]  | [32, 64, 112, 112]\n",
      "2  | model.bn1                   | BatchNorm2d       | 128    | [32, 64, 112, 112] | [32, 64, 112, 112]\n",
      "3  | model.relu                  | ReLU              | 0      | [32, 64, 112, 112] | [32, 64, 112, 112]\n",
      "4  | model.maxpool               | MaxPool2d         | 0      | [32, 64, 112, 112] | [32, 64, 56, 56]  \n",
      "5  | model.layer1                | Sequential        | 147 K  | [32, 64, 56, 56]   | [32, 64, 56, 56]  \n",
      "6  | model.layer1.0              | BasicBlock        | 73 K   | [32, 64, 56, 56]   | [32, 64, 56, 56]  \n",
      "7  | model.layer1.0.conv1        | Conv2d            | 36 K   | [32, 64, 56, 56]   | [32, 64, 56, 56]  \n",
      "8  | model.layer1.0.bn1          | BatchNorm2d       | 128    | [32, 64, 56, 56]   | [32, 64, 56, 56]  \n",
      "9  | model.layer1.0.relu         | ReLU              | 0      | [32, 64, 56, 56]   | [32, 64, 56, 56]  \n",
      "10 | model.layer1.0.conv2        | Conv2d            | 36 K   | [32, 64, 56, 56]   | [32, 64, 56, 56]  \n",
      "11 | model.layer1.0.bn2          | BatchNorm2d       | 128    | [32, 64, 56, 56]   | [32, 64, 56, 56]  \n",
      "12 | model.layer1.1              | BasicBlock        | 73 K   | [32, 64, 56, 56]   | [32, 64, 56, 56]  \n",
      "13 | model.layer1.1.conv1        | Conv2d            | 36 K   | [32, 64, 56, 56]   | [32, 64, 56, 56]  \n",
      "14 | model.layer1.1.bn1          | BatchNorm2d       | 128    | [32, 64, 56, 56]   | [32, 64, 56, 56]  \n",
      "15 | model.layer1.1.relu         | ReLU              | 0      | [32, 64, 56, 56]   | [32, 64, 56, 56]  \n",
      "16 | model.layer1.1.conv2        | Conv2d            | 36 K   | [32, 64, 56, 56]   | [32, 64, 56, 56]  \n",
      "17 | model.layer1.1.bn2          | BatchNorm2d       | 128    | [32, 64, 56, 56]   | [32, 64, 56, 56]  \n",
      "18 | model.layer2                | Sequential        | 525 K  | [32, 64, 56, 56]   | [32, 128, 28, 28] \n",
      "19 | model.layer2.0              | BasicBlock        | 230 K  | [32, 64, 56, 56]   | [32, 128, 28, 28] \n",
      "20 | model.layer2.0.conv1        | Conv2d            | 73 K   | [32, 64, 56, 56]   | [32, 128, 28, 28] \n",
      "21 | model.layer2.0.bn1          | BatchNorm2d       | 256    | [32, 128, 28, 28]  | [32, 128, 28, 28] \n",
      "22 | model.layer2.0.relu         | ReLU              | 0      | [32, 128, 28, 28]  | [32, 128, 28, 28] \n",
      "23 | model.layer2.0.conv2        | Conv2d            | 147 K  | [32, 128, 28, 28]  | [32, 128, 28, 28] \n",
      "24 | model.layer2.0.bn2          | BatchNorm2d       | 256    | [32, 128, 28, 28]  | [32, 128, 28, 28] \n",
      "25 | model.layer2.0.downsample   | Sequential        | 8 K    | [32, 64, 56, 56]   | [32, 128, 28, 28] \n",
      "26 | model.layer2.0.downsample.0 | Conv2d            | 8 K    | [32, 64, 56, 56]   | [32, 128, 28, 28] \n",
      "27 | model.layer2.0.downsample.1 | BatchNorm2d       | 256    | [32, 128, 28, 28]  | [32, 128, 28, 28] \n",
      "28 | model.layer2.1              | BasicBlock        | 295 K  | [32, 128, 28, 28]  | [32, 128, 28, 28] \n",
      "29 | model.layer2.1.conv1        | Conv2d            | 147 K  | [32, 128, 28, 28]  | [32, 128, 28, 28] \n",
      "30 | model.layer2.1.bn1          | BatchNorm2d       | 256    | [32, 128, 28, 28]  | [32, 128, 28, 28] \n",
      "31 | model.layer2.1.relu         | ReLU              | 0      | [32, 128, 28, 28]  | [32, 128, 28, 28] \n",
      "32 | model.layer2.1.conv2        | Conv2d            | 147 K  | [32, 128, 28, 28]  | [32, 128, 28, 28] \n",
      "33 | model.layer2.1.bn2          | BatchNorm2d       | 256    | [32, 128, 28, 28]  | [32, 128, 28, 28] \n",
      "34 | model.layer3                | Sequential        | 2 M    | [32, 128, 28, 28]  | [32, 256, 14, 14] \n",
      "35 | model.layer3.0              | BasicBlock        | 919 K  | [32, 128, 28, 28]  | [32, 256, 14, 14] \n",
      "36 | model.layer3.0.conv1        | Conv2d            | 294 K  | [32, 128, 28, 28]  | [32, 256, 14, 14] \n",
      "37 | model.layer3.0.bn1          | BatchNorm2d       | 512    | [32, 256, 14, 14]  | [32, 256, 14, 14] \n",
      "38 | model.layer3.0.relu         | ReLU              | 0      | [32, 256, 14, 14]  | [32, 256, 14, 14] \n",
      "39 | model.layer3.0.conv2        | Conv2d            | 589 K  | [32, 256, 14, 14]  | [32, 256, 14, 14] \n",
      "40 | model.layer3.0.bn2          | BatchNorm2d       | 512    | [32, 256, 14, 14]  | [32, 256, 14, 14] \n",
      "41 | model.layer3.0.downsample   | Sequential        | 33 K   | [32, 128, 28, 28]  | [32, 256, 14, 14] \n",
      "42 | model.layer3.0.downsample.0 | Conv2d            | 32 K   | [32, 128, 28, 28]  | [32, 256, 14, 14] \n",
      "43 | model.layer3.0.downsample.1 | BatchNorm2d       | 512    | [32, 256, 14, 14]  | [32, 256, 14, 14] \n",
      "44 | model.layer3.1              | BasicBlock        | 1 M    | [32, 256, 14, 14]  | [32, 256, 14, 14] \n",
      "45 | model.layer3.1.conv1        | Conv2d            | 589 K  | [32, 256, 14, 14]  | [32, 256, 14, 14] \n",
      "46 | model.layer3.1.bn1          | BatchNorm2d       | 512    | [32, 256, 14, 14]  | [32, 256, 14, 14] \n",
      "47 | model.layer3.1.relu         | ReLU              | 0      | [32, 256, 14, 14]  | [32, 256, 14, 14] \n",
      "48 | model.layer3.1.conv2        | Conv2d            | 589 K  | [32, 256, 14, 14]  | [32, 256, 14, 14] \n",
      "49 | model.layer3.1.bn2          | BatchNorm2d       | 512    | [32, 256, 14, 14]  | [32, 256, 14, 14] \n",
      "50 | model.layer4                | Sequential        | 8 M    | [32, 256, 14, 14]  | [32, 512, 7, 7]   \n",
      "51 | model.layer4.0              | BasicBlock        | 3 M    | [32, 256, 14, 14]  | [32, 512, 7, 7]   \n",
      "52 | model.layer4.0.conv1        | Conv2d            | 1 M    | [32, 256, 14, 14]  | [32, 512, 7, 7]   \n",
      "53 | model.layer4.0.bn1          | BatchNorm2d       | 1 K    | [32, 512, 7, 7]    | [32, 512, 7, 7]   \n",
      "54 | model.layer4.0.relu         | ReLU              | 0      | [32, 512, 7, 7]    | [32, 512, 7, 7]   \n",
      "55 | model.layer4.0.conv2        | Conv2d            | 2 M    | [32, 512, 7, 7]    | [32, 512, 7, 7]   \n",
      "56 | model.layer4.0.bn2          | BatchNorm2d       | 1 K    | [32, 512, 7, 7]    | [32, 512, 7, 7]   \n",
      "57 | model.layer4.0.downsample   | Sequential        | 132 K  | [32, 256, 14, 14]  | [32, 512, 7, 7]   \n",
      "58 | model.layer4.0.downsample.0 | Conv2d            | 131 K  | [32, 256, 14, 14]  | [32, 512, 7, 7]   \n",
      "59 | model.layer4.0.downsample.1 | BatchNorm2d       | 1 K    | [32, 512, 7, 7]    | [32, 512, 7, 7]   \n",
      "60 | model.layer4.1              | BasicBlock        | 4 M    | [32, 512, 7, 7]    | [32, 512, 7, 7]   \n",
      "61 | model.layer4.1.conv1        | Conv2d            | 2 M    | [32, 512, 7, 7]    | [32, 512, 7, 7]   \n",
      "62 | model.layer4.1.bn1          | BatchNorm2d       | 1 K    | [32, 512, 7, 7]    | [32, 512, 7, 7]   \n",
      "63 | model.layer4.1.relu         | ReLU              | 0      | [32, 512, 7, 7]    | [32, 512, 7, 7]   \n",
      "64 | model.layer4.1.conv2        | Conv2d            | 2 M    | [32, 512, 7, 7]    | [32, 512, 7, 7]   \n",
      "65 | model.layer4.1.bn2          | BatchNorm2d       | 1 K    | [32, 512, 7, 7]    | [32, 512, 7, 7]   \n",
      "66 | model.avgpool               | AdaptiveAvgPool2d | 0      | [32, 512, 7, 7]    | [32, 512, 1, 1]   \n",
      "67 | model.fc                    | Linear            | 11 K   | [32, 512]          | [32, 22]          \n"
     ]
    },
    {
     "data": {
      "application/vnd.jupyter.widget-view+json": {
       "model_id": "b2b2d35cd5ff4f839a159066af6304f5",
       "version_major": 2,
       "version_minor": 0
      },
      "text/plain": [
       "HBox(children=(FloatProgress(value=1.0, bar_style='info', description='Training', layout=Layout(flex='2'), max…"
      ]
     },
     "metadata": {},
     "output_type": "display_data"
    },
    {
     "name": "stderr",
     "output_type": "stream",
     "text": [
      "Saving latest checkpoint..\n"
     ]
    },
    {
     "name": "stdout",
     "output_type": "stream",
     "text": [
      "\n",
      "(fit)\tGPU-0 memory allocated: 86.74 MB\t max memory allocated: 918.97 MB\n",
      "--------------------------------------------------------------------------------\n",
      "{'label_names': ['salviasplendens',\n",
      "                 'daffodil',\n",
      "                 'snowdrop',\n",
      "                 'lilyvalley',\n",
      "                 'bluebell',\n",
      "                 'crocus',\n",
      "                 'iris',\n",
      "                 'tigerlily',\n",
      "                 'tulip',\n",
      "                 'fritillary',\n",
      "                 'sunflower',\n",
      "                 'daisy',\n",
      "                 'coltsfoot',\n",
      "                 'dandelion',\n",
      "                 'cowslip',\n",
      "                 'buttercup',\n",
      "                 'windflower',\n",
      "                 'pansy',\n",
      "                 'coxcomb',\n",
      "                 'flamingo',\n",
      "                 'lily',\n",
      "                 'lotus'],\n",
      " 'mean': [0.4623, 0.4305, 0.295],\n",
      " 'num_classes': 22,\n",
      " 'num_records': 1760,\n",
      " 'std': [0.252, 0.2242, 0.2091]}\n"
     ]
    },
    {
     "data": {
      "application/vnd.jupyter.widget-view+json": {
       "model_id": "f6e5fc70109b4fdab4c77ff81a4fc35a",
       "version_major": 2,
       "version_minor": 0
      },
      "text/plain": [
       "HBox(children=(FloatProgress(value=1.0, bar_style='info', description='Testing', layout=Layout(flex='2'), max=…"
      ]
     },
     "metadata": {},
     "output_type": "display_data"
    },
    {
     "name": "stdout",
     "output_type": "stream",
     "text": [
      "\n",
      "(fit)\tGPU-0 memory allocated: 129.97 MB\t max memory allocated: 918.97 MB\n",
      "(test)\tGPU-0 memory allocated: 129.97 MB\t max memory allocated: 918.97 MB\n",
      "--------------------------------------------------------------------------------\n",
      "{'test_acc': 0.29511088132858276}\n",
      "--------------------------------------------------------------------------------\n"
     ]
    }
   ],
   "source": [
    "%reset -f\n",
    "\n",
    "from pyr.app.k12ai import EasyaiClassifier, EasyaiTrainer\n",
    "import torch\n",
    "from torch import nn\n",
    "from sklearn.metrics import confusion_matrix\n",
    "\n",
    "class CustomClassifier(EasyaiClassifier):\n",
    "    \n",
    "    def __init__(self):\n",
    "        super().__init__()\n",
    "        self.input_size = 224 # 输入模型的图片大小\n",
    "        self.output_size = 22 # 数据集分类数(模型输出)\n",
    "        self.batch_size = 32  # 输入模型的图片数量\n",
    "        \n",
    "        # 调试: 日志输出模型shape\n",
    "        self.example_input_array = torch.zeros(\n",
    "            self.batch_size, 3, self.input_size, self.input_size) \n",
    "\n",
    "    def prepare_dataset(self):\n",
    "        \"\"\"\n",
    "        flowers: 22个分类\n",
    "            0: 'salviasplendens' 鼠尾草\n",
    "            1: 'daffodil' 水仙花\n",
    "            2: 'snowdrop' 雪花莲\n",
    "            3: 'lilyvalley' 铃兰花\n",
    "            4: 'bluebell' 野风信子\n",
    "            5: 'crocus' 番红花\n",
    "            6: 'iris' 鸢尾花\n",
    "            7: 'tigerlily' 卷丹\n",
    "            8: 'tulip'  郁金香\n",
    "            9: 'fritillary' 豹纹蝶\n",
    "           10: 'sunflower' 向日葵\n",
    "           11: 'daisy' 雏菊\n",
    "           12: 'coltsfoot' 款冬\n",
    "           13: 'dandelion' 蒲公英\n",
    "           14: 'cowslip' 黄花九轮草\n",
    "           15: 'buttercup' 毛茛\n",
    "           16: 'windflower' 白头翁\n",
    "           17: 'pansy' 蝴蝶花\n",
    "           18: 'coxcomb'  鸡冠花\n",
    "           19: 'flamingo' 红鹤\n",
    "           20: 'lily'  百合花\n",
    "           21: 'lotus' 荷花\n",
    "        \"\"\"\n",
    "        return self.load_flowers()\n",
    "\n",
    "    def build_model(self):\n",
    "        return self.load_resnet18(num_classes=self.output_size, pretrained=False)\n",
    "    \n",
    "    def train_dataloader(self):\n",
    "        return self.get_dataloader('train', self.batch_size, self.input_size, normalize=True)\n",
    "     \n",
    "    def val_dataloader(self):\n",
    "        return self.get_dataloader('val', self.batch_size, self.input_size, normalize=True)\n",
    "    \n",
    "    def test_dataloader(self):\n",
    "        return self.get_dataloader('test', self.batch_size, self.input_size, normalize=True)\n",
    "    \n",
    "    def configure_optimizer(self, model):\n",
    "        \"\"\"\n",
    "        优化器:\n",
    "            adam: 利用梯度的一阶矩估计和二阶矩估计动态调整每个参数的学习率\n",
    "            sgd:\n",
    "        \"\"\"\n",
    "        # 优化算法\n",
    "        return self.adam(model.parameters(), base_lr=0.001, weight_decay=0.0001)\n",
    "    \n",
    "    def configure_scheduler(self, optimizer):\n",
    "        \"\"\"\n",
    "        学习率策略:\n",
    "            step_lr: 每step_size个epoch，lr会自动乘以gamma(lr = lr*gamma)\n",
    "            multistep_lr: 按照milestones里的值,阶段地修改学习率(lr = lr*gamma)\n",
    "            reduceon_lr: 监控val_loss的值, 如果在容忍patience值指定的epoch次数内没有减少, 则修改学习率(lr = lr*factor)\n",
    "        \"\"\"\n",
    "        return self.reduceon_lr(optimizer, factor=0.1, patience=4, min_lr=0.000001)\n",
    "    \n",
    "    \n",
    "trainer = EasyaiTrainer(\n",
    "    max_epochs=2,\n",
    "    log_lr=True,\n",
    "    model_summary='full',\n",
    "    early_stop={'monitor': 'val_acc', 'patience': 6, 'mode': 'max'},\n",
    "    ckpt_path='10-1')\n",
    "\n",
    "model = CustomClassifier()\n",
    "\n",
    "# 训练\n",
    "trainer.fit(model)\n",
    "\n",
    "# 评估\n",
    "trainer.test()"
   ]
  },
  {
   "cell_type": "code",
   "execution_count": 3,
   "metadata": {
    "ExecuteTime": {
     "end_time": "2020-09-11T12:14:55.012917Z",
     "start_time": "2020-09-11T12:14:53.104814Z"
    }
   },
   "outputs": [
    {
     "name": "stderr",
     "output_type": "stream",
     "text": [
      "GPU available: True, used: True\n",
      "TPU available: False, using: 0 TPU cores\n",
      "CUDA_VISIBLE_DEVICES: [0]\n"
     ]
    },
    {
     "name": "stdout",
     "output_type": "stream",
     "text": [
      "--------------------------------------------------------------------------------\n",
      "{'label_names': ['salviasplendens',\n",
      "                 'daffodil',\n",
      "                 'snowdrop',\n",
      "                 'lilyvalley',\n",
      "                 'bluebell',\n",
      "                 'crocus',\n",
      "                 'iris',\n",
      "                 'tigerlily',\n",
      "                 'tulip',\n",
      "                 'fritillary',\n",
      "                 'sunflower',\n",
      "                 'daisy',\n",
      "                 'coltsfoot',\n",
      "                 'dandelion',\n",
      "                 'cowslip',\n",
      "                 'buttercup',\n",
      "                 'windflower',\n",
      "                 'pansy',\n",
      "                 'coxcomb',\n",
      "                 'flamingo',\n",
      "                 'lily',\n",
      "                 'lotus'],\n",
      " 'mean': [0.4623, 0.4305, 0.295],\n",
      " 'num_classes': 22,\n",
      " 'num_records': 1760,\n",
      " 'std': [0.252, 0.2242, 0.2091]}\n"
     ]
    },
    {
     "data": {
      "application/vnd.jupyter.widget-view+json": {
       "model_id": "648fabc4c5664dc3b3a6e92cb7216ef0",
       "version_major": 2,
       "version_minor": 0
      },
      "text/plain": [
       "HBox(children=(FloatProgress(value=1.0, bar_style='info', description='Testing', layout=Layout(flex='2'), max=…"
      ]
     },
     "metadata": {},
     "output_type": "display_data"
    },
    {
     "name": "stdout",
     "output_type": "stream",
     "text": [
      "\n",
      "(fit)\tGPU-0 memory allocated: 259.44 MB\t max memory allocated: 918.97 MB\n",
      "(test)\tGPU-0 memory allocated: 259.44 MB\t max memory allocated: 918.97 MB\n",
      "--------------------------------------------------------------------------------\n",
      "{'test_acc': 0.29511088132858276}\n",
      "--------------------------------------------------------------------------------\n"
     ]
    }
   ],
   "source": [
    "# 使用checkpoint直接评估\n",
    "trainer = EasyaiTrainer(ckpt_path='10-1')\n",
    "trainer.test(CustomClassifier())"
   ]
  }
 ],
 "metadata": {
  "kernelspec": {
   "display_name": "Python 3",
   "language": "python",
   "name": "python3"
  },
  "language_info": {
   "codemirror_mode": {
    "name": "ipython",
    "version": 3
   },
   "file_extension": ".py",
   "mimetype": "text/x-python",
   "name": "python",
   "nbconvert_exporter": "python",
   "pygments_lexer": "ipython3",
   "version": "3.6.9"
  },
  "toc": {
   "base_numbering": 1,
   "nav_menu": {},
   "number_sections": true,
   "sideBar": true,
   "skip_h1_title": true,
   "title_cell": "",
   "title_sidebar": "Contents",
   "toc_cell": false,
   "toc_position": {},
   "toc_section_display": true,
   "toc_window_display": false
  }
 },
 "nbformat": 4,
 "nbformat_minor": 4
}
