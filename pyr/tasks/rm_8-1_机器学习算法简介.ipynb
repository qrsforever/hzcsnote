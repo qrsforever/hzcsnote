{
 "cells": [
  {
   "cell_type": "code",
   "execution_count": 16,
   "metadata": {
    "ExecuteTime": {
     "end_time": "2020-09-11T10:30:40.144622Z",
     "start_time": "2020-09-11T10:30:38.890639Z"
    },
    "hide_input": true,
    "scrolled": true
   },
   "outputs": [
    {
     "data": {
      "text/html": [
       "<style>.container { width:95% !important; }</style>"
      ],
      "text/plain": [
       "<IPython.core.display.HTML object>"
      ]
     },
     "metadata": {},
     "output_type": "display_data"
    }
   ],
   "source": [
    "%reload_ext autoreload\n",
    "%autoreload 2\n",
    "\n",
    "! [ -L /datasets ] && rm -f /datasets\n",
    "! ln -s /data/datasets/ /datasets\n",
    "\n",
    "from k12libs.utils.nb_easy import k12ai_set_notebook\n",
    "\n",
    "k12ai_set_notebook(cellw=95)"
   ]
  },
  {
   "cell_type": "markdown",
   "metadata": {},
   "source": [
    "## 需掌握知识点\n",
    "\n",
    "KNN, 决策树，随即森林，集成学习等算法原理介绍"
   ]
  },
  {
   "cell_type": "code",
   "execution_count": 59,
   "metadata": {
    "ExecuteTime": {
     "end_time": "2020-09-11T12:17:49.572018Z",
     "start_time": "2020-09-11T12:17:48.983740Z"
    },
    "scrolled": false
   },
   "outputs": [
    {
     "name": "stdout",
     "output_type": "stream",
     "text": [
      "正确率:\n",
      "0.7873134328358209\n",
      "混淆矩阵:\n",
      "[[136  36]\n",
      " [ 21  75]]\n",
      "预测结果:\n",
      "[1 0]\n"
     ]
    }
   ],
   "source": [
    "%reset -f\n",
    "\n",
    "import numpy as np\n",
    "from pyr.app.k12ai import EasyaiClassifier, EasyaiTrainer\n",
    "from sklearn.neighbors import KNeighborsClassifier\n",
    "from sklearn.metrics import accuracy_score, confusion_matrix\n",
    "\n",
    "class CustomClassifier(EasyaiClassifier):\n",
    "    \n",
    "    def prepare_dataset(self):\n",
    "        \"\"\"\n",
    "        1. titanic:\n",
    "            features:\n",
    "                'Pclass':   船舱等级\n",
    "                'Sex':      性别\n",
    "                'Age':      年龄\n",
    "                'SibSp':    兄弟姐妹一起上船 (可能相互让救生圈) \n",
    "                'Parch':    父母和小孩 (老人孩子优先)\n",
    "                'Fare':     费用\n",
    "                'Embarked': 上船的地方 (地位)\n",
    "            \n",
    "            target:\n",
    "                'Survived': 存活 (目标对象) 1: 存活 0: 死亡\n",
    "            \n",
    "        eg: [(2.0, 'Pclass'), (1.0, 'Sex'), (22.0, 'Age'), (1.0, 'SibSp'), (1.0, 'Parch'), (29.0, 'Fare'), (0.0, 'Embarked')]\n",
    "        \"\"\"\n",
    "        return self.load_titanic()\n",
    "    \n",
    "    def build_model(self):\n",
    "        \"\"\"\n",
    "        KNN:\n",
    "        \"\"\"\n",
    "        return KNeighborsClassifier(\n",
    "            n_neighbors = 5,        # [O] 近邻的个数\n",
    "            weights='uniform',      # [O] 权重 1. uniform: 无论近邻距离多远, 权重一样 2. 'distance': 距离越近权重越大\n",
    "            algorithm = 'auto',     # [O] 构建算法 1. audo: 自动选择 2. ball_tree(球树) 3. kd_tree(KD树) 4. brute(蛮力实现)\n",
    "            leaf_size = 30,         # [O] 建子树的叶子节点数量的阈值(algorithm==brute时无效)\n",
    "            metric = 'minkowski',   # [O] 距离函数 1. euclidean(欧式距离) 2. manhattan(曼哈顿距离) 3. chebyshev(切比雪夫距离) 4. minkowski(闵可夫斯基距离)\n",
    "            p = 2                   # [O] 当metric='minkowski'时有效, 作为距离函数的参数                  \n",
    "        )\n",
    "    \n",
    "    def configure_estimator(self):\n",
    "        return {\n",
    "            'test_size': 0.3,       # [O] 数据样本分割比例\n",
    "            'scaler_mode': 'zscore' # [O] 数据规范化模式 1. zscore: 采用Z-Score规范化 2. minmax: 采用Min-Max规范化\n",
    "        }\n",
    "    \n",
    "    def fit_end(self, preds, trues):\n",
    "        print('正确率:')\n",
    "        print(accuracy_score(preds, trues))\n",
    "        print('混淆矩阵:')\n",
    "        print(confusion_matrix(preds, trues))\n",
    "\n",
    "    def predict_end(self, preds):\n",
    "        print('预测结果:')\n",
    "        print(preds)\n",
    "    \n",
    "    \n",
    "trainer = EasyaiTrainer(framework='ml') # [M] 必须指定为\"ml\"\n",
    "\n",
    "model = CustomClassifier()\n",
    "\n",
    "# 训练\n",
    "trainer.fit(model)\n",
    "\n",
    "# 预测\n",
    "features = np.array([\n",
    "    [2.0, 1.0, 22, 1.0, 1.0, 29.0, 0.0], # 存活\n",
    "    [9.0, 0.0, 22, 0.0, 0.0, 9.0, 0.0],  # 死亡\n",
    "])\n",
    "\n",
    "trainer.predict(model, features=features)"
   ]
  }
 ],
 "metadata": {
  "kernelspec": {
   "display_name": "Python 3",
   "language": "python",
   "name": "python3"
  },
  "language_info": {
   "codemirror_mode": {
    "name": "ipython",
    "version": 3
   },
   "file_extension": ".py",
   "mimetype": "text/x-python",
   "name": "python",
   "nbconvert_exporter": "python",
   "pygments_lexer": "ipython3",
   "version": "3.6.9"
  },
  "toc": {
   "base_numbering": 1,
   "nav_menu": {},
   "number_sections": true,
   "sideBar": true,
   "skip_h1_title": true,
   "title_cell": "",
   "title_sidebar": "Contents",
   "toc_cell": false,
   "toc_position": {},
   "toc_section_display": true,
   "toc_window_display": false
  }
 },
 "nbformat": 4,
 "nbformat_minor": 4
}
