{
 "cells": [
  {
   "cell_type": "code",
   "execution_count": 1,
   "metadata": {
    "ExecuteTime": {
     "end_time": "2020-09-15T12:48:03.740297Z",
     "start_time": "2020-09-15T12:48:01.135500Z"
    },
    "hide_input": true,
    "scrolled": true
   },
   "outputs": [
    {
     "data": {
      "text/html": [
       "<style>.container { width:95% !important; }</style>"
      ],
      "text/plain": [
       "<IPython.core.display.HTML object>"
      ]
     },
     "metadata": {},
     "output_type": "display_data"
    }
   ],
   "source": [
    "%reload_ext autoreload\n",
    "%autoreload 2\n",
    "\n",
    "! [ ! -L /datasets ] && ln -s /data/datasets/ /datasets\n",
    "\n",
    "from k12libs.utils.nb_easy import k12ai_set_notebook\n",
    "\n",
    "k12ai_set_notebook(cellw=95)"
   ]
  },
  {
   "cell_type": "markdown",
   "metadata": {},
   "source": [
    "## 需掌握知识点\n",
    "\n",
    "KNN, 决策树，随机森林，集成学习等算法原理介绍"
   ]
  },
  {
   "cell_type": "code",
   "execution_count": 13,
   "metadata": {
    "ExecuteTime": {
     "end_time": "2020-09-15T15:14:08.749619Z",
     "start_time": "2020-09-15T14:56:57.255386Z"
    },
    "scrolled": true
   },
   "outputs": [
    {
     "name": "stdout",
     "output_type": "stream",
     "text": [
      "正确率:\n",
      "0.30492568760321165\n",
      "混淆矩阵:\n",
      "[[  223   204    80 ...     0     1     0]\n",
      " [ 2270  9600  3930 ...    15   251     2]\n",
      " [ 2666  7833 25305 ...    36   216     3]\n",
      " ...\n",
      " [    0     0     0 ...     0     0     0]\n",
      " [    1     1     1 ...     0     0     0]\n",
      " [    0     0     0 ...     0     0     0]]\n"
     ]
    }
   ],
   "source": [
    "import pandas as pd\n",
    "import numpy as np\n",
    "\n",
    "from sklearn import preprocessing \n",
    "from sklearn.model_selection import train_test_split\n",
    "from xgboost import XGBClassifier\n",
    "\n",
    "# Metrics\n",
    "from sklearn.metrics import accuracy_score, confusion_matrix\n",
    "\n",
    "## 加载数据\n",
    "df_train = pd.read_csv('/datasets/ml/sf-crime/train.csv', parse_dates=['Dates'])\n",
    "\n",
    "## 数据处理\n",
    "def data_preprocess(df):\n",
    "    # Date\n",
    "    df['Year'] = df['Dates'].dt.year\n",
    "    df['Month'] = df['Dates'].dt.month\n",
    "    df['Day'] = df['Dates'].dt.day\n",
    "    df['Hour'] = df['Dates'].dt.hour\n",
    "    week_dict = {\n",
    "        \"Monday\": 1,\n",
    "        \"Tuesday\":2,\n",
    "        \"Wednesday\":3,\n",
    "        \"Thursday\":4,\n",
    "        \"Friday\":5,\n",
    "        \"Saturday\":6,\n",
    "        \"Sunday\":7\n",
    "    }\n",
    "    df[\"DayOfWeek\"].replace(week_dict, inplace=True)\n",
    "\n",
    "    # Category\n",
    "    categories = df['Category'].unique()\n",
    "    category_dict = {}\n",
    "    for i, c in enumerate(categories, 1):\n",
    "        category_dict[c] = i\n",
    "    category_dict\n",
    "    df[\"Category\"].replace(category_dict, inplace=True)\n",
    "\n",
    "    # District\n",
    "    district = df[\"PdDistrict\"].unique()\n",
    "    district_dict = {}\n",
    "    for i, c in enumerate(district, 1):\n",
    "        district_dict[c] = i\n",
    "    df[\"PdDistrict\"].replace(district_dict, inplace=True)\n",
    "\n",
    "    df.drop(['Dates', 'Descript', 'Resolution', 'Address'] , axis=1, inplace=True)\n",
    "    return df\n",
    "\n",
    "df_train = data_preprocess(df_train)\n",
    "\n",
    "## 数据分割\n",
    "X = df_train.drop('Category', axis=1) # 特征\n",
    "y = df_train['Category'] # 目标\n",
    "\n",
    "X_train, X_test, y_train, y_test = train_test_split(\n",
    "    X,\n",
    "    y,\n",
    "    test_size=.2)\n",
    "\n",
    "## 构建模型\n",
    "xgb = XGBClassifier(\n",
    "    learning_rate=0.1,         # eta\n",
    "    booster='gbtree',          # gbtree:树模型做为基分类器（默认） gbliner:线性模型做为基分类器\n",
    "    n_estimators=100,          # 决策树的个数(迭代次数)\n",
    "    max_depth=12,              # 树的深度\n",
    "    gamma=0.1,                 # 惩罚项系数，用于控制是否后剪枝的参数,越大越保守，一般0.1、0.2这样子\n",
    "    subsample=0.8,             # 随机选择80%样本建立决策树\n",
    "    objective='multi:softmax', # 目标函数(定损失函数)\n",
    "    reg_alpha=1,               # L1正则化\n",
    "    reg_lambda=2,              # L2正则化 参数越大，模型越不容易过拟合\n",
    "    verbosity=1,               # 调试 0: slient, 1-3\n",
    "    random_state=27            # 随机数\n",
    "  )\n",
    "\n",
    "## 训练预测\n",
    "y_pred = xgb.fit(X_train, y_train).predict(X_test) # 用时比较长\n",
    "\n",
    "## 模型特性    \n",
    "print('正确率:')\n",
    "print(accuracy_score(y_pred, y_test))\n",
    "print('混淆矩阵:')\n",
    "print(confusion_matrix(y_pred, y_test))"
   ]
  }
 ],
 "metadata": {
  "kernelspec": {
   "display_name": "Python 3",
   "language": "python",
   "name": "python3"
  },
  "language_info": {
   "codemirror_mode": {
    "name": "ipython",
    "version": 3
   },
   "file_extension": ".py",
   "mimetype": "text/x-python",
   "name": "python",
   "nbconvert_exporter": "python",
   "pygments_lexer": "ipython3",
   "version": "3.6.9"
  },
  "toc": {
   "base_numbering": 1,
   "nav_menu": {},
   "number_sections": true,
   "sideBar": true,
   "skip_h1_title": true,
   "title_cell": "",
   "title_sidebar": "Contents",
   "toc_cell": false,
   "toc_position": {},
   "toc_section_display": true,
   "toc_window_display": false
  }
 },
 "nbformat": 4,
 "nbformat_minor": 4
}
