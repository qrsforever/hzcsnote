{
 "cells": [
  {
   "cell_type": "code",
   "execution_count": 1,
   "metadata": {
    "ExecuteTime": {
     "end_time": "2020-09-11T12:51:31.059962Z",
     "start_time": "2020-09-11T12:51:28.238346Z"
    },
    "hide_input": true,
    "scrolled": true
   },
   "outputs": [
    {
     "data": {
      "text/html": [
       "<style>.container { width:95% !important; }</style>"
      ],
      "text/plain": [
       "<IPython.core.display.HTML object>"
      ]
     },
     "metadata": {},
     "output_type": "display_data"
    }
   ],
   "source": [
    "%reload_ext autoreload\n",
    "%autoreload 2\n",
    "\n",
    "! [ -L /datasets ] && rm -f /datasets\n",
    "! ln -s /data/datasets/ /datasets\n",
    "\n",
    "from k12libs.utils.nb_easy import k12ai_set_notebook\n",
    "\n",
    "k12ai_set_notebook(cellw=95)"
   ]
  },
  {
   "cell_type": "markdown",
   "metadata": {},
   "source": [
    "## 需掌握知识点\n",
    "\n",
    "数据分析类任务介绍，数据集介绍"
   ]
  },
  {
   "cell_type": "code",
   "execution_count": 3,
   "metadata": {
    "ExecuteTime": {
     "end_time": "2020-09-11T13:02:58.291611Z",
     "start_time": "2020-09-11T13:01:54.830931Z"
    },
    "scrolled": false
   },
   "outputs": [
    {
     "name": "stdout",
     "output_type": "stream",
     "text": [
      "Index(['LotFrontage', 'LotArea', 'OverallQual', 'YearRemodAdd', 'BsmtFinSF1',\n",
      "       'BsmtFinSF2', 'BsmtUnfSF', 'TotalBsmtSF', '1stFlrSF', '2ndFlrSF',\n",
      "       ...\n",
      "       'SaleType_ConLw', 'SaleType_New', 'SaleType_Oth', 'SaleType_WD',\n",
      "       'SaleCondition_Abnorml', 'SaleCondition_AdjLand',\n",
      "       'SaleCondition_Alloca', 'SaleCondition_Family', 'SaleCondition_Normal',\n",
      "       'SaleCondition_Partial'],\n",
      "      dtype='object', length=777)\n",
      "确定系数:\n",
      "-0.5032594952200635\n",
      "均方误差:\n",
      "5955307121.326484\n"
     ]
    }
   ],
   "source": [
    "%reset -f\n",
    "\n",
    "import numpy as np\n",
    "from pyr.app.k12ai import EasyaiRegressor, EasyaiTrainer\n",
    "from sklearn.linear_model import LogisticRegression\n",
    "from sklearn.metrics import r2_score, mean_squared_error \n",
    "\n",
    "class CustomRegressor(EasyaiRegressor):\n",
    "    \n",
    "    def prepare_dataset(self):\n",
    "        \"\"\"\n",
    "        \"\"\"\n",
    "        return self.load_houseprice()\n",
    "    \n",
    "    def build_model(self):\n",
    "        \"\"\"\n",
    "        Logis:\n",
    "        \"\"\"\n",
    "        return LogisticRegression(\n",
    "            penalty = 'l2',         # [O] 正则化方式 1. l1  2. l2\n",
    "            solver ='liblinear',    # [O] 优化算法 1. liblinear 2. saga 3. sag 4. lbfgs\n",
    "            multi_class = 'ovr',    # [O] 多分类方式 1. multinomial 2. ovr 3. auto\n",
    "            tol = 0.0001,           # [O] 收敛准则(停止求解的标准)\n",
    "        )\n",
    "    \n",
    "    def configure_estimator(self):\n",
    "        return {\n",
    "            'test_size': 0.3,       # [O] 数据样本分割比例\n",
    "            'scaler_mode': 'zscore' # [O] 数据规范化模式 1. zscore: 采用Z-Score规范化 2. minmax: 采用Min-Max规范化\n",
    "        }\n",
    "    \n",
    "    def fit_end(self, preds, trues):\n",
    "        print('确定系数:')\n",
    "        print(r2_score(preds, trues))\n",
    "        print('均方误差:')\n",
    "        print(mean_squared_error(preds, trues))\n",
    "\n",
    "    def predict_end(self, preds):\n",
    "        print('预测结果:')\n",
    "        print(preds)\n",
    "    \n",
    "    \n",
    "trainer = EasyaiTrainer(framework='ml') # [M] 必须指定为\"ml\"\n",
    "\n",
    "model = CustomRegressor()\n",
    "\n",
    "# 训练\n",
    "trainer.fit(model)\n",
    "\n",
    "# 预测\n",
    "features = np.array([\n",
    "    [2.0, 1.0, 22, 1.0, 1.0, 29.0, 0.0], # 存活\n",
    "    [9.0, 0.0, 22, 0.0, 0.0, 9.0, 0.0],  # 死亡\n",
    "])\n",
    "\n",
    "# trainer.predict(model, features=features)"
   ]
  }
 ],
 "metadata": {
  "kernelspec": {
   "display_name": "Python 3",
   "language": "python",
   "name": "python3"
  },
  "language_info": {
   "codemirror_mode": {
    "name": "ipython",
    "version": 3
   },
   "file_extension": ".py",
   "mimetype": "text/x-python",
   "name": "python",
   "nbconvert_exporter": "python",
   "pygments_lexer": "ipython3",
   "version": "3.6.9"
  },
  "toc": {
   "base_numbering": 1,
   "nav_menu": {},
   "number_sections": true,
   "sideBar": true,
   "skip_h1_title": true,
   "title_cell": "",
   "title_sidebar": "Contents",
   "toc_cell": false,
   "toc_position": {},
   "toc_section_display": true,
   "toc_window_display": false
  }
 },
 "nbformat": 4,
 "nbformat_minor": 4
}
