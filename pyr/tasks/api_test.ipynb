{
 "cells": [
  {
   "cell_type": "code",
   "execution_count": 1,
   "metadata": {
    "ExecuteTime": {
     "end_time": "2020-08-10T10:39:00.291954Z",
     "start_time": "2020-08-10T10:38:59.834856Z"
    }
   },
   "outputs": [],
   "source": [
    "%reload_ext autoreload\n",
    "%autoreload 2\n",
    "%matplotlib inline"
   ]
  },
  {
   "cell_type": "code",
   "execution_count": 49,
   "metadata": {
    "ExecuteTime": {
     "end_time": "2020-08-10T14:36:07.137691Z",
     "start_time": "2020-08-10T14:36:06.495235Z"
    }
   },
   "outputs": [],
   "source": [
    "from k12libs.utils.nb_easy import k12ai_start_html, W3URL\n",
    "from urllib.parse import urlencode"
   ]
  },
  {
   "cell_type": "code",
   "execution_count": 52,
   "metadata": {
    "ExecuteTime": {
     "end_time": "2020-08-10T14:43:14.609411Z",
     "start_time": "2020-08-10T14:43:13.793150Z"
    }
   },
   "outputs": [],
   "source": [
    "code='''\n",
    "from pyr.app.k12ai import EasyaiClassifier, EasyaiTrainer, EasyaiDataset\n",
    "from collections import OrderedDict\n",
    "import torch\n",
    "\n",
    "class CustomClassifier(EasyaiClassifier):\n",
    "    ## Load\n",
    "    def prepare_dataset(self):\n",
    "        return self.load_presetting_dataset_('rmnist', '/data/datasets/cv')\n",
    "    \n",
    "    def build_model(self):\n",
    "        return self.load_pretrained_model_('resnet18', num_classes=10)\n",
    "    \n",
    "    def configure_optimizer(self, model):\n",
    "        return self.adam(model.parameters(),\n",
    "            base_lr=0.001)\n",
    "\n",
    "    def configure_scheduler(self, optimizer):\n",
    "        return self.period_step(optimizer, step_size=30, gamma=0.1)\n",
    "    \n",
    "    ## Train\n",
    "    def train_dataloader(self):\n",
    "        return self.get_dataloader(\n",
    "            phase='train',\n",
    "            data_augment=[\n",
    "                self.random_resized_crop(size=(128, 128)),\n",
    "                self.random_brightness(factor=0.3),\n",
    "                self.random_rotation(degrees=30)\n",
    "            ],\n",
    "            random_order=False,\n",
    "            input_size=128,\n",
    "            normalize=True,\n",
    "            batch_size=32,\n",
    "            drop_last=False,\n",
    "            shuffle=False)\n",
    "\n",
    "    def training_step(self, batch, batch_idx):\n",
    "        # REQUIRED\n",
    "        x, y, _ = batch\n",
    "        y_hat = self.forward(x) # (32, 10)\n",
    "        loss = self.cross_entropy(y_hat, y, reduction='mean')\n",
    "        with torch.no_grad():\n",
    "            accuracy = (torch.argmax(y_hat, axis=1) == y).float().mean()\n",
    "        log = {'train_loss': loss, 'train_acc': accuracy}\n",
    "        output = OrderedDict({\n",
    "            'loss': loss,        # M\n",
    "            'acc': accuracy,     # O\n",
    "            'progress_bar': log, # O\n",
    "        })\n",
    "        return output\n",
    "\n",
    "    def training_epoch_end(self, outputs):\n",
    "        avg_loss = torch.stack([x['loss'] for x in outputs]).mean()\n",
    "        avg_acc = torch.stack([x['acc'] for x in outputs]).mean()\n",
    "        log = {'train_loss': avg_loss, 'train_acc': avg_acc}\n",
    "        output = OrderedDict({\n",
    "            'progress_loss': log,\n",
    "        })\n",
    "        return output\n",
    "        \n",
    "    ## Valid\n",
    "    def val_dataloader(self):\n",
    "        return self.get_dataloader('val',\n",
    "                input_size=128,\n",
    "                batch_size=32,\n",
    "                drop_last=False,\n",
    "                shuffle=False)\n",
    "\n",
    "    def validation_step(self, batch, batch_idx):\n",
    "        x, y, _ = batch\n",
    "        y_hat = self.forward(x) # (32, 10)\n",
    "        loss = self.cross_entropy(y_hat, y, reduction='mean')\n",
    "        accuracy = (torch.argmax(y_hat, axis=1) == y).float().mean()\n",
    "        output = OrderedDict({\n",
    "            'val_loss': loss,\n",
    "            'val_acc': accuracy,\n",
    "        })\n",
    "        return output\n",
    "\n",
    "    def validation_epoch_end(self, outputs):\n",
    "        avg_loss = torch.stack([x['val_loss'] for x in outputs]).mean()\n",
    "        avg_acc = torch.stack([x['val_acc'] for x in outputs]).mean()\n",
    "        log = {'val_loss': avg_loss, 'val_acc': avg_acc}\n",
    "        output = OrderedDict({\n",
    "            **log,\n",
    "            'progress_loss': log,\n",
    "        })\n",
    "        return output\n",
    "        \n",
    "trainer = EasyaiTrainer(max_epochs=2, model_summary=None, early_stop={'monitor': 'val_acc', 'patience': 1, 'mode': 'max'})\n",
    "trainer.fit(CustomClassifier())\n",
    "print(trainer.test())\n",
    "'''"
   ]
  },
  {
   "cell_type": "code",
   "execution_count": 46,
   "metadata": {
    "ExecuteTime": {
     "end_time": "2020-08-10T14:33:59.236028Z",
     "start_time": "2020-08-10T14:33:31.829380Z"
    }
   },
   "outputs": [
    {
     "name": "stderr",
     "output_type": "stream",
     "text": [
      "GPU available: True, used: True\n",
      "TPU available: False, using: 0 TPU cores\n",
      "CUDA_VISIBLE_DEVICES: [0]\n"
     ]
    },
    {
     "data": {
      "application/vnd.jupyter.widget-view+json": {
       "model_id": "389f4d430d0343f69af66e0e0004f220",
       "version_major": 2,
       "version_minor": 0
      },
      "text/plain": [
       "HBox(children=(FloatProgress(value=1.0, bar_style='info', description='Training', layout=Layout(flex='2'), max…"
      ]
     },
     "metadata": {},
     "output_type": "display_data"
    },
    {
     "data": {
      "application/vnd.jupyter.widget-view+json": {
       "model_id": "",
       "version_major": 2,
       "version_minor": 0
      },
      "text/plain": [
       "HBox(children=(FloatProgress(value=1.0, bar_style='info', description='Validating', layout=Layout(flex='2'), m…"
      ]
     },
     "metadata": {},
     "output_type": "display_data"
    },
    {
     "data": {
      "application/vnd.jupyter.widget-view+json": {
       "model_id": "",
       "version_major": 2,
       "version_minor": 0
      },
      "text/plain": [
       "HBox(children=(FloatProgress(value=1.0, bar_style='info', description='Validating', layout=Layout(flex='2'), m…"
      ]
     },
     "metadata": {},
     "output_type": "display_data"
    },
    {
     "name": "stdout",
     "output_type": "stream",
     "text": [
      "\n"
     ]
    },
    {
     "data": {
      "application/vnd.jupyter.widget-view+json": {
       "model_id": "8fb45b30501b46a2b027d3fe8d74460b",
       "version_major": 2,
       "version_minor": 0
      },
      "text/plain": [
       "HBox(children=(FloatProgress(value=1.0, bar_style='info', description='Testing', layout=Layout(flex='2'), max=…"
      ]
     },
     "metadata": {},
     "output_type": "display_data"
    },
    {
     "name": "stdout",
     "output_type": "stream",
     "text": [
      "--------------------------------------------------------------------------------\n",
      "TEST RESULTS\n",
      "{'test_acc': tensor(0.4023, device='cuda:0'),\n",
      " 'test_loss': tensor(1.5445, device='cuda:0')}\n",
      "--------------------------------------------------------------------------------\n",
      "\n"
     ]
    }
   ],
   "source": [
    "exec(code)"
   ]
  },
  {
   "cell_type": "code",
   "execution_count": 53,
   "metadata": {
    "ExecuteTime": {
     "end_time": "2020-08-10T14:43:15.494163Z",
     "start_time": "2020-08-10T14:43:15.445172Z"
    }
   },
   "outputs": [
    {
     "data": {
      "text/html": [
       "<style>.container { width:95% !important; }</style>"
      ],
      "text/plain": [
       "<IPython.core.display.HTML object>"
      ]
     },
     "metadata": {},
     "output_type": "display_data"
    },
    {
     "data": {
      "text/html": [
       "\n",
       "        <iframe\n",
       "            width=\"100%\"\n",
       "            height=\"900px\"\n",
       "            src=\"http://116.85.5.40:9091/codemirror.html?default=%0Afrom+k12ai+import+EasyaiClassifier%2C+EasyaiTrainer%2C+EasyaiDataset%0Afrom+collections+import+OrderedDict%0Aimport+torch%0A%0Aclass+CustomClassifier%28EasyaiClassifier%29%3A%0A++++%23%23+Load%0A++++def+prepare_dataset%28self%29%3A%0A++++++++return+self.load_presetting_dataset_%28%27rmnist%27%2C+%27%2Fdatasets%27%29%0A++++%0A++++def+build_model%28self%29%3A%0A++++++++return+self.load_pretrained_model_%28%27resnet18%27%2C+num_classes%3D10%29%0A++++%0A++++def+configure_optimizer%28self%2C+model%29%3A%0A++++++++return+self.adam%28model.parameters%28%29%2C%0A++++++++++++base_lr%3D0.001%29%0A%0A++++def+configure_scheduler%28self%2C+optimizer%29%3A%0A++++++++return+self.period_step%28optimizer%2C+step_size%3D30%2C+gamma%3D0.1%29%0A++++%0A++++%23%23+Train%0A++++def+train_dataloader%28self%29%3A%0A++++++++return+self.get_dataloader%28%0A++++++++++++phase%3D%27train%27%2C%0A++++++++++++data_augment%3D%5B%0A++++++++++++++++self.random_resized_crop%28size%3D%28128%2C+128%29%29%2C%0A++++++++++++++++self.random_brightness%28factor%3D0.3%29%2C%0A++++++++++++++++self.random_rotation%28degrees%3D30%29%0A++++++++++++%5D%2C%0A++++++++++++random_order%3DFalse%2C%0A++++++++++++input_size%3D128%2C%0A++++++++++++normalize%3DTrue%2C%0A++++++++++++batch_size%3D32%2C%0A++++++++++++drop_last%3DFalse%2C%0A++++++++++++shuffle%3DFalse%29%0A%0A++++def+training_step%28self%2C+batch%2C+batch_idx%29%3A%0A++++++++%23+REQUIRED%0A++++++++x%2C+y%2C+_+%3D+batch%0A++++++++y_hat+%3D+self.forward%28x%29+%23+%2832%2C+10%29%0A++++++++loss+%3D+self.cross_entropy%28y_hat%2C+y%2C+reduction%3D%27mean%27%29%0A++++++++with+torch.no_grad%28%29%3A%0A++++++++++++accuracy+%3D+%28torch.argmax%28y_hat%2C+axis%3D1%29+%3D%3D+y%29.float%28%29.mean%28%29%0A++++++++log+%3D+%7B%27train_loss%27%3A+loss%2C+%27train_acc%27%3A+accuracy%7D%0A++++++++output+%3D+OrderedDict%28%7B%0A++++++++++++%27loss%27%3A+loss%2C++++++++%23+M%0A++++++++++++%27acc%27%3A+accuracy%2C+++++%23+O%0A++++++++++++%27progress_bar%27%3A+log%2C+%23+O%0A++++++++%7D%29%0A++++++++return+output%0A%0A++++def+training_epoch_end%28self%2C+outputs%29%3A%0A++++++++avg_loss+%3D+torch.stack%28%5Bx%5B%27loss%27%5D+for+x+in+outputs%5D%29.mean%28%29%0A++++++++avg_acc+%3D+torch.stack%28%5Bx%5B%27acc%27%5D+for+x+in+outputs%5D%29.mean%28%29%0A++++++++log+%3D+%7B%27train_loss%27%3A+avg_loss%2C+%27train_acc%27%3A+avg_acc%7D%0A++++++++output+%3D+OrderedDict%28%7B%0A++++++++++++%27progress_loss%27%3A+log%2C%0A++++++++%7D%29%0A++++++++return+output%0A++++++++%0A++++%23%23+Valid%0A++++def+val_dataloader%28self%29%3A%0A++++++++return+self.get_dataloader%28%27val%27%2C%0A++++++++++++++++input_size%3D128%2C%0A++++++++++++++++batch_size%3D32%2C%0A++++++++++++++++drop_last%3DFalse%2C%0A++++++++++++++++shuffle%3DFalse%29%0A%0A++++def+validation_step%28self%2C+batch%2C+batch_idx%29%3A%0A++++++++x%2C+y%2C+_+%3D+batch%0A++++++++y_hat+%3D+self.forward%28x%29+%23+%2832%2C+10%29%0A++++++++loss+%3D+self.cross_entropy%28y_hat%2C+y%2C+reduction%3D%27mean%27%29%0A++++++++accuracy+%3D+%28torch.argmax%28y_hat%2C+axis%3D1%29+%3D%3D+y%29.float%28%29.mean%28%29%0A++++++++output+%3D+OrderedDict%28%7B%0A++++++++++++%27val_loss%27%3A+loss%2C%0A++++++++++++%27val_acc%27%3A+accuracy%2C%0A++++++++%7D%29%0A++++++++return+output%0A%0A++++def+validation_epoch_end%28self%2C+outputs%29%3A%0A++++++++avg_loss+%3D+torch.stack%28%5Bx%5B%27val_loss%27%5D+for+x+in+outputs%5D%29.mean%28%29%0A++++++++avg_acc+%3D+torch.stack%28%5Bx%5B%27val_acc%27%5D+for+x+in+outputs%5D%29.mean%28%29%0A++++++++log+%3D+%7B%27val_loss%27%3A+avg_loss%2C+%27val_acc%27%3A+avg_acc%7D%0A++++++++output+%3D+OrderedDict%28%7B%0A++++++++++++%2A%2Alog%2C%0A++++++++++++%27progress_loss%27%3A+log%2C%0A++++++++%7D%29%0A++++++++return+output%0A++++++++%0Atrainer+%3D+EasyaiTrainer%28max_epochs%3D2%2C+model_summary%3DNone%2C+early_stop%3D%7B%27monitor%27%3A+%27val_acc%27%2C+%27patience%27%3A+1%2C+%27mode%27%3A+%27max%27%7D%29%0Atrainer.fit%28CustomClassifier%28%29%29%0Aprint%28trainer.test%28%29%29%0A\"\n",
       "            frameborder=\"0\"\n",
       "            allowfullscreen\n",
       "        ></iframe>\n",
       "        "
      ],
      "text/plain": [
       "<IPython.lib.display.IFrame at 0x7f4412f4b940>"
      ]
     },
     "execution_count": 53,
     "metadata": {},
     "output_type": "execute_result"
    }
   ],
   "source": [
    "params = {'default': code.replace('pyr.app.', '').replace('/data/datasets/cv', '/datasets')}\n",
    "k12ai_start_html(f'{W3URL}/codemirror.html?{urlencode(params)}', width='100%', height='900px')"
   ]
  }
 ],
 "metadata": {
  "kernelspec": {
   "display_name": "Python 3",
   "language": "python",
   "name": "python3"
  },
  "language_info": {
   "codemirror_mode": {
    "name": "ipython",
    "version": 3
   },
   "file_extension": ".py",
   "mimetype": "text/x-python",
   "name": "python",
   "nbconvert_exporter": "python",
   "pygments_lexer": "ipython3",
   "version": "3.6.9"
  },
  "toc": {
   "base_numbering": 1,
   "nav_menu": {},
   "number_sections": true,
   "sideBar": true,
   "skip_h1_title": true,
   "title_cell": "",
   "title_sidebar": "Contents",
   "toc_cell": false,
   "toc_position": {},
   "toc_section_display": true,
   "toc_window_display": false
  }
 },
 "nbformat": 4,
 "nbformat_minor": 4
}
