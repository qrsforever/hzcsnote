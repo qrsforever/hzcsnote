{
 "cells": [
  {
   "cell_type": "code",
   "execution_count": 16,
   "metadata": {
    "ExecuteTime": {
     "end_time": "2020-09-11T10:30:40.144622Z",
     "start_time": "2020-09-11T10:30:38.890639Z"
    },
    "hide_input": true,
    "scrolled": true
   },
   "outputs": [
    {
     "data": {
      "text/html": [
       "<style>.container { width:95% !important; }</style>"
      ],
      "text/plain": [
       "<IPython.core.display.HTML object>"
      ]
     },
     "metadata": {},
     "output_type": "display_data"
    }
   ],
   "source": [
    "%reload_ext autoreload\n",
    "%autoreload 2\n",
    "\n",
    "! [ -L /datasets ] && rm -f /datasets\n",
    "! ln -s /data/datasets/ /datasets\n",
    "\n",
    "from k12libs.utils.nb_easy import k12ai_set_notebook\n",
    "\n",
    "k12ai_set_notebook(cellw=95)"
   ]
  },
  {
   "cell_type": "markdown",
   "metadata": {},
   "source": [
    "## 需掌握知识点\n",
    "\n",
    "KNN, 决策树，随即森林，集成学习等算法原理介绍"
   ]
  },
  {
   "cell_type": "code",
   "execution_count": 9,
   "metadata": {
    "ExecuteTime": {
     "end_time": "2020-09-11T12:35:51.127301Z",
     "start_time": "2020-09-11T12:35:50.873233Z"
    },
    "scrolled": false
   },
   "outputs": [
    {
     "name": "stdout",
     "output_type": "stream",
     "text": [
      "正确率:\n",
      "0.8283582089552238\n",
      "混淆矩阵:\n",
      "[[151  29]\n",
      " [ 17  71]]\n",
      "预测结果:\n",
      "[0 0]\n"
     ]
    }
   ],
   "source": [
    "%reset -f\n",
    "\n",
    "import numpy as np\n",
    "from pyr.app.k12ai import EasyaiClassifier, EasyaiTrainer\n",
    "from sklearn.tree import DecisionTreeClassifier\n",
    "from sklearn.metrics import accuracy_score, confusion_matrix\n",
    "\n",
    "class CustomClassifier(EasyaiClassifier):\n",
    "    \n",
    "    def prepare_dataset(self):\n",
    "        \"\"\"\n",
    "        1. titanic:\n",
    "            features:\n",
    "                'Pclass':   船舱等级\n",
    "                'Sex':      性别\n",
    "                'Age':      年龄\n",
    "                'SibSp':    兄弟姐妹一起上船 (可能相互让救生圈) \n",
    "                'Parch':    父母和小孩 (老人孩子优先)\n",
    "                'Fare':     费用\n",
    "                'Embarked': 上船的地方 (地位)\n",
    "            \n",
    "            target:\n",
    "                'Survived': 存活 (目标对象) 1: 存活 0: 死亡\n",
    "            \n",
    "        eg: [(2.0, 'Pclass'), (1.0, 'Sex'), (22.0, 'Age'), (1.0, 'SibSp'), (1.0, 'Parch'), (29.0, 'Fare'), (0.0, 'Embarked')]\n",
    "        \"\"\"\n",
    "        return self.load_titanic()\n",
    "    \n",
    "    def build_model(self):\n",
    "        \"\"\"\n",
    "        DT:\n",
    "        \"\"\"\n",
    "        return DecisionTreeClassifier( \n",
    "            criterion = 'gini',     # [M] 不纯度越低，决策树对训练集的拟合越好 1. entropy 2. gini\n",
    "            splitter = 'best',      # [O] 特征划分点选择标准 1. best 2. random (适合大样本)\n",
    "            max_depth = 10,         # [O] 决策树的最大深度\n",
    "            max_features = None,    # [O] 划分的最大特征数 1. None 2. log2  3. sqrt 4. auto\n",
    "        )\n",
    "    \n",
    "    def configure_estimator(self):\n",
    "        return {\n",
    "            'test_size': 0.3,       # [O] 数据样本分割比例\n",
    "            'scaler_mode': 'zscore' # [O] 数据规范化模式 1. zscore: 采用Z-Score规范化 2. minmax: 采用Min-Max规范化\n",
    "        }\n",
    "    \n",
    "    def fit_end(self, preds, trues):\n",
    "        print('正确率:')\n",
    "        print(accuracy_score(preds, trues))\n",
    "        print('混淆矩阵:')\n",
    "        print(confusion_matrix(preds, trues))\n",
    "\n",
    "    def predict_end(self, preds):\n",
    "        print('预测结果:')\n",
    "        print(preds)\n",
    "    \n",
    "trainer = EasyaiTrainer(framework='ml') # [M] 必须指定为\"ml\"\n",
    "\n",
    "model = CustomClassifier()\n",
    "\n",
    "# 训练\n",
    "trainer.fit(model)\n",
    "\n",
    "# 预测\n",
    "features = np.array([\n",
    "    [2.0, 1.0, 22, 1.0, 1.0, 29.0, 0.0], # 存活\n",
    "    [9.0, 0.0, 22, 0.0, 0.0, 9.0, 0.0],  # 死亡\n",
    "])\n",
    "\n",
    "trainer.predict(model, features=features)"
   ]
  }
 ],
 "metadata": {
  "kernelspec": {
   "display_name": "Python 3",
   "language": "python",
   "name": "python3"
  },
  "language_info": {
   "codemirror_mode": {
    "name": "ipython",
    "version": 3
   },
   "file_extension": ".py",
   "mimetype": "text/x-python",
   "name": "python",
   "nbconvert_exporter": "python",
   "pygments_lexer": "ipython3",
   "version": "3.6.9"
  },
  "toc": {
   "base_numbering": 1,
   "nav_menu": {},
   "number_sections": true,
   "sideBar": true,
   "skip_h1_title": true,
   "title_cell": "",
   "title_sidebar": "Contents",
   "toc_cell": false,
   "toc_position": {},
   "toc_section_display": true,
   "toc_window_display": false
  }
 },
 "nbformat": 4,
 "nbformat_minor": 4
}
