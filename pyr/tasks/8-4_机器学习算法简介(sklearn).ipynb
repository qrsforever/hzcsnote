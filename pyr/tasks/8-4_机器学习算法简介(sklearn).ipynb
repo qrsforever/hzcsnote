{
 "cells": [
  {
   "cell_type": "code",
   "execution_count": 2,
   "metadata": {
    "ExecuteTime": {
     "end_time": "2021-08-26T09:26:24.963725Z",
     "start_time": "2021-08-26T09:26:24.179432Z"
    }
   },
   "outputs": [],
   "source": [
    "import numpy as np\n",
    "from sklearn import datasets\n",
    "from sklearn.model_selection import train_test_split\n",
    "from sklearn.neighbors import KNeighborsClassifier"
   ]
  },
  {
   "cell_type": "code",
   "execution_count": 14,
   "metadata": {
    "ExecuteTime": {
     "end_time": "2021-08-26T09:30:55.242341Z",
     "start_time": "2021-08-26T09:30:46.855290Z"
    }
   },
   "outputs": [
    {
     "name": "stdout",
     "output_type": "stream",
     "text": [
      "输入花萼的长度:5.8\n",
      "输入花萼的宽度:4.0\n",
      "输入花瓣的长度:1.2\n",
      "输入花瓣的宽度:0.2\n",
      "预测结果: setosa\n"
     ]
    }
   ],
   "source": [
    "# 数据集特征(iris.feature_names)\n",
    "# 花萼长度: sepal length (cm)\n",
    "# 花萼宽度: sepal width (cm)\n",
    "# 花瓣长度: petal length (cm)\n",
    "# 花瓣宽度: petal width (cm)\n",
    "\n",
    "# 数据集目标分类(iris.target_names)\n",
    "# 山鸢尾花: setosa\n",
    "# 变色鸢尾花: versicolor\n",
    "# 韦尔吉尼娅鸢尾花: virginica\n",
    "\n",
    "iris = datasets.load_iris()\n",
    "iris_X = iris.data # 应用所有特征(花萼长度, 花萼宽度, 花瓣长度, 花瓣宽度)\n",
    "iris_Y = iris.target\n",
    "\n",
    "X_train, X_test, y_train, y_test = train_test_split(iris_X, iris_Y, test_size=0.1)\n",
    "\n",
    "knn = KNeighborsClassifier(\n",
    "    n_neighbors = 3,     # [O] 近邻的个数\n",
    "    weights='uniform',   # [O] 权重 1. uniform: 无论近邻距离多远, 权重一样 2. 'distance': 距离越近权重越大\n",
    "    algorithm = 'auto',  # [O] 构建算法 1. audo: 自动选择 2. ball_tree(球树) 3. kd_tree(KD树) 4. brute(蛮力实现)\n",
    "    leaf_size = 30,      # [O] 建子树的叶子节点数量的阈值(algorithm==brute时无效)\n",
    "    metric = 'minkowski',# [O] 距离函数 1. euclidean(欧式距离) 2. manhattan(曼哈顿距离) 3. chebyshev(切比雪夫距离) 4. minkowski(闵可夫斯基距离)\n",
    "    p = 2                # [O] 当metric='minkowski'时有效, 作为距离函数的参数                  \n",
    ")\n",
    "\n",
    "knn.fit(X_train, y_train);\n",
    "\n",
    "sepal_length = float(input('输入花萼的长度:'))\n",
    "sepal_width = float(input('输入花萼的宽度:'))\n",
    "petal_length = float(input('输入花瓣的长度:'))\n",
    "petal_width = float(input('输入花瓣的宽度:'))\n",
    "x = np.array([sepal_length, sepal_width, petal_length, petal_width])\n",
    "print('预测结果:', iris.target_names[knn.predict([x])[0]])"
   ]
  }
 ],
 "metadata": {
  "hide_input": false,
  "kernelspec": {
   "display_name": "Python 3",
   "language": "python",
   "name": "python3"
  },
  "language_info": {
   "codemirror_mode": {
    "name": "ipython",
    "version": 3
   },
   "file_extension": ".py",
   "mimetype": "text/x-python",
   "name": "python",
   "nbconvert_exporter": "python",
   "pygments_lexer": "ipython3",
   "version": "3.6.9"
  },
  "toc": {
   "base_numbering": 1,
   "nav_menu": {},
   "number_sections": true,
   "sideBar": true,
   "skip_h1_title": true,
   "title_cell": "",
   "title_sidebar": "Contents",
   "toc_cell": false,
   "toc_position": {},
   "toc_section_display": true,
   "toc_window_display": false
  }
 },
 "nbformat": 4,
 "nbformat_minor": 4
}
