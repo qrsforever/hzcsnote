{
 "cells": [
  {
   "cell_type": "code",
   "execution_count": 1,
   "metadata": {
    "ExecuteTime": {
     "end_time": "2020-09-15T12:47:59.392603Z",
     "start_time": "2020-09-15T12:47:56.706779Z"
    },
    "hide_input": true,
    "scrolled": true
   },
   "outputs": [
    {
     "data": {
      "text/html": [
       "<style>.container { width:95% !important; }</style>"
      ],
      "text/plain": [
       "<IPython.core.display.HTML object>"
      ]
     },
     "metadata": {},
     "output_type": "display_data"
    }
   ],
   "source": [
    "%reload_ext autoreload\n",
    "%autoreload 2\n",
    "\n",
    "! [ -L /datasets ] && rm -f /datasets\n",
    "! ln -s /data/datasets/ /datasets\n",
    "\n",
    "from k12libs.utils.nb_easy import k12ai_set_notebook\n",
    "\n",
    "k12ai_set_notebook(cellw=95)"
   ]
  },
  {
   "cell_type": "markdown",
   "metadata": {},
   "source": [
    "## 需掌握知识点\n",
    "\n",
    "KNN, 决策树，随机森林，集成学习等算法原理介绍"
   ]
  },
  {
   "cell_type": "code",
   "execution_count": 2,
   "metadata": {
    "ExecuteTime": {
     "end_time": "2020-09-15T12:48:00.464752Z",
     "start_time": "2020-09-15T12:47:59.396447Z"
    },
    "scrolled": false
   },
   "outputs": [
    {
     "name": "stdout",
     "output_type": "stream",
     "text": [
      "正确率:\n",
      "0.7014925373134329\n",
      "混淆矩阵:\n",
      "[[125  42]\n",
      " [ 38  63]]\n",
      "预测结果: [1 0]\n"
     ]
    }
   ],
   "source": [
    "import pandas as pd\n",
    "import numpy as np\n",
    "from pyr.app.k12ai import EasyaiClassifier, EasyaiTrainer\n",
    "from sklearn.model_selection import train_test_split\n",
    "from sklearn.neighbors import KNeighborsClassifier\n",
    "\n",
    "# Metrics\n",
    "from sklearn.metrics import accuracy_score, confusion_matrix\n",
    "\n",
    "## 加载数据\n",
    "df_train = pd.read_csv('/datasets/ml/titanic/train.csv')\n",
    "\n",
    "## 数据处理\n",
    "def data_preprocess(df):\n",
    "    # Age\n",
    "    def _impute_age(cols):\n",
    "        Age = cols[0]\n",
    "        Pclass = cols[1]\n",
    "        if pd.isnull(Age):\n",
    "            if Pclass == 1:\n",
    "                return 37\n",
    "            elif Pclass == 2:\n",
    "                return 29\n",
    "            else:\n",
    "                return 24\n",
    "        else:\n",
    "            return Age\n",
    "    df['Age'] = df[['Age','Pclass']].apply(_impute_age, axis=1)\n",
    "\n",
    "    # Sex\n",
    "    sex_dict = {\n",
    "        'male': 0,\n",
    "        'female': 1,\n",
    "    }\n",
    "    df[\"Sex\"].replace(sex_dict, inplace=True)\n",
    "\n",
    "    # Embarked\n",
    "    df['Embarked'].fillna('S', inplace=True)\n",
    "    emb_dict = {\n",
    "        'S': 0,\n",
    "        'C': 1,\n",
    "        'Q': 2,\n",
    "    }\n",
    "    df[\"Embarked\"].replace(emb_dict, inplace=True)\n",
    "    df.drop(['PassengerId', 'Name', 'Ticket', 'Cabin'], axis=1, inplace=True)\n",
    "    return df\n",
    "\n",
    "df_train = data_preprocess(df_train)\n",
    "            \n",
    "## 数据分割\n",
    "X = df_train.drop('Survived', axis=1) # 特征\n",
    "y = df_train['Survived'] # 目标\n",
    "X_train, X_test, y_train, y_test = train_test_split(\n",
    "    X,\n",
    "    y,\n",
    "    train_size=.7)\n",
    " \n",
    "## 构建模型\n",
    "knn = KNeighborsClassifier(\n",
    "    n_neighbors = 5,        # [O] 近邻的个数\n",
    "    weights='uniform',      # [O] 权重 1. uniform: 无论近邻距离多远, 权重一样 2. 'distance': 距离越近权重越大\n",
    "    algorithm = 'auto',     # [O] 构建算法 1. audo: 自动选择 2. ball_tree(球树) 3. kd_tree(KD树) 4. brute(蛮力实现)\n",
    "    leaf_size = 30,         # [O] 建子树的叶子节点数量的阈值(algorithm==brute时无效)\n",
    "    metric = 'minkowski',   # [O] 距离函数 1. euclidean(欧式距离) 2. manhattan(曼哈顿距离) 3. chebyshev(切比雪夫距离) 4. minkowski(闵可夫斯基距离)\n",
    "    p = 2                   # [O] 当metric='minkowski'时有效, 作为距离函数的参数                  \n",
    ")\n",
    "    \n",
    "## 训练评估\n",
    "y_pred = knn.fit(X_train, y_train).predict(X_test)\n",
    "\n",
    "## 模型特性    \n",
    "print('正确率:')\n",
    "print(accuracy_score(y_pred, y_test))\n",
    "print('混淆矩阵:')\n",
    "print(confusion_matrix(y_pred, y_test))\n",
    "\n",
    "# 预测\n",
    "features = np.array([\n",
    "    [2.0, 1.0, 22, 1.0, 1.0, 29.0, 0.0], # 存活 [1]\n",
    "    [9.0, 0.0, 22, 0.0, 0.0, 9.0, 0.0],  # 死亡 [0]\n",
    "])\n",
    "y_pred = knn.predict(features)\n",
    "print('预测结果:', y_pred) "
   ]
  }
 ],
 "metadata": {
  "kernelspec": {
   "display_name": "Python 3",
   "language": "python",
   "name": "python3"
  },
  "language_info": {
   "codemirror_mode": {
    "name": "ipython",
    "version": 3
   },
   "file_extension": ".py",
   "mimetype": "text/x-python",
   "name": "python",
   "nbconvert_exporter": "python",
   "pygments_lexer": "ipython3",
   "version": "3.6.9"
  },
  "toc": {
   "base_numbering": 1,
   "nav_menu": {},
   "number_sections": true,
   "sideBar": true,
   "skip_h1_title": true,
   "title_cell": "",
   "title_sidebar": "Contents",
   "toc_cell": false,
   "toc_position": {},
   "toc_section_display": true,
   "toc_window_display": false
  }
 },
 "nbformat": 4,
 "nbformat_minor": 4
}
