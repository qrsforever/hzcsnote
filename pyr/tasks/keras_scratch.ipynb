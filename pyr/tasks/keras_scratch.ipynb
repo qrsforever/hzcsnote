{
 "cells": [
  {
   "cell_type": "code",
   "execution_count": 1,
   "id": "cooked-skill",
   "metadata": {
    "ExecuteTime": {
     "end_time": "2021-08-26T10:21:46.729520Z",
     "start_time": "2021-08-26T10:21:42.567914Z"
    }
   },
   "outputs": [
    {
     "name": "stdout",
     "output_type": "stream",
     "text": [
      "CPython 3.6.9\n",
      "IPython 7.16.1\n",
      "\n",
      "numpy 1.19.5\n",
      "sklearn 0.24.0\n",
      "pandas 1.1.5\n",
      "CPython 3.6.9\n",
      "IPython 7.16.1\n",
      "\n",
      "cv2 4.5.1\n",
      "PIL 6.2.2\n",
      "matplotlib 3.3.3\n",
      "CPython 3.6.9\n",
      "IPython 7.16.1\n",
      "\n",
      "torch 1.8.0.dev20210103+cu101\n",
      "torchvision 0.9.0.dev20210103+cu101\n",
      "torchaudio not installed\n",
      "CPython 3.6.9\n",
      "IPython 7.16.1\n",
      "\n",
      "tensorflow 2.6.0\n",
      "tensorboard 2.6.0\n"
     ]
    },
    {
     "data": {
      "text/html": [
       "<style>.container { width:80% !important; }</style>"
      ],
      "text/plain": [
       "<IPython.core.display.HTML object>"
      ]
     },
     "metadata": {},
     "output_type": "display_data"
    }
   ],
   "source": [
    "%reload_ext watermark\n",
    "%reload_ext autoreload\n",
    "%autoreload 2\n",
    "%watermark -v -p numpy,sklearn,pandas\n",
    "%watermark -v -p cv2,PIL,matplotlib\n",
    "%watermark -v -p torch,torchvision,torchaudio\n",
    "%watermark -v -p tensorflow,tensorboard\n",
    "%matplotlib inline\n",
    "%config InlineBackend.figure_format='retina'\n",
    "%config IPCompleter.use_jedi = False\n",
    "\n",
    "from IPython.display import display, Markdown, HTML, Javascript\n",
    "display(HTML('<style>.container { width:%d%% !important; }</style>' % 80))\n",
    "\n",
    "import sys, os, io, time, random, math\n",
    "import json, base64, requests\n",
    "import os.path as osp\n",
    "import numpy as np\n",
    "\n",
    "def _IMPORT_(x):\n",
    "    try:\n",
    "        segs = x.split(' ')\n",
    "        g = globals()\n",
    "        if 'github.com' in segs[1]:\n",
    "            uri = segs[1].replace('github.com', 'raw.githubusercontent.com')\n",
    "            mod = uri.split('/')\n",
    "            for s in ['main', 'master']:\n",
    "                uri = 'https://' + '/'.join(mod[:-1]) + '/main/' + mod[-1] + '.py'\n",
    "                x = requests.get(uri).text\n",
    "                if x.status == 200:\n",
    "                    break\n",
    "        elif 'gitee.com' in segs[1]:\n",
    "            mod = segs[1].split('/')\n",
    "            for s in ['/raw/main/', '/raw/master/']:\n",
    "                uri = 'https://' + '/'.join(mod[:3]) + s + '/'.join(mod[3:]) + '.py'\n",
    "                x = requests.get(uri).text\n",
    "                if x.status == 200:\n",
    "                    break\n",
    "        elif segs[1][0] == '/':\n",
    "            with open(segs[1] + '.py') as fr:\n",
    "                x = fr.read()\n",
    "        exec(x, g)\n",
    "    except:\n",
    "        pass\n"
   ]
  },
  {
   "cell_type": "code",
   "execution_count": 2,
   "id": "desperate-pitch",
   "metadata": {
    "ExecuteTime": {
     "end_time": "2021-08-26T10:21:46.983815Z",
     "start_time": "2021-08-26T10:21:46.732544Z"
    }
   },
   "outputs": [],
   "source": [
    "from sklearn.datasets import make_circles\n",
    "from keras.layers import Dense\n",
    "from keras.models import Sequential\n",
    "\n",
    "import matplotlib.pyplot as plt\n",
    "import numpy as np"
   ]
  },
  {
   "cell_type": "code",
   "execution_count": 5,
   "id": "acquired-baker",
   "metadata": {
    "ExecuteTime": {
     "end_time": "2021-08-26T10:24:04.686250Z",
     "start_time": "2021-08-26T10:24:04.420466Z"
    }
   },
   "outputs": [
    {
     "data": {
      "image/png": "[encoded data removed]",
      "text/plain": [
       "<Figure size 432x288 with 1 Axes>"
      ]
     },
     "metadata": {
      "image/png": {
       "height": 248,
       "width": 380
      },
      "needs_background": "light"
     },
     "output_type": "display_data"
    }
   ],
   "source": [
    "# 生成模拟数据(圆形)\n",
    "def create_dataset(n_train, n_test=1000, noise=0.1):\n",
    "    n_samples = n_train + n_test\n",
    "    X, y = make_circles(n_samples=n_samples, noise=noise, random_state=1)\n",
    "    X_train, X_test = X[n_test:, :], X[:n_test, :]\n",
    "    y_train, y_test = y[n_test:], y[:n_test]\n",
    "    return X_train, X_test, y_train, y_test\n",
    "\n",
    "# 显示数据集样例\n",
    "X, _, y, _ = create_dataset(n_train=200, n_test=1)\n",
    "y0_idx, y1_idx = np.where(y == 0), np.where(y == 1)\n",
    "\n",
    "plt.scatter(X[y0_idx, 0], X[y0_idx, 1], color='red');\n",
    "plt.scatter(X[y1_idx, 0], X[y1_idx, 1], color='blue');"
   ]
  },
  {
   "cell_type": "code",
   "execution_count": 4,
   "id": "hairy-julian",
   "metadata": {
    "ExecuteTime": {
     "end_time": "2021-08-26T10:22:17.031278Z",
     "start_time": "2021-08-26T10:21:47.271053Z"
    }
   },
   "outputs": [
    {
     "name": "stdout",
     "output_type": "stream",
     "text": [
      "Train Size=100, Test Accuracy 55.200\n",
      "Train Size=900, Test Accuracy 81.520\n"
     ]
    }
   ],
   "source": [
    "# 感知机模型训练&评估 (分类红色和蓝色点)\n",
    "def evaluate_model(X_train, X_test, y_train, y_test):\n",
    "    model = Sequential()\n",
    "    model.add(Dense(25, input_dim=2, activation='relu'))\n",
    "    model.add(Dense(1, activation='sigmoid'))\n",
    "    model.compile(loss='binary_crossentropy', optimizer='adam', metrics=['accuracy'])\n",
    "    model.fit(X_train, y_train, epochs=100, verbose=0)\n",
    "    _, test_acc = model.evaluate(X_test, y_test, verbose=0)\n",
    "    return test_acc\n",
    "\n",
    "def evaluate_size(n_train, n_repeats=5):\n",
    "    X_train, X_test, y_train, y_test = create_dataset(n_train)\n",
    "    scores = list()\n",
    "    for _ in range(n_repeats):\n",
    "        score = evaluate_model(X_train, X_test, y_train, y_test)\n",
    "        scores.append(score)\n",
    "    return scores\n",
    "\n",
    "# 分别使用不同的数据大小训练, 观察分类正确率\n",
    "sizes = [100, 900]\n",
    "score_sets, means = list(), list()\n",
    "for n_train in sizes:\n",
    "    scores = evaluate_size(n_train)\n",
    "    score_sets.append(scores)\n",
    "    mean_score = np.mean(scores)\n",
    "    means.append(mean_score)\n",
    "    print('Train Size=%d, Test Accuracy %.3f' % (n_train, mean_score*100))"
   ]
  },
  {
   "cell_type": "code",
   "execution_count": null,
   "id": "fatal-smith",
   "metadata": {},
   "outputs": [],
   "source": []
  }
 ],
 "metadata": {
  "hide_input": false,
  "kernelspec": {
   "display_name": "Python 3",
   "language": "python",
   "name": "python3"
  },
  "language_info": {
   "codemirror_mode": {
    "name": "ipython",
    "version": 3
   },
   "file_extension": ".py",
   "mimetype": "text/x-python",
   "name": "python",
   "nbconvert_exporter": "python",
   "pygments_lexer": "ipython3",
   "version": "3.6.9"
  },
  "toc": {
   "base_numbering": 1,
   "nav_menu": {},
   "number_sections": true,
   "sideBar": true,
   "skip_h1_title": true,
   "title_cell": "",
   "title_sidebar": "Contents",
   "toc_cell": false,
   "toc_position": {},
   "toc_section_display": true,
   "toc_window_display": false
  }
 },
 "nbformat": 4,
 "nbformat_minor": 5
}
