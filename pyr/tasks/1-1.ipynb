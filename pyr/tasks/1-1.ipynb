{
 "cells": [
  {
   "cell_type": "code",
   "execution_count": 1,
   "metadata": {
    "ExecuteTime": {
     "end_time": "2020-08-13T14:00:22.952941Z",
     "start_time": "2020-08-13T14:00:22.503768Z"
    }
   },
   "outputs": [],
   "source": [
    "%reload_ext autoreload\n",
    "%autoreload 2\n",
    "%matplotlib inline"
   ]
  },
  {
   "cell_type": "code",
   "execution_count": 2,
   "metadata": {
    "ExecuteTime": {
     "end_time": "2020-08-13T14:00:24.791862Z",
     "start_time": "2020-08-13T14:00:23.352776Z"
    }
   },
   "outputs": [],
   "source": [
    "from k12libs.utils.nb_easy import k12ai_start_html, W3URL\n",
    "from urllib.parse import urlencode\n",
    "import os"
   ]
  },
  {
   "cell_type": "code",
   "execution_count": 10,
   "metadata": {
    "ExecuteTime": {
     "end_time": "2020-08-13T14:28:38.585920Z",
     "start_time": "2020-08-13T14:28:38.549257Z"
    }
   },
   "outputs": [],
   "source": [
    "code='''\n",
    "from k12ai import EasyaiClassifier, EasyaiTrainer\n",
    "\n",
    "trainer = EasyaiTrainer()\n",
    "\n",
    "model = EasyaiClassifier()\n",
    "\n",
    "# 训练\n",
    "trainer.fit(model)\n",
    "\n",
    "# 评估\n",
    "trainer.test(model)\n",
    "'''"
   ]
  },
  {
   "cell_type": "code",
   "execution_count": 11,
   "metadata": {
    "ExecuteTime": {
     "end_time": "2020-08-13T14:28:39.698921Z",
     "start_time": "2020-08-13T14:28:39.649388Z"
    }
   },
   "outputs": [
    {
     "data": {
      "text/html": [
       "<style>.container { width:95% !important; }</style>"
      ],
      "text/plain": [
       "<IPython.core.display.HTML object>"
      ]
     },
     "metadata": {},
     "output_type": "display_data"
    },
    {
     "data": {
      "text/html": [
       "\n",
       "        <iframe\n",
       "            width=\"100%\"\n",
       "            height=\"900px\"\n",
       "            src=\"http://116.85.5.40:9091/codemirror.html?default=%0Afrom+k12ai+import+EasyaiClassifier%2C+EasyaiTrainer%0A%0Atrainer+%3D+EasyaiTrainer%28%29%0A%0Amodel+%3D+EasyaiClassifier%28%29%0A%0A%23+%E8%AE%AD%E7%BB%83%0Atrainer.fit%28model%29%0A%0A%23+%E8%AF%84%E4%BC%B0%0Atrainer.test%28model%29%0A\"\n",
       "            frameborder=\"0\"\n",
       "            allowfullscreen\n",
       "        ></iframe>\n",
       "        "
      ],
      "text/plain": [
       "<IPython.lib.display.IFrame at 0x7fc29bfd3400>"
      ]
     },
     "execution_count": 11,
     "metadata": {},
     "output_type": "execute_result"
    }
   ],
   "source": [
    "params = {'default': code}\n",
    "k12ai_start_html(f'{W3URL}/codemirror.html?{urlencode(params)}', width='100%', height='900px')"
   ]
  }
 ],
 "metadata": {
  "kernelspec": {
   "display_name": "Python 3",
   "language": "python",
   "name": "python3"
  },
  "language_info": {
   "codemirror_mode": {
    "name": "ipython",
    "version": 3
   },
   "file_extension": ".py",
   "mimetype": "text/x-python",
   "name": "python",
   "nbconvert_exporter": "python",
   "pygments_lexer": "ipython3",
   "version": "3.6.9"
  },
  "toc": {
   "base_numbering": 1,
   "nav_menu": {},
   "number_sections": true,
   "sideBar": true,
   "skip_h1_title": true,
   "title_cell": "",
   "title_sidebar": "Contents",
   "toc_cell": false,
   "toc_position": {},
   "toc_section_display": true,
   "toc_window_display": false
  }
 },
 "nbformat": 4,
 "nbformat_minor": 4
}
