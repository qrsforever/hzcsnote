{
 "cells": [
  {
   "cell_type": "code",
   "execution_count": 1,
   "metadata": {
    "ExecuteTime": {
     "end_time": "2020-08-14T10:48:32.003950Z",
     "start_time": "2020-08-14T10:48:31.553014Z"
    }
   },
   "outputs": [],
   "source": [
    "%reload_ext autoreload\n",
    "%autoreload 2\n",
    "%matplotlib inline"
   ]
  },
  {
   "cell_type": "code",
   "execution_count": 7,
   "metadata": {
    "ExecuteTime": {
     "end_time": "2020-08-14T11:04:20.319756Z",
     "start_time": "2020-08-14T11:04:20.278378Z"
    }
   },
   "outputs": [],
   "source": [
    "from k12libs.utils.nb_easy import k12ai_start_html, W3URL\n",
    "from urllib.parse import urlencode\n",
    "import os"
   ]
  },
  {
   "cell_type": "code",
   "execution_count": 34,
   "metadata": {
    "ExecuteTime": {
     "end_time": "2020-08-14T14:26:32.252214Z",
     "start_time": "2020-08-14T14:26:32.207988Z"
    },
    "scrolled": false
   },
   "outputs": [
    {
     "data": {
      "text/html": [
       "<style>.container { width:95% !important; }</style>"
      ],
      "text/plain": [
       "<IPython.core.display.HTML object>"
      ]
     },
     "metadata": {},
     "output_type": "display_data"
    },
    {
     "data": {
      "text/html": [
       "\n",
       "        <iframe\n",
       "            width=\"100%\"\n",
       "            height=\"1400px\"\n",
       "            src=\"http://116.85.5.40:9091/codemirror.html?default=%0Afrom+k12ai+import+EasyaiClassifier%2C+EasyaiTrainer%2C+EasyaiDataset%0Aimport+torch%0Afrom+torch+import+nn%0A%0Aclass+CustomClassifier%28EasyaiClassifier%29%3A%0A++++%0A++++def+configure_optimizer%28self%2C+model%29%3A%0A++++++++return+self.adam%28model.parameters%28%29%2C+base_lr%3D0.001%29%0A%0A++++def+configure_scheduler%28self%2C+optimizer%29%3A%0A++++++++return+self.period_step%28optimizer%2C+step_size%3D30%2C+gamma%3D0.1%29%0A++++%0A++++%23%23+Train%0A++++def+train_dataloader%28self%29%3A%0A++++++++return+self.get_dataloader%28%0A++++++++++++phase%3D%27train%27%2C%0A++++++++++++data_augment%3D%5B%0A++++++++++++++++self.random_resized_crop%28size%3D%28128%2C+128%29%29%2C%0A++++++++++++++++self.random_brightness%28factor%3D0.3%29%2C%0A++++++++++++++++self.random_rotation%28degrees%3D30%29%0A++++++++++++%5D%2C%0A++++++++++++random_order%3DFalse%2C%0A++++++++++++input_size%3D128%2C%0A++++++++++++normalize%3DTrue%2C%0A++++++++++++batch_size%3D32%2C%0A++++++++++++drop_last%3DFalse%2C%0A++++++++++++shuffle%3DFalse%29%0A%0A++++def+training_step%28self%2C+batch%2C+batch_idx%29%3A%0A++++++++x%2C+y%2C+_+%3D+batch%0A++++++++y_hat+%3D+self%28x%29+%23+%2832%2C+10%29%0A++++++++loss+%3D+self.cross_entropy%28y_hat%2C+y%2C+reduction%3D%27mean%27%29%0A++++++++with+torch.no_grad%28%29%3A%0A++++++++++++accuracy+%3D+%28torch.argmax%28y_hat%2C+axis%3D1%29+%3D%3D+y%29.float%28%29.mean%28%29%0A++++++++return+%7B%27loss%27%3A+loss%2C+%27progress_bar%27%3A+%7B%27acc%27%3A+accuracy%7D%7D%0A%0A++++%23+def+training_epoch_end%28self%2C+outputs%29%3A%0A++++%23+++++avg_loss+%3D+torch.stack%28%5Bx%5B%27loss%27%5D+for+x+in+outputs%5D%29.mean%28%29%0A++++%23+++++avg_acc+%3D+torch.stack%28%5Bx%5B%27acc%27%5D+for+x+in+outputs%5D%29.mean%28%29%0A++++%23+++++return+%7B%27progress_bar%27%3A+%7B%27train_loss%27%3A+avg_loss%2C+%27train_acc%27%3A+avg_acc%7D%7D%0A++++++++%0A++++%23%23+Valid%0A++++def+val_dataloader%28self%29%3A%0A++++++++return+self.get_dataloader%28%27val%27%2C%0A++++++++++++++++input_size%3D128%2C%0A++++++++++++++++batch_size%3D32%2C%0A++++++++++++++++drop_last%3DFalse%2C%0A++++++++++++++++shuffle%3DFalse%29%0A%0A++++def+validation_step%28self%2C+batch%2C+batch_idx%29%3A%0A++++++++x%2C+y%2C+_+%3D+batch%0A++++++++y_hat+%3D+self%28x%29+%23+%2832%2C+10%29%0A++++++++loss+%3D+self.cross_entropy%28y_hat%2C+y%2C+reduction%3D%27mean%27%29%0A++++++++accuracy+%3D+%28torch.argmax%28y_hat%2C+axis%3D1%29+%3D%3D+y%29.float%28%29.mean%28%29%0A++++++++return+%7B%27loss%27%3A+loss%2C+%27acc%27%3A+accuracy%7D%0A%0A++++def+validation_epoch_end%28self%2C+outputs%29%3A%0A++++++++avg_loss+%3D+torch.stack%28%5Bx%5B%27loss%27%5D+for+x+in+outputs%5D%29.mean%28%29%0A++++++++avg_acc+%3D+torch.stack%28%5Bx%5B%27acc%27%5D+for+x+in+outputs%5D%29.mean%28%29%0A++++++++return+%7B%27progress_bar%27%3A+%7B%27val_loss%27%3A+avg_loss%2C+%27val_acc%27%3A+avg_acc%7D%7D%0A++++++++%0A++++%23%23+Test%0A++++def+test_dataloader%28self%29%3A%0A++++++++return+self.get_dataloader%28%27test%27%2C%0A++++++++++++++++input_size%3D128%2C%0A++++++++++++++++batch_size%3D32%2C%0A++++++++++++++++drop_last%3DFalse%2C%0A++++++++++++++++shuffle%3DFalse%29%0A%0A++++def+test_step%28self%2C+batch%2C+batch_idx%29%3A%0A++++++++x%2C+y%2C+_+%3D+batch%0A++++++++y_hat+%3D+self%28x%29+%23+%2832%2C+10%29%0A++++++++loss+%3D+self.cross_entropy%28y_hat%2C+y%2C+reduction%3D%27mean%27%29%0A++++++++accuracy+%3D+%28torch.argmax%28y_hat%2C+axis%3D1%29+%3D%3D+y%29.float%28%29.mean%28%29%0A++++++++return+%7B%27acc%27%3A+accuracy%7D%0A%0A++++def+test_epoch_end%28self%2C+outputs%29%3A%0A++++++++avg_acc+%3D+torch.stack%28%5Bx%5B%27acc%27%5D+for+x+in+outputs%5D%29.mean%28%29%0A++++++++return+%7B%27test_acc%27%3A+avg_acc%7D%0A%0A++++%0Atrainer+%3D+EasyaiTrainer%28%0A++++max_epochs%3D1%2C+%23+%E8%AE%AD%E7%BB%83%E8%BF%87%E7%A8%8B%E9%81%8D%E5%8E%86%E5%AE%8C%E6%95%B4%E6%95%B0%E6%8D%AE%E9%9B%86%E7%9A%84%E6%80%BB%E6%AC%A1%E6%95%B0%28epoch%29%0A++++resume%3DFalse%2C+%23+True%3A+%E6%A8%A1%E5%9E%8B%E7%BB%A7%E7%BB%AD%E4%B8%8A%E6%AC%A1%E8%AE%AD%E7%BB%83%28%E6%A8%A1%E5%9E%8B%E5%BF%85%E9%A1%BB%E6%B2%A1%E6%9C%89%E6%94%B9%E5%8F%98%29%0A++++log_rate%3D2%2C+++%23+%E6%97%A5%E5%BF%97%E6%89%93%E5%8D%B0%E7%9A%84%E9%A2%91%E7%8E%87%2C+%E5%8D%95%E4%BD%8D%E6%98%AF%E8%BF%AD%E4%BB%A3%E6%AC%A1%E6%95%B0%28iteration+step%29+%0A++++model_summary%3D%27full%27%2C%0A++++model_ckpt%3D%7B%27monitor%27%3A+%27val_loss%27%2C+%27period%27%3A+2%2C+%27mode%27%3A+%27min%27%7D%2C%0A++++early_stop%3D%7B%27monitor%27%3A+%27val_acc%27%2C+%27patience%27%3A+3%2C+%27mode%27%3A+%27max%27%7D%0A%29%0A%0Amodel+%3D+CustomClassifier%28%29%0A%0A%23+%E8%AE%AD%E7%BB%83%0Atrainer.fit%28model%29%0A%0A%23+%E8%AF%84%E4%BC%B0%0Atrainer.test%28model%29%0A%0A\"\n",
       "            frameborder=\"0\"\n",
       "            allowfullscreen\n",
       "        ></iframe>\n",
       "        "
      ],
      "text/plain": [
       "<IPython.lib.display.IFrame at 0x7fc8de1f53c8>"
      ]
     },
     "execution_count": 34,
     "metadata": {},
     "output_type": "execute_result"
    }
   ],
   "source": [
    "code='''\n",
    "from k12ai import EasyaiClassifier, EasyaiTrainer, EasyaiDataset\n",
    "import torch\n",
    "from torch import nn\n",
    "\n",
    "class CustomClassifier(EasyaiClassifier):\n",
    "    \n",
    "    def configure_optimizer(self, model):\n",
    "        return self.adam(model.parameters(), base_lr=0.001)\n",
    "\n",
    "    def configure_scheduler(self, optimizer):\n",
    "        return self.period_step(optimizer, step_size=30, gamma=0.1)\n",
    "    \n",
    "    ## Train\n",
    "    def train_dataloader(self):\n",
    "        return self.get_dataloader(\n",
    "            phase='train', # [M]\n",
    "            data_augment=[\n",
    "                self.random_resized_crop(size=(128, 128)),\n",
    "                self.random_brightness(factor=0.3),\n",
    "                self.random_rotation(degrees=30)\n",
    "            ], # [O]\n",
    "            random_order=False, # [O]\n",
    "            input_size=128,\n",
    "            normalize=True,\n",
    "            batch_size=32,\n",
    "            drop_last=False,\n",
    "            shuffle=False)\n",
    "\n",
    "    def training_step(self, batch, batch_idx):\n",
    "        x, y, _ = batch\n",
    "        y_hat = self(x) # (32, 10)\n",
    "        loss = self.cross_entropy(y_hat, y, reduction='mean')\n",
    "        with torch.no_grad():\n",
    "            accuracy = (torch.argmax(y_hat, axis=1) == y).float().mean()\n",
    "        return {'loss': loss, 'progress_bar': {'acc': accuracy}}\n",
    "\n",
    "    # def training_epoch_end(self, outputs):\n",
    "    #     avg_loss = torch.stack([x['loss'] for x in outputs]).mean()\n",
    "    #     avg_acc = torch.stack([x['acc'] for x in outputs]).mean()\n",
    "    #     return {'progress_bar': {'train_loss': avg_loss, 'train_acc': avg_acc}}\n",
    "        \n",
    "    ## Valid\n",
    "    def val_dataloader(self):\n",
    "        return self.get_dataloader('val',\n",
    "                input_size=128,\n",
    "                batch_size=32,\n",
    "                drop_last=False,\n",
    "                shuffle=False)\n",
    "\n",
    "    def validation_step(self, batch, batch_idx):\n",
    "        x, y, _ = batch\n",
    "        y_hat = self(x) # (32, 10)\n",
    "        loss = self.cross_entropy(y_hat, y, reduction='mean')\n",
    "        accuracy = (torch.argmax(y_hat, axis=1) == y).float().mean()\n",
    "        return {'loss': loss, 'acc': accuracy}\n",
    "\n",
    "    def validation_epoch_end(self, outputs):\n",
    "        avg_loss = torch.stack([x['loss'] for x in outputs]).mean()\n",
    "        avg_acc = torch.stack([x['acc'] for x in outputs]).mean()\n",
    "        return {'progress_bar': {'val_loss': avg_loss, 'val_acc': avg_acc}}\n",
    "        \n",
    "    ## Test\n",
    "    def test_dataloader(self):\n",
    "        return self.get_dataloader('test',\n",
    "                input_size=128,\n",
    "                batch_size=32,\n",
    "                drop_last=False,\n",
    "                shuffle=False)\n",
    "\n",
    "    def test_step(self, batch, batch_idx):\n",
    "        x, y, _ = batch\n",
    "        y_hat = self(x) # (32, 10)\n",
    "        loss = self.cross_entropy(y_hat, y, reduction='mean')\n",
    "        accuracy = (torch.argmax(y_hat, axis=1) == y).float().mean()\n",
    "        return {'acc': accuracy}\n",
    "\n",
    "    def test_epoch_end(self, outputs):\n",
    "        avg_acc = torch.stack([x['acc'] for x in outputs]).mean()\n",
    "        return {'test_acc': avg_acc}\n",
    "\n",
    "    \n",
    "trainer = EasyaiTrainer(\n",
    "    max_epochs=1, # 训练过程遍历完整数据集的总次数(epoch)\n",
    "    resume=False, # True: 模型继续上次训练(模型必须没有改变)\n",
    "    log_rate=2,   # 日志打印的频率, 单位是迭代次数(iteration step) \n",
    "    model_summary='full',\n",
    "    model_ckpt={'monitor': 'val_loss', 'period': 2, 'mode': 'min'},\n",
    "    early_stop={'monitor': 'val_acc', 'patience': 3, 'mode': 'max'}\n",
    ")\n",
    "\n",
    "model = CustomClassifier()\n",
    "\n",
    "# 训练\n",
    "trainer.fit(model)\n",
    "\n",
    "# 评估\n",
    "trainer.test(model)\n",
    "\n",
    "'''\n",
    "\n",
    "params = {'default': code}\n",
    "k12ai_start_html(f'{W3URL}/codemirror.html?{urlencode(params)}', width='100%', height='1400px')"
   ]
  }
 ],
 "metadata": {
  "kernelspec": {
   "display_name": "Python 3",
   "language": "python",
   "name": "python3"
  },
  "language_info": {
   "codemirror_mode": {
    "name": "ipython",
    "version": 3
   },
   "file_extension": ".py",
   "mimetype": "text/x-python",
   "name": "python",
   "nbconvert_exporter": "python",
   "pygments_lexer": "ipython3",
   "version": "3.6.9"
  },
  "toc": {
   "base_numbering": 1,
   "nav_menu": {},
   "number_sections": true,
   "sideBar": true,
   "skip_h1_title": true,
   "title_cell": "",
   "title_sidebar": "Contents",
   "toc_cell": false,
   "toc_position": {},
   "toc_section_display": true,
   "toc_window_display": false
  }
 },
 "nbformat": 4,
 "nbformat_minor": 4
}
