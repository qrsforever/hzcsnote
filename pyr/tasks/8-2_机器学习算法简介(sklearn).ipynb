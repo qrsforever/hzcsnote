{
 "cells": [
  {
   "cell_type": "code",
   "execution_count": 1,
   "metadata": {
    "ExecuteTime": {
     "end_time": "2020-09-15T12:48:03.740297Z",
     "start_time": "2020-09-15T12:48:01.135500Z"
    },
    "hide_input": true,
    "scrolled": true
   },
   "outputs": [
    {
     "data": {
      "text/html": [
       "<style>.container { width:95% !important; }</style>"
      ],
      "text/plain": [
       "<IPython.core.display.HTML object>"
      ]
     },
     "metadata": {},
     "output_type": "display_data"
    }
   ],
   "source": [
    "%reload_ext autoreload\n",
    "%autoreload 2\n",
    "\n",
    "! [ -L /datasets ] && rm -f /datasets\n",
    "! ln -s /data/datasets/ /datasets\n",
    "\n",
    "from k12libs.utils.nb_easy import k12ai_set_notebook\n",
    "\n",
    "k12ai_set_notebook(cellw=95)"
   ]
  },
  {
   "cell_type": "markdown",
   "metadata": {},
   "source": [
    "## 需掌握知识点\n",
    "\n",
    "KNN, 决策树，随机森林，集成学习等算法原理介绍"
   ]
  },
  {
   "cell_type": "code",
   "execution_count": 2,
   "metadata": {
    "ExecuteTime": {
     "end_time": "2020-09-15T12:48:05.852386Z",
     "start_time": "2020-09-15T12:48:03.744744Z"
    },
    "scrolled": false
   },
   "outputs": [
    {
     "name": "stdout",
     "output_type": "stream",
     "text": [
      "R^2: 0.8979223692688175\n",
      "MAE: 16141.597900173347\n",
      "MSE: 612172713.8923123\n",
      "MSLE 0.018965317343788066\n"
     ]
    }
   ],
   "source": [
    "import pandas as pd\n",
    "import numpy as np\n",
    "\n",
    "from sklearn import preprocessing \n",
    "from sklearn.model_selection import train_test_split\n",
    "from sklearn.ensemble import GradientBoostingRegressor\n",
    "\n",
    "# Metrics\n",
    "from sklearn.metrics import mean_absolute_error\n",
    "from sklearn.metrics import mean_squared_error\n",
    "from sklearn.metrics import mean_squared_log_error\n",
    "from sklearn.metrics import median_absolute_error\n",
    "from sklearn.metrics import r2_score\n",
    "\n",
    "## 加载数据\n",
    "df_train = pd.read_csv('/datasets/ml/house-prices/train.csv')\n",
    "\n",
    "## 数据处理\n",
    "def data_preprocess(df):\n",
    "    ### 添加新的特征\n",
    "    df['TotalSA'] = df['TotalBsmtSF'] + df['1stFlrSF'] + df['2ndFlrSF']\n",
    "\n",
    "    ### 有序类别编码\n",
    "    bin_map  = {\n",
    "        'TA':2,'Gd':3, 'Fa':1,'Ex':4,'Po':1,'None':0,'Y':1,'N':0,'Reg':3,'IR1':2,'IR2':1,'IR3':0,\"None\" : 0,\n",
    "        \"No\" : 2, \"Mn\" : 2, \"Av\": 3,\"Gd\" : 4,\"Unf\" : 1, \"LwQ\": 2, \"Rec\" : 3,\"BLQ\" : 4, \"ALQ\" : 5, \"GLQ\" : 6\n",
    "    }\n",
    "    df['PavedDrive'] = df['PavedDrive'].map({'N' : 0, 'P' : 1, 'Y' : 2})\n",
    "    df['ExterQual'] = df['ExterQual'].map(bin_map)\n",
    "    df['ExterCond'] = df['ExterCond'].map(bin_map)\n",
    "    df['BsmtCond'] = df['BsmtCond'].map(bin_map)\n",
    "    df['BsmtQual'] = df['BsmtQual'].map(bin_map)\n",
    "    df['HeatingQC'] = df['HeatingQC'].map(bin_map)\n",
    "    df['KitchenQual'] = df['KitchenQual'].map(bin_map)\n",
    "    df['FireplaceQu'] = df['FireplaceQu'].map(bin_map)\n",
    "    df['GarageQual'] = df['GarageQual'].map(bin_map)\n",
    "    df['GarageCond'] = df['GarageCond'].map(bin_map)\n",
    "    df['CentralAir'] = df['CentralAir'].map(bin_map)\n",
    "    df['LotShape'] = df['LotShape'].map(bin_map)\n",
    "    df['BsmtExposure'] = df['BsmtExposure'].map(bin_map)\n",
    "    df['BsmtFinType1'] = df['BsmtFinType1'].map(bin_map)\n",
    "    df['BsmtFinType2'] = df['BsmtFinType2'].map(bin_map)\n",
    "\n",
    "    ### 时间特征编码\n",
    "    lab = preprocessing.LabelEncoder()\n",
    "    df['YearBuilt'] = lab.fit_transform(df['YearBuilt'])\n",
    "    df['YearRemodAdd'] = lab.fit_transform(df['YearRemodAdd'])\n",
    "\n",
    "    ### One-Hot编码\n",
    "    rest_object_df = df.select_dtypes(include=['object'])\n",
    "    df = pd.get_dummies(df, columns=rest_object_df.columns)\n",
    "    df.head()\n",
    "\n",
    "    ### 数据对数转换\n",
    "    skew = df.apply(lambda x: x.skew())\n",
    "    skew.drop(['SalePrice'], inplace=True)\n",
    "    skew_features = skew[abs(skew) >= 1].index\n",
    "    df[skew_features] = np.log1p(df[skew_features])\n",
    "\n",
    "    # 数据正则化\n",
    "    def normalize(x):\n",
    "        if x.name in ['SalePrice']:\n",
    "            return x\n",
    "        return round((x - x.mean()) / x.std(), 3)\n",
    "    return df.apply(normalize)\n",
    "\n",
    "df_train = data_preprocess(df_train)\n",
    "\n",
    "## 数据分割\n",
    "X = df_train.drop('SalePrice', axis=1) # 特征\n",
    "y = df_train['SalePrice'] # 目标\n",
    "X_train, X_test, y_train, y_test = train_test_split(\n",
    "    X,\n",
    "    y,\n",
    "    train_size=.8)\n",
    "\n",
    "## 构建模型\n",
    "gbr = GradientBoostingRegressor(\n",
    "    loss = 'ls',  # least squares\n",
    "    learning_rate = 0.1, \n",
    ")\n",
    "\n",
    "## 训练预测\n",
    "y_pred = gbr.fit(X_train, y_train).predict(X_test)\n",
    "\n",
    "## 模型特性\n",
    "print('R^2:', r2_score(y_test, y_pred))\n",
    "print('MAE:', mean_absolute_error(y_test, y_pred))\n",
    "print('MSE:', mean_squared_error(y_test, y_pred))\n",
    "print('MSLE', mean_squared_log_error(y_test, y_pred))"
   ]
  }
 ],
 "metadata": {
  "kernelspec": {
   "display_name": "Python 3",
   "language": "python",
   "name": "python3"
  },
  "language_info": {
   "codemirror_mode": {
    "name": "ipython",
    "version": 3
   },
   "file_extension": ".py",
   "mimetype": "text/x-python",
   "name": "python",
   "nbconvert_exporter": "python",
   "pygments_lexer": "ipython3",
   "version": "3.6.9"
  },
  "toc": {
   "base_numbering": 1,
   "nav_menu": {},
   "number_sections": true,
   "sideBar": true,
   "skip_h1_title": true,
   "title_cell": "",
   "title_sidebar": "Contents",
   "toc_cell": false,
   "toc_position": {},
   "toc_section_display": true,
   "toc_window_display": false
  }
 },
 "nbformat": 4,
 "nbformat_minor": 4
}
