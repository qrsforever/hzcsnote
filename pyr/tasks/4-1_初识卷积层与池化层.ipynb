{
 "cells": [
  {
   "cell_type": "code",
   "execution_count": 3,
   "metadata": {
    "ExecuteTime": {
     "end_time": "2020-09-01T09:59:11.980507Z",
     "start_time": "2020-09-01T09:59:09.757626Z"
    },
    "hide_input": true,
    "scrolled": true
   },
   "outputs": [
    {
     "data": {
      "text/html": [
       "<style>.container { width:95% !important; }</style>"
      ],
      "text/plain": [
       "<IPython.core.display.HTML object>"
      ]
     },
     "metadata": {},
     "output_type": "display_data"
    }
   ],
   "source": [
    "%reload_ext autoreload\n",
    "%autoreload 2\n",
    "\n",
    "! [ -L /datasets ] && rm -f /datasets\n",
    "! ln -s /data/datasets/cv /datasets\n",
    "\n",
    "from k12libs.utils.nb_easy import k12ai_set_notebook\n",
    "\n",
    "k12ai_set_notebook(cellw=95)"
   ]
  },
  {
   "cell_type": "markdown",
   "metadata": {},
   "source": [
    "## 需掌握知识点\n",
    "\n",
    "1. 卷积层基本功能\n",
    "2. 池化层基本功能"
   ]
  },
  {
   "cell_type": "code",
   "execution_count": 6,
   "metadata": {
    "ExecuteTime": {
     "end_time": "2020-09-01T10:10:03.993558Z",
     "start_time": "2020-09-01T10:09:12.168634Z"
    },
    "scrolled": false
   },
   "outputs": [
    {
     "name": "stderr",
     "output_type": "stream",
     "text": [
      "GPU available: True, used: True\n",
      "TPU available: False, using: 0 TPU cores\n",
      "CUDA_VISIBLE_DEVICES: [0]\n"
     ]
    },
    {
     "name": "stdout",
     "output_type": "stream",
     "text": [
      "--------------------------------------------------------------------------------\n",
      "{'classes': ['salviasplendens',\n",
      "             'daffodil',\n",
      "             'snowdrop',\n",
      "             'lilyvalley',\n",
      "             'bluebell',\n",
      "             'crocus',\n",
      "             'iris',\n",
      "             'tigerlily',\n",
      "             'tulip',\n",
      "             'fritillary',\n",
      "             'sunflower',\n",
      "             'daisy',\n",
      "             'coltsfoot',\n",
      "             'dandelion',\n",
      "             'cowslip',\n",
      "             'buttercup',\n",
      "             'windflower',\n",
      "             'pansy',\n",
      "             'coxcomb',\n",
      "             'flamingo',\n",
      "             'lily',\n",
      "             'lotus'],\n",
      " 'mean': [0.4623, 0.4305, 0.295],\n",
      " 'records': 1760,\n",
      " 'std': [0.252, 0.2242, 0.2091]}\n",
      "--------------------------------------------------------------------------------\n",
      "\n",
      "--------------------------------------------------------------------------------\n",
      "\n",
      "  | Name                     | Type        | Params | In sizes           | Out sizes         \n",
      "---------------------------------------------------------------------------------------------------\n",
      "0 | model                    | ConvNetwork | 77 M   | [32, 3, 224, 224]  | [32, 22]          \n",
      "1 | model.conv_net           | Sequential  | 77 M   | [32, 3, 224, 224]  | [32, 22]          \n",
      "2 | model.conv_net.batchnorm | BatchNorm2d | 6      | [32, 3, 224, 224]  | [32, 3, 224, 224] \n",
      "3 | model.conv_net.conv2d    | Conv2d      | 9 K    | [32, 3, 224, 224]  | [32, 64, 110, 110]\n",
      "4 | model.conv_net.maxpool2d | MaxPool2d   | 0      | [32, 64, 110, 110] | [32, 64, 110, 110]\n",
      "5 | model.conv_net.flatten   | Flatten     | 0      | [32, 64, 110, 110] | [32, 774400]      \n",
      "6 | model.conv_net.linear1   | Linear      | 77 M   | [32, 774400]       | [32, 100]         \n",
      "7 | model.conv_net.linear2   | Linear      | 2 K    | [32, 100]          | [32, 22]          \n",
      "\n",
      "--------------------------------------------------------------------------------\n"
     ]
    },
    {
     "data": {
      "application/vnd.jupyter.widget-view+json": {
       "model_id": "b759fb44ed0c496e828eb17ac176e5ff",
       "version_major": 2,
       "version_minor": 0
      },
      "text/plain": [
       "HBox(children=(FloatProgress(value=1.0, bar_style='info', description='Training', layout=Layout(flex='2'), max…"
      ]
     },
     "metadata": {},
     "output_type": "display_data"
    },
    {
     "name": "stderr",
     "output_type": "stream",
     "text": [
      "Saving latest checkpoint..\n"
     ]
    },
    {
     "name": "stdout",
     "output_type": "stream",
     "text": [
      "\n",
      "--------------------------------------------------------------------------------\n",
      "{'classes': ['salviasplendens',\n",
      "             'daffodil',\n",
      "             'snowdrop',\n",
      "             'lilyvalley',\n",
      "             'bluebell',\n",
      "             'crocus',\n",
      "             'iris',\n",
      "             'tigerlily',\n",
      "             'tulip',\n",
      "             'fritillary',\n",
      "             'sunflower',\n",
      "             'daisy',\n",
      "             'coltsfoot',\n",
      "             'dandelion',\n",
      "             'cowslip',\n",
      "             'buttercup',\n",
      "             'windflower',\n",
      "             'pansy',\n",
      "             'coxcomb',\n",
      "             'flamingo',\n",
      "             'lily',\n",
      "             'lotus'],\n",
      " 'mean': [0.4623, 0.4305, 0.295],\n",
      " 'records': 1760,\n",
      " 'std': [0.252, 0.2242, 0.2091]}\n",
      "--------------------------------------------------------------------------------\n"
     ]
    },
    {
     "data": {
      "application/vnd.jupyter.widget-view+json": {
       "model_id": "884dcb0ffebf4010aec7ba7460fc335a",
       "version_major": 2,
       "version_minor": 0
      },
      "text/plain": [
       "HBox(children=(FloatProgress(value=1.0, bar_style='info', description='Testing', layout=Layout(flex='2'), max=…"
      ]
     },
     "metadata": {},
     "output_type": "display_data"
    },
    {
     "name": "stdout",
     "output_type": "stream",
     "text": [
      "\n",
      "--------------------------------------------------------------------------------\n",
      "{'test_acc': 0.2955729365348816}\n",
      "--------------------------------------------------------------------------------\n"
     ]
    }
   ],
   "source": [
    "from pyr.app.k12ai import EasyaiClassifier, EasyaiTrainer\n",
    "import torch\n",
    "from torch import nn\n",
    "\n",
    "class CustomClassifier(EasyaiClassifier):\n",
    "    \n",
    "    def __init__(self):\n",
    "        super().__init__()\n",
    "        self.input_size = 224\n",
    "        self.batch_size = 32\n",
    "        \n",
    "        # 输出模型shape\n",
    "        self.example_input_array = torch.zeros(\n",
    "            self.batch_size, 3, self.input_size, self.input_size) \n",
    "\n",
    "    def prepare_dataset(self):\n",
    "        \"\"\"\n",
    "        flowers: 22个分类\n",
    "            0: 'salviasplendens' 鼠尾草\n",
    "            1: 'daffodil' 水仙花\n",
    "            2: 'snowdrop' 雪花莲\n",
    "            3: 'lilyvalley' 铃兰花\n",
    "            4: 'bluebell' 野风信子\n",
    "            5: 'crocus' 番红花\n",
    "            6: 'iris' 鸢尾花\n",
    "            7: 'tigerlily' 卷丹\n",
    "            8: 'tulip'  郁金香\n",
    "            9: 'fritillary' 豹纹蝶\n",
    "           10: 'sunflower' 向日葵\n",
    "           11: 'daisy' 雏菊\n",
    "           12: 'coltsfoot' 款冬\n",
    "           13: 'dandelion' 蒲公英\n",
    "           14: 'cowslip' 黄花九轮草\n",
    "           15: 'buttercup' 毛茛\n",
    "           16: 'windflower' 白头翁\n",
    "           17: 'pansy' 蝴蝶花\n",
    "           18: 'coxcomb'  鸡冠花\n",
    "           19: 'flamingo' 红鹤\n",
    "           20: 'lily'  百合花\n",
    "           21: 'lotus' 荷花\n",
    "        \"\"\"\n",
    "        return self.load_flowers()\n",
    "    \n",
    "    def build_model(self):\n",
    "        class ConvNetwork(nn.Module):\n",
    "            def __init__(self, num_classes):\n",
    "                super().__init__()\n",
    "                self.conv_net = nn.Sequential()\n",
    "                self.conv_net.add_module('batchnorm', nn.BatchNorm2d(num_features=3, momentum=0.1))\n",
    "                self.conv_net.add_module('conv2d', nn.Conv2d(in_channels=3, out_channels=64, kernel_size=7, stride=2, padding=1, bias=True))\n",
    "                self.conv_net.add_module('maxpool2d', nn.MaxPool2d(kernel_size=3, stride=1, padding=1, ceil_mode=False))\n",
    "                self.conv_net.add_module('flatten', nn.Flatten(start_dim=1, end_dim=-1))\n",
    "                self.conv_net.add_module('linear1', nn.Linear(in_features=774400, out_features=100, bias=True))\n",
    "                self.conv_net.add_module('linear2', nn.Linear(in_features=100, out_features=num_classes, bias=True))\n",
    "\n",
    "            def forward(self, x):\n",
    "                return self.conv_net(x)\n",
    "        return ConvNetwork(num_classes=22) # input: (32, 3, 224, 224)\n",
    "    \n",
    "    def train_dataloader(self):\n",
    "        batch_size = 32\n",
    "        input_size = 224\n",
    "        # \n",
    "        return self.get_dataloader('train', input_size, batch_size)\n",
    "     \n",
    "    def training_step(self, batch, batch_idx):\n",
    "        x, y, _ = batch\n",
    "        y_hat = self(x)\n",
    "        loss = self.cross_entropy(y_hat, y, reduction='mean') # 损失方法\n",
    "        with torch.no_grad():\n",
    "            accuracy = (torch.argmax(y_hat, axis=1) == y).float().mean()\n",
    "        return {'loss': loss, 'progress_bar': {'acc': accuracy}}\n",
    "\n",
    "    def val_dataloader(self):\n",
    "        return self.get_dataloader(phase='val', input_size=224, batch_size=32)\n",
    "    \n",
    "    def validation_step(self, batch, batch_idx):\n",
    "        x, y, _ = batch\n",
    "        y_hat = self(x)\n",
    "        loss = self.cross_entropy(y_hat, y, reduction='mean')\n",
    "        accuracy = (torch.argmax(y_hat, axis=1) == y).float().mean()\n",
    "        return {'loss': loss, 'acc': accuracy}\n",
    "        \n",
    "    def validation_epoch_end(self, outputs):\n",
    "        avg_loss = torch.stack([x['loss'] for x in outputs]).mean()\n",
    "        avg_acc = torch.stack([x['acc'] for x in outputs]).mean()\n",
    "        return {'progress_bar': {'val_loss': avg_loss, 'val_acc': avg_acc}}\n",
    "    \n",
    "    def test_dataloader(self):\n",
    "        return self.get_dataloader('test', input_size=224, batch_size=32)\n",
    "    \n",
    "    \n",
    "trainer = EasyaiTrainer(max_epochs=5, model_summary='full')\n",
    "\n",
    "model = CustomClassifier()\n",
    "\n",
    "# 训练\n",
    "trainer.fit(model)\n",
    "\n",
    "trainer.test()"
   ]
  }
 ],
 "metadata": {
  "kernelspec": {
   "display_name": "Python 3",
   "language": "python",
   "name": "python3"
  },
  "language_info": {
   "codemirror_mode": {
    "name": "ipython",
    "version": 3
   },
   "file_extension": ".py",
   "mimetype": "text/x-python",
   "name": "python",
   "nbconvert_exporter": "python",
   "pygments_lexer": "ipython3",
   "version": "3.6.9"
  },
  "toc": {
   "base_numbering": 1,
   "nav_menu": {},
   "number_sections": true,
   "sideBar": true,
   "skip_h1_title": true,
   "title_cell": "",
   "title_sidebar": "Contents",
   "toc_cell": false,
   "toc_position": {},
   "toc_section_display": true,
   "toc_window_display": false
  }
 },
 "nbformat": 4,
 "nbformat_minor": 4
}
