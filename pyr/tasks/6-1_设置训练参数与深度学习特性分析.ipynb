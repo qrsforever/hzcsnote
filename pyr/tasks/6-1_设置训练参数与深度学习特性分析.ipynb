{
 "cells": [
  {
   "cell_type": "code",
   "execution_count": 1,
   "metadata": {
    "ExecuteTime": {
     "end_time": "2020-09-02T15:11:38.290329Z",
     "start_time": "2020-09-02T15:11:35.501460Z"
    },
    "hide_input": true,
    "scrolled": true
   },
   "outputs": [
    {
     "data": {
      "text/html": [
       "<style>.container { width:95% !important; }</style>"
      ],
      "text/plain": [
       "<IPython.core.display.HTML object>"
      ]
     },
     "metadata": {},
     "output_type": "display_data"
    }
   ],
   "source": [
    "%reload_ext autoreload\n",
    "%autoreload 2\n",
    "\n",
    "! [ -L /datasets ] && rm -f /datasets\n",
    "! ln -s /data/datasets/cv /datasets\n",
    "\n",
    "from k12libs.utils.nb_easy import k12ai_set_notebook\n",
    "\n",
    "k12ai_set_notebook(cellw=95)"
   ]
  },
  {
   "cell_type": "markdown",
   "metadata": {},
   "source": [
    "## 需掌握知识点\n",
    "\n",
    "1. 学习率\n",
    "2. 批量数(Batch Size)\n",
    "3. 优化器"
   ]
  },
  {
   "cell_type": "code",
   "execution_count": 2,
   "metadata": {
    "ExecuteTime": {
     "end_time": "2020-09-02T15:12:09.453398Z",
     "start_time": "2020-09-02T15:11:38.294575Z"
    },
    "scrolled": false
   },
   "outputs": [
    {
     "name": "stderr",
     "output_type": "stream",
     "text": [
      "GPU available: True, used: True\n",
      "TPU available: False, using: 0 TPU cores\n",
      "CUDA_VISIBLE_DEVICES: [0]\n"
     ]
    },
    {
     "name": "stdout",
     "output_type": "stream",
     "text": [
      "--------------------------------------------------------------------------------\n",
      "{'label_names': ['Banana', 'Pear', 'Lemon', 'Apple', 'Orange'],\n",
      " 'mean': [0.7507, 0.6427, 0.5061],\n",
      " 'num_classes': 5,\n",
      " 'num_records': 3263,\n",
      " 'std': [0.2251, 0.2804, 0.3714]}\n",
      "\n",
      "--------------------------------------------------------------------------------\n",
      "\n",
      "   | Name               | Type       | Params | In sizes          | Out sizes       \n",
      "------------------------------------------------------------------------------------------\n",
      "0  | model              | LeNet      | 942 K  | [32, 3, 100, 100] | [32, 5]         \n",
      "1  | model.features     | Sequential | 2 K    | [32, 3, 100, 100] | [32, 16, 22, 22]\n",
      "2  | model.features.0   | Conv2d     | 456    | [32, 3, 100, 100] | [32, 6, 96, 96] \n",
      "3  | model.features.1   | Tanh       | 0      | [32, 6, 96, 96]   | [32, 6, 96, 96] \n",
      "4  | model.features.2   | AvgPool2d  | 0      | [32, 6, 96, 96]   | [32, 6, 48, 48] \n",
      "5  | model.features.3   | Conv2d     | 2 K    | [32, 6, 48, 48]   | [32, 16, 44, 44]\n",
      "6  | model.features.4   | Tanh       | 0      | [32, 16, 44, 44]  | [32, 16, 44, 44]\n",
      "7  | model.features.5   | AvgPool2d  | 0      | [32, 16, 44, 44]  | [32, 16, 22, 22]\n",
      "8  | model.classifier   | Sequential | 939 K  | [32, 16, 22, 22]  | [32, 5]         \n",
      "9  | model.classifier.0 | Flatten    | 0      | [32, 16, 22, 22]  | [32, 7744]      \n",
      "10 | model.classifier.1 | Linear     | 929 K  | [32, 7744]        | [32, 120]       \n",
      "11 | model.classifier.2 | Tanh       | 0      | [32, 120]         | [32, 120]       \n",
      "12 | model.classifier.3 | Linear     | 10 K   | [32, 120]         | [32, 84]        \n",
      "13 | model.classifier.4 | Tanh       | 0      | [32, 84]          | [32, 84]        \n",
      "14 | model.classifier.5 | Linear     | 425    | [32, 84]          | [32, 5]         \n"
     ]
    },
    {
     "data": {
      "application/vnd.jupyter.widget-view+json": {
       "model_id": "daa8b09ea4424d35aac33d177153103e",
       "version_major": 2,
       "version_minor": 0
      },
      "text/plain": [
       "HBox(children=(FloatProgress(value=1.0, bar_style='info', description='Training', layout=Layout(flex='2'), max…"
      ]
     },
     "metadata": {},
     "output_type": "display_data"
    },
    {
     "name": "stderr",
     "output_type": "stream",
     "text": [
      "Saving latest checkpoint..\n"
     ]
    },
    {
     "name": "stdout",
     "output_type": "stream",
     "text": [
      "\n",
      "(fit)\tGPU-0 memory allocated: 7.2 MB\t max memory allocated: 38.67 MB\n",
      "--------------------------------------------------------------------------------\n",
      "{'label_names': ['Banana', 'Pear', 'Lemon', 'Apple', 'Orange'],\n",
      " 'mean': [0.7507, 0.6427, 0.5061],\n",
      " 'num_classes': 5,\n",
      " 'num_records': 3263,\n",
      " 'std': [0.2251, 0.2804, 0.3714]}\n"
     ]
    },
    {
     "data": {
      "application/vnd.jupyter.widget-view+json": {
       "model_id": "ccf45dbee1e44d1c961bcd5f4f74c910",
       "version_major": 2,
       "version_minor": 0
      },
      "text/plain": [
       "HBox(children=(FloatProgress(value=1.0, bar_style='info', description='Testing', layout=Layout(flex='2'), max=…"
      ]
     },
     "metadata": {},
     "output_type": "display_data"
    },
    {
     "name": "stdout",
     "output_type": "stream",
     "text": [
      "\n",
      "(fit)\tGPU-0 memory allocated: 10.8 MB\t max memory allocated: 38.67 MB\n",
      "(test)\tGPU-0 memory allocated: 10.8 MB\t max memory allocated: 38.67 MB\n",
      "--------------------------------------------------------------------------------\n",
      "{'test_acc': 0.20365919172763824}\n",
      "--------------------------------------------------------------------------------\n"
     ]
    }
   ],
   "source": [
    "%reset -f\n",
    "\n",
    "from pyr.app.k12ai import EasyaiClassifier, EasyaiTrainer\n",
    "import torch\n",
    "from torch import nn\n",
    "from sklearn.metrics import confusion_matrix\n",
    "\n",
    "class CustomClassifier(EasyaiClassifier):\n",
    "    \n",
    "    def __init__(self):\n",
    "        super().__init__()\n",
    "        self.input_size = 100 # 输入模型的图片大小\n",
    "        self.batch_size = 32  # 输入模型的图片数量\n",
    "        \n",
    "        # 调试: 日志输出模型shape\n",
    "        self.example_input_array = torch.zeros(\n",
    "            self.batch_size, 3, self.input_size, self.input_size) \n",
    "\n",
    "    def prepare_dataset(self):\n",
    "        \"\"\"\n",
    "        水果数据集:\n",
    "            0: 'Banana'  香蕉\n",
    "            1: 'Pear'    梨子\n",
    "            2: 'Lemon'   柠檬\n",
    "            3: 'Apple'   苹果\n",
    "            4: 'Orange'  橘子\n",
    "        \"\"\"\n",
    "        return self.load_fruits()\n",
    "    \n",
    "    def build_model(self):\n",
    "        class LeNet(nn.Module):\n",
    "            def __init__(self, num_classes):\n",
    "                super().__init__()\n",
    "                self.features = nn.Sequential(\n",
    "                    nn.Conv2d(3, 6, kernel_size=5),\n",
    "                    nn.Tanh(),\n",
    "                    nn.AvgPool2d(2, stride=2),\n",
    "                    nn.Conv2d(6, 16, kernel_size=5),\n",
    "                    nn.Tanh(),\n",
    "                    nn.AvgPool2d(2, stride=2)\n",
    "                )\n",
    "                self.classifier = nn.Sequential(\n",
    "                    nn.Flatten(start_dim=1, end_dim=-1),\n",
    "                    nn.Linear(7744, 120),\n",
    "                    nn.Tanh(),\n",
    "                    nn.Linear(120, 84),\n",
    "                    nn.Tanh(),\n",
    "                    nn.Linear(84, num_classes)\n",
    "                )\n",
    "                \n",
    "            def forward(self, x):     \n",
    "                x = self.features(x)\n",
    "                return self.classifier(x)\n",
    "            \n",
    "        return LeNet(num_classes=5) # input shape: (32, 3, 100, 100)\n",
    "    \n",
    "    def train_dataloader(self):\n",
    "        return self.get_dataloader('train', self.batch_size, self.input_size)\n",
    "     \n",
    "    def training_step(self, batch, batch_idx):\n",
    "        x, y, _ = batch\n",
    "        y_hat = self(x)\n",
    "        loss = self.cross_entropy(y_hat, y, reduction='mean') # 损失方法\n",
    "        with torch.no_grad():\n",
    "            accuracy = (torch.argmax(y_hat, axis=1) == y).float().mean()\n",
    "        return {'loss': loss, 'progress_bar': {'acc': accuracy}}\n",
    "\n",
    "    def val_dataloader(self):\n",
    "        return self.get_dataloader('val', self.batch_size, self.input_size)\n",
    "    \n",
    "    def validation_step(self, batch, batch_idx):\n",
    "        x, y, _ = batch\n",
    "        y_hat = self(x)\n",
    "        loss = self.cross_entropy(y_hat, y, reduction='mean')\n",
    "        accuracy = (torch.argmax(y_hat, axis=1) == y).float().mean()\n",
    "        return {'loss': loss, 'acc': accuracy}\n",
    "        \n",
    "    def validation_epoch_end(self, outputs):\n",
    "        avg_loss = torch.stack([x['loss'] for x in outputs]).mean()\n",
    "        avg_acc = torch.stack([x['acc'] for x in outputs]).mean()\n",
    "        return {'progress_bar': {'val_loss': avg_loss, 'val_acc': avg_acc}}\n",
    "    \n",
    "    def test_dataloader(self):\n",
    "        return self.get_dataloader('test', self.batch_size, self.input_size)\n",
    "    \n",
    "    def test_step(self, batch, batch_idx):\n",
    "        x, y, p = batch\n",
    "        y_hat = self(x)\n",
    "        accuracy = (torch.argmax(y_hat, axis=1) == y).float().mean()\n",
    "        return {'acc': accuracy}\n",
    "        \n",
    "    def test_epoch_end(self, outputs):\n",
    "        avg_acc = torch.stack([x['acc'] for x in outputs]).mean()\n",
    "        return {'test_acc': avg_acc}\n",
    "    \n",
    "    def configure_optimizer(self, model):\n",
    "        \"\"\"\n",
    "        优化器:\n",
    "            adam:\n",
    "            sgd:\n",
    "        \"\"\"\n",
    "        # 调整学习率\n",
    "        return self.adam(model.parameters(), base_lr=0.1)\n",
    "        # return self.sgd(model.parameters(), base_lr=0.1)\n",
    "    \n",
    "    def configure_scheduler(self, optimizer):\n",
    "        \"\"\"\n",
    "        学习率修改策略:\n",
    "            step_lr:\n",
    "            multistep_lr:\n",
    "            reduce_lr:\n",
    "        \"\"\"\n",
    "        # return self.step_lr(optimizer, step_size=2, gamma=0.1)\n",
    "        return self.reduce_lr(optimizer, factor=0.1, patience=2)\n",
    "    \n",
    "    \n",
    "trainer = EasyaiTrainer(max_epochs=10, model_summary='full', ckpt_path='6-1')\n",
    "\n",
    "model = CustomClassifier()\n",
    "\n",
    "# 训练\n",
    "trainer.fit(model)\n",
    "\n",
    "# 评估\n",
    "trainer.test()"
   ]
  }
 ],
 "metadata": {
  "kernelspec": {
   "display_name": "Python 3",
   "language": "python",
   "name": "python3"
  },
  "language_info": {
   "codemirror_mode": {
    "name": "ipython",
    "version": 3
   },
   "file_extension": ".py",
   "mimetype": "text/x-python",
   "name": "python",
   "nbconvert_exporter": "python",
   "pygments_lexer": "ipython3",
   "version": "3.6.9"
  },
  "toc": {
   "base_numbering": 1,
   "nav_menu": {},
   "number_sections": true,
   "sideBar": true,
   "skip_h1_title": true,
   "title_cell": "",
   "title_sidebar": "Contents",
   "toc_cell": false,
   "toc_position": {},
   "toc_section_display": true,
   "toc_window_display": false
  }
 },
 "nbformat": 4,
 "nbformat_minor": 4
}
