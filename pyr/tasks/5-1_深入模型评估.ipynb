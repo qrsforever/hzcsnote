{
 "cells": [
  {
   "cell_type": "code",
   "execution_count": 1,
   "metadata": {
    "ExecuteTime": {
     "end_time": "2020-09-02T11:36:19.739208Z",
     "start_time": "2020-09-02T11:36:16.991148Z"
    },
    "hide_input": true,
    "scrolled": true
   },
   "outputs": [
    {
     "data": {
      "text/html": [
       "<style>.container { width:95% !important; }</style>"
      ],
      "text/plain": [
       "<IPython.core.display.HTML object>"
      ]
     },
     "metadata": {},
     "output_type": "display_data"
    }
   ],
   "source": [
    "%reload_ext autoreload\n",
    "%autoreload 2\n",
    "\n",
    "! [ -L /datasets ] && rm -f /datasets\n",
    "! ln -s /data/datasets/cv /datasets\n",
    "\n",
    "from k12libs.utils.nb_easy import k12ai_set_notebook\n",
    "\n",
    "k12ai_set_notebook(cellw=95)"
   ]
  },
  {
   "cell_type": "markdown",
   "metadata": {},
   "source": [
    "## 需掌握知识点\n",
    "\n",
    "1. 不确定性与概率\n",
    "2. 准确率Top分级\n",
    "3. 置信度和混淆矩阵"
   ]
  },
  {
   "cell_type": "code",
   "execution_count": 108,
   "metadata": {
    "ExecuteTime": {
     "end_time": "2020-09-02T14:41:17.214806Z",
     "start_time": "2020-09-02T14:41:12.877482Z"
    },
    "scrolled": false
   },
   "outputs": [
    {
     "name": "stderr",
     "output_type": "stream",
     "text": [
      "GPU available: True, used: True\n",
      "TPU available: False, using: 0 TPU cores\n",
      "CUDA_VISIBLE_DEVICES: [0]\n"
     ]
    },
    {
     "name": "stdout",
     "output_type": "stream",
     "text": [
      "--------------------------------------------------------------------------------\n",
      "{'label_names': ['Banana', 'Pear', 'Lemon', 'Apple', 'Orange'],\n",
      " 'mean': [0.7507, 0.6427, 0.5061],\n",
      " 'num_classes': 5,\n",
      " 'num_records': 3263,\n",
      " 'std': [0.2251, 0.2804, 0.3714]}\n",
      "\n",
      "--------------------------------------------------------------------------------\n",
      "\n",
      "   | Name               | Type        | Params | In sizes          | Out sizes       \n",
      "-------------------------------------------------------------------------------------------\n",
      "0  | model              | ConvNetwork | 186 K  | [32, 3, 100, 100] | [32, 5]         \n",
      "1  | model.features     | Sequential  | 1 K    | [32, 3, 100, 100] | [32, 16, 48, 48]\n",
      "2  | model.features.0   | Conv2d      | 608    | [32, 3, 100, 100] | [32, 8, 98, 98] \n",
      "3  | model.features.1   | ReLU        | 0      | [32, 8, 98, 98]   | [32, 8, 98, 98] \n",
      "4  | model.features.2   | AvgPool2d   | 0      | [32, 8, 98, 98]   | [32, 8, 48, 48] \n",
      "5  | model.features.3   | Conv2d      | 1 K    | [32, 8, 48, 48]   | [32, 16, 48, 48]\n",
      "6  | model.features.4   | BatchNorm2d | 32     | [32, 16, 48, 48]  | [32, 16, 48, 48]\n",
      "7  | model.features.5   | ReLU        | 0      | [32, 16, 48, 48]  | [32, 16, 48, 48]\n",
      "8  | model.features.6   | AvgPool2d   | 0      | [32, 16, 48, 48]  | [32, 16, 48, 48]\n",
      "9  | model.classifier   | Sequential  | 184 K  | [32, 16, 48, 48]  | [32, 5]         \n",
      "10 | model.classifier.0 | Flatten     | 0      | [32, 16, 48, 48]  | [32, 36864]     \n",
      "11 | model.classifier.1 | Linear      | 184 K  | [32, 36864]       | [32, 5]         \n"
     ]
    },
    {
     "data": {
      "application/vnd.jupyter.widget-view+json": {
       "model_id": "5a2873b3b6654a5f82a40214de871b47",
       "version_major": 2,
       "version_minor": 0
      },
      "text/plain": [
       "HBox(children=(FloatProgress(value=1.0, bar_style='info', description='Training', layout=Layout(flex='2'), max…"
      ]
     },
     "metadata": {},
     "output_type": "display_data"
    },
    {
     "name": "stderr",
     "output_type": "stream",
     "text": [
      "Saving latest checkpoint..\n"
     ]
    },
    {
     "name": "stdout",
     "output_type": "stream",
     "text": [
      "\n",
      "(fit)\tGPU-0 memory allocated: 2.18 MB\t max memory allocated: 41.23 MB\n",
      "--------------------------------------------------------------------------------\n",
      "{'label_names': ['Banana', 'Pear', 'Lemon', 'Apple', 'Orange'],\n",
      " 'mean': [0.7507, 0.6427, 0.5061],\n",
      " 'num_classes': 5,\n",
      " 'num_records': 3263,\n",
      " 'std': [0.2251, 0.2804, 0.3714]}\n"
     ]
    },
    {
     "data": {
      "application/vnd.jupyter.widget-view+json": {
       "model_id": "36c30d9e454846c4b2bb4a8a28f89429",
       "version_major": 2,
       "version_minor": 0
      },
      "text/plain": [
       "HBox(children=(FloatProgress(value=1.0, bar_style='info', description='Testing', layout=Layout(flex='2'), max=…"
      ]
     },
     "metadata": {},
     "output_type": "display_data"
    },
    {
     "name": "stdout",
     "output_type": "stream",
     "text": [
      "tensor([3, 2, 1, 0, 0, 4, 4, 1, 4, 0, 1, 4, 1, 3, 3, 0, 0, 4, 1, 4, 4, 3, 0, 0,\n",
      "        3, 1, 2, 0, 0, 3, 3, 2, 4, 0, 0, 3, 2, 4, 3, 4, 4, 1, 1, 4, 0, 4, 2, 0,\n",
      "        0, 3, 2, 0, 3, 3, 1, 4, 1, 0, 1, 2, 4, 3, 2, 4, 3, 0, 1, 2, 0, 4, 2, 4,\n",
      "        4, 0, 2, 4, 1, 3, 4, 4, 0, 4, 1, 0, 4, 3, 4, 0, 3, 3, 2, 3, 0, 1, 1, 0,\n",
      "        3, 3, 4, 3, 2, 3, 4, 4, 3, 4, 0, 2, 3, 4, 2, 3, 1, 0, 0, 0, 0, 0, 4, 3,\n",
      "        1, 0, 2, 4, 1, 1, 2, 2, 2, 4, 0, 2, 0, 4, 2, 2, 1, 2, 3, 4, 0, 4, 3, 4,\n",
      "        1, 4, 4, 3, 2, 3, 1, 4, 1, 0, 2, 4, 4, 1, 0, 2, 4, 2, 1, 3, 3, 4, 4, 2,\n",
      "        4, 4, 4, 2, 0, 3, 1, 4, 1, 4, 4, 3, 1, 2, 4, 2, 2, 4, 1, 2, 2, 2, 4, 3,\n",
      "        4, 4, 0, 0, 4, 1, 1, 3, 1, 3, 1, 1, 4, 2, 1, 1, 3, 0, 0, 0, 3, 1, 1, 2,\n",
      "        3, 4, 4, 0, 4, 4, 0, 2, 1, 2, 4, 1, 4, 2, 4, 4, 4, 4, 1, 0, 0, 3, 0, 1,\n",
      "        4, 0, 2, 1, 4, 1, 1, 4, 4, 1, 2, 4, 3, 0, 3, 1, 4, 3, 0, 0, 0, 1, 3, 0,\n",
      "        0, 4, 4, 2, 1, 3, 3, 0, 4, 0, 0, 1, 4, 1, 1, 0, 2, 4, 2, 4, 4, 3, 1, 1,\n",
      "        1, 1, 1, 1, 0, 1, 2, 3, 4, 0, 1, 1, 3, 2, 4, 4, 0, 3, 2, 4, 4, 4, 3, 2,\n",
      "        0, 0, 2, 2, 0, 1, 1, 4, 1, 1, 0, 0, 4, 1, 4, 4, 4, 3, 2, 4, 0, 1, 1, 4,\n",
      "        3, 0, 0, 0, 3, 2, 2, 0, 4, 4, 4, 1, 0, 1, 1, 4, 2, 1, 4, 1, 3, 4, 3, 4,\n",
      "        4, 4, 4, 3, 1, 1, 1, 4, 1, 2, 0, 4, 1, 4, 4, 0, 4, 4, 1, 2, 1, 3, 3, 2,\n",
      "        4, 0, 4, 3, 4, 4, 3, 4, 4, 3, 0, 0, 0, 4, 2, 4, 1, 2, 3, 1, 1, 4, 4, 1,\n",
      "        1, 1, 0, 4, 0, 1, 2, 4, 4, 3, 0, 1, 1, 3, 1, 4, 0, 1, 0, 4, 1, 1, 0, 2,\n",
      "        0, 1, 1, 3, 2, 1, 1, 1, 0, 4, 3, 4, 2, 1, 2, 2, 2, 4, 4, 0, 0, 3, 1, 1,\n",
      "        4, 1, 3, 1, 2, 1, 2, 4, 4, 3, 1, 0, 3, 4, 0, 3, 4, 4, 0, 4, 3, 0, 0, 0,\n",
      "        2, 4, 4, 4, 3, 4, 4, 0, 1, 0, 4, 1, 0, 1, 4, 4, 0, 1, 3, 4, 4, 0, 0, 4,\n",
      "        1, 3, 4, 1, 4, 4, 0, 2, 2, 0, 1, 4, 0, 0, 2, 2, 2, 3, 0, 1, 4, 3, 1, 3,\n",
      "        1, 1, 0, 3, 3, 4, 1, 3, 2, 4, 1, 4, 2, 3, 4, 1, 4, 1, 3, 2, 3, 1, 4, 0,\n",
      "        0, 1, 3, 2, 2, 1, 4, 0, 3, 1, 4, 0, 4, 2, 4, 4, 4, 4, 3, 4, 0, 4, 0, 1,\n",
      "        0, 4, 2, 3, 2, 2, 1, 1, 1, 3, 0, 1, 3, 0, 4, 4, 3, 2, 4, 0, 2, 4, 3, 4,\n",
      "        3, 1, 0, 1, 0, 3, 2, 1, 0, 2, 0, 1, 0, 4, 1, 1, 0, 0, 1, 2, 4, 4, 4, 4,\n",
      "        2, 4, 4, 2, 1, 3, 4, 4, 3, 4, 2, 4, 1, 0, 2, 4, 4, 4, 3, 3, 4, 4, 1, 4,\n",
      "        4, 4, 1, 1, 2, 0, 1, 0, 4, 0, 1, 4, 3, 4, 2, 0, 2, 1, 3, 4, 0, 4, 1, 4,\n",
      "        3, 4, 4, 2, 2, 3, 0, 1, 3, 3, 0, 2, 0, 3, 3, 4, 4, 4, 4, 4, 1, 1, 0, 1,\n",
      "        0, 4, 2, 0, 3, 1, 1, 1, 4, 0, 0, 4, 1, 3, 0, 1, 4, 0, 0, 0, 1, 0, 1, 3,\n",
      "        4, 0, 1, 4, 3, 2, 0, 0, 1, 3, 2, 3, 4, 2, 3, 4, 3, 0, 2, 2, 4, 4, 0, 0,\n",
      "        0, 0, 1, 2, 4, 1, 0, 1, 2, 3, 0, 3, 4, 0, 2, 3, 2, 1, 3, 2, 1, 1, 3, 2,\n",
      "        2, 4, 0, 0, 0, 3, 4, 1, 1, 1, 3, 4, 2, 4, 4, 1, 2, 0, 1, 3, 4, 2, 4, 3,\n",
      "        0, 2, 2, 3, 4, 1, 4, 1, 0, 4, 1, 0, 4, 1, 4, 1, 1, 1, 0, 0, 0, 1, 0, 2,\n",
      "        4, 4])\n",
      "\n",
      "(fit)\tGPU-0 memory allocated: 2.89 MB\t max memory allocated: 41.23 MB\n",
      "(test)\tGPU-0 memory allocated: 2.89 MB\t max memory allocated: 41.23 MB\n",
      "--------------------------------------------------------------------------------\n",
      "{'acc_top1': 0.7958435416221619, 'acc_top3': 1.0, 'acc_top5': 1.0}\n",
      "--------------------------------------------------------------------------------\n",
      "{'cm': array([[164,   2,   0,   0,   0],\n",
      "       [  0, 106,  13,   0,  45],\n",
      "       [  0,  70,  94,   0,   0],\n",
      "       [  0,   0,  11, 127,  26],\n",
      "       [  0,   0,   0,   0, 160]])}\n",
      "--------------------------------------------------------------------------------\n",
      "{'cm2': array([[164,   2,   0,   0,   0],\n",
      "       [  0, 106,  13,   0,  45],\n",
      "       [  0,  70,  94,   0,   0],\n",
      "       [  0,   0,  11, 127,  26],\n",
      "       [  0,   0,   0,   0, 160]])}\n",
      "--------------------------------------------------------------------------------\n"
     ]
    }
   ],
   "source": [
    "%reset -f\n",
    "\n",
    "from pyr.app.k12ai import EasyaiClassifier, EasyaiTrainer\n",
    "import torch\n",
    "from torch import nn\n",
    "from sklearn.metrics import confusion_matrix\n",
    "\n",
    "class CustomClassifier(EasyaiClassifier):\n",
    "    \n",
    "    def __init__(self):\n",
    "        super().__init__()\n",
    "        self.input_size = 100 # 输入模型的图片大小\n",
    "        self.batch_size = 32  # 输入模型的图片数量\n",
    "        \n",
    "        # 调试: 日志输出模型shape\n",
    "        self.example_input_array = torch.zeros(\n",
    "            self.batch_size, 3, self.input_size, self.input_size) \n",
    "\n",
    "    def prepare_dataset(self):\n",
    "        \"\"\"\n",
    "        水果数据集:\n",
    "            0: 'Banana'  香蕉\n",
    "            1: 'Pear'    梨子\n",
    "            2: 'Lemon'   柠檬\n",
    "            3: 'Apple'   苹果\n",
    "            4: 'Orange'  橘子\n",
    "        \"\"\"\n",
    "        return self.load_fruits()\n",
    "    \n",
    "    def build_model(self):\n",
    "        class ConvNetwork(nn.Module):\n",
    "            def __init__(self, num_classes):\n",
    "                super().__init__()\n",
    "                self.features = nn.Sequential(\n",
    "                    nn.Conv2d(in_channels=3, out_channels=8, kernel_size=5, stride=1, padding=1, dilation=1, groups=1, bias=True),\n",
    "                    nn.ReLU(inplace=True),\n",
    "                    nn.AvgPool2d(kernel_size=5, stride=2, padding=1, ceil_mode=False),\n",
    "                    nn.Conv2d(in_channels=8, out_channels=16, kernel_size=3, stride=1, padding=1, dilation=1, groups=1, bias=True),\n",
    "                    nn.BatchNorm2d(num_features=16, momentum=0.1, affine=True, track_running_stats=True),\n",
    "                    nn.ReLU(inplace=True),\n",
    "                    nn.AvgPool2d(kernel_size=3, stride=1, padding=1, ceil_mode=False)\n",
    "                )\n",
    "                self.classifier = nn.Sequential(\n",
    "                    nn.Flatten(start_dim=1, end_dim=-1),\n",
    "                    nn.Linear(in_features=36864, out_features=5, bias=True)\n",
    "                )\n",
    "                \n",
    "            def forward(self, x):\n",
    "                x = self.features(x)\n",
    "                return self.classifier(x)\n",
    "            \n",
    "        return ConvNetwork(num_classes=5) # input shape: (32, 3, 100, 100)\n",
    "    \n",
    "    def train_dataloader(self):\n",
    "        return self.get_dataloader('train', self.batch_size, self.input_size)\n",
    "     \n",
    "    def training_step(self, batch, batch_idx):\n",
    "        x, y, _ = batch\n",
    "        y_hat = self(x)\n",
    "        loss = self.cross_entropy(y_hat, y, reduction='mean') # 损失方法\n",
    "        with torch.no_grad():\n",
    "            accuracy = (torch.argmax(y_hat, axis=1) == y).float().mean()\n",
    "        return {'loss': loss, 'progress_bar': {'acc': accuracy}}\n",
    "\n",
    "    def val_dataloader(self):\n",
    "        return self.get_dataloader('val', self.batch_size, self.input_size)\n",
    "    \n",
    "    def validation_step(self, batch, batch_idx):\n",
    "        x, y, _ = batch\n",
    "        y_hat = self(x)\n",
    "        loss = self.cross_entropy(y_hat, y, reduction='mean')\n",
    "        accuracy = (torch.argmax(y_hat, axis=1) == y).float().mean()\n",
    "        return {'loss': loss, 'acc': accuracy}\n",
    "        \n",
    "    def validation_epoch_end(self, outputs):\n",
    "        avg_loss = torch.stack([x['loss'] for x in outputs]).mean()\n",
    "        avg_acc = torch.stack([x['acc'] for x in outputs]).mean()\n",
    "        return {'progress_bar': {'val_loss': avg_loss, 'val_acc': avg_acc}}\n",
    "    \n",
    "    def test_dataloader(self):\n",
    "        return self.get_dataloader('test', self.batch_size, self.input_size)\n",
    "    \n",
    "    def test_step(self, batch, batch_idx):\n",
    "        x, y, _ = batch  # y.size: (B,)\n",
    "        y_hat = self(x)\n",
    "        return {'y_true': y, 'y_pred': y_hat}\n",
    "    \n",
    "    def test_epoch_end(self, outputs):\n",
    "        y_true = torch.cat([x['y_true'].cpu() for x in outputs])\n",
    "        y_pred = torch.cat([x['y_pred'].cpu() for x in outputs])\n",
    "        \n",
    "        # Top分级\n",
    "        _, y_top5 = y_pred.topk(5, 1)\n",
    "        print(y_top5[:, 0])\n",
    "\n",
    "        corrects = y_top5.eq(y_true.view(-1, 1).expand_as(y_top5))\n",
    "        acc_top1 = corrects[:, :1].float().sum() / y_top5.size()[0]\n",
    "        acc_top3 = corrects[:, :3].float().sum() / y_top5.size()[0]\n",
    "        acc_top5 = corrects[:, :5].float().sum() / y_top5.size()[0]\n",
    "        \n",
    "        # 混淆矩阵\n",
    "        cm = confusion_matrix(y_true, y_top5[:, 0])\n",
    "        return [{'acc_top1': acc_top1, 'acc_top3': acc_top3, 'acc_top5': acc_top5}, {'cm': cm}]\n",
    "        \n",
    "    \n",
    "    def configure_optimizer(self, model):\n",
    "        return self.adam(model.parameters(), base_lr=0.1)\n",
    "    \n",
    "    \n",
    "trainer = EasyaiTrainer(max_epochs=1, model_summary='full', ckpt_path='5-1')\n",
    "\n",
    "model = CustomClassifier()\n",
    "\n",
    "# 训练\n",
    "trainer.fit(model)\n",
    "\n",
    "# 评估\n",
    "trainer.test()"
   ]
  }
 ],
 "metadata": {
  "kernelspec": {
   "display_name": "Python 3",
   "language": "python",
   "name": "python3"
  },
  "language_info": {
   "codemirror_mode": {
    "name": "ipython",
    "version": 3
   },
   "file_extension": ".py",
   "mimetype": "text/x-python",
   "name": "python",
   "nbconvert_exporter": "python",
   "pygments_lexer": "ipython3",
   "version": "3.6.9"
  },
  "toc": {
   "base_numbering": 1,
   "nav_menu": {},
   "number_sections": true,
   "sideBar": true,
   "skip_h1_title": true,
   "title_cell": "",
   "title_sidebar": "Contents",
   "toc_cell": false,
   "toc_position": {},
   "toc_section_display": true,
   "toc_window_display": false
  }
 },
 "nbformat": 4,
 "nbformat_minor": 4
}
