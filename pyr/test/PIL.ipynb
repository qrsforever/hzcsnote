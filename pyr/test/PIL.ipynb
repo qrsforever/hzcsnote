{
 "cells": [
  {
   "cell_type": "code",
   "execution_count": 97,
   "id": "educated-train",
   "metadata": {
    "ExecuteTime": {
     "end_time": "2021-08-11T08:00:18.843571Z",
     "start_time": "2021-08-11T08:00:17.862959Z"
    }
   },
   "outputs": [
    {
     "name": "stdout",
     "output_type": "stream",
     "text": [
      "CPython 3.6.9\n",
      "IPython 7.16.1\n",
      "\n",
      "numpy 1.19.4\n",
      "sklearn 0.24.0\n",
      "pandas 1.1.5\n",
      "CPython 3.6.9\n",
      "IPython 7.16.1\n",
      "\n",
      "cv2 4.5.1\n",
      "PIL 8.3.1\n",
      "matplotlib 3.3.3\n",
      "CPython 3.6.9\n",
      "IPython 7.16.1\n",
      "\n",
      "torch 1.8.0.dev20210103+cu101\n",
      "torchvision 0.9.0.dev20210103+cu101\n",
      "torchaudio not installed\n"
     ]
    },
    {
     "data": {
      "text/html": [
       "<style>.container { width:80% !important; }</style>"
      ],
      "text/plain": [
       "<IPython.core.display.HTML object>"
      ]
     },
     "metadata": {},
     "output_type": "display_data"
    }
   ],
   "source": [
    "%reload_ext watermark\n",
    "%reload_ext autoreload\n",
    "%autoreload 2\n",
    "%watermark -v -p numpy,sklearn,pandas\n",
    "%watermark -v -p cv2,PIL,matplotlib\n",
    "%watermark -v -p torch,torchvision,torchaudio\n",
    "%matplotlib inline\n",
    "%config InlineBackend.figure_format='retina'\n",
    "%config IPCompleter.use_jedi = False\n",
    "\n",
    "from IPython.display import display, Markdown, HTML, Javascript\n",
    "display(HTML('<style>.container { width:%d%% !important; }</style>' % 80))\n",
    "\n",
    "import sys, os, io, time, random, math\n",
    "import json, base64, requests\n",
    "import os.path as osp\n",
    "\n",
    "def _IMPORT_(x):\n",
    "    try:\n",
    "        segs = x.split(' ')\n",
    "        g = globals()\n",
    "        if 'github.com' in segs[1]:\n",
    "            uri = segs[1].replace('github.com', 'raw.githubusercontent.com')\n",
    "            mod = uri.split('/')\n",
    "            uri = 'https://' + '/'.join(mod[:-1]) + '/main/' + mod[-1] + '.py'\n",
    "            x = requests.get(uri).text\n",
    "        elif 'gitee.com' in segs[1]:\n",
    "            mod = segs[1].split('/')\n",
    "            uri = 'https://' + '/'.join(mod[:-1]) + '/raw/main/' + mod[-1] + '.py'\n",
    "            x = requests.get(uri).text\n",
    "        elif segs[1][0] == '/':\n",
    "            with open(segs[1] + '.py') as fr:\n",
    "                x = fr.read()\n",
    "        exec(x, g)\n",
    "    except:\n",
    "        pass\n",
    "\n",
    "def print_progress_bar(x):\n",
    "    print('\\r', end='')\n",
    "    print('Progress: {}%:'.format(x), '%s%s' % ('▋'*(x//2), '.'*((100-x)//2)), end='')\n",
    "    sys.stdout.flush()\n"
   ]
  },
  {
   "cell_type": "code",
   "execution_count": 98,
   "id": "occasional-prayer",
   "metadata": {
    "ExecuteTime": {
     "end_time": "2021-08-11T08:00:19.341763Z",
     "start_time": "2021-08-11T08:00:18.935865Z"
    }
   },
   "outputs": [],
   "source": [
    "\n",
    "###\n",
    "### Display ###\n",
    "###\n",
    "\n",
    "_IMPORT_('import cv2')\n",
    "_IMPORT_('from PIL import Image')\n",
    "_IMPORT_('from torchvision.utils import make_grid')\n",
    "_IMPORT_('import matplotlib.pyplot as plt')\n",
    "_IMPORT_('import plotly')\n",
    "_IMPORT_('import plotly.graph_objects as go')\n",
    "_IMPORT_('import ipywidgets as widgets')\n",
    "\n",
    "# plotly.offline.init_notebook_mode(connected=False)\n",
    "\n",
    "plt.rcParams['figure.figsize'] = (12.0, 8.0)\n",
    "\n",
    "def show_table(headers, data, width=900):\n",
    "    ncols = len(headers)\n",
    "    width = int(width / ncols)\n",
    "    lralign = []\n",
    "    caption = []\n",
    "    for item in headers:\n",
    "        astr = ''\n",
    "        if item[0] == ':':\n",
    "            astr = ':'\n",
    "            item = item[1:]\n",
    "        astr += '---'\n",
    "        if item[-1] == ':':\n",
    "            astr += ':'\n",
    "            item = item[:-1]\n",
    "        lralign.append(astr)\n",
    "        caption.append(item)\n",
    "    captionstr = '|'.join(caption) + chr(10)\n",
    "    lralignstr = '|'.join(lralign) + chr(10)\n",
    "    imgholdstr = '|'.join(['<img width=%d/>' % width] * ncols) + chr(10)\n",
    "    table = captionstr + lralignstr + imgholdstr\n",
    "    is_dict = isinstance(data[0], dict)\n",
    "    for row in data:\n",
    "        if is_dict:\n",
    "            table += '|'.join([f'{row[c]}' for c in caption]) + chr(10)\n",
    "        else:\n",
    "            table += '|'.join([f'{col}' for col in row]) + chr(10)\n",
    "    return Markdown(table)\n",
    "\n",
    "def show_video(vidsrc, width=None, height=None):\n",
    "    W, H = '', ''\n",
    "    if width:\n",
    "        W = 'width=%d' % width\n",
    "    if height:\n",
    "        H = 'height=%d' % height\n",
    "    if vidsrc.startswith('http'):\n",
    "        data_url = vidsrc\n",
    "    else:\n",
    "        mp4 = open(vidsrc, 'rb').read()\n",
    "        data_url = 'data:video/mp4;base64,' + base64.b64encode(mp4).decode()\n",
    "    return HTML('<video %s %s controls src=\"%s\" type=\"video/mp4\"/>' % (W, H, data_url))\n",
    "\n",
    "def show_image(imgsrc, width=None, height=None):\n",
    "    if isinstance(imgsrc, np.ndarray):\n",
    "        img = imgsrc\n",
    "        if width or height:\n",
    "            if width and height:\n",
    "                size = (width, height)\n",
    "            else:\n",
    "                rate = img.shape[1] / img.shape[0]\n",
    "                if width:\n",
    "                    size = (width, int(width/rate))\n",
    "                else:\n",
    "                    size = (int(height*rate), height)\n",
    "            img = cv2.resize(img, size)\n",
    "            plt.figure(figsize=(3*int(size[0]/80+1), 3*int(size[1]/80+1)), dpi=80)\n",
    "        plt.axis('off')\n",
    "        if len(img.shape) > 2:\n",
    "            plt.imshow(img);\n",
    "        else:\n",
    "            plt.imshow(img, cmap='gray');\n",
    "        return\n",
    "\n",
    "    W, H = '', ''\n",
    "    if width:\n",
    "        W = 'width=%d' % width\n",
    "    if height:\n",
    "        H = 'height=%d' % height\n",
    "    if imgsrc.startswith('http'):\n",
    "        data_url = imgsrc\n",
    "    else:\n",
    "        if len(imgsrc) > 2048:\n",
    "            data_url = 'data:image/jpg;base64,' + imgsrc\n",
    "        else:\n",
    "            img = open(imgsrc, 'rb').read()\n",
    "            data_url = 'data:image/jpg;base64,' + base64.b64encode(img).decode()\n",
    "    return HTML('<img %s %s src=\"%s\"/>' % (W, H, data_url))\n",
    "\n",
    "def im_read(url, rgb=True, size=None):\n",
    "    if url.startswith('http'):\n",
    "        response = requests.get(url)\n",
    "        if response:\n",
    "            imgmat = np.frombuffer(response.content, dtype=np.uint8)\n",
    "            img = cv2.imdecode(imgmat, cv2.IMREAD_COLOR)\n",
    "        else:\n",
    "            return None\n",
    "    else:\n",
    "        img = cv2.imread(url)\n",
    "        \n",
    "    if rgb:\n",
    "        img = cv2.cvtColor(img, cv2.COLOR_BGR2RGB)\n",
    "    if size:\n",
    "        if isinstance(size, int):\n",
    "            size = (size, size)\n",
    "        img = cv2.resize(img, size, interpolation=cv2.INTER_AREA)\n",
    "    return img\n",
    "\n",
    "def img2bytes(x, width=None, height=None):\n",
    "    if isinstance(x, bytes):\n",
    "        return x\n",
    "\n",
    "    if isinstance(x, str):\n",
    "        if os.path.isfile(x):\n",
    "            x = PIL.Image.open(x).convert('RGB')\n",
    "        else:\n",
    "            import cairosvg\n",
    "            with io.BytesIO() as fw:\n",
    "                cairosvg.svg2png(bytestring=x, write_to=fw,\n",
    "                        output_width=width, output_height=height)\n",
    "                return fw.getvalue()\n",
    "\n",
    "    from matplotlib.figure import Figure\n",
    "    if isinstance(x, Figure):\n",
    "        with io.BytesIO() as fw:\n",
    "            plt.savefig(fw)\n",
    "            return fw.getvalue()\n",
    "\n",
    "    from torch import Tensor\n",
    "    from torchvision import transforms\n",
    "    from PIL import Image\n",
    "    if isinstance(x, Tensor):\n",
    "        x = transforms.ToPILImage()(x)\n",
    "    elif isinstance(x, np.ndarray):\n",
    "        x = Image.fromarray(x.astype('uint8')).convert('RGB')\n",
    "\n",
    "    if isinstance(x, Image.Image):\n",
    "        if width and height:\n",
    "            x = x.resize((width, height))\n",
    "        with io.BytesIO() as fw:\n",
    "            x.save(fw, format='PNG')\n",
    "            return fw.getvalue()\n",
    "    raise NotImplementedError(type(x))\n",
    "\n",
    "def img2b64(x):\n",
    "    return base64.b64encode(img2bytes(x)).decode()\n"
   ]
  },
  {
   "cell_type": "code",
   "execution_count": 115,
   "id": "ongoing-error",
   "metadata": {
    "ExecuteTime": {
     "end_time": "2021-08-11T08:19:54.914721Z",
     "start_time": "2021-08-11T08:19:54.576694Z"
    }
   },
   "outputs": [],
   "source": [
    "from PIL import Image"
   ]
  },
  {
   "cell_type": "code",
   "execution_count": 103,
   "id": "empty-extreme",
   "metadata": {
    "ExecuteTime": {
     "end_time": "2021-08-11T08:08:48.475913Z",
     "start_time": "2021-08-11T08:08:48.144287Z"
    }
   },
   "outputs": [],
   "source": [
    "def myshow(self, *args, **kwargs):\n",
    "    print(img2b64(self))\n",
    "    \n",
    "Image._show = myshow"
   ]
  },
  {
   "cell_type": "code",
   "execution_count": 104,
   "id": "magnetic-croatia",
   "metadata": {
    "ExecuteTime": {
     "end_time": "2021-08-11T08:08:49.527724Z",
     "start_time": "2021-08-11T08:08:49.226391Z"
    }
   },
   "outputs": [],
   "source": [
    "img = Image.open('pic.png')\n"
   ]
  },
  {
   "cell_type": "code",
   "execution_count": 117,
   "id": "tracked-rogers",
   "metadata": {
    "ExecuteTime": {
     "end_time": "2021-08-11T08:34:38.896302Z",
     "start_time": "2021-08-11T08:34:38.600327Z"
    }
   },
   "outputs": [],
   "source": [
    "code = '''\n",
    "import os\n",
    "import time\n",
    "from PIL import Image\n",
    "\n",
    "image = Image.open('/datasets/1436.png')\n",
    "image.show()\n",
    "'''"
   ]
  },
  {
   "cell_type": "code",
   "execution_count": 118,
   "id": "elder-milton",
   "metadata": {
    "ExecuteTime": {
     "end_time": "2021-08-11T08:34:40.127498Z",
     "start_time": "2021-08-11T08:34:39.818190Z"
    }
   },
   "outputs": [
    {
     "data": {
      "text/html": [
       "<style>.container { width:95% !important; }</style>"
      ],
      "text/plain": [
       "<IPython.core.display.HTML object>"
      ]
     },
     "metadata": {},
     "output_type": "display_data"
    },
    {
     "data": {
      "text/html": [
       "\n",
       "        <iframe\n",
       "            width=\"100%\"\n",
       "            height=\"1200px\"\n",
       "            src=\"http://116.85.5.40:9091/codemirror.html?default=%0Aimport+os%0Aimport+time%0Afrom+PIL+import+Image%0A%0Aimage+%3D+Image.open%28%27%2Fdatasets%2F1436.png%27%29%0Aimage.show%28%29%0A\"\n",
       "            frameborder=\"0\"\n",
       "            allowfullscreen\n",
       "        ></iframe>\n",
       "        "
      ],
      "text/plain": [
       "<IPython.lib.display.IFrame at 0x7fc0af289f28>"
      ]
     },
     "execution_count": 118,
     "metadata": {},
     "output_type": "execute_result"
    }
   ],
   "source": [
    "params = {'default': code}\n",
    "k12ai_start_html(f'{W3URL}/codemirror.html?{urlencode(params)}', width='100%', height='1200px')"
   ]
  }
 ],
 "metadata": {
  "hide_input": false,
  "kernelspec": {
   "display_name": "Python 3",
   "language": "python",
   "name": "python3"
  },
  "language_info": {
   "codemirror_mode": {
    "name": "ipython",
    "version": 3
   },
   "file_extension": ".py",
   "mimetype": "text/x-python",
   "name": "python",
   "nbconvert_exporter": "python",
   "pygments_lexer": "ipython3",
   "version": "3.6.9"
  },
  "toc": {
   "base_numbering": 1,
   "nav_menu": {},
   "number_sections": true,
   "sideBar": true,
   "skip_h1_title": true,
   "title_cell": "",
   "title_sidebar": "Contents",
   "toc_cell": false,
   "toc_position": {},
   "toc_section_display": true,
   "toc_window_display": false
  }
 },
 "nbformat": 4,
 "nbformat_minor": 5
}
