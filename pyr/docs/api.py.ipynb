{
 "cells": [
  {
   "cell_type": "code",
   "execution_count": 1,
   "id": "vocational-foundation",
   "metadata": {
    "ExecuteTime": {
     "end_time": "2021-08-17T02:57:34.159778Z",
     "start_time": "2021-08-17T02:57:31.854846Z"
    }
   },
   "outputs": [
    {
     "name": "stdout",
     "output_type": "stream",
     "text": [
      "CPython 3.6.9\n",
      "IPython 7.16.1\n",
      "\n",
      "numpy 1.19.4\n",
      "sklearn 0.24.0\n",
      "pandas 1.1.5\n",
      "CPython 3.6.9\n",
      "IPython 7.16.1\n",
      "\n",
      "cv2 4.5.1\n",
      "PIL 6.2.2\n",
      "matplotlib 3.3.3\n",
      "CPython 3.6.9\n",
      "IPython 7.16.1\n",
      "\n",
      "torch 1.8.0.dev20210103+cu101\n",
      "torchvision 0.9.0.dev20210103+cu101\n",
      "torchaudio not installed\n"
     ]
    },
    {
     "data": {
      "text/html": [
       "<style>.container { width:80% !important; }</style>"
      ],
      "text/plain": [
       "<IPython.core.display.HTML object>"
      ]
     },
     "metadata": {},
     "output_type": "display_data"
    }
   ],
   "source": [
    "%reload_ext watermark\n",
    "%reload_ext autoreload\n",
    "%autoreload 2\n",
    "%watermark -v -p numpy,sklearn,pandas\n",
    "%watermark -v -p cv2,PIL,matplotlib\n",
    "%watermark -v -p torch,torchvision,torchaudio\n",
    "%matplotlib inline\n",
    "%config InlineBackend.figure_format='retina'\n",
    "%config IPCompleter.use_jedi = False\n",
    "\n",
    "from IPython.display import display, Markdown, HTML, Javascript\n",
    "display(HTML('<style>.container { width:%d%% !important; }</style>' % 80))\n",
    "\n",
    "import sys, os, io, time, random, math\n",
    "import json, base64, requests\n",
    "import os.path as osp\n",
    "\n",
    "def _IMPORT_(x):\n",
    "    try:\n",
    "        segs = x.split(' ')\n",
    "        g = globals()\n",
    "        if 'github.com' in segs[1]:\n",
    "            uri = segs[1].replace('github.com', 'raw.githubusercontent.com')\n",
    "            mod = uri.split('/')\n",
    "            for s in ['main', 'master']:\n",
    "                uri = 'https://' + '/'.join(mod[:-1]) + '/main/' + mod[-1] + '.py'\n",
    "                x = requests.get(uri).text\n",
    "                if x.status == 200:\n",
    "                    break\n",
    "        elif 'gitee.com' in segs[1]:\n",
    "            mod = segs[1].split('/')\n",
    "            for s in ['/raw/main/', '/raw/master/']:\n",
    "                uri = 'https://' + '/'.join(mod[:3]) + s + '/'.join(mod[3:]) + '.py'\n",
    "                x = requests.get(uri).text\n",
    "                if x.status == 200:\n",
    "                    break\n",
    "        elif segs[1][0] == '/':\n",
    "            with open(segs[1] + '.py') as fr:\n",
    "                x = fr.read()\n",
    "        exec(x, g)\n",
    "    except:\n",
    "        pass\n",
    "\n",
    "def print_progress_bar(x):\n",
    "    print('\\r', end='')\n",
    "    print('Progress: {}%:'.format(x), '%s%s' % ('▋'*(x//2), '.'*((100-x)//2)), end='')\n",
    "    sys.stdout.flush()\n"
   ]
  },
  {
   "cell_type": "code",
   "execution_count": 2,
   "id": "talented-marriage",
   "metadata": {
    "ExecuteTime": {
     "end_time": "2021-08-17T02:57:34.512158Z",
     "start_time": "2021-08-17T02:57:34.162840Z"
    }
   },
   "outputs": [],
   "source": [
    "from k12libs.utils.nb_easy import k12ai_start_html, W3URL\n",
    "from urllib.parse import urlencode"
   ]
  },
  {
   "cell_type": "markdown",
   "id": "joint-climb",
   "metadata": {},
   "source": [
    "## API (/k12ai/framework/execute)"
   ]
  },
  {
   "cell_type": "code",
   "execution_count": 3,
   "id": "broadband-logging",
   "metadata": {
    "ExecuteTime": {
     "end_time": "2021-08-17T02:57:34.557658Z",
     "start_time": "2021-08-17T02:57:34.515385Z"
    }
   },
   "outputs": [
    {
     "data": {
      "text/plain": [
       "'http://116.85.5.40:8119/k12ai/framework/execute'"
      ]
     },
     "execution_count": 3,
     "metadata": {},
     "output_type": "execute_result"
    }
   ],
   "source": [
    "SSS = 'http://116.85.5.40:8119'\n",
    "EXE = '/k12ai/framework/execute'\n",
    "EXE_URL = f'{SSS}{EXE}'\n",
    "EXE_URL"
   ]
  },
  {
   "cell_type": "markdown",
   "id": "rocky-hometown",
   "metadata": {
    "ExecuteTime": {
     "end_time": "2021-08-12T09:19:20.829044Z",
     "start_time": "2021-08-12T09:19:20.754409Z"
    }
   },
   "source": [
    "### 调试输出(内部使用)"
   ]
  },
  {
   "cell_type": "code",
   "execution_count": 4,
   "id": "terminal-holmes",
   "metadata": {
    "ExecuteTime": {
     "end_time": "2021-08-17T02:57:34.588486Z",
     "start_time": "2021-08-17T02:57:34.559972Z"
    }
   },
   "outputs": [
    {
     "data": {
      "text/plain": [
       "'http://116.85.5.40:8119/k12ai/private/popmsg'"
      ]
     },
     "execution_count": 4,
     "metadata": {},
     "output_type": "execute_result"
    }
   ],
   "source": [
    "POP = '/k12ai/private/popmsg'\n",
    "POP_URL = f'{SSS}{POP}'\n",
    "POP_URL"
   ]
  },
  {
   "cell_type": "markdown",
   "id": "hungry-package",
   "metadata": {},
   "source": [
    "## 输入参数"
   ]
  },
  {
   "cell_type": "markdown",
   "id": "generous-authorization",
   "metadata": {},
   "source": [
    "```json\n",
    "{\n",
    "    'appId': 'k12pyr.16601548608.123456',  // [M] 用来异步redis传递数据的Key前缀, 用户日志:`$appId.runlog`, 代码错误:`$appId.error`\n",
    "    'token': '916886',                     // [O] 随机token, 供业务自己使用, 只负责透传 \n",
    "    'op': 'runcode.start',                 // [M] 操作类型(不可修改)\n",
    "    'user': '16601548608',                 // [M] 用户ID(学生唯一码)\n",
    "    'service_name': 'k12pyr',              // [M] 服务类型(不可修改)\n",
    "    'service_uuid': '123456',              // [M] 服务编号(需要保证不同场景该值不同)\n",
    "    'service_params': {                    // [M] 服务参数, 'code'参数是代码框里的字符串\n",
    "        'code': \"import os\\nimport time\\nfor i in range(10):\\n    print('i = %d' % i)\\n\"\n",
    "    }\n",
    "}\n",
    "```"
   ]
  },
  {
   "cell_type": "markdown",
   "id": "novel-ghana",
   "metadata": {},
   "source": [
    "### 测试"
   ]
  },
  {
   "cell_type": "code",
   "execution_count": 5,
   "id": "likely-xerox",
   "metadata": {
    "ExecuteTime": {
     "end_time": "2021-08-17T02:57:34.707087Z",
     "start_time": "2021-08-17T02:57:34.590959Z"
    }
   },
   "outputs": [
    {
     "name": "stdout",
     "output_type": "stream",
     "text": [
      "import os\n",
      "import time\n",
      "for i in range(10):\n",
      "    print('i = %d' % i)\n",
      "\n"
     ]
    },
    {
     "data": {
      "text/plain": [
       "{'code': 100000, 'message': {'en': 'success', 'cn': '成功'}}"
      ]
     },
     "execution_count": 5,
     "metadata": {},
     "output_type": "execute_result"
    }
   ],
   "source": [
    "user = \"16601548608\"\n",
    "uuid = \"123456\"\n",
    "appId = \"k12pyr.\" + user + \".\" + uuid\n",
    "tokenId = '%d' % int(random.random() * 1000000)\n",
    "\n",
    "code = '''import os\n",
    "import time\n",
    "for i in range(10):\n",
    "    print('i = %d' % i)\n",
    "'''\n",
    "\n",
    "params = {\n",
    "    \"appId\": appId,\n",
    "    \"token\": tokenId,\n",
    "    \"op\": \"runcode.start\",\n",
    "    \"user\": user,\n",
    "    \"service_name\": \"k12pyr\",\n",
    "    \"service_uuid\": uuid,\n",
    "    \"service_params\": {\n",
    "        \"code\": code,\n",
    "    }\n",
    "}\n",
    "\n",
    "print(code)\n",
    "\n",
    "requests.get(POP_URL + f'?key={appId}.runlog')\n",
    "requests.get(POP_URL + f'?key={appId}.error')\n",
    "requests.post(EXE_URL, json=params).json()"
   ]
  },
  {
   "cell_type": "code",
   "execution_count": 6,
   "id": "relative-procedure",
   "metadata": {
    "ExecuteTime": {
     "end_time": "2021-08-17T02:57:44.785623Z",
     "start_time": "2021-08-17T02:57:34.709289Z"
    }
   },
   "outputs": [],
   "source": [
    "time.sleep(10)\n",
    "runlog = requests.get(POP_URL + f'?key={appId}.runlog').json()\n",
    "errors = requests.get(POP_URL + f'?key={appId}.error').json()"
   ]
  },
  {
   "cell_type": "code",
   "execution_count": 7,
   "id": "documentary-crazy",
   "metadata": {
    "ExecuteTime": {
     "end_time": "2021-08-17T02:57:44.821259Z",
     "start_time": "2021-08-17T02:57:44.788910Z"
    }
   },
   "outputs": [
    {
     "name": "stdout",
     "output_type": "stream",
     "text": [
      "{'version': '0.1.0', 'server': 'localhost:8119', 'type': 'error', 'appId': 'k12pyr.16601548608.123456', 'token': '784739', 'user': '16601548608', 'op': 'runcode.start', 'service_name': 'k12pyr', 'service_uuid': '123456', 'timestamp': 1629169054747, 'datetime': '20210817105734', 'data': {'code': 100001, 'message': {'en': 'program staring', 'cn': '程序正在启动'}, 'expand': {'status': 'starting'}}}\n",
      "{'version': '0.1.0', 'server': 'localhost:8119', 'type': 'error', 'appId': 'k12pyr.16601548608.123456', 'token': '784739', 'user': '16601548608', 'op': 'runcode.start', 'service_name': 'k12pyr', 'service_uuid': '123456', 'timestamp': 1629169058384, 'datetime': '20210817105738', 'data': {'code': 100002, 'message': {'en': 'program running', 'cn': '程序正在运行'}, 'expand': {'status': 'running'}}}\n",
      "{'version': '0.1.0', 'server': 'localhost:8119', 'type': 'error', 'appId': 'k12pyr.16601548608.123456', 'token': '784739', 'user': '16601548608', 'op': 'runcode.start', 'service_name': 'k12pyr', 'service_uuid': '123456', 'timestamp': 1629169058759, 'datetime': '20210817105738', 'data': {'code': 100003, 'message': {'en': 'program normal exit', 'cn': '程序正常结束'}, 'expand': {'status': 'finished'}}}\n"
     ]
    }
   ],
   "source": [
    "for et in errors:\n",
    "    print(json.loads(et))"
   ]
  },
  {
   "cell_type": "code",
   "execution_count": 8,
   "id": "rotary-source",
   "metadata": {
    "ExecuteTime": {
     "end_time": "2021-08-17T02:57:44.858513Z",
     "start_time": "2021-08-17T02:57:44.823980Z"
    }
   },
   "outputs": [
    {
     "name": "stdout",
     "output_type": "stream",
     "text": [
      "{'version': '0.1.0', 'server': 'localhost:8119', 'type': 'runlog', 'appId': 'k12pyr.16601548608.123456', 'token': '784739', 'user': '16601548608', 'op': 'runcode.start', 'service_name': 'k12pyr', 'service_uuid': '123456', 'timestamp': 1629169058422, 'datetime': '20210817105738', 'data': {'status': 'running'}}\n",
      "{'version': '0.1.0', 'server': 'localhost:8119', 'type': 'runlog', 'appId': 'k12pyr.16601548608.123456', 'token': '784739', 'user': '16601548608', 'op': 'runcode.start', 'service_name': 'k12pyr', 'service_uuid': '123456', 'timestamp': 1629169058452, 'datetime': '20210817105738', 'data': {'log': 'i = 0\\n'}}\n",
      "{'version': '0.1.0', 'server': 'localhost:8119', 'type': 'runlog', 'appId': 'k12pyr.16601548608.123456', 'token': '784739', 'user': '16601548608', 'op': 'runcode.start', 'service_name': 'k12pyr', 'service_uuid': '123456', 'timestamp': 1629169058480, 'datetime': '20210817105738', 'data': {'log': 'i = 1\\n'}}\n",
      "{'version': '0.1.0', 'server': 'localhost:8119', 'type': 'runlog', 'appId': 'k12pyr.16601548608.123456', 'token': '784739', 'user': '16601548608', 'op': 'runcode.start', 'service_name': 'k12pyr', 'service_uuid': '123456', 'timestamp': 1629169058512, 'datetime': '20210817105738', 'data': {'log': 'i = 2\\n'}}\n",
      "{'version': '0.1.0', 'server': 'localhost:8119', 'type': 'runlog', 'appId': 'k12pyr.16601548608.123456', 'token': '784739', 'user': '16601548608', 'op': 'runcode.start', 'service_name': 'k12pyr', 'service_uuid': '123456', 'timestamp': 1629169058541, 'datetime': '20210817105738', 'data': {'log': 'i = 3\\n'}}\n",
      "{'version': '0.1.0', 'server': 'localhost:8119', 'type': 'runlog', 'appId': 'k12pyr.16601548608.123456', 'token': '784739', 'user': '16601548608', 'op': 'runcode.start', 'service_name': 'k12pyr', 'service_uuid': '123456', 'timestamp': 1629169058571, 'datetime': '20210817105738', 'data': {'log': 'i = 4\\n'}}\n",
      "{'version': '0.1.0', 'server': 'localhost:8119', 'type': 'runlog', 'appId': 'k12pyr.16601548608.123456', 'token': '784739', 'user': '16601548608', 'op': 'runcode.start', 'service_name': 'k12pyr', 'service_uuid': '123456', 'timestamp': 1629169058602, 'datetime': '20210817105738', 'data': {'log': 'i = 5\\n'}}\n",
      "{'version': '0.1.0', 'server': 'localhost:8119', 'type': 'runlog', 'appId': 'k12pyr.16601548608.123456', 'token': '784739', 'user': '16601548608', 'op': 'runcode.start', 'service_name': 'k12pyr', 'service_uuid': '123456', 'timestamp': 1629169058637, 'datetime': '20210817105738', 'data': {'log': 'i = 6\\n'}}\n",
      "{'version': '0.1.0', 'server': 'localhost:8119', 'type': 'runlog', 'appId': 'k12pyr.16601548608.123456', 'token': '784739', 'user': '16601548608', 'op': 'runcode.start', 'service_name': 'k12pyr', 'service_uuid': '123456', 'timestamp': 1629169058667, 'datetime': '20210817105738', 'data': {'log': 'i = 7\\n'}}\n",
      "{'version': '0.1.0', 'server': 'localhost:8119', 'type': 'runlog', 'appId': 'k12pyr.16601548608.123456', 'token': '784739', 'user': '16601548608', 'op': 'runcode.start', 'service_name': 'k12pyr', 'service_uuid': '123456', 'timestamp': 1629169058695, 'datetime': '20210817105738', 'data': {'log': 'i = 8\\n'}}\n",
      "{'version': '0.1.0', 'server': 'localhost:8119', 'type': 'runlog', 'appId': 'k12pyr.16601548608.123456', 'token': '784739', 'user': '16601548608', 'op': 'runcode.start', 'service_name': 'k12pyr', 'service_uuid': '123456', 'timestamp': 1629169058729, 'datetime': '20210817105738', 'data': {'log': 'i = 9\\n'}}\n",
      "{'version': '0.1.0', 'server': 'localhost:8119', 'type': 'runlog', 'appId': 'k12pyr.16601548608.123456', 'token': '784739', 'user': '16601548608', 'op': 'runcode.start', 'service_name': 'k12pyr', 'service_uuid': '123456', 'timestamp': 1629169058786, 'datetime': '20210817105738', 'data': {'status': 'finished'}}\n"
     ]
    }
   ],
   "source": [
    "for lo in runlog:\n",
    "    print(json.loads(lo))"
   ]
  },
  {
   "cell_type": "markdown",
   "id": "interracial-gamma",
   "metadata": {},
   "source": [
    "## 输出结果"
   ]
  },
  {
   "cell_type": "markdown",
   "id": "cooperative-tampa",
   "metadata": {
    "ExecuteTime": {
     "end_time": "2021-08-12T10:01:38.936765Z",
     "start_time": "2021-08-12T10:01:38.862641Z"
    }
   },
   "source": [
    "### $appId.error [见:统一错误码](http://116.85.5.40:8118/notebooks/docs/k12ai_errorcode.ipynb#统一错误码)\n",
    "\n",
    "- A.无错误时(expand内容为status)\n",
    "\n",
    "```json\n",
    "{\n",
    "    'version': '0.1.0',\n",
    "    'server': 'localhost:8119',\n",
    "    'type': 'error',                          // 消息类型\n",
    "    'appId': 'k12pyr.16601548608.123456',     // redis key(前缀)\n",
    "    'token': '608997',\n",
    "    'user': '16601548608',\n",
    "    'op': 'runcode.start',\n",
    "    'service_name': 'k12pyr',\n",
    "    'service_uuid': '123456',\n",
    "    'timestamp': 1628762229417,               // 日期时间戳\n",
    "    'datetime': '20210812175709',             // 当前日期\n",
    "    'data': {                                 // 消息负载\n",
    "        'code': 100003,                       // 错误码\n",
    "        'message': {'en': 'program normal exit', 'cn': '程序正常结束'},  // 错误码对应的消息内容\n",
    "        'expand': {'status': 'finished'}      // 错误码对应的扩展消息 (当没错时:主要是状态信息, 当有错误时: 主要是堆栈信息)\n",
    "    }\n",
    "}\n",
    "```\n",
    "\n",
    "- B.有错误时(expand内容为errinfo)\n",
    "\n",
    "```json\n",
    "{\n",
    "    \"version\": \"0.1.0\",\n",
    "    \"server\": \"localhost:8119\",\n",
    "    \"type\": \"error\",                                     // 消息类型\n",
    "    \"appId\": \"k12pyr.16601548608.123456\",\n",
    "    \"token\": \"930538\",\n",
    "    \"user\": \"16601548608\",\n",
    "    \"op\": \"runcode.start\",\n",
    "    \"service_name\": \"k12pyr\",\n",
    "    \"service_uuid\": \"123456\",\n",
    "    \"timestamp\": 1628764147761,\n",
    "    \"datetime\": \"20210812182907\",\n",
    "    \"data\": {\n",
    "        \"code\": 100910,\n",
    "        \"message\": {\n",
    "            \"en\": \"import module can not found\",\n",
    "            \"cn\": \"常见错误: 引入的模块不存在\"\n",
    "        },\n",
    "        \"expand\": {\n",
    "            \"errinfo\": {                                 // 程序错误信息\n",
    "                \"err_type\": \"ModuleNotFoundError\",       // 错误类型\n",
    "                \"err_text\": \"No module named 'xxtime'\",  // 错误类型消息内容\n",
    "                \"trackback\": [                           // 错误信息的堆栈\n",
    "                    {\n",
    "                        \"filename\": \"pyrcode\",           // 错误发生的文件 (针对代码块执行, 默认都是pyrcode)\n",
    "                        \"linenum\": 2                     // 错误发生在第几行数\n",
    "                    }\n",
    "                ]\n",
    "            }\n",
    "        }\n",
    "    }\n",
    "}\n",
    "```\n",
    "\n",
    "### $appId.runlog (用户代码操作输出)\n",
    "\n",
    "- A. 正常用户的print\n",
    "\n",
    "```json\n",
    "{\n",
    "    \"version\": \"0.1.0\",\n",
    "    \"server\": \"localhost:8119\",\n",
    "    \"type\": \"runlog\",                           // 消息类型\n",
    "    \"appId\": \"k12pyr.16601548608.123456\",\n",
    "    \"token\": \"649147\",\n",
    "    \"user\": \"16601548608\",\n",
    "    \"op\": \"runcode.start\",\n",
    "    \"service_name\": \"k12pyr\",\n",
    "    \"service_uuid\": \"123456\",\n",
    "    \"timestamp\": 1628764719553,\n",
    "    \"datetime\": \"20210812183839\",\n",
    "    \"data\": {                                   // 消息负载\n",
    "        \"log\": \"i = 9\\n\"                        // print的消息内容\n",
    "    }\n",
    "}\n",
    "```\n",
    "\n",
    "- B. 带有图片操作show\n",
    "\n",
    "```json\n",
    "{\n",
    "    \"version\": \"0.1.0\",\n",
    "    \"server\": \"localhost:8119\",\n",
    "    \"type\": \"runlog\",                          // 消息类型\n",
    "    \"appId\": \"k12pyr.16601548608.123456\",\n",
    "    \"token\": \"890443\",\n",
    "    \"user\": \"16601548608\",\n",
    "    \"op\": \"runcode.start\",\n",
    "    \"service_name\": \"k12pyr\",\n",
    "    \"service_uuid\": \"123456\",\n",
    "    \"timestamp\": 1628765202398,\n",
    "    \"datetime\": \"20210812184642\",\n",
    "    \"data\": {                                  // 消息负载 (imshow base64 string)\n",
    "        \"imshow\": \"iVBORw0KGgoAAAANSUhEUgAAABwAAAAcCAAAAABXZoBIAAAB30lEQVR4nG2SvWtTYRTGf+9X7leTNkpACLQ6iYq2iEgHB6mCqKAUUeifoK7i4tBRKgouDo51cRP8WBykUFsQA4LuVVQogiXNNc0Hvck9DsmNXPUZz/O+v/d5zzngYyMgAgIMDu3QHgONAYwV0GVVGJY0OACsxiiyk9G4VwJnUQAEUPQHABMAYFB6hLAWCFEKfMc+CME4AIWlR9iGszOlyvkp3t1/JqBML3s9DNn/8IvIpkhHPpxGDfhYUpd0072LC97Gp9ettHxr5tJaL8X0B67C6vIPqV/QBJQ2ZJ4QhpG0BszjhryZP0ORWC56HnuGWLcL9J8cmp2dq3+UidLXg/H1qLLwDQAHSikXHb/3VkRaaXdb2uu3yWQtHlDh8ve0K9K8M1WMsrgojQONOtHqyI7UGB92nAIeCk2If/T5L9mS7W7NMMGwk0WUNhBUFvvy6lw1lhWMsuSk1kRuRvBSXvgQ5Dx7rSPLvmP6Z32d4cRGOvI5lknP52RTah7G5MzJrVQO4OunSeOqsuRNVqR7jOqjRN6PmKNU3ib9U3PVG7AaJEk2z2wjrki820h3kuXD4P31E6JVSUXad5XWeAPin8yFwtJ0rfkg5j8agwiKuVq2hPQIBNUt/HNrIAWlfOU3AZKW2kL7nCQAAAAASUVORK5CYII=\"\n",
    "    }\n",
    "}\n",
    "```"
   ]
  },
  {
   "cell_type": "markdown",
   "id": "personal-preservation",
   "metadata": {},
   "source": [
    "### 测试"
   ]
  },
  {
   "cell_type": "code",
   "execution_count": 9,
   "id": "copyrighted-norfolk",
   "metadata": {
    "ExecuteTime": {
     "end_time": "2021-08-17T02:57:44.958324Z",
     "start_time": "2021-08-17T02:57:44.860876Z"
    }
   },
   "outputs": [
    {
     "name": "stdout",
     "output_type": "stream",
     "text": [
      "import os\n",
      "import xxtime\n",
      "for i in range(10):\n",
      "    print('i = %d' % i)\n",
      "\n"
     ]
    },
    {
     "data": {
      "text/plain": [
       "{'code': 100000, 'message': {'en': 'success', 'cn': '成功'}}"
      ]
     },
     "execution_count": 9,
     "metadata": {},
     "output_type": "execute_result"
    }
   ],
   "source": [
    "code = '''import os\n",
    "import xxtime\n",
    "for i in range(10):\n",
    "    print('i = %d' % i)\n",
    "'''\n",
    "\n",
    "params = {\n",
    "    \"appId\": appId,\n",
    "    \"token\": tokenId,\n",
    "    \"op\": \"runcode.start\",\n",
    "    \"user\": user,\n",
    "    \"service_name\": \"k12pyr\",\n",
    "    \"service_uuid\": uuid,\n",
    "    \"service_params\": {\n",
    "        \"code\": code,\n",
    "    }\n",
    "}\n",
    "\n",
    "print(code)\n",
    "\n",
    "requests.get(POP_URL + f'?key={appId}.runlog')\n",
    "requests.get(POP_URL + f'?key={appId}.error')\n",
    "requests.post(EXE_URL, json=params).json()"
   ]
  },
  {
   "cell_type": "code",
   "execution_count": 10,
   "id": "adjustable-singer",
   "metadata": {
    "ExecuteTime": {
     "end_time": "2021-08-17T02:57:55.022580Z",
     "start_time": "2021-08-17T02:57:44.960637Z"
    }
   },
   "outputs": [],
   "source": [
    "time.sleep(10)\n",
    "runlog = requests.get(POP_URL + f'?key={appId}.runlog').json()\n",
    "errors = requests.get(POP_URL + f'?key={appId}.error').json()"
   ]
  },
  {
   "cell_type": "code",
   "execution_count": 11,
   "id": "static-indonesian",
   "metadata": {
    "ExecuteTime": {
     "end_time": "2021-08-17T02:57:55.059680Z",
     "start_time": "2021-08-17T02:57:55.024821Z"
    }
   },
   "outputs": [
    {
     "name": "stdout",
     "output_type": "stream",
     "text": [
      "{'version': '0.1.0', 'server': 'localhost:8119', 'type': 'error', 'appId': 'k12pyr.16601548608.123456', 'token': '784739', 'user': '16601548608', 'op': 'runcode.start', 'service_name': 'k12pyr', 'service_uuid': '123456', 'timestamp': 1629169065012, 'datetime': '20210817105745', 'data': {'code': 100001, 'message': {'en': 'program staring', 'cn': '程序正在启动'}, 'expand': {'status': 'starting'}}}\n",
      "{'version': '0.1.0', 'server': 'localhost:8119', 'type': 'error', 'appId': 'k12pyr.16601548608.123456', 'token': '784739', 'user': '16601548608', 'op': 'runcode.start', 'service_name': 'k12pyr', 'service_uuid': '123456', 'timestamp': 1629169068549, 'datetime': '20210817105748', 'data': {'code': 100002, 'message': {'en': 'program running', 'cn': '程序正在运行'}, 'expand': {'status': 'running'}}}\n",
      "{'version': '0.1.0', 'server': 'localhost:8119', 'type': 'error', 'appId': 'k12pyr.16601548608.123456', 'token': '784739', 'user': '16601548608', 'op': 'runcode.start', 'service_name': 'k12pyr', 'service_uuid': '123456', 'timestamp': 1629169068611, 'datetime': '20210817105748', 'data': {'code': 100910, 'message': {'en': 'import module can not found', 'cn': '常见错误: 引入的模块不存在'}, 'expand': {'errinfo': {'err_type': 'ModuleNotFoundError', 'err_text': \"No module named 'xxtime'\", 'trackback': [{'filename': 'pyrcode', 'linenum': 2}]}}}}\n",
      "{'version': '0.1.0', 'server': 'localhost:8119', 'type': 'error', 'appId': 'k12pyr.16601548608.123456', 'token': '784739', 'user': '16601548608', 'op': 'runcode.start', 'service_name': 'k12pyr', 'service_uuid': '123456', 'timestamp': 1629169068643, 'datetime': '20210817105748', 'data': {'code': 100003, 'message': {'en': 'program normal exit', 'cn': '程序正常结束'}, 'expand': {'status': 'finished'}}}\n"
     ]
    }
   ],
   "source": [
    "for et in errors:\n",
    "    print(json.loads(et))"
   ]
  },
  {
   "cell_type": "code",
   "execution_count": 12,
   "id": "unknown-necessity",
   "metadata": {
    "ExecuteTime": {
     "end_time": "2021-08-17T02:57:55.164406Z",
     "start_time": "2021-08-17T02:57:55.062104Z"
    }
   },
   "outputs": [
    {
     "name": "stdout",
     "output_type": "stream",
     "text": [
      "import os\n",
      "from PIL import Image, ImageFilter\n",
      "\n",
      "image = Image.open('/datasets/cv/rmnist/imgs/val/03735.jpg')\n",
      "image.show()\n",
      "a = b # error\n",
      "\n"
     ]
    },
    {
     "data": {
      "text/plain": [
       "{'code': 100000, 'message': {'en': 'success', 'cn': '成功'}}"
      ]
     },
     "execution_count": 12,
     "metadata": {},
     "output_type": "execute_result"
    }
   ],
   "source": [
    "code = '''import os\n",
    "from PIL import Image, ImageFilter\n",
    "\n",
    "image = Image.open('/datasets/cv/rmnist/imgs/val/03735.jpg')\n",
    "image.show()\n",
    "a = b # error\n",
    "'''\n",
    "\n",
    "params = {\n",
    "    \"appId\": appId,\n",
    "    \"token\": tokenId,\n",
    "    \"op\": \"runcode.start\",\n",
    "    \"user\": user,\n",
    "    \"service_name\": \"k12pyr\",\n",
    "    \"service_uuid\": uuid,\n",
    "    \"service_params\": {\n",
    "        \"code\": code,\n",
    "    }\n",
    "}\n",
    "\n",
    "print(code)\n",
    "\n",
    "requests.get(POP_URL + f'?key={appId}.runlog')\n",
    "requests.get(POP_URL + f'?key={appId}.error')\n",
    "requests.post(EXE_URL, json=params).json()"
   ]
  },
  {
   "cell_type": "code",
   "execution_count": 13,
   "id": "settled-consultancy",
   "metadata": {
    "ExecuteTime": {
     "end_time": "2021-08-17T02:57:55.219517Z",
     "start_time": "2021-08-17T02:57:55.166764Z"
    }
   },
   "outputs": [],
   "source": [
    "# time.sleep(10)\n",
    "runlog = requests.get(POP_URL + f'?key={appId}.runlog').json()\n",
    "errors = requests.get(POP_URL + f'?key={appId}.error').json()"
   ]
  },
  {
   "cell_type": "code",
   "execution_count": 14,
   "id": "quick-latvia",
   "metadata": {
    "ExecuteTime": {
     "end_time": "2021-08-17T02:57:55.254662Z",
     "start_time": "2021-08-17T02:57:55.221810Z"
    }
   },
   "outputs": [],
   "source": [
    "for x in runlog:\n",
    "    print(json.loads(x))"
   ]
  },
  {
   "cell_type": "markdown",
   "id": "vanilla-taste",
   "metadata": {},
   "source": [
    "## UI 调试"
   ]
  },
  {
   "cell_type": "code",
   "execution_count": 27,
   "id": "computational-tsunami",
   "metadata": {
    "ExecuteTime": {
     "end_time": "2021-08-17T03:26:32.160182Z",
     "start_time": "2021-08-17T03:26:32.123533Z"
    },
    "scrolled": false
   },
   "outputs": [
    {
     "data": {
      "text/html": [
       "<style>.container { width:95% !important; }</style>"
      ],
      "text/plain": [
       "<IPython.core.display.HTML object>"
      ]
     },
     "metadata": {},
     "output_type": "display_data"
    },
    {
     "data": {
      "text/html": [
       "\n",
       "        <iframe\n",
       "            width=\"100%\"\n",
       "            height=\"1400px\"\n",
       "            src=\"http://116.85.5.40:9091/codemirror.html?default=import+os%0Afrom+PIL+import+Image%2C+ImageFilter%0A%0Aimage+%3D+Image.open%28%27%2Fdatasets%2Fcv%2Frmnist%2Fimgs%2Fval%2F03735.jpg%27%29%0Aimage.show%28%29%0Aa+%3D+b+%23+error%0A\"\n",
       "            frameborder=\"0\"\n",
       "            allowfullscreen\n",
       "        ></iframe>\n",
       "        "
      ],
      "text/plain": [
       "<IPython.lib.display.IFrame at 0x7f5bab755080>"
      ]
     },
     "execution_count": 27,
     "metadata": {},
     "output_type": "execute_result"
    }
   ],
   "source": [
    "params = {'default': code}\n",
    "k12ai_start_html(f'{W3URL}/codemirror.html?{urlencode(params)}', width='100%', height='1400px')"
   ]
  }
 ],
 "metadata": {
  "hide_input": false,
  "kernelspec": {
   "display_name": "Python 3",
   "language": "python",
   "name": "python3"
  },
  "language_info": {
   "codemirror_mode": {
    "name": "ipython",
    "version": 3
   },
   "file_extension": ".py",
   "mimetype": "text/x-python",
   "name": "python",
   "nbconvert_exporter": "python",
   "pygments_lexer": "ipython3",
   "version": "3.6.9"
  },
  "toc": {
   "base_numbering": 1,
   "nav_menu": {},
   "number_sections": true,
   "sideBar": true,
   "skip_h1_title": true,
   "title_cell": "",
   "title_sidebar": "Contents",
   "toc_cell": false,
   "toc_position": {},
   "toc_section_display": true,
   "toc_window_display": false
  }
 },
 "nbformat": 4,
 "nbformat_minor": 5
}
