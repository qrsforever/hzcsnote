{
 "cells": [
  {
   "cell_type": "markdown",
   "metadata": {
    "ExecuteTime": {
     "end_time": "2020-09-14T03:32:46.424838Z",
     "start_time": "2020-09-14T03:32:45.852066Z"
    }
   },
   "source": [
    "![](/notebooks/assets/images/pyr_nav.png)"
   ]
  },
  {
   "cell_type": "code",
   "execution_count": 1,
   "metadata": {
    "ExecuteTime": {
     "end_time": "2020-09-18T08:53:00.611978Z",
     "start_time": "2020-09-18T08:52:59.145975Z"
    }
   },
   "outputs": [],
   "source": [
    "from k12libs.utils.nb_easy import k12ai_start_html\n",
    "from urllib.parse import urlencode\n",
    "import json\n",
    "import time\n",
    "import requests"
   ]
  },
  {
   "cell_type": "code",
   "execution_count": 2,
   "metadata": {
    "ExecuteTime": {
     "end_time": "2020-09-18T08:53:11.245336Z",
     "start_time": "2020-09-18T08:53:11.238069Z"
    }
   },
   "outputs": [],
   "source": [
    "default_code_snip = '''import time, sys\n",
    "def main():\n",
    "    \"\"\"\n",
    "    中文汉字就是帅, 符号也不赖！＠＃￥％＾＆＊（）＿＋｛｝：＂＞＜？｜\n",
    "    \"\"\"\n",
    "    for i in range(10):\n",
    "        print(f'{i}'*50, flush=True)\n",
    "        time.sleep(1)\n",
    "main()\n",
    "'''"
   ]
  },
  {
   "cell_type": "code",
   "execution_count": 3,
   "metadata": {
    "ExecuteTime": {
     "end_time": "2020-09-18T08:53:25.410902Z",
     "start_time": "2020-09-18T08:53:25.394117Z"
    }
   },
   "outputs": [
    {
     "data": {
      "text/html": [
       "<style>.container { width:95% !important; }</style>"
      ],
      "text/plain": [
       "<IPython.core.display.HTML object>"
      ]
     },
     "metadata": {},
     "output_type": "display_data"
    },
    {
     "data": {
      "text/html": [
       "\n",
       "        <iframe\n",
       "            width=\"100%\"\n",
       "            height=\"1000px\"\n",
       "            src=\"http://116.85.5.40:9091/codemirror.html?default=import+time%2C+sys%0Adef+main%28%29%3A%0A++++%22%22%22%0A++++%E4%B8%AD%E6%96%87%E6%B1%89%E5%AD%97%E5%B0%B1%E6%98%AF%E5%B8%85%2C+%E7%AC%A6%E5%8F%B7%E4%B9%9F%E4%B8%8D%E8%B5%96%EF%BC%81%EF%BC%A0%EF%BC%83%EF%BF%A5%EF%BC%85%EF%BC%BE%EF%BC%86%EF%BC%8A%EF%BC%88%EF%BC%89%EF%BC%BF%EF%BC%8B%EF%BD%9B%EF%BD%9D%EF%BC%9A%EF%BC%82%EF%BC%9E%EF%BC%9C%EF%BC%9F%EF%BD%9C%0A++++%22%22%22%0A++++for+i+in+range%2810%29%3A%0A++++++++print%28f%27%7Bi%7D%27%2A50%2C+flush%3DTrue%29%0A++++++++time.sleep%281%29%0Amain%28%29%0A\"\n",
       "            frameborder=\"0\"\n",
       "            allowfullscreen\n",
       "        ></iframe>\n",
       "        "
      ],
      "text/plain": [
       "<IPython.lib.display.IFrame at 0x7f4db8d41668>"
      ]
     },
     "execution_count": 3,
     "metadata": {},
     "output_type": "execute_result"
    }
   ],
   "source": [
    "params = {\n",
    "    'default': default_code_snip\n",
    "}\n",
    "k12ai_start_html(f'codemirror.html?{urlencode(params)}', width='100%', height='1000px')"
   ]
  }
 ],
 "metadata": {
  "kernelspec": {
   "display_name": "Python 3",
   "language": "python",
   "name": "python3"
  },
  "language_info": {
   "codemirror_mode": {
    "name": "ipython",
    "version": 3
   },
   "file_extension": ".py",
   "mimetype": "text/x-python",
   "name": "python",
   "nbconvert_exporter": "python",
   "pygments_lexer": "ipython3",
   "version": "3.6.9"
  },
  "toc": {
   "base_numbering": 1,
   "nav_menu": {},
   "number_sections": true,
   "sideBar": true,
   "skip_h1_title": true,
   "title_cell": "",
   "title_sidebar": "Contents",
   "toc_cell": false,
   "toc_position": {},
   "toc_section_display": true,
   "toc_window_display": false
  }
 },
 "nbformat": 4,
 "nbformat_minor": 4
}
