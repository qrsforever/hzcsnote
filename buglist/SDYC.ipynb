{
 "cells": [
  {
   "cell_type": "markdown",
   "metadata": {},
   "source": [
    "# <div align=\"center\"> 山东英才 </div>"
   ]
  },
  {
   "cell_type": "code",
   "execution_count": 103,
   "metadata": {
    "ExecuteTime": {
     "end_time": "2021-01-07T13:31:32.970384Z",
     "start_time": "2021-01-07T13:31:32.957938Z"
    }
   },
   "outputs": [],
   "source": [
    "import os\n",
    "import json\n",
    "import xlrd\n",
    "import hashlib\n",
    "import pandas as pd\n",
    "from k12libs.k12ai.k12ai_errmsg import ERRORS\n",
    "from IPython.display import display, Markdown, HTML"
   ]
  },
  {
   "cell_type": "code",
   "execution_count": 40,
   "metadata": {
    "ExecuteTime": {
     "end_time": "2021-01-07T09:50:08.169008Z",
     "start_time": "2021-01-07T09:50:08.158840Z"
    }
   },
   "outputs": [
    {
     "data": {
      "text/html": [
       "<style>.container { width:80% !important; }</style>"
      ],
      "text/plain": [
       "<IPython.core.display.HTML object>"
      ]
     },
     "metadata": {},
     "output_type": "display_data"
    }
   ],
   "source": [
    "display(HTML('<style>.container { width:%d%% !important; }</style>' % 80))"
   ]
  },
  {
   "cell_type": "markdown",
   "metadata": {},
   "source": [
    "## 问题单"
   ]
  },
  {
   "cell_type": "code",
   "execution_count": 3,
   "metadata": {
    "ExecuteTime": {
     "end_time": "2021-01-07T09:22:07.325125Z",
     "start_time": "2021-01-07T09:22:07.317251Z"
    }
   },
   "outputs": [],
   "source": [
    "students_all = ['10110207020%02d' % (i+1) for i in range(40)]"
   ]
  },
  {
   "cell_type": "markdown",
   "metadata": {},
   "source": [
    "### 20210107: 10:00  ~ 11:00"
   ]
  },
  {
   "cell_type": "markdown",
   "metadata": {},
   "source": [
    "#### 在线人数"
   ]
  },
  {
   "cell_type": "code",
   "execution_count": 4,
   "metadata": {
    "ExecuteTime": {
     "end_time": "2021-01-07T09:22:07.345106Z",
     "start_time": "2021-01-07T09:22:07.329371Z"
    }
   },
   "outputs": [
    {
     "name": "stdout",
     "output_type": "stream",
     "text": [
      "25 ['1011020702001', '1011020702003', '1011020702004', '1011020702005', '1011020702006', '1011020702007', '1011020702008', '1011020702009', '1011020702012', '1011020702013', '1011020702014', '1011020702015', '1011020702016', '1011020702018', '1011020702019', '1011020702020', '1011020702021', '1011020702022', '1011020702023', '1011020702025', '1011020702026', '1011020702027', '1011020702028', '1011020702029', '1011020702030']\n"
     ]
    }
   ],
   "source": [
    "students_online = [\n",
    "    '1011020702001', \n",
    "    '1011020702003', \n",
    "    '1011020702004', \n",
    "    '1011020702005', \n",
    "    '1011020702006', \n",
    "    '1011020702007', \n",
    "    '1011020702008', \n",
    "    '1011020702009', \n",
    "    '1011020702012', \n",
    "    '1011020702013', \n",
    "    '1011020702014', \n",
    "    '1011020702015', \n",
    "    '1011020702016', \n",
    "    '1011020702018', \n",
    "    '1011020702019', \n",
    "    '1011020702020', \n",
    "    '1011020702021', \n",
    "    '1011020702022', \n",
    "    '1011020702023', \n",
    "    '1011020702025', \n",
    "    '1011020702026', \n",
    "    '1011020702027', \n",
    "    '1011020702028', \n",
    "    '1011020702029', \n",
    "    '1011020702030', \n",
    "]\n",
    "\n",
    "print(len(students_online), students_online)"
   ]
  },
  {
   "cell_type": "markdown",
   "metadata": {},
   "source": [
    "#### 离线线人数"
   ]
  },
  {
   "cell_type": "code",
   "execution_count": 5,
   "metadata": {
    "ExecuteTime": {
     "end_time": "2021-01-07T09:22:07.358898Z",
     "start_time": "2021-01-07T09:22:07.348358Z"
    }
   },
   "outputs": [
    {
     "name": "stdout",
     "output_type": "stream",
     "text": [
      "15 ['1011020702002', '1011020702010', '1011020702011', '1011020702017', '1011020702024', '1011020702031', '1011020702032', '1011020702033', '1011020702034', '1011020702035', '1011020702036', '1011020702037', '1011020702038', '1011020702039', '1011020702040']\n"
     ]
    }
   ],
   "source": [
    "students_offline = [x for x in students_all if x not in students_online]\n",
    "print(len(students_offline), students_offline)"
   ]
  },
  {
   "cell_type": "markdown",
   "metadata": {
    "ExecuteTime": {
     "end_time": "2021-01-07T07:37:49.316978Z",
     "start_time": "2021-01-07T07:37:49.311056Z"
    }
   },
   "source": [
    "#### 错误统计"
   ]
  },
  {
   "cell_type": "code",
   "execution_count": 105,
   "metadata": {
    "ExecuteTime": {
     "end_time": "2021-01-07T13:32:20.353314Z",
     "start_time": "2021-01-07T13:32:20.285785Z"
    }
   },
   "outputs": [],
   "source": [
    "book = xlrd.open_workbook(xls_file)\n",
    "sheet = book.sheet_by_index(0)\n",
    "errors = {\n",
    "    'unkown': {},\n",
    "    'general': {}\n",
    "}\n",
    "\n",
    "for rowid in range(1, sheet.nrows):\n",
    "    user, uuid, errcode, payload = sheet.row_values(rowid)\n",
    "    errcode = int(errcode)\n",
    "    payload = json.loads(payload)\n",
    "    if errcode == 999999:\n",
    "        text = payload['errinfo']['err_text']\n",
    "        md5 = hashlib.md5(text.encode()).hexdigest()[0:6]\n",
    "        if md5 not in errors['unkown']:\n",
    "            errors['unkown'][md5] = {\n",
    "                'err_text': text,\n",
    "                'trackback': json.dumps(payload['errinfo']['trackback'], indent=2).replace('\\n', '</br>')\n",
    "            }\n",
    "    elif errcode > 100100:\n",
    "        if errcode not in errors['general']:\n",
    "            errors['general'][errcode] = {\n",
    "                'err_text': payload['errinfo']['err_text'],\n",
    "                'trackback': json.dumps(payload['errinfo']['trackback'], indent=2).replace('\\n', '</br>')\n",
    "            }"
   ]
  },
  {
   "cell_type": "markdown",
   "metadata": {},
   "source": [
    "---------------------\n",
    "\n",
    "##### General错误"
   ]
  },
  {
   "cell_type": "code",
   "execution_count": 46,
   "metadata": {
    "ExecuteTime": {
     "end_time": "2021-01-07T09:52:52.538713Z",
     "start_time": "2021-01-07T09:52:52.525901Z"
    },
    "scrolled": false
   },
   "outputs": [
    {
     "data": {
      "text/markdown": [
       "ErrorCode | ErrorText | Trackback\n",
       ":---:|:---|:---\n",
       "<img width=150/> | <img width=250/> | <img width=350/>\n",
       "100402|pad should be smaller than half of kernel size, but got padW = 3, padH = 3, kW = 3, kH = 3|[</br>  {</br>    \"filename\": \"/hzcsk12/cv/torchcv/lib/runner/controller.py\",</br>    \"linenum\": 37,</br>    \"funcname\": \"train\",</br>    \"source\": \"runner.train()\"</br>  },</br>  {</br>    \"filename\": \"/hzcsk12/cv/torchcv/runner/cls/image_classifier.py\",</br>    \"linenum\": 121,</br>    \"funcname\": \"train\",</br>    \"source\": \"out = self.cls_net(data_dict['img'])\"</br>  },</br>  {</br>    \"filename\": \"/usr/local/lib/python3.6/dist-packages/torch/nn/modules/module.py\",</br>    \"linenum\": 550,</br>    \"funcname\": \"__call__\",</br>    \"source\": \"result = self.forward(*input, **kwargs)\"</br>  },</br>  {</br>    \"filename\": \"/usr/local/lib/python3.6/dist-packages/torch/nn/parallel/data_parallel.py\",</br>    \"linenum\": 150,</br>    \"funcname\": \"forward\",</br>    \"source\": \"return self.module(*inputs[0], **kwargs[0])\"</br>  },</br>  {</br>    \"filename\": \"/usr/local/lib/python3.6/dist-packages/torch/nn/modules/module.py\",</br>    \"linenum\": 550,</br>    \"funcname\": \"__call__\",</br>    \"source\": \"result = self.forward(*input, **kwargs)\"</br>  },</br>  {</br>    \"filename\": \"/hzcsk12/cv/torchcv/model/cls/nets/base_model.py\",</br>    \"linenum\": 61,</br>    \"funcname\": \"forward\",</br>    \"source\": \"return self.net(inputs)\"</br>  },</br>  {</br>    \"filename\": \"/usr/local/lib/python3.6/dist-packages/torch/nn/modules/module.py\",</br>    \"linenum\": 550,</br>    \"funcname\": \"__call__\",</br>    \"source\": \"result = self.forward(*input, **kwargs)\"</br>  },</br>  {</br>    \"filename\": \"/cache/output/custom/custom_base.py\",</br>    \"linenum\": 18,</br>    \"funcname\": \"forward\",</br>    \"source\": \"MaxPool2d_okt5evk5sn_feat = self.MaxPool2d_okt5evk5sn(Conv2d_0mguag3ijr_feat)\"</br>  },</br>  {</br>    \"filename\": \"/usr/local/lib/python3.6/dist-packages/torch/nn/modules/module.py\",</br>    \"linenum\": 550,</br>    \"funcname\": \"__call__\",</br>    \"source\": \"result = self.forward(*input, **kwargs)\"</br>  },</br>  {</br>    \"filename\": \"/usr/local/lib/python3.6/dist-packages/torch/nn/modules/pooling.py\",</br>    \"linenum\": 141,</br>    \"funcname\": \"forward\",</br>    \"source\": \"self.return_indices)\"</br>  },</br>  {</br>    \"filename\": \"/usr/local/lib/python3.6/dist-packages/torch/_jit_internal.py\",</br>    \"linenum\": 209,</br>    \"funcname\": \"fn\",</br>    \"source\": \"return if_false(*args, **kwargs)\"</br>  },</br>  {</br>    \"filename\": \"/usr/local/lib/python3.6/dist-packages/torch/nn/functional.py\",</br>    \"linenum\": 539,</br>    \"funcname\": \"_max_pool2d\",</br>    \"source\": \"input, kernel_size, stride, padding, dilation, ceil_mode)\"</br>  }</br>]\n",
       "100401|size mismatch, m1: [32 x 350464], m2: [3211264 x 2] at /pytorch/aten/src/THC/generic/THCTensorMathBlas.cu:283|[</br>  {</br>    \"filename\": \"/hzcsk12/cv/torchcv/lib/runner/controller.py\",</br>    \"linenum\": 37,</br>    \"funcname\": \"train\",</br>    \"source\": \"runner.train()\"</br>  },</br>  {</br>    \"filename\": \"/hzcsk12/cv/torchcv/runner/cls/image_classifier.py\",</br>    \"linenum\": 121,</br>    \"funcname\": \"train\",</br>    \"source\": \"out = self.cls_net(data_dict['img'])\"</br>  },</br>  {</br>    \"filename\": \"/usr/local/lib/python3.6/dist-packages/torch/nn/modules/module.py\",</br>    \"linenum\": 550,</br>    \"funcname\": \"__call__\",</br>    \"source\": \"result = self.forward(*input, **kwargs)\"</br>  },</br>  {</br>    \"filename\": \"/usr/local/lib/python3.6/dist-packages/torch/nn/parallel/data_parallel.py\",</br>    \"linenum\": 150,</br>    \"funcname\": \"forward\",</br>    \"source\": \"return self.module(*inputs[0], **kwargs[0])\"</br>  },</br>  {</br>    \"filename\": \"/usr/local/lib/python3.6/dist-packages/torch/nn/modules/module.py\",</br>    \"linenum\": 550,</br>    \"funcname\": \"__call__\",</br>    \"source\": \"result = self.forward(*input, **kwargs)\"</br>  },</br>  {</br>    \"filename\": \"/hzcsk12/cv/torchcv/model/cls/nets/base_model.py\",</br>    \"linenum\": 61,</br>    \"funcname\": \"forward\",</br>    \"source\": \"return self.net(inputs)\"</br>  },</br>  {</br>    \"filename\": \"/usr/local/lib/python3.6/dist-packages/torch/nn/modules/module.py\",</br>    \"linenum\": 550,</br>    \"funcname\": \"__call__\",</br>    \"source\": \"result = self.forward(*input, **kwargs)\"</br>  },</br>  {</br>    \"filename\": \"/cache/output/custom/custom_base.py\",</br>    \"linenum\": 20,</br>    \"funcname\": \"forward\",</br>    \"source\": \"Linear_czx5gpog8u_feat = self.Linear_czx5gpog8u(Flatten_kgpwk8oovi_feat)\"</br>  },</br>  {</br>    \"filename\": \"/usr/local/lib/python3.6/dist-packages/torch/nn/modules/module.py\",</br>    \"linenum\": 550,</br>    \"funcname\": \"__call__\",</br>    \"source\": \"result = self.forward(*input, **kwargs)\"</br>  },</br>  {</br>    \"filename\": \"/usr/local/lib/python3.6/dist-packages/torch/nn/modules/linear.py\",</br>    \"linenum\": 87,</br>    \"funcname\": \"forward\",</br>    \"source\": \"return F.linear(input, self.weight, self.bias)\"</br>  },</br>  {</br>    \"filename\": \"/usr/local/lib/python3.6/dist-packages/torch/nn/functional.py\",</br>    \"linenum\": 1610,</br>    \"funcname\": \"linear\",</br>    \"source\": \"ret = torch.addmm(bias, input, weight.t())\"</br>  }</br>]\n",
       "100403|__init__() missing 1 required positional argument: 'in_channels'|[</br>  {</br>    \"filename\": \"/hzcsk12/cv/torchcv/runner/runner_selector.py\",</br>    \"linenum\": 114,</br>    \"funcname\": \"cls_runner\",</br>    \"source\": \"return CLS_METHOD_DICT[key](self.configer)\"</br>  },</br>  {</br>    \"filename\": \"/hzcsk12/cv/torchcv/runner/cls/image_classifier.py\",</br>    \"linenum\": 39,</br>    \"funcname\": \"__init__\",</br>    \"source\": \"self.cls_net = self.cls_model_manager.get_cls_model()\"</br>  },</br>  {</br>    \"filename\": \"/hzcsk12/cv/torchcv/model/cls/model_manager.py\",</br>    \"linenum\": 33,</br>    \"funcname\": \"get_cls_model\",</br>    \"source\": \"model = CLS_MODEL_DICT[model_name](self.configer)\"</br>  },</br>  {</br>    \"filename\": \"/hzcsk12/cv/app/k12ai/model/cls/nets/custom_base.py\",</br>    \"linenum\": 21,</br>    \"funcname\": \"__init__\",</br>    \"source\": \"self.net = load_custom_model(cache_dir, model_name)\"</br>  },</br>  {</br>    \"filename\": \"/hzcsk12/cv/app/k12ai/tools/util/net_def.py\",</br>    \"linenum\": 32,</br>    \"funcname\": \"load_custom_model\",</br>    \"source\": \"custom_model = custom_net.custom_model()\"</br>  },</br>  {</br>    \"filename\": \"/cache/output/custom/custom_base.py\",</br>    \"linenum\": 25,</br>    \"funcname\": \"custom_model\",</br>    \"source\": \"return Hproject_model_name()\"</br>  },</br>  {</br>    \"filename\": \"/cache/output/custom/custom_base.py\",</br>    \"linenum\": 11,</br>    \"funcname\": \"__init__\",</br>    \"source\": \"self.Conv2d_32mkjjyr0s = nn.Conv2d(out_channels=64, kernel_size=3, stride=1, padding=1, dilation=1, groups=1, bias=True)\"</br>  }</br>]\n"
      ],
      "text/plain": [
       "<IPython.core.display.Markdown object>"
      ]
     },
     "execution_count": 46,
     "metadata": {},
     "output_type": "execute_result"
    }
   ],
   "source": [
    "data = '''ErrorCode | ErrorText | Trackback\n",
    ":---:|:---|:---\n",
    "<img width=150/> | <img width=250/> | <img width=350/>\n",
    "'''\n",
    "\n",
    "for errcode, errinfo in errors['general'].items():\n",
    "    data += f'{errcode}|{errinfo[\"err_text\"]}|{errinfo[\"trackback\"]}\\n'\n",
    "\n",
    "Markdown(data)"
   ]
  },
  {
   "cell_type": "markdown",
   "metadata": {},
   "source": [
    "---------------------\n",
    "\n",
    "##### Unkown错误"
   ]
  },
  {
   "cell_type": "code",
   "execution_count": 106,
   "metadata": {
    "ExecuteTime": {
     "end_time": "2021-01-07T13:32:30.836909Z",
     "start_time": "2021-01-07T13:32:30.825643Z"
    }
   },
   "outputs": [
    {
     "data": {
      "text/markdown": [
       "ErrorCode | ErrorText | Trackback\n",
       ":---:|:---|:---\n",
       "<img width=150/> | <img width=250/> | <img width=350/>\n",
       "68159f|Expected 5-dimensional input for 5-dimensional weight [64, 3, 5, 5, 5], but got 4-dimensional input of size [32, 3, 224, 224] instead|[</br>  {</br>    \"filename\": \"/hzcsk12/cv/torchcv/lib/runner/controller.py\",</br>    \"linenum\": 37,</br>    \"funcname\": \"train\",</br>    \"source\": \"runner.train()\"</br>  },</br>  {</br>    \"filename\": \"/hzcsk12/cv/torchcv/runner/cls/image_classifier.py\",</br>    \"linenum\": 121,</br>    \"funcname\": \"train\",</br>    \"source\": \"out = self.cls_net(data_dict['img'])\"</br>  },</br>  {</br>    \"filename\": \"/usr/local/lib/python3.6/dist-packages/torch/nn/modules/module.py\",</br>    \"linenum\": 550,</br>    \"funcname\": \"__call__\",</br>    \"source\": \"result = self.forward(*input, **kwargs)\"</br>  },</br>  {</br>    \"filename\": \"/usr/local/lib/python3.6/dist-packages/torch/nn/parallel/data_parallel.py\",</br>    \"linenum\": 150,</br>    \"funcname\": \"forward\",</br>    \"source\": \"return self.module(*inputs[0], **kwargs[0])\"</br>  },</br>  {</br>    \"filename\": \"/usr/local/lib/python3.6/dist-packages/torch/nn/modules/module.py\",</br>    \"linenum\": 550,</br>    \"funcname\": \"__call__\",</br>    \"source\": \"result = self.forward(*input, **kwargs)\"</br>  },</br>  {</br>    \"filename\": \"/hzcsk12/cv/torchcv/model/cls/nets/base_model.py\",</br>    \"linenum\": 61,</br>    \"funcname\": \"forward\",</br>    \"source\": \"return self.net(inputs)\"</br>  },</br>  {</br>    \"filename\": \"/usr/local/lib/python3.6/dist-packages/torch/nn/modules/module.py\",</br>    \"linenum\": 550,</br>    \"funcname\": \"__call__\",</br>    \"source\": \"result = self.forward(*input, **kwargs)\"</br>  },</br>  {</br>    \"filename\": \"/cache/output/custom/custom_base.py\",</br>    \"linenum\": 17,</br>    \"funcname\": \"forward\",</br>    \"source\": \"Conv3d_k36jmsycxf_feat = self.Conv3d_k36jmsycxf(x)\"</br>  },</br>  {</br>    \"filename\": \"/usr/local/lib/python3.6/dist-packages/torch/nn/modules/module.py\",</br>    \"linenum\": 550,</br>    \"funcname\": \"__call__\",</br>    \"source\": \"result = self.forward(*input, **kwargs)\"</br>  },</br>  {</br>    \"filename\": \"/usr/local/lib/python3.6/dist-packages/torch/nn/modules/conv.py\",</br>    \"linenum\": 481,</br>    \"funcname\": \"forward\",</br>    \"source\": \"self.padding, self.dilation, self.groups)\"</br>  }</br>]\n"
      ],
      "text/plain": [
       "<IPython.core.display.Markdown object>"
      ]
     },
     "execution_count": 106,
     "metadata": {},
     "output_type": "execute_result"
    }
   ],
   "source": [
    "data = '''ErrorCode | ErrorText | Trackback\n",
    ":---:|:---|:---\n",
    "<img width=150/> | <img width=250/> | <img width=350/>\n",
    "'''\n",
    "\n",
    "for errcode, errinfo in errors['unkown'].items():\n",
    "    data += f'{errcode}|{errinfo[\"err_text\"]}|{errinfo[\"trackback\"]}\\n'\n",
    "\n",
    "Markdown(data)"
   ]
  },
  {
   "cell_type": "code",
   "execution_count": 141,
   "metadata": {
    "ExecuteTime": {
     "end_time": "2021-01-07T14:49:25.692542Z",
     "start_time": "2021-01-07T14:49:25.606110Z"
    }
   },
   "outputs": [
    {
     "data": {
      "text/html": [
       "<div>\n",
       "<style scoped>\n",
       "    .dataframe tbody tr th:only-of-type {\n",
       "        vertical-align: middle;\n",
       "    }\n",
       "\n",
       "    .dataframe tbody tr th {\n",
       "        vertical-align: top;\n",
       "    }\n",
       "\n",
       "    .dataframe thead th {\n",
       "        text-align: right;\n",
       "    }\n",
       "</style>\n",
       "<table border=\"1\" class=\"dataframe\">\n",
       "  <thead>\n",
       "    <tr style=\"text-align: right;\">\n",
       "      <th></th>\n",
       "      <th></th>\n",
       "      <th>mission_id</th>\n",
       "    </tr>\n",
       "    <tr>\n",
       "      <th>error_code</th>\n",
       "      <th>user_code</th>\n",
       "      <th></th>\n",
       "    </tr>\n",
       "  </thead>\n",
       "  <tbody>\n",
       "    <tr>\n",
       "      <th rowspan=\"5\" valign=\"top\">100401:自定义模型错误: 模型上下层size大小不匹配</th>\n",
       "      <th>1011020702019</th>\n",
       "      <td>3</td>\n",
       "    </tr>\n",
       "    <tr>\n",
       "      <th>1011020702019</th>\n",
       "      <td>3</td>\n",
       "    </tr>\n",
       "    <tr>\n",
       "      <th>1011020702019</th>\n",
       "      <td>3</td>\n",
       "    </tr>\n",
       "    <tr>\n",
       "      <th>1011020702026</th>\n",
       "      <td>3</td>\n",
       "    </tr>\n",
       "    <tr>\n",
       "      <th>1011020702026</th>\n",
       "      <td>3</td>\n",
       "    </tr>\n",
       "    <tr>\n",
       "      <th>100402:自定义模型错误: Pad参数要大于kernel值的一半</th>\n",
       "      <th>1011020702019</th>\n",
       "      <td>3</td>\n",
       "    </tr>\n",
       "    <tr>\n",
       "      <th rowspan=\"5\" valign=\"top\">100403:自定义模型错误: 卷积层缺少in_channels参数</th>\n",
       "      <th>1011020702006</th>\n",
       "      <td>4</td>\n",
       "    </tr>\n",
       "    <tr>\n",
       "      <th>1011020702006</th>\n",
       "      <td>4</td>\n",
       "    </tr>\n",
       "    <tr>\n",
       "      <th>1011020702006</th>\n",
       "      <td>4</td>\n",
       "    </tr>\n",
       "    <tr>\n",
       "      <th>1011020702006</th>\n",
       "      <td>4</td>\n",
       "    </tr>\n",
       "    <tr>\n",
       "      <th>1011020702006</th>\n",
       "      <td>4</td>\n",
       "    </tr>\n",
       "    <tr>\n",
       "      <th rowspan=\"21\" valign=\"top\">999999:常见错误: 不可知错误</th>\n",
       "      <th>1011020702028</th>\n",
       "      <td>3</td>\n",
       "    </tr>\n",
       "    <tr>\n",
       "      <th>1011020702028</th>\n",
       "      <td>3</td>\n",
       "    </tr>\n",
       "    <tr>\n",
       "      <th>1011020702028</th>\n",
       "      <td>3</td>\n",
       "    </tr>\n",
       "    <tr>\n",
       "      <th>1011020702028</th>\n",
       "      <td>3</td>\n",
       "    </tr>\n",
       "    <tr>\n",
       "      <th>1011020702028</th>\n",
       "      <td>3</td>\n",
       "    </tr>\n",
       "    <tr>\n",
       "      <th>1011020702028</th>\n",
       "      <td>3</td>\n",
       "    </tr>\n",
       "    <tr>\n",
       "      <th>1011020702028</th>\n",
       "      <td>3</td>\n",
       "    </tr>\n",
       "    <tr>\n",
       "      <th>1011020702028</th>\n",
       "      <td>3</td>\n",
       "    </tr>\n",
       "    <tr>\n",
       "      <th>1011020702028</th>\n",
       "      <td>3</td>\n",
       "    </tr>\n",
       "    <tr>\n",
       "      <th>1011020702028</th>\n",
       "      <td>3</td>\n",
       "    </tr>\n",
       "    <tr>\n",
       "      <th>1011020702028</th>\n",
       "      <td>3</td>\n",
       "    </tr>\n",
       "    <tr>\n",
       "      <th>1011020702028</th>\n",
       "      <td>3</td>\n",
       "    </tr>\n",
       "    <tr>\n",
       "      <th>1011020702028</th>\n",
       "      <td>3</td>\n",
       "    </tr>\n",
       "    <tr>\n",
       "      <th>1011020702028</th>\n",
       "      <td>3</td>\n",
       "    </tr>\n",
       "    <tr>\n",
       "      <th>1011020702028</th>\n",
       "      <td>3</td>\n",
       "    </tr>\n",
       "    <tr>\n",
       "      <th>1011020702028</th>\n",
       "      <td>3</td>\n",
       "    </tr>\n",
       "    <tr>\n",
       "      <th>1011020702028</th>\n",
       "      <td>3</td>\n",
       "    </tr>\n",
       "    <tr>\n",
       "      <th>1011020702028</th>\n",
       "      <td>3</td>\n",
       "    </tr>\n",
       "    <tr>\n",
       "      <th>1011020702028</th>\n",
       "      <td>3</td>\n",
       "    </tr>\n",
       "    <tr>\n",
       "      <th>1011020702028</th>\n",
       "      <td>3</td>\n",
       "    </tr>\n",
       "    <tr>\n",
       "      <th>1011020702028</th>\n",
       "      <td>3</td>\n",
       "    </tr>\n",
       "  </tbody>\n",
       "</table>\n",
       "</div>"
      ],
      "text/plain": [
       "                                                  mission_id\n",
       "error_code                         user_code                \n",
       "100401:自定义模型错误: 模型上下层size大小不匹配     1011020702019           3\n",
       "                                   1011020702019           3\n",
       "                                   1011020702019           3\n",
       "                                   1011020702026           3\n",
       "                                   1011020702026           3\n",
       "100402:自定义模型错误: Pad参数要大于kernel值的一半 1011020702019           3\n",
       "100403:自定义模型错误: 卷积层缺少in_channels参数 1011020702006           4\n",
       "                                   1011020702006           4\n",
       "                                   1011020702006           4\n",
       "                                   1011020702006           4\n",
       "                                   1011020702006           4\n",
       "999999:常见错误: 不可知错误                 1011020702028           3\n",
       "                                   1011020702028           3\n",
       "                                   1011020702028           3\n",
       "                                   1011020702028           3\n",
       "                                   1011020702028           3\n",
       "                                   1011020702028           3\n",
       "                                   1011020702028           3\n",
       "                                   1011020702028           3\n",
       "                                   1011020702028           3\n",
       "                                   1011020702028           3\n",
       "                                   1011020702028           3\n",
       "                                   1011020702028           3\n",
       "                                   1011020702028           3\n",
       "                                   1011020702028           3\n",
       "                                   1011020702028           3\n",
       "                                   1011020702028           3\n",
       "                                   1011020702028           3\n",
       "                                   1011020702028           3\n",
       "                                   1011020702028           3\n",
       "                                   1011020702028           3\n",
       "                                   1011020702028           3"
      ]
     },
     "execution_count": 141,
     "metadata": {},
     "output_type": "execute_result"
    }
   ],
   "source": [
    "xls_file = './sdyc/20210107报错信息.xls'\n",
    "df = pd.read_excel(xls_file, header=0, usecols='A:C')\n",
    "df_sorted = df[df.error_code > 100100].set_index(['error_code', 'user_code']).sort_index()\n",
    "df_sorted.index = df_sorted.index.map(lambda x: (f'{x[0]}:{ERRORS[x[0]][\"cn\"]}', x[1]))\n",
    "df_sorted"
   ]
  },
  {
   "cell_type": "markdown",
   "metadata": {},
   "source": [
    "#### 错误定位"
   ]
  },
  {
   "cell_type": "markdown",
   "metadata": {},
   "source": [
    "1. [x] <font color='Green'><strong>中级别</strong></font>100403:自定义模型错误: 卷积层缺少in_channels参数\n",
    " > 李东: 只有一个学生(1011020702006)在第4节课出现, 导致原因是Conv层的in_channels输入为空, 该值设计上是不能让用户修改的, 即:绝不可能出现这种情况(除非前端有bug), 建议处理方式-后台手动修改这个层的数据, 纠正过来 ![](./sdyc/err_02.png)\n",
    "- [ ] <font color='Gray'><strong>低级别</strong></font>100402:自定义模型错误: Pad参数要大于kernel值的一半\n",
    " > 李东: 模型已经被修改 (1011020702019 不能追溯)\n",
    "- [ ] <font color='Gray'><strong>低级别</strong></font>100401:自定义模型错误: 模型上下层size大小不匹配\n",
    " > 李东: 模型拖拽错误 (不能追溯)\n",
    "- [ ] <font color='Gray'><strong>低级别</strong></font>999999:常见错误: 不可知错误\n",
    " > 李东: 模型拖拽错误 (1011020702028 不能追溯)"
   ]
  },
  {
   "cell_type": "code",
   "execution_count": null,
   "metadata": {},
   "outputs": [],
   "source": []
  }
 ],
 "metadata": {
  "kernelspec": {
   "display_name": "Python 3",
   "language": "python",
   "name": "python3"
  },
  "language_info": {
   "codemirror_mode": {
    "name": "ipython",
    "version": 3
   },
   "file_extension": ".py",
   "mimetype": "text/x-python",
   "name": "python",
   "nbconvert_exporter": "python",
   "pygments_lexer": "ipython3",
   "version": "3.6.9"
  },
  "toc": {
   "base_numbering": 1,
   "nav_menu": {},
   "number_sections": true,
   "sideBar": true,
   "skip_h1_title": true,
   "title_cell": "",
   "title_sidebar": "Contents",
   "toc_cell": false,
   "toc_position": {
    "height": "calc(100% - 180px)",
    "left": "10px",
    "top": "150px",
    "width": "384px"
   },
   "toc_section_display": true,
   "toc_window_display": false
  }
 },
 "nbformat": 4,
 "nbformat_minor": 4
}
