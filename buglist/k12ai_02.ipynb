{
 "cells": [
  {
   "cell_type": "markdown",
   "metadata": {},
   "source": [
    "# <div align='center'> 2月　</div>"
   ]
  },
  {
   "cell_type": "markdown",
   "metadata": {},
   "source": [
    "- [x] 多个项目配置参数混在一起\n",
    "- [ ] 字符串枚举触发类型节点保存错误\n",
    "- [ ] 首次评估, 图表无法显示\n",
    "- [ ] 创建cv项目, 当选择任务为探测时, 数据集和网络模型提示错误\n",
    "- [ ] 自定义网络input组件拖拽异常, 定位: design.js:validate_input函数问题\n",
    "- [ ] schema node tips is not work"
   ]
  },
  {
   "cell_type": "markdown",
   "metadata": {},
   "source": [
    "# k12cv \n",
    "\n",
    "## 1. 触发类型参数配置混\n",
    "\n",
    "期望情况: \n",
    "\n",
    "1) 当type=adma时, Hypes > Optimizer > Type: adam\n",
    "\n",
    "    \"solver.optim.optim_method\": \"adam\", \n",
    "    \"solver.optim.adam.betas\": [0.5, 0.999]\n",
    "    \"solver.optim.adam.weight_decay\": 0.001, \n",
    "    \"solver.optim.adam.eps\": 1e-8, \n",
    "\n",
    "\n",
    "2) 当type=sdg时, Hypes > Optimizer > Type: sgd\n",
    "\n",
    "    \"solver.optim.optim_method\": \"sgd\", \n",
    "    \"solver.optim.sgd.momentum\": 0.9, \n",
    "    \"solver.optim.sgd.nesterov\": false\n",
    "    \"solver.optim.sgd.weight_decay\": 0.001, \n",
    "\n",
    "\n",
    "实际情况: \n",
    "\n",
    "1) 当type=adma时, Hypes > Optimizer > Type: adam\n",
    "\n",
    "    \"solver.optim.optim_method\": \"adam\", \n",
    "    \"solver.optim.adam.eps\": 1e-8, \n",
    "    \"solver.optim.adam.betas\": [0.5, 0.999]\n",
    "    \"solver.optim.sgd.nesterov\": false, \n",
    "    \"solver.optim.sgd.weight_decay\": 0.001, "
   ]
  }
 ],
 "metadata": {
  "kernelspec": {
   "display_name": "Python 3",
   "language": "python",
   "name": "python3"
  },
  "language_info": {
   "codemirror_mode": {
    "name": "ipython",
    "version": 3
   },
   "file_extension": ".py",
   "mimetype": "text/x-python",
   "name": "python",
   "nbconvert_exporter": "python",
   "pygments_lexer": "ipython3",
   "version": "3.6.9"
  },
  "toc": {
   "base_numbering": 1,
   "nav_menu": {},
   "number_sections": true,
   "sideBar": true,
   "skip_h1_title": false,
   "title_cell": "Table of Contents",
   "title_sidebar": "Contents",
   "toc_cell": false,
   "toc_position": {},
   "toc_section_display": true,
   "toc_window_display": false
  }
 },
 "nbformat": 4,
 "nbformat_minor": 4
}
