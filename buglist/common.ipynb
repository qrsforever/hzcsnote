{
 "cells": [
  {
   "cell_type": "markdown",
   "metadata": {},
   "source": [
    "# <div align=\"center\"> 问题单 </div>"
   ]
  },
  {
   "cell_type": "code",
   "execution_count": 1,
   "metadata": {
    "ExecuteTime": {
     "end_time": "2021-01-08T15:14:03.306768Z",
     "start_time": "2021-01-08T15:14:02.657188Z"
    }
   },
   "outputs": [],
   "source": [
    "import os\n",
    "import json\n",
    "import xlrd\n",
    "import hashlib\n",
    "import pandas as pd\n",
    "from k12libs.k12ai.k12ai_errmsg import ERRORS\n",
    "from IPython.display import display, Markdown, HTML"
   ]
  },
  {
   "cell_type": "code",
   "execution_count": 2,
   "metadata": {
    "ExecuteTime": {
     "end_time": "2021-01-08T15:14:04.100193Z",
     "start_time": "2021-01-08T15:14:04.079793Z"
    }
   },
   "outputs": [
    {
     "data": {
      "text/html": [
       "<style>.container { width:80% !important; }</style>"
      ],
      "text/plain": [
       "<IPython.core.display.HTML object>"
      ]
     },
     "metadata": {},
     "output_type": "display_data"
    }
   ],
   "source": [
    "display(HTML('<style>.container { width:%d%% !important; }</style>' % 80))"
   ]
  },
  {
   "cell_type": "markdown",
   "metadata": {},
   "source": [
    "1. [ ] <font color='Gray'><strong>低级别</strong></font>上课登录上后，操作之后多数学生掉线问题\n",
    " > 冬至：日志显示的情况  页面的请求响应都是200正常的   响应的时间也都是1秒以内  页面加载不出来的情况这么看来都不是服务端的问题\n",
    "- [ ] <font color='Red'><strong>高级别</strong></font>Firefox 浏览器网络模型不能拖拽\n",
    "- [ ] <font color='Red'><strong>高级别</strong></font>IE 浏览器平台页面打不开\n"
   ]
  }
 ],
 "metadata": {
  "kernelspec": {
   "display_name": "Python 3",
   "language": "python",
   "name": "python3"
  },
  "language_info": {
   "codemirror_mode": {
    "name": "ipython",
    "version": 3
   },
   "file_extension": ".py",
   "mimetype": "text/x-python",
   "name": "python",
   "nbconvert_exporter": "python",
   "pygments_lexer": "ipython3",
   "version": "3.6.9"
  },
  "toc": {
   "base_numbering": 1,
   "nav_menu": {},
   "number_sections": true,
   "sideBar": true,
   "skip_h1_title": true,
   "title_cell": "",
   "title_sidebar": "Contents",
   "toc_cell": false,
   "toc_position": {
    "height": "calc(100% - 180px)",
    "left": "10px",
    "top": "150px",
    "width": "384px"
   },
   "toc_section_display": true,
   "toc_window_display": false
  }
 },
 "nbformat": 4,
 "nbformat_minor": 4
}
