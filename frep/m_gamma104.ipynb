{
 "cells": [
  {
   "cell_type": "markdown",
   "id": "marine-swedish",
   "metadata": {},
   "source": [
    "## 引入工具"
   ]
  },
  {
   "cell_type": "code",
   "execution_count": 1,
   "id": "according-success",
   "metadata": {
    "ExecuteTime": {
     "end_time": "2021-10-08T08:39:06.154793Z",
     "start_time": "2021-10-08T08:39:05.333786Z"
    },
    "hide_input": true
   },
   "outputs": [
    {
     "name": "stdout",
     "output_type": "stream",
     "text": [
      "CPython 3.6.9\n",
      "IPython 7.16.1\n",
      "\n",
      "numpy 1.19.5\n",
      "sklearn 0.0\n",
      "pandas 1.1.5\n",
      "CPython 3.6.9\n",
      "IPython 7.16.1\n",
      "\n",
      "cv2 4.5.3\n",
      "PIL 8.3.1\n",
      "matplotlib 3.3.4\n",
      "CPython 3.6.9\n",
      "IPython 7.16.1\n",
      "\n",
      "torch 1.8.1+cu101\n",
      "torchvision 0.9.1+cu101\n",
      "torchaudio not installed\n"
     ]
    },
    {
     "data": {
      "text/html": [
       "<style>.container { width:85% !important; }</style>"
      ],
      "text/plain": [
       "<IPython.core.display.HTML object>"
      ]
     },
     "metadata": {},
     "output_type": "display_data"
    }
   ],
   "source": [
    "%reload_ext watermark\n",
    "%reload_ext autoreload\n",
    "%autoreload 2\n",
    "%watermark -v -p numpy,sklearn,pandas\n",
    "%watermark -v -p cv2,PIL,matplotlib\n",
    "%watermark -v -p torch,torchvision,torchaudio\n",
    "%matplotlib inline\n",
    "%config InlineBackend.figure_format='retina'\n",
    "%config IPCompleter.use_jedi = False\n",
    "\n",
    "from IPython.display import display, Markdown, HTML, Javascript\n",
    "display(HTML('<style>.container { width:%d%% !important; }</style>' % 85))\n",
    "\n",
    "import sys, os, io, time, random, math\n",
    "import json, base64, requests\n",
    "import os.path as osp\n",
    "import threading\n",
    "\n",
    "def _IMPORT_(x):\n",
    "    try:\n",
    "        segs = x.split(' ')\n",
    "        g = globals()\n",
    "        if 'github.com' in segs[1]:\n",
    "            uri = segs[1].replace('github.com', 'raw.githubusercontent.com')\n",
    "            mod = uri.split('/')\n",
    "            uri = 'https://' + '/'.join(mod[:-1]) + '/main/' + mod[-1] + '.py'\n",
    "            x = requests.get(uri).text\n",
    "        elif 'gitee.com' in segs[1]:\n",
    "            mod = segs[1].split('/')\n",
    "            uri = 'https://' + '/'.join(mod[:-1]) + '/raw/main/' + mod[-1] + '.py'\n",
    "            x = requests.get(uri).text\n",
    "        elif segs[1][0] == '/':\n",
    "            with open(segs[1] + '.py') as fr:\n",
    "                x = fr.read()\n",
    "        exec(x, g)\n",
    "    except Exception as err:\n",
    "        print(err)\n",
    "\n",
    "def print_progress_bar(x):\n",
    "    print('\\r', end='')\n",
    "    print('Progress: {}%:'.format(x), '%s%s' % ('▋'*(x//2), '.'*((100-x)//2)), end='')\n",
    "    sys.stdout.flush()\n",
    "\n",
    "def img2b64(x):\n",
    "    if isinstance(x, bytes):\n",
    "        return base64.b64encode(x).decode()\n",
    "    elif isinstance(x, str):\n",
    "        with open(x, 'rb') as fr:\n",
    "            return base64.b64encode(fr.read()).decode()\n",
    "    raise\n",
    "  "
   ]
  },
  {
   "cell_type": "code",
   "execution_count": 2,
   "id": "valued-salvation",
   "metadata": {
    "ExecuteTime": {
     "end_time": "2021-10-08T08:39:09.635115Z",
     "start_time": "2021-10-08T08:39:09.418958Z"
    },
    "hide_input": true
   },
   "outputs": [],
   "source": [
    "###\n",
    "### Common ###\n",
    "###\n",
    "\n",
    "_IMPORT_('import numpy as np')\n",
    "_IMPORT_('import pandas as pd')\n",
    "_IMPORT_('from tqdm.notebook import tqdm')\n",
    "\n",
    "\n",
    "\n",
    "###\n",
    "### Display ###\n",
    "###\n",
    "\n",
    "_IMPORT_('import cv2')\n",
    "_IMPORT_('from PIL import Image')\n",
    "_IMPORT_('from torchvision.utils import make_grid')\n",
    "_IMPORT_('import matplotlib.pyplot as plt')\n",
    "_IMPORT_('import plotly')\n",
    "_IMPORT_('import plotly.graph_objects as go')\n",
    "_IMPORT_('import ipywidgets as widgets')\n",
    "_IMPORT_('from ipywidgets import interact, interactive, fixed, interact_manual')\n",
    "\n",
    "# plotly.offline.init_notebook_mode(connected=False)\n",
    "\n",
    "plt.rcParams['figure.figsize'] = (12.0, 8.0)"
   ]
  },
  {
   "cell_type": "markdown",
   "id": "logical-registration",
   "metadata": {},
   "source": [
    "## 解析配置"
   ]
  },
  {
   "cell_type": "code",
   "execution_count": 38,
   "id": "01cf5b79",
   "metadata": {
    "ExecuteTime": {
     "end_time": "2021-10-08T08:43:46.366965Z",
     "start_time": "2021-10-08T08:43:46.135450Z"
    },
    "hide_input": false
   },
   "outputs": [],
   "source": [
    "_IMPORT_('import /data/nb_easy/easy_widget')"
   ]
  },
  {
   "cell_type": "code",
   "execution_count": 49,
   "id": "6297dc1c",
   "metadata": {},
   "outputs": [],
   "source": [
    "# 翻边参数\n",
    "\n",
    "# 切割参数\n",
    "case2 = {\n",
    "    '_cfg.accuracy': 0.0,\n",
    "    '_cfg.angle': True,\n",
    "    '_cfg.black_box': False,\n",
    "    '_cfg.focus_box': True,\n",
    "    '_cfg.focus_center': [0.3, 0.35],\n",
    "    '_cfg.skewing': 'No',\n",
    "    'cfg.angle': 90.0,\n",
    "    'cfg.area_rate_threshold': 0.005,\n",
    "    'cfg.batch_size': 20,\n",
    "    'cfg.best_stride_video': True,\n",
    "    'cfg.constant_speed': False,\n",
    "    'cfg.detect_focus': False,\n",
    "    'cfg.focus_box': [0.448, 0.39, 0.53, 0.54],\n",
    "    'cfg.focus_box_repnum': 6,\n",
    "    'cfg.fully_periodic': False,\n",
    "    'cfg.median_filter': True,\n",
    "    'cfg.osd_feat': False,\n",
    "    'cfg.osd_sims': True,\n",
    "    'cfg.pigeon.msgkey': 'nb.zmq.repnet_tf.gamma102',\n",
    "    'cfg.rm_still': True,\n",
    "    'cfg.save_video': False,\n",
    "    'cfg.strides': [1],\n",
    "    'cfg.temperature': 13.544,\n",
    "    'cfg.video': 'https://frepai.s3.didiyunapi.com/live/00856405d389/20211130/videos/20211130132743.mp4',\n",
    "    'task': 'zmq.repnet_tf.inference'}\n",
    "\n",
    "# 机器焊接\n",
    "\n",
    "# 坐姿切割\n",
    "\n",
    "# 木槌加固\n",
    "\n",
    "case5 = {\n",
    "    '_cfg.accuracy': 0.0,\n",
    "    '_cfg.angle': False,\n",
    "    '_cfg.black_box': False,\n",
    "    '_cfg.focus_box': True,\n",
    "    '_cfg.focus_center': [0.1, 0.3],\n",
    "    '_cfg.skewing': 'No',\n",
    "    'cfg.area_rate_threshold': 0.002,\n",
    "    'cfg.batch_size': 20,\n",
    "    'cfg.best_stride_video': True,\n",
    "    'cfg.constant_speed': False,\n",
    "    'cfg.detect_focus': False,\n",
    "    'cfg.focus_box': [0.36, 0.2, 0.55, 0.93],\n",
    "    'cfg.focus_box_repnum': 1,\n",
    "    'cfg.fully_periodic': False,\n",
    "    'cfg.median_filter': True,\n",
    "    'cfg.osd_feat': False,\n",
    "    'cfg.osd_sims': True,\n",
    "    'cfg.pigeon.msgkey': 'nb.zmq.repnet_tf.gamma104',\n",
    "    'cfg.rm_still': True,\n",
    "    'cfg.save_video': False,\n",
    "    'cfg.strides': [6, 8],\n",
    "    'cfg.temperature': 13.544,\n",
    "    'cfg.video': 'https://frepai.s3.didiyunapi.com/live/002b359e3931/20211129/videos/20211129100151.mp4',\n",
    "    'task': 'zmq.repnet_tf.inference'}"
   ]
  },
  {
   "cell_type": "code",
   "execution_count": 43,
   "id": "subject-movement",
   "metadata": {
    "ExecuteTime": {
     "end_time": "2021-10-08T08:43:49.404328Z",
     "start_time": "2021-10-08T08:43:47.046948Z"
    },
    "code_folding": [],
    "scrolled": false
   },
   "outputs": [
    {
     "data": {
      "application/vnd.jupyter.widget-view+json": {
       "model_id": "8743aa418aa84bb8bff5c30a63f50ac8",
       "version_major": 2,
       "version_minor": 0
      },
      "text/plain": [
       "Box(children=(Box(children=(VBox(children=(Tab(children=(VBox(children=(HBox(children=(Text(value='zmq.repnet_…"
      ]
     },
     "metadata": {},
     "output_type": "display_data"
    }
   ],
   "source": [
    "from utils import EVENTS, parse_xls_report\n",
    "\n",
    "RACEURL = 'http://116.85.51.2:9119'\n",
    "MSGKEY = 'nb.zmq.repnet_tf.gamma104'\n",
    "\n",
    "parse_xls_report()\n",
    "with open('schema.json', 'r') as fr:\n",
    "    schema_string = fr.read()\n",
    "    schema_string = schema_string.replace('zmq.repnet_tf.test', MSGKEY)\n",
    "    schema_string = schema_string.replace('http://host:port', RACEURL)\n",
    "    schema = json.loads(schema_string)\n",
    "easy = nbeasy_schema_parse(schema, events=EVENTS, debug=True);"
   ]
  },
  {
   "cell_type": "code",
   "execution_count": 50,
   "id": "d006d2bc",
   "metadata": {},
   "outputs": [
    {
     "name": "stdout",
     "output_type": "stream",
     "text": [
      "1111 False 2222 True 333 <class 'bool'> <class 'bool'>\n",
      "1111 45.0 2222 90.0 333 <class 'float'> <class 'float'>\n",
      "1111 0.002 2222 0.005 333 <class 'float'> <class 'float'>\n",
      "1111 [0.346, 0.152, 0.333, 0.925] 2222 [0.448, 0.39, 0.53, 0.54] 333 <class 'str'> <class 'str'>\n",
      "1111 1 2222 6 333 <class 'int'> <class 'int'>\n",
      "1111 nb.zmq.repnet_tf.gamma104 2222 nb.zmq.repnet_tf.gamma102 333 <class 'str'> <class 'str'>\n",
      "1111 [7] 2222 [1] 333 <class 'str'> <class 'str'>\n",
      "1111 https://frepai.s3.didiyunapi.com/live/00047dd87188/20211129/videos/20211129081020.mp4 2222 https://frepai.s3.didiyunapi.com/live/00856405d389/20211130/videos/20211130132743.mp4 333 <class 'str'> <class 'str'>\n"
     ]
    },
    {
     "data": {
      "text/plain": [
       "{'_cfg.angle': True,\n",
       " 'cfg.angle': 90.0,\n",
       " 'cfg.area_rate_threshold': 0.005,\n",
       " 'cfg.focus_box': '[0.448, 0.39, 0.53, 0.54]',\n",
       " 'cfg.focus_box_repnum': 6,\n",
       " 'cfg.pigeon.msgkey': 'nb.zmq.repnet_tf.gamma102',\n",
       " 'cfg.strides': '[1]',\n",
       " 'cfg.video': 'https://frepai.s3.didiyunapi.com/live/00856405d389/20211130/videos/20211130132743.mp4'}"
      ]
     },
     "execution_count": 50,
     "metadata": {},
     "output_type": "execute_result"
    }
   ],
   "source": [
    "easy.set_widget_values(case2)"
   ]
  },
  {
   "cell_type": "markdown",
   "id": "prescription-aluminum",
   "metadata": {
    "heading_collapsed": true
   },
   "source": [
    "## 视频描述"
   ]
  }
 ],
 "metadata": {
  "celltoolbar": "编辑元数据",
  "hide_input": false,
  "kernelspec": {
   "display_name": "Python 3",
   "language": "python",
   "name": "python3"
  },
  "language_info": {
   "codemirror_mode": {
    "name": "ipython",
    "version": 3
   },
   "file_extension": ".py",
   "mimetype": "text/x-python",
   "name": "python",
   "nbconvert_exporter": "python",
   "pygments_lexer": "ipython3",
   "version": "3.6.9"
  },
  "toc": {
   "base_numbering": 1,
   "nav_menu": {},
   "number_sections": true,
   "sideBar": true,
   "skip_h1_title": true,
   "title_cell": "",
   "title_sidebar": "Contents",
   "toc_cell": false,
   "toc_position": {},
   "toc_section_display": true,
   "toc_window_display": false
  }
 },
 "nbformat": 4,
 "nbformat_minor": 5
}
