{
 "cells": [
  {
   "cell_type": "markdown",
   "id": "marine-swedish",
   "metadata": {},
   "source": [
    "## 引入工具"
   ]
  },
  {
   "cell_type": "code",
   "execution_count": 1,
   "id": "according-success",
   "metadata": {
    "ExecuteTime": {
     "end_time": "2021-07-29T10:42:06.225553Z",
     "start_time": "2021-07-29T10:42:03.997452Z"
    },
    "hide_input": true
   },
   "outputs": [
    {
     "name": "stdout",
     "output_type": "stream",
     "text": [
      "CPython 3.6.9\n",
      "IPython 7.16.1\n",
      "\n",
      "numpy 1.19.4\n",
      "sklearn 0.24.0\n",
      "pandas 1.1.5\n",
      "CPython 3.6.9\n",
      "IPython 7.16.1\n",
      "\n",
      "cv2 4.5.1\n",
      "PIL 6.2.2\n",
      "matplotlib 3.3.3\n",
      "CPython 3.6.9\n",
      "IPython 7.16.1\n",
      "\n",
      "torch 1.8.0.dev20210103+cu101\n",
      "torchvision 0.9.0.dev20210103+cu101\n",
      "torchaudio not installed\n"
     ]
    },
    {
     "data": {
      "text/html": [
       "<style>.container { width:85% !important; }</style>"
      ],
      "text/plain": [
       "<IPython.core.display.HTML object>"
      ]
     },
     "metadata": {},
     "output_type": "display_data"
    }
   ],
   "source": [
    "%reload_ext watermark\n",
    "%reload_ext autoreload\n",
    "%autoreload 2\n",
    "%watermark -v -p numpy,sklearn,pandas\n",
    "%watermark -v -p cv2,PIL,matplotlib\n",
    "%watermark -v -p torch,torchvision,torchaudio\n",
    "%matplotlib inline\n",
    "%config InlineBackend.figure_format='retina'\n",
    "%config IPCompleter.use_jedi = False\n",
    "\n",
    "from IPython.display import display, Markdown, HTML, Javascript\n",
    "display(HTML('<style>.container { width:%d%% !important; }</style>' % 85))\n",
    "\n",
    "import sys, os, io, time, random, math\n",
    "import json, base64, requests\n",
    "import os.path as osp\n",
    "import threading\n",
    "\n",
    "def _IMPORT_(x):\n",
    "    try:\n",
    "        segs = x.split(' ')\n",
    "        g = globals()\n",
    "        if 'github.com' in segs[1]:\n",
    "            uri = segs[1].replace('github.com', 'raw.githubusercontent.com')\n",
    "            mod = uri.split('/')\n",
    "            uri = 'https://' + '/'.join(mod[:-1]) + '/main/' + mod[-1] + '.py'\n",
    "            x = requests.get(uri).text\n",
    "        elif 'gitee.com' in segs[1]:\n",
    "            mod = segs[1].split('/')\n",
    "            uri = 'https://' + '/'.join(mod[:-1]) + '/raw/main/' + mod[-1] + '.py'\n",
    "            x = requests.get(uri).text\n",
    "        elif segs[1][0] == '/':\n",
    "            with open(segs[1] + '.py') as fr:\n",
    "                x = fr.read()\n",
    "        exec(x, g)\n",
    "    except Exception as err:\n",
    "        print(err)\n",
    "\n",
    "def print_progress_bar(x):\n",
    "    print('\\r', end='')\n",
    "    print('Progress: {}%:'.format(x), '%s%s' % ('▋'*(x//2), '.'*((100-x)//2)), end='')\n",
    "    sys.stdout.flush()\n",
    "\n",
    "def img2b64(x):\n",
    "    if isinstance(x, bytes):\n",
    "        return base64.b64encode(x).decode()\n",
    "    elif isinstance(x, str):\n",
    "        with open(x, 'rb') as fr:\n",
    "            return base64.b64encode(fr.read()).decode()\n",
    "    raise\n",
    "  "
   ]
  },
  {
   "cell_type": "code",
   "execution_count": 2,
   "id": "valued-salvation",
   "metadata": {
    "ExecuteTime": {
     "end_time": "2021-07-29T10:42:06.790556Z",
     "start_time": "2021-07-29T10:42:06.228731Z"
    },
    "hide_input": true
   },
   "outputs": [],
   "source": [
    "###\n",
    "### Common ###\n",
    "###\n",
    "\n",
    "_IMPORT_('import numpy as np')\n",
    "_IMPORT_('import pandas as pd')\n",
    "_IMPORT_('from tqdm.notebook import tqdm')\n",
    "\n",
    "\n",
    "\n",
    "###\n",
    "### Display ###\n",
    "###\n",
    "\n",
    "_IMPORT_('import cv2')\n",
    "_IMPORT_('from PIL import Image')\n",
    "_IMPORT_('from torchvision.utils import make_grid')\n",
    "_IMPORT_('import matplotlib.pyplot as plt')\n",
    "_IMPORT_('import plotly')\n",
    "_IMPORT_('import plotly.graph_objects as go')\n",
    "_IMPORT_('import ipywidgets as widgets')\n",
    "_IMPORT_('from ipywidgets import interact, interactive, fixed, interact_manual')\n",
    "\n",
    "# plotly.offline.init_notebook_mode(connected=False)\n",
    "\n",
    "plt.rcParams['figure.figsize'] = (12.0, 8.0)"
   ]
  },
  {
   "cell_type": "markdown",
   "id": "logical-registration",
   "metadata": {},
   "source": [
    "## 解析配置"
   ]
  },
  {
   "cell_type": "code",
   "execution_count": 3,
   "id": "honest-quest",
   "metadata": {
    "ExecuteTime": {
     "end_time": "2021-07-29T10:42:06.849747Z",
     "start_time": "2021-07-29T10:42:06.793066Z"
    },
    "hide_input": false
   },
   "outputs": [],
   "source": [
    "_IMPORT_('import /data/nb_easy/easy_widget')"
   ]
  },
  {
   "cell_type": "code",
   "execution_count": 4,
   "id": "subject-movement",
   "metadata": {
    "ExecuteTime": {
     "end_time": "2021-07-29T10:42:07.756425Z",
     "start_time": "2021-07-29T10:42:06.852222Z"
    },
    "code_folding": [],
    "scrolled": false
   },
   "outputs": [
    {
     "data": {
      "application/vnd.jupyter.widget-view+json": {
       "model_id": "0723b4643cc346958a1b00c02b4273ca",
       "version_major": 2,
       "version_minor": 0
      },
      "text/plain": [
       "Box(children=(Box(children=(VBox(children=(Tab(children=(VBox(children=(HBox(children=(Text(value='zmq.repnet_…"
      ]
     },
     "metadata": {},
     "output_type": "display_data"
    }
   ],
   "source": [
    "from utils import EVENTS, parse_xls_report\n",
    "\n",
    "RACEURL = 'http://116.85.51.2:9119'\n",
    "MSGKEY = 'nb.zmq.repnet_tf.gamma104'\n",
    "\n",
    "parse_xls_report()\n",
    "with open('schema.json', 'r') as fr:\n",
    "    schema_string = fr.read()\n",
    "    schema_string = schema_string.replace('zmq.repnet_tf.test', MSGKEY)\n",
    "    schema_string = schema_string.replace('http://host:port', RACEURL)\n",
    "    schema = json.loads(schema_string)\n",
    "easy = nbeasy_schema_parse(schema, events=EVENTS, debug=True);"
   ]
  },
  {
   "cell_type": "markdown",
   "id": "prescription-aluminum",
   "metadata": {
    "heading_collapsed": true
   },
   "source": [
    "## 视频描述"
   ]
  }
 ],
 "metadata": {
  "hide_input": false,
  "kernelspec": {
   "display_name": "Python 3",
   "language": "python",
   "name": "python3"
  },
  "language_info": {
   "codemirror_mode": {
    "name": "ipython",
    "version": 3
   },
   "file_extension": ".py",
   "mimetype": "text/x-python",
   "name": "python",
   "nbconvert_exporter": "python",
   "pygments_lexer": "ipython3",
   "version": "3.6.9"
  },
  "toc": {
   "base_numbering": 1,
   "nav_menu": {},
   "number_sections": true,
   "sideBar": true,
   "skip_h1_title": true,
   "title_cell": "",
   "title_sidebar": "Contents",
   "toc_cell": false,
   "toc_position": {},
   "toc_section_display": true,
   "toc_window_display": false
  }
 },
 "nbformat": 4,
 "nbformat_minor": 5
}
