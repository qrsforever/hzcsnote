{
 "cells": [
  {
   "cell_type": "markdown",
   "id": "acquired-excerpt",
   "metadata": {},
   "source": [
    "## 引入工具"
   ]
  },
  {
   "cell_type": "code",
   "execution_count": 1,
   "id": "according-success",
   "metadata": {
    "ExecuteTime": {
     "end_time": "2021-08-13T10:45:02.195658Z",
     "start_time": "2021-08-13T10:44:56.751426Z"
    },
    "hide_input": true
   },
   "outputs": [
    {
     "name": "stdout",
     "output_type": "stream",
     "text": [
      "CPython 3.6.9\n",
      "IPython 7.16.1\n",
      "\n",
      "numpy 1.19.5\n",
      "sklearn 0.0\n",
      "pandas 1.1.5\n",
      "CPython 3.6.9\n",
      "IPython 7.16.1\n",
      "\n",
      "cv2 4.5.3\n",
      "PIL 8.3.1\n",
      "matplotlib 3.3.4\n",
      "CPython 3.6.9\n",
      "IPython 7.16.1\n",
      "\n",
      "torch 1.8.1+cu101\n",
      "torchvision 0.9.1+cu101\n",
      "torchaudio not installed\n"
     ]
    },
    {
     "data": {
      "text/html": [
       "<style>.container { width:95% !important; }</style>"
      ],
      "text/plain": [
       "<IPython.core.display.HTML object>"
      ]
     },
     "metadata": {},
     "output_type": "display_data"
    }
   ],
   "source": [
    "%reload_ext watermark\n",
    "%reload_ext autoreload\n",
    "%autoreload 2\n",
    "%watermark -v -p numpy,sklearn,pandas\n",
    "%watermark -v -p cv2,PIL,matplotlib\n",
    "%watermark -v -p torch,torchvision,torchaudio\n",
    "%matplotlib inline\n",
    "%config InlineBackend.figure_format='retina'\n",
    "%config IPCompleter.use_jedi = False\n",
    "\n",
    "from IPython.display import display, Markdown, HTML, Javascript\n",
    "display(HTML('<style>.container { width:%d%% !important; }</style>' % 95))\n",
    "\n",
    "import sys, os, io, time, random, math\n",
    "import json, base64, requests\n",
    "import os.path as osp\n",
    "import threading\n",
    "\n",
    "def _IMPORT_(x):\n",
    "    try:\n",
    "        segs = x.split(' ')\n",
    "        g = globals()\n",
    "        if 'github.com' in segs[1]:\n",
    "            uri = segs[1].replace('github.com', 'raw.githubusercontent.com')\n",
    "            mod = uri.split('/')\n",
    "            uri = 'https://' + '/'.join(mod[:-1]) + '/main/' + mod[-1] + '.py'\n",
    "            x = requests.get(uri).text\n",
    "        elif 'gitee.com' in segs[1]:\n",
    "            mod = segs[1].split('/')\n",
    "            uri = 'https://' + '/'.join(mod[:-1]) + '/raw/main/' + mod[-1] + '.py'\n",
    "            x = requests.get(uri).text\n",
    "        elif segs[1][0] == '/':\n",
    "            with open(segs[1] + '.py') as fr:\n",
    "                x = fr.read()\n",
    "        exec(x, g)\n",
    "    except Exception as err:\n",
    "        print(err)\n",
    "\n",
    "def print_progress_bar(x):\n",
    "    print('\\r', end='')\n",
    "    print('Progress: {}%:'.format(x), '%s%s' % ('▋'*(x//2), '.'*((100-x)//2)), end='')\n",
    "    sys.stdout.flush()\n",
    "\n",
    "def img2b64(x):\n",
    "    if isinstance(x, bytes):\n",
    "        return base64.b64encode(x).decode()\n",
    "    elif isinstance(x, str):\n",
    "        with open(x, 'rb') as fr:\n",
    "            return base64.b64encode(fr.read()).decode()\n",
    "    raise\n",
    "  "
   ]
  },
  {
   "cell_type": "code",
   "execution_count": 129,
   "id": "valued-salvation",
   "metadata": {
    "ExecuteTime": {
     "end_time": "2021-08-13T10:45:03.513139Z",
     "start_time": "2021-08-13T10:45:02.198430Z"
    },
    "hide_input": true
   },
   "outputs": [],
   "source": [
    "###\n",
    "### Common ###\n",
    "###\n",
    "\n",
    "_IMPORT_('import numpy as np')\n",
    "_IMPORT_('import pandas as pd')\n",
    "_IMPORT_('from tqdm.notebook import tqdm')\n",
    "\n",
    "\n",
    "\n",
    "###\n",
    "### Display ###\n",
    "###\n",
    "\n",
    "_IMPORT_('import cv2')\n",
    "_IMPORT_('from PIL import Image')\n",
    "_IMPORT_('from torchvision.utils import make_grid')\n",
    "_IMPORT_('import matplotlib.pyplot as plt')\n",
    "_IMPORT_('import plotly')\n",
    "_IMPORT_('import plotly.graph_objects as go')\n",
    "_IMPORT_('import ipywidgets as widgets')\n",
    "_IMPORT_('from ipywidgets import interact, interactive, fixed, interact_manual')\n",
    "\n",
    "# plotly.offline.init_notebook_mode(connected=False)\n",
    "\n",
    "plt.rcParams['figure.figsize'] = (12.0, 8.0)"
   ]
  },
  {
   "cell_type": "code",
   "execution_count": 130,
   "id": "little-symposium",
   "metadata": {
    "ExecuteTime": {
     "end_time": "2021-08-13T10:45:03.676828Z",
     "start_time": "2021-08-13T10:45:03.515572Z"
    }
   },
   "outputs": [],
   "source": [
    "_IMPORT_('import /data/nb_easy/easy_widget')"
   ]
  },
  {
   "cell_type": "markdown",
   "id": "logical-registration",
   "metadata": {},
   "source": [
    "## 解析配置"
   ]
  },
  {
   "cell_type": "code",
   "execution_count": 153,
   "id": "subject-movement",
   "metadata": {
    "ExecuteTime": {
     "end_time": "2021-08-13T10:45:05.942721Z",
     "start_time": "2021-08-13T10:45:03.679216Z"
    },
    "code_folding": [
     0
    ],
    "scrolled": false
   },
   "outputs": [
    {
     "data": {
      "application/vnd.jupyter.widget-view+json": {
       "model_id": "64ab2e8f1db14735aaa4811c1fdba59f",
       "version_major": 2,
       "version_minor": 0
      },
      "text/plain": [
       "Box(children=(Box(children=(VBox(children=(Tab(children=(VBox(children=(HBox(children=(Text(value='zmq.repnet_…"
      ]
     },
     "metadata": {},
     "output_type": "display_data"
    }
   ],
   "source": [
    "from utils import EVENTS\n",
    "\n",
    "RACEURL = 'http://116.85.5.40:9119'\n",
    "MSGKEY = 'nb.zmq.repnet_tf.eta'\n",
    "\n",
    "with open('schema.json', 'r') as fr:\n",
    "    schema_string = fr.read()\n",
    "    schema_string = schema_string.replace('zmq.repnet_tf.test', MSGKEY)\n",
    "    schema_string = schema_string.replace('http://host:port', RACEURL)\n",
    "    schema = json.loads(schema_string)\n",
    "easy = nbeasy_schema_parse(schema, events=EVENTS, debug=True);"
   ]
  },
  {
   "cell_type": "code",
   "execution_count": 11,
   "id": "8fc65ba7",
   "metadata": {},
   "outputs": [
    {
     "data": {
      "text/plain": [
       "array([[ 0.80557867, -0.00887303,  1.76799741,  0.73778978],\n",
       "       [ 0.0053556 ,  0.45138405, -0.22516373,  0.66078217],\n",
       "       [-0.12153746,  0.76018512, -1.09915674,  1.08703538]])"
      ]
     },
     "execution_count": 11,
     "metadata": {},
     "output_type": "execute_result"
    }
   ],
   "source": [
    "a = np.random.randn(3,4)\n",
    "a"
   ]
  },
  {
   "cell_type": "code",
   "execution_count": 13,
   "id": "5baa0fd9",
   "metadata": {},
   "outputs": [
    {
     "data": {
      "text/plain": [
       "array([[ 0.806, -0.009,  1.768,  0.738],\n",
       "       [ 0.005,  0.451, -0.225,  0.661],\n",
       "       [-0.122,  0.76 , -1.099,  1.087]])"
      ]
     },
     "execution_count": 13,
     "metadata": {},
     "output_type": "execute_result"
    }
   ],
   "source": [
    "np.round(a, 3)"
   ]
  },
  {
   "cell_type": "code",
   "execution_count": 17,
   "id": "1ad2ef21",
   "metadata": {},
   "outputs": [],
   "source": [
    "import cv2\n",
    "\n",
    "\n",
    "def cal_rect_points(w, h, box):\n",
    "    if box[0] < 1.0 and box[1] < 1.0 and box[2] <= 1.0 and box[3] <= 1.0:\n",
    "        x1, y1 = int(w * box[0]), int(h * box[1])\n",
    "        x2, y2 = int(w * box[2]), int(h * box[3])\n",
    "    else:\n",
    "        x1, y1 = box[0], box[1]\n",
    "        x2, y2 = box[2], box[3]\n",
    "    return x1, y1, x2, y2\n",
    "\n"
   ]
  },
  {
   "cell_type": "code",
   "execution_count": 143,
   "id": "fb61891a",
   "metadata": {},
   "outputs": [
    {
     "name": "stdout",
     "output_type": "stream",
     "text": [
      "rm_still: 95 = ceil(0.03 * 45 * 70)\n"
     ]
    },
    {
     "ename": "RuntimeError",
     "evalue": "No active exception to reraise",
     "output_type": "error",
     "traceback": [
      "\u001b[0;31m\u001b[0m",
      "\u001b[0;31mRuntimeError\u001b[0mTraceback (most recent call last)",
      "\u001b[0;32m<ipython-input-143-e2655b858634>\u001b[0m in \u001b[0;36m<module>\u001b[0;34m\u001b[0m\n\u001b[1;32m     52\u001b[0m                         \u001b[0mtest1\u001b[0m \u001b[0;34m=\u001b[0m \u001b[0mframe_gray\u001b[0m\u001b[0;34m\u001b[0m\u001b[0;34m\u001b[0m\u001b[0m\n\u001b[1;32m     53\u001b[0m                         \u001b[0mtest2\u001b[0m \u001b[0;34m=\u001b[0m \u001b[0mpre_frame\u001b[0m\u001b[0;34m\u001b[0m\u001b[0;34m\u001b[0m\u001b[0m\n\u001b[0;32m---> 54\u001b[0;31m                         \u001b[0;32mraise\u001b[0m\u001b[0;34m\u001b[0m\u001b[0;34m\u001b[0m\u001b[0m\n\u001b[0m\u001b[1;32m     55\u001b[0m                         \u001b[0;32mbreak\u001b[0m\u001b[0;34m\u001b[0m\u001b[0;34m\u001b[0m\u001b[0m\n\u001b[1;32m     56\u001b[0m         \u001b[0mpre_frame\u001b[0m \u001b[0;34m=\u001b[0m \u001b[0mframe_gray\u001b[0m\u001b[0;34m\u001b[0m\u001b[0;34m\u001b[0m\u001b[0m\n",
      "\u001b[0;31mRuntimeError\u001b[0m: No active exception to reraise"
     ]
    }
   ],
   "source": [
    "cap = cv2.VideoCapture('/data/20220118093227.mp4')\n",
    "focus_box = [0.51, 0.45, 0.58, 0.65]\n",
    "# cap = cv2.VideoCapture('/data/20220117080607.mp4')\n",
    "# focus_box = [0.47,0.35,0.57,0.5]\n",
    "\n",
    "rm_still = True\n",
    "rot = False\n",
    "width = 224\n",
    "height = 224\n",
    "focus_box_repnum = 3\n",
    "area_rate_thres = 0.03\n",
    "\n",
    "w = int(cap.get(cv2.CAP_PROP_FRAME_WIDTH))\n",
    "h = int(cap.get(cv2.CAP_PROP_FRAME_HEIGHT))\n",
    "focus_x1, focus_y1, focus_x2, focus_y2 = cal_rect_points(w, h, focus_box)\n",
    "w = focus_x2 - focus_x1\n",
    "h = focus_y2 - focus_y1\n",
    "\n",
    "pre_frame = None\n",
    "area_thres = math.ceil(area_rate_thres * w * h)\n",
    "print(f'rm_still: {area_thres} = ceil({area_rate_thres} * {w} * {h})')\n",
    "frames = []\n",
    "still_frames = []\n",
    "test1, test2 = None, None\n",
    "frame_tmp = None\n",
    "if cap.isOpened():\n",
    "    frame_idx = 0\n",
    "    while True:\n",
    "        success, frame_bgr = cap.read()\n",
    "        if not success:\n",
    "            break\n",
    "        keep_flag = False\n",
    "        if focus_box is not None:\n",
    "            frame_bgr = frame_bgr[focus_y1:focus_y2, focus_x1:focus_x2, :]\n",
    "            \n",
    "        # frame_hsv = cv2.cvtColor(frame_bgr, cv2.COLOR_BGR2HSV)\n",
    "        # frame_hsv[:, :, 2] *= 0.1 \n",
    "        # print(frame_hsv[:, :, 2])\n",
    "        # frame_tmp = cv2.cvtColor(frame_hsv, cv2.COLOR_HSV2BGR)\n",
    "        frame_gray = cv2.cvtColor(frame_bgr, cv2.COLOR_BGR2GRAY)\n",
    "        # img_hsv = img_hsv[:, :, ]\n",
    "        # frame_gray = cv2.cvtColor(frame_bgr, cv2.COLOR_HSV2GRAY)\n",
    "        if pre_frame is not None:\n",
    "            frame_tmp = cv2.absdiff(frame_gray, pre_frame)\n",
    "            frame_tmp = cv2.threshold(frame_tmp, 20, 255, cv2.THRESH_BINARY)[1]\n",
    "            frame_tmp = cv2.dilate(frame_tmp, None, iterations=2)\n",
    "            contours, _ = cv2.findContours(frame_tmp, cv2.RETR_EXTERNAL, cv2.CHAIN_APPROX_NONE)\n",
    "            if len(contours) > 0:\n",
    "                for contour in contours:\n",
    "                    if cv2.contourArea(contour) > area_thres:\n",
    "                        keep_flag = True\n",
    "                        test1 = frame_gray\n",
    "                        test2 = pre_frame\n",
    "                        raise\n",
    "                        break\n",
    "        pre_frame = frame_gray\n",
    "\n",
    "        if focus_box is not None:\n",
    "            if focus_box_repnum > 1:\n",
    "                frame_bgr = np.hstack([frame_bgr] * focus_box_repnum)\n",
    "                frame_bgr = np.vstack([frame_bgr] * focus_box_repnum)\n",
    "        frame_rgb = cv2.cvtColor(frame_bgr, cv2.COLOR_BGR2RGB)\n",
    "        frame_rgb = cv2.resize(frame_rgb, (width, height))\n",
    "        if rot:\n",
    "            # frame_rgb = cv2.rotate(frame_rgb, rot)\n",
    "            M = cv2.getRotationMatrix2D(center=(int(width / 2), int(height / 2)), angle=rot, scale=1.0)\n",
    "            frame_rgb = cv2.warpAffine(frame_rgb, M, (width, height))\n",
    "        if frame_idx and rm_still and not keep_flag:\n",
    "            still_frames.append((frame_idx, frame_rgb))\n",
    "        else:\n",
    "            frames.append(frame_rgb)\n",
    "        frame_idx += 1\n",
    "\n",
    "        del frame_bgr\n"
   ]
  },
  {
   "cell_type": "code",
   "execution_count": 149,
   "id": "ff87f543",
   "metadata": {},
   "outputs": [
    {
     "data": {
      "text/plain": [
       "dtype('float64')"
      ]
     },
     "execution_count": 149,
     "metadata": {},
     "output_type": "execute_result"
    }
   ],
   "source": [
    "tmp.dtype"
   ]
  },
  {
   "cell_type": "code",
   "execution_count": 118,
   "id": "d7b4d267",
   "metadata": {},
   "outputs": [
    {
     "data": {
      "image/png": "[encoded data removed]",
      "text/plain": [
       "<Figure size 864x576 with 1 Axes>"
      ]
     },
     "metadata": {
      "image/png": {
       "height": 449,
       "width": 573
      },
      "needs_background": "light"
     },
     "output_type": "display_data"
    }
   ],
   "source": [
    "show_image(np.hstack([test1, test2]))"
   ]
  },
  {
   "cell_type": "code",
   "execution_count": 128,
   "id": "65d4ebdc",
   "metadata": {},
   "outputs": [
    {
     "name": "stdout",
     "output_type": "stream",
     "text": [
      "0\n"
     ]
    },
    {
     "data": {
      "image/png": "[encoded data removed]",
      "text/plain": [
       "<Figure size 864x576 with 1 Axes>"
      ]
     },
     "metadata": {
      "image/png": {
       "height": 274,
       "width": 683
      },
      "needs_background": "light"
     },
     "output_type": "display_data"
    }
   ],
   "source": [
    "frame_tmp1 = cv2.absdiff(test1, test2)\n",
    "frame_tmp2 = cv2.threshold(frame_tmp1, 100, 255, cv2.THRESH_BINARY)[1]\n",
    "# frame_tmp4 = cv2.dilate(frame_tmp2, None, iterations=2)\n",
    "frame_tmp3 = cv2.erode(frame_tmp2, None, iterations=1)\n",
    "frame_tmp4 = cv2.dilate(frame_tmp3, None, iterations=2)\n",
    "contours, _ = cv2.findContours(frame_tmp4, cv2.RETR_EXTERNAL, cv2.CHAIN_APPROX_NONE)\n",
    "print(len(contours))\n",
    "for contour in contours:\n",
    "    print(cv2.contourArea(contour))\n",
    "test0 = test1.copy()\n",
    "cv2.drawContours(test0, contours, -1, (255, 0, 255), 1)\n",
    "# frame_tmp3,\n",
    "show_image(np.hstack([frame_tmp1, frame_tmp2, frame_tmp4, test0]))"
   ]
  },
  {
   "cell_type": "code",
   "execution_count": 25,
   "id": "1358f524",
   "metadata": {},
   "outputs": [],
   "source": [
    "def show_image(imgsrc, width=None, height=None):\n",
    "    if isinstance(imgsrc, np.ndarray):\n",
    "        img = imgsrc\n",
    "        if width or height:\n",
    "            if width and height:\n",
    "                size = (width, height)\n",
    "            else:\n",
    "                rate = img.shape[1] / img.shape[0]\n",
    "                if width:\n",
    "                    size = (width, int(width/rate))\n",
    "                else:\n",
    "                    size = (int(height*rate), height)\n",
    "            img = cv2.resize(img, size)\n",
    "            plt.figure(figsize=(3*int(size[0]/80+1), 3*int(size[1]/80+1)), dpi=80)\n",
    "        plt.axis('off')\n",
    "        if len(img.shape) > 2:\n",
    "            plt.imshow(img);\n",
    "        else:\n",
    "            plt.imshow(img, cmap='gray');\n",
    "        return\n",
    "\n",
    "    W, H = '', ''\n",
    "    if width:\n",
    "        W = 'width=%d' % width\n",
    "    if height:\n",
    "        H = 'height=%d' % height\n",
    "    if imgsrc.startswith('http'):\n",
    "        data_url = imgsrc\n",
    "    else:\n",
    "        if len(imgsrc) > 2048:\n",
    "            data_url = 'data:image/jpg;base64,' + imgsrc\n",
    "        else:\n",
    "            img = open(imgsrc, 'rb').read()\n",
    "            data_url = 'data:image/jpg;base64,' + base64.b64encode(img).decode()\n",
    "    return HTML('<center><img %s %s src=\"%s\"/></center>' % (W, H, data_url))\n"
   ]
  },
  {
   "cell_type": "code",
   "execution_count": 111,
   "id": "cccd5745",
   "metadata": {},
   "outputs": [
    {
     "data": {
      "text/plain": [
       "0.0001"
      ]
     },
     "execution_count": 111,
     "metadata": {},
     "output_type": "execute_result"
    }
   ],
   "source": [
    "a = 10.0001\n",
    "\n",
    "round(a - int(a), 6)"
   ]
  }
 ],
 "metadata": {
  "hide_input": false,
  "kernelspec": {
   "display_name": "Python 3",
   "language": "python",
   "name": "python3"
  },
  "language_info": {
   "codemirror_mode": {
    "name": "ipython",
    "version": 3
   },
   "file_extension": ".py",
   "mimetype": "text/x-python",
   "name": "python",
   "nbconvert_exporter": "python",
   "pygments_lexer": "ipython3",
   "version": "3.6.9"
  },
  "toc": {
   "base_numbering": 1,
   "nav_menu": {},
   "number_sections": true,
   "sideBar": true,
   "skip_h1_title": true,
   "title_cell": "",
   "title_sidebar": "Contents",
   "toc_cell": false,
   "toc_position": {},
   "toc_section_display": true,
   "toc_window_display": false
  }
 },
 "nbformat": 4,
 "nbformat_minor": 5
}
