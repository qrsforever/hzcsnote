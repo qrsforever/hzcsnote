{
 "cells": [
  {
   "cell_type": "markdown",
   "id": "b9e01e43",
   "metadata": {
    "toc": true
   },
   "source": [
    "<h1>Contents<span class=\"tocSkip\"></span></h1>\n",
    "<div class=\"toc\"><ul class=\"toc-item\"><li><span><a href=\"#Imports\" data-toc-modified-id=\"Imports-1\"><span class=\"toc-item-num\">1&nbsp;&nbsp;</span>Imports</a></span></li><li><span><a href=\"#Kolmogorov-Smirnov-Test\" data-toc-modified-id=\"Kolmogorov-Smirnov-Test-2\"><span class=\"toc-item-num\">2&nbsp;&nbsp;</span>Kolmogorov-Smirnov Test</a></span><ul class=\"toc-item\"><li><span><a href=\"#Create-some-samples\" data-toc-modified-id=\"Create-some-samples-2.1\"><span class=\"toc-item-num\">2.1&nbsp;&nbsp;</span>Create some samples</a></span></li></ul></li><li><span><a href=\"#Illustrating-the-KS-Statistic\" data-toc-modified-id=\"Illustrating-the-KS-Statistic-3\"><span class=\"toc-item-num\">3&nbsp;&nbsp;</span>Illustrating the KS Statistic</a></span><ul class=\"toc-item\"><li><span><a href=\"#Plotting-the-KS-distribution\" data-toc-modified-id=\"Plotting-the-KS-distribution-3.1\"><span class=\"toc-item-num\">3.1&nbsp;&nbsp;</span>Plotting the KS distribution</a></span></li></ul></li><li><span><a href=\"#Evaluates-the-KS-test-for-normality\" data-toc-modified-id=\"Evaluates-the-KS-test-for-normality-4\"><span class=\"toc-item-num\">4&nbsp;&nbsp;</span>Evaluates the KS test for normality</a></span><ul class=\"toc-item\"><li><span><a href=\"#Using-scipy.stats.ks_1samp-for-testing-the-normality\" data-toc-modified-id=\"Using-scipy.stats.ks_1samp-for-testing-the-normality-4.1\"><span class=\"toc-item-num\">4.1&nbsp;&nbsp;</span>Using scipy.stats.ks_1samp for testing the normality</a></span></li></ul></li><li><span><a href=\"#Evaluates-the-KS-between-two-samples\" data-toc-modified-id=\"Evaluates-the-KS-between-two-samples-5\"><span class=\"toc-item-num\">5&nbsp;&nbsp;</span>Evaluates the KS between two samples</a></span><ul class=\"toc-item\"><li><span><a href=\"#Using-scipy.stats.ks_2samp-to-compare-the-distributions\" data-toc-modified-id=\"Using-scipy.stats.ks_2samp-to-compare-the-distributions-5.1\"><span class=\"toc-item-num\">5.1&nbsp;&nbsp;</span>Using scipy.stats.ks_2samp to compare the distributions</a></span></li></ul></li></ul></div>"
   ]
  },
  {
   "cell_type": "markdown",
   "id": "7c558edd-c5e7-45fa-b58a-2746aeaaf43e",
   "metadata": {},
   "source": [
    "# Kolmogorov-Smirnov Test\n",
    "Vinicius Trevisan 2021"
   ]
  },
  {
   "cell_type": "markdown",
   "id": "45f0fb88-dc98-4826-8194-e1b5c63a97ab",
   "metadata": {},
   "source": [
    "## Imports"
   ]
  },
  {
   "cell_type": "code",
   "execution_count": 1,
   "id": "30491db2-8341-4012-9ccc-07f60a2a328b",
   "metadata": {
    "ExecuteTime": {
     "end_time": "2022-03-24T12:05:26.480496Z",
     "start_time": "2022-03-24T12:05:25.415227Z"
    }
   },
   "outputs": [],
   "source": [
    "import pandas as pd\n",
    "import numpy as np\n",
    "import matplotlib.pyplot as plt\n",
    "import seaborn as sns\n",
    "from scipy import stats"
   ]
  },
  {
   "cell_type": "code",
   "execution_count": 21,
   "id": "5a547f22",
   "metadata": {
    "ExecuteTime": {
     "end_time": "2022-03-24T12:17:39.331081Z",
     "start_time": "2022-03-24T12:17:39.325269Z"
    }
   },
   "outputs": [],
   "source": [
    "plt.rcParams['font.sans-serif'] = 'SimHei'\n",
    "# 负号正常显示\n",
    "plt.rcParams['axes.unicode_minus'] = False\n",
    "# 图像显示大小\n",
    "plt.rcParams['figure.figsize'] = (6.0, 6.0)\n",
    "# 使用数学公式 (depend: sudo apt install texlive-full)\n",
    "# plt.rcParams['text.usetex'] = True\n",
    "# plt.rcParams['text.latex.preamble'] = [r'\\usepackage{amsmath}']\n",
    "# 更多preamble, \\newcommand自定义命令\n",
    "# plt.rcParams['text.latex.preamble'] = [\n",
    "#     r'\\usepackage{amsmath}',\n",
    "#     r'\\usepackage{helvet}',\n",
    "#     r'\\usepackage{sansmath}',\n",
    "#     r'\\sansmath',\n",
    "#     r'\\renewcommand{\\familydefault}{\\sfdefault}',\n",
    "#     r'\\usepackage[T1]{fontenc}',\n",
    "#     r'\\usepackage{graphicx}',\n",
    "#     r'\\usepackage{relsize}',\n",
    "#     r'\\newcommand{\\bigpi}{\\scalebox{5}{\\ensuremath{\\pi}}}'\n",
    "# ]\n",
    "\n",
    "# 坐标label字体大小\n",
    "plt.rcParams['axes.labelsize'] = 16\n",
    "\n",
    "# 图像 插补方式: 紧邻\n",
    "plt.rcParams['image.interpolation'] = 'nearest'\n",
    "# color map\n",
    "plt.rcParams['image.cmap'] = 'gray'"
   ]
  },
  {
   "cell_type": "markdown",
   "id": "9118a672-2fc2-414b-b77a-3137fa7dec1a",
   "metadata": {},
   "source": [
    "## Kolmogorov-Smirnov Test"
   ]
  },
  {
   "cell_type": "markdown",
   "id": "12692afe-e683-43cd-acfe-9bd98d846438",
   "metadata": {},
   "source": [
    "### Create some samples"
   ]
  },
  {
   "cell_type": "code",
   "execution_count": 2,
   "id": "606e2f7e-489b-477a-997c-e11d47b3852c",
   "metadata": {
    "ExecuteTime": {
     "end_time": "2022-03-24T12:05:28.225373Z",
     "start_time": "2022-03-24T12:05:28.202962Z"
    }
   },
   "outputs": [],
   "source": [
    "# Create random samples\n",
    "norm_a = np.random.normal(loc = 0, scale = 1, size = 500)\n",
    "norm_b = np.random.normal(loc = 0.1, scale = 1, size = 500)\n",
    "norm_c = np.random.normal(loc = 3, scale = 1, size = 500)\n",
    "f_a = np.random.f(dfnum = 5, dfden  = 10, size = 500)"
   ]
  },
  {
   "cell_type": "code",
   "execution_count": 3,
   "id": "a6bd0920-3040-4227-b950-9950db658697",
   "metadata": {
    "ExecuteTime": {
     "end_time": "2022-03-24T12:05:28.793162Z",
     "start_time": "2022-03-24T12:05:28.788872Z"
    }
   },
   "outputs": [],
   "source": [
    "norm_a.sort()\n",
    "norm_b.sort()\n",
    "norm_c.sort()\n",
    "f_a.sort()"
   ]
  },
  {
   "cell_type": "code",
   "execution_count": 4,
   "id": "d1eb7838-9ae3-4d4c-8e95-1b15f3d64325",
   "metadata": {
    "ExecuteTime": {
     "end_time": "2022-03-24T12:05:30.342169Z",
     "start_time": "2022-03-24T12:05:29.557032Z"
    }
   },
   "outputs": [
    {
     "data": {
      "text/plain": [
       "<matplotlib.legend.Legend at 0x7f3e062165c0>"
      ]
     },
     "execution_count": 4,
     "metadata": {},
     "output_type": "execute_result"
    },
    {
     "name": "stderr",
     "output_type": "stream",
     "text": [
      "/usr/local/lib/python3.6/dist-packages/matplotlib/backends/backend_agg.py:238: RuntimeWarning: Glyph 8722 missing from current font.\n",
      "  font.set_text(s, 0.0, flags=flags)\n",
      "/usr/local/lib/python3.6/dist-packages/matplotlib/backends/backend_agg.py:201: RuntimeWarning: Glyph 8722 missing from current font.\n",
      "  font.set_text(s, 0, flags=flags)\n"
     ]
    },
    {
     "data": {
      "image/png": "[encoded data removed]",
      "text/plain": [
       "<Figure size 720x216 with 1 Axes>"
      ]
     },
     "metadata": {
      "needs_background": "light"
     },
     "output_type": "display_data"
    }
   ],
   "source": [
    "# Visualize them\n",
    "plt.figure(figsize = (10,3))\n",
    "sns.histplot(norm_a, bins = 20, kde = True, color = 'b')\n",
    "sns.histplot(norm_b, bins = 20, kde = True, color = 'g')\n",
    "sns.histplot(norm_c, bins = 20, kde = True, color = 'r')\n",
    "sns.histplot(f_a, bins = 20, kde = True, color = 'orange')\n",
    "plt.legend([\"norm_a\", \"norm_b\", \"norm_c\", \"f_a\"])"
   ]
  },
  {
   "cell_type": "code",
   "execution_count": 6,
   "id": "3ff4b34b-b994-4cce-925a-5241b2284f45",
   "metadata": {
    "ExecuteTime": {
     "end_time": "2022-03-24T12:05:41.737082Z",
     "start_time": "2022-03-24T12:05:41.731811Z"
    }
   },
   "outputs": [],
   "source": [
    "def cdf(sample, x, sort = False):\n",
    "    '''\n",
    "    Return the value of the Cumulative Distribution Function, evaluated for a given sample and a value x.\n",
    "    \n",
    "    Args:\n",
    "        sample: The list or array of observations.\n",
    "        x: The value for which the numerical cdf is evaluated.\n",
    "    \n",
    "    Returns:\n",
    "        cdf = CDF_{sample}(x)\n",
    "    '''\n",
    "    \n",
    "    # Sorts the sample, if needed\n",
    "    if sort:\n",
    "        sample.sort()\n",
    "    \n",
    "    # Counts how many observations are below x\n",
    "    cdf = sum(sample <= x)\n",
    "    \n",
    "    # Divides by the total number of observations\n",
    "    cdf = cdf / len(sample)\n",
    "    \n",
    "    return cdf"
   ]
  },
  {
   "cell_type": "code",
   "execution_count": 7,
   "id": "86cd8a8d-00f3-47bc-81db-016f190244da",
   "metadata": {
    "ExecuteTime": {
     "end_time": "2022-03-24T12:05:47.166408Z",
     "start_time": "2022-03-24T12:05:42.765440Z"
    },
    "tags": []
   },
   "outputs": [],
   "source": [
    "# Creates their CDFs for visualization\n",
    "cdf_norm_a = np.array([cdf(norm_a, x, sort = True) for x in norm_a])\n",
    "cdf_norm_b = np.array([cdf(norm_b, x, sort = True) for x in norm_b])\n",
    "cdf_norm_c = np.array([cdf(norm_c, x, sort = True) for x in norm_c])\n",
    "cdf_f_a = np.array([cdf(f_a, x, sort = True) for x in f_a])"
   ]
  },
  {
   "cell_type": "code",
   "execution_count": 22,
   "id": "b2687d3a-f148-4de5-a7a4-4dad8e08bae1",
   "metadata": {
    "ExecuteTime": {
     "end_time": "2022-03-24T12:17:44.598263Z",
     "start_time": "2022-03-24T12:17:44.092038Z"
    }
   },
   "outputs": [
    {
     "data": {
      "text/plain": [
       "<matplotlib.legend.Legend at 0x7f3d7074be48>"
      ]
     },
     "execution_count": 22,
     "metadata": {},
     "output_type": "execute_result"
    },
    {
     "data": {
      "image/png": "[encoded data removed]",
      "text/plain": [
       "<Figure size 720x216 with 1 Axes>"
      ]
     },
     "metadata": {
      "needs_background": "light"
     },
     "output_type": "display_data"
    }
   ],
   "source": [
    "# Visualize them\n",
    "plt.figure(figsize = (10,3))\n",
    "sns.lineplot(x = norm_a, y = cdf_norm_a, color = 'b')\n",
    "sns.lineplot(x = norm_b, y = cdf_norm_b, color = 'g')\n",
    "sns.lineplot(x = norm_c, y = cdf_norm_c, color = 'r')\n",
    "sns.lineplot(x = f_a, y = cdf_f_a, color = 'orange')\n",
    "plt.legend([\"norm_a\", \"norm_b\", \"norm_c\", \"f_a\"])"
   ]
  },
  {
   "cell_type": "markdown",
   "id": "e268a19d-e116-47fe-864e-918bd9d6a617",
   "metadata": {},
   "source": [
    "## Illustrating the KS Statistic"
   ]
  },
  {
   "cell_type": "code",
   "execution_count": 9,
   "id": "a9d0bd5e-dbed-487a-ba1e-2852ba20f6df",
   "metadata": {
    "ExecuteTime": {
     "end_time": "2022-03-24T12:05:51.706984Z",
     "start_time": "2022-03-24T12:05:50.591738Z"
    }
   },
   "outputs": [],
   "source": [
    "norm_d = np.random.normal(loc = 0, scale = 2, size = 500)\n",
    "norm_d.sort()\n",
    "cdf_norm_d = np.array([cdf(norm_d, x, sort = True) for x in norm_d])"
   ]
  },
  {
   "cell_type": "code",
   "execution_count": 39,
   "id": "f0fa1fb5-4b44-4488-97d6-6578a4db8d18",
   "metadata": {
    "ExecuteTime": {
     "end_time": "2022-03-25T11:36:08.979592Z",
     "start_time": "2022-03-25T11:36:08.387197Z"
    }
   },
   "outputs": [
    {
     "data": {
      "image/png": "[encoded data removed]",
      "text/plain": [
       "<Figure size 1152x432 with 1 Axes>"
      ]
     },
     "metadata": {
      "needs_background": "light"
     },
     "output_type": "display_data"
    }
   ],
   "source": [
    "plt.figure(figsize = (16,6))\n",
    "sns.lineplot(x = norm_a, y = cdf_norm_a, color = 'b')\n",
    "sns.lineplot(x = norm_d, y = cdf_norm_d, color = 'g')\n",
    "min_x = int(min(min(norm_a), min(norm_d)))\n",
    "max_x = int(max(max(norm_a), max(norm_d)))\n",
    "for i in range(min_x *3, max_x * 3):\n",
    "    j = i/3\n",
    "    plt.plot([j, j], [cdf(norm_a, j), cdf(norm_d, j)], color = 'r')\n",
    "plt.legend([\"经验分布-1\", \"经验分布-2\", \"KS 统计量\"])\n",
    "plt.title(\"Kolmogorov-Smirnov Test\");"
   ]
  },
  {
   "cell_type": "markdown",
   "id": "6a0dfa68-c923-499c-8130-f9c907282b70",
   "metadata": {},
   "source": [
    "### Plotting the KS distribution"
   ]
  },
  {
   "cell_type": "code",
   "execution_count": 26,
   "id": "44655728-81de-4b06-b841-ac92b51a4c7c",
   "metadata": {
    "ExecuteTime": {
     "end_time": "2022-03-24T12:18:59.772001Z",
     "start_time": "2022-03-24T12:18:58.295917Z"
    }
   },
   "outputs": [],
   "source": [
    "# Calculate samples\n",
    "n = 10\n",
    "x = np.random.uniform(0, 1, 1000)\n",
    "y = stats.kstwo.pdf(x, n = n)"
   ]
  },
  {
   "cell_type": "code",
   "execution_count": 30,
   "id": "f5b1d497-2d45-4256-b180-c1860abc98a5",
   "metadata": {
    "ExecuteTime": {
     "end_time": "2022-03-24T12:26:32.084901Z",
     "start_time": "2022-03-24T12:26:31.793308Z"
    }
   },
   "outputs": [
    {
     "data": {
      "text/plain": [
       "Text(0.5, 1.0, 'Kolmogorov-Smirnov Distribution for N=10')"
      ]
     },
     "execution_count": 30,
     "metadata": {},
     "output_type": "execute_result"
    },
    {
     "data": {
      "image/png": "[encoded data removed]",
      "text/plain": [
       "<Figure size 576x360 with 1 Axes>"
      ]
     },
     "metadata": {
      "needs_background": "light"
     },
     "output_type": "display_data"
    }
   ],
   "source": [
    "plt.figure(figsize = (8,5))\n",
    "sns.lineplot(x = x, y = y)\n",
    "plt.title(f\"Kolmogorov-Smirnov Distribution for N={n}\")"
   ]
  },
  {
   "cell_type": "code",
   "execution_count": 33,
   "id": "c095aff0",
   "metadata": {
    "ExecuteTime": {
     "end_time": "2022-03-24T12:29:22.069147Z",
     "start_time": "2022-03-24T12:29:22.063646Z"
    }
   },
   "outputs": [
    {
     "data": {
      "text/plain": [
       "<AxesSubplot:>"
      ]
     },
     "execution_count": 33,
     "metadata": {},
     "output_type": "execute_result"
    }
   ],
   "source": [
    "axes[0]"
   ]
  },
  {
   "cell_type": "code",
   "execution_count": 40,
   "id": "edaf8bdc",
   "metadata": {
    "ExecuteTime": {
     "end_time": "2022-03-25T11:37:30.530969Z",
     "start_time": "2022-03-25T11:37:29.641171Z"
    }
   },
   "outputs": [
    {
     "data": {
      "text/plain": [
       "Text(0.5, 1.0, 'K-S检验（N=10）')"
      ]
     },
     "execution_count": 40,
     "metadata": {},
     "output_type": "execute_result"
    },
    {
     "data": {
      "image/png": "[encoded data removed]",
      "text/plain": [
       "<Figure size 1440x432 with 2 Axes>"
      ]
     },
     "metadata": {
      "needs_background": "light"
     },
     "output_type": "display_data"
    }
   ],
   "source": [
    "fig, axes = plt.subplots(1, 2, figsize=(20, 6), sharex=False, sharey=False)\n",
    "\n",
    "sns.lineplot(x = norm_a, y = cdf_norm_a, color = 'b', ax=axes[0])\n",
    "sns.lineplot(x = norm_d, y = cdf_norm_d, color = 'g', ax=axes[0])\n",
    "for i in range(min_x *3, max_x * 3):\n",
    "    j = i/3\n",
    "    axes[0].plot([j, j], [cdf(norm_a, j), cdf(norm_d, j)], color = 'r')\n",
    "axes[0].legend([\"经验分布-1\", \"经验分布-2\", \"KS 统计量\"])\n",
    "axes[0].set_title(\"K-S检验\");\n",
    "sns.lineplot(x = x, y = y, ax=axes[1])\n",
    "axes[1].set_title(f\"K-S检验（N={n}）\")"
   ]
  },
  {
   "cell_type": "markdown",
   "id": "f4825432-cfd7-415c-9fa5-0ed7402a597e",
   "metadata": {},
   "source": [
    "## Evaluates the KS test for normality"
   ]
  },
  {
   "cell_type": "markdown",
   "id": "910eaf64-d83c-4836-b503-be3b4ae03525",
   "metadata": {},
   "source": [
    "The test being executed is the two-tailed test.\n",
    "\n",
    "The Null Hypothesis is that both distributions are identical\n",
    "\n",
    "The Alternative Hypothesis is that both distributions are not identical\n",
    "\n",
    "If p-value < 0.05 (for 5% significance) we reject the Null Hypothesis, and therefore the distributions are NOT identical\n",
    "\n",
    "Using the baseline as the normal distribution and standardizing the data, the KS test will be a normality test and the null hypothesis will be \"the distribution is normal\""
   ]
  },
  {
   "cell_type": "code",
   "execution_count": 10,
   "id": "68e81bbe-7320-4d54-af35-d7adb472e3e4",
   "metadata": {},
   "outputs": [],
   "source": [
    "def standardize(sample):\n",
    "    \n",
    "    # Standardize the data\n",
    "    mean = sample.mean()\n",
    "    std = sample.std()\n",
    "    sample_z = (sample - mean)/std\n",
    "    \n",
    "    return sample_z    "
   ]
  },
  {
   "cell_type": "code",
   "execution_count": 11,
   "id": "31b6cccf-4a52-43ed-a64a-6306f8e66a7f",
   "metadata": {},
   "outputs": [],
   "source": [
    "def ks_norm(sample):\n",
    "    \n",
    "    # Sorts the sample\n",
    "    sample.sort()\n",
    "    \n",
    "    # Evaluates the KS statistic\n",
    "    D_ks = [] # KS Statistic list\n",
    "    for x in sample:\n",
    "        cdf_normal = stats.norm.cdf(x = x, loc = 0, scale = 1)\n",
    "        cdf_sample = cdf(sample = sample, x  = x)\n",
    "        D_ks.append(abs(cdf_normal - cdf_sample))\n",
    "    ks_stat = max(D_ks)\n",
    "    \n",
    "    # Calculates the P-Value based on the two-sided test\n",
    "    # The P-Value comes from the KS Distribution Survival Function (SF = 1-CDF)\n",
    "    p_value = stats.kstwo.sf(ks_stat, len(sample))\n",
    "    \n",
    "    return {\"ks_stat\": ks_stat, \"p_value\" : p_value}"
   ]
  },
  {
   "cell_type": "code",
   "execution_count": 12,
   "id": "404ceddf-059c-4c00-aedf-4161d9547570",
   "metadata": {},
   "outputs": [],
   "source": [
    "# Calculates the KS statistic\n",
    "# We wish to test for normality, so we want to compare to a normal distribution with mean = 0 and variance = 1.\n",
    "# We need then to standardize the data. If we don't do that, a normal distribution with other mean or variance will fail the test.\n",
    "ks_norm_a = ks_norm(standardize(norm_a))\n",
    "ks_norm_b = ks_norm(standardize(norm_b))\n",
    "ks_norm_c = ks_norm(standardize(norm_c))\n",
    "ks_f_a = ks_norm(standardize(f_a))"
   ]
  },
  {
   "cell_type": "code",
   "execution_count": 13,
   "id": "b48e2f09-21c5-48cf-bd8a-951263a544ce",
   "metadata": {},
   "outputs": [
    {
     "name": "stdout",
     "output_type": "stream",
     "text": [
      "norm_a: ks = 0.0252 (p-value = 9.003e-01, is normal = True)\n",
      "norm_b: ks = 0.0324 (p-value = 6.574e-01, is normal = True)\n",
      "norm_c: ks = 0.0333 (p-value = 6.225e-01, is normal = True)\n",
      "F_a: ks = 0.1538 (p-value = 8.548e-11, is normal = False)\n"
     ]
    }
   ],
   "source": [
    "# Prints the result\n",
    "print(f\"norm_a: ks = {ks_norm_a['ks_stat']:.4f} (p-value = {ks_norm_a['p_value']:.3e}, is normal = {ks_norm_a['p_value'] > 0.05})\")\n",
    "print(f\"norm_b: ks = {ks_norm_b['ks_stat']:.4f} (p-value = {ks_norm_b['p_value']:.3e}, is normal = {ks_norm_b['p_value'] > 0.05})\")\n",
    "print(f\"norm_c: ks = {ks_norm_c['ks_stat']:.4f} (p-value = {ks_norm_c['p_value']:.3e}, is normal = {ks_norm_c['p_value'] > 0.05})\")\n",
    "print(f\"F_a: ks = {ks_f_a['ks_stat']:.4f} (p-value = {ks_f_a['p_value']:.3e}, is normal = {ks_f_a['p_value'] > 0.05})\")"
   ]
  },
  {
   "cell_type": "markdown",
   "id": "734d858b-3235-4f9c-abd5-3c0717c3eb26",
   "metadata": {},
   "source": [
    "### Using scipy.stats.ks_1samp for testing the normality\n",
    "Compares our method with the built-in KS test of the scipy.stats library"
   ]
  },
  {
   "cell_type": "code",
   "execution_count": 14,
   "id": "847d9baa-bfb8-43dc-a811-75dfd4116f19",
   "metadata": {},
   "outputs": [],
   "source": [
    "# Evaluates the KS test\n",
    "ks_norm_a = stats.ks_1samp(x = standardize(norm_a), cdf = stats.norm.cdf)\n",
    "ks_norm_b = stats.ks_1samp(x = standardize(norm_b), cdf = stats.norm.cdf)\n",
    "ks_norm_c = stats.ks_1samp(x = standardize(norm_c), cdf = stats.norm.cdf)\n",
    "ks_f_a = stats.ks_1samp(x = standardize(f_a), cdf = stats.norm.cdf)"
   ]
  },
  {
   "cell_type": "code",
   "execution_count": 15,
   "id": "c71ccc3f-7407-4f0e-8958-4ea677463146",
   "metadata": {},
   "outputs": [
    {
     "name": "stdout",
     "output_type": "stream",
     "text": [
      "norm_a: ks = 0.0252 (p-value = 9.003e-01, is normal = True)\n",
      "norm_b: ks = 0.0344 (p-value = 5.822e-01, is normal = True)\n",
      "norm_c: ks = 0.0353 (p-value = 5.482e-01, is normal = True)\n",
      "f_a: ks = 0.1538 (p-value = 8.548e-11, is normal = False)\n"
     ]
    }
   ],
   "source": [
    "# Prints the results\n",
    "print(f\"norm_a: ks = {ks_norm_a.statistic:.4f} (p-value = {ks_norm_a.pvalue:.3e}, is normal = {ks_norm_a.pvalue > 0.05})\")\n",
    "print(f\"norm_b: ks = {ks_norm_b.statistic:.4f} (p-value = {ks_norm_b.pvalue:.3e}, is normal = {ks_norm_b.pvalue > 0.05})\")\n",
    "print(f\"norm_c: ks = {ks_norm_c.statistic:.4f} (p-value = {ks_norm_c.pvalue:.3e}, is normal = {ks_norm_c.pvalue > 0.05})\")\n",
    "print(f\"f_a: ks = {ks_f_a.statistic:.4f} (p-value = {ks_f_a.pvalue:.3e}, is normal = {ks_f_a.pvalue > 0.05})\")"
   ]
  },
  {
   "cell_type": "markdown",
   "id": "adc4fa1d-aa1d-4fa5-8985-448859a17b37",
   "metadata": {},
   "source": [
    "## Evaluates the KS between two samples"
   ]
  },
  {
   "cell_type": "markdown",
   "id": "4ca025fa-b029-4826-8e06-3469841699ef",
   "metadata": {},
   "source": [
    "The test being executed is the two-tailed test.\n",
    "\n",
    "The Null Hypothesis is that both distributions are identical\n",
    "\n",
    "The Alternative Hypothesis is that both distributions are not identical\n",
    "\n",
    "If p-value < 0.05 (for 5% significance) we reject the Null Hypothesis, and therefore the distributions are NOT identical\n",
    "\n",
    "Using the baseline as the normal distribution and standardizing the data, the KS test will be a normality test and the null hypothesis will be \"the distribution is normal\""
   ]
  },
  {
   "cell_type": "code",
   "execution_count": 53,
   "id": "54a7c664-834c-49f2-a904-3aafecb1d969",
   "metadata": {},
   "outputs": [],
   "source": [
    "def ks_2samp(sample1, sample2):\n",
    "    \n",
    "    # Gets all observations\n",
    "    observations = np.concatenate((sample1, sample2))\n",
    "    observations.sort()\n",
    "    \n",
    "    # Sorts the samples\n",
    "    sample1.sort()\n",
    "    sample2.sort()\n",
    "    \n",
    "    # Evaluates the KS statistic\n",
    "    D_ks = [] # KS Statistic list\n",
    "    for x in observations:\n",
    "        cdf_sample1 = cdf(sample = sample1, x  = x)\n",
    "        cdf_sample2 = cdf(sample = sample2, x  = x)\n",
    "        D_ks.append(abs(cdf_sample1 - cdf_sample2))\n",
    "    ks_stat = max(D_ks)\n",
    "    \n",
    "    # Calculates the P-Value based on the two-sided test\n",
    "    # The P-Value comes from the KS Distribution Survival Function (SF = 1-CDF)\n",
    "    m, n = float(len(sample1)), float(len(sample2))\n",
    "    en = m * n / (m + n)\n",
    "    p_value = stats.kstwo.sf(ks_stat, np.round(en))\n",
    "    \n",
    "    return {\"ks_stat\": ks_stat, \"p_value\" : p_value}"
   ]
  },
  {
   "cell_type": "code",
   "execution_count": 54,
   "id": "f1e5da3b-f915-4fba-9858-a14928d788d6",
   "metadata": {},
   "outputs": [],
   "source": [
    "# Evaluates all possible combinations.\n",
    "# We want to know if the distributions are identical, so we cannot standardize them\n",
    "sets = [norm_a, norm_b, norm_c, f_a]\n",
    "names = ['norm_a', 'norm_b', 'norm_c', 'f_a']\n",
    "ks_scores = {}\n",
    "for _ in range(len(names)):\n",
    "    name1 = names.pop(0)\n",
    "    sample1 = sets.pop(0)\n",
    "    for name2, sample2 in zip(names, sets):\n",
    "        key1 = name1 + \"_\" +  name2\n",
    "        key2 = name2 + \"_\" +  name1\n",
    "        ks = ks_2samp(sample1, sample2)\n",
    "        ks_scores[key1] = ks\n",
    "        ks_scores[key2] = ks"
   ]
  },
  {
   "cell_type": "code",
   "execution_count": 55,
   "id": "cdfd6248-2aeb-4572-9daf-4922ea30df18",
   "metadata": {},
   "outputs": [
    {
     "name": "stdout",
     "output_type": "stream",
     "text": [
      "norm_a vs norm_b: ks = 0.0680 (p-value = 1.891e-01, are equal = True)\n",
      "norm_a vs norm_c: ks = 0.8640 (p-value = 1.169e-216, are equal = False)\n",
      "norm_a vs f_a: ks = 0.5720 (p-value = 6.293e-78, are equal = False)\n",
      "norm_b vs norm_c: ks = 0.8680 (p-value = 5.772e-220, are equal = False)\n",
      "norm_b vs f_a: ks = 0.5160 (p-value = 2.293e-62, are equal = False)\n",
      "norm_c vs f_a: ks = 0.6580 (p-value = 1.128e-106, are equal = False)\n"
     ]
    }
   ],
   "source": [
    "# Prints the results\n",
    "print(f\"norm_a vs norm_b: ks = {ks_scores['norm_a_norm_b']['ks_stat']:.4f} (p-value = {ks_scores['norm_a_norm_b']['p_value']:.3e}, are equal = {ks_scores['norm_a_norm_b']['p_value'] > 0.05})\")\n",
    "print(f\"norm_a vs norm_c: ks = {ks_scores['norm_a_norm_c']['ks_stat']:.4f} (p-value = {ks_scores['norm_a_norm_c']['p_value']:.3e}, are equal = {ks_scores['norm_a_norm_c']['p_value'] > 0.05})\")\n",
    "print(f\"norm_a vs f_a: ks = {ks_scores['norm_a_f_a']['ks_stat']:.4f} (p-value = {ks_scores['norm_a_f_a']['p_value']:.3e}, are equal = {ks_scores['norm_a_f_a']['p_value'] > 0.05})\")\n",
    "print(f\"norm_b vs norm_c: ks = {ks_scores['norm_b_norm_c']['ks_stat']:.4f} (p-value = {ks_scores['norm_b_norm_c']['p_value']:.3e}, are equal = {ks_scores['norm_b_norm_c']['p_value'] > 0.05})\")\n",
    "print(f\"norm_b vs f_a: ks = {ks_scores['norm_b_f_a']['ks_stat']:.4f} (p-value = {ks_scores['norm_b_f_a']['p_value']:.3e}, are equal = {ks_scores['norm_b_f_a']['p_value'] > 0.05})\")\n",
    "print(f\"norm_c vs f_a: ks = {ks_scores['norm_c_f_a']['ks_stat']:.4f} (p-value = {ks_scores['norm_c_f_a']['p_value']:.3e}, are equal = {ks_scores['norm_c_f_a']['p_value'] > 0.05})\")"
   ]
  },
  {
   "cell_type": "markdown",
   "id": "0d5b2fc1-58f4-422f-962c-ba9a0630e494",
   "metadata": {},
   "source": [
    "### Using scipy.stats.ks_2samp to compare the distributions\n",
    "Compares our method with the built-in KS test of the scipy.stats library"
   ]
  },
  {
   "cell_type": "code",
   "execution_count": 19,
   "id": "4b8ece90-5cb3-487a-8108-4c1ad62c425e",
   "metadata": {},
   "outputs": [],
   "source": [
    "# Evaluates all possible combinations.\n",
    "sets = [norm_a, norm_b, norm_c, f_a]\n",
    "names = ['norm_a', 'norm_b', 'norm_c', 'f_a']\n",
    "ks_scores = {}\n",
    "for _ in range(len(names)):\n",
    "    name1 = names.pop(0)\n",
    "    sample1 = sets.pop(0)\n",
    "    for name2, sample2 in zip(names, sets):\n",
    "        key1 = name1 + \"_\" +  name2\n",
    "        key2 = name2 + \"_\" +  name1\n",
    "        ks = stats.ks_2samp(sample1, sample2)\n",
    "        ks_scores[key1] = ks\n",
    "        ks_scores[key2] = ks"
   ]
  },
  {
   "cell_type": "code",
   "execution_count": 20,
   "id": "6f6ef810-ea2f-4b8a-b5aa-93a1ea032716",
   "metadata": {},
   "outputs": [
    {
     "name": "stdout",
     "output_type": "stream",
     "text": [
      "norm_a vs norm_b: ks = 0.0680 (p-value = 1.980e-01, are equal = True)\n",
      "norm_a vs norm_c: ks = 0.8640 (p-value = 2.900e-193, are equal = False)\n",
      "norm_a vs f_a: ks = 0.5720 (p-value = 7.020e-76, are equal = False)\n",
      "norm_b vs norm_c: ks = 0.8680 (p-value = 1.516e-195, are equal = False)\n",
      "norm_b vs f_a: ks = 0.5160 (p-value = 4.631e-61, are equal = False)\n",
      "norm_c vs f_a: ks = 0.6580 (p-value = 1.175e-102, are equal = False)\n"
     ]
    }
   ],
   "source": [
    "# Prints the results\n",
    "print(f\"norm_a vs norm_b: ks = {ks_scores['norm_a_norm_b'].statistic:.4f} (p-value = {ks_scores['norm_a_norm_b'].pvalue:.3e}, are equal = {ks_scores['norm_a_norm_b'].pvalue > 0.05})\")\n",
    "print(f\"norm_a vs norm_c: ks = {ks_scores['norm_a_norm_c'].statistic:.4f} (p-value = {ks_scores['norm_a_norm_c'].pvalue:.3e}, are equal = {ks_scores['norm_a_norm_c'].pvalue > 0.05})\")\n",
    "print(f\"norm_a vs f_a: ks = {ks_scores['norm_a_f_a'].statistic:.4f} (p-value = {ks_scores['norm_a_f_a'].pvalue:.3e}, are equal = {ks_scores['norm_a_f_a'].pvalue > 0.05})\")\n",
    "print(f\"norm_b vs norm_c: ks = {ks_scores['norm_b_norm_c'].statistic:.4f} (p-value = {ks_scores['norm_b_norm_c'].pvalue:.3e}, are equal = {ks_scores['norm_b_norm_c'].pvalue > 0.05})\")\n",
    "print(f\"norm_b vs f_a: ks = {ks_scores['norm_b_f_a'].statistic:.4f} (p-value = {ks_scores['norm_b_f_a'].pvalue:.3e}, are equal = {ks_scores['norm_b_f_a'].pvalue > 0.05})\")\n",
    "print(f\"norm_c vs f_a: ks = {ks_scores['norm_c_f_a'].statistic:.4f} (p-value = {ks_scores['norm_c_f_a'].pvalue:.3e}, are equal = {ks_scores['norm_c_f_a'].pvalue > 0.05})\")"
   ]
  },
  {
   "cell_type": "code",
   "execution_count": null,
   "id": "1d0ff498-501d-4af1-b095-f4a0c372d5e0",
   "metadata": {},
   "outputs": [],
   "source": []
  }
 ],
 "metadata": {
  "hide_input": false,
  "kernelspec": {
   "display_name": "Python 3",
   "language": "python",
   "name": "python3"
  },
  "language_info": {
   "codemirror_mode": {
    "name": "ipython",
    "version": 3
   },
   "file_extension": ".py",
   "mimetype": "text/x-python",
   "name": "python",
   "nbconvert_exporter": "python",
   "pygments_lexer": "ipython3",
   "version": "3.6.9"
  },
  "toc": {
   "base_numbering": 1,
   "nav_menu": {},
   "number_sections": true,
   "sideBar": false,
   "skip_h1_title": true,
   "title_cell": "Contents",
   "title_sidebar": "Contents",
   "toc_cell": true,
   "toc_position": {
    "height": "371px",
    "left": "1618px",
    "top": "66px",
    "width": "279px"
   },
   "toc_section_display": true,
   "toc_window_display": true
  }
 },
 "nbformat": 4,
 "nbformat_minor": 5
}
