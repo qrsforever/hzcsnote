{
 "cells": [
  {
   "cell_type": "markdown",
   "id": "5d94b9cb",
   "metadata": {},
   "source": [
    "## Host Setup (OpenVINO)"
   ]
  },
  {
   "cell_type": "markdown",
   "id": "6b4007cb",
   "metadata": {},
   "source": [
    "### Tookit Serial"
   ]
  },
  {
   "cell_type": "markdown",
   "id": "981202b2",
   "metadata": {},
   "source": [
    "[Openvino-Tookit](https://software.intel.com/en-us/openvino-toolkit/choose-download/free-download-windows)\n",
    "\n",
    "Serial number : CN7V-7MW45FB5"
   ]
  },
  {
   "cell_type": "markdown",
   "id": "11e7852a",
   "metadata": {},
   "source": [
    "### Setup Environment\n",
    "\n",
    "- [Install External Software Dependencies](https://docs.openvinotoolkit.org/2020.1/_docs_install_guides_installing_openvino_linux.html#install-external-dependencies)\n",
    "\n",
    "- [Set the Environment Variables](https://docs.openvinotoolkit.org/2020.1/_docs_install_guides_installing_openvino_linux.html#set-the-environment-variables)\n",
    "\n",
    "- [Configure the Model Optimizer](https://docs.openvinotoolkit.org/2020.1/_docs_install_guides_installing_openvino_linux.html#configure-model-optimizer)"
   ]
  },
  {
   "cell_type": "markdown",
   "id": "0d5441b3",
   "metadata": {},
   "source": [
    "### Test"
   ]
  },
  {
   "cell_type": "code",
   "execution_count": null,
   "id": "12453d50",
   "metadata": {},
   "outputs": [],
   "source": []
  },
  {
   "cell_type": "markdown",
   "id": "60cc0532",
   "metadata": {},
   "source": [
    "## References\n",
    "\n",
    "- https://docs.openvinotoolkit.org/2021.4/openvino_docs_install_guides_installing_openvino_linux.html\n",
    "\n",
    "- https://onnxruntime.ai/docs/reference/execution-providers/OpenVINO-ExecutionProvider.html"
   ]
  },
  {
   "cell_type": "code",
   "execution_count": null,
   "id": "d56762f2",
   "metadata": {},
   "outputs": [],
   "source": []
  }
 ],
 "metadata": {
  "hide_input": false,
  "kernelspec": {
   "display_name": "Python 3",
   "language": "python",
   "name": "python3"
  },
  "language_info": {
   "codemirror_mode": {
    "name": "ipython",
    "version": 3
   },
   "file_extension": ".py",
   "mimetype": "text/x-python",
   "name": "python",
   "nbconvert_exporter": "python",
   "pygments_lexer": "ipython3",
   "version": "3.6.9"
  },
  "toc": {
   "base_numbering": 1,
   "nav_menu": {},
   "number_sections": true,
   "sideBar": true,
   "skip_h1_title": true,
   "title_cell": "",
   "title_sidebar": "Contents",
   "toc_cell": false,
   "toc_position": {},
   "toc_section_display": true,
   "toc_window_display": false
  }
 },
 "nbformat": 4,
 "nbformat_minor": 5
}
