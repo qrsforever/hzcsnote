{
 "cells": [
  {
   "cell_type": "markdown",
   "id": "acquired-excerpt",
   "metadata": {},
   "source": [
    "## 引入工具"
   ]
  },
  {
   "cell_type": "code",
   "execution_count": 1,
   "id": "according-success",
   "metadata": {
    "ExecuteTime": {
     "end_time": "2021-08-13T10:45:02.195658Z",
     "start_time": "2021-08-13T10:44:56.751426Z"
    },
    "hide_input": true
   },
   "outputs": [
    {
     "name": "stdout",
     "output_type": "stream",
     "text": [
      "CPython 3.6.9\n",
      "IPython 7.16.1\n",
      "\n",
      "numpy 1.19.5\n",
      "sklearn 0.0\n",
      "pandas 1.1.5\n",
      "CPython 3.6.9\n",
      "IPython 7.16.1\n",
      "\n",
      "cv2 4.5.3\n",
      "PIL 8.3.1\n",
      "matplotlib 3.3.4\n",
      "CPython 3.6.9\n",
      "IPython 7.16.1\n",
      "\n",
      "torch 1.8.1+cu101\n",
      "torchvision 0.9.1+cu101\n",
      "torchaudio not installed\n"
     ]
    },
    {
     "data": {
      "text/html": [
       "<style>.container { width:95% !important; }</style>"
      ],
      "text/plain": [
       "<IPython.core.display.HTML object>"
      ]
     },
     "metadata": {},
     "output_type": "display_data"
    }
   ],
   "source": [
    "%reload_ext watermark\n",
    "%reload_ext autoreload\n",
    "%autoreload 2\n",
    "%watermark -v -p numpy,sklearn,pandas\n",
    "%watermark -v -p cv2,PIL,matplotlib\n",
    "%watermark -v -p torch,torchvision,torchaudio\n",
    "%matplotlib inline\n",
    "%config InlineBackend.figure_format='retina'\n",
    "%config IPCompleter.use_jedi = False\n",
    "\n",
    "from IPython.display import display, Markdown, HTML, Javascript\n",
    "display(HTML('<style>.container { width:%d%% !important; }</style>' % 95))\n",
    "\n",
    "import sys, os, io, time, random, math\n",
    "import json, base64, requests\n",
    "import os.path as osp\n",
    "import threading\n",
    "\n",
    "def _IMPORT_(x):\n",
    "    try:\n",
    "        segs = x.split(' ')\n",
    "        g = globals()\n",
    "        if 'github.com' in segs[1]:\n",
    "            uri = segs[1].replace('github.com', 'raw.githubusercontent.com')\n",
    "            mod = uri.split('/')\n",
    "            uri = 'https://' + '/'.join(mod[:-1]) + '/main/' + mod[-1] + '.py'\n",
    "            x = requests.get(uri).text\n",
    "        elif 'gitee.com' in segs[1]:\n",
    "            mod = segs[1].split('/')\n",
    "            uri = 'https://' + '/'.join(mod[:-1]) + '/raw/main/' + mod[-1] + '.py'\n",
    "            x = requests.get(uri).text\n",
    "        elif segs[1][0] == '/':\n",
    "            with open(segs[1] + '.py') as fr:\n",
    "                x = fr.read()\n",
    "        exec(x, g)\n",
    "    except Exception as err:\n",
    "        print(err)\n",
    "\n",
    "def print_progress_bar(x):\n",
    "    print('\\r', end='')\n",
    "    print('Progress: {}%:'.format(x), '%s%s' % ('▋'*(x//2), '.'*((100-x)//2)), end='')\n",
    "    sys.stdout.flush()\n",
    "\n",
    "def img2b64(x):\n",
    "    if isinstance(x, bytes):\n",
    "        return base64.b64encode(x).decode()\n",
    "    elif isinstance(x, str):\n",
    "        with open(x, 'rb') as fr:\n",
    "            return base64.b64encode(fr.read()).decode()\n",
    "    raise\n",
    "  "
   ]
  },
  {
   "cell_type": "code",
   "execution_count": 2,
   "id": "valued-salvation",
   "metadata": {
    "ExecuteTime": {
     "end_time": "2021-08-13T10:45:03.513139Z",
     "start_time": "2021-08-13T10:45:02.198430Z"
    },
    "hide_input": true
   },
   "outputs": [],
   "source": [
    "###\n",
    "### Common ###\n",
    "###\n",
    "\n",
    "_IMPORT_('import numpy as np')\n",
    "_IMPORT_('import pandas as pd')\n",
    "_IMPORT_('from tqdm.notebook import tqdm')\n",
    "\n",
    "\n",
    "\n",
    "###\n",
    "### Display ###\n",
    "###\n",
    "\n",
    "_IMPORT_('import cv2')\n",
    "_IMPORT_('from PIL import Image')\n",
    "_IMPORT_('from torchvision.utils import make_grid')\n",
    "_IMPORT_('import matplotlib.pyplot as plt')\n",
    "_IMPORT_('import plotly')\n",
    "_IMPORT_('import plotly.graph_objects as go')\n",
    "_IMPORT_('import ipywidgets as widgets')\n",
    "_IMPORT_('from ipywidgets import interact, interactive, fixed, interact_manual')\n",
    "\n",
    "# plotly.offline.init_notebook_mode(connected=False)\n",
    "\n",
    "plt.rcParams['figure.figsize'] = (12.0, 8.0)"
   ]
  },
  {
   "cell_type": "code",
   "execution_count": 3,
   "id": "little-symposium",
   "metadata": {
    "ExecuteTime": {
     "end_time": "2021-08-13T10:45:03.676828Z",
     "start_time": "2021-08-13T10:45:03.515572Z"
    }
   },
   "outputs": [],
   "source": [
    "_IMPORT_('import /data/nb_easy/easy_widget')"
   ]
  },
  {
   "cell_type": "markdown",
   "id": "7b5e2d8e",
   "metadata": {},
   "source": [
    "1. 木槌加固 \n",
    "\n",
    "- https://frepai.s3.didiyunapi.com/live/002b359e3931/20211129/videos/20211129073051.mp4\n",
    "\n",
    "- https://frepai.s3.didiyunapi.com/live/002b359e3931/20211129/videos/20211129100151.mp4\n",
    "\n",
    "2. 机器切割\n",
    "\n",
    "- https://frepai.s3.didiyunapi.com/live/00856405d389/20211129/videos/20211129105232.mp4 \n",
    "\n",
    "    {'cfg': {'angle': 90.0,\n",
    "             'area_rate_threshold': 0.005,\n",
    "             'batch_size': 20,\n",
    "             'best_stride_video': True,\n",
    "             'constant_speed': False,\n",
    "             'detect_focus': False,\n",
    "             'focus_box': [0.46, 0.4, 0.52, 0.5],\n",
    "             'focus_box_repnum': 6,\n",
    "             'fully_periodic': False,\n",
    "             'median_filter': True,\n",
    "             'osd_feat': False,\n",
    "             'osd_sims': True,\n",
    "             'pigeon': {'msgkey': 'nb.zmq.repnet_tf.gamma102'},\n",
    "             'rm_still': True,\n",
    "             'save_video': False,\n",
    "             'strides': [1],\n",
    "             'temperature': 13.544,\n",
    "             'video': 'https://frepai.s3.didiyunapi.com/live/00856405d389/20211129/videos/20211129105232.mp4'},\n",
    "     'task': 'zmq.repnet_tf.inference'}"
   ]
  },
  {
   "cell_type": "code",
   "execution_count": 4,
   "id": "f9913d2e",
   "metadata": {},
   "outputs": [],
   "source": [
    "# 翻边参数\n",
    "case1 = {\n",
    "     '_cfg.accuracy': 0.0,\n",
    "     '_cfg.angle': True,\n",
    "     '_cfg.black_box': False,\n",
    "     '_cfg.focus_box': True,\n",
    "     '_cfg.focus_center': [0.3, 0.35],\n",
    "     '_cfg.skewing': 'No',\n",
    "     'cfg.angle': 90.0,\n",
    "     'cfg.area_rate_threshold': 0.01,\n",
    "     'cfg.batch_size': 20,\n",
    "     'cfg.best_stride_video': True,\n",
    "     'cfg.constant_speed': False,\n",
    "     'cfg.detect_focus': False,\n",
    "     'cfg.focus_box': [0.346, 0.152, 0.518, 0.925],\n",
    "     'cfg.focus_box_repnum': 2,\n",
    "     'cfg.fully_periodic': False,\n",
    "     'cfg.median_filter': True,\n",
    "     'cfg.osd_feat': False,\n",
    "     'cfg.osd_sims': True,\n",
    "     'cfg.pigeon.msgkey': 'nb.zmq.repnet_tf.gamma102',\n",
    "     'cfg.rm_still': True,\n",
    "     'cfg.save_video': False,\n",
    "     'cfg.strides': [4, 6],\n",
    "     'cfg.temperature': 13.544,\n",
    "     'cfg.video': 'https://frepai.s3.didiyunapi.com/live/00856405d389/20211130/videos/20211130132243.mp4',\n",
    "     'task': 'zmq.repnet_tf.inference'}\n",
    "\n",
    "# 机器焊接\n",
    "\n",
    "case2 = {\n",
    "    '_cfg.accuracy': 0.0,\n",
    "    '_cfg.angle': False,\n",
    "    '_cfg.black_box': False,\n",
    "    '_cfg.focus_box': True,\n",
    "    '_cfg.focus_center': [0.3, 0.35],\n",
    "    '_cfg.reg_factor': True,\n",
    "    '_cfg.skewing': 'No',\n",
    "    'cfg.area_rate_threshold': 0.002,\n",
    "    'cfg.batch_size': 20,\n",
    "    'cfg.best_stride_video': True,\n",
    "    'cfg.constant_speed': False,\n",
    "    'cfg.detect_focus': False,\n",
    "    'cfg.focus_box': [0.45, 0.5, 0.65, 0.75],\n",
    "    'cfg.focus_box_repnum': 3,\n",
    "    'cfg.fully_periodic': False,\n",
    "    'cfg.median_filter': True,\n",
    "    'cfg.osd_feat': False,\n",
    "    'cfg.osd_sims': True,\n",
    "    'cfg.pigeon.msgkey': 'nb.zmq.repnet_tf.gamma102',\n",
    "    'cfg.reg_factor': 2.0,\n",
    "    'cfg.rm_still': True,\n",
    "    'cfg.save_video': False,\n",
    "    'cfg.strides': [40, 45],\n",
    "    'cfg.temperature': 13.544,\n",
    "    'cfg.video': 'https://frepai.s3.didiyunapi.com/live/00232ee8876d/20211130/videos/20211130074113.mp4',\n",
    "    'task': 'zmq.repnet_tf.inference'}\n",
    "\n",
    "\n",
    "# 机器切割\n",
    "\n",
    "case3 = {\n",
    "    '_cfg.accuracy': 0.0,\n",
    "    '_cfg.angle': True,\n",
    "    '_cfg.black_box': False,\n",
    "    '_cfg.focus_box': True,\n",
    "    '_cfg.reg_factor': False,\n",
    "    '_cfg.focus_center': [0.3, 0.35],\n",
    "    '_cfg.skewing': 'No',\n",
    "    'cfg.angle': 90.0,\n",
    "    'cfg.area_rate_threshold': 0.005,\n",
    "    'cfg.batch_size': 20,\n",
    "    'cfg.best_stride_video': True,\n",
    "    'cfg.constant_speed': False,\n",
    "    'cfg.detect_focus': False,\n",
    "    'cfg.focus_box': [0.448, 0.39, 0.53, 0.54],\n",
    "    'cfg.focus_box_repnum': 6,\n",
    "    'cfg.fully_periodic': False,\n",
    "    'cfg.median_filter': True,\n",
    "    'cfg.osd_feat': False,\n",
    "    'cfg.osd_sims': True,\n",
    "    'cfg.pigeon.msgkey': 'nb.zmq.repnet_tf.gamma102',\n",
    "    'cfg.rm_still': True,\n",
    "    'cfg.save_video': False,\n",
    "    'cfg.strides': [1],\n",
    "    'cfg.temperature': 13.544,\n",
    "    'cfg.video': 'https://frepai.s3.didiyunapi.com/live/00856405d389/20211130/videos/20211130132743.mp4',\n",
    "    'task': 'zmq.repnet_tf.inference'}\n",
    "\n",
    "\n",
    "# 坐姿切割\n",
    "\n",
    "# 木槌加固\n",
    "\n",
    "# https://frepai.s3.didiyunapi.com/live/002b359e3931/20211129/videos/20211129073051.mp4\n",
    "\n",
    "case5 = {\n",
    "    '_cfg.accuracy': 0.0,\n",
    "    '_cfg.angle': False,\n",
    "    '_cfg.black_box': False,\n",
    "    '_cfg.focus_box': True,\n",
    "    '_cfg.focus_center': [0.3, 0.35],\n",
    "    '_cfg.reg_factor': False,\n",
    "    '_cfg.skewing': 'No',\n",
    "    'cfg.area_rate_threshold': 0.01,\n",
    "    'cfg.batch_size': 20,\n",
    "    'cfg.best_stride_video': True,\n",
    "    'cfg.constant_speed': False,\n",
    "    'cfg.detect_focus': False,\n",
    "    'cfg.focus_box': [0.25, 0.05, 0.58, 0.99],\n",
    "    'cfg.focus_box_repnum': 2,\n",
    "    'cfg.fully_periodic': False,\n",
    "    'cfg.median_filter': True,\n",
    "    'cfg.osd_feat': False,\n",
    "    'cfg.osd_sims': True,\n",
    "    'cfg.pigeon.msgkey': 'nb.zmq.repnet_tf.gamma102',\n",
    "    'cfg.rm_still': True,\n",
    "    'cfg.save_video': False,\n",
    "    'cfg.strides': [6, 8],\n",
    "    'cfg.temperature': 13.544,\n",
    "    'cfg.video': 'https://frepai.s3.didiyunapi.com/live/002b359e3931/20211130/videos/20211130112549.mp4',\n",
    "    'task': 'zmq.repnet_tf.inference'}"
   ]
  },
  {
   "cell_type": "markdown",
   "id": "logical-registration",
   "metadata": {},
   "source": [
    "## 解析配置"
   ]
  },
  {
   "cell_type": "code",
   "execution_count": 9,
   "id": "subject-movement",
   "metadata": {
    "ExecuteTime": {
     "end_time": "2021-08-13T10:45:05.942721Z",
     "start_time": "2021-08-13T10:45:03.679216Z"
    },
    "code_folding": [
     0
    ],
    "scrolled": false
   },
   "outputs": [
    {
     "data": {
      "application/vnd.jupyter.widget-view+json": {
       "model_id": "920007bed8194ee7b32341031f9d9448",
       "version_major": 2,
       "version_minor": 0
      },
      "text/plain": [
       "Box(children=(Box(children=(VBox(children=(Tab(children=(VBox(children=(HBox(children=(Text(value='zmq.repnet_…"
      ]
     },
     "metadata": {},
     "output_type": "display_data"
    }
   ],
   "source": [
    "from utils import EVENTS\n",
    "\n",
    "RACEURL = 'http://116.85.27.115:9119'\n",
    "MSGKEY = 'nb.zmq.repnet_tf.gamma102'\n",
    "\n",
    "with open('schema.json', 'r') as fr:\n",
    "    schema_string = fr.read()\n",
    "    schema_string = schema_string.replace('zmq.repnet_tf.test', MSGKEY)\n",
    "    schema_string = schema_string.replace('http://host:port', RACEURL)\n",
    "    schema = json.loads(schema_string)\n",
    "easy = nbeasy_schema_parse(schema, events=EVENTS, debug=True);"
   ]
  },
  {
   "cell_type": "code",
   "execution_count": 6,
   "id": "9edc2d4c",
   "metadata": {
    "code_folding": []
   },
   "outputs": [],
   "source": [
    "# easy.set_widget_values(case3)"
   ]
  },
  {
   "cell_type": "code",
   "execution_count": 7,
   "id": "4393ca3c",
   "metadata": {},
   "outputs": [
    {
     "ename": "SyntaxError",
     "evalue": "invalid syntax (<ipython-input-7-d0c3e65d0a9b>, line 1)",
     "output_type": "error",
     "traceback": [
      "\u001b[0;36m  File \u001b[0;32m\"<ipython-input-7-d0c3e65d0a9b>\"\u001b[0;36m, line \u001b[0;32m1\u001b[0m\n\u001b[0;31m    https://frepai-1301930378.s3.didiyunapi.com/live/00335ebc0407/20220107/videos/20220107150310.mp4\u001b[0m\n\u001b[0m           ^\u001b[0m\n\u001b[0;31mSyntaxError\u001b[0m\u001b[0;31m:\u001b[0m invalid syntax\n"
     ]
    }
   ],
   "source": [
    "https://frepai-1301930378.s3.didiyunapi.com/live/00335ebc0407/20220107/videos/20220107150310.mp4\n",
    "https://frepai-1301930378.cos.ap-beijing.myqcloud.com/live/00335ebc0407/20220107/videos/20220107150414.mp4"
   ]
  },
  {
   "cell_type": "markdown",
   "id": "prescription-aluminum",
   "metadata": {},
   "source": [
    "## TMP"
   ]
  },
  {
   "cell_type": "markdown",
   "id": "ff992cbe",
   "metadata": {},
   "source": [
    "http://82.157.33.156:9119/frepai/framework/inference\n",
    "\n",
    "```json\n",
    "{\n",
    "    \"task\": \"zmq.repnet_tf.inference\", \n",
    "    \"cfg\": {\n",
    "        \"pigeon\": {\n",
    "            \"msgkey\": \"factory:action.inference.queue\", \n",
    "            \"push_video_addr\": \"https://frepai-1301930378.cos.ap-beijing.myqcloud.com/test/20211208/20211208163453.mp4\", \n",
    "            \"created_at\": \"2021-12-2909:07:38\", \n",
    "            \"etag\": \"ff0eeee3205e8de477638b92d7f69a1d\", \n",
    "            \"major\": 314023, \n",
    "            \"mac_addr\": \"00fb00f23a41\", \n",
    "            \"uuid\": \"SSAC-233524-DFDCC\", \n",
    "            \"video_id\": 0\n",
    "        }, \n",
    "        \"video\": \"https://frepai-1301930378.cos.ap-beijing.myqcloud.com/test/20211208/20211208163453.mp4\", \n",
    "        \"constant_speed\": false, \n",
    "        \"median_filter\": true, \n",
    "        \"fully_periodic\": false, \n",
    "        \"batch_size\": 20, \n",
    "        \"temperature\": 13.544, \n",
    "        \"strides\": [\n",
    "            3\n",
    "        ], \n",
    "        \"angle\": 90, \n",
    "        \"reg_factor\": 1, \n",
    "        \"detect_focus\": false, \n",
    "        \"focus_box\": [\n",
    "            0.35, \n",
    "            0.38, \n",
    "            0.4, \n",
    "            0.48\n",
    "        ], \n",
    "        \"focus_box_repnum\": 6, \n",
    "        \"black_box\": [\n",
    "            0, \n",
    "            0, \n",
    "            0, \n",
    "            0\n",
    "        ], \n",
    "        \"black_overlay\": false, \n",
    "        \"rm_still\": true, \n",
    "        \"area_rate_threshold\": 0.01, \n",
    "        \"best_stride_video\": false, \n",
    "        \"osd_sims\": false, \n",
    "        \"osd_feat\": false, \n",
    "        \"save_video\": false, \n",
    "        \"sumcnt\": 0\n",
    "    }\n",
    "}\n",
    "```"
   ]
  }
 ],
 "metadata": {
  "hide_input": false,
  "kernelspec": {
   "display_name": "Python 3",
   "language": "python",
   "name": "python3"
  },
  "language_info": {
   "codemirror_mode": {
    "name": "ipython",
    "version": 3
   },
   "file_extension": ".py",
   "mimetype": "text/x-python",
   "name": "python",
   "nbconvert_exporter": "python",
   "pygments_lexer": "ipython3",
   "version": "3.6.9"
  },
  "toc": {
   "base_numbering": 1,
   "nav_menu": {},
   "number_sections": true,
   "sideBar": true,
   "skip_h1_title": true,
   "title_cell": "",
   "title_sidebar": "Contents",
   "toc_cell": false,
   "toc_position": {},
   "toc_section_display": true,
   "toc_window_display": false
  }
 },
 "nbformat": 4,
 "nbformat_minor": 5
}
