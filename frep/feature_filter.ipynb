{
 "cells": [
  {
   "cell_type": "markdown",
   "id": "loose-canyon",
   "metadata": {},
   "source": [
    "## 引入工具"
   ]
  },
  {
   "cell_type": "code",
   "execution_count": 1,
   "id": "according-success",
   "metadata": {
    "ExecuteTime": {
     "end_time": "2021-08-17T08:31:39.423357Z",
     "start_time": "2021-08-17T08:31:37.027520Z"
    },
    "hide_input": true
   },
   "outputs": [],
   "source": [
    "%reload_ext watermark\n",
    "%reload_ext autoreload\n",
    "%autoreload 2\n",
    "# %watermark -p numpy,sklearn,pandas\n",
    "# %watermark -p ipywidgets,cv2,PIL,matplotlib,plotly,netron\n",
    "# %watermark -p torch,torchvision,torchaudio\n",
    "# %watermark -p tensorflow,tensorboard,tflite\n",
    "# %watermark -p onnx,tf2onnx,onnxruntime,tensorrt,tvm\n",
    "# %matplotlib inline\n",
    "# %config InlineBackend.figure_format='retina'\n",
    "%config IPCompleter.use_jedi = False\n",
    "\n",
    "# from IPython.display import display, Markdown, HTML, IFrame, Image, Javascript\n",
    "# from IPython.core.magic import register_line_cell_magic, register_line_magic, register_cell_magic\n",
    "# display(HTML('<style>.container { width:%d%% !important; }</style>' % 90))\n",
    "\n",
    "import sys, os, io, logging, time, random, math\n",
    "import json, base64, requests, shutil\n",
    "import argparse, shlex, signal\n",
    "import numpy as np\n",
    "\n",
    "argparse.ArgumentParser.exit = lambda *arg, **kwargs: _IGNORE_\n",
    "\n",
    "def _IMPORT(x):\n",
    "    try: \n",
    "        x = x.strip()\n",
    "        if x[0] == '/':\n",
    "            with open(x) as fr:\n",
    "                x = fr.read()\n",
    "        elif 'github' in x or 'gitee' in x:\n",
    "            if x.startswith('import '):\n",
    "                x = x[7:]\n",
    "            if x.startswith('https://'):\n",
    "                x = x[8:]\n",
    "            if not x.endswith('.py'):\n",
    "                x = x + '.py'\n",
    "            x = x.replace('blob/main/', '').replace('blob/master/', '')\n",
    "            if x.startswith('raw.githubusercontent.com'):\n",
    "                uri = 'https://' + x\n",
    "                x = requests.get(uri)\n",
    "                if x.status_code == 200:\n",
    "                    x = x.text\n",
    "            elif x.startswith('github.com'):\n",
    "                uri = x.replace('github.com', 'raw.githubusercontent.com')\n",
    "                mod = uri.split('/')\n",
    "                for s in ['main', 'master']:\n",
    "                    uri = 'https://' + '/'.join(mod[:3]) + s + '/'.join(mod[-3:])\n",
    "                    x = requests.get(uri)\n",
    "                    if x.status_code == 200:\n",
    "                        x = x.text\n",
    "                        break\n",
    "            elif x.startswith('gitee.com'):\n",
    "                mod = x.split('/')\n",
    "                for s in ['/raw/main/', '/raw/master/']:\n",
    "                    uri = 'https://' + '/'.join(mod[:3]) + s + '/'.join(mod[3:])\n",
    "                    x = requests.get(uri)\n",
    "                    if x.status_code == 200:\n",
    "                        x = x.text\n",
    "                        break\n",
    "        exec(x, globals())\n",
    "    except:\n",
    "        pass\n",
    "\n",
    "def _DIR(x, dumps=True, ret=True):\n",
    "    attrs = sorted([y for y in dir(x) if not y.startswith('_')])\n",
    "    result = '%s: %s' % (str(type(x))[8:-2], json.dumps(attrs) if dumps else attrs)\n",
    "    if ret:\n",
    "        return result\n",
    "    print(result)\n"
   ]
  },
  {
   "cell_type": "markdown",
   "id": "logical-registration",
   "metadata": {},
   "source": [
    "## 解析配置"
   ]
  },
  {
   "cell_type": "code",
   "execution_count": 2,
   "id": "different-worth",
   "metadata": {
    "ExecuteTime": {
     "end_time": "2021-08-17T08:31:40.077515Z",
     "start_time": "2021-08-17T08:31:40.009998Z"
    },
    "hide_input": false
   },
   "outputs": [],
   "source": [
    "_IMPORT('/data/nb_easy/easy_widget.py')"
   ]
  },
  {
   "cell_type": "code",
   "execution_count": 26,
   "id": "33be77f4",
   "metadata": {},
   "outputs": [],
   "source": [
    "from utils import oss_put_bytes"
   ]
  },
  {
   "cell_type": "code",
   "execution_count": 3,
   "id": "subject-movement",
   "metadata": {
    "ExecuteTime": {
     "end_time": "2021-08-17T08:31:41.036307Z",
     "start_time": "2021-08-17T08:31:40.080350Z"
    },
    "code_folding": [
     0
    ],
    "scrolled": false
   },
   "outputs": [
    {
     "data": {
      "application/vnd.jupyter.widget-view+json": {
       "model_id": "85627e424d54447ead777994f8e20427",
       "version_major": 2,
       "version_minor": 0
      },
      "text/plain": [
       "Box(children=(Box(children=(VBox(children=(Tab(children=(VBox(children=(HBox(children=(Text(value='zmq.repnet_…"
      ]
     },
     "metadata": {},
     "output_type": "display_data"
    }
   ],
   "source": [
    "from utils import EVENTS\n",
    "\n",
    "RACEURL = 'http://116.85.27.115:9119'\n",
    "MSGKEY = 'nb.zmq.repnet_tf.gamma102'\n",
    "\n",
    "with open('schema.json', 'r') as fr:\n",
    "    schema_string = fr.read()\n",
    "    schema_string = schema_string.replace('zmq.repnet_tf.test', MSGKEY)\n",
    "    schema_string = schema_string.replace('http://host:port', RACEURL)\n",
    "    schema = json.loads(schema_string)\n",
    "easy = nbeasy_schema_parse(schema, events=EVENTS, debug=True);"
   ]
  },
  {
   "cell_type": "code",
   "execution_count": null,
   "id": "e47aba26",
   "metadata": {},
   "outputs": [],
   "source": []
  },
  {
   "cell_type": "code",
   "execution_count": 4,
   "id": "7f334c87",
   "metadata": {},
   "outputs": [
    {
     "ename": "RuntimeError",
     "evalue": "No active exception to reraise",
     "output_type": "error",
     "traceback": [
      "\u001b[0;31m\u001b[0m",
      "\u001b[0;31mRuntimeError\u001b[0mTraceback (most recent call last)",
      "\u001b[0;32m<ipython-input-4-9c9a2cba73bf>\u001b[0m in \u001b[0;36m<module>\u001b[0;34m\u001b[0m\n\u001b[0;32m----> 1\u001b[0;31m \u001b[0;32mraise\u001b[0m\u001b[0;34m\u001b[0m\u001b[0;34m\u001b[0m\u001b[0m\n\u001b[0m",
      "\u001b[0;31mRuntimeError\u001b[0m: No active exception to reraise"
     ]
    }
   ],
   "source": [
    "raise"
   ]
  },
  {
   "cell_type": "markdown",
   "id": "180b3a17",
   "metadata": {},
   "source": [
    "1. https://frepai.s3.didiyunapi.com/datasets/vod/木槌加固/20211206123823.mp4"
   ]
  },
  {
   "cell_type": "markdown",
   "id": "405c699b",
   "metadata": {},
   "source": [
    "## Tools"
   ]
  },
  {
   "cell_type": "code",
   "execution_count": 5,
   "id": "9a849239",
   "metadata": {},
   "outputs": [],
   "source": [
    "import numpy as np\n",
    "import time\n",
    "from sklearn.manifold import TSNE\n",
    "import matplotlib.pyplot as plt\n",
    "from mpl_toolkits.mplot3d import Axes3D\n",
    "import seaborn as sns\n",
    "import matplotlib.patheffects as PathEffects\n",
    "from sklearn.decomposition import PCA\n",
    "from scipy import stats\n",
    "import pandas as pd\n",
    "from sklearn import preprocessing\n",
    "\n",
    "from matplotlib.colors import LogNorm\n",
    "import itertools \n",
    "# axes = list(itertools.chain.from_iterable(axes))\n",
    "from sklearn.manifold import Isomap\n",
    "\n",
    "from scipy.signal import medfilt\n",
    "import scipy.signal as signal\n",
    "from statsmodels.distributions.empirical_distribution import ECDF\n",
    "import pickle\n",
    "import hashlib"
   ]
  },
  {
   "cell_type": "code",
   "execution_count": 6,
   "id": "c020b5e4",
   "metadata": {},
   "outputs": [],
   "source": [
    "def _denormal_image(x):\n",
    "    x -= x.mean()\n",
    "    x /= x.std()\n",
    "    x *= 64\n",
    "    x += 128\n",
    "    x = np.clip(x, 0, 255).astype('uint8')\n",
    "    return x"
   ]
  },
  {
   "cell_type": "code",
   "execution_count": 7,
   "id": "6e1c0328",
   "metadata": {},
   "outputs": [],
   "source": [
    "def outlier_detection(data):\n",
    "    q1, q3 = np.percentile(data, [25, 75])\n",
    "    iqr = q3 - q1\n",
    "    lower_bound = q1 - (iqr * 1.5)\n",
    "    upper_bound = q3 + (iqr * 1.5)\n",
    "    return np.where((data < lower_bound) | (data > upper_bound))"
   ]
  },
  {
   "cell_type": "code",
   "execution_count": 8,
   "id": "1c36fe60",
   "metadata": {},
   "outputs": [],
   "source": [
    "def plot_scatter(data, colors=None):\n",
    "    if len(data.shape) != 2:\n",
    "        xs = range(len(data))\n",
    "        ys = data\n",
    "    else:\n",
    "        if data.shape[1] == 1:\n",
    "            ys = data[:, 0]\n",
    "            xs = range(len(data))\n",
    "        else:\n",
    "            xs = data[:, 0]\n",
    "            ys = data[:, 1]\n",
    "        \n",
    "    plt.figure(figsize=(12, 12))\n",
    "    ax = plt.subplot(aspect='equal')\n",
    "    ax.scatter(xs, ys, c=colors, edgecolor='none', cmap=plt.cm.get_cmap('Paired', 2))\n",
    "    plt.xlim(-25, 25)\n",
    "    plt.ylim(-25, 25)\n",
    "    ax.axis('on')\n",
    "    ax.axis('tight')"
   ]
  },
  {
   "cell_type": "code",
   "execution_count": 9,
   "id": "f47a11f6",
   "metadata": {},
   "outputs": [],
   "source": [
    "def draw_osd_sim(sim, size=128, figsize=(8, 8)):\n",
    "    fig, ax = plt.subplots(figsize=figsize)\n",
    "    plt.axis('off')\n",
    "    # fig.set_size_inches(size / 100.0, size / 100.0)\n",
    "    plt.gca().xaxis.set_major_locator(plt.NullLocator())\n",
    "    plt.gca().yaxis.set_major_locator(plt.NullLocator())\n",
    "    plt.subplots_adjust(top=1, bottom=0, left=0, right=1, hspace=0, wspace=0)\n",
    "    plt.margins(0,0)\n",
    "    plt.imshow(sim, cmap='hot', interpolation='nearest', norm=LogNorm())"
   ]
  },
  {
   "cell_type": "code",
   "execution_count": 10,
   "id": "5653fcee",
   "metadata": {},
   "outputs": [],
   "source": [
    "def moving_average(arr, axis=0, wsize=3):\n",
    "    return np.apply_along_axis(lambda m: np.convolve(m, np.ones(wsize)/wsize, mode='same'), axis=axis, arr=arr)\n",
    "\n",
    "def np_info(data):\n",
    "    print('%.5f' % data.min(), '%.5f' % data.max(), '%.5f' % data.mean(), '%.5f' % data.std())"
   ]
  },
  {
   "cell_type": "markdown",
   "id": "bb8a32d3",
   "metadata": {},
   "source": [
    "## Datasets"
   ]
  },
  {
   "cell_type": "code",
   "execution_count": 11,
   "id": "f794e9a1",
   "metadata": {},
   "outputs": [],
   "source": [
    "EMBS_DIR = '/data/embs2'"
   ]
  },
  {
   "cell_type": "code",
   "execution_count": 12,
   "id": "dfc7254a",
   "metadata": {},
   "outputs": [],
   "source": [
    "%%bash\n",
    "\n",
    "DST_DIR=/data/embs2\n",
    "URL_PREFIX=https://frepai.s3.didiyunapi.com/datasets/office/outputs\n",
    "\n",
    "FILES=(\n",
    "    'https://frepai.s3.didiyunapi.com/datasets/office/outputs/pencil_sharpener_001/1639375702/embs_sims.npy'\n",
    "    'https://frepai.s3.didiyunapi.com/datasets/office/outputs/pencil_sharpener_002/1639376328/embs_sims.npy'\n",
    "    'https://frepai.s3.didiyunapi.com/datasets/office/outputs/pencil_sharpener_003/1639377064/embs_sims.npy'\n",
    "    'https://frepai.s3.didiyunapi.com/datasets/office/outputs/pencil_sharpener_004/1639378388/embs_sims.npy'\n",
    "    'https://frepai.s3.didiyunapi.com/datasets/office/outputs/pencil_sharpener_005/1639379023/embs_sims.npy'\n",
    "    'https://frepai.s3.didiyunapi.com/datasets/office/outputs/test_001/1639379368/embs_sims.npy'\n",
    "    'https://frepai.s3.didiyunapi.com/datasets/office/outputs/test_002/1639380071/embs_sims.npy'\n",
    "    \n",
    "    \n",
    "    'https://frepai.s3.didiyunapi.com/datasets/office/outputs/pencil_sharpener_001/1639381130/embs_sims.npy'\n",
    "    'https://frepai.s3.didiyunapi.com/datasets/office/outputs/pencil_sharpener_002/1639381266/embs_sims.npy'\n",
    "    'https://frepai.s3.didiyunapi.com/datasets/office/outputs/pencil_sharpener_003/1639381312/embs_sims.npy'\n",
    "    'https://frepai.s3.didiyunapi.com/datasets/office/outputs/pencil_sharpener_004/1639381364/embs_sims.npy'\n",
    "    'https://frepai.s3.didiyunapi.com/datasets/office/outputs/pencil_sharpener_005/1639381425/embs_sims.npy'\n",
    "    'https://frepai.s3.didiyunapi.com/datasets/office/outputs/test_001/1639381475/embs_sims.npy'\n",
    "    'https://frepai.s3.didiyunapi.com/datasets/office/outputs/test_002/1639381535/embs_sims.npy'\n",
    "    \n",
    "    \n",
    "    'https://frepai.s3.didiyunapi.com/datasets/office/outputs/test2_001/1639382370/embs_sims.npy'\n",
    "    'https://frepai.s3.didiyunapi.com/datasets/office/outputs/test2_002/1639382558/embs_sims.npy'\n",
    ")\n",
    "\n",
    "for file_ts in ${FILES[@]}\n",
    "do\n",
    "    if [[ ${file_ts:0:8} == 'https://' ]]\n",
    "    then\n",
    "        file=`echo ${file_ts:8} | cut -d/ -f6`\n",
    "        if [[ ! -f $DST_DIR/${file}_feat.npy ]]\n",
    "        then\n",
    "            file=`echo ${file_ts:8} | cut -d/ -f6`\n",
    "            echo $DST_DIR $file_ts\n",
    "            wget -q -P $DST_DIR $file_ts\n",
    "            echo $DST_DIR ${file_ts/sims.npy/feat.npy}\n",
    "            wget -q -P $DST_DIR ${file_ts/sims.npy/feat.npy}\n",
    "            mv $DST_DIR/embs_feat.npy $DST_DIR/${file}_feat.npy\n",
    "            mv $DST_DIR/embs_sims.npy $DST_DIR/${file}_sims.npy\n",
    "        fi\n",
    "    else\n",
    "        file=`echo $file_ts | cut -d/ -f1`\n",
    "        if [[ ! -f $DST_DIR/${file}_feat.npy ]]\n",
    "        then\n",
    "            echo $DST_DIR $URL_PREFIX/$file_ts/embs_sims.npy\n",
    "            wget -q -P $DST_DIR $URL_PREFIX/$file_ts/embs_sims.npy\n",
    "            echo $DST_DIR $URL_PREFIX/$file_ts/embs_feat.npy\n",
    "            wget -q -P $DST_DIR $URL_PREFIX/$file_ts/embs_feat.npy\n",
    "            mv $DST_DIR/embs_feat.npy $DST_DIR/${file}_feat.npy\n",
    "            mv $DST_DIR/embs_sims.npy $DST_DIR/${file}_sims.npy\n",
    "        fi\n",
    "    fi\n",
    "done"
   ]
  },
  {
   "cell_type": "markdown",
   "id": "6631a241",
   "metadata": {},
   "source": [
    "### Pos Datasets"
   ]
  },
  {
   "cell_type": "code",
   "execution_count": 13,
   "id": "d4b84221",
   "metadata": {},
   "outputs": [],
   "source": [
    "pos_embs_files = (\n",
    "    '1639375702',\n",
    "    '1639376328',\n",
    "    '1639377064',\n",
    "    '1639378388',\n",
    "    '1639379023',\n",
    ")"
   ]
  },
  {
   "cell_type": "code",
   "execution_count": 14,
   "id": "bbcdc3ae",
   "metadata": {},
   "outputs": [],
   "source": [
    "pos_embs_files2 = (\n",
    "    '1639381130',\n",
    "    '1639381266',\n",
    "    '1639381312',\n",
    "    '1639381364',\n",
    "    '1639381425',\n",
    ")"
   ]
  },
  {
   "cell_type": "code",
   "execution_count": 15,
   "id": "f265b631",
   "metadata": {},
   "outputs": [
    {
     "data": {
      "text/plain": [
       "(70, 64, 512)"
      ]
     },
     "execution_count": 15,
     "metadata": {},
     "output_type": "execute_result"
    }
   ],
   "source": [
    "pos_feat_list = []\n",
    "for s in pos_embs_files2:\n",
    "    pos_feat_list.append(np.load(f'{EMBS_DIR}/{s}_feat.npy'))\n",
    "    \n",
    "pos_feat_np = np.concatenate(pos_feat_list, axis=0)\n",
    "pos_feat_np.shape"
   ]
  },
  {
   "cell_type": "code",
   "execution_count": 121,
   "id": "bce51283",
   "metadata": {
    "deletable": false,
    "editable": false,
    "run_control": {
     "frozen": true
    },
    "scrolled": true
   },
   "outputs": [
    {
     "data": {
      "text/plain": [
       "(103, 64, 64)"
      ]
     },
     "execution_count": 121,
     "metadata": {},
     "output_type": "execute_result"
    }
   ],
   "source": [
    "pos_sims_list = []\n",
    "for s in pos_embs_files:\n",
    "    pos_sims_list.append(np.load(f'{EMBS_DIR}/{s}_sims.npy')[1:-1])\n",
    "    \n",
    "pos_sims_np = np.vstack(pos_sims_list)\n",
    "pos_sims_np.shape"
   ]
  },
  {
   "cell_type": "markdown",
   "id": "f93414e5",
   "metadata": {},
   "source": [
    "### Neg Datasets"
   ]
  },
  {
   "cell_type": "code",
   "execution_count": 16,
   "id": "dff6a3d9",
   "metadata": {},
   "outputs": [],
   "source": [
    "neg_embs_files = (\n",
    "    '1639379368',\n",
    "    '1639380071',\n",
    ")"
   ]
  },
  {
   "cell_type": "code",
   "execution_count": 17,
   "id": "979ff58e",
   "metadata": {
    "code_folding": []
   },
   "outputs": [],
   "source": [
    "neg_embs_files2 = (\n",
    "    '1639381475',\n",
    "    '1639381535',\n",
    ")"
   ]
  },
  {
   "cell_type": "code",
   "execution_count": 18,
   "id": "89a090f7",
   "metadata": {
    "code_folding": []
   },
   "outputs": [],
   "source": [
    "# misc\n",
    "neg_embs_files3 = (\n",
    "    '1639382370',\n",
    "    '1639382558',\n",
    ")"
   ]
  },
  {
   "cell_type": "code",
   "execution_count": 19,
   "id": "c7606a66",
   "metadata": {},
   "outputs": [
    {
     "data": {
      "text/plain": [
       "(24, 64, 512)"
      ]
     },
     "execution_count": 19,
     "metadata": {},
     "output_type": "execute_result"
    }
   ],
   "source": [
    "neg_feat_list = []\n",
    "for s in neg_embs_files3:\n",
    "    neg_feat_list.append(np.load(f'{EMBS_DIR}/{s}_feat.npy'))\n",
    "    \n",
    "neg_feat_np = np.vstack(neg_feat_list)\n",
    "neg_feat_np.shape"
   ]
  },
  {
   "cell_type": "markdown",
   "id": "c10cf6c8",
   "metadata": {},
   "source": [
    "### KSTest"
   ]
  },
  {
   "cell_type": "code",
   "execution_count": 20,
   "id": "e3b160ea",
   "metadata": {},
   "outputs": [],
   "source": [
    "scaler1 = preprocessing.StandardScaler()\n",
    "scaler2 = preprocessing.MinMaxScaler()\n",
    "scaler3 = preprocessing.RobustScaler(quantile_range=(25., 75.))\n",
    "scaler4 = preprocessing.Normalizer()\n",
    "NC = 100\n",
    "pca = PCA(n_components=NC)\n",
    "ios = Isomap(n_components=NC)\n",
    "# tril = np.tril_indices(64)\n",
    "# tsne = TSNE(n_components=2, random_state=0)"
   ]
  },
  {
   "cell_type": "code",
   "execution_count": 21,
   "id": "2ffca6e2",
   "metadata": {},
   "outputs": [
    {
     "data": {
      "text/plain": [
       "(4480, 512)"
      ]
     },
     "execution_count": 21,
     "metadata": {},
     "output_type": "execute_result"
    }
   ],
   "source": [
    "data_feat = pos_feat_np.copy()\n",
    "data = data_feat.reshape((-1, 512))\n",
    "data.shape"
   ]
  },
  {
   "cell_type": "code",
   "execution_count": 22,
   "id": "e83aa47b",
   "metadata": {},
   "outputs": [
    {
     "data": {
      "text/plain": [
       "0.46465562673984095"
      ]
     },
     "execution_count": 22,
     "metadata": {},
     "output_type": "execute_result"
    }
   ],
   "source": [
    "cdata = data.copy()\n",
    "scaler = scaler4\n",
    "\n",
    "kspca = pca\n",
    "\n",
    "# filter_func = lambda x: moving_average(x, wsize=3)\n",
    "# filter_func = lambda x: signal.medfilt2d(x, kernel_size=(3,1))\n",
    "# filter_func = lambda x: np.diff(x, axis=0, prepend=0)\n",
    "filter_func = lambda x: x\n",
    "\n",
    "cdata = filter_func(cdata)\n",
    "\n",
    "scaler.fit(cdata)\n",
    "data_out = kspca.fit_transform(scaler.transform(cdata))\n",
    "\n",
    "ecdf = [ECDF(sample) for sample in data_out.T]\n",
    "\n",
    "# print(kspca.explained_variance_ratio_)\n",
    "\n",
    "def embedding_accuracy(test, main, alpha=0.01):\n",
    "    pvals = np.array([stats.ks_2samp(test[:, i], data_out[:, i])[1] for i in range(test.shape[-1])])\n",
    "    return sum(kspca.explained_variance_ratio_[pvals > alpha])\n",
    "    # return np.mean(pvals > alpha)\n",
    "     \n",
    "def empirical_kstest(test, ecdf, alpha=0.01):\n",
    "    pvals = np.array([stats.kstest(test[:, i], cdf=lambda x: ecdf[i](x))[1] for i in range(test.shape[-1])])\n",
    "    return sum(kspca.explained_variance_ratio_[pvals > alpha])\n",
    "    # return np.mean(pvals > alpha)\n",
    "    \n",
    "sum(kspca.explained_variance_ratio_) / 2"
   ]
  },
  {
   "cell_type": "markdown",
   "id": "e7c9d857",
   "metadata": {},
   "source": [
    "## Save PKL"
   ]
  },
  {
   "cell_type": "code",
   "execution_count": 23,
   "id": "fcabe0fb",
   "metadata": {},
   "outputs": [],
   "source": [
    "ksmodel = {\n",
    "    'pca': kspca,\n",
    "    'scaler': scaler,\n",
    "    'ecdf': ecdf,\n",
    "    'alpha': 0.01,\n",
    "    'beta': 0.7\n",
    "}\n",
    "\n",
    "pcaks_pkl_path = '/data/ksmodel.pkl'\n",
    "\n",
    "with io.BytesIO() as bio:\n",
    "    pickle.dump(ksmodel, bio)\n",
    "    md5 = hashlib.md5(bio.getvalue()).hexdigest()[:12]\n",
    "    oss_put_bytes(bio.getvalue(), f'datasets/weights/{md5}.pkl')"
   ]
  },
  {
   "cell_type": "code",
   "execution_count": null,
   "id": "4f176e7d",
   "metadata": {},
   "outputs": [],
   "source": [
    "for feat in pos_feat_list[-2:] + neg_feat_list:\n",
    "    print('')\n",
    "    for f in feat[1:-1]:\n",
    "        f = filter_func(f)\n",
    "        out = kspca.transform(scaler.transform(f))\n",
    "        print('%.6f' % empirical_kstest(out, ecdf), end='\\t')\n",
    "    print('')"
   ]
  },
  {
   "cell_type": "code",
   "execution_count": null,
   "id": "376e0c7a",
   "metadata": {
    "scrolled": false
   },
   "outputs": [],
   "source": [
    "fig, axes = plt.subplots(2, 2, figsize=(18, 18), sharex=True)\n",
    "axes = list(itertools.chain.from_iterable(axes))\n",
    "for i in range(len(axes)):\n",
    "    axes[i].set_title('feature %d (%.6f)' % (i + 1, kspca.explained_variance_ratio_[i]))\n",
    "    axes[i].plot(ecdf[i].x, ecdf[i].y, color='b', lw=3, label='global');\n",
    "    for label, feat in (('good', pos_feat_list[0]), ('bad', neg_feat_list[-1])):\n",
    "        out = kspca.transform(scaler.transform(feat[1]))\n",
    "        cdf = ECDF(out.T[i])\n",
    "        statistic, pvalue = stats.kstest(out.T[i], cdf=lambda x: ecdf[i](x))\n",
    "        axes[i].plot(cdf.x, cdf.y, lw=2, label='%s %.6f %.6f'%(label, statistic, pvalue));\n",
    "    axes[i].legend();"
   ]
  },
  {
   "cell_type": "code",
   "execution_count": null,
   "id": "e1ee6dc1",
   "metadata": {},
   "outputs": [],
   "source": [
    "for feat in (feat_np_922, feat_np_905, feat_np_601):\n",
    "    print('')\n",
    "    for f in feat:\n",
    "        f = filter_func(f)\n",
    "        out = kspca.transform(scaler.transform(f))\n",
    "        print('%.6f' % empirical_kstest(out, ecdf), end='\\t')"
   ]
  },
  {
   "cell_type": "code",
   "execution_count": null,
   "id": "8cc43392",
   "metadata": {},
   "outputs": [],
   "source": [
    "feat_np_601.shape"
   ]
  },
  {
   "cell_type": "code",
   "execution_count": null,
   "id": "8b7548ef",
   "metadata": {
    "scrolled": false
   },
   "outputs": [],
   "source": [
    "for feat in (feat_np_855, feat_np_313):\n",
    "    print('')\n",
    "    for f in feat:\n",
    "        f = filter_func(f)\n",
    "        out = kspca.transform(scaler.transform(f))\n",
    "        print('%.6f' % empirical_kstest(out, ecdf), end='\\t')"
   ]
  },
  {
   "cell_type": "code",
   "execution_count": null,
   "id": "9248729a",
   "metadata": {},
   "outputs": [],
   "source": [
    "_, ax = plt.subplots(1, 1, figsize=(12, 12))\n",
    "ax.plot(\n",
    "    kspca.explained_variance_ratio_, \"--o\", linewidth=2,\n",
    "    label=\"Explained variance ratio\"\n",
    ")\n",
    "ax.plot(\n",
    "    kspca.explained_variance_ratio_.cumsum(), \"--o\", linewidth=2,\n",
    "    label=\"Cumulative explained variance ratio\"\n",
    ")\n",
    "\n",
    "ax.legend(loc=\"best\", frameon=True);"
   ]
  },
  {
   "cell_type": "code",
   "execution_count": null,
   "id": "bdbeb913",
   "metadata": {
    "scrolled": true
   },
   "outputs": [],
   "source": [
    "draw_osd_sim(np.concatenate(sims_np_055, axis=1), figsize=(sims_np_055.shape[0] * 4, 8))"
   ]
  },
  {
   "cell_type": "code",
   "execution_count": null,
   "id": "311ed8bd",
   "metadata": {},
   "outputs": [],
   "source": [
    "draw_osd_sim(np.concatenate(sims_np_922, axis=1), figsize=(sims_np_922.shape[0] * 4, 8))"
   ]
  },
  {
   "cell_type": "code",
   "execution_count": null,
   "id": "7886f074",
   "metadata": {},
   "outputs": [],
   "source": [
    "draw_osd_sim(np.concatenate(sims_np_819, axis=1), figsize=(sims_np_819.shape[0] * 4, 8))"
   ]
  },
  {
   "cell_type": "code",
   "execution_count": null,
   "id": "00eb41b6",
   "metadata": {},
   "outputs": [],
   "source": [
    "pd.DataFrame(neg_outs[0]).describe()"
   ]
  },
  {
   "cell_type": "code",
   "execution_count": null,
   "id": "b7785d00",
   "metadata": {},
   "outputs": [],
   "source": [
    "pd.DataFrame(pos1_outs[0]).describe()"
   ]
  }
 ],
 "metadata": {
  "hide_input": false,
  "kernelspec": {
   "display_name": "Python 3",
   "language": "python",
   "name": "python3"
  },
  "language_info": {
   "codemirror_mode": {
    "name": "ipython",
    "version": 3
   },
   "file_extension": ".py",
   "mimetype": "text/x-python",
   "name": "python",
   "nbconvert_exporter": "python",
   "pygments_lexer": "ipython3",
   "version": "3.6.9"
  },
  "toc": {
   "base_numbering": 1,
   "nav_menu": {
    "height": "70.9943px",
    "width": "188.991px"
   },
   "number_sections": true,
   "sideBar": false,
   "skip_h1_title": true,
   "title_cell": "",
   "title_sidebar": "Contents",
   "toc_cell": false,
   "toc_position": {
    "height": "219.757px",
    "left": "1529.05px",
    "top": "66.059px",
    "width": "429.774px"
   },
   "toc_section_display": true,
   "toc_window_display": true
  }
 },
 "nbformat": 4,
 "nbformat_minor": 5
}
