{
 "cells": [
  {
   "cell_type": "markdown",
   "id": "loose-canyon",
   "metadata": {},
   "source": [
    "## 引入工具"
   ]
  },
  {
   "cell_type": "code",
   "execution_count": 56,
   "id": "according-success",
   "metadata": {
    "ExecuteTime": {
     "end_time": "2021-08-17T08:31:39.423357Z",
     "start_time": "2021-08-17T08:31:37.027520Z"
    },
    "hide_input": true
   },
   "outputs": [],
   "source": [
    "%reload_ext watermark\n",
    "%reload_ext autoreload\n",
    "%autoreload 2\n",
    "# %watermark -p numpy,sklearn,pandas\n",
    "# %watermark -p ipywidgets,cv2,PIL,matplotlib,plotly,netron\n",
    "# %watermark -p torch,torchvision,torchaudio\n",
    "# %watermark -p tensorflow,tensorboard,tflite\n",
    "# %watermark -p onnx,tf2onnx,onnxruntime,tensorrt,tvm\n",
    "# %matplotlib inline\n",
    "# %config InlineBackend.figure_format='retina'\n",
    "%config IPCompleter.use_jedi = False\n",
    "\n",
    "# from IPython.display import display, Markdown, HTML, IFrame, Image, Javascript\n",
    "# from IPython.core.magic import register_line_cell_magic, register_line_magic, register_cell_magic\n",
    "# display(HTML('<style>.container { width:%d%% !important; }</style>' % 90))\n",
    "\n",
    "import sys, os, io, logging, time, random, math\n",
    "import json, base64, requests, shutil\n",
    "import argparse, shlex, signal\n",
    "import numpy as np\n",
    "\n",
    "argparse.ArgumentParser.exit = lambda *arg, **kwargs: _IGNORE_\n",
    "\n",
    "def _IMPORT(x):\n",
    "    try: \n",
    "        x = x.strip()\n",
    "        if x[0] == '/':\n",
    "            with open(x) as fr:\n",
    "                x = fr.read()\n",
    "        elif 'github' in x or 'gitee' in x:\n",
    "            if x.startswith('import '):\n",
    "                x = x[7:]\n",
    "            if x.startswith('https://'):\n",
    "                x = x[8:]\n",
    "            if not x.endswith('.py'):\n",
    "                x = x + '.py'\n",
    "            x = x.replace('blob/main/', '').replace('blob/master/', '')\n",
    "            if x.startswith('raw.githubusercontent.com'):\n",
    "                uri = 'https://' + x\n",
    "                x = requests.get(uri)\n",
    "                if x.status_code == 200:\n",
    "                    x = x.text\n",
    "            elif x.startswith('github.com'):\n",
    "                uri = x.replace('github.com', 'raw.githubusercontent.com')\n",
    "                mod = uri.split('/')\n",
    "                for s in ['main', 'master']:\n",
    "                    uri = 'https://' + '/'.join(mod[:3]) + s + '/'.join(mod[-3:])\n",
    "                    x = requests.get(uri)\n",
    "                    if x.status_code == 200:\n",
    "                        x = x.text\n",
    "                        break\n",
    "            elif x.startswith('gitee.com'):\n",
    "                mod = x.split('/')\n",
    "                for s in ['/raw/main/', '/raw/master/']:\n",
    "                    uri = 'https://' + '/'.join(mod[:3]) + s + '/'.join(mod[3:])\n",
    "                    x = requests.get(uri)\n",
    "                    if x.status_code == 200:\n",
    "                        x = x.text\n",
    "                        break\n",
    "        exec(x, globals())\n",
    "    except:\n",
    "        pass\n",
    "\n",
    "def _DIR(x, dumps=True, ret=True):\n",
    "    attrs = sorted([y for y in dir(x) if not y.startswith('_')])\n",
    "    result = '%s: %s' % (str(type(x))[8:-2], json.dumps(attrs) if dumps else attrs)\n",
    "    if ret:\n",
    "        return result\n",
    "    print(result)\n"
   ]
  },
  {
   "cell_type": "markdown",
   "id": "logical-registration",
   "metadata": {},
   "source": [
    "## 解析配置"
   ]
  },
  {
   "cell_type": "code",
   "execution_count": 118,
   "id": "subject-movement",
   "metadata": {
    "ExecuteTime": {
     "end_time": "2021-08-17T08:31:41.036307Z",
     "start_time": "2021-08-17T08:31:40.080350Z"
    },
    "code_folding": [
     0
    ],
    "scrolled": false
   },
   "outputs": [
    {
     "data": {
      "application/vnd.jupyter.widget-view+json": {
       "model_id": "992eac60e4794fabb174c2e8a0215a97",
       "version_major": 2,
       "version_minor": 0
      },
      "text/plain": [
       "Box(children=(Box(children=(VBox(children=(Tab(children=(VBox(children=(HBox(children=(Text(value='zmq.repnet_…"
      ]
     },
     "metadata": {},
     "output_type": "display_data"
    }
   ],
   "source": [
    "from utils import EVENTS\n",
    "from utils import oss_put_bytes\n",
    "\n",
    "_IMPORT('/data/nb_easy/easy_widget.py')\n",
    "\n",
    "# RACEURL = 'http://116.85.27.115:9119'\n",
    "RACEURL = 'http://10.255.0.102:9119'\n",
    "MSGKEY = 'nb.zmq.repnet_tf.gamma102'\n",
    "\n",
    "with open('schema.json', 'r') as fr:\n",
    "    schema_string = fr.read()\n",
    "    schema_string = schema_string.replace('zmq.repnet_tf.test', MSGKEY)\n",
    "    schema_string = schema_string.replace('http://host:port', RACEURL)\n",
    "    schema = json.loads(schema_string)\n",
    "easy = nbeasy_schema_parse(schema, events=EVENTS, debug=True);\n",
    "# https://frepai.s3.didiyunapi.com/datasets/weights/b7597c2bf766.pkl"
   ]
  },
  {
   "cell_type": "code",
   "execution_count": 238,
   "id": "799c9051",
   "metadata": {},
   "outputs": [
    {
     "data": {
      "text/plain": [
       "array([-2.02950121e-01, -1.09230309e+00, -4.21627298e-01,  1.19636688e+00,\n",
       "       -1.40853282e+00, -7.10892177e-01, -1.16804728e+00, -1.28390995e+00,\n",
       "        9.63631499e-01,  4.77007565e-01, -1.12761489e-01, -1.51307138e+00,\n",
       "       -1.82321582e+00,  1.11242318e+00, -3.64750823e-01, -1.24428505e+00,\n",
       "        9.74887326e-01, -2.78016104e-01, -2.36780761e+00,  1.57479175e-01,\n",
       "        8.83232099e-01,  7.93100843e-01,  9.55954042e-01, -5.35839078e-01,\n",
       "        1.25487978e+00, -1.81972211e+00,  8.33019023e-01, -7.52977472e-01,\n",
       "       -4.58763521e-01, -1.43864147e+00,  2.58476795e-01,  1.04346381e+00,\n",
       "       -1.99575433e-01, -1.28076424e+00,  1.03049568e+00, -1.17852777e+00,\n",
       "       -8.41556889e-02, -3.11363878e-01, -4.62465635e-01,  7.62511895e-01,\n",
       "        4.28534581e-01,  1.67729110e+00, -7.56788322e-01, -2.45290479e-01,\n",
       "       -7.91445102e-04, -7.54382656e-02, -2.08439473e+00, -1.85629372e+00,\n",
       "        1.18349700e+00, -1.53338628e-01,  1.39072827e+00, -2.37639644e+00,\n",
       "       -1.58882175e-01,  7.32301207e-02, -6.85988897e-01, -5.82145429e-01,\n",
       "       -7.27168583e-01, -4.84473641e-01, -1.40561772e-01, -2.14003893e-01,\n",
       "        8.96682097e-01, -7.24492852e-01, -1.66430445e-01, -9.83775190e-01])"
      ]
     },
     "execution_count": 238,
     "metadata": {},
     "output_type": "execute_result"
    }
   ],
   "source": [
    "b = np.random.randn(64, 200)\n",
    "b[:, 0]"
   ]
  },
  {
   "cell_type": "code",
   "execution_count": 239,
   "id": "7a106d12",
   "metadata": {},
   "outputs": [],
   "source": [
    "indices = np.argsort(b, axis=0)"
   ]
  },
  {
   "cell_type": "code",
   "execution_count": 240,
   "id": "6a4eec7a",
   "metadata": {},
   "outputs": [],
   "source": [
    "d = np.take_along_axis(b, indices, axis=0)"
   ]
  },
  {
   "cell_type": "code",
   "execution_count": 246,
   "id": "78c1e03b",
   "metadata": {},
   "outputs": [
    {
     "data": {
      "text/plain": [
       "(64, 200)"
      ]
     },
     "execution_count": 246,
     "metadata": {},
     "output_type": "execute_result"
    }
   ],
   "source": [
    "d.shape"
   ]
  },
  {
   "cell_type": "code",
   "execution_count": 260,
   "id": "7c58388a",
   "metadata": {},
   "outputs": [
    {
     "data": {
      "text/plain": [
       "((64,),\n",
       " array([0.015625, 0.03125 , 0.046875, 0.0625  , 0.078125, 0.09375 ,\n",
       "        0.109375, 0.125   , 0.140625, 0.15625 , 0.171875, 0.1875  ,\n",
       "        0.203125, 0.21875 , 0.234375, 0.25    , 0.265625, 0.28125 ,\n",
       "        0.296875, 0.3125  , 0.328125, 0.34375 , 0.359375, 0.375   ,\n",
       "        0.390625, 0.40625 , 0.421875, 0.4375  , 0.453125, 0.46875 ,\n",
       "        0.484375, 0.5     , 0.515625, 0.53125 , 0.546875, 0.5625  ,\n",
       "        0.578125, 0.59375 , 0.609375, 0.625   , 0.640625, 0.65625 ,\n",
       "        0.671875, 0.6875  , 0.703125, 0.71875 , 0.734375, 0.75    ,\n",
       "        0.765625, 0.78125 , 0.796875, 0.8125  , 0.828125, 0.84375 ,\n",
       "        0.859375, 0.875   , 0.890625, 0.90625 , 0.921875, 0.9375  ,\n",
       "        0.953125, 0.96875 , 0.984375, 1.      ]))"
      ]
     },
     "execution_count": 260,
     "metadata": {},
     "output_type": "execute_result"
    }
   ],
   "source": [
    "f = np.arange(1.0, N + 1) / N\n",
    "f.shape, f"
   ]
  },
  {
   "cell_type": "code",
   "execution_count": 258,
   "id": "00037b4a",
   "metadata": {},
   "outputs": [
    {
     "data": {
      "text/plain": [
       "(12800,)"
      ]
     },
     "execution_count": 258,
     "metadata": {},
     "output_type": "execute_result"
    }
   ],
   "source": [
    "f.repeat(200, axis=0).shape"
   ]
  },
  {
   "cell_type": "code",
   "execution_count": 283,
   "id": "9bcb1406",
   "metadata": {},
   "outputs": [],
   "source": [
    "g1 = g[:10]"
   ]
  },
  {
   "cell_type": "code",
   "execution_count": 300,
   "id": "1eec1b6b",
   "metadata": {},
   "outputs": [],
   "source": [
    "g2 = g[10:20] * 1.7"
   ]
  },
  {
   "cell_type": "code",
   "execution_count": 309,
   "id": "d51de189",
   "metadata": {},
   "outputs": [
    {
     "data": {
      "text/plain": [
       "array([0.43876165, 0.30013266, 1.3091773 , 0.9663438 , 0.48876681,\n",
       "       0.61970258, 0.50867547, 0.53677501, 0.73527378, 0.45758431,\n",
       "       0.59092134, 0.34994418, 0.24895333, 0.29230571, 0.33076451,\n",
       "       0.39739934, 0.42299426, 0.68795045, 0.54862245, 0.28582469,\n",
       "       0.33808172, 0.58452948, 0.25550049, 0.49040126, 0.60429707,\n",
       "       1.30503606, 0.31639731, 0.6473854 , 0.48977211, 0.49061136,\n",
       "       0.55138459, 0.5527943 , 0.5653104 , 0.21761376, 0.45176667,\n",
       "       0.5860543 , 0.28852019, 0.40876617, 1.02093548, 0.32466637,\n",
       "       0.77743779, 0.31157242, 0.32706439, 0.69922151, 1.23730719,\n",
       "       0.77966089, 0.90328775, 0.71560116, 0.2695922 , 0.58895516,\n",
       "       0.63091766, 0.65711314, 0.40271031, 0.28921777, 0.97144508,\n",
       "       0.49998382, 0.56106745, 0.7462345 , 0.44838985, 0.53599017,\n",
       "       0.37779311, 0.72312428, 0.86949696, 0.49659683, 0.2878832 ,\n",
       "       0.53869958, 0.68094682, 0.91541386, 0.37046539, 0.58353359,\n",
       "       0.38150058, 0.34115846, 0.68216592, 0.30126758, 0.39866463,\n",
       "       0.45240329, 0.51351729, 0.99513392, 0.59649205, 0.7488929 ,\n",
       "       0.44159091, 0.3384852 , 0.19585063, 0.60572583, 0.22739438,\n",
       "       0.5571069 , 1.08973946, 0.82081328, 0.54652134, 0.40110068,\n",
       "       1.02955408, 0.71784656, 0.28416899, 0.67335261, 0.63966546,\n",
       "       0.57655356, 0.32161626, 0.47167396, 0.4278774 , 0.42952397,\n",
       "       1.29640231, 0.51843206, 1.33242374, 0.36270085, 0.23130987,\n",
       "       0.66565295, 0.52208614, 0.18299461, 0.64759025, 0.38735005,\n",
       "       0.95304135, 0.79294435, 0.71366454, 0.53742783, 0.263844  ,\n",
       "       0.37773733, 0.71406025, 0.65444076, 0.85956275, 0.28362004,\n",
       "       0.52983929, 0.35929708, 1.21518472, 0.44909056, 0.75650314,\n",
       "       0.61654435, 1.17056179, 0.31091691, 0.45546042, 0.46309513,\n",
       "       0.36890996, 1.43011173, 0.22217006, 0.7435938 , 0.43704625,\n",
       "       0.49639407, 0.69736529, 1.5432055 , 0.49533677, 0.29547788,\n",
       "       0.57537279, 0.8366221 , 0.57801632, 0.42733861, 0.54536708,\n",
       "       0.75841614, 0.54380565, 0.5108886 , 0.75159497, 0.93803309,\n",
       "       2.02393584, 0.49101657, 0.69667114, 0.71345559, 0.15690361,\n",
       "       0.87505137, 0.29304987, 1.26855315, 0.80845957, 0.58648268,\n",
       "       0.42893633, 0.43386545, 0.61163542, 0.18122041, 0.55231751,\n",
       "       0.87846205, 0.54974113, 0.42188198, 0.42252584, 0.3376303 ,\n",
       "       0.65040357, 0.48911578, 0.79088012, 0.59904074, 0.29583191,\n",
       "       0.29217467, 0.56869506, 1.45145431, 0.54948791, 0.26707586,\n",
       "       1.55886617, 0.52982832, 0.86802583, 0.80152859, 0.49185704,\n",
       "       0.82866762, 1.5278511 , 0.87003477, 0.56092731, 0.68930569,\n",
       "       0.37272134, 0.34764706, 0.67044565, 0.43564658, 0.49454888,\n",
       "       0.70283716, 0.37391533, 0.5039368 , 0.45271697, 0.22457437])"
      ]
     },
     "execution_count": 309,
     "metadata": {},
     "output_type": "execute_result"
    }
   ],
   "source": [
    "np.abs(g2 - g1).max(axis=0)"
   ]
  },
  {
   "cell_type": "code",
   "execution_count": 301,
   "id": "2e6162b8",
   "metadata": {},
   "outputs": [
    {
     "data": {
      "text/plain": [
       "((10, 200), (10, 200))"
      ]
     },
     "execution_count": 301,
     "metadata": {},
     "output_type": "execute_result"
    }
   ],
   "source": [
    "g1.shape, g2.shape"
   ]
  },
  {
   "cell_type": "code",
   "execution_count": 302,
   "id": "570ba7c0",
   "metadata": {},
   "outputs": [
    {
     "data": {
      "text/plain": [
       "(array([[2.39202144, 2.60836554, 2.68980373, ..., 1.90690188, 1.9196734 ,\n",
       "         1.75648998],\n",
       "        [2.39905761, 2.36863908, 2.1924712 , ..., 1.51919914, 1.5167563 ,\n",
       "         1.44373237],\n",
       "        [2.13126973, 2.26304134, 2.18367836, ..., 1.47099873, 1.50787322,\n",
       "         1.26486759],\n",
       "        ...,\n",
       "        [1.56364147, 1.83266094, 1.05155747, ..., 1.20244195, 1.10955954,\n",
       "         1.05327597],\n",
       "        [1.54915782, 1.58233911, 0.96331477, ..., 1.1717157 , 1.10845641,\n",
       "         0.92852523],\n",
       "        [1.44015995, 1.55961926, 0.83752559, ..., 1.18330061, 1.06264625,\n",
       "         0.90368775]]),\n",
       " array([[2.46948671, 2.6496641 , 1.38062643, ..., 1.99654979, 1.72772031,\n",
       "         1.53749029],\n",
       "        [2.43403458, 2.5758192 , 1.37458881, ..., 1.99625844, 1.6492515 ,\n",
       "         1.55836656],\n",
       "        [2.3488097 , 2.43513303, 1.27142833, ..., 1.93723346, 1.63578295,\n",
       "         1.48944196],\n",
       "        ...,\n",
       "        [1.7581867 , 1.87469119, 1.24421707, ..., 1.62383384, 1.52846826,\n",
       "         0.91281444],\n",
       "        [1.74087409, 1.88247177, 1.04616631, ..., 1.60301822, 1.55319649,\n",
       "         0.91860282],\n",
       "        [1.76288785, 1.83218482, 1.053073  , ..., 1.6212911 , 1.51536322,\n",
       "         0.86454979]]))"
      ]
     },
     "execution_count": 302,
     "metadata": {},
     "output_type": "execute_result"
    }
   ],
   "source": [
    "g1, g2"
   ]
  },
  {
   "cell_type": "code",
   "execution_count": 303,
   "id": "1e924c34",
   "metadata": {},
   "outputs": [],
   "source": [
    "g3 = np.max([g1, g2], axis=0)"
   ]
  },
  {
   "cell_type": "code",
   "execution_count": 304,
   "id": "c9a312ef",
   "metadata": {},
   "outputs": [
    {
     "data": {
      "text/plain": [
       "array([[2.46948671, 2.6496641 , 2.68980373, ..., 1.99654979, 1.9196734 ,\n",
       "        1.75648998],\n",
       "       [2.43403458, 2.5758192 , 2.1924712 , ..., 1.99625844, 1.6492515 ,\n",
       "        1.55836656],\n",
       "       [2.3488097 , 2.43513303, 2.18367836, ..., 1.93723346, 1.63578295,\n",
       "        1.48944196],\n",
       "       ...,\n",
       "       [1.7581867 , 1.87469119, 1.24421707, ..., 1.62383384, 1.52846826,\n",
       "        1.05327597],\n",
       "       [1.74087409, 1.88247177, 1.04616631, ..., 1.60301822, 1.55319649,\n",
       "        0.92852523],\n",
       "       [1.76288785, 1.83218482, 1.053073  , ..., 1.6212911 , 1.51536322,\n",
       "        0.90368775]])"
      ]
     },
     "execution_count": 304,
     "metadata": {},
     "output_type": "execute_result"
    }
   ],
   "source": [
    "g3"
   ]
  },
  {
   "cell_type": "code",
   "execution_count": 276,
   "id": "83052cca",
   "metadata": {},
   "outputs": [],
   "source": [
    "g = f.reshape(-1, 1) - d"
   ]
  },
  {
   "cell_type": "code",
   "execution_count": 277,
   "id": "163f3363",
   "metadata": {},
   "outputs": [
    {
     "data": {
      "text/plain": [
       "(64, 200)"
      ]
     },
     "execution_count": 277,
     "metadata": {},
     "output_type": "execute_result"
    }
   ],
   "source": [
    "d.shape"
   ]
  },
  {
   "cell_type": "code",
   "execution_count": 266,
   "id": "bb47afaa",
   "metadata": {},
   "outputs": [
    {
     "data": {
      "text/plain": [
       "(64, 200)"
      ]
     },
     "execution_count": 266,
     "metadata": {},
     "output_type": "execute_result"
    }
   ],
   "source": [
    "d.shape"
   ]
  },
  {
   "cell_type": "code",
   "execution_count": 280,
   "id": "5c46fcaa",
   "metadata": {},
   "outputs": [
    {
     "data": {
      "text/plain": [
       "(200,)"
      ]
     },
     "execution_count": 280,
     "metadata": {},
     "output_type": "execute_result"
    }
   ],
   "source": [
    "N = 64\n",
    "(g - d).max(axis=0).shape"
   ]
  },
  {
   "cell_type": "code",
   "execution_count": 58,
   "id": "7f334c87",
   "metadata": {
    "scrolled": true
   },
   "outputs": [
    {
     "ename": "RuntimeError",
     "evalue": "No active exception to reraise",
     "output_type": "error",
     "traceback": [
      "\u001b[0;31m\u001b[0m",
      "\u001b[0;31mRuntimeError\u001b[0mTraceback (most recent call last)",
      "\u001b[0;32m<ipython-input-58-9c9a2cba73bf>\u001b[0m in \u001b[0;36m<module>\u001b[0;34m\u001b[0m\n\u001b[0;32m----> 1\u001b[0;31m \u001b[0;32mraise\u001b[0m\u001b[0;34m\u001b[0m\u001b[0;34m\u001b[0m\u001b[0m\n\u001b[0m",
      "\u001b[0;31mRuntimeError\u001b[0m: No active exception to reraise"
     ]
    }
   ],
   "source": [
    "raise"
   ]
  },
  {
   "cell_type": "markdown",
   "id": "180b3a17",
   "metadata": {},
   "source": [
    "1. https://frepai.s3.didiyunapi.com/datasets/vod/木槌加固/20211206123823.mp4"
   ]
  },
  {
   "cell_type": "markdown",
   "id": "405c699b",
   "metadata": {},
   "source": [
    "## Tools"
   ]
  },
  {
   "cell_type": "code",
   "execution_count": null,
   "id": "9a849239",
   "metadata": {},
   "outputs": [],
   "source": [
    "import numpy as np\n",
    "import time\n",
    "from sklearn.manifold import TSNE\n",
    "import matplotlib.pyplot as plt\n",
    "from mpl_toolkits.mplot3d import Axes3D\n",
    "import seaborn as sns\n",
    "import matplotlib.patheffects as PathEffects\n",
    "from sklearn.decomposition import PCA\n",
    "from scipy import stats\n",
    "import pandas as pd\n",
    "from sklearn import preprocessing\n",
    "\n",
    "from matplotlib.colors import LogNorm\n",
    "import itertools \n",
    "# axes = list(itertools.chain.from_iterable(axes))\n",
    "from sklearn.manifold import Isomap\n",
    "\n",
    "from scipy.signal import medfilt\n",
    "import scipy.signal as signal\n",
    "from statsmodels.distributions.empirical_distribution import ECDF\n",
    "import pickle\n",
    "import hashlib"
   ]
  },
  {
   "cell_type": "code",
   "execution_count": null,
   "id": "c020b5e4",
   "metadata": {},
   "outputs": [],
   "source": [
    "def _denormal_image(x):\n",
    "    x -= x.mean()\n",
    "    x /= x.std()\n",
    "    x *= 64\n",
    "    x += 128\n",
    "    x = np.clip(x, 0, 255).astype('uint8')\n",
    "    return x"
   ]
  },
  {
   "cell_type": "code",
   "execution_count": null,
   "id": "6e1c0328",
   "metadata": {},
   "outputs": [],
   "source": [
    "def outlier_detection(data):\n",
    "    q1, q3 = np.percentile(data, [25, 75])\n",
    "    iqr = q3 - q1\n",
    "    lower_bound = q1 - (iqr * 1.5)\n",
    "    upper_bound = q3 + (iqr * 1.5)\n",
    "    return np.where((data < lower_bound) | (data > upper_bound))"
   ]
  },
  {
   "cell_type": "code",
   "execution_count": null,
   "id": "1c36fe60",
   "metadata": {},
   "outputs": [],
   "source": [
    "def plot_scatter(data, colors=None):\n",
    "    if len(data.shape) != 2:\n",
    "        xs = range(len(data))\n",
    "        ys = data\n",
    "    else:\n",
    "        if data.shape[1] == 1:\n",
    "            ys = data[:, 0]\n",
    "            xs = range(len(data))\n",
    "        else:\n",
    "            xs = data[:, 0]\n",
    "            ys = data[:, 1]\n",
    "        \n",
    "    plt.figure(figsize=(12, 12))\n",
    "    ax = plt.subplot(aspect='equal')\n",
    "    ax.scatter(xs, ys, c=colors, edgecolor='none', cmap=plt.cm.get_cmap('Paired', 2))\n",
    "    plt.xlim(-25, 25)\n",
    "    plt.ylim(-25, 25)\n",
    "    ax.axis('on')\n",
    "    ax.axis('tight')"
   ]
  },
  {
   "cell_type": "code",
   "execution_count": 91,
   "id": "f47a11f6",
   "metadata": {},
   "outputs": [],
   "source": [
    "def draw_osd_sim(sim, size=128, figsize=(8, 8)):\n",
    "    fig, ax = plt.subplots(figsize=figsize)\n",
    "    plt.axis('off')\n",
    "    # fig.set_size_inches(size / 100.0, size / 100.0)\n",
    "    plt.gca().xaxis.set_major_locator(plt.NullLocator())\n",
    "    plt.gca().yaxis.set_major_locator(plt.NullLocator())\n",
    "    plt.subplots_adjust(top=1, bottom=0, left=0, right=1, hspace=0, wspace=0)\n",
    "    plt.margins(0,0)\n",
    "    plt.imshow(sim, cmap='hot', interpolation='nearest', norm=LogNorm())\n",
    "    \n",
    "def draw_emb_feat(emb64):\n",
    "    out64 = kspca.transform(scaler.transform(emb64))\n",
    "    out64 = scaler2.fit_transform(out64).reshape((-1, 10, 10))\n",
    "    fig, axes = plt.subplots(8, 8, figsize=(18, 18), sharex=True, sharey=True)\n",
    "    axes = list(itertools.chain.from_iterable(axes))\n",
    "    for i in range(len(axes)):\n",
    "        axes[i].set_title('%.4f %.4f' % (out64[i].mean(), np.sqrt(out64[i].var())))\n",
    "        axes[i].set_xticks([])\n",
    "        axes[i].set_yticks([])\n",
    "        axes[i].imshow(out64[i])"
   ]
  },
  {
   "cell_type": "code",
   "execution_count": null,
   "id": "5653fcee",
   "metadata": {},
   "outputs": [],
   "source": [
    "def moving_average(arr, axis=0, wsize=3):\n",
    "    return np.apply_along_axis(lambda m: np.convolve(m, np.ones(wsize)/wsize, mode='same'), axis=axis, arr=arr)\n",
    "\n",
    "def np_info(data):\n",
    "    print('%.5f' % data.min(), '%.5f' % data.max(), '%.5f' % data.mean(), '%.5f' % data.std())"
   ]
  },
  {
   "cell_type": "code",
   "execution_count": 115,
   "id": "dc1fa232",
   "metadata": {},
   "outputs": [
    {
     "ename": "ModuleNotFoundError",
     "evalue": "No module named 'tensorflow_probability'",
     "output_type": "error",
     "traceback": [
      "\u001b[0;31m\u001b[0m",
      "\u001b[0;31mModuleNotFoundError\u001b[0mTraceback (most recent call last)",
      "\u001b[0;32m<ipython-input-115-41494c8c96ff>\u001b[0m in \u001b[0;36m<module>\u001b[0;34m\u001b[0m\n\u001b[0;32m----> 1\u001b[0;31m \u001b[0;32mimport\u001b[0m \u001b[0mtensorflow_probability\u001b[0m \u001b[0;32mas\u001b[0m \u001b[0mtfp\u001b[0m\u001b[0;34m\u001b[0m\u001b[0;34m\u001b[0m\u001b[0m\n\u001b[0m",
      "\u001b[0;31mModuleNotFoundError\u001b[0m: No module named 'tensorflow_probability'"
     ]
    }
   ],
   "source": [
    "import tensorflow_probability as tfp"
   ]
  },
  {
   "cell_type": "markdown",
   "id": "c10cf6c8",
   "metadata": {},
   "source": [
    "## KSTest"
   ]
  },
  {
   "cell_type": "code",
   "execution_count": null,
   "id": "e3b160ea",
   "metadata": {},
   "outputs": [],
   "source": [
    "scaler1 = preprocessing.StandardScaler()\n",
    "scaler2 = preprocessing.MinMaxScaler()\n",
    "scaler3 = preprocessing.RobustScaler(quantile_range=(25., 75.))\n",
    "scaler4 = preprocessing.Normalizer()\n",
    "scaler5 = preprocessing.MaxAbsScaler()\n",
    "NC = 200\n",
    "pca = PCA(n_components=NC)\n",
    "# ios = Isomap(n_components=NC)\n",
    "# tril = np.tril_indices(64)\n",
    "# tsne = TSNE(n_components=2, random_state=0)"
   ]
  },
  {
   "cell_type": "code",
   "execution_count": 92,
   "id": "ad92d649",
   "metadata": {},
   "outputs": [],
   "source": [
    "!wget -q -P /tmp/ https://frepai.s3.didiyunapi.com/datasets/weights/b7597c2bf766.pkl"
   ]
  },
  {
   "cell_type": "code",
   "execution_count": 93,
   "id": "1dac63a7",
   "metadata": {},
   "outputs": [],
   "source": [
    "!wget -q -P /tmp/ https://frepai.s3.didiyunapi.com/datasets/vod/outputs/20211208164457/repnet_tf/embs_feat.npy"
   ]
  },
  {
   "cell_type": "code",
   "execution_count": 94,
   "id": "a2b71153",
   "metadata": {},
   "outputs": [],
   "source": [
    "embs_feat = np.load('/tmp/embs_feat.npy')"
   ]
  },
  {
   "cell_type": "code",
   "execution_count": 95,
   "id": "3c57a858",
   "metadata": {},
   "outputs": [
    {
     "data": {
      "text/plain": [
       "(33, 64, 512)"
      ]
     },
     "execution_count": 95,
     "metadata": {},
     "output_type": "execute_result"
    }
   ],
   "source": [
    "embs_feat.shape"
   ]
  },
  {
   "cell_type": "code",
   "execution_count": 100,
   "id": "e83aa47b",
   "metadata": {
    "code_folding": []
   },
   "outputs": [
    {
     "name": "stdout",
     "output_type": "stream",
     "text": [
      "(2112, 200)\n"
     ]
    },
    {
     "data": {
      "text/plain": [
       "(0.49501621042145416, 0.9900324208429083)"
      ]
     },
     "execution_count": 100,
     "metadata": {},
     "output_type": "execute_result"
    }
   ],
   "source": [
    "data_feat = embs_feat.copy()\n",
    "data = data_feat.reshape((-1, 512))\n",
    "\n",
    "cdata = data.copy()\n",
    "scaler = scaler4\n",
    "\n",
    "kspca = pca\n",
    "\n",
    "# filter_func = lambda x: moving_average(x, wsize=3)\n",
    "# filter_func = lambda x: signal.medfilt2d(x, kernel_size=(3,1))\n",
    "# filter_func = lambda x: np.diff(x, axis=0, prepend=0)\n",
    "filter_func = lambda x: x\n",
    "\n",
    "cdata = filter_func(cdata)\n",
    "\n",
    "scaler.fit(cdata)\n",
    "data_out = kspca.fit_transform(scaler.transform(cdata))\n",
    "print(data_out.shape)\n",
    "\n",
    "ecdfs = [ECDF(sample) for sample in data_out.T]\n",
    "\n",
    "# print(kspca.explained_variance_ratio_)\n",
    "\n",
    "def empirical_kstest(test, ecdfs, alpha=0.01):\n",
    "    pvals = np.array([stats.kstest(test[:, i], cdf=lambda x: ecdfs[i](x))[1] for i in range(test.shape[-1])])\n",
    "    return sum(kspca.explained_variance_ratio_[pvals > alpha])\n",
    "    # return np.mean(pvals > alpha)\n",
    "    \n",
    "sum(kspca.explained_variance_ratio_) / 2, sum(kspca.explained_variance_ratio_)"
   ]
  },
  {
   "cell_type": "code",
   "execution_count": 113,
   "id": "5bd36639",
   "metadata": {},
   "outputs": [
    {
     "name": "stdout",
     "output_type": "stream",
     "text": [
      "313 ms ± 11.9 ms per loop (mean ± std. dev. of 7 runs, 1 loop each)\n"
     ]
    }
   ],
   "source": [
    "%timeit [stats.kstest(data_out[:64][:, i], cdf=lambda x: ecdfs[i](x))[1] for i in range(100)]"
   ]
  },
  {
   "cell_type": "code",
   "execution_count": 104,
   "id": "76058183",
   "metadata": {
    "code_folding": []
   },
   "outputs": [
    {
     "name": "stdout",
     "output_type": "stream",
     "text": [
      "CPU times: user 628 ms, sys: 0 ns, total: 628 ms\n",
      "Wall time: 625 ms\n"
     ]
    },
    {
     "data": {
      "text/plain": [
       "0.9832617317297263"
      ]
     },
     "execution_count": 104,
     "metadata": {},
     "output_type": "execute_result"
    }
   ],
   "source": [
    "%%time\n",
    "\n",
    "empirical_kstest(data_out[:64], ecdfs)"
   ]
  },
  {
   "cell_type": "markdown",
   "id": "cb594083",
   "metadata": {},
   "source": [
    "## Save PKL"
   ]
  },
  {
   "cell_type": "code",
   "execution_count": null,
   "id": "b2f6ae40",
   "metadata": {},
   "outputs": [],
   "source": [
    "ksmodel = {\n",
    "    'pca': kspca,\n",
    "    'scaler': scaler,\n",
    "    'ecdfs': ecdfs,\n",
    "}\n",
    "\n",
    "pcaks_pkl_path = '/data/ksmodel.pkl'\n",
    "\n",
    "with io.BytesIO() as bio:\n",
    "    pickle.dump(ksmodel, bio)\n",
    "    md5 = hashlib.md5(bio.getvalue()).hexdigest()[:12]\n",
    "    oss_put_bytes(bio.getvalue(), f'datasets/weights/{md5}.pkl')\n",
    "    print(f'https://frepai.s3.didiyunapi.com/datasets/weights/{md5}.pkl')"
   ]
  },
  {
   "cell_type": "code",
   "execution_count": null,
   "id": "e9db4ec0",
   "metadata": {},
   "outputs": [],
   "source": [
    "for embs in pos_feat_list:\n",
    "# for embs in test_feat_list:\n",
    "    print('')\n",
    "    for f in embs:\n",
    "        f = filter_func(f)\n",
    "        out = kspca.transform(scaler.transform(f))\n",
    "        print('%.6f' % empirical_kstest(out, ecdfs), end='\\t')"
   ]
  },
  {
   "cell_type": "code",
   "execution_count": null,
   "id": "be9742df",
   "metadata": {},
   "outputs": [],
   "source": [
    "  \n",
    "# draw_osd_sim(np.concatenate(sims, axis=1), figsize=(sims.shape[0] * 4, 8))\n",
    "\n",
    "fig, axes = plt.subplots(3, 3, figsize=(18, 18), sharex=True)\n",
    "axes = list(itertools.chain.from_iterable(axes))\n",
    "for i in range(len(axes)):\n",
    "    axes[i].set_title('feature %d (%.6f)' % (i + 1, kspca.explained_variance_ratio_[i]))\n",
    "    axes[i].plot(ecdf[i].x, ecdf[i].y, color='b', lw=3, label='expect');\n",
    "    for j in range(embs.shape[0]):\n",
    "        label = f'e_{j}'\n",
    "        out = kspca.transform(scaler.transform(embs[j]))\n",
    "        cdf = ECDF(out.T[i])\n",
    "        statistic, pvalue = stats.kstest(out.T[i], cdf=lambda x: ecdf[i](x))\n",
    "        axes[i].plot(cdf.x, cdf.y, lw=2, label='%s %.6f %.6f'%(label, statistic, pvalue));\n",
    "    axes[i].legend();"
   ]
  },
  {
   "cell_type": "code",
   "execution_count": null,
   "id": "376e0c7a",
   "metadata": {
    "scrolled": false
   },
   "outputs": [],
   "source": [
    "fig, axes = plt.subplots(2, 2, figsize=(18, 18), sharex=True)\n",
    "axes = list(itertools.chain.from_iterable(axes))\n",
    "for i in range(len(axes)):\n",
    "    axes[i].set_title('feature %d (%.6f)' % (i + 1, kspca.explained_variance_ratio_[i]))\n",
    "    axes[i].plot(ecdf[i].x, ecdf[i].y, color='b', lw=3, label='global');\n",
    "    for label, feat in (('good', pos_feat_list[0]), ('bad', neg_feat_list[-1])):\n",
    "        out = kspca.transform(scaler.transform(feat[1]))\n",
    "        cdf = ECDF(out.T[i])\n",
    "        statistic, pvalue = stats.kstest(out.T[i], cdf=lambda x: ecdf[i](x))\n",
    "        axes[i].plot(cdf.x, cdf.y, lw=2, label='%s %.6f %.6f'%(label, statistic, pvalue));\n",
    "    axes[i].legend();"
   ]
  },
  {
   "cell_type": "code",
   "execution_count": null,
   "id": "d8456afb",
   "metadata": {},
   "outputs": [],
   "source": [
    "for feat in pos_feat_list[-2:] + neg_feat_list:\n",
    "    print('')\n",
    "    for f in feat[1:-1]:\n",
    "        f = filter_func(f)\n",
    "        out = kspca.transform(scaler.transform(f))\n",
    "        print('%.6f' % empirical_kstest(out, ecdf), end='\\t')\n",
    "    print('')"
   ]
  },
  {
   "cell_type": "code",
   "execution_count": null,
   "id": "e1ee6dc1",
   "metadata": {},
   "outputs": [],
   "source": [
    "for feat in (feat_np_922, feat_np_905, feat_np_601):\n",
    "    print('')\n",
    "    for f in feat:\n",
    "        f = filter_func(f)\n",
    "        out = kspca.transform(scaler.transform(f))\n",
    "        print('%.6f' % empirical_kstest(out, ecdf), end='\\t')"
   ]
  },
  {
   "cell_type": "code",
   "execution_count": null,
   "id": "8b7548ef",
   "metadata": {
    "scrolled": false
   },
   "outputs": [],
   "source": [
    "for feat in (feat_np_855, feat_np_313):\n",
    "    print('')\n",
    "    for f in feat:\n",
    "        f = filter_func(f)\n",
    "        out = kspca.transform(scaler.transform(f))\n",
    "        print('%.6f' % empirical_kstest(out, ecdf), end='\\t')"
   ]
  },
  {
   "cell_type": "code",
   "execution_count": null,
   "id": "9248729a",
   "metadata": {},
   "outputs": [],
   "source": [
    "_, ax = plt.subplots(1, 1, figsize=(12, 12))\n",
    "ax.plot(\n",
    "    kspca.explained_variance_ratio_, \"--o\", linewidth=2,\n",
    "    label=\"Explained variance ratio\"\n",
    ")\n",
    "ax.plot(\n",
    "    kspca.explained_variance_ratio_.cumsum(), \"--o\", linewidth=2,\n",
    "    label=\"Cumulative explained variance ratio\"\n",
    ")\n",
    "\n",
    "ax.legend(loc=\"best\", frameon=True);"
   ]
  },
  {
   "cell_type": "code",
   "execution_count": null,
   "id": "bdbeb913",
   "metadata": {
    "scrolled": true
   },
   "outputs": [],
   "source": [
    "draw_osd_sim(np.concatenate(sims_np_055, axis=1), figsize=(sims_np_055.shape[0] * 4, 8))"
   ]
  }
 ],
 "metadata": {
  "hide_input": false,
  "kernelspec": {
   "display_name": "Python 3",
   "language": "python",
   "name": "python3"
  },
  "language_info": {
   "codemirror_mode": {
    "name": "ipython",
    "version": 3
   },
   "file_extension": ".py",
   "mimetype": "text/x-python",
   "name": "python",
   "nbconvert_exporter": "python",
   "pygments_lexer": "ipython3",
   "version": "3.6.9"
  },
  "toc": {
   "base_numbering": 1,
   "nav_menu": {
    "height": "70.9943px",
    "width": "188.991px"
   },
   "number_sections": true,
   "sideBar": false,
   "skip_h1_title": true,
   "title_cell": "",
   "title_sidebar": "Contents",
   "toc_cell": false,
   "toc_position": {
    "height": "205.75px",
    "left": "1624.05px",
    "top": "66px",
    "width": "216px"
   },
   "toc_section_display": true,
   "toc_window_display": true
  }
 },
 "nbformat": 4,
 "nbformat_minor": 5
}
