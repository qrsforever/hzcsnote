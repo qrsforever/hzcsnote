{
 "cells": [
  {
   "cell_type": "markdown",
   "id": "loose-canyon",
   "metadata": {},
   "source": [
    "## 引入工具"
   ]
  },
  {
   "cell_type": "code",
   "execution_count": 1,
   "id": "according-success",
   "metadata": {
    "ExecuteTime": {
     "end_time": "2021-08-17T08:31:39.423357Z",
     "start_time": "2021-08-17T08:31:37.027520Z"
    },
    "hide_input": true
   },
   "outputs": [],
   "source": [
    "%reload_ext watermark\n",
    "%reload_ext autoreload\n",
    "%autoreload 2\n",
    "# %watermark -p numpy,sklearn,pandas\n",
    "# %watermark -p ipywidgets,cv2,PIL,matplotlib,plotly,netron\n",
    "# %watermark -p torch,torchvision,torchaudio\n",
    "# %watermark -p tensorflow,tensorboard,tflite\n",
    "# %watermark -p onnx,tf2onnx,onnxruntime,tensorrt,tvm\n",
    "# %matplotlib inline\n",
    "# %config InlineBackend.figure_format='retina'\n",
    "%config IPCompleter.use_jedi = False\n",
    "\n",
    "# from IPython.display import display, Markdown, HTML, IFrame, Image, Javascript\n",
    "# from IPython.core.magic import register_line_cell_magic, register_line_magic, register_cell_magic\n",
    "# display(HTML('<style>.container { width:%d%% !important; }</style>' % 90))\n",
    "\n",
    "import sys, os, io, logging, time, random, math\n",
    "import json, base64, requests, shutil\n",
    "import argparse, shlex, signal\n",
    "import numpy as np\n",
    "\n",
    "argparse.ArgumentParser.exit = lambda *arg, **kwargs: _IGNORE_\n",
    "\n",
    "def _IMPORT(x):\n",
    "    try: \n",
    "        x = x.strip()\n",
    "        if x[0] == '/':\n",
    "            with open(x) as fr:\n",
    "                x = fr.read()\n",
    "        elif 'github' in x or 'gitee' in x:\n",
    "            if x.startswith('import '):\n",
    "                x = x[7:]\n",
    "            if x.startswith('https://'):\n",
    "                x = x[8:]\n",
    "            if not x.endswith('.py'):\n",
    "                x = x + '.py'\n",
    "            x = x.replace('blob/main/', '').replace('blob/master/', '')\n",
    "            if x.startswith('raw.githubusercontent.com'):\n",
    "                uri = 'https://' + x\n",
    "                x = requests.get(uri)\n",
    "                if x.status_code == 200:\n",
    "                    x = x.text\n",
    "            elif x.startswith('github.com'):\n",
    "                uri = x.replace('github.com', 'raw.githubusercontent.com')\n",
    "                mod = uri.split('/')\n",
    "                for s in ['main', 'master']:\n",
    "                    uri = 'https://' + '/'.join(mod[:3]) + s + '/'.join(mod[-3:])\n",
    "                    x = requests.get(uri)\n",
    "                    if x.status_code == 200:\n",
    "                        x = x.text\n",
    "                        break\n",
    "            elif x.startswith('gitee.com'):\n",
    "                mod = x.split('/')\n",
    "                for s in ['/raw/main/', '/raw/master/']:\n",
    "                    uri = 'https://' + '/'.join(mod[:3]) + s + '/'.join(mod[3:])\n",
    "                    x = requests.get(uri)\n",
    "                    if x.status_code == 200:\n",
    "                        x = x.text\n",
    "                        break\n",
    "        exec(x, globals())\n",
    "    except:\n",
    "        pass\n",
    "\n",
    "def _DIR(x, dumps=True, ret=True):\n",
    "    attrs = sorted([y for y in dir(x) if not y.startswith('_')])\n",
    "    result = '%s: %s' % (str(type(x))[8:-2], json.dumps(attrs) if dumps else attrs)\n",
    "    if ret:\n",
    "        return result\n",
    "    print(result)\n"
   ]
  },
  {
   "cell_type": "markdown",
   "id": "logical-registration",
   "metadata": {},
   "source": [
    "## 解析配置"
   ]
  },
  {
   "cell_type": "code",
   "execution_count": 2,
   "id": "different-worth",
   "metadata": {
    "ExecuteTime": {
     "end_time": "2021-08-17T08:31:40.077515Z",
     "start_time": "2021-08-17T08:31:40.009998Z"
    },
    "hide_input": false
   },
   "outputs": [],
   "source": [
    "_IMPORT('/data/nb_easy/easy_widget.py')"
   ]
  },
  {
   "cell_type": "code",
   "execution_count": 3,
   "id": "subject-movement",
   "metadata": {
    "ExecuteTime": {
     "end_time": "2021-08-17T08:31:41.036307Z",
     "start_time": "2021-08-17T08:31:40.080350Z"
    },
    "code_folding": [
     0
    ],
    "scrolled": false
   },
   "outputs": [
    {
     "data": {
      "application/vnd.jupyter.widget-view+json": {
       "model_id": "726e3f16d74846c7a8d52ece36017c52",
       "version_major": 2,
       "version_minor": 0
      },
      "text/plain": [
       "Box(children=(Box(children=(VBox(children=(Tab(children=(VBox(children=(HBox(children=(Text(value='zmq.repnet_…"
      ]
     },
     "metadata": {},
     "output_type": "display_data"
    }
   ],
   "source": [
    "from utils import EVENTS\n",
    "\n",
    "RACEURL = 'http://116.85.68.193:9119'\n",
    "MSGKEY = 'nb.zmq.repnet_tf.gamma103'\n",
    "\n",
    "with open('schema.json', 'r') as fr:\n",
    "    schema_string = fr.read()\n",
    "    schema_string = schema_string.replace('zmq.repnet_tf.test', MSGKEY)\n",
    "    schema_string = schema_string.replace('http://host:port', RACEURL)\n",
    "    schema = json.loads(schema_string)\n",
    "easy = nbeasy_schema_parse(schema, events=EVENTS, debug=True);"
   ]
  },
  {
   "cell_type": "code",
   "execution_count": 4,
   "id": "7f334c87",
   "metadata": {},
   "outputs": [
    {
     "ename": "RuntimeError",
     "evalue": "No active exception to reraise",
     "output_type": "error",
     "traceback": [
      "\u001b[0;31m\u001b[0m",
      "\u001b[0;31mRuntimeError\u001b[0mTraceback (most recent call last)",
      "\u001b[0;32m<ipython-input-4-9c9a2cba73bf>\u001b[0m in \u001b[0;36m<module>\u001b[0;34m\u001b[0m\n\u001b[0;32m----> 1\u001b[0;31m \u001b[0;32mraise\u001b[0m\u001b[0;34m\u001b[0m\u001b[0;34m\u001b[0m\u001b[0m\n\u001b[0m",
      "\u001b[0;31mRuntimeError\u001b[0m: No active exception to reraise"
     ]
    }
   ],
   "source": [
    "raise"
   ]
  },
  {
   "cell_type": "markdown",
   "id": "180b3a17",
   "metadata": {},
   "source": [
    "1. https://frepai.s3.didiyunapi.com/datasets/vod/木槌加固/20211206123823.mp4"
   ]
  },
  {
   "cell_type": "markdown",
   "id": "405c699b",
   "metadata": {},
   "source": [
    "## Tools"
   ]
  },
  {
   "cell_type": "code",
   "execution_count": 4,
   "id": "9a849239",
   "metadata": {},
   "outputs": [],
   "source": [
    "import numpy as np\n",
    "import time\n",
    "from sklearn.manifold import TSNE\n",
    "import matplotlib.pyplot as plt\n",
    "from mpl_toolkits.mplot3d import Axes3D\n",
    "import seaborn as sns\n",
    "import matplotlib.patheffects as PathEffects\n",
    "from sklearn.decomposition import PCA\n",
    "from scipy import stats\n",
    "import pandas as pd\n",
    "from sklearn import preprocessing\n",
    "\n",
    "from matplotlib.colors import LogNorm\n",
    "import itertools \n",
    "# axes = list(itertools.chain.from_iterable(axes))\n",
    "from sklearn.manifold import Isomap\n",
    "\n",
    "from scipy.signal import medfilt\n",
    "import scipy.signal as signal\n",
    "from statsmodels.distributions.empirical_distribution import ECDF"
   ]
  },
  {
   "cell_type": "code",
   "execution_count": 5,
   "id": "c020b5e4",
   "metadata": {},
   "outputs": [],
   "source": [
    "def _denormal_image(x):\n",
    "    x -= x.mean()\n",
    "    x /= x.std()\n",
    "    x *= 64\n",
    "    x += 128\n",
    "    x = np.clip(x, 0, 255).astype('uint8')\n",
    "    return x"
   ]
  },
  {
   "cell_type": "code",
   "execution_count": 6,
   "id": "6e1c0328",
   "metadata": {},
   "outputs": [],
   "source": [
    "def outlier_detection(data):\n",
    "    q1, q3 = np.percentile(data, [25, 75])\n",
    "    iqr = q3 - q1\n",
    "    lower_bound = q1 - (iqr * 1.5)\n",
    "    upper_bound = q3 + (iqr * 1.5)\n",
    "    return np.where((data < lower_bound) | (data > upper_bound))"
   ]
  },
  {
   "cell_type": "code",
   "execution_count": 7,
   "id": "1c36fe60",
   "metadata": {},
   "outputs": [],
   "source": [
    "def plot_scatter(data, colors=None):\n",
    "    if len(data.shape) != 2:\n",
    "        xs = range(len(data))\n",
    "        ys = data\n",
    "    else:\n",
    "        if data.shape[1] == 1:\n",
    "            ys = data[:, 0]\n",
    "            xs = range(len(data))\n",
    "        else:\n",
    "            xs = data[:, 0]\n",
    "            ys = data[:, 1]\n",
    "        \n",
    "    plt.figure(figsize=(12, 12))\n",
    "    ax = plt.subplot(aspect='equal')\n",
    "    ax.scatter(xs, ys, c=colors, edgecolor='none', cmap=plt.cm.get_cmap('Paired', 2))\n",
    "    plt.xlim(-25, 25)\n",
    "    plt.ylim(-25, 25)\n",
    "    ax.axis('on')\n",
    "    ax.axis('tight')"
   ]
  },
  {
   "cell_type": "code",
   "execution_count": 8,
   "id": "f47a11f6",
   "metadata": {},
   "outputs": [],
   "source": [
    "def draw_osd_sim(sim, size=128, figsize=(8, 8)):\n",
    "    fig, ax = plt.subplots(figsize=figsize)\n",
    "    plt.axis('off')\n",
    "    # fig.set_size_inches(size / 100.0, size / 100.0)\n",
    "    plt.gca().xaxis.set_major_locator(plt.NullLocator())\n",
    "    plt.gca().yaxis.set_major_locator(plt.NullLocator())\n",
    "    plt.subplots_adjust(top=1, bottom=0, left=0, right=1, hspace=0, wspace=0)\n",
    "    plt.margins(0,0)\n",
    "    plt.imshow(sim, cmap='hot', interpolation='nearest', norm=LogNorm())"
   ]
  },
  {
   "cell_type": "code",
   "execution_count": 9,
   "id": "5653fcee",
   "metadata": {},
   "outputs": [],
   "source": [
    "def moving_average(arr, axis=0, wsize=3):\n",
    "    return np.apply_along_axis(lambda m: np.convolve(m, np.ones(wsize)/wsize, mode='same'), axis=axis, arr=arr)"
   ]
  },
  {
   "cell_type": "markdown",
   "id": "bb8a32d3",
   "metadata": {},
   "source": [
    "## Datasets"
   ]
  },
  {
   "cell_type": "code",
   "execution_count": 10,
   "id": "f794e9a1",
   "metadata": {},
   "outputs": [],
   "source": [
    "EMBS_DIR = '/data/embs'"
   ]
  },
  {
   "cell_type": "code",
   "execution_count": 439,
   "id": "dfc7254a",
   "metadata": {},
   "outputs": [],
   "source": [
    "%%bash\n",
    "\n",
    "DST_DIR=/data/embs\n",
    "URL_PREFIX=https://frepai.s3.didiyunapi.com/datasets/vod/outputs\n",
    "\n",
    "# '20211201161714/1638627646'\n",
    "FILES=(\n",
    "    'https://frepai.s3.didiyunapi.com/live/002b359e3931/20211209/outputs/20211209185601/1639139783/embs_sims.npy'\n",
    "    '20211130112549/1638626932'\n",
    "    '20211201074745/1638627005'\n",
    "    '20211201110905/1638627357'\n",
    "    '20211203163819/1638629398'\n",
    "    '20211203164823/1638627707'\n",
    "    '20211203172839/1638627775'\n",
    "    '20211204105928/1638627847'\n",
    "    '20211204110932/1638629800'\n",
    "    '20211204152111/1638627907'\n",
    "    '20211206105743/1638779824'\n",
    "    '20211206135855/1638779140'\n",
    "    '20211208111014/1638960811'\n",
    "    '20211208085922/1638962305'\n",
    "    '20211208130057/1638962698'\n",
    "    '20211208131101/1638965346'\n",
    "    '20211207153832/1638965410'\n",
    "    '20211207082623/1638965552'\n",
    "    '20211206103735/1638965907'\n",
    "    '20211206133847/1638968071'\n",
    "    '20211207082623/1638968809'\n",
    "    '20211206154939/1638968916'\n",
    "    '20211206111751/1638969132'\n",
    "    '20211206182646/1638969310'\n",
    "    '20211206081640/1638969405'\n",
    "    '20211206095719/1638969604'\n",
    "    '20211206090659/1638969794'\n",
    "    '20211204160127/1638970410'\n",
    "    '20211204161131/1638977093'\n",
    "    '20211204111936/1638977308'\n",
    "    '20211204091848/1638982295'\n",
    "    '20211204083832/1638982376'\n",
    "    '20211206152931/1638982558'\n",
    "    '20211209131345/1639031048'\n",
    "    '20211209124333/1639031238'\n",
    "    '20211209105308/1639031374'\n",
    "    '20211209093630/1639036149'\n",
    "    '20211209092622/1639036291'\n",
    "    '20211209085558/1639036369'\n",
    "    '20211209114313/1639037498'\n",
    "    '20211209080518/1639040475'\n",
    "    \n",
    "    '20211201095837/1638627981'\n",
    "    '20211204124008/1638629958'\n",
    "    '20211204144055/1638628049'\n",
    "    '20211204101912/1639042951'\n",
    "    \n",
    "    \n",
    "    '20211209132349/1639040172' # noise\n",
    "    \n",
    "    \n",
    "    '20211209173627/1639139427' # another machine\n",
    ")\n",
    "\n",
    "for file_ts in ${FILES[@]}\n",
    "do\n",
    "    if [[ ${file_ts:0:8} == 'https://' ]]\n",
    "    then\n",
    "        file=`echo ${file_ts:8} | cut -d/ -f6`\n",
    "        if [[ ! -f $DST_DIR/${file}_feat.npy ]]\n",
    "        then\n",
    "            file=`echo ${file_ts:8} | cut -d/ -f6`\n",
    "            echo $DST_DIR $file_ts\n",
    "            wget -q -P $DST_DIR $file_ts\n",
    "            echo $DST_DIR ${file_ts/sims.npy/feat.npy}\n",
    "            wget -q -P $DST_DIR ${file_ts/sims.npy/feat.npy}\n",
    "            mv $DST_DIR/embs_feat.npy $DST_DIR/${file}_feat.npy\n",
    "            mv $DST_DIR/embs_sims.npy $DST_DIR/${file}_sims.npy\n",
    "        fi\n",
    "    else\n",
    "        file=`echo $file_ts | cut -d/ -f1`\n",
    "        if [[ ! -f $DST_DIR/${file}_feat.npy ]]\n",
    "        then\n",
    "            echo $DST_DIR $URL_PREFIX/$file_ts/embs_sims.npy\n",
    "            wget -q -P $DST_DIR $URL_PREFIX/$file_ts/embs_sims.npy\n",
    "            echo $DST_DIR $URL_PREFIX/$file_ts/embs_feat.npy\n",
    "            wget -q -P $DST_DIR $URL_PREFIX/$file_ts/embs_feat.npy\n",
    "            mv $DST_DIR/embs_feat.npy $DST_DIR/${file}_feat.npy\n",
    "            mv $DST_DIR/embs_sims.npy $DST_DIR/${file}_sims.npy\n",
    "        fi\n",
    "    fi\n",
    "done"
   ]
  },
  {
   "cell_type": "code",
   "execution_count": 437,
   "id": "d891b557",
   "metadata": {},
   "outputs": [
    {
     "name": "stdout",
     "output_type": "stream",
     "text": [
      "https://frepai.s3.didiyunapi.com/live/002b359e3931/20211209/outputs/20211209185601/1639139783/embs_feat.npy\n"
     ]
    }
   ],
   "source": [
    "%%bash\n",
    "\n",
    "a='https://frepai.s3.didiyunapi.com/live/002b359e3931/20211209/outputs/20211209185601/1639139783/embs_sims.npy'\n",
    "echo ${a/sims.npy/feat.npy}"
   ]
  },
  {
   "cell_type": "markdown",
   "id": "6631a241",
   "metadata": {},
   "source": [
    "### Pos Datasets"
   ]
  },
  {
   "cell_type": "code",
   "execution_count": 12,
   "id": "d4b84221",
   "metadata": {},
   "outputs": [
    {
     "data": {
      "text/plain": [
       "39"
      ]
     },
     "execution_count": 12,
     "metadata": {},
     "output_type": "execute_result"
    }
   ],
   "source": [
    "pos_embs_files1 = [\n",
    "    '20211130112549',\n",
    "    '20211201074745',\n",
    "    '20211201161714',\n",
    "    '20211203172839',\n",
    "    '20211206135855',\n",
    "    '20211204152111',\n",
    "    '20211201110905',\n",
    "    '20211204105928',\n",
    "    '20211208111014',\n",
    "    '20211208085922',\n",
    "    '20211208130057',\n",
    "    '20211207153832',\n",
    "    '20211206182646',\n",
    "    '20211206081640',\n",
    "    '20211206090659',\n",
    "    '20211204091848',\n",
    "    '20211206154939',\n",
    "    '20211204160127',\n",
    "    '20211209092622',\n",
    "]\n",
    "\n",
    "pos_embs_files2 = [\n",
    "    '20211203164823',\n",
    "    '20211204110932', # b1\n",
    "    '20211208131101',\n",
    "    '20211207082623',\n",
    "    '20211203163819', #\n",
    "    '20211206103735',\n",
    "    '20211206133847',\n",
    "    '20211207082623',\n",
    "    '20211206111751',\n",
    "    '20211206095719',\n",
    "    '20211204161131',\n",
    "    '20211204111936',\n",
    "    '20211204083832',\n",
    "    '20211206152931',\n",
    "    '20211209131345', # b1\n",
    "    '20211209124333',\n",
    "    '20211209105308',\n",
    "    '20211209085558',\n",
    "    '20211209080518', # l:2\n",
    "]\n",
    "\n",
    "pos_embs_files3 = [\n",
    "    '20211209093630'\n",
    "]\n",
    "\n",
    "\n",
    "# test \n",
    "test_files = [\n",
    "    '20211209114313'\n",
    "]\n",
    "\n",
    "pos_embs_files = pos_embs_files1 + pos_embs_files2  + pos_embs_files3 \n",
    "len(pos_embs_files)"
   ]
  },
  {
   "cell_type": "code",
   "execution_count": 13,
   "id": "f265b631",
   "metadata": {},
   "outputs": [
    {
     "data": {
      "text/plain": [
       "(195, 64, 512)"
      ]
     },
     "execution_count": 13,
     "metadata": {},
     "output_type": "execute_result"
    }
   ],
   "source": [
    "pos_feat_list = []\n",
    "for s in pos_embs_files:\n",
    "    pos_feat_list.append(np.load(f'{EMBS_DIR}/{s}_feat.npy'))\n",
    "    \n",
    "pos_feat_np = np.vstack(pos_feat_list)\n",
    "pos_feat_np.shape"
   ]
  },
  {
   "cell_type": "code",
   "execution_count": 121,
   "id": "bce51283",
   "metadata": {
    "deletable": false,
    "editable": false,
    "run_control": {
     "frozen": true
    }
   },
   "outputs": [
    {
     "data": {
      "text/plain": [
       "(103, 64, 64)"
      ]
     },
     "execution_count": 121,
     "metadata": {},
     "output_type": "execute_result"
    }
   ],
   "source": [
    "pos_sims_list = []\n",
    "for s in pos_embs_files:\n",
    "    pos_sims_list.append(np.load(f'{EMBS_DIR}/{s}_sims.npy')[1:-1])\n",
    "    \n",
    "pos_sims_np = np.vstack(pos_sims_list)\n",
    "pos_sims_np.shape"
   ]
  },
  {
   "cell_type": "markdown",
   "id": "bf64aff3",
   "metadata": {},
   "source": [
    "#### A"
   ]
  },
  {
   "cell_type": "code",
   "execution_count": 14,
   "id": "3767757f",
   "metadata": {},
   "outputs": [],
   "source": [
    "def np_info(data):\n",
    "    print('%.5f' % data.min(), '%.5f' % data.max(), '%.5f' % data.mean(), '%.5f' % data.std())"
   ]
  },
  {
   "cell_type": "code",
   "execution_count": 440,
   "id": "4c8133ad",
   "metadata": {},
   "outputs": [
    {
     "data": {
      "text/plain": [
       "((4, 64, 512), (5, 64, 512), (6, 64, 512), (6, 64, 512))"
      ]
     },
     "execution_count": 440,
     "metadata": {},
     "output_type": "execute_result"
    }
   ],
   "source": [
    "feat_np_905 = np.load(f'{EMBS_DIR}/20211201110905_feat.npy')\n",
    "feat_np_819 = np.load(f'{EMBS_DIR}/20211203163819_feat.npy') # b1-\n",
    "feat_np_928 = np.load(f'{EMBS_DIR}/20211204105928_feat.npy')\n",
    "feat_np_922 = np.load(f'{EMBS_DIR}/20211208085922_feat.npy')\n",
    "feat_np_855 = np.load(f'{EMBS_DIR}/20211206135855_feat.npy')\n",
    "\n",
    "feat_np_313 = np.load(f'{EMBS_DIR}/20211209114313_feat.npy')\n",
    "\n",
    "feat_np_601 = np.load(f'{EMBS_DIR}/20211209185601_feat.npy')\n",
    "\n",
    "\n",
    "feat_np_055 = np.load(f'{EMBS_DIR}/20211204144055_feat.npy')\n",
    "feat_np_912 = np.load(f'{EMBS_DIR}/20211204101912_feat.npy')\n",
    "\n",
    "feat_np_627 = np.load(f'{EMBS_DIR}/20211209173627_feat.npy')[:5] # another\n",
    "\n",
    "feat_np_905.shape, feat_np_819.shape, feat_np_928.shape, feat_np_055.shape"
   ]
  },
  {
   "cell_type": "code",
   "execution_count": 421,
   "id": "f271ba62",
   "metadata": {},
   "outputs": [],
   "source": [
    "sims_np_905 = np.load(f'{EMBS_DIR}/20211201110905_sims.npy')\n",
    "sims_np_819 = np.load(f'{EMBS_DIR}/20211203163819_sims.npy')\n",
    "sims_np_928 = np.load(f'{EMBS_DIR}/20211204105928_sims.npy')\n",
    "sims_np_922 = np.load(f'{EMBS_DIR}/20211208085922_sims.npy')\n",
    "sims_np_855 = np.load(f'{EMBS_DIR}/20211206135855_sims.npy')\n",
    "\n",
    "sims_np_313 = np.load(f'{EMBS_DIR}/20211209114313_sims.npy')\n",
    "\n",
    "\n",
    "sims_np_055 = np.load(f'{EMBS_DIR}/20211204144055_sims.npy')\n",
    "sims_np_912 = np.load(f'{EMBS_DIR}/20211204101912_sims.npy')"
   ]
  },
  {
   "cell_type": "code",
   "execution_count": 17,
   "id": "884dfe38",
   "metadata": {},
   "outputs": [],
   "source": [
    "# pos\n",
    "\n",
    "feat_np_905_512 = feat_np_905.reshape(-1, 512)\n",
    "feat_np_819_512 = feat_np_819.reshape(-1, 512)\n",
    "feat_np_928_512 = feat_np_928.reshape(-1, 512)\n",
    "feat_np_922_512 = feat_np_922.reshape(-1, 512)\n",
    "\n",
    "feat_np_855_512 = feat_np_855.reshape(-1, 512) # 2\n",
    "\n",
    "feat_np_313_512 = feat_np_313.reshape(-1, 512) # test\n",
    "\n",
    "# neg\n",
    "\n",
    "feat_np_055_512 = feat_np_055.reshape(-1, 512)\n",
    "feat_np_912_512 = feat_np_912.reshape(-1, 512)"
   ]
  },
  {
   "cell_type": "markdown",
   "id": "c10cf6c8",
   "metadata": {},
   "source": [
    "#### KSTest"
   ]
  },
  {
   "cell_type": "code",
   "execution_count": 298,
   "id": "e3b160ea",
   "metadata": {},
   "outputs": [],
   "source": [
    "scaler1 = preprocessing.StandardScaler()\n",
    "scaler2 = preprocessing.MinMaxScaler()\n",
    "scaler3 = preprocessing.RobustScaler(quantile_range=(25., 75.))\n",
    "scaler4 = preprocessing.Normalizer()\n",
    "NC = 128\n",
    "pca = PCA(n_components=NC)\n",
    "ios = Isomap(n_components=NC)\n",
    "# tril = np.tril_indices(64)\n",
    "# tsne = TSNE(n_components=2, random_state=0)"
   ]
  },
  {
   "cell_type": "code",
   "execution_count": 286,
   "id": "47fc0e5f",
   "metadata": {},
   "outputs": [
    {
     "data": {
      "text/plain": [
       "(105, 64, 512)"
      ]
     },
     "execution_count": 286,
     "metadata": {},
     "output_type": "execute_result"
    }
   ],
   "source": [
    "feat_data1 = []\n",
    "for file in pos_embs_files1:\n",
    "     feat_data1.append(np.load(f'{EMBS_DIR}/{file}_feat.npy'))\n",
    "data_feat1 = np.concatenate(feat_data1, axis=0)\n",
    "data_feat1.shape"
   ]
  },
  {
   "cell_type": "code",
   "execution_count": 287,
   "id": "9e1f5163",
   "metadata": {},
   "outputs": [
    {
     "data": {
      "text/plain": [
       "(87, 64, 512)"
      ]
     },
     "execution_count": 287,
     "metadata": {},
     "output_type": "execute_result"
    }
   ],
   "source": [
    "feat_data2 = []\n",
    "for file in pos_embs_files2:\n",
    "     feat_data2.append(np.load(f'{EMBS_DIR}/{file}_feat.npy'))\n",
    "data_feat2 = np.concatenate(feat_data2, axis=0)\n",
    "data_feat2.shape"
   ]
  },
  {
   "cell_type": "code",
   "execution_count": 288,
   "id": "a0dd9986",
   "metadata": {},
   "outputs": [
    {
     "data": {
      "text/plain": [
       "(3, 64, 512)"
      ]
     },
     "execution_count": 288,
     "metadata": {},
     "output_type": "execute_result"
    }
   ],
   "source": [
    "feat_data3 = []\n",
    "for file in pos_embs_files3:\n",
    "     feat_data3.append(np.load(f'{EMBS_DIR}/{file}_feat.npy'))\n",
    "data_feat3 = np.concatenate(feat_data3, axis=0)\n",
    "data_feat3.shape"
   ]
  },
  {
   "cell_type": "code",
   "execution_count": 289,
   "id": "2ffca6e2",
   "metadata": {},
   "outputs": [],
   "source": [
    "data1 = data_feat1.reshape((-1, 512))\n",
    "data2 = data_feat2.reshape((-1, 512))\n",
    "data3 = data_feat3.reshape((-1, 512))\n",
    "data = np.concatenate([data1, data2, data3], axis=0)"
   ]
  },
  {
   "cell_type": "code",
   "execution_count": 444,
   "id": "e83aa47b",
   "metadata": {},
   "outputs": [
    {
     "data": {
      "text/plain": [
       "0.42354095104383305"
      ]
     },
     "execution_count": 444,
     "metadata": {},
     "output_type": "execute_result"
    }
   ],
   "source": [
    "cdata = data.copy()\n",
    "scaler = scaler4\n",
    "\n",
    "kspca = pca\n",
    "\n",
    "# filter_func = lambda x: moving_average(x, wsize=3)\n",
    "# filter_func = lambda x: signal.medfilt2d(x, kernel_size=(3,1))\n",
    "# filter_func = lambda x: np.diff(x, axis=0, prepend=0)\n",
    "filter_func = lambda x: x\n",
    "\n",
    "cdata = filter_func(cdata)\n",
    "\n",
    "scaler.fit(cdata)\n",
    "data_out = kspca.fit_transform(scaler.transform(cdata))\n",
    "\n",
    "ecdf = [ECDF(sample) for sample in data_out.T]\n",
    "\n",
    "# print(kspca.explained_variance_ratio_)\n",
    "\n",
    "def embedding_accuracy(test, main, alpha=0.01):\n",
    "    pvals = np.array([stats.ks_2samp(test[:, i], data_out[:, i])[1] for i in range(test.shape[-1])])\n",
    "    return sum(kspca.explained_variance_ratio_[pvals > alpha])\n",
    "    # return np.mean(pvals > alpha)\n",
    "     \n",
    "def empirical_kstest(test, ecdf, alpha=0.01):\n",
    "    pvals = np.array([stats.kstest(test[:, i], cdf=lambda x: ecdf[i](x))[1] for i in range(test.shape[-1])])\n",
    "    return sum(kspca.explained_variance_ratio_[pvals > alpha])\n",
    "    # return np.mean(pvals > alpha)\n",
    "    \n",
    "sum(kspca.explained_variance_ratio_) / 2"
   ]
  },
  {
   "cell_type": "code",
   "execution_count": 424,
   "id": "1651bf86",
   "metadata": {
    "scrolled": false
   },
   "outputs": [
    {
     "data": {
      "image/png": "[encoded data removed]",
      "text/plain": [
       "<Figure size 1296x1296 with 4 Axes>"
      ]
     },
     "metadata": {
      "needs_background": "light"
     },
     "output_type": "display_data"
    }
   ],
   "source": [
    "fig, axes = plt.subplots(2, 2, figsize=(18, 18), sharex=True)\n",
    "axes = list(itertools.chain.from_iterable(axes))\n",
    "for i in range(len(axes)):\n",
    "    axes[i].set_title('feature %d (%.6f)' % (i + 1, kspca.explained_variance_ratio_[i]))\n",
    "    axes[i].plot(ecdf[i].x, ecdf[i].y, color='b', lw=3, label='global');\n",
    "    for label, feat in (('bad', feat_np_055), ('good', feat_np_922), ('soso', feat_np_855), ('other', feat_np_627)):\n",
    "        out = kspca.transform(scaler.transform(feat[1]))\n",
    "        cdf = ECDF(out.T[i])\n",
    "        statistic, pvalue = stats.kstest(out.T[i], cdf=lambda x: ecdf[i](x))\n",
    "        axes[i].plot(cdf.x, cdf.y, lw=2, label='%s %.6f %.6f'%(label, statistic, pvalue));\n",
    "    axes[i].legend();"
   ]
  },
  {
   "cell_type": "code",
   "execution_count": 423,
   "id": "c6b5a642",
   "metadata": {},
   "outputs": [
    {
     "name": "stdout",
     "output_type": "stream",
     "text": [
      "\n",
      "0.366251\t0.269743\t0.374854\t0.179355\t0.281497\t0.213747\t\n",
      "0.333090\t0.296269\t0.336155\t0.149895\t0.314837\t0.219530\t0.000000\t\n",
      "0.216413\t0.165725\t0.126878\t0.266526\t0.174569\t"
     ]
    }
   ],
   "source": [
    "for feat in (feat_np_055, feat_np_912, feat_np_627):\n",
    "    print('')\n",
    "    for f in feat:\n",
    "        f = filter_func(f)\n",
    "        out = kspca.transform(scaler.transform(f))\n",
    "        print('%.6f' % empirical_kstest(out, ecdf), end='\\t')"
   ]
  },
  {
   "cell_type": "code",
   "execution_count": 442,
   "id": "e1ee6dc1",
   "metadata": {},
   "outputs": [
    {
     "name": "stdout",
     "output_type": "stream",
     "text": [
      "\n",
      "0.463535\t0.585085\t0.385845\t\n",
      "0.371635\t0.523607\t0.421235\t0.313334\t\n",
      "0.439886\t0.331289\t0.462828\t0.542151\t0.451235\t0.474509\t0.512969\t0.535135\t0.491144\t0.000000\t"
     ]
    }
   ],
   "source": [
    "for feat in (feat_np_922, feat_np_905, feat_np_601):\n",
    "    print('')\n",
    "    for f in feat:\n",
    "        f = filter_func(f)\n",
    "        out = kspca.transform(scaler.transform(f))\n",
    "        print('%.6f' % empirical_kstest(out, ecdf), end='\\t')"
   ]
  },
  {
   "cell_type": "code",
   "execution_count": 443,
   "id": "1f56ae96",
   "metadata": {},
   "outputs": [
    {
     "data": {
      "text/plain": [
       "(10, 64, 512)"
      ]
     },
     "execution_count": 443,
     "metadata": {},
     "output_type": "execute_result"
    }
   ],
   "source": [
    "feat_np_601.shape"
   ]
  },
  {
   "cell_type": "code",
   "execution_count": 322,
   "id": "8b7548ef",
   "metadata": {
    "scrolled": false
   },
   "outputs": [
    {
     "name": "stdout",
     "output_type": "stream",
     "text": [
      "\n",
      "0.551089\t0.528747\t0.453001\t0.482319\t0.000000\t\n",
      "0.337015\t0.242057\t0.306189\t0.609690\t0.090056\t"
     ]
    }
   ],
   "source": [
    "for feat in (feat_np_855, feat_np_313):\n",
    "    print('')\n",
    "    for f in feat:\n",
    "        f = filter_func(f)\n",
    "        out = kspca.transform(scaler.transform(f))\n",
    "        print('%.6f' % empirical_kstest(out, ecdf), end='\\t')"
   ]
  },
  {
   "cell_type": "code",
   "execution_count": 317,
   "id": "9248729a",
   "metadata": {},
   "outputs": [
    {
     "data": {
      "image/png": "[encoded data removed]",
      "text/plain": [
       "<Figure size 864x864 with 1 Axes>"
      ]
     },
     "metadata": {
      "needs_background": "light"
     },
     "output_type": "display_data"
    }
   ],
   "source": [
    "_, ax = plt.subplots(1, 1, figsize=(12, 12))\n",
    "ax.plot(\n",
    "    kspca.explained_variance_ratio_, \"--o\", linewidth=2,\n",
    "    label=\"Explained variance ratio\"\n",
    ")\n",
    "ax.plot(\n",
    "    kspca.explained_variance_ratio_.cumsum(), \"--o\", linewidth=2,\n",
    "    label=\"Cumulative explained variance ratio\"\n",
    ")\n",
    "\n",
    "ax.legend(loc=\"best\", frameon=True);"
   ]
  },
  {
   "cell_type": "code",
   "execution_count": null,
   "id": "bdbeb913",
   "metadata": {
    "scrolled": true
   },
   "outputs": [],
   "source": [
    "draw_osd_sim(np.concatenate(sims_np_055, axis=1), figsize=(sims_np_055.shape[0] * 4, 8))"
   ]
  },
  {
   "cell_type": "code",
   "execution_count": null,
   "id": "311ed8bd",
   "metadata": {},
   "outputs": [],
   "source": [
    "draw_osd_sim(np.concatenate(sims_np_922, axis=1), figsize=(sims_np_922.shape[0] * 4, 8))"
   ]
  },
  {
   "cell_type": "code",
   "execution_count": null,
   "id": "7886f074",
   "metadata": {},
   "outputs": [],
   "source": [
    "draw_osd_sim(np.concatenate(sims_np_819, axis=1), figsize=(sims_np_819.shape[0] * 4, 8))"
   ]
  },
  {
   "cell_type": "code",
   "execution_count": null,
   "id": "00eb41b6",
   "metadata": {},
   "outputs": [],
   "source": [
    "pd.DataFrame(neg_outs[0]).describe()"
   ]
  },
  {
   "cell_type": "code",
   "execution_count": null,
   "id": "b7785d00",
   "metadata": {},
   "outputs": [],
   "source": [
    "pd.DataFrame(pos1_outs[0]).describe()"
   ]
  },
  {
   "cell_type": "markdown",
   "id": "14a817f2",
   "metadata": {},
   "source": [
    "### A1"
   ]
  },
  {
   "cell_type": "code",
   "execution_count": null,
   "id": "c082cf03",
   "metadata": {},
   "outputs": [],
   "source": [
    "pca4 = PCA(n_components=4)\n",
    "feat_np_905_out = pca4.fit_transform(feat_np_905_512)\n",
    "np.cumsum(pca4.explained_variance_ratio_)[-1]"
   ]
  },
  {
   "cell_type": "code",
   "execution_count": null,
   "id": "b532056c",
   "metadata": {},
   "outputs": [],
   "source": [
    "np_info(feat_np_905_out[:, 0])"
   ]
  },
  {
   "cell_type": "code",
   "execution_count": null,
   "id": "43b19e3a",
   "metadata": {},
   "outputs": [],
   "source": [
    "feat_np_819_out = pca4.fit_transform(feat_np_819_512)\n",
    "np.cumsum(pca4.explained_variance_ratio_)[-1]"
   ]
  },
  {
   "cell_type": "code",
   "execution_count": null,
   "id": "d696f800",
   "metadata": {},
   "outputs": [],
   "source": [
    "np_info(feat_np_819_out[:, 0])"
   ]
  },
  {
   "cell_type": "code",
   "execution_count": null,
   "id": "01e66bc9",
   "metadata": {},
   "outputs": [],
   "source": [
    "feat_np_928_out = pca4.fit_transform(feat_np_928_512)\n",
    "np.cumsum(pca4.explained_variance_ratio_)[-1]"
   ]
  },
  {
   "cell_type": "code",
   "execution_count": null,
   "id": "fd05db6a",
   "metadata": {},
   "outputs": [],
   "source": [
    "np_info(feat_np_928_out[:, 0])"
   ]
  },
  {
   "cell_type": "code",
   "execution_count": null,
   "id": "5eb593c6",
   "metadata": {},
   "outputs": [],
   "source": [
    "feat_np_055_out = pca4.transform(feat_np_055_512)\n",
    "np.cumsum(pca4.explained_variance_ratio_)[-1]"
   ]
  },
  {
   "cell_type": "code",
   "execution_count": null,
   "id": "ac52eaf5",
   "metadata": {},
   "outputs": [],
   "source": [
    "np_info(feat_np_055_out[:, 0])"
   ]
  },
  {
   "cell_type": "markdown",
   "id": "8503a3d3",
   "metadata": {},
   "source": [
    "#### B"
   ]
  },
  {
   "cell_type": "code",
   "execution_count": null,
   "id": "93b80412",
   "metadata": {},
   "outputs": [],
   "source": [
    "a = pos_feat_np.reshape((-1, 512))"
   ]
  },
  {
   "cell_type": "code",
   "execution_count": null,
   "id": "a9b1e5ab",
   "metadata": {},
   "outputs": [],
   "source": [
    "feats = []\n",
    "for feat in a:\n",
    "    feats.append(_denormal_image(feat))"
   ]
  },
  {
   "cell_type": "code",
   "execution_count": null,
   "id": "1b5e30de",
   "metadata": {},
   "outputs": [],
   "source": [
    "feats_np = np.vstack(feats)"
   ]
  },
  {
   "cell_type": "code",
   "execution_count": null,
   "id": "db68fe2d",
   "metadata": {},
   "outputs": [],
   "source": [
    "feats_np.shape"
   ]
  },
  {
   "cell_type": "code",
   "execution_count": null,
   "id": "94994c99",
   "metadata": {},
   "outputs": [],
   "source": [
    "pca = PCA(n_components=64)\n",
    "pca.fit(feats_np)"
   ]
  },
  {
   "cell_type": "code",
   "execution_count": null,
   "id": "67d84275",
   "metadata": {},
   "outputs": [],
   "source": [
    "np.cumsum(pca.explained_variance_ratio_)[-1]"
   ]
  },
  {
   "cell_type": "code",
   "execution_count": null,
   "id": "989fb3d9",
   "metadata": {},
   "outputs": [],
   "source": [
    "plot_scatter(np.cumsum(pca.explained_variance_ratio_))"
   ]
  },
  {
   "cell_type": "code",
   "execution_count": null,
   "id": "20e55662",
   "metadata": {},
   "outputs": [],
   "source": [
    "pos_feat_64 = pca.transform(feats_np)\n",
    "\n",
    "pos_feat_64_0 = pos_feat_64 - pos_feat_64.mean(axis=0)\n",
    "pos_feat_64_1 = pos_feat_64_0 - pos_feat_64_0.mean(axis=1).reshape((-1, 1))\n",
    "\n",
    "plot_scatter(pos_feat_64_1)"
   ]
  },
  {
   "cell_type": "code",
   "execution_count": null,
   "id": "adebb796",
   "metadata": {},
   "outputs": [],
   "source": [
    "plt.figure(figsize=(24, 24))\n",
    "plt.imshow(b[10:64])"
   ]
  },
  {
   "cell_type": "markdown",
   "id": "beb6bb84",
   "metadata": {},
   "source": [
    "### Neg Datasets"
   ]
  },
  {
   "cell_type": "code",
   "execution_count": null,
   "id": "f9110d52",
   "metadata": {},
   "outputs": [],
   "source": [
    "neg_embs_files = (\n",
    "    '20211201095837',\n",
    "    '20211204124008',\n",
    "    '20211204144055',\n",
    ")"
   ]
  },
  {
   "cell_type": "code",
   "execution_count": null,
   "id": "c16cd940",
   "metadata": {},
   "outputs": [],
   "source": [
    "neg_feat_list = []\n",
    "for s in neg_embs_files:\n",
    "    neg_feat_list.append(np.load(f'{EMBS_DIR}/{s}_feat.npy'))\n",
    "    \n",
    "neg_feat_np = np.vstack(neg_feat_list)\n",
    "neg_feat_np.shape"
   ]
  },
  {
   "cell_type": "code",
   "execution_count": null,
   "id": "0d9380c9",
   "metadata": {},
   "outputs": [],
   "source": [
    "neg_sims_list = []\n",
    "for s in neg_embs_files:\n",
    "    neg_sims_list.append(np.load(f'{EMBS_DIR}/{s}_sims.npy')[1:-1])\n",
    "    \n",
    "neg_sims_np = np.vstack(neg_sims_list)\n",
    "neg_sims_np.shape"
   ]
  },
  {
   "cell_type": "markdown",
   "id": "d94a257c",
   "metadata": {},
   "source": [
    "## PCA"
   ]
  },
  {
   "cell_type": "markdown",
   "id": "0f9df638",
   "metadata": {},
   "source": [
    "### Feat"
   ]
  },
  {
   "cell_type": "code",
   "execution_count": null,
   "id": "ae090775",
   "metadata": {},
   "outputs": [],
   "source": [
    "pos_feat_512 = pos_feat_np.reshape((-1, 512)).copy()\n",
    "neg_feat_512 = neg_feat_np.reshape((-1, 512)).copy()\n",
    "pos_feat_512.shape, neg_feat_512.shape"
   ]
  },
  {
   "cell_type": "code",
   "execution_count": null,
   "id": "88caccd8",
   "metadata": {},
   "outputs": [],
   "source": [
    "pos_feat_512_0 = pos_feat_512 - pos_feat_512.mean(axis=0)\n",
    "pos_feat_512_1 = pos_feat_512_0 - pos_feat_512_0.mean(axis=1).reshape((-1, 1))\n",
    "\n",
    "plot_scatter(pos_feat_512_1)"
   ]
  },
  {
   "cell_type": "code",
   "execution_count": null,
   "id": "0a753a3b",
   "metadata": {},
   "outputs": [],
   "source": [
    "neg_feat_512_0 = neg_feat_512 - neg_feat_512.mean(axis=0)\n",
    "neg_feat_512_1 = neg_feat_512_0 - neg_feat_512_0.mean(axis=1).reshape((-1, 1))\n",
    "\n",
    "plot_scatter(neg_feat_512_1)\n",
    "# neg_feat_512_1[100:120]"
   ]
  },
  {
   "cell_type": "code",
   "execution_count": null,
   "id": "beb10bdb",
   "metadata": {},
   "outputs": [],
   "source": [
    "neg_feat_512_0 = neg_feat_512 - pos_feat_512.mean(axis=0)\n",
    "neg_feat_512_1 = neg_feat_512_0 - neg_feat_512_0.mean(axis=1).reshape((-1, 1))\n",
    "\n",
    "plot_scatter(neg_feat_512_1)\n",
    "# neg_feat_512_1[100:120]"
   ]
  },
  {
   "cell_type": "code",
   "execution_count": null,
   "id": "cbb91b75",
   "metadata": {},
   "outputs": [],
   "source": [
    "targets = [0] * pos_feat_512.shape[0] + [1] * neg_feat_512.shape[0]\n",
    "# plot_scatter(pos_output, colors=targets)\n",
    "plot_scatter(np.vstack([pos_feat_512_1, neg_feat_512_1]), colors=targets)"
   ]
  },
  {
   "cell_type": "code",
   "execution_count": null,
   "id": "f8ddba1f",
   "metadata": {},
   "outputs": [],
   "source": [
    "pca = PCA(n_components=32)\n",
    "pca.fit(pos_feat_512)"
   ]
  },
  {
   "cell_type": "code",
   "execution_count": null,
   "id": "9a87947e",
   "metadata": {},
   "outputs": [],
   "source": [
    "pos_feat_512[1, :10]"
   ]
  },
  {
   "cell_type": "code",
   "execution_count": null,
   "id": "7297ec12",
   "metadata": {},
   "outputs": [],
   "source": [
    "np.cumsum(pca.explained_variance_ratio_)[-1]"
   ]
  },
  {
   "cell_type": "code",
   "execution_count": null,
   "id": "f082a21c",
   "metadata": {},
   "outputs": [],
   "source": [
    "# pos_feat_32 = pca.transform(np.concatenate([pos_feat_512, neg_feat_512], axis=0))\n",
    "pos_feat_32 = pca.transform(pos_feat_512)\n",
    "neg_feat_32 = pca.transform(neg_feat_512)"
   ]
  },
  {
   "cell_type": "code",
   "execution_count": null,
   "id": "da58ce42",
   "metadata": {},
   "outputs": [],
   "source": [
    "len(pos_feat_512)"
   ]
  },
  {
   "cell_type": "code",
   "execution_count": null,
   "id": "57311fa6",
   "metadata": {},
   "outputs": [],
   "source": [
    "neg_feat_32.shape"
   ]
  },
  {
   "cell_type": "code",
   "execution_count": null,
   "id": "67a42665",
   "metadata": {},
   "outputs": [],
   "source": [
    "np.percentile(pos_feat_32[:, 0], [25, 75])"
   ]
  },
  {
   "cell_type": "code",
   "execution_count": null,
   "id": "79f5e5ba",
   "metadata": {
    "scrolled": false
   },
   "outputs": [],
   "source": [
    "indexes = []\n",
    "means = []\n",
    "stds = []\n",
    "for i in range(32):\n",
    "    indexes.append(outlier_detection(pos_feat_32[:, i])[0])\n",
    "    means.append(pos_feat_32[:, i].mean())\n",
    "    stds.append(pos_feat_32[:, i].std())"
   ]
  },
  {
   "cell_type": "code",
   "execution_count": null,
   "id": "e844eff8",
   "metadata": {},
   "outputs": [],
   "source": [
    "# means, stds"
   ]
  },
  {
   "cell_type": "code",
   "execution_count": null,
   "id": "aec1dd20",
   "metadata": {},
   "outputs": [],
   "source": [
    "for f in neg_feat_32:\n",
    "    flg = 0\n",
    "    for i in range(32):\n",
    "        f[i] - means\n",
    "        print()"
   ]
  },
  {
   "cell_type": "code",
   "execution_count": null,
   "id": "5fdfe0dd",
   "metadata": {},
   "outputs": [],
   "source": [
    "outlier_index = np.unique(np.concatenate(indexes))"
   ]
  },
  {
   "cell_type": "code",
   "execution_count": null,
   "id": "0ce8bffc",
   "metadata": {},
   "outputs": [],
   "source": [
    "len(outlier_index)"
   ]
  },
  {
   "cell_type": "code",
   "execution_count": null,
   "id": "6c919620",
   "metadata": {},
   "outputs": [],
   "source": [
    "outlier_index[-300:]"
   ]
  },
  {
   "cell_type": "code",
   "execution_count": null,
   "id": "479fe2c3",
   "metadata": {},
   "outputs": [],
   "source": [
    "outlier_detection(pos_feat_32[:, 0])"
   ]
  },
  {
   "cell_type": "code",
   "execution_count": null,
   "id": "6e576588",
   "metadata": {},
   "outputs": [],
   "source": [
    "pos_feat_64 = pca.transform(pos_feat_512_1)\n",
    "neg_feat_64 = pca.transform(neg_feat_512_1)"
   ]
  },
  {
   "cell_type": "code",
   "execution_count": null,
   "id": "1fe67cca",
   "metadata": {},
   "outputs": [],
   "source": []
  },
  {
   "cell_type": "code",
   "execution_count": null,
   "id": "8954f572",
   "metadata": {},
   "outputs": [],
   "source": [
    "targets = [0] * pos_feat_64.shape[0] + [1] * neg_feat_64.shape[0]\n",
    "plot_scatter(np.vstack([pos_feat_64, neg_feat_64]), colors=targets)"
   ]
  },
  {
   "cell_type": "code",
   "execution_count": null,
   "id": "770de082",
   "metadata": {},
   "outputs": [],
   "source": [
    "pos_output_1 = pca.fit_transform(pos_feat_512)\n",
    "pos_output_2 = pca.fit_transform(neg_feat_512)"
   ]
  },
  {
   "cell_type": "code",
   "execution_count": null,
   "id": "39e48159",
   "metadata": {},
   "outputs": [],
   "source": [
    "targets = [0] * pos_feat_512.shape[0] + [1] * neg_feat_512.shape[0]\n",
    "# plot_scatter(pos_output, colors=targets)\n",
    "plot_scatter(np.vstack([pos_output_1, pos_output_2]), colors=targets)"
   ]
  },
  {
   "cell_type": "markdown",
   "id": "f39ffcde",
   "metadata": {},
   "source": [
    "### Sims"
   ]
  },
  {
   "cell_type": "code",
   "execution_count": null,
   "id": "2728424d",
   "metadata": {},
   "outputs": [],
   "source": [
    "tril = np.tril_indices(64)"
   ]
  },
  {
   "cell_type": "code",
   "execution_count": null,
   "id": "464593d1",
   "metadata": {},
   "outputs": [],
   "source": [
    "pos_sims_tril = pos_sims_np[:, tril[0], tril[1]]\n",
    "neg_sims_tril = neg_sims_np[:, tril[0], tril[1]]"
   ]
  },
  {
   "cell_type": "code",
   "execution_count": null,
   "id": "c1c5e8d2",
   "metadata": {},
   "outputs": [],
   "source": [
    "pos_sims_tril.shape, neg_sims_tril.shape"
   ]
  },
  {
   "cell_type": "code",
   "execution_count": null,
   "id": "89a9c51c",
   "metadata": {},
   "outputs": [],
   "source": [
    "from sklearn.preprocessing import StandardScaler\n",
    "from sklearn.pipeline import Pipeline\n",
    "\n",
    "pipeline_sims = Pipeline([('scaling', StandardScaler()), ('pca', PCA(n_components=2))])\n",
    "# pca_sims = PCA(n_components=2)\n",
    "# pca_sims.fit(pos_sims_tril)\n",
    "pipeline_sims.fit(pos_sims_tril)"
   ]
  },
  {
   "cell_type": "code",
   "execution_count": null,
   "id": "c6a86e23",
   "metadata": {},
   "outputs": [],
   "source": [
    "pca = Pipeline([('scaling', StandardScaler()), ('pca', PCA(n_components=10))])"
   ]
  },
  {
   "cell_type": "code",
   "execution_count": null,
   "id": "e1d6148a",
   "metadata": {},
   "outputs": [],
   "source": [
    "pca.fit(pos_sims_tril)"
   ]
  },
  {
   "cell_type": "code",
   "execution_count": null,
   "id": "37ff8e97",
   "metadata": {},
   "outputs": [],
   "source": [
    "pca['pca'].explained_variance_ratio_"
   ]
  },
  {
   "cell_type": "code",
   "execution_count": null,
   "id": "9fa27959",
   "metadata": {},
   "outputs": [],
   "source": [
    "# !pip3 install pyod  --trusted-host  mirrors.aliyun.com -i https://mirrors.aliyun.com/pypi/simple"
   ]
  },
  {
   "cell_type": "code",
   "execution_count": null,
   "id": "60289477",
   "metadata": {},
   "outputs": [],
   "source": [
    "from pyod.models.pca import PCA"
   ]
  },
  {
   "cell_type": "code",
   "execution_count": null,
   "id": "6eb5217c",
   "metadata": {},
   "outputs": [],
   "source": [
    "clf = PCA(n_components=2)\n",
    "clf.fit(pos_sims_tril)"
   ]
  },
  {
   "cell_type": "code",
   "execution_count": null,
   "id": "6b064c95",
   "metadata": {},
   "outputs": [],
   "source": [
    "print(clf.labels_)"
   ]
  },
  {
   "cell_type": "code",
   "execution_count": null,
   "id": "6bd0cc6e",
   "metadata": {},
   "outputs": [],
   "source": [
    "clf.predict(neg_sims_tril)"
   ]
  },
  {
   "cell_type": "code",
   "execution_count": null,
   "id": "15992d0a",
   "metadata": {},
   "outputs": [],
   "source": [
    "pos_sims_output = pipeline_sims.transform(pos_sims_tril)\n",
    "neg_sims_output = pipeline_sims.transform(neg_sims_tril)\n",
    "pos_sims_output.shape, neg_sims_output.shape"
   ]
  },
  {
   "cell_type": "code",
   "execution_count": null,
   "id": "cf955721",
   "metadata": {},
   "outputs": [],
   "source": [
    "pos_sims_output.std(), neg_sims_output.std(), pos_sims_output.mean(), neg_sims_output.mean()"
   ]
  },
  {
   "cell_type": "code",
   "execution_count": null,
   "id": "5ef99f7b",
   "metadata": {},
   "outputs": [],
   "source": [
    "neg_sims_output"
   ]
  },
  {
   "cell_type": "code",
   "execution_count": null,
   "id": "6ed77333",
   "metadata": {},
   "outputs": [],
   "source": [
    "pos_sims_output = pca_sims.transform(pos_sims_tril)\n",
    "neg_sims_output = pca_sims.transform(neg_sims_tril)\n",
    "pos_sims_output.shape, neg_sims_output.shape"
   ]
  },
  {
   "cell_type": "code",
   "execution_count": null,
   "id": "daab49dc",
   "metadata": {},
   "outputs": [],
   "source": [
    "targets = [0] * pos_sims_tril.shape[0] + [1] * neg_sims_tril.shape[0]\n",
    "plot_scatter(np.vstack([pos_sims_output, neg_sims_output]), colors=targets)"
   ]
  },
  {
   "cell_type": "markdown",
   "id": "15e5bad7",
   "metadata": {},
   "source": [
    "## A"
   ]
  },
  {
   "cell_type": "code",
   "execution_count": null,
   "id": "1e15dcfc",
   "metadata": {},
   "outputs": [],
   "source": [
    "sims = ('20211130112549', '20211201074745', '20211201110905', '20211201161714')\n",
    "pos_sims_list = []\n",
    "for s in sims:\n",
    "    pos_sims_list.append(np.load(f'/data/sims/{s}.npy'))\n",
    "    \n",
    "neg_sims = np.load(f'/data/sims/20211130112549.npy')"
   ]
  },
  {
   "cell_type": "code",
   "execution_count": null,
   "id": "924ca46d",
   "metadata": {},
   "outputs": [],
   "source": [
    "pca0 = PCA()"
   ]
  },
  {
   "cell_type": "code",
   "execution_count": null,
   "id": "cd670d0c",
   "metadata": {},
   "outputs": [],
   "source": [
    "pca = PCA(n_components=2)"
   ]
  },
  {
   "cell_type": "code",
   "execution_count": null,
   "id": "130a2697",
   "metadata": {},
   "outputs": [],
   "source": [
    "data = np.vstack(pos_sims_list) # np.concatenate(sims_list)"
   ]
  },
  {
   "cell_type": "code",
   "execution_count": null,
   "id": "0e2449d2",
   "metadata": {},
   "outputs": [],
   "source": [
    "il1 = np.tril_indices(64)"
   ]
  },
  {
   "cell_type": "code",
   "execution_count": null,
   "id": "46754413",
   "metadata": {},
   "outputs": [],
   "source": [
    "neg_features = neg_sims[:, il1[0], il1[1]]\n",
    "neg_features.shape"
   ]
  },
  {
   "cell_type": "code",
   "execution_count": null,
   "id": "387c6136",
   "metadata": {},
   "outputs": [],
   "source": [
    "neg_features.var(axis=1)"
   ]
  },
  {
   "cell_type": "code",
   "execution_count": null,
   "id": "eddefa75",
   "metadata": {},
   "outputs": [],
   "source": [
    "features = data[:, il1[0], il1[1]]"
   ]
  },
  {
   "cell_type": "code",
   "execution_count": null,
   "id": "378b513e",
   "metadata": {},
   "outputs": [],
   "source": [
    "features.shape"
   ]
  },
  {
   "cell_type": "code",
   "execution_count": null,
   "id": "769983e8",
   "metadata": {},
   "outputs": [],
   "source": [
    "from sklearn.datasets import load_digits\n",
    "digits = load_digits()\n",
    "digits.data.shape"
   ]
  },
  {
   "cell_type": "code",
   "execution_count": null,
   "id": "5a3d8dd1",
   "metadata": {},
   "outputs": [],
   "source": [
    "pca = PCA().fit(digits.data)\n",
    "plt.plot(np.cumsum(pca.explained_variance_ratio_))\n",
    "plt.xlabel('number of components')\n",
    "plt.ylabel('cumulative explained variance');"
   ]
  },
  {
   "cell_type": "code",
   "execution_count": null,
   "id": "59bb54d4",
   "metadata": {},
   "outputs": [],
   "source": [
    "features.shape"
   ]
  },
  {
   "cell_type": "code",
   "execution_count": null,
   "id": "f5ca65f8",
   "metadata": {},
   "outputs": [],
   "source": [
    "pca0 = PCA().fit(features)\n",
    "plt.plot(np.cumsum(pca0.explained_variance_ratio_))\n",
    "plt.xlabel('number of components')\n",
    "plt.ylabel('cumulative explained variance');"
   ]
  },
  {
   "cell_type": "code",
   "execution_count": null,
   "id": "60155b2b",
   "metadata": {},
   "outputs": [],
   "source": [
    "pca_pos_out = pca.fit_transform(features)\n",
    "pca_pos_out.var(), pca_pos_out.mean()"
   ]
  },
  {
   "cell_type": "code",
   "execution_count": null,
   "id": "690eb19b",
   "metadata": {},
   "outputs": [],
   "source": [
    "pca_pos_out.std(axis=1)"
   ]
  },
  {
   "cell_type": "code",
   "execution_count": null,
   "id": "d26257fc",
   "metadata": {},
   "outputs": [],
   "source": [
    "pca_neg_out = pca.fit_transform(neg_features)\n",
    "pca_neg_out.var(), pca_neg_out.mean()"
   ]
  },
  {
   "cell_type": "code",
   "execution_count": null,
   "id": "e271cfd3",
   "metadata": {},
   "outputs": [],
   "source": [
    "pca_neg_out.std(axis=1)"
   ]
  },
  {
   "cell_type": "code",
   "execution_count": null,
   "id": "0f629c9b",
   "metadata": {},
   "outputs": [],
   "source": [
    "pca.explained_variance_"
   ]
  },
  {
   "cell_type": "code",
   "execution_count": null,
   "id": "1102418b",
   "metadata": {},
   "outputs": [],
   "source": [
    "pca.mean_, pca.explained_variance_ratio_"
   ]
  },
  {
   "cell_type": "code",
   "execution_count": null,
   "id": "87bc261b",
   "metadata": {},
   "outputs": [],
   "source": [
    "plot_scatter(pca_pos_out)"
   ]
  },
  {
   "cell_type": "code",
   "execution_count": null,
   "id": "cc45c443",
   "metadata": {},
   "outputs": [],
   "source": [
    "plot_scatter(pca_neg_out)"
   ]
  },
  {
   "cell_type": "markdown",
   "id": "1ecb707e",
   "metadata": {},
   "source": [
    "### TSNE"
   ]
  },
  {
   "cell_type": "code",
   "execution_count": null,
   "id": "9b3b320c",
   "metadata": {},
   "outputs": [],
   "source": [
    "tsne = TSNE(random_state=0)"
   ]
  },
  {
   "cell_type": "code",
   "execution_count": null,
   "id": "bc32ec4b",
   "metadata": {},
   "outputs": [],
   "source": [
    "Xt = pca.fit_transform(features)\n",
    "plt.scatter(Xt[:,0], Xt[:,1])"
   ]
  },
  {
   "cell_type": "code",
   "execution_count": null,
   "id": "87891443",
   "metadata": {},
   "outputs": [],
   "source": [
    "Nt = pca.transform(neg_features)\n",
    "plt.scatter(Nt[:,0], Nt[:,1])"
   ]
  },
  {
   "cell_type": "code",
   "execution_count": null,
   "id": "5fc22282",
   "metadata": {},
   "outputs": [],
   "source": [
    "pca.explained_variance_ratio_"
   ]
  },
  {
   "cell_type": "code",
   "execution_count": null,
   "id": "62a96f29",
   "metadata": {},
   "outputs": [],
   "source": [
    "tsne_results = tsne.fit_transform(features)"
   ]
  },
  {
   "cell_type": "code",
   "execution_count": null,
   "id": "e7eb9e02",
   "metadata": {},
   "outputs": [],
   "source": [
    "plot_scatter(tsne_results)"
   ]
  },
  {
   "cell_type": "markdown",
   "id": "ea43462a",
   "metadata": {},
   "source": [
    "### B"
   ]
  },
  {
   "cell_type": "code",
   "execution_count": null,
   "id": "4d1d1b2e",
   "metadata": {},
   "outputs": [],
   "source": [
    "qg_embs1 = np.load('/data/repnet_embs_qg_1.npy')\n",
    "qg_embs1.shape"
   ]
  },
  {
   "cell_type": "code",
   "execution_count": null,
   "id": "9314eabe",
   "metadata": {},
   "outputs": [],
   "source": [
    "qg_features_1 = qg_embs1[1:10].reshape(-1, 512)\n",
    "qg_features_1.shape"
   ]
  },
  {
   "cell_type": "code",
   "execution_count": null,
   "id": "61e23d6c",
   "metadata": {},
   "outputs": [],
   "source": [
    "qg_tsne_1 = tsne.fit_transform(qg_features_1)"
   ]
  },
  {
   "cell_type": "code",
   "execution_count": null,
   "id": "21990410",
   "metadata": {},
   "outputs": [],
   "source": [
    "plot_scatter(qg_tsne_1)"
   ]
  },
  {
   "cell_type": "markdown",
   "id": "811d966c",
   "metadata": {},
   "source": [
    "## D"
   ]
  },
  {
   "cell_type": "markdown",
   "id": "3bd7ce56",
   "metadata": {},
   "source": [
    "```py\n",
    "    def remover_outlier(self, x_pca, y_pca, x, y, label):\n",
    "        # outlier_index = np.where((x_pca[:, 0:5] < -200) | (x_pca[:, 0:5] > 35))[0]\n",
    "        outlier_x =[]\n",
    "        for i in range(x_pca.shape[1]):\n",
    "            outlier_x.append(self.outlier_detection(x_pca[:, i])[0])\n",
    "        outlier_index = np.unique(np.concatenate(outlier_x))\n",
    "\n",
    "        x_pca = np.delete(x_pca, outlier_index, axis=0)\n",
    "        y_pca = np.delete(y_pca, outlier_index, axis=0)\n",
    "        x = np.delete(x, outlier_index, axis=0)\n",
    "        y = np.delete(y, outlier_index, axis=0)\n",
    "        label = label.drop(index=outlier_index).reset_index(drop=True)\n",
    "        return x_pca, y_pca, x, y, label\n",
    "\n",
    "    def outlier_detection(self, data):\n",
    "        q1, q3 = np.percentile(data, [25, 75])\n",
    "        iqr = q3 - q1\n",
    "        lower_bound = q1 - (iqr * 1.5)\n",
    "        upper_bound = q3 + (iqr * 1.5)\n",
    "        return np.where((data < lower_bound) | (data > upper_bound))\n",
    "```"
   ]
  },
  {
   "cell_type": "code",
   "execution_count": 233,
   "id": "bbfe7ed8",
   "metadata": {},
   "outputs": [
    {
     "name": "stdout",
     "output_type": "stream",
     "text": [
      "(511.5, 295.60319687039924)\n",
      "511.5 295.60319687039924 -1.1102230246251565e-16 0.9999999999999999 [511.5] [295.60319687]\n",
      "KstestResult(statistic=0.05769501054112536, pvalue=0.002099347216060239)\n",
      "KstestResult(statistic=0.05769501054112536, pvalue=0.002099347216060239)\n"
     ]
    }
   ],
   "source": [
    "sc = preprocessing.StandardScaler()\n",
    "# a = np.random.randn(1024, 1)*0.4 + 1\n",
    "a = np.arange(0, 1024).reshape(1024, 1)\n",
    "b = sc.fit_transform(a)\n",
    "params = stats.norm.fit(a)\n",
    "print(params)\n",
    "print(a.mean(), a.std(), b.mean(), b.std(), sc.mean_, np.sqrt(sc.var_))\n",
    "print(stats.kstest(a[:, 0], \"norm\", args=params))\n",
    "print(stats.kstest(b.reshape(-1,), \"norm\", args=(0, 1)))"
   ]
  },
  {
   "cell_type": "markdown",
   "id": "724ccc06",
   "metadata": {},
   "source": [
    "https://github.com/eringong/great_expectations/blob/6e92d009cc8d52b48c951ebb1ddf042b220a8690/great_expectations/dataset/pandas_dataset.py\n",
    "https://machinelearningmastery.com/empirical-distribution-function-in-python/"
   ]
  },
  {
   "cell_type": "code",
   "execution_count": null,
   "id": "6f760f46",
   "metadata": {},
   "outputs": [],
   "source": []
  }
 ],
 "metadata": {
  "hide_input": false,
  "kernelspec": {
   "display_name": "Python 3",
   "language": "python",
   "name": "python3"
  },
  "language_info": {
   "codemirror_mode": {
    "name": "ipython",
    "version": 3
   },
   "file_extension": ".py",
   "mimetype": "text/x-python",
   "name": "python",
   "nbconvert_exporter": "python",
   "pygments_lexer": "ipython3",
   "version": "3.6.9"
  },
  "toc": {
   "base_numbering": 1,
   "nav_menu": {
    "height": "70.9943px",
    "width": "188.991px"
   },
   "number_sections": true,
   "sideBar": false,
   "skip_h1_title": true,
   "title_cell": "",
   "title_sidebar": "Contents",
   "toc_cell": false,
   "toc_position": {
    "height": "355px",
    "left": "1529.05px",
    "top": "67.125px",
    "width": "310px"
   },
   "toc_section_display": true,
   "toc_window_display": true
  }
 },
 "nbformat": 4,
 "nbformat_minor": 5
}
