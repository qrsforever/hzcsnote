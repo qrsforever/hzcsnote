{
 "cells": [
  {
   "cell_type": "markdown",
   "id": "loose-canyon",
   "metadata": {},
   "source": [
    "## 引入工具"
   ]
  },
  {
   "cell_type": "code",
   "execution_count": 1,
   "id": "according-success",
   "metadata": {
    "ExecuteTime": {
     "end_time": "2021-08-17T08:31:39.423357Z",
     "start_time": "2021-08-17T08:31:37.027520Z"
    },
    "hide_input": true
   },
   "outputs": [],
   "source": [
    "%reload_ext watermark\n",
    "%reload_ext autoreload\n",
    "%autoreload 2\n",
    "# %watermark -p numpy,sklearn,pandas\n",
    "# %watermark -p ipywidgets,cv2,PIL,matplotlib,plotly,netron\n",
    "# %watermark -p torch,torchvision,torchaudio\n",
    "# %watermark -p tensorflow,tensorboard,tflite\n",
    "# %watermark -p onnx,tf2onnx,onnxruntime,tensorrt,tvm\n",
    "# %matplotlib inline\n",
    "# %config InlineBackend.figure_format='retina'\n",
    "%config IPCompleter.use_jedi = False\n",
    "\n",
    "# from IPython.display import display, Markdown, HTML, IFrame, Image, Javascript\n",
    "# from IPython.core.magic import register_line_cell_magic, register_line_magic, register_cell_magic\n",
    "# display(HTML('<style>.container { width:%d%% !important; }</style>' % 90))\n",
    "\n",
    "import sys, os, io, logging, time, random, math\n",
    "import json, base64, requests, shutil\n",
    "import argparse, shlex, signal\n",
    "import numpy as np\n",
    "\n",
    "argparse.ArgumentParser.exit = lambda *arg, **kwargs: _IGNORE_\n",
    "\n",
    "def _IMPORT(x):\n",
    "    try: \n",
    "        x = x.strip()\n",
    "        if x[0] == '/':\n",
    "            with open(x) as fr:\n",
    "                x = fr.read()\n",
    "        elif 'github' in x or 'gitee' in x:\n",
    "            if x.startswith('import '):\n",
    "                x = x[7:]\n",
    "            if x.startswith('https://'):\n",
    "                x = x[8:]\n",
    "            if not x.endswith('.py'):\n",
    "                x = x + '.py'\n",
    "            x = x.replace('blob/main/', '').replace('blob/master/', '')\n",
    "            if x.startswith('raw.githubusercontent.com'):\n",
    "                uri = 'https://' + x\n",
    "                x = requests.get(uri)\n",
    "                if x.status_code == 200:\n",
    "                    x = x.text\n",
    "            elif x.startswith('github.com'):\n",
    "                uri = x.replace('github.com', 'raw.githubusercontent.com')\n",
    "                mod = uri.split('/')\n",
    "                for s in ['main', 'master']:\n",
    "                    uri = 'https://' + '/'.join(mod[:3]) + s + '/'.join(mod[-3:])\n",
    "                    x = requests.get(uri)\n",
    "                    if x.status_code == 200:\n",
    "                        x = x.text\n",
    "                        break\n",
    "            elif x.startswith('gitee.com'):\n",
    "                mod = x.split('/')\n",
    "                for s in ['/raw/main/', '/raw/master/']:\n",
    "                    uri = 'https://' + '/'.join(mod[:3]) + s + '/'.join(mod[3:])\n",
    "                    x = requests.get(uri)\n",
    "                    if x.status_code == 200:\n",
    "                        x = x.text\n",
    "                        break\n",
    "        exec(x, globals())\n",
    "    except:\n",
    "        pass\n",
    "\n",
    "def _DIR(x, dumps=True, ret=True):\n",
    "    attrs = sorted([y for y in dir(x) if not y.startswith('_')])\n",
    "    result = '%s: %s' % (str(type(x))[8:-2], json.dumps(attrs) if dumps else attrs)\n",
    "    if ret:\n",
    "        return result\n",
    "    print(result)\n"
   ]
  },
  {
   "cell_type": "markdown",
   "id": "logical-registration",
   "metadata": {},
   "source": [
    "## 解析配置"
   ]
  },
  {
   "cell_type": "code",
   "execution_count": 2,
   "id": "different-worth",
   "metadata": {
    "ExecuteTime": {
     "end_time": "2021-08-17T08:31:40.077515Z",
     "start_time": "2021-08-17T08:31:40.009998Z"
    },
    "hide_input": false
   },
   "outputs": [],
   "source": [
    "_IMPORT('/data/nb_easy/easy_widget.py')"
   ]
  },
  {
   "cell_type": "code",
   "execution_count": 3,
   "id": "subject-movement",
   "metadata": {
    "ExecuteTime": {
     "end_time": "2021-08-17T08:31:41.036307Z",
     "start_time": "2021-08-17T08:31:40.080350Z"
    },
    "code_folding": [
     0
    ],
    "scrolled": false
   },
   "outputs": [
    {
     "data": {
      "application/vnd.jupyter.widget-view+json": {
       "model_id": "53422b4b0dea4aeca32fea4e4bc88052",
       "version_major": 2,
       "version_minor": 0
      },
      "text/plain": [
       "Box(children=(Box(children=(VBox(children=(Tab(children=(VBox(children=(HBox(children=(Text(value='zmq.repnet_…"
      ]
     },
     "metadata": {},
     "output_type": "display_data"
    }
   ],
   "source": [
    "from utils import EVENTS, parse_xls_report\n",
    "\n",
    "RACEURL = 'http://116.85.68.193:9119'\n",
    "MSGKEY = 'nb.zmq.repnet_tf.gamma103'\n",
    "\n",
    "parse_xls_report()\n",
    "with open('schema.json', 'r') as fr:\n",
    "    schema_string = fr.read()\n",
    "    schema_string = schema_string.replace('zmq.repnet_tf.test', MSGKEY)\n",
    "    schema_string = schema_string.replace('http://host:port', RACEURL)\n",
    "    schema = json.loads(schema_string)\n",
    "easy = nbeasy_schema_parse(schema, events=EVENTS, debug=True);"
   ]
  },
  {
   "cell_type": "code",
   "execution_count": 4,
   "id": "719a3ab6",
   "metadata": {},
   "outputs": [
    {
     "ename": "RuntimeError",
     "evalue": "No active exception to reraise",
     "output_type": "error",
     "traceback": [
      "\u001b[0;31m\u001b[0m",
      "\u001b[0;31mRuntimeError\u001b[0mTraceback (most recent call last)",
      "\u001b[0;32m<ipython-input-4-9c9a2cba73bf>\u001b[0m in \u001b[0;36m<module>\u001b[0;34m\u001b[0m\n\u001b[0;32m----> 1\u001b[0;31m \u001b[0;32mraise\u001b[0m\u001b[0;34m\u001b[0m\u001b[0;34m\u001b[0m\u001b[0m\n\u001b[0m",
      "\u001b[0;31mRuntimeError\u001b[0m: No active exception to reraise"
     ]
    }
   ],
   "source": [
    "raise"
   ]
  },
  {
   "cell_type": "code",
   "execution_count": null,
   "id": "1e321470",
   "metadata": {},
   "outputs": [],
   "source": [
    "easy.set_widget_values(case5)"
   ]
  },
  {
   "cell_type": "code",
   "execution_count": null,
   "id": "9a849239",
   "metadata": {},
   "outputs": [],
   "source": [
    "import numpy as np\n",
    "import time\n",
    "from sklearn.manifold import TSNE\n",
    "import matplotlib.pyplot as plt\n",
    "from mpl_toolkits.mplot3d import Axes3D\n",
    "import seaborn as sns\n",
    "import matplotlib.patheffects as PathEffects\n",
    "%matplotlib inline"
   ]
  },
  {
   "cell_type": "markdown",
   "id": "15e5bad7",
   "metadata": {},
   "source": [
    "### A"
   ]
  },
  {
   "cell_type": "code",
   "execution_count": null,
   "id": "1e15dcfc",
   "metadata": {},
   "outputs": [],
   "source": [
    "embs1 = np.load('/data/repnet_embs.npy')\n",
    "embs1.shape"
   ]
  },
  {
   "cell_type": "code",
   "execution_count": null,
   "id": "87ebe445",
   "metadata": {},
   "outputs": [],
   "source": [
    "embs2 = np.load('/data/repnet_embs_2.npy')\n",
    "embs2.shape"
   ]
  },
  {
   "cell_type": "code",
   "execution_count": null,
   "id": "d43f92e8",
   "metadata": {},
   "outputs": [],
   "source": [
    "features_1 = embs1[1:10].reshape(-1, 512)\n",
    "features_2 = embs2[1:10].reshape(-1, 512)\n",
    "features_1.shape, features_2.shape"
   ]
  },
  {
   "cell_type": "code",
   "execution_count": null,
   "id": "9b3b320c",
   "metadata": {},
   "outputs": [],
   "source": [
    "tsne = TSNE(random_state=0)"
   ]
  },
  {
   "cell_type": "code",
   "execution_count": null,
   "id": "62a96f29",
   "metadata": {},
   "outputs": [],
   "source": [
    "tsne_results_1 = tsne.fit_transform(features_1)"
   ]
  },
  {
   "cell_type": "code",
   "execution_count": null,
   "id": "7796617b",
   "metadata": {},
   "outputs": [],
   "source": [
    "tsne_results_2 = tsne.fit_transform(features_2)"
   ]
  },
  {
   "cell_type": "code",
   "execution_count": null,
   "id": "eb14509d",
   "metadata": {},
   "outputs": [],
   "source": [
    "def plot_scatter(x, colors=None):\n",
    "    # choose a color palette with seaborn.\n",
    "    # num_classes = len(np.unique(colors))\n",
    "    # print(num_classes)\n",
    "    # palette = np.array(sns.color_palette(\"hls\", num_classes))\n",
    "    #print(palette)\n",
    "    # create a scatter plot.\n",
    "    f = plt.figure(figsize=(8, 8))\n",
    "    ax = plt.subplot(aspect='equal')\n",
    "    #sc = ax.scatter(x[:,0], x[:,1], lw=0, s=40, c=df['label'], cmap=plt.cm.get_cmap('Paired'))\n",
    "    # sc = ax.scatter(x[:,0], x[:,1],  c=palette[colors.astype(np.int)], cmap=plt.cm.get_cmap('Paired'))\n",
    "    sc = ax.scatter(x[:,0], x[:,1], cmap=plt.cm.get_cmap('Paired'))\n",
    "    plt.xlim(-25, 25)\n",
    "    plt.ylim(-25, 25)\n",
    "    ax.axis('on')\n",
    "    ax.axis('tight')\n",
    "\n",
    "    # add the labels for each digit corresponding to the label\n",
    "    # txts = []\n",
    "# \n",
    "    # for i in range(num_classes):\n",
    "# \n",
    "    #     # Position of each label at median of data points.\n",
    "# \n",
    "    #     xtext, ytext = np.median(x[colors == i, :], axis=0)\n",
    "    #     txt = ax.text(xtext, ytext, str(i), fontsize=24)\n",
    "    #     txt.set_path_effects([\n",
    "    #         PathEffects.Stroke(linewidth=5, foreground=\"w\"),\n",
    "    #         PathEffects.Normal()])\n",
    "    #     txts.append(txt)\n",
    "# \n",
    "    # return f, ax, sc, txts"
   ]
  },
  {
   "cell_type": "code",
   "execution_count": null,
   "id": "e7eb9e02",
   "metadata": {},
   "outputs": [],
   "source": [
    "plot_scatter(tsne_results_2)"
   ]
  },
  {
   "cell_type": "code",
   "execution_count": null,
   "id": "3d21f10e",
   "metadata": {},
   "outputs": [],
   "source": [
    "plot_scatter(tsne_results_1)"
   ]
  },
  {
   "cell_type": "code",
   "execution_count": null,
   "id": "78875cc8",
   "metadata": {},
   "outputs": [],
   "source": [
    "t_tsne_results_1 = tsne.fit_transform(features_1[:64])"
   ]
  },
  {
   "cell_type": "code",
   "execution_count": null,
   "id": "d85b9f79",
   "metadata": {},
   "outputs": [],
   "source": [
    "plot_scatter(t_tsne_results_1)"
   ]
  },
  {
   "cell_type": "markdown",
   "id": "ea43462a",
   "metadata": {},
   "source": [
    "### B"
   ]
  },
  {
   "cell_type": "code",
   "execution_count": null,
   "id": "4d1d1b2e",
   "metadata": {},
   "outputs": [],
   "source": [
    "qg_embs1 = np.load('/data/repnet_embs_qg_1.npy')\n",
    "qg_embs1.shape"
   ]
  },
  {
   "cell_type": "code",
   "execution_count": null,
   "id": "9314eabe",
   "metadata": {},
   "outputs": [],
   "source": [
    "qg_features_1 = qg_embs1[1:10].reshape(-1, 512)\n",
    "qg_features_1.shape"
   ]
  },
  {
   "cell_type": "code",
   "execution_count": null,
   "id": "61e23d6c",
   "metadata": {},
   "outputs": [],
   "source": [
    "qg_tsne_1 = tsne.fit_transform(qg_features_1)"
   ]
  },
  {
   "cell_type": "code",
   "execution_count": null,
   "id": "21990410",
   "metadata": {},
   "outputs": [],
   "source": [
    "plot_scatter(qg_tsne_1)"
   ]
  },
  {
   "cell_type": "markdown",
   "id": "7beca373",
   "metadata": {},
   "source": [
    "### C"
   ]
  },
  {
   "cell_type": "code",
   "execution_count": null,
   "id": "a6105d9d",
   "metadata": {},
   "outputs": [],
   "source": [
    "mz_embs1 = np.load('/data/repnet_embs_mz_1.npy')\n",
    "mz_embs1.shape"
   ]
  },
  {
   "cell_type": "code",
   "execution_count": null,
   "id": "8db78df9",
   "metadata": {},
   "outputs": [],
   "source": [
    "mz_features_1_ = mz_embs1.reshape(-1, 512)\n",
    "mz_features_1_.shape"
   ]
  },
  {
   "cell_type": "code",
   "execution_count": null,
   "id": "a35fdda4",
   "metadata": {},
   "outputs": [],
   "source": [
    "mz_tsne_1_ = tsne.fit_transform(mz_features_1_)"
   ]
  },
  {
   "cell_type": "code",
   "execution_count": null,
   "id": "0a2bbf6e",
   "metadata": {},
   "outputs": [],
   "source": [
    "plot_scatter(mz_tsne_1_)"
   ]
  },
  {
   "cell_type": "code",
   "execution_count": null,
   "id": "c32b9be8",
   "metadata": {},
   "outputs": [],
   "source": [
    "mz_features_1 = mz_embs1[1:10].reshape(-1, 512)\n",
    "mz_features_1.shape"
   ]
  },
  {
   "cell_type": "code",
   "execution_count": null,
   "id": "854e9606",
   "metadata": {},
   "outputs": [],
   "source": [
    "mz_tsne_1 = tsne.fit_transform(mz_features_1)"
   ]
  },
  {
   "cell_type": "code",
   "execution_count": null,
   "id": "1713f81c",
   "metadata": {},
   "outputs": [],
   "source": [
    "plot_scatter(mz_tsne_1)"
   ]
  },
  {
   "cell_type": "markdown",
   "id": "prescription-aluminum",
   "metadata": {},
   "source": [
    "## 视频描述"
   ]
  },
  {
   "cell_type": "code",
   "execution_count": null,
   "id": "herbal-victory",
   "metadata": {},
   "outputs": [],
   "source": []
  }
 ],
 "metadata": {
  "hide_input": false,
  "kernelspec": {
   "display_name": "Python 3",
   "language": "python",
   "name": "python3"
  },
  "language_info": {
   "codemirror_mode": {
    "name": "ipython",
    "version": 3
   },
   "file_extension": ".py",
   "mimetype": "text/x-python",
   "name": "python",
   "nbconvert_exporter": "python",
   "pygments_lexer": "ipython3",
   "version": "3.6.9"
  },
  "toc": {
   "base_numbering": 1,
   "nav_menu": {
    "height": "70.9943px",
    "width": "188.991px"
   },
   "number_sections": true,
   "sideBar": false,
   "skip_h1_title": true,
   "title_cell": "",
   "title_sidebar": "Contents",
   "toc_cell": false,
   "toc_position": {
    "height": "233.299px",
    "left": "1534.99px",
    "top": "66.059px",
    "width": "331.302px"
   },
   "toc_section_display": true,
   "toc_window_display": true
  }
 },
 "nbformat": 4,
 "nbformat_minor": 5
}
