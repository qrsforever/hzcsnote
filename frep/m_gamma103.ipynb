{
 "cells": [
  {
   "cell_type": "markdown",
   "id": "loose-canyon",
   "metadata": {},
   "source": [
    "## 引入工具"
   ]
  },
  {
   "cell_type": "code",
   "execution_count": 1,
   "id": "according-success",
   "metadata": {
    "ExecuteTime": {
     "end_time": "2021-08-17T08:31:39.423357Z",
     "start_time": "2021-08-17T08:31:37.027520Z"
    },
    "hide_input": true
   },
   "outputs": [],
   "source": [
    "%reload_ext watermark\n",
    "%reload_ext autoreload\n",
    "%autoreload 2\n",
    "# %watermark -p numpy,sklearn,pandas\n",
    "# %watermark -p ipywidgets,cv2,PIL,matplotlib,plotly,netron\n",
    "# %watermark -p torch,torchvision,torchaudio\n",
    "# %watermark -p tensorflow,tensorboard,tflite\n",
    "# %watermark -p onnx,tf2onnx,onnxruntime,tensorrt,tvm\n",
    "# %matplotlib inline\n",
    "# %config InlineBackend.figure_format='retina'\n",
    "%config IPCompleter.use_jedi = False\n",
    "\n",
    "# from IPython.display import display, Markdown, HTML, IFrame, Image, Javascript\n",
    "# from IPython.core.magic import register_line_cell_magic, register_line_magic, register_cell_magic\n",
    "# display(HTML('<style>.container { width:%d%% !important; }</style>' % 90))\n",
    "\n",
    "import sys, os, io, logging, time, random, math\n",
    "import json, base64, requests, shutil\n",
    "import argparse, shlex, signal\n",
    "import numpy as np\n",
    "\n",
    "argparse.ArgumentParser.exit = lambda *arg, **kwargs: _IGNORE_\n",
    "\n",
    "def _IMPORT(x):\n",
    "    try: \n",
    "        x = x.strip()\n",
    "        if x[0] == '/':\n",
    "            with open(x) as fr:\n",
    "                x = fr.read()\n",
    "        elif 'github' in x or 'gitee' in x:\n",
    "            if x.startswith('import '):\n",
    "                x = x[7:]\n",
    "            if x.startswith('https://'):\n",
    "                x = x[8:]\n",
    "            if not x.endswith('.py'):\n",
    "                x = x + '.py'\n",
    "            x = x.replace('blob/main/', '').replace('blob/master/', '')\n",
    "            if x.startswith('raw.githubusercontent.com'):\n",
    "                uri = 'https://' + x\n",
    "                x = requests.get(uri)\n",
    "                if x.status_code == 200:\n",
    "                    x = x.text\n",
    "            elif x.startswith('github.com'):\n",
    "                uri = x.replace('github.com', 'raw.githubusercontent.com')\n",
    "                mod = uri.split('/')\n",
    "                for s in ['main', 'master']:\n",
    "                    uri = 'https://' + '/'.join(mod[:3]) + s + '/'.join(mod[-3:])\n",
    "                    x = requests.get(uri)\n",
    "                    if x.status_code == 200:\n",
    "                        x = x.text\n",
    "                        break\n",
    "            elif x.startswith('gitee.com'):\n",
    "                mod = x.split('/')\n",
    "                for s in ['/raw/main/', '/raw/master/']:\n",
    "                    uri = 'https://' + '/'.join(mod[:3]) + s + '/'.join(mod[3:])\n",
    "                    x = requests.get(uri)\n",
    "                    if x.status_code == 200:\n",
    "                        x = x.text\n",
    "                        break\n",
    "        exec(x, globals())\n",
    "    except:\n",
    "        pass\n",
    "\n",
    "def _DIR(x, dumps=True, ret=True):\n",
    "    attrs = sorted([y for y in dir(x) if not y.startswith('_')])\n",
    "    result = '%s: %s' % (str(type(x))[8:-2], json.dumps(attrs) if dumps else attrs)\n",
    "    if ret:\n",
    "        return result\n",
    "    print(result)\n"
   ]
  },
  {
   "cell_type": "markdown",
   "id": "logical-registration",
   "metadata": {},
   "source": [
    "## 解析配置"
   ]
  },
  {
   "cell_type": "code",
   "execution_count": 2,
   "id": "different-worth",
   "metadata": {
    "ExecuteTime": {
     "end_time": "2021-08-17T08:31:40.077515Z",
     "start_time": "2021-08-17T08:31:40.009998Z"
    },
    "hide_input": false
   },
   "outputs": [],
   "source": [
    "_IMPORT('/data/nb_easy/easy_widget.py')"
   ]
  },
  {
   "cell_type": "code",
   "execution_count": 3,
   "id": "subject-movement",
   "metadata": {
    "ExecuteTime": {
     "end_time": "2021-08-17T08:31:41.036307Z",
     "start_time": "2021-08-17T08:31:40.080350Z"
    },
    "code_folding": [
     0
    ],
    "scrolled": false
   },
   "outputs": [
    {
     "data": {
      "application/vnd.jupyter.widget-view+json": {
       "model_id": "1bbcae1996fd438ea341c5a5636d2762",
       "version_major": 2,
       "version_minor": 0
      },
      "text/plain": [
       "Box(children=(Box(children=(VBox(children=(Tab(children=(VBox(children=(HBox(children=(Text(value='zmq.repnet_…"
      ]
     },
     "metadata": {},
     "output_type": "display_data"
    }
   ],
   "source": [
    "from utils import EVENTS\n",
    "\n",
    "RACEURL = 'http://116.85.68.193:9119'\n",
    "MSGKEY = 'nb.zmq.repnet_tf.gamma103'\n",
    "\n",
    "with open('schema.json', 'r') as fr:\n",
    "    schema_string = fr.read()\n",
    "    schema_string = schema_string.replace('zmq.repnet_tf.test', MSGKEY)\n",
    "    schema_string = schema_string.replace('http://host:port', RACEURL)\n",
    "    schema = json.loads(schema_string)\n",
    "easy = nbeasy_schema_parse(schema, events=EVENTS, debug=True);"
   ]
  },
  {
   "cell_type": "code",
   "execution_count": 4,
   "id": "7f334c87",
   "metadata": {},
   "outputs": [
    {
     "ename": "RuntimeError",
     "evalue": "No active exception to reraise",
     "output_type": "error",
     "traceback": [
      "\u001b[0;31m\u001b[0m",
      "\u001b[0;31mRuntimeError\u001b[0mTraceback (most recent call last)",
      "\u001b[0;32m<ipython-input-4-9c9a2cba73bf>\u001b[0m in \u001b[0;36m<module>\u001b[0;34m\u001b[0m\n\u001b[0;32m----> 1\u001b[0;31m \u001b[0;32mraise\u001b[0m\u001b[0;34m\u001b[0m\u001b[0;34m\u001b[0m\u001b[0m\n\u001b[0m",
      "\u001b[0;31mRuntimeError\u001b[0m: No active exception to reraise"
     ]
    }
   ],
   "source": [
    "raise"
   ]
  },
  {
   "cell_type": "markdown",
   "id": "180b3a17",
   "metadata": {},
   "source": [
    "1. https://frepai.s3.didiyunapi.com/datasets/vod/木槌加固/20211206123823.mp4"
   ]
  },
  {
   "cell_type": "markdown",
   "id": "405c699b",
   "metadata": {},
   "source": [
    "## Tools"
   ]
  },
  {
   "cell_type": "code",
   "execution_count": 197,
   "id": "9a849239",
   "metadata": {},
   "outputs": [],
   "source": [
    "import numpy as np\n",
    "import time\n",
    "from sklearn.manifold import TSNE\n",
    "import matplotlib.pyplot as plt\n",
    "from mpl_toolkits.mplot3d import Axes3D\n",
    "import seaborn as sns\n",
    "import matplotlib.patheffects as PathEffects\n",
    "from sklearn.decomposition import PCA\n",
    "from scipy import stats\n",
    "import pandas as pd\n",
    "from sklearn import preprocessing\n",
    "from matplotlib.colors import LogNorm"
   ]
  },
  {
   "cell_type": "code",
   "execution_count": 6,
   "id": "c020b5e4",
   "metadata": {},
   "outputs": [],
   "source": [
    "def _denormal_image(x):\n",
    "    x -= x.mean()\n",
    "    x /= x.std()\n",
    "    x *= 64\n",
    "    x += 128\n",
    "    x = np.clip(x, 0, 255).astype('uint8')\n",
    "    return x"
   ]
  },
  {
   "cell_type": "code",
   "execution_count": 208,
   "id": "068a9986",
   "metadata": {},
   "outputs": [],
   "source": [
    "def outlier_detection(data):\n",
    "    q1, q3 = np.percentile(data, [25, 75])\n",
    "    iqr = q3 - q1\n",
    "    lower_bound = q1 - (iqr * 1.5)\n",
    "    upper_bound = q3 + (iqr * 1.5)\n",
    "    return np.where((data < lower_bound) | (data > upper_bound))"
   ]
  },
  {
   "cell_type": "code",
   "execution_count": 7,
   "id": "1c36fe60",
   "metadata": {},
   "outputs": [],
   "source": [
    "def plot_scatter(data, colors=None):\n",
    "    if len(data.shape) != 2:\n",
    "        xs = range(len(data))\n",
    "        ys = data\n",
    "    else:\n",
    "        if data.shape[1] == 1:\n",
    "            ys = data[:, 0]\n",
    "            xs = range(len(data))\n",
    "        else:\n",
    "            xs = data[:, 0]\n",
    "            ys = data[:, 1]\n",
    "        \n",
    "    plt.figure(figsize=(12, 12))\n",
    "    ax = plt.subplot(aspect='equal')\n",
    "    ax.scatter(xs, ys, c=colors, edgecolor='none', cmap=plt.cm.get_cmap('Paired', 2))\n",
    "    plt.xlim(-25, 25)\n",
    "    plt.ylim(-25, 25)\n",
    "    ax.axis('on')\n",
    "    ax.axis('tight')"
   ]
  },
  {
   "cell_type": "code",
   "execution_count": 195,
   "id": "4a246cb5",
   "metadata": {},
   "outputs": [],
   "source": [
    "def draw_osd_sim(sim, size=128):\n",
    "    fig, ax = plt.subplots()\n",
    "    plt.axis('off')\n",
    "    fig.set_size_inches(size / 100.0, size / 100.0)\n",
    "    plt.gca().xaxis.set_major_locator(plt.NullLocator())\n",
    "    plt.gca().yaxis.set_major_locator(plt.NullLocator())\n",
    "    plt.subplots_adjust(top=1, bottom=0, left=0, right=1, hspace=0, wspace=0)\n",
    "    plt.margins(0,0)\n",
    "    plt.imshow(sim, cmap='hot', interpolation='nearest', norm=LogNorm())"
   ]
  },
  {
   "cell_type": "markdown",
   "id": "bb8a32d3",
   "metadata": {},
   "source": [
    "## Datasets"
   ]
  },
  {
   "cell_type": "code",
   "execution_count": 8,
   "id": "f794e9a1",
   "metadata": {},
   "outputs": [],
   "source": [
    "EMBS_DIR = '/data/embs'"
   ]
  },
  {
   "cell_type": "code",
   "execution_count": 154,
   "id": "dfc7254a",
   "metadata": {},
   "outputs": [
    {
     "name": "stdout",
     "output_type": "stream",
     "text": [
      "/data/embs https://frepai.s3.didiyunapi.com/datasets/vod/outputs/20211204111936/1638977308/embs_sims.npy\n",
      "/data/embs https://frepai.s3.didiyunapi.com/datasets/vod/outputs/20211204111936/1638977308/embs_feat.npy\n"
     ]
    }
   ],
   "source": [
    "%%bash\n",
    "\n",
    "DST_DIR=/data/embs\n",
    "URL_PREFIX=https://frepai.s3.didiyunapi.com/datasets/vod/outputs\n",
    "# https://frepai.s3.didiyunapi.com/live/002b359e3931/20211208/outputs/20211208130057/1638962476/embs_sims.npy\n",
    "\n",
    "# '20211201161714/1638627646'\n",
    "FILES=(\n",
    "    '20211130112549/1638626932'\n",
    "    '20211201074745/1638627005'\n",
    "    '20211201110905/1638627357'\n",
    "    '20211203163819/1638629398'\n",
    "    '20211203164823/1638627707'\n",
    "    '20211203172839/1638627775'\n",
    "    '20211204105928/1638627847'\n",
    "    '20211204110932/1638629800'\n",
    "    '20211204152111/1638627907'\n",
    "    '20211206105743/1638779824'\n",
    "    '20211206135855/1638779140'\n",
    "    '20211208111014/1638960811'\n",
    "    '20211208085922/1638962305'\n",
    "    '20211208130057/1638962698'\n",
    "    '20211208131101/1638965346'\n",
    "    '20211207153832/1638965410'\n",
    "    '20211207082623/1638965552'\n",
    "    '20211206103735/1638965907'\n",
    "    '20211206133847/1638968071'\n",
    "    '20211207082623/1638968809'\n",
    "    '20211206154939/1638968916'\n",
    "    '20211206111751/1638969132'\n",
    "    '20211206182646/1638969310'\n",
    "    '20211206081640/1638969405'\n",
    "    '20211206095719/1638969604'\n",
    "    '20211206090659/1638969794'\n",
    "    '20211204160127/1638970410'\n",
    "    '20211204161131/1638977093'\n",
    "    '20211204111936/1638977308'\n",
    "    \n",
    "    \n",
    "    '20211201095837/1638627981'\n",
    "    '20211204124008/1638629958'\n",
    "    '20211204144055/1638628049'\n",
    ")\n",
    "\n",
    "for file_ts in ${FILES[@]}\n",
    "do\n",
    "    file=`echo $file_ts | cut -d/  -f1`\n",
    "    if [[ ! -f $DST_DIR/${file}_feat.npy ]]\n",
    "    then\n",
    "        echo $DST_DIR $URL_PREFIX/$file_ts/embs_sims.npy\n",
    "        wget -q -P $DST_DIR $URL_PREFIX/$file_ts/embs_sims.npy\n",
    "        echo $DST_DIR $URL_PREFIX/$file_ts/embs_feat.npy\n",
    "        wget -q -P $DST_DIR $URL_PREFIX/$file_ts/embs_feat.npy\n",
    "        mv $DST_DIR/embs_feat.npy $DST_DIR/${file}_feat.npy\n",
    "        mv $DST_DIR/embs_sims.npy $DST_DIR/${file}_sims.npy\n",
    "    fi\n",
    "done"
   ]
  },
  {
   "cell_type": "markdown",
   "id": "6631a241",
   "metadata": {},
   "source": [
    "### Pos Datasets"
   ]
  },
  {
   "cell_type": "code",
   "execution_count": 155,
   "id": "d4b84221",
   "metadata": {},
   "outputs": [
    {
     "data": {
      "text/plain": [
       "29"
      ]
     },
     "execution_count": 155,
     "metadata": {},
     "output_type": "execute_result"
    }
   ],
   "source": [
    "pos_embs_files1 = [\n",
    "    '20211130112549',\n",
    "    '20211201074745',\n",
    "    '20211201161714',\n",
    "    '20211203172839',\n",
    "    '20211206135855',\n",
    "    '20211204152111',\n",
    "    '20211201110905',\n",
    "    '20211203163819',\n",
    "    '20211204105928',\n",
    "    '20211208111014',\n",
    "    '20211208085922',\n",
    "    '20211208130057',\n",
    "    '20211207153832',\n",
    "    '20211206182646',\n",
    "    '20211206081640',\n",
    "    '20211206090659',\n",
    "]\n",
    "\n",
    "pos_embs_files2 = [\n",
    "    '20211203164823',\n",
    "    '20211204110932',\n",
    "    '20211208131101',\n",
    "    '20211207082623',\n",
    "    '20211206103735',\n",
    "    '20211206133847',\n",
    "    '20211207082623',\n",
    "    '20211206154939',\n",
    "    '20211206111751',\n",
    "    '20211206095719',\n",
    "    '20211204160127',\n",
    "    '20211204161131',\n",
    "    '20211204111936',\n",
    "]\n",
    "\n",
    "pos_embs_files = pos_embs_files1 + pos_embs_files2 \n",
    "len(pos_embs_files)"
   ]
  },
  {
   "cell_type": "code",
   "execution_count": 156,
   "id": "f265b631",
   "metadata": {},
   "outputs": [
    {
     "data": {
      "text/plain": [
       "(155, 64, 512)"
      ]
     },
     "execution_count": 156,
     "metadata": {},
     "output_type": "execute_result"
    }
   ],
   "source": [
    "pos_feat_list = []\n",
    "for s in pos_embs_files:\n",
    "    pos_feat_list.append(np.load(f'{EMBS_DIR}/{s}_feat.npy'))\n",
    "    \n",
    "pos_feat_np = np.vstack(pos_feat_list)\n",
    "pos_feat_np.shape"
   ]
  },
  {
   "cell_type": "code",
   "execution_count": 128,
   "id": "bce51283",
   "metadata": {},
   "outputs": [
    {
     "data": {
      "text/plain": [
       "(93, 64, 64)"
      ]
     },
     "execution_count": 128,
     "metadata": {},
     "output_type": "execute_result"
    }
   ],
   "source": [
    "pos_sims_list = []\n",
    "for s in pos_embs_files:\n",
    "    pos_sims_list.append(np.load(f'{EMBS_DIR}/{s}_sims.npy')[1:-1])\n",
    "    \n",
    "pos_sims_np = np.vstack(pos_sims_list)\n",
    "pos_sims_np.shape"
   ]
  },
  {
   "cell_type": "markdown",
   "id": "bf64aff3",
   "metadata": {},
   "source": [
    "#### A"
   ]
  },
  {
   "cell_type": "code",
   "execution_count": null,
   "id": "3767757f",
   "metadata": {},
   "outputs": [],
   "source": [
    "def np_info(data):\n",
    "    print('%.5f' % data.min(), '%.5f' % data.max(), '%.5f' % data.mean(), '%.5f' % data.std())"
   ]
  },
  {
   "cell_type": "code",
   "execution_count": 22,
   "id": "4c8133ad",
   "metadata": {},
   "outputs": [
    {
     "data": {
      "text/plain": [
       "((4, 64, 512), (5, 64, 512), (6, 64, 512), (6, 64, 512))"
      ]
     },
     "execution_count": 22,
     "metadata": {},
     "output_type": "execute_result"
    }
   ],
   "source": [
    "feat_np_905 = np.load(f'{EMBS_DIR}/20211201110905_feat.npy')\n",
    "feat_np_819 = np.load(f'{EMBS_DIR}/20211203163819_feat.npy')\n",
    "feat_np_928 = np.load(f'{EMBS_DIR}/20211204105928_feat.npy')\n",
    "feat_np_922 = np.load(f'{EMBS_DIR}/20211208085922_feat.npy')\n",
    "feat_np_855 = np.load(f'{EMBS_DIR}/20211206135855_feat.npy')\n",
    "\n",
    "feat_np_055 = np.load(f'{EMBS_DIR}/20211204144055_feat.npy')\n",
    "\n",
    "feat_np_905.shape, feat_np_819.shape, feat_np_928.shape, feat_np_055.shape"
   ]
  },
  {
   "cell_type": "code",
   "execution_count": 252,
   "id": "3ae711d7",
   "metadata": {},
   "outputs": [],
   "source": [
    "sims_np_905 = np.load(f'{EMBS_DIR}/20211201110905_sims.npy')\n",
    "sims_np_819 = np.load(f'{EMBS_DIR}/20211203163819_sims.npy')\n",
    "sims_np_928 = np.load(f'{EMBS_DIR}/20211204105928_sims.npy')\n",
    "sims_np_922 = np.load(f'{EMBS_DIR}/20211208085922_sims.npy')\n",
    "sims_np_855 = np.load(f'{EMBS_DIR}/20211206135855_sims.npy')\n",
    "\n",
    "sims_np_055 = np.load(f'{EMBS_DIR}/20211204144055_sims.npy')"
   ]
  },
  {
   "cell_type": "code",
   "execution_count": 23,
   "id": "884dfe38",
   "metadata": {},
   "outputs": [],
   "source": [
    "# pos\n",
    "\n",
    "feat_np_905_512 = feat_np_905.reshape(-1, 512)\n",
    "feat_np_819_512 = feat_np_819.reshape(-1, 512)\n",
    "feat_np_928_512 = feat_np_928.reshape(-1, 512)\n",
    "feat_np_922_512 = feat_np_922.reshape(-1, 512)\n",
    "\n",
    "feat_np_855_512 = feat_np_855.reshape(-1, 512) # 2\n",
    "\n",
    "# neg\n",
    "\n",
    "feat_np_055_512 = feat_np_055.reshape(-1, 512)"
   ]
  },
  {
   "cell_type": "markdown",
   "id": "c10cf6c8",
   "metadata": {},
   "source": [
    "#### KSTest"
   ]
  },
  {
   "cell_type": "code",
   "execution_count": 186,
   "id": "17210378",
   "metadata": {},
   "outputs": [],
   "source": [
    "scaler = preprocessing.StandardScaler()\n",
    "NC = 24\n",
    "kspca = PCA(n_components=NC)\n",
    "tril = np.tril_indices(64)"
   ]
  },
  {
   "cell_type": "code",
   "execution_count": 230,
   "id": "babe4fd5",
   "metadata": {},
   "outputs": [
    {
     "data": {
      "text/plain": [
       "(155, 64, 512)"
      ]
     },
     "execution_count": 230,
     "metadata": {},
     "output_type": "execute_result"
    }
   ],
   "source": [
    "feat_data = []\n",
    "for file in pos_embs_files:\n",
    "     feat_data.append(np.load(f'{EMBS_DIR}/{file}_feat.npy'))\n",
    "data_feat = np.concatenate(feat_data, axis=0)\n",
    "data_feat.shape"
   ]
  },
  {
   "cell_type": "code",
   "execution_count": 231,
   "id": "d471f307",
   "metadata": {},
   "outputs": [
    {
     "data": {
      "text/plain": [
       "(155, 64, 64)"
      ]
     },
     "execution_count": 231,
     "metadata": {},
     "output_type": "execute_result"
    }
   ],
   "source": [
    "sims_data = []\n",
    "for file in pos_embs_files:\n",
    "     sims_data.append(np.load(f'{EMBS_DIR}/{file}_sims.npy'))\n",
    "data_sims = np.concatenate(sims_data, axis=0)\n",
    "data_sims.shape"
   ]
  },
  {
   "cell_type": "code",
   "execution_count": 219,
   "id": "a9835706",
   "metadata": {},
   "outputs": [
    {
     "data": {
      "image/png": "[encoded data removed]",
      "text/plain": [
       "<Figure size 92.16x92.16 with 1 Axes>"
      ]
     },
     "metadata": {},
     "output_type": "display_data"
    }
   ],
   "source": [
    "draw_osd_sim(data_sims[0])"
   ]
  },
  {
   "cell_type": "code",
   "execution_count": 232,
   "id": "f55f506a",
   "metadata": {},
   "outputs": [
    {
     "data": {
      "text/plain": [
       "(155, 2080)"
      ]
     },
     "execution_count": 232,
     "metadata": {},
     "output_type": "execute_result"
    }
   ],
   "source": [
    "data_sims_tril = data_sims[:, tril[0], tril[1]]\n",
    "data_sims_tril.shape"
   ]
  },
  {
   "cell_type": "code",
   "execution_count": 233,
   "id": "57a41d31",
   "metadata": {
    "scrolled": false
   },
   "outputs": [],
   "source": [
    "sims_mean = []\n",
    "sims_std = []\n",
    "for sim in data_sims_tril:\n",
    "    sims_mean.append(sim.mean())\n",
    "    sims_std.append(sim.std())"
   ]
  },
  {
   "cell_type": "code",
   "execution_count": 234,
   "id": "387bf9d2",
   "metadata": {},
   "outputs": [
    {
     "data": {
      "text/plain": [
       "(145, 64, 512)"
      ]
     },
     "execution_count": 234,
     "metadata": {},
     "output_type": "execute_result"
    },
    {
     "data": {
      "image/png": "[encoded data removed]",
      "text/plain": [
       "<Figure size 92.16x92.16 with 1 Axes>"
      ]
     },
     "metadata": {},
     "output_type": "display_data"
    },
    {
     "data": {
      "image/png": "[encoded data removed]",
      "text/plain": [
       "<Figure size 92.16x92.16 with 1 Axes>"
      ]
     },
     "metadata": {},
     "output_type": "display_data"
    },
    {
     "data": {
      "image/png": "[encoded data removed]",
      "text/plain": [
       "<Figure size 92.16x92.16 with 1 Axes>"
      ]
     },
     "metadata": {},
     "output_type": "display_data"
    },
    {
     "data": {
      "image/png": "[encoded data removed]",
      "text/plain": [
       "<Figure size 92.16x92.16 with 1 Axes>"
      ]
     },
     "metadata": {},
     "output_type": "display_data"
    },
    {
     "data": {
      "image/png": "[encoded data removed]",
      "text/plain": [
       "<Figure size 92.16x92.16 with 1 Axes>"
      ]
     },
     "metadata": {},
     "output_type": "display_data"
    },
    {
     "data": {
      "image/png": "[encoded data removed]",
      "text/plain": [
       "<Figure size 92.16x92.16 with 1 Axes>"
      ]
     },
     "metadata": {},
     "output_type": "display_data"
    },
    {
     "data": {
      "image/png": "[encoded data removed]",
      "text/plain": [
       "<Figure size 92.16x92.16 with 1 Axes>"
      ]
     },
     "metadata": {},
     "output_type": "display_data"
    },
    {
     "data": {
      "image/png": "[encoded data removed]",
      "text/plain": [
       "<Figure size 92.16x92.16 with 1 Axes>"
      ]
     },
     "metadata": {},
     "output_type": "display_data"
    },
    {
     "data": {
      "image/png": "[encoded data removed]",
      "text/plain": [
       "<Figure size 92.16x92.16 with 1 Axes>"
      ]
     },
     "metadata": {},
     "output_type": "display_data"
    },
    {
     "data": {
      "image/png": "[encoded data removed]",
      "text/plain": [
       "<Figure size 92.16x92.16 with 1 Axes>"
      ]
     },
     "metadata": {},
     "output_type": "display_data"
    }
   ],
   "source": [
    "outlier_indices = outlier_detection(sims_mean)[0]\n",
    "for idx in outlier_indices:\n",
    "    draw_osd_sim(data_sims[idx])\n",
    "data_feat = np.delete(data_feat, outlier_indices, axis=0)\n",
    "data_feat.shape"
   ]
  },
  {
   "cell_type": "code",
   "execution_count": 235,
   "id": "2ffca6e2",
   "metadata": {},
   "outputs": [
    {
     "data": {
      "text/plain": [
       "(9280, 512)"
      ]
     },
     "execution_count": 235,
     "metadata": {},
     "output_type": "execute_result"
    }
   ],
   "source": [
    "data = data_feat.reshape((-1, 512))\n",
    "data.shape"
   ]
  },
  {
   "cell_type": "code",
   "execution_count": 237,
   "id": "a646ffbb",
   "metadata": {},
   "outputs": [],
   "source": [
    "df_data = pd.DataFrame(data)"
   ]
  },
  {
   "cell_type": "code",
   "execution_count": 238,
   "id": "8c19c732",
   "metadata": {},
   "outputs": [
    {
     "data": {
      "text/html": [
       "<div>\n",
       "<style scoped>\n",
       "    .dataframe tbody tr th:only-of-type {\n",
       "        vertical-align: middle;\n",
       "    }\n",
       "\n",
       "    .dataframe tbody tr th {\n",
       "        vertical-align: top;\n",
       "    }\n",
       "\n",
       "    .dataframe thead th {\n",
       "        text-align: right;\n",
       "    }\n",
       "</style>\n",
       "<table border=\"1\" class=\"dataframe\">\n",
       "  <thead>\n",
       "    <tr style=\"text-align: right;\">\n",
       "      <th></th>\n",
       "      <th>200</th>\n",
       "      <th>201</th>\n",
       "      <th>202</th>\n",
       "      <th>203</th>\n",
       "      <th>204</th>\n",
       "      <th>205</th>\n",
       "      <th>206</th>\n",
       "      <th>207</th>\n",
       "      <th>208</th>\n",
       "      <th>209</th>\n",
       "    </tr>\n",
       "  </thead>\n",
       "  <tbody>\n",
       "    <tr>\n",
       "      <th>count</th>\n",
       "      <td>9280.000000</td>\n",
       "      <td>9280.0</td>\n",
       "      <td>9280.000000</td>\n",
       "      <td>9280.000000</td>\n",
       "      <td>9280.000000</td>\n",
       "      <td>9280.000000</td>\n",
       "      <td>9280.000000</td>\n",
       "      <td>9280.0</td>\n",
       "      <td>9280.000000</td>\n",
       "      <td>9280.000000</td>\n",
       "    </tr>\n",
       "    <tr>\n",
       "      <th>mean</th>\n",
       "      <td>1.116403</td>\n",
       "      <td>0.0</td>\n",
       "      <td>0.296750</td>\n",
       "      <td>0.708412</td>\n",
       "      <td>1.150162</td>\n",
       "      <td>1.177368</td>\n",
       "      <td>0.955024</td>\n",
       "      <td>0.0</td>\n",
       "      <td>1.005732</td>\n",
       "      <td>0.682468</td>\n",
       "    </tr>\n",
       "    <tr>\n",
       "      <th>std</th>\n",
       "      <td>0.336091</td>\n",
       "      <td>0.0</td>\n",
       "      <td>0.258218</td>\n",
       "      <td>0.237654</td>\n",
       "      <td>0.275435</td>\n",
       "      <td>0.310399</td>\n",
       "      <td>0.364231</td>\n",
       "      <td>0.0</td>\n",
       "      <td>0.271964</td>\n",
       "      <td>0.275293</td>\n",
       "    </tr>\n",
       "    <tr>\n",
       "      <th>min</th>\n",
       "      <td>0.000000</td>\n",
       "      <td>0.0</td>\n",
       "      <td>0.000000</td>\n",
       "      <td>0.000000</td>\n",
       "      <td>0.257093</td>\n",
       "      <td>0.137004</td>\n",
       "      <td>0.000000</td>\n",
       "      <td>0.0</td>\n",
       "      <td>0.094479</td>\n",
       "      <td>0.000000</td>\n",
       "    </tr>\n",
       "    <tr>\n",
       "      <th>25%</th>\n",
       "      <td>0.882787</td>\n",
       "      <td>0.0</td>\n",
       "      <td>0.061744</td>\n",
       "      <td>0.548854</td>\n",
       "      <td>0.957179</td>\n",
       "      <td>0.959206</td>\n",
       "      <td>0.702082</td>\n",
       "      <td>0.0</td>\n",
       "      <td>0.810495</td>\n",
       "      <td>0.486551</td>\n",
       "    </tr>\n",
       "    <tr>\n",
       "      <th>50%</th>\n",
       "      <td>1.095698</td>\n",
       "      <td>0.0</td>\n",
       "      <td>0.258260</td>\n",
       "      <td>0.693594</td>\n",
       "      <td>1.140365</td>\n",
       "      <td>1.172889</td>\n",
       "      <td>0.955577</td>\n",
       "      <td>0.0</td>\n",
       "      <td>0.991689</td>\n",
       "      <td>0.663734</td>\n",
       "    </tr>\n",
       "    <tr>\n",
       "      <th>75%</th>\n",
       "      <td>1.327752</td>\n",
       "      <td>0.0</td>\n",
       "      <td>0.465886</td>\n",
       "      <td>0.856908</td>\n",
       "      <td>1.324303</td>\n",
       "      <td>1.384707</td>\n",
       "      <td>1.206488</td>\n",
       "      <td>0.0</td>\n",
       "      <td>1.187520</td>\n",
       "      <td>0.859488</td>\n",
       "    </tr>\n",
       "    <tr>\n",
       "      <th>max</th>\n",
       "      <td>2.467175</td>\n",
       "      <td>0.0</td>\n",
       "      <td>1.391692</td>\n",
       "      <td>1.786246</td>\n",
       "      <td>2.372484</td>\n",
       "      <td>2.383919</td>\n",
       "      <td>2.227484</td>\n",
       "      <td>0.0</td>\n",
       "      <td>2.020975</td>\n",
       "      <td>2.044044</td>\n",
       "    </tr>\n",
       "  </tbody>\n",
       "</table>\n",
       "</div>"
      ],
      "text/plain": [
       "               200     201          202          203          204  \\\n",
       "count  9280.000000  9280.0  9280.000000  9280.000000  9280.000000   \n",
       "mean      1.116403     0.0     0.296750     0.708412     1.150162   \n",
       "std       0.336091     0.0     0.258218     0.237654     0.275435   \n",
       "min       0.000000     0.0     0.000000     0.000000     0.257093   \n",
       "25%       0.882787     0.0     0.061744     0.548854     0.957179   \n",
       "50%       1.095698     0.0     0.258260     0.693594     1.140365   \n",
       "75%       1.327752     0.0     0.465886     0.856908     1.324303   \n",
       "max       2.467175     0.0     1.391692     1.786246     2.372484   \n",
       "\n",
       "               205          206     207          208          209  \n",
       "count  9280.000000  9280.000000  9280.0  9280.000000  9280.000000  \n",
       "mean      1.177368     0.955024     0.0     1.005732     0.682468  \n",
       "std       0.310399     0.364231     0.0     0.271964     0.275293  \n",
       "min       0.137004     0.000000     0.0     0.094479     0.000000  \n",
       "25%       0.959206     0.702082     0.0     0.810495     0.486551  \n",
       "50%       1.172889     0.955577     0.0     0.991689     0.663734  \n",
       "75%       1.384707     1.206488     0.0     1.187520     0.859488  \n",
       "max       2.383919     2.227484     0.0     2.020975     2.044044  "
      ]
     },
     "execution_count": 238,
     "metadata": {},
     "output_type": "execute_result"
    }
   ],
   "source": [
    "df_data.iloc[:, 200:210].describe()"
   ]
  },
  {
   "cell_type": "code",
   "execution_count": 239,
   "id": "cc8e744a",
   "metadata": {},
   "outputs": [],
   "source": [
    "data_scaler = scaler.fit_transform(data)"
   ]
  },
  {
   "cell_type": "code",
   "execution_count": 240,
   "id": "2c96c7e2",
   "metadata": {},
   "outputs": [
    {
     "data": {
      "text/plain": [
       "(9280, 24)"
      ]
     },
     "execution_count": 240,
     "metadata": {},
     "output_type": "execute_result"
    }
   ],
   "source": [
    "data_out = kspca.fit_transform(data_scaler)\n",
    "data_out.shape"
   ]
  },
  {
   "cell_type": "code",
   "execution_count": 241,
   "id": "2fc1ce95",
   "metadata": {},
   "outputs": [
    {
     "data": {
      "text/plain": [
       "array([0.08952484, 0.07074036, 0.05636761, 0.04403881, 0.03925429,\n",
       "       0.03544855, 0.03200632, 0.02672423, 0.02404562, 0.02266385,\n",
       "       0.01901987, 0.01816638, 0.01587501, 0.0136712 , 0.01308843,\n",
       "       0.0121691 , 0.01093935, 0.01043945, 0.00991797, 0.00892264,\n",
       "       0.0077772 , 0.00755029, 0.00692178, 0.00625961], dtype=float32)"
      ]
     },
     "execution_count": 241,
     "metadata": {},
     "output_type": "execute_result"
    }
   ],
   "source": [
    "kspca.explained_variance_ratio_"
   ]
  },
  {
   "cell_type": "code",
   "execution_count": 242,
   "id": "c9b546a5",
   "metadata": {},
   "outputs": [
    {
     "data": {
      "text/plain": [
       "array([0.08952484, 0.16026519, 0.21663281, 0.26067162, 0.29992592,\n",
       "       0.33537447, 0.3673808 , 0.39410502, 0.41815063, 0.4408145 ,\n",
       "       0.45983437, 0.47800076, 0.49387577, 0.50754696, 0.52063537,\n",
       "       0.5328045 , 0.54374385, 0.5541833 , 0.5641013 , 0.5730239 ,\n",
       "       0.5808011 , 0.5883514 , 0.5952732 , 0.6015328 ], dtype=float32)"
      ]
     },
     "execution_count": 242,
     "metadata": {},
     "output_type": "execute_result"
    }
   ],
   "source": [
    "np.cumsum(kspca.explained_variance_ratio_)"
   ]
  },
  {
   "cell_type": "code",
   "execution_count": 253,
   "id": "e53ea3c1",
   "metadata": {
    "scrolled": false
   },
   "outputs": [
    {
     "name": "stdout",
     "output_type": "stream",
     "text": [
      "============================================================\n",
      "============================================================\n",
      "------------------------------------------------------------\n",
      "KstestResult(statistic=0.10398706896551724, pvalue=0.4670868588620587)\n",
      "KstestResult(statistic=0.12176724137931035, pvalue=0.2796682866929684)\n",
      "KstestResult(statistic=0.1875, pvalue=0.019845194616662898)\n",
      "KstestResult(statistic=0.10872844827586207, pvalue=0.4112631951275084)\n",
      "KstestResult(statistic=0.10420258620689656, pvalue=0.4644667304439378)\n",
      "KstestResult(statistic=0.1398706896551724, pvalue=0.1512769912458427)\n",
      "KstestResult(statistic=0.1396551724137931, pvalue=0.15246652133469218)\n",
      "KstestResult(statistic=0.09558189655172414, pvalue=0.5743252937348957)\n",
      "KstestResult(statistic=0.09148706896551724, pvalue=0.6290762019430236)\n",
      "KstestResult(statistic=0.13448275862068965, pvalue=0.18331853596641978)\n",
      "++++++++++++++++++++++++++++++++++++++++++++++++++++++++++++\n",
      "KstestResult(statistic=0.22780172413793104, pvalue=0.0022215430422748428)\n",
      "KstestResult(statistic=0.26045258620689654, pvalue=0.00027262275680439707)\n",
      "KstestResult(statistic=0.1824353448275862, pvalue=0.025340390228465348)\n",
      "KstestResult(statistic=0.09202586206896551, pvalue=0.6218244899576492)\n",
      "KstestResult(statistic=0.14364224137931034, pvalue=0.1316379879442784)\n",
      "KstestResult(statistic=0.13189655172413794, pvalue=0.20047474716319547)\n",
      "KstestResult(statistic=0.16853448275862068, pvalue=0.04786523197219594)\n",
      "KstestResult(statistic=0.10926724137931035, pvalue=0.40517232333139086)\n",
      "KstestResult(statistic=0.06864224137931034, pvalue=0.9057062662504022)\n",
      "KstestResult(statistic=0.1485991379310345, pvalue=0.10902642818394714)\n",
      "++++++++++++++++++++++++++++++++++++++++++++++++++++++++++++\n",
      "KstestResult(statistic=0.19105603448275862, pvalue=0.016647512504210482)\n",
      "KstestResult(statistic=0.13997844827586206, pvalue=0.1506850159905999)\n",
      "KstestResult(statistic=0.09795258620689655, pvalue=0.5432093127729127)\n",
      "KstestResult(statistic=0.07036637931034483, pvalue=0.8896892621148161)\n",
      "KstestResult(statistic=0.19795258620689654, pvalue=0.011727068185699463)\n",
      "KstestResult(statistic=0.1713362068965517, pvalue=0.04227996730932482)\n",
      "KstestResult(statistic=0.18038793103448275, pvalue=0.027918312270932666)\n",
      "KstestResult(statistic=0.08017241379310344, pvalue=0.7789268808925589)\n",
      "KstestResult(statistic=0.12036637931034483, pvalue=0.2921916314327818)\n",
      "KstestResult(statistic=0.1314655172413793, pvalue=0.2034507983021412)\n",
      "++++++++++++++++++++++++++++++++++++++++++++++++++++++++++++\n",
      "KstestResult(statistic=0.17575431034482758, pvalue=0.034620477549910045)\n",
      "KstestResult(statistic=0.18114224137931034, pvalue=0.026942858651072044)\n",
      "KstestResult(statistic=0.1956896551724138, pvalue=0.013174214280249452)\n",
      "KstestResult(statistic=0.1252155172413793, pvalue=0.2504939694474485)\n",
      "KstestResult(statistic=0.12790948275862069, pvalue=0.22931113809956039)\n",
      "KstestResult(statistic=0.11637931034482758, pvalue=0.3299773835429165)\n",
      "KstestResult(statistic=0.18976293103448275, pvalue=0.01775276966988959)\n",
      "KstestResult(statistic=0.12877155172413793, pvalue=0.2228251145426111)\n",
      "KstestResult(statistic=0.06907327586206896, pvalue=0.9018183702429944)\n",
      "KstestResult(statistic=0.14622844827586207, pvalue=0.11940643510933657)\n",
      "++++++++++++++++++++++++++++++++++++++++++++++++++++++++++++\n",
      "KstestResult(statistic=0.11831896551724137, pvalue=0.3111986187007473)\n",
      "KstestResult(statistic=0.1091594827586207, pvalue=0.40638620538295056)\n",
      "KstestResult(statistic=0.1642241379310345, pvalue=0.05769877215280128)\n",
      "KstestResult(statistic=0.14892241379310345, pvalue=0.10767037393856016)\n",
      "KstestResult(statistic=0.0824353448275862, pvalue=0.7499556966482523)\n",
      "KstestResult(statistic=0.12230603448275862, pvalue=0.27495537443764095)\n",
      "KstestResult(statistic=0.13275862068965516, pvalue=0.19462343577294638)\n",
      "KstestResult(statistic=0.07413793103448275, pvalue=0.850626653497208)\n",
      "KstestResult(statistic=0.1084051724137931, pvalue=0.41494334643487096)\n",
      "KstestResult(statistic=0.1824353448275862, pvalue=0.025340390228465348)\n",
      "++++++++++++++++++++++++++++++++++++++++++++++++++++++++++++\n",
      "KstestResult(statistic=0.2209051724137931, pvalue=0.0033333445176901844)\n",
      "KstestResult(statistic=0.17726293103448276, pvalue=0.03229835311947871)\n",
      "KstestResult(statistic=0.17801724137931035, pvalue=0.031189325704788606)\n",
      "KstestResult(statistic=0.1875, pvalue=0.019845194616662898)\n",
      "KstestResult(statistic=0.19967672413793103, pvalue=0.010722283529874588)\n",
      "KstestResult(statistic=0.16713362068965518, pvalue=0.050889230764204596)\n",
      "KstestResult(statistic=0.2610991379310345, pvalue=0.0002607525881653805)\n",
      "KstestResult(statistic=0.24989224137931035, pvalue=0.000554883470859302)\n",
      "KstestResult(statistic=0.18232758620689654, pvalue=0.02547063961561824)\n",
      "KstestResult(statistic=0.20010775862068966, pvalue=0.010483535499111962)\n",
      "++++++++++++++++++++++++++++++++++++++++++++++++++++++++++++\n",
      "\n",
      "\n",
      "\n",
      "------------------------------------------------------------\n",
      "KstestResult(statistic=0.1404094827586207, pvalue=0.148335630056171)\n",
      "KstestResult(statistic=0.11487068965517241, pvalue=0.3451011504038899)\n",
      "KstestResult(statistic=0.1966594827586207, pvalue=0.012535438113710051)\n",
      "KstestResult(statistic=0.21142241379310345, pvalue=0.0057023492046720525)\n",
      "KstestResult(statistic=0.07004310344827586, pvalue=0.8927858362267403)\n",
      "KstestResult(statistic=0.1040948275862069, pvalue=0.4657758598564139)\n",
      "KstestResult(statistic=0.09073275862068965, pvalue=0.639241253802703)\n",
      "KstestResult(statistic=0.08814655172413793, pvalue=0.6741144140697879)\n",
      "KstestResult(statistic=0.1738146551724138, pvalue=0.03781958934222218)\n",
      "KstestResult(statistic=0.1127155172413793, pvalue=0.3674863820817208)\n",
      "++++++++++++++++++++++++++++++++++++++++++++++++++++++++++++\n",
      "KstestResult(statistic=0.15829741379310344, pvalue=0.07400746615895504)\n",
      "KstestResult(statistic=0.11799568965517242, pvalue=0.31427625172782847)\n",
      "KstestResult(statistic=0.11616379310344828, pvalue=0.33211022807153734)\n",
      "KstestResult(statistic=0.2334051724137931, pvalue=0.0015824581305705632)\n",
      "KstestResult(statistic=0.1136853448275862, pvalue=0.35730014846188884)\n",
      "KstestResult(statistic=0.12079741379310345, pvalue=0.2882967153857251)\n",
      "KstestResult(statistic=0.10064655172413793, pvalue=0.5086091030827755)\n",
      "KstestResult(statistic=0.10269396551724137, pvalue=0.48296175028179456)\n",
      "KstestResult(statistic=0.13308189655172414, pvalue=0.19246359354083298)\n",
      "KstestResult(statistic=0.10441810344827586, pvalue=0.46185411122052644)\n",
      "++++++++++++++++++++++++++++++++++++++++++++++++++++++++++++\n",
      "KstestResult(statistic=0.1466594827586207, pvalue=0.11746119866871585)\n",
      "KstestResult(statistic=0.1353448275862069, pvalue=0.1778617354411275)\n",
      "KstestResult(statistic=0.13071120689655172, pvalue=0.20874044451702756)\n",
      "KstestResult(statistic=0.15172413793103448, pvalue=0.09649129603169748)\n",
      "KstestResult(statistic=0.15, pvalue=0.10325033766174163)\n",
      "KstestResult(statistic=0.11400862068965517, pvalue=0.35394569502344186)\n",
      "KstestResult(statistic=0.14612068965517241, pvalue=0.11989684068832673)\n",
      "KstestResult(statistic=0.12284482758620689, pvalue=0.2702999059786435)\n",
      "KstestResult(statistic=0.11842672413793104, pvalue=0.3101773805493041)\n",
      "KstestResult(statistic=0.17877155172413794, pvalue=0.030113843752276215)\n",
      "++++++++++++++++++++++++++++++++++++++++++++++++++++++++++++\n",
      "\n",
      "\n",
      "\n",
      "------------------------------------------------------------\n",
      "KstestResult(statistic=0.19245689655172413, pvalue=0.015519862649015725)\n",
      "KstestResult(statistic=0.06799568965517241, pvalue=0.9113885741439937)\n",
      "KstestResult(statistic=0.18265086206896552, pvalue=0.025081654478008808)\n",
      "KstestResult(statistic=0.21400862068965518, pvalue=0.004937500869866662)\n",
      "KstestResult(statistic=0.07650862068965517, pvalue=0.8236163959264269)\n",
      "KstestResult(statistic=0.11325431034482758, pvalue=0.3618046568676049)\n",
      "KstestResult(statistic=0.13480603448275863, pvalue=0.18125710300501374)\n",
      "KstestResult(statistic=0.0779094827586207, pvalue=0.8069067997000214)\n",
      "KstestResult(statistic=0.1726293103448276, pvalue=0.03989891098531517)\n",
      "KstestResult(statistic=0.08114224137931035, pvalue=0.7666169093096189)\n",
      "++++++++++++++++++++++++++++++++++++++++++++++++++++++++++++\n",
      "KstestResult(statistic=0.20398706896551724, pvalue=0.008541210988826431)\n",
      "KstestResult(statistic=0.08405172413793104, pvalue=0.728797231659268)\n",
      "KstestResult(statistic=0.19191810344827587, pvalue=0.015945226952064018)\n"
     ]
    },
    {
     "name": "stdout",
     "output_type": "stream",
     "text": [
      "KstestResult(statistic=0.240625, pvalue=0.001009294427520735)\n",
      "KstestResult(statistic=0.06056034482758621, pvalue=0.9630169339869352)\n",
      "KstestResult(statistic=0.09795258620689655, pvalue=0.5432093127729127)\n",
      "KstestResult(statistic=0.2113146551724138, pvalue=0.005736446189690048)\n",
      "KstestResult(statistic=0.06982758620689655, pvalue=0.8948266421905621)\n",
      "KstestResult(statistic=0.18189655172413793, pvalue=0.025997565880409024)\n",
      "KstestResult(statistic=0.12155172413793103, pvalue=0.2815695673554627)\n",
      "++++++++++++++++++++++++++++++++++++++++++++++++++++++++++++\n",
      "KstestResult(statistic=0.12737068965517243, pvalue=0.233436422797204)\n",
      "KstestResult(statistic=0.06810344827586207, pvalue=0.9104541140932836)\n",
      "KstestResult(statistic=0.19148706896551723, pvalue=0.016292989484804066)\n",
      "KstestResult(statistic=0.20161637931034482, pvalue=0.009685216198820679)\n",
      "KstestResult(statistic=0.11939655172413793, pvalue=0.30109062031736955)\n",
      "KstestResult(statistic=0.1247844827586207, pvalue=0.2540132780284887)\n",
      "KstestResult(statistic=0.08028017241379311, pvalue=0.777567718509428)\n",
      "KstestResult(statistic=0.14094827586206896, pvalue=0.14544028716320467)\n",
      "KstestResult(statistic=0.11282327586206897, pvalue=0.3663455074049706)\n",
      "KstestResult(statistic=0.121875, pvalue=0.27872110185824417)\n",
      "++++++++++++++++++++++++++++++++++++++++++++++++++++++++++++\n",
      "KstestResult(statistic=0.0824353448275862, pvalue=0.7499556966482523)\n",
      "KstestResult(statistic=0.12629310344827585, pvalue=0.2418533741745741)\n",
      "KstestResult(statistic=0.17413793103448275, pvalue=0.03726915106012685)\n",
      "KstestResult(statistic=0.18200431034482759, pvalue=0.025864940534151004)\n",
      "KstestResult(statistic=0.04213362068965517, pvalue=0.9996307059568077)\n",
      "KstestResult(statistic=0.14633620689655172, pvalue=0.11891767183690705)\n",
      "KstestResult(statistic=0.11185344827586206, pvalue=0.37669453658466534)\n",
      "KstestResult(statistic=0.06670258620689655, pvalue=0.922201824141756)\n",
      "KstestResult(statistic=0.084375, pvalue=0.724528504448682)\n",
      "KstestResult(statistic=0.15980603448275862, pvalue=0.06952444023923732)\n",
      "++++++++++++++++++++++++++++++++++++++++++++++++++++++++++++\n",
      "KstestResult(statistic=0.3585129310344828, pvalue=8.111901428353718e-08)\n",
      "KstestResult(statistic=0.3595905172413793, pvalue=7.30326030762285e-08)\n",
      "KstestResult(statistic=0.4255387931034483, pvalue=5.902056621209795e-11)\n",
      "KstestResult(statistic=0.4115301724137931, pvalue=3.010623972343751e-10)\n",
      "KstestResult(statistic=0.33480603448275864, pvalue=7.478378258873875e-07)\n",
      "KstestResult(statistic=0.4053879310344828, pvalue=6.027394139351827e-10)\n",
      "KstestResult(statistic=0.3595905172413793, pvalue=7.30326030762285e-08)\n",
      "KstestResult(statistic=0.3316810344827586, pvalue=9.897166806105417e-07)\n",
      "KstestResult(statistic=0.38243534482758623, pvalue=7.245530397881339e-09)\n",
      "KstestResult(statistic=0.3724137931034483, pvalue=2.036645363467926e-08)\n",
      "++++++++++++++++++++++++++++++++++++++++++++++++++++++++++++\n",
      "\n",
      "\n",
      "\n"
     ]
    },
    {
     "data": {
      "image/png": "[encoded data removed]",
      "text/plain": [
       "<Figure size 92.16x92.16 with 1 Axes>"
      ]
     },
     "metadata": {},
     "output_type": "display_data"
    },
    {
     "data": {
      "image/png": "[encoded data removed]",
      "text/plain": [
       "<Figure size 92.16x92.16 with 1 Axes>"
      ]
     },
     "metadata": {},
     "output_type": "display_data"
    },
    {
     "data": {
      "image/png": "[encoded data removed]",
      "text/plain": [
       "<Figure size 92.16x92.16 with 1 Axes>"
      ]
     },
     "metadata": {},
     "output_type": "display_data"
    },
    {
     "data": {
      "image/png": "[encoded data removed]",
      "text/plain": [
       "<Figure size 92.16x92.16 with 1 Axes>"
      ]
     },
     "metadata": {},
     "output_type": "display_data"
    },
    {
     "data": {
      "image/png": "[encoded data removed]",
      "text/plain": [
       "<Figure size 92.16x92.16 with 1 Axes>"
      ]
     },
     "metadata": {},
     "output_type": "display_data"
    },
    {
     "data": {
      "image/png": "[encoded data removed]",
      "text/plain": [
       "<Figure size 92.16x92.16 with 1 Axes>"
      ]
     },
     "metadata": {},
     "output_type": "display_data"
    },
    {
     "data": {
      "image/png": "[encoded data removed]",
      "text/plain": [
       "<Figure size 92.16x92.16 with 1 Axes>"
      ]
     },
     "metadata": {},
     "output_type": "display_data"
    },
    {
     "data": {
      "image/png": "[encoded data removed]",
      "text/plain": [
       "<Figure size 92.16x92.16 with 1 Axes>"
      ]
     },
     "metadata": {},
     "output_type": "display_data"
    },
    {
     "data": {
      "image/png": "[encoded data removed]",
      "text/plain": [
       "<Figure size 92.16x92.16 with 1 Axes>"
      ]
     },
     "metadata": {},
     "output_type": "display_data"
    },
    {
     "data": {
      "image/png": "[encoded data removed]",
      "text/plain": [
       "<Figure size 92.16x92.16 with 1 Axes>"
      ]
     },
     "metadata": {},
     "output_type": "display_data"
    },
    {
     "data": {
      "image/png": "[encoded data removed]",
      "text/plain": [
       "<Figure size 92.16x92.16 with 1 Axes>"
      ]
     },
     "metadata": {},
     "output_type": "display_data"
    },
    {
     "data": {
      "image/png": "[encoded data removed]",
      "text/plain": [
       "<Figure size 92.16x92.16 with 1 Axes>"
      ]
     },
     "metadata": {},
     "output_type": "display_data"
    },
    {
     "data": {
      "image/png": "[encoded data removed]",
      "text/plain": [
       "<Figure size 92.16x92.16 with 1 Axes>"
      ]
     },
     "metadata": {},
     "output_type": "display_data"
    },
    {
     "data": {
      "image/png": "[encoded data removed]",
      "text/plain": [
       "<Figure size 92.16x92.16 with 1 Axes>"
      ]
     },
     "metadata": {},
     "output_type": "display_data"
    }
   ],
   "source": [
    "neg_outs = []\n",
    "for s, f in zip(sims_np_055, feat_np_055):\n",
    "    neg_outs.append(kspca.transform(scaler.fit_transform(f)))\n",
    "    draw_osd_sim(s)\n",
    "    \n",
    "pos1_outs = []\n",
    "for s, f in zip(sims_np_922, feat_np_922):\n",
    "    pos1_outs.append(kspca.transform(scaler.fit_transform(f)))\n",
    "    draw_osd_sim(s)\n",
    "    \n",
    "pos2_outs = []\n",
    "for s, f in zip(sims_np_855, feat_np_855):\n",
    "    pos2_outs.append(kspca.transform(scaler.fit_transform(f)))\n",
    "    draw_osd_sim(s)\n",
    "\n",
    "for out in (neg_outs, pos1_outs, pos2_outs):\n",
    "    print('-'*60)\n",
    "    for rvs in out:\n",
    "        for i in range(10):\n",
    "            print(stats.ks_2samp(rvs[:, i], data_out[:, i]))\n",
    "        print('+'*60)\n",
    "    print('\\n\\n')"
   ]
  },
  {
   "cell_type": "code",
   "execution_count": null,
   "id": "bbbdf508",
   "metadata": {},
   "outputs": [],
   "source": [
    "KstestResult(statistic=0.21403104026845637, pvalue=0.0049256408350399905)\n",
    "KstestResult(statistic=0.10539010067114093, pvalue=0.4500411748553502)\n",
    "KstestResult(statistic=0.1944211409395973, pvalue=0.014040451885774297)\n",
    "KstestResult(statistic=0.24234479865771813, pvalue=0.0009035197108551163)"
   ]
  },
  {
   "cell_type": "markdown",
   "id": "14a817f2",
   "metadata": {},
   "source": [
    "#### A1"
   ]
  },
  {
   "cell_type": "code",
   "execution_count": null,
   "id": "c082cf03",
   "metadata": {},
   "outputs": [],
   "source": [
    "pca4 = PCA(n_components=4)\n",
    "feat_np_905_out = pca4.fit_transform(feat_np_905_512)\n",
    "np.cumsum(pca4.explained_variance_ratio_)[-1]"
   ]
  },
  {
   "cell_type": "code",
   "execution_count": null,
   "id": "b532056c",
   "metadata": {},
   "outputs": [],
   "source": [
    "np_info(feat_np_905_out[:, 0])"
   ]
  },
  {
   "cell_type": "code",
   "execution_count": null,
   "id": "43b19e3a",
   "metadata": {},
   "outputs": [],
   "source": [
    "feat_np_819_out = pca4.fit_transform(feat_np_819_512)\n",
    "np.cumsum(pca4.explained_variance_ratio_)[-1]"
   ]
  },
  {
   "cell_type": "code",
   "execution_count": null,
   "id": "d696f800",
   "metadata": {},
   "outputs": [],
   "source": [
    "np_info(feat_np_819_out[:, 0])"
   ]
  },
  {
   "cell_type": "code",
   "execution_count": null,
   "id": "01e66bc9",
   "metadata": {},
   "outputs": [],
   "source": [
    "feat_np_928_out = pca4.fit_transform(feat_np_928_512)\n",
    "np.cumsum(pca4.explained_variance_ratio_)[-1]"
   ]
  },
  {
   "cell_type": "code",
   "execution_count": null,
   "id": "fd05db6a",
   "metadata": {},
   "outputs": [],
   "source": [
    "np_info(feat_np_928_out[:, 0])"
   ]
  },
  {
   "cell_type": "code",
   "execution_count": null,
   "id": "5eb593c6",
   "metadata": {},
   "outputs": [],
   "source": [
    "feat_np_055_out = pca4.transform(feat_np_055_512)\n",
    "np.cumsum(pca4.explained_variance_ratio_)[-1]"
   ]
  },
  {
   "cell_type": "code",
   "execution_count": null,
   "id": "ac52eaf5",
   "metadata": {},
   "outputs": [],
   "source": [
    "np_info(feat_np_055_out[:, 0])"
   ]
  },
  {
   "cell_type": "markdown",
   "id": "8503a3d3",
   "metadata": {},
   "source": [
    "#### B"
   ]
  },
  {
   "cell_type": "code",
   "execution_count": null,
   "id": "93b80412",
   "metadata": {},
   "outputs": [],
   "source": [
    "a = pos_feat_np.reshape((-1, 512))"
   ]
  },
  {
   "cell_type": "code",
   "execution_count": null,
   "id": "a9b1e5ab",
   "metadata": {},
   "outputs": [],
   "source": [
    "feats = []\n",
    "for feat in a:\n",
    "    feats.append(_denormal_image(feat))"
   ]
  },
  {
   "cell_type": "code",
   "execution_count": null,
   "id": "1b5e30de",
   "metadata": {},
   "outputs": [],
   "source": [
    "feats_np = np.vstack(feats)"
   ]
  },
  {
   "cell_type": "code",
   "execution_count": null,
   "id": "db68fe2d",
   "metadata": {},
   "outputs": [],
   "source": [
    "feats_np.shape"
   ]
  },
  {
   "cell_type": "code",
   "execution_count": null,
   "id": "94994c99",
   "metadata": {},
   "outputs": [],
   "source": [
    "pca = PCA(n_components=64)\n",
    "pca.fit(feats_np)"
   ]
  },
  {
   "cell_type": "code",
   "execution_count": null,
   "id": "67d84275",
   "metadata": {},
   "outputs": [],
   "source": [
    "np.cumsum(pca.explained_variance_ratio_)[-1]"
   ]
  },
  {
   "cell_type": "code",
   "execution_count": null,
   "id": "989fb3d9",
   "metadata": {},
   "outputs": [],
   "source": [
    "plot_scatter(np.cumsum(pca.explained_variance_ratio_))"
   ]
  },
  {
   "cell_type": "code",
   "execution_count": null,
   "id": "20e55662",
   "metadata": {},
   "outputs": [],
   "source": [
    "pos_feat_64 = pca.transform(feats_np)\n",
    "\n",
    "pos_feat_64_0 = pos_feat_64 - pos_feat_64.mean(axis=0)\n",
    "pos_feat_64_1 = pos_feat_64_0 - pos_feat_64_0.mean(axis=1).reshape((-1, 1))\n",
    "\n",
    "plot_scatter(pos_feat_64_1)"
   ]
  },
  {
   "cell_type": "code",
   "execution_count": null,
   "id": "adebb796",
   "metadata": {},
   "outputs": [],
   "source": [
    "plt.figure(figsize=(24, 24))\n",
    "plt.imshow(b[10:64])"
   ]
  },
  {
   "cell_type": "markdown",
   "id": "beb6bb84",
   "metadata": {},
   "source": [
    "### Neg Datasets"
   ]
  },
  {
   "cell_type": "code",
   "execution_count": null,
   "id": "f9110d52",
   "metadata": {},
   "outputs": [],
   "source": [
    "neg_embs_files = (\n",
    "    '20211201095837',\n",
    "    '20211204124008',\n",
    "    '20211204144055',\n",
    ")"
   ]
  },
  {
   "cell_type": "code",
   "execution_count": null,
   "id": "c16cd940",
   "metadata": {},
   "outputs": [],
   "source": [
    "neg_feat_list = []\n",
    "for s in neg_embs_files:\n",
    "    neg_feat_list.append(np.load(f'{EMBS_DIR}/{s}_feat.npy'))\n",
    "    \n",
    "neg_feat_np = np.vstack(neg_feat_list)\n",
    "neg_feat_np.shape"
   ]
  },
  {
   "cell_type": "code",
   "execution_count": null,
   "id": "0d9380c9",
   "metadata": {},
   "outputs": [],
   "source": [
    "neg_sims_list = []\n",
    "for s in neg_embs_files:\n",
    "    neg_sims_list.append(np.load(f'{EMBS_DIR}/{s}_sims.npy')[1:-1])\n",
    "    \n",
    "neg_sims_np = np.vstack(neg_sims_list)\n",
    "neg_sims_np.shape"
   ]
  },
  {
   "cell_type": "markdown",
   "id": "d94a257c",
   "metadata": {},
   "source": [
    "## PCA"
   ]
  },
  {
   "cell_type": "markdown",
   "id": "0f9df638",
   "metadata": {},
   "source": [
    "### Feat"
   ]
  },
  {
   "cell_type": "code",
   "execution_count": null,
   "id": "ae090775",
   "metadata": {},
   "outputs": [],
   "source": [
    "pos_feat_512 = pos_feat_np.reshape((-1, 512)).copy()\n",
    "neg_feat_512 = neg_feat_np.reshape((-1, 512)).copy()\n",
    "pos_feat_512.shape, neg_feat_512.shape"
   ]
  },
  {
   "cell_type": "code",
   "execution_count": null,
   "id": "88caccd8",
   "metadata": {},
   "outputs": [],
   "source": [
    "pos_feat_512_0 = pos_feat_512 - pos_feat_512.mean(axis=0)\n",
    "pos_feat_512_1 = pos_feat_512_0 - pos_feat_512_0.mean(axis=1).reshape((-1, 1))\n",
    "\n",
    "plot_scatter(pos_feat_512_1)"
   ]
  },
  {
   "cell_type": "code",
   "execution_count": null,
   "id": "0a753a3b",
   "metadata": {},
   "outputs": [],
   "source": [
    "neg_feat_512_0 = neg_feat_512 - neg_feat_512.mean(axis=0)\n",
    "neg_feat_512_1 = neg_feat_512_0 - neg_feat_512_0.mean(axis=1).reshape((-1, 1))\n",
    "\n",
    "plot_scatter(neg_feat_512_1)\n",
    "# neg_feat_512_1[100:120]"
   ]
  },
  {
   "cell_type": "code",
   "execution_count": null,
   "id": "beb10bdb",
   "metadata": {},
   "outputs": [],
   "source": [
    "neg_feat_512_0 = neg_feat_512 - pos_feat_512.mean(axis=0)\n",
    "neg_feat_512_1 = neg_feat_512_0 - neg_feat_512_0.mean(axis=1).reshape((-1, 1))\n",
    "\n",
    "plot_scatter(neg_feat_512_1)\n",
    "# neg_feat_512_1[100:120]"
   ]
  },
  {
   "cell_type": "code",
   "execution_count": null,
   "id": "cbb91b75",
   "metadata": {},
   "outputs": [],
   "source": [
    "targets = [0] * pos_feat_512.shape[0] + [1] * neg_feat_512.shape[0]\n",
    "# plot_scatter(pos_output, colors=targets)\n",
    "plot_scatter(np.vstack([pos_feat_512_1, neg_feat_512_1]), colors=targets)"
   ]
  },
  {
   "cell_type": "code",
   "execution_count": null,
   "id": "f8ddba1f",
   "metadata": {},
   "outputs": [],
   "source": [
    "pca = PCA(n_components=32)\n",
    "pca.fit(pos_feat_512)"
   ]
  },
  {
   "cell_type": "code",
   "execution_count": null,
   "id": "9a87947e",
   "metadata": {},
   "outputs": [],
   "source": [
    "pos_feat_512[1, :10]"
   ]
  },
  {
   "cell_type": "code",
   "execution_count": null,
   "id": "7297ec12",
   "metadata": {},
   "outputs": [],
   "source": [
    "np.cumsum(pca.explained_variance_ratio_)[-1]"
   ]
  },
  {
   "cell_type": "code",
   "execution_count": null,
   "id": "f082a21c",
   "metadata": {},
   "outputs": [],
   "source": [
    "# pos_feat_32 = pca.transform(np.concatenate([pos_feat_512, neg_feat_512], axis=0))\n",
    "pos_feat_32 = pca.transform(pos_feat_512)\n",
    "neg_feat_32 = pca.transform(neg_feat_512)"
   ]
  },
  {
   "cell_type": "code",
   "execution_count": null,
   "id": "da58ce42",
   "metadata": {},
   "outputs": [],
   "source": [
    "len(pos_feat_512)"
   ]
  },
  {
   "cell_type": "code",
   "execution_count": null,
   "id": "57311fa6",
   "metadata": {},
   "outputs": [],
   "source": [
    "neg_feat_32.shape"
   ]
  },
  {
   "cell_type": "code",
   "execution_count": null,
   "id": "67a42665",
   "metadata": {},
   "outputs": [],
   "source": [
    "np.percentile(pos_feat_32[:, 0], [25, 75])"
   ]
  },
  {
   "cell_type": "code",
   "execution_count": null,
   "id": "79f5e5ba",
   "metadata": {
    "scrolled": false
   },
   "outputs": [],
   "source": [
    "indexes = []\n",
    "means = []\n",
    "stds = []\n",
    "for i in range(32):\n",
    "    indexes.append(outlier_detection(pos_feat_32[:, i])[0])\n",
    "    means.append(pos_feat_32[:, i].mean())\n",
    "    stds.append(pos_feat_32[:, i].std())"
   ]
  },
  {
   "cell_type": "code",
   "execution_count": null,
   "id": "e844eff8",
   "metadata": {},
   "outputs": [],
   "source": [
    "# means, stds"
   ]
  },
  {
   "cell_type": "code",
   "execution_count": null,
   "id": "aec1dd20",
   "metadata": {},
   "outputs": [],
   "source": [
    "for f in neg_feat_32:\n",
    "    flg = 0\n",
    "    for i in range(32):\n",
    "        f[i] - means\n",
    "        print()"
   ]
  },
  {
   "cell_type": "code",
   "execution_count": null,
   "id": "5fdfe0dd",
   "metadata": {},
   "outputs": [],
   "source": [
    "outlier_index = np.unique(np.concatenate(indexes))"
   ]
  },
  {
   "cell_type": "code",
   "execution_count": null,
   "id": "0ce8bffc",
   "metadata": {},
   "outputs": [],
   "source": [
    "len(outlier_index)"
   ]
  },
  {
   "cell_type": "code",
   "execution_count": null,
   "id": "6c919620",
   "metadata": {},
   "outputs": [],
   "source": [
    "outlier_index[-300:]"
   ]
  },
  {
   "cell_type": "code",
   "execution_count": null,
   "id": "479fe2c3",
   "metadata": {},
   "outputs": [],
   "source": [
    "outlier_detection(pos_feat_32[:, 0])"
   ]
  },
  {
   "cell_type": "code",
   "execution_count": null,
   "id": "6e576588",
   "metadata": {},
   "outputs": [],
   "source": [
    "pos_feat_64 = pca.transform(pos_feat_512_1)\n",
    "neg_feat_64 = pca.transform(neg_feat_512_1)"
   ]
  },
  {
   "cell_type": "code",
   "execution_count": null,
   "id": "1fe67cca",
   "metadata": {},
   "outputs": [],
   "source": []
  },
  {
   "cell_type": "code",
   "execution_count": null,
   "id": "8954f572",
   "metadata": {},
   "outputs": [],
   "source": [
    "targets = [0] * pos_feat_64.shape[0] + [1] * neg_feat_64.shape[0]\n",
    "plot_scatter(np.vstack([pos_feat_64, neg_feat_64]), colors=targets)"
   ]
  },
  {
   "cell_type": "code",
   "execution_count": null,
   "id": "770de082",
   "metadata": {},
   "outputs": [],
   "source": [
    "pos_output_1 = pca.fit_transform(pos_feat_512)\n",
    "pos_output_2 = pca.fit_transform(neg_feat_512)"
   ]
  },
  {
   "cell_type": "code",
   "execution_count": null,
   "id": "39e48159",
   "metadata": {},
   "outputs": [],
   "source": [
    "targets = [0] * pos_feat_512.shape[0] + [1] * neg_feat_512.shape[0]\n",
    "# plot_scatter(pos_output, colors=targets)\n",
    "plot_scatter(np.vstack([pos_output_1, pos_output_2]), colors=targets)"
   ]
  },
  {
   "cell_type": "markdown",
   "id": "f39ffcde",
   "metadata": {},
   "source": [
    "### Sims"
   ]
  },
  {
   "cell_type": "code",
   "execution_count": null,
   "id": "2728424d",
   "metadata": {},
   "outputs": [],
   "source": [
    "tril = np.tril_indices(64)"
   ]
  },
  {
   "cell_type": "code",
   "execution_count": null,
   "id": "464593d1",
   "metadata": {},
   "outputs": [],
   "source": [
    "pos_sims_tril = pos_sims_np[:, tril[0], tril[1]]\n",
    "neg_sims_tril = neg_sims_np[:, tril[0], tril[1]]"
   ]
  },
  {
   "cell_type": "code",
   "execution_count": null,
   "id": "c1c5e8d2",
   "metadata": {},
   "outputs": [],
   "source": [
    "pos_sims_tril.shape, neg_sims_tril.shape"
   ]
  },
  {
   "cell_type": "code",
   "execution_count": null,
   "id": "89a9c51c",
   "metadata": {},
   "outputs": [],
   "source": [
    "from sklearn.preprocessing import StandardScaler\n",
    "from sklearn.pipeline import Pipeline\n",
    "\n",
    "pipeline_sims = Pipeline([('scaling', StandardScaler()), ('pca', PCA(n_components=2))])\n",
    "# pca_sims = PCA(n_components=2)\n",
    "# pca_sims.fit(pos_sims_tril)\n",
    "pipeline_sims.fit(pos_sims_tril)"
   ]
  },
  {
   "cell_type": "code",
   "execution_count": null,
   "id": "c6a86e23",
   "metadata": {},
   "outputs": [],
   "source": [
    "pca = Pipeline([('scaling', StandardScaler()), ('pca', PCA(n_components=10))])"
   ]
  },
  {
   "cell_type": "code",
   "execution_count": null,
   "id": "e1d6148a",
   "metadata": {},
   "outputs": [],
   "source": [
    "pca.fit(pos_sims_tril)"
   ]
  },
  {
   "cell_type": "code",
   "execution_count": null,
   "id": "37ff8e97",
   "metadata": {},
   "outputs": [],
   "source": [
    "pca['pca'].explained_variance_ratio_"
   ]
  },
  {
   "cell_type": "code",
   "execution_count": null,
   "id": "9fa27959",
   "metadata": {},
   "outputs": [],
   "source": [
    "# !pip3 install pyod  --trusted-host  mirrors.aliyun.com -i https://mirrors.aliyun.com/pypi/simple"
   ]
  },
  {
   "cell_type": "code",
   "execution_count": null,
   "id": "60289477",
   "metadata": {},
   "outputs": [],
   "source": [
    "from pyod.models.pca import PCA"
   ]
  },
  {
   "cell_type": "code",
   "execution_count": null,
   "id": "6eb5217c",
   "metadata": {},
   "outputs": [],
   "source": [
    "clf = PCA(n_components=2)\n",
    "clf.fit(pos_sims_tril)"
   ]
  },
  {
   "cell_type": "code",
   "execution_count": null,
   "id": "6b064c95",
   "metadata": {},
   "outputs": [],
   "source": [
    "print(clf.labels_)"
   ]
  },
  {
   "cell_type": "code",
   "execution_count": null,
   "id": "6bd0cc6e",
   "metadata": {},
   "outputs": [],
   "source": [
    "clf.predict(neg_sims_tril)"
   ]
  },
  {
   "cell_type": "code",
   "execution_count": null,
   "id": "15992d0a",
   "metadata": {},
   "outputs": [],
   "source": [
    "pos_sims_output = pipeline_sims.transform(pos_sims_tril)\n",
    "neg_sims_output = pipeline_sims.transform(neg_sims_tril)\n",
    "pos_sims_output.shape, neg_sims_output.shape"
   ]
  },
  {
   "cell_type": "code",
   "execution_count": null,
   "id": "cf955721",
   "metadata": {},
   "outputs": [],
   "source": [
    "pos_sims_output.std(), neg_sims_output.std(), pos_sims_output.mean(), neg_sims_output.mean()"
   ]
  },
  {
   "cell_type": "code",
   "execution_count": null,
   "id": "5ef99f7b",
   "metadata": {},
   "outputs": [],
   "source": [
    "neg_sims_output"
   ]
  },
  {
   "cell_type": "code",
   "execution_count": null,
   "id": "6ed77333",
   "metadata": {},
   "outputs": [],
   "source": [
    "pos_sims_output = pca_sims.transform(pos_sims_tril)\n",
    "neg_sims_output = pca_sims.transform(neg_sims_tril)\n",
    "pos_sims_output.shape, neg_sims_output.shape"
   ]
  },
  {
   "cell_type": "code",
   "execution_count": null,
   "id": "daab49dc",
   "metadata": {},
   "outputs": [],
   "source": [
    "targets = [0] * pos_sims_tril.shape[0] + [1] * neg_sims_tril.shape[0]\n",
    "plot_scatter(np.vstack([pos_sims_output, neg_sims_output]), colors=targets)"
   ]
  },
  {
   "cell_type": "markdown",
   "id": "15e5bad7",
   "metadata": {},
   "source": [
    "## A"
   ]
  },
  {
   "cell_type": "code",
   "execution_count": null,
   "id": "1e15dcfc",
   "metadata": {},
   "outputs": [],
   "source": [
    "sims = ('20211130112549', '20211201074745', '20211201110905', '20211201161714')\n",
    "pos_sims_list = []\n",
    "for s in sims:\n",
    "    pos_sims_list.append(np.load(f'/data/sims/{s}.npy'))\n",
    "    \n",
    "neg_sims = np.load(f'/data/sims/20211130112549.npy')"
   ]
  },
  {
   "cell_type": "code",
   "execution_count": null,
   "id": "924ca46d",
   "metadata": {},
   "outputs": [],
   "source": [
    "pca0 = PCA()"
   ]
  },
  {
   "cell_type": "code",
   "execution_count": null,
   "id": "cd670d0c",
   "metadata": {},
   "outputs": [],
   "source": [
    "pca = PCA(n_components=2)"
   ]
  },
  {
   "cell_type": "code",
   "execution_count": null,
   "id": "130a2697",
   "metadata": {},
   "outputs": [],
   "source": [
    "data = np.vstack(pos_sims_list) # np.concatenate(sims_list)"
   ]
  },
  {
   "cell_type": "code",
   "execution_count": null,
   "id": "0e2449d2",
   "metadata": {},
   "outputs": [],
   "source": [
    "il1 = np.tril_indices(64)"
   ]
  },
  {
   "cell_type": "code",
   "execution_count": null,
   "id": "46754413",
   "metadata": {},
   "outputs": [],
   "source": [
    "neg_features = neg_sims[:, il1[0], il1[1]]\n",
    "neg_features.shape"
   ]
  },
  {
   "cell_type": "code",
   "execution_count": null,
   "id": "387c6136",
   "metadata": {},
   "outputs": [],
   "source": [
    "neg_features.var(axis=1)"
   ]
  },
  {
   "cell_type": "code",
   "execution_count": null,
   "id": "eddefa75",
   "metadata": {},
   "outputs": [],
   "source": [
    "features = data[:, il1[0], il1[1]]"
   ]
  },
  {
   "cell_type": "code",
   "execution_count": null,
   "id": "378b513e",
   "metadata": {},
   "outputs": [],
   "source": [
    "features.shape"
   ]
  },
  {
   "cell_type": "code",
   "execution_count": null,
   "id": "769983e8",
   "metadata": {},
   "outputs": [],
   "source": [
    "from sklearn.datasets import load_digits\n",
    "digits = load_digits()\n",
    "digits.data.shape"
   ]
  },
  {
   "cell_type": "code",
   "execution_count": null,
   "id": "5a3d8dd1",
   "metadata": {},
   "outputs": [],
   "source": [
    "pca = PCA().fit(digits.data)\n",
    "plt.plot(np.cumsum(pca.explained_variance_ratio_))\n",
    "plt.xlabel('number of components')\n",
    "plt.ylabel('cumulative explained variance');"
   ]
  },
  {
   "cell_type": "code",
   "execution_count": null,
   "id": "59bb54d4",
   "metadata": {},
   "outputs": [],
   "source": [
    "features.shape"
   ]
  },
  {
   "cell_type": "code",
   "execution_count": null,
   "id": "f5ca65f8",
   "metadata": {},
   "outputs": [],
   "source": [
    "pca0 = PCA().fit(features)\n",
    "plt.plot(np.cumsum(pca0.explained_variance_ratio_))\n",
    "plt.xlabel('number of components')\n",
    "plt.ylabel('cumulative explained variance');"
   ]
  },
  {
   "cell_type": "code",
   "execution_count": null,
   "id": "60155b2b",
   "metadata": {},
   "outputs": [],
   "source": [
    "pca_pos_out = pca.fit_transform(features)\n",
    "pca_pos_out.var(), pca_pos_out.mean()"
   ]
  },
  {
   "cell_type": "code",
   "execution_count": null,
   "id": "690eb19b",
   "metadata": {},
   "outputs": [],
   "source": [
    "pca_pos_out.std(axis=1)"
   ]
  },
  {
   "cell_type": "code",
   "execution_count": null,
   "id": "d26257fc",
   "metadata": {},
   "outputs": [],
   "source": [
    "pca_neg_out = pca.fit_transform(neg_features)\n",
    "pca_neg_out.var(), pca_neg_out.mean()"
   ]
  },
  {
   "cell_type": "code",
   "execution_count": null,
   "id": "e271cfd3",
   "metadata": {},
   "outputs": [],
   "source": [
    "pca_neg_out.std(axis=1)"
   ]
  },
  {
   "cell_type": "code",
   "execution_count": null,
   "id": "0f629c9b",
   "metadata": {},
   "outputs": [],
   "source": [
    "pca.explained_variance_"
   ]
  },
  {
   "cell_type": "code",
   "execution_count": null,
   "id": "1102418b",
   "metadata": {},
   "outputs": [],
   "source": [
    "pca.mean_, pca.explained_variance_ratio_"
   ]
  },
  {
   "cell_type": "code",
   "execution_count": null,
   "id": "87bc261b",
   "metadata": {},
   "outputs": [],
   "source": [
    "plot_scatter(pca_pos_out)"
   ]
  },
  {
   "cell_type": "code",
   "execution_count": null,
   "id": "cc45c443",
   "metadata": {},
   "outputs": [],
   "source": [
    "plot_scatter(pca_neg_out)"
   ]
  },
  {
   "cell_type": "markdown",
   "id": "1ecb707e",
   "metadata": {
    "heading_collapsed": true
   },
   "source": [
    "### TSNE"
   ]
  },
  {
   "cell_type": "code",
   "execution_count": null,
   "id": "9b3b320c",
   "metadata": {
    "hidden": true
   },
   "outputs": [],
   "source": [
    "tsne = TSNE(random_state=0)"
   ]
  },
  {
   "cell_type": "code",
   "execution_count": null,
   "id": "bc32ec4b",
   "metadata": {
    "hidden": true
   },
   "outputs": [],
   "source": [
    "Xt = pca.fit_transform(features)\n",
    "plt.scatter(Xt[:,0], Xt[:,1])"
   ]
  },
  {
   "cell_type": "code",
   "execution_count": null,
   "id": "87891443",
   "metadata": {
    "hidden": true
   },
   "outputs": [],
   "source": [
    "Nt = pca.transform(neg_features)\n",
    "plt.scatter(Nt[:,0], Nt[:,1])"
   ]
  },
  {
   "cell_type": "code",
   "execution_count": null,
   "id": "5fc22282",
   "metadata": {
    "hidden": true
   },
   "outputs": [],
   "source": [
    "pca.explained_variance_ratio_"
   ]
  },
  {
   "cell_type": "code",
   "execution_count": null,
   "id": "62a96f29",
   "metadata": {
    "hidden": true
   },
   "outputs": [],
   "source": [
    "tsne_results = tsne.fit_transform(features)"
   ]
  },
  {
   "cell_type": "code",
   "execution_count": null,
   "id": "e7eb9e02",
   "metadata": {
    "hidden": true
   },
   "outputs": [],
   "source": [
    "plot_scatter(tsne_results)"
   ]
  },
  {
   "cell_type": "markdown",
   "id": "ea43462a",
   "metadata": {},
   "source": [
    "### B"
   ]
  },
  {
   "cell_type": "code",
   "execution_count": null,
   "id": "4d1d1b2e",
   "metadata": {},
   "outputs": [],
   "source": [
    "qg_embs1 = np.load('/data/repnet_embs_qg_1.npy')\n",
    "qg_embs1.shape"
   ]
  },
  {
   "cell_type": "code",
   "execution_count": null,
   "id": "9314eabe",
   "metadata": {},
   "outputs": [],
   "source": [
    "qg_features_1 = qg_embs1[1:10].reshape(-1, 512)\n",
    "qg_features_1.shape"
   ]
  },
  {
   "cell_type": "code",
   "execution_count": null,
   "id": "61e23d6c",
   "metadata": {},
   "outputs": [],
   "source": [
    "qg_tsne_1 = tsne.fit_transform(qg_features_1)"
   ]
  },
  {
   "cell_type": "code",
   "execution_count": null,
   "id": "21990410",
   "metadata": {},
   "outputs": [],
   "source": [
    "plot_scatter(qg_tsne_1)"
   ]
  },
  {
   "cell_type": "markdown",
   "id": "811d966c",
   "metadata": {},
   "source": [
    "## D"
   ]
  },
  {
   "cell_type": "markdown",
   "id": "3bd7ce56",
   "metadata": {},
   "source": [
    "```py\n",
    "    def remover_outlier(self, x_pca, y_pca, x, y, label):\n",
    "        # outlier_index = np.where((x_pca[:, 0:5] < -200) | (x_pca[:, 0:5] > 35))[0]\n",
    "        outlier_x =[]\n",
    "        for i in range(x_pca.shape[1]):\n",
    "            outlier_x.append(self.outlier_detection(x_pca[:, i])[0])\n",
    "        outlier_index = np.unique(np.concatenate(outlier_x))\n",
    "\n",
    "        x_pca = np.delete(x_pca, outlier_index, axis=0)\n",
    "        y_pca = np.delete(y_pca, outlier_index, axis=0)\n",
    "        x = np.delete(x, outlier_index, axis=0)\n",
    "        y = np.delete(y, outlier_index, axis=0)\n",
    "        label = label.drop(index=outlier_index).reset_index(drop=True)\n",
    "        return x_pca, y_pca, x, y, label\n",
    "\n",
    "    def outlier_detection(self, data):\n",
    "        q1, q3 = np.percentile(data, [25, 75])\n",
    "        iqr = q3 - q1\n",
    "        lower_bound = q1 - (iqr * 1.5)\n",
    "        upper_bound = q3 + (iqr * 1.5)\n",
    "        return np.where((data < lower_bound) | (data > upper_bound))\n",
    "```"
   ]
  }
 ],
 "metadata": {
  "hide_input": false,
  "kernelspec": {
   "display_name": "Python 3",
   "language": "python",
   "name": "python3"
  },
  "language_info": {
   "codemirror_mode": {
    "name": "ipython",
    "version": 3
   },
   "file_extension": ".py",
   "mimetype": "text/x-python",
   "name": "python",
   "nbconvert_exporter": "python",
   "pygments_lexer": "ipython3",
   "version": "3.6.9"
  },
  "toc": {
   "base_numbering": 1,
   "nav_menu": {
    "height": "70.9943px",
    "width": "188.991px"
   },
   "number_sections": true,
   "sideBar": false,
   "skip_h1_title": true,
   "title_cell": "",
   "title_sidebar": "Contents",
   "toc_cell": false,
   "toc_position": {
    "height": "233.253px",
    "left": "1370.1px",
    "top": "67.0597px",
    "width": "331.25px"
   },
   "toc_section_display": true,
   "toc_window_display": true
  }
 },
 "nbformat": 4,
 "nbformat_minor": 5
}
