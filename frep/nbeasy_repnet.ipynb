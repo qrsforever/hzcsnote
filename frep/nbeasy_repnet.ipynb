{
 "cells": [
  {
   "cell_type": "code",
   "execution_count": 12,
   "id": "operating-discussion",
   "metadata": {
    "ExecuteTime": {
     "end_time": "2021-07-16T12:50:22.023951Z",
     "start_time": "2021-07-16T12:50:20.994707Z"
    }
   },
   "outputs": [
    {
     "name": "stdout",
     "output_type": "stream",
     "text": [
      "CPython 3.6.9\n",
      "IPython 7.16.1\n",
      "\n",
      "numpy 1.19.4\n",
      "sklearn 0.24.0\n",
      "pandas 1.1.5\n",
      "CPython 3.6.9\n",
      "IPython 7.16.1\n",
      "\n",
      "cv2 4.5.1\n",
      "PIL 6.2.2\n",
      "matplotlib 3.3.3\n",
      "CPython 3.6.9\n",
      "IPython 7.16.1\n",
      "\n",
      "torch 1.8.0.dev20210103+cu101\n",
      "torchvision 0.9.0.dev20210103+cu101\n",
      "torchaudio not installed\n"
     ]
    },
    {
     "data": {
      "text/html": [
       "<style>.container { width:80% !important; }</style>"
      ],
      "text/plain": [
       "<IPython.core.display.HTML object>"
      ]
     },
     "metadata": {},
     "output_type": "display_data"
    }
   ],
   "source": [
    "%reload_ext watermark\n",
    "%reload_ext autoreload\n",
    "%autoreload 2\n",
    "%watermark -v -p numpy,sklearn,pandas\n",
    "%watermark -v -p cv2,PIL,matplotlib\n",
    "%watermark -v -p torch,torchvision,torchaudio\n",
    "%matplotlib inline\n",
    "%config InlineBackend.figure_format='retina'\n",
    "%config IPCompleter.use_jedi = False\n",
    "\n",
    "from IPython.display import display, Markdown, HTML, Javascript\n",
    "display(HTML('<style>.container { width:%d%% !important; }</style>' % 80))\n",
    "\n",
    "import sys, os, io, time, random, math\n",
    "import json, base64, requests\n",
    "import os.path as osp\n",
    "\n",
    "def _IMPORT_(x):\n",
    "    try:\n",
    "        segs = x.split(' ')\n",
    "        g = globals()\n",
    "        if 'github.com' in segs[1]:\n",
    "            uri = segs[1].replace('github.com', 'raw.githubusercontent.com')\n",
    "            mod = uri.split('/')\n",
    "            uri = 'https://' + '/'.join(mod[:-1]) + '/main/' + mod[-1] + '.py'\n",
    "            x = requests.get(uri).text\n",
    "        elif 'gitee.com' in segs[1]:\n",
    "            mod = segs[1].split('/')\n",
    "            uri = 'https://' + '/'.join(mod[:-1]) + '/raw/main/' + mod[-1] + '.py'\n",
    "            x = requests.get(uri).text\n",
    "        elif segs[1][0] == '/':\n",
    "            with open(segs[1] + '.py') as fr:\n",
    "                x = fr.read()\n",
    "        exec(x, g)\n",
    "    except Exception as err:\n",
    "        print(err)\n",
    "\n",
    "def print_progress_bar(x):\n",
    "    print('\\r', end='')\n",
    "    print('Progress: {}%:'.format(x), '%s%s' % ('▋'*(x//2), '.'*((100-x)//2)), end='')\n",
    "    sys.stdout.flush()\n",
    "\n",
    "def img2b64(x):\n",
    "    if isinstance(x, bytes):\n",
    "        return base64.b64encode(x).decode()\n",
    "    elif isinstance(x, str):\n",
    "        with open(x, 'rb') as fr:\n",
    "            return base64.b64encode(fr.read()).decode()\n",
    "    raise\n"
   ]
  },
  {
   "cell_type": "markdown",
   "id": "automotive-algorithm",
   "metadata": {},
   "source": [
    "## 引入工具"
   ]
  },
  {
   "cell_type": "code",
   "execution_count": 206,
   "id": "afraid-toronto",
   "metadata": {
    "ExecuteTime": {
     "end_time": "2021-07-16T17:16:50.742725Z",
     "start_time": "2021-07-16T17:16:50.496793Z"
    }
   },
   "outputs": [],
   "source": [
    "# _IMPORT_('from gitee.com/qrsforever/nb_easy/easy_widget import nbeasy_schema_parse')\n",
    "_IMPORT_('from /data/nb_easy/easy_widget import nbeasy_schema_parse')"
   ]
  },
  {
   "cell_type": "markdown",
   "id": "annoying-console",
   "metadata": {},
   "source": [
    "## 配置界面"
   ]
  },
  {
   "cell_type": "code",
   "execution_count": 208,
   "id": "overall-sender",
   "metadata": {
    "ExecuteTime": {
     "end_time": "2021-07-16T17:19:57.394159Z",
     "start_time": "2021-07-16T17:19:55.611369Z"
    }
   },
   "outputs": [
    {
     "data": {
      "application/vnd.jupyter.widget-view+json": {
       "model_id": "c28548d88ae1411fae4eda3eac980a8e",
       "version_major": 2,
       "version_minor": 0
      },
      "text/plain": [
       "Box(children=(Box(children=(VBox(children=(Tab(children=(VBox(children=(Accordion(children=(VBox(children=(Dro…"
      ]
     },
     "metadata": {},
     "output_type": "display_data"
    }
   ],
   "source": [
    "play_list = [\n",
    "    ('00cf60a8f512-20210715152537.mp4', b'https://frepai.s3.didiyunapi.com/live/00cf60a8f512/20210715/videos/20210715152537.mp4'),\n",
    "    ('00e685ef87b4-20210713153417.mp4', b'https://frepai.s3.didiyunapi.com/live/00e685ef87b4/20210713/videos/20210713153417.mp4')\n",
    "]\n",
    "schema = {\n",
    "    'type': 'page',\n",
    "    'objs': [\n",
    "        {\n",
    "            'type': 'tab',\n",
    "            'objs': [\n",
    "                {\n",
    "                    'name': 'CFG',\n",
    "                    'objs': [\n",
    "                        {\n",
    "                            'type': 'accordion',\n",
    "                            'objs': [\n",
    "                                {\n",
    "                                    'name': 'Video Configuration',\n",
    "                                    'objs': [\n",
    "                                        nbeasy_widget_stringenum('cfg.video', 'Video URL', 0, enums=play_list, width=400),\n",
    "                                        nbeasy_widget_video('_cfg.play_video', 'Play Video', '', format='url', width=720, height=480),\n",
    "                                        {\n",
    "                                            'type': 'H',\n",
    "                                            'objs': [\n",
    "                                                nbeasy_widget_booltrigger('cfg.best_stride_video', 'Save Stride Video', True, trigger=[\n",
    "                                                    nbeasy_widget_bool('cfg.osd_sims', 'OSD Sims', True),\n",
    "                                                ]),\n",
    "                                                nbeasy_widget_bool('cfg.save_video', 'Save Full Video', False),\n",
    "                                            ]\n",
    "                                        },\n",
    "                                    ]\n",
    "                                },\n",
    "                                {\n",
    "                                    'name': 'Score Configuration',\n",
    "                                    'objs': [\n",
    "                                        {\n",
    "                                            'type': 'H',\n",
    "                                            'objs': [\n",
    "                                                nbeasy_widget_bool('cfg.constant_speed', 'Constant Speed', False),\n",
    "                                                nbeasy_widget_bool('cfg.median_filter', 'Median Filter', True),\n",
    "                                                nbeasy_widget_bool('cfg.fully_periodic', 'Fully Periodic', False),\n",
    "                                            ]\n",
    "                                        }\n",
    "                                    ]\n",
    "                                },\n",
    "                                {\n",
    "                                    'name': 'Algo Configuration',\n",
    "                                    'objs': [\n",
    "                                        {\n",
    "                                            'type': 'H',\n",
    "                                            'objs': [\n",
    "                                                nbeasy_widget_int('cfg.batch_size', 'Batch Size', 20),\n",
    "                                                nbeasy_widget_intarray('cfg.strides', 'Strides', [1, 3, 5, 7, 9, 11]),\n",
    "                                            ]\n",
    "                                        }\n",
    "                                    ]\n",
    "                                },\n",
    "                                {\n",
    "                                    'name': 'Optimize Configuration',\n",
    "                                    'objs': [\n",
    "                                        {\n",
    "                                            'type': 'H',\n",
    "                                            'objs': [\n",
    "                                                nbeasy_widget_booltrigger('cfg.rm_still', 'Remove Still', True, trigger=[\n",
    "                                                    nbeasy_widget_float('cfg.area_rate_threshold', 'Area Threshold', 0.003, min_=0.00001, max_=0.001),\n",
    "                                                ]),\n",
    "                                                nbeasy_widget_booltrigger('_cfg.focus_box', 'Focus Box', False, trigger=[\n",
    "                                                    nbeasy_widget_floatarray('cfg.focus_box', 'Rect', [0.0, 0.0, 1.0, 1.0]),\n",
    "                                                ]),\n",
    "                                                nbeasy_widget_booltrigger('_cfg.black_box', 'Black Box', False, trigger=[\n",
    "                                                    nbeasy_widget_floatarray('cfg.black_box', 'Rect', [0, 0, 0, 0]),\n",
    "                                                ]),\n",
    "                                            ]\n",
    "                                        }\n",
    "                                    ]\n",
    "                                }\n",
    "                            ]\n",
    "                        }, # end accordion\n",
    "                    ]\n",
    "                },\n",
    "                {\n",
    "                    'name': 'RUN',\n",
    "                    'objs': [\n",
    "                        \n",
    "                    ]\n",
    "                }\n",
    "            ]\n",
    "        }, # end tab\n",
    "        {\n",
    "            'type': 'jslink',\n",
    "            'objs': [\n",
    "                {\n",
    "                    'source': ['cfg.video', 'value'],\n",
    "                    'target': ['_cfg.play_video', 'value']\n",
    "                }\n",
    "            ] \n",
    "        }, # end jslink\n",
    "    ]\n",
    "}\n",
    "# schema\n",
    "easy = nbeasy_schema_parse(schema);"
   ]
  }
 ],
 "metadata": {
  "hide_input": false,
  "kernelspec": {
   "display_name": "Python 3",
   "language": "python",
   "name": "python3"
  },
  "language_info": {
   "codemirror_mode": {
    "name": "ipython",
    "version": 3
   },
   "file_extension": ".py",
   "mimetype": "text/x-python",
   "name": "python",
   "nbconvert_exporter": "python",
   "pygments_lexer": "ipython3",
   "version": "3.6.9"
  },
  "toc": {
   "base_numbering": 1,
   "nav_menu": {},
   "number_sections": true,
   "sideBar": true,
   "skip_h1_title": true,
   "title_cell": "",
   "title_sidebar": "Contents",
   "toc_cell": false,
   "toc_position": {},
   "toc_section_display": true,
   "toc_window_display": false
  }
 },
 "nbformat": 4,
 "nbformat_minor": 5
}
