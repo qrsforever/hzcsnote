{
 "cells": [
  {
   "cell_type": "markdown",
   "id": "entertaining-destiny",
   "metadata": {},
   "source": [
    "# SRS and FRep 接口"
   ]
  },
  {
   "cell_type": "markdown",
   "id": "voluntary-jacksonville",
   "metadata": {},
   "source": [
    "## 直播推流地址\n",
    "\n",
    "```\n",
    "URL: `rtmp://116.85.5.40:1935/live/00d402530642?vhost=seg.300s`\n",
    "               SRS地址    端口  任意    MAC地址       参数\n",
    "                                |                    |\n",
    "                           (推荐用工厂ID)     (配置保存mp4视频的时长)\n",
    "```"
   ]
  },
  {
   "cell_type": "markdown",
   "id": "looking-roller",
   "metadata": {},
   "source": [
    "## 直播拉流地址(HLS)\n",
    "\n",
    "```\n",
    "URL: `http://116.85.5.40:8080/live/00d402530642.m3u8`\n",
    "              SRS地址     端口  app    MAC地址\n",
    "```"
   ]
  },
  {
   "cell_type": "markdown",
   "id": "opening-baseball",
   "metadata": {
    "ExecuteTime": {
     "end_time": "2021-06-29T09:36:30.030909Z",
     "start_time": "2021-06-29T09:36:29.984491Z"
    }
   },
   "source": [
    "## 视频上传OSS通知信息\n",
    "\n",
    "redis key: `factory:on_dvr`\n",
    "\n",
    "```json\n",
    "{\n",
    "    \"etag\": \"61590abd3fee5b6a346ca61dba2202b8\",   // S3对象唯一码\n",
    "    \"bucket\": \"frepai\", \n",
    "    \"object\": \"live/00e685ef87b4/20210629/videos/20210629171503.mp4\", // 视频存放的Key(位置)\n",
    "    \"size\": 306964,         // 视频的大小(字节)\n",
    "    \"time\": [\n",
    "        1624958135.771467,  // 上传起始时间\n",
    "        1624958135.8189926  // 上传结束时间\n",
    "    ],  \n",
    "    \"app\": \"live\",             // 直播视频app标识(可以是任意其他字符, 推荐使用工厂号)\n",
    "    \"stream\": \"00e685ef87b4\",  // 直播视频livestream标识, 必须为摄像头的mac地址\n",
    "    \"filename\": \"20210629171503.mp4\",  // 视频的文件名\n",
    "    \"duration\": 30                     // 视频的时长(单位s)\n",
    "}\n",
    "```"
   ]
  },
  {
   "cell_type": "code",
   "execution_count": 6,
   "id": "valuable-martin",
   "metadata": {
    "ExecuteTime": {
     "end_time": "2021-06-29T13:36:59.821400Z",
     "start_time": "2021-06-29T13:36:59.817892Z"
    }
   },
   "outputs": [],
   "source": [
    "url = 'https://frepai.s3.didiyunapi.com/live/00e685ef87b4/20210629/videos/20210629191719.mp4'\n",
    "# out = 'https://frepai.s3.didiyunapi.com/live/00e685ef87b4/20210629/outputs/'"
   ]
  },
  {
   "cell_type": "code",
   "execution_count": 3,
   "id": "arbitrary-serbia",
   "metadata": {
    "ExecuteTime": {
     "end_time": "2021-06-29T13:22:54.279586Z",
     "start_time": "2021-06-29T13:22:54.276507Z"
    }
   },
   "outputs": [],
   "source": [
    "import os"
   ]
  },
  {
   "cell_type": "code",
   "execution_count": 17,
   "id": "touched-affiliation",
   "metadata": {
    "ExecuteTime": {
     "end_time": "2021-06-29T14:06:23.719222Z",
     "start_time": "2021-06-29T14:06:23.713274Z"
    }
   },
   "outputs": [
    {
     "data": {
      "text/plain": [
       "('20210629191719.mp4', '/live/00e685ef87b4/20210629')"
      ]
     },
     "execution_count": 17,
     "metadata": {},
     "output_type": "execute_result"
    }
   ],
   "source": [
    "f = os.path.basename(url)\n",
    "d = os.path.dirname(os.path.dirname(url))\n",
    "\n",
    "a = 'https://frepai.s3.didiyunapi.com'\n",
    "f, d[len(a):]"
   ]
  },
  {
   "cell_type": "code",
   "execution_count": 16,
   "id": "published-discussion",
   "metadata": {
    "ExecuteTime": {
     "end_time": "2021-06-29T14:06:05.898228Z",
     "start_time": "2021-06-29T14:06:05.893821Z"
    }
   },
   "outputs": [
    {
     "data": {
      "text/plain": [
       "'https://frepai.s3.didiyunapi.com/live/00e685ef87b4/20210629'"
      ]
     },
     "execution_count": 16,
     "metadata": {},
     "output_type": "execute_result"
    }
   ],
   "source": [
    "d"
   ]
  },
  {
   "cell_type": "code",
   "execution_count": 14,
   "id": "continental-debate",
   "metadata": {
    "ExecuteTime": {
     "end_time": "2021-06-29T13:44:19.451901Z",
     "start_time": "2021-06-29T13:44:19.442119Z"
    }
   },
   "outputs": [
    {
     "data": {
      "text/plain": [
       "'20210629'"
      ]
     },
     "execution_count": 14,
     "metadata": {},
     "output_type": "execute_result"
    }
   ],
   "source": [
    "f[:8]"
   ]
  },
  {
   "cell_type": "code",
   "execution_count": 13,
   "id": "desirable-studio",
   "metadata": {
    "ExecuteTime": {
     "end_time": "2021-06-29T13:38:13.348830Z",
     "start_time": "2021-06-29T13:38:13.338654Z"
    }
   },
   "outputs": [
    {
     "data": {
      "text/plain": [
       "'https://frepai.s3.didiyunapi.com/live/00e685ef87b4/20210629/outputs/20210629191719/tf_renet.json'"
      ]
     },
     "execution_count": 13,
     "metadata": {},
     "output_type": "execute_result"
    }
   ],
   "source": [
    "os.path.join(d, 'outputs', f.split('.')[0], 'tf_renet.json')"
   ]
  }
 ],
 "metadata": {
  "hide_input": false,
  "kernelspec": {
   "display_name": "Python 3",
   "language": "python",
   "name": "python3"
  },
  "language_info": {
   "codemirror_mode": {
    "name": "ipython",
    "version": 3
   },
   "file_extension": ".py",
   "mimetype": "text/x-python",
   "name": "python",
   "nbconvert_exporter": "python",
   "pygments_lexer": "ipython3",
   "version": "3.6.9"
  },
  "toc": {
   "base_numbering": 1,
   "nav_menu": {},
   "number_sections": true,
   "sideBar": true,
   "skip_h1_title": true,
   "title_cell": "",
   "title_sidebar": "Contents",
   "toc_cell": false,
   "toc_position": {},
   "toc_section_display": true,
   "toc_window_display": false
  }
 },
 "nbformat": 4,
 "nbformat_minor": 5
}
