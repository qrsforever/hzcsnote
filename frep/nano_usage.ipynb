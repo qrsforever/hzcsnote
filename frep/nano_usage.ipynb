{
 "cells": [
  {
   "cell_type": "markdown",
   "id": "81b5fa46",
   "metadata": {
    "toc": true
   },
   "source": [
    "<h1>Contents<span class=\"tocSkip\"></span></h1>\n",
    "<div class=\"toc\"><ul class=\"toc-item\"><li><span><a href=\"#启动\" data-toc-modified-id=\"启动-1\"><span class=\"toc-item-num\">1&nbsp;&nbsp;</span>启动</a></span></li><li><span><a href=\"#查看ip地址\" data-toc-modified-id=\"查看ip地址-2\"><span class=\"toc-item-num\">2&nbsp;&nbsp;</span>查看ip地址</a></span></li><li><span><a href=\"#修改配置\" data-toc-modified-id=\"修改配置-3\"><span class=\"toc-item-num\">3&nbsp;&nbsp;</span>修改配置</a></span></li><li><span><a href=\"#重启服务\" data-toc-modified-id=\"重启服务-4\"><span class=\"toc-item-num\">4&nbsp;&nbsp;</span>重启服务</a></span></li><li><span><a href=\"#流媒体预览页面\" data-toc-modified-id=\"流媒体预览页面-5\"><span class=\"toc-item-num\">5&nbsp;&nbsp;</span>流媒体预览页面</a></span></li></ul></div>"
   ]
  },
  {
   "cell_type": "markdown",
   "id": "eba2cbb2",
   "metadata": {},
   "source": [
    "##  启动"
   ]
  },
  {
   "cell_type": "markdown",
   "id": "0bc56e16",
   "metadata": {},
   "source": [
    "设备登录用户名: nano\n",
    "\n",
    "设备登录密码: 1"
   ]
  },
  {
   "cell_type": "markdown",
   "id": "fc063222",
   "metadata": {},
   "source": [
    "## 查看ip地址"
   ]
  },
  {
   "cell_type": "markdown",
   "id": "da999681",
   "metadata": {},
   "source": [
    "终端输入命令: `ip address`"
   ]
  },
  {
   "cell_type": "markdown",
   "id": "c66aae13",
   "metadata": {},
   "source": [
    "## 修改配置"
   ]
  },
  {
   "cell_type": "markdown",
   "id": "f0dc623e",
   "metadata": {},
   "source": [
    "vim /jetrep/runtime/jetrep.json\n",
    "\n",
    "```json\n",
    "{\n",
    "    \"JetRepApp\": {\n",
    "        \"log_level\": \"DEBUG\",\n",
    "        \"log_datefmt\": \"%Y-%m-%d %H:%M:%S\",\n",
    "        \"log_format\": \"%(thread)d %(asctime)s %(levelname)s %(message)s\",\n",
    "        \"log_file\": \"/tmp/jetrep.log\",\n",
    "        \"rpc_ip\": \"127.0.0.1\",\n",
    "        \"rpc_port\": 8181\n",
    "    },\n",
    "    \"SoftwareUpgrade\": {\n",
    "        \"server_url\": \"http://172.16.0.21/\",\n",
    "        \"conn_timeout\": 5,\n",
    "        \"read_timeout\": 5\n",
    "    },\n",
    "    \"PSContext\": {\n",
    "        \"focus_box\": [                   // 有效区域\n",
    "            0.1,\n",
    "            0.1,\n",
    "            0.9,\n",
    "            0.9\n",
    "        ],\n",
    "        \"black_box\": [\n",
    "            0.0,\n",
    "            0.1,\n",
    "            0.9,\n",
    "            0.1\n",
    "        ],\n",
    "        \"area_rate\": 0.002,             // 面积率阀值\n",
    "        \"strides\": [                    // 步长(支持一个值)\n",
    "            3\n",
    "        ],\n",
    "        \"video_clips_path\": \"/srs/\",\n",
    "        \"synth_video\": {\n",
    "            \"rtmp\": {\n",
    "                \"server\": \"0.0.0.0\",\n",
    "                \"port\": 1935,\n",
    "                \"duration\": 300\n",
    "            }\n",
    "        },\n",
    "        \"max_duration\": 10,\n",
    "        \"embedding_filter\": {\n",
    "            \"enable\": false,\n",
    "            \"url\": \"https://frepai.s3.didiyunapi.com/datasets/weights/d0854f5eb6ea.pkl\",\n",
    "            \"alpha\":  0.01,\n",
    "            \"beta\": 0.85\n",
    "        },\n",
    "        \"reset_count\": true\n",
    "    }\n",
    "}\n",
    "```"
   ]
  },
  {
   "cell_type": "markdown",
   "id": "1f9ec6f4",
   "metadata": {},
   "source": [
    "## 重启服务"
   ]
  },
  {
   "cell_type": "markdown",
   "id": "ccb86c99",
   "metadata": {},
   "source": [
    "执行命令: `sudo systemctl restart jetrep.service`\n",
    "\n",
    "SUDO密码: 1"
   ]
  },
  {
   "cell_type": "markdown",
   "id": "b75a3286",
   "metadata": {},
   "source": [
    "## 流媒体预览页面"
   ]
  },
  {
   "cell_type": "markdown",
   "id": "ec9ee5f2",
   "metadata": {},
   "source": [
    "浏览器访问: `http://<ip>//apis/srs/streams`\n",
    "\n",
    "IP: 从第二步获取\n",
    "\n",
    "\n",
    "结果页面输出: \n",
    "\n",
    "```\n",
    "Streams\n",
    "\n",
    "http://IP:8080/players/rtc_player.html?vhost=jet300&app=pre&stream=48b02d5bcfa5&autostart=true  (实时视频)\n",
    " \n",
    "http://IP:8080/players/rtc_player.html?vhost=jet300&app=post&stream=48b02d5bcfa5&autostart=true (计数视频)\n",
    "\n",
    "```"
   ]
  },
  {
   "cell_type": "code",
   "execution_count": null,
   "id": "34f6ea3c",
   "metadata": {},
   "outputs": [],
   "source": []
  }
 ],
 "metadata": {
  "hide_input": false,
  "kernelspec": {
   "display_name": "Python 3",
   "language": "python",
   "name": "python3"
  },
  "language_info": {
   "codemirror_mode": {
    "name": "ipython",
    "version": 3
   },
   "file_extension": ".py",
   "mimetype": "text/x-python",
   "name": "python",
   "nbconvert_exporter": "python",
   "pygments_lexer": "ipython3",
   "version": "3.6.9"
  },
  "toc": {
   "base_numbering": 1,
   "nav_menu": {},
   "number_sections": true,
   "sideBar": false,
   "skip_h1_title": true,
   "title_cell": "Contents",
   "title_sidebar": "Contents",
   "toc_cell": true,
   "toc_position": {
    "height": "47.7778px",
    "left": "1159.76px",
    "top": "137.059px",
    "width": "159.115px"
   },
   "toc_section_display": false,
   "toc_window_display": true
  }
 },
 "nbformat": 4,
 "nbformat_minor": 5
}
