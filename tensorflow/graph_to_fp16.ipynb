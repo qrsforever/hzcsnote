{
 "cells": [
  {
   "cell_type": "code",
   "execution_count": 1,
   "id": "699154d1",
   "metadata": {
    "ExecuteTime": {
     "end_time": "2021-10-08T11:56:24.807446Z",
     "start_time": "2021-10-08T11:56:14.592583Z"
    }
   },
   "outputs": [
    {
     "name": "stdout",
     "output_type": "stream",
     "text": [
      "numpy 1.19.5\n",
      "sklearn 0.0\n",
      "pandas 1.1.5\n",
      "cv2 4.5.3\n",
      "PIL 8.3.1\n",
      "matplotlib 3.3.4\n",
      "torch 1.8.1+cu101\n",
      "torchvision 0.9.1+cu101\n",
      "torchaudio not installed\n",
      "tensorflow 2.6.0\n",
      "tensorboard 2.6.0\n",
      "tflite 2.4.0\n",
      "onnx 1.10.1\n",
      "onnxruntime 1.8.1\n",
      "tensorrt not installed\n",
      "tvm not installed\n"
     ]
    },
    {
     "data": {
      "text/html": [
       "<style>.container { width:95% !important; }</style>"
      ],
      "text/plain": [
       "<IPython.core.display.HTML object>"
      ]
     },
     "metadata": {},
     "output_type": "display_data"
    }
   ],
   "source": [
    "%reload_ext watermark\n",
    "%reload_ext autoreload\n",
    "%autoreload 2\n",
    "%watermark -p numpy,sklearn,pandas\n",
    "%watermark -p cv2,PIL,matplotlib\n",
    "%watermark -p torch,torchvision,torchaudio\n",
    "%watermark -p tensorflow,tensorboard,tflite\n",
    "%watermark -p onnx,onnxruntime,tensorrt,tvm\n",
    "%matplotlib inline\n",
    "%config InlineBackend.figure_format='retina'\n",
    "%config IPCompleter.use_jedi = False\n",
    "\n",
    "from IPython.display import display, Markdown, HTML, Image, Javascript\n",
    "from IPython.core.magic import register_line_cell_magic, register_line_magic, register_cell_magic\n",
    "display(HTML('<style>.container { width:%d%% !important; }</style>' % 95))\n",
    "\n",
    "import sys, os, io, time, random, math\n",
    "import json, base64, requests, shutil\n",
    "import os.path as osp\n",
    "import numpy as np\n",
    "\n",
    "def _IMPORT(x):\n",
    "    try:\n",
    "        x = x.strip()\n",
    "        if x.startswith('https://'):\n",
    "            x = x[8:]\n",
    "        if not x.endswith('.py'):\n",
    "            x = x + '.py'\n",
    "        if x[0] == '/':\n",
    "            with open(x) as fr:\n",
    "                x = fr.read()\n",
    "        else:\n",
    "            x = x.replace('blob/main/', '').replace('blob/master/', '')\n",
    "            if x.startswith('raw.githubusercontent.com'):\n",
    "                uri = 'https://' + x\n",
    "                x = requests.get(uri)\n",
    "                if x.status_code == 200:\n",
    "                    x = x.text\n",
    "            elif x.startswith('github.com'):\n",
    "                uri = x.replace('github.com', 'raw.githubusercontent.com')\n",
    "                mod = uri.split('/')\n",
    "                for s in ['main', 'master']:\n",
    "                    uri = 'https://' + '/'.join(mod[:3]) + s + '/'.join(mod[-3:])\n",
    "                    x = requests.get(uri)\n",
    "                    if x.status_code == 200:\n",
    "                        x = x.text\n",
    "                        break\n",
    "            elif x.startswith('gitee.com'):\n",
    "                mod = x.split('/')\n",
    "                for s in ['/raw/main/', '/raw/master/']:\n",
    "                    uri = 'https://' + '/'.join(mod[:3]) + s + '/'.join(mod[3:])\n",
    "                    x = requests.get(uri)\n",
    "                    if x.status_code == 200:\n",
    "                        x = x.text\n",
    "                        break\n",
    "        exec(x, globals())\n",
    "    except:\n",
    "        pass\n",
    "\n",
    "def _DIR(x, dumps=True, ret=True):\n",
    "    attrs = sorted([y for y in dir(x) if not y.startswith('_')])\n",
    "    result = '%s: %s' % (str(type(x))[8:-2], json.dumps(attrs) if dumps else attrs)\n",
    "    if ret:\n",
    "        return result\n",
    "    print(result)"
   ]
  },
  {
   "cell_type": "code",
   "execution_count": 2,
   "id": "0bc7543b",
   "metadata": {
    "ExecuteTime": {
     "end_time": "2021-10-08T11:56:24.937209Z",
     "start_time": "2021-10-08T11:56:24.816100Z"
    }
   },
   "outputs": [],
   "source": [
    "import tensorflow as tf\n",
    "from tensorflow.core.framework import types_pb2, graph_pb2, attr_value_pb2\n",
    "from tensorflow.python.framework.convert_to_constants import convert_variables_to_constants_v2"
   ]
  },
  {
   "cell_type": "code",
   "execution_count": 3,
   "id": "df1f43b2",
   "metadata": {
    "ExecuteTime": {
     "end_time": "2021-10-08T11:56:25.067111Z",
     "start_time": "2021-10-08T11:56:24.945297Z"
    }
   },
   "outputs": [],
   "source": [
    "MODEL_PATH = '/data/nb_data/saved_models'"
   ]
  },
  {
   "cell_type": "markdown",
   "id": "20510820",
   "metadata": {},
   "source": [
    "## Load Model Graph"
   ]
  },
  {
   "cell_type": "markdown",
   "id": "e51c1209",
   "metadata": {
    "heading_collapsed": true
   },
   "source": [
    "### Using Saved Models"
   ]
  },
  {
   "cell_type": "code",
   "execution_count": 4,
   "id": "9056e6ce",
   "metadata": {
    "ExecuteTime": {
     "end_time": "2021-10-08T11:56:51.426313Z",
     "start_time": "2021-10-08T11:56:25.069387Z"
    },
    "hidden": true
   },
   "outputs": [
    {
     "data": {
      "text/plain": [
       "'tensorflow.python.saved_model.load.Loader._recreate_base_user_object.<locals>._UserObject: [\"base_model\", \"call_and_return_all_conditional_losses\", \"conv_3x3_layer\", \"dropout_layer\", \"fc_layers\", \"graph_debug_info\", \"input_projection\", \"input_projection2\", \"keras_api\", \"pos_encoding\", \"pos_encoding2\", \"regularization_losses\", \"signatures\", \"temporal_bn_layers\", \"temporal_conv_layers\", \"tensorflow_git_version\", \"tensorflow_version\", \"trainable_variables\", \"transformer_layers\", \"transformer_layers2\", \"variables\", \"within_period_fc_layers\"]'"
      ]
     },
     "execution_count": 4,
     "metadata": {},
     "output_type": "execute_result"
    }
   ],
   "source": [
    "model_loaded = tf.saved_model.load(MODEL_PATH, tags=['serve']) # TODO attr not found value\n",
    "_DIR(model_loaded)"
   ]
  },
  {
   "cell_type": "markdown",
   "id": "66305bec",
   "metadata": {
    "hidden": true
   },
   "source": [
    "#### ConcreteFunction"
   ]
  },
  {
   "cell_type": "code",
   "execution_count": 5,
   "id": "95eb7ead",
   "metadata": {
    "ExecuteTime": {
     "end_time": "2021-10-08T11:56:51.547352Z",
     "start_time": "2021-10-08T11:56:51.428606Z"
    },
    "hidden": true
   },
   "outputs": [
    {
     "data": {
      "text/plain": [
       "('tensorflow.python.saved_model.signature_serialization._SignatureMap: [\"get\", \"items\", \"keys\", \"values\"]',\n",
       " '------------------------------------------------------------------------------------------',\n",
       " KeysView(_SignatureMap({'serving_default': <ConcreteFunction signature_wrapper(*, input_1) at 0x7FEF4DC3E828>})))"
      ]
     },
     "execution_count": 5,
     "metadata": {},
     "output_type": "execute_result"
    }
   ],
   "source": [
    "signatures = model_loaded.signatures\n",
    "_DIR(signatures), '-'*90, signatures.keys()"
   ]
  },
  {
   "cell_type": "code",
   "execution_count": 6,
   "id": "fe8e807b",
   "metadata": {
    "ExecuteTime": {
     "end_time": "2021-10-08T11:56:51.675096Z",
     "start_time": "2021-10-08T11:56:51.551315Z"
    },
    "hidden": true
   },
   "outputs": [
    {
     "data": {
      "text/plain": [
       "('tensorflow.python.saved_model.load._WrapperFunction: [\"add_gradient_functions_to_graph\", \"add_to_graph\", \"captured_inputs\", \"function_def\", \"graph\", \"inputs\", \"name\", \"output_dtypes\", \"output_shapes\", \"outputs\", \"pretty_printed_signature\", \"structured_input_signature\", \"structured_outputs\", \"trainable_variables\", \"variables\"]',\n",
       " '------------------------------------------------------------------------------------------',\n",
       " b'__inference_signature_wrapper_2710')"
      ]
     },
     "execution_count": 6,
     "metadata": {},
     "output_type": "execute_result"
    }
   ],
   "source": [
    "frozen_func = signatures['serving_default']\n",
    "_DIR(frozen_func), '-'*90, frozen_func.name"
   ]
  },
  {
   "cell_type": "code",
   "execution_count": 7,
   "id": "9de710c5",
   "metadata": {
    "ExecuteTime": {
     "end_time": "2021-10-08T11:56:51.876047Z",
     "start_time": "2021-10-08T11:56:51.695342Z"
    },
    "hidden": true
   },
   "outputs": [
    {
     "data": {
      "text/plain": [
       "(227, 2)"
      ]
     },
     "execution_count": 7,
     "metadata": {},
     "output_type": "execute_result"
    }
   ],
   "source": [
    "len(frozen_func.inputs), len(frozen_func.outputs)"
   ]
  },
  {
   "cell_type": "code",
   "execution_count": 8,
   "id": "7fd8310a",
   "metadata": {
    "ExecuteTime": {
     "end_time": "2021-10-08T11:57:01.762544Z",
     "start_time": "2021-10-08T11:56:51.884239Z"
    },
    "hidden": true
   },
   "outputs": [],
   "source": [
    "frozen_func = convert_variables_to_constants_v2(frozen_func, lower_control_flow=False, aggressive_inlining=True)"
   ]
  },
  {
   "cell_type": "code",
   "execution_count": 9,
   "id": "3e442efe",
   "metadata": {
    "ExecuteTime": {
     "end_time": "2021-10-08T11:57:01.891455Z",
     "start_time": "2021-10-08T11:57:01.765526Z"
    },
    "hidden": true
   },
   "outputs": [
    {
     "data": {
      "text/plain": [
       "(1, 2)"
      ]
     },
     "execution_count": 9,
     "metadata": {},
     "output_type": "execute_result"
    }
   ],
   "source": [
    "len(frozen_func.inputs), len(frozen_func.outputs)"
   ]
  },
  {
   "cell_type": "code",
   "execution_count": 10,
   "id": "e72f223b",
   "metadata": {
    "ExecuteTime": {
     "end_time": "2021-10-08T11:57:02.009455Z",
     "start_time": "2021-10-08T11:57:01.894233Z"
    },
    "hidden": true
   },
   "outputs": [
    {
     "data": {
      "text/plain": [
       "([<tf.Tensor 'input_1:0' shape=(None, 64, 112, 112, 3) dtype=float32>],\n",
       " '------------------------------------------------------------',\n",
       " [<tf.Tensor 'Identity:0' shape=(None, None, 32) dtype=float32>,\n",
       "  <tf.Tensor 'Identity_1:0' shape=(None, None, 1) dtype=float32>])"
      ]
     },
     "execution_count": 10,
     "metadata": {},
     "output_type": "execute_result"
    }
   ],
   "source": [
    "frozen_func.inputs, '-'*60, frozen_func.outputs"
   ]
  },
  {
   "cell_type": "markdown",
   "id": "b9298081",
   "metadata": {
    "heading_collapsed": true,
    "hidden": true
   },
   "source": [
    "#### FunctionDef & OpDef "
   ]
  },
  {
   "cell_type": "code",
   "execution_count": 11,
   "id": "9b146ce9",
   "metadata": {
    "ExecuteTime": {
     "end_time": "2021-10-08T11:57:02.132467Z",
     "start_time": "2021-10-08T11:57:02.015278Z"
    },
    "hidden": true
   },
   "outputs": [
    {
     "data": {
      "text/plain": [
       "('tensorflow.core.framework.function_pb2.FunctionDef: [\"ArgAttrEntry\", \"ArgAttrs\", \"AttrEntry\", \"ByteSize\", \"Clear\", \"ClearExtension\", \"ClearField\", \"ControlRetEntry\", \"CopyFrom\", \"DESCRIPTOR\", \"DiscardUnknownFields\", \"Extensions\", \"FindInitializationErrors\", \"FromString\", \"HasExtension\", \"HasField\", \"IsInitialized\", \"ListFields\", \"MergeFrom\", \"MergeFromString\", \"ParseFromString\", \"RegisterExtension\", \"ResourceArgUniqueIdEntry\", \"RetEntry\", \"SerializePartialToString\", \"SerializeToString\", \"SetInParent\", \"UnknownFields\", \"WhichOneof\", \"arg_attr\", \"attr\", \"control_ret\", \"node_def\", \"resource_arg_unique_id\", \"ret\", \"signature\"]',\n",
       " '------------------------------------------------------------------------------------------',\n",
       " 'tensorflow.core.framework.op_def_pb2.OpDef: [\"ArgDef\", \"AttrDef\", \"ByteSize\", \"Clear\", \"ClearExtension\", \"ClearField\", \"CopyFrom\", \"DESCRIPTOR\", \"DiscardUnknownFields\", \"Extensions\", \"FindInitializationErrors\", \"FromString\", \"HasExtension\", \"HasField\", \"IsInitialized\", \"ListFields\", \"MergeFrom\", \"MergeFromString\", \"ParseFromString\", \"RegisterExtension\", \"SerializePartialToString\", \"SerializeToString\", \"SetInParent\", \"UnknownFields\", \"WhichOneof\", \"allows_uninitialized_input\", \"attr\", \"control_output\", \"deprecation\", \"description\", \"input_arg\", \"is_aggregate\", \"is_commutative\", \"is_distributed_communication\", \"is_stateful\", \"name\", \"output_arg\", \"summary\"]',\n",
       " '------------------------------------------------------------------------------------------',\n",
       " 'google.protobuf.pyext._message.RepeatedCompositeContainer: [\"MergeFrom\", \"add\", \"append\", \"extend\", \"insert\", \"pop\", \"remove\", \"reverse\", \"sort\"]')"
      ]
     },
     "execution_count": 11,
     "metadata": {},
     "output_type": "execute_result"
    }
   ],
   "source": [
    "_DIR(frozen_func.function_def), '-'*90, _DIR(frozen_func.function_def.signature), '-'*90, _DIR(frozen_func.function_def.node_def)"
   ]
  },
  {
   "cell_type": "code",
   "execution_count": 12,
   "id": "a28dfa6b",
   "metadata": {
    "ExecuteTime": {
     "end_time": "2021-10-08T11:57:02.252706Z",
     "start_time": "2021-10-08T11:57:02.134860Z"
    },
    "hidden": true
   },
   "outputs": [
    {
     "data": {
      "text/plain": [
       "({}, '__inference_pruned_35300')"
      ]
     },
     "execution_count": 12,
     "metadata": {},
     "output_type": "execute_result"
    }
   ],
   "source": [
    "frozen_func.function_def.attr, frozen_func.function_def.signature.name"
   ]
  },
  {
   "cell_type": "markdown",
   "id": "4977d352",
   "metadata": {
    "ExecuteTime": {
     "end_time": "2021-10-08T10:19:01.247579Z",
     "start_time": "2021-10-08T10:19:00.452799Z"
    },
    "heading_collapsed": true,
    "hidden": true
   },
   "source": [
    "#### FuncGraph"
   ]
  },
  {
   "cell_type": "code",
   "execution_count": 13,
   "id": "ae3e43a8",
   "metadata": {
    "ExecuteTime": {
     "end_time": "2021-10-08T11:57:02.369457Z",
     "start_time": "2021-10-08T11:57:02.255038Z"
    },
    "hidden": true
   },
   "outputs": [
    {
     "data": {
      "text/plain": [
       "'tensorflow.python.framework.func_graph.FuncGraph: [\"add_capture\", \"add_to_collection\", \"add_to_collections\", \"as_default\", \"as_graph_def\", \"as_graph_element\", \"building_function\", \"capture\", \"capture_by_value\", \"capture_call_time_value\", \"capture_distributed_variable\", \"capture_eager_tensor\", \"captured\", \"captures\", \"clear_captures\", \"clear_collection\", \"collections\", \"colocate_with\", \"container\", \"control_captures\", \"control_dependencies\", \"control_outputs\", \"create_op\", \"deferred_external_captures\", \"deferred_internal_captures\", \"device\", \"external_captures\", \"finalize\", \"finalized\", \"get_all_collection_keys\", \"get_collection\", \"get_collection_ref\", \"get_name_scope\", \"get_operation_by_name\", \"get_operations\", \"get_tensor_by_name\", \"gradient_override_map\", \"graph_def_versions\", \"inputs\", \"internal_captures\", \"is_control_flow_graph\", \"is_feedable\", \"is_fetchable\", \"mark_as_unsaveable\", \"name\", \"name_scope\", \"outer_graph\", \"output_shapes\", \"output_types\", \"outputs\", \"pop_capture\", \"prevent_feeding\", \"prevent_fetching\", \"replace_capture\", \"reset_captures\", \"saveable\", \"saving_errors\", \"seed\", \"structured_input_signature\", \"structured_outputs\", \"switch_to_thread_local\", \"trainable_variables\", \"unique_name\", \"variable_captures\", \"variables\", \"version\", \"watch_variable\"]'"
      ]
     },
     "execution_count": 13,
     "metadata": {},
     "output_type": "execute_result"
    }
   ],
   "source": [
    "_DIR(frozen_func.graph)"
   ]
  },
  {
   "cell_type": "code",
   "execution_count": 14,
   "id": "18785d73",
   "metadata": {
    "ExecuteTime": {
     "end_time": "2021-10-08T11:57:02.499233Z",
     "start_time": "2021-10-08T11:57:02.371688Z"
    },
    "hidden": true
   },
   "outputs": [
    {
     "data": {
      "text/plain": [
       "([<tf.Tensor 'input_1:0' shape=(None, 64, 112, 112, 3) dtype=float32>],\n",
       " '------------------------------------------------------------',\n",
       " [<tf.Tensor 'Identity:0' shape=(None, None, 32) dtype=float32>,\n",
       "  <tf.Tensor 'Identity_1:0' shape=(None, None, 1) dtype=float32>])"
      ]
     },
     "execution_count": 14,
     "metadata": {},
     "output_type": "execute_result"
    }
   ],
   "source": [
    "frozen_func.graph.inputs, '-'*60, frozen_func.graph.outputs"
   ]
  },
  {
   "cell_type": "code",
   "execution_count": 15,
   "id": "9c387ac0",
   "metadata": {
    "ExecuteTime": {
     "end_time": "2021-10-08T11:57:02.626325Z",
     "start_time": "2021-10-08T11:57:02.507083Z"
    },
    "hidden": true
   },
   "outputs": [
    {
     "data": {
      "text/plain": [
       "('list: [\"append\", \"clear\", \"copy\", \"count\", \"extend\", \"index\", \"insert\", \"pop\", \"remove\", \"reverse\", \"sort\"]',\n",
       " '------------------------------------------------------------',\n",
       " 'tensorflow.python.framework.ops.Operation: [\"colocation_groups\", \"control_inputs\", \"device\", \"get_attr\", \"graph\", \"inputs\", \"name\", \"node_def\", \"op_def\", \"outputs\", \"run\", \"traceback\", \"type\", \"values\"]')"
      ]
     },
     "execution_count": 15,
     "metadata": {},
     "output_type": "execute_result"
    }
   ],
   "source": [
    "operations = frozen_func.graph.get_operations()\n",
    "_DIR(operations), '-'*60, _DIR(operations[0])"
   ]
  },
  {
   "cell_type": "code",
   "execution_count": 16,
   "id": "27c082f5",
   "metadata": {
    "ExecuteTime": {
     "end_time": "2021-10-08T11:57:02.774921Z",
     "start_time": "2021-10-08T11:57:02.638056Z"
    },
    "hidden": true,
    "scrolled": false
   },
   "outputs": [
    {
     "name": "stdout",
     "output_type": "stream",
     "text": [
      "inputs: () outputs: [<tf.Tensor 'input_1:0' shape=(None, 64, 112, 112, 3) dtype=float32>] type: Placeholder values: <bound method Operation.values of <tf.Operation 'input_1' type=Placeholder>>\n",
      "--------------------------------------------------------------------------------\n",
      "name: \"input_1\"\n",
      "op: \"Placeholder\"\n",
      "attr {\n",
      "  key: \"dtype\"\n",
      "  value {\n",
      "    type: DT_FLOAT\n",
      "  }\n",
      "}\n",
      "attr {\n",
      "  key: \"shape\"\n",
      "  value {\n",
      "    shape {\n",
      "      dim {\n",
      "        size: -1\n",
      "      }\n",
      "      dim {\n",
      "        size: 64\n",
      "      }\n",
      "      dim {\n",
      "        size: 112\n",
      "      }\n",
      "      dim {\n",
      "        size: 112\n",
      "      }\n",
      "      dim {\n",
      "        size: 3\n",
      "      }\n",
      "    }\n",
      "  }\n",
      "}\n",
      "\n",
      "++++++++++++++++++++++++++++++++++++++++++++++++++++++++++++++++++++++++++++++++\n",
      "inputs: () outputs: [<tf.Tensor 'StatefulPartitionedCall/resnet_period_estimator_29/mul_1/x:0' shape=() dtype=float32>] type: Const values: <bound method Operation.values of <tf.Operation 'StatefulPartitionedCall/resnet_period_estimator_29/mul_1/x' type=Const>>\n",
      "--------------------------------------------------------------------------------\n",
      "name: \"StatefulPartitionedCall/resnet_period_estimator_29/mul_1/x\"\n",
      "op: \"Const\"\n",
      "attr {\n",
      "  key: \"dtype\"\n",
      "  value {\n",
      "    type: DT_FLOAT\n",
      "  }\n",
      "}\n",
      "attr {\n",
      "  key: \"value\"\n",
      "  value {\n",
      "    tensor {\n",
      "      dtype: DT_FLOAT\n",
      "      tensor_shape {\n",
      "      }\n",
      "      float_val: -1.0\n",
      "    }\n",
      "  }\n",
      "}\n",
      "\n",
      "++++++++++++++++++++++++++++++++++++++++++++++++++++++++++++++++++++++++++++++++\n",
      "********************************************************************************\n",
      "inputs: (<tf.Tensor 'StatefulPartitionedCall/Identity_1:0' shape=(None, None, 1) dtype=float32>,) outputs: [<tf.Tensor 'Func/StatefulPartitionedCall/output/_228:0' shape=(None, None, 1) dtype=float32>] type: Identity values: <bound method Operation.values of <tf.Operation 'Func/StatefulPartitionedCall/output/_228' type=Identity>>\n",
      "--------------------------------------------------------------------------------\n",
      "name: \"Func/StatefulPartitionedCall/output/_228\"\n",
      "op: \"Identity\"\n",
      "input: \"StatefulPartitionedCall/Identity_1\"\n",
      "attr {\n",
      "  key: \"T\"\n",
      "  value {\n",
      "    type: DT_FLOAT\n",
      "  }\n",
      "}\n",
      "\n",
      "++++++++++++++++++++++++++++++++++++++++++++++++++++++++++++++++++++++++++++++++\n",
      "inputs: (<tf.Tensor 'Func/StatefulPartitionedCall/output/_228:0' shape=(None, None, 1) dtype=float32>,) outputs: [<tf.Tensor 'Identity_1:0' shape=(None, None, 1) dtype=float32>] type: Identity values: <bound method Operation.values of <tf.Operation 'Identity_1' type=Identity>>\n",
      "--------------------------------------------------------------------------------\n",
      "name: \"Identity_1\"\n",
      "op: \"Identity\"\n",
      "input: \"Func/StatefulPartitionedCall/output/_228\"\n",
      "input: \"^NoOp\"\n",
      "attr {\n",
      "  key: \"T\"\n",
      "  value {\n",
      "    type: DT_FLOAT\n",
      "  }\n",
      "}\n",
      "\n",
      "++++++++++++++++++++++++++++++++++++++++++++++++++++++++++++++++++++++++++++++++\n"
     ]
    }
   ],
   "source": [
    "for i, op in enumerate(operations[:2] + operations[-2:]):\n",
    "    if i == 2:\n",
    "        print('*'*80)\n",
    "    print('inputs:', op.inputs, 'outputs:', op.outputs, 'type:', op.type, 'values:', op.values)\n",
    "    print('-'*80)\n",
    "    print(op)\n",
    "    print('+'*80)"
   ]
  },
  {
   "cell_type": "markdown",
   "id": "98dfb945",
   "metadata": {
    "heading_collapsed": true
   },
   "source": [
    "### Using Frozen pb"
   ]
  },
  {
   "cell_type": "code",
   "execution_count": 17,
   "id": "fe9a42dd",
   "metadata": {
    "ExecuteTime": {
     "end_time": "2021-10-08T11:57:04.510517Z",
     "start_time": "2021-10-08T11:57:02.780273Z"
    },
    "hidden": true
   },
   "outputs": [],
   "source": [
    "tf.compat.v1.reset_default_graph()\n",
    "with tf.Graph().as_default() as frozen_pb_graph:\n",
    "    graph_def = tf.compat.v1.GraphDef()\n",
    "    with open(f'{MODEL_PATH}/frozen_graph.pb', \"rb\") as f:\n",
    "        graph_def.ParseFromString(f.read())\n",
    "    tf.import_graph_def(graph_def)"
   ]
  },
  {
   "cell_type": "code",
   "execution_count": 18,
   "id": "b0af38e1",
   "metadata": {
    "ExecuteTime": {
     "end_time": "2021-10-08T11:59:25.408599Z",
     "start_time": "2021-10-08T11:57:04.512827Z"
    },
    "hidden": true
   },
   "outputs": [],
   "source": [
    "from google.protobuf import text_format\n",
    "\n",
    "tf.compat.v1.reset_default_graph()\n",
    "with tf.Graph().as_default() as frozen_pbtxt_graph:\n",
    "    graph_def = tf.compat.v1.GraphDef()\n",
    "    with open(f'{MODEL_PATH}/frozen_graph.pbtxt', \"rb\") as f:\n",
    "        text_format.Parse(f.read(), graph_def)\n",
    "        tf.import_graph_def(graph_def)"
   ]
  },
  {
   "cell_type": "markdown",
   "id": "615ec8b9",
   "metadata": {
    "heading_collapsed": true
   },
   "source": [
    "### Using tf2onnx"
   ]
  },
  {
   "cell_type": "code",
   "execution_count": 19,
   "id": "6ae9060f",
   "metadata": {
    "ExecuteTime": {
     "end_time": "2021-10-08T11:59:25.873442Z",
     "start_time": "2021-10-08T11:59:25.410976Z"
    },
    "hidden": true
   },
   "outputs": [],
   "source": [
    "from tf2onnx.tf_loader import from_saved_model"
   ]
  },
  {
   "cell_type": "code",
   "execution_count": 20,
   "id": "2b2b84aa",
   "metadata": {
    "ExecuteTime": {
     "end_time": "2021-10-08T12:00:08.885781Z",
     "start_time": "2021-10-08T11:59:25.875781Z"
    },
    "hidden": true
   },
   "outputs": [
    {
     "name": "stderr",
     "output_type": "stream",
     "text": [
      "'--signature_def' not specified, using first signature: serving_default\n"
     ]
    },
    {
     "name": "stdout",
     "output_type": "stream",
     "text": [
      "WARNING:tensorflow:From /usr/local/lib/python3.6/dist-packages/tf2onnx/tf_loader.py:703: extract_sub_graph (from tensorflow.python.framework.graph_util_impl) is deprecated and will be removed in a future version.\n",
      "Instructions for updating:\n",
      "Use `tf.compat.v1.graph_util.extract_sub_graph`\n"
     ]
    }
   ],
   "source": [
    "graph_def, inputs, outputs, initialized_tables, tensors_to_rename = from_saved_model(\n",
    "    MODEL_PATH, None, None, tag='serve', return_initialized_tables=True, return_tensors_to_rename=True)"
   ]
  },
  {
   "cell_type": "code",
   "execution_count": 21,
   "id": "216be1d6",
   "metadata": {
    "ExecuteTime": {
     "end_time": "2021-10-08T12:00:09.059153Z",
     "start_time": "2021-10-08T12:00:08.902764Z"
    },
    "hidden": true
   },
   "outputs": [
    {
     "data": {
      "text/plain": [
       "('tensorflow.core.framework.graph_pb2.GraphDef: [\"ByteSize\", \"Clear\", \"ClearExtension\", \"ClearField\", \"CopyFrom\", \"DESCRIPTOR\", \"DiscardUnknownFields\", \"Extensions\", \"FindInitializationErrors\", \"FromString\", \"HasExtension\", \"HasField\", \"IsInitialized\", \"ListFields\", \"MergeFrom\", \"MergeFromString\", \"ParseFromString\", \"RegisterExtension\", \"SerializePartialToString\", \"SerializeToString\", \"SetInParent\", \"UnknownFields\", \"WhichOneof\", \"library\", \"node\", \"version\", \"versions\"]',\n",
       " '------------------------------------------------------------',\n",
       " ['input_1:0'],\n",
       " '------------------------------------------------------------',\n",
       " ['Identity:0', 'Identity_1:0'])"
      ]
     },
     "execution_count": 21,
     "metadata": {},
     "output_type": "execute_result"
    }
   ],
   "source": [
    "_DIR(graph_def), '-'*60, inputs, '-'*60, outputs"
   ]
  },
  {
   "cell_type": "code",
   "execution_count": 22,
   "id": "d985d435",
   "metadata": {
    "ExecuteTime": {
     "end_time": "2021-10-08T12:00:10.571953Z",
     "start_time": "2021-10-08T12:00:09.071727Z"
    },
    "hidden": true
   },
   "outputs": [],
   "source": [
    "tf.compat.v1.reset_default_graph()\n",
    "with tf.Graph().as_default() as tf2onnx_graph:\n",
    "    tf.import_graph_def(graph_def)"
   ]
  },
  {
   "cell_type": "markdown",
   "id": "d6494668",
   "metadata": {},
   "source": [
    "## Graph  & Node"
   ]
  },
  {
   "cell_type": "code",
   "execution_count": 23,
   "id": "e5e5862a",
   "metadata": {
    "ExecuteTime": {
     "end_time": "2021-10-08T12:00:10.696281Z",
     "start_time": "2021-10-08T12:00:10.575292Z"
    }
   },
   "outputs": [
    {
     "data": {
      "text/plain": [
       "('tensorflow.python.framework.func_graph.FuncGraph: [\"add_capture\", \"add_to_collection\", \"add_to_collections\", \"as_default\", \"as_graph_def\", \"as_graph_element\", \"building_function\", \"capture\", \"capture_by_value\", \"capture_call_time_value\", \"capture_distributed_variable\", \"capture_eager_tensor\", \"captured\", \"captures\", \"clear_captures\", \"clear_collection\", \"collections\", \"colocate_with\", \"container\", \"control_captures\", \"control_dependencies\", \"control_outputs\", \"create_op\", \"deferred_external_captures\", \"deferred_internal_captures\", \"device\", \"external_captures\", \"finalize\", \"finalized\", \"get_all_collection_keys\", \"get_collection\", \"get_collection_ref\", \"get_name_scope\", \"get_operation_by_name\", \"get_operations\", \"get_tensor_by_name\", \"gradient_override_map\", \"graph_def_versions\", \"inputs\", \"internal_captures\", \"is_control_flow_graph\", \"is_feedable\", \"is_fetchable\", \"mark_as_unsaveable\", \"name\", \"name_scope\", \"outer_graph\", \"output_shapes\", \"output_types\", \"outputs\", \"pop_capture\", \"prevent_feeding\", \"prevent_fetching\", \"replace_capture\", \"reset_captures\", \"saveable\", \"saving_errors\", \"seed\", \"structured_input_signature\", \"structured_outputs\", \"switch_to_thread_local\", \"trainable_variables\", \"unique_name\", \"variable_captures\", \"variables\", \"version\", \"watch_variable\"]',\n",
       " '------------------------------------------------------------------------------------------',\n",
       " 'tensorflow.python.framework.ops.Graph: [\"add_to_collection\", \"add_to_collections\", \"as_default\", \"as_graph_def\", \"as_graph_element\", \"building_function\", \"clear_collection\", \"collections\", \"colocate_with\", \"container\", \"control_dependencies\", \"create_op\", \"device\", \"finalize\", \"finalized\", \"get_all_collection_keys\", \"get_collection\", \"get_collection_ref\", \"get_name_scope\", \"get_operation_by_name\", \"get_operations\", \"get_tensor_by_name\", \"gradient_override_map\", \"graph_def_versions\", \"is_feedable\", \"is_fetchable\", \"name_scope\", \"prevent_feeding\", \"prevent_fetching\", \"seed\", \"switch_to_thread_local\", \"unique_name\", \"version\"]',\n",
       " '------------------------------------------------------------------------------------------',\n",
       " 'tensorflow.python.framework.ops.Graph: [\"add_to_collection\", \"add_to_collections\", \"as_default\", \"as_graph_def\", \"as_graph_element\", \"building_function\", \"clear_collection\", \"collections\", \"colocate_with\", \"container\", \"control_dependencies\", \"create_op\", \"device\", \"finalize\", \"finalized\", \"get_all_collection_keys\", \"get_collection\", \"get_collection_ref\", \"get_name_scope\", \"get_operation_by_name\", \"get_operations\", \"get_tensor_by_name\", \"gradient_override_map\", \"graph_def_versions\", \"is_feedable\", \"is_fetchable\", \"name_scope\", \"prevent_feeding\", \"prevent_fetching\", \"seed\", \"switch_to_thread_local\", \"unique_name\", \"version\"]',\n",
       " '------------------------------------------------------------------------------------------',\n",
       " 'tensorflow.python.framework.ops.Graph: [\"add_to_collection\", \"add_to_collections\", \"as_default\", \"as_graph_def\", \"as_graph_element\", \"building_function\", \"clear_collection\", \"collections\", \"colocate_with\", \"container\", \"control_dependencies\", \"create_op\", \"device\", \"finalize\", \"finalized\", \"get_all_collection_keys\", \"get_collection\", \"get_collection_ref\", \"get_name_scope\", \"get_operation_by_name\", \"get_operations\", \"get_tensor_by_name\", \"gradient_override_map\", \"graph_def_versions\", \"is_feedable\", \"is_fetchable\", \"name_scope\", \"prevent_feeding\", \"prevent_fetching\", \"seed\", \"switch_to_thread_local\", \"unique_name\", \"version\"]')"
      ]
     },
     "execution_count": 23,
     "metadata": {},
     "output_type": "execute_result"
    }
   ],
   "source": [
    "_DIR(frozen_func.graph), '-'*90, _DIR(frozen_pb_graph), '-'*90, _DIR(frozen_pbtxt_graph), '-'*90, _DIR(tf2onnx_graph)"
   ]
  },
  {
   "cell_type": "markdown",
   "id": "0510a4a9",
   "metadata": {},
   "source": [
    "### GraphDef"
   ]
  },
  {
   "cell_type": "code",
   "execution_count": 24,
   "id": "21136b22",
   "metadata": {
    "ExecuteTime": {
     "end_time": "2021-10-08T12:00:11.393431Z",
     "start_time": "2021-10-08T12:00:10.699149Z"
    }
   },
   "outputs": [
    {
     "data": {
      "text/plain": [
       "'tensorflow.core.framework.graph_pb2.GraphDef: [\"ByteSize\", \"Clear\", \"ClearExtension\", \"ClearField\", \"CopyFrom\", \"DESCRIPTOR\", \"DiscardUnknownFields\", \"Extensions\", \"FindInitializationErrors\", \"FromString\", \"HasExtension\", \"HasField\", \"IsInitialized\", \"ListFields\", \"MergeFrom\", \"MergeFromString\", \"ParseFromString\", \"RegisterExtension\", \"SerializePartialToString\", \"SerializeToString\", \"SetInParent\", \"UnknownFields\", \"WhichOneof\", \"library\", \"node\", \"version\", \"versions\"]'"
      ]
     },
     "execution_count": 24,
     "metadata": {},
     "output_type": "execute_result"
    }
   ],
   "source": [
    "graph_def = frozen_func.graph.as_graph_def()\n",
    "# graph_def = frozen_pb_graph.as_graph_def()\n",
    "# graph_def = tf2onnx_graph.as_graph_def()\n",
    "_DIR(graph_def)"
   ]
  },
  {
   "cell_type": "markdown",
   "id": "632dfca7",
   "metadata": {},
   "source": [
    "### NodeDef"
   ]
  },
  {
   "cell_type": "code",
   "execution_count": 25,
   "id": "c5bb0365",
   "metadata": {
    "ExecuteTime": {
     "end_time": "2021-10-08T12:00:11.518363Z",
     "start_time": "2021-10-08T12:00:11.397403Z"
    }
   },
   "outputs": [
    {
     "data": {
      "text/plain": [
       "('tensorflow.core.framework.graph_pb2.GraphDef: [\"ByteSize\", \"Clear\", \"ClearExtension\", \"ClearField\", \"CopyFrom\", \"DESCRIPTOR\", \"DiscardUnknownFields\", \"Extensions\", \"FindInitializationErrors\", \"FromString\", \"HasExtension\", \"HasField\", \"IsInitialized\", \"ListFields\", \"MergeFrom\", \"MergeFromString\", \"ParseFromString\", \"RegisterExtension\", \"SerializePartialToString\", \"SerializeToString\", \"SetInParent\", \"UnknownFields\", \"WhichOneof\", \"library\", \"node\", \"version\", \"versions\"]',\n",
       " '------------------------------------------------------------------------------------------',\n",
       " producer: 808)"
      ]
     },
     "execution_count": 25,
     "metadata": {},
     "output_type": "execute_result"
    }
   ],
   "source": [
    "source_graph_def = graph_def\n",
    "_DIR(source_graph_def), '-'*90, source_graph_def.versions"
   ]
  },
  {
   "cell_type": "code",
   "execution_count": 26,
   "id": "a67a9937",
   "metadata": {
    "ExecuteTime": {
     "end_time": "2021-10-08T12:00:11.647556Z",
     "start_time": "2021-10-08T12:00:11.526165Z"
    }
   },
   "outputs": [
    {
     "data": {
      "text/plain": [
       "('google.protobuf.pyext._message.RepeatedCompositeContainer: [\"MergeFrom\", \"add\", \"append\", \"extend\", \"insert\", \"pop\", \"remove\", \"reverse\", \"sort\"]',\n",
       " '------------------------------------------------------------',\n",
       " [name: \"input_1\"\n",
       "  op: \"Placeholder\"\n",
       "  attr {\n",
       "    key: \"dtype\"\n",
       "    value {\n",
       "      type: DT_FLOAT\n",
       "    }\n",
       "  }\n",
       "  attr {\n",
       "    key: \"shape\"\n",
       "    value {\n",
       "      shape {\n",
       "        dim {\n",
       "          size: -1\n",
       "        }\n",
       "        dim {\n",
       "          size: 64\n",
       "        }\n",
       "        dim {\n",
       "          size: 112\n",
       "        }\n",
       "        dim {\n",
       "          size: 112\n",
       "        }\n",
       "        dim {\n",
       "          size: 3\n",
       "        }\n",
       "      }\n",
       "    }\n",
       "  },\n",
       "  name: \"StatefulPartitionedCall/resnet_period_estimator_29/mul_1/x\"\n",
       "  op: \"Const\"\n",
       "  attr {\n",
       "    key: \"dtype\"\n",
       "    value {\n",
       "      type: DT_FLOAT\n",
       "    }\n",
       "  }\n",
       "  attr {\n",
       "    key: \"value\"\n",
       "    value {\n",
       "      tensor {\n",
       "        dtype: DT_FLOAT\n",
       "        tensor_shape {\n",
       "        }\n",
       "        float_val: -1.0\n",
       "      }\n",
       "    }\n",
       "  }])"
      ]
     },
     "execution_count": 26,
     "metadata": {},
     "output_type": "execute_result"
    }
   ],
   "source": [
    "_DIR(source_graph_def.node), '-'*60, source_graph_def.node[0:2]"
   ]
  },
  {
   "cell_type": "code",
   "execution_count": 27,
   "id": "90d31813",
   "metadata": {
    "ExecuteTime": {
     "end_time": "2021-10-08T12:00:11.780341Z",
     "start_time": "2021-10-08T12:00:11.654963Z"
    }
   },
   "outputs": [
    {
     "data": {
      "text/plain": [
       "('tensorflow.core.framework.node_def_pb2.NodeDef: [\"AttrEntry\", \"ByteSize\", \"Clear\", \"ClearExtension\", \"ClearField\", \"CopyFrom\", \"DESCRIPTOR\", \"DiscardUnknownFields\", \"ExperimentalDebugInfo\", \"Extensions\", \"FindInitializationErrors\", \"FromString\", \"HasExtension\", \"HasField\", \"IsInitialized\", \"ListFields\", \"MergeFrom\", \"MergeFromString\", \"ParseFromString\", \"RegisterExtension\", \"SerializePartialToString\", \"SerializeToString\", \"SetInParent\", \"UnknownFields\", \"WhichOneof\", \"attr\", \"device\", \"experimental_debug_info\", \"input\", \"name\", \"op\"]',\n",
       " '------------------------------------------------------------',\n",
       " 'input_1',\n",
       " '------------------------------',\n",
       " [],\n",
       " '------------------------------',\n",
       " 'Placeholder',\n",
       " '------------------------------',\n",
       " {'dtype': type: DT_FLOAT\n",
       " , 'shape': shape {\n",
       "   dim {\n",
       "     size: -1\n",
       "   }\n",
       "   dim {\n",
       "     size: 64\n",
       "   }\n",
       "   dim {\n",
       "     size: 112\n",
       "   }\n",
       "   dim {\n",
       "     size: 112\n",
       "   }\n",
       "   dim {\n",
       "     size: 3\n",
       "   }\n",
       " }\n",
       " },\n",
       " google.protobuf.pyext._message.MessageMapContainer)"
      ]
     },
     "execution_count": 27,
     "metadata": {},
     "output_type": "execute_result"
    }
   ],
   "source": [
    "node0 = source_graph_def.node[0]\n",
    "_DIR(node0), '-'*60, node0.name, '-'*30, node0.input, '-'*30, node0.op, '-'*30, node0.attr, type(node0.attr)"
   ]
  },
  {
   "cell_type": "code",
   "execution_count": 28,
   "id": "260101ab",
   "metadata": {
    "ExecuteTime": {
     "end_time": "2021-10-08T12:00:11.976949Z",
     "start_time": "2021-10-08T12:00:11.788251Z"
    },
    "scrolled": true
   },
   "outputs": [],
   "source": [
    "float_val_node = None\n",
    "tensor_content_node = None\n",
    "for node in source_graph_def.node:\n",
    "    for attr in node.attr:\n",
    "        if attr == 'value':\n",
    "            tensor = node.attr[attr].tensor\n",
    "            if tensor.dtype == types_pb2.DT_FLOAT:\n",
    "                if tensor.float_val and not float_val_node:\n",
    "                    float_val_node = node\n",
    "                if tensor.tensor_content and not tensor_content_node:\n",
    "                    tensor_shape = [x.size for x in tensor.tensor_shape.dim]\n",
    "                    if np.prod(tensor_shape) < 48:\n",
    "                        tensor_content_node = node\n",
    "    if float_val_node and tensor_content_node:\n",
    "        break"
   ]
  },
  {
   "cell_type": "code",
   "execution_count": 29,
   "id": "b6ecf4f8",
   "metadata": {
    "ExecuteTime": {
     "end_time": "2021-10-08T12:00:12.106615Z",
     "start_time": "2021-10-08T12:00:11.979863Z"
    },
    "scrolled": false
   },
   "outputs": [
    {
     "data": {
      "text/plain": [
       "(name: \"StatefulPartitionedCall/resnet_period_estimator_29/mul_1/x\"\n",
       " op: \"Const\"\n",
       " attr {\n",
       "   key: \"dtype\"\n",
       "   value {\n",
       "     type: DT_FLOAT\n",
       "   }\n",
       " }\n",
       " attr {\n",
       "   key: \"value\"\n",
       "   value {\n",
       "     tensor {\n",
       "       dtype: DT_FLOAT\n",
       "       tensor_shape {\n",
       "       }\n",
       "       float_val: -1.0\n",
       "     }\n",
       "   }\n",
       " },\n",
       " '------------------------------------------------------------',\n",
       " name: \"unknown_174\"\n",
       " op: \"Const\"\n",
       " attr {\n",
       "   key: \"dtype\"\n",
       "   value {\n",
       "     type: DT_FLOAT\n",
       "   }\n",
       " }\n",
       " attr {\n",
       "   key: \"value\"\n",
       "   value {\n",
       "     tensor {\n",
       "       dtype: DT_FLOAT\n",
       "       tensor_shape {\n",
       "         dim {\n",
       "           size: 32\n",
       "         }\n",
       "       }\n",
       "       tensor_content: \"\\020\\264\\3159\\373\\352b\\270hf\\020;19h;\\300\\003\\202\\271\\022\\264\\211\\272\\331v\\013\\270\\3761Q:J\\rA\\273L\\320\\265:\\t\\273\\352\\273;\\222\\007\\2724\\034\\216\\272\\037-\\327\\272T\\\\\\333\\272\\360Q\\233\\273\\260_v\\272\\\"\\032\\035;*\\367\\237:\\217p\\310:\\274\\274C8\\372\\252\\345\\273\\\\5)\\271_\\260\\232\\272\\336-W;{\\241\\226\\267\\211\\304\\216\\273\\334\\346\\227:(\\023\\264\\270E\\367\\307\\272\\346?\\002\\273\\375\\344\\215\\271\"\n",
       "     }\n",
       "   }\n",
       " })"
      ]
     },
     "execution_count": 29,
     "metadata": {},
     "output_type": "execute_result"
    }
   ],
   "source": [
    "float_val_node, '-'*60, tensor_content_node"
   ]
  },
  {
   "cell_type": "markdown",
   "id": "aa9a08f7",
   "metadata": {},
   "source": [
    "## Convert Weight to Float16 "
   ]
  },
  {
   "cell_type": "code",
   "execution_count": 30,
   "id": "db3bc909",
   "metadata": {
    "ExecuteTime": {
     "end_time": "2021-10-08T12:00:12.226668Z",
     "start_time": "2021-10-08T12:00:12.109449Z"
    }
   },
   "outputs": [],
   "source": [
    "from tensorflow.core.framework import types_pb2, graph_pb2, attr_value_pb2\n",
    "from google.protobuf import text_format"
   ]
  },
  {
   "cell_type": "code",
   "execution_count": 31,
   "id": "93e19e7a",
   "metadata": {
    "ExecuteTime": {
     "end_time": "2021-10-08T12:00:12.351051Z",
     "start_time": "2021-10-08T12:00:12.232873Z"
    }
   },
   "outputs": [],
   "source": [
    "target_graph_def = graph_pb2.GraphDef()\n",
    "target_graph_def.versions.CopyFrom(source_graph_def.versions)"
   ]
  },
  {
   "cell_type": "code",
   "execution_count": 32,
   "id": "3d198977",
   "metadata": {
    "ExecuteTime": {
     "end_time": "2021-10-08T12:00:12.477858Z",
     "start_time": "2021-10-08T12:00:12.355954Z"
    }
   },
   "outputs": [
    {
     "data": {
      "text/plain": [
       "versions {\n",
       "  producer: 808\n",
       "}"
      ]
     },
     "execution_count": 32,
     "metadata": {},
     "output_type": "execute_result"
    }
   ],
   "source": [
    "target_graph_def"
   ]
  },
  {
   "cell_type": "code",
   "execution_count": 33,
   "id": "7ac3aac6",
   "metadata": {
    "ExecuteTime": {
     "end_time": "2021-10-08T12:00:13.939347Z",
     "start_time": "2021-10-08T12:00:12.485470Z"
    },
    "scrolled": true
   },
   "outputs": [],
   "source": [
    "dtype_f16 = types_pb2.DT_HALF\n",
    "for node in source_graph_def.node:\n",
    "    new_node = target_graph_def.node.add()\n",
    "    new_node.op = node.op\n",
    "    new_node.name = node.name\n",
    "    new_node.input.extend(node.input)\n",
    "    for attr in node.attr:\n",
    "        if node.attr[attr].type == types_pb2.DT_FLOAT:\n",
    "            new_node.attr[attr].type = dtype_f16\n",
    "        if attr == \"value\":\n",
    "            tensor = node.attr[attr].tensor\n",
    "            if tensor.dtype == types_pb2.DT_FLOAT:\n",
    "                if tensor.float_val:\n",
    "                    float_val = tf.make_ndarray(node.attr[attr].tensor)\n",
    "                    new_node.attr[attr].tensor.CopyFrom(tf.make_tensor_proto(float_val, dtype=dtype_f16))\n",
    "                    continue\n",
    "                if tensor.tensor_content:\n",
    "                    tensor_shape = [x.size for x in tensor.tensor_shape.dim]\n",
    "                    tensor_weights = np.reshape(tf.make_ndarray(tensor), tensor_shape)\n",
    "                    new_node.attr[attr].tensor.CopyFrom(tf.make_tensor_proto(tensor_weights, dtype=dtype_f16))\n",
    "                    continue\n",
    "        new_node.attr[attr].CopyFrom(node.attr[attr])"
   ]
  },
  {
   "cell_type": "code",
   "execution_count": 34,
   "id": "eb8975f0",
   "metadata": {
    "ExecuteTime": {
     "end_time": "2021-10-08T12:00:15.206611Z",
     "start_time": "2021-10-08T12:00:13.942099Z"
    }
   },
   "outputs": [],
   "source": [
    "tf.io.write_graph(source_graph_def, logdir=f'{MODEL_PATH}', name='frozen_graph_f32.pb', as_text=False);\n",
    "tf.io.write_graph(target_graph_def, logdir=f'{MODEL_PATH}', name='frozen_graph_f16.pb', as_text=False);"
   ]
  },
  {
   "cell_type": "code",
   "execution_count": 35,
   "id": "722b1968",
   "metadata": {
    "ExecuteTime": {
     "end_time": "2021-10-08T12:00:16.685473Z",
     "start_time": "2021-10-08T12:00:15.210780Z"
    }
   },
   "outputs": [
    {
     "name": "stdout",
     "output_type": "stream",
     "text": [
      "-rw-rw-rw- 1 root root 50M Oct  8 20:00 /data/nb_data/saved_models/frozen_graph_f16.pb\r\n",
      "-rw-rw-rw- 1 root root 99M Oct  8 20:00 /data/nb_data/saved_models/frozen_graph_f32.pb\r\n"
     ]
    }
   ],
   "source": [
    "!ls -lh $MODEL_PATH/frozen_graph_f*.pb"
   ]
  },
  {
   "cell_type": "markdown",
   "id": "b4c3e4c9",
   "metadata": {},
   "source": [
    "## References"
   ]
  },
  {
   "cell_type": "markdown",
   "id": "2ae3b357",
   "metadata": {},
   "source": [
    "- [post-training-quantization-of-tensorflow-model-to-fp16][1]\n",
    "- [tf.compat.v1.wrap_function][2]\n",
    "\n",
    "\n",
    "[2]: https://tensorflow.google.cn/api_docs/python/tf/compat/v1/wrap_function\n",
    "[1]: https://medium.com/@fanzongshaoxing/post-training-quantization-of-tensorflow-model-to-fp16-8d66b9dfa77f"
   ]
  }
 ],
 "metadata": {
  "hide_input": false,
  "kernelspec": {
   "display_name": "Python 3",
   "language": "python",
   "name": "python3"
  },
  "language_info": {
   "codemirror_mode": {
    "name": "ipython",
    "version": 3
   },
   "file_extension": ".py",
   "mimetype": "text/x-python",
   "name": "python",
   "nbconvert_exporter": "python",
   "pygments_lexer": "ipython3",
   "version": "3.6.9"
  },
  "toc": {
   "base_numbering": 1,
   "nav_menu": {
    "height": "305px",
    "width": "244px"
   },
   "number_sections": true,
   "sideBar": true,
   "skip_h1_title": true,
   "title_cell": "",
   "title_sidebar": "Contents",
   "toc_cell": false,
   "toc_position": {},
   "toc_section_display": true,
   "toc_window_display": false
  }
 },
 "nbformat": 4,
 "nbformat_minor": 5
}
