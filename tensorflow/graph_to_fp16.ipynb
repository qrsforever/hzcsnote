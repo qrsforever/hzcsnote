{
 "cells": [
  {
   "cell_type": "code",
   "execution_count": 27,
   "id": "699154d1",
   "metadata": {
    "ExecuteTime": {
     "end_time": "2021-09-29T09:43:25.694918Z",
     "start_time": "2021-09-29T09:43:25.146355Z"
    }
   },
   "outputs": [
    {
     "name": "stdout",
     "output_type": "stream",
     "text": [
      "numpy 1.19.5\n",
      "sklearn 0.0\n",
      "pandas 1.1.5\n",
      "cv2 4.5.3\n",
      "PIL 8.3.1\n",
      "matplotlib 3.3.4\n",
      "torch 1.8.1+cu101\n",
      "torchvision 0.9.1+cu101\n",
      "torchaudio not installed\n",
      "tensorflow 2.6.0\n",
      "tensorboard 2.6.0\n",
      "tflite 2.4.0\n",
      "onnx 1.10.1\n",
      "onnxruntime 1.8.1\n",
      "tensorrt not installed\n",
      "tvm not installed\n"
     ]
    },
    {
     "data": {
      "text/html": [
       "<style>.container { width:95% !important; }</style>"
      ],
      "text/plain": [
       "<IPython.core.display.HTML object>"
      ]
     },
     "metadata": {},
     "output_type": "display_data"
    }
   ],
   "source": [
    "%reload_ext watermark\n",
    "%reload_ext autoreload\n",
    "%autoreload 2\n",
    "%watermark -p numpy,sklearn,pandas\n",
    "%watermark -p cv2,PIL,matplotlib\n",
    "%watermark -p torch,torchvision,torchaudio\n",
    "%watermark -p tensorflow,tensorboard,tflite\n",
    "%watermark -p onnx,onnxruntime,tensorrt,tvm\n",
    "%matplotlib inline\n",
    "%config InlineBackend.figure_format='retina'\n",
    "%config IPCompleter.use_jedi = False\n",
    "\n",
    "from IPython.display import display, Markdown, HTML, Image, Javascript\n",
    "from IPython.core.magic import register_line_cell_magic, register_line_magic, register_cell_magic\n",
    "display(HTML('<style>.container { width:%d%% !important; }</style>' % 95))\n",
    "\n",
    "import sys, os, io, time, random, math\n",
    "import json, base64, requests, shutil\n",
    "import os.path as osp\n",
    "import numpy as np\n",
    "\n",
    "def _IMPORT(x):\n",
    "    try:\n",
    "        x = x.strip()\n",
    "        if x.startswith('https://'):\n",
    "            x = x[8:]\n",
    "        if not x.endswith('.py'):\n",
    "            x = x + '.py'\n",
    "        if x[0] == '/':\n",
    "            with open(x) as fr:\n",
    "                x = fr.read()\n",
    "        else:\n",
    "            x = x.replace('blob/main/', '').replace('blob/master/', '')\n",
    "            if x.startswith('raw.githubusercontent.com'):\n",
    "                uri = 'https://' + x\n",
    "                x = requests.get(uri)\n",
    "                if x.status_code == 200:\n",
    "                    x = x.text\n",
    "            elif x.startswith('github.com'):\n",
    "                uri = x.replace('github.com', 'raw.githubusercontent.com')\n",
    "                mod = uri.split('/')\n",
    "                for s in ['main', 'master']:\n",
    "                    uri = 'https://' + '/'.join(mod[:3]) + s + '/'.join(mod[-3:])\n",
    "                    x = requests.get(uri)\n",
    "                    if x.status_code == 200:\n",
    "                        x = x.text\n",
    "                        break\n",
    "            elif x.startswith('gitee.com'):\n",
    "                mod = x.split('/')\n",
    "                for s in ['/raw/main/', '/raw/master/']:\n",
    "                    uri = 'https://' + '/'.join(mod[:3]) + s + '/'.join(mod[3:])\n",
    "                    x = requests.get(uri)\n",
    "                    if x.status_code == 200:\n",
    "                        x = x.text\n",
    "                        break\n",
    "        exec(x, globals())\n",
    "    except:\n",
    "        pass\n",
    "\n",
    "def _DIR(x, dumps=True, ret=True):\n",
    "    attrs = sorted([y for y in dir(x) if not y.startswith('_')])\n",
    "    result = '%s:\\n%s' % (type(x), json.dumps(attrs) if dumps else attrs\n",
    "    if ret:\n",
    "        return result\n",
    "    print(result)"
   ]
  },
  {
   "cell_type": "code",
   "execution_count": null,
   "id": "5d89e506",
   "metadata": {},
   "outputs": [],
   "source": [
    "def display_html(port, height=600):\n",
    "    from IPython import display\n",
    "    from html import escape as html_escape\n",
    "    frame_id = 'erlangai-frame-{:08x}'.format(random.getrandbits(64))\n",
    "    shell = '''\n",
    "      <iframe id='%HTML_ID%' width='100%' height='%HEIGHT%' frameborder='0'>\n",
    "      </iframe>\n",
    "      <script>\n",
    "        (function() {\n",
    "          const frame = document.getElementById(%JSON_ID%);\n",
    "          const url = new URL(%URL%, window.location);\n",
    "          const port = %PORT%;\n",
    "          if (port) {\n",
    "            url.port = port;\n",
    "          }\n",
    "          frame.src = url;\n",
    "        })();\n",
    "      </script>\n",
    "    '''\n",
    "    replacements = [\n",
    "        ('%HTML_ID%', html_escape(frame_id, quote=True)),\n",
    "        ('%JSON_ID%', json.dumps(frame_id)),\n",
    "        ('%HEIGHT%', '%d' % height),\n",
    "        ('%PORT%', '%d' % port),\n",
    "        ('%URL%', json.dumps('/')),\n",
    "    ]\n",
    "    for (k, v) in replacements:\n",
    "        shell = shell.replace(k, v)\n",
    "    display.display(display.HTML(shell))\n",
    "\n"
   ]
  },
  {
   "cell_type": "code",
   "execution_count": 21,
   "id": "0bc7543b",
   "metadata": {
    "ExecuteTime": {
     "end_time": "2021-09-29T09:42:34.004003Z",
     "start_time": "2021-09-29T09:42:33.904737Z"
    }
   },
   "outputs": [],
   "source": [
    "import tensorflow as tf\n",
    "from tensorflow.core.framework import types_pb2, graph_pb2, attr_value_pb2\n",
    "from google.protobuf import text_format"
   ]
  },
  {
   "cell_type": "code",
   "execution_count": 22,
   "id": "df1f43b2",
   "metadata": {
    "ExecuteTime": {
     "end_time": "2021-09-29T09:42:34.717803Z",
     "start_time": "2021-09-29T09:42:34.615355Z"
    }
   },
   "outputs": [],
   "source": [
    "MODEL_PATH = '/data/nb_data/saved_models'"
   ]
  },
  {
   "cell_type": "markdown",
   "id": "e51c1209",
   "metadata": {},
   "source": [
    "## Load Saved Models"
   ]
  },
  {
   "cell_type": "code",
   "execution_count": 23,
   "id": "9056e6ce",
   "metadata": {
    "ExecuteTime": {
     "end_time": "2021-09-29T09:42:47.594003Z",
     "start_time": "2021-09-29T09:42:35.938131Z"
    }
   },
   "outputs": [
    {
     "name": "stdout",
     "output_type": "stream",
     "text": [
      "<class 'tensorflow.python.saved_model.load.Loader._recreate_base_user_object.<locals>._UserObject'>: [\"base_model\", \"call_and_return_all_conditional_losses\", \"conv_3x3_layer\", \"dropout_layer\", \"fc_layers\", \"graph_debug_info\", \"input_projection\", \"input_projection2\", \"keras_api\", \"pos_encoding\", \"pos_encoding2\", \"regularization_losses\", \"signatures\", \"temporal_bn_layers\", \"temporal_conv_layers\", \"tensorflow_git_version\", \"tensorflow_version\", \"trainable_variables\", \"transformer_layers\", \"transformer_layers2\", \"variables\", \"within_period_fc_layers\"]\n"
     ]
    }
   ],
   "source": [
    "model_loaded = tf.saved_model.load(MODEL_PATH)\n",
    "_DIR(model_loaded)"
   ]
  },
  {
   "cell_type": "markdown",
   "id": "777e704f",
   "metadata": {},
   "source": [
    "### ConcreteFunction"
   ]
  },
  {
   "cell_type": "code",
   "execution_count": 89,
   "id": "95eb7ead",
   "metadata": {
    "ExecuteTime": {
     "end_time": "2021-09-29T10:51:40.640648Z",
     "start_time": "2021-09-29T10:51:40.465071Z"
    }
   },
   "outputs": [
    {
     "data": {
      "text/plain": [
       "('tensorflow.python.saved_model.signature_serialization._SignatureMap: [\"get\", \"items\", \"keys\", \"values\"]',\n",
       " '------------------------------------------------------------------------------------------',\n",
       " KeysView(_SignatureMap({'serving_default': <ConcreteFunction signature_wrapper(*, input_1) at 0x7FA25BC787B8>})))"
      ]
     },
     "execution_count": 89,
     "metadata": {},
     "output_type": "execute_result"
    }
   ],
   "source": [
    "signatures = model_loaded.signatures\n",
    "_DIR(signatures), '-'*90, signatures.keys()"
   ]
  },
  {
   "cell_type": "code",
   "execution_count": 118,
   "id": "fe8e807b",
   "metadata": {
    "ExecuteTime": {
     "end_time": "2021-09-29T13:31:43.798964Z",
     "start_time": "2021-09-29T13:31:43.646419Z"
    }
   },
   "outputs": [
    {
     "data": {
      "text/plain": [
       "('tensorflow.python.saved_model.load._WrapperFunction: [\"add_gradient_functions_to_graph\", \"add_to_graph\", \"captured_inputs\", \"function_def\", \"graph\", \"inputs\", \"name\", \"output_dtypes\", \"output_shapes\", \"outputs\", \"pretty_printed_signature\", \"structured_input_signature\", \"structured_outputs\", \"trainable_variables\", \"variables\"]',\n",
       " '------------------------------------------------------------------------------------------',\n",
       " b'__inference_signature_wrapper_65445')"
      ]
     },
     "execution_count": 118,
     "metadata": {},
     "output_type": "execute_result"
    }
   ],
   "source": [
    "frozen_func = signatures['serving_default']\n",
    "_DIR(frozen_func), '-'*90, frozen_func.name"
   ]
  },
  {
   "cell_type": "code",
   "execution_count": 119,
   "id": "9de710c5",
   "metadata": {
    "ExecuteTime": {
     "end_time": "2021-09-29T13:31:50.878077Z",
     "start_time": "2021-09-29T13:31:50.725219Z"
    }
   },
   "outputs": [
    {
     "data": {
      "text/plain": [
       "(227, 2)"
      ]
     },
     "execution_count": 119,
     "metadata": {},
     "output_type": "execute_result"
    }
   ],
   "source": [
    "len(frozen_func.inputs), len(frozen_func.outputs)"
   ]
  },
  {
   "cell_type": "code",
   "execution_count": 144,
   "id": "e72f223b",
   "metadata": {
    "ExecuteTime": {
     "end_time": "2021-09-29T13:58:55.869356Z",
     "start_time": "2021-09-29T13:58:55.716720Z"
    }
   },
   "outputs": [
    {
     "data": {
      "text/plain": [
       "([<tf.Tensor 'input_1:0' shape=(None, 64, 112, 112, 3) dtype=float32>,\n",
       "  <tf.Tensor 'unknown:0' shape=() dtype=resource>,\n",
       "  <tf.Tensor 'unknown_0:0' shape=() dtype=resource>,\n",
       "  <tf.Tensor 'unknown_1:0' shape=() dtype=resource>,\n",
       "  <tf.Tensor 'unknown_2:0' shape=() dtype=resource>],\n",
       " '------------------------------------------------------------',\n",
       " [<tf.Tensor 'Identity:0' shape=(None, 64, 32) dtype=float32>,\n",
       "  <tf.Tensor 'Identity_1:0' shape=(None, 64, 1) dtype=float32>])"
      ]
     },
     "execution_count": 144,
     "metadata": {},
     "output_type": "execute_result"
    }
   ],
   "source": [
    "frozen_func.inputs[0:5], '-'*60, frozen_func.outputs"
   ]
  },
  {
   "cell_type": "markdown",
   "id": "e5ccbdbf",
   "metadata": {},
   "source": [
    "### FunctionDef & OpDef "
   ]
  },
  {
   "cell_type": "code",
   "execution_count": 121,
   "id": "2436ee7e",
   "metadata": {
    "ExecuteTime": {
     "end_time": "2021-09-29T13:32:46.343084Z",
     "start_time": "2021-09-29T13:32:46.190709Z"
    }
   },
   "outputs": [
    {
     "data": {
      "text/plain": [
       "('tensorflow.core.framework.function_pb2.FunctionDef: [\"ArgAttrEntry\", \"ArgAttrs\", \"AttrEntry\", \"ByteSize\", \"Clear\", \"ClearExtension\", \"ClearField\", \"ControlRetEntry\", \"CopyFrom\", \"DESCRIPTOR\", \"DiscardUnknownFields\", \"Extensions\", \"FindInitializationErrors\", \"FromString\", \"HasExtension\", \"HasField\", \"IsInitialized\", \"ListFields\", \"MergeFrom\", \"MergeFromString\", \"ParseFromString\", \"RegisterExtension\", \"ResourceArgUniqueIdEntry\", \"RetEntry\", \"SerializePartialToString\", \"SerializeToString\", \"SetInParent\", \"UnknownFields\", \"WhichOneof\", \"arg_attr\", \"attr\", \"control_ret\", \"node_def\", \"resource_arg_unique_id\", \"ret\", \"signature\"]',\n",
       " '------------------------------------------------------------------------------------------',\n",
       " 'tensorflow.core.framework.op_def_pb2.OpDef: [\"ArgDef\", \"AttrDef\", \"ByteSize\", \"Clear\", \"ClearExtension\", \"ClearField\", \"CopyFrom\", \"DESCRIPTOR\", \"DiscardUnknownFields\", \"Extensions\", \"FindInitializationErrors\", \"FromString\", \"HasExtension\", \"HasField\", \"IsInitialized\", \"ListFields\", \"MergeFrom\", \"MergeFromString\", \"ParseFromString\", \"RegisterExtension\", \"SerializePartialToString\", \"SerializeToString\", \"SetInParent\", \"UnknownFields\", \"WhichOneof\", \"allows_uninitialized_input\", \"attr\", \"control_output\", \"deprecation\", \"description\", \"input_arg\", \"is_aggregate\", \"is_commutative\", \"is_distributed_communication\", \"is_stateful\", \"name\", \"output_arg\", \"summary\"]',\n",
       " '------------------------------------------------------------------------------------------',\n",
       " 'google.protobuf.pyext._message.RepeatedCompositeContainer: [\"MergeFrom\", \"add\", \"append\", \"extend\", \"insert\", \"pop\", \"remove\", \"reverse\", \"sort\"]')"
      ]
     },
     "execution_count": 121,
     "metadata": {},
     "output_type": "execute_result"
    }
   ],
   "source": [
    "_DIR(frozen_func.function_def), '-'*90, _DIR(frozen_func.function_def.signature), '-'*90, _DIR(frozen_func.function_def.node_def)"
   ]
  },
  {
   "cell_type": "code",
   "execution_count": 122,
   "id": "5746f149",
   "metadata": {
    "ExecuteTime": {
     "end_time": "2021-09-29T13:32:47.903404Z",
     "start_time": "2021-09-29T13:32:47.758016Z"
    }
   },
   "outputs": [
    {
     "data": {
      "text/plain": [
       "({'_construction_context': s: \"kEagerRuntime\"\n",
       " },\n",
       " '__inference_signature_wrapper_65445')"
      ]
     },
     "execution_count": 122,
     "metadata": {},
     "output_type": "execute_result"
    }
   ],
   "source": [
    "frozen_func.function_def.attr, frozen_func.function_def.signature.name"
   ]
  },
  {
   "cell_type": "markdown",
   "id": "b3255e00",
   "metadata": {},
   "source": [
    "### FuncGraph & GraphDef"
   ]
  },
  {
   "cell_type": "code",
   "execution_count": 136,
   "id": "5722df94",
   "metadata": {
    "ExecuteTime": {
     "end_time": "2021-09-29T13:50:58.198164Z",
     "start_time": "2021-09-29T13:50:58.047642Z"
    }
   },
   "outputs": [
    {
     "data": {
      "text/plain": [
       "'tensorflow.python.framework.func_graph.FuncGraph: [\"add_capture\", \"add_to_collection\", \"add_to_collections\", \"as_default\", \"as_graph_def\", \"as_graph_element\", \"building_function\", \"capture\", \"capture_by_value\", \"capture_call_time_value\", \"capture_distributed_variable\", \"capture_eager_tensor\", \"captured\", \"captures\", \"clear_captures\", \"clear_collection\", \"collections\", \"colocate_with\", \"container\", \"control_captures\", \"control_dependencies\", \"control_outputs\", \"create_op\", \"deferred_external_captures\", \"deferred_internal_captures\", \"device\", \"external_captures\", \"finalize\", \"finalized\", \"get_all_collection_keys\", \"get_collection\", \"get_collection_ref\", \"get_name_scope\", \"get_operation_by_name\", \"get_operations\", \"get_tensor_by_name\", \"gradient_override_map\", \"graph_def_versions\", \"inputs\", \"internal_captures\", \"is_control_flow_graph\", \"is_feedable\", \"is_fetchable\", \"mark_as_unsaveable\", \"name\", \"name_scope\", \"outer_graph\", \"output_shapes\", \"output_types\", \"outputs\", \"pop_capture\", \"prevent_feeding\", \"prevent_fetching\", \"replace_capture\", \"reset_captures\", \"saveable\", \"saving_errors\", \"seed\", \"structured_input_signature\", \"structured_outputs\", \"switch_to_thread_local\", \"trainable_variables\", \"unique_name\", \"variable_captures\", \"variables\", \"version\", \"watch_variable\"]'"
      ]
     },
     "execution_count": 136,
     "metadata": {},
     "output_type": "execute_result"
    }
   ],
   "source": [
    "_DIR(frozen_func.graph)"
   ]
  },
  {
   "cell_type": "code",
   "execution_count": 138,
   "id": "116f11ad",
   "metadata": {
    "ExecuteTime": {
     "end_time": "2021-09-29T13:51:04.740322Z",
     "start_time": "2021-09-29T13:51:04.552460Z"
    }
   },
   "outputs": [
    {
     "data": {
      "text/plain": [
       "'tensorflow.core.framework.graph_pb2.GraphDef: [\"ByteSize\", \"Clear\", \"ClearExtension\", \"ClearField\", \"CopyFrom\", \"DESCRIPTOR\", \"DiscardUnknownFields\", \"Extensions\", \"FindInitializationErrors\", \"FromString\", \"HasExtension\", \"HasField\", \"IsInitialized\", \"ListFields\", \"MergeFrom\", \"MergeFromString\", \"ParseFromString\", \"RegisterExtension\", \"SerializePartialToString\", \"SerializeToString\", \"SetInParent\", \"UnknownFields\", \"WhichOneof\", \"library\", \"node\", \"version\", \"versions\"]'"
      ]
     },
     "execution_count": 138,
     "metadata": {},
     "output_type": "execute_result"
    }
   ],
   "source": [
    "graph_def = frozen_func.graph.as_graph_def()\n",
    "_DIR(graph_def)"
   ]
  },
  {
   "cell_type": "code",
   "execution_count": 143,
   "id": "e40a4449",
   "metadata": {
    "ExecuteTime": {
     "end_time": "2021-09-29T13:58:48.637338Z",
     "start_time": "2021-09-29T13:58:48.483586Z"
    }
   },
   "outputs": [
    {
     "data": {
      "text/plain": [
       "([<tf.Tensor 'input_1:0' shape=(None, 64, 112, 112, 3) dtype=float32>,\n",
       "  <tf.Tensor 'unknown:0' shape=() dtype=resource>,\n",
       "  <tf.Tensor 'unknown_0:0' shape=() dtype=resource>,\n",
       "  <tf.Tensor 'unknown_1:0' shape=() dtype=resource>,\n",
       "  <tf.Tensor 'unknown_2:0' shape=() dtype=resource>],\n",
       " '------------------------------------------------------------',\n",
       " [<tf.Tensor 'Identity:0' shape=(None, 64, 32) dtype=float32>,\n",
       "  <tf.Tensor 'Identity_1:0' shape=(None, 64, 1) dtype=float32>])"
      ]
     },
     "execution_count": 143,
     "metadata": {},
     "output_type": "execute_result"
    }
   ],
   "source": [
    "frozen_func.graph.inputs[0:5], '-'*60, frozen_func.graph.outputs"
   ]
  },
  {
   "cell_type": "code",
   "execution_count": 148,
   "id": "6053b9f2",
   "metadata": {
    "ExecuteTime": {
     "end_time": "2021-09-29T14:02:47.864671Z",
     "start_time": "2021-09-29T14:02:47.710125Z"
    }
   },
   "outputs": [
    {
     "data": {
      "text/plain": [
       "('list: [\"append\", \"clear\", \"copy\", \"count\", \"extend\", \"index\", \"insert\", \"pop\", \"remove\", \"reverse\", \"sort\"]',\n",
       " '------------------------------------------------------------',\n",
       " 'tensorflow.python.framework.ops.Operation: [\"colocation_groups\", \"control_inputs\", \"device\", \"get_attr\", \"graph\", \"inputs\", \"name\", \"node_def\", \"op_def\", \"outputs\", \"run\", \"traceback\", \"type\", \"values\"]')"
      ]
     },
     "execution_count": 148,
     "metadata": {},
     "output_type": "execute_result"
    }
   ],
   "source": [
    "operations = frozen_func.graph.get_operations()\n",
    "_DIR(operations), '-'*60, _DIR(operations[0])"
   ]
  },
  {
   "cell_type": "code",
   "execution_count": 173,
   "id": "181d6774",
   "metadata": {
    "ExecuteTime": {
     "end_time": "2021-09-29T14:17:15.609213Z",
     "start_time": "2021-09-29T14:17:15.446326Z"
    },
    "scrolled": false
   },
   "outputs": [
    {
     "name": "stdout",
     "output_type": "stream",
     "text": [
      "inputs: () outputs: [<tf.Tensor 'input_1:0' shape=(None, 64, 112, 112, 3) dtype=float32>] type: Placeholder values: <bound method Operation.values of <tf.Operation 'input_1' type=Placeholder>>\n",
      "--------------------------------------------------------------------------------\n",
      "name: \"input_1\"\n",
      "op: \"Placeholder\"\n",
      "attr {\n",
      "  key: \"_user_specified_name\"\n",
      "  value {\n",
      "    s: \"input_1\"\n",
      "  }\n",
      "}\n",
      "attr {\n",
      "  key: \"dtype\"\n",
      "  value {\n",
      "    type: DT_FLOAT\n",
      "  }\n",
      "}\n",
      "attr {\n",
      "  key: \"shape\"\n",
      "  value {\n",
      "    shape {\n",
      "      dim {\n",
      "        size: -1\n",
      "      }\n",
      "      dim {\n",
      "        size: 64\n",
      "      }\n",
      "      dim {\n",
      "        size: 112\n",
      "      }\n",
      "      dim {\n",
      "        size: 112\n",
      "      }\n",
      "      dim {\n",
      "        size: 3\n",
      "      }\n",
      "    }\n",
      "  }\n",
      "}\n",
      "\n",
      "++++++++++++++++++++++++++++++++++++++++++++++++++++++++++++++++++++++++++++++++\n",
      "inputs: () outputs: [<tf.Tensor 'unknown:0' shape=() dtype=resource>] type: Placeholder values: <bound method Operation.values of <tf.Operation 'unknown' type=Placeholder>>\n",
      "--------------------------------------------------------------------------------\n",
      "name: \"unknown\"\n",
      "op: \"Placeholder\"\n",
      "attr {\n",
      "  key: \"dtype\"\n",
      "  value {\n",
      "    type: DT_RESOURCE\n",
      "  }\n",
      "}\n",
      "attr {\n",
      "  key: \"shape\"\n",
      "  value {\n",
      "    shape {\n",
      "    }\n",
      "  }\n",
      "}\n",
      "\n",
      "++++++++++++++++++++++++++++++++++++++++++++++++++++++++++++++++++++++++++++++++\n",
      "********************************************************************************\n",
      "inputs: (<tf.Tensor 'StatefulPartitionedCall:0' shape=(None, 64, 32) dtype=float32>,) outputs: [<tf.Tensor 'Identity:0' shape=(None, 64, 32) dtype=float32>] type: Identity values: <bound method Operation.values of <tf.Operation 'Identity' type=Identity>>\n",
      "--------------------------------------------------------------------------------\n",
      "name: \"Identity\"\n",
      "op: \"Identity\"\n",
      "input: \"StatefulPartitionedCall:0\"\n",
      "input: \"^NoOp\"\n",
      "attr {\n",
      "  key: \"T\"\n",
      "  value {\n",
      "    type: DT_FLOAT\n",
      "  }\n",
      "}\n",
      "experimental_debug_info {\n",
      "  original_node_names: \"Identity\"\n",
      "}\n",
      "\n",
      "++++++++++++++++++++++++++++++++++++++++++++++++++++++++++++++++++++++++++++++++\n",
      "inputs: (<tf.Tensor 'StatefulPartitionedCall:1' shape=(None, 64, 1) dtype=float32>,) outputs: [<tf.Tensor 'Identity_1:0' shape=(None, 64, 1) dtype=float32>] type: Identity values: <bound method Operation.values of <tf.Operation 'Identity_1' type=Identity>>\n",
      "--------------------------------------------------------------------------------\n",
      "name: \"Identity_1\"\n",
      "op: \"Identity\"\n",
      "input: \"StatefulPartitionedCall:1\"\n",
      "input: \"^NoOp\"\n",
      "attr {\n",
      "  key: \"T\"\n",
      "  value {\n",
      "    type: DT_FLOAT\n",
      "  }\n",
      "}\n",
      "experimental_debug_info {\n",
      "  original_node_names: \"Identity_1\"\n",
      "}\n",
      "\n",
      "++++++++++++++++++++++++++++++++++++++++++++++++++++++++++++++++++++++++++++++++\n"
     ]
    }
   ],
   "source": [
    "for i, op in enumerate(operations[:2] + operations[-2:]):\n",
    "    if i == 2:\n",
    "        print('*'*80)\n",
    "    print('inputs:', op.inputs, 'outputs:', op.outputs, 'type:', op.type, 'values:', op.values)\n",
    "    print('-'*80)\n",
    "    print(op)\n",
    "    print('+'*80)"
   ]
  },
  {
   "cell_type": "code",
   "execution_count": 175,
   "id": "8e4d6c4f",
   "metadata": {
    "ExecuteTime": {
     "end_time": "2021-09-29T14:26:56.585740Z",
     "start_time": "2021-09-29T14:26:56.303425Z"
    }
   },
   "outputs": [
    {
     "name": "stdout",
     "output_type": "stream",
     "text": [
      "input_1\n",
      "unknown\n",
      "unknown_0\n",
      "unknown_1\n",
      "unknown_2\n",
      "unknown_3\n",
      "unknown_4\n",
      "unknown_5\n",
      "unknown_6\n",
      "unknown_7\n",
      "unknown_8\n",
      "unknown_9\n",
      "unknown_10\n",
      "unknown_11\n",
      "unknown_12\n",
      "unknown_13\n",
      "unknown_14\n",
      "unknown_15\n",
      "unknown_16\n",
      "unknown_17\n",
      "unknown_18\n",
      "unknown_19\n",
      "unknown_20\n",
      "unknown_21\n",
      "unknown_22\n",
      "unknown_23\n",
      "unknown_24\n",
      "unknown_25\n",
      "unknown_26\n",
      "unknown_27\n",
      "unknown_28\n",
      "unknown_29\n",
      "unknown_30\n",
      "unknown_31\n",
      "unknown_32\n",
      "unknown_33\n",
      "unknown_34\n",
      "unknown_35\n",
      "unknown_36\n",
      "unknown_37\n",
      "unknown_38\n",
      "unknown_39\n",
      "unknown_40\n",
      "unknown_41\n",
      "unknown_42\n",
      "unknown_43\n",
      "unknown_44\n",
      "unknown_45\n",
      "unknown_46\n",
      "unknown_47\n",
      "unknown_48\n",
      "unknown_49\n",
      "unknown_50\n",
      "unknown_51\n",
      "unknown_52\n",
      "unknown_53\n",
      "unknown_54\n",
      "unknown_55\n",
      "unknown_56\n",
      "unknown_57\n",
      "unknown_58\n",
      "unknown_59\n",
      "unknown_60\n",
      "unknown_61\n",
      "unknown_62\n",
      "unknown_63\n",
      "unknown_64\n",
      "unknown_65\n",
      "unknown_66\n",
      "unknown_67\n",
      "unknown_68\n",
      "unknown_69\n",
      "unknown_70\n",
      "unknown_71\n",
      "unknown_72\n",
      "unknown_73\n",
      "unknown_74\n",
      "unknown_75\n",
      "unknown_76\n",
      "unknown_77\n",
      "unknown_78\n",
      "unknown_79\n",
      "unknown_80\n",
      "unknown_81\n",
      "unknown_82\n",
      "unknown_83\n",
      "unknown_84\n",
      "unknown_85\n",
      "unknown_86\n",
      "unknown_87\n",
      "unknown_88\n",
      "unknown_89\n",
      "unknown_90\n",
      "unknown_91\n",
      "unknown_92\n",
      "unknown_93\n",
      "unknown_94\n",
      "unknown_95\n",
      "unknown_96\n",
      "unknown_97\n",
      "unknown_98\n",
      "unknown_99\n",
      "unknown_100\n",
      "unknown_101\n",
      "unknown_102\n",
      "unknown_103\n",
      "unknown_104\n",
      "unknown_105\n",
      "unknown_106\n",
      "unknown_107\n",
      "unknown_108\n",
      "unknown_109\n",
      "unknown_110\n",
      "unknown_111\n",
      "unknown_112\n",
      "unknown_113\n",
      "unknown_114\n",
      "unknown_115\n",
      "unknown_116\n",
      "unknown_117\n",
      "unknown_118\n",
      "unknown_119\n",
      "unknown_120\n",
      "unknown_121\n",
      "unknown_122\n",
      "unknown_123\n",
      "unknown_124\n",
      "unknown_125\n",
      "unknown_126\n",
      "unknown_127\n",
      "unknown_128\n",
      "unknown_129\n",
      "unknown_130\n",
      "unknown_131\n",
      "unknown_132\n",
      "unknown_133\n",
      "unknown_134\n",
      "unknown_135\n",
      "unknown_136\n",
      "unknown_137\n",
      "unknown_138\n",
      "unknown_139\n",
      "unknown_140\n",
      "unknown_141\n",
      "unknown_142\n",
      "unknown_143\n",
      "unknown_144\n",
      "unknown_145\n",
      "unknown_146\n",
      "unknown_147\n",
      "unknown_148\n",
      "unknown_149\n",
      "unknown_150\n",
      "unknown_151\n",
      "unknown_152\n",
      "unknown_153\n",
      "unknown_154\n",
      "unknown_155\n",
      "unknown_156\n",
      "unknown_157\n",
      "unknown_158\n",
      "unknown_159\n",
      "unknown_160\n",
      "unknown_161\n",
      "unknown_162\n",
      "unknown_163\n",
      "unknown_164\n",
      "unknown_165\n",
      "unknown_166\n",
      "unknown_167\n",
      "unknown_168\n",
      "unknown_169\n",
      "unknown_170\n",
      "unknown_171\n",
      "unknown_172\n",
      "unknown_173\n",
      "unknown_174\n",
      "unknown_175\n",
      "unknown_176\n",
      "unknown_177\n",
      "unknown_178\n",
      "unknown_179\n",
      "unknown_180\n",
      "unknown_181\n",
      "unknown_182\n",
      "unknown_183\n",
      "unknown_184\n",
      "unknown_185\n",
      "unknown_186\n",
      "unknown_187\n",
      "unknown_188\n",
      "unknown_189\n",
      "unknown_190\n",
      "unknown_191\n",
      "unknown_192\n",
      "unknown_193\n",
      "unknown_194\n",
      "unknown_195\n",
      "unknown_196\n",
      "unknown_197\n",
      "unknown_198\n",
      "unknown_199\n",
      "unknown_200\n",
      "unknown_201\n",
      "unknown_202\n",
      "unknown_203\n",
      "unknown_204\n",
      "unknown_205\n",
      "unknown_206\n",
      "unknown_207\n",
      "unknown_208\n",
      "unknown_209\n",
      "unknown_210\n",
      "unknown_211\n",
      "unknown_212\n",
      "unknown_213\n",
      "unknown_214\n",
      "unknown_215\n",
      "unknown_216\n",
      "unknown_217\n",
      "unknown_218\n",
      "unknown_219\n",
      "unknown_220\n",
      "unknown_221\n",
      "unknown_222\n",
      "unknown_223\n",
      "unknown_224\n",
      "StatefulPartitionedCall\n",
      "NoOp\n",
      "Identity\n",
      "Identity_1\n"
     ]
    }
   ],
   "source": [
    "for op in frozen_func.graph.get_operations():\n",
    "    print(op.name)"
   ]
  },
  {
   "cell_type": "code",
   "execution_count": null,
   "id": "2ffe5850",
   "metadata": {},
   "outputs": [],
   "source": [
    "## "
   ]
  },
  {
   "cell_type": "code",
   "execution_count": null,
   "id": "fa4f3249",
   "metadata": {},
   "outputs": [],
   "source": [
    "import tensorflow as tf\n",
    "from tensorflow.core.framework import types_pb2, graph_pb2, attr_value_pb2\n",
    "from tensorflow.tools.graph_transforms import TransformGraph\n",
    "from google.protobuf import text_format\n",
    "import numpy as np\n",
    "\n",
    "# object detection api input and output nodes\n",
    "input_name = \"image_tensor\"\n",
    "output_names = [\"detection_boxes\", \"detection_classes\", \"detection_scores\", \"num_detections\"]\n",
    "# Const should be float32 in object detection api during nms (see here: https://www.tensorflow.org/api_docs/cc/class/tensorflow/ops/non-max-suppression-v4.html)\n",
    "keep_fp32_node_name = [\"Postprocessor/BatchMultiClassNonMaxSuppression/MultiClassNonMaxSuppression/non_max_suppression/iou_threshold\",\n",
    "                       \"Postprocessor/BatchMultiClassNonMaxSuppression/MultiClassNonMaxSuppression/non_max_suppression/score_threshold\"]\n",
    "\n",
    "def load_graph(model_path):\n",
    "    graph = tf.Graph()\n",
    "    with graph.as_default():\n",
    "        graph_def = tf.GraphDef()\n",
    "        if model_path.endswith(\"pb\"):\n",
    "            with open(model_path, \"rb\") as f:\n",
    "                graph_def.ParseFromString(f.read())\n",
    "        else:\n",
    "            with open(model_path, \"r\") as pf:\n",
    "                text_format.Parse(pf.read(), graph_def)\n",
    "        tf.import_graph_def(graph_def, name=\"\")\n",
    "        sess = tf.Session(graph=graph)\n",
    "        return sess\n",
    "\n",
    "def rewrite_batch_norm_node_v2(node, graph_def, target_type='fp16'):\n",
    "    \"\"\"\n",
    "    Rewrite FusedBatchNorm with FusedBatchNormV2 for reserve_space_1 and reserve_space_2 in FusedBatchNorm require float32 for \n",
    "    gradient calculation (See here: https://www.tensorflow.org/api_docs/cc/class/tensorflow/ops/fused-batch-norm)\n",
    "    \"\"\"\n",
    "    if target_type == 'fp16':\n",
    "        dtype = types_pb2.DT_HALF\n",
    "    elif target_type == 'fp64':\n",
    "        dtype = types_pb2.DT_DOUBLE\n",
    "    else:\n",
    "        dtype = types_pb2.DT_FLOAT\n",
    "    new_node = graph_def.node.add()\n",
    "    new_node.op = \"FusedBatchNormV2\"\n",
    "    new_node.name = node.name\n",
    "    new_node.input.extend(node.input)\n",
    "    new_node.attr[\"U\"].CopyFrom(attr_value_pb2.AttrValue(type=types_pb2.DT_FLOAT))\n",
    "    for attr in list(node.attr.keys()):\n",
    "        if attr == \"T\":\n",
    "            node.attr[attr].type = dtype\n",
    "        new_node.attr[attr].CopyFrom(node.attr[attr])\n",
    "    print(\"rewrite fused_batch_norm done!\")\n",
    "\n",
    "def convert_graph_to_fp16(model_path, save_path, name, as_text=False, target_type='fp16', input_name=None, output_names=None):\n",
    "    if target_type == 'fp16':\n",
    "        dtype = types_pb2.DT_HALF\n",
    "    elif target_type == 'fp64':\n",
    "        dtype = types_pb2.DT_DOUBLE\n",
    "    else:\n",
    "        dtype = types_pb2.DT_FLOAT\n",
    "    source_sess = load_graph(model_path)\n",
    "    source_graph_def = source_sess.graph.as_graph_def()\n",
    "    target_graph_def = graph_pb2.GraphDef()\n",
    "    target_graph_def.versions.CopyFrom(source_graph_def.versions)\n",
    "    for node in source_graph_def.node:\n",
    "        # fused batch norm node\n",
    "        if node.op == \"FusedBatchNorm\":\n",
    "            rewrite_batch_norm_node_v2(node, target_graph_def, target_type=target_type)\n",
    "            continue\n",
    "        # replicate node\n",
    "        new_node = target_graph_def.node.add()\n",
    "        new_node.op = node.op\n",
    "        new_node.name = node.name\n",
    "        new_node.input.extend(node.input)\n",
    "        attrs = list(node.attr.keys())\n",
    "        # keep batch norm params node\n",
    "        if (\"BatchNorm\" in node.name) or ('batch_normalization' in node.name):\n",
    "            for attr in attrs:\n",
    "                new_node.attr[attr].CopyFrom(node.attr[attr])\n",
    "            continue\n",
    "        # replace dtype in node attr with target dtype\n",
    "        for attr in attrs:\n",
    "            # keep special node in fp32\n",
    "            if node.name in keep_fp32_node_name:\n",
    "                new_node.attr[attr].CopyFrom(node.attr[attr])\n",
    "                continue\n",
    "            if node.attr[attr].type == types_pb2.DT_FLOAT:\n",
    "                # modify node dtype\n",
    "                new_node.attr[attr].type = dtype\n",
    "            if attr == \"value\":\n",
    "                tensor = node.attr[attr].tensor\n",
    "                if tensor.dtype == types_pb2.DT_FLOAT:\n",
    "                    # if float_val exists\n",
    "                    if tensor.float_val:\n",
    "                        float_val = tf.make_ndarray(node.attr[attr].tensor)\n",
    "                        new_node.attr[attr].tensor.CopyFrom(tf.make_tensor_proto(float_val, dtype=dtype))\n",
    "                        continue\n",
    "                    # if tensor content exists\n",
    "                    if tensor.tensor_content:\n",
    "                        tensor_shape = [x.size for x in tensor.tensor_shape.dim]\n",
    "                        tensor_weights = tf.make_ndarray(tensor)\n",
    "                        # reshape tensor\n",
    "                        tensor_weights = np.reshape(tensor_weights, tensor_shape)\n",
    "                        tensor_proto = tf.make_tensor_proto(tensor_weights, dtype=dtype)\n",
    "                        new_node.attr[attr].tensor.CopyFrom(tensor_proto)\n",
    "                        continue\n",
    "            new_node.attr[attr].CopyFrom(node.attr[attr])\n",
    "    # transform graph\n",
    "    if output_names:\n",
    "        if not input_name:\n",
    "            input_name = []\n",
    "        transforms = [\"strip_unused_nodes\"]\n",
    "        target_graph_def = TransformGraph(target_graph_def, input_name, output_names, transforms)\n",
    "    # write graph_def to model\n",
    "    tf.io.write_graph(target_graph_def, logdir=save_path, name=name, as_text=as_text)\n",
    "    print(\"Converting done ...\")\n",
    "\n",
    "save_path = \"test\"\n",
    "name = \"test.pb\"\n",
    "as_text = False\n",
    "target_type = 'fp16'\n",
    "convert_graph_to_fp16(model_path, save_path, name, as_text=as_text, target_type=target_type, input_name=input_name, output_names=output_names)\n",
    "# test loading\n",
    "# ISSUE: loading detection model is extremely slow while loading classification model is normal\n",
    "sess = load_graph(save_path+\"/\"+name)"
   ]
  },
  {
   "cell_type": "markdown",
   "id": "b4c3e4c9",
   "metadata": {},
   "source": [
    "## References"
   ]
  },
  {
   "cell_type": "markdown",
   "id": "2ae3b357",
   "metadata": {},
   "source": [
    "- [post-training-quantization-of-tensorflow-model-to-fp16][1]\n",
    "- [tf.compat.v1.wrap_function][2]\n",
    "\n",
    "\n",
    "[2]: https://tensorflow.google.cn/api_docs/python/tf/compat/v1/wrap_function\n",
    "[1]: https://medium.com/@fanzongshaoxing/post-training-quantization-of-tensorflow-model-to-fp16-8d66b9dfa77f"
   ]
  }
 ],
 "metadata": {
  "hide_input": false,
  "kernelspec": {
   "display_name": "Python 3",
   "language": "python",
   "name": "python3"
  },
  "language_info": {
   "codemirror_mode": {
    "name": "ipython",
    "version": 3
   },
   "file_extension": ".py",
   "mimetype": "text/x-python",
   "name": "python",
   "nbconvert_exporter": "python",
   "pygments_lexer": "ipython3",
   "version": "3.6.9"
  },
  "toc": {
   "base_numbering": 1,
   "nav_menu": {},
   "number_sections": true,
   "sideBar": true,
   "skip_h1_title": true,
   "title_cell": "",
   "title_sidebar": "Contents",
   "toc_cell": false,
   "toc_position": {},
   "toc_section_display": true,
   "toc_window_display": false
  }
 },
 "nbformat": 4,
 "nbformat_minor": 5
}
