{
 "cells": [
  {
   "cell_type": "code",
   "execution_count": 1,
   "metadata": {
    "ExecuteTime": {
     "end_time": "2021-08-24T09:22:46.130259Z",
     "start_time": "2021-08-24T09:22:43.809277Z"
    }
   },
   "outputs": [
    {
     "name": "stdout",
     "output_type": "stream",
     "text": [
      "CPython 3.6.9\n",
      "IPython 7.16.1\n",
      "\n",
      "numpy 1.19.4\n",
      "sklearn 0.24.0\n",
      "pandas 1.1.5\n",
      "CPython 3.6.9\n",
      "IPython 7.16.1\n",
      "\n",
      "cv2 4.5.1\n",
      "PIL 6.2.2\n",
      "matplotlib 3.3.3\n",
      "CPython 3.6.9\n",
      "IPython 7.16.1\n",
      "\n",
      "torch 1.8.0.dev20210103+cu101\n",
      "torchvision 0.9.0.dev20210103+cu101\n",
      "torchaudio not installed\n",
      "pytorch_lightning 1.2.0\n"
     ]
    },
    {
     "data": {
      "text/html": [
       "<style>.container { width:90% !important; }</style>"
      ],
      "text/plain": [
       "<IPython.core.display.HTML object>"
      ]
     },
     "metadata": {},
     "output_type": "display_data"
    }
   ],
   "source": [
    "%reload_ext watermark\n",
    "%reload_ext autoreload\n",
    "%autoreload 2\n",
    "%watermark -v -p numpy,sklearn,pandas\n",
    "%watermark -v -p cv2,PIL,matplotlib\n",
    "%watermark -v -p torch,torchvision,torchaudio,pytorch_lightning\n",
    "%matplotlib inline\n",
    "%config InlineBackend.figure_format='retina'\n",
    "%config IPCompleter.use_jedi = False\n",
    "\n",
    "from IPython.display import display, HTML, Javascript\n",
    "display(HTML('<style>.container { width:%d%% !important; }</style>' % 90))\n",
    "\n",
    "def _IMPORT_(x):\n",
    "    try:\n",
    "        exec(x, globals())\n",
    "    except:\n",
    "        pass\n"
   ]
  },
  {
   "cell_type": "code",
   "execution_count": 13,
   "metadata": {
    "ExecuteTime": {
     "end_time": "2021-08-24T09:30:13.018360Z",
     "start_time": "2021-08-24T09:30:12.982784Z"
    }
   },
   "outputs": [],
   "source": [
    "import tensorflow as tf\n",
    "\n",
    "# tf.config.list_physical_devices()"
   ]
  },
  {
   "cell_type": "code",
   "execution_count": 11,
   "metadata": {
    "ExecuteTime": {
     "end_time": "2021-08-24T09:28:17.657111Z",
     "start_time": "2021-08-24T09:28:17.607424Z"
    }
   },
   "outputs": [
    {
     "ename": "AttributeError",
     "evalue": "module 'tensorflow' has no attribute 'contrib'",
     "output_type": "error",
     "traceback": [
      "\u001b[0;31m\u001b[0m",
      "\u001b[0;31mAttributeError\u001b[0mTraceback (most recent call last)",
      "\u001b[0;32m<ipython-input-11-a42353490d4f>\u001b[0m in \u001b[0;36m<module>\u001b[0;34m\u001b[0m\n\u001b[0;32m----> 1\u001b[0;31m \u001b[0mtf\u001b[0m\u001b[0;34m.\u001b[0m\u001b[0mcontrib\u001b[0m\u001b[0;34m.\u001b[0m\u001b[0mkeras\u001b[0m\u001b[0;34m.\u001b[0m\u001b[0mmodels\u001b[0m\u001b[0;34m.\u001b[0m\u001b[0mSequential\u001b[0m\u001b[0;34m(\u001b[0m\u001b[0;34m)\u001b[0m\u001b[0;34m\u001b[0m\u001b[0;34m\u001b[0m\u001b[0m\n\u001b[0m",
      "\u001b[0;31mAttributeError\u001b[0m: module 'tensorflow' has no attribute 'contrib'"
     ]
    }
   ],
   "source": [
    "tf.contrib.keras.models.Sequential()"
   ]
  },
  {
   "cell_type": "code",
   "execution_count": 12,
   "metadata": {
    "ExecuteTime": {
     "end_time": "2021-08-24T09:30:07.838936Z",
     "start_time": "2021-08-24T09:30:07.794636Z"
    }
   },
   "outputs": [
    {
     "ename": "AttributeError",
     "evalue": "module 'tensorflow' has no attribute '__version__'",
     "output_type": "error",
     "traceback": [
      "\u001b[0;31m\u001b[0m",
      "\u001b[0;31mAttributeError\u001b[0mTraceback (most recent call last)",
      "\u001b[0;32m<ipython-input-12-65996cac02ec>\u001b[0m in \u001b[0;36m<module>\u001b[0;34m\u001b[0m\n\u001b[0;32m----> 1\u001b[0;31m \u001b[0mtf\u001b[0m\u001b[0;34m.\u001b[0m\u001b[0m__version__\u001b[0m\u001b[0;34m\u001b[0m\u001b[0;34m\u001b[0m\u001b[0m\n\u001b[0m",
      "\u001b[0;31mAttributeError\u001b[0m: module 'tensorflow' has no attribute '__version__'"
     ]
    }
   ],
   "source": [
    "tf."
   ]
  },
  {
   "cell_type": "markdown",
   "metadata": {
    "heading_collapsed": true
   },
   "source": [
    "## AAA"
   ]
  },
  {
   "cell_type": "code",
   "execution_count": 4,
   "metadata": {
    "ExecuteTime": {
     "end_time": "2021-08-24T09:24:30.326936Z",
     "start_time": "2021-08-24T09:24:30.016871Z"
    },
    "colab": {
     "base_uri": "https://localhost:8080/"
    },
    "hidden": true,
    "id": "76L5XFonl_Bw",
    "outputId": "e6e2032e-3b45-4c00-a85a-46ec53d53bbc"
   },
   "outputs": [
    {
     "ename": "AttributeError",
     "evalue": "module 'tensorflow' has no attribute 'keras'",
     "output_type": "error",
     "traceback": [
      "\u001b[0;31m\u001b[0m",
      "\u001b[0;31mAttributeError\u001b[0mTraceback (most recent call last)",
      "\u001b[0;32m<ipython-input-4-1db0678cf016>\u001b[0m in \u001b[0;36m<module>\u001b[0;34m\u001b[0m\n\u001b[1;32m     31\u001b[0m \u001b[0;34m\u001b[0m\u001b[0m\n\u001b[1;32m     32\u001b[0m \u001b[0;31m# Model definition\u001b[0m\u001b[0;34m\u001b[0m\u001b[0;34m\u001b[0m\u001b[0;34m\u001b[0m\u001b[0m\n\u001b[0;32m---> 33\u001b[0;31m \u001b[0mlayers\u001b[0m \u001b[0;34m=\u001b[0m \u001b[0mtf\u001b[0m\u001b[0;34m.\u001b[0m\u001b[0mkeras\u001b[0m\u001b[0;34m.\u001b[0m\u001b[0mlayers\u001b[0m\u001b[0;34m\u001b[0m\u001b[0;34m\u001b[0m\u001b[0m\n\u001b[0m\u001b[1;32m     34\u001b[0m \u001b[0mregularizers\u001b[0m \u001b[0;34m=\u001b[0m \u001b[0mtf\u001b[0m\u001b[0;34m.\u001b[0m\u001b[0mkeras\u001b[0m\u001b[0;34m.\u001b[0m\u001b[0mregularizers\u001b[0m\u001b[0;34m\u001b[0m\u001b[0;34m\u001b[0m\u001b[0m\n\u001b[1;32m     35\u001b[0m \u001b[0;34m\u001b[0m\u001b[0m\n",
      "\u001b[0;31mAttributeError\u001b[0m: module 'tensorflow' has no attribute 'keras'"
     ]
    }
   ],
   "source": [
    "#@title\n",
    "\n",
    "import base64\n",
    "import io\n",
    "import os\n",
    "import time\n",
    "\n",
    "import cv2\n",
    "\n",
    "from IPython.display import display\n",
    "from IPython.display import HTML\n",
    "from IPython.display import Javascript\n",
    "\n",
    "import matplotlib\n",
    "from matplotlib.animation import FuncAnimation\n",
    "import matplotlib.pyplot as plt\n",
    "\n",
    "import numpy as np\n",
    "from PIL import Image\n",
    "from scipy.signal import medfilt\n",
    "\n",
    "# import tensorflow.compat.v2 as tf\n",
    "import tensorflow as tf\n",
    "\n",
    "# ! pip install youtube_dl\n",
    "# import youtube_dl\n",
    "\n",
    "# from google.colab import drive\n",
    "# from google.colab import output\n",
    "# from google.colab.output import eval_js\n",
    "\n",
    "# Model definition\n",
    "layers = tf.keras.layers\n",
    "regularizers = tf.keras.regularizers\n",
    "\n",
    "\n",
    "class ResnetPeriodEstimator(tf.keras.models.Model):\n",
    "  \"\"\"RepNet model.\"\"\"\n",
    "\n",
    "  def __init__(\n",
    "      self,\n",
    "      num_frames=64,\n",
    "      image_size=112,\n",
    "      base_model_layer_name='conv4_block3_out',\n",
    "      temperature=13.544,\n",
    "      dropout_rate=0.25,\n",
    "      l2_reg_weight=1e-6,\n",
    "      temporal_conv_channels=512,\n",
    "      temporal_conv_kernel_size=3,\n",
    "      temporal_conv_dilation_rate=3,\n",
    "      conv_channels=32,\n",
    "      conv_kernel_size=3,\n",
    "      transformer_layers_config=((512, 4, 512),),\n",
    "      transformer_dropout_rate=0.0,\n",
    "      transformer_reorder_ln=True,\n",
    "      period_fc_channels=(512, 512),\n",
    "      within_period_fc_channels=(512, 512)):\n",
    "    super(ResnetPeriodEstimator, self).__init__()\n",
    "\n",
    "    # Model params.\n",
    "    self.num_frames = num_frames\n",
    "    self.image_size = image_size\n",
    "\n",
    "    self.base_model_layer_name = base_model_layer_name\n",
    "\n",
    "    self.temperature = temperature\n",
    "\n",
    "    self.dropout_rate = dropout_rate\n",
    "    self.l2_reg_weight = l2_reg_weight\n",
    "\n",
    "    self.temporal_conv_channels = temporal_conv_channels\n",
    "    self.temporal_conv_kernel_size = temporal_conv_kernel_size\n",
    "    self.temporal_conv_dilation_rate = temporal_conv_dilation_rate\n",
    "\n",
    "    self.conv_channels = conv_channels\n",
    "    self.conv_kernel_size = conv_kernel_size\n",
    "    # Transformer config in form of (channels, heads, bottleneck channels).\n",
    "    self.transformer_layers_config = transformer_layers_config\n",
    "    self.transformer_dropout_rate = transformer_dropout_rate\n",
    "    self.transformer_reorder_ln = transformer_reorder_ln\n",
    "\n",
    "    self.period_fc_channels = period_fc_channels\n",
    "    self.within_period_fc_channels = within_period_fc_channels\n",
    "\n",
    "    # Base ResNet50 Model.\n",
    "    base_model = tf.keras.applications.ResNet50V2(\n",
    "        include_top=False, weights=None, pooling='max')\n",
    "    self.base_model = tf.keras.models.Model(\n",
    "        inputs=base_model.input,\n",
    "        outputs=base_model.get_layer(self.base_model_layer_name).output)\n",
    "\n",
    "    # 3D Conv on k Frames\n",
    "    self.temporal_conv_layers = [\n",
    "        layers.Conv3D(self.temporal_conv_channels,\n",
    "                      self.temporal_conv_kernel_size,\n",
    "                      padding='same',\n",
    "                      dilation_rate=(self.temporal_conv_dilation_rate, 1, 1),\n",
    "                      kernel_regularizer=regularizers.l2(self.l2_reg_weight),\n",
    "                      kernel_initializer='he_normal')]\n",
    "    self.temporal_bn_layers = [layers.BatchNormalization()\n",
    "                               for _ in self.temporal_conv_layers]\n",
    "\n",
    "    # Counting Module (Self-sim > Conv > Transformer > Classifier)\n",
    "    self.conv_3x3_layer = layers.Conv2D(self.conv_channels,\n",
    "                                        self.conv_kernel_size,\n",
    "                                        padding='same',\n",
    "                                        activation=tf.nn.relu)\n",
    "\n",
    "    channels = self.transformer_layers_config[0][0]\n",
    "    self.input_projection = layers.Dense(\n",
    "        channels, kernel_regularizer=regularizers.l2(self.l2_reg_weight),\n",
    "        activation=None)\n",
    "    self.input_projection2 = layers.Dense(\n",
    "        channels, kernel_regularizer=regularizers.l2(self.l2_reg_weight),\n",
    "        activation=None)\n",
    "\n",
    "    length = self.num_frames\n",
    "    self.pos_encoding = tf.compat.v1.get_variable(\n",
    "        name='resnet_period_estimator/pos_encoding',\n",
    "        shape=[1, length, 1],\n",
    "        initializer=tf.compat.v1.truncated_normal_initializer(stddev=0.02))\n",
    "    self.pos_encoding2 = tf.compat.v1.get_variable(\n",
    "        name='resnet_period_estimator/pos_encoding2',\n",
    "        shape=[1, length, 1],\n",
    "        initializer=tf.compat.v1.truncated_normal_initializer(stddev=0.02))\n",
    "\n",
    "    self.transformer_layers = []\n",
    "    for d_model, num_heads, dff in self.transformer_layers_config:\n",
    "      self.transformer_layers.append(\n",
    "          TransformerLayer(d_model, num_heads, dff,\n",
    "                           self.transformer_dropout_rate,\n",
    "                           self.transformer_reorder_ln))\n",
    "\n",
    "    self.transformer_layers2 = []\n",
    "    for d_model, num_heads, dff in self.transformer_layers_config:\n",
    "      self.transformer_layers2.append(\n",
    "          TransformerLayer(d_model, num_heads, dff,\n",
    "                           self.transformer_dropout_rate,\n",
    "                           self.transformer_reorder_ln))\n",
    "\n",
    "    # Period Prediction Module.\n",
    "    self.dropout_layer = layers.Dropout(self.dropout_rate)\n",
    "    num_preds = self.num_frames//2\n",
    "    self.fc_layers = []\n",
    "    for channels in self.period_fc_channels:\n",
    "      self.fc_layers.append(layers.Dense(\n",
    "          channels, kernel_regularizer=regularizers.l2(self.l2_reg_weight),\n",
    "          activation=tf.nn.relu))\n",
    "    self.fc_layers.append(layers.Dense(\n",
    "        num_preds, kernel_regularizer=regularizers.l2(self.l2_reg_weight)))\n",
    "\n",
    "    # Within Period Module\n",
    "    num_preds = 1\n",
    "    self.within_period_fc_layers = []\n",
    "    for channels in self.within_period_fc_channels:\n",
    "      self.within_period_fc_layers.append(layers.Dense(\n",
    "          channels, kernel_regularizer=regularizers.l2(self.l2_reg_weight),\n",
    "          activation=tf.nn.relu))\n",
    "    self.within_period_fc_layers.append(layers.Dense(\n",
    "        num_preds, kernel_regularizer=regularizers.l2(self.l2_reg_weight)))\n",
    "\n",
    "  def call(self, x):\n",
    "    # Ensures we are always using the right batch_size during train/eval.\n",
    "    batch_size = tf.shape(x)[0]\n",
    "    # Conv Feature Extractor.\n",
    "    x = tf.reshape(x, [-1, self.image_size, self.image_size, 3])\n",
    "    x = self.base_model(x)\n",
    "    h = tf.shape(x)[1]\n",
    "    w = tf.shape(x)[2]\n",
    "    c = tf.shape(x)[3]\n",
    "    x = tf.reshape(x, [batch_size, -1, h, w, c])\n",
    "\n",
    "    # 3D Conv to give temporal context to per-frame embeddings. \n",
    "    for bn_layer, conv_layer in zip(self.temporal_bn_layers,\n",
    "                                    self.temporal_conv_layers):\n",
    "      x = conv_layer(x)\n",
    "      x = bn_layer(x)\n",
    "      x = tf.nn.relu(x)\n",
    "\n",
    "    x = tf.reduce_max(x, [2, 3])\n",
    "\n",
    "    # Reshape and prepare embs for output.\n",
    "    final_embs = x\n",
    "\n",
    "    # Get self-similarity matrix.\n",
    "    x = get_sims(x, self.temperature)\n",
    "\n",
    "    # 3x3 conv layer on self-similarity matrix.\n",
    "    x = self.conv_3x3_layer(x)\n",
    "    x = tf.reshape(x, [batch_size, self.num_frames, -1])\n",
    "    within_period_x = x\n",
    "\n",
    "    # Period prediction.\n",
    "    x = self.input_projection(x)\n",
    "    x += self.pos_encoding\n",
    "    for transformer_layer in self.transformer_layers:\n",
    "      x = transformer_layer(x)\n",
    "    x = flatten_sequential_feats(x, batch_size, self.num_frames)\n",
    "    for fc_layer in self.fc_layers:\n",
    "      x = self.dropout_layer(x)\n",
    "      x = fc_layer(x)\n",
    "\n",
    "    # Within period prediction.\n",
    "    within_period_x = self.input_projection2(within_period_x)\n",
    "    within_period_x += self.pos_encoding2\n",
    "    for transformer_layer in self.transformer_layers2:\n",
    "      within_period_x = transformer_layer(within_period_x)\n",
    "    within_period_x = flatten_sequential_feats(within_period_x,\n",
    "                                               batch_size,\n",
    "                                               self.num_frames)\n",
    "    for fc_layer in self.within_period_fc_layers:\n",
    "      within_period_x = self.dropout_layer(within_period_x)\n",
    "      within_period_x = fc_layer(within_period_x)\n",
    "\n",
    "    return x, within_period_x, final_embs\n",
    "\n",
    "  @tf.function\n",
    "  def preprocess(self, imgs):\n",
    "    imgs = tf.cast(imgs, tf.float32)\n",
    "    imgs -= 127.5\n",
    "    imgs /= 127.5\n",
    "    imgs = tf.image.resize(imgs, (self.image_size, self.image_size))\n",
    "    return imgs\n",
    "\n",
    "\n",
    "def get_sims(embs, temperature):\n",
    "  \"\"\"Calculates self-similarity between batch of sequence of embeddings.\"\"\"\n",
    "  batch_size = tf.shape(embs)[0]\n",
    "  seq_len = tf.shape(embs)[1]\n",
    "  embs = tf.reshape(embs, [batch_size, seq_len, -1])\n",
    "\n",
    "  def _get_sims(embs):\n",
    "    \"\"\"Calculates self-similarity between sequence of embeddings.\"\"\"\n",
    "    dist = pairwise_l2_distance(embs, embs)\n",
    "    sims = -1.0 * dist\n",
    "    return sims\n",
    "\n",
    "  sims = tf.map_fn(_get_sims, embs)\n",
    "  sims /= temperature\n",
    "  sims = tf.nn.softmax(sims, axis=-1)\n",
    "  sims = tf.expand_dims(sims, -1)\n",
    "  return sims\n",
    "\n",
    "\n",
    "def flatten_sequential_feats(x, batch_size, seq_len):\n",
    "  \"\"\"Flattens sequential features with known batch size and seq_len.\"\"\"\n",
    "  x = tf.reshape(x, [batch_size, seq_len, -1])\n",
    "  return x\n",
    "\n",
    "\n",
    "# Transformer from https://www.tensorflow.org/tutorials/text/transformer .\n",
    "def scaled_dot_product_attention(q, k, v, mask):\n",
    "  \"\"\"Calculate the attention weights.\n",
    "\n",
    "  q, k, v must have matching leading dimensions.\n",
    "  k, v must have matching penultimate dimension, i.e.: seq_len_k = seq_len_v.\n",
    "  The mask has different shapes depending on its type(padding or look ahead)\n",
    "  but it must be broadcastable for addition.\n",
    "\n",
    "  Args:\n",
    "    q: query shape == (..., seq_len_q, depth)\n",
    "    k: key shape == (..., seq_len_k, depth)\n",
    "    v: value shape == (..., seq_len_v, depth_v)\n",
    "    mask: Float tensor with shape broadcastable\n",
    "          to (..., seq_len_q, seq_len_k). Defaults to None.\n",
    "\n",
    "  Returns:\n",
    "    outputs: shape == (..., seq_len_q, depth_v)\n",
    "    attention_weights: shape == (..., seq_len_q, seq_len_k)\n",
    "  \"\"\"\n",
    "\n",
    "  matmul_qk = tf.matmul(q, k, transpose_b=True)  # (..., seq_len_q, seq_len_k)\n",
    "\n",
    "  # scale matmul_qk.\n",
    "  dk = tf.cast(tf.shape(k)[-1], tf.float32)\n",
    "  scaled_attention_logits = matmul_qk / tf.math.sqrt(dk)\n",
    "\n",
    "  # add the mask to the scaled tensor.\n",
    "  if mask is not None:\n",
    "    scaled_attention_logits += (mask * -1e9)\n",
    "\n",
    "  # softmax is normalized on the last axis (seq_len_k) so that the scores\n",
    "  # add up to 1.\n",
    "  # (..., seq_len_q, seq_len_k)\n",
    "  attention_weights = tf.nn.softmax(scaled_attention_logits, axis=-1)\n",
    "\n",
    "  outputs = tf.matmul(attention_weights, v)  # (..., seq_len_q, depth_v)\n",
    "\n",
    "  return outputs, attention_weights\n",
    "\n",
    "\n",
    "def point_wise_feed_forward_network(d_model, dff):\n",
    "  return tf.keras.Sequential([\n",
    "      tf.keras.layers.Dense(dff, activation='relu'),\n",
    "      tf.keras.layers.Dense(d_model)\n",
    "  ])\n",
    "\n",
    "\n",
    "class MultiHeadAttention(tf.keras.layers.Layer):\n",
    "  \"\"\"Multi-headed attention layer.\"\"\"\n",
    "\n",
    "  def __init__(self, d_model, num_heads):\n",
    "    super(MultiHeadAttention, self).__init__()\n",
    "    self.num_heads = num_heads\n",
    "    self.d_model = d_model\n",
    "\n",
    "    assert d_model % self.num_heads == 0\n",
    "\n",
    "    self.depth = d_model // self.num_heads\n",
    "\n",
    "    self.wq = tf.keras.layers.Dense(d_model)\n",
    "    self.wk = tf.keras.layers.Dense(d_model)\n",
    "    self.wv = tf.keras.layers.Dense(d_model)\n",
    "\n",
    "    self.dense = tf.keras.layers.Dense(d_model)\n",
    "\n",
    "  def split_heads(self, x, batch_size):\n",
    "    \"\"\"Split the last dimension into (num_heads, depth).\"\"\"\n",
    "    x = tf.reshape(x, (batch_size, -1, self.num_heads, self.depth))\n",
    "    return tf.transpose(x, perm=[0, 2, 1, 3])\n",
    "\n",
    "  def call(self, v, k, q, mask):\n",
    "    batch_size = tf.shape(q)[0]\n",
    "\n",
    "    q = self.wq(q)  # (batch_size, seq_len, d_model)\n",
    "    k = self.wk(k)  # (batch_size, seq_len, d_model)\n",
    "    v = self.wv(v)  # (batch_size, seq_len, d_model)\n",
    "\n",
    "    q = self.split_heads(\n",
    "        q, batch_size)  # (batch_size, num_heads, seq_len_q, depth)\n",
    "    k = self.split_heads(\n",
    "        k, batch_size)  # (batch_size, num_heads, seq_len_k, depth)\n",
    "    v = self.split_heads(\n",
    "        v, batch_size)  # (batch_size, num_heads, seq_len_v, depth)\n",
    "\n",
    "    # scaled_attention.shape == (batch_size, num_heads, seq_len_q, depth)\n",
    "    # attention_weights.shape == (batch_size, num_heads, seq_len_q, seq_len_k)\n",
    "    scaled_attention, attention_weights = scaled_dot_product_attention(\n",
    "        q, k, v, mask)\n",
    "\n",
    "    scaled_attention = tf.transpose(\n",
    "        scaled_attention,\n",
    "        perm=[0, 2, 1, 3])  # (batch_size, seq_len_q, num_heads, depth)\n",
    "\n",
    "    concat_attention = tf.reshape(\n",
    "        scaled_attention,\n",
    "        (batch_size, -1, self.d_model))  # (batch_size, seq_len_q, d_model)\n",
    "\n",
    "    outputs = self.dense(concat_attention)  # (batch_size, seq_len_q, d_model)\n",
    "\n",
    "    return outputs, attention_weights\n",
    "\n",
    "\n",
    "class TransformerLayer(tf.keras.layers.Layer):\n",
    "  \"\"\"Implements a single transformer layer (https://arxiv.org/abs/1706.03762).\n",
    "  \"\"\"\n",
    "\n",
    "  def __init__(self, d_model, num_heads, dff,\n",
    "               dropout_rate=0.1,\n",
    "               reorder_ln=False):\n",
    "    super(TransformerLayer, self).__init__()\n",
    "\n",
    "    self.mha = MultiHeadAttention(d_model, num_heads)\n",
    "    self.ffn = point_wise_feed_forward_network(d_model, dff)\n",
    "\n",
    "    self.layernorm1 = tf.keras.layers.LayerNormalization(epsilon=1e-6)\n",
    "    self.layernorm2 = tf.keras.layers.LayerNormalization(epsilon=1e-6)\n",
    "\n",
    "    self.dropout1 = tf.keras.layers.Dropout(dropout_rate)\n",
    "    self.dropout2 = tf.keras.layers.Dropout(dropout_rate)\n",
    "\n",
    "    self.reorder_ln = reorder_ln\n",
    "\n",
    "  def call(self, x):\n",
    "    inp_x = x\n",
    "\n",
    "    if self.reorder_ln:\n",
    "      x = self.layernorm1(x)\n",
    "\n",
    "    # (batch_size, input_seq_len, d_model)\n",
    "    attn_output, _ = self.mha(x, x, x, mask=None)\n",
    "    attn_output = self.dropout1(attn_output)\n",
    "\n",
    "    if self.reorder_ln:\n",
    "      out1 = inp_x + attn_output\n",
    "      x = out1\n",
    "    else:\n",
    "      # (batch_size, input_seq_len, d_model)\n",
    "      out1 = self.layernorm1(x + attn_output)\n",
    "      x = out1\n",
    "\n",
    "    if self.reorder_ln:\n",
    "      x = self.layernorm2(x)\n",
    "\n",
    "    # (batch_size, input_seq_len, d_model)\n",
    "    ffn_output = self.ffn(x)\n",
    "    ffn_output = self.dropout2(ffn_output)\n",
    "\n",
    "    if self.reorder_ln:\n",
    "      out2 = out1 + ffn_output\n",
    "    else:\n",
    "      # (batch_size, input_seq_len, d_model)\n",
    "      out2 = self.layernorm2(out1 + ffn_output)\n",
    "\n",
    "    return out2\n",
    "\n",
    "\n",
    "def pairwise_l2_distance(a, b):\n",
    "  \"\"\"Computes pairwise distances between all rows of a and all rows of b.\"\"\"\n",
    "  norm_a = tf.reduce_sum(tf.square(a), 1)\n",
    "  norm_a = tf.reshape(norm_a, [-1, 1])\n",
    "  norm_b = tf.reduce_sum(tf.square(b), 1)\n",
    "  norm_b = tf.reshape(norm_b, [1, -1])\n",
    "  dist = tf.maximum(norm_a - 2.0 * tf.matmul(a, b, False, True) + norm_b, 0.0)\n",
    "  return dist\n",
    "\n",
    "\n",
    "def get_repnet_model(logdir):\n",
    "  \"\"\"Returns a trained RepNet model.\n",
    "\n",
    "  Args:\n",
    "    logdir (string): Path to directory where checkpoint will be downloaded.\n",
    "\n",
    "  Returns:\n",
    "    model (Keras model): Trained RepNet model.\n",
    "  \"\"\"\n",
    "  # Check if we are in eager mode.\n",
    "  assert tf.executing_eagerly()\n",
    "\n",
    "  # Models will be called in eval mode.\n",
    "  tf.keras.backend.set_learning_phase(0)\n",
    "\n",
    "  # Define RepNet model.\n",
    "  model = ResnetPeriodEstimator()\n",
    "  # tf.function for speed.\n",
    "  model.call = tf.function(model.call)\n",
    "\n",
    "  # Define checkpoint and checkpoint manager.\n",
    "  ckpt = tf.train.Checkpoint(model=model)\n",
    "  ckpt_manager = tf.train.CheckpointManager(\n",
    "      ckpt, directory=logdir, max_to_keep=10)\n",
    "  latest_ckpt = ckpt_manager.latest_checkpoint\n",
    "  print('Loading from: ', latest_ckpt)\n",
    "  if not latest_ckpt:\n",
    "    raise ValueError('Path does not have a checkpoint to load.')\n",
    "  # Restore weights.\n",
    "  ckpt.restore(latest_ckpt).expect_partial()\n",
    "\n",
    "  # Pass dummy frames to build graph.\n",
    "  model(tf.random.uniform((1, 64, 112, 112, 3)))\n",
    "  return model\n",
    "\n",
    "\n",
    "def unnorm(query_frame):\n",
    "  min_v = query_frame.min()\n",
    "  max_v = query_frame.max()\n",
    "  query_frame = (query_frame - min_v) / max(1e-7, (max_v - min_v))\n",
    "  return query_frame\n",
    "\n",
    "\n",
    "def create_count_video(frames,\n",
    "                       per_frame_counts,\n",
    "                       within_period,\n",
    "                       score,\n",
    "                       fps,\n",
    "                       output_file,\n",
    "                       delay,\n",
    "                       plot_count=True,\n",
    "                       plot_within_period=False,\n",
    "                       plot_score=False):\n",
    "  \"\"\"Creates video with running count and within period predictions.\n",
    "\n",
    "  Args:\n",
    "    frames (List): List of images in form of NumPy arrays.\n",
    "    per_frame_counts (List): List of floats indicating repetition count for\n",
    "      each frame. This is the rate of repetition for that particular frame.\n",
    "      Summing this list up gives count over entire video.\n",
    "    within_period (List): List of floats indicating score between 0 and 1 if the\n",
    "      frame is inside the periodic/repeating portion of a video or not.\n",
    "    score (float): Score between 0 and 1 indicating the confidence of the\n",
    "      RepNet model's count predictions.\n",
    "    fps (int): Frames per second of the input video. Used to scale the\n",
    "      repetition rate predictions to Hz.\n",
    "    output_file (string): Path of the output video.\n",
    "    delay (integer): Delay between each frame in the output video.\n",
    "    plot_count (boolean): if True plots the count in the output video.\n",
    "    plot_within_period (boolean): if True plots the per-frame within period\n",
    "      scores.\n",
    "    plot_score (boolean): if True plots the confidence of the model along with\n",
    "      count ot within_period scores.\n",
    "  \"\"\"\n",
    "  if output_file[-4:] not in ['.mp4', '.gif']:\n",
    "    raise ValueError('Output format can only be mp4 or gif')\n",
    "  num_frames = len(frames)\n",
    "\n",
    "  running_counts = np.cumsum(per_frame_counts)\n",
    "  final_count = running_counts[-1]\n",
    "\n",
    "  def count(idx):\n",
    "    return int(np.round(running_counts[idx]))\n",
    "\n",
    "  def rate(idx):\n",
    "    return per_frame_counts[idx] * fps\n",
    "\n",
    "  if plot_count and not plot_within_period:\n",
    "    fig = plt.figure(figsize=(10, 12), tight_layout=True)\n",
    "    im = plt.imshow(unnorm(frames[0]))\n",
    "    if plot_score:\n",
    "      plt.suptitle('Pred Count: %d, '\n",
    "                   'Prob: %0.1f' % (int(np.around(final_count)), score),\n",
    "                   fontsize=24)\n",
    "\n",
    "    plt.title('Count 0,create_count_video Rate: 0', fontsize=24)\n",
    "    plt.axis('off')\n",
    "    plt.grid(b=None)\n",
    "    def update_count_plot(i):\n",
    "      \"\"\"Updates the count plot.\"\"\"\n",
    "      im.set_data(unnorm(frames[i]))\n",
    "      plt.title('Count %d, Rate: %0.4f Hz' % (count(i), rate(i)), fontsize=24)\n",
    "\n",
    "    anim = FuncAnimation(\n",
    "        fig,\n",
    "        update_count_plot,\n",
    "        frames=np.arange(1, num_frames),\n",
    "        interval=delay,\n",
    "        blit=False)\n",
    "    if output_file[-3:] == 'mp4':\n",
    "      anim.save(output_file, dpi=100, fps=24)\n",
    "    elif output_file[-3:] == 'gif':\n",
    "      anim.save(output_file, writer='imagemagick', fps=24, dpi=100)\n",
    "\n",
    "  elif plot_within_period:\n",
    "    fig, axs = plt.subplots(1, 2, figsize=(12, 6))\n",
    "    im = axs[0].imshow(unnorm(frames[0]))\n",
    "    axs[1].plot(0, within_period[0])\n",
    "    axs[1].set_xlim((0, len(frames)))\n",
    "    axs[1].set_ylim((0, 1))\n",
    "\n",
    "    if plot_score:\n",
    "      plt.suptitle('Pred Count: %d, '\n",
    "                   'Prob: %0.1f' % (int(np.around(final_count)), score),\n",
    "                   fontsize=24)\n",
    "\n",
    "    if plot_count:\n",
    "      axs[0].set_title('Count 0, Rate: 0', fontsize=20)\n",
    "\n",
    "    plt.axis('off')\n",
    "    plt.grid(b=None)\n",
    "\n",
    "    def update_within_period_plot(i):\n",
    "      \"\"\"Updates the within period plot along with count.\"\"\"\n",
    "      im.set_data(unnorm(frames[i]))\n",
    "      axs[0].set_xticks([])\n",
    "      axs[0].set_yticks([])\n",
    "      xs = []\n",
    "      ys = []\n",
    "      if plot_count:\n",
    "        axs[0].set_title('Count %d, Rate: %0.4f Hz' % (count(i), rate(i)),\n",
    "                         fontsize=20)\n",
    "      for idx in range(i):\n",
    "        xs.append(idx)\n",
    "        ys.append(within_period[int(idx * len(within_period) / num_frames)])\n",
    "      axs[1].clear()\n",
    "      axs[1].set_title('Within Period or Not', fontsize=20)\n",
    "      axs[1].set_xlim((0, num_frames))\n",
    "      axs[1].set_ylim((-0.05, 1.05))\n",
    "      axs[1].plot(xs, ys)\n",
    "\n",
    "    anim = FuncAnimation(\n",
    "        fig,\n",
    "        update_within_period_plot,\n",
    "        frames=np.arange(1, num_frames),\n",
    "        interval=delay,\n",
    "        blit=False,\n",
    "    )\n",
    "    if output_file[-3:] == 'mp4':\n",
    "      anim.save(output_file, dpi=100, fps=24)\n",
    "    elif output_file[-3:] == 'gif':\n",
    "      anim.save(output_file, writer='imagemagick', fps=24, dpi=100)\n",
    "\n",
    "  plt.close()\n",
    "\n",
    "\n",
    "def show_video(video_path):\n",
    "  mp4 = open(video_path, 'rb').read()\n",
    "  data_url = 'data:video/mp4;base64,' + base64.b64encode(mp4).decode()\n",
    "  return HTML(\"\"\"<video width=600 controls>\n",
    "      <source src=\"%s\" type=\"video/mp4\"></video>\n",
    "  \"\"\" % data_url)\n",
    "\n",
    "\n",
    "def viz_reps(frames,\n",
    "             count,\n",
    "             score,\n",
    "             alpha=1.0,\n",
    "             pichart=True,\n",
    "             colormap=plt.cm.PuBu,\n",
    "             num_frames=None,\n",
    "             interval=30,\n",
    "             plot_score=True):\n",
    "  \"\"\"Visualize repetitions.\"\"\"\n",
    "  if isinstance(count, list):\n",
    "    counts = len(frames) * [count/len(frames)]\n",
    "  else:\n",
    "    counts = count\n",
    "    \n",
    "  sum_counts = np.cumsum(counts)\n",
    "  tmp_path = '/tmp/output.mp4'\n",
    "  fig, ax = plt.subplots(ncols=1, nrows=1, figsize=(5, 5),\n",
    "                         tight_layout=True,)\n",
    "\n",
    "  h, w, _ = np.shape(frames[0])\n",
    "  wedge_x = 95 / 112 * w\n",
    "  wedge_y = 17 / 112 * h\n",
    "  wedge_r = 15 / 112 * h\n",
    "  txt_x = 95 / 112 * w\n",
    "  txt_y = 19 / 112 * h\n",
    "  otxt_size = 62 / 112 * h\n",
    "\n",
    "  if plot_score:\n",
    "    plt.title('Score:%.2f' % score, fontsize=20)\n",
    "  im0 = ax.imshow(unnorm(frames[0]))\n",
    "\n",
    "  if not num_frames:\n",
    "    num_frames = len(frames)\n",
    "\n",
    "  if pichart:\n",
    "    wedge1 = matplotlib.patches.Wedge(\n",
    "        center=(wedge_x, wedge_y),\n",
    "        r=wedge_r,\n",
    "        theta1=0,\n",
    "        theta2=0,\n",
    "        color=colormap(1.),\n",
    "        alpha=alpha)\n",
    "    wedge2 = matplotlib.patches.Wedge(\n",
    "        center=(wedge_x, wedge_y),\n",
    "        r=wedge_r,\n",
    "        theta1=0,\n",
    "        theta2=0,\n",
    "        color=colormap(0.5),\n",
    "        alpha=alpha)\n",
    "\n",
    "    ax.add_patch(wedge1)\n",
    "    ax.add_patch(wedge2)\n",
    "    txt = ax.text(\n",
    "        txt_x,\n",
    "        txt_y,\n",
    "        '0',\n",
    "        size=35,\n",
    "        ha='center',\n",
    "        va='center',\n",
    "        alpha=0.9,\n",
    "        color='white',\n",
    "    )\n",
    "\n",
    "  else:\n",
    "    txt = ax.text(\n",
    "        txt_x,\n",
    "        txt_y,\n",
    "        '0',\n",
    "        size=otxt_size,\n",
    "        ha='center',\n",
    "        va='center',\n",
    "        alpha=0.8,\n",
    "        color=colormap(0.4),\n",
    "    )\n",
    "\n",
    "  def update(i):\n",
    "    \"\"\"Update plot with next frame.\"\"\"\n",
    "    im0.set_data(unnorm(frames[i]))\n",
    "    ctr = int(sum_counts[i])\n",
    "    if pichart:\n",
    "      if ctr%2 == 0:\n",
    "        wedge1.set_color(colormap(1.0))\n",
    "        wedge2.set_color(colormap(0.5))\n",
    "      else:\n",
    "        wedge1.set_color(colormap(0.5))\n",
    "        wedge2.set_color(colormap(1.0))\n",
    "\n",
    "      wedge1.set_theta1(-90)\n",
    "      wedge1.set_theta2(-90 - 360 * (1 - sum_counts[i] % 1.0))\n",
    "      wedge2.set_theta1(-90 - 360 * (1 - sum_counts[i] % 1.0))\n",
    "      wedge2.set_theta2(-90)\n",
    "\n",
    "    txt.set_text(int(sum_counts[i]))\n",
    "    ax.grid(False)\n",
    "    ax.set_xticks([])\n",
    "    ax.set_yticks([])\n",
    "    plt.tight_layout()\n",
    "\n",
    "  anim = FuncAnimation(\n",
    "      fig,\n",
    "      update,\n",
    "      frames=num_frames,\n",
    "      interval=interval,\n",
    "      blit=False)\n",
    "  anim.save(tmp_path, dpi=80)\n",
    "  plt.close()\n",
    "  return show_video(tmp_path)\n",
    "\n",
    "\n",
    "def record_video(interval_in_ms, num_frames, quality=0.8):\n",
    "  \"\"\"Capture video from webcam.\"\"\"\n",
    "  # https://colab.research.google.com/notebooks/snippets/advanced_outputs.ipynb.\n",
    "\n",
    "  # Give warning before recording.\n",
    "  for i in range(0, 3):\n",
    "    print('Opening webcam in %d seconds'%(3-i))\n",
    "    time.sleep(1)\n",
    "    output.clear('status_text')\n",
    "\n",
    "  js = Javascript('''\n",
    "    async function recordVideo(interval_in_ms, num_frames, quality) {\n",
    "      const div = document.createElement('div');\n",
    "      const video = document.createElement('video');\n",
    "      video.style.display = 'block';\n",
    "      const stream = await navigator.mediaDevices.getUserMedia({video: true});\n",
    "\n",
    "      // show the video in the HTML element\n",
    "      document.body.appendChild(div);\n",
    "      div.appendChild(video);\n",
    "      video.srcObject = stream;\n",
    "      await video.play();\n",
    "\n",
    "      google.colab.output.setIframeHeight(document.documentElement.scrollHeight,\n",
    "        true);\n",
    "\n",
    "      for (let i = 0; i < num_frames; i++) {\n",
    "        const canvas = document.createElement('canvas');\n",
    "        canvas.width = video.videoWidth;\n",
    "        canvas.height = video.videoHeight;\n",
    "        canvas.getContext('2d').drawImage(video, 0, 0);\n",
    "        img = canvas.toDataURL('image/jpeg', quality);\n",
    "        google.colab.kernel.invokeFunction(\n",
    "        'notebook.get_webcam_video', [img], {});\n",
    "        await new Promise(resolve => setTimeout(resolve, interval_in_ms));\n",
    "      }\n",
    "      stream.getVideoTracks()[0].stop();\n",
    "      div.remove();\n",
    "    }\n",
    "    ''')\n",
    "  display(js)\n",
    "  eval_js('recordVideo({},{},{})'.format(interval_in_ms, num_frames, quality))\n",
    "\n",
    "\n",
    "def data_uri_to_img(uri):\n",
    "  \"\"\"Convert base64image to Numpy array.\"\"\"\n",
    "  image = base64.b64decode(uri.split(',')[1], validate=True)\n",
    "  # Binary string to PIL image.\n",
    "  image = Image.open(io.BytesIO(image))\n",
    "  image = image.resize((224, 224))\n",
    "  # PIL to Numpy array.\n",
    "  image = np.array(np.array(image, dtype=np.uint8), np.float32)\n",
    "  return image\n",
    "\n",
    "\n",
    "def read_video(video_filename, width=224, height=224):\n",
    "  \"\"\"Read video from file.\"\"\"\n",
    "  cap = cv2.VideoCapture(video_filename)\n",
    "  fps = cap.get(cv2.CAP_PROP_FPS)\n",
    "  frames = []\n",
    "  if cap.isOpened():\n",
    "    while True:\n",
    "      success, frame_bgr = cap.read()\n",
    "      if not success:\n",
    "        break\n",
    "      frame_rgb = cv2.cvtColor(frame_bgr, cv2.COLOR_BGR2RGB)\n",
    "      frame_rgb = cv2.resize(frame_rgb, (width, height))\n",
    "      frames.append(frame_rgb)\n",
    "  frames = np.asarray(frames)\n",
    "  return frames, fps\n",
    "\n",
    "\n",
    "def get_webcam_video(img_b64):\n",
    "  \"\"\"Populates global variable imgs by converting image URI to Numpy array.\"\"\"\n",
    "  image = data_uri_to_img(img_b64)\n",
    "  imgs.append(image)\n",
    "\n",
    "\n",
    "def download_video_from_url(url_to_video,\n",
    "                            path_to_video='/tmp/video.mp4'):\n",
    "  if os.path.exists(path_to_video):\n",
    "    os.remove(path_to_video)\n",
    "  ydl_opts = {\n",
    "      'format': 'bestvideo[ext=mp4]+bestaudio[ext=m4a]/mp4',\n",
    "      'outtmpl': str(path_to_video),\n",
    "  }\n",
    "  with youtube_dl.YoutubeDL(ydl_opts) as ydl:\n",
    "    ydl.download([url_to_video])\n",
    "\n",
    "\n",
    "def get_score(period_score, within_period_score):\n",
    "  \"\"\"Combine the period and periodicity scores.\"\"\"\n",
    "  within_period_score = tf.nn.sigmoid(within_period_score)[:, 0]\n",
    "  per_frame_periods = tf.argmax(period_score, axis=-1) + 1\n",
    "  pred_period_conf = tf.reduce_max(\n",
    "      tf.nn.softmax(period_score, axis=-1), axis=-1)\n",
    "  pred_period_conf = tf.where(\n",
    "      tf.math.less(per_frame_periods, 3), 0.0, pred_period_conf)\n",
    "  within_period_score *= pred_period_conf\n",
    "  within_period_score = np.sqrt(within_period_score)\n",
    "  pred_score = tf.reduce_mean(within_period_score)\n",
    "  return pred_score, within_period_score\n",
    "\n",
    "\n",
    "def get_counts(model, frames, strides, batch_size,\n",
    "               threshold,\n",
    "               within_period_threshold,\n",
    "               constant_speed=False,\n",
    "               median_filter=False,\n",
    "               fully_periodic=False):\n",
    "  \"\"\"Pass frames through model and conver period predictions to count.\"\"\"\n",
    "  seq_len = len(frames)\n",
    "  raw_scores_list = []\n",
    "  scores = []\n",
    "  within_period_scores_list = []\n",
    "\n",
    "  if fully_periodic:\n",
    "    within_period_threshold = 0.0\n",
    "\n",
    "  frames = model.preprocess(frames)\n",
    "\n",
    "  for stride in strides:\n",
    "    num_batches = int(np.ceil(seq_len/model.num_frames/stride/batch_size))\n",
    "    raw_scores_per_stride = []\n",
    "    within_period_score_stride = []\n",
    "    for batch_idx in range(num_batches):\n",
    "      idxes = tf.range(batch_idx*batch_size*model.num_frames*stride,\n",
    "                       (batch_idx+1)*batch_size*model.num_frames*stride,\n",
    "                       stride)\n",
    "      idxes = tf.clip_by_value(idxes, 0, seq_len-1)\n",
    "      curr_frames = tf.gather(frames, idxes)\n",
    "      curr_frames = tf.reshape(\n",
    "          curr_frames,\n",
    "          [batch_size, model.num_frames, model.image_size, model.image_size, 3])\n",
    "\n",
    "      raw_scores, within_period_scores, _ = model(curr_frames)\n",
    "      raw_scores_per_stride.append(np.reshape(raw_scores.numpy(),\n",
    "                                              [-1, model.num_frames//2]))\n",
    "      within_period_score_stride.append(np.reshape(within_period_scores.numpy(),\n",
    "                                                   [-1, 1]))\n",
    "    raw_scores_per_stride = np.concatenate(raw_scores_per_stride, axis=0)\n",
    "    raw_scores_list.append(raw_scores_per_stride)\n",
    "    within_period_score_stride = np.concatenate(\n",
    "        within_period_score_stride, axis=0)\n",
    "    pred_score, within_period_score_stride = get_score(\n",
    "        raw_scores_per_stride, within_period_score_stride)\n",
    "    scores.append(pred_score)\n",
    "    within_period_scores_list.append(within_period_score_stride)\n",
    "\n",
    "  # Stride chooser\n",
    "  argmax_strides = np.argmax(scores)\n",
    "  chosen_stride = strides[argmax_strides]\n",
    "  raw_scores = np.repeat(\n",
    "      raw_scores_list[argmax_strides], chosen_stride, axis=0)[:seq_len]\n",
    "  within_period = np.repeat(\n",
    "      within_period_scores_list[argmax_strides], chosen_stride,\n",
    "      axis=0)[:seq_len]\n",
    "  within_period_binary = np.asarray(within_period > within_period_threshold)\n",
    "  if median_filter:\n",
    "    within_period_binary = medfilt(within_period_binary, 5)\n",
    "\n",
    "  # Select Periodic frames\n",
    "  periodic_idxes = np.where(within_period_binary)[0]\n",
    "\n",
    "  if constant_speed:\n",
    "    # Count by averaging predictions. Smoother but\n",
    "    # assumes constant speed.\n",
    "    scores = tf.reduce_mean(\n",
    "        tf.nn.softmax(raw_scores[periodic_idxes], axis=-1), axis=0)\n",
    "    max_period = np.argmax(scores)\n",
    "    pred_score = scores[max_period]\n",
    "    pred_period = chosen_stride * (max_period + 1)\n",
    "    per_frame_counts = (\n",
    "        np.asarray(seq_len * [1. / pred_period]) *\n",
    "        np.asarray(within_period_binary))\n",
    "  else:\n",
    "    # Count each frame. More noisy but adapts to changes in speed.\n",
    "    pred_score = tf.reduce_mean(within_period)\n",
    "    per_frame_periods = tf.argmax(raw_scores, axis=-1) + 1\n",
    "    per_frame_counts = tf.where(\n",
    "        tf.math.less(per_frame_periods, 3),\n",
    "        0.0,\n",
    "        tf.math.divide(1.0,\n",
    "                       tf.cast(chosen_stride * per_frame_periods, tf.float32)),\n",
    "    )\n",
    "    if median_filter:\n",
    "      per_frame_counts = medfilt(per_frame_counts, 5)\n",
    "\n",
    "    per_frame_counts *= np.asarray(within_period_binary)\n",
    "\n",
    "    pred_period = seq_len/np.sum(per_frame_counts)\n",
    "\n",
    "  if pred_score < threshold:\n",
    "    print('No repetitions detected in video as score '\n",
    "          '%0.2f is less than threshold %0.2f.'%(pred_score, threshold))\n",
    "    per_frame_counts = np.asarray(len(per_frame_counts) * [0.])\n",
    "\n",
    "  return (pred_period, pred_score, within_period,\n",
    "          per_frame_counts, chosen_stride)"
   ]
  },
  {
   "cell_type": "markdown",
   "metadata": {
    "id": "dPpgGXG_aalo"
   },
   "source": [
    "## Load trained RepNet"
   ]
  },
  {
   "cell_type": "code",
   "execution_count": 8,
   "metadata": {
    "ExecuteTime": {
     "end_time": "2021-08-24T09:25:48.681264Z",
     "start_time": "2021-08-24T09:25:48.642712Z"
    }
   },
   "outputs": [],
   "source": [
    "def get_repnet_model(logdir):\n",
    "    # Models will be called in eval mode.\n",
    "    tf.keras.backend.set_learning_phase(0)\n",
    "\n",
    "    # Define RepNet model.\n",
    "    model = ResnetPeriodEstimator()\n",
    "    \n",
    "    # tf.function for speed.\n",
    "    model.call = tf.function(model.call)\n",
    "\n",
    "    # Define checkpoint and checkpoint manager.\n",
    "    ckpt = tf.train.Checkpoint(model=model)\n",
    "    ckpt_manager = tf.train.CheckpointManager(\n",
    "        ckpt, directory=logdir, max_to_keep=10)\n",
    "    latest_ckpt = ckpt_manager.latest_checkpoint\n",
    "    print('Loading from: ', latest_ckpt)\n",
    "    if not latest_ckpt:\n",
    "        raise ValueError('Path does not have a checkpoint to load.')\n",
    "        # Restore weights.\n",
    "    ckpt.restore(latest_ckpt).expect_partial()\n",
    "    # Pass dummy frames to build graph.\n",
    "    model(tf.random.uniform((1, 64, 112, 112, 3)))\n",
    "    return model"
   ]
  },
  {
   "cell_type": "code",
   "execution_count": 9,
   "metadata": {
    "ExecuteTime": {
     "end_time": "2021-08-24T09:25:49.767924Z",
     "start_time": "2021-08-24T09:25:49.716669Z"
    },
    "colab": {
     "base_uri": "https://localhost:8080/"
    },
    "id": "c3-XygLIxwBK",
    "outputId": "2cc49925-fef9-4838-8117-3ab0492f031e"
   },
   "outputs": [
    {
     "ename": "AttributeError",
     "evalue": "module 'tensorflow' has no attribute 'keras'",
     "output_type": "error",
     "traceback": [
      "\u001b[0;31m\u001b[0m",
      "\u001b[0;31mAttributeError\u001b[0mTraceback (most recent call last)",
      "\u001b[0;32m<ipython-input-9-f6445b0e3a59>\u001b[0m in \u001b[0;36m<module>\u001b[0;34m\u001b[0m\n\u001b[1;32m      1\u001b[0m \u001b[0mPATH_TO_CKPT\u001b[0m \u001b[0;34m=\u001b[0m \u001b[0;34m'/data/pretrained/cv/repnet'\u001b[0m\u001b[0;34m\u001b[0m\u001b[0;34m\u001b[0m\u001b[0m\n\u001b[0;32m----> 2\u001b[0;31m \u001b[0mmodel\u001b[0m \u001b[0;34m=\u001b[0m \u001b[0mget_repnet_model\u001b[0m\u001b[0;34m(\u001b[0m\u001b[0mPATH_TO_CKPT\u001b[0m\u001b[0;34m)\u001b[0m\u001b[0;34m\u001b[0m\u001b[0;34m\u001b[0m\u001b[0m\n\u001b[0m",
      "\u001b[0;32m<ipython-input-8-1d69443874fc>\u001b[0m in \u001b[0;36mget_repnet_model\u001b[0;34m(logdir)\u001b[0m\n\u001b[1;32m      1\u001b[0m \u001b[0;32mdef\u001b[0m \u001b[0mget_repnet_model\u001b[0m\u001b[0;34m(\u001b[0m\u001b[0mlogdir\u001b[0m\u001b[0;34m)\u001b[0m\u001b[0;34m:\u001b[0m\u001b[0;34m\u001b[0m\u001b[0;34m\u001b[0m\u001b[0m\n\u001b[1;32m      2\u001b[0m     \u001b[0;31m# Models will be called in eval mode.\u001b[0m\u001b[0;34m\u001b[0m\u001b[0;34m\u001b[0m\u001b[0;34m\u001b[0m\u001b[0m\n\u001b[0;32m----> 3\u001b[0;31m     \u001b[0mtf\u001b[0m\u001b[0;34m.\u001b[0m\u001b[0mkeras\u001b[0m\u001b[0;34m.\u001b[0m\u001b[0mbackend\u001b[0m\u001b[0;34m.\u001b[0m\u001b[0mset_learning_phase\u001b[0m\u001b[0;34m(\u001b[0m\u001b[0;36m0\u001b[0m\u001b[0;34m)\u001b[0m\u001b[0;34m\u001b[0m\u001b[0;34m\u001b[0m\u001b[0m\n\u001b[0m\u001b[1;32m      4\u001b[0m \u001b[0;34m\u001b[0m\u001b[0m\n\u001b[1;32m      5\u001b[0m     \u001b[0;31m# Define RepNet model.\u001b[0m\u001b[0;34m\u001b[0m\u001b[0;34m\u001b[0m\u001b[0;34m\u001b[0m\u001b[0m\n",
      "\u001b[0;31mAttributeError\u001b[0m: module 'tensorflow' has no attribute 'keras'"
     ]
    }
   ],
   "source": [
    "PATH_TO_CKPT = '/data/pretrained/cv/repnet'\n",
    "model = get_repnet_model(PATH_TO_CKPT)"
   ]
  },
  {
   "cell_type": "code",
   "execution_count": 10,
   "metadata": {
    "ExecuteTime": {
     "end_time": "2021-08-24T09:25:52.036085Z",
     "start_time": "2021-08-24T09:25:51.460858Z"
    }
   },
   "outputs": [
    {
     "name": "stdout",
     "output_type": "stream",
     "text": [
      "checkpoint\t\t     ckpt-88.data-00001-of-00002\r\n",
      "ckpt-88.data-00000-of-00002  ckpt-88.index\r\n"
     ]
    }
   ],
   "source": [
    "!ls $PATH_TO_CKPT"
   ]
  },
  {
   "cell_type": "code",
   "execution_count": 24,
   "metadata": {
    "ExecuteTime": {
     "end_time": "2021-05-24T07:46:16.901067Z",
     "start_time": "2021-05-24T07:45:38.553046Z"
    }
   },
   "outputs": [
    {
     "name": "stdout",
     "output_type": "stream",
     "text": [
      "INFO:tensorflow:Assets written to: /tmp/tmpr2dl36fa/assets\n"
     ]
    },
    {
     "name": "stderr",
     "output_type": "stream",
     "text": [
      "INFO:tensorflow:Assets written to: /tmp/tmpr2dl36fa/assets\n"
     ]
    },
    {
     "ename": "ConverterError",
     "evalue": "/usr/local/lib/python3.6/dist-packages/tensorflow/python/util/deprecation.py:507:0: error: requires element_shape to be 1D tensor during TF Lite transformation pass\n/usr/local/lib/python3.6/dist-packages/tensorflow/python/util/deprecation.py:574:0: note: called from\n<ipython-input-3-1db0678cf016>:238:0: note: called from\n<ipython-input-3-1db0678cf016>:186:0: note: called from\n/usr/local/lib/python3.6/dist-packages/tensorflow/python/autograph/impl/api.py:302:0: note: called from\n/usr/local/lib/python3.6/dist-packages/tensorflow/python/keras/engine/base_layer.py:985:0: note: called from\n/usr/local/lib/python3.6/dist-packages/tensorflow/python/keras/saving/saving_utils.py:134:0: note: called from\n/usr/local/lib/python3.6/dist-packages/tensorflow/python/eager/def_function.py:600:0: note: called from\n/usr/local/lib/python3.6/dist-packages/tensorflow/python/framework/func_graph.py:986:0: note: called from\n/usr/local/lib/python3.6/dist-packages/tensorflow/python/eager/function.py:3075:0: note: called from\n/usr/local/lib/python3.6/dist-packages/tensorflow/python/util/deprecation.py:507:0: note: see current operation: %399 = \"tf.TensorListReserve\"(%68, %70) {device = \"\"} : (tensor<i32>, tensor<i32>) -> tensor<!tf.variant<tensor<*xf32>>>\n/usr/local/lib/python3.6/dist-packages/tensorflow/python/util/deprecation.py:507:0: error: failed to legalize operation 'tf.TensorListReserve' that was explicitly marked illegal\n/usr/local/lib/python3.6/dist-packages/tensorflow/python/util/deprecation.py:574:0: note: called from\n<ipython-input-3-1db0678cf016>:238:0: note: called from\n<ipython-input-3-1db0678cf016>:186:0: note: called from\n/usr/local/lib/python3.6/dist-packages/tensorflow/python/autograph/impl/api.py:302:0: note: called from\n/usr/local/lib/python3.6/dist-packages/tensorflow/python/keras/engine/base_layer.py:985:0: note: called from\n/usr/local/lib/python3.6/dist-packages/tensorflow/python/keras/saving/saving_utils.py:134:0: note: called from\n/usr/local/lib/python3.6/dist-packages/tensorflow/python/eager/def_function.py:600:0: note: called from\n/usr/local/lib/python3.6/dist-packages/tensorflow/python/framework/func_graph.py:986:0: note: called from\n/usr/local/lib/python3.6/dist-packages/tensorflow/python/eager/function.py:3075:0: note: called from\n/usr/local/lib/python3.6/dist-packages/tensorflow/python/util/deprecation.py:507:0: note: see current operation: %399 = \"tf.TensorListReserve\"(%68, %70) {device = \"\"} : (tensor<i32>, tensor<i32>) -> tensor<!tf.variant<tensor<*xf32>>>\n",
     "output_type": "error",
     "traceback": [
      "\u001b[0;31m\u001b[0m",
      "\u001b[0;31mException\u001b[0mTraceback (most recent call last)",
      "\u001b[0;32m/usr/local/lib/python3.6/dist-packages/tensorflow/lite/python/convert.py\u001b[0m in \u001b[0;36mtoco_convert_protos\u001b[0;34m(model_flags_str, toco_flags_str, input_data_str, debug_info_str, enable_mlir_converter)\u001b[0m\n\u001b[1;32m    198\u001b[0m                                                  \u001b[0mdebug_info_str\u001b[0m\u001b[0;34m,\u001b[0m\u001b[0;34m\u001b[0m\u001b[0;34m\u001b[0m\u001b[0m\n\u001b[0;32m--> 199\u001b[0;31m                                                  enable_mlir_converter)\n\u001b[0m\u001b[1;32m    200\u001b[0m       \u001b[0;32mreturn\u001b[0m \u001b[0mmodel_str\u001b[0m\u001b[0;34m\u001b[0m\u001b[0;34m\u001b[0m\u001b[0m\n",
      "\u001b[0;32m/usr/local/lib/python3.6/dist-packages/tensorflow/lite/python/wrap_toco.py\u001b[0m in \u001b[0;36mwrapped_toco_convert\u001b[0;34m(model_flags_str, toco_flags_str, input_data_str, debug_info_str, enable_mlir_converter)\u001b[0m\n\u001b[1;32m     37\u001b[0m       \u001b[0mdebug_info_str\u001b[0m\u001b[0;34m,\u001b[0m\u001b[0;34m\u001b[0m\u001b[0;34m\u001b[0m\u001b[0m\n\u001b[0;32m---> 38\u001b[0;31m       enable_mlir_converter)\n\u001b[0m\u001b[1;32m     39\u001b[0m \u001b[0;34m\u001b[0m\u001b[0m\n",
      "\u001b[0;31mException\u001b[0m: /usr/local/lib/python3.6/dist-packages/tensorflow/python/util/deprecation.py:507:0: error: requires element_shape to be 1D tensor during TF Lite transformation pass\n/usr/local/lib/python3.6/dist-packages/tensorflow/python/util/deprecation.py:574:0: note: called from\n<ipython-input-3-1db0678cf016>:238:0: note: called from\n<ipython-input-3-1db0678cf016>:186:0: note: called from\n/usr/local/lib/python3.6/dist-packages/tensorflow/python/autograph/impl/api.py:302:0: note: called from\n/usr/local/lib/python3.6/dist-packages/tensorflow/python/keras/engine/base_layer.py:985:0: note: called from\n/usr/local/lib/python3.6/dist-packages/tensorflow/python/keras/saving/saving_utils.py:134:0: note: called from\n/usr/local/lib/python3.6/dist-packages/tensorflow/python/eager/def_function.py:600:0: note: called from\n/usr/local/lib/python3.6/dist-packages/tensorflow/python/framework/func_graph.py:986:0: note: called from\n/usr/local/lib/python3.6/dist-packages/tensorflow/python/eager/function.py:3075:0: note: called from\n/usr/local/lib/python3.6/dist-packages/tensorflow/python/util/deprecation.py:507:0: note: see current operation: %399 = \"tf.TensorListReserve\"(%68, %70) {device = \"\"} : (tensor<i32>, tensor<i32>) -> tensor<!tf.variant<tensor<*xf32>>>\n/usr/local/lib/python3.6/dist-packages/tensorflow/python/util/deprecation.py:507:0: error: failed to legalize operation 'tf.TensorListReserve' that was explicitly marked illegal\n/usr/local/lib/python3.6/dist-packages/tensorflow/python/util/deprecation.py:574:0: note: called from\n<ipython-input-3-1db0678cf016>:238:0: note: called from\n<ipython-input-3-1db0678cf016>:186:0: note: called from\n/usr/local/lib/python3.6/dist-packages/tensorflow/python/autograph/impl/api.py:302:0: note: called from\n/usr/local/lib/python3.6/dist-packages/tensorflow/python/keras/engine/base_layer.py:985:0: note: called from\n/usr/local/lib/python3.6/dist-packages/tensorflow/python/keras/saving/saving_utils.py:134:0: note: called from\n/usr/local/lib/python3.6/dist-packages/tensorflow/python/eager/def_function.py:600:0: note: called from\n/usr/local/lib/python3.6/dist-packages/tensorflow/python/framework/func_graph.py:986:0: note: called from\n/usr/local/lib/python3.6/dist-packages/tensorflow/python/eager/function.py:3075:0: note: called from\n/usr/local/lib/python3.6/dist-packages/tensorflow/python/util/deprecation.py:507:0: note: see current operation: %399 = \"tf.TensorListReserve\"(%68, %70) {device = \"\"} : (tensor<i32>, tensor<i32>) -> tensor<!tf.variant<tensor<*xf32>>>\n",
      "\nDuring handling of the above exception, another exception occurred:\n",
      "\u001b[0;31mConverterError\u001b[0mTraceback (most recent call last)",
      "\u001b[0;32m<ipython-input-24-3dd6f66ed1c5>\u001b[0m in \u001b[0;36m<module>\u001b[0;34m\u001b[0m\n\u001b[1;32m      1\u001b[0m \u001b[0mconverter\u001b[0m \u001b[0;34m=\u001b[0m \u001b[0mtf\u001b[0m\u001b[0;34m.\u001b[0m\u001b[0mlite\u001b[0m\u001b[0;34m.\u001b[0m\u001b[0mTFLiteConverter\u001b[0m\u001b[0;34m.\u001b[0m\u001b[0mfrom_keras_model\u001b[0m\u001b[0;34m(\u001b[0m\u001b[0mmodel\u001b[0m\u001b[0;34m)\u001b[0m\u001b[0;34m\u001b[0m\u001b[0;34m\u001b[0m\u001b[0m\n\u001b[0;32m----> 2\u001b[0;31m \u001b[0mtflite_model\u001b[0m \u001b[0;34m=\u001b[0m \u001b[0mconverter\u001b[0m\u001b[0;34m.\u001b[0m\u001b[0mconvert\u001b[0m\u001b[0;34m(\u001b[0m\u001b[0;34m)\u001b[0m\u001b[0;34m\u001b[0m\u001b[0;34m\u001b[0m\u001b[0m\n\u001b[0m",
      "\u001b[0;32m/usr/local/lib/python3.6/dist-packages/tensorflow/lite/python/lite.py\u001b[0m in \u001b[0;36mconvert\u001b[0;34m(self)\u001b[0m\n\u001b[1;32m    829\u001b[0m \u001b[0;34m\u001b[0m\u001b[0m\n\u001b[1;32m    830\u001b[0m     return super(TFLiteKerasModelConverterV2,\n\u001b[0;32m--> 831\u001b[0;31m                  self).convert(graph_def, input_tensors, output_tensors)\n\u001b[0m\u001b[1;32m    832\u001b[0m \u001b[0;34m\u001b[0m\u001b[0m\n\u001b[1;32m    833\u001b[0m \u001b[0;34m\u001b[0m\u001b[0m\n",
      "\u001b[0;32m/usr/local/lib/python3.6/dist-packages/tensorflow/lite/python/lite.py\u001b[0m in \u001b[0;36mconvert\u001b[0;34m(self, graph_def, input_tensors, output_tensors)\u001b[0m\n\u001b[1;32m    631\u001b[0m         \u001b[0minput_tensors\u001b[0m\u001b[0;34m=\u001b[0m\u001b[0minput_tensors\u001b[0m\u001b[0;34m,\u001b[0m\u001b[0;34m\u001b[0m\u001b[0;34m\u001b[0m\u001b[0m\n\u001b[1;32m    632\u001b[0m         \u001b[0moutput_tensors\u001b[0m\u001b[0;34m=\u001b[0m\u001b[0moutput_tensors\u001b[0m\u001b[0;34m,\u001b[0m\u001b[0;34m\u001b[0m\u001b[0;34m\u001b[0m\u001b[0m\n\u001b[0;32m--> 633\u001b[0;31m         **converter_kwargs)\n\u001b[0m\u001b[1;32m    634\u001b[0m \u001b[0;34m\u001b[0m\u001b[0m\n\u001b[1;32m    635\u001b[0m     calibrate_and_quantize, flags = quant_mode.quantizer_flags(\n",
      "\u001b[0;32m/usr/local/lib/python3.6/dist-packages/tensorflow/lite/python/convert.py\u001b[0m in \u001b[0;36mtoco_convert_impl\u001b[0;34m(input_data, input_tensors, output_tensors, enable_mlir_converter, *args, **kwargs)\u001b[0m\n\u001b[1;32m    572\u001b[0m       \u001b[0minput_data\u001b[0m\u001b[0;34m.\u001b[0m\u001b[0mSerializeToString\u001b[0m\u001b[0;34m(\u001b[0m\u001b[0;34m)\u001b[0m\u001b[0;34m,\u001b[0m\u001b[0;34m\u001b[0m\u001b[0;34m\u001b[0m\u001b[0m\n\u001b[1;32m    573\u001b[0m       \u001b[0mdebug_info_str\u001b[0m\u001b[0;34m=\u001b[0m\u001b[0mdebug_info_str\u001b[0m\u001b[0;34m,\u001b[0m\u001b[0;34m\u001b[0m\u001b[0;34m\u001b[0m\u001b[0m\n\u001b[0;32m--> 574\u001b[0;31m       enable_mlir_converter=enable_mlir_converter)\n\u001b[0m\u001b[1;32m    575\u001b[0m   \u001b[0;32mreturn\u001b[0m \u001b[0mdata\u001b[0m\u001b[0;34m\u001b[0m\u001b[0;34m\u001b[0m\u001b[0m\n\u001b[1;32m    576\u001b[0m \u001b[0;34m\u001b[0m\u001b[0m\n",
      "\u001b[0;32m/usr/local/lib/python3.6/dist-packages/tensorflow/lite/python/convert.py\u001b[0m in \u001b[0;36mtoco_convert_protos\u001b[0;34m(model_flags_str, toco_flags_str, input_data_str, debug_info_str, enable_mlir_converter)\u001b[0m\n\u001b[1;32m    200\u001b[0m       \u001b[0;32mreturn\u001b[0m \u001b[0mmodel_str\u001b[0m\u001b[0;34m\u001b[0m\u001b[0;34m\u001b[0m\u001b[0m\n\u001b[1;32m    201\u001b[0m     \u001b[0;32mexcept\u001b[0m \u001b[0mException\u001b[0m \u001b[0;32mas\u001b[0m \u001b[0me\u001b[0m\u001b[0;34m:\u001b[0m\u001b[0;34m\u001b[0m\u001b[0;34m\u001b[0m\u001b[0m\n\u001b[0;32m--> 202\u001b[0;31m       \u001b[0;32mraise\u001b[0m \u001b[0mConverterError\u001b[0m\u001b[0;34m(\u001b[0m\u001b[0mstr\u001b[0m\u001b[0;34m(\u001b[0m\u001b[0me\u001b[0m\u001b[0;34m)\u001b[0m\u001b[0;34m)\u001b[0m\u001b[0;34m\u001b[0m\u001b[0;34m\u001b[0m\u001b[0m\n\u001b[0m\u001b[1;32m    203\u001b[0m \u001b[0;34m\u001b[0m\u001b[0m\n\u001b[1;32m    204\u001b[0m   \u001b[0;32mif\u001b[0m \u001b[0mdistutils\u001b[0m\u001b[0;34m.\u001b[0m\u001b[0mspawn\u001b[0m\u001b[0;34m.\u001b[0m\u001b[0mfind_executable\u001b[0m\u001b[0;34m(\u001b[0m\u001b[0m_toco_from_proto_bin\u001b[0m\u001b[0;34m)\u001b[0m \u001b[0;32mis\u001b[0m \u001b[0;32mNone\u001b[0m\u001b[0;34m:\u001b[0m\u001b[0;34m\u001b[0m\u001b[0;34m\u001b[0m\u001b[0m\n",
      "\u001b[0;31mConverterError\u001b[0m: /usr/local/lib/python3.6/dist-packages/tensorflow/python/util/deprecation.py:507:0: error: requires element_shape to be 1D tensor during TF Lite transformation pass\n/usr/local/lib/python3.6/dist-packages/tensorflow/python/util/deprecation.py:574:0: note: called from\n<ipython-input-3-1db0678cf016>:238:0: note: called from\n<ipython-input-3-1db0678cf016>:186:0: note: called from\n/usr/local/lib/python3.6/dist-packages/tensorflow/python/autograph/impl/api.py:302:0: note: called from\n/usr/local/lib/python3.6/dist-packages/tensorflow/python/keras/engine/base_layer.py:985:0: note: called from\n/usr/local/lib/python3.6/dist-packages/tensorflow/python/keras/saving/saving_utils.py:134:0: note: called from\n/usr/local/lib/python3.6/dist-packages/tensorflow/python/eager/def_function.py:600:0: note: called from\n/usr/local/lib/python3.6/dist-packages/tensorflow/python/framework/func_graph.py:986:0: note: called from\n/usr/local/lib/python3.6/dist-packages/tensorflow/python/eager/function.py:3075:0: note: called from\n/usr/local/lib/python3.6/dist-packages/tensorflow/python/util/deprecation.py:507:0: note: see current operation: %399 = \"tf.TensorListReserve\"(%68, %70) {device = \"\"} : (tensor<i32>, tensor<i32>) -> tensor<!tf.variant<tensor<*xf32>>>\n/usr/local/lib/python3.6/dist-packages/tensorflow/python/util/deprecation.py:507:0: error: failed to legalize operation 'tf.TensorListReserve' that was explicitly marked illegal\n/usr/local/lib/python3.6/dist-packages/tensorflow/python/util/deprecation.py:574:0: note: called from\n<ipython-input-3-1db0678cf016>:238:0: note: called from\n<ipython-input-3-1db0678cf016>:186:0: note: called from\n/usr/local/lib/python3.6/dist-packages/tensorflow/python/autograph/impl/api.py:302:0: note: called from\n/usr/local/lib/python3.6/dist-packages/tensorflow/python/keras/engine/base_layer.py:985:0: note: called from\n/usr/local/lib/python3.6/dist-packages/tensorflow/python/keras/saving/saving_utils.py:134:0: note: called from\n/usr/local/lib/python3.6/dist-packages/tensorflow/python/eager/def_function.py:600:0: note: called from\n/usr/local/lib/python3.6/dist-packages/tensorflow/python/framework/func_graph.py:986:0: note: called from\n/usr/local/lib/python3.6/dist-packages/tensorflow/python/eager/function.py:3075:0: note: called from\n/usr/local/lib/python3.6/dist-packages/tensorflow/python/util/deprecation.py:507:0: note: see current operation: %399 = \"tf.TensorListReserve\"(%68, %70) {device = \"\"} : (tensor<i32>, tensor<i32>) -> tensor<!tf.variant<tensor<*xf32>>>\n"
     ]
    }
   ],
   "source": [
    "converter = tf.lite.TFLiteConverter.from_keras_model(model)\n",
    "tflite_model = converter.convert()"
   ]
  },
  {
   "cell_type": "code",
   "execution_count": null,
   "metadata": {},
   "outputs": [],
   "source": []
  },
  {
   "cell_type": "code",
   "execution_count": 12,
   "metadata": {
    "ExecuteTime": {
     "end_time": "2021-05-24T04:16:28.016087Z",
     "start_time": "2021-05-24T04:15:53.763107Z"
    }
   },
   "outputs": [
    {
     "name": "stdout",
     "output_type": "stream",
     "text": [
      "INFO:tensorflow:Assets written to: /data/aa/assets\n"
     ]
    },
    {
     "name": "stderr",
     "output_type": "stream",
     "text": [
      "INFO:tensorflow:Assets written to: /data/aa/assets\n"
     ]
    }
   ],
   "source": [
    "model = ResnetPeriodEstimator()\n",
    "model(tf.random.uniform((1, 64, 112, 112, 3)))\n",
    "model.save('/data/aa/')"
   ]
  },
  {
   "cell_type": "code",
   "execution_count": 8,
   "metadata": {
    "ExecuteTime": {
     "end_time": "2021-05-24T04:12:31.891665Z",
     "start_time": "2021-05-24T04:12:01.493827Z"
    }
   },
   "outputs": [
    {
     "name": "stdout",
     "output_type": "stream",
     "text": [
      "INFO:tensorflow:Assets written to: /data/bb/assets\n"
     ]
    },
    {
     "name": "stderr",
     "output_type": "stream",
     "text": [
      "INFO:tensorflow:Assets written to: /data/bb/assets\n"
     ]
    }
   ],
   "source": [
    "tf.saved_model.save(model, '/data/bb')"
   ]
  },
  {
   "cell_type": "code",
   "execution_count": 14,
   "metadata": {
    "ExecuteTime": {
     "end_time": "2021-05-24T04:18:32.956324Z",
     "start_time": "2021-05-24T04:18:20.270794Z"
    }
   },
   "outputs": [
    {
     "data": {
      "text/plain": [
       "<tensorflow.python.saved_model.load.Loader._recreate_base_user_object.<locals>._UserObject at 0x7fbdf5b40ac8>"
      ]
     },
     "execution_count": 14,
     "metadata": {},
     "output_type": "execute_result"
    }
   ],
   "source": [
    "loaded = tf.saved_model.load('/data/bb')\n",
    "loaded"
   ]
  },
  {
   "cell_type": "code",
   "execution_count": 15,
   "metadata": {
    "ExecuteTime": {
     "end_time": "2021-05-24T04:19:05.795375Z",
     "start_time": "2021-05-24T04:19:05.734655Z"
    }
   },
   "outputs": [
    {
     "name": "stdout",
     "output_type": "stream",
     "text": [
      "['serving_default']\n"
     ]
    }
   ],
   "source": [
    "print(list(loaded.signatures.keys()))"
   ]
  },
  {
   "cell_type": "code",
   "execution_count": 16,
   "metadata": {
    "ExecuteTime": {
     "end_time": "2021-05-24T04:19:28.593449Z",
     "start_time": "2021-05-24T04:19:28.529115Z"
    }
   },
   "outputs": [
    {
     "name": "stdout",
     "output_type": "stream",
     "text": [
      "{'output_3': TensorSpec(shape=(None, None, 512), dtype=tf.float32, name='output_3'), 'output_2': TensorSpec(shape=(None, 64, 1), dtype=tf.float32, name='output_2'), 'output_1': TensorSpec(shape=(None, 64, 32), dtype=tf.float32, name='output_1')}\n"
     ]
    }
   ],
   "source": [
    "infer = loaded.signatures[\"serving_default\"]\n",
    "print(infer.structured_outputs)"
   ]
  },
  {
   "cell_type": "code",
   "execution_count": 17,
   "metadata": {
    "ExecuteTime": {
     "end_time": "2021-05-24T04:22:02.883692Z",
     "start_time": "2021-05-24T04:22:01.814416Z"
    }
   },
   "outputs": [],
   "source": [
    "a, b, c, = loaded(tf.random.uniform((1, 64, 112, 112, 3)))"
   ]
  },
  {
   "cell_type": "code",
   "execution_count": 18,
   "metadata": {
    "ExecuteTime": {
     "end_time": "2021-05-24T04:22:09.619442Z",
     "start_time": "2021-05-24T04:22:09.552419Z"
    }
   },
   "outputs": [
    {
     "data": {
      "text/plain": [
       "(TensorShape([1, 64, 32]), TensorShape([1, 64, 1]), TensorShape([1, 64, 512]))"
      ]
     },
     "execution_count": 18,
     "metadata": {},
     "output_type": "execute_result"
    }
   ],
   "source": [
    "a.shape, b.shape, c.shape"
   ]
  },
  {
   "cell_type": "code",
   "execution_count": 19,
   "metadata": {
    "ExecuteTime": {
     "end_time": "2021-05-24T04:23:14.216057Z",
     "start_time": "2021-05-24T04:23:07.798315Z"
    }
   },
   "outputs": [
    {
     "name": "stdout",
     "output_type": "stream",
     "text": [
      "INFO:tensorflow:Assets written to: /data/cc/assets\n"
     ]
    },
    {
     "name": "stderr",
     "output_type": "stream",
     "text": [
      "INFO:tensorflow:Assets written to: /data/cc/assets\n"
     ]
    }
   ],
   "source": [
    "tf.saved_model.save(loaded, '/data/cc')"
   ]
  },
  {
   "cell_type": "code",
   "execution_count": 21,
   "metadata": {
    "ExecuteTime": {
     "end_time": "2021-05-24T04:30:44.507991Z",
     "start_time": "2021-05-24T04:30:26.325297Z"
    }
   },
   "outputs": [
    {
     "ename": "ConverterError",
     "evalue": "<unknown>:0: error: loc(fused[\"map/TensorArrayV2_1@__inference_call_351569\", \"StatefulPartitionedCall/StatefulPartitionedCall/resnet_period_estimator/StatefulPartitionedCall/map/TensorArrayV2_1\"]): requires element_shape to be 1D tensor during TF Lite transformation pass\n<unknown>:0: note: loc(fused[\"map/TensorArrayV2_1@__inference_call_351569\", \"StatefulPartitionedCall/StatefulPartitionedCall/resnet_period_estimator/StatefulPartitionedCall/map/TensorArrayV2_1\"]): see current operation: %1329 = \"tf.TensorListReserve\"(%242, %1328) {device = \"\"} : (tensor<i32>, tensor<i32>) -> tensor<!tf.variant<tensor<*xf32>>>\n<unknown>:0: error: loc(fused[\"map/TensorArrayV2_1@__inference_call_351569\", \"StatefulPartitionedCall/StatefulPartitionedCall/resnet_period_estimator/StatefulPartitionedCall/map/TensorArrayV2_1\"]): failed to legalize operation 'tf.TensorListReserve' that was explicitly marked illegal\n<unknown>:0: note: loc(fused[\"map/TensorArrayV2_1@__inference_call_351569\", \"StatefulPartitionedCall/StatefulPartitionedCall/resnet_period_estimator/StatefulPartitionedCall/map/TensorArrayV2_1\"]): see current operation: %1329 = \"tf.TensorListReserve\"(%242, %1328) {device = \"\"} : (tensor<i32>, tensor<i32>) -> tensor<!tf.variant<tensor<*xf32>>>\n",
     "output_type": "error",
     "traceback": [
      "\u001b[0;31m\u001b[0m",
      "\u001b[0;31mException\u001b[0mTraceback (most recent call last)",
      "\u001b[0;32m/usr/local/lib/python3.6/dist-packages/tensorflow/lite/python/convert.py\u001b[0m in \u001b[0;36mtoco_convert_protos\u001b[0;34m(model_flags_str, toco_flags_str, input_data_str, debug_info_str, enable_mlir_converter)\u001b[0m\n\u001b[1;32m    198\u001b[0m                                                  \u001b[0mdebug_info_str\u001b[0m\u001b[0;34m,\u001b[0m\u001b[0;34m\u001b[0m\u001b[0;34m\u001b[0m\u001b[0m\n\u001b[0;32m--> 199\u001b[0;31m                                                  enable_mlir_converter)\n\u001b[0m\u001b[1;32m    200\u001b[0m       \u001b[0;32mreturn\u001b[0m \u001b[0mmodel_str\u001b[0m\u001b[0;34m\u001b[0m\u001b[0;34m\u001b[0m\u001b[0m\n",
      "\u001b[0;32m/usr/local/lib/python3.6/dist-packages/tensorflow/lite/python/wrap_toco.py\u001b[0m in \u001b[0;36mwrapped_toco_convert\u001b[0;34m(model_flags_str, toco_flags_str, input_data_str, debug_info_str, enable_mlir_converter)\u001b[0m\n\u001b[1;32m     37\u001b[0m       \u001b[0mdebug_info_str\u001b[0m\u001b[0;34m,\u001b[0m\u001b[0;34m\u001b[0m\u001b[0;34m\u001b[0m\u001b[0m\n\u001b[0;32m---> 38\u001b[0;31m       enable_mlir_converter)\n\u001b[0m\u001b[1;32m     39\u001b[0m \u001b[0;34m\u001b[0m\u001b[0m\n",
      "\u001b[0;31mException\u001b[0m: <unknown>:0: error: loc(fused[\"map/TensorArrayV2_1@__inference_call_351569\", \"StatefulPartitionedCall/StatefulPartitionedCall/resnet_period_estimator/StatefulPartitionedCall/map/TensorArrayV2_1\"]): requires element_shape to be 1D tensor during TF Lite transformation pass\n<unknown>:0: note: loc(fused[\"map/TensorArrayV2_1@__inference_call_351569\", \"StatefulPartitionedCall/StatefulPartitionedCall/resnet_period_estimator/StatefulPartitionedCall/map/TensorArrayV2_1\"]): see current operation: %1329 = \"tf.TensorListReserve\"(%242, %1328) {device = \"\"} : (tensor<i32>, tensor<i32>) -> tensor<!tf.variant<tensor<*xf32>>>\n<unknown>:0: error: loc(fused[\"map/TensorArrayV2_1@__inference_call_351569\", \"StatefulPartitionedCall/StatefulPartitionedCall/resnet_period_estimator/StatefulPartitionedCall/map/TensorArrayV2_1\"]): failed to legalize operation 'tf.TensorListReserve' that was explicitly marked illegal\n<unknown>:0: note: loc(fused[\"map/TensorArrayV2_1@__inference_call_351569\", \"StatefulPartitionedCall/StatefulPartitionedCall/resnet_period_estimator/StatefulPartitionedCall/map/TensorArrayV2_1\"]): see current operation: %1329 = \"tf.TensorListReserve\"(%242, %1328) {device = \"\"} : (tensor<i32>, tensor<i32>) -> tensor<!tf.variant<tensor<*xf32>>>\n",
      "\nDuring handling of the above exception, another exception occurred:\n",
      "\u001b[0;31mConverterError\u001b[0mTraceback (most recent call last)",
      "\u001b[0;32m<ipython-input-21-6401d502e149>\u001b[0m in \u001b[0;36m<module>\u001b[0;34m\u001b[0m\n\u001b[1;32m      6\u001b[0m converter.target_spec.supported_ops = [\n\u001b[1;32m      7\u001b[0m     tf.lite.OpsSet.TFLITE_BUILTINS, tf.lite.OpsSet.SELECT_TF_OPS]\n\u001b[0;32m----> 8\u001b[0;31m \u001b[0mtflite_model\u001b[0m \u001b[0;34m=\u001b[0m \u001b[0mconverter\u001b[0m\u001b[0;34m.\u001b[0m\u001b[0mconvert\u001b[0m\u001b[0;34m(\u001b[0m\u001b[0;34m)\u001b[0m\u001b[0;34m\u001b[0m\u001b[0;34m\u001b[0m\u001b[0m\n\u001b[0m\u001b[1;32m      9\u001b[0m \u001b[0;34m\u001b[0m\u001b[0m\n\u001b[1;32m     10\u001b[0m \u001b[0;31m# Save the model.\u001b[0m\u001b[0;34m\u001b[0m\u001b[0;34m\u001b[0m\u001b[0;34m\u001b[0m\u001b[0m\n",
      "\u001b[0;32m/usr/local/lib/python3.6/dist-packages/tensorflow/lite/python/lite.py\u001b[0m in \u001b[0;36mconvert\u001b[0;34m(self)\u001b[0m\n\u001b[1;32m   1074\u001b[0m         \u001b[0mInvalid\u001b[0m \u001b[0mquantization\u001b[0m \u001b[0mparameters\u001b[0m\u001b[0;34m.\u001b[0m\u001b[0;34m\u001b[0m\u001b[0;34m\u001b[0m\u001b[0m\n\u001b[1;32m   1075\u001b[0m     \"\"\"\n\u001b[0;32m-> 1076\u001b[0;31m     \u001b[0;32mreturn\u001b[0m \u001b[0msuper\u001b[0m\u001b[0;34m(\u001b[0m\u001b[0mTFLiteConverterV2\u001b[0m\u001b[0;34m,\u001b[0m \u001b[0mself\u001b[0m\u001b[0;34m)\u001b[0m\u001b[0;34m.\u001b[0m\u001b[0mconvert\u001b[0m\u001b[0;34m(\u001b[0m\u001b[0;34m)\u001b[0m\u001b[0;34m\u001b[0m\u001b[0;34m\u001b[0m\u001b[0m\n\u001b[0m\u001b[1;32m   1077\u001b[0m \u001b[0;34m\u001b[0m\u001b[0m\n\u001b[1;32m   1078\u001b[0m \u001b[0;34m\u001b[0m\u001b[0m\n",
      "\u001b[0;32m/usr/local/lib/python3.6/dist-packages/tensorflow/lite/python/lite.py\u001b[0m in \u001b[0;36mconvert\u001b[0;34m(self)\u001b[0m\n\u001b[1;32m    898\u001b[0m \u001b[0;34m\u001b[0m\u001b[0m\n\u001b[1;32m    899\u001b[0m     return super(TFLiteFrozenGraphConverterV2,\n\u001b[0;32m--> 900\u001b[0;31m                  self).convert(graph_def, input_tensors, output_tensors)\n\u001b[0m\u001b[1;32m    901\u001b[0m \u001b[0;34m\u001b[0m\u001b[0m\n\u001b[1;32m    902\u001b[0m \u001b[0;34m\u001b[0m\u001b[0m\n",
      "\u001b[0;32m/usr/local/lib/python3.6/dist-packages/tensorflow/lite/python/lite.py\u001b[0m in \u001b[0;36mconvert\u001b[0;34m(self, graph_def, input_tensors, output_tensors)\u001b[0m\n\u001b[1;32m    631\u001b[0m         \u001b[0minput_tensors\u001b[0m\u001b[0;34m=\u001b[0m\u001b[0minput_tensors\u001b[0m\u001b[0;34m,\u001b[0m\u001b[0;34m\u001b[0m\u001b[0;34m\u001b[0m\u001b[0m\n\u001b[1;32m    632\u001b[0m         \u001b[0moutput_tensors\u001b[0m\u001b[0;34m=\u001b[0m\u001b[0moutput_tensors\u001b[0m\u001b[0;34m,\u001b[0m\u001b[0;34m\u001b[0m\u001b[0;34m\u001b[0m\u001b[0m\n\u001b[0;32m--> 633\u001b[0;31m         **converter_kwargs)\n\u001b[0m\u001b[1;32m    634\u001b[0m \u001b[0;34m\u001b[0m\u001b[0m\n\u001b[1;32m    635\u001b[0m     calibrate_and_quantize, flags = quant_mode.quantizer_flags(\n",
      "\u001b[0;32m/usr/local/lib/python3.6/dist-packages/tensorflow/lite/python/convert.py\u001b[0m in \u001b[0;36mtoco_convert_impl\u001b[0;34m(input_data, input_tensors, output_tensors, enable_mlir_converter, *args, **kwargs)\u001b[0m\n\u001b[1;32m    572\u001b[0m       \u001b[0minput_data\u001b[0m\u001b[0;34m.\u001b[0m\u001b[0mSerializeToString\u001b[0m\u001b[0;34m(\u001b[0m\u001b[0;34m)\u001b[0m\u001b[0;34m,\u001b[0m\u001b[0;34m\u001b[0m\u001b[0;34m\u001b[0m\u001b[0m\n\u001b[1;32m    573\u001b[0m       \u001b[0mdebug_info_str\u001b[0m\u001b[0;34m=\u001b[0m\u001b[0mdebug_info_str\u001b[0m\u001b[0;34m,\u001b[0m\u001b[0;34m\u001b[0m\u001b[0;34m\u001b[0m\u001b[0m\n\u001b[0;32m--> 574\u001b[0;31m       enable_mlir_converter=enable_mlir_converter)\n\u001b[0m\u001b[1;32m    575\u001b[0m   \u001b[0;32mreturn\u001b[0m \u001b[0mdata\u001b[0m\u001b[0;34m\u001b[0m\u001b[0;34m\u001b[0m\u001b[0m\n\u001b[1;32m    576\u001b[0m \u001b[0;34m\u001b[0m\u001b[0m\n",
      "\u001b[0;32m/usr/local/lib/python3.6/dist-packages/tensorflow/lite/python/convert.py\u001b[0m in \u001b[0;36mtoco_convert_protos\u001b[0;34m(model_flags_str, toco_flags_str, input_data_str, debug_info_str, enable_mlir_converter)\u001b[0m\n\u001b[1;32m    200\u001b[0m       \u001b[0;32mreturn\u001b[0m \u001b[0mmodel_str\u001b[0m\u001b[0;34m\u001b[0m\u001b[0;34m\u001b[0m\u001b[0m\n\u001b[1;32m    201\u001b[0m     \u001b[0;32mexcept\u001b[0m \u001b[0mException\u001b[0m \u001b[0;32mas\u001b[0m \u001b[0me\u001b[0m\u001b[0;34m:\u001b[0m\u001b[0;34m\u001b[0m\u001b[0;34m\u001b[0m\u001b[0m\n\u001b[0;32m--> 202\u001b[0;31m       \u001b[0;32mraise\u001b[0m \u001b[0mConverterError\u001b[0m\u001b[0;34m(\u001b[0m\u001b[0mstr\u001b[0m\u001b[0;34m(\u001b[0m\u001b[0me\u001b[0m\u001b[0;34m)\u001b[0m\u001b[0;34m)\u001b[0m\u001b[0;34m\u001b[0m\u001b[0;34m\u001b[0m\u001b[0m\n\u001b[0m\u001b[1;32m    203\u001b[0m \u001b[0;34m\u001b[0m\u001b[0m\n\u001b[1;32m    204\u001b[0m   \u001b[0;32mif\u001b[0m \u001b[0mdistutils\u001b[0m\u001b[0;34m.\u001b[0m\u001b[0mspawn\u001b[0m\u001b[0;34m.\u001b[0m\u001b[0mfind_executable\u001b[0m\u001b[0;34m(\u001b[0m\u001b[0m_toco_from_proto_bin\u001b[0m\u001b[0;34m)\u001b[0m \u001b[0;32mis\u001b[0m \u001b[0;32mNone\u001b[0m\u001b[0;34m:\u001b[0m\u001b[0;34m\u001b[0m\u001b[0;34m\u001b[0m\u001b[0m\n",
      "\u001b[0;31mConverterError\u001b[0m: <unknown>:0: error: loc(fused[\"map/TensorArrayV2_1@__inference_call_351569\", \"StatefulPartitionedCall/StatefulPartitionedCall/resnet_period_estimator/StatefulPartitionedCall/map/TensorArrayV2_1\"]): requires element_shape to be 1D tensor during TF Lite transformation pass\n<unknown>:0: note: loc(fused[\"map/TensorArrayV2_1@__inference_call_351569\", \"StatefulPartitionedCall/StatefulPartitionedCall/resnet_period_estimator/StatefulPartitionedCall/map/TensorArrayV2_1\"]): see current operation: %1329 = \"tf.TensorListReserve\"(%242, %1328) {device = \"\"} : (tensor<i32>, tensor<i32>) -> tensor<!tf.variant<tensor<*xf32>>>\n<unknown>:0: error: loc(fused[\"map/TensorArrayV2_1@__inference_call_351569\", \"StatefulPartitionedCall/StatefulPartitionedCall/resnet_period_estimator/StatefulPartitionedCall/map/TensorArrayV2_1\"]): failed to legalize operation 'tf.TensorListReserve' that was explicitly marked illegal\n<unknown>:0: note: loc(fused[\"map/TensorArrayV2_1@__inference_call_351569\", \"StatefulPartitionedCall/StatefulPartitionedCall/resnet_period_estimator/StatefulPartitionedCall/map/TensorArrayV2_1\"]): see current operation: %1329 = \"tf.TensorListReserve\"(%242, %1328) {device = \"\"} : (tensor<i32>, tensor<i32>) -> tensor<!tf.variant<tensor<*xf32>>>\n"
     ]
    }
   ],
   "source": [
    "# Convert the model\n",
    "converter = tf.lite.TFLiteConverter.from_saved_model(\n",
    "    \"/data/cc\", signature_keys=['serving_default'])\n",
    "converter.optimizations = [tf.lite.Optimize.DEFAULT]\n",
    "converter.experimental_new_converter = True\n",
    "converter.target_spec.supported_ops = [\n",
    "    tf.lite.OpsSet.TFLITE_BUILTINS, tf.lite.OpsSet.SELECT_TF_OPS]\n",
    "tflite_model = converter.convert()\n",
    "\n",
    "# Save the model.\n",
    "# with open('/data/model.tflite', 'wb') as f:\n",
    "#   f.write(tflite_model)"
   ]
  },
  {
   "cell_type": "markdown",
   "metadata": {
    "id": "CNR6sVATy8yX"
   },
   "source": [
    "## Set Params\n",
    "\n"
   ]
  },
  {
   "cell_type": "code",
   "execution_count": null,
   "metadata": {
    "ExecuteTime": {
     "end_time": "2021-05-19T09:55:31.246437Z",
     "start_time": "2021-05-19T09:55:31.174331Z"
    },
    "id": "PaCB432zUrZu"
   },
   "outputs": [],
   "source": [
    "##@title \n",
    "\n",
    "# FPS while recording video from webcam.\n",
    "WEBCAM_FPS = 16#@param {type:\"integer\"}\n",
    "\n",
    "# Time in seconds to record video on webcam. \n",
    "RECORDING_TIME_IN_SECONDS = 8. #@param {type:\"number\"}\n",
    "\n",
    "# Threshold to consider periodicity in entire video.\n",
    "THRESHOLD = 0.2#@param {type:\"number\"}\n",
    "\n",
    "# Threshold to consider periodicity for individual frames in video.\n",
    "WITHIN_PERIOD_THRESHOLD = 0.5#@param {type:\"number\"}\n",
    "\n",
    "# Use this setting for better results when it is \n",
    "# known action is repeating at constant speed.\n",
    "CONSTANT_SPEED = False#@param {type:\"boolean\"}\n",
    "\n",
    "# Use median filtering in time to ignore noisy frames.\n",
    "MEDIAN_FILTER = True#@param {type:\"boolean\"}\n",
    "\n",
    "# Use this setting for better results when it is \n",
    "# known the entire video is periodic/reapeating and\n",
    "# has no aperiodic frames.\n",
    "FULLY_PERIODIC = False#@param {type:\"boolean\"}\n",
    "\n",
    "# Plot score in visualization video.\n",
    "PLOT_SCORE = False#@param {type:\"boolean\"}\n",
    "\n",
    "# Visualization video's FPS.\n",
    "VIZ_FPS = 30#@param {type:\"integer\"}"
   ]
  },
  {
   "cell_type": "code",
   "execution_count": null,
   "metadata": {
    "ExecuteTime": {
     "end_time": "2021-05-19T11:35:03.500751Z",
     "start_time": "2021-05-19T11:35:00.619916Z"
    },
    "colab": {
     "base_uri": "https://localhost:8080/",
     "height": 427
    },
    "id": "IScNPW9C2Urp",
    "outputId": "887bc8cc-be55-435c-e687-4cb8c295fe41"
   },
   "outputs": [],
   "source": [
    "vfile = \"/data/test-9.mp4\"\n",
    "imgs, vid_fps = read_video(vfile)\n",
    "show_video(vfile)"
   ]
  },
  {
   "cell_type": "code",
   "execution_count": null,
   "metadata": {
    "ExecuteTime": {
     "end_time": "2021-05-19T11:35:06.000315Z",
     "start_time": "2021-05-19T11:35:05.940576Z"
    }
   },
   "outputs": [],
   "source": [
    "print(len(imgs), vid_fps)"
   ]
  },
  {
   "cell_type": "markdown",
   "metadata": {
    "id": "mKWkGlEsa3Tg"
   },
   "source": [
    "# Run RepNet"
   ]
  },
  {
   "cell_type": "code",
   "execution_count": null,
   "metadata": {
    "ExecuteTime": {
     "end_time": "2021-05-19T11:37:30.530187Z",
     "start_time": "2021-05-19T11:35:17.883399Z"
    },
    "colab": {
     "base_uri": "https://localhost:8080/",
     "height": 655
    },
    "id": "FUg2vSYhmsT0",
    "outputId": "14171077-b308-411a-a901-bdab6fb3e7f5",
    "scrolled": false
   },
   "outputs": [],
   "source": [
    "print('Running RepNet...') \n",
    "(pred_period, pred_score, within_period,\n",
    " per_frame_counts, chosen_stride) = get_counts(\n",
    "     model,\n",
    "     imgs,\n",
    "     strides=[1,2,3,4],\n",
    "     batch_size=20,\n",
    "     threshold=THRESHOLD,\n",
    "     within_period_threshold=WITHIN_PERIOD_THRESHOLD,\n",
    "     constant_speed=CONSTANT_SPEED,\n",
    "     median_filter=MEDIAN_FILTER,\n",
    "     fully_periodic=True)\n",
    "print('Visualizing results...') \n",
    "viz_reps(imgs, per_frame_counts, pred_score, interval=1000/VIZ_FPS,\n",
    "         plot_score=PLOT_SCORE)\n"
   ]
  },
  {
   "cell_type": "code",
   "execution_count": null,
   "metadata": {
    "ExecuteTime": {
     "end_time": "2021-05-19T08:43:54.481285Z",
     "start_time": "2021-05-19T08:43:34.531Z"
    },
    "colab": {
     "base_uri": "https://localhost:8080/",
     "height": 321
    },
    "id": "IYcthjnIJC3P",
    "outputId": "85baf822-7dbf-40b0-eb9f-78b847d3bd24"
   },
   "outputs": [],
   "source": [
    "# Debugging video showing scores, per-frame frequency prediction and \n",
    "# within_period scores.\n",
    "# create_count_video(imgs,\n",
    "#                    per_frame_counts,\n",
    "#                    within_period,\n",
    "#                    score=pred_score,\n",
    "#                    fps=vid_fps,\n",
    "#                    output_file='/tmp/debug_video.mp4',\n",
    "#                    delay=1000/VIZ_FPS,\n",
    "#                    plot_count=True,\n",
    "#                    plot_within_period=True,\n",
    "#                    plot_score=True)\n",
    "# show_video('/tmp/debug_video.mp4')"
   ]
  }
 ],
 "metadata": {
  "accelerator": "GPU",
  "colab": {
   "collapsed_sections": [],
   "name": "repnet_colab.ipynb",
   "provenance": [],
   "toc_visible": true
  },
  "hide_input": false,
  "kernelspec": {
   "display_name": "Python 3",
   "language": "python",
   "name": "python3"
  },
  "language_info": {
   "codemirror_mode": {
    "name": "ipython",
    "version": 3
   },
   "file_extension": ".py",
   "mimetype": "text/x-python",
   "name": "python",
   "nbconvert_exporter": "python",
   "pygments_lexer": "ipython3",
   "version": "3.6.9"
  },
  "toc": {
   "base_numbering": 1,
   "nav_menu": {},
   "number_sections": true,
   "sideBar": true,
   "skip_h1_title": true,
   "title_cell": "",
   "title_sidebar": "Contents",
   "toc_cell": false,
   "toc_position": {},
   "toc_section_display": true,
   "toc_window_display": false
  }
 },
 "nbformat": 4,
 "nbformat_minor": 1
}
