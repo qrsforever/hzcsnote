{
 "cells": [
  {
   "cell_type": "code",
   "execution_count": 1,
   "id": "2e5869a0",
   "metadata": {
    "ExecuteTime": {
     "end_time": "2021-10-11T09:54:40.194691Z",
     "start_time": "2021-10-11T09:54:28.622681Z"
    }
   },
   "outputs": [
    {
     "name": "stdout",
     "output_type": "stream",
     "text": [
      "numpy 1.19.5\n",
      "sklearn 0.0\n",
      "pandas 1.1.5\n",
      "ipywidgets 7.6.3\n",
      "cv2 4.5.3\n",
      "PIL 8.3.1\n",
      "matplotlib 3.3.4\n",
      "plotly 5.3.0\n",
      "torch 1.8.1+cu101\n",
      "torchvision 0.9.1+cu101\n",
      "torchaudio not installed\n",
      "tensorflow 2.6.0\n",
      "tensorboard 2.6.0\n",
      "tflite 2.4.0\n",
      "onnx 1.10.1\n",
      "onnxruntime 1.8.1\n",
      "tensorrt not installed\n",
      "tvm not installed\n"
     ]
    },
    {
     "data": {
      "text/html": [
       "<style>.container { width:95% !important; }</style>"
      ],
      "text/plain": [
       "<IPython.core.display.HTML object>"
      ]
     },
     "metadata": {},
     "output_type": "display_data"
    }
   ],
   "source": [
    "%reload_ext watermark\n",
    "%reload_ext autoreload\n",
    "%autoreload 2\n",
    "%watermark -p numpy,sklearn,pandas\n",
    "%watermark -p ipywidgets,cv2,PIL,matplotlib,plotly\n",
    "%watermark -p torch,torchvision,torchaudio\n",
    "%watermark -p tensorflow,tensorboard,tflite\n",
    "%watermark -p onnx,onnxruntime,tensorrt,tvm\n",
    "%matplotlib inline\n",
    "%config InlineBackend.figure_format='retina'\n",
    "%config IPCompleter.use_jedi = False\n",
    "\n",
    "from IPython.display import display, Markdown, HTML, Image, Javascript\n",
    "from IPython.core.magic import register_line_cell_magic, register_line_magic, register_cell_magic\n",
    "display(HTML('<style>.container { width:%d%% !important; }</style>' % 95))\n",
    "\n",
    "import sys, os, io, time, random, math\n",
    "import json, base64, requests, shutil\n",
    "import os.path as osp\n",
    "import numpy as np\n",
    "\n",
    "def _IMPORT(x):\n",
    "    try:\n",
    "        x = x.strip()\n",
    "        if x.startswith('https://'):\n",
    "            x = x[8:]\n",
    "        if not x.endswith('.py'):\n",
    "            x = x + '.py'\n",
    "        if x[0] == '/':\n",
    "            with open(x) as fr:\n",
    "                x = fr.read()\n",
    "        else:\n",
    "            x = x.replace('blob/main/', '').replace('blob/master/', '')\n",
    "            if x.startswith('raw.githubusercontent.com'):\n",
    "                uri = 'https://' + x\n",
    "                x = requests.get(uri)\n",
    "                if x.status_code == 200:\n",
    "                    x = x.text\n",
    "            elif x.startswith('github.com'):\n",
    "                uri = x.replace('github.com', 'raw.githubusercontent.com')\n",
    "                mod = uri.split('/')\n",
    "                for s in ['main', 'master']:\n",
    "                    uri = 'https://' + '/'.join(mod[:3]) + s + '/'.join(mod[-3:])\n",
    "                    x = requests.get(uri)\n",
    "                    if x.status_code == 200:\n",
    "                        x = x.text\n",
    "                        break\n",
    "            elif x.startswith('gitee.com'):\n",
    "                mod = x.split('/')\n",
    "                for s in ['/raw/main/', '/raw/master/']:\n",
    "                    uri = 'https://' + '/'.join(mod[:3]) + s + '/'.join(mod[3:])\n",
    "                    x = requests.get(uri)\n",
    "                    if x.status_code == 200:\n",
    "                        x = x.text\n",
    "                        break\n",
    "        exec(x, globals())\n",
    "    except:\n",
    "        pass\n",
    "\n",
    "def _DIR(x, dumps=True, ret=True):\n",
    "    attrs = sorted([y for y in dir(x) if not y.startswith('_')])\n",
    "    result = '%s: %s' % (str(type(x))[8:-2], json.dumps(attrs) if dumps else attrs)\n",
    "    if ret:\n",
    "        return result\n",
    "    print(result)\n",
    "\n"
   ]
  },
  {
   "cell_type": "code",
   "execution_count": 85,
   "id": "02af090a",
   "metadata": {
    "ExecuteTime": {
     "end_time": "2021-10-11T11:05:37.657440Z",
     "start_time": "2021-10-11T11:05:37.462659Z"
    }
   },
   "outputs": [],
   "source": [
    "os.environ[\"TF_CPP_MIN_LOG_LEVEL\"] = \"3\"\n",
    "import tensorflow as tf\n",
    "import numpy as np"
   ]
  },
  {
   "cell_type": "code",
   "execution_count": 60,
   "id": "981b3641",
   "metadata": {
    "ExecuteTime": {
     "end_time": "2021-10-11T10:10:03.095367Z",
     "start_time": "2021-10-11T10:10:02.358355Z"
    }
   },
   "outputs": [],
   "source": [
    "_IMPORT('gitee.com/qrsforever/blog_source_codes/AI/tensorflow/misc/ResnetPeriodEstimator')"
   ]
  },
  {
   "cell_type": "code",
   "execution_count": 75,
   "id": "cb2354b6",
   "metadata": {
    "ExecuteTime": {
     "end_time": "2021-10-11T10:14:59.169426Z",
     "start_time": "2021-10-11T10:14:59.003679Z"
    }
   },
   "outputs": [],
   "source": [
    "BATCH_SIZE = 1\n",
    "IMAGE_W = 112\n",
    "IMAGE_H = 112\n",
    "NUM_FRAMES = 64\n",
    "SIM_TEMPERATURE = 13.544\n",
    "\n",
    "SAVED_MODEL_ROOT = '/data/nb_data/split_repnet_model'"
   ]
  },
  {
   "cell_type": "markdown",
   "id": "4102ca92",
   "metadata": {},
   "source": [
    "## Download and Restore Model Weights"
   ]
  },
  {
   "cell_type": "code",
   "execution_count": 5,
   "id": "b8f02979",
   "metadata": {
    "ExecuteTime": {
     "end_time": "2021-10-11T09:54:43.751412Z",
     "start_time": "2021-10-11T09:54:42.489483Z"
    }
   },
   "outputs": [],
   "source": [
    "PATH_TO_CKPT = '/data/pretrained/cv/repnet/'\n",
    "\n",
    "!test ! -d $PATH_TO_CKPT && mkdir -p $PATH_TO_CKPT && \\\n",
    "    wget -P $PATH_TO_CKPT https://storage.googleapis.com/repnet_ckpt/checkpoint && \\\n",
    "    wget -P $PATH_TO_CKPT https://storage.googleapis.com/repnet_ckpt/ckpt-88.data-00000-of-00002 && \\\n",
    "    wget -P $PATH_TO_CKPT https://storage.googleapis.com/repnet_ckpt/ckpt-88.data-00001-of-00002 && \\\n",
    "    wget -P $PATH_TO_CKPT https://storage.googleapis.com/repnet_ckpt/ckpt-88.index"
   ]
  },
  {
   "cell_type": "code",
   "execution_count": 6,
   "id": "873bbe61",
   "metadata": {
    "ExecuteTime": {
     "end_time": "2021-10-11T09:54:48.936944Z",
     "start_time": "2021-10-11T09:54:43.754133Z"
    }
   },
   "outputs": [],
   "source": [
    "model = ResnetPeriodEstimator()\n",
    "model.call = tf.function(model.call)\n",
    "tf.train.Checkpoint(model=model).restore(f'{PATH_TO_CKPT}/ckpt-88').expect_partial()\n",
    "test_inputs = np.random.randn(BATCH_SIZE, NUM_FRAMES, IMAGE_H, IMAGE_W, 3).astype(np.float32)\n",
    "test_inputs_tensor = tf.convert_to_tensor(test_inputs)"
   ]
  },
  {
   "cell_type": "code",
   "execution_count": 7,
   "id": "77f0d3a6",
   "metadata": {
    "ExecuteTime": {
     "end_time": "2021-10-11T09:54:56.361742Z",
     "start_time": "2021-10-11T09:54:48.940750Z"
    }
   },
   "outputs": [
    {
     "data": {
      "text/plain": [
       "(TensorShape([1, 64, 32]), TensorShape([1, 64, 1]), TensorShape([1, 64, 512]))"
      ]
     },
     "execution_count": 7,
     "metadata": {},
     "output_type": "execute_result"
    }
   ],
   "source": [
    "test_outputs = model(test_inputs_tensor)\n",
    "test_outputs[0].shape, test_outputs[1].shape, test_outputs[2].shape"
   ]
  },
  {
   "cell_type": "code",
   "execution_count": 8,
   "id": "a77f5576",
   "metadata": {
    "ExecuteTime": {
     "end_time": "2021-10-11T09:54:56.583828Z",
     "start_time": "2021-10-11T09:54:56.364626Z"
    }
   },
   "outputs": [
    {
     "name": "stdout",
     "output_type": "stream",
     "text": [
      "Model: \"resnet_period_estimator\"\n",
      "_________________________________________________________________\n",
      "Layer (type)                 Output Shape              Param #   \n",
      "=================================================================\n",
      "model (Functional)           (None, None, None, 1024)  5209600   \n",
      "_________________________________________________________________\n",
      "conv3d (Conv3D)              multiple                  14156288  \n",
      "_________________________________________________________________\n",
      "batch_normalization (BatchNo multiple                  2048      \n",
      "_________________________________________________________________\n",
      "conv2d (Conv2D)              multiple                  320       \n",
      "_________________________________________________________________\n",
      "dense (Dense)                multiple                  1049088   \n",
      "_________________________________________________________________\n",
      "dense_1 (Dense)              multiple                  1049088   \n",
      "_________________________________________________________________\n",
      "transformer_layer (Transform multiple                  1577984   \n",
      "_________________________________________________________________\n",
      "transformer_layer_1 (Transfo multiple                  1577984   \n",
      "_________________________________________________________________\n",
      "dropout_4 (Dropout)          multiple                  0         \n",
      "_________________________________________________________________\n",
      "dense_14 (Dense)             multiple                  262656    \n",
      "_________________________________________________________________\n",
      "dense_15 (Dense)             multiple                  262656    \n",
      "_________________________________________________________________\n",
      "dense_16 (Dense)             multiple                  16416     \n",
      "_________________________________________________________________\n",
      "dense_17 (Dense)             multiple                  262656    \n",
      "_________________________________________________________________\n",
      "dense_18 (Dense)             multiple                  262656    \n",
      "_________________________________________________________________\n",
      "dense_19 (Dense)             multiple                  513       \n",
      "=================================================================\n",
      "Total params: 25,690,081\n",
      "Trainable params: 25,673,313\n",
      "Non-trainable params: 16,768\n",
      "_________________________________________________________________\n"
     ]
    }
   ],
   "source": [
    "model.summary()"
   ]
  },
  {
   "cell_type": "code",
   "execution_count": 9,
   "id": "c44f56fc",
   "metadata": {
    "ExecuteTime": {
     "end_time": "2021-10-11T09:54:56.764091Z",
     "start_time": "2021-10-11T09:54:56.586180Z"
    },
    "scrolled": true
   },
   "outputs": [
    {
     "data": {
      "text/plain": [
       "'__main__.ResnetPeriodEstimator: [\"activity_regularizer\", \"add_loss\", \"add_metric\", \"add_update\", \"add_variable\", \"add_weight\", \"apply\", \"base_model\", \"base_model_layer_name\", \"build\", \"built\", \"call\", \"compile\", \"compiled_loss\", \"compiled_metrics\", \"compute_dtype\", \"compute_mask\", \"compute_output_shape\", \"compute_output_signature\", \"conv_3x3_layer\", \"conv_channels\", \"conv_kernel_size\", \"count_params\", \"distribute_strategy\", \"dropout_layer\", \"dropout_rate\", \"dtype\", \"dtype_policy\", \"dynamic\", \"evaluate\", \"evaluate_generator\", \"fc_layers\", \"finalize_state\", \"fit\", \"fit_generator\", \"from_config\", \"get_config\", \"get_input_at\", \"get_input_mask_at\", \"get_input_shape_at\", \"get_layer\", \"get_losses_for\", \"get_output_at\", \"get_output_mask_at\", \"get_output_shape_at\", \"get_updates_for\", \"get_weights\", \"history\", \"image_size\", \"inbound_nodes\", \"input\", \"input_mask\", \"input_names\", \"input_projection\", \"input_projection2\", \"input_shape\", \"input_spec\", \"inputs\", \"l2_reg_weight\", \"layers\", \"load_weights\", \"losses\", \"make_predict_function\", \"make_test_function\", \"make_train_function\", \"metrics\", \"metrics_names\", \"name\", \"name_scope\", \"non_trainable_variables\", \"non_trainable_weights\", \"num_frames\", \"optimizer\", \"outbound_nodes\", \"output\", \"output_mask\", \"output_names\", \"output_shape\", \"outputs\", \"period_fc_channels\", \"pos_encoding\", \"pos_encoding2\", \"predict\", \"predict_function\", \"predict_generator\", \"predict_on_batch\", \"predict_step\", \"preprocess\", \"reset_metrics\", \"reset_states\", \"run_eagerly\", \"save\", \"save_spec\", \"save_weights\", \"set_weights\", \"state_updates\", \"stateful\", \"stop_training\", \"submodules\", \"summary\", \"supports_masking\", \"temperature\", \"temporal_bn_layers\", \"temporal_conv_channels\", \"temporal_conv_dilation_rate\", \"temporal_conv_kernel_size\", \"temporal_conv_layers\", \"test_function\", \"test_on_batch\", \"test_step\", \"to_json\", \"to_yaml\", \"train_function\", \"train_on_batch\", \"train_step\", \"train_tf_function\", \"trainable\", \"trainable_variables\", \"trainable_weights\", \"transformer_dropout_rate\", \"transformer_layers\", \"transformer_layers2\", \"transformer_layers_config\", \"transformer_reorder_ln\", \"updates\", \"variable_dtype\", \"variables\", \"weights\", \"with_name_scope\", \"within_period_fc_channels\", \"within_period_fc_layers\"]'"
      ]
     },
     "execution_count": 9,
     "metadata": {},
     "output_type": "execute_result"
    }
   ],
   "source": [
    "_DIR(model)"
   ]
  },
  {
   "cell_type": "markdown",
   "id": "fb1eec0d",
   "metadata": {},
   "source": [
    "## Split Model"
   ]
  },
  {
   "cell_type": "markdown",
   "id": "48537fe0",
   "metadata": {},
   "source": [
    "### Model Part-1"
   ]
  },
  {
   "cell_type": "code",
   "execution_count": 37,
   "id": "c9d9453d",
   "metadata": {
    "ExecuteTime": {
     "end_time": "2021-10-11T10:02:44.873294Z",
     "start_time": "2021-10-11T10:02:44.704444Z"
    }
   },
   "outputs": [],
   "source": [
    "class ResnetPart1(tf.keras.models.Model):\n",
    "    def __init__(self, model):\n",
    "        super().__init__(name='ResnetPart1')\n",
    "        self.base_model = tf.keras.models.Model(\n",
    "            name='base_model', inputs=model.base_model.input,\n",
    "            outputs=model.base_model.get_layer('conv4_block3_out').output)\n",
    "    \n",
    "    def call(self, x):\n",
    "        x = tf.reshape(x, (-1, IMAGE_H, IMAGE_W, 3))\n",
    "        return self.base_model(x)"
   ]
  },
  {
   "cell_type": "code",
   "execution_count": 86,
   "id": "2393d436",
   "metadata": {
    "ExecuteTime": {
     "end_time": "2021-10-11T11:10:27.922616Z",
     "start_time": "2021-10-11T11:10:26.481314Z"
    }
   },
   "outputs": [
    {
     "data": {
      "text/plain": [
       "(<tf.Tensor: shape=(3,), dtype=float32, numpy=array([ 0.76912963, -0.29019433, -0.14487836], dtype=float32)>,\n",
       " '------------------------------------------------------------------------------------------',\n",
       " TensorShape([64, 7, 7, 1024]))"
      ]
     },
     "execution_count": 86,
     "metadata": {},
     "output_type": "execute_result"
    }
   ],
   "source": [
    "model1 = ResnetPart1(model)\n",
    "model_part1_outputs = model1(test_inputs_tensor)\n",
    "tf.reshape(model_part1_outputs, (-1,))[:3], '-'*90, model_part1_outputs.shape"
   ]
  },
  {
   "cell_type": "code",
   "execution_count": 39,
   "id": "cd6b4cb3",
   "metadata": {
    "ExecuteTime": {
     "end_time": "2021-10-11T10:02:49.154188Z",
     "start_time": "2021-10-11T10:02:48.956016Z"
    }
   },
   "outputs": [
    {
     "name": "stdout",
     "output_type": "stream",
     "text": [
      "Model: \"ResnetPart1\"\n",
      "__________________________________________________________________________________________\n",
      "Layer (type)                            Output Shape                        Param #       \n",
      "==========================================================================================\n",
      "base_model (Functional)                 (None, None, None, 1024)            5209600       \n",
      "==========================================================================================\n",
      "Total params: 5,209,600\n",
      "Trainable params: 5,193,856\n",
      "Non-trainable params: 15,744\n",
      "__________________________________________________________________________________________\n"
     ]
    }
   ],
   "source": [
    "model1.summary(line_length=90)"
   ]
  },
  {
   "cell_type": "code",
   "execution_count": null,
   "id": "bb06b818",
   "metadata": {},
   "outputs": [],
   "source": [
    "model1.save(filepath=f'{SAVED_MODEL_ROOT}/model1', save_format='tf')"
   ]
  },
  {
   "cell_type": "markdown",
   "id": "38776fc2",
   "metadata": {},
   "source": [
    "### Model Part-2"
   ]
  },
  {
   "cell_type": "code",
   "execution_count": 57,
   "id": "9537183b",
   "metadata": {
    "ExecuteTime": {
     "end_time": "2021-10-11T10:09:18.637619Z",
     "start_time": "2021-10-11T10:09:18.425044Z"
    }
   },
   "outputs": [],
   "source": [
    "class ResnetPart2(tf.keras.models.Model):\n",
    "    def __init__(self, model):\n",
    "        super().__init__(name='ResnetPart2')\n",
    "        self.temporal_conv_layer = layers.Conv3D(\n",
    "            512, 3, padding='same', name='temporal_conv_layer',\n",
    "            dilation_rate=(3, 1, 1), weights=model.temporal_conv_layers[0].get_weights())\n",
    "        self.temporal_bn_layers = layers.BatchNormalization(\n",
    "            name='temporal_bn_layers', weights=model.temporal_bn_layers[0].get_weights())                  \n",
    "        \n",
    "    def call(self, x):\n",
    "        x = tf.reshape(x, [BATCH_SIZE, -1] + x.shape.as_list()[1:])\n",
    "        x = self.temporal_conv_layer(x)\n",
    "        x = self.temporal_bn_layers(x)\n",
    "        x = tf.nn.relu(x)\n",
    "        return tf.reduce_max(x, [2, 3])"
   ]
  },
  {
   "cell_type": "code",
   "execution_count": 58,
   "id": "6ff8b049",
   "metadata": {
    "ExecuteTime": {
     "end_time": "2021-10-11T10:09:20.033548Z",
     "start_time": "2021-10-11T10:09:18.878958Z"
    }
   },
   "outputs": [
    {
     "data": {
      "text/plain": [
       "(<tf.Tensor: shape=(3,), dtype=float32, numpy=array([0.       , 1.0784211, 0.7234727], dtype=float32)>,\n",
       " '------------------------------------------------------------',\n",
       " <tf.Tensor: shape=(3,), dtype=float32, numpy=array([0.       , 1.0784211, 0.7234727], dtype=float32)>)"
      ]
     },
     "execution_count": 58,
     "metadata": {},
     "output_type": "execute_result"
    }
   ],
   "source": [
    "model2 = ResnetPart2(model)\n",
    "model_part2_outputs = model2(model_part1_outputs)\n",
    "tf.reshape(model_part2_outputs, (-1,))[:3], '-'*60, tf.reshape(test_outputs[2], (-1,))[:3]"
   ]
  },
  {
   "cell_type": "code",
   "execution_count": 59,
   "id": "c265cb20",
   "metadata": {
    "ExecuteTime": {
     "end_time": "2021-10-11T10:09:20.241225Z",
     "start_time": "2021-10-11T10:09:20.049452Z"
    }
   },
   "outputs": [
    {
     "name": "stdout",
     "output_type": "stream",
     "text": [
      "Model: \"ResnetPart2\"\n",
      "__________________________________________________________________________________________\n",
      "Layer (type)                            Output Shape                        Param #       \n",
      "==========================================================================================\n",
      "temporal_conv_layer (Conv3D)            multiple                            14156288      \n",
      "__________________________________________________________________________________________\n",
      "temporal_bn_layers (BatchNormalization) multiple                            2048          \n",
      "==========================================================================================\n",
      "Total params: 14,158,336\n",
      "Trainable params: 14,157,312\n",
      "Non-trainable params: 1,024\n",
      "__________________________________________________________________________________________\n"
     ]
    }
   ],
   "source": [
    "model2.summary(line_length=90)"
   ]
  },
  {
   "cell_type": "code",
   "execution_count": 77,
   "id": "0b4fd6d7",
   "metadata": {
    "ExecuteTime": {
     "end_time": "2021-10-11T10:21:13.081371Z",
     "start_time": "2021-10-11T10:21:09.149692Z"
    }
   },
   "outputs": [
    {
     "name": "stdout",
     "output_type": "stream",
     "text": [
      "INFO:tensorflow:Assets written to: /data/nb_data/split_repnet_model/model2/assets\n"
     ]
    }
   ],
   "source": [
    "model2.save(filepath=f'{SAVED_MODEL_ROOT}/model2', save_format='tf')"
   ]
  },
  {
   "cell_type": "markdown",
   "id": "e61bf389",
   "metadata": {},
   "source": [
    "### Model Part-3"
   ]
  },
  {
   "cell_type": "code",
   "execution_count": 69,
   "id": "34287060",
   "metadata": {
    "ExecuteTime": {
     "end_time": "2021-10-11T10:12:28.482585Z",
     "start_time": "2021-10-11T10:12:28.267694Z"
    }
   },
   "outputs": [],
   "source": [
    "class ResnetPart3(tf.keras.models.Model):\n",
    "    def __init__(self, model):\n",
    "        super().__init__(name='ResnetPart3')\n",
    "        self.conv_3x3_layer = layers.Conv2D(\n",
    "            32, 3, padding='same', activation=tf.nn.relu, name='conv_3x3_layer',\n",
    "            weights=model.conv_3x3_layer.get_weights())\n",
    "        \n",
    "        self.input_projection1 = layers.Dense(\n",
    "            512, activation=None, name='input_projection1',\n",
    "            weights=model.input_projection.get_weights())\n",
    "        self.input_projection2 = layers.Dense(\n",
    "            512, activation=None, name='input_projection2',\n",
    "            weights=model.input_projection2.get_weights())\n",
    "        \n",
    "        self.pos_encoding1 = tf.compat.v1.get_variable(name='pos_encoding',  initializer=model.pos_encoding.numpy())\n",
    "        self.pos_encoding2 = tf.compat.v1.get_variable(name='pos_encoding2', initializer=model.pos_encoding2.numpy())\n",
    "        \n",
    "        self.transformer_layer1 = TransformerLayer(512, 4, 512, 0.0, True, name='transformer_layer1')\n",
    "        self.transformer_layer1(tf.random.uniform((BATCH_SIZE, NUM_FRAMES, 512)))\n",
    "        self.transformer_layer1.set_weights(model.transformer_layers[0].get_weights())\n",
    "        \n",
    "        self.transformer_layer2 = TransformerLayer(512, 4, 512, 0.0, True, name='transformer_layer2')\n",
    "        self.transformer_layer2(tf.random.uniform((BATCH_SIZE, NUM_FRAMES, 512)))\n",
    "        self.transformer_layer2.set_weights(model.transformer_layers2[0].get_weights())\n",
    "        \n",
    "        self.dropout_layer = layers.Dropout(0.25, name='dropout', weights=model.dropout_layer.get_weights())\n",
    "        self.fc_layers = [\n",
    "            layers.Dense(512, activation=tf.nn.relu, name='fc_0', weights=model.fc_layers[0].get_weights()),\n",
    "            layers.Dense(512, activation=tf.nn.relu, name='fc_1', weights=model.fc_layers[1].get_weights()),\n",
    "            layers.Dense(NUM_FRAMES//2, name='fc_layers_2', weights=model.fc_layers[2].get_weights()),\n",
    "        ]\n",
    "        \n",
    "        self.within_period_fc_layers = [\n",
    "            layers.Dense(512, activation=tf.nn.relu, name='within_period_fc_0', weights=model.within_period_fc_layers[0].get_weights()),\n",
    "            layers.Dense(512, activation=tf.nn.relu, name='within_period_fc_1', weights=model.within_period_fc_layers[1].get_weights()),\n",
    "            layers.Dense(1, name='within_period_fc_2', weights=model.within_period_fc_layers[2].get_weights()),\n",
    "        ]\n",
    "                                            \n",
    "    def call(self, x):\n",
    "        x = get_sims(x, SIM_TEMPERATURE)\n",
    "        x = self.conv_3x3_layer(x)\n",
    "        x = tf.reshape(x, [BATCH_SIZE, NUM_FRAMES, -1])\n",
    "        within_period_x = x\n",
    "        \n",
    "        x = self.input_projection1(x)\n",
    "        x += self.pos_encoding1\n",
    "        x = self.transformer_layer1(x)\n",
    "        x = flatten_sequential_feats(x, BATCH_SIZE, NUM_FRAMES)\n",
    "\n",
    "        for fc_layer in self.fc_layers:\n",
    "            x = self.dropout_layer(x)\n",
    "            x = fc_layer(x)\n",
    "            \n",
    "        within_period_x = self.input_projection2(within_period_x)\n",
    "        within_period_x += self.pos_encoding2\n",
    "        within_period_x = self.transformer_layer2(within_period_x)\n",
    "        within_period_x = flatten_sequential_feats(within_period_x, BATCH_SIZE, NUM_FRAMES)\n",
    "\n",
    "        for fc_layer in self.within_period_fc_layers:\n",
    "            within_period_x = self.dropout_layer(within_period_x)\n",
    "            within_period_x = fc_layer(within_period_x)\n",
    "            \n",
    "        return x, within_period_x"
   ]
  },
  {
   "cell_type": "code",
   "execution_count": 70,
   "id": "77bcbb1b",
   "metadata": {
    "ExecuteTime": {
     "end_time": "2021-10-11T10:12:30.563407Z",
     "start_time": "2021-10-11T10:12:29.688414Z"
    }
   },
   "outputs": [
    {
     "data": {
      "text/plain": [
       "(<tf.Tensor: shape=(3,), dtype=float32, numpy=array([-12.34874  ,   2.2500176,  -1.090362 ], dtype=float32)>,\n",
       " '------------------------------------------------------------',\n",
       " <tf.Tensor: shape=(3,), dtype=float32, numpy=array([-12.34874 ,   2.250026,  -1.090359], dtype=float32)>)"
      ]
     },
     "execution_count": 70,
     "metadata": {},
     "output_type": "execute_result"
    }
   ],
   "source": [
    "model3 = ResnetPart3(model)\n",
    "model_part3_outputs = model3(model_part2_outputs)\n",
    "tf.reshape(model_part3_outputs[0], (-1,))[:3], '-'*60, tf.reshape(test_outputs[0], (-1,))[:3]"
   ]
  },
  {
   "cell_type": "code",
   "execution_count": 71,
   "id": "5a537bc3",
   "metadata": {
    "ExecuteTime": {
     "end_time": "2021-10-11T10:12:30.875989Z",
     "start_time": "2021-10-11T10:12:30.694747Z"
    }
   },
   "outputs": [
    {
     "name": "stdout",
     "output_type": "stream",
     "text": [
      "Model: \"ResnetPart3\"\n",
      "__________________________________________________________________________________________\n",
      "Layer (type)                            Output Shape                        Param #       \n",
      "==========================================================================================\n",
      "conv_3x3_layer (Conv2D)                 multiple                            320           \n",
      "__________________________________________________________________________________________\n",
      "input_projection1 (Dense)               multiple                            1049088       \n",
      "__________________________________________________________________________________________\n",
      "input_projection2 (Dense)               multiple                            1049088       \n",
      "__________________________________________________________________________________________\n",
      "transformer_layer1 (TransformerLayer)   multiple                            1577984       \n",
      "__________________________________________________________________________________________\n",
      "transformer_layer2 (TransformerLayer)   multiple                            1577984       \n",
      "__________________________________________________________________________________________\n",
      "dropout (Dropout)                       multiple                            0             \n",
      "__________________________________________________________________________________________\n",
      "fc_0 (Dense)                            multiple                            262656        \n",
      "__________________________________________________________________________________________\n",
      "fc_1 (Dense)                            multiple                            262656        \n",
      "__________________________________________________________________________________________\n",
      "fc_layers_2 (Dense)                     multiple                            16416         \n",
      "__________________________________________________________________________________________\n",
      "within_period_fc_0 (Dense)              multiple                            262656        \n",
      "__________________________________________________________________________________________\n",
      "within_period_fc_1 (Dense)              multiple                            262656        \n",
      "__________________________________________________________________________________________\n",
      "within_period_fc_2 (Dense)              multiple                            513           \n",
      "==========================================================================================\n",
      "Total params: 6,322,145\n",
      "Trainable params: 6,322,145\n",
      "Non-trainable params: 0\n",
      "__________________________________________________________________________________________\n"
     ]
    }
   ],
   "source": [
    "model3.summary(line_length=90)"
   ]
  },
  {
   "cell_type": "code",
   "execution_count": 79,
   "id": "a51000a1",
   "metadata": {
    "ExecuteTime": {
     "end_time": "2021-10-11T10:52:01.968556Z",
     "start_time": "2021-10-11T10:51:42.834024Z"
    }
   },
   "outputs": [
    {
     "name": "stderr",
     "output_type": "stream",
     "text": [
      "WARNING:absl:Found untraced functions such as multi_head_attention_15_layer_call_and_return_conditional_losses, multi_head_attention_15_layer_call_fn, layer_normalization_30_layer_call_and_return_conditional_losses, layer_normalization_30_layer_call_fn, layer_normalization_31_layer_call_and_return_conditional_losses while saving (showing 5 of 90). These functions will not be directly callable after loading.\n"
     ]
    },
    {
     "name": "stdout",
     "output_type": "stream",
     "text": [
      "INFO:tensorflow:Assets written to: /data/nb_data/split_repnet_model/model3/assets\n"
     ]
    },
    {
     "name": "stderr",
     "output_type": "stream",
     "text": [
      "INFO:tensorflow:Assets written to: /data/nb_data/split_repnet_model/model3/assets\n"
     ]
    }
   ],
   "source": [
    "model3.save(filepath=f'{SAVED_MODEL_ROOT}/model3', save_format='tf')"
   ]
  },
  {
   "cell_type": "markdown",
   "id": "a2959827",
   "metadata": {},
   "source": [
    "### Test"
   ]
  },
  {
   "cell_type": "code",
   "execution_count": 72,
   "id": "581266cd",
   "metadata": {
    "ExecuteTime": {
     "end_time": "2021-10-11T10:12:46.264113Z",
     "start_time": "2021-10-11T10:12:44.091888Z"
    }
   },
   "outputs": [
    {
     "data": {
      "text/plain": [
       "(TensorShape([1, 64, 32]), TensorShape([1, 64, 1]))"
      ]
     },
     "execution_count": 72,
     "metadata": {},
     "output_type": "execute_result"
    }
   ],
   "source": [
    "outputs = model3(model2(model1(test_inputs_tensor)))\n",
    "outputs[0].shape, outputs[1].shape"
   ]
  },
  {
   "cell_type": "code",
   "execution_count": 73,
   "id": "dfce1164",
   "metadata": {
    "ExecuteTime": {
     "end_time": "2021-10-11T10:12:46.477454Z",
     "start_time": "2021-10-11T10:12:46.301779Z"
    }
   },
   "outputs": [
    {
     "data": {
      "text/plain": [
       "(<tf.Tensor: shape=(3,), dtype=float32, numpy=array([-12.34874  ,   2.2500176,  -1.090362 ], dtype=float32)>,\n",
       " '------------------------------------------------------------',\n",
       " <tf.Tensor: shape=(3,), dtype=float32, numpy=array([-12.34874 ,   2.250026,  -1.090359], dtype=float32)>)"
      ]
     },
     "execution_count": 73,
     "metadata": {},
     "output_type": "execute_result"
    }
   ],
   "source": [
    "tf.reshape(outputs[0], (-1,))[:3], '-'*60, tf.reshape(test_outputs[0], (-1,))[:3]"
   ]
  },
  {
   "cell_type": "code",
   "execution_count": 74,
   "id": "b68ea368",
   "metadata": {
    "ExecuteTime": {
     "end_time": "2021-10-11T10:12:47.362959Z",
     "start_time": "2021-10-11T10:12:47.185530Z"
    }
   },
   "outputs": [
    {
     "data": {
      "text/plain": [
       "(<tf.Tensor: shape=(3,), dtype=float32, numpy=array([1.4859768, 1.630618 , 1.6552675], dtype=float32)>,\n",
       " '------------------------------------------------------------',\n",
       " <tf.Tensor: shape=(3,), dtype=float32, numpy=array([1.4859803, 1.6306198, 1.6552691], dtype=float32)>)"
      ]
     },
     "execution_count": 74,
     "metadata": {},
     "output_type": "execute_result"
    }
   ],
   "source": [
    "tf.reshape(outputs[1], (-1,))[:3], '-'*60, tf.reshape(test_outputs[1], (-1,))[:3]"
   ]
  },
  {
   "cell_type": "markdown",
   "id": "0b8e73cb",
   "metadata": {},
   "source": [
    "## Load Model and Test"
   ]
  },
  {
   "cell_type": "code",
   "execution_count": 101,
   "id": "dd44cc01",
   "metadata": {
    "ExecuteTime": {
     "end_time": "2021-10-11T12:33:35.689159Z",
     "start_time": "2021-10-11T12:33:34.198076Z"
    }
   },
   "outputs": [],
   "source": [
    "model2_loaded = tf.saved_model.load(f'{SAVED_MODEL_ROOT}/model2')\n",
    "model2_graph_infer = model2_loaded.signatures['serving_default']"
   ]
  },
  {
   "cell_type": "code",
   "execution_count": 105,
   "id": "ac9396a9",
   "metadata": {
    "ExecuteTime": {
     "end_time": "2021-10-11T12:33:42.678409Z",
     "start_time": "2021-10-11T12:33:41.976824Z"
    },
    "scrolled": true
   },
   "outputs": [
    {
     "data": {
      "text/plain": [
       "(<tf.Tensor: shape=(3,), dtype=float32, numpy=array([0.       , 1.0784211, 0.7234727], dtype=float32)>,\n",
       " <tf.Tensor: shape=(3,), dtype=float32, numpy=array([0.       , 1.0784211, 0.7234727], dtype=float32)>)"
      ]
     },
     "execution_count": 105,
     "metadata": {},
     "output_type": "execute_result"
    }
   ],
   "source": [
    "tf.reshape(model2_graph_infer(model_part1_outputs)['output_1'], (-1,))[:3], tf.reshape(model_part2_outputs, (-1,))[:3]"
   ]
  },
  {
   "cell_type": "code",
   "execution_count": 104,
   "id": "7653a64c",
   "metadata": {
    "ExecuteTime": {
     "end_time": "2021-10-11T12:33:41.756138Z",
     "start_time": "2021-10-11T12:33:40.983038Z"
    }
   },
   "outputs": [
    {
     "data": {
      "text/plain": [
       "(<tf.Tensor: shape=(3,), dtype=float32, numpy=array([0.       , 1.0784211, 0.7234727], dtype=float32)>,\n",
       " <tf.Tensor: shape=(3,), dtype=float32, numpy=array([0.       , 1.0784211, 0.7234727], dtype=float32)>)"
      ]
     },
     "execution_count": 104,
     "metadata": {},
     "output_type": "execute_result"
    }
   ],
   "source": [
    "tf.reshape(model2_loaded(model_part1_outputs), (-1,))[:3], tf.reshape(model_part2_outputs, (-1,))[:3]"
   ]
  }
 ],
 "metadata": {
  "hide_input": false,
  "kernelspec": {
   "display_name": "Python 3",
   "language": "python",
   "name": "python3"
  },
  "language_info": {
   "codemirror_mode": {
    "name": "ipython",
    "version": 3
   },
   "file_extension": ".py",
   "mimetype": "text/x-python",
   "name": "python",
   "nbconvert_exporter": "python",
   "pygments_lexer": "ipython3",
   "version": "3.6.9"
  },
  "toc": {
   "base_numbering": 1,
   "nav_menu": {
    "height": "177px",
    "width": "596px"
   },
   "number_sections": true,
   "sideBar": true,
   "skip_h1_title": true,
   "title_cell": "",
   "title_sidebar": "Contents",
   "toc_cell": false,
   "toc_position": {},
   "toc_section_display": true,
   "toc_window_display": false
  }
 },
 "nbformat": 4,
 "nbformat_minor": 5
}
