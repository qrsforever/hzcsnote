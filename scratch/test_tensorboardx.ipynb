{
 "cells": [
  {
   "cell_type": "code",
   "execution_count": 1,
   "metadata": {
    "ExecuteTime": {
     "end_time": "2020-04-14T04:17:57.807160Z",
     "start_time": "2020-04-14T04:17:56.315769Z"
    }
   },
   "outputs": [],
   "source": [
    "import torch\n",
    "import torchvision.utils as vutils\n",
    "import numpy as np\n",
    "import torchvision.models as models\n",
    "from torchvision import datasets\n",
    "from torch.utils.tensorboard import SummaryWriter\n",
    "from k12libs.utils.nb_easy import k12ai_start_tensorboard, k12ai_set_notebook, K12AI_NBDATA_ROOT"
   ]
  },
  {
   "cell_type": "code",
   "execution_count": 2,
   "metadata": {
    "ExecuteTime": {
     "end_time": "2020-04-14T04:17:57.814945Z",
     "start_time": "2020-04-14T04:17:57.810778Z"
    }
   },
   "outputs": [],
   "source": [
    "logdir = '/tmp/scratch'"
   ]
  },
  {
   "cell_type": "code",
   "execution_count": 3,
   "metadata": {
    "ExecuteTime": {
     "end_time": "2020-04-14T04:17:59.427066Z",
     "start_time": "2020-04-14T04:17:57.817773Z"
    }
   },
   "outputs": [
    {
     "data": {
      "text/html": [
       "<style>.container { width:90% !important; }</style>"
      ],
      "text/plain": [
       "<IPython.core.display.HTML object>"
      ]
     },
     "metadata": {},
     "output_type": "display_data"
    },
    {
     "name": "stdout",
     "output_type": "stream",
     "text": [
      "Selecting TensorBoard with logdir /tmp/scratch (started 0:00:01 ago; port 9002, pid 5857).\n"
     ]
    },
    {
     "data": {
      "text/html": [
       "\n",
       "      <iframe id=\"tensorboard-frame-2df383ee3ba9c35\" width=\"100%\" height=\"800\" frameborder=\"0\">\n",
       "      </iframe>\n",
       "      <script>\n",
       "        (function() {\n",
       "          const frame = document.getElementById(\"tensorboard-frame-2df383ee3ba9c35\");\n",
       "          const url = new URL(\"/\", window.location);\n",
       "          url.port = 9002;\n",
       "          frame.src = url;\n",
       "        })();\n",
       "      </script>\n",
       "  "
      ],
      "text/plain": [
       "<IPython.core.display.HTML object>"
      ]
     },
     "metadata": {},
     "output_type": "display_data"
    },
    {
     "data": {
      "text/plain": [
       "'http://116.85.5.40:9002'"
      ]
     },
     "execution_count": 3,
     "metadata": {},
     "output_type": "execute_result"
    }
   ],
   "source": [
    "k12ai_set_notebook(cellw=90)\n",
    "k12ai_start_tensorboard(9002, logdir, clear=True, display=True)"
   ]
  },
  {
   "cell_type": "code",
   "execution_count": 4,
   "metadata": {
    "ExecuteTime": {
     "end_time": "2020-04-14T04:17:59.701536Z",
     "start_time": "2020-04-14T04:17:59.430001Z"
    }
   },
   "outputs": [],
   "source": [
    "writer = SummaryWriter(logdir)\n",
    "\n",
    "resnet18 = models.resnet18(False)\n",
    "sample_rate = 44100\n",
    "freqs = [262, 294, 330, 349, 392, 440, 440, 440, 440, 440, 440]\n",
    "\n",
    "true_positive_counts = [75, 64, 21, 5, 0]\n",
    "false_positive_counts = [150, 105, 18, 0, 0]\n",
    "true_negative_counts = [0, 45, 132, 150, 150]\n",
    "false_negative_counts = [0, 11, 54, 70, 75]\n",
    "precision = [0.3333333, 0.3786982, 0.5384616, 1.0, 0.0]\n",
    "recall = [1.0, 0.8533334, 0.28, 0.0666667, 0.0]"
   ]
  },
  {
   "cell_type": "code",
   "execution_count": 5,
   "metadata": {
    "ExecuteTime": {
     "end_time": "2020-04-14T04:18:04.047456Z",
     "start_time": "2020-04-14T04:17:59.703969Z"
    }
   },
   "outputs": [],
   "source": [
    "for n_iter in range(10):\n",
    "    s1 = torch.rand(1)  # value to keep\n",
    "    s2 = torch.rand(1)\n",
    "    # add_scalar()：在一个图表中记录一个标量的变化，常用于 Loss 和 Accuracy 曲线的记录\n",
    "    # data grouping by `slash`\n",
    "    writer.add_scalar('data/scalar_systemtime', s1[0], n_iter)\n",
    "    # data grouping by `slash`\n",
    "    writer.add_scalar('data/scalar_customtime', s1[0], n_iter, walltime=n_iter)\n",
    "\n",
    "    # add_scalars()：在一个图表中记录多个标量的变化，常用于对比，如 trainLoss 和 validLoss 的比较等。\n",
    "    writer.add_scalars('data/scalar_group', {\"xsinx\": n_iter * np.sin(n_iter),\n",
    "                                             \"xcosx\": n_iter * np.cos(n_iter),\n",
    "                                             \"arctanx\": np.arctan(n_iter)}, n_iter)\n",
    "    x = torch.rand(32, 3, 64, 64)  # output from network\n",
    "    if n_iter % 10 == 0:\n",
    "        # torchvision.utils.make_grid()：将一组图片拼接成一张图片，便于可视化。\n",
    "        x = vutils.make_grid(x, normalize=True, scale_each=True)\n",
    "        # add_image()：绘制图片，可用于检查模型的输入，监测 feature map 的变化，或是观察 weight。\n",
    "        writer.add_image('Image', x, n_iter)  # Tensor\n",
    "        # writer.add_image('astronaut', skimage.data.astronaut(), n_iter) # numpy\n",
    "        # writer.add_image('imread',\n",
    "        # skimage.io.imread('screenshots/audio.png'), n_iter) # numpy\n",
    "        x = torch.zeros(sample_rate * 2)\n",
    "        for i in range(x.size(0)):\n",
    "            # sound amplitude should in [-1, 1]\n",
    "            x[i] = np.cos(freqs[n_iter // 10] * np.pi *\n",
    "                          float(i) / float(sample_rate))\n",
    "        writer.add_audio('myAudio', x, n_iter)\n",
    "        writer.add_text('Text', 'text logged at step:' + str(n_iter), n_iter)\n",
    "        writer.add_text('markdown Text', '''a|b\\n-|-\\nc|d''', n_iter)\n",
    "\n",
    "        # add_histogram()：绘制直方图和多分位数折线图，常用于监测权值及梯度的分布变化情况，便于诊断网络更新方向是否正确。\n",
    "        for name, param in resnet18.named_parameters():\n",
    "            if 'bn' not in name:\n",
    "                writer.add_histogram(name, param, n_iter)\n",
    "\n",
    "        # add_pr_curve()：绘制 PR 曲线\n",
    "        writer.add_pr_curve('xoxo', np.random.randint(2, size=100), np.random.rand(\n",
    "            100), n_iter)  # needs tensorboard 0.4RC or later\n",
    "        # add_pr_curve_raw()：从原始数据上绘制 PR 曲线\n",
    "        writer.add_pr_curve_raw('prcurve with raw data', true_positive_counts,\n",
    "                                false_positive_counts,\n",
    "                                true_negative_counts,\n",
    "                                false_negative_counts,\n",
    "                                precision,\n",
    "                                recall, n_iter)"
   ]
  },
  {
   "cell_type": "code",
   "execution_count": 6,
   "metadata": {
    "ExecuteTime": {
     "end_time": "2020-04-14T04:18:04.059312Z",
     "start_time": "2020-04-14T04:18:04.055404Z"
    }
   },
   "outputs": [],
   "source": [
    "# export_scalars_to_json()：将 scalars 信息保存到 json 文件，便于后期使用\n",
    "# export scalar data to JSON for external processing\n",
    "# writer.export_scalars_to_json(f\"{logdir}/all_scalars.json\")"
   ]
  },
  {
   "cell_type": "code",
   "execution_count": 7,
   "metadata": {
    "ExecuteTime": {
     "end_time": "2020-04-14T04:18:05.039356Z",
     "start_time": "2020-04-14T04:18:04.065014Z"
    }
   },
   "outputs": [],
   "source": [
    "# add_embedding()：在三维空间或二维空间展示数据分布，可选 T-SNE、 PCA 和 CUSTOM 方法。\n",
    "# 展示 Mnist 中的 100 张图片的三维数据分布\n",
    "dataset = datasets.MNIST(f'{K12AI_NBDATA_ROOT}/datasets', train=False, download=False)\n",
    "images = dataset.data[:100].float()\n",
    "label = dataset.targets[:100]\n",
    "features = images.view(100, 784)\n",
    "\n",
    "# mat: 一个矩阵，每行代表特征空间的一个数据点\n",
    "# metadata: 一个一维列表，mat 中每行数据的 label，大小应和 mat 行数相同\n",
    "# label_img: 一个形如 NxCxHxW 的张量，对应 mat 每一行数据显示出的图像，N 应和 mat 行数相同\n",
    "# tag (string, optional): 数据名称，不同名称的数据将分别展示\n",
    "writer.add_embedding(mat=features, metadata=label, label_img=images.unsqueeze(1), tag='metadata_label_img')\n",
    "writer.add_embedding(mat=features, metadata=label, tag='metadata')\n",
    "writer.add_embedding(mat=features, label_img=images.unsqueeze(1), tag='label_img')\n",
    "writer.add_embedding(features, global_step=1, tag='NONE')\n",
    "dataset = datasets.MNIST(f'{K12AI_NBDATA_ROOT}/datasets', train=True, download=False)\n",
    "images_train = dataset.data[:100].float()\n",
    "labels_train = dataset.targets[:100]\n",
    "features_train = images_train.view(100, 784)\n",
    "\n",
    "all_features = torch.cat((features, features_train))\n",
    "all_labels = torch.cat((label, labels_train))\n",
    "all_images = torch.cat((images, images_train))\n",
    "dataset_label = ['test'] * 100 + ['train'] * 100\n",
    "all_labels = list(zip(all_labels, dataset_label))\n",
    "\n",
    "writer.add_embedding(all_features, metadata=all_labels, label_img=all_images.unsqueeze(1),\n",
    "                     metadata_header=['digit', 'dataset'], global_step=2, tag='metadata_header')"
   ]
  },
  {
   "cell_type": "code",
   "execution_count": 8,
   "metadata": {
    "ExecuteTime": {
     "end_time": "2020-04-14T04:18:13.155275Z",
     "start_time": "2020-04-14T04:18:05.042277Z"
    }
   },
   "outputs": [],
   "source": [
    "#GRAPH\n",
    "# add_graph()：绘制网络结构拓扑图\n",
    "dummy_input = torch.rand(6, 3, 224, 224)\n",
    "writer.add_graph(resnet18, dummy_input)\n",
    "\n",
    "# VIDEO\n",
    "vid_images = dataset.data[:16 * 48]\n",
    "vid = vid_images.view(16, 1, 48, 28, 28)  # BxCxTxHxW\n",
    "\n",
    "writer.add_video('video', vid_tensor=vid)\n",
    "writer.add_video('video_1_fps', vid_tensor=vid, fps=1)"
   ]
  },
  {
   "cell_type": "code",
   "execution_count": 9,
   "metadata": {
    "ExecuteTime": {
     "end_time": "2020-04-14T04:18:13.162605Z",
     "start_time": "2020-04-14T04:18:13.157957Z"
    }
   },
   "outputs": [],
   "source": [
    "writer.close()"
   ]
  },
  {
   "cell_type": "code",
   "execution_count": null,
   "metadata": {
    "ExecuteTime": {
     "end_time": "2020-04-14T03:38:20.575334Z",
     "start_time": "2020-04-14T03:38:19.032817Z"
    }
   },
   "outputs": [],
   "source": []
  }
 ],
 "metadata": {
  "kernelspec": {
   "display_name": "Python 3",
   "language": "python",
   "name": "python3"
  },
  "language_info": {
   "codemirror_mode": {
    "name": "ipython",
    "version": 3
   },
   "file_extension": ".py",
   "mimetype": "text/x-python",
   "name": "python",
   "nbconvert_exporter": "python",
   "pygments_lexer": "ipython3",
   "version": "3.6.9"
  }
 },
 "nbformat": 4,
 "nbformat_minor": 4
}
