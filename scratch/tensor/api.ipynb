{
 "cells": [
  {
   "cell_type": "code",
   "execution_count": 1,
   "metadata": {
    "ExecuteTime": {
     "end_time": "2020-06-28T10:35:39.292630Z",
     "start_time": "2020-06-28T10:35:37.768749Z"
    }
   },
   "outputs": [],
   "source": [
    "import collections\n",
    "import os\n",
    "import shutil\n",
    "import tqdm\n",
    "\n",
    "import numpy as np\n",
    "import PIL.Image\n",
    "import torch\n",
    "import torchvision\n",
    "\n",
    "from IPython.display import display\n",
    "\n",
    "from pprint import pprint\n",
    "from k12libs.utils.nb_easy import k12ai_get_top_dir\n",
    "from k12libs.utils.nb_easy import k12ai_print"
   ]
  },
  {
   "cell_type": "markdown",
   "metadata": {},
   "source": [
    "# 检查PyTorch版本"
   ]
  },
  {
   "cell_type": "code",
   "execution_count": 2,
   "metadata": {
    "ExecuteTime": {
     "end_time": "2020-06-28T10:35:39.341960Z",
     "start_time": "2020-06-28T10:35:39.297376Z"
    }
   },
   "outputs": [
    {
     "name": "stdout",
     "output_type": "stream",
     "text": [
      "1.5.0.dev20200319\n",
      "10.1\n",
      "7603\n",
      "Tesla P40\n",
      "True\n"
     ]
    }
   ],
   "source": [
    "print(torch.__version__)               # PyTorch version\n",
    "print(torch.version.cuda)              # Corresponding CUDA version\n",
    "print(torch.backends.cudnn.version())  # Corresponding cuDNN version\n",
    "print(torch.cuda.get_device_name(0))   # GPU type\n",
    "print(torch.cuda.is_available())"
   ]
  },
  {
   "cell_type": "markdown",
   "metadata": {},
   "source": [
    "# 固定随机种子"
   ]
  },
  {
   "cell_type": "code",
   "execution_count": 3,
   "metadata": {
    "ExecuteTime": {
     "end_time": "2020-06-28T10:35:39.357083Z",
     "start_time": "2020-06-28T10:35:39.346432Z"
    }
   },
   "outputs": [],
   "source": [
    "torch.manual_seed(0)\n",
    "torch.cuda.manual_seed_all(0)"
   ]
  },
  {
   "cell_type": "markdown",
   "metadata": {
    "ExecuteTime": {
     "end_time": "2020-04-20T13:07:50.547095Z",
     "start_time": "2020-04-20T13:07:50.540618Z"
    }
   },
   "source": [
    "# 设置为cuDNN benchmark模式"
   ]
  },
  {
   "cell_type": "code",
   "execution_count": 4,
   "metadata": {
    "ExecuteTime": {
     "end_time": "2020-06-28T10:35:39.368946Z",
     "start_time": "2020-06-28T10:35:39.360931Z"
    }
   },
   "outputs": [],
   "source": [
    "# Benchmark模式会提升计算速度，但是由于计算中有随机性，每次网络前馈结果略有差异。\n",
    "torch.backends.cudnn.benchmark = True\n",
    "# 如果想要避免这种结果波动\n",
    "torch.backends.cudnn.deterministic = True"
   ]
  },
  {
   "cell_type": "markdown",
   "metadata": {},
   "source": [
    "# 创建与复制"
   ]
  },
  {
   "cell_type": "markdown",
   "metadata": {},
   "source": [
    "## 由numpy构建,采用深度复制"
   ]
  },
  {
   "cell_type": "code",
   "execution_count": 5,
   "metadata": {
    "ExecuteTime": {
     "end_time": "2020-06-28T10:35:39.386524Z",
     "start_time": "2020-06-28T10:35:39.372206Z"
    }
   },
   "outputs": [
    {
     "data": {
      "text/plain": [
       "(array([1, 2, 3]), tensor([1, 2, 3]))"
      ]
     },
     "execution_count": 5,
     "metadata": {},
     "output_type": "execute_result"
    }
   ],
   "source": [
    "np_a = np.array([1,2,3])\n",
    "tensor_a = torch.tensor(np_a)\n",
    "np_a, tensor_a"
   ]
  },
  {
   "cell_type": "code",
   "execution_count": 6,
   "metadata": {
    "ExecuteTime": {
     "end_time": "2020-06-28T10:35:39.398061Z",
     "start_time": "2020-06-28T10:35:39.389553Z"
    }
   },
   "outputs": [
    {
     "data": {
      "text/plain": [
       "(array([1, 2, 3]), tensor([-1,  2,  3]))"
      ]
     },
     "execution_count": 6,
     "metadata": {},
     "output_type": "execute_result"
    }
   ],
   "source": [
    "tensor_a[0] = -1\n",
    "np_a, tensor_a"
   ]
  },
  {
   "cell_type": "markdown",
   "metadata": {},
   "source": [
    "## copy构造(不建议使用)"
   ]
  },
  {
   "cell_type": "code",
   "execution_count": 7,
   "metadata": {
    "ExecuteTime": {
     "end_time": "2020-06-28T10:35:39.414645Z",
     "start_time": "2020-06-28T10:35:39.400995Z"
    }
   },
   "outputs": [
    {
     "name": "stderr",
     "output_type": "stream",
     "text": [
      "/usr/local/lib/python3.6/dist-packages/ipykernel_launcher.py:2: UserWarning: To copy construct from a tensor, it is recommended to use sourceTensor.clone().detach() or sourceTensor.clone().detach().requires_grad_(True), rather than torch.tensor(sourceTensor).\n",
      "  \n"
     ]
    },
    {
     "data": {
      "text/plain": [
       "(tensor([1., 2., 3.], requires_grad=True),\n",
       " tensor([-1.,  2.,  3.]),\n",
       " tensor([False,  True,  True]),\n",
       " 140300163941288,\n",
       " 140300163941360)"
      ]
     },
     "execution_count": 7,
     "metadata": {},
     "output_type": "execute_result"
    }
   ],
   "source": [
    "tensor_a = torch.tensor([1.,2.,3.], requires_grad=True)\n",
    "tensor_t = torch.tensor(tensor_a)\n",
    "tensor_t[0] = -1.\n",
    "tensor_a, tensor_t, tensor_a == tensor_t, id(tensor_a), id(tensor_t) "
   ]
  },
  {
   "cell_type": "code",
   "execution_count": 8,
   "metadata": {
    "ExecuteTime": {
     "end_time": "2020-06-28T10:35:39.428422Z",
     "start_time": "2020-06-28T10:35:39.419248Z"
    }
   },
   "outputs": [
    {
     "data": {
      "text/plain": [
       "(tensor([1., 2., 3.], requires_grad=True),\n",
       " tensor([-1.,  2.,  3.], grad_fn=<CopySlices>),\n",
       " tensor([False,  True,  True]),\n",
       " 140300163941288,\n",
       " 140300163943880)"
      ]
     },
     "execution_count": 8,
     "metadata": {},
     "output_type": "execute_result"
    }
   ],
   "source": [
    "tensor_t = tensor_a.clone()\n",
    "tensor_t[0] = -1.0\n",
    "tensor_a, tensor_t, tensor_a == tensor_t, id(tensor_a), id(tensor_t)"
   ]
  },
  {
   "cell_type": "markdown",
   "metadata": {
    "ExecuteTime": {
     "end_time": "2020-06-28T10:06:42.079848Z",
     "start_time": "2020-06-28T10:06:42.074997Z"
    }
   },
   "source": [
    "## tensor.data 不建议使用(共享储存空间, requires_grad=False, 容易出错)"
   ]
  },
  {
   "cell_type": "code",
   "execution_count": 9,
   "metadata": {
    "ExecuteTime": {
     "end_time": "2020-06-28T10:35:39.440453Z",
     "start_time": "2020-06-28T10:35:39.431815Z"
    }
   },
   "outputs": [
    {
     "data": {
      "text/plain": [
       "(tensor([-3.,  2.,  3.], requires_grad=True),\n",
       " tensor([-3.,  2.,  3.]),\n",
       " tensor([True, True, True]),\n",
       " 140300163941288,\n",
       " 140300163961048)"
      ]
     },
     "execution_count": 9,
     "metadata": {},
     "output_type": "execute_result"
    }
   ],
   "source": [
    "tensor_t = tensor_a.data\n",
    "tensor_t[0] = -3.0\n",
    "tensor_a, tensor_t, tensor_a == tensor_t, id(tensor_a), id(tensor_t)"
   ]
  },
  {
   "cell_type": "code",
   "execution_count": 10,
   "metadata": {
    "ExecuteTime": {
     "end_time": "2020-06-28T10:35:39.450891Z",
     "start_time": "2020-06-28T10:35:39.442854Z"
    }
   },
   "outputs": [
    {
     "data": {
      "text/plain": [
       "(tensor([-4.,  2.,  3.], grad_fn=<CopySlices>),\n",
       " tensor([-4.,  2.,  3.], grad_fn=<CopySlices>),\n",
       " tensor([True, True, True]),\n",
       " 140300163941288,\n",
       " 140300163941288)"
      ]
     },
     "execution_count": 10,
     "metadata": {},
     "output_type": "execute_result"
    }
   ],
   "source": [
    "tensor_t = tensor_a\n",
    "tensor_t[0] = -4.0\n",
    "tensor_a, tensor_t, tensor_a == tensor_t, id(tensor_a), id(tensor_t)"
   ]
  },
  {
   "cell_type": "markdown",
   "metadata": {},
   "source": [
    "## tensor.detach (会被自动求导系统追踪, 使用起来更安全)"
   ]
  },
  {
   "cell_type": "code",
   "execution_count": 11,
   "metadata": {
    "ExecuteTime": {
     "end_time": "2020-06-28T10:35:39.461872Z",
     "start_time": "2020-06-28T10:35:39.453359Z"
    }
   },
   "outputs": [
    {
     "data": {
      "text/plain": [
       "(tensor([-2.,  2.,  3.], grad_fn=<CopySlices>),\n",
       " tensor([-2.,  2.,  3.]),\n",
       " tensor([True, True, True]),\n",
       " 140300163941288,\n",
       " 140300163961480)"
      ]
     },
     "execution_count": 11,
     "metadata": {},
     "output_type": "execute_result"
    }
   ],
   "source": [
    "tensor_t = tensor_a.detach()\n",
    "tensor_t[0] = -2.0\n",
    "tensor_a, tensor_t, tensor_a == tensor_t, id(tensor_a), id(tensor_t)"
   ]
  },
  {
   "cell_type": "markdown",
   "metadata": {},
   "source": [
    "## tensor.data vs tensor.detch"
   ]
  },
  {
   "cell_type": "code",
   "execution_count": 12,
   "metadata": {
    "ExecuteTime": {
     "end_time": "2020-06-28T10:35:39.473994Z",
     "start_time": "2020-06-28T10:35:39.464271Z"
    }
   },
   "outputs": [
    {
     "data": {
      "text/plain": [
       "(tensor([0., 0., 0.]),\n",
       " tensor([0., 0., 0.], grad_fn=<SigmoidBackward>),\n",
       " None,\n",
       " tensor([0., 0., 0.]))"
      ]
     },
     "execution_count": 12,
     "metadata": {},
     "output_type": "execute_result"
    }
   ],
   "source": [
    "tensor_a = torch.tensor([1, 2.0, 3.], requires_grad =True)\n",
    "tensor_b = tensor_a.sigmoid()\n",
    "tensor_c = tensor_b.data\n",
    "tensor_c.zero_(), tensor_b, tensor_b.sum().backward(), tensor_a.grad # 不期望的结果(还不报错)"
   ]
  },
  {
   "cell_type": "code",
   "execution_count": 13,
   "metadata": {
    "ExecuteTime": {
     "end_time": "2020-06-28T10:35:39.673899Z",
     "start_time": "2020-06-28T10:35:39.476997Z"
    },
    "scrolled": true
   },
   "outputs": [
    {
     "ename": "RuntimeError",
     "evalue": "one of the variables needed for gradient computation has been modified by an inplace operation: [torch.FloatTensor [3]], which is output 0 of SigmoidBackward, is at version 1; expected version 0 instead. Hint: enable anomaly detection to find the operation that failed to compute its gradient, with torch.autograd.set_detect_anomaly(True).",
     "output_type": "error",
     "traceback": [
      "\u001b[0;31m\u001b[0m",
      "\u001b[0;31mRuntimeError\u001b[0mTraceback (most recent call last)",
      "\u001b[0;32m<ipython-input-13-756384b12734>\u001b[0m in \u001b[0;36m<module>\u001b[0;34m\u001b[0m\n\u001b[1;32m      1\u001b[0m \u001b[0mtensor_b\u001b[0m \u001b[0;34m=\u001b[0m \u001b[0mtensor_a\u001b[0m\u001b[0;34m.\u001b[0m\u001b[0msigmoid\u001b[0m\u001b[0;34m(\u001b[0m\u001b[0;34m)\u001b[0m\u001b[0;34m\u001b[0m\u001b[0;34m\u001b[0m\u001b[0m\n\u001b[1;32m      2\u001b[0m \u001b[0mtensor_c\u001b[0m \u001b[0;34m=\u001b[0m \u001b[0mtensor_b\u001b[0m\u001b[0;34m.\u001b[0m\u001b[0mdetach\u001b[0m\u001b[0;34m(\u001b[0m\u001b[0;34m)\u001b[0m\u001b[0;34m\u001b[0m\u001b[0;34m\u001b[0m\u001b[0m\n\u001b[0;32m----> 3\u001b[0;31m \u001b[0mtensor_c\u001b[0m\u001b[0;34m.\u001b[0m\u001b[0mzero_\u001b[0m\u001b[0;34m(\u001b[0m\u001b[0;34m)\u001b[0m\u001b[0;34m,\u001b[0m \u001b[0mtensor_b\u001b[0m\u001b[0;34m,\u001b[0m \u001b[0mtensor_b\u001b[0m\u001b[0;34m.\u001b[0m\u001b[0msum\u001b[0m\u001b[0;34m(\u001b[0m\u001b[0;34m)\u001b[0m\u001b[0;34m.\u001b[0m\u001b[0mbackward\u001b[0m\u001b[0;34m(\u001b[0m\u001b[0;34m)\u001b[0m\u001b[0;34m,\u001b[0m \u001b[0mtensor_a\u001b[0m\u001b[0;34m.\u001b[0m\u001b[0mgrad\u001b[0m \u001b[0;31m# 会报错提示\u001b[0m\u001b[0;34m\u001b[0m\u001b[0;34m\u001b[0m\u001b[0m\n\u001b[0m",
      "\u001b[0;32m/usr/local/lib/python3.6/dist-packages/torch/tensor.py\u001b[0m in \u001b[0;36mbackward\u001b[0;34m(self, gradient, retain_graph, create_graph)\u001b[0m\n\u001b[1;32m    196\u001b[0m                 \u001b[0mproducts\u001b[0m\u001b[0;34m.\u001b[0m \u001b[0mDefaults\u001b[0m \u001b[0mto\u001b[0m\u001b[0;31m \u001b[0m\u001b[0;31m`\u001b[0m\u001b[0;31m`\u001b[0m\u001b[0;32mFalse\u001b[0m\u001b[0;31m`\u001b[0m\u001b[0;31m`\u001b[0m\u001b[0;34m.\u001b[0m\u001b[0;34m\u001b[0m\u001b[0;34m\u001b[0m\u001b[0m\n\u001b[1;32m    197\u001b[0m         \"\"\"\n\u001b[0;32m--> 198\u001b[0;31m         \u001b[0mtorch\u001b[0m\u001b[0;34m.\u001b[0m\u001b[0mautograd\u001b[0m\u001b[0;34m.\u001b[0m\u001b[0mbackward\u001b[0m\u001b[0;34m(\u001b[0m\u001b[0mself\u001b[0m\u001b[0;34m,\u001b[0m \u001b[0mgradient\u001b[0m\u001b[0;34m,\u001b[0m \u001b[0mretain_graph\u001b[0m\u001b[0;34m,\u001b[0m \u001b[0mcreate_graph\u001b[0m\u001b[0;34m)\u001b[0m\u001b[0;34m\u001b[0m\u001b[0;34m\u001b[0m\u001b[0m\n\u001b[0m\u001b[1;32m    199\u001b[0m \u001b[0;34m\u001b[0m\u001b[0m\n\u001b[1;32m    200\u001b[0m     \u001b[0;32mdef\u001b[0m \u001b[0mregister_hook\u001b[0m\u001b[0;34m(\u001b[0m\u001b[0mself\u001b[0m\u001b[0;34m,\u001b[0m \u001b[0mhook\u001b[0m\u001b[0;34m)\u001b[0m\u001b[0;34m:\u001b[0m\u001b[0;34m\u001b[0m\u001b[0;34m\u001b[0m\u001b[0m\n",
      "\u001b[0;32m/usr/local/lib/python3.6/dist-packages/torch/autograd/__init__.py\u001b[0m in \u001b[0;36mbackward\u001b[0;34m(tensors, grad_tensors, retain_graph, create_graph, grad_variables)\u001b[0m\n\u001b[1;32m     98\u001b[0m     Variable._execution_engine.run_backward(\n\u001b[1;32m     99\u001b[0m         \u001b[0mtensors\u001b[0m\u001b[0;34m,\u001b[0m \u001b[0mgrad_tensors\u001b[0m\u001b[0;34m,\u001b[0m \u001b[0mretain_graph\u001b[0m\u001b[0;34m,\u001b[0m \u001b[0mcreate_graph\u001b[0m\u001b[0;34m,\u001b[0m\u001b[0;34m\u001b[0m\u001b[0;34m\u001b[0m\u001b[0m\n\u001b[0;32m--> 100\u001b[0;31m         allow_unreachable=True)  # allow_unreachable flag\n\u001b[0m\u001b[1;32m    101\u001b[0m \u001b[0;34m\u001b[0m\u001b[0m\n\u001b[1;32m    102\u001b[0m \u001b[0;34m\u001b[0m\u001b[0m\n",
      "\u001b[0;31mRuntimeError\u001b[0m: one of the variables needed for gradient computation has been modified by an inplace operation: [torch.FloatTensor [3]], which is output 0 of SigmoidBackward, is at version 1; expected version 0 instead. Hint: enable anomaly detection to find the operation that failed to compute its gradient, with torch.autograd.set_detect_anomaly(True)."
     ]
    }
   ],
   "source": [
    "tensor_b = tensor_a.sigmoid()\n",
    "tensor_c = tensor_b.detach()\n",
    "tensor_c.zero_(), tensor_b, tensor_b.sum().backward(), tensor_a.grad # 会报错提示"
   ]
  },
  {
   "cell_type": "markdown",
   "metadata": {},
   "source": [
    "# 张量基本信息"
   ]
  },
  {
   "cell_type": "code",
   "execution_count": null,
   "metadata": {
    "ExecuteTime": {
     "end_time": "2020-06-28T10:35:39.677321Z",
     "start_time": "2020-06-28T10:35:37.868Z"
    }
   },
   "outputs": [],
   "source": [
    "tensor = torch.rand((3,4))\n",
    "print(tensor.type())   # Data type\n",
    "print(tensor.size())   # Shape of the tensor. It is a subclass of Python tuple\n",
    "print(tensor.dim())    # Number of dimensions."
   ]
  },
  {
   "cell_type": "markdown",
   "metadata": {},
   "source": [
    "# 数据类型转换"
   ]
  },
  {
   "cell_type": "markdown",
   "metadata": {},
   "source": [
    "## 基础类型"
   ]
  },
  {
   "cell_type": "code",
   "execution_count": null,
   "metadata": {
    "ExecuteTime": {
     "end_time": "2020-06-28T10:35:39.678634Z",
     "start_time": "2020-06-28T10:35:37.871Z"
    }
   },
   "outputs": [],
   "source": [
    "torch.set_default_tensor_type(torch.FloatTensor)\n",
    "a = torch.randn(1, requires_grad=True)\n",
    "b = a.cuda()\n",
    "c = b.cpu()\n",
    "d = c.int()\n",
    "e = d.long()\n",
    "a.type(), b.type(), c.type(), d.type(), e.type()"
   ]
  },
  {
   "cell_type": "markdown",
   "metadata": {},
   "source": [
    "## torch.Tensor -> np.ndarray"
   ]
  },
  {
   "cell_type": "code",
   "execution_count": null,
   "metadata": {
    "ExecuteTime": {
     "end_time": "2020-06-28T10:35:39.679861Z",
     "start_time": "2020-06-28T10:35:37.874Z"
    }
   },
   "outputs": [],
   "source": [
    "ndarray = tensor.cpu().numpy()\n",
    "ndarray "
   ]
  },
  {
   "cell_type": "markdown",
   "metadata": {},
   "source": [
    "## np.ndarray -> torch.Tensor"
   ]
  },
  {
   "cell_type": "code",
   "execution_count": null,
   "metadata": {
    "ExecuteTime": {
     "end_time": "2020-06-28T10:35:39.681071Z",
     "start_time": "2020-06-28T10:35:37.877Z"
    }
   },
   "outputs": [],
   "source": [
    "tensor = torch.from_numpy(ndarray).float()\n",
    "# tensor = torch.from_numpy(ndarray.copy()).float()\n",
    "tensor"
   ]
  },
  {
   "cell_type": "markdown",
   "metadata": {},
   "source": [
    "## torch.item() (只适用于一个元素的情况)"
   ]
  },
  {
   "cell_type": "markdown",
   "metadata": {
    "ExecuteTime": {
     "end_time": "2020-06-28T10:33:29.365530Z",
     "start_time": "2020-06-28T10:33:29.354387Z"
    }
   },
   "source": [
    "a = torch.randn(1)\n",
    "b = a.item()\n",
    "a, b, type(b) # float"
   ]
  },
  {
   "cell_type": "markdown",
   "metadata": {},
   "source": [
    "## torch.tolist() (多个元素转换为list)"
   ]
  },
  {
   "cell_type": "code",
   "execution_count": null,
   "metadata": {
    "ExecuteTime": {
     "end_time": "2020-06-28T10:35:39.682175Z",
     "start_time": "2020-06-28T10:35:37.960Z"
    }
   },
   "outputs": [],
   "source": [
    "aa = torch.rand(3, 4)\n",
    "bb = aa.cuda()\n",
    "cc = aa.tolist()\n",
    "dd = bb.tolist()\n",
    "aa, bb, cc, dd, type(cc), type(dd) # list"
   ]
  },
  {
   "cell_type": "markdown",
   "metadata": {
    "ExecuteTime": {
     "end_time": "2020-04-20T13:03:10.763678Z",
     "start_time": "2020-04-20T13:03:10.742548Z"
    }
   },
   "source": [
    "## PIL.Image -> torch.Tensor."
   ]
  },
  {
   "cell_type": "code",
   "execution_count": null,
   "metadata": {
    "ExecuteTime": {
     "end_time": "2020-06-28T10:35:39.683328Z",
     "start_time": "2020-06-28T10:35:37.963Z"
    }
   },
   "outputs": [],
   "source": [
    "image = PIL.Image.open(os.path.join(k12ai_get_top_dir(), 'assets/bear.jpg'))\n",
    "\n",
    "tensor1 = torch.from_numpy(np.asarray(image)).permute(2, 0, 1).float() / 255\n",
    "\n",
    "tensor2 = torchvision.transforms.functional.to_tensor(image)\n",
    "\n",
    "tensor3 = torchvision.transforms.ToTensor()(image)"
   ]
  },
  {
   "cell_type": "code",
   "execution_count": null,
   "metadata": {
    "ExecuteTime": {
     "end_time": "2020-06-28T10:35:39.684648Z",
     "start_time": "2020-06-28T10:35:37.965Z"
    }
   },
   "outputs": [],
   "source": [
    "tensor1.shape, tensor2.shape, tensor2.shape, torch.equal(tensor1, tensor2), torch.equal(tensor1, tensor3)"
   ]
  },
  {
   "cell_type": "markdown",
   "metadata": {
    "ExecuteTime": {
     "end_time": "2020-04-20T13:03:10.763678Z",
     "start_time": "2020-04-20T13:03:10.742548Z"
    }
   },
   "source": [
    "## torch.Tensor -> PIL.Image."
   ]
  },
  {
   "cell_type": "code",
   "execution_count": null,
   "metadata": {
    "ExecuteTime": {
     "end_time": "2020-06-28T10:35:39.686418Z",
     "start_time": "2020-06-28T10:35:37.968Z"
    }
   },
   "outputs": [],
   "source": [
    "image1 = PIL.Image.fromarray(torch.clamp(tensor1 * 255, min=0, max=255\n",
    "    ).byte().permute(1, 2, 0).cpu().numpy())\n",
    "\n",
    "image2 = torchvision.transforms.functional.to_pil_image(tensor2)  # Equivalently way\n",
    "\n",
    "image3 = torchvision.transforms.ToPILImage()(tensor3)"
   ]
  },
  {
   "cell_type": "code",
   "execution_count": null,
   "metadata": {
    "ExecuteTime": {
     "end_time": "2020-06-28T10:35:39.687766Z",
     "start_time": "2020-06-28T10:35:37.971Z"
    }
   },
   "outputs": [],
   "source": [
    "display(image1)\n",
    "display(image2)\n",
    "display(image3)"
   ]
  },
  {
   "cell_type": "markdown",
   "metadata": {},
   "source": [
    "# 从只包含一个元素的张量中提取值"
   ]
  },
  {
   "cell_type": "code",
   "execution_count": null,
   "metadata": {
    "ExecuteTime": {
     "end_time": "2020-06-28T10:35:39.688990Z",
     "start_time": "2020-06-28T10:35:37.973Z"
    }
   },
   "outputs": [],
   "source": [
    "value = tensor[0][0].item()\n",
    "value"
   ]
  },
  {
   "cell_type": "markdown",
   "metadata": {},
   "source": [
    "# 张量形变"
   ]
  },
  {
   "cell_type": "code",
   "execution_count": null,
   "metadata": {
    "ExecuteTime": {
     "end_time": "2020-06-28T10:35:39.690074Z",
     "start_time": "2020-06-28T10:35:37.976Z"
    }
   },
   "outputs": [],
   "source": [
    "tensor = torch.reshape(tensor, (4,3))\n",
    "tensor"
   ]
  },
  {
   "cell_type": "markdown",
   "metadata": {},
   "source": [
    "## 打乱顺序 ??"
   ]
  },
  {
   "cell_type": "code",
   "execution_count": null,
   "metadata": {
    "ExecuteTime": {
     "end_time": "2020-06-28T10:35:39.691362Z",
     "start_time": "2020-06-28T10:35:37.979Z"
    }
   },
   "outputs": [],
   "source": [
    "tensor = tensor[torch.randperm(tensor.size(0))]  # Shuffle the first dimension\n",
    "tensor"
   ]
  },
  {
   "cell_type": "markdown",
   "metadata": {},
   "source": [
    "# 水平翻转"
   ]
  },
  {
   "cell_type": "code",
   "execution_count": null,
   "metadata": {
    "ExecuteTime": {
     "end_time": "2020-06-28T10:35:39.692604Z",
     "start_time": "2020-06-28T10:35:37.981Z"
    }
   },
   "outputs": [],
   "source": [
    "# TODO \n",
    "# Assume tensor has shape N*D*H*W.\n",
    "# tensor = tensor[:, :, :, torch.arange(tensor.size(3) - 1, -1, -1).long()]"
   ]
  },
  {
   "cell_type": "markdown",
   "metadata": {},
   "source": [
    "# 复制张量"
   ]
  },
  {
   "cell_type": "code",
   "execution_count": null,
   "metadata": {
    "ExecuteTime": {
     "end_time": "2020-06-28T10:35:39.693917Z",
     "start_time": "2020-06-28T10:35:37.984Z"
    }
   },
   "outputs": [],
   "source": [
    "# Operation                 |  New/Shared memory | Still in computation graph |\n",
    "tensor.clone()            # |        New         |          Yes               |\n",
    "tensor.detach()           # |      Shared        |          No                |\n",
    "tensor.detach().clone()   # |        New         |          No                |"
   ]
  },
  {
   "cell_type": "markdown",
   "metadata": {},
   "source": [
    "# 拼接张量\n",
    "\n",
    "注意torch.cat和torch.stack的区别在于torch.cat沿着给定的维度拼接，而torch.stack会新增一维。\n",
    "例如当参数是3个10×5的张量，torch.cat的结果是30×5的张量，而torch.stack的结果是3×10×5的张量。"
   ]
  },
  {
   "cell_type": "code",
   "execution_count": null,
   "metadata": {
    "ExecuteTime": {
     "end_time": "2020-06-28T10:35:39.695017Z",
     "start_time": "2020-06-28T10:35:37.986Z"
    }
   },
   "outputs": [],
   "source": [
    "tensor1 = torch.rand((2, 3))\n",
    "tensor2 = torch.rand((3, 3))\n",
    "\n",
    "tensor = torch.cat((tensor1, tensor2), dim=0)\n",
    "tensor1, tensor2, tensor"
   ]
  },
  {
   "cell_type": "code",
   "execution_count": null,
   "metadata": {
    "ExecuteTime": {
     "end_time": "2020-06-28T10:35:39.696362Z",
     "start_time": "2020-06-28T10:35:37.989Z"
    }
   },
   "outputs": [],
   "source": [
    "tensor1 = torch.rand((2, 3))\n",
    "tensor2 = torch.rand((2, 3))\n",
    "tensor3 = torch.rand((2, 3))\n",
    "tensor = torch.stack((tensor1, tensor2, tensor3), dim=0)\n",
    "tensor.shape, tensor1.shape"
   ]
  },
  {
   "cell_type": "markdown",
   "metadata": {},
   "source": [
    "# 将整数标记转换成独热（one-hot）编码"
   ]
  },
  {
   "cell_type": "code",
   "execution_count": null,
   "metadata": {
    "ExecuteTime": {
     "end_time": "2020-06-28T10:35:39.697771Z",
     "start_time": "2020-06-28T10:35:37.991Z"
    }
   },
   "outputs": [],
   "source": [
    "# TODO\n",
    "# one_hot = torch.zeros(100, 10).long()\n",
    "# one_hot.scatter_(dim=1, index=torch.unsqueeze(tensor, dim=1), src=torch.ones(100, 10).long())"
   ]
  },
  {
   "cell_type": "markdown",
   "metadata": {},
   "source": [
    "# 得到非零/零元素\n"
   ]
  },
  {
   "cell_type": "code",
   "execution_count": null,
   "metadata": {
    "ExecuteTime": {
     "end_time": "2020-06-28T10:35:39.698848Z",
     "start_time": "2020-06-28T10:35:37.994Z"
    }
   },
   "outputs": [],
   "source": [
    "print(torch.nonzero(tensor))              # Index of non-zero elements\n",
    "print(torch.nonzero(tensor == 0))          # Index of zero elements\n",
    "print(torch.nonzero(tensor).size(0))       # Number of non-zero elements\n",
    "print(torch.nonzero(tensor == 0).size(0))  # Number of zero elements"
   ]
  },
  {
   "cell_type": "markdown",
   "metadata": {},
   "source": [
    "# Sort (同时返回对应的index)"
   ]
  },
  {
   "cell_type": "code",
   "execution_count": null,
   "metadata": {
    "ExecuteTime": {
     "end_time": "2020-06-28T10:35:39.700126Z",
     "start_time": "2020-06-28T10:35:37.997Z"
    }
   },
   "outputs": [],
   "source": [
    "x = torch.randn(3,4)\n",
    "x"
   ]
  },
  {
   "cell_type": "code",
   "execution_count": null,
   "metadata": {
    "ExecuteTime": {
     "end_time": "2020-06-28T10:35:39.701221Z",
     "start_time": "2020-06-28T10:35:38.000Z"
    }
   },
   "outputs": [],
   "source": [
    "sorted, indices = torch.sort(x)\n",
    "sorted, indices"
   ]
  }
 ],
 "metadata": {
  "kernelspec": {
   "display_name": "Python 3",
   "language": "python",
   "name": "python3"
  },
  "language_info": {
   "codemirror_mode": {
    "name": "ipython",
    "version": 3
   },
   "file_extension": ".py",
   "mimetype": "text/x-python",
   "name": "python",
   "nbconvert_exporter": "python",
   "pygments_lexer": "ipython3",
   "version": "3.6.9"
  },
  "toc": {
   "base_numbering": 1,
   "nav_menu": {},
   "number_sections": true,
   "sideBar": true,
   "skip_h1_title": false,
   "title_cell": "Table of Contents",
   "title_sidebar": "Contents",
   "toc_cell": false,
   "toc_position": {
    "height": "calc(100% - 180px)",
    "left": "10px",
    "top": "150px",
    "width": "307.2px"
   },
   "toc_section_display": true,
   "toc_window_display": true
  }
 },
 "nbformat": 4,
 "nbformat_minor": 4
}
