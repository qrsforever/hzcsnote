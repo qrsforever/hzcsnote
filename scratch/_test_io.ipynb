{
 "cells": [
  {
   "cell_type": "code",
   "execution_count": 24,
   "metadata": {},
   "outputs": [],
   "source": [
    "import tempfile\n",
    "import io\n",
    "import torch\n",
    "from PIL import Image\n",
    "import torchvision.transforms.functional as F\n",
    "from torchvision.utils import save_image\n",
    "import torchvision\n",
    "\n",
    "import base64"
   ]
  },
  {
   "cell_type": "code",
   "execution_count": 23,
   "metadata": {},
   "outputs": [
    {
     "name": "stdout",
     "output_type": "stream",
     "text": [
      "0.5.0.dev20200105\n"
     ]
    }
   ],
   "source": [
    "print(torchvision.__version__)"
   ]
  },
  {
   "cell_type": "code",
   "execution_count": 18,
   "metadata": {},
   "outputs": [
    {
     "name": "stdout",
     "output_type": "stream",
     "text": [
      "True\n"
     ]
    }
   ],
   "source": [
    "with tempfile.NamedTemporaryFile(suffix='.png') as f:\n",
    "    t = torch.rand(2, 3, 64, 64)\n",
    "    save_image(t, f.name)\n",
    "    img_orig = Image.open(f.name)\n",
    "    fp = io.BytesIO()\n",
    "    save_image(t, fp, format='png')\n",
    "    # img_bytes = Image.open(fp)\n",
    "    print(torch.equal(F.to_tensor(img_orig), F.to_tensor(img_bytes)))"
   ]
  },
  {
   "cell_type": "code",
   "execution_count": 34,
   "metadata": {},
   "outputs": [
    {
     "name": "stdout",
     "output_type": "stream",
     "text": [
      "iVBORw0KGgoAAAANSUhEUgAAAIYAAABECAIAAADLO9p5AABiO0lEQVR4nO27Q5cm2taF+YZt27Zt27YdGWaGMmzbERm2bdu2bbsa51bde3r1A77Z2e1nrDHXmmuPvQGA/9P/6f/0/0ugJYgYjF4ImCUgsjNiiMGmoevsjRoLYzRBZwyLKT9OgSqXh+M6keArwgCYbfYs0b+qcNt5VZjOjr0WYUNJQqTAL0YjUIxapWvCTI9fN1TrUEqlEv1S+4hikYw1wtOWxs0SrQfTeJFqJtTuGoRN32u+aZemu5foMMRHbI/xwYbQIoR5LKDUfG8DxJeYEIpAV15Ovmj6Uyv62pyzxxqSrozQnEioBJYg0hqUag20oy5xRZiNoYR7dUEPMuzuP3BJAvr/UJzmEk+nLd/kWTlvDb+AIxyU97bjWgeNw8FISu9lMkISqeznmrRPIaWH9XfsyjX5O7F/kCzkeUMbIhvUVM4T8CbP+ObSIs9G7V5JbfTJ\n",
      "\n",
      "##################################\n",
      "\n",
      "iVBORw0KGgoAAAANSUhEUgAAAIYAAABECAIAAADLO9p5AABiO0lEQVR4nO27Q5cm2taF+YZt27Zt27YdGWaGMmzbERm2bdu2bbsa51bde3r1A77Z2e1nrDHXmmuPvQGA/9P/6f/0/0ugJYgYjF4ImCUgsjNiiMGmoevsjRoLYzRBZwyLKT9OgSqXh+M6keArwgCYbfYs0b+qcNt5VZjOjr0WYUNJQqTAL0YjUIxapWvCTI9fN1TrUEqlEv1S+4hikYw1wtOWxs0SrQfTeJFqJtTuGoRN32u+aZemu5foMMRHbI/xwYbQIoR5LKDUfG8DxJeYEIpAV15Ovmj6Uyv62pyzxxqSrozQnEioBJYg0hqUag20oy5xRZiNoYR7dUEPMuzuP3BJAvr/UJzmEk+nLd/kWTlvDb+AIxyU97bjWgeNw8FISu9lMkISqeznmrRPIaWH9XfsyjX5O7F/kCzkeUMbIhvUVM4T8CbP+ObSIs9G7V5JbfTJ\n"
     ]
    }
   ],
   "source": [
    "with tempfile.NamedTemporaryFile(suffix='.png') as f:\n",
    "    t = torch.rand(2, 3, 64, 64)\n",
    "    save_image(t, f.name)\n",
    "    with open(f.name, 'rb') as fw:\n",
    "        img = base64.b64encode(fw.read())\n",
    "        print(img.decode()[:500])\n",
    "    print(\"\\n##################################\\n\")\n",
    "    with io.BytesIO() as fp:\n",
    "        save_image(t, fp, format='png')\n",
    "        fp.seek(0)\n",
    "        img2 = base64.b64encode(fp.read())\n",
    "        print(img2.decode()[:500])"
   ]
  }
 ],
 "metadata": {
  "kernelspec": {
   "display_name": "Python 3",
   "language": "python",
   "name": "python3"
  },
  "language_info": {
   "codemirror_mode": {
    "name": "ipython",
    "version": 3
   },
   "file_extension": ".py",
   "mimetype": "text/x-python",
   "name": "python",
   "nbconvert_exporter": "python",
   "pygments_lexer": "ipython3",
   "version": "3.6.9"
  }
 },
 "nbformat": 4,
 "nbformat_minor": 4
}
