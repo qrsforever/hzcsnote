{
 "cells": [
  {
   "cell_type": "code",
   "execution_count": null,
   "metadata": {
    "ExecuteTime": {
     "end_time": "2020-05-12T14:20:43.869478Z",
     "start_time": "2020-05-12T14:20:43.826145Z"
    }
   },
   "outputs": [],
   "source": [
    "%reload_ext autoreload\n",
    "%autoreload 2"
   ]
  },
  {
   "cell_type": "code",
   "execution_count": null,
   "metadata": {
    "ExecuteTime": {
     "end_time": "2020-05-12T14:20:44.600739Z",
     "start_time": "2020-05-12T14:20:43.873317Z"
    }
   },
   "outputs": [],
   "source": [
    "import os\n",
    "from minio import Minio\n",
    "from minio.error import (ResponseError, BucketAlreadyOwnedByYou,\n",
    "                         BucketAlreadyExists, BucketNotEmpty)\n",
    "from k12libs.utils.nb_easy import k12ai_get_top_dir"
   ]
  },
  {
   "cell_type": "code",
   "execution_count": null,
   "metadata": {
    "ExecuteTime": {
     "end_time": "2020-05-14T07:41:43.927452Z",
     "start_time": "2020-05-14T07:41:43.691772Z"
    }
   },
   "outputs": [],
   "source": [
    "minio_server='s3-internal.didiyunapi.com'\n",
    "minio_access_key='AKDD002E38WR1J7RMPTGRIGNVCVINY' # os.environ.get('MINIO_ACCESS_KEY'),\n",
    "minio_secret_key='ASDDXYWs45ov7MNJbj5Wc2PM9gC0FSqCIkiyQkVC' # os.environ.get('MINIO_SECRET_KEY')\n",
    "\n",
    "bucket_name = 'talentai'\n",
    "pic = os.path.join(k12ai_get_top_dir(), 'assets/bear.jpg')"
   ]
  },
  {
   "cell_type": "code",
   "execution_count": null,
   "metadata": {
    "ExecuteTime": {
     "end_time": "2020-05-12T14:20:44.679699Z",
     "start_time": "2020-05-12T14:20:44.648174Z"
    }
   },
   "outputs": [],
   "source": [
    "mc = Minio(minio_server, \n",
    "           access_key=minio_access_key,\n",
    "           secret_key=minio_secret_key,\n",
    "           secure=True)"
   ]
  },
  {
   "cell_type": "code",
   "execution_count": null,
   "metadata": {
    "ExecuteTime": {
     "end_time": "2020-05-12T14:20:44.782648Z",
     "start_time": "2020-05-12T14:20:44.682464Z"
    }
   },
   "outputs": [],
   "source": [
    "buckets = mc.list_buckets()\n",
    "for bucket in buckets:\n",
    "    print(bucket.name, bucket.creation_date)"
   ]
  },
  {
   "cell_type": "markdown",
   "metadata": {},
   "source": [
    "## remove_bucket"
   ]
  },
  {
   "cell_type": "code",
   "execution_count": null,
   "metadata": {
    "ExecuteTime": {
     "end_time": "2020-05-12T14:20:44.868841Z",
     "start_time": "2020-05-12T14:20:44.785475Z"
    }
   },
   "outputs": [],
   "source": [
    "try: \n",
    "    mc.remove_bucket(bucket_name)\n",
    "except BucketNotEmpty as err:\n",
    "    print(str(err))"
   ]
  },
  {
   "cell_type": "markdown",
   "metadata": {
    "ExecuteTime": {
     "end_time": "2020-05-11T03:54:46.777593Z",
     "start_time": "2020-05-11T03:54:46.774381Z"
    }
   },
   "source": [
    "## make_bucket"
   ]
  },
  {
   "cell_type": "code",
   "execution_count": null,
   "metadata": {
    "ExecuteTime": {
     "end_time": "2020-05-12T14:20:44.920954Z",
     "start_time": "2020-05-12T14:20:44.871682Z"
    }
   },
   "outputs": [],
   "source": [
    "try:\n",
    "    mc.make_bucket(bucket_name)\n",
    "except BucketAlreadyExists as err:\n",
    "    print(str(err))"
   ]
  },
  {
   "cell_type": "markdown",
   "metadata": {},
   "source": [
    "## list_buckets"
   ]
  },
  {
   "cell_type": "code",
   "execution_count": null,
   "metadata": {
    "ExecuteTime": {
     "end_time": "2020-05-12T14:20:44.995064Z",
     "start_time": "2020-05-12T14:20:44.924968Z"
    }
   },
   "outputs": [],
   "source": [
    "buckets = mc.list_buckets()\n",
    "for bucket in buckets:\n",
    "    print(bucket.name, bucket.creation_date)"
   ]
  },
  {
   "cell_type": "markdown",
   "metadata": {},
   "source": [
    "## put_object"
   ]
  },
  {
   "cell_type": "code",
   "execution_count": null,
   "metadata": {
    "ExecuteTime": {
     "end_time": "2020-05-12T14:20:45.135488Z",
     "start_time": "2020-05-12T14:20:44.998304Z"
    }
   },
   "outputs": [],
   "source": [
    "with open(pic, 'rb') as file_data:\n",
    "    file_stat = os.stat(pic)\n",
    "    print('etag:', mc.put_object(bucket_name, 'subdir/assets/bear1.jpg',\n",
    "                           file_data, file_stat.st_size))"
   ]
  },
  {
   "cell_type": "markdown",
   "metadata": {},
   "source": [
    "## fput_object"
   ]
  },
  {
   "cell_type": "code",
   "execution_count": null,
   "metadata": {
    "ExecuteTime": {
     "end_time": "2020-05-14T07:43:25.557137Z",
     "start_time": "2020-05-14T07:43:25.436263Z"
    }
   },
   "outputs": [],
   "source": [
    "# larger_path = 'a'\n",
    "# for i in range(512):\n",
    "#     larger_path += 'a'\n",
    "# print(larger_path)\n",
    "# print(mc.fput_object(bucket_name, f'largerpath/{larger_path}/bear2.jpg', pic))\n",
    "\n",
    "print(mc.fput_object(bucket_name, 'subdir/assets/bear2.jpg', pic))\n",
    "print(mc.fput_object(bucket_name, 'subdir/assets/bear3.jpg', pic))"
   ]
  },
  {
   "cell_type": "markdown",
   "metadata": {},
   "source": [
    "## fget_object"
   ]
  },
  {
   "cell_type": "code",
   "execution_count": null,
   "metadata": {
    "ExecuteTime": {
     "end_time": "2020-05-12T14:20:45.972218Z",
     "start_time": "2020-05-12T14:20:45.287055Z"
    }
   },
   "outputs": [],
   "source": [
    "print(mc.fget_object(bucket_name, 'subdir/assets/bear2.jpg', '/tmp/bear2.jpg'))\n",
    "!ls -l /tmp/bear2.jpg"
   ]
  },
  {
   "cell_type": "markdown",
   "metadata": {},
   "source": [
    "## list_objects"
   ]
  },
  {
   "cell_type": "code",
   "execution_count": null,
   "metadata": {
    "ExecuteTime": {
     "end_time": "2020-05-12T14:20:46.095440Z",
     "start_time": "2020-05-12T14:20:45.975395Z"
    }
   },
   "outputs": [],
   "source": [
    "for obj in mc.list_objects(bucket_name, prefix='subdir/assets', recursive=True):\n",
    "    print(obj)\n",
    "    \n",
    "print('-'*100)\n",
    "    \n",
    "for obj in mc.list_objects_v2(bucket_name, prefix='subdir', recursive=False):\n",
    "    print(obj)"
   ]
  },
  {
   "cell_type": "markdown",
   "metadata": {},
   "source": [
    "## stat_object"
   ]
  },
  {
   "cell_type": "code",
   "execution_count": null,
   "metadata": {
    "ExecuteTime": {
     "end_time": "2020-05-12T14:20:46.291984Z",
     "start_time": "2020-05-12T14:20:46.098936Z"
    }
   },
   "outputs": [],
   "source": [
    "print(mc.stat_object(bucket_name, 'subdir/assets/bear1.jpg'))\n",
    "print(mc.stat_object(bucket_name, 'subdir/assets/bear2.jpg'))\n",
    "# print(mc.stat_object(bucket_name, 'subdir/assets'))\n",
    "for obj in mc.list_objects(bucket_name, prefix='subdir/assets/bear1.jpg', recursive=True):\n",
    "    print(obj)"
   ]
  },
  {
   "cell_type": "markdown",
   "metadata": {},
   "source": [
    "## get_object"
   ]
  },
  {
   "cell_type": "code",
   "execution_count": null,
   "metadata": {
    "ExecuteTime": {
     "end_time": "2020-05-12T14:20:46.880255Z",
     "start_time": "2020-05-12T14:20:46.295702Z"
    }
   },
   "outputs": [],
   "source": [
    "data = mc.get_object(bucket_name, 'subdir/assets/bear1.jpg')\n",
    "with open('/tmp/bear.jpg', 'wb') as file_data:\n",
    "    for d in data.stream():\n",
    "        file_data.write(d)\n",
    "        \n",
    "!ls -l /tmp/bear.jpg"
   ]
  },
  {
   "cell_type": "markdown",
   "metadata": {},
   "source": [
    "## remove_object"
   ]
  },
  {
   "cell_type": "code",
   "execution_count": null,
   "metadata": {
    "ExecuteTime": {
     "end_time": "2020-05-12T14:20:47.018543Z",
     "start_time": "2020-05-12T14:20:46.884729Z"
    }
   },
   "outputs": [],
   "source": [
    "print(mc.stat_object(bucket_name, 'subdir/assets/bear1.jpg'))\n",
    "mc.remove_object(bucket_name, 'subdir/assets/bear1.jpg')"
   ]
  },
  {
   "cell_type": "code",
   "execution_count": null,
   "metadata": {
    "ExecuteTime": {
     "end_time": "2020-05-12T14:20:47.245509Z",
     "start_time": "2020-05-12T14:20:47.022320Z"
    }
   },
   "outputs": [],
   "source": [
    "def delete_dir(name, path):\n",
    "    for obj in mc.list_objects(name, prefix=path, recursive=True):\n",
    "        mc.remove_object(obj.bucket_name, obj.object_name)\n",
    "delete_dir(bucket_name, 'subdir')\n",
    "\n",
    "for obj in mc.list_objects(bucket_name, prefix='subdir', recursive=True):\n",
    "    print(obj)"
   ]
  },
  {
   "cell_type": "markdown",
   "metadata": {},
   "source": [
    "## Wrap Tools"
   ]
  },
  {
   "cell_type": "code",
   "execution_count": null,
   "metadata": {
    "ExecuteTime": {
     "end_time": "2020-05-13T10:59:35.808023Z",
     "start_time": "2020-05-13T10:59:35.669227Z"
    }
   },
   "outputs": [],
   "source": [
    "import time\n",
    "def k12ai_object_put(localpath, remotepath, prefix='framework/k12ai/'):\n",
    "    with open(localpath, 'rb') as file_data:\n",
    "        file_stat = os.stat(localpath)\n",
    "        try:\n",
    "            btime = time.time() \n",
    "            etag = mc.put_object(bucket_name, prefix + remotepath, file_data, file_stat.st_size)\n",
    "            etime = time.time() \n",
    "            return etag, btime, etime, file_stat.st_size\n",
    "        except ResponseError as err:\n",
    "            print(str(err))\n",
    "        \n",
    "# k12ai_object_put('/data/pretrained/cv/vgg19_bn-c79401a0.pth', '123/001/ckpts/vgg19_bn-c79401a0.pth')\n",
    "\n",
    "k12ai_object_put('/data/config.json', 'data/config.json')"
   ]
  },
  {
   "cell_type": "code",
   "execution_count": null,
   "metadata": {
    "ExecuteTime": {
     "end_time": "2020-05-13T10:59:36.956378Z",
     "start_time": "2020-05-13T10:59:36.870727Z"
    }
   },
   "outputs": [],
   "source": [
    "def k12ai_object_get(localpath, remotepath, prefix='framework/k12ai/'):\n",
    "    try:\n",
    "        return mc.fget_object(bucket_name, prefix + remotepath, localpath)\n",
    "    except ResponseError as err:\n",
    "        print(str(err))\n",
    "        \n",
    "# k12ai_object_get('/tmp/cv/vgg19_bn-c79401a0.pth', '123/001/ckpts/vgg19_bn-c79401a0.pth')\n",
    "k12ai_object_put('/tmp/config.json', 'data/config.json')"
   ]
  },
  {
   "cell_type": "code",
   "execution_count": null,
   "metadata": {
    "ExecuteTime": {
     "end_time": "2020-05-14T02:47:13.795713Z",
     "start_time": "2020-05-14T02:47:13.612264Z"
    }
   },
   "outputs": [],
   "source": [
    "cnf = '111111.json'\n",
    "mc.fput_object(bucket_name, f'framework/k12ai/data/{cnf}', f'/data/{cnf}')\n",
    "# mc.fget_object(bucket_name, f'framework/k12ai/data/{cnf}', f'/tmp/{cnf}')\n",
    "\n",
    "# print(k12ai_object_put(f'/data/{cnf}', f'data/{cnf}'))\n",
    "# k12ai_object_get(f'/tmp/{cnf}', f'data/{cnf}')\n",
    "\n",
    "data = mc.get_object(bucket_name, f'framework/k12ai/data/{cnf}')\n",
    "with open(f'/tmp/{cnf}', 'wb') as file_data: \n",
    " for d in data.stream():\n",
    "     file_data.write(d)"
   ]
  },
  {
   "cell_type": "code",
   "execution_count": null,
   "metadata": {
    "ExecuteTime": {
     "end_time": "2020-05-13T10:23:00.450539Z",
     "start_time": "2020-05-13T10:23:00.412033Z"
    }
   },
   "outputs": [],
   "source": [
    "bucket_name"
   ]
  },
  {
   "cell_type": "code",
   "execution_count": null,
   "metadata": {
    "ExecuteTime": {
     "end_time": "2020-05-12T14:20:57.095239Z",
     "start_time": "2020-05-12T14:20:43.846Z"
    }
   },
   "outputs": [],
   "source": [
    "def k12ai_object_rmdir(remotepath, prefix='framework/k12ai/'):\n",
    "    for obj in mc.list_objects(bucket_name, prefix=prefix + remotepath, recursive=True):\n",
    "        print(obj.object_name)\n",
    "        mc.remove_object(obj.bucket_name, obj.object_name)\n",
    "        \n",
    "k12ai_object_rmdir('123/')"
   ]
  },
  {
   "cell_type": "code",
   "execution_count": null,
   "metadata": {
    "ExecuteTime": {
     "end_time": "2020-05-12T14:20:57.097458Z",
     "start_time": "2020-05-12T14:20:43.847Z"
    }
   },
   "outputs": [],
   "source": [
    "import tarfile\n",
    "\n",
    "def tar(fname):\n",
    "    t = tarfile.open(fname + \".tar.gz\", \"w:gz\")\n",
    "    for root, dir, files in os.walk(fname):\n",
    "        print(root, dir, files)\n",
    "        for file in files:\n",
    "            fullpath = os.path.join(root, file)\n",
    "            t.add(fullpath)\n",
    "    t.close()\n",
    "    \n",
    "tar('/data/users/26')"
   ]
  },
  {
   "cell_type": "code",
   "execution_count": null,
   "metadata": {
    "ExecuteTime": {
     "end_time": "2020-05-13T10:41:34.399942Z",
     "start_time": "2020-05-13T10:41:23.971814Z"
    },
    "scrolled": true
   },
   "outputs": [],
   "source": [
    "from k12libs.k12ai.k12ai_utils import k12ai_object_put\n",
    "\n",
    "# mc.make_bucket('k12ai')\n",
    "\n",
    "# k12ai_object_put(mc, '/data/samples/datasets.tar.gz')\n",
    "# k12ai_object_put(mc, '/data/samples')\n",
    "k12ai_object_put(mc, '/data/samples', prefix_map=['/data/', 'framework/'])"
   ]
  },
  {
   "cell_type": "code",
   "execution_count": null,
   "metadata": {
    "ExecuteTime": {
     "end_time": "2020-05-12T14:34:29.663157Z",
     "start_time": "2020-05-12T14:34:29.598304Z"
    },
    "scrolled": true
   },
   "outputs": [],
   "source": [
    "from k12libs.k12ai.k12ai_utils import k12ai_object_get\n",
    "\n",
    "k12ai_object_get(mc, 'framework/samples/', prefix_map=['framework', '/data/tmp'])"
   ]
  },
  {
   "cell_type": "code",
   "execution_count": null,
   "metadata": {
    "ExecuteTime": {
     "end_time": "2020-05-12T14:34:34.037272Z",
     "start_time": "2020-05-12T14:34:33.928031Z"
    }
   },
   "outputs": [],
   "source": [
    "from k12libs.k12ai.k12ai_utils import k12ai_object_remove\n",
    "k12ai_object_remove(mc, 'framework/samples')"
   ]
  }
 ],
 "metadata": {
  "kernelspec": {
   "display_name": "Python 3",
   "language": "python",
   "name": "python3"
  },
  "language_info": {
   "codemirror_mode": {
    "name": "ipython",
    "version": 3
   },
   "file_extension": ".py",
   "mimetype": "text/x-python",
   "name": "python",
   "nbconvert_exporter": "python",
   "pygments_lexer": "ipython3",
   "version": "3.6.9"
  }
 },
 "nbformat": 4,
 "nbformat_minor": 4
}
