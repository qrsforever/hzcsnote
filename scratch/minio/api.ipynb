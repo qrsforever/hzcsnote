{
 "cells": [
  {
   "cell_type": "code",
   "execution_count": 2,
   "metadata": {
    "ExecuteTime": {
     "end_time": "2020-05-12T14:20:43.869478Z",
     "start_time": "2020-05-12T14:20:43.826145Z"
    }
   },
   "outputs": [],
   "source": [
    "%reload_ext autoreload\n",
    "%autoreload 2"
   ]
  },
  {
   "cell_type": "code",
   "execution_count": 3,
   "metadata": {
    "ExecuteTime": {
     "end_time": "2020-05-12T14:20:44.600739Z",
     "start_time": "2020-05-12T14:20:43.873317Z"
    }
   },
   "outputs": [],
   "source": [
    "import os\n",
    "from minio import Minio\n",
    "from minio.error import (ResponseError, BucketAlreadyOwnedByYou,\n",
    "                         BucketAlreadyExists, BucketNotEmpty)\n",
    "from k12libs.utils.nb_easy import k12ai_get_top_dir"
   ]
  },
  {
   "cell_type": "code",
   "execution_count": 4,
   "metadata": {
    "ExecuteTime": {
     "end_time": "2020-05-12T14:20:44.645212Z",
     "start_time": "2020-05-12T14:20:44.605299Z"
    }
   },
   "outputs": [],
   "source": [
    "minio_server='s3-internal.didiyunapi.com'\n",
    "minio_access_key='AKDD002E38WR1J7RMPTGRIGNVCVINY' # os.environ.get('MINIO_ACCESS_KEY'),\n",
    "minio_secret_key='ASDDXYWs45ov7MNJbj5Wc2PM9gC0FSqCIkiyQkVC' # os.environ.get('MINIO_SECRET_KEY')\n",
    "\n",
    "bucket_name = 'talentai'\n",
    "pic = os.path.join(k12ai_get_top_dir(), 'assets/bear.jpg')"
   ]
  },
  {
   "cell_type": "code",
   "execution_count": 5,
   "metadata": {
    "ExecuteTime": {
     "end_time": "2020-05-12T14:20:44.679699Z",
     "start_time": "2020-05-12T14:20:44.648174Z"
    }
   },
   "outputs": [],
   "source": [
    "mc = Minio(minio_server, \n",
    "           access_key=minio_access_key,\n",
    "           secret_key=minio_secret_key,\n",
    "           secure=True)"
   ]
  },
  {
   "cell_type": "code",
   "execution_count": 6,
   "metadata": {
    "ExecuteTime": {
     "end_time": "2020-05-12T14:20:44.782648Z",
     "start_time": "2020-05-12T14:20:44.682464Z"
    }
   },
   "outputs": [
    {
     "name": "stdout",
     "output_type": "stream",
     "text": [
      "test-talentai 2020-05-09 03:57:49+00:00\n",
      "mytest 2020-05-11 02:59:32+00:00\n",
      "k12ai 2020-05-11 03:40:40+00:00\n",
      "talentai 2020-05-11 10:18:51+00:00\n"
     ]
    }
   ],
   "source": [
    "buckets = mc.list_buckets()\n",
    "for bucket in buckets:\n",
    "    print(bucket.name, bucket.creation_date)"
   ]
  },
  {
   "cell_type": "markdown",
   "metadata": {},
   "source": [
    "## remove_bucket"
   ]
  },
  {
   "cell_type": "code",
   "execution_count": 7,
   "metadata": {
    "ExecuteTime": {
     "end_time": "2020-05-12T14:20:44.868841Z",
     "start_time": "2020-05-12T14:20:44.785475Z"
    }
   },
   "outputs": [
    {
     "name": "stdout",
     "output_type": "stream",
     "text": [
      "BucketNotEmpty: message: The bucket you tried to delete is not empty.\n"
     ]
    }
   ],
   "source": [
    "try: \n",
    "    mc.remove_bucket(bucket_name)\n",
    "except BucketNotEmpty as err:\n",
    "    print(str(err))"
   ]
  },
  {
   "cell_type": "markdown",
   "metadata": {
    "ExecuteTime": {
     "end_time": "2020-05-11T03:54:46.777593Z",
     "start_time": "2020-05-11T03:54:46.774381Z"
    }
   },
   "source": [
    "## make_bucket"
   ]
  },
  {
   "cell_type": "code",
   "execution_count": 8,
   "metadata": {
    "ExecuteTime": {
     "end_time": "2020-05-12T14:20:44.920954Z",
     "start_time": "2020-05-12T14:20:44.871682Z"
    }
   },
   "outputs": [
    {
     "name": "stdout",
     "output_type": "stream",
     "text": [
      "BucketAlreadyExists: message: The requested bucket name is not available. The bucket namespace is shared by all users of the system. Please select a different name and try again.\n"
     ]
    }
   ],
   "source": [
    "try:\n",
    "    mc.make_bucket(bucket_name)\n",
    "except BucketAlreadyExists as err:\n",
    "    print(str(err))"
   ]
  },
  {
   "cell_type": "markdown",
   "metadata": {},
   "source": [
    "## list_buckets"
   ]
  },
  {
   "cell_type": "code",
   "execution_count": 9,
   "metadata": {
    "ExecuteTime": {
     "end_time": "2020-05-12T14:20:44.995064Z",
     "start_time": "2020-05-12T14:20:44.924968Z"
    }
   },
   "outputs": [
    {
     "name": "stdout",
     "output_type": "stream",
     "text": [
      "test-talentai 2020-05-09 03:57:49+00:00\n",
      "mytest 2020-05-11 02:59:32+00:00\n",
      "k12ai 2020-05-11 03:40:40+00:00\n",
      "talentai 2020-05-11 10:18:51+00:00\n"
     ]
    }
   ],
   "source": [
    "buckets = mc.list_buckets()\n",
    "for bucket in buckets:\n",
    "    print(bucket.name, bucket.creation_date)"
   ]
  },
  {
   "cell_type": "markdown",
   "metadata": {},
   "source": [
    "## put_object"
   ]
  },
  {
   "cell_type": "code",
   "execution_count": 10,
   "metadata": {
    "ExecuteTime": {
     "end_time": "2020-05-12T14:20:45.135488Z",
     "start_time": "2020-05-12T14:20:44.998304Z"
    }
   },
   "outputs": [
    {
     "name": "stdout",
     "output_type": "stream",
     "text": [
      "etag: 89173fd6604187189644293b8e12bcef\n"
     ]
    }
   ],
   "source": [
    "with open(pic, 'rb') as file_data:\n",
    "    file_stat = os.stat(pic)\n",
    "    print('etag:', mc.put_object(bucket_name, 'subdir/assets/bear1.jpg',\n",
    "                           file_data, file_stat.st_size))"
   ]
  },
  {
   "cell_type": "markdown",
   "metadata": {},
   "source": [
    "## fput_object"
   ]
  },
  {
   "cell_type": "code",
   "execution_count": 11,
   "metadata": {
    "ExecuteTime": {
     "end_time": "2020-05-12T14:20:45.284692Z",
     "start_time": "2020-05-12T14:20:45.139046Z"
    }
   },
   "outputs": [
    {
     "name": "stdout",
     "output_type": "stream",
     "text": [
      "89173fd6604187189644293b8e12bcef\n",
      "89173fd6604187189644293b8e12bcef\n"
     ]
    }
   ],
   "source": [
    "print(mc.fput_object(bucket_name, 'subdir/assets/bear2.jpg', pic))\n",
    "print(mc.fput_object(bucket_name, 'subdir/assets/bear3.jpg', pic))"
   ]
  },
  {
   "cell_type": "markdown",
   "metadata": {},
   "source": [
    "## fget_object"
   ]
  },
  {
   "cell_type": "code",
   "execution_count": 12,
   "metadata": {
    "ExecuteTime": {
     "end_time": "2020-05-12T14:20:45.972218Z",
     "start_time": "2020-05-12T14:20:45.287055Z"
    }
   },
   "outputs": [
    {
     "name": "stdout",
     "output_type": "stream",
     "text": [
      "<Object: bucket_name: talentai object_name: b'subdir/assets/bear2.jpg' last_modified: time.struct_time(tm_year=2020, tm_mon=5, tm_mday=12, tm_hour=14, tm_min=20, tm_sec=45, tm_wday=1, tm_yday=133, tm_isdst=0) etag: 89173fd6604187189644293b8e12bcef size: 50452 content_type: application/octet-stream, is_dir: False, metadata: {'Content-Type': 'application/octet-stream', 'Cache-Control': 'max-age=3600'}>\n",
      "-rw-rw-rw- 1 root root 50452 May 12 22:20 /tmp/bear2.jpg\n"
     ]
    }
   ],
   "source": [
    "print(mc.fget_object(bucket_name, 'subdir/assets/bear2.jpg', '/tmp/bear2.jpg'))\n",
    "!ls -l /tmp/bear2.jpg"
   ]
  },
  {
   "cell_type": "markdown",
   "metadata": {},
   "source": [
    "## list_objects"
   ]
  },
  {
   "cell_type": "code",
   "execution_count": 13,
   "metadata": {
    "ExecuteTime": {
     "end_time": "2020-05-12T14:20:46.095440Z",
     "start_time": "2020-05-12T14:20:45.975395Z"
    }
   },
   "outputs": [
    {
     "name": "stdout",
     "output_type": "stream",
     "text": [
      "<Object: bucket_name: talentai object_name: b'subdir/assets/bear1.jpg' last_modified: 2020-05-12 14:20:45+00:00 etag: 89173fd6604187189644293b8e12bcef size: 50452 content_type: None, is_dir: False, metadata: None>\n",
      "<Object: bucket_name: talentai object_name: b'subdir/assets/bear2.jpg' last_modified: 2020-05-12 14:20:45+00:00 etag: 89173fd6604187189644293b8e12bcef size: 50452 content_type: None, is_dir: False, metadata: None>\n",
      "<Object: bucket_name: talentai object_name: b'subdir/assets/bear3.jpg' last_modified: 2020-05-12 14:20:45+00:00 etag: 89173fd6604187189644293b8e12bcef size: 50452 content_type: None, is_dir: False, metadata: None>\n",
      "----------------------------------------------------------------------------------------------------\n",
      "<Object: bucket_name: talentai object_name: b'subdir/' last_modified: None etag:  size: 0 content_type: None, is_dir: True, metadata: None>\n"
     ]
    }
   ],
   "source": [
    "for obj in mc.list_objects(bucket_name, prefix='subdir/assets', recursive=True):\n",
    "    print(obj)\n",
    "    \n",
    "print('-'*100)\n",
    "    \n",
    "for obj in mc.list_objects_v2(bucket_name, prefix='subdir', recursive=False):\n",
    "    print(obj)"
   ]
  },
  {
   "cell_type": "markdown",
   "metadata": {},
   "source": [
    "## stat_object"
   ]
  },
  {
   "cell_type": "code",
   "execution_count": 14,
   "metadata": {
    "ExecuteTime": {
     "end_time": "2020-05-12T14:20:46.291984Z",
     "start_time": "2020-05-12T14:20:46.098936Z"
    }
   },
   "outputs": [
    {
     "name": "stdout",
     "output_type": "stream",
     "text": [
      "<Object: bucket_name: talentai object_name: b'subdir/assets/bear1.jpg' last_modified: time.struct_time(tm_year=2020, tm_mon=5, tm_mday=12, tm_hour=14, tm_min=20, tm_sec=45, tm_wday=1, tm_yday=133, tm_isdst=0) etag: 89173fd6604187189644293b8e12bcef size: 50452 content_type: application/octet-stream, is_dir: False, metadata: {'Content-Type': 'application/octet-stream', 'Cache-Control': 'max-age=3600'}>\n",
      "<Object: bucket_name: talentai object_name: b'subdir/assets/bear2.jpg' last_modified: time.struct_time(tm_year=2020, tm_mon=5, tm_mday=12, tm_hour=14, tm_min=20, tm_sec=45, tm_wday=1, tm_yday=133, tm_isdst=0) etag: 89173fd6604187189644293b8e12bcef size: 50452 content_type: application/octet-stream, is_dir: False, metadata: {'Content-Type': 'application/octet-stream', 'Cache-Control': 'max-age=3600'}>\n",
      "<Object: bucket_name: talentai object_name: b'subdir/assets/bear1.jpg' last_modified: 2020-05-12 14:20:45+00:00 etag: 89173fd6604187189644293b8e12bcef size: 50452 content_type: None, is_dir: False, metadata: None>\n"
     ]
    }
   ],
   "source": [
    "print(mc.stat_object(bucket_name, 'subdir/assets/bear1.jpg'))\n",
    "print(mc.stat_object(bucket_name, 'subdir/assets/bear2.jpg'))\n",
    "# print(mc.stat_object(bucket_name, 'subdir/assets'))\n",
    "for obj in mc.list_objects(bucket_name, prefix='subdir/assets/bear1.jpg', recursive=True):\n",
    "    print(obj)"
   ]
  },
  {
   "cell_type": "markdown",
   "metadata": {},
   "source": [
    "## get_object"
   ]
  },
  {
   "cell_type": "code",
   "execution_count": 15,
   "metadata": {
    "ExecuteTime": {
     "end_time": "2020-05-12T14:20:46.880255Z",
     "start_time": "2020-05-12T14:20:46.295702Z"
    }
   },
   "outputs": [
    {
     "name": "stdout",
     "output_type": "stream",
     "text": [
      "-rw-rw-rw- 1 root root 50452 May 12 22:20 /tmp/bear.jpg\r\n"
     ]
    }
   ],
   "source": [
    "data = mc.get_object(bucket_name, 'subdir/assets/bear1.jpg')\n",
    "with open('/tmp/bear.jpg', 'wb') as file_data:\n",
    "    for d in data.stream():\n",
    "        file_data.write(d)\n",
    "        \n",
    "!ls -l /tmp/bear.jpg"
   ]
  },
  {
   "cell_type": "markdown",
   "metadata": {},
   "source": [
    "## remove_object"
   ]
  },
  {
   "cell_type": "code",
   "execution_count": 16,
   "metadata": {
    "ExecuteTime": {
     "end_time": "2020-05-12T14:20:47.018543Z",
     "start_time": "2020-05-12T14:20:46.884729Z"
    }
   },
   "outputs": [
    {
     "name": "stdout",
     "output_type": "stream",
     "text": [
      "<Object: bucket_name: talentai object_name: b'subdir/assets/bear1.jpg' last_modified: time.struct_time(tm_year=2020, tm_mon=5, tm_mday=12, tm_hour=14, tm_min=20, tm_sec=45, tm_wday=1, tm_yday=133, tm_isdst=0) etag: 89173fd6604187189644293b8e12bcef size: 50452 content_type: application/octet-stream, is_dir: False, metadata: {'Content-Type': 'application/octet-stream', 'Cache-Control': 'max-age=3600'}>\n"
     ]
    }
   ],
   "source": [
    "print(mc.stat_object(bucket_name, 'subdir/assets/bear1.jpg'))\n",
    "mc.remove_object(bucket_name, 'subdir/assets/bear1.jpg')"
   ]
  },
  {
   "cell_type": "code",
   "execution_count": 17,
   "metadata": {
    "ExecuteTime": {
     "end_time": "2020-05-12T14:20:47.245509Z",
     "start_time": "2020-05-12T14:20:47.022320Z"
    }
   },
   "outputs": [],
   "source": [
    "def delete_dir(name, path):\n",
    "    for obj in mc.list_objects(name, prefix=path, recursive=True):\n",
    "        mc.remove_object(obj.bucket_name, obj.object_name)\n",
    "delete_dir(bucket_name, 'subdir')\n",
    "\n",
    "for obj in mc.list_objects(bucket_name, prefix='subdir', recursive=True):\n",
    "    print(obj)"
   ]
  },
  {
   "cell_type": "markdown",
   "metadata": {},
   "source": [
    "## Wrap Tools"
   ]
  },
  {
   "cell_type": "code",
   "execution_count": 18,
   "metadata": {
    "ExecuteTime": {
     "end_time": "2020-05-12T14:20:54.422725Z",
     "start_time": "2020-05-12T14:20:47.248840Z"
    }
   },
   "outputs": [
    {
     "data": {
      "text/plain": [
       "('f9f2c34ab2deaf565595e7c5e0309bf9',\n",
       " 1589293247.3000097,\n",
       " 1589293254.4149215,\n",
       " 574769405)"
      ]
     },
     "execution_count": 18,
     "metadata": {},
     "output_type": "execute_result"
    }
   ],
   "source": [
    "import time\n",
    "def k12ai_object_put(localpath, remotepath, prefix='framework/k12ai/'):\n",
    "    with open(localpath, 'rb') as file_data:\n",
    "        file_stat = os.stat(localpath)\n",
    "        try:\n",
    "            btime = time.time() \n",
    "            etag = mc.put_object(bucket_name, prefix + remotepath, file_data, file_stat.st_size)\n",
    "            etime = time.time() \n",
    "            return etag, btime, etime, file_stat.st_size\n",
    "        except ResponseError as err:\n",
    "            print(str(err))\n",
    "        \n",
    "k12ai_object_put('/data/pretrained/cv/vgg19_bn-c79401a0.pth', '123/001/ckpts/vgg19_bn-c79401a0.pth')"
   ]
  },
  {
   "cell_type": "code",
   "execution_count": 19,
   "metadata": {
    "ExecuteTime": {
     "end_time": "2020-05-12T14:20:57.091358Z",
     "start_time": "2020-05-12T14:20:54.424968Z"
    }
   },
   "outputs": [
    {
     "ename": "KeyboardInterrupt",
     "evalue": "",
     "output_type": "error",
     "traceback": [
      "\u001b[0;31m\u001b[0m",
      "\u001b[0;31mKeyboardInterrupt\u001b[0mTraceback (most recent call last)",
      "\u001b[0;32m<ipython-input-19-c6cc2c14d8fa>\u001b[0m in \u001b[0;36m<module>\u001b[0;34m\u001b[0m\n\u001b[1;32m      5\u001b[0m         \u001b[0mprint\u001b[0m\u001b[0;34m(\u001b[0m\u001b[0mstr\u001b[0m\u001b[0;34m(\u001b[0m\u001b[0merr\u001b[0m\u001b[0;34m)\u001b[0m\u001b[0;34m)\u001b[0m\u001b[0;34m\u001b[0m\u001b[0;34m\u001b[0m\u001b[0m\n\u001b[1;32m      6\u001b[0m \u001b[0;34m\u001b[0m\u001b[0m\n\u001b[0;32m----> 7\u001b[0;31m \u001b[0mk12ai_object_get\u001b[0m\u001b[0;34m(\u001b[0m\u001b[0;34m'/tmp/cv/vgg19_bn-c79401a0.pth'\u001b[0m\u001b[0;34m,\u001b[0m \u001b[0;34m'123/001/ckpts/vgg19_bn-c79401a0.pth'\u001b[0m\u001b[0;34m)\u001b[0m\u001b[0;34m\u001b[0m\u001b[0;34m\u001b[0m\u001b[0m\n\u001b[0m",
      "\u001b[0;32m<ipython-input-19-c6cc2c14d8fa>\u001b[0m in \u001b[0;36mk12ai_object_get\u001b[0;34m(localpath, remotepath, prefix)\u001b[0m\n\u001b[1;32m      1\u001b[0m \u001b[0;32mdef\u001b[0m \u001b[0mk12ai_object_get\u001b[0m\u001b[0;34m(\u001b[0m\u001b[0mlocalpath\u001b[0m\u001b[0;34m,\u001b[0m \u001b[0mremotepath\u001b[0m\u001b[0;34m,\u001b[0m \u001b[0mprefix\u001b[0m\u001b[0;34m=\u001b[0m\u001b[0;34m'framework/k12ai/'\u001b[0m\u001b[0;34m)\u001b[0m\u001b[0;34m:\u001b[0m\u001b[0;34m\u001b[0m\u001b[0;34m\u001b[0m\u001b[0m\n\u001b[1;32m      2\u001b[0m     \u001b[0;32mtry\u001b[0m\u001b[0;34m:\u001b[0m\u001b[0;34m\u001b[0m\u001b[0;34m\u001b[0m\u001b[0m\n\u001b[0;32m----> 3\u001b[0;31m         \u001b[0;32mreturn\u001b[0m \u001b[0mmc\u001b[0m\u001b[0;34m.\u001b[0m\u001b[0mfget_object\u001b[0m\u001b[0;34m(\u001b[0m\u001b[0mbucket_name\u001b[0m\u001b[0;34m,\u001b[0m \u001b[0mprefix\u001b[0m \u001b[0;34m+\u001b[0m \u001b[0mremotepath\u001b[0m\u001b[0;34m,\u001b[0m \u001b[0mlocalpath\u001b[0m\u001b[0;34m)\u001b[0m\u001b[0;34m\u001b[0m\u001b[0;34m\u001b[0m\u001b[0m\n\u001b[0m\u001b[1;32m      4\u001b[0m     \u001b[0;32mexcept\u001b[0m \u001b[0mResponseError\u001b[0m \u001b[0;32mas\u001b[0m \u001b[0merr\u001b[0m\u001b[0;34m:\u001b[0m\u001b[0;34m\u001b[0m\u001b[0;34m\u001b[0m\u001b[0m\n\u001b[1;32m      5\u001b[0m         \u001b[0mprint\u001b[0m\u001b[0;34m(\u001b[0m\u001b[0mstr\u001b[0m\u001b[0;34m(\u001b[0m\u001b[0merr\u001b[0m\u001b[0;34m)\u001b[0m\u001b[0;34m)\u001b[0m\u001b[0;34m\u001b[0m\u001b[0;34m\u001b[0m\u001b[0m\n",
      "\u001b[0;32m/usr/local/lib/python3.6/dist-packages/minio/api.py\u001b[0m in \u001b[0;36mfget_object\u001b[0;34m(self, bucket_name, object_name, file_path, request_headers, sse)\u001b[0m\n\u001b[1;32m    749\u001b[0m             \u001b[0;31m# Save total_written.\u001b[0m\u001b[0;34m\u001b[0m\u001b[0;34m\u001b[0m\u001b[0;34m\u001b[0m\u001b[0m\n\u001b[1;32m    750\u001b[0m             \u001b[0mtotal_written\u001b[0m \u001b[0;34m=\u001b[0m \u001b[0;36m0\u001b[0m\u001b[0;34m\u001b[0m\u001b[0;34m\u001b[0m\u001b[0m\n\u001b[0;32m--> 751\u001b[0;31m             \u001b[0;32mfor\u001b[0m \u001b[0mdata\u001b[0m \u001b[0;32min\u001b[0m \u001b[0mresponse\u001b[0m\u001b[0;34m.\u001b[0m\u001b[0mstream\u001b[0m\u001b[0;34m(\u001b[0m\u001b[0mamt\u001b[0m\u001b[0;34m=\u001b[0m\u001b[0;36m1024\u001b[0m \u001b[0;34m*\u001b[0m \u001b[0;36m1024\u001b[0m\u001b[0;34m)\u001b[0m\u001b[0;34m:\u001b[0m\u001b[0;34m\u001b[0m\u001b[0;34m\u001b[0m\u001b[0m\n\u001b[0m\u001b[1;32m    752\u001b[0m                 \u001b[0mfile_part_data\u001b[0m\u001b[0;34m.\u001b[0m\u001b[0mwrite\u001b[0m\u001b[0;34m(\u001b[0m\u001b[0mdata\u001b[0m\u001b[0;34m)\u001b[0m\u001b[0;34m\u001b[0m\u001b[0;34m\u001b[0m\u001b[0m\n\u001b[1;32m    753\u001b[0m                 \u001b[0mtotal_written\u001b[0m \u001b[0;34m+=\u001b[0m \u001b[0mlen\u001b[0m\u001b[0;34m(\u001b[0m\u001b[0mdata\u001b[0m\u001b[0;34m)\u001b[0m\u001b[0;34m\u001b[0m\u001b[0;34m\u001b[0m\u001b[0m\n",
      "\u001b[0;32m/usr/local/lib/python3.6/dist-packages/urllib3/response.py\u001b[0m in \u001b[0;36mstream\u001b[0;34m(self, amt, decode_content)\u001b[0m\n\u001b[1;32m    574\u001b[0m         \u001b[0;32melse\u001b[0m\u001b[0;34m:\u001b[0m\u001b[0;34m\u001b[0m\u001b[0;34m\u001b[0m\u001b[0m\n\u001b[1;32m    575\u001b[0m             \u001b[0;32mwhile\u001b[0m \u001b[0;32mnot\u001b[0m \u001b[0mis_fp_closed\u001b[0m\u001b[0;34m(\u001b[0m\u001b[0mself\u001b[0m\u001b[0;34m.\u001b[0m\u001b[0m_fp\u001b[0m\u001b[0;34m)\u001b[0m\u001b[0;34m:\u001b[0m\u001b[0;34m\u001b[0m\u001b[0;34m\u001b[0m\u001b[0m\n\u001b[0;32m--> 576\u001b[0;31m                 \u001b[0mdata\u001b[0m \u001b[0;34m=\u001b[0m \u001b[0mself\u001b[0m\u001b[0;34m.\u001b[0m\u001b[0mread\u001b[0m\u001b[0;34m(\u001b[0m\u001b[0mamt\u001b[0m\u001b[0;34m=\u001b[0m\u001b[0mamt\u001b[0m\u001b[0;34m,\u001b[0m \u001b[0mdecode_content\u001b[0m\u001b[0;34m=\u001b[0m\u001b[0mdecode_content\u001b[0m\u001b[0;34m)\u001b[0m\u001b[0;34m\u001b[0m\u001b[0;34m\u001b[0m\u001b[0m\n\u001b[0m\u001b[1;32m    577\u001b[0m \u001b[0;34m\u001b[0m\u001b[0m\n\u001b[1;32m    578\u001b[0m                 \u001b[0;32mif\u001b[0m \u001b[0mdata\u001b[0m\u001b[0;34m:\u001b[0m\u001b[0;34m\u001b[0m\u001b[0;34m\u001b[0m\u001b[0m\n",
      "\u001b[0;32m/usr/local/lib/python3.6/dist-packages/urllib3/response.py\u001b[0m in \u001b[0;36mread\u001b[0;34m(self, amt, decode_content, cache_content)\u001b[0m\n\u001b[1;32m    517\u001b[0m             \u001b[0;32melse\u001b[0m\u001b[0;34m:\u001b[0m\u001b[0;34m\u001b[0m\u001b[0;34m\u001b[0m\u001b[0m\n\u001b[1;32m    518\u001b[0m                 \u001b[0mcache_content\u001b[0m \u001b[0;34m=\u001b[0m \u001b[0;32mFalse\u001b[0m\u001b[0;34m\u001b[0m\u001b[0;34m\u001b[0m\u001b[0m\n\u001b[0;32m--> 519\u001b[0;31m                 \u001b[0mdata\u001b[0m \u001b[0;34m=\u001b[0m \u001b[0mself\u001b[0m\u001b[0;34m.\u001b[0m\u001b[0m_fp\u001b[0m\u001b[0;34m.\u001b[0m\u001b[0mread\u001b[0m\u001b[0;34m(\u001b[0m\u001b[0mamt\u001b[0m\u001b[0;34m)\u001b[0m \u001b[0;32mif\u001b[0m \u001b[0;32mnot\u001b[0m \u001b[0mfp_closed\u001b[0m \u001b[0;32melse\u001b[0m \u001b[0;34mb\"\"\u001b[0m\u001b[0;34m\u001b[0m\u001b[0;34m\u001b[0m\u001b[0m\n\u001b[0m\u001b[1;32m    520\u001b[0m                 if (\n\u001b[1;32m    521\u001b[0m                     \u001b[0mamt\u001b[0m \u001b[0;34m!=\u001b[0m \u001b[0;36m0\u001b[0m \u001b[0;32mand\u001b[0m \u001b[0;32mnot\u001b[0m \u001b[0mdata\u001b[0m\u001b[0;34m\u001b[0m\u001b[0;34m\u001b[0m\u001b[0m\n",
      "\u001b[0;32m/usr/lib/python3.6/http/client.py\u001b[0m in \u001b[0;36mread\u001b[0;34m(self, amt)\u001b[0m\n\u001b[1;32m    457\u001b[0m             \u001b[0;31m# Amount is given, implement using readinto\u001b[0m\u001b[0;34m\u001b[0m\u001b[0;34m\u001b[0m\u001b[0;34m\u001b[0m\u001b[0m\n\u001b[1;32m    458\u001b[0m             \u001b[0mb\u001b[0m \u001b[0;34m=\u001b[0m \u001b[0mbytearray\u001b[0m\u001b[0;34m(\u001b[0m\u001b[0mamt\u001b[0m\u001b[0;34m)\u001b[0m\u001b[0;34m\u001b[0m\u001b[0;34m\u001b[0m\u001b[0m\n\u001b[0;32m--> 459\u001b[0;31m             \u001b[0mn\u001b[0m \u001b[0;34m=\u001b[0m \u001b[0mself\u001b[0m\u001b[0;34m.\u001b[0m\u001b[0mreadinto\u001b[0m\u001b[0;34m(\u001b[0m\u001b[0mb\u001b[0m\u001b[0;34m)\u001b[0m\u001b[0;34m\u001b[0m\u001b[0;34m\u001b[0m\u001b[0m\n\u001b[0m\u001b[1;32m    460\u001b[0m             \u001b[0;32mreturn\u001b[0m \u001b[0mmemoryview\u001b[0m\u001b[0;34m(\u001b[0m\u001b[0mb\u001b[0m\u001b[0;34m)\u001b[0m\u001b[0;34m[\u001b[0m\u001b[0;34m:\u001b[0m\u001b[0mn\u001b[0m\u001b[0;34m]\u001b[0m\u001b[0;34m.\u001b[0m\u001b[0mtobytes\u001b[0m\u001b[0;34m(\u001b[0m\u001b[0;34m)\u001b[0m\u001b[0;34m\u001b[0m\u001b[0;34m\u001b[0m\u001b[0m\n\u001b[1;32m    461\u001b[0m         \u001b[0;32melse\u001b[0m\u001b[0;34m:\u001b[0m\u001b[0;34m\u001b[0m\u001b[0;34m\u001b[0m\u001b[0m\n",
      "\u001b[0;32m/usr/lib/python3.6/http/client.py\u001b[0m in \u001b[0;36mreadinto\u001b[0;34m(self, b)\u001b[0m\n\u001b[1;32m    501\u001b[0m         \u001b[0;31m# connection, and the user is reading more bytes than will be provided\u001b[0m\u001b[0;34m\u001b[0m\u001b[0;34m\u001b[0m\u001b[0;34m\u001b[0m\u001b[0m\n\u001b[1;32m    502\u001b[0m         \u001b[0;31m# (for example, reading in 1k chunks)\u001b[0m\u001b[0;34m\u001b[0m\u001b[0;34m\u001b[0m\u001b[0;34m\u001b[0m\u001b[0m\n\u001b[0;32m--> 503\u001b[0;31m         \u001b[0mn\u001b[0m \u001b[0;34m=\u001b[0m \u001b[0mself\u001b[0m\u001b[0;34m.\u001b[0m\u001b[0mfp\u001b[0m\u001b[0;34m.\u001b[0m\u001b[0mreadinto\u001b[0m\u001b[0;34m(\u001b[0m\u001b[0mb\u001b[0m\u001b[0;34m)\u001b[0m\u001b[0;34m\u001b[0m\u001b[0;34m\u001b[0m\u001b[0m\n\u001b[0m\u001b[1;32m    504\u001b[0m         \u001b[0;32mif\u001b[0m \u001b[0;32mnot\u001b[0m \u001b[0mn\u001b[0m \u001b[0;32mand\u001b[0m \u001b[0mb\u001b[0m\u001b[0;34m:\u001b[0m\u001b[0;34m\u001b[0m\u001b[0;34m\u001b[0m\u001b[0m\n\u001b[1;32m    505\u001b[0m             \u001b[0;31m# Ideally, we would raise IncompleteRead if the content-length\u001b[0m\u001b[0;34m\u001b[0m\u001b[0;34m\u001b[0m\u001b[0;34m\u001b[0m\u001b[0m\n",
      "\u001b[0;32m/usr/lib/python3.6/socket.py\u001b[0m in \u001b[0;36mreadinto\u001b[0;34m(self, b)\u001b[0m\n\u001b[1;32m    584\u001b[0m         \u001b[0;32mwhile\u001b[0m \u001b[0;32mTrue\u001b[0m\u001b[0;34m:\u001b[0m\u001b[0;34m\u001b[0m\u001b[0;34m\u001b[0m\u001b[0m\n\u001b[1;32m    585\u001b[0m             \u001b[0;32mtry\u001b[0m\u001b[0;34m:\u001b[0m\u001b[0;34m\u001b[0m\u001b[0;34m\u001b[0m\u001b[0m\n\u001b[0;32m--> 586\u001b[0;31m                 \u001b[0;32mreturn\u001b[0m \u001b[0mself\u001b[0m\u001b[0;34m.\u001b[0m\u001b[0m_sock\u001b[0m\u001b[0;34m.\u001b[0m\u001b[0mrecv_into\u001b[0m\u001b[0;34m(\u001b[0m\u001b[0mb\u001b[0m\u001b[0;34m)\u001b[0m\u001b[0;34m\u001b[0m\u001b[0;34m\u001b[0m\u001b[0m\n\u001b[0m\u001b[1;32m    587\u001b[0m             \u001b[0;32mexcept\u001b[0m \u001b[0mtimeout\u001b[0m\u001b[0;34m:\u001b[0m\u001b[0;34m\u001b[0m\u001b[0;34m\u001b[0m\u001b[0m\n\u001b[1;32m    588\u001b[0m                 \u001b[0mself\u001b[0m\u001b[0;34m.\u001b[0m\u001b[0m_timeout_occurred\u001b[0m \u001b[0;34m=\u001b[0m \u001b[0;32mTrue\u001b[0m\u001b[0;34m\u001b[0m\u001b[0;34m\u001b[0m\u001b[0m\n",
      "\u001b[0;32m/usr/lib/python3.6/ssl.py\u001b[0m in \u001b[0;36mrecv_into\u001b[0;34m(self, buffer, nbytes, flags)\u001b[0m\n\u001b[1;32m   1010\u001b[0m                   \u001b[0;34m\"non-zero flags not allowed in calls to recv_into() on %s\"\u001b[0m \u001b[0;34m%\u001b[0m\u001b[0;34m\u001b[0m\u001b[0;34m\u001b[0m\u001b[0m\n\u001b[1;32m   1011\u001b[0m                   self.__class__)\n\u001b[0;32m-> 1012\u001b[0;31m             \u001b[0;32mreturn\u001b[0m \u001b[0mself\u001b[0m\u001b[0;34m.\u001b[0m\u001b[0mread\u001b[0m\u001b[0;34m(\u001b[0m\u001b[0mnbytes\u001b[0m\u001b[0;34m,\u001b[0m \u001b[0mbuffer\u001b[0m\u001b[0;34m)\u001b[0m\u001b[0;34m\u001b[0m\u001b[0;34m\u001b[0m\u001b[0m\n\u001b[0m\u001b[1;32m   1013\u001b[0m         \u001b[0;32melse\u001b[0m\u001b[0;34m:\u001b[0m\u001b[0;34m\u001b[0m\u001b[0;34m\u001b[0m\u001b[0m\n\u001b[1;32m   1014\u001b[0m             \u001b[0;32mreturn\u001b[0m \u001b[0msocket\u001b[0m\u001b[0;34m.\u001b[0m\u001b[0mrecv_into\u001b[0m\u001b[0;34m(\u001b[0m\u001b[0mself\u001b[0m\u001b[0;34m,\u001b[0m \u001b[0mbuffer\u001b[0m\u001b[0;34m,\u001b[0m \u001b[0mnbytes\u001b[0m\u001b[0;34m,\u001b[0m \u001b[0mflags\u001b[0m\u001b[0;34m)\u001b[0m\u001b[0;34m\u001b[0m\u001b[0;34m\u001b[0m\u001b[0m\n",
      "\u001b[0;32m/usr/lib/python3.6/ssl.py\u001b[0m in \u001b[0;36mread\u001b[0;34m(self, len, buffer)\u001b[0m\n\u001b[1;32m    872\u001b[0m             \u001b[0;32mraise\u001b[0m \u001b[0mValueError\u001b[0m\u001b[0;34m(\u001b[0m\u001b[0;34m\"Read on closed or unwrapped SSL socket.\"\u001b[0m\u001b[0;34m)\u001b[0m\u001b[0;34m\u001b[0m\u001b[0;34m\u001b[0m\u001b[0m\n\u001b[1;32m    873\u001b[0m         \u001b[0;32mtry\u001b[0m\u001b[0;34m:\u001b[0m\u001b[0;34m\u001b[0m\u001b[0;34m\u001b[0m\u001b[0m\n\u001b[0;32m--> 874\u001b[0;31m             \u001b[0;32mreturn\u001b[0m \u001b[0mself\u001b[0m\u001b[0;34m.\u001b[0m\u001b[0m_sslobj\u001b[0m\u001b[0;34m.\u001b[0m\u001b[0mread\u001b[0m\u001b[0;34m(\u001b[0m\u001b[0mlen\u001b[0m\u001b[0;34m,\u001b[0m \u001b[0mbuffer\u001b[0m\u001b[0;34m)\u001b[0m\u001b[0;34m\u001b[0m\u001b[0;34m\u001b[0m\u001b[0m\n\u001b[0m\u001b[1;32m    875\u001b[0m         \u001b[0;32mexcept\u001b[0m \u001b[0mSSLError\u001b[0m \u001b[0;32mas\u001b[0m \u001b[0mx\u001b[0m\u001b[0;34m:\u001b[0m\u001b[0;34m\u001b[0m\u001b[0;34m\u001b[0m\u001b[0m\n\u001b[1;32m    876\u001b[0m             \u001b[0;32mif\u001b[0m \u001b[0mx\u001b[0m\u001b[0;34m.\u001b[0m\u001b[0margs\u001b[0m\u001b[0;34m[\u001b[0m\u001b[0;36m0\u001b[0m\u001b[0;34m]\u001b[0m \u001b[0;34m==\u001b[0m \u001b[0mSSL_ERROR_EOF\u001b[0m \u001b[0;32mand\u001b[0m \u001b[0mself\u001b[0m\u001b[0;34m.\u001b[0m\u001b[0msuppress_ragged_eofs\u001b[0m\u001b[0;34m:\u001b[0m\u001b[0;34m\u001b[0m\u001b[0;34m\u001b[0m\u001b[0m\n",
      "\u001b[0;32m/usr/lib/python3.6/ssl.py\u001b[0m in \u001b[0;36mread\u001b[0;34m(self, len, buffer)\u001b[0m\n\u001b[1;32m    629\u001b[0m         \"\"\"\n\u001b[1;32m    630\u001b[0m         \u001b[0;32mif\u001b[0m \u001b[0mbuffer\u001b[0m \u001b[0;32mis\u001b[0m \u001b[0;32mnot\u001b[0m \u001b[0;32mNone\u001b[0m\u001b[0;34m:\u001b[0m\u001b[0;34m\u001b[0m\u001b[0;34m\u001b[0m\u001b[0m\n\u001b[0;32m--> 631\u001b[0;31m             \u001b[0mv\u001b[0m \u001b[0;34m=\u001b[0m \u001b[0mself\u001b[0m\u001b[0;34m.\u001b[0m\u001b[0m_sslobj\u001b[0m\u001b[0;34m.\u001b[0m\u001b[0mread\u001b[0m\u001b[0;34m(\u001b[0m\u001b[0mlen\u001b[0m\u001b[0;34m,\u001b[0m \u001b[0mbuffer\u001b[0m\u001b[0;34m)\u001b[0m\u001b[0;34m\u001b[0m\u001b[0;34m\u001b[0m\u001b[0m\n\u001b[0m\u001b[1;32m    632\u001b[0m         \u001b[0;32melse\u001b[0m\u001b[0;34m:\u001b[0m\u001b[0;34m\u001b[0m\u001b[0;34m\u001b[0m\u001b[0m\n\u001b[1;32m    633\u001b[0m             \u001b[0mv\u001b[0m \u001b[0;34m=\u001b[0m \u001b[0mself\u001b[0m\u001b[0;34m.\u001b[0m\u001b[0m_sslobj\u001b[0m\u001b[0;34m.\u001b[0m\u001b[0mread\u001b[0m\u001b[0;34m(\u001b[0m\u001b[0mlen\u001b[0m\u001b[0;34m)\u001b[0m\u001b[0;34m\u001b[0m\u001b[0;34m\u001b[0m\u001b[0m\n",
      "\u001b[0;31mKeyboardInterrupt\u001b[0m: "
     ]
    }
   ],
   "source": [
    "def k12ai_object_get(localpath, remotepath, prefix='framework/k12ai/'):\n",
    "    try:\n",
    "        return mc.fget_object(bucket_name, prefix + remotepath, localpath)\n",
    "    except ResponseError as err:\n",
    "        print(str(err))\n",
    "        \n",
    "k12ai_object_get('/tmp/cv/vgg19_bn-c79401a0.pth', '123/001/ckpts/vgg19_bn-c79401a0.pth')"
   ]
  },
  {
   "cell_type": "code",
   "execution_count": null,
   "metadata": {
    "ExecuteTime": {
     "end_time": "2020-05-12T14:20:57.095239Z",
     "start_time": "2020-05-12T14:20:43.846Z"
    }
   },
   "outputs": [],
   "source": [
    "def k12ai_object_rmdir(remotepath, prefix='framework/k12ai/'):\n",
    "    for obj in mc.list_objects(bucket_name, prefix=prefix + remotepath, recursive=True):\n",
    "        print(obj.object_name)\n",
    "        mc.remove_object(obj.bucket_name, obj.object_name)\n",
    "        \n",
    "k12ai_object_rmdir('123/')"
   ]
  },
  {
   "cell_type": "code",
   "execution_count": null,
   "metadata": {
    "ExecuteTime": {
     "end_time": "2020-05-12T14:20:57.097458Z",
     "start_time": "2020-05-12T14:20:43.847Z"
    }
   },
   "outputs": [],
   "source": [
    "import tarfile\n",
    "\n",
    "def tar(fname):\n",
    "    t = tarfile.open(fname + \".tar.gz\", \"w:gz\")\n",
    "    for root, dir, files in os.walk(fname):\n",
    "        print(root, dir, files)\n",
    "        for file in files:\n",
    "            fullpath = os.path.join(root, file)\n",
    "            t.add(fullpath)\n",
    "    t.close()\n",
    "    \n",
    "tar('/data/users/26')"
   ]
  },
  {
   "cell_type": "code",
   "execution_count": 28,
   "metadata": {
    "ExecuteTime": {
     "end_time": "2020-05-12T14:35:01.583562Z",
     "start_time": "2020-05-12T14:34:47.329368Z"
    },
    "scrolled": true
   },
   "outputs": [
    {
     "data": {
      "text/plain": [
       "[{'etag': 'cbe5df6db86ec412c193495a67770771',\n",
       "  'file': 'framework/samples/datasets.tar.gz',\n",
       "  'size': 8075847,\n",
       "  'time': [1589294087.3773189, 1589294088.3226335]},\n",
       " {'etag': 'c6dbae4a4614c3b74c93cc8d9b708e8a',\n",
       "  'file': 'framework/samples/datasets/cv/KMNIST/labels_hist.png',\n",
       "  'size': 12608,\n",
       "  'time': [1589294088.3229141, 1589294088.3837276]},\n",
       " {'etag': '8f6bd46adbff4801196eea78ab07b520',\n",
       "  'file': 'framework/samples/datasets/cv/KMNIST/imgs/test/00003.jpg',\n",
       "  'size': 734,\n",
       "  'time': [1589294088.3841467, 1589294088.4625175]},\n",
       " {'etag': '47be55030ecc6a1f4c437d9e2c9ee916',\n",
       "  'file': 'framework/samples/datasets/cv/KMNIST/imgs/test/00043.jpg',\n",
       "  'size': 670,\n",
       "  'time': [1589294088.4626276, 1589294088.4979384]},\n",
       " {'etag': '88c526dce2fcd88cf5895ed96a7f3077',\n",
       "  'file': 'framework/samples/datasets/cv/KMNIST/imgs/test/00001.jpg',\n",
       "  'size': 630,\n",
       "  'time': [1589294088.4981186, 1589294088.567009]},\n",
       " {'etag': 'c9ff7c521f82ba9a5d24473d830b4226',\n",
       "  'file': 'framework/samples/datasets/cv/KMNIST/imgs/test/00009.jpg',\n",
       "  'size': 578,\n",
       "  'time': [1589294088.5671804, 1589294088.6027243]},\n",
       " {'etag': '0c9248118f06557164349e880dfd5d11',\n",
       "  'file': 'framework/samples/datasets/cv/KMNIST/imgs/test/00010.jpg',\n",
       "  'size': 621,\n",
       "  'time': [1589294088.6029282, 1589294088.6707397]},\n",
       " {'etag': '3f6bb1bb5f1afcbcfbb51131e0b08749',\n",
       "  'file': 'framework/samples/datasets/cv/KMNIST/imgs/test/00025.jpg',\n",
       "  'size': 597,\n",
       "  'time': [1589294088.6709154, 1589294088.7056735]},\n",
       " {'etag': 'b42c34550becfa596def44900bb95852',\n",
       "  'file': 'framework/samples/datasets/cv/KMNIST/imgs/test/00002.jpg',\n",
       "  'size': 698,\n",
       "  'time': [1589294088.7058508, 1589294088.7725463]},\n",
       " {'etag': 'ac682118800c467f4011b51dceb2e076',\n",
       "  'file': 'framework/samples/datasets/cv/KMNIST/imgs/test/00022.jpg',\n",
       "  'size': 733,\n",
       "  'time': [1589294088.772724, 1589294088.8384206]},\n",
       " {'etag': 'e95e49be0984d7d897b9a71f23dfb83a',\n",
       "  'file': 'framework/samples/datasets/cv/KMNIST/imgs/test/00000.jpg',\n",
       "  'size': 695,\n",
       "  'time': [1589294088.8385634, 1589294088.9044197]},\n",
       " {'etag': 'f16d55ebf8af3ae78a9ddb5986a3fa6a',\n",
       "  'file': 'framework/samples/datasets/cv/KMNIST/imgs/test/00016.jpg',\n",
       "  'size': 645,\n",
       "  'time': [1589294088.904877, 1589294088.9421735]},\n",
       " {'etag': '8852ae00245ee20c730dd8da6065916b',\n",
       "  'file': 'framework/samples/datasets/cv/Fruits360/labels_hist.png',\n",
       "  'size': 15131,\n",
       "  'time': [1589294088.942429, 1589294088.9847515]},\n",
       " {'etag': '7dc4d75d1a7b5e1a210ba0107149fef7',\n",
       "  'file': 'framework/samples/datasets/cv/Fruits360/imgs/test/Apple_Red_Delicious#313_100.jpg',\n",
       "  'size': 4184,\n",
       "  'time': [1589294088.9850237, 1589294089.0361912]},\n",
       " {'etag': '8fe81f5daa08091b0eb6ad4f406091c7',\n",
       "  'file': 'framework/samples/datasets/cv/Fruits360/imgs/test/Apple_Red_2#327_100.jpg',\n",
       "  'size': 4669,\n",
       "  'time': [1589294089.0363488, 1589294089.072296]},\n",
       " {'etag': '943ebf7fd1bb7b3bad2f2e91937465b6',\n",
       "  'file': 'framework/samples/datasets/cv/Fruits360/imgs/test/Apple_Golden_2#r_8_100.jpg',\n",
       "  'size': 3916,\n",
       "  'time': [1589294089.0724502, 1589294089.1081827]},\n",
       " {'etag': '011d5b944502e20507547a59888f0e15',\n",
       "  'file': 'framework/samples/datasets/cv/Fruits360/imgs/test/Apple_Crimson_Snow#119_100.jpg',\n",
       "  'size': 5136,\n",
       "  'time': [1589294089.10839, 1589294089.1620188]},\n",
       " {'etag': '861b1de9918a33cc5ccf9a394f111a7f',\n",
       "  'file': 'framework/samples/datasets/cv/Fruits360/imgs/test/Apple_Red_1#r_92_100.jpg',\n",
       "  'size': 5202,\n",
       "  'time': [1589294089.1621537, 1589294089.2270417]},\n",
       " {'etag': '6f6340a7872a1ad400d69a21d112e581',\n",
       "  'file': 'framework/samples/datasets/cv/Fruits360/imgs/test/Apple_Red_3#r_82_100.jpg',\n",
       "  'size': 5308,\n",
       "  'time': [1589294089.227194, 1589294089.2637458]},\n",
       " {'etag': '3240f744090271b642a83308277ac1ef',\n",
       "  'file': 'framework/samples/datasets/cv/Fruits360/imgs/test/Apple_Golden_1#r_38_100.jpg',\n",
       "  'size': 5196,\n",
       "  'time': [1589294089.2639635, 1589294089.3000746]},\n",
       " {'etag': 'df7ecf34e45983835c77688513562a43',\n",
       "  'file': 'framework/samples/datasets/cv/Fruits360/imgs/test/Apple_Golden_3#r_48_100.jpg',\n",
       "  'size': 4775,\n",
       "  'time': [1589294089.30022, 1589294089.3355303]},\n",
       " {'etag': '244b90806bc10f0d9182563663d33b85',\n",
       "  'file': 'framework/samples/datasets/cv/Fruits360/imgs/test/Apple_Granny_Smith#r_44_100.jpg',\n",
       "  'size': 4595,\n",
       "  'time': [1589294089.3356428, 1589294089.3702638]},\n",
       " {'etag': 'f58f45d8661221c0f2b360a506ac9baa',\n",
       "  'file': 'framework/samples/datasets/cv/Fruits360/imgs/test/Apple_Braeburn#321_100.jpg',\n",
       "  'size': 4836,\n",
       "  'time': [1589294089.3704143, 1589294089.4440317]},\n",
       " {'etag': '5353180f5a74abdc7841b2fe9d15ea15',\n",
       "  'file': 'framework/samples/datasets/cv/cellular/labels_hist.png',\n",
       "  'size': 13695,\n",
       "  'time': [1589294089.444325, 1589294089.5174925]},\n",
       " {'etag': 'e3fa25ab5c407b164b7a579eeea42f5a',\n",
       "  'file': 'framework/samples/datasets/cv/cellular/imgs/train/HEPG2-01/Plate1/B07_s2_w1.png',\n",
       "  'size': 86944,\n",
       "  'time': [1589294089.5179565, 1589294089.6120021]},\n",
       " {'etag': '0b703f422fba7188043fb9b5a80b15ce',\n",
       "  'file': 'framework/samples/datasets/cv/cellular/imgs/train/HEPG2-01/Plate1/B04_s2_w2.png',\n",
       "  'size': 110184,\n",
       "  'time': [1589294089.6121595, 1589294089.6833613]},\n",
       " {'etag': '068cb4bd2b70e6208593eb7acd517d98',\n",
       "  'file': 'framework/samples/datasets/cv/cellular/imgs/train/HUVEC-08/Plate4/G20_s1_w2.png',\n",
       "  'size': 90182,\n",
       "  'time': [1589294089.6836586, 1589294089.7676694]},\n",
       " {'etag': '3efe10a134aa44c1a2fb270e9ee9fc88',\n",
       "  'file': 'framework/samples/datasets/cv/cellular/imgs/train/HUVEC-09/Plate1/B20_s2_w3.png',\n",
       "  'size': 59329,\n",
       "  'time': [1589294089.7680423, 1589294089.8209412]},\n",
       " {'etag': '8ee620fb10cca34d0997f2493bf1e56b',\n",
       "  'file': 'framework/samples/datasets/cv/cellular/imgs/train/HUVEC-02/Plate4/I03_s1_w2.png',\n",
       "  'size': 107247,\n",
       "  'time': [1589294089.821275, 1589294089.8754416]},\n",
       " {'etag': 'd3283040c2651691f3434de5e593c012',\n",
       "  'file': 'framework/samples/datasets/cv/cellular/imgs/train/RPE-04/Plate3/E20_s2_w2.png',\n",
       "  'size': 88170,\n",
       "  'time': [1589294089.875797, 1589294089.9597788]},\n",
       " {'etag': '2f98689a468704b7b5bd7dacd20ecd2b',\n",
       "  'file': 'framework/samples/datasets/cv/cellular/imgs/train/HEPG2-05/Plate1/N21_s2_w5.png',\n",
       "  'size': 55058,\n",
       "  'time': [1589294089.960165, 1589294090.0457294]},\n",
       " {'etag': 'da0cb90440c8efe20cd334113301eca5',\n",
       "  'file': 'framework/samples/datasets/cv/cellular/imgs/train/HEPG2-03/Plate3/C12_s1_w4.png',\n",
       "  'size': 95169,\n",
       "  'time': [1589294090.045983, 1589294090.133278]},\n",
       " {'etag': 'fbfb04120c7188b2a48cb997f765a684',\n",
       "  'file': 'framework/samples/datasets/cv/cellular/imgs/train/U2OS-03/Plate2/D19_s1_w5.png',\n",
       "  'size': 54791,\n",
       "  'time': [1589294090.1335154, 1589294090.2152803]},\n",
       " {'etag': '5d687596658868745c64a61acfd03862',\n",
       "  'file': 'framework/samples/datasets/cv/cellular/imgs/train/HUVEC-13/Plate1/H02_s1_w1.png',\n",
       "  'size': 58012,\n",
       "  'time': [1589294090.2156184, 1589294090.2897553]},\n",
       " {'etag': '41b8dbbb1e4acc150b05e12b371ee0e6',\n",
       "  'file': 'framework/samples/datasets/cv/aliproducts/labels_hist.png',\n",
       "  'size': 15661,\n",
       "  'time': [1589294090.2900982, 1589294090.363852]},\n",
       " {'etag': 'a110cb7f133353fa062c13ea5c9eea41',\n",
       "  'file': 'framework/samples/datasets/cv/aliproducts/train/00005/1823952.jpg',\n",
       "  'size': 40993,\n",
       "  'time': [1589294090.3642983, 1589294090.4178689]},\n",
       " {'etag': 'b3692750beaded230e9703920de475d0',\n",
       "  'file': 'framework/samples/datasets/cv/aliproducts/train/00003/0000408.jpg',\n",
       "  'size': 91111,\n",
       "  'time': [1589294090.4181066, 1589294090.4673622]},\n",
       " {'etag': '72f7dc03095374d68cd4d3b45ace66e2',\n",
       "  'file': 'framework/samples/datasets/cv/aliproducts/train/00002/0088390.jpg',\n",
       "  'size': 48819,\n",
       "  'time': [1589294090.4675462, 1589294090.5097942]},\n",
       " {'etag': '098a532d088a9892919fad14e63e0286',\n",
       "  'file': 'framework/samples/datasets/cv/aliproducts/train/00000/0120946.jpg',\n",
       "  'size': 44318,\n",
       "  'time': [1589294090.5101125, 1589294090.5846012]},\n",
       " {'etag': '8b357a42313f81ff0cbfacd6fd50e923',\n",
       "  'file': 'framework/samples/datasets/cv/aliproducts/train/00004/0001900.jpg',\n",
       "  'size': 112149,\n",
       "  'time': [1589294090.5848813, 1589294090.6314657]},\n",
       " {'etag': '0c1931cab222c147d8b70ed0a44b60bc',\n",
       "  'file': 'framework/samples/datasets/cv/aliproducts/train/00006/0003441.jpg',\n",
       "  'size': 46449,\n",
       "  'time': [1589294090.6316464, 1589294090.705278]},\n",
       " {'etag': '4365caa8c13086a641b0b021b7e3a9c2',\n",
       "  'file': 'framework/samples/datasets/cv/aliproducts/train/00001/0015255.jpg',\n",
       "  'size': 64061,\n",
       "  'time': [1589294090.7054412, 1589294090.7498891]},\n",
       " {'etag': 'd974857f2c24bf21fa3cafa2abdbee95',\n",
       "  'file': 'framework/samples/datasets/cv/aliproducts/train/00008/0509747.jpg',\n",
       "  'size': 75356,\n",
       "  'time': [1589294090.7501993, 1589294090.8232386]},\n",
       " {'etag': '614cc36a6994c69585667096fbd227d9',\n",
       "  'file': 'framework/samples/datasets/cv/aliproducts/train/00009/0079882.jpg',\n",
       "  'size': 99508,\n",
       "  'time': [1589294090.8235085, 1589294090.90867]},\n",
       " {'etag': '7920ba5198a5ee7a6798328e71bf4149',\n",
       "  'file': 'framework/samples/datasets/cv/aliproducts/train/00007/0002272.jpg',\n",
       "  'size': 44929,\n",
       "  'time': [1589294090.9090688, 1589294090.9861596]},\n",
       " {'etag': '84e2ec83c2e3165e667b7c923ed47190',\n",
       "  'file': 'framework/samples/datasets/cv/kannada/labels_hist.png',\n",
       "  'size': 12200,\n",
       "  'time': [1589294090.986417, 1589294091.0314522]},\n",
       " {'etag': '68d100efd9f88ea98a8bcdce8cb0c360',\n",
       "  'file': 'framework/samples/datasets/cv/kannada/imgs/test/08533.jpg',\n",
       "  'size': 566,\n",
       "  'time': [1589294091.0318081, 1589294091.1137261]},\n",
       " {'etag': '8d83290651a5c681d7a8931c640cdecb',\n",
       "  'file': 'framework/samples/datasets/cv/kannada/imgs/test/10578.jpg',\n",
       "  'size': 543,\n",
       "  'time': [1589294091.1138685, 1589294091.1460497]},\n",
       " {'etag': '0c6bcaa9db06bcb8bd4542c326c4ded5',\n",
       "  'file': 'framework/samples/datasets/cv/kannada/imgs/test/06815.jpg',\n",
       "  'size': 562,\n",
       "  'time': [1589294091.1461663, 1589294091.182161]},\n",
       " {'etag': '6d0e984d2c56d60aa008f87a888961b8',\n",
       "  'file': 'framework/samples/datasets/cv/kannada/imgs/test/01992.jpg',\n",
       "  'size': 548,\n",
       "  'time': [1589294091.182275, 1589294091.2152026]},\n",
       " {'etag': '7fc43f3ac50d6732f7e188c1c8ff672f',\n",
       "  'file': 'framework/samples/datasets/cv/kannada/imgs/test/09311.jpg',\n",
       "  'size': 569,\n",
       "  'time': [1589294091.21533, 1589294091.2500532]},\n",
       " {'etag': '5dda5cca8c2b3b24cb885447639d88ba',\n",
       "  'file': 'framework/samples/datasets/cv/kannada/imgs/test/18817.jpg',\n",
       "  'size': 518,\n",
       "  'time': [1589294091.2501638, 1589294091.3149436]},\n",
       " {'etag': 'c9d5673a879593c3320792ee9cf36510',\n",
       "  'file': 'framework/samples/datasets/cv/kannada/imgs/test/08326.jpg',\n",
       "  'size': 515,\n",
       "  'time': [1589294091.3150995, 1589294091.3507752]},\n",
       " {'etag': 'cd0ad97ea73b7acde4ef5f773d2d88d6',\n",
       "  'file': 'framework/samples/datasets/cv/kannada/imgs/test/22659.jpg',\n",
       "  'size': 484,\n",
       "  'time': [1589294091.350903, 1589294091.386644]},\n",
       " {'etag': 'ed0bc730316e7ef8a062ee02021aae64',\n",
       "  'file': 'framework/samples/datasets/cv/kannada/imgs/test/06514.jpg',\n",
       "  'size': 622,\n",
       "  'time': [1589294091.386762, 1589294091.4218788]},\n",
       " {'etag': 'a334903f55d85a7a898bc3c5fa0410b0',\n",
       "  'file': 'framework/samples/datasets/cv/kannada/imgs/test/00000.jpg',\n",
       "  'size': 556,\n",
       "  'time': [1589294091.4220576, 1589294091.4834752]},\n",
       " {'etag': 'ea93d1e722a42605ae60c9cc6a0ebbfc',\n",
       "  'file': 'framework/samples/datasets/cv/FashionMNIST/labels_hist.png',\n",
       "  'size': 13243,\n",
       "  'time': [1589294091.4836628, 1589294091.556274]},\n",
       " {'etag': '0471552aab772a368af5a1e19f13d5b4',\n",
       "  'file': 'framework/samples/datasets/cv/FashionMNIST/imgs/test/00011.jpg',\n",
       "  'size': 575,\n",
       "  'time': [1589294091.5565324, 1589294091.6364453]},\n",
       " {'etag': '81e3157db29aab9bb8bb8d4bdf111d8a',\n",
       "  'file': 'framework/samples/datasets/cv/FashionMNIST/imgs/test/00013.jpg',\n",
       "  'size': 543,\n",
       "  'time': [1589294091.6366327, 1589294091.6932678]},\n",
       " {'etag': 'ac5062812a830ff0fd9d9001a8dae46d',\n",
       "  'file': 'framework/samples/datasets/cv/FashionMNIST/imgs/test/00012.jpg',\n",
       "  'size': 518,\n",
       "  'time': [1589294091.6934574, 1589294091.7267442]},\n",
       " {'etag': '8c7eb67476c1cb527368f6cdc77cd6b4',\n",
       "  'file': 'framework/samples/datasets/cv/FashionMNIST/imgs/test/00001.jpg',\n",
       "  'size': 721,\n",
       "  'time': [1589294091.7268753, 1589294091.792723]},\n",
       " {'etag': '9cc64026e9f0308549a228df502f8a2d',\n",
       "  'file': 'framework/samples/datasets/cv/FashionMNIST/imgs/test/00004.jpg',\n",
       "  'size': 670,\n",
       "  'time': [1589294091.7928867, 1589294092.0188231]},\n",
       " {'etag': 'c47273be814441079e0be74de9bcec4b',\n",
       "  'file': 'framework/samples/datasets/cv/FashionMNIST/imgs/test/00002.jpg',\n",
       "  'size': 538,\n",
       "  'time': [1589294092.0189652, 1589294092.0549781]},\n",
       " {'etag': '7104423c1bf0e427b1538ec7513730a3',\n",
       "  'file': 'framework/samples/datasets/cv/FashionMNIST/imgs/test/00027.jpg',\n",
       "  'size': 565,\n",
       "  'time': [1589294092.0551734, 1589294092.0890222]},\n",
       " {'etag': 'dfaf39b759fc2794a648c3e70d745540',\n",
       "  'file': 'framework/samples/datasets/cv/FashionMNIST/imgs/test/00018.jpg',\n",
       "  'size': 568,\n",
       "  'time': [1589294092.0891776, 1589294092.1564305]},\n",
       " {'etag': '48abc16f7c75cf43d33893489b31ba7c',\n",
       "  'file': 'framework/samples/datasets/cv/FashionMNIST/imgs/test/00000.jpg',\n",
       "  'size': 524,\n",
       "  'time': [1589294092.1565447, 1589294092.2204878]},\n",
       " {'etag': '759522c09e84abb74ff5ef50019c94e6',\n",
       "  'file': 'framework/samples/datasets/cv/FashionMNIST/imgs/test/00006.jpg',\n",
       "  'size': 595,\n",
       "  'time': [1589294092.2206287, 1589294092.2879975]},\n",
       " {'etag': '555118d11b3ed92bd12ab6b7f67c0451',\n",
       "  'file': 'framework/samples/datasets/cv/EMNIST_Digits/labels_hist.png',\n",
       "  'size': 15284,\n",
       "  'time': [1589294092.288233, 1589294092.3289394]},\n",
       " {'etag': '919db038fdd30b2bc027a8d882e4afcc',\n",
       "  'file': 'framework/samples/datasets/cv/EMNIST_Digits/imgs/test/00043.jpg',\n",
       "  'size': 619,\n",
       "  'time': [1589294092.32924, 1589294092.3811753]},\n",
       " {'etag': '5a785db76e26f04ecc8b8c54924a43e2',\n",
       "  'file': 'framework/samples/datasets/cv/EMNIST_Digits/imgs/test/00001.jpg',\n",
       "  'size': 525,\n",
       "  'time': [1589294092.381339, 1589294092.4152853]},\n",
       " {'etag': '36ddf02156e6950c7bbdafaccfe41c74',\n",
       "  'file': 'framework/samples/datasets/cv/EMNIST_Digits/imgs/test/00017.jpg',\n",
       "  'size': 591,\n",
       "  'time': [1589294092.4154406, 1589294092.477778]},\n",
       " {'etag': '9573e52f3780a52197e8f227fde65059',\n",
       "  'file': 'framework/samples/datasets/cv/EMNIST_Digits/imgs/test/00004.jpg',\n",
       "  'size': 610,\n",
       "  'time': [1589294092.4779654, 1589294092.5435586]},\n",
       " {'etag': '0a49d7c2a2992281592aedbe93a67867',\n",
       "  'file': 'framework/samples/datasets/cv/EMNIST_Digits/imgs/test/00035.jpg',\n",
       "  'size': 607,\n",
       "  'time': [1589294092.5436876, 1589294092.608455]},\n",
       " {'etag': '5cd99757fda6849a3c7a4151c50aa3d6',\n",
       "  'file': 'framework/samples/datasets/cv/EMNIST_Digits/imgs/test/00049.jpg',\n",
       "  'size': 543,\n",
       "  'time': [1589294092.608622, 1589294092.6855543]},\n",
       " {'etag': 'a3a15ea4ec7db4b22df9e46e3c319c2b',\n",
       "  'file': 'framework/samples/datasets/cv/EMNIST_Digits/imgs/test/00002.jpg',\n",
       "  'size': 573,\n",
       "  'time': [1589294092.6856668, 1589294092.7488928]},\n",
       " {'etag': '165424c55d82376b74bb57dabc4c0ea5',\n",
       "  'file': 'framework/samples/datasets/cv/EMNIST_Digits/imgs/test/00007.jpg',\n",
       "  'size': 468,\n",
       "  'time': [1589294092.749026, 1589294092.814208]},\n",
       " {'etag': '1dce5991d529cf954f9276842c3408bf',\n",
       "  'file': 'framework/samples/datasets/cv/EMNIST_Digits/imgs/test/00000.jpg',\n",
       "  'size': 633,\n",
       "  'time': [1589294092.814316, 1589294092.8789136]},\n",
       " {'etag': '30b26d3386bd383db3b245349cfc5c17',\n",
       "  'file': 'framework/samples/datasets/cv/EMNIST_Digits/imgs/test/00006.jpg',\n",
       "  'size': 569,\n",
       "  'time': [1589294092.8790252, 1589294092.911333]},\n",
       " {'etag': 'af5b577a91ba13916765e87c4b699f02',\n",
       "  'file': 'framework/samples/datasets/cv/VOC07+12_DET/train/image/2010_003609.jpg',\n",
       "  'size': 139370,\n",
       "  'time': [1589294092.911621, 1589294093.0068498]},\n",
       " {'etag': 'b7529e039a5d6115570e63269dde7219',\n",
       "  'file': 'framework/samples/datasets/cv/VOC07+12_DET/train/image/2009_002675.jpg',\n",
       "  'size': 124286,\n",
       "  'time': [1589294093.0070114, 1589294093.0788815]},\n",
       " {'etag': '54e88fa8664fc040cd52dad6e6c8bd77',\n",
       "  'file': 'framework/samples/datasets/cv/VOC07+12_DET/train/image/000804.jpg',\n",
       "  'size': 69005,\n",
       "  'time': [1589294093.0790346, 1589294093.1722405]},\n",
       " {'etag': '224f81f457193e6172975c2aa86f7949',\n",
       "  'file': 'framework/samples/datasets/cv/VOC07+12_DET/train/image/2008_006345.jpg',\n",
       "  'size': 182470,\n",
       "  'time': [1589294093.1723816, 1589294093.2420406]},\n",
       " {'etag': 'abc02113718a7e667f0f7fed64cbde0b',\n",
       "  'file': 'framework/samples/datasets/cv/VOC07+12_DET/train/image/2008_003915.jpg',\n",
       "  'size': 67852,\n",
       "  'time': [1589294093.2422032, 1589294093.319666]},\n",
       " {'etag': '375b7b7e60c05df47fb482c228323e9e',\n",
       "  'file': 'framework/samples/datasets/cv/VOC07+12_DET/train/image/2009_001922.jpg',\n",
       "  'size': 158872,\n",
       "  'time': [1589294093.3198268, 1589294093.3945827]},\n",
       " {'etag': '7e682a44057e8ee5c0d1e13c5240845c',\n",
       "  'file': 'framework/samples/datasets/cv/VOC07+12_DET/train/image/001643.jpg',\n",
       "  'size': 81952,\n",
       "  'time': [1589294093.39472, 1589294093.4324288]},\n",
       " {'etag': '5436aa4217616f22c1e61caf6c74d65b',\n",
       "  'file': 'framework/samples/datasets/cv/VOC07+12_DET/train/image/005658.jpg',\n",
       "  'size': 86193,\n",
       "  'time': [1589294093.4325576, 1589294093.5063868]},\n",
       " {'etag': '5ce1aae6030e8149cd87ef8b3a7a9321',\n",
       "  'file': 'framework/samples/datasets/cv/VOC07+12_DET/train/image/005215.jpg',\n",
       "  'size': 101040,\n",
       "  'time': [1589294093.506538, 1589294093.5776858]},\n",
       " {'etag': '0391813faf7dc9297cc6c2a25faf2089',\n",
       "  'file': 'framework/samples/datasets/cv/VOC07+12_DET/train/image/2011_003111.jpg',\n",
       "  'size': 44226,\n",
       "  'time': [1589294093.5778346, 1589294093.6452065]},\n",
       " {'etag': '922d6e62b8a2f9a11fb2a9587baa1c7f',\n",
       "  'file': 'framework/samples/datasets/cv/cifar10/labels_hist.png',\n",
       "  'size': 14313,\n",
       "  'time': [1589294093.6454055, 1589294093.7149324]},\n",
       " {'etag': '0d453aba51d76d1ec07572c4d0569d89',\n",
       "  'file': 'framework/samples/datasets/cv/cifar10/imgs/test/00011.jpg',\n",
       "  'size': 1005,\n",
       "  'time': [1589294093.715221, 1589294093.7970138]},\n",
       " {'etag': 'f6f420107c436d9e2eae3a9bebc2faa7',\n",
       "  'file': 'framework/samples/datasets/cv/cifar10/imgs/test/00033.jpg',\n",
       "  'size': 923,\n",
       "  'time': [1589294093.7971256, 1589294093.8609393]},\n",
       " {'etag': '685081ea2e3d1ec2deb147b4ed80a3ac',\n",
       "  'file': 'framework/samples/datasets/cv/cifar10/imgs/test/05069.jpg',\n",
       "  'size': 869,\n",
       "  'time': [1589294093.8610616, 1589294093.895062]},\n",
       " {'etag': '1974c3326c8fe8ffea6d1bdb65febf61',\n",
       "  'file': 'framework/samples/datasets/cv/cifar10/imgs/test/04207.jpg',\n",
       "  'size': 1002,\n",
       "  'time': [1589294093.8951473, 1589294093.960987]},\n",
       " {'etag': 'eb687e77b1dec44671a6fa7dac022df9',\n",
       "  'file': 'framework/samples/datasets/cv/cifar10/imgs/test/02200.jpg',\n",
       "  'size': 785,\n",
       "  'time': [1589294093.9610856, 1589294093.9933045]},\n",
       " {'etag': '4bfb2b003cc6cd9afe173b7a3bf58424',\n",
       "  'file': 'framework/samples/datasets/cv/cifar10/imgs/test/00003.jpg',\n",
       "  'size': 888,\n",
       "  'time': [1589294093.9933937, 1589294094.058478]},\n",
       " {'etag': '0addb7f9f066175012fb66a476e047c1',\n",
       "  'file': 'framework/samples/datasets/cv/cifar10/imgs/test/00032.jpg',\n",
       "  'size': 897,\n",
       "  'time': [1589294094.0586529, 1589294094.1253786]},\n",
       " {'etag': 'c64a6acfcecbc0471e9360cf38e6eb32',\n",
       "  'file': 'framework/samples/datasets/cv/cifar10/imgs/test/00001.jpg',\n",
       "  'size': 917,\n",
       "  'time': [1589294094.1255193, 1589294094.188752]},\n",
       " {'etag': '4bd743a1c5527bef2c87a3eb83f2f9b7',\n",
       "  'file': 'framework/samples/datasets/cv/cifar10/imgs/test/00973.jpg',\n",
       "  'size': 959,\n",
       "  'time': [1589294094.188895, 1589294094.2567885]},\n",
       " {'etag': '4e34cdd94d7a1aa8a28c4bd46b73fcce',\n",
       "  'file': 'framework/samples/datasets/cv/cifar10/imgs/test/00025.jpg',\n",
       "  'size': 933,\n",
       "  'time': [1589294094.2569156, 1589294094.324207]},\n",
       " {'etag': 'dc5b4d6cc872d95ddac0467edae7a4a8',\n",
       "  'file': 'framework/samples/datasets/cv/cifar10/imgs/test/00020.jpg',\n",
       "  'size': 965,\n",
       "  'time': [1589294094.3244078, 1589294094.3948586]},\n",
       " {'etag': '750eebb4606a7ce4bfe31312b3a8621d',\n",
       "  'file': 'framework/samples/datasets/cv/cifar10/imgs/test/07245.jpg',\n",
       "  'size': 840,\n",
       "  'time': [1589294094.3950026, 1589294094.4639797]},\n",
       " {'etag': 'ee65f372f69f8a56d8e21235b927373d',\n",
       "  'file': 'framework/samples/datasets/cv/cifar10/imgs/test/06646.jpg',\n",
       "  'size': 910,\n",
       "  'time': [1589294094.4641252, 1589294094.497776]},\n",
       " {'etag': '85639e10325f37c7e6ad61004a451ad2',\n",
       "  'file': 'framework/samples/datasets/cv/cifar10/imgs/test/06103.jpg',\n",
       "  'size': 906,\n",
       "  'time': [1589294094.4979422, 1589294094.5626743]},\n",
       " {'etag': '40ae119763b1301e70f45b3bdd20aa02',\n",
       "  'file': 'framework/samples/datasets/cv/cifar10/imgs/test/02749.jpg',\n",
       "  'size': 921,\n",
       "  'time': [1589294094.5628417, 1589294094.6270452]},\n",
       " {'etag': '682b10715bdb2702c730d54b62bd7e36',\n",
       "  'file': 'framework/samples/datasets/cv/cifar10/imgs/test/00000.jpg',\n",
       "  'size': 973,\n",
       "  'time': [1589294094.6272154, 1589294094.6917925]},\n",
       " {'etag': '8c025ebf10d0c99fc523eb248522f4de',\n",
       "  'file': 'framework/samples/datasets/cv/cifar10/imgs/test/03398.jpg',\n",
       "  'size': 732,\n",
       "  'time': [1589294094.6920242, 1589294094.7258124]},\n",
       " {'etag': '1ceffc0d492b171752dd6cdab54ea885',\n",
       "  'file': 'framework/samples/datasets/cv/cifar10/imgs/test/00005.jpg',\n",
       "  'size': 910,\n",
       "  'time': [1589294094.7259858, 1589294094.7902298]},\n",
       " {'etag': 'c2ac3b5f2e6a014963825628545dd86d',\n",
       "  'file': 'framework/samples/datasets/cv/cifar10/imgs/test/00006.jpg',\n",
       "  'size': 981,\n",
       "  'time': [1589294094.7904773, 1589294094.824489]},\n",
       " {'etag': 'ba07c69a8eeed6ca8209ec28ed71e5be',\n",
       "  'file': 'framework/samples/datasets/cv/dogsVsCats/labels_hist.png',\n",
       "  'size': 15468,\n",
       "  'time': [1589294094.8247128, 1589294094.8986454]},\n",
       " {'etag': '5d286fa31a3ac244cf746531ac8d0ef1',\n",
       "  'file': 'framework/samples/datasets/cv/dogsVsCats/imgs/test/dog.216.jpg',\n",
       "  'size': 17181,\n",
       "  'time': [1589294094.8989217, 1589294094.954688]},\n",
       " {'etag': '2d7bae4a821b575b4b9f42c67f7f1e75',\n",
       "  'file': 'framework/samples/datasets/cv/dogsVsCats/imgs/test/cat.1286.jpg',\n",
       "  'size': 26057,\n",
       "  'time': [1589294094.9548728, 1589294095.0217547]},\n",
       " {'etag': '6c28266728e86561203cb182ed14e478',\n",
       "  'file': 'framework/samples/datasets/cv/dogsVsCats/imgs/test/dog.3386.jpg',\n",
       "  'size': 23986,\n",
       "  'time': [1589294095.0218894, 1589294095.0570495]},\n",
       " {'etag': '0d2ed6adf1f1c56fef36dd1c4b56e021',\n",
       "  'file': 'framework/samples/datasets/cv/dogsVsCats/imgs/test/cat.12256.jpg',\n",
       "  'size': 31405,\n",
       "  'time': [1589294095.0572171, 1589294095.0946732]},\n",
       " {'etag': '8e903681345ba0418beb9227965d2cfd',\n",
       "  'file': 'framework/samples/datasets/cv/dogsVsCats/imgs/test/dog.2566.jpg',\n",
       "  'size': 3768,\n",
       "  'time': [1589294095.0948513, 1589294095.1610336]},\n",
       " {'etag': '5fdd7df41daf5420b5b4ae3720f8c7ca',\n",
       "  'file': 'framework/samples/datasets/cv/dogsVsCats/imgs/test/cat.11646.jpg',\n",
       "  'size': 6752,\n",
       "  'time': [1589294095.1611838, 1589294095.1950052]},\n",
       " {'etag': 'f266e75c65075ca56a81cf1ab02a7c12',\n",
       "  'file': 'framework/samples/datasets/cv/dogsVsCats/imgs/test/cat.11486.jpg',\n",
       "  'size': 30893,\n",
       "  'time': [1589294095.1951375, 1589294095.228368]},\n",
       " {'etag': '841cfeb608f32c82991f2652037ac153',\n",
       "  'file': 'framework/samples/datasets/cv/dogsVsCats/imgs/test/dog.3196.jpg',\n",
       "  'size': 37282,\n",
       "  'time': [1589294095.2285051, 1589294095.2938724]},\n",
       " {'etag': 'a2a8d83272ffcbac5bab34ac62b61914',\n",
       "  'file': 'framework/samples/datasets/cv/dogsVsCats/imgs/test/cat.11286.jpg',\n",
       "  'size': 24343,\n",
       "  'time': [1589294095.2939956, 1589294095.3307407]},\n",
       " {'etag': 'c2c2a9b5c01ca655fa67b66f201a5696',\n",
       "  'file': 'framework/samples/datasets/cv/dogsVsCats/imgs/test/dog.2186.jpg',\n",
       "  'size': 33912,\n",
       "  'time': [1589294095.3309565, 1589294095.3974872]},\n",
       " {'etag': '75d8b3b7555448b93fc968722066fe8c',\n",
       "  'file': 'framework/samples/datasets/cv/Boats/labels_hist.png',\n",
       "  'size': 13698,\n",
       "  'time': [1589294095.397751, 1589294095.4720175]},\n",
       " {'etag': '3c176e7aac723c5e7dcd93fb49267372',\n",
       "  'file': 'framework/samples/datasets/cv/Boats/imgs/test/kayak#paddle-kayak-canoeing-explore-3729596.jpg',\n",
       "  'size': 156995,\n",
       "  'time': [1589294095.4723394, 1589294095.5284343]},\n",
       " {'etag': 'c00860ecff70210cfea7e202b96b132e',\n",
       "  'file': 'framework/samples/datasets/cv/Boats/imgs/test/freight_boat#cargo-ship-ocean-sea-inland-1101391.jpg',\n",
       "  'size': 223612,\n",
       "  'time': [1589294095.5285769, 1589294095.6138806]},\n",
       " {'etag': '052c692355c9f33ad688cc506ef40605',\n",
       "  'file': 'framework/samples/datasets/cv/Boats/imgs/test/sailboat#greece-sea-ocean-mountains-2693408.jpg',\n",
       "  'size': 310070,\n",
       "  'time': [1589294095.6140351, 1589294095.6904662]},\n",
       " {'etag': 'c6a076edf719e577b2bfd4ebaca218e6',\n",
       "  'file': 'framework/samples/datasets/cv/Boats/imgs/test/sailboat#sail-sailboat-vessel-yacht-charter-863082.jpg',\n",
       "  'size': 247649,\n",
       "  'time': [1589294095.6906495, 1589294095.7612674]},\n",
       " {'etag': 'f621575fad411773f42a39b65f7cca79',\n",
       "  'file': 'framework/samples/datasets/cv/Boats/imgs/test/ferry_boat#river-ferry-water-ship-boat-1615351.jpg',\n",
       "  'size': 489856,\n",
       "  'time': [1589294095.7614396, 1589294095.8374584]},\n",
       " {'etag': 'e075ceecfd7af88fa76729b54c9bc6c1',\n",
       "  'file': 'framework/samples/datasets/cv/Boats/imgs/test/inflatable_boat#zachranari-inflatable-boat-ocean-846324.jpg',\n",
       "  'size': 542940,\n",
       "  'time': [1589294095.837618, 1589294095.889505]},\n",
       " {'etag': 'd1a0734ea39c00f0afecaa8440049e5b',\n",
       "  'file': 'framework/samples/datasets/cv/Boats/imgs/test/buoy#buoy-seagull-water-nature-birds-3764298.jpg',\n",
       "  'size': 74562,\n",
       "  'time': [1589294095.88968, 1589294095.9586666]},\n",
       " {'etag': '6ec544238816cf6bb6ce3bc22da6bb18',\n",
       "  'file': 'framework/samples/datasets/cv/Boats/imgs/test/cruise_ship#aida-ship-driving-cruise-ship-sea-51186.jpg',\n",
       "  'size': 345766,\n",
       "  'time': [1589294095.958878, 1589294096.0363066]},\n",
       " {'etag': '0637a6dec6b9ddeea956f72885a80156',\n",
       "  'file': 'framework/samples/datasets/cv/Boats/imgs/test/paper_boat#paper-boat-coloured-colored-2770974.jpg',\n",
       "  'size': 112204,\n",
       "  'time': [1589294096.036507, 1589294096.104831]},\n",
       " {'etag': 'b61844b50817ce86a96c1d4bad51e4c2',\n",
       "  'file': 'framework/samples/datasets/cv/Boats/imgs/test/gondola#venice-italy-gondola-outdoor-1602993.jpg',\n",
       "  'size': 412763,\n",
       "  'time': [1589294096.1049492, 1589294096.148171]},\n",
       " {'etag': '25e41b1f1c5d25a715f2d534223577c4',\n",
       "  'file': 'framework/samples/datasets/cv/underwater/train/image/004658.jpg',\n",
       "  'size': 17335,\n",
       "  'time': [1589294096.1485708, 1589294096.2396772]},\n",
       " {'etag': 'd23f376f72dca9a46986bc261826f088',\n",
       "  'file': 'framework/samples/datasets/cv/underwater/train/image/002442.jpg',\n",
       "  'size': 19180,\n",
       "  'time': [1589294096.2398405, 1589294096.3091598]},\n",
       " {'etag': '3606b8d9bfca1eba5bcd253017beaad4',\n",
       "  'file': 'framework/samples/datasets/cv/underwater/train/image/003302.jpg',\n",
       "  'size': 31687,\n",
       "  'time': [1589294096.3093224, 1589294096.3452463]},\n",
       " {'etag': '828543e56b4923856bd9cea68c2fa459',\n",
       "  'file': 'framework/samples/datasets/cv/underwater/train/image/003102.jpg',\n",
       "  'size': 20333,\n",
       "  'time': [1589294096.3454454, 1589294096.3826616]},\n",
       " {'etag': '48bb8bb211ef0631b1b78362db33a4a0',\n",
       "  'file': 'framework/samples/datasets/cv/underwater/train/image/001494.jpg',\n",
       "  'size': 49673,\n",
       "  'time': [1589294096.3828216, 1589294096.4465585]},\n",
       " {'etag': '105e5a1e19941c0500da38e51c177290',\n",
       "  'file': 'framework/samples/datasets/cv/underwater/train/image/000692.jpg',\n",
       "  'size': 677703,\n",
       "  'time': [1589294096.4467223, 1589294096.5302765]},\n",
       " {'etag': '387b807e10157b63a07a7f7d74eff3ed',\n",
       "  'file': 'framework/samples/datasets/cv/underwater/train/image/004682.jpg',\n",
       "  'size': 16961,\n",
       "  'time': [1589294096.5304704, 1589294096.566304]},\n",
       " {'etag': '70992d8f0a9e5b269c5b5b5d8cd4c0f3',\n",
       "  'file': 'framework/samples/datasets/cv/underwater/train/image/001010.jpg',\n",
       "  'size': 480681,\n",
       "  'time': [1589294096.566506, 1589294096.64597]},\n",
       " {'etag': '60392c9643d6236aeafa361e76e86850',\n",
       "  'file': 'framework/samples/datasets/cv/underwater/train/image/001669.jpg',\n",
       "  'size': 45947,\n",
       "  'time': [1589294096.6461256, 1589294096.7462385]},\n",
       " {'etag': '1d60ece7e71ce74137e98135570db7fc',\n",
       "  'file': 'framework/samples/datasets/cv/underwater/train/image/000232.jpg',\n",
       "  'size': 302877,\n",
       "  'time': [1589294096.746384, 1589294096.7907774]},\n",
       " {'etag': 'b3e0d300b74bee1d1401c9d55048d7a1',\n",
       "  'file': 'framework/samples/datasets/cv/mnist/labels_hist.png',\n",
       "  'size': 12508,\n",
       "  'time': [1589294096.7910528, 1589294096.8628976]},\n",
       " {'etag': '4fc3d606cf68656eb05529e9c680bcb3',\n",
       "  'file': 'framework/samples/datasets/cv/mnist/imgs/test/00023.jpg',\n",
       "  'size': 513,\n",
       "  'time': [1589294096.8632882, 1589294096.9151442]},\n",
       " {'etag': '54d7aa5bdca954b97d36b19d716d2a16',\n",
       "  'file': 'framework/samples/datasets/cv/mnist/imgs/test/00019.jpg',\n",
       "  'size': 565,\n",
       "  'time': [1589294096.9152863, 1589294096.980228]},\n",
       " {'etag': '784a21b213d792f9a765fcc118c7bf86',\n",
       "  'file': 'framework/samples/datasets/cv/mnist/imgs/test/00008.jpg',\n",
       "  'size': 532,\n",
       "  'time': [1589294096.9803932, 1589294097.0461786]},\n",
       " {'etag': 'c3e7493a28caea35210e4aff97e4206e',\n",
       "  'file': 'framework/samples/datasets/cv/mnist/imgs/test/00010.jpg',\n",
       "  'size': 585,\n",
       "  'time': [1589294097.046341, 1589294097.083101]},\n",
       " {'etag': 'a98e7e5aa957c6d4ca740b68693deab7',\n",
       "  'file': 'framework/samples/datasets/cv/mnist/imgs/test/00020.jpg',\n",
       "  'size': 555,\n",
       "  'time': [1589294097.0832336, 1589294097.1182792]},\n",
       " {'etag': '2a7320b3886be1a7ffbeebdfaa4e8c4d',\n",
       "  'file': 'framework/samples/datasets/cv/mnist/imgs/test/00007.jpg',\n",
       "  'size': 602,\n",
       "  'time': [1589294097.118438, 1589294097.1554668]},\n",
       " {'etag': '018df2bfc2715fd8731990ae6e804c81',\n",
       "  'file': 'framework/samples/datasets/cv/mnist/imgs/test/00000.jpg',\n",
       "  'size': 475,\n",
       "  'time': [1589294097.1556325, 1589294097.19021]},\n",
       " {'etag': '65e63b6aa45c879ed3b50c18810470bd',\n",
       "  'file': 'framework/samples/datasets/cv/mnist/imgs/test/00005.jpg',\n",
       "  'size': 564,\n",
       "  'time': [1589294097.1903348, 1589294097.2252185]},\n",
       " {'etag': '2873856370a85c5bee5fefcc059f8ddf',\n",
       "  'file': 'framework/samples/datasets/cv/mnist/imgs/test/00016.jpg',\n",
       "  'size': 558,\n",
       "  'time': [1589294097.225346, 1589294097.2886221]},\n",
       " {'etag': '81b9c0466107bee79c7ef1126fab8e2c',\n",
       "  'file': 'framework/samples/datasets/cv/mnist/imgs/test/00006.jpg',\n",
       "  'size': 554,\n",
       "  'time': [1589294097.2887495, 1589294097.3543978]},\n",
       " {'etag': 'ff277eb25ab97e063a95bdd1093ec4fd',\n",
       "  'file': 'framework/samples/datasets/cv/Chars74K/labels_hist.png',\n",
       "  'size': 13130,\n",
       "  'time': [1589294097.3546815, 1589294097.3978639]},\n",
       " {'etag': 'abb4489b19d5736c5969712eb867d00e',\n",
       "  'file': 'framework/samples/datasets/cv/Chars74K/imgs/test/img003-00012.png',\n",
       "  'size': 1018,\n",
       "  'time': [1589294097.39826, 1589294097.450305]},\n",
       " {'etag': '19506182e0636dfef085d66db9e3ee5d',\n",
       "  'file': 'framework/samples/datasets/cv/Chars74K/imgs/test/img006-00008.png',\n",
       "  'size': 13239,\n",
       "  'time': [1589294097.4505007, 1589294097.4855006]},\n",
       " {'etag': '8fc22dfb9c093b8f9ba31e5fb69e2226',\n",
       "  'file': 'framework/samples/datasets/cv/Chars74K/imgs/test/img009-00013.png',\n",
       "  'size': 3170,\n",
       "  'time': [1589294097.4856446, 1589294097.54819]},\n",
       " {'etag': '657f1532b157cdb0b56ba45d5baf5d22',\n",
       "  'file': 'framework/samples/datasets/cv/Chars74K/imgs/test/img007-00006.png',\n",
       "  'size': 2974,\n",
       "  'time': [1589294097.548342, 1589294097.5865726]},\n",
       " {'etag': '93f229749ca4d3bad029cfb14058e746',\n",
       "  'file': 'framework/samples/datasets/cv/Chars74K/imgs/test/img002-00004.png',\n",
       "  'size': 19225,\n",
       "  'time': [1589294097.5867436, 1589294097.6531706]},\n",
       " {'etag': '04c00c24ac3b3bfb0b3034cdb991fddd',\n",
       "  'file': 'framework/samples/datasets/cv/Chars74K/imgs/test/img021-00003.png',\n",
       "  'size': 5468,\n",
       "  'time': [1589294097.6533253, 1589294097.720581]},\n",
       " {'etag': 'ded1c18075d1605b1bb59b1497cabd46',\n",
       "  'file': 'framework/samples/datasets/cv/Chars74K/imgs/test/img008-00015.png',\n",
       "  'size': 2665,\n",
       "  'time': [1589294097.7207518, 1589294097.7884884]},\n",
       " {'etag': '604713bd2aab4ef02b337d847d24a5d0',\n",
       "  'file': 'framework/samples/datasets/cv/Chars74K/imgs/test/img005-00005.png',\n",
       "  'size': 2509,\n",
       "  'time': [1589294097.7886655, 1589294097.8247354]},\n",
       " {'etag': '86d3da5652a85a4ff061a3445c33d51e',\n",
       "  'file': 'framework/samples/datasets/cv/Chars74K/imgs/test/img001-00011.png',\n",
       "  'size': 2527,\n",
       "  'time': [1589294097.8249013, 1589294097.8887904]},\n",
       " {'etag': '9089c81e40ebd51063212efb4e669453',\n",
       "  'file': 'framework/samples/datasets/cv/Chars74K/imgs/test/img004-00012.png',\n",
       "  'size': 12695,\n",
       "  'time': [1589294097.8889608, 1589294097.9505956]},\n",
       " {'etag': '48e5abc7e8022b97a404c4e79be8c914',\n",
       "  'file': 'framework/samples/datasets/cv/cactus/labels_hist.png',\n",
       "  'size': 13410,\n",
       "  'time': [1589294097.9507983, 1589294097.993292]},\n",
       " {'etag': 'c89a052a64928194825f3f128c1fb002',\n",
       "  'file': 'framework/samples/datasets/cv/cactus/imgs/test/f6e47ae1cf5dee5aa6eba0750e60ae9d.jpg',\n",
       "  'size': 1031,\n",
       "  'time': [1589294097.9935396, 1589294098.0747478]},\n",
       " {'etag': '03bea1553360accf72c2b629ac189de7',\n",
       "  'file': 'framework/samples/datasets/cv/cactus/imgs/test/c2b254219f3395a193c6e62e6ac90480.jpg',\n",
       "  'size': 1053,\n",
       "  'time': [1589294098.0749035, 1589294098.1451159]},\n",
       " {'etag': 'ed9dc022d53207ecdbb213a74fce4937',\n",
       "  'file': 'framework/samples/datasets/cv/cactus/imgs/test/91f038f9eb49364dc33d8361998b0a99.jpg',\n",
       "  'size': 1090,\n",
       "  'time': [1589294098.1452253, 1589294098.209342]},\n",
       " {'etag': 'd84b7ce956fea494ec75eecf7df73b43',\n",
       "  'file': 'framework/samples/datasets/cv/cactus/imgs/test/a15b2ee6da1431a832faa8a68ad1f534.jpg',\n",
       "  'size': 1035,\n",
       "  'time': [1589294098.2095108, 1589294098.246236]},\n",
       " {'etag': '642977098aad359b0da2303b3d0ada76',\n",
       "  'file': 'framework/samples/datasets/cv/cactus/imgs/test/9fd67ed5251bf4a898978cc3ef1a0a33.jpg',\n",
       "  'size': 1182,\n",
       "  'time': [1589294098.2463667, 1589294098.313786]},\n",
       " {'etag': '5965443f20dd2261f199f9be427ea02e',\n",
       "  'file': 'framework/samples/datasets/cv/cactus/imgs/test/addf4749d3fe82907c39cd441cd59476.jpg',\n",
       "  'size': 971,\n",
       "  'time': [1589294098.3139348, 1589294098.379022]},\n",
       " {'etag': '90ae03a14a75fe889171d7d075482a8c',\n",
       "  'file': 'framework/samples/datasets/cv/cactus/imgs/test/9f9cacf3e65127e007b6223641c0962c.jpg',\n",
       "  'size': 1129,\n",
       "  'time': [1589294098.3791943, 1589294098.4912317]},\n",
       " {'etag': 'f1c0db780020f45c7672952c1629b79b',\n",
       "  'file': 'framework/samples/datasets/cv/cactus/imgs/test/1d0ece89b2213d2daa90d6806f3d07f7.jpg',\n",
       "  'size': 1019,\n",
       "  'time': [1589294098.4913907, 1589294098.5254645]},\n",
       " {'etag': '60f47ac93ef6806d98f0e6c99dbed87e',\n",
       "  'file': 'framework/samples/datasets/cv/cactus/imgs/test/ac0a71d4bdc6960af1b4739146d62b93.jpg',\n",
       "  'size': 991,\n",
       "  'time': [1589294098.5256174, 1589294098.592038]},\n",
       " {'etag': 'c3da1338b25b3c68966b5523f0918485',\n",
       "  'file': 'framework/samples/datasets/cv/cactus/imgs/test/503f3a8b5118471f247157924e3f31ec.jpg',\n",
       "  'size': 1128,\n",
       "  'time': [1589294098.5922203, 1589294098.6277514]},\n",
       " {'etag': '326c38267e75866e47530b17a5d149e1',\n",
       "  'file': 'framework/samples/datasets/cv/EMNIST_MNIST/labels_hist.png',\n",
       "  'size': 13167,\n",
       "  'time': [1589294098.6281922, 1589294098.6764872]},\n",
       " {'etag': '689d08c71cca12f4ff6a04fc6c0c1e5e',\n",
       "  'file': 'framework/samples/datasets/cv/EMNIST_MNIST/imgs/test/00011.jpg',\n",
       "  'size': 555,\n",
       "  'time': [1589294098.676886, 1589294098.7616863]},\n",
       " {'etag': '487c78f3516683801a4d922ec3d059e7',\n",
       "  'file': 'framework/samples/datasets/cv/EMNIST_MNIST/imgs/test/00003.jpg',\n",
       "  'size': 585,\n",
       "  'time': [1589294098.7618072, 1589294098.8277905]},\n",
       " {'etag': '0940cc1348594c8e4c4676639e71fb5a',\n",
       "  'file': 'framework/samples/datasets/cv/EMNIST_MNIST/imgs/test/00012.jpg',\n",
       "  'size': 542,\n",
       "  'time': [1589294098.8280785, 1589294098.8950164]},\n",
       " {'etag': '2d49906566d1b19a536a543f566bceff',\n",
       "  'file': 'framework/samples/datasets/cv/EMNIST_MNIST/imgs/test/00001.jpg',\n",
       "  'size': 527,\n",
       "  'time': [1589294098.895157, 1589294098.9333732]},\n",
       " {'etag': '70493840662de899e8da3d1292277e7f',\n",
       "  'file': 'framework/samples/datasets/cv/EMNIST_MNIST/imgs/test/00035.jpg',\n",
       "  'size': 586,\n",
       "  'time': [1589294098.9335148, 1589294098.969368]},\n",
       " {'etag': 'fade573d987b52f85be9c75ec1162ef1',\n",
       "  'file': 'framework/samples/datasets/cv/EMNIST_MNIST/imgs/test/00002.jpg',\n",
       "  'size': 573,\n",
       "  'time': [1589294098.9695175, 1589294099.0044806]},\n",
       " {'etag': '8eed0f779aae63cd3904a11f38b5950e',\n",
       "  'file': 'framework/samples/datasets/cv/EMNIST_MNIST/imgs/test/00028.jpg',\n",
       "  'size': 631,\n",
       "  'time': [1589294099.0046382, 1589294099.0671396]},\n",
       " {'etag': 'fd76b72e4bcbb4de1ddfa28c7cc21c1d',\n",
       "  'file': 'framework/samples/datasets/cv/EMNIST_MNIST/imgs/test/00000.jpg',\n",
       "  'size': 496,\n",
       "  'time': [1589294099.067294, 1589294099.1294136]},\n",
       " {'etag': 'c1aa388de385829b8dcddf3465127e9e',\n",
       "  'file': 'framework/samples/datasets/cv/EMNIST_MNIST/imgs/test/00005.jpg',\n",
       "  'size': 654,\n",
       "  'time': [1589294099.1296322, 1589294099.1688507]},\n",
       " {'etag': '6322769d431e16ae512cbf76fdefb5c4',\n",
       "  'file': 'framework/samples/datasets/cv/EMNIST_MNIST/imgs/test/00031.jpg',\n",
       "  'size': 552,\n",
       "  'time': [1589294099.169046, 1589294099.2061841]},\n",
       " {'etag': 'c51bb604099815b0958bc6cbc77489ee',\n",
       "  'file': 'framework/samples/datasets/cv/Dogs/labels_hist.png',\n",
       "  'size': 15103,\n",
       "  'time': [1589294099.206467, 1589294099.2508547]},\n",
       " {'etag': 'be9df7fc54f379ff06c9fa0f322f65ca',\n",
       "  'file': 'framework/samples/datasets/cv/Dogs/imgs/test/n02086240_11139.jpg',\n",
       "  'size': 28163,\n",
       "  'time': [1589294099.2512293, 1589294099.3051732]},\n",
       " {'etag': '9e222677fb9ccbbc718cbcbb8728d430',\n",
       "  'file': 'framework/samples/datasets/cv/Dogs/imgs/test/n02087046_1792.jpg',\n",
       "  'size': 63922,\n",
       "  'time': [1589294099.3053396, 1589294099.373691]},\n",
       " {'etag': '672d6848054cf8de020a70ab20dddb9f',\n",
       "  'file': 'framework/samples/datasets/cv/Dogs/imgs/test/n02085782_1521.jpg',\n",
       "  'size': 11091,\n",
       "  'time': [1589294099.3738077, 1589294099.4123895]},\n",
       " {'etag': '1bedd009202c4387726b3a266889e983',\n",
       "  'file': 'framework/samples/datasets/cv/Dogs/imgs/test/n02086646_1077.jpg',\n",
       "  'size': 3735,\n",
       "  'time': [1589294099.412498, 1589294099.4764001]},\n",
       " {'etag': 'f5fbc8e32a53e574bfdbc91fd4f21407',\n",
       "  'file': 'framework/samples/datasets/cv/Dogs/imgs/test/n02086079_13647.jpg',\n",
       "  'size': 38386,\n",
       "  'time': [1589294099.4765468, 1589294099.5210848]},\n",
       " {'etag': '58e03ec5c45f3271520e8ecc64fb7659',\n",
       "  'file': 'framework/samples/datasets/cv/Dogs/imgs/test/n02088094_1128.jpg',\n",
       "  'size': 37769,\n",
       "  'time': [1589294099.5212648, 1589294099.5598319]},\n",
       " {'etag': '23db02123afd8a1009a1587ab0e19508',\n",
       "  'file': 'framework/samples/datasets/cv/Dogs/imgs/test/n02086910_1659.jpg',\n",
       "  'size': 34892,\n",
       "  'time': [1589294099.5600674, 1589294099.597628]},\n",
       " {'etag': '92b318f04b629401cfa8500ee7107ccf',\n",
       "  'file': 'framework/samples/datasets/cv/Dogs/imgs/test/n02085620_10621.jpg',\n",
       "  'size': 12883,\n",
       "  'time': [1589294099.5978115, 1589294100.1017983]},\n",
       " {'etag': 'd3e42ebc7ee99852b8cb3c4ec609d2a9',\n",
       "  'file': 'framework/samples/datasets/cv/Dogs/imgs/test/n02087394_10588.jpg',\n",
       "  'size': 22653,\n",
       "  'time': [1589294100.1019228, 1589294100.1934977]},\n",
       " {'etag': '9006944e936e7e0960ccbbf605527184',\n",
       "  'file': 'framework/samples/datasets/cv/Dogs/imgs/test/n02085936_11653.jpg',\n",
       "  'size': 37987,\n",
       "  'time': [1589294100.1936169, 1589294100.2386732]},\n",
       " {'etag': '05844fa0698e03429c870f1adcd4d49a',\n",
       "  'file': 'framework/samples/datasets/cv/Animals/labels_hist.png',\n",
       "  'size': 13473,\n",
       "  'time': [1589294100.2389097, 1589294100.3174496]},\n",
       " {'etag': '074885dda2777b6a5a9cd598c6cf0659',\n",
       "  'file': 'framework/samples/datasets/cv/Animals/imgs/test/1_1.jpg',\n",
       "  'size': 81325,\n",
       "  'time': [1589294100.3177476, 1589294100.4014692]},\n",
       " {'etag': 'e1afec51169e0d7e8677037e14129418',\n",
       "  'file': 'framework/samples/datasets/cv/Animals/imgs/test/4402.jpg',\n",
       "  'size': 21905,\n",
       "  'time': [1589294100.4016232, 1589294100.467864]},\n",
       " {'etag': '911c618492bd129d400040a063c2b124',\n",
       "  'file': 'framework/samples/datasets/cv/Animals/imgs/test/5918.jpg',\n",
       "  'size': 31118,\n",
       "  'time': [1589294100.468087, 1589294100.5042946]},\n",
       " {'etag': 'f92222cd9c944df11f26ce8ed571a769',\n",
       "  'file': 'framework/samples/datasets/cv/Animals/imgs/test/4_15.jpg',\n",
       "  'size': 60199,\n",
       "  'time': [1589294100.504444, 1589294100.5712912]},\n",
       " {'etag': '4494bae21aa49e1fed60406abefe31dd',\n",
       "  'file': 'framework/samples/datasets/cv/Animals/imgs/test/2_13.jpg',\n",
       "  'size': 29743,\n",
       "  'time': [1589294100.5714374, 1589294100.6074188]},\n",
       " {'etag': '4239967f95983c94276da814b0d58d21',\n",
       "  'file': 'framework/samples/datasets/cv/Animals/imgs/test/3_14.jpg',\n",
       "  'size': 58380,\n",
       "  'time': [1589294100.6075447, 1589294100.6834319]},\n",
       " {'etag': 'f1f273480ed134a59ff3376743057210',\n",
       "  'file': 'framework/samples/datasets/cv/Animals/imgs/test/6205.jpg',\n",
       "  'size': 53149,\n",
       "  'time': [1589294100.6835814, 1589294100.720109]},\n",
       " {'etag': 'ec0cf963108571eb26b011358fc25832',\n",
       "  'file': 'framework/samples/datasets/cv/Animals/imgs/test/5604.jpg',\n",
       "  'size': 38906,\n",
       "  'time': [1589294100.7202501, 1589294100.784807]},\n",
       " {'etag': 'da3ddbf714befaa4558ba434500a9e5a',\n",
       "  'file': 'framework/samples/datasets/cv/Animals/imgs/test/4604.jpg',\n",
       "  'size': 28923,\n",
       "  'time': [1589294100.784919, 1589294100.8205252]},\n",
       " {'etag': '4c02d8cefa4064ceb199566f1a777188',\n",
       "  'file': 'framework/samples/datasets/cv/Animals/imgs/test/5302.jpg',\n",
       "  'size': 39090,\n",
       "  'time': [1589294100.8206403, 1589294100.8571017]},\n",
       " {'etag': 'f33373a21d19a911ca96400dc56ed0aa',\n",
       "  'file': 'framework/samples/datasets/cv/EMNIST_Balanced/labels_hist.png',\n",
       "  'size': 15563,\n",
       "  'time': [1589294100.8574016, 1589294100.8996153]},\n",
       " {'etag': 'ffe379622e93597e77074c010fd1a64e',\n",
       "  'file': 'framework/samples/datasets/cv/EMNIST_Balanced/imgs/test/00303.jpg',\n",
       "  'size': 589,\n",
       "  'time': [1589294100.9000256, 1589294100.9528062]},\n",
       " {'etag': '0781f0ebdfc2940a686bcd60dc584ce5',\n",
       "  'file': 'framework/samples/datasets/cv/EMNIST_Balanced/imgs/test/00302.jpg',\n",
       "  'size': 583,\n",
       "  'time': [1589294100.9529424, 1589294101.037106]},\n",
       " {'etag': '4d6edcacfaf02ec2fc578a8f8d99f6d3',\n",
       "  'file': 'framework/samples/datasets/cv/EMNIST_Balanced/imgs/test/00045.jpg',\n",
       "  'size': 599,\n",
       "  'time': [1589294101.037212, 1589294101.0738704]},\n",
       " {'etag': 'f6a14b3e94fe63aeacc061f2b9e34503',\n",
       "  'file': 'framework/samples/datasets/cv/EMNIST_Balanced/imgs/test/00171.jpg',\n",
       "  'size': 548,\n",
       "  'time': [1589294101.0740159, 1589294101.1161757]},\n",
       " {'etag': '19bdbceab12dd08ee9721469e102e580',\n",
       "  'file': 'framework/samples/datasets/cv/EMNIST_Balanced/imgs/test/00452.jpg',\n",
       "  'size': 632,\n",
       "  'time': [1589294101.11633, 1589294101.1962862]},\n",
       " {'etag': '026a65e73a2b19c5e61e3a5204634efe',\n",
       "  'file': 'framework/samples/datasets/cv/EMNIST_Balanced/imgs/test/00154.jpg',\n",
       "  'size': 575,\n",
       "  'time': [1589294101.19645, 1589294101.2370975]},\n",
       " {'etag': '10623fc8ab14faa5d3670cccd73e2e82',\n",
       "  'file': 'framework/samples/datasets/cv/EMNIST_Balanced/imgs/test/00039.jpg',\n",
       "  'size': 513,\n",
       "  'time': [1589294101.2373102, 1589294101.3027656]},\n",
       " {'etag': '31aca9402a2ef87473c824deae3f84c0',\n",
       "  'file': 'framework/samples/datasets/cv/EMNIST_Balanced/imgs/test/00044.jpg',\n",
       "  'size': 559,\n",
       "  'time': [1589294101.302992, 1589294101.377084]},\n",
       " {'etag': 'af0a4ca202c0f243cf3614a7fda8b926',\n",
       "  'file': 'framework/samples/datasets/cv/EMNIST_Balanced/imgs/test/00305.jpg',\n",
       "  'size': 633,\n",
       "  'time': [1589294101.3772597, 1589294101.412357]},\n",
       " {'etag': 'f427ad0e36ed84089df3bda8fbd23474',\n",
       "  'file': 'framework/samples/datasets/cv/EMNIST_Balanced/imgs/test/00204.jpg',\n",
       "  'size': 544,\n",
       "  'time': [1589294101.4125144, 1589294101.5169961]}]"
      ]
     },
     "execution_count": 28,
     "metadata": {},
     "output_type": "execute_result"
    }
   ],
   "source": [
    "from k12libs.k12ai.k12ai_utils import k12ai_object_put\n",
    "\n",
    "# mc.make_bucket('k12ai')\n",
    "\n",
    "# k12ai_object_put(mc, '/data/samples/datasets.tar.gz')\n",
    "# k12ai_object_put(mc, '/data/samples')\n",
    "k12ai_object_put(mc, '/data/samples', prefix_map=['/data/', 'framework/'])"
   ]
  },
  {
   "cell_type": "code",
   "execution_count": 26,
   "metadata": {
    "ExecuteTime": {
     "end_time": "2020-05-12T14:34:29.663157Z",
     "start_time": "2020-05-12T14:34:29.598304Z"
    },
    "scrolled": true
   },
   "outputs": [],
   "source": [
    "from k12libs.k12ai.k12ai_utils import k12ai_object_get\n",
    "\n",
    "k12ai_object_get(mc, 'framework/samples/', prefix_map=['framework', '/data/tmp'])"
   ]
  },
  {
   "cell_type": "code",
   "execution_count": 27,
   "metadata": {
    "ExecuteTime": {
     "end_time": "2020-05-12T14:34:34.037272Z",
     "start_time": "2020-05-12T14:34:33.928031Z"
    }
   },
   "outputs": [],
   "source": [
    "from k12libs.k12ai.k12ai_utils import k12ai_object_remove\n",
    "k12ai_object_remove(mc, 'framework/samples')"
   ]
  }
 ],
 "metadata": {
  "kernelspec": {
   "display_name": "Python 3",
   "language": "python",
   "name": "python3"
  },
  "language_info": {
   "codemirror_mode": {
    "name": "ipython",
    "version": 3
   },
   "file_extension": ".py",
   "mimetype": "text/x-python",
   "name": "python",
   "nbconvert_exporter": "python",
   "pygments_lexer": "ipython3",
   "version": "3.6.9"
  }
 },
 "nbformat": 4,
 "nbformat_minor": 4
}
