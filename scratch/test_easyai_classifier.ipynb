{
 "cells": [
  {
   "cell_type": "code",
   "execution_count": 1,
   "metadata": {
    "ExecuteTime": {
     "end_time": "2020-07-23T07:57:27.211342Z",
     "start_time": "2020-07-23T07:57:25.151867Z"
    }
   },
   "outputs": [
    {
     "name": "stdout",
     "output_type": "stream",
     "text": [
      "CPython 3.6.9\n",
      "IPython 7.16.1\n",
      "\n",
      "numpy 1.18.5\n",
      "pandas 1.0.4\n",
      "matplotlib 3.2.1\n",
      "sklearn 0.23.1\n",
      "torch 1.6.0.dev20200609+cu101\n",
      "torchvision 0.7.0.dev20200609+cu101\n",
      "pytorch_lightning 0.8.5\n"
     ]
    }
   ],
   "source": [
    "%reload_ext watermark\n",
    "%reload_ext autoreload\n",
    "%autoreload 2\n",
    "%matplotlib inline\n",
    "%watermark -v -p numpy,pandas,matplotlib,sklearn,torch,torchvision,pytorch_lightning"
   ]
  },
  {
   "cell_type": "code",
   "execution_count": 2,
   "metadata": {
    "ExecuteTime": {
     "end_time": "2020-07-23T07:57:27.270729Z",
     "start_time": "2020-07-23T07:57:27.215575Z"
    }
   },
   "outputs": [],
   "source": [
    "import warnings\n",
    "\n",
    "import json\n",
    "import os\n",
    "from collections import OrderedDict\n",
    "import numpy as np\n",
    "import pandas as pd\n",
    "import torch\n",
    "import torchvision\n",
    "from PIL import Image\n",
    "\n",
    "import torch.nn.functional as F\n",
    "from torch.optim import SGD, Adam\n",
    "from torch.nn import NLLLoss, MSELoss, CrossEntropyLoss\n",
    "from torch.nn import Module, Conv2d, Dropout2d, Linear\n",
    "from torch.optim.lr_scheduler import ExponentialLR, StepLR\n",
    "from torch.utils.data import (Dataset, DataLoader)\n",
    "from torchvision import transforms\n",
    "\n",
    "\n",
    "warnings.filterwarnings('ignore')"
   ]
  },
  {
   "cell_type": "code",
   "execution_count": 3,
   "metadata": {
    "ExecuteTime": {
     "end_time": "2020-07-23T07:57:27.668210Z",
     "start_time": "2020-07-23T07:57:27.274833Z"
    }
   },
   "outputs": [],
   "source": [
    "from k12libs.utils.nb_easy import (EasyaiClassifier, EasyaiTrainer)"
   ]
  },
  {
   "cell_type": "markdown",
   "metadata": {},
   "source": [
    "---------------------------------------"
   ]
  },
  {
   "cell_type": "markdown",
   "metadata": {},
   "source": [
    "## 简单实例\n",
    "\n",
    "该实例没有实际意义, 默认配置的是 resnet18网络, 使用rmnist数据集"
   ]
  },
  {
   "cell_type": "code",
   "execution_count": null,
   "metadata": {
    "ExecuteTime": {
     "start_time": "2020-07-23T07:57:25.009Z"
    }
   },
   "outputs": [
    {
     "name": "stderr",
     "output_type": "stream",
     "text": [
      "GPU available: True, used: True\n",
      "TPU available: False, using: 0 TPU cores\n",
      "CUDA_VISIBLE_DEVICES: [0]\n",
      "\n",
      "  | Name  | Type   | Params\n",
      "---------------------------------\n",
      "0 | model | ResNet | 11 M  \n"
     ]
    },
    {
     "data": {
      "application/vnd.jupyter.widget-view+json": {
       "model_id": "",
       "version_major": 2,
       "version_minor": 0
      },
      "text/plain": [
       "HBox(children=(FloatProgress(value=1.0, bar_style='info', description='Validation sanity check', layout=Layout…"
      ]
     },
     "metadata": {},
     "output_type": "display_data"
    },
    {
     "data": {
      "application/vnd.jupyter.widget-view+json": {
       "model_id": "9aaf623cc876422b9c93326e3bb4bbba",
       "version_major": 2,
       "version_minor": 0
      },
      "text/plain": [
       "HBox(children=(FloatProgress(value=1.0, bar_style='info', description='Training', layout=Layout(flex='2'), max…"
      ]
     },
     "metadata": {},
     "output_type": "display_data"
    },
    {
     "data": {
      "application/vnd.jupyter.widget-view+json": {
       "model_id": "",
       "version_major": 2,
       "version_minor": 0
      },
      "text/plain": [
       "HBox(children=(FloatProgress(value=1.0, bar_style='info', description='Validating', layout=Layout(flex='2'), m…"
      ]
     },
     "metadata": {},
     "output_type": "display_data"
    }
   ],
   "source": [
    "trainer = EasyaiTrainer(max_epochs=2)\n",
    "trainer.fit(EasyaiClassifier())\n",
    "trainer.test()"
   ]
  },
  {
   "cell_type": "markdown",
   "metadata": {},
   "source": [
    "## 自定义: 修改默认预置模型和预置数据集\n",
    "\n",
    "继承EasyaiClassifier, 实现prepare_data和build_model."
   ]
  },
  {
   "cell_type": "code",
   "execution_count": null,
   "metadata": {
    "ExecuteTime": {
     "start_time": "2020-07-23T07:57:25.067Z"
    }
   },
   "outputs": [],
   "source": [
    "class CustomClassifier(EasyaiClassifier):\n",
    "    # 修改: 使用预置的'rchestxray'数据集\n",
    "    def prepare_dataset(self):\n",
    "        # 返回dict: {'train': Dataset, 'val': Dataset, 'test': Dataset}\n",
    "        return self.load_presetting_dataset_('chestxray')\n",
    "    \n",
    "    # 修改: 使用预置的'shufflenetv2'模型\n",
    "    def build_model(self):\n",
    "        return self.load_pretrained_model_('shufflenet_v2_x0_5', num_classes=2)"
   ]
  },
  {
   "cell_type": "code",
   "execution_count": null,
   "metadata": {
    "ExecuteTime": {
     "start_time": "2020-07-23T07:57:25.069Z"
    },
    "scrolled": false
   },
   "outputs": [],
   "source": [
    "trainer = EasyaiTrainer(max_epochs=10)\n",
    "# 训练\n",
    "trainer.fit(CustomClassifier())\n",
    "# 评估\n",
    "trainer.test()"
   ]
  },
  {
   "cell_type": "markdown",
   "metadata": {},
   "source": [
    "## 自定义: 构建用户模型, 加载用户数据集\n",
    "\n",
    "继承EasyaiClassifier, 实现build_model(不适用预置模型)和prepare_data(自定义数据集解析处理)"
   ]
  },
  {
   "cell_type": "code",
   "execution_count": null,
   "metadata": {
    "ExecuteTime": {
     "start_time": "2020-07-23T07:57:25.118Z"
    }
   },
   "outputs": [],
   "source": [
    "class CustomClassifier(EasyaiClassifier):\n",
    "    \n",
    "    # 预处理数据集\n",
    "    def prepare_dataset(self):\n",
    "        # 使用json文件描述数据集的情况\n",
    "        class JsonfileDataset(Dataset):\n",
    "            def __init__(self, root, phase, info):\n",
    "                self.root = root\n",
    "                self.info = info\n",
    "                image_list = []\n",
    "                label_list = []\n",
    "                with open(os.path.join(self.root, f'{phase}.json')) as f:\n",
    "                    items = json.load(f)\n",
    "                    for item in items:\n",
    "                        image_list.append(os.path.join(self.root, item['image_path']))\n",
    "                        label_list.append(item['label'])\n",
    "                self.image_list, self.label_list = image_list, label_list\n",
    "                \n",
    "                self.augtrans = None\n",
    "                self.imgtrans = transforms.Compose([\n",
    "                    transforms.ToTensor(),\n",
    "                    transforms.Normalize(mean=info['mean'], std=info['std'])\n",
    "                ])\n",
    "                \n",
    "            # 实现data_augment方法\n",
    "            def data_augment(self, augtrans):\n",
    "                self.augtrans = transforms.Compose(augtrans)\n",
    "                \n",
    "            def __getitem__(self, index):\n",
    "                img = Image.open(self.image_list[index]).convert('RGB')\n",
    "                if self.augtrans:\n",
    "                    img = self.augtrans(img)\n",
    "                img = self.imgtrans(img)\n",
    "                return img, self.label_list[index]\n",
    "            def __len__(self):\n",
    "                return len(self.image_list)\n",
    "\n",
    "        # 数据集存放目录\n",
    "        dataroot = os.path.join('/data/datasets/cv/', 'rmnist')\n",
    "        with open(os.path.join(dataroot, 'info.json')) as f:\n",
    "            info = json.load(f)\n",
    "            \n",
    "        return {\n",
    "            'train': JsonfileDataset(dataroot, 'train', info),\n",
    "            'val': JsonfileDataset(dataroot, 'val', info),\n",
    "            'test': JsonfileDataset(dataroot, 'test', info),\n",
    "        }\n",
    "    \n",
    "    # 构建模型\n",
    "    def build_model(self):\n",
    "        class CustomNet(Module):\n",
    "            def __init__(self):\n",
    "                super(CustomNet, self).__init__()\n",
    "                self.conv1 = Conv2d(3, 32, 3, 1)  # 卷积层, 图片特征提取\n",
    "                self.conv2 = Conv2d(32, 64, 3, 1)\n",
    "                self.dropout1 = Dropout2d(0.25)   # Dropout正则化, 减少模型过拟合\n",
    "                self.fc1 = Linear(9216, 128)\n",
    "                self.dropout2 = Dropout2d(0.5)\n",
    "                self.fc2 = Linear(128, 10)        # 全连接层, 图片线性变换\n",
    "            def forward(self, x):\n",
    "                x = self.conv1(x)\n",
    "                x = F.relu(x)\n",
    "                x = self.conv2(x)\n",
    "                x = F.relu(x)\n",
    "                x = F.max_pool2d(x, 2)\n",
    "                x = self.dropout1(x)\n",
    "                x = torch.flatten(x, 1)\n",
    "                x = self.fc1(x)\n",
    "                x = F.relu(x)\n",
    "                x = self.dropout2(x)\n",
    "                x = self.fc2(x)\n",
    "                # x = F.log_softmax(x, dim=1)\n",
    "                return x\n",
    "        return CustomNet()"
   ]
  },
  {
   "cell_type": "code",
   "execution_count": null,
   "metadata": {
    "ExecuteTime": {
     "start_time": "2020-07-23T07:57:25.120Z"
    }
   },
   "outputs": [],
   "source": [
    "trainer = EasyaiTrainer(max_epochs=10)\n",
    "# 训练\n",
    "trainer.fit(CustomClassifier())\n",
    "# 评估\n",
    "trainer.test()"
   ]
  },
  {
   "cell_type": "markdown",
   "metadata": {},
   "source": [
    "## 自定义: 用户自定义loss, optimize, schedule\n",
    "\n",
    "继承EasyaiClassifier, 实现configure_criterion, configure_optimizer, configure_scheduler"
   ]
  },
  {
   "cell_type": "code",
   "execution_count": null,
   "metadata": {
    "ExecuteTime": {
     "start_time": "2020-07-23T07:57:25.167Z"
    }
   },
   "outputs": [],
   "source": [
    "class CustomClassifier2(EasyaiClassifier):\n",
    "    # 配置损失函数: CrossEntropyLoss(交叉熵损失)\n",
    "    def configure_criterion(self):\n",
    "        loss = CrossEntropyLoss(\n",
    "            reduction='mean' # 约简方式: 张量各个维度上的元素的平均值\n",
    "        )\n",
    "        return loss\n",
    "    \n",
    "    # 配置优化方法: 随机梯度下降(SGD)\n",
    "    def configure_optimizer(self):\n",
    "        # self.model是在build_model构造的, 如果build_model没定义, 使用默认的构造的预置模型\n",
    "        optimizer = SGD(\n",
    "            filter(lambda p: p.requires_grad, self.model.parameters()),\n",
    "            lr=0.01,           # 基础学习率\n",
    "            weight_decay=1e-6, # 权重衰减, 使得模型参数值更小, 有效防止过拟合\n",
    "            momentum=0.9,      # 动量因子, 更快局部收敛\n",
    "            nesterov=True      # 使用Nesterov动量, 加快收敛速度\n",
    "        )\n",
    "        return optimizer\n",
    "    \n",
    "    # 配置学习率策略: 固定步长衰减(StepLR)\n",
    "    def configure_scheduler(self, optimizer):\n",
    "        # optmizer是在configure_optimizer配置的\n",
    "        scheduler = StepLR(\n",
    "            optimizer,   # 优化器\n",
    "            step_size=2, # 每间隔2次epoch进行一次LR调整\n",
    "            gamma=0.6    # LR调整为原来0.6倍\n",
    "        )\n",
    "        return scheduler"
   ]
  },
  {
   "cell_type": "code",
   "execution_count": null,
   "metadata": {
    "ExecuteTime": {
     "start_time": "2020-07-23T07:57:25.169Z"
    }
   },
   "outputs": [
    {
     "data": {
      "application/vnd.jupyter.widget-view+json": {
       "model_id": "",
       "version_major": 2,
       "version_minor": 0
      },
      "text/plain": [
       "HBox(children=(FloatProgress(value=1.0, bar_style='info', description='Validating', layout=Layout(flex='2'), m…"
      ]
     },
     "metadata": {},
     "output_type": "display_data"
    },
    {
     "data": {
      "application/vnd.jupyter.widget-view+json": {
       "model_id": "",
       "version_major": 2,
       "version_minor": 0
      },
      "text/plain": [
       "HBox(children=(FloatProgress(value=1.0, bar_style='info', description='Validating', layout=Layout(flex='2'), m…"
      ]
     },
     "metadata": {},
     "output_type": "display_data"
    }
   ],
   "source": [
    "trainer = EasyaiTrainer(max_epochs=10)\n",
    "# 训练\n",
    "trainer.fit(CustomClassifier2())\n",
    "# 评估\n",
    "trainer.test()"
   ]
  },
  {
   "cell_type": "markdown",
   "metadata": {},
   "source": [
    "## 自定义: 数据增强\n",
    "\n",
    "继承EasyaiClassifier, 实现train_dataloader, val_dataloader, test_dataloader"
   ]
  },
  {
   "cell_type": "code",
   "execution_count": null,
   "metadata": {
    "ExecuteTime": {
     "start_time": "2020-07-23T07:57:25.218Z"
    }
   },
   "outputs": [],
   "source": [
    "class CustomClassifier3(EasyaiClassifier):\n",
    "    # 训练时进行数据增强\n",
    "    def train_dataloader(self) -> DataLoader:\n",
    "        # self.datasets是在prepare_data方法中生成, 如果没有自定义prepare_data, 使用默认预置数据集\n",
    "        dataset = self.datasets['train']\n",
    "        dataset.data_augment([\n",
    "            transforms.Resize((64, 64)),      # 改变图片的大小\n",
    "            transforms.RandomHorizontalFlip() # 让图片进行水平翻转                    \n",
    "        ])\n",
    "        return DataLoader(\n",
    "            dataset,\n",
    "            batch_size=64,    # 每次输入模型的图片个数(批量大小)\n",
    "            drop_last=False,  # 最后一次的图片数量不等于设置的batch_size是否丢弃\n",
    "            num_workers=2,    # 启动多个进程加载数据集, 不可设置过大\n",
    "            shuffle=True,     # 送入模型的图片是否进行随机打散\n",
    "        )\n",
    "    \n",
    "    # 校验时进行数据增强 (同train_dataloader)\n",
    "    def val_dataloader(self) -> DataLoader:\n",
    "        dataset = self.datasets['val']\n",
    "        dataset.data_augment([\n",
    "            transforms.Resize((64, 64)),\n",
    "        ])\n",
    "        return DataLoader(dataset, batch_size=64)\n",
    "    \n",
    "    # 评估时不进行数据增强\n",
    "    def test_dataloader(self) -> DataLoader:\n",
    "        dataset = self.datasets['test']\n",
    "        return DataLoader(dataset, batch_size=64)"
   ]
  },
  {
   "cell_type": "code",
   "execution_count": null,
   "metadata": {
    "ExecuteTime": {
     "start_time": "2020-07-23T07:57:25.220Z"
    }
   },
   "outputs": [],
   "source": [
    "trainer = EasyaiTrainer(max_epochs=10)\n",
    "# 训练\n",
    "trainer.fit(CustomClassifier3())\n",
    "# 评估\n",
    "trainer.test()"
   ]
  }
 ],
 "metadata": {
  "kernelspec": {
   "display_name": "Python 3",
   "language": "python",
   "name": "python3"
  },
  "language_info": {
   "codemirror_mode": {
    "name": "ipython",
    "version": 3
   },
   "file_extension": ".py",
   "mimetype": "text/x-python",
   "name": "python",
   "nbconvert_exporter": "python",
   "pygments_lexer": "ipython3",
   "version": "3.6.9"
  },
  "toc": {
   "base_numbering": 1,
   "nav_menu": {},
   "number_sections": true,
   "sideBar": true,
   "skip_h1_title": true,
   "title_cell": "",
   "title_sidebar": "Contents",
   "toc_cell": false,
   "toc_position": {
    "height": "calc(100% - 180px)",
    "left": "10px",
    "top": "150px",
    "width": "307.2px"
   },
   "toc_section_display": true,
   "toc_window_display": false
  }
 },
 "nbformat": 4,
 "nbformat_minor": 4
}
