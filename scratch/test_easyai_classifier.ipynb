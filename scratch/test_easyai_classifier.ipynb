{
 "cells": [
  {
   "cell_type": "code",
   "execution_count": 1,
   "metadata": {
    "ExecuteTime": {
     "end_time": "2020-07-28T15:28:00.043942Z",
     "start_time": "2020-07-28T15:27:57.541775Z"
    }
   },
   "outputs": [
    {
     "name": "stdout",
     "output_type": "stream",
     "text": [
      "CPython 3.6.9\n",
      "IPython 7.16.1\n",
      "\n",
      "numpy 1.18.5\n",
      "pandas 1.0.4\n",
      "matplotlib 3.2.1\n",
      "sklearn 0.23.1\n",
      "torch 1.6.0.dev20200609+cu101\n",
      "torchvision 0.7.0.dev20200609+cu101\n",
      "pytorch_lightning 0.8.5\n"
     ]
    }
   ],
   "source": [
    "%reload_ext watermark\n",
    "%reload_ext autoreload\n",
    "%autoreload 2\n",
    "%matplotlib inline\n",
    "%watermark -v -p numpy,pandas,matplotlib,sklearn,torch,torchvision,pytorch_lightning"
   ]
  },
  {
   "cell_type": "code",
   "execution_count": 19,
   "metadata": {
    "ExecuteTime": {
     "end_time": "2020-07-28T15:44:06.286872Z",
     "start_time": "2020-07-28T15:44:06.227384Z"
    }
   },
   "outputs": [],
   "source": [
    "import warnings\n",
    "\n",
    "import json\n",
    "import os\n",
    "from collections import OrderedDict\n",
    "import numpy as np\n",
    "import pandas as pd\n",
    "import torch\n",
    "import torchvision\n",
    "from PIL import Image\n",
    "\n",
    "import torch.nn.functional as F\n",
    "from torch.optim import SGD, Adam\n",
    "from torch.nn import NLLLoss, MSELoss, CrossEntropyLoss\n",
    "from torch.nn import Module, Conv2d, Dropout2d, Linear\n",
    "from torch.optim.lr_scheduler import ExponentialLR, StepLR, MultiStepLR, ReduceLROnPlateau\n",
    "from torch.utils.data import (Dataset, DataLoader)\n",
    "from torchvision import transforms\n",
    "\n",
    "\n",
    "warnings.filterwarnings('ignore')\n",
    "\n",
    "from k12libs.utils.nb_easy import (EasyaiClassifier, EasyaiTrainer)"
   ]
  },
  {
   "cell_type": "markdown",
   "metadata": {},
   "source": [
    "---------------------------------------"
   ]
  },
  {
   "cell_type": "markdown",
   "metadata": {},
   "source": [
    "## 简单实例\n",
    "\n",
    "该实例没有实际意义, 默认配置的是 resnet18网络, 使用rmnist数据集"
   ]
  },
  {
   "cell_type": "code",
   "execution_count": 3,
   "metadata": {
    "ExecuteTime": {
     "end_time": "2020-07-28T15:17:37.067863Z",
     "start_time": "2020-07-28T15:17:12.196241Z"
    }
   },
   "outputs": [
    {
     "name": "stderr",
     "output_type": "stream",
     "text": [
      "GPU available: True, used: True\n",
      "TPU available: False, using: 0 TPU cores\n",
      "CUDA_VISIBLE_DEVICES: [0]\n",
      "\n",
      "  | Name  | Type   | Params\n",
      "---------------------------------\n",
      "0 | model | ResNet | 11 M  \n"
     ]
    },
    {
     "data": {
      "application/vnd.jupyter.widget-view+json": {
       "model_id": "",
       "version_major": 2,
       "version_minor": 0
      },
      "text/plain": [
       "HBox(children=(FloatProgress(value=1.0, bar_style='info', description='Validation sanity check', layout=Layout…"
      ]
     },
     "metadata": {},
     "output_type": "display_data"
    },
    {
     "data": {
      "application/vnd.jupyter.widget-view+json": {
       "model_id": "cb2f9ec6f4da4f4783e9cf1cd3f03ede",
       "version_major": 2,
       "version_minor": 0
      },
      "text/plain": [
       "HBox(children=(FloatProgress(value=1.0, bar_style='info', description='Training', layout=Layout(flex='2'), max…"
      ]
     },
     "metadata": {},
     "output_type": "display_data"
    },
    {
     "data": {
      "application/vnd.jupyter.widget-view+json": {
       "model_id": "",
       "version_major": 2,
       "version_minor": 0
      },
      "text/plain": [
       "HBox(children=(FloatProgress(value=1.0, bar_style='info', description='Validating', layout=Layout(flex='2'), m…"
      ]
     },
     "metadata": {},
     "output_type": "display_data"
    },
    {
     "data": {
      "application/vnd.jupyter.widget-view+json": {
       "model_id": "",
       "version_major": 2,
       "version_minor": 0
      },
      "text/plain": [
       "HBox(children=(FloatProgress(value=1.0, bar_style='info', description='Validating', layout=Layout(flex='2'), m…"
      ]
     },
     "metadata": {},
     "output_type": "display_data"
    },
    {
     "name": "stdout",
     "output_type": "stream",
     "text": [
      "\n"
     ]
    },
    {
     "data": {
      "application/vnd.jupyter.widget-view+json": {
       "model_id": "058fb7eb270a4101975549ecdea8166e",
       "version_major": 2,
       "version_minor": 0
      },
      "text/plain": [
       "HBox(children=(FloatProgress(value=1.0, bar_style='info', description='Testing', layout=Layout(flex='2'), max=…"
      ]
     },
     "metadata": {},
     "output_type": "display_data"
    },
    {
     "name": "stdout",
     "output_type": "stream",
     "text": [
      "--------------------------------------------------------------------------------\n",
      "TEST RESULTS\n",
      "{'test_acc': tensor(0.9236, device='cuda:0'),\n",
      " 'test_loss': tensor(0.2514, device='cuda:0')}\n",
      "--------------------------------------------------------------------------------\n",
      "\n"
     ]
    },
    {
     "data": {
      "text/plain": [
       "{'test_loss': 0.2513880133628845, 'test_acc': 0.9236111640930176}"
      ]
     },
     "execution_count": 3,
     "metadata": {},
     "output_type": "execute_result"
    }
   ],
   "source": [
    "trainer = EasyaiTrainer(max_epochs=2)\n",
    "trainer.fit(EasyaiClassifier())\n",
    "trainer.test()"
   ]
  },
  {
   "cell_type": "markdown",
   "metadata": {},
   "source": [
    "## 自定义: 修改默认预置模型和预置数据集\n",
    "\n",
    "继承EasyaiClassifier, 实现prepare_data和build_model."
   ]
  },
  {
   "cell_type": "code",
   "execution_count": 18,
   "metadata": {
    "ExecuteTime": {
     "end_time": "2020-07-28T14:57:38.314533Z",
     "start_time": "2020-07-28T14:57:38.156205Z"
    }
   },
   "outputs": [],
   "source": [
    "# class CustomClassifier(EasyaiClassifier):\n",
    "#     # 修改: 使用预置的'rchestxray'数据集\n",
    "#     def prepare_dataset(self):\n",
    "#         # 返回dict: {'train': Dataset, 'val': Dataset, 'test': Dataset}\n",
    "#         return self.load_presetting_dataset_('chestxray')\n",
    "#     \n",
    "#     # 修改: 使用预置的'shufflenetv2'模型\n",
    "#     def build_model(self):\n",
    "#         return self.load_pretrained_model_('shufflenet_v2_x0_5', num_classes=2)"
   ]
  },
  {
   "cell_type": "code",
   "execution_count": null,
   "metadata": {
    "ExecuteTime": {
     "end_time": "2020-07-28T11:44:25.670530Z",
     "start_time": "2020-07-28T11:44:22.540Z"
    },
    "scrolled": false
   },
   "outputs": [],
   "source": [
    "# trainer = EasyaiTrainer(max_epochs=10)\n",
    "# # 训练\n",
    "# trainer.fit(CustomClassifier())\n",
    "# # 评估\n",
    "# trainer.test()"
   ]
  },
  {
   "cell_type": "markdown",
   "metadata": {},
   "source": [
    "## 自定义: 构建用户模型, 加载用户数据集\n",
    "\n",
    "继承EasyaiClassifier, 实现build_model(不适用预置模型)和prepare_data(自定义数据集解析处理)"
   ]
  },
  {
   "cell_type": "code",
   "execution_count": 17,
   "metadata": {
    "ExecuteTime": {
     "end_time": "2020-07-28T14:57:28.383000Z",
     "start_time": "2020-07-28T14:57:28.209172Z"
    }
   },
   "outputs": [],
   "source": [
    "# class CustomClassifier(EasyaiClassifier):\n",
    "#     \n",
    "#     # 预处理数据集\n",
    "#     def prepare_dataset(self):\n",
    "#         # 使用json文件描述数据集的情况\n",
    "#         class JsonfileDataset(Dataset):\n",
    "#             def __init__(self, root, phase, info):\n",
    "#                 self.root = root\n",
    "#                 self.info = info\n",
    "#                 image_list = []\n",
    "#                 label_list = []\n",
    "#                 with open(os.path.join(self.root, f'{phase}.json')) as f:\n",
    "#                     items = json.load(f)\n",
    "#                     for item in items:\n",
    "#                         image_list.append(os.path.join(self.root, item['image_path']))\n",
    "#                         label_list.append(item['label'])\n",
    "#                 self.image_list, self.label_list = image_list, label_list\n",
    "#                 \n",
    "#                 self.augtrans = None\n",
    "#                 self.imgtrans = transforms.Compose([\n",
    "#                     transforms.ToTensor(),\n",
    "#                     transforms.Normalize(mean=info['mean'], std=info['std'])\n",
    "#                 ])\n",
    "#                 \n",
    "#             # 实现data_augment方法\n",
    "#             def data_augment(self, augtrans):\n",
    "#                 self.augtrans = transforms.Compose(augtrans)\n",
    "#                 \n",
    "#             def __getitem__(self, index):\n",
    "#                 img = Image.open(self.image_list[index]).convert('RGB')\n",
    "#                 if self.augtrans:\n",
    "#                     img = self.augtrans(img)\n",
    "#                 img = self.imgtrans(img)\n",
    "#                 return img, self.label_list[index]\n",
    "#             def __len__(self):\n",
    "#                 return len(self.image_list)\n",
    "# \n",
    "#         # 数据集存放目录\n",
    "#         dataroot = os.path.join('/data/datasets/cv/', 'rmnist')\n",
    "#         with open(os.path.join(dataroot, 'info.json')) as f:\n",
    "#             info = json.load(f)\n",
    "#             \n",
    "#         return {\n",
    "#             'train': JsonfileDataset(dataroot, 'train', info),\n",
    "#             'val': JsonfileDataset(dataroot, 'val', info),\n",
    "#             'test': JsonfileDataset(dataroot, 'test', info),\n",
    "#         }\n",
    "#     \n",
    "#     # 构建模型\n",
    "#     def build_model(self):\n",
    "#         class CustomNet(Module):\n",
    "#             def __init__(self):\n",
    "#                 super(CustomNet, self).__init__()\n",
    "#                 self.conv1 = Conv2d(3, 32, 3, 1)  # 卷积层, 图片特征提取\n",
    "#                 self.conv2 = Conv2d(32, 64, 3, 1)\n",
    "#                 self.dropout1 = Dropout2d(0.25)   # Dropout正则化, 减少模型过拟合\n",
    "#                 self.fc1 = Linear(9216, 128)\n",
    "#                 self.dropout2 = Dropout2d(0.5)\n",
    "#                 self.fc2 = Linear(128, 10)        # 全连接层, 图片线性变换\n",
    "#             def forward(self, x):\n",
    "#                 x = self.conv1(x)\n",
    "#                 x = F.relu(x)\n",
    "#                 x = self.conv2(x)\n",
    "#                 x = F.relu(x)\n",
    "#                 x = F.max_pool2d(x, 2)\n",
    "#                 x = self.dropout1(x)\n",
    "#                 x = torch.flatten(x, 1)\n",
    "#                 x = self.fc1(x)\n",
    "#                 x = F.relu(x)\n",
    "#                 x = self.dropout2(x)\n",
    "#                 x = self.fc2(x)\n",
    "#                 # x = F.log_softmax(x, dim=1)\n",
    "#                 return x\n",
    "#         return CustomNet()"
   ]
  },
  {
   "cell_type": "code",
   "execution_count": null,
   "metadata": {
    "ExecuteTime": {
     "end_time": "2020-07-28T11:44:25.672763Z",
     "start_time": "2020-07-28T11:44:22.545Z"
    }
   },
   "outputs": [],
   "source": [
    "# trainer = EasyaiTrainer(max_epochs=10)\n",
    "# # 训练\n",
    "# trainer.fit(CustomClassifier())\n",
    "# # 评估\n",
    "# trainer.test()"
   ]
  },
  {
   "cell_type": "markdown",
   "metadata": {},
   "source": [
    "## 自定义: 用户自定义loss, optimize, schedule\n",
    "\n",
    "继承EasyaiClassifier, 实现configure_criterion, configure_optimizer, configure_scheduler"
   ]
  },
  {
   "cell_type": "code",
   "execution_count": null,
   "metadata": {
    "ExecuteTime": {
     "end_time": "2020-07-28T11:44:25.673901Z",
     "start_time": "2020-07-28T11:44:22.547Z"
    }
   },
   "outputs": [],
   "source": [
    "# class CustomClassifier(EasyaiClassifier):\n",
    "#    # 配置损失函数: CrossEntropyLoss(交叉熵损失)\n",
    "#    def configure_criterion(self):\n",
    "#        loss = CrossEntropyLoss(\n",
    "#            reduction='mean' # 约简方式: 张量各个维度上的元素的平均值\n",
    "#        )\n",
    "#        return loss\n",
    "#    \n",
    "#    # 配置优化方法: 随机梯度下降(SGD)\n",
    "#    def configure_optimizer(self):\n",
    "#        # self.model是在build_model构造的, 如果build_model没定义, 使用默认的构造的预置模型\n",
    "#        optimizer = SGD(\n",
    "#            filter(lambda p: p.requires_grad, self.model.parameters()),\n",
    "#            lr=0.01,           # 基础学习率\n",
    "#            weight_decay=1e-6, # 权重衰减, 使得模型参数值更小, 有效防止过拟合\n",
    "#            momentum=0.9,      # 动量因子, 更快局部收敛\n",
    "#            nesterov=True      # 使用Nesterov动量, 加快收敛速度\n",
    "#        )\n",
    "#        return optimizer\n",
    "#    \n",
    "#    # 配置学习率策略: 固定步长衰减(StepLR)\n",
    "#    def configure_scheduler(self, optimizer):\n",
    "#        # optmizer是在configure_optimizer配置的\n",
    "#        scheduler = StepLR(\n",
    "#            optimizer,   # 优化器\n",
    "#            step_size=2, # 每间隔2次epoch进行一次LR调整\n",
    "#            gamma=0.6    # LR调整为原来0.6倍\n",
    "#        )\n",
    "#        return scheduler"
   ]
  },
  {
   "cell_type": "code",
   "execution_count": 16,
   "metadata": {
    "ExecuteTime": {
     "end_time": "2020-07-28T14:57:20.851778Z",
     "start_time": "2020-07-28T14:57:20.667522Z"
    }
   },
   "outputs": [],
   "source": [
    "# trainer = EasyaiTrainer(max_epochs=10)\n",
    "# # 训练\n",
    "# trainer.fit(CustomClassifier())\n",
    "# # 评估\n",
    "# trainer.test()"
   ]
  },
  {
   "cell_type": "markdown",
   "metadata": {},
   "source": [
    "## 自定义: 数据增强\n",
    "\n",
    "继承EasyaiClassifier, 实现train_dataloader, val_dataloader, test_dataloader"
   ]
  },
  {
   "cell_type": "code",
   "execution_count": null,
   "metadata": {
    "ExecuteTime": {
     "end_time": "2020-07-28T11:44:25.676373Z",
     "start_time": "2020-07-28T11:44:22.551Z"
    }
   },
   "outputs": [],
   "source": [
    "# class CustomClassifier(EasyaiClassifier):\n",
    "#     # 训练时进行数据增强\n",
    "#     def train_dataloader(self) -> DataLoader:\n",
    "#         # self.datasets是在prepare_data方法中生成, 如果没有自定义prepare_data, 使用默认预置数据集\n",
    "#         dataset = self.datasets['train']\n",
    "#         dataset.data_augment([\n",
    "#             transforms.Resize((64, 64)),      # 改变图片的大小\n",
    "#             transforms.RandomHorizontalFlip() # 让图片进行水平翻转                    \n",
    "#         ])\n",
    "#         return DataLoader(\n",
    "#             dataset,\n",
    "#             batch_size=64,    # 每次输入模型的图片个数(批量大小)\n",
    "#             drop_last=False,  # 最后一次的图片数量不等于设置的batch_size是否丢弃\n",
    "#             num_workers=2,    # 启动多个进程加载数据集, 不可设置过大\n",
    "#             shuffle=True,     # 送入模型的图片是否进行随机打散\n",
    "#         )\n",
    "#     \n",
    "#     # 校验时进行数据增强 (同train_dataloader)\n",
    "#     def val_dataloader(self) -> DataLoader:\n",
    "#         dataset = self.datasets['val']\n",
    "#         dataset.data_augment([\n",
    "#             transforms.Resize((64, 64)),\n",
    "#         ])\n",
    "#         return DataLoader(dataset, batch_size=64)\n",
    "#     \n",
    "#     # 评估时不进行数据增强\n",
    "#     def test_dataloader(self) -> DataLoader:\n",
    "#         dataset = self.datasets['test']\n",
    "#         return DataLoader(dataset, batch_size=64)"
   ]
  },
  {
   "cell_type": "code",
   "execution_count": null,
   "metadata": {
    "ExecuteTime": {
     "end_time": "2020-07-28T13:31:13.507408Z",
     "start_time": "2020-07-28T13:31:13.481463Z"
    }
   },
   "outputs": [],
   "source": [
    "trainer = EasyaiTrainer(max_epochs=10)\n",
    "# 训练\n",
    "trainer.fit(CustomClassifier())\n",
    "# 评估\n",
    "trainer.test()"
   ]
  },
  {
   "cell_type": "markdown",
   "metadata": {},
   "source": [
    "----------------------------------------"
   ]
  },
  {
   "cell_type": "markdown",
   "metadata": {},
   "source": [
    "## 接口"
   ]
  },
  {
   "cell_type": "code",
   "execution_count": 14,
   "metadata": {
    "ExecuteTime": {
     "end_time": "2020-07-28T14:54:33.032028Z",
     "start_time": "2020-07-28T14:54:32.840881Z"
    }
   },
   "outputs": [],
   "source": [
    "class CustomClassifier(EasyaiClassifier):\n",
    "\n",
    "    ##########################################################################\n",
    "    ####### Data ######\n",
    "    ##########################################################################\n",
    "    def load_presetting_dataset_(self, dataset_name):\n",
    "        \"\"\"\n",
    "        加载平台预置的数据集\n",
    "        Args:\n",
    "            dataset_name: 数据集的名字, 如: rmnist, flowers等\n",
    "        \n",
    "        Return:\n",
    "            以下几种方式任意一种:\n",
    "            1. EasyaiDataset实例, 表明只进行训练(只返回了训练数据集实例)\n",
    "            2. EasyaiDataset实例列表, 当列表长度为2时, 说明还要进行训练的校验, 当列表长度为3时, 说明还要进行测试评估.\n",
    "            3. EasyaiDataset实例字典, 如: {'train': EasyaiDataset, 'val': EasyaiDataset, 'test':EasyaiDataset}\n",
    "        \"\"\"\n",
    "        pass\n",
    "    \n",
    "    def prepare_dataset(self):\n",
    "        \"\"\"\n",
    "        准备数据集, 从磁盘上加载数据集, 不同数据集的描述格式可能不一样, 一般有json/xml/csv等描述格式,\n",
    "        也可能直接是图片目录, 所有这些格式的处理可以在这个接口完成.\n",
    "            \n",
    "        Return:\n",
    "            同prepare_dataset\n",
    "        \"\"\"\n",
    "        pass\n",
    "    \n",
    "    ##########################################################################\n",
    "    ####### Model ######\n",
    "    ##########################################################################\n",
    "    def load_pretrained_model_(self, model_name, num_classes, pretrained):\n",
    "        \"\"\"\n",
    "        加载平台预置的模型\n",
    "        Args:\n",
    "            model_name: 模型的名字\n",
    "            num_classes: 分类个数(数据集labels的数目), 预置的模型默认是1000, 所以需要提供真实的分类个数进行处理\n",
    "            pretrained: 是否加载预置权重\n",
    "            \n",
    "        Return:\n",
    "            Module: 模型实例\n",
    "        \"\"\"\n",
    "        pass\n",
    "    \n",
    "    def build_model(self):\n",
    "        \"\"\"\n",
    "        构建模型, 可以自定义模型, 也可以调用load_pretrained_model_使用平台预置的模型\n",
    "        \n",
    "        Return:\n",
    "            同load_pretrained_model_\n",
    "        \"\"\"\n",
    "        pass\n",
    "    \n",
    "    \n",
    "    ##########################################################################\n",
    "    ####### Hypes Parameters ######\n",
    "    ##########################################################################\n",
    "    def configure_criterion(self):\n",
    "        \"\"\"\n",
    "        配置损失函数\n",
    "        \n",
    "        Return:\n",
    "            loss\n",
    "        \"\"\"\n",
    "        pass\n",
    "    \n",
    "    def configure_optimizer(self):\n",
    "        \"\"\"\n",
    "        配置优化器\n",
    "        \n",
    "        Return:\n",
    "            optimizer\n",
    "        \"\"\"\n",
    "        pass\n",
    "\n",
    "    def configure_scheduler(self, optimizer):\n",
    "        \"\"\"\n",
    "        配置学习率衰减策略\n",
    "        \n",
    "        Args:\n",
    "            optimizer: 优化器(通过configure_optimizer配置得到的)\n",
    "        \n",
    "        Return:\n",
    "            scheduler\n",
    "        \"\"\"\n",
    "        pass\n",
    "    \n",
    "    def loss(self):\n",
    "        \"\"\"\n",
    "        返回configure_criterion配置的损失实例\n",
    "        \"\"\"\n",
    "        pass\n",
    "\n",
    "    \n",
    "    ##########################################################################\n",
    "    ####### Trainer: Train ######\n",
    "    ##########################################################################\n",
    "    def train_dataloader(self):\n",
    "        \"\"\"\n",
    "        训练数据集批量控制加载器, 可以设置批量的大小, 是否对数据进行洗牌(shuffle)等\n",
    "        \n",
    "        Return:\n",
    "            loader\n",
    "        \"\"\"\n",
    "        pass\n",
    "    \n",
    "    def training_step(self, batch, batch_idx):\n",
    "        \"\"\"\n",
    "        训练过程中, 迭代一次batch数据, 就会触发一次training_step的调用,训练,统计metrics\n",
    "        \n",
    "        Args:\n",
    "            batch: 一个batch的数据内容, 一般包括图片(image), 图片标签(labels), 图片路径(path).\n",
    "                具体batch中内容受prepare_dataset接口的实现会有所不同\n",
    "            batch_idx: 批量迭代次数, 该数值一直累加, 不受下一次epoch的影响\n",
    "            \n",
    "        Return:\n",
    "            metrics: 必须包含loss关键字, log(日志模块)和progress_bar(进度条显示)是可选的\n",
    "        \"\"\"\n",
    "        pass\n",
    "    \n",
    "    def training_epoch_end(self, outputs):\n",
    "        \"\"\"\n",
    "        训练过程中, 每完整的遍历完一次(epoch)数据集,则触发一次training_epoch_end的调用, 汇总metrics\n",
    "        \n",
    "        Args:\n",
    "            outputs: 所有metrics(training_step每次产生的数据的集合)\n",
    "        \n",
    "        Return:\n",
    "            metrics: 同training_step, 可以对metrics做平均处理\n",
    "        \"\"\"\n",
    "        pass\n",
    "\n",
    "    ##########################################################################\n",
    "    ####### Trainer: validation ######\n",
    "    ##########################################################################\n",
    "    def val_dataloader(self):\n",
    "        \"\"\"\n",
    "        同train_dataloader\n",
    "        \"\"\"\n",
    "        pass\n",
    "    \n",
    "    def validation_step(self, batch, batch_idx):\n",
    "        \"\"\"\n",
    "        同train_step\n",
    "        \"\"\"\n",
    "        pass\n",
    "        \n",
    "    def validation_epoch_end(self, outputs):\n",
    "        \"\"\"\n",
    "        同train_epoch_end\n",
    "        \"\"\"\n",
    "        pass\n",
    "    \n",
    "    ##########################################################################\n",
    "    ####### Trainer: test ######\n",
    "    ##########################################################################\n",
    "    def test_dataloader(self):\n",
    "        \"\"\"\n",
    "        同train_dataloader\n",
    "        \"\"\"\n",
    "        pass\n",
    "\n",
    "    def test_step(self, batch, batch_idx):\n",
    "        \"\"\"\n",
    "        同train_step\n",
    "        \"\"\"\n",
    "        pass\n",
    "        \n",
    "    def test_epoch_end(self, outputs):\n",
    "        \"\"\"\n",
    "        同train_epoch_end\n",
    "        \"\"\"\n",
    "        pass"
   ]
  },
  {
   "cell_type": "markdown",
   "metadata": {},
   "source": [
    "## 实例: 预置数据集和预置模型"
   ]
  },
  {
   "cell_type": "code",
   "execution_count": 15,
   "metadata": {
    "ExecuteTime": {
     "end_time": "2020-07-28T15:35:44.182844Z",
     "start_time": "2020-07-28T15:34:41.417368Z"
    }
   },
   "outputs": [
    {
     "name": "stderr",
     "output_type": "stream",
     "text": [
      "GPU available: True, used: True\n",
      "TPU available: False, using: 0 TPU cores\n",
      "CUDA_VISIBLE_DEVICES: [0]\n",
      "\n",
      "  | Name  | Type     | Params\n",
      "-----------------------------------\n",
      "0 | model | DenseNet | 18 M  \n"
     ]
    },
    {
     "data": {
      "application/vnd.jupyter.widget-view+json": {
       "model_id": "",
       "version_major": 2,
       "version_minor": 0
      },
      "text/plain": [
       "HBox(children=(FloatProgress(value=1.0, bar_style='info', description='Validation sanity check', layout=Layout…"
      ]
     },
     "metadata": {},
     "output_type": "display_data"
    },
    {
     "data": {
      "application/vnd.jupyter.widget-view+json": {
       "model_id": "9820dd763935457fbbe12d6b504ce64c",
       "version_major": 2,
       "version_minor": 0
      },
      "text/plain": [
       "HBox(children=(FloatProgress(value=1.0, bar_style='info', description='Training', layout=Layout(flex='2'), max…"
      ]
     },
     "metadata": {},
     "output_type": "display_data"
    },
    {
     "data": {
      "application/vnd.jupyter.widget-view+json": {
       "model_id": "",
       "version_major": 2,
       "version_minor": 0
      },
      "text/plain": [
       "HBox(children=(FloatProgress(value=1.0, bar_style='info', description='Validating', layout=Layout(flex='2'), m…"
      ]
     },
     "metadata": {},
     "output_type": "display_data"
    },
    {
     "data": {
      "application/vnd.jupyter.widget-view+json": {
       "model_id": "",
       "version_major": 2,
       "version_minor": 0
      },
      "text/plain": [
       "HBox(children=(FloatProgress(value=1.0, bar_style='info', description='Validating', layout=Layout(flex='2'), m…"
      ]
     },
     "metadata": {},
     "output_type": "display_data"
    },
    {
     "data": {
      "application/vnd.jupyter.widget-view+json": {
       "model_id": "",
       "version_major": 2,
       "version_minor": 0
      },
      "text/plain": [
       "HBox(children=(FloatProgress(value=1.0, bar_style='info', description='Validating', layout=Layout(flex='2'), m…"
      ]
     },
     "metadata": {},
     "output_type": "display_data"
    },
    {
     "data": {
      "application/vnd.jupyter.widget-view+json": {
       "model_id": "",
       "version_major": 2,
       "version_minor": 0
      },
      "text/plain": [
       "HBox(children=(FloatProgress(value=1.0, bar_style='info', description='Validating', layout=Layout(flex='2'), m…"
      ]
     },
     "metadata": {},
     "output_type": "display_data"
    },
    {
     "data": {
      "application/vnd.jupyter.widget-view+json": {
       "model_id": "",
       "version_major": 2,
       "version_minor": 0
      },
      "text/plain": [
       "HBox(children=(FloatProgress(value=1.0, bar_style='info', description='Validating', layout=Layout(flex='2'), m…"
      ]
     },
     "metadata": {},
     "output_type": "display_data"
    },
    {
     "data": {
      "application/vnd.jupyter.widget-view+json": {
       "model_id": "",
       "version_major": 2,
       "version_minor": 0
      },
      "text/plain": [
       "HBox(children=(FloatProgress(value=1.0, bar_style='info', description='Validating', layout=Layout(flex='2'), m…"
      ]
     },
     "metadata": {},
     "output_type": "display_data"
    },
    {
     "data": {
      "application/vnd.jupyter.widget-view+json": {
       "model_id": "",
       "version_major": 2,
       "version_minor": 0
      },
      "text/plain": [
       "HBox(children=(FloatProgress(value=1.0, bar_style='info', description='Validating', layout=Layout(flex='2'), m…"
      ]
     },
     "metadata": {},
     "output_type": "display_data"
    },
    {
     "data": {
      "application/vnd.jupyter.widget-view+json": {
       "model_id": "",
       "version_major": 2,
       "version_minor": 0
      },
      "text/plain": [
       "HBox(children=(FloatProgress(value=1.0, bar_style='info', description='Validating', layout=Layout(flex='2'), m…"
      ]
     },
     "metadata": {},
     "output_type": "display_data"
    },
    {
     "data": {
      "application/vnd.jupyter.widget-view+json": {
       "model_id": "",
       "version_major": 2,
       "version_minor": 0
      },
      "text/plain": [
       "HBox(children=(FloatProgress(value=1.0, bar_style='info', description='Validating', layout=Layout(flex='2'), m…"
      ]
     },
     "metadata": {},
     "output_type": "display_data"
    },
    {
     "data": {
      "application/vnd.jupyter.widget-view+json": {
       "model_id": "",
       "version_major": 2,
       "version_minor": 0
      },
      "text/plain": [
       "HBox(children=(FloatProgress(value=1.0, bar_style='info', description='Validating', layout=Layout(flex='2'), m…"
      ]
     },
     "metadata": {},
     "output_type": "display_data"
    },
    {
     "name": "stdout",
     "output_type": "stream",
     "text": [
      "\n"
     ]
    },
    {
     "data": {
      "text/plain": [
       "1"
      ]
     },
     "execution_count": 15,
     "metadata": {},
     "output_type": "execute_result"
    }
   ],
   "source": [
    "class CustomClassifier(EasyaiClassifier):\n",
    "    def prepare_dataset(self):\n",
    "        \"\"\"\n",
    "        加载预设数据集:chestxray (胸部xray判断新冠)\n",
    "        \"\"\"\n",
    "        return self.load_presetting_dataset_(dataset_name='chestxray')\n",
    "\n",
    "    def build_model(self):\n",
    "        \"\"\"\n",
    "        加载预置模型: densenet201\n",
    "        \"\"\"\n",
    "        return self.load_pretrained_model_(model_name='densenet201', num_classes=2, pretrained=True)\n",
    "\n",
    "trainer = EasyaiTrainer(max_epochs=10)\n",
    "trainer.fit(CustomClassifier())"
   ]
  },
  {
   "cell_type": "markdown",
   "metadata": {},
   "source": [
    "## 实例: 修改损失函数, 优化器, LR策略"
   ]
  },
  {
   "cell_type": "code",
   "execution_count": 24,
   "metadata": {
    "ExecuteTime": {
     "end_time": "2020-07-28T15:59:53.734802Z",
     "start_time": "2020-07-28T15:58:30.159295Z"
    }
   },
   "outputs": [
    {
     "name": "stderr",
     "output_type": "stream",
     "text": [
      "GPU available: True, used: True\n",
      "TPU available: False, using: 0 TPU cores\n",
      "CUDA_VISIBLE_DEVICES: [0]\n",
      "\n",
      "  | Name  | Type   | Params\n",
      "---------------------------------\n",
      "0 | model | ResNet | 11 M  \n"
     ]
    },
    {
     "data": {
      "application/vnd.jupyter.widget-view+json": {
       "model_id": "",
       "version_major": 2,
       "version_minor": 0
      },
      "text/plain": [
       "HBox(children=(FloatProgress(value=1.0, bar_style='info', description='Validation sanity check', layout=Layout…"
      ]
     },
     "metadata": {},
     "output_type": "display_data"
    },
    {
     "data": {
      "application/vnd.jupyter.widget-view+json": {
       "model_id": "c892b3cbbb124c6d93576ad921d4c939",
       "version_major": 2,
       "version_minor": 0
      },
      "text/plain": [
       "HBox(children=(FloatProgress(value=1.0, bar_style='info', description='Training', layout=Layout(flex='2'), max…"
      ]
     },
     "metadata": {},
     "output_type": "display_data"
    },
    {
     "data": {
      "application/vnd.jupyter.widget-view+json": {
       "model_id": "",
       "version_major": 2,
       "version_minor": 0
      },
      "text/plain": [
       "HBox(children=(FloatProgress(value=1.0, bar_style='info', description='Validating', layout=Layout(flex='2'), m…"
      ]
     },
     "metadata": {},
     "output_type": "display_data"
    },
    {
     "data": {
      "application/vnd.jupyter.widget-view+json": {
       "model_id": "",
       "version_major": 2,
       "version_minor": 0
      },
      "text/plain": [
       "HBox(children=(FloatProgress(value=1.0, bar_style='info', description='Validating', layout=Layout(flex='2'), m…"
      ]
     },
     "metadata": {},
     "output_type": "display_data"
    },
    {
     "data": {
      "application/vnd.jupyter.widget-view+json": {
       "model_id": "",
       "version_major": 2,
       "version_minor": 0
      },
      "text/plain": [
       "HBox(children=(FloatProgress(value=1.0, bar_style='info', description='Validating', layout=Layout(flex='2'), m…"
      ]
     },
     "metadata": {},
     "output_type": "display_data"
    },
    {
     "data": {
      "application/vnd.jupyter.widget-view+json": {
       "model_id": "",
       "version_major": 2,
       "version_minor": 0
      },
      "text/plain": [
       "HBox(children=(FloatProgress(value=1.0, bar_style='info', description='Validating', layout=Layout(flex='2'), m…"
      ]
     },
     "metadata": {},
     "output_type": "display_data"
    },
    {
     "data": {
      "application/vnd.jupyter.widget-view+json": {
       "model_id": "",
       "version_major": 2,
       "version_minor": 0
      },
      "text/plain": [
       "HBox(children=(FloatProgress(value=1.0, bar_style='info', description='Validating', layout=Layout(flex='2'), m…"
      ]
     },
     "metadata": {},
     "output_type": "display_data"
    },
    {
     "data": {
      "application/vnd.jupyter.widget-view+json": {
       "model_id": "",
       "version_major": 2,
       "version_minor": 0
      },
      "text/plain": [
       "HBox(children=(FloatProgress(value=1.0, bar_style='info', description='Validating', layout=Layout(flex='2'), m…"
      ]
     },
     "metadata": {},
     "output_type": "display_data"
    },
    {
     "data": {
      "application/vnd.jupyter.widget-view+json": {
       "model_id": "",
       "version_major": 2,
       "version_minor": 0
      },
      "text/plain": [
       "HBox(children=(FloatProgress(value=1.0, bar_style='info', description='Validating', layout=Layout(flex='2'), m…"
      ]
     },
     "metadata": {},
     "output_type": "display_data"
    },
    {
     "data": {
      "application/vnd.jupyter.widget-view+json": {
       "model_id": "",
       "version_major": 2,
       "version_minor": 0
      },
      "text/plain": [
       "HBox(children=(FloatProgress(value=1.0, bar_style='info', description='Validating', layout=Layout(flex='2'), m…"
      ]
     },
     "metadata": {},
     "output_type": "display_data"
    },
    {
     "data": {
      "application/vnd.jupyter.widget-view+json": {
       "model_id": "",
       "version_major": 2,
       "version_minor": 0
      },
      "text/plain": [
       "HBox(children=(FloatProgress(value=1.0, bar_style='info', description='Validating', layout=Layout(flex='2'), m…"
      ]
     },
     "metadata": {},
     "output_type": "display_data"
    },
    {
     "data": {
      "application/vnd.jupyter.widget-view+json": {
       "model_id": "",
       "version_major": 2,
       "version_minor": 0
      },
      "text/plain": [
       "HBox(children=(FloatProgress(value=1.0, bar_style='info', description='Validating', layout=Layout(flex='2'), m…"
      ]
     },
     "metadata": {},
     "output_type": "display_data"
    },
    {
     "name": "stdout",
     "output_type": "stream",
     "text": [
      "\n"
     ]
    },
    {
     "data": {
      "text/plain": [
       "1"
      ]
     },
     "execution_count": 24,
     "metadata": {},
     "output_type": "execute_result"
    }
   ],
   "source": [
    "class CustomClassifier(EasyaiClassifier):\n",
    "    # 配置损失函数: CrossEntropyLoss(交叉熵损失)\n",
    "    def configure_criterion(self):\n",
    "        loss = CrossEntropyLoss(\n",
    "            reduction='mean' # 约简方式: 张量各个维度上的元素的平均值\n",
    "        )\n",
    "        return loss\n",
    "   \n",
    "    # 配置优化方法: 随机梯度下降(SGD)\n",
    "    def configure_optimizer(self):\n",
    "        # self.model是在build_model构造的, 如果build_model没定义, 使用默认的构造的预置模型\n",
    "        optimizer = SGD(\n",
    "            filter(lambda p: p.requires_grad, self.model.parameters()),\n",
    "            lr=0.01,           # 基础学习率\n",
    "            weight_decay=1e-6, # 权重衰减, 使得模型参数值更小, 有效防止过拟合\n",
    "            momentum=0.9,      # 动量因子, 更快局部收敛\n",
    "            nesterov=True      # 使用Nesterov动量, 加快收敛速度\n",
    "        )\n",
    "        return optimizer\n",
    "    \n",
    "    # 配置学习率策略: \n",
    "    def configure_scheduler(self, optimizer):\n",
    "        # optmizer是在configure_optimizer配置的\n",
    "        \n",
    "        # policy-1: 指数衰减\n",
    "        # scheduler = ExponentialLR(optimizer, gamma=0.5)\n",
    "        \n",
    "        # policy-2: 指标不在变化时, 调整学习率\n",
    "        # scheduler = ReduceLROnPlateau(\n",
    "        #     optimizer,   # 优化器\n",
    "        #     mode='min',  # 指定指标不再下降\n",
    "        #     factor=0.1,  # 衰减因子\n",
    "        #     patience=6,  # 容忍多少次(指标不改变)\n",
    "        #     eps=1e-6,    # 学习率衰减到的最小值eps时,学习率不再改变\n",
    "        # )\n",
    "        \n",
    "        # policy-3: 固定步长衰减\n",
    "        scheduler = StepLR(\n",
    "            optimizer,   # 优化器\n",
    "            step_size=2, # 每间隔2次epoch进行一次LR调整\n",
    "            gamma=0.6    # LR调整为原来0.6倍\n",
    "        )\n",
    "        \n",
    "        # policy-4: 不定步长衰减\n",
    "        # scheduler = MultiStepLR(\n",
    "        #     optimizer,        # 优化器\n",
    "        #     milestones=[3, 7],# 分阶段(epoch)调整,到达指定的epoch时, 学习率调整为原来的gamma倍\n",
    "        #     gamma=0.1         # LR调整为原来0.1倍\n",
    "        # )\n",
    "        return scheduler\n",
    "    \n",
    "trainer = EasyaiTrainer(max_epochs=10)\n",
    "trainer.fit(CustomClassifier())"
   ]
  },
  {
   "cell_type": "markdown",
   "metadata": {},
   "source": [
    "## 实例: 修改训练过程及训练Metrics"
   ]
  },
  {
   "cell_type": "code",
   "execution_count": 26,
   "metadata": {
    "ExecuteTime": {
     "end_time": "2020-07-28T16:27:41.780343Z",
     "start_time": "2020-07-28T16:26:29.426025Z"
    }
   },
   "outputs": [
    {
     "name": "stderr",
     "output_type": "stream",
     "text": [
      "GPU available: True, used: True\n",
      "TPU available: False, using: 0 TPU cores\n",
      "CUDA_VISIBLE_DEVICES: [0]\n",
      "\n",
      "  | Name  | Type   | Params\n",
      "---------------------------------\n",
      "0 | model | ResNet | 11 M  \n"
     ]
    },
    {
     "data": {
      "application/vnd.jupyter.widget-view+json": {
       "model_id": "",
       "version_major": 2,
       "version_minor": 0
      },
      "text/plain": [
       "HBox(children=(FloatProgress(value=1.0, bar_style='info', description='Validation sanity check', layout=Layout…"
      ]
     },
     "metadata": {},
     "output_type": "display_data"
    },
    {
     "data": {
      "application/vnd.jupyter.widget-view+json": {
       "model_id": "c93cc8f4f0e140f597fec9b96ea56c78",
       "version_major": 2,
       "version_minor": 0
      },
      "text/plain": [
       "HBox(children=(FloatProgress(value=1.0, bar_style='info', description='Training', layout=Layout(flex='2'), max…"
      ]
     },
     "metadata": {},
     "output_type": "display_data"
    },
    {
     "data": {
      "application/vnd.jupyter.widget-view+json": {
       "model_id": "",
       "version_major": 2,
       "version_minor": 0
      },
      "text/plain": [
       "HBox(children=(FloatProgress(value=1.0, bar_style='info', description='Validating', layout=Layout(flex='2'), m…"
      ]
     },
     "metadata": {},
     "output_type": "display_data"
    },
    {
     "data": {
      "application/vnd.jupyter.widget-view+json": {
       "model_id": "",
       "version_major": 2,
       "version_minor": 0
      },
      "text/plain": [
       "HBox(children=(FloatProgress(value=1.0, bar_style='info', description='Validating', layout=Layout(flex='2'), m…"
      ]
     },
     "metadata": {},
     "output_type": "display_data"
    },
    {
     "data": {
      "application/vnd.jupyter.widget-view+json": {
       "model_id": "",
       "version_major": 2,
       "version_minor": 0
      },
      "text/plain": [
       "HBox(children=(FloatProgress(value=1.0, bar_style='info', description='Validating', layout=Layout(flex='2'), m…"
      ]
     },
     "metadata": {},
     "output_type": "display_data"
    },
    {
     "data": {
      "application/vnd.jupyter.widget-view+json": {
       "model_id": "",
       "version_major": 2,
       "version_minor": 0
      },
      "text/plain": [
       "HBox(children=(FloatProgress(value=1.0, bar_style='info', description='Validating', layout=Layout(flex='2'), m…"
      ]
     },
     "metadata": {},
     "output_type": "display_data"
    },
    {
     "data": {
      "application/vnd.jupyter.widget-view+json": {
       "model_id": "",
       "version_major": 2,
       "version_minor": 0
      },
      "text/plain": [
       "HBox(children=(FloatProgress(value=1.0, bar_style='info', description='Validating', layout=Layout(flex='2'), m…"
      ]
     },
     "metadata": {},
     "output_type": "display_data"
    },
    {
     "data": {
      "application/vnd.jupyter.widget-view+json": {
       "model_id": "",
       "version_major": 2,
       "version_minor": 0
      },
      "text/plain": [
       "HBox(children=(FloatProgress(value=1.0, bar_style='info', description='Validating', layout=Layout(flex='2'), m…"
      ]
     },
     "metadata": {},
     "output_type": "display_data"
    },
    {
     "data": {
      "application/vnd.jupyter.widget-view+json": {
       "model_id": "",
       "version_major": 2,
       "version_minor": 0
      },
      "text/plain": [
       "HBox(children=(FloatProgress(value=1.0, bar_style='info', description='Validating', layout=Layout(flex='2'), m…"
      ]
     },
     "metadata": {},
     "output_type": "display_data"
    },
    {
     "data": {
      "application/vnd.jupyter.widget-view+json": {
       "model_id": "",
       "version_major": 2,
       "version_minor": 0
      },
      "text/plain": [
       "HBox(children=(FloatProgress(value=1.0, bar_style='info', description='Validating', layout=Layout(flex='2'), m…"
      ]
     },
     "metadata": {},
     "output_type": "display_data"
    },
    {
     "data": {
      "application/vnd.jupyter.widget-view+json": {
       "model_id": "",
       "version_major": 2,
       "version_minor": 0
      },
      "text/plain": [
       "HBox(children=(FloatProgress(value=1.0, bar_style='info', description='Validating', layout=Layout(flex='2'), m…"
      ]
     },
     "metadata": {},
     "output_type": "display_data"
    },
    {
     "data": {
      "application/vnd.jupyter.widget-view+json": {
       "model_id": "",
       "version_major": 2,
       "version_minor": 0
      },
      "text/plain": [
       "HBox(children=(FloatProgress(value=1.0, bar_style='info', description='Validating', layout=Layout(flex='2'), m…"
      ]
     },
     "metadata": {},
     "output_type": "display_data"
    },
    {
     "name": "stdout",
     "output_type": "stream",
     "text": [
      "\n"
     ]
    },
    {
     "data": {
      "text/plain": [
       "1"
      ]
     },
     "execution_count": 26,
     "metadata": {},
     "output_type": "execute_result"
    }
   ],
   "source": [
    "from k12libs.utils.nb_easy import (EasyaiClassifier, EasyaiTrainer)\n",
    "\n",
    "class CustomClassifier(EasyaiClassifier):\n",
    "    # 进入模型前, 数据加载参数设置\n",
    "    def train_dataloader(self) -> DataLoader:\n",
    "        return self.get_dataloader('train',\n",
    "                batch_size=48,    # 一次进入模型的数据量(批量大小)\n",
    "                num_workers=1,    # 启动多少个进程加载数据(值不要过大)\n",
    "                drop_last=True,   # 是否丢大最后一次不完整的batch(个数不足batch_szie)\n",
    "                shuffle=False)    # 每次epoch时,是否将数据进行重新洗牌\n",
    "    \n",
    "    # 对每次batch迭代, 计算损失率, 正确率等, 返回metrics \n",
    "    def training_step(self, batch, batch_idx):\n",
    "        x, y, p = batch           # images, labels, paths      \n",
    "        y_hat = self.model(x)     # model由build_model返回, 输入images, 返回估计y\n",
    "        loss = self.loss(y_hat, y)# loss有configure_criterion配置, 计算y_hat, y的差异损失\n",
    "        with torch.no_grad():\n",
    "            acc = (torch.argmax(y_hat, axis=1) == y).float().mean() # 计算正确率\n",
    "            \n",
    "        log = {'train_loss': loss, 'train_acc': acc}\n",
    "        output = OrderedDict({\n",
    "            'loss': loss,        # (M) 必须包含loss, 训练损失\n",
    "            'acc': acc,          # (O) 可选, 每次迭代记录正确率, epoch结束时可以用来计算平均acc\n",
    "            'progress_bar': log, # (O) 可选, 可以在训练进度条上显示该字典里的内容\n",
    "            \"log\": log           # (O) 可选, 如果启动logger模块, 作为logger的输入数据\n",
    "        })\n",
    "        return output\n",
    "\n",
    "    # 对每次eopch的结束, 根据需要计算metrics, 输出日志等\n",
    "    def training_epoch_end(self, outputs):\n",
    "        avg_loss = torch.stack([x['loss'] for x in outputs]).mean() # 对训练loss做平均\n",
    "        avg_acc = torch.stack([x['acc'] for x in outputs]).mean()   # 对训练acc做平均\n",
    "        log = {'train_loss': avg_loss, 'train_acc': avg_acc}        # 封装到字典中\n",
    "        return {'progress_bar': log, 'log': log}                    # 供进度条上和logger模块使用log字段数据\n",
    "     \n",
    "trainer = EasyaiTrainer(max_epochs=10)\n",
    "trainer.fit(CustomClassifier())"
   ]
  },
  {
   "cell_type": "code",
   "execution_count": null,
   "metadata": {},
   "outputs": [],
   "source": [
    "## 实例: "
   ]
  }
 ],
 "metadata": {
  "kernelspec": {
   "display_name": "Python 3",
   "language": "python",
   "name": "python3"
  },
  "language_info": {
   "codemirror_mode": {
    "name": "ipython",
    "version": 3
   },
   "file_extension": ".py",
   "mimetype": "text/x-python",
   "name": "python",
   "nbconvert_exporter": "python",
   "pygments_lexer": "ipython3",
   "version": "3.6.9"
  },
  "toc": {
   "base_numbering": 1,
   "nav_menu": {},
   "number_sections": true,
   "sideBar": true,
   "skip_h1_title": true,
   "title_cell": "",
   "title_sidebar": "Contents",
   "toc_cell": false,
   "toc_position": {
    "height": "calc(100% - 180px)",
    "left": "10px",
    "top": "150px",
    "width": "307.2px"
   },
   "toc_section_display": true,
   "toc_window_display": false
  }
 },
 "nbformat": 4,
 "nbformat_minor": 4
}
