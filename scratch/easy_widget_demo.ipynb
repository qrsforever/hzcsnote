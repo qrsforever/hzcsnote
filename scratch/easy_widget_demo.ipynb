{
 "cells": [
  {
   "cell_type": "code",
   "execution_count": 31,
   "id": "corresponding-snake",
   "metadata": {
    "ExecuteTime": {
     "end_time": "2021-08-27T09:21:32.904222Z",
     "start_time": "2021-08-27T09:21:32.262311Z"
    }
   },
   "outputs": [
    {
     "name": "stdout",
     "output_type": "stream",
     "text": [
      "CPython 3.6.9\n",
      "IPython 7.16.1\n",
      "\n",
      "cv2 4.5.1\n",
      "matplotlib 3.3.3\n"
     ]
    },
    {
     "data": {
      "text/html": [
       "<style>.container { width:80% !important; }</style>"
      ],
      "text/plain": [
       "<IPython.core.display.HTML object>"
      ]
     },
     "metadata": {},
     "output_type": "display_data"
    }
   ],
   "source": [
    "%reload_ext watermark\n",
    "%reload_ext autoreload\n",
    "%autoreload 2\n",
    "%watermark -v -p cv2,matplotlib\n",
    "%matplotlib inline\n",
    "%config InlineBackend.figure_format='retina'\n",
    "%config IPCompleter.use_jedi = False\n",
    "\n",
    "from IPython.display import display, Markdown, HTML, Javascript\n",
    "display(HTML('<style>.container { width:%d%% !important; }</style>' % 80))\n",
    "\n",
    "import sys, os, io, time, random, math\n",
    "import json, base64, requests\n",
    "import os.path as osp\n",
    "import numpy as np\n",
    "\n",
    "def _IMPORT_(x):\n",
    "    try:\n",
    "        segs = x.split(' ')\n",
    "        g = globals()\n",
    "        if 'github.com' in segs[1]:\n",
    "            uri = segs[1].replace('github.com', 'raw.githubusercontent.com')\n",
    "            mod = uri.split('/')\n",
    "            for s in ['main', 'master']:\n",
    "                uri = 'https://' + '/'.join(mod[:-1]) + '/main/' + mod[-1] + '.py'\n",
    "                x = requests.get(uri)\n",
    "                if x.status_code == 200:\n",
    "                    x = x.text\n",
    "                    break\n",
    "        elif 'gitee.com' in segs[1]:\n",
    "            mod = segs[1].split('/')\n",
    "            for s in ['/raw/main/', '/raw/master/']:\n",
    "                uri = 'https://' + '/'.join(mod[:3]) + s + '/'.join(mod[3:]) + '.py'\n",
    "                x = requests.get(uri)\n",
    "                if x.status_code == 200:\n",
    "                    x = x.text\n",
    "                    break\n",
    "        elif segs[1][0] == '/':\n",
    "            with open(segs[1] + '.py') as fr:\n",
    "                x = fr.read()\n",
    "        exec(x, g)\n",
    "    except:\n",
    "        pass\n"
   ]
  },
  {
   "cell_type": "code",
   "execution_count": 40,
   "id": "general-night",
   "metadata": {
    "ExecuteTime": {
     "end_time": "2021-08-27T09:36:42.915097Z",
     "start_time": "2021-08-27T09:36:41.927764Z"
    },
    "code_folding": [
     53
    ]
   },
   "outputs": [
    {
     "data": {
      "application/vnd.jupyter.widget-view+json": {
       "model_id": "c6d576a034864a0d9c2f17f7ad974247",
       "version_major": 2,
       "version_minor": 0
      },
      "text/plain": [
       "Box(children=(Box(children=(VBox(children=(HBox(children=(Text(value='zmq.repnet_tf.inference', continuous_upd…"
      ]
     },
     "metadata": {},
     "output_type": "display_data"
    }
   ],
   "source": [
    "# _IMPORT_('import github.com/qrsforever/nb_easy/easy_widget')\n",
    "_IMPORT_('import gitee.com/qrsforever/nb_easy/easy_widget')\n",
    "\n",
    "schema = {\n",
    "    'type': 'page',\n",
    "    'objs': [\n",
    "        {\n",
    "            'type': 'H',\n",
    "            'objs': [\n",
    "                nbeasy_widget_string('task', 'Task', 'zmq.repnet_tf.inference', width='30%', readonly=True),\n",
    "                nbeasy_widget_string('cfg.pigeon.msgkey', 'Mssage Key', 'zmq.repnet_tf.test', width='30%', readonly=True),\n",
    "                nbeasy_widget_string('__cfg.race_url', 'Race URL', 'http://host:port', width='30%', readonly=True),\n",
    "            ]\n",
    "        },\n",
    "        nbeasy_widget_int('cfg.epoch', 'Epoch', 10, min_=10),\n",
    "        nbeasy_widget_float('cfg.lr', 'LearnRate', 0.001)\n",
    "    ]\n",
    "}\n",
    "\n",
    "easy = nbeasy_schema_parse(schema, events=None, debug=True)"
   ]
  },
  {
   "cell_type": "code",
   "execution_count": 44,
   "id": "experimental-matrix",
   "metadata": {
    "ExecuteTime": {
     "end_time": "2021-08-27T09:38:00.956733Z",
     "start_time": "2021-08-27T09:38:00.509392Z"
    }
   },
   "outputs": [
    {
     "name": "stdout",
     "output_type": "stream",
     "text": [
      "{\n",
      "    \"task\": \"zmq.repnet_tf.inference\",\n",
      "    \"cfg\": {\n",
      "        \"pigeon\": {\n",
      "            \"msgkey\": \"zmq.repnet_tf.test\"\n",
      "        },\n",
      "        \"epoch\": 10,\n",
      "        \"lr\": 0.001\n",
      "    }\n",
      "}\n"
     ]
    }
   ],
   "source": [
    "print(json.dumps(easy.get_all_(), indent=4))"
   ]
  }
 ],
 "metadata": {
  "hide_input": false,
  "kernelspec": {
   "display_name": "Python 3",
   "language": "python",
   "name": "python3"
  },
  "language_info": {
   "codemirror_mode": {
    "name": "ipython",
    "version": 3
   },
   "file_extension": ".py",
   "mimetype": "text/x-python",
   "name": "python",
   "nbconvert_exporter": "python",
   "pygments_lexer": "ipython3",
   "version": "3.6.9"
  },
  "toc": {
   "base_numbering": 1,
   "nav_menu": {},
   "number_sections": true,
   "sideBar": true,
   "skip_h1_title": true,
   "title_cell": "",
   "title_sidebar": "Contents",
   "toc_cell": false,
   "toc_position": {},
   "toc_section_display": true,
   "toc_window_display": false
  }
 },
 "nbformat": 4,
 "nbformat_minor": 5
}
