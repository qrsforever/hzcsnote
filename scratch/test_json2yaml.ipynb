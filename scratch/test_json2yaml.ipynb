{
 "cells": [
  {
   "cell_type": "markdown",
   "metadata": {},
   "source": [
    "# <div align='center'> Yaml <-> Json </div>"
   ]
  },
  {
   "cell_type": "code",
   "execution_count": 48,
   "metadata": {
    "ExecuteTime": {
     "end_time": "2020-06-22T03:51:52.121646Z",
     "start_time": "2020-06-22T03:51:52.116885Z"
    }
   },
   "outputs": [],
   "source": [
    "# !pip install json2yaml -i https://mirrors.aliyun.com/pypi/simple/"
   ]
  },
  {
   "cell_type": "code",
   "execution_count": 26,
   "metadata": {
    "ExecuteTime": {
     "end_time": "2020-06-22T03:43:11.291626Z",
     "start_time": "2020-06-22T03:43:11.285698Z"
    }
   },
   "outputs": [],
   "source": [
    "import yaml, json\n",
    "from pprint import pprint\n",
    "from io import StringIO"
   ]
  },
  {
   "cell_type": "code",
   "execution_count": 4,
   "metadata": {
    "ExecuteTime": {
     "end_time": "2020-06-22T03:28:18.987542Z",
     "start_time": "2020-06-22T03:28:18.978880Z"
    }
   },
   "outputs": [],
   "source": [
    "yaml_str = '''_BASE_: \"MESH-RCNN-FPN.yaml\"\n",
    "MODEL:\n",
    "  WEIGHTS: \"meshrcnn://coco_init_0719.pth\" # \"detectron2://ImageNetPretrained/MSRA/R-50.pkl\"\n",
    "  MASK_ON: True\n",
    "  VOXEL_ON: False\n",
    "  MESH_ON: True\n",
    "  ZPRED_ON: True\n",
    "  RESNETS:\n",
    "    DEPTH: 50\n",
    "  RPN:\n",
    "    IOU_THRESHOLDS: [0.2, 0.5, 0.7]\n",
    "    IOU_LABELS: [-1, 0, -1, 1]\n",
    "    SMOOTH_L1_BETA: 0.111\n",
    "  ROI_HEADS:\n",
    "    NAME: \"MeshRCNNROIHeads\"\n",
    "    BATCH_SIZE_PER_IMAGE: 64\n",
    "    NUM_CLASSES: 9 # Number of foreground classes\n",
    "    IOU_THRESHOLDS: [0.2, 0.5]\n",
    "    IOU_LABELS: [-1, 0, 1]\n",
    "  ROI_BOX_HEAD:\n",
    "    SMOOTH_L1_BETA: 1.0\n",
    "  ROI_Z_HEAD:\n",
    "    NAME: \"FastRCNNFCHead\"\n",
    "    Z_REG_WEIGHT: 1.0\n",
    "    SMOOTH_L1_BETA: 1.0\n",
    "  ROI_MASK_HEAD:\n",
    "    NAME: \"MaskRCNNConvUpsampleHead\"\n",
    "    POOLER_RESOLUTION: 14\n",
    "    POOLER_SAMPLING_RATIO: 2\n",
    "    NUM_CONV: 4\n",
    "  ROI_MESH_HEAD:\n",
    "    NAME: \"MeshRCNNGraphConvHead\"\n",
    "    POOLER_RESOLUTION: 14\n",
    "    POOLER_SAMPLING_RATIO: 2\n",
    "    NUM_STAGES: 3\n",
    "    NUM_GRAPH_CONVS: 3\n",
    "    GRAPH_CONV_DIM: 128\n",
    "    GRAPH_CONV_INIT: \"normal\"\n",
    "    GT_COORD_THRESH: 5.0\n",
    "    CHAMFER_LOSS_WEIGHT: 1.0\n",
    "    NORMALS_LOSS_WEIGHT: 0.1\n",
    "    EDGE_LOSS_WEIGHT: 1.0\n",
    "    ICO_SPHERE_LEVEL: 4\n",
    "DATASETS:\n",
    "  TRAIN: (\"pix3d_s1_train\",)\n",
    "  TEST: (\"pix3d_s1_test\",)\n",
    "SOLVER:\n",
    "  BASE_LR: 0.02\n",
    "  WEIGHT_DECAY: 0.0001\n",
    "  STEPS: (8000, 10000)\n",
    "  MAX_ITER: 11000\n",
    "  WARMUP_ITERS: 1000\n",
    "  WARMUP_FACTOR: 0.1'''"
   ]
  },
  {
   "cell_type": "markdown",
   "metadata": {},
   "source": [
    "## Yaml2Json"
   ]
  },
  {
   "cell_type": "code",
   "execution_count": 20,
   "metadata": {
    "ExecuteTime": {
     "end_time": "2020-06-22T03:41:18.383259Z",
     "start_time": "2020-06-22T03:41:18.346635Z"
    },
    "scrolled": true
   },
   "outputs": [
    {
     "data": {
      "text/plain": [
       "{'_BASE_': 'MESH-RCNN-FPN.yaml',\n",
       " 'MODEL': {'WEIGHTS': 'meshrcnn://coco_init_0719.pth',\n",
       "  'MASK_ON': True,\n",
       "  'VOXEL_ON': False,\n",
       "  'MESH_ON': True,\n",
       "  'ZPRED_ON': True,\n",
       "  'RESNETS': {'DEPTH': 50},\n",
       "  'RPN': {'IOU_THRESHOLDS': [0.2, 0.5, 0.7],\n",
       "   'IOU_LABELS': [-1, 0, -1, 1],\n",
       "   'SMOOTH_L1_BETA': 0.111},\n",
       "  'ROI_HEADS': {'NAME': 'MeshRCNNROIHeads',\n",
       "   'BATCH_SIZE_PER_IMAGE': 64,\n",
       "   'NUM_CLASSES': 9,\n",
       "   'IOU_THRESHOLDS': [0.2, 0.5],\n",
       "   'IOU_LABELS': [-1, 0, 1]},\n",
       "  'ROI_BOX_HEAD': {'SMOOTH_L1_BETA': 1.0},\n",
       "  'ROI_Z_HEAD': {'NAME': 'FastRCNNFCHead',\n",
       "   'Z_REG_WEIGHT': 1.0,\n",
       "   'SMOOTH_L1_BETA': 1.0},\n",
       "  'ROI_MASK_HEAD': {'NAME': 'MaskRCNNConvUpsampleHead',\n",
       "   'POOLER_RESOLUTION': 14,\n",
       "   'POOLER_SAMPLING_RATIO': 2,\n",
       "   'NUM_CONV': 4},\n",
       "  'ROI_MESH_HEAD': {'NAME': 'MeshRCNNGraphConvHead',\n",
       "   'POOLER_RESOLUTION': 14,\n",
       "   'POOLER_SAMPLING_RATIO': 2,\n",
       "   'NUM_STAGES': 3,\n",
       "   'NUM_GRAPH_CONVS': 3,\n",
       "   'GRAPH_CONV_DIM': 128,\n",
       "   'GRAPH_CONV_INIT': 'normal',\n",
       "   'GT_COORD_THRESH': 5.0,\n",
       "   'CHAMFER_LOSS_WEIGHT': 1.0,\n",
       "   'NORMALS_LOSS_WEIGHT': 0.1,\n",
       "   'EDGE_LOSS_WEIGHT': 1.0,\n",
       "   'ICO_SPHERE_LEVEL': 4}},\n",
       " 'DATASETS': {'TRAIN': '(\"pix3d_s1_train\",)', 'TEST': '(\"pix3d_s1_test\",)'},\n",
       " 'SOLVER': {'BASE_LR': 0.02,\n",
       "  'WEIGHT_DECAY': 0.0001,\n",
       "  'STEPS': '(8000, 10000)',\n",
       "  'MAX_ITER': 11000,\n",
       "  'WARMUP_ITERS': 1000,\n",
       "  'WARMUP_FACTOR': 0.1}}"
      ]
     },
     "execution_count": 20,
     "metadata": {},
     "output_type": "execute_result"
    }
   ],
   "source": [
    "with StringIO(yaml_str) as f_yaml:\n",
    "    yaml_dict = yaml.load(f_yaml, Loader=yaml.FullLoader)\n",
    "yaml_dict    "
   ]
  },
  {
   "cell_type": "code",
   "execution_count": 43,
   "metadata": {
    "ExecuteTime": {
     "end_time": "2020-06-22T03:49:41.754533Z",
     "start_time": "2020-06-22T03:49:41.745468Z"
    }
   },
   "outputs": [
    {
     "name": "stdout",
     "output_type": "stream",
     "text": [
      "{\n",
      "  \"_BASE_\": \"MESH-RCNN-FPN.yaml\",\n",
      "  \"MODEL\": {\n",
      "    \"WEIGHTS\": \"meshrcnn://coco_init_0719.pth\",\n",
      "    \"MASK_ON\": true,\n",
      "    \"VOXEL_ON\": false,\n",
      "    \"MESH_ON\": true,\n",
      "    \"ZPRED_ON\": true,\n",
      "    \"RESNETS\": {\n",
      "      \"DEPTH\": 50\n",
      "    },\n",
      "    \"RPN\": {\n",
      "      \"IOU_THRESHOLDS\": [\n",
      "        0.2,\n",
      "        0.5,\n",
      "        0.7\n",
      "      ],\n",
      "      \"IOU_LABELS\": [\n",
      "        -1,\n",
      "        0,\n",
      "        -1,\n",
      "        1\n",
      "      ],\n",
      "      \"SMOOTH_L1_BETA\": 0.111\n",
      "    },\n",
      "    \"ROI_HEADS\": {\n",
      "      \"NAME\": \"MeshRCNNROIHeads\",\n",
      "      \"BATCH_SIZE_PER_IMAGE\": 64,\n",
      "      \"NUM_CLASSES\": 9,\n",
      "      \"IOU_THRESHOLDS\": [\n",
      "        0.2,\n",
      "        0.5\n",
      "      ],\n",
      "      \"IOU_LABELS\": [\n",
      "        -1,\n",
      "        0,\n",
      "        1\n",
      "      ]\n",
      "    },\n",
      "    \"ROI_BOX_HEAD\": {\n",
      "      \"SMOOTH_L1_BETA\": 1.0\n",
      "    },\n",
      "    \"ROI_Z_HEAD\": {\n",
      "      \"NAME\": \"FastRCNNFCHead\",\n",
      "      \"Z_REG_WEIGHT\": 1.0,\n",
      "      \"SMOOTH_L1_BETA\": 1.0\n",
      "    },\n",
      "    \"ROI_MASK_HEAD\": {\n",
      "      \"NAME\": \"MaskRCNNConvUpsampleHead\",\n",
      "      \"POOLER_RESOLUTION\": 14,\n",
      "      \"POOLER_SAMPLING_RATIO\": 2,\n",
      "      \"NUM_CONV\": 4\n",
      "    },\n",
      "    \"ROI_MESH_HEAD\": {\n",
      "      \"NAME\": \"MeshRCNNGraphConvHead\",\n",
      "      \"POOLER_RESOLUTION\": 14,\n",
      "      \"POOLER_SAMPLING_RATIO\": 2,\n",
      "      \"NUM_STAGES\": 3,\n",
      "      \"NUM_GRAPH_CONVS\": 3,\n",
      "      \"GRAPH_CONV_DIM\": 128,\n",
      "      \"GRAPH_CONV_INIT\": \"normal\",\n",
      "      \"GT_COORD_THRESH\": 5.0,\n",
      "      \"CHAMFER_LOSS_WEIGHT\": 1.0,\n",
      "      \"NORMALS_LOSS_WEIGHT\": 0.1,\n",
      "      \"EDGE_LOSS_WEIGHT\": 1.0,\n",
      "      \"ICO_SPHERE_LEVEL\": 4\n",
      "    }\n",
      "  },\n",
      "  \"DATASETS\": {\n",
      "    \"TRAIN\": \"(\\\"pix3d_s1_train\\\",)\",\n",
      "    \"TEST\": \"(\\\"pix3d_s1_test\\\",)\"\n",
      "  },\n",
      "  \"SOLVER\": {\n",
      "    \"BASE_LR\": 0.02,\n",
      "    \"WEIGHT_DECAY\": 0.0001,\n",
      "    \"STEPS\": \"(8000, 10000)\",\n",
      "    \"MAX_ITER\": 11000,\n",
      "    \"WARMUP_ITERS\": 1000,\n",
      "    \"WARMUP_FACTOR\": 0.1\n",
      "  }\n",
      "}\n"
     ]
    }
   ],
   "source": [
    "json_str = json.dumps(yaml_dict, sort_keys=False, indent=2, separators=(',', ': '))\n",
    "print(json_str)"
   ]
  },
  {
   "cell_type": "markdown",
   "metadata": {},
   "source": [
    "## Json2Yaml"
   ]
  },
  {
   "cell_type": "code",
   "execution_count": 31,
   "metadata": {
    "ExecuteTime": {
     "end_time": "2020-06-22T03:44:44.067347Z",
     "start_time": "2020-06-22T03:44:44.039715Z"
    }
   },
   "outputs": [
    {
     "name": "stdout",
     "output_type": "stream",
     "text": [
      "{'DATASETS': {'TEST': '(\"pix3d_s1_test\",)', 'TRAIN': '(\"pix3d_s1_train\",)'},\n",
      " 'MODEL': {'MASK_ON': True,\n",
      "           'MESH_ON': True,\n",
      "           'RESNETS': {'DEPTH': 50},\n",
      "           'ROI_BOX_HEAD': {'SMOOTH_L1_BETA': 1.0},\n",
      "           'ROI_HEADS': {'BATCH_SIZE_PER_IMAGE': 64,\n",
      "                         'IOU_LABELS': [-1, 0, 1],\n",
      "                         'IOU_THRESHOLDS': [0.2, 0.5],\n",
      "                         'NAME': 'MeshRCNNROIHeads',\n",
      "                         'NUM_CLASSES': 9},\n",
      "           'ROI_MASK_HEAD': {'NAME': 'MaskRCNNConvUpsampleHead',\n",
      "                             'NUM_CONV': 4,\n",
      "                             'POOLER_RESOLUTION': 14,\n",
      "                             'POOLER_SAMPLING_RATIO': 2},\n",
      "           'ROI_MESH_HEAD': {'CHAMFER_LOSS_WEIGHT': 1.0,\n",
      "                             'EDGE_LOSS_WEIGHT': 1.0,\n",
      "                             'GRAPH_CONV_DIM': 128,\n",
      "                             'GRAPH_CONV_INIT': 'normal',\n",
      "                             'GT_COORD_THRESH': 5.0,\n",
      "                             'ICO_SPHERE_LEVEL': 4,\n",
      "                             'NAME': 'MeshRCNNGraphConvHead',\n",
      "                             'NORMALS_LOSS_WEIGHT': 0.1,\n",
      "                             'NUM_GRAPH_CONVS': 3,\n",
      "                             'NUM_STAGES': 3,\n",
      "                             'POOLER_RESOLUTION': 14,\n",
      "                             'POOLER_SAMPLING_RATIO': 2},\n",
      "           'ROI_Z_HEAD': {'NAME': 'FastRCNNFCHead',\n",
      "                          'SMOOTH_L1_BETA': 1.0,\n",
      "                          'Z_REG_WEIGHT': 1.0},\n",
      "           'RPN': {'IOU_LABELS': [-1, 0, -1, 1],\n",
      "                   'IOU_THRESHOLDS': [0.2, 0.5, 0.7],\n",
      "                   'SMOOTH_L1_BETA': 0.111},\n",
      "           'VOXEL_ON': False,\n",
      "           'WEIGHTS': 'meshrcnn://coco_init_0719.pth',\n",
      "           'ZPRED_ON': True},\n",
      " 'SOLVER': {'BASE_LR': 0.02,\n",
      "            'MAX_ITER': 11000,\n",
      "            'STEPS': '(8000, 10000)',\n",
      "            'WARMUP_FACTOR': 0.1,\n",
      "            'WARMUP_ITERS': 1000,\n",
      "            'WEIGHT_DECAY': 0.0001},\n",
      " '_BASE_': 'MESH-RCNN-FPN.yaml'}\n"
     ]
    }
   ],
   "source": [
    "json_dict = json.loads(json_str)\n",
    "pprint(json_dict)"
   ]
  },
  {
   "cell_type": "code",
   "execution_count": 47,
   "metadata": {
    "ExecuteTime": {
     "end_time": "2020-06-22T03:51:04.017035Z",
     "start_time": "2020-06-22T03:51:03.997564Z"
    }
   },
   "outputs": [
    {
     "name": "stdout",
     "output_type": "stream",
     "text": [
      "DATASETS:\n",
      "  TEST: (\"pix3d_s1_test\",)\n",
      "  TRAIN: (\"pix3d_s1_train\",)\n",
      "MODEL:\n",
      "  MASK_ON: true\n",
      "  MESH_ON: true\n",
      "  RESNETS:\n",
      "    DEPTH: 50\n",
      "  ROI_BOX_HEAD:\n",
      "    SMOOTH_L1_BETA: 1.0\n",
      "  ROI_HEADS:\n",
      "    BATCH_SIZE_PER_IMAGE: 64\n",
      "    IOU_LABELS:\n",
      "    - -1\n",
      "    - 0\n",
      "    - 1\n",
      "    IOU_THRESHOLDS:\n",
      "    - 0.2\n",
      "    - 0.5\n",
      "    NAME: MeshRCNNROIHeads\n",
      "    NUM_CLASSES: 9\n",
      "  ROI_MASK_HEAD:\n",
      "    NAME: MaskRCNNConvUpsampleHead\n",
      "    NUM_CONV: 4\n",
      "    POOLER_RESOLUTION: 14\n",
      "    POOLER_SAMPLING_RATIO: 2\n",
      "  ROI_MESH_HEAD:\n",
      "    CHAMFER_LOSS_WEIGHT: 1.0\n",
      "    EDGE_LOSS_WEIGHT: 1.0\n",
      "    GRAPH_CONV_DIM: 128\n",
      "    GRAPH_CONV_INIT: normal\n",
      "    GT_COORD_THRESH: 5.0\n",
      "    ICO_SPHERE_LEVEL: 4\n",
      "    NAME: MeshRCNNGraphConvHead\n",
      "    NORMALS_LOSS_WEIGHT: 0.1\n",
      "    NUM_GRAPH_CONVS: 3\n",
      "    NUM_STAGES: 3\n",
      "    POOLER_RESOLUTION: 14\n",
      "    POOLER_SAMPLING_RATIO: 2\n",
      "  ROI_Z_HEAD:\n",
      "    NAME: FastRCNNFCHead\n",
      "    SMOOTH_L1_BETA: 1.0\n",
      "    Z_REG_WEIGHT: 1.0\n",
      "  RPN:\n",
      "    IOU_LABELS:\n",
      "    - -1\n",
      "    - 0\n",
      "    - -1\n",
      "    - 1\n",
      "    IOU_THRESHOLDS:\n",
      "    - 0.2\n",
      "    - 0.5\n",
      "    - 0.7\n",
      "    SMOOTH_L1_BETA: 0.111\n",
      "  VOXEL_ON: false\n",
      "  WEIGHTS: meshrcnn://coco_init_0719.pth\n",
      "  ZPRED_ON: true\n",
      "SOLVER:\n",
      "  BASE_LR: 0.02\n",
      "  MAX_ITER: 11000\n",
      "  STEPS: (8000, 10000)\n",
      "  WARMUP_FACTOR: 0.1\n",
      "  WARMUP_ITERS: 1000\n",
      "  WEIGHT_DECAY: 0.0001\n",
      "_BASE_: MESH-RCNN-FPN.yaml\n",
      "\n"
     ]
    }
   ],
   "source": [
    "yaml_str = yaml.safe_dump(json_dict, stream=None , default_flow_style=False)\n",
    "print(yaml_str)"
   ]
  }
 ],
 "metadata": {
  "kernelspec": {
   "display_name": "Python 3",
   "language": "python",
   "name": "python3"
  },
  "language_info": {
   "codemirror_mode": {
    "name": "ipython",
    "version": 3
   },
   "file_extension": ".py",
   "mimetype": "text/x-python",
   "name": "python",
   "nbconvert_exporter": "python",
   "pygments_lexer": "ipython3",
   "version": "3.6.9"
  },
  "toc": {
   "base_numbering": 1,
   "nav_menu": {},
   "number_sections": true,
   "sideBar": true,
   "skip_h1_title": true,
   "title_cell": "Table of Contents",
   "title_sidebar": "Contents",
   "toc_cell": false,
   "toc_position": {},
   "toc_section_display": true,
   "toc_window_display": false
  }
 },
 "nbformat": 4,
 "nbformat_minor": 4
}
