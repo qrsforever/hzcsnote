{
 "cells": [
  {
   "cell_type": "code",
   "execution_count": 47,
   "metadata": {
    "ExecuteTime": {
     "end_time": "2020-10-30T12:56:48.056925Z",
     "start_time": "2020-10-30T12:56:48.021309Z"
    }
   },
   "outputs": [
    {
     "name": "stdout",
     "output_type": "stream",
     "text": [
      "[(0, Conv2d(16, 512, kernel_size=(3, 3), stride=(1, 1))), (2, Conv2d(16, 512, kernel_size=(3, 3), stride=(1, 1))), (4, Conv2d(16, 11, kernel_size=(3, 3), stride=(1, 1))), (6, Conv2d(16, 22, kernel_size=(3, 3), stride=(1, 1))), (8, Conv2d(16, 1024, kernel_size=(3, 3), stride=(1, 1)))]\n",
      "4\n"
     ]
    }
   ],
   "source": [
    "import torch\n",
    "import torch.nn as nn\n",
    " \n",
    "class TestModule(nn.Module):\n",
    "    def __init__(self):\n",
    "        super(TestModule,self).__init__()\n",
    "        self.layer1 = nn.Sequential(\n",
    "            nn.Conv2d(16,512,3,1),\n",
    "            nn.ReLU(inplace=True),\n",
    "            nn.Conv2d(16,512,3,1),\n",
    "            nn.ReLU(inplace=True),\n",
    "            nn.Conv2d(16,11,3,1),\n",
    "            nn.ReLU(inplace=True),\n",
    "            nn.Conv2d(16,22,3,1),\n",
    "            nn.ReLU(inplace=True),\n",
    "            nn.Conv2d(16,1024,3,1),\n",
    "            nn.ReLU(inplace=True)\n",
    "        )\n",
    "        self.layer2 = nn.Sequential(\n",
    "            nn.Linear(32,10)\n",
    "        )\n",
    " \n",
    "    def forward(self,x):\n",
    "        x = self.layer1(x)\n",
    "        x = self.layer2(x)\n",
    " \n",
    "model = TestModule()\n",
    "\n",
    "# for name, module in model.named_children():\n",
    "#     print('children module:', name)\n",
    "# \n",
    "#     \n",
    "# for name, module in model.named_modules():\n",
    "#     print('modules:', name)\n",
    "# \n",
    "\n",
    "# for name, module in model.layer1.named_children():\n",
    "#     print(module)\n",
    "    \n",
    "modules = [mod for mod in model.layer1.children()]\n",
    "\n",
    "# check\n",
    "cnn_layers = [(i, mod) for i, mod in enumerate(modules) if isinstance(mod, nn.Conv2d)]\n",
    "print(cnn_layers)\n",
    "\n",
    "if cnn_layers[-1][1].out_channels != 1024:\n",
    "    raise RuntimeError('not 1024')\n",
    "    \n",
    "seg_idx = -1\n",
    "for idx, mod in cnn_layers[::-1]:\n",
    "    if mod.out_channels == 512:\n",
    "        break\n",
    "    seg_idx = idx\n",
    "if cnn_layers[0][0] == seg_idx:\n",
    "    raise RuntimeError('no 512')\n",
    "    \n",
    "print(seg_idx)"
   ]
  }
 ],
 "metadata": {
  "kernelspec": {
   "display_name": "Python 3",
   "language": "python",
   "name": "python3"
  },
  "language_info": {
   "codemirror_mode": {
    "name": "ipython",
    "version": 3
   },
   "file_extension": ".py",
   "mimetype": "text/x-python",
   "name": "python",
   "nbconvert_exporter": "python",
   "pygments_lexer": "ipython3",
   "version": "3.6.9"
  },
  "toc": {
   "base_numbering": 1,
   "nav_menu": {},
   "number_sections": true,
   "sideBar": true,
   "skip_h1_title": true,
   "title_cell": "",
   "title_sidebar": "Contents",
   "toc_cell": false,
   "toc_position": {},
   "toc_section_display": true,
   "toc_window_display": false
  }
 },
 "nbformat": 4,
 "nbformat_minor": 4
}
