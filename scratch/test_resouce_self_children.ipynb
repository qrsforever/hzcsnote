{
 "cells": [
  {
   "cell_type": "code",
   "execution_count": 9,
   "metadata": {},
   "outputs": [],
   "source": [
    "import resource\n",
    "import os, psutil\n",
    "from sys import getsizeof\n",
    "import multiprocessing"
   ]
  },
  {
   "cell_type": "code",
   "execution_count": 4,
   "metadata": {},
   "outputs": [
    {
     "data": {
      "text/plain": [
       "(1051.18359375, 34.890625)"
      ]
     },
     "execution_count": 4,
     "metadata": {},
     "output_type": "execute_result"
    }
   ],
   "source": [
    "s_s = resource.getrusage(resource.RUSAGE_SELF).ru_maxrss / 1024\n",
    "c_s = resource.getrusage(resource.RUSAGE_CHILDREN).ru_maxrss / 1024\n",
    "\n",
    "s_s, c_s"
   ]
  },
  {
   "cell_type": "code",
   "execution_count": 9,
   "metadata": {},
   "outputs": [
    {
     "data": {
      "text/plain": [
       "16"
      ]
     },
     "execution_count": 9,
     "metadata": {},
     "output_type": "execute_result"
    }
   ],
   "source": [
    "getsizeof(object())"
   ]
  },
  {
   "cell_type": "code",
   "execution_count": null,
   "metadata": {},
   "outputs": [],
   "source": [
    "objs = []"
   ]
  },
  {
   "cell_type": "code",
   "execution_count": 10,
   "metadata": {
    "collapsed": true
   },
   "outputs": [],
   "source": [
    "for i in range(5000000):\n",
    "    objs.append(object())"
   ]
  },
  {
   "cell_type": "code",
   "execution_count": 11,
   "metadata": {
    "scrolled": true
   },
   "outputs": [
    {
     "data": {
      "text/plain": [
       "(1051.18359375, 34.890625)"
      ]
     },
     "execution_count": 11,
     "metadata": {},
     "output_type": "execute_result"
    }
   ],
   "source": [
    "s_e = resource.getrusage(resource.RUSAGE_SELF).ru_maxrss / 1024\n",
    "c_e = resource.getrusage(resource.RUSAGE_CHILDREN).ru_maxrss / 1024\n",
    "\n",
    "s_e, c_e"
   ]
  },
  {
   "cell_type": "code",
   "execution_count": 12,
   "metadata": {},
   "outputs": [
    {
     "name": "stdout",
     "output_type": "stream",
     "text": [
      "########1 67.6015625 0.0 67.609375\n",
      "########2 309.15625 0.0 309.15625\n",
      "0 pid[1884] self: 241.5546875 child: 0.0\n",
      "########1 68.0859375 0.0 68.09375\n",
      "########2 308.69921875 0.0 308.69921875\n",
      "1 pid[1891] self: 240.61328125 child: 0.0\n",
      "########1 309.15625 0.0 71.52734375\n",
      "########2 309.15625 0.0 309.15234375\n",
      "3 pid[1884] self: 0.0 child: 0.0\n"
     ]
    }
   ],
   "source": [
    "def get_process_memory():\n",
    "    process = psutil.Process(os.getpid())\n",
    "    return process.memory_info().rss / 1024 / 1024\n",
    "\n",
    "\n",
    "def _work(flag):\n",
    "    s_s = resource.getrusage(resource.RUSAGE_SELF).ru_maxrss / 1024\n",
    "    c_s = resource.getrusage(resource.RUSAGE_CHILDREN).ru_maxrss / 1024\n",
    "    objs = []\n",
    "    print(\"########1\", s_s, c_s, get_process_memory())\n",
    "    for i in range(10 * 1024**2):\n",
    "        objs.append(object())\n",
    "    s_e = resource.getrusage(resource.RUSAGE_SELF).ru_maxrss / 1024\n",
    "    c_e = resource.getrusage(resource.RUSAGE_CHILDREN).ru_maxrss / 1024\n",
    "    print(\"########2\", s_e, c_e, get_process_memory())\n",
    "    print(flag, \"pid[%d]\" % os.getpid(), \"self:\", s_e - s_s, \"child:\", c_e - c_s)\n",
    "\n",
    "def _self():\n",
    "    _work('0')\n",
    "    \n",
    "    # chilren\n",
    "    multiprocessing.Process(target=_work, args=('1',)).start()\n",
    "    \n",
    "    import time\n",
    "    time.sleep(2)\n",
    "    \n",
    "    # self\n",
    "    _work('3')\n",
    "    \n",
    "multiprocessing.Process(target=_self, args=()).start()"
   ]
  }
 ],
 "metadata": {
  "kernelspec": {
   "display_name": "Python 3",
   "language": "python",
   "name": "python3"
  },
  "language_info": {
   "codemirror_mode": {
    "name": "ipython",
    "version": 3
   },
   "file_extension": ".py",
   "mimetype": "text/x-python",
   "name": "python",
   "nbconvert_exporter": "python",
   "pygments_lexer": "ipython3",
   "version": "3.6.9"
  }
 },
 "nbformat": 4,
 "nbformat_minor": 4
}
