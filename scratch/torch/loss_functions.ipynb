{
 "cells": [
  {
   "cell_type": "markdown",
   "id": "accurate-change",
   "metadata": {},
   "source": [
    "# <div align=\"center\"> Loss Functions </div>"
   ]
  },
  {
   "cell_type": "code",
   "execution_count": 1,
   "id": "micro-magnitude",
   "metadata": {
    "ExecuteTime": {
     "end_time": "2021-05-20T09:26:37.610473Z",
     "start_time": "2021-05-20T09:26:35.148911Z"
    }
   },
   "outputs": [
    {
     "name": "stdout",
     "output_type": "stream",
     "text": [
      "CPython 3.6.9\n",
      "IPython 7.16.1\n",
      "\n",
      "numpy 1.18.5\n",
      "sklearn 0.24.0\n",
      "pandas 1.1.5\n",
      "CPython 3.6.9\n",
      "IPython 7.16.1\n",
      "\n",
      "cv2 4.5.1\n",
      "PIL 6.2.2\n",
      "matplotlib 3.3.3\n",
      "CPython 3.6.9\n",
      "IPython 7.16.1\n",
      "\n",
      "torch 1.8.0.dev20210103+cu101\n",
      "torchvision 0.9.0.dev20210103+cu101\n",
      "torchaudio not installed\n",
      "pytorch_lightning 1.2.0\n"
     ]
    },
    {
     "data": {
      "text/html": [
       "<style>.container { width:90% !important; }</style>"
      ],
      "text/plain": [
       "<IPython.core.display.HTML object>"
      ]
     },
     "metadata": {},
     "output_type": "display_data"
    }
   ],
   "source": [
    "%reload_ext watermark\n",
    "%reload_ext autoreload\n",
    "%autoreload 2\n",
    "%watermark -v -p numpy,sklearn,pandas\n",
    "%watermark -v -p cv2,PIL,matplotlib\n",
    "%watermark -v -p torch,torchvision,torchaudio,pytorch_lightning\n",
    "%matplotlib inline\n",
    "%config InlineBackend.figure_format='retina'\n",
    "%config IPCompleter.use_jedi = False\n",
    "\n",
    "from IPython.display import display, HTML, Javascript\n",
    "display(HTML('<style>.container { width:%d%% !important; }</style>' % 90))\n",
    "\n",
    "def _IMPORT_(x):\n",
    "    try:\n",
    "        exec(x, globals())\n",
    "    except:\n",
    "        pass\n"
   ]
  },
  {
   "cell_type": "code",
   "execution_count": 2,
   "id": "annual-pantyhose",
   "metadata": {
    "ExecuteTime": {
     "end_time": "2021-05-20T09:26:37.644012Z",
     "start_time": "2021-05-20T09:26:37.612846Z"
    }
   },
   "outputs": [],
   "source": [
    "###\n",
    "### Torch ###\n",
    "###\n",
    "\n",
    "_IMPORT_('import torch')\n",
    "_IMPORT_('import torch.nn as nn')\n",
    "_IMPORT_('import torch.nn.functional as F')\n",
    "_IMPORT_('import torch.optim as O')\n",
    "_IMPORT_('from torchvision import models as M')\n",
    "_IMPORT_('from torchvision import transforms as T')\n",
    "_IMPORT_('from torch.utils.data import Dataset, DataLoader')\n"
   ]
  },
  {
   "cell_type": "markdown",
   "id": "expensive-salad",
   "metadata": {},
   "source": [
    "## NLLLoss vs CrossEntropyLoss"
   ]
  },
  {
   "cell_type": "code",
   "execution_count": 3,
   "id": "maritime-dressing",
   "metadata": {
    "ExecuteTime": {
     "end_time": "2021-05-20T09:26:37.680026Z",
     "start_time": "2021-05-20T09:26:37.646842Z"
    }
   },
   "outputs": [
    {
     "data": {
      "text/plain": [
       "(tensor([[-1.0619, -0.1077, -0.6097, -1.1655],\n",
       "         [ 1.5475, -0.6481,  1.1606, -0.7103]]),\n",
       " tensor([0, 1]),\n",
       " torch.Size([2, 4]),\n",
       " torch.Size([2]))"
      ]
     },
     "execution_count": 3,
     "metadata": {},
     "output_type": "execute_result"
    }
   ],
   "source": [
    "X = torch.randn(2, 4)\n",
    "y = torch.arange(0, 2)\n",
    "X, y, X.shape, y.shape"
   ]
  },
  {
   "cell_type": "markdown",
   "id": "smoking-cleaners",
   "metadata": {},
   "source": [
    "### softmax range:(0, 1)"
   ]
  },
  {
   "cell_type": "code",
   "execution_count": 4,
   "id": "super-boundary",
   "metadata": {
    "ExecuteTime": {
     "end_time": "2021-05-20T09:26:37.718097Z",
     "start_time": "2021-05-20T09:26:37.682507Z"
    }
   },
   "outputs": [
    {
     "data": {
      "text/plain": [
       "(tensor([[0.1647, 0.4278, 0.2589, 0.1485],\n",
       "         [0.5277, 0.0587, 0.3584, 0.0552]]),\n",
       " torch.Size([2, 4]))"
      ]
     },
     "execution_count": 4,
     "metadata": {},
     "output_type": "execute_result"
    }
   ],
   "source": [
    "soft_output = F.softmax(X, dim=1)  # nn.Softmax(dim=1)\n",
    "soft_output, soft_output.shape"
   ]
  },
  {
   "cell_type": "markdown",
   "id": "collectible-gamma",
   "metadata": {},
   "source": [
    "### log_softmax range:(-inf, 0)"
   ]
  },
  {
   "cell_type": "code",
   "execution_count": 5,
   "id": "relative-variable",
   "metadata": {
    "ExecuteTime": {
     "end_time": "2021-05-20T09:26:37.752057Z",
     "start_time": "2021-05-20T09:26:37.720587Z"
    }
   },
   "outputs": [
    {
     "data": {
      "text/plain": [
       "(tensor([[-1.8034, -0.8491, -1.3511, -1.9070],\n",
       "         [-0.6393, -2.8349, -1.0261, -2.8970]]),\n",
       " torch.Size([2, 4]),\n",
       " tensor([[-1.8034, -0.8491, -1.3511, -1.9070],\n",
       "         [-0.6393, -2.8349, -1.0261, -2.8970]]))"
      ]
     },
     "execution_count": 5,
     "metadata": {},
     "output_type": "execute_result"
    }
   ],
   "source": [
    "log_output = F.log_softmax(X, dim=1)  # nn.LogSoftmax(dim=1)\n",
    "log_output, log_output.shape, torch.log(soft_output)"
   ]
  },
  {
   "cell_type": "markdown",
   "id": "analyzed-wilson",
   "metadata": {},
   "source": [
    "### nllloss"
   ]
  },
  {
   "cell_type": "code",
   "execution_count": 6,
   "id": "productive-photography",
   "metadata": {
    "ExecuteTime": {
     "end_time": "2021-05-20T09:26:37.784757Z",
     "start_time": "2021-05-20T09:26:37.754109Z"
    }
   },
   "outputs": [
    {
     "data": {
      "text/plain": [
       "tensor(2.3191)"
      ]
     },
     "execution_count": 6,
     "metadata": {},
     "output_type": "execute_result"
    }
   ],
   "source": [
    "nlloss_output = F.nll_loss(log_output, y)  # nn.NLLLoss()\n",
    "nlloss_output"
   ]
  },
  {
   "cell_type": "markdown",
   "id": "ambient-pollution",
   "metadata": {},
   "source": [
    "### cross_entropy = log_softmax +  nllloss"
   ]
  },
  {
   "cell_type": "code",
   "execution_count": 7,
   "id": "durable-schedule",
   "metadata": {
    "ExecuteTime": {
     "end_time": "2021-05-20T09:26:37.816721Z",
     "start_time": "2021-05-20T09:26:37.786630Z"
    }
   },
   "outputs": [
    {
     "data": {
      "text/plain": [
       "tensor(2.3191)"
      ]
     },
     "execution_count": 7,
     "metadata": {},
     "output_type": "execute_result"
    }
   ],
   "source": [
    "ce_output = F.cross_entropy(X, y)\n",
    "ce_output"
   ]
  }
 ],
 "metadata": {
  "hide_input": false,
  "kernelspec": {
   "display_name": "Python 3",
   "language": "python",
   "name": "python3"
  },
  "language_info": {
   "codemirror_mode": {
    "name": "ipython",
    "version": 3
   },
   "file_extension": ".py",
   "mimetype": "text/x-python",
   "name": "python",
   "nbconvert_exporter": "python",
   "pygments_lexer": "ipython3",
   "version": "3.6.9"
  },
  "toc": {
   "base_numbering": 1,
   "nav_menu": {},
   "number_sections": true,
   "sideBar": true,
   "skip_h1_title": true,
   "title_cell": "",
   "title_sidebar": "Contents",
   "toc_cell": false,
   "toc_position": {},
   "toc_section_display": true,
   "toc_window_display": false
  }
 },
 "nbformat": 4,
 "nbformat_minor": 5
}
