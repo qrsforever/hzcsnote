{
 "cells": [
  {
   "cell_type": "code",
   "execution_count": 1,
   "id": "casual-amazon",
   "metadata": {
    "ExecuteTime": {
     "end_time": "2021-04-26T06:34:01.794649Z",
     "start_time": "2021-04-26T06:33:59.415480Z"
    }
   },
   "outputs": [
    {
     "name": "stdout",
     "output_type": "stream",
     "text": [
      "CPython 3.6.9\n",
      "IPython 7.16.1\n",
      "\n",
      "numpy 1.19.4\n",
      "sklearn 0.24.0\n",
      "pandas 1.1.5\n",
      "CPython 3.6.9\n",
      "IPython 7.16.1\n",
      "\n",
      "cv2 4.5.1\n",
      "PIL 6.2.2\n",
      "matplotlib 3.3.3\n",
      "CPython 3.6.9\n",
      "IPython 7.16.1\n",
      "\n",
      "torch 1.8.0.dev20210103+cu101\n",
      "torchvision 0.9.0.dev20210103+cu101\n",
      "torchaudio not installed\n",
      "pytorch_lightning 1.2.0\n"
     ]
    },
    {
     "data": {
      "text/html": [
       "<style>.container { width:90% !important; }</style>"
      ],
      "text/plain": [
       "<IPython.core.display.HTML object>"
      ]
     },
     "metadata": {},
     "output_type": "display_data"
    }
   ],
   "source": [
    "%reload_ext watermark\n",
    "%reload_ext autoreload\n",
    "%autoreload 2\n",
    "%watermark -v -p numpy,sklearn,pandas\n",
    "%watermark -v -p cv2,PIL,matplotlib\n",
    "%watermark -v -p torch,torchvision,torchaudio,pytorch_lightning\n",
    "%matplotlib inline\n",
    "%config InlineBackend.figure_format='retina'\n",
    "%config IPCompleter.use_jedi = False\n",
    "\n",
    "\n",
    "from IPython.display import display, HTML\n",
    "display(HTML('<style>.container { width:%d%% !important; }</style>' % 90))"
   ]
  },
  {
   "cell_type": "code",
   "execution_count": 2,
   "id": "boolean-inflation",
   "metadata": {
    "ExecuteTime": {
     "end_time": "2021-04-26T06:37:43.754381Z",
     "start_time": "2021-04-26T06:37:43.718908Z"
    }
   },
   "outputs": [],
   "source": [
    "import torch"
   ]
  },
  {
   "cell_type": "code",
   "execution_count": 16,
   "id": "weighted-haven",
   "metadata": {
    "ExecuteTime": {
     "end_time": "2021-04-26T06:38:52.892626Z",
     "start_time": "2021-04-26T06:38:52.857056Z"
    }
   },
   "outputs": [
    {
     "data": {
      "text/plain": [
       "tensor([5, 6, 1, 2, 0, 8, 9, 3, 7, 4])"
      ]
     },
     "execution_count": 16,
     "metadata": {},
     "output_type": "execute_result"
    }
   ],
   "source": [
    "g = torch.Generator()\n",
    "g.manual_seed(1)\n",
    "torch.randperm(10, generator=g)"
   ]
  },
  {
   "cell_type": "code",
   "execution_count": 21,
   "id": "boolean-adapter",
   "metadata": {
    "ExecuteTime": {
     "end_time": "2021-04-26T12:16:32.388146Z",
     "start_time": "2021-04-26T12:16:32.352421Z"
    }
   },
   "outputs": [
    {
     "data": {
      "text/plain": [
       "[0, 1, 2, 3, 4, 5, 6, 7, 8, 9]"
      ]
     },
     "execution_count": 21,
     "metadata": {},
     "output_type": "execute_result"
    }
   ],
   "source": [
    "a = [*range(0, 10)]\n",
    "a"
   ]
  },
  {
   "cell_type": "code",
   "execution_count": 22,
   "id": "proprietary-rebound",
   "metadata": {
    "ExecuteTime": {
     "end_time": "2021-04-26T12:17:30.472834Z",
     "start_time": "2021-04-26T12:17:30.437381Z"
    }
   },
   "outputs": [
    {
     "data": {
      "text/plain": [
       "[0, 1, 2, 3, 4, 5, 6, 7, 8, 9]"
      ]
     },
     "execution_count": 22,
     "metadata": {},
     "output_type": "execute_result"
    }
   ],
   "source": [
    "b = list(range(0, 10))\n",
    "b"
   ]
  },
  {
   "cell_type": "code",
   "execution_count": 31,
   "id": "actual-western",
   "metadata": {
    "ExecuteTime": {
     "end_time": "2021-04-27T10:01:31.913980Z",
     "start_time": "2021-04-27T10:01:31.877186Z"
    }
   },
   "outputs": [
    {
     "data": {
      "text/plain": [
       "[0, 7, 8]"
      ]
     },
     "execution_count": 31,
     "metadata": {},
     "output_type": "execute_result"
    }
   ],
   "source": [
    "b.remove(9)\n",
    "b"
   ]
  }
 ],
 "metadata": {
  "hide_input": false,
  "kernelspec": {
   "display_name": "Python 3",
   "language": "python",
   "name": "python3"
  },
  "language_info": {
   "codemirror_mode": {
    "name": "ipython",
    "version": 3
   },
   "file_extension": ".py",
   "mimetype": "text/x-python",
   "name": "python",
   "nbconvert_exporter": "python",
   "pygments_lexer": "ipython3",
   "version": "3.6.9"
  },
  "toc": {
   "base_numbering": 1,
   "nav_menu": {},
   "number_sections": true,
   "sideBar": true,
   "skip_h1_title": true,
   "title_cell": "",
   "title_sidebar": "Contents",
   "toc_cell": false,
   "toc_position": {},
   "toc_section_display": true,
   "toc_window_display": false
  }
 },
 "nbformat": 4,
 "nbformat_minor": 5
}
