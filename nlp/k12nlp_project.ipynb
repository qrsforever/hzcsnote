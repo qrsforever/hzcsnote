{
 "cells": [
  {
   "cell_type": "code",
   "execution_count": null,
   "metadata": {},
   "outputs": [],
   "source": [
    "%reload_ext autoreload\n",
    "%autoreload 2"
   ]
  },
  {
   "cell_type": "code",
   "execution_count": null,
   "metadata": {},
   "outputs": [],
   "source": [
    "from k12libs.utils.nb_easy import k12ai_run_project"
   ]
  },
  {
   "cell_type": "markdown",
   "metadata": {},
   "source": [
    "### 点击Gen Project Schema后, 需等待5秒"
   ]
  },
  {
   "cell_type": "code",
   "execution_count": null,
   "metadata": {},
   "outputs": [],
   "source": [
    "project = k12ai_run_project(framework='k12nlp', lan='cn', debug=False)"
   ]
  },
  {
   "cell_type": "markdown",
   "metadata": {},
   "source": [
    "## NLP训练过程数据:\n",
    "\n",
    "```json\n",
    "{\n",
    "    \"status\": {\n",
    "        \"version\": \"0.1.0\",\n",
    "        \"type\": \"status\",\n",
    "        \"user\": \"16601548608\",\n",
    "        \"op\": \"train.start\",\n",
    "        \"service_name\": \"k12nlp\",\n",
    "        \"service_uuid\": \"2\",\n",
    "        \"timestamp\": 1580732804687,\n",
    "        \"datetime\": \"20200203202644\",\n",
    "        \"data\": {\n",
    "            \"value\": \"running\"\n",
    "        }\n",
    "    },\n",
    "    \"error\": {},\n",
    "    \"metrics\": {\n",
    "        \"version\": \"0.1.0\",\n",
    "        \"type\": \"metrics\",\n",
    "        \"user\": \"16601548608\",\n",
    "        \"op\": \"train.start\",\n",
    "        \"service_name\": \"k12nlp\",\n",
    "        \"service_uuid\": \"2\",\n",
    "        \"timestamp\": 1580732877343,\n",
    "        \"datetime\": \"20200203202757\",\n",
    "        \"data\": {\n",
    "            \"best_epoch\": 68,\n",
    "            \"peak_cpu_memory_MB\": 2408.116,\n",
    "            \"peak_gpu_0_memory_MB\": 8367,\n",
    "            \"training_duration\": \"0:00:45.526202\",\n",
    "            \"training_start_epoch\": 0,\n",
    "            \"training_epochs\": 69,\n",
    "            \"epoch\": 68,\n",
    "            \"training_accuracy\": 0.28125,\n",
    "            \"training_loss\": 1.4323854446411133,\n",
    "            \"training_cpu_memory_MB\": 2408.116,\n",
    "            \"training_gpu_0_memory_MB\": 8367,\n",
    "            \"training_iters\": 69,\n",
    "            \"training_speed\": 3.1549048294225828,\n",
    "            \"training_progress\": 0.068\n",
    "        }\n",
    "    }\n",
    "}\n",
    "```"
   ]
  },
  {
   "cell_type": "markdown",
   "metadata": {},
   "source": [
    "## NLP评估过程数据:\n",
    "\n",
    "```json\n",
    "{\n",
    "    \"status\": {\n",
    "        \"version\": \"0.1.0\",\n",
    "        \"type\": \"status\",\n",
    "        \"user\": \"16601548608\",\n",
    "        \"op\": \"evaluate.start\",\n",
    "        \"service_name\": \"k12nlp\",\n",
    "        \"service_uuid\": \"2\",\n",
    "        \"timestamp\": 1580733999381,\n",
    "        \"datetime\": \"20200203204639\",\n",
    "        \"data\": {\n",
    "            \"value\": \"exit\",\n",
    "            \"way\": \"finish\"\n",
    "        }\n",
    "    },\n",
    "    \"error\": {},\n",
    "    \"metrics\": {\n",
    "        \"version\": \"0.1.0\",\n",
    "        \"type\": \"metrics\",\n",
    "        \"user\": \"16601548608\",\n",
    "        \"op\": \"evaluate.start\",\n",
    "        \"service_name\": \"k12nlp\",\n",
    "        \"service_uuid\": \"2\",\n",
    "        \"timestamp\": 1580733999314,\n",
    "        \"datetime\": \"20200203204639\",\n",
    "        \"data\": {\n",
    "            \"evaluate_iters\": 1,\n",
    "            \"evaluate_loss\": 1.1904891729354858,\n",
    "            \"evaluate_accuracy\": 0.5,\n",
    "            \"evaluate_progress\": 1.0\n",
    "        }\n",
    "    }\n",
    "}\n",
    "```"
   ]
  },
  {
   "cell_type": "code",
   "execution_count": null,
   "metadata": {},
   "outputs": [],
   "source": []
  }
 ],
 "metadata": {
  "kernelspec": {
   "display_name": "Python 3",
   "language": "python",
   "name": "python3"
  },
  "language_info": {
   "codemirror_mode": {
    "name": "ipython",
    "version": 3
   },
   "file_extension": ".py",
   "mimetype": "text/x-python",
   "name": "python",
   "nbconvert_exporter": "python",
   "pygments_lexer": "ipython3",
   "version": "3.6.9"
  }
 },
 "nbformat": 4,
 "nbformat_minor": 4
}
