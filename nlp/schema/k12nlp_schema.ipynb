{
 "cells": [
  {
   "cell_type": "code",
   "execution_count": 1,
   "metadata": {},
   "outputs": [],
   "source": [
    "%reload_ext autoreload\n",
    "%autoreload 2"
   ]
  },
  {
   "cell_type": "code",
   "execution_count": 2,
   "metadata": {},
   "outputs": [],
   "source": [
    "from k12libs.utils.nb_easy import k12ai_print\n",
    "from k12libs.utils.nb_easy import k12ai_get_app_dir\n",
    "from k12libs.utils.nb_easy import k12ai_get_top_dir\n",
    "from k12libs.utils.nb_widget import k12ai_schema_parse\n",
    "\n",
    "import os\n",
    "import json\n",
    "import _jsonnet"
   ]
  },
  {
   "cell_type": "code",
   "execution_count": 3,
   "metadata": {},
   "outputs": [
    {
     "name": "stdout",
     "output_type": "stream",
     "text": [
      "constants  data  hypes\tk12ai_nlp.jsonnet  models  test.sh  utils\r\n"
     ]
    }
   ],
   "source": [
    "schema_dir = os.path.join(k12ai_get_top_dir(), 'nlp/app', 'templates', 'schema')\n",
    "!ls $schema_dir \n",
    "\n",
    "basic_file = os.path.join(schema_dir, 'k12ai_nlp.jsonnet')\n",
    "# !cat $basic_file\n",
    "\n",
    "basic_json = _jsonnet.evaluate_file(basic_file, ext_vars={\n",
    "    'task': 'sentiment_analysis', \n",
    "    'network': 'basic_classifier',\n",
    "    'dataset_name': 'sst'})\n",
    "# k12ai_print(basic_json, indent=2)"
   ]
  },
  {
   "cell_type": "code",
   "execution_count": 5,
   "metadata": {
    "scrolled": false
   },
   "outputs": [
    {
     "data": {
      "application/vnd.jupyter.widget-view+json": {
       "model_id": "864b192982e1452195dd136c2d82258d",
       "version_major": 2,
       "version_minor": 0
      },
      "text/plain": [
       "Box(children=(Box(children=(VBox(children=(Tab(children=(VBox(children=(HBox(children=(Text(value='sst', conti…"
      ]
     },
     "metadata": {},
     "output_type": "display_data"
    }
   ],
   "source": [
    "generator = k12ai_schema_parse(json.loads(basic_json), lan='cn', debug=False);"
   ]
  },
  {
   "cell_type": "code",
   "execution_count": 6,
   "metadata": {},
   "outputs": [
    {
     "name": "stdout",
     "output_type": "stream",
     "text": [
      "{\n",
      "    \"_k12\": {\n",
      "        \"data\": {\n",
      "            \"dataset_name\": \"sst\"\n",
      "        },\n",
      "        \"token_indexers\": {\n",
      "            \"single_id\": false\n",
      "        },\n",
      "        \"validation_dataset_reader\": {\n",
      "            \"bool\": false\n",
      "        },\n",
      "        \"validation_iterator\": {\n",
      "            \"bool\": false\n",
      "        },\n",
      "        \"model\": {\n",
      "            \"text_field_embedder\": {\n",
      "                \"token_embedders\": {\n",
      "                    \"tokens\": {\n",
      "                        \"pretrained_file\": {\n",
      "                            \"bool\": true\n",
      "                        }\n",
      "                    },\n",
      "                    \"bool\": false\n",
      "                }\n",
      "            },\n",
      "            \"encoder\": {\n",
      "                \"bool\": false\n",
      "            }\n",
      "        },\n",
      "        \"trainer\": {\n",
      "            \"type\": \"default\"\n",
      "        },\n",
      "        \"trainergrad_norm\": {\n",
      "            \"bool\": false\n",
      "        },\n",
      "        \"trainergrad_clipping\": {\n",
      "            \"bool\": false\n",
      "        },\n",
      "        \"lr_scheduler\": {\n",
      "            \"bool\": false\n",
      "        }\n",
      "    },\n",
      "    \"dataset_reader\": {\n",
      "        \"type\": \"sst_tokens\",\n",
      "        \"lazy\": true,\n",
      "        \"use_subtrees\": false,\n",
      "        \"granularity\": \"5-class\"\n",
      "    },\n",
      "    \"train_data_path\": \"/datasets/sst/train.txt\",\n",
      "    \"iterator\": {\n",
      "        \"type\": \"bucket\",\n",
      "        \"batch_size\": 32,\n",
      "        \"instances_per_epoch\": 32,\n",
      "        \"max_instances_in_memory\": 32,\n",
      "        \"cache_instances\": false,\n",
      "        \"track_epoch\": false,\n",
      "        \"sorting_keys\": [\n",
      "            [\n",
      "                \"tokens\",\n",
      "                \"num_tokens\"\n",
      "            ]\n",
      "        ],\n",
      "        \"padding_noise\": 0.1,\n",
      "        \"biggest_batch_first\": false,\n",
      "        \"skip_smaller_batches\": false\n",
      "    },\n",
      "    \"model\": {\n",
      "        \"type\": \"basic_classifier\",\n",
      "        \"text_field_embedder\": {\n",
      "            \"token_embedders\": {\n",
      "                \"tokens\": {\n",
      "                    \"type\": \"embedding\",\n",
      "                    \"embedding_dim\": 200,\n",
      "                    \"trainable\": false,\n",
      "                    \"pretrained_file\": \"/pretrained/glove/glove.6B.200d.txt.gz\"\n",
      "                }\n",
      "            }\n",
      "        },\n",
      "        \"seq2vec_encoder\": {\n",
      "            \"type\": \"lstm\",\n",
      "            \"input_size\": 200,\n",
      "            \"hidden_size\": 512,\n",
      "            \"num_layers\": 2,\n",
      "            \"dropout\": 0,\n",
      "            \"bias\": true,\n",
      "            \"batch_first\": true,\n",
      "            \"bidirectional\": false\n",
      "        }\n",
      "    },\n",
      "    \"trainer\": {\n",
      "        \"cuda_device\": 0,\n",
      "        \"num_epochs\": 20,\n",
      "        \"patience\": 10,\n",
      "        \"validation_metric\": \"-loss\",\n",
      "        \"optimizer\": {\n",
      "            \"type\": \"adam\",\n",
      "            \"betas\": [\n",
      "                0.9,\n",
      "                0.999\n",
      "            ],\n",
      "            \"eps\": 1e-08,\n",
      "            \"lr\": 0.001,\n",
      "            \"weight_decay\": 0.0\n",
      "        }\n",
      "    }\n",
      "}\n"
     ]
    }
   ],
   "source": [
    "k12ai_print(generator.get_all_json())"
   ]
  }
 ],
 "metadata": {
  "kernelspec": {
   "display_name": "Python 3",
   "language": "python",
   "name": "python3"
  },
  "language_info": {
   "codemirror_mode": {
    "name": "ipython",
    "version": 3
   },
   "file_extension": ".py",
   "mimetype": "text/x-python",
   "name": "python",
   "nbconvert_exporter": "python",
   "pygments_lexer": "ipython3",
   "version": "3.6.9"
  }
 },
 "nbformat": 4,
 "nbformat_minor": 2
}
