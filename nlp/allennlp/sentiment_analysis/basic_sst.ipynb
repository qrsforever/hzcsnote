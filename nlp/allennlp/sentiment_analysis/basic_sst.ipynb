{
 "cells": [
  {
   "cell_type": "markdown",
   "metadata": {},
   "source": [
    "\n",
    "# 环境变量"
   ]
  },
  {
   "cell_type": "code",
   "execution_count": 3,
   "metadata": {},
   "outputs": [
    {
     "name": "stdout",
     "output_type": "stream",
     "text": [
      "basic_sst.ipynb  basic_stanford_sentiment_treebank.jsonnet\r\n"
     ]
    }
   ],
   "source": [
    "!ls"
   ]
  },
  {
   "cell_type": "code",
   "execution_count": 4,
   "metadata": {
    "scrolled": true
   },
   "outputs": [
    {
     "name": "stdout",
     "output_type": "stream",
     "text": [
      "2019-11-08 07:08:39,742 - INFO - allennlp.common.registrable - instantiating registered subclass relu of <class 'allennlp.nn.activations.Activation'>\n",
      "2019-11-08 07:08:39,743 - INFO - allennlp.common.registrable - instantiating registered subclass relu of <class 'allennlp.nn.activations.Activation'>\n",
      "2019-11-08 07:08:39,744 - INFO - allennlp.common.registrable - instantiating registered subclass relu of <class 'allennlp.nn.activations.Activation'>\n",
      "2019-11-08 07:08:39,745 - INFO - allennlp.common.registrable - instantiating registered subclass relu of <class 'allennlp.nn.activations.Activation'>\n",
      "2019-11-08 07:08:39,904 - INFO - allennlp.training.util - Recovering from prior training at /data/jupyter/hzcsai_com/k12nlp/tmp/sentiment_analysis.\n",
      "2019-11-08 07:08:39,919 - INFO - allennlp.common.params - random_seed = 13370\n",
      "2019-11-08 07:08:39,920 - INFO - allennlp.common.params - numpy_seed = 1337\n",
      "2019-11-08 07:08:39,920 - INFO - allennlp.common.params - pytorch_seed = 133\n",
      "2019-11-08 07:08:39,926 - INFO - allennlp.common.checks - Pytorch version: 1.2.0.dev20190805\n",
      "2019-11-08 07:08:39,927 - INFO - allennlp.common.params - evaluate_on_test = False\n",
      "2019-11-08 07:08:39,928 - INFO - allennlp.common.from_params - instantiating class <class 'allennlp.data.dataset_readers.dataset_reader.DatasetReader'> from params {'granularity': '2-class', 'type': 'sst_tokens', 'use_subtrees': True} and extras set()\n",
      "2019-11-08 07:08:39,928 - INFO - allennlp.common.params - dataset_reader.type = sst_tokens\n",
      "2019-11-08 07:08:39,928 - INFO - allennlp.common.from_params - instantiating class <class 'allennlp.data.dataset_readers.stanford_sentiment_tree_bank.StanfordSentimentTreeBankDatasetReader'> from params {'granularity': '2-class', 'use_subtrees': True} and extras set()\n",
      "2019-11-08 07:08:39,928 - INFO - allennlp.common.params - dataset_reader.token_indexers = <allennlp.common.params.Params object at 0x7fd0de818128>\n",
      "2019-11-08 07:08:39,928 - INFO - allennlp.common.params - dataset_reader.use_subtrees = True\n",
      "2019-11-08 07:08:39,929 - INFO - allennlp.common.params - dataset_reader.granularity = 2-class\n",
      "2019-11-08 07:08:39,929 - INFO - allennlp.common.params - dataset_reader.lazy = False\n",
      "2019-11-08 07:08:39,929 - INFO - allennlp.training.util - Using a separate dataset reader to load validation and test data.\n",
      "2019-11-08 07:08:39,929 - INFO - allennlp.common.from_params - instantiating class <class 'allennlp.data.dataset_readers.dataset_reader.DatasetReader'> from params {'granularity': '2-class', 'type': 'sst_tokens', 'use_subtrees': False} and extras set()\n",
      "2019-11-08 07:08:39,929 - INFO - allennlp.common.params - validation_dataset_reader.type = sst_tokens\n",
      "2019-11-08 07:08:39,929 - INFO - allennlp.common.from_params - instantiating class <class 'allennlp.data.dataset_readers.stanford_sentiment_tree_bank.StanfordSentimentTreeBankDatasetReader'> from params {'granularity': '2-class', 'use_subtrees': False} and extras set()\n",
      "2019-11-08 07:08:39,929 - INFO - allennlp.common.params - validation_dataset_reader.token_indexers = <allennlp.common.params.Params object at 0x7fd0dd313080>\n",
      "2019-11-08 07:08:39,929 - INFO - allennlp.common.params - validation_dataset_reader.use_subtrees = False\n",
      "2019-11-08 07:08:39,929 - INFO - allennlp.common.params - validation_dataset_reader.granularity = 2-class\n",
      "2019-11-08 07:08:39,929 - INFO - allennlp.common.params - validation_dataset_reader.lazy = False\n",
      "2019-11-08 07:08:39,930 - INFO - allennlp.common.params - train_data_path = /data/datasets/nlp/sst/train.txt\n",
      "2019-11-08 07:08:39,930 - INFO - allennlp.training.util - Reading training data from /data/datasets/nlp/sst/train.txt\n",
      "0it [00:00, ?it/s]2019-11-08 07:08:39,930 - INFO - allennlp.data.dataset_readers.stanford_sentiment_tree_bank - Reading instances from lines in file at: /data/datasets/nlp/sst/train.txt\n",
      "98794it [00:08, 11834.77it/s]\n",
      "2019-11-08 07:08:48,278 - INFO - allennlp.common.params - validation_data_path = /data/datasets/nlp/sst/dev.txt\n",
      "2019-11-08 07:08:48,278 - INFO - allennlp.training.util - Reading validation data from /data/datasets/nlp/sst/dev.txt\n",
      "0it [00:00, ?it/s]2019-11-08 07:08:48,278 - INFO - allennlp.data.dataset_readers.stanford_sentiment_tree_bank - Reading instances from lines in file at: /data/datasets/nlp/sst/dev.txt\n",
      "872it [00:00, 3216.54it/s]\n",
      "2019-11-08 07:08:48,550 - INFO - allennlp.common.params - test_data_path = /data/datasets/nlp/sst/test.txt\n",
      "2019-11-08 07:08:48,550 - INFO - allennlp.training.util - Reading test data from /data/datasets/nlp/sst/test.txt\n",
      "0it [00:00, ?it/s]2019-11-08 07:08:48,550 - INFO - allennlp.data.dataset_readers.stanford_sentiment_tree_bank - Reading instances from lines in file at: /data/datasets/nlp/sst/test.txt\n",
      "1821it [00:00, 3351.09it/s]\n",
      "2019-11-08 07:08:49,349 - INFO - allennlp.training.trainer_pieces - From dataset instances, test, train, validation will be considered for vocabulary creation.\n",
      "2019-11-08 07:08:49,350 - INFO - allennlp.data.vocabulary - Loading token dictionary from /data/jupyter/hzcsai_com/k12nlp/tmp/sentiment_analysis/vocabulary.\n",
      "2019-11-08 07:08:49,373 - INFO - allennlp.common.from_params - instantiating class <class 'allennlp.models.model.Model'> from params {'seq2vec_encoder': {'batch_first': True, 'hidden_size': 512, 'input_size': 300, 'num_layers': 2, 'type': 'lstm'}, 'text_field_embedder': {'token_embedders': {'tokens': {'embedding_dim': 300, 'trainable': False, 'type': 'embedding'}}}, 'type': 'basic_classifier'} and extras {'vocab'}\n",
      "2019-11-08 07:08:49,373 - INFO - allennlp.common.params - model.type = basic_classifier\n",
      "2019-11-08 07:08:49,373 - INFO - allennlp.common.from_params - instantiating class <class 'allennlp.models.basic_classifier.BasicClassifier'> from params {'seq2vec_encoder': {'batch_first': True, 'hidden_size': 512, 'input_size': 300, 'num_layers': 2, 'type': 'lstm'}, 'text_field_embedder': {'token_embedders': {'tokens': {'embedding_dim': 300, 'trainable': False, 'type': 'embedding'}}}} and extras {'vocab'}\n",
      "2019-11-08 07:08:49,374 - INFO - allennlp.common.from_params - instantiating class <class 'allennlp.modules.text_field_embedders.text_field_embedder.TextFieldEmbedder'> from params {'token_embedders': {'tokens': {'embedding_dim': 300, 'trainable': False, 'type': 'embedding'}}} and extras {'vocab'}\n",
      "2019-11-08 07:08:49,374 - INFO - allennlp.common.params - model.text_field_embedder.type = basic\n",
      "2019-11-08 07:08:49,374 - INFO - allennlp.common.params - model.text_field_embedder.embedder_to_indexer_map = None\n",
      "2019-11-08 07:08:49,374 - INFO - allennlp.common.params - model.text_field_embedder.allow_unmatched_keys = False\n",
      "2019-11-08 07:08:49,374 - INFO - allennlp.common.from_params - instantiating class <class 'allennlp.modules.token_embedders.token_embedder.TokenEmbedder'> from params {'embedding_dim': 300, 'trainable': False, 'type': 'embedding'} and extras {'vocab'}\n",
      "2019-11-08 07:08:49,374 - INFO - allennlp.common.params - model.text_field_embedder.token_embedders.tokens.type = embedding\n",
      "2019-11-08 07:08:49,374 - INFO - allennlp.common.params - model.text_field_embedder.token_embedders.tokens.num_embeddings = None\n",
      "2019-11-08 07:08:49,375 - INFO - allennlp.common.params - model.text_field_embedder.token_embedders.tokens.vocab_namespace = tokens\n",
      "2019-11-08 07:08:49,375 - INFO - allennlp.common.params - model.text_field_embedder.token_embedders.tokens.embedding_dim = 300\n",
      "2019-11-08 07:08:49,375 - INFO - allennlp.common.params - model.text_field_embedder.token_embedders.tokens.pretrained_file = None\n",
      "2019-11-08 07:08:49,375 - INFO - allennlp.common.params - model.text_field_embedder.token_embedders.tokens.projection_dim = None\n",
      "2019-11-08 07:08:49,375 - INFO - allennlp.common.params - model.text_field_embedder.token_embedders.tokens.trainable = False\n",
      "2019-11-08 07:08:49,375 - INFO - allennlp.common.params - model.text_field_embedder.token_embedders.tokens.padding_index = None\n",
      "2019-11-08 07:08:49,375 - INFO - allennlp.common.params - model.text_field_embedder.token_embedders.tokens.max_norm = None\n",
      "2019-11-08 07:08:49,375 - INFO - allennlp.common.params - model.text_field_embedder.token_embedders.tokens.norm_type = 2.0\n",
      "2019-11-08 07:08:49,375 - INFO - allennlp.common.params - model.text_field_embedder.token_embedders.tokens.scale_grad_by_freq = False\n",
      "2019-11-08 07:08:49,375 - INFO - allennlp.common.params - model.text_field_embedder.token_embedders.tokens.sparse = False\n"
     ]
    },
    {
     "name": "stdout",
     "output_type": "stream",
     "text": [
      "2019-11-08 07:08:49,423 - INFO - allennlp.common.from_params - instantiating class <class 'allennlp.modules.seq2vec_encoders.seq2vec_encoder.Seq2VecEncoder'> from params {'batch_first': True, 'hidden_size': 512, 'input_size': 300, 'num_layers': 2, 'type': 'lstm'} and extras {'vocab'}\n",
      "2019-11-08 07:08:49,423 - INFO - allennlp.common.params - model.seq2vec_encoder.type = lstm\n",
      "2019-11-08 07:08:49,424 - INFO - allennlp.common.params - model.seq2vec_encoder.batch_first = True\n",
      "2019-11-08 07:08:49,424 - INFO - allennlp.common.params - Converting Params object to dict; logging of default values will not occur when dictionary parameters are used subsequently.\n",
      "2019-11-08 07:08:49,424 - INFO - allennlp.common.params - CURRENTLY DEFINED PARAMETERS: \n",
      "2019-11-08 07:08:49,424 - INFO - allennlp.common.params - model.seq2vec_encoder.hidden_size = 512\n",
      "2019-11-08 07:08:49,424 - INFO - allennlp.common.params - model.seq2vec_encoder.input_size = 300\n",
      "2019-11-08 07:08:49,424 - INFO - allennlp.common.params - model.seq2vec_encoder.num_layers = 2\n",
      "2019-11-08 07:08:49,424 - INFO - allennlp.common.params - model.seq2vec_encoder.batch_first = True\n",
      "2019-11-08 07:08:49,454 - INFO - allennlp.common.params - model.dropout = None\n",
      "2019-11-08 07:08:49,454 - INFO - allennlp.common.params - model.num_labels = None\n",
      "2019-11-08 07:08:49,454 - INFO - allennlp.common.params - model.label_namespace = labels\n",
      "2019-11-08 07:08:49,454 - INFO - allennlp.nn.initializers - Initializing parameters\n",
      "2019-11-08 07:08:49,455 - INFO - allennlp.nn.initializers - Done initializing parameters; the following parameters are using their default initialization from their code\n",
      "2019-11-08 07:08:49,455 - INFO - allennlp.nn.initializers -    _classification_layer.bias\n",
      "2019-11-08 07:08:49,455 - INFO - allennlp.nn.initializers -    _classification_layer.weight\n",
      "2019-11-08 07:08:49,455 - INFO - allennlp.nn.initializers -    _seq2vec_encoder._module.bias_hh_l0\n",
      "2019-11-08 07:08:49,455 - INFO - allennlp.nn.initializers -    _seq2vec_encoder._module.bias_hh_l1\n",
      "2019-11-08 07:08:49,455 - INFO - allennlp.nn.initializers -    _seq2vec_encoder._module.bias_ih_l0\n",
      "2019-11-08 07:08:49,455 - INFO - allennlp.nn.initializers -    _seq2vec_encoder._module.bias_ih_l1\n",
      "2019-11-08 07:08:49,455 - INFO - allennlp.nn.initializers -    _seq2vec_encoder._module.weight_hh_l0\n",
      "2019-11-08 07:08:49,455 - INFO - allennlp.nn.initializers -    _seq2vec_encoder._module.weight_hh_l1\n",
      "2019-11-08 07:08:49,455 - INFO - allennlp.nn.initializers -    _seq2vec_encoder._module.weight_ih_l0\n",
      "2019-11-08 07:08:49,455 - INFO - allennlp.nn.initializers -    _seq2vec_encoder._module.weight_ih_l1\n",
      "2019-11-08 07:08:49,455 - INFO - allennlp.nn.initializers -    _text_field_embedder.token_embedder_tokens.weight\n",
      "2019-11-08 07:08:49,456 - WARNING - root - vocabulary serialization directory /data/jupyter/hzcsai_com/k12nlp/tmp/sentiment_analysis/vocabulary is not empty\n",
      "2019-11-08 07:08:49,523 - INFO - allennlp.common.from_params - instantiating class <class 'allennlp.data.iterators.data_iterator.DataIterator'> from params {'batch_size': 32, 'sorting_keys': [['tokens', 'num_tokens']], 'type': 'bucket'} and extras set()\n",
      "2019-11-08 07:08:49,523 - INFO - allennlp.common.params - iterator.type = bucket\n",
      "2019-11-08 07:08:49,524 - INFO - allennlp.common.from_params - instantiating class <class 'allennlp.data.iterators.bucket_iterator.BucketIterator'> from params {'batch_size': 32, 'sorting_keys': [['tokens', 'num_tokens']]} and extras set()\n",
      "2019-11-08 07:08:49,524 - INFO - allennlp.common.params - iterator.sorting_keys = [['tokens', 'num_tokens']]\n",
      "2019-11-08 07:08:49,524 - INFO - allennlp.common.params - iterator.padding_noise = 0.1\n",
      "2019-11-08 07:08:49,524 - INFO - allennlp.common.params - iterator.biggest_batch_first = False\n",
      "2019-11-08 07:08:49,524 - INFO - allennlp.common.params - iterator.batch_size = 32\n",
      "2019-11-08 07:08:49,524 - INFO - allennlp.common.params - iterator.instances_per_epoch = None\n",
      "2019-11-08 07:08:49,524 - INFO - allennlp.common.params - iterator.max_instances_in_memory = None\n",
      "2019-11-08 07:08:49,524 - INFO - allennlp.common.params - iterator.cache_instances = False\n",
      "2019-11-08 07:08:49,524 - INFO - allennlp.common.params - iterator.track_epoch = False\n",
      "2019-11-08 07:08:49,524 - INFO - allennlp.common.params - iterator.maximum_samples_per_batch = None\n",
      "2019-11-08 07:08:49,525 - INFO - allennlp.common.params - iterator.skip_smaller_batches = False\n",
      "2019-11-08 07:08:49,525 - INFO - allennlp.common.params - validation_iterator = None\n",
      "2019-11-08 07:08:49,525 - INFO - allennlp.common.params - trainer.no_grad = ()\n",
      "2019-11-08 07:08:49,525 - INFO - allennlp.training.trainer_pieces - Following parameters are Frozen  (without gradient):\n",
      "2019-11-08 07:08:49,525 - INFO - allennlp.training.trainer_pieces - _text_field_embedder.token_embedder_tokens.weight\n",
      "2019-11-08 07:08:49,525 - INFO - allennlp.training.trainer_pieces - Following parameters are Tunable (with gradient):\n",
      "2019-11-08 07:08:49,525 - INFO - allennlp.training.trainer_pieces - _seq2vec_encoder._module.weight_ih_l0\n",
      "2019-11-08 07:08:49,525 - INFO - allennlp.training.trainer_pieces - _seq2vec_encoder._module.weight_hh_l0\n",
      "2019-11-08 07:08:49,525 - INFO - allennlp.training.trainer_pieces - _seq2vec_encoder._module.bias_ih_l0\n",
      "2019-11-08 07:08:49,525 - INFO - allennlp.training.trainer_pieces - _seq2vec_encoder._module.bias_hh_l0\n",
      "2019-11-08 07:08:49,525 - INFO - allennlp.training.trainer_pieces - _seq2vec_encoder._module.weight_ih_l1\n",
      "2019-11-08 07:08:49,525 - INFO - allennlp.training.trainer_pieces - _seq2vec_encoder._module.weight_hh_l1\n",
      "2019-11-08 07:08:49,525 - INFO - allennlp.training.trainer_pieces - _seq2vec_encoder._module.bias_ih_l1\n",
      "2019-11-08 07:08:49,526 - INFO - allennlp.training.trainer_pieces - _seq2vec_encoder._module.bias_hh_l1\n",
      "2019-11-08 07:08:49,526 - INFO - allennlp.training.trainer_pieces - _classification_layer.weight\n",
      "2019-11-08 07:08:49,526 - INFO - allennlp.training.trainer_pieces - _classification_layer.bias\n",
      "2019-11-08 07:08:49,526 - INFO - allennlp.common.params - trainer.patience = 1\n",
      "2019-11-08 07:08:49,526 - INFO - allennlp.common.params - trainer.validation_metric = +accuracy\n",
      "2019-11-08 07:08:49,526 - INFO - allennlp.common.params - trainer.shuffle = True\n",
      "2019-11-08 07:08:49,526 - INFO - allennlp.common.params - trainer.num_epochs = 5\n",
      "2019-11-08 07:08:49,526 - INFO - allennlp.common.params - trainer.cuda_device = 0\n",
      "2019-11-08 07:08:49,526 - INFO - allennlp.common.params - trainer.grad_norm = 5\n",
      "2019-11-08 07:08:49,526 - INFO - allennlp.common.params - trainer.grad_clipping = None\n",
      "2019-11-08 07:08:49,526 - INFO - allennlp.common.params - trainer.learning_rate_scheduler = None\n",
      "2019-11-08 07:08:49,526 - INFO - allennlp.common.params - trainer.momentum_scheduler = None\n",
      "2019-11-08 07:08:57,061 - INFO - allennlp.common.params - trainer.optimizer.type = adam\n",
      "2019-11-08 07:08:57,061 - INFO - allennlp.common.params - trainer.optimizer.parameter_groups = None\n",
      "2019-11-08 07:08:57,061 - INFO - allennlp.training.optimizers - Number of trainable parameters: 3769346\n",
      "2019-11-08 07:08:57,064 - INFO - allennlp.common.params - trainer.optimizer.infer_type_and_cast = True\n",
      "2019-11-08 07:08:57,064 - INFO - allennlp.common.params - Converting Params object to dict; logging of default values will not occur when dictionary parameters are used subsequently.\n",
      "2019-11-08 07:08:57,064 - INFO - allennlp.common.params - CURRENTLY DEFINED PARAMETERS: \n",
      "2019-11-08 07:08:57,065 - INFO - allennlp.common.params - trainer.optimizer.lr = 0.001\n",
      "2019-11-08 07:08:57,065 - INFO - allennlp.common.registrable - instantiating registered subclass adam of <class 'allennlp.training.optimizers.Optimizer'>\n",
      "2019-11-08 07:08:57,066 - INFO - allennlp.common.params - trainer.num_serialized_models_to_keep = 20\n",
      "2019-11-08 07:08:57,066 - INFO - allennlp.common.params - trainer.keep_serialized_model_every_num_seconds = None\n",
      "2019-11-08 07:08:57,066 - INFO - allennlp.common.params - trainer.model_save_interval = None\n",
      "2019-11-08 07:08:57,066 - INFO - allennlp.common.params - trainer.summary_interval = 100\n",
      "2019-11-08 07:08:57,067 - INFO - allennlp.common.params - trainer.histogram_interval = None\n",
      "2019-11-08 07:08:57,067 - INFO - allennlp.common.params - trainer.should_log_parameter_statistics = True\n",
      "2019-11-08 07:08:57,067 - INFO - allennlp.common.params - trainer.should_log_learning_rate = False\n",
      "2019-11-08 07:08:57,067 - INFO - allennlp.common.params - trainer.log_batch_size_period = None\n"
     ]
    },
    {
     "name": "stdout",
     "output_type": "stream",
     "text": [
      "2019-11-08 07:08:57,600 - INFO - allennlp.training.trainer - Beginning training.\n",
      "2019-11-08 07:08:57,600 - INFO - allennlp.training.trainer - Epoch 3/4\n",
      "2019-11-08 07:08:57,601 - INFO - allennlp.training.trainer - Peak CPU memory usage MB: 2742.224\n",
      "2019-11-08 07:08:57,783 - INFO - allennlp.training.trainer - GPU 0 memory usage MB: 1250\n",
      "2019-11-08 07:08:57,784 - INFO - allennlp.training.trainer - Training\n",
      "accuracy: 0.7883, loss: 0.4407 ||: 100%|##########| 3088/3088 [00:33<00:00, 93.56it/s] \n",
      "2019-11-08 07:09:30,792 - INFO - allennlp.training.trainer - Validating\n",
      "accuracy: 0.7110, loss: 0.6099 ||: 100%|##########| 28/28 [00:00<00:00, 136.68it/s]\n",
      "2019-11-08 07:09:30,998 - INFO - allennlp.training.tensorboard_writer -                     Training |  Validation\n",
      "2019-11-08 07:09:30,998 - INFO - allennlp.training.tensorboard_writer - loss            |     0.441  |     0.610\n",
      "2019-11-08 07:09:30,999 - INFO - allennlp.training.tensorboard_writer - cpu_memory_MB   |  2742.224  |       N/A\n",
      "2019-11-08 07:09:31,000 - INFO - allennlp.training.tensorboard_writer - gpu_0_memory_MB |  1250.000  |       N/A\n",
      "2019-11-08 07:09:31,001 - INFO - allennlp.training.tensorboard_writer - accuracy        |     0.788  |     0.711\n",
      "2019-11-08 07:09:31,196 - INFO - allennlp.training.checkpointer - Best validation performance so far. Copying weights to '/data/jupyter/hzcsai_com/k12nlp/tmp/sentiment_analysis/best.th'.\n",
      "2019-11-08 07:09:31,929 - INFO - allennlp.training.trainer - Epoch duration: 0:00:34.328343\n",
      "2019-11-08 07:09:31,931 - INFO - allennlp.training.trainer - Estimated training time remaining: 0:00:34\n",
      "2019-11-08 07:09:31,931 - INFO - allennlp.training.trainer - Epoch 4/4\n",
      "2019-11-08 07:09:31,931 - INFO - allennlp.training.trainer - Peak CPU memory usage MB: 2769.384\n",
      "2019-11-08 07:09:32,163 - INFO - allennlp.training.trainer - GPU 0 memory usage MB: 1436\n",
      "2019-11-08 07:09:32,165 - INFO - allennlp.training.trainer - Training\n",
      "accuracy: 0.8158, loss: 0.3974 ||: 100%|##########| 3088/3088 [00:30<00:00, 100.69it/s]\n",
      "2019-11-08 07:10:02,833 - INFO - allennlp.training.trainer - Validating\n",
      "accuracy: 0.6950, loss: 0.6312 ||: 100%|##########| 28/28 [00:00<00:00, 163.65it/s]\n",
      "2019-11-08 07:10:03,005 - INFO - allennlp.training.trainer - Ran out of patience.  Stopping training.\n",
      "2019-11-08 07:10:03,005 - INFO - allennlp.training.checkpointer - loading best weights\n",
      "2019-11-08 07:10:03,131 - INFO - allennlp.commands.train - To evaluate on the test set after training, pass the 'evaluate_on_test' flag, or use the 'allennlp evaluate' command.\n",
      "2019-11-08 07:10:03,131 - INFO - allennlp.models.archival - archiving weights and vocabulary to /data/jupyter/hzcsai_com/k12nlp/tmp/sentiment_analysis/model.tar.gz\n",
      "2019-11-08 07:10:05,416 - INFO - allennlp.common.util - Metrics: {\n",
      "  \"best_epoch\": 3,\n",
      "  \"best_validation_accuracy\": 0.7110091743119266,\n",
      "  \"best_validation_loss\": 0.6099150595920426,\n",
      "  \"peak_cpu_memory_MB\": 2769.384,\n",
      "  \"peak_gpu_0_memory_MB\": 1436,\n",
      "  \"training_duration\": \"0:00:33.400692\",\n",
      "  \"training_start_epoch\": 3,\n",
      "  \"training_epochs\": 0,\n",
      "  \"epoch\": 3,\n",
      "  \"training_accuracy\": 0.7883373484219689,\n",
      "  \"training_loss\": 0.4406593834952369,\n",
      "  \"training_cpu_memory_MB\": 2742.224,\n",
      "  \"training_gpu_0_memory_MB\": 1250,\n",
      "  \"validation_accuracy\": 0.7110091743119266,\n",
      "  \"validation_loss\": 0.6099150595920426\n",
      "}\n"
     ]
    }
   ],
   "source": [
    "!allennlp train basic_stanford_sentiment_treebank.jsonnet --recover -s /notebook/tmp/sentiment_analysis"
   ]
  },
  {
   "cell_type": "code",
   "execution_count": 5,
   "metadata": {
    "scrolled": true
   },
   "outputs": [
    {
     "name": "stdout",
     "output_type": "stream",
     "text": [
      "2019-11-08 07:10:15,100 - INFO - allennlp.common.registrable - instantiating registered subclass relu of <class 'allennlp.nn.activations.Activation'>\n",
      "2019-11-08 07:10:15,104 - INFO - allennlp.common.registrable - instantiating registered subclass relu of <class 'allennlp.nn.activations.Activation'>\n",
      "2019-11-08 07:10:15,105 - INFO - allennlp.common.registrable - instantiating registered subclass relu of <class 'allennlp.nn.activations.Activation'>\n",
      "2019-11-08 07:10:15,107 - INFO - allennlp.common.registrable - instantiating registered subclass relu of <class 'allennlp.nn.activations.Activation'>\n",
      "2019-11-08 07:10:15,418 - INFO - allennlp.models.archival - loading archive file /data/jupyter/hzcsai_com/k12nlp/tmp/sentiment_analysis/model.tar.gz\n",
      "2019-11-08 07:10:15,430 - INFO - allennlp.models.archival - extracting archive file /data/jupyter/hzcsai_com/k12nlp/tmp/sentiment_analysis/model.tar.gz to temp dir /tmp/tmpl3x0w7c0\n",
      "2019-11-08 07:10:15,831 - INFO - allennlp.common.registrable - instantiating registered subclass basic_classifier of <class 'allennlp.models.model.Model'>\n",
      "2019-11-08 07:10:15,831 - INFO - allennlp.common.registrable - instantiating registered subclass default of <class 'allennlp.data.vocabulary.Vocabulary'>\n",
      "2019-11-08 07:10:15,831 - INFO - allennlp.data.vocabulary - Loading token dictionary from /tmp/tmpl3x0w7c0/vocabulary.\n",
      "2019-11-08 07:10:15,856 - INFO - allennlp.common.from_params - instantiating class <class 'allennlp.models.model.Model'> from params {'seq2vec_encoder': {'batch_first': True, 'hidden_size': 512, 'input_size': 300, 'num_layers': 2, 'type': 'lstm'}, 'text_field_embedder': {'token_embedders': {'tokens': {'embedding_dim': 300, 'trainable': False, 'type': 'embedding'}}}, 'type': 'basic_classifier'} and extras {'vocab'}\n",
      "2019-11-08 07:10:15,856 - INFO - allennlp.common.from_params - instantiating class <class 'allennlp.models.basic_classifier.BasicClassifier'> from params {'seq2vec_encoder': {'batch_first': True, 'hidden_size': 512, 'input_size': 300, 'num_layers': 2, 'type': 'lstm'}, 'text_field_embedder': {'token_embedders': {'tokens': {'embedding_dim': 300, 'trainable': False, 'type': 'embedding'}}}} and extras {'vocab'}\n",
      "2019-11-08 07:10:15,857 - INFO - allennlp.common.from_params - instantiating class <class 'allennlp.modules.text_field_embedders.text_field_embedder.TextFieldEmbedder'> from params {'token_embedders': {'tokens': {'embedding_dim': 300, 'trainable': False, 'type': 'embedding'}}} and extras {'vocab'}\n",
      "2019-11-08 07:10:15,857 - INFO - allennlp.common.from_params - instantiating class <class 'allennlp.modules.token_embedders.token_embedder.TokenEmbedder'> from params {'embedding_dim': 300, 'trainable': False, 'type': 'embedding'} and extras {'vocab'}\n",
      "2019-11-08 07:10:15,917 - INFO - allennlp.common.from_params - instantiating class <class 'allennlp.modules.seq2vec_encoders.seq2vec_encoder.Seq2VecEncoder'> from params {'batch_first': True, 'hidden_size': 512, 'input_size': 300, 'num_layers': 2, 'type': 'lstm'} and extras {'vocab'}\n",
      "2019-11-08 07:10:16,020 - INFO - allennlp.common.checks - Pytorch version: 1.2.0.dev20190805\n",
      "2019-11-08 07:10:16,020 - INFO - allennlp.common.from_params - instantiating class <class 'allennlp.data.dataset_readers.dataset_reader.DatasetReader'> from params {'granularity': '2-class', 'type': 'sst_tokens', 'use_subtrees': False} and extras set()\n",
      "2019-11-08 07:10:16,021 - INFO - allennlp.common.from_params - instantiating class <class 'allennlp.data.dataset_readers.stanford_sentiment_tree_bank.StanfordSentimentTreeBankDatasetReader'> from params {'granularity': '2-class', 'use_subtrees': False} and extras set()\n",
      "2019-11-08 07:10:16,021 - INFO - allennlp.commands.evaluate - Reading evaluation data from /data/datasets/nlp/sst/test.txt\n",
      "0it [00:00, ?it/s]2019-11-08 07:10:16,027 - INFO - allennlp.data.dataset_readers.stanford_sentiment_tree_bank - Reading instances from lines in file at: /data/datasets/nlp/sst/test.txt\n",
      "1821it [00:00, 3225.37it/s]\n",
      "2019-11-08 07:10:16,587 - INFO - allennlp.common.from_params - instantiating class <class 'allennlp.data.iterators.data_iterator.DataIterator'> from params {'batch_size': 32, 'sorting_keys': [['tokens', 'num_tokens']], 'type': 'bucket'} and extras set()\n",
      "2019-11-08 07:10:16,587 - INFO - allennlp.common.from_params - instantiating class <class 'allennlp.data.iterators.bucket_iterator.BucketIterator'> from params {'batch_size': 32, 'sorting_keys': [['tokens', 'num_tokens']]} and extras set()\n",
      "2019-11-08 07:10:16,588 - INFO - allennlp.training.util - Iterating over dataset\n",
      "accuracy: 0.68, loss: 0.68 ||: 100%|████████████| 57/57 [00:03<00:00, 18.16it/s]\n",
      "2019-11-08 07:10:19,727 - INFO - allennlp.commands.evaluate - Finished evaluating.\n",
      "2019-11-08 07:10:19,727 - INFO - allennlp.commands.evaluate - Metrics:\n",
      "2019-11-08 07:10:19,727 - INFO - allennlp.commands.evaluate - accuracy: 0.6781987918725975\n",
      "2019-11-08 07:10:19,727 - INFO - allennlp.commands.evaluate - loss: 0.675713789044765\n",
      "2019-11-08 07:10:19,737 - INFO - allennlp.models.archival - removing temporary unarchived model dir at /tmp/tmpl3x0w7c0\n"
     ]
    }
   ],
   "source": [
    "!allennlp evaluate /notebook/tmp/sentiment_analysis/model.tar.gz /datasets/sst/test.txt"
   ]
  },
  {
   "cell_type": "code",
   "execution_count": 6,
   "metadata": {
    "scrolled": true
   },
   "outputs": [
    {
     "name": "stdout",
     "output_type": "stream",
     "text": [
      "2019-11-08 07:10:22,824 - INFO - allennlp.common.registrable - instantiating registered subclass relu of <class 'allennlp.nn.activations.Activation'>\n",
      "2019-11-08 07:10:22,825 - INFO - allennlp.common.registrable - instantiating registered subclass relu of <class 'allennlp.nn.activations.Activation'>\n",
      "2019-11-08 07:10:22,826 - INFO - allennlp.common.registrable - instantiating registered subclass relu of <class 'allennlp.nn.activations.Activation'>\n",
      "2019-11-08 07:10:22,826 - INFO - allennlp.common.registrable - instantiating registered subclass relu of <class 'allennlp.nn.activations.Activation'>\n",
      "2019-11-08 07:10:22,963 - INFO - allennlp.models.archival - loading archive file /data/jupyter/hzcsai_com/k12nlp/tmp/sentiment_analysis/model.tar.gz\n",
      "2019-11-08 07:10:22,964 - INFO - allennlp.models.archival - extracting archive file /data/jupyter/hzcsai_com/k12nlp/tmp/sentiment_analysis/model.tar.gz to temp dir /tmp/tmpzzbnvur2\n",
      "2019-11-08 07:10:23,348 - INFO - allennlp.common.registrable - instantiating registered subclass basic_classifier of <class 'allennlp.models.model.Model'>\n",
      "2019-11-08 07:10:23,348 - INFO - allennlp.common.params - type = default\n",
      "2019-11-08 07:10:23,348 - INFO - allennlp.common.registrable - instantiating registered subclass default of <class 'allennlp.data.vocabulary.Vocabulary'>\n",
      "2019-11-08 07:10:23,348 - INFO - allennlp.data.vocabulary - Loading token dictionary from /tmp/tmpzzbnvur2/vocabulary.\n",
      "2019-11-08 07:10:23,373 - INFO - allennlp.common.from_params - instantiating class <class 'allennlp.models.model.Model'> from params {'seq2vec_encoder': {'batch_first': True, 'hidden_size': 512, 'input_size': 300, 'num_layers': 2, 'type': 'lstm'}, 'text_field_embedder': {'token_embedders': {'tokens': {'embedding_dim': 300, 'trainable': False, 'type': 'embedding'}}}, 'type': 'basic_classifier'} and extras {'vocab'}\n",
      "2019-11-08 07:10:23,373 - INFO - allennlp.common.params - model.type = basic_classifier\n",
      "2019-11-08 07:10:23,373 - INFO - allennlp.common.from_params - instantiating class <class 'allennlp.models.basic_classifier.BasicClassifier'> from params {'seq2vec_encoder': {'batch_first': True, 'hidden_size': 512, 'input_size': 300, 'num_layers': 2, 'type': 'lstm'}, 'text_field_embedder': {'token_embedders': {'tokens': {'embedding_dim': 300, 'trainable': False, 'type': 'embedding'}}}} and extras {'vocab'}\n",
      "2019-11-08 07:10:23,374 - INFO - allennlp.common.from_params - instantiating class <class 'allennlp.modules.text_field_embedders.text_field_embedder.TextFieldEmbedder'> from params {'token_embedders': {'tokens': {'embedding_dim': 300, 'trainable': False, 'type': 'embedding'}}} and extras {'vocab'}\n",
      "2019-11-08 07:10:23,374 - INFO - allennlp.common.params - model.text_field_embedder.type = basic\n",
      "2019-11-08 07:10:23,374 - INFO - allennlp.common.params - model.text_field_embedder.embedder_to_indexer_map = None\n",
      "2019-11-08 07:10:23,374 - INFO - allennlp.common.params - model.text_field_embedder.allow_unmatched_keys = False\n",
      "2019-11-08 07:10:23,374 - INFO - allennlp.common.from_params - instantiating class <class 'allennlp.modules.token_embedders.token_embedder.TokenEmbedder'> from params {'embedding_dim': 300, 'trainable': False, 'type': 'embedding'} and extras {'vocab'}\n",
      "2019-11-08 07:10:23,374 - INFO - allennlp.common.params - model.text_field_embedder.token_embedders.tokens.type = embedding\n",
      "2019-11-08 07:10:23,374 - INFO - allennlp.common.params - model.text_field_embedder.token_embedders.tokens.num_embeddings = None\n",
      "2019-11-08 07:10:23,374 - INFO - allennlp.common.params - model.text_field_embedder.token_embedders.tokens.vocab_namespace = tokens\n",
      "2019-11-08 07:10:23,374 - INFO - allennlp.common.params - model.text_field_embedder.token_embedders.tokens.embedding_dim = 300\n",
      "2019-11-08 07:10:23,374 - INFO - allennlp.common.params - model.text_field_embedder.token_embedders.tokens.pretrained_file = None\n",
      "2019-11-08 07:10:23,374 - INFO - allennlp.common.params - model.text_field_embedder.token_embedders.tokens.projection_dim = None\n",
      "2019-11-08 07:10:23,374 - INFO - allennlp.common.params - model.text_field_embedder.token_embedders.tokens.trainable = False\n",
      "2019-11-08 07:10:23,374 - INFO - allennlp.common.params - model.text_field_embedder.token_embedders.tokens.padding_index = None\n",
      "2019-11-08 07:10:23,375 - INFO - allennlp.common.params - model.text_field_embedder.token_embedders.tokens.max_norm = None\n",
      "2019-11-08 07:10:23,375 - INFO - allennlp.common.params - model.text_field_embedder.token_embedders.tokens.norm_type = 2.0\n",
      "2019-11-08 07:10:23,375 - INFO - allennlp.common.params - model.text_field_embedder.token_embedders.tokens.scale_grad_by_freq = False\n",
      "2019-11-08 07:10:23,375 - INFO - allennlp.common.params - model.text_field_embedder.token_embedders.tokens.sparse = False\n",
      "2019-11-08 07:10:23,422 - INFO - allennlp.common.from_params - instantiating class <class 'allennlp.modules.seq2vec_encoders.seq2vec_encoder.Seq2VecEncoder'> from params {'batch_first': True, 'hidden_size': 512, 'input_size': 300, 'num_layers': 2, 'type': 'lstm'} and extras {'vocab'}\n",
      "2019-11-08 07:10:23,422 - INFO - allennlp.common.params - model.seq2vec_encoder.type = lstm\n",
      "2019-11-08 07:10:23,422 - INFO - allennlp.common.params - model.seq2vec_encoder.batch_first = True\n",
      "2019-11-08 07:10:23,422 - INFO - allennlp.common.params - Converting Params object to dict; logging of default values will not occur when dictionary parameters are used subsequently.\n",
      "2019-11-08 07:10:23,422 - INFO - allennlp.common.params - CURRENTLY DEFINED PARAMETERS: \n",
      "2019-11-08 07:10:23,423 - INFO - allennlp.common.params - model.seq2vec_encoder.hidden_size = 512\n",
      "2019-11-08 07:10:23,423 - INFO - allennlp.common.params - model.seq2vec_encoder.input_size = 300\n",
      "2019-11-08 07:10:23,423 - INFO - allennlp.common.params - model.seq2vec_encoder.num_layers = 2\n",
      "2019-11-08 07:10:23,423 - INFO - allennlp.common.params - model.seq2vec_encoder.batch_first = True\n",
      "2019-11-08 07:10:23,451 - INFO - allennlp.common.params - model.dropout = None\n",
      "2019-11-08 07:10:23,452 - INFO - allennlp.common.params - model.num_labels = None\n",
      "2019-11-08 07:10:23,452 - INFO - allennlp.common.params - model.label_namespace = labels\n",
      "2019-11-08 07:10:23,452 - INFO - allennlp.nn.initializers - Initializing parameters\n",
      "2019-11-08 07:10:23,452 - INFO - allennlp.nn.initializers - Done initializing parameters; the following parameters are using their default initialization from their code\n",
      "2019-11-08 07:10:23,452 - INFO - allennlp.nn.initializers -    _classification_layer.bias\n",
      "2019-11-08 07:10:23,452 - INFO - allennlp.nn.initializers -    _classification_layer.weight\n",
      "2019-11-08 07:10:23,452 - INFO - allennlp.nn.initializers -    _seq2vec_encoder._module.bias_hh_l0\n",
      "2019-11-08 07:10:23,452 - INFO - allennlp.nn.initializers -    _seq2vec_encoder._module.bias_hh_l1\n",
      "2019-11-08 07:10:23,453 - INFO - allennlp.nn.initializers -    _seq2vec_encoder._module.bias_ih_l0\n",
      "2019-11-08 07:10:23,453 - INFO - allennlp.nn.initializers -    _seq2vec_encoder._module.bias_ih_l1\n",
      "2019-11-08 07:10:23,453 - INFO - allennlp.nn.initializers -    _seq2vec_encoder._module.weight_hh_l0\n",
      "2019-11-08 07:10:23,453 - INFO - allennlp.nn.initializers -    _seq2vec_encoder._module.weight_hh_l1\n",
      "2019-11-08 07:10:23,453 - INFO - allennlp.nn.initializers -    _seq2vec_encoder._module.weight_ih_l0\n",
      "2019-11-08 07:10:23,453 - INFO - allennlp.nn.initializers -    _seq2vec_encoder._module.weight_ih_l1\n",
      "2019-11-08 07:10:23,453 - INFO - allennlp.nn.initializers -    _text_field_embedder.token_embedder_tokens.weight\n",
      "2019-11-08 07:10:23,493 - INFO - allennlp.common.from_params - instantiating class <class 'allennlp.data.dataset_readers.dataset_reader.DatasetReader'> from params {'granularity': '2-class', 'type': 'sst_tokens', 'use_subtrees': False} and extras set()\n",
      "2019-11-08 07:10:23,494 - INFO - allennlp.common.params - validation_dataset_reader.type = sst_tokens\n",
      "2019-11-08 07:10:23,494 - INFO - allennlp.common.from_params - instantiating class <class 'allennlp.data.dataset_readers.stanford_sentiment_tree_bank.StanfordSentimentTreeBankDatasetReader'> from params {'granularity': '2-class', 'use_subtrees': False} and extras set()\n",
      "2019-11-08 07:10:23,494 - INFO - allennlp.common.params - validation_dataset_reader.token_indexers = <allennlp.common.params.Params object at 0x7ff75b9a9390>\n",
      "2019-11-08 07:10:23,494 - INFO - allennlp.common.params - validation_dataset_reader.use_subtrees = False\n",
      "2019-11-08 07:10:23,494 - INFO - allennlp.common.params - validation_dataset_reader.granularity = 2-class\n",
      "2019-11-08 07:10:23,495 - INFO - allennlp.common.params - validation_dataset_reader.lazy = False\n",
      "2019-11-08 07:10:23,495 - INFO - allennlp.common.registrable - instantiating registered subclass text_classifier of <class 'allennlp.predictors.predictor.Predictor'>\n"
     ]
    },
    {
     "name": "stdout",
     "output_type": "stream",
     "text": [
      "input 0:  {\"sentence\": \"a very well-made, funny and entertaining picture.\"}\r\n",
      "prediction:  {\"logits\": [2.985461473464966, -2.8835363388061523], \"probs\": [0.9971822500228882, 0.002817742293700576], \"label\": \"1\"}\r\n",
      "\r\n",
      "2019-11-08 07:10:23,805 - INFO - allennlp.models.archival - removing temporary unarchived model dir at /tmp/tmpzzbnvur2\r\n"
     ]
    }
   ],
   "source": [
    "!echo '{\"sentence\": \"a very well-made, funny and entertaining picture.\"}' | \\\n",
    "    allennlp predict /notebook/tmp/sentiment_analysis/model.tar.gz -"
   ]
  },
  {
   "cell_type": "code",
   "execution_count": 7,
   "metadata": {},
   "outputs": [
    {
     "data": {
      "text/plain": [
       "{'logits': [2.985461473464966, -2.8835363388061523],\n",
       " 'probs': [0.9971822500228882, 0.002817742293700576],\n",
       " 'label': '1'}"
      ]
     },
     "execution_count": 7,
     "metadata": {},
     "output_type": "execute_result"
    }
   ],
   "source": [
    "from allennlp.predictors.predictor import Predictor\n",
    "predictor = Predictor.from_path('/notebook/tmp/sentiment_analysis/model.tar.gz'))\n",
    "predictor.predict(\n",
    "  sentence=\"a very well-made, funny and entertaining picture.\"\n",
    ")"
   ]
  }
 ],
 "metadata": {
  "kernelspec": {
   "display_name": "Python 3",
   "language": "python",
   "name": "python3"
  },
  "language_info": {
   "codemirror_mode": {
    "name": "ipython",
    "version": 3
   },
   "file_extension": ".py",
   "mimetype": "text/x-python",
   "name": "python",
   "nbconvert_exporter": "python",
   "pygments_lexer": "ipython3",
   "version": "3.6.8"
  }
 },
 "nbformat": 4,
 "nbformat_minor": 2
}
