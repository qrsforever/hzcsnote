{
 "cells": [
  {
   "cell_type": "code",
   "execution_count": 1,
   "metadata": {},
   "outputs": [
    {
     "data": {
      "text/plain": [
       "<torch._C.Generator at 0x7fbe5006e550>"
      ]
     },
     "execution_count": 1,
     "metadata": {},
     "output_type": "execute_result"
    }
   ],
   "source": [
    "from typing import Iterator, List, Dict\n",
    "\n",
    "import os, shutil\n",
    "import torch\n",
    "import torch.optim as optim\n",
    "import numpy as np\n",
    "\n",
    "from allennlp.data import Instance\n",
    "from allennlp.data.fields import TextField, SequenceLabelField\n",
    "\n",
    "from allennlp.data.dataset_readers import DatasetReader\n",
    "\n",
    "from allennlp.common.file_utils import cached_path\n",
    "\n",
    "from allennlp.data.token_indexers import TokenIndexer, SingleIdTokenIndexer\n",
    "from allennlp.data.tokenizers import Token\n",
    "\n",
    "from allennlp.data.vocabulary import Vocabulary\n",
    "\n",
    "from allennlp.models import Model\n",
    "\n",
    "from allennlp.modules.text_field_embedders import TextFieldEmbedder, BasicTextFieldEmbedder\n",
    "from allennlp.modules.token_embedders import Embedding\n",
    "from allennlp.modules.seq2seq_encoders import Seq2SeqEncoder, PytorchSeq2SeqWrapper\n",
    "from allennlp.nn.util import get_text_field_mask, sequence_cross_entropy_with_logits\n",
    "\n",
    "from allennlp.training.metrics import CategoricalAccuracy\n",
    "\n",
    "from allennlp.data.iterators import BucketIterator\n",
    "\n",
    "from allennlp.training.trainer import Trainer\n",
    "\n",
    "from allennlp.predictors import SentenceTaggerPredictor\n",
    "\n",
    "torch.manual_seed(1)"
   ]
  },
  {
   "cell_type": "markdown",
   "metadata": {},
   "source": [
    "# 数据集"
   ]
  },
  {
   "cell_type": "code",
   "execution_count": 3,
   "metadata": {},
   "outputs": [],
   "source": [
    "class PosDatasetReader(DatasetReader):\n",
    "    \"\"\"\n",
    "    DatasetReader for PoS tagging data, one sentence per line, like\n",
    "\n",
    "        The###DET dog###NN ate###V the###DET apple###NN\n",
    "    \"\"\"\n",
    "\n",
    "    def __init__(self, token_indexers: Dict[str, TokenIndexer] = None) -> None:\n",
    "        super().__init__(lazy=False)\n",
    "        self.token_indexers = token_indexers or {\"tokens\": SingleIdTokenIndexer()}\n",
    "\n",
    "    def text_to_instance(self, tokens: List[Token], tags: List[str] = None) -> Instance:\n",
    "        # TODO TextField\n",
    "        sentence_field = TextField(tokens, self.token_indexers)\n",
    "        print(sentence_field)\n",
    "        fields = {\"sentence\": sentence_field}\n",
    "\n",
    "        if tags:\n",
    "            # TODO SequenceLabelField\n",
    "            label_field = SequenceLabelField(labels=tags, sequence_field=sentence_field)\n",
    "            print(label_field)\n",
    "            fields[\"labels\"] = label_field\n",
    "\n",
    "        return Instance(fields)\n",
    "\n",
    "    def _read(self, file_path: str) -> Iterator[Instance]:\n",
    "        with open(file_path) as f:\n",
    "            for line in f:\n",
    "                pairs = line.strip().split()\n",
    "                sentence, tags = zip(*(pair.split(\"###\") for pair in pairs))\n",
    "                print(sentence, tags)\n",
    "                yield self.text_to_instance([Token(word) for word in sentence], tags)"
   ]
  },
  {
   "cell_type": "code",
   "execution_count": 4,
   "metadata": {},
   "outputs": [
    {
     "name": "stdout",
     "output_type": "stream",
     "text": [
      "LSTM_Part-of-Speech_Tagging.ipynb  reading_comprehension  tmp\r\n",
      "data\t\t\t\t   sentiment_analysis\t  walk_through_allennlp\r\n"
     ]
    }
   ],
   "source": [
    "!ls"
   ]
  },
  {
   "cell_type": "code",
   "execution_count": 5,
   "metadata": {},
   "outputs": [
    {
     "name": "stdout",
     "output_type": "stream",
     "text": [
      "==> data/training.txt <==\r\n",
      "The###DET dog###NN ate###V the###DET apple###NN\r\n",
      "Everybody###NN read###V that###DET book###NN\r\n",
      "\r\n",
      "==> data/validation.txt <==\r\n",
      "The###DET dog###NN read###V the###DET apple###NN\r\n",
      "Everybody###NN ate###V that###DET book###NN\r\n"
     ]
    }
   ],
   "source": [
    "!tail data/training.txt data/validation.txt"
   ]
  },
  {
   "cell_type": "code",
   "execution_count": 4,
   "metadata": {},
   "outputs": [
    {
     "name": "stderr",
     "output_type": "stream",
     "text": [
      "2it [00:00, 1375.86it/s]\n",
      "2it [00:00, 994.26it/s]\n",
      "100%|██████████| 4/4 [00:00<00:00, 30783.88it/s]"
     ]
    },
    {
     "name": "stdout",
     "output_type": "stream",
     "text": [
      "('The', 'dog', 'ate', 'the', 'apple') ('DET', 'NN', 'V', 'DET', 'NN')\n",
      "TextField of length 5 with text: \n",
      " \t\t[The, dog, ate, the, apple]\n",
      " \t\tand TokenIndexers : {'tokens': 'SingleIdTokenIndexer'}\n",
      "SequenceLabelField of length 5 with labels:\n",
      " \t\t('DET', 'NN', 'V', 'DET', 'NN')\n",
      " \t\tin namespace: 'labels'.\n",
      "('Everybody', 'read', 'that', 'book') ('NN', 'V', 'DET', 'NN')\n",
      "TextField of length 4 with text: \n",
      " \t\t[Everybody, read, that, book]\n",
      " \t\tand TokenIndexers : {'tokens': 'SingleIdTokenIndexer'}\n",
      "SequenceLabelField of length 4 with labels:\n",
      " \t\t('NN', 'V', 'DET', 'NN')\n",
      " \t\tin namespace: 'labels'.\n",
      "('The', 'dog', 'read', 'the', 'apple') ('DET', 'NN', 'V', 'DET', 'NN')\n",
      "TextField of length 5 with text: \n",
      " \t\t[The, dog, read, the, apple]\n",
      " \t\tand TokenIndexers : {'tokens': 'SingleIdTokenIndexer'}\n",
      "SequenceLabelField of length 5 with labels:\n",
      " \t\t('DET', 'NN', 'V', 'DET', 'NN')\n",
      " \t\tin namespace: 'labels'.\n",
      "('Everybody', 'ate', 'that', 'book') ('NN', 'V', 'DET', 'NN')\n",
      "TextField of length 4 with text: \n",
      " \t\t[Everybody, ate, that, book]\n",
      " \t\tand TokenIndexers : {'tokens': 'SingleIdTokenIndexer'}\n",
      "SequenceLabelField of length 4 with labels:\n",
      " \t\t('NN', 'V', 'DET', 'NN')\n",
      " \t\tin namespace: 'labels'.\n"
     ]
    },
    {
     "name": "stderr",
     "output_type": "stream",
     "text": [
      "\n"
     ]
    }
   ],
   "source": [
    "reader = PosDatasetReader()\n",
    "\n",
    "train_dataset = reader.read(cached_path('data/training.txt'))\n",
    "validation_dataset = reader.read(cached_path('data/validation.txt'))\n",
    "\n",
    "vocab = Vocabulary.from_instances(train_dataset + validation_dataset)"
   ]
  },
  {
   "cell_type": "code",
   "execution_count": 14,
   "metadata": {},
   "outputs": [
    {
     "name": "stderr",
     "output_type": "stream",
     "text": [
      "2it [00:00, 730.59it/s]"
     ]
    },
    {
     "name": "stdout",
     "output_type": "stream",
     "text": [
      "('The', 'dog', 'ate', 'the', 'apple') ('DET', 'NN', 'V', 'DET', 'NN')\n",
      "TextField of length 5 with text: \n",
      " \t\t[The, dog, ate, the, apple]\n",
      " \t\tand TokenIndexers : {'tokens': 'SingleIdTokenIndexer'}\n",
      "SequenceLabelField of length 5 with labels:\n",
      " \t\t('DET', 'NN', 'V', 'DET', 'NN')\n",
      " \t\tin namespace: 'labels'.\n",
      "('Everybody', 'read', 'that', 'book') ('NN', 'V', 'DET', 'NN')\n",
      "TextField of length 4 with text: \n",
      " \t\t[Everybody, read, that, book]\n",
      " \t\tand TokenIndexers : {'tokens': 'SingleIdTokenIndexer'}\n",
      "SequenceLabelField of length 4 with labels:\n",
      " \t\t('NN', 'V', 'DET', 'NN')\n",
      " \t\tin namespace: 'labels'.\n",
      "Instance with fields:\n",
      " \t sentence: TextField of length 5 with text: \n",
      " \t\t[The, dog, ate, the, apple]\n",
      " \t\tand TokenIndexers : {'tokens': 'SingleIdTokenIndexer'} \n",
      " \t labels: SequenceLabelField of length 5 with labels:\n",
      " \t\t('DET', 'NN', 'V', 'DET', 'NN')\n",
      " \t\tin namespace: 'labels'. \n",
      "\n",
      "{'sentence': {'tokens_length': 5, 'num_tokens': 5}, 'labels': {'num_tokens': 5}}\n",
      "Instance with fields:\n",
      " \t sentence: TextField of length 4 with text: \n",
      " \t\t[Everybody, read, that, book]\n",
      " \t\tand TokenIndexers : {'tokens': 'SingleIdTokenIndexer'} \n",
      " \t labels: SequenceLabelField of length 4 with labels:\n",
      " \t\t('NN', 'V', 'DET', 'NN')\n",
      " \t\tin namespace: 'labels'. \n",
      "\n",
      "{'sentence': {'tokens_length': 4, 'num_tokens': 4}, 'labels': {'num_tokens': 4}}\n"
     ]
    },
    {
     "name": "stderr",
     "output_type": "stream",
     "text": [
      "\n"
     ]
    }
   ],
   "source": [
    "train_dataset2 = reader.read(cached_path('data/training.txt'))\n",
    "for ins in train_dataset2:\n",
    "    print(ins)\n",
    "    ins.index_fields(vocab)\n",
    "    print(ins.get_padding_lengths())\n"
   ]
  },
  {
   "cell_type": "code",
   "execution_count": 7,
   "metadata": {},
   "outputs": [
    {
     "name": "stdout",
     "output_type": "stream",
     "text": [
      "\n",
      "\n",
      "----Vocabulary Statistics----\n",
      "\n",
      "\n",
      "Top 10 most frequent tokens in namespace 'tokens':\n",
      "\tToken: The\t\tFrequency: 2\n",
      "\tToken: dog\t\tFrequency: 2\n",
      "\tToken: ate\t\tFrequency: 2\n",
      "\tToken: the\t\tFrequency: 2\n",
      "\tToken: apple\t\tFrequency: 2\n",
      "\tToken: Everybody\t\tFrequency: 2\n",
      "\tToken: read\t\tFrequency: 2\n",
      "\tToken: that\t\tFrequency: 2\n",
      "\tToken: book\t\tFrequency: 2\n",
      "\n",
      "Top 10 longest tokens in namespace 'tokens':\n",
      "\tToken: Everybody\t\tlength: 9\tFrequency: 2\n",
      "\tToken: apple\t\tlength: 5\tFrequency: 2\n",
      "\tToken: read\t\tlength: 4\tFrequency: 2\n",
      "\tToken: that\t\tlength: 4\tFrequency: 2\n",
      "\tToken: book\t\tlength: 4\tFrequency: 2\n",
      "\tToken: The\t\tlength: 3\tFrequency: 2\n",
      "\tToken: dog\t\tlength: 3\tFrequency: 2\n",
      "\tToken: ate\t\tlength: 3\tFrequency: 2\n",
      "\tToken: the\t\tlength: 3\tFrequency: 2\n",
      "\n",
      "Top 10 shortest tokens in namespace 'tokens':\n",
      "\tToken: the\t\tlength: 3\tFrequency: 2\n",
      "\tToken: ate\t\tlength: 3\tFrequency: 2\n",
      "\tToken: dog\t\tlength: 3\tFrequency: 2\n",
      "\tToken: The\t\tlength: 3\tFrequency: 2\n",
      "\tToken: book\t\tlength: 4\tFrequency: 2\n",
      "\tToken: that\t\tlength: 4\tFrequency: 2\n",
      "\tToken: read\t\tlength: 4\tFrequency: 2\n",
      "\tToken: apple\t\tlength: 5\tFrequency: 2\n",
      "\tToken: Everybody\t\tlength: 9\tFrequency: 2\n",
      "\n",
      "Top 10 most frequent tokens in namespace 'labels':\n",
      "\tToken: NN\t\tFrequency: 8\n",
      "\tToken: DET\t\tFrequency: 6\n",
      "\tToken: V\t\tFrequency: 4\n",
      "\n",
      "Top 10 longest tokens in namespace 'labels':\n",
      "\tToken: DET\t\tlength: 3\tFrequency: 6\n",
      "\tToken: NN\t\tlength: 2\tFrequency: 8\n",
      "\tToken: V\t\tlength: 1\tFrequency: 4\n",
      "\n",
      "Top 10 shortest tokens in namespace 'labels':\n",
      "\tToken: V\t\tlength: 1\tFrequency: 4\n",
      "\tToken: NN\t\tlength: 2\tFrequency: 8\n",
      "\tToken: DET\t\tlength: 3\tFrequency: 6\n"
     ]
    }
   ],
   "source": [
    "vocab.print_statistics()"
   ]
  },
  {
   "cell_type": "code",
   "execution_count": 8,
   "metadata": {},
   "outputs": [
    {
     "name": "stdout",
     "output_type": "stream",
     "text": [
      "@@PADDING@@; @@UNKNOWN@@; The; dog; ate; the; apple; Everybody; read; that; book; "
     ]
    }
   ],
   "source": [
    "for i in range(vocab.get_vocab_size()):\n",
    "    print(vocab.get_token_from_index(i), end='; ')"
   ]
  },
  {
   "cell_type": "code",
   "execution_count": 9,
   "metadata": {},
   "outputs": [],
   "source": [
    "EMBEDDING_DIM = 6\n",
    "HIDDEN_DIM = 6\n",
    "\n",
    "token_embedding = Embedding(num_embeddings=vocab.get_vocab_size('tokens'),\n",
    "                            embedding_dim=EMBEDDING_DIM)"
   ]
  },
  {
   "cell_type": "code",
   "execution_count": 10,
   "metadata": {},
   "outputs": [
    {
     "data": {
      "text/plain": [
       "BasicTextFieldEmbedder(\n",
       "  (token_embedder_tokens): Embedding()\n",
       ")"
      ]
     },
     "execution_count": 10,
     "metadata": {},
     "output_type": "execute_result"
    }
   ],
   "source": [
    "word_embeddings = BasicTextFieldEmbedder({\"tokens\": token_embedding})\n",
    "word_embeddings"
   ]
  },
  {
   "cell_type": "markdown",
   "metadata": {},
   "source": [
    "# 模型"
   ]
  },
  {
   "cell_type": "code",
   "execution_count": 11,
   "metadata": {},
   "outputs": [],
   "source": [
    "class LstmTagger(Model):\n",
    "\n",
    "    def __init__(self,\n",
    "                 word_embeddings: TextFieldEmbedder,\n",
    "                 encoder: Seq2SeqEncoder,\n",
    "                 vocab: Vocabulary) -> None:\n",
    "\n",
    "        super().__init__(vocab)\n",
    "        self.word_embeddings = word_embeddings\n",
    "        self.encoder = encoder\n",
    "\n",
    "        self.hidden2tag = torch.nn.Linear(in_features=encoder.get_output_dim(),\n",
    "                                          out_features=vocab.get_vocab_size('labels'))\n",
    "\n",
    "        self.accuracy = CategoricalAccuracy()\n",
    "\n",
    "    def forward(self,\n",
    "                sentence: Dict[str, torch.Tensor],\n",
    "                labels: torch.Tensor = None) -> Dict[str, torch.Tensor]:\n",
    "\n",
    "        print(\"sentence:\", sentence, \"labels:\", labels)\n",
    "        mask = get_text_field_mask(sentence)\n",
    "\n",
    "        embeddings = self.word_embeddings(sentence)\n",
    "        print(\"embeddings: len=\", len(embeddings), embeddings)\n",
    "\n",
    "        encoder_out = self.encoder(embeddings, mask)\n",
    "        print(\"encoder_out: len=\", len(encoder_out), encoder_out)\n",
    "\n",
    "        tag_logits = self.hidden2tag(encoder_out)\n",
    "        output = {\"tag_logits\": tag_logits}\n",
    "\n",
    "        if labels is not None:\n",
    "            self.accuracy(tag_logits, labels, mask)\n",
    "            output[\"loss\"] = sequence_cross_entropy_with_logits(tag_logits, labels, mask)\n",
    "\n",
    "        return output\n",
    "\n",
    "    def get_metrics(self, reset: bool = False) -> Dict[str, float]:\n",
    "        return {\"accuracy\": self.accuracy.get_metric(reset)}"
   ]
  },
  {
   "cell_type": "code",
   "execution_count": 12,
   "metadata": {},
   "outputs": [
    {
     "name": "stdout",
     "output_type": "stream",
     "text": [
      "@@PADDING@@; @@UNKNOWN@@; The; dog; ate; the; apple; Everybody; read; that; book; "
     ]
    }
   ],
   "source": [
    "for i in range(vocab.get_vocab_size()):\n",
    "    print(vocab.get_token_from_index(i), end='; ')"
   ]
  },
  {
   "cell_type": "code",
   "execution_count": 13,
   "metadata": {
    "scrolled": false
   },
   "outputs": [
    {
     "name": "stderr",
     "output_type": "stream",
     "text": [
      "accuracy: 0.3333, loss: 1.1685 ||: 100%|██████████| 1/1 [00:00<00:00,  8.65it/s]\n",
      "accuracy: 0.3333, loss: 1.1592 ||: 100%|██████████| 1/1 [00:00<00:00, 74.04it/s]"
     ]
    },
    {
     "name": "stdout",
     "output_type": "stream",
     "text": [
      "sentence: {'tokens': tensor([[ 7,  8,  9, 10,  0],\n",
      "        [ 2,  3,  4,  5,  6]], device='cuda:0')} labels: tensor([[0, 2, 1, 0, 0],\n",
      "        [1, 0, 2, 1, 0]], device='cuda:0')\n",
      "embeddings: len= 2 tensor([[[ 0.4455,  0.0070, -0.3130,  0.3054, -0.3154,  0.1747],\n",
      "         [-0.1715, -0.0651, -0.5711, -0.2833,  0.3224, -0.1444],\n",
      "         [ 0.5917,  0.4762, -0.0278, -0.3965,  0.3618,  0.1844],\n",
      "         [-0.3840,  0.3859,  0.3607,  0.5269, -0.3330, -0.0978],\n",
      "         [ 0.3061, -0.2622, -0.1152,  0.2788, -0.5593,  0.3563]],\n",
      "\n",
      "        [[ 0.2170, -0.2315, -0.0433, -0.0535,  0.0861, -0.0024],\n",
      "         [ 0.5193,  0.1849, -0.2212, -0.3588, -0.0996, -0.2563],\n",
      "         [-0.1904,  0.0284,  0.3542,  0.3229, -0.5808,  0.3683],\n",
      "         [ 0.1660,  0.5635,  0.3921, -0.5413, -0.5649, -0.2865],\n",
      "         [ 0.5217, -0.0990,  0.2542, -0.2761,  0.5829, -0.2514]]],\n",
      "       device='cuda:0', grad_fn=<CatBackward>)\n",
      "encoder_out: len= 2 tensor([[[-0.1066,  0.0424,  0.0585, -0.1004,  0.0489,  0.0285],\n",
      "         [-0.1148,  0.0371,  0.0712, -0.1671,  0.0381,  0.1252],\n",
      "         [-0.3062,  0.1034,  0.0483, -0.2124,  0.0429,  0.0769],\n",
      "         [-0.2029,  0.0867,  0.1805, -0.1348,  0.0496,  0.1438],\n",
      "         [ 0.0000,  0.0000,  0.0000,  0.0000,  0.0000,  0.0000]],\n",
      "\n",
      "        [[-0.1042,  0.0491,  0.0075, -0.0823, -0.0087,  0.0405],\n",
      "         [-0.2185,  0.0310,  0.0994, -0.1382,  0.0576,  0.0058],\n",
      "         [-0.1379,  0.0730,  0.1521, -0.0529,  0.0345,  0.0950],\n",
      "         [-0.2413,  0.0085,  0.2830, -0.0494,  0.0752,  0.0154],\n",
      "         [-0.2935,  0.0715,  0.1288, -0.1323,  0.0442,  0.0567]]],\n",
      "       device='cuda:0', grad_fn=<IndexSelectBackward>)\n",
      "sentence: {'tokens': tensor([[ 7,  4,  9, 10,  0],\n",
      "        [ 2,  3,  8,  5,  6]], device='cuda:0')} labels: tensor([[0, 2, 1, 0, 0],\n",
      "        [1, 0, 2, 1, 0]], device='cuda:0')\n",
      "embeddings: len= 2 tensor([[[ 0.4458,  0.0074, -0.3132,  0.3053, -0.3149,  0.1744],\n",
      "         [-0.1904,  0.0281,  0.3543,  0.3230, -0.5807,  0.3687],\n",
      "         [ 0.5918,  0.4766, -0.0282, -0.3966,  0.3614,  0.1839],\n",
      "         [-0.3838,  0.3865,  0.3606,  0.5267, -0.3326, -0.0983],\n",
      "         [ 0.3061, -0.2622, -0.1152,  0.2788, -0.5593,  0.3563]],\n",
      "\n",
      "        [[ 0.2170, -0.2313, -0.0436, -0.0535,  0.0858, -0.0027],\n",
      "         [ 0.5195,  0.1851, -0.2213, -0.3589, -0.0992, -0.2564],\n",
      "         [-0.1715, -0.0656, -0.5709, -0.2832,  0.3226, -0.1440],\n",
      "         [ 0.1660,  0.5637,  0.3919, -0.5414, -0.5650, -0.2869],\n",
      "         [ 0.5220, -0.0986,  0.2541, -0.2761,  0.5832, -0.2516]]],\n",
      "       device='cuda:0')\n",
      "encoder_out: len= 2 tensor([[[-0.1076,  0.0405,  0.0588, -0.1027,  0.0482,  0.0277],\n",
      "         [-0.0899,  0.0724,  0.1291, -0.0422,  0.0279,  0.0867],\n",
      "         [-0.2873,  0.1075,  0.0863, -0.1492,  0.0590,  0.0292],\n",
      "         [-0.2068,  0.0814,  0.2048, -0.1034,  0.0606,  0.1132],\n",
      "         [ 0.0000,  0.0000,  0.0000,  0.0000,  0.0000,  0.0000]],\n",
      "\n",
      "        [[-0.1049,  0.0474,  0.0080, -0.0844, -0.0095,  0.0397],\n",
      "         [-0.2196,  0.0285,  0.1005, -0.1411,  0.0563,  0.0048],\n",
      "         [-0.1669,  0.0342,  0.0928, -0.1846,  0.0433,  0.1401],\n",
      "         [-0.2646,  0.0032,  0.2453, -0.1303,  0.0572,  0.0553],\n",
      "         [-0.2953,  0.0726,  0.0986, -0.1813,  0.0223,  0.0967]]],\n",
      "       device='cuda:0')\n"
     ]
    },
    {
     "name": "stderr",
     "output_type": "stream",
     "text": [
      "\n"
     ]
    },
    {
     "data": {
      "text/plain": [
       "{'best_epoch': 0,\n",
       " 'peak_cpu_memory_MB': 2608.14,\n",
       " 'peak_gpu_0_memory_MB': 589,\n",
       " 'training_duration': '0:00:00.231348',\n",
       " 'training_start_epoch': 0,\n",
       " 'training_epochs': 0,\n",
       " 'epoch': 0,\n",
       " 'training_accuracy': 0.3333333333333333,\n",
       " 'training_loss': 1.1684999465942383,\n",
       " 'training_cpu_memory_MB': 2608.14,\n",
       " 'training_gpu_0_memory_MB': 589,\n",
       " 'validation_accuracy': 0.3333333333333333,\n",
       " 'validation_loss': 1.1591815948486328,\n",
       " 'best_validation_accuracy': 0.3333333333333333,\n",
       " 'best_validation_loss': 1.1591815948486328}"
      ]
     },
     "execution_count": 13,
     "metadata": {},
     "output_type": "execute_result"
    }
   ],
   "source": [
    "lstm = PytorchSeq2SeqWrapper(torch.nn.LSTM(EMBEDDING_DIM, HIDDEN_DIM, batch_first=True))\n",
    "\n",
    "model = LstmTagger(word_embeddings, lstm, vocab)\n",
    "\n",
    "if torch.cuda.is_available():\n",
    "    cuda_device = 0\n",
    "    model = model.cuda(cuda_device)\n",
    "else:\n",
    "    cuda_device = -1\n",
    "\n",
    "optimizer = optim.SGD(model.parameters(), lr=0.1)\n",
    "\n",
    "iterator = BucketIterator(batch_size=2, sorting_keys=[(\"sentence\", \"num_tokens\")])\n",
    "\n",
    "iterator.index_with(vocab)\n",
    "\n",
    "trainer = Trainer(model=model,\n",
    "                  optimizer=optimizer,\n",
    "                  iterator=iterator,\n",
    "                  train_dataset=train_dataset,\n",
    "                  validation_dataset=validation_dataset,\n",
    "                  patience=1,\n",
    "                  num_epochs=1,  # 本文主要是学习代码, 不是训练\n",
    "                  cuda_device=cuda_device)\n",
    "\n",
    "trainer.train()"
   ]
  },
  {
   "cell_type": "code",
   "execution_count": 14,
   "metadata": {},
   "outputs": [
    {
     "name": "stdout",
     "output_type": "stream",
     "text": [
      "TextField of length 5 with text: \n",
      " \t\t[The, dog, ate, the, apple]\n",
      " \t\tand TokenIndexers : {'tokens': 'SingleIdTokenIndexer'}\n",
      "sentence: {'tokens': tensor([[2, 3, 4, 5, 6]], device='cuda:0')} labels: None\n",
      "embeddings: len= 1 tensor([[[ 0.2170, -0.2313, -0.0436, -0.0535,  0.0858, -0.0027],\n",
      "         [ 0.5195,  0.1851, -0.2213, -0.3589, -0.0992, -0.2564],\n",
      "         [-0.1904,  0.0281,  0.3543,  0.3230, -0.5807,  0.3687],\n",
      "         [ 0.1660,  0.5637,  0.3919, -0.5414, -0.5650, -0.2869],\n",
      "         [ 0.5220, -0.0986,  0.2541, -0.2761,  0.5832, -0.2516]]],\n",
      "       device='cuda:0')\n",
      "encoder_out: len= 1 tensor([[[-0.1049,  0.0474,  0.0080, -0.0844, -0.0095,  0.0397],\n",
      "         [-0.2196,  0.0285,  0.1005, -0.1411,  0.0563,  0.0048],\n",
      "         [-0.1389,  0.0706,  0.1534, -0.0566,  0.0330,  0.0947],\n",
      "         [-0.2420,  0.0060,  0.2846, -0.0533,  0.0733,  0.0151],\n",
      "         [-0.2939,  0.0692,  0.1309, -0.1365,  0.0416,  0.0565]]],\n",
      "       device='cuda:0')\n",
      "[[-0.30905815958976746, 0.2984865605831146, 0.023448895663022995], [-0.29308345913887024, 0.2704954147338867, -0.058579668402671814], [-0.36367326974868774, 0.27411311864852905, -0.03455715626478195], [-0.34008821845054626, 0.27023011445999146, -0.10049906373023987], [-0.3222411274909973, 0.22845801711082458, -0.07581724226474762]]\n",
      "['DET', 'DET', 'DET', 'DET', 'DET']\n"
     ]
    }
   ],
   "source": [
    "predictor = SentenceTaggerPredictor(model, dataset_reader=reader)\n",
    "\n",
    "tag_logits = predictor.predict(\"The dog ate the apple\")['tag_logits']\n",
    "\n",
    "print(tag_logits)\n",
    "tag_ids = np.argmax(tag_logits, axis=-1)\n",
    "\n",
    "print([model.vocab.get_token_from_index(i, 'labels') for i in tag_ids])"
   ]
  },
  {
   "cell_type": "code",
   "execution_count": 15,
   "metadata": {},
   "outputs": [
    {
     "name": "stdout",
     "output_type": "stream",
     "text": [
      "TextField of length 5 with text: \n",
      " \t\t[The, dog, ate, the, apple]\n",
      " \t\tand TokenIndexers : {'tokens': 'SingleIdTokenIndexer'}\n",
      "sentence: {'tokens': tensor([[2, 3, 4, 5, 6]], device='cuda:0')} labels: None\n",
      "embeddings: len= 1 tensor([[[ 0.2170, -0.2313, -0.0436, -0.0535,  0.0858, -0.0027],\n",
      "         [ 0.5195,  0.1851, -0.2213, -0.3589, -0.0992, -0.2564],\n",
      "         [-0.1904,  0.0281,  0.3543,  0.3230, -0.5807,  0.3687],\n",
      "         [ 0.1660,  0.5637,  0.3919, -0.5414, -0.5650, -0.2869],\n",
      "         [ 0.5220, -0.0986,  0.2541, -0.2761,  0.5832, -0.2516]]],\n",
      "       device='cuda:0')\n",
      "encoder_out: len= 1 tensor([[[-0.1049,  0.0474,  0.0080, -0.0844, -0.0095,  0.0397],\n",
      "         [-0.2196,  0.0285,  0.1005, -0.1411,  0.0563,  0.0048],\n",
      "         [-0.1389,  0.0706,  0.1534, -0.0566,  0.0330,  0.0947],\n",
      "         [-0.2420,  0.0060,  0.2846, -0.0533,  0.0733,  0.0151],\n",
      "         [-0.2939,  0.0692,  0.1309, -0.1365,  0.0416,  0.0565]]],\n",
      "       device='cuda:0')\n",
      "[[-0.30905815958976746, 0.2984865605831146, 0.023448895663022995], [-0.29308345913887024, 0.2704954147338867, -0.058579668402671814], [-0.36367326974868774, 0.27411311864852905, -0.03455715626478195], [-0.34008821845054626, 0.27023011445999146, -0.10049906373023987], [-0.3222411274909973, 0.22845801711082458, -0.07581724226474762]]\n",
      "[1 1 1 1 1]\n"
     ]
    }
   ],
   "source": [
    "store_dir = '/notebook/LSTM_Part-of-Speech_Tagging/'\n",
    "vocabulary_dir = os.path.join(store_dir, 'vocabulary')\n",
    "\n",
    "if os.path.exists(vocabulary_dir):\n",
    "    shutil.rmtree(vocabulary_dir)\n",
    "\n",
    "vocab.save_to_files(vocabulary_dir)\n",
    "\n",
    "# Here's how to save the model.\n",
    "with open(os.path.join(store_dir, 'model.th'), 'wb') as f:\n",
    "    torch.save(model.state_dict(), f)\n",
    "    \n",
    "# And here's how to reload the model.\n",
    "vocab2 = Vocabulary.from_files(vocabulary_dir)\n",
    "\n",
    "model2 = LstmTagger(word_embeddings, lstm, vocab2)\n",
    "\n",
    "with open(os.path.join(store_dir, 'model.th'), 'rb') as f:\n",
    "    model2.load_state_dict(torch.load(f))\n",
    "\n",
    "if cuda_device > -1:\n",
    "    model2.cuda(cuda_device)\n",
    "\n",
    "predictor2 = SentenceTaggerPredictor(model2, dataset_reader=reader)\n",
    "tag_logits2 = predictor2.predict(\"The dog ate the apple\")['tag_logits']\n",
    "\n",
    "print(tag_logits2)\n",
    "tag_ids2 = np.argmax(tag_logits2, axis=-1)\n",
    "print(tag_ids2)\n",
    "np.testing.assert_array_almost_equal(tag_logits2, tag_logits)"
   ]
  }
 ],
 "metadata": {
  "kernelspec": {
   "display_name": "Python 3",
   "language": "python",
   "name": "python3"
  },
  "language_info": {
   "codemirror_mode": {
    "name": "ipython",
    "version": 3
   },
   "file_extension": ".py",
   "mimetype": "text/x-python",
   "name": "python",
   "nbconvert_exporter": "python",
   "pygments_lexer": "ipython3",
   "version": "3.6.8"
  }
 },
 "nbformat": 4,
 "nbformat_minor": 2
}
