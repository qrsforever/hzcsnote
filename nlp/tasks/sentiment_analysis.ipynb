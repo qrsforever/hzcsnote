{
 "cells": [
  {
   "cell_type": "markdown",
   "metadata": {},
   "source": [
    "# <div align='center'> 情感分析(SA)测试 </div>"
   ]
  },
  {
   "cell_type": "code",
   "execution_count": 1,
   "metadata": {},
   "outputs": [],
   "source": [
    "%reload_ext autoreload\n",
    "%autoreload 2"
   ]
  },
  {
   "cell_type": "code",
   "execution_count": 2,
   "metadata": {},
   "outputs": [],
   "source": [
    "from k12libs.utils.nb_easy import k12ai_run_project"
   ]
  },
  {
   "cell_type": "code",
   "execution_count": 3,
   "metadata": {
    "scrolled": false
   },
   "outputs": [
    {
     "data": {
      "application/vnd.jupyter.widget-view+json": {
       "model_id": "92b322d2bbf841a1aabb7c435970b183",
       "version_major": 2,
       "version_minor": 0
      },
      "text/plain": [
       "Box(children=(Box(children=(VBox(children=(VBox(children=(Dropdown(description='Framework', layout=Layout(max_…"
      ]
     },
     "metadata": {},
     "output_type": "display_data"
    }
   ],
   "source": [
    "project = k12ai_run_project(lan='cn', debug=False)"
   ]
  },
  {
   "cell_type": "code",
   "execution_count": 3,
   "metadata": {
    "scrolled": false
   },
   "outputs": [
    {
     "data": {
      "application/vnd.jupyter.widget-view+json": {
       "model_id": "ac6f77924e794e91a2130e3dc301130e",
       "version_major": 2,
       "version_minor": 0
      },
      "text/plain": [
       "Box(children=(Box(children=(VBox(children=(Tab(children=(VBox(children=(HBox(children=(Text(value='sst', conti…"
      ]
     },
     "metadata": {},
     "output_type": "display_data"
    },
    {
     "name": "stdout",
     "output_type": "stream",
     "text": [
      "{\n",
      "    \"request\": {\n",
      "        \"op\": \"train.start\",\n",
      "        \"user\": \"16601548608\",\n",
      "        \"service_name\": \"k12nlp\",\n",
      "        \"service_uuid\": \"2\",\n",
      "        \"service_params\": {\n",
      "            \"_k12.data.dataset_name\": \"sst\",\n",
      "            \"trainer.shuffle\": true,\n",
      "            \"dataset_reader.type\": \"sst_tokens\",\n",
      "            \"dataset_reader.granularity\": \"5-class\",\n",
      "            \"dataset_reader.lazy\": true,\n",
      "            \"dataset_reader.use_subtrees\": false,\n",
      "            \"_k12.token_indexers.single_id\": false,\n",
      "            \"train_data_path\": \"/datasets/sst/train.txt\",\n",
      "            \"_k12.validation_dataset_reader.bool\": false,\n",
      "            \"iterator.type\": \"bucket\",\n",
      "            \"iterator.batch_size\": 32,\n",
      "            \"iterator.instances_per_epoch\": 32,\n",
      "            \"iterator.max_instances_in_memory\": 32,\n",
      "            \"iterator.cache_instances\": false,\n",
      "            \"iterator.track_epoch\": false,\n",
      "            \"iterator.sorting_keys\": [\n",
      "                [\n",
      "                    \"tokens\",\n",
      "                    \"num_tokens\"\n",
      "                ]\n",
      "            ],\n",
      "            \"iterator.padding_noise\": 0.1,\n",
      "            \"iterator.biggest_batch_first\": false,\n",
      "            \"iterator.skip_smaller_batches\": false,\n",
      "            \"_k12.validation_iterator.bool\": false,\n",
      "            \"model.type\": \"basic_classifier\",\n",
      "            \"trainer.num_serialized_models_to_keep\": 2,\n",
      "            \"_k12.model.resume\": false,\n",
      "            \"model.text_field_embedder.token_embedders.tokens.type\": \"embedding\",\n",
      "            \"model.text_field_embedder.token_embedders.tokens.embedding_dim\": 200,\n",
      "            \"model.text_field_embedder.token_embedders.tokens.trainable\": false,\n",
      "            \"_k12.model.text_field_embedder.token_embedders.tokens.pretrained_file.bool\": true,\n",
      "            \"model.text_field_embedder.token_embedders.tokens.pretrained_file\": \"/pretrained/glove/glove.6B.200d.txt.gz\",\n",
      "            \"_k12.model.text_field_embedder.token_embedders.bool\": false,\n",
      "            \"model.seq2vec_encoder.type\": \"lstm\",\n",
      "            \"model.seq2vec_encoder.input_size\": 200,\n",
      "            \"model.seq2vec_encoder.hidden_size\": 512,\n",
      "            \"model.seq2vec_encoder.num_layers\": 2,\n",
      "            \"model.seq2vec_encoder.dropout\": 0,\n",
      "            \"model.seq2vec_encoder.bias\": true,\n",
      "            \"model.seq2vec_encoder.batch_first\": true,\n",
      "            \"model.seq2vec_encoder.bidirectional\": false,\n",
      "            \"_k12.model.encoder.bool\": false,\n",
      "            \"_k12.trainer.type\": \"default\",\n",
      "            \"trainer.cuda_device\": 0,\n",
      "            \"trainer.num_epochs\": 100,\n",
      "            \"trainer.patience\": 1,\n",
      "            \"trainer.summary_interval\": 5,\n",
      "            \"trainer.validation_metric\": \"-loss\",\n",
      "            \"_k12.trainergrad_norm.bool\": false,\n",
      "            \"_k12.trainergrad_clipping.bool\": false,\n",
      "            \"trainer.optimizer.type\": \"adam\",\n",
      "            \"trainer.optimizer.betas\": [\n",
      "                0.9,\n",
      "                0.999\n",
      "            ],\n",
      "            \"trainer.optimizer.eps\": 1e-08,\n",
      "            \"trainer.optimizer.lr\": 0.001,\n",
      "            \"trainer.optimizer.weight_decay\": 0.0,\n",
      "            \"_k12.lr_scheduler.bool\": false\n",
      "        }\n",
      "    },\n",
      "    \"response\": {\n",
      "        \"code\": 100000,\n",
      "        \"message\": \"success\"\n",
      "    },\n",
      "    \"key\": \"framework/16601548608/2/train.start\"\n",
      "}\n"
     ]
    }
   ],
   "source": [
    "sa = k12ai_run_project(framework='k12nlp', task='sentiment_analysis', network='basic_classifier', dataset='sst')"
   ]
  },
  {
   "cell_type": "code",
   "execution_count": null,
   "metadata": {},
   "outputs": [],
   "source": []
  }
 ],
 "metadata": {
  "kernelspec": {
   "display_name": "Python 3",
   "language": "python",
   "name": "python3"
  },
  "language_info": {
   "codemirror_mode": {
    "name": "ipython",
    "version": 3
   },
   "file_extension": ".py",
   "mimetype": "text/x-python",
   "name": "python",
   "nbconvert_exporter": "python",
   "pygments_lexer": "ipython3",
   "version": "3.6.9"
  }
 },
 "nbformat": 4,
 "nbformat_minor": 4
}
