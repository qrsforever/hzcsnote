{
 "cells": [
  {
   "cell_type": "markdown",
   "metadata": {},
   "source": [
    "# <div align=\"center\"> NLP Api Test </div>"
   ]
  },
  {
   "cell_type": "code",
   "execution_count": 1,
   "metadata": {},
   "outputs": [],
   "source": [
    "%reload_ext autoreload\n",
    "%autoreload 2"
   ]
  },
  {
   "cell_type": "code",
   "execution_count": 2,
   "metadata": {},
   "outputs": [],
   "source": [
    "from k12libs.utils.nb_easy import k12ai_post_request\n",
    "from k12libs.utils.nb_easy import k12ai_post_nlp_request\n",
    "from k12libs.utils.nb_easy import k12ai_get_data\n",
    "from k12libs.utils.nb_easy import k12ai_del_data\n",
    "from k12libs.utils.nb_easy import k12ai_out_data\n",
    "from k12libs.utils.nb_easy import k12ai_print\n",
    "from k12libs.utils.nb_easy import k12ai_count_down\n",
    "from k12libs.utils.nb_widget import k12ai_schema_parse\n",
    "\n",
    "import json"
   ]
  },
  {
   "cell_type": "markdown",
   "metadata": {},
   "source": [
    "## 1. 获取schema"
   ]
  },
  {
   "cell_type": "code",
   "execution_count": 3,
   "metadata": {
    "scrolled": true
   },
   "outputs": [],
   "source": [
    "schema_sst = k12ai_post_request(\n",
    "    uri='k12ai/framework/schema',\n",
    "    data={\n",
    "        'service_name': 'k12nlp',\n",
    "        'service_task': 'sentiment_analysis',\n",
    "        'dataset_path': '/data/datasets/nlp',\n",
    "        'dataset_name': 'sst'\n",
    "    }\n",
    ")\n",
    "schema_json = json.loads(schema_sst)['message']"
   ]
  },
  {
   "cell_type": "code",
   "execution_count": 4,
   "metadata": {
    "scrolled": false
   },
   "outputs": [
    {
     "data": {
      "application/vnd.jupyter.widget-view+json": {
       "model_id": "525651d7ff7f4089b5c2e84e422e475f",
       "version_major": 2,
       "version_minor": 0
      },
      "text/plain": [
       "Box(children=(VBox(children=(Tab(children=(VBox(children=(Text(value='sst', continuous_update=False, descripti…"
      ]
     },
     "metadata": {},
     "output_type": "display_data"
    }
   ],
   "source": [
    "generator = k12ai_schema_parse(json.loads(schema_json), lan='cn', debug=False);"
   ]
  },
  {
   "cell_type": "code",
   "execution_count": 5,
   "metadata": {},
   "outputs": [],
   "source": [
    "config = generator.get_all_kv()"
   ]
  },
  {
   "cell_type": "code",
   "execution_count": 6,
   "metadata": {},
   "outputs": [
    {
     "data": {
      "text/plain": [
       "{'req': {'op': 'train.start',\n",
       "  'user': 'test',\n",
       "  'service_name': 'k12nlp',\n",
       "  'service_uuid': '123456',\n",
       "  'service_params': {'_k12.dataset': 'sst',\n",
       "   'dataset_reader.type': 'sst_tokens',\n",
       "   'dataset_reader.lazy': True,\n",
       "   'dataset_reader.use_subtrees': False,\n",
       "   'dataset_reader.granularity': '5-class',\n",
       "   '_k12.token_indexers.single_id': False,\n",
       "   'train_data_path': '/data/datasets/nlp/sst/train.txt',\n",
       "   'iterator.type': 'bucket',\n",
       "   'iterator.batch_size': 32,\n",
       "   'iterator.instances_per_epoch': 32,\n",
       "   'iterator.max_instances_in_memory': 32,\n",
       "   'iterator.cache_instances': False,\n",
       "   'iterator.track_epoch': False,\n",
       "   'iterator.sorting_keys': [['tokens', 'num_tokens']],\n",
       "   'iterator.padding_noise': 0.1,\n",
       "   'iterator.biggest_batch_first': False,\n",
       "   'iterator.skip_smaller_batches': False,\n",
       "   'model.type': 'basic_classifier',\n",
       "   'model.text_field_embedder.token_embedders.tokens.type': 'embedding',\n",
       "   'model.text_field_embedder.token_embedders.tokens.embedding_dim': 200,\n",
       "   'model.text_field_embedder.token_embedders.tokens.trainable': False,\n",
       "   '_k12.model.text_field_embedder.token_embedders.tokens.pretrained_file.bool': True,\n",
       "   'model.text_field_embedder.token_embedders.tokens.pretrained_file': '/data/datasets/nlp/glove/glove.6B.200d.txt.gz',\n",
       "   'model.seq2vec_encoder.type': 'lstm',\n",
       "   'model.seq2vec_encoder.input_size': 200,\n",
       "   'model.seq2vec_encoder.hidden_size': 512,\n",
       "   'model.seq2vec_encoder.num_layers': 2,\n",
       "   'model.seq2vec_encoder.dropout': 0,\n",
       "   'model.seq2vec_encoder.bias': True,\n",
       "   'model.seq2vec_encoder.batch_first': True,\n",
       "   'model.seq2vec_encoder.bidirectional': False,\n",
       "   '_k12.trainer.type': 'default',\n",
       "   'trainer.cuda_device': 0,\n",
       "   'trainer.num_epochs': 20,\n",
       "   'trainer.patience': 10,\n",
       "   'trainer.validation_metric': '-loss',\n",
       "   '_k12.trainergrad_norm.bool': False,\n",
       "   '_k12.trainergrad_clipping.bool': False,\n",
       "   'trainer.optimizer.type': 'adam',\n",
       "   'trainer.optimizer.betas': [0.9, 0.999],\n",
       "   'trainer.optimizer.eps': 1e-08,\n",
       "   'trainer.optimizer.lr': 0.001,\n",
       "   'trainer.optimizer.weight_decay': 0.0,\n",
       "   '_k12.lr_scheduler.bool': False}},\n",
       " 'res': {'code': 100000, 'descr': 'success'},\n",
       " 'key': 'framework/test/123456/train.start'}"
      ]
     },
     "execution_count": 6,
     "metadata": {},
     "output_type": "execute_result"
    }
   ],
   "source": [
    "start_context = k12ai_post_nlp_request(\n",
    "    uri='k12ai/framework/train',\n",
    "    op='train.start',\n",
    "    user='test',\n",
    "    uuid='123456',\n",
    "    params=config\n",
    ")\n",
    "k12ai_del_data(start_context['key'])\n",
    "start_context"
   ]
  },
  {
   "cell_type": "code",
   "execution_count": 7,
   "metadata": {},
   "outputs": [
    {
     "data": {
      "application/vnd.jupyter.widget-view+json": {
       "model_id": "023eb373989148f7a320105e6b3913ff",
       "version_major": 2,
       "version_minor": 0
      },
      "text/plain": [
       "Tab(children=(Output(layout=Layout(border='1px solid black', min_height='200px')), Output(layout=Layout(border…"
      ]
     },
     "metadata": {},
     "output_type": "display_data"
    }
   ],
   "source": [
    "if start_context['res']['code'] != 100000:\n",
    "    k12ai_print(start_context['res'])\n",
    "    raise \n",
    "    \n",
    "k12ai_out_data(start_context['key'], ['status', 'metrics', 'error'], hook_func=k12ai_count_down(10))"
   ]
  },
  {
   "cell_type": "code",
   "execution_count": null,
   "metadata": {},
   "outputs": [],
   "source": []
  }
 ],
 "metadata": {
  "kernelspec": {
   "display_name": "Python 3",
   "language": "python",
   "name": "python3"
  },
  "language_info": {
   "codemirror_mode": {
    "name": "ipython",
    "version": 3
   },
   "file_extension": ".py",
   "mimetype": "text/x-python",
   "name": "python",
   "nbconvert_exporter": "python",
   "pygments_lexer": "ipython3",
   "version": "3.6.8"
  }
 },
 "nbformat": 4,
 "nbformat_minor": 2
}
