{
 "cells": [
  {
   "cell_type": "markdown",
   "metadata": {},
   "source": [
    "# <div align=\"center\"> NLP Api Test </div>"
   ]
  },
  {
   "cell_type": "code",
   "execution_count": 4,
   "metadata": {},
   "outputs": [],
   "source": [
    "%reload_ext autoreload\n",
    "%autoreload 2"
   ]
  },
  {
   "cell_type": "code",
   "execution_count": 5,
   "metadata": {},
   "outputs": [],
   "source": [
    "from k12libs.utils.nb_easy import k12ai_post_request\n",
    "from k12libs.utils.nb_easy import k12ai_post_nlp_request\n",
    "from k12libs.utils.nb_easy import k12ai_get_data\n",
    "from k12libs.utils.nb_easy import k12ai_del_data\n",
    "from k12libs.utils.nb_easy import k12ai_out_data\n",
    "from k12libs.utils.nb_easy import k12ai_print\n",
    "from k12libs.utils.nb_easy import k12ai_count_down\n",
    "from k12libs.utils.nb_widget import k12ai_schema_parse\n",
    "\n",
    "import json"
   ]
  },
  {
   "cell_type": "markdown",
   "metadata": {},
   "source": [
    "## 1. 获取schema"
   ]
  },
  {
   "cell_type": "code",
   "execution_count": 3,
   "metadata": {
    "scrolled": true
   },
   "outputs": [
    {
     "ename": "KeyError",
     "evalue": "'message'",
     "output_type": "error",
     "traceback": [
      "\u001b[0;31m\u001b[0m",
      "\u001b[0;31mKeyError\u001b[0mTraceback (most recent call last)",
      "\u001b[0;32m<ipython-input-3-3974d6cfee40>\u001b[0m in \u001b[0;36m<module>\u001b[0;34m\u001b[0m\n\u001b[1;32m      8\u001b[0m     }\n\u001b[1;32m      9\u001b[0m )\n\u001b[0;32m---> 10\u001b[0;31m \u001b[0mschema_json\u001b[0m \u001b[0;34m=\u001b[0m \u001b[0mjson\u001b[0m\u001b[0;34m.\u001b[0m\u001b[0mloads\u001b[0m\u001b[0;34m(\u001b[0m\u001b[0mschema_sst\u001b[0m\u001b[0;34m)\u001b[0m\u001b[0;34m[\u001b[0m\u001b[0;34m'message'\u001b[0m\u001b[0;34m]\u001b[0m\u001b[0;34m\u001b[0m\u001b[0;34m\u001b[0m\u001b[0m\n\u001b[0m",
      "\u001b[0;31mKeyError\u001b[0m: 'message'"
     ]
    }
   ],
   "source": [
    "schema_sst = k12ai_post_request(\n",
    "    uri='k12ai/framework/schema',\n",
    "    data={\n",
    "        'service_name': 'k12nlp',\n",
    "        'service_task': 'sentiment_analysis',\n",
    "        'dataset_path': '/data/datasets/nlp',\n",
    "        'dataset_name': 'sst'\n",
    "    }\n",
    ")\n",
    "schema_json = json.loads(schema_sst)['message']"
   ]
  },
  {
   "cell_type": "code",
   "execution_count": null,
   "metadata": {
    "scrolled": false
   },
   "outputs": [],
   "source": [
    "generator = k12ai_schema_parse(json.loads(schema_json), lan='cn', debug=False);"
   ]
  },
  {
   "cell_type": "code",
   "execution_count": null,
   "metadata": {},
   "outputs": [],
   "source": [
    "config = generator.get_all_kv()"
   ]
  },
  {
   "cell_type": "code",
   "execution_count": null,
   "metadata": {
    "scrolled": true
   },
   "outputs": [],
   "source": [
    "start_context = k12ai_post_nlp_request(\n",
    "    uri='k12ai/framework/train',\n",
    "    op='train.start',\n",
    "    user='test',\n",
    "    uuid='123456',\n",
    "    params=config\n",
    ")\n",
    "k12ai_del_data(start_context['key'])\n",
    "start_context"
   ]
  },
  {
   "cell_type": "code",
   "execution_count": null,
   "metadata": {},
   "outputs": [],
   "source": [
    "if start_context['res']['code'] != 100000:\n",
    "    k12ai_print(start_context['res'])\n",
    "    raise \n",
    "    \n",
    "k12ai_out_data(start_context['key'], ['status', 'metrics', 'error'], hook_func=k12ai_count_down(10))"
   ]
  }
 ],
 "metadata": {
  "kernelspec": {
   "display_name": "Python 3",
   "language": "python",
   "name": "python3"
  },
  "language_info": {
   "codemirror_mode": {
    "name": "ipython",
    "version": 3
   },
   "file_extension": ".py",
   "mimetype": "text/x-python",
   "name": "python",
   "nbconvert_exporter": "python",
   "pygments_lexer": "ipython3",
   "version": "3.6.9"
  }
 },
 "nbformat": 4,
 "nbformat_minor": 2
}
