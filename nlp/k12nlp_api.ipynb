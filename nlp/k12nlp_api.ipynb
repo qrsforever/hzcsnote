{
 "cells": [
  {
   "cell_type": "markdown",
   "metadata": {},
   "source": [
    "# <div align=\"center\"> NLP Api Test </div>"
   ]
  },
  {
   "cell_type": "code",
   "execution_count": 1,
   "metadata": {},
   "outputs": [],
   "source": [
    "%reload_ext autoreload\n",
    "%autoreload 2"
   ]
  },
  {
   "cell_type": "code",
   "execution_count": 2,
   "metadata": {},
   "outputs": [],
   "source": [
    "from k12libs.utils.nb_easy import k12ai_post_request\n",
    "from k12libs.utils.nb_easy import k12ai_post_nlp_request\n",
    "from k12libs.utils.nb_easy import k12ai_get_data\n",
    "from k12libs.utils.nb_easy import k12ai_del_data\n",
    "from k12libs.utils.nb_easy import k12ai_out_data\n",
    "from k12libs.utils.nb_easy import k12ai_print\n",
    "from k12libs.utils.nb_easy import k12ai_count_down\n",
    "from k12libs.utils.nb_widget import k12ai_schema_parse\n",
    "\n",
    "import json"
   ]
  },
  {
   "cell_type": "markdown",
   "metadata": {},
   "source": [
    "## 1. 获取schema"
   ]
  },
  {
   "cell_type": "code",
   "execution_count": 5,
   "metadata": {
    "scrolled": true
   },
   "outputs": [],
   "source": [
    "schema_sst = k12ai_post_request(\n",
    "    uri='k12ai/framework/schema',\n",
    "    data={\n",
    "        'service_name': 'k12nlp',\n",
    "        'service_task': 'sentiment_analysis',\n",
    "        'network_type': 'basic_classifier',\n",
    "        'dataset_name': 'sst'\n",
    "    }\n",
    ")\n",
    "schema_json = json.loads(schema_sst)['data']"
   ]
  },
  {
   "cell_type": "code",
   "execution_count": 6,
   "metadata": {
    "scrolled": false
   },
   "outputs": [
    {
     "data": {
      "application/vnd.jupyter.widget-view+json": {
       "model_id": "87934dac24d94bc5b617528c357cf90b",
       "version_major": 2,
       "version_minor": 0
      },
      "text/plain": [
       "Box(children=(Box(children=(VBox(children=(Tab(children=(VBox(children=(Text(value='sst', continuous_update=Fa…"
      ]
     },
     "metadata": {},
     "output_type": "display_data"
    }
   ],
   "source": [
    "generator = k12ai_schema_parse(json.loads(schema_json), lan='cn', debug=False);"
   ]
  },
  {
   "cell_type": "code",
   "execution_count": 9,
   "metadata": {},
   "outputs": [],
   "source": [
    "config = generator.get_all_kv()"
   ]
  },
  {
   "cell_type": "code",
   "execution_count": 15,
   "metadata": {
    "scrolled": true
   },
   "outputs": [
    {
     "data": {
      "text/plain": [
       "{'req': {'op': 'train.start',\n",
       "  'user': '15801301516',\n",
       "  'service_name': 'k12nlp',\n",
       "  'service_uuid': '654321',\n",
       "  'service_params': {'_k12.data.dataset_name': 'sst',\n",
       "   'dataset_reader.type': 'sst_tokens',\n",
       "   'dataset_reader.lazy': True,\n",
       "   'dataset_reader.use_subtrees': False,\n",
       "   'dataset_reader.granularity': '5-class',\n",
       "   '_k12.token_indexers.single_id': False,\n",
       "   'train_data_path': '/datasets/sst/train.txt',\n",
       "   '_k12.validation_dataset_reader.bool': False,\n",
       "   'iterator.type': 'bucket',\n",
       "   'iterator.batch_size': 32,\n",
       "   'iterator.instances_per_epoch': 32,\n",
       "   'iterator.max_instances_in_memory': 32,\n",
       "   'iterator.cache_instances': False,\n",
       "   'iterator.track_epoch': False,\n",
       "   'iterator.sorting_keys': [['tokens', 'num_tokens']],\n",
       "   'iterator.padding_noise': 0.1,\n",
       "   'iterator.biggest_batch_first': False,\n",
       "   'iterator.skip_smaller_batches': False,\n",
       "   '_k12.validation_iterator.bool': False,\n",
       "   'model.type': 'basic_classifier',\n",
       "   'model.text_field_embedder.token_embedders.tokens.type': 'embedding',\n",
       "   'model.text_field_embedder.token_embedders.tokens.embedding_dim': 200,\n",
       "   'model.text_field_embedder.token_embedders.tokens.trainable': False,\n",
       "   '_k12.model.text_field_embedder.token_embedders.tokens.pretrained_file.bool': True,\n",
       "   'model.text_field_embedder.token_embedders.tokens.pretrained_file': '/pretrained/glove/glove.6B.200d.txt.gz',\n",
       "   '_k12.model.text_field_embedder.token_embedders.bool': False,\n",
       "   'model.seq2vec_encoder.type': 'lstm',\n",
       "   'model.seq2vec_encoder.input_size': 200,\n",
       "   'model.seq2vec_encoder.hidden_size': 512,\n",
       "   'model.seq2vec_encoder.num_layers': 2,\n",
       "   'model.seq2vec_encoder.dropout': 0,\n",
       "   'model.seq2vec_encoder.bias': True,\n",
       "   'model.seq2vec_encoder.batch_first': True,\n",
       "   'model.seq2vec_encoder.bidirectional': False,\n",
       "   '_k12.model.encoder.bool': False,\n",
       "   '_k12.trainer.type': 'default',\n",
       "   'trainer.cuda_device': 0,\n",
       "   'trainer.num_epochs': 20,\n",
       "   'trainer.patience': 10,\n",
       "   'trainer.validation_metric': '-loss',\n",
       "   '_k12.trainergrad_norm.bool': False,\n",
       "   '_k12.trainergrad_clipping.bool': False,\n",
       "   'trainer.optimizer.type': 'adam',\n",
       "   'trainer.optimizer.betas': [0.9, 0.999],\n",
       "   'trainer.optimizer.eps': 1e-08,\n",
       "   'trainer.optimizer.lr': 0.001,\n",
       "   'trainer.optimizer.weight_decay': 0.0,\n",
       "   '_k12.lr_scheduler.bool': False}},\n",
       " 'res': {'code': 100000,\n",
       "  'message': 'success',\n",
       "  'data': {'config': '/cache/config.json', 'output': '/cache/output'}},\n",
       " 'key': 'framework/15801301516/654321/train.start'}"
      ]
     },
     "execution_count": 15,
     "metadata": {},
     "output_type": "execute_result"
    }
   ],
   "source": [
    "start_context = k12ai_post_nlp_request(\n",
    "    uri='k12ai/framework/execute',\n",
    "    op='train.start',\n",
    "    user='15801301516',\n",
    "    uuid='654321',\n",
    "    params=config\n",
    ")\n",
    "k12ai_del_data(start_context['key'])\n",
    "start_context"
   ]
  },
  {
   "cell_type": "code",
   "execution_count": 16,
   "metadata": {},
   "outputs": [
    {
     "data": {
      "application/vnd.jupyter.widget-view+json": {
       "model_id": "77103057d7d34fad8cc2062c020fa82d",
       "version_major": 2,
       "version_minor": 0
      },
      "text/plain": [
       "Tab(children=(Output(layout=Layout(border='1px solid black', min_height='200px')), Output(layout=Layout(border…"
      ]
     },
     "metadata": {},
     "output_type": "display_data"
    }
   ],
   "source": [
    "if start_context['res']['code'] != 100000:\n",
    "    k12ai_print(start_context['res'])\n",
    "    raise \n",
    "    \n",
    "k12ai_out_data(start_context['key'], ['status', 'metrics', 'error'], hook_func=k12ai_count_down(10))"
   ]
  }
 ],
 "metadata": {
  "kernelspec": {
   "display_name": "Python 3",
   "language": "python",
   "name": "python3"
  },
  "language_info": {
   "codemirror_mode": {
    "name": "ipython",
    "version": 3
   },
   "file_extension": ".py",
   "mimetype": "text/x-python",
   "name": "python",
   "nbconvert_exporter": "python",
   "pygments_lexer": "ipython3",
   "version": "3.6.9"
  }
 },
 "nbformat": 4,
 "nbformat_minor": 2
}
