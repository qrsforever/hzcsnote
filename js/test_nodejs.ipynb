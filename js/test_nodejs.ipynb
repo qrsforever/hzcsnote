{
 "cells": [
  {
   "cell_type": "code",
   "execution_count": 1,
   "metadata": {},
   "outputs": [
    {
     "name": "stdout",
     "output_type": "stream",
     "text": [
      "Looking in indexes: http://mirrors.intra.didiyun.com/pip/simple, https://mirrors.aliyun.com/pypi/simple\n",
      "Requirement already satisfied: pixiedust in /usr/local/lib/python3.6/dist-packages (1.1.18)\n",
      "Requirement already satisfied: geojson in /usr/local/lib/python3.6/dist-packages (from pixiedust) (2.5.0)\n",
      "Requirement already satisfied: mpld3 in /usr/local/lib/python3.6/dist-packages (from pixiedust) (0.3)\n",
      "Requirement already satisfied: astunparse in /usr/local/lib/python3.6/dist-packages (from pixiedust) (1.6.3)\n",
      "Requirement already satisfied: colour in /usr/local/lib/python3.6/dist-packages (from pixiedust) (0.1.5)\n",
      "Requirement already satisfied: lxml in /usr/local/lib/python3.6/dist-packages (from pixiedust) (4.5.0)\n",
      "Requirement already satisfied: requests in /usr/local/lib/python3.6/dist-packages (from pixiedust) (2.23.0)\n",
      "Requirement already satisfied: markdown in /usr/local/lib/python3.6/dist-packages (from pixiedust) (3.2.1)\n",
      "Requirement already satisfied: six<2.0,>=1.6.1 in /usr/local/lib/python3.6/dist-packages (from astunparse->pixiedust) (1.13.0)\n",
      "Requirement already satisfied: wheel<1.0,>=0.23.0 in /usr/local/lib/python3.6/dist-packages (from astunparse->pixiedust) (0.33.6)\n",
      "Requirement already satisfied: certifi>=2017.4.17 in /usr/local/lib/python3.6/dist-packages (from requests->pixiedust) (2019.11.28)\n",
      "Requirement already satisfied: idna<3,>=2.5 in /usr/local/lib/python3.6/dist-packages (from requests->pixiedust) (2.9)\n",
      "Requirement already satisfied: urllib3!=1.25.0,!=1.25.1,<1.26,>=1.21.1 in /usr/local/lib/python3.6/dist-packages (from requests->pixiedust) (1.25.8)\n",
      "Requirement already satisfied: chardet<4,>=3.0.2 in /usr/local/lib/python3.6/dist-packages (from requests->pixiedust) (3.0.4)\n",
      "Requirement already satisfied: setuptools>=36 in /usr/local/lib/python3.6/dist-packages (from markdown->pixiedust) (44.0.0)\n",
      "\u001b[33mWARNING: You are using pip version 19.3.1; however, version 20.0.2 is available.\n",
      "You should consider upgrading via the 'pip install --upgrade pip' command.\u001b[0m\n",
      "Looking in indexes: http://mirrors.intra.didiyun.com/pip/simple, https://mirrors.aliyun.com/pypi/simple\n",
      "Requirement already satisfied: pixiedust_node in /usr/local/lib/python3.6/dist-packages (0.2.5)\n",
      "Requirement already satisfied: ipython in /usr/local/lib/python3.6/dist-packages (from pixiedust_node) (7.13.0)\n",
      "Requirement already satisfied: pixiedust in /usr/local/lib/python3.6/dist-packages (from pixiedust_node) (1.1.18)\n",
      "Requirement already satisfied: pandas in /usr/local/lib/python3.6/dist-packages (from pixiedust_node) (0.25.3)\n",
      "Requirement already satisfied: backcall in /usr/local/lib/python3.6/dist-packages (from ipython->pixiedust_node) (0.1.0)\n",
      "Requirement already satisfied: prompt-toolkit!=3.0.0,!=3.0.1,<3.1.0,>=2.0.0 in /usr/local/lib/python3.6/dist-packages (from ipython->pixiedust_node) (3.0.3)\n",
      "Requirement already satisfied: pexpect; sys_platform != \"win32\" in /usr/local/lib/python3.6/dist-packages (from ipython->pixiedust_node) (4.8.0)\n",
      "Requirement already satisfied: jedi>=0.10 in /usr/local/lib/python3.6/dist-packages (from ipython->pixiedust_node) (0.16.0)\n",
      "Requirement already satisfied: setuptools>=18.5 in /usr/local/lib/python3.6/dist-packages (from ipython->pixiedust_node) (44.0.0)\n",
      "Requirement already satisfied: traitlets>=4.2 in /usr/local/lib/python3.6/dist-packages (from ipython->pixiedust_node) (4.3.3)\n",
      "Requirement already satisfied: decorator in /usr/local/lib/python3.6/dist-packages (from ipython->pixiedust_node) (4.4.1)\n",
      "Requirement already satisfied: pickleshare in /usr/local/lib/python3.6/dist-packages (from ipython->pixiedust_node) (0.7.5)\n",
      "Requirement already satisfied: pygments in /usr/local/lib/python3.6/dist-packages (from ipython->pixiedust_node) (2.5.2)\n",
      "Requirement already satisfied: requests in /usr/local/lib/python3.6/dist-packages (from pixiedust->pixiedust_node) (2.23.0)\n",
      "Requirement already satisfied: astunparse in /usr/local/lib/python3.6/dist-packages (from pixiedust->pixiedust_node) (1.6.3)\n",
      "Requirement already satisfied: mpld3 in /usr/local/lib/python3.6/dist-packages (from pixiedust->pixiedust_node) (0.3)\n",
      "Requirement already satisfied: markdown in /usr/local/lib/python3.6/dist-packages (from pixiedust->pixiedust_node) (3.2.1)\n",
      "Requirement already satisfied: colour in /usr/local/lib/python3.6/dist-packages (from pixiedust->pixiedust_node) (0.1.5)\n",
      "Requirement already satisfied: geojson in /usr/local/lib/python3.6/dist-packages (from pixiedust->pixiedust_node) (2.5.0)\n",
      "Requirement already satisfied: lxml in /usr/local/lib/python3.6/dist-packages (from pixiedust->pixiedust_node) (4.5.0)\n",
      "Requirement already satisfied: pytz>=2017.2 in /usr/local/lib/python3.6/dist-packages (from pandas->pixiedust_node) (2019.3)\n",
      "Requirement already satisfied: numpy>=1.13.3 in /usr/local/lib/python3.6/dist-packages (from pandas->pixiedust_node) (1.18.0)\n",
      "Requirement already satisfied: python-dateutil>=2.6.1 in /usr/local/lib/python3.6/dist-packages (from pandas->pixiedust_node) (2.8.1)\n",
      "Requirement already satisfied: wcwidth in /usr/local/lib/python3.6/dist-packages (from prompt-toolkit!=3.0.0,!=3.0.1,<3.1.0,>=2.0.0->ipython->pixiedust_node) (0.1.8)\n",
      "Requirement already satisfied: ptyprocess>=0.5 in /usr/local/lib/python3.6/dist-packages (from pexpect; sys_platform != \"win32\"->ipython->pixiedust_node) (0.6.0)\n",
      "Requirement already satisfied: parso>=0.5.2 in /usr/local/lib/python3.6/dist-packages (from jedi>=0.10->ipython->pixiedust_node) (0.6.2)\n",
      "Requirement already satisfied: six in /usr/local/lib/python3.6/dist-packages (from traitlets>=4.2->ipython->pixiedust_node) (1.13.0)\n",
      "Requirement already satisfied: ipython-genutils in /usr/local/lib/python3.6/dist-packages (from traitlets>=4.2->ipython->pixiedust_node) (0.2.0)\n",
      "Requirement already satisfied: idna<3,>=2.5 in /usr/local/lib/python3.6/dist-packages (from requests->pixiedust->pixiedust_node) (2.9)\n",
      "Requirement already satisfied: urllib3!=1.25.0,!=1.25.1,<1.26,>=1.21.1 in /usr/local/lib/python3.6/dist-packages (from requests->pixiedust->pixiedust_node) (1.25.8)\n",
      "Requirement already satisfied: chardet<4,>=3.0.2 in /usr/local/lib/python3.6/dist-packages (from requests->pixiedust->pixiedust_node) (3.0.4)\n",
      "Requirement already satisfied: certifi>=2017.4.17 in /usr/local/lib/python3.6/dist-packages (from requests->pixiedust->pixiedust_node) (2019.11.28)\n",
      "Requirement already satisfied: wheel<1.0,>=0.23.0 in /usr/local/lib/python3.6/dist-packages (from astunparse->pixiedust->pixiedust_node) (0.33.6)\n",
      "\u001b[33mWARNING: You are using pip version 19.3.1; however, version 20.0.2 is available.\n",
      "You should consider upgrading via the 'pip install --upgrade pip' command.\u001b[0m\n"
     ]
    }
   ],
   "source": [
    "!pip install pixiedust\n",
    "!pip install pixiedust_node"
   ]
  },
  {
   "cell_type": "code",
   "execution_count": 14,
   "metadata": {},
   "outputs": [],
   "source": [
    "import pixiedust_node"
   ]
  },
  {
   "cell_type": "code",
   "execution_count": 15,
   "metadata": {},
   "outputs": [
    {
     "name": "stdout",
     "output_type": "stream",
     "text": [
      "\"2020-03-30T03:47:45.603Z\"\n"
     ]
    }
   ],
   "source": [
    "%%node\n",
    "var date = new Date();\n",
    "print(date);"
   ]
  },
  {
   "cell_type": "code",
   "execution_count": 17,
   "metadata": {},
   "outputs": [
    {
     "name": "stdout",
     "output_type": "stream",
     "text": [
      "Error: Cannot find module 'ml-confusion-matrix'\n",
      "at Function.Module._resolveFilename (module.js:547:15)\n",
      "at Function.Module._load (module.js:474:25)\n",
      "at Module.require (module.js:596:17)\n",
      "at require (internal/module.js:11:18)\n"
     ]
    }
   ],
   "source": [
    "%%node\n",
    "const ConfusionMatrix3 = require('ml-confusion-matrix');"
   ]
  },
  {
   "cell_type": "code",
   "execution_count": 12,
   "metadata": {},
   "outputs": [
    {
     "name": "stdout",
     "output_type": "stream",
     "text": [
      "SyntaxError: Identifier 'ConfusionMatrix1' has already been declared\n",
      "SyntaxError: Identifier 'trueLabels1' has already been declared\n",
      "SyntaxError: Identifier 'predictedLabels1' has already been declared\n"
     ]
    }
   ],
   "source": [
    "const trueLabels2 =      [0, 1, 0, 1, 1, 0];\n",
    "const predictedLabels1 = [1, 1, 1, 1, 0, 0];"
   ]
  },
  {
   "cell_type": "code",
   "execution_count": 9,
   "metadata": {},
   "outputs": [
    {
     "name": "stdout",
     "output_type": "stream",
     "text": [
      "SyntaxError: Identifier 'CM2' has already been declared\n",
      "ReferenceError: CM2 is not defined\n"
     ]
    }
   ],
   "source": [
    "%%node\n",
    "const CM2 = ConfusionMatrix.fromLabels(trueLabels, predictedLabels);\n",
    "console.log(CM2.getAccuracy());"
   ]
  },
  {
   "cell_type": "code",
   "execution_count": 18,
   "metadata": {},
   "outputs": [
    {
     "name": "stdout",
     "output_type": "stream",
     "text": [
      "/usr/bin/npm install -s request\n",
      "/root/node\n",
      "└─┬ request@2.88.2\n",
      "├── aws-sign2@0.7.0\n",
      "├── aws4@1.9.1\n",
      "├── caseless@0.12.0\n",
      "├─┬ combined-stream@1.0.8\n",
      "│ └── delayed-stream@1.0.0\n",
      "├── extend@3.0.2\n",
      "├── forever-agent@0.6.1\n",
      "├─┬ form-data@2.3.3\n",
      "│ └── asynckit@0.4.0\n",
      "├─┬ har-validator@5.1.3\n",
      "│ ├─┬ ajv@6.12.0\n",
      "│ │ ├── fast-deep-equal@3.1.1\n",
      "│ │ ├── fast-json-stable-stringify@2.1.0\n",
      "│ │ ├── json-schema-traverse@0.4.1\n",
      "│ │ └── uri-js@4.2.2\n",
      "│ └── har-schema@2.0.0\n",
      "├─┬ http-signature@1.2.0\n",
      "│ ├── assert-plus@1.0.0\n",
      "│ ├─┬ jsprim@1.4.1\n",
      "│ │ ├── extsprintf@1.3.0\n",
      "│ │ ├── json-schema@0.2.3\n",
      "│ │ └─┬ verror@1.10.0\n",
      "│ │   └── core-util-is@1.0.2\n",
      "│ └─┬ sshpk@1.16.1\n",
      "│   ├── asn1@0.2.4\n",
      "│   ├── bcrypt-pbkdf@1.0.2\n",
      "│   ├── dashdash@1.14.1\n",
      "│   ├── ecc-jsbn@0.1.2\n",
      "│   ├── getpass@0.1.7\n",
      "│   ├── jsbn@0.1.1\n",
      "│   ├── safer-buffer@2.1.2\n",
      "│   └── tweetnacl@0.14.5\n",
      "├── is-typedarray@1.0.0\n",
      "├── isstream@0.1.2\n",
      "├── json-stringify-safe@5.0.1\n",
      "├─┬ mime-types@2.1.26\n",
      "│ └── mime-db@1.43.0\n",
      "├── oauth-sign@0.9.0\n",
      "├── performance-now@2.1.0\n",
      "├── qs@6.5.2\n",
      "├── safe-buffer@5.2.0\n",
      "├─┬ tough-cookie@2.5.0\n",
      "│ ├── psl@1.8.0\n",
      "│ └── punycode@2.1.1\n",
      "├── tunnel-agent@0.6.0\n",
      "└── uuid@3.4.0\n"
     ]
    }
   ],
   "source": [
    "npm.install('request');"
   ]
  },
  {
   "cell_type": "code",
   "execution_count": 19,
   "metadata": {},
   "outputs": [
    {
     "name": "stdout",
     "output_type": "stream",
     "text": [
      "/usr/bin/npm install -s ml-confusion-matrix\n",
      "/root/node\n",
      "├── ml-confusion-matrix@0.4.0\n",
      "└── request@2.88.2\n"
     ]
    }
   ],
   "source": [
    "npm.install('ml-confusion-matrix')"
   ]
  },
  {
   "cell_type": "code",
   "execution_count": null,
   "metadata": {},
   "outputs": [],
   "source": [
    "%%node\n",
    "const bConfusionMatrix = require('ml-confusion-matrix');\n",
    "const btrueLabels =      [0, 1, 0, 1, 1, 0];\n",
    "const bpredictedLabels = [1, 1, 1, 1, 0, 0];"
   ]
  },
  {
   "cell_type": "code",
   "execution_count": 24,
   "metadata": {},
   "outputs": [],
   "source": [
    "%%node\n",
    "const cCM2 = bConfusionMatrix.fromLabels(trueLabels, predictedLabels);"
   ]
  },
  {
   "cell_type": "code",
   "execution_count": 26,
   "metadata": {},
   "outputs": [
    {
     "name": "stdout",
     "output_type": "stream",
     "text": [
      "0.5\n",
      "\n"
     ]
    }
   ],
   "source": [
    "%%node\n",
    "console.log(cCM2.getAccuracy());"
   ]
  },
  {
   "cell_type": "code",
   "execution_count": 29,
   "metadata": {},
   "outputs": [
    {
     "name": "stdout",
     "output_type": "stream",
     "text": [
      "13\n",
      "\n"
     ]
    }
   ],
   "source": [
    "%%node\n",
    "const bCM1 = new bConfusionMatrix([[13, 2], [10, 5]], ['cat', 'dog']);\n",
    "console.log(bCM1.getTruePositiveCount('cat')); // 13 "
   ]
  }
 ],
 "metadata": {
  "kernelspec": {
   "display_name": "Python 3",
   "language": "python",
   "name": "python3"
  },
  "language_info": {
   "codemirror_mode": {
    "name": "ipython",
    "version": 3
   },
   "file_extension": ".py",
   "mimetype": "text/x-python",
   "name": "python",
   "nbconvert_exporter": "python",
   "pygments_lexer": "ipython3",
   "version": "3.6.9"
  }
 },
 "nbformat": 4,
 "nbformat_minor": 4
}
