{
 "cells": [
  {
   "cell_type": "code",
   "execution_count": 1,
   "metadata": {
    "ExecuteTime": {
     "end_time": "2020-08-28T02:13:02.357213Z",
     "start_time": "2020-08-28T02:13:02.293436Z"
    }
   },
   "outputs": [],
   "source": [
    "# from IPython.core.display import display, Javascript, HTML\n",
    "from IPython.display import IFrame, HTML, Javascript, display, Markdown, clear_output\n",
    "import ipywidgets as widgets"
   ]
  },
  {
   "cell_type": "code",
   "execution_count": 2,
   "metadata": {
    "ExecuteTime": {
     "end_time": "2020-08-28T02:13:03.352665Z",
     "start_time": "2020-08-28T02:13:03.329705Z"
    }
   },
   "outputs": [
    {
     "data": {
      "text/html": [
       "<script>console.log('Hello, world!');</script>"
      ],
      "text/plain": [
       "<IPython.core.display.HTML object>"
      ]
     },
     "execution_count": 2,
     "metadata": {},
     "output_type": "execute_result"
    }
   ],
   "source": [
    "HTML(\"<script>console.log('Hello, world!');</script>\")"
   ]
  },
  {
   "cell_type": "code",
   "execution_count": 3,
   "metadata": {
    "ExecuteTime": {
     "end_time": "2020-08-28T02:13:05.974014Z",
     "start_time": "2020-08-28T02:13:05.965420Z"
    }
   },
   "outputs": [
    {
     "data": {
      "application/javascript": [
       "alert('Hello, world!')"
      ],
      "text/plain": [
       "<IPython.core.display.Javascript object>"
      ]
     },
     "execution_count": 3,
     "metadata": {},
     "output_type": "execute_result"
    }
   ],
   "source": [
    "Javascript(\"alert('Hello, world!')\")"
   ]
  },
  {
   "cell_type": "code",
   "execution_count": 3,
   "metadata": {
    "scrolled": false
   },
   "outputs": [
    {
     "data": {
      "text/html": [
       "<input type=\"password\" name=\"confirmpwd\"/>"
      ],
      "text/plain": [
       "<IPython.core.display.HTML object>"
      ]
     },
     "metadata": {},
     "output_type": "display_data"
    }
   ],
   "source": [
    "display(HTML('<input type=\"password\" name=\"confirmpwd\"/>'))"
   ]
  },
  {
   "cell_type": "code",
   "execution_count": 12,
   "metadata": {
    "ExecuteTime": {
     "end_time": "2020-08-28T04:16:40.262878Z",
     "start_time": "2020-08-28T04:16:40.253532Z"
    }
   },
   "outputs": [
    {
     "data": {
      "application/javascript": [
       "let data = \"plain_net { name : \\\"hproject_model_name\\\" layer {}}\"\n",
       "data = data.replace(\"/\\\\/g\", \"\");\n",
       "console.log(data)\n",
       "element.text('Hi')\n",
       "console.log('There')\n"
      ],
      "text/plain": [
       "<IPython.core.display.Javascript object>"
      ]
     },
     "metadata": {},
     "output_type": "display_data"
    }
   ],
   "source": [
    "%%javascript\n",
    "console.log(data)\n",
    "element.text('Hi')\n",
    "console.log('There')"
   ]
  },
  {
   "cell_type": "code",
   "execution_count": 32,
   "metadata": {},
   "outputs": [
    {
     "data": {
      "text/html": [
       "\n",
       "        <iframe\n",
       "            width=\"850\"\n",
       "            height=\"650\"\n",
       "            src=\"http://www.baidu.com\"\n",
       "            frameborder=\"0\"\n",
       "            allowfullscreen\n",
       "        ></iframe>\n",
       "        "
      ],
      "text/plain": [
       "<IPython.lib.display.IFrame at 0x7f09b6160588>"
      ]
     },
     "execution_count": 32,
     "metadata": {},
     "output_type": "execute_result"
    }
   ],
   "source": [
    "IFrame('http://www.baidu.com', width=850, height=650)"
   ]
  },
  {
   "cell_type": "code",
   "execution_count": 3,
   "metadata": {},
   "outputs": [
    {
     "data": {
      "text/html": [
       "\n",
       "<input type=\"text\" id=\"itest\" name=\"itest\" />\n",
       "<output id=\"otest\"></output>\n",
       "\n",
       "<script>\n",
       "    function handleFileSelect(evt) {\n",
       "        var files = evt.target.itest;\n",
       "        var output = [];\n",
       "        output.push('<li><strong>', 'test', '</strong></li>');\n",
       "        // document.getElementById('otest').innerHTML = '<ul>' + output.join('') + '</ul>';\n",
       "        document.getElementById('otest').innerHTML = '<ul>' + files + '</ul>';\n",
       "    }\n",
       "    document.getElementById('itest').addEventListener('change', handleFileSelect, false);\n",
       "</script>\n"
      ],
      "text/plain": [
       "<IPython.core.display.HTML object>"
      ]
     },
     "metadata": {},
     "output_type": "display_data"
    }
   ],
   "source": [
    "%%html\n",
    "\n",
    "<input type=\"text\" id=\"itest\" name=\"itest\" />\n",
    "<output id=\"otest\"></output>\n",
    "\n",
    "<script>\n",
    "    function handleFileSelect(evt) {\n",
    "        var files = evt.target.itest;\n",
    "        var output = [];\n",
    "        output.push('<li><strong>', 'test', '</strong></li>');\n",
    "        // document.getElementById('otest').innerHTML = '<ul>' + output.join('') + '</ul>';\n",
    "        document.getElementById('otest').innerHTML = '<ul>' + files + '</ul>';\n",
    "    }\n",
    "    document.getElementById('itest').addEventListener('change', handleFileSelect, false);\n",
    "</script>"
   ]
  },
  {
   "cell_type": "code",
   "execution_count": 2,
   "metadata": {},
   "outputs": [
    {
     "data": {
      "text/html": [
       "<input type=\"file\" accept=\".dat\" id=\"files\" name=\"files[]\" multiple />\n",
       "<output id=\"list\"></output>\n",
       "\n",
       "<script>\n",
       "    function handleFileSelect(evt) {\n",
       "        var files = evt.target.files;\n",
       "        var output = [];\n",
       "        IPython.notebook.kernel.execute(\"lstFiles=[]\");\n",
       "        for (var i = 0, f; f = files[i]; i++) {\n",
       "            IPython.notebook.kernel.execute(\"lstFiles.append('\" + f.name + \"')\");\n",
       "            output.push('<li><strong>', f.name, '</strong></li>');\n",
       "        }\n",
       "        document.getElementById('list').innerHTML = '<ul>' + output.join('') + '</ul>';\n",
       "    }\n",
       "\n",
       "    document.getElementById('files').addEventListener('change', handleFileSelect, false);\n",
       "</script>\n"
      ],
      "text/plain": [
       "<IPython.core.display.HTML object>"
      ]
     },
     "metadata": {},
     "output_type": "display_data"
    }
   ],
   "source": [
    "%%html\n",
    "\n",
    "<input type=\"file\" accept=\".dat\" id=\"files\" name=\"files[]\" multiple />\n",
    "<output id=\"list\"></output>\n",
    "\n",
    "<script>\n",
    "    function handleFileSelect(evt) {\n",
    "        var files = evt.target.files;\n",
    "        var output = [];\n",
    "        IPython.notebook.kernel.execute(\"lstFiles=[]\");\n",
    "        for (var i = 0, f; f = files[i]; i++) {\n",
    "            IPython.notebook.kernel.execute(\"lstFiles.append('\" + f.name + \"')\");\n",
    "            output.push('<li><strong>', f.name, '</strong></li>');\n",
    "        }\n",
    "        document.getElementById('list').innerHTML = '<ul>' + output.join('') + '</ul>';\n",
    "    }\n",
    "\n",
    "    document.getElementById('files').addEventListener('change', handleFileSelect, false);\n",
    "</script>"
   ]
  },
  {
   "cell_type": "code",
   "execution_count": 7,
   "metadata": {},
   "outputs": [
    {
     "data": {
      "text/html": [
       "\n",
       "<html> \n",
       "    <head> \n",
       "        <script type=\"text/javascript\"> \n",
       "            function alignRow() \n",
       "{ \n",
       "    var x=document.getElementById('myTable').rows \n",
       "    x[0].align=\"right\" \n",
       "} \n",
       "        </script> \n",
       "    </head> \n",
       "    <body> \n",
       "        <table width=\"60%\" id=\"myTable\" border=\"1\"> \n",
       "            <tr> \n",
       "                <td>行1 单元格1</td> \n",
       "                <td>行1 单元格2</td> \n",
       "            </tr> \n",
       "            <tr> \n",
       "                <td>行2 单元格1</td> \n",
       "                <td>行2 单元格2</td> \n",
       "            </tr> \n",
       "            <tr> \n",
       "                <td>行3 单元格1</td> \n",
       "                <td>行3 单元格2</td> \n",
       "            </tr> \n",
       "        </table> \n",
       "        <form> \n",
       "            <input type=\"button\" οnclick=\"alignRow()\" value=\"右对齐第一行文字\"> \n",
       "        </form> \n",
       "    </body> \n",
       "</html>\n"
      ],
      "text/plain": [
       "<IPython.core.display.HTML object>"
      ]
     },
     "metadata": {},
     "output_type": "display_data"
    }
   ],
   "source": [
    "%%html \n",
    "\n",
    "<html> \n",
    "    <head> \n",
    "        <script type=\"text/javascript\"> \n",
    "            function alignRow() { \n",
    "                var x=document.getElementById('myTable').rows \n",
    "                x[0].align=\"right\" \n",
    "            } \n",
    "        </script> \n",
    "    </head> \n",
    "    <body> \n",
    "        <table width=\"60%\" id=\"myTable\" border=\"1\"> \n",
    "            <tr> \n",
    "                <td>行1 单元格1</td> \n",
    "                <td>行1 单元格2</td> \n",
    "            </tr> \n",
    "            <tr> \n",
    "                <td>行2 单元格1</td> \n",
    "                <td>行2 单元格2</td> \n",
    "            </tr> \n",
    "            <tr> \n",
    "                <td>行3 单元格1</td> \n",
    "                <td>行3 单元格2</td> \n",
    "            </tr> \n",
    "        </table> \n",
    "        <form> \n",
    "            <input type=\"button\" οnclick=\"alignRow()\" value=\"右对齐第一行文字\"> \n",
    "        </form> \n",
    "    </body> \n",
    "</html>"
   ]
  },
  {
   "cell_type": "code",
   "execution_count": 8,
   "metadata": {},
   "outputs": [
    {
     "data": {
      "text/html": [
       "\n",
       "<html> \n",
       "    <head> \n",
       "        <script type=\"text/javascript\"> \n",
       "            function alignCell() \n",
       "{ \n",
       "    var x=document.getElementById('myTable').rows[0].cells \n",
       "    x[0].align=\"center\" \n",
       "} \n",
       "        </script> \n",
       "    </head> \n",
       "    <body> \n",
       "        <table id=\"myTable\" border=\"1\" width=\"100%\"> \n",
       "            <tr> \n",
       "                <td>单元格1</td> \n",
       "                <td>单元格2</td> \n",
       "            </tr> \n",
       "            <tr> \n",
       "                <td>单元格3</td> \n",
       "                <td>单元格4</td> \n",
       "            </tr> \n",
       "        </table> \n",
       "        <form> \n",
       "            <input type=\"button\" οnclick=\"alignCell()\" value=\"居中对齐第一个单元格的内容\"> \n",
       "        </form> \n",
       "    </body> \n",
       "</html>\n"
      ],
      "text/plain": [
       "<IPython.core.display.HTML object>"
      ]
     },
     "metadata": {},
     "output_type": "display_data"
    }
   ],
   "source": [
    "%%html\n",
    "\n",
    "<html> \n",
    "    <head> \n",
    "        <script type=\"text/javascript\"> \n",
    "            function alignCell() { \n",
    "                var x=document.getElementById('myTable').rows[0].cells \n",
    "                x[0].align=\"center\" \n",
    "            } \n",
    "        </script> \n",
    "    </head> \n",
    "    <body> \n",
    "        <table id=\"myTable\" border=\"1\" width=\"100%\"> \n",
    "            <tr> \n",
    "                <td>单元格1</td> \n",
    "                <td>单元格2</td> \n",
    "            </tr> \n",
    "            <tr> \n",
    "                <td>单元格3</td> \n",
    "                <td>单元格4</td> \n",
    "            </tr> \n",
    "        </table> \n",
    "        <form> \n",
    "            <input type=\"button\" οnclick=\"alignCell()\" value=\"居中对齐第一个单元格的内容\"> \n",
    "        </form> \n",
    "    </body> \n",
    "</html>"
   ]
  },
  {
   "cell_type": "code",
   "execution_count": 9,
   "metadata": {},
   "outputs": [
    {
     "data": {
      "text/html": [
       "\n",
       "<html>\n",
       "    <head>\n",
       "        <script type=\"text/javascript\">\n",
       "            function setColSpan() {\n",
       "                var x=document.getElementById('myTable').rows[0].cells\n",
       "                x[0].colSpan=\"2\"\n",
       "                x[1].colSpan=\"6\"\n",
       "            }\n",
       "        </script>\n",
       "    </head>\n",
       "    <body>\n",
       "        <table id=\"myTable\" border=\"1\">\n",
       "            <tr>\n",
       "                <td colspan=\"4\">单元格1</td>\n",
       "                <td colspan=\"4\">单元格2</td>\n",
       "            </tr>\n",
       "            <tr>\n",
       "                <td>单元格3</td>\n",
       "                <td>单元格4</td>\n",
       "                <td>单元格5</td>\n",
       "                <td>单元格6</td>\n",
       "                <td>单元格7</td>\n",
       "                <td>单元格8</td>\n",
       "                <td>单元格9</td>\n",
       "                <td>单元格10</td>\n",
       "            </tr>\n",
       "        </table>\n",
       "        <form>\n",
       "            <input type=\"button\" οnclick=\"setColSpan()\" value=\"改变colspan值\">\n",
       "        </form>\n",
       "    </body>\n",
       "</html>\n"
      ],
      "text/plain": [
       "<IPython.core.display.HTML object>"
      ]
     },
     "metadata": {},
     "output_type": "display_data"
    }
   ],
   "source": [
    "%%html\n",
    "\n",
    "<html>\n",
    "    <head>\n",
    "        <script type=\"text/javascript\">\n",
    "            function setColSpan() {\n",
    "                var x=document.getElementById('myTable').rows[0].cells\n",
    "                x[0].colSpan=\"2\"\n",
    "                x[1].colSpan=\"6\"\n",
    "            }\n",
    "        </script>\n",
    "    </head>\n",
    "    <body>\n",
    "        <table id=\"myTable\" border=\"1\">\n",
    "            <tr>\n",
    "                <td colspan=\"4\">单元格1</td>\n",
    "                <td colspan=\"4\">单元格2</td>\n",
    "            </tr>\n",
    "            <tr>\n",
    "                <td>单元格3</td>\n",
    "                <td>单元格4</td>\n",
    "                <td>单元格5</td>\n",
    "                <td>单元格6</td>\n",
    "                <td>单元格7</td>\n",
    "                <td>单元格8</td>\n",
    "                <td>单元格9</td>\n",
    "                <td>单元格10</td>\n",
    "            </tr>\n",
    "        </table>\n",
    "        <form>\n",
    "            <input type=\"button\" οnclick=\"setColSpan()\" value=\"改变colspan值\">\n",
    "        </form>\n",
    "    </body>\n",
    "</html>"
   ]
  },
  {
   "cell_type": "code",
   "execution_count": 35,
   "metadata": {},
   "outputs": [],
   "source": [
    "text = widgets.Text(\n",
    "       value='My Text',\n",
    "       description='Title', )\n",
    "\n",
    "calendar = widgets.DatePicker(\n",
    "           description='Select Date')\n",
    "\n",
    "slider = widgets.FloatSlider(\n",
    "         value=1,\n",
    "         min=0,\n",
    "         max=10.0,\n",
    "         step=0.1,)\n",
    "\n",
    "menu = widgets.Dropdown(\n",
    "       options=['red', 'blue', 'green'],\n",
    "       value='red',\n",
    "       description='Color:')\n",
    "\n",
    "checkbox = widgets.Checkbox(\n",
    "           description='Check to invert',)"
   ]
  },
  {
   "cell_type": "code",
   "execution_count": 36,
   "metadata": {},
   "outputs": [
    {
     "data": {
      "application/vnd.jupyter.widget-view+json": {
       "model_id": "d5e5d27dc6aa48bea479ad03e889bfb6",
       "version_major": 2,
       "version_minor": 0
      },
      "text/plain": [
       "Dropdown(description='Color:', options=('red', 'blue', 'green'), value='red')"
      ]
     },
     "metadata": {},
     "output_type": "display_data"
    }
   ],
   "source": [
    "menu"
   ]
  },
  {
   "cell_type": "code",
   "execution_count": 37,
   "metadata": {},
   "outputs": [
    {
     "data": {
      "application/vnd.jupyter.widget-view+json": {
       "model_id": "064b4bccb4474d2fa9f4665082b2e6e2",
       "version_major": 2,
       "version_minor": 0
      },
      "text/plain": [
       "Checkbox(value=False, description='Check to invert')"
      ]
     },
     "metadata": {},
     "output_type": "display_data"
    }
   ],
   "source": [
    "checkbox"
   ]
  },
  {
   "cell_type": "code",
   "execution_count": 39,
   "metadata": {},
   "outputs": [
    {
     "data": {
      "application/vnd.jupyter.widget-view+json": {
       "model_id": "715ecad88f20431cacabf7b75fb917ce",
       "version_major": 2,
       "version_minor": 0
      },
      "text/plain": [
       "VBox(children=(Text(value='My Text', description='Title'), FloatSlider(value=1.0, max=10.0), Dropdown(descript…"
      ]
     },
     "metadata": {},
     "output_type": "display_data"
    }
   ],
   "source": [
    "box = widgets.VBox([text, slider, menu, calendar, checkbox ])\n",
    "box"
   ]
  },
  {
   "cell_type": "code",
   "execution_count": 41,
   "metadata": {},
   "outputs": [
    {
     "data": {
      "application/vnd.jupyter.widget-view+json": {
       "model_id": "2f3b3a7faaa1428e9c99fbc71c373eba",
       "version_major": 2,
       "version_minor": 0
      },
      "text/plain": [
       "HBox(children=(VBox(children=(Text(value='My Text', description='Title'), FloatSlider(value=1.0, max=10.0), Dr…"
      ]
     },
     "metadata": {},
     "output_type": "display_data"
    }
   ],
   "source": [
    "widgets.HBox([box, box])"
   ]
  },
  {
   "cell_type": "code",
   "execution_count": 42,
   "metadata": {},
   "outputs": [
    {
     "data": {
      "application/vnd.jupyter.widget-view+json": {
       "model_id": "e6cacf16facd41039abdcdc2a8e43677",
       "version_major": 2,
       "version_minor": 0
      },
      "text/plain": [
       "Tab(children=(VBox(children=(Text(value='My Text', description='Title'), FloatSlider(value=1.0, max=10.0), Dro…"
      ]
     },
     "metadata": {},
     "output_type": "display_data"
    }
   ],
   "source": [
    "# defining a list with the contents of our windows\n",
    "children = [box, box]# initializing a tab\n",
    "tab = widgets.Tab()\n",
    "# setting the tab windows \n",
    "tab.children = children# changing the title of the first and second window\n",
    "tab.set_title(0, 'box')\n",
    "tab.set_title(1, 'copy of box')\n",
    "\n",
    "tab"
   ]
  },
  {
   "cell_type": "code",
   "execution_count": 43,
   "metadata": {},
   "outputs": [
    {
     "data": {
      "text/plain": [
       "('red', 'blue', 'green')"
      ]
     },
     "execution_count": 43,
     "metadata": {},
     "output_type": "execute_result"
    }
   ],
   "source": [
    "menu.options"
   ]
  },
  {
   "cell_type": "code",
   "execution_count": 44,
   "metadata": {},
   "outputs": [
    {
     "data": {
      "application/vnd.jupyter.widget-view+json": {
       "model_id": "d5e5d27dc6aa48bea479ad03e889bfb6",
       "version_major": 2,
       "version_minor": 0
      },
      "text/plain": [
       "Dropdown(description='Color:', options=('red', 'blue', 'green', 'black'), value='red')"
      ]
     },
     "metadata": {},
     "output_type": "display_data"
    }
   ],
   "source": [
    "menu.options=('red', 'blue', 'green', 'black')\n",
    "menu"
   ]
  },
  {
   "cell_type": "code",
   "execution_count": 46,
   "metadata": {},
   "outputs": [
    {
     "name": "stdout",
     "output_type": "stream",
     "text": [
      "Widget text has value My Text, of <class 'str'>\n",
      "Widget checkbox has value False, of <class 'bool'>\n",
      "Widget calendar has value None, of <class 'NoneType'>\n"
     ]
    }
   ],
   "source": [
    "# current value of text, checkbox and calendar \n",
    "print('Widget text has value {}, of {}'.format(text.value, type(text.value)))\n",
    "print('Widget checkbox has value {}, of {}'.format(checkbox.value, type(checkbox.value)))\n",
    "print('Widget calendar has value {}, of {}'.format(calendar.value, type(calendar.value)))"
   ]
  },
  {
   "cell_type": "code",
   "execution_count": 48,
   "metadata": {},
   "outputs": [
    {
     "data": {
      "application/vnd.jupyter.widget-view+json": {
       "model_id": "5ff19d9e602744f8b65b4dec8f9a812d",
       "version_major": 2,
       "version_minor": 0
      },
      "text/plain": [
       "Button(description='My Button', style=ButtonStyle())"
      ]
     },
     "metadata": {},
     "output_type": "display_data"
    }
   ],
   "source": [
    "button = widgets.Button(description='My Button')\n",
    "button"
   ]
  },
  {
   "cell_type": "code",
   "execution_count": 52,
   "metadata": {},
   "outputs": [
    {
     "data": {
      "application/vnd.jupyter.widget-view+json": {
       "model_id": "395c0f3c477442898938c11cfb241519",
       "version_major": 2,
       "version_minor": 0
      },
      "text/plain": [
       "VBox(children=(Button(description='My Button', style=ButtonStyle()), Output()))"
      ]
     },
     "metadata": {},
     "output_type": "display_data"
    }
   ],
   "source": [
    "button = widgets.Button(description='My Button')\n",
    "out = widgets.Output()\n",
    "def on_button_clicked(_):\n",
    "    # \"linking function with output\"\n",
    "    with out:\n",
    "        # what happens when we press the button\n",
    "        clear_output()\n",
    "        print('Something happens!')\n",
    "\n",
    "# linking button and function together using a button's method\n",
    "button.on_click(on_button_clicked)\n",
    "# displaying button and its output together\n",
    "widgets.VBox([button, out])"
   ]
  },
  {
   "cell_type": "code",
   "execution_count": 55,
   "metadata": {},
   "outputs": [
    {
     "data": {
      "application/vnd.jupyter.widget-view+json": {
       "model_id": "5160ecbd1d024314b8b5b2ddbbdb648b",
       "version_major": 2,
       "version_minor": 0
      },
      "text/plain": [
       "Output()"
      ]
     },
     "metadata": {},
     "output_type": "display_data"
    }
   ],
   "source": [
    "from IPython.display import Markdown# Using output to display Markdown\n",
    "markdown_out = widgets.Output()\n",
    "with markdown_out:\n",
    "    display(Markdown('Slider value is ${}$'.format(slider.value)))\n",
    "markdown_out"
   ]
  }
 ],
 "metadata": {
  "kernelspec": {
   "display_name": "Python 3",
   "language": "python",
   "name": "python3"
  },
  "language_info": {
   "codemirror_mode": {
    "name": "ipython",
    "version": 3
   },
   "file_extension": ".py",
   "mimetype": "text/x-python",
   "name": "python",
   "nbconvert_exporter": "python",
   "pygments_lexer": "ipython3",
   "version": "3.6.9"
  },
  "toc": {
   "base_numbering": 1,
   "nav_menu": {},
   "number_sections": true,
   "sideBar": true,
   "skip_h1_title": true,
   "title_cell": "",
   "title_sidebar": "Contents",
   "toc_cell": false,
   "toc_position": {},
   "toc_section_display": true,
   "toc_window_display": false
  }
 },
 "nbformat": 4,
 "nbformat_minor": 2
}
