{
 "cells": [
  {
   "cell_type": "code",
   "execution_count": 1,
   "metadata": {
    "ExecuteTime": {
     "end_time": "2020-12-10T02:11:52.962300Z",
     "start_time": "2020-12-10T02:11:51.382039Z"
    }
   },
   "outputs": [],
   "source": [
    "import os\n",
    "import csv\n",
    "import json\n",
    "import requests\n",
    "from random import sample\n",
    "from urllib.request import urlretrieve\n",
    "from k12libs.utils.nb_easy import k12ai_get_top_dir, RACEURL\n",
    "from k12libs.utils.nb_easy import K12AI_DATASETS_ROOT"
   ]
  },
  {
   "cell_type": "code",
   "execution_count": 2,
   "metadata": {
    "ExecuteTime": {
     "end_time": "2020-12-10T02:11:52.969908Z",
     "start_time": "2020-12-10T02:11:52.965472Z"
    }
   },
   "outputs": [],
   "source": [
    "R_PREFIX = 'https://raceai.s3.didiyunapi.com/data/datasets/cv/rgarbage'\n",
    "L_PREFIX = '/raceai/data/datasets/rgarbage'\n",
    "CSV_FILE = f'{R_PREFIX}/test.csv'\n",
    "\n",
    "API_INFERENCE = f'{RACEURL}/raceai/framework/inference'"
   ]
  },
  {
   "cell_type": "code",
   "execution_count": 3,
   "metadata": {
    "ExecuteTime": {
     "end_time": "2020-12-10T02:11:53.080881Z",
     "start_time": "2020-12-10T02:11:52.973131Z"
    }
   },
   "outputs": [
    {
     "data": {
      "text/plain": [
       "'imgs/厨余垃圾/厨余垃圾_面包/汉堡_厨余垃圾/img_汉堡_66.jpeg'"
      ]
     },
     "execution_count": 3,
     "metadata": {},
     "output_type": "execute_result"
    }
   ],
   "source": [
    "csv_file = urlretrieve(CSV_FILE, os.path.join('/tmp/', os.path.basename(CSV_FILE)))\n",
    "with open(csv_file[0], 'r') as fr:\n",
    "    reader = csv.DictReader(fr)\n",
    "    data = [row for row in reader]\n",
    "data_10  = sample(data, 10) \n",
    "data_10[0]['image_path']"
   ]
  },
  {
   "cell_type": "code",
   "execution_count": 4,
   "metadata": {
    "ExecuteTime": {
     "end_time": "2020-12-10T02:11:53.094127Z",
     "start_time": "2020-12-10T02:11:53.084533Z"
    }
   },
   "outputs": [],
   "source": [
    "model = 'Resnet18'\n",
    "root_dir = '/raceai/data/tmp/pl_rgarbage_resnet18'\n",
    "input_size = 224\n",
    "mean = [\n",
    "    0.6535,\n",
    "    0.6132,\n",
    "    0.5643\n",
    "]\n",
    "std = [\n",
    "    0.2165,\n",
    "    0.2244,\n",
    "    0.2416\n",
    "]\n",
    "num_classes = 4\n",
    "resume_weights = f\"/raceai/data/ckpts/rgarbage/pl_resnet18_acc70.pth\"\n",
    "\n",
    "reqdata = '''{\n",
    "    \"task\": \"cls.inference.pl\",\n",
    "    \"cfg\": {\n",
    "        \"data\": {\n",
    "            \"class_name\": \"raceai.data.process.PathListDataLoader\",\n",
    "            \"params\": {\n",
    "                \"data_source\": %s,\n",
    "                \"dataset\": {\n",
    "                    \"class_name\": \"raceai.data.PredictListImageDataset\",\n",
    "                     \"params\": {\n",
    "                         \"input_size\": input_size,\n",
    "                         \"mean\": mean,\n",
    "                         \"std\": std\n",
    "                     }\n",
    "                 },\n",
    "                \"sample\": {\n",
    "                    \"batch_size\": 32,\n",
    "                    \"num_workers\": 4,\n",
    "                }\n",
    "             }\n",
    "        },\n",
    "        \"model\": {\n",
    "            \"class_name\": f\"raceai.models.backbone.{model}\",  \n",
    "            \"params\": {\n",
    "                \"device\": 'gpu',\n",
    "                \"num_classes\": num_classes,\n",
    "                \"weights\": False\n",
    "            }\n",
    "        },\n",
    "        \"trainer\": {\n",
    "            \"default_root_dir\": root_dir,\n",
    "            \"gpus\": 1,\n",
    "            \"resume_from_checkpoint\": resume_weights\n",
    "        }\n",
    "    }\n",
    "}'''"
   ]
  },
  {
   "cell_type": "markdown",
   "metadata": {},
   "source": [
    "## Single Image"
   ]
  },
  {
   "cell_type": "code",
   "execution_count": null,
   "metadata": {
    "ExecuteTime": {
     "start_time": "2020-12-10T02:11:51.369Z"
    }
   },
   "outputs": [
    {
     "name": "stdout",
     "output_type": "stream",
     "text": [
      "img_汉堡_66.jpeg: 1 vs 1\n",
      "img_汉堡_302.jpeg: 1 vs 1\n",
      "img_螺丝刀_1.jpeg: 2 vs 3\n",
      "img_书_168.jpeg: 2 vs 2\n",
      "img_白板笔_177.jpeg: 0 vs 2\n",
      "img_汉堡_131.jpeg: 1 vs 1\n"
     ]
    }
   ],
   "source": [
    "for row in data_10:\n",
    "    imgpath = os.path.join(L_PREFIX, row['image_path'])\n",
    "    cfg = eval(reqdata % (\"[\\\"\" + imgpath + \"\\\"]\"))\n",
    "    resdata = json.loads(requests.post(url=API_INFERENCE, json=cfg).text)\n",
    "    if resdata['errno'] == 0:\n",
    "        result = resdata['result'][0]\n",
    "        fname = result['fname']\n",
    "        probs = result['probs']\n",
    "        print('{}: {} vs {}'.format(fname, row['label'], probs.index(max(probs))))"
   ]
  },
  {
   "cell_type": "markdown",
   "metadata": {},
   "source": [
    "## Batch Images"
   ]
  },
  {
   "cell_type": "code",
   "execution_count": null,
   "metadata": {
    "ExecuteTime": {
     "start_time": "2020-12-10T02:11:51.372Z"
    }
   },
   "outputs": [],
   "source": [
    "images = [os.path.join(L_PREFIX, row['image_path']) for row in data_10]\n",
    "labels = [row['label'] for row in data_10]\n",
    "cfg = eval(reqdata % json.dumps(images, ensure_ascii=False))\n",
    "resdata = json.loads(requests.post(url=API_INFERENCE, json=cfg).text)\n",
    "if resdata['errno'] == 0:\n",
    "    for item, label in zip(resdata['result'], labels):\n",
    "        fname = item['fname']\n",
    "        probs = item['probs']\n",
    "        print('{}: {} vs {}'.format(fname, label, probs.index(max(probs))))\n",
    "resdata"
   ]
  }
 ],
 "metadata": {
  "kernelspec": {
   "display_name": "Python 3",
   "language": "python",
   "name": "python3"
  },
  "language_info": {
   "codemirror_mode": {
    "name": "ipython",
    "version": 3
   },
   "file_extension": ".py",
   "mimetype": "text/x-python",
   "name": "python",
   "nbconvert_exporter": "python",
   "pygments_lexer": "ipython3",
   "version": "3.6.9"
  },
  "toc": {
   "base_numbering": 1,
   "nav_menu": {},
   "number_sections": true,
   "sideBar": true,
   "skip_h1_title": true,
   "title_cell": "",
   "title_sidebar": "Contents",
   "toc_cell": false,
   "toc_position": {},
   "toc_section_display": true,
   "toc_window_display": false
  }
 },
 "nbformat": 4,
 "nbformat_minor": 4
}
