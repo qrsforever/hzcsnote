{
 "cells": [
  {
   "cell_type": "code",
   "execution_count": 16,
   "metadata": {
    "ExecuteTime": {
     "end_time": "2020-12-24T08:34:51.093123Z",
     "start_time": "2020-12-24T08:34:51.082578Z"
    }
   },
   "outputs": [],
   "source": [
    "import os\n",
    "import csv\n",
    "import json\n",
    "import urllib\n",
    "import requests\n",
    "import random\n",
    "from pprint import pprint\n",
    "from random import sample\n",
    "from urllib.request import urlretrieve\n",
    "from k12libs.utils.nb_easy import k12ai_get_top_dir, RACEURL\n",
    "from k12libs.utils.nb_easy import K12AI_DATASETS_ROOT"
   ]
  },
  {
   "cell_type": "markdown",
   "metadata": {},
   "source": [
    "## 开发调试"
   ]
  },
  {
   "cell_type": "code",
   "execution_count": 17,
   "metadata": {
    "ExecuteTime": {
     "end_time": "2020-12-24T08:34:53.380435Z",
     "start_time": "2020-12-24T08:34:53.373906Z"
    }
   },
   "outputs": [],
   "source": [
    "R_PREFIX = 'https://raceai.s3.didiyunapi.com/data/datasets/cv/rgarbage'\n",
    "L_PREFIX = '/raceai/data/datasets/rgarbage'\n",
    "CSV_FILE = f'{R_PREFIX}/test.csv'\n",
    "\n",
    "API_INFERENCE = f'{RACEURL}/raceai/framework/inference'"
   ]
  },
  {
   "cell_type": "code",
   "execution_count": 18,
   "metadata": {
    "ExecuteTime": {
     "end_time": "2020-12-24T08:35:00.001143Z",
     "start_time": "2020-12-24T08:34:54.908116Z"
    }
   },
   "outputs": [
    {
     "data": {
      "text/plain": [
       "'imgs/厨余垃圾/厨余垃圾_面包/菠萝包_厨余垃圾/img_菠萝包_64.jpeg'"
      ]
     },
     "execution_count": 18,
     "metadata": {},
     "output_type": "execute_result"
    }
   ],
   "source": [
    "csv_file = urlretrieve(CSV_FILE, os.path.join('/tmp/', os.path.basename(CSV_FILE)))\n",
    "with open(csv_file[0], 'r') as fr:\n",
    "    reader = csv.DictReader(fr)\n",
    "    data = [row for row in reader]\n",
    "data_10  = sample(data, 10) \n",
    "data_10[0]['image_path']"
   ]
  },
  {
   "cell_type": "code",
   "execution_count": 19,
   "metadata": {
    "ExecuteTime": {
     "end_time": "2020-12-24T08:35:02.458336Z",
     "start_time": "2020-12-24T08:35:02.448529Z"
    }
   },
   "outputs": [],
   "source": [
    "model = 'Resnet18'\n",
    "root_dir = '/raceai/data/tmp/pl_rgarbage_resnet18'\n",
    "input_size = 224\n",
    "mean = [\n",
    "    0.6535,\n",
    "    0.6132,\n",
    "    0.5643\n",
    "]\n",
    "std = [\n",
    "    0.2165,\n",
    "    0.2244,\n",
    "    0.2416\n",
    "]\n",
    "num_classes = 4\n",
    "resume_weights = f\"/raceai/data/ckpts/rgarbage/pl_resnet18_acc70.pth\"\n",
    "\n",
    "reqdata = '''{\n",
    "    \"task\": \"cls.inference.pl\",\n",
    "    \"cfg\": {\n",
    "        \"data\": {\n",
    "            \"class_name\": \"raceai.data.process.PathListDataLoader\",\n",
    "            \"params\": {\n",
    "                \"data_source\": %s,\n",
    "                \"dataset\": {\n",
    "                    \"class_name\": \"raceai.data.PredictListImageDataset\",\n",
    "                     \"params\": {\n",
    "                         \"input_size\": input_size,\n",
    "                         \"mean\": mean,\n",
    "                         \"std\": std\n",
    "                     }\n",
    "                 },\n",
    "                \"sample\": {\n",
    "                    \"batch_size\": 32,\n",
    "                    \"num_workers\": 4,\n",
    "                }\n",
    "             }\n",
    "        },\n",
    "        \"model\": {\n",
    "            \"class_name\": f\"raceai.models.backbone.{model}\",  \n",
    "            \"params\": {\n",
    "                \"device\": 'gpu',\n",
    "                \"num_classes\": num_classes,\n",
    "                \"weights\": False\n",
    "            }\n",
    "        },\n",
    "        \"trainer\": {\n",
    "            \"default_root_dir\": root_dir,\n",
    "            \"gpus\": 1,\n",
    "            \"resume_from_checkpoint\": resume_weights\n",
    "        }\n",
    "    }\n",
    "}'''"
   ]
  },
  {
   "cell_type": "markdown",
   "metadata": {},
   "source": [
    "### Single Image"
   ]
  },
  {
   "cell_type": "code",
   "execution_count": 20,
   "metadata": {
    "ExecuteTime": {
     "end_time": "2020-12-24T08:36:06.508105Z",
     "start_time": "2020-12-24T08:35:05.388690Z"
    }
   },
   "outputs": [
    {
     "name": "stdout",
     "output_type": "stream",
     "text": [
      "/raceai/data/datasets/rgarbage/imgs/厨余垃圾/厨余垃圾_面包/菠萝包_厨余垃圾/img_菠萝包_64.jpeg: 1 vs 1\n",
      "/raceai/data/datasets/rgarbage/imgs/可回收物/可回收物_不锈钢制品/img_不锈钢制品_94.jpeg/不锈钢别针_8.jpeg: 2 vs 2\n",
      "/raceai/data/datasets/rgarbage/imgs/其他垃圾/其他垃圾_厨房抹布/img_厨房抹布_36.jpeg: 0 vs 0\n",
      "/raceai/data/datasets/rgarbage/imgs/有害垃圾/有害垃圾_电池板/img_电池板_211.jpeg: 3 vs 3\n",
      "/raceai/data/datasets/rgarbage/imgs/可回收物/可回收物_鼠标/img_鼠标_86.jpeg: 2 vs 3\n",
      "/raceai/data/datasets/rgarbage/imgs/有害垃圾/有害垃圾_药瓶/碘伏空瓶_有害垃圾/img_碘伏空瓶_53.jpeg: 3 vs 3\n",
      "/raceai/data/datasets/rgarbage/imgs/可回收物/可回收物_书/img_书_223.jpeg: 2 vs 2\n",
      "/raceai/data/datasets/rgarbage/imgs/有害垃圾/有害垃圾_电池/img_电池_72.jpeg: 3 vs 3\n",
      "/raceai/data/datasets/rgarbage/imgs/其他垃圾/其他垃圾_串串竹签/img_串串竹签_78.jpeg: 0 vs 0\n",
      "/raceai/data/datasets/rgarbage/imgs/可回收物/可回收物_不锈钢制品/img_不锈钢制品_94.jpeg/不锈钢别针_53.jpeg: 2 vs 2\n"
     ]
    }
   ],
   "source": [
    "for row in data_10:\n",
    "    imgpath = os.path.join(L_PREFIX, row['image_path'])\n",
    "    cfg = eval(reqdata % (\"[\\\"\" + imgpath + \"\\\"]\"))\n",
    "    resdata = json.loads(requests.post(url=API_INFERENCE, json=cfg).text)\n",
    "    if resdata['errno'] == 0:\n",
    "        result = resdata['result'][0]\n",
    "        fname = result['image_path']\n",
    "        probs = result['probs']\n",
    "        print('{}: {} vs {}'.format(fname, row['label'], probs.index(max(probs))))"
   ]
  },
  {
   "cell_type": "markdown",
   "metadata": {},
   "source": [
    "### Batch Images"
   ]
  },
  {
   "cell_type": "code",
   "execution_count": 6,
   "metadata": {
    "ExecuteTime": {
     "end_time": "2020-12-15T10:36:39.836153Z",
     "start_time": "2020-12-15T10:36:34.484095Z"
    }
   },
   "outputs": [
    {
     "name": "stdout",
     "output_type": "stream",
     "text": [
      "/raceai/data/datasets/rgarbage/imgs/有害垃圾/有害垃圾_电池/img_电池_446.jpeg: 3 vs 3\n",
      "/raceai/data/datasets/rgarbage/imgs/有害垃圾/有害垃圾_药瓶/红花油_有害垃圾/img_红花油_28.jpeg: 3 vs 3\n",
      "/raceai/data/datasets/rgarbage/imgs/厨余垃圾/厨余垃圾_面包/汉堡_厨余垃圾/img_汉堡_163.jpeg: 1 vs 1\n",
      "/raceai/data/datasets/rgarbage/imgs/有害垃圾/有害垃圾_纽扣电池/img_纽扣电池_28.jpeg: 3 vs 3\n",
      "/raceai/data/datasets/rgarbage/imgs/有害垃圾/有害垃圾_电池/img_电池_572.jpeg: 3 vs 3\n",
      "/raceai/data/datasets/rgarbage/imgs/有害垃圾/有害垃圾_药膏/img_药膏_19.jpeg: 3 vs 3\n",
      "/raceai/data/datasets/rgarbage/imgs/有害垃圾/有害垃圾_电池/img_电池_604.jpeg: 3 vs 0\n",
      "/raceai/data/datasets/rgarbage/imgs/可回收物/可回收物_水杯/不锈钢杯子_可回收物/img_不锈钢杯子_201.jpeg: 2 vs 2\n",
      "/raceai/data/datasets/rgarbage/imgs/有害垃圾/有害垃圾_药瓶/碘伏空瓶_有害垃圾/img_碘伏空瓶_174.jpeg: 3 vs 3\n",
      "/raceai/data/datasets/rgarbage/imgs/可回收物/可回收物_书/img_书_123.jpeg: 2 vs 2\n"
     ]
    },
    {
     "data": {
      "text/plain": [
       "{'errno': 0,\n",
       " 'result': [{'image_id': '-1',\n",
       "   'image_path': '/raceai/data/datasets/rgarbage/imgs/有害垃圾/有害垃圾_电池/img_电池_446.jpeg',\n",
       "   'probs': [0.09876822680234909,\n",
       "    0.017168864607810974,\n",
       "    0.03145726025104523,\n",
       "    0.8526056408882141]},\n",
       "  {'image_id': '-1',\n",
       "   'image_path': '/raceai/data/datasets/rgarbage/imgs/有害垃圾/有害垃圾_药瓶/红花油_有害垃圾/img_红花油_28.jpeg',\n",
       "   'probs': [0.005480817519128323,\n",
       "    0.12422040849924088,\n",
       "    0.00048303836956620216,\n",
       "    0.8698158264160156]},\n",
       "  {'image_id': '-1',\n",
       "   'image_path': '/raceai/data/datasets/rgarbage/imgs/厨余垃圾/厨余垃圾_面包/汉堡_厨余垃圾/img_汉堡_163.jpeg',\n",
       "   'probs': [0.30165186524391174,\n",
       "    0.4432477056980133,\n",
       "    0.2020927369594574,\n",
       "    0.05300763621926308]},\n",
       "  {'image_id': '-1',\n",
       "   'image_path': '/raceai/data/datasets/rgarbage/imgs/有害垃圾/有害垃圾_纽扣电池/img_纽扣电池_28.jpeg',\n",
       "   'probs': [0.009896723553538322,\n",
       "    1.7030284652719274e-05,\n",
       "    0.012001194059848785,\n",
       "    0.9780850410461426]},\n",
       "  {'image_id': '-1',\n",
       "   'image_path': '/raceai/data/datasets/rgarbage/imgs/有害垃圾/有害垃圾_电池/img_电池_572.jpeg',\n",
       "   'probs': [0.03333915024995804,\n",
       "    0.09445130079984665,\n",
       "    0.0936436876654625,\n",
       "    0.7785659432411194]},\n",
       "  {'image_id': '-1',\n",
       "   'image_path': '/raceai/data/datasets/rgarbage/imgs/有害垃圾/有害垃圾_药膏/img_药膏_19.jpeg',\n",
       "   'probs': [0.012587503530085087,\n",
       "    0.002379216020926833,\n",
       "    0.00030924324528314173,\n",
       "    0.9847240447998047]},\n",
       "  {'image_id': '-1',\n",
       "   'image_path': '/raceai/data/datasets/rgarbage/imgs/有害垃圾/有害垃圾_电池/img_电池_604.jpeg',\n",
       "   'probs': [0.47735509276390076,\n",
       "    0.004293439444154501,\n",
       "    0.36159175634384155,\n",
       "    0.15675970911979675]},\n",
       "  {'image_id': '-1',\n",
       "   'image_path': '/raceai/data/datasets/rgarbage/imgs/可回收物/可回收物_水杯/不锈钢杯子_可回收物/img_不锈钢杯子_201.jpeg',\n",
       "   'probs': [0.03435903042554855,\n",
       "    0.008148233406245708,\n",
       "    0.8903617262840271,\n",
       "    0.06713102757930756]},\n",
       "  {'image_id': '-1',\n",
       "   'image_path': '/raceai/data/datasets/rgarbage/imgs/有害垃圾/有害垃圾_药瓶/碘伏空瓶_有害垃圾/img_碘伏空瓶_174.jpeg',\n",
       "   'probs': [0.0046040830202400684,\n",
       "    6.854566436231835e-06,\n",
       "    0.001323237782344222,\n",
       "    0.9940657615661621]},\n",
       "  {'image_id': '-1',\n",
       "   'image_path': '/raceai/data/datasets/rgarbage/imgs/可回收物/可回收物_书/img_书_123.jpeg',\n",
       "   'probs': [0.041646648198366165,\n",
       "    0.0038582535926252604,\n",
       "    0.7873330116271973,\n",
       "    0.1671620011329651]}]}"
      ]
     },
     "execution_count": 6,
     "metadata": {},
     "output_type": "execute_result"
    }
   ],
   "source": [
    "images = [os.path.join(L_PREFIX, row['image_path']) for row in data_10]\n",
    "labels = [row['label'] for row in data_10]\n",
    "cfg = eval(reqdata % json.dumps(images, ensure_ascii=False))\n",
    "resdata = json.loads(requests.post(url=API_INFERENCE, json=cfg).text)\n",
    "if resdata['errno'] == 0:\n",
    "    for item, label in zip(resdata['result'], labels):\n",
    "        fname = item['image_path']\n",
    "        probs = item['probs']\n",
    "        print('{}: {} vs {}'.format(fname, label, probs.index(max(probs))))\n",
    "resdata"
   ]
  },
  {
   "cell_type": "markdown",
   "metadata": {},
   "source": [
    "## 前端对接"
   ]
  },
  {
   "cell_type": "code",
   "execution_count": 21,
   "metadata": {
    "ExecuteTime": {
     "end_time": "2020-12-24T08:36:25.464250Z",
     "start_time": "2020-12-24T08:36:25.456276Z"
    }
   },
   "outputs": [
    {
     "data": {
      "text/plain": [
       "'https://raceai.s3.didiyunapi.com/data/datasets/cv/rgarbage/test.json'"
      ]
     },
     "execution_count": 21,
     "metadata": {},
     "output_type": "execute_result"
    }
   ],
   "source": [
    "TEST_JSON_FILE = f'{R_PREFIX}/test.json'\n",
    "TEST_JSON_FILE"
   ]
  },
  {
   "cell_type": "markdown",
   "metadata": {},
   "source": [
    "### 前端获取测试集的所有图片及对应标号"
   ]
  },
  {
   "cell_type": "code",
   "execution_count": 22,
   "metadata": {
    "ExecuteTime": {
     "end_time": "2020-12-24T08:36:27.287410Z",
     "start_time": "2020-12-24T08:36:27.208501Z"
    }
   },
   "outputs": [
    {
     "data": {
      "text/plain": [
       "{'image_path': 'imgs/有害垃圾/有害垃圾_纽扣电池/img_纽扣电池_19.jpeg', 'label': 3}"
      ]
     },
     "execution_count": 22,
     "metadata": {},
     "output_type": "execute_result"
    }
   ],
   "source": [
    "test_json_file = urlretrieve(TEST_JSON_FILE, os.path.join('/tmp/', os.path.basename(TEST_JSON_FILE)))\n",
    "with open(test_json_file[0], 'r') as fr:\n",
    "    test_data = json.load(fr)\n",
    "test_data[0]"
   ]
  },
  {
   "cell_type": "markdown",
   "metadata": {},
   "source": [
    "### 前端选择图片数量及AI难度级别"
   ]
  },
  {
   "cell_type": "code",
   "execution_count": 23,
   "metadata": {
    "ExecuteTime": {
     "end_time": "2020-12-24T08:36:28.879433Z",
     "start_time": "2020-12-24T08:36:28.871226Z"
    }
   },
   "outputs": [],
   "source": [
    "IMAGE_COUNTS = [5, 10, 15, 20]\n",
    "MODEL_LEVELS = [\n",
    "    'pl_resnet18_acc70.pth',\n",
    "    'pl_resnet18_acc80.pth',\n",
    "    'pl_resnet50_acc90.pth'\n",
    "]\n",
    "\n",
    "select_image_count = IMAGE_COUNTS[1]\n",
    "select_model_level = MODEL_LEVELS[1]"
   ]
  },
  {
   "cell_type": "markdown",
   "metadata": {},
   "source": [
    "### 随机指定数量的图片"
   ]
  },
  {
   "cell_type": "code",
   "execution_count": 24,
   "metadata": {
    "ExecuteTime": {
     "end_time": "2020-12-24T08:36:34.752785Z",
     "start_time": "2020-12-24T08:36:34.743012Z"
    }
   },
   "outputs": [
    {
     "data": {
      "text/plain": [
       "[{'image_path': 'imgs/厨余垃圾/厨余垃圾_饼干/饼干_厨余垃圾/img_饼干_17.jpeg', 'label': 1},\n",
       " {'image_path': 'imgs/其他垃圾/其他垃圾_笔/白板笔_其他垃圾/img_白板笔_157.jpeg', 'label': 0}]"
      ]
     },
     "execution_count": 24,
     "metadata": {},
     "output_type": "execute_result"
    }
   ],
   "source": [
    "select_images = random.choices(test_data, k=10)\n",
    "select_images[:2]"
   ]
  },
  {
   "cell_type": "markdown",
   "metadata": {},
   "source": [
    "### 参数配置\n",
    "\n",
    "#### 难度级别\n",
    "\n",
    "当难度为**低**级别时:\n",
    "\n",
    "    cfg.model.class_name = raceai.models.backbone.Resnet18\n",
    "    \n",
    "    cfg.trainer.resume_from_checkpoint = /raceai/data/ckpts/rgarbage/pl_resnet18_acc70.pth\n",
    "    \n",
    "当难度为**中**级别时:\n",
    "\n",
    "    cfg.model.class_name = raceai.models.backbone.Resnet18\n",
    "    \n",
    "    cfg.trainer.resume_from_checkpoint = /raceai/data/ckpts/rgarbage/pl_resnet18_acc80.pth\n",
    "\n",
    "    \n",
    "当难度为**高**级别时:\n",
    "\n",
    "    cfg.model.class_name = raceai.models.backbone.Resnet50\n",
    "    \n",
    "    cfg.trainer.resume_from_checkpoint = /raceai/data/ckpts/rgarbage/pl_resnet50_acc90.pth"
   ]
  },
  {
   "cell_type": "markdown",
   "metadata": {},
   "source": [
    "#### 图片编号\n",
    "\n",
    "格式:\n",
    "\n",
    "```\n",
    "    cfg.data.params.data_source = [\n",
    "        {\"image_path\": \"xxxx\", \"image_id\": \"yyyy\"},\n",
    "        {\"image_path\": \"xxxx\", \"image_id\": \"yyyy\"},\n",
    "        {\"image_path\": \"xxxx\", \"image_id\": \"yyyy\"}\n",
    "        ...\n",
    "    ]\n",
    "```"
   ]
  },
  {
   "cell_type": "code",
   "execution_count": 25,
   "metadata": {
    "ExecuteTime": {
     "end_time": "2020-12-24T08:36:38.523827Z",
     "start_time": "2020-12-24T08:36:38.509410Z"
    }
   },
   "outputs": [
    {
     "data": {
      "text/plain": [
       "[{'image_path': 'https://raceai.s3.didiyunapi.com/data/datasets/cv/rgarbage/imgs/厨余垃圾/厨余垃圾_饼干/饼干_厨余垃圾/img_饼干_17.jpeg',\n",
       "  'image_id': '0'},\n",
       " {'image_path': 'https://raceai.s3.didiyunapi.com/data/datasets/cv/rgarbage/imgs/其他垃圾/其他垃圾_笔/白板笔_其他垃圾/img_白板笔_157.jpeg',\n",
       "  'image_id': '1'},\n",
       " {'image_path': 'https://raceai.s3.didiyunapi.com/data/datasets/cv/rgarbage/imgs/有害垃圾/有害垃圾_电池/img_电池_445.jpeg',\n",
       "  'image_id': '2'},\n",
       " {'image_path': 'https://raceai.s3.didiyunapi.com/data/datasets/cv/rgarbage/imgs/其他垃圾/其他垃圾_便利贴/img_便利贴_38.jpeg',\n",
       "  'image_id': '3'},\n",
       " {'image_path': 'https://raceai.s3.didiyunapi.com/data/datasets/cv/rgarbage/imgs/有害垃圾/有害垃圾_纽扣电池/img_纽扣电池_80.jpeg',\n",
       "  'image_id': '4'},\n",
       " {'image_path': 'https://raceai.s3.didiyunapi.com/data/datasets/cv/rgarbage/imgs/可回收物/可回收物_玻璃制品/img_玻璃制品_220.jpeg',\n",
       "  'image_id': '5'},\n",
       " {'image_path': 'https://raceai.s3.didiyunapi.com/data/datasets/cv/rgarbage/imgs/有害垃圾/有害垃圾_药瓶/碘伏空瓶_有害垃圾/img_碘伏空瓶_48.jpeg',\n",
       "  'image_id': '6'},\n",
       " {'image_path': 'https://raceai.s3.didiyunapi.com/data/datasets/cv/rgarbage/imgs/其他垃圾/其他垃圾_一次性杯子/img_一次性杯子_69.jpeg',\n",
       "  'image_id': '7'},\n",
       " {'image_path': 'https://raceai.s3.didiyunapi.com/data/datasets/cv/rgarbage/imgs/其他垃圾/其他垃圾_眼镜/3D眼镜_其他垃圾/img_3D眼镜_22.jpeg',\n",
       "  'image_id': '8'},\n",
       " {'image_path': 'https://raceai.s3.didiyunapi.com/data/datasets/cv/rgarbage/imgs/其他垃圾/其他垃圾_奶茶杯/img_奶茶杯_38.jpeg',\n",
       "  'image_id': '9'}]"
      ]
     },
     "execution_count": 25,
     "metadata": {},
     "output_type": "execute_result"
    }
   ],
   "source": [
    "sources = []\n",
    "for idx, item in enumerate(select_images):\n",
    "    sources.append({'image_path': f'{R_PREFIX}/{item[\"image_path\"]}', 'image_id': str(idx)}) \n",
    "sources"
   ]
  },
  {
   "cell_type": "markdown",
   "metadata": {},
   "source": [
    "#### 样例模板"
   ]
  },
  {
   "cell_type": "code",
   "execution_count": 26,
   "metadata": {
    "ExecuteTime": {
     "end_time": "2020-12-24T08:36:44.726238Z",
     "start_time": "2020-12-24T08:36:44.715780Z"
    }
   },
   "outputs": [
    {
     "name": "stdout",
     "output_type": "stream",
     "text": [
      "{\n",
      "    \"task\": \"cls.inference.pl\",\n",
      "    \"cfg\": {\n",
      "        \"data\": {\n",
      "            \"class_name\": \"raceai.data.process.PathListDataLoader\",\n",
      "            \"params\": {\n",
      "                \"data_source\": [{\"image_path\": \"https://raceai.s3.didiyunapi.com/data/datasets/cv/rgarbage/imgs/厨余垃圾/厨余垃圾_饼干/饼干_厨余垃圾/img_饼干_17.jpeg\", \"image_id\": \"0\"}, {\"image_path\": \"https://raceai.s3.didiyunapi.com/data/datasets/cv/rgarbage/imgs/其他垃圾/其他垃圾_笔/白板笔_其他垃圾/img_白板笔_157.jpeg\", \"image_id\": \"1\"}, {\"image_path\": \"https://raceai.s3.didiyunapi.com/data/datasets/cv/rgarbage/imgs/有害垃圾/有害垃圾_电池/img_电池_445.jpeg\", \"image_id\": \"2\"}, {\"image_path\": \"https://raceai.s3.didiyunapi.com/data/datasets/cv/rgarbage/imgs/其他垃圾/其他垃圾_便利贴/img_便利贴_38.jpeg\", \"image_id\": \"3\"}, {\"image_path\": \"https://raceai.s3.didiyunapi.com/data/datasets/cv/rgarbage/imgs/有害垃圾/有害垃圾_纽扣电池/img_纽扣电池_80.jpeg\", \"image_id\": \"4\"}, {\"image_path\": \"https://raceai.s3.didiyunapi.com/data/datasets/cv/rgarbage/imgs/可回收物/可回收物_玻璃制品/img_玻璃制品_220.jpeg\", \"image_id\": \"5\"}, {\"image_path\": \"https://raceai.s3.didiyunapi.com/data/datasets/cv/rgarbage/imgs/有害垃圾/有害垃圾_药瓶/碘伏空瓶_有害垃圾/img_碘伏空瓶_48.jpeg\", \"image_id\": \"6\"}, {\"image_path\": \"https://raceai.s3.didiyunapi.com/data/datasets/cv/rgarbage/imgs/其他垃圾/其他垃圾_一次性杯子/img_一次性杯子_69.jpeg\", \"image_id\": \"7\"}, {\"image_path\": \"https://raceai.s3.didiyunapi.com/data/datasets/cv/rgarbage/imgs/其他垃圾/其他垃圾_眼镜/3D眼镜_其他垃圾/img_3D眼镜_22.jpeg\", \"image_id\": \"8\"}, {\"image_path\": \"https://raceai.s3.didiyunapi.com/data/datasets/cv/rgarbage/imgs/其他垃圾/其他垃圾_奶茶杯/img_奶茶杯_38.jpeg\", \"image_id\": \"9\"}],\n",
      "                \"dataset\": {\n",
      "                    \"class_name\": \"raceai.data.PredictListImageDataset\",\n",
      "                     \"params\": {\n",
      "                         \"input_size\": 224,\n",
      "                         \"mean\": [0.6535, 0.6132, 0.5643],\n",
      "                         \"std\": [0.2165, 0.2244, 0.2416]\n",
      "                     }\n",
      "                 },\n",
      "                \"sample\": {\n",
      "                    \"batch_size\": 32,\n",
      "                    \"num_workers\": 4,\n",
      "                }\n",
      "             }\n",
      "        },\n",
      "        \"model\": {\n",
      "            \"class_name\": \"raceai.models.backbone.Resnet18\",  \n",
      "            \"params\": {\n",
      "                \"device\": 'gpu',\n",
      "                \"num_classes\": 4,\n",
      "                \"weights\": False\n",
      "            }\n",
      "        },\n",
      "        \"trainer\": {\n",
      "            \"default_root_dir\": \"/raceai/data/tmp/pl_rgarbage_resnet18\",\n",
      "            \"gpus\": 1,\n",
      "            \"resume_from_checkpoint\": \"/raceai/data/ckpts/rgarbage/pl_resnet18_acc80.pth\"\n",
      "        }\n",
      "    }\n",
      "}\n"
     ]
    }
   ],
   "source": [
    "reqdata = '''{\n",
    "    \"task\": \"cls.inference.pl\",\n",
    "    \"cfg\": {\n",
    "        \"data\": {\n",
    "            \"class_name\": \"raceai.data.process.PathListDataLoader\",\n",
    "            \"params\": {\n",
    "                \"data_source\": %s,\n",
    "                \"dataset\": {\n",
    "                    \"class_name\": \"raceai.data.PredictListImageDataset\",\n",
    "                     \"params\": {\n",
    "                         \"input_size\": 224,\n",
    "                         \"mean\": [0.6535, 0.6132, 0.5643],\n",
    "                         \"std\": [0.2165, 0.2244, 0.2416]\n",
    "                     }\n",
    "                 },\n",
    "                \"sample\": {\n",
    "                    \"batch_size\": 32,\n",
    "                    \"num_workers\": 4,\n",
    "                }\n",
    "             }\n",
    "        },\n",
    "        \"model\": {\n",
    "            \"class_name\": \"raceai.models.backbone.Resnet18\",  \n",
    "            \"params\": {\n",
    "                \"device\": 'gpu',\n",
    "                \"num_classes\": 4,\n",
    "                \"weights\": False\n",
    "            }\n",
    "        },\n",
    "        \"trainer\": {\n",
    "            \"default_root_dir\": \"/raceai/data/tmp/pl_rgarbage_resnet18\",\n",
    "            \"gpus\": 1,\n",
    "            \"resume_from_checkpoint\": \"/raceai/data/ckpts/rgarbage/pl_resnet18_acc80.pth\"\n",
    "        }\n",
    "    }\n",
    "}''' % json.dumps(sources, ensure_ascii=False)\n",
    "\n",
    "print(reqdata)"
   ]
  },
  {
   "cell_type": "code",
   "execution_count": 13,
   "metadata": {
    "ExecuteTime": {
     "end_time": "2020-12-15T10:36:39.973970Z",
     "start_time": "2020-12-15T10:36:39.959528Z"
    }
   },
   "outputs": [
    {
     "data": {
      "text/plain": [
       "'http://116.85.5.40:9119/raceai/framework/inference'"
      ]
     },
     "execution_count": 13,
     "metadata": {},
     "output_type": "execute_result"
    }
   ],
   "source": [
    "API_INFERENCE"
   ]
  },
  {
   "cell_type": "markdown",
   "metadata": {},
   "source": [
    "### 接口请求/响应\n",
    "\n",
    "请求接口:\n",
    "   \n",
    "    http://116.85.5.40:9119/raceai/framework/inference\n",
    "\n",
    "返回内容:\n",
    "\n",
    "```json\n",
    "{\n",
    "   \"errno\": 0,   // 正确为0, 其他非0\n",
    "   \"result\": [\n",
    "       {\n",
    "           \"image_id\": \"yyyy\",  // 前端做的图片标识\n",
    "           \"image_path\": \"xxxx\", // 调试用, 可忽略\n",
    "           \"probs\": [ // 预测每个分类的概率, 可将概率最大的作为最终结果\n",
    "                0.01, // \"其他垃圾\",\n",
    "                0.91, // \"厨余垃圾\", 概率最大\n",
    "                0.02, // \"可回收物\",\n",
    "                0.07  // \"有害垃圾\"\n",
    "           ]\n",
    "       },\n",
    "       {\n",
    "       \n",
    "       },\n",
    "       {\n",
    "       \n",
    "       },\n",
    "   ]\n",
    "}\n",
    "```"
   ]
  },
  {
   "cell_type": "code",
   "execution_count": 34,
   "metadata": {
    "ExecuteTime": {
     "end_time": "2020-12-24T09:03:15.595527Z",
     "start_time": "2020-12-24T09:03:08.627742Z"
    }
   },
   "outputs": [
    {
     "data": {
      "text/plain": [
       "{'errno': 0,\n",
       " 'result': [{'image_id': '0',\n",
       "   'image_path': '/tmp/tmpzm_jxt4l/img_%E9%A5%BC%E5%B9%B2_17.jpeg',\n",
       "   'probs': [0.008478625677525997,\n",
       "    0.9406022429466248,\n",
       "    0.046842869371175766,\n",
       "    0.004076174460351467]},\n",
       "  {'image_id': '1',\n",
       "   'image_path': '/tmp/tmpzm_jxt4l/img_%E7%99%BD%E6%9D%BF%E7%AC%94_157.jpeg',\n",
       "   'probs': [0.9971370697021484,\n",
       "    0.00035815872251987457,\n",
       "    0.00031135030440054834,\n",
       "    0.0021934336982667446]},\n",
       "  {'image_id': '2',\n",
       "   'image_path': '/tmp/tmpzm_jxt4l/img_%E7%94%B5%E6%B1%A0_445.jpeg',\n",
       "   'probs': [0.0005807488923892379,\n",
       "    2.6082929252879694e-05,\n",
       "    0.0015973291592672467,\n",
       "    0.9977959394454956]},\n",
       "  {'image_id': '3',\n",
       "   'image_path': '/tmp/tmpzm_jxt4l/img_%E4%BE%BF%E5%88%A9%E8%B4%B4_38.jpeg',\n",
       "   'probs': [0.69654381275177,\n",
       "    0.011833319440484047,\n",
       "    0.2687680721282959,\n",
       "    0.022854825481772423]},\n",
       "  {'image_id': '4',\n",
       "   'image_path': '/tmp/tmpzm_jxt4l/img_%E7%BA%BD%E6%89%A3%E7%94%B5%E6%B1%A0_80.jpeg',\n",
       "   'probs': [0.006676055490970612,\n",
       "    0.9547690153121948,\n",
       "    0.018504835665225983,\n",
       "    0.020050086081027985]},\n",
       "  {'image_id': '5',\n",
       "   'image_path': '/tmp/tmpzm_jxt4l/img_%E7%8E%BB%E7%92%83%E5%88%B6%E5%93%81_220.jpeg',\n",
       "   'probs': [0.012537520378828049,\n",
       "    0.2197273075580597,\n",
       "    0.16514331102371216,\n",
       "    0.6025918126106262]},\n",
       "  {'image_id': '6',\n",
       "   'image_path': '/tmp/tmpzm_jxt4l/img_%E7%A2%98%E4%BC%8F%E7%A9%BA%E7%93%B6_48.jpeg',\n",
       "   'probs': [1.612483356439043e-05,\n",
       "    2.9274721669025894e-07,\n",
       "    1.2877635526820086e-06,\n",
       "    0.9999823570251465]},\n",
       "  {'image_id': '7',\n",
       "   'image_path': '/tmp/tmpzm_jxt4l/img_%E4%B8%80%E6%AC%A1%E6%80%A7%E6%9D%AF%E5%AD%90_69.jpeg',\n",
       "   'probs': [0.645631730556488,\n",
       "    0.0004959479556418955,\n",
       "    0.27417829632759094,\n",
       "    0.07969404757022858]},\n",
       "  {'image_id': '8',\n",
       "   'image_path': '/tmp/tmpzm_jxt4l/img_3D%E7%9C%BC%E9%95%9C_22.jpeg',\n",
       "   'probs': [0.4390479326248169,\n",
       "    0.0068924520164728165,\n",
       "    0.44218170642852783,\n",
       "    0.11187788844108582]},\n",
       "  {'image_id': '9',\n",
       "   'image_path': '/tmp/tmpzm_jxt4l/img_%E5%A5%B6%E8%8C%B6%E6%9D%AF_38.jpeg',\n",
       "   'probs': [0.31603574752807617,\n",
       "    0.021318525075912476,\n",
       "    0.5884952545166016,\n",
       "    0.07415048032999039]}]}"
      ]
     },
     "execution_count": 34,
     "metadata": {},
     "output_type": "execute_result"
    }
   ],
   "source": [
    "resdata = json.loads(requests.post(url=API_INFERENCE, json=eval(reqdata)).text)\n",
    "resdata"
   ]
  }
 ],
 "metadata": {
  "kernelspec": {
   "display_name": "Python 3",
   "language": "python",
   "name": "python3"
  },
  "language_info": {
   "codemirror_mode": {
    "name": "ipython",
    "version": 3
   },
   "file_extension": ".py",
   "mimetype": "text/x-python",
   "name": "python",
   "nbconvert_exporter": "python",
   "pygments_lexer": "ipython3",
   "version": "3.6.9"
  },
  "toc": {
   "base_numbering": 1,
   "nav_menu": {},
   "number_sections": true,
   "sideBar": true,
   "skip_h1_title": true,
   "title_cell": "",
   "title_sidebar": "Contents",
   "toc_cell": false,
   "toc_position": {
    "height": "calc(100% - 180px)",
    "left": "10px",
    "top": "150px",
    "width": "307.2px"
   },
   "toc_section_display": true,
   "toc_window_display": true
  }
 },
 "nbformat": 4,
 "nbformat_minor": 4
}
