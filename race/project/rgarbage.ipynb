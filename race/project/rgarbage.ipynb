{
 "cells": [
  {
   "cell_type": "code",
   "execution_count": 65,
   "metadata": {
    "ExecuteTime": {
     "end_time": "2020-12-01T08:16:17.627519Z",
     "start_time": "2020-12-01T08:16:17.619297Z"
    }
   },
   "outputs": [],
   "source": [
    "import os\n",
    "import csv\n",
    "import json\n",
    "import requests\n",
    "from random import sample\n",
    "from urllib.request import urlretrieve\n",
    "from k12libs.utils.nb_easy import k12ai_get_top_dir, RACEURL\n",
    "from k12libs.utils.nb_easy import K12AI_DATASETS_ROOT"
   ]
  },
  {
   "cell_type": "code",
   "execution_count": 75,
   "metadata": {
    "ExecuteTime": {
     "end_time": "2020-12-01T11:43:29.259026Z",
     "start_time": "2020-12-01T11:43:29.252517Z"
    }
   },
   "outputs": [],
   "source": [
    "R_PREFIX = 'https://raceai.s3.didiyunapi.com/data/datasets/cv/rgarbage'\n",
    "L_PREFIX = '/raceai/data/datasets/rgarbage'\n",
    "CSV_FILE = f'{R_PREFIX}/test.csv'\n",
    "\n",
    "API_INFERENCE = f'{RACEURL}/raceai/framework/inference'"
   ]
  },
  {
   "cell_type": "code",
   "execution_count": 76,
   "metadata": {
    "ExecuteTime": {
     "end_time": "2020-12-01T11:43:30.743396Z",
     "start_time": "2020-12-01T11:43:30.644747Z"
    }
   },
   "outputs": [
    {
     "data": {
      "text/plain": [
       "'imgs/可回收物/可回收物_不锈钢制品/img_不锈钢制品_188.jpeg'"
      ]
     },
     "execution_count": 76,
     "metadata": {},
     "output_type": "execute_result"
    }
   ],
   "source": [
    "csv_file = urlretrieve(CSV_FILE, os.path.join('/tmp/', os.path.basename(CSV_FILE)))\n",
    "with open(csv_file[0], 'r') as fr:\n",
    "    reader = csv.DictReader(fr)\n",
    "    data = [row for row in reader]\n",
    "data_10  = sample(data, 10) \n",
    "data_10[0]['image_path']"
   ]
  },
  {
   "cell_type": "code",
   "execution_count": 135,
   "metadata": {
    "ExecuteTime": {
     "end_time": "2020-12-01T14:56:43.672367Z",
     "start_time": "2020-12-01T14:56:43.665919Z"
    }
   },
   "outputs": [],
   "source": [
    "model = 'Resnet18'\n",
    "root_dir = '/raceai/data/tmp/pl_rgarbage_resnet18'\n",
    "input_size = 224\n",
    "mean = [\n",
    "    0.6535,\n",
    "    0.6132,\n",
    "    0.5643\n",
    "]\n",
    "std = [\n",
    "    0.2165,\n",
    "    0.2244,\n",
    "    0.2416\n",
    "]\n",
    "num_classes = 4\n",
    "resume_weights = f\"/raceai/data/ckpts/rgarbage/pl_resnet18_acc70.pth\"\n",
    "\n",
    "reqdata = '''{\n",
    "    \"task\": \"cls.inference.pl\",\n",
    "    \"cfg\": {\n",
    "        \"data\": {\n",
    "            \"class_name\": \"raceai.data.process.PathListDataLoader\",\n",
    "            \"params\": {\n",
    "                \"data_source\": %s,\n",
    "                \"dataset\": {\n",
    "                    \"class_name\": \"raceai.data.PredictListImageDataset\",\n",
    "                     \"params\": {\n",
    "                         \"input_size\": input_size,\n",
    "                         \"mean\": mean,\n",
    "                         \"std\": std\n",
    "                     }\n",
    "                 },\n",
    "                \"sample\": {\n",
    "                    \"batch_size\": 32,\n",
    "                    \"num_workers\": 4,\n",
    "                }\n",
    "             }\n",
    "        },\n",
    "        \"model\": {\n",
    "            \"class_name\": f\"raceai.models.backbone.{model}\",  \n",
    "            \"params\": {\n",
    "                \"device\": 'gpu',\n",
    "                \"num_classes\": num_classes,\n",
    "                \"weights\": False\n",
    "            }\n",
    "        },\n",
    "        \"trainer\": {\n",
    "            \"default_root_dir\": root_dir,\n",
    "            \"gpus\": 1,\n",
    "            \"resume_from_checkpoint\": resume_weights\n",
    "        }\n",
    "    }\n",
    "}'''"
   ]
  },
  {
   "cell_type": "markdown",
   "metadata": {},
   "source": [
    "## Single Image"
   ]
  },
  {
   "cell_type": "code",
   "execution_count": 136,
   "metadata": {
    "ExecuteTime": {
     "end_time": "2020-12-01T14:57:37.776845Z",
     "start_time": "2020-12-01T14:56:45.887403Z"
    }
   },
   "outputs": [
    {
     "name": "stdout",
     "output_type": "stream",
     "text": [
      "img_不锈钢制品_188.jpeg: 2 vs 2\n",
      "img_毛巾_290.jpeg: 0 vs 0\n",
      "img_纽扣电池_78.jpeg: 3 vs 2\n",
      "img_药片_48.jpeg: 3 vs 3\n",
      "img_面包_39.jpeg: 1 vs 1\n",
      "img_面包_232.jpeg: 1 vs 1\n",
      "img_电池_529.jpeg: 3 vs 3\n",
      "img_红花油_28.jpeg: 3 vs 3\n",
      "img_汉堡_109.jpeg: 1 vs 3\n",
      "img_药片_73.jpeg: 3 vs 0\n"
     ]
    }
   ],
   "source": [
    "for row in data_10:\n",
    "    imgpath = os.path.join(L_PREFIX, row['image_path'])\n",
    "    cfg = eval(reqdata % (\"[\\\"\" + imgpath + \"\\\"]\"))\n",
    "    resdata = json.loads(requests.post(url=API_INFERENCE, json=cfg).text)\n",
    "    if resdata['errno'] == 0:\n",
    "        result = resdata['result'][0]\n",
    "        fname = result['fname']\n",
    "        probs = result['probs']\n",
    "        print('{}: {} vs {}'.format(fname, row['label'], probs.index(max(probs))))"
   ]
  },
  {
   "cell_type": "markdown",
   "metadata": {},
   "source": [
    "## Batch Images"
   ]
  },
  {
   "cell_type": "code",
   "execution_count": 131,
   "metadata": {
    "ExecuteTime": {
     "end_time": "2020-12-01T14:54:12.316939Z",
     "start_time": "2020-12-01T14:54:06.864891Z"
    }
   },
   "outputs": [
    {
     "name": "stdout",
     "output_type": "stream",
     "text": [
      "img_不锈钢制品_188.jpeg: 2 vs 2\n",
      "img_毛巾_290.jpeg: 0 vs 0\n",
      "img_纽扣电池_78.jpeg: 3 vs 3\n",
      "img_药片_48.jpeg: 3 vs 3\n",
      "img_面包_39.jpeg: 1 vs 1\n",
      "img_面包_232.jpeg: 1 vs 1\n",
      "img_电池_529.jpeg: 3 vs 3\n",
      "img_红花油_28.jpeg: 3 vs 3\n",
      "img_汉堡_109.jpeg: 1 vs 1\n",
      "img_药片_73.jpeg: 3 vs 3\n"
     ]
    },
    {
     "data": {
      "text/plain": [
       "{'errno': 0,\n",
       " 'result': [{'fname': 'img_不锈钢制品_188.jpeg',\n",
       "   'probs': [9.478302672505379e-05,\n",
       "    0.0001377913577016443,\n",
       "    0.999762237071991,\n",
       "    5.1964780141133815e-06]},\n",
       "  {'fname': 'img_毛巾_290.jpeg',\n",
       "   'probs': [0.7620434165000916,\n",
       "    0.23186975717544556,\n",
       "    0.005751080345362425,\n",
       "    0.00033575136330910027]},\n",
       "  {'fname': 'img_纽扣电池_78.jpeg',\n",
       "   'probs': [0.006104649975895882,\n",
       "    7.1398867476091255e-06,\n",
       "    0.3644082546234131,\n",
       "    0.6294800043106079]},\n",
       "  {'fname': 'img_药片_48.jpeg',\n",
       "   'probs': [0.16693489253520966,\n",
       "    0.054228123277425766,\n",
       "    0.05048124119639397,\n",
       "    0.7283557653427124]},\n",
       "  {'fname': 'img_面包_39.jpeg',\n",
       "   'probs': [4.2797486798917816e-07,\n",
       "    0.9985795021057129,\n",
       "    2.1652081159118097e-06,\n",
       "    0.0014179437421262264]},\n",
       "  {'fname': 'img_面包_232.jpeg',\n",
       "   'probs': [0.002373164752498269,\n",
       "    0.9967215657234192,\n",
       "    0.0009043923346325755,\n",
       "    7.759157938380667e-07]},\n",
       "  {'fname': 'img_电池_529.jpeg',\n",
       "   'probs': [0.009048981592059135,\n",
       "    0.00017791068239603192,\n",
       "    7.487944822059944e-05,\n",
       "    0.9906982779502869]},\n",
       "  {'fname': 'img_红花油_28.jpeg',\n",
       "   'probs': [7.060209554765606e-07,\n",
       "    1.0898508662648965e-05,\n",
       "    4.710153461928712e-06,\n",
       "    0.9999837875366211]},\n",
       "  {'fname': 'img_汉堡_109.jpeg',\n",
       "   'probs': [0.0012159388279542327,\n",
       "    0.9983678460121155,\n",
       "    1.0499871905267355e-07,\n",
       "    0.0004161035758443177]},\n",
       "  {'fname': 'img_药片_73.jpeg',\n",
       "   'probs': [0.05414366349577904,\n",
       "    0.00011877645010827109,\n",
       "    0.03780706599354744,\n",
       "    0.9079305529594421]}]}"
      ]
     },
     "execution_count": 131,
     "metadata": {},
     "output_type": "execute_result"
    }
   ],
   "source": [
    "images = [os.path.join(L_PREFIX, row['image_path']) for row in data_10]\n",
    "labels = [row['label'] for row in data_10]\n",
    "cfg = eval(reqdata % json.dumps(images, ensure_ascii=False))\n",
    "resdata = json.loads(requests.post(url=API_INFERENCE, json=cfg).text)\n",
    "if resdata['errno'] == 0:\n",
    "    for item, label in zip(resdata['result'], labels):\n",
    "        fname = item['fname']\n",
    "        probs = item['probs']\n",
    "        print('{}: {} vs {}'.format(fname, label, probs.index(max(probs))))\n",
    "resdata"
   ]
  }
 ],
 "metadata": {
  "kernelspec": {
   "display_name": "Python 3",
   "language": "python",
   "name": "python3"
  },
  "language_info": {
   "codemirror_mode": {
    "name": "ipython",
    "version": 3
   },
   "file_extension": ".py",
   "mimetype": "text/x-python",
   "name": "python",
   "nbconvert_exporter": "python",
   "pygments_lexer": "ipython3",
   "version": "3.6.9"
  },
  "toc": {
   "base_numbering": 1,
   "nav_menu": {},
   "number_sections": true,
   "sideBar": true,
   "skip_h1_title": true,
   "title_cell": "",
   "title_sidebar": "Contents",
   "toc_cell": false,
   "toc_position": {},
   "toc_section_display": true,
   "toc_window_display": false
  }
 },
 "nbformat": 4,
 "nbformat_minor": 4
}
