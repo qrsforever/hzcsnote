{
 "cells": [
  {
   "cell_type": "code",
   "execution_count": 1,
   "metadata": {
    "ExecuteTime": {
     "end_time": "2021-06-22T09:37:25.048572Z",
     "start_time": "2021-06-22T09:37:19.633004Z"
    }
   },
   "outputs": [
    {
     "name": "stdout",
     "output_type": "stream",
     "text": [
      "CPython 3.6.9\n",
      "IPython 7.16.1\n",
      "\n",
      "numpy 1.19.4\n",
      "sklearn 0.24.0\n",
      "pandas 1.1.5\n",
      "CPython 3.6.9\n",
      "IPython 7.16.1\n",
      "\n",
      "cv2 4.5.1\n",
      "PIL 6.2.2\n",
      "matplotlib 3.3.3\n",
      "CPython 3.6.9\n",
      "IPython 7.16.1\n",
      "\n",
      "torch 1.8.0.dev20210103+cu101\n",
      "torchvision 0.9.0.dev20210103+cu101\n",
      "torchaudio not installed\n"
     ]
    },
    {
     "data": {
      "text/html": [
       "<style>.container { width:90% !important; }</style>"
      ],
      "text/plain": [
       "<IPython.core.display.HTML object>"
      ]
     },
     "metadata": {},
     "output_type": "display_data"
    }
   ],
   "source": [
    "%reload_ext watermark\n",
    "%reload_ext autoreload\n",
    "%autoreload 2\n",
    "%watermark -v -p numpy,sklearn,pandas\n",
    "%watermark -v -p cv2,PIL,matplotlib\n",
    "%watermark -v -p torch,torchvision,torchaudio\n",
    "%matplotlib inline\n",
    "%config InlineBackend.figure_format='retina'\n",
    "%config IPCompleter.use_jedi = False\n",
    "\n",
    "from IPython.display import display, HTML, Javascript\n",
    "display(HTML('<style>.container { width:%d%% !important; }</style>' % 90))\n",
    "\n",
    "def _IMPORT_(x):\n",
    "    try:\n",
    "        exec(x, globals())\n",
    "    except:\n",
    "        pass\n",
    "\n"
   ]
  },
  {
   "cell_type": "code",
   "execution_count": 2,
   "metadata": {
    "ExecuteTime": {
     "end_time": "2021-06-22T09:37:26.900385Z",
     "start_time": "2021-06-22T09:37:25.051135Z"
    }
   },
   "outputs": [],
   "source": [
    "###\n",
    "### Common ###\n",
    "###\n",
    "\n",
    "import sys, os, io, time, random, math\n",
    "import json, base64, requests\n",
    "import os.path as osp\n",
    "\n",
    "_IMPORT_('import numpy as np')\n",
    "_IMPORT_('import pandas as pd')\n",
    "_IMPORT_('from tqdm.notebook import tqdm')\n",
    "\n",
    "def print_progress_bar(x):\n",
    "    print('\\r', end='')\n",
    "    print('Progress: {}%:'.format(x), '%s%s' % ('▋'*(x//2), '.'*((100-x)//2)), end='')\n",
    "    sys.stdout.flush()\n",
    "\n",
    "###\n",
    "### Torch ###\n",
    "###\n",
    "\n",
    "_IMPORT_('import torch')\n",
    "_IMPORT_('import torch.nn as nn')\n",
    "_IMPORT_('import torch.nn.functional as F')\n",
    "_IMPORT_('import torch.optim as O')\n",
    "_IMPORT_('from torchvision import models as M')\n",
    "_IMPORT_('from torchvision import transforms as T')\n",
    "_IMPORT_('from torch.utils.data import Dataset, DataLoader')\n",
    "\n",
    "###\n",
    "### Display ###\n",
    "###\n",
    "\n",
    "_IMPORT_('import cv2')\n",
    "_IMPORT_('from PIL import Image')\n",
    "_IMPORT_('from torchvision.utils import make_grid')\n",
    "_IMPORT_('import matplotlib.pyplot as plt')\n",
    "_IMPORT_('import plotly')\n",
    "_IMPORT_('import plotly.graph_objects as go')\n",
    "\n",
    "# plotly.offline.init_notebook_mode(connected=False)\n",
    "\n",
    "plt.rcParams['figure.figsize'] = (12.0, 8.0)\n",
    "\n",
    "def show_video(vidsrc, width=None, height=None):\n",
    "    W, H = '', ''\n",
    "    if width:\n",
    "        W = 'width=%d' % width\n",
    "    if height:\n",
    "        H = 'height=%d' % height\n",
    "    if vidsrc.startswith('http'):\n",
    "        data_url = vidsrc\n",
    "    else:\n",
    "        mp4 = open(vidsrc, 'rb').read()\n",
    "        data_url = 'data:video/mp4;base64,' + base64.b64encode(mp4).decode()\n",
    "    return HTML('<video %s %s controls src=\"%s\" type=\"video/mp4\"/>' % (W, H, data_url))\n",
    "\n",
    "def show_image(imgsrc, width=None, height=None):\n",
    "    if isinstance(imgsrc, np.ndarray):\n",
    "        img = imgsrc\n",
    "        if width or height:\n",
    "            if width and height:\n",
    "                size = (width, height)\n",
    "            else:\n",
    "                rate = img.shape[1] / img.shape[0]\n",
    "                if width:\n",
    "                    size = (width, int(width/rate))\n",
    "                else:\n",
    "                    size = (int(height*rate), height)\n",
    "            img = cv2.resize(img, size)\n",
    "            plt.figure(figsize=(3*int(size[0]/80+1), 3*int(size[1]/80+1)), dpi=80)\n",
    "        plt.axis('off')\n",
    "        if len(img.shape) > 2:\n",
    "            plt.imshow(img);\n",
    "        else:\n",
    "            plt.imshow(img, cmap='gray');\n",
    "        return\n",
    "\n",
    "    W, H = '', ''\n",
    "    if width:\n",
    "        W = 'width=%d' % width\n",
    "    if height:\n",
    "        H = 'height=%d' % height\n",
    "    if imgsrc.startswith('http'):\n",
    "        data_url = imgsrc\n",
    "    else:\n",
    "        if len(imgsrc) > 2048:\n",
    "            data_url = 'data:image/jpg;base64,' + imgsrc\n",
    "        else:\n",
    "            img = open(imgsrc, 'rb').read()\n",
    "            data_url = 'data:image/jpg;base64,' + base64.b64encode(img).decode()\n",
    "    return HTML('<img %s %s src=\"%s\"/>' % (W, H, data_url))\n",
    "\n",
    "    W, H = '', ''\n",
    "    if width:\n",
    "        W = 'width=%d' % width\n",
    "    if height:\n",
    "        H = 'height=%d' % height\n",
    "    if image_path.startswith('http'):\n",
    "        data_url = image_path\n",
    "    else:\n",
    "        img = open(image_path, 'rb').read()\n",
    "        data_url = 'data:image/jpg;base64,' + base64.b64encode(img).decode()\n",
    "    return HTML('<img %s %s src=\"%s\"/>' % (W, H, data_url))\n",
    "\n",
    "def im_read(url, rgb=True, size=None):\n",
    "    response = requests.get(url)\n",
    "    if response:\n",
    "        imgmat = np.frombuffer(response.content, dtype=np.uint8)\n",
    "        img = cv2.imdecode(imgmat, cv2.IMREAD_COLOR)\n",
    "        if rgb:\n",
    "            img = cv2.cvtColor(img, cv2.COLOR_BGR2RGB)\n",
    "        if size:\n",
    "           if isinstance(size, int):\n",
    "               size = (size, size)\n",
    "           img = cv2.resize(img, size, interpolation=cv2.INTER_AREA)\n",
    "        return img\n",
    "    return None\n",
    "\n",
    "\n",
    "from k12libs.utils.nb_easy import RACEURL"
   ]
  },
  {
   "cell_type": "code",
   "execution_count": 3,
   "metadata": {
    "ExecuteTime": {
     "end_time": "2021-06-22T09:37:27.148737Z",
     "start_time": "2021-06-22T09:37:27.024223Z"
    }
   },
   "outputs": [
    {
     "data": {
      "text/plain": [
       "'http://116.85.5.40:9119/raceai/framework/inference'"
      ]
     },
     "execution_count": 3,
     "metadata": {},
     "output_type": "execute_result"
    }
   ],
   "source": [
    "API_INFERENCE = f'{RACEURL}/raceai/framework/inference'\n",
    "API_INFERENCE"
   ]
  },
  {
   "cell_type": "code",
   "execution_count": 4,
   "metadata": {
    "ExecuteTime": {
     "end_time": "2021-06-22T09:37:27.806680Z",
     "start_time": "2021-06-22T09:37:27.702568Z"
    }
   },
   "outputs": [
    {
     "data": {
      "text/plain": [
       "'http://116.85.5.40:9119/raceai/private/popmsg'"
      ]
     },
     "execution_count": 4,
     "metadata": {},
     "output_type": "execute_result"
    }
   ],
   "source": [
    "API_POPMSG = f'{RACEURL}/raceai/private/popmsg'\n",
    "API_POPMSG "
   ]
  },
  {
   "cell_type": "code",
   "execution_count": 5,
   "metadata": {
    "ExecuteTime": {
     "end_time": "2021-06-22T09:37:40.571165Z",
     "start_time": "2021-06-22T09:37:40.472685Z"
    }
   },
   "outputs": [],
   "source": [
    "MODEL_TASK = 'zmq.pat.resnet18.inference'\n",
    "MSGKEY = 'zmq.pat.pl.test'\n",
    "IMG_ROOT = '/raceai/data/datasets/Pat/'"
   ]
  },
  {
   "cell_type": "code",
   "execution_count": 6,
   "metadata": {
    "ExecuteTime": {
     "end_time": "2021-06-22T09:37:43.335498Z",
     "start_time": "2021-06-22T09:37:42.215888Z"
    }
   },
   "outputs": [
    {
     "name": "stdout",
     "output_type": "stream",
     "text": [
      "{\r\n",
      "    \"num_records\": 90,\r\n",
      "    \"num_classes\": 6,\r\n",
      "    \"label_names\": [\r\n",
      "        \"ji_wawa\",\r\n",
      "        \"Siamese_kitten\",\r\n",
      "        \"Tactic_dog\",\r\n",
      "        \"british_shorthair\",\r\n",
      "        \"Persian_cat\",\r\n",
      "        \"Golden_hair\"\r\n",
      "    ],\r\n",
      "    \"mean\": [\r\n",
      "        0.6159,\r\n",
      "        0.5733,\r\n",
      "        0.5145\r\n",
      "    ],\r\n",
      "    \"std\": [\r\n",
      "        0.2117,\r\n",
      "        0.2243,\r\n",
      "        0.2408\r\n",
      "    ]\r\n",
      "}"
     ]
    }
   ],
   "source": [
    "!cat $IMG_ROOT/info.json "
   ]
  },
  {
   "cell_type": "markdown",
   "metadata": {},
   "source": [
    "## 输入"
   ]
  },
  {
   "cell_type": "code",
   "execution_count": 7,
   "metadata": {
    "ExecuteTime": {
     "end_time": "2021-06-22T09:40:18.138679Z",
     "start_time": "2021-06-22T09:40:18.035098Z"
    }
   },
   "outputs": [],
   "source": [
    "cfgdata = '''{\n",
    "    \"task\": \"%s\",\n",
    "    \"cfg\": {\n",
    "        \"pigeon\": {\n",
    "            \"msgkey\": \"%s\",\n",
    "            \"user\": \"1\",\n",
    "            \"uuid\": \"100\"\n",
    "        },\n",
    "        \"data\": {\n",
    "            \"class_name\": \"raceai.data.process.PathListDataLoader\",\n",
    "            \"params\": {\n",
    "                \"data_source\": [\n",
    "                    {\"image_path\": \"ji_wawa/ji_wawa4.jpg\", \"image_id\": 1},\n",
    "                    {\"image_path\": \"Siamese_kitten/Siamese_kitten7.jpg\", \"image_id\": 2},\n",
    "                    {\"image_path\": \"Siamese_kitten/Siamese_kitten7.jpg\", \"image_id\": 3}\n",
    "                ],\n",
    "                \"dataset\": {\n",
    "                    \"class_name\": \"raceai.data.PredictListImageDataset\",\n",
    "                    \"params\": {\n",
    "                        \"data_prefix\": \"%s\",\n",
    "                        \"input_size\": 224\n",
    "                    }\n",
    "                },\n",
    "                \"sample\": {\n",
    "                    \"batch_size\": 32,\n",
    "                    \"num_workers\": 4,\n",
    "                }\n",
    "            }\n",
    "        }\n",
    "    }\n",
    "}''' % (MODEL_TASK, MSGKEY, IMG_ROOT)"
   ]
  },
  {
   "cell_type": "code",
   "execution_count": 11,
   "metadata": {
    "ExecuteTime": {
     "end_time": "2021-06-22T09:40:56.769123Z",
     "start_time": "2021-06-22T09:40:56.673829Z"
    }
   },
   "outputs": [
    {
     "name": "stdout",
     "output_type": "stream",
     "text": [
      "{\n",
      "    \"task\": \"zmq.pat.resnet18.inference\",\n",
      "    \"cfg\": {\n",
      "        \"pigeon\": {\n",
      "            \"msgkey\": \"zmq.pat.pl.test\",\n",
      "            \"user\": \"1\",\n",
      "            \"uuid\": \"100\"\n",
      "        },\n",
      "        \"data\": {\n",
      "            \"class_name\": \"raceai.data.process.PathListDataLoader\",\n",
      "            \"params\": {\n",
      "                \"data_source\": [\n",
      "                    {\"image_path\": \"ji_wawa/ji_wawa4.jpg\", \"image_id\": 1},\n",
      "                    {\"image_path\": \"Siamese_kitten/Siamese_kitten7.jpg\", \"image_id\": 2},\n",
      "                    {\"image_path\": \"Siamese_kitten/Siamese_kitten7.jpg\", \"image_id\": 3}\n",
      "                ],\n",
      "                \"dataset\": {\n",
      "                    \"class_name\": \"raceai.data.PredictListImageDataset\",\n",
      "                    \"params\": {\n",
      "                        \"data_prefix\": \"/raceai/data/datasets/Pat/\",\n",
      "                        \"input_size\": 224\n",
      "                    }\n",
      "                },\n",
      "                \"sample\": {\n",
      "                    \"batch_size\": 32,\n",
      "                    \"num_workers\": 4,\n",
      "                }\n",
      "            }\n",
      "        }\n",
      "    }\n",
      "}\n"
     ]
    }
   ],
   "source": [
    "print(cfgdata)"
   ]
  },
  {
   "cell_type": "code",
   "execution_count": 8,
   "metadata": {
    "ExecuteTime": {
     "end_time": "2021-06-22T09:40:23.402212Z",
     "start_time": "2021-06-22T09:40:22.246084Z"
    }
   },
   "outputs": [],
   "source": [
    "reqdata = eval(cfgdata)\n",
    "json.loads(requests.get(url=f'{API_POPMSG}?key={MSGKEY}').text)\n",
    "json.loads(requests.post(url=API_INFERENCE, json=reqdata).text)\n",
    "time.sleep(1)"
   ]
  },
  {
   "cell_type": "code",
   "execution_count": 9,
   "metadata": {
    "ExecuteTime": {
     "end_time": "2021-06-22T09:40:24.653726Z",
     "start_time": "2021-06-22T09:40:24.540589Z"
    }
   },
   "outputs": [
    {
     "data": {
      "text/plain": [
       "[{'pigeon': {'msgkey': 'zmq.pat.pl.test', 'user': '1', 'uuid': '100'},\n",
       "  'task': 'zmq.pat.resnet18.inference',\n",
       "  'errno': 0,\n",
       "  'result': [{'image_path': '/raceai/data/datasets/Pat/ji_wawa/ji_wawa4.jpg',\n",
       "    'image_id': 1,\n",
       "    'probs': [0.8183660507202148,\n",
       "     0.03215866535902023,\n",
       "     0.016211196780204773,\n",
       "     0.0604383759200573,\n",
       "     0.04063527658581734,\n",
       "     0.032190438359975815],\n",
       "    'probs_sorted': {'values': [0.8183660507202148,\n",
       "      0.0604383759200573,\n",
       "      0.04063527658581734,\n",
       "      0.032190438359975815,\n",
       "      0.03215866535902023,\n",
       "      0.016211196780204773],\n",
       "     'indices': [0, 3, 4, 5, 1, 2]}},\n",
       "   {'image_path': '/raceai/data/datasets/Pat/Siamese_kitten/Siamese_kitten7.jpg',\n",
       "    'image_id': 2,\n",
       "    'probs': [0.0033279573544859886,\n",
       "     0.016651343554258347,\n",
       "     0.00030721109942533076,\n",
       "     0.007637443020939827,\n",
       "     0.9708837270736694,\n",
       "     0.0011923301499336958],\n",
       "    'probs_sorted': {'values': [0.9708837270736694,\n",
       "      0.016651343554258347,\n",
       "      0.007637443020939827,\n",
       "      0.0033279573544859886,\n",
       "      0.0011923301499336958,\n",
       "      0.00030721109942533076],\n",
       "     'indices': [4, 1, 3, 0, 5, 2]}},\n",
       "   {'image_path': '/raceai/data/datasets/Pat/Siamese_kitten/Siamese_kitten7.jpg',\n",
       "    'image_id': 3,\n",
       "    'probs': [0.0033279573544859886,\n",
       "     0.016651343554258347,\n",
       "     0.00030721109942533076,\n",
       "     0.007637443020939827,\n",
       "     0.9708837270736694,\n",
       "     0.0011923301499336958],\n",
       "    'probs_sorted': {'values': [0.9708837270736694,\n",
       "      0.016651343554258347,\n",
       "      0.007637443020939827,\n",
       "      0.0033279573544859886,\n",
       "      0.0011923301499336958,\n",
       "      0.00030721109942533076],\n",
       "     'indices': [4, 1, 3, 0, 5, 2]}}],\n",
       "  'running_time': 1.406}]"
      ]
     },
     "execution_count": 9,
     "metadata": {},
     "output_type": "execute_result"
    }
   ],
   "source": [
    "json.loads(requests.get(url=f'{API_POPMSG}?key={MSGKEY}').text)"
   ]
  }
 ],
 "metadata": {
  "hide_input": false,
  "kernelspec": {
   "display_name": "Python 3",
   "language": "python",
   "name": "python3"
  },
  "language_info": {
   "codemirror_mode": {
    "name": "ipython",
    "version": 3
   },
   "file_extension": ".py",
   "mimetype": "text/x-python",
   "name": "python",
   "nbconvert_exporter": "python",
   "pygments_lexer": "ipython3",
   "version": "3.6.9"
  },
  "toc": {
   "base_numbering": 1,
   "nav_menu": {},
   "number_sections": true,
   "sideBar": true,
   "skip_h1_title": true,
   "title_cell": "",
   "title_sidebar": "Contents",
   "toc_cell": false,
   "toc_position": {
    "height": "calc(100% - 180px)",
    "left": "10px",
    "top": "150px",
    "width": "349.091px"
   },
   "toc_section_display": true,
   "toc_window_display": false
  }
 },
 "nbformat": 4,
 "nbformat_minor": 4
}
