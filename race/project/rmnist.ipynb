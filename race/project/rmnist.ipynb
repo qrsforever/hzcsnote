{
 "cells": [
  {
   "cell_type": "code",
   "execution_count": 1,
   "metadata": {
    "ExecuteTime": {
     "end_time": "2020-12-16T14:27:42.749213Z",
     "start_time": "2020-12-16T14:27:41.285405Z"
    }
   },
   "outputs": [],
   "source": [
    "import os\n",
    "import csv # noqa\n",
    "import json\n",
    "import requests\n",
    "import base64\n",
    "import PIL.Image as Image\n",
    "from pprint import pprint\n",
    "from random import sample\n",
    "from urllib.request import urlretrieve\n",
    "from k12libs.utils.nb_easy import k12ai_get_top_dir, RACEURL\n",
    "from k12libs.utils.nb_easy import K12AI_DATASETS_ROOT"
   ]
  },
  {
   "cell_type": "markdown",
   "metadata": {},
   "source": [
    "## 开发调试"
   ]
  },
  {
   "cell_type": "code",
   "execution_count": 2,
   "metadata": {
    "ExecuteTime": {
     "end_time": "2020-12-16T14:27:42.760171Z",
     "start_time": "2020-12-16T14:27:42.753995Z"
    }
   },
   "outputs": [],
   "source": [
    "R_PREFIX = 'https://raceai.s3.didiyunapi.com/data/datasets/cv/rmnist'\n",
    "E_PREFIX = f'{K12AI_DATASETS_ROOT}/cv/rmnist/'\n",
    "L_PREFIX = '/raceai/data/datasets/rmnist'\n",
    "JSON_FILE = f'{R_PREFIX}/test.json'\n",
    "\n",
    "API_INFERENCE = f'{RACEURL}/raceai/framework/inference'"
   ]
  },
  {
   "cell_type": "code",
   "execution_count": 3,
   "metadata": {
    "ExecuteTime": {
     "end_time": "2020-12-16T14:27:42.780259Z",
     "start_time": "2020-12-16T14:27:42.764560Z"
    }
   },
   "outputs": [],
   "source": [
    "with open(f'{E_PREFIX}/test_rotation.json', 'r') as fr:\n",
    "    reader = json.load(fr)\n",
    "    data_10  = sample(reader, 10) \n",
    "    data_10[0]['image_path']"
   ]
  },
  {
   "cell_type": "code",
   "execution_count": 4,
   "metadata": {
    "ExecuteTime": {
     "end_time": "2020-12-16T14:27:42.793958Z",
     "start_time": "2020-12-16T14:27:42.784243Z"
    }
   },
   "outputs": [],
   "source": [
    "def img2b64(path):\n",
    "    with open(path, 'rb') as fr:\n",
    "        b4data = base64.b64encode(fr.read()).decode()\n",
    "    return b4data"
   ]
  },
  {
   "cell_type": "code",
   "execution_count": 5,
   "metadata": {
    "ExecuteTime": {
     "end_time": "2020-12-16T14:27:42.825907Z",
     "start_time": "2020-12-16T14:27:42.797029Z"
    }
   },
   "outputs": [
    {
     "data": {
      "image/png": "[encoded data removed]",
      "text/plain": [
       "<PIL.JpegImagePlugin.JpegImageFile image mode=L size=28x28 at 0x7FD7C25C97B8>"
      ]
     },
     "execution_count": 5,
     "metadata": {},
     "output_type": "execute_result"
    }
   ],
   "source": [
    "test_pic = f\"{E_PREFIX}/{data_10[0]['image_path']}\"\n",
    "Image.open(test_pic)"
   ]
  },
  {
   "cell_type": "code",
   "execution_count": 6,
   "metadata": {
    "ExecuteTime": {
     "end_time": "2020-12-16T14:27:42.840429Z",
     "start_time": "2020-12-16T14:27:42.829479Z"
    }
   },
   "outputs": [],
   "source": [
    "model = 'Resnet18'\n",
    "root_dir = '/raceai/data/tmp/pl_rmnist_resnet18'\n",
    "input_size = 28\n",
    "mean = [\n",
    "    0.1362,\n",
    "    0.1362,\n",
    "    0.1362\n",
    "]\n",
    "std = [\n",
    "    0.2893,\n",
    "    0.2893,\n",
    "    0.2893\n",
    "]\n",
    "num_classes = 10\n",
    "resume_weights = f\"/raceai/data/ckpts/rmnist/pl_resnet18_rotation.pth\"\n",
    "\n",
    "DATA_PROCESS_BASE64 = 'raceai.data.process.Base64DataLoader'\n",
    "DATA_PROCESS_PATHLIST = 'raceai.data.process.PathListDataLoader'\n",
    "\n",
    "reqdata = '''{\n",
    "    \"task\": \"cls.inference.pl\",\n",
    "    \"cfg\": {\n",
    "        \"data\": {\n",
    "            \"class_name\": \"%s\",\n",
    "            \"params\": {\n",
    "                \"data_source\": %s,\n",
    "                \"dataset\": {\n",
    "                    \"class_name\": \"raceai.data.PredictListImageDataset\",\n",
    "                     \"params\": {\n",
    "                         \"input_size\": input_size,\n",
    "                         \"mean\": mean,\n",
    "                         \"std\": std\n",
    "                     }\n",
    "                 },\n",
    "                \"sample\": {\n",
    "                    \"batch_size\": 32,\n",
    "                    \"num_workers\": 4,\n",
    "                }\n",
    "             }\n",
    "        },\n",
    "        \"model\": {\n",
    "            \"class_name\": f\"raceai.models.backbone.{model}\",  \n",
    "            \"params\": {\n",
    "                \"device\": 'gpu',\n",
    "                \"num_classes\": num_classes,\n",
    "                \"weights\": False\n",
    "            }\n",
    "        },\n",
    "        \"trainer\": {\n",
    "            \"default_root_dir\": root_dir,\n",
    "            \"gpus\": 1,\n",
    "            \"resume_from_checkpoint\": resume_weights\n",
    "        }\n",
    "    }\n",
    "}'''"
   ]
  },
  {
   "cell_type": "markdown",
   "metadata": {},
   "source": [
    "### Single Image"
   ]
  },
  {
   "cell_type": "code",
   "execution_count": 7,
   "metadata": {
    "ExecuteTime": {
     "end_time": "2020-12-16T14:27:48.123536Z",
     "start_time": "2020-12-16T14:27:42.843838Z"
    }
   },
   "outputs": [
    {
     "name": "stdout",
     "output_type": "stream",
     "text": [
      "/raceai/data/datasets/rmnist/imgs/test_rotation/04603.jpg: 3 vs 3\n"
     ]
    }
   ],
   "source": [
    "for row in data_10:\n",
    "    imgpath = os.path.join(L_PREFIX, row['image_path'])\n",
    "    cfg = eval(reqdata % (DATA_PROCESS_PATHLIST, \"[\\\"\" + imgpath + \"\\\"]\"))\n",
    "    resdata = json.loads(requests.post(url=API_INFERENCE, json=cfg).text)\n",
    "    if resdata['errno'] == 0:\n",
    "        result = resdata['result'][0]\n",
    "        fname = result['image_path']\n",
    "        probs = result['probs']\n",
    "        print('{}: {} vs {}'.format(fname, row['label'], probs.index(max(probs))))\n",
    "    break"
   ]
  },
  {
   "cell_type": "markdown",
   "metadata": {},
   "source": [
    "### Base64 Image"
   ]
  },
  {
   "cell_type": "code",
   "execution_count": 8,
   "metadata": {
    "ExecuteTime": {
     "end_time": "2020-12-16T14:28:41.082510Z",
     "start_time": "2020-12-16T14:27:48.128700Z"
    }
   },
   "outputs": [
    {
     "name": "stdout",
     "output_type": "stream",
     "text": [
      "/tmp/b4img_1608128868.png: 3 vs 3\n",
      "/tmp/b4img_1608128873.png: 0 vs 0\n",
      "/tmp/b4img_1608128878.png: 3 vs 3\n",
      "/tmp/b4img_1608128884.png: 0 vs 0\n",
      "/tmp/b4img_1608128889.png: 8 vs 8\n",
      "/tmp/b4img_1608128894.png: 1 vs 1\n",
      "/tmp/b4img_1608128900.png: 6 vs 6\n",
      "/tmp/b4img_1608128905.png: 8 vs 8\n",
      "/tmp/b4img_1608128910.png: 4 vs 4\n",
      "/tmp/b4img_1608128915.png: 1 vs 1\n"
     ]
    }
   ],
   "source": [
    "for row in data_10:\n",
    "    imgpath = os.path.join(E_PREFIX, row['image_path'])\n",
    "    b64str = img2b64(imgpath)\n",
    "    cfg = eval(reqdata % (DATA_PROCESS_BASE64, f\"\\\"{b64str}\\\"\"))\n",
    "    resdata = json.loads(requests.post(url=API_INFERENCE, json=cfg).text)\n",
    "    if resdata['errno'] == 0:\n",
    "        result = resdata['result'][0]\n",
    "        fname = result['image_path']\n",
    "        probs = result['probs']\n",
    "        print('{}: {} vs {}'.format(fname, row['label'], probs.index(max(probs))))\n",
    "    else:\n",
    "        print(resdata)"
   ]
  },
  {
   "cell_type": "markdown",
   "metadata": {},
   "source": [
    "### Batch Images"
   ]
  },
  {
   "cell_type": "code",
   "execution_count": 10,
   "metadata": {
    "ExecuteTime": {
     "end_time": "2020-12-16T14:31:49.583423Z",
     "start_time": "2020-12-16T14:31:44.077426Z"
    },
    "scrolled": false
   },
   "outputs": [
    {
     "name": "stdout",
     "output_type": "stream",
     "text": [
      "/raceai/data/datasets/rmnist/imgs/test_rotation/04603.jpg: 3 vs 3\n",
      "/raceai/data/datasets/rmnist/imgs/test_rotation/13501.jpg: 0 vs 0\n",
      "/raceai/data/datasets/rmnist/imgs/test_rotation/03536.jpg: 3 vs 3\n",
      "/raceai/data/datasets/rmnist/imgs/test_rotation/26690.jpg: 0 vs 0\n",
      "/raceai/data/datasets/rmnist/imgs/test_rotation/18107.jpg: 8 vs 8\n",
      "/raceai/data/datasets/rmnist/imgs/test_rotation/28963.jpg: 1 vs 1\n",
      "/raceai/data/datasets/rmnist/imgs/test_rotation/44172.jpg: 6 vs 6\n",
      "/raceai/data/datasets/rmnist/imgs/test_rotation/51231.jpg: 8 vs 8\n",
      "/raceai/data/datasets/rmnist/imgs/test_rotation/26045.jpg: 4 vs 4\n",
      "/raceai/data/datasets/rmnist/imgs/test_rotation/15435.jpg: 1 vs 1\n"
     ]
    },
    {
     "data": {
      "text/plain": [
       "{'errno': 0,\n",
       " 'result': [{'image_id': '-1',\n",
       "   'image_path': '/raceai/data/datasets/rmnist/imgs/test_rotation/04603.jpg',\n",
       "   'probs': [2.671597769676737e-07,\n",
       "    2.2792784548641976e-08,\n",
       "    1.2001068171230145e-05,\n",
       "    0.9994537234306335,\n",
       "    8.275234222310246e-07,\n",
       "    0.00030589840025641024,\n",
       "    3.5117429320052906e-07,\n",
       "    7.676007385271078e-07,\n",
       "    0.00021926425688434392,\n",
       "    6.987701453908812e-06]},\n",
       "  {'image_id': '-1',\n",
       "   'image_path': '/raceai/data/datasets/rmnist/imgs/test_rotation/13501.jpg',\n",
       "   'probs': [0.9999598264694214,\n",
       "    1.2868697012891062e-05,\n",
       "    1.5078240721777547e-05,\n",
       "    1.6688156847521896e-06,\n",
       "    4.6111281903904455e-08,\n",
       "    2.9909119803051e-07,\n",
       "    2.1967928205413045e-06,\n",
       "    4.6187551561160944e-06,\n",
       "    1.9073017938353587e-06,\n",
       "    1.500974008195044e-06]},\n",
       "  {'image_id': '-1',\n",
       "   'image_path': '/raceai/data/datasets/rmnist/imgs/test_rotation/03536.jpg',\n",
       "   'probs': [5.107559886141644e-08,\n",
       "    1.6654720269571044e-08,\n",
       "    4.1210259951185435e-06,\n",
       "    0.9999351501464844,\n",
       "    1.3706431545301712e-09,\n",
       "    6.7648047661350574e-06,\n",
       "    1.5441700895735266e-07,\n",
       "    6.334711599720322e-08,\n",
       "    5.3449010010808706e-05,\n",
       "    9.509310672228821e-08]},\n",
       "  {'image_id': '-1',\n",
       "   'image_path': '/raceai/data/datasets/rmnist/imgs/test_rotation/26690.jpg',\n",
       "   'probs': [0.9999212026596069,\n",
       "    3.985952844232088e-06,\n",
       "    5.049814717494883e-06,\n",
       "    1.0714222753449576e-06,\n",
       "    1.6226240973082895e-07,\n",
       "    8.589897220190323e-07,\n",
       "    5.1568120397860184e-05,\n",
       "    7.321050361497328e-07,\n",
       "    5.005735602026107e-06,\n",
       "    1.0395574463473167e-05]},\n",
       "  {'image_id': '-1',\n",
       "   'image_path': '/raceai/data/datasets/rmnist/imgs/test_rotation/18107.jpg',\n",
       "   'probs': [2.5560473659425043e-05,\n",
       "    4.105026528122835e-05,\n",
       "    0.0006456825649365783,\n",
       "    0.02545173279941082,\n",
       "    3.743403340195073e-06,\n",
       "    5.447604416985996e-05,\n",
       "    4.510028884396888e-05,\n",
       "    6.787714664824307e-05,\n",
       "    0.9730401039123535,\n",
       "    0.0006247922428883612]},\n",
       "  {'image_id': '-1',\n",
       "   'image_path': '/raceai/data/datasets/rmnist/imgs/test_rotation/28963.jpg',\n",
       "   'probs': [2.2594721649227267e-09,\n",
       "    0.9999998807907104,\n",
       "    3.128899361826143e-09,\n",
       "    2.7065844357410107e-11,\n",
       "    3.0061302336292783e-09,\n",
       "    2.797070353111053e-10,\n",
       "    4.92540088714577e-08,\n",
       "    1.6487183529534377e-07,\n",
       "    1.59583891240489e-11,\n",
       "    1.3802986531530337e-11]},\n",
       "  {'image_id': '-1',\n",
       "   'image_path': '/raceai/data/datasets/rmnist/imgs/test_rotation/44172.jpg',\n",
       "   'probs': [1.8552944993643905e-06,\n",
       "    8.388370815737289e-07,\n",
       "    1.4378552805283107e-05,\n",
       "    3.668435056169983e-06,\n",
       "    2.33806531468872e-06,\n",
       "    3.7338527363317553e-06,\n",
       "    0.9999673366546631,\n",
       "    7.071811864989286e-07,\n",
       "    3.583325906220125e-06,\n",
       "    1.5440645029229927e-06]},\n",
       "  {'image_id': '-1',\n",
       "   'image_path': '/raceai/data/datasets/rmnist/imgs/test_rotation/51231.jpg',\n",
       "   'probs': [1.1029367215087404e-06,\n",
       "    3.960865413432657e-08,\n",
       "    4.714573151431978e-05,\n",
       "    0.00034222318208776414,\n",
       "    1.322759857202982e-07,\n",
       "    9.735540515976027e-06,\n",
       "    4.072615809036506e-07,\n",
       "    2.5320653662674886e-07,\n",
       "    0.9995403289794922,\n",
       "    5.875052374904044e-05]},\n",
       "  {'image_id': '-1',\n",
       "   'image_path': '/raceai/data/datasets/rmnist/imgs/test_rotation/26045.jpg',\n",
       "   'probs': [2.542910522151942e-07,\n",
       "    0.0004384942294564098,\n",
       "    0.0001210450500366278,\n",
       "    2.884540435843519e-06,\n",
       "    0.9990405440330505,\n",
       "    4.291959612601204e-06,\n",
       "    6.041518281563185e-05,\n",
       "    0.00012850425264332443,\n",
       "    0.00010820152965607122,\n",
       "    9.52669361140579e-05]},\n",
       "  {'image_id': '-1',\n",
       "   'image_path': '/raceai/data/datasets/rmnist/imgs/test_rotation/15435.jpg',\n",
       "   'probs': [7.904939723635263e-14,\n",
       "    0.9999997615814209,\n",
       "    6.078154646260714e-10,\n",
       "    5.15652971710967e-12,\n",
       "    1.323729459379308e-10,\n",
       "    4.091213045426256e-12,\n",
       "    3.316726754354349e-11,\n",
       "    2.3491901401939685e-07,\n",
       "    1.6565897687902814e-14,\n",
       "    1.7972106550363798e-13]}]}"
      ]
     },
     "execution_count": 10,
     "metadata": {},
     "output_type": "execute_result"
    }
   ],
   "source": [
    "images = [os.path.join(L_PREFIX, row['image_path']) for row in data_10]\n",
    "labels = [row['label'] for row in data_10]\n",
    "cfg = eval(reqdata % (DATA_PROCESS_PATHLIST, json.dumps(images, ensure_ascii=False)))\n",
    "resdata = json.loads(requests.post(url=API_INFERENCE, json=cfg).text)\n",
    "if resdata['errno'] == 0:\n",
    "    for item, label in zip(resdata['result'], labels):\n",
    "        fname = item['image_path']\n",
    "        probs = item['probs']\n",
    "        print('{}: {} vs {}'.format(fname, label, probs.index(max(probs))))\n",
    "resdata"
   ]
  },
  {
   "cell_type": "markdown",
   "metadata": {},
   "source": [
    "## 前端对接\n",
    "\n",
    "步骤:\n",
    "\n",
    "1. 选择模型(增强型,正常型)\n",
    "\n",
    "2. 用户在画布上书写数字\n",
    "\n",
    "3. (可选)旋转数字\n",
    "\n",
    "4. 将最后的数字图片, 缩放到28x28大小, 并进行base64编码\n",
    "\n",
    "5. 调用接口`/raceai/framework/inference`"
   ]
  },
  {
   "cell_type": "markdown",
   "metadata": {},
   "source": [
    "## 参数配置"
   ]
  },
  {
   "cell_type": "markdown",
   "metadata": {},
   "source": [
    "### 模型选择\n",
    "\n",
    "- 旋转数字识别 (数据增强)\n",
    "\n",
    "  cfg.trainer.resume_from_checkpoint = /raceai/data/ckpts/rmnist/pl_resnet18_rotation.pth\n",
    "\n",
    "\n",
    "- 正常数字识别\n",
    "\n",
    "  cfg.trainer.resume_from_checkpoint = /raceai/data/ckpts/rmnist/pl_resnet18_normal.pth\n",
    "\n",
    "### Base64数据\n",
    "\n",
    "    cfg.data.data_source = \"b64str\""
   ]
  },
  {
   "cell_type": "markdown",
   "metadata": {},
   "source": [
    "### 配置样例"
   ]
  },
  {
   "cell_type": "code",
   "execution_count": 11,
   "metadata": {
    "ExecuteTime": {
     "end_time": "2020-12-16T14:32:03.231468Z",
     "start_time": "2020-12-16T14:32:03.221664Z"
    }
   },
   "outputs": [
    {
     "name": "stdout",
     "output_type": "stream",
     "text": [
      "{\n",
      "    \"task\": \"cls.inference.pl\",\n",
      "    \"cfg\": {\n",
      "        \"data\": {\n",
      "            \"class_name\": \"raceai.data.process.Base64DataLoader\",\n",
      "            \"params\": {\n",
      "                \"data_source\": \"/9j/4AAQSkZJRgABAQAAAQABAAD/2wBDAAgGBgcGBQgHBwcJCQgKDBQNDAsLDBkSEw8UHRofHh0aHBwgJC4nICIsIxwcKDcpLDAxNDQ0Hyc5PTgyPC4zNDL/wAALCAAcABwBAREA/8QAHwAAAQUBAQEBAQEAAAAAAAAAAAECAwQFBgcICQoL/8QAtRAAAgEDAwIEAwUFBAQAAAF9AQIDAAQRBRIhMUEGE1FhByJxFDKBkaEII0KxwRVS0fAkM2JyggkKFhcYGRolJicoKSo0NTY3ODk6Q0RFRkdISUpTVFVWV1hZWmNkZWZnaGlqc3R1dnd4eXqDhIWGh4iJipKTlJWWl5iZmqKjpKWmp6ipqrKztLW2t7i5usLDxMXGx8jJytLT1NXW19jZ2uHi4+Tl5ufo6erx8vP09fb3+Pn6/9oACAEBAAA/APDNK0i/1zUIrDTbWS5uZWCqiDpkgZJ6KMkcnAGa7ez8FeGbO6sdO1jxDPc61dOIX03SrdZDBKSyhGlY7CdwUEDHJxnB3jlPFeiJ4e8T6jpUU4uI7ScxeYCDkjqMjuDkdunQdKxq1/D/AIj1Dw3cXE+myLDPPEYhOEBkiBIyUYjKnGRx1BNd54D0e1sfCkniS31fRbbXJbk29mdSuvKS3VQDJJtIKyNhl+UggZB5bC1gat4IuntrvU9P12w1sIXluRBcb7gKG+aRk5JXJyW6cE9MMeLpQCelXtK0m/1rU7fTdNtnubu4fZFEnVj16ngADJJPAAJPArvHNt8NNA1bT5njl8W6lAtrNCrF0s7dwWcE4ALn5RjJxgMCQcV5rn2FCnDAjGRzyM11t/8AEnxHe6ebGGa30+BvvjToRbl/nL/MVxnk/hj3bPI0V//Z\",\n",
      "                \"dataset\": {\n",
      "                    \"class_name\": \"raceai.data.PredictListImageDataset\",\n",
      "                     \"params\": {\n",
      "                         \"input_size\": 28,\n",
      "                         \"mean\": [0.1362, 0.1362, 0.1362],\n",
      "                         \"std\": [0.2893, 0.2893, 0.2893]\n",
      "                     }\n",
      "                 },\n",
      "                \"sample\": {\n",
      "                    \"batch_size\": 32,\n",
      "                    \"num_workers\": 4,\n",
      "                }\n",
      "             }\n",
      "        },\n",
      "        \"model\": {\n",
      "            \"class_name\": f\"raceai.models.backbone.Resnet18\",  \n",
      "            \"params\": {\n",
      "                \"device\": 'gpu',\n",
      "                \"num_classes\": 10,\n",
      "                \"weights\": False\n",
      "            }\n",
      "        },\n",
      "        \"trainer\": {\n",
      "            \"default_root_dir\": \"/raceai/data/tmp/pl_rmnist_resnet18\",\n",
      "            \"gpus\": 1,\n",
      "            \"resume_from_checkpoint\": \"/raceai/data/ckpts/rmnist/pl_resnet18_rotation.pth\"\n",
      "        }\n",
      "    }\n",
      "}\n"
     ]
    }
   ],
   "source": [
    "reqdata = '''{\n",
    "    \"task\": \"cls.inference.pl\",\n",
    "    \"cfg\": {\n",
    "        \"data\": {\n",
    "            \"class_name\": \"raceai.data.process.Base64DataLoader\",\n",
    "            \"params\": {\n",
    "                \"data_source\": \"%s\",\n",
    "                \"dataset\": {\n",
    "                    \"class_name\": \"raceai.data.PredictListImageDataset\",\n",
    "                     \"params\": {\n",
    "                         \"input_size\": 28,\n",
    "                         \"mean\": [0.1362, 0.1362, 0.1362],\n",
    "                         \"std\": [0.2893, 0.2893, 0.2893]\n",
    "                     }\n",
    "                 },\n",
    "                \"sample\": {\n",
    "                    \"batch_size\": 32,\n",
    "                    \"num_workers\": 4,\n",
    "                }\n",
    "             }\n",
    "        },\n",
    "        \"model\": {\n",
    "            \"class_name\": f\"raceai.models.backbone.Resnet18\",  \n",
    "            \"params\": {\n",
    "                \"device\": 'gpu',\n",
    "                \"num_classes\": 10,\n",
    "                \"weights\": False\n",
    "            }\n",
    "        },\n",
    "        \"trainer\": {\n",
    "            \"default_root_dir\": \"/raceai/data/tmp/pl_rmnist_resnet18\",\n",
    "            \"gpus\": 1,\n",
    "            \"resume_from_checkpoint\": \"/raceai/data/ckpts/rmnist/pl_resnet18_rotation.pth\"\n",
    "        }\n",
    "    }\n",
    "}''' %  img2b64(os.path.join(E_PREFIX, data_10[0]['image_path']))\n",
    "\n",
    "print(reqdata)"
   ]
  },
  {
   "cell_type": "markdown",
   "metadata": {},
   "source": [
    "## 接口请求/响应"
   ]
  },
  {
   "cell_type": "code",
   "execution_count": 15,
   "metadata": {
    "ExecuteTime": {
     "end_time": "2020-12-17T02:03:14.722382Z",
     "start_time": "2020-12-17T02:03:09.365259Z"
    }
   },
   "outputs": [
    {
     "data": {
      "text/plain": [
       "{'errno': 0,\n",
       " 'result': [{'image_id': '-1',\n",
       "   'image_path': '/tmp/b4img_1608170589.png',\n",
       "   'probs': [2.6716080014921317e-07,\n",
       "    2.2793003040533222e-08,\n",
       "    1.2001102732028812e-05,\n",
       "    0.9994537234306335,\n",
       "    8.2752814023479e-07,\n",
       "    0.00030589872039854527,\n",
       "    3.51177988022755e-07,\n",
       "    7.676058544348052e-07,\n",
       "    0.00021926593035459518,\n",
       "    6.98774147167569e-06]}]}"
      ]
     },
     "execution_count": 15,
     "metadata": {},
     "output_type": "execute_result"
    }
   ],
   "source": [
    "resdata = json.loads(requests.post(url=API_INFERENCE, json=eval(reqdata)).text)\n",
    "resdata"
   ]
  }
 ],
 "metadata": {
  "kernelspec": {
   "display_name": "Python 3",
   "language": "python",
   "name": "python3"
  },
  "language_info": {
   "codemirror_mode": {
    "name": "ipython",
    "version": 3
   },
   "file_extension": ".py",
   "mimetype": "text/x-python",
   "name": "python",
   "nbconvert_exporter": "python",
   "pygments_lexer": "ipython3",
   "version": "3.6.9"
  },
  "toc": {
   "base_numbering": 1,
   "nav_menu": {},
   "number_sections": true,
   "sideBar": true,
   "skip_h1_title": true,
   "title_cell": "",
   "title_sidebar": "Contents",
   "toc_cell": false,
   "toc_position": {},
   "toc_section_display": true,
   "toc_window_display": true
  }
 },
 "nbformat": 4,
 "nbformat_minor": 4
}
