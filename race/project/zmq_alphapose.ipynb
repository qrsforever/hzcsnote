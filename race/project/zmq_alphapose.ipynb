{
 "cells": [
  {
   "cell_type": "code",
   "execution_count": 1,
   "id": "rational-finder",
   "metadata": {
    "ExecuteTime": {
     "end_time": "2021-05-27T07:45:13.612064Z",
     "start_time": "2021-05-27T07:45:08.434291Z"
    }
   },
   "outputs": [
    {
     "name": "stdout",
     "output_type": "stream",
     "text": [
      "CPython 3.6.9\n",
      "IPython 7.16.1\n",
      "\n",
      "numpy 1.18.5\n",
      "sklearn 0.24.0\n",
      "pandas 1.1.5\n",
      "CPython 3.6.9\n",
      "IPython 7.16.1\n",
      "\n",
      "cv2 4.5.1\n",
      "PIL 6.2.2\n",
      "matplotlib 3.3.3\n",
      "CPython 3.6.9\n",
      "IPython 7.16.1\n",
      "\n",
      "torch 1.8.0.dev20210103+cu101\n",
      "torchvision 0.9.0.dev20210103+cu101\n",
      "torchaudio not installed\n",
      "pytorch_lightning 1.2.0\n"
     ]
    },
    {
     "data": {
      "text/html": [
       "<style>.container { width:90% !important; }</style>"
      ],
      "text/plain": [
       "<IPython.core.display.HTML object>"
      ]
     },
     "metadata": {},
     "output_type": "display_data"
    }
   ],
   "source": [
    "%reload_ext watermark\n",
    "%reload_ext autoreload\n",
    "%autoreload 2\n",
    "%watermark -v -p numpy,sklearn,pandas\n",
    "%watermark -v -p cv2,PIL,matplotlib\n",
    "%watermark -v -p torch,torchvision,torchaudio,pytorch_lightning\n",
    "%matplotlib inline\n",
    "%config InlineBackend.figure_format='retina'\n",
    "%config IPCompleter.use_jedi = False\n",
    "\n",
    "from IPython.display import display, HTML, Javascript\n",
    "display(HTML('<style>.container { width:%d%% !important; }</style>' % 90))\n",
    "\n",
    "def _IMPORT_(x):\n",
    "    try:\n",
    "        exec(x, globals())\n",
    "    except:\n",
    "        pass\n"
   ]
  },
  {
   "cell_type": "code",
   "execution_count": 2,
   "id": "close-demonstration",
   "metadata": {
    "ExecuteTime": {
     "end_time": "2021-05-27T07:45:14.697478Z",
     "start_time": "2021-05-27T07:45:13.614648Z"
    }
   },
   "outputs": [],
   "source": [
    "###\n",
    "### Common ###\n",
    "###\n",
    "\n",
    "import os, io, time, random, math, base64\n",
    "import json, requests, sys\n",
    "\n",
    "_IMPORT_('import numpy as np')\n",
    "_IMPORT_('import pandas as pd')\n",
    "_IMPORT_('from tqdm.notebook import tqdm')\n",
    "\n",
    "###\n",
    "### Torch ###\n",
    "###\n",
    "\n",
    "_IMPORT_('import torch')\n",
    "_IMPORT_('import torch.nn as nn')\n",
    "_IMPORT_('import torch.nn.functional as F')\n",
    "_IMPORT_('import torch.optim as O')\n",
    "_IMPORT_('from torchvision import models as M')\n",
    "_IMPORT_('from torchvision import transforms as T')\n",
    "_IMPORT_('from torch.utils.data import Dataset, DataLoader')\n",
    "\n",
    "###\n",
    "### Display ###\n",
    "###\n",
    "\n",
    "_IMPORT_('import cv2')\n",
    "_IMPORT_('from PIL import Image')\n",
    "_IMPORT_('from torchvision.utils import make_grid')\n",
    "_IMPORT_('import matplotlib.pyplot as plt')\n",
    "_IMPORT_('import plotly')\n",
    "_IMPORT_('import plotly.graph_objects as go')\n",
    "\n",
    "# plotly.offline.init_notebook_mode(connected=False)\n",
    "\n",
    "def show_video(video_path, width=None, height=None):\n",
    "    W, H = '', ''\n",
    "    if width:\n",
    "        W = 'width=%d' % width\n",
    "    if height:\n",
    "        H = 'height=%d' % height\n",
    "    mp4 = open(video_path, 'rb').read()\n",
    "    data_url = 'data:video/mp4;base64,' + base64.b64encode(mp4).decode()\n",
    "    return HTML('<video %s %s controls src=\"%s\" type=\"video/mp4\"/>' % (W, H, data_url))\n",
    "\n",
    "def show_image(image_path, width=None, height=None):\n",
    "    W, H = '', ''\n",
    "    if width:\n",
    "        W = 'width=%d' % width\n",
    "    if height:\n",
    "        H = 'height=%d' % height\n",
    "    img = open(image_path, 'rb').read()\n",
    "    data_url = 'data:image/jpg;base64,' + base64.b64encode(img).decode()\n",
    "    return HTML('<img %s %s src=\"%s\"/>' % (W, H, data_url))\n",
    "\n",
    "from k12libs.utils.nb_easy import RACEURL"
   ]
  },
  {
   "cell_type": "code",
   "execution_count": 3,
   "id": "legal-force",
   "metadata": {
    "ExecuteTime": {
     "end_time": "2021-05-27T07:45:14.768955Z",
     "start_time": "2021-05-27T07:45:14.700799Z"
    }
   },
   "outputs": [
    {
     "data": {
      "text/plain": [
       "('http://116.85.5.40:9119/raceai/framework/inference',\n",
       " 'http://116.85.5.40:9119/raceai/private/popmsg')"
      ]
     },
     "execution_count": 3,
     "metadata": {},
     "output_type": "execute_result"
    }
   ],
   "source": [
    "API_INFERENCE = f'{RACEURL}/raceai/framework/inference'\n",
    "API_POPMSG = f'{RACEURL}/raceai/private/popmsg'\n",
    "MODEL_TASK = 'zmq.alphapose.inference'\n",
    "MSGKEY = 'zmq.alphapose.test'\n",
    "TEST_VIDEO = 'https://raceai.s3.didiyunapi.com/data/media/videos/repnet_test.mp4'\n",
    "API_INFERENCE, API_POPMSG "
   ]
  },
  {
   "cell_type": "markdown",
   "id": "later-birthday",
   "metadata": {
    "ExecuteTime": {
     "end_time": "2021-05-24T10:19:03.331538Z",
     "start_time": "2021-05-24T10:19:03.279232Z"
    }
   },
   "source": [
    "## Halpe26 Dataset"
   ]
  },
  {
   "cell_type": "markdown",
   "id": "modified-underwear",
   "metadata": {},
   "source": [
    "ID | Name\n",
    ":---:|:---:\n",
    "<img width=200/>|<img width=300/>\n",
    "0 |Nose\n",
    "1 |LEye\n",
    "2 |REye\n",
    "3 |LEar\n",
    "4 |REar\n",
    "5 |LShoulder\n",
    "6 |RShoulder\n",
    "7 |LElbow\n",
    "8 |RElbow\n",
    "9 |LWrist\n",
    "10|RWrist\n",
    "11|LHip\n",
    "12|RHip\n",
    "13|LKnee\n",
    "14|Rknee\n",
    "15|LAnkle\n",
    "16|RAnkle\n",
    "17 |Head\n",
    "18 |Neck\n",
    "19 |Hip\n",
    "20|LBigToe\n",
    "21|RBigToe\n",
    "22|LSmallToe\n",
    "23|RSmallToe\n",
    "24|LHeel\n",
    "25|RHeel"
   ]
  },
  {
   "cell_type": "markdown",
   "id": "married-ministry",
   "metadata": {},
   "source": [
    "## 接口测试"
   ]
  },
  {
   "cell_type": "markdown",
   "id": "given-separate",
   "metadata": {
    "ExecuteTime": {
     "end_time": "2021-05-26T02:51:55.238318Z",
     "start_time": "2021-05-26T02:51:55.180079Z"
    }
   },
   "source": [
    "### 输入\n",
    "\n",
    "```json\n",
    "{\n",
    "    \"task\": \"zmq.alphapose.inference\",  // zmq的任务类型, 不用修改\n",
    "    \"cfg\": {\n",
    "        \"pigeon\": { // 信鸽数据, key的内容由后端自行添加, 其中必须含有msgkey和user_code, 可以任意添加其他key, 返回时会携带pigeon\n",
    "            \"msgkey\": \"zmq.alphapose.test\",  // 任务过程产生的数据, 会发送到msgkey的redis队列中\n",
    "            \"user_code\": \"123\", // 这个任务属于哪个用户\n",
    "        },\n",
    "        \"report_kps\": False, // 实时上报帧的关键点(上面描述的形式), 建议不开启, 数据量较大\n",
    "        \"video\": \"https://raceai.s3.didiyunapi.com/data/media/videos/alphapose_test.mp4\", // oss平台的视频地址\n",
    "        \"qsize\": 1024,       // 不用修改, 开发调试用\n",
    "        \"save_video\": True,  // 标有关键点的视频\n",
    "        \"save_img\": False,   // 建议不要开启, 帧数太多\n",
    "        \"vis_fast\": True     // 建议开启\n",
    "    }\n",
    "}\n",
    "```"
   ]
  },
  {
   "cell_type": "code",
   "execution_count": 4,
   "id": "necessary-confidentiality",
   "metadata": {
    "ExecuteTime": {
     "end_time": "2021-05-27T07:45:14.825804Z",
     "start_time": "2021-05-27T07:45:14.771350Z"
    }
   },
   "outputs": [
    {
     "name": "stdout",
     "output_type": "stream",
     "text": [
      "Input:\n",
      "\n",
      " {\n",
      "    \"task\": \"zmq.alphapose.inference\",\n",
      "    \"cfg\": {\n",
      "        \"pigeon\": {\n",
      "            \"msgkey\": \"zmq.alphapose.test\",\n",
      "            \"user_code\": \"123\",\n",
      "        },\n",
      "        \"report_kps\": False,\n",
      "        \"video\": \"https://raceai.s3.didiyunapi.com/data/media/videos/repnet_test.mp4\",\n",
      "        \"qsize\": 1024,\n",
      "        \"save_video\": False,\n",
      "        \"save_img\": False,\n",
      "        \"vis_fast\": True\n",
      "    }\n",
      "}\n"
     ]
    }
   ],
   "source": [
    "cfgdata = '''{\n",
    "    \"task\": \"%s\",\n",
    "    \"cfg\": {\n",
    "        \"pigeon\": {\n",
    "            \"msgkey\": \"%s\",\n",
    "            \"user_code\": \"123\",\n",
    "        },\n",
    "        \"report_kps\": False,\n",
    "        \"video\": \"%s\",\n",
    "        \"qsize\": 1024,\n",
    "        \"save_video\": False,\n",
    "        \"save_img\": False,\n",
    "        \"vis_fast\": True\n",
    "    }\n",
    "}''' % (MODEL_TASK, MSGKEY, TEST_VIDEO)\n",
    "\n",
    "print('Input:\\n\\n', cfgdata)"
   ]
  },
  {
   "cell_type": "markdown",
   "id": "competitive-number",
   "metadata": {},
   "source": [
    "### 输出\n",
    "\n",
    "```\n",
    "{\n",
    "    \"pigeon\": {  // 信鸽数据, 直接透传回去\n",
    "        \"msgkey\": \"zmq.alphapose.test\",\n",
    "        \"user_code\": \"123\"\n",
    "    },\n",
    "    \"task\": \"zmq.alphapose.inference\",\n",
    "    \"errno\": 0,\n",
    "    \"progress\": 100.0,  // 任务的进度\n",
    "    \"target_json\": \"https://raceai.s3.didiyunapi.com/outputs/123/alphapose-results.json\", // 只有进度为100.0时, 返回关键点结果json数据\n",
    "    \"target_mp4\": \"https://raceai.s3.didiyunapi.com/outputs/123/alphapose-target.mp4\" // 只有进度为100.0时, 返回带有关键点标注的mp4数据\n",
    "}\n",
    "```"
   ]
  },
  {
   "cell_type": "code",
   "execution_count": 9,
   "id": "understood-blade",
   "metadata": {
    "ExecuteTime": {
     "end_time": "2021-05-27T07:48:02.491820Z",
     "start_time": "2021-05-27T07:48:02.419452Z"
    },
    "scrolled": true
   },
   "outputs": [
    {
     "data": {
      "text/plain": [
       "{'errno': 0}"
      ]
     },
     "execution_count": 9,
     "metadata": {},
     "output_type": "execute_result"
    }
   ],
   "source": [
    "reqdata = eval(cfgdata)\n",
    "json.loads(requests.get(url=f'{API_POPMSG}?key={MSGKEY}').text)\n",
    "json.loads(requests.post(url=API_INFERENCE, json=reqdata).text)"
   ]
  },
  {
   "cell_type": "code",
   "execution_count": 8,
   "id": "selective-phase",
   "metadata": {
    "ExecuteTime": {
     "end_time": "2021-05-27T07:47:57.148440Z",
     "start_time": "2021-05-27T07:46:05.628848Z"
    },
    "scrolled": false
   },
   "outputs": [
    {
     "name": "stdout",
     "output_type": "stream",
     "text": [
      "Progress: 100%:  ▋▋▋▋▋▋▋▋▋▋▋▋▋▋▋▋▋▋▋▋▋▋▋▋▋▋▋▋▋▋▋▋▋▋▋▋▋▋▋▋▋▋▋▋▋▋▋▋▋▋\n",
      "Output:\n",
      "\n",
      " {\n",
      "    \"pigeon\": {\n",
      "        \"msgkey\": \"zmq.alphapose.test\",\n",
      "        \"user_code\": \"123\"\n",
      "    },\n",
      "    \"task\": \"zmq.alphapose.inference\",\n",
      "    \"errno\": 0,\n",
      "    \"progress\": 100.0,\n",
      "    \"target_json\": \"https://raceai.s3.didiyunapi.com/outputs/123/alphapose-results.json\"\n",
      "}\n"
     ]
    }
   ],
   "source": [
    "for _ in range(200):\n",
    "    result = json.loads(requests.get(url=f'{API_POPMSG}?key={MSGKEY}').text)\n",
    "    if len(result) > 0 and 'progress' in result[-1]:\n",
    "        progress = int(result[-1]['progress'])\n",
    "        print(\"\\r\", end=\"\")\n",
    "        print(\"Progress: {}%: \".format(progress), \"▋\" * (progress // 2), end=\"\")\n",
    "        sys.stdout.flush()\n",
    "        if progress >= 100.0:\n",
    "            print('\\nOutput:\\n\\n', json.dumps(result[-1], indent=4))\n",
    "            break\n",
    "    time.sleep(3)"
   ]
  },
  {
   "cell_type": "markdown",
   "id": "embedded-return",
   "metadata": {
    "ExecuteTime": {
     "end_time": "2021-05-24T10:40:25.337537Z",
     "start_time": "2021-05-24T10:40:25.269542Z"
    }
   },
   "source": [
    "## 上报的关键点数据\n",
    "\n",
    "```json\n",
    "[\n",
    "  {\n",
    "    \"image_id\": \"0.jpg\",         // video frame image name\n",
    "    \"category_id\": 1,            // 1 for person\n",
    "    \"score\": 2.8476829528808594, // detect confidence score\n",
    "    \"idx\": [\n",
    "      0\n",
    "    ],\n",
    "    \"box\": [                     // detect box\n",
    "      837.0687255859375,         // box: x axis\n",
    "      200.54270935058594,        // box: y axis\n",
    "      25.557861328125,           // box: width\n",
    "      62.62861633300781          // box: height\n",
    "    ],\n",
    "    \"keypoints\": [\n",
    "      850.1534423828125,    // kp0: x axis\n",
    "      207.0869140625,       // kp0: y axis\n",
    "      0.851284384727478,    // kp0: confidence score\n",
    "      850.7650756835938,    // kp1: x axis\n",
    "      205.8636932373047,    // kp2: y axis\n",
    "      0.887949526309967,\n",
    "      848.9302368164062,\n",
    "\n",
    "      ...\n",
    "        \n",
    "      854.4346923828125,\n",
    "      261.52001953125,\n",
    "      0.8205215334892273,\n",
    "      834.86328125,          // kp25: x aixs    \n",
    "      260.2967834472656,     // kp25: y aixs\n",
    "      0.9024990797042847     // kp25: confidence score\n",
    "    ]\n",
    "  },\n",
    " ...\n",
    "]\n",
    "```"
   ]
  },
  {
   "cell_type": "markdown",
   "id": "united-efficiency",
   "metadata": {},
   "source": [
    "## References"
   ]
  },
  {
   "cell_type": "markdown",
   "id": "several-custody",
   "metadata": {},
   "source": [
    "1.[数据集Halpe26](https://github.com/Fang-Haoshu/Halpe-FullBody)"
   ]
  },
  {
   "cell_type": "code",
   "execution_count": null,
   "id": "irish-pantyhose",
   "metadata": {},
   "outputs": [],
   "source": []
  }
 ],
 "metadata": {
  "hide_input": false,
  "kernelspec": {
   "display_name": "Python 3",
   "language": "python",
   "name": "python3"
  },
  "language_info": {
   "codemirror_mode": {
    "name": "ipython",
    "version": 3
   },
   "file_extension": ".py",
   "mimetype": "text/x-python",
   "name": "python",
   "nbconvert_exporter": "python",
   "pygments_lexer": "ipython3",
   "version": "3.6.9"
  },
  "toc": {
   "base_numbering": 1,
   "nav_menu": {},
   "number_sections": true,
   "sideBar": true,
   "skip_h1_title": true,
   "title_cell": "",
   "title_sidebar": "Contents",
   "toc_cell": false,
   "toc_position": {},
   "toc_section_display": true,
   "toc_window_display": true
  }
 },
 "nbformat": 4,
 "nbformat_minor": 5
}
