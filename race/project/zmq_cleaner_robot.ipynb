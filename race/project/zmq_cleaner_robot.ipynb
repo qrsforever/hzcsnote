{
 "cells": [
  {
   "cell_type": "code",
   "execution_count": 1,
   "metadata": {
    "ExecuteTime": {
     "end_time": "2021-03-03T12:39:26.826721Z",
     "start_time": "2021-03-03T12:39:26.803710Z"
    }
   },
   "outputs": [],
   "source": [
    "%config IPCompleter.use_jedi = False"
   ]
  },
  {
   "cell_type": "code",
   "execution_count": 2,
   "metadata": {
    "ExecuteTime": {
     "end_time": "2021-03-03T12:39:28.115996Z",
     "start_time": "2021-03-03T12:39:26.829503Z"
    }
   },
   "outputs": [],
   "source": [
    "import os\n",
    "import json\n",
    "import numpy as np\n",
    "import requests\n",
    "import time\n",
    "import cv2\n",
    "import base64\n",
    "import random\n",
    "import matplotlib.pyplot as plt\n",
    "\n",
    "from tqdm import tqdm\n",
    "from IPython.display import display, HTML\n",
    "from k12libs.utils.nb_easy import RACEURL"
   ]
  },
  {
   "cell_type": "code",
   "execution_count": 3,
   "metadata": {
    "ExecuteTime": {
     "end_time": "2021-03-03T12:39:28.126833Z",
     "start_time": "2021-03-03T12:39:28.119354Z"
    }
   },
   "outputs": [
    {
     "data": {
      "text/html": [
       "<style>.container { width:90% !important; }</style>"
      ],
      "text/plain": [
       "<IPython.core.display.HTML object>"
      ]
     },
     "metadata": {},
     "output_type": "display_data"
    }
   ],
   "source": [
    "display(HTML('<style>.container { width:%d%% !important; }</style>' % 90))"
   ]
  },
  {
   "cell_type": "code",
   "execution_count": 4,
   "metadata": {
    "ExecuteTime": {
     "end_time": "2021-03-03T12:39:28.138483Z",
     "start_time": "2021-03-03T12:39:28.129606Z"
    }
   },
   "outputs": [
    {
     "data": {
      "text/plain": [
       "'http://116.85.5.40:9119/raceai/framework/inference'"
      ]
     },
     "execution_count": 4,
     "metadata": {},
     "output_type": "execute_result"
    }
   ],
   "source": [
    "API_INFERENCE = f'{RACEURL}/raceai/framework/inference'\n",
    "API_INFERENCE"
   ]
  },
  {
   "cell_type": "code",
   "execution_count": 5,
   "metadata": {
    "ExecuteTime": {
     "end_time": "2021-03-03T12:39:28.170064Z",
     "start_time": "2021-03-03T12:39:28.140702Z"
    }
   },
   "outputs": [
    {
     "data": {
      "text/plain": [
       "'http://116.85.5.40:9119/raceai/private/popmsg'"
      ]
     },
     "execution_count": 5,
     "metadata": {},
     "output_type": "execute_result"
    }
   ],
   "source": [
    "API_POPMSG = f'{RACEURL}/raceai/private/popmsg'\n",
    "API_POPMSG "
   ]
  },
  {
   "cell_type": "code",
   "execution_count": 6,
   "metadata": {
    "ExecuteTime": {
     "end_time": "2021-03-03T12:39:28.210089Z",
     "start_time": "2021-03-03T12:39:28.172428Z"
    }
   },
   "outputs": [],
   "source": [
    "MODEL_TASK = 'zmq.cr.resnet18.inference'\n",
    "MSGKEY = 'zmq.cr.pl.test'\n",
    "IMG_ROOT = '/raceai/data/datasets/cleaner_robot/imgs'\n",
    "\n",
    "# \"label_names\": [\n",
    "#     \"ring\",\n",
    "#     \"cable\",\n",
    "#     \"other\"\n",
    "# ],"
   ]
  },
  {
   "cell_type": "markdown",
   "metadata": {},
   "source": [
    "## 批量测试"
   ]
  },
  {
   "cell_type": "code",
   "execution_count": 7,
   "metadata": {
    "ExecuteTime": {
     "end_time": "2021-03-03T12:39:28.220325Z",
     "start_time": "2021-03-03T12:39:28.212362Z"
    }
   },
   "outputs": [],
   "source": [
    "cfgdata = '''{\n",
    "    \"task\": \"%s\",\n",
    "    \"cfg\": {\n",
    "        \"pigeon\": {\n",
    "            \"msgkey\": \"%s\",\n",
    "            \"user\": \"1\",\n",
    "            \"uuid\": \"100\"\n",
    "        },\n",
    "        \"data\": {\n",
    "            \"class_name\": \"raceai.data.process.PathListDataLoader\",\n",
    "            \"params\": {\n",
    "                \"data_source\": [\n",
    "                    \"cable/cable_1.jpg\",\n",
    "                    \"other/paper_1.jpg\",\n",
    "                    \"ring/ring_1.jpg\"\n",
    "                ],\n",
    "                \"dataset\": {\n",
    "                    \"class_name\": \"raceai.data.PredictListImageDataset\",\n",
    "                    \"params\": {\n",
    "                        \"data_prefix\": \"%s\",\n",
    "                        \"input_size\": 224\n",
    "                    }\n",
    "                },\n",
    "                \"sample\": {\n",
    "                    \"batch_size\": 32,\n",
    "                    \"num_workers\": 1,\n",
    "                }\n",
    "            }\n",
    "        }\n",
    "    }\n",
    "}''' % (MODEL_TASK, MSGKEY,IMG_ROOT)"
   ]
  },
  {
   "cell_type": "markdown",
   "metadata": {},
   "source": [
    "### 输入\n",
    "\n",
    "只需要修改: `data_source` 和 `data_prefix`\n",
    "\n",
    "```json\n",
    "{\n",
    "    \"task\": \"zmq.cr.resnet18.inference\",   // 任务topic, 订阅此topic的后端服务来处理此次请求\n",
    "    \"cfg\": {\n",
    "        \"pigeon\": {                        // 可以传输任何需要异步返回的信息\n",
    "            \"msgkey\": \"zmq.cr.pl.test\",    // 异步数据的队列key\n",
    "            \"user\": \"1\",\n",
    "            \"uuid\": \"100\"\n",
    "        },\n",
    "        \"data\": {\n",
    "            \"class_name\": \"raceai.data.process.PathListDataLoader\",\n",
    "            \"params\": {\n",
    "                \"data_source\": [\n",
    "                    \"cable/cable_1.jpg\",\n",
    "                    \"other/paper_1.jpg\",\n",
    "                    \"ring/ring_1.jpg\"\n",
    "                ],\n",
    "                \"dataset\": {\n",
    "                    \"class_name\": \"raceai.data.PredictListImageDataset\",\n",
    "                    \"params\": {\n",
    "                        \"data_prefix\": \"/raceai/data/datasets/cleaner_robot/imgs\",\n",
    "                        \"input_size\": 224\n",
    "                    }\n",
    "                },\n",
    "                \"sample\": {\n",
    "                    \"batch_size\": 32,\n",
    "                    \"num_workers\": 4,\n",
    "                }\n",
    "            }\n",
    "        }\n",
    "    }\n",
    "}\n",
    "```"
   ]
  },
  {
   "cell_type": "code",
   "execution_count": 14,
   "metadata": {
    "ExecuteTime": {
     "end_time": "2021-03-03T12:41:13.465279Z",
     "start_time": "2021-03-03T12:41:10.443675Z"
    }
   },
   "outputs": [],
   "source": [
    "reqdata = eval(cfgdata)\n",
    "json.loads(requests.get(url=f'{API_POPMSG}?key={MSGKEY}').text)\n",
    "json.loads(requests.post(url=API_INFERENCE, json=reqdata).text)\n",
    "time.sleep(3)"
   ]
  },
  {
   "cell_type": "code",
   "execution_count": 15,
   "metadata": {
    "ExecuteTime": {
     "end_time": "2021-03-03T12:41:21.542171Z",
     "start_time": "2021-03-03T12:41:21.525064Z"
    }
   },
   "outputs": [
    {
     "data": {
      "text/plain": [
       "[{'pigeon': {'msgkey': 'zmq.cr.pl.test', 'user': '1', 'uuid': '100'},\n",
       "  'task': 'zmq.cr.resnet18.inference',\n",
       "  'errno': 0,\n",
       "  'result': [{'image_path': '/raceai/data/datasets/cleaner_robot/imgs/cable/cable_1.jpg',\n",
       "    'image_id': 1,\n",
       "    'probs': [4.336530400905758e-05,\n",
       "     0.9998339414596558,\n",
       "     0.0001226640015374869],\n",
       "    'probs_sorted': {'values': [0.9998339414596558,\n",
       "      0.0001226640015374869,\n",
       "      4.336530400905758e-05],\n",
       "     'indices': [1, 2, 0]}},\n",
       "   {'image_path': '/raceai/data/datasets/cleaner_robot/imgs/other/paper_1.jpg',\n",
       "    'image_id': 2,\n",
       "    'probs': [4.148980679019587e-07,\n",
       "     1.930395774252247e-05,\n",
       "     0.9999803304672241],\n",
       "    'probs_sorted': {'values': [0.9999803304672241,\n",
       "      1.930395774252247e-05,\n",
       "      4.148980679019587e-07],\n",
       "     'indices': [2, 1, 0]}},\n",
       "   {'image_path': '/raceai/data/datasets/cleaner_robot/imgs/ring/ring_1.jpg',\n",
       "    'image_id': 3,\n",
       "    'probs': [0.9999312162399292,\n",
       "     6.667339039267972e-05,\n",
       "     2.1755395209765993e-06],\n",
       "    'probs_sorted': {'values': [0.9999312162399292,\n",
       "      6.667339039267972e-05,\n",
       "      2.1755395209765993e-06],\n",
       "     'indices': [0, 1, 2]}}],\n",
       "  'running_time': 0.207}]"
      ]
     },
     "execution_count": 15,
     "metadata": {},
     "output_type": "execute_result"
    }
   ],
   "source": [
    "json.loads(requests.get(url=f'{API_POPMSG}?key={MSGKEY}').text)"
   ]
  },
  {
   "cell_type": "markdown",
   "metadata": {},
   "source": [
    "### 输出\n",
    "\n",
    "\n",
    "```\n",
    "[\n",
    "    {\n",
    "        \"pigeon\": {\n",
    "            \"msgkey\": \"zmq.cr.pl.test\", \n",
    "            \"user\": \"1\", \n",
    "            \"uuid\": \"100\"\n",
    "        }, \n",
    "        \"task\": \"zmq.cr.resnet18.inference\",\n",
    "        \"errno\": 0, \n",
    "        \"result\": [\n",
    "            {\n",
    "                \"image_path\": \"/raceai/data/datasets/cleaner_robot/imgs/cable/cable_1.jpg\",  // 预测的图片本地路径\n",
    "                \"image_id\": \"-1\",              // 该图片的id (data_source为字典类型时, 由\"image_id\"携带)\n",
    "                \"probs\": [                     // 该图片预测不同分类的概率\n",
    "                    0.00004336530400905758, \n",
    "                    0.9998339414596558, \n",
    "                    0.0001226640015374869\n",
    "                ], \n",
    "                \"probs_sorted\": {              // 对分类概率排序(倒序)\n",
    "                    \"values\": [\n",
    "                        0.9998339414596558, \n",
    "                        0.0001226640015374869, \n",
    "                        0.00004336530400905758\n",
    "                    ], \n",
    "                    \"indices\": [               // 对应的下标序列\n",
    "                        1, \n",
    "                        2, \n",
    "                        0\n",
    "                    ]\n",
    "                }\n",
    "            }, \n",
    "            {\n",
    "                \"image_path\": \"/raceai/data/datasets/cleaner_robot/imgs/other/paper_1.jpg\", \n",
    "                \"image_id\": \"-1\", \n",
    "                \"probs\": [\n",
    "                    4.148980679019587e-7, \n",
    "                    0.00001930395774252247, \n",
    "                    0.9999803304672241\n",
    "                ], \n",
    "                \"probs_sorted\": {\n",
    "                    \"values\": [\n",
    "                        0.9999803304672241, \n",
    "                        0.00001930395774252247, \n",
    "                        4.148980679019587e-7\n",
    "                    ], \n",
    "                    \"indices\": [\n",
    "                        2, \n",
    "                        1, \n",
    "                        0\n",
    "                    ]\n",
    "                }\n",
    "            }, \n",
    "            {\n",
    "                \"image_path\": \"/raceai/data/datasets/cleaner_robot/imgs/ring/ring_1.jpg\", \n",
    "                \"image_id\": \"-1\", \n",
    "                \"probs\": [\n",
    "                    0.9999312162399292, \n",
    "                    0.00006667339039267972, \n",
    "                    0.0000021755395209765993\n",
    "                ], \n",
    "                \"probs_sorted\": {\n",
    "                    \"values\": [\n",
    "                        0.9999312162399292, \n",
    "                        0.00006667339039267972, \n",
    "                        0.0000021755395209765993\n",
    "                    ], \n",
    "                    \"indices\": [\n",
    "                        0, \n",
    "                        1, \n",
    "                        2\n",
    "                    ]\n",
    "                }\n",
    "            }\n",
    "        ], \n",
    "        \"running_time\": 0.276\n",
    "    }\n",
    "]\n",
    "\n",
    "```"
   ]
  },
  {
   "cell_type": "markdown",
   "metadata": {},
   "source": [
    "### 带有image_id"
   ]
  },
  {
   "cell_type": "code",
   "execution_count": 16,
   "metadata": {
    "ExecuteTime": {
     "end_time": "2021-03-03T12:41:28.962394Z",
     "start_time": "2021-03-03T12:41:28.957734Z"
    }
   },
   "outputs": [],
   "source": [
    "cfgdata = '''{\n",
    "    \"task\": \"%s\",\n",
    "    \"cfg\": {\n",
    "        \"pigeon\": {\n",
    "            \"msgkey\": \"%s\",\n",
    "            \"user\": \"1\",\n",
    "            \"uuid\": \"100\"\n",
    "        },\n",
    "        \"data\": {\n",
    "            \"class_name\": \"raceai.data.process.PathListDataLoader\",\n",
    "            \"params\": {\n",
    "                \"data_source\": [\n",
    "                    {\"image_path\": \"cable/cable_1.jpg\", \"image_id\": 1},\n",
    "                    {\"image_path\": \"other/paper_1.jpg\", \"image_id\": 2},\n",
    "                    {\"image_path\": \"ring/ring_1.jpg\", \"image_id\": 3}\n",
    "                ],\n",
    "                \"dataset\": {\n",
    "                    \"class_name\": \"raceai.data.PredictListImageDataset\",\n",
    "                    \"params\": {\n",
    "                        \"data_prefix\": \"%s\",\n",
    "                        \"input_size\": 224\n",
    "                    }\n",
    "                },\n",
    "                \"sample\": {\n",
    "                    \"batch_size\": 32,\n",
    "                    \"num_workers\": 4,\n",
    "                }\n",
    "            }\n",
    "        }\n",
    "    }\n",
    "}''' % (MODEL_TASK, MSGKEY,IMG_ROOT)"
   ]
  },
  {
   "cell_type": "code",
   "execution_count": 17,
   "metadata": {
    "ExecuteTime": {
     "end_time": "2021-03-03T12:41:33.724373Z",
     "start_time": "2021-03-03T12:41:30.702242Z"
    }
   },
   "outputs": [],
   "source": [
    "reqdata = eval(cfgdata)\n",
    "json.loads(requests.get(url=f'{API_POPMSG}?key={MSGKEY}').text)\n",
    "json.loads(requests.post(url=API_INFERENCE, json=reqdata).text)\n",
    "time.sleep(1)"
   ]
  },
  {
   "cell_type": "code",
   "execution_count": 18,
   "metadata": {
    "ExecuteTime": {
     "end_time": "2021-03-03T12:41:33.741922Z",
     "start_time": "2021-03-03T12:41:33.726827Z"
    }
   },
   "outputs": [
    {
     "data": {
      "text/plain": [
       "[{'pigeon': {'msgkey': 'zmq.cr.pl.test', 'user': '1', 'uuid': '100'},\n",
       "  'task': 'zmq.cr.resnet18.inference',\n",
       "  'errno': 0,\n",
       "  'result': [{'image_path': '/raceai/data/datasets/cleaner_robot/imgs/cable/cable_1.jpg',\n",
       "    'image_id': 1,\n",
       "    'probs': [4.336530400905758e-05,\n",
       "     0.9998339414596558,\n",
       "     0.0001226640015374869],\n",
       "    'probs_sorted': {'values': [0.9998339414596558,\n",
       "      0.0001226640015374869,\n",
       "      4.336530400905758e-05],\n",
       "     'indices': [1, 2, 0]}},\n",
       "   {'image_path': '/raceai/data/datasets/cleaner_robot/imgs/other/paper_1.jpg',\n",
       "    'image_id': 2,\n",
       "    'probs': [4.148980679019587e-07,\n",
       "     1.930395774252247e-05,\n",
       "     0.9999803304672241],\n",
       "    'probs_sorted': {'values': [0.9999803304672241,\n",
       "      1.930395774252247e-05,\n",
       "      4.148980679019587e-07],\n",
       "     'indices': [2, 1, 0]}},\n",
       "   {'image_path': '/raceai/data/datasets/cleaner_robot/imgs/ring/ring_1.jpg',\n",
       "    'image_id': 3,\n",
       "    'probs': [0.9999312162399292,\n",
       "     6.667339039267972e-05,\n",
       "     2.1755395209765993e-06],\n",
       "    'probs_sorted': {'values': [0.9999312162399292,\n",
       "      6.667339039267972e-05,\n",
       "      2.1755395209765993e-06],\n",
       "     'indices': [0, 1, 2]}}],\n",
       "  'running_time': 0.306}]"
      ]
     },
     "execution_count": 18,
     "metadata": {},
     "output_type": "execute_result"
    }
   ],
   "source": [
    "json.loads(requests.get(url=f'{API_POPMSG}?key={MSGKEY}').text)"
   ]
  },
  {
   "cell_type": "markdown",
   "metadata": {},
   "source": [
    "## 单张Base64"
   ]
  },
  {
   "cell_type": "code",
   "execution_count": 41,
   "metadata": {
    "ExecuteTime": {
     "end_time": "2021-03-04T04:04:29.850352Z",
     "start_time": "2021-03-04T04:04:29.655277Z"
    }
   },
   "outputs": [
    {
     "data": {
      "image/png": "[encoded data removed]",
      "text/plain": [
       "<Figure size 432x288 with 1 Axes>"
      ]
     },
     "metadata": {
      "needs_background": "light"
     },
     "output_type": "display_data"
    }
   ],
   "source": [
    "test_image_path = '/hzcsk12/hzcsnote/assets/images/cigarette_16.jpeg'\n",
    "# test_image_path = '/raceai/data/datasets/cleaner_robot/imgs/ring/ring_1.jpg'\n",
    "test_image = cv2.cvtColor(cv2.imread(test_image_path), cv2.COLOR_BGR2RGB)\n",
    "plt.imshow(test_image);"
   ]
  },
  {
   "cell_type": "code",
   "execution_count": 42,
   "metadata": {
    "ExecuteTime": {
     "end_time": "2021-03-04T04:04:30.944566Z",
     "start_time": "2021-03-04T04:04:30.412601Z"
    }
   },
   "outputs": [
    {
     "name": "stdout",
     "output_type": "stream",
     "text": [
      "[{'pigeon': {'msgkey': 'zmq.cr.pl.test', 'user': '1', 'uuid': '100'}, 'task': 'zmq.cr.resnet18.inference', 'errno': 0, 'result': [{'image_path': '/tmp/b4img_90.png', 'image_id': '-1', 'probs': [9.382587506934215e-08, 8.974170668807346e-06, 0.9999909400939941], 'probs_sorted': {'values': [0.9999909400939941, 8.974170668807346e-06, 9.382587506934215e-08], 'indices': [2, 1, 0]}}], 'running_time': 0.228}]\n"
     ]
    }
   ],
   "source": [
    "def img2b64(path):\n",
    "    with open(path, 'rb') as fr:\n",
    "        b4data = base64.b64encode(fr.read()).decode()\n",
    "    return b4data\n",
    "\n",
    "reqdata = '''{\n",
    "    \"task\": \"%s\",\n",
    "    \"cfg\": {\n",
    "        \"pigeon\": {\n",
    "            \"msgkey\": \"%s\",\n",
    "            \"user\": \"1\",\n",
    "            \"uuid\": \"100\"\n",
    "        },\n",
    "        \"data\": {\n",
    "            \"class_name\": \"raceai.data.process.Base64DataLoader\",\n",
    "            \"params\": {\n",
    "                \"data_source\": \"%s\",\n",
    "                \"dataset\": {\n",
    "                    \"class_name\": \"raceai.data.PredictListImageDataset\",\n",
    "                    \"params\": {\n",
    "                        \"input_size\": 224\n",
    "                    }\n",
    "                },\n",
    "                \"sample\": {\n",
    "                    \"batch_size\": 32,\n",
    "                    \"num_workers\": 4,\n",
    "                }\n",
    "            }\n",
    "        }\n",
    "    }\n",
    "}''' % (MODEL_TASK, MSGKEY, img2b64(test_image_path))\n",
    "\n",
    "reqdata = eval(reqdata)\n",
    "json.loads(requests.get(url=f'{API_POPMSG}?key={MSGKEY}').text)\n",
    "json.loads(requests.post(url=API_INFERENCE, json=reqdata).text)\n",
    "time.sleep(0.5)\n",
    "resdata = json.loads(requests.get(url=f'{API_POPMSG}?key={MSGKEY}').text)\n",
    "print(resdata)"
   ]
  }
 ],
 "metadata": {
  "kernelspec": {
   "display_name": "Python 3",
   "language": "python",
   "name": "python3"
  },
  "language_info": {
   "codemirror_mode": {
    "name": "ipython",
    "version": 3
   },
   "file_extension": ".py",
   "mimetype": "text/x-python",
   "name": "python",
   "nbconvert_exporter": "python",
   "pygments_lexer": "ipython3",
   "version": "3.6.9"
  },
  "toc": {
   "base_numbering": 1,
   "nav_menu": {},
   "number_sections": true,
   "sideBar": true,
   "skip_h1_title": true,
   "title_cell": "",
   "title_sidebar": "Contents",
   "toc_cell": false,
   "toc_position": {
    "height": "calc(100% - 180px)",
    "left": "10px",
    "top": "150px",
    "width": "349.091px"
   },
   "toc_section_display": true,
   "toc_window_display": false
  }
 },
 "nbformat": 4,
 "nbformat_minor": 4
}
