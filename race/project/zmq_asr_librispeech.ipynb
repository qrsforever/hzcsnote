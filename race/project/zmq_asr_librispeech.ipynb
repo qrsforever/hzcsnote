{
 "cells": [
  {
   "cell_type": "code",
   "execution_count": 1,
   "metadata": {
    "ExecuteTime": {
     "end_time": "2021-03-26T07:20:50.196834Z",
     "start_time": "2021-03-26T07:20:50.158170Z"
    }
   },
   "outputs": [],
   "source": [
    "%config IPCompleter.use_jedi = False"
   ]
  },
  {
   "cell_type": "code",
   "execution_count": 2,
   "metadata": {
    "ExecuteTime": {
     "end_time": "2021-03-26T07:20:51.950695Z",
     "start_time": "2021-03-26T07:20:50.199224Z"
    }
   },
   "outputs": [],
   "source": [
    "import os\n",
    "import json\n",
    "import numpy as np\n",
    "import requests\n",
    "import time\n",
    "import cv2\n",
    "import base64\n",
    "import random\n",
    "import matplotlib.pyplot as plt\n",
    "\n",
    "from tqdm import tqdm\n",
    "from IPython.display import display, HTML\n",
    "from k12libs.utils.nb_easy import RACEURL"
   ]
  },
  {
   "cell_type": "code",
   "execution_count": 3,
   "metadata": {
    "ExecuteTime": {
     "end_time": "2021-03-26T07:20:51.971385Z",
     "start_time": "2021-03-26T07:20:51.958684Z"
    }
   },
   "outputs": [
    {
     "data": {
      "text/html": [
       "<style>.container { width:90% !important; }</style>"
      ],
      "text/plain": [
       "<IPython.core.display.HTML object>"
      ]
     },
     "metadata": {},
     "output_type": "display_data"
    }
   ],
   "source": [
    "display(HTML('<style>.container { width:%d%% !important; }</style>' % 90))"
   ]
  },
  {
   "cell_type": "code",
   "execution_count": 4,
   "metadata": {
    "ExecuteTime": {
     "end_time": "2021-03-26T07:20:51.991296Z",
     "start_time": "2021-03-26T07:20:51.979920Z"
    }
   },
   "outputs": [
    {
     "data": {
      "text/plain": [
       "'http://116.85.5.40:9119/raceai/framework/inference'"
      ]
     },
     "execution_count": 4,
     "metadata": {},
     "output_type": "execute_result"
    }
   ],
   "source": [
    "API_INFERENCE = f'{RACEURL}/raceai/framework/inference'\n",
    "API_INFERENCE"
   ]
  },
  {
   "cell_type": "code",
   "execution_count": 5,
   "metadata": {
    "ExecuteTime": {
     "end_time": "2021-03-26T07:20:52.008552Z",
     "start_time": "2021-03-26T07:20:51.998570Z"
    }
   },
   "outputs": [
    {
     "data": {
      "text/plain": [
       "'http://116.85.5.40:9119/raceai/private/popmsg'"
      ]
     },
     "execution_count": 5,
     "metadata": {},
     "output_type": "execute_result"
    }
   ],
   "source": [
    "API_POPMSG = f'{RACEURL}/raceai/private/popmsg'\n",
    "API_POPMSG "
   ]
  },
  {
   "cell_type": "code",
   "execution_count": 6,
   "metadata": {
    "ExecuteTime": {
     "end_time": "2021-03-26T07:20:52.022578Z",
     "start_time": "2021-03-26T07:20:52.016665Z"
    }
   },
   "outputs": [],
   "source": [
    "MODEL_TASK = 'zmq.asr.librispeech.inference'\n",
    "MSGKEY = 'zmq.asr.test'\n",
    "IMG_ROOT = '/raceai/data/audio_samples'"
   ]
  },
  {
   "cell_type": "code",
   "execution_count": 7,
   "metadata": {
    "ExecuteTime": {
     "end_time": "2021-03-26T07:20:52.035404Z",
     "start_time": "2021-03-26T07:20:52.029576Z"
    }
   },
   "outputs": [],
   "source": [
    "SAMPLE_FILES = [\n",
    "    'example1.wav',\n",
    "    'example2.flac',\n",
    "]"
   ]
  },
  {
   "cell_type": "markdown",
   "metadata": {},
   "source": [
    "## 调试"
   ]
  },
  {
   "cell_type": "code",
   "execution_count": 8,
   "metadata": {
    "ExecuteTime": {
     "end_time": "2021-03-26T07:20:52.054410Z",
     "start_time": "2021-03-26T07:20:52.043986Z"
    }
   },
   "outputs": [],
   "source": [
    "rawdata = '''{\n",
    "    \"task\": \"%s\",\n",
    "    \"cfg\": {\n",
    "        \"pigeon\": {\n",
    "            \"msgkey\": \"%s\",\n",
    "            \"user\": \"1\",\n",
    "            \"uuid\": \"100\"\n",
    "        },\n",
    "        \"data\": {\n",
    "            \"class_name\": \"raceai.data.process.PathListDataLoader\",\n",
    "            \"params\": {\n",
    "                \"data_source\": %s,\n",
    "                \"dataset\": {\n",
    "                    \"class_name\": \"raceai.data.RawRaceDataset\",\n",
    "                    \"params\": {\n",
    "                        \"data_prefix\": \"%s\"\n",
    "                    }\n",
    "                }\n",
    "            }\n",
    "        }\n",
    "    }\n",
    "}'''\n",
    "rawdata_conf = rawdata % (MODEL_TASK, MSGKEY, SAMPLE_FILES, IMG_ROOT)"
   ]
  },
  {
   "cell_type": "markdown",
   "metadata": {},
   "source": [
    "### 输入\n",
    "\n",
    "只需要修改: `data_source` 和 `data_prefix`"
   ]
  },
  {
   "cell_type": "code",
   "execution_count": 9,
   "metadata": {
    "ExecuteTime": {
     "end_time": "2021-03-26T07:20:52.067995Z",
     "start_time": "2021-03-26T07:20:52.057046Z"
    }
   },
   "outputs": [
    {
     "name": "stdout",
     "output_type": "stream",
     "text": [
      "{\n",
      "    \"task\": \"zmq.asr.librispeech.inference\",\n",
      "    \"cfg\": {\n",
      "        \"pigeon\": {\n",
      "            \"msgkey\": \"zmq.asr.test\",\n",
      "            \"user\": \"1\",\n",
      "            \"uuid\": \"100\"\n",
      "        },\n",
      "        \"data\": {\n",
      "            \"class_name\": \"raceai.data.process.PathListDataLoader\",\n",
      "            \"params\": {\n",
      "                \"data_source\": ['example1.wav', 'example2.flac'],\n",
      "                \"dataset\": {\n",
      "                    \"class_name\": \"raceai.data.RawRaceDataset\",\n",
      "                    \"params\": {\n",
      "                        \"data_prefix\": \"/raceai/data/audio_samples\"\n",
      "                    }\n",
      "                }\n",
      "            }\n",
      "        }\n",
      "    }\n",
      "}\n"
     ]
    }
   ],
   "source": [
    "print(rawdata_conf)"
   ]
  },
  {
   "cell_type": "code",
   "execution_count": 13,
   "metadata": {
    "ExecuteTime": {
     "end_time": "2021-03-26T08:14:47.682402Z",
     "start_time": "2021-03-26T08:14:44.648874Z"
    }
   },
   "outputs": [
    {
     "data": {
      "text/plain": [
       "[{'pigeon': {'msgkey': 'zmq.asr.test', 'user': '1', 'uuid': '100'},\n",
       "  'task': 'zmq.asr.librispeech.inference',\n",
       "  'errno': 0,\n",
       "  'result': [{'id': 0, 'text': 'THE BIRCH CANOE SLID ON THE SMOOTH PLANKS'},\n",
       "   {'id': 1, 'text': \"MY FATHER HAS REVEALED THE CULPRIT'S NAME\"}],\n",
       "  'running_time': 2.038}]"
      ]
     },
     "execution_count": 13,
     "metadata": {},
     "output_type": "execute_result"
    }
   ],
   "source": [
    "reqdata = eval(rawdata_conf)\n",
    "json.loads(requests.get(url=f'{API_POPMSG}?key={MSGKEY}').text)\n",
    "json.loads(requests.post(url=API_INFERENCE, json=reqdata).text)\n",
    "time.sleep(3)\n",
    "resdata = json.loads(requests.get(url=f'{API_POPMSG}?key={MSGKEY}').text)\n",
    "resdata"
   ]
  },
  {
   "cell_type": "markdown",
   "metadata": {},
   "source": [
    "### 输出\n",
    "\n",
    "```json\n",
    "[\n",
    "    {\n",
    "        \"pigeon\": {\n",
    "            \"msgkey\": \"zmq.asr.test\",\n",
    "            \"user\": \"1\",\n",
    "            \"uuid\": \"100\"\n",
    "        },\n",
    "        \"task\": \"zmq.asr.librispeech.inference\",\n",
    "        \"errno\": 0,\n",
    "        \"result\": [\n",
    "            {\n",
    "                \"id\": 0,                                            // 传入图片的序号(data_source内容的顺序), 如果存在音频路径不存在的情况会有用\n",
    "                \"text\": \"THE BIRCH CANOE SLID ON THE SMOOTH PLANKS\" // 音频解码后的文本\n",
    "            },\n",
    "            {\n",
    "                \"id\": 1,\n",
    "                \"text\": \"MY FATHER HAS REVEALED THE CULPRIT'S NAME\"\n",
    "            }\n",
    "        ],\n",
    "        \"running_time\": 2.037\n",
    "    }\n",
    "]\n",
    "````"
   ]
  },
  {
   "cell_type": "markdown",
   "metadata": {},
   "source": [
    "## 单个Base64"
   ]
  },
  {
   "cell_type": "code",
   "execution_count": 33,
   "metadata": {
    "ExecuteTime": {
     "end_time": "2021-03-26T08:23:06.071929Z",
     "start_time": "2021-03-26T08:23:06.068433Z"
    }
   },
   "outputs": [],
   "source": [
    "# test_audio = '/hzcsk12/hzcsnote/assets/audio/example2.flac'\n",
    "# test_audio = '/hzcsk12/hzcsnote/assets/audio/example.wav'\n",
    "test_audio = '/hzcsk12/hzcsnote/assets/audio/test_audio_2.wav'"
   ]
  },
  {
   "cell_type": "code",
   "execution_count": null,
   "metadata": {
    "ExecuteTime": {
     "end_time": "2021-03-26T08:30:15.572199Z",
     "start_time": "2021-03-26T08:30:12.505534Z"
    }
   },
   "outputs": [],
   "source": [
    "def audio2b64(path):\n",
    "    with open(path, 'rb') as fr:\n",
    "        b4data = base64.b64encode(fr.read()).decode()\n",
    "    if path.endswith('wav'):\n",
    "        return 'data:audio/wav;base64,%s' % b4data\n",
    "    elif path.endswith('flac'):\n",
    "        return 'data:audio/flac;base64,%s' % b4data\n",
    "    return b4data\n",
    "\n",
    "reqdata = '''{\n",
    "    \"task\": \"%s\",\n",
    "    \"cfg\": {\n",
    "        \"pigeon\": {\n",
    "            \"msgkey\": \"%s\",\n",
    "            \"user\": \"1\",\n",
    "                \"uuid\": \"100\"\n",
    "        },\n",
    "        \"data\": {\n",
    "            \"class_name\": \"raceai.data.process.Base64DataLoader\",\n",
    "            \"params\": {\n",
    "                \"data_source\": \"%s\",\n",
    "                \"dataset\": {\n",
    "                    \"class_name\": \"raceai.data.RawRaceDataset\",\n",
    "                    \"params\": {}\n",
    "                }\n",
    "            }\n",
    "        }\n",
    "    }\n",
    "}''' % (MODEL_TASK, MSGKEY, audio2b64(test_audio))\n",
    "\n",
    "reqdata = eval(reqdata)\n",
    "json.loads(requests.get(url=f'{API_POPMSG}?key={MSGKEY}').text)\n",
    "json.loads(requests.post(url=API_INFERENCE, json=reqdata).text)\n",
    "time.sleep(3)"
   ]
  },
  {
   "cell_type": "code",
   "execution_count": 43,
   "metadata": {
    "ExecuteTime": {
     "end_time": "2021-03-26T08:30:20.954403Z",
     "start_time": "2021-03-26T08:30:20.942232Z"
    },
    "scrolled": false
   },
   "outputs": [
    {
     "name": "stdout",
     "output_type": "stream",
     "text": [
      "[]\n"
     ]
    }
   ],
   "source": [
    "resdata = json.loads(requests.get(url=f'{API_POPMSG}?key={MSGKEY}').text)\n",
    "print(json.dumps(resdata, indent=4))"
   ]
  }
 ],
 "metadata": {
  "kernelspec": {
   "display_name": "Python 3",
   "language": "python",
   "name": "python3"
  },
  "language_info": {
   "codemirror_mode": {
    "name": "ipython",
    "version": 3
   },
   "file_extension": ".py",
   "mimetype": "text/x-python",
   "name": "python",
   "nbconvert_exporter": "python",
   "pygments_lexer": "ipython3",
   "version": "3.6.9"
  },
  "toc": {
   "base_numbering": 1,
   "nav_menu": {},
   "number_sections": true,
   "sideBar": true,
   "skip_h1_title": true,
   "title_cell": "",
   "title_sidebar": "Contents",
   "toc_cell": false,
   "toc_position": {
    "height": "calc(100% - 180px)",
    "left": "10px",
    "top": "150px",
    "width": "349.091px"
   },
   "toc_section_display": true,
   "toc_window_display": false
  }
 },
 "nbformat": 4,
 "nbformat_minor": 4
}
