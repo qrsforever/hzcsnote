{
 "cells": [
  {
   "cell_type": "code",
   "execution_count": 1,
   "metadata": {
    "ExecuteTime": {
     "end_time": "2021-01-06T06:20:55.921050Z",
     "start_time": "2021-01-06T06:20:54.296202Z"
    }
   },
   "outputs": [],
   "source": [
    "import os\n",
    "import csv # noqa\n",
    "import json\n",
    "import struct\n",
    "import io\n",
    "import numpy as np\n",
    "import requests\n",
    "import base64\n",
    "import random\n",
    "from PIL import Image\n",
    "from IPython.display import Markdown, display, HTML, IFrame\n",
    "from pprint import pprint\n",
    "from random import sample\n",
    "from urllib.request import urlretrieve\n",
    "from k12libs.utils.nb_easy import k12ai_get_top_dir, RACEURL\n",
    "from k12libs.utils.nb_easy import K12AI_DATASETS_ROOT"
   ]
  },
  {
   "cell_type": "code",
   "execution_count": 2,
   "metadata": {
    "ExecuteTime": {
     "end_time": "2021-01-06T06:20:55.936889Z",
     "start_time": "2021-01-06T06:20:55.925888Z"
    }
   },
   "outputs": [
    {
     "data": {
      "text/html": [
       "<style>.container { width:90% !important; }</style>"
      ],
      "text/plain": [
       "<IPython.core.display.HTML object>"
      ]
     },
     "metadata": {},
     "output_type": "display_data"
    }
   ],
   "source": [
    "display(HTML('<style>.container { width:%d%% !important; }</style>' % 90))"
   ]
  },
  {
   "cell_type": "markdown",
   "metadata": {},
   "source": [
    "## 标签描述"
   ]
  },
  {
   "cell_type": "code",
   "execution_count": 3,
   "metadata": {
    "ExecuteTime": {
     "end_time": "2021-01-06T06:20:55.954163Z",
     "start_time": "2021-01-06T06:20:55.940913Z"
    }
   },
   "outputs": [
    {
     "data": {
      "text/markdown": [
       "\n",
       "标签(label) | 描述(description)\n",
       ":---: | :---:\n",
       "<img width=300/> | <img width=300/> \n",
       "0 | a/A \n",
       "1 | b/B \n",
       "2 | c/C \n",
       "3 | d/D \n",
       "4 | e/E \n",
       "5 | f/F \n",
       "6 | g/G \n",
       "7 | h/H \n",
       "8 | i/I \n",
       "9 | j/J \n",
       "10 | k/K \n",
       "11 | l/L \n",
       "12 | m/M \n",
       "13 | n/N \n",
       "14 | o/O \n",
       "15 | p/P \n",
       "16 | q/Q \n",
       "17 | r/R \n",
       "18 | s/S \n",
       "19 | t/T \n",
       "20 | u/U \n",
       "21 | v/V \n",
       "22 | w/W \n",
       "23 | x/X \n",
       "24 | y/Y \n",
       "25 | z/Z \n"
      ],
      "text/plain": [
       "<IPython.core.display.Markdown object>"
      ]
     },
     "execution_count": 3,
     "metadata": {},
     "output_type": "execute_result"
    }
   ],
   "source": [
    "# chr(70), ord('a')\n",
    "table = '''\n",
    "标签(label) | 描述(description)\n",
    ":---: | :---:\n",
    "<img width=300/> | <img width=300/> \n",
    "'''\n",
    "\n",
    "label_names = []\n",
    "\n",
    "for i in range(26):\n",
    "    char = chr(97 + i)\n",
    "    CHAR = char.upper()\n",
    "    table += f'{i} | {char}/{CHAR} \\n'\n",
    "    label_names.append(char)\n",
    "    \n",
    "Markdown(table)"
   ]
  },
  {
   "cell_type": "markdown",
   "metadata": {},
   "source": [
    "## 开发调试"
   ]
  },
  {
   "cell_type": "markdown",
   "metadata": {},
   "source": [
    "[模型权重训练](http://116.85.5.40:8118/notebooks/cv/pl/pl_emnist_letters.ipynb)"
   ]
  },
  {
   "cell_type": "code",
   "execution_count": 4,
   "metadata": {
    "ExecuteTime": {
     "end_time": "2021-01-06T06:20:55.971706Z",
     "start_time": "2021-01-06T06:20:55.957919Z"
    }
   },
   "outputs": [
    {
     "data": {
      "text/plain": [
       "'http://116.85.5.40:9119/raceai/framework/inference'"
      ]
     },
     "execution_count": 4,
     "metadata": {},
     "output_type": "execute_result"
    }
   ],
   "source": [
    "API_INFERENCE = f'{RACEURL}/raceai/framework/inference'\n",
    "API_INFERENCE"
   ]
  },
  {
   "cell_type": "code",
   "execution_count": 5,
   "metadata": {
    "ExecuteTime": {
     "end_time": "2021-01-06T06:20:55.995598Z",
     "start_time": "2021-01-06T06:20:55.974739Z"
    }
   },
   "outputs": [],
   "source": [
    "def decode_idx3_ubyte(idx3_ubyte_file):\n",
    "    bin_data = open(idx3_ubyte_file, 'rb').read()\n",
    " \n",
    "    offset = 0\n",
    "    fmt_header = '>iiii'\n",
    "    magic_number, num_images, num_rows, num_cols = struct.unpack_from(fmt_header, bin_data, offset)\n",
    "    print('magic:%d, total: %d, size: %d*%d' % (magic_number, num_images, num_rows, num_cols))\n",
    " \n",
    "    image_size = num_rows * num_cols\n",
    "    offset += struct.calcsize(fmt_header)\n",
    "    fmt_image = '>' + str(image_size) + 'B'\n",
    "    images = np.empty((num_images, num_rows, num_cols))\n",
    "    for i in range(num_images):\n",
    "        images[i] = np.array(struct.unpack_from(fmt_image, bin_data, offset)).reshape((num_rows, num_cols)).T\n",
    "        offset += struct.calcsize(fmt_image)\n",
    "    return images\n",
    "\n",
    "def decode_idx1_ubyte(idx1_ubyte_file):\n",
    "    bin_data = open(idx1_ubyte_file, 'rb').read()\n",
    "\n",
    "    offset = 0\n",
    "    fmt_header = '>ii'\n",
    "    magic_number, num_images = struct.unpack_from(fmt_header, bin_data, offset)\n",
    "    print('magic:%d, total: %d' % (magic_number, num_images))\n",
    "\n",
    "    offset += struct.calcsize(fmt_header)\n",
    "    fmt_image = '>B'\n",
    "    labels = np.empty(num_images, dtype=int)\n",
    "    for i in range(num_images):\n",
    "        labels[i] = struct.unpack_from(fmt_image, bin_data, offset)[0]\n",
    "        offset += struct.calcsize(fmt_image)\n",
    "    return labels\n",
    "\n",
    "def img2b64(source):\n",
    "    if isinstance(source, str):\n",
    "        with open(source, 'rb') as fr:\n",
    "            return base64.b64encode(fr.read()).decode()\n",
    "    elif isinstance(source, np.ndarray):\n",
    "        img = Image.fromarray(source).convert('RGB')\n",
    "        bio = io.BytesIO()\n",
    "        img.save(bio, \"PNG\")\n",
    "        bio.seek(0)\n",
    "        return base64.b64encode(bio.read()).decode()\n",
    "    else:\n",
    "        raise 'type error'"
   ]
  },
  {
   "cell_type": "code",
   "execution_count": 6,
   "metadata": {
    "ExecuteTime": {
     "end_time": "2021-01-06T06:20:59.222547Z",
     "start_time": "2021-01-06T06:20:55.998364Z"
    }
   },
   "outputs": [
    {
     "name": "stdout",
     "output_type": "stream",
     "text": [
      "magic:2051, total: 20800, size: 28*28\n",
      "magic:2049, total: 20800\n"
     ]
    }
   ],
   "source": [
    "image_list = decode_idx3_ubyte('/data/datasets/cv/EMNIST_Letters/emnist-letters-test-images-idx3-ubyte')\n",
    "label_list = decode_idx1_ubyte('/data/datasets/cv/EMNIST_Letters/emnist-letters-test-labels-idx1-ubyte')"
   ]
  },
  {
   "cell_type": "code",
   "execution_count": 7,
   "metadata": {
    "ExecuteTime": {
     "end_time": "2021-01-06T06:20:59.247240Z",
     "start_time": "2021-01-06T06:20:59.225226Z"
    }
   },
   "outputs": [
    {
     "name": "stdout",
     "output_type": "stream",
     "text": [
      "z\n"
     ]
    },
    {
     "data": {
      "image/png": "[encoded data removed]",
      "text/plain": [
       "<PIL.Image.Image image mode=RGB size=64x64 at 0x7F53FD06D3C8>"
      ]
     },
     "execution_count": 7,
     "metadata": {},
     "output_type": "execute_result"
    }
   ],
   "source": [
    "test_pic = Image.fromarray(image_list[-1]).convert('RGB')\n",
    "print(label_names[label_list[-1] -1])\n",
    "test_pic.resize((64, 64))"
   ]
  },
  {
   "cell_type": "code",
   "execution_count": 8,
   "metadata": {
    "ExecuteTime": {
     "end_time": "2021-01-06T06:20:59.256963Z",
     "start_time": "2021-01-06T06:20:59.251076Z"
    }
   },
   "outputs": [],
   "source": [
    "model = 'Resnet18'\n",
    "root_dir = '/raceai/data/tmp/resnet18'\n",
    "input_size = 28\n",
    "mean = [\n",
    "    0.1362,\n",
    "    0.1362,\n",
    "    0.1362\n",
    "]\n",
    "std = [\n",
    "    0.2893,\n",
    "    0.2893,\n",
    "    0.2893\n",
    "]\n",
    "num_classes = 26\n",
    "resume_weights = \"/raceai/data/ckpts/letters/pl_resnet18_rotation.pth\"\n",
    "\n",
    "DATA_PROCESS_BASE64 = 'raceai.data.process.Base64DataLoader'\n",
    "\n",
    "reqdata = '''{\n",
    "    \"task\": \"cls.inference.pl\",\n",
    "    \"cfg\": {\n",
    "        \"data\": {\n",
    "            \"class_name\": \"%s\",\n",
    "            \"params\": {\n",
    "                \"data_source\": %s,\n",
    "                \"dataset\": {\n",
    "                    \"class_name\": \"raceai.data.PredictListImageDataset\",\n",
    "                     \"params\": {\n",
    "                         \"input_size\": input_size,\n",
    "                         \"mean\": mean,\n",
    "                         \"std\": std\n",
    "                     }\n",
    "                 },\n",
    "                \"sample\": {\n",
    "                    \"batch_size\": 32,\n",
    "                    \"num_workers\": 4,\n",
    "                }\n",
    "             }\n",
    "        },\n",
    "        \"model\": {\n",
    "            \"class_name\": f\"raceai.models.backbone.{model}\",  \n",
    "            \"params\": {\n",
    "                \"device\": 'gpu',\n",
    "                \"num_classes\": num_classes,\n",
    "                \"weights\": False\n",
    "            }\n",
    "        },\n",
    "        \"trainer\": {\n",
    "            \"default_root_dir\": root_dir,\n",
    "            \"gpus\": 1,\n",
    "            \"resume_from_checkpoint\": resume_weights\n",
    "        }\n",
    "    }\n",
    "}'''"
   ]
  },
  {
   "cell_type": "code",
   "execution_count": 9,
   "metadata": {
    "ExecuteTime": {
     "end_time": "2021-01-06T06:21:24.101144Z",
     "start_time": "2021-01-06T06:20:59.259475Z"
    }
   },
   "outputs": [
    {
     "name": "stdout",
     "output_type": "stream",
     "text": [
      "7 vs 8(0.9523624777793884)\n",
      "14 vs 14(0.9998741149902344)\n",
      "5 vs 3(0.9909488558769226)\n"
     ]
    }
   ],
   "source": [
    "images_labels = list(zip(image_list, label_list))\n",
    "random.shuffle(images_labels)\n",
    "for image, label in images_labels[:3]:\n",
    "    b64str = img2b64(image)\n",
    "    cfg = eval(reqdata % (DATA_PROCESS_BASE64, f\"\\\"{b64str}\\\"\"))\n",
    "    resdata = json.loads(requests.post(url=API_INFERENCE, json=cfg).text)\n",
    "    if resdata['errno'] == 0:\n",
    "        result = resdata['result'][0]\n",
    "        probs = result['probs_sorted']['values'][0]\n",
    "        index = result['probs_sorted']['indices'][0]\n",
    "        print('{} vs {}({})'.format(label-1, index, probs))\n",
    "    else:\n",
    "        print(resdata)"
   ]
  },
  {
   "cell_type": "code",
   "execution_count": 10,
   "metadata": {
    "ExecuteTime": {
     "end_time": "2021-01-06T06:21:24.113243Z",
     "start_time": "2021-01-06T06:21:24.104873Z"
    }
   },
   "outputs": [
    {
     "data": {
      "text/html": [
       "\n",
       "        <iframe\n",
       "            width=\"300\"\n",
       "            height=\"300\"\n",
       "            src=\"http://116.85.5.40:9091/handwritten.html?num_classes=26&ckpt_path=/raceai/data/ckpts/letters/pl_resnet18_rotation.pth\"\n",
       "            frameborder=\"0\"\n",
       "            allowfullscreen\n",
       "        ></iframe>\n",
       "        "
      ],
      "text/plain": [
       "<IPython.lib.display.IFrame at 0x7f5470928a90>"
      ]
     },
     "execution_count": 10,
     "metadata": {},
     "output_type": "execute_result"
    }
   ],
   "source": [
    "url_params = '?num_classes=26&ckpt_path=/raceai/data/ckpts/letters/pl_resnet18_rotation.pth'\n",
    "IFrame(f'http://116.85.5.40:9091/handwritten.html{url_params}', width=300, height=300)"
   ]
  },
  {
   "cell_type": "markdown",
   "metadata": {},
   "source": [
    "## 前端对接\n",
    "\n",
    "步骤:\n",
    "\n",
    "1. 选择模型(增强型,正常型)\n",
    "\n",
    "2. 用户在画布上书写字母\n",
    "\n",
    "3. (可选)旋转\n",
    "\n",
    "4. 将最后的数字图片, 并进行base64编码\n",
    "\n",
    "5. 调用接口`http://116.85.5.40:9119/raceai/framework/inference`"
   ]
  },
  {
   "cell_type": "markdown",
   "metadata": {},
   "source": [
    "### 参数配置"
   ]
  },
  {
   "cell_type": "markdown",
   "metadata": {},
   "source": [
    "#### 模型选择\n",
    "\n",
    "- 旋转识别 (数据增强)\n",
    "\n",
    "    ```\n",
    "    cfg.model.params.num_classes = 26\n",
    "    cfg.trainer.resume_from_checkpoint = /raceai/data/ckpts/letters/pl_resnet18_rotation.pth\n",
    "    ```\n",
    "\n",
    "- 正常识别\n",
    "\n",
    "    ```\n",
    "    cfg.trainer.resume_from_checkpoint = /raceai/data/ckpts/letters/pl_resnet18_normal.pth\n",
    "    cfg.model.params.num_classes = 26\n",
    "    ```\n",
    "\n",
    "\n",
    "#### Base64数据\n",
    "\n",
    "    cfg.data.data_source = \"b64str\""
   ]
  },
  {
   "cell_type": "markdown",
   "metadata": {},
   "source": [
    "#### 配置样例"
   ]
  },
  {
   "cell_type": "code",
   "execution_count": 11,
   "metadata": {
    "ExecuteTime": {
     "end_time": "2021-01-06T06:21:24.129619Z",
     "start_time": "2021-01-06T06:21:24.116385Z"
    }
   },
   "outputs": [
    {
     "name": "stdout",
     "output_type": "stream",
     "text": [
      "{\n",
      "    \"task\": \"cls.inference.pl\",\n",
      "    \"cfg\": {\n",
      "        \"data\": {\n",
      "            \"class_name\": \"raceai.data.process.Base64DataLoader\",\n",
      "            \"params\": {\n",
      "                \"data_source\": \"iVBORw0KGgoAAAANSUhEUgAAABwAAAAcCAYAAAByDd+UAAAByUlEQVRIS+3Vv6uBURgH8O/LZDAwmZUyKCmjVWLBZpSB/0DEYlAszCZl8lsWJYVJKUUiUkIMMigZKHJv7ym3Kzev972O5d4zvuftfM7znOc5hwHwgTcO5h/8KdtarZZ8lslkWCwWmM1mTx+KoJT2ej2sViuCbLdbuN1uHI/Hp1BB4GazQTgcRjKZRLFYhNPp/NoAlyoIrNfrsFqt2O/3CAQCqFQq6Ha7XBaZFwSWy2UCsoMFJ5MJcrnc+8BWq4VGo/E+MJ1OYzqd0gdLpRJUKhXMZjOWyyU9cLfbYT6fQ6lUwu/3I5FI4HQ60QOr1SpcLheJLBKJQKfT0Y3wWqVisRjBYBA+nw8SiYRehN/bglVGoxHG4zHsdjsnyrsPRSIR2GK59uFVaDabJMWHw+EhyhtUq9WIRqN34HA4RCgUQjabfS1YKBRIRTocjpuFLRYLpFIpMpnMa8H1eg2v14tUKnWzsNFohFwupwMqFIq7KGKxGNrtNh0wHo/fgR6PBzabDf1+/3UpNZlMYM+QvVnYajUYDDifz6jVahgMBpwFw/t50uv15FbJ5/NgGAYajQaXywWdTofui8/Z3Q9+4N2Hv8F4p/S32N8APwFqxN8BKXJdkQAAAABJRU5ErkJggg==\",\n",
      "                \"dataset\": {\n",
      "                    \"class_name\": \"raceai.data.PredictListImageDataset\",\n",
      "                     \"params\": {\n",
      "                         \"input_size\": 28,\n",
      "                         \"mean\": [0.1362, 0.1362, 0.1362],\n",
      "                         \"std\": [0.2893, 0.2893, 0.2893]\n",
      "                     }\n",
      "                 },\n",
      "                \"sample\": {\n",
      "                    \"batch_size\": 32,\n",
      "                    \"num_workers\": 4,\n",
      "                }\n",
      "             }\n",
      "        },\n",
      "        \"model\": {\n",
      "            \"class_name\": f\"raceai.models.backbone.Resnet18\",  \n",
      "            \"params\": {\n",
      "                \"device\": 'gpu',\n",
      "                \"num_classes\": 26,\n",
      "                \"weights\": false\n",
      "            }\n",
      "        },\n",
      "        \"trainer\": {\n",
      "            \"default_root_dir\": \"/raceai/data/tmp/pl_resnet18\",\n",
      "            \"gpus\": 1,\n",
      "            \"resume_from_checkpoint\": \"/raceai/data/ckpts/letters/pl_resnet18_rotation.pth\"\n",
      "        }\n",
      "    }\n",
      "}\n"
     ]
    }
   ],
   "source": [
    "b4str = img2b64(random.choice(image_list))\n",
    "# b4str = img2b64('/data/image.png')\n",
    "reqdata = '''{\n",
    "    \"task\": \"cls.inference.pl\",\n",
    "    \"cfg\": {\n",
    "        \"data\": {\n",
    "            \"class_name\": \"raceai.data.process.Base64DataLoader\",\n",
    "            \"params\": {\n",
    "                \"data_source\": \"%s\",\n",
    "                \"dataset\": {\n",
    "                    \"class_name\": \"raceai.data.PredictListImageDataset\",\n",
    "                     \"params\": {\n",
    "                         \"input_size\": 28,\n",
    "                         \"mean\": [0.1362, 0.1362, 0.1362],\n",
    "                         \"std\": [0.2893, 0.2893, 0.2893]\n",
    "                     }\n",
    "                 },\n",
    "                \"sample\": {\n",
    "                    \"batch_size\": 32,\n",
    "                    \"num_workers\": 4,\n",
    "                }\n",
    "             }\n",
    "        },\n",
    "        \"model\": {\n",
    "            \"class_name\": f\"raceai.models.backbone.Resnet18\",  \n",
    "            \"params\": {\n",
    "                \"device\": 'gpu',\n",
    "                \"num_classes\": 26,\n",
    "                \"weights\": False\n",
    "            }\n",
    "        },\n",
    "        \"trainer\": {\n",
    "            \"default_root_dir\": \"/raceai/data/tmp/pl_resnet18\",\n",
    "            \"gpus\": 1,\n",
    "            \"resume_from_checkpoint\": \"/raceai/data/ckpts/letters/pl_resnet18_rotation.pth\"\n",
    "        }\n",
    "    }\n",
    "}''' % b4str\n",
    "\n",
    "\n",
    "print(reqdata.replace('False', 'false').replace('True', 'true'))"
   ]
  },
  {
   "cell_type": "markdown",
   "metadata": {},
   "source": [
    "### 接口请求/响应\n",
    "\n",
    "![](/files/assets/images/emnist_letters.png)"
   ]
  },
  {
   "cell_type": "code",
   "execution_count": 12,
   "metadata": {
    "ExecuteTime": {
     "end_time": "2021-01-06T06:21:32.481800Z",
     "start_time": "2021-01-06T06:21:24.132631Z"
    }
   },
   "outputs": [
    {
     "data": {
      "text/plain": [
       "{'errno': 0,\n",
       " 'result': [{'image_id': '-1',\n",
       "   'image_path': '/tmp/b4img_1609914084.png',\n",
       "   'probs': [3.369447654222313e-07,\n",
       "    0.9995549321174622,\n",
       "    8.612280453235144e-07,\n",
       "    5.9320864238543436e-05,\n",
       "    1.1153422292409232e-06,\n",
       "    4.3539944272197317e-07,\n",
       "    0.0001561387616675347,\n",
       "    2.597820639493875e-06,\n",
       "    8.710812693379921e-08,\n",
       "    3.320046459975856e-08,\n",
       "    3.8902084043002105e-07,\n",
       "    0.0001731865486362949,\n",
       "    4.467546610431583e-10,\n",
       "    1.5228943661682592e-09,\n",
       "    2.6077306756633334e-05,\n",
       "    1.5854728189879097e-05,\n",
       "    2.860735776266665e-06,\n",
       "    8.101888937517288e-08,\n",
       "    3.1698057227913523e-06,\n",
       "    1.245343383970976e-07,\n",
       "    1.3112262422509957e-06,\n",
       "    1.7948480035556713e-07,\n",
       "    4.832198783333297e-07,\n",
       "    1.1702612567887627e-07,\n",
       "    2.2802138843758257e-08,\n",
       "    2.978565021294344e-07],\n",
       "   'probs_sorted': {'indices': [1,\n",
       "     11,\n",
       "     6,\n",
       "     3,\n",
       "     14,\n",
       "     15,\n",
       "     18,\n",
       "     16,\n",
       "     7,\n",
       "     20,\n",
       "     4,\n",
       "     2,\n",
       "     22,\n",
       "     5,\n",
       "     10,\n",
       "     0,\n",
       "     25,\n",
       "     21,\n",
       "     19,\n",
       "     23,\n",
       "     8,\n",
       "     17,\n",
       "     9,\n",
       "     24,\n",
       "     13,\n",
       "     12],\n",
       "    'values': [0.9995549321174622,\n",
       "     0.0001731865486362949,\n",
       "     0.0001561387616675347,\n",
       "     5.9320864238543436e-05,\n",
       "     2.6077306756633334e-05,\n",
       "     1.5854728189879097e-05,\n",
       "     3.1698057227913523e-06,\n",
       "     2.860735776266665e-06,\n",
       "     2.597820639493875e-06,\n",
       "     1.3112262422509957e-06,\n",
       "     1.1153422292409232e-06,\n",
       "     8.612280453235144e-07,\n",
       "     4.832198783333297e-07,\n",
       "     4.3539944272197317e-07,\n",
       "     3.8902084043002105e-07,\n",
       "     3.369447654222313e-07,\n",
       "     2.978565021294344e-07,\n",
       "     1.7948480035556713e-07,\n",
       "     1.245343383970976e-07,\n",
       "     1.1702612567887627e-07,\n",
       "     8.710812693379921e-08,\n",
       "     8.101888937517288e-08,\n",
       "     3.320046459975856e-08,\n",
       "     2.2802138843758257e-08,\n",
       "     1.5228943661682592e-09,\n",
       "     4.467546610431583e-10]}}]}"
      ]
     },
     "execution_count": 12,
     "metadata": {},
     "output_type": "execute_result"
    }
   ],
   "source": [
    "resdata = json.loads(requests.post(url=API_INFERENCE, json=eval(reqdata)).text)\n",
    "resdata "
   ]
  }
 ],
 "metadata": {
  "kernelspec": {
   "display_name": "Python 3",
   "language": "python",
   "name": "python3"
  },
  "language_info": {
   "codemirror_mode": {
    "name": "ipython",
    "version": 3
   },
   "file_extension": ".py",
   "mimetype": "text/x-python",
   "name": "python",
   "nbconvert_exporter": "python",
   "pygments_lexer": "ipython3",
   "version": "3.6.9"
  },
  "toc": {
   "base_numbering": 1,
   "nav_menu": {},
   "number_sections": true,
   "sideBar": true,
   "skip_h1_title": true,
   "title_cell": "",
   "title_sidebar": "Contents",
   "toc_cell": false,
   "toc_position": {
    "height": "calc(100% - 180px)",
    "left": "10px",
    "top": "150px",
    "width": "349.091px"
   },
   "toc_section_display": true,
   "toc_window_display": false
  }
 },
 "nbformat": 4,
 "nbformat_minor": 4
}
