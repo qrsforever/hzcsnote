{
 "cells": [
  {
   "cell_type": "code",
   "execution_count": 31,
   "metadata": {
    "ExecuteTime": {
     "end_time": "2021-06-17T06:34:06.666424Z",
     "start_time": "2021-06-17T06:34:05.709902Z"
    }
   },
   "outputs": [
    {
     "name": "stdout",
     "output_type": "stream",
     "text": [
      "CPython 3.6.9\n",
      "IPython 7.16.1\n",
      "\n",
      "numpy 1.19.4\n",
      "sklearn 0.24.0\n",
      "pandas 1.1.5\n",
      "CPython 3.6.9\n",
      "IPython 7.16.1\n",
      "\n",
      "cv2 4.5.1\n",
      "PIL 6.2.2\n",
      "matplotlib 3.3.3\n",
      "CPython 3.6.9\n",
      "IPython 7.16.1\n",
      "\n",
      "torch 1.8.0.dev20210103+cu101\n",
      "torchvision 0.9.0.dev20210103+cu101\n",
      "torchaudio not installed\n"
     ]
    },
    {
     "data": {
      "text/html": [
       "<style>.container { width:90% !important; }</style>"
      ],
      "text/plain": [
       "<IPython.core.display.HTML object>"
      ]
     },
     "metadata": {},
     "output_type": "display_data"
    }
   ],
   "source": [
    "%reload_ext watermark\n",
    "%reload_ext autoreload\n",
    "%autoreload 2\n",
    "%watermark -v -p numpy,sklearn,pandas\n",
    "%watermark -v -p cv2,PIL,matplotlib\n",
    "%watermark -v -p torch,torchvision,torchaudio\n",
    "%matplotlib inline\n",
    "# %config InlineBackend.figure_format='retina'\n",
    "# %config IPCompleter.use_jedi = False\n",
    "\n",
    "from IPython.display import display, HTML, Javascript\n",
    "display(HTML('<style>.container { width:%d%% !important; }</style>' % 90))\n",
    "\n",
    "def _IMPORT_(x):\n",
    "    try:\n",
    "        exec(x, globals())\n",
    "    except:\n",
    "        pass\n"
   ]
  },
  {
   "cell_type": "code",
   "execution_count": 32,
   "metadata": {
    "ExecuteTime": {
     "end_time": "2021-06-17T06:34:08.125962Z",
     "start_time": "2021-06-17T06:34:07.607815Z"
    }
   },
   "outputs": [],
   "source": [
    "###\n",
    "### Common ###\n",
    "###\n",
    "\n",
    "import sys, os, io, time, random, math\n",
    "import json, base64, requests\n",
    "import os.path as osp\n",
    "\n",
    "_IMPORT_('import numpy as np')\n",
    "_IMPORT_('import pandas as pd')\n",
    "_IMPORT_('from tqdm.notebook import tqdm')\n",
    "\n",
    "def print_progress_bar(x):\n",
    "    print('\\r', end='')\n",
    "    print('Progress: {}%:'.format(x), '%s%s' % ('▋'*(x//2), '.'*((100-x)//2)), end='')\n",
    "    sys.stdout.flush()\n",
    "\n",
    "\n",
    "###\n",
    "### Display ###\n",
    "###\n",
    "\n",
    "_IMPORT_('import cv2')\n",
    "_IMPORT_('from PIL import Image')\n",
    "_IMPORT_('from torchvision.utils import make_grid')\n",
    "_IMPORT_('import matplotlib.pyplot as plt')\n",
    "_IMPORT_('import plotly')\n",
    "_IMPORT_('import plotly.graph_objects as go')\n",
    "\n",
    "# plotly.offline.init_notebook_mode(connected=False)\n",
    "\n",
    "plt.rcParams['figure.figsize'] = (12.0, 8.0)\n",
    "\n",
    "def show_video(video_path, width=None, height=None):\n",
    "    W, H = '', ''\n",
    "    if width:\n",
    "        W = 'width=%d' % width\n",
    "    if height:\n",
    "        H = 'height=%d' % height\n",
    "    if video_path.startswith('http'):\n",
    "        data_url = video_path\n",
    "    else:\n",
    "        mp4 = open(video_path, 'rb').read()\n",
    "        data_url = 'data:video/mp4;base64,' + base64.b64encode(mp4).decode()\n",
    "    return HTML('<video %s %s controls src=\"%s\" type=\"video/mp4\"/>' % (W, H, data_url))\n",
    "\n",
    "def show_image(image_path, width=None, height=None):\n",
    "    if isinstance(image_path, np.ndarray):\n",
    "        img = image_path\n",
    "        if width or height:\n",
    "            if width and height:\n",
    "                size = (width, height)\n",
    "            else:\n",
    "                rate = img.shape[1] / img.shape[0]\n",
    "                if width:\n",
    "                    size = (width, int(width/rate))\n",
    "                else:\n",
    "                    size = (int(height*rate), height)\n",
    "            img = cv2.resize(img, size)\n",
    "            plt.figure(figsize=(3*int(size[0]/80+1), 3*int(size[1]/80+1)), dpi=80)\n",
    "        plt.axis('off')\n",
    "        if len(img.shape) > 2:\n",
    "            plt.imshow(img);\n",
    "        else:\n",
    "            plt.imshow(img, cmap='gray');\n",
    "        return\n",
    "\n",
    "    W, H = '', ''\n",
    "    if width:\n",
    "        W = 'width=%d' % width\n",
    "    if height:\n",
    "        H = 'height=%d' % height\n",
    "    if image_path.startswith('http'):\n",
    "        data_url = image_path\n",
    "    else:\n",
    "        img = open(image_path, 'rb').read()\n",
    "        data_url = 'data:image/jpg;base64,' + base64.b64encode(img).decode()\n",
    "    return HTML('<img %s %s src=\"%s\"/>' % (W, H, data_url))\n",
    "\n",
    "def im_read(url, rgb=True, size=None):\n",
    "    response = requests.get(url)\n",
    "    if response:\n",
    "        imgmat = np.frombuffer(response.content, dtype=np.uint8)\n",
    "        img = cv2.imdecode(imgmat, cv2.IMREAD_COLOR)\n",
    "        if rgb:\n",
    "            img = cv2.cvtColor(img, cv2.COLOR_BGR2RGB)\n",
    "        if size:\n",
    "           if isinstance(size, int):\n",
    "               size = (size, size)\n",
    "           img = cv2.resize(img, size)\n",
    "        return img\n",
    "    return None\n"
   ]
  },
  {
   "cell_type": "code",
   "execution_count": 33,
   "metadata": {
    "ExecuteTime": {
     "end_time": "2021-06-17T06:34:11.062904Z",
     "start_time": "2021-06-17T06:34:10.592564Z"
    }
   },
   "outputs": [],
   "source": [
    "import os\n",
    "import csv\n",
    "import json\n",
    "import urllib\n",
    "import requests\n",
    "import random\n",
    "import base64\n",
    "\n",
    "from pprint import pprint\n",
    "from random import sample\n",
    "from urllib.request import urlretrieve\n",
    "from k12libs.utils.nb_easy import k12ai_get_top_dir, RACEURL\n",
    "from k12libs.utils.nb_easy import K12AI_DATASETS_ROOT\n",
    "from IPython.display import display, HTML"
   ]
  },
  {
   "cell_type": "code",
   "execution_count": 34,
   "metadata": {
    "ExecuteTime": {
     "end_time": "2021-06-17T06:34:11.773243Z",
     "start_time": "2021-06-17T06:34:11.308257Z"
    }
   },
   "outputs": [],
   "source": [
    "API_INFERENCE = f'{RACEURL}/raceai/framework/inference'\n",
    "def img2b64(path):\n",
    "    with open(path, 'rb') as fr:\n",
    "        b4data = base64.b64encode(fr.read()).decode()\n",
    "    return b4data"
   ]
  },
  {
   "cell_type": "markdown",
   "metadata": {},
   "source": [
    "## Base64 Input:\n",
    "\n",
    "```json\n",
    "{\n",
    "    \"task\": \"plate_color.inference\",\n",
    "    \"cfg\": {\n",
    "        \"data\": {\n",
    "            \"class_name\": \"raceai.data.process.Base64DataLoader\",\n",
    "            \"params\": {\n",
    "                \"data_source\": \"b64str\",\n",
    "                \"dataset\": {\n",
    "                    \"class_name\": \"raceai.data.RawRaceDataset\",\n",
    "                    \"params\": {}\n",
    "                 }\n",
    "             }\n",
    "        },\n",
    "        \"model\": {\n",
    "           \"class_name\": \"raceai.models.xfeatures.PlateColorFeatures\",  \n",
    "           \"params\": {\n",
    "               \"ellsize\": 15,\n",
    "               \"iterations\": 3,\n",
    "               \"edge_thickness\": 30\n",
    "           }\n",
    "       }\n",
    "    }\n",
    "}\n",
    "```\n",
    "\n",
    "\n",
    "## List Path Input:\n",
    "\n",
    "```json\n",
    "{\n",
    "    \"task\": \"plate_color.inference\",\n",
    "    \"cfg\": {\n",
    "        \"data\": {\n",
    "            \"class_name\": \"raceai.data.process.PathListDataLoader\",\n",
    "            \"params\": {\n",
    "                \"data_source\": [{\"image_id\": 1, \"image_path\": \"https://raceai.s3.didiyunapi.com/data/datasets/cv/dining_plate/blue.png\"}],\n",
    "                \"dataset\": {\n",
    "                    \"class_name\": \"raceai.data.PredictListImageRaw\",\n",
    "                    \"params\": {}\n",
    "                 }\n",
    "             }\n",
    "        },\n",
    "        \"model\": {\n",
    "           \"class_name\": \"raceai.models.xfeatures.PlateColorFeatures\",  \n",
    "           \"params\": {\n",
    "               \"ellsize\": 15,\n",
    "               \"iterations\": 3,\n",
    "               \"edge_thickness\": 30\n",
    "           }\n",
    "       }\n",
    "    }\n",
    "}\n",
    "```"
   ]
  },
  {
   "cell_type": "code",
   "execution_count": 35,
   "metadata": {
    "ExecuteTime": {
     "end_time": "2021-06-17T06:34:14.905476Z",
     "start_time": "2021-06-17T06:34:14.429972Z"
    },
    "scrolled": false
   },
   "outputs": [
    {
     "name": "stdout",
     "output_type": "stream",
     "text": [
      "{\n",
      "    \"task\": \"plate_color.inference\",\n",
      "    \"cfg\": {\n",
      "        \"data\": {\n",
      "            \"class_name\": \"raceai.data.process.PathListDataLoader\",\n",
      "            \"params\": {\n",
      "                \"data_source\": [{\"image_id\": 1, \"image_path\": \"https://raceai.s3.didiyunapi.com/data/datasets/cv/dining_plate/blue.png\"}],\n",
      "                \"dataset\": {\n",
      "                    \"class_name\": \"raceai.data.PredictListImageRaw\",\n",
      "                    \"params\": {}\n",
      "                 }\n",
      "             }\n",
      "        },\n",
      "        \"model\": {\n",
      "           \"class_name\": \"raceai.models.xfeatures.PlateColorFeatures\",  \n",
      "           \"params\": {\n",
      "               \"ellsize\": 15,\n",
      "               \"iterations\": 3,\n",
      "               \"edge_thickness\": 30\n",
      "           }\n",
      "       }\n",
      "    }\n",
      "}\n"
     ]
    }
   ],
   "source": [
    "reqdata = '''{\n",
    "    \"task\": \"plate_color.inference\",\n",
    "    \"cfg\": {\n",
    "        \"data\": {\n",
    "            \"class_name\": \"raceai.data.process.PathListDataLoader\",\n",
    "            \"params\": {\n",
    "                \"data_source\": [{\"image_id\": 1, \"image_path\": \"https://raceai.s3.didiyunapi.com/data/datasets/cv/dining_plate/blue.png\"}],\n",
    "                \"dataset\": {\n",
    "                    \"class_name\": \"raceai.data.PredictListImageRaw\",\n",
    "                    \"params\": {}\n",
    "                 }\n",
    "             }\n",
    "        },\n",
    "        \"model\": {\n",
    "           \"class_name\": \"raceai.models.xfeatures.PlateColorFeatures\",  \n",
    "           \"params\": {\n",
    "               \"ellsize\": 15,\n",
    "               \"iterations\": 3,\n",
    "               \"edge_thickness\": 30\n",
    "           }\n",
    "       }\n",
    "    }\n",
    "}'''\n",
    "# }''' % (img2b64('/data/nb_data/cv/plate_color/blue.png'))\n",
    "\n",
    "print(reqdata)"
   ]
  },
  {
   "cell_type": "markdown",
   "metadata": {},
   "source": [
    "## Output:\n",
    "\n",
    "```\n",
    "\n",
    "colors_names = ['black', 'gray', 'white', 'red', 'orange', 'yellow', 'green', 'cyan', 'blue', 'purple']\n",
    "\n",
    "\n",
    "{\n",
    "    \"errno\": 0,\n",
    "    \"result\": [\n",
    "        {\n",
    "            \"argmax\": 8,                // 颜色数组的的下标, 8:blue\n",
    "            \"image_id\": 1,              // 传递过来的图标id\n",
    "            \"image_path\": \"/tmp/tmpnfjfhwdh/blue.png\",  // 本地调试使用\n",
    "            \"probs\": [                                  // 概率数组, 概率最大的下标就是最终答案.\n",
    "                0.0023584905660377358,\n",
    "                0.0,\n",
    "                0.030660377358490566,\n",
    "                0.0,\n",
    "                0.0,\n",
    "                0.0,\n",
    "                0.0,\n",
    "                0.0,\n",
    "                0.9669811320754716,\n",
    "                0.0\n",
    "            ]\n",
    "        }\n",
    "    ]\n",
    "}\n",
    "```"
   ]
  },
  {
   "cell_type": "code",
   "execution_count": 37,
   "metadata": {
    "ExecuteTime": {
     "end_time": "2021-06-17T06:34:25.204867Z",
     "start_time": "2021-06-17T06:34:24.398208Z"
    },
    "scrolled": false
   },
   "outputs": [
    {
     "name": "stdout",
     "output_type": "stream",
     "text": [
      "{\n",
      "    \"errno\": 0,\n",
      "    \"result\": [\n",
      "        {\n",
      "            \"argmax\": 8,\n",
      "            \"image_id\": 1,\n",
      "            \"image_path\": \"/tmp/tmpbs4_xivk/blue.png\",\n",
      "            \"probs\": [\n",
      "                0.0023584905660377358,\n",
      "                0.0,\n",
      "                0.030660377358490566,\n",
      "                0.0,\n",
      "                0.0,\n",
      "                0.0,\n",
      "                0.0,\n",
      "                0.0,\n",
      "                0.9669811320754716,\n",
      "                0.0\n",
      "            ]\n",
      "        }\n",
      "    ]\n",
      "}\n"
     ]
    }
   ],
   "source": [
    "cfg = eval(reqdata)\n",
    "resdata = json.loads(requests.post(url=API_INFERENCE, json=cfg).text)\n",
    "print(json.dumps(resdata, indent=4))"
   ]
  }
 ],
 "metadata": {
  "hide_input": false,
  "kernelspec": {
   "display_name": "Python 3",
   "language": "python",
   "name": "python3"
  },
  "language_info": {
   "codemirror_mode": {
    "name": "ipython",
    "version": 3
   },
   "file_extension": ".py",
   "mimetype": "text/x-python",
   "name": "python",
   "nbconvert_exporter": "python",
   "pygments_lexer": "ipython3",
   "version": "3.6.9"
  },
  "toc": {
   "base_numbering": 1,
   "nav_menu": {},
   "number_sections": true,
   "sideBar": true,
   "skip_h1_title": true,
   "title_cell": "",
   "title_sidebar": "Contents",
   "toc_cell": false,
   "toc_position": {
    "height": "calc(100% - 180px)",
    "left": "10px",
    "top": "150px",
    "width": "307.2px"
   },
   "toc_section_display": true,
   "toc_window_display": false
  }
 },
 "nbformat": 4,
 "nbformat_minor": 4
}
