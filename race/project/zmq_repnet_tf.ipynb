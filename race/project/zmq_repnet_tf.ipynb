{
 "cells": [
  {
   "cell_type": "code",
   "execution_count": 1,
   "id": "rational-finder",
   "metadata": {
    "ExecuteTime": {
     "end_time": "2021-05-27T06:39:03.818433Z",
     "start_time": "2021-05-27T06:39:00.991886Z"
    }
   },
   "outputs": [
    {
     "name": "stdout",
     "output_type": "stream",
     "text": [
      "CPython 3.6.9\n",
      "IPython 7.16.1\n",
      "\n",
      "numpy 1.18.5\n",
      "sklearn 0.24.0\n",
      "pandas 1.1.5\n",
      "CPython 3.6.9\n",
      "IPython 7.16.1\n",
      "\n",
      "cv2 4.5.1\n",
      "PIL 6.2.2\n",
      "matplotlib 3.3.3\n",
      "CPython 3.6.9\n",
      "IPython 7.16.1\n",
      "\n",
      "torch 1.8.0.dev20210103+cu101\n",
      "torchvision 0.9.0.dev20210103+cu101\n",
      "torchaudio not installed\n",
      "pytorch_lightning 1.2.0\n"
     ]
    },
    {
     "data": {
      "text/html": [
       "<style>.container { width:90% !important; }</style>"
      ],
      "text/plain": [
       "<IPython.core.display.HTML object>"
      ]
     },
     "metadata": {},
     "output_type": "display_data"
    }
   ],
   "source": [
    "%reload_ext watermark\n",
    "%reload_ext autoreload\n",
    "%autoreload 2\n",
    "%watermark -v -p numpy,sklearn,pandas\n",
    "%watermark -v -p cv2,PIL,matplotlib\n",
    "%watermark -v -p torch,torchvision,torchaudio,pytorch_lightning\n",
    "%matplotlib inline\n",
    "%config InlineBackend.figure_format='retina'\n",
    "%config IPCompleter.use_jedi = False\n",
    "\n",
    "from IPython.display import display, HTML, Javascript\n",
    "display(HTML('<style>.container { width:%d%% !important; }</style>' % 90))\n",
    "\n",
    "def _IMPORT_(x):\n",
    "    try:\n",
    "        exec(x, globals())\n",
    "    except:\n",
    "        pass\n"
   ]
  },
  {
   "cell_type": "code",
   "execution_count": 9,
   "id": "close-demonstration",
   "metadata": {
    "ExecuteTime": {
     "end_time": "2021-05-27T06:42:07.309830Z",
     "start_time": "2021-05-27T06:42:07.235516Z"
    }
   },
   "outputs": [],
   "source": [
    "###\n",
    "### Common ###\n",
    "###\n",
    "\n",
    "import os, io, time, random, math, base64\n",
    "import json, requests, sys\n",
    "\n",
    "_IMPORT_('import numpy as np')\n",
    "_IMPORT_('import pandas as pd')\n",
    "_IMPORT_('from tqdm.notebook import tqdm')\n",
    "\n",
    "###\n",
    "### Torch ###\n",
    "###\n",
    "\n",
    "_IMPORT_('import torch')\n",
    "_IMPORT_('import torch.nn as nn')\n",
    "_IMPORT_('import torch.nn.functional as F')\n",
    "_IMPORT_('import torch.optim as O')\n",
    "_IMPORT_('from torchvision import models as M')\n",
    "_IMPORT_('from torchvision import transforms as T')\n",
    "_IMPORT_('from torch.utils.data import Dataset, DataLoader')\n",
    "\n",
    "###\n",
    "### Display ###\n",
    "###\n",
    "\n",
    "_IMPORT_('import cv2')\n",
    "_IMPORT_('from PIL import Image')\n",
    "_IMPORT_('from torchvision.utils import make_grid')\n",
    "_IMPORT_('import matplotlib.pyplot as plt')\n",
    "_IMPORT_('import plotly')\n",
    "_IMPORT_('import plotly.graph_objects as go')\n",
    "\n",
    "# plotly.offline.init_notebook_mode(connected=False)\n",
    "\n",
    "def show_video(video_path, width=None, height=None):\n",
    "    W, H = '', ''\n",
    "    if width:\n",
    "        W = 'width=%d' % width\n",
    "    if height:\n",
    "        H = 'height=%d' % height\n",
    "    mp4 = open(video_path, 'rb').read()\n",
    "    data_url = 'data:video/mp4;base64,' + base64.b64encode(mp4).decode()\n",
    "    return HTML('<video %s %s controls src=\"%s\" type=\"video/mp4\"/>' % (W, H, data_url))\n",
    "\n",
    "def show_image(image_path, width=None, height=None):\n",
    "    W, H = '', ''\n",
    "    if width:\n",
    "        W = 'width=%d' % width\n",
    "    if height:\n",
    "        H = 'height=%d' % height\n",
    "    img = open(image_path, 'rb').read()\n",
    "    data_url = 'data:image/jpg;base64,' + base64.b64encode(img).decode()\n",
    "    return HTML('<img %s %s src=\"%s\"/>' % (W, H, data_url))\n",
    "\n",
    "from k12libs.utils.nb_easy import RACEURL"
   ]
  },
  {
   "cell_type": "code",
   "execution_count": 3,
   "id": "cooked-ministry",
   "metadata": {
    "ExecuteTime": {
     "end_time": "2021-05-27T06:39:04.657664Z",
     "start_time": "2021-05-27T06:39:04.590961Z"
    }
   },
   "outputs": [
    {
     "data": {
      "text/plain": [
       "('http://116.85.5.40:9119/raceai/framework/inference',\n",
       " 'http://116.85.5.40:9119/raceai/private/popmsg')"
      ]
     },
     "execution_count": 3,
     "metadata": {},
     "output_type": "execute_result"
    }
   ],
   "source": [
    "API_INFERENCE = f'{RACEURL}/raceai/framework/inference'\n",
    "API_POPMSG = f'{RACEURL}/raceai/private/popmsg'\n",
    "MODEL_TASK = 'zmq.repnet_tf.inference'\n",
    "MSGKEY = 'zmq.repnet_tf.test'\n",
    "TEST_VIDEO = 'https://raceai.s3.didiyunapi.com/data/media/videos/repnet_test.mp4'\n",
    "API_INFERENCE, API_POPMSG "
   ]
  },
  {
   "cell_type": "markdown",
   "id": "bizarre-accountability",
   "metadata": {},
   "source": [
    "## 接口测试"
   ]
  },
  {
   "cell_type": "markdown",
   "id": "australian-wright",
   "metadata": {},
   "source": [
    "### 输入\n",
    "\n",
    "```json\n",
    "\n",
    "{\n",
    "    \"task\": \"zmq.repnet_tf.inference\",  // 任务类型, 不可修改\n",
    "    \"cfg\": {\n",
    "        \"pigeon\": {  // 信鸽, 由服务器自行添加字段, 异步数据输出时会携带这些数据返回, 其中\"msgkey\", \"user_code\"必须有\n",
    "            \"msgkey\": \"zmq.repnet_tf.test\",  // 异步数据Redis消息队列key\n",
    "            \"user_code\": \"123\", // 任务由谁触发\n",
    "        },\n",
    "        \"video\": \"https://raceai.s3.didiyunapi.com/data/media/videos/repnet_test.mp4\", // 视频地址\n",
    "        \"save_video\": True,   // 是否保存处理后的视频 (开启后, 速度非常慢)\n",
    "        \"batch_size\": 20,     // batch_size\n",
    "        \"threshold\": 0.2,     // 模型预测分数阀值\n",
    "        \"in_threshold\": 0.5,  // 模型预测帧是否在周期内的阀值\n",
    "        \"strides\": [1, 2, 3, 4],     // 送入模型的帧跳跃步长, 1表示逐个帧, 2表示跳跃一帧..., 模型会自行选择步长最合适的\n",
    "        \"constant_speed\": False,     // 视频周期运动速度是否常数\n",
    "        \"median_filter\": True,       // 是否对周期检测做中值滤波\n",
    "        \"fully_periodic\": False      // 周期检测是否使用全周期(所有帧), 而不是由in_threshold指定的阀值过滤\n",
    "    }\n",
    "}\n",
    "```"
   ]
  },
  {
   "cell_type": "code",
   "execution_count": 11,
   "id": "adolescent-campaign",
   "metadata": {
    "ExecuteTime": {
     "end_time": "2021-05-27T06:47:51.210348Z",
     "start_time": "2021-05-27T06:47:51.150541Z"
    }
   },
   "outputs": [
    {
     "name": "stdout",
     "output_type": "stream",
     "text": [
      "Input:\n",
      "\n",
      " {\n",
      "    \"task\": \"zmq.repnet_tf.inference\",\n",
      "    \"cfg\": {\n",
      "        \"pigeon\": {\n",
      "            \"msgkey\": \"zmq.repnet_tf.test\",\n",
      "            \"user_code\": \"123\",\n",
      "        },\n",
      "        \"video\": \"https://raceai.s3.didiyunapi.com/data/media/videos/repnet_test.mp4\",\n",
      "        \"batch_size\": 20,\n",
      "        \"save_video\": True,\n",
      "        \"threshold\": 0.2,\n",
      "        \"in_threshold\": 0.5,\n",
      "        \"strides\": [1, 2, 3, 4],\n",
      "        \"constant_speed\": False,\n",
      "        \"median_filter\": True,\n",
      "        \"fully_periodic\": False\n",
      "    }\n",
      "}\n"
     ]
    }
   ],
   "source": [
    "cfgdata = '''{\n",
    "    \"task\": \"%s\",\n",
    "    \"cfg\": {\n",
    "        \"pigeon\": {\n",
    "            \"msgkey\": \"%s\",\n",
    "            \"user_code\": \"123\",\n",
    "        },\n",
    "        \"video\": \"%s\",\n",
    "        \"save_video\": True,\n",
    "        \"batch_size\": 20,\n",
    "        \"threshold\": 0.2,\n",
    "        \"in_threshold\": 0.5,\n",
    "        \"strides\": [1, 2, 3, 4],\n",
    "        \"constant_speed\": False,\n",
    "        \"median_filter\": True,\n",
    "        \"fully_periodic\": False\n",
    "    }\n",
    "}''' % (MODEL_TASK, MSGKEY, TEST_VIDEO)\n",
    "\n",
    "print(\"Input:\\n\\n\", cfgdata)"
   ]
  },
  {
   "cell_type": "markdown",
   "id": "broken-graphic",
   "metadata": {},
   "source": [
    "### 输出\n",
    "\n",
    "```json\n",
    " {\n",
    "    \"pigeon\": {\n",
    "        \"msgkey\": \"zmq.repnet_tf.test\",\n",
    "        \"user_code\": \"123\"\n",
    "    },\n",
    "    \"task\": \"zmq.repnet_tf.inference\",\n",
    "    \"errno\": 0,\n",
    "    \"progress\": 100.0,\n",
    "    \"target_mp4\": \"https://raceai.s3.didiyunapi.com/outputs/123/repnet_tf-target_40.mp4\",\n",
    "    \"target_json\": \"https://raceai.s3.didiyunapi.com/outputs/123/repnet_tf-results.json\"\n",
    "}\n",
    "```"
   ]
  },
  {
   "cell_type": "code",
   "execution_count": 23,
   "id": "danish-atmosphere",
   "metadata": {
    "ExecuteTime": {
     "end_time": "2021-05-27T08:06:52.395093Z",
     "start_time": "2021-05-27T08:06:52.317164Z"
    }
   },
   "outputs": [
    {
     "data": {
      "text/plain": [
       "{'errno': 0}"
      ]
     },
     "execution_count": 23,
     "metadata": {},
     "output_type": "execute_result"
    }
   ],
   "source": [
    "reqdata = eval(cfgdata)\n",
    "json.loads(requests.get(url=f'{API_POPMSG}?key={MSGKEY}').text)\n",
    "json.loads(requests.post(url=API_INFERENCE, json=reqdata).text)"
   ]
  },
  {
   "cell_type": "code",
   "execution_count": 24,
   "id": "alone-review",
   "metadata": {
    "ExecuteTime": {
     "end_time": "2021-05-27T08:10:18.582122Z",
     "start_time": "2021-05-27T08:06:53.755894Z"
    },
    "scrolled": true
   },
   "outputs": [
    {
     "name": "stdout",
     "output_type": "stream",
     "text": [
      "Progress: 100%:  ▋▋▋▋▋▋▋▋▋▋▋▋▋▋▋▋▋▋▋▋▋▋▋▋▋▋▋▋▋▋▋▋▋▋▋▋▋▋▋▋▋▋▋▋▋▋▋▋▋▋\n",
      "Output:\n",
      "\n",
      " {\n",
      "    \"pigeon\": {\n",
      "        \"msgkey\": \"zmq.repnet_tf.test\",\n",
      "        \"user_code\": \"123\"\n",
      "    },\n",
      "    \"task\": \"zmq.repnet_tf.inference\",\n",
      "    \"errno\": 0,\n",
      "    \"progress\": 100.0,\n",
      "    \"target_mp4\": \"https://raceai.s3.didiyunapi.com/outputs/123/repnet_tf-target_40.mp4\",\n",
      "    \"target_json\": \"https://raceai.s3.didiyunapi.com/outputs/123/repnet_tf-results.json\"\n",
      "}\n"
     ]
    }
   ],
   "source": [
    "for _ in range(200):\n",
    "    result = json.loads(requests.get(url=f'{API_POPMSG}?key={MSGKEY}').text)\n",
    "    if len(result) > 0 and 'progress' in result[-1]:\n",
    "        progress = int(result[-1]['progress'])\n",
    "        print(\"\\r\", end=\"\")\n",
    "        print(\"Progress: {}%: \".format(progress), \"▋\" * (progress // 2), end=\"\")\n",
    "        sys.stdout.flush()\n",
    "        if progress >= 100.0:\n",
    "            print('\\nOutput:\\n\\n', json.dumps(result[-1], indent=4))\n",
    "            break\n",
    "    time.sleep(3)"
   ]
  },
  {
   "cell_type": "markdown",
   "id": "overall-pharmaceutical",
   "metadata": {},
   "source": [
    "## JSON结果数据\n",
    "\n",
    "```json\n",
    "{\n",
    "    \"period\": 58.022187843507346,      // 视频周期平均值(帧数)\n",
    "    \"score\": 0.6532081365585327,       // 视频预测的平均分数\n",
    "    \"stride\": 2,                       // 最佳步长\n",
    "    \"fps\": 29.916666666666668,         // 视频帧率\n",
    "    \"num_frames\": 2307,                // 视频帧总数\n",
    "    \"infer_time\": 7.5414674282073975,  // 模型推理用时\n",
    "    \"mkvideo_time\": 88.88              // 处理合成视频用时\n",
    "    \"frames_period\": [                 // 每一帧的周期信息\n",
    "        { \n",
    "            \"image_id\": \"0.jpg\",                         // 第一帧\n",
    "            \"within_period\": 0.29910561442375183,        // 属于周期内的帧的置信度\n",
    "            \"pframe_counts\": 0.0                         // 每一帧所代表周期数量 (小数)\n",
    "        },                                           \n",
    "        {\n",
    "            \"image_id\": \"1.jpg\",                         // 第二帧\n",
    "            \"within_period\": 0.29910561442375183,\n",
    "            \"pframe_counts\": 0.0\n",
    "        },\n",
    "        {\n",
    "            \"image_id\": \"2.jpg\",\n",
    "            \"within_period\": 0.31776148080825806,\n",
    "            \"pframe_counts\": 0.0\n",
    "        },\n",
    "        {\n",
    "            \"image_id\": \"3.jpg\",\n",
    "            \"within_period\": 0.31776148080825806,\n",
    "            \"pframe_counts\": 0.0\n",
    "        },\n",
    "      ....\n",
    "    ]\n",
    "}\n",
    "```"
   ]
  },
  {
   "cell_type": "markdown",
   "id": "united-efficiency",
   "metadata": {},
   "source": [
    "## References"
   ]
  }
 ],
 "metadata": {
  "hide_input": false,
  "kernelspec": {
   "display_name": "Python 3",
   "language": "python",
   "name": "python3"
  },
  "language_info": {
   "codemirror_mode": {
    "name": "ipython",
    "version": 3
   },
   "file_extension": ".py",
   "mimetype": "text/x-python",
   "name": "python",
   "nbconvert_exporter": "python",
   "pygments_lexer": "ipython3",
   "version": "3.6.9"
  },
  "toc": {
   "base_numbering": 1,
   "nav_menu": {},
   "number_sections": true,
   "sideBar": true,
   "skip_h1_title": true,
   "title_cell": "",
   "title_sidebar": "Contents",
   "toc_cell": false,
   "toc_position": {},
   "toc_section_display": true,
   "toc_window_display": false
  }
 },
 "nbformat": 4,
 "nbformat_minor": 5
}
