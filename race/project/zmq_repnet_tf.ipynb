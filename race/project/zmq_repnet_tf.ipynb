{
 "cells": [
  {
   "cell_type": "code",
   "execution_count": 186,
   "id": "rational-finder",
   "metadata": {
    "ExecuteTime": {
     "end_time": "2021-07-15T09:36:04.623879Z",
     "start_time": "2021-07-15T09:36:03.126828Z"
    }
   },
   "outputs": [
    {
     "name": "stdout",
     "output_type": "stream",
     "text": [
      "CPython 3.6.9\n",
      "IPython 7.16.1\n",
      "\n",
      "numpy 1.19.4\n",
      "sklearn 0.24.0\n",
      "pandas 1.1.5\n",
      "CPython 3.6.9\n",
      "IPython 7.16.1\n",
      "\n",
      "cv2 4.5.1\n",
      "PIL 6.2.2\n",
      "matplotlib 3.3.3\n",
      "CPython 3.6.9\n",
      "IPython 7.16.1\n",
      "\n",
      "torch 1.8.0.dev20210103+cu101\n",
      "torchvision 0.9.0.dev20210103+cu101\n",
      "torchaudio not installed\n",
      "pytorch_lightning 1.2.0\n"
     ]
    },
    {
     "data": {
      "text/html": [
       "<style>.container { width:90% !important; }</style>"
      ],
      "text/plain": [
       "<IPython.core.display.HTML object>"
      ]
     },
     "metadata": {},
     "output_type": "display_data"
    }
   ],
   "source": [
    "%reload_ext watermark\n",
    "%reload_ext autoreload\n",
    "%autoreload 2\n",
    "%watermark -v -p numpy,sklearn,pandas\n",
    "%watermark -v -p cv2,PIL,matplotlib\n",
    "%watermark -v -p torch,torchvision,torchaudio,pytorch_lightning\n",
    "%matplotlib inline\n",
    "%config InlineBackend.figure_format='retina'\n",
    "%config IPCompleter.use_jedi = False\n",
    "\n",
    "from IPython.display import display, HTML, Javascript\n",
    "display(HTML('<style>.container { width:%d%% !important; }</style>' % 90))\n",
    "\n",
    "def _IMPORT_(x):\n",
    "    try:\n",
    "        exec(x, globals())\n",
    "    except:\n",
    "        pass\n"
   ]
  },
  {
   "cell_type": "code",
   "execution_count": 187,
   "id": "close-demonstration",
   "metadata": {
    "ExecuteTime": {
     "end_time": "2021-07-15T09:36:05.379668Z",
     "start_time": "2021-07-15T09:36:04.627885Z"
    }
   },
   "outputs": [],
   "source": [
    "###\n",
    "### Common ###\n",
    "###\n",
    "\n",
    "import sys, os, io, time, random, math\n",
    "import json, base64, requests\n",
    "\n",
    "_IMPORT_('import numpy as np')\n",
    "_IMPORT_('import pandas as pd')\n",
    "_IMPORT_('from tqdm.notebook import tqdm')\n",
    "\n",
    "def print_progress_bar(x):\n",
    "    print('\\r', end='')\n",
    "    print('Progress: {}%:'.format(x), '%s%s' % ('▋'*(x//2), '.'*((100-x)//2)), end='')\n",
    "    sys.stdout.flush()\n",
    "\n",
    "\n",
    "###\n",
    "### Torch ###\n",
    "###\n",
    "\n",
    "_IMPORT_('import torch')\n",
    "_IMPORT_('import torch.nn as nn')\n",
    "_IMPORT_('import torch.nn.functional as F')\n",
    "_IMPORT_('import torch.optim as O')\n",
    "_IMPORT_('from torchvision import models as M')\n",
    "_IMPORT_('from torchvision import transforms as T')\n",
    "_IMPORT_('from torch.utils.data import Dataset, DataLoader')\n",
    "\n",
    "###\n",
    "### Display ###\n",
    "###\n",
    "\n",
    "_IMPORT_('import cv2')\n",
    "_IMPORT_('from PIL import Image')\n",
    "_IMPORT_('from torchvision.utils import make_grid')\n",
    "_IMPORT_('import matplotlib.pyplot as plt')\n",
    "_IMPORT_('import plotly')\n",
    "_IMPORT_('import plotly.graph_objects as go')\n",
    "\n",
    "# plotly.offline.init_notebook_mode(connected=False)\n",
    "\n",
    "def show_video(video_path, width=None, height=None):\n",
    "    W, H = '', ''\n",
    "    if width:\n",
    "        W = 'width=%d' % width\n",
    "    if height:\n",
    "        H = 'height=%d' % height\n",
    "    if video_path.startswith('http'):\n",
    "        data_url = video_path\n",
    "    else:\n",
    "        mp4 = open(video_path, 'rb').read()\n",
    "        data_url = 'data:video/mp4;base64,' + base64.b64encode(mp4).decode()\n",
    "    return HTML('<video %s %s controls src=\"%s\" type=\"video/mp4\"/>' % (W, H, data_url))\n",
    "\n",
    "def show_image(image_path, width=None, height=None):\n",
    "    W, H = '', ''\n",
    "    if width:\n",
    "        W = 'width=%d' % width\n",
    "    if height:\n",
    "        H = 'height=%d' % height\n",
    "    if image_path.startswith('http'):\n",
    "        data_url = image_path\n",
    "    else:\n",
    "        img = open(image_path, 'rb').read()\n",
    "        data_url = 'data:image/jpg;base64,' + base64.b64encode(img).decode()\n",
    "    return HTML('<img %s %s src=\"%s\"/>' % (W, H, data_url))\n",
    "\n",
    "from k12libs.utils.nb_easy import RACEURL"
   ]
  },
  {
   "cell_type": "code",
   "execution_count": 188,
   "id": "cooked-ministry",
   "metadata": {
    "ExecuteTime": {
     "end_time": "2021-07-15T09:36:06.114689Z",
     "start_time": "2021-07-15T09:36:05.389109Z"
    }
   },
   "outputs": [
    {
     "data": {
      "text/plain": [
       "('http://116.85.5.40:9119/raceai/framework/inference',\n",
       " 'http://116.85.5.40:9119/raceai/private/popmsg')"
      ]
     },
     "execution_count": 188,
     "metadata": {},
     "output_type": "execute_result"
    }
   ],
   "source": [
    "API_INFERENCE = f'{RACEURL}/raceai/framework/inference'\n",
    "API_POPMSG = f'{RACEURL}/raceai/private/popmsg'\n",
    "MODEL_TASK = 'zmq.repnet_tf.inference'\n",
    "MSGKEY = 'zmq.repnet_tf.test'\n",
    "TEST_SAMPLES = {\n",
    "    'test0': 'https://frepai.s3.didiyunapi.com/live/00e685ef87b4/20210714/videos/20210714162058.mp4',\n",
    "    'test1': 'https://raceai.s3.didiyunapi.com/data/media/videos/repnet_test.mp4',\n",
    "    'test2': 'https://raceai.s3.didiyunapi.com/data/media/videos/repnet/repnet_static_test.mp4',\n",
    "    'test3': 'https://raceai.s3.didiyunapi.com/data/media/videos/repnet/repnet_mix_test.mp4',\n",
    "    'test4': 'https://raceai.s3.didiyunapi.com/data/media/videos/repnet/repnet_mix2_test.mp4',\n",
    "    'test5': 'https://frepai.s3.didiyunapi.com/live/00e685ef87b4/20210713/videos/20210713153417.mp4'\n",
    "}\n",
    "API_INFERENCE, API_POPMSG "
   ]
  },
  {
   "cell_type": "code",
   "execution_count": 189,
   "id": "interesting-investigation",
   "metadata": {
    "ExecuteTime": {
     "end_time": "2021-07-15T09:36:07.031003Z",
     "start_time": "2021-07-15T09:36:06.121354Z"
    }
   },
   "outputs": [
    {
     "data": {
      "text/html": [
       "<video width=500  controls src=\"https://frepai.s3.didiyunapi.com/live/00e685ef87b4/20210713/videos/20210713153417.mp4\" type=\"video/mp4\"/>"
      ],
      "text/plain": [
       "<IPython.core.display.HTML object>"
      ]
     },
     "execution_count": 189,
     "metadata": {},
     "output_type": "execute_result"
    }
   ],
   "source": [
    "show_video(TEST_SAMPLES['test5'], width=500)"
   ]
  },
  {
   "cell_type": "markdown",
   "id": "bizarre-accountability",
   "metadata": {},
   "source": [
    "## 接口测试"
   ]
  },
  {
   "cell_type": "markdown",
   "id": "manufactured-value",
   "metadata": {},
   "source": [
    "### 输入\n",
    "\n",
    "```json\n",
    "\n",
    "{\n",
    "    \"task\": \"zmq.repnet_tf.inference\",  // 任务类型, 不可修改\n",
    "    \"cfg\": {\n",
    "        \"pigeon\": {  // 信鸽, 由服务器自行添加字段, 异步数据输出时会携带这些数据返回, 其中\"msgkey\", \"user_code\"必须有\n",
    "            \"msgkey\": \"zmq.repnet_tf.test\",  // 异步数据Redis消息队列key\n",
    "            \"user_code\": \"123\", // 任务由谁触发\n",
    "        },\n",
    "        \"video\": \"https://raceai.s3.didiyunapi.com/data/media/videos/repnet_test.mp4\", // 视频地址\n",
    "        \"save_video\": True,   // 是否保存处理后的视频 (开启后, 速度非常慢)\n",
    "        \"batch_size\": 20,     // batch_size\n",
    "        \"threshold\": 0.2,     // 模型预测分数阀值\n",
    "        \"in_threshold\": 0.5,  // 模型预测帧是否在周期内的阀值\n",
    "        \"strides\": [1, 2, 3, 4],     // 送入模型的帧跳跃步长, 1表示逐个帧, 2表示跳跃一帧..., 模型会自行选择步长最合适的\n",
    "        \"constant_speed\": False,     // 视频周期运动速度是否常数\n",
    "        \"median_filter\": True,       // 是否对周期检测做中值滤波\n",
    "        \"fully_periodic\": False,     // 周期检测是否使用全周期(所有帧), 而不是由in_threshold指定的阀值过滤\n",
    "        \"rm_still\": False,           // 是否剔除掉静态帧\n",
    "        \"area_rate_threshold\": 0.003,// 当rm_still为True时, 当前后两针变化像素小于图片面积的area_rate_threshold, 认为是静态的\n",
    "        \"best_stride_video\": False   // 是否保存模型使用的最好的stride的视频帧\n",
    "    }\n",
    "}\n",
    "```"
   ]
  },
  {
   "cell_type": "code",
   "execution_count": 190,
   "id": "adolescent-campaign",
   "metadata": {
    "ExecuteTime": {
     "end_time": "2021-07-15T09:36:08.036845Z",
     "start_time": "2021-07-15T09:36:07.033746Z"
    }
   },
   "outputs": [
    {
     "name": "stdout",
     "output_type": "stream",
     "text": [
      "Input:\n",
      "\n",
      " {\n",
      "    \"task\": \"zmq.repnet_tf.inference\",\n",
      "    \"cfg\": {\n",
      "        \"pigeon\": {\n",
      "            \"msgkey\": \"zmq.repnet_tf.test\",\n",
      "            \"user_code\": \"test0\",\n",
      "        },\n",
      "        \"video\": \"https://frepai.s3.didiyunapi.com/live/00e685ef87b4/20210714/videos/20210714162058.mp4\",\n",
      "        \"save_video\": False,\n",
      "        \"best_stride_video\": True,\n",
      "        \"batch_size\": 20,\n",
      "        \"threshold\": 0.2,\n",
      "        \"in_threshold\": 0.5,\n",
      "        \"strides\": [2,3,4,5],\n",
      "        \"constant_speed\": False,\n",
      "        \"median_filter\": True,\n",
      "        \"fully_periodic\": False,\n",
      "        \"rm_still\": True,\n",
      "        \"osd_sims\": True,\n",
      "        \"area_rate_threshold\": 0.003\n",
      "    }\n",
      "}\n"
     ]
    }
   ],
   "source": [
    "_TEMPLATE_ = '''{\n",
    "    \"task\": \"%s\",\n",
    "    \"cfg\": {\n",
    "        \"pigeon\": {\n",
    "            \"msgkey\": \"%s\",\n",
    "            \"user_code\": \"%s\",\n",
    "        },\n",
    "        \"video\": \"%s\",\n",
    "        \"save_video\": False,\n",
    "        \"best_stride_video\": True,\n",
    "        \"batch_size\": 20,\n",
    "        \"threshold\": 0.2,\n",
    "        \"in_threshold\": 0.5,\n",
    "        \"strides\": [2,3,4,5],\n",
    "        \"constant_speed\": False,\n",
    "        \"median_filter\": True,\n",
    "        \"fully_periodic\": False,\n",
    "        \"rm_still\": True,\n",
    "        \"osd_sims\": True,\n",
    "        \"area_rate_threshold\": 0.003\n",
    "    }\n",
    "}'''\n",
    "\n",
    "cfgdatas = {user_code:  _TEMPLATE_ % (\n",
    "    MODEL_TASK, MSGKEY,\n",
    "    user_code, video_url\n",
    ") for user_code, video_url in TEST_SAMPLES.items()}\n",
    "\n",
    "print(\"Input:\\n\\n\", cfgdatas['test0'])"
   ]
  },
  {
   "cell_type": "markdown",
   "id": "afraid-update",
   "metadata": {},
   "source": [
    "### 输出\n",
    "\n",
    "```json\n",
    " {\n",
    "    \"pigeon\": {\n",
    "        \"msgkey\": \"zmq.repnet_tf.test\",\n",
    "        \"user_code\": \"123\"\n",
    "    },\n",
    "    \"task\": \"zmq.repnet_tf.inference\",\n",
    "    \"errno\": 0,\n",
    "    \"progress\": 100.0,\n",
    "    \"target_mp4\": \"https://raceai.s3.didiyunapi.com/outputs/123/repnet_tf-target.mp4\",\n",
    "    \"target_json\": \"https://raceai.s3.didiyunapi.com/outputs/123/repnet_tf-results.json\"\n",
    "}\n",
    "```"
   ]
  },
  {
   "cell_type": "code",
   "execution_count": 191,
   "id": "breeding-lottery",
   "metadata": {
    "ExecuteTime": {
     "end_time": "2021-07-15T09:36:08.978618Z",
     "start_time": "2021-07-15T09:36:08.059300Z"
    }
   },
   "outputs": [],
   "source": [
    "def get_result(waitcnt=10):\n",
    "    cnt = 1\n",
    "    while True:\n",
    "        result = json.loads(requests.get(url=f'{API_POPMSG}?key={MSGKEY}').text)\n",
    "        if len(result) > 0 and 'progress' in result[-1]:\n",
    "            progress = int(result[-1]['progress'])\n",
    "            print_progress_bar(progress)\n",
    "            if progress >= 100.0:\n",
    "                # print('\\nOutput:\\n\\n', json.dumps(result[-1], indent=4))\n",
    "                return result[-1]\n",
    "            cnt = 0\n",
    "        else:\n",
    "            cnt += 1\n",
    "        time.sleep(1)\n",
    "        if cnt > waitcnt:\n",
    "            print('timeout')\n",
    "            break"
   ]
  },
  {
   "cell_type": "code",
   "execution_count": 232,
   "id": "adjusted-cable",
   "metadata": {
    "ExecuteTime": {
     "end_time": "2021-07-15T13:51:11.612325Z",
     "start_time": "2021-07-15T13:48:36.827271Z"
    }
   },
   "outputs": [
    {
     "name": "stdout",
     "output_type": "stream",
     "text": [
      "{'errno': 0}\n",
      "{'task': 'zmq.repnet_tf.inference', 'cfg': {'pigeon': {'msgkey': 'zmq.repnet_tf.test', 'user_code': 'notebook'}, 'video': 'https://frepai.s3-internal.didiyunapi.com/live/00cf60a8f512/20210715/videos/20210715152537.mp4', 'save_video': True, 'best_stride_video': True, 'batch_size': 20, 'threshold': 0.2, 'in_threshold': 0.5, 'strides': [1, 2, 3, 4, 5], 'constant_speed': False, 'median_filter': True, 'fully_periodic': False, 'rm_still': False, 'osd_sims': True, 'area_rate_threshold': 0.001, 'focus_box': [0.3, 0.36, 0.48, 0.58]}}\n",
      "Progress: 100%: ▋▋▋▋▋▋▋▋▋▋▋▋▋▋▋▋▋▋▋▋▋▋▋▋▋▋▋▋▋▋▋▋▋▋▋▋▋▋▋▋▋▋▋▋▋▋▋▋▋▋"
     ]
    },
    {
     "data": {
      "text/plain": [
       "{'pigeon': {'msgkey': 'zmq.repnet_tf.test', 'user_code': 'notebook'},\n",
       " 'task': 'zmq.repnet_tf.inference',\n",
       " 'errno': 0,\n",
       " 'progress': 100.0,\n",
       " 'target_mp4': 'https://frepai.s3.didiyunapi.com/live/00cf60a8f512/20210715/outputs/20210715152537/repnet_tf/target.mp4',\n",
       " 'stride_mp4': 'https://frepai.s3.didiyunapi.com/live/00cf60a8f512/20210715/outputs/20210715152537/repnet_tf/target-stride.mp4',\n",
       " 'target_json': 'https://frepai.s3.didiyunapi.com/live/00cf60a8f512/20210715/outputs/20210715152537/repnet_tf/results.json'}"
      ]
     },
     "execution_count": 232,
     "metadata": {},
     "output_type": "execute_result"
    }
   ],
   "source": [
    "reqdata = eval(cfgdatas['test5'])\n",
    "reqdata['cfg']['pigeon']['user_code'] = 'notebook'\n",
    "# reqdata['cfg']['video'] = 'https://frepai.s3-internal.didiyunapi.com/live/00e685ef87b4/20210713/videos/20210713153417.mp4'\n",
    "# reqdata['cfg']['video'] = 'https://raceai.s3.didiyunapi.com/data/media/videos/repnet_test.mp4'\n",
    "reqdata['cfg']['video'] = 'https://frepai.s3-internal.didiyunapi.com/live/00cf60a8f512/20210715/videos/20210715152537.mp4'\n",
    "\n",
    "reqdata['cfg']['save_video'] = True\n",
    "reqdata['cfg']['strides'] = [1, 2, 3, 4, 5]\n",
    "reqdata['cfg']['focus_box'] = [0.3, 0.36, 0.48, 0.58]\n",
    "# reqdata['cfg']['black_box'] = [0.2, 0.2, 0.5, 0.6]\n",
    "reqdata['cfg']['rm_still'] = False\n",
    "reqdata['cfg']['area_rate_threshold'] = 0.001\n",
    "json.loads(requests.get(url=f'{API_POPMSG}?key={MSGKEY}').text)\n",
    "print(json.loads(requests.post(url=API_INFERENCE, json=reqdata).text))\n",
    "print(reqdata)\n",
    "result = get_result(waitcnt=50)\n",
    "result"
   ]
  },
  {
   "cell_type": "code",
   "execution_count": 212,
   "id": "aquatic-spread",
   "metadata": {
    "ExecuteTime": {
     "end_time": "2021-07-15T13:03:02.955261Z",
     "start_time": "2021-07-15T13:03:02.148650Z"
    }
   },
   "outputs": [
    {
     "data": {
      "text/html": [
       "<video   controls src=\"https://frepai.s3.didiyunapi.com/live/00cf60a8f512/20210715/outputs/20210715152537/repnet_tf/target-stride.mp4\" type=\"video/mp4\"/>"
      ],
      "text/plain": [
       "<IPython.core.display.HTML object>"
      ]
     },
     "execution_count": 212,
     "metadata": {},
     "output_type": "execute_result"
    }
   ],
   "source": [
    "show_video(result['stride_mp4'])"
   ]
  },
  {
   "cell_type": "code",
   "execution_count": 199,
   "id": "behind-bundle",
   "metadata": {
    "ExecuteTime": {
     "end_time": "2021-07-15T12:11:20.012792Z",
     "start_time": "2021-07-15T12:11:19.358071Z"
    }
   },
   "outputs": [
    {
     "data": {
      "text/html": [
       "<video   controls src=\"https://frepai.s3.didiyunapi.com/live/00cf60a8f512/20210715/outputs/20210715152537/repnet_tf/target.mp4\" type=\"video/mp4\"/>"
      ],
      "text/plain": [
       "<IPython.core.display.HTML object>"
      ]
     },
     "execution_count": 199,
     "metadata": {},
     "output_type": "execute_result"
    }
   ],
   "source": [
    "show_video(result['target_mp4'])"
   ]
  },
  {
   "cell_type": "markdown",
   "id": "attempted-mention",
   "metadata": {},
   "source": [
    "## JSON结果数据\n",
    "\n",
    "```json\n",
    "{\n",
    "    \"period\": 58.022187843507346,      // 视频周期平均值(帧数)\n",
    "    \"score\": 0.6532081365585327,       // 视频预测的平均分数\n",
    "    \"stride\": 2,                       // 最佳步长\n",
    "    \"fps\": 29.916666666666668,         // 视频帧率\n",
    "    \"num_frames\": 634,                 // 视频帧总数\n",
    "    \"num_still_frames\": 7,             // 静止帧总数\n",
    "    \"area_rate_threshold\": 0.003,      // 静止帧判断阀值\n",
    "    \"infer_time\": 3.5414674282073975,  // 模型推理用时\n",
    "    \"mkvideo_time\": 54.93384122848511, // 视频合成耗费的时间\n",
    "    \"frames_period\": [                 // 每一帧的周期信息\n",
    "        {\n",
    "            \"image_id\": \"0.jpg\",                    // 第 1 帧\n",
    "            \"at_time\": 0.033,                       // 该帧对应的视频中的时间数(秒)\n",
    "            \"is_still\": false,                      // 是否为静止帧\n",
    "            \"within_period\": 0.7064347267150879,    // 属于周期内的帧的置信度\n",
    "            \"pframe_counts\": 0.019999999552965164,  // 每一帧所代表周期数量 (小数) \n",
    "            \"cum_counts\": 0.019999999552965164      // 循环周期次数依次累加\n",
    "        },\n",
    "        { \n",
    "            \"image_id\": \"1.jpg\",                    // 第 2 帧\n",
    "            \"at_time\": 0.067,\n",
    "            \"is_still\": false,                      // 是否为静止帧\n",
    "            \"within_period\": 0.7064347267150879,\n",
    "            \"pframe_counts\": 0.019999999552965164,\n",
    "            \"cum_counts\": 0.03999999910593033\n",
    "        },\n",
    "        ....\n",
    "        {\n",
    "            \"image_id\": \"392.jpg\",                  // 第 393 帧\n",
    "            \"at_time\": 13.111,\n",
    "            \"is_still\": false,\n",
    "            \"within_period\": 0.7592176795005798,\n",
    "            \"pframe_counts\": 0.02083333395421505,\n",
    "            \"cum_counts\": 5.636037701740861\n",
    "        },\n",
    "        {\n",
    "            \"image_id\": \"393.jpg\",\n",
    "            \"at_time\": 13.145,\n",
    "            \"is_still\": false,\n",
    "            \"within_period\": 0.7592176795005798,\n",
    "            \"pframe_counts\": 0.02083333395421505,\n",
    "            \"cum_counts\": 5.656871035695076\n",
    "        },\n",
    "      ....\n",
    "    ],\n",
    "    \"target_mp4\": \"https://raceai.s3.didiyunapi.com/outputs/test3/repnet_tf-target.mp4\" // 合成视频的存放地址\n",
    "    \"stride_mp4\": \"https://raceai.s3.didiyunapi.com/outputs/test3/repnet_tf-target-stride.mp4\" // 最好stride合成视频的存放地址\n",
    "}\n",
    "```"
   ]
  },
  {
   "cell_type": "markdown",
   "id": "united-efficiency",
   "metadata": {},
   "source": [
    "## References"
   ]
  },
  {
   "cell_type": "markdown",
   "id": "spectacular-programmer",
   "metadata": {},
   "source": [
    "小幅单人2.mp4\n",
    "\n",
    "    https://raceai.s3.didiyunapi.com/outputs/test6/repnet_tf-results.json\n",
    "    https://raceai.s3.didiyunapi.com/outputs/test6/alphapose-results.json\n",
    "    \n",
    "小幅单人4.mp4:\n",
    "\n",
    "    https://raceai.s3.didiyunapi.com/outputs/test7/repnet_tf-results.json\n",
    "    https://raceai.s3.didiyunapi.com/outputs/test7/alphapose-results.json\n",
    "    \n",
    "小幅单人5.mp4:\n",
    "\n",
    "    https://raceai.s3.didiyunapi.com/outputs/test8/repnet_tf-results.json\n",
    "    https://raceai.s3.didiyunapi.com/outputs/test8/alphapose-results.json\n",
    "\n",
    "小幅单人6.mp4:\n",
    "\n",
    "    https://raceai.s3.didiyunapi.com/outputs/test9/repnet_tf-results.json\n",
    "    https://raceai.s3.didiyunapi.com/outputs/test9/alphapose-results.json\n",
    "\n",
    "小幅单人1脚部.mp4\n",
    "\n",
    "    https://raceai.s3.didiyunapi.com/outputs/test10/repnet_tf-results.json\n",
    "    https://raceai.s3.didiyunapi.com/outputs/test10/alphapose-results.json\n",
    "\n",
    "小幅单人1齿轮.mp4\n",
    "\n",
    "    https://raceai.s3.didiyunapi.com/outputs/test11/repnet_tf-results.json\n",
    "    https://raceai.s3.didiyunapi.com/outputs/test11/alphapose-results.json\n",
    "\n",
    "小幅单人5踩.mp4\n",
    "\n",
    "    https://raceai.s3.didiyunapi.com/outputs/test12/repnet_tf-results.json\n",
    "    https://raceai.s3.didiyunapi.com/outputs/test12/alphapose-results.json\n",
    "\n",
    "小幅双人1焊接.mp4\n",
    "\n",
    "    https://raceai.s3.didiyunapi.com/outputs/test13/repnet_tf-results.json\n",
    "    https://raceai.s3.didiyunapi.com/outputs/test13/alphapose-results.json\n",
    "\n",
    "120s单人脚部操作+整理.mp4\n",
    "\n",
    "    https://raceai.s3.didiyunapi.com/outputs/test14/repnet_tf-results.json\n",
    "    https://raceai.s3.didiyunapi.com/outputs/test14/alphapose-results.json\n",
    "\n",
    "小幅单人7\n",
    "\n",
    "    https://raceai.s3.didiyunapi.com/outputs/test15/repnet_tf-results.json\n",
    "\n",
    "小幅单人7+8\n",
    "\n",
    "    https://raceai.s3.didiyunapi.com/outputs/test16/repnet_tf-results.json\n",
    "\n",
    "小幅单人8\n",
    "\n",
    "    https://raceai.s3.didiyunapi.com/outputs/test17/repnet_tf-results.json \n",
    "    \n",
    "小幅单人7+8_精简.mp4\n",
    "\n",
    "    https://raceai.s3.didiyunapi.com/outputs/test18/repnet_tf-results.json \n",
    "    \n",
    "小幅单人坐姿_长视频.mp4\n",
    "\n",
    "    https://raceai.s3.didiyunapi.com/outputs/test19/repnet_tf-results.json\n",
    "    \n",
    "踩踏冲床正面.mp4\n",
    "\n",
    "    https://raceai.s3.didiyunapi.com/outputs/test23/repnet_tf-results.json\n",
    "    \n",
    "踩踏冲床背面.mp4\n",
    "\n",
    "    https://raceai.s3.didiyunapi.com/outputs/test24/repnet_tf-results.json\n",
    "    \n",
    "单人搬运.mp4\n",
    "\n",
    "    https://raceai.s3.didiyunapi.com/outputs/test25/repnet_tf-results.json"
   ]
  }
 ],
 "metadata": {
  "hide_input": false,
  "kernelspec": {
   "display_name": "Python 3",
   "language": "python",
   "name": "python3"
  },
  "language_info": {
   "codemirror_mode": {
    "name": "ipython",
    "version": 3
   },
   "file_extension": ".py",
   "mimetype": "text/x-python",
   "name": "python",
   "nbconvert_exporter": "python",
   "pygments_lexer": "ipython3",
   "version": "3.6.9"
  },
  "toc": {
   "base_numbering": 1,
   "nav_menu": {},
   "number_sections": true,
   "sideBar": true,
   "skip_h1_title": true,
   "title_cell": "",
   "title_sidebar": "Contents",
   "toc_cell": false,
   "toc_position": {},
   "toc_section_display": true,
   "toc_window_display": false
  }
 },
 "nbformat": 4,
 "nbformat_minor": 5
}
