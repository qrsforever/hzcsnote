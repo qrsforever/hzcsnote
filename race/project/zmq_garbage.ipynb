{
 "cells": [
  {
   "cell_type": "code",
   "execution_count": 2,
   "metadata": {
    "ExecuteTime": {
     "end_time": "2021-03-03T12:45:12.429138Z",
     "start_time": "2021-03-03T12:45:12.414410Z"
    }
   },
   "outputs": [],
   "source": [
    "%config IPCompleter.use_jedi = False"
   ]
  },
  {
   "cell_type": "code",
   "execution_count": 1,
   "metadata": {
    "ExecuteTime": {
     "end_time": "2021-03-03T12:45:11.771889Z",
     "start_time": "2021-03-03T12:45:10.532354Z"
    }
   },
   "outputs": [],
   "source": [
    "import os\n",
    "import json\n",
    "import numpy as np\n",
    "import requests\n",
    "import time\n",
    "import cv2\n",
    "import base64\n",
    "import random\n",
    "import matplotlib.pyplot as plt\n",
    "\n",
    "from tqdm import tqdm\n",
    "from IPython.display import display, HTML\n",
    "from k12libs.utils.nb_easy import RACEURL"
   ]
  },
  {
   "cell_type": "code",
   "execution_count": 3,
   "metadata": {
    "ExecuteTime": {
     "end_time": "2021-03-03T12:45:13.937042Z",
     "start_time": "2021-03-03T12:45:13.928764Z"
    }
   },
   "outputs": [
    {
     "data": {
      "text/html": [
       "<style>.container { width:90% !important; }</style>"
      ],
      "text/plain": [
       "<IPython.core.display.HTML object>"
      ]
     },
     "metadata": {},
     "output_type": "display_data"
    }
   ],
   "source": [
    "display(HTML('<style>.container { width:%d%% !important; }</style>' % 90))"
   ]
  },
  {
   "cell_type": "code",
   "execution_count": 4,
   "metadata": {
    "ExecuteTime": {
     "end_time": "2021-03-03T12:45:16.240277Z",
     "start_time": "2021-03-03T12:45:16.233915Z"
    }
   },
   "outputs": [
    {
     "data": {
      "text/plain": [
       "'http://116.85.5.40:9119/raceai/framework/inference'"
      ]
     },
     "execution_count": 4,
     "metadata": {},
     "output_type": "execute_result"
    }
   ],
   "source": [
    "API_INFERENCE = f'{RACEURL}/raceai/framework/inference'\n",
    "API_INFERENCE"
   ]
  },
  {
   "cell_type": "code",
   "execution_count": 5,
   "metadata": {
    "ExecuteTime": {
     "end_time": "2021-03-03T12:45:16.976000Z",
     "start_time": "2021-03-03T12:45:16.970140Z"
    }
   },
   "outputs": [
    {
     "data": {
      "text/plain": [
       "'http://116.85.5.40:9119/raceai/private/popmsg'"
      ]
     },
     "execution_count": 5,
     "metadata": {},
     "output_type": "execute_result"
    }
   ],
   "source": [
    "API_POPMSG = f'{RACEURL}/raceai/private/popmsg'\n",
    "API_POPMSG "
   ]
  },
  {
   "cell_type": "code",
   "execution_count": 14,
   "metadata": {
    "ExecuteTime": {
     "end_time": "2021-03-03T12:58:41.070750Z",
     "start_time": "2021-03-03T12:58:41.066842Z"
    }
   },
   "outputs": [],
   "source": [
    "MODEL_TASK = 'zmq.garbage.resnet18.inference'\n",
    "MSGKEY = 'zmq.garbage.pl.test'\n",
    "IMG_ROOT = '/raceai/data/datasets/rgarbage/imgs'\n",
    "\n",
    "# \"label_names\": [\n",
    "#     \"其他垃圾\",\n",
    "#     \"厨余垃圾\",\n",
    "#     \"可回收物\",\n",
    "#     \"有害垃圾\"\n",
    "# ],"
   ]
  },
  {
   "cell_type": "markdown",
   "metadata": {},
   "source": [
    "## 批量测试"
   ]
  },
  {
   "cell_type": "code",
   "execution_count": 15,
   "metadata": {
    "ExecuteTime": {
     "end_time": "2021-03-03T12:58:43.145758Z",
     "start_time": "2021-03-03T12:58:43.140977Z"
    }
   },
   "outputs": [],
   "source": [
    "cfgdata = '''{\n",
    "    \"task\": \"%s\",\n",
    "    \"cfg\": {\n",
    "        \"pigeon\": {\n",
    "            \"msgkey\": \"%s\",\n",
    "            \"user\": \"1\",\n",
    "            \"uuid\": \"100\"\n",
    "        },\n",
    "        \"data\": {\n",
    "            \"class_name\": \"raceai.data.process.PathListDataLoader\",\n",
    "            \"params\": {\n",
    "                \"data_source\": [\n",
    "                    \"其他垃圾/其他垃圾_口罩/img_口罩_43.jpeg\",\n",
    "                    \"厨余垃圾/厨余垃圾_果皮/西瓜皮_厨余垃圾/img_西瓜皮_11.jpeg\",\n",
    "                    \"可回收物/可回收物_不锈钢制品/img_不锈钢制品_68.jpeg\",\n",
    "                    \"有害垃圾/有害垃圾_电池/img_电池_44.jpeg\"\n",
    "                ],\n",
    "                \"dataset\": {\n",
    "                    \"class_name\": \"raceai.data.PredictListImageDataset\",\n",
    "                    \"params\": {\n",
    "                        \"data_prefix\": \"%s\",\n",
    "                        \"input_size\": 224\n",
    "                    }\n",
    "                },\n",
    "                \"sample\": {\n",
    "                    \"batch_size\": 32,\n",
    "                    \"num_workers\": 4,\n",
    "                }\n",
    "            }\n",
    "        }\n",
    "    }\n",
    "}''' % (MODEL_TASK, MSGKEY,IMG_ROOT)"
   ]
  },
  {
   "cell_type": "markdown",
   "metadata": {},
   "source": [
    "### 输入\n",
    "\n",
    "只需要修改: `data_source` 和 `data_prefix`\n",
    "\n",
    "```json\n",
    "{\n",
    "    \"task\": \"zmq.cr.resnet18.inference\",   // 任务topic, 订阅此topic的后端服务来处理此次请求\n",
    "    \"cfg\": {\n",
    "        \"pigeon\": {                             // 可以传输任何需要异步返回的信息\n",
    "            \"msgkey\": \"zmq.garbage.pl.test\",    // 异步数据的队列key\n",
    "            \"user\": \"1\",\n",
    "            \"uuid\": \"100\"\n",
    "        },\n",
    "        \"data\": {\n",
    "            \"class_name\": \"raceai.data.process.PathListDataLoader\",\n",
    "            \"params\": {\n",
    "                \"data_source\": [\n",
    "                    \"其他垃圾/其他垃圾_口罩/img_口罩_43.jpeg\",\n",
    "                    \"厨余垃圾/厨余垃圾_果皮/西瓜皮_厨余垃圾/img_西瓜皮_11.jpeg\",\n",
    "                    \"可回收物/可回收物_不锈钢制品/img_不锈钢制品_68.jpeg\",\n",
    "                    \"有害垃圾/有害垃圾_电池/img_电池_44.jpeg\"\n",
    "                ],\n",
    "                \"dataset\": {\n",
    "                    \"class_name\": \"raceai.data.PredictListImageDataset\",\n",
    "                    \"params\": {\n",
    "                        \"data_prefix\": \"/raceai/data/datasets/rgarbage/imgs\",\n",
    "                        \"input_size\": 224\n",
    "                    }\n",
    "                },\n",
    "                \"sample\": {\n",
    "                    \"batch_size\": 32,\n",
    "                    \"num_workers\": 4,\n",
    "                }\n",
    "            }\n",
    "        }\n",
    "    }\n",
    "}\n",
    "```"
   ]
  },
  {
   "cell_type": "code",
   "execution_count": 16,
   "metadata": {
    "ExecuteTime": {
     "end_time": "2021-03-03T12:58:49.452946Z",
     "start_time": "2021-03-03T12:58:46.430261Z"
    }
   },
   "outputs": [],
   "source": [
    "reqdata = eval(cfgdata)\n",
    "json.loads(requests.get(url=f'{API_POPMSG}?key={MSGKEY}').text)\n",
    "json.loads(requests.post(url=API_INFERENCE, json=reqdata).text)\n",
    "time.sleep(3)"
   ]
  },
  {
   "cell_type": "code",
   "execution_count": 17,
   "metadata": {
    "ExecuteTime": {
     "end_time": "2021-03-03T12:58:54.119567Z",
     "start_time": "2021-03-03T12:58:54.103932Z"
    }
   },
   "outputs": [
    {
     "data": {
      "text/plain": [
       "[{'pigeon': {'msgkey': 'zmq.garbage.pl.test', 'user': '1', 'uuid': '100'},\n",
       "  'task': 'zmq.garbage.resnet18.inference',\n",
       "  'errno': 0,\n",
       "  'result': [{'image_path': '/raceai/data/datasets/rgarbage/imgs/其他垃圾/其他垃圾_口罩/img_口罩_43.jpeg',\n",
       "    'image_id': '-1',\n",
       "    'probs': [0.4174748957157135,\n",
       "     4.561334492336755e-07,\n",
       "     0.5216382145881653,\n",
       "     0.06088639795780182],\n",
       "    'probs_sorted': {'values': [0.5216382145881653,\n",
       "      0.4174748957157135,\n",
       "      0.06088639795780182,\n",
       "      4.561334492336755e-07],\n",
       "     'indices': [2, 0, 3, 1]}},\n",
       "   {'image_path': '/raceai/data/datasets/rgarbage/imgs/厨余垃圾/厨余垃圾_果皮/西瓜皮_厨余垃圾/img_西瓜皮_11.jpeg',\n",
       "    'image_id': '-1',\n",
       "    'probs': [0.1242741122841835,\n",
       "     0.8687889575958252,\n",
       "     0.0032073091715574265,\n",
       "     0.003729666816070676],\n",
       "    'probs_sorted': {'values': [0.8687889575958252,\n",
       "      0.1242741122841835,\n",
       "      0.003729666816070676,\n",
       "      0.0032073091715574265],\n",
       "     'indices': [1, 0, 3, 2]}},\n",
       "   {'image_path': '/raceai/data/datasets/rgarbage/imgs/可回收物/可回收物_不锈钢制品/img_不锈钢制品_68.jpeg',\n",
       "    'image_id': '-1',\n",
       "    'probs': [0.001574964844621718,\n",
       "     6.411748472601175e-06,\n",
       "     0.9965649247169495,\n",
       "     0.0018537332070991397],\n",
       "    'probs_sorted': {'values': [0.9965649247169495,\n",
       "      0.0018537332070991397,\n",
       "      0.001574964844621718,\n",
       "      6.411748472601175e-06],\n",
       "     'indices': [2, 3, 0, 1]}},\n",
       "   {'image_path': '/raceai/data/datasets/rgarbage/imgs/有害垃圾/有害垃圾_电池/img_电池_44.jpeg',\n",
       "    'image_id': '-1',\n",
       "    'probs': [5.01268323205295e-06,\n",
       "     0.0003939377493225038,\n",
       "     4.4139298438494734e-08,\n",
       "     0.9996010661125183],\n",
       "    'probs_sorted': {'values': [0.9996010661125183,\n",
       "      0.0003939377493225038,\n",
       "      5.01268323205295e-06,\n",
       "      4.4139298438494734e-08],\n",
       "     'indices': [3, 1, 0, 2]}}],\n",
       "  'running_time': 0.373}]"
      ]
     },
     "execution_count": 17,
     "metadata": {},
     "output_type": "execute_result"
    }
   ],
   "source": [
    "json.loads(requests.get(url=f'{API_POPMSG}?key={MSGKEY}').text)"
   ]
  },
  {
   "cell_type": "markdown",
   "metadata": {},
   "source": [
    "### 带有image_id"
   ]
  },
  {
   "cell_type": "code",
   "execution_count": 99,
   "metadata": {
    "ExecuteTime": {
     "end_time": "2021-03-04T04:02:11.503001Z",
     "start_time": "2021-03-04T04:02:11.498015Z"
    }
   },
   "outputs": [],
   "source": [
    "cfgdata = '''{\n",
    "    \"task\": \"%s\",\n",
    "    \"cfg\": {\n",
    "        \"pigeon\": {\n",
    "            \"msgkey\": \"%s\",\n",
    "            \"user\": \"1\",\n",
    "            \"uuid\": \"100\"\n",
    "        },\n",
    "        \"data\": {\n",
    "            \"class_name\": \"raceai.data.process.PathListDataLoader\",\n",
    "            \"params\": {\n",
    "                \"data_source\": [\n",
    "                    {\"image_path\": \"可回收物/可回收物_不锈钢制品/img_不锈钢制品_68.jpeg\", \"image_id\": 3},\n",
    "                    {\"image_path\": \"其他垃圾/其他垃圾_口罩/img_口罩_43.jpeg\", \"image_id\": 1},\n",
    "                    {\"image_path\": \"厨余垃圾/厨余垃圾_果皮/西瓜皮_厨余垃圾/img_西瓜皮_11.jpeg\", \"image_id\": 2},\n",
    "                    {\"image_path\": \"有害垃圾/有害垃圾_电池/img_电池_44.jpeg\", \"image_id\": 4}\n",
    "                ],\n",
    "                \"dataset\": {\n",
    "                    \"class_name\": \"raceai.data.PredictListImageDataset\",\n",
    "                    \"params\": {\n",
    "                        \"data_prefix\": \"%s\",\n",
    "                        \"input_size\": 224,\n",
    "                        \"mean\": [\n",
    "                            0.6535,\n",
    "                            0.6132,\n",
    "                            0.5643\n",
    "                        ],\n",
    "                        \"std\": [\n",
    "                            0.2165,\n",
    "                            0.2244,\n",
    "                            0.2416\n",
    "                        ]\n",
    "                    }\n",
    "                },\n",
    "                \"sample\": {\n",
    "                    \"batch_size\": 4,\n",
    "                    \"num_workers\": 1,\n",
    "                }\n",
    "            }\n",
    "        }\n",
    "    }\n",
    "}''' % (MODEL_TASK, MSGKEY,IMG_ROOT)"
   ]
  },
  {
   "cell_type": "code",
   "execution_count": 100,
   "metadata": {
    "ExecuteTime": {
     "end_time": "2021-03-04T04:02:14.486521Z",
     "start_time": "2021-03-04T04:02:13.450816Z"
    }
   },
   "outputs": [
    {
     "data": {
      "text/plain": [
       "[{'pigeon': {'msgkey': 'zmq.garbage.pl.test', 'user': '1', 'uuid': '100'},\n",
       "  'task': 'zmq.garbage.resnet18.inference',\n",
       "  'errno': 0,\n",
       "  'result': [{'image_path': '/raceai/data/datasets/rgarbage/imgs/可回收物/可回收物_不锈钢制品/img_不锈钢制品_68.jpeg',\n",
       "    'image_id': 3,\n",
       "    'probs': [0.033191993832588196,\n",
       "     9.057721035787836e-05,\n",
       "     0.9656627774238586,\n",
       "     0.0010546991834416986],\n",
       "    'probs_sorted': {'values': [0.9656627774238586,\n",
       "      0.033191993832588196,\n",
       "      0.0010546991834416986,\n",
       "      9.057721035787836e-05],\n",
       "     'indices': [2, 0, 3, 1]}},\n",
       "   {'image_path': '/raceai/data/datasets/rgarbage/imgs/其他垃圾/其他垃圾_口罩/img_口罩_43.jpeg',\n",
       "    'image_id': 1,\n",
       "    'probs': [0.96214759349823,\n",
       "     7.707124609623861e-07,\n",
       "     0.037202171981334686,\n",
       "     0.0006494477274827659],\n",
       "    'probs_sorted': {'values': [0.96214759349823,\n",
       "      0.037202171981334686,\n",
       "      0.0006494477274827659,\n",
       "      7.707124609623861e-07],\n",
       "     'indices': [0, 2, 3, 1]}},\n",
       "   {'image_path': '/raceai/data/datasets/rgarbage/imgs/厨余垃圾/厨余垃圾_果皮/西瓜皮_厨余垃圾/img_西瓜皮_11.jpeg',\n",
       "    'image_id': 2,\n",
       "    'probs': [0.8760672807693481,\n",
       "     0.10012370347976685,\n",
       "     0.008547446690499783,\n",
       "     0.015261583030223846],\n",
       "    'probs_sorted': {'values': [0.8760672807693481,\n",
       "      0.10012370347976685,\n",
       "      0.015261583030223846,\n",
       "      0.008547446690499783],\n",
       "     'indices': [0, 1, 3, 2]}},\n",
       "   {'image_path': '/raceai/data/datasets/rgarbage/imgs/有害垃圾/有害垃圾_电池/img_电池_44.jpeg',\n",
       "    'image_id': 4,\n",
       "    'probs': [0.01933297887444496,\n",
       "     0.0013742841547355056,\n",
       "     0.0001311102823819965,\n",
       "     0.9791616201400757],\n",
       "    'probs_sorted': {'values': [0.9791616201400757,\n",
       "      0.01933297887444496,\n",
       "      0.0013742841547355056,\n",
       "      0.0001311102823819965],\n",
       "     'indices': [3, 0, 1, 2]}}],\n",
       "  'running_time': 0.243}]"
      ]
     },
     "execution_count": 100,
     "metadata": {},
     "output_type": "execute_result"
    }
   ],
   "source": [
    "reqdata = eval(cfgdata)\n",
    "json.loads(requests.get(url=f'{API_POPMSG}?key={MSGKEY}').text)\n",
    "json.loads(requests.post(url=API_INFERENCE, json=reqdata).text)\n",
    "time.sleep(1)\n",
    "json.loads(requests.get(url=f'{API_POPMSG}?key={MSGKEY}').text)"
   ]
  },
  {
   "cell_type": "markdown",
   "metadata": {},
   "source": [
    "## 单张Base64"
   ]
  },
  {
   "cell_type": "code",
   "execution_count": 101,
   "metadata": {
    "ExecuteTime": {
     "end_time": "2021-03-04T04:02:20.547687Z",
     "start_time": "2021-03-04T04:02:20.353727Z"
    }
   },
   "outputs": [
    {
     "data": {
      "image/png": "[encoded data removed]",
      "text/plain": [
       "<Figure size 432x288 with 1 Axes>"
      ]
     },
     "metadata": {
      "needs_background": "light"
     },
     "output_type": "display_data"
    }
   ],
   "source": [
    "# test_image_path = '/hzcsk12/hzcsnote/assets/images/garbage_bread.jpeg'\n",
    "# test_image_path = '/hzcsk12/hzcsnote/assets/images/garbage_thermometer.jpeg'\n",
    "# test_image_path = '/hzcsk12/hzcsnote/assets/images/garbage_phone3.jpg'\n",
    "test_image_path = '/raceai/data/datasets/rgarbage/imgs/可回收物/可回收物_不锈钢制品/img_不锈钢制品_68.jpeg'\n",
    "test_image = cv2.cvtColor(cv2.imread(test_image_path), cv2.COLOR_BGR2RGB)\n",
    "plt.imshow(test_image);"
   ]
  },
  {
   "cell_type": "code",
   "execution_count": 102,
   "metadata": {
    "ExecuteTime": {
     "end_time": "2021-03-04T04:02:22.048637Z",
     "start_time": "2021-03-04T04:02:21.517496Z"
    }
   },
   "outputs": [
    {
     "name": "stdout",
     "output_type": "stream",
     "text": [
      "[{'pigeon': {'msgkey': 'zmq.garbage.pl.test', 'user': '1', 'uuid': '100'}, 'task': 'zmq.garbage.resnet18.inference', 'errno': 0, 'result': [{'image_path': '/tmp/b4img_60.png', 'image_id': '-1', 'probs': [0.1440725326538086, 1.8167645976063795e-05, 0.8498671054840088, 0.006042204797267914], 'probs_sorted': {'values': [0.8498671054840088, 0.1440725326538086, 0.006042204797267914, 1.8167645976063795e-05], 'indices': [2, 0, 3, 1]}}], 'running_time': 0.231}]\n"
     ]
    }
   ],
   "source": [
    "def img2b64(path):\n",
    "    with open(path, 'rb') as fr:\n",
    "        b4data = base64.b64encode(fr.read()).decode()\n",
    "    return b4data\n",
    "\n",
    "reqdata = '''{\n",
    "    \"task\": \"%s\",\n",
    "    \"cfg\": {\n",
    "        \"pigeon\": {\n",
    "            \"msgkey\": \"%s\",\n",
    "            \"user\": \"1\",\n",
    "            \"uuid\": \"100\"\n",
    "        },\n",
    "        \"data\": {\n",
    "            \"class_name\": \"raceai.data.process.Base64DataLoader\",\n",
    "            \"params\": {\n",
    "                \"data_source\": \"%s\",\n",
    "                \"dataset\": {\n",
    "                    \"class_name\": \"raceai.data.PredictListImageDataset\",\n",
    "                    \"params\": {\n",
    "                        \"input_size\": 224\n",
    "                    }\n",
    "                },\n",
    "                \"sample\": {\n",
    "                    \"batch_size\": 1,\n",
    "                    \"num_workers\": 1,\n",
    "                }\n",
    "            }\n",
    "        }\n",
    "    }\n",
    "}''' % (MODEL_TASK, MSGKEY, img2b64(test_image_path))\n",
    "\n",
    "reqdata = eval(reqdata)\n",
    "json.loads(requests.get(url=f'{API_POPMSG}?key={MSGKEY}').text)\n",
    "json.loads(requests.post(url=API_INFERENCE, json=reqdata).text)\n",
    "time.sleep(0.5)\n",
    "resdata = json.loads(requests.get(url=f'{API_POPMSG}?key={MSGKEY}').text)\n",
    "print(resdata)"
   ]
  }
 ],
 "metadata": {
  "hide_input": false,
  "kernelspec": {
   "display_name": "Python 3",
   "language": "python",
   "name": "python3"
  },
  "language_info": {
   "codemirror_mode": {
    "name": "ipython",
    "version": 3
   },
   "file_extension": ".py",
   "mimetype": "text/x-python",
   "name": "python",
   "nbconvert_exporter": "python",
   "pygments_lexer": "ipython3",
   "version": "3.6.9"
  },
  "toc": {
   "base_numbering": 1,
   "nav_menu": {},
   "number_sections": true,
   "sideBar": true,
   "skip_h1_title": true,
   "title_cell": "",
   "title_sidebar": "Contents",
   "toc_cell": false,
   "toc_position": {
    "height": "calc(100% - 180px)",
    "left": "10px",
    "top": "150px",
    "width": "189.075px"
   },
   "toc_section_display": true,
   "toc_window_display": true
  }
 },
 "nbformat": 4,
 "nbformat_minor": 4
}
