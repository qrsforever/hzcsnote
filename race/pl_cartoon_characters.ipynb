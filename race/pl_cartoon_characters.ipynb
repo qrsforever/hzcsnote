{
 "cells": [
  {
   "cell_type": "code",
   "execution_count": 9,
   "id": "resistant-james",
   "metadata": {
    "ExecuteTime": {
     "end_time": "2021-06-22T09:44:13.995771Z",
     "start_time": "2021-06-22T09:44:13.306999Z"
    }
   },
   "outputs": [
    {
     "name": "stdout",
     "output_type": "stream",
     "text": [
      "CPython 3.6.9\n",
      "IPython 7.16.1\n",
      "\n",
      "numpy 1.19.4\n",
      "sklearn 0.24.0\n",
      "pandas 1.1.5\n",
      "CPython 3.6.9\n",
      "IPython 7.16.1\n",
      "\n",
      "cv2 4.5.1\n",
      "PIL 6.2.2\n",
      "matplotlib 3.3.3\n",
      "CPython 3.6.9\n",
      "IPython 7.16.1\n",
      "\n",
      "torch 1.8.0.dev20210103+cu101\n",
      "torchvision 0.9.0.dev20210103+cu101\n",
      "torchaudio not installed\n"
     ]
    },
    {
     "data": {
      "text/html": [
       "<style>.container { width:90% !important; }</style>"
      ],
      "text/plain": [
       "<IPython.core.display.HTML object>"
      ]
     },
     "metadata": {},
     "output_type": "display_data"
    }
   ],
   "source": [
    "%reload_ext watermark\n",
    "%reload_ext autoreload\n",
    "%autoreload 2\n",
    "%watermark -v -p numpy,sklearn,pandas\n",
    "%watermark -v -p cv2,PIL,matplotlib\n",
    "%watermark -v -p torch,torchvision,torchaudio\n",
    "%matplotlib inline\n",
    "%config InlineBackend.figure_format='retina'\n",
    "%config IPCompleter.use_jedi = False\n",
    "\n",
    "from IPython.display import display, HTML, Javascript\n",
    "display(HTML('<style>.container { width:%d%% !important; }</style>' % 90))\n",
    "\n",
    "def _IMPORT_(x):\n",
    "    try:\n",
    "        exec(x, globals())\n",
    "    except:\n",
    "        pass\n"
   ]
  },
  {
   "cell_type": "code",
   "execution_count": 10,
   "id": "front-chaos",
   "metadata": {
    "ExecuteTime": {
     "end_time": "2021-06-22T09:44:14.723209Z",
     "start_time": "2021-06-22T09:44:14.593749Z"
    }
   },
   "outputs": [],
   "source": [
    "###\n",
    "### Common ###\n",
    "###\n",
    "\n",
    "import sys, os, io, time, random, math\n",
    "import json, base64, requests\n",
    "import os.path as osp\n",
    "\n",
    "_IMPORT_('import numpy as np')\n",
    "_IMPORT_('import pandas as pd')\n",
    "_IMPORT_('from tqdm.notebook import tqdm')\n",
    "\n",
    "def print_progress_bar(x):\n",
    "    print('\\r', end='')\n",
    "    print('Progress: {}%:'.format(x), '%s%s' % ('▋'*(x//2), '.'*((100-x)//2)), end='')\n",
    "    sys.stdout.flush()\n",
    "\n"
   ]
  },
  {
   "cell_type": "code",
   "execution_count": 11,
   "id": "established-overview",
   "metadata": {
    "ExecuteTime": {
     "end_time": "2021-06-22T09:44:18.381142Z",
     "start_time": "2021-06-22T09:44:18.267650Z"
    }
   },
   "outputs": [],
   "source": [
    "from k12libs.utils.nb_easy import k12ai_get_top_dir, RACEURL\n",
    "from k12libs.utils.nb_dataset import k12ai_generate_jsonfiles"
   ]
  },
  {
   "cell_type": "code",
   "execution_count": 12,
   "id": "sophisticated-director",
   "metadata": {
    "ExecuteTime": {
     "end_time": "2021-06-22T09:44:19.446551Z",
     "start_time": "2021-06-22T09:44:19.331862Z"
    }
   },
   "outputs": [],
   "source": [
    "data_root = '/raceai/data/datasets/cartoon_characters'\n",
    "input_size = 224"
   ]
  },
  {
   "cell_type": "code",
   "execution_count": 13,
   "id": "preliminary-brazil",
   "metadata": {
    "ExecuteTime": {
     "end_time": "2021-06-22T09:44:27.461378Z",
     "start_time": "2021-06-22T09:44:24.530618Z"
    }
   },
   "outputs": [
    {
     "data": {
      "text/plain": [
       "{'num_records': 85,\n",
       " 'num_classes': 5,\n",
       " 'label_names': ['Monkey_D_Luffy',\n",
       "  'sun_wukong',\n",
       "  'Pleasant_Sheep',\n",
       "  'Grey_Wolf',\n",
       "  'Iron_man'],\n",
       " 'mean': [0.6095, 0.6039, 0.589],\n",
       " 'std': [0.2359, 0.2388, 0.2529]}"
      ]
     },
     "execution_count": 13,
     "metadata": {},
     "output_type": "execute_result"
    }
   ],
   "source": [
    "info = k12ai_generate_jsonfiles(data_root)\n",
    "info"
   ]
  },
  {
   "cell_type": "markdown",
   "id": "found-journal",
   "metadata": {},
   "source": [
    "## Train"
   ]
  },
  {
   "cell_type": "code",
   "execution_count": 14,
   "id": "personal-spouse",
   "metadata": {
    "ExecuteTime": {
     "end_time": "2021-06-22T09:44:36.615143Z",
     "start_time": "2021-06-22T09:44:36.472886Z"
    }
   },
   "outputs": [],
   "source": [
    "model = 'Resnet18'\n",
    "data_source = f'{data_root}/train.json'\n",
    "valid_data_source = f\"{data_root}/val.json\"\n",
    "test_data_source = f\"{data_root}/test.json\"\n",
    "root_dir = \"/raceai/data/ckpts/cartoon_characters/\"\n",
    "resume_weights = f\"{root_dir}/checkpoints/best.ckpt\""
   ]
  },
  {
   "cell_type": "code",
   "execution_count": 15,
   "id": "artificial-monkey",
   "metadata": {
    "ExecuteTime": {
     "end_time": "2021-06-22T09:47:08.518393Z",
     "start_time": "2021-06-22T09:44:41.677313Z"
    }
   },
   "outputs": [
    {
     "name": "stdout",
     "output_type": "stream",
     "text": [
      "{'errno': 0, 'result': [{'test_acc': 0.8823529481887817}]}\n"
     ]
    }
   ],
   "source": [
    "optimizer = {\n",
    "    \"class_name\": \"torch.optim.Adam\",\n",
    "    \"params\": {\n",
    "        \"lr\": 0.001,\n",
    "        \"betas\": [0.9, 0.999],\n",
    "        \"weight_decay\": 0,\n",
    "        \"amsgrad\": True\n",
    "    }\n",
    "}\n",
    "\n",
    "scheduler = {\n",
    "    \"class_name\": \"torch.optim.lr_scheduler.ReduceLROnPlateau\",\n",
    "    \"params\": {\n",
    "        \"factor\": 0.1,\n",
    "        \"patience\": 3,\n",
    "        \"min_lr\": 1e-6,\n",
    "        \"threshold\": 1e-4,\n",
    "        \"verbose\": True,\n",
    "    }\n",
    "}\n",
    "\n",
    "early_stopping = {\n",
    "    \"class_name\": \"pytorch_lightning.callbacks.EarlyStopping\",\n",
    "    \"params\": {\n",
    "        \"monitor\": \"val_loss\",\n",
    "        \"mode\": \"min\",\n",
    "        \"patience\": 6,\n",
    "        \"verbose\": True,\n",
    "        \"min_delta\": 0.0001\n",
    "    }\n",
    "}\n",
    "\n",
    "model_checkpoint = {\n",
    "    \"class_name\": \"pytorch_lightning.callbacks.ModelCheckpoint\",\n",
    "    \"params\": {\n",
    "        \"monitor\": \"val_acc\",\n",
    "        \"mode\": \"max\",\n",
    "        \"save_top_k\": 1,\n",
    "        \"period\": 2,\n",
    "        \"save_weights_only\": False,\n",
    "        \"filename\": \"best\"\n",
    "    }\n",
    "}\n",
    "\n",
    "logger = {\n",
    "    \"class_name\": \"pytorch_lightning.loggers.CSVLogger\",\n",
    "    \"params\": {\n",
    "        \"save_dir\": root_dir,\n",
    "        \"name\": \"logs\"\n",
    "    }\n",
    "}\n",
    "\n",
    "random_rotation = {\n",
    "    \"class_name\": \"torchvision.transforms.RandomRotation\",\n",
    "    \"params\": {\n",
    "        \"degrees\": 75\n",
    "    }\n",
    "}\n",
    "\n",
    "reqdata = {\n",
    "    \"task\": \"cls.training.pl\",\n",
    "    \"cfg\": {\n",
    "        \"data\": {\n",
    "            \"train\": {\n",
    "                \"class_name\": \"raceai.data.process.LocalDataLoader\",  \n",
    "                \"params\": {\n",
    "                    \"data_source\": data_source,\n",
    "                    \"dataset\": {\n",
    "                        \"class_name\": \"raceai.data.JsonFileDataset\",\n",
    "                         \"params\": {\n",
    "                             \"input_size\": input_size,\n",
    "                             \"mean\": info['mean'],\n",
    "                             \"std\": info['std'],\n",
    "                             \"imgaugs\": [random_rotation]\n",
    "                         }\n",
    "                    },\n",
    "                    \"sample\": {\n",
    "                        \"batch_size\": 32,\n",
    "                        \"num_workers\": 4,\n",
    "                        \"drop_last\": True,\n",
    "                        \"shuffle\": False\n",
    "                    }\n",
    "                }\n",
    "            },\n",
    "            \"valid\": {\n",
    "                \"class_name\": \"raceai.data.process.LocalDataLoader\",  \n",
    "                \"params\": {\n",
    "                    \"data_source\": valid_data_source,\n",
    "                    \"dataset\": {\n",
    "                        \"class_name\": \"raceai.data.JsonFileDataset\",\n",
    "                         \"params\": {\n",
    "                             \"input_size\": input_size,\n",
    "                             \"mean\": info['mean'],\n",
    "                             \"std\": info['std']\n",
    "                         }\n",
    "                     },\n",
    "                     \"sample\": {\n",
    "                        \"batch_size\": 32,\n",
    "                        \"num_workers\": 4,\n",
    "                        \"drop_last\": False\n",
    "                    }\n",
    "                 }\n",
    "            },\n",
    "            \"test\": {\n",
    "                \"class_name\": \"raceai.data.process.LocalDataLoader\",  \n",
    "                \"params\": {\n",
    "                    \"data_source\": test_data_source,\n",
    "                    \"dataset\": {\n",
    "                        \"class_name\": \"raceai.data.JsonFileDataset\",\n",
    "                         \"params\": {\n",
    "                             \"input_size\": input_size,\n",
    "                             \"mean\": info['mean'],\n",
    "                             \"std\": info['std']\n",
    "                         }\n",
    "                     },\n",
    "                    \"sample\": {\n",
    "                        \"batch_size\": 32,\n",
    "                        \"num_workers\": 4,\n",
    "                    }\n",
    "                 }\n",
    "            }\n",
    "        },\n",
    "        \"model\": {\n",
    "            \"class_name\": f\"raceai.models.backbone.{model}\",  \n",
    "            \"params\": {\n",
    "                \"device\": 'gpu',\n",
    "                \"num_classes\": info['num_classes'],\n",
    "                \"weights\": True,\n",
    "            }\n",
    "        },\n",
    "        \"solver\": {\n",
    "            \"optimizer\": optimizer,\n",
    "            \"scheduler\": scheduler,\n",
    "            \"trainer\": {\n",
    "                \"class_name\": \"raceai.runner.pl.PlTrainer\",\n",
    "                \"params\": {\n",
    "                    \"callbacks\": [model_checkpoint],\n",
    "                    \"logger\": False,\n",
    "                    \"general\": {\n",
    "                        \"max_epochs\": 50,\n",
    "                        \"gpus\": 1,\n",
    "                        \"resume_from_checkpoint\": None,\n",
    "                        \"default_root_dir\": root_dir\n",
    "                    }\n",
    "                }\n",
    "            }\n",
    "        }\n",
    "    }\n",
    "}\n",
    "\n",
    "uri = f'{RACEURL}/raceai/framework/training'\n",
    "\n",
    "resdata = json.loads(requests.post(url=uri, json=reqdata).text)\n",
    "if 0 != resdata['errno']:\n",
    "    if 'traceback' in resdata['result']:\n",
    "        print(resdata['result']['traceback'])\n",
    "    else:\n",
    "        print(resdata)\n",
    "else:\n",
    "    print(resdata)"
   ]
  }
 ],
 "metadata": {
  "hide_input": false,
  "kernelspec": {
   "display_name": "Python 3",
   "language": "python",
   "name": "python3"
  },
  "language_info": {
   "codemirror_mode": {
    "name": "ipython",
    "version": 3
   },
   "file_extension": ".py",
   "mimetype": "text/x-python",
   "name": "python",
   "nbconvert_exporter": "python",
   "pygments_lexer": "ipython3",
   "version": "3.6.9"
  },
  "toc": {
   "base_numbering": 1,
   "nav_menu": {},
   "number_sections": true,
   "sideBar": true,
   "skip_h1_title": true,
   "title_cell": "",
   "title_sidebar": "Contents",
   "toc_cell": false,
   "toc_position": {},
   "toc_section_display": true,
   "toc_window_display": false
  }
 },
 "nbformat": 4,
 "nbformat_minor": 5
}
