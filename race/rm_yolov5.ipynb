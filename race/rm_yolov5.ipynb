{
 "cells": [
  {
   "cell_type": "code",
   "execution_count": 1,
   "metadata": {
    "ExecuteTime": {
     "end_time": "2020-11-18T12:05:25.040905Z",
     "start_time": "2020-11-18T11:38:35.424677Z"
    }
   },
   "outputs": [
    {
     "name": "stdout",
     "output_type": "stream",
     "text": [
      "Cloning into 'yolov5'...\n",
      "remote: Enumerating objects: 66, done.\u001b[K\n",
      "remote: Counting objects: 100% (66/66), done.\u001b[K\n",
      "remote: Compressing objects: 100% (61/61), done.\u001b[K\n",
      "remote: Total 66 (delta 8), reused 28 (delta 3), pack-reused 0\u001b[K\n",
      "Unpacking objects: 100% (66/66), done.\n",
      "Collecting Cython\n",
      "  Downloading Cython-0.29.21-cp36-cp36m-manylinux1_x86_64.whl (2.0 MB)\n",
      "\u001b[K     |████████████████████████████████| 2.0 MB 4.2 kB/s ta 0:00:011\n",
      "\u001b[?25hCollecting matplotlib>=3.2.2\n",
      "  Downloading matplotlib-3.3.3-cp36-cp36m-manylinux1_x86_64.whl (11.6 MB)\n",
      "\u001b[K     |████████████████████████████████| 11.6 MB 98 kB/s eta 0:00:011\n",
      "\u001b[?25hCollecting numpy>=1.18.5\n",
      "  Downloading numpy-1.19.4-cp36-cp36m-manylinux2010_x86_64.whl (14.5 MB)\n",
      "\u001b[K     |████████████████████████████████| 14.5 MB 29 kB/s eta 0:00:019\n",
      "\u001b[?25hCollecting opencv-python>=4.1.2\n",
      "  Downloading opencv_python-4.4.0.46-cp36-cp36m-manylinux2014_x86_64.whl (49.5 MB)\n",
      "\u001b[K     |███████████████████████████▊    | 42.9 MB 49 kB/s eta 0:02:143\u001b[31mERROR: Exception:\n",
      "Traceback (most recent call last):\n",
      "  File \"/usr/local/lib/python3.6/dist-packages/pip/_vendor/urllib3/response.py\", line 425, in _error_catcher\n",
      "    yield\n",
      "  File \"/usr/local/lib/python3.6/dist-packages/pip/_vendor/urllib3/response.py\", line 507, in read\n",
      "    data = self._fp.read(amt) if not fp_closed else b\"\"\n",
      "  File \"/usr/local/lib/python3.6/dist-packages/pip/_vendor/cachecontrol/filewrapper.py\", line 62, in read\n",
      "    data = self.__fp.read(amt)\n",
      "  File \"/usr/lib/python3.6/http/client.py\", line 459, in read\n",
      "    n = self.readinto(b)\n",
      "  File \"/usr/lib/python3.6/http/client.py\", line 503, in readinto\n",
      "    n = self.fp.readinto(b)\n",
      "  File \"/usr/lib/python3.6/socket.py\", line 586, in readinto\n",
      "    return self._sock.recv_into(b)\n",
      "  File \"/usr/lib/python3.6/ssl.py\", line 1012, in recv_into\n",
      "    return self.read(nbytes, buffer)\n",
      "  File \"/usr/lib/python3.6/ssl.py\", line 874, in read\n",
      "    return self._sslobj.read(len, buffer)\n",
      "  File \"/usr/lib/python3.6/ssl.py\", line 631, in read\n",
      "    v = self._sslobj.read(len, buffer)\n",
      "socket.timeout: The read operation timed out\n",
      "\n",
      "During handling of the above exception, another exception occurred:\n",
      "\n",
      "Traceback (most recent call last):\n",
      "  File \"/usr/local/lib/python3.6/dist-packages/pip/_internal/cli/base_command.py\", line 188, in _main\n",
      "    status = self.run(options, args)\n",
      "  File \"/usr/local/lib/python3.6/dist-packages/pip/_internal/cli/req_command.py\", line 185, in wrapper\n",
      "    return func(self, options, args)\n",
      "  File \"/usr/local/lib/python3.6/dist-packages/pip/_internal/commands/install.py\", line 333, in run\n",
      "    reqs, check_supported_wheels=not options.target_dir\n",
      "  File \"/usr/local/lib/python3.6/dist-packages/pip/_internal/resolution/legacy/resolver.py\", line 179, in resolve\n",
      "    discovered_reqs.extend(self._resolve_one(requirement_set, req))\n",
      "  File \"/usr/local/lib/python3.6/dist-packages/pip/_internal/resolution/legacy/resolver.py\", line 362, in _resolve_one\n",
      "    abstract_dist = self._get_abstract_dist_for(req_to_install)\n",
      "  File \"/usr/local/lib/python3.6/dist-packages/pip/_internal/resolution/legacy/resolver.py\", line 314, in _get_abstract_dist_for\n",
      "    abstract_dist = self.preparer.prepare_linked_requirement(req)\n",
      "  File \"/usr/local/lib/python3.6/dist-packages/pip/_internal/operations/prepare.py\", line 469, in prepare_linked_requirement\n",
      "    hashes=hashes,\n",
      "  File \"/usr/local/lib/python3.6/dist-packages/pip/_internal/operations/prepare.py\", line 259, in unpack_url\n",
      "    hashes=hashes,\n",
      "  File \"/usr/local/lib/python3.6/dist-packages/pip/_internal/operations/prepare.py\", line 130, in get_http_url\n",
      "    link, downloader, temp_dir.path, hashes\n",
      "  File \"/usr/local/lib/python3.6/dist-packages/pip/_internal/operations/prepare.py\", line 281, in _download_http_url\n",
      "    for chunk in download.chunks:\n",
      "  File \"/usr/local/lib/python3.6/dist-packages/pip/_internal/cli/progress_bars.py\", line 166, in iter\n",
      "    for x in it:\n",
      "  File \"/usr/local/lib/python3.6/dist-packages/pip/_internal/network/utils.py\", line 39, in response_chunks\n",
      "    decode_content=False,\n",
      "  File \"/usr/local/lib/python3.6/dist-packages/pip/_vendor/urllib3/response.py\", line 564, in stream\n",
      "    data = self.read(amt=amt, decode_content=decode_content)\n",
      "  File \"/usr/local/lib/python3.6/dist-packages/pip/_vendor/urllib3/response.py\", line 529, in read\n",
      "    raise IncompleteRead(self._fp_bytes_read, self.length_remaining)\n",
      "  File \"/usr/lib/python3.6/contextlib.py\", line 99, in __exit__\n",
      "    self.gen.throw(type, value, traceback)\n",
      "  File \"/usr/local/lib/python3.6/dist-packages/pip/_vendor/urllib3/response.py\", line 430, in _error_catcher\n",
      "    raise ReadTimeoutError(self._pool, None, \"Read timed out.\")\n",
      "pip._vendor.urllib3.exceptions.ReadTimeoutError: HTTPSConnectionPool(host='files.pythonhosted.org', port=443): Read timed out.\u001b[0m\n",
      "\u001b[33mWARNING: You are using pip version 20.1.1; however, version 20.2.4 is available.\n",
      "You should consider upgrading via the '/usr/bin/python3.6 -m pip install --upgrade pip' command.\u001b[0m\n"
     ]
    }
   ],
   "source": [
    "!git clone --depth 1 https://github.com/ultralytics/yolov5 \n",
    "!pip install -U -r yolov5/requirements.txt"
   ]
  },
  {
   "cell_type": "markdown",
   "metadata": {},
   "source": [
    "https://blog.roboflow.com/how-to-train-yolov5-on-a-custom-dataset/\n",
    "\n",
    "https://medium.com/towards-artificial-intelligence/yolo-v5-is-here-custom-object-detection-tutorial-with-yolo-v5-12666ee1774e\n",
    "\n",
    "https://towardsai.net/p/computer-vision/yolo-v5-object-detection-on-a-custom-dataset"
   ]
  },
  {
   "cell_type": "code",
   "execution_count": null,
   "metadata": {},
   "outputs": [],
   "source": []
  }
 ],
 "metadata": {
  "kernelspec": {
   "display_name": "Python 3",
   "language": "python",
   "name": "python3"
  },
  "language_info": {
   "codemirror_mode": {
    "name": "ipython",
    "version": 3
   },
   "file_extension": ".py",
   "mimetype": "text/x-python",
   "name": "python",
   "nbconvert_exporter": "python",
   "pygments_lexer": "ipython3",
   "version": "3.6.9"
  },
  "toc": {
   "base_numbering": 1,
   "nav_menu": {},
   "number_sections": true,
   "sideBar": true,
   "skip_h1_title": true,
   "title_cell": "",
   "title_sidebar": "Contents",
   "toc_cell": false,
   "toc_position": {},
   "toc_section_display": true,
   "toc_window_display": false
  }
 },
 "nbformat": 4,
 "nbformat_minor": 4
}
