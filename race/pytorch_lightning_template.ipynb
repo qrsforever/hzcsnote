{
 "cells": [
  {
   "cell_type": "code",
   "execution_count": 1,
   "metadata": {
    "ExecuteTime": {
     "end_time": "2021-03-01T08:31:49.540589Z",
     "start_time": "2021-03-01T08:31:47.675213Z"
    }
   },
   "outputs": [
    {
     "data": {
      "text/plain": [
       "('1.19.4', '1.8.0.dev20210103+cu101', '0.9.0.dev20210103+cu101', '1.2.0')"
      ]
     },
     "execution_count": 1,
     "metadata": {},
     "output_type": "execute_result"
    }
   ],
   "source": [
    "%reload_ext autoreload\n",
    "%autoreload 2\n",
    "%matplotlib inline\n",
    "\n",
    "import numpy as np\n",
    "import torch\n",
    "import torchvision\n",
    "import pytorch_lightning as pl\n",
    "\n",
    "import os\n",
    "import PIL.Image as Image\n",
    "import base64\n",
    "import io\n",
    "import json\n",
    "import requests\n",
    "from urllib.parse import urlencode\n",
    "from k12libs.utils.nb_easy import k12ai_get_top_dir, RACEURL\n",
    "\n",
    "np.__version__, torch.__version__, torchvision.__version__, pl.__version__"
   ]
  },
  {
   "cell_type": "markdown",
   "metadata": {},
   "source": [
    "## Dataset "
   ]
  },
  {
   "cell_type": "markdown",
   "metadata": {
    "ExecuteTime": {
     "end_time": "2020-11-30T12:20:53.678518Z",
     "start_time": "2020-11-30T12:20:53.530235Z"
    }
   },
   "source": [
    "### Garbage"
   ]
  },
  {
   "cell_type": "code",
   "execution_count": 220,
   "metadata": {
    "ExecuteTime": {
     "end_time": "2020-12-01T11:42:05.004517Z",
     "start_time": "2020-12-01T11:42:04.816044Z"
    }
   },
   "outputs": [],
   "source": [
    "model = 'Resnet18'\n",
    "root_dir = '/raceai/data/tmp/pl_rgarbage_resnet18'\n",
    "data_root = '/raceai/data/datasets/rgarbage/'\n",
    "input_size = 224\n",
    "mean = [\n",
    "    0.6535,\n",
    "    0.6132,\n",
    "    0.5643\n",
    "]\n",
    "std = [\n",
    "    0.2165,\n",
    "    0.2244,\n",
    "    0.2416\n",
    "]\n",
    "num_classes = 4\n",
    "data_source = f'{data_root}/train.json'\n",
    "valid_data_source = f\"{data_root}/val.json\"\n",
    "test_data_source = f\"{data_root}/test.json\"\n",
    "resume_weights = f\"/raceai/data/ckpts/rgarbage/pl_resnet18_acc85.pth\""
   ]
  },
  {
   "cell_type": "markdown",
   "metadata": {},
   "source": [
    "### Mnist"
   ]
  },
  {
   "cell_type": "code",
   "execution_count": 17,
   "metadata": {
    "ExecuteTime": {
     "end_time": "2021-03-01T10:36:34.646501Z",
     "start_time": "2021-03-01T10:36:34.611592Z"
    }
   },
   "outputs": [],
   "source": [
    "model = 'Resnet18'\n",
    "root_dir = '/raceai/data/tmp/pl_rmnist_resnet18'\n",
    "data_root = '/raceai/data/datasets/rmnist/'\n",
    "input_size = 28\n",
    "mean = [\n",
    "    0.1362,\n",
    "    0.1362,\n",
    "    0.1362\n",
    "]\n",
    "std = [\n",
    "    0.2893,\n",
    "    0.2893,\n",
    "    0.2893\n",
    "]\n",
    "num_classes = 10\n",
    "data_source = f'{data_root}/train.json'\n",
    "valid_data_source = f\"{data_root}/val.json\"\n",
    "test_data_source = f\"{data_root}/test_rotation.json\"\n",
    "resume_weights = f\"/raceai/data/ckpts/rmnist/pl_resnet18_rotation.pth\"\n",
    "# resume_weights = f\"/raceai/data/ckpts/rmnist/pl_resnet18_normal.pth\""
   ]
  },
  {
   "cell_type": "markdown",
   "metadata": {},
   "source": [
    "### CleanerRobot "
   ]
  },
  {
   "cell_type": "code",
   "execution_count": 50,
   "metadata": {
    "ExecuteTime": {
     "end_time": "2021-03-01T11:31:10.271192Z",
     "start_time": "2021-03-01T11:31:10.237242Z"
    }
   },
   "outputs": [],
   "source": [
    "model = 'Resnet18'\n",
    "root_dir = '/raceai/data/tmp/pl_cleaner_robot_resnet18'\n",
    "data_root = '/raceai/data/datasets/cleaner_robot/'\n",
    "input_size = 224\n",
    "mean = [\n",
    "    0.7566,\n",
    "    0.7323,\n",
    "    0.7016\n",
    "]\n",
    "std = [\n",
    "    0.1805,\n",
    "    0.194,\n",
    "    0.2195\n",
    "]\n",
    "num_classes = 3\n",
    "data_source = f'{data_root}/train.json'\n",
    "valid_data_source = f\"{data_root}/val.json\"\n",
    "test_data_source = f\"{data_root}/test.json\"\n",
    "resume_weights = f\"/raceai/data/ckpts/cleaner_robot/pl_resnet18_acc90.pth\""
   ]
  },
  {
   "cell_type": "markdown",
   "metadata": {},
   "source": [
    "## RestAPI"
   ]
  },
  {
   "cell_type": "markdown",
   "metadata": {},
   "source": [
    "### Training"
   ]
  },
  {
   "cell_type": "code",
   "execution_count": 26,
   "metadata": {
    "ExecuteTime": {
     "end_time": "2021-03-01T10:42:33.968454Z",
     "start_time": "2021-03-01T10:42:33.932565Z"
    }
   },
   "outputs": [],
   "source": [
    "optimizer = {\n",
    "    \"class_name\": \"torch.optim.Adam\",\n",
    "    \"params\": {\n",
    "        \"lr\": 0.001,\n",
    "        \"betas\": [0.9, 0.999],\n",
    "        \"weight_decay\": 0,\n",
    "        \"amsgrad\": True\n",
    "    }\n",
    "}\n",
    "\n",
    "# optimizer = {\n",
    "#     \"class_name\": \"torch.optim.SGD\",\n",
    "#     \"params\": {\n",
    "#         \"lr\": 0.001,\n",
    "#         \"momentum\": 0.9,\n",
    "#         \"weight_decay\": 0,\n",
    "#         \"nesterov\": True\n",
    "#     }\n",
    "# }\n",
    "# \n",
    "# scheduler = {\n",
    "#     \"class_name\": \"torch.optim.lr_scheduler.StepLR\",\n",
    "#     \"params\": {\n",
    "#         \"step_size\": 20,\n",
    "#         \"gamma\": 0.1\n",
    "#     }\n",
    "# }\n",
    "\n",
    "# scheduler = {\n",
    "#     \"class_name\": \"torch.optim.lr_scheduler.MultiStepLR\",\n",
    "#     \"params\": {\n",
    "#         \"milestones\": [20, 40],\n",
    "#         \"gamma\": 0.1\n",
    "#     }\n",
    "# }\n",
    "\n",
    "scheduler = {\n",
    "    \"class_name\": \"torch.optim.lr_scheduler.ReduceLROnPlateau\",\n",
    "    \"params\": {\n",
    "        \"factor\": 0.1,\n",
    "        \"patience\": 3,\n",
    "        \"min_lr\": 1e-6,\n",
    "        \"threshold\": 1e-4,\n",
    "        \"verbose\": True,\n",
    "    }\n",
    "}"
   ]
  },
  {
   "cell_type": "code",
   "execution_count": 67,
   "metadata": {
    "ExecuteTime": {
     "end_time": "2021-03-02T06:45:35.042708Z",
     "start_time": "2021-03-02T06:44:44.927323Z"
    }
   },
   "outputs": [
    {
     "name": "stdout",
     "output_type": "stream",
     "text": [
      "{'errno': 0, 'result': [{'test_acc': 0.9411764740943909}]}\n"
     ]
    }
   ],
   "source": [
    "early_stopping = {\n",
    "    \"class_name\": \"pytorch_lightning.callbacks.EarlyStopping\",\n",
    "    \"params\": {\n",
    "        \"monitor\": \"val_loss\",\n",
    "        \"mode\": \"min\",\n",
    "        \"patience\": 6,\n",
    "        \"verbose\": True,\n",
    "        \"min_delta\": 0.0001\n",
    "    }\n",
    "}\n",
    "\n",
    "model_checkpoint = {\n",
    "    \"class_name\": \"pytorch_lightning.callbacks.ModelCheckpoint\",\n",
    "    \"params\": {\n",
    "        \"monitor\": \"val_acc\",\n",
    "        \"mode\": \"max\",\n",
    "        \"save_top_k\": 1,\n",
    "        \"period\": 2,\n",
    "        \"save_weights_only\": False,\n",
    "        \"filename\": \"best\"\n",
    "    }\n",
    "}\n",
    "\n",
    "logger = {\n",
    "    \"class_name\": \"pytorch_lightning.loggers.CSVLogger\",\n",
    "    \"params\": {\n",
    "        \"save_dir\": root_dir,\n",
    "        \"name\": \"logs\"\n",
    "    }\n",
    "}\n",
    "\n",
    "random_rotation = {\n",
    "    \"class_name\": \"torchvision.transforms.RandomRotation\",\n",
    "    \"params\": {\n",
    "        \"degrees\": 75\n",
    "    }\n",
    "}\n",
    "\n",
    "reqdata = {\n",
    "    \"task\": \"cls.training.pl\",\n",
    "    \"cfg\": {\n",
    "        \"data\": {\n",
    "            \"train\": {\n",
    "                \"class_name\": \"raceai.data.process.LocalDataLoader\",  \n",
    "                \"params\": {\n",
    "                    \"data_source\": data_source,\n",
    "                    \"dataset\": {\n",
    "                        \"class_name\": \"raceai.data.JsonFileDataset\",\n",
    "                         \"params\": {\n",
    "                             \"input_size\": input_size,\n",
    "                             \"mean\": mean,\n",
    "                             \"std\": std,\n",
    "                             \"imgaugs\": [random_rotation]\n",
    "                         }\n",
    "                    },\n",
    "                    \"sample\": {\n",
    "                        \"batch_size\": 32,\n",
    "                        \"num_workers\": 4,\n",
    "                        \"drop_last\": True,\n",
    "                        \"shuffle\": True\n",
    "                    }\n",
    "                }\n",
    "            },\n",
    "            \"valid\": {\n",
    "                \"class_name\": \"raceai.data.process.LocalDataLoader\",  \n",
    "                \"params\": {\n",
    "                    \"data_source\": valid_data_source,\n",
    "                    \"dataset\": {\n",
    "                        \"class_name\": \"raceai.data.JsonFileDataset\",\n",
    "                         \"params\": {\n",
    "                             \"input_size\": input_size,\n",
    "                             \"mean\": mean,\n",
    "                             \"std\": std,\n",
    "                         }\n",
    "                     },\n",
    "                     \"sample\": {\n",
    "                        \"batch_size\": 32,\n",
    "                        \"num_workers\": 4,\n",
    "                        \"drop_last\": False\n",
    "                    }\n",
    "                 }\n",
    "            },\n",
    "            \"test\": {\n",
    "                \"class_name\": \"raceai.data.process.LocalDataLoader\",  \n",
    "                \"params\": {\n",
    "                    \"data_source\": test_data_source,\n",
    "                    \"dataset\": {\n",
    "                        \"class_name\": \"raceai.data.JsonFileDataset\",\n",
    "                         \"params\": {\n",
    "                             \"input_size\": input_size,\n",
    "                             \"mean\": mean,\n",
    "                             \"std\": std,\n",
    "                         }\n",
    "                     },\n",
    "                    \"sample\": {\n",
    "                        \"batch_size\": 32,\n",
    "                        \"num_workers\": 4,\n",
    "                    }\n",
    "                 }\n",
    "            }\n",
    "        },\n",
    "        \"model\": {\n",
    "            \"class_name\": f\"raceai.models.backbone.{model}\",  \n",
    "            \"params\": {\n",
    "                \"device\": 'gpu',\n",
    "                \"num_classes\": num_classes,\n",
    "                \"weights\": True,\n",
    "            }\n",
    "        },\n",
    "        \"solver\": {\n",
    "            \"optimizer\": optimizer,\n",
    "            \"scheduler\": scheduler,\n",
    "            \"trainer\": {\n",
    "                \"class_name\": \"raceai.runner.pl.PlTrainer\",\n",
    "                \"params\": {\n",
    "                    \"callbacks\": [model_checkpoint],\n",
    "                    \"logger\": False,\n",
    "                    \"general\": {\n",
    "                        \"max_epochs\": 30,\n",
    "                        \"gpus\": 1,\n",
    "                        \"resume_from_checkpoint\": None,\n",
    "                        \"default_root_dir\": root_dir\n",
    "                    }\n",
    "                }\n",
    "            }\n",
    "        }\n",
    "    }\n",
    "}\n",
    "\n",
    "uri = f'{RACEURL}/raceai/framework/training'\n",
    "\n",
    "resdata = json.loads(requests.post(url=uri, json=reqdata).text)\n",
    "if 0 != resdata['errno']:\n",
    "    if 'traceback' in resdata['result']:\n",
    "        print(resdata['result']['traceback'])\n",
    "    else:\n",
    "        print(resdata)\n",
    "else:\n",
    "    print(resdata)"
   ]
  },
  {
   "cell_type": "markdown",
   "metadata": {},
   "source": [
    "### Inference(json)"
   ]
  },
  {
   "cell_type": "code",
   "execution_count": 77,
   "metadata": {
    "ExecuteTime": {
     "end_time": "2021-03-02T07:29:26.842050Z",
     "start_time": "2021-03-02T07:29:20.329106Z"
    }
   },
   "outputs": [
    {
     "name": "stdout",
     "output_type": "stream",
     "text": [
      "{'errno': 0, 'result': [{'image_id': 2, 'image_path': '/raceai/data/datasets/cleaner_robot/imgs/other/paper_11.jpg', 'probs': [2.40847330132965e-05, 0.0015751824248582125, 0.9984007477760315], 'probs_sorted': {'indices': [2, 1, 0], 'values': [0.9984007477760315, 0.0015751824248582125, 2.40847330132965e-05]}}, {'image_id': 2, 'image_path': '/raceai/data/datasets/cleaner_robot/imgs/other/paper_15.jpg', 'probs': [0.31497329473495483, 0.01957719773054123, 0.6654495000839233], 'probs_sorted': {'indices': [2, 0, 1], 'values': [0.6654495000839233, 0.31497329473495483, 0.01957719773054123]}}, {'image_id': 2, 'image_path': '/raceai/data/datasets/cleaner_robot/imgs/other/cigarette_12.jpeg', 'probs': [4.701891612057807e-06, 7.6005103437637445e-06, 0.9999877214431763], 'probs_sorted': {'indices': [2, 1, 0], 'values': [0.9999877214431763, 7.6005103437637445e-06, 4.701891612057807e-06]}}, {'image_id': 0, 'image_path': '/raceai/data/datasets/cleaner_robot/imgs/ring/ring_4.jpg', 'probs': [0.9982069730758667, 0.00037510268157348037, 0.0014179196441546082], 'probs_sorted': {'indices': [0, 2, 1], 'values': [0.9982069730758667, 0.0014179196441546082, 0.00037510268157348037]}}, {'image_id': 0, 'image_path': '/raceai/data/datasets/cleaner_robot/imgs/ring/ring_21.jpg', 'probs': [0.9744567275047302, 0.0241974126547575, 0.0013458823086693883], 'probs_sorted': {'indices': [0, 1, 2], 'values': [0.9744567275047302, 0.0241974126547575, 0.0013458823086693883]}}, {'image_id': 1, 'image_path': '/raceai/data/datasets/cleaner_robot/imgs/cable/cable_5.jpg', 'probs': [0.00011358539632055908, 0.9997881054878235, 9.832021896727383e-05], 'probs_sorted': {'indices': [1, 0, 2], 'values': [0.9997881054878235, 0.00011358539632055908, 9.832021896727383e-05]}}, {'image_id': 1, 'image_path': '/raceai/data/datasets/cleaner_robot/imgs/cable/cable_17.jpg', 'probs': [6.343847053358331e-05, 0.9999089241027832, 2.761156611086335e-05], 'probs_sorted': {'indices': [1, 0, 2], 'values': [0.9999089241027832, 6.343847053358331e-05, 2.761156611086335e-05]}}, {'image_id': 2, 'image_path': '/raceai/data/datasets/cleaner_robot/imgs/other/paper_13.jpg', 'probs': [5.817163994947805e-08, 9.21799164643744e-06, 0.9999908208847046], 'probs_sorted': {'indices': [2, 1, 0], 'values': [0.9999908208847046, 9.21799164643744e-06, 5.817163994947805e-08]}}, {'image_id': 0, 'image_path': '/raceai/data/datasets/cleaner_robot/imgs/ring/ring_6.jpg', 'probs': [0.9939531683921814, 0.005910501349717379, 0.00013630292960442603], 'probs_sorted': {'indices': [0, 1, 2], 'values': [0.9939531683921814, 0.005910501349717379, 0.00013630292960442603]}}, {'image_id': 2, 'image_path': '/raceai/data/datasets/cleaner_robot/imgs/other/paper_12.jpg', 'probs': [3.8007692637620494e-06, 0.0002369886205997318, 0.9997592568397522], 'probs_sorted': {'indices': [2, 1, 0], 'values': [0.9997592568397522, 0.0002369886205997318, 3.8007692637620494e-06]}}, {'image_id': 0, 'image_path': '/raceai/data/datasets/cleaner_robot/imgs/ring/ring_32.jpg', 'probs': [0.9765706658363342, 0.021235905587673187, 0.002193424152210355], 'probs_sorted': {'indices': [0, 1, 2], 'values': [0.9765706658363342, 0.021235905587673187, 0.002193424152210355]}}, {'image_id': 2, 'image_path': '/raceai/data/datasets/cleaner_robot/imgs/other/paper_7.jpg', 'probs': [2.9406436397039215e-07, 0.00045193993719294667, 0.9995477795600891], 'probs_sorted': {'indices': [2, 1, 0], 'values': [0.9995477795600891, 0.00045193993719294667, 2.9406436397039215e-07]}}, {'image_id': 0, 'image_path': '/raceai/data/datasets/cleaner_robot/imgs/ring/ring_1.jpg', 'probs': [0.9999995231628418, 4.6700412781319756e-07, 3.2714002173861445e-08], 'probs_sorted': {'indices': [0, 1, 2], 'values': [0.9999995231628418, 4.6700412781319756e-07, 3.2714002173861445e-08]}}, {'image_id': 0, 'image_path': '/raceai/data/datasets/cleaner_robot/imgs/ring/ring_7.jpg', 'probs': [0.9931909441947937, 0.003908321261405945, 0.0029007536359131336], 'probs_sorted': {'indices': [0, 1, 2], 'values': [0.9931909441947937, 0.003908321261405945, 0.0029007536359131336]}}, {'image_id': 0, 'image_path': '/raceai/data/datasets/cleaner_robot/imgs/ring/ring_8.jpg', 'probs': [0.38408803939819336, 0.6156585216522217, 0.00025343542802147567], 'probs_sorted': {'indices': [1, 0, 2], 'values': [0.6156585216522217, 0.38408803939819336, 0.00025343542802147567]}}, {'image_id': 1, 'image_path': '/raceai/data/datasets/cleaner_robot/imgs/cable/cable_30.jpeg', 'probs': [4.0005990740610287e-05, 0.9999568462371826, 3.1453737392439507e-06], 'probs_sorted': {'indices': [1, 0, 2], 'values': [0.9999568462371826, 4.0005990740610287e-05, 3.1453737392439507e-06]}}, {'image_id': 0, 'image_path': '/raceai/data/datasets/cleaner_robot/imgs/ring/ring_5.jpg', 'probs': [0.9998032450675964, 8.256352884927765e-05, 0.00011420265946071595], 'probs_sorted': {'indices': [0, 2, 1], 'values': [0.9998032450675964, 0.00011420265946071595, 8.256352884927765e-05]}}]}\n"
     ]
    }
   ],
   "source": [
    "reqdata = {\n",
    "    \"task\": \"cls.inference.pl\",\n",
    "    \"cfg\": {\n",
    "        \"data\": {\n",
    "            \"class_name\": \"raceai.data.process.LocalDataLoader\",  \n",
    "            \"params\": {\n",
    "                \"data_source\": test_data_source,\n",
    "                \"dataset\": {\n",
    "                    \"class_name\": \"raceai.data.JsonFileDataset\",\n",
    "                     \"params\": {\n",
    "                         \"input_size\": input_size,\n",
    "                         \"mean\": mean,\n",
    "                         \"std\": std\n",
    "                     }\n",
    "                 },\n",
    "                \"sample\": {\n",
    "                    \"batch_size\": 32,\n",
    "                    \"num_workers\": 4,\n",
    "                }\n",
    "             }\n",
    "        },\n",
    "        \"model\": {\n",
    "            \"class_name\": f\"raceai.models.backbone.{model}\",  \n",
    "            \"params\": {\n",
    "                \"device\": 'gpu',\n",
    "                \"num_classes\": num_classes,\n",
    "                \"weights\": False\n",
    "            }\n",
    "        },\n",
    "        \"trainer\": {\n",
    "            \"default_root_dir\": root_dir,\n",
    "            \"gpus\": 1,\n",
    "            \"resume_from_checkpoint\": resume_weights\n",
    "        }\n",
    "    }\n",
    "}\n",
    "\n",
    "uri = f'{RACEURL}/raceai/framework/inference'\n",
    "\n",
    "resdata = json.loads(requests.post(url=uri, json=reqdata).text)\n",
    "if 0 != resdata['errno']:\n",
    "    if 'traceback' in resdata['result']:\n",
    "        print(resdata['result']['traceback'])\n",
    "    else:\n",
    "        print(resdata)\n",
    "else:\n",
    "    print(resdata)"
   ]
  },
  {
   "cell_type": "markdown",
   "metadata": {},
   "source": [
    "### Inference(url)"
   ]
  },
  {
   "cell_type": "code",
   "execution_count": 78,
   "metadata": {
    "ExecuteTime": {
     "end_time": "2021-03-02T07:31:32.485512Z",
     "start_time": "2021-03-02T07:31:25.411120Z"
    }
   },
   "outputs": [
    {
     "name": "stdout",
     "output_type": "stream",
     "text": [
      "{'errno': 0, 'result': [{'image_id': '-1', 'image_path': '/tmp/tmpx_pc6cmk/39c1e05e0371cde9.jpg', 'probs': [0.0023420988582074642, 0.9976153373718262, 4.260418063495308e-05], 'probs_sorted': {'indices': [1, 0, 2], 'values': [0.9976153373718262, 0.0023420988582074642, 4.260418063495308e-05]}}, {'image_id': '-1', 'image_path': '/tmp/tmpx_pc6cmk/e621772e901d6d2f0ff072582e430173.jpg%40f_webp%2Cq_90', 'probs': [0.9999988079071045, 1.2288410289329477e-06, 4.06742373115776e-08], 'probs_sorted': {'indices': [0, 1, 2], 'values': [0.9999988079071045, 1.2288410289329477e-06, 4.06742373115776e-08]}}, {'image_id': '-1', 'image_path': '/tmp/tmpx_pc6cmk/2976462bd67042d5b1b14c1d0f4a6717.jpeg', 'probs': [5.383871126696249e-09, 3.1869282679508615e-07, 0.9999996423721313], 'probs_sorted': {'indices': [2, 1, 0], 'values': [0.9999996423721313, 3.1869282679508615e-07, 5.383871126696249e-09]}}, {'image_id': '-1', 'image_path': '/raceai/data/datasets/cleaner_robot/imgs/ring/ring_5.jpg', 'probs': [0.9998032450675964, 8.256352884927765e-05, 0.00011420287773944438], 'probs_sorted': {'indices': [0, 2, 1], 'values': [0.9998032450675964, 0.00011420287773944438, 8.256352884927765e-05]}}, {'image_id': '-1', 'image_path': '/raceai/data/datasets/cleaner_robot/imgs/cable/cable_5.jpg', 'probs': [0.00011358539632055908, 0.9997881054878235, 9.832031355472282e-05], 'probs_sorted': {'indices': [1, 0, 2], 'values': [0.9997881054878235, 0.00011358539632055908, 9.832031355472282e-05]}}]}\n"
     ]
    }
   ],
   "source": [
    "reqdata = {\n",
    "    \"task\": \"cls.inference.pl\",\n",
    "    \"cfg\": {\n",
    "        \"data\": {\n",
    "            \"class_name\": \"raceai.data.process.PathListDataLoader\",  \n",
    "            \"params\": {\n",
    "                \"data_source\": [\n",
    "                    \"https://img14.360buyimg.com/n0/jfs/t1/115543/8/11330/109373/5efc3fcdE2dfb9242/39c1e05e0371cde9.jpg\",\n",
    "                    \"https://jmy-pic.wejianzhan.com/0/pic/e621772e901d6d2f0ff072582e430173.jpg@f_webp,q_90\",\n",
    "                    \"http://5b0988e595225.cdn.sohucs.com/images/20190201/2976462bd67042d5b1b14c1d0f4a6717.jpeg\",\n",
    "                    \"/raceai/data/datasets/cleaner_robot/imgs/ring/ring_5.jpg\",\n",
    "                    \"/raceai/data/datasets/cleaner_robot/imgs/cable/cable_5.jpg\",\n",
    "                ],\n",
    "                \"dataset\": {\n",
    "                    \"class_name\": \"raceai.data.PredictListImageDataset\",\n",
    "                     \"params\": {\n",
    "                         \"input_size\": input_size,\n",
    "                         \"mean\": mean,\n",
    "                         \"std\": std\n",
    "                     }\n",
    "                 },\n",
    "                \"sample\": {\n",
    "                    \"batch_size\": 32,\n",
    "                    \"num_workers\": 4,\n",
    "                }\n",
    "             }\n",
    "        },\n",
    "        \"model\": {\n",
    "            \"class_name\": f\"raceai.models.backbone.{model}\",  \n",
    "            \"params\": {\n",
    "                \"device\": 'gpu',\n",
    "                \"num_classes\": num_classes,\n",
    "                \"weights\": False\n",
    "            }\n",
    "        },\n",
    "        \"trainer\": {\n",
    "            \"default_root_dir\": root_dir,\n",
    "            \"gpus\": 1,\n",
    "            \"resume_from_checkpoint\": resume_weights\n",
    "        }\n",
    "    }\n",
    "}\n",
    "\n",
    "uri = f'{RACEURL}/raceai/framework/inference'\n",
    "\n",
    "resdata = json.loads(requests.post(url=uri, json=reqdata).text)\n",
    "if 0 != resdata['errno']:\n",
    "    if 'traceback' in resdata['result']:\n",
    "        print(resdata['result']['traceback'])\n",
    "    else:\n",
    "        print(resdata)\n",
    "else:\n",
    "    print(resdata)"
   ]
  }
 ],
 "metadata": {
  "kernelspec": {
   "display_name": "Python 3",
   "language": "python",
   "name": "python3"
  },
  "language_info": {
   "codemirror_mode": {
    "name": "ipython",
    "version": 3
   },
   "file_extension": ".py",
   "mimetype": "text/x-python",
   "name": "python",
   "nbconvert_exporter": "python",
   "pygments_lexer": "ipython3",
   "version": "3.6.9"
  },
  "toc": {
   "base_numbering": 1,
   "nav_menu": {},
   "number_sections": true,
   "sideBar": true,
   "skip_h1_title": true,
   "title_cell": "",
   "title_sidebar": "Contents",
   "toc_cell": false,
   "toc_position": {},
   "toc_section_display": true,
   "toc_window_display": false
  }
 },
 "nbformat": 4,
 "nbformat_minor": 4
}
