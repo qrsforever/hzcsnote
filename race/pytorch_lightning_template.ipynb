{
 "cells": [
  {
   "cell_type": "code",
   "execution_count": 184,
   "metadata": {
    "ExecuteTime": {
     "end_time": "2020-11-30T15:54:04.305690Z",
     "start_time": "2020-11-30T15:54:04.095332Z"
    }
   },
   "outputs": [
    {
     "data": {
      "text/plain": [
       "('1.18.5', '1.6.0.dev20200609+cu101', '0.7.0.dev20200609+cu101', '1.0.8')"
      ]
     },
     "execution_count": 184,
     "metadata": {},
     "output_type": "execute_result"
    }
   ],
   "source": [
    "%reload_ext autoreload\n",
    "%autoreload 2\n",
    "%matplotlib inline\n",
    "\n",
    "import numpy as np\n",
    "import torch\n",
    "import torchvision\n",
    "import pytorch_lightning as pl\n",
    "\n",
    "import os\n",
    "import PIL.Image as Image\n",
    "import base64\n",
    "import io\n",
    "import json\n",
    "import requests\n",
    "from urllib.parse import urlencode\n",
    "from k12libs.utils.nb_easy import k12ai_get_top_dir, RACEURL\n",
    "\n",
    "np.__version__, torch.__version__, torchvision.__version__, pl.__version__"
   ]
  },
  {
   "cell_type": "markdown",
   "metadata": {},
   "source": [
    "## Dataset "
   ]
  },
  {
   "cell_type": "markdown",
   "metadata": {
    "ExecuteTime": {
     "end_time": "2020-11-30T12:20:53.678518Z",
     "start_time": "2020-11-30T12:20:53.530235Z"
    }
   },
   "source": [
    "### Garbage"
   ]
  },
  {
   "cell_type": "code",
   "execution_count": 220,
   "metadata": {
    "ExecuteTime": {
     "end_time": "2020-12-01T11:42:05.004517Z",
     "start_time": "2020-12-01T11:42:04.816044Z"
    }
   },
   "outputs": [],
   "source": [
    "model = 'Resnet18'\n",
    "root_dir = '/raceai/data/tmp/pl_rgarbage_resnet18'\n",
    "data_root = '/raceai/data/datasets/rgarbage/'\n",
    "input_size = 224\n",
    "mean = [\n",
    "    0.6535,\n",
    "    0.6132,\n",
    "    0.5643\n",
    "]\n",
    "std = [\n",
    "    0.2165,\n",
    "    0.2244,\n",
    "    0.2416\n",
    "]\n",
    "num_classes = 4"
   ]
  },
  {
   "cell_type": "markdown",
   "metadata": {},
   "source": [
    "### Mnist"
   ]
  },
  {
   "cell_type": "code",
   "execution_count": 190,
   "metadata": {
    "ExecuteTime": {
     "end_time": "2020-11-30T15:54:53.694390Z",
     "start_time": "2020-11-30T15:54:53.516566Z"
    }
   },
   "outputs": [],
   "source": [
    "model = 'Resnet18'\n",
    "root_dir = '/raceai/data/tmp/pl_rmnist_resnet18'\n",
    "data_root = '/raceai/data/datasets/rmnist/'\n",
    "input_size = 28\n",
    "mean = [\n",
    "    0.1362,\n",
    "    0.1362,\n",
    "    0.1362\n",
    "]\n",
    "std = [\n",
    "    0.2893,\n",
    "    0.2893,\n",
    "    0.2893\n",
    "]\n",
    "num_classes = 10"
   ]
  },
  {
   "cell_type": "markdown",
   "metadata": {},
   "source": [
    "## RestAPI"
   ]
  },
  {
   "cell_type": "markdown",
   "metadata": {},
   "source": [
    "### Training"
   ]
  },
  {
   "cell_type": "code",
   "execution_count": 221,
   "metadata": {
    "ExecuteTime": {
     "end_time": "2020-12-01T11:42:06.801484Z",
     "start_time": "2020-12-01T11:42:06.607445Z"
    }
   },
   "outputs": [],
   "source": [
    "optimizer = {\n",
    "    \"class_name\": \"torch.optim.Adam\",\n",
    "    \"params\": {\n",
    "        \"lr\": 0.001,\n",
    "        \"betas\": [0.9, 0.999],\n",
    "        \"weight_decay\": 0,\n",
    "        \"amsgrad\": True\n",
    "    }\n",
    "}\n",
    "\n",
    "# optimizer = {\n",
    "#     \"class_name\": \"torch.optim.SGD\",\n",
    "#     \"params\": {\n",
    "#         \"lr\": 0.001,\n",
    "#         \"momentum\": 0.9,\n",
    "#         \"weight_decay\": 0,\n",
    "#         \"nesterov\": True\n",
    "#     }\n",
    "# }\n",
    "# \n",
    "# scheduler = {\n",
    "#     \"class_name\": \"torch.optim.lr_scheduler.StepLR\",\n",
    "#     \"params\": {\n",
    "#         \"step_size\": 20,\n",
    "#         \"gamma\": 0.1\n",
    "#     }\n",
    "# }\n",
    "\n",
    "# scheduler = {\n",
    "#     \"class_name\": \"torch.optim.lr_scheduler.MultiStepLR\",\n",
    "#     \"params\": {\n",
    "#         \"milestones\": [20, 40],\n",
    "#         \"gamma\": 0.1\n",
    "#     }\n",
    "# }\n",
    "\n",
    "scheduler = {\n",
    "    \"class_name\": \"torch.optim.lr_scheduler.ReduceLROnPlateau\",\n",
    "    \"params\": {\n",
    "        \"factor\": 0.1,\n",
    "        \"patience\": 3,\n",
    "        \"min_lr\": 1e-6,\n",
    "        \"threshold\": 1e-4,\n",
    "        \"verbose\": True,\n",
    "    }\n",
    "}"
   ]
  },
  {
   "cell_type": "code",
   "execution_count": 227,
   "metadata": {
    "ExecuteTime": {
     "end_time": "2020-12-01T12:09:16.607722Z",
     "start_time": "2020-12-01T12:06:10.423022Z"
    }
   },
   "outputs": [
    {
     "name": "stdout",
     "output_type": "stream",
     "text": [
      "Traceback (most recent call last):\n",
      "  File \"/raceai/codes/app/raceai/utils/misc.py\", line 83, in _target\n",
      "    queue.put(func(*args))\n",
      "  File \"/raceai/codes/app/raceai/runner/training.py\", line 59, in pl_classifier_fit\n",
      "    result = classifier.test(test_loader)\n",
      "  File \"/raceai/codes/app/raceai/runner/pl.py\", line 102, in test\n",
      "    return self.trainer.test(self, test_loader)\n",
      "  File \"/raceai/codes/projects/pytorch-lightning/pytorch_lightning/trainer/trainer.py\", line 733, in test\n",
      "    results = self.__test_given_model(model, test_dataloaders)\n",
      "  File \"/raceai/codes/projects/pytorch-lightning/pytorch_lightning/trainer/trainer.py\", line 798, in __test_given_model\n",
      "    results = self.fit(model)\n",
      "  File \"/raceai/codes/projects/pytorch-lightning/pytorch_lightning/trainer/trainer.py\", line 445, in fit\n",
      "    results = self.accelerator_backend.train()\n",
      "  File \"/raceai/codes/projects/pytorch-lightning/pytorch_lightning/accelerators/gpu_accelerator.py\", line 63, in train\n",
      "    results = self.train_or_test()\n",
      "  File \"/raceai/codes/projects/pytorch-lightning/pytorch_lightning/accelerators/accelerator.py\", line 72, in train_or_test\n",
      "    results = self.trainer.run_test()\n",
      "  File \"/raceai/codes/projects/pytorch-lightning/pytorch_lightning/trainer/trainer.py\", line 640, in run_test\n",
      "    eval_loop_results, _ = self.run_evaluation(test_mode=True)\n",
      "  File \"/raceai/codes/projects/pytorch-lightning/pytorch_lightning/trainer/trainer.py\", line 618, in run_evaluation\n",
      "    num_dataloaders=len(dataloaders)\n",
      "TypeError: can't convert cuda:0 device type tensor to numpy. Use Tensor.cpu() to copy the tensor to host memory first.\n",
      "\n"
     ]
    }
   ],
   "source": [
    "early_stopping = {\n",
    "    \"class_name\": \"pytorch_lightning.callbacks.EarlyStopping\",\n",
    "    \"params\": {\n",
    "        \"monitor\": \"val_loss\",\n",
    "        \"mode\": \"min\",\n",
    "        \"patience\": 6,\n",
    "        \"verbose\": True,\n",
    "        \"min_delta\": 0.0001\n",
    "    }\n",
    "}\n",
    "\n",
    "model_checkpoint = {\n",
    "    \"class_name\": \"pytorch_lightning.callbacks.ModelCheckpoint\",\n",
    "    \"params\": {\n",
    "        \"monitor\": \"val_acc\",\n",
    "        \"mode\": \"max\",\n",
    "        \"save_top_k\": 1,\n",
    "        \"period\": 2,\n",
    "        \"save_weights_only\": False,\n",
    "        \"filename\": \"best\"\n",
    "    }\n",
    "}\n",
    "\n",
    "logger = {\n",
    "    \"class_name\": \"pytorch_lightning.loggers.CSVLogger\",\n",
    "    \"params\": {\n",
    "        \"save_dir\": root_dir,\n",
    "        \"name\": \"logs\"\n",
    "    }\n",
    "}\n",
    "\n",
    "random_rotation = {\n",
    "    \"class_name\": \"torchvision.transforms.RandomRotation\",\n",
    "    \"params\": {\n",
    "        \"degrees\": 75\n",
    "    }\n",
    "}\n",
    "\n",
    "reqdata = {\n",
    "    \"task\": \"cls.training.pl\",\n",
    "    \"cfg\": {\n",
    "        \"versions\": {\n",
    "            \"torch\": \"1.7.0.dev20200819+cu101\",\n",
    "            \"torchvision\": \"0.8.0.dev20200828+cu101\",\n",
    "            \"pytorch_lightning\": \"1.0.4\"\n",
    "        },\n",
    "        \"data\": {\n",
    "            \"train\": {\n",
    "                \"class_name\": \"raceai.data.process.LocalDataLoader\",  \n",
    "                \"params\": {\n",
    "                    \"data_source\": f\"{data_root}/train.json\",\n",
    "                    \"dataset\": {\n",
    "                        \"class_name\": \"raceai.data.JsonFileDataset\",\n",
    "                         \"params\": {\n",
    "                             \"input_size\": input_size,\n",
    "                             \"mean\": mean,\n",
    "                             \"std\": std,\n",
    "                             \"imgaugs\": []\n",
    "                         }\n",
    "                    },\n",
    "                    \"sample\": {\n",
    "                        \"batch_size\": 32,\n",
    "                        \"num_workers\": 4,\n",
    "                        \"drop_last\": True,\n",
    "                        \"shuffle\": True\n",
    "                    }\n",
    "                }\n",
    "            },\n",
    "            \"valid\": {\n",
    "                \"class_name\": \"raceai.data.process.LocalDataLoader\",  \n",
    "                \"params\": {\n",
    "                    \"data_source\": f\"{data_root}/val.json\",\n",
    "                    \"dataset\": {\n",
    "                        \"class_name\": \"raceai.data.JsonFileDataset\",\n",
    "                         \"params\": {\n",
    "                             \"input_size\": input_size,\n",
    "                             \"mean\": mean,\n",
    "                             \"std\": std,\n",
    "                         }\n",
    "                     },\n",
    "                     \"sample\": {\n",
    "                        \"batch_size\": 32,\n",
    "                        \"num_workers\": 4,\n",
    "                        \"drop_last\": False\n",
    "                    }\n",
    "                 }\n",
    "            },\n",
    "            \"test\": {\n",
    "                \"class_name\": \"raceai.data.process.LocalDataLoader\",  \n",
    "                \"params\": {\n",
    "                    \"data_source\": f\"{data_root}/test.json\",\n",
    "                    \"dataset\": {\n",
    "                        \"class_name\": \"raceai.data.JsonFileDataset\",\n",
    "                         \"params\": {\n",
    "                             \"input_size\": input_size,\n",
    "                             \"mean\": mean,\n",
    "                             \"std\": std,\n",
    "                         }\n",
    "                     },\n",
    "                    \"sample\": {\n",
    "                        \"batch_size\": 32,\n",
    "                        \"num_workers\": 4,\n",
    "                    }\n",
    "                 }\n",
    "            }\n",
    "        },\n",
    "        \"model\": {\n",
    "            \"class_name\": f\"raceai.models.backbone.{model}\",  \n",
    "            \"params\": {\n",
    "                \"device\": 'gpu',\n",
    "                \"num_classes\": num_classes,\n",
    "                \"weights\": True,\n",
    "            }\n",
    "        },\n",
    "        \"solver\": {\n",
    "            \"optimizer\": optimizer,\n",
    "            \"scheduler\": scheduler,\n",
    "            \"trainer\": {\n",
    "                \"class_name\": \"raceai.runner.pl.PlTrainer\",\n",
    "                \"params\": {\n",
    "                    \"callbacks\": [model_checkpoint],\n",
    "                    \"logger\": False,\n",
    "                    \"general\": {\n",
    "                        \"max_epochs\": 8,\n",
    "                        \"gpus\": [0],\n",
    "                        \"resume_from_checkpoint\": None,\n",
    "                        \"default_root_dir\": root_dir\n",
    "                    }\n",
    "                }\n",
    "            }\n",
    "        }\n",
    "    }\n",
    "}\n",
    "\n",
    "uri = f'{RACEURL}/raceai/framework/training'\n",
    "\n",
    "resdata = json.loads(requests.post(url=uri, json=reqdata).text)\n",
    "if 0 != resdata['errno']:\n",
    "    if 'traceback' in resdata['result']:\n",
    "        print(resdata['result']['traceback'])\n",
    "    else:\n",
    "        print(resdata)\n",
    "else:\n",
    "    print(resdata)"
   ]
  },
  {
   "cell_type": "markdown",
   "metadata": {},
   "source": [
    "### Inference"
   ]
  },
  {
   "cell_type": "code",
   "execution_count": 195,
   "metadata": {
    "ExecuteTime": {
     "end_time": "2020-11-30T15:57:41.413873Z",
     "start_time": "2020-11-30T15:57:34.622807Z"
    }
   },
   "outputs": [
    {
     "name": "stdout",
     "output_type": "stream",
     "text": [
      "{'errno': 0, 'result': [{'test_acc': 0.6418651342391968}]}\n"
     ]
    }
   ],
   "source": [
    "# resume_weights = f\"/raceai/data/ckpts/rgarbage/pl_resnet18_acc85.pth\"\n",
    "# resume_weights = f\"/raceai/data/ckpts/rmnist/pl_resnet18_rotation.pth\"\n",
    "resume_weights = f\"/raceai/data/ckpts/rmnist/pl_resnet18_normal.pth\"\n",
    "\n",
    "reqdata = {\n",
    "    \"task\": \"cls.inference.pl\",\n",
    "    \"cfg\": {\n",
    "        \"data\": {\n",
    "            \"class_name\": \"raceai.data.process.LocalDataLoader\",  \n",
    "            \"params\": {\n",
    "                \"data_source\": f\"{data_root}/test_rotation.json\",\n",
    "                \"dataset\": {\n",
    "                    \"class_name\": \"raceai.data.JsonFileDataset\",\n",
    "                     \"params\": {\n",
    "                         \"input_size\": input_size,\n",
    "                         \"mean\": mean,\n",
    "                         \"std\": std\n",
    "                     }\n",
    "                 },\n",
    "                \"sample\": {\n",
    "                    \"batch_size\": 32,\n",
    "                    \"num_workers\": 4,\n",
    "                }\n",
    "             }\n",
    "        },\n",
    "        \"model\": {\n",
    "            \"class_name\": f\"raceai.models.backbone.{model}\",  \n",
    "            \"params\": {\n",
    "                \"device\": 'gpu',\n",
    "                \"num_classes\": num_classes,\n",
    "                \"weights\": False\n",
    "            }\n",
    "        },\n",
    "        \"trainer\": {\n",
    "            \"default_root_dir\": root_dir,\n",
    "            \"gpus\": 1,\n",
    "            \"resume_from_checkpoint\": resume_weights\n",
    "        }\n",
    "    }\n",
    "}\n",
    "\n",
    "uri = f'{RACEURL}/raceai/framework/inference'\n",
    "\n",
    "resdata = json.loads(requests.post(url=uri, json=reqdata).text)\n",
    "if 0 != resdata['errno']:\n",
    "    if 'traceback' in resdata['result']:\n",
    "        print(resdata['result']['traceback'])\n",
    "    else:\n",
    "        print(resdata)\n",
    "else:\n",
    "    print(resdata)"
   ]
  }
 ],
 "metadata": {
  "kernelspec": {
   "display_name": "Python 3",
   "language": "python",
   "name": "python3"
  },
  "language_info": {
   "codemirror_mode": {
    "name": "ipython",
    "version": 3
   },
   "file_extension": ".py",
   "mimetype": "text/x-python",
   "name": "python",
   "nbconvert_exporter": "python",
   "pygments_lexer": "ipython3",
   "version": "3.6.9"
  },
  "toc": {
   "base_numbering": 1,
   "nav_menu": {},
   "number_sections": true,
   "sideBar": true,
   "skip_h1_title": true,
   "title_cell": "",
   "title_sidebar": "Contents",
   "toc_cell": false,
   "toc_position": {},
   "toc_section_display": true,
   "toc_window_display": false
  }
 },
 "nbformat": 4,
 "nbformat_minor": 4
}
