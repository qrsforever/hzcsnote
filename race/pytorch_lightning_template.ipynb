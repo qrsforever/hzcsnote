{
 "cells": [
  {
   "cell_type": "code",
   "execution_count": 12,
   "metadata": {
    "ExecuteTime": {
     "end_time": "2020-11-27T08:27:11.400116Z",
     "start_time": "2020-11-27T08:27:10.795721Z"
    }
   },
   "outputs": [
    {
     "data": {
      "text/plain": [
       "('1.18.5', '1.6.0.dev20200609+cu101', '0.7.0.dev20200609+cu101', '1.0.8')"
      ]
     },
     "execution_count": 12,
     "metadata": {},
     "output_type": "execute_result"
    }
   ],
   "source": [
    "%reload_ext autoreload\n",
    "%autoreload 2\n",
    "%matplotlib inline\n",
    "\n",
    "import numpy as np\n",
    "import torch\n",
    "import torchvision\n",
    "import pytorch_lightning as pl\n",
    "\n",
    "import os\n",
    "import PIL.Image as Image\n",
    "import base64\n",
    "import io\n",
    "import json\n",
    "import requests\n",
    "from urllib.parse import urlencode\n",
    "from k12libs.utils.nb_easy import k12ai_get_top_dir, RACEURL\n",
    "\n",
    "np.__version__, torch.__version__, torchvision.__version__, pl.__version__"
   ]
  },
  {
   "cell_type": "code",
   "execution_count": 34,
   "metadata": {
    "ExecuteTime": {
     "end_time": "2020-11-27T11:00:33.557753Z",
     "start_time": "2020-11-27T10:59:40.848872Z"
    }
   },
   "outputs": [
    {
     "name": "stdout",
     "output_type": "stream",
     "text": [
      "{'errno': 0, 'result': [{'test_acc': 0.9345289468765259}]}\n"
     ]
    }
   ],
   "source": [
    "model = 'Resnet18'\n",
    "weights = f\"/raceai/data/ckpts/rgarbage_{model}.pth\"\n",
    "\n",
    "reqdata = {\n",
    "    \"task\": \"cls.training.pl\",\n",
    "    \"cfg\": {\n",
    "        \"data\": {\n",
    "            \"train\": {\n",
    "                \"class_name\": \"raceai.data.process.LocalDataLoader\",  \n",
    "                \"params\": {\n",
    "                    \"data_source\": \"/raceai/data/datasets/rgarbage/train.json\",\n",
    "                    \"dataset\": {\n",
    "                        \"class_name\": \"raceai.data.JsonFileDataset\",\n",
    "                         \"params\": {\n",
    "                             \"input_size\": 224,\n",
    "                             \"mean\": [0.6535,0.6132,0.5643],\n",
    "                             \"std\": [0.2165,0.2244,0.2416],\n",
    "                             \"imgaugs\": [\n",
    "                                 {\n",
    "                                     \"class_name\": \"torchvision.transforms.RandomRotation\",\n",
    "                                     \"params\": {\n",
    "                                         \"degrees\": 45\n",
    "                                     }\n",
    "                                 },\n",
    "                             ]\n",
    "                         }\n",
    "                    },\n",
    "                    \"sample\": {\n",
    "                        \"batch_size\": 32,\n",
    "                        \"num_workers\": 4,\n",
    "                        \"drop_last\": True,\n",
    "                        \"shuffle\": True\n",
    "                    }\n",
    "                }\n",
    "            },\n",
    "            \"valid\": {\n",
    "                \"class_name\": \"raceai.data.process.LocalDataLoader\",  \n",
    "                \"params\": {\n",
    "                    \"data_source\": \"/raceai/data/datasets/rgarbage/val.json\",\n",
    "                    \"dataset\": {\n",
    "                        \"class_name\": \"raceai.data.JsonFileDataset\",\n",
    "                         \"params\": {\n",
    "                             \"input_size\": 224,\n",
    "                             \"mean\": [0.6535,0.6132,0.5643],\n",
    "                             \"std\": [0.2165,0.2244,0.2416]\n",
    "                         }\n",
    "                     },\n",
    "                     \"sample\": {\n",
    "                        \"batch_size\": 32,\n",
    "                        \"num_workers\": 4,\n",
    "                        \"drop_last\": False\n",
    "                    }\n",
    "                 }\n",
    "            },\n",
    "            \"test\": {\n",
    "                \"class_name\": \"raceai.data.process.LocalDataLoader\",  \n",
    "                \"params\": {\n",
    "                    \"data_source\": \"/raceai/data/datasets/rgarbage/test.json\",\n",
    "                    \"dataset\": {\n",
    "                        \"class_name\": \"raceai.data.JsonFileDataset\",\n",
    "                         \"params\": {\n",
    "                             \"input_size\": 224,\n",
    "                             \"mean\": [0.6535,0.6132,0.5643],\n",
    "                             \"std\": [0.2165,0.2244,0.2416]\n",
    "                         }\n",
    "                     },\n",
    "                    \"sample\": {\n",
    "                        \"batch_size\": 32,\n",
    "                        \"num_workers\": 4,\n",
    "                    }\n",
    "                 }\n",
    "            }\n",
    "        },\n",
    "        \"model\": {\n",
    "            \"class_name\": f\"raceai.models.backbone.{model}\",  \n",
    "            \"params\": {\n",
    "                \"device\": 'cpu',\n",
    "                \"num_classes\": 4,\n",
    "                \"weights\": weights\n",
    "            }\n",
    "        },\n",
    "        \"solver\": {\n",
    "            \"optimizer\": {\n",
    "                \"class_name\": \"torch.optim.Adam\",\n",
    "                \"params\": {\n",
    "                    \"lr\": 0.001,\n",
    "                    \"betas\": [0.9, 0.999],\n",
    "                    \"weight_decay\": 0,\n",
    "                    \"amsgrad\": False\n",
    "                },\n",
    "            },\n",
    "            \"scheduler\": {\n",
    "                \"class_name\": \"torch.optim.lr_scheduler.StepLR\",\n",
    "                \"params\": {\n",
    "                    \"step_size\": 30,\n",
    "                    \"gamma\": 0.1\n",
    "                }\n",
    "            },\n",
    "            \"trainer\": {\n",
    "                \"class_name\": \"raceai.runner.pl.PlTrainer\",\n",
    "                \"params\": {\n",
    "                    \"max_epochs\": 2,\n",
    "                    \"num_sanity_val_steps\": 0,\n",
    "                    \"gpus\": [0]\n",
    "                }\n",
    "            }\n",
    "        }\n",
    "    }\n",
    "}\n",
    "\n",
    "uri = f'{RACEURL}/raceai/framework/training'\n",
    "\n",
    "resdata = json.loads(requests.post(url=uri, json=reqdata).text)\n",
    "if 0 != resdata['errno']:\n",
    "    if 'traceback' in resdata['result']:\n",
    "        print(resdata['result']['traceback'])\n",
    "else:\n",
    "    print(resdata)"
   ]
  },
  {
   "cell_type": "code",
   "execution_count": 15,
   "metadata": {
    "ExecuteTime": {
     "end_time": "2020-11-27T08:54:20.492737Z",
     "start_time": "2020-11-27T08:54:20.345221Z"
    }
   },
   "outputs": [
    {
     "data": {
      "text/plain": [
       "{'task': 'cls.training.pl',\n",
       " 'cfg': {'data': {'train': {'class_name': 'raceai.data.process.LocalDataLoader',\n",
       "    'params': {'data_source': '/raceai/data/datasets/rgarbage/train.json',\n",
       "     'dataset': {'class_name': 'raceai.data.JsonFileDataset',\n",
       "      'params': {'input_size': 224,\n",
       "       'mean': [0.6535, 0.6132, 0.5643],\n",
       "       'std': [0.2165, 0.2244, 0.2416],\n",
       "       'imgaugs': [{'class_name': 'torchvision.transforms.RandomRotation',\n",
       "         'params': {'degrees': 45}}]}},\n",
       "     'sample': {'batch_size': 32, 'shuffle': True}}},\n",
       "   'valid': {'class_name': 'raceai.data.process.LocalDataLoader',\n",
       "    'params': {'data_source': '/raceai/data/datasets/rgarbage/val.json',\n",
       "     'dataset': {'class_name': 'raceai.data.JsonFileDataset',\n",
       "      'params': {'input_size': 224,\n",
       "       'mean': [0.6535, 0.6132, 0.5643],\n",
       "       'std': [0.2165, 0.2244, 0.2416]}},\n",
       "     'sample': {'batch_size': 32}}},\n",
       "   'test': {'class_name': 'raceai.data.process.LocalDataLoader',\n",
       "    'params': {'data_source': '/raceai/data/datasets/rgarbage/test.json',\n",
       "     'dataset': {'class_name': 'raceai.data.JsonFileDataset',\n",
       "      'params': {'input_size': 224,\n",
       "       'mean': [0.6535, 0.6132, 0.5643],\n",
       "       'std': [0.2165, 0.2244, 0.2416]}},\n",
       "     'sample': {'batch_size': 32}}}},\n",
       "  'model': {'class_name': 'raceai.models.backbone.Resnet18',\n",
       "   'params': {'device': 'cpu',\n",
       "    'num_classes': 4,\n",
       "    'weights': '/raceai/data/ckpts/rgarbage_Resnet18.pth'}},\n",
       "  'solver': {'optimizer': {'class_name': 'torch.optim.Adam',\n",
       "    'params': {'lr': 0.001,\n",
       "     'betas': [0.9, 0.999],\n",
       "     'weight_decay': 0,\n",
       "     'amsgrad': False}},\n",
       "   'scheduler': {'class_name': 'torch.lr_scheduler.StepLR',\n",
       "    'params': {'step_size': 30, 'gamma': 0.1}},\n",
       "   'trainer': {'class_name': 'raceai.runner.pl.PlTrainer',\n",
       "    'params': {'max_epochs': 100}}}}}"
      ]
     },
     "execution_count": 15,
     "metadata": {},
     "output_type": "execute_result"
    }
   ],
   "source": [
    "reqdata"
   ]
  },
  {
   "cell_type": "code",
   "execution_count": null,
   "metadata": {},
   "outputs": [],
   "source": []
  },
  {
   "cell_type": "code",
   "execution_count": null,
   "metadata": {},
   "outputs": [],
   "source": [
    "def load_obj(cls):\n",
    "    pass\n",
    "\n",
    "class PlClassifier(pl.LightningModule):\n",
    "    def __init__(self, cfg):\n",
    "        super().__init__()\n",
    "        self.cfg = cfg\n",
    "        \n",
    "    def forward(self, x):\n",
    "        return self.\n",
    "        \n",
    "    def configure_optimizers(self):\n",
    "        optimizer = load_obj(optimizer)\n",
    "        optimizer(filter(lambda ))\n",
    "        "
   ]
  }
 ],
 "metadata": {
  "kernelspec": {
   "display_name": "Python 3",
   "language": "python",
   "name": "python3"
  },
  "language_info": {
   "codemirror_mode": {
    "name": "ipython",
    "version": 3
   },
   "file_extension": ".py",
   "mimetype": "text/x-python",
   "name": "python",
   "nbconvert_exporter": "python",
   "pygments_lexer": "ipython3",
   "version": "3.6.9"
  },
  "toc": {
   "base_numbering": 1,
   "nav_menu": {},
   "number_sections": true,
   "sideBar": true,
   "skip_h1_title": true,
   "title_cell": "",
   "title_sidebar": "Contents",
   "toc_cell": false,
   "toc_position": {},
   "toc_section_display": true,
   "toc_window_display": false
  }
 },
 "nbformat": 4,
 "nbformat_minor": 4
}
