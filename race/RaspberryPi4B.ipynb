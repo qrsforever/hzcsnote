{
 "cells": [
  {
   "cell_type": "markdown",
   "metadata": {},
   "source": [
    "# <div align='center'> Pi 4B </div>"
   ]
  },
  {
   "cell_type": "markdown",
   "metadata": {},
   "source": [
    "## 系统配置(Pi 4B/8G)\n",
    "\n",
    "烧录系统版本: https://downloads.raspberrypi.org/raspios_lite_arm64/images/raspios_lite_arm64-2020-08-24/\n",
    "\n",
    "pi: k12ai (默认: pi)\n",
    "\n",
    "root: k12ai (默认: raspberrypi)"
   ]
  },
  {
   "cell_type": "markdown",
   "metadata": {
    "ExecuteTime": {
     "end_time": "2020-11-17T06:50:51.222676Z",
     "start_time": "2020-11-17T06:50:51.211157Z"
    }
   },
   "source": [
    "### 网路配置\n",
    "\n",
    "-  `vi /etc/dhcpcd.conf`\n",
    "\n",
    "    ```\n",
    "    interface eth0\n",
    "    static ip_address=172.16.1.34/24\n",
    "    #static ip6_address=fd51:42f8:caae:d92e::ff/64\n",
    "    static routers=172.16.1.1\n",
    "    static domain_name_servers=219.141.140.10 219.141.136.10\n",
    "    \n",
    "    interface wlan0\n",
    "    static ip_address=172.16.1.36/24\n",
    "    #static ip6_address=fd51:42f8:caae:d92e::ff/64\n",
    "    static routers=172.16.1.1\n",
    "    static domain_name_servers=219.141.140.10 219.141.136.10\n",
    "    ```\n",
    "    \n",
    "- `vi /etc/wpa_supplicant/wpa_supplicant.conf`\n",
    "\n",
    "    ```\n",
    "    ctrl_interface=DIR=/var/run/wpa_supplicant GROUP=netdev\n",
    "    update_config=1\n",
    "    country=CN\n",
    "\n",
    "    network={\n",
    "        ssid=\"国电社区\"\n",
    "        psk=\"88888888\"\n",
    "        key_mgmt=WPA-PSK\n",
    "    }\n",
    "    ```"
   ]
  },
  {
   "cell_type": "markdown",
   "metadata": {},
   "source": [
    "### 时区/语言\n",
    "\n",
    "可以通过`sudo raspi-config`设置"
   ]
  },
  {
   "cell_type": "markdown",
   "metadata": {},
   "source": [
    "### 图形桌面(lite to kde)\n",
    "\n",
    "- `sudo apt-get install lightdm`\n",
    "\n",
    "- `sudo apt install mate-desktop-environment-core`\n",
    "\n",
    "- `sudo raspi-config`设置启动模式"
   ]
  },
  {
   "cell_type": "markdown",
   "metadata": {},
   "source": [
    "### VNC View\n",
    "\n",
    "- enable: `sudo raspi-config`\n",
    "\n",
    "- client: `https://www.realvnc.com/en/connect/download/viewer/linux`"
   ]
  },
  {
   "cell_type": "markdown",
   "metadata": {},
   "source": [
    "### SSH配置\n",
    "\n",
    "可以通过`sudo raspi-config`设置\n",
    "\n",
    "免密登陆: `ssh-copy-id -i /home/lidong/.ssh/id_rsa_raspberry.pub pi@172.16.1.34`"
   ]
  },
  {
   "cell_type": "markdown",
   "metadata": {},
   "source": [
    "### 修改数据源\n",
    "\n",
    "[更多](https://blog.csdn.net/zqxdsy/article/details/102574239)\n",
    "\n",
    "- apt: `vi /etc/apt/sources.list.d/raspi.list`\n",
    "\n",
    "    ```\n",
    "    deb https://mirrors.tuna.tsinghua.edu.cn/debian/ buster main contrib non-free\n",
    "    # deb-src https://mirrors.tuna.tsinghua.edu.cn/debian/ buster main contrib non-free\n",
    "    deb https://mirrors.tuna.tsinghua.edu.cn/debian/ buster-updates main contrib non-free\n",
    "    # deb-src https://mirrors.tuna.tsinghua.edu.cn/debian/ buster-updates main contrib non-free\n",
    "    deb https://mirrors.tuna.tsinghua.edu.cn/debian/ buster-backports main contrib non-free\n",
    "    # deb-src https://mirrors.tuna.tsinghua.edu.cn/debian/ buster-backports main contrib non-free\n",
    "    deb https://mirrors.tuna.tsinghua.edu.cn/debian-security buster/updates main contrib non-free\n",
    "    # deb-src https://mirrors.tuna.tsinghua.edu.cn/debian-security buster/updates main contrib non-free\n",
    "    ```\n",
    "\n",
    "- pip: `vi ~/.pip/pip.conf`\n",
    "    \n",
    "    ```\n",
    "    [global]\n",
    "        timeout = 6000\n",
    "        index-url = http://mirrors.aliyun.com/pypi/simple\n",
    "        # index-url = http://pypi.douban.com/simple/\n",
    "    [install]\n",
    "        use-mirrors = true\n",
    "        mirrors = http://mirrors.aliyun.com/pypi/simple\n",
    "        trusted-host = mirrors.aliyun.com\n",
    "        # mirrors = http://pypi.douban.com/simple/\n",
    "        # trusted-host = pypi.douban.com\n",
    "    ```"
   ]
  },
  {
   "cell_type": "markdown",
   "metadata": {},
   "source": [
    "### Other\n",
    "\n",
    "```\n",
    "pip3 install gsutil --user\n",
    "```\n",
    "\n",
    "```\n",
    "sudo apt install libopenblas-dev libblas-dev m4 \n",
    "sudo apt install libtiff5-dev libjpeg62-turbo-dev libopenjp2-7-dev zlib1g-dev\n",
    "sudo apt install libfreetype6-dev liblcms2-dev libwebp-dev tcl8.6-dev tk8.6-dev\n",
    "sudo apt install python3-tk libharfbuzz-dev libfribidi-dev libxcb1-dev\n",
    "sudo apt install libavutil-dev libavcodec-dev libavformat-dev libswscale-dev\n",
    "```\n",
    "\n",
    "```\n",
    "mkdir pytorch_install\n",
    "cd pytorch_install\n",
    "git clone --recursive https://github.com/pytorch/pytorch\n",
    "cd pytorch\n",
    "git submodule update --remote third_party/protobuf\n",
    "export NO_CUDA=1\n",
    "export NO_DISTRIBUTED=1\n",
    "export NO_MKLDNN=1\n",
    "export NO_NNPACK=1\n",
    "export NO_QNNPACK=1\n",
    "python setup.py build\n",
    "sudo -E python setup.py install\n",
    "cd ..\n",
    "mkdir pytorch_vision_install && cd pytorch_vision_install\n",
    "git clone --recursive https://github.com/pytorch/vision\n",
    "cd vision\n",
    "sudo -E python setup.py install\n",
    "```"
   ]
  },
  {
   "cell_type": "markdown",
   "metadata": {},
   "source": [
    "### pytorch\n",
    "\n",
    "https://download.pytorch.org/whl/nightly/cpu/torch_nightly.html"
   ]
  },
  {
   "cell_type": "markdown",
   "metadata": {},
   "source": [
    "## 交叉编译环境\n",
    "\n",
    "[传送门1](https://medium.com/@stonepreston/how-to-cross-compile-a-cmake-c-application-for-the-raspberry-pi-4-on-ubuntu-20-04-bac6735d36df)\n",
    "\n",
    "[传送门2](https://tttapa.github.io/Pages/Raspberry-Pi/C++-Development/Building-The-Toolchain.html)"
   ]
  },
  {
   "cell_type": "markdown",
   "metadata": {},
   "source": [
    "### 目标机(Target Pi4)环境\n",
    "  \n",
    "- 安装\n",
    "\n",
    "  - 二进制工具集:｀sudo apt install -y binutils-source`\n",
    "  \n",
    "  > ls /usr/src/binutils/patches/\n",
    "  \n",
    "  - 绝对路径转相对: `sudo apt install -y symlinks`\n",
    "  \n",
    "  > sudo symlinks -rc /\n",
    "\n",
    "- 查看系统信息\n",
    "  \n",
    "  - kernel版本: `uname -a`\n",
    "  \n",
    "  > Linux raspberrypi **5.4.51-v8+** #1333 SMP PREEMPT Mon Aug 10 16:58:35 BST 2020 aarch64 GNU/Linux\n",
    "  \n",
    "  - binutil(linker)版本: `ld --version`\n",
    "  \n",
    "  > GNU ld (GNU Binutils for Debian) 2.31.1\n",
    "  \n",
    "  - gcc版本: `gcc --version`\n",
    "  \n",
    "  > gcc (Debian 8.3.0-6) 8.3.0\n",
    "  \n",
    "  - GLIBC版本: `ldd --version`\n",
    "  \n",
    "  > ldd (Debian GLIBC 2.28-10) 2.28\n",
    "  \n",
    "**所有信息在配置menuconfig上使用**, cortex a53(2核) a72(4核)"
   ]
  },
  {
   "cell_type": "markdown",
   "metadata": {},
   "source": [
    "### 主机(Host)环境\n",
    "\n",
    "1. crosstool-ng依赖库\n",
    "\n",
    "  ```\n",
    "  sudo apt install -y gcc g++ gperf bison flex texinfo help2man cmake-curses-gui make \\\n",
    "    libncurses5-dev python3-dev autoconf automake libtool libtool-bin \\\n",
    "    gawk wget bzip2 xz-utils unzip patch libstdc++6 rsync git\n",
    "  ```\n",
    "  \n",
    "- 安装crosstool-ng\n",
    "\n",
    "  [tarball](http://crosstool-ng.org/download/crosstool-ng)\n",
    " \n",
    "  - `cd /data/raspberry_pi4`\n",
    "  - `wget http://crosstool-ng.org/download/crosstool-ng/crosstool-ng-1.24.0.tar.bz2`\n",
    "  - `tar xjf crosstool-ng-1.24.0.tar.bz2`\n",
    "  - `cd crosstool-ng-1.24.0`\n",
    "  - `./configure --prefix=/opt/x-tools`\n",
    "  - `make -j4; sudo make install`\n",
    "  \n",
    "  or\n",
    "  \n",
    "  - `git clone --depth 1 https://github.com/crosstool-ng/crosstool-ng.git`\n",
    "  - `cd crosstool-ng; ./bootstrap`\n",
    "  - `./configure --prefix=/opt/x-tools`\n",
    "  - `make -j4; sudo make install`\n",
    "\n",
    "- 设置crosstoll-ng: `echo \"export PATH=/opt/x-tools/bin:$PATH\" >> ~/.bashrc`"
   ]
  },
  {
   "cell_type": "markdown",
   "metadata": {},
   "source": [
    "### 编译交叉编译链\n",
    "\n",
    "- 创建staging目录\n",
    "  \n",
    "  - `mkdir -p /data/raspberry_pi4/toolchain_staging`\n",
    "  - `cd /data/raspberry_pi4/toolchain_staging`\n",
    "  - `mkdir -p src patches/binutils/2.31.1/`\n",
    "  \n",
    " \n",
    "- 编译工具\n",
    "\n",
    "  - `cd /data/raspberry_pi4/toolchain_staging/patches/binutils/2.31.1`\n",
    "\n",
    "  - `scp pi@targetip:/usr/src/binutils/patches/129_multiarch_libpath.patch .`\n",
    "  \n",
    "  - `cd /data/raspberry_pi4`\n",
    "  \n",
    "  - `ct-ng list-samples`\n",
    "  \n",
    "   > Status  Sample name  \n",
    "     [G...]   aarch64-rpi3-linux-gnu  \n",
    "     [G..X]   aarch64-unknown-linux-android  \n",
    "     [G...]   aarch64-unknown-linux-gnu  \n",
    "     [G...]   aarch64-unknown-linux-uclibc  \n",
    "     [G...]   alphaev56-unknown-linux-gnu  \n",
    "\n",
    "  - 生成配置: `ct-ng aarch64-rpi3-linux-gnu`\n",
    "  \n",
    "       > cat .config\n",
    "   \n",
    "  - 配置选项: `ct-ng menuconfig`\n",
    "       \n",
    "       > [pi4.config](pi4.config)  \n",
    "       > mv pi4.config .config  (注意pi4kernel为5.4.51, menu没有,手动修改CT_LINUX_VERSION=\"5.4.51\"\n",
    "  \n",
    "  - 编译:\n",
    "  \n",
    "     - `export DEB_TARGET_MULTIARCH=aarch64-rpi3-linux-gnu`\n",
    "     - `unset LD_LIBRARY_PATH\n",
    "     - `ct-ng build`\n",
    "     \n",
    "  - sysroot (根据情况选择, 最好不要做):\n",
    "  \n",
    "      - `cd aarch64-rpi3-linux-gnu/aarch64-rpi3-linux-gnu/sysroot`\n",
    "      - `rsync -rzLR --safe-links pi@target_ip:/lib/ ./`\n",
    "      - `rsync -rzLR --safe-links pi@target_ip:/usr/lib/ ./`\n",
    "      - `rsync -rzLR --safe-links pi@target_ip:/usr/include ./`"
   ]
  },
  {
   "cell_type": "markdown",
   "metadata": {},
   "source": [
    "## 编译Torch"
   ]
  },
  {
   "cell_type": "markdown",
   "metadata": {},
   "source": [
    "### 获取源\n",
    "\n",
    "- `git cloen --depth 1 https://github.91chifun.workers.dev//https://github.com/pytorch/pytorch.git`\n",
    "- `cd pytorch`\n",
    "- `sed -i 's/github.com\\//github.com.cnpmjs.org\\//g' .gitmodules`\n",
    "- `git submodule sync`\n",
    "- `git submodule update --init --recursive`  // 可以中间暂停, 修改github.com\n",
    "- `cd .git/modules/third_part`\n",
    "- 查看子模块, 修改(手动): ```grep -l \"github.com\\/\" `find . -name \"config\"` ```\n"
   ]
  },
  {
   "cell_type": "code",
   "execution_count": null,
   "metadata": {},
   "outputs": [],
   "source": [
    "### 编译\n",
    "\n",
    "  - 依赖: [pytorch source](https://github.com/pytorch/pytorch#from-source)\n",
    "        \n",
    "   ```\n",
    "   conda install numpy ninja pyyaml mkl mkl-include setuptools cmake cffi \\\n",
    "           typing_extensions future six requests dataclasses｀\n",
    "   ```"
   ]
  },
  {
   "cell_type": "markdown",
   "metadata": {},
   "source": [
    "## QA:\n",
    "\n",
    "### 解决树莓派公钥\n",
    "\n",
    "[更多](https://www.jianshu.com/p/8a1921413fad)\n",
    "\n",
    "```\n",
    "gpg --keyserver  keyserver.ubuntu.com --recv-keys 9165938D90FDDD2E\n",
    "gpg --export --armor  9165938D90FDDD2E | sudo apt-key add -\n",
    "```"
   ]
  },
  {
   "cell_type": "markdown",
   "metadata": {},
   "source": [
    "### 安装Pillow错误\n",
    "\n",
    "[依赖](https://pillow.readthedocs.io/en/latest/installation.html)\n",
    "\n",
    "```\n",
    "sudo apt-get install libtiff5-dev libjpeg62-turbo-dev libopenjp2-7-dev zlib1g-dev \\\n",
    "    libfreetype6-dev liblcms2-dev libwebp-dev tcl8.6-dev tk8.6-dev python3-tk \\\n",
    "    libharfbuzz-dev libfribidi-dev libxcb1-dev\n",
    "```"
   ]
  },
  {
   "cell_type": "markdown",
   "metadata": {},
   "source": [
    "### PyTorch packages for ARM64\n",
    "\n",
    "[更多](http://mathinf.com/pytorch/arm64/)\n",
    "\n",
    "`pip install --pre torch torchvision -f https://download.pytorch.org/whl/nightly/cpu/torch_nightly.html`"
   ]
  },
  {
   "cell_type": "markdown",
   "metadata": {},
   "source": [
    "### build cmake (pip 版本问题)\n",
    "\n",
    "```\n",
    " Failed to build cmake\n",
    "  matplotlib 3.3.3 has requirement numpy>=1.15, but you'll have numpy 1.14.5 which is incompatible.\n",
    "  Installing collected packages: setuptools, wheel, pyparsing, six, packaging, distro, scikit-build, cmake, pip, numpy\n",
    "    Running setup.py install for cmake: started\n",
    "      Running setup.py install for cmake: finished with status 'error'\n",
    "      Complete output from command /usr/bin/python3 -u -c \"import setuptools, tokenize;__file__='/tmp/pip-install-8818b86w/cmake/setup.py';f=getattr(tokenize, 'open', open)(__file__);code=f.read().replace('\\r\\n', '\\n');f.close();exec(compile(code, __file__, 'exec'))\" install --record /tmp/pip-record-v2b8zye8/install-record.txt --single-version-externally-managed --prefix /tmp/pip-build-env-4lmwqz8j --compile:\n",
    "      Traceback (most recent call last):\n",
    "        File \"/tmp/pip-build-env-nbaxyom6/lib/python3.7/site-packages/skbuild/setuptools_wrap.py\", line 560, in setup\n",
    "          cmkr = cmaker.CMaker(cmake_executable)\n",
    "        File \"/tmp/pip-build-env-nbaxyom6/lib/python3.7/site-packages/skbuild/cmaker.py\", line 95, in __init__\n",
    "          self.cmake_version = get_cmake_version(self.cmake_executable)\n",
    "        File \"/tmp/pip-build-env-nbaxyom6/lib/python3.7/site-packages/skbuild/cmaker.py\", line 82, in get_cmake_version\n",
    "          \"Problem with the CMake installation, aborting build. CMake executable is %s\" % cmake_executable)\n",
    "  \n",
    "      Problem with the CMake installation, aborting build. CMake executable is cmake\n",
    "```\n",
    "\n",
    "解决:\n",
    "\n",
    "```\n",
    "python3 -m pip install --upgrade pip\n",
    "pip3 install cmake --user\n",
    "```"
   ]
  },
  {
   "cell_type": "markdown",
   "metadata": {},
   "source": [
    "### OpenBLAS with USE_OPENMP=1\n",
    "\n",
    "```\n",
    "OpenBLAS Warning : Detect OpenMP Loop and this application may hang. Please rebuild the library with USE_OPENMP=1 option\n",
    "```\n",
    "\n",
    "[Report error when ATEN_THEADING is OMP and USE_OPENMP is turned off.](https://github.com/pytorch/pytorch/pull/40146)"
   ]
  },
  {
   "cell_type": "markdown",
   "metadata": {},
   "source": [
    "### Opencv-Python\n",
    "\n",
    "https://www.pyimagesearch.com/2019/09/16/install-opencv-4-on-raspberry-pi-4-and-raspbian-buster/"
   ]
  },
  {
   "cell_type": "markdown",
   "metadata": {},
   "source": [
    "[caffe2 onnx](https://detectron2.readthedocs.io/tutorials/deployment.html)"
   ]
  },
  {
   "cell_type": "markdown",
   "metadata": {},
   "source": [
    "https://medium.com/@stonepreston/how-to-cross-compile-a-cmake-c-application-for-the-raspberry-pi-4-on-ubuntu-20-04-bac6735d36df"
   ]
  },
  {
   "cell_type": "code",
   "execution_count": null,
   "metadata": {},
   "outputs": [],
   "source": []
  }
 ],
 "metadata": {
  "kernelspec": {
   "display_name": "Python 3",
   "language": "python",
   "name": "python3"
  },
  "language_info": {
   "codemirror_mode": {
    "name": "ipython",
    "version": 3
   },
   "file_extension": ".py",
   "mimetype": "text/x-python",
   "name": "python",
   "nbconvert_exporter": "python",
   "pygments_lexer": "ipython3",
   "version": "3.6.9"
  },
  "toc": {
   "base_numbering": 1,
   "nav_menu": {},
   "number_sections": true,
   "sideBar": true,
   "skip_h1_title": true,
   "title_cell": "",
   "title_sidebar": "Contents",
   "toc_cell": false,
   "toc_position": {},
   "toc_section_display": true,
   "toc_window_display": true
  }
 },
 "nbformat": 4,
 "nbformat_minor": 4
}
