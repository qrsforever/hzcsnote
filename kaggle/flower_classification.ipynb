{
 "cells": [
  {
   "cell_type": "markdown",
   "metadata": {
    "toc": true
   },
   "source": [
    "<h1><span class=\"tocSkip\"></span></h1>\n",
    "<div class=\"toc\"><ul class=\"toc-item\"><li><span><a href=\"#Install-Dependence\" data-toc-modified-id=\"Install-Dependence-1\"><span class=\"toc-item-num\">1&nbsp;&nbsp;</span>Install Dependence</a></span><ul class=\"toc-item\"><li><span><a href=\"#Install-XLA\" data-toc-modified-id=\"Install-XLA-1.1\"><span class=\"toc-item-num\">1.1&nbsp;&nbsp;</span>Install XLA</a></span></li><li><span><a href=\"#Pytorch-Lightning\" data-toc-modified-id=\"Pytorch-Lightning-1.2\"><span class=\"toc-item-num\">1.2&nbsp;&nbsp;</span>Pytorch Lightning</a></span></li></ul></li><li><span><a href=\"#Import-Library\" data-toc-modified-id=\"Import-Library-2\"><span class=\"toc-item-num\">2&nbsp;&nbsp;</span>Import Library</a></span></li><li><span><a href=\"#Show-Version\" data-toc-modified-id=\"Show-Version-3\"><span class=\"toc-item-num\">3&nbsp;&nbsp;</span>Show Version</a></span></li><li><span><a href=\"#Global-Constants\" data-toc-modified-id=\"Global-Constants-4\"><span class=\"toc-item-num\">4&nbsp;&nbsp;</span>Global Constants</a></span></li><li><span><a href=\"#Random-Seed\" data-toc-modified-id=\"Random-Seed-5\"><span class=\"toc-item-num\">5&nbsp;&nbsp;</span>Random Seed</a></span></li><li><span><a href=\"#Prepare-Data\" data-toc-modified-id=\"Prepare-Data-6\"><span class=\"toc-item-num\">6&nbsp;&nbsp;</span>Prepare Data</a></span><ul class=\"toc-item\"><li><span><a href=\"#Create-Records-Index\" data-toc-modified-id=\"Create-Records-Index-6.1\"><span class=\"toc-item-num\">6.1&nbsp;&nbsp;</span>Create Records Index</a></span></li><li><span><a href=\"#Train-and-Valid-Data\" data-toc-modified-id=\"Train-and-Valid-Data-6.2\"><span class=\"toc-item-num\">6.2&nbsp;&nbsp;</span>Train and Valid Data</a></span></li><li><span><a href=\"#Test-Data\" data-toc-modified-id=\"Test-Data-6.3\"><span class=\"toc-item-num\">6.3&nbsp;&nbsp;</span>Test Data</a></span></li></ul></li><li><span><a href=\"#Sample-Data-Exploration\" data-toc-modified-id=\"Sample-Data-Exploration-7\"><span class=\"toc-item-num\">7&nbsp;&nbsp;</span>Sample Data Exploration</a></span><ul class=\"toc-item\"><li><span><a href=\"#Demo--Image\" data-toc-modified-id=\"Demo--Image-7.1\"><span class=\"toc-item-num\">7.1&nbsp;&nbsp;</span>Demo  Image</a></span></li><li><span><a href=\"#Label-Data-Distribution\" data-toc-modified-id=\"Label-Data-Distribution-7.2\"><span class=\"toc-item-num\">7.2&nbsp;&nbsp;</span>Label Data Distribution</a></span></li><li><span><a href=\"#Define-Display-Image-Method\" data-toc-modified-id=\"Define-Display-Image-Method-7.3\"><span class=\"toc-item-num\">7.3&nbsp;&nbsp;</span>Define Display Image Method</a></span></li><li><span><a href=\"#Display-Raw-Sample-Images\" data-toc-modified-id=\"Display-Raw-Sample-Images-7.4\"><span class=\"toc-item-num\">7.4&nbsp;&nbsp;</span>Display Raw Sample Images</a></span></li><li><span><a href=\"#Data-Augment-Transform\" data-toc-modified-id=\"Data-Augment-Transform-7.5\"><span class=\"toc-item-num\">7.5&nbsp;&nbsp;</span>Data Augment Transform</a></span></li><li><span><a href=\"#Display-Augment-Images\" data-toc-modified-id=\"Display-Augment-Images-7.6\"><span class=\"toc-item-num\">7.6&nbsp;&nbsp;</span>Display Augment Images</a></span></li></ul></li><li><span><a href=\"#Build-Network\" data-toc-modified-id=\"Build-Network-8\"><span class=\"toc-item-num\">8&nbsp;&nbsp;</span>Build Network</a></span><ul class=\"toc-item\"><li><span><a href=\"#Load-Pretrained-Model\" data-toc-modified-id=\"Load-Pretrained-Model-8.1\"><span class=\"toc-item-num\">8.1&nbsp;&nbsp;</span>Load Pretrained Model</a></span></li><li><span><a href=\"#Freezing-Partial-Layers\" data-toc-modified-id=\"Freezing-Partial-Layers-8.2\"><span class=\"toc-item-num\">8.2&nbsp;&nbsp;</span>Freezing Partial Layers</a></span></li><li><span><a href=\"#Model/-Loss/Optimizer\" data-toc-modified-id=\"Model/-Loss/Optimizer-8.3\"><span class=\"toc-item-num\">8.3&nbsp;&nbsp;</span>Model/ Loss/Optimizer</a></span></li></ul></li><li><span><a href=\"#Train\" data-toc-modified-id=\"Train-9\"><span class=\"toc-item-num\">9&nbsp;&nbsp;</span>Train</a></span></li><li><span><a href=\"#Predict\" data-toc-modified-id=\"Predict-10\"><span class=\"toc-item-num\">10&nbsp;&nbsp;</span>Predict</a></span></li><li><span><a href=\"#Plot-Metrics\" data-toc-modified-id=\"Plot-Metrics-11\"><span class=\"toc-item-num\">11&nbsp;&nbsp;</span>Plot Metrics</a></span></li><li><span><a href=\"#Submission\" data-toc-modified-id=\"Submission-12\"><span class=\"toc-item-num\">12&nbsp;&nbsp;</span>Submission</a></span></li></ul></div>"
   ]
  },
  {
   "cell_type": "code",
   "execution_count": 14,
   "metadata": {
    "ExecuteTime": {
     "end_time": "2020-09-24T10:03:28.678897Z",
     "start_time": "2020-09-24T10:03:28.098289Z"
    },
    "hide_input": true
   },
   "outputs": [],
   "source": [
    "! [ ! -L /kaggle ] && ln -s /data/kaggle /kaggle "
   ]
  },
  {
   "cell_type": "markdown",
   "metadata": {},
   "source": [
    "##  Install Dependence"
   ]
  },
  {
   "cell_type": "markdown",
   "metadata": {
    "ExecuteTime": {
     "end_time": "2020-09-24T09:01:25.859974Z",
     "start_time": "2020-09-24T09:01:25.854922Z"
    }
   },
   "source": [
    "### Install XLA"
   ]
  },
  {
   "cell_type": "code",
   "execution_count": null,
   "metadata": {
    "ExecuteTime": {
     "end_time": "2020-09-24T09:15:57.244231Z",
     "start_time": "2020-09-24T09:15:49.138620Z"
    },
    "scrolled": true
   },
   "outputs": [],
   "source": [
    "# file_url = 'https://raw.githubusercontent.com/pytorch/xla/master/contrib/scripts/env-setup.py'\n",
    "# !curl -o {file_url}/pytorch-xla-env-setup.py\n",
    "# !python pytorch-xla-env-setup.py --version nightly --apt-packages libomp5 libopenblas-dev"
   ]
  },
  {
   "cell_type": "markdown",
   "metadata": {},
   "source": [
    "### Pytorch Lightning"
   ]
  },
  {
   "cell_type": "code",
   "execution_count": null,
   "metadata": {
    "ExecuteTime": {
     "end_time": "2020-09-24T09:09:03.175150Z",
     "start_time": "2020-09-24T09:08:45.956752Z"
    },
    "hide_input": false
   },
   "outputs": [],
   "source": [
    "# !pip install pytorch_lightning GPUtil"
   ]
  },
  {
   "cell_type": "code",
   "execution_count": 1,
   "metadata": {
    "ExecuteTime": {
     "end_time": "2020-09-24T10:00:31.551495Z",
     "start_time": "2020-09-24T10:00:25.607145Z"
    }
   },
   "outputs": [
    {
     "name": "stdout",
     "output_type": "stream",
     "text": [
      "Collecting tfrecord\n",
      "  Downloading tfrecord-1.11.tar.gz (9.0 kB)\n",
      "Requirement already satisfied: numpy in /usr/local/lib/python3.6/dist-packages (from tfrecord) (1.18.5)\n",
      "Requirement already satisfied: protobuf in /usr/local/lib/python3.6/dist-packages (from tfrecord) (3.12.2)\n",
      "Requirement already satisfied: setuptools in /usr/local/lib/python3.6/dist-packages (from protobuf->tfrecord) (47.1.1)\n",
      "Requirement already satisfied: six>=1.9 in /usr/local/lib/python3.6/dist-packages (from protobuf->tfrecord) (1.15.0)\n",
      "Building wheels for collected packages: tfrecord\n",
      "  Building wheel for tfrecord (setup.py) ... \u001b[?25ldone\n",
      "\u001b[?25h  Created wheel for tfrecord: filename=tfrecord-1.11-py3-none-any.whl size=10783 sha256=fbbae80faf793121a66579be898b50fecdf07f7c50d8200514a1b309347eddb1\n",
      "  Stored in directory: /root/.cache/pip/wheels/17/92/23/6413fae5357b54e6ebcfda2a4a2f6cf086b6e10414581df8d3\n",
      "Successfully built tfrecord\n",
      "Installing collected packages: tfrecord\n",
      "Successfully installed tfrecord-1.11\n",
      "\u001b[33mWARNING: You are using pip version 20.1.1; however, version 20.2.3 is available.\n",
      "You should consider upgrading via the '/usr/bin/python3.6 -m pip install --upgrade pip' command.\u001b[0m\n"
     ]
    }
   ],
   "source": [
    "# !pip install tfrecord"
   ]
  },
  {
   "cell_type": "markdown",
   "metadata": {},
   "source": [
    "## Import Library"
   ]
  },
  {
   "cell_type": "code",
   "execution_count": 154,
   "metadata": {
    "ExecuteTime": {
     "end_time": "2020-09-24T15:19:55.500455Z",
     "start_time": "2020-09-24T15:19:55.468642Z"
    }
   },
   "outputs": [],
   "source": [
    "import os\n",
    "import io\n",
    "import zipfile\n",
    "import GPUtil\n",
    "import random\n",
    "import glob\n",
    "import pytorch_lightning as pl\n",
    "import numpy as np\n",
    "import pandas as pd\n",
    "import seaborn as sns\n",
    "import torch\n",
    "import torchvision\n",
    "import matplotlib.pyplot as plt\n",
    "\n",
    "from tqdm import tqdm\n",
    "from torch import nn\n",
    "from torch.nn import functional as F\n",
    "from torch.utils.data import (Dataset, DataLoader)\n",
    "from torchvision.transforms import (\n",
    "        Resize,\n",
    "        Compose,\n",
    "        ToTensor,\n",
    "        Normalize,\n",
    "        RandomOrder,\n",
    "        ColorJitter,\n",
    "        RandomRotation,\n",
    "        RandomGrayscale,\n",
    "        RandomResizedCrop,\n",
    "        RandomVerticalFlip,\n",
    "        RandomHorizontalFlip)\n",
    "\n",
    "from PIL import Image, ImageDraw, ImageFont\n",
    "from sklearn.model_selection import train_test_split\n",
    "from pytorch_lightning.callbacks import EarlyStopping\n",
    "from pytorch_lightning.callbacks import ModelCheckpoint\n",
    "\n",
    "from tfrecord.tools.tfrecord2idx import create_index\n",
    "from tfrecord.torch.dataset import TFRecordDataset, MultiTFRecordDataset\n",
    "\n",
    "%matplotlib inline\n",
    "\n",
    "sns.set(style='white', font_scale=1.2)"
   ]
  },
  {
   "cell_type": "markdown",
   "metadata": {},
   "source": [
    "## Show Version"
   ]
  },
  {
   "cell_type": "code",
   "execution_count": null,
   "metadata": {
    "ExecuteTime": {
     "end_time": "2020-09-23T16:13:55.524673Z",
     "start_time": "2020-09-23T16:13:55.517476Z"
    }
   },
   "outputs": [],
   "source": [
    "np.__version__, pd.__version__, sns.__version__"
   ]
  },
  {
   "cell_type": "code",
   "execution_count": null,
   "metadata": {
    "ExecuteTime": {
     "end_time": "2020-09-24T09:09:58.175256Z",
     "start_time": "2020-09-24T09:09:58.168364Z"
    }
   },
   "outputs": [],
   "source": [
    "torch.__version__, torchvision.__version__, pl.__version__"
   ]
  },
  {
   "cell_type": "markdown",
   "metadata": {},
   "source": [
    "## Global Constants"
   ]
  },
  {
   "cell_type": "code",
   "execution_count": 45,
   "metadata": {
    "ExecuteTime": {
     "end_time": "2020-09-24T13:50:55.256259Z",
     "start_time": "2020-09-24T13:50:55.238369Z"
    }
   },
   "outputs": [],
   "source": [
    "RNG_SEED = 9527\n",
    "DATA_ROOT = '/kaggle/input/tpu-getting-started'\n",
    "WORK_ROOT = '/kaggle/working/tpu-getting-started'\n",
    "CKPT_PATH = f'{WORK_ROOT}/checkpoints/best.ckpt'\n",
    "SUBMITCSV = '/kaggle/working/submission.csv'\n",
    "FONT_PATH = '/usr/share/fonts/truetype/dejavu/DejaVuSerif-Bold.ttf'\n",
    "\n",
    "INPUT_SIZE = 192\n",
    "BATCH_SIZE = 48\n",
    "NUM_CLASSES = 10\n",
    "\n",
    "MAX_EPOCHS = 30\n",
    "\n",
    "DATASET_MEAN = (0.1307, 0.1307, 0.1307)\n",
    "DATASET_STD = (0.3081, 0.3081, 0.3081)\n",
    "\n",
    "TEST_SPLIT = 0.3\n",
    "\n",
    "CLASS_NAMES = [\n",
    "    'pink primrose', 'hard-leaved pocket orchid', 'canterbury bells', 'sweet pea', \n",
    "    'wild geranium', 'tiger lily', 'moon orchid', 'bird of paradise', 'monkshood', \n",
    "    'globe thistle', 'snapdragon', \"colt's foot\", 'king protea', 'spear thistle', \n",
    "    'yellow iris', 'globe-flower', 'purple coneflower', 'peruvian lily', \n",
    "    'balloon flower', 'giant white arum lily', 'fire lily', 'pincushion flower', \n",
    "    'fritillary', 'red ginger', 'grape hyacinth', 'corn poppy', \n",
    "    'prince of wales feathers', 'stemless gentian', 'artichoke', 'sweet william', \n",
    "    'carnation', 'garden phlox', 'love in the mist', 'cosmos',  'alpine sea holly', \n",
    "    'ruby-lipped cattleya', 'cape flower', 'great masterwort',  'siam tulip', \n",
    "    'lenten rose', 'barberton daisy', 'daffodil',  'sword lily', 'poinsettia', \n",
    "    'bolero deep blue',  'wallflower', 'marigold', 'buttercup', 'daisy', \n",
    "    'common dandelion', 'petunia', 'wild pansy', 'primula',  'sunflower', \n",
    "    'lilac hibiscus', 'bishop of llandaff', 'gaura',  'geranium', 'orange dahlia', \n",
    "    'pink-yellow dahlia', 'cautleya spicata',  'japanese anemone', 'black-eyed susan', \n",
    "    'silverbush', 'californian poppy',  'osteospermum', 'spring crocus', 'iris', \n",
    "    'windflower',  'tree poppy', 'gazania', 'azalea', 'water lily',  'rose', \n",
    "    'thorn apple', 'morning glory', 'passion flower',  'lotus', 'toad lily', \n",
    "    'anthurium', 'frangipani',  'clematis', 'hibiscus', 'columbine', 'desert-rose', \n",
    "    'tree mallow', 'magnolia', 'cyclamen ', 'watercress',  'canna lily', \n",
    "    'hippeastrum ', 'bee balm', 'pink quill',  'foxglove', 'bougainvillea', \n",
    "    'camellia', 'mallow',  'mexican petunia',  'bromelia', 'blanket flower', \n",
    "    'trumpet creeper',  'blackberry lily', 'common tulip', 'wild rose']"
   ]
  },
  {
   "cell_type": "code",
   "execution_count": null,
   "metadata": {
    "ExecuteTime": {
     "end_time": "2020-09-23T16:13:56.707574Z",
     "start_time": "2020-09-23T16:13:55.555506Z"
    }
   },
   "outputs": [],
   "source": [
    "!ls -l $DATA_ROOT\n",
    "!mkdir -p $WORK_ROOT"
   ]
  },
  {
   "cell_type": "markdown",
   "metadata": {},
   "source": [
    "## Random Seed"
   ]
  },
  {
   "cell_type": "code",
   "execution_count": 7,
   "metadata": {
    "ExecuteTime": {
     "end_time": "2020-09-24T10:01:36.517075Z",
     "start_time": "2020-09-24T10:01:36.506940Z"
    }
   },
   "outputs": [],
   "source": [
    "torch.manual_seed(RNG_SEED)\n",
    "np.random.seed(RNG_SEED)\n",
    "random.seed(RNG_SEED)\n",
    "\n",
    "torch.backends.cudnn.deterministic = True\n",
    "torch.backends.cudnn.benchmark = False"
   ]
  },
  {
   "cell_type": "markdown",
   "metadata": {},
   "source": [
    "## Prepare Data"
   ]
  },
  {
   "cell_type": "code",
   "execution_count": 32,
   "metadata": {
    "ExecuteTime": {
     "end_time": "2020-09-24T13:07:15.428600Z",
     "start_time": "2020-09-24T13:07:15.413892Z"
    }
   },
   "outputs": [
    {
     "name": "stdout",
     "output_type": "stream",
     "text": [
      "Files: \n",
      "\tTrain tfrec Count: 16 \n",
      "\tValid tfrec Count: 16 \n",
      "\tTest  tfrec Count: 16\n"
     ]
    }
   ],
   "source": [
    "train_files = glob.glob(f'{DATA_ROOT}/*/train/*.tfrec')\n",
    "valid_files = glob.glob(f'{DATA_ROOT}/*/val/*.tfrec')\n",
    "test_files = glob.glob(f'{DATA_ROOT}/*/test/*.tfrec')\n",
    "print('Files:', \\\n",
    "      '\\n\\tTrain tfrec Count:', len(train_files), \\\n",
    "      '\\n\\tValid tfrec Count:', len(valid_files), \\\n",
    "      '\\n\\tTest  tfrec Count:', len(test_files))"
   ]
  },
  {
   "cell_type": "markdown",
   "metadata": {
    "ExecuteTime": {
     "end_time": "2020-09-24T10:03:46.069555Z",
     "start_time": "2020-09-24T10:03:46.060425Z"
    }
   },
   "source": [
    "### Create Records Index"
   ]
  },
  {
   "cell_type": "code",
   "execution_count": 59,
   "metadata": {
    "ExecuteTime": {
     "end_time": "2020-09-24T14:09:04.499574Z",
     "start_time": "2020-09-24T14:09:04.054380Z"
    }
   },
   "outputs": [],
   "source": [
    "def create_indexes(phase):\n",
    "    tfrec_files = glob.glob(f'{DATA_ROOT}/*/{phase}/*.tfrec')\n",
    "    dirpath = os.path.dirname(tfrec_files[0].replace(DATA_ROOT, WORK_ROOT))\n",
    "    if not os.path.exists(dirpath):\n",
    "        os.makedirs(dirpath)\n",
    "    patterns = []\n",
    "    for tfrec_path in tfrec_files:  \n",
    "        index_path = tfrec_path.replace(DATA_ROOT, WORK_ROOT).replace('.tfrec', '.index')\n",
    "        create_index(tfrec_path, index_path)\n",
    "        patterns.append(tfrec_path[len(DATA_ROOT)+1:-6])\n",
    "    return patterns\n",
    "        \n",
    "train_patterns = create_indexes('train')\n",
    "valid_patterns = create_indexes('val')\n",
    "test_patterns  = create_indexes('test')"
   ]
  },
  {
   "cell_type": "markdown",
   "metadata": {},
   "source": [
    "### Train and Valid Data"
   ]
  },
  {
   "cell_type": "code",
   "execution_count": 158,
   "metadata": {
    "ExecuteTime": {
     "end_time": "2020-09-24T15:44:49.417370Z",
     "start_time": "2020-09-24T15:44:49.405598Z"
    }
   },
   "outputs": [],
   "source": [
    "def preprocess_data(patterns, labeled=True):\n",
    "    tfrec_patterns = DATA_ROOT + '/{}.tfrec'\n",
    "    index_patterns = WORK_ROOT + '/{}.index'\n",
    "    \n",
    "    kratio = 1.0 / len(patterns)\n",
    "    splits = {pat: kratio for pat in patterns}\n",
    "    if labeled:\n",
    "        description = {'image': 'byte', 'class': 'int'}\n",
    "    else:\n",
    "        description = {'image': 'byte', 'id': 'byte'}\n",
    "    return MultiTFRecordDataset(\n",
    "        tfrec_patterns,\n",
    "        index_patterns,\n",
    "        splits,\n",
    "        description,\n",
    "        shuffle_queue_size=None\n",
    "    )"
   ]
  },
  {
   "cell_type": "code",
   "execution_count": 159,
   "metadata": {
    "ExecuteTime": {
     "end_time": "2020-09-24T15:44:58.240446Z",
     "start_time": "2020-09-24T15:44:58.218017Z"
    }
   },
   "outputs": [
    {
     "ename": "TypeError",
     "evalue": "object of type 'MultiTFRecordDataset' has no len()",
     "output_type": "error",
     "traceback": [
      "\u001b[0;31m\u001b[0m",
      "\u001b[0;31mTypeError\u001b[0mTraceback (most recent call last)",
      "\u001b[0;32m<ipython-input-159-214974d0e0c0>\u001b[0m in \u001b[0;36m<module>\u001b[0;34m\u001b[0m\n\u001b[0;32m----> 1\u001b[0;31m \u001b[0mlen\u001b[0m\u001b[0;34m(\u001b[0m\u001b[0mtrain_dataset\u001b[0m\u001b[0;34m)\u001b[0m\u001b[0;34m\u001b[0m\u001b[0;34m\u001b[0m\u001b[0m\n\u001b[0m",
      "\u001b[0;31mTypeError\u001b[0m: object of type 'MultiTFRecordDataset' has no len()"
     ]
    }
   ],
   "source": [
    "len(train_dataset)"
   ]
  },
  {
   "cell_type": "code",
   "execution_count": 150,
   "metadata": {
    "ExecuteTime": {
     "end_time": "2020-09-24T15:07:28.328344Z",
     "start_time": "2020-09-24T15:07:28.314953Z"
    }
   },
   "outputs": [],
   "source": [
    "train_dataset = preprocess_data(train_patterns)\n",
    "valid_dataset = preprocess_data(valid_patterns)"
   ]
  },
  {
   "cell_type": "code",
   "execution_count": 156,
   "metadata": {
    "ExecuteTime": {
     "end_time": "2020-09-24T15:21:31.143208Z",
     "start_time": "2020-09-24T15:21:31.135953Z"
    }
   },
   "outputs": [],
   "source": [
    "loader = torch.utils.data.DataLoader(\n",
    "    train_dataset, batch_size=32,\n",
    "    shuffle=False, pin_memory=False, drop_last=True,\n",
    ")"
   ]
  },
  {
   "cell_type": "code",
   "execution_count": 157,
   "metadata": {
    "ExecuteTime": {
     "end_time": "2020-09-24T15:21:32.830318Z",
     "start_time": "2020-09-24T15:21:32.559573Z"
    }
   },
   "outputs": [
    {
     "name": "stderr",
     "output_type": "stream",
     "text": [
      "0it [00:00, ?it/s]\n"
     ]
    },
    {
     "ename": "RuntimeError",
     "evalue": "stack expects each tensor to be equal size, but got [29390] at entry 0 and [14194] at entry 1",
     "output_type": "error",
     "traceback": [
      "\u001b[0;31m\u001b[0m",
      "\u001b[0;31mRuntimeError\u001b[0mTraceback (most recent call last)",
      "\u001b[0;32m<ipython-input-157-db603202587f>\u001b[0m in \u001b[0;36m<module>\u001b[0;34m\u001b[0m\n\u001b[0;32m----> 1\u001b[0;31m \u001b[0;32mfor\u001b[0m \u001b[0maa\u001b[0m \u001b[0;32min\u001b[0m \u001b[0mtqdm\u001b[0m\u001b[0;34m(\u001b[0m\u001b[0mloader\u001b[0m\u001b[0;34m)\u001b[0m\u001b[0;34m:\u001b[0m\u001b[0;34m\u001b[0m\u001b[0;34m\u001b[0m\u001b[0m\n\u001b[0m\u001b[1;32m      2\u001b[0m     \u001b[0mprint\u001b[0m\u001b[0;34m(\u001b[0m\u001b[0maa\u001b[0m\u001b[0;34m)\u001b[0m\u001b[0;34m\u001b[0m\u001b[0;34m\u001b[0m\u001b[0m\n",
      "\u001b[0;32m/usr/local/lib/python3.6/dist-packages/tqdm/std.py\u001b[0m in \u001b[0;36m__iter__\u001b[0;34m(self)\u001b[0m\n\u001b[1;32m   1127\u001b[0m \u001b[0;34m\u001b[0m\u001b[0m\n\u001b[1;32m   1128\u001b[0m         \u001b[0;32mtry\u001b[0m\u001b[0;34m:\u001b[0m\u001b[0;34m\u001b[0m\u001b[0;34m\u001b[0m\u001b[0m\n\u001b[0;32m-> 1129\u001b[0;31m             \u001b[0;32mfor\u001b[0m \u001b[0mobj\u001b[0m \u001b[0;32min\u001b[0m \u001b[0miterable\u001b[0m\u001b[0;34m:\u001b[0m\u001b[0;34m\u001b[0m\u001b[0;34m\u001b[0m\u001b[0m\n\u001b[0m\u001b[1;32m   1130\u001b[0m                 \u001b[0;32myield\u001b[0m \u001b[0mobj\u001b[0m\u001b[0;34m\u001b[0m\u001b[0;34m\u001b[0m\u001b[0m\n\u001b[1;32m   1131\u001b[0m                 \u001b[0;31m# Update and possibly print the progressbar.\u001b[0m\u001b[0;34m\u001b[0m\u001b[0;34m\u001b[0m\u001b[0;34m\u001b[0m\u001b[0m\n",
      "\u001b[0;32m/usr/local/lib/python3.6/dist-packages/torch/utils/data/dataloader.py\u001b[0m in \u001b[0;36m__next__\u001b[0;34m(self)\u001b[0m\n\u001b[1;32m    351\u001b[0m \u001b[0;34m\u001b[0m\u001b[0m\n\u001b[1;32m    352\u001b[0m     \u001b[0;32mdef\u001b[0m \u001b[0m__next__\u001b[0m\u001b[0;34m(\u001b[0m\u001b[0mself\u001b[0m\u001b[0;34m)\u001b[0m\u001b[0;34m:\u001b[0m\u001b[0;34m\u001b[0m\u001b[0;34m\u001b[0m\u001b[0m\n\u001b[0;32m--> 353\u001b[0;31m         \u001b[0mdata\u001b[0m \u001b[0;34m=\u001b[0m \u001b[0mself\u001b[0m\u001b[0;34m.\u001b[0m\u001b[0m_next_data\u001b[0m\u001b[0;34m(\u001b[0m\u001b[0;34m)\u001b[0m\u001b[0;34m\u001b[0m\u001b[0;34m\u001b[0m\u001b[0m\n\u001b[0m\u001b[1;32m    354\u001b[0m         \u001b[0mself\u001b[0m\u001b[0;34m.\u001b[0m\u001b[0m_num_yielded\u001b[0m \u001b[0;34m+=\u001b[0m \u001b[0;36m1\u001b[0m\u001b[0;34m\u001b[0m\u001b[0;34m\u001b[0m\u001b[0m\n\u001b[1;32m    355\u001b[0m         \u001b[0;32mif\u001b[0m \u001b[0mself\u001b[0m\u001b[0;34m.\u001b[0m\u001b[0m_dataset_kind\u001b[0m \u001b[0;34m==\u001b[0m \u001b[0m_DatasetKind\u001b[0m\u001b[0;34m.\u001b[0m\u001b[0mIterable\u001b[0m \u001b[0;32mand\u001b[0m\u001b[0;31m \u001b[0m\u001b[0;31m\\\u001b[0m\u001b[0;34m\u001b[0m\u001b[0;34m\u001b[0m\u001b[0m\n",
      "\u001b[0;32m/usr/local/lib/python3.6/dist-packages/torch/utils/data/dataloader.py\u001b[0m in \u001b[0;36m_next_data\u001b[0;34m(self)\u001b[0m\n\u001b[1;32m    391\u001b[0m     \u001b[0;32mdef\u001b[0m \u001b[0m_next_data\u001b[0m\u001b[0;34m(\u001b[0m\u001b[0mself\u001b[0m\u001b[0;34m)\u001b[0m\u001b[0;34m:\u001b[0m\u001b[0;34m\u001b[0m\u001b[0;34m\u001b[0m\u001b[0m\n\u001b[1;32m    392\u001b[0m         \u001b[0mindex\u001b[0m \u001b[0;34m=\u001b[0m \u001b[0mself\u001b[0m\u001b[0;34m.\u001b[0m\u001b[0m_next_index\u001b[0m\u001b[0;34m(\u001b[0m\u001b[0;34m)\u001b[0m  \u001b[0;31m# may raise StopIteration\u001b[0m\u001b[0;34m\u001b[0m\u001b[0;34m\u001b[0m\u001b[0m\n\u001b[0;32m--> 393\u001b[0;31m         \u001b[0mdata\u001b[0m \u001b[0;34m=\u001b[0m \u001b[0mself\u001b[0m\u001b[0;34m.\u001b[0m\u001b[0m_dataset_fetcher\u001b[0m\u001b[0;34m.\u001b[0m\u001b[0mfetch\u001b[0m\u001b[0;34m(\u001b[0m\u001b[0mindex\u001b[0m\u001b[0;34m)\u001b[0m  \u001b[0;31m# may raise StopIteration\u001b[0m\u001b[0;34m\u001b[0m\u001b[0;34m\u001b[0m\u001b[0m\n\u001b[0m\u001b[1;32m    394\u001b[0m         \u001b[0;32mif\u001b[0m \u001b[0mself\u001b[0m\u001b[0;34m.\u001b[0m\u001b[0m_pin_memory\u001b[0m\u001b[0;34m:\u001b[0m\u001b[0;34m\u001b[0m\u001b[0;34m\u001b[0m\u001b[0m\n\u001b[1;32m    395\u001b[0m             \u001b[0mdata\u001b[0m \u001b[0;34m=\u001b[0m \u001b[0m_utils\u001b[0m\u001b[0;34m.\u001b[0m\u001b[0mpin_memory\u001b[0m\u001b[0;34m.\u001b[0m\u001b[0mpin_memory\u001b[0m\u001b[0;34m(\u001b[0m\u001b[0mdata\u001b[0m\u001b[0;34m)\u001b[0m\u001b[0;34m\u001b[0m\u001b[0;34m\u001b[0m\u001b[0m\n",
      "\u001b[0;32m/usr/local/lib/python3.6/dist-packages/torch/utils/data/_utils/fetch.py\u001b[0m in \u001b[0;36mfetch\u001b[0;34m(self, possibly_batched_index)\u001b[0m\n\u001b[1;32m     33\u001b[0m         \u001b[0;32melse\u001b[0m\u001b[0;34m:\u001b[0m\u001b[0;34m\u001b[0m\u001b[0;34m\u001b[0m\u001b[0m\n\u001b[1;32m     34\u001b[0m             \u001b[0mdata\u001b[0m \u001b[0;34m=\u001b[0m \u001b[0mnext\u001b[0m\u001b[0;34m(\u001b[0m\u001b[0mself\u001b[0m\u001b[0;34m.\u001b[0m\u001b[0mdataset_iter\u001b[0m\u001b[0;34m)\u001b[0m\u001b[0;34m\u001b[0m\u001b[0;34m\u001b[0m\u001b[0m\n\u001b[0;32m---> 35\u001b[0;31m         \u001b[0;32mreturn\u001b[0m \u001b[0mself\u001b[0m\u001b[0;34m.\u001b[0m\u001b[0mcollate_fn\u001b[0m\u001b[0;34m(\u001b[0m\u001b[0mdata\u001b[0m\u001b[0;34m)\u001b[0m\u001b[0;34m\u001b[0m\u001b[0;34m\u001b[0m\u001b[0m\n\u001b[0m\u001b[1;32m     36\u001b[0m \u001b[0;34m\u001b[0m\u001b[0m\n\u001b[1;32m     37\u001b[0m \u001b[0;34m\u001b[0m\u001b[0m\n",
      "\u001b[0;32m/usr/local/lib/python3.6/dist-packages/torch/utils/data/_utils/collate.py\u001b[0m in \u001b[0;36mdefault_collate\u001b[0;34m(batch)\u001b[0m\n\u001b[1;32m     72\u001b[0m         \u001b[0;32mreturn\u001b[0m \u001b[0mbatch\u001b[0m\u001b[0;34m\u001b[0m\u001b[0;34m\u001b[0m\u001b[0m\n\u001b[1;32m     73\u001b[0m     \u001b[0;32melif\u001b[0m \u001b[0misinstance\u001b[0m\u001b[0;34m(\u001b[0m\u001b[0melem\u001b[0m\u001b[0;34m,\u001b[0m \u001b[0mcontainer_abcs\u001b[0m\u001b[0;34m.\u001b[0m\u001b[0mMapping\u001b[0m\u001b[0;34m)\u001b[0m\u001b[0;34m:\u001b[0m\u001b[0;34m\u001b[0m\u001b[0;34m\u001b[0m\u001b[0m\n\u001b[0;32m---> 74\u001b[0;31m         \u001b[0;32mreturn\u001b[0m \u001b[0;34m{\u001b[0m\u001b[0mkey\u001b[0m\u001b[0;34m:\u001b[0m \u001b[0mdefault_collate\u001b[0m\u001b[0;34m(\u001b[0m\u001b[0;34m[\u001b[0m\u001b[0md\u001b[0m\u001b[0;34m[\u001b[0m\u001b[0mkey\u001b[0m\u001b[0;34m]\u001b[0m \u001b[0;32mfor\u001b[0m \u001b[0md\u001b[0m \u001b[0;32min\u001b[0m \u001b[0mbatch\u001b[0m\u001b[0;34m]\u001b[0m\u001b[0;34m)\u001b[0m \u001b[0;32mfor\u001b[0m \u001b[0mkey\u001b[0m \u001b[0;32min\u001b[0m \u001b[0melem\u001b[0m\u001b[0;34m}\u001b[0m\u001b[0;34m\u001b[0m\u001b[0;34m\u001b[0m\u001b[0m\n\u001b[0m\u001b[1;32m     75\u001b[0m     \u001b[0;32melif\u001b[0m \u001b[0misinstance\u001b[0m\u001b[0;34m(\u001b[0m\u001b[0melem\u001b[0m\u001b[0;34m,\u001b[0m \u001b[0mtuple\u001b[0m\u001b[0;34m)\u001b[0m \u001b[0;32mand\u001b[0m \u001b[0mhasattr\u001b[0m\u001b[0;34m(\u001b[0m\u001b[0melem\u001b[0m\u001b[0;34m,\u001b[0m \u001b[0;34m'_fields'\u001b[0m\u001b[0;34m)\u001b[0m\u001b[0;34m:\u001b[0m  \u001b[0;31m# namedtuple\u001b[0m\u001b[0;34m\u001b[0m\u001b[0;34m\u001b[0m\u001b[0m\n\u001b[1;32m     76\u001b[0m         \u001b[0;32mreturn\u001b[0m \u001b[0melem_type\u001b[0m\u001b[0;34m(\u001b[0m\u001b[0;34m*\u001b[0m\u001b[0;34m(\u001b[0m\u001b[0mdefault_collate\u001b[0m\u001b[0;34m(\u001b[0m\u001b[0msamples\u001b[0m\u001b[0;34m)\u001b[0m \u001b[0;32mfor\u001b[0m \u001b[0msamples\u001b[0m \u001b[0;32min\u001b[0m \u001b[0mzip\u001b[0m\u001b[0;34m(\u001b[0m\u001b[0;34m*\u001b[0m\u001b[0mbatch\u001b[0m\u001b[0;34m)\u001b[0m\u001b[0;34m)\u001b[0m\u001b[0;34m)\u001b[0m\u001b[0;34m\u001b[0m\u001b[0;34m\u001b[0m\u001b[0m\n",
      "\u001b[0;32m/usr/local/lib/python3.6/dist-packages/torch/utils/data/_utils/collate.py\u001b[0m in \u001b[0;36m<dictcomp>\u001b[0;34m(.0)\u001b[0m\n\u001b[1;32m     72\u001b[0m         \u001b[0;32mreturn\u001b[0m \u001b[0mbatch\u001b[0m\u001b[0;34m\u001b[0m\u001b[0;34m\u001b[0m\u001b[0m\n\u001b[1;32m     73\u001b[0m     \u001b[0;32melif\u001b[0m \u001b[0misinstance\u001b[0m\u001b[0;34m(\u001b[0m\u001b[0melem\u001b[0m\u001b[0;34m,\u001b[0m \u001b[0mcontainer_abcs\u001b[0m\u001b[0;34m.\u001b[0m\u001b[0mMapping\u001b[0m\u001b[0;34m)\u001b[0m\u001b[0;34m:\u001b[0m\u001b[0;34m\u001b[0m\u001b[0;34m\u001b[0m\u001b[0m\n\u001b[0;32m---> 74\u001b[0;31m         \u001b[0;32mreturn\u001b[0m \u001b[0;34m{\u001b[0m\u001b[0mkey\u001b[0m\u001b[0;34m:\u001b[0m \u001b[0mdefault_collate\u001b[0m\u001b[0;34m(\u001b[0m\u001b[0;34m[\u001b[0m\u001b[0md\u001b[0m\u001b[0;34m[\u001b[0m\u001b[0mkey\u001b[0m\u001b[0;34m]\u001b[0m \u001b[0;32mfor\u001b[0m \u001b[0md\u001b[0m \u001b[0;32min\u001b[0m \u001b[0mbatch\u001b[0m\u001b[0;34m]\u001b[0m\u001b[0;34m)\u001b[0m \u001b[0;32mfor\u001b[0m \u001b[0mkey\u001b[0m \u001b[0;32min\u001b[0m \u001b[0melem\u001b[0m\u001b[0;34m}\u001b[0m\u001b[0;34m\u001b[0m\u001b[0;34m\u001b[0m\u001b[0m\n\u001b[0m\u001b[1;32m     75\u001b[0m     \u001b[0;32melif\u001b[0m \u001b[0misinstance\u001b[0m\u001b[0;34m(\u001b[0m\u001b[0melem\u001b[0m\u001b[0;34m,\u001b[0m \u001b[0mtuple\u001b[0m\u001b[0;34m)\u001b[0m \u001b[0;32mand\u001b[0m \u001b[0mhasattr\u001b[0m\u001b[0;34m(\u001b[0m\u001b[0melem\u001b[0m\u001b[0;34m,\u001b[0m \u001b[0;34m'_fields'\u001b[0m\u001b[0;34m)\u001b[0m\u001b[0;34m:\u001b[0m  \u001b[0;31m# namedtuple\u001b[0m\u001b[0;34m\u001b[0m\u001b[0;34m\u001b[0m\u001b[0m\n\u001b[1;32m     76\u001b[0m         \u001b[0;32mreturn\u001b[0m \u001b[0melem_type\u001b[0m\u001b[0;34m(\u001b[0m\u001b[0;34m*\u001b[0m\u001b[0;34m(\u001b[0m\u001b[0mdefault_collate\u001b[0m\u001b[0;34m(\u001b[0m\u001b[0msamples\u001b[0m\u001b[0;34m)\u001b[0m \u001b[0;32mfor\u001b[0m \u001b[0msamples\u001b[0m \u001b[0;32min\u001b[0m \u001b[0mzip\u001b[0m\u001b[0;34m(\u001b[0m\u001b[0;34m*\u001b[0m\u001b[0mbatch\u001b[0m\u001b[0;34m)\u001b[0m\u001b[0;34m)\u001b[0m\u001b[0;34m)\u001b[0m\u001b[0;34m\u001b[0m\u001b[0;34m\u001b[0m\u001b[0m\n",
      "\u001b[0;32m/usr/local/lib/python3.6/dist-packages/torch/utils/data/_utils/collate.py\u001b[0m in \u001b[0;36mdefault_collate\u001b[0;34m(batch)\u001b[0m\n\u001b[1;32m     62\u001b[0m                 \u001b[0;32mraise\u001b[0m \u001b[0mTypeError\u001b[0m\u001b[0;34m(\u001b[0m\u001b[0mdefault_collate_err_msg_format\u001b[0m\u001b[0;34m.\u001b[0m\u001b[0mformat\u001b[0m\u001b[0;34m(\u001b[0m\u001b[0melem\u001b[0m\u001b[0;34m.\u001b[0m\u001b[0mdtype\u001b[0m\u001b[0;34m)\u001b[0m\u001b[0;34m)\u001b[0m\u001b[0;34m\u001b[0m\u001b[0;34m\u001b[0m\u001b[0m\n\u001b[1;32m     63\u001b[0m \u001b[0;34m\u001b[0m\u001b[0m\n\u001b[0;32m---> 64\u001b[0;31m             \u001b[0;32mreturn\u001b[0m \u001b[0mdefault_collate\u001b[0m\u001b[0;34m(\u001b[0m\u001b[0;34m[\u001b[0m\u001b[0mtorch\u001b[0m\u001b[0;34m.\u001b[0m\u001b[0mas_tensor\u001b[0m\u001b[0;34m(\u001b[0m\u001b[0mb\u001b[0m\u001b[0;34m)\u001b[0m \u001b[0;32mfor\u001b[0m \u001b[0mb\u001b[0m \u001b[0;32min\u001b[0m \u001b[0mbatch\u001b[0m\u001b[0;34m]\u001b[0m\u001b[0;34m)\u001b[0m\u001b[0;34m\u001b[0m\u001b[0;34m\u001b[0m\u001b[0m\n\u001b[0m\u001b[1;32m     65\u001b[0m         \u001b[0;32melif\u001b[0m \u001b[0melem\u001b[0m\u001b[0;34m.\u001b[0m\u001b[0mshape\u001b[0m \u001b[0;34m==\u001b[0m \u001b[0;34m(\u001b[0m\u001b[0;34m)\u001b[0m\u001b[0;34m:\u001b[0m  \u001b[0;31m# scalars\u001b[0m\u001b[0;34m\u001b[0m\u001b[0;34m\u001b[0m\u001b[0m\n\u001b[1;32m     66\u001b[0m             \u001b[0;32mreturn\u001b[0m \u001b[0mtorch\u001b[0m\u001b[0;34m.\u001b[0m\u001b[0mas_tensor\u001b[0m\u001b[0;34m(\u001b[0m\u001b[0mbatch\u001b[0m\u001b[0;34m)\u001b[0m\u001b[0;34m\u001b[0m\u001b[0;34m\u001b[0m\u001b[0m\n",
      "\u001b[0;32m/usr/local/lib/python3.6/dist-packages/torch/utils/data/_utils/collate.py\u001b[0m in \u001b[0;36mdefault_collate\u001b[0;34m(batch)\u001b[0m\n\u001b[1;32m     53\u001b[0m             \u001b[0mstorage\u001b[0m \u001b[0;34m=\u001b[0m \u001b[0melem\u001b[0m\u001b[0;34m.\u001b[0m\u001b[0mstorage\u001b[0m\u001b[0;34m(\u001b[0m\u001b[0;34m)\u001b[0m\u001b[0;34m.\u001b[0m\u001b[0m_new_shared\u001b[0m\u001b[0;34m(\u001b[0m\u001b[0mnumel\u001b[0m\u001b[0;34m)\u001b[0m\u001b[0;34m\u001b[0m\u001b[0;34m\u001b[0m\u001b[0m\n\u001b[1;32m     54\u001b[0m             \u001b[0mout\u001b[0m \u001b[0;34m=\u001b[0m \u001b[0melem\u001b[0m\u001b[0;34m.\u001b[0m\u001b[0mnew\u001b[0m\u001b[0;34m(\u001b[0m\u001b[0mstorage\u001b[0m\u001b[0;34m)\u001b[0m\u001b[0;34m\u001b[0m\u001b[0;34m\u001b[0m\u001b[0m\n\u001b[0;32m---> 55\u001b[0;31m         \u001b[0;32mreturn\u001b[0m \u001b[0mtorch\u001b[0m\u001b[0;34m.\u001b[0m\u001b[0mstack\u001b[0m\u001b[0;34m(\u001b[0m\u001b[0mbatch\u001b[0m\u001b[0;34m,\u001b[0m \u001b[0;36m0\u001b[0m\u001b[0;34m,\u001b[0m \u001b[0mout\u001b[0m\u001b[0;34m=\u001b[0m\u001b[0mout\u001b[0m\u001b[0;34m)\u001b[0m\u001b[0;34m\u001b[0m\u001b[0;34m\u001b[0m\u001b[0m\n\u001b[0m\u001b[1;32m     56\u001b[0m     \u001b[0;32melif\u001b[0m \u001b[0melem_type\u001b[0m\u001b[0;34m.\u001b[0m\u001b[0m__module__\u001b[0m \u001b[0;34m==\u001b[0m \u001b[0;34m'numpy'\u001b[0m \u001b[0;32mand\u001b[0m \u001b[0melem_type\u001b[0m\u001b[0;34m.\u001b[0m\u001b[0m__name__\u001b[0m \u001b[0;34m!=\u001b[0m \u001b[0;34m'str_'\u001b[0m\u001b[0;31m \u001b[0m\u001b[0;31m\\\u001b[0m\u001b[0;34m\u001b[0m\u001b[0;34m\u001b[0m\u001b[0m\n\u001b[1;32m     57\u001b[0m             \u001b[0;32mand\u001b[0m \u001b[0melem_type\u001b[0m\u001b[0;34m.\u001b[0m\u001b[0m__name__\u001b[0m \u001b[0;34m!=\u001b[0m \u001b[0;34m'string_'\u001b[0m\u001b[0;34m:\u001b[0m\u001b[0;34m\u001b[0m\u001b[0;34m\u001b[0m\u001b[0m\n",
      "\u001b[0;31mRuntimeError\u001b[0m: stack expects each tensor to be equal size, but got [29390] at entry 0 and [14194] at entry 1"
     ]
    }
   ],
   "source": [
    "for aa in tqdm(loader):\n",
    "    print(aa)"
   ]
  },
  {
   "cell_type": "code",
   "execution_count": 132,
   "metadata": {
    "ExecuteTime": {
     "end_time": "2020-09-24T14:50:24.416075Z",
     "start_time": "2020-09-24T14:50:24.382416Z"
    }
   },
   "outputs": [
    {
     "data": {
      "image/png": "[encoded data removed]",
      "text/plain": [
       "<PIL.Image.Image image mode=RGB size=192x192 at 0x7F679396A240>"
      ]
     },
     "execution_count": 132,
     "metadata": {},
     "output_type": "execute_result"
    }
   ],
   "source": [
    "imgByteArr = io.BytesIO(aa['image'])\n",
    "Image.open(imgByteArr, mode='r').convert('RGB')"
   ]
  },
  {
   "cell_type": "markdown",
   "metadata": {},
   "source": [
    "### Test Data"
   ]
  },
  {
   "cell_type": "code",
   "execution_count": 111,
   "metadata": {
    "ExecuteTime": {
     "end_time": "2020-09-24T14:34:56.562333Z",
     "start_time": "2020-09-24T14:34:56.557213Z"
    }
   },
   "outputs": [],
   "source": [
    "test_dataset = preprocess_data(test_patterns, labeled=False)"
   ]
  },
  {
   "cell_type": "code",
   "execution_count": 146,
   "metadata": {
    "ExecuteTime": {
     "end_time": "2020-09-24T14:53:48.664315Z",
     "start_time": "2020-09-24T14:53:48.655105Z"
    }
   },
   "outputs": [
    {
     "data": {
      "text/plain": [
       "'5d58d5dfe'"
      ]
     },
     "execution_count": 146,
     "metadata": {},
     "output_type": "execute_result"
    }
   ],
   "source": [
    "str(bb[\"id\"], encoding=\"utf-8\")"
   ]
  },
  {
   "cell_type": "code",
   "execution_count": 147,
   "metadata": {
    "ExecuteTime": {
     "end_time": "2020-09-24T14:54:21.296290Z",
     "start_time": "2020-09-24T14:54:21.287267Z"
    }
   },
   "outputs": [
    {
     "data": {
      "text/plain": [
       "numpy.ndarray"
      ]
     },
     "execution_count": 147,
     "metadata": {},
     "output_type": "execute_result"
    }
   ],
   "source": [
    "type(bb['id'])"
   ]
  },
  {
   "cell_type": "markdown",
   "metadata": {},
   "source": [
    "## Sample Data Exploration"
   ]
  },
  {
   "cell_type": "markdown",
   "metadata": {},
   "source": [
    "### Demo  Image"
   ]
  },
  {
   "cell_type": "code",
   "execution_count": null,
   "metadata": {
    "ExecuteTime": {
     "end_time": "2020-09-23T16:14:04.734639Z",
     "start_time": "2020-09-23T16:14:03.944281Z"
    }
   },
   "outputs": [],
   "source": [
    "fig, axes = plt.subplots(nrows=3, ncols=5, sharey=True, figsize=(12,4))\n",
    "C = random.randint(100, 200)\n",
    "for r in range(3):\n",
    "    for c in range(5):\n",
    "        axes[r][c].set_xticks([])\n",
    "        axes[r][c].set_yticks([])\n",
    "        axes[r][c].imshow(test_data[(r+1)*(c+1) + C], cmap='gray') # 'gray_r'"
   ]
  },
  {
   "cell_type": "markdown",
   "metadata": {},
   "source": [
    "### Label Data Distribution"
   ]
  },
  {
   "cell_type": "code",
   "execution_count": null,
   "metadata": {
    "ExecuteTime": {
     "end_time": "2020-09-23T16:14:05.096102Z",
     "start_time": "2020-09-23T16:14:04.737320Z"
    }
   },
   "outputs": [],
   "source": [
    "sns.countplot(x='label', data=train_df).set_title(\"Train Label Distribution\")\n",
    "del train_df"
   ]
  },
  {
   "cell_type": "code",
   "execution_count": null,
   "metadata": {
    "ExecuteTime": {
     "end_time": "2020-09-23T16:14:05.380195Z",
     "start_time": "2020-09-23T16:14:05.098655Z"
    }
   },
   "outputs": [],
   "source": [
    "sns.countplot(x='label',data=valid_df).set_title(\"Valid Label Distribution\")\n",
    "del valid_df"
   ]
  },
  {
   "cell_type": "markdown",
   "metadata": {},
   "source": [
    "### Define Display Image Method"
   ]
  },
  {
   "cell_type": "code",
   "execution_count": null,
   "metadata": {
    "ExecuteTime": {
     "end_time": "2020-09-23T16:14:05.392050Z",
     "start_time": "2020-09-23T16:14:05.382708Z"
    }
   },
   "outputs": [],
   "source": [
    "def draw_image(imgdata, labelname, resize=None, augtrans=None):\n",
    "    img = Image.fromarray(imgdata).convert('RGB')\n",
    "    if resize is not None:\n",
    "        img = img.resize((resize, resize))\n",
    "    if augtrans is not None:\n",
    "        img = augtrans(img)\n",
    "        \n",
    "    font_obj = ImageFont.truetype(FONT_PATH, 12)\n",
    "    draw_img = ImageDraw.Draw(img)\n",
    "    font = ImageFont.load_default()\n",
    "    draw_img.text((0, 0), labelname, font=font_obj, fill=(0, 0, 255))\n",
    "    return np.array(img)\n",
    "\n",
    "def grid_image(imgs_list, cols=5):\n",
    "    images = torch.as_tensor(imgs_list) # [(W, H, C)...] to (B, H, W, C)\n",
    "    images = images.permute(0, 3, 1, 2) # (B, H, W, C) to (B, C, H, W)\n",
    "    images = torchvision.utils.make_grid(images, nrow=cols) # (C, 2*H, 4*W)\n",
    "    images = images.permute(1, 2, 0) # (H, W, C)\n",
    "    return images"
   ]
  },
  {
   "cell_type": "markdown",
   "metadata": {},
   "source": [
    "### Display Raw Sample Images"
   ]
  },
  {
   "cell_type": "code",
   "execution_count": null,
   "metadata": {
    "ExecuteTime": {
     "end_time": "2020-09-23T16:14:05.566507Z",
     "start_time": "2020-09-23T16:14:05.394509Z"
    }
   },
   "outputs": [],
   "source": [
    "plt.figure(figsize=(16, 8))\n",
    "\n",
    "images_2x5 = [\n",
    "    draw_image(\n",
    "        imgdata=imgdata,\n",
    "        labelname=str(label),\n",
    "    ) for label, imgdata in train_data[:10]\n",
    "]\n",
    "\n",
    "plt.xticks([])\n",
    "plt.yticks([])\n",
    "plt.imshow(grid_image(images_2x5, cols=5), cmap='gray');"
   ]
  },
  {
   "cell_type": "markdown",
   "metadata": {},
   "source": [
    "### Data Augment Transform"
   ]
  },
  {
   "cell_type": "code",
   "execution_count": null,
   "metadata": {
    "ExecuteTime": {
     "end_time": "2020-09-23T16:14:05.577218Z",
     "start_time": "2020-09-23T16:14:05.570551Z"
    }
   },
   "outputs": [],
   "source": [
    "aug_trans = RandomOrder([\n",
    "    RandomRotation(degrees=30),\n",
    "    # RandomVerticalFlip(p=0.3),\n",
    "    # RandomHorizontalFlip(p=0.3),\n",
    "    # ColorJitter(brightness=0.55, contrast=0.3, saturation=0.25, hue=0),\n",
    "])\n",
    "\n",
    "img_trans = Compose([\n",
    "    ToTensor(),\n",
    "    Normalize(mean=DATASET_MEAN, std=DATASET_STD),\n",
    "])"
   ]
  },
  {
   "cell_type": "markdown",
   "metadata": {},
   "source": [
    "### Display Augment Images"
   ]
  },
  {
   "cell_type": "code",
   "execution_count": null,
   "metadata": {
    "ExecuteTime": {
     "end_time": "2020-09-23T16:14:05.895354Z",
     "start_time": "2020-09-23T16:14:05.584649Z"
    }
   },
   "outputs": [],
   "source": [
    "plt.figure(figsize=(24, 12))\n",
    "\n",
    "trans_images_2x5 = [\n",
    "    draw_image(\n",
    "        imgdata=imgdata,\n",
    "        labelname=str(label),\n",
    "        augtrans = aug_trans\n",
    "    ) for label, imgdata in train_data[:10]\n",
    "]\n",
    "\n",
    "plt.xticks([])\n",
    "plt.yticks([])\n",
    "plt.imshow(grid_image(trans_images_2x5, cols=5));"
   ]
  },
  {
   "cell_type": "markdown",
   "metadata": {},
   "source": [
    "## Build Network"
   ]
  },
  {
   "cell_type": "markdown",
   "metadata": {},
   "source": [
    "### Load Pretrained Model"
   ]
  },
  {
   "cell_type": "code",
   "execution_count": null,
   "metadata": {
    "ExecuteTime": {
     "end_time": "2020-09-23T16:14:05.973638Z",
     "start_time": "2020-09-23T16:14:05.898437Z"
    }
   },
   "outputs": [],
   "source": [
    "backbone = torchvision.models.squeezenet1_1(pretrained=True)"
   ]
  },
  {
   "cell_type": "markdown",
   "metadata": {
    "ExecuteTime": {
     "end_time": "2020-09-21T09:47:38.878375Z",
     "start_time": "2020-09-21T09:47:36.189307Z"
    }
   },
   "source": [
    "### Freezing Partial Layers"
   ]
  },
  {
   "cell_type": "code",
   "execution_count": null,
   "metadata": {
    "ExecuteTime": {
     "end_time": "2020-09-23T16:14:05.980992Z",
     "start_time": "2020-09-23T16:14:05.975757Z"
    }
   },
   "outputs": [],
   "source": [
    "fz_count = 6\n",
    "for param in backbone.features.parameters():\n",
    "    pass\n",
    "    param.requires_grad = False\n",
    "    fz_count -= 1\n",
    "    if fz_count < 0:\n",
    "        break"
   ]
  },
  {
   "cell_type": "markdown",
   "metadata": {},
   "source": [
    "### Model/ Loss/Optimizer "
   ]
  },
  {
   "cell_type": "code",
   "execution_count": null,
   "metadata": {
    "ExecuteTime": {
     "end_time": "2020-09-23T16:14:06.052471Z",
     "start_time": "2020-09-23T16:14:05.984392Z"
    }
   },
   "outputs": [],
   "source": [
    "class DCDataset(Dataset):\n",
    "    def __init__(self, data, augtrans=None, imgtrans=ToTensor()):\n",
    "        super().__init__()\n",
    "        self.data = data\n",
    "        self.augtrans = augtrans\n",
    "        self.imgtrans = imgtrans\n",
    "    \n",
    "    def __getitem__(self, index):\n",
    "        label, imgdata = self.data[index]\n",
    "        img = Image.fromarray(imgdata).convert('RGB')\n",
    "        if self.augtrans:\n",
    "            img = self.augtrans(img)\n",
    "        img = self.imgtrans(img)\n",
    "        return img, label\n",
    "    \n",
    "    def __len__(self):\n",
    "        return len(self.data)\n",
    "    \n",
    "class TDCDataset(DCDataset):\n",
    "    def __getitem__(self, index):\n",
    "        imgdata = self.data[index]\n",
    "        img = Image.fromarray(imgdata).convert('RGB')\n",
    "        if self.augtrans:\n",
    "            img = self.augtrans(img)\n",
    "        img = self.imgtrans(img)\n",
    "        return img, index+1 # id\n",
    "        \n",
    "class DCNet(pl.LightningModule):\n",
    "    def __init__(self, extractor, num_classes=NUM_CLASSES):\n",
    "        super().__init__()\n",
    "        self.features = extractor\n",
    "        self.classifier = nn.Sequential(\n",
    "            nn.Dropout(p=0.3),\n",
    "            nn.Conv2d(512, num_classes, kernel_size=1),\n",
    "            nn.ReLU(inplace=True),\n",
    "            nn.AdaptiveAvgPool2d(output_size=(1, 1)),\n",
    "            nn.Flatten(start_dim=1, end_dim=-1)\n",
    "        )\n",
    "  \n",
    "    def forward(self, x, *args, **kwargs):\n",
    "        x = self.features(x)\n",
    "        x = self.classifier(x)\n",
    "        return x\n",
    "        \n",
    "    def setup(self, stage):\n",
    "        torch.cuda.empty_cache()\n",
    "\n",
    "    def teardown(self, stage):\n",
    "        for idx, gpu in enumerate(GPUtil.getGPUs()):\n",
    "            allocmem = round(torch.cuda.memory_allocated(idx) / 1024**2, 2)\n",
    "            allocmax = round(torch.cuda.max_memory_allocated(idx) / 1024**2, 2)\n",
    "            print(f'({stage})\\tGPU-{idx} mem allocated: {allocmem} MB\\t maxmem allocated: {allocmax} MB')\n",
    "            \n",
    "    @property\n",
    "    def metrics(self):\n",
    "        return self.metrics\n",
    "        \n",
    "    def configure_optimizers(self):\n",
    "        optimizer = torch.optim.SGD(\n",
    "            filter(lambda p: p.requires_grad, model.parameters()),\n",
    "            lr=0.001,\n",
    "        )\n",
    "        scheduler = torch.optim.lr_scheduler.ReduceLROnPlateau(\n",
    "            optimizer,\n",
    "            mode='min',\n",
    "            factor=0.1,\n",
    "            patience=3,\n",
    "            min_lr=1e-6)\n",
    "        return [optimizer], [scheduler]\n",
    "    \n",
    "    def prepare_data(self):\n",
    "        self.train_dataset = DCDataset(train_data, aug_trans, img_trans) \n",
    "        self.valid_dataset = DCDataset(valid_data, None, img_trans) \n",
    "        self.test_dataset = TDCDataset(test_data, None, img_trans)\n",
    "\n",
    "    def train_dataloader(self):\n",
    "        return DataLoader(\n",
    "                self.train_dataset,\n",
    "                batch_size=BATCH_SIZE,\n",
    "                num_workers=4,\n",
    "                drop_last=True,\n",
    "                shuffle=True)\n",
    "    \n",
    "    def training_step(self, batch, batch_idx):\n",
    "        x, y_true = batch\n",
    "        y_pred = self(x)\n",
    "        loss = F.cross_entropy(y_pred, y_true, reduction='mean')\n",
    "        acc = (torch.argmax(y_pred, dim=1) == y_true).float().mean()\n",
    "        return {'loss': loss, 'acc': acc}\n",
    "\n",
    "    def training_epoch_end(self, outputs):\n",
    "        loss = torch.stack([x['loss'] for x in outputs]).mean()\n",
    "        acc = torch.stack([x['acc'] for x in outputs]).mean()\n",
    "        METRICS['epoch'].append(self.current_epoch)\n",
    "        METRICS['train_loss'].append(loss)\n",
    "        METRICS['train_acc'].append(acc)\n",
    "        return {'progress_bar': {'train_loss': loss, 'train_acc': acc}}\n",
    "\n",
    "    def val_dataloader(self):\n",
    "        return DataLoader(\n",
    "            self.valid_dataset,\n",
    "            batch_size=BATCH_SIZE,\n",
    "            num_workers=4,\n",
    "            drop_last=False,\n",
    "            shuffle=False)\n",
    "    \n",
    "    def validation_step(self, batch, batch_idx):\n",
    "        x, y_true = batch\n",
    "        y_pred = self(x)\n",
    "        loss = F.cross_entropy(y_pred, y_true, reduction='mean')\n",
    "        acc = (torch.argmax(y_pred, dim=1) == y_true).float().mean()\n",
    "        return {'val_loss': loss, 'val_acc': acc}\n",
    "\n",
    "    def validation_epoch_end(self, outputs):\n",
    "        loss = torch.stack([x['val_loss'] for x in outputs]).mean()\n",
    "        acc = torch.stack([x['val_acc'] for x in outputs]).mean()\n",
    "        METRICS['val_loss'].append(loss)\n",
    "        METRICS['val_acc'].append(acc)\n",
    "        return {'progress_bar': {'val_loss': loss, 'val_acc': acc}}\n",
    "    \n",
    "    def test_dataloader(self):\n",
    "        return DataLoader(\n",
    "            self.test_dataset,\n",
    "            batch_size=BATCH_SIZE,\n",
    "            num_workers=4,\n",
    "            drop_last=False,\n",
    "            shuffle=False)\n",
    "    \n",
    "    def test_step(self, batch, batch_idx):\n",
    "        x, imgid = batch\n",
    "        y_pred = torch.argmax(self(x), dim=1).cpu().numpy()\n",
    "        log = {'imgid': imgid.cpu().numpy(), 'label': y_pred}\n",
    "        return log\n",
    "\n",
    "    def test_epoch_end(self, outputs):\n",
    "        imgid = np.concatenate([x['imgid'] for x in outputs])\n",
    "        label = np.concatenate([x['label'] for x in outputs])\n",
    "        return {'ImageId': imgid, 'Label': label}\n",
    "    \n",
    "class DCTrainer(pl.Trainer):\n",
    "    def __init__(self, *args, **kwargs):\n",
    "        super().__init__(*args, **kwargs)\n",
    "        \n",
    "    def save_checkpoint(self, filepath, weights_only: bool = False):\n",
    "        return super().save_checkpoint(CKPT_PATH, weights_only)\n",
    "\n",
    "    def on_validation_start(self):\n",
    "        lrs = []\n",
    "        for scheduler in self.lr_schedulers:\n",
    "            ss = scheduler['scheduler']\n",
    "            if isinstance(ss, torch.optim.lr_scheduler.ReduceLROnPlateau):\n",
    "                for i, param_group in enumerate(ss.optimizer.param_groups):\n",
    "                    lrs.append(np.float32(param_group['lr']))\n",
    "            else:\n",
    "                lrs.extend([np.float32(x) for x in ss.get_lr()])\n",
    "        self.add_progress_bar_metrics({'lr': lrs})\n",
    "        return super().on_validation_start()"
   ]
  },
  {
   "cell_type": "markdown",
   "metadata": {},
   "source": [
    "## Train"
   ]
  },
  {
   "cell_type": "code",
   "execution_count": null,
   "metadata": {
    "ExecuteTime": {
     "end_time": "2020-09-23T16:14:06.114064Z",
     "start_time": "2020-09-23T16:14:06.055221Z"
    }
   },
   "outputs": [],
   "source": [
    "trainer = DCTrainer(\n",
    "    max_epochs=MAX_EPOCHS,\n",
    "    logger=False,\n",
    "    log_gpu_memory='min_max',\n",
    "    weights_summary='top',\n",
    "    num_sanity_val_steps=0,\n",
    "    progress_bar_refresh_rate=1,\n",
    "    check_val_every_n_epoch=1,\n",
    "    default_root_dir=WORK_ROOT,\n",
    "    resume_from_checkpoint=CKPT_PATH if os.path.exists(CKPT_PATH) else None,\n",
    "    early_stop_callback=EarlyStopping(monitor='val_loss', patience=7, mode='min'),\n",
    "    checkpoint_callback=ModelCheckpoint(monitor='val_loss', period=5, mode='min'),\n",
    "    gpus=[0],\n",
    ")\n",
    "\n",
    "model = DCNet(backbone.features, num_classes=NUM_CLASSES)"
   ]
  },
  {
   "cell_type": "code",
   "execution_count": null,
   "metadata": {
    "ExecuteTime": {
     "end_time": "2020-09-23T16:22:09.826248Z",
     "start_time": "2020-09-23T16:14:06.116491Z"
    },
    "scrolled": false
   },
   "outputs": [],
   "source": [
    "METRICS = {\n",
    "    'epoch':[],\n",
    "    'train_loss':[],\n",
    "    'train_acc':[],\n",
    "    'val_acc':[],\n",
    "    'val_loss':[],\n",
    "}\n",
    "trainer.fit(model);"
   ]
  },
  {
   "cell_type": "markdown",
   "metadata": {},
   "source": [
    "## Predict"
   ]
  },
  {
   "cell_type": "code",
   "execution_count": null,
   "metadata": {
    "ExecuteTime": {
     "end_time": "2020-09-23T16:22:15.352600Z",
     "start_time": "2020-09-23T16:22:09.830859Z"
    }
   },
   "outputs": [],
   "source": [
    "result = trainer.test(model, verbose=False, ckpt_path=CKPT_PATH)"
   ]
  },
  {
   "cell_type": "code",
   "execution_count": null,
   "metadata": {
    "ExecuteTime": {
     "end_time": "2020-09-23T16:22:15.655161Z",
     "start_time": "2020-09-23T16:22:15.356723Z"
    }
   },
   "outputs": [],
   "source": [
    "result_df = pd.DataFrame(data=result[0])\n",
    "sns.countplot(x='label',data=result_df).set_title(\"Predict Data Distribution\");"
   ]
  },
  {
   "cell_type": "markdown",
   "metadata": {},
   "source": [
    "## Plot Metrics"
   ]
  },
  {
   "cell_type": "code",
   "execution_count": null,
   "metadata": {
    "ExecuteTime": {
     "end_time": "2020-09-23T16:22:16.523401Z",
     "start_time": "2020-09-23T16:22:15.658959Z"
    }
   },
   "outputs": [],
   "source": [
    "num_epoch = len(METRICS['epoch'])\n",
    "fig, axs = plt.subplots(1, 2, figsize=(16, 8))\n",
    "axs[0].plot(METRICS['epoch'], METRICS['train_acc'])\n",
    "axs[0].plot(METRICS['epoch'], METRICS['val_acc'])\n",
    "axs[0].set_title('Accuracy')\n",
    "axs[0].set_ylabel('Accuracy')\n",
    "axs[0].set_xlabel('Epoch')\n",
    "axs[0].legend(['train', 'val'], loc='best')\n",
    "\n",
    "axs[1].plot(METRICS['epoch'], METRICS['train_loss'])\n",
    "axs[1].plot(METRICS['epoch'], METRICS['val_loss'])\n",
    "axs[1].set_title('Loss')\n",
    "axs[1].set_ylabel('Loss')\n",
    "axs[1].set_xlabel('Epoch')\n",
    "axs[1].legend(['train', 'val'], loc='best');"
   ]
  },
  {
   "cell_type": "markdown",
   "metadata": {
    "ExecuteTime": {
     "end_time": "2020-09-22T08:26:58.770807Z",
     "start_time": "2020-09-22T08:19:54.498Z"
    }
   },
   "source": [
    "## Submission "
   ]
  },
  {
   "cell_type": "code",
   "execution_count": null,
   "metadata": {
    "ExecuteTime": {
     "end_time": "2020-09-23T16:22:16.687157Z",
     "start_time": "2020-09-23T16:22:16.627107Z"
    }
   },
   "outputs": [],
   "source": [
    "result_df.to_csv(SUBMITCSV, index=False)"
   ]
  },
  {
   "cell_type": "code",
   "execution_count": null,
   "metadata": {
    "ExecuteTime": {
     "end_time": "2020-09-23T16:22:17.371150Z",
     "start_time": "2020-09-23T16:22:16.689578Z"
    }
   },
   "outputs": [],
   "source": [
    "!ls -l \n",
    "# !rm -rf $CKPT_PATH"
   ]
  }
 ],
 "metadata": {
  "kernelspec": {
   "display_name": "Python 3",
   "language": "python",
   "name": "python3"
  },
  "language_info": {
   "codemirror_mode": {
    "name": "ipython",
    "version": 3
   },
   "file_extension": ".py",
   "mimetype": "text/x-python",
   "name": "python",
   "nbconvert_exporter": "python",
   "pygments_lexer": "ipython3",
   "version": "3.6.9"
  },
  "toc": {
   "base_numbering": 1,
   "nav_menu": {},
   "number_sections": true,
   "sideBar": true,
   "skip_h1_title": true,
   "title_cell": "",
   "title_sidebar": "Contents",
   "toc_cell": true,
   "toc_position": {
    "height": "calc(100% - 180px)",
    "left": "10px",
    "top": "150px",
    "width": "275.2px"
   },
   "toc_section_display": true,
   "toc_window_display": true
  }
 },
 "nbformat": 4,
 "nbformat_minor": 4
}
