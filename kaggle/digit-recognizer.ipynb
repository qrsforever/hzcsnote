{
 "cells": [
  {
   "cell_type": "markdown",
   "metadata": {
    "toc": true
   },
   "source": [
    "<h1><span class=\"tocSkip\"></span></h1>\n",
    "<div class=\"toc\"><ul class=\"toc-item\"><li><span><a href=\"#Install-Dependence\" data-toc-modified-id=\"Install-Dependence-1\"><span class=\"toc-item-num\">1&nbsp;&nbsp;</span>Install Dependence</a></span></li><li><span><a href=\"#Import-Library\" data-toc-modified-id=\"Import-Library-2\"><span class=\"toc-item-num\">2&nbsp;&nbsp;</span>Import Library</a></span></li><li><span><a href=\"#Show-Version\" data-toc-modified-id=\"Show-Version-3\"><span class=\"toc-item-num\">3&nbsp;&nbsp;</span>Show Version</a></span></li><li><span><a href=\"#Global-Constants\" data-toc-modified-id=\"Global-Constants-4\"><span class=\"toc-item-num\">4&nbsp;&nbsp;</span>Global Constants</a></span></li><li><span><a href=\"#Random-Seed\" data-toc-modified-id=\"Random-Seed-5\"><span class=\"toc-item-num\">5&nbsp;&nbsp;</span>Random Seed</a></span></li><li><span><a href=\"#Prepare-Data\" data-toc-modified-id=\"Prepare-Data-6\"><span class=\"toc-item-num\">6&nbsp;&nbsp;</span>Prepare Data</a></span><ul class=\"toc-item\"><li><span><a href=\"#Train-and-Valid-Data\" data-toc-modified-id=\"Train-and-Valid-Data-6.1\"><span class=\"toc-item-num\">6.1&nbsp;&nbsp;</span>Train and Valid Data</a></span></li><li><span><a href=\"#Test-Data\" data-toc-modified-id=\"Test-Data-6.2\"><span class=\"toc-item-num\">6.2&nbsp;&nbsp;</span>Test Data</a></span></li></ul></li><li><span><a href=\"#Sample-Data-Exploration\" data-toc-modified-id=\"Sample-Data-Exploration-7\"><span class=\"toc-item-num\">7&nbsp;&nbsp;</span>Sample Data Exploration</a></span><ul class=\"toc-item\"><li><span><a href=\"#Demo--Image\" data-toc-modified-id=\"Demo--Image-7.1\"><span class=\"toc-item-num\">7.1&nbsp;&nbsp;</span>Demo  Image</a></span></li><li><span><a href=\"#Label-Data-Distribution\" data-toc-modified-id=\"Label-Data-Distribution-7.2\"><span class=\"toc-item-num\">7.2&nbsp;&nbsp;</span>Label Data Distribution</a></span></li><li><span><a href=\"#Define-Display-Image-Method\" data-toc-modified-id=\"Define-Display-Image-Method-7.3\"><span class=\"toc-item-num\">7.3&nbsp;&nbsp;</span>Define Display Image Method</a></span></li><li><span><a href=\"#Display-Raw-Sample-Images\" data-toc-modified-id=\"Display-Raw-Sample-Images-7.4\"><span class=\"toc-item-num\">7.4&nbsp;&nbsp;</span>Display Raw Sample Images</a></span></li><li><span><a href=\"#Data-Augment-Transform\" data-toc-modified-id=\"Data-Augment-Transform-7.5\"><span class=\"toc-item-num\">7.5&nbsp;&nbsp;</span>Data Augment Transform</a></span></li><li><span><a href=\"#Display-Augment-Images\" data-toc-modified-id=\"Display-Augment-Images-7.6\"><span class=\"toc-item-num\">7.6&nbsp;&nbsp;</span>Display Augment Images</a></span></li></ul></li><li><span><a href=\"#Build-Network\" data-toc-modified-id=\"Build-Network-8\"><span class=\"toc-item-num\">8&nbsp;&nbsp;</span>Build Network</a></span><ul class=\"toc-item\"><li><span><a href=\"#Load-Pretrained-Model\" data-toc-modified-id=\"Load-Pretrained-Model-8.1\"><span class=\"toc-item-num\">8.1&nbsp;&nbsp;</span>Load Pretrained Model</a></span></li><li><span><a href=\"#Freezing-Partial-Layers\" data-toc-modified-id=\"Freezing-Partial-Layers-8.2\"><span class=\"toc-item-num\">8.2&nbsp;&nbsp;</span>Freezing Partial Layers</a></span></li><li><span><a href=\"#Model/-Loss/Optimizer\" data-toc-modified-id=\"Model/-Loss/Optimizer-8.3\"><span class=\"toc-item-num\">8.3&nbsp;&nbsp;</span>Model/ Loss/Optimizer</a></span></li></ul></li><li><span><a href=\"#Train\" data-toc-modified-id=\"Train-9\"><span class=\"toc-item-num\">9&nbsp;&nbsp;</span>Train</a></span></li><li><span><a href=\"#Predict\" data-toc-modified-id=\"Predict-10\"><span class=\"toc-item-num\">10&nbsp;&nbsp;</span>Predict</a></span></li><li><span><a href=\"#Plot-Metrics\" data-toc-modified-id=\"Plot-Metrics-11\"><span class=\"toc-item-num\">11&nbsp;&nbsp;</span>Plot Metrics</a></span></li><li><span><a href=\"#Submission\" data-toc-modified-id=\"Submission-12\"><span class=\"toc-item-num\">12&nbsp;&nbsp;</span>Submission</a></span></li></ul></div>"
   ]
  },
  {
   "cell_type": "code",
   "execution_count": 1,
   "metadata": {
    "ExecuteTime": {
     "end_time": "2020-09-23T16:13:50.913328Z",
     "start_time": "2020-09-23T16:13:50.341074Z"
    },
    "hide_input": true
   },
   "outputs": [],
   "source": [
    "! [ ! -L /kaggle ] && ln -s /data/kaggle /kaggle "
   ]
  },
  {
   "cell_type": "markdown",
   "metadata": {},
   "source": [
    "##  Install Dependence"
   ]
  },
  {
   "cell_type": "code",
   "execution_count": 2,
   "metadata": {
    "ExecuteTime": {
     "end_time": "2020-09-23T16:13:53.477992Z",
     "start_time": "2020-09-23T16:13:50.918137Z"
    },
    "hide_input": false
   },
   "outputs": [
    {
     "name": "stdout",
     "output_type": "stream",
     "text": [
      "\u001b[33mWARNING: You are using pip version 20.1.1; however, version 20.2.3 is available.\r\n",
      "You should consider upgrading via the '/usr/bin/python3.6 -m pip install --upgrade pip' command.\u001b[0m\r\n"
     ]
    }
   ],
   "source": [
    "!pip install pytorch_lightning GPUtil > /dev/null"
   ]
  },
  {
   "cell_type": "markdown",
   "metadata": {},
   "source": [
    "## Import Library"
   ]
  },
  {
   "cell_type": "code",
   "execution_count": 3,
   "metadata": {
    "ExecuteTime": {
     "end_time": "2020-09-23T16:13:55.514522Z",
     "start_time": "2020-09-23T16:13:53.481567Z"
    }
   },
   "outputs": [],
   "source": [
    "import os\n",
    "import zipfile\n",
    "import GPUtil\n",
    "import random\n",
    "import pytorch_lightning as pl\n",
    "import numpy as np\n",
    "import pandas as pd\n",
    "import seaborn as sns\n",
    "import torch\n",
    "import torchvision\n",
    "import matplotlib.pyplot as plt\n",
    "\n",
    "from torch import nn\n",
    "from torch.nn import functional as F\n",
    "from torch.utils.data import (Dataset, DataLoader)\n",
    "from torchvision.transforms import (\n",
    "        Resize,\n",
    "        Compose,\n",
    "        ToTensor,\n",
    "        Normalize,\n",
    "        RandomOrder,\n",
    "        ColorJitter,\n",
    "        RandomRotation,\n",
    "        RandomGrayscale,\n",
    "        RandomResizedCrop,\n",
    "        RandomVerticalFlip,\n",
    "        RandomHorizontalFlip)\n",
    "\n",
    "from PIL import Image, ImageDraw, ImageFont\n",
    "from sklearn.model_selection import train_test_split\n",
    "from pytorch_lightning.callbacks import EarlyStopping\n",
    "from pytorch_lightning.callbacks import ModelCheckpoint\n",
    "\n",
    "%matplotlib inline\n",
    "\n",
    "sns.set(style='white', font_scale=1.2)"
   ]
  },
  {
   "cell_type": "markdown",
   "metadata": {},
   "source": [
    "## Show Version"
   ]
  },
  {
   "cell_type": "code",
   "execution_count": 4,
   "metadata": {
    "ExecuteTime": {
     "end_time": "2020-09-23T16:13:55.524673Z",
     "start_time": "2020-09-23T16:13:55.517476Z"
    }
   },
   "outputs": [
    {
     "data": {
      "text/plain": [
       "('1.18.5', '1.0.4', '0.10.1')"
      ]
     },
     "execution_count": 4,
     "metadata": {},
     "output_type": "execute_result"
    }
   ],
   "source": [
    "np.__version__, pd.__version__, sns.__version__"
   ]
  },
  {
   "cell_type": "code",
   "execution_count": 5,
   "metadata": {
    "ExecuteTime": {
     "end_time": "2020-09-23T16:13:55.539042Z",
     "start_time": "2020-09-23T16:13:55.528208Z"
    }
   },
   "outputs": [
    {
     "data": {
      "text/plain": [
       "('1.6.0.dev20200609+cu101', '0.7.0.dev20200609+cu101', '0.9.0')"
      ]
     },
     "execution_count": 5,
     "metadata": {},
     "output_type": "execute_result"
    }
   ],
   "source": [
    "torch.__version__, torchvision.__version__, pl.__version__"
   ]
  },
  {
   "cell_type": "markdown",
   "metadata": {},
   "source": [
    "## Global Constants"
   ]
  },
  {
   "cell_type": "code",
   "execution_count": 6,
   "metadata": {
    "ExecuteTime": {
     "end_time": "2020-09-23T16:13:55.551703Z",
     "start_time": "2020-09-23T16:13:55.542196Z"
    }
   },
   "outputs": [],
   "source": [
    "RNG_SEED = 9527\n",
    "DATA_ROOT = '/kaggle/input/digit-recognizer'\n",
    "WORK_ROOT = '/kaggle/working/digit-recognizer'\n",
    "CKPT_PATH = f'{WORK_ROOT}/checkpoints/best.ckpt'\n",
    "SUBMITCSV = '/kaggle/working/submission.csv'\n",
    "FONT_PATH = '/usr/share/fonts/truetype/dejavu/DejaVuSerif-Bold.ttf'\n",
    "\n",
    "INPUT_SIZE = 28\n",
    "BATCH_SIZE = 48\n",
    "NUM_CLASSES = 10\n",
    "\n",
    "MAX_EPOCHS = 30\n",
    "\n",
    "DATASET_MEAN = (0.1307, 0.1307, 0.1307)\n",
    "DATASET_STD = (0.3081, 0.3081, 0.3081)\n",
    "\n",
    "TEST_SPLIT = 0.3"
   ]
  },
  {
   "cell_type": "code",
   "execution_count": 7,
   "metadata": {
    "ExecuteTime": {
     "end_time": "2020-09-23T16:13:56.707574Z",
     "start_time": "2020-09-23T16:13:55.555506Z"
    }
   },
   "outputs": [
    {
     "name": "stdout",
     "output_type": "stream",
     "text": [
      "total 125136\r\n",
      "-rw-rw-r-- 1 1002 1002   240909 Dec 11  2019 sample_submission.csv\r\n",
      "-rw-rw-r-- 1 1002 1002 51118296 Dec 11  2019 test.csv\r\n",
      "-rw-rw-r-- 1 1002 1002 76775041 Dec 11  2019 train.csv\r\n"
     ]
    }
   ],
   "source": [
    "!ls -l $DATA_ROOT\n",
    "!mkdir -p $WORK_ROOT"
   ]
  },
  {
   "cell_type": "markdown",
   "metadata": {},
   "source": [
    "## Random Seed"
   ]
  },
  {
   "cell_type": "code",
   "execution_count": 8,
   "metadata": {
    "ExecuteTime": {
     "end_time": "2020-09-23T16:13:56.723648Z",
     "start_time": "2020-09-23T16:13:56.714290Z"
    }
   },
   "outputs": [],
   "source": [
    "torch.manual_seed(RNG_SEED)\n",
    "np.random.seed(RNG_SEED)\n",
    "random.seed(RNG_SEED)\n",
    "\n",
    "torch.backends.cudnn.deterministic = True\n",
    "torch.backends.cudnn.benchmark = False"
   ]
  },
  {
   "cell_type": "markdown",
   "metadata": {},
   "source": [
    "## Prepare Data"
   ]
  },
  {
   "cell_type": "code",
   "execution_count": 9,
   "metadata": {
    "ExecuteTime": {
     "end_time": "2020-09-23T16:14:00.801899Z",
     "start_time": "2020-09-23T16:13:56.727644Z"
    }
   },
   "outputs": [],
   "source": [
    "train_df = pd.read_csv(f'{DATA_ROOT}/train.csv')"
   ]
  },
  {
   "cell_type": "markdown",
   "metadata": {},
   "source": [
    "### Train and Valid Data"
   ]
  },
  {
   "cell_type": "code",
   "execution_count": 10,
   "metadata": {
    "ExecuteTime": {
     "end_time": "2020-09-23T16:14:01.064924Z",
     "start_time": "2020-09-23T16:14:00.804258Z"
    }
   },
   "outputs": [
    {
     "data": {
      "text/html": [
       "<div>\n",
       "<style scoped>\n",
       "    .dataframe tbody tr th:only-of-type {\n",
       "        vertical-align: middle;\n",
       "    }\n",
       "\n",
       "    .dataframe tbody tr th {\n",
       "        vertical-align: top;\n",
       "    }\n",
       "\n",
       "    .dataframe thead th {\n",
       "        text-align: right;\n",
       "    }\n",
       "</style>\n",
       "<table border=\"1\" class=\"dataframe\">\n",
       "  <thead>\n",
       "    <tr style=\"text-align: right;\">\n",
       "      <th></th>\n",
       "      <th>label</th>\n",
       "      <th>pixel0</th>\n",
       "      <th>pixel1</th>\n",
       "      <th>pixel2</th>\n",
       "      <th>pixel3</th>\n",
       "      <th>pixel4</th>\n",
       "      <th>pixel5</th>\n",
       "      <th>pixel6</th>\n",
       "      <th>pixel7</th>\n",
       "      <th>pixel8</th>\n",
       "      <th>...</th>\n",
       "      <th>pixel774</th>\n",
       "      <th>pixel775</th>\n",
       "      <th>pixel776</th>\n",
       "      <th>pixel777</th>\n",
       "      <th>pixel778</th>\n",
       "      <th>pixel779</th>\n",
       "      <th>pixel780</th>\n",
       "      <th>pixel781</th>\n",
       "      <th>pixel782</th>\n",
       "      <th>pixel783</th>\n",
       "    </tr>\n",
       "  </thead>\n",
       "  <tbody>\n",
       "    <tr>\n",
       "      <th>2322</th>\n",
       "      <td>4</td>\n",
       "      <td>0</td>\n",
       "      <td>0</td>\n",
       "      <td>0</td>\n",
       "      <td>0</td>\n",
       "      <td>0</td>\n",
       "      <td>0</td>\n",
       "      <td>0</td>\n",
       "      <td>0</td>\n",
       "      <td>0</td>\n",
       "      <td>...</td>\n",
       "      <td>0</td>\n",
       "      <td>0</td>\n",
       "      <td>0</td>\n",
       "      <td>0</td>\n",
       "      <td>0</td>\n",
       "      <td>0</td>\n",
       "      <td>0</td>\n",
       "      <td>0</td>\n",
       "      <td>0</td>\n",
       "      <td>0</td>\n",
       "    </tr>\n",
       "    <tr>\n",
       "      <th>25789</th>\n",
       "      <td>1</td>\n",
       "      <td>0</td>\n",
       "      <td>0</td>\n",
       "      <td>0</td>\n",
       "      <td>0</td>\n",
       "      <td>0</td>\n",
       "      <td>0</td>\n",
       "      <td>0</td>\n",
       "      <td>0</td>\n",
       "      <td>0</td>\n",
       "      <td>...</td>\n",
       "      <td>0</td>\n",
       "      <td>0</td>\n",
       "      <td>0</td>\n",
       "      <td>0</td>\n",
       "      <td>0</td>\n",
       "      <td>0</td>\n",
       "      <td>0</td>\n",
       "      <td>0</td>\n",
       "      <td>0</td>\n",
       "      <td>0</td>\n",
       "    </tr>\n",
       "  </tbody>\n",
       "</table>\n",
       "<p>2 rows × 785 columns</p>\n",
       "</div>"
      ],
      "text/plain": [
       "       label  pixel0  pixel1  pixel2  pixel3  pixel4  pixel5  pixel6  pixel7  \\\n",
       "2322       4       0       0       0       0       0       0       0       0   \n",
       "25789      1       0       0       0       0       0       0       0       0   \n",
       "\n",
       "       pixel8  ...  pixel774  pixel775  pixel776  pixel777  pixel778  \\\n",
       "2322        0  ...         0         0         0         0         0   \n",
       "25789       0  ...         0         0         0         0         0   \n",
       "\n",
       "       pixel779  pixel780  pixel781  pixel782  pixel783  \n",
       "2322          0         0         0         0         0  \n",
       "25789         0         0         0         0         0  \n",
       "\n",
       "[2 rows x 785 columns]"
      ]
     },
     "execution_count": 10,
     "metadata": {},
     "output_type": "execute_result"
    }
   ],
   "source": [
    "train_df, valid_df = train_test_split(train_df, test_size = TEST_SPLIT)\n",
    "train_df[:2]"
   ]
  },
  {
   "cell_type": "code",
   "execution_count": 11,
   "metadata": {
    "ExecuteTime": {
     "end_time": "2020-09-23T16:14:01.072969Z",
     "start_time": "2020-09-23T16:14:01.067259Z"
    }
   },
   "outputs": [],
   "source": [
    "def preprocess_data(df):\n",
    "    labels = df['label'].values\n",
    "    images = np.uint8(np.array(df.drop(columns=['label'])).reshape(-1, 28, 28))\n",
    "    return list(zip(labels, images))"
   ]
  },
  {
   "cell_type": "code",
   "execution_count": 12,
   "metadata": {
    "ExecuteTime": {
     "end_time": "2020-09-23T16:14:01.332217Z",
     "start_time": "2020-09-23T16:14:01.075608Z"
    }
   },
   "outputs": [],
   "source": [
    "train_data = preprocess_data(train_df)\n",
    "valid_data = preprocess_data(valid_df)"
   ]
  },
  {
   "cell_type": "markdown",
   "metadata": {},
   "source": [
    "### Test Data"
   ]
  },
  {
   "cell_type": "code",
   "execution_count": 13,
   "metadata": {
    "ExecuteTime": {
     "end_time": "2020-09-23T16:14:03.824455Z",
     "start_time": "2020-09-23T16:14:01.334889Z"
    }
   },
   "outputs": [],
   "source": [
    "test_df = pd.read_csv(f'{DATA_ROOT}/test.csv')"
   ]
  },
  {
   "cell_type": "code",
   "execution_count": 14,
   "metadata": {
    "ExecuteTime": {
     "end_time": "2020-09-23T16:14:03.921211Z",
     "start_time": "2020-09-23T16:14:03.826939Z"
    }
   },
   "outputs": [],
   "source": [
    "test_data = np.uint8(np.array(test_df).reshape(-1, 28, 28))"
   ]
  },
  {
   "cell_type": "code",
   "execution_count": 15,
   "metadata": {
    "ExecuteTime": {
     "end_time": "2020-09-23T16:14:03.927933Z",
     "start_time": "2020-09-23T16:14:03.923635Z"
    }
   },
   "outputs": [],
   "source": [
    "del test_df"
   ]
  },
  {
   "cell_type": "code",
   "execution_count": 16,
   "metadata": {
    "ExecuteTime": {
     "end_time": "2020-09-23T16:14:03.941635Z",
     "start_time": "2020-09-23T16:14:03.930291Z"
    }
   },
   "outputs": [
    {
     "name": "stdout",
     "output_type": "stream",
     "text": [
      "Train Count: 29400, Valid Count: 12600, Test Count: 28000\n"
     ]
    }
   ],
   "source": [
    "print(f'Train Count: {len(train_data)}, Valid Count: {len(valid_data)}, Test Count: {len(test_data)}')"
   ]
  },
  {
   "cell_type": "markdown",
   "metadata": {},
   "source": [
    "## Sample Data Exploration"
   ]
  },
  {
   "cell_type": "markdown",
   "metadata": {},
   "source": [
    "### Demo  Image"
   ]
  },
  {
   "cell_type": "code",
   "execution_count": 17,
   "metadata": {
    "ExecuteTime": {
     "end_time": "2020-09-23T16:14:04.734639Z",
     "start_time": "2020-09-23T16:14:03.944281Z"
    }
   },
   "outputs": [
    {
     "data": {
      "image/png": "[encoded data removed]",
      "text/plain": [
       "<Figure size 864x288 with 15 Axes>"
      ]
     },
     "metadata": {},
     "output_type": "display_data"
    }
   ],
   "source": [
    "fig, axes = plt.subplots(nrows=3, ncols=5, sharey=True, figsize=(12,4))\n",
    "C = random.randint(100, 200)\n",
    "for r in range(3):\n",
    "    for c in range(5):\n",
    "        axes[r][c].set_xticks([])\n",
    "        axes[r][c].set_yticks([])\n",
    "        axes[r][c].imshow(test_data[(r+1)*(c+1) + C], cmap='gray') # 'gray_r'"
   ]
  },
  {
   "cell_type": "markdown",
   "metadata": {},
   "source": [
    "### Label Data Distribution"
   ]
  },
  {
   "cell_type": "code",
   "execution_count": 18,
   "metadata": {
    "ExecuteTime": {
     "end_time": "2020-09-23T16:14:05.096102Z",
     "start_time": "2020-09-23T16:14:04.737320Z"
    }
   },
   "outputs": [
    {
     "data": {
      "image/png": "[encoded data removed]",
      "text/plain": [
       "<Figure size 432x288 with 1 Axes>"
      ]
     },
     "metadata": {},
     "output_type": "display_data"
    }
   ],
   "source": [
    "sns.countplot(x='label', data=train_df).set_title(\"Train Label Distribution\")\n",
    "del train_df"
   ]
  },
  {
   "cell_type": "code",
   "execution_count": 19,
   "metadata": {
    "ExecuteTime": {
     "end_time": "2020-09-23T16:14:05.380195Z",
     "start_time": "2020-09-23T16:14:05.098655Z"
    }
   },
   "outputs": [
    {
     "data": {
      "image/png": "[encoded data removed]",
      "text/plain": [
       "<Figure size 432x288 with 1 Axes>"
      ]
     },
     "metadata": {},
     "output_type": "display_data"
    }
   ],
   "source": [
    "sns.countplot(x='label',data=valid_df).set_title(\"Valid Label Distribution\")\n",
    "del valid_df"
   ]
  },
  {
   "cell_type": "markdown",
   "metadata": {},
   "source": [
    "### Define Display Image Method"
   ]
  },
  {
   "cell_type": "code",
   "execution_count": 20,
   "metadata": {
    "ExecuteTime": {
     "end_time": "2020-09-23T16:14:05.392050Z",
     "start_time": "2020-09-23T16:14:05.382708Z"
    }
   },
   "outputs": [],
   "source": [
    "def draw_image(imgdata, labelname, resize=None, augtrans=None):\n",
    "    img = Image.fromarray(imgdata).convert('RGB')\n",
    "    if resize is not None:\n",
    "        img = img.resize((resize, resize))\n",
    "    if augtrans is not None:\n",
    "        img = augtrans(img)\n",
    "        \n",
    "    font_obj = ImageFont.truetype(FONT_PATH, 12)\n",
    "    draw_img = ImageDraw.Draw(img)\n",
    "    font = ImageFont.load_default()\n",
    "    draw_img.text((0, 0), labelname, font=font_obj, fill=(0, 0, 255))\n",
    "    return np.array(img)\n",
    "\n",
    "def grid_image(imgs_list, cols=5):\n",
    "    images = torch.as_tensor(imgs_list) # [(W, H, C)...] to (B, H, W, C)\n",
    "    images = images.permute(0, 3, 1, 2) # (B, H, W, C) to (B, C, H, W)\n",
    "    images = torchvision.utils.make_grid(images, nrow=cols) # (C, 2*H, 4*W)\n",
    "    images = images.permute(1, 2, 0) # (H, W, C)\n",
    "    return images"
   ]
  },
  {
   "cell_type": "markdown",
   "metadata": {},
   "source": [
    "### Display Raw Sample Images"
   ]
  },
  {
   "cell_type": "code",
   "execution_count": 21,
   "metadata": {
    "ExecuteTime": {
     "end_time": "2020-09-23T16:14:05.566507Z",
     "start_time": "2020-09-23T16:14:05.394509Z"
    }
   },
   "outputs": [
    {
     "data": {
      "image/png": "[encoded data removed]",
      "text/plain": [
       "<Figure size 1152x576 with 1 Axes>"
      ]
     },
     "metadata": {},
     "output_type": "display_data"
    }
   ],
   "source": [
    "plt.figure(figsize=(16, 8))\n",
    "\n",
    "images_2x5 = [\n",
    "    draw_image(\n",
    "        imgdata=imgdata,\n",
    "        labelname=str(label),\n",
    "    ) for label, imgdata in train_data[:10]\n",
    "]\n",
    "\n",
    "plt.xticks([])\n",
    "plt.yticks([])\n",
    "plt.imshow(grid_image(images_2x5, cols=5), cmap='gray');"
   ]
  },
  {
   "cell_type": "markdown",
   "metadata": {},
   "source": [
    "### Data Augment Transform"
   ]
  },
  {
   "cell_type": "code",
   "execution_count": 22,
   "metadata": {
    "ExecuteTime": {
     "end_time": "2020-09-23T16:14:05.577218Z",
     "start_time": "2020-09-23T16:14:05.570551Z"
    }
   },
   "outputs": [],
   "source": [
    "aug_trans = RandomOrder([\n",
    "    RandomRotation(degrees=30),\n",
    "    # RandomVerticalFlip(p=0.3),\n",
    "    # RandomHorizontalFlip(p=0.3),\n",
    "    # ColorJitter(brightness=0.55, contrast=0.3, saturation=0.25, hue=0),\n",
    "])\n",
    "\n",
    "img_trans = Compose([\n",
    "    ToTensor(),\n",
    "    Normalize(mean=DATASET_MEAN, std=DATASET_STD),\n",
    "])"
   ]
  },
  {
   "cell_type": "markdown",
   "metadata": {},
   "source": [
    "### Display Augment Images"
   ]
  },
  {
   "cell_type": "code",
   "execution_count": 23,
   "metadata": {
    "ExecuteTime": {
     "end_time": "2020-09-23T16:14:05.895354Z",
     "start_time": "2020-09-23T16:14:05.584649Z"
    }
   },
   "outputs": [
    {
     "data": {
      "image/png": "[encoded data removed]",
      "text/plain": [
       "<Figure size 1728x864 with 1 Axes>"
      ]
     },
     "metadata": {},
     "output_type": "display_data"
    }
   ],
   "source": [
    "plt.figure(figsize=(24, 12))\n",
    "\n",
    "trans_images_2x5 = [\n",
    "    draw_image(\n",
    "        imgdata=imgdata,\n",
    "        labelname=str(label),\n",
    "        augtrans = aug_trans\n",
    "    ) for label, imgdata in train_data[:10]\n",
    "]\n",
    "\n",
    "plt.xticks([])\n",
    "plt.yticks([])\n",
    "plt.imshow(grid_image(trans_images_2x5, cols=5));"
   ]
  },
  {
   "cell_type": "markdown",
   "metadata": {},
   "source": [
    "## Build Network"
   ]
  },
  {
   "cell_type": "markdown",
   "metadata": {},
   "source": [
    "### Load Pretrained Model"
   ]
  },
  {
   "cell_type": "code",
   "execution_count": 24,
   "metadata": {
    "ExecuteTime": {
     "end_time": "2020-09-23T16:14:05.973638Z",
     "start_time": "2020-09-23T16:14:05.898437Z"
    }
   },
   "outputs": [],
   "source": [
    "backbone = torchvision.models.squeezenet1_1(pretrained=True)"
   ]
  },
  {
   "cell_type": "markdown",
   "metadata": {
    "ExecuteTime": {
     "end_time": "2020-09-21T09:47:38.878375Z",
     "start_time": "2020-09-21T09:47:36.189307Z"
    }
   },
   "source": [
    "### Freezing Partial Layers"
   ]
  },
  {
   "cell_type": "code",
   "execution_count": 25,
   "metadata": {
    "ExecuteTime": {
     "end_time": "2020-09-23T16:14:05.980992Z",
     "start_time": "2020-09-23T16:14:05.975757Z"
    }
   },
   "outputs": [],
   "source": [
    "fz_count = 6\n",
    "for param in backbone.features.parameters():\n",
    "    pass\n",
    "    param.requires_grad = False\n",
    "    fz_count -= 1\n",
    "    if fz_count < 0:\n",
    "        break"
   ]
  },
  {
   "cell_type": "markdown",
   "metadata": {},
   "source": [
    "### Model/ Loss/Optimizer "
   ]
  },
  {
   "cell_type": "code",
   "execution_count": 26,
   "metadata": {
    "ExecuteTime": {
     "end_time": "2020-09-23T16:14:06.052471Z",
     "start_time": "2020-09-23T16:14:05.984392Z"
    }
   },
   "outputs": [],
   "source": [
    "class DCDataset(Dataset):\n",
    "    def __init__(self, data, augtrans=None, imgtrans=ToTensor()):\n",
    "        super().__init__()\n",
    "        self.data = data\n",
    "        self.augtrans = augtrans\n",
    "        self.imgtrans = imgtrans\n",
    "    \n",
    "    def __getitem__(self, index):\n",
    "        label, imgdata = self.data[index]\n",
    "        img = Image.fromarray(imgdata).convert('RGB')\n",
    "        if self.augtrans:\n",
    "            img = self.augtrans(img)\n",
    "        img = self.imgtrans(img)\n",
    "        return img, label\n",
    "    \n",
    "    def __len__(self):\n",
    "        return len(self.data)\n",
    "    \n",
    "class TDCDataset(DCDataset):\n",
    "    def __getitem__(self, index):\n",
    "        imgdata = self.data[index]\n",
    "        img = Image.fromarray(imgdata).convert('RGB')\n",
    "        if self.augtrans:\n",
    "            img = self.augtrans(img)\n",
    "        img = self.imgtrans(img)\n",
    "        return img, index+1 # id\n",
    "        \n",
    "class DCNet(pl.LightningModule):\n",
    "    def __init__(self, extractor, num_classes=NUM_CLASSES):\n",
    "        super().__init__()\n",
    "        self.features = extractor\n",
    "        self.classifier = nn.Sequential(\n",
    "            nn.Dropout(p=0.3),\n",
    "            nn.Conv2d(512, num_classes, kernel_size=1),\n",
    "            nn.ReLU(inplace=True),\n",
    "            nn.AdaptiveAvgPool2d(output_size=(1, 1)),\n",
    "            nn.Flatten(start_dim=1, end_dim=-1)\n",
    "        )\n",
    "  \n",
    "    def forward(self, x, *args, **kwargs):\n",
    "        x = self.features(x)\n",
    "        x = self.classifier(x)\n",
    "        return x\n",
    "        \n",
    "    def setup(self, stage):\n",
    "        torch.cuda.empty_cache()\n",
    "\n",
    "    def teardown(self, stage):\n",
    "        for idx, gpu in enumerate(GPUtil.getGPUs()):\n",
    "            allocmem = round(torch.cuda.memory_allocated(idx) / 1024**2, 2)\n",
    "            allocmax = round(torch.cuda.max_memory_allocated(idx) / 1024**2, 2)\n",
    "            print(f'({stage})\\tGPU-{idx} mem allocated: {allocmem} MB\\t maxmem allocated: {allocmax} MB')\n",
    "            \n",
    "    @property\n",
    "    def metrics(self):\n",
    "        return self.metrics\n",
    "        \n",
    "    def configure_optimizers(self):\n",
    "        optimizer = torch.optim.SGD(\n",
    "            filter(lambda p: p.requires_grad, model.parameters()),\n",
    "            lr=0.001,\n",
    "        )\n",
    "        scheduler = torch.optim.lr_scheduler.ReduceLROnPlateau(\n",
    "            optimizer,\n",
    "            mode='min',\n",
    "            factor=0.1,\n",
    "            patience=3,\n",
    "            min_lr=1e-6)\n",
    "        return [optimizer], [scheduler]\n",
    "    \n",
    "    def prepare_data(self):\n",
    "        self.train_dataset = DCDataset(train_data, aug_trans, img_trans) \n",
    "        self.valid_dataset = DCDataset(valid_data, None, img_trans) \n",
    "        self.test_dataset = TDCDataset(test_data, None, img_trans)\n",
    "\n",
    "    def train_dataloader(self):\n",
    "        return DataLoader(\n",
    "                self.train_dataset,\n",
    "                batch_size=BATCH_SIZE,\n",
    "                num_workers=4,\n",
    "                drop_last=True,\n",
    "                shuffle=True)\n",
    "    \n",
    "    def training_step(self, batch, batch_idx):\n",
    "        x, y_true = batch\n",
    "        y_pred = self(x)\n",
    "        loss = F.cross_entropy(y_pred, y_true, reduction='mean')\n",
    "        acc = (torch.argmax(y_pred, dim=1) == y_true).float().mean()\n",
    "        return {'loss': loss, 'acc': acc}\n",
    "\n",
    "    def training_epoch_end(self, outputs):\n",
    "        loss = torch.stack([x['loss'] for x in outputs]).mean()\n",
    "        acc = torch.stack([x['acc'] for x in outputs]).mean()\n",
    "        METRICS['epoch'].append(self.current_epoch)\n",
    "        METRICS['train_loss'].append(loss)\n",
    "        METRICS['train_acc'].append(acc)\n",
    "        return {'progress_bar': {'train_loss': loss, 'train_acc': acc}}\n",
    "\n",
    "    def val_dataloader(self):\n",
    "        return DataLoader(\n",
    "            self.valid_dataset,\n",
    "            batch_size=BATCH_SIZE,\n",
    "            num_workers=4,\n",
    "            drop_last=False,\n",
    "            shuffle=False)\n",
    "    \n",
    "    def validation_step(self, batch, batch_idx):\n",
    "        x, y_true = batch\n",
    "        y_pred = self(x)\n",
    "        loss = F.cross_entropy(y_pred, y_true, reduction='mean')\n",
    "        acc = (torch.argmax(y_pred, dim=1) == y_true).float().mean()\n",
    "        return {'val_loss': loss, 'val_acc': acc}\n",
    "\n",
    "    def validation_epoch_end(self, outputs):\n",
    "        loss = torch.stack([x['val_loss'] for x in outputs]).mean()\n",
    "        acc = torch.stack([x['val_acc'] for x in outputs]).mean()\n",
    "        METRICS['val_loss'].append(loss)\n",
    "        METRICS['val_acc'].append(acc)\n",
    "        return {'progress_bar': {'val_loss': loss, 'val_acc': acc}}\n",
    "    \n",
    "    def test_dataloader(self):\n",
    "        return DataLoader(\n",
    "            self.test_dataset,\n",
    "            batch_size=BATCH_SIZE,\n",
    "            num_workers=4,\n",
    "            drop_last=False,\n",
    "            shuffle=False)\n",
    "    \n",
    "    def test_step(self, batch, batch_idx):\n",
    "        x, imgid = batch\n",
    "        y_pred = torch.argmax(self(x), dim=1).cpu().numpy()\n",
    "        log = {'imgid': imgid.cpu().numpy(), 'label': y_pred}\n",
    "        return log\n",
    "\n",
    "    def test_epoch_end(self, outputs):\n",
    "        imgid = np.concatenate([x['imgid'] for x in outputs])\n",
    "        label = np.concatenate([x['label'] for x in outputs])\n",
    "        return {'ImageId': imgid, 'Label': label}\n",
    "    \n",
    "class DCTrainer(pl.Trainer):\n",
    "    def __init__(self, *args, **kwargs):\n",
    "        super().__init__(*args, **kwargs)\n",
    "        \n",
    "    def save_checkpoint(self, filepath, weights_only: bool = False):\n",
    "        return super().save_checkpoint(CKPT_PATH, weights_only)\n",
    "\n",
    "    def on_validation_start(self):\n",
    "        lrs = []\n",
    "        for scheduler in self.lr_schedulers:\n",
    "            ss = scheduler['scheduler']\n",
    "            if isinstance(ss, torch.optim.lr_scheduler.ReduceLROnPlateau):\n",
    "                for i, param_group in enumerate(ss.optimizer.param_groups):\n",
    "                    lrs.append(np.float32(param_group['lr']))\n",
    "            else:\n",
    "                lrs.extend([np.float32(x) for x in ss.get_lr()])\n",
    "        self.add_progress_bar_metrics({'lr': lrs})\n",
    "        return super().on_validation_start()"
   ]
  },
  {
   "cell_type": "markdown",
   "metadata": {},
   "source": [
    "## Train"
   ]
  },
  {
   "cell_type": "code",
   "execution_count": 27,
   "metadata": {
    "ExecuteTime": {
     "end_time": "2020-09-23T16:14:06.114064Z",
     "start_time": "2020-09-23T16:14:06.055221Z"
    }
   },
   "outputs": [
    {
     "name": "stderr",
     "output_type": "stream",
     "text": [
      "GPU available: True, used: True\n",
      "TPU available: False, using: 0 TPU cores\n",
      "CUDA_VISIBLE_DEVICES: [0]\n"
     ]
    }
   ],
   "source": [
    "trainer = DCTrainer(\n",
    "    max_epochs=MAX_EPOCHS,\n",
    "    logger=False,\n",
    "    log_gpu_memory='min_max',\n",
    "    weights_summary='top',\n",
    "    num_sanity_val_steps=0,\n",
    "    progress_bar_refresh_rate=1,\n",
    "    check_val_every_n_epoch=1,\n",
    "    default_root_dir=WORK_ROOT,\n",
    "    resume_from_checkpoint=CKPT_PATH if os.path.exists(CKPT_PATH) else None,\n",
    "    early_stop_callback=EarlyStopping(monitor='val_loss', patience=7, mode='min'),\n",
    "    checkpoint_callback=ModelCheckpoint(monitor='val_loss', period=5, mode='min'),\n",
    "    gpus=[0],\n",
    ")\n",
    "\n",
    "model = DCNet(backbone.features, num_classes=NUM_CLASSES)"
   ]
  },
  {
   "cell_type": "code",
   "execution_count": 28,
   "metadata": {
    "ExecuteTime": {
     "end_time": "2020-09-23T16:22:09.826248Z",
     "start_time": "2020-09-23T16:14:06.116491Z"
    },
    "scrolled": false
   },
   "outputs": [
    {
     "name": "stderr",
     "output_type": "stream",
     "text": [
      "\n",
      "  | Name       | Type       | Params\n",
      "------------------------------------------\n",
      "0 | features   | Sequential | 722 K \n",
      "1 | classifier | Sequential | 5 K   \n"
     ]
    },
    {
     "data": {
      "application/vnd.jupyter.widget-view+json": {
       "model_id": "5cf905c538184dabbbf25b136eb8c296",
       "version_major": 2,
       "version_minor": 0
      },
      "text/plain": [
       "HBox(children=(FloatProgress(value=1.0, bar_style='info', description='Training', layout=Layout(flex='2'), max…"
      ]
     },
     "metadata": {},
     "output_type": "display_data"
    },
    {
     "data": {
      "application/vnd.jupyter.widget-view+json": {
       "model_id": "",
       "version_major": 2,
       "version_minor": 0
      },
      "text/plain": [
       "HBox(children=(FloatProgress(value=1.0, bar_style='info', description='Validating', layout=Layout(flex='2'), m…"
      ]
     },
     "metadata": {},
     "output_type": "display_data"
    },
    {
     "data": {
      "application/vnd.jupyter.widget-view+json": {
       "model_id": "",
       "version_major": 2,
       "version_minor": 0
      },
      "text/plain": [
       "HBox(children=(FloatProgress(value=1.0, bar_style='info', description='Validating', layout=Layout(flex='2'), m…"
      ]
     },
     "metadata": {},
     "output_type": "display_data"
    },
    {
     "data": {
      "application/vnd.jupyter.widget-view+json": {
       "model_id": "",
       "version_major": 2,
       "version_minor": 0
      },
      "text/plain": [
       "HBox(children=(FloatProgress(value=1.0, bar_style='info', description='Validating', layout=Layout(flex='2'), m…"
      ]
     },
     "metadata": {},
     "output_type": "display_data"
    },
    {
     "data": {
      "application/vnd.jupyter.widget-view+json": {
       "model_id": "",
       "version_major": 2,
       "version_minor": 0
      },
      "text/plain": [
       "HBox(children=(FloatProgress(value=1.0, bar_style='info', description='Validating', layout=Layout(flex='2'), m…"
      ]
     },
     "metadata": {},
     "output_type": "display_data"
    },
    {
     "data": {
      "application/vnd.jupyter.widget-view+json": {
       "model_id": "",
       "version_major": 2,
       "version_minor": 0
      },
      "text/plain": [
       "HBox(children=(FloatProgress(value=1.0, bar_style='info', description='Validating', layout=Layout(flex='2'), m…"
      ]
     },
     "metadata": {},
     "output_type": "display_data"
    },
    {
     "data": {
      "application/vnd.jupyter.widget-view+json": {
       "model_id": "",
       "version_major": 2,
       "version_minor": 0
      },
      "text/plain": [
       "HBox(children=(FloatProgress(value=1.0, bar_style='info', description='Validating', layout=Layout(flex='2'), m…"
      ]
     },
     "metadata": {},
     "output_type": "display_data"
    },
    {
     "data": {
      "application/vnd.jupyter.widget-view+json": {
       "model_id": "",
       "version_major": 2,
       "version_minor": 0
      },
      "text/plain": [
       "HBox(children=(FloatProgress(value=1.0, bar_style='info', description='Validating', layout=Layout(flex='2'), m…"
      ]
     },
     "metadata": {},
     "output_type": "display_data"
    },
    {
     "data": {
      "application/vnd.jupyter.widget-view+json": {
       "model_id": "",
       "version_major": 2,
       "version_minor": 0
      },
      "text/plain": [
       "HBox(children=(FloatProgress(value=1.0, bar_style='info', description='Validating', layout=Layout(flex='2'), m…"
      ]
     },
     "metadata": {},
     "output_type": "display_data"
    },
    {
     "data": {
      "application/vnd.jupyter.widget-view+json": {
       "model_id": "",
       "version_major": 2,
       "version_minor": 0
      },
      "text/plain": [
       "HBox(children=(FloatProgress(value=1.0, bar_style='info', description='Validating', layout=Layout(flex='2'), m…"
      ]
     },
     "metadata": {},
     "output_type": "display_data"
    },
    {
     "data": {
      "application/vnd.jupyter.widget-view+json": {
       "model_id": "",
       "version_major": 2,
       "version_minor": 0
      },
      "text/plain": [
       "HBox(children=(FloatProgress(value=1.0, bar_style='info', description='Validating', layout=Layout(flex='2'), m…"
      ]
     },
     "metadata": {},
     "output_type": "display_data"
    },
    {
     "data": {
      "application/vnd.jupyter.widget-view+json": {
       "model_id": "",
       "version_major": 2,
       "version_minor": 0
      },
      "text/plain": [
       "HBox(children=(FloatProgress(value=1.0, bar_style='info', description='Validating', layout=Layout(flex='2'), m…"
      ]
     },
     "metadata": {},
     "output_type": "display_data"
    },
    {
     "data": {
      "application/vnd.jupyter.widget-view+json": {
       "model_id": "",
       "version_major": 2,
       "version_minor": 0
      },
      "text/plain": [
       "HBox(children=(FloatProgress(value=1.0, bar_style='info', description='Validating', layout=Layout(flex='2'), m…"
      ]
     },
     "metadata": {},
     "output_type": "display_data"
    },
    {
     "data": {
      "application/vnd.jupyter.widget-view+json": {
       "model_id": "",
       "version_major": 2,
       "version_minor": 0
      },
      "text/plain": [
       "HBox(children=(FloatProgress(value=1.0, bar_style='info', description='Validating', layout=Layout(flex='2'), m…"
      ]
     },
     "metadata": {},
     "output_type": "display_data"
    },
    {
     "data": {
      "application/vnd.jupyter.widget-view+json": {
       "model_id": "",
       "version_major": 2,
       "version_minor": 0
      },
      "text/plain": [
       "HBox(children=(FloatProgress(value=1.0, bar_style='info', description='Validating', layout=Layout(flex='2'), m…"
      ]
     },
     "metadata": {},
     "output_type": "display_data"
    },
    {
     "data": {
      "application/vnd.jupyter.widget-view+json": {
       "model_id": "",
       "version_major": 2,
       "version_minor": 0
      },
      "text/plain": [
       "HBox(children=(FloatProgress(value=1.0, bar_style='info', description='Validating', layout=Layout(flex='2'), m…"
      ]
     },
     "metadata": {},
     "output_type": "display_data"
    },
    {
     "data": {
      "application/vnd.jupyter.widget-view+json": {
       "model_id": "",
       "version_major": 2,
       "version_minor": 0
      },
      "text/plain": [
       "HBox(children=(FloatProgress(value=1.0, bar_style='info', description='Validating', layout=Layout(flex='2'), m…"
      ]
     },
     "metadata": {},
     "output_type": "display_data"
    },
    {
     "data": {
      "application/vnd.jupyter.widget-view+json": {
       "model_id": "",
       "version_major": 2,
       "version_minor": 0
      },
      "text/plain": [
       "HBox(children=(FloatProgress(value=1.0, bar_style='info', description='Validating', layout=Layout(flex='2'), m…"
      ]
     },
     "metadata": {},
     "output_type": "display_data"
    },
    {
     "data": {
      "application/vnd.jupyter.widget-view+json": {
       "model_id": "",
       "version_major": 2,
       "version_minor": 0
      },
      "text/plain": [
       "HBox(children=(FloatProgress(value=1.0, bar_style='info', description='Validating', layout=Layout(flex='2'), m…"
      ]
     },
     "metadata": {},
     "output_type": "display_data"
    },
    {
     "data": {
      "application/vnd.jupyter.widget-view+json": {
       "model_id": "",
       "version_major": 2,
       "version_minor": 0
      },
      "text/plain": [
       "HBox(children=(FloatProgress(value=1.0, bar_style='info', description='Validating', layout=Layout(flex='2'), m…"
      ]
     },
     "metadata": {},
     "output_type": "display_data"
    },
    {
     "data": {
      "application/vnd.jupyter.widget-view+json": {
       "model_id": "",
       "version_major": 2,
       "version_minor": 0
      },
      "text/plain": [
       "HBox(children=(FloatProgress(value=1.0, bar_style='info', description='Validating', layout=Layout(flex='2'), m…"
      ]
     },
     "metadata": {},
     "output_type": "display_data"
    },
    {
     "data": {
      "application/vnd.jupyter.widget-view+json": {
       "model_id": "",
       "version_major": 2,
       "version_minor": 0
      },
      "text/plain": [
       "HBox(children=(FloatProgress(value=1.0, bar_style='info', description='Validating', layout=Layout(flex='2'), m…"
      ]
     },
     "metadata": {},
     "output_type": "display_data"
    },
    {
     "data": {
      "application/vnd.jupyter.widget-view+json": {
       "model_id": "",
       "version_major": 2,
       "version_minor": 0
      },
      "text/plain": [
       "HBox(children=(FloatProgress(value=1.0, bar_style='info', description='Validating', layout=Layout(flex='2'), m…"
      ]
     },
     "metadata": {},
     "output_type": "display_data"
    },
    {
     "data": {
      "application/vnd.jupyter.widget-view+json": {
       "model_id": "",
       "version_major": 2,
       "version_minor": 0
      },
      "text/plain": [
       "HBox(children=(FloatProgress(value=1.0, bar_style='info', description='Validating', layout=Layout(flex='2'), m…"
      ]
     },
     "metadata": {},
     "output_type": "display_data"
    },
    {
     "data": {
      "application/vnd.jupyter.widget-view+json": {
       "model_id": "",
       "version_major": 2,
       "version_minor": 0
      },
      "text/plain": [
       "HBox(children=(FloatProgress(value=1.0, bar_style='info', description='Validating', layout=Layout(flex='2'), m…"
      ]
     },
     "metadata": {},
     "output_type": "display_data"
    },
    {
     "data": {
      "application/vnd.jupyter.widget-view+json": {
       "model_id": "",
       "version_major": 2,
       "version_minor": 0
      },
      "text/plain": [
       "HBox(children=(FloatProgress(value=1.0, bar_style='info', description='Validating', layout=Layout(flex='2'), m…"
      ]
     },
     "metadata": {},
     "output_type": "display_data"
    },
    {
     "data": {
      "application/vnd.jupyter.widget-view+json": {
       "model_id": "",
       "version_major": 2,
       "version_minor": 0
      },
      "text/plain": [
       "HBox(children=(FloatProgress(value=1.0, bar_style='info', description='Validating', layout=Layout(flex='2'), m…"
      ]
     },
     "metadata": {},
     "output_type": "display_data"
    },
    {
     "data": {
      "application/vnd.jupyter.widget-view+json": {
       "model_id": "",
       "version_major": 2,
       "version_minor": 0
      },
      "text/plain": [
       "HBox(children=(FloatProgress(value=1.0, bar_style='info', description='Validating', layout=Layout(flex='2'), m…"
      ]
     },
     "metadata": {},
     "output_type": "display_data"
    },
    {
     "data": {
      "application/vnd.jupyter.widget-view+json": {
       "model_id": "",
       "version_major": 2,
       "version_minor": 0
      },
      "text/plain": [
       "HBox(children=(FloatProgress(value=1.0, bar_style='info', description='Validating', layout=Layout(flex='2'), m…"
      ]
     },
     "metadata": {},
     "output_type": "display_data"
    },
    {
     "data": {
      "application/vnd.jupyter.widget-view+json": {
       "model_id": "",
       "version_major": 2,
       "version_minor": 0
      },
      "text/plain": [
       "HBox(children=(FloatProgress(value=1.0, bar_style='info', description='Validating', layout=Layout(flex='2'), m…"
      ]
     },
     "metadata": {},
     "output_type": "display_data"
    },
    {
     "data": {
      "application/vnd.jupyter.widget-view+json": {
       "model_id": "",
       "version_major": 2,
       "version_minor": 0
      },
      "text/plain": [
       "HBox(children=(FloatProgress(value=1.0, bar_style='info', description='Validating', layout=Layout(flex='2'), m…"
      ]
     },
     "metadata": {},
     "output_type": "display_data"
    },
    {
     "name": "stderr",
     "output_type": "stream",
     "text": [
      "Saving latest checkpoint..\n"
     ]
    },
    {
     "name": "stdout",
     "output_type": "stream",
     "text": [
      "\n",
      "(fit)\tGPU-0 mem allocated: 0.06 MB\t maxmem allocated: 16.86 MB\n"
     ]
    }
   ],
   "source": [
    "METRICS = {\n",
    "    'epoch':[],\n",
    "    'train_loss':[],\n",
    "    'train_acc':[],\n",
    "    'val_acc':[],\n",
    "    'val_loss':[],\n",
    "}\n",
    "trainer.fit(model);"
   ]
  },
  {
   "cell_type": "markdown",
   "metadata": {},
   "source": [
    "## Predict"
   ]
  },
  {
   "cell_type": "code",
   "execution_count": 29,
   "metadata": {
    "ExecuteTime": {
     "end_time": "2020-09-23T16:22:15.352600Z",
     "start_time": "2020-09-23T16:22:09.830859Z"
    }
   },
   "outputs": [
    {
     "data": {
      "application/vnd.jupyter.widget-view+json": {
       "model_id": "f63a59babb354553a309ade801171b38",
       "version_major": 2,
       "version_minor": 0
      },
      "text/plain": [
       "HBox(children=(FloatProgress(value=1.0, bar_style='info', description='Testing', layout=Layout(flex='2'), max=…"
      ]
     },
     "metadata": {},
     "output_type": "display_data"
    },
    {
     "name": "stdout",
     "output_type": "stream",
     "text": [
      "\n",
      "(fit)\tGPU-0 mem allocated: 5.57 MB\t maxmem allocated: 16.86 MB\n",
      "(test)\tGPU-0 mem allocated: 5.57 MB\t maxmem allocated: 16.86 MB\n"
     ]
    }
   ],
   "source": [
    "result = trainer.test(model, verbose=False, ckpt_path=CKPT_PATH)"
   ]
  },
  {
   "cell_type": "code",
   "execution_count": 30,
   "metadata": {
    "ExecuteTime": {
     "end_time": "2020-09-23T16:22:15.655161Z",
     "start_time": "2020-09-23T16:22:15.356723Z"
    }
   },
   "outputs": [
    {
     "data": {
      "image/png": "[encoded data removed]",
      "text/plain": [
       "<Figure size 432x288 with 1 Axes>"
      ]
     },
     "metadata": {},
     "output_type": "display_data"
    }
   ],
   "source": [
    "result_df = pd.DataFrame(data=result[0])\n",
    "sns.countplot(x='label',data=result_df).set_title(\"Predict Data Distribution\");"
   ]
  },
  {
   "cell_type": "markdown",
   "metadata": {},
   "source": [
    "## Plot Metrics"
   ]
  },
  {
   "cell_type": "code",
   "execution_count": 31,
   "metadata": {
    "ExecuteTime": {
     "end_time": "2020-09-23T16:22:16.523401Z",
     "start_time": "2020-09-23T16:22:15.658959Z"
    }
   },
   "outputs": [
    {
     "data": {
      "image/png": "[encoded data removed]",
      "text/plain": [
       "<Figure size 1152x576 with 2 Axes>"
      ]
     },
     "metadata": {},
     "output_type": "display_data"
    }
   ],
   "source": [
    "num_epoch = len(METRICS['epoch'])\n",
    "fig, axs = plt.subplots(1, 2, figsize=(16, 8))\n",
    "axs[0].plot(METRICS['epoch'], METRICS['train_acc'])\n",
    "axs[0].plot(METRICS['epoch'], METRICS['val_acc'])\n",
    "axs[0].set_title('Accuracy')\n",
    "axs[0].set_ylabel('Accuracy')\n",
    "axs[0].set_xlabel('Epoch')\n",
    "axs[0].legend(['train', 'val'], loc='best')\n",
    "\n",
    "axs[1].plot(METRICS['epoch'], METRICS['train_loss'])\n",
    "axs[1].plot(METRICS['epoch'], METRICS['val_loss'])\n",
    "axs[1].set_title('Loss')\n",
    "axs[1].set_ylabel('Loss')\n",
    "axs[1].set_xlabel('Epoch')\n",
    "axs[1].legend(['train', 'val'], loc='best');"
   ]
  },
  {
   "cell_type": "markdown",
   "metadata": {
    "ExecuteTime": {
     "end_time": "2020-09-22T08:26:58.770807Z",
     "start_time": "2020-09-22T08:19:54.498Z"
    }
   },
   "source": [
    "## Submission "
   ]
  },
  {
   "cell_type": "code",
   "execution_count": 33,
   "metadata": {
    "ExecuteTime": {
     "end_time": "2020-09-23T16:22:16.687157Z",
     "start_time": "2020-09-23T16:22:16.627107Z"
    }
   },
   "outputs": [],
   "source": [
    "result_df.to_csv(SUBMITCSV, index=False)"
   ]
  },
  {
   "cell_type": "code",
   "execution_count": 34,
   "metadata": {
    "ExecuteTime": {
     "end_time": "2020-09-23T16:22:17.371150Z",
     "start_time": "2020-09-23T16:22:16.689578Z"
    }
   },
   "outputs": [
    {
     "name": "stdout",
     "output_type": "stream",
     "text": [
      "total 3348\r\n",
      "-rw-rw-rw- 1 root root  158320 Sep 24 00:20 digit-recognizer.ipynb\r\n",
      "-rw-rw-rw- 1 root root 3264904 Sep 23 23:02 dogs-vs-cats.ipynb\r\n"
     ]
    }
   ],
   "source": [
    "!ls -l \n",
    "# !rm -rf $CKPT_PATH"
   ]
  }
 ],
 "metadata": {
  "kernelspec": {
   "display_name": "Python 3",
   "language": "python",
   "name": "python3"
  },
  "language_info": {
   "codemirror_mode": {
    "name": "ipython",
    "version": 3
   },
   "file_extension": ".py",
   "mimetype": "text/x-python",
   "name": "python",
   "nbconvert_exporter": "python",
   "pygments_lexer": "ipython3",
   "version": "3.6.9"
  },
  "toc": {
   "base_numbering": 1,
   "nav_menu": {},
   "number_sections": true,
   "sideBar": true,
   "skip_h1_title": true,
   "title_cell": "",
   "title_sidebar": "Contents",
   "toc_cell": true,
   "toc_position": {
    "height": "calc(100% - 180px)",
    "left": "10px",
    "top": "150px",
    "width": "275.2px"
   },
   "toc_section_display": true,
   "toc_window_display": false
  }
 },
 "nbformat": 4,
 "nbformat_minor": 4
}
