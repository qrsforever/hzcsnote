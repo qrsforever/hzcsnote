{
 "cells": [
  {
   "cell_type": "markdown",
   "metadata": {},
   "source": [
    "# <div align=\"center\"> k12学习框架错误码 </div>"
   ]
  },
  {
   "cell_type": "markdown",
   "metadata": {},
   "source": [
    "## 一. 错误码描述"
   ]
  },
  {
   "cell_type": "markdown",
   "metadata": {},
   "source": [
    "|错误码|简述|中文描述|详述|\n",
    "|:-----:|:------|:------|:---------|\n",
    "| 100000 | Success | 操作成功 | 无\n",
    "| 100100 | 100100 | 预留,表示api调用传递json参数是正确的 | 无\n",
    "| 100101 | Json key not found | Json串中无key关键字 | 不固定\n",
    "| 100102 | Json value is invalid | Json串中value值非法 | 不固定\n",
    "| 100103 | | |\n",
    "| 100104 | | |\n",
    "| 100105 | | |\n",
    "| 100200 | 100200 | 预留, 表示启动服务无错误发生 | 无\n",
    "| 100201 | Service is not found | 服务名错误,或者服务没启动 | 服务名\n",
    "| 100202 | Service start fail | 服务启动失败 | 描述具体启动失败原因 \n",
    "| 100203 | | |\n",
    "| 100204 | | |\n",
    "| 100205 | | |\n",
    "| 100300 | 100300 | 预留, k12cv container 内部进程错误 |\n",
    "| 100400 | 100400 | 预留, k12nlp container 内部进程错误 |\n",
    "| 100401 | Container is not found! | Container没找到, 停止一个任务时可能会触发 | \n",
    "| 100402 | Container is already running! | Container已经运行, 当启动一个任务时可能触发 |\n",
    "| 100500 | 100500 | |\n",
    "| 100600 | 100600 | |"
   ]
  },
  {
   "cell_type": "markdown",
   "metadata": {},
   "source": [
    "## 二. 案例"
   ]
  },
  {
   "cell_type": "code",
   "execution_count": 9,
   "metadata": {},
   "outputs": [],
   "source": [
    "import requests\n",
    "import json\n",
    "import consul\n",
    "import time\n",
    "\n",
    "hostname = 'gamma'\n",
    "host = '10.255.20.227'\n",
    "port = 8129\n",
    "\n",
    "user = 'test'\n",
    "uuid = '123456'\n",
    "\n",
    "consul_addr = host\n",
    "consul_port = 8500\n",
    "\n",
    "# API异步接口将过程中产出的数据同步到consul数据中心, 调用该接口可从中心获取数据 (数据中心仅供开发使用)\n",
    "def query_async_data(key, wait = 1):\n",
    "    time.sleep(wait)\n",
    "    try:\n",
    "        client = consul.Consul(consul_addr, consul_port)\n",
    "        _, data = client.kv.get(key)\n",
    "        return str(data['Value'], encoding=\"utf-8\")\n",
    "    except:\n",
    "        return 'Query nothing, try again later!'"
   ]
  },
  {
   "cell_type": "code",
   "execution_count": 3,
   "metadata": {},
   "outputs": [],
   "source": [
    "config = '''{\n",
    "    \"dataset_reader\":{\n",
    "        \"type\": \"sst_tokens\",\n",
    "        \"use_subtrees\": true,\n",
    "        \"granularity\": \"2-class\"\n",
    "    },\n",
    "    \"validation_dataset_reader\":{\n",
    "        \"type\": \"sst_tokens\",\n",
    "        \"use_subtrees\": false,\n",
    "        \"granularity\": \"2-class\"\n",
    "    },\n",
    "    \"train_data_path\": \"/data/datasets/nlp/sst/train.txt\",\n",
    "    \"validation_data_path\": \"/data/datasets/nlp/sst/dev.txt\",\n",
    "    \"test_data_path\": \"/data/datasets/nlp/sst/test.txt\",  \n",
    "    \"model\": {\n",
    "        \"type\": \"basic_classifier\",        \n",
    "        \"text_field_embedder\": {\n",
    "            \"token_embedders\": {\n",
    "                \"tokens\": {\n",
    "                    \"type\": \"embedding\",\n",
    "                    \"embedding_dim\": 300,          \n",
    "                    \"trainable\": false          \n",
    "                }\n",
    "            }\n",
    "        },\n",
    "        \"seq2vec_encoder\": {\n",
    "            \"type\": \"lstm\",                     \n",
    "            \"input_size\": 300,\n",
    "            \"hidden_size\": 512,\n",
    "            \"num_layers\": 2,\n",
    "            \"batch_first\": true\n",
    "        }\n",
    "    },    \n",
    "    \"iterator\": {\n",
    "        \"type\": \"bucket\",\n",
    "        \"sorting_keys\": [[\"tokens\", \"num_tokens\"]],\n",
    "        \"batch_size\" : 32\n",
    "    },\n",
    "    \"trainer\": {\n",
    "        \"num_epochs\": 5,\n",
    "        \"patience\": 1,\n",
    "        \"grad_norm\": 5.0,\n",
    "        \"validation_metric\": \"+accuracy\",\n",
    "        \"cuda_device\": 0,\n",
    "        \"optimizer\": {\n",
    "            \"type\": \"adam\",\n",
    "            \"lr\": 0.001\n",
    "        }\n",
    "    }\n",
    "}'''"
   ]
  },
  {
   "cell_type": "markdown",
   "metadata": {},
   "source": [
    "### 1. 缺少参数"
   ]
  },
  {
   "cell_type": "code",
   "execution_count": 5,
   "metadata": {},
   "outputs": [
    {
     "data": {
      "text/plain": [
       "'{\"code\": 100101, \"brief\": \"Json key not found.\", \"detail\": \"\\'op\\'\"}'"
      ]
     },
     "execution_count": 5,
     "metadata": {},
     "output_type": "execute_result"
    }
   ],
   "source": [
    "data = '''{\n",
    "    \"xxxop\":\"train.start\",\n",
    "    \"user\": \"%s\",\n",
    "    \"service_name\": \"k12nlp\",\n",
    "    \"service_uuid\": \"%s\",\n",
    "    \"service_params\": %s\n",
    "}''' % (user, uuid, config)\n",
    "\n",
    "api = 'http://%s:%d/k12ai/framework/train' % (host, port)\n",
    "start_res = requests.post(url=api, json=json.loads(data))\n",
    "start_res.text"
   ]
  },
  {
   "cell_type": "markdown",
   "metadata": {},
   "source": [
    "### 2. 参数值错误"
   ]
  },
  {
   "cell_type": "code",
   "execution_count": 6,
   "metadata": {},
   "outputs": [
    {
     "data": {
      "text/plain": [
       "'{\"code\": 100102, \"brief\": \"Json value is invalid.\"}'"
      ]
     },
     "execution_count": 6,
     "metadata": {},
     "output_type": "execute_result"
    }
   ],
   "source": [
    "data = '''{\n",
    "    \"op\":\"xxx.start\",\n",
    "    \"user\": \"%s\",\n",
    "    \"service_name\": \"k12nlp\",\n",
    "    \"service_uuid\": \"%s\",\n",
    "    \"service_params\": %s\n",
    "}''' % (user, uuid, config)\n",
    "\n",
    "api = 'http://%s:%d/k12ai/framework/train' % (host, port)\n",
    "start_res = requests.post(url=api, json=json.loads(data))\n",
    "start_res.text"
   ]
  },
  {
   "cell_type": "markdown",
   "metadata": {},
   "source": [
    "### 3. 服务不存在"
   ]
  },
  {
   "cell_type": "code",
   "execution_count": 7,
   "metadata": {},
   "outputs": [
    {
     "data": {
      "text/plain": [
       "'{\"code\": 100201, \"brief\": \"Service is not found.\", \"detail\": {\"service_name\": \"xxxk12nlp\"}}'"
      ]
     },
     "execution_count": 7,
     "metadata": {},
     "output_type": "execute_result"
    }
   ],
   "source": [
    "data = '''{\n",
    "    \"op\":\"train.start\",\n",
    "    \"user\": \"%s\",\n",
    "    \"service_name\": \"xxxk12nlp\",\n",
    "    \"service_uuid\": \"%s\",\n",
    "    \"service_params\": %s\n",
    "}''' % (user, uuid, config)\n",
    "\n",
    "api = 'http://%s:%d/k12ai/framework/train' % (host, port)\n",
    "start_res = requests.post(url=api, json=json.loads(data))\n",
    "start_res.text"
   ]
  },
  {
   "cell_type": "markdown",
   "metadata": {},
   "source": [
    "### 4. 服务启动失败"
   ]
  },
  {
   "cell_type": "code",
   "execution_count": 23,
   "metadata": {},
   "outputs": [
    {
     "data": {
      "text/plain": [
       "'{\"code\": 100000, \"detail\": {\"op\": \"train.start\", \"exec\": \"success\", \"cache_dir\": \"/data/users/test/123456\"}}'"
      ]
     },
     "execution_count": 23,
     "metadata": {},
     "output_type": "execute_result"
    }
   ],
   "source": [
    "data = '''{\n",
    "    \"op\":\"train.start\",\n",
    "    \"user\": \"%s\",\n",
    "    \"service_name\": \"k12nlp\",\n",
    "    \"service_uuid\": \"%s\",\n",
    "    \"service_params\": %s\n",
    "}''' % (user, uuid, config)\n",
    "\n",
    "api = 'http://%s:%d/k12ai/framework/train' % (host, port)\n",
    "start_res = requests.post(url=api, json=json.loads(data))\n",
    "start_res.text"
   ]
  },
  {
   "cell_type": "code",
   "execution_count": 24,
   "metadata": {
    "scrolled": true
   },
   "outputs": [
    {
     "name": "stdout",
     "output_type": "stream",
     "text": [
      "{\n",
      "    \"version\": \"0.1.0\",\n",
      "    \"type\": \"error\",\n",
      "    \"tag\": \"framework\",\n",
      "    \"op\": \"train.start\",\n",
      "    \"user\": \"test\",\n",
      "    \"service_uuid\": \"123456\",\n",
      "    \"timestamp\": 1574345220956,\n",
      "    \"datetime\": \"2019-11-21 22:07:00\",\n",
      "    \"error\": {\n",
      "        \"code\": 100499,\n",
      "        \"brief\": \"404 Client Error: Not Found (\\\"pull access denied for hzcsai_com/xxxx, repository does not exist or may require 'docker login': denied: requested access to the resource is denied\\\")\",\n",
      "        \"detail\": \"Traceback (most recent call last):\\n  File \\\"/home/lidong/.local/lib/python3.6/site-packages/docker/api/client.py\\\", line 261, in _raise_for_status\\n    response.raise_for_status()\\n  File \\\"/home/lidong/.local/lib/python3.6/site-packages/requests/models.py\\\", line 940, in raise_for_status\\n    raise HTTPError(http_error_msg, response=self)\\nrequests.exceptions.HTTPError: 404 Client Error: Not Found for url: http+docker://localhost/v1.35/containers/create?name=train-test-123456\\n\\nDuring handling of the above exception, another exception occurred:\\n\\nTraceback (most recent call last):\\n  File \\\"/home/lidong/.local/lib/python3.6/site-packages/docker/models/containers.py\\\", line 803, in run\\n    detach=detach, **kwargs)\\n  File \\\"/home/lidong/.local/lib/python3.6/site-packages/docker/models/containers.py\\\", line 861, in create\\n    resp = self.client.api.create_container(**create_kwargs)\\n  File \\\"/home/lidong/.local/lib/python3.6/site-packages/docker/api/container.py\\\", line 430, in create_container\\n    return self.create_container_from_config(config, name)\\n  File \\\"/home/lidong/.local/lib/python3.6/site-packages/docker/api/container.py\\\", line 441, in create_container_from_config\\n    return self._result(res, True)\\n  File \\\"/home/lidong/.local/lib/python3.6/site-packages/docker/api/client.py\\\", line 267, in _result\\n    self._raise_for_status(response)\\n  File \\\"/home/lidong/.local/lib/python3.6/site-packages/docker/api/client.py\\\", line 263, in _raise_for_status\\n    raise create_api_error_from_http_exception(e)\\n  File \\\"/home/lidong/.local/lib/python3.6/site-packages/docker/errors.py\\\", line 31, in create_api_error_from_http_exception\\n    raise cls(e, response=response, explanation=explanation)\\ndocker.errors.ImageNotFound: 404 Client Error: Not Found (\\\"No such image: hzcsai_com/xxxx:latest\\\")\\n\\nDuring handling of the above exception, another exception occurred:\\n\\nTraceback (most recent call last):\\n  File \\\"/home/lidong/.local/lib/python3.6/site-packages/docker/api/client.py\\\", line 261, in _raise_for_status\\n    response.raise_for_status()\\n  File \\\"/home/lidong/.local/lib/python3.6/site-packages/requests/models.py\\\", line 940, in raise_for_status\\n    raise HTTPError(http_error_msg, response=self)\\nrequests.exceptions.HTTPError: 404 Client Error: Not Found for url: http+docker://localhost/v1.35/images/create?fromImage=hzcsai_com%2Fxxxx\\n\\nDuring handling of the above exception, another exception occurred:\\n\\nTraceback (most recent call last):\\n  File \\\"app_service.py\\\", line 229, in _run\\n    command, **kwargs)\\n  File \\\"/home/lidong/.local/lib/python3.6/site-packages/docker/models/containers.py\\\", line 805, in run\\n    self.client.images.pull(image, platform=platform)\\n  File \\\"/home/lidong/.local/lib/python3.6/site-packages/docker/models/images.py\\\", line 445, in pull\\n    repository, tag=tag, stream=True, **kwargs\\n  File \\\"/home/lidong/.local/lib/python3.6/site-packages/docker/api/image.py\\\", line 415, in pull\\n    self._raise_for_status(response)\\n  File \\\"/home/lidong/.local/lib/python3.6/site-packages/docker/api/client.py\\\", line 263, in _raise_for_status\\n    raise create_api_error_from_http_exception(e)\\n  File \\\"/home/lidong/.local/lib/python3.6/site-packages/docker/errors.py\\\", line 31, in create_api_error_from_http_exception\\n    raise cls(e, response=response, explanation=explanation)\\ndocker.errors.ImageNotFound: 404 Client Error: Not Found (\\\"pull access denied for hzcsai_com/xxxx, repository does not exist or may require 'docker login': denied: requested access to the resource is denied\\\")\\n\"\n",
      "    }\n",
      "}\n"
     ]
    }
   ],
   "source": [
    "print(query_async_data('framework/%s/%s/train.start/error'%(user, uuid)))"
   ]
  },
  {
   "cell_type": "code",
   "execution_count": null,
   "metadata": {},
   "outputs": [],
   "source": []
  }
 ],
 "metadata": {
  "kernelspec": {
   "display_name": "Python 3",
   "language": "python",
   "name": "python3"
  },
  "language_info": {
   "codemirror_mode": {
    "name": "ipython",
    "version": 3
   },
   "file_extension": ".py",
   "mimetype": "text/x-python",
   "name": "python",
   "nbconvert_exporter": "python",
   "pygments_lexer": "ipython3",
   "version": "3.6.8"
  }
 },
 "nbformat": 4,
 "nbformat_minor": 2
}
