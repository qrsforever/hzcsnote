{
 "cells": [
  {
   "cell_type": "markdown",
   "id": "37c7975f",
   "metadata": {},
   "source": [
    "![](images/led_light.png)"
   ]
  },
  {
   "cell_type": "markdown",
   "id": "18636f9b",
   "metadata": {},
   "source": [
    "## 自研相机"
   ]
  },
  {
   "cell_type": "markdown",
   "id": "c52248ea",
   "metadata": {},
   "source": [
    "### 基础功能"
   ]
  },
  {
   "cell_type": "markdown",
   "id": "222474d0",
   "metadata": {},
   "source": [
    "- [ ] 相机可控, 相机连接自家云平台\n",
    "- [ ] 内部集成配置页面，同时支持云端远程配置\n",
    "- [ ] 能够控制补光设备 (补光控制和相机拍摄的同步问题需要解决）\n",
    "- [ ] 多相机协调工作（例如：3个相机拍摄一个物体进行3D模型重建,需要1个相机作为主相机控制光源,另外2个相受主相机控制进行同步拍摄）\n",
    "- [ ] 部署AI模型（可选)\n",
    "- [ ] 控制外设,实现场景联动(可选)\n",
    "- [ ] 协议网关 (可选)\n",
    "- [ ] 其他功能: 后台升级,RTMP推流等等\n",
    "\n",
    "\n",
    "```                                                                                                                       \n",
    "                                                ╭─────╲─────────────────────────────────────╱────────╮                                   \n",
    "                                                │      ╲               Camera              ╱         │                                   \n",
    "                                                │       ╲─────────────────────────────────╱     ╭────│                                   \n",
    "                                                │                                               │ I  │───> LED Light                     \n",
    "                                                │ N                                             │ N  │                                   \n",
    "                                                │ E  WIFI                                       │ T  │───> Robot Arm                     \n",
    "                                                │ T  RJ45                                       │ E  │                                   \n",
    "                                                │ W  5G                                         │ R  │───> Sensors                       \n",
    "                                                │ O                   SuperOS                   │ F  │                                   \n",
    "                                                │ R                                             │ A  │───>                               \n",
    "                                                │ K                                             │ C  │                                   \n",
    "                                                │                     ╭────────────────────────>│ E  │───>                               \n",
    "                                                │                     │                              │                                   \n",
    "                                                │    ╱────────────────┼─────────────────────────╲    │                                   \n",
    "                                                │   ╱                 │                          ╲   │                                   \n",
    "                                                │  ╱      Config / Control / Upgrade / AIOT       ╲  │                                   \n",
    "                                                │ ╱         │                   │        │         ╲ │                                   \n",
    "                                                ╰╱──────────┼───────────────────┼────────┼──────────╲╯                                   \n",
    "                                                            │                   │        │                                               \n",
    "                                            C Resolution <──┤         ╭───────┬─╯        ├───> Defect Detect                             \n",
    "                                                            │         │       │          │                                               \n",
    "                                           AI Parameters <──┤         v       │          ├───> Classifiy (Switch)                        \n",
    "                                                            │      Software   │          │                                               \n",
    "                                              Network    <──┤                 │          ├───> Sensor Status Report                      \n",
    "                                                            │                 v          │                                               \n",
    "                                                         <──╯             Model Deploy   ╰───> Scene Interaction / Device Control    \n",
    "```"
   ]
  },
  {
   "cell_type": "markdown",
   "id": "fafe49cf",
   "metadata": {},
   "source": [
    "### 执行过程"
   ]
  },
  {
   "cell_type": "markdown",
   "id": "ec680979",
   "metadata": {},
   "source": [
    "```\n",
    "            曝光灯                                                                                                                            \n",
    "              |                                                         |                             |                             \n",
    "              |                                                         |                             |                             \n",
    "        竞品购买/预研  ----->  拍摄同步控制光源 ------>  自研相机软件系统 ----> | 协议网关 ----> AI推理/模型优化 | ----> 外壳包装 / 支架配件   \n",
    "              |                       |                                 |                             |                             \n",
    "     开发板    |                       |                                 |                             |                             \n",
    "        +-----+-----+          +-------------+                                                                                              \n",
    "        |           |          |             |                                                                                                \n",
    "        v           v          v             v                                                                                                \n",
    "    Raspberry    Jetson      红外遥控     继电器io                                                                                            \n",
    "        (均不是成品)               GPIO读写                                                                                                   \n",
    "                                                                                                                                              \n",
    "                                                                                                                                              \n",
    "                                                                                                                                              \n",
    "            1 周                    2-3 周              4-6 周                                                                        \n",
    "                                                                                                                                              \n",
    "```"
   ]
  },
  {
   "cell_type": "markdown",
   "id": "4529831e",
   "metadata": {},
   "source": [
    "## 3D相机系统"
   ]
  },
  {
   "cell_type": "markdown",
   "id": "3d97d8cb",
   "metadata": {},
   "source": [
    "### 多相机校准\n",
    "\n",
    "需要至少4台工业相机和1台曲型固定支架\n",
    "\n"
   ]
  },
  {
   "cell_type": "markdown",
   "id": "2308c4dc",
   "metadata": {},
   "source": [
    "![](./images/bracket.png)"
   ]
  },
  {
   "cell_type": "markdown",
   "id": "3066f197",
   "metadata": {},
   "source": [
    "### 多视角融合 (2周)"
   ]
  },
  {
   "cell_type": "code",
   "execution_count": null,
   "id": "faa61bc4",
   "metadata": {},
   "outputs": [],
   "source": []
  }
 ],
 "metadata": {
  "hide_input": false,
  "kernelspec": {
   "display_name": "Python 3 (ipykernel)",
   "language": "python",
   "name": "python3"
  },
  "language_info": {
   "codemirror_mode": {
    "name": "ipython",
    "version": 3
   },
   "file_extension": ".py",
   "mimetype": "text/x-python",
   "name": "python",
   "nbconvert_exporter": "python",
   "pygments_lexer": "ipython3",
   "version": "3.7.13"
  },
  "toc": {
   "base_numbering": 1,
   "nav_menu": {},
   "number_sections": true,
   "sideBar": false,
   "skip_h1_title": true,
   "title_cell": "Contents",
   "title_sidebar": "Contents",
   "toc_cell": false,
   "toc_position": {},
   "toc_section_display": true,
   "toc_window_display": false
  }
 },
 "nbformat": 4,
 "nbformat_minor": 5
}
