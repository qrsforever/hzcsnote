{
 "cells": [
  {
   "cell_type": "code",
   "execution_count": 1,
   "metadata": {
    "ExecuteTime": {
     "end_time": "2020-08-26T07:43:26.530581Z",
     "start_time": "2020-08-26T07:43:26.509749Z"
    }
   },
   "outputs": [],
   "source": [
    "%reload_ext autoreload\n",
    "%autoreload 2"
   ]
  },
  {
   "cell_type": "code",
   "execution_count": 2,
   "metadata": {
    "ExecuteTime": {
     "end_time": "2020-08-26T07:43:28.090329Z",
     "start_time": "2020-08-26T07:43:26.533272Z"
    }
   },
   "outputs": [],
   "source": [
    "from k12libs.utils.nb_easy import k12ai_model_summary\n",
    "import torch\n",
    "import torchvision"
   ]
  },
  {
   "cell_type": "code",
   "execution_count": 12,
   "metadata": {
    "ExecuteTime": {
     "end_time": "2020-08-26T07:45:27.696051Z",
     "start_time": "2020-08-26T07:45:27.138327Z"
    },
    "scrolled": false
   },
   "outputs": [
    {
     "name": "stdout",
     "output_type": "stream",
     "text": [
      "(3, 224, 224) 32\n",
      "----------------------------------------------------------------\n",
      "        Layer (type)               Output Shape         Param #\n",
      "================================================================\n",
      "            Conv2d-1         [32, 64, 112, 112]           9,408\n",
      "       BatchNorm2d-2         [32, 64, 112, 112]             128\n",
      "              ReLU-3         [32, 64, 112, 112]               0\n",
      "         MaxPool2d-4           [32, 64, 56, 56]               0\n",
      "            Conv2d-5           [32, 64, 56, 56]          36,864\n",
      "       BatchNorm2d-6           [32, 64, 56, 56]             128\n",
      "              ReLU-7           [32, 64, 56, 56]               0\n",
      "            Conv2d-8           [32, 64, 56, 56]          36,864\n",
      "       BatchNorm2d-9           [32, 64, 56, 56]             128\n",
      "             ReLU-10           [32, 64, 56, 56]               0\n",
      "       BasicBlock-11           [32, 64, 56, 56]               0\n",
      "           Conv2d-12           [32, 64, 56, 56]          36,864\n",
      "      BatchNorm2d-13           [32, 64, 56, 56]             128\n",
      "             ReLU-14           [32, 64, 56, 56]               0\n",
      "           Conv2d-15           [32, 64, 56, 56]          36,864\n",
      "      BatchNorm2d-16           [32, 64, 56, 56]             128\n",
      "             ReLU-17           [32, 64, 56, 56]               0\n",
      "       BasicBlock-18           [32, 64, 56, 56]               0\n",
      "           Conv2d-19          [32, 128, 28, 28]          73,728\n",
      "      BatchNorm2d-20          [32, 128, 28, 28]             256\n",
      "             ReLU-21          [32, 128, 28, 28]               0\n",
      "           Conv2d-22          [32, 128, 28, 28]         147,456\n",
      "      BatchNorm2d-23          [32, 128, 28, 28]             256\n",
      "           Conv2d-24          [32, 128, 28, 28]           8,192\n",
      "      BatchNorm2d-25          [32, 128, 28, 28]             256\n",
      "             ReLU-26          [32, 128, 28, 28]               0\n",
      "       BasicBlock-27          [32, 128, 28, 28]               0\n",
      "           Conv2d-28          [32, 128, 28, 28]         147,456\n",
      "      BatchNorm2d-29          [32, 128, 28, 28]             256\n",
      "             ReLU-30          [32, 128, 28, 28]               0\n",
      "           Conv2d-31          [32, 128, 28, 28]         147,456\n",
      "      BatchNorm2d-32          [32, 128, 28, 28]             256\n",
      "             ReLU-33          [32, 128, 28, 28]               0\n",
      "       BasicBlock-34          [32, 128, 28, 28]               0\n",
      "           Conv2d-35          [32, 256, 14, 14]         294,912\n",
      "      BatchNorm2d-36          [32, 256, 14, 14]             512\n",
      "             ReLU-37          [32, 256, 14, 14]               0\n",
      "           Conv2d-38          [32, 256, 14, 14]         589,824\n",
      "      BatchNorm2d-39          [32, 256, 14, 14]             512\n",
      "           Conv2d-40          [32, 256, 14, 14]          32,768\n",
      "      BatchNorm2d-41          [32, 256, 14, 14]             512\n",
      "             ReLU-42          [32, 256, 14, 14]               0\n",
      "       BasicBlock-43          [32, 256, 14, 14]               0\n",
      "           Conv2d-44          [32, 256, 14, 14]         589,824\n",
      "      BatchNorm2d-45          [32, 256, 14, 14]             512\n",
      "             ReLU-46          [32, 256, 14, 14]               0\n",
      "           Conv2d-47          [32, 256, 14, 14]         589,824\n",
      "      BatchNorm2d-48          [32, 256, 14, 14]             512\n",
      "             ReLU-49          [32, 256, 14, 14]               0\n",
      "       BasicBlock-50          [32, 256, 14, 14]               0\n",
      "           Conv2d-51            [32, 512, 7, 7]       1,179,648\n",
      "      BatchNorm2d-52            [32, 512, 7, 7]           1,024\n",
      "             ReLU-53            [32, 512, 7, 7]               0\n",
      "           Conv2d-54            [32, 512, 7, 7]       2,359,296\n",
      "      BatchNorm2d-55            [32, 512, 7, 7]           1,024\n",
      "           Conv2d-56            [32, 512, 7, 7]         131,072\n",
      "      BatchNorm2d-57            [32, 512, 7, 7]           1,024\n",
      "             ReLU-58            [32, 512, 7, 7]               0\n",
      "       BasicBlock-59            [32, 512, 7, 7]               0\n",
      "           Conv2d-60            [32, 512, 7, 7]       2,359,296\n",
      "      BatchNorm2d-61            [32, 512, 7, 7]           1,024\n",
      "             ReLU-62            [32, 512, 7, 7]               0\n",
      "           Conv2d-63            [32, 512, 7, 7]       2,359,296\n",
      "      BatchNorm2d-64            [32, 512, 7, 7]           1,024\n",
      "             ReLU-65            [32, 512, 7, 7]               0\n",
      "       BasicBlock-66            [32, 512, 7, 7]               0\n",
      "AdaptiveAvgPool2d-67            [32, 512, 1, 1]               0\n",
      "           Linear-68                 [32, 1000]         513,000\n",
      "           ResNet-69                 [32, 1000]               0\n",
      "================================================================\n",
      "Total params: 11,689,512\n",
      "Trainable params: 11,689,512\n",
      "Non-trainable params: 0\n",
      "----------------------------------------------------------------\n",
      "Input size (MB): 18.38\n",
      "Forward/backward pass size (MB): 2009.61\n",
      "Params size (MB): 44.59\n",
      "Estimated Total Size (MB): 2072.58\n",
      "----------------------------------------------------------------\n",
      "\n",
      "============================================== Hierarchical Summary ==============================================\n",
      "\n",
      "ResNet(\n",
      "  (conv1): Conv2d(3, 64, kernel_size=(7, 7), stride=(2, 2), padding=(3, 3), bias=False), 9,408 params\n",
      "  (bn1): BatchNorm2d(64, eps=1e-05, momentum=0.1, affine=True, track_running_stats=True), 128 params\n",
      "  (relu): ReLU(inplace=True), 0 params\n",
      "  (maxpool): MaxPool2d(kernel_size=3, stride=2, padding=1, dilation=1, ceil_mode=False), 0 params\n",
      "  (layer1): Sequential(\n",
      "    (0): BasicBlock(\n",
      "      (conv1): Conv2d(64, 64, kernel_size=(3, 3), stride=(1, 1), padding=(1, 1), bias=False), 36,864 params\n",
      "      (bn1): BatchNorm2d(64, eps=1e-05, momentum=0.1, affine=True, track_running_stats=True), 128 params\n",
      "      (relu): ReLU(inplace=True), 0 params\n",
      "      (conv2): Conv2d(64, 64, kernel_size=(3, 3), stride=(1, 1), padding=(1, 1), bias=False), 36,864 params\n",
      "      (bn2): BatchNorm2d(64, eps=1e-05, momentum=0.1, affine=True, track_running_stats=True), 128 params\n",
      "    ), 73,984 params\n",
      "    (1): BasicBlock(\n",
      "      (conv1): Conv2d(64, 64, kernel_size=(3, 3), stride=(1, 1), padding=(1, 1), bias=False), 36,864 params\n",
      "      (bn1): BatchNorm2d(64, eps=1e-05, momentum=0.1, affine=True, track_running_stats=True), 128 params\n",
      "      (relu): ReLU(inplace=True), 0 params\n",
      "      (conv2): Conv2d(64, 64, kernel_size=(3, 3), stride=(1, 1), padding=(1, 1), bias=False), 36,864 params\n",
      "      (bn2): BatchNorm2d(64, eps=1e-05, momentum=0.1, affine=True, track_running_stats=True), 128 params\n",
      "    ), 73,984 params\n",
      "  ), 147,968 params\n",
      "  (layer2): Sequential(\n",
      "    (0): BasicBlock(\n",
      "      (conv1): Conv2d(64, 128, kernel_size=(3, 3), stride=(2, 2), padding=(1, 1), bias=False), 73,728 params\n",
      "      (bn1): BatchNorm2d(128, eps=1e-05, momentum=0.1, affine=True, track_running_stats=True), 256 params\n",
      "      (relu): ReLU(inplace=True), 0 params\n",
      "      (conv2): Conv2d(128, 128, kernel_size=(3, 3), stride=(1, 1), padding=(1, 1), bias=False), 147,456 params\n",
      "      (bn2): BatchNorm2d(128, eps=1e-05, momentum=0.1, affine=True, track_running_stats=True), 256 params\n",
      "      (downsample): Sequential(\n",
      "        (0): Conv2d(64, 128, kernel_size=(1, 1), stride=(2, 2), bias=False), 8,192 params\n",
      "        (1): BatchNorm2d(128, eps=1e-05, momentum=0.1, affine=True, track_running_stats=True), 256 params\n",
      "      ), 8,448 params\n",
      "    ), 230,144 params\n",
      "    (1): BasicBlock(\n",
      "      (conv1): Conv2d(128, 128, kernel_size=(3, 3), stride=(1, 1), padding=(1, 1), bias=False), 147,456 params\n",
      "      (bn1): BatchNorm2d(128, eps=1e-05, momentum=0.1, affine=True, track_running_stats=True), 256 params\n",
      "      (relu): ReLU(inplace=True), 0 params\n",
      "      (conv2): Conv2d(128, 128, kernel_size=(3, 3), stride=(1, 1), padding=(1, 1), bias=False), 147,456 params\n",
      "      (bn2): BatchNorm2d(128, eps=1e-05, momentum=0.1, affine=True, track_running_stats=True), 256 params\n",
      "    ), 295,424 params\n",
      "  ), 525,568 params\n",
      "  (layer3): Sequential(\n",
      "    (0): BasicBlock(\n",
      "      (conv1): Conv2d(128, 256, kernel_size=(3, 3), stride=(2, 2), padding=(1, 1), bias=False), 294,912 params\n",
      "      (bn1): BatchNorm2d(256, eps=1e-05, momentum=0.1, affine=True, track_running_stats=True), 512 params\n",
      "      (relu): ReLU(inplace=True), 0 params\n",
      "      (conv2): Conv2d(256, 256, kernel_size=(3, 3), stride=(1, 1), padding=(1, 1), bias=False), 589,824 params\n",
      "      (bn2): BatchNorm2d(256, eps=1e-05, momentum=0.1, affine=True, track_running_stats=True), 512 params\n",
      "      (downsample): Sequential(\n",
      "        (0): Conv2d(128, 256, kernel_size=(1, 1), stride=(2, 2), bias=False), 32,768 params\n",
      "        (1): BatchNorm2d(256, eps=1e-05, momentum=0.1, affine=True, track_running_stats=True), 512 params\n",
      "      ), 33,280 params\n",
      "    ), 919,040 params\n",
      "    (1): BasicBlock(\n",
      "      (conv1): Conv2d(256, 256, kernel_size=(3, 3), stride=(1, 1), padding=(1, 1), bias=False), 589,824 params\n",
      "      (bn1): BatchNorm2d(256, eps=1e-05, momentum=0.1, affine=True, track_running_stats=True), 512 params\n",
      "      (relu): ReLU(inplace=True), 0 params\n",
      "      (conv2): Conv2d(256, 256, kernel_size=(3, 3), stride=(1, 1), padding=(1, 1), bias=False), 589,824 params\n",
      "      (bn2): BatchNorm2d(256, eps=1e-05, momentum=0.1, affine=True, track_running_stats=True), 512 params\n",
      "    ), 1,180,672 params\n",
      "  ), 2,099,712 params\n",
      "  (layer4): Sequential(\n",
      "    (0): BasicBlock(\n",
      "      (conv1): Conv2d(256, 512, kernel_size=(3, 3), stride=(2, 2), padding=(1, 1), bias=False), 1,179,648 params\n",
      "      (bn1): BatchNorm2d(512, eps=1e-05, momentum=0.1, affine=True, track_running_stats=True), 1,024 params\n",
      "      (relu): ReLU(inplace=True), 0 params\n",
      "      (conv2): Conv2d(512, 512, kernel_size=(3, 3), stride=(1, 1), padding=(1, 1), bias=False), 2,359,296 params\n",
      "      (bn2): BatchNorm2d(512, eps=1e-05, momentum=0.1, affine=True, track_running_stats=True), 1,024 params\n",
      "      (downsample): Sequential(\n",
      "        (0): Conv2d(256, 512, kernel_size=(1, 1), stride=(2, 2), bias=False), 131,072 params\n",
      "        (1): BatchNorm2d(512, eps=1e-05, momentum=0.1, affine=True, track_running_stats=True), 1,024 params\n",
      "      ), 132,096 params\n",
      "    ), 3,673,088 params\n",
      "    (1): BasicBlock(\n",
      "      (conv1): Conv2d(512, 512, kernel_size=(3, 3), stride=(1, 1), padding=(1, 1), bias=False), 2,359,296 params\n",
      "      (bn1): BatchNorm2d(512, eps=1e-05, momentum=0.1, affine=True, track_running_stats=True), 1,024 params\n",
      "      (relu): ReLU(inplace=True), 0 params\n",
      "      (conv2): Conv2d(512, 512, kernel_size=(3, 3), stride=(1, 1), padding=(1, 1), bias=False), 2,359,296 params\n",
      "      (bn2): BatchNorm2d(512, eps=1e-05, momentum=0.1, affine=True, track_running_stats=True), 1,024 params\n",
      "    ), 4,720,640 params\n",
      "  ), 8,393,728 params\n",
      "  (avgpool): AdaptiveAvgPool2d(output_size=(1, 1)), 0 params\n",
      "  (fc): Linear(in_features=512, out_features=1000, bias=True), 513,000 params\n",
      "), 11,689,512 params\n",
      "\n",
      "\n",
      "==================================================================================================================\n",
      "\n"
     ]
    }
   ],
   "source": [
    "net = torchvision.models.resnet18()\n",
    "k12ai_model_summary(net, input_size=(32, 3, 224, 224))"
   ]
  },
  {
   "cell_type": "code",
   "execution_count": 4,
   "metadata": {
    "ExecuteTime": {
     "end_time": "2020-08-26T07:43:28.623666Z",
     "start_time": "2020-08-26T07:43:28.584569Z"
    }
   },
   "outputs": [
    {
     "data": {
      "text/plain": [
       "device(type='cpu')"
      ]
     },
     "execution_count": 4,
     "metadata": {},
     "output_type": "execute_result"
    }
   ],
   "source": [
    "\n",
    "device=next(net.parameters()).device\n",
    "device"
   ]
  },
  {
   "cell_type": "code",
   "execution_count": 5,
   "metadata": {
    "ExecuteTime": {
     "end_time": "2020-08-26T07:43:28.655055Z",
     "start_time": "2020-08-26T07:43:28.626014Z"
    }
   },
   "outputs": [],
   "source": [
    "import torch"
   ]
  },
  {
   "cell_type": "code",
   "execution_count": 6,
   "metadata": {
    "ExecuteTime": {
     "end_time": "2020-08-26T07:43:28.688132Z",
     "start_time": "2020-08-26T07:43:28.657698Z"
    }
   },
   "outputs": [
    {
     "data": {
      "text/plain": [
       "device(type='cuda', index=0)"
      ]
     },
     "execution_count": 6,
     "metadata": {},
     "output_type": "execute_result"
    }
   ],
   "source": [
    "torch.device('cuda:0')"
   ]
  },
  {
   "cell_type": "code",
   "execution_count": 7,
   "metadata": {
    "ExecuteTime": {
     "end_time": "2020-08-26T07:43:28.716540Z",
     "start_time": "2020-08-26T07:43:28.690529Z"
    }
   },
   "outputs": [],
   "source": [
    "import torchsummary"
   ]
  },
  {
   "cell_type": "code",
   "execution_count": 19,
   "metadata": {
    "ExecuteTime": {
     "end_time": "2020-08-26T13:27:12.185274Z",
     "start_time": "2020-08-26T13:27:12.132452Z"
    }
   },
   "outputs": [
    {
     "data": {
      "text/html": [
       "<style>.container { width:95% !important; }</style>"
      ],
      "text/plain": [
       "<IPython.core.display.HTML object>"
      ]
     },
     "metadata": {},
     "output_type": "display_data"
    },
    {
     "name": "stdout",
     "output_type": "stream",
     "text": [
      " * Serving Flask app \"k12libs.utils.nb_easy\" (lazy loading)\n",
      " * Environment: production\n"
     ]
    },
    {
     "data": {
      "text/html": [
       "\n",
       "        <iframe\n",
       "            width=\"100%\"\n",
       "            height=\"780\"\n",
       "            src=\"http://116.85.5.40:9091/drawnet.html?jfile=complex&flask=http://116.85.5.40:8117/k12ai/notebook/message\"\n",
       "            frameborder=\"0\"\n",
       "            allowfullscreen\n",
       "        ></iframe>\n",
       "        "
      ],
      "text/plain": [
       "<IPython.lib.display.IFrame at 0x7f24e964d6d8>"
      ]
     },
     "execution_count": 19,
     "metadata": {},
     "output_type": "execute_result"
    },
    {
     "name": "stdout",
     "output_type": "stream",
     "text": [
      "\u001b[31m   WARNING: This is a development server. Do not use it in a production deployment.\u001b[0m\n",
      "\u001b[2m   Use a production WSGI server instead.\u001b[0m\n",
      " * Debug mode: off\n"
     ]
    }
   ],
   "source": [
    "from k12libs.utils.nb_easy import k12ai_start_html, W3URL\n",
    "k12ai_start_html(f'{W3URL}/drawnet.html?jfile=complex', height=780, flask=True)"
   ]
  },
  {
   "cell_type": "code",
   "execution_count": 7,
   "metadata": {
    "ExecuteTime": {
     "end_time": "2020-08-27T08:36:14.898543Z",
     "start_time": "2020-08-27T08:36:14.887587Z"
    }
   },
   "outputs": [
    {
     "name": "stdout",
     "output_type": "stream",
     "text": [
      "\n",
      "plain_net { name : \"hproject_model_name\" layer {\n",
      "\t\t\t\t\t conv {\n",
      "\t\t\t\t\t  name : \"Conv2d_oaarnrsino\"\n",
      "\t\t\t\t\t  layer_builder : \"NNTorchLayer\"\n",
      "\t\t\t\t\t  layer_mode : CONV2D\n",
      "\t\t\t\t\t  inputs: 'x'\n",
      "\t\t\t\t\t  outputs : \"Cat_up2wmuwnpr\"\n",
      "\t\t\t\t\t  layer_params { \n",
      "\t\t\t\t\t \t in_channels : \"3\"  out_channels : \"16\"  kernel_size : \"3\"  stride : \"1\"  padding : \"0\"  dilation : \"1\"  groups : \"1\"  bias : \"True\" \n",
      "\t\t\t\t\t } \n",
      "\t\t\t\t\t }\n",
      "\t\t\t\t\t }layer {\n",
      "\t\t\t\t\t conv {\n",
      "\t\t\t\t\t  name : \"Conv2d_4g8syblwxq\"\n",
      "\t\t\t\t\t  layer_builder : \"NNTorchLayer\"\n",
      "\t\t\t\t\t  layer_mode : CONV2D\n",
      "\t\t\t\t\t  inputs: \"Input_g482auoi5c\" \n",
      "\t\t\t\t\t  outputs : \"Cat_up2wmuwnpr\"\n",
      "\t\t\t\t\t  layer_params { \n",
      "\t\t\t\t\t \t in_channels : \"3\"  out_channels : \"16\"  kernel_size : \"3\"  stride : \"1\"  padding : \"0\"  dilation : \"1\"  groups : \"1\"  bias : \"True\" \n",
      "\t\t\t\t\t } \n",
      "\t\t\t\t\t }\n",
      "\t\t\t\t\t }layer {\n",
      "\t\t\t\t\t basefunc {\n",
      "\t\t\t\t\t  name : \"Cat_up2wmuwnpr\"\n",
      "\t\t\t\t\t  layer_builder : \"TorchFuncLayer\"\n",
      "\t\t\t\t\t  layer_mode : CAT\n",
      "\t\t\t\t\t  inputs: \"Conv2d_oaarnrsino\" inputs: \"Conv2d_4g8syblwxq\" inputs: \"Conv2d_r1t03pqox2\" inputs: \"Conv2d_cvrd36a04m\" \n",
      "\t\t\t\t\t  outputs : \"Flatten_tghk558cme\"\n",
      "\t\t\t\t\t  layer_params { \n",
      "\t\t\t\t\t \t dim : \"1\" \n",
      "\t\t\t\t\t } \n",
      "\t\t\t\t\t }\n",
      "\t\t\t\t\t }layer {\n",
      "\t\t\t\t\t vulkan {\n",
      "\t\t\t\t\t  name : \"Flatten_tghk558cme\"\n",
      "\t\t\t\t\t  layer_builder : \"NNTorchLayer\"\n",
      "\t\t\t\t\t  layer_mode : FLATTEN\n",
      "\t\t\t\t\t  inputs: \"Cat_up2wmuwnpr\" \n",
      "\t\t\t\t\t  outputs : \"Linear_3phtruppi\"\n",
      "\t\t\t\t\t  layer_params { \n",
      "\t\t\t\t\t \t start_dim : \"1\"  end_dim : \"-1\" \n",
      "\t\t\t\t\t } \n",
      "\t\t\t\t\t }\n",
      "\t\t\t\t\t }layer {\n",
      "\t\t\t\t\t linear {\n",
      "\t\t\t\t\t  name : \"Linear_3phtruppi\"\n",
      "\t\t\t\t\t  layer_builder : \"NNTorchLayer\"\n",
      "\t\t\t\t\t  layer_mode : LINEAR\n",
      "\t\t\t\t\t  inputs: \"Flatten_tghk558cme\" \n",
      "\t\t\t\t\t  outputs : \"Output_pdusvnqf7w\"\n",
      "\t\t\t\t\t  layer_params { \n",
      "\t\t\t\t\t \t in_features : \"43264\"  out_features : \"10\"  bias : \"False\" \n",
      "\t\t\t\t\t } \n",
      "\t\t\t\t\t }\n",
      "\t\t\t\t\t }layer {\n",
      "\t\t\t\t\t conv {\n",
      "\t\t\t\t\t  name : \"Conv2d_r1t03pqox2\"\n",
      "\t\t\t\t\t  layer_builder : \"NNTorchLayer\"\n",
      "\t\t\t\t\t  layer_mode : CONV2D\n",
      "\t\t\t\t\t  inputs: \"Input_g482auoi5c\" \n",
      "\t\t\t\t\t  outputs : \"Cat_up2wmuwnpr\"\n",
      "\t\t\t\t\t  layer_params { \n",
      "\t\t\t\t\t \t in_channels : \"3\"  out_channels : \"16\"  kernel_size : \"3\"  stride : \"1\"  padding : \"0\"  dilation : \"1\"  groups : \"1\"  bias : \"True\" \n",
      "\t\t\t\t\t } \n",
      "\t\t\t\t\t }\n",
      "\t\t\t\t\t }layer {\n",
      "\t\t\t\t\t conv {\n",
      "\t\t\t\t\t  name : \"Conv2d_cvrd36a04m\"\n",
      "\t\t\t\t\t  layer_builder : \"NNTorchLayer\"\n",
      "\t\t\t\t\t  layer_mode : CONV2D\n",
      "\t\t\t\t\t  inputs: \"Conv2d_oaarnrsino\" \n",
      "\t\t\t\t\t  outputs : \"Cat_up2wmuwnpr\"\n",
      "\t\t\t\t\t  layer_params { \n",
      "\t\t\t\t\t \t in_channels : \"16\"  out_channels : \"16\"  kernel_size : \"3\"  stride : \"1\"  padding : \"1\"  dilation : \"1\"  groups : \"1\"  bias : \"True\" \n",
      "\t\t\t\t\t } \n",
      "\t\t\t\t\t }\n",
      "\t\t\t\t\t } } \n"
     ]
    }
   ],
   "source": [
    "c='''\n",
    "plain_net { name : \\\"hproject_model_name\\\" layer {\n",
    "\t\t\t\t\t conv {\n",
    "\t\t\t\t\t  name : \\\"Conv2d_oaarnrsino\\\"\n",
    "\t\t\t\t\t  layer_builder : \\\"NNTorchLayer\\\"\n",
    "\t\t\t\t\t  layer_mode : CONV2D\n",
    "\t\t\t\t\t  inputs: 'x'\n",
    "\t\t\t\t\t  outputs : \\\"Cat_up2wmuwnpr\\\"\n",
    "\t\t\t\t\t  layer_params { \n",
    "\t\t\t\t\t \t in_channels : \\\"3\\\"  out_channels : \\\"16\\\"  kernel_size : \\\"3\\\"  stride : \\\"1\\\"  padding : \\\"0\\\"  dilation : \\\"1\\\"  groups : \\\"1\\\"  bias : \\\"True\\\" \n",
    "\t\t\t\t\t } \n",
    "\t\t\t\t\t }\n",
    "\t\t\t\t\t }layer {\n",
    "\t\t\t\t\t conv {\n",
    "\t\t\t\t\t  name : \\\"Conv2d_4g8syblwxq\\\"\n",
    "\t\t\t\t\t  layer_builder : \\\"NNTorchLayer\\\"\n",
    "\t\t\t\t\t  layer_mode : CONV2D\n",
    "\t\t\t\t\t  inputs: \\\"Input_g482auoi5c\\\" \n",
    "\t\t\t\t\t  outputs : \\\"Cat_up2wmuwnpr\\\"\n",
    "\t\t\t\t\t  layer_params { \n",
    "\t\t\t\t\t \t in_channels : \\\"3\\\"  out_channels : \\\"16\\\"  kernel_size : \\\"3\\\"  stride : \\\"1\\\"  padding : \\\"0\\\"  dilation : \\\"1\\\"  groups : \\\"1\\\"  bias : \\\"True\\\" \n",
    "\t\t\t\t\t } \n",
    "\t\t\t\t\t }\n",
    "\t\t\t\t\t }layer {\n",
    "\t\t\t\t\t basefunc {\n",
    "\t\t\t\t\t  name : \\\"Cat_up2wmuwnpr\\\"\n",
    "\t\t\t\t\t  layer_builder : \\\"TorchFuncLayer\\\"\n",
    "\t\t\t\t\t  layer_mode : CAT\n",
    "\t\t\t\t\t  inputs: \\\"Conv2d_oaarnrsino\\\" inputs: \\\"Conv2d_4g8syblwxq\\\" inputs: \\\"Conv2d_r1t03pqox2\\\" inputs: \\\"Conv2d_cvrd36a04m\\\" \n",
    "\t\t\t\t\t  outputs : \\\"Flatten_tghk558cme\\\"\n",
    "\t\t\t\t\t  layer_params { \n",
    "\t\t\t\t\t \t dim : \\\"1\\\" \n",
    "\t\t\t\t\t } \n",
    "\t\t\t\t\t }\n",
    "\t\t\t\t\t }layer {\n",
    "\t\t\t\t\t vulkan {\n",
    "\t\t\t\t\t  name : \\\"Flatten_tghk558cme\\\"\n",
    "\t\t\t\t\t  layer_builder : \\\"NNTorchLayer\\\"\n",
    "\t\t\t\t\t  layer_mode : FLATTEN\n",
    "\t\t\t\t\t  inputs: \\\"Cat_up2wmuwnpr\\\" \n",
    "\t\t\t\t\t  outputs : \\\"Linear_3phtruppi\\\"\n",
    "\t\t\t\t\t  layer_params { \n",
    "\t\t\t\t\t \t start_dim : \\\"1\\\"  end_dim : \\\"-1\\\" \n",
    "\t\t\t\t\t } \n",
    "\t\t\t\t\t }\n",
    "\t\t\t\t\t }layer {\n",
    "\t\t\t\t\t linear {\n",
    "\t\t\t\t\t  name : \\\"Linear_3phtruppi\\\"\n",
    "\t\t\t\t\t  layer_builder : \\\"NNTorchLayer\\\"\n",
    "\t\t\t\t\t  layer_mode : LINEAR\n",
    "\t\t\t\t\t  inputs: \\\"Flatten_tghk558cme\\\" \n",
    "\t\t\t\t\t  outputs : \\\"Output_pdusvnqf7w\\\"\n",
    "\t\t\t\t\t  layer_params { \n",
    "\t\t\t\t\t \t in_features : \\\"43264\\\"  out_features : \\\"10\\\"  bias : \\\"False\\\" \n",
    "\t\t\t\t\t } \n",
    "\t\t\t\t\t }\n",
    "\t\t\t\t\t }layer {\n",
    "\t\t\t\t\t conv {\n",
    "\t\t\t\t\t  name : \\\"Conv2d_r1t03pqox2\\\"\n",
    "\t\t\t\t\t  layer_builder : \\\"NNTorchLayer\\\"\n",
    "\t\t\t\t\t  layer_mode : CONV2D\n",
    "\t\t\t\t\t  inputs: \\\"Input_g482auoi5c\\\" \n",
    "\t\t\t\t\t  outputs : \\\"Cat_up2wmuwnpr\\\"\n",
    "\t\t\t\t\t  layer_params { \n",
    "\t\t\t\t\t \t in_channels : \\\"3\\\"  out_channels : \\\"16\\\"  kernel_size : \\\"3\\\"  stride : \\\"1\\\"  padding : \\\"0\\\"  dilation : \\\"1\\\"  groups : \\\"1\\\"  bias : \\\"True\\\" \n",
    "\t\t\t\t\t } \n",
    "\t\t\t\t\t }\n",
    "\t\t\t\t\t }layer {\n",
    "\t\t\t\t\t conv {\n",
    "\t\t\t\t\t  name : \\\"Conv2d_cvrd36a04m\\\"\n",
    "\t\t\t\t\t  layer_builder : \\\"NNTorchLayer\\\"\n",
    "\t\t\t\t\t  layer_mode : CONV2D\n",
    "\t\t\t\t\t  inputs: \\\"Conv2d_oaarnrsino\\\" \n",
    "\t\t\t\t\t  outputs : \\\"Cat_up2wmuwnpr\\\"\n",
    "\t\t\t\t\t  layer_params { \n",
    "\t\t\t\t\t \t in_channels : \\\"16\\\"  out_channels : \\\"16\\\"  kernel_size : \\\"3\\\"  stride : \\\"1\\\"  padding : \\\"1\\\"  dilation : \\\"1\\\"  groups : \\\"1\\\"  bias : \\\"True\\\" \n",
    "\t\t\t\t\t } \n",
    "\t\t\t\t\t }\n",
    "\t\t\t\t\t } } '''\n",
    "\n",
    "print(c)"
   ]
  }
 ],
 "metadata": {
  "kernelspec": {
   "display_name": "Python 3",
   "language": "python",
   "name": "python3"
  },
  "language_info": {
   "codemirror_mode": {
    "name": "ipython",
    "version": 3
   },
   "file_extension": ".py",
   "mimetype": "text/x-python",
   "name": "python",
   "nbconvert_exporter": "python",
   "pygments_lexer": "ipython3",
   "version": "3.6.9"
  },
  "toc": {
   "base_numbering": 1,
   "nav_menu": {},
   "number_sections": true,
   "sideBar": true,
   "skip_h1_title": true,
   "title_cell": "",
   "title_sidebar": "Contents",
   "toc_cell": false,
   "toc_position": {},
   "toc_section_display": true,
   "toc_window_display": false
  }
 },
 "nbformat": 4,
 "nbformat_minor": 2
}
