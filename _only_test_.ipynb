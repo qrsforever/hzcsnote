{
 "cells": [
  {
   "cell_type": "markdown",
   "metadata": {
    "hide_input": true,
    "toc": true
   },
   "source": [
    "<h1>Contents<span class=\"tocSkip\"></span></h1>\n",
    "<div class=\"toc\"><ul class=\"toc-item\"><li><span><a href=\"#Test\" data-toc-modified-id=\"Test-1\"><span class=\"toc-item-num\">1&nbsp;&nbsp;</span>Test</a></span><ul class=\"toc-item\"><li><span><a href=\"#H\" data-toc-modified-id=\"H-1.1\"><span class=\"toc-item-num\">1.1&nbsp;&nbsp;</span>H</a></span></li></ul></li></ul></div>"
   ]
  },
  {
   "cell_type": "code",
   "execution_count": null,
   "metadata": {
    "ExecuteTime": {
     "end_time": "2021-09-27T09:47:05.095501Z",
     "start_time": "2021-09-27T09:46:59.819360Z"
    }
   },
   "outputs": [],
   "source": [
    "%reload_ext watermark\n",
    "%reload_ext autoreload\n",
    "%autoreload 2\n",
    "%watermark -p numpy,sklearn,pandas\n",
    "%watermark -p cv2,PIL,matplotlib\n",
    "%watermark -p torch,torchvision,torchaudio\n",
    "%watermark -p tensorflow,tensorboard\n",
    "%matplotlib inline\n",
    "%config InlineBackend.figure_format='retina'\n",
    "%config IPCompleter.use_jedi = False\n",
    "\n",
    "from IPython.display import display, Markdown, HTML, Image, Javascript\n",
    "from IPython.core.magic import register_line_cell_magic, register_line_magic, register_cell_magic\n",
    "display(HTML('<style>.container { width:%d%% !important; }</style>' % 90))\n",
    "\n",
    "import sys, os, io, time, random, math\n",
    "import json, base64, requests\n",
    "import os.path as osp\n",
    "import numpy as np\n",
    "\n",
    "import\n",
    "\n",
    "def _IMPORT_(x):\n",
    "    try:\n",
    "        segs = x.split(' ')\n",
    "        g = globals()\n",
    "        if 'github.com' in segs[1]:\n",
    "            uri = segs[1].replace('github.com', 'raw.githubusercontent.com')\n",
    "            mod = uri.split('/')\n",
    "            for s in ['main', 'master']:\n",
    "                uri = 'https://' + '/'.join(mod[:-1]) + '/main/' + mod[-1] + '.py'\n",
    "                x = requests.get(uri)\n",
    "                if x.status_code == 200:\n",
    "                    x = x.text\n",
    "                    break\n",
    "        elif 'gitee.com' in segs[1]:\n",
    "            mod = segs[1].split('/')\n",
    "            for s in ['/raw/main/', '/raw/master/']:\n",
    "                uri = 'https://' + '/'.join(mod[:3]) + s + '/'.join(mod[3:]) + '.py'\n",
    "                x = requests.get(uri)\n",
    "                if x.status_code == 200:\n",
    "                    x = x.text\n",
    "                    break\n",
    "        elif segs[1][0] == '/':\n",
    "            with open(segs[1] + '.py') as fr:\n",
    "                x = fr.read()\n",
    "        exec(x, g)\n",
    "    except:\n",
    "        pass\n"
   ]
  },
  {
   "cell_type": "code",
   "execution_count": null,
   "metadata": {},
   "outputs": [],
   "source": [
    "<div style=\"margin-top:30px; width: 100%;\">\n",
    "    <div style=\"float:left;\">\n",
    "        <a\n",
    "           title=\"\"\n",
    "           href=\"www.baidu.com\"\n",
    "            style=\"color:blue;font-size:28px;text-decoration:none;\">\n",
    "                &#128279;\n",
    "        </a>\n",
    "    </div>\n",
    "    <div style=\"text-align:right\">\n",
    "        <a\n",
    "           title=\"Back to Top\"\n",
    "           href=\"#Contents\"\n",
    "           onclick=\"window.scrollTo(0, 0);\"\n",
    "           style=\"color:blue;font-size:28px;text-decoration:none;\">\n",
    "               &#128285;\n",
    "        </a>\n",
    "    </div>\n",
    "</div>"
   ]
  },
  {
   "cell_type": "markdown",
   "metadata": {},
   "source": [
    "## Test"
   ]
  },
  {
   "cell_type": "code",
   "execution_count": null,
   "metadata": {
    "ExecuteTime": {
     "end_time": "2021-09-27T09:47:05.168464Z",
     "start_time": "2021-09-27T09:47:05.103896Z"
    }
   },
   "outputs": [],
   "source": [
    "import tensorflow as tf"
   ]
  },
  {
   "cell_type": "code",
   "execution_count": null,
   "metadata": {
    "ExecuteTime": {
     "end_time": "2021-09-27T09:47:05.234645Z",
     "start_time": "2021-09-27T09:47:05.175624Z"
    }
   },
   "outputs": [],
   "source": [
    "import sys"
   ]
  },
  {
   "cell_type": "code",
   "execution_count": null,
   "metadata": {},
   "outputs": [],
   "source": [
    "%%writefile /tmp/a.sh\n",
    "\n",
    "user=$USER"
   ]
  },
  {
   "cell_type": "code",
   "execution_count": null,
   "metadata": {
    "ExecuteTime": {
     "end_time": "2021-09-27T09:47:05.305027Z",
     "start_time": "2021-09-27T09:47:05.241760Z"
    }
   },
   "outputs": [],
   "source": [
    "sys.path.append('/data/nb_data/tf_trt_models')\n",
    "<div style=\"margin-top:30px; width: 100%;\">\n",
    "    <div style=\"float:left;\">\n",
    "        <a\n",
    "           title=\"\"\n",
    "           href=\"\"\n",
    "           style=\"color:blue;font-size:28px;text-decoration:none;\">\n",
    "                &#128279;\n",
    "        </a>\n",
    "    </div>\n",
    "    <div style=\"text-align:right\">\n",
    "        <a\n",
    "           title=\"Back to Top\"\n",
    "           href=\"#Contents\"\n",
    "           onclick=\"window.scrollTo(0, 0);\"\n",
    "           style=\"color:blue;font-size:28px;text-decoration:none;\">\n",
    "               &#128285;\n",
    "        </a>\n",
    "    </div>\n",
    "</div>"
   ]
  },
  {
   "cell_type": "markdown",
   "metadata": {},
   "source": [
    "### H"
   ]
  },
  {
   "cell_type": "code",
   "execution_count": null,
   "metadata": {
    "ExecuteTime": {
     "end_time": "2021-09-27T09:47:05.843970Z",
     "start_time": "2021-09-27T09:47:05.312258Z"
    }
   },
   "outputs": [],
   "source": [
    "from PIL import Image\n",
    "import sys\n",
    "import os\n",
    "import urllib\n",
    "import tensorflow as tf\n",
    "# import tensorflow.contrib.tensorrt as trt\n",
    "import matplotlib\n",
    "matplotlib.use('Agg')\n",
    "import matplotlib.pyplot as plt\n",
    "import numpy as np\n"
   ]
  },
  {
   "cell_type": "code",
   "execution_count": null,
   "metadata": {
    "ExecuteTime": {
     "end_time": "2021-09-27T11:24:16.856073Z",
     "start_time": "2021-09-27T11:24:16.654314Z"
    }
   },
   "outputs": [],
   "source": [
    "b = 10\n",
    "a = np.random.randn(2, 3, 4)"
   ]
  },
  {
   "cell_type": "code",
   "execution_count": null,
   "metadata": {
    "ExecuteTime": {
     "end_time": "2021-09-27T11:25:27.183058Z",
     "start_time": "2021-09-27T11:25:26.982771Z"
    }
   },
   "outputs": [],
   "source": [
    "(a - 0.2) / 0.4"
   ]
  },
  {
   "cell_type": "code",
   "execution_count": null,
   "metadata": {
    "ExecuteTime": {
     "end_time": "2021-09-27T11:26:26.955512Z",
     "start_time": "2021-09-27T11:26:26.727214Z"
    },
    "scrolled": true
   },
   "outputs": [],
   "source": [
    "for i in range(2):\n",
    "    a[i, :, :] = (a[i] - 0.2) / 0.4\n",
    "a"
   ]
  },
  {
   "cell_type": "code",
   "execution_count": null,
   "metadata": {},
   "outputs": [],
   "source": []
  },
  {
   "cell_type": "code",
   "execution_count": null,
   "metadata": {},
   "outputs": [],
   "source": []
  },
  {
   "cell_type": "code",
   "execution_count": null,
   "metadata": {},
   "outputs": [],
   "source": []
  }
 ],
 "metadata": {
  "hide_input": false,
  "kernelspec": {
   "display_name": "Python 3",
   "language": "python",
   "name": "python3"
  },
  "language_info": {
   "codemirror_mode": {
    "name": "ipython",
    "version": 3
   },
   "file_extension": ".py",
   "mimetype": "text/x-python",
   "name": "python",
   "nbconvert_exporter": "python",
   "pygments_lexer": "ipython3",
   "version": "3.6.9"
  },
  "toc": {
   "base_numbering": 1,
   "nav_menu": {
    "height": "327.997px",
    "width": "277.997px"
   },
   "number_sections": true,
   "sideBar": false,
   "skip_h1_title": true,
   "title_cell": "Contents",
   "title_sidebar": "Contents",
   "toc_cell": true,
   "toc_position": {
    "height": "147px",
    "left": "1360px",
    "top": "104px",
    "width": "419.797px"
   },
   "toc_section_display": true,
   "toc_window_display": true
  }
 },
 "nbformat": 4,
 "nbformat_minor": 4
}
