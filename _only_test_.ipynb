{
 "cells": [
  {
   "cell_type": "code",
   "execution_count": 14,
   "metadata": {
    "ExecuteTime": {
     "end_time": "2020-08-28T07:00:51.046259Z",
     "start_time": "2020-08-28T07:00:50.763003Z"
    }
   },
   "outputs": [],
   "source": [
    "%reload_ext autoreload\n",
    "%autoreload 2"
   ]
  },
  {
   "cell_type": "code",
   "execution_count": 15,
   "metadata": {
    "ExecuteTime": {
     "end_time": "2020-08-28T07:00:51.616337Z",
     "start_time": "2020-08-28T07:00:51.550218Z"
    }
   },
   "outputs": [],
   "source": [
    "import torch\n",
    "import torchvision"
   ]
  },
  {
   "cell_type": "code",
   "execution_count": null,
   "metadata": {},
   "outputs": [],
   "source": [
    "parse_args"
   ]
  },
  {
   "cell_type": "code",
   "execution_count": 8,
   "metadata": {
    "ExecuteTime": {
     "end_time": "2021-01-22T15:32:45.663572Z",
     "start_time": "2021-01-22T15:32:45.655861Z"
    }
   },
   "outputs": [
    {
     "data": {
      "text/plain": [
       "{'a': 20, 'b': 'CC', 'c': 20}"
      ]
     },
     "execution_count": 8,
     "metadata": {},
     "output_type": "execute_result"
    }
   ],
   "source": [
    "a = { \"a\": 10, \"b\": \"bb\"}\n",
    "b = {\"a\": 20, \"b\": \"CC\", \"c\": 20}\n",
    "\n",
    "a.update(b)\n",
    "a"
   ]
  },
  {
   "cell_type": "code",
   "execution_count": 9,
   "metadata": {
    "ExecuteTime": {
     "end_time": "2021-01-22T15:33:54.422557Z",
     "start_time": "2021-01-22T15:33:54.418448Z"
    }
   },
   "outputs": [],
   "source": [
    "a = {'b64_image': 'aa', 'dataset_mode': 'single', 'model': 'test'}"
   ]
  },
  {
   "cell_type": "code",
   "execution_count": 11,
   "metadata": {
    "ExecuteTime": {
     "end_time": "2021-01-22T15:34:06.507724Z",
     "start_time": "2021-01-22T15:34:06.497141Z"
    }
   },
   "outputs": [
    {
     "data": {
      "text/plain": [
       "{'b64_image': 'aa',\n",
       " 'dataset_mode': 'unaligned',\n",
       " 'model': 'cycle_gan',\n",
       " 'dataroot': '/datasets/horse2zebra',\n",
       " 'checkpoints_dir': '/cache/ckpts',\n",
       " 'netD': 'basic',\n",
       " 'netG': 'resnet_9blocks',\n",
       " 'norm': 'instance',\n",
       " 'init_type': 'normal',\n",
       " 'init_gain': 0.02,\n",
       " 'no_dropout': True,\n",
       " 'direction': 'AtoB',\n",
       " 'num_threads': 4,\n",
       " 'batch_size': 4,\n",
       " 'max_dataset_size': 1024,\n",
       " 'no_flip': True,\n",
       " 'print_freq': 2,\n",
       " 'save_latest_freq': 20,\n",
       " 'continue_train': True,\n",
       " 'beta1': 0.5,\n",
       " 'lr': 0.002,\n",
       " 'lr_policy': 'linear',\n",
       " 'lr_decay_iters': 10,\n",
       " 'n_epochs': 120,\n",
       " 'gan_mode': 'lsgan',\n",
       " 'verbose': True}"
      ]
     },
     "execution_count": 11,
     "metadata": {},
     "output_type": "execute_result"
    }
   ],
   "source": [
    "b = {'b64_image': 'aa', 'dataset_mode': 'unaligned', 'model': 'cycle_gan', 'dataroot': '/datasets/horse2zebra', 'checkpoints_dir': '/cache/ckpts', 'netD': 'basic', 'netG': 'resnet_9blocks', 'norm': 'instance', 'init_type': 'normal', 'init_gain': 0.02, 'no_dropout': True, 'direction': 'AtoB', 'num_threads': 4, 'batch_size': 4, 'max_dataset_size': 1024, 'no_flip': True, 'print_freq': 2, 'save_latest_freq': 20, 'continue_train': True, 'beta1': 0.5, 'lr': 0.002, 'lr_policy': 'linear', 'lr_decay_iters': 10, 'n_epochs': 120, 'gan_mode': 'lsgan', 'verbose': True}\n",
    "b"
   ]
  },
  {
   "cell_type": "code",
   "execution_count": 12,
   "metadata": {
    "ExecuteTime": {
     "end_time": "2021-01-22T15:34:19.942622Z",
     "start_time": "2021-01-22T15:34:19.936013Z"
    }
   },
   "outputs": [
    {
     "data": {
      "text/plain": [
       "{'b64_image': 'aa',\n",
       " 'dataset_mode': 'unaligned',\n",
       " 'model': 'cycle_gan',\n",
       " 'dataroot': '/datasets/horse2zebra',\n",
       " 'checkpoints_dir': '/cache/ckpts',\n",
       " 'netD': 'basic',\n",
       " 'netG': 'resnet_9blocks',\n",
       " 'norm': 'instance',\n",
       " 'init_type': 'normal',\n",
       " 'init_gain': 0.02,\n",
       " 'no_dropout': True,\n",
       " 'direction': 'AtoB',\n",
       " 'num_threads': 4,\n",
       " 'batch_size': 4,\n",
       " 'max_dataset_size': 1024,\n",
       " 'no_flip': True,\n",
       " 'print_freq': 2,\n",
       " 'save_latest_freq': 20,\n",
       " 'continue_train': True,\n",
       " 'beta1': 0.5,\n",
       " 'lr': 0.002,\n",
       " 'lr_policy': 'linear',\n",
       " 'lr_decay_iters': 10,\n",
       " 'n_epochs': 120,\n",
       " 'gan_mode': 'lsgan',\n",
       " 'verbose': True}"
      ]
     },
     "execution_count": 12,
     "metadata": {},
     "output_type": "execute_result"
    }
   ],
   "source": [
    "a.update(b)\n",
    "a"
   ]
  }
 ],
 "metadata": {
  "kernelspec": {
   "display_name": "Python 3",
   "language": "python",
   "name": "python3"
  },
  "language_info": {
   "codemirror_mode": {
    "name": "ipython",
    "version": 3
   },
   "file_extension": ".py",
   "mimetype": "text/x-python",
   "name": "python",
   "nbconvert_exporter": "python",
   "pygments_lexer": "ipython3",
   "version": "3.6.9"
  },
  "toc": {
   "base_numbering": 1,
   "nav_menu": {},
   "number_sections": true,
   "sideBar": true,
   "skip_h1_title": true,
   "title_cell": "",
   "title_sidebar": "Contents",
   "toc_cell": false,
   "toc_position": {},
   "toc_section_display": true,
   "toc_window_display": false
  }
 },
 "nbformat": 4,
 "nbformat_minor": 2
}
