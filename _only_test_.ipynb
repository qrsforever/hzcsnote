{
 "cells": [
  {
   "cell_type": "code",
   "execution_count": 2,
   "metadata": {},
   "outputs": [],
   "source": [
    "import json"
   ]
  },
  {
   "cell_type": "code",
   "execution_count": 3,
   "metadata": {},
   "outputs": [
    {
     "data": {
      "text/plain": [
       "'[{\"a1\": 10, \"a2\": \"aa\"}, {\"b1\": 20, \"a2\": \"bb\"}]'"
      ]
     },
     "execution_count": 3,
     "metadata": {},
     "output_type": "execute_result"
    }
   ],
   "source": [
    "a = '{\"a1\": 10, \"a2\": \"aa\"}'\n",
    "b = '{\"b1\": 20, \"a2\": \"bb\"}'\n",
    "\n",
    "json.dumps([json.loads(a), json.loads(b)])"
   ]
  },
  {
   "cell_type": "code",
   "execution_count": 6,
   "metadata": {},
   "outputs": [
    {
     "data": {
      "text/plain": [
       "({'a1': 10, 'a2': 'aa'}, {'b1': 20, 'a2': 'bb'})"
      ]
     },
     "execution_count": 6,
     "metadata": {},
     "output_type": "execute_result"
    }
   ],
   "source": [
    "json.loads(a), json.loads(b)"
   ]
  },
  {
   "cell_type": "code",
   "execution_count": 10,
   "metadata": {},
   "outputs": [],
   "source": [
    "from pyhocon import ConfigFactory\n",
    "from pyhocon import ConfigTree"
   ]
  },
  {
   "cell_type": "code",
   "execution_count": 19,
   "metadata": {},
   "outputs": [
    {
     "data": {
      "text/plain": [
       "(ConfigTree([('a1', 10), ('a2', 'aa')]),\n",
       " ConfigTree([('b1', 20), ('a2', 'bb')]))"
      ]
     },
     "execution_count": 19,
     "metadata": {},
     "output_type": "execute_result"
    }
   ],
   "source": [
    "c1 = ConfigFactory.parse_string(a)\n",
    "c2 = ConfigFactory.parse_string(b)\n",
    "c1, c2"
   ]
  },
  {
   "cell_type": "code",
   "execution_count": 20,
   "metadata": {},
   "outputs": [
    {
     "data": {
      "text/plain": [
       "(ConfigTree([('a1', 10), ('a2', 'bb'), ('b1', 20)]),\n",
       " ConfigTree([('a1', 10), ('a2', 'bb'), ('b1', 20)]),\n",
       " ConfigTree([('b1', 20), ('a2', 'bb')]))"
      ]
     },
     "execution_count": 20,
     "metadata": {},
     "output_type": "execute_result"
    }
   ],
   "source": [
    "c3 = ConfigTree.merge_configs(c1, c2)\n",
    "c3, c1, c2"
   ]
  },
  {
   "cell_type": "code",
   "execution_count": 17,
   "metadata": {},
   "outputs": [
    {
     "data": {
      "text/plain": [
       "ConfigTree([('b1', 20), ('a2', 'aa'), ('a1', 10)])"
      ]
     },
     "execution_count": 17,
     "metadata": {},
     "output_type": "execute_result"
    }
   ],
   "source": [
    "c4 = ConfigTree.merge_configs(c2, c1)\n",
    "c4"
   ]
  },
  {
   "cell_type": "code",
   "execution_count": 3,
   "metadata": {},
   "outputs": [],
   "source": [
    "from IPython.display import clear_output\n",
    "from IPython.core.display import display\n",
    "from ipywidgets import (HTML, Text, BoundedIntText, Output, Textarea,RadioButtons,\n",
    "                        BoundedFloatText, Box, HBox, VBox, Dropdown,\n",
    "                        Layout, Tab, Accordion, ToggleButtons, Checkbox)"
   ]
  },
  {
   "cell_type": "code",
   "execution_count": 40,
   "metadata": {},
   "outputs": [
    {
     "data": {
      "application/vnd.jupyter.widget-view+json": {
       "model_id": "ee59f045011849889eb8a4cd89b8e1b0",
       "version_major": 2,
       "version_minor": 0
      },
      "text/plain": [
       "RadioButtons(description='Some long description', layout=Layout(border='1px solid black'), options=('a', 'b', …"
      ]
     },
     "metadata": {},
     "output_type": "display_data"
    }
   ],
   "source": [
    "RadioButtons(\n",
    "    description='Some long description', \n",
    "    style={'description_width': 'initial'},\n",
    "    layout=Layout(border='1px solid black'),\n",
    "    options=['a', 'b', 'c'])"
   ]
  },
  {
   "cell_type": "code",
   "execution_count": 39,
   "metadata": {},
   "outputs": [
    {
     "data": {
      "application/vnd.jupyter.widget-view+json": {
       "model_id": "c301debc0f8d441dbb10da900bef6b9b",
       "version_major": 2,
       "version_minor": 0
      },
      "text/plain": [
       "Checkbox(value=False, description='Some long description', layout=Layout(border='1px solid black'), style=Desc…"
      ]
     },
     "metadata": {},
     "output_type": "display_data"
    }
   ],
   "source": [
    "Checkbox(\n",
    "    description='Some long description', \n",
    "    style={'description_width': 'initial'},\n",
    "    layout=Layout(border='1px solid black'),\n",
    ")"
   ]
  },
  {
   "cell_type": "code",
   "execution_count": 43,
   "metadata": {},
   "outputs": [
    {
     "data": {
      "application/vnd.jupyter.widget-view+json": {
       "model_id": "2251bfb6f8294974aa047bedd5a9b576",
       "version_major": 2,
       "version_minor": 0
      },
      "text/plain": [
       "BoundedIntText(value=0, description='Somedescription', layout=Layout(border='1px solid black'), style=Descript…"
      ]
     },
     "metadata": {},
     "output_type": "display_data"
    }
   ],
   "source": [
    "BoundedIntText(\n",
    "    description='Somedescription', \n",
    "    style={'description_width': '45%'},\n",
    "    layout=Layout(border='1px solid black'),\n",
    ")"
   ]
  }
 ],
 "metadata": {
  "kernelspec": {
   "display_name": "Python 3",
   "language": "python",
   "name": "python3"
  },
  "language_info": {
   "codemirror_mode": {
    "name": "ipython",
    "version": 3
   },
   "file_extension": ".py",
   "mimetype": "text/x-python",
   "name": "python",
   "nbconvert_exporter": "python",
   "pygments_lexer": "ipython3",
   "version": "3.6.8"
  }
 },
 "nbformat": 4,
 "nbformat_minor": 2
}
