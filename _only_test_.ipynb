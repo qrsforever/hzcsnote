{
 "cells": [
  {
   "cell_type": "code",
   "execution_count": 51,
   "metadata": {},
   "outputs": [],
   "source": [
    "%reload_ext autoreload\n",
    "%autoreload 2"
   ]
  },
  {
   "cell_type": "code",
   "execution_count": 2,
   "metadata": {
    "ExecuteTime": {
     "end_time": "2020-05-25T08:04:15.590043Z",
     "start_time": "2020-05-25T08:04:15.584769Z"
    }
   },
   "outputs": [],
   "source": [
    "from sklearn.metrics import confusion_matrix"
   ]
  },
  {
   "cell_type": "code",
   "execution_count": 5,
   "metadata": {
    "ExecuteTime": {
     "end_time": "2020-05-14T09:04:16.559186Z",
     "start_time": "2020-05-14T09:04:16.552652Z"
    }
   },
   "outputs": [
    {
     "name": "stdout",
     "output_type": "stream",
     "text": [
      "mnist.zip\n",
      "data-platform/datasets/1/cv\n"
     ]
    }
   ],
   "source": [
    "remote_path = 'data-platform/datasets/1/cv/mnist.zip'\n",
    "\n",
    "print(os.path.basename(remote_path))\n",
    "print(os.path.dirname(remote_path))"
   ]
  },
  {
   "cell_type": "code",
   "execution_count": 10,
   "metadata": {
    "ExecuteTime": {
     "end_time": "2020-05-14T09:46:43.207089Z",
     "start_time": "2020-05-14T09:46:43.198697Z"
    }
   },
   "outputs": [
    {
     "data": {
      "text/plain": [
       "'dataset/a/b.jsp'"
      ]
     },
     "execution_count": 10,
     "metadata": {},
     "output_type": "execute_result"
    }
   ],
   "source": [
    "os.path.join('/a', 'b')\n",
    "\n",
    "bucket = 'data-platform'\n",
    "rfile = 'data-platform/dataset/a/b.jsp'\n",
    "rfile[len(bucket) + 1:]"
   ]
  },
  {
   "cell_type": "code",
   "execution_count": 3,
   "metadata": {
    "ExecuteTime": {
     "end_time": "2020-05-25T08:04:44.516985Z",
     "start_time": "2020-05-25T08:04:44.490300Z"
    }
   },
   "outputs": [
    {
     "data": {
      "text/plain": [
       "array([[1, 2],\n",
       "       [2, 0]])"
      ]
     },
     "execution_count": 3,
     "metadata": {},
     "output_type": "execute_result"
    }
   ],
   "source": [
    "confusion_matrix([1,2,1,1,2], [2,1,2,1,1])"
   ]
  },
  {
   "cell_type": "code",
   "execution_count": 4,
   "metadata": {
    "ExecuteTime": {
     "end_time": "2020-05-25T08:24:38.344411Z",
     "start_time": "2020-05-25T08:24:37.732592Z"
    }
   },
   "outputs": [],
   "source": [
    "import torch\n",
    "\n"
   ]
  },
  {
   "cell_type": "code",
   "execution_count": 21,
   "metadata": {
    "ExecuteTime": {
     "end_time": "2020-05-25T08:29:33.385567Z",
     "start_time": "2020-05-25T08:29:33.375838Z"
    }
   },
   "outputs": [
    {
     "data": {
      "text/plain": [
       "tensor([1.])"
      ]
     },
     "execution_count": 21,
     "metadata": {},
     "output_type": "execute_result"
    }
   ],
   "source": [
    "a = torch.Tensor([1])\n",
    "a"
   ]
  },
  {
   "cell_type": "code",
   "execution_count": 20,
   "metadata": {
    "ExecuteTime": {
     "end_time": "2020-05-25T08:29:27.201151Z",
     "start_time": "2020-05-25T08:29:27.191455Z"
    }
   },
   "outputs": [
    {
     "data": {
      "text/plain": [
       "tensor([1], dtype=torch.int32)"
      ]
     },
     "execution_count": 20,
     "metadata": {},
     "output_type": "execute_result"
    }
   ],
   "source": [
    "b = torch.IntTensor([1])\n",
    "b"
   ]
  },
  {
   "cell_type": "code",
   "execution_count": 24,
   "metadata": {
    "ExecuteTime": {
     "end_time": "2020-05-25T08:30:02.007064Z",
     "start_time": "2020-05-25T08:30:02.000474Z"
    }
   },
   "outputs": [
    {
     "data": {
      "text/plain": [
       "tensor([False])"
      ]
     },
     "execution_count": 24,
     "metadata": {},
     "output_type": "execute_result"
    }
   ],
   "source": [
    "a != b"
   ]
  },
  {
   "cell_type": "code",
   "execution_count": 23,
   "metadata": {
    "ExecuteTime": {
     "end_time": "2020-05-25T08:29:54.163226Z",
     "start_time": "2020-05-25T08:29:54.155431Z"
    }
   },
   "outputs": [
    {
     "data": {
      "text/plain": [
       "torch.Tensor"
      ]
     },
     "execution_count": 23,
     "metadata": {},
     "output_type": "execute_result"
    }
   ],
   "source": [
    "type(a)"
   ]
  },
  {
   "cell_type": "code",
   "execution_count": 40,
   "metadata": {
    "ExecuteTime": {
     "end_time": "2020-05-26T02:36:30.656319Z",
     "start_time": "2020-05-26T02:36:30.646200Z"
    }
   },
   "outputs": [
    {
     "data": {
      "text/plain": [
       "b'\\n\\x1fvulkan/protos/layers/conv.proto\"\\xa1\\x01\\n\\x0econv_parameter\\x12\\x13\\n\\x0bin_channels\\x18\\x01 \\x01(\\t\\x12\\x14\\n\\x0cout_channels\\x18\\x02 \\x01(\\t\\x12\\x13\\n\\x0bkernel_size\\x18\\x03 \\x03(\\t\\x12\\x0e\\n\\x06stride\\x18\\x04 \\x03(\\t\\x12\\x0f\\n\\x07padding\\x18\\x05 \\x03(\\t\\x12\\x10\\n\\x08dilation\\x18\\x06 \\x03(\\t\\x12\\x0e\\n\\x06groups\\x18\\x07 \\x01(\\t\\x12\\x0c\\n\\x04bias\\x18\\x08 \\x01(\\t\"\\x97\\x01\\n\\tConvLayer\\x12\\x0c\\n\\x04name\\x18\\x01 \\x01(\\t\\x12\\x0e\\n\\x06inputs\\x18\\x02 \\x03(\\t\\x12\\x0f\\n\\x07outputs\\x18\\x03 \\x03(\\t\\x12\\x1d\\n\\nlayer_mode\\x18\\x04 \\x01(\\x0e2\\t.ConvMode\\x12%\\n\\x0clayer_params\\x18\\x05 \\x01(\\x0b2\\x0f.conv_parameter\\x12\\x15\\n\\rlayer_builder\\x18\\x06 \\x01(\\t*a\\n\\x08ConvMode\\x12\\n\\n\\x06CONV1D\\x10\\x00\\x12\\n\\n\\x06CONV2D\\x10\\x01\\x12\\n\\n\\x06CONV3D\\x10\\x02\\x12\\x0f\\n\\x0bTRANSCONV1D\\x10\\x03\\x12\\x0f\\n\\x0bTRANSCONV2D\\x10\\x04\\x12\\x0f\\n\\x0bTRANSCONV3D\\x10\\x05'"
      ]
     },
     "execution_count": 40,
     "metadata": {},
     "output_type": "execute_result"
    }
   ],
   "source": [
    "import sys\n",
    "_b=sys.version_info[0]<3 and (lambda x:x) or (lambda x:x.encode('latin1'))\n",
    "_b('\\n\\x1fvulkan/protos/layers/conv.proto\\\"\\xa1\\x01\\n\\x0e\\x63onv_parameter\\x12\\x13\\n\\x0bin_channels\\x18\\x01 \\x01(\\t\\x12\\x14\\n\\x0cout_channels\\x18\\x02 \\x01(\\t\\x12\\x13\\n\\x0bkernel_size\\x18\\x03 \\x03(\\t\\x12\\x0e\\n\\x06stride\\x18\\x04 \\x03(\\t\\x12\\x0f\\n\\x07padding\\x18\\x05 \\x03(\\t\\x12\\x10\\n\\x08\\x64ilation\\x18\\x06 \\x03(\\t\\x12\\x0e\\n\\x06groups\\x18\\x07 \\x01(\\t\\x12\\x0c\\n\\x04\\x62ias\\x18\\x08 \\x01(\\t\\\"\\x97\\x01\\n\\tConvLayer\\x12\\x0c\\n\\x04name\\x18\\x01 \\x01(\\t\\x12\\x0e\\n\\x06inputs\\x18\\x02 \\x03(\\t\\x12\\x0f\\n\\x07outputs\\x18\\x03 \\x03(\\t\\x12\\x1d\\n\\nlayer_mode\\x18\\x04 \\x01(\\x0e\\x32\\t.ConvMode\\x12%\\n\\x0clayer_params\\x18\\x05 \\x01(\\x0b\\x32\\x0f.conv_parameter\\x12\\x15\\n\\rlayer_builder\\x18\\x06 \\x01(\\t*a\\n\\x08\\x43onvMode\\x12\\n\\n\\x06\\x43ONV1D\\x10\\x00\\x12\\n\\n\\x06\\x43ONV2D\\x10\\x01\\x12\\n\\n\\x06\\x43ONV3D\\x10\\x02\\x12\\x0f\\n\\x0bTRANSCONV1D\\x10\\x03\\x12\\x0f\\n\\x0bTRANSCONV2D\\x10\\x04\\x12\\x0f\\n\\x0bTRANSCONV3D\\x10\\x05')"
   ]
  },
  {
   "cell_type": "code",
   "execution_count": 42,
   "metadata": {
    "ExecuteTime": {
     "end_time": "2020-05-26T02:37:13.221268Z",
     "start_time": "2020-05-26T02:37:13.214701Z"
    }
   },
   "outputs": [],
   "source": [
    "a=_b('\\n\\x1fvulkan/protos/layers/conv.proto\\\"\\xa1\\x01\\n\\x0e\\x63onv_parameter\\x12\\x13\\n\\x0bin_channels\\x18\\x01 \\x01(\\t\\x12\\x14\\n\\x0cout_channels\\x18\\x02 \\x01(\\t\\x12\\x13\\n\\x0bkernel_size\\x18\\x03 \\x03(\\t\\x12\\x0e\\n\\x06stride\\x18\\x04 \\x03(\\t\\x12\\x0f\\n\\x07padding\\x18\\x05 \\x03(\\t\\x12\\x10\\n\\x08\\x64ilation\\x18\\x06 \\x03(\\t\\x12\\x0e\\n\\x06groups\\x18\\x07 \\x01(\\t\\x12\\x0c\\n\\x04\\x62ias\\x18\\x08 \\x01(\\t\\\"\\x97\\x01\\n\\tConvLayer\\x12\\x0c\\n\\x04name\\x18\\x01 \\x01(\\t\\x12\\x0e\\n\\x06inputs\\x18\\x02 \\x03(\\t\\x12\\x0f\\n\\x07outputs\\x18\\x03 \\x03(\\t\\x12\\x1d\\n\\nlayer_mode\\x18\\x04 \\x01(\\x0e\\x32\\t.ConvMode\\x12%\\n\\x0clayer_params\\x18\\x05 \\x01(\\x0b\\x32\\x0f.conv_parameter\\x12\\x15\\n\\rlayer_builder\\x18\\x06 \\x01(\\t*a\\n\\x08\\x43onvMode\\x12\\n\\n\\x06\\x43ONV1D\\x10\\x00\\x12\\n\\n\\x06\\x43ONV2D\\x10\\x01\\x12\\n\\n\\x06\\x43ONV3D\\x10\\x02\\x12\\x0f\\n\\x0bTRANSCONV1D\\x10\\x03\\x12\\x0f\\n\\x0bTRANSCONV2D\\x10\\x04\\x12\\x0f\\n\\x0bTRANSCONV3D\\x10\\x05')"
   ]
  },
  {
   "cell_type": "code",
   "execution_count": 43,
   "metadata": {
    "ExecuteTime": {
     "end_time": "2020-05-26T02:37:17.589191Z",
     "start_time": "2020-05-26T02:37:17.580963Z"
    }
   },
   "outputs": [
    {
     "data": {
      "text/plain": [
       "'b\\'\\\\n\\\\x1fvulkan/protos/layers/conv.proto\"\\\\xa1\\\\x01\\\\n\\\\x0econv_parameter\\\\x12\\\\x13\\\\n\\\\x0bin_channels\\\\x18\\\\x01 \\\\x01(\\\\t\\\\x12\\\\x14\\\\n\\\\x0cout_channels\\\\x18\\\\x02 \\\\x01(\\\\t\\\\x12\\\\x13\\\\n\\\\x0bkernel_size\\\\x18\\\\x03 \\\\x03(\\\\t\\\\x12\\\\x0e\\\\n\\\\x06stride\\\\x18\\\\x04 \\\\x03(\\\\t\\\\x12\\\\x0f\\\\n\\\\x07padding\\\\x18\\\\x05 \\\\x03(\\\\t\\\\x12\\\\x10\\\\n\\\\x08dilation\\\\x18\\\\x06 \\\\x03(\\\\t\\\\x12\\\\x0e\\\\n\\\\x06groups\\\\x18\\\\x07 \\\\x01(\\\\t\\\\x12\\\\x0c\\\\n\\\\x04bias\\\\x18\\\\x08 \\\\x01(\\\\t\"\\\\x97\\\\x01\\\\n\\\\tConvLayer\\\\x12\\\\x0c\\\\n\\\\x04name\\\\x18\\\\x01 \\\\x01(\\\\t\\\\x12\\\\x0e\\\\n\\\\x06inputs\\\\x18\\\\x02 \\\\x03(\\\\t\\\\x12\\\\x0f\\\\n\\\\x07outputs\\\\x18\\\\x03 \\\\x03(\\\\t\\\\x12\\\\x1d\\\\n\\\\nlayer_mode\\\\x18\\\\x04 \\\\x01(\\\\x0e2\\\\t.ConvMode\\\\x12%\\\\n\\\\x0clayer_params\\\\x18\\\\x05 \\\\x01(\\\\x0b2\\\\x0f.conv_parameter\\\\x12\\\\x15\\\\n\\\\rlayer_builder\\\\x18\\\\x06 \\\\x01(\\\\t*a\\\\n\\\\x08ConvMode\\\\x12\\\\n\\\\n\\\\x06CONV1D\\\\x10\\\\x00\\\\x12\\\\n\\\\n\\\\x06CONV2D\\\\x10\\\\x01\\\\x12\\\\n\\\\n\\\\x06CONV3D\\\\x10\\\\x02\\\\x12\\\\x0f\\\\n\\\\x0bTRANSCONV1D\\\\x10\\\\x03\\\\x12\\\\x0f\\\\n\\\\x0bTRANSCONV2D\\\\x10\\\\x04\\\\x12\\\\x0f\\\\n\\\\x0bTRANSCONV3D\\\\x10\\\\x05\\''"
      ]
     },
     "execution_count": 43,
     "metadata": {},
     "output_type": "execute_result"
    }
   ],
   "source": [
    "str(a)"
   ]
  }
 ],
 "metadata": {
  "kernelspec": {
   "display_name": "Python 3",
   "language": "python",
   "name": "python3"
  },
  "language_info": {
   "codemirror_mode": {
    "name": "ipython",
    "version": 3
   },
   "file_extension": ".py",
   "mimetype": "text/x-python",
   "name": "python",
   "nbconvert_exporter": "python",
   "pygments_lexer": "ipython3",
   "version": "3.6.9"
  }
 },
 "nbformat": 4,
 "nbformat_minor": 2
}
