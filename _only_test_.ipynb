{
 "cells": [
  {
   "cell_type": "code",
   "execution_count": 13,
   "metadata": {
    "ExecuteTime": {
     "end_time": "2021-08-06T02:49:16.788409Z",
     "start_time": "2021-08-06T02:49:15.959216Z"
    }
   },
   "outputs": [
    {
     "name": "stdout",
     "output_type": "stream",
     "text": [
      "CPython 3.6.9\n",
      "IPython 7.16.1\n",
      "\n",
      "numpy 1.19.4\n",
      "sklearn 0.24.0\n",
      "pandas 1.1.5\n",
      "CPython 3.6.9\n",
      "IPython 7.16.1\n",
      "\n",
      "cv2 4.5.1\n",
      "PIL 6.2.2\n",
      "matplotlib 3.3.3\n",
      "CPython 3.6.9\n",
      "IPython 7.16.1\n",
      "\n",
      "torch 1.8.0.dev20210103+cu101\n",
      "torchvision 0.9.0.dev20210103+cu101\n",
      "torchaudio not installed\n"
     ]
    },
    {
     "data": {
      "text/html": [
       "<style>.container { width:80% !important; }</style>"
      ],
      "text/plain": [
       "<IPython.core.display.HTML object>"
      ]
     },
     "metadata": {},
     "output_type": "display_data"
    }
   ],
   "source": [
    "%reload_ext watermark\n",
    "%reload_ext autoreload\n",
    "%autoreload 2\n",
    "%watermark -v -p numpy,sklearn,pandas\n",
    "%watermark -v -p cv2,PIL,matplotlib\n",
    "%watermark -v -p torch,torchvision,torchaudio\n",
    "%matplotlib inline\n",
    "%config InlineBackend.figure_format='retina'\n",
    "%config IPCompleter.use_jedi = False\n",
    "\n",
    "from IPython.display import display, Markdown, HTML, Javascript\n",
    "display(HTML('<style>.container { width:%d%% !important; }</style>' % 80))\n",
    "\n",
    "import sys, os, io, time, random, math\n",
    "import json, base64, requests\n",
    "import os.path as osp\n",
    "\n",
    "def _IMPORT_(x):\n",
    "    try:\n",
    "        segs = x.split(' ')\n",
    "        g = globals()\n",
    "        if 'github.com' in segs[1]:\n",
    "            uri = segs[1].replace('github.com', 'raw.githubusercontent.com')\n",
    "            mod = uri.split('/')\n",
    "            uri = 'https://' + '/'.join(mod[:-1]) + '/main/' + mod[-1] + '.py'\n",
    "            x = requests.get(uri).text\n",
    "        elif 'gitee.com' in segs[1]:\n",
    "            mod = segs[1].split('/')\n",
    "            uri = 'https://' + '/'.join(mod[:-1]) + '/raw/main/' + mod[-1] + '.py'\n",
    "            x = requests.get(uri).text\n",
    "        elif segs[1][0] == '/':\n",
    "            with open(segs[1] + '.py') as fr:\n",
    "                x = fr.read()\n",
    "        exec(x, g)\n",
    "    except:\n",
    "        pass\n",
    "    \n",
    "\n",
    "def print_progress_bar(x):\n",
    "    print('\\r', end='')\n",
    "    print('Progress: {}%:'.format(x), '%s%s' % ('▋'*(x//2), '.'*((100-x)//2)), end='')\n",
    "    sys.stdout.flush()\n",
    "\n",
    "def img2b64(x):\n",
    "    if isinstance(x, bytes):\n",
    "        return base64.b64encode(x).decode()\n",
    "    elif isinstance(x, str):\n",
    "        with open(x, 'rb') as fr:\n",
    "            return base64.b64encode(fr.read()).decode()\n",
    "    raise\n",
    "\n",
    "###\n",
    "### Common ###\n",
    "###\n",
    "\n",
    "_IMPORT_('import numpy as np')\n",
    "_IMPORT_('import pandas as pd')\n",
    "_IMPORT_('from tqdm.notebook import tqdm')\n"
   ]
  },
  {
   "cell_type": "code",
   "execution_count": 74,
   "metadata": {
    "ExecuteTime": {
     "end_time": "2021-08-06T13:51:50.278710Z",
     "start_time": "2021-08-06T13:51:50.168341Z"
    }
   },
   "outputs": [],
   "source": [
    "a = { 'a': {'c': [12,2]}, 'b': 20}"
   ]
  },
  {
   "cell_type": "code",
   "execution_count": 79,
   "metadata": {
    "ExecuteTime": {
     "end_time": "2021-08-06T13:52:34.270102Z",
     "start_time": "2021-08-06T13:52:34.159391Z"
    }
   },
   "outputs": [
    {
     "data": {
      "text/plain": [
       "(10, 20)"
      ]
     },
     "execution_count": 79,
     "metadata": {},
     "output_type": "execute_result"
    }
   ],
   "source": [
    "a = [10, (10, 20), (20, 30)]\n",
    "a[1]"
   ]
  },
  {
   "cell_type": "code",
   "execution_count": 69,
   "metadata": {
    "ExecuteTime": {
     "end_time": "2021-08-06T13:48:26.239141Z",
     "start_time": "2021-08-06T13:48:26.119874Z"
    }
   },
   "outputs": [
    {
     "data": {
      "text/plain": [
       "{'b': 20}"
      ]
     },
     "execution_count": 69,
     "metadata": {},
     "output_type": "execute_result"
    }
   ],
   "source": [
    "a"
   ]
  },
  {
   "cell_type": "code",
   "execution_count": 59,
   "metadata": {
    "ExecuteTime": {
     "end_time": "2021-08-06T03:37:45.496368Z",
     "start_time": "2021-08-06T03:37:45.378457Z"
    }
   },
   "outputs": [
    {
     "data": {
      "text/plain": [
       "11"
      ]
     },
     "execution_count": 59,
     "metadata": {},
     "output_type": "execute_result"
    }
   ],
   "source": [
    "int(np.clip(10, 11, 20))"
   ]
  },
  {
   "cell_type": "code",
   "execution_count": 60,
   "metadata": {
    "ExecuteTime": {
     "end_time": "2021-08-06T03:44:46.271194Z",
     "start_time": "2021-08-06T03:44:46.152323Z"
    }
   },
   "outputs": [],
   "source": [
    "x = "
   ]
  },
  {
   "cell_type": "code",
   "execution_count": 66,
   "metadata": {
    "ExecuteTime": {
     "end_time": "2021-08-06T03:46:22.953244Z",
     "start_time": "2021-08-06T03:46:22.828454Z"
    }
   },
   "outputs": [
    {
     "data": {
      "text/plain": [
       "30"
      ]
     },
     "execution_count": 66,
     "metadata": {},
     "output_type": "execute_result"
    }
   ],
   "source": [
    "min(max(0, 31), 30)"
   ]
  },
  {
   "cell_type": "code",
   "execution_count": 35,
   "metadata": {
    "ExecuteTime": {
     "end_time": "2021-08-06T03:05:19.046484Z",
     "start_time": "2021-08-06T03:05:18.925035Z"
    }
   },
   "outputs": [
    {
     "data": {
      "text/plain": [
       "array([[0, 1, 2],\n",
       "       [1, 2, 3],\n",
       "       [5, 4, 3]])"
      ]
     },
     "execution_count": 35,
     "metadata": {},
     "output_type": "execute_result"
    }
   ],
   "source": [
    "b = a[a[:, 1].argsort()]\n",
    "b"
   ]
  },
  {
   "cell_type": "code",
   "execution_count": 51,
   "metadata": {
    "ExecuteTime": {
     "end_time": "2021-08-06T03:09:14.827370Z",
     "start_time": "2021-08-06T03:09:14.676928Z"
    }
   },
   "outputs": [
    {
     "data": {
      "text/plain": [
       "array([[0, 1, 2],\n",
       "       [1, 2, 3],\n",
       "       [5, 4, 3]])"
      ]
     },
     "execution_count": 51,
     "metadata": {},
     "output_type": "execute_result"
    }
   ],
   "source": [
    "c = np.array([[0,1,2],[1,2,3], [5,4,3]])\n",
    "c"
   ]
  },
  {
   "cell_type": "code",
   "execution_count": 52,
   "metadata": {
    "ExecuteTime": {
     "end_time": "2021-08-06T03:09:24.274996Z",
     "start_time": "2021-08-06T03:09:24.121037Z"
    }
   },
   "outputs": [
    {
     "name": "stdout",
     "output_type": "stream",
     "text": [
      "[5 4 3]\n",
      "[1 2 3]\n",
      "[0 1 2]\n"
     ]
    }
   ],
   "source": [
    "for x in reversed(c):\n",
    "    print(x)"
   ]
  },
  {
   "cell_type": "code",
   "execution_count": 46,
   "metadata": {
    "ExecuteTime": {
     "end_time": "2021-08-06T03:08:02.653954Z",
     "start_time": "2021-08-06T03:08:02.540062Z"
    }
   },
   "outputs": [
    {
     "name": "stdout",
     "output_type": "stream",
     "text": [
      "[0 1 2]\n",
      "[1 2 3]\n",
      "[5 4 3]\n"
     ]
    }
   ],
   "source": [
    "for x in b:\n",
    "    print(x)"
   ]
  },
  {
   "cell_type": "code",
   "execution_count": 41,
   "metadata": {
    "ExecuteTime": {
     "end_time": "2021-08-06T03:06:48.580297Z",
     "start_time": "2021-08-06T03:06:48.462493Z"
    }
   },
   "outputs": [
    {
     "name": "stdout",
     "output_type": "stream",
     "text": [
      "[5 4 3]\n",
      "[1 2 3]\n",
      "[0 1 2]\n"
     ]
    }
   ],
   "source": [
    "for x in reversed(a[a[:, 1].argsort()]):\n",
    "    print(x)"
   ]
  },
  {
   "cell_type": "code",
   "execution_count": 43,
   "metadata": {
    "ExecuteTime": {
     "end_time": "2021-08-06T03:07:03.233297Z",
     "start_time": "2021-08-06T03:07:03.047607Z"
    }
   },
   "outputs": [
    {
     "name": "stdout",
     "output_type": "stream",
     "text": [
      "[0 1 2]\n",
      "[1 2 3]\n",
      "[5 4 3]\n"
     ]
    }
   ],
   "source": [
    "for x in a[a[:, 1].argsort()]:\n",
    "    print(x)"
   ]
  },
  {
   "cell_type": "code",
   "execution_count": 1,
   "metadata": {
    "ExecuteTime": {
     "end_time": "2021-08-03T13:08:01.836041Z",
     "start_time": "2021-08-03T13:08:01.758842Z"
    },
    "scrolled": true
   },
   "outputs": [
    {
     "data": {
      "application/vnd.jupyter.widget-view+json": {
       "model_id": "ed4ca7a02ca4471d9092af710086448e",
       "version_major": 2,
       "version_minor": 0
      },
      "text/plain": [
       "BytesText(value='a')"
      ]
     },
     "metadata": {},
     "output_type": "display_data"
    },
    {
     "data": {
      "application/vnd.jupyter.widget-view+json": {
       "model_id": "f9fd13e71bbf43b6a86358d964d867b4",
       "version_major": 2,
       "version_minor": 0
      },
      "text/plain": [
       "Video(value=b'', format='url')"
      ]
     },
     "metadata": {},
     "output_type": "display_data"
    }
   ],
   "source": [
    "from ipywidgets import RadioButtons, Text, Select, Dropdown, jslink, interactive, interact\n",
    "from ipywidgets.widgets.widget import Widget, register, widget_serialization\n",
    "from ipywidgets.widgets.widget_core import CoreWidget\n",
    "from IPython.display import  display\n",
    "import ipywidgets as widgets\n",
    "# from ipywidgets.trait_types import CByteMemoryView         \n",
    "\n",
    "\n",
    "from traitlets import CBytes, Unicode, Tuple, Instance, TraitError\n",
    "\n",
    "Dropdown.value.tag(sync=True)\n",
    "\n",
    "selection = Dropdown(options=[\n",
    "    ('1', 'https://raceai.s3.didiyunapi.com/data/media/videos/repnet/20210720143047.mp4'),\n",
    "    ('2', 'https://raceai.s3.didiyunapi.com/data/media/videos/repnet/20210720143047.mp4'),\n",
    "    ('3', 'https://raceai.s3.didiyunapi.com/data/media/videos/repnet/20210720143047.mp4')])\n",
    "\n",
    "class BytesText(Text):\n",
    "    bvalue = CBytes(help=\"Bytes value\").tag(sync=True)       \n",
    "\n",
    "text = BytesText(value='a')\n",
    "# l = jslink((text, 'value'), (selection, 'value'))\n",
    "def test(a):\n",
    "    print(a)\n",
    "    \n",
    "def observe_test(wdg):\n",
    "    print(wdg)\n",
    "    wdg['owner'].bvalue = wdg['new'].encode('utf-8')\n",
    "    \n",
    "o = text.observe(observe_test, 'value')\n",
    "    \n",
    "# interact(test, a=text);\n",
    "\n",
    "video = widgets.Video(format='url')\n",
    "\n",
    "l = jslink((text, 'bvalue'), (video, 'value'))\n",
    "\n",
    "# display(selection, video)\n",
    "display(text, video)"
   ]
  },
  {
   "cell_type": "code",
   "execution_count": 170,
   "metadata": {
    "ExecuteTime": {
     "end_time": "2021-08-10T12:30:10.352465Z",
     "start_time": "2021-08-10T12:30:09.537942Z"
    }
   },
   "outputs": [],
   "source": [
    "data = {'pigeon': {'msgkey': 'nb.zmq.repnet_tf.gamma102.det', 'user': 'private', 'uuid': 'repnet_tf'}, 'task': 'zmq.yolov5.ladder.l.inference', 'errno': 0, 'result': [{'image_path': '0.jpg', 'image_width': 640, 'image_height': 352, 'predict_box': [{'label': 0, 'conf': '0.948', 'xyxy': [223, 55, 368, 105]}]}, {'image_path': '150.jpg', 'image_width': 640, 'image_height': 352, 'predict_box': [{'label': 0, 'conf': '0.937', 'xyxy': [223, 59, 365, 107]}]}, {'image_path': '300.jpg', 'image_width': 640, 'image_height': 352, 'predict_box': [{'label': 0, 'conf': '0.909', 'xyxy': [218, 64, 360, 113]}]}, {'image_path': '450.jpg', 'image_width': 640, 'image_height': 352, 'predict_box': [{'label': 0, 'conf': '0.901', 'xyxy': [219, 62, 364, 116]}, {'label': 0, 'conf': '0.937', 'xyxy': [219, 58, 369, 109]}]}, {'image_path': '600.jpg', 'image_width': 640, 'image_height': 352, 'predict_box': [{'label': 0, 'conf': '0.915', 'xyxy': [222, 62, 374, 106]}]}, {'image_path': '750.jpg', 'image_width': 640, 'image_height': 352, 'predict_box': [{'label': 0, 'conf': '0.927', 'xyxy': [219, 58, 368, 108]}]}, {'image_path': '900.jpg', 'image_width': 640, 'image_height': 352, 'predict_box': [{'label': 0, 'conf': '0.945', 'xyxy': [278, 42, 378, 91]}, {'label': 0, 'conf': '0.956', 'xyxy': [0, 6, 51, 35]}]}, {'image_path': '1050.jpg', 'image_width': 640, 'image_height': 352, 'predict_box': [{'label': 0, 'conf': '0.964', 'xyxy': [220, 58, 371, 106]}]}, {'image_path': '1200.jpg', 'image_width': 640, 'image_height': 352, 'predict_box': [{'label': 0, 'conf': '0.939', 'xyxy': [218, 56, 372, 108]}]}, {'image_path': '1350.jpg', 'image_width': 640, 'image_height': 352, 'predict_box': [{'label': 0, 'conf': '0.908', 'xyxy': [224, 55, 361, 115]}, {'label': 0, 'conf': '0.951', 'xyxy': [220, 50, 370, 109]}, {'label': 0, 'conf': '0.979', 'xyxy': [2, 6, 51, 37]}]}, {'image_path': '1500.jpg', 'image_width': 640, 'image_height': 352, 'predict_box': [{'label': 0, 'conf': '0.938', 'xyxy': [222, 51, 360, 112]}]}, {'image_path': '1650.jpg', 'image_width': 640, 'image_height': 352, 'predict_box': [{'label': 0, 'conf': '0.947', 'xyxy': [221, 54, 368, 111]}]}, {'image_path': '1800.jpg', 'image_width': 640, 'image_height': 352, 'predict_box': [{'label': 0, 'conf': '0.964', 'xyxy': [221, 56, 370, 108]}]}, {'image_path': '1950.jpg', 'image_width': 640, 'image_height': 352, 'predict_box': [{'label': 0, 'conf': '0.940', 'xyxy': [220, 50, 377, 110]}]}, {'image_path': '2100.jpg', 'image_width': 640, 'image_height': 352, 'predict_box': [{'label': 0, 'conf': '0.947', 'xyxy': [222, 57, 358, 109]}]}, {'image_path': '2250.jpg', 'image_width': 640, 'image_height': 352, 'predict_box': [{'label': 0, 'conf': '0.903', 'xyxy': [1, 4, 51, 36]}, {'label': 0, 'conf': '0.923', 'xyxy': [222, 57, 367, 102]}]}, {'image_path': '2400.jpg', 'image_width': 640, 'image_height': 352, 'predict_box': [{'label': 0, 'conf': '0.942', 'xyxy': [218, 49, 372, 110]}]}, {'image_path': '2550.jpg', 'image_width': 640, 'image_height': 352, 'predict_box': [{'label': 0, 'conf': '0.959', 'xyxy': [223, 62, 370, 101]}]}, {'image_path': '2700.jpg', 'image_width': 640, 'image_height': 352, 'predict_box': [{'label': 0, 'conf': '0.956', 'xyxy': [224, 56, 370, 101]}]}, {'image_path': '2850.jpg', 'image_width': 640, 'image_height': 352, 'predict_box': [{'label': 0, 'conf': '0.904', 'xyxy': [220, 52, 364, 101]}, {'label': 0, 'conf': '0.910', 'xyxy': [222, 57, 354, 103]}, {'label': 0, 'conf': '0.965', 'xyxy': [0, 5, 50, 36]}]}, {'image_path': '3000.jpg', 'image_width': 640, 'image_height': 352, 'predict_box': [{'label': 0, 'conf': '0.904', 'xyxy': [0, 4, 51, 35]}, {'label': 0, 'conf': '0.947', 'xyxy': [223, 55, 370, 99]}]}, {'image_path': '3150.jpg', 'image_width': 640, 'image_height': 352, 'predict_box': []}, {'image_path': '3300.jpg', 'image_width': 640, 'image_height': 352, 'predict_box': [{'label': 0, 'conf': '0.910', 'xyxy': [1, 8, 51, 36]}]}, {'image_path': '3450.jpg', 'image_width': 640, 'image_height': 352, 'predict_box': []}, {'image_path': '3600.jpg', 'image_width': 640, 'image_height': 352, 'predict_box': []}, {'image_path': '3750.jpg', 'image_width': 640, 'image_height': 352, 'predict_box': []}, {'image_path': '3900.jpg', 'image_width': 640, 'image_height': 352, 'predict_box': []}, {'image_path': '4050.jpg', 'image_width': 640, 'image_height': 352, 'predict_box': [{'label': 0, 'conf': '0.926', 'xyxy': [224, 50, 366, 106]}]}, {'image_path': '4200.jpg', 'image_width': 640, 'image_height': 352, 'predict_box': [{'label': 0, 'conf': '0.949', 'xyxy': [223, 55, 367, 99]}]}, {'image_path': '4350.jpg', 'image_width': 640, 'image_height': 352, 'predict_box': [{'label': 0, 'conf': '0.922', 'xyxy': [220, 45, 371, 105]}]}, {'image_path': '4500.jpg', 'image_width': 640, 'image_height': 352, 'predict_box': [{'label': 0, 'conf': '0.957', 'xyxy': [220, 59, 370, 106]}]}, {'image_path': '4650.jpg', 'image_width': 640, 'image_height': 352, 'predict_box': [{'label': 0, 'conf': '0.955', 'xyxy': [222, 61, 357, 111]}]}, {'image_path': '4800.jpg', 'image_width': 640, 'image_height': 352, 'predict_box': [{'label': 0, 'conf': '0.968', 'xyxy': [224, 59, 364, 103]}]}, {'image_path': '4950.jpg', 'image_width': 640, 'image_height': 352, 'predict_box': [{'label': 0, 'conf': '0.953', 'xyxy': [1, 8, 52, 37]}]}, {'image_path': '5100.jpg', 'image_width': 640, 'image_height': 352, 'predict_box': [{'label': 0, 'conf': '0.943', 'xyxy': [1, 5, 51, 35]}, {'label': 0, 'conf': '0.960', 'xyxy': [222, 59, 374, 104]}]}, {'image_path': '5250.jpg', 'image_width': 640, 'image_height': 352, 'predict_box': [{'label': 0, 'conf': '0.918', 'xyxy': [1, 107, 51, 136]}, {'label': 0, 'conf': '0.930', 'xyxy': [1, 4, 52, 34]}, {'label': 0, 'conf': '0.964', 'xyxy': [222, 53, 370, 108]}]}, {'image_path': '5400.jpg', 'image_width': 640, 'image_height': 352, 'predict_box': [{'label': 0, 'conf': '0.968', 'xyxy': [223, 52, 372, 107]}]}, {'image_path': '5550.jpg', 'image_width': 640, 'image_height': 352, 'predict_box': [{'label': 0, 'conf': '0.924', 'xyxy': [220, 55, 365, 104]}]}, {'image_path': '5700.jpg', 'image_width': 640, 'image_height': 352, 'predict_box': [{'label': 0, 'conf': '0.901', 'xyxy': [222, 57, 364, 104]}]}, {'image_path': '5850.jpg', 'image_width': 640, 'image_height': 352, 'predict_box': [{'label': 0, 'conf': '0.955', 'xyxy': [222, 51, 370, 106]}]}, {'image_path': '6000.jpg', 'image_width': 640, 'image_height': 352, 'predict_box': [{'label': 0, 'conf': '0.966', 'xyxy': [221, 61, 374, 103]}]}, {'image_path': '6150.jpg', 'image_width': 640, 'image_height': 352, 'predict_box': [{'label': 0, 'conf': '0.958', 'xyxy': [223, 55, 371, 106]}]}, {'image_path': '6300.jpg', 'image_width': 640, 'image_height': 352, 'predict_box': [{'label': 0, 'conf': '0.958', 'xyxy': [219, 59, 374, 109]}]}, {'image_path': '6450.jpg', 'image_width': 640, 'image_height': 352, 'predict_box': [{'label': 0, 'conf': '0.900', 'xyxy': [212, 62, 386, 108]}, {'label': 0, 'conf': '0.966', 'xyxy': [0, 5, 52, 35]}, {'label': 0, 'conf': '0.967', 'xyxy': [222, 64, 367, 106]}]}, {'image_path': '6600.jpg', 'image_width': 640, 'image_height': 352, 'predict_box': [{'label': 0, 'conf': '0.945', 'xyxy': [226, 55, 358, 105]}]}, {'image_path': '6750.jpg', 'image_width': 640, 'image_height': 352, 'predict_box': [{'label': 0, 'conf': '0.954', 'xyxy': [225, 56, 371, 102]}, {'label': 0, 'conf': '0.990', 'xyxy': [0, 6, 52, 34]}]}, {'image_path': '6900.jpg', 'image_width': 640, 'image_height': 352, 'predict_box': []}, {'image_path': '7050.jpg', 'image_width': 640, 'image_height': 352, 'predict_box': []}, {'image_path': '7200.jpg', 'image_width': 640, 'image_height': 352, 'predict_box': [{'label': 0, 'conf': '0.957', 'xyxy': [1, 1, 52, 40]}, {'label': 0, 'conf': '0.970', 'xyxy': [225, 60, 371, 107]}]}, {'image_path': '7350.jpg', 'image_width': 640, 'image_height': 352, 'predict_box': [{'label': 0, 'conf': '0.957', 'xyxy': [226, 54, 361, 106]}]}, {'image_path': '7500.jpg', 'image_width': 640, 'image_height': 352, 'predict_box': [{'label': 0, 'conf': '0.946', 'xyxy': [222, 59, 358, 107]}, {'label': 0, 'conf': '0.987', 'xyxy': [0, 2, 52, 37]}]}, {'image_path': '7650.jpg', 'image_width': 640, 'image_height': 352, 'predict_box': [{'label': 0, 'conf': '0.910', 'xyxy': [1, 3, 52, 34]}, {'label': 0, 'conf': '0.964', 'xyxy': [220, 52, 370, 109]}]}, {'image_path': '7800.jpg', 'image_width': 640, 'image_height': 352, 'predict_box': [{'label': 0, 'conf': '0.930', 'xyxy': [0, 13, 51, 40]}, {'label': 0, 'conf': '0.964', 'xyxy': [222, 53, 365, 108]}, {'label': 0, 'conf': '0.985', 'xyxy': [0, 6, 53, 39]}]}, {'image_path': '7950.jpg', 'image_width': 640, 'image_height': 352, 'predict_box': [{'label': 0, 'conf': '0.956', 'xyxy': [222, 57, 363, 107]}, {'label': 0, 'conf': '0.966', 'xyxy': [0, 3, 52, 34]}]}, {'image_path': '8100.jpg', 'image_width': 640, 'image_height': 352, 'predict_box': [{'label': 0, 'conf': '0.933', 'xyxy': [0, 4, 51, 38]}, {'label': 0, 'conf': '0.966', 'xyxy': [221, 53, 369, 108]}]}, {'image_path': '8250.jpg', 'image_width': 640, 'image_height': 352, 'predict_box': [{'label': 0, 'conf': '0.927', 'xyxy': [225, 57, 357, 106]}, {'label': 0, 'conf': '0.940', 'xyxy': [221, 47, 365, 100]}, {'label': 0, 'conf': '0.972', 'xyxy': [0, 3, 51, 36]}]}, {'image_path': '8400.jpg', 'image_width': 640, 'image_height': 352, 'predict_box': [{'label': 0, 'conf': '0.951', 'xyxy': [219, 48, 373, 109]}]}, {'image_path': '8550.jpg', 'image_width': 640, 'image_height': 352, 'predict_box': [{'label': 0, 'conf': '0.958', 'xyxy': [222, 54, 371, 108]}, {'label': 0, 'conf': '0.968', 'xyxy': [0, 3, 50, 38]}]}, {'image_path': '8700.jpg', 'image_width': 640, 'image_height': 352, 'predict_box': [{'label': 0, 'conf': '0.928', 'xyxy': [1, 8, 51, 37]}, {'label': 0, 'conf': '0.964', 'xyxy': [222, 58, 362, 107]}]}, {'image_path': '8850.jpg', 'image_width': 640, 'image_height': 352, 'predict_box': [{'label': 0, 'conf': '0.924', 'xyxy': [221, 50, 365, 105]}, {'label': 0, 'conf': '0.943', 'xyxy': [227, 57, 358, 105]}]}, {'image_path': '9000.jpg', 'image_width': 640, 'image_height': 352, 'predict_box': [{'label': 0, 'conf': '0.956', 'xyxy': [0, 3, 51, 34]}, {'label': 0, 'conf': '0.962', 'xyxy': [220, 54, 369, 107]}]}, {'image_path': '9150.jpg', 'image_width': 640, 'image_height': 352, 'predict_box': [{'label': 0, 'conf': '0.918', 'xyxy': [222, 59, 371, 103]}, {'label': 0, 'conf': '0.989', 'xyxy': [0, 5, 51, 37]}]}, {'image_path': '9300.jpg', 'image_width': 640, 'image_height': 352, 'predict_box': [{'label': 0, 'conf': '0.962', 'xyxy': [224, 54, 366, 103]}]}, {'image_path': '9450.jpg', 'image_width': 640, 'image_height': 352, 'predict_box': [{'label': 0, 'conf': '0.940', 'xyxy': [222, 49, 366, 106]}, {'label': 0, 'conf': '0.944', 'xyxy': [222, 53, 357, 111]}]}, {'image_path': '9600.jpg', 'image_width': 640, 'image_height': 352, 'predict_box': [{'label': 0, 'conf': '0.955', 'xyxy': [220, 54, 366, 106]}, {'label': 0, 'conf': '0.966', 'xyxy': [0, 5, 52, 32]}]}, {'image_path': '9750.jpg', 'image_width': 640, 'image_height': 352, 'predict_box': [{'label': 0, 'conf': '0.949', 'xyxy': [222, 56, 370, 107]}, {'label': 0, 'conf': '0.966', 'xyxy': [0, 3, 51, 36]}]}, {'image_path': '9900.jpg', 'image_width': 640, 'image_height': 352, 'predict_box': [{'label': 0, 'conf': '0.952', 'xyxy': [221, 58, 370, 107]}]}, {'image_path': '10050.jpg', 'image_width': 640, 'image_height': 352, 'predict_box': [{'label': 0, 'conf': '0.943', 'xyxy': [220, 57, 368, 107]}]}, {'image_path': '10200.jpg', 'image_width': 640, 'image_height': 352, 'predict_box': [{'label': 0, 'conf': '0.951', 'xyxy': [223, 57, 364, 106]}]}, {'image_path': '10350.jpg', 'image_width': 640, 'image_height': 352, 'predict_box': [{'label': 0, 'conf': '0.962', 'xyxy': [220, 56, 368, 107]}]}, {'image_path': '10500.jpg', 'image_width': 640, 'image_height': 352, 'predict_box': []}, {'image_path': '10650.jpg', 'image_width': 640, 'image_height': 352, 'predict_box': [{'label': 0, 'conf': '0.917', 'xyxy': [222, 54, 367, 106]}, {'label': 0, 'conf': '0.920', 'xyxy': [1, 6, 51, 34]}, {'label': 0, 'conf': '0.942', 'xyxy': [223, 60, 361, 109]}]}, {'image_path': '10800.jpg', 'image_width': 640, 'image_height': 352, 'predict_box': [{'label': 0, 'conf': '0.958', 'xyxy': [226, 62, 362, 104]}]}, {'image_path': '10950.jpg', 'image_width': 640, 'image_height': 352, 'predict_box': [{'label': 0, 'conf': '0.948', 'xyxy': [223, 56, 372, 106]}]}, {'image_path': '11100.jpg', 'image_width': 640, 'image_height': 352, 'predict_box': [{'label': 0, 'conf': '0.908', 'xyxy': [0, 13, 51, 38]}, {'label': 0, 'conf': '0.967', 'xyxy': [220, 62, 365, 106]}, {'label': 0, 'conf': '0.992', 'xyxy': [0, 7, 52, 37]}]}, {'image_path': '11250.jpg', 'image_width': 640, 'image_height': 352, 'predict_box': [{'label': 0, 'conf': '0.962', 'xyxy': [224, 61, 362, 104]}]}, {'image_path': '11400.jpg', 'image_width': 640, 'image_height': 352, 'predict_box': [{'label': 0, 'conf': '0.914', 'xyxy': [424, 39, 462, 85]}, {'label': 0, 'conf': '0.948', 'xyxy': [220, 57, 376, 107]}, {'label': 0, 'conf': '0.972', 'xyxy': [0, 6, 51, 36]}]}, {'image_path': '11550.jpg', 'image_width': 640, 'image_height': 352, 'predict_box': [{'label': 0, 'conf': '0.909', 'xyxy': [0, 107, 51, 136]}, {'label': 0, 'conf': '0.911', 'xyxy': [221, 53, 372, 104]}, {'label': 0, 'conf': '0.957', 'xyxy': [0, 6, 51, 34]}]}, {'image_path': '11700.jpg', 'image_width': 640, 'image_height': 352, 'predict_box': [{'label': 0, 'conf': '0.937', 'xyxy': [0, 5, 52, 33]}, {'label': 0, 'conf': '0.962', 'xyxy': [220, 59, 373, 105]}]}, {'image_path': '11850.jpg', 'image_width': 640, 'image_height': 352, 'predict_box': [{'label': 0, 'conf': '0.958', 'xyxy': [226, 61, 371, 106]}]}, {'image_path': '12000.jpg', 'image_width': 640, 'image_height': 352, 'predict_box': [{'label': 0, 'conf': '0.947', 'xyxy': [222, 52, 373, 104]}]}, {'image_path': '12150.jpg', 'image_width': 640, 'image_height': 352, 'predict_box': []}, {'image_path': '12300.jpg', 'image_width': 640, 'image_height': 352, 'predict_box': [{'label': 0, 'conf': '0.969', 'xyxy': [221, 60, 379, 109]}]}, {'image_path': '12450.jpg', 'image_width': 640, 'image_height': 352, 'predict_box': [{'label': 0, 'conf': '0.908', 'xyxy': [223, 60, 356, 107]}, {'label': 0, 'conf': '0.971', 'xyxy': [229, 62, 363, 102]}, {'label': 0, 'conf': '0.983', 'xyxy': [0, 4, 52, 38]}]}, {'image_path': '12600.jpg', 'image_width': 640, 'image_height': 352, 'predict_box': [{'label': 0, 'conf': '0.907', 'xyxy': [275, 44, 379, 97]}, {'label': 0, 'conf': '0.959', 'xyxy': [220, 58, 364, 105]}]}, {'image_path': '12750.jpg', 'image_width': 640, 'image_height': 352, 'predict_box': [{'label': 0, 'conf': '0.904', 'xyxy': [222, 57, 364, 103]}, {'label': 0, 'conf': '0.934', 'xyxy': [221, 63, 359, 106]}]}, {'image_path': '12900.jpg', 'image_width': 640, 'image_height': 352, 'predict_box': [{'label': 0, 'conf': '0.914', 'xyxy': [221, 64, 351, 108]}]}, {'image_path': '13050.jpg', 'image_width': 640, 'image_height': 352, 'predict_box': []}, {'image_path': '13200.jpg', 'image_width': 640, 'image_height': 352, 'predict_box': []}, {'image_path': '13350.jpg', 'image_width': 640, 'image_height': 352, 'predict_box': [{'label': 0, 'conf': '0.974', 'xyxy': [0, 2, 52, 37]}]}, {'image_path': '13500.jpg', 'image_width': 640, 'image_height': 352, 'predict_box': [{'label': 0, 'conf': '0.941', 'xyxy': [1, 6, 52, 35]}]}, {'image_path': '13650.jpg', 'image_width': 640, 'image_height': 352, 'predict_box': [{'label': 0, 'conf': '0.980', 'xyxy': [0, 1, 52, 40]}]}, {'image_path': '13800.jpg', 'image_width': 640, 'image_height': 352, 'predict_box': []}, {'image_path': '13950.jpg', 'image_width': 640, 'image_height': 352, 'predict_box': [{'label': 0, 'conf': '0.929', 'xyxy': [0, 4, 52, 37]}]}, {'image_path': '14100.jpg', 'image_width': 640, 'image_height': 352, 'predict_box': [{'label': 0, 'conf': '0.909', 'xyxy': [1, 4, 54, 32]}, {'label': 0, 'conf': '0.955', 'xyxy': [219, 57, 375, 108]}]}, {'image_path': '14250.jpg', 'image_width': 640, 'image_height': 352, 'predict_box': [{'label': 0, 'conf': '0.902', 'xyxy': [1, 3, 50, 35]}]}, {'image_path': '14400.jpg', 'image_width': 640, 'image_height': 352, 'predict_box': [{'label': 0, 'conf': '0.968', 'xyxy': [220, 55, 373, 106]}, {'label': 0, 'conf': '0.971', 'xyxy': [0, 3, 51, 37]}]}, {'image_path': '14550.jpg', 'image_width': 640, 'image_height': 352, 'predict_box': [{'label': 0, 'conf': '0.957', 'xyxy': [222, 55, 374, 108]}, {'label': 0, 'conf': '0.975', 'xyxy': [0, 5, 52, 35]}]}, {'image_path': '14700.jpg', 'image_width': 640, 'image_height': 352, 'predict_box': [{'label': 0, 'conf': '0.963', 'xyxy': [223, 59, 359, 107]}]}, {'image_path': '14850.jpg', 'image_width': 640, 'image_height': 352, 'predict_box': [{'label': 0, 'conf': '0.938', 'xyxy': [223, 59, 358, 108]}]}, {'image_path': '15000.jpg', 'image_width': 640, 'image_height': 352, 'predict_box': [{'label': 0, 'conf': '0.969', 'xyxy': [221, 55, 373, 108]}]}, {'image_path': '15150.jpg', 'image_width': 640, 'image_height': 352, 'predict_box': [{'label': 0, 'conf': '0.904', 'xyxy': [1, 5, 51, 33]}, {'label': 0, 'conf': '0.926', 'xyxy': [221, 56, 376, 105]}]}, {'image_path': '15300.jpg', 'image_width': 640, 'image_height': 352, 'predict_box': [{'label': 0, 'conf': '0.957', 'xyxy': [223, 61, 360, 109]}, {'label': 0, 'conf': '0.963', 'xyxy': [0, 3, 51, 37]}]}, {'image_path': '15450.jpg', 'image_width': 640, 'image_height': 352, 'predict_box': [{'label': 0, 'conf': '0.913', 'xyxy': [223, 56, 363, 109]}, {'label': 0, 'conf': '0.929', 'xyxy': [221, 46, 368, 105]}, {'label': 0, 'conf': '0.956', 'xyxy': [0, 5, 51, 33]}]}, {'image_path': '15600.jpg', 'image_width': 640, 'image_height': 352, 'predict_box': [{'label': 0, 'conf': '0.950', 'xyxy': [223, 58, 365, 108]}, {'label': 0, 'conf': '0.987', 'xyxy': [0, 6, 54, 37]}]}, {'image_path': '15750.jpg', 'image_width': 640, 'image_height': 352, 'predict_box': [{'label': 0, 'conf': '0.928', 'xyxy': [224, 61, 371, 104]}, {'label': 0, 'conf': '0.969', 'xyxy': [0, 5, 51, 35]}]}, {'image_path': '15900.jpg', 'image_width': 640, 'image_height': 352, 'predict_box': [{'label': 0, 'conf': '0.938', 'xyxy': [222, 57, 364, 107]}, {'label': 0, 'conf': '0.970', 'xyxy': [0, 3, 51, 34]}]}, {'image_path': '16050.jpg', 'image_width': 640, 'image_height': 352, 'predict_box': [{'label': 0, 'conf': '0.933', 'xyxy': [221, 56, 369, 108]}, {'label': 0, 'conf': '0.936', 'xyxy': [1, 4, 50, 34]}]}, {'image_path': '16200.jpg', 'image_width': 640, 'image_height': 352, 'predict_box': [{'label': 0, 'conf': '0.904', 'xyxy': [0, 4, 50, 34]}, {'label': 0, 'conf': '0.940', 'xyxy': [221, 56, 370, 107]}]}, {'image_path': '16350.jpg', 'image_width': 640, 'image_height': 352, 'predict_box': [{'label': 0, 'conf': '0.954', 'xyxy': [221, 58, 374, 107]}]}, {'image_path': '16500.jpg', 'image_width': 640, 'image_height': 352, 'predict_box': [{'label': 0, 'conf': '0.942', 'xyxy': [220, 50, 373, 108]}]}, {'image_path': '16650.jpg', 'image_width': 640, 'image_height': 352, 'predict_box': [{'label': 0, 'conf': '0.905', 'xyxy': [1, 106, 52, 134]}, {'label': 0, 'conf': '0.932', 'xyxy': [223, 55, 368, 105]}, {'label': 0, 'conf': '0.949', 'xyxy': [224, 61, 360, 108]}]}, {'image_path': '16800.jpg', 'image_width': 640, 'image_height': 352, 'predict_box': [{'label': 0, 'conf': '0.917', 'xyxy': [222, 56, 370, 105]}, {'label': 0, 'conf': '0.975', 'xyxy': [0, 3, 51, 36]}]}, {'image_path': '16950.jpg', 'image_width': 640, 'image_height': 352, 'predict_box': [{'label': 0, 'conf': '0.945', 'xyxy': [223, 59, 372, 104]}, {'label': 0, 'conf': '0.982', 'xyxy': [0, 4, 51, 37]}]}, {'image_path': '17100.jpg', 'image_width': 640, 'image_height': 352, 'predict_box': [{'label': 0, 'conf': '0.951', 'xyxy': [221, 61, 371, 109]}]}, {'image_path': '17250.jpg', 'image_width': 640, 'image_height': 352, 'predict_box': [{'label': 0, 'conf': '0.957', 'xyxy': [225, 56, 360, 105]}, {'label': 0, 'conf': '0.966', 'xyxy': [0, 5, 52, 36]}]}, {'image_path': '17400.jpg', 'image_width': 640, 'image_height': 352, 'predict_box': [{'label': 0, 'conf': '0.933', 'xyxy': [223, 58, 368, 103]}]}, {'image_path': '17550.jpg', 'image_width': 640, 'image_height': 352, 'predict_box': [{'label': 0, 'conf': '0.931', 'xyxy': [1, 5, 50, 33]}, {'label': 0, 'conf': '0.939', 'xyxy': [221, 59, 369, 107]}]}, {'image_path': '17700.jpg', 'image_width': 640, 'image_height': 352, 'predict_box': [{'label': 0, 'conf': '0.920', 'xyxy': [0, 5, 50, 35]}, {'label': 0, 'conf': '0.958', 'xyxy': [222, 58, 375, 106]}]}, {'image_path': '17850.jpg', 'image_width': 640, 'image_height': 352, 'predict_box': [{'label': 0, 'conf': '0.952', 'xyxy': [221, 58, 373, 107]}, {'label': 0, 'conf': '0.978', 'xyxy': [0, 6, 51, 36]}]}], 'running_time': 5.151}"
   ]
  },
  {
   "cell_type": "code",
   "execution_count": 171,
   "metadata": {
    "ExecuteTime": {
     "end_time": "2021-08-10T12:30:10.502587Z",
     "start_time": "2021-08-10T12:30:10.361626Z"
    }
   },
   "outputs": [],
   "source": [
    "from collections import Counter\n",
    "from sklearn.cluster import KMeans\n",
    "from scipy.spatial.distance import cdist\n",
    "\n",
    "centers = []\n",
    "detect_box = {}\n",
    "for result in data['result']:\n",
    "    frame_idx = int(result['image_path'].split('.')[0])\n",
    "    imagew = result['image_width']\n",
    "    imageh = result['image_height']\n",
    "    box = result['predict_box']\n",
    "    if len(box) > 0:\n",
    "        detect_box[frame_idx] = box[-1]\n",
    "        xyxy = box[-1]['xyxy'] # last is the max confidence score\n",
    "        centers.append((int(0.5 * (xyxy[0] + xyxy[2])), int(0.5 * (xyxy[1] + xyxy[3]))))\n",
    "centers = np.array(centers)"
   ]
  },
  {
   "cell_type": "code",
   "execution_count": 172,
   "metadata": {
    "ExecuteTime": {
     "end_time": "2021-08-10T12:30:11.242769Z",
     "start_time": "2021-08-10T12:30:11.102345Z"
    }
   },
   "outputs": [
    {
     "data": {
      "text/plain": [
       "54"
      ]
     },
     "execution_count": 172,
     "metadata": {},
     "output_type": "execute_result"
    }
   ],
   "source": [
    "half = int(0.5 * len(centers))\n",
    "half"
   ]
  },
  {
   "cell_type": "code",
   "execution_count": 173,
   "metadata": {
    "ExecuteTime": {
     "end_time": "2021-08-10T12:30:11.907524Z",
     "start_time": "2021-08-10T12:30:11.752932Z"
    }
   },
   "outputs": [
    {
     "data": {
      "text/plain": [
       "108"
      ]
     },
     "execution_count": 173,
     "metadata": {},
     "output_type": "execute_result"
    }
   ],
   "source": [
    "c1 = centers[:half]\n",
    "c2 = centers[half:]\n",
    "len(c1) + len(c2)"
   ]
  },
  {
   "cell_type": "code",
   "execution_count": 181,
   "metadata": {
    "ExecuteTime": {
     "end_time": "2021-08-10T12:33:32.602290Z",
     "start_time": "2021-08-10T12:33:32.292595Z"
    }
   },
   "outputs": [],
   "source": [
    "model = KMeans(n_clusters=3)\n",
    "clusters = model.fit_predict(centers)\n",
    "cluster_centers = model.cluster_centers_\n",
    "\n",
    "clusters2 = model.fit_predict(c2)\n",
    "cluster_centers2 = model.cluster_centers_\n",
    "\n",
    "clusters1 = model.fit_predict(c1)\n",
    "cluster_centers1 = model.cluster_centers_"
   ]
  },
  {
   "cell_type": "code",
   "execution_count": 201,
   "metadata": {
    "ExecuteTime": {
     "end_time": "2021-08-10T13:10:48.834743Z",
     "start_time": "2021-08-10T13:10:48.707202Z"
    }
   },
   "outputs": [
    {
     "data": {
      "text/plain": [
       "(array([[296.04545455,  79.5       ],\n",
       "        [ 25.63636364,  20.27272727],\n",
       "        [292.95238095,  82.33333333]]),\n",
       " array([[290.8       ,  83.        ],\n",
       "        [ 25.45833333,  19.875     ],\n",
       "        [296.2       ,  81.45      ]]),\n",
       " array([[296.06521739,  80.56521739],\n",
       "        [ 25.51428571,  20.        ],\n",
       "        [291.77777778,  82.62962963]]))"
      ]
     },
     "execution_count": 201,
     "metadata": {},
     "output_type": "execute_result"
    }
   ],
   "source": [
    "cluster_centers1, cluster_centers2, cluster_centers"
   ]
  },
  {
   "cell_type": "code",
   "execution_count": 149,
   "metadata": {
    "ExecuteTime": {
     "end_time": "2021-08-10T11:59:09.002150Z",
     "start_time": "2021-08-10T11:59:08.843451Z"
    }
   },
   "outputs": [
    {
     "data": {
      "text/plain": [
       "array([2, 0, 0, 0, 2, 0, 1, 2, 2, 1, 0, 0, 2, 2, 0, 2, 2, 2, 2, 1, 2, 1,\n",
       "       2, 2, 2, 2, 0, 2, 1, 2, 2, 2, 0, 2, 2, 2, 2, 2, 0, 0, 1, 2, 2, 1,\n",
       "       2, 1, 1, 2, 1, 2, 1, 0, 0, 2, 1, 2, 0, 1, 1, 2, 0, 0, 2, 0, 0, 2,\n",
       "       1, 0, 1, 1, 2, 2, 2, 2, 1, 0, 0, 0, 1, 1, 1, 1, 2, 1, 1, 1, 0, 0,\n",
       "       2, 2, 1, 1, 1, 1, 1, 1, 2, 2, 2, 0, 1, 1, 2, 1, 2, 2, 2, 1],\n",
       "      dtype=int32)"
      ]
     },
     "execution_count": 149,
     "metadata": {},
     "output_type": "execute_result"
    }
   ],
   "source": [
    "clusters"
   ]
  },
  {
   "cell_type": "code",
   "execution_count": 179,
   "metadata": {
    "ExecuteTime": {
     "end_time": "2021-08-10T12:31:50.304596Z",
     "start_time": "2021-08-10T12:31:50.147441Z"
    }
   },
   "outputs": [
    {
     "data": {
      "text/plain": [
       "(array([0, 0, 0, 0, 0, 0, 0, 0, 0, 0, 0, 0, 0, 0, 0, 0, 0, 0, 0, 0, 0, 0,\n",
       "        0, 0, 0, 0, 0, 0, 0, 0, 0, 0, 0, 0, 0, 0, 0, 0, 0, 0, 0, 0, 0, 0,\n",
       "        0, 0, 0, 0, 0, 0, 0, 0, 0, 0], dtype=int32),\n",
       " array([0, 0, 0, 0, 0, 0, 0, 0, 0, 0, 0, 0, 0, 0, 0, 0, 0, 0, 0, 0, 0, 0,\n",
       "        0, 0, 0, 0, 0, 0, 0, 0, 0, 0, 0, 0, 0, 0, 0, 0, 0, 0, 0, 0, 0, 0,\n",
       "        0, 0, 0, 0, 0, 0, 0, 0, 0, 0], dtype=int32))"
      ]
     },
     "execution_count": 179,
     "metadata": {},
     "output_type": "execute_result"
    }
   ],
   "source": [
    "clusters1, clusters2"
   ]
  },
  {
   "cell_type": "code",
   "execution_count": 204,
   "metadata": {
    "ExecuteTime": {
     "end_time": "2021-08-10T13:17:26.834577Z",
     "start_time": "2021-08-10T13:17:26.697109Z"
    }
   },
   "outputs": [
    {
     "data": {
      "text/plain": [
       "(array([[296.04545455,  79.5       ],\n",
       "        [ 25.63636364,  20.27272727],\n",
       "        [292.95238095,  82.33333333]]),\n",
       " array([[290.8       ,  83.        ],\n",
       "        [ 25.45833333,  19.875     ],\n",
       "        [296.2       ,  81.45      ]]))"
      ]
     },
     "execution_count": 204,
     "metadata": {},
     "output_type": "execute_result"
    }
   ],
   "source": [
    "cluster_centers1, cluster_centers2"
   ]
  },
  {
   "cell_type": "code",
   "execution_count": 205,
   "metadata": {
    "ExecuteTime": {
     "end_time": "2021-08-10T13:17:27.807931Z",
     "start_time": "2021-08-10T13:17:27.632939Z"
    }
   },
   "outputs": [
    {
     "data": {
      "text/plain": [
       "(array([204.45242696,  61.06494901]),\n",
       " array([204.87806638,  60.7020202 ]),\n",
       " array([204.15277778,  61.44166667]))"
      ]
     },
     "execution_count": 205,
     "metadata": {},
     "output_type": "execute_result"
    }
   ],
   "source": [
    "cluster_centers.mean(axis=0), cluster_centers1.mean(axis=0), cluster_centers2.mean(axis=0)"
   ]
  },
  {
   "cell_type": "code",
   "execution_count": 185,
   "metadata": {
    "ExecuteTime": {
     "end_time": "2021-08-10T12:34:34.583543Z",
     "start_time": "2021-08-10T12:34:34.436993Z"
    }
   },
   "outputs": [],
   "source": [
    "a, b = cluster_centers1.mean(axis=0), cluster_centers2.mean(axis=0)"
   ]
  },
  {
   "cell_type": "code",
   "execution_count": 196,
   "metadata": {
    "ExecuteTime": {
     "end_time": "2021-08-10T12:40:38.255654Z",
     "start_time": "2021-08-10T12:40:38.109128Z"
    }
   },
   "outputs": [
    {
     "data": {
      "text/plain": [
       "array([ 0.7252886 , -0.73964646])"
      ]
     },
     "execution_count": 196,
     "metadata": {},
     "output_type": "execute_result"
    }
   ],
   "source": [
    "c = a - b\n",
    "c"
   ]
  },
  {
   "cell_type": "code",
   "execution_count": 197,
   "metadata": {
    "ExecuteTime": {
     "end_time": "2021-08-10T12:40:42.090571Z",
     "start_time": "2021-08-10T12:40:41.956567Z"
    }
   },
   "outputs": [
    {
     "data": {
      "text/plain": [
       "0.5260435537086277"
      ]
     },
     "execution_count": 197,
     "metadata": {},
     "output_type": "execute_result"
    }
   ],
   "source": [
    "c[0] * c[0]"
   ]
  },
  {
   "cell_type": "code",
   "execution_count": 191,
   "metadata": {
    "ExecuteTime": {
     "end_time": "2021-08-10T12:39:44.991337Z",
     "start_time": "2021-08-10T12:39:44.843898Z"
    }
   },
   "outputs": [
    {
     "data": {
      "text/plain": [
       "array([0.52604355, 0.54707689])"
      ]
     },
     "execution_count": 191,
     "metadata": {},
     "output_type": "execute_result"
    }
   ],
   "source": [
    "np.square(a - b)"
   ]
  },
  {
   "cell_type": "code",
   "execution_count": 195,
   "metadata": {
    "ExecuteTime": {
     "end_time": "2021-08-10T12:40:16.934679Z",
     "start_time": "2021-08-10T12:40:16.800726Z"
    }
   },
   "outputs": [
    {
     "data": {
      "text/plain": [
       "(array([41975.02208282,  3684.73525661]),\n",
       " array([41678.35667438,  3775.07840278]))"
      ]
     },
     "execution_count": 195,
     "metadata": {},
     "output_type": "execute_result"
    }
   ],
   "source": []
  },
  {
   "cell_type": "code",
   "execution_count": 206,
   "metadata": {
    "ExecuteTime": {
     "end_time": "2021-08-10T13:22:13.494553Z",
     "start_time": "2021-08-10T13:22:13.354499Z"
    }
   },
   "outputs": [],
   "source": [
    "op1=np.sqrt(np.sum(np.square(a-b)))\n",
    "op2=np.linalg.norm(a-b)"
   ]
  },
  {
   "cell_type": "code",
   "execution_count": 189,
   "metadata": {
    "ExecuteTime": {
     "end_time": "2021-08-10T12:38:02.636437Z",
     "start_time": "2021-08-10T12:38:02.503864Z"
    }
   },
   "outputs": [
    {
     "data": {
      "text/plain": [
       "(1.0359152698810214, 1.0359152698810214)"
      ]
     },
     "execution_count": 189,
     "metadata": {},
     "output_type": "execute_result"
    }
   ],
   "source": [
    "op1, op2"
   ]
  },
  {
   "cell_type": "code",
   "execution_count": 186,
   "metadata": {
    "ExecuteTime": {
     "end_time": "2021-08-10T12:34:51.021828Z",
     "start_time": "2021-08-10T12:34:50.896171Z"
    }
   },
   "outputs": [
    {
     "data": {
      "text/plain": [
       "array([0.52604355, 0.54707689])"
      ]
     },
     "execution_count": 186,
     "metadata": {},
     "output_type": "execute_result"
    }
   ],
   "source": [
    "np.disp"
   ]
  },
  {
   "cell_type": "code",
   "execution_count": 198,
   "metadata": {
    "ExecuteTime": {
     "end_time": "2021-08-10T12:46:29.756472Z",
     "start_time": "2021-08-10T12:46:29.616632Z"
    },
    "scrolled": true
   },
   "outputs": [
    {
     "data": {
      "text/plain": [
       "0"
      ]
     },
     "execution_count": 198,
     "metadata": {},
     "output_type": "execute_result"
    }
   ],
   "source": [
    "Counter(clusters).most_common()[0][0]"
   ]
  },
  {
   "cell_type": "code",
   "execution_count": 133,
   "metadata": {
    "ExecuteTime": {
     "end_time": "2021-08-10T11:44:53.644626Z",
     "start_time": "2021-08-10T11:44:53.468429Z"
    }
   },
   "outputs": [
    {
     "data": {
      "text/plain": [
       "array([[ 25.51428571,  20.        ],\n",
       "       [293.77419355,  81.41935484],\n",
       "       [296.05882353,  78.41176471],\n",
       "       [297.26666667,  82.46666667],\n",
       "       [289.8       ,  84.3       ]])"
      ]
     },
     "execution_count": 133,
     "metadata": {},
     "output_type": "execute_result"
    }
   ],
   "source": [
    "data = model.cluster_centers_\n",
    "data"
   ]
  },
  {
   "cell_type": "code",
   "execution_count": 142,
   "metadata": {
    "ExecuteTime": {
     "end_time": "2021-08-10T11:48:02.059908Z",
     "start_time": "2021-08-10T11:48:01.915029Z"
    }
   },
   "outputs": [
    {
     "name": "stdout",
     "output_type": "stream",
     "text": [
      "[[  0.         275.20122692 276.77839727 278.8394538  271.99527344]\n",
      " [275.20122692   0.           3.77692104   3.64612542   4.90839392]\n",
      " [276.77839727   3.77692104   0.           4.23097092   8.59326404]\n",
      " [278.8394538    3.64612542   4.23097092   0.           7.68844732]\n",
      " [271.99527344   4.90839392   8.59326404   7.68844732   0.        ]]\n"
     ]
    }
   ],
   "source": [
    "dist = cdist(data, data, metric='euclidean')\n",
    "print(dist)"
   ]
  },
  {
   "cell_type": "code",
   "execution_count": 147,
   "metadata": {
    "ExecuteTime": {
     "end_time": "2021-08-10T11:49:47.933817Z",
     "start_time": "2021-08-10T11:49:47.779086Z"
    }
   },
   "outputs": [
    {
     "data": {
      "text/plain": [
       "array([[False,  True,  True,  True,  True],\n",
       "       [ True, False, False, False, False],\n",
       "       [ True, False, False, False, False],\n",
       "       [ True, False, False, False, False],\n",
       "       [ True, False, False, False, False]])"
      ]
     },
     "execution_count": 147,
     "metadata": {},
     "output_type": "execute_result"
    }
   ],
   "source": [
    "dist > 15"
   ]
  },
  {
   "cell_type": "code",
   "execution_count": 145,
   "metadata": {
    "ExecuteTime": {
     "end_time": "2021-08-10T11:49:26.446308Z",
     "start_time": "2021-08-10T11:49:26.302441Z"
    }
   },
   "outputs": [
    {
     "name": "stdout",
     "output_type": "stream",
     "text": [
      "[275.20122692 276.77839727 278.8394538  271.99527344 275.20122692\n",
      " 276.77839727 278.8394538  271.99527344]\n"
     ]
    }
   ],
   "source": [
    "print(dist[dist > 15])"
   ]
  },
  {
   "cell_type": "code",
   "execution_count": 207,
   "metadata": {
    "ExecuteTime": {
     "end_time": "2021-08-11T04:07:54.029010Z",
     "start_time": "2021-08-11T04:07:53.905781Z"
    }
   },
   "outputs": [],
   "source": [
    "from PIL import Image"
   ]
  },
  {
   "cell_type": "code",
   "execution_count": 211,
   "metadata": {
    "ExecuteTime": {
     "end_time": "2021-08-11T04:08:36.695028Z",
     "start_time": "2021-08-11T04:08:36.541670Z"
    }
   },
   "outputs": [],
   "source": [
    "img = Image.open('./assets/add_layer.png')"
   ]
  },
  {
   "cell_type": "code",
   "execution_count": 212,
   "metadata": {
    "ExecuteTime": {
     "end_time": "2021-08-11T04:08:37.471580Z",
     "start_time": "2021-08-11T04:08:37.314776Z"
    }
   },
   "outputs": [
    {
     "data": {
      "text/plain": [
       "PIL.PngImagePlugin.PngImageFile"
      ]
     },
     "execution_count": 212,
     "metadata": {},
     "output_type": "execute_result"
    }
   ],
   "source": [
    "type(img)"
   ]
  }
 ],
 "metadata": {
  "hide_input": false,
  "kernelspec": {
   "display_name": "Python 3",
   "language": "python",
   "name": "python3"
  },
  "language_info": {
   "codemirror_mode": {
    "name": "ipython",
    "version": 3
   },
   "file_extension": ".py",
   "mimetype": "text/x-python",
   "name": "python",
   "nbconvert_exporter": "python",
   "pygments_lexer": "ipython3",
   "version": "3.6.9"
  },
  "toc": {
   "base_numbering": 1,
   "nav_menu": {},
   "number_sections": true,
   "sideBar": true,
   "skip_h1_title": true,
   "title_cell": "",
   "title_sidebar": "Contents",
   "toc_cell": false,
   "toc_position": {},
   "toc_section_display": true,
   "toc_window_display": false
  }
 },
 "nbformat": 4,
 "nbformat_minor": 2
}
