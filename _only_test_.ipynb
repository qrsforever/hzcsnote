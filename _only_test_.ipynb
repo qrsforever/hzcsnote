{
 "cells": [
  {
   "cell_type": "code",
   "execution_count": 51,
   "metadata": {},
   "outputs": [],
   "source": [
    "%reload_ext autoreload\n",
    "%autoreload 2"
   ]
  },
  {
   "cell_type": "code",
   "execution_count": 1,
   "metadata": {
    "ExecuteTime": {
     "end_time": "2020-05-14T08:50:22.439108Z",
     "start_time": "2020-05-14T08:50:12.711335Z"
    }
   },
   "outputs": [],
   "source": [
    "import os, sys"
   ]
  },
  {
   "cell_type": "code",
   "execution_count": 5,
   "metadata": {
    "ExecuteTime": {
     "end_time": "2020-05-14T09:04:16.559186Z",
     "start_time": "2020-05-14T09:04:16.552652Z"
    }
   },
   "outputs": [
    {
     "name": "stdout",
     "output_type": "stream",
     "text": [
      "mnist.zip\n",
      "data-platform/datasets/1/cv\n"
     ]
    }
   ],
   "source": [
    "remote_path = 'data-platform/datasets/1/cv/mnist.zip'\n",
    "\n",
    "print(os.path.basename(remote_path))\n",
    "print(os.path.dirname(remote_path))"
   ]
  },
  {
   "cell_type": "code",
   "execution_count": 10,
   "metadata": {
    "ExecuteTime": {
     "end_time": "2020-05-14T09:46:43.207089Z",
     "start_time": "2020-05-14T09:46:43.198697Z"
    }
   },
   "outputs": [
    {
     "data": {
      "text/plain": [
       "'dataset/a/b.jsp'"
      ]
     },
     "execution_count": 10,
     "metadata": {},
     "output_type": "execute_result"
    }
   ],
   "source": [
    "os.path.join('/a', 'b')\n",
    "\n",
    "bucket = 'data-platform'\n",
    "rfile = 'data-platform/dataset/a/b.jsp'\n",
    "rfile[len(bucket) + 1:]"
   ]
  }
 ],
 "metadata": {
  "kernelspec": {
   "display_name": "Python 3",
   "language": "python",
   "name": "python3"
  },
  "language_info": {
   "codemirror_mode": {
    "name": "ipython",
    "version": 3
   },
   "file_extension": ".py",
   "mimetype": "text/x-python",
   "name": "python",
   "nbconvert_exporter": "python",
   "pygments_lexer": "ipython3",
   "version": "3.6.9"
  }
 },
 "nbformat": 4,
 "nbformat_minor": 2
}
