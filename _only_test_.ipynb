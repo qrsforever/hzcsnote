{
 "cells": [
  {
   "cell_type": "code",
   "execution_count": 87,
   "metadata": {
    "ExecuteTime": {
     "end_time": "2021-04-30T10:09:49.307913Z",
     "start_time": "2021-04-30T10:09:49.007265Z"
    }
   },
   "outputs": [
    {
     "name": "stdout",
     "output_type": "stream",
     "text": [
      "CPython 3.6.9\n",
      "IPython 7.16.1\n",
      "\n",
      "numpy 1.19.4\n",
      "sklearn 0.24.0\n",
      "pandas 1.1.5\n",
      "CPython 3.6.9\n",
      "IPython 7.16.1\n",
      "\n",
      "cv2 4.5.1\n",
      "PIL 6.2.2\n",
      "matplotlib 3.3.3\n",
      "CPython 3.6.9\n",
      "IPython 7.16.1\n",
      "\n",
      "torch 1.8.0.dev20210103+cu101\n",
      "torchvision 0.9.0.dev20210103+cu101\n",
      "torchaudio not installed\n",
      "pytorch_lightning 1.2.0\n"
     ]
    },
    {
     "data": {
      "text/html": [
       "<style>.container { width:90% !important; }</style>"
      ],
      "text/plain": [
       "<IPython.core.display.HTML object>"
      ]
     },
     "metadata": {},
     "output_type": "display_data"
    }
   ],
   "source": [
    "%reload_ext watermark\n",
    "%reload_ext autoreload\n",
    "%autoreload 2\n",
    "%watermark -v -p numpy,sklearn,pandas\n",
    "%watermark -v -p cv2,PIL,matplotlib\n",
    "%watermark -v -p torch,torchvision,torchaudio,pytorch_lightning\n",
    "%matplotlib inline\n",
    "%config InlineBackend.figure_format='retina'\n",
    "%config IPCompleter.use_jedi = False\n",
    "\n",
    "\n",
    "from IPython.display import display, HTML\n",
    "display(HTML('<style>.container { width:%d%% !important; }</style>' % 90))"
   ]
  },
  {
   "cell_type": "code",
   "execution_count": 88,
   "metadata": {
    "ExecuteTime": {
     "end_time": "2021-04-30T10:09:49.388543Z",
     "start_time": "2021-04-30T10:09:49.310027Z"
    }
   },
   "outputs": [],
   "source": [
    "import torch\n",
    "import numpy as py\n",
    "from torch import nn\n",
    "\n",
    "from torch.nn import functional as F"
   ]
  },
  {
   "cell_type": "code",
   "execution_count": 89,
   "metadata": {
    "ExecuteTime": {
     "end_time": "2021-04-30T10:09:49.461469Z",
     "start_time": "2021-04-30T10:09:49.391194Z"
    }
   },
   "outputs": [],
   "source": [
    "# torch.Size([20, 512, 64, 7, 7])\n"
   ]
  },
  {
   "cell_type": "code",
   "execution_count": 90,
   "metadata": {
    "ExecuteTime": {
     "end_time": "2021-04-30T10:09:49.538640Z",
     "start_time": "2021-04-30T10:09:49.463665Z"
    }
   },
   "outputs": [
    {
     "name": "stdout",
     "output_type": "stream",
     "text": [
      "tensor([[-7.0698e-01,  1.4630e+00,  2.2404e-01,  1.2778e+00,  9.3863e-01,\n",
      "         -1.0775e+00, -9.1196e-02],\n",
      "        [ 1.2175e+00,  2.3973e+00,  6.3833e-01,  2.0186e+00,  4.7256e-01,\n",
      "          1.0317e+00, -3.0660e-01],\n",
      "        [ 1.1798e-01, -4.8614e-01, -4.7417e-01, -1.0714e-01,  7.7726e-01,\n",
      "          2.6627e-01, -6.9396e-01],\n",
      "        [ 9.7417e-01, -1.9320e+00, -7.7859e-01,  1.7791e-01,  8.5951e-01,\n",
      "          4.2497e-01,  1.2543e+00],\n",
      "        [-4.3450e-01,  6.9026e-01,  1.2539e+00,  1.6477e-01, -1.8509e-03,\n",
      "         -4.4215e-01, -1.4844e+00],\n",
      "        [-7.3668e-01, -9.7952e-01,  4.8097e-01, -1.0532e+00, -2.7018e-01,\n",
      "         -1.0188e+00,  7.9379e-01],\n",
      "        [ 1.5657e+00,  1.0586e+00, -2.6934e-02, -1.3509e+00,  2.7975e-01,\n",
      "          3.5562e-02,  4.3079e-01]]) torch.Size([1, 8, 3, 7, 7])\n"
     ]
    }
   ],
   "source": [
    "x_1 = torch.randn(1, 8, 3, 7, 7)\n",
    "print(x_1[0][0][0], x_1.shape)"
   ]
  },
  {
   "cell_type": "code",
   "execution_count": 91,
   "metadata": {
    "ExecuteTime": {
     "end_time": "2021-04-30T10:09:49.620937Z",
     "start_time": "2021-04-30T10:09:49.540831Z"
    }
   },
   "outputs": [
    {
     "name": "stdout",
     "output_type": "stream",
     "text": [
      "tensor([2.3973, 2.0273, 1.7461]) torch.Size([1, 8, 3])\n"
     ]
    }
   ],
   "source": [
    "x, y = torch.max(x_1, dim=3)\n",
    "# print(x[0][0][0], x.shape)\n",
    "x, y = torch.max(x, dim=3)\n",
    "print(x[0][0], x.shape)"
   ]
  },
  {
   "cell_type": "code",
   "execution_count": 92,
   "metadata": {
    "ExecuteTime": {
     "end_time": "2021-04-30T10:09:49.705990Z",
     "start_time": "2021-04-30T10:09:49.623270Z"
    }
   },
   "outputs": [
    {
     "name": "stdout",
     "output_type": "stream",
     "text": [
      "tensor([[[2.3973]],\n",
      "\n",
      "        [[2.0273]],\n",
      "\n",
      "        [[1.7461]]]) torch.Size([1, 8, 3, 1, 1])\n"
     ]
    }
   ],
   "source": [
    "m = nn.AdaptiveMaxPool3d((3,1,1))\n",
    "output = m(x_1)\n",
    "print(output[0][0], output.shape)"
   ]
  },
  {
   "cell_type": "code",
   "execution_count": 98,
   "metadata": {
    "ExecuteTime": {
     "end_time": "2021-04-30T10:12:13.869922Z",
     "start_time": "2021-04-30T10:12:13.783296Z"
    }
   },
   "outputs": [
    {
     "name": "stdout",
     "output_type": "stream",
     "text": [
      "tensor([2.3973, 2.0273, 1.7461]) torch.Size([1, 8, 3])\n"
     ]
    },
    {
     "data": {
      "text/plain": [
       "torch.Size([8, 3])"
      ]
     },
     "execution_count": 98,
     "metadata": {},
     "output_type": "execute_result"
    }
   ],
   "source": [
    "output = F.adaptive_max_pool3d(x_1, (3, 1, 1)).reshape(1, 8, 3)\n",
    "print(output[0][0], output.shape)"
   ]
  },
  {
   "cell_type": "code",
   "execution_count": 103,
   "metadata": {
    "ExecuteTime": {
     "end_time": "2021-05-07T15:56:00.117499Z",
     "start_time": "2021-05-07T15:56:00.025337Z"
    }
   },
   "outputs": [
    {
     "data": {
      "text/plain": [
       "0.2784630599733191"
      ]
     },
     "execution_count": 103,
     "metadata": {},
     "output_type": "execute_result"
    }
   ],
   "source": [
    "import random\n",
    "random.random()"
   ]
  },
  {
   "cell_type": "code",
   "execution_count": 1,
   "metadata": {
    "ExecuteTime": {
     "end_time": "2021-05-25T03:30:23.405326Z",
     "start_time": "2021-05-25T03:30:23.395029Z"
    }
   },
   "outputs": [],
   "source": [
    "fff = 10"
   ]
  },
  {
   "cell_type": "code",
   "execution_count": 2,
   "metadata": {
    "ExecuteTime": {
     "end_time": "2021-05-25T03:30:25.191038Z",
     "start_time": "2021-05-25T03:30:25.179434Z"
    }
   },
   "outputs": [
    {
     "data": {
      "text/plain": [
       "10"
      ]
     },
     "execution_count": 2,
     "metadata": {},
     "output_type": "execute_result"
    }
   ],
   "source": [
    "fff"
   ]
  },
  {
   "cell_type": "markdown",
   "metadata": {},
   "source": [
    "```json\n",
    "\n",
    "{\n",
    "  'a'\n",
    "}\n",
    "\n",
    "```"
   ]
  },
  {
   "cell_type": "code",
   "execution_count": null,
   "metadata": {},
   "outputs": [],
   "source": []
  }
 ],
 "metadata": {
  "hide_input": false,
  "kernelspec": {
   "display_name": "Python 3",
   "language": "python",
   "name": "python3"
  },
  "language_info": {
   "codemirror_mode": {
    "name": "ipython",
    "version": 3
   },
   "file_extension": ".py",
   "mimetype": "text/x-python",
   "name": "python",
   "nbconvert_exporter": "python",
   "pygments_lexer": "ipython3",
   "version": "3.6.9"
  },
  "toc": {
   "base_numbering": 1,
   "nav_menu": {},
   "number_sections": true,
   "sideBar": true,
   "skip_h1_title": true,
   "title_cell": "",
   "title_sidebar": "Contents",
   "toc_cell": false,
   "toc_position": {},
   "toc_section_display": true,
   "toc_window_display": false
  }
 },
 "nbformat": 4,
 "nbformat_minor": 2
}
