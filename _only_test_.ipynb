{
 "cells": [
  {
   "cell_type": "code",
   "execution_count": 13,
   "metadata": {
    "ExecuteTime": {
     "end_time": "2021-08-06T02:49:16.788409Z",
     "start_time": "2021-08-06T02:49:15.959216Z"
    }
   },
   "outputs": [
    {
     "name": "stdout",
     "output_type": "stream",
     "text": [
      "CPython 3.6.9\n",
      "IPython 7.16.1\n",
      "\n",
      "numpy 1.19.4\n",
      "sklearn 0.24.0\n",
      "pandas 1.1.5\n",
      "CPython 3.6.9\n",
      "IPython 7.16.1\n",
      "\n",
      "cv2 4.5.1\n",
      "PIL 6.2.2\n",
      "matplotlib 3.3.3\n",
      "CPython 3.6.9\n",
      "IPython 7.16.1\n",
      "\n",
      "torch 1.8.0.dev20210103+cu101\n",
      "torchvision 0.9.0.dev20210103+cu101\n",
      "torchaudio not installed\n"
     ]
    },
    {
     "data": {
      "text/html": [
       "<style>.container { width:80% !important; }</style>"
      ],
      "text/plain": [
       "<IPython.core.display.HTML object>"
      ]
     },
     "metadata": {},
     "output_type": "display_data"
    }
   ],
   "source": [
    "%reload_ext watermark\n",
    "%reload_ext autoreload\n",
    "%autoreload 2\n",
    "%watermark -v -p numpy,sklearn,pandas\n",
    "%watermark -v -p cv2,PIL,matplotlib\n",
    "%watermark -v -p torch,torchvision,torchaudio\n",
    "%matplotlib inline\n",
    "%config InlineBackend.figure_format='retina'\n",
    "%config IPCompleter.use_jedi = False\n",
    "\n",
    "from IPython.display import display, Markdown, HTML, Javascript\n",
    "display(HTML('<style>.container { width:%d%% !important; }</style>' % 80))\n",
    "\n",
    "import sys, os, io, time, random, math\n",
    "import json, base64, requests\n",
    "import os.path as osp\n",
    "\n",
    "def _IMPORT_(x):\n",
    "    try:\n",
    "        segs = x.split(' ')\n",
    "        g = globals()\n",
    "        if 'github.com' in segs[1]:\n",
    "            uri = segs[1].replace('github.com', 'raw.githubusercontent.com')\n",
    "            mod = uri.split('/')\n",
    "            uri = 'https://' + '/'.join(mod[:-1]) + '/main/' + mod[-1] + '.py'\n",
    "            x = requests.get(uri).text\n",
    "        elif 'gitee.com' in segs[1]:\n",
    "            mod = segs[1].split('/')\n",
    "            uri = 'https://' + '/'.join(mod[:-1]) + '/raw/main/' + mod[-1] + '.py'\n",
    "            x = requests.get(uri).text\n",
    "        elif segs[1][0] == '/':\n",
    "            with open(segs[1] + '.py') as fr:\n",
    "                x = fr.read()\n",
    "        exec(x, g)\n",
    "    except:\n",
    "        pass\n",
    "    \n",
    "\n",
    "def print_progress_bar(x):\n",
    "    print('\\r', end='')\n",
    "    print('Progress: {}%:'.format(x), '%s%s' % ('▋'*(x//2), '.'*((100-x)//2)), end='')\n",
    "    sys.stdout.flush()\n",
    "\n",
    "def img2b64(x):\n",
    "    if isinstance(x, bytes):\n",
    "        return base64.b64encode(x).decode()\n",
    "    elif isinstance(x, str):\n",
    "        with open(x, 'rb') as fr:\n",
    "            return base64.b64encode(fr.read()).decode()\n",
    "    raise\n",
    "\n",
    "###\n",
    "### Common ###\n",
    "###\n",
    "\n",
    "_IMPORT_('import numpy as np')\n",
    "_IMPORT_('import pandas as pd')\n",
    "_IMPORT_('from tqdm.notebook import tqdm')\n"
   ]
  },
  {
   "cell_type": "code",
   "execution_count": 74,
   "metadata": {
    "ExecuteTime": {
     "end_time": "2021-08-06T13:51:50.278710Z",
     "start_time": "2021-08-06T13:51:50.168341Z"
    }
   },
   "outputs": [],
   "source": [
    "a = { 'a': {'c': [12,2]}, 'b': 20}"
   ]
  },
  {
   "cell_type": "code",
   "execution_count": 79,
   "metadata": {
    "ExecuteTime": {
     "end_time": "2021-08-06T13:52:34.270102Z",
     "start_time": "2021-08-06T13:52:34.159391Z"
    }
   },
   "outputs": [
    {
     "data": {
      "text/plain": [
       "(10, 20)"
      ]
     },
     "execution_count": 79,
     "metadata": {},
     "output_type": "execute_result"
    }
   ],
   "source": [
    "a = [10, (10, 20), (20, 30)]\n",
    "a[1]"
   ]
  },
  {
   "cell_type": "code",
   "execution_count": 69,
   "metadata": {
    "ExecuteTime": {
     "end_time": "2021-08-06T13:48:26.239141Z",
     "start_time": "2021-08-06T13:48:26.119874Z"
    }
   },
   "outputs": [
    {
     "data": {
      "text/plain": [
       "{'b': 20}"
      ]
     },
     "execution_count": 69,
     "metadata": {},
     "output_type": "execute_result"
    }
   ],
   "source": [
    "a"
   ]
  },
  {
   "cell_type": "code",
   "execution_count": 59,
   "metadata": {
    "ExecuteTime": {
     "end_time": "2021-08-06T03:37:45.496368Z",
     "start_time": "2021-08-06T03:37:45.378457Z"
    }
   },
   "outputs": [
    {
     "data": {
      "text/plain": [
       "11"
      ]
     },
     "execution_count": 59,
     "metadata": {},
     "output_type": "execute_result"
    }
   ],
   "source": [
    "int(np.clip(10, 11, 20))"
   ]
  },
  {
   "cell_type": "code",
   "execution_count": 60,
   "metadata": {
    "ExecuteTime": {
     "end_time": "2021-08-06T03:44:46.271194Z",
     "start_time": "2021-08-06T03:44:46.152323Z"
    }
   },
   "outputs": [],
   "source": [
    "x = "
   ]
  },
  {
   "cell_type": "code",
   "execution_count": 66,
   "metadata": {
    "ExecuteTime": {
     "end_time": "2021-08-06T03:46:22.953244Z",
     "start_time": "2021-08-06T03:46:22.828454Z"
    }
   },
   "outputs": [
    {
     "data": {
      "text/plain": [
       "30"
      ]
     },
     "execution_count": 66,
     "metadata": {},
     "output_type": "execute_result"
    }
   ],
   "source": [
    "min(max(0, 31), 30)"
   ]
  },
  {
   "cell_type": "code",
   "execution_count": 35,
   "metadata": {
    "ExecuteTime": {
     "end_time": "2021-08-06T03:05:19.046484Z",
     "start_time": "2021-08-06T03:05:18.925035Z"
    }
   },
   "outputs": [
    {
     "data": {
      "text/plain": [
       "array([[0, 1, 2],\n",
       "       [1, 2, 3],\n",
       "       [5, 4, 3]])"
      ]
     },
     "execution_count": 35,
     "metadata": {},
     "output_type": "execute_result"
    }
   ],
   "source": [
    "b = a[a[:, 1].argsort()]\n",
    "b"
   ]
  },
  {
   "cell_type": "code",
   "execution_count": 51,
   "metadata": {
    "ExecuteTime": {
     "end_time": "2021-08-06T03:09:14.827370Z",
     "start_time": "2021-08-06T03:09:14.676928Z"
    }
   },
   "outputs": [
    {
     "data": {
      "text/plain": [
       "array([[0, 1, 2],\n",
       "       [1, 2, 3],\n",
       "       [5, 4, 3]])"
      ]
     },
     "execution_count": 51,
     "metadata": {},
     "output_type": "execute_result"
    }
   ],
   "source": [
    "c = np.array([[0,1,2],[1,2,3], [5,4,3]])\n",
    "c"
   ]
  },
  {
   "cell_type": "code",
   "execution_count": 52,
   "metadata": {
    "ExecuteTime": {
     "end_time": "2021-08-06T03:09:24.274996Z",
     "start_time": "2021-08-06T03:09:24.121037Z"
    }
   },
   "outputs": [
    {
     "name": "stdout",
     "output_type": "stream",
     "text": [
      "[5 4 3]\n",
      "[1 2 3]\n",
      "[0 1 2]\n"
     ]
    }
   ],
   "source": [
    "for x in reversed(c):\n",
    "    print(x)"
   ]
  },
  {
   "cell_type": "code",
   "execution_count": 46,
   "metadata": {
    "ExecuteTime": {
     "end_time": "2021-08-06T03:08:02.653954Z",
     "start_time": "2021-08-06T03:08:02.540062Z"
    }
   },
   "outputs": [
    {
     "name": "stdout",
     "output_type": "stream",
     "text": [
      "[0 1 2]\n",
      "[1 2 3]\n",
      "[5 4 3]\n"
     ]
    }
   ],
   "source": [
    "for x in b:\n",
    "    print(x)"
   ]
  },
  {
   "cell_type": "code",
   "execution_count": 41,
   "metadata": {
    "ExecuteTime": {
     "end_time": "2021-08-06T03:06:48.580297Z",
     "start_time": "2021-08-06T03:06:48.462493Z"
    }
   },
   "outputs": [
    {
     "name": "stdout",
     "output_type": "stream",
     "text": [
      "[5 4 3]\n",
      "[1 2 3]\n",
      "[0 1 2]\n"
     ]
    }
   ],
   "source": [
    "for x in reversed(a[a[:, 1].argsort()]):\n",
    "    print(x)"
   ]
  },
  {
   "cell_type": "code",
   "execution_count": 43,
   "metadata": {
    "ExecuteTime": {
     "end_time": "2021-08-06T03:07:03.233297Z",
     "start_time": "2021-08-06T03:07:03.047607Z"
    }
   },
   "outputs": [
    {
     "name": "stdout",
     "output_type": "stream",
     "text": [
      "[0 1 2]\n",
      "[1 2 3]\n",
      "[5 4 3]\n"
     ]
    }
   ],
   "source": [
    "for x in a[a[:, 1].argsort()]:\n",
    "    print(x)"
   ]
  },
  {
   "cell_type": "code",
   "execution_count": 1,
   "metadata": {
    "ExecuteTime": {
     "end_time": "2021-08-03T13:08:01.836041Z",
     "start_time": "2021-08-03T13:08:01.758842Z"
    },
    "scrolled": true
   },
   "outputs": [
    {
     "data": {
      "application/vnd.jupyter.widget-view+json": {
       "model_id": "ed4ca7a02ca4471d9092af710086448e",
       "version_major": 2,
       "version_minor": 0
      },
      "text/plain": [
       "BytesText(value='a')"
      ]
     },
     "metadata": {},
     "output_type": "display_data"
    },
    {
     "data": {
      "application/vnd.jupyter.widget-view+json": {
       "model_id": "f9fd13e71bbf43b6a86358d964d867b4",
       "version_major": 2,
       "version_minor": 0
      },
      "text/plain": [
       "Video(value=b'', format='url')"
      ]
     },
     "metadata": {},
     "output_type": "display_data"
    }
   ],
   "source": [
    "from ipywidgets import RadioButtons, Text, Select, Dropdown, jslink, interactive, interact\n",
    "from ipywidgets.widgets.widget import Widget, register, widget_serialization\n",
    "from ipywidgets.widgets.widget_core import CoreWidget\n",
    "from IPython.display import  display\n",
    "import ipywidgets as widgets\n",
    "# from ipywidgets.trait_types import CByteMemoryView         \n",
    "\n",
    "\n",
    "from traitlets import CBytes, Unicode, Tuple, Instance, TraitError\n",
    "\n",
    "Dropdown.value.tag(sync=True)\n",
    "\n",
    "selection = Dropdown(options=[\n",
    "    ('1', 'https://raceai.s3.didiyunapi.com/data/media/videos/repnet/20210720143047.mp4'),\n",
    "    ('2', 'https://raceai.s3.didiyunapi.com/data/media/videos/repnet/20210720143047.mp4'),\n",
    "    ('3', 'https://raceai.s3.didiyunapi.com/data/media/videos/repnet/20210720143047.mp4')])\n",
    "\n",
    "class BytesText(Text):\n",
    "    bvalue = CBytes(help=\"Bytes value\").tag(sync=True)       \n",
    "\n",
    "text = BytesText(value='a')\n",
    "# l = jslink((text, 'value'), (selection, 'value'))\n",
    "def test(a):\n",
    "    print(a)\n",
    "    \n",
    "def observe_test(wdg):\n",
    "    print(wdg)\n",
    "    wdg['owner'].bvalue = wdg['new'].encode('utf-8')\n",
    "    \n",
    "o = text.observe(observe_test, 'value')\n",
    "    \n",
    "# interact(test, a=text);\n",
    "\n",
    "video = widgets.Video(format='url')\n",
    "\n",
    "l = jslink((text, 'bvalue'), (video, 'value'))\n",
    "\n",
    "# display(selection, video)\n",
    "display(text, video)"
   ]
  }
 ],
 "metadata": {
  "hide_input": false,
  "kernelspec": {
   "display_name": "Python 3",
   "language": "python",
   "name": "python3"
  },
  "language_info": {
   "codemirror_mode": {
    "name": "ipython",
    "version": 3
   },
   "file_extension": ".py",
   "mimetype": "text/x-python",
   "name": "python",
   "nbconvert_exporter": "python",
   "pygments_lexer": "ipython3",
   "version": "3.6.9"
  },
  "toc": {
   "base_numbering": 1,
   "nav_menu": {},
   "number_sections": true,
   "sideBar": true,
   "skip_h1_title": true,
   "title_cell": "",
   "title_sidebar": "Contents",
   "toc_cell": false,
   "toc_position": {},
   "toc_section_display": true,
   "toc_window_display": false
  }
 },
 "nbformat": 4,
 "nbformat_minor": 2
}
