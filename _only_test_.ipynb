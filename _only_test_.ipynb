{
 "cells": [
  {
   "cell_type": "code",
   "execution_count": 2,
   "metadata": {
    "ExecuteTime": {
     "end_time": "2021-05-31T03:04:42.010157Z",
     "start_time": "2021-05-31T03:04:39.619571Z"
    }
   },
   "outputs": [
    {
     "name": "stdout",
     "output_type": "stream",
     "text": [
      "CPython 3.6.9\n",
      "IPython 7.16.1\n",
      "\n",
      "numpy 1.18.5\n",
      "sklearn 0.24.0\n",
      "pandas 1.1.5\n",
      "CPython 3.6.9\n",
      "IPython 7.16.1\n",
      "\n",
      "cv2 4.5.1\n",
      "PIL 6.2.2\n",
      "matplotlib 3.3.3\n",
      "CPython 3.6.9\n",
      "IPython 7.16.1\n",
      "\n",
      "torch 1.8.0.dev20210103+cu101\n",
      "torchvision 0.9.0.dev20210103+cu101\n",
      "torchaudio not installed\n",
      "pytorch_lightning 1.2.0\n"
     ]
    },
    {
     "data": {
      "text/html": [
       "<style>.container { width:90% !important; }</style>"
      ],
      "text/plain": [
       "<IPython.core.display.HTML object>"
      ]
     },
     "metadata": {},
     "output_type": "display_data"
    }
   ],
   "source": [
    "%reload_ext watermark\n",
    "%reload_ext autoreload\n",
    "%autoreload 2\n",
    "%watermark -v -p numpy,sklearn,pandas\n",
    "%watermark -v -p cv2,PIL,matplotlib\n",
    "%watermark -v -p torch,torchvision,torchaudio,pytorch_lightning\n",
    "%matplotlib inline\n",
    "%config InlineBackend.figure_format='retina'\n",
    "%config IPCompleter.use_jedi = False\n",
    "\n",
    "\n",
    "from IPython.display import display, HTML\n",
    "display(HTML('<style>.container { width:%d%% !important; }</style>' % 90))"
   ]
  },
  {
   "cell_type": "code",
   "execution_count": 3,
   "metadata": {
    "ExecuteTime": {
     "end_time": "2021-05-31T03:04:43.341499Z",
     "start_time": "2021-05-31T03:04:43.301280Z"
    }
   },
   "outputs": [],
   "source": [
    "import torch\n",
    "import numpy as py\n",
    "from torch import nn\n",
    "\n",
    "from torch.nn import functional as F"
   ]
  },
  {
   "cell_type": "code",
   "execution_count": 91,
   "metadata": {
    "ExecuteTime": {
     "end_time": "2021-04-30T10:09:49.620937Z",
     "start_time": "2021-04-30T10:09:49.540831Z"
    }
   },
   "outputs": [
    {
     "name": "stdout",
     "output_type": "stream",
     "text": [
      "tensor([2.3973, 2.0273, 1.7461]) torch.Size([1, 8, 3])\n"
     ]
    }
   ],
   "source": [
    "x, y = torch.max(x_1, dim=3)\n",
    "# print(x[0][0][0], x.shape)\n",
    "x, y = torch.max(x, dim=3)\n",
    "print(x[0][0], x.shape)"
   ]
  },
  {
   "cell_type": "code",
   "execution_count": 25,
   "metadata": {
    "ExecuteTime": {
     "end_time": "2021-06-01T07:35:54.100420Z",
     "start_time": "2021-06-01T07:35:54.013446Z"
    }
   },
   "outputs": [],
   "source": [
    "import torch\n",
    "a  = torch.empty(1, 64, 1).normal_(mean=0, std=0.02)"
   ]
  },
  {
   "cell_type": "code",
   "execution_count": 1,
   "metadata": {
    "ExecuteTime": {
     "end_time": "2021-05-31T03:04:28.589807Z",
     "start_time": "2021-05-31T03:04:27.936627Z"
    }
   },
   "outputs": [],
   "source": [
    "import torch"
   ]
  },
  {
   "cell_type": "code",
   "execution_count": 15,
   "metadata": {
    "ExecuteTime": {
     "end_time": "2021-05-31T03:06:35.157432Z",
     "start_time": "2021-05-31T03:06:35.114947Z"
    }
   },
   "outputs": [
    {
     "data": {
      "text/plain": [
       "tensor([[[17,  5, 14, 64],\n",
       "         [20, 79, 97, 70],\n",
       "         [58, 68, 36, 90]],\n",
       "\n",
       "        [[26, 94, 29,  3],\n",
       "         [44, 20, 87, 36],\n",
       "         [16, 39, 90, 96]]])"
      ]
     },
     "execution_count": 15,
     "metadata": {},
     "output_type": "execute_result"
    }
   ],
   "source": [
    "a = torch.randint(low=0, high=100, size=(2, 3, 4))\n",
    "a"
   ]
  },
  {
   "cell_type": "code",
   "execution_count": 17,
   "metadata": {
    "ExecuteTime": {
     "end_time": "2021-05-31T03:07:43.934894Z",
     "start_time": "2021-05-31T03:07:43.892712Z"
    }
   },
   "outputs": [
    {
     "data": {
      "text/plain": [
       "tensor([[[17,  5, 14, 64],\n",
       "         [20, 79, 97, 70],\n",
       "         [58, 68, 36, 90]],\n",
       "\n",
       "        [[26, 94, 29,  3],\n",
       "         [44, 20, 87, 36],\n",
       "         [16, 39, 90, 96]]])"
      ]
     },
     "execution_count": 17,
     "metadata": {},
     "output_type": "execute_result"
    }
   ],
   "source": [
    "a.view(-1, 4).view(2, 3, 4)"
   ]
  },
  {
   "cell_type": "code",
   "execution_count": 24,
   "metadata": {
    "ExecuteTime": {
     "end_time": "2021-06-01T07:35:33.490143Z",
     "start_time": "2021-06-01T07:35:33.340704Z"
    }
   },
   "outputs": [
    {
     "ename": "TypeError",
     "evalue": "expected Float (got Long)",
     "output_type": "error",
     "traceback": [
      "\u001b[0;31m\u001b[0m",
      "\u001b[0;31mTypeError\u001b[0mTraceback (most recent call last)",
      "\u001b[0;32m<ipython-input-24-b5006523ce7b>\u001b[0m in \u001b[0;36m<module>\u001b[0;34m\u001b[0m\n\u001b[0;32m----> 1\u001b[0;31m \u001b[0mb\u001b[0m \u001b[0;34m=\u001b[0m \u001b[0mtorch\u001b[0m\u001b[0;34m.\u001b[0m\u001b[0mFloatTensor\u001b[0m\u001b[0;34m(\u001b[0m\u001b[0ma\u001b[0m\u001b[0;34m)\u001b[0m\u001b[0;34m\u001b[0m\u001b[0;34m\u001b[0m\u001b[0m\n\u001b[0m",
      "\u001b[0;31mTypeError\u001b[0m: expected Float (got Long)"
     ]
    }
   ],
   "source": [
    "b = torch.FloatTensor(a)"
   ]
  },
  {
   "cell_type": "code",
   "execution_count": 40,
   "metadata": {
    "ExecuteTime": {
     "end_time": "2021-06-01T07:41:55.789752Z",
     "start_time": "2021-06-01T07:41:55.697814Z"
    }
   },
   "outputs": [
    {
     "data": {
      "text/plain": [
       "tensor([0.9458, 0.4751, 0.5290, 0.6003, 0.3570, 0.5608, 0.1706, 0.1137, 0.6722,\n",
       "        0.4103])"
      ]
     },
     "execution_count": 40,
     "metadata": {},
     "output_type": "execute_result"
    }
   ],
   "source": [
    "a = torch.rand((10, ))\n",
    "a"
   ]
  },
  {
   "cell_type": "code",
   "execution_count": 41,
   "metadata": {
    "ExecuteTime": {
     "end_time": "2021-06-01T07:41:56.458034Z",
     "start_time": "2021-06-01T07:41:56.367709Z"
    }
   },
   "outputs": [
    {
     "data": {
      "text/plain": [
       "tensor([0.9458, 0.4751, 0.5290, 0.6003, 0.3570, 0.5608, 0.1706, 0.1137, 0.6722,\n",
       "        0.4103])"
      ]
     },
     "execution_count": 41,
     "metadata": {},
     "output_type": "execute_result"
    }
   ],
   "source": [
    "a"
   ]
  },
  {
   "cell_type": "code",
   "execution_count": 42,
   "metadata": {
    "ExecuteTime": {
     "end_time": "2021-06-01T07:41:57.563460Z",
     "start_time": "2021-06-01T07:41:57.468172Z"
    }
   },
   "outputs": [
    {
     "data": {
      "text/plain": [
       "(tensor([0.9458, 0.4751, 0.5290, 0.6003, 0.3570, 0.5608, 0.1706, 0.1137, 0.6722,\n",
       "         0.4103]),\n",
       " tensor([1.8915, 0.9503, 0.0000, 0.0000, 0.7140, 0.0000, 0.0000, 0.0000, 0.0000,\n",
       "         0.0000]))"
      ]
     },
     "execution_count": 42,
     "metadata": {},
     "output_type": "execute_result"
    }
   ],
   "source": [
    "b = torch.nn.functional.dropout(a, p=0.5, inplace=False) \n",
    "a, b"
   ]
  }
 ],
 "metadata": {
  "hide_input": false,
  "kernelspec": {
   "display_name": "Python 3",
   "language": "python",
   "name": "python3"
  },
  "language_info": {
   "codemirror_mode": {
    "name": "ipython",
    "version": 3
   },
   "file_extension": ".py",
   "mimetype": "text/x-python",
   "name": "python",
   "nbconvert_exporter": "python",
   "pygments_lexer": "ipython3",
   "version": "3.6.9"
  },
  "toc": {
   "base_numbering": 1,
   "nav_menu": {},
   "number_sections": true,
   "sideBar": true,
   "skip_h1_title": true,
   "title_cell": "",
   "title_sidebar": "Contents",
   "toc_cell": false,
   "toc_position": {},
   "toc_section_display": true,
   "toc_window_display": false
  }
 },
 "nbformat": 4,
 "nbformat_minor": 2
}
