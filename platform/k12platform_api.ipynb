{
 "cells": [
  {
   "cell_type": "markdown",
   "metadata": {},
   "source": [
    "# <div align=\"center\"> 平台 API 测试</div>"
   ]
  },
  {
   "cell_type": "code",
   "execution_count": 2,
   "metadata": {},
   "outputs": [],
   "source": [
    "from IPython.display import Markdown as md\n",
    "import requests\n",
    "import json\n",
    "import consul\n",
    "import time\n",
    "import socket"
   ]
  },
  {
   "cell_type": "code",
   "execution_count": 3,
   "metadata": {},
   "outputs": [],
   "source": [
    "consul_addr = !echo $(curl -s http://txt.go.sohu.com/ip/soip)| grep -P -o -i \"(\\d+\\.\\d+.\\d+.\\d+)\"\n",
    "consul_port = 8500\n",
    "consul_addr = consul_addr[0]"
   ]
  },
  {
   "cell_type": "code",
   "execution_count": 4,
   "metadata": {},
   "outputs": [],
   "source": [
    "# 获取本机器IP\n",
    "def get_host_ip():\n",
    "    ip=''\n",
    "    try:\n",
    "        s = socket.socket(socket.AF_INET,socket.SOCK_DGRAM)\n",
    "        s.connect(('8.8.8.8',80))\n",
    "        ip = s.getsockname()[0]\n",
    "        s.close()\n",
    "    except Exception as err:\n",
    "        print(err)\n",
    "    return ip\n",
    "\n",
    "# API异步接口将过程中产出的数据同步到consul数据中心, 调用该接口可从中心获取数据 (数据中心仅供开发使用)\n",
    "def query_async_data(key, wait = 1):\n",
    "    time.sleep(wait)\n",
    "    try:\n",
    "        client = consul.Consul(consul_addr, consul_port)\n",
    "        _, data = client.kv.get(key)\n",
    "        return str(data['Value'], encoding=\"utf-8\")\n",
    "    except:\n",
    "        return 'Query nothing, try again later!'\n",
    "    \n",
    "# 格式化打印json字符串\n",
    "def print_json(text):\n",
    "    if isinstance(text, str):\n",
    "        print(json.dumps(json.loads(text), indent=4))\n",
    "    else:\n",
    "        print(json.dumps(text, indent=4))"
   ]
  },
  {
   "cell_type": "code",
   "execution_count": 5,
   "metadata": {},
   "outputs": [],
   "source": [
    "host = get_host_ip()\n",
    "port = 8119\n",
    "\n",
    "user = 'test'\n",
    "uuid = '123456'"
   ]
  },
  {
   "cell_type": "markdown",
   "metadata": {},
   "source": [
    "## 1. 平台状态`/k12ai/platform/stats`\n"
   ]
  },
  {
   "cell_type": "markdown",
   "metadata": {
    "variables": {
     "op": "<p><strong>NameError</strong>: name &#39;op&#39; is not defined</p>\n",
     "tag": "<p><strong>NameError</strong>: name &#39;tag&#39; is not defined</p>\n"
    }
   },
   "source": [
    "A. 输入\n",
    "\n",
    "```json\n",
    "{\n",
    "    \"username\": \"test\",  // [M] 登陆平台用户名 (未使用)\n",
    "    \"password\": \"test\",  // [M] 登陆平台用户密码 (未使用)\n",
    "    \"async\": true,  // [O] 默认同步, 即值为false, api调用过程方式\n",
    "    \"query\": {  //  [O] 默认query所有项\n",
    "        \"cpus\": true, // [O] k12ai主机cpu信息 \n",
    "        \"gpus\": true, // [O] k12ai主机gpu信息\n",
    "        \"disks\": false, // [O] k12ai主机磁盘信息\n",
    "        \"containers\": true // [O] k12ai主机上正在运行的label为\"k12ai.service.name\"的container信息\n",
    "    }\n",
    "}\n",
    "```\n",
    "\n",
    "B. 输出\n",
    "\n",
    "```json\n",
    "{\n",
    "    \"version\": \"0.1.0\", // [M] 返回json格式的版本号, 兼容版本时使用\n",
    "    \"type: \"info\",\n",
    "    \"tag\": \"platform\", // [M] 标识输出结果的服务TAG, 可以用来后续消息过滤 \n",
    "    \"op\": \"stats\", // [M] 标识输出结果由哪个功能产出, 一般统一为\"/k12ai/{{tag}}/{{op}}\"的形式\n",
    "    \"timestamp\": , // [M]\n",
    "    \"datetime\": , // [M]\n",
    "    \"info\": { // [M] 输出结果的正文内容\n",
    "        \"cpu_percent\": 47.4,  // [C] k12ai主机cpu使用率, 不区分多cpu \n",
    "        \"cpu_percent_list\": [ // [C] k12ai主机cpu使用率, 每个cpu的使用率\n",
    "            63.6,\n",
    "            31.1\n",
    "        ],\n",
    "        \"cpu_memory_total\":, // [C] k12ai主机memory总大小(Byte)\n",
    "        \"cpu_memory_usage\":, // [C] k12ai主机memory已使用(Byte)\n",
    "        \"cpu_memory_percent\": , // [C] k12ai主机memory使用率\n",
    "        \"gpus\": [  // [C] k12ai主机gpu信息, 每个gpu信息列表\n",
    "            {\n",
    "                \"name\": \"\", // [C] gpu名字, 厂商\n",
    "                \"gpu_percent\": , // [C] gpu使用率\n",
    "                \"gpu_memory_total\": , // [C] gpu显存总大小(Byte)\n",
    "                \"gpu_memory_usage\": , // [C] gpu显存已使用(Byte)\n",
    "                \"gpu_memory_percent\": // [C] gpu显存使用率\n",
    "            }\n",
    "        ],\n",
    "        \"containers\": [ // k12ai主机正在运行的关于训练相关的container信息\n",
    "            {\n",
    "                \"id\": \"\", // container的ID\n",
    "                \"cpu_percent\": , // container的cpu使用率\n",
    "                \"cpu_memory_total\":,  // container的memory总大小\n",
    "                \"cpu_memory_usage\":,  // container的memory已使用\n",
    "                \"cpu_memory_percent\":, // container的memory利用率\n",
    "                \"op\": \"\",  // container正在执行的操作,如:\"train.start\", \"predict.start\"等\n",
    "                \"user\": \"\", // container用户ID\n",
    "                \"service_uuid\": \"\" // container执行的任务/服务ID.\n",
    "            }\n",
    "        ]\n",
    "    }\n",
    "}\n",
    "```"
   ]
  },
  {
   "cell_type": "code",
   "execution_count": 8,
   "metadata": {},
   "outputs": [
    {
     "name": "stdout",
     "output_type": "stream",
     "text": [
      "{\n",
      "    \"code\": 100200,\n",
      "    \"descr\": \"task service success\",\n",
      "    \"message\": {\n",
      "        \"cpu_percent\": 6.6,\n",
      "        \"cpu_percent_list\": [\n",
      "            6.2,\n",
      "            5.7,\n",
      "            6.2,\n",
      "            6.7,\n",
      "            6.6,\n",
      "            7.4,\n",
      "            6.8,\n",
      "            7.5\n",
      "        ],\n",
      "        \"cpu_memory_total\": 50648887296,\n",
      "        \"cpu_memory_usage\": 3674685440,\n",
      "        \"cpu_memory_percent\": 8.7,\n",
      "        \"gpus\": [\n",
      "            {\n",
      "                \"name\": \"Tesla P40\",\n",
      "                \"gpu_percent\": 92.0,\n",
      "                \"gpu_memory_total\": 22919.0,\n",
      "                \"gpu_memory_usage\": 4443.0,\n",
      "                \"gpu_memory_percent\": 19.39\n",
      "            }\n",
      "        ],\n",
      "        \"containers\": [\n",
      "            {\n",
      "                \"id\": \"99558f81bc3b\",\n",
      "                \"cpu_percent\": 180.25,\n",
      "                \"cpu_memory_total\": 50648887296,\n",
      "                \"cpu_memory_usage\": 2470383616,\n",
      "                \"cpu_memory_percent\": 4.88,\n",
      "                \"op\": \"train\",\n",
      "                \"user\": \"test\",\n",
      "                \"service_uuid\": \"vgg300_ssd_voc\"\n",
      "            }\n",
      "        ]\n",
      "    }\n",
      "}\n"
     ]
    }
   ],
   "source": [
    "data = '''{\n",
    "    \"username\": \"test\",\n",
    "    \"password\": \"test\",\n",
    "    \"async\": false,\n",
    "    \"query\": {\n",
    "        \"cpus\": true,\n",
    "        \"gpus\": true,\n",
    "        \"disks\": false,\n",
    "        \"containers\": true\n",
    "    }\n",
    "}'''\n",
    "\n",
    "api = 'http://%s:%d/k12ai/platform/stats' % (host, port)\n",
    "print_json(requests.post(url=api, json=json.loads(data)).text)"
   ]
  },
  {
   "cell_type": "code",
   "execution_count": 7,
   "metadata": {},
   "outputs": [
    {
     "data": {
      "text/markdown": [
       "[异步操作Consul平台结果](http://116.85.5.40:8500/ui/k12ai/kv/platform/admin/stats/info/edit)"
      ],
      "text/plain": [
       "<IPython.core.display.Markdown object>"
      ]
     },
     "execution_count": 7,
     "metadata": {},
     "output_type": "execute_result"
    }
   ],
   "source": [
    "md(\"[异步操作Consul平台结果](http://{}:8500/ui/k12ai/kv/platform/admin/stats/info/edit)\".format(consul_addr))"
   ]
  },
  {
   "cell_type": "markdown",
   "metadata": {},
   "source": [
    "```json\n",
    "{\n",
    "    \"version\": \"0.1.0\",\n",
    "    \"type\": \"info\",\n",
    "    \"tag\": \"platform\",\n",
    "    \"op\": \"stats\",\n",
    "    \"timestamp\": 1574420133259,\n",
    "    \"datetime\": \"2019-11-22 18:55:33\",\n",
    "    \"info\": {\n",
    "        \"cpu_percent\": 6.3,\n",
    "        \"cpu_percent_list\": [\n",
    "            5.5,\n",
    "            7.0\n",
    "        ],\n",
    "        \"cpu_memory_total\": 4143292416,\n",
    "        \"cpu_memory_usage\": 1265950720,\n",
    "        \"cpu_memory_percent\": 36.7,\n",
    "        \"gpus\": [\n",
    "            {\n",
    "                \"name\": \"Tesla P4\",\n",
    "                \"gpu_percent\": 0.0,\n",
    "                \"gpu_memory_total\": 7611.0,\n",
    "                \"gpu_memory_usage\": 10.0,\n",
    "                \"gpu_memory_percent\": 0.13\n",
    "            }\n",
    "        ],\n",
    "        \"containers\": [\n",
    "            {\n",
    "                \"id\": \"30a879f11ec4\",\n",
    "                \"cpu_percent\": 105.44,\n",
    "                \"cpu_memory_total\": 4143292416,\n",
    "                \"cpu_memory_usage\": 355155968,\n",
    "                \"cpu_memory_percent\": 8.57,\n",
    "                \"op\": \"train\",\n",
    "                \"user\": \"test\",\n",
    "                \"service_uuid\": \"123456\"\n",
    "            }\n",
    "        ]\n",
    "    }\n",
    "}\n",
    "```"
   ]
  },
  {
   "cell_type": "code",
   "execution_count": 7,
   "metadata": {},
   "outputs": [
    {
     "name": "stdout",
     "output_type": "stream",
     "text": [
      "{\n",
      "    \"version\": \"0.1.0\",\n",
      "    \"type\": \"info\",\n",
      "    \"tag\": \"platform\",\n",
      "    \"op\": \"stats\",\n",
      "    \"timestamp\": 1575345355854,\n",
      "    \"datetime\": \"2019-12-03 11:55:55\",\n",
      "    \"info\": {\n",
      "        \"cpu_percent\": 0.7,\n",
      "        \"cpu_percent_list\": [\n",
      "            0.6,\n",
      "            0.6,\n",
      "            0.8,\n",
      "            0.9,\n",
      "            0.6,\n",
      "            0.7,\n",
      "            0.7,\n",
      "            0.8\n",
      "        ],\n",
      "        \"cpu_memory_total\": 50648887296,\n",
      "        \"cpu_memory_usage\": 1228599296,\n",
      "        \"cpu_memory_percent\": 3.6,\n",
      "        \"gpus\": [\n",
      "            {\n",
      "                \"name\": \"Tesla P40\",\n",
      "                \"gpu_percent\": 0.0,\n",
      "                \"gpu_memory_total\": 22919.0,\n",
      "                \"gpu_memory_usage\": 0.0,\n",
      "                \"gpu_memory_percent\": 0.0\n",
      "            }\n",
      "        ],\n",
      "        \"containers\": []\n",
      "    }\n",
      "}\n"
     ]
    }
   ],
   "source": [
    "print(query_async_data('platform/admin/stats/info'))"
   ]
  },
  {
   "cell_type": "markdown",
   "metadata": {},
   "source": [
    "## 2. 平台控制/k12ai/platform/control"
   ]
  },
  {
   "cell_type": "markdown",
   "metadata": {},
   "source": [
    "A. 输入\n",
    "\n",
    "```json\n",
    "{\n",
    "    \"username\": \"\", // [M] 登陆k12ai service的User\n",
    "    \"password\": \"\", // [M] 登陆k12ai service的Code\n",
    "    \"op\": \"\",  // [M] 控制命令, 如, 停止某个container任务\"container.stop\"\n",
    "    \"async\": true, // [M] 控制命令的是否异步操作, 提醒: 有些命令操作是耗时的, 需要采用异步方式\n",
    "    \"params\": { // [C] 命令的参数, 根据命令不同, 内部结构也会不同\n",
    "    }\n",
    "}\n",
    "```\n",
    "\n",
    "B. 输出\n",
    "\n",
    "```json\n",
    "{\n",
    "    \"code\": 100200,\n",
    "    \"descr\": \"task service success\",\n",
    "    \"message\": \"container id f3726eae19d6 stop success\"\n",
    "}\n",
    "```"
   ]
  },
  {
   "cell_type": "markdown",
   "metadata": {},
   "source": [
    "### 2.1 停止container"
   ]
  },
  {
   "cell_type": "code",
   "execution_count": 8,
   "metadata": {},
   "outputs": [
    {
     "name": "stdout",
     "output_type": "stream",
     "text": [
      "{\n",
      "    \"code\": 100202,\n",
      "    \"descr\": \"task service start fails\",\n",
      "    \"message\": \"container id testid is not found\"\n",
      "}\n"
     ]
    }
   ],
   "source": [
    "try:\n",
    "    result = json.loads(query_async_data('platform/admin/stats/info'))\n",
    "    cid = result['info']['containers'][0]['id']\n",
    "except:\n",
    "    cid = 'testid'\n",
    "    \n",
    "cmd = 'container.stop'\n",
    "\n",
    "data = '''{\n",
    "    \"username\": \"test\",\n",
    "    \"password\": \"test\",\n",
    "    \"op\": \"%s\",\n",
    "    \"async\": false,\n",
    "    \"params\": {\n",
    "        \"id\": \"%s\"\n",
    "    }\n",
    "}''' % (cmd, cid)\n",
    "\n",
    "api = 'http://%s:%d/k12ai/platform/control' % (host, port)\n",
    "print_json(requests.post(url=api, json=json.loads(data)).text)"
   ]
  },
  {
   "cell_type": "code",
   "execution_count": 9,
   "metadata": {},
   "outputs": [
    {
     "name": "stdout",
     "output_type": "stream",
     "text": [
      "{\n",
      "    \"version\": \"0.1.0\",\n",
      "    \"type\": \"container.stop\",\n",
      "    \"tag\": \"platform\",\n",
      "    \"op\": \"control\",\n",
      "    \"timestamp\": 1575345357971,\n",
      "    \"datetime\": \"2019-12-03 11:55:57\",\n",
      "    \"container.stop\": \"container id testid is not found\"\n",
      "}\n"
     ]
    }
   ],
   "source": [
    "print(query_async_data('platform/admin/control/container.stop'))"
   ]
  }
 ],
 "metadata": {
  "kernelspec": {
   "display_name": "Python 3",
   "language": "python",
   "name": "python3"
  },
  "language_info": {
   "codemirror_mode": {
    "name": "ipython",
    "version": 3
   },
   "file_extension": ".py",
   "mimetype": "text/x-python",
   "name": "python",
   "nbconvert_exporter": "python",
   "pygments_lexer": "ipython3",
   "version": "3.6.8"
  }
 },
 "nbformat": 4,
 "nbformat_minor": 2
}
