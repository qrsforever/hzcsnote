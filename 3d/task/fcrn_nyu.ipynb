{
 "cells": [
  {
   "cell_type": "code",
   "execution_count": 29,
   "metadata": {
    "ExecuteTime": {
     "end_time": "2020-06-27T01:34:55.470028Z",
     "start_time": "2020-06-27T01:34:51.194864Z"
    },
    "scrolled": false
   },
   "outputs": [
    {
     "name": "stdout",
     "output_type": "stream",
     "text": [
      "{'_k12': {'data': {'transforms': {'compose': {'center_crop': True,\n",
      "                                              'color_jitter': True,\n",
      "                                              'random_horizontal_flip': True,\n",
      "                                              'resize': True}}},\n",
      "          'tb_logdir': '/data/tblogs/16601548608/e502dd'},\n",
      " 'data': {'dataset_loader': {'args': {'batch_size': 32,\n",
      "                                      'drop_last': False,\n",
      "                                      'num_workers': 2,\n",
      "                                      'pin_memory': False,\n",
      "                                      'shuffle': False},\n",
      "                             'type': 'listdir'},\n",
      "          'dataset_name': 'nyu',\n",
      "          'dataset_root': '/datasets/nyu/',\n",
      "          'transforms': {'compose': {'center_crop': {'args': {'size': [238,\n",
      "                                                                       238]},\n",
      "                                                     'phase': {'evaluate': False,\n",
      "                                                               'train': True,\n",
      "                                                               'valid': False}},\n",
      "                                     'color_jitter': {'args': {'brightness': 0.5,\n",
      "                                                               'contrast': 0.5,\n",
      "                                                               'hue': 0.5,\n",
      "                                                               'saturation': 0.5},\n",
      "                                                      'phase': {'evaluate': False,\n",
      "                                                                'train': True,\n",
      "                                                                'valid': False}},\n",
      "                                     'random_horizontal_flip': {'args': {'p': 0.5},\n",
      "                                                                'phase': {'evaluate': False,\n",
      "                                                                          'train': True,\n",
      "                                                                          'valid': False}},\n",
      "                                     'resize': {'args': {'interpolation': 2,\n",
      "                                                         'size': [250, 250]},\n",
      "                                                'phase': {'evaluate': False,\n",
      "                                                          'train': True,\n",
      "                                                          'valid': False}}},\n",
      "                         'normalize': {'mean': [0.5, 0.5, 0.5],\n",
      "                                       'std': [0.5, 0.5, 0.5]},\n",
      "                         'output_size': [228, 304],\n",
      "                         'shuffle': False}},\n",
      " 'hypes': {'criterion': {'type': 'maskedmse'},\n",
      "           'epoch': 100,\n",
      "           'optimizer': {'args': {'betas': [0.5, 0.999],\n",
      "                                  'eps': 1e-08,\n",
      "                                  'lr': 0.01,\n",
      "                                  'weight_decay': 0.001},\n",
      "                         'type': 'adam'},\n",
      "           'scheduler': {'args': {'gamma': 0.1, 'step_size': 2},\n",
      "                         'type': 'step'}},\n",
      " 'model': {'backbone': 'resnet50',\n",
      "           'distributed': False,\n",
      "           'network': 'fcrn',\n",
      "           'pretrained': False,\n",
      "           'resume': False},\n",
      " 'task': 'make3d'}\n"
     ]
    }
   ],
   "source": [
    "from k12libs.utils.nb_easy import k12ai_run_project\n",
    "project = k12ai_run_project(debug=True, tb_port=9002,\n",
    "                            framework='k123d', task='make3d',\n",
    "                            network='fcrn', dataset='nyu')"
   ]
  },
  {
   "cell_type": "code",
   "execution_count": null,
   "metadata": {},
   "outputs": [],
   "source": []
  }
 ],
 "metadata": {
  "kernelspec": {
   "display_name": "Python 3",
   "language": "python",
   "name": "python3"
  },
  "language_info": {
   "codemirror_mode": {
    "name": "ipython",
    "version": 3
   },
   "file_extension": ".py",
   "mimetype": "text/x-python",
   "name": "python",
   "nbconvert_exporter": "python",
   "pygments_lexer": "ipython3",
   "version": "3.6.9"
  },
  "toc": {
   "base_numbering": 1,
   "nav_menu": {},
   "number_sections": true,
   "sideBar": true,
   "skip_h1_title": false,
   "title_cell": "Table of Contents",
   "title_sidebar": "Contents",
   "toc_cell": false,
   "toc_position": {},
   "toc_section_display": true,
   "toc_window_display": false
  }
 },
 "nbformat": 4,
 "nbformat_minor": 4
}
