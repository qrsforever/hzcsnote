{
 "cells": [
  {
   "cell_type": "markdown",
   "metadata": {
    "toc": true
   },
   "source": [
    "<h1>Table of Contents<span class=\"tocSkip\"></span></h1>\n",
    "<div class=\"toc\"><ul class=\"toc-item\"></ul></div>"
   ]
  },
  {
   "cell_type": "markdown",
   "metadata": {},
   "source": [
    "# <div align='center'> 用户自定义模型 </div>"
   ]
  },
  {
   "cell_type": "code",
   "execution_count": null,
   "metadata": {
    "ExecuteTime": {
     "end_time": "2020-12-02T12:01:06.890522Z",
     "start_time": "2020-12-02T12:01:06.858924Z"
    },
    "init_cell": true
   },
   "outputs": [],
   "source": [
    "%reload_ext autoreload\n",
    "%autoreload 2"
   ]
  },
  {
   "cell_type": "code",
   "execution_count": null,
   "metadata": {
    "ExecuteTime": {
     "end_time": "2020-12-02T12:01:08.476966Z",
     "start_time": "2020-12-02T12:01:06.893785Z"
    }
   },
   "outputs": [],
   "source": [
    "from k12libs.utils.nb_easy import k12ai_run_project, g_contexts"
   ]
  },
  {
   "cell_type": "code",
   "execution_count": 1,
   "metadata": {
    "ExecuteTime": {
     "end_time": "2020-12-02T12:19:32.606955Z",
     "start_time": "2020-12-02T12:19:32.501543Z"
    },
    "scrolled": false
   },
   "outputs": [
    {
     "ename": "NameError",
     "evalue": "name 'k12ai_run_project' is not defined",
     "output_type": "error",
     "traceback": [
      "\u001b[0;31m\u001b[0m",
      "\u001b[0;31mNameError\u001b[0mTraceback (most recent call last)",
      "\u001b[0;32m<ipython-input-1-3599adb7e51f>\u001b[0m in \u001b[0;36m<module>\u001b[0;34m\u001b[0m\n\u001b[0;32m----> 1\u001b[0;31m project = k12ai_run_project(debug=True,\n\u001b[0m\u001b[1;32m      2\u001b[0m                             \u001b[0mframework\u001b[0m\u001b[0;34m=\u001b[0m\u001b[0;34m'k12cv'\u001b[0m\u001b[0;34m,\u001b[0m\u001b[0;34m\u001b[0m\u001b[0;34m\u001b[0m\u001b[0m\n\u001b[1;32m      3\u001b[0m                             \u001b[0mtask\u001b[0m\u001b[0;34m=\u001b[0m\u001b[0;34m'cls'\u001b[0m\u001b[0;34m,\u001b[0m\u001b[0;34m\u001b[0m\u001b[0;34m\u001b[0m\u001b[0m\n\u001b[1;32m      4\u001b[0m                             \u001b[0mnetwork\u001b[0m\u001b[0;34m=\u001b[0m\u001b[0;34m'custom_base'\u001b[0m\u001b[0;34m,\u001b[0m \u001b[0mmodel_templ\u001b[0m\u001b[0;34m=\u001b[0m\u001b[0;34m'simple'\u001b[0m\u001b[0;34m,\u001b[0m\u001b[0;34m\u001b[0m\u001b[0;34m\u001b[0m\u001b[0m\n\u001b[1;32m      5\u001b[0m                             dataset='rmnist')\n",
      "\u001b[0;31mNameError\u001b[0m: name 'k12ai_run_project' is not defined"
     ]
    }
   ],
   "source": [
    "project = k12ai_run_project(debug=True,\n",
    "                            framework='k12cv',\n",
    "                            task='cls',\n",
    "                            network='custom_base', model_templ='simple',\n",
    "                            dataset='rmnist')"
   ]
  },
  {
   "cell_type": "code",
   "execution_count": 2,
   "metadata": {
    "ExecuteTime": {
     "end_time": "2020-12-02T12:19:33.204365Z",
     "start_time": "2020-12-02T12:19:33.138788Z"
    }
   },
   "outputs": [
    {
     "data": {
      "text/plain": [
       "[{'version': '0.1.0',\n",
       "  'server': 'localhost:8119',\n",
       "  'type': 'metrics',\n",
       "  'appId': 'talentai',\n",
       "  'token': '123456',\n",
       "  'user': '16601548608',\n",
       "  'op': 'train.start',\n",
       "  'service_name': 'k12cv',\n",
       "  'service_uuid': '139815',\n",
       "  'timestamp': 1606911538571,\n",
       "  'datetime': '20201202201858',\n",
       "  'data': [{'_id_': '00e1533091cf39a2',\n",
       "    'category': '训练',\n",
       "    'type': 'scalar',\n",
       "    'data': {'title': '训练_损失',\n",
       "     'payload': {'x': {'label': 'iteration', 'value': 128},\n",
       "      'y': [{'label': '损失', 'value': 7.413694757502526}]}}}]},\n",
       " {'version': '0.1.0',\n",
       "  'server': 'localhost:8119',\n",
       "  'type': 'metrics',\n",
       "  'appId': 'talentai',\n",
       "  'token': '123456',\n",
       "  'user': '16601548608',\n",
       "  'op': 'train.start',\n",
       "  'service_name': 'k12cv',\n",
       "  'service_uuid': '139815',\n",
       "  'timestamp': 1606911541252,\n",
       "  'datetime': '20201202201901',\n",
       "  'data': [{'_id_': '00e1533091cf39a2',\n",
       "    'category': '训练',\n",
       "    'type': 'scalar',\n",
       "    'data': {'title': '训练_损失',\n",
       "     'payload': {'x': {'label': 'iteration', 'value': 256},\n",
       "      'y': [{'label': '损失', 'value': 5.277113058837131}]}}}]},\n",
       " {'version': '0.1.0',\n",
       "  'server': 'localhost:8119',\n",
       "  'type': 'metrics',\n",
       "  'appId': 'talentai',\n",
       "  'token': '123456',\n",
       "  'user': '16601548608',\n",
       "  'op': 'train.start',\n",
       "  'service_name': 'k12cv',\n",
       "  'service_uuid': '139815',\n",
       "  'timestamp': 1606911543627,\n",
       "  'datetime': '20201202201903',\n",
       "  'data': [{'_id_': '00e1533091cf39a2',\n",
       "    'category': '训练',\n",
       "    'type': 'scalar',\n",
       "    'data': {'title': '训练_损失',\n",
       "     'payload': {'x': {'label': 'iteration', 'value': 384},\n",
       "      'y': [{'label': '损失', 'value': 4.992980767662327}]}}}]},\n",
       " {'version': '0.1.0',\n",
       "  'server': 'localhost:8119',\n",
       "  'type': 'metrics',\n",
       "  'appId': 'talentai',\n",
       "  'token': '123456',\n",
       "  'user': '16601548608',\n",
       "  'op': 'train.start',\n",
       "  'service_name': 'k12cv',\n",
       "  'service_uuid': '139815',\n",
       "  'timestamp': 1606911547434,\n",
       "  'datetime': '20201202201907',\n",
       "  'data': [{'_id_': '76235b5e6c66755c',\n",
       "    'category': 'train_val',\n",
       "    'type': 'scalar',\n",
       "    'data': {'title': 'train_val_progress',\n",
       "     'payload': {'x': {'label': 'iteration', 'value': 400},\n",
       "      'y': [{'label': 'progress', 'value': 100.0}]}}},\n",
       "   {'_id_': '422afa8d6eaa1275',\n",
       "    'category': '验证',\n",
       "    'type': 'scalar',\n",
       "    'data': {'title': '验证_损失',\n",
       "     'payload': {'x': {'label': 'iteration', 'value': 400},\n",
       "      'y': [{'label': 'train', 'value': 5.03784458398819},\n",
       "       {'label': 'val', 'value': 6.742040009498596}]}}},\n",
       "   {'_id_': '77a942842adb145f',\n",
       "    'category': '验证',\n",
       "    'type': 'scalar',\n",
       "    'data': {'title': '验证_准确率',\n",
       "     'payload': {'x': {'label': 'iteration', 'value': 400},\n",
       "      'y': [{'label': 'top1', 'value': 0.806875},\n",
       "       {'label': 'top3', 'value': 0.953125},\n",
       "       {'label': 'top5', 'value': 0.981875}]}}}]}]"
      ]
     },
     "execution_count": 2,
     "metadata": {},
     "output_type": "execute_result"
    }
   ],
   "source": [
    "[{\"version\": \"0.1.0\", \"server\": \"localhost:8119\", \"type\": \"metrics\", \"appId\": \"talentai\", \"token\": \"123456\", \"user\": \"16601548608\", \"op\": \"train.start\", \"service_name\": \"k12cv\", \"service_uuid\": \"139815\", \"timestamp\": 1606911538571, \"datetime\": \"20201202201858\", \"data\": [{\"_id_\": \"00e1533091cf39a2\", \"category\": \"\\u8bad\\u7ec3\", \"type\": \"scalar\", \"data\": {\"title\": \"\\u8bad\\u7ec3_\\u635f\\u5931\", \"payload\": {\"x\": {\"label\": \"iteration\", \"value\": 128}, \"y\": [{\"label\": \"\\u635f\\u5931\", \"value\": 7.413694757502526}]}}}]}, {\"version\": \"0.1.0\", \"server\": \"localhost:8119\", \"type\": \"metrics\", \"appId\": \"talentai\", \"token\": \"123456\", \"user\": \"16601548608\", \"op\": \"train.start\", \"service_name\": \"k12cv\", \"service_uuid\": \"139815\", \"timestamp\": 1606911541252, \"datetime\": \"20201202201901\", \"data\": [{\"_id_\": \"00e1533091cf39a2\", \"category\": \"\\u8bad\\u7ec3\", \"type\": \"scalar\", \"data\": {\"title\": \"\\u8bad\\u7ec3_\\u635f\\u5931\", \"payload\": {\"x\": {\"label\": \"iteration\", \"value\": 256}, \"y\": [{\"label\": \"\\u635f\\u5931\", \"value\": 5.277113058837131}]}}}]}, {\"version\": \"0.1.0\", \"server\": \"localhost:8119\", \"type\": \"metrics\", \"appId\": \"talentai\", \"token\": \"123456\", \"user\": \"16601548608\", \"op\": \"train.start\", \"service_name\": \"k12cv\", \"service_uuid\": \"139815\", \"timestamp\": 1606911543627, \"datetime\": \"20201202201903\", \"data\": [{\"_id_\": \"00e1533091cf39a2\", \"category\": \"\\u8bad\\u7ec3\", \"type\": \"scalar\", \"data\": {\"title\": \"\\u8bad\\u7ec3_\\u635f\\u5931\", \"payload\": {\"x\": {\"label\": \"iteration\", \"value\": 384}, \"y\": [{\"label\": \"\\u635f\\u5931\", \"value\": 4.992980767662327}]}}}]}, {\"version\": \"0.1.0\", \"server\": \"localhost:8119\", \"type\": \"metrics\", \"appId\": \"talentai\", \"token\": \"123456\", \"user\": \"16601548608\", \"op\": \"train.start\", \"service_name\": \"k12cv\", \"service_uuid\": \"139815\", \"timestamp\": 1606911547434, \"datetime\": \"20201202201907\", \"data\": [{\"_id_\": \"76235b5e6c66755c\", \"category\": \"train_val\", \"type\": \"scalar\", \"data\": {\"title\": \"train_val_progress\", \"payload\": {\"x\": {\"label\": \"iteration\", \"value\": 400}, \"y\": [{\"label\": \"progress\", \"value\": 100.0}]}}}, {\"_id_\": \"422afa8d6eaa1275\", \"category\": \"\\u9a8c\\u8bc1\", \"type\": \"scalar\", \"data\": {\"title\": \"\\u9a8c\\u8bc1_\\u635f\\u5931\", \"payload\": {\"x\": {\"label\": \"iteration\", \"value\": 400}, \"y\": [{\"label\": \"train\", \"value\": 5.03784458398819}, {\"label\": \"val\", \"value\": 6.742040009498596}]}}}, {\"_id_\": \"77a942842adb145f\", \"category\": \"\\u9a8c\\u8bc1\", \"type\": \"scalar\", \"data\": {\"title\": \"\\u9a8c\\u8bc1_\\u51c6\\u786e\\u7387\", \"payload\": {\"x\": {\"label\": \"iteration\", \"value\": 400}, \"y\": [{\"label\": \"top1\", \"value\": 0.806875}, {\"label\": \"top3\", \"value\": 0.953125}, {\"label\": \"top5\", \"value\": 0.981875}]}}}]}]"
   ]
  }
 ],
 "metadata": {
  "celltoolbar": "Initialization Cell",
  "kernelspec": {
   "display_name": "Python 3",
   "language": "python",
   "name": "python3"
  },
  "language_info": {
   "codemirror_mode": {
    "name": "ipython",
    "version": 3
   },
   "file_extension": ".py",
   "mimetype": "text/x-python",
   "name": "python",
   "nbconvert_exporter": "python",
   "pygments_lexer": "ipython3",
   "version": "3.6.9"
  },
  "toc": {
   "base_numbering": 1,
   "nav_menu": {},
   "number_sections": false,
   "sideBar": false,
   "skip_h1_title": true,
   "title_cell": "Table of Contents",
   "title_sidebar": "Contents",
   "toc_cell": true,
   "toc_position": {
    "height": "462.429px",
    "left": "1330.99px",
    "top": "291.284px",
    "width": "325.17px"
   },
   "toc_section_display": true,
   "toc_window_display": false
  }
 },
 "nbformat": 4,
 "nbformat_minor": 4
}
