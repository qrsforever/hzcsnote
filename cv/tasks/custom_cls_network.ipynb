{
 "cells": [
  {
   "cell_type": "markdown",
   "metadata": {
    "toc": true
   },
   "source": [
    "<h1>Table of Contents<span class=\"tocSkip\"></span></h1>\n",
    "<div class=\"toc\"><ul class=\"toc-item\"></ul></div>"
   ]
  },
  {
   "cell_type": "markdown",
   "metadata": {},
   "source": [
    "# <div align='center'> 用户自定义模型 </div>"
   ]
  },
  {
   "cell_type": "code",
   "execution_count": 1,
   "metadata": {
    "ExecuteTime": {
     "end_time": "2020-06-03T08:22:23.111895Z",
     "start_time": "2020-06-03T08:22:23.081049Z"
    },
    "init_cell": true
   },
   "outputs": [],
   "source": [
    "%reload_ext autoreload\n",
    "%autoreload 2"
   ]
  },
  {
   "cell_type": "code",
   "execution_count": 2,
   "metadata": {
    "ExecuteTime": {
     "end_time": "2020-07-11T07:27:26.305213Z",
     "start_time": "2020-07-11T07:27:25.321941Z"
    }
   },
   "outputs": [],
   "source": [
    "from k12libs.utils.nb_easy import k12ai_run_project"
   ]
  },
  {
   "cell_type": "code",
   "execution_count": 3,
   "metadata": {
    "ExecuteTime": {
     "end_time": "2020-07-11T07:27:34.133056Z",
     "start_time": "2020-07-11T07:27:26.382811Z"
    },
    "scrolled": false
   },
   "outputs": [
    {
     "data": {
      "text/html": [
       "<style>.container { width:95% !important; }</style>"
      ],
      "text/plain": [
       "<IPython.core.display.HTML object>"
      ]
     },
     "metadata": {},
     "output_type": "display_data"
    },
    {
     "name": "stdout",
     "output_type": "stream",
     "text": [
      " * Serving Flask app \"k12libs.utils.nb_easy\" (lazy loading)\n",
      " * Environment: production\n",
      "\u001b[31m   WARNING: This is a development server. Do not use it in a production deployment.\u001b[0m\n",
      "\u001b[2m   Use a production WSGI server instead.\u001b[0m\n",
      " * Debug mode: off\n"
     ]
    },
    {
     "data": {
      "application/vnd.jupyter.widget-view+json": {
       "model_id": "05f5c612139f424fbc44143b85740b6e",
       "version_major": 2,
       "version_minor": 0
      },
      "text/plain": [
       "Box(children=(Box(children=(VBox(children=(Tab(children=(VBox(children=(HBox(children=(Text(value='cls', conti…"
      ]
     },
     "metadata": {},
     "output_type": "display_data"
    }
   ],
   "source": [
    "project = k12ai_run_project(tb_port=9002,\n",
    "                            framework='k12cv',\n",
    "                            task='cls',\n",
    "                            network='custom_base', model_templ='simple',\n",
    "                            dataset='mnist')"
   ]
  },
  {
   "cell_type": "code",
   "execution_count": 8,
   "metadata": {
    "ExecuteTime": {
     "end_time": "2020-07-11T07:43:41.803011Z",
     "start_time": "2020-07-11T07:43:41.798664Z"
    },
    "scrolled": false
   },
   "outputs": [],
   "source": [
    "# from k12libs.utils.nb_easy import k12ai_start_html, MDURL\n",
    "# k12ai_start_html(f'{MDURL}?jfile=simple&flask=http://116.85.5.40:8117/k12ai/notebook/message&tag={project.tag}', height=800)"
   ]
  },
  {
   "cell_type": "code",
   "execution_count": 7,
   "metadata": {
    "ExecuteTime": {
     "end_time": "2020-07-11T07:30:19.472409Z",
     "start_time": "2020-07-11T07:30:19.464713Z"
    }
   },
   "outputs": [
    {
     "data": {
      "text/plain": [
       "'cls_custom_base_mnist'"
      ]
     },
     "execution_count": 7,
     "metadata": {},
     "output_type": "execute_result"
    }
   ],
   "source": [
    "project.tag"
   ]
  },
  {
   "cell_type": "code",
   "execution_count": 4,
   "metadata": {
    "ExecuteTime": {
     "end_time": "2020-07-11T07:28:52.601777Z",
     "start_time": "2020-07-11T07:28:52.594484Z"
    },
    "scrolled": false
   },
   "outputs": [
    {
     "name": "stdout",
     "output_type": "stream",
     "text": [
      "plain_net {\n",
      " name: \"hproject_model_name\"\n",
      "\n",
      "layer{\n",
      "  conv{\n",
      "    name : \"Conv2d_6831\"\n",
      "    layer_builder : \"NNTorchLayer\"\n",
      "    layer_mode : CONV2D\n",
      "    inputs : \"x\"\n",
      "    outputs : \"Conv2d_7510\"\n",
      "    layer_params {\n",
      "      in_channels : \"3\"\n",
      "      out_channels : \"30\"\n",
      "      kernel_size : \"3\"\n",
      "    }\n",
      "  }\n",
      "}\n",
      "layer{\n",
      "  conv{\n",
      "    name : \"Conv2d_7510\"\n",
      "    layer_builder : \"NNTorchLayer\"\n",
      "    layer_mode : CONV2D\n",
      "    inputs : \"Conv2d_6831\"\n",
      "    outputs : \"Conv2d_5900\"\n",
      "    layer_params {\n",
      "      in_channels : \"30\"\n",
      "      out_channels : \"30\"\n",
      "      kernel_size : \"3\"\n",
      "    }\n",
      "  }\n",
      "}\n",
      "layer{\n",
      "  conv{\n",
      "    name : \"Conv2d_5900\"\n",
      "    layer_builder : \"NNTorchLayer\"\n",
      "    layer_mode : CONV2D\n",
      "    inputs : \"Conv2d_7510\"\n",
      "    outputs : \"MaxPool2d_7843\"\n",
      "    layer_params {\n",
      "      in_channels : \"30\"\n",
      "      out_channels : \"30\"\n",
      "      kernel_size : \"3\"\n",
      "    }\n",
      "  }\n",
      "}\n",
      "layer{\n",
      "  pool{\n",
      "    name : \"MaxPool2d_7843\"\n",
      "    layer_builder : \"NNTorchLayer\"\n",
      "    layer_mode : MAXPOOL2D\n",
      "    inputs : \"Conv2d_5900\"\n",
      "    outputs : \"Conv2d_4074\"\n",
      "    layer_params {\n",
      "      kernel_size : \"3\"\n",
      "      stride : \"1\"\n",
      "    }\n",
      "  }\n",
      "}\n",
      "layer{\n",
      "  conv{\n",
      "    name : \"Conv2d_4074\"\n",
      "    layer_builder : \"NNTorchLayer\"\n",
      "    layer_mode : CONV2D\n",
      "    inputs : \"MaxPool2d_7843\"\n",
      "    outputs : \"MaxPool2d_5315\"\n",
      "    layer_params {\n",
      "      in_channels : \"30\"\n",
      "      out_channels : \"50\"\n",
      "      kernel_size : \"3\"\n",
      "    }\n",
      "  }\n",
      "}\n",
      "layer{\n",
      "  pool{\n",
      "    name : \"MaxPool2d_5315\"\n",
      "    layer_builder : \"NNTorchLayer\"\n",
      "    layer_mode : MAXPOOL2D\n",
      "    inputs : \"Conv2d_4074\"\n",
      "    outputs : \"Flatten_5235\"\n",
      "    layer_params {\n",
      "      kernel_size : \"3\"\n",
      "      stride : \"1\"\n",
      "    }\n",
      "  }\n",
      "}\n",
      "layer{\n",
      "  vulkan{\n",
      "    name : \"Flatten_5235\"\n",
      "    layer_builder : \"NNTorchLayer\"\n",
      "    layer_mode : FLATTEN\n",
      "    inputs : \"MaxPool2d_5315\"\n",
      "    outputs : \"Linear_2653\"\n",
      "    layer_params {\n",
      "      start_dim : \"1\"\n",
      "    }\n",
      "  }\n",
      "}\n",
      "layer{\n",
      "  linear{\n",
      "    name : \"Linear_2653\"\n",
      "    layer_builder : \"NNTorchLayer\"\n",
      "    layer_mode : LINEAR\n",
      "    inputs : \"Flatten_5235\"\n",
      "    outputs : \"Linear_5215\"\n",
      "    layer_params {\n",
      "      in_features : \"12800\"\n",
      "      out_features : \"1000\"\n",
      "    }\n",
      "  }\n",
      "}\n",
      "layer{\n",
      "  linear{\n",
      "    name : \"Linear_5215\"\n",
      "    layer_builder : \"NNTorchLayer\"\n",
      "    layer_mode : LINEAR\n",
      "    inputs : \"Linear_2653\"\n",
      "    outputs : \"Linear_9970\"\n",
      "    layer_params {\n",
      "      in_features : \"1000\"\n",
      "      out_features : \"100\"\n",
      "    }\n",
      "  }\n",
      "}\n",
      "layer{\n",
      "  linear{\n",
      "    name : \"Linear_9970\"\n",
      "    layer_builder : \"NNTorchLayer\"\n",
      "    layer_mode : LINEAR\n",
      "    inputs : \"Linear_5215\"\n",
      "    outputs : \"Output_6954\"\n",
      "    layer_params {\n",
      "      in_features : \"100\"\n",
      "      out_features : \"10\"\n",
      "    }\n",
      "  }\n",
      "}\n",
      "}\n"
     ]
    }
   ],
   "source": [
    "print(project.protodata)"
   ]
  },
  {
   "cell_type": "code",
   "execution_count": null,
   "metadata": {},
   "outputs": [],
   "source": [
    "{\n",
    "    \"datastr\": \"plain_net {\\n name: \\\"hproject_model_name\\\"\\n\\nlayer{\\n  conv{\\n    name : \\\"Conv2d_6831\\\"\\n    layer_builder : \\\"NNTorchLayer\\\"\\n    layer_mode : CONV2D\\n    inputs : \\\"x\\\"\\n    outputs : \\\"Conv2d_7510\\\"\\n    layer_params {\\n      in_channels : \\\"3\\\"\\n      out_channels : \\\"30\\\"\\n      kernel_size : \\\"3\\\"\\n    }\\n  }\\n}\\nlayer{\\n  conv{\\n    name : \\\"Conv2d_7510\\\"\\n    layer_builder : \\\"NNTorchLayer\\\"\\n    layer_mode : CONV2D\\n    inputs : \\\"Conv2d_6831\\\"\\n    outputs : \\\"Conv2d_5900\\\"\\n    layer_params {\\n      in_channels : \\\"30\\\"\\n      out_channels : \\\"30\\\"\\n      kernel_size : \\\"3\\\"\\n    }\\n  }\\n}\\nlayer{\\n  conv{\\n    name : \\\"Conv2d_5900\\\"\\n    layer_builder : \\\"NNTorchLayer\\\"\\n    layer_mode : CONV2D\\n    inputs : \\\"Conv2d_7510\\\"\\n    outputs : \\\"MaxPool2d_7843\\\"\\n    layer_params {\\n      in_channels : \\\"30\\\"\\n      out_channels : \\\"30\\\"\\n      kernel_size : \\\"3\\\"\\n    }\\n  }\\n}\\nlayer{\\n  pool{\\n    name : \\\"MaxPool2d_7843\\\"\\n    layer_builder : \\\"NNTorchLayer\\\"\\n    layer_mode : MAXPOOL2D\\n    inputs : \\\"Conv2d_5900\\\"\\n    outputs : \\\"Conv2d_4074\\\"\\n    layer_params {\\n      kernel_size : \\\"3\\\"\\n      stride : \\\"1\\\"\\n    }\\n  }\\n}\\nlayer{\\n  conv{\\n    name : \\\"Conv2d_4074\\\"\\n    layer_builder : \\\"NNTorchLayer\\\"\\n    layer_mode : CONV2D\\n    inputs : \\\"MaxPool2d_7843\\\"\\n    outputs : \\\"MaxPool2d_5315\\\"\\n    layer_params {\\n      in_channels : \\\"30\\\"\\n      out_channels : \\\"50\\\"\\n      kernel_size : \\\"3\\\"\\n    }\\n  }\\n}\\nlayer{\\n  pool{\\n    name : \\\"MaxPool2d_5315\\\"\\n    layer_builder : \\\"NNTorchLayer\\\"\\n    layer_mode : MAXPOOL2D\\n    inputs : \\\"Conv2d_4074\\\"\\n    outputs : \\\"Flatten_5235\\\"\\n    layer_params {\\n      kernel_size : \\\"3\\\"\\n      stride : \\\"1\\\"\\n    }\\n  }\\n}\\nlayer{\\n  vulkan{\\n    name : \\\"Flatten_5235\\\"\\n    layer_builder : \\\"NNTorchLayer\\\"\\n    layer_mode : FLATTEN\\n    inputs : \\\"MaxPool2d_5315\\\"\\n    outputs : \\\"Linear_2653\\\"\\n    layer_params {\\n      start_dim : \\\"1\\\"\\n    }\\n  }\\n}\\nlayer{\\n  linear{\\n    name : \\\"Linear_2653\\\"\\n    layer_builder : \\\"NNTorchLayer\\\"\\n    layer_mode : LINEAR\\n    inputs : \\\"Flatten_5235\\\"\\n    outputs : \\\"Linear_5215\\\"\\n    layer_params {\\n      in_features : \\\"12800\\\"\\n      out_features : \\\"1000\\\"\\n    }\\n  }\\n}\\nlayer{\\n  linear{\\n    name : \\\"Linear_5215\\\"\\n    layer_builder : \\\"NNTorchLayer\\\"\\n    layer_mode : LINEAR\\n    inputs : \\\"Linear_2653\\\"\\n    outputs : \\\"Linear_9970\\\"\\n    layer_params {\\n      in_features : \\\"1000\\\"\\n      out_features : \\\"100\\\"\\n    }\\n  }\\n}\\nlayer{\\n  linear{\\n    name : \\\"Linear_9970\\\"\\n    layer_builder : \\\"NNTorchLayer\\\"\\n    layer_mode : LINEAR\\n    inputs : \\\"Linear_5215\\\"\\n    outputs : \\\"Output_6954\\\"\\n    layer_params {\\n      in_features : \\\"100\\\"\\n      out_features : \\\"10\\\"\\n    }\\n  }\\n}\\n}\"\n",
    "}"
   ]
  }
 ],
 "metadata": {
  "celltoolbar": "Initialization Cell",
  "kernelspec": {
   "display_name": "Python 3",
   "language": "python",
   "name": "python3"
  },
  "language_info": {
   "codemirror_mode": {
    "name": "ipython",
    "version": 3
   },
   "file_extension": ".py",
   "mimetype": "text/x-python",
   "name": "python",
   "nbconvert_exporter": "python",
   "pygments_lexer": "ipython3",
   "version": "3.6.9"
  },
  "toc": {
   "base_numbering": 1,
   "nav_menu": {},
   "number_sections": false,
   "sideBar": false,
   "skip_h1_title": true,
   "title_cell": "Table of Contents",
   "title_sidebar": "Contents",
   "toc_cell": true,
   "toc_position": {
    "height": "462.429px",
    "left": "1330.99px",
    "top": "291.284px",
    "width": "325.17px"
   },
   "toc_section_display": true,
   "toc_window_display": false
  }
 },
 "nbformat": 4,
 "nbformat_minor": 4
}
