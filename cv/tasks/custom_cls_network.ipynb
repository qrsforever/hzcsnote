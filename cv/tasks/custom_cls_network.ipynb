{
 "cells": [
  {
   "cell_type": "markdown",
   "metadata": {
    "toc": true
   },
   "source": [
    "<h1>Table of Contents<span class=\"tocSkip\"></span></h1>\n",
    "<div class=\"toc\"><ul class=\"toc-item\"></ul></div>"
   ]
  },
  {
   "cell_type": "markdown",
   "metadata": {},
   "source": [
    "# <div align='center'> 用户自定义模型 </div>"
   ]
  },
  {
   "cell_type": "code",
   "execution_count": 1,
   "metadata": {
    "ExecuteTime": {
     "end_time": "2020-06-02T02:20:48.983235Z",
     "start_time": "2020-06-02T02:20:48.961585Z"
    },
    "init_cell": true
   },
   "outputs": [],
   "source": [
    "%reload_ext autoreload\n",
    "%autoreload 2"
   ]
  },
  {
   "cell_type": "code",
   "execution_count": 2,
   "metadata": {
    "ExecuteTime": {
     "end_time": "2020-06-02T02:20:49.535998Z",
     "start_time": "2020-06-02T02:20:48.986217Z"
    }
   },
   "outputs": [],
   "source": [
    "from k12libs.utils.nb_easy import k12ai_run_project\n",
    "from k12libs.templates.cls.custom_mnist import NETWORK_MNIST_DEF"
   ]
  },
  {
   "cell_type": "code",
   "execution_count": 3,
   "metadata": {
    "ExecuteTime": {
     "end_time": "2020-06-02T02:20:49.565801Z",
     "start_time": "2020-06-02T02:20:49.540229Z"
    },
    "scrolled": false
   },
   "outputs": [
    {
     "name": "stdout",
     "output_type": "stream",
     "text": [
      "plain_net {\n",
      "name: \"cls_423fe4f31e09d4498d7e56f771488dab\"\n",
      "\n",
      "layer{\n",
      "  conv{\n",
      "    name : \"Conv2d_7284\"\n",
      "    layer_builder : \"NNTorchLayer\"\n",
      "    layer_mode : CONV2D\n",
      "    inputs : \"x\"\n",
      "    outputs : \"Conv2d_8260\"\n",
      "    layer_params {\n",
      "      in_channels : \"3\"\n",
      "      out_channels : \"30\"\n",
      "      kernel_size : \"3\"\n",
      "    }\n",
      "  }\n",
      "}\n",
      "layer{\n",
      "  conv{\n",
      "    name : \"Conv2d_8260\"\n",
      "    layer_builder : \"NNTorchLayer\"\n",
      "    layer_mode : CONV2D\n",
      "    inputs : \"Conv2d_7284\"\n",
      "    outputs : \"Conv2d_6293\"\n",
      "    layer_params {\n",
      "      in_channels : \"30\"\n",
      "      out_channels : \"30\"\n",
      "      kernel_size : \"3\"\n",
      "    }\n",
      "  }\n",
      "}\n",
      "layer{\n",
      "  conv{\n",
      "    name : \"Conv2d_6293\"\n",
      "    layer_builder : \"NNTorchLayer\"\n",
      "    layer_mode : CONV2D\n",
      "    inputs : \"Conv2d_8260\"\n",
      "    outputs : \"MaxPool2d_6160\"\n",
      "    layer_params {\n",
      "      in_channels : \"30\"\n",
      "      out_channels : \"30\"\n",
      "      kernel_size : \"3\"\n",
      "    }\n",
      "  }\n",
      "}\n",
      "layer{\n",
      "  pool{\n",
      "    name : \"MaxPool2d_6160\"\n",
      "    layer_builder : \"NNTorchLayer\"\n",
      "    layer_mode : MAXPOOL2D\n",
      "    inputs : \"Conv2d_6293\"\n",
      "    outputs : \"Conv2d_7630\"\n",
      "    layer_params {\n",
      "      kernel_size : \"3\"\n",
      "      stride : \"1\"\n",
      "    }\n",
      "  }\n",
      "}\n",
      "layer{\n",
      "  conv{\n",
      "    name : \"Conv2d_7630\"\n",
      "    layer_builder : \"NNTorchLayer\"\n",
      "    layer_mode : CONV2D\n",
      "    inputs : \"MaxPool2d_6160\"\n",
      "    outputs : \"MaxPool2d_4146\"\n",
      "    layer_params {\n",
      "      in_channels : \"30\"\n",
      "      out_channels : \"50\"\n",
      "      kernel_size : \"3\"\n",
      "    }\n",
      "  }\n",
      "}\n",
      "layer{\n",
      "  pool{\n",
      "    name : \"MaxPool2d_4146\"\n",
      "    layer_builder : \"NNTorchLayer\"\n",
      "    layer_mode : MAXPOOL2D\n",
      "    inputs : \"Conv2d_7630\"\n",
      "    outputs : \"Flatten_2327\"\n",
      "    layer_params {\n",
      "      kernel_size : \"3\"\n",
      "      stride : \"1\"\n",
      "    }\n",
      "  }\n",
      "}\n",
      "layer{\n",
      "  vulkan{\n",
      "    name : \"Flatten_2327\"\n",
      "    layer_builder : \"NNTorchLayer\"\n",
      "    layer_mode : FLATTEN\n",
      "    inputs : \"MaxPool2d_4146\"\n",
      "    outputs : \"Linear_9679\"\n",
      "    layer_params {\n",
      "      start_dim : \"1\"\n",
      "    }\n",
      "  }\n",
      "}\n",
      "layer{\n",
      "  linear{\n",
      "    name : \"Linear_9679\"\n",
      "    layer_builder : \"NNTorchLayer\"\n",
      "    layer_mode : LINEAR\n",
      "    inputs : \"Flatten_2327\"\n",
      "    outputs : \"Linear_2415\"\n",
      "    layer_params {\n",
      "      in_features : \"12800\"\n",
      "      out_features : \"500\"\n",
      "    }\n",
      "  }\n",
      "}\n",
      "layer{\n",
      "  linear{\n",
      "    name : \"Linear_2415\"\n",
      "    layer_builder : \"NNTorchLayer\"\n",
      "    layer_mode : LINEAR\n",
      "    inputs : \"Linear_9679\"\n",
      "    outputs : \"Linear_3966\"\n",
      "    layer_params {\n",
      "      in_features : \"500\"\n",
      "      out_features : \"100\"\n",
      "    }\n",
      "  }\n",
      "}\n",
      "layer{\n",
      "  linear{\n",
      "    name : \"Linear_3966\"\n",
      "    layer_builder : \"NNTorchLayer\"\n",
      "    layer_mode : LINEAR\n",
      "    inputs : \"Linear_2415\"\n",
      "    outputs : \"Output_5560\"\n",
      "    layer_params {\n",
      "      in_features : \"100\"\n",
      "      out_features : \"10\"\n",
      "    }\n",
      "  }\n",
      "}\n",
      "}\n"
     ]
    }
   ],
   "source": [
    "print(NETWORK_MNIST_DEF)"
   ]
  },
  {
   "cell_type": "code",
   "execution_count": 4,
   "metadata": {
    "ExecuteTime": {
     "end_time": "2020-06-02T02:20:57.088537Z",
     "start_time": "2020-06-02T02:20:49.570115Z"
    },
    "scrolled": false
   },
   "outputs": [
    {
     "data": {
      "text/html": [
       "<style>.container { width:95% !important; }</style>"
      ],
      "text/plain": [
       "<IPython.core.display.HTML object>"
      ]
     },
     "metadata": {},
     "output_type": "display_data"
    },
    {
     "data": {
      "application/vnd.jupyter.widget-view+json": {
       "model_id": "f8160657c1ee45529e4982ef02402647",
       "version_major": 2,
       "version_minor": 0
      },
      "text/plain": [
       "Box(children=(Box(children=(VBox(children=(Tab(children=(VBox(children=(HBox(children=(Text(value='cls', conti…"
      ]
     },
     "metadata": {},
     "output_type": "display_data"
    }
   ],
   "source": [
    "project = k12ai_run_project(tb_port=9002, framework='k12cv', task='cls', network='custom_base', dataset='mnist')"
   ]
  }
 ],
 "metadata": {
  "celltoolbar": "Initialization Cell",
  "kernelspec": {
   "display_name": "Python 3",
   "language": "python",
   "name": "python3"
  },
  "language_info": {
   "codemirror_mode": {
    "name": "ipython",
    "version": 3
   },
   "file_extension": ".py",
   "mimetype": "text/x-python",
   "name": "python",
   "nbconvert_exporter": "python",
   "pygments_lexer": "ipython3",
   "version": "3.6.9"
  },
  "toc": {
   "base_numbering": 1,
   "nav_menu": {},
   "number_sections": false,
   "sideBar": false,
   "skip_h1_title": true,
   "title_cell": "Table of Contents",
   "title_sidebar": "Contents",
   "toc_cell": true,
   "toc_position": {
    "height": "462.429px",
    "left": "1330.99px",
    "top": "291.284px",
    "width": "325.17px"
   },
   "toc_section_display": true,
   "toc_window_display": false
  }
 },
 "nbformat": 4,
 "nbformat_minor": 4
}
