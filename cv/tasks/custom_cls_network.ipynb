{
 "cells": [
  {
   "cell_type": "markdown",
   "metadata": {},
   "source": [
    "# <div align='center'> 用户自定义模型 </div>"
   ]
  },
  {
   "cell_type": "code",
   "execution_count": 1,
   "metadata": {},
   "outputs": [],
   "source": [
    "%reload_ext autoreload\n",
    "%autoreload 2"
   ]
  },
  {
   "cell_type": "code",
   "execution_count": 2,
   "metadata": {},
   "outputs": [],
   "source": [
    "from k12libs.utils.nb_easy import k12ai_run_project\n",
    "from k12libs.templates.cls.custom_mnist import NETWORK_MNIST_DEF"
   ]
  },
  {
   "cell_type": "code",
   "execution_count": 3,
   "metadata": {
    "scrolled": false
   },
   "outputs": [
    {
     "name": "stdout",
     "output_type": "stream",
     "text": [
      "plain_net {\n",
      "name: \"cls_423fe4f31e09d4498d7e56f771488dab\"\n",
      "\n",
      "layer{\n",
      "  conv{\n",
      "    name : \"Conv2d_7284\"\n",
      "    layer_builder : \"NNTorchLayer\"\n",
      "    layer_mode : CONV2D\n",
      "    inputs : \"x\"\n",
      "    outputs : \"Conv2d_8260\"\n",
      "    layer_params {\n",
      "      in_channels : \"3\"\n",
      "      out_channels : \"30\"\n",
      "      kernel_size : \"3\"\n",
      "    }\n",
      "  }\n",
      "}\n",
      "layer{\n",
      "  conv{\n",
      "    name : \"Conv2d_8260\"\n",
      "    layer_builder : \"NNTorchLayer\"\n",
      "    layer_mode : CONV2D\n",
      "    inputs : \"Conv2d_7284\"\n",
      "    outputs : \"Conv2d_6293\"\n",
      "    layer_params {\n",
      "      in_channels : \"30\"\n",
      "      out_channels : \"30\"\n",
      "      kernel_size : \"3\"\n",
      "    }\n",
      "  }\n",
      "}\n",
      "layer{\n",
      "  conv{\n",
      "    name : \"Conv2d_6293\"\n",
      "    layer_builder : \"NNTorchLayer\"\n",
      "    layer_mode : CONV2D\n",
      "    inputs : \"Conv2d_8260\"\n",
      "    outputs : \"MaxPool2d_6160\"\n",
      "    layer_params {\n",
      "      in_channels : \"30\"\n",
      "      out_channels : \"30\"\n",
      "      kernel_size : \"3\"\n",
      "    }\n",
      "  }\n",
      "}\n",
      "layer{\n",
      "  pool{\n",
      "    name : \"MaxPool2d_6160\"\n",
      "    layer_builder : \"NNTorchLayer\"\n",
      "    layer_mode : MAXPOOL2D\n",
      "    inputs : \"Conv2d_6293\"\n",
      "    outputs : \"Conv2d_7630\"\n",
      "    layer_params {\n",
      "      kernel_size : \"3\"\n",
      "      stride : \"1\"\n",
      "    }\n",
      "  }\n",
      "}\n",
      "layer{\n",
      "  conv{\n",
      "    name : \"Conv2d_7630\"\n",
      "    layer_builder : \"NNTorchLayer\"\n",
      "    layer_mode : CONV2D\n",
      "    inputs : \"MaxPool2d_6160\"\n",
      "    outputs : \"MaxPool2d_4146\"\n",
      "    layer_params {\n",
      "      in_channels : \"30\"\n",
      "      out_channels : \"50\"\n",
      "      kernel_size : \"3\"\n",
      "    }\n",
      "  }\n",
      "}\n",
      "layer{\n",
      "  pool{\n",
      "    name : \"MaxPool2d_4146\"\n",
      "    layer_builder : \"NNTorchLayer\"\n",
      "    layer_mode : MAXPOOL2D\n",
      "    inputs : \"Conv2d_7630\"\n",
      "    outputs : \"Flatten_2327\"\n",
      "    layer_params {\n",
      "      kernel_size : \"3\"\n",
      "      stride : \"1\"\n",
      "    }\n",
      "  }\n",
      "}\n",
      "layer{\n",
      "  vulkan{\n",
      "    name : \"Flatten_2327\"\n",
      "    layer_builder : \"NNTorchLayer\"\n",
      "    layer_mode : FLATTEN\n",
      "    inputs : \"MaxPool2d_4146\"\n",
      "    outputs : \"Linear_9679\"\n",
      "    layer_params {\n",
      "      start_dim : \"1\"\n",
      "    }\n",
      "  }\n",
      "}\n",
      "layer{\n",
      "  linear{\n",
      "    name : \"Linear_9679\"\n",
      "    layer_builder : \"NNTorchLayer\"\n",
      "    layer_mode : LINEAR\n",
      "    inputs : \"Flatten_2327\"\n",
      "    outputs : \"Linear_2415\"\n",
      "    layer_params {\n",
      "      in_features : \"12800\"\n",
      "      out_features : \"500\"\n",
      "    }\n",
      "  }\n",
      "}\n",
      "layer{\n",
      "  linear{\n",
      "    name : \"Linear_2415\"\n",
      "    layer_builder : \"NNTorchLayer\"\n",
      "    layer_mode : LINEAR\n",
      "    inputs : \"Linear_9679\"\n",
      "    outputs : \"Linear_3966\"\n",
      "    layer_params {\n",
      "      in_features : \"500\"\n",
      "      out_features : \"100\"\n",
      "    }\n",
      "  }\n",
      "}\n",
      "layer{\n",
      "  linear{\n",
      "    name : \"Linear_3966\"\n",
      "    layer_builder : \"NNTorchLayer\"\n",
      "    layer_mode : LINEAR\n",
      "    inputs : \"Linear_2415\"\n",
      "    outputs : \"Output_5560\"\n",
      "    layer_params {\n",
      "      in_features : \"100\"\n",
      "      out_features : \"10\"\n",
      "    }\n",
      "  }\n",
      "}\n",
      "}\n"
     ]
    }
   ],
   "source": [
    "print(NETWORK_MNIST_DEF)"
   ]
  },
  {
   "cell_type": "code",
   "execution_count": null,
   "metadata": {
    "scrolled": false
   },
   "outputs": [],
   "source": [
    "project = k12ai_run_project(framework='k12cv', task='cls', network='custom_base', dataset='mnist')"
   ]
  }
 ],
 "metadata": {
  "kernelspec": {
   "display_name": "Python 3",
   "language": "python",
   "name": "python3"
  },
  "language_info": {
   "codemirror_mode": {
    "name": "ipython",
    "version": 3
   },
   "file_extension": ".py",
   "mimetype": "text/x-python",
   "name": "python",
   "nbconvert_exporter": "python",
   "pygments_lexer": "ipython3",
   "version": "3.6.9"
  }
 },
 "nbformat": 4,
 "nbformat_minor": 4
}
