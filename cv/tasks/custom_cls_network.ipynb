{
 "cells": [
  {
   "cell_type": "markdown",
   "metadata": {
    "toc": true
   },
   "source": [
    "<h1>Table of Contents<span class=\"tocSkip\"></span></h1>\n",
    "<div class=\"toc\"><ul class=\"toc-item\"></ul></div>"
   ]
  },
  {
   "cell_type": "markdown",
   "metadata": {},
   "source": [
    "# <div align='center'> 用户自定义模型 </div>"
   ]
  },
  {
   "cell_type": "code",
   "execution_count": 1,
   "metadata": {
    "ExecuteTime": {
     "end_time": "2020-12-31T09:15:39.179362Z",
     "start_time": "2020-12-31T09:15:39.146395Z"
    },
    "init_cell": true
   },
   "outputs": [],
   "source": [
    "%reload_ext autoreload\n",
    "%autoreload 2"
   ]
  },
  {
   "cell_type": "code",
   "execution_count": 2,
   "metadata": {
    "ExecuteTime": {
     "end_time": "2020-12-31T09:15:41.975027Z",
     "start_time": "2020-12-31T09:15:40.137444Z"
    }
   },
   "outputs": [],
   "source": [
    "from k12libs.utils.nb_easy import k12ai_run_project, g_contexts"
   ]
  },
  {
   "cell_type": "code",
   "execution_count": 3,
   "metadata": {
    "ExecuteTime": {
     "end_time": "2020-12-31T09:15:49.487417Z",
     "start_time": "2020-12-31T09:15:42.878834Z"
    },
    "scrolled": false
   },
   "outputs": [
    {
     "data": {
      "text/html": [
       "<style>.container { width:95% !important; }</style>"
      ],
      "text/plain": [
       "<IPython.core.display.HTML object>"
      ]
     },
     "metadata": {},
     "output_type": "display_data"
    },
    {
     "name": "stdout",
     "output_type": "stream",
     "text": [
      " * Serving Flask app \"k12libs.utils.nb_easy\" (lazy loading)\n",
      " * Environment: production\n",
      "\u001b[31m   WARNING: This is a development server. Do not use it in a production deployment.\u001b[0m\n",
      "\u001b[2m   Use a production WSGI server instead.\u001b[0m\n",
      " * Debug mode: off\n"
     ]
    },
    {
     "data": {
      "application/vnd.jupyter.widget-view+json": {
       "model_id": "afcde6b4c9d94f8c875c7f0b82bc7e7f",
       "version_major": 2,
       "version_minor": 0
      },
      "text/plain": [
       "Box(children=(Box(children=(VBox(children=(Tab(children=(VBox(children=(HBox(children=(Text(value='cls', conti…"
      ]
     },
     "metadata": {},
     "output_type": "display_data"
    }
   ],
   "source": [
    "project = k12ai_run_project(debug=True,\n",
    "                            framework='k12cv',\n",
    "                            task='cls',\n",
    "                            network='custom_base', model_templ='simple',\n",
    "                            dataset='rmnist')"
   ]
  },
  {
   "cell_type": "code",
   "execution_count": 4,
   "metadata": {
    "ExecuteTime": {
     "end_time": "2020-12-31T09:16:43.724282Z",
     "start_time": "2020-12-31T09:16:43.643459Z"
    }
   },
   "outputs": [
    {
     "data": {
      "text/plain": [
       "[{'version': '0.1.0',\n",
       "  'server': 'localhost:8119',\n",
       "  'type': 'metrics',\n",
       "  'appId': 'talentai',\n",
       "  'token': '123456',\n",
       "  'user': '16601548608',\n",
       "  'op': 'train.start',\n",
       "  'service_name': 'k12cv',\n",
       "  'service_uuid': '139815',\n",
       "  'timestamp': 1606911538571,\n",
       "  'datetime': '20201202201858',\n",
       "  'data': [{'_id_': '00e1533091cf39a2',\n",
       "    'category': '训练',\n",
       "    'type': 'scalar',\n",
       "    'data': {'title': '训练_损失',\n",
       "     'payload': {'x': {'label': 'iteration', 'value': 128},\n",
       "      'y': [{'label': '损失', 'value': 7.413694757502526}]}}}]},\n",
       " {'version': '0.1.0',\n",
       "  'server': 'localhost:8119',\n",
       "  'type': 'metrics',\n",
       "  'appId': 'talentai',\n",
       "  'token': '123456',\n",
       "  'user': '16601548608',\n",
       "  'op': 'train.start',\n",
       "  'service_name': 'k12cv',\n",
       "  'service_uuid': '139815',\n",
       "  'timestamp': 1606911541252,\n",
       "  'datetime': '20201202201901',\n",
       "  'data': [{'_id_': '00e1533091cf39a2',\n",
       "    'category': '训练',\n",
       "    'type': 'scalar',\n",
       "    'data': {'title': '训练_损失',\n",
       "     'payload': {'x': {'label': 'iteration', 'value': 256},\n",
       "      'y': [{'label': '损失', 'value': 5.277113058837131}]}}}]},\n",
       " {'version': '0.1.0',\n",
       "  'server': 'localhost:8119',\n",
       "  'type': 'metrics',\n",
       "  'appId': 'talentai',\n",
       "  'token': '123456',\n",
       "  'user': '16601548608',\n",
       "  'op': 'train.start',\n",
       "  'service_name': 'k12cv',\n",
       "  'service_uuid': '139815',\n",
       "  'timestamp': 1606911543627,\n",
       "  'datetime': '20201202201903',\n",
       "  'data': [{'_id_': '00e1533091cf39a2',\n",
       "    'category': '训练',\n",
       "    'type': 'scalar',\n",
       "    'data': {'title': '训练_损失',\n",
       "     'payload': {'x': {'label': 'iteration', 'value': 384},\n",
       "      'y': [{'label': '损失', 'value': 4.992980767662327}]}}}]},\n",
       " {'version': '0.1.0',\n",
       "  'server': 'localhost:8119',\n",
       "  'type': 'metrics',\n",
       "  'appId': 'talentai',\n",
       "  'token': '123456',\n",
       "  'user': '16601548608',\n",
       "  'op': 'train.start',\n",
       "  'service_name': 'k12cv',\n",
       "  'service_uuid': '139815',\n",
       "  'timestamp': 1606911547434,\n",
       "  'datetime': '20201202201907',\n",
       "  'data': [{'_id_': '76235b5e6c66755c',\n",
       "    'category': 'train_val',\n",
       "    'type': 'scalar',\n",
       "    'data': {'title': 'train_val_progress',\n",
       "     'payload': {'x': {'label': 'iteration', 'value': 400},\n",
       "      'y': [{'label': 'progress', 'value': 100.0}]}}},\n",
       "   {'_id_': '422afa8d6eaa1275',\n",
       "    'category': '验证',\n",
       "    'type': 'scalar',\n",
       "    'data': {'title': '验证_损失',\n",
       "     'payload': {'x': {'label': 'iteration', 'value': 400},\n",
       "      'y': [{'label': 'train', 'value': 5.03784458398819},\n",
       "       {'label': 'val', 'value': 6.742040009498596}]}}},\n",
       "   {'_id_': '77a942842adb145f',\n",
       "    'category': '验证',\n",
       "    'type': 'scalar',\n",
       "    'data': {'title': '验证_准确率',\n",
       "     'payload': {'x': {'label': 'iteration', 'value': 400},\n",
       "      'y': [{'label': 'top1', 'value': 0.806875},\n",
       "       {'label': 'top3', 'value': 0.953125},\n",
       "       {'label': 'top5', 'value': 0.981875}]}}}]}]"
      ]
     },
     "execution_count": 4,
     "metadata": {},
     "output_type": "execute_result"
    }
   ],
   "source": [
    "[{\"version\": \"0.1.0\", \"server\": \"localhost:8119\", \"type\": \"metrics\", \"appId\": \"talentai\", \"token\": \"123456\", \"user\": \"16601548608\", \"op\": \"train.start\", \"service_name\": \"k12cv\", \"service_uuid\": \"139815\", \"timestamp\": 1606911538571, \"datetime\": \"20201202201858\", \"data\": [{\"_id_\": \"00e1533091cf39a2\", \"category\": \"\\u8bad\\u7ec3\", \"type\": \"scalar\", \"data\": {\"title\": \"\\u8bad\\u7ec3_\\u635f\\u5931\", \"payload\": {\"x\": {\"label\": \"iteration\", \"value\": 128}, \"y\": [{\"label\": \"\\u635f\\u5931\", \"value\": 7.413694757502526}]}}}]}, {\"version\": \"0.1.0\", \"server\": \"localhost:8119\", \"type\": \"metrics\", \"appId\": \"talentai\", \"token\": \"123456\", \"user\": \"16601548608\", \"op\": \"train.start\", \"service_name\": \"k12cv\", \"service_uuid\": \"139815\", \"timestamp\": 1606911541252, \"datetime\": \"20201202201901\", \"data\": [{\"_id_\": \"00e1533091cf39a2\", \"category\": \"\\u8bad\\u7ec3\", \"type\": \"scalar\", \"data\": {\"title\": \"\\u8bad\\u7ec3_\\u635f\\u5931\", \"payload\": {\"x\": {\"label\": \"iteration\", \"value\": 256}, \"y\": [{\"label\": \"\\u635f\\u5931\", \"value\": 5.277113058837131}]}}}]}, {\"version\": \"0.1.0\", \"server\": \"localhost:8119\", \"type\": \"metrics\", \"appId\": \"talentai\", \"token\": \"123456\", \"user\": \"16601548608\", \"op\": \"train.start\", \"service_name\": \"k12cv\", \"service_uuid\": \"139815\", \"timestamp\": 1606911543627, \"datetime\": \"20201202201903\", \"data\": [{\"_id_\": \"00e1533091cf39a2\", \"category\": \"\\u8bad\\u7ec3\", \"type\": \"scalar\", \"data\": {\"title\": \"\\u8bad\\u7ec3_\\u635f\\u5931\", \"payload\": {\"x\": {\"label\": \"iteration\", \"value\": 384}, \"y\": [{\"label\": \"\\u635f\\u5931\", \"value\": 4.992980767662327}]}}}]}, {\"version\": \"0.1.0\", \"server\": \"localhost:8119\", \"type\": \"metrics\", \"appId\": \"talentai\", \"token\": \"123456\", \"user\": \"16601548608\", \"op\": \"train.start\", \"service_name\": \"k12cv\", \"service_uuid\": \"139815\", \"timestamp\": 1606911547434, \"datetime\": \"20201202201907\", \"data\": [{\"_id_\": \"76235b5e6c66755c\", \"category\": \"train_val\", \"type\": \"scalar\", \"data\": {\"title\": \"train_val_progress\", \"payload\": {\"x\": {\"label\": \"iteration\", \"value\": 400}, \"y\": [{\"label\": \"progress\", \"value\": 100.0}]}}}, {\"_id_\": \"422afa8d6eaa1275\", \"category\": \"\\u9a8c\\u8bc1\", \"type\": \"scalar\", \"data\": {\"title\": \"\\u9a8c\\u8bc1_\\u635f\\u5931\", \"payload\": {\"x\": {\"label\": \"iteration\", \"value\": 400}, \"y\": [{\"label\": \"train\", \"value\": 5.03784458398819}, {\"label\": \"val\", \"value\": 6.742040009498596}]}}}, {\"_id_\": \"77a942842adb145f\", \"category\": \"\\u9a8c\\u8bc1\", \"type\": \"scalar\", \"data\": {\"title\": \"\\u9a8c\\u8bc1_\\u51c6\\u786e\\u7387\", \"payload\": {\"x\": {\"label\": \"iteration\", \"value\": 400}, \"y\": [{\"label\": \"top1\", \"value\": 0.806875}, {\"label\": \"top3\", \"value\": 0.953125}, {\"label\": \"top5\", \"value\": 0.981875}]}}}]}]"
   ]
  }
 ],
 "metadata": {
  "celltoolbar": "Initialization Cell",
  "kernelspec": {
   "display_name": "Python 3",
   "language": "python",
   "name": "python3"
  },
  "language_info": {
   "codemirror_mode": {
    "name": "ipython",
    "version": 3
   },
   "file_extension": ".py",
   "mimetype": "text/x-python",
   "name": "python",
   "nbconvert_exporter": "python",
   "pygments_lexer": "ipython3",
   "version": "3.6.9"
  },
  "toc": {
   "base_numbering": 1,
   "nav_menu": {},
   "number_sections": false,
   "sideBar": false,
   "skip_h1_title": true,
   "title_cell": "Table of Contents",
   "title_sidebar": "Contents",
   "toc_cell": true,
   "toc_position": {
    "height": "462.429px",
    "left": "1330.99px",
    "top": "291.284px",
    "width": "325.17px"
   },
   "toc_section_display": true,
   "toc_window_display": false
  }
 },
 "nbformat": 4,
 "nbformat_minor": 4
}
