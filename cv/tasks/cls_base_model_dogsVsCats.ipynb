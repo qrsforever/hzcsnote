{
 "cells": [
  {
   "cell_type": "markdown",
   "metadata": {},
   "source": [
    "# <div align='center'> 分类任务测试 </div>"
   ]
  },
  {
   "cell_type": "code",
   "execution_count": 1,
   "metadata": {
    "ExecuteTime": {
     "end_time": "2020-11-03T11:19:01.493373Z",
     "start_time": "2020-11-03T11:19:01.472618Z"
    }
   },
   "outputs": [],
   "source": [
    "%reload_ext autoreload\n",
    "%autoreload 2"
   ]
  },
  {
   "cell_type": "code",
   "execution_count": 2,
   "metadata": {
    "ExecuteTime": {
     "end_time": "2020-11-03T11:19:01.509920Z",
     "start_time": "2020-11-03T11:19:01.496287Z"
    }
   },
   "outputs": [],
   "source": [
    "backbones = [\n",
    "    'resnet18',           # 0\n",
    "    'resnet50',           # 1\n",
    "    'densenet121',        # 2\n",
    "    'mobilenet_v2',       # 3\n",
    "    'squeezenet1_0',      # 4\n",
    "    'squeezenet1_1',      # 5\n",
    "    'shufflenet_v2_x0_5', # 6\n",
    "    'shufflenet_v2_x1_0', # 7\n",
    "]\n",
    "\n",
    "batch_sizes = [8, 16, 32, 64]\n",
    "input_sizes = [28, 32, 64, 128, 256]"
   ]
  },
  {
   "cell_type": "code",
   "execution_count": 3,
   "metadata": {},
   "outputs": [
    {
     "data": {
      "text/plain": [
       "'81.70.134.138'"
      ]
     },
     "execution_count": 3,
     "metadata": {},
     "output_type": "execute_result"
    }
   ],
   "source": [
    "import os\n",
    "os.environ.setdefault('HOST_IP', '172.21.0.16')\n",
    "os.environ.setdefault('NET_IP', '81.70.134.138')"
   ]
  },
  {
   "cell_type": "code",
   "execution_count": 4,
   "metadata": {
    "ExecuteTime": {
     "end_time": "2020-11-03T11:30:49.993363Z",
     "start_time": "2020-11-03T11:30:42.200046Z"
    },
    "scrolled": false
   },
   "outputs": [
    {
     "data": {
      "text/html": [
       "<style>.container { width:95% !important; }</style>"
      ],
      "text/plain": [
       "<IPython.core.display.HTML object>"
      ]
     },
     "metadata": {},
     "output_type": "display_data"
    },
    {
     "data": {
      "application/vnd.jupyter.widget-view+json": {
       "model_id": "4e9989aad695401a8d3eff4cca2cebd3",
       "version_major": 2,
       "version_minor": 0
      },
      "text/plain": [
       "Box(children=(Box(children=(VBox(children=(Tab(children=(VBox(children=(HBox(children=(Text(value='cls', conti…"
      ]
     },
     "metadata": {},
     "output_type": "display_data"
    }
   ],
   "source": [
    "from k12libs.utils.nb_easy import k12ai_run_project\n",
    "\n",
    "project = k12ai_run_project(\n",
    "    debug=True, # tb_port=9002,\n",
    "    framework='k12cv', task='cls', \n",
    "    network=backbones[1], dataset='rDogsVsCats')"
   ]
  },
  {
   "cell_type": "code",
   "execution_count": 5,
   "metadata": {},
   "outputs": [
    {
     "ename": "RuntimeError",
     "evalue": "No active exception to reraise",
     "output_type": "error",
     "traceback": [
      "\u001b[0;31m\u001b[0m",
      "\u001b[0;31mRuntimeError\u001b[0mTraceback (most recent call last)",
      "\u001b[0;32m<ipython-input-5-9c9a2cba73bf>\u001b[0m in \u001b[0;36m<module>\u001b[0;34m\u001b[0m\n\u001b[0;32m----> 1\u001b[0;31m \u001b[0;32mraise\u001b[0m\u001b[0;34m\u001b[0m\u001b[0;34m\u001b[0m\u001b[0m\n\u001b[0m",
      "\u001b[0;31mRuntimeError\u001b[0m: No active exception to reraise"
     ]
    }
   ],
   "source": [
    "raise"
   ]
  },
  {
   "cell_type": "markdown",
   "metadata": {},
   "source": [
    "## Nude Codes"
   ]
  },
  {
   "cell_type": "code",
   "execution_count": null,
   "metadata": {
    "ExecuteTime": {
     "end_time": "2020-11-03T11:19:10.105306Z",
     "start_time": "2020-11-03T11:19:01.494Z"
    }
   },
   "outputs": [],
   "source": [
    "import os\n",
    "import json\n",
    "import torch\n",
    "import PIL.Image as Image\n",
    "from torchvision import datasets, transforms \n",
    "from torchvision.models import vgg16_bn as VGG16\n",
    "from torch.utils.data import (Dataset, DataLoader)\n",
    "from k12libs.utils.nb_easy import k12ai_start_html, k12ai_get_top_dir, K12AI_DATASETS_ROOT, K12AI_PRETRAINED_ROOT"
   ]
  },
  {
   "cell_type": "markdown",
   "metadata": {},
   "source": [
    "### Dataset Loader"
   ]
  },
  {
   "cell_type": "code",
   "execution_count": null,
   "metadata": {
    "ExecuteTime": {
     "end_time": "2020-11-03T11:19:10.106652Z",
     "start_time": "2020-11-03T11:19:01.497Z"
    }
   },
   "outputs": [],
   "source": [
    "class DogCatDataset(Dataset):\n",
    "    data_root = os.path.join(K12AI_DATASETS_ROOT, 'cv', 'dogsVsCats')\n",
    "    \n",
    "    def __init__(self, phase):\n",
    "        self.images, self.labels = self.data_reader(self.data_root, phase)\n",
    "    \n",
    "    def __getitem__(self, index):\n",
    "        img = Image.open(self.images[index]).convert('RGB')\n",
    "        img_trans = transforms.Compose([\n",
    "            transforms.Resize((224, 224)),\n",
    "            transforms.ToTensor(),\n",
    "            transforms.Normalize((0.485,0.456,0.406), (0.229,0.224,0.225))\n",
    "        ])\n",
    "\n",
    "        return img_trans(img), self.labels[index]\n",
    "\n",
    "    def __len__(self):\n",
    "        return len(self.images)\n",
    "    \n",
    "    def data_reader(self, path, phase):\n",
    "        image_list = []\n",
    "        label_list = []\n",
    "\n",
    "        with open(os.path.join(path, f'{phase}.json'), 'r') as f:\n",
    "            items = json.load(f)\n",
    "            for item in items:\n",
    "                image_list.append(os.path.join(path, item['image_path']))\n",
    "                label_list.append(item['label'])\n",
    "        return image_list, label_list\n",
    "    \n",
    "train_dataloader = DataLoader(DogCatDataset('train'), batch_size=64, shuffle=True)\n",
    "valid_dataloader = DataLoader(DogCatDataset('val'), batch_size=64, shuffle=False)\n",
    "test_dataloader = DataLoader(DogCatDataset('test'), batch_size=64, shuffle=False)"
   ]
  },
  {
   "cell_type": "code",
   "execution_count": null,
   "metadata": {
    "ExecuteTime": {
     "end_time": "2020-11-03T11:19:10.107970Z",
     "start_time": "2020-11-03T11:19:01.499Z"
    }
   },
   "outputs": [],
   "source": [
    "len(train_dataloader), len(test_dataloader)"
   ]
  },
  {
   "cell_type": "markdown",
   "metadata": {},
   "source": [
    "### Model"
   ]
  },
  {
   "cell_type": "code",
   "execution_count": null,
   "metadata": {
    "ExecuteTime": {
     "end_time": "2020-11-03T11:19:10.109186Z",
     "start_time": "2020-11-03T11:19:01.501Z"
    }
   },
   "outputs": [],
   "source": [
    "model = VGG16(pretrained=True)\n",
    "model.classifier[6] = torch.nn.Linear(4096, 2)"
   ]
  },
  {
   "cell_type": "markdown",
   "metadata": {},
   "source": [
    "### Loss,Optimizer"
   ]
  },
  {
   "cell_type": "code",
   "execution_count": null,
   "metadata": {
    "ExecuteTime": {
     "end_time": "2020-11-03T11:19:10.110717Z",
     "start_time": "2020-11-03T11:19:01.505Z"
    }
   },
   "outputs": [],
   "source": [
    "criterion = torch.nn.CrossEntropyLoss()\n",
    "optimizer = torch.optim.SGD(model.parameters(), lr=.01)"
   ]
  },
  {
   "cell_type": "markdown",
   "metadata": {},
   "source": [
    "### Train"
   ]
  },
  {
   "cell_type": "code",
   "execution_count": null,
   "metadata": {
    "ExecuteTime": {
     "end_time": "2020-11-03T11:19:10.111870Z",
     "start_time": "2020-11-03T11:19:01.507Z"
    }
   },
   "outputs": [],
   "source": [
    "model.cuda()\n",
    "max_epoch = 1\n",
    "\n",
    "train_accs = []\n",
    "for i in range(max_epoch):\n",
    "    model.train()\n",
    "    for batch_idx, (inputs, targets) in enumerate(train_dataloader):\n",
    "        inputs, targets = inputs.cuda(), targets.cuda()\n",
    "        optimizer.zero_grad()\n",
    "        outputs = model(inputs)\n",
    "        loss = criterion(outputs, targets)\n",
    "        loss.backward()\n",
    "        optimizer.step()\n",
    "        train_accs.append((outputs.argmax(dim=1) == targets).float().mean())\n",
    "        if batch_idx % 30 == 0:\n",
    "            print(i, train_accs[-1])"
   ]
  },
  {
   "cell_type": "code",
   "execution_count": null,
   "metadata": {
    "ExecuteTime": {
     "end_time": "2020-11-03T11:19:10.113119Z",
     "start_time": "2020-11-03T11:19:01.509Z"
    }
   },
   "outputs": [],
   "source": [
    "sum(train_accs) / len(train_accs)"
   ]
  },
  {
   "cell_type": "markdown",
   "metadata": {},
   "source": [
    "### Valid or Test"
   ]
  },
  {
   "cell_type": "code",
   "execution_count": null,
   "metadata": {
    "ExecuteTime": {
     "end_time": "2020-11-03T11:19:10.114399Z",
     "start_time": "2020-11-03T11:19:01.512Z"
    }
   },
   "outputs": [],
   "source": [
    "test_accs = []\n",
    "model.eval()\n",
    "with torch.no_grad():\n",
    "    for batch_idx, (inputs, targets) in enumerate(valid_dataloader):\n",
    "        inputs, targets = inputs.cuda(), targets.cuda()\n",
    "        outputs = model(inputs)\n",
    "        test_accs.append((outputs.argmax(dim=1) == targets).float().mean())\n",
    "        if batch_idx % 10 == 0:\n",
    "            print(i, test_accs[-1])\n",
    "sum(test_accs) / len(test_accs)"
   ]
  },
  {
   "cell_type": "markdown",
   "metadata": {},
   "source": [
    "### Save"
   ]
  },
  {
   "cell_type": "code",
   "execution_count": null,
   "metadata": {
    "ExecuteTime": {
     "end_time": "2020-11-03T11:19:10.115536Z",
     "start_time": "2020-11-03T11:19:01.514Z"
    }
   },
   "outputs": [],
   "source": [
    "ckpt_path = os.path.join(K12AI_PRETRAINED_ROOT, 'cv', 'k12lite', 'model_vgg16_bn_dogcat.pth')\n",
    "torch.save(model.state_dict(), ckpt_path)"
   ]
  },
  {
   "cell_type": "markdown",
   "metadata": {},
   "source": [
    "### Predict"
   ]
  },
  {
   "cell_type": "code",
   "execution_count": null,
   "metadata": {
    "ExecuteTime": {
     "end_time": "2020-11-03T11:19:10.116823Z",
     "start_time": "2020-11-03T11:19:01.518Z"
    }
   },
   "outputs": [],
   "source": [
    "cat_image = os.path.join(k12ai_get_top_dir(), 'assets', 'images', 'cat-1.jpg')\n",
    "dog_image = os.path.join(k12ai_get_top_dir(), 'assets', 'images', 'dog-1.jpeg')\n",
    "\n",
    "! ls {cat_image}"
   ]
  },
  {
   "cell_type": "code",
   "execution_count": null,
   "metadata": {
    "ExecuteTime": {
     "end_time": "2020-11-03T11:19:10.117947Z",
     "start_time": "2020-11-03T11:19:01.520Z"
    }
   },
   "outputs": [],
   "source": [
    "cat = Image.open(cat_image).convert('RGB')\n",
    "cat"
   ]
  },
  {
   "cell_type": "code",
   "execution_count": null,
   "metadata": {
    "ExecuteTime": {
     "end_time": "2020-11-03T11:19:10.119085Z",
     "start_time": "2020-11-03T11:19:01.524Z"
    }
   },
   "outputs": [],
   "source": [
    "dog = Image.open(dog_image).convert('RGB')\n",
    "dog"
   ]
  },
  {
   "cell_type": "code",
   "execution_count": null,
   "metadata": {
    "ExecuteTime": {
     "end_time": "2020-11-03T11:19:10.120218Z",
     "start_time": "2020-11-03T11:19:01.527Z"
    }
   },
   "outputs": [],
   "source": [
    "predict_model = VGG16(pretrained=False)\n",
    "predict_model.classifier[6] = torch.nn.Linear(4096, 2)"
   ]
  },
  {
   "cell_type": "code",
   "execution_count": null,
   "metadata": {
    "ExecuteTime": {
     "end_time": "2020-11-03T11:19:10.121574Z",
     "start_time": "2020-11-03T11:19:01.529Z"
    }
   },
   "outputs": [],
   "source": [
    "predict_model.load_state_dict(torch.load(ckpt_path))\n",
    "predict_model.cuda()\n",
    "predict_model.eval()\n",
    "\n",
    "img_trans = transforms.Compose([\n",
    "    transforms.Resize((224, 224)),\n",
    "    transforms.ToTensor()\n",
    "])\n",
    "\n",
    "cat_input = img_trans(cat).cuda()\n",
    "dog_input = img_trans(dog).cuda()\n",
    "\n",
    "# inputs = torch.stack([cat_input, dog_input], dim=0)\n",
    "inputs = cat_input.unsqueeze(0)\n",
    "\n",
    "with torch.no_grad():\n",
    "    outputs = predict_model(inputs)\n",
    "    print(outputs.argmax(dim=1, keepdim=False).item())"
   ]
  }
 ],
 "metadata": {
  "hide_input": false,
  "kernelspec": {
   "display_name": "Python 3",
   "language": "python",
   "name": "python3"
  },
  "language_info": {
   "codemirror_mode": {
    "name": "ipython",
    "version": 3
   },
   "file_extension": ".py",
   "mimetype": "text/x-python",
   "name": "python",
   "nbconvert_exporter": "python",
   "pygments_lexer": "ipython3",
   "version": "3.6.9"
  },
  "toc": {
   "base_numbering": 1,
   "nav_menu": {},
   "number_sections": true,
   "sideBar": true,
   "skip_h1_title": true,
   "title_cell": "",
   "title_sidebar": "Contents",
   "toc_cell": false,
   "toc_position": {},
   "toc_section_display": true,
   "toc_window_display": false
  }
 },
 "nbformat": 4,
 "nbformat_minor": 4
}
