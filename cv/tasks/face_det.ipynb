{
 "cells": [
  {
   "cell_type": "code",
   "execution_count": 12,
   "metadata": {
    "ExecuteTime": {
     "end_time": "2020-09-07T08:07:39.511726Z",
     "start_time": "2020-09-07T08:07:38.982255Z"
    }
   },
   "outputs": [
    {
     "name": "stdout",
     "output_type": "stream",
     "text": [
      "CPython 3.6.9\n",
      "IPython 7.16.1\n",
      "\n",
      "numpy 1.18.5\n",
      "pandas 1.0.4\n",
      "pycocotools 2.0.2\n",
      "torch 1.6.0.dev20200609+cu101\n",
      "torchvision 0.7.0.dev20200609+cu101\n",
      "detectron2 0.2.1\n",
      "cv2 4.4.0\n"
     ]
    }
   ],
   "source": [
    "%reload_ext autoreload\n",
    "%autoreload 2\n",
    "%reload_ext watermark\n",
    "%watermark -v -p numpy,pandas,pycocotools,torch,torchvision,detectron2,cv2"
   ]
  },
  {
   "cell_type": "code",
   "execution_count": 2,
   "metadata": {
    "ExecuteTime": {
     "end_time": "2020-09-07T14:40:11.639172Z",
     "start_time": "2020-09-07T14:40:09.640336Z"
    }
   },
   "outputs": [],
   "source": [
    "import torch, torchvision\n",
    "import detectron2\n",
    "from detectron2.utils.logger import setup_logger\n",
    "setup_logger()\n",
    "\n",
    "import glob\n",
    "\n",
    "import os\n",
    "import ntpath\n",
    "import numpy as np\n",
    "import cv2\n",
    "import random\n",
    "import itertools\n",
    "import pandas as pd\n",
    "from tqdm import tqdm\n",
    "from urllib import request\n",
    "import json\n",
    "import PIL.Image as Image\n",
    "\n",
    "from detectron2 import model_zoo\n",
    "from detectron2.engine import DefaultPredictor, DefaultTrainer\n",
    "from detectron2.config import get_cfg\n",
    "from detectron2.utils.visualizer import Visualizer, ColorMode\n",
    "from detectron2.data import DatasetCatalog, MetadataCatalog, build_detection_test_loader\n",
    "from detectron2.evaluation import COCOEvaluator, inference_on_dataset\n",
    "from detectron2.structures import BoxMode\n",
    "\n",
    "import seaborn as sns\n",
    "from pylab import rcParams\n",
    "import matplotlib.pyplot as plt\n",
    "from matplotlib import rc\n",
    "\n",
    "%matplotlib inline\n",
    "%config InlineBackend.figure_format='retina'\n",
    "\n",
    "sns.set(style='whitegrid', palette='muted', font_scale=1.2)\n",
    "\n",
    "HAPPY_COLORS_PALETTE = [\"#01BEFE\", \"#FFDD00\", \"#FF7D00\", \"#FF006D\", \"#ADFF02\", \"#8F00FF\"]\n",
    "\n",
    "sns.set_palette(sns.color_palette(HAPPY_COLORS_PALETTE))\n",
    "\n",
    "rcParams['figure.figsize'] = 12, 8\n",
    "\n",
    "RANDOM_SEED = 42\n",
    "np.random.seed(RANDOM_SEED)\n",
    "torch.manual_seed(RANDOM_SEED);"
   ]
  },
  {
   "cell_type": "code",
   "execution_count": 3,
   "metadata": {
    "ExecuteTime": {
     "end_time": "2020-09-07T14:40:12.373074Z",
     "start_time": "2020-09-07T14:40:12.026224Z"
    }
   },
   "outputs": [],
   "source": [
    "from k12libs.utils.nb_easy import K12AI_DATASETS_ROOT\n",
    "from k12libs.utils.nb_easy import k12ai_set_notebook\n",
    "import os"
   ]
  },
  {
   "cell_type": "code",
   "execution_count": 4,
   "metadata": {
    "ExecuteTime": {
     "end_time": "2020-09-07T14:40:13.661556Z",
     "start_time": "2020-09-07T14:40:13.636317Z"
    }
   },
   "outputs": [
    {
     "data": {
      "text/html": [
       "<style>.container { width:95% !important; }</style>"
      ],
      "text/plain": [
       "<IPython.core.display.HTML object>"
      ]
     },
     "metadata": {},
     "output_type": "display_data"
    }
   ],
   "source": [
    "k12ai_set_notebook(cellw=95)"
   ]
  },
  {
   "cell_type": "markdown",
   "metadata": {},
   "source": [
    "## Read Data"
   ]
  },
  {
   "cell_type": "code",
   "execution_count": 7,
   "metadata": {
    "ExecuteTime": {
     "end_time": "2020-09-07T14:43:09.028508Z",
     "start_time": "2020-09-07T14:43:08.989777Z"
    },
    "scrolled": true
   },
   "outputs": [
    {
     "data": {
      "text/html": [
       "<div>\n",
       "<style scoped>\n",
       "    .dataframe tbody tr th:only-of-type {\n",
       "        vertical-align: middle;\n",
       "    }\n",
       "\n",
       "    .dataframe tbody tr th {\n",
       "        vertical-align: top;\n",
       "    }\n",
       "\n",
       "    .dataframe thead th {\n",
       "        text-align: right;\n",
       "    }\n",
       "</style>\n",
       "<table border=\"1\" class=\"dataframe\">\n",
       "  <thead>\n",
       "    <tr style=\"text-align: right;\">\n",
       "      <th></th>\n",
       "      <th>file_name</th>\n",
       "      <th>width</th>\n",
       "      <th>height</th>\n",
       "      <th>x_min</th>\n",
       "      <th>y_min</th>\n",
       "      <th>x_max</th>\n",
       "      <th>y_max</th>\n",
       "      <th>class_name</th>\n",
       "    </tr>\n",
       "  </thead>\n",
       "  <tbody>\n",
       "    <tr>\n",
       "      <th>0</th>\n",
       "      <td>face_0.jpeg</td>\n",
       "      <td>650</td>\n",
       "      <td>333</td>\n",
       "      <td>56</td>\n",
       "      <td>102</td>\n",
       "      <td>112</td>\n",
       "      <td>151</td>\n",
       "      <td>face</td>\n",
       "    </tr>\n",
       "    <tr>\n",
       "      <th>1</th>\n",
       "      <td>face_0.jpeg</td>\n",
       "      <td>650</td>\n",
       "      <td>333</td>\n",
       "      <td>379</td>\n",
       "      <td>97</td>\n",
       "      <td>428</td>\n",
       "      <td>156</td>\n",
       "      <td>face</td>\n",
       "    </tr>\n",
       "    <tr>\n",
       "      <th>2</th>\n",
       "      <td>face_1.jpeg</td>\n",
       "      <td>1280</td>\n",
       "      <td>697</td>\n",
       "      <td>903</td>\n",
       "      <td>162</td>\n",
       "      <td>985</td>\n",
       "      <td>252</td>\n",
       "      <td>face</td>\n",
       "    </tr>\n",
       "    <tr>\n",
       "      <th>3</th>\n",
       "      <td>face_2.jpeg</td>\n",
       "      <td>460</td>\n",
       "      <td>240</td>\n",
       "      <td>216</td>\n",
       "      <td>12</td>\n",
       "      <td>279</td>\n",
       "      <td>80</td>\n",
       "      <td>face</td>\n",
       "    </tr>\n",
       "    <tr>\n",
       "      <th>4</th>\n",
       "      <td>face_2.jpeg</td>\n",
       "      <td>460</td>\n",
       "      <td>240</td>\n",
       "      <td>289</td>\n",
       "      <td>2</td>\n",
       "      <td>343</td>\n",
       "      <td>74</td>\n",
       "      <td>face</td>\n",
       "    </tr>\n",
       "  </tbody>\n",
       "</table>\n",
       "</div>"
      ],
      "text/plain": [
       "     file_name  width  height  x_min  y_min  x_max  y_max class_name\n",
       "0  face_0.jpeg    650     333     56    102    112    151       face\n",
       "1  face_0.jpeg    650     333    379     97    428    156       face\n",
       "2  face_1.jpeg   1280     697    903    162    985    252       face\n",
       "3  face_2.jpeg    460     240    216     12    279     80       face\n",
       "4  face_2.jpeg    460     240    289      2    343     74       face"
      ]
     },
     "execution_count": 7,
     "metadata": {},
     "output_type": "execute_result"
    }
   ],
   "source": [
    "dataset = 'faces'\n",
    "data_root = os.path.join(K12AI_DATASETS_ROOT, 'cv', dataset)\n",
    "imgs_path = os.path.join(data_root, \"imgs\")\n",
    "\n",
    "df = pd.read_csv(os.path.join(data_root, 'annotations.csv'),)\n",
    "df.head()"
   ]
  },
  {
   "cell_type": "markdown",
   "metadata": {},
   "source": [
    "## Train/Val Sample"
   ]
  },
  {
   "cell_type": "code",
   "execution_count": 15,
   "metadata": {
    "ExecuteTime": {
     "end_time": "2020-09-07T14:44:32.854698Z",
     "start_time": "2020-09-07T14:44:32.816383Z"
    }
   },
   "outputs": [
    {
     "data": {
      "text/html": [
       "<div>\n",
       "<style scoped>\n",
       "    .dataframe tbody tr th:only-of-type {\n",
       "        vertical-align: middle;\n",
       "    }\n",
       "\n",
       "    .dataframe tbody tr th {\n",
       "        vertical-align: top;\n",
       "    }\n",
       "\n",
       "    .dataframe thead th {\n",
       "        text-align: right;\n",
       "    }\n",
       "</style>\n",
       "<table border=\"1\" class=\"dataframe\">\n",
       "  <thead>\n",
       "    <tr style=\"text-align: right;\">\n",
       "      <th></th>\n",
       "      <th>file_name</th>\n",
       "      <th>width</th>\n",
       "      <th>height</th>\n",
       "      <th>x_min</th>\n",
       "      <th>y_min</th>\n",
       "      <th>x_max</th>\n",
       "      <th>y_max</th>\n",
       "      <th>class_name</th>\n",
       "    </tr>\n",
       "  </thead>\n",
       "  <tbody>\n",
       "    <tr>\n",
       "      <th>0</th>\n",
       "      <td>face_0.jpeg</td>\n",
       "      <td>650</td>\n",
       "      <td>333</td>\n",
       "      <td>56</td>\n",
       "      <td>102</td>\n",
       "      <td>112</td>\n",
       "      <td>151</td>\n",
       "      <td>face</td>\n",
       "    </tr>\n",
       "    <tr>\n",
       "      <th>1</th>\n",
       "      <td>face_0.jpeg</td>\n",
       "      <td>650</td>\n",
       "      <td>333</td>\n",
       "      <td>379</td>\n",
       "      <td>97</td>\n",
       "      <td>428</td>\n",
       "      <td>156</td>\n",
       "      <td>face</td>\n",
       "    </tr>\n",
       "    <tr>\n",
       "      <th>2</th>\n",
       "      <td>face_1.jpeg</td>\n",
       "      <td>1280</td>\n",
       "      <td>697</td>\n",
       "      <td>903</td>\n",
       "      <td>162</td>\n",
       "      <td>985</td>\n",
       "      <td>252</td>\n",
       "      <td>face</td>\n",
       "    </tr>\n",
       "    <tr>\n",
       "      <th>3</th>\n",
       "      <td>face_2.jpeg</td>\n",
       "      <td>460</td>\n",
       "      <td>240</td>\n",
       "      <td>216</td>\n",
       "      <td>12</td>\n",
       "      <td>279</td>\n",
       "      <td>80</td>\n",
       "      <td>face</td>\n",
       "    </tr>\n",
       "    <tr>\n",
       "      <th>4</th>\n",
       "      <td>face_2.jpeg</td>\n",
       "      <td>460</td>\n",
       "      <td>240</td>\n",
       "      <td>289</td>\n",
       "      <td>2</td>\n",
       "      <td>343</td>\n",
       "      <td>74</td>\n",
       "      <td>face</td>\n",
       "    </tr>\n",
       "  </tbody>\n",
       "</table>\n",
       "</div>"
      ],
      "text/plain": [
       "     file_name  width  height  x_min  y_min  x_max  y_max class_name\n",
       "0  face_0.jpeg    650     333     56    102    112    151       face\n",
       "1  face_0.jpeg    650     333    379     97    428    156       face\n",
       "2  face_1.jpeg   1280     697    903    162    985    252       face\n",
       "3  face_2.jpeg    460     240    216     12    279     80       face\n",
       "4  face_2.jpeg    460     240    289      2    343     74       face"
      ]
     },
     "execution_count": 15,
     "metadata": {},
     "output_type": "execute_result"
    }
   ],
   "source": [
    "unique_files = df.file_name.unique()\n",
    "\n",
    "train_files = set(np.random.choice(unique_files, int(len(unique_files) * 0.8), replace=False))\n",
    "train_df = df[df.file_name.isin(train_files)]\n",
    "test_df = df[~df.file_name.isin(train_files)]\n",
    "\n",
    "train_df.head()"
   ]
  }
 ],
 "metadata": {
  "kernelspec": {
   "display_name": "Python 3",
   "language": "python",
   "name": "python3"
  },
  "language_info": {
   "codemirror_mode": {
    "name": "ipython",
    "version": 3
   },
   "file_extension": ".py",
   "mimetype": "text/x-python",
   "name": "python",
   "nbconvert_exporter": "python",
   "pygments_lexer": "ipython3",
   "version": "3.6.9"
  },
  "toc": {
   "base_numbering": 1,
   "nav_menu": {},
   "number_sections": true,
   "sideBar": true,
   "skip_h1_title": true,
   "title_cell": "",
   "title_sidebar": "Contents",
   "toc_cell": false,
   "toc_position": {},
   "toc_section_display": true,
   "toc_window_display": false
  }
 },
 "nbformat": 4,
 "nbformat_minor": 4
}
