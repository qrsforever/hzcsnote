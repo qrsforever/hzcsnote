{
 "cells": [
  {
   "cell_type": "markdown",
   "metadata": {},
   "source": [
    "# <div align='center'> 用户自定义模型 </div>"
   ]
  },
  {
   "cell_type": "code",
   "execution_count": 1,
   "metadata": {
    "ExecuteTime": {
     "end_time": "2020-10-30T08:52:39.485503Z",
     "start_time": "2020-10-30T08:52:39.457067Z"
    }
   },
   "outputs": [],
   "source": [
    "%reload_ext autoreload\n",
    "%autoreload 2"
   ]
  },
  {
   "cell_type": "code",
   "execution_count": 2,
   "metadata": {
    "ExecuteTime": {
     "end_time": "2020-10-30T08:52:41.093635Z",
     "start_time": "2020-10-30T08:52:39.489085Z"
    }
   },
   "outputs": [],
   "source": [
    "from k12libs.utils.nb_easy import k12ai_run_project\n",
    "from k12libs.templates.det.custom_ssd import NETWORK_BACKBONE_DEF"
   ]
  },
  {
   "cell_type": "code",
   "execution_count": 3,
   "metadata": {
    "ExecuteTime": {
     "end_time": "2020-10-30T08:52:41.125192Z",
     "start_time": "2020-10-30T08:52:41.097657Z"
    }
   },
   "outputs": [],
   "source": [
    "# print(NETWORK_BACKBONE_DEF)"
   ]
  },
  {
   "cell_type": "code",
   "execution_count": 15,
   "metadata": {
    "ExecuteTime": {
     "end_time": "2020-10-30T13:58:56.440035Z",
     "start_time": "2020-10-30T13:58:49.332119Z"
    },
    "scrolled": false
   },
   "outputs": [
    {
     "data": {
      "text/html": [
       "<style>.container { width:95% !important; }</style>"
      ],
      "text/plain": [
       "<IPython.core.display.HTML object>"
      ]
     },
     "metadata": {},
     "output_type": "display_data"
    },
    {
     "name": "stdout",
     "output_type": "stream",
     "text": [
      " * Serving Flask app \"k12libs.utils.nb_easy\" (lazy loading)\n",
      " * Environment: production\n",
      "\u001b[31m   WARNING: This is a development server. Do not use it in a production deployment.\u001b[0m\n",
      "\u001b[2m   Use a production WSGI server instead.\u001b[0m\n",
      " * Debug mode: off\n"
     ]
    },
    {
     "data": {
      "application/vnd.jupyter.widget-view+json": {
       "model_id": "5b429b7828eb44cbac3039b8e8ae3888",
       "version_major": 2,
       "version_minor": 0
      },
      "text/plain": [
       "Box(children=(Box(children=(VBox(children=(Tab(children=(VBox(children=(HBox(children=(Text(value='det', conti…"
      ]
     },
     "metadata": {},
     "output_type": "display_data"
    }
   ],
   "source": [
    "project = k12ai_run_project(debug=True,\n",
    "    framework='k12cv',\n",
    "    task='det',\n",
    "    network='custom_ssd300',\n",
    "    dataset='VOC07+12_DET',\n",
    "    model_templ='simple'\n",
    ")"
   ]
  },
  {
   "cell_type": "code",
   "execution_count": 13,
   "metadata": {
    "ExecuteTime": {
     "end_time": "2020-10-30T09:13:53.206640Z",
     "start_time": "2020-10-30T09:13:53.170863Z"
    }
   },
   "outputs": [
    {
     "data": {
      "text/plain": [
       "'plain_net {\\n name: \"hproject_model_name\"\\n\\nlayer{\\n  conv{\\n    name : \"Conv2d_6831\"\\n    layer_builder : \"NNTorchLayer\"\\n    layer_mode : CONV2D\\n    inputs : \"x\"\\n    outputs : \"Conv2d_7510\"\\n    layer_params {\\n      in_channels : \"3\"\\n      out_channels : \"30\"\\n      kernel_size : \"3\"\\n    }\\n  }\\n}\\nlayer{\\n  conv{\\n    name : \"Conv2d_7510\"\\n    layer_builder : \"NNTorchLayer\"\\n    layer_mode : CONV2D\\n    inputs : \"Conv2d_6831\"\\n    outputs : \"Conv2d_5900\"\\n    layer_params {\\n      in_channels : \"30\"\\n      out_channels : \"30\"\\n      kernel_size : \"3\"\\n    }\\n  }\\n}\\nlayer{\\n  conv{\\n    name : \"Conv2d_5900\"\\n    layer_builder : \"NNTorchLayer\"\\n    layer_mode : CONV2D\\n    inputs : \"Conv2d_7510\"\\n    outputs : \"MaxPool2d_7843\"\\n    layer_params {\\n      in_channels : \"30\"\\n      out_channels : \"30\"\\n      kernel_size : \"3\"\\n    }\\n  }\\n}\\nlayer{\\n  pool{\\n    name : \"MaxPool2d_7843\"\\n    layer_builder : \"NNTorchLayer\"\\n    layer_mode : MAXPOOL2D\\n    inputs : \"Conv2d_5900\"\\n    outputs : \"Conv2d_4074\"\\n    layer_params {\\n      kernel_size : \"3\"\\n      stride : \"1\"\\n    }\\n  }\\n}\\nlayer{\\n  conv{\\n    name : \"Conv2d_4074\"\\n    layer_builder : \"NNTorchLayer\"\\n    layer_mode : CONV2D\\n    inputs : \"MaxPool2d_7843\"\\n    outputs : \"MaxPool2d_5315\"\\n    layer_params {\\n      in_channels : \"30\"\\n      out_channels : \"50\"\\n      kernel_size : \"3\"\\n    }\\n  }\\n}\\nlayer{\\n  pool{\\n    name : \"MaxPool2d_5315\"\\n    layer_builder : \"NNTorchLayer\"\\n    layer_mode : MAXPOOL2D\\n    inputs : \"Conv2d_4074\"\\n    outputs : \"SSD_3731\"\\n    layer_params {\\n      kernel_size : \"3\"\\n      stride : \"1\"\\n    }\\n  }\\n}\\n}'"
      ]
     },
     "execution_count": 13,
     "metadata": {},
     "output_type": "execute_result"
    }
   ],
   "source": [
    "# project.protodata"
   ]
  }
 ],
 "metadata": {
  "kernelspec": {
   "display_name": "Python 3",
   "language": "python",
   "name": "python3"
  },
  "language_info": {
   "codemirror_mode": {
    "name": "ipython",
    "version": 3
   },
   "file_extension": ".py",
   "mimetype": "text/x-python",
   "name": "python",
   "nbconvert_exporter": "python",
   "pygments_lexer": "ipython3",
   "version": "3.6.9"
  },
  "toc": {
   "base_numbering": 1,
   "nav_menu": {},
   "number_sections": true,
   "sideBar": true,
   "skip_h1_title": true,
   "title_cell": "",
   "title_sidebar": "Contents",
   "toc_cell": false,
   "toc_position": {},
   "toc_section_display": true,
   "toc_window_display": false
  }
 },
 "nbformat": 4,
 "nbformat_minor": 4
}
