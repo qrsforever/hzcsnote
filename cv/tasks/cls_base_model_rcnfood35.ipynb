{
 "cells": [
  {
   "cell_type": "markdown",
   "metadata": {},
   "source": [
    "# <div align='center'> 分类任务测试 </div>"
   ]
  },
  {
   "cell_type": "code",
   "execution_count": 1,
   "metadata": {
    "ExecuteTime": {
     "end_time": "2020-11-04T10:41:41.995711Z",
     "start_time": "2020-11-04T10:41:41.966277Z"
    }
   },
   "outputs": [],
   "source": [
    "%reload_ext autoreload\n",
    "%autoreload 2"
   ]
  },
  {
   "cell_type": "code",
   "execution_count": 2,
   "metadata": {
    "ExecuteTime": {
     "end_time": "2020-11-04T10:41:42.017514Z",
     "start_time": "2020-11-04T10:41:41.999234Z"
    }
   },
   "outputs": [],
   "source": [
    "backbones = [\n",
    "    'resnet18',           # 0\n",
    "    'resnet50',           # 1\n",
    "    'densenet121',        # 2\n",
    "    'mobilenet_v2',       # 3\n",
    "    'squeezenet1_0',      # 4\n",
    "    'squeezenet1_1',      # 5\n",
    "    'shufflenet_v2_x0_5', # 6\n",
    "    'shufflenet_v2_x1_0', # 7\n",
    "]\n",
    "\n",
    "batch_sizes = [8, 16, 32, 64]\n",
    "input_sizes = [28, 32, 64, 128, 256]"
   ]
  },
  {
   "cell_type": "markdown",
   "metadata": {},
   "source": [
    "## 任务"
   ]
  },
  {
   "cell_type": "code",
   "execution_count": 3,
   "metadata": {
    "ExecuteTime": {
     "end_time": "2020-11-04T10:41:51.175988Z",
     "start_time": "2020-11-04T10:41:42.021023Z"
    },
    "scrolled": false
   },
   "outputs": [
    {
     "data": {
      "text/html": [
       "<style>.container { width:95% !important; }</style>"
      ],
      "text/plain": [
       "<IPython.core.display.HTML object>"
      ]
     },
     "metadata": {},
     "output_type": "display_data"
    },
    {
     "data": {
      "application/vnd.jupyter.widget-view+json": {
       "model_id": "b394e4e0cea44106bddb4582d6555df8",
       "version_major": 2,
       "version_minor": 0
      },
      "text/plain": [
       "Box(children=(Box(children=(VBox(children=(Tab(children=(VBox(children=(HBox(children=(Text(value='cls', conti…"
      ]
     },
     "metadata": {},
     "output_type": "display_data"
    }
   ],
   "source": [
    "import os\n",
    "import sys\n",
    "os.environ.setdefault('HOST_IP', '172.19.76.187')\n",
    "os.environ.setdefault('NET_IP', '172.19.76.187')\n",
    "sys.path.append('/jupyter')\n",
    "from k12libs.utils.nb_easy import k12ai_run_project\n",
    "project = k12ai_run_project(\n",
    "    debug=True, # tb_port=9002,\n",
    "    framework='k12cv', task='cls',\n",
    "    network=backbones[1], dataset='rcnfood12') # rcnfood35"
   ]
  }
 ],
 "metadata": {
  "hide_input": false,
  "kernelspec": {
   "display_name": "Python 3",
   "language": "python",
   "name": "python3"
  },
  "language_info": {
   "codemirror_mode": {
    "name": "ipython",
    "version": 3
   },
   "file_extension": ".py",
   "mimetype": "text/x-python",
   "name": "python",
   "nbconvert_exporter": "python",
   "pygments_lexer": "ipython3",
   "version": "3.6.9"
  },
  "toc": {
   "base_numbering": 1,
   "nav_menu": {},
   "number_sections": true,
   "sideBar": true,
   "skip_h1_title": true,
   "title_cell": "",
   "title_sidebar": "Contents",
   "toc_cell": false,
   "toc_position": {},
   "toc_section_display": true,
   "toc_window_display": false
  }
 },
 "nbformat": 4,
 "nbformat_minor": 4
}
