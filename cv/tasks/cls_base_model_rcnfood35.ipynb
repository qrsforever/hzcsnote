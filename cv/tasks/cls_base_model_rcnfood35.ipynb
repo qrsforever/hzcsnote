{
 "cells": [
  {
   "cell_type": "markdown",
   "metadata": {},
   "source": [
    "# <div align='center'> 分类任务测试 </div>"
   ]
  },
  {
   "cell_type": "code",
   "execution_count": 1,
   "metadata": {
    "ExecuteTime": {
     "end_time": "2020-11-04T10:41:41.995711Z",
     "start_time": "2020-11-04T10:41:41.966277Z"
    }
   },
   "outputs": [],
   "source": [
    "%reload_ext autoreload\n",
    "%autoreload 2"
   ]
  },
  {
   "cell_type": "code",
   "execution_count": 2,
   "metadata": {
    "ExecuteTime": {
     "end_time": "2020-11-04T10:41:42.017514Z",
     "start_time": "2020-11-04T10:41:41.999234Z"
    }
   },
   "outputs": [],
   "source": [
    "backbones = [\n",
    "    'resnet18',           # 0\n",
    "    'resnet50',           # 1\n",
    "    'densenet121',        # 2\n",
    "    'mobilenet_v2',       # 3\n",
    "    'squeezenet1_0',      # 4\n",
    "    'squeezenet1_1',      # 5\n",
    "    'shufflenet_v2_x0_5', # 6\n",
    "    'shufflenet_v2_x1_0', # 7\n",
    "]\n",
    "\n",
    "batch_sizes = [8, 16, 32, 64]\n",
    "input_sizes = [28, 32, 64, 128, 256]"
   ]
  },
  {
   "cell_type": "markdown",
   "metadata": {},
   "source": [
    "## 任务"
   ]
  },
  {
   "cell_type": "code",
   "execution_count": 4,
   "metadata": {
    "ExecuteTime": {
     "end_time": "2020-11-04T10:41:51.175988Z",
     "start_time": "2020-11-04T10:41:42.021023Z"
    },
    "scrolled": false
   },
   "outputs": [
    {
     "data": {
      "text/html": [
       "<style>.container { width:95% !important; }</style>"
      ],
      "text/plain": [
       "<IPython.core.display.HTML object>"
      ]
     },
     "metadata": {},
     "output_type": "display_data"
    },
    {
     "data": {
      "application/vnd.jupyter.widget-view+json": {
       "model_id": "8d748fb4ebf541d99865274d5658e475",
       "version_major": 2,
       "version_minor": 0
      },
      "text/plain": [
       "Box(children=(Box(children=(VBox(children=(Tab(children=(VBox(children=(HBox(children=(Text(value='cls', conti…"
      ]
     },
     "metadata": {},
     "output_type": "display_data"
    },
    {
     "name": "stdout",
     "output_type": "stream",
     "text": [
      "{'task': 'cls', 'method': 'image_classifier', 'data.include_val': True, 'dataset': 'default', 'data.workers': 4, 'data.drop_last': False, 'data.image_tool': 'pil', 'data.input_mode': 'RGB', 'solver.display_iter': 64, 'solver.test_interval': 256, 'solver.save_iters': 1024, 'train.batch_size': 64, 'val.batch_size': 64, 'test.batch_size': 32, 'train.data_transformer.fit_stride': 1, 'train.data_transformer.size_mode': 'fix_size', 'train.data_transformer.input_size': [224, 224], 'train.data_transformer.align_method': 'scale_and_pad', 'train.data_transformer.pad_mode': 'pad_border', '_k12.train.random_border.bool': False, '_k12.train.random_brightness.bool': False, '_k12.train.random_contrast.bool': False, '_k12.train.random_crop.bool': False, '_k12.train.random_det_crop.bool': False, '_k12.train.random_gauss_blur.bool': False, '_k12.train.random_hsv.bool': False, '_k12.train.random_hue.bool': False, '_k12.train.random_pad.bool': False, '_k12.train.random_perm.bool': False, '_k12.train.random_resize.bool': False, '_k12.train.random_resized_crop.bool': False, '_k12.train.random_rotate.bool': False, '_k12.train.random_saturation.bool': False, 'val.data_transformer.fit_stride': 1, 'val.data_transformer.size_mode': 'fix_size', 'val.data_transformer.input_size': [224, 224], 'val.data_transformer.align_method': 'scale_and_pad', 'val.data_transformer.pad_mode': 'pad_border', '_k12.val.random_border.bool': False, '_k12.val.random_brightness.bool': False, '_k12.val.random_contrast.bool': False, '_k12.val.random_crop.bool': False, '_k12.val.random_det_crop.bool': False, '_k12.val.random_gauss_blur.bool': False, '_k12.val.random_hsv.bool': False, '_k12.val.random_hue.bool': False, '_k12.val.random_pad.bool': False, '_k12.val.random_perm.bool': False, '_k12.val.random_resize.bool': False, '_k12.val.random_resized_crop.bool': False, '_k12.val.random_rotate.bool': False, '_k12.val.random_saturation.bool': False, 'test.data_transformer.fit_stride': 1, 'test.data_transformer.size_mode': 'fix_size', 'test.data_transformer.input_size': [224, 224], 'test.data_transformer.align_method': 'scale_and_pad', 'test.data_transformer.pad_mode': 'pad_border', '_k12.test.random_border.bool': False, '_k12.test.random_brightness.bool': False, '_k12.test.random_contrast.bool': False, '_k12.test.random_crop.bool': False, '_k12.test.random_det_crop.bool': False, '_k12.test.random_gauss_blur.bool': False, '_k12.test.random_hsv.bool': False, '_k12.test.random_hue.bool': False, '_k12.test.random_pad.bool': False, '_k12.test.random_perm.bool': False, '_k12.test.random_resize.bool': False, '_k12.test.random_resized_crop.bool': False, '_k12.test.random_rotate.bool': False, '_k12.test.random_saturation.bool': False, '_k12.data.dataset_name': 'rcnfood35', 'data.data_dir': '/datasets/rcnfood35', 'data.num_records': 29250, 'data.num_classes': 35, 'data.normalize.mean': [0.6332, 0.5754, 0.4965], 'data.normalize.std': [0.2632, 0.2896, 0.3205], '_k12.detail.name_seq': ['麻婆豆腐', '酸辣土豆丝', '鱼香茄子', '醋溜白菜', '手撕包菜', '炒豆芽', '蚝油西兰花', '莲藕', '凉拌木耳', '花生米', '炒苦瓜', '松仁玉米', '西红柿炒鸡蛋', '猪肝', '糖醋排骨', '可乐鸡翅', '啤酒鸭', '红烧肉', '梅菜扣肉', '酱焖猪蹄', '蚂蚁上树', '羊肉串', '酸菜鱼', '香辣小龙虾', '生蚝', '鸡蛋灌饼', '馒头', '炸酱面', '饺子', '小米粥', '皮蛋瘦肉粥', '毛血旺', '北京烤鸭', '麻花', '凉拌皮蛋'], 'network.model_name': 'base_model', 'network.distributed': False, 'network.resume_continue': False, 'network.backbone': 'resnet50', 'network.pretrained': True, 'network.resume_strict': False, 'network.norm_type': 'batchnorm', 'network.syncbn': False, 'network.resume_val': False, 'network.checkpoints_root': '/cache/output', 'network.checkpoints_dir': 'ckpts', '_k12.network.pretrained_path': '/pretrained', 'solver.lr.metric': 'epoch', 'solver.max_epoch': 200, 'solver.lr.base_lr': 0.1, 'solver.lr.lr_policy': 'multistep', 'solver.lr.multistep.gamma': 0.1, 'solver.lr.multistep.stepvalue': [30, 80, 120], 'solver.lr.is_warm': False, 'loss.loss_type': 'ce_loss', 'loss.loss_weights.ce_loss.ce_loss': 1.0, 'loss.params.ce_loss.reduction': 'mean', 'loss.params.ce_loss.ignore_index': -1, 'solver.optim.optim_method': 'adam', 'solver.optim.adam.weight_decay': 0.0001, 'solver.optim.adam.betas': [0.9, 0.999], 'solver.optim.adam.eps': 1e-08, 'metrics.raw_vs_aug': False, 'metrics.train_speed': False, 'metrics.train_lr': False, 'metrics.val_speed': False, 'metrics.confusion_matrix': True, 'metrics.top10_images': False, 'metrics.top10_errors': False, 'metrics.precision': True, 'metrics.recall': True, 'metrics.fscore': False, 'metrics.model_autograd': False, 'metrics.model_graph': False, 'metrics.feature_maps': False, 'metrics.filters_maps': False, 'metrics.vbp': False, 'metrics.gbp': False, 'metrics.deconv': False, 'metrics.gcam': False, 'metrics.ggcam': False, 'metrics.predict_images': False, 'metrics.predict_probs': False, '_k12.tb_logdir': '/data/k12-nfs/tblogs/166/140119'}\n",
      "False\n"
     ]
    }
   ],
   "source": [
    "import os\n",
    "import sys\n",
    "os.environ.setdefault('HOST_IP', '172.19.76.187')\n",
    "os.environ.setdefault('NET_IP', '172.19.76.187')\n",
    "sys.path.append('/jupyter')\n",
    "from k12libs.utils.nb_easy import k12ai_run_project\n",
    "project = k12ai_run_project(\n",
    "    debug=True, # tb_port=9002,\n",
    "    framework='k12cv', task='cls',\n",
    "    network=backbones[1], dataset='rcnfood35')"
   ]
  }
 ],
 "metadata": {
  "hide_input": false,
  "kernelspec": {
   "display_name": "Python 3",
   "language": "python",
   "name": "python3"
  },
  "language_info": {
   "codemirror_mode": {
    "name": "ipython",
    "version": 3
   },
   "file_extension": ".py",
   "mimetype": "text/x-python",
   "name": "python",
   "nbconvert_exporter": "python",
   "pygments_lexer": "ipython3",
   "version": "3.6.9"
  },
  "toc": {
   "base_numbering": 1,
   "nav_menu": {},
   "number_sections": true,
   "sideBar": true,
   "skip_h1_title": true,
   "title_cell": "",
   "title_sidebar": "Contents",
   "toc_cell": false,
   "toc_position": {},
   "toc_section_display": true,
   "toc_window_display": false
  }
 },
 "nbformat": 4,
 "nbformat_minor": 4
}
