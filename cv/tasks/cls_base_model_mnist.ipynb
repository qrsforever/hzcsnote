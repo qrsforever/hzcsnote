{
 "cells": [
  {
   "cell_type": "markdown",
   "metadata": {},
   "source": [
    "# <div align='center'> 分类任务测试 </div>"
   ]
  },
  {
   "cell_type": "code",
   "execution_count": 4,
   "metadata": {
    "ExecuteTime": {
     "end_time": "2020-11-19T10:15:19.803601Z",
     "start_time": "2020-11-19T10:15:19.756107Z"
    }
   },
   "outputs": [],
   "source": [
    "%reload_ext autoreload\n",
    "%autoreload 2"
   ]
  },
  {
   "cell_type": "code",
   "execution_count": 1,
   "metadata": {
    "ExecuteTime": {
     "end_time": "2020-12-10T06:41:09.209803Z",
     "start_time": "2020-12-10T06:41:09.200417Z"
    }
   },
   "outputs": [],
   "source": [
    "backbones = [\n",
    "    'resnet18',           # 0\n",
    "    'resnet50',           # 1\n",
    "    'densenet121',        # 2\n",
    "    'mobilenet_v2',       # 3\n",
    "    'squeezenet1_0',      # 4\n",
    "    'squeezenet1_1',      # 5\n",
    "    'shufflenet_v2_x0_5', # 6\n",
    "    'shufflenet_v2_x1_0', # 7\n",
    "]\n",
    "\n",
    "batch_sizes = [8, 16, 32, 64]\n",
    "input_sizes = [28, 32, 64, 128, 256]"
   ]
  },
  {
   "cell_type": "markdown",
   "metadata": {},
   "source": [
    "## 任务"
   ]
  },
  {
   "cell_type": "code",
   "execution_count": 2,
   "metadata": {
    "ExecuteTime": {
     "end_time": "2020-12-10T06:41:21.161802Z",
     "start_time": "2020-12-10T06:41:12.005733Z"
    },
    "scrolled": false
   },
   "outputs": [
    {
     "data": {
      "text/html": [
       "<style>.container { width:95% !important; }</style>"
      ],
      "text/plain": [
       "<IPython.core.display.HTML object>"
      ]
     },
     "metadata": {},
     "output_type": "display_data"
    },
    {
     "data": {
      "text/html": [
       "<style>.container { width:95% !important; }</style>"
      ],
      "text/plain": [
       "<IPython.core.display.HTML object>"
      ]
     },
     "metadata": {},
     "output_type": "display_data"
    },
    {
     "data": {
      "application/vnd.jupyter.widget-view+json": {
       "model_id": "53d26717ac0c4808a820cc7b8f7b6e03",
       "version_major": 2,
       "version_minor": 0
      },
      "text/plain": [
       "Box(children=(Box(children=(VBox(children=(Tab(children=(VBox(children=(HBox(children=(Text(value='cls', conti…"
      ]
     },
     "metadata": {},
     "output_type": "display_data"
    }
   ],
   "source": [
    "from k12libs.utils.nb_easy import k12ai_run_project\n",
    "project = k12ai_run_project(\n",
    "    debug=True, tb_port=9002,\n",
    "    framework='k12cv', task='cls',\n",
    "    network=backbones[0], dataset='rmnist')"
   ]
  },
  {
   "cell_type": "markdown",
   "metadata": {},
   "source": [
    "## 压测 (P40 跑10个任务)"
   ]
  },
  {
   "cell_type": "code",
   "execution_count": null,
   "metadata": {
    "ExecuteTime": {
     "end_time": "2020-11-03T11:19:38.457443Z",
     "start_time": "2020-11-03T11:19:30.082Z"
    }
   },
   "outputs": [],
   "source": [
    "# from k12libs.utils.nb_easy import k12ai_train_execute\n",
    "# keys = k12ai_train_execute(\n",
    "#     framework='k12cv', task='cls',\n",
    "#     network=backbones[-1], dataset='rmnist',\n",
    "#     batchsize=32, inputsize=32, epoch_num=20, run_num=10)"
   ]
  }
 ],
 "metadata": {
  "kernelspec": {
   "display_name": "Python 3",
   "language": "python",
   "name": "python3"
  },
  "language_info": {
   "codemirror_mode": {
    "name": "ipython",
    "version": 3
   },
   "file_extension": ".py",
   "mimetype": "text/x-python",
   "name": "python",
   "nbconvert_exporter": "python",
   "pygments_lexer": "ipython3",
   "version": "3.6.9"
  },
  "toc": {
   "base_numbering": 1,
   "nav_menu": {},
   "number_sections": true,
   "sideBar": true,
   "skip_h1_title": true,
   "title_cell": "",
   "title_sidebar": "Contents",
   "toc_cell": false,
   "toc_position": {},
   "toc_section_display": true,
   "toc_window_display": false
  }
 },
 "nbformat": 4,
 "nbformat_minor": 4
}
