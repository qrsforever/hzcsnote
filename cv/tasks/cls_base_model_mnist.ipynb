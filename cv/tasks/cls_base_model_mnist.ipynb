{
 "cells": [
  {
   "cell_type": "markdown",
   "metadata": {},
   "source": [
    "# <div align='center'> 分类任务测试 </div>"
   ]
  },
  {
   "cell_type": "code",
   "execution_count": null,
   "metadata": {
    "ExecuteTime": {
     "end_time": "2020-07-15T12:58:07.615139Z",
     "start_time": "2020-07-15T12:58:07.582611Z"
    }
   },
   "outputs": [],
   "source": [
    "%reload_ext autoreload\n",
    "%autoreload 2"
   ]
  },
  {
   "cell_type": "code",
   "execution_count": 1,
   "metadata": {
    "ExecuteTime": {
     "end_time": "2020-07-15T15:37:40.346477Z",
     "start_time": "2020-07-15T15:37:40.336723Z"
    }
   },
   "outputs": [],
   "source": [
    "backbones = [\n",
    "    'resnet18',           # 0\n",
    "    'resnet50',           # 1\n",
    "    'densenet121',        # 2\n",
    "    'mobilenet_v2',       # 3\n",
    "    'squeezenet1_0',      # 4\n",
    "    'squeezenet1_1',      # 5\n",
    "    'shufflenet_v2_x0_5', # 6\n",
    "    'shufflenet_v2_x1_0', # 7\n",
    "]\n",
    "\n",
    "batch_sizes = [8, 16, 32, 64, 128, 256]\n",
    "input_sizes = [28, 32, 64, 128, 256, 512]"
   ]
  },
  {
   "cell_type": "markdown",
   "metadata": {},
   "source": [
    "## 任务"
   ]
  },
  {
   "cell_type": "code",
   "execution_count": 5,
   "metadata": {
    "ExecuteTime": {
     "end_time": "2020-07-15T13:15:59.661524Z",
     "start_time": "2020-07-15T13:15:50.912244Z"
    },
    "scrolled": false
   },
   "outputs": [
    {
     "data": {
      "text/html": [
       "<style>.container { width:95% !important; }</style>"
      ],
      "text/plain": [
       "<IPython.core.display.HTML object>"
      ]
     },
     "metadata": {},
     "output_type": "display_data"
    },
    {
     "data": {
      "application/vnd.jupyter.widget-view+json": {
       "model_id": "5f381f054f004ab48a35d3ee32d8cfc5",
       "version_major": 2,
       "version_minor": 0
      },
      "text/plain": [
       "Box(children=(Box(children=(VBox(children=(Tab(children=(VBox(children=(HBox(children=(Text(value='cls', conti…"
      ]
     },
     "metadata": {},
     "output_type": "display_data"
    }
   ],
   "source": [
    "from k12libs.utils.nb_easy import k12ai_run_project\n",
    "project = k12ai_run_project(\n",
    "    debug=True, tb_port=9002,\n",
    "    framework='k12cv', task='cls',\n",
    "    network=backbones[-1], dataset='mnist')"
   ]
  },
  {
   "cell_type": "markdown",
   "metadata": {},
   "source": [
    "## 压测 (P40 跑10个任务)"
   ]
  },
  {
   "cell_type": "code",
   "execution_count": 3,
   "metadata": {
    "ExecuteTime": {
     "end_time": "2020-07-15T13:03:27.446172Z",
     "start_time": "2020-07-15T13:03:19.142170Z"
    }
   },
   "outputs": [],
   "source": [
    "from k12libs.utils.nb_easy import k12ai_train_execute\n",
    "keys = k12ai_train_execute(\n",
    "    framework='k12cv', task='cls',\n",
    "    network=backbones[-1], dataset='mnist',\n",
    "    batchsize=32, inputsize=28, epoch_num=2, run_num=10)"
   ]
  },
  {
   "cell_type": "markdown",
   "metadata": {},
   "source": [
    "## 统计"
   ]
  },
  {
   "cell_type": "markdown",
   "metadata": {},
   "source": [
    "```json\n",
    "{\n",
    "  \"version\": \"0.1.0\",\n",
    "  \"ip\": \"10.255.0.58\",\n",
    "  \"type\": \"error\",\n",
    "  \"token\": \"123456\",\n",
    "  \"user\": \"16601548608\",\n",
    "  \"op\": \"train.start\",\n",
    "  \"service_name\": \"k12cv\",\n",
    "  \"service_uuid\": \"41edf3\",\n",
    "  \"timestamp\": 1594824029703,\n",
    "  \"datetime\": \"20200715224029\",\n",
    "  \"data\": {\n",
    "    \"code\": 100003,\n",
    "    \"message\": {\n",
    "      \"en\": \"program normal exit\",\n",
    "      \"cn\": \"\\u7a0b\\u5e8f\\u6b63\\u5e38\\u7ed3\\u675f\"\n",
    "    },\n",
    "    \"expand\": {\n",
    "      \"status\": \"finish\",\n",
    "      \"uptime\": 27,\n",
    "      \"memstat\": {\n",
    "        \"app_cpu_memory_usage_MB\": 4271.531,\n",
    "        \"app_gpu_memory_usage_MB\": 34.071,\n",
    "        \"sys_cpu_memory_free_MB\": 42289.039,\n",
    "        \"sys_gpu_memory_free_MB\": [\n",
    "          22282.0\n",
    "        ],\n",
    "        \"peak_cpu_self_ru_maxrss\": 2367.492,\n",
    "        \"peak_cpu_children_ru_maxrss\": 1904.039,\n",
    "        \"peak_gpu_0_memory_cached_MB\": 46.0,\n",
    "        \"peak_gpu_0_memory_allocated_MB\": 19.522,\n",
    "        \"peak_gpu_0_max_memory_cached_MB\": 46.0,\n",
    "        \"peak_gpu_0_max_memory_allocated_MB\": 34.071\n",
    "      },\n",
    "      \"resource\": {\n",
    "        \"containers\": [\n",
    "          {\n",
    "            \"id\": \"f19713b1122e\",\n",
    "            \"op\": \"train.start\",\n",
    "            \"user\": \"16601548608\",\n",
    "            \"service_uuid\": \"41edf3\",\n",
    "            \"cpu_percent\": 0.13,\n",
    "            \"cpu_memory_total_MB\": 10240.0,\n",
    "            \"cpu_memory_usage_MB\": 1889.574,\n",
    "            \"cpu_memory_percent\": 18.45,\n",
    "            \"gpu_percent\": 0.0,\n",
    "            \"gpu_memory_usage_MB\": 627,\n",
    "            \"gpu_memory_percent\": 0.0\n",
    "          }\n",
    "        ]\n",
    "      },\n",
    "      \"environ\": {\n",
    "        \"dataset_name\": \"mnist\",\n",
    "        \"model_name\": \"shufflenet_v2_x1_0\",\n",
    "        \"batch_size\": \"32\",\n",
    "        \"input_size\": \"[28, 28]\"\n",
    "      }\n",
    "    }\n",
    "  }\n",
    "}\n",
    "```"
   ]
  },
  {
   "cell_type": "code",
   "execution_count": null,
   "metadata": {
    "ExecuteTime": {
     "start_time": "2020-07-15T15:37:44.970Z"
    }
   },
   "outputs": [
    {
     "name": "stdout",
     "output_type": "stream",
     "text": [
      "resnet18 8 28\n",
      "---------------------------------------- \n",
      " {'version': '0.1.0', 'ip': '10.255.0.58', 'type': 'error', 'token': '3f6fe7', 'user': '15801310416', 'op': 'train.start', 'service_name': 'k12cv', 'service_uuid': '3f6fe7-0', 'timestamp': 1594827552041, 'datetime': '20200715233912', 'data': {'code': 100003, 'message': {'en': 'program normal exit', 'cn': '程序正常结束'}, 'expand': {'status': 'finish', 'uptime': 70, 'memstat': {'app_cpu_memory_usage_MB': 4339.554, 'app_gpu_memory_usage_MB': 223.357, 'sys_cpu_memory_free_MB': 42148.191, 'sys_gpu_memory_free_MB': [22084.0], 'peak_cpu_self_ru_maxrss': 2366.609, 'peak_cpu_children_ru_maxrss': 1972.945, 'peak_gpu_0_memory_reserved_MB': 244.0, 'peak_gpu_0_memory_allocated_MB': 173.43, 'peak_gpu_0_max_memory_reserved_MB': 286.0, 'peak_gpu_0_max_memory_allocated_MB': 223.357}, 'resource': {'containers': [{'id': '159d2f00da7d', 'op': 'train.start', 'user': '15801310416', 'service_uuid': '3f6fe7-0', 'service_starttime': '2020-07-15T15:37:53.639847763Z', 'cpu_percent': 0.12, 'cpu_memory_total_MB': 10240.0, 'cpu_memory_usage_MB': 1929.391, 'cpu_memory_percent': 18.84, 'gpu_percent': 0.0, 'gpu_memory_usage_MB': 825, 'gpu_memory_percent': 0.0}]}, 'environ': {'dataset_name': 'mnist', 'model_name': 'resnet18', 'batch_size': '8', 'input_size': '[28, 28]'}}}}\n",
      "resnet18 8 32\n",
      "---------------------------------------- \n",
      " {'version': '0.1.0', 'ip': '10.255.0.58', 'type': 'error', 'token': '3396ad', 'user': '15801310416', 'op': 'train.start', 'service_name': 'k12cv', 'service_uuid': '3396ad-0', 'timestamp': 1594827638057, 'datetime': '20200715234038', 'data': {'code': 100003, 'message': {'en': 'program normal exit', 'cn': '程序正常结束'}, 'expand': {'status': 'finish', 'uptime': 70, 'memstat': {'app_cpu_memory_usage_MB': 4339.196, 'app_gpu_memory_usage_MB': 223.936, 'sys_cpu_memory_free_MB': 42164.18, 'sys_gpu_memory_free_MB': [22084.0], 'peak_cpu_self_ru_maxrss': 2366.766, 'peak_cpu_children_ru_maxrss': 1972.43, 'peak_gpu_0_memory_reserved_MB': 244.0, 'peak_gpu_0_memory_allocated_MB': 173.43, 'peak_gpu_0_max_memory_reserved_MB': 286.0, 'peak_gpu_0_max_memory_allocated_MB': 223.936}, 'resource': {'containers': [{'id': 'd26f3d6d5c9c', 'op': 'train.start', 'user': '15801310416', 'service_uuid': '3396ad-0', 'service_starttime': '2020-07-15T15:39:19.849691562Z', 'cpu_percent': 0.12, 'cpu_memory_total_MB': 10240.0, 'cpu_memory_usage_MB': 1929.859, 'cpu_memory_percent': 18.85, 'gpu_percent': 0.0, 'gpu_memory_usage_MB': 825, 'gpu_memory_percent': 0.0}]}, 'environ': {'dataset_name': 'mnist', 'model_name': 'resnet18', 'batch_size': '8', 'input_size': '[32, 32]'}}}}\n",
      "resnet18 8 64\n",
      "---------------------------------------- \n",
      " {'version': '0.1.0', 'ip': '10.255.0.58', 'type': 'error', 'token': 'e94029', 'user': '15801310416', 'op': 'train.start', 'service_name': 'k12cv', 'service_uuid': 'e94029-0', 'timestamp': 1594827723164, 'datetime': '20200715234203', 'data': {'code': 100003, 'message': {'en': 'program normal exit', 'cn': '程序正常结束'}, 'expand': {'status': 'finish', 'uptime': 69, 'memstat': {'app_cpu_memory_usage_MB': 4340.141, 'app_gpu_memory_usage_MB': 232.592, 'sys_cpu_memory_free_MB': 42151.641, 'sys_gpu_memory_free_MB': [22078.0], 'peak_cpu_self_ru_maxrss': 2366.832, 'peak_cpu_children_ru_maxrss': 1973.309, 'peak_gpu_0_memory_reserved_MB': 250.0, 'peak_gpu_0_memory_allocated_MB': 171.68, 'peak_gpu_0_max_memory_reserved_MB': 292.0, 'peak_gpu_0_max_memory_allocated_MB': 232.592}, 'resource': {'containers': [{'id': '5067dad976ba', 'op': 'train.start', 'user': '15801310416', 'service_uuid': 'e94029-0', 'service_starttime': '2020-07-15T15:40:46.120656084Z', 'cpu_percent': 0.13, 'cpu_memory_total_MB': 10240.0, 'cpu_memory_usage_MB': 1929.648, 'cpu_memory_percent': 18.84, 'gpu_percent': 0.0, 'gpu_memory_usage_MB': 831, 'gpu_memory_percent': 0.0}]}, 'environ': {'dataset_name': 'mnist', 'model_name': 'resnet18', 'batch_size': '8', 'input_size': '[64, 64]'}}}}\n",
      "resnet18 8 128\n",
      "---------------------------------------- \n",
      " {'version': '0.1.0', 'ip': '10.255.0.58', 'type': 'error', 'token': 'b83120', 'user': '15801310416', 'op': 'train.start', 'service_name': 'k12cv', 'service_uuid': 'b83120-0', 'timestamp': 1594827807368, 'datetime': '20200715234327', 'data': {'code': 100003, 'message': {'en': 'program normal exit', 'cn': '程序正常结束'}, 'expand': {'status': 'finish', 'uptime': 68, 'memstat': {'app_cpu_memory_usage_MB': 4343.684, 'app_gpu_memory_usage_MB': 276.217, 'sys_cpu_memory_free_MB': 42138.637, 'sys_gpu_memory_free_MB': [22034.0], 'peak_cpu_self_ru_maxrss': 2371.039, 'peak_cpu_children_ru_maxrss': 1972.645, 'peak_gpu_0_memory_reserved_MB': 294.0, 'peak_gpu_0_memory_allocated_MB': 172.18, 'peak_gpu_0_max_memory_reserved_MB': 318.0, 'peak_gpu_0_max_memory_allocated_MB': 276.217}, 'resource': {'containers': [{'id': '0b130bf23e81', 'op': 'train.start', 'user': '15801310416', 'service_uuid': 'b83120-0', 'service_starttime': '2020-07-15T15:42:11.115806469Z', 'cpu_percent': 0.13, 'cpu_memory_total_MB': 10240.0, 'cpu_memory_usage_MB': 1933.633, 'cpu_memory_percent': 18.88, 'gpu_percent': 0.0, 'gpu_memory_usage_MB': 875, 'gpu_memory_percent': 0.0}]}, 'environ': {'dataset_name': 'mnist', 'model_name': 'resnet18', 'batch_size': '8', 'input_size': '[128, 128]'}}}}\n",
      "resnet18 8 256\n",
      "---------------------------------------- \n",
      " {'version': '0.1.0', 'ip': '10.255.0.58', 'type': 'error', 'token': 'd53720', 'user': '15801310416', 'op': 'train.start', 'service_name': 'k12cv', 'service_uuid': 'd53720-0', 'timestamp': 1594827899288, 'datetime': '20200715234459', 'data': {'code': 100003, 'message': {'en': 'program normal exit', 'cn': '程序正常结束'}, 'expand': {'status': 'finish', 'uptime': 77, 'memstat': {'app_cpu_memory_usage_MB': 4360.836, 'app_gpu_memory_usage_MB': 446.717, 'sys_cpu_memory_free_MB': 42111.285, 'sys_gpu_memory_free_MB': [21800.0], 'peak_cpu_self_ru_maxrss': 2387.973, 'peak_cpu_children_ru_maxrss': 1972.863, 'peak_gpu_0_memory_reserved_MB': 528.0, 'peak_gpu_0_memory_allocated_MB': 172.43, 'peak_gpu_0_max_memory_reserved_MB': 528.0, 'peak_gpu_0_max_memory_allocated_MB': 446.717}, 'resource': {'containers': [{'id': '960810b7fc13', 'op': 'train.start', 'user': '15801310416', 'service_uuid': 'd53720-0', 'service_starttime': '2020-07-15T15:43:35.538277736Z', 'cpu_percent': 0.12, 'cpu_memory_total_MB': 10240.0, 'cpu_memory_usage_MB': 1948.461, 'cpu_memory_percent': 19.03, 'gpu_percent': 0.0, 'gpu_memory_usage_MB': 1109, 'gpu_memory_percent': 0.0}]}, 'environ': {'dataset_name': 'mnist', 'model_name': 'resnet18', 'batch_size': '8', 'input_size': '[256, 256]'}}}}\n",
      "resnet18 8 512\n",
      "---------------------------------------- \n",
      " {'version': '0.1.0', 'ip': '10.255.0.58', 'type': 'error', 'token': '8ebc53', 'user': '15801310416', 'op': 'train.start', 'service_name': 'k12cv', 'service_uuid': '8ebc53-0', 'timestamp': 1594828071446, 'datetime': '20200715234751', 'data': {'code': 100003, 'message': {'en': 'program normal exit', 'cn': '程序正常结束'}, 'expand': {'status': 'finish', 'uptime': 156, 'memstat': {'app_cpu_memory_usage_MB': 4441.59, 'app_gpu_memory_usage_MB': 1125.967, 'sys_cpu_memory_free_MB': 42052.766, 'sys_gpu_memory_free_MB': [20810.0], 'peak_cpu_self_ru_maxrss': 2461.914, 'peak_cpu_children_ru_maxrss': 1979.676, 'peak_gpu_0_memory_reserved_MB': 1518.0, 'peak_gpu_0_memory_allocated_MB': 174.93, 'peak_gpu_0_max_memory_reserved_MB': 1518.0, 'peak_gpu_0_max_memory_allocated_MB': 1125.967}, 'resource': {'containers': [{'id': '12bd3f80132b', 'op': 'train.start', 'user': '15801310416', 'service_uuid': '8ebc53-0', 'service_starttime': '2020-07-15T15:45:07.857743479Z', 'cpu_percent': 0.12, 'cpu_memory_total_MB': 10240.0, 'cpu_memory_usage_MB': 2003.625, 'cpu_memory_percent': 19.57, 'gpu_percent': 0.0, 'gpu_memory_usage_MB': 2099, 'gpu_memory_percent': 0.0}]}, 'environ': {'dataset_name': 'mnist', 'model_name': 'resnet18', 'batch_size': '8', 'input_size': '[512, 512]'}}}}\n",
      "resnet18 16 28\n",
      "---------------------------------------- \n",
      " {'version': '0.1.0', 'ip': '10.255.0.58', 'type': 'error', 'token': '69bd66', 'user': '15801310416', 'op': 'train.start', 'service_name': 'k12cv', 'service_uuid': '69bd66-0', 'timestamp': 1594828148628, 'datetime': '20200715234908', 'data': {'code': 100003, 'message': {'en': 'program normal exit', 'cn': '程序正常结束'}, 'expand': {'status': 'finish', 'uptime': 61, 'memstat': {'app_cpu_memory_usage_MB': 4267.493, 'app_gpu_memory_usage_MB': 1335.083, 'sys_cpu_memory_free_MB': 42118.539, 'sys_gpu_memory_free_MB': [19932.0], 'peak_cpu_self_ru_maxrss': 2365.559, 'peak_cpu_children_ru_maxrss': 1901.934, 'peak_gpu_0_memory_reserved_MB': 2396.0, 'peak_gpu_0_memory_allocated_MB': 173.305, 'peak_gpu_0_max_memory_reserved_MB': 2396.0, 'peak_gpu_0_max_memory_allocated_MB': 1335.083}, 'resource': {'containers': [{'id': '894f62cf6bec', 'op': 'train.start', 'user': '15801310416', 'service_uuid': '69bd66-0', 'service_starttime': '2020-07-15T15:47:59.703628992Z', 'cpu_percent': 3.09, 'cpu_memory_total_MB': 10240.0, 'cpu_memory_usage_MB': 1928.137, 'cpu_memory_percent': 18.83, 'gpu_percent': 0.0, 'gpu_memory_usage_MB': 2977, 'gpu_memory_percent': 0.0}]}, 'environ': {'dataset_name': 'mnist', 'model_name': 'resnet18', 'batch_size': '16', 'input_size': '[28, 28]'}}}}\n",
      "resnet18 16 32\n"
     ]
    },
    {
     "name": "stdout",
     "output_type": "stream",
     "text": [
      "---------------------------------------- \n",
      " {'version': '0.1.0', 'ip': '10.255.0.58', 'type': 'error', 'token': '8f3474', 'user': '15801310416', 'op': 'train.start', 'service_name': 'k12cv', 'service_uuid': '8f3474-0', 'timestamp': 1594828224691, 'datetime': '20200715235024', 'data': {'code': 100003, 'message': {'en': 'program normal exit', 'cn': '程序正常结束'}, 'expand': {'status': 'finish', 'uptime': 60, 'memstat': {'app_cpu_memory_usage_MB': 4268.727, 'app_gpu_memory_usage_MB': 1336.24, 'sys_cpu_memory_free_MB': 42102.77, 'sys_gpu_memory_free_MB': [19930.0], 'peak_cpu_self_ru_maxrss': 2366.176, 'peak_cpu_children_ru_maxrss': 1902.551, 'peak_gpu_0_memory_reserved_MB': 2398.0, 'peak_gpu_0_memory_allocated_MB': 173.305, 'peak_gpu_0_max_memory_reserved_MB': 2398.0, 'peak_gpu_0_max_memory_allocated_MB': 1336.24}, 'resource': {'containers': [{'id': 'e01db8a0bc5b', 'op': 'train.start', 'user': '15801310416', 'service_uuid': '8f3474-0', 'service_starttime': '2020-07-15T15:49:17.05246598Z', 'cpu_percent': 0.15, 'cpu_memory_total_MB': 10240.0, 'cpu_memory_usage_MB': 1928.332, 'cpu_memory_percent': 18.83, 'gpu_percent': 0.0, 'gpu_memory_usage_MB': 2979, 'gpu_memory_percent': 0.0}]}, 'environ': {'dataset_name': 'mnist', 'model_name': 'resnet18', 'batch_size': '16', 'input_size': '[32, 32]'}}}}\n",
      "resnet18 16 64\n",
      "---------------------------------------- \n",
      " {'version': '0.1.0', 'ip': '10.255.0.58', 'type': 'error', 'token': '15a0d6', 'user': '15801310416', 'op': 'train.start', 'service_name': 'k12cv', 'service_uuid': '15a0d6-0', 'timestamp': 1594828301754, 'datetime': '20200715235141', 'data': {'code': 100003, 'message': {'en': 'program normal exit', 'cn': '程序正常结束'}, 'expand': {'status': 'finish', 'uptime': 61, 'memstat': {'app_cpu_memory_usage_MB': 4275.445, 'app_gpu_memory_usage_MB': 1356.24, 'sys_cpu_memory_free_MB': 42082.734, 'sys_gpu_memory_free_MB': [19920.0], 'peak_cpu_self_ru_maxrss': 2368.129, 'peak_cpu_children_ru_maxrss': 1907.316, 'peak_gpu_0_memory_reserved_MB': 2408.0, 'peak_gpu_0_memory_allocated_MB': 172.68, 'peak_gpu_0_max_memory_reserved_MB': 2408.0, 'peak_gpu_0_max_memory_allocated_MB': 1356.24}, 'resource': {'containers': [{'id': '2fb4b3930878', 'op': 'train.start', 'user': '15801310416', 'service_uuid': '15a0d6-0', 'service_starttime': '2020-07-15T15:50:32.971213869Z', 'cpu_percent': 0.12, 'cpu_memory_total_MB': 10240.0, 'cpu_memory_usage_MB': 1930.789, 'cpu_memory_percent': 18.86, 'gpu_percent': 0.0, 'gpu_memory_usage_MB': 2989, 'gpu_memory_percent': 0.0}]}, 'environ': {'dataset_name': 'mnist', 'model_name': 'resnet18', 'batch_size': '16', 'input_size': '[64, 64]'}}}}\n",
      "resnet18 16 128\n",
      "---------------------------------------- \n",
      " {'version': '0.1.0', 'ip': '10.255.0.58', 'type': 'error', 'token': '8fd0d3', 'user': '15801310416', 'op': 'train.start', 'service_name': 'k12cv', 'service_uuid': '8fd0d3-0', 'timestamp': 1594828377771, 'datetime': '20200715235257', 'data': {'code': 100003, 'message': {'en': 'program normal exit', 'cn': '程序正常结束'}, 'expand': {'status': 'finish', 'uptime': 60, 'memstat': {'app_cpu_memory_usage_MB': 4282.465, 'app_gpu_memory_usage_MB': 1440.615, 'sys_cpu_memory_free_MB': 42065.984, 'sys_gpu_memory_free_MB': [19830.0], 'peak_cpu_self_ru_maxrss': 2375.539, 'peak_cpu_children_ru_maxrss': 1906.926, 'peak_gpu_0_memory_reserved_MB': 2498.0, 'peak_gpu_0_memory_allocated_MB': 173.055, 'peak_gpu_0_max_memory_reserved_MB': 2498.0, 'peak_gpu_0_max_memory_allocated_MB': 1440.615}, 'resource': {'containers': [{'id': 'aa16da04ca50', 'op': 'train.start', 'user': '15801310416', 'service_uuid': '8fd0d3-0', 'service_starttime': '2020-07-15T15:51:50.423762295Z', 'cpu_percent': 0.13, 'cpu_memory_total_MB': 10240.0, 'cpu_memory_usage_MB': 1937.855, 'cpu_memory_percent': 18.92, 'gpu_percent': 0.0, 'gpu_memory_usage_MB': 3079, 'gpu_memory_percent': 0.0}]}, 'environ': {'dataset_name': 'mnist', 'model_name': 'resnet18', 'batch_size': '16', 'input_size': '[128, 128]'}}}}\n",
      "resnet18 16 256\n",
      "---------------------------------------- \n",
      " {'version': '0.1.0', 'ip': '10.255.0.58', 'type': 'error', 'token': '37ce16', 'user': '15801310416', 'op': 'train.start', 'service_name': 'k12cv', 'service_uuid': '37ce16-0', 'timestamp': 1594828446870, 'datetime': '20200715235406', 'data': {'code': 100003, 'message': {'en': 'program normal exit', 'cn': '程序正常结束'}, 'expand': {'status': 'finish', 'uptime': 53, 'memstat': {'app_cpu_memory_usage_MB': 4335.461, 'app_gpu_memory_usage_MB': 678.468, 'sys_cpu_memory_free_MB': 42030.633, 'sys_gpu_memory_free_MB': [21490.0], 'peak_cpu_self_ru_maxrss': 2401.945, 'peak_cpu_children_ru_maxrss': 1933.516, 'peak_gpu_0_memory_reserved_MB': 838.0, 'peak_gpu_0_memory_allocated_MB': 174.43, 'peak_gpu_0_max_memory_reserved_MB': 838.0, 'peak_gpu_0_max_memory_allocated_MB': 678.468}, 'resource': {'containers': [{'id': 'f5db3a20b50d', 'op': 'train.start', 'user': '15801310416', 'service_uuid': '37ce16-0', 'service_starttime': '2020-07-15T15:53:06.572442908Z', 'cpu_percent': 0.12, 'cpu_memory_total_MB': 10240.0, 'cpu_memory_usage_MB': 1966.105, 'cpu_memory_percent': 19.2, 'gpu_percent': 0.0, 'gpu_memory_usage_MB': 1419, 'gpu_memory_percent': 0.0}]}, 'environ': {'dataset_name': 'mnist', 'model_name': 'resnet18', 'batch_size': '16', 'input_size': '[256, 256]'}}}}\n",
      "resnet18 16 512\n"
     ]
    }
   ],
   "source": [
    "from k12libs.utils.nb_easy import k12ai_train_execute\n",
    "from k12libs.utils.nb_easy import k12ai_get_data\n",
    "from k12libs.utils.nb_easy import k12ai_print\n",
    "import json\n",
    "\n",
    "max_try = 1800\n",
    "stats = []\n",
    "for net in backbones:\n",
    "    for bs in batch_sizes:\n",
    "        for ss in input_sizes:\n",
    "            print(net, bs, ss)\n",
    "            trycnt = max_try\n",
    "            keys = k12ai_train_execute(\n",
    "                framework='k12cv', task='cls',\n",
    "                network=net, dataset='mnist',\n",
    "                batchsize=bs, inputsize=ss, epoch_num=2, run_num=1)\n",
    "            while trycnt > 0:\n",
    "                data = k12ai_get_data(keys[0], 'error', num=1, rm=True, waitcnt=2)\n",
    "                if data:\n",
    "                    try:\n",
    "                        result = data[0]['value']\n",
    "                        code = result['data']['code']\n",
    "                        if code == 100004 or code > 100100: # stop or error\n",
    "                            print('-'*40, '\\n', result)\n",
    "                            break\n",
    "                        elif code == 100003: # finish\n",
    "                            stats.append(result)\n",
    "                            print('-'*40, '\\n', stats[-1])\n",
    "                            break\n",
    "                    except Exception as err:\n",
    "                        print(err, keys[0])\n",
    "                trycnt += 1\n",
    "                \n",
    "with open('/data/mnist_stats.json', 'w') as f:\n",
    "    json.dump(stats, f)"
   ]
  },
  {
   "cell_type": "code",
   "execution_count": null,
   "metadata": {},
   "outputs": [],
   "source": [
    "timestr = '2020-07-15T15:40:46.120656084Z'\n",
    "\n"
   ]
  }
 ],
 "metadata": {
  "kernelspec": {
   "display_name": "Python 3",
   "language": "python",
   "name": "python3"
  },
  "language_info": {
   "codemirror_mode": {
    "name": "ipython",
    "version": 3
   },
   "file_extension": ".py",
   "mimetype": "text/x-python",
   "name": "python",
   "nbconvert_exporter": "python",
   "pygments_lexer": "ipython3",
   "version": "3.6.9"
  },
  "toc": {
   "base_numbering": 1,
   "nav_menu": {},
   "number_sections": true,
   "sideBar": true,
   "skip_h1_title": true,
   "title_cell": "",
   "title_sidebar": "Contents",
   "toc_cell": false,
   "toc_position": {},
   "toc_section_display": true,
   "toc_window_display": false
  }
 },
 "nbformat": 4,
 "nbformat_minor": 4
}
