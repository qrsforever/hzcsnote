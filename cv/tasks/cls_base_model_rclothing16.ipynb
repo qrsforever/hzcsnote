{
 "cells": [
  {
   "cell_type": "markdown",
   "metadata": {},
   "source": [
    "# <div align='center'> 分类任务测试 </div>"
   ]
  },
  {
   "cell_type": "code",
   "execution_count": 1,
   "metadata": {
    "ExecuteTime": {
     "end_time": "2020-11-04T10:41:41.995711Z",
     "start_time": "2020-11-04T10:41:41.966277Z"
    }
   },
   "outputs": [],
   "source": [
    "%reload_ext autoreload\n",
    "%autoreload 2"
   ]
  },
  {
   "cell_type": "code",
   "execution_count": 2,
   "metadata": {
    "ExecuteTime": {
     "end_time": "2020-11-04T10:41:42.017514Z",
     "start_time": "2020-11-04T10:41:41.999234Z"
    }
   },
   "outputs": [],
   "source": [
    "backbones = [\n",
    "    'resnet18',           # 0\n",
    "    'resnet50',           # 1\n",
    "    'densenet121',        # 2\n",
    "    'mobilenet_v2',       # 3\n",
    "    'squeezenet1_0',      # 4\n",
    "    'squeezenet1_1',      # 5\n",
    "    'shufflenet_v2_x0_5', # 6\n",
    "    'shufflenet_v2_x1_0', # 7\n",
    "]\n",
    "\n",
    "batch_sizes = [8, 16, 32, 64]\n",
    "input_sizes = [28, 32, 64, 128, 256]"
   ]
  },
  {
   "cell_type": "markdown",
   "metadata": {},
   "source": [
    "## 任务"
   ]
  },
  {
   "cell_type": "code",
   "execution_count": 3,
   "metadata": {
    "ExecuteTime": {
     "end_time": "2020-11-04T10:41:51.175988Z",
     "start_time": "2020-11-04T10:41:42.021023Z"
    },
    "scrolled": false
   },
   "outputs": [
    {
     "data": {
      "text/html": [
       "<style>.container { width:95% !important; }</style>"
      ],
      "text/plain": [
       "<IPython.core.display.HTML object>"
      ]
     },
     "metadata": {},
     "output_type": "display_data"
    },
    {
     "data": {
      "application/vnd.jupyter.widget-view+json": {
       "model_id": "2158cb2b248c423195d96b2fc0eda9ba",
       "version_major": 2,
       "version_minor": 0
      },
      "text/plain": [
       "Box(children=(Box(children=(VBox(children=(Tab(children=(VBox(children=(HBox(children=(Text(value='cls', conti…"
      ]
     },
     "metadata": {},
     "output_type": "display_data"
    },
    {
     "name": "stdout",
     "output_type": "stream",
     "text": [
      "{'task': 'cls', 'method': 'image_classifier', 'data.include_val': False, 'dataset': 'default', 'data.workers': 4, 'data.drop_last': False, 'data.image_tool': 'pil', 'data.input_mode': 'RGB', 'solver.display_iter': 32, 'solver.test_interval': 256, 'solver.save_iters': 128, 'train.batch_size': 32, 'val.batch_size': 32, 'test.batch_size': 32, 'train.data_transformer.fit_stride': 1, 'train.data_transformer.size_mode': 'fix_size', 'train.data_transformer.input_size': [224, 224], 'train.data_transformer.align_method': 'scale_and_pad', 'train.data_transformer.pad_mode': 'pad_border', '_k12.train.random_border.bool': False, '_k12.train.random_brightness.bool': False, '_k12.train.random_contrast.bool': False, '_k12.train.random_crop.bool': False, '_k12.train.random_det_crop.bool': False, '_k12.train.random_gauss_blur.bool': False, '_k12.train.random_hsv.bool': False, '_k12.train.random_hue.bool': False, '_k12.train.random_pad.bool': False, '_k12.train.random_perm.bool': False, '_k12.train.random_resize.bool': False, '_k12.train.random_resized_crop.bool': False, '_k12.train.random_rotate.bool': False, '_k12.train.random_saturation.bool': False, 'val.data_transformer.fit_stride': 1, 'val.data_transformer.size_mode': 'fix_size', 'val.data_transformer.input_size': [224, 224], 'val.data_transformer.align_method': 'scale_and_pad', 'val.data_transformer.pad_mode': 'pad_border', '_k12.val.random_border.bool': False, '_k12.val.random_brightness.bool': False, '_k12.val.random_contrast.bool': False, '_k12.val.random_crop.bool': False, '_k12.val.random_det_crop.bool': False, '_k12.val.random_gauss_blur.bool': False, '_k12.val.random_hsv.bool': False, '_k12.val.random_hue.bool': False, '_k12.val.random_pad.bool': False, '_k12.val.random_perm.bool': False, '_k12.val.random_resize.bool': False, '_k12.val.random_resized_crop.bool': False, '_k12.val.random_rotate.bool': False, '_k12.val.random_saturation.bool': False, 'test.data_transformer.fit_stride': 1, 'test.data_transformer.size_mode': 'fix_size', 'test.data_transformer.input_size': [224, 224], 'test.data_transformer.align_method': 'scale_and_pad', 'test.data_transformer.pad_mode': 'pad_border', '_k12.test.random_border.bool': False, '_k12.test.random_brightness.bool': False, '_k12.test.random_contrast.bool': False, '_k12.test.random_crop.bool': False, '_k12.test.random_det_crop.bool': False, '_k12.test.random_gauss_blur.bool': False, '_k12.test.random_hsv.bool': False, '_k12.test.random_hue.bool': False, '_k12.test.random_pad.bool': False, '_k12.test.random_perm.bool': False, '_k12.test.random_resize.bool': False, '_k12.test.random_resized_crop.bool': False, '_k12.test.random_rotate.bool': False, '_k12.test.random_saturation.bool': False, '_k12.data.dataset_name': 'rclothing16', 'data.data_dir': '/datasets/rclothing16', 'data.num_records': 5027, 'data.num_classes': 16, 'data.normalize.mean': [0.5551, 0.481, 0.4611], 'data.normalize.std': [0.2193, 0.2189, 0.2046], '_k12.detail.name_seq': ['Blazer', 'Blouse', 'Dress', 'Hat', 'Hoodie', 'Longsleeve', 'Outwear', 'Pants', 'Polo', 'Shirt', 'Shoes', 'Shorts', 'Skirt', 'T-Shirt', 'Top', 'Undershirt'], 'network.model_name': 'base_model', 'network.distributed': False, 'network.resume_continue': True, 'network.backbone': 'resnet50', 'network.pretrained': False, 'network.resume_strict': False, 'network.norm_type': 'batchnorm', 'network.syncbn': False, 'network.resume_val': False, 'network.checkpoints_root': '/cache/output', 'network.checkpoints_dir': 'ckpts', '_k12.network.pretrained_path': '/pretrained', 'solver.lr.metric': 'epoch', 'solver.max_epoch': 50, 'solver.lr.base_lr': 0.01, 'solver.lr.lr_policy': 'step', 'solver.lr.step.gamma': 0.1, 'solver.lr.step.step_size': 30, 'solver.lr.is_warm': False, 'loss.loss_type': 'ce_loss', 'loss.loss_weights.ce_loss.ce_loss': 1.0, 'loss.params.ce_loss.reduction': 'mean', 'loss.params.ce_loss.ignore_index': -1, 'solver.optim.optim_method': 'adam', 'solver.optim.adam.weight_decay': 0.0001, 'solver.optim.adam.betas': [0.9, 0.999], 'solver.optim.adam.eps': 1e-08, 'metrics.raw_vs_aug': False, 'metrics.train_speed': False, 'metrics.train_lr': False, 'metrics.val_speed': False, 'metrics.confusion_matrix': True, 'metrics.top10_images': False, 'metrics.top10_errors': False, 'metrics.precision': True, 'metrics.recall': True, 'metrics.fscore': False, 'metrics.model_autograd': False, 'metrics.model_graph': False, 'metrics.feature_maps': False, 'metrics.filters_maps': False, 'metrics.vbp': False, 'metrics.gbp': False, 'metrics.deconv': False, 'metrics.gcam': False, 'metrics.ggcam': False, 'metrics.predict_images': False, 'metrics.predict_probs': False, '_k12.tb_logdir': '/data/k12-nfs/tblogs/166/139919'}\n",
      "True\n"
     ]
    }
   ],
   "source": [
    "import os\n",
    "import sys\n",
    "os.environ.setdefault('HOST_IP', '172.19.76.187')\n",
    "os.environ.setdefault('NET_IP', '172.19.76.187')\n",
    "sys.path.append('/jupyter')\n",
    "from k12libs.utils.nb_easy import k12ai_run_project\n",
    "project = k12ai_run_project(\n",
    "    debug=True, # tb_port=9002,\n",
    "    framework='k12cv', task='cls',\n",
    "    network=backbones[1], dataset='rclothing16')"
   ]
  }
 ],
 "metadata": {
  "hide_input": false,
  "kernelspec": {
   "display_name": "Python 3",
   "language": "python",
   "name": "python3"
  },
  "language_info": {
   "codemirror_mode": {
    "name": "ipython",
    "version": 3
   },
   "file_extension": ".py",
   "mimetype": "text/x-python",
   "name": "python",
   "nbconvert_exporter": "python",
   "pygments_lexer": "ipython3",
   "version": "3.6.9"
  },
  "toc": {
   "base_numbering": 1,
   "nav_menu": {},
   "number_sections": true,
   "sideBar": true,
   "skip_h1_title": true,
   "title_cell": "",
   "title_sidebar": "Contents",
   "toc_cell": false,
   "toc_position": {},
   "toc_section_display": true,
   "toc_window_display": false
  }
 },
 "nbformat": 4,
 "nbformat_minor": 4
}
