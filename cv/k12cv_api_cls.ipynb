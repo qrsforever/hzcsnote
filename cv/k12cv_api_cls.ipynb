{
 "cells": [
  {
   "cell_type": "markdown",
   "metadata": {},
   "source": [
    "# <div align=\"center\"> 图像分类 </div>"
   ]
  },
  {
   "cell_type": "code",
   "execution_count": 1,
   "metadata": {},
   "outputs": [],
   "source": [
    "from IPython.display import Markdown as md\n",
    "import requests\n",
    "import json\n",
    "import consul\n",
    "import time\n",
    "import socket"
   ]
  },
  {
   "cell_type": "markdown",
   "metadata": {},
   "source": [
    "## 1 全局配置"
   ]
  },
  {
   "cell_type": "markdown",
   "metadata": {},
   "source": [
    "### 1.1 函数"
   ]
  },
  {
   "cell_type": "code",
   "execution_count": 2,
   "metadata": {},
   "outputs": [],
   "source": [
    "# 获取本机器IP\n",
    "def get_host_ip():\n",
    "    ip=''\n",
    "    try:\n",
    "        s = socket.socket(socket.AF_INET,socket.SOCK_DGRAM)\n",
    "        s.connect(('8.8.8.8',80))\n",
    "        ip = s.getsockname()[0]\n",
    "    finally:\n",
    "        s.close()\n",
    "    return ip\n",
    "\n",
    "def delete_datacenter_key(key):\n",
    "    try:\n",
    "        client = consul.Consul(consul_addr, consul_port)\n",
    "        client.kv.delete(key)\n",
    "    except:\n",
    "        pass\n",
    "\n",
    "# API异步接口将过程中产出的数据同步到consul数据中心, 调用该接口可从中心获取数据 (数据中心仅供开发使用)\n",
    "def query_async_data(key, trycnt=3):\n",
    "    i = 0\n",
    "    while i < trycnt:\n",
    "        try:\n",
    "            client = consul.Consul(consul_addr, consul_port)\n",
    "            _, data = client.kv.get(key)\n",
    "            return str(data['Value'], encoding=\"utf-8\")\n",
    "        except:\n",
    "            i = i + 1\n",
    "            time.sleep(2)\n",
    "    return 'Query nothing!!!'\n",
    "    \n",
    "# 格式化打印json字符串\n",
    "def print_json(text):\n",
    "    if isinstance(text, str):\n",
    "        print(json.dumps(json.loads(text), indent=4))\n",
    "    else:\n",
    "        print(json.dumps(text, indent=4))"
   ]
  },
  {
   "cell_type": "markdown",
   "metadata": {},
   "source": [
    "## 1.2 变量"
   ]
  },
  {
   "cell_type": "code",
   "execution_count": 3,
   "metadata": {},
   "outputs": [],
   "source": [
    "host = get_host_ip()\n",
    "port = 8119\n",
    "\n",
    "user = 'test'\n",
    "uuid = 'abcdef'\n",
    "\n",
    "consul_addr = !echo $(curl -s http://txt.go.sohu.com/ip/soip)| grep -P -o -i \"(\\d+\\.\\d+.\\d+.\\d+)\"\n",
    "consul_port = 8500\n",
    "consul_addr = consul_addr[0]\n",
    "\n",
    "query_trycnt = 25\n",
    "max_epoch = 2"
   ]
  },
  {
   "cell_type": "markdown",
   "metadata": {},
   "source": [
    "## 1.3 配置模板"
   ]
  },
  {
   "cell_type": "code",
   "execution_count": 4,
   "metadata": {},
   "outputs": [],
   "source": [
    "cls_template_config = '''{\n",
    "    \"dataset\": \"cifar10\", \n",
    "    \"task\": \"cls\", \n",
    "    \"method\": \"image_classifier\", \n",
    "    \"data\": {\n",
    "        \"num_classes\": 10, \n",
    "        \"data_dir\": \"/data/datasets/cv/cifar10\", \n",
    "        \"image_tool\": \"pil\", \n",
    "        \"input_mode\": \"RGB\", \n",
    "        \"workers\": 1, \n",
    "        \"mean_value\": [\n",
    "            124, \n",
    "            116, \n",
    "            104\n",
    "        ], \n",
    "        \"normalize\": {\n",
    "            \"div_value\": 255, \n",
    "            \"mean\": [\n",
    "                0.485, \n",
    "                0.456, \n",
    "                0.406\n",
    "            ], \n",
    "            \"std\": [\n",
    "                0.229, \n",
    "                0.224, \n",
    "                0.225\n",
    "            ]\n",
    "        }\n",
    "    }, \n",
    "    \"train\": {\n",
    "        \"batch_size\": 32, \n",
    "        \"aug_trans\": {\n",
    "            \"trans_seq\": [\n",
    "                \"random_hflip\", \n",
    "                \"random_border\", \n",
    "                \"random_crop\"\n",
    "            ], \n",
    "            \"random_hflip\": {\n",
    "                \"ratio\": 0.5, \n",
    "                \"swap_pair\": [ ]\n",
    "            }, \n",
    "            \"random_border\": {\n",
    "                \"ratio\": 1, \n",
    "                \"pad\": [\n",
    "                    4, \n",
    "                    4, \n",
    "                    4, \n",
    "                    4\n",
    "                ], \n",
    "                \"allow_outside_center\": false\n",
    "            }, \n",
    "            \"random_crop\": {\n",
    "                \"ratio\": 1, \n",
    "                \"crop_size\": [\n",
    "                    32, \n",
    "                    32\n",
    "                ], \n",
    "                \"method\": \"random\", \n",
    "                \"allow_outside_center\": false\n",
    "            }\n",
    "        }, \n",
    "        \"data_transformer\": {\n",
    "            \"size_mode\": \"fix_size\", \n",
    "            \"input_size\": [\n",
    "                32, \n",
    "                32\n",
    "            ], \n",
    "            \"align_method\": \"only_pad\"\n",
    "        }\n",
    "    }, \n",
    "    \"val\": {\n",
    "        \"batch_size\": 32, \n",
    "        \"aug_trans\": {\n",
    "            \"trans_seq\": [ ]\n",
    "        }, \n",
    "        \"data_transformer\": {\n",
    "            \"size_mode\": \"fix_size\", \n",
    "            \"input_size\": [\n",
    "                32, \n",
    "                32\n",
    "            ], \n",
    "            \"align_method\": \"only_pad\"\n",
    "        }\n",
    "    }, \n",
    "    \"test\": { \n",
    "    }, \n",
    "    \"details\": {\n",
    "        \"name_seq\": [\n",
    "            \"plane\", \n",
    "            \"car\", \n",
    "            \"bird\", \n",
    "            \"cat\", \n",
    "            \"deer\", \n",
    "            \"dog\", \n",
    "            \"frog\", \n",
    "            \"horse\", \n",
    "            \"ship\", \n",
    "            \"truck\"\n",
    "        ], \n",
    "        \"color_list\": [[255, 0, 0], [255, 85, 0], [255, 170, 0], [255, 255, 0], [170, 255, 0],\n",
    "                     [85, 255, 0], [0, 255, 0], [0, 255, 85], [0, 255, 170], [0, 255, 255],\n",
    "                     [0, 170, 255], [0, 85, 255], [0, 0, 255], [85, 0, 255], [170, 0, 255],\n",
    "                     [255, 0, 255], [255, 0, 170], [255, 0, 85], [255, 0, 170], [255, 0, 85]]\n",
    "    }, \n",
    "    \"network\": {\n",
    "        \"model_name\": \"cls_model\", \n",
    "        \"backbone\": \"vgg19\", \n",
    "        \"pooled_size\": [\n",
    "            1, \n",
    "            1\n",
    "        ]\n",
    "    }, \n",
    "    \"solver\": {\n",
    "        \"lr\": {\n",
    "            \"metric\": \"epoch\", \n",
    "            \"base_lr\": 0.1, \n",
    "            \"lr_policy\": \"multistep\", \n",
    "            \"step\": {\n",
    "                \"gamma\": 0.1, \n",
    "                \"step_size\": 30\n",
    "            }, \n",
    "            \"multistep\": {\n",
    "                \"gamma\": 0.1, \n",
    "                \"stepvalue\": [\n",
    "                    150, \n",
    "                    250, \n",
    "                    350\n",
    "                ]\n",
    "            }\n",
    "        }, \n",
    "        \"optim\": {\n",
    "            \"optim_method\": \"sgd\", \n",
    "            \"adam\": {\n",
    "                \"betas\": [\n",
    "                    0.9, \n",
    "                    0.999\n",
    "                ], \n",
    "                \"eps\": 1e-8, \n",
    "                \"weight_decay\": 0.0001\n",
    "            }, \n",
    "            \"sgd\": {\n",
    "                \"weight_decay\": 0.00004, \n",
    "                \"momentum\": 0.9, \n",
    "                \"nesterov\": false\n",
    "            }\n",
    "        }, \n",
    "        \"display_iter\": 20, \n",
    "        \"save_iters\": 2000, \n",
    "        \"test_interval\": 100, \n",
    "        \"max_epoch\": 360\n",
    "    }, \n",
    "    \"loss\": {\n",
    "        \"loss_type\": \"ce_loss\", \n",
    "        \"loss_weights\": {\n",
    "            \"ce_loss\": {\n",
    "                \"ce_loss\": 1\n",
    "            }, \n",
    "            \"soft_ce_loss\": {\n",
    "                \"soft_ce_loss\": 1\n",
    "            }, \n",
    "            \"mixup_ce_loss\": {\n",
    "                \"mixup_ce_loss\": 1\n",
    "            }, \n",
    "            \"mixup_soft_ce_loss\": {\n",
    "                \"mixup_soft_ce_loss\": 1\n",
    "            }\n",
    "        }, \n",
    "        \"params\": {\n",
    "            \"ce_loss\": {\n",
    "                \"reduction\": \"mean\", \n",
    "                \"ignore_index\": -1\n",
    "            }, \n",
    "            \"soft_ce_loss\": {\n",
    "                \"reduction\": \"batchmean\", \n",
    "                \"label_smooth\": 0.1\n",
    "            }, \n",
    "            \"mixup_ce_loss\": {\n",
    "                \"reduction\": \"mean\", \n",
    "                \"ignore_index\": -1\n",
    "            }, \n",
    "            \"mixup_soft_ce_loss\": {\n",
    "                \"reduction\": \"batchmean\", \n",
    "                \"label_smooth\": 0.1\n",
    "            }\n",
    "        }\n",
    "    }\n",
    "}'''\n",
    "\n",
    "cls_template_config_dict = json.loads(cls_template_config)"
   ]
  },
  {
   "cell_type": "markdown",
   "metadata": {},
   "source": [
    "## 2 CIFAR10"
   ]
  },
  {
   "cell_type": "markdown",
   "metadata": {},
   "source": [
    "### 2.1 训练"
   ]
  },
  {
   "cell_type": "code",
   "execution_count": 5,
   "metadata": {},
   "outputs": [],
   "source": [
    "cls_config = cls_template_config_dict\n",
    "\n",
    "cls_config['dataset'] = 'cifar10'\n",
    "cls_config['data']['data_dir'] = '/data/datasets/cifar10'\n",
    "cls_config['train']['batch_size'] = 32\n",
    "cls_config['details']['name_seq'] = [\n",
    "    \"plane\", \n",
    "    \"car\", \n",
    "    \"bird\", \n",
    "    \"cat\", \n",
    "    \"deer\", \n",
    "    \"dog\", \n",
    "    \"frog\", \n",
    "    \"horse\", \n",
    "    \"ship\", \n",
    "    \"truck\"\n",
    "]\n",
    "cls_config['solver']['max_epoch'] = max_epoch\n",
    "cls_config['solver']['optim']['optim_method'] = 'sgd'\n",
    "cls_config['loss']['loss_type'] = 'ce_loss'\n",
    "cls_config['network']['backbone'] = 'vgg19'\n",
    "conf = json.dumps(cls_config)"
   ]
  },
  {
   "cell_type": "markdown",
   "metadata": {},
   "source": [
    "### train.stop"
   ]
  },
  {
   "cell_type": "code",
   "execution_count": 14,
   "metadata": {},
   "outputs": [
    {
     "name": "stdout",
     "output_type": "stream",
     "text": [
      "{\n",
      "    \"code\": 100200,\n",
      "    \"descr\": \"task service success\"\n",
      "}\n"
     ]
    }
   ],
   "source": [
    "op = 'train.stop'\n",
    "uuid = 'cls_vgg19_cifar10'\n",
    "data = '''{\n",
    "    \"op\":\"%s\",\n",
    "    \"user\": \"%s\",\n",
    "    \"service_name\": \"k12cv\",\n",
    "    \"service_uuid\": \"%s\",\n",
    "    \"service_params\": {}\n",
    "}''' % (op, user, uuid)\n",
    "\n",
    "api = 'http://%s:%d/k12ai/framework/train' % (host, port)\n",
    "print_json(requests.post(url=api, json=json.loads(data)).text)"
   ]
  },
  {
   "cell_type": "markdown",
   "metadata": {},
   "source": [
    "### train.start"
   ]
  },
  {
   "cell_type": "code",
   "execution_count": 16,
   "metadata": {},
   "outputs": [
    {
     "name": "stdout",
     "output_type": "stream",
     "text": [
      "{\n",
      "    \"code\": 100200,\n",
      "    \"descr\": \"task service success\"\n",
      "}\n"
     ]
    }
   ],
   "source": [
    "op = 'train.start'\n",
    "uuid = 'cls_vgg19_cifar10'\n",
    "data = '''{\n",
    "    \"op\":\"%s\",\n",
    "    \"user\": \"%s\",\n",
    "    \"service_name\": \"k12cv\",\n",
    "    \"service_uuid\": \"%s\",\n",
    "    \"service_params\": %s\n",
    "}''' % (op, user, uuid, conf)\n",
    "\n",
    "api = 'http://%s:%d/k12ai/framework/train' % (host, port)\n",
    "print_json(requests.post(url=api, json=json.loads(data)).text)\n",
    "\n",
    "key = 'framework/%s/%s/%s/metrics'%(user, uuid, op)\n",
    "delete_datacenter_key(key)"
   ]
  },
  {
   "cell_type": "markdown",
   "metadata": {},
   "source": [
    "异步输出样例:\n",
    "\n",
    "```json\n",
    "{\n",
    "    \"version\": \"0.1.0\",\n",
    "    \"type\": \"metrics\",\n",
    "    \"tag\": \"framework\",\n",
    "    \"op\": \"train.start\",\n",
    "    \"user\": \"test\",\n",
    "    \"service_uuid\": \"abcdef\",\n",
    "    \"timestamp\": 1574939332062,\n",
    "    \"datetime\": \"2019-11-28 19:08:52\",\n",
    "    \"metrics\": {\n",
    "        \"training_epochs\": 1,\n",
    "        \"training_loss\": 2.3058,\n",
    "        \"training_speed\": 0.105,\n",
    "        \"lr\": [\n",
    "            0.1,\n",
    "            0.1\n",
    "        ],\n",
    "        \"validation_loss\": 2.3041,\n",
    "        \"validation_accuracy\": 0.10519999710842967,\n",
    "        \"validation_accuracy3\": 0.3018999940156937,\n",
    "        \"validation_accuracy5\": 0.49709998607635497\n",
    "    }\n",
    "}\n",
    "```"
   ]
  },
  {
   "cell_type": "code",
   "execution_count": null,
   "metadata": {},
   "outputs": [],
   "source": [
    "print(query_async_data(key, query_trycnt))"
   ]
  },
  {
   "cell_type": "markdown",
   "metadata": {},
   "source": [
    "### 2.2 评估"
   ]
  },
  {
   "cell_type": "code",
   "execution_count": null,
   "metadata": {},
   "outputs": [],
   "source": [
    "cls_config = cls_template_config_dict\n",
    "\n",
    "cls_config['dataset'] = 'cifar10'\n",
    "cls_config['data']['data_dir'] = '/data/datasets/cifar10'\n",
    "cls_config['train']['batch_size'] = 32\n",
    "cls_config['details']['name_seq'] = [\n",
    "    \"plane\", \n",
    "    \"car\", \n",
    "    \"bird\", \n",
    "    \"cat\", \n",
    "    \"deer\", \n",
    "    \"dog\", \n",
    "    \"frog\", \n",
    "    \"horse\", \n",
    "    \"ship\", \n",
    "    \"truck\"\n",
    "]\n",
    "cls_config['solver']['max_epoch'] = max_epoch\n",
    "cls_config['solver']['optim']['optim_method'] = 'sgd'\n",
    "cls_config['loss']['loss_type'] = 'ce_loss'\n",
    "cls_config['network']['backbone'] = 'vgg19'\n",
    "conf = json.dumps(cls_config)"
   ]
  },
  {
   "cell_type": "markdown",
   "metadata": {},
   "source": [
    "### evaluate.stop"
   ]
  },
  {
   "cell_type": "code",
   "execution_count": null,
   "metadata": {},
   "outputs": [],
   "source": [
    "op = \"evaluate.stop\"\n",
    "uuid = 'cls_vgg19_cifar10'\n",
    "data = '''{\n",
    "    \"op\":\"%s\", \n",
    "    \"user\": \"%s\",\n",
    "    \"service_name\": \"k12cv\",\n",
    "    \"service_uuid\": \"%s\",\n",
    "    \"service_params\": {}\n",
    "}''' % (op, user, uuid)\n",
    "\n",
    "api = 'http://%s:%d/k12ai/framework/evaluate' % (host, port)\n",
    "print_json(requests.post(url=api, json=json.loads(data)).text)"
   ]
  },
  {
   "cell_type": "markdown",
   "metadata": {},
   "source": [
    "### evaluate.start"
   ]
  },
  {
   "cell_type": "code",
   "execution_count": null,
   "metadata": {},
   "outputs": [],
   "source": [
    "op = \"evaluate.start\"\n",
    "uuid = 'cls_vgg19_cifar10'\n",
    "data = '''{\n",
    "    \"op\":\"%s\", \n",
    "    \"user\": \"%s\",\n",
    "    \"service_name\": \"k12cv\",\n",
    "    \"service_uuid\": \"%s\",\n",
    "    \"service_params\": %s\n",
    "}''' % (op, user, uuid, conf)\n",
    "\n",
    "api = 'http://%s:%d/k12ai/framework/evaluate' % (host, port)\n",
    "print_json(requests.post(url=api, json=json.loads(data)).text)\n",
    "\n",
    "key = 'framework/%s/%s/%s/metrics'%(user, uuid, op)\n",
    "delete_datacenter_key(key)"
   ]
  },
  {
   "cell_type": "code",
   "execution_count": null,
   "metadata": {},
   "outputs": [],
   "source": [
    "print(query_async_data(key, query_trycnt))"
   ]
  },
  {
   "cell_type": "markdown",
   "metadata": {},
   "source": [
    "## 3 MNIST"
   ]
  },
  {
   "cell_type": "markdown",
   "metadata": {},
   "source": [
    "### 3.1 训练"
   ]
  },
  {
   "cell_type": "code",
   "execution_count": null,
   "metadata": {},
   "outputs": [],
   "source": [
    "cls_config = cls_template_config_dict\n",
    "\n",
    "cls_config['dataset'] = 'mnist'\n",
    "cls_config['data']['data_dir'] = '/data/datasets/cv/mnist'\n",
    "cls_config['train']['batch_size'] = 32\n",
    "cls_config['details']['name_seq'] = [\n",
    "    \"0\", \n",
    "    \"1\", \n",
    "    \"2\", \n",
    "    \"3\", \n",
    "    \"4\", \n",
    "    \"5\", \n",
    "    \"6\", \n",
    "    \"7\", \n",
    "    \"8\", \n",
    "    \"9\"\n",
    "]\n",
    "cls_config['solver']['max_epoch'] = max_epoch\n",
    "cls_config['solver']['optim']['optim_method'] = 'adam'\n",
    "cls_config['loss']['loss_type'] = 'soft_ce_loss'\n",
    "cls_config['network']['backbone'] = 'resnet18'\n",
    "conf = json.dumps(cls_config)"
   ]
  },
  {
   "cell_type": "markdown",
   "metadata": {},
   "source": [
    "### train.stop"
   ]
  },
  {
   "cell_type": "code",
   "execution_count": null,
   "metadata": {},
   "outputs": [],
   "source": [
    "op = 'train.stop'\n",
    "uuid = 'cls_resnet18_mnist'\n",
    "data = '''{\n",
    "    \"op\":\"train.stop\",\n",
    "    \"user\": \"%s\",\n",
    "    \"service_name\": \"k12cv\",\n",
    "    \"service_uuid\": \"%s\",\n",
    "    \"service_params\": {}\n",
    "}''' % (user, uuid)\n",
    "\n",
    "api = 'http://%s:%d/k12ai/framework/train' % (host, port)\n",
    "print_json(requests.post(url=api, json=json.loads(data)).text)"
   ]
  },
  {
   "cell_type": "markdown",
   "metadata": {},
   "source": [
    "### train.sart"
   ]
  },
  {
   "cell_type": "code",
   "execution_count": null,
   "metadata": {},
   "outputs": [],
   "source": [
    "op = \"train.start\"\n",
    "uuid = 'cls_resnet18_mnist'\n",
    "data = '''{\n",
    "    \"op\":\"%s\",\n",
    "    \"user\": \"%s\",\n",
    "    \"service_name\": \"k12cv\",\n",
    "    \"service_uuid\": \"%s\",\n",
    "    \"service_params\": %s\n",
    "}''' % (op, user, uuid, conf)\n",
    "\n",
    "api = 'http://%s:%d/k12ai/framework/train' % (host, port)\n",
    "print_json(requests.post(url=api, json=json.loads(data)).text)\n",
    "\n",
    "key = 'framework/%s/%s/%s/metrics'%(user, uuid, op)\n",
    "delete_datacenter_key(key)"
   ]
  },
  {
   "cell_type": "code",
   "execution_count": null,
   "metadata": {},
   "outputs": [],
   "source": [
    "print(query_async_data(key, query_trycnt))"
   ]
  },
  {
   "cell_type": "markdown",
   "metadata": {},
   "source": [
    "### evaluate.stop"
   ]
  },
  {
   "cell_type": "code",
   "execution_count": null,
   "metadata": {},
   "outputs": [],
   "source": [
    "op = \"evaluate.stop\"\n",
    "uuid = 'cls_resnet18_mnist'\n",
    "data = '''{\n",
    "    \"op\":\"%s\", \n",
    "    \"user\": \"%s\",\n",
    "    \"service_name\": \"k12cv\",\n",
    "    \"service_uuid\": \"%s\",\n",
    "    \"service_params\": {}\n",
    "}''' % (op, user, uuid)\n",
    "\n",
    "api = 'http://%s:%d/k12ai/framework/evaluate' % (host, port)\n",
    "print_json(requests.post(url=api, json=json.loads(data)).text)"
   ]
  },
  {
   "cell_type": "markdown",
   "metadata": {},
   "source": [
    "### evaluate.start"
   ]
  },
  {
   "cell_type": "code",
   "execution_count": null,
   "metadata": {},
   "outputs": [],
   "source": [
    "op = \"evaluate.start\"\n",
    "uuid = 'cls_resnet18_mnist'\n",
    "data = '''{\n",
    "    \"op\":\"%s\", \n",
    "    \"user\": \"%s\",\n",
    "    \"service_name\": \"k12cv\",\n",
    "    \"service_uuid\": \"%s\",\n",
    "    \"service_params\": %s\n",
    "}''' % (op, user, uuid, conf)\n",
    "\n",
    "api = 'http://%s:%d/k12ai/framework/evaluate' % (host, port)\n",
    "print_json(requests.post(url=api, json=json.loads(data)).text)\n",
    "\n",
    "key = 'framework/%s/%s/%s/metrics'%(user, uuid, op)\n",
    "delete_datacenter_key(key)"
   ]
  },
  {
   "cell_type": "code",
   "execution_count": null,
   "metadata": {},
   "outputs": [],
   "source": [
    "print(query_async_data(key, query_trycnt))"
   ]
  }
 ],
 "metadata": {
  "kernelspec": {
   "display_name": "Python 3",
   "language": "python",
   "name": "python3"
  },
  "language_info": {
   "codemirror_mode": {
    "name": "ipython",
    "version": 3
   },
   "file_extension": ".py",
   "mimetype": "text/x-python",
   "name": "python",
   "nbconvert_exporter": "python",
   "pygments_lexer": "ipython3",
   "version": "3.6.8"
  }
 },
 "nbformat": 4,
 "nbformat_minor": 2
}
