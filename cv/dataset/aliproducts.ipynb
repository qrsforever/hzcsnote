{
 "cells": [
  {
   "cell_type": "markdown",
   "metadata": {},
   "source": [
    "# <div align='center'> 阿里产品数据集 </div>"
   ]
  },
  {
   "cell_type": "code",
   "execution_count": 1,
   "metadata": {
    "ExecuteTime": {
     "end_time": "2020-04-02T13:46:36.113110Z",
     "start_time": "2020-04-02T13:46:35.678527Z"
    }
   },
   "outputs": [],
   "source": [
    "%matplotlib inline"
   ]
  },
  {
   "cell_type": "code",
   "execution_count": 2,
   "metadata": {
    "ExecuteTime": {
     "end_time": "2020-04-02T13:46:36.334255Z",
     "start_time": "2020-04-02T13:46:36.115891Z"
    }
   },
   "outputs": [],
   "source": [
    "import os\n",
    "import shutil\n",
    "import json\n",
    "import random\n",
    "from IPython.display import Image\n",
    "from k12libs.utils.nb_easy import K12AI_DATASETS_ROOT"
   ]
  },
  {
   "cell_type": "code",
   "execution_count": 3,
   "metadata": {
    "ExecuteTime": {
     "end_time": "2020-04-02T13:46:36.346226Z",
     "start_time": "2020-04-02T13:46:36.340056Z"
    }
   },
   "outputs": [],
   "source": [
    "dataset_root = os.path.join(K12AI_DATASETS_ROOT, 'cv', 'aliproducts')"
   ]
  },
  {
   "cell_type": "code",
   "execution_count": 4,
   "metadata": {
    "ExecuteTime": {
     "end_time": "2020-04-02T13:46:36.379992Z",
     "start_time": "2020-04-02T13:46:36.350802Z"
    }
   },
   "outputs": [
    {
     "name": "stdout",
     "output_type": "stream",
     "text": [
      "Images Count: 1\n"
     ]
    },
    {
     "data": {
      "text/plain": [
       "[{'image_path': 'train/00000/1849756.jpg', 'label': 0}]"
      ]
     },
     "execution_count": 4,
     "metadata": {},
     "output_type": "execute_result"
    }
   ],
   "source": [
    "test_jsonstr = '''{\n",
    "    \"images\": [\n",
    "        {\n",
    "            \"class_id\": \"00000\",\n",
    "            \"image_id\": \"1849756.jpg\"\n",
    "        }\n",
    "    ]\n",
    "}'''\n",
    "\n",
    "g_labels = set()\n",
    "g_images = set()\n",
    "def parse_json_files(datadir, phase, teststr=None):\n",
    "    result = []\n",
    "    def _add_item(item):\n",
    "        imgid = item['image_id']\n",
    "        clsid = item['class_id']\n",
    "        fpath = os.path.join(phase, clsid, imgid)\n",
    "        label = int(clsid)\n",
    "        result.append({'image_path': fpath, 'label': label})\n",
    "        g_images.add(fpath)\n",
    "        g_labels.add(label)\n",
    "        \n",
    "    if teststr:\n",
    "        images = json.loads(teststr)['images']\n",
    "    else:\n",
    "        filepath = os.path.join(datadir, f'{phase}.raw.json')\n",
    "        with open(filepath, 'r') as fp:\n",
    "            images = json.load(fp)['images']\n",
    "    print('Images Count:', len(images))\n",
    "    for item in images:\n",
    "        _add_item(item)\n",
    "    return result\n",
    "            \n",
    "parse_json_files(dataset_root, 'train', test_jsonstr)"
   ]
  },
  {
   "cell_type": "markdown",
   "metadata": {},
   "source": [
    "### val.json"
   ]
  },
  {
   "cell_type": "code",
   "execution_count": 5,
   "metadata": {
    "ExecuteTime": {
     "end_time": "2020-04-02T13:46:37.357027Z",
     "start_time": "2020-04-02T13:46:36.383189Z"
    }
   },
   "outputs": [
    {
     "name": "stdout",
     "output_type": "stream",
     "text": [
      "Images Count: 148387\n"
     ]
    },
    {
     "data": {
      "text/plain": [
       "148387"
      ]
     },
     "execution_count": 5,
     "metadata": {},
     "output_type": "execute_result"
    }
   ],
   "source": [
    "result_val = parse_json_files(dataset_root, 'val')\n",
    "len(result_val)"
   ]
  },
  {
   "cell_type": "code",
   "execution_count": 6,
   "metadata": {
    "ExecuteTime": {
     "end_time": "2020-04-02T13:46:37.592399Z",
     "start_time": "2020-04-02T13:46:37.359558Z"
    }
   },
   "outputs": [],
   "source": [
    "with open(os.path.join(dataset_root, 'val.json'), 'w') as fw:\n",
    "    fw.write(json.dumps(result_val))"
   ]
  },
  {
   "cell_type": "markdown",
   "metadata": {},
   "source": [
    "## train.json"
   ]
  },
  {
   "cell_type": "code",
   "execution_count": 7,
   "metadata": {
    "ExecuteTime": {
     "end_time": "2020-04-02T13:46:53.247623Z",
     "start_time": "2020-04-02T13:46:37.595204Z"
    }
   },
   "outputs": [
    {
     "name": "stdout",
     "output_type": "stream",
     "text": [
      "Images Count: 2552385\n"
     ]
    },
    {
     "data": {
      "text/plain": [
       "2552385"
      ]
     },
     "execution_count": 7,
     "metadata": {},
     "output_type": "execute_result"
    }
   ],
   "source": [
    "result_train = parse_json_files(dataset_root, 'train')\n",
    "len(result_train)"
   ]
  },
  {
   "cell_type": "code",
   "execution_count": 8,
   "metadata": {
    "ExecuteTime": {
     "end_time": "2020-04-02T13:46:57.991531Z",
     "start_time": "2020-04-02T13:46:53.251594Z"
    }
   },
   "outputs": [],
   "source": [
    "with open(os.path.join(dataset_root, 'train.json'), 'w') as fw:\n",
    "    fw.write(json.dumps(result_train))"
   ]
  },
  {
   "cell_type": "markdown",
   "metadata": {
    "ExecuteTime": {
     "end_time": "2020-04-02T13:14:20.033992Z",
     "start_time": "2020-04-02T13:14:20.030104Z"
    }
   },
   "source": [
    "## test.json"
   ]
  },
  {
   "cell_type": "code",
   "execution_count": 9,
   "metadata": {
    "ExecuteTime": {
     "end_time": "2020-04-02T13:46:58.105396Z",
     "start_time": "2020-04-02T13:46:57.994832Z"
    }
   },
   "outputs": [
    {
     "data": {
      "text/plain": [
       "51047"
      ]
     },
     "execution_count": 9,
     "metadata": {},
     "output_type": "execute_result"
    }
   ],
   "source": [
    "result_test = random.sample(result_train, int(len(result_train)*0.02))\n",
    "len(result_test)"
   ]
  },
  {
   "cell_type": "code",
   "execution_count": 10,
   "metadata": {
    "ExecuteTime": {
     "end_time": "2020-04-02T13:46:58.453196Z",
     "start_time": "2020-04-02T13:46:58.107760Z"
    }
   },
   "outputs": [],
   "source": [
    "with open(os.path.join(dataset_root, 'test.json'), 'w') as fw:\n",
    "    fw.write(json.dumps(result_test))"
   ]
  },
  {
   "cell_type": "markdown",
   "metadata": {},
   "source": [
    "## labels"
   ]
  },
  {
   "cell_type": "code",
   "execution_count": 11,
   "metadata": {
    "ExecuteTime": {
     "end_time": "2020-04-02T13:46:58.462529Z",
     "start_time": "2020-04-02T13:46:58.455537Z"
    }
   },
   "outputs": [
    {
     "data": {
      "text/plain": [
       "[{'image_path': 'train/26327/0000000.jpg', 'label': 26327},\n",
       " {'image_path': 'train/19057/0000001.jpg', 'label': 19057},\n",
       " {'image_path': 'train/21156/0000002.jpg', 'label': 21156}]"
      ]
     },
     "execution_count": 11,
     "metadata": {},
     "output_type": "execute_result"
    }
   ],
   "source": [
    "result_train[0:3]"
   ]
  },
  {
   "cell_type": "code",
   "execution_count": 12,
   "metadata": {
    "ExecuteTime": {
     "end_time": "2020-04-02T13:46:58.486089Z",
     "start_time": "2020-04-02T13:46:58.466021Z"
    }
   },
   "outputs": [
    {
     "data": {
      "text/plain": [
       "(2700773, 50030)"
      ]
     },
     "execution_count": 12,
     "metadata": {},
     "output_type": "execute_result"
    }
   ],
   "source": [
    "len(g_images), len(g_labels)"
   ]
  },
  {
   "cell_type": "markdown",
   "metadata": {},
   "source": [
    "-------------"
   ]
  },
  {
   "cell_type": "code",
   "execution_count": 13,
   "metadata": {
    "ExecuteTime": {
     "end_time": "2020-04-02T13:46:58.496249Z",
     "start_time": "2020-04-02T13:46:58.489307Z"
    }
   },
   "outputs": [],
   "source": [
    "# def _mkdir(phase):\n",
    "#     img_dir = os.path.join(dataset_root, 'imgs', phase)\n",
    "#     if not os.path.exists(img_dir):\n",
    "#         os.makedirs(img_dir)\n",
    "#     return img_dir"
   ]
  },
  {
   "cell_type": "code",
   "execution_count": 14,
   "metadata": {
    "ExecuteTime": {
     "end_time": "2020-04-02T13:46:58.515861Z",
     "start_time": "2020-04-02T13:46:58.499164Z"
    }
   },
   "outputs": [],
   "source": [
    "# train_imgs_dir = _mkdir('train')\n",
    "# test_imgs_dir = _mkdir('test')"
   ]
  },
  {
   "cell_type": "code",
   "execution_count": 15,
   "metadata": {
    "ExecuteTime": {
     "end_time": "2020-04-02T13:46:58.567663Z",
     "start_time": "2020-04-02T13:46:58.518760Z"
    },
    "scrolled": false
   },
   "outputs": [],
   "source": [
    "# lables = []\n",
    "# images = []\n",
    "# train_dict = {}\n",
    "# first_image = None\n",
    "# with os.scandir(train_imgs_dir) as it0:\n",
    "#     for entry in it0:\n",
    "#         label = int(entry.name)\n",
    "#         lables.append(label)\n",
    "#         train_dict[label] = []\n",
    "#         with os.scandir(entry.path) as it:\n",
    "#             for e in it:\n",
    "#                 if first_image is None:\n",
    "#                     first_image = e.path\n",
    "#                 images.append(e.name)\n",
    "#                 train_dict[label].append(f'{entry.name}/{e.name}')"
   ]
  },
  {
   "cell_type": "code",
   "execution_count": 16,
   "metadata": {
    "ExecuteTime": {
     "end_time": "2020-04-02T13:46:58.584956Z",
     "start_time": "2020-04-02T13:46:58.570942Z"
    }
   },
   "outputs": [],
   "source": [
    "# lables.sort(), lables[:5], len(lables), len(images)"
   ]
  },
  {
   "cell_type": "code",
   "execution_count": 17,
   "metadata": {
    "ExecuteTime": {
     "end_time": "2020-04-02T13:46:58.596628Z",
     "start_time": "2020-04-02T13:46:58.588197Z"
    }
   },
   "outputs": [],
   "source": [
    "# Image(first_image, width=300, height=100)"
   ]
  },
  {
   "cell_type": "code",
   "execution_count": 18,
   "metadata": {
    "ExecuteTime": {
     "end_time": "2020-04-02T13:46:58.608302Z",
     "start_time": "2020-04-02T13:46:58.599660Z"
    }
   },
   "outputs": [],
   "source": [
    "# def generate_json_file(filename, label_dict):\n",
    "#     objects = []\n",
    "#     for label, files in label_dict.items():\n",
    "#         for img in files:\n",
    "#             objects.append({\n",
    "#                 'image_path': f'imgs/train/{img}',\n",
    "#                 'label': label\n",
    "#             })\n",
    "#     with open(os.path.join(dataset_root, filename), 'w') as fw:\n",
    "#         fw.write(json.dumps(objects))"
   ]
  },
  {
   "cell_type": "code",
   "execution_count": 19,
   "metadata": {
    "ExecuteTime": {
     "end_time": "2020-04-02T13:46:58.619987Z",
     "start_time": "2020-04-02T13:46:58.611037Z"
    }
   },
   "outputs": [],
   "source": [
    "# val_test_dict = {}\n",
    "# for label, files in train_dict.items():\n",
    "#     val_test_dict[label] = random.sample(files, int(len(files)*0.4))\n",
    "#     \n",
    "# val_dict = {}\n",
    "# test_dict = {}\n",
    "# for label, files in val_test_dict.items():\n",
    "#     val_files = random.sample(files, int(len(files)*0.5))\n",
    "#     test_files = list(set(files) - set(val_files))\n",
    "#     val_dict[label] = val_files\n",
    "#     test_dict[label] = test_files"
   ]
  },
  {
   "cell_type": "code",
   "execution_count": 20,
   "metadata": {
    "ExecuteTime": {
     "end_time": "2020-04-02T13:46:58.631838Z",
     "start_time": "2020-04-02T13:46:58.622800Z"
    }
   },
   "outputs": [],
   "source": [
    "# generate_json_file('train.json', train_dict)\n",
    "# generate_json_file('val.json', val_dict)\n",
    "# generate_json_file('test.json', test_dict)"
   ]
  },
  {
   "cell_type": "code",
   "execution_count": 21,
   "metadata": {
    "ExecuteTime": {
     "end_time": "2020-04-02T13:46:58.642382Z",
     "start_time": "2020-04-02T13:46:58.634713Z"
    },
    "scrolled": false
   },
   "outputs": [],
   "source": [
    "# for label in sorted(train_dict):\n",
    "#     if label > 9:\n",
    "#         break\n",
    "#     print(label, f'imgs/train/{train_dict[label][0]}')"
   ]
  },
  {
   "cell_type": "markdown",
   "metadata": {
    "ExecuteTime": {
     "end_time": "2020-04-02T12:20:57.635553Z",
     "start_time": "2020-04-02T12:20:57.627562Z"
    }
   },
   "source": [
    "----------------"
   ]
  }
 ],
 "metadata": {
  "kernelspec": {
   "display_name": "Python 3",
   "language": "python",
   "name": "python3"
  },
  "language_info": {
   "codemirror_mode": {
    "name": "ipython",
    "version": 3
   },
   "file_extension": ".py",
   "mimetype": "text/x-python",
   "name": "python",
   "nbconvert_exporter": "python",
   "pygments_lexer": "ipython3",
   "version": "3.6.9"
  }
 },
 "nbformat": 4,
 "nbformat_minor": 4
}
