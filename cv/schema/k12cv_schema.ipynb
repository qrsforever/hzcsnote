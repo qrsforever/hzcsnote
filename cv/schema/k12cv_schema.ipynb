{
 "cells": [
  {
   "cell_type": "markdown",
   "metadata": {},
   "source": [
    "# <div align=\"center\"> CV Api Test </div>"
   ]
  },
  {
   "cell_type": "code",
   "execution_count": 1,
   "metadata": {},
   "outputs": [],
   "source": [
    "%reload_ext autoreload\n",
    "%autoreload 2"
   ]
  },
  {
   "cell_type": "code",
   "execution_count": 2,
   "metadata": {},
   "outputs": [],
   "source": [
    "from k12libs.utils.nb_easy import k12ai_print\n",
    "from k12libs.utils.nb_easy import k12ai_get_app_dir\n",
    "from k12libs.utils.nb_easy import k12ai_get_top_dir\n",
    "from k12libs.utils.nb_widget import k12ai_schema_parse\n",
    "\n",
    "import os\n",
    "import json\n",
    "import _jsonnet"
   ]
  },
  {
   "cell_type": "code",
   "execution_count": 3,
   "metadata": {},
   "outputs": [
    {
     "name": "stdout",
     "output_type": "stream",
     "text": [
      "constants  data  hypes\tk12ai_cv.jsonnet  models  test.sh  utils\r\n"
     ]
    }
   ],
   "source": [
    "schema_dir = os.path.join(k12ai_get_top_dir(), 'cv/app', 'templates', 'schema')\n",
    "!ls $schema_dir \n",
    "\n",
    "basic_file = os.path.join(schema_dir, 'k12ai_cv.jsonnet')\n",
    "# !cat $basic_file\n",
    "\n",
    "basic_json = _jsonnet.evaluate_file(basic_file, ext_vars={\n",
    "    'task': 'cls',\n",
    "    'dataset_name': 'mnist',\n",
    "    'dataset_root': '/datasets',\n",
    "    'checkpt_root': '/cache',\n",
    "    'pretrained_path': '/pretrained'})\n",
    "# k12ai_print(basic_json, indent=2)"
   ]
  },
  {
   "cell_type": "code",
   "execution_count": 4,
   "metadata": {
    "scrolled": false
   },
   "outputs": [
    {
     "data": {
      "application/vnd.jupyter.widget-view+json": {
       "model_id": "acfe7aedb2114dc7a697689a1c456d35",
       "version_major": 2,
       "version_minor": 0
      },
      "text/plain": [
       "Box(children=(VBox(children=(Tab(children=(VBox(children=(HBox(children=(Text(value='cls', continuous_update=F…"
      ]
     },
     "metadata": {},
     "output_type": "display_data"
    }
   ],
   "source": [
    "generator = k12ai_schema_parse(json.loads(basic_json), lan='cn', debug=False);"
   ]
  },
  {
   "cell_type": "code",
   "execution_count": 5,
   "metadata": {
    "scrolled": false
   },
   "outputs": [
    {
     "name": "stdout",
     "output_type": "stream",
     "text": [
      "{\n",
      "    \"task\": \"cls\",\n",
      "    \"method\": \"image_classifier\",\n",
      "    \"data\": {\n",
      "        \"include_val\": false,\n",
      "        \"workers\": 4,\n",
      "        \"drop_last\": false,\n",
      "        \"image_tool\": \"cv2\",\n",
      "        \"input_mode\": \"BGR\",\n",
      "        \"data_dir\": \"/datasets/mnist\",\n",
      "        \"num_records\": 70000,\n",
      "        \"num_classes\": 10,\n",
      "        \"mean\": [\n",
      "            0.5,\n",
      "            0.5,\n",
      "            0.5\n",
      "        ],\n",
      "        \"std\": [\n",
      "            1,\n",
      "            1,\n",
      "            1\n",
      "        ],\n",
      "        \"div_value\": 255\n",
      "    },\n",
      "    \"dataset\": \"default\",\n",
      "    \"solver\": {\n",
      "        \"display_iter\": 20,\n",
      "        \"save_iters\": 200,\n",
      "        \"test_interval\": 50,\n",
      "        \"lr\": {\n",
      "            \"metric\": \"epoch\",\n",
      "            \"base_lr\": 0.001,\n",
      "            \"lr_policy\": \"multistep\",\n",
      "            \"multistep\": {\n",
      "                \"gamma\": 0.1,\n",
      "                \"stepvalue\": [\n",
      "                    90,\n",
      "                    120\n",
      "                ]\n",
      "            },\n",
      "            \"is_warm\": false\n",
      "        },\n",
      "        \"max_epoch\": 100,\n",
      "        \"optim\": {\n",
      "            \"optim_method\": \"adam\",\n",
      "            \"adam\": {\n",
      "                \"weight_decay\": 0.001,\n",
      "                \"betas\": [\n",
      "                    0.5,\n",
      "                    0.999\n",
      "                ],\n",
      "                \"eps\": 1e-08\n",
      "            }\n",
      "        }\n",
      "    },\n",
      "    \"train\": {\n",
      "        \"batch_size\": 32,\n",
      "        \"fit_stride\": 1,\n",
      "        \"size_mode\": \"fix_size\",\n",
      "        \"input_size\": [\n",
      "            32,\n",
      "            32\n",
      "        ],\n",
      "        \"align_method\": \"only_pad\",\n",
      "        \"pad_mode\": \"random\"\n",
      "    },\n",
      "    \"val\": {\n",
      "        \"batch_size\": 32,\n",
      "        \"fit_stride\": 1,\n",
      "        \"size_mode\": \"fix_size\",\n",
      "        \"input_size\": [\n",
      "            32,\n",
      "            32\n",
      "        ],\n",
      "        \"align_method\": \"only_pad\",\n",
      "        \"pad_mode\": \"random\"\n",
      "    },\n",
      "    \"test\": {\n",
      "        \"batch_size\": 32,\n",
      "        \"fit_stride\": 1,\n",
      "        \"size_mode\": \"fix_size\",\n",
      "        \"input_size\": [\n",
      "            32,\n",
      "            32\n",
      "        ],\n",
      "        \"align_method\": \"only_pad\",\n",
      "        \"pad_mode\": \"random\"\n",
      "    },\n",
      "    \"network\": {\n",
      "        \"backbone\": \"vgg16\",\n",
      "        \"model_name\": \"base_model\",\n",
      "        \"norm_type\": \"batchnorm\",\n",
      "        \"syncbn\": false,\n",
      "        \"distributed\": true,\n",
      "        \"gather\": false,\n",
      "        \"resume_continue\": false,\n",
      "        \"resume_strict\": false,\n",
      "        \"resume_val\": false,\n",
      "        \"custom_model\": false,\n",
      "        \"checkpoints_root\": \"/cache\",\n",
      "        \"checkpoints_dir\": \"ckpts\"\n",
      "    },\n",
      "    \"loss\": {\n",
      "        \"loss_type\": \"ce_loss\",\n",
      "        \"loss_weights\": {\n",
      "            \"ce_loss\": {\n",
      "                \"ce_loss\": 1.0\n",
      "            }\n",
      "        },\n",
      "        \"params\": {\n",
      "            \"ce_loss\": {\n",
      "                \"reduction\": \"mean\",\n",
      "                \"ignore_index\": -1.0\n",
      "            }\n",
      "        }\n",
      "    }\n",
      "}\n"
     ]
    }
   ],
   "source": [
    "k12ai_print(generator.get_all_json())"
   ]
  }
 ],
 "metadata": {
  "kernelspec": {
   "display_name": "Python 3",
   "language": "python",
   "name": "python3"
  },
  "language_info": {
   "codemirror_mode": {
    "name": "ipython",
    "version": 3
   },
   "file_extension": ".py",
   "mimetype": "text/x-python",
   "name": "python",
   "nbconvert_exporter": "python",
   "pygments_lexer": "ipython3",
   "version": "3.6.9"
  }
 },
 "nbformat": 4,
 "nbformat_minor": 2
}
