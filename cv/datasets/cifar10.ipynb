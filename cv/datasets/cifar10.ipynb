{
 "cells": [
  {
   "cell_type": "code",
   "execution_count": 1,
   "metadata": {
    "ExecuteTime": {
     "end_time": "2020-04-02T09:49:55.598803Z",
     "start_time": "2020-04-02T09:49:55.551502Z"
    }
   },
   "outputs": [],
   "source": [
    "%reload_ext autoreload\n",
    "%autoreload 2"
   ]
  },
  {
   "cell_type": "code",
   "execution_count": 24,
   "metadata": {
    "ExecuteTime": {
     "end_time": "2020-08-13T13:39:02.727284Z",
     "start_time": "2020-08-13T13:39:02.719694Z"
    }
   },
   "outputs": [],
   "source": [
    "import os\n",
    "import json\n",
    "import pandas as pd\n",
    "import shutil\n",
    "from PIL import Image\n",
    "from k12libs.utils.nb_easy import K12AI_DATASETS_ROOT\n",
    "from k12libs.utils.nb_dataset import k12ai_compute_mean_std \n",
    "from sklearn.model_selection import train_test_split"
   ]
  },
  {
   "cell_type": "markdown",
   "metadata": {},
   "source": [
    "## 1. Mean and Std"
   ]
  },
  {
   "cell_type": "code",
   "execution_count": null,
   "metadata": {
    "ExecuteTime": {
     "end_time": "2020-04-02T09:59:32.916889Z",
     "start_time": "2020-04-02T09:59:20.677798Z"
    }
   },
   "outputs": [],
   "source": [
    "datadir = os.path.join(K12AI_DATASETS_ROOT, 'cv', 'cifar10')\n",
    "jfiles = ['train.json', 'val.json', 'test.json']\n",
    "mean, std = k12ai_compute_mean_std(datadir=datadir, jfiles=jfiles)"
   ]
  },
  {
   "cell_type": "code",
   "execution_count": 15,
   "metadata": {
    "ExecuteTime": {
     "end_time": "2020-04-02T09:59:32.916889Z",
     "start_time": "2020-04-02T09:59:20.677798Z"
    }
   },
   "outputs": [
    {
     "data": {
      "text/plain": [
       "(tensor([0.4917, 0.4826, 0.4472]), tensor([0.2011, 0.1989, 0.2015]))"
      ]
     },
     "execution_count": 15,
     "metadata": {},
     "output_type": "execute_result"
    }
   ],
   "source": [
    "mean, std"
   ]
  },
  {
   "cell_type": "markdown",
   "metadata": {},
   "source": [
    "| mean | std |\n",
    "| :---: | :---: |\n",
    "|<img width=200/> | <img width=200/>\n",
    "| [0.4917, 0.4826, 0.4472] | [0.2011, 0.1989, 0.2015] |"
   ]
  },
  {
   "cell_type": "markdown",
   "metadata": {},
   "source": [
    "## 裁剪"
   ]
  },
  {
   "cell_type": "code",
   "execution_count": 10,
   "metadata": {
    "ExecuteTime": {
     "end_time": "2020-08-13T13:33:12.039608Z",
     "start_time": "2020-08-13T13:33:11.864648Z"
    }
   },
   "outputs": [
    {
     "data": {
      "text/plain": [
       "50000"
      ]
     },
     "execution_count": 10,
     "metadata": {},
     "output_type": "execute_result"
    }
   ],
   "source": [
    "train_val_json = os.path.join(K12AI_DATASETS_ROOT, 'cv', 'cifar10', 'train_val.json')\n",
    "items = []\n",
    "with open(train_val_json, 'r') as f:\n",
    "    items = json.load(f)\n",
    "len(items)"
   ]
  },
  {
   "cell_type": "code",
   "execution_count": 11,
   "metadata": {
    "ExecuteTime": {
     "end_time": "2020-08-13T13:33:13.458222Z",
     "start_time": "2020-08-13T13:33:13.277373Z"
    }
   },
   "outputs": [
    {
     "data": {
      "text/html": [
       "<div>\n",
       "<style scoped>\n",
       "    .dataframe tbody tr th:only-of-type {\n",
       "        vertical-align: middle;\n",
       "    }\n",
       "\n",
       "    .dataframe tbody tr th {\n",
       "        vertical-align: top;\n",
       "    }\n",
       "\n",
       "    .dataframe thead th {\n",
       "        text-align: right;\n",
       "    }\n",
       "</style>\n",
       "<table border=\"1\" class=\"dataframe\">\n",
       "  <thead>\n",
       "    <tr style=\"text-align: right;\">\n",
       "      <th></th>\n",
       "      <th>image_path</th>\n",
       "      <th>label</th>\n",
       "    </tr>\n",
       "  </thead>\n",
       "  <tbody>\n",
       "    <tr>\n",
       "      <th>0</th>\n",
       "      <td>imgs/train/00000.jpg</td>\n",
       "      <td>6</td>\n",
       "    </tr>\n",
       "    <tr>\n",
       "      <th>1</th>\n",
       "      <td>imgs/train/00001.jpg</td>\n",
       "      <td>9</td>\n",
       "    </tr>\n",
       "    <tr>\n",
       "      <th>2</th>\n",
       "      <td>imgs/train/00002.jpg</td>\n",
       "      <td>9</td>\n",
       "    </tr>\n",
       "    <tr>\n",
       "      <th>3</th>\n",
       "      <td>imgs/train/00003.jpg</td>\n",
       "      <td>4</td>\n",
       "    </tr>\n",
       "    <tr>\n",
       "      <th>4</th>\n",
       "      <td>imgs/train/00004.jpg</td>\n",
       "      <td>1</td>\n",
       "    </tr>\n",
       "  </tbody>\n",
       "</table>\n",
       "</div>"
      ],
      "text/plain": [
       "             image_path  label\n",
       "0  imgs/train/00000.jpg      6\n",
       "1  imgs/train/00001.jpg      9\n",
       "2  imgs/train/00002.jpg      9\n",
       "3  imgs/train/00003.jpg      4\n",
       "4  imgs/train/00004.jpg      1"
      ]
     },
     "execution_count": 11,
     "metadata": {},
     "output_type": "execute_result"
    }
   ],
   "source": [
    "train_val_df = pd.read_json(train_val_json, encoding=\"utf-8\", orient='records')\n",
    "train_val_df[:5]"
   ]
  },
  {
   "cell_type": "code",
   "execution_count": 12,
   "metadata": {
    "ExecuteTime": {
     "end_time": "2020-08-13T13:33:17.937142Z",
     "start_time": "2020-08-13T13:33:17.905357Z"
    }
   },
   "outputs": [
    {
     "data": {
      "text/html": [
       "<div>\n",
       "<style scoped>\n",
       "    .dataframe tbody tr th:only-of-type {\n",
       "        vertical-align: middle;\n",
       "    }\n",
       "\n",
       "    .dataframe tbody tr th {\n",
       "        vertical-align: top;\n",
       "    }\n",
       "\n",
       "    .dataframe thead th {\n",
       "        text-align: right;\n",
       "    }\n",
       "</style>\n",
       "<table border=\"1\" class=\"dataframe\">\n",
       "  <thead>\n",
       "    <tr style=\"text-align: right;\">\n",
       "      <th></th>\n",
       "      <th>image_path</th>\n",
       "    </tr>\n",
       "    <tr>\n",
       "      <th>label</th>\n",
       "      <th></th>\n",
       "    </tr>\n",
       "  </thead>\n",
       "  <tbody>\n",
       "    <tr>\n",
       "      <th>0</th>\n",
       "      <td>5000</td>\n",
       "    </tr>\n",
       "    <tr>\n",
       "      <th>1</th>\n",
       "      <td>5000</td>\n",
       "    </tr>\n",
       "    <tr>\n",
       "      <th>2</th>\n",
       "      <td>5000</td>\n",
       "    </tr>\n",
       "    <tr>\n",
       "      <th>3</th>\n",
       "      <td>5000</td>\n",
       "    </tr>\n",
       "    <tr>\n",
       "      <th>4</th>\n",
       "      <td>5000</td>\n",
       "    </tr>\n",
       "    <tr>\n",
       "      <th>5</th>\n",
       "      <td>5000</td>\n",
       "    </tr>\n",
       "    <tr>\n",
       "      <th>6</th>\n",
       "      <td>5000</td>\n",
       "    </tr>\n",
       "    <tr>\n",
       "      <th>7</th>\n",
       "      <td>5000</td>\n",
       "    </tr>\n",
       "    <tr>\n",
       "      <th>8</th>\n",
       "      <td>5000</td>\n",
       "    </tr>\n",
       "    <tr>\n",
       "      <th>9</th>\n",
       "      <td>5000</td>\n",
       "    </tr>\n",
       "  </tbody>\n",
       "</table>\n",
       "</div>"
      ],
      "text/plain": [
       "       image_path\n",
       "label            \n",
       "0            5000\n",
       "1            5000\n",
       "2            5000\n",
       "3            5000\n",
       "4            5000\n",
       "5            5000\n",
       "6            5000\n",
       "7            5000\n",
       "8            5000\n",
       "9            5000"
      ]
     },
     "execution_count": 12,
     "metadata": {},
     "output_type": "execute_result"
    }
   ],
   "source": [
    "grouped_by_label = train_val_df.groupby('label')\n",
    "grouped_by_label.count()"
   ]
  },
  {
   "cell_type": "code",
   "execution_count": 13,
   "metadata": {
    "ExecuteTime": {
     "end_time": "2020-08-13T13:33:27.995992Z",
     "start_time": "2020-08-13T13:33:27.496798Z"
    }
   },
   "outputs": [
    {
     "data": {
      "image/png": "[encoded data removed]",
      "text/plain": [
       "<Figure size 432x288 with 1 Axes>"
      ]
     },
     "metadata": {
      "needs_background": "light"
     },
     "output_type": "display_data"
    }
   ],
   "source": [
    "grouped_by_label.count().plot(kind='bar');"
   ]
  },
  {
   "cell_type": "code",
   "execution_count": 14,
   "metadata": {
    "ExecuteTime": {
     "end_time": "2020-08-13T13:34:10.857871Z",
     "start_time": "2020-08-13T13:34:10.478577Z"
    }
   },
   "outputs": [
    {
     "data": {
      "image/png": "[encoded data removed]",
      "text/plain": [
       "<Figure size 432x288 with 1 Axes>"
      ]
     },
     "metadata": {
      "needs_background": "light"
     },
     "output_type": "display_data"
    }
   ],
   "source": [
    "# 合理: 先分组, 然后组中随机样本\n",
    "reduced_df = train_val_df.groupby('label').apply(pd.DataFrame.sample, n=2000, random_state=20, replace=False)\n",
    "reduced_df['label'].value_counts().plot(kind='bar');"
   ]
  },
  {
   "cell_type": "code",
   "execution_count": 16,
   "metadata": {
    "ExecuteTime": {
     "end_time": "2020-08-13T13:36:33.166140Z",
     "start_time": "2020-08-13T13:36:33.140675Z"
    }
   },
   "outputs": [
    {
     "data": {
      "text/html": [
       "<div>\n",
       "<style scoped>\n",
       "    .dataframe tbody tr th:only-of-type {\n",
       "        vertical-align: middle;\n",
       "    }\n",
       "\n",
       "    .dataframe tbody tr th {\n",
       "        vertical-align: top;\n",
       "    }\n",
       "\n",
       "    .dataframe thead th {\n",
       "        text-align: right;\n",
       "    }\n",
       "</style>\n",
       "<table border=\"1\" class=\"dataframe\">\n",
       "  <thead>\n",
       "    <tr style=\"text-align: right;\">\n",
       "      <th></th>\n",
       "      <th></th>\n",
       "      <th>image_path</th>\n",
       "      <th>label</th>\n",
       "    </tr>\n",
       "    <tr>\n",
       "      <th>label</th>\n",
       "      <th></th>\n",
       "      <th></th>\n",
       "      <th></th>\n",
       "    </tr>\n",
       "  </thead>\n",
       "  <tbody>\n",
       "    <tr>\n",
       "      <th>3</th>\n",
       "      <th>27628</th>\n",
       "      <td>imgs/train/27628.jpg</td>\n",
       "      <td>3</td>\n",
       "    </tr>\n",
       "    <tr>\n",
       "      <th>7</th>\n",
       "      <th>38145</th>\n",
       "      <td>imgs/train/38145.jpg</td>\n",
       "      <td>7</td>\n",
       "    </tr>\n",
       "    <tr>\n",
       "      <th>4</th>\n",
       "      <th>40981</th>\n",
       "      <td>imgs/train/40981.jpg</td>\n",
       "      <td>4</td>\n",
       "    </tr>\n",
       "    <tr>\n",
       "      <th>7</th>\n",
       "      <th>13351</th>\n",
       "      <td>imgs/train/13351.jpg</td>\n",
       "      <td>7</td>\n",
       "    </tr>\n",
       "    <tr>\n",
       "      <th>3</th>\n",
       "      <th>26797</th>\n",
       "      <td>imgs/train/26797.jpg</td>\n",
       "      <td>3</td>\n",
       "    </tr>\n",
       "    <tr>\n",
       "      <th>0</th>\n",
       "      <th>48856</th>\n",
       "      <td>imgs/train/48856.jpg</td>\n",
       "      <td>0</td>\n",
       "    </tr>\n",
       "    <tr>\n",
       "      <th>6</th>\n",
       "      <th>2203</th>\n",
       "      <td>imgs/train/02203.jpg</td>\n",
       "      <td>6</td>\n",
       "    </tr>\n",
       "    <tr>\n",
       "      <th rowspan=\"2\" valign=\"top\">0</th>\n",
       "      <th>2142</th>\n",
       "      <td>imgs/train/02142.jpg</td>\n",
       "      <td>0</td>\n",
       "    </tr>\n",
       "    <tr>\n",
       "      <th>33368</th>\n",
       "      <td>imgs/train/33368.jpg</td>\n",
       "      <td>0</td>\n",
       "    </tr>\n",
       "    <tr>\n",
       "      <th>4</th>\n",
       "      <th>42035</th>\n",
       "      <td>imgs/train/42035.jpg</td>\n",
       "      <td>4</td>\n",
       "    </tr>\n",
       "  </tbody>\n",
       "</table>\n",
       "</div>"
      ],
      "text/plain": [
       "                       image_path  label\n",
       "label                                   \n",
       "3     27628  imgs/train/27628.jpg      3\n",
       "7     38145  imgs/train/38145.jpg      7\n",
       "4     40981  imgs/train/40981.jpg      4\n",
       "7     13351  imgs/train/13351.jpg      7\n",
       "3     26797  imgs/train/26797.jpg      3\n",
       "0     48856  imgs/train/48856.jpg      0\n",
       "6     2203   imgs/train/02203.jpg      6\n",
       "0     2142   imgs/train/02142.jpg      0\n",
       "      33368  imgs/train/33368.jpg      0\n",
       "4     42035  imgs/train/42035.jpg      4"
      ]
     },
     "execution_count": 16,
     "metadata": {},
     "output_type": "execute_result"
    }
   ],
   "source": [
    "reduced_shuffle_df = reduced_df.sample(frac=1)\n",
    "reduced_shuffle_df[15:25]"
   ]
  },
  {
   "cell_type": "code",
   "execution_count": 17,
   "metadata": {
    "ExecuteTime": {
     "end_time": "2020-08-13T13:36:44.802109Z",
     "start_time": "2020-08-13T13:36:44.780407Z"
    }
   },
   "outputs": [
    {
     "data": {
      "text/plain": [
       "(12800, 3200, 4000, 20000)"
      ]
     },
     "execution_count": 17,
     "metadata": {},
     "output_type": "execute_result"
    }
   ],
   "source": [
    "train_valid_df, test_df = train_test_split(reduced_shuffle_df, test_size=0.2)\n",
    "train_df, valid_df = train_test_split(train_valid_df, test_size=0.2)\n",
    "len(train_df), len(valid_df), len(test_df), len(reduced_shuffle_df)"
   ]
  },
  {
   "cell_type": "code",
   "execution_count": 22,
   "metadata": {
    "ExecuteTime": {
     "end_time": "2020-08-13T13:37:45.294236Z",
     "start_time": "2020-08-13T13:37:45.280163Z"
    }
   },
   "outputs": [
    {
     "data": {
      "image/png": "[encoded data removed]",
      "text/plain": [
       "<PIL.JpegImagePlugin.JpegImageFile image mode=RGB size=32x32 at 0x7F4F188390B8>"
      ]
     },
     "execution_count": 22,
     "metadata": {},
     "output_type": "execute_result"
    }
   ],
   "source": [
    "image_path = test_df[0:10]['image_path'].tolist()[0]\n",
    "image_path = os.path.join(K12AI_DATASETS_ROOT, 'cv', 'cifar10', image_path)\n",
    "Image.open(image_path)"
   ]
  },
  {
   "cell_type": "code",
   "execution_count": 25,
   "metadata": {
    "ExecuteTime": {
     "end_time": "2020-08-13T13:39:35.147807Z",
     "start_time": "2020-08-13T13:39:05.622107Z"
    }
   },
   "outputs": [
    {
     "name": "stdout",
     "output_type": "stream",
     "text": [
      "test count: 4000\n",
      "train count: 12800\n",
      "val count: 3200\n"
     ]
    }
   ],
   "source": [
    "def generate_rdogsvscats(df, phase):\n",
    "    src_root = os.path.join(K12AI_DATASETS_ROOT, 'cv', 'cifar10')\n",
    "    dst_root = os.path.join(K12AI_DATASETS_ROOT, 'cv', 'rcifar10')\n",
    "    \n",
    "    img_path = os.path.join(dst_root, 'imgs', phase)\n",
    "    shutil.rmtree(img_path, ignore_errors=True)\n",
    "    os.makedirs(img_path)\n",
    "    \n",
    "    results = []\n",
    "    items = df.to_dict(orient='records')\n",
    "    print(f'{phase} count: {len(items)}')\n",
    "    for item in items:\n",
    "        filename = os.path.basename(item['image_path'])\n",
    "        src_path = os.path.join(src_root, item['image_path'])\n",
    "        dst_path = os.path.join(img_path, filename)\n",
    "        if not os.path.exists(src_path):\n",
    "            print('not found:', src_path)\n",
    "        if os.path.exists(dst_path):\n",
    "            print('replce found:', dst_path)\n",
    "        results.append({\n",
    "            'image_path': f'imgs/{phase}/{filename}',\n",
    "            'label': item['label']\n",
    "        })\n",
    "        # Image.open(src_path).resize((256, 256)).crop((16, 16, 240, 240)).save(dst_path)\n",
    "        shutil.copy2(src_path, dst_path)\n",
    "        \n",
    "    with open(os.path.join(dst_root, f'{phase}.json'), 'w') as f:\n",
    "        json.dump(results, f)\n",
    "        \n",
    "generate_rdogsvscats(test_df, 'test')\n",
    "generate_rdogsvscats(train_df, 'train')\n",
    "generate_rdogsvscats(valid_df, 'val')"
   ]
  },
  {
   "cell_type": "code",
   "execution_count": 26,
   "metadata": {
    "ExecuteTime": {
     "end_time": "2020-08-13T13:40:36.290614Z",
     "start_time": "2020-08-13T13:39:54.345279Z"
    }
   },
   "outputs": [],
   "source": [
    "datadir = os.path.join(K12AI_DATASETS_ROOT, 'cv', 'rcifar10')\n",
    "jfiles = ['train.json', 'val.json', 'test.json']\n",
    "mean, std = k12ai_compute_mean_std(datadir=datadir, jfiles=jfiles)"
   ]
  },
  {
   "cell_type": "code",
   "execution_count": 27,
   "metadata": {
    "ExecuteTime": {
     "end_time": "2020-08-13T13:40:49.894437Z",
     "start_time": "2020-08-13T13:40:49.884689Z"
    }
   },
   "outputs": [
    {
     "data": {
      "text/plain": [
       "(tensor([0.4915, 0.4824, 0.4468]), tensor([0.1991, 0.1969, 0.1994]))"
      ]
     },
     "execution_count": 27,
     "metadata": {},
     "output_type": "execute_result"
    }
   ],
   "source": [
    "mean, std"
   ]
  }
 ],
 "metadata": {
  "kernelspec": {
   "display_name": "Python 3",
   "language": "python",
   "name": "python3"
  },
  "language_info": {
   "codemirror_mode": {
    "name": "ipython",
    "version": 3
   },
   "file_extension": ".py",
   "mimetype": "text/x-python",
   "name": "python",
   "nbconvert_exporter": "python",
   "pygments_lexer": "ipython3",
   "version": "3.6.9"
  },
  "toc": {
   "base_numbering": 1,
   "nav_menu": {},
   "number_sections": true,
   "sideBar": true,
   "skip_h1_title": false,
   "title_cell": "Table of Contents",
   "title_sidebar": "Contents",
   "toc_cell": false,
   "toc_position": {},
   "toc_section_display": true,
   "toc_window_display": true
  }
 },
 "nbformat": 4,
 "nbformat_minor": 4
}
