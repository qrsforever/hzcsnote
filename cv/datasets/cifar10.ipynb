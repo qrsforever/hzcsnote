{
 "cells": [
  {
   "cell_type": "code",
   "execution_count": 1,
   "metadata": {
    "ExecuteTime": {
     "end_time": "2020-04-02T09:49:55.598803Z",
     "start_time": "2020-04-02T09:49:55.551502Z"
    }
   },
   "outputs": [],
   "source": [
    "%reload_ext autoreload\n",
    "%autoreload 2"
   ]
  },
  {
   "cell_type": "code",
   "execution_count": 14,
   "metadata": {
    "ExecuteTime": {
     "end_time": "2020-04-02T09:59:19.388337Z",
     "start_time": "2020-04-02T09:59:19.348173Z"
    }
   },
   "outputs": [],
   "source": [
    "import os\n",
    "\n",
    "from k12libs.utils.nb_easy import K12AI_DATASETS_ROOT\n",
    "from k12libs.utils.nb_dataset import k12ai_compute_mean_std "
   ]
  },
  {
   "cell_type": "markdown",
   "metadata": {},
   "source": [
    "## 1. Mean and Std"
   ]
  },
  {
   "cell_type": "code",
   "execution_count": null,
   "metadata": {
    "ExecuteTime": {
     "end_time": "2020-04-02T09:59:32.916889Z",
     "start_time": "2020-04-02T09:59:20.677798Z"
    }
   },
   "outputs": [],
   "source": [
    "datadir = os.path.join(K12AI_DATASETS_ROOT, 'cv', 'cifar10')\n",
    "jfiles = ['train.json', 'val.json', 'test.json']\n",
    "mean, std = k12ai_compute_mean_std(datadir=datadir, jfiles=jfiles)"
   ]
  },
  {
   "cell_type": "code",
   "execution_count": 15,
   "metadata": {
    "ExecuteTime": {
     "end_time": "2020-04-02T09:59:32.916889Z",
     "start_time": "2020-04-02T09:59:20.677798Z"
    }
   },
   "outputs": [
    {
     "data": {
      "text/plain": [
       "(tensor([0.4917, 0.4826, 0.4472]), tensor([0.2011, 0.1989, 0.2015]))"
      ]
     },
     "execution_count": 15,
     "metadata": {},
     "output_type": "execute_result"
    }
   ],
   "source": [
    "mean, std"
   ]
  },
  {
   "cell_type": "markdown",
   "metadata": {},
   "source": [
    "| mean | std |\n",
    "| :---: | :---: |\n",
    "|<img width=200/> | <img width=200/>\n",
    "| [0.4917, 0.4826, 0.4472] | [0.2011, 0.1989, 0.2015] |"
   ]
  }
 ],
 "metadata": {
  "kernelspec": {
   "display_name": "Python 3",
   "language": "python",
   "name": "python3"
  },
  "language_info": {
   "codemirror_mode": {
    "name": "ipython",
    "version": 3
   },
   "file_extension": ".py",
   "mimetype": "text/x-python",
   "name": "python",
   "nbconvert_exporter": "python",
   "pygments_lexer": "ipython3",
   "version": "3.6.9"
  }
 },
 "nbformat": 4,
 "nbformat_minor": 4
}
