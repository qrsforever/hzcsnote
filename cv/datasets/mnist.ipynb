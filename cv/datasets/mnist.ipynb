{
 "cells": [
  {
   "cell_type": "markdown",
   "metadata": {
    "toc": true
   },
   "source": [
    "<h1><span class=\"tocSkip\"></span></h1>\n",
    "<div class=\"toc\"><ul class=\"toc-item\"><li><span><a href=\"#-Compute-Mean-and-Std-\" data-toc-modified-id=\"-Compute-Mean-and-Std--1\"><span class=\"toc-item-num\">1&nbsp;&nbsp;</span><div align=\"center\"> Compute Mean and Std </div></a></span></li></ul></div>"
   ]
  },
  {
   "cell_type": "code",
   "execution_count": 1,
   "metadata": {
    "ExecuteTime": {
     "end_time": "2020-04-02T09:59:55.134310Z",
     "start_time": "2020-04-02T09:59:55.111681Z"
    }
   },
   "outputs": [],
   "source": [
    "%reload_ext autoreload\n",
    "%autoreload 2"
   ]
  },
  {
   "cell_type": "code",
   "execution_count": 2,
   "metadata": {
    "ExecuteTime": {
     "end_time": "2020-04-02T09:59:56.258455Z",
     "start_time": "2020-04-02T09:59:55.137323Z"
    }
   },
   "outputs": [],
   "source": [
    "import os\n",
    "\n",
    "from k12libs.utils.nb_easy import K12AI_DATASETS_ROOT\n",
    "from k12libs.utils.nb_dataset import k12ai_compute_mean_std"
   ]
  },
  {
   "cell_type": "markdown",
   "metadata": {},
   "source": [
    "## <div align=\"center\"> Compute Mean and Std </div>"
   ]
  },
  {
   "cell_type": "code",
   "execution_count": 3,
   "metadata": {
    "ExecuteTime": {
     "end_time": "2020-04-02T10:00:09.205958Z",
     "start_time": "2020-04-02T09:59:56.262782Z"
    }
   },
   "outputs": [
    {
     "data": {
      "text/plain": [
       "(tensor([0.1349, 0.1349, 0.1349]), tensor([0.2976, 0.2976, 0.2976]))"
      ]
     },
     "execution_count": 3,
     "metadata": {},
     "output_type": "execute_result"
    }
   ],
   "source": [
    "datadir = os.path.join(K12AI_DATASETS_ROOT, 'cv', 'mnist')\n",
    "jfiles = ['train.json', 'val.json', 'test.json']\n",
    "mean, std = k12ai_compute_mean_std(datadir=datadir, jfiles=jfiles)"
   ]
  },
  {
   "cell_type": "code",
   "execution_count": 4,
   "metadata": {
    "ExecuteTime": {
     "end_time": "2020-04-02T10:00:09.231158Z",
     "start_time": "2020-04-02T10:00:09.208334Z"
    }
   },
   "outputs": [
    {
     "data": {
      "text/plain": [
       "(tensor([0.1349, 0.1349, 0.1349]), tensor([0.2976, 0.2976, 0.2976]))"
      ]
     },
     "execution_count": 4,
     "metadata": {},
     "output_type": "execute_result"
    }
   ],
   "source": [
    "mean, std"
   ]
  },
  {
   "cell_type": "markdown",
   "metadata": {},
   "source": [
    "| mean | std |\n",
    "| :---: | :---: |\n",
    "|<img width=200/> | <img width=200/>\n",
    "|[0.1349, 0.1349, 0.1349] | [0.2976, 0.2976, 0.2976] |"
   ]
  },
  {
   "cell_type": "code",
   "execution_count": null,
   "metadata": {},
   "outputs": [],
   "source": []
  }
 ],
 "metadata": {
  "kernelspec": {
   "display_name": "Python 3",
   "language": "python",
   "name": "python3"
  },
  "language_info": {
   "codemirror_mode": {
    "name": "ipython",
    "version": 3
   },
   "file_extension": ".py",
   "mimetype": "text/x-python",
   "name": "python",
   "nbconvert_exporter": "python",
   "pygments_lexer": "ipython3",
   "version": "3.6.9"
  },
  "toc": {
   "base_numbering": 1,
   "nav_menu": {},
   "number_sections": true,
   "sideBar": true,
   "skip_h1_title": true,
   "title_cell": "",
   "title_sidebar": "Contents",
   "toc_cell": true,
   "toc_position": {},
   "toc_section_display": true,
   "toc_window_display": false
  }
 },
 "nbformat": 4,
 "nbformat_minor": 4
}
