{
 "cells": [
  {
   "cell_type": "code",
   "execution_count": 1,
   "metadata": {
    "ExecuteTime": {
     "end_time": "2020-09-01T11:03:54.871581Z",
     "start_time": "2020-09-01T11:03:54.844181Z"
    }
   },
   "outputs": [],
   "source": [
    "%reload_ext autoreload\n",
    "%autoreload 2"
   ]
  },
  {
   "cell_type": "code",
   "execution_count": 21,
   "metadata": {
    "ExecuteTime": {
     "end_time": "2020-09-01T11:07:20.794942Z",
     "start_time": "2020-09-01T11:07:20.713284Z"
    }
   },
   "outputs": [],
   "source": [
    "import os\n",
    "import json\n",
    "import shutil\n",
    "from PIL import Image\n",
    "from k12libs.utils.nb_easy import K12AI_DATASETS_ROOT\n",
    "from k12libs.utils.nb_dataset import k12ai_compute_mean_std \n",
    "from sklearn.model_selection import train_test_split\n",
    "\n",
    "\n",
    "import matplotlib.pyplot as plt\n",
    "import scipy\n",
    "import pandas as pd\n",
    "import seaborn as sns"
   ]
  },
  {
   "cell_type": "markdown",
   "metadata": {},
   "source": [
    "## 裁剪"
   ]
  },
  {
   "cell_type": "code",
   "execution_count": 18,
   "metadata": {
    "ExecuteTime": {
     "end_time": "2020-09-01T11:06:38.413418Z",
     "start_time": "2020-09-01T11:06:38.278834Z"
    }
   },
   "outputs": [
    {
     "data": {
      "text/plain": [
       "50000"
      ]
     },
     "execution_count": 18,
     "metadata": {},
     "output_type": "execute_result"
    }
   ],
   "source": [
    "dataset = 'rcifar10'\n",
    "data_root = os.path.join(K12AI_DATASETS_ROOT, 'cv', dataset)\n",
    "train_val_json = os.path.join(K12AI_DATASETS_ROOT, 'cv', 'cifar10', 'train_val.json')\n",
    "items = []\n",
    "with open(train_val_json, 'r') as f:\n",
    "    items = json.load(f)\n",
    "len(items)"
   ]
  },
  {
   "cell_type": "code",
   "execution_count": 4,
   "metadata": {
    "ExecuteTime": {
     "end_time": "2020-09-01T11:03:57.517254Z",
     "start_time": "2020-09-01T11:03:57.311199Z"
    }
   },
   "outputs": [
    {
     "data": {
      "text/html": [
       "<div>\n",
       "<style scoped>\n",
       "    .dataframe tbody tr th:only-of-type {\n",
       "        vertical-align: middle;\n",
       "    }\n",
       "\n",
       "    .dataframe tbody tr th {\n",
       "        vertical-align: top;\n",
       "    }\n",
       "\n",
       "    .dataframe thead th {\n",
       "        text-align: right;\n",
       "    }\n",
       "</style>\n",
       "<table border=\"1\" class=\"dataframe\">\n",
       "  <thead>\n",
       "    <tr style=\"text-align: right;\">\n",
       "      <th></th>\n",
       "      <th>image_path</th>\n",
       "      <th>label</th>\n",
       "    </tr>\n",
       "  </thead>\n",
       "  <tbody>\n",
       "    <tr>\n",
       "      <th>0</th>\n",
       "      <td>imgs/train/00000.jpg</td>\n",
       "      <td>6</td>\n",
       "    </tr>\n",
       "    <tr>\n",
       "      <th>1</th>\n",
       "      <td>imgs/train/00001.jpg</td>\n",
       "      <td>9</td>\n",
       "    </tr>\n",
       "    <tr>\n",
       "      <th>2</th>\n",
       "      <td>imgs/train/00002.jpg</td>\n",
       "      <td>9</td>\n",
       "    </tr>\n",
       "    <tr>\n",
       "      <th>3</th>\n",
       "      <td>imgs/train/00003.jpg</td>\n",
       "      <td>4</td>\n",
       "    </tr>\n",
       "    <tr>\n",
       "      <th>4</th>\n",
       "      <td>imgs/train/00004.jpg</td>\n",
       "      <td>1</td>\n",
       "    </tr>\n",
       "  </tbody>\n",
       "</table>\n",
       "</div>"
      ],
      "text/plain": [
       "             image_path  label\n",
       "0  imgs/train/00000.jpg      6\n",
       "1  imgs/train/00001.jpg      9\n",
       "2  imgs/train/00002.jpg      9\n",
       "3  imgs/train/00003.jpg      4\n",
       "4  imgs/train/00004.jpg      1"
      ]
     },
     "execution_count": 4,
     "metadata": {},
     "output_type": "execute_result"
    }
   ],
   "source": [
    "train_val_df = pd.read_json(train_val_json, encoding=\"utf-8\", orient='records')\n",
    "train_val_df[:5]"
   ]
  },
  {
   "cell_type": "code",
   "execution_count": 5,
   "metadata": {
    "ExecuteTime": {
     "end_time": "2020-09-01T11:03:57.588907Z",
     "start_time": "2020-09-01T11:03:57.519696Z"
    }
   },
   "outputs": [
    {
     "data": {
      "text/html": [
       "<div>\n",
       "<style scoped>\n",
       "    .dataframe tbody tr th:only-of-type {\n",
       "        vertical-align: middle;\n",
       "    }\n",
       "\n",
       "    .dataframe tbody tr th {\n",
       "        vertical-align: top;\n",
       "    }\n",
       "\n",
       "    .dataframe thead th {\n",
       "        text-align: right;\n",
       "    }\n",
       "</style>\n",
       "<table border=\"1\" class=\"dataframe\">\n",
       "  <thead>\n",
       "    <tr style=\"text-align: right;\">\n",
       "      <th></th>\n",
       "      <th>image_path</th>\n",
       "    </tr>\n",
       "    <tr>\n",
       "      <th>label</th>\n",
       "      <th></th>\n",
       "    </tr>\n",
       "  </thead>\n",
       "  <tbody>\n",
       "    <tr>\n",
       "      <th>0</th>\n",
       "      <td>5000</td>\n",
       "    </tr>\n",
       "    <tr>\n",
       "      <th>1</th>\n",
       "      <td>5000</td>\n",
       "    </tr>\n",
       "    <tr>\n",
       "      <th>2</th>\n",
       "      <td>5000</td>\n",
       "    </tr>\n",
       "    <tr>\n",
       "      <th>3</th>\n",
       "      <td>5000</td>\n",
       "    </tr>\n",
       "    <tr>\n",
       "      <th>4</th>\n",
       "      <td>5000</td>\n",
       "    </tr>\n",
       "    <tr>\n",
       "      <th>5</th>\n",
       "      <td>5000</td>\n",
       "    </tr>\n",
       "    <tr>\n",
       "      <th>6</th>\n",
       "      <td>5000</td>\n",
       "    </tr>\n",
       "    <tr>\n",
       "      <th>7</th>\n",
       "      <td>5000</td>\n",
       "    </tr>\n",
       "    <tr>\n",
       "      <th>8</th>\n",
       "      <td>5000</td>\n",
       "    </tr>\n",
       "    <tr>\n",
       "      <th>9</th>\n",
       "      <td>5000</td>\n",
       "    </tr>\n",
       "  </tbody>\n",
       "</table>\n",
       "</div>"
      ],
      "text/plain": [
       "       image_path\n",
       "label            \n",
       "0            5000\n",
       "1            5000\n",
       "2            5000\n",
       "3            5000\n",
       "4            5000\n",
       "5            5000\n",
       "6            5000\n",
       "7            5000\n",
       "8            5000\n",
       "9            5000"
      ]
     },
     "execution_count": 5,
     "metadata": {},
     "output_type": "execute_result"
    }
   ],
   "source": [
    "grouped_by_label = train_val_df.groupby('label')\n",
    "grouped_by_label.count()"
   ]
  },
  {
   "cell_type": "code",
   "execution_count": 6,
   "metadata": {
    "ExecuteTime": {
     "end_time": "2020-09-01T11:03:57.883536Z",
     "start_time": "2020-09-01T11:03:57.591603Z"
    }
   },
   "outputs": [
    {
     "data": {
      "image/png": "[encoded data removed]",
      "text/plain": [
       "<Figure size 432x288 with 1 Axes>"
      ]
     },
     "metadata": {
      "needs_background": "light"
     },
     "output_type": "display_data"
    }
   ],
   "source": [
    "grouped_by_label.count().plot(kind='bar');"
   ]
  },
  {
   "cell_type": "code",
   "execution_count": 7,
   "metadata": {
    "ExecuteTime": {
     "end_time": "2020-09-01T11:03:58.172834Z",
     "start_time": "2020-09-01T11:03:57.886238Z"
    }
   },
   "outputs": [
    {
     "data": {
      "image/png": "[encoded data removed]",
      "text/plain": [
       "<Figure size 432x288 with 1 Axes>"
      ]
     },
     "metadata": {
      "needs_background": "light"
     },
     "output_type": "display_data"
    }
   ],
   "source": [
    "# 合理: 先分组, 然后组中随机样本\n",
    "reduced_df = train_val_df.groupby('label').apply(pd.DataFrame.sample, n=2000, random_state=20, replace=False)\n",
    "reduced_df['label'].value_counts().plot(kind='bar');"
   ]
  },
  {
   "cell_type": "code",
   "execution_count": 8,
   "metadata": {
    "ExecuteTime": {
     "end_time": "2020-09-01T11:03:58.216531Z",
     "start_time": "2020-09-01T11:03:58.176804Z"
    }
   },
   "outputs": [
    {
     "data": {
      "text/html": [
       "<div>\n",
       "<style scoped>\n",
       "    .dataframe tbody tr th:only-of-type {\n",
       "        vertical-align: middle;\n",
       "    }\n",
       "\n",
       "    .dataframe tbody tr th {\n",
       "        vertical-align: top;\n",
       "    }\n",
       "\n",
       "    .dataframe thead th {\n",
       "        text-align: right;\n",
       "    }\n",
       "</style>\n",
       "<table border=\"1\" class=\"dataframe\">\n",
       "  <thead>\n",
       "    <tr style=\"text-align: right;\">\n",
       "      <th></th>\n",
       "      <th></th>\n",
       "      <th>image_path</th>\n",
       "      <th>label</th>\n",
       "    </tr>\n",
       "    <tr>\n",
       "      <th>label</th>\n",
       "      <th></th>\n",
       "      <th></th>\n",
       "      <th></th>\n",
       "    </tr>\n",
       "  </thead>\n",
       "  <tbody>\n",
       "    <tr>\n",
       "      <th>3</th>\n",
       "      <th>4083</th>\n",
       "      <td>imgs/train/04083.jpg</td>\n",
       "      <td>3</td>\n",
       "    </tr>\n",
       "    <tr>\n",
       "      <th>1</th>\n",
       "      <th>20811</th>\n",
       "      <td>imgs/train/20811.jpg</td>\n",
       "      <td>1</td>\n",
       "    </tr>\n",
       "    <tr>\n",
       "      <th>7</th>\n",
       "      <th>48204</th>\n",
       "      <td>imgs/train/48204.jpg</td>\n",
       "      <td>7</td>\n",
       "    </tr>\n",
       "    <tr>\n",
       "      <th>1</th>\n",
       "      <th>2280</th>\n",
       "      <td>imgs/train/02280.jpg</td>\n",
       "      <td>1</td>\n",
       "    </tr>\n",
       "    <tr>\n",
       "      <th>4</th>\n",
       "      <th>2999</th>\n",
       "      <td>imgs/train/02999.jpg</td>\n",
       "      <td>4</td>\n",
       "    </tr>\n",
       "    <tr>\n",
       "      <th>8</th>\n",
       "      <th>10336</th>\n",
       "      <td>imgs/train/10336.jpg</td>\n",
       "      <td>8</td>\n",
       "    </tr>\n",
       "    <tr>\n",
       "      <th>7</th>\n",
       "      <th>5774</th>\n",
       "      <td>imgs/train/05774.jpg</td>\n",
       "      <td>7</td>\n",
       "    </tr>\n",
       "    <tr>\n",
       "      <th>9</th>\n",
       "      <th>16001</th>\n",
       "      <td>imgs/train/16001.jpg</td>\n",
       "      <td>9</td>\n",
       "    </tr>\n",
       "    <tr>\n",
       "      <th>7</th>\n",
       "      <th>48548</th>\n",
       "      <td>imgs/train/48548.jpg</td>\n",
       "      <td>7</td>\n",
       "    </tr>\n",
       "    <tr>\n",
       "      <th>5</th>\n",
       "      <th>28321</th>\n",
       "      <td>imgs/train/28321.jpg</td>\n",
       "      <td>5</td>\n",
       "    </tr>\n",
       "  </tbody>\n",
       "</table>\n",
       "</div>"
      ],
      "text/plain": [
       "                       image_path  label\n",
       "label                                   \n",
       "3     4083   imgs/train/04083.jpg      3\n",
       "1     20811  imgs/train/20811.jpg      1\n",
       "7     48204  imgs/train/48204.jpg      7\n",
       "1     2280   imgs/train/02280.jpg      1\n",
       "4     2999   imgs/train/02999.jpg      4\n",
       "8     10336  imgs/train/10336.jpg      8\n",
       "7     5774   imgs/train/05774.jpg      7\n",
       "9     16001  imgs/train/16001.jpg      9\n",
       "7     48548  imgs/train/48548.jpg      7\n",
       "5     28321  imgs/train/28321.jpg      5"
      ]
     },
     "execution_count": 8,
     "metadata": {},
     "output_type": "execute_result"
    }
   ],
   "source": [
    "reduced_shuffle_df = reduced_df.sample(frac=1)\n",
    "reduced_shuffle_df[15:25]"
   ]
  },
  {
   "cell_type": "code",
   "execution_count": 9,
   "metadata": {
    "ExecuteTime": {
     "end_time": "2020-09-01T11:03:58.258096Z",
     "start_time": "2020-09-01T11:03:58.219193Z"
    }
   },
   "outputs": [
    {
     "data": {
      "text/plain": [
       "(12800, 3200, 4000, 20000)"
      ]
     },
     "execution_count": 9,
     "metadata": {},
     "output_type": "execute_result"
    }
   ],
   "source": [
    "train_valid_df, test_df = train_test_split(reduced_shuffle_df, test_size=0.2)\n",
    "train_df, valid_df = train_test_split(train_valid_df, test_size=0.2)\n",
    "len(train_df), len(valid_df), len(test_df), len(reduced_shuffle_df)"
   ]
  },
  {
   "cell_type": "code",
   "execution_count": 10,
   "metadata": {
    "ExecuteTime": {
     "end_time": "2020-09-01T11:03:58.331883Z",
     "start_time": "2020-09-01T11:03:58.261966Z"
    }
   },
   "outputs": [
    {
     "data": {
      "image/png": "[encoded data removed]",
      "text/plain": [
       "<PIL.JpegImagePlugin.JpegImageFile image mode=RGB size=32x32 at 0x7FEAD4947278>"
      ]
     },
     "execution_count": 10,
     "metadata": {},
     "output_type": "execute_result"
    }
   ],
   "source": [
    "image_path = test_df[0:10]['image_path'].tolist()[0]\n",
    "image_path = os.path.join(K12AI_DATASETS_ROOT, 'cv', 'cifar10', image_path)\n",
    "Image.open(image_path)"
   ]
  },
  {
   "cell_type": "markdown",
   "metadata": {},
   "source": [
    "## 生成train.json/val.json/test.json"
   ]
  },
  {
   "cell_type": "code",
   "execution_count": 11,
   "metadata": {
    "ExecuteTime": {
     "end_time": "2020-09-01T11:04:27.344807Z",
     "start_time": "2020-09-01T11:03:58.335436Z"
    }
   },
   "outputs": [
    {
     "name": "stdout",
     "output_type": "stream",
     "text": [
      "test count: 4000\n",
      "train count: 12800\n",
      "val count: 3200\n"
     ]
    }
   ],
   "source": [
    "def generate_json_file(df, phase):\n",
    "    src_root = os.path.join(K12AI_DATASETS_ROOT, 'cv', 'cifar10')\n",
    "    dst_root = os.path.join(K12AI_DATASETS_ROOT, 'cv', 'rcifar10')\n",
    "    \n",
    "    img_path = os.path.join(dst_root, 'imgs', phase)\n",
    "    shutil.rmtree(img_path, ignore_errors=True)\n",
    "    os.makedirs(img_path)\n",
    "    \n",
    "    results = []\n",
    "    items = df.to_dict(orient='records')\n",
    "    print(f'{phase} count: {len(items)}')\n",
    "    for item in items:\n",
    "        filename = os.path.basename(item['image_path'])\n",
    "        src_path = os.path.join(src_root, item['image_path'])\n",
    "        dst_path = os.path.join(img_path, filename)\n",
    "        if not os.path.exists(src_path):\n",
    "            print('not found:', src_path)\n",
    "        if os.path.exists(dst_path):\n",
    "            print('replce found:', dst_path)\n",
    "        results.append({\n",
    "            'image_path': f'imgs/{phase}/{filename}',\n",
    "            'label': item['label']\n",
    "        })\n",
    "        # Image.open(src_path).resize((256, 256)).crop((16, 16, 240, 240)).save(dst_path)\n",
    "        shutil.copy2(src_path, dst_path)\n",
    "        \n",
    "    with open(os.path.join(dst_root, f'{phase}.json'), 'w') as f:\n",
    "        json.dump(results, f)\n",
    "    return len(results)\n",
    "        \n",
    "test_count = generate_json_file(test_df, 'test')\n",
    "train_count = generate_json_file(train_df, 'train')\n",
    "val_count = generate_json_file(valid_df, 'val')"
   ]
  },
  {
   "cell_type": "markdown",
   "metadata": {
    "ExecuteTime": {
     "end_time": "2020-09-01T11:04:27.382499Z",
     "start_time": "2020-09-01T11:04:27.347643Z"
    }
   },
   "source": [
    "## 生成info.json"
   ]
  },
  {
   "cell_type": "code",
   "execution_count": 13,
   "metadata": {
    "ExecuteTime": {
     "end_time": "2020-09-01T11:05:09.180332Z",
     "start_time": "2020-09-01T11:04:27.385029Z"
    }
   },
   "outputs": [],
   "source": [
    "datadir = os.path.join(K12AI_DATASETS_ROOT, 'cv', 'rcifar10')\n",
    "jfiles = ['train.json', 'val.json', 'test.json']\n",
    "mean, std = k12ai_compute_mean_std(datadir=datadir, jfiles=jfiles)"
   ]
  },
  {
   "cell_type": "code",
   "execution_count": 23,
   "metadata": {
    "ExecuteTime": {
     "end_time": "2020-09-02T07:22:18.702834Z",
     "start_time": "2020-09-02T07:22:18.645751Z"
    }
   },
   "outputs": [
    {
     "data": {
      "text/plain": [
       "{'num_records': 20000,\n",
       " 'num_classes': 10,\n",
       " 'label_names': ['plane',\n",
       "  'car',\n",
       "  'bird',\n",
       "  'cat',\n",
       "  'deer',\n",
       "  'dog',\n",
       "  'frog',\n",
       "  'horse',\n",
       "  'ship',\n",
       "  'truck'],\n",
       " 'mean': [0.4915, 0.4824, 0.4468],\n",
       " 'std': [0.1991, 0.1969, 0.1994]}"
      ]
     },
     "execution_count": 23,
     "metadata": {},
     "output_type": "execute_result"
    }
   ],
   "source": [
    "label_names = [\n",
    "    \"plane\",\n",
    "    \"car\",\n",
    "    \"bird\",\n",
    "    \"cat\",\n",
    "    \"deer\",\n",
    "    \"dog\",\n",
    "    \"frog\",\n",
    "    \"horse\",\n",
    "    \"ship\",\n",
    "    \"truck\"\n",
    "]\n",
    "\n",
    "info = {\n",
    "    'num_records': test_count+val_count+train_count,\n",
    "    'num_classes': len(label_names),\n",
    "    'label_names': label_names,\n",
    "    'mean': mean,\n",
    "    'std': std,\n",
    "}\n",
    "\n",
    "with open(os.path.join(data_root, 'info.json'), 'w') as fw:\n",
    "    json.dump(info, fw, indent=4)\n",
    "    \n",
    "info"
   ]
  },
  {
   "cell_type": "markdown",
   "metadata": {
    "ExecuteTime": {
     "end_time": "2020-09-01T11:05:09.504611Z",
     "start_time": "2020-09-01T11:03:54.869Z"
    }
   },
   "source": [
    "## 数据平衡分析"
   ]
  },
  {
   "cell_type": "code",
   "execution_count": 22,
   "metadata": {
    "ExecuteTime": {
     "end_time": "2020-09-01T11:07:29.912279Z",
     "start_time": "2020-09-01T11:07:29.071600Z"
    }
   },
   "outputs": [
    {
     "data": {
      "text/plain": [
       "<Figure size 432x288 with 0 Axes>"
      ]
     },
     "metadata": {},
     "output_type": "display_data"
    },
    {
     "data": {
      "image/png": "[encoded data removed]",
      "text/plain": [
       "<Figure size 864x864 with 1 Axes>"
      ]
     },
     "metadata": {
      "needs_background": "light"
     },
     "output_type": "display_data"
    }
   ],
   "source": [
    "def draw_hist():\n",
    "    plt.clf()\n",
    "    fig = plt.figure(figsize=(12, 12))\n",
    "    train_file = os.path.join(data_root, 'train.json')\n",
    "    val_file = os.path.join(data_root, 'val.json')\n",
    "    test_file = os.path.join(data_root, 'test.json')\n",
    "    df_train = pd.read_json(train_file)\n",
    "    df_val = pd.read_json(val_file)\n",
    "    df_test = pd.read_json(test_file)\n",
    "    for df, co, alpha in ((df_train, 'blue', 0.5), (df_val, 'yellow', 1), (df_test, 'maroon', 0.8)):\n",
    "        sns.distplot(df['label'],\n",
    "                 # fit=scipy.stats.norm,\n",
    "                 kde=False,\n",
    "                 hist=True,\n",
    "                 hist_kws={\"linewidth\": 2, \"alpha\": alpha, 'color': co},\n",
    "                 # rug=True,\n",
    "                 bins=22)\n",
    "    plt.savefig(f'{data_root}/labels_hist.png')\n",
    "    plt.show()\n",
    "draw_hist()"
   ]
  }
 ],
 "metadata": {
  "kernelspec": {
   "display_name": "Python 3",
   "language": "python",
   "name": "python3"
  },
  "language_info": {
   "codemirror_mode": {
    "name": "ipython",
    "version": 3
   },
   "file_extension": ".py",
   "mimetype": "text/x-python",
   "name": "python",
   "nbconvert_exporter": "python",
   "pygments_lexer": "ipython3",
   "version": "3.6.9"
  },
  "toc": {
   "base_numbering": 1,
   "nav_menu": {},
   "number_sections": true,
   "sideBar": true,
   "skip_h1_title": false,
   "title_cell": "Table of Contents",
   "title_sidebar": "Contents",
   "toc_cell": false,
   "toc_position": {},
   "toc_section_display": true,
   "toc_window_display": false
  }
 },
 "nbformat": 4,
 "nbformat_minor": 4
}
