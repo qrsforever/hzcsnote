{
 "cells": [
  {
   "cell_type": "code",
   "execution_count": 1,
   "metadata": {
    "ExecuteTime": {
     "end_time": "2020-09-01T10:44:57.008428Z",
     "start_time": "2020-09-01T10:44:56.981309Z"
    }
   },
   "outputs": [],
   "source": [
    "%reload_ext autoreload\n",
    "%autoreload 2"
   ]
  },
  {
   "cell_type": "code",
   "execution_count": 2,
   "metadata": {
    "ExecuteTime": {
     "end_time": "2020-09-01T10:44:59.142504Z",
     "start_time": "2020-09-01T10:44:57.011683Z"
    }
   },
   "outputs": [],
   "source": [
    "import os\n",
    "import json\n",
    "import pandas as pd\n",
    "import shutil\n",
    "from sklearn.model_selection import train_test_split\n",
    "import matplotlib.pyplot as plt\n",
    "import scipy\n",
    "import pandas as pd\n",
    "import seaborn as sns\n",
    "from pprint import pprint\n",
    "from collections import OrderedDict\n",
    "from k12libs.utils.nb_easy import K12AI_DATASETS_ROOT\n",
    "from k12libs.utils.nb_dataset import k12ai_compute_mean_std"
   ]
  },
  {
   "cell_type": "markdown",
   "metadata": {},
   "source": [
    "## 标签含义\n",
    "\n",
    "标签(lable) | 含义\n",
    ":----:|:----:\n",
    "<img width=200/>|<img width=200/>\n",
    "0 | 0\n",
    "1 | 1\n",
    "2 | 2\n",
    "3 | 3\n",
    "4 | 4\n",
    "5 | 5\n",
    "6 | 6\n",
    "7 | 7\n",
    "8 | 8\n",
    "9 | 9"
   ]
  },
  {
   "cell_type": "markdown",
   "metadata": {},
   "source": [
    "## 精简"
   ]
  },
  {
   "cell_type": "code",
   "execution_count": 3,
   "metadata": {
    "ExecuteTime": {
     "end_time": "2020-09-01T10:44:59.259439Z",
     "start_time": "2020-09-01T10:44:59.146949Z"
    }
   },
   "outputs": [
    {
     "data": {
      "text/plain": [
       "(48000, 12000, 60000)"
      ]
     },
     "execution_count": 3,
     "metadata": {},
     "output_type": "execute_result"
    }
   ],
   "source": [
    "data_root = os.path.join(K12AI_DATASETS_ROOT, 'cv', 'rmnist')\n",
    "\n",
    "train_json = os.path.join(K12AI_DATASETS_ROOT, 'cv', 'mnist', 'train.json')\n",
    "valid_json = os.path.join(K12AI_DATASETS_ROOT, 'cv', 'mnist', 'val.json')\n",
    "items = []\n",
    "with open(train_json) as f:\n",
    "    items_1 = json.load(f)\n",
    "    items.extend(items_1)\n",
    "    \n",
    "with open(valid_json) as f:\n",
    "    items_2 = json.load(f)\n",
    "    items.extend(items_2)\n",
    "    \n",
    "len(items_1), len(items_2), len(items)"
   ]
  },
  {
   "cell_type": "markdown",
   "metadata": {},
   "source": [
    "### 读取"
   ]
  },
  {
   "cell_type": "code",
   "execution_count": 4,
   "metadata": {
    "ExecuteTime": {
     "end_time": "2020-09-01T10:44:59.891996Z",
     "start_time": "2020-09-01T10:44:59.262298Z"
    }
   },
   "outputs": [
    {
     "data": {
      "text/html": [
       "<div>\n",
       "<style scoped>\n",
       "    .dataframe tbody tr th:only-of-type {\n",
       "        vertical-align: middle;\n",
       "    }\n",
       "\n",
       "    .dataframe tbody tr th {\n",
       "        vertical-align: top;\n",
       "    }\n",
       "\n",
       "    .dataframe thead th {\n",
       "        text-align: right;\n",
       "    }\n",
       "</style>\n",
       "<table border=\"1\" class=\"dataframe\">\n",
       "  <thead>\n",
       "    <tr style=\"text-align: right;\">\n",
       "      <th></th>\n",
       "      <th>image_path</th>\n",
       "      <th>label</th>\n",
       "    </tr>\n",
       "  </thead>\n",
       "  <tbody>\n",
       "    <tr>\n",
       "      <th>0</th>\n",
       "      <td>imgs/train/12787.jpg</td>\n",
       "      <td>7</td>\n",
       "    </tr>\n",
       "    <tr>\n",
       "      <th>1</th>\n",
       "      <td>imgs/train/01713.jpg</td>\n",
       "      <td>8</td>\n",
       "    </tr>\n",
       "    <tr>\n",
       "      <th>2</th>\n",
       "      <td>imgs/train/54872.jpg</td>\n",
       "      <td>6</td>\n",
       "    </tr>\n",
       "    <tr>\n",
       "      <th>3</th>\n",
       "      <td>imgs/train/24758.jpg</td>\n",
       "      <td>8</td>\n",
       "    </tr>\n",
       "    <tr>\n",
       "      <th>4</th>\n",
       "      <td>imgs/train/50993.jpg</td>\n",
       "      <td>3</td>\n",
       "    </tr>\n",
       "  </tbody>\n",
       "</table>\n",
       "</div>"
      ],
      "text/plain": [
       "             image_path  label\n",
       "0  imgs/train/12787.jpg      7\n",
       "1  imgs/train/01713.jpg      8\n",
       "2  imgs/train/54872.jpg      6\n",
       "3  imgs/train/24758.jpg      8\n",
       "4  imgs/train/50993.jpg      3"
      ]
     },
     "execution_count": 4,
     "metadata": {},
     "output_type": "execute_result"
    }
   ],
   "source": [
    "# df = pd.read_json(\"train.json\",encoding=\"utf-8\", orient='records')\n",
    "df = pd.json_normalize(items)\n",
    "df[:5]"
   ]
  },
  {
   "cell_type": "markdown",
   "metadata": {
    "ExecuteTime": {
     "end_time": "2020-07-15T09:50:52.376914Z",
     "start_time": "2020-07-15T09:50:52.372350Z"
    }
   },
   "source": [
    "### 查看是否均匀分布"
   ]
  },
  {
   "cell_type": "code",
   "execution_count": 5,
   "metadata": {
    "ExecuteTime": {
     "end_time": "2020-09-01T10:44:59.942069Z",
     "start_time": "2020-09-01T10:44:59.894043Z"
    }
   },
   "outputs": [
    {
     "data": {
      "text/html": [
       "<div>\n",
       "<style scoped>\n",
       "    .dataframe tbody tr th:only-of-type {\n",
       "        vertical-align: middle;\n",
       "    }\n",
       "\n",
       "    .dataframe tbody tr th {\n",
       "        vertical-align: top;\n",
       "    }\n",
       "\n",
       "    .dataframe thead th {\n",
       "        text-align: right;\n",
       "    }\n",
       "</style>\n",
       "<table border=\"1\" class=\"dataframe\">\n",
       "  <thead>\n",
       "    <tr style=\"text-align: right;\">\n",
       "      <th></th>\n",
       "      <th>image_path</th>\n",
       "    </tr>\n",
       "    <tr>\n",
       "      <th>label</th>\n",
       "      <th></th>\n",
       "    </tr>\n",
       "  </thead>\n",
       "  <tbody>\n",
       "    <tr>\n",
       "      <th>0</th>\n",
       "      <td>5923</td>\n",
       "    </tr>\n",
       "    <tr>\n",
       "      <th>1</th>\n",
       "      <td>6742</td>\n",
       "    </tr>\n",
       "    <tr>\n",
       "      <th>2</th>\n",
       "      <td>5958</td>\n",
       "    </tr>\n",
       "    <tr>\n",
       "      <th>3</th>\n",
       "      <td>6131</td>\n",
       "    </tr>\n",
       "    <tr>\n",
       "      <th>4</th>\n",
       "      <td>5842</td>\n",
       "    </tr>\n",
       "    <tr>\n",
       "      <th>5</th>\n",
       "      <td>5421</td>\n",
       "    </tr>\n",
       "    <tr>\n",
       "      <th>6</th>\n",
       "      <td>5918</td>\n",
       "    </tr>\n",
       "    <tr>\n",
       "      <th>7</th>\n",
       "      <td>6265</td>\n",
       "    </tr>\n",
       "    <tr>\n",
       "      <th>8</th>\n",
       "      <td>5851</td>\n",
       "    </tr>\n",
       "    <tr>\n",
       "      <th>9</th>\n",
       "      <td>5949</td>\n",
       "    </tr>\n",
       "  </tbody>\n",
       "</table>\n",
       "</div>"
      ],
      "text/plain": [
       "       image_path\n",
       "label            \n",
       "0            5923\n",
       "1            6742\n",
       "2            5958\n",
       "3            6131\n",
       "4            5842\n",
       "5            5421\n",
       "6            5918\n",
       "7            6265\n",
       "8            5851\n",
       "9            5949"
      ]
     },
     "execution_count": 5,
     "metadata": {},
     "output_type": "execute_result"
    }
   ],
   "source": [
    "grouped_by_label = df.groupby('label')\n",
    "grouped_by_label.count()\n",
    "# grouped_by_label.p"
   ]
  },
  {
   "cell_type": "code",
   "execution_count": 6,
   "metadata": {
    "ExecuteTime": {
     "end_time": "2020-09-01T10:45:00.227499Z",
     "start_time": "2020-09-01T10:44:59.944532Z"
    }
   },
   "outputs": [
    {
     "data": {
      "image/png": "[encoded data removed]",
      "text/plain": [
       "<Figure size 432x288 with 1 Axes>"
      ]
     },
     "metadata": {
      "needs_background": "light"
     },
     "output_type": "display_data"
    }
   ],
   "source": [
    "grouped_by_label.count().plot(kind='bar');"
   ]
  },
  {
   "cell_type": "markdown",
   "metadata": {},
   "source": [
    "### 随机精简"
   ]
  },
  {
   "cell_type": "code",
   "execution_count": 7,
   "metadata": {
    "ExecuteTime": {
     "end_time": "2020-09-01T10:45:00.507081Z",
     "start_time": "2020-09-01T10:45:00.230329Z"
    }
   },
   "outputs": [
    {
     "data": {
      "image/png": "[encoded data removed]",
      "text/plain": [
       "<Figure size 432x288 with 1 Axes>"
      ]
     },
     "metadata": {
      "needs_background": "light"
     },
     "output_type": "display_data"
    }
   ],
   "source": [
    "# 不合理: 不平衡的样本\n",
    "reduced_grouped_by_label = df.sample(n=10000, random_state=10, ).groupby('label')\n",
    "reduced_grouped_by_label.count().plot(kind='bar');"
   ]
  },
  {
   "cell_type": "code",
   "execution_count": 8,
   "metadata": {
    "ExecuteTime": {
     "end_time": "2020-09-01T10:45:00.823000Z",
     "start_time": "2020-09-01T10:45:00.510886Z"
    }
   },
   "outputs": [
    {
     "data": {
      "image/png": "[encoded data removed]",
      "text/plain": [
       "<Figure size 432x288 with 1 Axes>"
      ]
     },
     "metadata": {
      "needs_background": "light"
     },
     "output_type": "display_data"
    }
   ],
   "source": [
    "# 合理: 先分组, 然后组中随机样本\n",
    "reduced_df = df.groupby('label').apply(pd.DataFrame.sample, n=1000, random_state=10, replace=False)\n",
    "reduced_df['label'].value_counts().plot(kind='bar');"
   ]
  },
  {
   "cell_type": "markdown",
   "metadata": {},
   "source": [
    "### 对样本随机打散"
   ]
  },
  {
   "cell_type": "code",
   "execution_count": 9,
   "metadata": {
    "ExecuteTime": {
     "end_time": "2020-09-01T10:45:00.879038Z",
     "start_time": "2020-09-01T10:45:00.825920Z"
    }
   },
   "outputs": [
    {
     "data": {
      "text/html": [
       "<div>\n",
       "<style scoped>\n",
       "    .dataframe tbody tr th:only-of-type {\n",
       "        vertical-align: middle;\n",
       "    }\n",
       "\n",
       "    .dataframe tbody tr th {\n",
       "        vertical-align: top;\n",
       "    }\n",
       "\n",
       "    .dataframe thead th {\n",
       "        text-align: right;\n",
       "    }\n",
       "</style>\n",
       "<table border=\"1\" class=\"dataframe\">\n",
       "  <thead>\n",
       "    <tr style=\"text-align: right;\">\n",
       "      <th></th>\n",
       "      <th>image_path</th>\n",
       "      <th>label</th>\n",
       "    </tr>\n",
       "  </thead>\n",
       "  <tbody>\n",
       "    <tr>\n",
       "      <th>9127</th>\n",
       "      <td>imgs/train/21265.jpg</td>\n",
       "      <td>3</td>\n",
       "    </tr>\n",
       "  </tbody>\n",
       "</table>\n",
       "</div>"
      ],
      "text/plain": [
       "                image_path  label\n",
       "9127  imgs/train/21265.jpg      3"
      ]
     },
     "execution_count": 9,
     "metadata": {},
     "output_type": "execute_result"
    }
   ],
   "source": [
    "df[df['image_path'] == \"imgs/train/21265.jpg\"]"
   ]
  },
  {
   "cell_type": "code",
   "execution_count": 10,
   "metadata": {
    "ExecuteTime": {
     "end_time": "2020-09-01T10:45:00.928328Z",
     "start_time": "2020-09-01T10:45:00.881423Z"
    }
   },
   "outputs": [
    {
     "data": {
      "text/html": [
       "<div>\n",
       "<style scoped>\n",
       "    .dataframe tbody tr th:only-of-type {\n",
       "        vertical-align: middle;\n",
       "    }\n",
       "\n",
       "    .dataframe tbody tr th {\n",
       "        vertical-align: top;\n",
       "    }\n",
       "\n",
       "    .dataframe thead th {\n",
       "        text-align: right;\n",
       "    }\n",
       "</style>\n",
       "<table border=\"1\" class=\"dataframe\">\n",
       "  <thead>\n",
       "    <tr style=\"text-align: right;\">\n",
       "      <th></th>\n",
       "      <th></th>\n",
       "      <th>image_path</th>\n",
       "      <th>label</th>\n",
       "    </tr>\n",
       "    <tr>\n",
       "      <th>label</th>\n",
       "      <th></th>\n",
       "      <th></th>\n",
       "      <th></th>\n",
       "    </tr>\n",
       "  </thead>\n",
       "  <tbody>\n",
       "    <tr>\n",
       "      <th rowspan=\"2\" valign=\"top\">9</th>\n",
       "      <th>34887</th>\n",
       "      <td>imgs/train/00796.jpg</td>\n",
       "      <td>9</td>\n",
       "    </tr>\n",
       "    <tr>\n",
       "      <th>53423</th>\n",
       "      <td>imgs/train/11762.jpg</td>\n",
       "      <td>9</td>\n",
       "    </tr>\n",
       "    <tr>\n",
       "      <th>6</th>\n",
       "      <th>50701</th>\n",
       "      <td>imgs/train/11794.jpg</td>\n",
       "      <td>6</td>\n",
       "    </tr>\n",
       "    <tr>\n",
       "      <th>2</th>\n",
       "      <th>32393</th>\n",
       "      <td>imgs/train/34109.jpg</td>\n",
       "      <td>2</td>\n",
       "    </tr>\n",
       "    <tr>\n",
       "      <th>8</th>\n",
       "      <th>56383</th>\n",
       "      <td>imgs/train/08359.jpg</td>\n",
       "      <td>8</td>\n",
       "    </tr>\n",
       "  </tbody>\n",
       "</table>\n",
       "</div>"
      ],
      "text/plain": [
       "                       image_path  label\n",
       "label                                   \n",
       "9     34887  imgs/train/00796.jpg      9\n",
       "      53423  imgs/train/11762.jpg      9\n",
       "6     50701  imgs/train/11794.jpg      6\n",
       "2     32393  imgs/train/34109.jpg      2\n",
       "8     56383  imgs/train/08359.jpg      8"
      ]
     },
     "execution_count": 10,
     "metadata": {},
     "output_type": "execute_result"
    }
   ],
   "source": [
    "reduced_shuffle_df = reduced_df.sample(frac=1)\n",
    "reduced_shuffle_df[:5]"
   ]
  },
  {
   "cell_type": "markdown",
   "metadata": {},
   "source": [
    "### 分割数据集6:2:2"
   ]
  },
  {
   "cell_type": "code",
   "execution_count": 11,
   "metadata": {
    "ExecuteTime": {
     "end_time": "2020-09-01T10:45:00.987485Z",
     "start_time": "2020-09-01T10:45:00.932487Z"
    }
   },
   "outputs": [
    {
     "data": {
      "text/plain": [
       "(6400, 1600, 2000, 10000)"
      ]
     },
     "execution_count": 11,
     "metadata": {},
     "output_type": "execute_result"
    }
   ],
   "source": [
    "train_valid_df, test_df = train_test_split(reduced_shuffle_df, test_size=0.2)\n",
    "train_df, valid_df = train_test_split(train_valid_df, test_size=0.2)\n",
    "all_count = len(reduced_shuffle_df)\n",
    "train_count, val_count, test_count = len(train_df), len(valid_df), len(test_df)\n",
    "train_count, val_count, test_count, all_count"
   ]
  },
  {
   "cell_type": "markdown",
   "metadata": {},
   "source": [
    "## 保存精简数据集rmnist"
   ]
  },
  {
   "cell_type": "code",
   "execution_count": 12,
   "metadata": {
    "ExecuteTime": {
     "end_time": "2020-09-01T10:45:02.940258Z",
     "start_time": "2020-09-01T10:45:00.990066Z"
    }
   },
   "outputs": [
    {
     "name": "stdout",
     "output_type": "stream",
     "text": [
      "test count: 2000\n",
      "train count: 6400\n",
      "val count: 1600\n"
     ]
    }
   ],
   "source": [
    "def generate_rmnist(df, phase):\n",
    "    src_root = os.path.join(K12AI_DATASETS_ROOT, 'cv', 'mnist')\n",
    "    dst_root = os.path.join(K12AI_DATASETS_ROOT, 'cv', 'rmnist')\n",
    "    \n",
    "    img_path = os.path.join(dst_root, 'imgs', phase)\n",
    "    shutil.rmtree(img_path, ignore_errors=True)\n",
    "    os.makedirs(img_path)\n",
    "    \n",
    "    results = []\n",
    "    items = df.to_dict(orient='records')\n",
    "    print(f'{phase} count: {len(items)}')\n",
    "    for item in items:\n",
    "        filename = os.path.basename(item['image_path'])\n",
    "        src_path = os.path.join(src_root, item['image_path'])\n",
    "        dst_path = os.path.join(img_path, filename)\n",
    "        if not os.path.exists(src_path):\n",
    "            print('not found:', src_path)\n",
    "        if os.path.exists(dst_path):\n",
    "            print('replce found:', dst_path)\n",
    "        results.append({\n",
    "            'image_path': f'imgs/{phase}/{filename}',\n",
    "            'label': item['label']\n",
    "        })\n",
    "        shutil.copy2(src_path, dst_path)\n",
    "        \n",
    "    with open(os.path.join(dst_root, f'{phase}.json'), 'w') as f:\n",
    "        json.dump(results, f)\n",
    "    return len(result) \n",
    "        \n",
    "generate_rmnist(test_df, 'test');\n",
    "generate_rmnist(train_df, 'train');\n",
    "generate_rmnist(valid_df, 'val');"
   ]
  },
  {
   "cell_type": "markdown",
   "metadata": {},
   "source": [
    "## 生成info.json"
   ]
  },
  {
   "cell_type": "code",
   "execution_count": 13,
   "metadata": {
    "ExecuteTime": {
     "end_time": "2020-09-01T10:45:22.988120Z",
     "start_time": "2020-09-01T10:45:02.943283Z"
    }
   },
   "outputs": [],
   "source": [
    "jfiles = ['train.json', 'val.json', 'test.json']\n",
    "mean, std = k12ai_compute_mean_std(datadir=data_root, jfiles=jfiles)"
   ]
  },
  {
   "cell_type": "code",
   "execution_count": 18,
   "metadata": {
    "ExecuteTime": {
     "end_time": "2020-09-02T07:20:28.355427Z",
     "start_time": "2020-09-02T07:20:28.294230Z"
    }
   },
   "outputs": [
    {
     "data": {
      "text/plain": [
       "{'num_records': 10000,\n",
       " 'num_classes': 10,\n",
       " 'label_names': ['0', '1', '2', '3', '4', '5', '6', '7', '8', '9'],\n",
       " 'mean': [0.1362, 0.1362, 0.1362],\n",
       " 'std': [0.2893, 0.2893, 0.2893]}"
      ]
     },
     "execution_count": 18,
     "metadata": {},
     "output_type": "execute_result"
    }
   ],
   "source": [
    "info = {\n",
    "    'num_records': all_count,\n",
    "    'num_classes': 10,\n",
    "    'label_names': [\n",
    "        '0',\n",
    "        '1',\n",
    "        '2',\n",
    "        '3',\n",
    "        '4',\n",
    "        '5',\n",
    "        '6',\n",
    "        '7',\n",
    "        '8',\n",
    "        '9'\n",
    "    ],\n",
    "    'mean': mean,\n",
    "    'std': std,\n",
    "}\n",
    "\n",
    "with open(os.path.join(data_root, 'info.json'), 'w') as fw:\n",
    "    json.dump(info, fw, indent=4)\n",
    "   \n",
    "info"
   ]
  },
  {
   "cell_type": "markdown",
   "metadata": {},
   "source": [
    "## 数据平衡分析"
   ]
  },
  {
   "cell_type": "code",
   "execution_count": 16,
   "metadata": {
    "ExecuteTime": {
     "end_time": "2020-09-01T10:45:23.801685Z",
     "start_time": "2020-09-01T10:45:23.073571Z"
    }
   },
   "outputs": [
    {
     "data": {
      "text/plain": [
       "<Figure size 432x288 with 0 Axes>"
      ]
     },
     "metadata": {},
     "output_type": "display_data"
    },
    {
     "data": {
      "image/png": "[encoded data removed]",
      "text/plain": [
       "<Figure size 864x864 with 1 Axes>"
      ]
     },
     "metadata": {
      "needs_background": "light"
     },
     "output_type": "display_data"
    }
   ],
   "source": [
    "def draw_hist():\n",
    "    plt.clf()\n",
    "    fig = plt.figure(figsize=(12, 12))\n",
    "    train_file = os.path.join(data_root, 'train.json')\n",
    "    val_file = os.path.join(data_root, 'val.json')\n",
    "    test_file = os.path.join(data_root, 'test.json')\n",
    "    df_train = pd.read_json(train_file)\n",
    "    df_val = pd.read_json(val_file)\n",
    "    df_test = pd.read_json(test_file)\n",
    "    for df, co, alpha in ((df_train, 'blue', 0.5), (df_val, 'yellow', 1), (df_test, 'maroon', 0.8)):\n",
    "        sns.distplot(df['label'],\n",
    "                 # fit=scipy.stats.norm,\n",
    "                 kde=False,\n",
    "                 hist=True,\n",
    "                 hist_kws={\"linewidth\": 2, \"alpha\": alpha, 'color': co},\n",
    "                 # rug=True,\n",
    "                 bins=22)\n",
    "    plt.savefig(f'{data_root}/labels_hist.png')\n",
    "    plt.show()\n",
    "draw_hist()"
   ]
  }
 ],
 "metadata": {
  "kernelspec": {
   "display_name": "Python 3",
   "language": "python",
   "name": "python3"
  },
  "language_info": {
   "codemirror_mode": {
    "name": "ipython",
    "version": 3
   },
   "file_extension": ".py",
   "mimetype": "text/x-python",
   "name": "python",
   "nbconvert_exporter": "python",
   "pygments_lexer": "ipython3",
   "version": "3.6.9"
  },
  "toc": {
   "base_numbering": 1,
   "nav_menu": {},
   "number_sections": true,
   "sideBar": true,
   "skip_h1_title": true,
   "title_cell": "",
   "title_sidebar": "Contents",
   "toc_cell": false,
   "toc_position": {
    "height": "calc(100% - 180px)",
    "left": "10px",
    "top": "150px",
    "width": "307.2px"
   },
   "toc_section_display": true,
   "toc_window_display": false
  }
 },
 "nbformat": 4,
 "nbformat_minor": 4
}
