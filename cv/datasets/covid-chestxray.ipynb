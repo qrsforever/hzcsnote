{
 "cells": [
  {
   "cell_type": "markdown",
   "metadata": {},
   "source": [
    "# <div align=\"center\"> X-Rays识别 </div>"
   ]
  },
  {
   "cell_type": "code",
   "execution_count": null,
   "metadata": {
    "ExecuteTime": {
     "end_time": "2020-07-13T14:09:31.764539Z",
     "start_time": "2020-07-13T14:09:31.624129Z"
    }
   },
   "outputs": [],
   "source": [
    "%reload_ext watermark\n",
    "%reload_ext autoreload\n",
    "%autoreload 2\n",
    "%watermark -v -p numpy,pandas,matplotlib,sklearn,torch,torchvision"
   ]
  },
  {
   "cell_type": "code",
   "execution_count": 1,
   "metadata": {
    "ExecuteTime": {
     "end_time": "2020-07-16T08:53:28.400337Z",
     "start_time": "2020-07-16T08:53:26.704629Z"
    }
   },
   "outputs": [],
   "source": [
    "import pandas as pd  \n",
    "import argparse      \n",
    "import shutil        \n",
    "import os            \n",
    "import random\n",
    "import numpy as np\n",
    "import json\n",
    "\n",
    "from tqdm import tqdm\n",
    "from k12libs.utils.nb_easy import K12AI_DATASETS_ROOT\n",
    "from IPython.display import display\n",
    "from PIL import Image\n",
    "\n",
    "from k12libs.utils.nb_dataset import k12ai_compute_mean_std"
   ]
  },
  {
   "cell_type": "code",
   "execution_count": 2,
   "metadata": {
    "ExecuteTime": {
     "end_time": "2020-07-16T08:53:28.410540Z",
     "start_time": "2020-07-16T08:53:28.403455Z"
    }
   },
   "outputs": [],
   "source": [
    "data_root = os.path.join(K12AI_DATASETS_ROOT, 'cv', 'chestxray')\n",
    "normal_images_raw = os.path.join(data_root, 'raw', 'chest_xray')\n",
    "covid_images_raw = os.path.join(data_root, 'raw', 'covid-chestxray')\n",
    "output_path = os.path.join(data_root, 'imgs')\n",
    "normal_images_path = os.path.join(output_path, 'normal')\n",
    "covid_images_path = os.path.join(output_path, 'covid')"
   ]
  },
  {
   "cell_type": "markdown",
   "metadata": {},
   "source": [
    "## Covid-19数据处理"
   ]
  },
  {
   "cell_type": "code",
   "execution_count": 3,
   "metadata": {
    "ExecuteTime": {
     "end_time": "2020-07-16T08:53:30.035033Z",
     "start_time": "2020-07-16T08:53:29.967334Z"
    }
   },
   "outputs": [
    {
     "data": {
      "text/html": [
       "<div>\n",
       "<style scoped>\n",
       "    .dataframe tbody tr th:only-of-type {\n",
       "        vertical-align: middle;\n",
       "    }\n",
       "\n",
       "    .dataframe tbody tr th {\n",
       "        vertical-align: top;\n",
       "    }\n",
       "\n",
       "    .dataframe thead th {\n",
       "        text-align: right;\n",
       "    }\n",
       "</style>\n",
       "<table border=\"1\" class=\"dataframe\">\n",
       "  <thead>\n",
       "    <tr style=\"text-align: right;\">\n",
       "      <th></th>\n",
       "      <th>finding</th>\n",
       "      <th>view</th>\n",
       "      <th>filename</th>\n",
       "    </tr>\n",
       "  </thead>\n",
       "  <tbody>\n",
       "    <tr>\n",
       "      <th>0</th>\n",
       "      <td>COVID-19</td>\n",
       "      <td>PA</td>\n",
       "      <td>auntminnie-a-2020_01_28_23_51_6665_2020_01_28_...</td>\n",
       "    </tr>\n",
       "    <tr>\n",
       "      <th>1</th>\n",
       "      <td>COVID-19</td>\n",
       "      <td>PA</td>\n",
       "      <td>auntminnie-b-2020_01_28_23_51_6665_2020_01_28_...</td>\n",
       "    </tr>\n",
       "    <tr>\n",
       "      <th>2</th>\n",
       "      <td>COVID-19</td>\n",
       "      <td>PA</td>\n",
       "      <td>auntminnie-c-2020_01_28_23_51_6665_2020_01_28_...</td>\n",
       "    </tr>\n",
       "    <tr>\n",
       "      <th>3</th>\n",
       "      <td>COVID-19</td>\n",
       "      <td>PA</td>\n",
       "      <td>auntminnie-d-2020_01_28_23_51_6665_2020_01_28_...</td>\n",
       "    </tr>\n",
       "    <tr>\n",
       "      <th>4</th>\n",
       "      <td>COVID-19</td>\n",
       "      <td>PA</td>\n",
       "      <td>nejmc2001573_f1a.jpeg</td>\n",
       "    </tr>\n",
       "    <tr>\n",
       "      <th>...</th>\n",
       "      <td>...</td>\n",
       "      <td>...</td>\n",
       "      <td>...</td>\n",
       "    </tr>\n",
       "    <tr>\n",
       "      <th>753</th>\n",
       "      <td>todo</td>\n",
       "      <td>AP Supine</td>\n",
       "      <td>7a9ec606.jpg</td>\n",
       "    </tr>\n",
       "    <tr>\n",
       "      <th>754</th>\n",
       "      <td>todo</td>\n",
       "      <td>PA</td>\n",
       "      <td>88859dc1.jpg</td>\n",
       "    </tr>\n",
       "    <tr>\n",
       "      <th>755</th>\n",
       "      <td>todo</td>\n",
       "      <td>PA</td>\n",
       "      <td>3a81faf3.jpg</td>\n",
       "    </tr>\n",
       "    <tr>\n",
       "      <th>756</th>\n",
       "      <td>todo</td>\n",
       "      <td>PA</td>\n",
       "      <td>bcb814aa.jpg</td>\n",
       "    </tr>\n",
       "    <tr>\n",
       "      <th>757</th>\n",
       "      <td>todo</td>\n",
       "      <td>AP Supine</td>\n",
       "      <td>76093afc.jpg</td>\n",
       "    </tr>\n",
       "  </tbody>\n",
       "</table>\n",
       "<p>758 rows × 3 columns</p>\n",
       "</div>"
      ],
      "text/plain": [
       "      finding       view                                           filename\n",
       "0    COVID-19         PA  auntminnie-a-2020_01_28_23_51_6665_2020_01_28_...\n",
       "1    COVID-19         PA  auntminnie-b-2020_01_28_23_51_6665_2020_01_28_...\n",
       "2    COVID-19         PA  auntminnie-c-2020_01_28_23_51_6665_2020_01_28_...\n",
       "3    COVID-19         PA  auntminnie-d-2020_01_28_23_51_6665_2020_01_28_...\n",
       "4    COVID-19         PA                              nejmc2001573_f1a.jpeg\n",
       "..        ...        ...                                                ...\n",
       "753      todo  AP Supine                                       7a9ec606.jpg\n",
       "754      todo         PA                                       88859dc1.jpg\n",
       "755      todo         PA                                       3a81faf3.jpg\n",
       "756      todo         PA                                       bcb814aa.jpg\n",
       "757      todo  AP Supine                                       76093afc.jpg\n",
       "\n",
       "[758 rows x 3 columns]"
      ]
     },
     "execution_count": 3,
     "metadata": {},
     "output_type": "execute_result"
    }
   ],
   "source": [
    "df = pd.read_csv(f'{covid_images_raw}/metadata.csv')\n",
    "df[['finding', 'view', 'filename']]"
   ]
  },
  {
   "cell_type": "code",
   "execution_count": 4,
   "metadata": {
    "ExecuteTime": {
     "end_time": "2020-07-16T08:53:42.066921Z",
     "start_time": "2020-07-16T08:53:31.040029Z"
    }
   },
   "outputs": [
    {
     "data": {
      "text/plain": [
       "201"
      ]
     },
     "execution_count": 4,
     "metadata": {},
     "output_type": "execute_result"
    }
   ],
   "source": [
    "shutil.rmtree(covid_images_path)\n",
    "os.makedirs(covid_images_path)\n",
    "\n",
    "covid_images = []\n",
    "for (i, row) in df.iterrows():\n",
    "    if row['finding'] != 'COVID-19' or row['view'] != 'PA':\n",
    "        continue\n",
    "    image_path = os.path.join(covid_images_raw, 'images', row['filename'])\n",
    "    if not os.path.exists(image_path):\n",
    "        continue\n",
    "    filename = image_path.split(os.path.sep)[-1]\n",
    "    output_path = os.path.join(covid_images_path, filename)\n",
    "    covid_images.append(output_path)\n",
    "    # shutil.copy2(image_path, output_path)\n",
    "    Image.open(image_path).resize((256, 256)).crop((16, 16, 240, 240)).save(output_path)\n",
    "len(covid_images)"
   ]
  },
  {
   "cell_type": "code",
   "execution_count": 5,
   "metadata": {
    "ExecuteTime": {
     "end_time": "2020-07-16T08:53:42.109807Z",
     "start_time": "2020-07-16T08:53:42.071569Z"
    }
   },
   "outputs": [
    {
     "data": {
      "image/png": "[encoded data removed]",
      "text/plain": [
       "<PIL.JpegImagePlugin.JpegImageFile image mode=RGB size=224x224 at 0x7FE1C5354518>"
      ]
     },
     "execution_count": 5,
     "metadata": {},
     "output_type": "execute_result"
    }
   ],
   "source": [
    "Image.open(covid_images[0])"
   ]
  },
  {
   "cell_type": "markdown",
   "metadata": {},
   "source": [
    "## Normal数据处理"
   ]
  },
  {
   "cell_type": "code",
   "execution_count": 6,
   "metadata": {
    "ExecuteTime": {
     "end_time": "2020-07-16T08:55:23.106076Z",
     "start_time": "2020-07-16T08:55:23.086787Z"
    }
   },
   "outputs": [
    {
     "name": "stdout",
     "output_type": "stream",
     "text": [
      "1349\n",
      "201\n"
     ]
    }
   ],
   "source": [
    "# 随机图片len(covid_images)张图片, 形成平衡数据集\n",
    "normal_images_all = []\n",
    "with os.scandir(os.path.join(normal_images_raw, 'train', 'NORMAL')) as it:\n",
    "    for entry in it:\n",
    "        normal_images_all.append(entry.path) \n",
    "#\n",
    "random.shuffle(normal_images_all)\n",
    "print(len(normal_images_all))\n",
    "normal_images_raw = normal_images_all[:len(covid_images)]\n",
    "print(len(normal_images_raw))"
   ]
  },
  {
   "cell_type": "code",
   "execution_count": 8,
   "metadata": {
    "ExecuteTime": {
     "end_time": "2020-07-16T08:55:53.831359Z",
     "start_time": "2020-07-16T08:55:42.880087Z"
    }
   },
   "outputs": [],
   "source": [
    "shutil.rmtree(normal_images_path)\n",
    "os.makedirs(normal_images_path)\n",
    "\n",
    "normal_images = []\n",
    "for image_path in normal_images_raw:\n",
    "    filename = image_path.split(os.path.sep)[-1]\n",
    "    output_path = os.path.join(normal_images_path, filename)\n",
    "    normal_images.append(output_path) \n",
    "    # shutil.copy2(image_path, output_path)\n",
    "    Image.open(image_path).resize((256, 256)).crop((16, 16, 240, 240)).save(output_path)"
   ]
  },
  {
   "cell_type": "code",
   "execution_count": 9,
   "metadata": {
    "ExecuteTime": {
     "end_time": "2020-07-16T08:55:56.613000Z",
     "start_time": "2020-07-16T08:55:56.589287Z"
    }
   },
   "outputs": [
    {
     "data": {
      "image/png": "[encoded data removed]",
      "text/plain": [
       "<PIL.JpegImagePlugin.JpegImageFile image mode=L size=224x224 at 0x7FE1C5354860>"
      ]
     },
     "execution_count": 9,
     "metadata": {},
     "output_type": "execute_result"
    }
   ],
   "source": [
    "Image.open(normal_images[0])"
   ]
  },
  {
   "cell_type": "markdown",
   "metadata": {},
   "source": [
    "## 合成chestxray数据集"
   ]
  },
  {
   "cell_type": "code",
   "execution_count": 10,
   "metadata": {
    "ExecuteTime": {
     "end_time": "2020-07-16T08:56:02.435887Z",
     "start_time": "2020-07-16T08:56:02.419146Z"
    }
   },
   "outputs": [
    {
     "data": {
      "text/plain": [
       "(44, 30, 127)"
      ]
     },
     "execution_count": 10,
     "metadata": {},
     "output_type": "execute_result"
    }
   ],
   "source": [
    "# 6:4:4 split for train:valid:test dataset\n",
    "test_images = []\n",
    "valid_images = []\n",
    "train_images = []\n",
    "for normal, covid in zip(normal_images, covid_images):\n",
    "    value = random.random()\n",
    "    if value > 0.8: # test\n",
    "        test_images.append((normal, covid))\n",
    "    elif value > 0.6: # val\n",
    "        valid_images.append((normal, covid))\n",
    "    else: # train\n",
    "        train_images.append((normal, covid))\n",
    "len(test_images), len(valid_images), len(train_images)"
   ]
  },
  {
   "cell_type": "markdown",
   "metadata": {},
   "source": [
    "## 生成json文件"
   ]
  },
  {
   "cell_type": "code",
   "execution_count": 11,
   "metadata": {
    "ExecuteTime": {
     "end_time": "2020-07-16T08:56:05.264854Z",
     "start_time": "2020-07-16T08:56:05.240611Z"
    }
   },
   "outputs": [],
   "source": [
    "def gen_json_file(images, phase):\n",
    "    prefix = len(data_root) + 1\n",
    "    items = []\n",
    "    for normal, covid in images:\n",
    "        items.append({'image_path': normal[prefix:], 'label': 0})\n",
    "        items.append({'image_path': covid[prefix:], 'label': 1})\n",
    "        \n",
    "    jsonfile = os.path.join(data_root, f'{phase}.json')\n",
    "    with open(jsonfile, 'w') as fp:\n",
    "        json.dump(items, fp)\n",
    "        \n",
    "# train.json\n",
    "gen_json_file(train_images, 'train')\n",
    "\n",
    "# val.json\n",
    "gen_json_file(valid_images, 'val')\n",
    "\n",
    "# test.json\n",
    "gen_json_file(test_images, 'test')"
   ]
  },
  {
   "cell_type": "code",
   "execution_count": 12,
   "metadata": {
    "ExecuteTime": {
     "end_time": "2020-07-16T08:56:11.138408Z",
     "start_time": "2020-07-16T08:56:10.077799Z"
    },
    "scrolled": false
   },
   "outputs": [],
   "source": [
    "jfiles = ['train.json', 'val.json', 'test.json']\n",
    "mean, std = k12ai_compute_mean_std(datadir=data_root, jfiles=jfiles, resize=(224, 224))"
   ]
  },
  {
   "cell_type": "code",
   "execution_count": 13,
   "metadata": {
    "ExecuteTime": {
     "end_time": "2020-07-16T08:56:13.494639Z",
     "start_time": "2020-07-16T08:56:13.332361Z"
    }
   },
   "outputs": [
    {
     "data": {
      "text/plain": [
       "(tensor([0.5267, 0.5259, 0.5286]), tensor([0.1811, 0.1809, 0.1815]))"
      ]
     },
     "execution_count": 13,
     "metadata": {},
     "output_type": "execute_result"
    }
   ],
   "source": [
    "mean, std"
   ]
  },
  {
   "cell_type": "markdown",
   "metadata": {},
   "source": [
    "## References\n",
    "\n",
    "1. https://github.com/ieee8023/covid-chestxray-dataset/\n",
    "2. https://www.kaggle.com/paultimothymooney/chest-xray-pneumonia\n",
    "3. https://www.pyimagesearch.com/2020/03/16/detecting-covid-19-in-x-ray-images-with-keras-tensorflow-and-deep-learning/"
   ]
  },
  {
   "cell_type": "code",
   "execution_count": null,
   "metadata": {
    "ExecuteTime": {
     "end_time": "2020-07-13T12:17:45.632235Z",
     "start_time": "2020-07-13T12:17:45.594921Z"
    }
   },
   "outputs": [],
   "source": [
    "#"
   ]
  }
 ],
 "metadata": {
  "kernelspec": {
   "display_name": "Python 3",
   "language": "python",
   "name": "python3"
  },
  "language_info": {
   "codemirror_mode": {
    "name": "ipython",
    "version": 3
   },
   "file_extension": ".py",
   "mimetype": "text/x-python",
   "name": "python",
   "nbconvert_exporter": "python",
   "pygments_lexer": "ipython3",
   "version": "3.6.9"
  },
  "toc": {
   "base_numbering": 1,
   "nav_menu": {},
   "number_sections": true,
   "sideBar": true,
   "skip_h1_title": true,
   "title_cell": "",
   "title_sidebar": "Contents",
   "toc_cell": false,
   "toc_position": {},
   "toc_section_display": true,
   "toc_window_display": false
  }
 },
 "nbformat": 4,
 "nbformat_minor": 4
}
