{
 "cells": [
  {
   "cell_type": "code",
   "execution_count": 1,
   "metadata": {},
   "outputs": [],
   "source": [
    "%reload_ext autoreload\n",
    "%autoreload 2"
   ]
  },
  {
   "cell_type": "code",
   "execution_count": 2,
   "metadata": {},
   "outputs": [],
   "source": [
    "from k12libs.utils.nb_easy import k12ai_run_project"
   ]
  },
  {
   "cell_type": "markdown",
   "metadata": {},
   "source": [
    "### 点击Gen Project Schema后, 需等待5秒\n",
    "\n",
    "_测试机Notebook只有cifar10和mnist两个数据集, 需要训练其他数据集需要到线上机Notebook_\n",
    "\n",
    "[线上机Notebook](http://116.85.47.250:8118/notebooks/cv/k12cv_project.ipynb)"
   ]
  },
  {
   "cell_type": "code",
   "execution_count": 3,
   "metadata": {
    "scrolled": false
   },
   "outputs": [
    {
     "data": {
      "application/vnd.jupyter.widget-view+json": {
       "model_id": "ef794f4a5dae4aa6a783239da00c7588",
       "version_major": 2,
       "version_minor": 0
      },
      "text/plain": [
       "Box(children=(Box(children=(VBox(children=(VBox(children=(Dropdown(description='Framework', disabled=True, lay…"
      ]
     },
     "metadata": {},
     "output_type": "display_data"
    }
   ],
   "source": [
    "project = k12ai_run_project(framework='k12cv', lan='cn', debug=False)"
   ]
  },
  {
   "cell_type": "markdown",
   "metadata": {},
   "source": [
    "## CV训练过程数据：\n",
    "\n",
    "```json\n",
    "{\n",
    "    \"status\": {\n",
    "        \"version\": \"0.1.0\",\n",
    "        \"type\": \"status\",\n",
    "        \"user\": \"16601548608\",\n",
    "        \"op\": \"train.start\",\n",
    "        \"service_name\": \"k12cv\",\n",
    "        \"service_uuid\": \"1\",\n",
    "        \"timestamp\": 1580732289385,\n",
    "        \"datetime\": \"20200203201809\",\n",
    "        \"data\": {\n",
    "            \"value\": \"running\"\n",
    "        }\n",
    "    },\n",
    "    \"error\": {},\n",
    "    \"metrics\": {\n",
    "        \"version\": \"0.1.0\",\n",
    "        \"type\": \"metrics\",\n",
    "        \"user\": \"16601548608\",\n",
    "        \"op\": \"train.start\",\n",
    "        \"service_name\": \"k12cv\",\n",
    "        \"service_uuid\": \"1\",\n",
    "        \"timestamp\": 1580732500188,\n",
    "        \"datetime\": \"20200203202140\",\n",
    "        \"data\": {\n",
    "            \"training_iters\": 500,\n",
    "            \"training_epochs\": 1,\n",
    "            \"training_loss\": 2.1512,\n",
    "            \"training_speed\": 0.288,\n",
    "            \"lr\": [\n",
    "                1.0000000000000003e-05,\n",
    "                1.0000000000000003e-05\n",
    "            ],\n",
    "            \"training_progress\": 0.03333333333333333,\n",
    "            \"validation_loss\": 2.1146,\n",
    "            \"validation_accuracy\": 0.1805,\n",
    "            \"validation_accuracy3\": 0.5211,\n",
    "            \"validation_accuracy5\": 0.7626\n",
    "        }\n",
    "    }\n",
    "}\n",
    "```"
   ]
  },
  {
   "cell_type": "markdown",
   "metadata": {},
   "source": [
    "## CV评估过程数据：\n",
    "\n",
    "```json\n",
    "{\n",
    "    \"status\": {\n",
    "        \"version\": \"0.1.0\",\n",
    "        \"type\": \"status\",\n",
    "        \"user\": \"16601548608\",\n",
    "        \"op\": \"evaluate.start\",\n",
    "        \"service_name\": \"k12cv\",\n",
    "        \"service_uuid\": \"1\",\n",
    "        \"timestamp\": 1580732555737,\n",
    "        \"datetime\": \"20200203202235\",\n",
    "        \"data\": {\n",
    "            \"value\": \"exit\",\n",
    "            \"way\": \"finish\"\n",
    "        }\n",
    "    },\n",
    "    \"error\": {},\n",
    "    \"metrics\": {\n",
    "        \"version\": \"0.1.0\",\n",
    "        \"type\": \"metrics\",\n",
    "        \"user\": \"16601548608\",\n",
    "        \"op\": \"evaluate.start\",\n",
    "        \"service_name\": \"k12cv\",\n",
    "        \"service_uuid\": \"1\",\n",
    "        \"timestamp\": 1580732555679,\n",
    "        \"datetime\": \"20200203202235\",\n",
    "        \"data\": {\n",
    "            \"evaluate_iters\": 1,\n",
    "            \"evaluate_progress\": 1.0,\n",
    "            \"evaluate_accuracy\": 0.1742,\n",
    "            \"evaluate_accuracy3\": 0.4917,\n",
    "            \"evaluate_accuracy5\": 0.7321\n",
    "        }\n",
    "    }\n",
    "}\n",
    "```"
   ]
  }
 ],
 "metadata": {
  "kernelspec": {
   "display_name": "Python 3",
   "language": "python",
   "name": "python3"
  },
  "language_info": {
   "codemirror_mode": {
    "name": "ipython",
    "version": 3
   },
   "file_extension": ".py",
   "mimetype": "text/x-python",
   "name": "python",
   "nbconvert_exporter": "python",
   "pygments_lexer": "ipython3",
   "version": "3.6.9"
  },
  "toc": {
   "base_numbering": 1,
   "nav_menu": {},
   "number_sections": true,
   "sideBar": true,
   "skip_h1_title": true,
   "title_cell": "",
   "title_sidebar": "Contents",
   "toc_cell": false,
   "toc_position": {},
   "toc_section_display": true,
   "toc_window_display": false
  }
 },
 "nbformat": 4,
 "nbformat_minor": 4
}
