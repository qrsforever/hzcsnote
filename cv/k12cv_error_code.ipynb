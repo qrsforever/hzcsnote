{
 "cells": [
  {
   "cell_type": "markdown",
   "metadata": {},
   "source": [
    "## <div align=\"center\"> CV 错误码测试 </div>"
   ]
  },
  {
   "cell_type": "code",
   "execution_count": 1,
   "metadata": {
    "scrolled": true
   },
   "outputs": [],
   "source": [
    "from k12libs.utils.nb_easy import k12ai_post_cv_request\n",
    "from k12libs.utils.nb_easy import k12ai_get_data\n",
    "from k12libs.utils.nb_easy import k12ai_del_data\n",
    "from k12libs.utils.nb_easy import k12ai_print\n",
    "\n",
    "from k12libs.templates.cls.cifar10 import IC_CIFAR10_CONFIG"
   ]
  },
  {
   "cell_type": "code",
   "execution_count": 2,
   "metadata": {},
   "outputs": [
    {
     "name": "stdout",
     "output_type": "stream",
     "text": [
      "{\n",
      "    \"code\": 100200,\n",
      "    \"descr\": \"task service success\"\n",
      "}\n"
     ]
    }
   ],
   "source": [
    "result, datakey1 = k12ai_post_cv_request(\n",
    "    uri='k12ai/framework/train',\n",
    "    op='train.stop',\n",
    "    user='test',\n",
    "    uuid='cifar10',\n",
    ")\n",
    "k12ai_print(result)"
   ]
  },
  {
   "cell_type": "code",
   "execution_count": 3,
   "metadata": {},
   "outputs": [],
   "source": [
    "config = IC_CIFAR10_CONFIG\n",
    "config['solver']['max_epoch'] = 2\n",
    "config['data']['num_classes'] = 12 # raise error"
   ]
  },
  {
   "cell_type": "code",
   "execution_count": 4,
   "metadata": {
    "scrolled": true
   },
   "outputs": [
    {
     "name": "stdout",
     "output_type": "stream",
     "text": [
      "{\n",
      "    \"code\": 100200,\n",
      "    \"descr\": \"task service success\"\n",
      "}\n"
     ]
    }
   ],
   "source": [
    "result, datakey2 = k12ai_post_cv_request(\n",
    "    uri='k12ai/framework/train',\n",
    "    op='train.start',\n",
    "    user='test',\n",
    "    uuid='cifar10',\n",
    "    params=config\n",
    ")\n",
    "k12ai_print(result)"
   ]
  },
  {
   "cell_type": "code",
   "execution_count": 5,
   "metadata": {},
   "outputs": [
    {
     "data": {
      "text/plain": [
       "'success'"
      ]
     },
     "execution_count": 5,
     "metadata": {},
     "output_type": "execute_result"
    }
   ],
   "source": [
    "k12ai_del_data(datakey2)"
   ]
  },
  {
   "cell_type": "code",
   "execution_count": 6,
   "metadata": {},
   "outputs": [
    {
     "name": "stdout",
     "output_type": "stream",
     "text": [
      "[\n",
      "    {\n",
      "        \"key\": \"framework/test/cifar10/train.start/error/201912061936\",\n",
      "        \"value\": {\n",
      "            \"version\": \"0.1.0\",\n",
      "            \"type\": \"error\",\n",
      "            \"tag\": \"framework\",\n",
      "            \"op\": \"train.start\",\n",
      "            \"user\": \"test\",\n",
      "            \"service_uuid\": \"cifar10\",\n",
      "            \"timestamp\": 1575632179794,\n",
      "            \"datetime\": \"20191206193619\",\n",
      "            \"error\": {\n",
      "                \"code\": 100399,\n",
      "                \"descr\": \"k12cv container unkown exception\",\n",
      "                \"detail\": {\n",
      "                    \"err_type\": \"RuntimeError\",\n",
      "                    \"err_text\": \"While copying the parameter named fc.weight, whose dimensions in the model are torch.Size([12, 512]) and whose dimensions in the checkpoint are torch.Size([10, 512]).\",\n",
      "                    \"trackback\": [\n",
      "                        {\n",
      "                            \"filename\": \"/hzcsk12/cv/torchcv/main.py\",\n",
      "                            \"linenum\": 185,\n",
      "                            \"funcname\": \"<module>\",\n",
      "                            \"souce\": \"runner = runner_selector.cls_runner()\"\n",
      "                        },\n",
      "                        {\n",
      "                            \"filename\": \"/hzcsk12/cv/torchcv/runner/runner_selector.py\",\n",
      "                            \"linenum\": 115,\n",
      "                            \"funcname\": \"cls_runner\",\n",
      "                            \"souce\": \"return CLS_METHOD_DICT[key](self.configer)\"\n",
      "                        },\n",
      "                        {\n",
      "                            \"filename\": \"/hzcsk12/cv/torchcv/runner/cls/image_classifier.py\",\n",
      "                            \"linenum\": 37,\n",
      "                            \"funcname\": \"__init__\",\n",
      "                            \"souce\": \"self.cls_net = RunnerHelper.load_net(self, self.cls_net)\"\n",
      "                        },\n",
      "                        {\n",
      "                            \"filename\": \"/hzcsk12/cv/torchcv/runner/tools/runner_helper.py\",\n",
      "                            \"linenum\": 80,\n",
      "                            \"funcname\": \"load_net\",\n",
      "                            \"souce\": \"RunnerHelper.load_state_dict(net, checkpoint_dict, runner.configer.get('network', 'resume_strict'))\"\n",
      "                        },\n",
      "                        {\n",
      "                            \"filename\": \"/hzcsk12/cv/torchcv/runner/tools/runner_helper.py\",\n",
      "                            \"linenum\": 125,\n",
      "                            \"funcname\": \"load_state_dict\",\n",
      "                            \"souce\": \"param.size()))\"\n",
      "                        }\n",
      "                    ]\n",
      "                }\n",
      "            }\n",
      "        }\n",
      "    }\n",
      "]\n"
     ]
    }
   ],
   "source": [
    "k12ai_print(k12ai_get_data(datakey2, 'error', waitcnt=10))"
   ]
  }
 ],
 "metadata": {
  "kernelspec": {
   "display_name": "Python 3",
   "language": "python",
   "name": "python3"
  },
  "language_info": {
   "codemirror_mode": {
    "name": "ipython",
    "version": 3
   },
   "file_extension": ".py",
   "mimetype": "text/x-python",
   "name": "python",
   "nbconvert_exporter": "python",
   "pygments_lexer": "ipython3",
   "version": "3.6.8"
  }
 },
 "nbformat": 4,
 "nbformat_minor": 2
}
