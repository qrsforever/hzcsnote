{
 "cells": [
  {
   "cell_type": "markdown",
   "metadata": {},
   "source": [
    "# <div align='center'> 数据集分析 </div>"
   ]
  },
  {
   "cell_type": "code",
   "execution_count": 2,
   "metadata": {
    "ExecuteTime": {
     "end_time": "2020-04-02T13:28:30.228787Z",
     "start_time": "2020-04-02T13:28:29.701662Z"
    }
   },
   "outputs": [],
   "source": [
    "%reload_ext autoreload\n",
    "%reload_ext tensorboard\n",
    "%autoreload 2\n",
    "%matplotlib inline"
   ]
  },
  {
   "cell_type": "code",
   "execution_count": 3,
   "metadata": {
    "ExecuteTime": {
     "end_time": "2020-04-02T13:28:31.203244Z",
     "start_time": "2020-04-02T13:28:30.231854Z"
    }
   },
   "outputs": [],
   "source": [
    "from k12libs.utils.nb_easy import K12AI_DATASETS_ROOT\n",
    "from PIL import Image\n",
    "\n",
    "import os\n",
    "import matplotlib.pyplot as plt\n",
    "import scipy\n",
    "import pandas as pd\n",
    "import seaborn as sns\n",
    "import json"
   ]
  },
  {
   "cell_type": "code",
   "execution_count": 4,
   "metadata": {
    "ExecuteTime": {
     "end_time": "2020-04-02T13:28:31.231029Z",
     "start_time": "2020-04-02T13:28:31.205953Z"
    }
   },
   "outputs": [],
   "source": [
    "sns.set_style('white')"
   ]
  },
  {
   "cell_type": "code",
   "execution_count": 5,
   "metadata": {
    "ExecuteTime": {
     "end_time": "2020-04-02T13:28:31.812659Z",
     "start_time": "2020-04-02T13:28:31.789262Z"
    }
   },
   "outputs": [],
   "source": [
    "# debug_datasets = ['aliproducts']\n",
    "debug_datasets = []"
   ]
  },
  {
   "cell_type": "code",
   "execution_count": 6,
   "metadata": {
    "ExecuteTime": {
     "end_time": "2020-04-02T13:28:33.217499Z",
     "start_time": "2020-04-02T13:28:33.164720Z"
    }
   },
   "outputs": [],
   "source": [
    "def pandas_datasets(datasets_root):\n",
    "    df_all = {}\n",
    "    debug = True if debug_datasets and len(debug_datasets) > 0 else False\n",
    "    for dataset in os.scandir(os.path.join(datasets_root, 'cv')):\n",
    "        if debug and dataset.name not in debug_datasets:\n",
    "            continue\n",
    "        train_file = os.path.join(dataset, 'train.json')\n",
    "        if not os.path.exists(train_file):\n",
    "            continue\n",
    "        val_file = os.path.join(dataset, 'val.json')\n",
    "        if not os.path.exists(val_file):\n",
    "            continue\n",
    "        test_file = os.path.join(dataset, 'test.json')\n",
    "        if not os.path.exists(test_file):\n",
    "            continue\n",
    "            \n",
    "        df_train = pd.read_json(train_file)\n",
    "        df_val = pd.read_json(val_file)\n",
    "        df_test = pd.read_json(test_file)\n",
    "        df_train['type'] = 'train'\n",
    "        df_val['type'] = 'val'\n",
    "        df_test['type'] = 'test'\n",
    "        \n",
    "        df_all[dataset.name] = pd.concat([df_train, df_val, df_test])\n",
    "        \n",
    "    return df_all"
   ]
  },
  {
   "cell_type": "code",
   "execution_count": 7,
   "metadata": {
    "ExecuteTime": {
     "end_time": "2020-04-02T13:28:51.977577Z",
     "start_time": "2020-04-02T13:28:42.075785Z"
    }
   },
   "outputs": [],
   "source": [
    "datasets = pandas_datasets(K12AI_DATASETS_ROOT)"
   ]
  },
  {
   "cell_type": "code",
   "execution_count": 8,
   "metadata": {
    "ExecuteTime": {
     "end_time": "2020-04-02T13:28:54.308763Z",
     "start_time": "2020-04-02T13:28:54.269630Z"
    }
   },
   "outputs": [
    {
     "name": "stdout",
     "output_type": "stream",
     "text": [
      "('aliproducts',)\n"
     ]
    }
   ],
   "source": [
    "print(tuple(datasets.keys()))"
   ]
  },
  {
   "cell_type": "code",
   "execution_count": 9,
   "metadata": {
    "ExecuteTime": {
     "end_time": "2020-04-02T13:28:55.560845Z",
     "start_time": "2020-04-02T13:28:55.513452Z"
    }
   },
   "outputs": [],
   "source": [
    "def draw_hist(dataset, df):\n",
    "    plt.clf()\n",
    "    fig = plt.figure(figsize=(12, 12))\n",
    "    plt.title(dataset)\n",
    "    bins = max(df['label'])\n",
    "    bins = bins if bins < 100 else 100\n",
    "    for ty, co, alpha in (('train', 'blue', 0.5), ('val', 'yellow', 1), ('test', 'maroon', 0.8)):\n",
    "        sns.distplot(df[df['type'] == ty]['label'],\n",
    "                     # fit=scipy.stats.norm,\n",
    "                     kde=False,\n",
    "                     hist=True,\n",
    "                     hist_kws={\"linewidth\": 2, \"alpha\": alpha, 'color': co},\n",
    "                     # rug=True,\n",
    "                     bins=bins+1,\n",
    "                     label=ty)\n",
    "    plt.legend()\n",
    "    plt.savefig(f'{K12AI_DATASETS_ROOT}/cv/{dataset}/labels_hist.png')\n",
    "    plt.show()\n",
    "    \n",
    "def draw_all_hist(df_datasets):\n",
    "    for dataset, df in df_datasets.items():\n",
    "        draw_hist(dataset, df)"
   ]
  },
  {
   "cell_type": "code",
   "execution_count": 10,
   "metadata": {
    "ExecuteTime": {
     "end_time": "2020-04-02T13:29:04.685603Z",
     "start_time": "2020-04-02T13:29:00.513834Z"
    },
    "scrolled": false
   },
   "outputs": [
    {
     "data": {
      "text/plain": [
       "<Figure size 432x288 with 0 Axes>"
      ]
     },
     "metadata": {},
     "output_type": "display_data"
    },
    {
     "data": {
      "image/png": "[encoded data removed]",
      "text/plain": [
       "<Figure size 864x864 with 1 Axes>"
      ]
     },
     "metadata": {},
     "output_type": "display_data"
    }
   ],
   "source": [
    "draw_all_hist(datasets)"
   ]
  },
  {
   "cell_type": "code",
   "execution_count": null,
   "metadata": {},
   "outputs": [],
   "source": []
  }
 ],
 "metadata": {
  "kernelspec": {
   "display_name": "Python 3",
   "language": "python",
   "name": "python3"
  },
  "language_info": {
   "codemirror_mode": {
    "name": "ipython",
    "version": 3
   },
   "file_extension": ".py",
   "mimetype": "text/x-python",
   "name": "python",
   "nbconvert_exporter": "python",
   "pygments_lexer": "ipython3",
   "version": "3.6.9"
  }
 },
 "nbformat": 4,
 "nbformat_minor": 4
}
