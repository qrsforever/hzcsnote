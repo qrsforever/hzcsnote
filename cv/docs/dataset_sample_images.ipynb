{
 "cells": [
  {
   "cell_type": "code",
   "execution_count": 1,
   "metadata": {
    "ExecuteTime": {
     "end_time": "2020-04-01T09:29:23.355339Z",
     "start_time": "2020-04-01T09:29:23.323255Z"
    }
   },
   "outputs": [],
   "source": [
    "%reload_ext autoreload\n",
    "%autoreload 2"
   ]
  },
  {
   "cell_type": "code",
   "execution_count": 1,
   "metadata": {
    "ExecuteTime": {
     "end_time": "2020-04-02T13:30:44.060106Z",
     "start_time": "2020-04-02T13:30:43.417071Z"
    }
   },
   "outputs": [],
   "source": [
    "from k12libs.utils.nb_easy import k12ai_print\n",
    "from k12libs.utils.nb_easy import k12ai_get_app_dir\n",
    "from k12libs.utils.nb_easy import k12ai_get_top_dir\n",
    "from k12libs.utils.nb_widget import k12ai_schema_parse\n",
    "\n",
    "import os\n",
    "import json\n",
    "import _jsonnet\n",
    "import shutil"
   ]
  },
  {
   "cell_type": "code",
   "execution_count": 2,
   "metadata": {
    "ExecuteTime": {
     "end_time": "2020-04-02T13:30:45.251038Z",
     "start_time": "2020-04-02T13:30:45.244009Z"
    }
   },
   "outputs": [],
   "source": [
    "schema_dir = os.path.join(k12ai_get_app_dir('cv'), 'templates', 'schema', 'constants', 'datasets')"
   ]
  },
  {
   "cell_type": "code",
   "execution_count": 3,
   "metadata": {
    "ExecuteTime": {
     "end_time": "2020-04-02T13:30:46.701530Z",
     "start_time": "2020-04-02T13:30:46.065119Z"
    }
   },
   "outputs": [
    {
     "name": "stdout",
     "output_type": "stream",
     "text": [
      "Animals.jsonnet\t\t EMNIST_MNIST.jsonnet  cellular.jsonnet\r\n",
      "Boats.jsonnet\t\t FashionMNIST.jsonnet  cifar10.jsonnet\r\n",
      "Chars74K.jsonnet\t Fruits360.jsonnet     dogsVsCats.jsonnet\r\n",
      "Dogs.jsonnet\t\t KMNIST.jsonnet        kannada.jsonnet\r\n",
      "EMNIST_Balanced.jsonnet  VOC07+12_DET.jsonnet  kannada_dig.jsonnet\r\n",
      "EMNIST_Digits.jsonnet\t aliproducts.jsonnet   mnist.jsonnet\r\n",
      "EMNIST_Letters.jsonnet\t cactus.jsonnet        underwater.jsonnet\r\n"
     ]
    }
   ],
   "source": [
    "!ls {schema_dir}"
   ]
  },
  {
   "cell_type": "code",
   "execution_count": 4,
   "metadata": {
    "ExecuteTime": {
     "end_time": "2020-04-02T13:31:36.401961Z",
     "start_time": "2020-04-02T13:31:36.396516Z"
    }
   },
   "outputs": [],
   "source": [
    "debug_samples = ['aliproducts.jsonnet']\n",
    "# debug_samples = []"
   ]
  },
  {
   "cell_type": "code",
   "execution_count": 5,
   "metadata": {
    "ExecuteTime": {
     "end_time": "2020-04-02T13:32:58.193720Z",
     "start_time": "2020-04-02T13:32:57.989427Z"
    }
   },
   "outputs": [],
   "source": [
    "src_cv_root = '/data/datasets/cv'\n",
    "dst_cv_root = '/data/samples/datasets/cv'\n",
    "\n",
    "other_files = ['labels_hist.png']\n",
    "\n",
    "with os.scandir(schema_dir) as it:\n",
    "    for e in it:\n",
    "        try:\n",
    "            if len(debug_samples) != 0 and e.name not in debug_samples:\n",
    "                continue\n",
    "            jsonstr = _jsonnet.evaluate_file(e.path)\n",
    "            jsonobj = json.loads(jsonstr)\n",
    "            dataset = jsonobj['data']['data_dir'].split('/')[-1]\n",
    "            samples = jsonobj['_k12']['data']['sample']\n",
    "            src_dir = os.path.join(src_cv_root, dataset)\n",
    "            dst_dir = os.path.join(dst_cv_root, dataset)\n",
    "            for path in samples.values():\n",
    "                src_file = os.path.join(src_dir, path)\n",
    "                dst_file = os.path.join(dst_dir, path)\n",
    "                tmp_dir = os.path.dirname(dst_file)\n",
    "                if not os.path.exists(tmp_dir):\n",
    "                    os.makedirs(tmp_dir)\n",
    "                shutil.copy(os.path.join(src_dir, path), os.path.join(dst_dir, path))\n",
    "            for file in other_files:\n",
    "                shutil.copy(os.path.join(src_dir, file), os.path.join(dst_dir, file))\n",
    "        except Exception as err:\n",
    "            print('{}'.format(err))"
   ]
  }
 ],
 "metadata": {
  "kernelspec": {
   "display_name": "Python 3",
   "language": "python",
   "name": "python3"
  },
  "language_info": {
   "codemirror_mode": {
    "name": "ipython",
    "version": 3
   },
   "file_extension": ".py",
   "mimetype": "text/x-python",
   "name": "python",
   "nbconvert_exporter": "python",
   "pygments_lexer": "ipython3",
   "version": "3.6.9"
  }
 },
 "nbformat": 4,
 "nbformat_minor": 4
}
