{
 "cells": [
  {
   "cell_type": "markdown",
   "metadata": {
    "toc": true
   },
   "source": [
    "<h1>Table of Contents<span class=\"tocSkip\"></span></h1>\n",
    "<div class=\"toc\"><ul class=\"toc-item\"><li><span><a href=\"#还原\" data-toc-modified-id=\"还原-1\">还原</a></span></li><li><span><a href=\"#编译\" data-toc-modified-id=\"编译-2\">编译</a></span></li><li><span><a href=\"#验证\" data-toc-modified-id=\"验证-3\">验证</a></span></li></ul></div>"
   ]
  },
  {
   "cell_type": "markdown",
   "metadata": {
    "ExecuteTime": {
     "end_time": "2020-05-27T08:17:58.265020Z",
     "start_time": "2020-05-27T08:17:58.256947Z"
    }
   },
   "source": [
    "# <div align='center'> 将编译后的pb2文件转换为proto文件</div>"
   ]
  },
  {
   "cell_type": "code",
   "execution_count": 6,
   "metadata": {
    "ExecuteTime": {
     "end_time": "2020-06-01T13:36:35.121022Z",
     "start_time": "2020-06-01T13:36:35.113845Z"
    }
   },
   "outputs": [],
   "source": [
    "import os\n",
    "import sys\n",
    "from google.protobuf.descriptor import FieldDescriptor as FD\n",
    "from k12libs.utils.nb_easy import k12ai_get_app_dir\n",
    "from k12libs.utils.nb_easy import K12AI_NBDATA_ROOT"
   ]
  },
  {
   "cell_type": "code",
   "execution_count": 7,
   "metadata": {
    "ExecuteTime": {
     "end_time": "2020-06-01T13:36:35.136989Z",
     "start_time": "2020-06-01T13:36:35.125298Z"
    }
   },
   "outputs": [],
   "source": [
    "proto_outdir = os.path.join(K12AI_NBDATA_ROOT, 'vulkan/protos/layers')\n",
    "if not os.path.exists(proto_outdir):\n",
    "    os.makedirs(proto_outdir)\n",
    "sys.path.append(k12ai_get_app_dir('cv'))\n",
    "sys.path.append(K12AI_NBDATA_ROOT)"
   ]
  },
  {
   "cell_type": "markdown",
   "metadata": {},
   "source": [
    "## 还原"
   ]
  },
  {
   "cell_type": "code",
   "execution_count": 8,
   "metadata": {
    "ExecuteTime": {
     "end_time": "2020-06-01T13:36:35.175221Z",
     "start_time": "2020-06-01T13:36:35.141434Z"
    }
   },
   "outputs": [
    {
     "ename": "ModuleNotFoundError",
     "evalue": "No module named 'vulkan.protos.layers.layers_pb2'",
     "output_type": "error",
     "traceback": [
      "\u001b[0;31m\u001b[0m",
      "\u001b[0;31mModuleNotFoundError\u001b[0mTraceback (most recent call last)",
      "\u001b[0;32m<ipython-input-8-da1e3274b76e>\u001b[0m in \u001b[0;36m<module>\u001b[0;34m\u001b[0m\n\u001b[1;32m      8\u001b[0m \u001b[0;32mfrom\u001b[0m \u001b[0mvulkan\u001b[0m\u001b[0;34m.\u001b[0m\u001b[0mprotos\u001b[0m\u001b[0;34m.\u001b[0m\u001b[0mlayers\u001b[0m\u001b[0;34m.\u001b[0m\u001b[0mbasefunc_pb2\u001b[0m \u001b[0;32mimport\u001b[0m \u001b[0mBaseFuncLayer\u001b[0m\u001b[0;34m\u001b[0m\u001b[0;34m\u001b[0m\u001b[0m\n\u001b[1;32m      9\u001b[0m \u001b[0;32mfrom\u001b[0m \u001b[0mvulkan\u001b[0m\u001b[0;34m.\u001b[0m\u001b[0mprotos\u001b[0m\u001b[0;34m.\u001b[0m\u001b[0mlayers\u001b[0m\u001b[0;34m.\u001b[0m\u001b[0mvulkan_pb2\u001b[0m \u001b[0;32mimport\u001b[0m \u001b[0mVulkanLayer\u001b[0m\u001b[0;34m\u001b[0m\u001b[0;34m\u001b[0m\u001b[0m\n\u001b[0;32m---> 10\u001b[0;31m \u001b[0;32mfrom\u001b[0m \u001b[0mvulkan\u001b[0m\u001b[0;34m.\u001b[0m\u001b[0mprotos\u001b[0m\u001b[0;34m.\u001b[0m\u001b[0mlayers\u001b[0m\u001b[0;34m.\u001b[0m\u001b[0mlayers_pb2\u001b[0m \u001b[0;32mimport\u001b[0m \u001b[0mLayer\u001b[0m\u001b[0;34m\u001b[0m\u001b[0;34m\u001b[0m\u001b[0m\n\u001b[0m\u001b[1;32m     11\u001b[0m \u001b[0;32mfrom\u001b[0m \u001b[0mvulkan\u001b[0m\u001b[0;34m.\u001b[0m\u001b[0mprotos\u001b[0m\u001b[0;34m.\u001b[0m\u001b[0mskeletons\u001b[0m\u001b[0;34m.\u001b[0m\u001b[0mskeleton_pb2\u001b[0m \u001b[0;32mimport\u001b[0m \u001b[0mskeletons\u001b[0m\u001b[0;34m\u001b[0m\u001b[0;34m\u001b[0m\u001b[0m\n\u001b[1;32m     12\u001b[0m \u001b[0;34m\u001b[0m\u001b[0m\n",
      "\u001b[0;31mModuleNotFoundError\u001b[0m: No module named 'vulkan.protos.layers.layers_pb2'"
     ]
    }
   ],
   "source": [
    "from vulkan.protos.layers.conv_pb2 import ConvLayer\n",
    "from vulkan.protos.layers.activations_pb2 import ActLayer\n",
    "from vulkan.protos.layers.dropout_pb2 import DropoutLayer\n",
    "from vulkan.protos.layers.linear_pb2 import LinearLayer\n",
    "from vulkan.protos.layers.padding_pb2 import PaddingLayer\n",
    "from vulkan.protos.layers.pooling_pb2 import PoolLayer\n",
    "from vulkan.protos.layers.norm_pb2 import NormLayer\n",
    "from vulkan.protos.layers.basefunc_pb2 import BaseFuncLayer\n",
    "from vulkan.protos.layers.vulkan_pb2 import VulkanLayer\n",
    "from vulkan.protos.layers.layers_pb2 import Layer\n",
    "from vulkan.protos.skeletons.skeleton_pb2 import skeletons\n",
    "\n",
    "classes = [\n",
    "    ConvLayer,\n",
    "    ActLayer,\n",
    "    DropoutLayer,\n",
    "    LinearLayer,\n",
    "    PaddingLayer,\n",
    "    PoolLayer,\n",
    "    NormLayer,\n",
    "    BaseFuncLayer,\n",
    "    VulkanLayer\n",
    "]"
   ]
  },
  {
   "cell_type": "code",
   "execution_count": null,
   "metadata": {
    "ExecuteTime": {
     "end_time": "2020-06-01T13:36:35.179000Z",
     "start_time": "2020-06-01T13:36:35.099Z"
    }
   },
   "outputs": [],
   "source": [
    "type2string = {\n",
    "    FD.TYPE_BOOL: 'bool',\n",
    "    FD.TYPE_BYTES: 'bytes',\n",
    "    FD.TYPE_DOUBLE: 'double',\n",
    "    FD.TYPE_ENUM: 'enum',\n",
    "    FD.TYPE_FIXED32: 'fixed32',\n",
    "    FD.TYPE_FIXED64: 'fixed64',\n",
    "    FD.TYPE_FLOAT: 'float',\n",
    "    FD.TYPE_GROUP: 'group',\n",
    "    FD.TYPE_INT32: 'int32',\n",
    "    FD.TYPE_INT64: 'int64',\n",
    "    FD.TYPE_SFIXED32: 'sfixed32',\n",
    "    FD.TYPE_SFIXED64: 'sfixed64',\n",
    "    FD.TYPE_SINT32: 'sint32',\n",
    "    FD.TYPE_SINT64: 'sint64',\n",
    "    FD.TYPE_STRING: 'string',\n",
    "    FD.TYPE_UINT32: 'uint32',\n",
    "    FD.TYPE_UINT64: 'uint64'\n",
    "}\n",
    "\n",
    "def class2proto(cls, space=0):\n",
    "    obj = cls()\n",
    "    proto = '%smessage %s {\\n' % (' ' * space, cls.__name__)\n",
    "    space += 4\n",
    "    for field in obj.DESCRIPTOR.fields:\n",
    "        # print(field.name, field.id, field.index, field.label, field.number,\n",
    "        #         field.type, field.message_type, field.cpp_type, field.enum_type,\n",
    "        #         field.has_options, field.has_default_value, field.default_value)\n",
    "\n",
    "        msg_type = field.message_type\n",
    "\n",
    "        if field.type == FD.TYPE_MESSAGE:\n",
    "            proto += class2proto(msg_type._concrete_class, space)\n",
    "            str_type = msg_type._concrete_class.__name__\n",
    "        elif field.type == FD.TYPE_ENUM:\n",
    "            str_type = field.enum_type.name\n",
    "            proto += '%senum %s {\\n' % (' ' * space, str_type)\n",
    "            for idx, val in enumerate(field.enum_type.values):\n",
    "                proto += f'{\" \"*(space + 4)}{val.name} = {idx};\\n'\n",
    "            proto += '%s}\\n' % (' ' * space)\n",
    "            default_value = field.enum_type.values[field.default_value].name\n",
    "        else:\n",
    "            str_type = type2string[field.type]\n",
    "            default_value = field.default_value\n",
    "            \n",
    "        default = ''\n",
    "        if field.has_default_value:\n",
    "            default = f' [default = {default_value}]'\n",
    "\n",
    "        label = 'required'\n",
    "        if field.label == FD.LABEL_REPEATED:\n",
    "            label = 'repeated'\n",
    "        elif field.label == FD.LABEL_OPTIONAL:\n",
    "            label = 'optional'\n",
    "\n",
    "        proto += f'{\" \"*space}{label} {str_type} {field.name} = {field.number}{default};\\n'\n",
    "    proto += '%s}\\n' % (' ' * (space - 4))\n",
    "    return proto"
   ]
  },
  {
   "cell_type": "code",
   "execution_count": null,
   "metadata": {
    "ExecuteTime": {
     "end_time": "2020-06-01T13:36:35.180686Z",
     "start_time": "2020-06-01T13:36:35.102Z"
    },
    "scrolled": false
   },
   "outputs": [],
   "source": [
    "for cls in classes:\n",
    "    print('-'*20, cls.DESCRIPTOR.file.name, '-'*20)\n",
    "    protostr = 'syntax = \"proto2\";\\n\\n{}'.format(class2proto(cls))\n",
    "    print(protostr)\n",
    "    proto_file = os.path.basename(cls.DESCRIPTOR.file.name)\n",
    "    with open(os.path.join(proto_outdir, proto_file), 'w') as fw:\n",
    "        fw.write(protostr)"
   ]
  },
  {
   "cell_type": "code",
   "execution_count": null,
   "metadata": {
    "ExecuteTime": {
     "end_time": "2020-06-01T13:36:35.182133Z",
     "start_time": "2020-06-01T13:36:35.104Z"
    },
    "scrolled": false
   },
   "outputs": [],
   "source": [
    "# print(class2proto(Layer))"
   ]
  },
  {
   "cell_type": "code",
   "execution_count": null,
   "metadata": {
    "ExecuteTime": {
     "end_time": "2020-06-01T13:36:35.183625Z",
     "start_time": "2020-06-01T13:36:35.106Z"
    },
    "scrolled": false
   },
   "outputs": [],
   "source": [
    "# print(class2proto(skeletons))"
   ]
  },
  {
   "cell_type": "markdown",
   "metadata": {},
   "source": [
    "----------------------------"
   ]
  },
  {
   "cell_type": "markdown",
   "metadata": {},
   "source": [
    "## 编译"
   ]
  },
  {
   "cell_type": "code",
   "execution_count": null,
   "metadata": {
    "ExecuteTime": {
     "end_time": "2020-06-01T13:36:35.185286Z",
     "start_time": "2020-06-01T13:36:35.109Z"
    }
   },
   "outputs": [],
   "source": [
    "from k12libs.utils.nb_easy import k12ai_restart_kernel\n",
    "k12ai_restart_kernel()"
   ]
  },
  {
   "cell_type": "code",
   "execution_count": null,
   "metadata": {
    "ExecuteTime": {
     "end_time": "2020-06-01T13:36:35.186808Z",
     "start_time": "2020-06-01T13:36:35.111Z"
    }
   },
   "outputs": [],
   "source": [
    "import sys\n",
    "from k12libs.utils.nb_easy import K12AI_NBDATA_ROOT\n",
    "\n",
    "sys.path.append(K12AI_NBDATA_ROOT)"
   ]
  },
  {
   "cell_type": "code",
   "execution_count": null,
   "metadata": {
    "ExecuteTime": {
     "end_time": "2020-06-01T13:36:35.188826Z",
     "start_time": "2020-06-01T13:36:35.113Z"
    }
   },
   "outputs": [],
   "source": [
    "!apt install protobuf-compiler -y\n",
    "!cd {K12AI_NBDATA_ROOT}; protoc --python_out=.  vulkan/protos/layers/*.proto"
   ]
  },
  {
   "cell_type": "markdown",
   "metadata": {},
   "source": [
    "-----------------------"
   ]
  },
  {
   "cell_type": "markdown",
   "metadata": {},
   "source": [
    "## 验证"
   ]
  },
  {
   "cell_type": "code",
   "execution_count": null,
   "metadata": {
    "ExecuteTime": {
     "end_time": "2020-06-01T13:36:35.190412Z",
     "start_time": "2020-06-01T13:36:35.116Z"
    }
   },
   "outputs": [],
   "source": [
    "from vulkan.protos.layers.conv_pb2 import ConvLayer\n",
    "from vulkan.protos.layers.activations_pb2 import ActLayer\n",
    "from vulkan.protos.layers.dropout_pb2 import DropoutLayer\n",
    "from vulkan.protos.layers.linear_pb2 import LinearLayer\n",
    "from vulkan.protos.layers.padding_pb2 import PaddingLayer\n",
    "from vulkan.protos.layers.pooling_pb2 import PoolLayer\n",
    "from vulkan.protos.layers.norm_pb2 import NormLayer\n",
    "from vulkan.protos.layers.basefunc_pb2 import BaseFuncLayer\n",
    "from vulkan.protos.layers.vulkan_pb2 import VulkanLayer\n",
    "from google.protobuf import text_format\n",
    "\n",
    "layers_def = {\n",
    "\"conv\": (ConvLayer, r\"\"\"\n",
    "    name : \"conv1\"\n",
    "    layer_mode : CONV2D \n",
    "    inputs : \"layer1\"\n",
    "    outputs : \"layer3\"\n",
    "    layer_params {\n",
    "        in_channels : \"3\"\n",
    "        out_channels : \"6\"\n",
    "        kernel_size : \"2\"\n",
    "        kernel_size : \"3\"\n",
    "        bias : \"True\"\n",
    "    }\n",
    "    layer_builder : \"NNTorchLayer\"\n",
    "    \"\"\"),\n",
    "\"pool\": (PoolLayer, r\"\"\"\n",
    "    name : \"pool1\"\n",
    "    layer_mode : MAXPOOL2D\n",
    "    inputs : \"layer2\"\n",
    "    outputs : \"layer3\"\n",
    "    layer_params {\n",
    "        kernel_size : \"2\"\n",
    "        kernel_size : \"2\"\n",
    "        padding : \"1\"\n",
    "        return_indices : \"False\"\n",
    "    }\n",
    "    layer_builder : \"NNTorchLayer\"\n",
    "    \"\"\"),\n",
    "\"linear\": (LinearLayer, r\"\"\"\n",
    "    name : \"linear1\"\n",
    "    inputs : \"layer1\"\n",
    "    outputs : \"layer2\"\n",
    "    layer_mode : LINEAR\n",
    "    layer_params {\n",
    "        in_features : \"20\"\n",
    "        out_features : \"30\"\n",
    "        bias : \"False\"\n",
    "    }\n",
    "    layer_builder : \"NNTorchLayer\"\n",
    "    \"\"\"),\n",
    "\"dropout\": (DropoutLayer, r\"\"\"\n",
    "    name : \"dropout1\"\n",
    "    inputs : \"layer1\"\n",
    "    outputs : \"layer2\"\n",
    "    layer_mode : DROPOUT\n",
    "    layer_params {\n",
    "        inplace : \"True\"\n",
    "        p : \"0.6\"\n",
    "    }\n",
    "    layer_builder : \"NNTorchLayer\"\n",
    "    \"\"\"),\n",
    "\"relu\": (ActLayer, r\"\"\"\n",
    "    name : \"relu1\"\n",
    "    inputs : \"layer1\"\n",
    "    outputs : \"layer2\"\n",
    "    layer_mode : RELU\n",
    "    layer_params {\n",
    "        inplace : \"False\"\n",
    "    }\n",
    "    layer_builder : \"NNTorchLayer\"\n",
    "    \"\"\"),\n",
    "\"reshape\": (VulkanLayer, r\"\"\"\n",
    "    name : \"reshape1\"\n",
    "    inputs : \"layer1\"\n",
    "    layer_mode : RESHAPE\n",
    "    layer_params {\n",
    "        target_shape : \"4096\"\n",
    "    }\n",
    "    layer_builder : \"NNTorchLayer\"\n",
    "    \"\"\"),\n",
    "\"cat\": (BaseFuncLayer, r\"\"\"\n",
    "    name : \"cat1\"\n",
    "    inputs : \"layer1\"\n",
    "    inputs : \"layer2\"\n",
    "    layer_mode : CAT\n",
    "    layer_params {\n",
    "        dim : \"0\"\n",
    "    }\n",
    "    layer_builder : \"TorchFuncLayer\"\n",
    "    \"\"\"),\n",
    "\"norm\": (NormLayer, r\"\"\"\n",
    "    name : \"bn1\"\n",
    "    inputs : \"layer1\"\n",
    "    outputs : \"layer2\"\n",
    "    layer_mode : BATCHNORM2D\n",
    "    layer_params {\n",
    "        num_features : \"36\"\n",
    "    }\n",
    "    layer_builder : \"NNTorchLayer\"\n",
    "    \"\"\"),\n",
    "\"flatten\": (VulkanLayer, r\"\"\"\n",
    "    name : \"flatten1\"\n",
    "    inputs : \"layer1\"\n",
    "    outputs : \"layer2\"\n",
    "    layer_mode : FLATTEN\n",
    "    layer_params : {\n",
    "        start_dim : \"1\"\n",
    "        end_dim : \"-1\"\n",
    "    }\n",
    "    layer_builder : \"NNTorchLayer\"\n",
    "    \"\"\"),\n",
    "\"add\": (BaseFuncLayer, r\"\"\"\n",
    "    name : \"add1\"\n",
    "    inputs : \"layer1\"\n",
    "    inputs : \"layer2\"\n",
    "    layer_mode : ADD\n",
    "    layer_builder : \"TorchFuncLayer\"\n",
    "    \"\"\"),\n",
    "\"padding\": (PaddingLayer, r\"\"\"\n",
    "    name : \"pad1\"\n",
    "    inputs : \"layer1\"\n",
    "    layer_mode : ZEROPAD2D\n",
    "    layer_params : {\n",
    "        padding : \"1\"\n",
    "        padding : \"1\"\n",
    "    }\n",
    "    layer_builder : \"NNTorchLayer\"\n",
    "    \"\"\")\n",
    "}"
   ]
  },
  {
   "cell_type": "code",
   "execution_count": null,
   "metadata": {
    "ExecuteTime": {
     "end_time": "2020-06-01T13:36:35.191891Z",
     "start_time": "2020-06-01T13:36:35.118Z"
    },
    "scrolled": false
   },
   "outputs": [],
   "source": [
    "for layer, (cls, netdef) in layers_def.items():\n",
    "    print('-'*20, cls.DESCRIPTOR.file.name, '-'*20)\n",
    "    print(netdef)\n",
    "    proto = text_format.Merge(netdef, cls())\n",
    "    print('-'*10, layer, '-'*10, '\\n')\n",
    "    print(proto)"
   ]
  }
 ],
 "metadata": {
  "kernelspec": {
   "display_name": "Python 3",
   "language": "python",
   "name": "python3"
  },
  "language_info": {
   "codemirror_mode": {
    "name": "ipython",
    "version": 3
   },
   "file_extension": ".py",
   "mimetype": "text/x-python",
   "name": "python",
   "nbconvert_exporter": "python",
   "pygments_lexer": "ipython3",
   "version": "3.6.9"
  },
  "toc": {
   "base_numbering": 1,
   "nav_menu": {},
   "number_sections": false,
   "sideBar": false,
   "skip_h1_title": true,
   "title_cell": "Table of Contents",
   "title_sidebar": "Contents",
   "toc_cell": true,
   "toc_position": {
    "height": "calc(100% - 180px)",
    "left": "10px",
    "top": "150px",
    "width": "349.091px"
   },
   "toc_section_display": true,
   "toc_window_display": false
  }
 },
 "nbformat": 4,
 "nbformat_minor": 4
}
