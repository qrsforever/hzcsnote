{
 "cells": [
  {
   "cell_type": "markdown",
   "metadata": {},
   "source": [
    "# <div align=\"center\"> 调研CV结果可视化 </div>"
   ]
  },
  {
   "cell_type": "markdown",
   "metadata": {},
   "source": [
    "## kaggle\n",
    "\n",
    "- [keras: flower-recognition-cnn-keras](https://www.kaggle.com/rajmehra03/flower-recognition-cnn-keras)\n",
    "\n",
    "- [keras: keras-cnn-dog-or-cat-classification](https://www.kaggle.com/uysimty/keras-cnn-dog-or-cat-classification)\n",
    "\n",
    "- [keras: introduction-to-cnn-keras](https://www.kaggle.com/yassineghouzam/introduction-to-cnn-keras-0-997-top-6#3.-CNN)\n",
    "\n",
    "\n",
    "## tensorboard\n",
    "\n",
    "- [pytorch](https://pytorch.org/docs/stable/tensorboard.html)\n",
    "\n",
    "- [kaggle](https://www.kaggle.com/mlagunas/naive-unet-with-pytorch-tensorboard-logging)\n",
    "\n",
    "\n",
    "### other\n",
    "\n",
    "- [PSNR-SSIM(GPU上的相似度检测)](https://cvnote.ddlee.cn/2019/09/12/PSNR-SSIM-Python.html)"
   ]
  },
  {
   "cell_type": "markdown",
   "metadata": {},
   "source": [
    "## Youtube\n",
    "\n",
    "- [Tensorboard: torch](https://www.youtube.com/watch?v=pSexXMdruFM)"
   ]
  },
  {
   "cell_type": "markdown",
   "metadata": {},
   "source": [
    "## Metrics\n",
    "\n",
    "### 过程类\n",
    "\n",
    "1. [x] 训练过程中的输入到模型的图片(增强变换之后)\n",
    "2. [x] loss & loss_avg: training loss, Validation loss\n",
    "3. [x] lr\n",
    "4. [x] weight, bias and grad histogram\n",
    "\n",
    "\n",
    "### 结果类\n",
    "\n",
    "1. [x] accuracy & accuracy_topX\n",
    "2. [x] confusion matrix\n",
    "3. [x] model graph (tensorboard)\n",
    "4. [ ] 展示分错次数多的分类\n",
    "5. [ ] psnr & ssim\n",
    "6. [x] 精确度, 召回率, F1, \n",
    "7. [ ] ROC曲线, AUC, 特异性\n",
    "\n",
    "\n",
    "### 性能类\n",
    "\n",
    "1. [x] cpu/gpu内存 利用率\n",
    "2. [x] 训练速度"
   ]
  },
  {
   "cell_type": "code",
   "execution_count": 1,
   "metadata": {},
   "outputs": [],
   "source": [
    "%reload_ext autoreload\n",
    "%reload_ext tensorboard\n",
    "%autoreload 2"
   ]
  },
  {
   "cell_type": "code",
   "execution_count": 2,
   "metadata": {
    "scrolled": false
   },
   "outputs": [],
   "source": [
    "import torch\n",
    "import torchvision\n",
    "import numpy as np\n",
    "import cv2\n",
    "from PIL import Image\n",
    "from torch.utils.tensorboard import SummaryWriter\n",
    "from torchvision import datasets, transforms\n",
    "from k12libs.utils.nb_easy import K12AI_HOST_ADDR, K12AI_NBDATA_ROOT\n",
    "from k12libs.utils.nb_easy import k12ai_set_notebook"
   ]
  },
  {
   "cell_type": "code",
   "execution_count": 3,
   "metadata": {},
   "outputs": [
    {
     "data": {
      "text/html": [
       "<style>.container { width:80% !important; }</style>"
      ],
      "text/plain": [
       "<IPython.core.display.HTML object>"
      ]
     },
     "metadata": {},
     "output_type": "display_data"
    }
   ],
   "source": [
    "k12ai_set_notebook(cellw=80)"
   ]
  },
  {
   "cell_type": "code",
   "execution_count": 4,
   "metadata": {},
   "outputs": [],
   "source": [
    "tb_port = 6001\n",
    "log_dir = f'{K12AI_NBDATA_ROOT}/tmp/mnist/logs_{tb_port}'\n",
    "writer = SummaryWriter(log_dir=log_dir)"
   ]
  },
  {
   "cell_type": "code",
   "execution_count": 19,
   "metadata": {},
   "outputs": [
    {
     "name": "stdout",
     "output_type": "stream",
     "text": [
      "<class 'torchvision.models.resnet.ResNet'>\n"
     ]
    }
   ],
   "source": [
    "transform = transforms.Compose([transforms.ToTensor(), transforms.Normalize((0.5,), (0.5,))])\n",
    "trainset = datasets.MNIST(f'{K12AI_NBDATA_ROOT}/datasets', train=True, download=True, transform=transform)\n",
    "trainloader = torch.utils.data.DataLoader(trainset, batch_size=64, shuffle=True)\n",
    "model = torchvision.models.resnet50(False)\n",
    "# Have ResNet model take in grayscale rather than RGB\n",
    "model.conv1 = torch.nn.Conv2d(1, 64, kernel_size=7, stride=2, padding=3, bias=False)\n",
    "images, labels = next(iter(trainloader))\n",
    "\n",
    "grid = torchvision.utils.make_grid(images)\n",
    "writer.add_image('images', grid, 0)\n",
    "writer.add_graph(model, images)"
   ]
  },
  {
   "cell_type": "code",
   "execution_count": 6,
   "metadata": {},
   "outputs": [],
   "source": [
    "for n_iter in range(100):\n",
    "    writer.add_scalar('Loss/train', np.random.random(), n_iter)\n",
    "    writer.add_scalar('Loss/test', np.random.random(), n_iter)\n",
    "    writer.add_scalar('Accuracy/train', np.random.random(), n_iter)\n",
    "    writer.add_scalar('Accuracy/test', np.random.random(), n_iter)"
   ]
  },
  {
   "cell_type": "code",
   "execution_count": 7,
   "metadata": {},
   "outputs": [],
   "source": [
    "r = 5\n",
    "for i in range(100):\n",
    "    writer.add_scalars('run_14h', {'xsinx':i*np.sin(i/r),\n",
    "                                    'xcosx':i*np.cos(i/r),\n",
    "                                    'tanx': np.tan(i/r)}, i)"
   ]
  },
  {
   "cell_type": "code",
   "execution_count": 8,
   "metadata": {},
   "outputs": [],
   "source": [
    "for i in range(10):\n",
    "    x = np.random.random(1000)\n",
    "    writer.add_histogram('distribution centers', x + i, i)"
   ]
  },
  {
   "cell_type": "code",
   "execution_count": 9,
   "metadata": {},
   "outputs": [],
   "source": [
    "img = np.zeros((3, 100, 100))\n",
    "img[0] = np.arange(0, 10000).reshape(100, 100) / 10000\n",
    "img[1] = 1 - np.arange(0, 10000).reshape(100, 100) / 10000\n",
    "\n",
    "img_HWC = np.zeros((100, 100, 3))\n",
    "img_HWC[:, :, 0] = np.arange(0, 10000).reshape(100, 100) / 10000\n",
    "img_HWC[:, :, 1] = 1 - np.arange(0, 10000).reshape(100, 100) / 10000\n",
    "\n",
    "writer.add_image('my_image', img, 0)\n",
    "\n",
    "writer.add_image('my_image_HWC', img_HWC, 0, dataformats='HWC')"
   ]
  },
  {
   "cell_type": "code",
   "execution_count": 10,
   "metadata": {},
   "outputs": [],
   "source": [
    "img_batch = np.zeros((16, 3, 100, 100))\n",
    "for i in range(16):\n",
    "    img_batch[i, 0] = np.arange(0, 10000).reshape(100, 100) / 10000 / 16 * i\n",
    "    img_batch[i, 1] = (1 - np.arange(0, 10000).reshape(100, 100) / 10000) / 16 * i\n",
    "    \n",
    "writer.add_images('my_image_batch', img_batch, 0)"
   ]
  },
  {
   "cell_type": "code",
   "execution_count": 11,
   "metadata": {},
   "outputs": [],
   "source": [
    "writer.add_text('lstm', 'This is an lstm', 0)\n",
    "writer.add_text('rnn', 'This is an rnn', 10)"
   ]
  },
  {
   "cell_type": "code",
   "execution_count": 12,
   "metadata": {},
   "outputs": [],
   "source": [
    "vertices_tensor = torch.as_tensor([\n",
    "    [1, 1, 1],\n",
    "    [-1, -1, 1],\n",
    "    [1, -1, -1],\n",
    "    [-1, 1, -1],\n",
    "], dtype=torch.float).unsqueeze(0)\n",
    "colors_tensor = torch.as_tensor([\n",
    "    [255, 0, 0],\n",
    "    [0, 255, 0],\n",
    "    [0, 0, 255],\n",
    "    [255, 0, 255],\n",
    "], dtype=torch.int).unsqueeze(0)\n",
    "faces_tensor = torch.as_tensor([\n",
    "    [0, 2, 3],\n",
    "    [0, 3, 1],\n",
    "    [0, 1, 2],\n",
    "    [1, 3, 2],\n",
    "], dtype=torch.int).unsqueeze(0)\n",
    "\n",
    "writer.add_mesh('my_mesh', vertices=vertices_tensor, colors=colors_tensor, faces=faces_tensor)\n",
    "writer.flush()"
   ]
  },
  {
   "cell_type": "code",
   "execution_count": 13,
   "metadata": {},
   "outputs": [],
   "source": [
    "for i in range(5):\n",
    "    writer.add_hparams({'lr': 0.1*i, 'bsize': i},\n",
    "                  {'hparam/accuracy': 10*i, 'hparam/loss': 10*i})"
   ]
  },
  {
   "cell_type": "code",
   "execution_count": 14,
   "metadata": {},
   "outputs": [
    {
     "data": {
      "text/html": [
       "\n",
       "      <iframe id=\"tensorboard-frame-3b2969d0b88d5a2e\" width=\"100%\" height=\"800\" frameborder=\"0\">\n",
       "      </iframe>\n",
       "      <script>\n",
       "        (function() {\n",
       "          const frame = document.getElementById(\"tensorboard-frame-3b2969d0b88d5a2e\");\n",
       "          const url = new URL(\"/\", window.location);\n",
       "          url.port = 6001;\n",
       "          frame.src = url;\n",
       "        })();\n",
       "      </script>\n",
       "  "
      ],
      "text/plain": [
       "<IPython.core.display.HTML object>"
      ]
     },
     "metadata": {},
     "output_type": "display_data"
    }
   ],
   "source": [
    "%tensorboard --host {K12AI_HOST_ADDR} --port {tb_port} --logdir {log_dir}"
   ]
  },
  {
   "cell_type": "code",
   "execution_count": 15,
   "metadata": {},
   "outputs": [],
   "source": [
    "writer.close()"
   ]
  },
  {
   "cell_type": "code",
   "execution_count": 16,
   "metadata": {},
   "outputs": [],
   "source": [
    "from tensorboard import notebook"
   ]
  },
  {
   "cell_type": "code",
   "execution_count": 17,
   "metadata": {},
   "outputs": [
    {
     "name": "stdout",
     "output_type": "stream",
     "text": [
      "Known TensorBoard instances:\n",
      "  - port 8448: logdir /data/nb_data/tmp (started 1 day, 20:19:11 ago; pid 6407)\n",
      "  - port 6006: logdir /data/nb_data/tmp (started 1 day, 20:25:04 ago; pid 6323)\n",
      "  - port 8338: logdir /data/nb_data/tmp (started 1 day, 20:19:38 ago; pid 6395)\n",
      "  - port 8748: logdir /data/nb_data/tmp (started 1 day, 20:19:03 ago; pid 6419)\n",
      "  - port 9009: logdir /data/nb_data/tmp (started 1 day, 20:19:51 ago; pid 6383)\n",
      "  - port 8008: logdir /data/nb_data/tmp (started 1 day, 20:21:17 ago; pid 6338)\n",
      "  - port 6001: logdir /data/nb_data/tmp/mnist/logs_6001 (started 0:00:00 ago; pid 4284)\n"
     ]
    }
   ],
   "source": [
    "notebook.list() # /tmp/.tensorbaord-info"
   ]
  },
  {
   "cell_type": "code",
   "execution_count": 18,
   "metadata": {},
   "outputs": [],
   "source": [
    "# notebook.display(port=6006, height=1000) # 后台已经有tensorboard进程"
   ]
  }
 ],
 "metadata": {
  "kernelspec": {
   "display_name": "Python 3",
   "language": "python",
   "name": "python3"
  },
  "language_info": {
   "codemirror_mode": {
    "name": "ipython",
    "version": 3
   },
   "file_extension": ".py",
   "mimetype": "text/x-python",
   "name": "python",
   "nbconvert_exporter": "python",
   "pygments_lexer": "ipython3",
   "version": "3.6.9"
  }
 },
 "nbformat": 4,
 "nbformat_minor": 4
}
