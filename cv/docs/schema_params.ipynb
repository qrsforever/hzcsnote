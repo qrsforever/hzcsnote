{
 "cells": [
  {
   "cell_type": "code",
   "execution_count": 25,
   "metadata": {
    "ExecuteTime": {
     "end_time": "2020-05-19T13:31:59.534048Z",
     "start_time": "2020-05-19T13:31:59.285086Z"
    }
   },
   "outputs": [],
   "source": [
    "%reload_ext autoreload\n",
    "%autoreload 2"
   ]
  },
  {
   "cell_type": "code",
   "execution_count": 26,
   "metadata": {
    "ExecuteTime": {
     "end_time": "2020-05-19T13:31:59.606166Z",
     "start_time": "2020-05-19T13:31:59.536865Z"
    }
   },
   "outputs": [],
   "source": [
    "from k12libs.utils.nb_easy import k12ai_set_notebook, k12ai_get_tooltips\n",
    "from IPython.display import Markdown"
   ]
  },
  {
   "cell_type": "code",
   "execution_count": 27,
   "metadata": {
    "ExecuteTime": {
     "end_time": "2020-05-19T13:31:59.679927Z",
     "start_time": "2020-05-19T13:31:59.609498Z"
    }
   },
   "outputs": [
    {
     "data": {
      "text/html": [
       "<style>.container { width:95% !important; }</style>"
      ],
      "text/plain": [
       "<IPython.core.display.HTML object>"
      ]
     },
     "metadata": {},
     "output_type": "display_data"
    }
   ],
   "source": [
    "k12ai_set_notebook(cellw=95)"
   ]
  },
  {
   "cell_type": "code",
   "execution_count": 32,
   "metadata": {
    "ExecuteTime": {
     "end_time": "2020-05-20T08:03:42.765595Z",
     "start_time": "2020-05-20T08:03:37.033998Z"
    }
   },
   "outputs": [],
   "source": [
    "tables = k12ai_get_tooltips(framework='k12cv', task='cls', network='resnet50', dataset='mnist')"
   ]
  },
  {
   "cell_type": "code",
   "execution_count": 34,
   "metadata": {
    "ExecuteTime": {
     "end_time": "2020-05-20T08:03:51.130421Z",
     "start_time": "2020-05-20T08:03:51.030803Z"
    },
    "scrolled": false
   },
   "outputs": [
    {
     "data": {
      "text/markdown": [
       "\n",
       "| Key | 属性名 | 类型 | 默认值 | 值范围 | 描述 |\n",
       "| :--- | :---: | :---: | :---: | :---: | :--- |\n",
       "|<img width=200/> | <img width=150/> | <img width=100/> | <img width=100/> | <img width=200/> | <img width=300/> |\n",
       "| data.include_val | Include Val | 布尔型 | False |  | include val dataset on train |\n",
       "| |\n",
       "| data.workers | Workers | 整型 | 4 | [1, 8] | the numbers of subprocesses for loading dataset |\n",
       "| |\n",
       "| data.drop_last | Drop Last | 布尔型 | False |  | drop the last incomplete batch |\n",
       "| |\n",
       "| data.input_mode | Input Mode | 枚举型 | BGR | ['RGB', 'BGR', 'GRAY'] | the image mode of model input, usually is RGB |\n",
       "| |\n",
       "| solver.display_iter | Display Iters | 整型 | 60 | [32, +inf) | report metrics every display iters |\n",
       "| |\n",
       "| solver.test_interval | Test Iters | 整型 | 300 | [64, +inf) | use validation dataset every test iters |\n",
       "| |\n",
       "| solver.save_iters | Save Iters | 整型 | 600 | [128, +inf) | save model files every save iters |\n",
       "| |\n",
       "| train.batch_size | Train Batch Size | 枚举型 | 32 | ['16', '32', '64', '128', '256'] | samples count per batch to load on training |\n",
       "| |\n",
       "| val.batch_size | Val Batch Size | 枚举型 | 32 | ['16', '32', '64', '128', '256'] | samples count per batch to load on validation |\n",
       "| |\n",
       "| test.batch_size | Test Batch Size | 枚举型 | 32 | ['16', '32', '64', '128', '256'] | samples count per batch to load on evaluating |\n",
       "| |\n",
       "| train.aug_trans.random_border.radio | radio | 浮点型 | 0.5 | [0.000000, 1.000000] | the radio of using the method |\n",
       "| |\n",
       "| train.aug_trans.random_border.pad | pad | 整型数组 | [0, 0, 0, 0] | [int, int, ...] | value like [int, int, int, int] meaning [left, top, right, bottom] of padding board, every element >= 0 |\n",
       "| |\n",
       "| train.aug_trans.random_border.mean | mean | 整型数组 | [104, 117, 124] | [int, int, ...] | padding fill value, like [r, g, b], every element between 0 and 255 |\n",
       "| |\n",
       "| val.aug_trans.random_border.radio | radio | 浮点型 | 0.5 | [0.000000, 1.000000] | the radio of using the method |\n",
       "| |\n",
       "| val.aug_trans.random_border.pad | pad | 整型数组 | [0, 0, 0, 0] | [int, int, ...] | value like [int, int, int, int] meaning [left, top, right, bottom] of padding board, every element >= 0 |\n",
       "| |\n",
       "| val.aug_trans.random_border.mean | mean | 整型数组 | [104, 117, 124] | [int, int, ...] | padding fill value, like [r, g, b], every element between 0 and 255 |\n",
       "| |\n",
       "| test.aug_trans.random_border.radio | radio | 浮点型 | 0.5 | [0.000000, 1.000000] | the radio of using the method |\n",
       "| |\n",
       "| test.aug_trans.random_border.pad | pad | 整型数组 | [0, 0, 0, 0] | [int, int, ...] | value like [int, int, int, int] meaning [left, top, right, bottom] of padding board, every element >= 0 |\n",
       "| |\n",
       "| test.aug_trans.random_border.mean | mean | 整型数组 | [104, 117, 124] | [int, int, ...] | padding fill value, like [r, g, b], every element between 0 and 255 |\n",
       "| |\n",
       "| network.resume_continue | Resume Continue | 布尔型 | False |  | continue with the last training |\n",
       "| |\n",
       "| network.pretrained | Pretrained | 布尔型 | False |  | if true using the pretrained models weights, not support custom model |\n",
       "| |\n",
       "| network.syncbn | SyncBN | 布尔型 | False |  | whether to sync BN |\n",
       "| |\n",
       "| network.resume_val | Resume Validation | 布尔型 | False |  | continue with the last training, first execute the val set |\n",
       "| |\n",
       "| metrics.precision | Precision | 布尔型 | True |  | tp / (tp + fp) |\n",
       "| |\n",
       "| metrics.recall | Recall | 布尔型 | True |  | tp / (tp + fn) |\n",
       "| |\n",
       "| metrics.fscore | Fscore | 布尔型 | False |  | harmonic mean of precision and recall |\n",
       "| |\n",
       "| metrics.gcam | G-CAM | 布尔型 | False |  | only for resnet and vgg now |\n",
       "| |\n",
       "| metrics.ggcam | Guided G-CAM | 布尔型 | False |  | only for resnet and vgg now |\n",
       "| |\n",
       "| solver.lr.base_lr | Base LR | 浮点型 | 0.01 | [0.000000, 1.000000] | learning rate |\n",
       "| |\n",
       "| solver.lr.lr_policy | LR Policy | 枚举型 | MultiStepLR | ['StepLR', 'MultiStepLR'] | set policy of decays the learning rate |\n",
       "| |\n",
       "| solver.lr.step.gamma | Gamma | 浮点型 | 0.1 | [0.001000, 0.999000] | multiplicative factor of learning rate decay |\n",
       "| |\n",
       "| solver.lr.step.step_size | Step Size | 整型 | 50 | [1, +inf) | period of learning rate decay(iters) |\n",
       "| |\n",
       "| solver.lr.multistep.gamma | Gamma | 浮点型 | 0.1 | [0.001000, 0.999000] | multiplicative factor of learning rate decay |\n",
       "| |\n",
       "| solver.lr.multistep.stepvalue | Milestones | 整型数组 | [90, 120] | [int, int, ...] | value like [int, int, ...], the element is one of of iters indices and all elements is increasing in turn |\n",
       "| |\n",
       "| solver.lr.warm.warm_iters | Warm Iters | 整型 | 1000 | (-inf, +inf) | warmup is working within the iters count |\n",
       "| |\n",
       "| solver.lr.warm.power | Power | 整型 | 1 | [1, 10] | set learning rate power value |\n",
       "| |\n",
       "| solver.lr.warm.freeze_backbone | Freeze | 布尔型 | False |  | set learning rate to 0 forcely within warm iters |\n",
       "| |\n",
       "| loss.loss_weights.ce_loss.ce_loss | Weight | 浮点型 | 1.0 | [0.000000, 1.000000] | a manual rescaling weight given to each loss class. |\n",
       "| |\n",
       "| loss.params.ce_loss.reduction | Reduction | 枚举型 | mean | ['mean', 'sum', 'none'] | specifies the reduction to apply to the output |\n",
       "| |\n",
       "| loss.params.ce_loss.ignore_index | Ignore Index | 整型 | -1 | (-inf, +inf) | specifies a target value that is ignored and does not contribute to the input gradient. |\n",
       "| |\n",
       "| loss.loss_weights.soft_ce_loss.ce_loss | Weight | 浮点型 | 1.0 | [0.000000, 1.000000] | a manual rescaling weight given to each loss class. |\n",
       "| |\n",
       "| loss.params.soft_ce_loss.reduction | Reduction | 枚举型 | batchmean | ['batchmean', 'mean', 'sum', 'none'] | specifies the reduction to apply to the output |\n",
       "| |\n",
       "| loss.params.soft_ce_loss.label_smooth | Label Smooth | 浮点型 | 0.1 | [0.000000, 1.000000] | LSR: label-smoothing regularization |\n",
       "| |\n",
       "| solver.optim.sgd.weight_decay | Decay | 浮点型 | 0.001 | [0.000000, 1.000000] | weight decay (L2 penalty) |\n",
       "| |\n",
       "| solver.optim.sgd.momentum | Momentum | 浮点型 | 0.9 | [0.000000, 1.000000] | momentum factor |\n",
       "| |\n",
       "| solver.optim.sgd.nesterov | Nesterov | 布尔型 | False |  | whether using Nesterov momentum |\n",
       "| |\n",
       "| solver.optim.adam.weight_decay | Decay | 浮点型 | 0.001 | [0.000000, 1.000000] | weight decay (L2 penalty) |\n",
       "| |\n",
       "| solver.optim.adam.betas | Betas | 浮点数组 | [0.5, 0.999] | [float, float, ...] | value like [float, float], every element range [0.0, 1) |\n",
       "| |\n"
      ],
      "text/plain": [
       "<IPython.core.display.Markdown object>"
      ]
     },
     "execution_count": 34,
     "metadata": {},
     "output_type": "execute_result"
    }
   ],
   "source": [
    "data = '''\n",
    "| Key | 属性名 | 类型 | 默认值 | 值范围 | 描述 |\n",
    "| :--- | :---: | :---: | :---: | :---: | :--- |\n",
    "|<img width=200/> | <img width=150/> | <img width=100/> | <img width=100/> | <img width=200/> | <img width=300/> |\n",
    "'''\n",
    "for key, attr, ty, default, rng, tips in tables:\n",
    "    data += f'| {key} | {attr} | {ty} | {default} | {rng} | {tips} |\\n| |\\n'\n",
    "    \n",
    "Markdown(data)"
   ]
  }
 ],
 "metadata": {
  "kernelspec": {
   "display_name": "Python 3",
   "language": "python",
   "name": "python3"
  },
  "language_info": {
   "codemirror_mode": {
    "name": "ipython",
    "version": 3
   },
   "file_extension": ".py",
   "mimetype": "text/x-python",
   "name": "python",
   "nbconvert_exporter": "python",
   "pygments_lexer": "ipython3",
   "version": "3.6.9"
  }
 },
 "nbformat": 4,
 "nbformat_minor": 4
}
