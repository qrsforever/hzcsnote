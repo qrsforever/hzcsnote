{
 "cells": [
  {
   "cell_type": "code",
   "execution_count": 1,
   "metadata": {
    "ExecuteTime": {
     "end_time": "2020-07-27T15:11:50.020385Z",
     "start_time": "2020-07-27T15:11:47.875576Z"
    }
   },
   "outputs": [
    {
     "name": "stdout",
     "output_type": "stream",
     "text": [
      "CPython 3.6.9\n",
      "IPython 7.16.1\n",
      "\n",
      "numpy 1.18.5\n",
      "pandas 1.0.4\n",
      "matplotlib 3.2.1\n",
      "sklearn 0.23.1\n",
      "torch 1.6.0.dev20200609+cu101\n",
      "torchvision 0.7.0.dev20200609+cu101\n",
      "pytorch_lightning 0.8.5\n"
     ]
    }
   ],
   "source": [
    "%reload_ext watermark\n",
    "%reload_ext autoreload\n",
    "%autoreload 2\n",
    "%matplotlib inline\n",
    "%watermark -v -p numpy,pandas,matplotlib,sklearn,torch,torchvision,pytorch_lightning"
   ]
  },
  {
   "cell_type": "code",
   "execution_count": 2,
   "metadata": {
    "ExecuteTime": {
     "end_time": "2020-07-27T15:11:50.340048Z",
     "start_time": "2020-07-27T15:11:50.023492Z"
    }
   },
   "outputs": [
    {
     "data": {
      "text/html": [
       "<style>.container { width:90% !important; }</style>"
      ],
      "text/plain": [
       "<IPython.core.display.HTML object>"
      ]
     },
     "metadata": {},
     "output_type": "display_data"
    }
   ],
   "source": [
    "from k12libs.utils.nb_easy import k12ai_train_execute\n",
    "from k12libs.utils.nb_easy import k12ai_get_data, k12ai_get_top_dir\n",
    "from k12libs.utils.nb_easy import k12ai_print, k12ai_set_notebook\n",
    "import os\n",
    "import json\n",
    "import pandas as pd\n",
    "\n",
    "import matplotlib.pyplot as plt\n",
    "\n",
    "pd.options.display.max_rows=None\n",
    "pd.options.display.max_columns=None\n",
    "\n",
    "k12ai_set_notebook(cellw=90)"
   ]
  },
  {
   "cell_type": "code",
   "execution_count": 3,
   "metadata": {
    "ExecuteTime": {
     "end_time": "2020-07-27T15:11:50.408938Z",
     "start_time": "2020-07-27T15:11:50.344711Z"
    }
   },
   "outputs": [],
   "source": [
    "backbones = [\n",
    "    'resnet18',           # 0\n",
    "    'resnet50',           # 1\n",
    "    'densenet121',        # 2\n",
    "    'mobilenet_v2',       # 3\n",
    "    'squeezenet1_0',      # 4\n",
    "    'squeezenet1_1',      # 5\n",
    "    'shufflenet_v2_x0_5', # 6\n",
    "    'shufflenet_v2_x1_0', # 7\n",
    "]\n",
    "\n",
    "datasets = ['rmnist', 'flowers', 'rchestxray', 'rDogsVsCats']\n",
    "batch_sizes = [8, 16, 32, 64]\n",
    "input_sizes = [28, 32, 64, 128, 224]"
   ]
  },
  {
   "cell_type": "markdown",
   "metadata": {},
   "source": [
    "## 记录"
   ]
  },
  {
   "cell_type": "code",
   "execution_count": 4,
   "metadata": {
    "ExecuteTime": {
     "end_time": "2020-07-27T15:11:50.466497Z",
     "start_time": "2020-07-27T15:11:50.412330Z"
    }
   },
   "outputs": [],
   "source": [
    "def mem_stat(dataset, force=False):\n",
    "    stat_file = os.path.join(k12ai_get_top_dir(), 'assets', f'{dataset}_stats.json')\n",
    "    if os.path.exists(stat_file):\n",
    "        if not force:\n",
    "            print(f'already exist: {stat_file}')\n",
    "            return\n",
    "    max_try = 1800\n",
    "    stats = []\n",
    "    for net in backbones:\n",
    "        for bs in batch_sizes:\n",
    "            for ss in input_sizes:\n",
    "                print(' '*20, net, bs, ss)\n",
    "                trycnt = max_try\n",
    "                keys = k12ai_train_execute(\n",
    "                    framework='k12cv', task='cls',\n",
    "                    network=net, dataset=dataset,\n",
    "                    batchsize=bs, inputsize=ss, epoch_num=2, run_num=1)\n",
    "                while trycnt > 0:\n",
    "                    data = k12ai_get_data(keys[0], 'error', num=1, rm=True, waitcnt=2)\n",
    "                    if data:\n",
    "                        try:\n",
    "                            result = data[0]['value']\n",
    "                            code = result['data']['code']\n",
    "                            if code == 100004 or code > 100100: # stop or error\n",
    "                                print('-'*40)\n",
    "                                print(result)\n",
    "                                print('-'*40)\n",
    "                                break\n",
    "                            elif code == 100003: # finish\n",
    "                                stats.append(result)\n",
    "                                print('-'*40)\n",
    "                                print(result)\n",
    "                                print('-'*40)\n",
    "                                break\n",
    "                        except Exception as err:\n",
    "                            print(err, keys[0])\n",
    "                    trycnt -= 1\n",
    "    with open(stat_file, 'w') as f:\n",
    "        json.dump(stats, f)"
   ]
  },
  {
   "cell_type": "code",
   "execution_count": null,
   "metadata": {
    "ExecuteTime": {
     "start_time": "2020-07-27T15:11:47.864Z"
    },
    "scrolled": false
   },
   "outputs": [
    {
     "name": "stdout",
     "output_type": "stream",
     "text": [
      "/hzcsk12/hzcsnote/assets/rmnist_stats.json\n",
      "already exist: /hzcsk12/hzcsnote/assets/rmnist_stats.json\n",
      "/hzcsk12/hzcsnote/assets/flowers_stats.json\n",
      "                     resnet18 8 28\n"
     ]
    }
   ],
   "source": [
    "for dataset in datasets:\n",
    "    mem_stat(dataset, force=False)"
   ]
  },
  {
   "cell_type": "markdown",
   "metadata": {},
   "source": [
    "## 分析mnist"
   ]
  },
  {
   "cell_type": "markdown",
   "metadata": {},
   "source": [
    "### 读取信息"
   ]
  },
  {
   "cell_type": "code",
   "execution_count": null,
   "metadata": {
    "ExecuteTime": {
     "start_time": "2020-07-27T15:11:47.868Z"
    }
   },
   "outputs": [],
   "source": [
    "with open(os.path.join(k12ai_get_top_dir(), 'assets', 'rmnist_stats.json'), 'r') as f:\n",
    "    items = json.load(f)\n",
    "len(items), len(backbones) * len(batch_sizes) * len(input_sizes)"
   ]
  },
  {
   "cell_type": "markdown",
   "metadata": {},
   "source": [
    "### 提取信息"
   ]
  },
  {
   "cell_type": "code",
   "execution_count": null,
   "metadata": {
    "ExecuteTime": {
     "start_time": "2020-07-27T15:11:47.870Z"
    },
    "scrolled": false
   },
   "outputs": [],
   "source": [
    "# k12ai_print(items[0])"
   ]
  },
  {
   "cell_type": "code",
   "execution_count": null,
   "metadata": {
    "ExecuteTime": {
     "start_time": "2020-07-27T15:11:47.873Z"
    }
   },
   "outputs": [],
   "source": [
    "stats = []\n",
    "for el in items:\n",
    "    data = el['data']['expand']\n",
    "    stats.append({\n",
    "        'dataset_name': data['environ']['dataset_name'],\n",
    "        'model_name': data['environ']['model_name'],\n",
    "        'batch_size': int(data['environ']['batch_size']),\n",
    "        'input_size': eval(data['environ']['input_size'])[0],\n",
    "        'epoch_time': data['uptime'] / float(data['environ']['num_epochs']),\n",
    "        'cpu_memory_usage_MB': data['resource']['containers'][0]['cpu_memory_usage_MB'],\n",
    "        'gpu_memory_usage_MB': data['resource']['containers'][0]['gpu_memory_usage_MB']\n",
    "    })\n",
    "stats[0], len(stats) "
   ]
  },
  {
   "cell_type": "code",
   "execution_count": null,
   "metadata": {
    "ExecuteTime": {
     "start_time": "2020-07-27T15:11:47.876Z"
    }
   },
   "outputs": [],
   "source": [
    "# Err: 1\n",
    "# k12ai_train_execute(\n",
    "#     framework='k12cv', task='cls',\n",
    "#     network='resnet18', dataset='rmnist',\n",
    "#     batchsize=32, inputsize=28, epoch_num=2, run_num=1)"
   ]
  },
  {
   "cell_type": "code",
   "execution_count": null,
   "metadata": {
    "ExecuteTime": {
     "start_time": "2020-07-27T15:11:47.881Z"
    }
   },
   "outputs": [],
   "source": [
    "# Err: 2\n",
    "# k12ai_train_execute(\n",
    "#     framework='k12cv', task='cls',\n",
    "#     network='shufflenet_v2_x1_0', dataset='rmnist',\n",
    "#     batchsize=32, inputsize=28, epoch_num=2, run_num=1)"
   ]
  },
  {
   "cell_type": "code",
   "execution_count": null,
   "metadata": {
    "ExecuteTime": {
     "start_time": "2020-07-27T15:11:47.884Z"
    }
   },
   "outputs": [],
   "source": [
    "# Err: 3\n",
    "# k12ai_train_execute(\n",
    "#     framework='k12cv', task='cls',\n",
    "#     network='shufflenet_v2_x1_0', dataset='rmnist',\n",
    "#     batchsize=32, inputsize=32, epoch_num=2, run_num=1)"
   ]
  },
  {
   "cell_type": "markdown",
   "metadata": {},
   "source": [
    "### 图表显示"
   ]
  },
  {
   "cell_type": "code",
   "execution_count": null,
   "metadata": {
    "ExecuteTime": {
     "start_time": "2020-07-27T15:11:47.887Z"
    }
   },
   "outputs": [],
   "source": [
    "df_mnist = pd.DataFrame(stats)"
   ]
  },
  {
   "cell_type": "markdown",
   "metadata": {},
   "source": [
    "#### 整体分组表"
   ]
  },
  {
   "cell_type": "code",
   "execution_count": null,
   "metadata": {
    "ExecuteTime": {
     "start_time": "2020-07-27T15:11:47.890Z"
    },
    "scrolled": false
   },
   "outputs": [],
   "source": [
    "table_mnist = pd.pivot_table(df_mnist, index=['model_name', 'batch_size', 'input_size'])\n",
    "table_mnist"
   ]
  },
  {
   "cell_type": "markdown",
   "metadata": {},
   "source": [
    "#### 整体GPU表"
   ]
  },
  {
   "cell_type": "code",
   "execution_count": null,
   "metadata": {
    "ExecuteTime": {
     "start_time": "2020-07-27T15:11:47.893Z"
    }
   },
   "outputs": [],
   "source": [
    "table_mnist.plot(kind='bar', y='gpu_memory_usage_MB', figsize=(24, 12), fontsize='small');"
   ]
  },
  {
   "cell_type": "markdown",
   "metadata": {},
   "source": [
    "#### 整体CPU表"
   ]
  },
  {
   "cell_type": "code",
   "execution_count": null,
   "metadata": {
    "ExecuteTime": {
     "start_time": "2020-07-27T15:11:47.896Z"
    }
   },
   "outputs": [],
   "source": [
    "table_mnist.plot(kind='bar', y='cpu_memory_usage_MB', figsize=(24, 12), fontsize='small');"
   ]
  },
  {
   "cell_type": "markdown",
   "metadata": {},
   "source": [
    "#### 整体时间消耗表"
   ]
  },
  {
   "cell_type": "code",
   "execution_count": null,
   "metadata": {
    "ExecuteTime": {
     "start_time": "2020-07-27T15:11:47.899Z"
    }
   },
   "outputs": [],
   "source": [
    "table_mnist.plot(kind='bar', y='epoch_time', figsize=(24, 12), fontsize='small');"
   ]
  },
  {
   "cell_type": "markdown",
   "metadata": {},
   "source": [
    "#### 模型GPU表"
   ]
  },
  {
   "cell_type": "code",
   "execution_count": null,
   "metadata": {
    "ExecuteTime": {
     "start_time": "2020-07-27T15:11:47.902Z"
    },
    "scrolled": false
   },
   "outputs": [],
   "source": [
    "models_grouped = df_mnist.groupby(by='model_name')\n",
    "for model_name in models_grouped.groups:\n",
    "    model_df = models_grouped.get_group(model_name)\n",
    "    table = pd.pivot_table(model_df, index=['batch_size', 'input_size']) \n",
    "    table.plot(kind='bar', title=f'{model_name}', y='gpu_memory_usage_MB', figsize=(12, 8), fontsize=12) \n",
    "    xmin, xmax = plt.xlim()\n",
    "    plt.hlines(y=2000, xmin=xmin, xmax=xmax, colors='red')"
   ]
  },
  {
   "cell_type": "markdown",
   "metadata": {},
   "source": [
    "#### 模型CPU表"
   ]
  },
  {
   "cell_type": "code",
   "execution_count": null,
   "metadata": {
    "ExecuteTime": {
     "start_time": "2020-07-27T15:11:47.906Z"
    },
    "scrolled": false
   },
   "outputs": [],
   "source": [
    "models_grouped = df_mnist.groupby(by='model_name')\n",
    "for model_name in models_grouped.groups:\n",
    "    model_df = models_grouped.get_group(model_name)\n",
    "    table = pd.pivot_table(model_df, index=['batch_size', 'input_size']) \n",
    "    table.plot(kind='bar', title=f'{model_name}', y='cpu_memory_usage_MB', figsize=(12, 8), fontsize=12) \n",
    "    xmin, xmax = plt.xlim()\n",
    "    plt.hlines(y=2000, xmin=xmin, xmax=xmax, colors='red')"
   ]
  },
  {
   "cell_type": "markdown",
   "metadata": {},
   "source": [
    "#### 模型时间消耗表"
   ]
  },
  {
   "cell_type": "code",
   "execution_count": null,
   "metadata": {
    "ExecuteTime": {
     "start_time": "2020-07-27T15:11:47.909Z"
    },
    "scrolled": false
   },
   "outputs": [],
   "source": [
    "models_grouped = df_mnist.groupby(by='model_name')\n",
    "for model_name in models_grouped.groups:\n",
    "    model_df = models_grouped.get_group(model_name)\n",
    "    table = pd.pivot_table(model_df, index=['batch_size', 'input_size']) \n",
    "    table.plot(kind='bar', title=f'{model_name}', y='epoch_time', figsize=(12, 8), fontsize=12) \n",
    "    xmin, xmax = plt.xlim()\n",
    "    plt.hlines(y=60,  xmin=xmin, xmax=xmax, colors='green')\n",
    "    plt.hlines(y=120, xmin=xmin, xmax=xmax, colors='blue')\n",
    "    plt.hlines(y=180, xmin=xmin, xmax=xmax, colors='red')"
   ]
  },
  {
   "cell_type": "markdown",
   "metadata": {},
   "source": [
    "## 分析chestxray"
   ]
  },
  {
   "cell_type": "markdown",
   "metadata": {},
   "source": [
    "### 读取信息"
   ]
  },
  {
   "cell_type": "code",
   "execution_count": null,
   "metadata": {
    "ExecuteTime": {
     "start_time": "2020-07-27T15:11:47.913Z"
    }
   },
   "outputs": [],
   "source": [
    "with open(os.path.join(k12ai_get_top_dir(), 'assets', 'rchestxray_stats.json'), 'r') as f:\n",
    "    items = json.load(f)\n",
    "len(items), len(backbones) * len(batch_sizes) * len(input_sizes)"
   ]
  },
  {
   "cell_type": "markdown",
   "metadata": {},
   "source": [
    "### 提取信息"
   ]
  },
  {
   "cell_type": "code",
   "execution_count": null,
   "metadata": {
    "ExecuteTime": {
     "start_time": "2020-07-27T15:11:47.917Z"
    },
    "scrolled": false
   },
   "outputs": [],
   "source": [
    "# k12ai_print(items[0])"
   ]
  },
  {
   "cell_type": "code",
   "execution_count": null,
   "metadata": {
    "ExecuteTime": {
     "start_time": "2020-07-27T15:11:47.920Z"
    }
   },
   "outputs": [],
   "source": [
    "stats = []\n",
    "for el in items:\n",
    "    data = el['data']['expand']\n",
    "    stats.append({\n",
    "        'dataset_name': data['environ']['dataset_name'],\n",
    "        'model_name': data['environ']['model_name'],\n",
    "        'batch_size': int(data['environ']['batch_size']),\n",
    "        'input_size': eval(data['environ']['input_size'])[0],\n",
    "        'epoch_time': data['uptime'] / float(data['environ']['num_epochs']),\n",
    "        'cpu_memory_usage_MB': data['resource']['containers'][0]['cpu_memory_usage_MB'],\n",
    "        'gpu_memory_usage_MB': data['resource']['containers'][0]['gpu_memory_usage_MB']\n",
    "    })\n",
    "stats[0], len(stats) "
   ]
  },
  {
   "cell_type": "markdown",
   "metadata": {},
   "source": [
    "### 图表显示"
   ]
  },
  {
   "cell_type": "code",
   "execution_count": null,
   "metadata": {
    "ExecuteTime": {
     "start_time": "2020-07-27T15:11:47.922Z"
    }
   },
   "outputs": [],
   "source": [
    "df_xray = pd.DataFrame(stats)"
   ]
  },
  {
   "cell_type": "markdown",
   "metadata": {},
   "source": [
    "#### 低于2G组合"
   ]
  },
  {
   "cell_type": "code",
   "execution_count": null,
   "metadata": {
    "ExecuteTime": {
     "start_time": "2020-07-27T15:11:47.925Z"
    },
    "scrolled": false
   },
   "outputs": [],
   "source": [
    "df_gpu2G = df_xray[df_xray['gpu_memory_usage_MB'] < 2000]\n",
    "pd.pivot_table(df_gpu2G, index=['model_name', 'batch_size', 'input_size'])"
   ]
  },
  {
   "cell_type": "markdown",
   "metadata": {},
   "source": [
    "#### 整体分组表"
   ]
  },
  {
   "cell_type": "code",
   "execution_count": null,
   "metadata": {
    "ExecuteTime": {
     "start_time": "2020-07-27T15:11:47.928Z"
    },
    "scrolled": false
   },
   "outputs": [],
   "source": [
    "table_xray = pd.pivot_table(df_xray, index=['model_name', 'batch_size', 'input_size'])\n",
    "table_xray"
   ]
  },
  {
   "cell_type": "markdown",
   "metadata": {},
   "source": [
    "#### 整体GPU表"
   ]
  },
  {
   "cell_type": "code",
   "execution_count": null,
   "metadata": {
    "ExecuteTime": {
     "start_time": "2020-07-27T15:11:47.931Z"
    }
   },
   "outputs": [],
   "source": [
    "table_xray.plot(kind='bar', y='gpu_memory_usage_MB', figsize=(24, 12), fontsize='small');"
   ]
  },
  {
   "cell_type": "markdown",
   "metadata": {},
   "source": [
    "#### 整体CPU表"
   ]
  },
  {
   "cell_type": "code",
   "execution_count": null,
   "metadata": {
    "ExecuteTime": {
     "start_time": "2020-07-27T15:11:47.934Z"
    }
   },
   "outputs": [],
   "source": [
    "table_xray.plot(kind='bar', y='cpu_memory_usage_MB', figsize=(24, 12), fontsize='small');"
   ]
  },
  {
   "cell_type": "markdown",
   "metadata": {},
   "source": [
    "#### 整体时间消耗表"
   ]
  },
  {
   "cell_type": "code",
   "execution_count": null,
   "metadata": {
    "ExecuteTime": {
     "start_time": "2020-07-27T15:11:47.937Z"
    }
   },
   "outputs": [],
   "source": [
    "table_xray.plot(kind='bar', y='epoch_time', figsize=(24, 12), fontsize='small');"
   ]
  },
  {
   "cell_type": "markdown",
   "metadata": {},
   "source": [
    "#### 模型GPU表"
   ]
  },
  {
   "cell_type": "code",
   "execution_count": null,
   "metadata": {
    "ExecuteTime": {
     "start_time": "2020-07-27T15:11:47.940Z"
    },
    "scrolled": false
   },
   "outputs": [],
   "source": [
    "models_grouped = df_xray.groupby(by='model_name')\n",
    "for model_name in models_grouped.groups:\n",
    "    model_df = models_grouped.get_group(model_name)\n",
    "    table = pd.pivot_table(model_df, index=['batch_size', 'input_size']) \n",
    "    table.plot(kind='bar', title=f'{model_name}', y='gpu_memory_usage_MB', figsize=(12, 8), fontsize=12) \n",
    "    xmin, xmax = plt.xlim()\n",
    "    plt.hlines(y=2000, xmin=xmin, xmax=xmax, colors='red')"
   ]
  },
  {
   "cell_type": "markdown",
   "metadata": {},
   "source": [
    "#### 模型CPU表"
   ]
  },
  {
   "cell_type": "code",
   "execution_count": null,
   "metadata": {
    "ExecuteTime": {
     "start_time": "2020-07-27T15:11:47.942Z"
    },
    "scrolled": false
   },
   "outputs": [],
   "source": [
    "models_grouped = df_xray.groupby(by='model_name')\n",
    "for model_name in models_grouped.groups:\n",
    "    model_df = models_grouped.get_group(model_name)\n",
    "    table = pd.pivot_table(model_df, index=['batch_size', 'input_size']) \n",
    "    table.plot(kind='bar', title=f'{model_name}', y='cpu_memory_usage_MB', figsize=(12, 8), fontsize=12) \n",
    "    xmin, xmax = plt.xlim()\n",
    "    plt.hlines(y=2000, xmin=xmin, xmax=xmax, colors='red')"
   ]
  },
  {
   "cell_type": "markdown",
   "metadata": {},
   "source": [
    "#### 模型时间消耗表"
   ]
  },
  {
   "cell_type": "code",
   "execution_count": null,
   "metadata": {
    "ExecuteTime": {
     "start_time": "2020-07-27T15:11:47.946Z"
    },
    "scrolled": false
   },
   "outputs": [],
   "source": [
    "models_grouped = df_xray.groupby(by='model_name')\n",
    "for model_name in models_grouped.groups:\n",
    "    model_df = models_grouped.get_group(model_name)\n",
    "    table = pd.pivot_table(model_df, index=['batch_size', 'input_size']) \n",
    "    table.plot(kind='bar', title=f'{model_name}', y='epoch_time', figsize=(12, 8), fontsize=12) \n",
    "    xmin, xmax = plt.xlim()\n",
    "    plt.hlines(y=5, xmin=xmin, xmax=xmax, colors='green')\n",
    "    plt.hlines(y=10, xmin=xmin, xmax=xmax, colors='blue')\n",
    "    plt.hlines(y=15, xmin=xmin, xmax=xmax, colors='red')"
   ]
  }
 ],
 "metadata": {
  "kernelspec": {
   "display_name": "Python 3",
   "language": "python",
   "name": "python3"
  },
  "language_info": {
   "codemirror_mode": {
    "name": "ipython",
    "version": 3
   },
   "file_extension": ".py",
   "mimetype": "text/x-python",
   "name": "python",
   "nbconvert_exporter": "python",
   "pygments_lexer": "ipython3",
   "version": "3.6.9"
  },
  "toc": {
   "base_numbering": 1,
   "nav_menu": {},
   "number_sections": true,
   "sideBar": true,
   "skip_h1_title": true,
   "title_cell": "",
   "title_sidebar": "Contents",
   "toc_cell": false,
   "toc_position": {
    "height": "calc(100% - 180px)",
    "left": "10px",
    "top": "150px",
    "width": "307.2px"
   },
   "toc_section_display": true,
   "toc_window_display": false
  }
 },
 "nbformat": 4,
 "nbformat_minor": 4
}
