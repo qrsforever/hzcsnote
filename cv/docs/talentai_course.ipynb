{
 "cells": [
  {
   "cell_type": "markdown",
   "metadata": {},
   "source": [
    "# <div align='center'> 课程安排 </div>"
   ]
  },
  {
   "cell_type": "markdown",
   "metadata": {},
   "source": [
    "## 初识人工智能\n",
    "\n",
    "了解人工智能，激发兴趣\n",
    "\n",
    "- 人工智能的应用与价值\n",
    "\n",
    "- 人工智能作为一次科技浪潮的特点\n",
    "\n",
    "- 后续学习规划"
   ]
  },
  {
   "cell_type": "markdown",
   "metadata": {},
   "source": [
    "## 实践体验课\n",
    "\n",
    "了解人工智能，激发兴趣\n",
    "\n",
    "- 了解人工智能任务基本流程（训练与评估）\n",
    "\n",
    "- 了解数据与样本\n",
    "\n",
    "- 了解准确率与损失\n",
    "\n",
    "- 初步建立训练耗时概念"
   ]
  },
  {
   "cell_type": "code",
   "execution_count": null,
   "metadata": {},
   "outputs": [],
   "source": []
  }
 ],
 "metadata": {
  "kernelspec": {
   "display_name": "Python 3",
   "language": "python",
   "name": "python3"
  },
  "language_info": {
   "codemirror_mode": {
    "name": "ipython",
    "version": 3
   },
   "file_extension": ".py",
   "mimetype": "text/x-python",
   "name": "python",
   "nbconvert_exporter": "python",
   "pygments_lexer": "ipython3",
   "version": "3.6.9"
  },
  "toc": {
   "base_numbering": 1,
   "nav_menu": {},
   "number_sections": true,
   "sideBar": true,
   "skip_h1_title": true,
   "title_cell": "",
   "title_sidebar": "Contents",
   "toc_cell": false,
   "toc_position": {},
   "toc_section_display": true,
   "toc_window_display": false
  }
 },
 "nbformat": 4,
 "nbformat_minor": 4
}
