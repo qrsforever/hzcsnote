{
 "cells": [
  {
   "cell_type": "markdown",
   "metadata": {},
   "source": [
    "# <div align=\"center\"> Lenet可视化 </div>"
   ]
  },
  {
   "cell_type": "code",
   "execution_count": 45,
   "metadata": {},
   "outputs": [],
   "source": [
    "%reload_ext autoreload\n",
    "%reload_ext tensorboard\n",
    "%autoreload 2\n",
    "%matplotlib inline"
   ]
  },
  {
   "cell_type": "markdown",
   "metadata": {},
   "source": [
    "## Metrics\n",
    "\n",
    "### 过程类\n",
    "\n",
    "1. [x] 训练过程中的输入到模型的图片(增强变换之后)\n",
    "2. [x] loss & loss_avg: training loss, Validation loss\n",
    "3. [x] lr\n",
    "4. [x] weight, bias and grad histogram\n",
    "\n",
    "\n",
    "### 结果类\n",
    "\n",
    "1. [x] accuracy & accuracy_topX\n",
    "2. [x] confusion matrix\n",
    "3. [x] model graph (tensorboard)\n",
    "4. [ ] 展示分错次数多的分类\n",
    "5. [ ] psnr & ssim\n",
    "6. [x] 精确度, 召回率, F1, \n",
    "7. [ ] ROC曲线, AUC, 特异性\n",
    "\n",
    "\n",
    "### 性能类\n",
    "\n",
    "1. [x] cpu/gpu内存 利用率\n",
    "2. [x] 训练速度"
   ]
  },
  {
   "cell_type": "code",
   "execution_count": 46,
   "metadata": {
    "scrolled": false
   },
   "outputs": [],
   "source": [
    "import os\n",
    "import shutil\n",
    "import time\n",
    "import numpy as np\n",
    "import pandas as pd\n",
    "import torch\n",
    "import torch.nn.functional as F\n",
    "import torchvision\n",
    "\n",
    "from torch.utils.tensorboard import SummaryWriter\n",
    "from torch.utils.data import DataLoader\n",
    "from torchvision import transforms\n",
    "from torchvision.datasets import MNIST \n",
    "\n",
    "from sklearn.metrics import accuracy_score\n",
    "from sklearn.metrics import precision_score\n",
    "from sklearn.metrics import recall_score\n",
    "from sklearn.metrics import f1_score\n",
    "from sklearn.metrics import cohen_kappa_score\n",
    "from sklearn.metrics import roc_auc_score\n",
    "from sklearn.metrics import confusion_matrix\n",
    "from sklearn.metrics import precision_recall_fscore_support as score\n",
    "\n",
    "from tqdm.notebook import tqdm\n",
    "from matplotlib import pyplot as plt\n",
    "\n",
    "import signal\n",
    "from tensorboard import notebook\n",
    "from tensorboard import manager\n",
    "\n",
    "from k12libs.utils.nb_easy import K12AI_HOST_ADDR, K12AI_NBDATA_ROOT\n",
    "from k12libs.utils.nb_easy import k12ai_set_notebook\n",
    "from k12libs.utils.nb_easy import k12ai_start_tensorboard"
   ]
  },
  {
   "cell_type": "code",
   "execution_count": 47,
   "metadata": {},
   "outputs": [
    {
     "data": {
      "text/html": [
       "<style>.container { width:100% !important; }</style>"
      ],
      "text/plain": [
       "<IPython.core.display.HTML object>"
      ]
     },
     "metadata": {},
     "output_type": "display_data"
    }
   ],
   "source": [
    "k12ai_set_notebook(cellw=100)"
   ]
  },
  {
   "cell_type": "code",
   "execution_count": 48,
   "metadata": {},
   "outputs": [],
   "source": [
    "def imshow(img, title=None):\n",
    "    img = img.numpy().transpose((1, 2, 0))\n",
    "    mean = np.array((0.1307,))\n",
    "    std = np.array((0.3081,))\n",
    "    print(img.shape, mean.shape, std.shape)\n",
    "    inp = std * img + mean\n",
    "    inp = np.clip(inp, 0, 1)\n",
    "    plt.imshow(inp)\n",
    "    if title is not None:\n",
    "        plt.title(title)\n",
    "    plt.pause(0.001)  # update"
   ]
  },
  {
   "cell_type": "code",
   "execution_count": 49,
   "metadata": {},
   "outputs": [],
   "source": [
    "transform = transforms.Compose([transforms.ToTensor(), transforms.Normalize((0.1307,), (0.3081,))])\n",
    "\n",
    "trainset = MNIST(root=f'{K12AI_NBDATA_ROOT}/datasets', train=False, download=True, transform=transform)\n",
    "trainloader = DataLoader(trainset, batch_size=64, shuffle=True, num_workers=2)\n",
    "\n",
    "valset = MNIST(root=f'{K12AI_NBDATA_ROOT}/datasets', train=False, download=True, transform=transform)\n",
    "valloader = DataLoader(valset, batch_size=64, shuffle=False, num_workers=2)"
   ]
  },
  {
   "cell_type": "code",
   "execution_count": 50,
   "metadata": {},
   "outputs": [
    {
     "data": {
      "text/plain": [
       "(['0 - zero',\n",
       "  '1 - one',\n",
       "  '2 - two',\n",
       "  '3 - three',\n",
       "  '4 - four',\n",
       "  '5 - five',\n",
       "  '6 - six',\n",
       "  '7 - seven',\n",
       "  '8 - eight',\n",
       "  '9 - nine'],\n",
       " tensor([7, 2, 1,  ..., 4, 5, 6]))"
      ]
     },
     "execution_count": 50,
     "metadata": {},
     "output_type": "execute_result"
    }
   ],
   "source": [
    "trainset.classes, trainset.targets"
   ]
  },
  {
   "cell_type": "code",
   "execution_count": 51,
   "metadata": {
    "scrolled": true
   },
   "outputs": [
    {
     "data": {
      "text/plain": [
       "(array([ 980., 1135., 1032., 1010.,  982.,  892.,  958., 1028.,  974.,\n",
       "        1009.]),\n",
       " array([0. , 0.9, 1.8, 2.7, 3.6, 4.5, 5.4, 6.3, 7.2, 8.1, 9. ]),\n",
       " <a list of 1 Patch objects>)"
      ]
     },
     "execution_count": 51,
     "metadata": {},
     "output_type": "execute_result"
    },
    {
     "data": {
      "image/png": "[encoded data removed]",
      "text/plain": [
       "<Figure size 432x288 with 1 Axes>"
      ]
     },
     "metadata": {
      "needs_background": "light"
     },
     "output_type": "display_data"
    }
   ],
   "source": [
    "plt.hist(trainset.targets, bins=10, density=False, histtype='stepfilled', alpha=0.3)"
   ]
  },
  {
   "cell_type": "code",
   "execution_count": 74,
   "metadata": {
    "scrolled": false
   },
   "outputs": [
    {
     "name": "stdout",
     "output_type": "stream",
     "text": [
      "batch size =  64  shape =  torch.Size([3, 122, 242]) pic =  torch.Size([1, 28, 28])\n",
      "(122, 242, 3) (1,) (1,)\n"
     ]
    },
    {
     "data": {
      "image/png": "[encoded data removed]",
      "text/plain": [
       "<Figure size 432x288 with 1 Axes>"
      ]
     },
     "metadata": {
      "needs_background": "light"
     },
     "output_type": "display_data"
    }
   ],
   "source": [
    "images, labels = next(iter(valloader))\n",
    "img = torchvision.utils.make_grid(images[:32, :, :, :])\n",
    "print('batch size = ', len(labels), ' shape = ', img.shape, 'pic = ', images[0].shape)\n",
    "imshow(img)"
   ]
  },
  {
   "cell_type": "code",
   "execution_count": 75,
   "metadata": {},
   "outputs": [
    {
     "name": "stdout",
     "output_type": "stream",
     "text": [
      "<class 'torch.Tensor'>\n"
     ]
    }
   ],
   "source": [
    "print(type(img))"
   ]
  },
  {
   "cell_type": "code",
   "execution_count": 67,
   "metadata": {},
   "outputs": [],
   "source": [
    "img2 = transforms.ToPILImage()(img)\n",
    "img2.show()"
   ]
  },
  {
   "cell_type": "code",
   "execution_count": 72,
   "metadata": {},
   "outputs": [
    {
     "ename": "AttributeError",
     "evalue": "'Image' object has no attribute 'numpy'",
     "output_type": "error",
     "traceback": [
      "\u001b[0;31m\u001b[0m",
      "\u001b[0;31mAttributeError\u001b[0mTraceback (most recent call last)",
      "\u001b[0;32m<ipython-input-72-d3e8675a6371>\u001b[0m in \u001b[0;36m<module>\u001b[0;34m\u001b[0m\n\u001b[1;32m      1\u001b[0m \u001b[0mt_out\u001b[0m \u001b[0;34m=\u001b[0m \u001b[0mtorch\u001b[0m\u001b[0;34m.\u001b[0m\u001b[0mrandn\u001b[0m\u001b[0;34m(\u001b[0m\u001b[0;36m3\u001b[0m\u001b[0;34m,\u001b[0m\u001b[0;36m10\u001b[0m\u001b[0;34m,\u001b[0m\u001b[0;36m10\u001b[0m\u001b[0;34m)\u001b[0m\u001b[0;34m\u001b[0m\u001b[0;34m\u001b[0m\u001b[0m\n\u001b[1;32m      2\u001b[0m \u001b[0mimg1\u001b[0m \u001b[0;34m=\u001b[0m \u001b[0mtransforms\u001b[0m\u001b[0;34m.\u001b[0m\u001b[0mToPILImage\u001b[0m\u001b[0;34m(\u001b[0m\u001b[0;34m)\u001b[0m\u001b[0;34m(\u001b[0m\u001b[0mt_out\u001b[0m\u001b[0;34m)\u001b[0m\u001b[0;34m\u001b[0m\u001b[0;34m\u001b[0m\u001b[0m\n\u001b[0;32m----> 3\u001b[0;31m \u001b[0mimshow\u001b[0m\u001b[0;34m(\u001b[0m\u001b[0mimg1\u001b[0m\u001b[0;34m)\u001b[0m\u001b[0;34m\u001b[0m\u001b[0;34m\u001b[0m\u001b[0m\n\u001b[0m",
      "\u001b[0;32m<ipython-input-48-75bddb4b3a93>\u001b[0m in \u001b[0;36mimshow\u001b[0;34m(img, title)\u001b[0m\n\u001b[1;32m      1\u001b[0m \u001b[0;32mdef\u001b[0m \u001b[0mimshow\u001b[0m\u001b[0;34m(\u001b[0m\u001b[0mimg\u001b[0m\u001b[0;34m,\u001b[0m \u001b[0mtitle\u001b[0m\u001b[0;34m=\u001b[0m\u001b[0;32mNone\u001b[0m\u001b[0;34m)\u001b[0m\u001b[0;34m:\u001b[0m\u001b[0;34m\u001b[0m\u001b[0;34m\u001b[0m\u001b[0m\n\u001b[0;32m----> 2\u001b[0;31m     \u001b[0mimg\u001b[0m \u001b[0;34m=\u001b[0m \u001b[0mimg\u001b[0m\u001b[0;34m.\u001b[0m\u001b[0mnumpy\u001b[0m\u001b[0;34m(\u001b[0m\u001b[0;34m)\u001b[0m\u001b[0;34m.\u001b[0m\u001b[0mtranspose\u001b[0m\u001b[0;34m(\u001b[0m\u001b[0;34m(\u001b[0m\u001b[0;36m1\u001b[0m\u001b[0;34m,\u001b[0m \u001b[0;36m2\u001b[0m\u001b[0;34m,\u001b[0m \u001b[0;36m0\u001b[0m\u001b[0;34m)\u001b[0m\u001b[0;34m)\u001b[0m\u001b[0;34m\u001b[0m\u001b[0;34m\u001b[0m\u001b[0m\n\u001b[0m\u001b[1;32m      3\u001b[0m     \u001b[0mmean\u001b[0m \u001b[0;34m=\u001b[0m \u001b[0mnp\u001b[0m\u001b[0;34m.\u001b[0m\u001b[0marray\u001b[0m\u001b[0;34m(\u001b[0m\u001b[0;34m(\u001b[0m\u001b[0;36m0.1307\u001b[0m\u001b[0;34m,\u001b[0m\u001b[0;34m)\u001b[0m\u001b[0;34m)\u001b[0m\u001b[0;34m\u001b[0m\u001b[0;34m\u001b[0m\u001b[0m\n\u001b[1;32m      4\u001b[0m     \u001b[0mstd\u001b[0m \u001b[0;34m=\u001b[0m \u001b[0mnp\u001b[0m\u001b[0;34m.\u001b[0m\u001b[0marray\u001b[0m\u001b[0;34m(\u001b[0m\u001b[0;34m(\u001b[0m\u001b[0;36m0.3081\u001b[0m\u001b[0;34m,\u001b[0m\u001b[0;34m)\u001b[0m\u001b[0;34m)\u001b[0m\u001b[0;34m\u001b[0m\u001b[0;34m\u001b[0m\u001b[0m\n\u001b[1;32m      5\u001b[0m     \u001b[0mprint\u001b[0m\u001b[0;34m(\u001b[0m\u001b[0mimg\u001b[0m\u001b[0;34m.\u001b[0m\u001b[0mshape\u001b[0m\u001b[0;34m,\u001b[0m \u001b[0mmean\u001b[0m\u001b[0;34m.\u001b[0m\u001b[0mshape\u001b[0m\u001b[0;34m,\u001b[0m \u001b[0mstd\u001b[0m\u001b[0;34m.\u001b[0m\u001b[0mshape\u001b[0m\u001b[0;34m)\u001b[0m\u001b[0;34m\u001b[0m\u001b[0;34m\u001b[0m\u001b[0m\n",
      "\u001b[0;31mAttributeError\u001b[0m: 'Image' object has no attribute 'numpy'"
     ]
    }
   ],
   "source": [
    "t_out = torch.randn(3,10,10)\n",
    "img1 = transforms.ToPILImage()(t_out)\n",
    "imshow(img1)"
   ]
  },
  {
   "cell_type": "code",
   "execution_count": 73,
   "metadata": {},
   "outputs": [
    {
     "name": "stdout",
     "output_type": "stream",
     "text": [
      "<class 'PIL.Image.Image'>\n"
     ]
    }
   ],
   "source": [
    "print(type(img1))"
   ]
  },
  {
   "cell_type": "code",
   "execution_count": 53,
   "metadata": {},
   "outputs": [],
   "source": [
    "class Lenet5(torch.nn.Module):\n",
    "    def __init__(self):\n",
    "        super(Lenet5, self).__init__()\n",
    "        self.conv1 = torch.nn.Conv2d(1, 6, (5,5))\n",
    "        self.conv2 = torch.nn.Conv2d(6, 10, (5,5))\n",
    "        self.pool = torch.nn.MaxPool2d(2, 2)\n",
    "        self.fc1 = torch.nn.Linear(160, 120)\n",
    "        self.fc2 = torch.nn.Linear(120, 84)\n",
    "        self.fc_class = torch.nn.Linear(84, 10)\n",
    "\n",
    "    def forward(self, X):\n",
    "        layer1 = torch.tanh(self.conv1(X))\n",
    "        layer2 = self.pool(layer1)\n",
    "        layer3 = torch.tanh(self.conv2(layer2))\n",
    "        layer4 = self.pool(layer3)\n",
    "        layer4 = layer4.view([layer4.size()[0], 160])\n",
    "        layer5 = torch.tanh(self.fc1(layer4))\n",
    "        layer6 = torch.tanh(self.fc2(layer5))\n",
    "        output_logits = self.fc_class(layer6)\n",
    "        return output_logits"
   ]
  },
  {
   "cell_type": "code",
   "execution_count": 54,
   "metadata": {},
   "outputs": [],
   "source": [
    "def run_epoch(model, dataloader, criterion, optimizer=None):\n",
    "    model = model.cuda()\n",
    "    model.train()\n",
    "    accumulated_loss = 0\n",
    "    correct = 0\n",
    "    total = 0\n",
    "    targets_list = []\n",
    "    predicted_list = []\n",
    "    for batch_idx, (inputs, targets) in enumerate(dataloader):\n",
    "        inputs, targets = inputs.cuda(), targets.cuda()\n",
    "        if optimizer:\n",
    "            optimizer.zero_grad()\n",
    "        outputs = model(inputs)\n",
    "        loss = criterion(outputs, targets)\n",
    "        if optimizer:\n",
    "            loss.backward()\n",
    "            optimizer.step()\n",
    "        accumulated_loss += loss.item()\n",
    "        _, predicted = outputs.max(1)\n",
    "        total += targets.size(0)\n",
    "        correct += predicted.eq(targets).sum().item()\n",
    "        targets_list.append(targets.cpu())\n",
    "        predicted_list.append(predicted.cpu())\n",
    "    return correct, total, round(accumulated_loss, 3), inputs, torch.cat(targets_list), torch.cat(predicted_list)\n",
    "\n",
    "def get_lr(optimizer):\n",
    "    for param_group in optimizer.param_groups:\n",
    "        return param_group['lr']\n",
    "\n",
    "def heatmap(cm):\n",
    "    fig, ax = plt.subplots(figsize=(12, 12))\n",
    "    ax.imshow(cm.transpose(0, 1), cmap=plt.cm.Blues)\n",
    "    ax.set_xlabel(\"True/Actual\")\n",
    "    ax.xaxis.set_label_position('top')\n",
    "    ax.set_ylabel(\"Predicted\")\n",
    "    ax.set_xticks(np.arange(cm.shape[0]))\n",
    "    ax.set_xticklabels(np.arange(cm.shape[0]))\n",
    "    ax.set_yticks(np.arange(cm.shape[1]))\n",
    "    ax.set_yticklabels(np.arange(cm.shape[1]))\n",
    "    ax.tick_params(top=True, bottom=False, labeltop=True, labelbottom=False)\n",
    "    thresh = cm.max() / 2.\n",
    "    for i in range(cm.shape[0]):\n",
    "        for j in range(cm.shape[1]):\n",
    "            ax.text(i, j, str(cm[i, j]), ha='center', va='center', color=\"white\" if cm[i, j] > thresh else \"black\")\n",
    "    return fig"
   ]
  },
  {
   "cell_type": "code",
   "execution_count": 55,
   "metadata": {},
   "outputs": [],
   "source": [
    "# true_pos = np.diag(cm)\n",
    "# false_pos = np.sum(cm, axis=0) - true_pos\n",
    "# false_neg = np.sum(cm, axis=1) - true_pos\n",
    "# precision = np.sum(true_pos / (true_pos + false_pos))\n",
    "# recall = np.sum(true_pos / (true_pos + false_neg)) "
   ]
  },
  {
   "cell_type": "code",
   "execution_count": 56,
   "metadata": {},
   "outputs": [],
   "source": [
    "tb_port = 6002\n",
    "log_dir = f'{K12AI_NBDATA_ROOT}/tmp/mnist/logs_{tb_port}'\n",
    "\n",
    "if os.path.exists(log_dir):\n",
    "    shutil.rmtree(log_dir, ignore_errors=True)\n",
    "writer = SummaryWriter(log_dir=log_dir)"
   ]
  },
  {
   "cell_type": "code",
   "execution_count": 57,
   "metadata": {},
   "outputs": [
    {
     "data": {
      "application/vnd.jupyter.widget-view+json": {
       "model_id": "3c560cdfeb314703b1ff113c2b2eb963",
       "version_major": 2,
       "version_minor": 0
      },
      "text/plain": [
       "HBox(children=(FloatProgress(value=0.0, layout=Layout(flex='2'), max=10.0), HTML(value='')), layout=Layout(dis…"
      ]
     },
     "metadata": {},
     "output_type": "display_data"
    },
    {
     "name": "stdout",
     "output_type": "stream",
     "text": [
      "\n"
     ]
    }
   ],
   "source": [
    "model = Lenet5()\n",
    "criterion = torch.nn.CrossEntropyLoss()\n",
    "optimizer = torch.optim.SGD(model.parameters(), lr=.01, momentum=0.9, weight_decay=5e-4)\n",
    "\n",
    "writer.add_graph(model, images)\n",
    "\n",
    "cm = None\n",
    "epoch_num = 10\n",
    "\n",
    "pbar = tqdm(range(epoch_num), position=0, leave=True, ncols='50%')\n",
    "for epoch in pbar:\n",
    "    train_correct, train_total, train_loss, _, _, _ = run_epoch(model, trainloader, criterion, optimizer)\n",
    "    train_acc = round(train_correct / train_total, 3)\n",
    "    \n",
    "    val_correct, val_total, val_loss, val_img, targets, predicted = run_epoch(model, valloader, criterion, None)\n",
    "    val_acc = round(val_correct / val_total, 3)\n",
    "    \n",
    "    # print('train:', train_correct, train_total, train_loss, train_acc, get_lr(optimizer))\n",
    "    # print('  val:', val_correct, val_total, val_loss, val_acc)\n",
    "    \n",
    "    writer.add_scalar('train/acc', train_acc, epoch)\n",
    "    writer.add_scalar('train/lr', get_lr(optimizer), epoch)\n",
    "    writer.add_scalar('val/acc', val_acc, epoch)\n",
    "    writer.add_scalars('train_val/acc', {'train': train_acc, 'val': val_acc}, epoch)\n",
    "    writer.add_scalars('train_val/loss', {'train': train_loss, 'val': val_loss}, epoch)\n",
    "    \n",
    "    if epoch == 0:\n",
    "        writer.add_image(f'val/image', torchvision.utils.make_grid(val_img), epoch)\n",
    "        cm = confusion_matrix(targets, predicted)\n",
    "        writer.add_figure(f'confusion_matrix/fig-{epoch}', heatmap(cm), close=True)\n",
    "    if epoch == epoch_num - 1:\n",
    "        cm = confusion_matrix(targets, predicted)\n",
    "        writer.add_figure(f'confusion_matrix/fig-{epoch}', heatmap(cm), close=True)\n",
    "        precision, recall, fscore, support = score(targets, predicted)\n",
    "        writer.add_text('metrics/precision', str(precision), epoch)\n",
    "        writer.add_text('metrics/recall', str(recall), epoch)\n",
    "        writer.add_text('metrics/fscore', str(fscore), epoch)\n",
    "        writer.add_text('metrics/support', str(support), epoch)\n",
    "        \n",
    "    for name, module in model.named_modules():\n",
    "        if isinstance(module, torch.nn.Conv2d):\n",
    "            if module.weight is not None:\n",
    "                writer.add_histogram('conv/weights/' + name + '.weight', module.weight, epoch)\n",
    "                writer.add_histogram('conv/gradients/' + name + '.weight.grad', module.weight.grad, epoch)\n",
    "            if module.bias is not None:\n",
    "                writer.add_histogram('conv/biases/' + name + '.bias', module.bias, epoch)\n",
    "                writer.add_histogram('conv/gradients/' + name + '.bias.grad', module.bias.grad, epoch)\n",
    "        if isinstance(module, torch.nn.Linear):\n",
    "            if module.weight is not None:\n",
    "                writer.add_histogram('linear/weights/' + name + '.weight', module.weight, epoch)\n",
    "                writer.add_histogram('linear/gradients/' + name + '.weight.grad', module.weight.grad, epoch)\n",
    "            if module.bias is not None:\n",
    "                writer.add_histogram('linear/biases/' + name + '.bias', module.bias, epoch)\n",
    "                writer.add_histogram('linear/gradients/' + name + '.bias.grad', module.bias.grad, epoch)\n",
    "    \n",
    "# writer.flush()\n",
    "# writer.close()"
   ]
  },
  {
   "cell_type": "code",
   "execution_count": 58,
   "metadata": {},
   "outputs": [
    {
     "data": {
      "text/plain": [
       "array([[ 976,    0,    0,    0,    0,    0,    1,    1,    2,    0],\n",
       "       [   0, 1134,    1,    0,    0,    0,    0,    0,    0,    0],\n",
       "       [   1,    5, 1014,    1,    0,    0,    1,    9,    1,    0],\n",
       "       [   1,    0,    0,  999,    0,    3,    0,    5,    2,    0],\n",
       "       [   0,    0,    0,    0,  981,    0,    0,    0,    0,    1],\n",
       "       [   0,    1,    0,    3,    0,  886,    2,    0,    0,    0],\n",
       "       [   3,    2,    0,    0,    3,    1,  949,    0,    0,    0],\n",
       "       [   0,    1,    1,    0,    0,    0,    0, 1025,    0,    1],\n",
       "       [   0,    2,    0,    1,    1,    1,    1,    0,  964,    4],\n",
       "       [   1,    2,    0,    1,    9,    2,    0,    4,    0,  990]])"
      ]
     },
     "execution_count": 58,
     "metadata": {},
     "output_type": "execute_result"
    }
   ],
   "source": [
    "cm"
   ]
  },
  {
   "cell_type": "code",
   "execution_count": 59,
   "metadata": {},
   "outputs": [],
   "source": [
    "# heatmap(cm)\n",
    "import seaborn as sns"
   ]
  },
  {
   "cell_type": "code",
   "execution_count": 63,
   "metadata": {},
   "outputs": [
    {
     "name": "stdout",
     "output_type": "stream",
     "text": [
      "<class 'matplotlib.axes._subplots.AxesSubplot'>\n"
     ]
    }
   ],
   "source": [
    "f, ax = plt.subplots(figsize=(12,8))\n",
    "a = sns.heatmap(cm, annot=True, fmt='d', linewidth=0.5,cmap='Blues', ax=ax, cbar=True)\n",
    "print(type(a))\n",
    "f.savefig('/tmp/1.png')\n",
    "writer.add_figure(f'confusion_matrix/figxx', f, close=True, )"
   ]
  },
  {
   "cell_type": "code",
   "execution_count": 64,
   "metadata": {
    "scrolled": false
   },
   "outputs": [
    {
     "name": "stdout",
     "output_type": "stream",
     "text": [
      "Selecting TensorBoard with logdir /data/nb_data/tmp/mnist/logs_6002 (started 0:00:00 ago; port 6002, pid 3656).\n"
     ]
    },
    {
     "data": {
      "text/html": [
       "\n",
       "      <iframe id=\"tensorboard-frame-9c8accaf3597739\" width=\"100%\" height=\"800\" frameborder=\"0\">\n",
       "      </iframe>\n",
       "      <script>\n",
       "        (function() {\n",
       "          const frame = document.getElementById(\"tensorboard-frame-9c8accaf3597739\");\n",
       "          const url = new URL(\"/\", window.location);\n",
       "          url.port = 6002;\n",
       "          frame.src = url;\n",
       "        })();\n",
       "      </script>\n",
       "  "
      ],
      "text/plain": [
       "<IPython.core.display.HTML object>"
      ]
     },
     "metadata": {},
     "output_type": "display_data"
    },
    {
     "data": {
      "text/plain": [
       "'http://116.85.5.40:6002'"
      ]
     },
     "execution_count": 64,
     "metadata": {},
     "output_type": "execute_result"
    }
   ],
   "source": [
    "# notebook.list()\n",
    "# infos = manager.get_all()\n",
    "# for info in infos:\n",
    "#     print(info)\n",
    "#     if info.port == tb_port:\n",
    "#         !kill {info.pid}\n",
    "#         \n",
    "# %tensorboard --host {K12AI_HOST_ADDR} --port {tb_port} --logdir {log_dir} --reload_interval 10\n",
    "k12ai_start_tensorboard(tb_port, log_dir, reload_interval=10, display=True)"
   ]
  }
 ],
 "metadata": {
  "kernelspec": {
   "display_name": "Python 3",
   "language": "python",
   "name": "python3"
  },
  "language_info": {
   "codemirror_mode": {
    "name": "ipython",
    "version": 3
   },
   "file_extension": ".py",
   "mimetype": "text/x-python",
   "name": "python",
   "nbconvert_exporter": "python",
   "pygments_lexer": "ipython3",
   "version": "3.6.9"
  }
 },
 "nbformat": 4,
 "nbformat_minor": 4
}
