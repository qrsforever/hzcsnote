{
 "cells": [
  {
   "cell_type": "markdown",
   "metadata": {},
   "source": [
    "# CV框架软件版本信息"
   ]
  },
  {
   "cell_type": "code",
   "execution_count": 1,
   "metadata": {},
   "outputs": [],
   "source": [
    "import torch\n",
    "import torchvision"
   ]
  },
  {
   "cell_type": "code",
   "execution_count": 2,
   "metadata": {},
   "outputs": [
    {
     "data": {
      "text/plain": [
       "'1.2.0.dev20190805'"
      ]
     },
     "execution_count": 2,
     "metadata": {},
     "output_type": "execute_result"
    }
   ],
   "source": [
    "torch.__version__"
   ]
  },
  {
   "cell_type": "code",
   "execution_count": 3,
   "metadata": {},
   "outputs": [
    {
     "data": {
      "text/plain": [
       "True"
      ]
     },
     "execution_count": 3,
     "metadata": {},
     "output_type": "execute_result"
    }
   ],
   "source": [
    "torch.cuda.is_available()"
   ]
  },
  {
   "cell_type": "code",
   "execution_count": 4,
   "metadata": {
    "scrolled": false
   },
   "outputs": [
    {
     "name": "stdout",
     "output_type": "stream",
     "text": [
      "Package                           Version           Location   \n",
      "--------------------------------- ----------------- -----------\n",
      "apex                              0.1               \n",
      "attrs                             19.3.0            \n",
      "backcall                          0.1.0             \n",
      "beautifulsoup4                    4.7.1             \n",
      "bleach                            3.1.0             \n",
      "bs4                               0.0.1             \n",
      "cauchy                            0.2.0             /hzcsk12/cv\n",
      "certifi                           2018.1.18         \n",
      "cffi                              1.12.2            \n",
      "chardet                           3.0.4             \n",
      "Click                             7.0               \n",
      "cloudpickle                       1.2.1             \n",
      "cycler                            0.10.0            \n",
      "Cython                            0.29.13           \n",
      "decorator                         4.4.0             \n",
      "defusedxml                        0.6.0             \n",
      "easydict                          1.9               \n",
      "entrypoints                       0.3               \n",
      "enum34                            1.1.6             \n",
      "Flask                             1.0.2             \n",
      "future                            0.17.1            \n",
      "GPUtil                            1.4.0             \n",
      "html5lib                          1.0.1             \n",
      "idna                              2.6               \n",
      "imageio                           2.5.0             \n",
      "imgaug                            0.2.9             \n",
      "importlib-metadata                0.23              \n",
      "ipykernel                         5.1.3             \n",
      "ipython                           7.9.0             \n",
      "ipython-genutils                  0.2.0             \n",
      "ipywidgets                        7.5.1             \n",
      "itsdangerous                      1.1.0             \n",
      "jedi                              0.15.1            \n",
      "Jinja2                            2.10.1            \n",
      "joblib                            0.13.2            \n",
      "jsonschema                        3.1.1             \n",
      "jupyter                           1.0.0             \n",
      "jupyter-client                    5.3.4             \n",
      "jupyter-console                   6.0.0             \n",
      "jupyter-contrib-core              0.3.3             \n",
      "jupyter-contrib-nbextensions      0.5.1             \n",
      "jupyter-core                      4.6.1             \n",
      "jupyter-highlight-selected-word   0.2.0             \n",
      "jupyter-latex-envs                1.4.6             \n",
      "jupyter-nbextensions-configurator 0.4.1             \n",
      "kiwisolver                        1.1.0             \n",
      "lxml                              4.4.1             \n",
      "MarkupSafe                        1.1.1             \n",
      "matplotlib                        3.1.1             \n",
      "mistune                           0.8.4             \n",
      "more-itertools                    7.2.0             \n",
      "nbconvert                         5.6.1             \n",
      "nbformat                          4.4.0             \n",
      "networkx                          2.3               \n",
      "ninja                             1.9.0             \n",
      "notebook                          6.0.2             \n",
      "numpy                             1.17.0            \n",
      "opencv-python                     4.1.1.26          \n",
      "opencv-python-headless            4.1.1.26          \n",
      "pandas                            0.25.0            \n",
      "pandocfilters                     1.4.2             \n",
      "parso                             0.5.1             \n",
      "pexpect                           4.7.0             \n",
      "pickleshare                       0.7.5             \n",
      "Pillow                            6.1.0             \n",
      "pip                               19.2.2            \n",
      "prometheus-client                 0.7.1             \n",
      "prompt-toolkit                    2.0.10            \n",
      "protobuf                          3.9.1             \n",
      "psutil                            5.6.1             \n",
      "ptyprocess                        0.6.0             \n",
      "pycocotools                       2.0               \n",
      "pycparser                         2.19              \n",
      "Pygments                          2.4.2             \n",
      "pygobject                         3.26.1            \n",
      "pyparsing                         2.4.2             \n",
      "pyrsistent                        0.15.5            \n",
      "python-apt                        1.6.4             \n",
      "python-dateutil                   2.8.0             \n",
      "python-distutils-extra            2.39              \n",
      "pytz                              2019.2            \n",
      "PyWavelets                        1.0.3             \n",
      "PyYAML                            5.1.2             \n",
      "pyzmq                             18.0.1            \n",
      "qtconsole                         4.5.5             \n",
      "requests                          2.18.4            \n",
      "scikit-image                      0.15.0            \n",
      "scikit-learn                      0.21.3            \n",
      "scipy                             1.3.1             \n",
      "Send2Trash                        1.5.0             \n",
      "setuptools                        41.1.0            \n",
      "Shapely                           1.6.4.post2       \n",
      "six                               1.12.0            \n",
      "soupsieve                         1.9.1             \n",
      "ssh-import-id                     5.7               \n",
      "terminado                         0.8.2             \n",
      "testpath                          0.4.4             \n",
      "torch                             1.2.0             \n",
      "torch-nightly                     1.2.0.dev20190805 \n",
      "torchfile                         0.1.0             \n",
      "torchvision                       0.5.0a0+19315e3   \n",
      "tornado                           6.0.2             \n",
      "traitlets                         4.3.3             \n",
      "typing                            3.7.4             \n",
      "urllib3                           1.22              \n",
      "visdom                            0.1.8.8           \n",
      "vulkan                            0.1.0             \n",
      "wcwidth                           0.1.7             \n",
      "webencodings                      0.5.1             \n",
      "websocket-client                  0.56.0            \n",
      "Werkzeug                          0.15.4            \n",
      "wheel                             0.33.4            \n",
      "widgetsnbextension                3.5.1             \n",
      "zipp                              0.6.0             \n",
      "\u001b[33mWARNING: You are using pip version 19.2.2, however version 19.3.1 is available.\n",
      "You should consider upgrading via the 'pip install --upgrade pip' command.\u001b[0m\n"
     ]
    }
   ],
   "source": [
    "!pip list"
   ]
  }
 ],
 "metadata": {
  "kernelspec": {
   "display_name": "Python 3",
   "language": "python",
   "name": "python3"
  },
  "language_info": {
   "codemirror_mode": {
    "name": "ipython",
    "version": 3
   },
   "file_extension": ".py",
   "mimetype": "text/x-python",
   "name": "python",
   "nbconvert_exporter": "python",
   "pygments_lexer": "ipython3",
   "version": "3.6.8"
  }
 },
 "nbformat": 4,
 "nbformat_minor": 2
}
