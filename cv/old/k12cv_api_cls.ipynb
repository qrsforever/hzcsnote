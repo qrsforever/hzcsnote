{
 "cells": [
  {
   "cell_type": "markdown",
   "metadata": {},
   "source": [
    "# <div align=\"center\"> 图像分类 </div>"
   ]
  },
  {
   "cell_type": "code",
   "execution_count": null,
   "metadata": {},
   "outputs": [],
   "source": [
    "%reload_ext autoreload\n",
    "%autoreload 2"
   ]
  },
  {
   "cell_type": "code",
   "execution_count": null,
   "metadata": {},
   "outputs": [],
   "source": [
    "from k12libs.utils.nb_easy import k12ai_post_cv_request\n",
    "from k12libs.utils.nb_easy import k12ai_get_data\n",
    "from k12libs.utils.nb_easy import k12ai_del_data\n",
    "from k12libs.utils.nb_easy import k12ai_out_data\n",
    "from k12libs.utils.nb_easy import k12ai_print\n",
    "from k12libs.utils.nb_easy import k12ai_count_down\n",
    "\n",
    "import os, time"
   ]
  },
  {
   "cell_type": "code",
   "execution_count": null,
   "metadata": {},
   "outputs": [],
   "source": [
    "wait_cnt = 30\n",
    "wait_ckpt = True"
   ]
  },
  {
   "cell_type": "markdown",
   "metadata": {},
   "source": [
    "## 1 CIFAR10"
   ]
  },
  {
   "cell_type": "code",
   "execution_count": null,
   "metadata": {},
   "outputs": [],
   "source": [
    "from k12libs.templates.cls.cifar10 import IC_CIFAR10_CONFIG\n",
    "\n",
    "def cifar10_train_stop():\n",
    "    cv_stop = k12ai_post_cv_request(\n",
    "        uri='k12ai/framework/execute',\n",
    "        op='train.stop',\n",
    "        user='test',\n",
    "        uuid='cifar10',\n",
    "    )\n",
    "    k12ai_print(cv_stop)\n",
    "    return cv_stop\n",
    "    \n",
    "def cifar10_train_start():\n",
    "    cv_start = k12ai_post_cv_request(\n",
    "        uri='k12ai/framework/execute',\n",
    "        op='train.start',\n",
    "        user='test',\n",
    "        uuid='cifar10',\n",
    "        params=config\n",
    "    )\n",
    "    k12ai_print(cv_start)\n",
    "    return cv_start\n",
    "\n",
    "def cifar10_evaluate_stop():\n",
    "    cv_stop = k12ai_post_cv_request(\n",
    "        uri='k12ai/framework/execute',\n",
    "        op='evaluate.stop',\n",
    "        user='test',\n",
    "        uuid='cifar10',\n",
    "    )\n",
    "    k12ai_print(cv_stop)\n",
    "    return cv_stop\n",
    "    \n",
    "def cifar10_evaluate_start():\n",
    "    cv_start = k12ai_post_cv_request(\n",
    "        uri='k12ai/framework/execute',\n",
    "        op='evaluate.start',\n",
    "        user='test',\n",
    "        uuid='cifar10',\n",
    "        params=config\n",
    "    )\n",
    "    k12ai_print(cv_start)\n",
    "    return cv_start"
   ]
  },
  {
   "cell_type": "markdown",
   "metadata": {},
   "source": [
    "### 1.1 训练"
   ]
  },
  {
   "cell_type": "code",
   "execution_count": null,
   "metadata": {
    "scrolled": true
   },
   "outputs": [],
   "source": [
    "config = IC_CIFAR10_CONFIG\n",
    "config['solver']['max_epoch'] = 2"
   ]
  },
  {
   "cell_type": "markdown",
   "metadata": {},
   "source": [
    "### train.stop"
   ]
  },
  {
   "cell_type": "code",
   "execution_count": null,
   "metadata": {},
   "outputs": [],
   "source": [
    "stop_context = cifar10_train_stop()\n",
    "k12ai_del_data(stop_context['key'])"
   ]
  },
  {
   "cell_type": "code",
   "execution_count": null,
   "metadata": {},
   "outputs": [],
   "source": [
    "k12ai_print(k12ai_get_data(stop_context['key'], 'error', waitcnt=3))"
   ]
  },
  {
   "cell_type": "markdown",
   "metadata": {},
   "source": [
    "### train.start"
   ]
  },
  {
   "cell_type": "code",
   "execution_count": null,
   "metadata": {},
   "outputs": [],
   "source": [
    "start_context = cifar10_train_start()\n",
    "k12ai_del_data(start_context['key'])\n",
    "if start_context['res']['code'] != 100000:\n",
    "    k12ai_print(start_context['res'])\n",
    "    raise "
   ]
  },
  {
   "cell_type": "code",
   "execution_count": null,
   "metadata": {
    "scrolled": false
   },
   "outputs": [],
   "source": [
    "k12ai_out_data(start_context['key'], ['status', 'metrics', 'error'], hook_func=k12ai_count_down(wait_cnt))"
   ]
  },
  {
   "cell_type": "code",
   "execution_count": null,
   "metadata": {},
   "outputs": [],
   "source": [
    "cifar10_train_stop()\n",
    "k12ai_print(k12ai_get_data(start_context['key'], 'status', waitcnt=5))"
   ]
  },
  {
   "cell_type": "markdown",
   "metadata": {},
   "source": [
    "异步输出样例:\n",
    "\n",
    "```json\n",
    "{\n",
    "    \"version\": \"0.1.0\",\n",
    "    \"type\": \"metrics\",\n",
    "    \"op\": \"train.start\",\n",
    "    \"user\": \"test\",\n",
    "    \"service_name\": \"k12cv\",\n",
    "    \"service_uuid\": \"abcdef\",\n",
    "    \"timestamp\": 1574939332062,\n",
    "    \"datetime\": \"2019-11-28 19:08:52\",\n",
    "    \"data\": {\n",
    "        \"training_epochs\": 1,\n",
    "        \"training_loss\": 2.3058,\n",
    "        \"training_speed\": 0.105,\n",
    "        \"lr\": [\n",
    "            0.1,\n",
    "            0.1\n",
    "        ],\n",
    "        \"validation_loss\": 2.3041,\n",
    "        \"validation_accuracy\": 0.10519999710842967,\n",
    "        \"validation_accuracy3\": 0.3018999940156937,\n",
    "        \"validation_accuracy5\": 0.49709998607635497\n",
    "    }\n",
    "}\n",
    "```"
   ]
  },
  {
   "cell_type": "markdown",
   "metadata": {},
   "source": [
    "### 1.2 评估"
   ]
  },
  {
   "cell_type": "markdown",
   "metadata": {},
   "source": [
    "### evaluate.stop"
   ]
  },
  {
   "cell_type": "code",
   "execution_count": null,
   "metadata": {},
   "outputs": [],
   "source": [
    "stop_context = cifar10_evaluate_stop()"
   ]
  },
  {
   "cell_type": "code",
   "execution_count": null,
   "metadata": {},
   "outputs": [],
   "source": [
    "k12ai_del_data(stop_context['key'])\n",
    "k12ai_print(k12ai_get_data(stop_context['key'], 'error', waitcnt=5))"
   ]
  },
  {
   "cell_type": "markdown",
   "metadata": {},
   "source": [
    "### evaluate.start"
   ]
  },
  {
   "cell_type": "code",
   "execution_count": null,
   "metadata": {},
   "outputs": [],
   "source": [
    "start_context = cifar10_evaluate_start()"
   ]
  },
  {
   "cell_type": "code",
   "execution_count": null,
   "metadata": {},
   "outputs": [],
   "source": [
    "k12ai_del_data(start_context['key'])\n",
    "if start_context['res']['code'] != 100000:\n",
    "    k12ai_print(start_context['res'])\n",
    "    raise "
   ]
  },
  {
   "cell_type": "code",
   "execution_count": null,
   "metadata": {},
   "outputs": [],
   "source": [
    "k12ai_print(k12ai_get_data(start_context['key'], 'metrics', waitcnt=wait_cnt))\n",
    "k12ai_print(k12ai_get_data(start_context['key'], 'error'))\n",
    "k12ai_print(k12ai_get_data(start_context['key'], 'status'))"
   ]
  },
  {
   "cell_type": "markdown",
   "metadata": {},
   "source": [
    "## 2 MNIST"
   ]
  },
  {
   "cell_type": "markdown",
   "metadata": {},
   "source": [
    "### 2.1 训练"
   ]
  },
  {
   "cell_type": "code",
   "execution_count": null,
   "metadata": {},
   "outputs": [],
   "source": [
    "from k12libs.templates.cls.mnist import IC_MNIST_CONFIG\n",
    "\n",
    "def mnist_train_stop():\n",
    "    cv_stop = k12ai_post_cv_request(\n",
    "        uri='k12ai/framework/execute',\n",
    "        op='train.stop',\n",
    "        user='test',\n",
    "        uuid='mnist',\n",
    "    )\n",
    "    k12ai_print(cv_stop)\n",
    "    return cv_stop\n",
    "    \n",
    "def mnist_train_start():\n",
    "    cv_start = k12ai_post_cv_request(\n",
    "        uri='k12ai/framework/execute',\n",
    "        op='train.start',\n",
    "        user='test',\n",
    "        uuid='mnist',\n",
    "        params=config\n",
    "    )\n",
    "    k12ai_print(cv_start)\n",
    "    return cv_start\n",
    "\n",
    "def mnist_evaluate_stop():\n",
    "    cv_stop = k12ai_post_cv_request(\n",
    "        uri='k12ai/framework/execute',\n",
    "        op='evaluate.stop',\n",
    "        user='test',\n",
    "        uuid='mnist',\n",
    "    )\n",
    "    k12ai_print(cv_stop)\n",
    "    return cv_stop\n",
    "\n",
    "def mnist_evaluate_start():\n",
    "    cv_start = k12ai_post_cv_request(\n",
    "        uri='k12ai/framework/execute',\n",
    "        op='evaluate.start',\n",
    "        user='test',\n",
    "        uuid='mnist',\n",
    "        params=config\n",
    "    )\n",
    "    k12ai_print(cv_start)\n",
    "    return cv_start"
   ]
  },
  {
   "cell_type": "code",
   "execution_count": null,
   "metadata": {},
   "outputs": [],
   "source": [
    "config = IC_MNIST_CONFIG\n",
    "config['solver']['max_epoch'] = 2\n",
    "config['network']['model_name'] = 'base_model'\n",
    "config['network']['backbone'] = 'resnet18'\n",
    "config['solver']['optim']['optim_method'] = 'adam'\n",
    "config['train']['batch_size'] = 32"
   ]
  },
  {
   "cell_type": "markdown",
   "metadata": {},
   "source": [
    "### train.stop"
   ]
  },
  {
   "cell_type": "code",
   "execution_count": null,
   "metadata": {
    "scrolled": true
   },
   "outputs": [],
   "source": [
    "stop_context = mnist_train_stop()\n",
    "k12ai_del_data(stop_context['key'])\n",
    "k12ai_print(k12ai_get_data(stop_context['key'], 'error', waitcnt=3))"
   ]
  },
  {
   "cell_type": "markdown",
   "metadata": {},
   "source": [
    "### train.sart"
   ]
  },
  {
   "cell_type": "code",
   "execution_count": null,
   "metadata": {},
   "outputs": [],
   "source": [
    "start_context = mnist_train_start()\n",
    "k12ai_del_data(start_context['key'])\n",
    "if start_context['res']['code'] != 100000:\n",
    "    k12ai_print(start_context['res'])\n",
    "    raise "
   ]
  },
  {
   "cell_type": "code",
   "execution_count": null,
   "metadata": {},
   "outputs": [],
   "source": [
    "k12ai_out_data(start_context['key'], ['status', 'metrics', 'error'], hook_func=k12ai_count_down(100))"
   ]
  },
  {
   "cell_type": "code",
   "execution_count": null,
   "metadata": {},
   "outputs": [],
   "source": [
    "k12ai_print(k12ai_get_data(start_context['key'], 'metrics', waitcnt=wait_cnt))\n",
    "k12ai_print(k12ai_get_data(start_context['key'], 'error'))\n",
    "k12ai_print(k12ai_get_data(start_context['key'], 'status'))"
   ]
  },
  {
   "cell_type": "code",
   "execution_count": null,
   "metadata": {},
   "outputs": [],
   "source": [
    "mnist_train_stop()\n",
    "k12ai_print(k12ai_get_data(start_context['key'], 'status', waitcnt=3))"
   ]
  },
  {
   "cell_type": "markdown",
   "metadata": {},
   "source": [
    "## 2.2 评估"
   ]
  },
  {
   "cell_type": "markdown",
   "metadata": {},
   "source": [
    "### evaluate.stop"
   ]
  },
  {
   "cell_type": "code",
   "execution_count": null,
   "metadata": {},
   "outputs": [],
   "source": [
    "stop_context = mnist_evaluate_stop()"
   ]
  },
  {
   "cell_type": "code",
   "execution_count": null,
   "metadata": {},
   "outputs": [],
   "source": [
    "k12ai_del_data(stop_context['key'])\n",
    "k12ai_print(k12ai_get_data(stop_context['key'], 'error', waitcnt=3))"
   ]
  },
  {
   "cell_type": "markdown",
   "metadata": {},
   "source": [
    "### evaluate.start"
   ]
  },
  {
   "cell_type": "code",
   "execution_count": null,
   "metadata": {},
   "outputs": [],
   "source": [
    "start_context = mnist_evaluate_start()"
   ]
  },
  {
   "cell_type": "code",
   "execution_count": null,
   "metadata": {},
   "outputs": [],
   "source": [
    "k12ai_del_data(start_context['key'])\n",
    "if start_context['res']['code'] != 100000:\n",
    "    k12ai_print(start_context['res']['message'])\n",
    "    raise "
   ]
  },
  {
   "cell_type": "code",
   "execution_count": null,
   "metadata": {},
   "outputs": [],
   "source": [
    "k12ai_print(k12ai_get_data(start_context['key'], 'metrics', waitcnt=wait_cnt))\n",
    "k12ai_print(k12ai_get_data(start_context['key'], 'error'))\n",
    "k12ai_print(k12ai_get_data(start_context['key'], 'status'))"
   ]
  },
  {
   "cell_type": "code",
   "execution_count": null,
   "metadata": {},
   "outputs": [],
   "source": [
    "mnist_evaluate_stop()\n",
    "k12ai_print(k12ai_get_data(start_context['key'], 'status', waitcnt=3))"
   ]
  }
 ],
 "metadata": {
  "kernelspec": {
   "display_name": "Python 3",
   "language": "python",
   "name": "python3"
  },
  "language_info": {
   "codemirror_mode": {
    "name": "ipython",
    "version": 3
   },
   "file_extension": ".py",
   "mimetype": "text/x-python",
   "name": "python",
   "nbconvert_exporter": "python",
   "pygments_lexer": "ipython3",
   "version": "3.6.9"
  }
 },
 "nbformat": 4,
 "nbformat_minor": 2
}
