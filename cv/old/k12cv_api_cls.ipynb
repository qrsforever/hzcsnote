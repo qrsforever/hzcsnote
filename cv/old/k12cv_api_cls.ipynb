{
 "cells": [
  {
   "cell_type": "markdown",
   "metadata": {},
   "source": [
    "# <div align=\"center\"> 图像分类 </div>"
   ]
  },
  {
   "cell_type": "code",
   "execution_count": 1,
   "metadata": {},
   "outputs": [],
   "source": [
    "%reload_ext autoreload\n",
    "%autoreload 2"
   ]
  },
  {
   "cell_type": "code",
   "execution_count": 2,
   "metadata": {},
   "outputs": [],
   "source": [
    "from k12libs.utils.nb_easy import k12ai_post_cv_request\n",
    "from k12libs.utils.nb_easy import k12ai_get_data\n",
    "from k12libs.utils.nb_easy import k12ai_del_data\n",
    "from k12libs.utils.nb_easy import k12ai_out_data\n",
    "from k12libs.utils.nb_easy import k12ai_print\n",
    "from k12libs.utils.nb_easy import k12ai_count_down\n",
    "\n",
    "import os, time"
   ]
  },
  {
   "cell_type": "code",
   "execution_count": 3,
   "metadata": {},
   "outputs": [],
   "source": [
    "wait_cnt = 30\n",
    "wait_ckpt = True"
   ]
  },
  {
   "cell_type": "markdown",
   "metadata": {},
   "source": [
    "## 1 CIFAR10"
   ]
  },
  {
   "cell_type": "code",
   "execution_count": 4,
   "metadata": {},
   "outputs": [],
   "source": [
    "from k12libs.templates.cls.cifar10 import IC_CIFAR10_CONFIG\n",
    "\n",
    "def cifar10_train_stop():\n",
    "    cv_stop = k12ai_post_cv_request(\n",
    "        uri='k12ai/framework/train',\n",
    "        op='train.stop',\n",
    "        user='test',\n",
    "        uuid='cifar10',\n",
    "    )\n",
    "    k12ai_print(cv_stop)\n",
    "    return cv_stop\n",
    "    \n",
    "def cifar10_train_start():\n",
    "    cv_start = k12ai_post_cv_request(\n",
    "        uri='k12ai/framework/train',\n",
    "        op='train.start',\n",
    "        user='test',\n",
    "        uuid='cifar10',\n",
    "        params=config\n",
    "    )\n",
    "    k12ai_print(cv_start)\n",
    "    return cv_start\n",
    "\n",
    "def cifar10_evaluate_stop():\n",
    "    cv_stop = k12ai_post_cv_request(\n",
    "        uri='k12ai/framework/evaluate',\n",
    "        op='evaluate.stop',\n",
    "        user='test',\n",
    "        uuid='cifar10',\n",
    "    )\n",
    "    k12ai_print(cv_stop)\n",
    "    return cv_stop\n",
    "\n",
    "def cifar10_evaluate_start():\n",
    "    cv_start = k12ai_post_cv_request(\n",
    "        uri='k12ai/framework/evaluate',\n",
    "        op='evaluate.start',\n",
    "        user='test',\n",
    "        uuid='cifar10',\n",
    "        params=config\n",
    "    )\n",
    "    k12ai_print(cv_start)\n",
    "    return cv_start"
   ]
  },
  {
   "cell_type": "markdown",
   "metadata": {},
   "source": [
    "### 1.1 训练"
   ]
  },
  {
   "cell_type": "code",
   "execution_count": 5,
   "metadata": {
    "scrolled": true
   },
   "outputs": [],
   "source": [
    "config = IC_CIFAR10_CONFIG\n",
    "config['solver']['max_epoch'] = 2"
   ]
  },
  {
   "cell_type": "markdown",
   "metadata": {},
   "source": [
    "### train.stop"
   ]
  },
  {
   "cell_type": "code",
   "execution_count": 6,
   "metadata": {},
   "outputs": [
    {
     "name": "stdout",
     "output_type": "stream",
     "text": [
      "{\n",
      "    \"req\": {\n",
      "        \"op\": \"train.stop\",\n",
      "        \"user\": \"test\",\n",
      "        \"service_name\": \"k12cv\",\n",
      "        \"service_uuid\": \"cifar10\",\n",
      "        \"service_params\": {}\n",
      "    },\n",
      "    \"res\": {\n",
      "        \"code\": 100000,\n",
      "        \"descr\": \"success\"\n",
      "    },\n",
      "    \"key\": \"framework/test/cifar10/train.stop\"\n",
      "}\n"
     ]
    },
    {
     "data": {
      "text/plain": [
       "'success'"
      ]
     },
     "execution_count": 6,
     "metadata": {},
     "output_type": "execute_result"
    }
   ],
   "source": [
    "stop_context = cifar10_train_stop()\n",
    "k12ai_del_data(stop_context['key'])"
   ]
  },
  {
   "cell_type": "code",
   "execution_count": 7,
   "metadata": {},
   "outputs": [],
   "source": [
    "k12ai_print(k12ai_get_data(stop_context['key'], 'error', waitcnt=3))"
   ]
  },
  {
   "cell_type": "markdown",
   "metadata": {},
   "source": [
    "### train.start"
   ]
  },
  {
   "cell_type": "code",
   "execution_count": 4,
   "metadata": {},
   "outputs": [
    {
     "ename": "NameError",
     "evalue": "name 'cifar10_train_start' is not defined",
     "output_type": "error",
     "traceback": [
      "\u001b[0;31m\u001b[0m",
      "\u001b[0;31mNameError\u001b[0mTraceback (most recent call last)",
      "\u001b[0;32m<ipython-input-4-6eac065aefc2>\u001b[0m in \u001b[0;36m<module>\u001b[0;34m\u001b[0m\n\u001b[0;32m----> 1\u001b[0;31m \u001b[0mstart_context\u001b[0m \u001b[0;34m=\u001b[0m \u001b[0mcifar10_train_start\u001b[0m\u001b[0;34m(\u001b[0m\u001b[0;34m)\u001b[0m\u001b[0;34m\u001b[0m\u001b[0;34m\u001b[0m\u001b[0m\n\u001b[0m\u001b[1;32m      2\u001b[0m \u001b[0mk12ai_del_data\u001b[0m\u001b[0;34m(\u001b[0m\u001b[0mstart_context\u001b[0m\u001b[0;34m[\u001b[0m\u001b[0;34m'key'\u001b[0m\u001b[0;34m]\u001b[0m\u001b[0;34m)\u001b[0m\u001b[0;34m\u001b[0m\u001b[0;34m\u001b[0m\u001b[0m\n\u001b[1;32m      3\u001b[0m \u001b[0;32mif\u001b[0m \u001b[0mstart_context\u001b[0m\u001b[0;34m[\u001b[0m\u001b[0;34m'res'\u001b[0m\u001b[0;34m]\u001b[0m\u001b[0;34m[\u001b[0m\u001b[0;34m'code'\u001b[0m\u001b[0;34m]\u001b[0m \u001b[0;34m!=\u001b[0m \u001b[0;36m100000\u001b[0m\u001b[0;34m:\u001b[0m\u001b[0;34m\u001b[0m\u001b[0;34m\u001b[0m\u001b[0m\n\u001b[1;32m      4\u001b[0m     \u001b[0mk12ai_print\u001b[0m\u001b[0;34m(\u001b[0m\u001b[0mstart_context\u001b[0m\u001b[0;34m[\u001b[0m\u001b[0;34m'res'\u001b[0m\u001b[0;34m]\u001b[0m\u001b[0;34m)\u001b[0m\u001b[0;34m\u001b[0m\u001b[0;34m\u001b[0m\u001b[0m\n\u001b[1;32m      5\u001b[0m     \u001b[0;32mraise\u001b[0m\u001b[0;34m\u001b[0m\u001b[0;34m\u001b[0m\u001b[0m\n",
      "\u001b[0;31mNameError\u001b[0m: name 'cifar10_train_start' is not defined"
     ]
    }
   ],
   "source": [
    "start_context = cifar10_train_start()\n",
    "k12ai_del_data(start_context['key'])\n",
    "if start_context['res']['code'] != 100000:\n",
    "    k12ai_print(start_context['res'])\n",
    "    raise "
   ]
  },
  {
   "cell_type": "code",
   "execution_count": 9,
   "metadata": {
    "scrolled": false
   },
   "outputs": [
    {
     "data": {
      "application/vnd.jupyter.widget-view+json": {
       "model_id": "3cd220467e974cea9627ded4aa7395e8",
       "version_major": 2,
       "version_minor": 0
      },
      "text/plain": [
       "Tab(children=(Output(layout=Layout(border='1px solid black', min_height='200px')), Output(layout=Layout(border…"
      ]
     },
     "metadata": {},
     "output_type": "display_data"
    }
   ],
   "source": [
    "k12ai_out_data(start_context['key'], ['status', 'metrics', 'error'], hook_func=k12ai_count_down(wait_cnt))"
   ]
  },
  {
   "cell_type": "code",
   "execution_count": 10,
   "metadata": {},
   "outputs": [
    {
     "name": "stdout",
     "output_type": "stream",
     "text": [
      "{\n",
      "    \"req\": {\n",
      "        \"op\": \"train.stop\",\n",
      "        \"user\": \"test\",\n",
      "        \"service_name\": \"k12cv\",\n",
      "        \"service_uuid\": \"cifar10\",\n",
      "        \"service_params\": {}\n",
      "    },\n",
      "    \"res\": {\n",
      "        \"code\": 100000,\n",
      "        \"descr\": \"success\"\n",
      "    },\n",
      "    \"key\": \"framework/test/cifar10/train.stop\"\n",
      "}\n",
      "[\n",
      "    {\n",
      "        \"key\": \"framework/test/cifar10/train.start/status\",\n",
      "        \"value\": {\n",
      "            \"version\": \"0.1.0\",\n",
      "            \"type\": \"status\",\n",
      "            \"tag\": \"framework\",\n",
      "            \"op\": \"train.start\",\n",
      "            \"user\": \"test\",\n",
      "            \"service_uuid\": \"cifar10\",\n",
      "            \"timestamp\": 1578305490410,\n",
      "            \"datetime\": \"20200106181130\",\n",
      "            \"status\": {\n",
      "                \"value\": \"running\"\n",
      "            }\n",
      "        }\n",
      "    }\n",
      "]\n"
     ]
    }
   ],
   "source": [
    "cifar10_train_stop()\n",
    "k12ai_print(k12ai_get_data(start_context['key'], 'status', waitcnt=5))"
   ]
  },
  {
   "cell_type": "markdown",
   "metadata": {},
   "source": [
    "异步输出样例:\n",
    "\n",
    "```json\n",
    "{\n",
    "    \"version\": \"0.1.0\",\n",
    "    \"type\": \"metrics\",\n",
    "    \"tag\": \"framework\",\n",
    "    \"op\": \"train.start\",\n",
    "    \"user\": \"test\",\n",
    "    \"service_uuid\": \"abcdef\",\n",
    "    \"timestamp\": 1574939332062,\n",
    "    \"datetime\": \"2019-11-28 19:08:52\",\n",
    "    \"metrics\": {\n",
    "        \"training_epochs\": 1,\n",
    "        \"training_loss\": 2.3058,\n",
    "        \"training_speed\": 0.105,\n",
    "        \"lr\": [\n",
    "            0.1,\n",
    "            0.1\n",
    "        ],\n",
    "        \"validation_loss\": 2.3041,\n",
    "        \"validation_accuracy\": 0.10519999710842967,\n",
    "        \"validation_accuracy3\": 0.3018999940156937,\n",
    "        \"validation_accuracy5\": 0.49709998607635497\n",
    "    }\n",
    "}\n",
    "```"
   ]
  },
  {
   "cell_type": "markdown",
   "metadata": {},
   "source": [
    "### 1.2 评估"
   ]
  },
  {
   "cell_type": "markdown",
   "metadata": {},
   "source": [
    "### evaluate.stop"
   ]
  },
  {
   "cell_type": "code",
   "execution_count": 11,
   "metadata": {},
   "outputs": [
    {
     "name": "stdout",
     "output_type": "stream",
     "text": [
      "{\n",
      "    \"req\": {\n",
      "        \"op\": \"evaluate.stop\",\n",
      "        \"user\": \"test\",\n",
      "        \"service_name\": \"k12cv\",\n",
      "        \"service_uuid\": \"cifar10\",\n",
      "        \"service_params\": {}\n",
      "    },\n",
      "    \"res\": {\n",
      "        \"code\": 100000,\n",
      "        \"descr\": \"success\"\n",
      "    },\n",
      "    \"key\": \"framework/test/cifar10/evaluate.stop\"\n",
      "}\n"
     ]
    }
   ],
   "source": [
    "stop_context = cifar10_evaluate_stop()"
   ]
  },
  {
   "cell_type": "code",
   "execution_count": 12,
   "metadata": {},
   "outputs": [
    {
     "name": "stdout",
     "output_type": "stream",
     "text": [
      "[\n",
      "    {\n",
      "        \"key\": \"framework/test/cifar10/evaluate.stop/error/202001061811\",\n",
      "        \"value\": {\n",
      "            \"version\": \"0.1.0\",\n",
      "            \"type\": \"error\",\n",
      "            \"tag\": \"framework\",\n",
      "            \"op\": \"evaluate.stop\",\n",
      "            \"user\": \"test\",\n",
      "            \"service_uuid\": \"cifar10\",\n",
      "            \"timestamp\": 1578305497391,\n",
      "            \"datetime\": \"20200106181137\",\n",
      "            \"error\": {\n",
      "                \"code\": 100300,\n",
      "                \"descr\": \"success\",\n",
      "                \"message\": \"container name:evaluate-test-cifar10\"\n",
      "            }\n",
      "        }\n",
      "    }\n",
      "]\n"
     ]
    }
   ],
   "source": [
    "k12ai_del_data(stop_context['key'])\n",
    "k12ai_print(k12ai_get_data(stop_context['key'], 'error', waitcnt=5))"
   ]
  },
  {
   "cell_type": "markdown",
   "metadata": {},
   "source": [
    "### evaluate.start"
   ]
  },
  {
   "cell_type": "code",
   "execution_count": 13,
   "metadata": {},
   "outputs": [
    {
     "name": "stdout",
     "output_type": "stream",
     "text": [
      "{\n",
      "    \"req\": {\n",
      "        \"op\": \"evaluate.start\",\n",
      "        \"user\": \"test\",\n",
      "        \"service_name\": \"k12cv\",\n",
      "        \"service_uuid\": \"cifar10\",\n",
      "        \"service_params\": {\n",
      "            \"dataset\": \"default\",\n",
      "            \"task\": \"cls\",\n",
      "            \"method\": \"image_classifier\",\n",
      "            \"data\": {\n",
      "                \"num_classes\": 10,\n",
      "                \"data_dir\": \"/data/datasets/cv/cifar10\",\n",
      "                \"image_tool\": \"pil\",\n",
      "                \"input_mode\": \"RGB\",\n",
      "                \"workers\": 1,\n",
      "                \"normalize\": {\n",
      "                    \"div_value\": 255,\n",
      "                    \"mean\": [\n",
      "                        0.485,\n",
      "                        0.456,\n",
      "                        0.406\n",
      "                    ],\n",
      "                    \"std\": [\n",
      "                        0.229,\n",
      "                        0.224,\n",
      "                        0.225\n",
      "                    ]\n",
      "                }\n",
      "            },\n",
      "            \"train\": {\n",
      "                \"batch_size\": 32,\n",
      "                \"aug_trans\": {\n",
      "                    \"trans_seq\": [\n",
      "                        \"random_hflip\",\n",
      "                        \"random_border\",\n",
      "                        \"random_crop\"\n",
      "                    ],\n",
      "                    \"random_hflip\": {\n",
      "                        \"ratio\": 0.5,\n",
      "                        \"swap_pair\": []\n",
      "                    },\n",
      "                    \"random_border\": {\n",
      "                        \"ratio\": 1,\n",
      "                        \"pad\": [\n",
      "                            4,\n",
      "                            4,\n",
      "                            4,\n",
      "                            4\n",
      "                        ],\n",
      "                        \"allow_outside_center\": false\n",
      "                    },\n",
      "                    \"random_crop\": {\n",
      "                        \"ratio\": 1,\n",
      "                        \"crop_size\": [\n",
      "                            32,\n",
      "                            32\n",
      "                        ],\n",
      "                        \"method\": \"random\",\n",
      "                        \"allow_outside_center\": false\n",
      "                    }\n",
      "                },\n",
      "                \"data_transformer\": {\n",
      "                    \"size_mode\": \"fix_size\",\n",
      "                    \"input_size\": [\n",
      "                        32,\n",
      "                        32\n",
      "                    ],\n",
      "                    \"align_method\": \"only_pad\"\n",
      "                }\n",
      "            },\n",
      "            \"val\": {\n",
      "                \"batch_size\": 32,\n",
      "                \"aug_trans\": {\n",
      "                    \"trans_seq\": []\n",
      "                },\n",
      "                \"data_transformer\": {\n",
      "                    \"size_mode\": \"fix_size\",\n",
      "                    \"input_size\": [\n",
      "                        32,\n",
      "                        32\n",
      "                    ],\n",
      "                    \"align_method\": \"only_pad\"\n",
      "                }\n",
      "            },\n",
      "            \"test\": {},\n",
      "            \"details\": {\n",
      "                \"name_seq\": [\n",
      "                    \"plane\",\n",
      "                    \"car\",\n",
      "                    \"bird\",\n",
      "                    \"cat\",\n",
      "                    \"deer\",\n",
      "                    \"dog\",\n",
      "                    \"frog\",\n",
      "                    \"horse\",\n",
      "                    \"ship\",\n",
      "                    \"truck\"\n",
      "                ],\n",
      "                \"color_list\": [\n",
      "                    [\n",
      "                        255,\n",
      "                        0,\n",
      "                        0\n",
      "                    ],\n",
      "                    [\n",
      "                        255,\n",
      "                        85,\n",
      "                        0\n",
      "                    ],\n",
      "                    [\n",
      "                        255,\n",
      "                        170,\n",
      "                        0\n",
      "                    ],\n",
      "                    [\n",
      "                        255,\n",
      "                        255,\n",
      "                        0\n",
      "                    ],\n",
      "                    [\n",
      "                        170,\n",
      "                        255,\n",
      "                        0\n",
      "                    ],\n",
      "                    [\n",
      "                        85,\n",
      "                        255,\n",
      "                        0\n",
      "                    ],\n",
      "                    [\n",
      "                        0,\n",
      "                        255,\n",
      "                        0\n",
      "                    ],\n",
      "                    [\n",
      "                        0,\n",
      "                        255,\n",
      "                        85\n",
      "                    ],\n",
      "                    [\n",
      "                        0,\n",
      "                        255,\n",
      "                        170\n",
      "                    ],\n",
      "                    [\n",
      "                        0,\n",
      "                        255,\n",
      "                        255\n",
      "                    ],\n",
      "                    [\n",
      "                        0,\n",
      "                        170,\n",
      "                        255\n",
      "                    ],\n",
      "                    [\n",
      "                        0,\n",
      "                        85,\n",
      "                        255\n",
      "                    ],\n",
      "                    [\n",
      "                        0,\n",
      "                        0,\n",
      "                        255\n",
      "                    ],\n",
      "                    [\n",
      "                        85,\n",
      "                        0,\n",
      "                        255\n",
      "                    ],\n",
      "                    [\n",
      "                        170,\n",
      "                        0,\n",
      "                        255\n",
      "                    ],\n",
      "                    [\n",
      "                        255,\n",
      "                        0,\n",
      "                        255\n",
      "                    ],\n",
      "                    [\n",
      "                        255,\n",
      "                        0,\n",
      "                        170\n",
      "                    ],\n",
      "                    [\n",
      "                        255,\n",
      "                        0,\n",
      "                        85\n",
      "                    ],\n",
      "                    [\n",
      "                        255,\n",
      "                        0,\n",
      "                        170\n",
      "                    ],\n",
      "                    [\n",
      "                        255,\n",
      "                        0,\n",
      "                        85\n",
      "                    ]\n",
      "                ]\n",
      "            },\n",
      "            \"network\": {\n",
      "                \"model_name\": \"cls_model\",\n",
      "                \"backbone\": \"vgg19\",\n",
      "                \"pooled_size\": [\n",
      "                    1,\n",
      "                    1\n",
      "                ]\n",
      "            },\n",
      "            \"solver\": {\n",
      "                \"lr\": {\n",
      "                    \"metric\": \"epoch\",\n",
      "                    \"base_lr\": 0.1,\n",
      "                    \"lr_policy\": \"multistep\",\n",
      "                    \"step\": {\n",
      "                        \"gamma\": 0.1,\n",
      "                        \"step_size\": 30\n",
      "                    },\n",
      "                    \"multistep\": {\n",
      "                        \"gamma\": 0.1,\n",
      "                        \"stepvalue\": [\n",
      "                            150,\n",
      "                            250,\n",
      "                            350\n",
      "                        ]\n",
      "                    }\n",
      "                },\n",
      "                \"optim\": {\n",
      "                    \"optim_method\": \"sgd\",\n",
      "                    \"adam\": {\n",
      "                        \"betas\": [\n",
      "                            0.9,\n",
      "                            0.999\n",
      "                        ],\n",
      "                        \"eps\": 1e-08,\n",
      "                        \"weight_decay\": 0.0001\n",
      "                    },\n",
      "                    \"sgd\": {\n",
      "                        \"weight_decay\": 4e-05,\n",
      "                        \"momentum\": 0.9,\n",
      "                        \"nesterov\": false\n",
      "                    }\n",
      "                },\n",
      "                \"display_iter\": 20,\n",
      "                \"save_iters\": 2000,\n",
      "                \"test_interval\": 100,\n",
      "                \"max_epoch\": 2\n",
      "            },\n",
      "            \"loss\": {\n",
      "                \"loss_type\": \"ce_loss\",\n",
      "                \"loss_weights\": {\n",
      "                    \"ce_loss\": {\n",
      "                        \"ce_loss\": 1\n",
      "                    },\n",
      "                    \"soft_ce_loss\": {\n",
      "                        \"soft_ce_loss\": 1\n",
      "                    },\n",
      "                    \"mixup_ce_loss\": {\n",
      "                        \"mixup_ce_loss\": 1\n",
      "                    },\n",
      "                    \"mixup_soft_ce_loss\": {\n",
      "                        \"mixup_soft_ce_loss\": 1\n",
      "                    }\n",
      "                },\n",
      "                \"params\": {\n",
      "                    \"ce_loss\": {\n",
      "                        \"reduction\": \"mean\",\n",
      "                        \"ignore_index\": -1\n",
      "                    },\n",
      "                    \"soft_ce_loss\": {\n",
      "                        \"reduction\": \"batchmean\",\n",
      "                        \"label_smooth\": 0.1\n",
      "                    },\n",
      "                    \"mixup_ce_loss\": {\n",
      "                        \"reduction\": \"mean\",\n",
      "                        \"ignore_index\": -1\n",
      "                    },\n",
      "                    \"mixup_soft_ce_loss\": {\n",
      "                        \"reduction\": \"batchmean\",\n",
      "                        \"label_smooth\": 0.1\n",
      "                    }\n",
      "                }\n",
      "            }\n",
      "        }\n",
      "    },\n",
      "    \"res\": {\n",
      "        \"code\": 100000,\n",
      "        \"descr\": \"success\",\n",
      "        \"message\": {\n",
      "            \"config_path\": \"/data/users/test/cifar10/config.json\",\n",
      "            \"resume_path\": \"/data/users/test/cifar10/ckpts/cifar10/cls_model_latest.pth\",\n",
      "            \"dataset_path\": \"/data/datasets/cv/cifar10\",\n",
      "            \"ckpts_root\": \"/data/users/test/cifar10\",\n",
      "            \"ckpts_name\": \"cls_model\",\n",
      "            \"test_dir\": \"/data/datasets/cv/cifar10/imgs/test\",\n",
      "            \"out_dir\": \"/data/users/test/cifar10/out\"\n",
      "        }\n",
      "    },\n",
      "    \"key\": \"framework/test/cifar10/evaluate.start\"\n",
      "}\n"
     ]
    }
   ],
   "source": [
    "start_context = cifar10_evaluate_start()"
   ]
  },
  {
   "cell_type": "code",
   "execution_count": 14,
   "metadata": {},
   "outputs": [],
   "source": [
    "k12ai_del_data(start_context['key'])\n",
    "if start_context['res']['code'] != 100000:\n",
    "    k12ai_print(start_context['res'])\n",
    "    raise "
   ]
  },
  {
   "cell_type": "code",
   "execution_count": 15,
   "metadata": {},
   "outputs": [
    {
     "ename": "KeyboardInterrupt",
     "evalue": "",
     "output_type": "error",
     "traceback": [
      "\u001b[0;31m\u001b[0m",
      "\u001b[0;31mKeyboardInterrupt\u001b[0mTraceback (most recent call last)",
      "\u001b[0;32m<ipython-input-15-cc4a243bb9e9>\u001b[0m in \u001b[0;36m<module>\u001b[0;34m\u001b[0m\n\u001b[0;32m----> 1\u001b[0;31m \u001b[0mk12ai_print\u001b[0m\u001b[0;34m(\u001b[0m\u001b[0mk12ai_get_data\u001b[0m\u001b[0;34m(\u001b[0m\u001b[0mstart_context\u001b[0m\u001b[0;34m[\u001b[0m\u001b[0;34m'key'\u001b[0m\u001b[0;34m]\u001b[0m\u001b[0;34m,\u001b[0m \u001b[0;34m'metrics'\u001b[0m\u001b[0;34m,\u001b[0m \u001b[0mwaitcnt\u001b[0m\u001b[0;34m=\u001b[0m\u001b[0mwait_cnt\u001b[0m\u001b[0;34m)\u001b[0m\u001b[0;34m)\u001b[0m\u001b[0;34m\u001b[0m\u001b[0;34m\u001b[0m\u001b[0m\n\u001b[0m\u001b[1;32m      2\u001b[0m \u001b[0mk12ai_print\u001b[0m\u001b[0;34m(\u001b[0m\u001b[0mk12ai_get_data\u001b[0m\u001b[0;34m(\u001b[0m\u001b[0mstart_context\u001b[0m\u001b[0;34m[\u001b[0m\u001b[0;34m'key'\u001b[0m\u001b[0;34m]\u001b[0m\u001b[0;34m,\u001b[0m \u001b[0;34m'error'\u001b[0m\u001b[0;34m)\u001b[0m\u001b[0;34m)\u001b[0m\u001b[0;34m\u001b[0m\u001b[0;34m\u001b[0m\u001b[0m\n\u001b[1;32m      3\u001b[0m \u001b[0mk12ai_print\u001b[0m\u001b[0;34m(\u001b[0m\u001b[0mk12ai_get_data\u001b[0m\u001b[0;34m(\u001b[0m\u001b[0mstart_context\u001b[0m\u001b[0;34m[\u001b[0m\u001b[0;34m'key'\u001b[0m\u001b[0;34m]\u001b[0m\u001b[0;34m,\u001b[0m \u001b[0;34m'status'\u001b[0m\u001b[0;34m)\u001b[0m\u001b[0;34m)\u001b[0m\u001b[0;34m\u001b[0m\u001b[0;34m\u001b[0m\u001b[0m\n",
      "\u001b[0;32m/hzcsk12/hzcsnote/k12libs/utils/nb_easy.py\u001b[0m in \u001b[0;36mk12ai_get_data\u001b[0;34m(key, subkey, num, waitcnt, http)\u001b[0m\n\u001b[1;32m    102\u001b[0m             \u001b[0;32mif\u001b[0m \u001b[0;32mnot\u001b[0m \u001b[0mdata\u001b[0m\u001b[0;34m:\u001b[0m\u001b[0;34m\u001b[0m\u001b[0;34m\u001b[0m\u001b[0m\n\u001b[1;32m    103\u001b[0m                 \u001b[0mi\u001b[0m \u001b[0;34m=\u001b[0m \u001b[0mi\u001b[0m \u001b[0;34m+\u001b[0m \u001b[0;36m1\u001b[0m\u001b[0;34m\u001b[0m\u001b[0;34m\u001b[0m\u001b[0m\n\u001b[0;32m--> 104\u001b[0;31m                 \u001b[0mtime\u001b[0m\u001b[0;34m.\u001b[0m\u001b[0msleep\u001b[0m\u001b[0;34m(\u001b[0m\u001b[0;36m1\u001b[0m\u001b[0;34m)\u001b[0m\u001b[0;34m\u001b[0m\u001b[0;34m\u001b[0m\u001b[0m\n\u001b[0m\u001b[1;32m    105\u001b[0m                 \u001b[0;32mcontinue\u001b[0m\u001b[0;34m\u001b[0m\u001b[0;34m\u001b[0m\u001b[0m\n\u001b[1;32m    106\u001b[0m             \u001b[0;32mif\u001b[0m \u001b[0mlen\u001b[0m\u001b[0;34m(\u001b[0m\u001b[0mdata\u001b[0m\u001b[0;34m)\u001b[0m \u001b[0;34m<\u001b[0m \u001b[0mnum\u001b[0m\u001b[0;34m:\u001b[0m\u001b[0;34m\u001b[0m\u001b[0;34m\u001b[0m\u001b[0m\n",
      "\u001b[0;31mKeyboardInterrupt\u001b[0m: "
     ]
    }
   ],
   "source": [
    "k12ai_print(k12ai_get_data(start_context['key'], 'metrics', waitcnt=wait_cnt))\n",
    "k12ai_print(k12ai_get_data(start_context['key'], 'error'))\n",
    "k12ai_print(k12ai_get_data(start_context['key'], 'status'))"
   ]
  },
  {
   "cell_type": "markdown",
   "metadata": {},
   "source": [
    "## 2 MNIST"
   ]
  },
  {
   "cell_type": "markdown",
   "metadata": {},
   "source": [
    "### 2.1 训练"
   ]
  },
  {
   "cell_type": "code",
   "execution_count": 20,
   "metadata": {},
   "outputs": [],
   "source": [
    "from k12libs.templates.cls.mnist import IC_MNIST_CONFIG\n",
    "\n",
    "def mnist_train_stop():\n",
    "    cv_stop = k12ai_post_cv_request(\n",
    "        uri='k12ai/framework/train',\n",
    "        op='train.stop',\n",
    "        user='test',\n",
    "        uuid='mnist',\n",
    "    )\n",
    "    k12ai_print(cv_stop)\n",
    "    return cv_stop\n",
    "    \n",
    "def mnist_train_start():\n",
    "    cv_start = k12ai_post_cv_request(\n",
    "        uri='k12ai/framework/train',\n",
    "        op='train.start',\n",
    "        user='test',\n",
    "        uuid='mnist',\n",
    "        params=config\n",
    "    )\n",
    "    k12ai_print(cv_start)\n",
    "    return cv_start\n",
    "\n",
    "def mnist_evaluate_stop():\n",
    "    cv_stop = k12ai_post_cv_request(\n",
    "        uri='k12ai/framework/evaluate',\n",
    "        op='evaluate.stop',\n",
    "        user='test',\n",
    "        uuid='mnist',\n",
    "    )\n",
    "    k12ai_print(cv_stop)\n",
    "    return cv_stop\n",
    "\n",
    "def mnist_evaluate_start():\n",
    "    cv_start = k12ai_post_cv_request(\n",
    "        uri='k12ai/framework/evaluate',\n",
    "        op='evaluate.start',\n",
    "        user='test',\n",
    "        uuid='mnist',\n",
    "        params=config\n",
    "    )\n",
    "    k12ai_print(cv_start)\n",
    "    return cv_start"
   ]
  },
  {
   "cell_type": "code",
   "execution_count": 21,
   "metadata": {},
   "outputs": [],
   "source": [
    "config = IC_MNIST_CONFIG\n",
    "config['solver']['max_epoch'] = 2\n",
    "config['network']['model_name'] = 'base_model'\n",
    "config['network']['backbone'] = 'resnet18'\n",
    "config['solver']['optim']['optim_method'] = 'adam'\n",
    "config['train']['batch_size'] = 32"
   ]
  },
  {
   "cell_type": "markdown",
   "metadata": {},
   "source": [
    "### train.stop"
   ]
  },
  {
   "cell_type": "code",
   "execution_count": 19,
   "metadata": {
    "scrolled": true
   },
   "outputs": [
    {
     "name": "stdout",
     "output_type": "stream",
     "text": [
      "{\n",
      "    \"req\": {\n",
      "        \"op\": \"train.stop\",\n",
      "        \"user\": \"test\",\n",
      "        \"service_name\": \"k12cv\",\n",
      "        \"service_uuid\": \"mnist\",\n",
      "        \"service_params\": {}\n",
      "    },\n",
      "    \"res\": {\n",
      "        \"code\": 100000,\n",
      "        \"descr\": \"success\"\n",
      "    },\n",
      "    \"key\": \"framework/test/mnist/train.stop\"\n",
      "}\n"
     ]
    }
   ],
   "source": [
    "stop_context = mnist_train_stop()\n",
    "k12ai_del_data(stop_context['key'])\n",
    "k12ai_print(k12ai_get_data(stop_context['key'], 'error', waitcnt=3))"
   ]
  },
  {
   "cell_type": "markdown",
   "metadata": {},
   "source": [
    "### train.sart"
   ]
  },
  {
   "cell_type": "code",
   "execution_count": 23,
   "metadata": {},
   "outputs": [
    {
     "name": "stdout",
     "output_type": "stream",
     "text": [
      "{\n",
      "    \"req\": {\n",
      "        \"op\": \"train.start\",\n",
      "        \"user\": \"test\",\n",
      "        \"service_name\": \"k12cv\",\n",
      "        \"service_uuid\": \"mnist\",\n",
      "        \"service_params\": {\n",
      "            \"dataset\": \"default\",\n",
      "            \"task\": \"cls\",\n",
      "            \"method\": \"image_classifier\",\n",
      "            \"data\": {\n",
      "                \"num_classes\": 10,\n",
      "                \"data_dir\": \"/data/datasets/cv/mnist\",\n",
      "                \"image_tool\": \"cv2\",\n",
      "                \"input_mode\": \"BGR\",\n",
      "                \"workers\": 1,\n",
      "                \"normalize\": {\n",
      "                    \"div_value\": 1,\n",
      "                    \"mean\": [\n",
      "                        0.1307,\n",
      "                        0.1307,\n",
      "                        0.1307\n",
      "                    ],\n",
      "                    \"std\": [\n",
      "                        0.3081,\n",
      "                        0.3081,\n",
      "                        0.3081\n",
      "                    ]\n",
      "                }\n",
      "            },\n",
      "            \"train\": {\n",
      "                \"batch_size\": 32,\n",
      "                \"aug_trans\": {\n",
      "                    \"trans_seq\": []\n",
      "                },\n",
      "                \"data_transformer\": {\n",
      "                    \"size_mode\": \"fix_size\",\n",
      "                    \"input_size\": [\n",
      "                        28,\n",
      "                        28\n",
      "                    ],\n",
      "                    \"align_method\": \"only_pad\"\n",
      "                }\n",
      "            },\n",
      "            \"val\": {\n",
      "                \"batch_size\": 32,\n",
      "                \"aug_trans\": {\n",
      "                    \"trans_seq\": []\n",
      "                },\n",
      "                \"data_transformer\": {\n",
      "                    \"size_mode\": \"fix_size\",\n",
      "                    \"input_size\": [\n",
      "                        28,\n",
      "                        28\n",
      "                    ],\n",
      "                    \"align_method\": \"only_pad\"\n",
      "                }\n",
      "            },\n",
      "            \"test\": {},\n",
      "            \"network\": {\n",
      "                \"model_name\": \"base_model\",\n",
      "                \"backbone\": \"resnet18\"\n",
      "            },\n",
      "            \"solver\": {\n",
      "                \"lr\": {\n",
      "                    \"metric\": \"epoch\",\n",
      "                    \"base_lr\": 0.0001,\n",
      "                    \"lr_policy\": \"step\",\n",
      "                    \"step\": {\n",
      "                        \"gamma\": 0.1,\n",
      "                        \"step_size\": 30\n",
      "                    },\n",
      "                    \"multistep\": {}\n",
      "                },\n",
      "                \"optim\": {\n",
      "                    \"optim_method\": \"adam\",\n",
      "                    \"adam\": {\n",
      "                        \"betas\": [\n",
      "                            0.9,\n",
      "                            0.999\n",
      "                        ],\n",
      "                        \"eps\": 1e-08,\n",
      "                        \"weight_decay\": 0.0001\n",
      "                    },\n",
      "                    \"sgd\": {\n",
      "                        \"weight_decay\": 4e-05,\n",
      "                        \"momentum\": 0.9,\n",
      "                        \"nesterov\": false\n",
      "                    }\n",
      "                },\n",
      "                \"display_iter\": 20,\n",
      "                \"save_iters\": 200,\n",
      "                \"test_interval\": 50,\n",
      "                \"max_epoch\": 2\n",
      "            },\n",
      "            \"loss\": {\n",
      "                \"loss_type\": \"ce_loss\",\n",
      "                \"loss_weights\": {\n",
      "                    \"ce_loss\": {\n",
      "                        \"ce_loss\": 1\n",
      "                    },\n",
      "                    \"soft_ce_loss\": {\n",
      "                        \"soft_ce_loss\": 1\n",
      "                    },\n",
      "                    \"mixup_ce_loss\": {\n",
      "                        \"mixup_ce_loss\": 1\n",
      "                    },\n",
      "                    \"mixup_soft_ce_loss\": {\n",
      "                        \"mixup_soft_ce_loss\": 1\n",
      "                    }\n",
      "                },\n",
      "                \"params\": {\n",
      "                    \"ce_loss\": {\n",
      "                        \"reduction\": \"mean\",\n",
      "                        \"ignore_index\": -1\n",
      "                    },\n",
      "                    \"soft_ce_loss\": {\n",
      "                        \"reduction\": \"batchmean\",\n",
      "                        \"label_smooth\": 0.1\n",
      "                    },\n",
      "                    \"mixup_ce_loss\": {\n",
      "                        \"reduction\": \"mean\",\n",
      "                        \"ignore_index\": -1\n",
      "                    },\n",
      "                    \"mixup_soft_ce_loss\": {\n",
      "                        \"reduction\": \"batchmean\",\n",
      "                        \"label_smooth\": 0.1\n",
      "                    }\n",
      "                }\n",
      "            }\n",
      "        }\n",
      "    },\n",
      "    \"res\": {\n",
      "        \"code\": 100000,\n",
      "        \"descr\": \"success\",\n",
      "        \"message\": {\n",
      "            \"config_path\": \"/data/users/test/mnist/config.json\",\n",
      "            \"resume_path\": \"/data/users/test/mnist/ckpts/mnist/base_model_latest.pth\",\n",
      "            \"dataset_path\": \"/data/datasets/cv/mnist\",\n",
      "            \"ckpts_root\": \"/data/users/test/mnist\",\n",
      "            \"ckpts_name\": \"base_model\",\n",
      "            \"test_dir\": \"/data/datasets/cv/mnist/imgs/test\",\n",
      "            \"out_dir\": \"/data/users/test/mnist/out\"\n",
      "        }\n",
      "    },\n",
      "    \"key\": \"framework/test/mnist/train.start\"\n",
      "}\n"
     ]
    }
   ],
   "source": [
    "start_context = mnist_train_start()\n",
    "k12ai_del_data(start_context['key'])\n",
    "if start_context['res']['code'] != 100000:\n",
    "    k12ai_print(start_context['res'])\n",
    "    raise "
   ]
  },
  {
   "cell_type": "code",
   "execution_count": 16,
   "metadata": {},
   "outputs": [
    {
     "name": "stdout",
     "output_type": "stream",
     "text": [
      "[\n",
      "    {\n",
      "        \"key\": \"framework/test/mnist/train.start/metrics/202001091008\",\n",
      "        \"value\": {\n",
      "            \"version\": \"0.1.0\",\n",
      "            \"type\": \"metrics\",\n",
      "            \"tag\": \"framework\",\n",
      "            \"op\": \"train.start\",\n",
      "            \"user\": \"test\",\n",
      "            \"service_uuid\": \"mnist\",\n",
      "            \"timestamp\": 1578535711124,\n",
      "            \"datetime\": \"20200109100831\",\n",
      "            \"metrics\": {\n",
      "                \"training_epochs\": 1,\n",
      "                \"training_loss\": 0.0743,\n",
      "                \"training_speed\": 0.077,\n",
      "                \"lr\": [\n",
      "                    0.0001,\n",
      "                    0.0001\n",
      "                ],\n",
      "                \"validation_loss\": 0.0548,\n",
      "                \"validation_accuracy\": 0.9839166666666667,\n",
      "                \"validation_accuracy3\": 0.9981666666666666,\n",
      "                \"validation_accuracy5\": 0.99975\n",
      "            }\n",
      "        }\n",
      "    }\n",
      "]\n",
      "[\n",
      "    {\n",
      "        \"key\": \"framework/test/mnist/train.start/status\",\n",
      "        \"value\": {\n",
      "            \"version\": \"0.1.0\",\n",
      "            \"type\": \"status\",\n",
      "            \"tag\": \"framework\",\n",
      "            \"op\": \"train.start\",\n",
      "            \"user\": \"test\",\n",
      "            \"service_uuid\": \"mnist\",\n",
      "            \"timestamp\": 1578535711971,\n",
      "            \"datetime\": \"20200109100831\",\n",
      "            \"status\": {\n",
      "                \"value\": \"exit\",\n",
      "                \"way\": \"manual\"\n",
      "            }\n",
      "        }\n",
      "    }\n",
      "]\n"
     ]
    }
   ],
   "source": [
    "k12ai_print(k12ai_get_data(start_context['key'], 'metrics', waitcnt=wait_cnt))\n",
    "k12ai_print(k12ai_get_data(start_context['key'], 'error'))\n",
    "k12ai_print(k12ai_get_data(start_context['key'], 'status'))"
   ]
  },
  {
   "cell_type": "code",
   "execution_count": null,
   "metadata": {},
   "outputs": [],
   "source": [
    "mnist_train_stop()\n",
    "k12ai_print(k12ai_get_data(start_context['key'], 'status', waitcnt=3))"
   ]
  },
  {
   "cell_type": "markdown",
   "metadata": {},
   "source": [
    "## 2.2 评估"
   ]
  },
  {
   "cell_type": "markdown",
   "metadata": {},
   "source": [
    "### evaluate.stop"
   ]
  },
  {
   "cell_type": "code",
   "execution_count": null,
   "metadata": {},
   "outputs": [],
   "source": [
    "stop_context = mnist_evaluate_stop()"
   ]
  },
  {
   "cell_type": "code",
   "execution_count": null,
   "metadata": {},
   "outputs": [],
   "source": [
    "k12ai_del_data(stop_context['key'])\n",
    "k12ai_print(k12ai_get_data(stop_context['key'], 'error', waitcnt=3))"
   ]
  },
  {
   "cell_type": "markdown",
   "metadata": {},
   "source": [
    "### evaluate.start"
   ]
  },
  {
   "cell_type": "code",
   "execution_count": null,
   "metadata": {},
   "outputs": [],
   "source": [
    "start_context = mnist_evaluate_start()"
   ]
  },
  {
   "cell_type": "code",
   "execution_count": null,
   "metadata": {},
   "outputs": [],
   "source": [
    "k12ai_del_data(start_context['key'])\n",
    "if start_context['res']['code'] != 100000:\n",
    "    k12ai_print(start_context['res']['message'])\n",
    "    raise "
   ]
  },
  {
   "cell_type": "code",
   "execution_count": null,
   "metadata": {},
   "outputs": [],
   "source": [
    "k12ai_print(k12ai_get_data(start_context['key'], 'metrics', waitcnt=wait_cnt))\n",
    "k12ai_print(k12ai_get_data(start_context['key'], 'error'))\n",
    "k12ai_print(k12ai_get_data(start_context['key'], 'status'))"
   ]
  },
  {
   "cell_type": "code",
   "execution_count": null,
   "metadata": {},
   "outputs": [],
   "source": [
    "mnist_evaluate_stop()\n",
    "k12ai_print(k12ai_get_data(start_context['key'], 'status', waitcnt=3))"
   ]
  }
 ],
 "metadata": {
  "kernelspec": {
   "display_name": "Python 3",
   "language": "python",
   "name": "python3"
  },
  "language_info": {
   "codemirror_mode": {
    "name": "ipython",
    "version": 3
   },
   "file_extension": ".py",
   "mimetype": "text/x-python",
   "name": "python",
   "nbconvert_exporter": "python",
   "pygments_lexer": "ipython3",
   "version": "3.6.9"
  }
 },
 "nbformat": 4,
 "nbformat_minor": 2
}
