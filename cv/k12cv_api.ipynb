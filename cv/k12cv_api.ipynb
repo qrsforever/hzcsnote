{
 "cells": [
  {
   "cell_type": "markdown",
   "metadata": {},
   "source": [
    "# <div align=\"center\"> CV Api Test </div>"
   ]
  },
  {
   "cell_type": "code",
   "execution_count": 1,
   "metadata": {},
   "outputs": [],
   "source": [
    "%reload_ext autoreload\n",
    "%autoreload"
   ]
  },
  {
   "cell_type": "code",
   "execution_count": 2,
   "metadata": {},
   "outputs": [],
   "source": [
    "from k12libs.utils.nb_easy import k12ai_post_request\n",
    "from k12libs.utils.nb_easy import k12ai_post_cv_request\n",
    "from k12libs.utils.nb_easy import k12ai_get_data\n",
    "from k12libs.utils.nb_easy import k12ai_del_data\n",
    "from k12libs.utils.nb_easy import k12ai_out_data\n",
    "from k12libs.utils.nb_easy import k12ai_print\n",
    "from k12libs.utils.nb_easy import k12ai_count_down\n",
    "from k12libs.utils.nb_widget import k12ai_schema_parse\n",
    "\n",
    "import json"
   ]
  },
  {
   "cell_type": "markdown",
   "metadata": {},
   "source": [
    "## 1. 获取schema"
   ]
  },
  {
   "cell_type": "code",
   "execution_count": 10,
   "metadata": {},
   "outputs": [
    {
     "data": {
      "text/plain": [
       "'{\"code\": 100202, \"descr\": \"task service start fails\", \"detail\": {\"err_type\": \"RemoteError\", \"err_text\": \"Traceback (most recent call last):\\\\n  File \\\\\"/usr/local/lib/python3.6/site-packages/zerorpc/core.py\\\\\", line 153, in _async_task\\\\n    functor.pattern.process_call(self._context, bufchan, event, functor)\\\\n  File \\\\\"/usr/local/lib/python3.6/site-packages/zerorpc/patterns.py\\\\\", line 30, in process_call\\\\n    result = functor(*req_event.args)\\\\n  File \\\\\"/usr/local/lib/python3.6/site-packages/zerorpc/decorators.py\\\\\", line 44, in __call__\\\\n    return self._functor(*args, **kargs)\\\\n  File \\\\\"/home/lidong/workspace/codes/hzcsai_com/hzcsk12/cv/app/k12cv_service.py\\\\\", line 284, in schema\\\\n    \\'dataset_name\\': dataset_name})\\\\nRuntimeError: RUNTIME ERROR: couldn\\'t open import \\\\\"data/assemble.jsonnet\\\\\": no match locally or in the Jsonnet library paths.\\\\n\\\\t/home/lidong/workspace/codes/hzcsai_com/hzcsk12/cv/app/templates/schema/k12ai_cv.jsonnet:16:27-57\\\\tobject <anonymous>\\\\n\\\\t/home/lidong/workspace/codes/hzcsai_com/hzcsk12/cv/app/templates/schema/k12ai_cv.jsonnet:(13:17)-(17:18)\\\\tthunk <array_element>\\\\n\\\\t/home/lidong/workspace/codes/hzcsai_com/hzcsk12/cv/app/templates/schema/k12ai_cv.jsonnet:(12:19)-(28:14)\\\\tobject <anonymous>\\\\n\\\\t/home/lidong/workspace/codes/hzcsai_com/hzcsk12/cv/app/templates/schema/k12ai_cv.jsonnet:(10:9)-(29:10)\\\\tthunk <array_element>\\\\n\\\\t/home/lidong/workspace/codes/hzcsai_com/hzcsk12/cv/app/templates/schema/k12ai_cv.jsonnet:(9:11)-(35:6)\\\\tobject <anonymous>\\\\n\\\\tDuring manifestation\\\\t\\\\n\\\\n\", \"trackback\": [{\"filename\": \"/home/lidong/workspace/codes/hzcsai_com/hzcsk12/k12ai_service.py\", \"linenum\": 191, \"funcname\": \"_framework_schema\", \"souce\": \"code, msg = agent.schema(service_task, dataset_path, dataset_name)\"}, {\"filename\": \"/home/lidong/workspace/codes/hzcsai_com/hzcsk12/k12ai_service.py\", \"linenum\": 72, \"funcname\": \"__wrapper\", \"souce\": \"raise err\"}, {\"filename\": \"/home/lidong/workspace/codes/hzcsai_com/hzcsk12/k12ai_service.py\", \"linenum\": 68, \"funcname\": \"__wrapper\", \"souce\": \"result = client(method, *args, **kwargs)\"}, {\"filename\": \"/usr/local/lib/python3.6/site-packages/zerorpc/core.py\", \"linenum\": 270, \"funcname\": \"__call__\", \"souce\": \"return self._process_response(request_event, bufchan, timeout)\"}, {\"filename\": \"/usr/local/lib/python3.6/site-packages/zerorpc/core.py\", \"linenum\": 238, \"funcname\": \"_process_response\", \"souce\": \"reply_event, self._handle_remote_error)\"}, {\"filename\": \"/usr/local/lib/python3.6/site-packages/zerorpc/patterns.py\", \"linenum\": 45, \"funcname\": \"process_answer\", \"souce\": \"raise exception\"}]}}'"
      ]
     },
     "execution_count": 10,
     "metadata": {},
     "output_type": "execute_result"
    }
   ],
   "source": [
    "schema_mnist = k12ai_post_request(\n",
    "    uri='k12ai/framework/schema',\n",
    "    data={\n",
    "        'service_name': 'k12cv',\n",
    "        'service_task': 'cls',\n",
    "        'dataset_path': '/data/datasets/cv',\n",
    "        'dataset_name': 'mnist'\n",
    "    }\n",
    ")\n",
    "# schema_json = json.loads(schema_mnist)['message']\n",
    "schema_mnist"
   ]
  }
 ],
 "metadata": {
  "kernelspec": {
   "display_name": "Python 3",
   "language": "python",
   "name": "python3"
  },
  "language_info": {
   "codemirror_mode": {
    "name": "ipython",
    "version": 3
   },
   "file_extension": ".py",
   "mimetype": "text/x-python",
   "name": "python",
   "nbconvert_exporter": "python",
   "pygments_lexer": "ipython3",
   "version": "3.6.8"
  }
 },
 "nbformat": 4,
 "nbformat_minor": 2
}
