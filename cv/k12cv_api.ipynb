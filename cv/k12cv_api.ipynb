{
 "cells": [
  {
   "cell_type": "markdown",
   "metadata": {},
   "source": [
    "# <div align=\"center\"> CV Api Test </div>"
   ]
  },
  {
   "cell_type": "code",
   "execution_count": 10,
   "metadata": {},
   "outputs": [],
   "source": [
    "%reload_ext autoreload\n",
    "%autoreload 2"
   ]
  },
  {
   "cell_type": "code",
   "execution_count": 11,
   "metadata": {},
   "outputs": [],
   "source": [
    "from k12libs.utils.nb_easy import k12ai_post_request\n",
    "from k12libs.utils.nb_easy import k12ai_post_cv_request\n",
    "from k12libs.utils.nb_easy import k12ai_get_data\n",
    "from k12libs.utils.nb_easy import k12ai_del_data\n",
    "from k12libs.utils.nb_easy import k12ai_out_data\n",
    "from k12libs.utils.nb_easy import k12ai_print\n",
    "from k12libs.utils.nb_easy import k12ai_count_down\n",
    "from k12libs.utils.nb_widget import k12ai_schema_parse\n",
    "\n",
    "import json"
   ]
  },
  {
   "cell_type": "code",
   "execution_count": 16,
   "metadata": {},
   "outputs": [],
   "source": [
    "schema_mnist = k12ai_post_request(\n",
    "    uri='k12ai/framework/schema',\n",
    "    data={\n",
    "        'service_name': 'k12cv',\n",
    "        'service_task': 'cls',\n",
    "        'dataset_name': 'mnist',\n",
    "    }\n",
    ")\n",
    "schema_json = json.loads(schema_mnist)['message']"
   ]
  },
  {
   "cell_type": "code",
   "execution_count": 17,
   "metadata": {
    "scrolled": false
   },
   "outputs": [
    {
     "data": {
      "application/vnd.jupyter.widget-view+json": {
       "model_id": "b2aa7b2bf65f42cb86c8e2055fd77b7d",
       "version_major": 2,
       "version_minor": 0
      },
      "text/plain": [
       "Box(children=(VBox(children=(Tab(children=(VBox(children=(HBox(children=(Text(value='cls', continuous_update=F…"
      ]
     },
     "metadata": {},
     "output_type": "display_data"
    }
   ],
   "source": [
    "generator = k12ai_schema_parse(json.loads(schema_json), lan='cn', debug=False);"
   ]
  },
  {
   "cell_type": "code",
   "execution_count": 18,
   "metadata": {
    "scrolled": true
   },
   "outputs": [
    {
     "data": {
      "text/plain": [
       "{'task': 'cls',\n",
       " 'method': 'image_classifier',\n",
       " 'data.include_val': False,\n",
       " 'dataset': 'default',\n",
       " 'data.workers': 4,\n",
       " 'data.drop_last': False,\n",
       " 'data.image_tool': 'cv2',\n",
       " 'data.input_mode': 'BGR',\n",
       " 'solver.display_iter': 20,\n",
       " 'solver.save_iters': 200,\n",
       " 'solver.test_interval': 50,\n",
       " 'train.batch_size': 32,\n",
       " 'val.batch_size': 32,\n",
       " 'test.batch_size': 32,\n",
       " 'train.fit_stride': 1,\n",
       " 'train.size_mode': 'fix_size',\n",
       " 'train.input_size': [32, 32],\n",
       " 'train.align_method': 'only_pad',\n",
       " 'train.pad_mode': 'random',\n",
       " '_k12.train.random_border.bool': False,\n",
       " '_k12.train.random_brightness.bool': False,\n",
       " '_k12.train.random_contrast.bool': False,\n",
       " '_k12.train.random_crop.bool': False,\n",
       " '_k12.train.random_det_crop.bool': False,\n",
       " '_k12.train.random_gauss_blur.bool': False,\n",
       " '_k12.train.random_hsv.bool': False,\n",
       " '_k12.train.random_hue.bool': False,\n",
       " '_k12.train.random_pad.bool': False,\n",
       " '_k12.train.random_perm.bool': False,\n",
       " '_k12.train.random_resize.bool': False,\n",
       " '_k12.train.random_resized_crop.bool': False,\n",
       " '_k12.train.random_rotate.bool': False,\n",
       " '_k12.train.random_saturation.bool': False,\n",
       " 'val.fit_stride': 1,\n",
       " 'val.size_mode': 'fix_size',\n",
       " 'val.input_size': [32, 32],\n",
       " 'val.align_method': 'only_pad',\n",
       " 'val.pad_mode': 'random',\n",
       " '_k12.val.random_border.bool': False,\n",
       " '_k12.val.random_brightness.bool': False,\n",
       " '_k12.val.random_contrast.bool': False,\n",
       " '_k12.val.random_crop.bool': False,\n",
       " '_k12.val.random_det_crop.bool': False,\n",
       " '_k12.val.random_gauss_blur.bool': False,\n",
       " '_k12.val.random_hsv.bool': False,\n",
       " '_k12.val.random_hue.bool': False,\n",
       " '_k12.val.random_pad.bool': False,\n",
       " '_k12.val.random_perm.bool': False,\n",
       " '_k12.val.random_resize.bool': False,\n",
       " '_k12.val.random_resized_crop.bool': False,\n",
       " '_k12.val.random_rotate.bool': False,\n",
       " '_k12.val.random_saturation.bool': False,\n",
       " 'test.fit_stride': 1,\n",
       " 'test.size_mode': 'fix_size',\n",
       " 'test.input_size': [32, 32],\n",
       " 'test.align_method': 'only_pad',\n",
       " 'test.pad_mode': 'random',\n",
       " '_k12.data.dataset_name': 'mnist',\n",
       " 'data.data_dir': '/datasets/mnist',\n",
       " 'data.num_records': 70000,\n",
       " 'data.num_classes': 10,\n",
       " 'data.normalize.mean': [0.1307, 0.1307, 0.1307],\n",
       " 'data.normalize.std': [0.3081, 0.3081, 0.3081],\n",
       " 'data.normalize.div_value': 1,\n",
       " '_k12.network.backbone.enum': 'vgg',\n",
       " 'network.backbone': 'vgg16',\n",
       " 'network.model_name': 'base_model',\n",
       " 'network.norm_type': 'batchnorm',\n",
       " 'network.k12pretrained': False,\n",
       " 'network.syncbn': False,\n",
       " 'network.distributed': True,\n",
       " 'network.gather': True,\n",
       " 'network.resume_continue': False,\n",
       " 'network.resume_strict': False,\n",
       " 'network.resume_val': False,\n",
       " 'network.custom_model': False,\n",
       " 'network.checkpoints_root': '/cache',\n",
       " 'network.checkpoints_dir': 'ckpts',\n",
       " '_k12.network.pretrained_path': '/pretrained',\n",
       " 'solver.lr.metric': 'epoch',\n",
       " 'solver.max_epoch': 100,\n",
       " 'solver.lr.base_lr': 0.001,\n",
       " 'solver.lr.lr_policy': 'multistep',\n",
       " 'solver.lr.multistep.gamma': 0.1,\n",
       " 'solver.lr.multistep.stepvalue': [90, 120],\n",
       " 'solver.lr.is_warm': False,\n",
       " 'loss.loss_type': 'ce_loss',\n",
       " 'loss.loss_weights.ce_loss.ce_loss': 1.0,\n",
       " 'loss.params.ce_loss.reduction': 'mean',\n",
       " 'loss.params.ce_loss.ignore_index': -1.0,\n",
       " 'solver.optim.optim_method': 'adam',\n",
       " 'solver.optim.adam.weight_decay': 0.001,\n",
       " 'solver.optim.adam.betas': [0.5, 0.999],\n",
       " 'solver.optim.adam.eps': 1e-08}"
      ]
     },
     "execution_count": 18,
     "metadata": {},
     "output_type": "execute_result"
    }
   ],
   "source": [
    "config = generator.get_all_kv()\n",
    "config"
   ]
  },
  {
   "cell_type": "code",
   "execution_count": 21,
   "metadata": {
    "scrolled": true
   },
   "outputs": [
    {
     "data": {
      "text/plain": [
       "{'req': {'op': 'train.start',\n",
       "  'user': 'user_001',\n",
       "  'service_name': 'k12cv',\n",
       "  'service_uuid': 'uuid_001',\n",
       "  'service_params': {'task': 'cls',\n",
       "   'method': 'image_classifier',\n",
       "   'data.include_val': False,\n",
       "   'dataset': 'default',\n",
       "   'data.workers': 4,\n",
       "   'data.drop_last': False,\n",
       "   'data.image_tool': 'cv2',\n",
       "   'data.input_mode': 'BGR',\n",
       "   'solver.display_iter': 20,\n",
       "   'solver.save_iters': 200,\n",
       "   'solver.test_interval': 50,\n",
       "   'train.batch_size': 32,\n",
       "   'val.batch_size': 32,\n",
       "   'test.batch_size': 32,\n",
       "   'train.fit_stride': 1,\n",
       "   'train.size_mode': 'fix_size',\n",
       "   'train.input_size': [32, 32],\n",
       "   'train.align_method': 'only_pad',\n",
       "   'train.pad_mode': 'random',\n",
       "   '_k12.train.random_border.bool': False,\n",
       "   '_k12.train.random_brightness.bool': False,\n",
       "   '_k12.train.random_contrast.bool': False,\n",
       "   '_k12.train.random_crop.bool': False,\n",
       "   '_k12.train.random_det_crop.bool': False,\n",
       "   '_k12.train.random_gauss_blur.bool': False,\n",
       "   '_k12.train.random_hsv.bool': False,\n",
       "   '_k12.train.random_hue.bool': False,\n",
       "   '_k12.train.random_pad.bool': False,\n",
       "   '_k12.train.random_perm.bool': False,\n",
       "   '_k12.train.random_resize.bool': False,\n",
       "   '_k12.train.random_resized_crop.bool': False,\n",
       "   '_k12.train.random_rotate.bool': False,\n",
       "   '_k12.train.random_saturation.bool': False,\n",
       "   'val.fit_stride': 1,\n",
       "   'val.size_mode': 'fix_size',\n",
       "   'val.input_size': [32, 32],\n",
       "   'val.align_method': 'only_pad',\n",
       "   'val.pad_mode': 'random',\n",
       "   '_k12.val.random_border.bool': False,\n",
       "   '_k12.val.random_brightness.bool': False,\n",
       "   '_k12.val.random_contrast.bool': False,\n",
       "   '_k12.val.random_crop.bool': False,\n",
       "   '_k12.val.random_det_crop.bool': False,\n",
       "   '_k12.val.random_gauss_blur.bool': False,\n",
       "   '_k12.val.random_hsv.bool': False,\n",
       "   '_k12.val.random_hue.bool': False,\n",
       "   '_k12.val.random_pad.bool': False,\n",
       "   '_k12.val.random_perm.bool': False,\n",
       "   '_k12.val.random_resize.bool': False,\n",
       "   '_k12.val.random_resized_crop.bool': False,\n",
       "   '_k12.val.random_rotate.bool': False,\n",
       "   '_k12.val.random_saturation.bool': False,\n",
       "   'test.fit_stride': 1,\n",
       "   'test.size_mode': 'fix_size',\n",
       "   'test.input_size': [32, 32],\n",
       "   'test.align_method': 'only_pad',\n",
       "   'test.pad_mode': 'random',\n",
       "   '_k12.data.dataset_name': 'mnist',\n",
       "   'data.data_dir': '/datasets/mnist',\n",
       "   'data.num_records': 70000,\n",
       "   'data.num_classes': 10,\n",
       "   'data.normalize.mean': [0.1307, 0.1307, 0.1307],\n",
       "   'data.normalize.std': [0.3081, 0.3081, 0.3081],\n",
       "   'data.normalize.div_value': 1,\n",
       "   '_k12.network.backbone.enum': 'vgg',\n",
       "   'network.backbone': 'vgg16',\n",
       "   'network.model_name': 'base_model',\n",
       "   'network.norm_type': 'batchnorm',\n",
       "   'network.k12pretrained': False,\n",
       "   'network.syncbn': False,\n",
       "   'network.distributed': True,\n",
       "   'network.gather': True,\n",
       "   'network.resume_continue': False,\n",
       "   'network.resume_strict': False,\n",
       "   'network.resume_val': False,\n",
       "   'network.custom_model': False,\n",
       "   'network.checkpoints_root': '/cache',\n",
       "   'network.checkpoints_dir': 'ckpts',\n",
       "   '_k12.network.pretrained_path': '/pretrained',\n",
       "   'solver.lr.metric': 'epoch',\n",
       "   'solver.max_epoch': 100,\n",
       "   'solver.lr.base_lr': 0.001,\n",
       "   'solver.lr.lr_policy': 'multistep',\n",
       "   'solver.lr.multistep.gamma': 0.1,\n",
       "   'solver.lr.multistep.stepvalue': [90, 120],\n",
       "   'solver.lr.is_warm': False,\n",
       "   'loss.loss_type': 'ce_loss',\n",
       "   'loss.loss_weights.ce_loss.ce_loss': 1.0,\n",
       "   'loss.params.ce_loss.reduction': 'mean',\n",
       "   'loss.params.ce_loss.ignore_index': -1.0,\n",
       "   'solver.optim.optim_method': 'adam',\n",
       "   'solver.optim.adam.weight_decay': 0.001,\n",
       "   'solver.optim.adam.betas': [0.5, 0.999],\n",
       "   'solver.optim.adam.eps': 1e-08}},\n",
       " 'res': {'code': 100000,\n",
       "  'descr': 'success',\n",
       "  'message': {'config_file': '/cache/config.json'}},\n",
       " 'key': 'framework/user_001/uuid_001/train.start'}"
      ]
     },
     "execution_count": 21,
     "metadata": {},
     "output_type": "execute_result"
    }
   ],
   "source": [
    "start_context = k12ai_post_cv_request(\n",
    "    uri='k12ai/framework/train',\n",
    "    op='train.start',\n",
    "    user='user_001',\n",
    "    uuid='uuid_001',\n",
    "    params=config\n",
    ")\n",
    "k12ai_del_data(start_context['key'])\n",
    "start_context"
   ]
  }
 ],
 "metadata": {
  "kernelspec": {
   "display_name": "Python 3",
   "language": "python",
   "name": "python3"
  },
  "language_info": {
   "codemirror_mode": {
    "name": "ipython",
    "version": 3
   },
   "file_extension": ".py",
   "mimetype": "text/x-python",
   "name": "python",
   "nbconvert_exporter": "python",
   "pygments_lexer": "ipython3",
   "version": "3.6.9"
  }
 },
 "nbformat": 4,
 "nbformat_minor": 2
}
