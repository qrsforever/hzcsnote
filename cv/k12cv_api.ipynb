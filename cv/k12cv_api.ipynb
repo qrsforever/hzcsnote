{
 "cells": [
  {
   "cell_type": "markdown",
   "metadata": {},
   "source": [
    "# <div align=\"center\"> CV Api Test </div>"
   ]
  },
  {
   "cell_type": "code",
   "execution_count": 7,
   "metadata": {},
   "outputs": [],
   "source": [
    "%reload_ext autoreload\n",
    "%autoreload 2"
   ]
  },
  {
   "cell_type": "code",
   "execution_count": 8,
   "metadata": {},
   "outputs": [],
   "source": [
    "from k12libs.utils.nb_easy import k12ai_post_request\n",
    "from k12libs.utils.nb_easy import k12ai_post_cv_request\n",
    "from k12libs.utils.nb_easy import k12ai_get_data\n",
    "from k12libs.utils.nb_easy import k12ai_del_data\n",
    "from k12libs.utils.nb_easy import k12ai_out_data\n",
    "from k12libs.utils.nb_easy import k12ai_print\n",
    "from k12libs.utils.nb_easy import k12ai_count_down\n",
    "from k12libs.utils.nb_widget import k12ai_schema_parse\n",
    "\n",
    "import json"
   ]
  },
  {
   "cell_type": "code",
   "execution_count": 53,
   "metadata": {},
   "outputs": [],
   "source": [
    "schema_mnist = k12ai_post_request(\n",
    "    uri='k12ai/framework/schema',\n",
    "    data={\n",
    "        'service_name': 'k12cv',\n",
    "        'service_task': 'cls',\n",
    "        'dataset_name': 'cifar10',\n",
    "    }\n",
    ")\n",
    "schema_json = json.loads(schema_mnist)['message']"
   ]
  },
  {
   "cell_type": "code",
   "execution_count": 47,
   "metadata": {
    "scrolled": false
   },
   "outputs": [
    {
     "data": {
      "application/vnd.jupyter.widget-view+json": {
       "model_id": "df3014870dfd4adca7576e3cb987e91c",
       "version_major": 2,
       "version_minor": 0
      },
      "text/plain": [
       "Box(children=(VBox(children=(Tab(children=(VBox(children=(HBox(children=(Text(value='cls', continuous_update=F…"
      ]
     },
     "metadata": {},
     "output_type": "display_data"
    }
   ],
   "source": [
    "generator = k12ai_schema_parse(json.loads(schema_json), lan='cn', debug=False);"
   ]
  },
  {
   "cell_type": "code",
   "execution_count": 48,
   "metadata": {},
   "outputs": [
    {
     "data": {
      "text/plain": [
       "'success'"
      ]
     },
     "execution_count": 48,
     "metadata": {},
     "output_type": "execute_result"
    }
   ],
   "source": [
    "context = k12ai_post_cv_request(\n",
    "    uri='k12ai/framework/train',\n",
    "    op='train.stop',\n",
    "    user='10000001',\n",
    "    uuid='10000001',\n",
    ")\n",
    "k12ai_del_data(context['key'])"
   ]
  },
  {
   "cell_type": "code",
   "execution_count": 49,
   "metadata": {},
   "outputs": [
    {
     "data": {
      "text/plain": [
       "'success'"
      ]
     },
     "execution_count": 49,
     "metadata": {},
     "output_type": "execute_result"
    }
   ],
   "source": [
    "context = k12ai_post_cv_request(\n",
    "    uri='k12ai/framework/train',\n",
    "    op='train.start',\n",
    "    user='10000001',\n",
    "    uuid='10000001',\n",
    "    params=generator.get_all_kv()\n",
    ")\n",
    "k12ai_del_data(context['key'])"
   ]
  },
  {
   "cell_type": "code",
   "execution_count": 50,
   "metadata": {
    "scrolled": false
   },
   "outputs": [
    {
     "data": {
      "application/vnd.jupyter.widget-view+json": {
       "model_id": "a7cde3c2c1534e71ad4528766e4ee99e",
       "version_major": 2,
       "version_minor": 0
      },
      "text/plain": [
       "Tab(children=(Output(layout=Layout(border='1px solid black', min_height='200px')), Output(layout=Layout(border…"
      ]
     },
     "metadata": {},
     "output_type": "display_data"
    }
   ],
   "source": [
    "k12ai_out_data(context['key'], ['status', 'metrics', 'error'], hook_func=k12ai_count_down(10))"
   ]
  }
 ],
 "metadata": {
  "kernelspec": {
   "display_name": "Python 3",
   "language": "python",
   "name": "python3"
  },
  "language_info": {
   "codemirror_mode": {
    "name": "ipython",
    "version": 3
   },
   "file_extension": ".py",
   "mimetype": "text/x-python",
   "name": "python",
   "nbconvert_exporter": "python",
   "pygments_lexer": "ipython3",
   "version": "3.6.9"
  }
 },
 "nbformat": 4,
 "nbformat_minor": 2
}
