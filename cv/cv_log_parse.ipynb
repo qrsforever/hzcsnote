{
 "cells": [
  {
   "cell_type": "markdown",
   "metadata": {},
   "source": [
    "## <div align=\"center\"> 日志错误信息截获测试 <div>"
   ]
  },
  {
   "cell_type": "code",
   "execution_count": 49,
   "metadata": {},
   "outputs": [],
   "source": [
    "import re"
   ]
  },
  {
   "cell_type": "code",
   "execution_count": 50,
   "metadata": {},
   "outputs": [
    {
     "name": "stdout",
     "output_type": "stream",
     "text": [
      "k12_test\n"
     ]
    }
   ],
   "source": [
    "message = \"Pose Method: k12_test is not valid.\"\n",
    "res = re.search(r'\\w+ Method: (?P<method>\\w+) is not valid\\.', message)\n",
    "if res:\n",
    "    res.groupdict()\n",
    "    print(res['method'])"
   ]
  },
  {
   "cell_type": "code",
   "execution_count": 51,
   "metadata": {},
   "outputs": [
    {
     "name": "stdout",
     "output_type": "stream",
     "text": [
      "k12_test\n"
     ]
    }
   ],
   "source": [
    "message = \"Not support BN type: k12_test.\"\n",
    "res = re.search(r'Not support BN type: (?P<bntype>\\w+)\\.', message)\n",
    "if res:\n",
    "    res.groupdict()\n",
    "    print(res['bntype'])"
   ]
  },
  {
   "cell_type": "code",
   "execution_count": 52,
   "metadata": {},
   "outputs": [
    {
     "name": "stdout",
     "output_type": "stream",
     "text": [
      "k12_test\n"
     ]
    }
   ],
   "source": [
    "message = \"Model: k12_test not valid!\"\n",
    "res = re.search(r'Model: (?P<model>\\w+) not valid!', message)\n",
    "if res:\n",
    "    res.groupdict()\n",
    "    print(res['model'])"
   ]
  },
  {
   "cell_type": "code",
   "execution_count": 53,
   "metadata": {},
   "outputs": [
    {
     "name": "stdout",
     "output_type": "stream",
     "text": [
      "k12_test\n"
     ]
    }
   ],
   "source": [
    "message = \"Optimizer {} is not valid.\".format(\"k12_test\")\n",
    "res = re.search(r'Optimizer (?P<optimizer>\\w+) is not valid\\.', message)\n",
    "if res:\n",
    "    res.groupdict()\n",
    "    print(res['optimizer'])"
   ]
  },
  {
   "cell_type": "code",
   "execution_count": 54,
   "metadata": {},
   "outputs": [
    {
     "name": "stdout",
     "output_type": "stream",
     "text": [
      "k12_test\n"
     ]
    }
   ],
   "source": [
    "message = 'Policy:{} is not valid.'.format('k12_test')\n",
    "res = re.search(r'Policy:(?P<policy>\\w+) is not valid\\.', message)\n",
    "if res:\n",
    "    res.groupdict()\n",
    "    print(res['policy'])"
   ]
  }
 ],
 "metadata": {
  "kernelspec": {
   "display_name": "Python 3",
   "language": "python",
   "name": "python3"
  },
  "language_info": {
   "codemirror_mode": {
    "name": "ipython",
    "version": 3
   },
   "file_extension": ".py",
   "mimetype": "text/x-python",
   "name": "python",
   "nbconvert_exporter": "python",
   "pygments_lexer": "ipython3",
   "version": "3.6.8"
  }
 },
 "nbformat": 4,
 "nbformat_minor": 2
}
