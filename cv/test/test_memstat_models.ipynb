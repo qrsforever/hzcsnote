{
 "cells": [
  {
   "cell_type": "code",
   "execution_count": 1,
   "metadata": {},
   "outputs": [],
   "source": [
    "%reload_ext autoreload\n",
    "%autoreload 2"
   ]
  },
  {
   "cell_type": "code",
   "execution_count": 2,
   "metadata": {},
   "outputs": [],
   "source": [
    "import time\n",
    "import json\n",
    "from k12libs.utils.nb_easy import k12ai_train_execute\n",
    "from k12libs.utils.nb_easy import k12ai_get_data\n",
    "from k12libs.utils.nb_easy import k12ai_print"
   ]
  },
  {
   "cell_type": "code",
   "execution_count": 3,
   "metadata": {},
   "outputs": [],
   "source": [
    "datasets = ('Animals', 'Boats', 'cactus', 'cifar10', 'dogsVsCats', 'FashionMNIST', 'kannada', 'mnist')\n",
    "models = ('vgg11', 'vgg16', 'vgg19', 'vgg16_bn', 'vgg19_bn', 'resnet18', 'resnet50', 'resnet101', 'resnet152')"
   ]
  }
 ],
 "metadata": {
  "kernelspec": {
   "display_name": "Python 3",
   "language": "python",
   "name": "python3"
  },
  "language_info": {
   "codemirror_mode": {
    "name": "ipython",
    "version": 3
   },
   "file_extension": ".py",
   "mimetype": "text/x-python",
   "name": "python",
   "nbconvert_exporter": "python",
   "pygments_lexer": "ipython3",
   "version": "3.6.9"
  }
 },
 "nbformat": 4,
 "nbformat_minor": 4
}
