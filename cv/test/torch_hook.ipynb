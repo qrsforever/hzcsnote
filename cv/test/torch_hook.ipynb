{
 "cells": [
  {
   "cell_type": "code",
   "execution_count": 1,
   "metadata": {
    "ExecuteTime": {
     "end_time": "2020-04-26T08:17:41.703499Z",
     "start_time": "2020-04-26T08:17:41.233842Z"
    }
   },
   "outputs": [],
   "source": [
    "import numpy as np\n",
    "import torch\n",
    "import torch.nn as nn"
   ]
  },
  {
   "cell_type": "code",
   "execution_count": 2,
   "metadata": {
    "ExecuteTime": {
     "end_time": "2020-04-26T08:17:41.729186Z",
     "start_time": "2020-04-26T08:17:41.706331Z"
    }
   },
   "outputs": [],
   "source": [
    "device = torch.device(\"cuda:0\" if torch.cuda.is_available() else \"cpu\")\n",
    "\n",
    "class MyMean(nn.Module): \n",
    "    def forward(self, input):\n",
    "        out = input/4\n",
    "        # print('MyMean.input:', input.data)\n",
    "        # print('MyMean.forward:', out)\n",
    "        print('----------')\n",
    "        return out\n",
    "    \n",
    "def tensor_hook(grad):\n",
    "    print('tensor_hook.grad:', grad) # [8, 8, 8, 8] / 4\n",
    "    print('----------')\n",
    "    return grad\n",
    "\n",
    "def first_hook(module, grad_input, grad_output):\n",
    "    print('first_hook grad input:', grad_input)\n",
    "    print('first_hook grad output:', grad_output)\n",
    "    print('----------')\n",
    "    return grad_input\n",
    "\n",
    "class MyNet(nn.Module):\n",
    "    def __init__(self):\n",
    "        super(MyNet, self).__init__()\n",
    "        self.f1 = nn.Linear(4, 1, bias=True)    \n",
    "        self.f2 = MyMean()\n",
    "        self.weight_init()\n",
    "        \n",
    "    def forward(self, input):\n",
    "        self.input = input\n",
    "        output = self.f1(input)\n",
    "        output = self.f2(output)      \n",
    "        return output\n",
    "    \n",
    "    def weight_init(self):\n",
    "        self.f1.weight.data.fill_(8.0)    # 这里设置Linear的权重为8\n",
    "        self.f1.bias.data.fill_(2.0)      # 这里设置Linear的bias为2\n",
    "        print('f1.weight:', self.f1.weight.data)\n",
    "        print('f1.bias:', self.f1.bias.data)\n",
    "        print(\"----------------\")\n",
    "        \n",
    "    def my_hook(self, module, grad_input, grad_output):\n",
    "        print('my_hook grad input:', grad_input)\n",
    "        print('my_hook grad output:', grad_output)\n",
    "        print('----------')\n",
    "        # grad_input = grad_input[0]*self.input   # 这里把hook函数内对grad_input的操作进行了注释，\n",
    "        # grad_input = tuple([grad_input])        # 返回的grad_input必须是tuple，所以我们进行了tuple包装。\n",
    "        # print('now grad:', grad_input)        \n",
    "        return grad_input\n",
    "   "
   ]
  },
  {
   "cell_type": "code",
   "execution_count": 3,
   "metadata": {
    "ExecuteTime": {
     "end_time": "2020-04-26T08:17:41.762295Z",
     "start_time": "2020-04-26T08:17:41.733618Z"
    }
   },
   "outputs": [
    {
     "data": {
      "text/plain": [
       "22.0"
      ]
     },
     "execution_count": 3,
     "metadata": {},
     "output_type": "execute_result"
    }
   ],
   "source": [
    "_input = np.array([1,2,3,4])\n",
    "\n",
    "sum(_input * 8 + 2) / 4"
   ]
  },
  {
   "cell_type": "code",
   "execution_count": 4,
   "metadata": {
    "ExecuteTime": {
     "end_time": "2020-04-26T08:17:49.018701Z",
     "start_time": "2020-04-26T08:17:41.765935Z"
    }
   },
   "outputs": [
    {
     "name": "stdout",
     "output_type": "stream",
     "text": [
      "f1.weight: tensor([[8., 8., 8., 8.]])\n",
      "f1.bias: tensor([2.])\n",
      "----------------\n"
     ]
    },
    {
     "data": {
      "text/plain": [
       "MyNet(\n",
       "  (f1): Linear(in_features=4, out_features=1, bias=True)\n",
       "  (f2): MyMean()\n",
       ")"
      ]
     },
     "execution_count": 4,
     "metadata": {},
     "output_type": "execute_result"
    }
   ],
   "source": [
    "net = MyNet()\n",
    "net.cuda()"
   ]
  },
  {
   "cell_type": "code",
   "execution_count": 16,
   "metadata": {
    "ExecuteTime": {
     "end_time": "2020-04-26T08:23:48.728876Z",
     "start_time": "2020-04-26T08:23:48.719708Z"
    }
   },
   "outputs": [
    {
     "data": {
      "text/plain": [
       "['__call__',\n",
       " '__class__',\n",
       " '__delattr__',\n",
       " '__dict__',\n",
       " '__dir__',\n",
       " '__doc__',\n",
       " '__eq__',\n",
       " '__format__',\n",
       " '__ge__',\n",
       " '__getattr__',\n",
       " '__getattribute__',\n",
       " '__gt__',\n",
       " '__hash__',\n",
       " '__init__',\n",
       " '__init_subclass__',\n",
       " '__le__',\n",
       " '__lt__',\n",
       " '__module__',\n",
       " '__ne__',\n",
       " '__new__',\n",
       " '__reduce__',\n",
       " '__reduce_ex__',\n",
       " '__repr__',\n",
       " '__setattr__',\n",
       " '__setstate__',\n",
       " '__sizeof__',\n",
       " '__str__',\n",
       " '__subclasshook__',\n",
       " '__weakref__',\n",
       " '_apply',\n",
       " '_backward_hooks',\n",
       " '_buffers',\n",
       " '_forward_hooks',\n",
       " '_forward_pre_hooks',\n",
       " '_get_name',\n",
       " '_load_from_state_dict',\n",
       " '_load_state_dict_pre_hooks',\n",
       " '_modules',\n",
       " '_named_members',\n",
       " '_parameters',\n",
       " '_register_load_state_dict_pre_hook',\n",
       " '_register_state_dict_hook',\n",
       " '_replicate_for_data_parallel',\n",
       " '_save_to_state_dict',\n",
       " '_slow_forward',\n",
       " '_state_dict_hooks',\n",
       " '_version',\n",
       " 'add_module',\n",
       " 'apply',\n",
       " 'buffers',\n",
       " 'children',\n",
       " 'cpu',\n",
       " 'cuda',\n",
       " 'double',\n",
       " 'dump_patches',\n",
       " 'eval',\n",
       " 'extra_repr',\n",
       " 'f1',\n",
       " 'f2',\n",
       " 'float',\n",
       " 'forward',\n",
       " 'half',\n",
       " 'input',\n",
       " 'load_state_dict',\n",
       " 'modules',\n",
       " 'my_hook',\n",
       " 'named_buffers',\n",
       " 'named_children',\n",
       " 'named_modules',\n",
       " 'named_parameters',\n",
       " 'parameters',\n",
       " 'register_backward_hook',\n",
       " 'register_buffer',\n",
       " 'register_forward_hook',\n",
       " 'register_forward_pre_hook',\n",
       " 'register_parameter',\n",
       " 'requires_grad_',\n",
       " 'share_memory',\n",
       " 'state_dict',\n",
       " 'to',\n",
       " 'train',\n",
       " 'training',\n",
       " 'type',\n",
       " 'weight_init',\n",
       " 'zero_grad']"
      ]
     },
     "execution_count": 16,
     "metadata": {},
     "output_type": "execute_result"
    }
   ],
   "source": [
    "dir(net)"
   ]
  },
  {
   "cell_type": "code",
   "execution_count": 15,
   "metadata": {
    "ExecuteTime": {
     "end_time": "2020-04-26T08:21:16.312339Z",
     "start_time": "2020-04-26T08:21:16.297987Z"
    }
   },
   "outputs": [
    {
     "name": "stdout",
     "output_type": "stream",
     "text": [
      "Parameter containing:\n",
      "tensor([[8., 8., 8., 8.]], requires_grad=True)\n"
     ]
    },
    {
     "data": {
      "text/plain": [
       "(torch.nn.parameter.Parameter, device(type='cpu'), None)"
      ]
     },
     "execution_count": 15,
     "metadata": {},
     "output_type": "execute_result"
    }
   ],
   "source": [
    "net.cpu()\n",
    "it = next(net.parameters())\n",
    "type(it), it.device, print(it) # dir(it)"
   ]
  },
  {
   "cell_type": "code",
   "execution_count": 5,
   "metadata": {
    "ExecuteTime": {
     "end_time": "2020-04-26T08:17:50.522100Z",
     "start_time": "2020-04-26T08:17:49.021370Z"
    }
   },
   "outputs": [
    {
     "name": "stdout",
     "output_type": "stream",
     "text": [
      "f1.weight: tensor([[8., 8., 8., 8.]])\n",
      "f1.bias: tensor([2.])\n",
      "----------------\n",
      "Linear(in_features=4, out_features=1, bias=True)\n",
      "MyMean()\n",
      "------------\n",
      "----------\n",
      "result = tensor([20.5000], device='cuda:0', grad_fn=<DivBackward0>)\n",
      "------------\n",
      "my_hook grad input: (tensor([0.2500], device='cuda:0'), None)\n",
      "my_hook grad output: (tensor([1.], device='cuda:0'),)\n",
      "----------\n",
      "first_hook grad input: (tensor([0.2500], device='cuda:0'), tensor([0.2500], device='cuda:0'))\n",
      "first_hook grad output: (tensor([0.2500], device='cuda:0'),)\n",
      "----------\n",
      "tensor_hook.grad: tensor([2., 2., 2., 2.], device='cuda:0')\n",
      "----------\n",
      "input.grad: None\n",
      "tensor([[8., 8., 8., 8.]], device='cuda:0'):grad->tensor([[0.2500, 0.5000, 0.7500, 1.0000]], device='cuda:0')\n",
      "tensor([2.], device='cuda:0'):grad->tensor([0.2500], device='cuda:0')\n"
     ]
    }
   ],
   "source": [
    "input = torch.tensor(_input, dtype=torch.float32, requires_grad=True).to(device)\n",
    "net = MyNet()\n",
    "print(net.f1)\n",
    "print(net.f2)\n",
    "print('------------')\n",
    "net.to(device)\n",
    "input.register_hook(tensor_hook) # input tensor must requires_grad=True\n",
    "net.f1.register_backward_hook(first_hook) # grad_input[0] input tensor must requires_grad=True\n",
    "# net.register_backward_hook(net.my_hook)\n",
    "net.f2.register_backward_hook(net.my_hook)\n",
    "result = net(input)\n",
    "print('result =', result)\n",
    "print('------------')\n",
    "result.backward()\n",
    "\n",
    "print('input.grad:', input.grad)\n",
    "for param in net.parameters():\n",
    "    print('{}:grad->{}'.format(param.data, param.grad.data))"
   ]
  },
  {
   "cell_type": "markdown",
   "metadata": {},
   "source": [
    "---------------"
   ]
  },
  {
   "cell_type": "code",
   "execution_count": 6,
   "metadata": {
    "ExecuteTime": {
     "end_time": "2020-04-26T08:17:50.532864Z",
     "start_time": "2020-04-26T08:17:50.526068Z"
    }
   },
   "outputs": [],
   "source": [
    "_input2 = np.array([[1,2,3,4], [1,1,1,1]])"
   ]
  },
  {
   "cell_type": "code",
   "execution_count": 7,
   "metadata": {
    "ExecuteTime": {
     "end_time": "2020-04-26T08:17:50.598781Z",
     "start_time": "2020-04-26T08:17:50.536551Z"
    },
    "scrolled": false
   },
   "outputs": [
    {
     "name": "stdout",
     "output_type": "stream",
     "text": [
      "f1.weight: tensor([[8., 8., 8., 8.]])\n",
      "f1.bias: tensor([2.])\n",
      "----------------\n",
      "Linear(in_features=4, out_features=1, bias=True)\n",
      "MyMean()\n",
      "------------\n",
      "----------\n",
      "result = tensor([[20.5000],\n",
      "        [ 8.5000]], device='cuda:0', grad_fn=<DivBackward0>)\n",
      "------------\n",
      "my_hook grad input: (tensor([[0.2500],\n",
      "        [0.2500]], device='cuda:0'), None)\n",
      "my_hook grad output: (tensor([[1.],\n",
      "        [1.]], device='cuda:0'),)\n",
      "----------\n",
      "tensor_hook.grad: tensor([[2., 2., 2., 2.],\n",
      "        [2., 2., 2., 2.]], device='cuda:0')\n",
      "----------\n",
      "input.grad: None\n",
      "tensor([[8., 8., 8., 8.]], device='cuda:0'):grad->tensor([[0.5000, 0.7500, 1.0000, 1.2500]], device='cuda:0')\n",
      "tensor([2.], device='cuda:0'):grad->tensor([0.5000], device='cuda:0')\n"
     ]
    }
   ],
   "source": [
    "input = torch.tensor(_input2, dtype=torch.float32, requires_grad=True).to(device)\n",
    "net = MyNet()\n",
    "print(net.f1)\n",
    "print(net.f2)\n",
    "print('------------')\n",
    "net.to(device)\n",
    "net.register_backward_hook(net.my_hook)\n",
    "input.register_hook(tensor_hook)\n",
    "result = net(input)\n",
    "print('result =', result)\n",
    "print('------------')\n",
    "result.backward(torch.ones_like(result))\n",
    "\n",
    "print('input.grad:', input.grad)\n",
    "for param in net.parameters():\n",
    "    print('{}:grad->{}'.format(param.data, param.grad.data))"
   ]
  }
 ],
 "metadata": {
  "kernelspec": {
   "display_name": "Python 3",
   "language": "python",
   "name": "python3"
  },
  "language_info": {
   "codemirror_mode": {
    "name": "ipython",
    "version": 3
   },
   "file_extension": ".py",
   "mimetype": "text/x-python",
   "name": "python",
   "nbconvert_exporter": "python",
   "pygments_lexer": "ipython3",
   "version": "3.6.9"
  }
 },
 "nbformat": 4,
 "nbformat_minor": 4
}
