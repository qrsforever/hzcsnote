{
 "cells": [
  {
   "cell_type": "markdown",
   "metadata": {},
   "source": [
    "# <div align='center'> Test Flowers </div>"
   ]
  },
  {
   "cell_type": "code",
   "execution_count": 1,
   "metadata": {
    "ExecuteTime": {
     "end_time": "2021-01-06T09:20:09.109006Z",
     "start_time": "2021-01-06T09:20:07.578632Z"
    }
   },
   "outputs": [],
   "source": [
    "import os\n",
    "import json\n",
    "import numpy as np\n",
    "import torch\n",
    "import torch.nn as nn\n",
    "import torch.nn.functional as F\n",
    "from IPython.display import Image as IMG\n",
    "from PIL import Image\n",
    "from torch.optim import SGD, Adam\n",
    "from torch.optim.lr_scheduler import StepLR, ReduceLROnPlateau\n",
    "from torch.utils.data import DataLoader\n",
    "from torch.utils.data.sampler import SubsetRandomSampler\n",
    "from torchvision import transforms, models\n",
    "from torchvision import datasets\n",
    "from torch import optim\n",
    "from torch.utils.data import (Dataset, DataLoader)\n",
    "from k12libs.utils.nb_easy import K12AI_PRETRAINED_ROOT, K12AI_DATASETS_ROOT, k12ai_get_top_dir"
   ]
  },
  {
   "cell_type": "code",
   "execution_count": 2,
   "metadata": {
    "ExecuteTime": {
     "end_time": "2021-01-06T09:20:09.119867Z",
     "start_time": "2021-01-06T09:20:09.113962Z"
    }
   },
   "outputs": [],
   "source": [
    "torch.backends.cudnn.enabled = True\n",
    "torch.backends.cudnn.benchmark = True"
   ]
  },
  {
   "cell_type": "code",
   "execution_count": 3,
   "metadata": {
    "ExecuteTime": {
     "end_time": "2021-01-06T09:20:09.134614Z",
     "start_time": "2021-01-06T09:20:09.124313Z"
    }
   },
   "outputs": [],
   "source": [
    "dataset = 'rflowers'\n",
    "data_root = os.path.join(K12AI_DATASETS_ROOT, 'cv', dataset)"
   ]
  },
  {
   "cell_type": "code",
   "execution_count": 4,
   "metadata": {
    "ExecuteTime": {
     "end_time": "2021-01-06T09:20:09.729169Z",
     "start_time": "2021-01-06T09:20:09.138586Z"
    }
   },
   "outputs": [
    {
     "name": "stdout",
     "output_type": "stream",
     "text": [
      "{\r\n",
      "    \"num_records\": 1760,\r\n",
      "    \"num_classes\": 22,\r\n",
      "    \"label_names\": [\r\n",
      "        \"salviasplendens\",\r\n",
      "        \"daffodil\",\r\n",
      "        \"snowdrop\",\r\n",
      "        \"lilyvalley\",\r\n",
      "        \"bluebell\",\r\n",
      "        \"crocus\",\r\n",
      "        \"iris\",\r\n",
      "        \"tigerlily\",\r\n",
      "        \"tulip\",\r\n",
      "        \"fritillary\",\r\n",
      "        \"sunflower\",\r\n",
      "        \"daisy\",\r\n",
      "        \"coltsfoot\",\r\n",
      "        \"dandelion\",\r\n",
      "        \"cowslip\",\r\n",
      "        \"buttercup\",\r\n",
      "        \"windflower\",\r\n",
      "        \"pansy\",\r\n",
      "        \"coxcomb\",\r\n",
      "        \"flamingo\",\r\n",
      "        \"lily\",\r\n",
      "        \"lotus\"\r\n",
      "    ],\r\n",
      "    \"mean\": [\r\n",
      "        0.4623,\r\n",
      "        0.4305,\r\n",
      "        0.295\r\n",
      "    ],\r\n",
      "    \"std\": [\r\n",
      "        0.252,\r\n",
      "        0.2242,\r\n",
      "        0.2091\r\n",
      "    ]\r\n",
      "}"
     ]
    }
   ],
   "source": [
    "!cat $data_root/info.json"
   ]
  },
  {
   "cell_type": "code",
   "execution_count": 5,
   "metadata": {
    "ExecuteTime": {
     "end_time": "2021-01-06T09:20:10.347247Z",
     "start_time": "2021-01-06T09:20:09.734833Z"
    },
    "scrolled": false
   },
   "outputs": [
    {
     "name": "stdout",
     "output_type": "stream",
     "text": [
      "/data/datasets/cv/rflowers\r\n",
      "├── imgs\r\n",
      "│   ├── 0\r\n",
      "│   ├── 1\r\n",
      "│   ├── 10\r\n",
      "│   ├── 11\r\n",
      "│   ├── 12\r\n",
      "│   ├── 13\r\n",
      "│   ├── 14\r\n",
      "│   ├── 15\r\n",
      "│   ├── 16\r\n",
      "│   ├── 17\r\n",
      "│   ├── 18\r\n",
      "│   ├── 19\r\n",
      "│   ├── 2\r\n",
      "│   ├── 20\r\n",
      "│   ├── 21\r\n",
      "│   ├── 3\r\n",
      "│   ├── 4\r\n",
      "│   ├── 5\r\n",
      "│   ├── 6\r\n",
      "│   ├── 7\r\n",
      "│   ├── 8\r\n",
      "│   └── 9\r\n",
      "├── raw\r\n",
      "│   ├── 0\r\n",
      "│   ├── 1\r\n",
      "│   ├── 10\r\n",
      "│   ├── 11\r\n",
      "│   ├── 12\r\n",
      "│   ├── 13\r\n",
      "│   ├── 14\r\n",
      "│   ├── 15\r\n",
      "│   ├── 16\r\n",
      "│   ├── 17\r\n",
      "│   ├── 18\r\n",
      "│   ├── 19\r\n",
      "│   ├── 2\r\n",
      "│   ├── 20\r\n",
      "│   ├── 21\r\n",
      "│   ├── 3\r\n",
      "│   ├── 4\r\n",
      "│   ├── 5\r\n",
      "│   ├── 6\r\n",
      "│   ├── 7\r\n",
      "│   ├── 8\r\n",
      "│   └── 9\r\n",
      "└── samples\r\n",
      "\r\n",
      "47 directories\r\n"
     ]
    }
   ],
   "source": [
    "!tree -d /data/datasets/cv/rflowers"
   ]
  },
  {
   "cell_type": "code",
   "execution_count": 6,
   "metadata": {
    "ExecuteTime": {
     "end_time": "2021-01-06T09:20:10.364742Z",
     "start_time": "2021-01-06T09:20:10.352475Z"
    }
   },
   "outputs": [],
   "source": [
    "### \n",
    "with open(os.path.join(data_root, 'info.json'), 'r') as fr:\n",
    "    items = json.load(fr)\n",
    "\n",
    "### \n",
    "transform = transforms.Compose([\n",
    "    transforms.Resize((224, 224)),\n",
    "    transforms.RandomHorizontalFlip(p=0.5),    # 数据增强: 对PIL Image数据做随机水平翻转\n",
    "    transforms.ToTensor(),                     # PIL Image格式转换为Tensor张量格式               \n",
    "    transforms.Normalize(items['mean'], items['std']) # 对数据归一化处理\n",
    "])"
   ]
  },
  {
   "cell_type": "code",
   "execution_count": 27,
   "metadata": {
    "ExecuteTime": {
     "end_time": "2021-01-06T10:07:16.877892Z",
     "start_time": "2021-01-06T10:07:16.866190Z"
    }
   },
   "outputs": [
    {
     "data": {
      "text/plain": [
       "{'num_records': 1760,\n",
       " 'num_classes': 22,\n",
       " 'label_names': ['salviasplendens',\n",
       "  'daffodil',\n",
       "  'snowdrop',\n",
       "  'lilyvalley',\n",
       "  'bluebell',\n",
       "  'crocus',\n",
       "  'iris',\n",
       "  'tigerlily',\n",
       "  'tulip',\n",
       "  'fritillary',\n",
       "  'sunflower',\n",
       "  'daisy',\n",
       "  'coltsfoot',\n",
       "  'dandelion',\n",
       "  'cowslip',\n",
       "  'buttercup',\n",
       "  'windflower',\n",
       "  'pansy',\n",
       "  'coxcomb',\n",
       "  'flamingo',\n",
       "  'lily',\n",
       "  'lotus'],\n",
       " 'mean': [0.4623, 0.4305, 0.295],\n",
       " 'std': [0.252, 0.2242, 0.2091]}"
      ]
     },
     "execution_count": 27,
     "metadata": {},
     "output_type": "execute_result"
    }
   ],
   "source": [
    "items"
   ]
  },
  {
   "cell_type": "code",
   "execution_count": 7,
   "metadata": {
    "ExecuteTime": {
     "end_time": "2021-01-06T09:20:10.389408Z",
     "start_time": "2021-01-06T09:20:10.368621Z"
    }
   },
   "outputs": [],
   "source": [
    "class JsonfileDataset(Dataset):\n",
    "    def __init__(self, data_root, json_file, resize=None, transform=None):\n",
    "        self.data_root = data_root\n",
    "        self.json_file = json_file\n",
    "        self.resize = resize\n",
    "        self.image_list, self.label_list = self.__read_jsonfile(json_file)\n",
    "        if transform:\n",
    "            self.transform = transform\n",
    "        else:\n",
    "            self.transform = transforms.Compose([transforms.ToTensor()])\n",
    "\n",
    "    def __getitem__(self, index):\n",
    "        img = Image.open(self.image_list[index]).convert('RGB')\n",
    "        if self.resize:\n",
    "            img = img.resize(self.resize)\n",
    "        if self.transform is not None:\n",
    "            img = self.transform(img)\n",
    "        return img, self.label_list[index]\n",
    "\n",
    "    def __len__(self):\n",
    "        return len(self.image_list)\n",
    "\n",
    "    def __read_jsonfile(self, jsonfile):\n",
    "        image_list = []\n",
    "        label_list = []\n",
    "        with open(os.path.join(self.data_root, self.json_file)) as f:\n",
    "            items = json.load(f)\n",
    "            for item in items:\n",
    "                image_list.append(os.path.join(self.data_root, item['image_path']))\n",
    "                label_list.append(item['label'])\n",
    "        return image_list, label_list"
   ]
  },
  {
   "cell_type": "code",
   "execution_count": 12,
   "metadata": {
    "ExecuteTime": {
     "end_time": "2021-01-06T09:22:12.701750Z",
     "start_time": "2021-01-06T09:22:12.675074Z"
    }
   },
   "outputs": [],
   "source": [
    "train_data = JsonfileDataset(data_root, 'all.json', transform=transform)\n",
    "train_loader = DataLoader(train_data, batch_size=128, shuffle=True, drop_last=True) \n",
    "\n",
    "valid_data = JsonfileDataset(data_root, 'val.json', transform=transform)\n",
    "valid_loader = DataLoader(valid_data, batch_size=128, shuffle=True, drop_last=False) "
   ]
  },
  {
   "cell_type": "code",
   "execution_count": 9,
   "metadata": {
    "ExecuteTime": {
     "end_time": "2021-01-06T09:20:17.400412Z",
     "start_time": "2021-01-06T09:20:10.429809Z"
    }
   },
   "outputs": [],
   "source": [
    "model = models.resnet18(pretrained=True)\n",
    "model.fc = nn.Linear(model.fc.in_features, 22)\n",
    "\n",
    "# model = models.vgg16_bn(pretrained=True)\n",
    "# model.classifier[6] = nn.Linear(4096, 22)\n",
    "\n",
    "model = model.to('cuda')"
   ]
  },
  {
   "cell_type": "markdown",
   "metadata": {},
   "source": [
    "## 超参数调整"
   ]
  },
  {
   "cell_type": "code",
   "execution_count": 17,
   "metadata": {
    "ExecuteTime": {
     "end_time": "2021-01-06T09:32:10.544857Z",
     "start_time": "2021-01-06T09:32:10.527867Z"
    }
   },
   "outputs": [],
   "source": [
    "### 设置训练轮回(max_epoch)\n",
    "max_epoch = 20\n",
    "\n",
    "### 设置损失函数(交叉熵CE)\n",
    "reduction = 'mean' # 约简方式为mean(张量各个维度上的元素的平均值)\n",
    "criterion = nn.CrossEntropyLoss(reduction=reduction)\n",
    "\n",
    "### 设置优化器(随机梯度下降SGD)\n",
    "# optimizer = SGD(model.parameters(),\n",
    "#    lr=0.01,           # 基础学习率\n",
    "#    weight_decay=1e-6, # 权重衰减, 使得模型参数值更小, 有效防止过拟合\n",
    "#    momentum=0.9,      # 动量因子, 更快局部收敛\n",
    "#    nesterov=True      # 使用Nesterov动量, 加快收敛速度\n",
    "# )  \n",
    "\n",
    "### 亚当\n",
    "optimizer = Adam(\n",
    "    filter(lambda p: p.requires_grad, model.parameters()), # 过程出可更新的层(参数)\n",
    "    lr=0.001,           # 基础学习率\n",
    "    betas=(0.9, 0.999), # 计算梯度的均值(0.9)和平方(0.999)的系数\n",
    "    eps=1e-8,           # 为了防止分母除零, 分母加上非常小的值\n",
    "    weight_decay=0,     # 权重衰减\n",
    "    amsgrad=True,      # 是否使用AmsGrad变体\n",
    ")\n",
    "\n",
    "### 设置学习率衰减策略(可选, 固定步长衰减StepLR)\n",
    "# scheduler = StepLR(optimizer,\n",
    "#    step_size=2, # 每间隔2次epoch进行一次LR调整\n",
    "#    gamma=0.6    # LR调整为原来0.6倍\n",
    "# )                 \n",
    " \n",
    "scheduler = ReduceLROnPlateau(\n",
    "    optimizer,   # 优化器\n",
    "    mode='min',  # 指定指标不再下降\n",
    "    factor=0.1,  # 衰减因子\n",
    "    patience=2,  # 容忍多少次(指标不改变)\n",
    "    min_lr=1e-8, # 最小的lr\n",
    "    eps=1e-6,    # 学习率衰减到的最小值eps时,学习率不再改变\n",
    ")\n"
   ]
  },
  {
   "cell_type": "markdown",
   "metadata": {},
   "source": [
    "## 模型训练及反馈"
   ]
  },
  {
   "cell_type": "code",
   "execution_count": 18,
   "metadata": {
    "ExecuteTime": {
     "end_time": "2021-01-06T09:35:20.330143Z",
     "start_time": "2021-01-06T09:32:14.670200Z"
    },
    "scrolled": true
   },
   "outputs": [
    {
     "name": "stdout",
     "output_type": "stream",
     "text": [
      "Epoch: 0 Training Loss: 0.0003616908215917647 Training Batch Acc: 100.0\n",
      "Epoch: 0 Training Loss: 0.08716854453086853\n",
      "Epoch: 0 Validing Loss: 0.4994312524795532\n",
      "Epoch: 0 LR: [0.001] Validing Avg Loss: 0.6471790671348572 ACC: 85.87896253602305\n",
      "Epoch: 1 Training Loss: 0.04361916705965996 Training Batch Acc: 97.65625\n",
      "Epoch: 1 Training Loss: 0.06559291481971741\n",
      "Epoch: 1 Validing Loss: 0.14063380658626556\n",
      "Epoch: 1 LR: [0.001] Validing Avg Loss: 0.19543877243995667 ACC: 94.52449567723343\n",
      "Epoch: 2 Training Loss: 0.05883210524916649 Training Batch Acc: 98.4375\n",
      "Epoch: 2 Training Loss: 0.03601653128862381\n",
      "Epoch: 2 Validing Loss: 0.5920577645301819\n",
      "Epoch: 2 LR: [0.001] Validing Avg Loss: 0.5555209517478943 ACC: 90.20172910662824\n",
      "Epoch: 3 Training Loss: 0.10194837301969528 Training Batch Acc: 96.875\n",
      "Epoch: 3 Training Loss: 0.024542562663555145\n",
      "Epoch: 3 Validing Loss: 0.14592397212982178\n",
      "Epoch: 3 LR: [0.001] Validing Avg Loss: 0.3061898648738861 ACC: 93.0835734870317\n",
      "Epoch: 4 Training Loss: 0.018355270847678185 Training Batch Acc: 99.21875\n",
      "Epoch: 4 Training Loss: 0.062394753098487854\n",
      "Epoch: 4 Validing Loss: 0.10172685980796814\n",
      "Epoch: 4 LR: [0.001] Validing Avg Loss: 0.19527626037597656 ACC: 93.65994236311239\n",
      "Epoch: 5 Training Loss: 0.060148708522319794 Training Batch Acc: 98.4375\n",
      "Epoch: 5 Training Loss: 0.019941510632634163\n",
      "Epoch: 5 Validing Loss: 0.05527658760547638\n",
      "Epoch: 5 LR: [0.001] Validing Avg Loss: 0.07249149680137634 ACC: 96.82997118155619\n",
      "Epoch: 6 Training Loss: 0.021372336894273758 Training Batch Acc: 99.21875\n",
      "Epoch: 6 Training Loss: 0.020287174731492996\n",
      "Epoch: 6 Validing Loss: 0.027699707075953484\n",
      "Epoch: 6 LR: [0.001] Validing Avg Loss: 0.04120861738920212 ACC: 98.27089337175792\n",
      "Epoch: 7 Training Loss: 0.0038648173213005066 Training Batch Acc: 100.0\n",
      "Epoch: 7 Training Loss: 0.011633509770035744\n",
      "Epoch: 7 Validing Loss: 0.08670474588871002\n",
      "Epoch: 7 LR: [0.001] Validing Avg Loss: 0.05725448951125145 ACC: 97.98270893371757\n",
      "Epoch: 8 Training Loss: 0.008030924014747143 Training Batch Acc: 100.0\n",
      "Epoch: 8 Training Loss: 0.012652141973376274\n",
      "Epoch: 8 Validing Loss: 0.005477293860167265\n",
      "Epoch: 8 LR: [0.001] Validing Avg Loss: 0.0048170676454901695 ACC: 100.0\n",
      "Epoch: 9 Training Loss: 0.025979259982705116 Training Batch Acc: 99.21875\n",
      "Epoch: 9 Training Loss: 0.003919740207493305\n",
      "Epoch: 9 Validing Loss: 0.027371052652597427\n",
      "Epoch: 9 LR: [0.001] Validing Avg Loss: 0.017400331795215607 ACC: 99.13544668587896\n",
      "Epoch: 10 Training Loss: 0.0022046640515327454 Training Batch Acc: 100.0\n",
      "Epoch: 10 Training Loss: 0.001060204696841538\n",
      "Epoch: 10 Validing Loss: 0.0281095951795578\n",
      "Epoch: 10 LR: [0.001] Validing Avg Loss: 0.017392270267009735 ACC: 99.42363112391931\n",
      "Epoch: 11 Training Loss: 0.0057326313108205795 Training Batch Acc: 100.0\n",
      "Epoch: 11 Training Loss: 0.0033724294044077396\n",
      "Epoch: 11 Validing Loss: 0.00449257530272007\n",
      "Epoch: 11 LR: [0.001] Validing Avg Loss: 0.0039040204137563705 ACC: 100.0\n",
      "Epoch: 12 Training Loss: 0.00030397443333640695 Training Batch Acc: 100.0\n",
      "Epoch: 12 Training Loss: 0.00029027462005615234\n",
      "Epoch: 12 Validing Loss: 0.4662330150604248\n",
      "Epoch: 12 LR: [0.001] Validing Avg Loss: 0.27704086899757385 ACC: 96.54178674351586\n",
      "Epoch: 13 Training Loss: 0.002676511649042368 Training Batch Acc: 100.0\n",
      "Epoch: 13 Training Loss: 0.002049162983894348\n",
      "Epoch: 13 Validing Loss: 0.22421130537986755\n",
      "Epoch: 13 LR: [0.001] Validing Avg Loss: 0.16225625574588776 ACC: 96.82997118155619\n",
      "Epoch: 14 Training Loss: 0.0023657623678445816 Training Batch Acc: 100.0\n",
      "Epoch: 14 Training Loss: 0.03689989075064659\n",
      "Epoch: 14 Validing Loss: 0.01581648364663124\n",
      "Epoch: 14 LR: [0.0001] Validing Avg Loss: 0.01234535314142704 ACC: 99.42363112391931\n",
      "Epoch: 15 Training Loss: 0.0007311670924536884 Training Batch Acc: 100.0\n",
      "Epoch: 15 Training Loss: 0.002393614035099745\n",
      "Epoch: 15 Validing Loss: 0.00037659905501641333\n",
      "Epoch: 15 LR: [0.0001] Validing Avg Loss: 0.0003130959812551737 ACC: 100.0\n",
      "Epoch: 16 Training Loss: 0.0037243347615003586 Training Batch Acc: 100.0\n",
      "Epoch: 16 Training Loss: 0.0009340190445072949\n",
      "Epoch: 16 Validing Loss: 0.0005186989437788725\n",
      "Epoch: 16 LR: [0.0001] Validing Avg Loss: 0.0004096271877642721 ACC: 100.0\n",
      "Epoch: 17 Training Loss: 0.00041902263183146715 Training Batch Acc: 100.0\n",
      "Epoch: 17 Training Loss: 0.0038945884443819523\n",
      "Epoch: 17 Validing Loss: 0.0002664676576387137\n",
      "Epoch: 17 LR: [0.0001] Validing Avg Loss: 0.00018690689466893673 ACC: 100.0\n",
      "Epoch: 18 Training Loss: 0.0011320171179249883 Training Batch Acc: 100.0\n",
      "Epoch: 18 Training Loss: 0.00125542760360986\n",
      "Epoch: 18 Validing Loss: 0.00013830247917212546\n",
      "Epoch: 18 LR: [0.0001] Validing Avg Loss: 0.00016225388390012085 ACC: 100.0\n",
      "Epoch: 19 Training Loss: 0.0005918356473557651 Training Batch Acc: 100.0\n",
      "Epoch: 19 Training Loss: 0.00013744538591708988\n",
      "Epoch: 19 Validing Loss: 0.00015112129040062428\n",
      "Epoch: 19 LR: [0.0001] Validing Avg Loss: 0.00017264978669118136 ACC: 100.0\n"
     ]
    }
   ],
   "source": [
    "def train_epoch(model, device, data_loader, criterion, optimizer, epoch):\n",
    "    ### 模型进入训练状态(启用 BN 和 Dropout)\n",
    "    model.train()\n",
    "    for i, (data, target) in enumerate(data_loader):\n",
    "        data, target = data.to(device), target.to(device)\n",
    "        optimizer.zero_grad()\n",
    "        output = model(data)\n",
    "        pred = torch.max(output, 1)[1]\n",
    "        batch_acc = 100.0 * (pred == target).sum().item() / len(target)\n",
    "        loss = criterion(output, target)\n",
    "        loss.backward()\n",
    "        optimizer.step()\n",
    "        # optimizer.zero_grad()\n",
    "        if i % 30 == 0:\n",
    "            print('Epoch:', epoch, 'Training Loss:', loss.item(), 'Training Batch Acc:', batch_acc)\n",
    "    print('Epoch:', epoch, 'Training Loss:', loss.item())\n",
    "        \n",
    "def valid_epoch(model, device, data_loader, criterion, epoch):\n",
    "    ### 模型进入评估模式(禁用 BN 和 Dropou)\n",
    "    model.eval()\n",
    "    correct = 0\n",
    "    with torch.no_grad():\n",
    "        losses = []\n",
    "        for i, (data, target) in enumerate(data_loader):\n",
    "            data, target = data.to(device), target.to(device)\n",
    "            output = model(data)\n",
    "            loss = criterion(output, target)\n",
    "            pred = torch.max(output, 1)[1]\n",
    "            correct += (pred == target).sum().item()\n",
    "            if i % 30 == 0:\n",
    "                print('Epoch:', epoch, 'Validing Loss:', loss.item())\n",
    "            losses.append(loss)\n",
    "        avg_loss = torch.stack(losses).mean()\n",
    "    ### 计算正确率\n",
    "    acc = 100.0 * correct / len(data_loader.dataset)\n",
    "    ### 调整学习率\n",
    "    scheduler.step(avg_loss)\n",
    "    print('Epoch:', epoch, 'LR:', scheduler._last_lr, 'Validing Avg Loss:', avg_loss.item(), 'ACC:', acc)\n",
    "    return acc\n",
    "    \n",
    "def train(epoch_num, model, train_loader, valid_loader, criterion, optimizer, scheduler):\n",
    "    ### 获取模型训练所用设备(cpu或者gpu)\n",
    "    device = next(model.parameters()).device\n",
    "    for epoch in range(0, epoch_num):\n",
    "        ### 训练模型\n",
    "        train_epoch(model, device, train_loader, criterion, optimizer, epoch)\n",
    "        ### 校验模型\n",
    "        valid_epoch(model, device, valid_loader, criterion, epoch)\n",
    "\n",
    "    ### 保存模型\n",
    "    torch.save(model.state_dict(), \"last.pt\")\n",
    "        \n",
    "### 启动训练\n",
    "train(max_epoch, model, train_loader, valid_loader, criterion, optimizer, scheduler)"
   ]
  },
  {
   "cell_type": "markdown",
   "metadata": {},
   "source": [
    "## 模型评估及测试"
   ]
  },
  {
   "cell_type": "code",
   "execution_count": 22,
   "metadata": {
    "ExecuteTime": {
     "end_time": "2021-01-06T10:05:30.184986Z",
     "start_time": "2021-01-06T10:05:19.105364Z"
    }
   },
   "outputs": [
    {
     "name": "stdout",
     "output_type": "stream",
     "text": [
      "Acc: 100.0\n"
     ]
    }
   ],
   "source": [
    "### 加载测试数据集\n",
    "test_data = JsonfileDataset(data_root, 'test.json', transform=transform)\n",
    "test_loader = DataLoader(test_data, batch_size=64, shuffle=False, drop_last=False) \n",
    "\n",
    "### 加载训练完成的模型\n",
    "test_model = models.resnet18(pretrained=False)\n",
    "test_model.fc = nn.Linear(test_model.fc.in_features, 22)\n",
    "test_model.load_state_dict(torch.load('last.pt'))\n",
    "\n",
    "def evaluate(model, data_loader):\n",
    "    model.eval()\n",
    "    correct = 0\n",
    "    with torch.no_grad():\n",
    "        for data, target in data_loader:\n",
    "            output = model(data)\n",
    "            pred = torch.max(output, 1)[1]\n",
    "            correct += (pred == target).sum().item()\n",
    "    ### 计算正确率\n",
    "    acc = 100.0 * correct / len(data_loader.dataset)\n",
    "    return acc\n",
    "\n",
    "### 启动评估\n",
    "acc = evaluate(test_model, test_loader)\n",
    "print(\"Acc:\", acc)"
   ]
  },
  {
   "cell_type": "code",
   "execution_count": 24,
   "metadata": {
    "ExecuteTime": {
     "end_time": "2021-01-06T10:05:57.390253Z",
     "start_time": "2021-01-06T10:05:57.244216Z"
    }
   },
   "outputs": [
    {
     "data": {
      "text/plain": [
       "('tulip', 'fritillary', 'salviasplendens')"
      ]
     },
     "execution_count": 24,
     "metadata": {},
     "output_type": "execute_result"
    }
   ],
   "source": [
    "def predict(model, img_path):\n",
    "    img = Image.open(img_path).convert('RGB')\n",
    "    transform = transforms.Compose([\n",
    "        transforms.Resize((224, 224)),\n",
    "        transforms.ToTensor()\n",
    "        ])\n",
    "\n",
    "    inputs = transform(img).unsqueeze(0)\n",
    "\n",
    "    with torch.no_grad():\n",
    "        outputs = model(inputs)\n",
    "        result = outputs.argmax(dim=1).item()\n",
    "\n",
    "    return result                                           \n",
    "\n",
    "test_pic1 = os.path.join(k12ai_get_top_dir(), 'assets/images', 'flower_0.jpg')\n",
    "test_pic2 = os.path.join(k12ai_get_top_dir(), 'assets/images', 'flower_1.jpg')\n",
    "test_pic3 = os.path.join(k12ai_get_top_dir(), 'assets/images', 'flower_2.jpg')\n",
    "items['label_names'][predict(test_model, test_pic1)], \\\n",
    "items['label_names'][predict(test_model, test_pic2)], \\\n",
    "items['label_names'][predict(test_model, test_pic3)]"
   ]
  },
  {
   "cell_type": "code",
   "execution_count": 25,
   "metadata": {
    "ExecuteTime": {
     "end_time": "2021-01-06T10:06:01.205479Z",
     "start_time": "2021-01-06T10:06:01.195814Z"
    }
   },
   "outputs": [
    {
     "data": {
      "image/jpeg": "[encoded data removed]",
      "text/plain": [
       "<IPython.core.display.Image object>"
      ]
     },
     "execution_count": 25,
     "metadata": {},
     "output_type": "execute_result"
    }
   ],
   "source": [
    "IMG(test_pic1)"
   ]
  },
  {
   "cell_type": "code",
   "execution_count": 26,
   "metadata": {
    "ExecuteTime": {
     "end_time": "2021-01-06T10:06:03.384966Z",
     "start_time": "2021-01-06T10:06:03.373868Z"
    }
   },
   "outputs": [
    {
     "data": {
      "image/jpeg": "[encoded data removed]",
      "text/plain": [
       "<IPython.core.display.Image object>"
      ]
     },
     "execution_count": 26,
     "metadata": {},
     "output_type": "execute_result"
    }
   ],
   "source": [
    "IMG(test_pic2)"
   ]
  },
  {
   "cell_type": "markdown",
   "metadata": {},
   "source": [
    "------------------"
   ]
  }
 ],
 "metadata": {
  "kernelspec": {
   "display_name": "Python 3",
   "language": "python",
   "name": "python3"
  },
  "language_info": {
   "codemirror_mode": {
    "name": "ipython",
    "version": 3
   },
   "file_extension": ".py",
   "mimetype": "text/x-python",
   "name": "python",
   "nbconvert_exporter": "python",
   "pygments_lexer": "ipython3",
   "version": "3.6.9"
  },
  "toc": {
   "base_numbering": 1,
   "nav_menu": {},
   "number_sections": true,
   "sideBar": true,
   "skip_h1_title": true,
   "title_cell": "Table of Contents",
   "title_sidebar": "Contents",
   "toc_cell": false,
   "toc_position": {
    "height": "calc(100% - 180px)",
    "left": "10px",
    "top": "150px",
    "width": "307.2px"
   },
   "toc_section_display": true,
   "toc_window_display": true
  }
 },
 "nbformat": 4,
 "nbformat_minor": 4
}
