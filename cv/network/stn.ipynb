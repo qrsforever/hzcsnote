{
 "cells": [
  {
   "cell_type": "code",
   "execution_count": 1,
   "id": "specified-terminal",
   "metadata": {
    "ExecuteTime": {
     "end_time": "2021-04-23T10:51:55.575809Z",
     "start_time": "2021-04-23T10:51:53.987807Z"
    }
   },
   "outputs": [
    {
     "name": "stdout",
     "output_type": "stream",
     "text": [
      "CPython 3.6.9\n",
      "IPython 7.16.1\n",
      "\n",
      "numpy 1.19.4\n",
      "torch 1.8.0.dev20210103+cu101\n",
      "torchvision 0.9.0.dev20210103+cu101\n",
      "cv2 4.5.1\n",
      "PIL 6.2.2\n",
      "matplotlib 3.3.3\n"
     ]
    }
   ],
   "source": [
    "%reload_ext autoreload\n",
    "%autoreload 2\n",
    "%reload_ext watermark\n",
    "%watermark -v -p numpy,torch,torchvision,cv2,PIL,matplotlib"
   ]
  },
  {
   "cell_type": "code",
   "execution_count": 2,
   "id": "flush-spyware",
   "metadata": {
    "ExecuteTime": {
     "end_time": "2021-04-23T10:52:03.777773Z",
     "start_time": "2021-04-23T10:52:03.412460Z"
    }
   },
   "outputs": [],
   "source": [
    "import os, sys, io\n",
    "import numpy as np\n",
    "import cv2\n",
    "import random\n",
    "import PIL.Image as Image\n",
    "import torch, torchvision\n",
    "import torch.nn.functional as F\n",
    "import matplotlib.pyplot as plt\n",
    "import matplotlib.gridspec as gridspec\n",
    "from matplotlib.font_manager import FontProperties\n",
    "from IPython.display import display, HTML\n",
    "%matplotlib inline\n",
    "%config InlineBackend.figure_format='retina'\n",
    "%config IPCompleter.use_jedi = False\n",
    "\n",
    "RANDOM_SEED = 42\n",
    "np.random.seed(RANDOM_SEED)\n",
    "torch.manual_seed(RANDOM_SEED);"
   ]
  },
  {
   "cell_type": "code",
   "execution_count": 3,
   "id": "interracial-lecture",
   "metadata": {
    "ExecuteTime": {
     "end_time": "2021-04-23T10:52:14.311800Z",
     "start_time": "2021-04-23T10:52:14.285727Z"
    }
   },
   "outputs": [
    {
     "data": {
      "text/html": [
       "<style>.container { width:90% !important; }</style>"
      ],
      "text/plain": [
       "<IPython.core.display.HTML object>"
      ]
     },
     "metadata": {},
     "output_type": "display_data"
    }
   ],
   "source": [
    "display(HTML('<style>.container { width:%d%% !important; }</style>' % 90))"
   ]
  },
  {
   "cell_type": "code",
   "execution_count": 4,
   "id": "small-brain",
   "metadata": {
    "ExecuteTime": {
     "end_time": "2021-04-23T10:52:21.811200Z",
     "start_time": "2021-04-23T10:52:21.788223Z"
    }
   },
   "outputs": [],
   "source": [
    "zh_font = FontProperties(fname='/data/font/simhei.ttf')"
   ]
  },
  {
   "cell_type": "code",
   "execution_count": null,
   "id": "international-screen",
   "metadata": {},
   "outputs": [],
   "source": []
  }
 ],
 "metadata": {
  "hide_input": false,
  "kernelspec": {
   "display_name": "Python 3",
   "language": "python",
   "name": "python3"
  },
  "language_info": {
   "codemirror_mode": {
    "name": "ipython",
    "version": 3
   },
   "file_extension": ".py",
   "mimetype": "text/x-python",
   "name": "python",
   "nbconvert_exporter": "python",
   "pygments_lexer": "ipython3",
   "version": "3.6.9"
  },
  "toc": {
   "base_numbering": 1,
   "nav_menu": {},
   "number_sections": true,
   "sideBar": true,
   "skip_h1_title": true,
   "title_cell": "",
   "title_sidebar": "Contents",
   "toc_cell": false,
   "toc_position": {},
   "toc_section_display": true,
   "toc_window_display": false
  }
 },
 "nbformat": 4,
 "nbformat_minor": 5
}
