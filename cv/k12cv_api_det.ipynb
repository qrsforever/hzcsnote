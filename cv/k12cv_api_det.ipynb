{
 "cells": [
  {
   "cell_type": "markdown",
   "metadata": {},
   "source": [
    "# <div align=\"center\"> 目标探测 </div>"
   ]
  },
  {
   "cell_type": "code",
   "execution_count": 2,
   "metadata": {},
   "outputs": [],
   "source": [
    "from IPython.display import Markdown as md\n",
    "import requests\n",
    "import json\n",
    "import consul\n",
    "import time\n",
    "import socket"
   ]
  },
  {
   "cell_type": "markdown",
   "metadata": {},
   "source": [
    "## 1 全局配置"
   ]
  },
  {
   "cell_type": "markdown",
   "metadata": {},
   "source": [
    "### 1.1 函数"
   ]
  },
  {
   "cell_type": "code",
   "execution_count": 3,
   "metadata": {},
   "outputs": [],
   "source": [
    "# 获取本机器IP\n",
    "def get_host_ip():\n",
    "    ip=''\n",
    "    try:\n",
    "        s = socket.socket(socket.AF_INET,socket.SOCK_DGRAM)\n",
    "        s.connect(('8.8.8.8',80))\n",
    "        ip = s.getsockname()[0]\n",
    "    finally:\n",
    "        s.close()\n",
    "    return ip\n",
    "\n",
    "def delete_datacenter_key(key):\n",
    "    try:\n",
    "        client = consul.Consul(consul_addr, consul_port)\n",
    "        client.kv.delete(key)\n",
    "    except:\n",
    "        pass\n",
    "\n",
    "# API异步接口将过程中产出的数据同步到consul数据中心, 调用该接口可从中心获取数据 (数据中心仅供开发使用)\n",
    "def query_async_data(key, trycnt=3):\n",
    "    i = 0\n",
    "    while i < trycnt:\n",
    "        try:\n",
    "            client = consul.Consul(consul_addr, consul_port)\n",
    "            _, data = client.kv.get(key)\n",
    "            return str(data['Value'], encoding=\"utf-8\")\n",
    "        except:\n",
    "            i = i + 1\n",
    "            time.sleep(2)\n",
    "    return 'Query nothing!!!'\n",
    "    \n",
    "# 格式化打印json字符串\n",
    "def print_json(text):\n",
    "    if isinstance(text, str):\n",
    "        print(json.dumps(json.loads(text), indent=4))\n",
    "    else:\n",
    "        print(json.dumps(text, indent=4))"
   ]
  },
  {
   "cell_type": "markdown",
   "metadata": {},
   "source": [
    "### 1.2 变量"
   ]
  },
  {
   "cell_type": "code",
   "execution_count": 4,
   "metadata": {},
   "outputs": [],
   "source": [
    "host = get_host_ip()\n",
    "port = 8119\n",
    "\n",
    "user = 'test'\n",
    "uuid = 'abcdef'\n",
    "\n",
    "consul_addr = !echo $(curl -s http://txt.go.sohu.com/ip/soip)| grep -P -o -i \"(\\d+\\.\\d+.\\d+.\\d+)\"\n",
    "consul_port = 8500\n",
    "consul_addr = consul_addr[0]\n",
    "\n",
    "query_trycnt = 2\n",
    "max_epoch = 2"
   ]
  },
  {
   "cell_type": "markdown",
   "metadata": {},
   "source": [
    "### 1.3 全局配置"
   ]
  },
  {
   "cell_type": "code",
   "execution_count": 5,
   "metadata": {},
   "outputs": [],
   "source": [
    "det_template_config = '''{\n",
    "    \"dataset\": \"voc\",\n",
    "    \"task\": \"det\",\n",
    "    \"method\": \"single_shot_detector\",\n",
    "    \"data\": {\n",
    "      \"num_classes\": 21,\n",
    "      \"data_dir\": \"~/DataSet/VOC07+12_DET\",\n",
    "      \"image_tool\": \"cv2\",\n",
    "      \"input_mode\": \"BGR\",\n",
    "      \"keep_difficult\": false,\n",
    "      \"workers\": 1,\n",
    "      \"mean_value\": [104, 117, 123],\n",
    "      \"normalize\": {\n",
    "        \"div_value\": 1,\n",
    "        \"mean\": [104.0, 117.0, 123.0],\n",
    "        \"std\": [1.0, 1.0, 1.0]\n",
    "      }\n",
    "    },\n",
    "    \"train\": {\n",
    "      \"batch_size\": 16,\n",
    "      \"aug_trans\": {\n",
    "        \"shuffle_trans_seq\": [\"random_contrast\", \"random_hue\", \"random_saturation\", \"random_brightness\", \"random_perm\"],\n",
    "        \"trans_seq\": [\"random_hflip\", \"random_pad\", \"random_det_crop\"],\n",
    "        \"random_saturation\": {\n",
    "          \"ratio\": 0.5,\n",
    "          \"lower\": 0.5,\n",
    "          \"upper\": 1.5\n",
    "        },\n",
    "        \"random_hue\": {\n",
    "          \"ratio\": 0.5,\n",
    "          \"delta\": 18\n",
    "        },\n",
    "        \"random_contrast\": {\n",
    "          \"ratio\": 0.5,\n",
    "          \"lower\": 0.5,\n",
    "          \"upper\": 1.5\n",
    "        },\n",
    "        \"random_pad\": {\n",
    "          \"ratio\": 0.6,\n",
    "          \"up_scale_range\": [1.0, 4.0]\n",
    "        },\n",
    "        \"random_brightness\": {\n",
    "          \"ratio\": 0.5,\n",
    "          \"shift_value\": 32\n",
    "        },\n",
    "        \"random_perm\": {\n",
    "          \"ratio\": 0.5\n",
    "        },\n",
    "        \"random_hflip\": {\n",
    "          \"ratio\": 0.5,\n",
    "          \"swap_pair\": []\n",
    "        },\n",
    "        \"random_det_crop\":{\n",
    "          \"ratio\": 1.0\n",
    "        }\n",
    "      },\n",
    "      \"data_transformer\": {\n",
    "        \"size_mode\": \"fix_size\",\n",
    "        \"input_size\": [300, 300],\n",
    "        \"align_method\": \"only_scale\"\n",
    "      }\n",
    "    },\n",
    "    \"val\": {\n",
    "      \"batch_size\": 16,\n",
    "      \"use_07_metric\": true,\n",
    "      \"aug_trans\": {\n",
    "        \"trans_seq\": []\n",
    "      },\n",
    "      \"data_transformer\": {\n",
    "        \"size_mode\": \"fix_size\",\n",
    "        \"input_size\": [300, 300],\n",
    "        \"align_method\": \"only_scale\"\n",
    "      }\n",
    "    },\n",
    "    \"test\": {\n",
    "      \"batch_size\": 16,\n",
    "      \"aug_trans\": {\n",
    "        \"trans_seq\": []\n",
    "      },\n",
    "      \"data_transformer\": {\n",
    "        \"size_mode\": \"fix_size\",\n",
    "        \"input_size\": [300, 300],\n",
    "        \"align_method\": \"only_scale\"\n",
    "      }\n",
    "    },\n",
    "    \"anchor\": {\n",
    "      \"anchor_method\": \"ssd\",\n",
    "      \"iou_threshold\": 0.5,\n",
    "      \"num_anchor_list\": [4, 6, 6, 6, 4, 4],\n",
    "      \"feature_maps_wh\": [[38, 38], [19, 19], [10, 10], [5, 5], [3, 3], [1, 1]],\n",
    "      \"cur_anchor_sizes\": [30, 60, 111, 162, 213, 264, 315],\n",
    "      \"aspect_ratio_list\": [[2], [2, 3], [2, 3], [2, 3], [2], [2]]\n",
    "    },\n",
    "    \"details\": {\n",
    "      \"color_list\": [[255, 170, 30], [0, 0, 70], [244, 35, 232]],\n",
    "      \"name_id_dict\": {\n",
    "        \"aeroplane\": 1, \"bicycle\": 2, \"bird\": 3, \"boat\": 4, \"bottle\": 5, \"bus\": 6, \"car\": 7,\n",
    "        \"cat\": 8, \"chair\": 9, \"cow\": 10, \"diningtable\": 11, \"dog\": 12, \"horse\": 13, \"motorbike\": 14,\n",
    "        \"person\": 15, \"pottedplant\": 16, \"sheep\": 17, \"sofa\": 18, \"train\": 19, \"tvmonitor\": 20\n",
    "      },\n",
    "      \"name_seq\": [\"aeroplane\", \"bicycle\", \"bird\", \"boat\", \"bottle\", \"bus\", \"car\", \"cat\", \"chair\",\n",
    "                   \"cow\", \"diningtable\", \"dog\", \"horse\", \"motorbike\", \"person\", \"pottedplant\",\n",
    "                   \"sheep\", \"sofa\", \"train\", \"tvmonitor\"]\n",
    "    },\n",
    "    \"network\":{\n",
    "      \"backbone\": \"vgg16\",\n",
    "      \"model_name\": \"vgg300_ssd\",\n",
    "      \"num_feature_list\": [512, 1024, 512, 256, 256, 256],\n",
    "      \"stride_list\": [8, 16, 30, 60, 100, 300],\n",
    "      \"head_index_list\": [0, 1, 2, 3, 4, 5],\n",
    "      \"checkpoints_name\": \"ssd_vgg300_voc_det\",\n",
    "      \"checkpoints_dir\": \"checkpoints\"\n",
    "    },\n",
    "    \"solver\": {\n",
    "      \"lr\": {\n",
    "        \"metric\": \"epoch\",\n",
    "        \"is_warm\": true,\n",
    "        \"warm\": {\n",
    "          \"warm_iters\": 1000,\n",
    "          \"power\": 1.0,\n",
    "          \"freeze_backbone\": false\n",
    "        },\n",
    "        \"base_lr\": 0.001,\n",
    "        \"lr_policy\": \"multistep\",\n",
    "        \"multistep\": {\n",
    "          \"gamma\": 0.1,\n",
    "          \"stepvalue\": [156, 195, 234]\n",
    "        }\n",
    "      },\n",
    "      \"optim\": {\n",
    "        \"optim_method\": \"sgd\",\n",
    "        \"adam\": {\n",
    "          \"betas\": [0.9, 0.999],\n",
    "          \"eps\": 1e-08,\n",
    "          \"weight_decay\": 0.0001\n",
    "        },\n",
    "        \"sgd\":{\n",
    "          \"weight_decay\": 0.0005,\n",
    "          \"momentum\": 0.9,\n",
    "          \"nesterov\": false\n",
    "        }\n",
    "      },\n",
    "      \"display_iter\": 100,\n",
    "      \"save_iters\": 5000,\n",
    "      \"test_interval\": 5000,\n",
    "      \"max_epoch\": 2\n",
    "    },\n",
    "    \"res\": {\n",
    "      \"nms\": {\n",
    "        \"mode\": \"union\",\n",
    "        \"max_threshold\": 0.45,\n",
    "        \"pre_nms\": 1000\n",
    "      },\n",
    "      \"val_conf_thre\": 0.01,\n",
    "      \"vis_conf_thre\": 0.5,\n",
    "      \"max_per_image\": 200,\n",
    "      \"cls_keep_num\": 50\n",
    "    },\n",
    "    \"loss\": {\n",
    "      \"loss_type\": \"multibox_loss\",\n",
    "      \"loss_weights\": {\n",
    "        \"multibox_loss\": {\n",
    "            \"multibox_loss\": 1.0\n",
    "        }\n",
    "      }\n",
    "    }\n",
    "}'''\n",
    "det_template_config_dict = json.loads(det_template_config)"
   ]
  },
  {
   "cell_type": "markdown",
   "metadata": {},
   "source": [
    "## 2 训练"
   ]
  },
  {
   "cell_type": "code",
   "execution_count": 6,
   "metadata": {},
   "outputs": [],
   "source": [
    "det_config = det_template_config_dict\n",
    "\n",
    "det_config['dataset'] = 'voc'\n",
    "det_config['data']['data_dir'] = '/data/datasets/cv/VOC07+12_DET'\n",
    "det_config['network']['model_name'] = 'vgg16_ssd300'\n",
    "\n",
    "conf = json.dumps(det_config)"
   ]
  },
  {
   "cell_type": "markdown",
   "metadata": {},
   "source": [
    "### train.stop"
   ]
  },
  {
   "cell_type": "code",
   "execution_count": 8,
   "metadata": {},
   "outputs": [
    {
     "name": "stdout",
     "output_type": "stream",
     "text": [
      "{\n",
      "    \"code\": 100200,\n",
      "    \"descr\": \"task service success\"\n",
      "}\n"
     ]
    }
   ],
   "source": [
    "op = 'train.stop'\n",
    "uuid = 'vgg300_ssd_voc'\n",
    "data = '''{\n",
    "    \"op\":\"%s\",\n",
    "    \"user\": \"%s\",\n",
    "    \"service_name\": \"k12cv\",\n",
    "    \"service_uuid\": \"%s\",\n",
    "    \"service_params\": {}\n",
    "}''' % (op, user, uuid)\n",
    "\n",
    "api = 'http://%s:%d/k12ai/framework/train' % (host, port)\n",
    "print_json(requests.post(url=api, json=json.loads(data)).text)"
   ]
  },
  {
   "cell_type": "markdown",
   "metadata": {},
   "source": [
    "### train.start"
   ]
  },
  {
   "cell_type": "code",
   "execution_count": 10,
   "metadata": {},
   "outputs": [
    {
     "name": "stdout",
     "output_type": "stream",
     "text": [
      "{\n",
      "    \"code\": 100200,\n",
      "    \"descr\": \"task service success\"\n",
      "}\n"
     ]
    }
   ],
   "source": [
    "op = 'train.start'\n",
    "uuid = 'vgg300_ssd_voc'\n",
    "data = '''{\n",
    "    \"op\":\"%s\",\n",
    "    \"user\": \"%s\",\n",
    "    \"service_name\": \"k12cv\",\n",
    "    \"service_uuid\": \"%s\",\n",
    "    \"service_params\": %s\n",
    "}''' % (op, user, uuid, conf)\n",
    "\n",
    "api = 'http://%s:%d/k12ai/framework/train' % (host, port)\n",
    "print_json(requests.post(url=api, json=json.loads(data)).text)\n",
    "\n",
    "key = 'framework/%s/%s/%s/metrics'%(user, uuid, op)\n",
    "delete_datacenter_key(key)"
   ]
  },
  {
   "cell_type": "markdown",
   "metadata": {},
   "source": [
    "输出样例:\n",
    "```json\n",
    "{\n",
    "    \"version\": \"0.1.0\",\n",
    "    \"type\": \"metrics\",\n",
    "    \"tag\": \"framework\",\n",
    "    \"op\": \"train.start\",\n",
    "    \"user\": \"test\",\n",
    "    \"service_uuid\": \"vgg300_ssd_voc\",\n",
    "    \"timestamp\": 1575045096684,\n",
    "    \"datetime\": \"2019-11-30 00:31:36\",\n",
    "    \"metrics\": {\n",
    "        \"training_epochs\": 1,\n",
    "        \"training_loss\": 14.5297184,\n",
    "        \"training_speed\": 0.603,\n",
    "        \"lr\": [\n",
    "            0.0002,\n",
    "            0.001\n",
    "        ]\n",
    "    }\n",
    "}\n",
    "```"
   ]
  },
  {
   "cell_type": "code",
   "execution_count": 11,
   "metadata": {
    "scrolled": true
   },
   "outputs": [
    {
     "name": "stdout",
     "output_type": "stream",
     "text": [
      "{\n",
      "    \"version\": \"0.1.0\",\n",
      "    \"type\": \"metrics\",\n",
      "    \"tag\": \"framework\",\n",
      "    \"op\": \"train.start\",\n",
      "    \"user\": \"test\",\n",
      "    \"service_uuid\": \"vgg300_ssd_voc\",\n",
      "    \"timestamp\": 1575382955624,\n",
      "    \"datetime\": \"2019-12-03 22:22:35\",\n",
      "    \"metrics\": {\n",
      "        \"training_epochs\": 1,\n",
      "        \"training_loss\": 8.15280151,\n",
      "        \"training_speed\": 0.553,\n",
      "        \"lr\": [\n",
      "            0.0007,\n",
      "            0.001\n",
      "        ]\n",
      "    }\n",
      "}\n"
     ]
    }
   ],
   "source": [
    "print(query_async_data(key, query_trycnt))"
   ]
  },
  {
   "cell_type": "markdown",
   "metadata": {},
   "source": [
    "## 3 评估"
   ]
  }
 ],
 "metadata": {
  "kernelspec": {
   "display_name": "Python 3",
   "language": "python",
   "name": "python3"
  },
  "language_info": {
   "codemirror_mode": {
    "name": "ipython",
    "version": 3
   },
   "file_extension": ".py",
   "mimetype": "text/x-python",
   "name": "python",
   "nbconvert_exporter": "python",
   "pygments_lexer": "ipython3",
   "version": "3.6.8"
  }
 },
 "nbformat": 4,
 "nbformat_minor": 2
}
