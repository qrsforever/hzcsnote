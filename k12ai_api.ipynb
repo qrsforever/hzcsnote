{
 "cells": [
  {
   "cell_type": "markdown",
   "metadata": {},
   "source": [
    "# <div align='center'> 测试新架构API </div>"
   ]
  },
  {
   "cell_type": "code",
   "execution_count": 99,
   "metadata": {},
   "outputs": [],
   "source": [
    "import requests\n",
    "import json"
   ]
  },
  {
   "cell_type": "code",
   "execution_count": 100,
   "metadata": {},
   "outputs": [],
   "source": [
    "hostname = 'gamma'\n",
    "host = '10.255.20.227'\n",
    "port = 8129\n",
    "\n",
    "user = 'test'\n",
    "uuid = '123456'"
   ]
  },
  {
   "cell_type": "markdown",
   "metadata": {},
   "source": [
    "## 机器学习框架"
   ]
  },
  {
   "cell_type": "markdown",
   "metadata": {},
   "source": [
    "### 一. 训练`/k12ai/framework/train`"
   ]
  },
  {
   "cell_type": "markdown",
   "metadata": {},
   "source": [
    "#### A. 数据结构"
   ]
  },
  {
   "cell_type": "markdown",
   "metadata": {},
   "source": [
    "1. 输入\n",
    "\n",
    "```json\n",
    "{\n",
    "    \"op\":\"\", // [M] api具有子集操作, 如: \"train.start\", \"train.stop\"\n",
    "    \"user\": \"\", // [M] 用户ID, api调用者, 如: 用户账号user_id(不含有特殊字符)\n",
    "    \"service_name\": \"\", // [M] 服务名, k12ai由多个子框架组成, 需要指定具体服务, 如: \"k12nlp\", \"k12cv\"\n",
    "    \"service_uuid\": \"\", // [M] 服务唯一标识码, 可以是用户项目的工程ID, project_id.\n",
    "    \"service_params\": { // [M] 服务参数\n",
    "        \"dataset_reader\": { // [M] 训练数据集处理配置\n",
    "        },\n",
    "        \"validation_dataset_reader\":{ // [O] 检验模型数据集的处理配置\n",
    "        },\n",
    "        \"train_data_path\": \"\", // [M] 训练数据集的路径\n",
    "        \"validation_data_path\": \"\", // [O] 检验模型数据集的路径\n",
    "        \"model\":{ // [M] 模型的配置 \n",
    "        },\n",
    "        \"iterator\":{ // [M] 训练/检验模型时采用的迭代方式\n",
    "        },\n",
    "        \"trainer\":{ // [M] 训练相关的参数配置\n",
    "        }\n",
    "    }\n",
    "}\n",
    "```"
   ]
  },
  {
   "cell_type": "markdown",
   "metadata": {},
   "source": [
    "#### B. 配置实例"
   ]
  },
  {
   "cell_type": "code",
   "execution_count": 154,
   "metadata": {},
   "outputs": [],
   "source": [
    "config = '''{\n",
    "    \"dataset_reader\":{\n",
    "        \"type\": \"sst_tokens\",\n",
    "        \"use_subtrees\": true,\n",
    "        \"granularity\": \"5-class\"\n",
    "    },\n",
    "    \"validation_dataset_reader\":{\n",
    "        \"type\": \"sst_tokens\",\n",
    "        \"use_subtrees\": false,\n",
    "        \"granularity\": \"5-class\"\n",
    "    },\n",
    "    \"train_data_path\": \"/data/datasets/nlp/sst/train.txt\",\n",
    "    \"validation_data_path\": \"/data/datasets/nlp/sst/dev.txt\",\n",
    "    \"test_data_path\": \"/data/datasets/nlp/sst/test.txt\",\n",
    "    \"model\": {\n",
    "        \"type\": \"bcn\",\n",
    "        \"text_field_embedder\": {\n",
    "            \"token_embedders\": {\n",
    "                \"tokens\": {\n",
    "                    \"type\": \"embedding\",\n",
    "                    \"embedding_dim\": 50,\n",
    "                    \"pretrained_file\": \"/data/datasets/nlp/glove/glove.6B.50d.txt.gz\",\n",
    "                    \"trainable\": false\n",
    "                }\n",
    "            }\n",
    "        },\n",
    "        \"embedding_dropout\": 0.25,\n",
    "        \"pre_encode_feedforward\": {\n",
    "            \"input_dim\": 50,\n",
    "            \"num_layers\": 1,\n",
    "            \"hidden_dims\": [50],\n",
    "            \"activations\": [\"relu\"],\n",
    "            \"dropout\": [0.25]\n",
    "        },\n",
    "        \"encoder\": {\n",
    "            \"type\": \"lstm\",\n",
    "            \"input_size\": 50,\n",
    "            \"hidden_size\": 50,\n",
    "            \"num_layers\": 1,\n",
    "            \"bidirectional\": true\n",
    "        },\n",
    "        \"integrator\": {\n",
    "            \"type\": \"lstm\",\n",
    "            \"input_size\": 300,\n",
    "            \"hidden_size\": 50,\n",
    "            \"num_layers\": 1,\n",
    "            \"bidirectional\": true\n",
    "        },\n",
    "        \"integrator_dropout\": 0.1,\n",
    "        \"output_layer\": {\n",
    "            \"input_dim\": 400,\n",
    "            \"num_layers\": 3,\n",
    "            \"output_dims\": [200, 100, 5],\n",
    "            \"pool_sizes\": 4,\n",
    "            \"dropout\": [0.2, 0.3, 0.0]\n",
    "        }\n",
    "    },\n",
    "    \"iterator\": {\n",
    "        \"type\": \"bucket\",\n",
    "        \"sorting_keys\": [[\"tokens\", \"num_tokens\"]],\n",
    "        \"batch_size\" : 2\n",
    "    },\n",
    "    \"trainer\": {\n",
    "        \"num_epochs\": 10,\n",
    "        \"patience\": 2,\n",
    "        \"grad_norm\": 5.0,\n",
    "        \"validation_metric\": \"+accuracy\",\n",
    "        \"optimizer\": {\n",
    "            \"type\": \"adam\",\n",
    "            \"lr\": 0.001\n",
    "        },\n",
    "        \"cuda_device\": 0\n",
    "    }\n",
    "}'''\n",
    "# json.loads(config)"
   ]
  },
  {
   "cell_type": "markdown",
   "metadata": {},
   "source": [
    "#### C. 启动训练"
   ]
  },
  {
   "cell_type": "code",
   "execution_count": 155,
   "metadata": {},
   "outputs": [
    {
     "data": {
      "text/plain": [
       "'{\"content\": {\"result\": {\"op\": \"train.start\", \"exec\": \"success\", \"cache_dir\": \"/data/users/test/123456\"}}, \"code\": 100000}'"
      ]
     },
     "execution_count": 155,
     "metadata": {},
     "output_type": "execute_result"
    }
   ],
   "source": [
    "data = '''{\n",
    "    \"op\":\"train.start\",\n",
    "    \"user\": \"%s\",\n",
    "    \"service_name\": \"k12nlp\",\n",
    "    \"service_uuid\": \"%s\",\n",
    "    \"service_params\": %s\n",
    "}''' % (user, uuid, config)\n",
    "\n",
    "api = 'http://%s:%d/k12ai/framework/train' % (host, port)\n",
    "start_res = requests.post(url=api, json=json.loads(data))\n",
    "start_res.text"
   ]
  },
  {
   "cell_type": "markdown",
   "metadata": {},
   "source": [
    "[操作是异步的, 训练过程结果到Consul数据中心查看](http://gamma:8500/ui/gamma/kv/test/123456/)"
   ]
  },
  {
   "cell_type": "markdown",
   "metadata": {},
   "source": [
    "#### D. 停止训练"
   ]
  },
  {
   "cell_type": "code",
   "execution_count": 96,
   "metadata": {},
   "outputs": [
    {
     "data": {
      "text/plain": [
       "'{\"content\": {\"result\": 0}, \"code\": 100000}'"
      ]
     },
     "execution_count": 96,
     "metadata": {},
     "output_type": "execute_result"
    }
   ],
   "source": [
    "data = '''{\n",
    "    \"op\":\"train.stop\",\n",
    "    \"user\": \"%s\",\n",
    "    \"service_name\": \"k12nlp\",\n",
    "    \"service_uuid\": \"%s\",\n",
    "    \"service_params\": {}\n",
    "}''' % (user, uuid)\n",
    "\n",
    "api = 'http://%s:%d/k12ai/framework/train' % (host, port)\n",
    "stop_res = requests.post(url=api, json=json.loads(data))\n",
    "stop_res.text"
   ]
  },
  {
   "cell_type": "markdown",
   "metadata": {},
   "source": [
    "[操作是异步的, 真实启动的结果到Consul数据中心查看](http://gamma:8500/ui/gamma/kv/test/123456/)"
   ]
  },
  {
   "cell_type": "markdown",
   "metadata": {},
   "source": [
    "### 二. 评估`/k12ai/framework/evaluate`"
   ]
  },
  {
   "cell_type": "markdown",
   "metadata": {},
   "source": [
    "#### A. 数据结构\n",
    "\n",
    "1. 输入\n",
    "\n",
    "```json\n",
    "{\n",
    "    \"op\":\"\", // [M] api具有子集操作, 如: \"evaluate.start\", \"evaluate.stop\"\n",
    "    \"user\": \"\", // [M] 用户ID, api调用者, 如: 用户账号user_id(不含有特殊字符)\n",
    "    \"service_name\": \"\", // [M] 服务名, k12ai由多个子框架组成, 需要指定具体服务, 如: \"k12nlp\", \"k12cv\"\n",
    "    \"service_uuid\": \"\", // [M] 服务唯一标识码, 可以是用户项目的工程ID, project_id.\n",
    "    \"service_params\": { // [M] 服务参数\n",
    "        \"input_file\": \"\" // [M] 评估/测试数据集的路径\n",
    "        \"output_file\": \"\" // [O] 指定评估最终结果的metrics存储文件\n",
    "    }\n",
    "}\n",
    "```\n",
    "\n",
    "2. 输出\n",
    "\n",
    "```json\n",
    "{\n",
    "    \"code\": 100000, // [M] 操作结果码, (异步)TODO: 100000只能说明接口调用是通的, 不能说明训练是成功的.\n",
    "    \"content\": {  // [O] 操作结果详情\n",
    "        \"result\": {\n",
    "            \"op\": \"evaluate.stop\",\n",
    "            \"exec\": \"success\"\n",
    "        }\n",
    "    }\n",
    "}\n",
    "```"
   ]
  },
  {
   "cell_type": "markdown",
   "metadata": {},
   "source": [
    "#### B. 启动评估"
   ]
  },
  {
   "cell_type": "code",
   "execution_count": 121,
   "metadata": {},
   "outputs": [
    {
     "data": {
      "text/plain": [
       "'{\"content\": {\"result\": {\"op\": \"evaluate.start\", \"exec\": \"success\"}}, \"code\": 100000}'"
      ]
     },
     "execution_count": 121,
     "metadata": {},
     "output_type": "execute_result"
    }
   ],
   "source": [
    "data = '''{\n",
    "    \"op\":\"evaluate.start\",\n",
    "    \"user\": \"%s\",\n",
    "    \"service_name\": \"k12nlp\",\n",
    "    \"service_uuid\": \"%s\",\n",
    "    \"service_params\": {\n",
    "        \"input_file\": \"/data/datasets/nlp/sst/test.txt\"\n",
    "    }\n",
    "}''' % (user, uuid)\n",
    "\n",
    "api = 'http://%s:%d/k12ai/framework/evaluate' % (host, port)\n",
    "requests.post(url=api, json=json.loads(data)).text"
   ]
  },
  {
   "cell_type": "markdown",
   "metadata": {},
   "source": [
    "[操作是异步的, 真实启动的结果到Consul数据中心查看](http://gamma:8500/ui/gamma/kv/test/123456/)\n",
    "\n",
    "评估过程中消息如下:\n",
    "\n",
    "```json\n",
    "{\n",
    "    \"version\": \"0.1.0\", // 消息体的版本号, 为了兼容设定\n",
    "    \"op\": \"evaluate.start\", // 操作\n",
    "    \"user\": \"test\", // 用户ID\n",
    "    \"service_uuid\": \"123456\", // 工程ID\n",
    "    \"timestamp\": 1574224024170, // 时间戳\n",
    "    \"datetime\": \"2019-11-20 12:27:04\", // 日期\n",
    "    \"message\": { // 具体消息, 阶段不同, 消息结构和内容都有可能发生变化\n",
    "        \"accuracy\": 0.4027777777777778,\n",
    "        \"accuracy3\": 0.8255555555555556,\n",
    "        \"loss\": 1.3810093342098926\n",
    "    }\n",
    "}\n",
    "```"
   ]
  },
  {
   "cell_type": "markdown",
   "metadata": {},
   "source": [
    "#### C. 停止评估"
   ]
  },
  {
   "cell_type": "code",
   "execution_count": 122,
   "metadata": {},
   "outputs": [
    {
     "data": {
      "text/plain": [
       "'{\"content\": {\"result\": {\"op\": \"evaluate.stop\", \"exec\": \"success\"}}, \"code\": 100000}'"
      ]
     },
     "execution_count": 122,
     "metadata": {},
     "output_type": "execute_result"
    }
   ],
   "source": [
    "data = '''{\n",
    "    \"op\":\"evaluate.stop\",\n",
    "    \"user\": \"%s\",\n",
    "    \"service_name\": \"k12nlp\",\n",
    "    \"service_uuid\": \"%s\"\n",
    "}''' % (user, uuid)\n",
    "\n",
    "api = 'http://%s:%d/k12ai/framework/evaluate' % (host, port)\n",
    "requests.post(url=api, json=json.loads(data)).text"
   ]
  },
  {
   "cell_type": "markdown",
   "metadata": {},
   "source": [
    "[操作是异步的, 真实启动的结果到Consul数据中心查看](http://gamma:8500/ui/gamma/kv/test/123456/)\n",
    "\n",
    "停止评估任务, 如果该任务已经结束, 返回结果如下:\n",
    "\n",
    "```json\n",
    "{\n",
    "    \"version\": \"0.1.0\",\n",
    "    \"op\": \"evaluate.stop\",\n",
    "    \"user\": \"test\",\n",
    "    \"service_uuid\": \"123456\",\n",
    "    \"timestamp\": 1574224373067,\n",
    "    \"datetime\": \"2019-11-20 12:32:53\"\n",
    "        \"result\": {\n",
    "            \"code\": -1,\n",
    "            \"err\": \"404 Client Error: Not Found (\\\"No such container: evaluate-test-123456\\\")\"\n",
    "        }\n",
    "    }\n",
    "}\n",
    "```"
   ]
  },
  {
   "cell_type": "markdown",
   "metadata": {},
   "source": [
    "### 3. 预测`/k12ai/framework/predict`"
   ]
  },
  {
   "cell_type": "markdown",
   "metadata": {},
   "source": [
    "#### A. 数据结构"
   ]
  },
  {
   "cell_type": "markdown",
   "metadata": {},
   "source": [
    "1. 输入\n",
    "\n",
    "```json\n",
    "{\n",
    "    \"op\":\"\", // [M] api具有子集操作, 如: \"predict.start\", \"predict.stop\"\n",
    "    \"user\": \"\", // [M] 用户ID, api调用者, 如: 用户账号user_id(不含有特殊字符)\n",
    "    \"service_name\": \"\", // [M] 服务名, k12ai由多个子框架组成, 需要指定具体服务, 如: \"k12nlp\", \"k12cv\"\n",
    "    \"service_uuid\": \"\", // [M] 服务唯一标识码, 可以是用户项目的工程ID, project_id.\n",
    "    \"service_params\": { // [M] 服务参数\n",
    "        \"input_type\": \"\", // [M] 指定预测文本的类型, 1. \"text\": 文本串; 2. \"file\": 文件\n",
    "        \"input_file\": \"\", // [C] 当input_type=file; 指定预测文本路径\n",
    "        \"input_text\": \"\", // [C] 当input_type=text; 指定预测文本内容\n",
    "        \"output_file\": \"\", // [O] 指定最终结果输出的存储文件\n",
    "        \"batch_size\": 32, // [0] 指定预测时使用的batch大小\n",
    "        \"predictor\": \"\", // [O] 指定预测方法类型, 如果不指定则从训练配置config.json中读取\n",
    "    }\n",
    "}\n",
    "```"
   ]
  },
  {
   "cell_type": "markdown",
   "metadata": {},
   "source": [
    "#### B. 启动预测"
   ]
  },
  {
   "cell_type": "code",
   "execution_count": 148,
   "metadata": {},
   "outputs": [
    {
     "data": {
      "text/plain": [
       "'{\"content\": {\"result\": {\"op\": \"predict.start\", \"exec\": \"success\", \"cache_dir\": \"/data/users/test/123456\"}}, \"code\": 100000}'"
      ]
     },
     "execution_count": 148,
     "metadata": {},
     "output_type": "execute_result"
    }
   ],
   "source": [
    "text = '{\"sentence\": \"a very well-made, funny and entertaining picture.\"}'\n",
    "data = '''{\n",
    "    \"op\":\"predict.start\",\n",
    "    \"user\": \"%s\",\n",
    "    \"service_name\": \"k12nlp\",\n",
    "    \"service_uuid\": \"%s\",\n",
    "    \"service_params\": {\n",
    "        \"input_type\": \"text\",\n",
    "        \"input_text\": %s,\n",
    "        \"predictor\": \"text_classifier\"\n",
    "    }\n",
    "}''' % (user, uuid, json.dumps(text))\n",
    "\n",
    "api = 'http://%s:%d/k12ai/framework/predict' % (host, port)\n",
    "requests.post(url=api, json=json.loads(data)).text"
   ]
  },
  {
   "cell_type": "markdown",
   "metadata": {},
   "source": [
    "[操作是异步的, 真实启动的结果到Consul数据中心查看](http://gamma:8500/ui/gamma/kv/test/123456/)\n",
    "\n",
    "输出样例:\n",
    "\n",
    "```json\n",
    "{\n",
    "    \"version\": \"0.1.0\",\n",
    "    \"op\": \"predict.start\",\n",
    "    \"user\": \"test\",\n",
    "    \"service_uuid\": \"123456\",\n",
    "    \"timestamp\": 1574240762485,\n",
    "    \"datetime\": \"2019-11-20 17:06:02\",\n",
    "    \"message\": {\n",
    "        \"index\": 0,  // 表示本次预测是第几个实例\n",
    "        \"prediction\": \"{\\\"logits\\\": [-1.4716334342956543, 1.646652340888977, -2.384199857711792, 2.6578245162963867, -4.671465873718262], \\\"class_probabilities\\\": [0.011601723730564117, 0.26228705048561096, 0.004658004269003868, 0.7209802269935608, 0.00047299108700826764], \\\"label\\\": \\\"4\\\"}\\n\"\n",
    "    }\n",
    "}\n",
    "```"
   ]
  },
  {
   "cell_type": "markdown",
   "metadata": {},
   "source": [
    "#### C. 停止预测"
   ]
  },
  {
   "cell_type": "code",
   "execution_count": 153,
   "metadata": {},
   "outputs": [
    {
     "data": {
      "text/plain": [
       "'{\"content\": {\"result\": {\"op\": \"predict.stop\", \"exec\": \"success\"}}, \"code\": 100000}'"
      ]
     },
     "execution_count": 153,
     "metadata": {},
     "output_type": "execute_result"
    }
   ],
   "source": [
    "data = '''{\n",
    "    \"op\":\"predict.stop\",\n",
    "    \"user\": \"%s\",\n",
    "    \"service_name\": \"k12nlp\",\n",
    "    \"service_uuid\": \"%s\"\n",
    "}''' % (user, uuid)\n",
    "\n",
    "api = 'http://%s:%d/k12ai/framework/predict' % (host, port)\n",
    "requests.post(url=api, json=json.loads(data)).text"
   ]
  },
  {
   "cell_type": "markdown",
   "metadata": {},
   "source": [
    "[操作是异步的, 真实启动的结果到Consul数据中心查看](http://gamma:8500/ui/gamma/kv/test/123456/)\n",
    "\n",
    "输出样例:\n",
    "\n",
    "```json\n",
    "{\n",
    "    \"version\": \"0.1.0\",\n",
    "    \"op\": \"predict.stop\",\n",
    "    \"user\": \"test\",\n",
    "    \"service_uuid\": \"123456\",\n",
    "    \"timestamp\": 1574241361253,\n",
    "    \"datetime\": \"2019-11-20 17:16:01\",\n",
    "    \"message\": {\n",
    "        \"result\": {\n",
    "            \"code\": 0,\n",
    "            \"id\": \"867680f57c\" // Container ID\n",
    "        }\n",
    "    }\n",
    "}\n",
    "```"
   ]
  },
  {
   "cell_type": "markdown",
   "metadata": {},
   "source": [
    "## 平台资源管理"
   ]
  }
 ],
 "metadata": {
  "kernelspec": {
   "display_name": "Python 3",
   "language": "python",
   "name": "python3"
  },
  "language_info": {
   "codemirror_mode": {
    "name": "ipython",
    "version": 3
   },
   "file_extension": ".py",
   "mimetype": "text/x-python",
   "name": "python",
   "nbconvert_exporter": "python",
   "pygments_lexer": "ipython3",
   "version": "3.6.8"
  }
 },
 "nbformat": 4,
 "nbformat_minor": 2
}
