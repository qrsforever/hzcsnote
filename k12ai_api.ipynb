{
 "cells": [
  {
   "cell_type": "markdown",
   "metadata": {},
   "source": [
    "# <div align='center'> 测试新架构API(本文件不在维护) </div>"
   ]
  },
  {
   "cell_type": "code",
   "execution_count": 13,
   "metadata": {},
   "outputs": [],
   "source": [
    "import requests\n",
    "import json\n",
    "import consul\n",
    "import time\n",
    "import socket"
   ]
  },
  {
   "cell_type": "markdown",
   "metadata": {},
   "source": [
    "## 零. 辅助功能"
   ]
  },
  {
   "cell_type": "code",
   "execution_count": 14,
   "metadata": {},
   "outputs": [],
   "source": [
    "# 获取本机器IP\n",
    "def get_host_ip():\n",
    "    ip=''\n",
    "    try:\n",
    "        s = socket.socket(socket.AF_INET,socket.SOCK_DGRAM)\n",
    "        s.connect(('8.8.8.8',80))\n",
    "        ip = s.getsockname()[0]\n",
    "        s.close()\n",
    "    except Exception as err:\n",
    "        print(err)\n",
    "    return ip\n",
    "\n",
    "# API异步接口将过程中产出的数据同步到consul数据中心, 调用该接口可从中心获取数据 (数据中心仅供开发使用)\n",
    "def query_async_data(key, wait = 1):\n",
    "    time.sleep(wait)\n",
    "    try:\n",
    "        client = consul.Consul(consul_addr, consul_port)\n",
    "        _, data = client.kv.get(key)\n",
    "        return str(data['Value'], encoding=\"utf-8\")\n",
    "    except:\n",
    "        return 'Query nothing, try again later!'\n",
    "    \n",
    "# 格式化打印json字符串\n",
    "def print_json(text):\n",
    "    if isinstance(text, str):\n",
    "        print(json.dumps(json.loads(text), indent=4))\n",
    "    else:\n",
    "        print(json.dumps(text, indent=4))"
   ]
  },
  {
   "cell_type": "code",
   "execution_count": 15,
   "metadata": {},
   "outputs": [],
   "source": [
    "host = get_host_ip()\n",
    "port = 8119\n",
    "\n",
    "user = 'test'\n",
    "uuid = '123456'\n",
    "\n",
    "consul_addr = host\n",
    "consul_port = 8500"
   ]
  },
  {
   "cell_type": "markdown",
   "metadata": {},
   "source": [
    "## 一. 机器学习框架"
   ]
  },
  {
   "cell_type": "markdown",
   "metadata": {},
   "source": [
    "### 1. 训练`/k12ai/framework/train`"
   ]
  },
  {
   "cell_type": "markdown",
   "metadata": {},
   "source": [
    "#### A. 数据结构"
   ]
  },
  {
   "cell_type": "markdown",
   "metadata": {},
   "source": [
    "1. 输入\n",
    "\n",
    "```json\n",
    "{\n",
    "    \"op\":\"\", // [M] api具有子集操作, 如: \"train.start\", \"train.stop\"\n",
    "    \"user\": \"\", // [M] 用户ID, api调用者, 如: 用户账号user_id(不含有特殊字符)\n",
    "    \"service_name\": \"\", // [M] 服务名, k12ai由多个子框架组成, 需要指定具体服务, 如: \"k12nlp\", \"k12cv\"\n",
    "    \"service_uuid\": \"\", // [M] 服务唯一标识码, 可以是用户项目的工程ID, project_id.\n",
    "    \"service_params\": { // [M] 服务参数\n",
    "        \"dataset_reader\": { // [M] 训练数据集处理配置\n",
    "        },\n",
    "        \"validation_dataset_reader\":{ // [O] 检验模型数据集的处理配置\n",
    "        },\n",
    "        \"train_data_path\": \"\", // [M] 训练数据集的路径\n",
    "        \"validation_data_path\": \"\", // [O] 检验模型数据集的路径\n",
    "        \"model\":{ // [M] 模型的配置 \n",
    "        },\n",
    "        \"iterator\":{ // [M] 训练/检验模型时采用的迭代方式\n",
    "        },\n",
    "        \"trainer\":{ // [M] 训练相关的参数配置\n",
    "        }\n",
    "    }\n",
    "}\n",
    "```"
   ]
  },
  {
   "cell_type": "markdown",
   "metadata": {},
   "source": [
    "#### B. 配置实例"
   ]
  },
  {
   "cell_type": "code",
   "execution_count": 7,
   "metadata": {},
   "outputs": [],
   "source": [
    "config = '''{\n",
    "    \"dataset_reader\":{\n",
    "        \"type\": \"sst_tokens\",\n",
    "        \"use_subtrees\": true,\n",
    "        \"granularity\": \"5-class\"\n",
    "    },\n",
    "    \"validation_dataset_reader\":{\n",
    "        \"type\": \"sst_tokens\",\n",
    "        \"use_subtrees\": false,\n",
    "        \"granularity\": \"5-class\"\n",
    "    },\n",
    "    \"train_data_path\": \"/data/datasets/nlp/sst/train.txt\",\n",
    "    \"validation_data_path\": \"/data/datasets/nlp/sst/dev.txt\",\n",
    "    \"test_data_path\": \"/data/datasets/nlp/sst/test.txt\",\n",
    "    \"model\": {\n",
    "        \"type\": \"bcn\",\n",
    "        \"text_field_embedder\": {\n",
    "            \"token_embedders\": {\n",
    "                \"tokens\": {\n",
    "                    \"type\": \"embedding\",\n",
    "                    \"embedding_dim\": 50,\n",
    "                    \"pretrained_file\": \"/data/datasets/nlp/glove/glove.6B.50d.txt.gz\",\n",
    "                    \"trainable\": false\n",
    "                }\n",
    "            }\n",
    "        },\n",
    "        \"embedding_dropout\": 0.25,\n",
    "        \"pre_encode_feedforward\": {\n",
    "            \"input_dim\": 50,\n",
    "            \"num_layers\": 1,\n",
    "            \"hidden_dims\": [50],\n",
    "            \"activations\": [\"relu\"],\n",
    "            \"dropout\": [0.25]\n",
    "        },\n",
    "        \"encoder\": {\n",
    "            \"type\": \"lstm\",\n",
    "            \"input_size\": 50,\n",
    "            \"hidden_size\": 50,\n",
    "            \"num_layers\": 1,\n",
    "            \"bidirectional\": true\n",
    "        },\n",
    "        \"integrator\": {\n",
    "            \"type\": \"lstm\",\n",
    "            \"input_size\": 300,\n",
    "            \"hidden_size\": 50,\n",
    "            \"num_layers\": 1,\n",
    "            \"bidirectional\": true\n",
    "        },\n",
    "        \"integrator_dropout\": 0.1,\n",
    "        \"output_layer\": {\n",
    "            \"input_dim\": 400,\n",
    "            \"num_layers\": 3,\n",
    "            \"output_dims\": [200, 100, 5],\n",
    "            \"pool_sizes\": 4,\n",
    "            \"dropout\": [0.2, 0.3, 0.0]\n",
    "        }\n",
    "    },\n",
    "    \"iterator\": {\n",
    "        \"type\": \"bucket\",\n",
    "        \"sorting_keys\": [[\"tokens\", \"num_tokens\"]],\n",
    "        \"batch_size\" : 2\n",
    "    },\n",
    "    \"trainer\": {\n",
    "        \"num_epochs\": 10,\n",
    "        \"patience\": 2,\n",
    "        \"grad_norm\": 5.0,\n",
    "        \"validation_metric\": \"+accuracy\",\n",
    "        \"optimizer\": {\n",
    "            \"type\": \"adam\",\n",
    "            \"lr\": 0.001\n",
    "        },\n",
    "        \"cuda_device\": 0\n",
    "    }\n",
    "}'''\n",
    "# json.loads(config)"
   ]
  },
  {
   "cell_type": "markdown",
   "metadata": {},
   "source": [
    "#### C. 启动训练"
   ]
  },
  {
   "cell_type": "code",
   "execution_count": 8,
   "metadata": {},
   "outputs": [
    {
     "name": "stdout",
     "output_type": "stream",
     "text": [
      "{\n",
      "    \"code\": 100200,\n",
      "    \"descr\": \"task service success\",\n",
      "    \"message\": \"train.start task cache directory: /data/users/test/123456\"\n",
      "}\n"
     ]
    }
   ],
   "source": [
    "data = '''{\n",
    "    \"op\":\"train.start\",\n",
    "    \"user\": \"%s\",\n",
    "    \"service_name\": \"k12nlp\",\n",
    "    \"service_uuid\": \"%s\",\n",
    "    \"service_params\": %s\n",
    "}''' % (user, uuid, config)\n",
    "\n",
    "api = 'http://%s:%d/k12ai/framework/train' % (host, port)\n",
    "print_json(requests.post(url=api, json=json.loads(data)).text)"
   ]
  },
  {
   "cell_type": "markdown",
   "metadata": {},
   "source": [
    "[操作是异步的, 训练过程结果到Consul数据中心查看](http://gamma:8500/ui/gamma/kv/framework/test/123456/)\n",
    "\n",
    "输出实例:\n",
    "```json\n",
    "{\n",
    "    \"version\": \"0.1.0\",\n",
    "    \"type\": \"metrics\",   // 表示类型是metrics\n",
    "    \"tag\": \"framework\",\n",
    "    \"op\": \"train.start\",\n",
    "    \"user\": \"test\",\n",
    "    \"service_uuid\": \"123456\",\n",
    "    \"timestamp\": 1574428843011,\n",
    "    \"datetime\": \"2019-11-22 21:20:43\",\n",
    "    \"metrics\": {\n",
    "        \"accuracy\": 0.7070127118644067,\n",
    "        \"accuracy3\": 0.9471610169491526,\n",
    "        \"loss\": 0.8009904705303705\n",
    "    }\n",
    "}\n",
    "```"
   ]
  },
  {
   "cell_type": "code",
   "execution_count": 10,
   "metadata": {},
   "outputs": [
    {
     "name": "stdout",
     "output_type": "stream",
     "text": [
      "{\n",
      "    \"version\": \"0.1.0\",\n",
      "    \"type\": \"metrics\",\n",
      "    \"tag\": \"framework\",\n",
      "    \"op\": \"train.start\",\n",
      "    \"user\": \"test\",\n",
      "    \"service_uuid\": \"123456\",\n",
      "    \"timestamp\": 1574687795489,\n",
      "    \"datetime\": \"2019-11-25 21:16:35\",\n",
      "    \"metrics\": {\n",
      "        \"accuracy\": 0.69,\n",
      "        \"accuracy3\": 0.9336,\n",
      "        \"loss\": 0.8899753094911576\n",
      "    }\n",
      "}\n"
     ]
    }
   ],
   "source": [
    "print(query_async_data('framework/%s/%s/train.start/metrics'%(user, uuid)))"
   ]
  },
  {
   "cell_type": "markdown",
   "metadata": {},
   "source": [
    "#### D. 停止训练"
   ]
  },
  {
   "cell_type": "code",
   "execution_count": 11,
   "metadata": {},
   "outputs": [
    {
     "name": "stdout",
     "output_type": "stream",
     "text": [
      "{\n",
      "    \"code\": 100200,\n",
      "    \"descr\": \"task service success\"\n",
      "}\n"
     ]
    }
   ],
   "source": [
    "data = '''{\n",
    "    \"op\":\"train.stop\",\n",
    "    \"user\": \"%s\",\n",
    "    \"service_name\": \"k12nlp\",\n",
    "    \"service_uuid\": \"%s\",\n",
    "    \"service_params\": {}\n",
    "}''' % (user, uuid)\n",
    "\n",
    "api = 'http://%s:%d/k12ai/framework/train' % (host, port)\n",
    "print_json(requests.post(url=api, json=json.loads(data)).text)"
   ]
  },
  {
   "cell_type": "markdown",
   "metadata": {},
   "source": [
    "[操作是异步的, 真实启动的结果到Consul数据中心查看](http://gamma:8500/ui/gamma/kv/framework/test/123456/)"
   ]
  },
  {
   "cell_type": "code",
   "execution_count": 12,
   "metadata": {},
   "outputs": [
    {
     "name": "stdout",
     "output_type": "stream",
     "text": [
      "Query nothing, try again later!\n"
     ]
    }
   ],
   "source": [
    "print(query_async_data('framework/%s/%s/train.stop'%(user, uuid)))"
   ]
  },
  {
   "cell_type": "markdown",
   "metadata": {},
   "source": [
    "### 2. 评估`/k12ai/framework/evaluate`"
   ]
  },
  {
   "cell_type": "markdown",
   "metadata": {},
   "source": [
    "#### A. 数据结构\n",
    "\n",
    "1. 输入\n",
    "\n",
    "```json\n",
    "{\n",
    "    \"op\":\"\", // [M] api具有子集操作, 如: \"evaluate.start\", \"evaluate.stop\"\n",
    "    \"user\": \"\", // [M] 用户ID, api调用者, 如: 用户账号user_id(不含有特殊字符)\n",
    "    \"service_name\": \"\", // [M] 服务名, k12ai由多个子框架组成, 需要指定具体服务, 如: \"k12nlp\", \"k12cv\"\n",
    "    \"service_uuid\": \"\", // [M] 服务唯一标识码, 可以是用户项目的工程ID, project_id.\n",
    "    \"service_params\": { // [M] 服务参数\n",
    "        \"input_file\": \"\" // [M] 评估/测试数据集的路径\n",
    "        \"output_file\": \"\" // [O] 指定评估最终结果的metrics存储文件\n",
    "    }\n",
    "}\n",
    "```\n",
    "\n",
    "2. 输出\n",
    "\n",
    "```json\n",
    "{\n",
    "    \"code\": 100000, // [M] 操作结果码, (异步)TODO: 100000只能说明接口调用是通的, 不能说明训练是成功的.\n",
    "    \"content\": {  // [O] 操作结果详情\n",
    "        \"result\": {\n",
    "            \"op\": \"evaluate.stop\",\n",
    "            \"exec\": \"success\"\n",
    "        }\n",
    "    }\n",
    "}\n",
    "```"
   ]
  },
  {
   "cell_type": "markdown",
   "metadata": {},
   "source": [
    "#### B. 启动评估"
   ]
  },
  {
   "cell_type": "code",
   "execution_count": 13,
   "metadata": {},
   "outputs": [
    {
     "name": "stdout",
     "output_type": "stream",
     "text": [
      "{\n",
      "    \"code\": 100202,\n",
      "    \"descr\": \"task service start fails\",\n",
      "    \"message\": \"model.tar.gz is not found in /data/users/test/123456\"\n",
      "}\n"
     ]
    }
   ],
   "source": [
    "data = '''{\n",
    "    \"op\":\"evaluate.start\",\n",
    "    \"user\": \"%s\",\n",
    "    \"service_name\": \"k12nlp\",\n",
    "    \"service_uuid\": \"%s\",\n",
    "    \"service_params\": {\n",
    "        \"input_file\": \"/data/datasets/nlp/sst/test.txt\"\n",
    "    }\n",
    "}''' % (user, uuid)\n",
    "\n",
    "api = 'http://%s:%d/k12ai/framework/evaluate' % (host, port)\n",
    "print_json(requests.post(url=api, json=json.loads(data)).text)"
   ]
  },
  {
   "cell_type": "markdown",
   "metadata": {},
   "source": [
    "[操作是异步的, 真实启动的结果到Consul数据中心查看](http://gamma:8500/ui/gamma/kv/framework/test/123456/)\n",
    "\n",
    "评估过程中消息如下:\n",
    "\n",
    "```json\n",
    "{\n",
    "    \"version\": \"0.1.0\", // 消息体的版本号, 为了兼容设定\n",
    "    \"op\": \"evaluate.start\", // 操作\n",
    "    \"user\": \"test\", // 用户ID\n",
    "    \"service_uuid\": \"123456\", // 工程ID\n",
    "    \"timestamp\": 1574224024170, // 时间戳\n",
    "    \"datetime\": \"2019-11-20 12:27:04\", // 日期\n",
    "    \"message\": { // 具体消息, 阶段不同, 消息结构和内容都有可能发生变化\n",
    "        \"accuracy\": 0.4027777777777778,\n",
    "        \"accuracy3\": 0.8255555555555556,\n",
    "        \"loss\": 1.3810093342098926\n",
    "    }\n",
    "}\n",
    "```"
   ]
  },
  {
   "cell_type": "code",
   "execution_count": 10,
   "metadata": {},
   "outputs": [
    {
     "name": "stdout",
     "output_type": "stream",
     "text": [
      "Query nothing, try again later!\n"
     ]
    }
   ],
   "source": [
    "print(query_async_data('framework/%s/%s/evaluate.start'%(user, uuid)))"
   ]
  },
  {
   "cell_type": "markdown",
   "metadata": {},
   "source": [
    "#### C. 停止评估"
   ]
  },
  {
   "cell_type": "code",
   "execution_count": 11,
   "metadata": {},
   "outputs": [
    {
     "name": "stdout",
     "output_type": "stream",
     "text": [
      "{\n",
      "    \"code\": 100200,\n",
      "    \"descr\": \"task service success\"\n",
      "}\n"
     ]
    }
   ],
   "source": [
    "data = '''{\n",
    "    \"op\":\"evaluate.stop\",\n",
    "    \"user\": \"%s\",\n",
    "    \"service_name\": \"k12nlp\",\n",
    "    \"service_uuid\": \"%s\"\n",
    "}''' % (user, uuid)\n",
    "\n",
    "api = 'http://%s:%d/k12ai/framework/evaluate' % (host, port)\n",
    "print_json(requests.post(url=api, json=json.loads(data)).text)"
   ]
  },
  {
   "cell_type": "markdown",
   "metadata": {},
   "source": [
    "[操作是异步的, 真实启动的结果到Consul数据中心查看](http://gamma:8500/ui/gamma/kv/framework/test/123456/)\n",
    "\n",
    "停止评估任务, 如果该任务已经结束, 返回结果如下:\n",
    "\n",
    "```json\n",
    "{\n",
    "    \"version\": \"0.1.0\",\n",
    "    \"op\": \"evaluate.stop\",\n",
    "    \"user\": \"test\",\n",
    "    \"service_uuid\": \"123456\",\n",
    "    \"timestamp\": 1574224373067,\n",
    "    \"datetime\": \"2019-11-20 12:32:53\"\n",
    "        \"result\": {\n",
    "            \"code\": -1,\n",
    "            \"err\": \"404 Client Error: Not Found (\\\"No such container: evaluate-test-123456\\\")\"\n",
    "        }\n",
    "    }\n",
    "}\n",
    "```"
   ]
  },
  {
   "cell_type": "code",
   "execution_count": 12,
   "metadata": {},
   "outputs": [
    {
     "name": "stdout",
     "output_type": "stream",
     "text": [
      "Query nothing, try again later!\n"
     ]
    }
   ],
   "source": [
    "print(query_async_data('framework/%s/%s/evaluate.stop'%(user, uuid)))"
   ]
  },
  {
   "cell_type": "markdown",
   "metadata": {},
   "source": [
    "### 3. 预测`/k12ai/framework/predict`"
   ]
  },
  {
   "cell_type": "markdown",
   "metadata": {},
   "source": [
    "#### A. 数据结构"
   ]
  },
  {
   "cell_type": "markdown",
   "metadata": {},
   "source": [
    "1. 输入\n",
    "\n",
    "```json\n",
    "{\n",
    "    \"op\":\"\", // [M] api具有子集操作, 如: \"predict.start\", \"predict.stop\"\n",
    "    \"user\": \"\", // [M] 用户ID, api调用者, 如: 用户账号user_id(不含有特殊字符)\n",
    "    \"service_name\": \"\", // [M] 服务名, k12ai由多个子框架组成, 需要指定具体服务, 如: \"k12nlp\", \"k12cv\"\n",
    "    \"service_uuid\": \"\", // [M] 服务唯一标识码, 可以是用户项目的工程ID, project_id.\n",
    "    \"service_params\": { // [M] 服务参数\n",
    "        \"input_type\": \"\", // [M] 指定预测文本的类型, 1. \"text\": 文本串; 2. \"file\": 文件\n",
    "        \"input_file\": \"\", // [C] 当input_type=file; 指定预测文本路径\n",
    "        \"input_text\": \"\", // [C] 当input_type=text; 指定预测文本内容\n",
    "        \"output_file\": \"\", // [O] 指定最终结果输出的存储文件\n",
    "        \"batch_size\": 32, // [0] 指定预测时使用的batch大小\n",
    "        \"predictor\": \"\", // [O] 指定预测方法类型, 如果不指定则从训练配置config.json中读取\n",
    "    }\n",
    "}\n",
    "```"
   ]
  },
  {
   "cell_type": "markdown",
   "metadata": {},
   "source": [
    "#### B. 启动预测"
   ]
  },
  {
   "cell_type": "code",
   "execution_count": 13,
   "metadata": {},
   "outputs": [
    {
     "name": "stdout",
     "output_type": "stream",
     "text": [
      "{\n",
      "    \"code\": 100202,\n",
      "    \"descr\": \"task service start fails\",\n",
      "    \"message\": \"model.tar.gz is not found in /data/users/test/123456\"\n",
      "}\n"
     ]
    }
   ],
   "source": [
    "text = '{\"sentence\": \"a very well-made, funny and entertaining picture.\"}'\n",
    "data = '''{\n",
    "    \"op\":\"predict.start\",\n",
    "    \"user\": \"%s\",\n",
    "    \"service_name\": \"k12nlp\",\n",
    "    \"service_uuid\": \"%s\",\n",
    "    \"service_params\": {\n",
    "        \"input_type\": \"text\",\n",
    "        \"input_text\": %s,\n",
    "        \"predictor\": \"text_classifier\"\n",
    "    }\n",
    "}''' % (user, uuid, json.dumps(text))\n",
    "\n",
    "api = 'http://%s:%d/k12ai/framework/predict' % (host, port)\n",
    "print_json(requests.post(url=api, json=json.loads(data)).text)"
   ]
  },
  {
   "cell_type": "markdown",
   "metadata": {},
   "source": [
    "[操作是异步的, 真实启动的结果到Consul数据中心查看](http://gamma:8500/ui/gamma/kv/framework/test/123456/)\n",
    "\n",
    "输出样例:\n",
    "\n",
    "```json\n",
    "{\n",
    "    \"version\": \"0.1.0\",\n",
    "    \"type\": \"predict\",\n",
    "    \"op\": \"predict.start\",\n",
    "    \"user\": \"test\",\n",
    "    \"service_uuid\": \"123456\",\n",
    "    \"timestamp\": 1574240762485,\n",
    "    \"datetime\": \"2019-11-20 17:06:02\",\n",
    "    \"predict\": {\n",
    "        \"index\": 0,  // 表示本次预测是第几个实例\n",
    "        \"prediction\": \"{\\\"logits\\\": [-1.4716334342956543, 1.646652340888977, -2.384199857711792, 2.6578245162963867, -4.671465873718262], \\\"class_probabilities\\\": [0.011601723730564117, 0.26228705048561096, 0.004658004269003868, 0.7209802269935608, 0.00047299108700826764], \\\"label\\\": \\\"4\\\"}\\n\"\n",
    "    }\n",
    "}\n",
    "```"
   ]
  },
  {
   "cell_type": "code",
   "execution_count": 14,
   "metadata": {},
   "outputs": [
    {
     "name": "stdout",
     "output_type": "stream",
     "text": [
      "Query nothing, try again later!\n"
     ]
    }
   ],
   "source": [
    "print(query_async_data('framework/%s/%s/predict.start'%(user, uuid)))"
   ]
  },
  {
   "cell_type": "markdown",
   "metadata": {},
   "source": [
    "#### C. 停止预测"
   ]
  },
  {
   "cell_type": "code",
   "execution_count": 15,
   "metadata": {},
   "outputs": [
    {
     "name": "stdout",
     "output_type": "stream",
     "text": [
      "{\n",
      "    \"code\": 100200,\n",
      "    \"descr\": \"task service success\"\n",
      "}\n"
     ]
    }
   ],
   "source": [
    "data = '''{\n",
    "    \"op\":\"predict.stop\",\n",
    "    \"user\": \"%s\",\n",
    "    \"service_name\": \"k12nlp\",\n",
    "    \"service_uuid\": \"%s\"\n",
    "}''' % (user, uuid)\n",
    "\n",
    "api = 'http://%s:%d/k12ai/framework/predict' % (host, port)\n",
    "print_json(requests.post(url=api, json=json.loads(data)).text)"
   ]
  },
  {
   "cell_type": "markdown",
   "metadata": {},
   "source": [
    "[操作是异步的, 真实启动的结果到Consul数据中心查看](http://gamma:8500/ui/gamma/kv/framework/test/123456/)\n",
    "\n",
    "输出样例:\n",
    "\n",
    "```json\n",
    "{\n",
    "    \"version\": \"0.1.0\",\n",
    "    \"type\": \"error\",\n",
    "    \"tag\": \"framework\",\n",
    "    \"op\": \"predict.stop\",\n",
    "    \"user\": \"test\",\n",
    "    \"service_uuid\": \"123456\",\n",
    "    \"timestamp\": 1574241361253,\n",
    "    \"datetime\": \"2019-11-20 17:16:01\",\n",
    "    \"error\": {\n",
    "        \"code\": 100400,\n",
    "        \"descr\": \"867680f57c\" // Container ID\n",
    "    }\n",
    "}\n",
    "```"
   ]
  },
  {
   "cell_type": "code",
   "execution_count": 16,
   "metadata": {},
   "outputs": [
    {
     "name": "stdout",
     "output_type": "stream",
     "text": [
      "Query nothing, try again later!\n"
     ]
    }
   ],
   "source": [
    "print(query_async_data('framework/%s/%s/predict.stop/'%(user, uuid)))"
   ]
  },
  {
   "cell_type": "markdown",
   "metadata": {},
   "source": [
    "## 二. 平台资源管理"
   ]
  },
  {
   "cell_type": "markdown",
   "metadata": {},
   "source": [
    "### 1. 平台状态`/k12ai/platform/stats`"
   ]
  },
  {
   "cell_type": "markdown",
   "metadata": {
    "variables": {
     "op": "<p><strong>NameError</strong>: name &#39;op&#39; is not defined</p>\n",
     "tag": "<p><strong>NameError</strong>: name &#39;tag&#39; is not defined</p>\n"
    }
   },
   "source": [
    "A. 输入\n",
    "\n",
    "```json\n",
    "{\n",
    "    \"username\": \"test\",  // [M] 登陆平台用户名 (未使用)\n",
    "    \"password\": \"test\",  // [M] 登陆平台用户密码 (未使用)\n",
    "    \"async\": true,  // [O] 默认同步, 即值为false, api调用过程方式\n",
    "    \"query\": {  //  [O] 默认query所有项\n",
    "        \"cpus\": true, // [O] k12ai主机cpu信息 \n",
    "        \"gpus\": true, // [O] k12ai主机gpu信息\n",
    "        \"disks\": false, // [O] k12ai主机磁盘信息\n",
    "        \"containers\": true // [O] k12ai主机上正在运行的label为\"k12ai.service.name\"的container信息\n",
    "    }\n",
    "}\n",
    "```\n",
    "\n",
    "B. 输出\n",
    "\n",
    "```json\n",
    "{\n",
    "    \"version\": \"0.1.0\", // [M] 返回json格式的版本号, 兼容版本时使用\n",
    "    \"type: \"info\",\n",
    "    \"tag\": \"platform\", // [M] 标识输出结果的服务TAG, 可以用来后续消息过滤 \n",
    "    \"op\": \"stats\", // [M] 标识输出结果由哪个功能产出, 一般统一为\"/k12ai/{{tag}}/{{op}}\"的形式\n",
    "    \"timestamp\": , // [M]\n",
    "    \"datetime\": , // [M]\n",
    "    \"info\": { // [M] 输出结果的正文内容\n",
    "        \"cpu_percent\": 47.4,  // [C] k12ai主机cpu使用率, 不区分多cpu \n",
    "        \"cpu_percent_list\": [ // [C] k12ai主机cpu使用率, 每个cpu的使用率\n",
    "            63.6,\n",
    "            31.1\n",
    "        ],\n",
    "        \"cpu_memory_total\":, // [C] k12ai主机memory总大小(Byte)\n",
    "        \"cpu_memory_usage\":, // [C] k12ai主机memory已使用(Byte)\n",
    "        \"cpu_memory_percent\": , // [C] k12ai主机memory使用率\n",
    "        \"gpus\": [  // [C] k12ai主机gpu信息, 每个gpu信息列表\n",
    "            {\n",
    "                \"name\": \"\", // [C] gpu名字, 厂商\n",
    "                \"gpu_percent\": , // [C] gpu使用率\n",
    "                \"gpu_memory_total\": , // [C] gpu显存总大小(Byte)\n",
    "                \"gpu_memory_usage\": , // [C] gpu显存已使用(Byte)\n",
    "                \"gpu_memory_percent\": // [C] gpu显存使用率\n",
    "            }\n",
    "        ],\n",
    "        \"containers\": [ // k12ai主机正在运行的关于训练相关的container信息\n",
    "            {\n",
    "                \"id\": \"\", // container的ID\n",
    "                \"cpu_percent\": , // container的cpu使用率\n",
    "                \"cpu_memory_total\":,  // container的memory总大小\n",
    "                \"cpu_memory_usage\":,  // container的memory已使用\n",
    "                \"cpu_memory_percent\":, // container的memory利用率\n",
    "                \"op\": \"\",  // container正在执行的操作,如:\"train.start\", \"predict.start\"等\n",
    "                \"user\": \"\", // container用户ID\n",
    "                \"service_uuid\": \"\" // container执行的任务/服务ID.\n",
    "            }\n",
    "        ]\n",
    "    }\n",
    "}\n",
    "```"
   ]
  },
  {
   "cell_type": "code",
   "execution_count": 17,
   "metadata": {},
   "outputs": [
    {
     "name": "stdout",
     "output_type": "stream",
     "text": [
      "{\n",
      "    \"code\": 100200,\n",
      "    \"descr\": \"task service success\",\n",
      "    \"message\": {\n",
      "        \"cpu_percent\": 0.8,\n",
      "        \"cpu_percent_list\": [\n",
      "            0.5,\n",
      "            0.6,\n",
      "            0.9,\n",
      "            1.0,\n",
      "            1.0,\n",
      "            0.5,\n",
      "            1.0,\n",
      "            1.0\n",
      "        ],\n",
      "        \"cpu_memory_total\": 50648887296,\n",
      "        \"cpu_memory_usage\": 1184727040,\n",
      "        \"cpu_memory_percent\": 3.5,\n",
      "        \"gpus\": [\n",
      "            {\n",
      "                \"name\": \"Tesla P40\",\n",
      "                \"gpu_percent\": 0.0,\n",
      "                \"gpu_memory_total\": 22919.0,\n",
      "                \"gpu_memory_usage\": 0.0,\n",
      "                \"gpu_memory_percent\": 0.0\n",
      "            }\n",
      "        ],\n",
      "        \"containers\": []\n",
      "    }\n",
      "}\n"
     ]
    }
   ],
   "source": [
    "data = '''{\n",
    "    \"username\": \"test\",\n",
    "    \"password\": \"test\",\n",
    "    \"async\": false,\n",
    "    \"query\": {\n",
    "        \"cpus\": true,\n",
    "        \"gpus\": true,\n",
    "        \"disks\": false,\n",
    "        \"containers\": true\n",
    "    }\n",
    "}'''\n",
    "\n",
    "api = 'http://%s:%d/k12ai/platform/stats' % (host, port)\n",
    "print_json(requests.post(url=api, json=json.loads(data)).text)"
   ]
  },
  {
   "cell_type": "markdown",
   "metadata": {},
   "source": [
    "[操作是异步的, 真实启动的结果到Consul数据中心查看](http://gamma:8500/ui/gamma/kv/platform/admin)\n",
    "\n",
    "```json\n",
    "{\n",
    "    \"version\": \"0.1.0\",\n",
    "    \"type\": \"info\",\n",
    "    \"tag\": \"platform\",\n",
    "    \"op\": \"stats\",\n",
    "    \"timestamp\": 1574420133259,\n",
    "    \"datetime\": \"2019-11-22 18:55:33\",\n",
    "    \"info\": {\n",
    "        \"cpu_percent\": 6.3,\n",
    "        \"cpu_percent_list\": [\n",
    "            5.5,\n",
    "            7.0\n",
    "        ],\n",
    "        \"cpu_memory_total\": 4143292416,\n",
    "        \"cpu_memory_usage\": 1265950720,\n",
    "        \"cpu_memory_percent\": 36.7,\n",
    "        \"gpus\": [\n",
    "            {\n",
    "                \"name\": \"Tesla P4\",\n",
    "                \"gpu_percent\": 0.0,\n",
    "                \"gpu_memory_total\": 7611.0,\n",
    "                \"gpu_memory_usage\": 10.0,\n",
    "                \"gpu_memory_percent\": 0.13\n",
    "            }\n",
    "        ],\n",
    "        \"containers\": [\n",
    "            {\n",
    "                \"id\": \"30a879f11ec4\",\n",
    "                \"cpu_percent\": 105.44,\n",
    "                \"cpu_memory_total\": 4143292416,\n",
    "                \"cpu_memory_usage\": 355155968,\n",
    "                \"cpu_memory_percent\": 8.57,\n",
    "                \"op\": \"train\",\n",
    "                \"user\": \"test\",\n",
    "                \"service_uuid\": \"123456\"\n",
    "            }\n",
    "        ]\n",
    "    }\n",
    "}\n",
    "```"
   ]
  },
  {
   "cell_type": "code",
   "execution_count": 15,
   "metadata": {
    "scrolled": false
   },
   "outputs": [
    {
     "name": "stdout",
     "output_type": "stream",
     "text": [
      "{\n",
      "    \"version\": \"0.1.0\",\n",
      "    \"type\": \"info\",\n",
      "    \"tag\": \"platform\",\n",
      "    \"op\": \"stats\",\n",
      "    \"timestamp\": 1574428984980,\n",
      "    \"datetime\": \"2019-11-22 21:23:04\",\n",
      "    \"info\": {\n",
      "        \"cpu_percent\": 8.5,\n",
      "        \"cpu_percent_list\": [\n",
      "            8.4,\n",
      "            8.6\n",
      "        ],\n",
      "        \"cpu_memory_total\": 4143292416,\n",
      "        \"cpu_memory_usage\": 3695001600,\n",
      "        \"cpu_memory_percent\": 95.1,\n",
      "        \"gpus\": [\n",
      "            {\n",
      "                \"name\": \"Tesla P4\",\n",
      "                \"gpu_percent\": 22.0,\n",
      "                \"gpu_memory_total\": 7611.0,\n",
      "                \"gpu_memory_usage\": 617.0,\n",
      "                \"gpu_memory_percent\": 8.11\n",
      "            }\n",
      "        ],\n",
      "        \"containers\": [\n",
      "            {\n",
      "                \"id\": \"f3726eae19d6\",\n",
      "                \"cpu_percent\": 116.66,\n",
      "                \"cpu_memory_total\": 4143292416,\n",
      "                \"cpu_memory_usage\": 3002134528,\n",
      "                \"cpu_memory_percent\": 72.46,\n",
      "                \"op\": \"train\",\n",
      "                \"user\": \"test\",\n",
      "                \"service_uuid\": \"123456\"\n",
      "            }\n",
      "        ]\n",
      "    }\n",
      "}\n"
     ]
    }
   ],
   "source": [
    "print(query_async_data('platform/admin/stats/info'))"
   ]
  },
  {
   "cell_type": "markdown",
   "metadata": {},
   "source": [
    "### 2. 平台控制/k12ai/platform/control"
   ]
  },
  {
   "cell_type": "markdown",
   "metadata": {},
   "source": [
    "A. 输入\n",
    "\n",
    "```json\n",
    "{\n",
    "    \"username\": \"\", // [M] 登陆k12ai service的User\n",
    "    \"password\": \"\", // [M] 登陆k12ai service的Code\n",
    "    \"op\": \"\",  // [M] 控制命令, 如, 停止某个container任务\"container.stop\"\n",
    "    \"async\": true, // [M] 控制命令的是否异步操作, 提醒: 有些命令操作是耗时的, 需要采用异步方式\n",
    "    \"params\": { // [C] 命令的参数, 根据命令不同, 内部结构也会不同\n",
    "    }\n",
    "}\n",
    "```\n",
    "\n",
    "B. 输出\n",
    "\n",
    "```json\n",
    "{\n",
    "    \"code\": 100200,\n",
    "    \"descr\": \"task service success\",\n",
    "    \"message\": \"container id f3726eae19d6 stop success\"\n",
    "}\n",
    "```"
   ]
  },
  {
   "cell_type": "markdown",
   "metadata": {},
   "source": [
    "#### 2.1 停止某个任务"
   ]
  },
  {
   "cell_type": "code",
   "execution_count": 19,
   "metadata": {},
   "outputs": [
    {
     "name": "stdout",
     "output_type": "stream",
     "text": [
      "{\n",
      "    \"code\": 100200,\n",
      "    \"descr\": \"task service success\",\n",
      "    \"message\": \"container id f3726eae19d6 stop success\"\n",
      "}\n"
     ]
    }
   ],
   "source": [
    "try:\n",
    "    result = json.loads(query_async_data('platform/admin/stats/info'))\n",
    "    cid = result['info']['containers'][0]['id']\n",
    "except:\n",
    "    cid = 'testid'\n",
    "    \n",
    "cmd = 'container.stop'\n",
    "\n",
    "data = '''{\n",
    "    \"username\": \"test\",\n",
    "    \"password\": \"test\",\n",
    "    \"op\": \"%s\",\n",
    "    \"async\": false,\n",
    "    \"params\": {\n",
    "        \"id\": \"%s\"\n",
    "    }\n",
    "}''' % (cmd, cid)\n",
    "\n",
    "api = 'http://%s:%d/k12ai/platform/control' % (host, port)\n",
    "print_json(requests.post(url=api, json=json.loads(data)).text)"
   ]
  },
  {
   "cell_type": "code",
   "execution_count": 20,
   "metadata": {},
   "outputs": [
    {
     "name": "stdout",
     "output_type": "stream",
     "text": [
      "{\n",
      "    \"version\": \"0.1.0\",\n",
      "    \"type\": \"container.stop\",\n",
      "    \"tag\": \"platform\",\n",
      "    \"op\": \"control\",\n",
      "    \"timestamp\": 1574420342216,\n",
      "    \"datetime\": \"2019-11-22 18:59:02\",\n",
      "    \"container.stop\": \"container id testid is not found\"\n",
      "}\n"
     ]
    }
   ],
   "source": [
    "print(query_async_data('platform/admin/control/container.stop'))"
   ]
  }
 ],
 "metadata": {
  "kernelspec": {
   "display_name": "Python 3",
   "language": "python",
   "name": "python3"
  },
  "language_info": {
   "codemirror_mode": {
    "name": "ipython",
    "version": 3
   },
   "file_extension": ".py",
   "mimetype": "text/x-python",
   "name": "python",
   "nbconvert_exporter": "python",
   "pygments_lexer": "ipython3",
   "version": "3.6.8"
  }
 },
 "nbformat": 4,
 "nbformat_minor": 2
}
