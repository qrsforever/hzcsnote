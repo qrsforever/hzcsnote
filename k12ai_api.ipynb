{
 "cells": [
  {
   "cell_type": "markdown",
   "metadata": {},
   "source": [
    "# <div align='center'> 测试新架构API </div>"
   ]
  },
  {
   "cell_type": "code",
   "execution_count": 1,
   "metadata": {},
   "outputs": [],
   "source": [
    "import requests\n",
    "import json"
   ]
  },
  {
   "cell_type": "code",
   "execution_count": 55,
   "metadata": {},
   "outputs": [],
   "source": [
    "hostname = 'gamma'\n",
    "host = '10.255.20.227'\n",
    "port = 8129\n",
    "\n",
    "user = 'test'\n",
    "uuid = '123456'"
   ]
  },
  {
   "cell_type": "markdown",
   "metadata": {},
   "source": [
    "## 机器学习框架"
   ]
  },
  {
   "cell_type": "markdown",
   "metadata": {},
   "source": [
    "### 1. 训练`/k12ai/framework/train`"
   ]
  },
  {
   "cell_type": "code",
   "execution_count": 57,
   "metadata": {},
   "outputs": [],
   "source": [
    "config = '''{\n",
    "    \"dataset_reader\":{\n",
    "        \"type\": \"sst_tokens\",\n",
    "        \"use_subtrees\": true,\n",
    "        \"granularity\": \"5-class\"\n",
    "    },\n",
    "    \"validation_dataset_reader\":{\n",
    "        \"type\": \"sst_tokens\",\n",
    "        \"use_subtrees\": false,\n",
    "        \"granularity\": \"5-class\"\n",
    "    },\n",
    "    \"train_data_path\": \"/data/datasets/nlp/sst/train.txt\",\n",
    "    \"validation_data_path\": \"/data/datasets/nlp/sst/dev.txt\",\n",
    "    \"test_data_path\": \"/data/datasets/nlp/sst/test.txt\",\n",
    "    \"model\": {\n",
    "        \"type\": \"bcn\",\n",
    "        \"text_field_embedder\": {\n",
    "            \"token_embedders\": {\n",
    "                \"tokens\": {\n",
    "                    \"type\": \"embedding\",\n",
    "                    \"embedding_dim\": 50,\n",
    "                    \"pretrained_file\": \"/data/datasets/nlp/glove/glove.6B.50d.txt.gz\",\n",
    "                    \"trainable\": false\n",
    "                }\n",
    "            }\n",
    "        },\n",
    "        \"embedding_dropout\": 0.25,\n",
    "        \"pre_encode_feedforward\": {\n",
    "            \"input_dim\": 50,\n",
    "            \"num_layers\": 1,\n",
    "            \"hidden_dims\": [50],\n",
    "            \"activations\": [\"relu\"],\n",
    "            \"dropout\": [0.25]\n",
    "        },\n",
    "        \"encoder\": {\n",
    "            \"type\": \"lstm\",\n",
    "            \"input_size\": 50,\n",
    "            \"hidden_size\": 50,\n",
    "            \"num_layers\": 1,\n",
    "            \"bidirectional\": true\n",
    "        },\n",
    "        \"integrator\": {\n",
    "            \"type\": \"lstm\",\n",
    "            \"input_size\": 300,\n",
    "            \"hidden_size\": 50,\n",
    "            \"num_layers\": 1,\n",
    "            \"bidirectional\": true\n",
    "        },\n",
    "        \"integrator_dropout\": 0.1,\n",
    "        \"output_layer\": {\n",
    "            \"input_dim\": 400,\n",
    "            \"num_layers\": 3,\n",
    "            \"output_dims\": [200, 100, 5],\n",
    "            \"pool_sizes\": 4,\n",
    "            \"dropout\": [0.2, 0.3, 0.0]\n",
    "        }\n",
    "    },\n",
    "    \"iterator\": {\n",
    "        \"type\": \"bucket\",\n",
    "        \"sorting_keys\": [[\"tokens\", \"num_tokens\"]],\n",
    "        \"batch_size\" : 4\n",
    "    },\n",
    "    \"trainer\": {\n",
    "        \"type\": \"callback\",\n",
    "        \"num_epochs\": 2,\n",
    "        \"optimizer\": {\n",
    "            \"type\": \"adam\",\n",
    "            \"lr\": 0.001\n",
    "        },\n",
    "        \"callbacks\": [\n",
    "            {\"type\": \"track_metrics\", \"patience\": 5},\n",
    "            \"validate\"\n",
    "        ],\n",
    "        \"cuda_device\": 0\n",
    "    }\n",
    "}'''\n",
    "# json.loads(config)"
   ]
  },
  {
   "cell_type": "code",
   "execution_count": 75,
   "metadata": {},
   "outputs": [
    {
     "data": {
      "text/plain": [
       "'{\"content\": {\"result\": 0}, \"code\": 100000}'"
      ]
     },
     "execution_count": 75,
     "metadata": {},
     "output_type": "execute_result"
    }
   ],
   "source": [
    "data = '''{\n",
    "    \"op\":\"train.start\",\n",
    "    \"user\": \"%s\",\n",
    "    \"service_name\": \"k12nlp\",\n",
    "    \"service_uuid\": \"%s\",\n",
    "    \"service_params\": %s\n",
    "}''' % (user, uuid, config)\n",
    "\n",
    "api = 'http://%s:%d/k12ai/framework/train' % (host, port)\n",
    "start_res = requests.post(url=api, json=json.loads(data))\n",
    "start_res.text"
   ]
  },
  {
   "cell_type": "markdown",
   "metadata": {},
   "source": [
    "[操作是异步的, 真实启动的结果到Consul数据中心查看](http://gamma:8500/ui/gamma/kv/test/123456/task/edit)"
   ]
  },
  {
   "cell_type": "code",
   "execution_count": 74,
   "metadata": {},
   "outputs": [
    {
     "data": {
      "text/plain": [
       "'{\"content\": {\"result\": 0}, \"code\": 100000}'"
      ]
     },
     "execution_count": 74,
     "metadata": {},
     "output_type": "execute_result"
    }
   ],
   "source": [
    "data = '''{\n",
    "    \"op\":\"train.stop\",\n",
    "    \"user\": \"%s\",\n",
    "    \"service_name\": \"k12nlp\",\n",
    "    \"service_uuid\": \"%s\",\n",
    "    \"service_params\": {}\n",
    "}''' % (user, uuid)\n",
    "\n",
    "api = 'http://%s:%d/k12ai/framework/train' % (host, port)\n",
    "stop_res = requests.post(url=api, json=json.loads(data))\n",
    "stop_res.text"
   ]
  },
  {
   "cell_type": "markdown",
   "metadata": {},
   "source": [
    "[操作是异步的, 真实启动的结果到Consul数据中心查看](http://gamma:8500/ui/gamma/kv/test/123456/task/edit)"
   ]
  },
  {
   "cell_type": "markdown",
   "metadata": {},
   "source": [
    "### 2. 评估`/k12ai/framework/evaluate`"
   ]
  },
  {
   "cell_type": "code",
   "execution_count": null,
   "metadata": {},
   "outputs": [],
   "source": [
    "data = '''{\n",
    "    \"op\":\"evaluate.start\",\n",
    "    \"user\": \"%s\",\n",
    "    \"service_name\": \"k12nlp\",\n",
    "    \"service_uuid\": \"%s\",\n",
    "    \"service_params\": %s\n",
    "}''' % (user, uuid, config)\n",
    "\n",
    "api = 'http://%s:%d/k12ai/framework/evaluate' % (host, port)\n",
    "data = {'type': 'k12nlp'}\n",
    "res = requests.post(url=api, json=data)\n",
    "res"
   ]
  },
  {
   "cell_type": "markdown",
   "metadata": {},
   "source": [
    "### 3. 预测`/k12ai/framework/predict`"
   ]
  },
  {
   "cell_type": "code",
   "execution_count": null,
   "metadata": {},
   "outputs": [],
   "source": [
    "api = 'http://%s:%d/k12ai/framework/predict' % (host, port)\n",
    "data = {'type': 'k12nlp'}\n",
    "res = requests.post(url=api, json=data)\n",
    "res"
   ]
  },
  {
   "cell_type": "markdown",
   "metadata": {},
   "source": [
    "## 平台资源管理"
   ]
  }
 ],
 "metadata": {
  "kernelspec": {
   "display_name": "Python 3",
   "language": "python",
   "name": "python3"
  },
  "language_info": {
   "codemirror_mode": {
    "name": "ipython",
    "version": 3
   },
   "file_extension": ".py",
   "mimetype": "text/x-python",
   "name": "python",
   "nbconvert_exporter": "python",
   "pygments_lexer": "ipython3",
   "version": "3.6.8"
  }
 },
 "nbformat": 4,
 "nbformat_minor": 2
}
