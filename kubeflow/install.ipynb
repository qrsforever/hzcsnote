{
 "cells": [
  {
   "cell_type": "code",
   "execution_count": 2,
   "id": "agreed-witch",
   "metadata": {
    "ExecuteTime": {
     "end_time": "2021-08-24T07:38:54.765547Z",
     "start_time": "2021-08-24T07:38:54.389529Z"
    }
   },
   "outputs": [
    {
     "name": "stdout",
     "output_type": "stream",
     "text": [
      "CPython 3.6.9\n",
      "IPython 7.16.1\n",
      "\n",
      "numpy 1.19.4\n",
      "sklearn 0.24.0\n",
      "pandas 1.1.5\n",
      "CPython 3.6.9\n",
      "IPython 7.16.1\n",
      "\n",
      "cv2 4.5.1\n",
      "PIL 6.2.2\n",
      "matplotlib 3.3.3\n",
      "CPython 3.6.9\n",
      "IPython 7.16.1\n",
      "\n",
      "torch 1.8.0.dev20210103+cu101\n",
      "torchvision 0.9.0.dev20210103+cu101\n",
      "torchaudio not installed\n"
     ]
    },
    {
     "data": {
      "text/html": [
       "<style>.container { width:80% !important; }</style>"
      ],
      "text/plain": [
       "<IPython.core.display.HTML object>"
      ]
     },
     "metadata": {},
     "output_type": "display_data"
    }
   ],
   "source": [
    "%reload_ext watermark\n",
    "%reload_ext autoreload\n",
    "%autoreload 2\n",
    "%watermark -v -p numpy,sklearn,pandas\n",
    "%watermark -v -p cv2,PIL,matplotlib\n",
    "%watermark -v -p torch,torchvision,torchaudio\n",
    "%matplotlib inline\n",
    "%config InlineBackend.figure_format='retina'\n",
    "%config IPCompleter.use_jedi = False\n",
    "\n",
    "from IPython.display import display, Markdown, HTML, Javascript\n",
    "display(HTML('<style>.container { width:%d%% !important; }</style>' % 80))\n",
    "\n",
    "import sys, os, io, time, random, math\n",
    "import json, base64, requests\n",
    "import os.path as osp\n",
    "\n",
    "def _IMPORT_(x):\n",
    "    try:\n",
    "        segs = x.split(' ')\n",
    "        g = globals()\n",
    "        if 'github.com' in segs[1]:\n",
    "            uri = segs[1].replace('github.com', 'raw.githubusercontent.com')\n",
    "            mod = uri.split('/')\n",
    "            for s in ['main', 'master']:\n",
    "                uri = 'https://' + '/'.join(mod[:-1]) + '/main/' + mod[-1] + '.py'\n",
    "                x = requests.get(uri).text\n",
    "                if x.status == 200:\n",
    "                    break\n",
    "        elif 'gitee.com' in segs[1]:\n",
    "            mod = segs[1].split('/')\n",
    "            for s in ['/raw/main/', '/raw/master/']:\n",
    "                uri = 'https://' + '/'.join(mod[:3]) + s + '/'.join(mod[3:]) + '.py'\n",
    "                x = requests.get(uri).text\n",
    "                if x.status == 200:\n",
    "                    break\n",
    "        elif segs[1][0] == '/':\n",
    "            with open(segs[1] + '.py') as fr:\n",
    "                x = fr.read()\n",
    "        exec(x, g)\n",
    "    except:\n",
    "        pass\n",
    "\n",
    "def print_progress_bar(x):\n",
    "    print('\\r', end='')\n",
    "    print('Progress: {}%:'.format(x), '%s%s' % ('▋'*(x//2), '.'*((100-x)//2)), end='')\n",
    "    sys.stdout.flush()\n"
   ]
  },
  {
   "cell_type": "markdown",
   "id": "compliant-boards",
   "metadata": {},
   "source": [
    "## Setup Kubernetes "
   ]
  },
  {
   "cell_type": "markdown",
   "id": "confused-cinema",
   "metadata": {},
   "source": [
    "### 关闭防火墙/Selinux/清空iptables规则/禁用Swap交换分区"
   ]
  },
  {
   "cell_type": "code",
   "execution_count": 4,
   "id": "complicated-flower",
   "metadata": {
    "ExecuteTime": {
     "end_time": "2021-08-24T07:38:54.880395Z",
     "start_time": "2021-08-24T07:38:54.825906Z"
    }
   },
   "outputs": [
    {
     "name": "stdout",
     "output_type": "stream",
     "text": [
      "Writing ./scripts/prepare_environment.sh\n"
     ]
    }
   ],
   "source": [
    "%%writefile ./scripts/prepare_environment.sh\n",
    "\n",
    "sudo ufw disable\n",
    "sudo ufw status\n",
    "sudo iptables -P FORWARD ACCEPT\n",
    "\n",
    "if [[ -f /etc/selinux/config ]]\n",
    "then\n",
    "    sudo setenforce 0\n",
    "    sudo sed -i 's/SELINUX=enforcing/SELINUX=disable' /etc/selinux/config\n",
    "fi\n",
    "\n",
    "sudo swapoff -a\n",
    "sudo sed -i 's/.*swap.*/#&/' /etc/fstab\n",
    "\n",
    "cat > /etc/sysctl.d/99-kubernetes-cri.conf <<EOF\n",
    "net.bridge.bridge-nf-call-iptables  = 1\n",
    "enet.ipv4.ip_forward                = 1\n",
    "net.bridge.bridge-nf-call-ip6tables = 1\n",
    "EOF\n",
    "\n",
    "sysctl --system\n",
    "\n",
    "modprobe br_netfilter\n",
    "lsmod | grep \"br_netfilter\""
   ]
  },
  {
   "cell_type": "markdown",
   "id": "wicked-jesus",
   "metadata": {},
   "source": [
    "### 安装Docker"
   ]
  },
  {
   "cell_type": "code",
   "execution_count": 5,
   "id": "several-modification",
   "metadata": {
    "ExecuteTime": {
     "end_time": "2021-08-24T07:38:54.938750Z",
     "start_time": "2021-08-24T07:38:54.883594Z"
    }
   },
   "outputs": [
    {
     "name": "stdout",
     "output_type": "stream",
     "text": [
      "Overwriting ./scripts/install_docker.sh\n"
     ]
    }
   ],
   "source": [
    "%%writefile ./scripts/install_docker.sh\n",
    "\n",
    "#!/bin/bash\n",
    "\n",
    "cmd_check=`which docker`\n",
    "if [[ x$cmd_check == x ]]\n",
    "then\n",
    "    sudo apt-get update\n",
    "    sudo apt-get install apt-transport-https ca-certificates curl software-properties-common -y\n",
    "\n",
    "    curl -fsSL https://download.docker.com/linux/ubuntu/gpg | sudo apt-key add -\n",
    "\n",
    "    sudo add-apt-repository \\\n",
    "        \"deb [arch=amd64] https://download.docker.com/linux/ubuntu \\\n",
    "        $(lsb_release -cs) \\\n",
    "        stable\"\n",
    "\n",
    "    sudo apt-get update\n",
    "    sudo apt-get install docker-ce -y\n",
    "\n",
    "    cat > /etc/docker/daemon.json << EOF\n",
    "    {\n",
    "        \"exec-opts\": [\"native.cgroupdriver=systemd\"],\n",
    "        \"log-driver\": \"json-file\",\n",
    "        \"log-opts\": {\n",
    "            \"max-size\": \"100m\"\n",
    "        },\n",
    "        \"storage-driver\": \"overlay2\",\n",
    "        \"runtimes\": {\n",
    "            \"nvidia\": {\n",
    "                \"path\": \"nvidia-container-runtime\",\n",
    "                \"runtimeArgs\": []\n",
    "            }\n",
    "        },\n",
    "        \"registry-mirrors\": [\"https://b9pmyelo.mirror.aliyuncs.com\"]\n",
    "        \"default-runtime\": \"nvidia\",\n",
    "        \"insecure-registries\": [\n",
    "            \"10.255.0.58:9500\"\n",
    "        ]\n",
    "    }\n",
    "    EOF\n",
    "\n",
    "    mkdir -p /etc/systemd/system/docker.service.d\n",
    "\n",
    "    systemctl daemon-reload\n",
    "    systemctl restart docker\n",
    "fi\n",
    "\n",
    "# sudo usermod -aG docker $USER\n",
    "# newgrp docker\n",
    "\n",
    "docker version"
   ]
  },
  {
   "cell_type": "markdown",
   "id": "coordinated-definition",
   "metadata": {},
   "source": [
    "### [安装kubeadm,kubelet,kubectl](https://www.downloadkubernetes.com/)"
   ]
  },
  {
   "cell_type": "markdown",
   "id": "patient-murray",
   "metadata": {},
   "source": [
    "国内下载: https://mirrors.ustc.edu.cn/kubernetes/apt/pool/"
   ]
  },
  {
   "cell_type": "markdown",
   "id": "chronic-columbus",
   "metadata": {},
   "source": [
    "方法一:"
   ]
  },
  {
   "cell_type": "code",
   "execution_count": 6,
   "id": "blond-munich",
   "metadata": {
    "ExecuteTime": {
     "end_time": "2021-08-24T07:38:54.993292Z",
     "start_time": "2021-08-24T07:38:54.941285Z"
    }
   },
   "outputs": [
    {
     "name": "stdout",
     "output_type": "stream",
     "text": [
      "Overwriting ./scripts/install_k8s.sh\n"
     ]
    }
   ],
   "source": [
    "%%writefile ./scripts/install_k8s.sh\n",
    "#!/bin/bash\n",
    "\n",
    "if [[ x$(which kubectl) == x || x$(which kubelet) == x ]]\n",
    "then\n",
    "    RELEASE=v1.22.0 # \"$(curl -sSL https://dl.k8s.io/release/stable.txt)\"\n",
    "    cd /usr/bin\n",
    "    sudo curl -L --remote-name-all https://dl.k8s.io/${RELEASE}/bin/linux/amd64/{kubeadm,kubelet,kubectl}\n",
    "    sudo chmod +x {kubeadm,kubelet,kubectl}\n",
    "    sudo apt install bash-completion\n",
    "    sudo kubectl completion bash > /etc/bash_completion.d/kubectl\n",
    "fi\n",
    "kubeadm version\n",
    "kubelet version\n",
    "kubectl version --client"
   ]
  },
  {
   "cell_type": "markdown",
   "id": "covered-decrease",
   "metadata": {},
   "source": [
    "方法二:"
   ]
  },
  {
   "cell_type": "code",
   "execution_count": 7,
   "id": "twelve-collect",
   "metadata": {
    "ExecuteTime": {
     "end_time": "2021-08-24T07:38:55.052759Z",
     "start_time": "2021-08-24T07:38:54.995439Z"
    }
   },
   "outputs": [
    {
     "name": "stdout",
     "output_type": "stream",
     "text": [
      "Overwriting ./scripts/install_k3s.sh\n"
     ]
    }
   ],
   "source": [
    "%%writefile ./scripts/install_k3s.sh\n",
    "#!/bin/bash\n",
    "SRC_GPG=https://gitee.com/qrsforever/blog_source_assets/raw/master/Tutorial/k8s/apt-key.gpg\n",
    "DST_GPG=/usr/share/keyrings/kubernetes-archive-keyring.gpg\n",
    "sudo curl -XGET -L $SRC_GPG -o $DST_GPG\n",
    "echo \"deb [signed-by=$DST_GPG] http://mirrors.ustc.edu.cn/kubernetes/apt kubernetes-xenial main\" | sudo tee /etc/apt/sources.list.d/kubernetes.list\n",
    "sudo apt update\n",
    "sudo apt install -y kubeadm kubelet kubectl kubernetes-cni \n",
    "kubeadm version && kubelet --version && kubectl version"
   ]
  },
  {
   "cell_type": "markdown",
   "id": "agreed-practitioner",
   "metadata": {
    "ExecuteTime": {
     "end_time": "2021-08-24T06:30:07.579211Z",
     "start_time": "2021-08-24T06:30:07.344131Z"
    }
   },
   "source": [
    "Resume when reboot:\n",
    "\n",
    "```sh\n",
    "sudo systemctl start kubelet\n",
    "sudo systemctl enable kubelet\n",
    "```"
   ]
  },
  {
   "cell_type": "markdown",
   "id": "blond-papua",
   "metadata": {},
   "source": [
    "### Pull Images"
   ]
  },
  {
   "cell_type": "code",
   "execution_count": 8,
   "id": "matched-sheriff",
   "metadata": {
    "ExecuteTime": {
     "end_time": "2021-08-24T07:38:55.110177Z",
     "start_time": "2021-08-24T07:38:55.055167Z"
    }
   },
   "outputs": [
    {
     "name": "stdout",
     "output_type": "stream",
     "text": [
      "Overwriting ./scripts/aliyuncs_image_pull.sh\n"
     ]
    }
   ],
   "source": [
    "%%writefile ./scripts/aliyuncs_image_pull.sh\n",
    "#!/bin/bash\n",
    "\n",
    "for image_uri in $(kubeadm config images list)\n",
    "do\n",
    "    echo \"pull $image_uri ...\"\n",
    "    exist=`docker image ls $image_uri  --format \"{{.Tag}}\"`\n",
    "    if [[ x$exist == x ]]\n",
    "    then\n",
    "        image_name=`echo $image_uri | cut -d\\/ -f2-`\n",
    "        # image_name=`echo $image_uri | rev | cut -d\\/ -f1 | rev`\n",
    "        name=${image_name%%:*}\n",
    "        if [[ ${name} == \"coredns/coredns\" ]]\n",
    "        then\n",
    "            version=${image_name##*:v}\n",
    "            docker pull registry.cn-hangzhou.aliyuncs.com/google_containers/coredns:${version}\n",
    "            docker tag registry.cn-hangzhou.aliyuncs.com/google_containers/coredns:${version} k8s.gcr.io/${image_name}\n",
    "            docker rmi registry.cn-hangzhou.aliyuncs.com/google_containers/coredns:${version}\n",
    "        else\n",
    "            docker pull registry.cn-hangzhou.aliyuncs.com/google_containers/$image_name\n",
    "            docker tag registry.cn-hangzhou.aliyuncs.com/google_containers/$image_name k8s.gcr.io/$image_name\n",
    "            docker rmi registry.cn-hangzhou.aliyuncs.com/google_containers/$image_name\n",
    "        fi\n",
    "    fi\n",
    "done"
   ]
  },
  {
   "cell_type": "markdown",
   "id": "polished-forty",
   "metadata": {},
   "source": [
    "### Init Cluster"
   ]
  },
  {
   "cell_type": "markdown",
   "id": "equipped-avatar",
   "metadata": {
    "ExecuteTime": {
     "end_time": "2021-08-24T06:23:01.460877Z",
     "start_time": "2021-08-24T06:23:01.220407Z"
    }
   },
   "source": [
    "```bash\n",
    "sudo kubeadm init --pod-network-cidr=10.255.0.0/16 --apiserver-advertise-address=10.255.0.103\n",
    "```"
   ]
  },
  {
   "cell_type": "markdown",
   "id": "driven-overall",
   "metadata": {},
   "source": [
    "### Work Node Join"
   ]
  },
  {
   "cell_type": "markdown",
   "id": "protected-marina",
   "metadata": {
    "ExecuteTime": {
     "end_time": "2021-08-24T07:54:12.256774Z",
     "start_time": "2021-08-24T07:54:12.185382Z"
    }
   },
   "source": [
    "```bash\n",
    "# Get token\n",
    "kubeadm token list\n",
    "# Get sha256\n",
    "openssl x509 -pubkey -in /etc/kubernetes/pki/ca.crt | openssl rsa -pubin -outform der 2>/dev/null | openssl dgst -sha256 -hex | sed 's/^.* //'\n",
    "```"
   ]
  },
  {
   "cell_type": "markdown",
   "id": "exact-senate",
   "metadata": {},
   "source": [
    "```sh\n",
    "# Join cluster\n",
    "TOKEN=i7s1ld.ebnzbseprzlminbe\n",
    "SHA256=3f70106afa50318ba3a9d65810f04768661e63a3e4d44582559793d6681f312b\n",
    "sudo kubeadm join 10.255.0.103:6443 --token $TOKEN --discovery-token-ca-cert-hash sha256:$SHA256\n",
    "```"
   ]
  },
  {
   "cell_type": "markdown",
   "id": "synthetic-cosmetic",
   "metadata": {},
   "source": [
    "### Deploy Flannel Network\n",
    "\n",
    "```sh\n",
    "sudo kubectl apply -f https://raw.githubusercontent.com/coreos/flannel/master/Documentation/kube-flannel.yml\n",
    "```"
   ]
  },
  {
   "cell_type": "markdown",
   "id": "handmade-sequence",
   "metadata": {},
   "source": [
    "### One Application on Kubernetes"
   ]
  },
  {
   "cell_type": "code",
   "execution_count": null,
   "id": "limiting-consistency",
   "metadata": {},
   "outputs": [],
   "source": [
    "```sh\n",
    "sudo kubectl create deployment nginx --image=nginx\n",
    "sudo kubectl get deployments nginx\n",
    "sudo kubectl create service nodeport nginx --tcp=80:80\n",
    "sudo kubectl get svc\n",
    "sudo kubectl get pods --all-namespaces -o wide\n",
    "```"
   ]
  },
  {
   "cell_type": "markdown",
   "id": "authentic-terror",
   "metadata": {},
   "source": [
    "## [安装kfctl](https://github.com/kubeflow/kfctl)"
   ]
  },
  {
   "cell_type": "code",
   "execution_count": 9,
   "id": "supported-carolina",
   "metadata": {
    "ExecuteTime": {
     "end_time": "2021-08-24T07:38:55.168985Z",
     "start_time": "2021-08-24T07:38:55.117755Z"
    }
   },
   "outputs": [],
   "source": [
    "KFCTL_TARGZ = 'https://github.com//kubeflow/kfctl/releases/download/v1.2.0/kfctl_v1.2.0-0-gbc038f9_linux.tar.gz'"
   ]
  },
  {
   "cell_type": "code",
   "execution_count": 10,
   "id": "sustained-personality",
   "metadata": {
    "ExecuteTime": {
     "end_time": "2021-08-24T07:38:55.245241Z",
     "start_time": "2021-08-24T07:38:55.171853Z"
    }
   },
   "outputs": [],
   "source": [
    "%%template_write_script ./scripts/install_kfctl.sh\n",
    "#!/bin/bash\n",
    "\n",
    "cmd_check=`which kfctl`\n",
    "if [[ x$cmd_check == x ]]\n",
    "then\n",
    "    curl -X GET https://github.91chifun.workers.dev/{KFCTL_TARGZ} -o /tmp/kfctl.tar.gz\n",
    "    sudo tar -xvf /tmp/kfctl.tar.gz -C /usr/bin\n",
    "fi\n",
    "kfctl version"
   ]
  },
  {
   "cell_type": "markdown",
   "id": "appreciated-silence",
   "metadata": {
    "heading_collapsed": true
   },
   "source": [
    "## [安装kustomize](https://github.com/kubernetes-sigs/kustomize)"
   ]
  },
  {
   "cell_type": "code",
   "execution_count": 11,
   "id": "cubic-battlefield",
   "metadata": {
    "ExecuteTime": {
     "end_time": "2021-08-24T07:38:55.299553Z",
     "start_time": "2021-08-24T07:38:55.247641Z"
    },
    "hidden": true
   },
   "outputs": [],
   "source": [
    "KUSTOMIZE_TARGZ = 'https://github.com/kubernetes-sigs/kustomize/releases/download/kustomize%2Fv4.2.0/kustomize_v4.2.0_linux_amd64.tar.gz'"
   ]
  },
  {
   "cell_type": "code",
   "execution_count": 12,
   "id": "unable-occupation",
   "metadata": {
    "ExecuteTime": {
     "end_time": "2021-08-24T07:38:55.359145Z",
     "start_time": "2021-08-24T07:38:55.302055Z"
    },
    "hidden": true
   },
   "outputs": [],
   "source": [
    "%%template_write_script ./scripts/install_kustomize.sh\n",
    "#!/bin/bash\n",
    "cmd_check=`which kustomize`\n",
    "if [[ x$cmd_check == x ]]\n",
    "then\n",
    "    curl -XGET https://github.91chifun.workers.dev/{KUSTOMIZE_TARGZ} -o /tmp/kustomize.tar.gz\n",
    "    tar -xvf /tmp/kustomize.tar.gz -C /usr/bin\n",
    "fi\n",
    "kustomize version"
   ]
  },
  {
   "cell_type": "markdown",
   "id": "subsequent-association",
   "metadata": {
    "heading_collapsed": true
   },
   "source": [
    "## [下载manifests](https://github.com/kubeflow/manifests)"
   ]
  },
  {
   "cell_type": "code",
   "execution_count": null,
   "id": "informed-wright",
   "metadata": {
    "ExecuteTime": {
     "end_time": "2021-08-23T09:07:04.535362Z",
     "start_time": "2021-08-23T09:07:04.471123Z"
    },
    "hidden": true
   },
   "outputs": [],
   "source": []
  },
  {
   "cell_type": "markdown",
   "id": "injured-employer",
   "metadata": {
    "heading_collapsed": true
   },
   "source": [
    "## References"
   ]
  },
  {
   "cell_type": "markdown",
   "id": "hollow-silicon",
   "metadata": {
    "hidden": true
   },
   "source": [
    "- https://adamtheautomator.com/install-kubernetes-ubuntu/\n",
    "- https://towardsdatascience.com/kubeflow-pipelines-how-to-build-your-first-kubeflow-pipeline-from-scratch-2424227f7e5\n",
    "- https://medium.com/clarusway/kubernetes-step-by-step-setup-guide-for-beginners-cba307250a6c\n",
    "- https://blog.csdn.net/apl359/article/details/119123177\n",
    "- https://zhuanlan.zhihu.com/p/46341911\n",
    "- https://medium.com/jacky-life/%E4%BD%BF%E7%94%A8-kubeadm-%E5%AE%89%E8%A3%9D-k8s-abe1631aa600\n",
    "- https://kubernetes.io/zh/docs/setup/production-environment/tools/kubeadm/install-kubeadm/\n",
    "- https://blog.csdn.net/kozazyh/article/details/88232705"
   ]
  },
  {
   "cell_type": "markdown",
   "id": "floral-selection",
   "metadata": {
    "heading_collapsed": true
   },
   "source": [
    "## FAQs"
   ]
  },
  {
   "cell_type": "markdown",
   "id": "chief-retro",
   "metadata": {
    "ExecuteTime": {
     "end_time": "2021-08-24T03:24:11.252345Z",
     "start_time": "2021-08-24T03:24:11.022392Z"
    },
    "hidden": true
   },
   "source": [
    "- [kubectl安装无法连接packages.cloud.google.com][1]\n",
    "- [the server localhost:8080 was refused][2]\n",
    "- [kubelet isn't running or healthy][3]\n",
    "- [部署Kubernetes(k8s)时，为什么要关闭swap、selinux、防火墙？][4]\n",
    "- [部署前准备(swap、selinux等)][5]\n",
    "- [k8s查看token,discovery-token-ca-cert-hash][6]\n",
    "- [ERROR IsPrivilegedUser][7]\n",
    "- [How to gracefully remove a node from Kubernetes?][8]\n",
    "- [Pod容器内部无法ping 通ClusterIP][9]\n",
    "\n",
    "  \n",
    "[1]: https://blog.csdn.net/qq_39698985/article/details/114983293\n",
    "[2]: https://blog.csdn.net/leenhem/article/details/119736586\n",
    "[3]: https://www.jianshu.com/p/f53650a85131\n",
    "[4]: https://www.zhihu.com/question/374752553\n",
    "[5]: https://www.programminghunter.com/article/9956368399/\n",
    "[6]: https://blog.csdn.net/weixin_43968936/article/details/103688562\n",
    "[7]: https://blog.csdn.net/weixin_30872337/article/details/97591467\n",
    "[8]: https://stackoverflow.com/questions/35757620/how-to-gracefully-remove-a-node-from-kubernetes\n",
    "[9]: https://blog.csdn.net/weixin_39950057/article/details/111537049?utm_medium=distribute.pc_relevant.none-task-blog-2~default~baidujs_title~default-0.base&spm=1001.2101.3001.4242"
   ]
  },
  {
   "cell_type": "code",
   "execution_count": null,
   "id": "hungry-yacht",
   "metadata": {
    "hidden": true
   },
   "outputs": [],
   "source": []
  }
 ],
 "metadata": {
  "hide_input": false,
  "kernelspec": {
   "display_name": "Python 3",
   "language": "python",
   "name": "python3"
  },
  "language_info": {
   "codemirror_mode": {
    "name": "ipython",
    "version": 3
   },
   "file_extension": ".py",
   "mimetype": "text/x-python",
   "name": "python",
   "nbconvert_exporter": "python",
   "pygments_lexer": "ipython3",
   "version": "3.6.9"
  },
  "toc": {
   "base_numbering": 1,
   "nav_menu": {},
   "number_sections": true,
   "sideBar": true,
   "skip_h1_title": true,
   "title_cell": "",
   "title_sidebar": "Contents",
   "toc_cell": false,
   "toc_position": {},
   "toc_section_display": true,
   "toc_window_display": false
  }
 },
 "nbformat": 4,
 "nbformat_minor": 5
}
