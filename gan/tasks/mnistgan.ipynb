{
 "cells": [
  {
   "cell_type": "markdown",
   "metadata": {},
   "source": [
    "# <div align=\"center\"> CycleGAN: horse2zebra  </div>"
   ]
  },
  {
   "cell_type": "code",
   "execution_count": 1,
   "metadata": {
    "ExecuteTime": {
     "end_time": "2021-01-27T02:32:36.290724Z",
     "start_time": "2021-01-27T02:32:36.264481Z"
    }
   },
   "outputs": [],
   "source": [
    "%reload_ext autoreload\n",
    "%autoreload 2"
   ]
  },
  {
   "cell_type": "code",
   "execution_count": 6,
   "metadata": {
    "ExecuteTime": {
     "end_time": "2021-01-29T09:48:04.242867Z",
     "start_time": "2021-01-29T09:48:02.550663Z"
    }
   },
   "outputs": [],
   "source": [
    "import sys\n",
    "import time\n",
    "import os\n",
    "import base64\n",
    "import requests\n",
    "import json\n",
    "from io import BytesIO\n",
    "from PIL import Image\n",
    "from IPython.display import HTML\n",
    "from k12libs.utils.nb_easy import k12ai_get_data"
   ]
  },
  {
   "cell_type": "code",
   "execution_count": 4,
   "metadata": {
    "ExecuteTime": {
     "end_time": "2021-01-29T09:47:49.655564Z",
     "start_time": "2021-01-29T09:47:49.650871Z"
    }
   },
   "outputs": [],
   "source": [
    "g_host = '116.85.5.40'\n",
    "g_port = 8119\n",
    "g_user = '16601548608'\n",
    "g_uuid = '400'\n",
    "\n",
    "api = 'k12ai/framework/execute'"
   ]
  },
  {
   "cell_type": "code",
   "execution_count": 26,
   "metadata": {
    "ExecuteTime": {
     "end_time": "2021-01-29T11:20:10.833484Z",
     "start_time": "2021-01-29T11:20:10.827591Z"
    }
   },
   "outputs": [],
   "source": [
    "config = {\n",
    "    'dataroot': '/datasets/mnist',\n",
    "    'checkpoints_dir': '/cache/ckpts',\n",
    "    'serial_batches': False,\n",
    "    'num_threads': 8,\n",
    "    'latent_dim': 100,\n",
    "    'batch_size': 256,\n",
    "    'print_freq': 5120,\n",
    "    'save_latest_freq': 10240,\n",
    "    'continue_train': True,\n",
    "    'lr': 0.002,\n",
    "    'n_epochs': 100,\n",
    "    'results_dir': '/cache/results',\n",
    "    'verbose': True,\n",
    "}"
   ]
  },
  {
   "cell_type": "code",
   "execution_count": 10,
   "metadata": {
    "ExecuteTime": {
     "end_time": "2021-01-29T10:10:32.353882Z",
     "start_time": "2021-01-29T10:10:32.345841Z"
    }
   },
   "outputs": [],
   "source": [
    "def post_gan_request(uri, op, user, uuid, params=None):\n",
    "    if not params:\n",
    "        params = '{}'\n",
    "    if isinstance(params, dict):\n",
    "        params = json.dumps(params)\n",
    "    data = json.loads('''{\n",
    "        \"token\": \"123456\",\n",
    "        \"op\":\"%s\",\n",
    "        \"user\": \"%s\",\n",
    "        \"service_name\": \"k12gan\",\n",
    "        \"service_uuid\": \"%s\",\n",
    "        \"service_params\": %s\n",
    "    }''' % (op, user, uuid, params))\n",
    "    api = 'http://%s:%d/%s' % (g_host, g_port, uri)\n",
    "    res = requests.post(url=api, json=data).text\n",
    "    key = op.split('.')[0]\n",
    "    return {\n",
    "        'req': data,\n",
    "        'res': json.loads(res),\n",
    "        'key': f'framework/16601548608/{uuid}/{key}'\n",
    "    }"
   ]
  },
  {
   "cell_type": "markdown",
   "metadata": {},
   "source": [
    "### 启动训练(train.start)"
   ]
  },
  {
   "cell_type": "code",
   "execution_count": 27,
   "metadata": {
    "ExecuteTime": {
     "end_time": "2021-01-29T11:20:14.944153Z",
     "start_time": "2021-01-29T11:20:14.876754Z"
    }
   },
   "outputs": [
    {
     "data": {
      "text/plain": [
       "{'req': {'token': '123456',\n",
       "  'op': 'train.start',\n",
       "  'user': '16601548608',\n",
       "  'service_name': 'k12gan',\n",
       "  'service_uuid': '400',\n",
       "  'service_params': {'dataroot': '/datasets/mnist',\n",
       "   'checkpoints_dir': '/cache/ckpts',\n",
       "   'serial_batches': False,\n",
       "   'num_threads': 8,\n",
       "   'latent_dim': 100,\n",
       "   'batch_size': 256,\n",
       "   'print_freq': 512,\n",
       "   'save_latest_freq': 2048,\n",
       "   'continue_train': True,\n",
       "   'lr': 0.002,\n",
       "   'n_epochs': 100,\n",
       "   'results_dir': '/cache/results',\n",
       "   'verbose': True}},\n",
       " 'res': {'code': 100000, 'message': {'en': 'success', 'cn': '成功'}},\n",
       " 'key': 'framework/16601548608/400/train'}"
      ]
     },
     "execution_count": 27,
     "metadata": {},
     "output_type": "execute_result"
    }
   ],
   "source": [
    "res = post_gan_request(api, 'train.start', g_user, g_uuid,  config)\n",
    "res"
   ]
  },
  {
   "cell_type": "code",
   "execution_count": 12,
   "metadata": {
    "ExecuteTime": {
     "end_time": "2021-01-29T10:10:53.604797Z",
     "start_time": "2021-01-29T10:10:53.550114Z"
    },
    "scrolled": false
   },
   "outputs": [
    {
     "data": {
      "text/plain": [
       "[{'key': 'framework/16601548608/400/train/metrics/1611915052888',\n",
       "  'value': {'version': '0.1.0',\n",
       "   'server': 'localhost:8119',\n",
       "   'type': 'metrics',\n",
       "   'appId': 'talentai',\n",
       "   'token': '123456',\n",
       "   'user': '16601548608',\n",
       "   'op': 'train.start',\n",
       "   'service_name': 'k12gan',\n",
       "   'service_uuid': '400',\n",
       "   'timestamp': 1611915052888,\n",
       "   'datetime': '20210129181052',\n",
       "   'data': [{'_id_': '2a56e1b04c3d8645',\n",
       "     'category': '训练',\n",
       "     'type': 'scalar',\n",
       "     'data': {'title': '训练_G_loss',\n",
       "      'payload': {'x': {'label': 'iteration', 'value': 12800},\n",
       "       'y': [{'label': 'G_loss', 'value': 2.914}]}}},\n",
       "    {'_id_': 'eeadd07414ef22c2',\n",
       "     'category': '训练',\n",
       "     'type': 'scalar',\n",
       "     'data': {'title': '训练_Dr_loss',\n",
       "      'payload': {'x': {'label': 'iteration', 'value': 12800},\n",
       "       'y': [{'label': 'Dr_loss', 'value': 0.378}]}}},\n",
       "    {'_id_': 'b7909ac946e8ca6b',\n",
       "     'category': '训练',\n",
       "     'type': 'scalar',\n",
       "     'data': {'title': '训练_Df_loss',\n",
       "      'payload': {'x': {'label': 'iteration', 'value': 12800},\n",
       "       'y': [{'label': 'Df_loss', 'value': 0.434}]}}}]}},\n",
       " {'key': 'framework/16601548608/400/train/metrics/1611915053227',\n",
       "  'value': {'version': '0.1.0',\n",
       "   'server': 'localhost:8119',\n",
       "   'type': 'metrics',\n",
       "   'appId': 'talentai',\n",
       "   'token': '123456',\n",
       "   'user': '16601548608',\n",
       "   'op': 'train.start',\n",
       "   'service_name': 'k12gan',\n",
       "   'service_uuid': '400',\n",
       "   'timestamp': 1611915053227,\n",
       "   'datetime': '20210129181053',\n",
       "   'data': [{'_id_': '2a56e1b04c3d8645',\n",
       "     'category': '训练',\n",
       "     'type': 'scalar',\n",
       "     'data': {'title': '训练_G_loss',\n",
       "      'payload': {'x': {'label': 'iteration', 'value': 13440},\n",
       "       'y': [{'label': 'G_loss', 'value': 2.863}]}}},\n",
       "    {'_id_': 'eeadd07414ef22c2',\n",
       "     'category': '训练',\n",
       "     'type': 'scalar',\n",
       "     'data': {'title': '训练_Dr_loss',\n",
       "      'payload': {'x': {'label': 'iteration', 'value': 13440},\n",
       "       'y': [{'label': 'Dr_loss', 'value': 0.38}]}}},\n",
       "    {'_id_': 'b7909ac946e8ca6b',\n",
       "     'category': '训练',\n",
       "     'type': 'scalar',\n",
       "     'data': {'title': '训练_Df_loss',\n",
       "      'payload': {'x': {'label': 'iteration', 'value': 13440},\n",
       "       'y': [{'label': 'Df_loss', 'value': 0.432}]}}}]}}]"
      ]
     },
     "execution_count": 12,
     "metadata": {},
     "output_type": "execute_result"
    }
   ],
   "source": [
    "k12ai_get_data(res['key'], 'metrics', num=2, waitcnt=60, rm=True)"
   ]
  },
  {
   "cell_type": "markdown",
   "metadata": {},
   "source": [
    "### 停止训练((train.stop)"
   ]
  },
  {
   "cell_type": "code",
   "execution_count": 13,
   "metadata": {
    "ExecuteTime": {
     "end_time": "2021-01-29T10:11:51.274299Z",
     "start_time": "2021-01-29T10:11:51.201605Z"
    }
   },
   "outputs": [
    {
     "data": {
      "text/plain": [
       "{'req': {'token': '123456',\n",
       "  'op': 'train.stop',\n",
       "  'user': '16601548608',\n",
       "  'service_name': 'k12gan',\n",
       "  'service_uuid': '400',\n",
       "  'service_params': {}},\n",
       " 'res': {'code': 100000, 'message': {'en': 'success', 'cn': '成功'}},\n",
       " 'key': 'framework/16601548608/400/train'}"
      ]
     },
     "execution_count": 13,
     "metadata": {},
     "output_type": "execute_result"
    }
   ],
   "source": [
    "post_gan_request(api, 'train.stop', g_user, g_uuid)"
   ]
  },
  {
   "cell_type": "markdown",
   "metadata": {},
   "source": [
    "### 恢复训练(train.resume)"
   ]
  },
  {
   "cell_type": "code",
   "execution_count": 11,
   "metadata": {
    "ExecuteTime": {
     "end_time": "2021-01-27T03:03:49.006960Z",
     "start_time": "2021-01-27T03:03:48.952793Z"
    }
   },
   "outputs": [
    {
     "data": {
      "text/plain": [
       "{'req': {'token': '123456',\n",
       "  'op': 'train.resume',\n",
       "  'user': '16601548608',\n",
       "  'service_name': 'k12gan',\n",
       "  'service_uuid': '200',\n",
       "  'service_params': {}},\n",
       " 'res': {'code': 100000, 'message': {'en': 'success', 'cn': '成功'}},\n",
       " 'key': 'framework/16601548608/200/train'}"
      ]
     },
     "execution_count": 11,
     "metadata": {},
     "output_type": "execute_result"
    }
   ],
   "source": [
    "res = post_gan_request(api, 'train.resume', g_user, g_uuid)\n",
    "res"
   ]
  },
  {
   "cell_type": "code",
   "execution_count": 12,
   "metadata": {
    "ExecuteTime": {
     "end_time": "2021-01-27T03:04:17.316885Z",
     "start_time": "2021-01-27T03:03:53.124331Z"
    }
   },
   "outputs": [
    {
     "data": {
      "text/plain": [
       "[{'key': 'framework/16601548608/200/train/metrics/1611716656263',\n",
       "  'value': {'version': '0.1.0',\n",
       "   'server': 'localhost:8119',\n",
       "   'type': 'metrics',\n",
       "   'appId': 'talentai',\n",
       "   'token': '123456',\n",
       "   'user': '16601548608',\n",
       "   'op': 'train.resume',\n",
       "   'service_name': 'k12gan',\n",
       "   'service_uuid': '200',\n",
       "   'timestamp': 1611716656263,\n",
       "   'datetime': '20210127110416',\n",
       "   'data': [{'_id_': '29f8d6abe3f2d9fe',\n",
       "     'category': '训练',\n",
       "     'type': 'scalar',\n",
       "     'data': {'title': '训练_学习率',\n",
       "      'payload': {'x': {'label': 'iteration', 'value': 20},\n",
       "       'y': [{'label': '学习率', 'value': 0.002}]}}}]}},\n",
       " {'key': 'framework/16601548608/200/train/metrics/1611716656345',\n",
       "  'value': {'version': '0.1.0',\n",
       "   'server': 'localhost:8119',\n",
       "   'type': 'metrics',\n",
       "   'appId': 'talentai',\n",
       "   'token': '123456',\n",
       "   'user': '16601548608',\n",
       "   'op': 'train.resume',\n",
       "   'service_name': 'k12gan',\n",
       "   'service_uuid': '200',\n",
       "   'timestamp': 1611716656345,\n",
       "   'datetime': '20210127110416',\n",
       "   'data': [{'_id_': '00e1533091cf39a2',\n",
       "     'category': '训练',\n",
       "     'type': 'scalar',\n",
       "     'data': {'title': '训练_损失',\n",
       "      'payload': {'x': {'label': 'iteration', 'value': 20},\n",
       "       'y': [{'label': 'D_A', 'value': 32.577415466308594},\n",
       "        {'label': 'G_A', 'value': 30.45682716369629},\n",
       "        {'label': 'cycle_A', 'value': 4.716340065002441},\n",
       "        {'label': 'idt_A', 'value': 2.970433235168457},\n",
       "        {'label': 'D_B', 'value': 8.564186096191406},\n",
       "        {'label': 'G_B', 'value': 10.081008911132812},\n",
       "        {'label': 'cycle_B', 'value': 5.865537643432617},\n",
       "        {'label': 'idt_B', 'value': 2.367380142211914}]}}}]}}]"
      ]
     },
     "execution_count": 12,
     "metadata": {},
     "output_type": "execute_result"
    }
   ],
   "source": [
    "k12ai_get_data(res['key'], 'metrics', num=2, waitcnt=60, rm=True)"
   ]
  },
  {
   "cell_type": "code",
   "execution_count": 13,
   "metadata": {
    "ExecuteTime": {
     "end_time": "2021-01-27T03:04:29.262291Z",
     "start_time": "2021-01-27T03:04:24.191672Z"
    }
   },
   "outputs": [],
   "source": [
    "post_gan_request(api, 'train.stop', g_user, g_uuid)\n",
    "time.sleep(5)"
   ]
  },
  {
   "cell_type": "markdown",
   "metadata": {},
   "source": [
    "### 启动预测"
   ]
  },
  {
   "cell_type": "code",
   "execution_count": 34,
   "metadata": {
    "ExecuteTime": {
     "end_time": "2021-01-29T14:17:50.986104Z",
     "start_time": "2021-01-29T14:17:50.925119Z"
    }
   },
   "outputs": [
    {
     "data": {
      "text/plain": [
       "{'req': {'token': '123456',\n",
       "  'op': 'predict.start',\n",
       "  'user': '16601548608',\n",
       "  'service_name': 'k12gan',\n",
       "  'service_uuid': '400',\n",
       "  'service_params': {}},\n",
       " 'res': {'code': 100000, 'message': {'en': 'success', 'cn': '成功'}},\n",
       " 'key': 'framework/16601548608/400/predict'}"
      ]
     },
     "execution_count": 34,
     "metadata": {},
     "output_type": "execute_result"
    }
   ],
   "source": [
    "post_gan_request(api, 'predict.start', g_user, g_uuid)"
   ]
  },
  {
   "cell_type": "code",
   "execution_count": 45,
   "metadata": {
    "ExecuteTime": {
     "end_time": "2021-01-29T14:25:31.801727Z",
     "start_time": "2021-01-29T14:25:31.769641Z"
    }
   },
   "outputs": [],
   "source": [
    "test_result = None\n",
    "data = k12ai_get_data('framework/16601548608/400/predict', 'metrics', num=1, waitcnt=30, rm=True)\n",
    "if data is not None:\n",
    "    d = item['value']['data'][0]['data']\n",
    "    test_result = base64.b64decode(d['payload'])"
   ]
  },
  {
   "cell_type": "code",
   "execution_count": 46,
   "metadata": {
    "ExecuteTime": {
     "end_time": "2021-01-29T14:25:32.911228Z",
     "start_time": "2021-01-29T14:25:32.897883Z"
    }
   },
   "outputs": [
    {
     "data": {
      "image/png": "[encoded data removed]",
      "text/plain": [
       "<PIL.PngImagePlugin.PngImageFile image mode=RGBA size=152x152 at 0x7F38BFA83898>"
      ]
     },
     "execution_count": 46,
     "metadata": {},
     "output_type": "execute_result"
    }
   ],
   "source": [
    "Image.open(BytesIO(test_result))"
   ]
  }
 ],
 "metadata": {
  "kernelspec": {
   "display_name": "Python 3",
   "language": "python",
   "name": "python3"
  },
  "language_info": {
   "codemirror_mode": {
    "name": "ipython",
    "version": 3
   },
   "file_extension": ".py",
   "mimetype": "text/x-python",
   "name": "python",
   "nbconvert_exporter": "python",
   "pygments_lexer": "ipython3",
   "version": "3.6.9"
  },
  "toc": {
   "base_numbering": 1,
   "nav_menu": {},
   "number_sections": true,
   "sideBar": true,
   "skip_h1_title": true,
   "title_cell": "",
   "title_sidebar": "Contents",
   "toc_cell": false,
   "toc_position": {
    "height": "calc(100% - 180px)",
    "left": "10px",
    "top": "150px",
    "width": "271.989px"
   },
   "toc_section_display": true,
   "toc_window_display": true
  }
 },
 "nbformat": 4,
 "nbformat_minor": 4
}
