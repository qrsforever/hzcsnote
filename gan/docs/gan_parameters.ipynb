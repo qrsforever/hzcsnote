{
 "cells": [
  {
   "cell_type": "markdown",
   "metadata": {},
   "source": [
    "# <div align=\"center\"> CycleGAN 框架参数定义 </div>"
   ]
  },
  {
   "cell_type": "markdown",
   "metadata": {},
   "source": [
    "如果参数用户不设置, 可以不用传, 底层直接使用默认值 \n",
    " \n",
    "参数名 | 类型 | 默认值 | 值域 | 描述\n",
    ":---: | :---: | :---: | :--- | :--- |    \n",
    "<img width=100/> | <img width=80/> | <img width=80/> | <img width=150/> | <img width=400/>\n",
    "dataroot | string | | PATH |数据集路径\n",
    "checkpoints_dir | string | ckpts | | 实际地址: `${prefix}/${uid}/${uuid}/ckpts`\n",
    "<img width=100/> | <img width=80/> | <img width=80/> | <img width=150/> | <img width=400/>\n",
    "model | string | cycle_gan | cycle_gan<br>pix2pix | 指定模型\n",
    "netD | string | basic | basic<br>n_layers<br>pixel | 指定辨别器框架 \n",
    "netG | string | resnet_9blocks | resnet_9blocks <br>resnet_6blocks <br>unet_256 <br>unet_128`| 指定生成器框架\n",
    "n_layers_D | int | 3 | (0, 9] | 如果netD 设置为 n_layers, 该选项才会使用\n",
    "norm | string | instance | instance <br>batch <br>none | 正则化方式\n",
    "init_type | string | normal | normal <br>xavier <br>kaiming <br>orthogonal | 网络初始化方式\n",
    "init_gain | float | 0.02 | (0, 1) | init_type初始化值的缩放因子\n",
    "no_dropout | bool | true | | 是否对生成器网络进行dropout\n",
    "dataset_mode | string | unaligned | unaligned<br>aligned<br>single<br>colorization | 加载数据集模式\n",
    "direction | string | AtoB | AtoB<br>BtoA | 翻译图片方向\n",
    "num_threads | int | 4 | [1, 8] | 加载数据集的线程数\n",
    "batch_size | int | 4 | [1,4] | 一次处理图片的个数\n",
    "load_size | int | 286 | (28, 512] | 加载图片前缩放到指定大小, **不建议用户设置**\n",
    "crop_size | int | 256 | (28, load_size] | 对图片中心裁剪, **不建议用户设置**\n",
    "max_dataset_size | int | $\\infty$ | (1, +$\\infty$) | 如果数据集图片太多,可以设置该值,使用全量数据集的子集训练\n",
    "no_flip | bool | true | | 是否对图片做flip增强\n",
    "<img width=100/> | <img width=80/> | <img width=80/> | <img width=150/> | <img width=400/>\n",
    "print_freq | int | 50 | [1, +$\\infty$) | 训练结果数据输出频率\n",
    "save_latest_freq | int | 200 | [1, +$\\infty$) | 保存模型权重的频率, 多少个迭代保存一次\n",
    "continue_train | bool | true | | 是否加载最新的权重继续训练\n",
    "phase | string | train | train<br>val<br>test | 任务阶段\n",
    "beta1 | float | 0.5 | (0, 1) | Adam优化器动量参数\n",
    "lr | float | 0.0002 | (0, 1) | 基础学习率(Adam)\n",
    "lr_policy | string | linear | linear<br>step<br>plateau<br>cosine | 学习率更新策略\n",
    "lr_decay_iters | int | 50 | [10, +$\\infty$)| 如果lr_policy为step, 则该参数有效, LR每lr_decay_iters多步更新:$lr = \\gamma * lr$\n",
    "n_epochs | int | 100 | [10, +$\\infty$) | 循环epochs次数\n",
    "gan_mode | string | lsgan | vanilla<br>lsgan<br>wgangp | GAN目标类型"
   ]
  }
 ],
 "metadata": {
  "kernelspec": {
   "display_name": "Python 3",
   "language": "python",
   "name": "python3"
  },
  "language_info": {
   "codemirror_mode": {
    "name": "ipython",
    "version": 3
   },
   "file_extension": ".py",
   "mimetype": "text/x-python",
   "name": "python",
   "nbconvert_exporter": "python",
   "pygments_lexer": "ipython3",
   "version": "3.6.9"
  },
  "toc": {
   "base_numbering": 1,
   "nav_menu": {},
   "number_sections": true,
   "sideBar": true,
   "skip_h1_title": true,
   "title_cell": "",
   "title_sidebar": "Contents",
   "toc_cell": false,
   "toc_position": {},
   "toc_section_display": true,
   "toc_window_display": false
  }
 },
 "nbformat": 4,
 "nbformat_minor": 4
}
