{
 "cells": [
  {
   "cell_type": "markdown",
   "metadata": {},
   "source": [
    "# <div align=\"center\"/> GAN 框架调研 </div>"
   ]
  },
  {
   "cell_type": "markdown",
   "metadata": {},
   "source": [
    "framework | stars | basedon | datasets | description\n",
    ":---: | :---: | :---: | :---: | :----\n",
    "<img width=100/> | <img width=100/> | <img width=100/>  | <img width=150/> | <img width=300/>\n",
    "[StarGAN](https://github.com/yunjey/stargan) | 4.8k | pytorch | celebA | 在一个数据集中进行多领域的图像转换任务(头发,年龄等)\n",
    "[AttnGAN](https://github.com/taoxugit/AttnGAN) | 1k | pytorch | birds, coco | 根据文本描述生成图像\n",
    "[pix2pixHD](https://github.com/NVIDIA/pix2pixHD) | 5k | pytorch | Cityscapes | 从语义标签图中利用条件生成对抗网络（conditional GANs）来合成高分辨率逼真的照片图像的方法\n",
    "[BigGAN](https://github.com/sxhxliang/BigGAN-pytorch) | 479 | pytorch | imagenet, lsun | \n",
    "[stylegan](https://github.com/NVlabs/stylegan) | 11k | tensorflow | Flickr-Faces-HQ, CelebA-HQ | (人脸属性)\n",
    "[stylegan2](https://github.com/NVlabs/stylegan2) | 7k | tensorflow | Flickr-Faces-HQ,CelebA-HQ | (人脸属性)\n",
    "[CycleGAN](https://github.com/junyanz/pytorch-CycleGAN-and-pix2pix) [CycleGAN](https://github.com/junyanz/CycleGAN) | 14.2k| pytorch | maps,cityscapes,facades | 数据集无需配对即可实现转换\n",
    "[DiscoGAN](https://github.com/SKTBrain/DiscoGAN) | 717 | pytorch | celebA,edges2shoes,cars | \n",
    "[LSGAN](https://github.com/xudonmao/LSGAN) | 79 | pytorch | HWDB1.0,LSUN |  Least Squares Loss"
   ]
  },
  {
   "cell_type": "markdown",
   "metadata": {},
   "source": [
    "# References\n",
    "\n",
    "- https://www.topbots.com/ai-research-generative-adversarial-network-images\n",
    "- https://momodel.cn/\n",
    "- https://www.jianshu.com/p/d40cb819e012\n",
    "- https://www.cnblogs.com/zzycv/p/11704771.html\n",
    "- https://zhuanlan.zhihu.com/p/99064690\n",
    "- https://zhuanlan.zhihu.com/p/263554045?utm_source=wechat_session\n",
    "- https://baijiahao.baidu.com/s?id=1669527712285554580&wfr=spider&for=pc\n",
    "- https://github.com/hindupuravinash/the-gan-zoo"
   ]
  },
  {
   "cell_type": "code",
   "execution_count": null,
   "metadata": {},
   "outputs": [],
   "source": []
  }
 ],
 "metadata": {
  "kernelspec": {
   "display_name": "Python 3",
   "language": "python",
   "name": "python3"
  },
  "language_info": {
   "codemirror_mode": {
    "name": "ipython",
    "version": 3
   },
   "file_extension": ".py",
   "mimetype": "text/x-python",
   "name": "python",
   "nbconvert_exporter": "python",
   "pygments_lexer": "ipython3",
   "version": "3.6.9"
  },
  "toc": {
   "base_numbering": 1,
   "nav_menu": {},
   "number_sections": true,
   "sideBar": true,
   "skip_h1_title": true,
   "title_cell": "",
   "title_sidebar": "Contents",
   "toc_cell": false,
   "toc_position": {},
   "toc_section_display": true,
   "toc_window_display": false
  }
 },
 "nbformat": 4,
 "nbformat_minor": 4
}
