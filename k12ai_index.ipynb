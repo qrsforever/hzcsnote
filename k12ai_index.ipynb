{
 "cells": [
  {
   "cell_type": "markdown",
   "metadata": {},
   "source": [
    "# <div align='center'> K12学习框架 </div>"
   ]
  },
  {
   "cell_type": "markdown",
   "metadata": {},
   "source": [
    "## [K12AI架构](/notebooks/docs/k12ai_struct.ipynb)\n",
    "\n",
    "## [K12代码路径](https://gitee.com/hzcsai_com/hzcsk12)\n",
    "\n",
    "## [K12外部API](/notebooks/docs/k12ai_api.ipynb)\n",
    "\n",
    "## [统一错误码](/notebooks/docs/k12ai_errorcode.ipynb)\n",
    "\n",
    "## [RESTAPI数据模型](/notebooks/docs/k12ai_datamodel.ipynb)\n",
    "\n",
    "### [数据模型: 任务执行错误](/notebooks/docs/model_error.ipynb)\n",
    "\n",
    "### [数据模型: 任务执行状态](/notebooks/docs/model_status.ipynb)\n",
    "\n",
    "## [配置模板模型](/notebooks/docs/k12ai_schema_widget.ipynb)\n",
    "\n",
    "###  [基本类型节点](/notebooks/docs/schema/k12ai_basic_type.ipynb)\n",
    "\n",
    "###  [复杂类型节点](notebooks/docs/schema/k12ai_complext_type.ipynb)\n",
    "\n",
    "###  [布局类型节点](/notebooks/docs/schema/k12ai_layout_type.ipynb)\n",
    "\n",
    "## [训练](/notebooks)\n",
    "\n",
    "###  [CV项目](/notebooks/cv/k12cv_project.ipynb)\n",
    "\n",
    "> 1. [统计正确率: 数据集+模型](/notebooks/cv/docs/accuracy_stats.ipynb)\n",
    "> 2. [统计内存占用: batch_size, input_size, 模型](/notebooks/cv/docs/lite_mem_stats.ipynb)\n",
    "\n",
    "###  [ML项目](/notebooks/ml/k12ml_project.ipynb)\n",
    "\n",
    "###  [NLP项目](/notebooks/nlp/k12nlp_project.ipynb)\n",
    "\n",
    "###  [RL项目](/notebooks/rl/k12rl_project.ipynb)\n",
    "\n",
    "## [其他](/notebooks/docs)\n",
    "\n",
    "### [主机及端口](/notebooks/docs/host_ports.ipynb)\n",
    "\n",
    "### [机器资源调度方案及代码演示](/notebooks/docs/scenario_assign_drafts.ipynb)\n",
    "\n",
    "### [模型拖拽相关](/notebooks/docs/drag_and_drop.ipynb)\n",
    "\n",
    "### [框架相关脚本](/notebooks/docs/k12ai_script.ipynb)"
   ]
  },
  {
   "cell_type": "code",
   "execution_count": null,
   "metadata": {},
   "outputs": [],
   "source": []
  }
 ],
 "metadata": {
  "kernelspec": {
   "display_name": "Python 3",
   "language": "python",
   "name": "python3"
  },
  "language_info": {
   "codemirror_mode": {
    "name": "ipython",
    "version": 3
   },
   "file_extension": ".py",
   "mimetype": "text/x-python",
   "name": "python",
   "nbconvert_exporter": "python",
   "pygments_lexer": "ipython3",
   "version": "3.6.9"
  },
  "toc": {
   "base_numbering": 1,
   "nav_menu": {},
   "number_sections": true,
   "sideBar": true,
   "skip_h1_title": true,
   "title_cell": "",
   "title_sidebar": "Contents",
   "toc_cell": false,
   "toc_position": {},
   "toc_section_display": true,
   "toc_window_display": false
  }
 },
 "nbformat": 4,
 "nbformat_minor": 2
}
