{
 "cells": [
  {
   "cell_type": "markdown",
   "metadata": {},
   "source": [
    "# <div align='center'> K12学习框架 </div>"
   ]
  },
  {
   "cell_type": "markdown",
   "metadata": {},
   "source": [
    "## [1 K12AI架构](/notebooks/docs/k12ai_struct.ipynb)\n",
    "\n",
    "## [2 K12代码路径](https://gitee.com/hzcsai_com/hzcsk12)\n",
    "\n",
    "## [3 K12外部API](notebooks/docs/k12ai_api.ipynb)\n",
    "\n",
    "## [4 统一错误码](/notebooks/docs/k12ai_errorcode.ipynb)\n",
    "\n",
    "## [5 RESTAPI数据模型](/notebooks/docs/k12ai_datamodel.ipynb)\n",
    "\n",
    "## [6 配置模板模型](/notebooks/docs/k12ai_schema_widget.ipynb)\n",
    "\n",
    "> ### 6.1 [基本类型节点](/notebooks/docs/schema/k12ai_basic_type.ipynb)\n",
    ">\n",
    "> ### 6.2 [复杂类型节点](notebooks/docs/schema/k12ai_complext_type.ipynb)\n",
    ">\n",
    "> ### 6.3 [布局类型节点](/notebooks/docs/schema/k12ai_layout_type.ipynb)\n"
   ]
  },
  {
   "cell_type": "code",
   "execution_count": null,
   "metadata": {},
   "outputs": [],
   "source": []
  }
 ],
 "metadata": {
  "kernelspec": {
   "display_name": "Python 3",
   "language": "python",
   "name": "python3"
  },
  "language_info": {
   "codemirror_mode": {
    "name": "ipython",
    "version": 3
   },
   "file_extension": ".py",
   "mimetype": "text/x-python",
   "name": "python",
   "nbconvert_exporter": "python",
   "pygments_lexer": "ipython3",
   "version": "3.6.8"
  }
 },
 "nbformat": 4,
 "nbformat_minor": 2
}
