{
 "cells": [
  {
   "cell_type": "markdown",
   "metadata": {},
   "source": [
    "# <div align='center'> K12学习框架 </div>"
   ]
  },
  {
   "cell_type": "markdown",
   "metadata": {},
   "source": [
    "## [1 K12AI架构](/notebooks/docs/k12ai_struct.ipynb)\n",
    "\n",
    "## [2 K12代码路径](https://gitee.com/hzcsai_com/hzcsk12)\n",
    "\n",
    "## [3 K12外部API](/notebooks/docs/k12ai_api.ipynb)\n",
    "\n",
    "## [4 统一错误码](/notebooks/docs/k12ai_errorcode.ipynb)\n",
    "\n",
    "## [5 RESTAPI数据模型](/notebooks/docs/k12ai_datamodel.ipynb)\n",
    "\n",
    "> ### 5.1 [数据模型: 任务执行错误](/notebooks/docs/model_error.ipynb)\n",
    ">\n",
    "> ### 5.2 [数据模型: 任务执行状态](/notebooks/docs/model_status.ipynb)\n",
    "\n",
    "## [6 配置模板模型](/notebooks/docs/k12ai_schema_widget.ipynb)\n",
    "\n",
    "> ### 6.1 [基本类型节点](/notebooks/docs/schema/k12ai_basic_type.ipynb)\n",
    ">\n",
    "> ### 6.2 [复杂类型节点](notebooks/docs/schema/k12ai_complext_type.ipynb)\n",
    ">\n",
    "> ### 6.3 [布局类型节点](/notebooks/docs/schema/k12ai_layout_type.ipynb)\n",
    "\n",
    "## [7 训练](/notebooks)\n",
    "\n",
    "> ### 7.1 [CV项目](/notebooks/cv/k12cv_project.ipynb)\n",
    ">\n",
    "> ### 7.2 [ML项目](/notebooks/ml/k12ml_project.ipynb)\n",
    ">\n",
    "> ### 7.3 [NLP项目](/notebooks/nlp/k12nlp_project.ipynb)\n",
    ">\n",
    "> ### 7.4 [RL项目](/notebooks/rl/k12rl_project.ipynb)\n",
    "\n",
    "## [9 其他](/notebooks/docs)\n",
    "\n",
    "> ### 9.1 [主机及端口](/notebooks/docs/host_ports.ipynb)\n",
    ">\n",
    "> ### 9.2 [框架相关脚本](/notebooks/docs/k12ai_script.ipynb)"
   ]
  },
  {
   "cell_type": "code",
   "execution_count": null,
   "metadata": {},
   "outputs": [],
   "source": []
  }
 ],
 "metadata": {
  "kernelspec": {
   "display_name": "Python 3",
   "language": "python",
   "name": "python3"
  },
  "language_info": {
   "codemirror_mode": {
    "name": "ipython",
    "version": 3
   },
   "file_extension": ".py",
   "mimetype": "text/x-python",
   "name": "python",
   "nbconvert_exporter": "python",
   "pygments_lexer": "ipython3",
   "version": "3.6.9"
  }
 },
 "nbformat": 4,
 "nbformat_minor": 2
}
