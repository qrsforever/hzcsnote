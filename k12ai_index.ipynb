{
 "cells": [
  {
   "cell_type": "markdown",
   "metadata": {},
   "source": [
    "# <div align='center'> K12学习框架 </div>"
   ]
  },
  {
   "cell_type": "markdown",
   "metadata": {},
   "source": [
    "## [1 K12AI架构](http://gamma:8348/notebooks/notebook/k12ai_struct.ipynb)\n",
    "\n",
    "## [2 K12代码路径](https://gitee.com/hzcsai_com/hzcsk12)\n",
    "\n",
    "## [3 K12外部API](http://gamma:8348/notebooks/notebook/k12ai_api.ipynb)\n",
    "\n",
    "## [4 统一错误码](http://gamma:8348/notebooks/notebook/k12ai_errorcode.ipynb)"
   ]
  }
 ],
 "metadata": {
  "kernelspec": {
   "display_name": "Python 3",
   "language": "python",
   "name": "python3"
  },
  "language_info": {
   "codemirror_mode": {
    "name": "ipython",
    "version": 3
   },
   "file_extension": ".py",
   "mimetype": "text/x-python",
   "name": "python",
   "nbconvert_exporter": "python",
   "pygments_lexer": "ipython3",
   "version": "3.6.8"
  }
 },
 "nbformat": 4,
 "nbformat_minor": 2
}
