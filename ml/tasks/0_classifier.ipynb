{
 "cells": [
  {
   "cell_type": "markdown",
   "metadata": {
    "toc": true
   },
   "source": [
    "<h1><span class=\"tocSkip\"></span></h1>\n",
    "<div class=\"toc\"><ul class=\"toc-item\"></ul></div>"
   ]
  },
  {
   "cell_type": "code",
   "execution_count": 3,
   "metadata": {
    "ExecuteTime": {
     "end_time": "2020-06-09T10:29:33.532229Z",
     "start_time": "2020-06-09T10:29:33.503436Z"
    }
   },
   "outputs": [],
   "source": [
    "%reload_ext autoreload\n",
    "%autoreload 2"
   ]
  },
  {
   "cell_type": "code",
   "execution_count": 4,
   "metadata": {
    "ExecuteTime": {
     "end_time": "2020-06-09T10:29:35.557907Z",
     "start_time": "2020-06-09T10:29:34.674845Z"
    }
   },
   "outputs": [],
   "source": [
    "from k12libs.utils.nb_easy import k12ai_run_project"
   ]
  },
  {
   "cell_type": "code",
   "execution_count": null,
   "metadata": {
    "ExecuteTime": {
     "end_time": "2020-06-09T10:32:54.654474Z",
     "start_time": "2020-06-09T10:32:51.550593Z"
    }
   },
   "outputs": [],
   "source": [
    "datasets = [\n",
    "    'iris',  # 0\n",
    "    'boston',\n",
    "    'breast_cancer',\n",
    "    'diabetes',\n",
    "    'digits',\n",
    "    'linnerud', # 5\n",
    "    'wine',\n",
    "    'house-prices',\n",
    "    'titanic',\n",
    "    'sf-crime', # 9\n",
    "]\n",
    "\n",
    "algos = [\n",
    "    'svc', # 0\n",
    "    'svr',\n",
    "    'knn',\n",
    "    'kmeans',\n",
    "    'gaussian_nb',\n",
    "    'decision_tree', # 5\n",
    "    'random_forest',\n",
    "    'adaboost',\n",
    "    'logistic',\n",
    "    'gradient_boosting', # 9\n",
    "]"
   ]
  },
  {
   "cell_type": "code",
   "execution_count": 9,
   "metadata": {
    "ExecuteTime": {
     "end_time": "2020-06-09T10:32:54.654474Z",
     "start_time": "2020-06-09T10:32:51.550593Z"
    }
   },
   "outputs": [
    {
     "data": {
      "text/html": [
       "<style>.container { width:95% !important; }</style>"
      ],
      "text/plain": [
       "<IPython.core.display.HTML object>"
      ]
     },
     "metadata": {},
     "output_type": "display_data"
    },
    {
     "data": {
      "application/vnd.jupyter.widget-view+json": {
       "model_id": "718c25d754aa4b12ab43d2b132d09fd0",
       "version_major": 2,
       "version_minor": 0
      },
      "text/plain": [
       "Box(children=(Box(children=(VBox(children=(Tab(children=(VBox(children=(HBox(children=(Text(value='classifier'…"
      ]
     },
     "metadata": {},
     "output_type": "display_data"
    }
   ],
   "source": [
    "algo = algos[0]\n",
    "dataset = datasets[9]\n",
    "\n",
    "project = k12ai_run_project(debug=True, tb_port=9002,\n",
    "    framework='k12ml', task='classifier', network=algo, dataset=dataset)"
   ]
  },
  {
   "cell_type": "code",
   "execution_count": 18,
   "metadata": {
    "ExecuteTime": {
     "end_time": "2020-06-09T11:50:09.076774Z",
     "start_time": "2020-06-09T11:50:07.566007Z"
    }
   },
   "outputs": [
    {
     "data": {
      "application/vnd.jupyter.widget-view+json": {
       "model_id": "f48f3cd8f12949e3afffec876ee9f3e3",
       "version_major": 2,
       "version_minor": 0
      },
      "text/plain": [
       "Box(children=(Box(children=(VBox(children=(Tab(children=(VBox(children=(HBox(children=(Text(value='classifier'…"
      ]
     },
     "metadata": {},
     "output_type": "display_data"
    }
   ],
   "source": [
    "algo = 'knn'\n",
    "dataset = datasets[9]\n",
    "\n",
    "project = k12ai_run_project(debug=True,\n",
    "    framework='k12ml', task='classifier', network=algo, dataset=dataset)"
   ]
  },
  {
   "cell_type": "code",
   "execution_count": 13,
   "metadata": {
    "ExecuteTime": {
     "end_time": "2020-06-09T10:52:04.176037Z",
     "start_time": "2020-06-09T10:52:02.838963Z"
    }
   },
   "outputs": [
    {
     "data": {
      "application/vnd.jupyter.widget-view+json": {
       "model_id": "950fc85c3a9c4b8ea775f696b7795fdf",
       "version_major": 2,
       "version_minor": 0
      },
      "text/plain": [
       "Box(children=(Box(children=(VBox(children=(Tab(children=(VBox(children=(HBox(children=(Text(value='classifier'…"
      ]
     },
     "metadata": {},
     "output_type": "display_data"
    }
   ],
   "source": [
    "algo = 'gaussian_nb'\n",
    "dataset = datasets[9]\n",
    "\n",
    "project = k12ai_run_project(debug=True,\n",
    "    framework='k12ml', task='classifier', network=algo, dataset=dataset)"
   ]
  },
  {
   "cell_type": "code",
   "execution_count": 20,
   "metadata": {
    "ExecuteTime": {
     "end_time": "2020-06-09T12:33:25.850816Z",
     "start_time": "2020-06-09T12:33:24.208542Z"
    }
   },
   "outputs": [
    {
     "data": {
      "application/vnd.jupyter.widget-view+json": {
       "model_id": "0d7a6558f8ff43b987d4528b8683e625",
       "version_major": 2,
       "version_minor": 0
      },
      "text/plain": [
       "Box(children=(Box(children=(VBox(children=(Tab(children=(VBox(children=(HBox(children=(Text(value='classifier'…"
      ]
     },
     "metadata": {},
     "output_type": "display_data"
    }
   ],
   "source": [
    "algo = 'decision_tree'\n",
    "dataset = datasets[9]\n",
    "\n",
    "project = k12ai_run_project(debug=True,\n",
    "    framework='k12ml', task='classifier', network=algo, dataset=dataset)"
   ]
  },
  {
   "cell_type": "code",
   "execution_count": 24,
   "metadata": {
    "ExecuteTime": {
     "end_time": "2020-06-09T12:41:41.095177Z",
     "start_time": "2020-06-09T12:41:39.192190Z"
    },
    "scrolled": false
   },
   "outputs": [
    {
     "data": {
      "application/vnd.jupyter.widget-view+json": {
       "model_id": "db1b40c19dfa424e9a560bf09e2a72b6",
       "version_major": 2,
       "version_minor": 0
      },
      "text/plain": [
       "Box(children=(Box(children=(VBox(children=(Tab(children=(VBox(children=(HBox(children=(Text(value='classifier'…"
      ]
     },
     "metadata": {},
     "output_type": "display_data"
    }
   ],
   "source": [
    "algo = 'random_forest'\n",
    "dataset = datasets[9]\n",
    "\n",
    "project = k12ai_run_project(debug=True,\n",
    "    framework='k12ml', task='classifier', network=algo, dataset=dataset)"
   ]
  },
  {
   "cell_type": "code",
   "execution_count": 21,
   "metadata": {
    "ExecuteTime": {
     "end_time": "2020-06-09T12:34:41.828433Z",
     "start_time": "2020-06-09T12:34:40.350512Z"
    }
   },
   "outputs": [
    {
     "data": {
      "application/vnd.jupyter.widget-view+json": {
       "model_id": "5532070c69cc4e2a9372d109753e86d6",
       "version_major": 2,
       "version_minor": 0
      },
      "text/plain": [
       "Box(children=(Box(children=(VBox(children=(Tab(children=(VBox(children=(HBox(children=(Text(value='classifier'…"
      ]
     },
     "metadata": {},
     "output_type": "display_data"
    }
   ],
   "source": [
    "algo = 'adaboost'\n",
    "dataset = datasets[9]\n",
    "\n",
    "project = k12ai_run_project(debug=True,\n",
    "    framework='k12ml', task='classifier', network=algo, dataset=dataset)"
   ]
  },
  {
   "cell_type": "code",
   "execution_count": 23,
   "metadata": {
    "ExecuteTime": {
     "end_time": "2020-06-09T12:36:04.553905Z",
     "start_time": "2020-06-09T12:36:02.897425Z"
    }
   },
   "outputs": [
    {
     "data": {
      "application/vnd.jupyter.widget-view+json": {
       "model_id": "75a963519cdb4ef8b509e331fb78d0c2",
       "version_major": 2,
       "version_minor": 0
      },
      "text/plain": [
       "Box(children=(Box(children=(VBox(children=(Tab(children=(VBox(children=(HBox(children=(Text(value='classifier'…"
      ]
     },
     "metadata": {},
     "output_type": "display_data"
    }
   ],
   "source": [
    "## TODO never end! ???\n",
    "algo = 'gradient_boosting'\n",
    "dataset = datasets[9]\n",
    "\n",
    "project = k12ai_run_project(debug=True,\n",
    "    framework='k12ml', task='classifier', network=algo, dataset=dataset)"
   ]
  }
 ],
 "metadata": {
  "kernelspec": {
   "display_name": "Python 3",
   "language": "python",
   "name": "python3"
  },
  "language_info": {
   "codemirror_mode": {
    "name": "ipython",
    "version": 3
   },
   "file_extension": ".py",
   "mimetype": "text/x-python",
   "name": "python",
   "nbconvert_exporter": "python",
   "pygments_lexer": "ipython3",
   "version": "3.6.9"
  },
  "toc": {
   "base_numbering": 1,
   "nav_menu": {},
   "number_sections": true,
   "sideBar": true,
   "skip_h1_title": true,
   "title_cell": "",
   "title_sidebar": "Contents",
   "toc_cell": true,
   "toc_position": {},
   "toc_section_display": true,
   "toc_window_display": false
  }
 },
 "nbformat": 4,
 "nbformat_minor": 4
}
