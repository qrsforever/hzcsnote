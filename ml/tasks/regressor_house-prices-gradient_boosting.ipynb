{
 "cells": [
  {
   "cell_type": "code",
   "execution_count": 1,
   "metadata": {
    "ExecuteTime": {
     "end_time": "2020-06-09T10:06:03.646420Z",
     "start_time": "2020-06-09T10:06:03.622549Z"
    }
   },
   "outputs": [],
   "source": [
    "%reload_ext autoreload\n",
    "%autoreload 2"
   ]
  },
  {
   "cell_type": "code",
   "execution_count": 2,
   "metadata": {
    "ExecuteTime": {
     "end_time": "2020-06-09T10:06:04.471045Z",
     "start_time": "2020-06-09T10:06:03.649201Z"
    }
   },
   "outputs": [],
   "source": [
    "from k12libs.utils.nb_easy import k12ai_run_project"
   ]
  },
  {
   "cell_type": "code",
   "execution_count": 3,
   "metadata": {
    "ExecuteTime": {
     "end_time": "2020-06-09T10:06:04.509461Z",
     "start_time": "2020-06-09T10:06:04.476421Z"
    }
   },
   "outputs": [],
   "source": [
    "algo = 'gradient_boosting'\n",
    "dataset = 'house-prices'"
   ]
  },
  {
   "cell_type": "code",
   "execution_count": 6,
   "metadata": {
    "ExecuteTime": {
     "end_time": "2020-06-09T10:07:05.721599Z",
     "start_time": "2020-06-09T10:07:02.493556Z"
    },
    "scrolled": false
   },
   "outputs": [
    {
     "data": {
      "text/html": [
       "<style>.container { width:95% !important; }</style>"
      ],
      "text/plain": [
       "<IPython.core.display.HTML object>"
      ]
     },
     "metadata": {},
     "output_type": "display_data"
    },
    {
     "data": {
      "application/vnd.jupyter.widget-view+json": {
       "model_id": "2699cce3da75472bb0e37f5423fdd13c",
       "version_major": 2,
       "version_minor": 0
      },
      "text/plain": [
       "Box(children=(Box(children=(VBox(children=(Tab(children=(VBox(children=(HBox(children=(Text(value='regressor',…"
      ]
     },
     "metadata": {},
     "output_type": "display_data"
    }
   ],
   "source": [
    "project = k12ai_run_project(debug=True, tb_port=9002,\n",
    "    framework='k12ml', task='regressor', network=algo, dataset=dataset)"
   ]
  },
  {
   "cell_type": "markdown",
   "metadata": {},
   "source": [
    "-------------------"
   ]
  },
  {
   "cell_type": "code",
   "execution_count": 46,
   "metadata": {
    "ExecuteTime": {
     "end_time": "2020-09-15T12:04:25.559316Z",
     "start_time": "2020-09-15T12:04:25.547523Z"
    }
   },
   "outputs": [],
   "source": [
    "import numpy as np\n",
    "import pandas as pd\n",
    "import seaborn as sns\n",
    "import matplotlib.pyplot as plt\n",
    "\n",
    "from sklearn import preprocessing \n",
    "from sklearn.ensemble import GradientBoostingRegressor\n",
    "from sklearn.metrics import accuracy_score\n",
    "from sklearn.model_selection import train_test_split\n",
    "from sklearn.metrics import mean_absolute_error\n",
    "from sklearn.metrics import mean_squared_error\n",
    "from sklearn.metrics import mean_squared_log_error\n",
    "from sklearn.metrics import median_absolute_error\n",
    "from sklearn.metrics import r2_score\n",
    "\n",
    "from k12libs.utils.nb_easy import K12AI_DATASETS_ROOT\n",
    "from k12libs.utils.nb_easy import k12ai_set_notebook"
   ]
  },
  {
   "cell_type": "code",
   "execution_count": 17,
   "metadata": {
    "ExecuteTime": {
     "end_time": "2020-09-15T11:09:06.960606Z",
     "start_time": "2020-09-15T11:09:06.875453Z"
    }
   },
   "outputs": [
    {
     "data": {
      "text/plain": [
       "((1449, 71), (1448, 71))"
      ]
     },
     "execution_count": 17,
     "metadata": {},
     "output_type": "execute_result"
    }
   ],
   "source": [
    "df_train = pd.read_csv(f\"{K12AI_DATASETS_ROOT}/ml/house-prices/train.csv\")\n",
    "df_test = pd.read_csv(f\"{K12AI_DATASETS_ROOT}/ml/house-prices/test.csv\")\n",
    "df_train.shape, df_test.shape"
   ]
  },
  {
   "cell_type": "code",
   "execution_count": 20,
   "metadata": {
    "ExecuteTime": {
     "end_time": "2020-09-15T11:09:17.326672Z",
     "start_time": "2020-09-15T11:09:17.316710Z"
    }
   },
   "outputs": [],
   "source": [
    "# 添加新特征\n",
    "df_train['TotalSA'] = df_train['TotalBsmtSF'] + df_train['1stFlrSF'] + df_train['2ndFlrSF']"
   ]
  },
  {
   "cell_type": "code",
   "execution_count": 21,
   "metadata": {
    "ExecuteTime": {
     "end_time": "2020-09-15T11:09:18.456386Z",
     "start_time": "2020-09-15T11:09:18.387143Z"
    }
   },
   "outputs": [],
   "source": [
    "# 顺序类别特征编码\n",
    "bin_map  = {\n",
    "    'TA':2,'Gd':3, 'Fa':1,'Ex':4,'Po':1,'None':0,'Y':1,'N':0,'Reg':3,'IR1':2,'IR2':1,'IR3':0,\"None\" : 0,\n",
    "    \"No\" : 2, \"Mn\" : 2, \"Av\": 3,\"Gd\" : 4,\"Unf\" : 1, \"LwQ\": 2, \"Rec\" : 3,\"BLQ\" : 4, \"ALQ\" : 5, \"GLQ\" : 6\n",
    "}\n",
    "df_train['PavedDrive'] = df_train['PavedDrive'].map({'N' : 0, 'P' : 1, 'Y' : 2})\n",
    "df_train['ExterQual'] = df_train['ExterQual'].map(bin_map)\n",
    "df_train['ExterCond'] = df_train['ExterCond'].map(bin_map)\n",
    "df_train['BsmtCond'] = df_train['BsmtCond'].map(bin_map)\n",
    "df_train['BsmtQual'] = df_train['BsmtQual'].map(bin_map)\n",
    "df_train['HeatingQC'] = df_train['HeatingQC'].map(bin_map)\n",
    "df_train['KitchenQual'] = df_train['KitchenQual'].map(bin_map)\n",
    "df_train['FireplaceQu'] = df_train['FireplaceQu'].map(bin_map)\n",
    "df_train['GarageQual'] = df_train['GarageQual'].map(bin_map)\n",
    "df_train['GarageCond'] = df_train['GarageCond'].map(bin_map)\n",
    "df_train['CentralAir'] = df_train['CentralAir'].map(bin_map)\n",
    "df_train['LotShape'] = df_train['LotShape'].map(bin_map)\n",
    "df_train['BsmtExposure'] = df_train['BsmtExposure'].map(bin_map)\n",
    "df_train['BsmtFinType1'] = df_train['BsmtFinType1'].map(bin_map)\n",
    "df_train['BsmtFinType2'] = df_train['BsmtFinType2'].map(bin_map)"
   ]
  },
  {
   "cell_type": "code",
   "execution_count": 22,
   "metadata": {
    "ExecuteTime": {
     "end_time": "2020-09-15T11:09:19.280399Z",
     "start_time": "2020-09-15T11:09:19.269650Z"
    }
   },
   "outputs": [],
   "source": [
    "# 时间特征编码\n",
    "lab = preprocessing.LabelEncoder()\n",
    "df_train['YearBuilt'] = lab.fit_transform(df_train['YearBuilt'])\n",
    "df_train['YearRemodAdd'] = lab.fit_transform(df_train['YearRemodAdd'])"
   ]
  },
  {
   "cell_type": "code",
   "execution_count": 23,
   "metadata": {
    "ExecuteTime": {
     "end_time": "2020-09-15T11:09:22.625994Z",
     "start_time": "2020-09-15T11:09:22.549232Z"
    }
   },
   "outputs": [
    {
     "data": {
      "text/html": [
       "<div>\n",
       "<style scoped>\n",
       "    .dataframe tbody tr th:only-of-type {\n",
       "        vertical-align: middle;\n",
       "    }\n",
       "\n",
       "    .dataframe tbody tr th {\n",
       "        vertical-align: top;\n",
       "    }\n",
       "\n",
       "    .dataframe thead th {\n",
       "        text-align: right;\n",
       "    }\n",
       "</style>\n",
       "<table border=\"1\" class=\"dataframe\">\n",
       "  <thead>\n",
       "    <tr style=\"text-align: right;\">\n",
       "      <th></th>\n",
       "      <th>LotShape</th>\n",
       "      <th>ExterQual</th>\n",
       "      <th>ExterCond</th>\n",
       "      <th>BsmtQual</th>\n",
       "      <th>BsmtCond</th>\n",
       "      <th>BsmtExposure</th>\n",
       "      <th>BsmtFinType1</th>\n",
       "      <th>BsmtFinType2</th>\n",
       "      <th>HeatingQC</th>\n",
       "      <th>CentralAir</th>\n",
       "      <th>...</th>\n",
       "      <th>SaleType_ConLw</th>\n",
       "      <th>SaleType_New</th>\n",
       "      <th>SaleType_Oth</th>\n",
       "      <th>SaleType_WD</th>\n",
       "      <th>SaleCondition_Abnorml</th>\n",
       "      <th>SaleCondition_AdjLand</th>\n",
       "      <th>SaleCondition_Alloca</th>\n",
       "      <th>SaleCondition_Family</th>\n",
       "      <th>SaleCondition_Normal</th>\n",
       "      <th>SaleCondition_Partial</th>\n",
       "    </tr>\n",
       "  </thead>\n",
       "  <tbody>\n",
       "    <tr>\n",
       "      <th>0</th>\n",
       "      <td>3</td>\n",
       "      <td>4</td>\n",
       "      <td>2</td>\n",
       "      <td>4</td>\n",
       "      <td>2</td>\n",
       "      <td>2</td>\n",
       "      <td>6</td>\n",
       "      <td>1</td>\n",
       "      <td>4</td>\n",
       "      <td>1</td>\n",
       "      <td>...</td>\n",
       "      <td>0</td>\n",
       "      <td>0</td>\n",
       "      <td>0</td>\n",
       "      <td>1</td>\n",
       "      <td>0</td>\n",
       "      <td>0</td>\n",
       "      <td>0</td>\n",
       "      <td>0</td>\n",
       "      <td>1</td>\n",
       "      <td>0</td>\n",
       "    </tr>\n",
       "    <tr>\n",
       "      <th>1</th>\n",
       "      <td>3</td>\n",
       "      <td>2</td>\n",
       "      <td>2</td>\n",
       "      <td>4</td>\n",
       "      <td>2</td>\n",
       "      <td>4</td>\n",
       "      <td>5</td>\n",
       "      <td>1</td>\n",
       "      <td>4</td>\n",
       "      <td>1</td>\n",
       "      <td>...</td>\n",
       "      <td>0</td>\n",
       "      <td>0</td>\n",
       "      <td>0</td>\n",
       "      <td>1</td>\n",
       "      <td>0</td>\n",
       "      <td>0</td>\n",
       "      <td>0</td>\n",
       "      <td>0</td>\n",
       "      <td>1</td>\n",
       "      <td>0</td>\n",
       "    </tr>\n",
       "    <tr>\n",
       "      <th>2</th>\n",
       "      <td>2</td>\n",
       "      <td>4</td>\n",
       "      <td>2</td>\n",
       "      <td>4</td>\n",
       "      <td>2</td>\n",
       "      <td>2</td>\n",
       "      <td>6</td>\n",
       "      <td>1</td>\n",
       "      <td>4</td>\n",
       "      <td>1</td>\n",
       "      <td>...</td>\n",
       "      <td>0</td>\n",
       "      <td>0</td>\n",
       "      <td>0</td>\n",
       "      <td>1</td>\n",
       "      <td>0</td>\n",
       "      <td>0</td>\n",
       "      <td>0</td>\n",
       "      <td>0</td>\n",
       "      <td>1</td>\n",
       "      <td>0</td>\n",
       "    </tr>\n",
       "    <tr>\n",
       "      <th>3</th>\n",
       "      <td>2</td>\n",
       "      <td>2</td>\n",
       "      <td>2</td>\n",
       "      <td>2</td>\n",
       "      <td>4</td>\n",
       "      <td>2</td>\n",
       "      <td>5</td>\n",
       "      <td>1</td>\n",
       "      <td>4</td>\n",
       "      <td>1</td>\n",
       "      <td>...</td>\n",
       "      <td>0</td>\n",
       "      <td>0</td>\n",
       "      <td>0</td>\n",
       "      <td>1</td>\n",
       "      <td>1</td>\n",
       "      <td>0</td>\n",
       "      <td>0</td>\n",
       "      <td>0</td>\n",
       "      <td>0</td>\n",
       "      <td>0</td>\n",
       "    </tr>\n",
       "    <tr>\n",
       "      <th>4</th>\n",
       "      <td>2</td>\n",
       "      <td>4</td>\n",
       "      <td>2</td>\n",
       "      <td>4</td>\n",
       "      <td>2</td>\n",
       "      <td>3</td>\n",
       "      <td>6</td>\n",
       "      <td>1</td>\n",
       "      <td>4</td>\n",
       "      <td>1</td>\n",
       "      <td>...</td>\n",
       "      <td>0</td>\n",
       "      <td>0</td>\n",
       "      <td>0</td>\n",
       "      <td>1</td>\n",
       "      <td>0</td>\n",
       "      <td>0</td>\n",
       "      <td>0</td>\n",
       "      <td>0</td>\n",
       "      <td>1</td>\n",
       "      <td>0</td>\n",
       "    </tr>\n",
       "  </tbody>\n",
       "</table>\n",
       "<p>5 rows × 202 columns</p>\n",
       "</div>"
      ],
      "text/plain": [
       "   LotShape  ExterQual  ExterCond  BsmtQual  BsmtCond  BsmtExposure  \\\n",
       "0         3          4          2         4         2             2   \n",
       "1         3          2          2         4         2             4   \n",
       "2         2          4          2         4         2             2   \n",
       "3         2          2          2         2         4             2   \n",
       "4         2          4          2         4         2             3   \n",
       "\n",
       "   BsmtFinType1  BsmtFinType2  HeatingQC  CentralAir  ...  SaleType_ConLw  \\\n",
       "0             6             1          4           1  ...               0   \n",
       "1             5             1          4           1  ...               0   \n",
       "2             6             1          4           1  ...               0   \n",
       "3             5             1          4           1  ...               0   \n",
       "4             6             1          4           1  ...               0   \n",
       "\n",
       "   SaleType_New  SaleType_Oth  SaleType_WD  SaleCondition_Abnorml  \\\n",
       "0             0             0            1                      0   \n",
       "1             0             0            1                      0   \n",
       "2             0             0            1                      0   \n",
       "3             0             0            1                      1   \n",
       "4             0             0            1                      0   \n",
       "\n",
       "   SaleCondition_AdjLand  SaleCondition_Alloca  SaleCondition_Family  \\\n",
       "0                      0                     0                     0   \n",
       "1                      0                     0                     0   \n",
       "2                      0                     0                     0   \n",
       "3                      0                     0                     0   \n",
       "4                      0                     0                     0   \n",
       "\n",
       "   SaleCondition_Normal  SaleCondition_Partial  \n",
       "0                     1                      0  \n",
       "1                     1                      0  \n",
       "2                     1                      0  \n",
       "3                     0                      0  \n",
       "4                     1                      0  \n",
       "\n",
       "[5 rows x 202 columns]"
      ]
     },
     "execution_count": 23,
     "metadata": {},
     "output_type": "execute_result"
    }
   ],
   "source": [
    "# One-Hot编码\n",
    "rest_object_df = df_train.select_dtypes(include=['object'])\n",
    "df_train = pd.get_dummies(df_train, columns=rest_object_df.columns)\n",
    "df_train.head()"
   ]
  },
  {
   "cell_type": "code",
   "execution_count": 25,
   "metadata": {
    "ExecuteTime": {
     "end_time": "2020-09-15T11:14:03.607630Z",
     "start_time": "2020-09-15T11:14:03.454737Z"
    }
   },
   "outputs": [],
   "source": [
    "# 数据对数转换\n",
    "skew = df_train.apply(lambda x: x.skew())\n",
    "skew.drop(['SalePrice'], inplace=True)\n",
    "skew_features = skew[abs(skew) >= 1].index\n",
    "df_train[skew_features] = np.log1p(df_train[skew_features])"
   ]
  },
  {
   "cell_type": "code",
   "execution_count": 26,
   "metadata": {
    "ExecuteTime": {
     "end_time": "2020-09-15T11:15:22.781500Z",
     "start_time": "2020-09-15T11:15:22.441415Z"
    }
   },
   "outputs": [
    {
     "data": {
      "text/html": [
       "<div>\n",
       "<style scoped>\n",
       "    .dataframe tbody tr th:only-of-type {\n",
       "        vertical-align: middle;\n",
       "    }\n",
       "\n",
       "    .dataframe tbody tr th {\n",
       "        vertical-align: top;\n",
       "    }\n",
       "\n",
       "    .dataframe thead th {\n",
       "        text-align: right;\n",
       "    }\n",
       "</style>\n",
       "<table border=\"1\" class=\"dataframe\">\n",
       "  <thead>\n",
       "    <tr style=\"text-align: right;\">\n",
       "      <th></th>\n",
       "      <th>LotShape</th>\n",
       "      <th>ExterQual</th>\n",
       "      <th>ExterCond</th>\n",
       "      <th>BsmtQual</th>\n",
       "      <th>BsmtCond</th>\n",
       "      <th>BsmtExposure</th>\n",
       "      <th>BsmtFinType1</th>\n",
       "      <th>BsmtFinType2</th>\n",
       "      <th>HeatingQC</th>\n",
       "      <th>CentralAir</th>\n",
       "      <th>...</th>\n",
       "      <th>SaleType_ConLw</th>\n",
       "      <th>SaleType_New</th>\n",
       "      <th>SaleType_Oth</th>\n",
       "      <th>SaleType_WD</th>\n",
       "      <th>SaleCondition_Abnorml</th>\n",
       "      <th>SaleCondition_AdjLand</th>\n",
       "      <th>SaleCondition_Alloca</th>\n",
       "      <th>SaleCondition_Family</th>\n",
       "      <th>SaleCondition_Normal</th>\n",
       "      <th>SaleCondition_Partial</th>\n",
       "    </tr>\n",
       "  </thead>\n",
       "  <tbody>\n",
       "    <tr>\n",
       "      <th>0</th>\n",
       "      <td>0.634</td>\n",
       "      <td>1.302</td>\n",
       "      <td>-0.266</td>\n",
       "      <td>0.944</td>\n",
       "      <td>-0.009</td>\n",
       "      <td>-0.380</td>\n",
       "      <td>1.166</td>\n",
       "      <td>-0.238</td>\n",
       "      <td>0.688</td>\n",
       "      <td>0.263</td>\n",
       "      <td>...</td>\n",
       "      <td>-0.059</td>\n",
       "      <td>-0.299</td>\n",
       "      <td>-0.046</td>\n",
       "      <td>0.388</td>\n",
       "      <td>-0.274</td>\n",
       "      <td>-0.053</td>\n",
       "      <td>-0.091</td>\n",
       "      <td>-0.118</td>\n",
       "      <td>0.466</td>\n",
       "      <td>-0.303</td>\n",
       "    </tr>\n",
       "    <tr>\n",
       "      <th>1</th>\n",
       "      <td>0.634</td>\n",
       "      <td>-0.744</td>\n",
       "      <td>-0.266</td>\n",
       "      <td>0.944</td>\n",
       "      <td>-0.009</td>\n",
       "      <td>2.341</td>\n",
       "      <td>0.691</td>\n",
       "      <td>-0.238</td>\n",
       "      <td>0.688</td>\n",
       "      <td>0.263</td>\n",
       "      <td>...</td>\n",
       "      <td>-0.059</td>\n",
       "      <td>-0.299</td>\n",
       "      <td>-0.046</td>\n",
       "      <td>0.388</td>\n",
       "      <td>-0.274</td>\n",
       "      <td>-0.053</td>\n",
       "      <td>-0.091</td>\n",
       "      <td>-0.118</td>\n",
       "      <td>0.466</td>\n",
       "      <td>-0.303</td>\n",
       "    </tr>\n",
       "    <tr>\n",
       "      <th>2</th>\n",
       "      <td>-0.851</td>\n",
       "      <td>1.302</td>\n",
       "      <td>-0.266</td>\n",
       "      <td>0.944</td>\n",
       "      <td>-0.009</td>\n",
       "      <td>-0.380</td>\n",
       "      <td>1.166</td>\n",
       "      <td>-0.238</td>\n",
       "      <td>0.688</td>\n",
       "      <td>0.263</td>\n",
       "      <td>...</td>\n",
       "      <td>-0.059</td>\n",
       "      <td>-0.299</td>\n",
       "      <td>-0.046</td>\n",
       "      <td>0.388</td>\n",
       "      <td>-0.274</td>\n",
       "      <td>-0.053</td>\n",
       "      <td>-0.091</td>\n",
       "      <td>-0.118</td>\n",
       "      <td>0.466</td>\n",
       "      <td>-0.303</td>\n",
       "    </tr>\n",
       "    <tr>\n",
       "      <th>3</th>\n",
       "      <td>-0.851</td>\n",
       "      <td>-0.744</td>\n",
       "      <td>-0.266</td>\n",
       "      <td>-0.829</td>\n",
       "      <td>3.575</td>\n",
       "      <td>-0.380</td>\n",
       "      <td>0.691</td>\n",
       "      <td>-0.238</td>\n",
       "      <td>0.688</td>\n",
       "      <td>0.263</td>\n",
       "      <td>...</td>\n",
       "      <td>-0.059</td>\n",
       "      <td>-0.299</td>\n",
       "      <td>-0.046</td>\n",
       "      <td>0.388</td>\n",
       "      <td>3.652</td>\n",
       "      <td>-0.053</td>\n",
       "      <td>-0.091</td>\n",
       "      <td>-0.118</td>\n",
       "      <td>-2.143</td>\n",
       "      <td>-0.303</td>\n",
       "    </tr>\n",
       "    <tr>\n",
       "      <th>4</th>\n",
       "      <td>-0.851</td>\n",
       "      <td>1.302</td>\n",
       "      <td>-0.266</td>\n",
       "      <td>0.944</td>\n",
       "      <td>-0.009</td>\n",
       "      <td>0.981</td>\n",
       "      <td>1.166</td>\n",
       "      <td>-0.238</td>\n",
       "      <td>0.688</td>\n",
       "      <td>0.263</td>\n",
       "      <td>...</td>\n",
       "      <td>-0.059</td>\n",
       "      <td>-0.299</td>\n",
       "      <td>-0.046</td>\n",
       "      <td>0.388</td>\n",
       "      <td>-0.274</td>\n",
       "      <td>-0.053</td>\n",
       "      <td>-0.091</td>\n",
       "      <td>-0.118</td>\n",
       "      <td>0.466</td>\n",
       "      <td>-0.303</td>\n",
       "    </tr>\n",
       "  </tbody>\n",
       "</table>\n",
       "<p>5 rows × 202 columns</p>\n",
       "</div>"
      ],
      "text/plain": [
       "   LotShape  ExterQual  ExterCond  BsmtQual  BsmtCond  BsmtExposure  \\\n",
       "0     0.634      1.302     -0.266     0.944    -0.009        -0.380   \n",
       "1     0.634     -0.744     -0.266     0.944    -0.009         2.341   \n",
       "2    -0.851      1.302     -0.266     0.944    -0.009        -0.380   \n",
       "3    -0.851     -0.744     -0.266    -0.829     3.575        -0.380   \n",
       "4    -0.851      1.302     -0.266     0.944    -0.009         0.981   \n",
       "\n",
       "   BsmtFinType1  BsmtFinType2  HeatingQC  CentralAir  ...  SaleType_ConLw  \\\n",
       "0         1.166        -0.238      0.688       0.263  ...          -0.059   \n",
       "1         0.691        -0.238      0.688       0.263  ...          -0.059   \n",
       "2         1.166        -0.238      0.688       0.263  ...          -0.059   \n",
       "3         0.691        -0.238      0.688       0.263  ...          -0.059   \n",
       "4         1.166        -0.238      0.688       0.263  ...          -0.059   \n",
       "\n",
       "   SaleType_New  SaleType_Oth  SaleType_WD  SaleCondition_Abnorml  \\\n",
       "0        -0.299        -0.046        0.388                 -0.274   \n",
       "1        -0.299        -0.046        0.388                 -0.274   \n",
       "2        -0.299        -0.046        0.388                 -0.274   \n",
       "3        -0.299        -0.046        0.388                  3.652   \n",
       "4        -0.299        -0.046        0.388                 -0.274   \n",
       "\n",
       "   SaleCondition_AdjLand  SaleCondition_Alloca  SaleCondition_Family  \\\n",
       "0                 -0.053                -0.091                -0.118   \n",
       "1                 -0.053                -0.091                -0.118   \n",
       "2                 -0.053                -0.091                -0.118   \n",
       "3                 -0.053                -0.091                -0.118   \n",
       "4                 -0.053                -0.091                -0.118   \n",
       "\n",
       "   SaleCondition_Normal  SaleCondition_Partial  \n",
       "0                 0.466                 -0.303  \n",
       "1                 0.466                 -0.303  \n",
       "2                 0.466                 -0.303  \n",
       "3                -2.143                 -0.303  \n",
       "4                 0.466                 -0.303  \n",
       "\n",
       "[5 rows x 202 columns]"
      ]
     },
     "execution_count": 26,
     "metadata": {},
     "output_type": "execute_result"
    }
   ],
   "source": [
    "# 数据正则化\n",
    "def normalize(x):\n",
    "    if x.name in ['SalePrice']:\n",
    "        return x\n",
    "    return round((x - x.mean()) / x.std(), 3)\n",
    "df_train = df_train.apply(normalize)\n",
    "df_train.head()"
   ]
  },
  {
   "cell_type": "code",
   "execution_count": 41,
   "metadata": {
    "ExecuteTime": {
     "end_time": "2020-09-15T11:56:22.080870Z",
     "start_time": "2020-09-15T11:56:22.061608Z"
    }
   },
   "outputs": [],
   "source": [
    "X = df_train.loc[:, set(df_train.columns) - set(('SalePrice'))]\n",
    "y = df_train.loc[:, 'SalePrice']\n",
    "X_train, X_test, y_train, y_test = train_test_split(\n",
    "    X,\n",
    "    y,\n",
    "    train_size=.8)"
   ]
  },
  {
   "cell_type": "code",
   "execution_count": 42,
   "metadata": {
    "ExecuteTime": {
     "end_time": "2020-09-15T12:01:23.364151Z",
     "start_time": "2020-09-15T12:01:23.358384Z"
    }
   },
   "outputs": [],
   "source": [
    "gbr = GradientBoostingRegressor(\n",
    "    loss = 'ls',  # least squares\n",
    "    learning_rate = 0.1, \n",
    ")"
   ]
  },
  {
   "cell_type": "code",
   "execution_count": 43,
   "metadata": {
    "ExecuteTime": {
     "end_time": "2020-09-15T12:02:01.932824Z",
     "start_time": "2020-09-15T12:02:01.032527Z"
    }
   },
   "outputs": [
    {
     "data": {
      "text/plain": [
       "GradientBoostingRegressor()"
      ]
     },
     "execution_count": 43,
     "metadata": {},
     "output_type": "execute_result"
    }
   ],
   "source": [
    "gbr.fit(X_train, y_train)"
   ]
  },
  {
   "cell_type": "code",
   "execution_count": 44,
   "metadata": {
    "ExecuteTime": {
     "end_time": "2020-09-15T12:03:11.258294Z",
     "start_time": "2020-09-15T12:03:11.240778Z"
    }
   },
   "outputs": [],
   "source": [
    "predict = gbr.predict(X_test)"
   ]
  },
  {
   "cell_type": "code",
   "execution_count": 47,
   "metadata": {
    "ExecuteTime": {
     "end_time": "2020-09-15T12:04:55.212869Z",
     "start_time": "2020-09-15T12:04:55.201684Z"
    }
   },
   "outputs": [
    {
     "data": {
      "text/plain": [
       "0.9998691702136395"
      ]
     },
     "execution_count": 47,
     "metadata": {},
     "output_type": "execute_result"
    }
   ],
   "source": [
    "r2_score(y_test, predict)"
   ]
  },
  {
   "cell_type": "code",
   "execution_count": 48,
   "metadata": {
    "ExecuteTime": {
     "end_time": "2020-09-15T12:06:38.351232Z",
     "start_time": "2020-09-15T12:06:38.340493Z"
    }
   },
   "outputs": [
    {
     "data": {
      "text/plain": [
       "617.2697786762855"
      ]
     },
     "execution_count": 48,
     "metadata": {},
     "output_type": "execute_result"
    }
   ],
   "source": [
    "mean_absolute_error(y_test, predict)"
   ]
  },
  {
   "cell_type": "code",
   "execution_count": 49,
   "metadata": {
    "ExecuteTime": {
     "end_time": "2020-09-15T12:06:49.048863Z",
     "start_time": "2020-09-15T12:06:49.037401Z"
    }
   },
   "outputs": [
    {
     "data": {
      "text/plain": [
       "750603.1397320027"
      ]
     },
     "execution_count": 49,
     "metadata": {},
     "output_type": "execute_result"
    }
   ],
   "source": [
    "mean_squared_error(y_test, predict)"
   ]
  },
  {
   "cell_type": "code",
   "execution_count": 50,
   "metadata": {
    "ExecuteTime": {
     "end_time": "2020-09-15T12:07:01.103790Z",
     "start_time": "2020-09-15T12:07:01.090985Z"
    }
   },
   "outputs": [
    {
     "data": {
      "text/plain": [
       "2.825897000274687e-05"
      ]
     },
     "execution_count": 50,
     "metadata": {},
     "output_type": "execute_result"
    }
   ],
   "source": [
    "mean_squared_log_error(y_test, predict)"
   ]
  },
  {
   "cell_type": "code",
   "execution_count": 51,
   "metadata": {
    "ExecuteTime": {
     "end_time": "2020-09-15T12:07:40.870715Z",
     "start_time": "2020-09-15T12:07:40.860540Z"
    }
   },
   "outputs": [
    {
     "data": {
      "text/plain": [
       "395.6242583932908"
      ]
     },
     "execution_count": 51,
     "metadata": {},
     "output_type": "execute_result"
    }
   ],
   "source": [
    "median_absolute_error(y_test, predict)"
   ]
  }
 ],
 "metadata": {
  "kernelspec": {
   "display_name": "Python 3",
   "language": "python",
   "name": "python3"
  },
  "language_info": {
   "codemirror_mode": {
    "name": "ipython",
    "version": 3
   },
   "file_extension": ".py",
   "mimetype": "text/x-python",
   "name": "python",
   "nbconvert_exporter": "python",
   "pygments_lexer": "ipython3",
   "version": "3.6.9"
  },
  "toc": {
   "base_numbering": 1,
   "nav_menu": {},
   "number_sections": true,
   "sideBar": true,
   "skip_h1_title": false,
   "title_cell": "Table of Contents",
   "title_sidebar": "Contents",
   "toc_cell": false,
   "toc_position": {},
   "toc_section_display": true,
   "toc_window_display": false
  }
 },
 "nbformat": 4,
 "nbformat_minor": 4
}
