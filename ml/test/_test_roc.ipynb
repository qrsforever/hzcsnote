{
 "cells": [
  {
   "cell_type": "code",
   "execution_count": 272,
   "metadata": {
    "ExecuteTime": {
     "end_time": "2020-06-15T08:42:30.207817Z",
     "start_time": "2020-06-15T08:42:30.194790Z"
    }
   },
   "outputs": [],
   "source": [
    "import matplotlib.pyplot as plt\n",
    "from sklearn import datasets\n",
    "from sklearn.svm import SVC\n",
    "from sklearn import svm, datasets\n",
    "from sklearn.model_selection import train_test_split\n",
    "from sklearn.preprocessing import label_binarize\n",
    "from sklearn.preprocessing._label import _encode\n",
    "from sklearn.metrics import roc_curve, auc\n",
    "from sklearn.multiclass import OneVsRestClassifier\n",
    "from sklearn.tree import DecisionTreeClassifier\n",
    "from sklearn.metrics import accuracy_score\n",
    "from scipy import interp\n",
    "from sklearn.metrics import roc_auc_score\n",
    "from itertools import cycle\n",
    "import numpy as np"
   ]
  },
  {
   "cell_type": "code",
   "execution_count": 273,
   "metadata": {
    "ExecuteTime": {
     "end_time": "2020-06-15T08:42:30.230943Z",
     "start_time": "2020-06-15T08:42:30.212405Z"
    }
   },
   "outputs": [
    {
     "data": {
      "text/plain": [
       "array([0, 1, 2])"
      ]
     },
     "execution_count": 273,
     "metadata": {},
     "output_type": "execute_result"
    }
   ],
   "source": [
    "iris = datasets.load_iris()\n",
    "X = iris.data\n",
    "y = iris.target\n",
    "np.unique(y)"
   ]
  },
  {
   "cell_type": "code",
   "execution_count": 275,
   "metadata": {
    "ExecuteTime": {
     "end_time": "2020-06-15T08:42:30.263484Z",
     "start_time": "2020-06-15T08:42:30.251157Z"
    }
   },
   "outputs": [],
   "source": [
    "def plot_roc_auc(fpr, tpr, auc):\n",
    "    colors = cycle(['blue', 'red', 'green'])\n",
    "    for i, color in zip(range(len(auc)), colors):\n",
    "        plt.plot(fpr[i], tpr[i], color=color, lw=1,\n",
    "                 label='ROC curve of class {0} (area = {1:0.2f})'\n",
    "                 ''.format(i, auc[i]))\n",
    "\n",
    "    plt.plot([0, 1], [0, 1], 'k--', lw=1)\n",
    "    plt.xlim([-0.05, 1.0])\n",
    "    plt.ylim([0.0, 1.05])\n",
    "    plt.xlabel('False Positive Rate')\n",
    "    plt.ylabel('True Positive Rate')\n",
    "    plt.title('Receiver operating characteristic for multi-class data')\n",
    "    plt.legend(loc=\"lower right\")\n",
    "    plt.show()"
   ]
  },
  {
   "cell_type": "markdown",
   "metadata": {},
   "source": [
    "# DecisionTree"
   ]
  },
  {
   "cell_type": "markdown",
   "metadata": {
    "ExecuteTime": {
     "end_time": "2020-06-12T14:26:37.513634Z",
     "start_time": "2020-06-12T14:26:37.508192Z"
    }
   },
   "source": [
    "## Directly Using DecisionTreeClassifier"
   ]
  },
  {
   "cell_type": "code",
   "execution_count": 276,
   "metadata": {
    "ExecuteTime": {
     "end_time": "2020-06-15T08:42:30.428646Z",
     "start_time": "2020-06-15T08:42:30.266233Z"
    }
   },
   "outputs": [
    {
     "data": {
      "text/plain": [
       "(array([2, 8, 2, 6, 6]),\n",
       " (899, 10),\n",
       " array([[0., 0., 1., 0., 0., 0., 0., 0., 0., 0.],\n",
       "        [0., 0., 0., 0., 0., 0., 0., 0., 1., 0.],\n",
       "        [0., 0., 1., 0., 0., 0., 0., 0., 0., 0.],\n",
       "        [0., 0., 0., 0., 0., 0., 1., 0., 0., 0.],\n",
       "        [0., 0., 0., 0., 0., 0., 1., 0., 0., 0.]]))"
      ]
     },
     "execution_count": 276,
     "metadata": {},
     "output_type": "execute_result"
    }
   ],
   "source": [
    "# iris = datasets.load_iris()\n",
    "iris = datasets.load_digits()\n",
    "X = iris.data\n",
    "y = iris.target\n",
    "n_classes = 3\n",
    "X_train, X_test, y_train, y_test = train_test_split(X, y, test_size=.5, random_state=0)\n",
    "classifier = DecisionTreeClassifier(random_state=0)\n",
    "y_score = classifier.fit(X_train, y_train).predict_proba(X_test)\n",
    "y_test[:5], y_score.shape, y_score[:5]"
   ]
  },
  {
   "cell_type": "code",
   "execution_count": 277,
   "metadata": {
    "ExecuteTime": {
     "end_time": "2020-06-15T08:42:30.434965Z",
     "start_time": "2020-06-15T08:42:30.431351Z"
    }
   },
   "outputs": [],
   "source": [
    "# _encode(y_test)\n",
    "# _encode(y_test, uniques=_encode(y_test), encode=True)"
   ]
  },
  {
   "cell_type": "code",
   "execution_count": 278,
   "metadata": {
    "ExecuteTime": {
     "end_time": "2020-06-15T08:42:30.451306Z",
     "start_time": "2020-06-15T08:42:30.437755Z"
    }
   },
   "outputs": [
    {
     "data": {
      "text/plain": [
       "array([[0, 0, 1, 0, 0, 0, 0, 0, 0, 0],\n",
       "       [0, 0, 0, 0, 0, 0, 0, 0, 1, 0],\n",
       "       [0, 0, 1, 0, 0, 0, 0, 0, 0, 0],\n",
       "       [0, 0, 0, 0, 0, 0, 1, 0, 0, 0],\n",
       "       [0, 0, 0, 0, 0, 0, 1, 0, 0, 0]])"
      ]
     },
     "execution_count": 278,
     "metadata": {},
     "output_type": "execute_result"
    }
   ],
   "source": [
    "y_true_multilabel = label_binarize(y_test, _encode(y_test))\n",
    "y_true_multilabel[:5] "
   ]
  },
  {
   "cell_type": "code",
   "execution_count": 279,
   "metadata": {
    "ExecuteTime": {
     "end_time": "2020-06-15T08:42:30.471623Z",
     "start_time": "2020-06-15T08:42:30.457127Z"
    }
   },
   "outputs": [
    {
     "data": {
      "text/plain": [
       "{0: array([0.        , 0.00617284, 1.        ]),\n",
       " 1: array([0.        , 0.03584672, 1.        ]),\n",
       " 2: array([0.        , 0.01363073, 1.        ])}"
      ]
     },
     "execution_count": 279,
     "metadata": {},
     "output_type": "execute_result"
    }
   ],
   "source": [
    "fpr = dict()\n",
    "tpr = dict()\n",
    "roc_auc = dict()\n",
    "for i in range(n_classes):\n",
    "    fpr[i], tpr[i], _ = roc_curve(y_true_multilabel[:, i], y_score[:, i])\n",
    "    roc_auc[i] = auc(fpr[i], tpr[i])\n",
    "fpr"
   ]
  },
  {
   "cell_type": "code",
   "execution_count": 280,
   "metadata": {
    "ExecuteTime": {
     "end_time": "2020-06-15T08:42:30.724811Z",
     "start_time": "2020-06-15T08:42:30.474864Z"
    }
   },
   "outputs": [
    {
     "data": {
      "image/png": "[encoded data removed]",
      "text/plain": [
       "<Figure size 432x288 with 1 Axes>"
      ]
     },
     "metadata": {
      "needs_background": "light"
     },
     "output_type": "display_data"
    }
   ],
   "source": [
    "plot_roc_auc(fpr, tpr, roc_auc)"
   ]
  },
  {
   "cell_type": "markdown",
   "metadata": {},
   "source": [
    "## Using OneVsRestClassifier"
   ]
  },
  {
   "cell_type": "code",
   "execution_count": 474,
   "metadata": {
    "ExecuteTime": {
     "end_time": "2020-06-15T15:17:36.096203Z",
     "start_time": "2020-06-15T15:17:36.058774Z"
    }
   },
   "outputs": [
    {
     "data": {
      "text/plain": [
       "(array([[0, 0, 1],\n",
       "        [0, 1, 0],\n",
       "        [1, 0, 0],\n",
       "        [0, 0, 1],\n",
       "        [1, 0, 0]]),\n",
       " (75, 3),\n",
       " array([[0., 0., 1.],\n",
       "        [0., 1., 0.],\n",
       "        [1., 0., 0.],\n",
       "        [0., 0., 1.],\n",
       "        [1., 0., 0.]]),\n",
       " 0.88)"
      ]
     },
     "execution_count": 474,
     "metadata": {},
     "output_type": "execute_result"
    }
   ],
   "source": [
    "X = iris.data\n",
    "y = iris.target\n",
    "y = label_binarize(y, classes=np.unique(y))\n",
    "n_classes = y.shape[1]\n",
    "X_train, X_test, y_train, y_test = train_test_split(X, y, test_size=.5, random_state=0)\n",
    "classifier = OneVsRestClassifier(DecisionTreeClassifier(random_state=0))\n",
    "y_score = classifier.fit(X_train, y_train).predict_proba(X_test)\n",
    "y_test[:5], y_score.shape, y_score[:5], accuracy_score(y_score, y_test)"
   ]
  },
  {
   "cell_type": "code",
   "execution_count": 282,
   "metadata": {
    "ExecuteTime": {
     "end_time": "2020-06-15T08:42:30.862799Z",
     "start_time": "2020-06-15T08:42:30.835664Z"
    }
   },
   "outputs": [
    {
     "data": {
      "text/plain": [
       "({0: array([0.        , 0.00617284, 1.        ]),\n",
       "  1: array([0.        , 0.02843016, 1.        ]),\n",
       "  2: array([0.        , 0.02354399, 1.        ]),\n",
       "  3: array([0.        , 0.01240695, 1.        ]),\n",
       "  4: array([0.        , 0.02673147, 1.        ]),\n",
       "  5: array([0.        , 0.02149178, 1.        ]),\n",
       "  6: array([0.        , 0.01234568, 1.        ]),\n",
       "  7: array([0.        , 0.01583435, 1.        ]),\n",
       "  8: array([0.        , 0.02106568, 1.        ]),\n",
       "  9: array([0.        , 0.02230483, 1.        ])},\n",
       " {0: array([0.        , 0.98876404, 1.        ]),\n",
       "  1: array([0.        , 0.85555556, 1.        ]),\n",
       "  2: array([0.        , 0.89130435, 1.        ]),\n",
       "  3: array([0.       , 0.8172043, 1.       ]),\n",
       "  4: array([0.        , 0.82894737, 1.        ]),\n",
       "  5: array([0.        , 0.73148148, 1.        ]),\n",
       "  6: array([0.        , 0.91011236, 1.        ]),\n",
       "  7: array([0.        , 0.93589744, 1.        ]),\n",
       "  8: array([0.        , 0.64130435, 1.        ]),\n",
       "  9: array([0.        , 0.67391304, 1.        ])},\n",
       " (3,),\n",
       " array([0, 0, 0, 0, 0, 0, 0, 0, 0, 1, 0, 0, 0, 0, 0, 0, 0, 0, 1, 0, 0, 0,\n",
       "        0, 0, 0, 1, 0, 0, 0, 0, 0, 0, 0, 0, 0, 0, 0, 0, 0, 0, 0, 0, 0, 0,\n",
       "        0, 0, 0, 0, 0, 0, 0, 0, 0, 0, 0, 0, 1, 0, 0, 0, 0, 0, 0, 0, 0, 0,\n",
       "        0, 0, 0, 0, 0, 0, 1, 0, 0, 0, 0, 0, 0, 0, 0, 0, 0, 0, 1, 0, 0, 1,\n",
       "        0, 0, 0, 0, 0, 0, 0, 0, 0, 0, 1, 0, 1, 1, 0, 1, 0, 0, 0, 0, 0, 0,\n",
       "        0, 0, 0, 0, 0, 0, 0, 0, 0, 1, 0, 1, 0, 0, 0, 0, 0, 0, 0, 1, 0, 0,\n",
       "        0, 1, 0, 0, 1, 0, 1, 0, 0, 0, 0, 0, 0, 0, 1, 0, 1, 0, 0, 0, 1, 0,\n",
       "        0, 0, 0, 0, 0, 0, 0, 0, 0, 1, 0, 0, 0, 0, 0, 0, 0, 0, 0, 0, 0, 0,\n",
       "        0, 0, 0, 0, 0, 1, 0, 0, 0, 0, 0, 0, 0, 0, 0, 1, 0, 0, 0, 0, 0, 0,\n",
       "        0, 0, 1, 0, 0, 0, 0, 0, 0, 0, 0, 0, 1, 0, 0, 0, 0, 0, 0, 0, 0, 0,\n",
       "        0, 0, 0, 0, 0, 0, 0, 0, 0, 0, 0, 0, 0, 0, 0, 0, 0, 0, 0, 0, 0, 0,\n",
       "        0, 0, 0, 0, 0, 1, 1, 0, 1, 0, 0, 0, 0, 0, 1, 1, 0, 0, 0, 0, 0, 1,\n",
       "        0, 0, 0, 0, 0, 0, 0, 0, 0, 0, 0, 0, 0, 0, 0, 0, 0, 0, 0, 1, 0, 0,\n",
       "        1, 0, 0, 0, 0, 0, 0, 1, 0, 0, 0, 0, 0, 0, 0, 0, 0, 0, 0, 0, 0, 0,\n",
       "        0, 0, 0, 0, 0, 0, 1, 0, 0, 0, 0, 0, 0, 0, 0, 0, 0, 0, 1, 0, 0, 0,\n",
       "        0, 0, 0, 1, 0, 0, 0, 0, 0, 0, 1, 0, 0, 0, 1, 0, 0, 0, 0, 0, 0, 0,\n",
       "        0, 0, 0, 1, 0, 0, 0, 0, 0, 1, 0, 0, 0, 0, 0, 0, 0, 0, 0, 0, 0, 1,\n",
       "        0, 0, 0, 0, 0, 0, 0, 0, 0, 0, 0, 0, 0, 0, 0, 0, 0, 0, 0, 0, 0, 0,\n",
       "        0, 0, 0, 0, 0, 0, 0, 1, 0, 0, 0, 0, 0, 0, 0, 0, 0, 0, 0, 0, 0, 1,\n",
       "        1, 0, 0, 0, 0, 0, 0, 0, 0, 0, 1, 0, 0, 0, 0, 0, 0, 0, 0, 0, 0, 0,\n",
       "        0, 0, 0, 0, 0, 0, 1, 1, 0, 0, 0, 0, 0, 0, 0, 0, 0, 0, 0, 0, 0, 0,\n",
       "        1, 0, 0, 1, 0, 0, 0, 0, 0, 0, 1, 0, 0, 0, 0, 0, 0, 0, 0, 0, 0, 0,\n",
       "        1, 0, 0, 0, 0, 0, 0, 0, 1, 0, 0, 1, 0, 0, 0, 0, 0, 0, 1, 0, 0, 0,\n",
       "        0, 0, 0, 0, 0, 0, 0, 0, 0, 0, 0, 0, 1, 1, 0, 0, 0, 0, 0, 0, 0, 0,\n",
       "        0, 0, 0, 0, 0, 0, 0, 0, 0, 0, 0, 0, 0, 0, 0, 0, 1, 0, 0, 0, 0, 0,\n",
       "        0, 0, 0, 0, 0, 0, 0, 0, 0, 0, 0, 0, 1, 0, 0, 0, 0, 0, 0, 0, 0, 0,\n",
       "        0, 0, 1, 0, 0, 0, 1, 0, 0, 1, 1, 0, 0, 0, 1, 0, 0, 1, 0, 0, 0, 0,\n",
       "        0, 0, 0, 0, 1, 1, 0, 0, 0, 0, 0, 0, 0, 1, 0, 0, 0, 0, 0, 0, 1, 0,\n",
       "        0, 1, 1, 0, 0, 1, 0, 0, 1, 0, 0, 0, 1, 0, 0, 0, 0, 0, 0, 0, 0, 0,\n",
       "        0, 0, 0, 0, 0, 0, 0, 0, 0, 0, 0, 0, 0, 0, 0, 0, 1, 0, 0, 0, 0, 1,\n",
       "        0, 0, 1, 0, 0, 0, 0, 0, 0, 0, 0, 0, 0, 0, 1, 0, 0, 0, 0, 0, 0, 0,\n",
       "        0, 0, 0, 1, 1, 1, 0, 1, 0, 0, 1, 0, 0, 0, 1, 0, 0, 0, 0, 1, 0, 1,\n",
       "        0, 0, 0, 0, 1, 0, 1, 0, 0, 0, 0, 1, 0, 0, 0, 0, 1, 0, 0, 0, 0, 0,\n",
       "        0, 0, 0, 0, 0, 0, 0, 0, 0, 0, 0, 0, 1, 0, 0, 0, 0, 0, 0, 0, 0, 0,\n",
       "        0, 0, 0, 1, 0, 0, 0, 0, 0, 0, 0, 0, 0, 0, 0, 0, 0, 0, 0, 1, 0, 0,\n",
       "        0, 0, 1, 0, 0, 0, 0, 0, 0, 1, 0, 0, 0, 0, 0, 0, 0, 0, 0, 0, 0, 0,\n",
       "        0, 0, 0, 0, 0, 0, 0, 0, 1, 1, 0, 1, 0, 0, 0, 0, 0, 0, 0, 1, 0, 0,\n",
       "        0, 0, 0, 1, 0, 0, 1, 0, 0, 1, 0, 0, 0, 0, 0, 0, 0, 1, 0, 0, 0, 0,\n",
       "        0, 0, 0, 0, 0, 0, 0, 0, 0, 0, 0, 0, 0, 0, 0, 0, 0, 0, 0, 0, 0, 0,\n",
       "        0, 0, 0, 1, 0, 0, 0, 0, 0, 0, 0, 0, 0, 0, 0, 0, 0, 0, 0, 0, 0, 0,\n",
       "        1, 0, 0, 0, 0, 0, 0, 0, 0, 0, 0, 0, 1, 0, 0, 0, 1, 0, 1]))"
      ]
     },
     "execution_count": 282,
     "metadata": {},
     "output_type": "execute_result"
    }
   ],
   "source": [
    "fpr = dict()\n",
    "tpr = dict()\n",
    "roc_auc = dict()\n",
    "for i in range(n_classes):\n",
    "    fpr[i], tpr[i], _ = roc_curve(y_test[:, i], y_score[:, i])\n",
    "    roc_auc[i] = auc(fpr[i], tpr[i])\n",
    "    \n",
    "fpr, tpr, fpr[0].shape, y_test[:, 5]"
   ]
  },
  {
   "cell_type": "code",
   "execution_count": 283,
   "metadata": {
    "ExecuteTime": {
     "end_time": "2020-06-15T08:42:31.158299Z",
     "start_time": "2020-06-15T08:42:30.865480Z"
    }
   },
   "outputs": [
    {
     "data": {
      "image/png": "[encoded data removed]",
      "text/plain": [
       "<Figure size 432x288 with 1 Axes>"
      ]
     },
     "metadata": {
      "needs_background": "light"
     },
     "output_type": "display_data"
    }
   ],
   "source": [
    "colors = cycle(['blue', 'red', 'green'])\n",
    "for i, color in zip(range(n_classes), colors):\n",
    "    plt.plot(fpr[i], tpr[i], color=color, lw=1,\n",
    "             label='ROC curve of class {0} (area = {1:0.2f})'\n",
    "             ''.format(i, roc_auc[i]))\n",
    "\n",
    "plt.plot([0, 1], [0, 1], 'k--', lw=1)\n",
    "plt.xlim([-0.05, 1.0])\n",
    "plt.ylim([0.0, 1.05])\n",
    "plt.xlabel('False Positive Rate')\n",
    "plt.ylabel('True Positive Rate')\n",
    "plt.title('Receiver operating characteristic for multi-class data')\n",
    "plt.legend(loc=\"lower right\")\n",
    "plt.show()"
   ]
  },
  {
   "cell_type": "markdown",
   "metadata": {},
   "source": [
    "# SVC"
   ]
  },
  {
   "cell_type": "markdown",
   "metadata": {
    "ExecuteTime": {
     "end_time": "2020-06-12T15:35:16.996248Z",
     "start_time": "2020-06-12T15:35:16.990801Z"
    }
   },
   "source": [
    "## Using OneVsRestClassifier"
   ]
  },
  {
   "cell_type": "code",
   "execution_count": 346,
   "metadata": {
    "ExecuteTime": {
     "end_time": "2020-06-15T11:25:36.722090Z",
     "start_time": "2020-06-15T11:25:36.162053Z"
    }
   },
   "outputs": [
    {
     "name": "stdout",
     "output_type": "stream",
     "text": [
      "[[-0.76301132 -0.36482547  0.12386354]\n",
      " [-0.20224493 -0.63144366 -0.16612302]\n",
      " [ 0.11801481 -0.80263073 -0.32055874]\n",
      " [-0.90780855 -0.12395478  0.02199789]\n",
      " [-0.01116192 -0.27913475 -0.71889214]] [[0 0 1]\n",
      " [0 1 0]\n",
      " [1 0 0]\n",
      " [0 0 1]\n",
      " [1 0 0]] [[0.06548185 0.28009701 0.85673617]\n",
      " [0.39343527 0.24360441 0.48134758]\n",
      " [0.6970069  0.22194041 0.25610591]\n",
      " [0.03919529 0.31578785 0.75645528]\n",
      " [0.57996733 0.29251019 0.02658435]] 1.2023150330955947\n",
      "(22,) (3,) 0.9126984126984127\n"
     ]
    },
    {
     "data": {
      "image/png": "[encoded data removed]",
      "text/plain": [
       "<Figure size 432x288 with 1 Axes>"
      ]
     },
     "metadata": {
      "needs_background": "light"
     },
     "output_type": "display_data"
    }
   ],
   "source": [
    "# Import some data to play with\n",
    "iris = datasets.load_iris()\n",
    "X = iris.data\n",
    "y = iris.target\n",
    "\n",
    "# Binarize the output\n",
    "y = label_binarize(y, classes=[0, 1, 2])\n",
    "n_classes = y.shape[1]\n",
    "\n",
    "# Add noisy features to make the problem harder\n",
    "random_state = np.random.RandomState(0)\n",
    "n_samples, n_features = X.shape\n",
    "X = np.c_[X, random_state.randn(n_samples, 200 * n_features)]\n",
    "\n",
    "# shuffle and split training and test sets\n",
    "X_train, X_test, y_train, y_test = train_test_split(X, y, test_size=.5,\n",
    "                                                    random_state=0)\n",
    "\n",
    "# Learn to predict each class against the other\n",
    "classifier = OneVsRestClassifier(svm.SVC(kernel='linear', probability=True,\n",
    "                                 random_state=random_state))\n",
    "y_score = classifier.fit(X_train, y_train).decision_function(X_test)\n",
    "y_score_ = classifier.fit(X_train, y_train).predict_proba(X_test)\n",
    "\n",
    "print(y_score[:5], y_test[:5], y_score_[:5], sum(y_score_[0, :]))\n",
    "\n",
    "# Compute ROC curve and ROC area for each class\n",
    "fpr = dict()\n",
    "tpr = dict()\n",
    "roc_auc = dict()\n",
    "for i in range(n_classes):\n",
    "    fpr[i], tpr[i], _ = roc_curve(y_test[:, i], y_score[:, i])\n",
    "    roc_auc[i] = auc(fpr[i], tpr[i])\n",
    "\n",
    "print(fpr[0].shape, y_test[0].shape, roc_auc[0])\n",
    "\n",
    "plot_roc_auc(fpr, tpr, roc_auc)"
   ]
  },
  {
   "cell_type": "code",
   "execution_count": 347,
   "metadata": {
    "ExecuteTime": {
     "end_time": "2020-06-15T11:25:44.745956Z",
     "start_time": "2020-06-15T11:25:44.740496Z"
    },
    "scrolled": true
   },
   "outputs": [],
   "source": [
    "# y1 = y_score_.ravel()\n",
    "# y2 = y1.reshape((-1, 1))\n",
    "# y_score_.ndim, y_score_[:5], y1[:5], y2[:5], y2.shape"
   ]
  },
  {
   "cell_type": "code",
   "execution_count": 348,
   "metadata": {
    "ExecuteTime": {
     "end_time": "2020-06-15T11:25:54.532670Z",
     "start_time": "2020-06-15T11:25:54.527795Z"
    }
   },
   "outputs": [],
   "source": [
    "# y_score_.take([0], axis=1).ravel()"
   ]
  },
  {
   "cell_type": "code",
   "execution_count": 349,
   "metadata": {
    "ExecuteTime": {
     "end_time": "2020-06-15T11:25:56.383314Z",
     "start_time": "2020-06-15T11:25:56.360835Z"
    }
   },
   "outputs": [
    {
     "data": {
      "text/plain": [
       "[(array([0.06548185, 0.28009701, 0.85673617]), 0),\n",
       " (array([0.39343527, 0.24360441, 0.48134758]), 0),\n",
       " (array([0.6970069 , 0.22194041, 0.25610591]), 1),\n",
       " (array([0.03919529, 0.31578785, 0.75645528]), 0),\n",
       " (array([0.57996733, 0.29251019, 0.02658435]), 1),\n",
       " (array([0.11592663, 0.28260871, 0.64927185]), 0),\n",
       " (array([0.61344851, 0.29753427, 0.01675224]), 1),\n",
       " (array([0.11355341, 0.3661768 , 0.06411484]), 0),\n",
       " (array([0.24535818, 0.29819703, 0.18124381]), 0),\n",
       " (array([0.18275436, 0.29570193, 0.31551446]), 0),\n",
       " (array([0.21284636, 0.28906341, 0.30883648]), 0),\n",
       " (array([0.27598735, 0.23436945, 0.7603437 ]), 0),\n",
       " (array([0.37080247, 0.24240723, 0.53195669]), 0),\n",
       " (array([0.51351352, 0.26620334, 0.12385265]), 0),\n",
       " (array([0.14803872, 0.2945416 , 0.42728055]), 0),\n",
       " (array([0.70002944, 0.25211349, 0.0649614 ]), 1),\n",
       " (array([0.07854163, 0.33186998, 0.36344899]), 0),\n",
       " (array([0.13960787, 0.31366317, 0.26457872]), 0),\n",
       " (array([0.86670886, 0.19908597, 0.17975006]), 1),\n",
       " (array([0.48131933, 0.20866372, 0.7672848 ]), 1),\n",
       " (array([0.08040636, 0.32862383, 0.40574087]), 0),\n",
       " (array([0.56741862, 0.26682362, 0.08770446]), 0),\n",
       " (array([0.35055261, 0.22215714, 0.77847273]), 1),\n",
       " (array([0.70427178, 0.23350667, 0.16174491]), 1),\n",
       " (array([0.08805349, 0.30315331, 0.55441722]), 0)]"
      ]
     },
     "execution_count": 349,
     "metadata": {},
     "output_type": "execute_result"
    }
   ],
   "source": [
    "list(zip(y_score_[:, ], y_test[:, 0]))[0:25]"
   ]
  },
  {
   "cell_type": "markdown",
   "metadata": {},
   "source": [
    "## Directly Using SVC"
   ]
  },
  {
   "cell_type": "code",
   "execution_count": 350,
   "metadata": {
    "ExecuteTime": {
     "end_time": "2020-06-15T11:26:46.322762Z",
     "start_time": "2020-06-15T11:26:46.016076Z"
    }
   },
   "outputs": [
    {
     "name": "stdout",
     "output_type": "stream",
     "text": [
      "[[2.56999261e-03 3.06192615e-01 6.91237393e-01]\n",
      " [4.46883656e-02 9.21958112e-01 3.33535222e-02]\n",
      " [9.97437416e-01 2.42581787e-03 1.36766030e-04]\n",
      " [5.29317046e-04 2.37371931e-01 7.62098752e-01]\n",
      " [9.37912282e-01 6.19493978e-02 1.38320306e-04]] [[0 0 1]\n",
      " [0 1 0]\n",
      " [1 0 0]\n",
      " [0 0 1]\n",
      " [1 0 0]] 1.0 (75, 3) (75, 3)\n",
      "[0 0 1] [0.00256999 0.04468837 0.99743742]\n",
      "[0 1 0] [0.30619261 0.92195811 0.00242582]\n",
      "[1 0 0] [6.91237393e-01 3.33535222e-02 1.36766030e-04]\n",
      "(4,) (3,) 1.0\n"
     ]
    },
    {
     "data": {
      "image/png": "[encoded data removed]",
      "text/plain": [
       "<Figure size 432x288 with 1 Axes>"
      ]
     },
     "metadata": {
      "needs_background": "light"
     },
     "output_type": "display_data"
    }
   ],
   "source": [
    "iris = datasets.load_iris()\n",
    "X = iris.data\n",
    "y = iris.target\n",
    "\n",
    "X_train, X_test, y_train, y_test = train_test_split(X, y, test_size=.5,\n",
    "                                                    random_state=0)\n",
    "\n",
    "y_test = label_binarize(y_test, classes=[0, 1, 2])\n",
    "\n",
    "classifier2 = svm.SVC(kernel='linear', probability=True,\n",
    "                                 random_state=random_state)\n",
    "\n",
    "y_score2 = classifier.fit(X_train, y_train).predict_proba(X_test)\n",
    "\n",
    "print(y_score2[:5], y_test[:5], sum(y_score2[0,:]), y_score2.shape, y_test.shape)\n",
    "\n",
    "fpr = dict()\n",
    "tpr = dict()\n",
    "roc_auc = dict()\n",
    "for i in range(n_classes):\n",
    "    print(y_test[:, i][:3], y_score2[:, i][:3])\n",
    "    fpr[i], tpr[i], _ = roc_curve(y_test[:, i], y_score2[:, i])\n",
    "    roc_auc[i] = auc(fpr[i], tpr[i])\n",
    "\n",
    "print(fpr[0].shape, y_test[0].shape, roc_auc[0])\n",
    "\n",
    "plot_roc_auc(fpr, tpr, roc_auc)"
   ]
  },
  {
   "cell_type": "code",
   "execution_count": 351,
   "metadata": {
    "ExecuteTime": {
     "end_time": "2020-06-15T11:26:48.957595Z",
     "start_time": "2020-06-15T11:26:48.939464Z"
    }
   },
   "outputs": [
    {
     "data": {
      "text/plain": [
       "[(array([0.00256999, 0.30619261, 0.69123739]), 0),\n",
       " (array([0.04468837, 0.92195811, 0.03335352]), 0),\n",
       " (array([9.97437416e-01, 2.42581787e-03, 1.36766030e-04]), 1),\n",
       " (array([5.29317046e-04, 2.37371931e-01, 7.62098752e-01]), 0),\n",
       " (array([9.37912282e-01, 6.19493978e-02, 1.38320306e-04]), 1),\n",
       " (array([8.91554273e-04, 9.25702291e-02, 9.06538217e-01]), 0),\n",
       " (array([9.60279138e-01, 3.96015650e-02, 1.19297392e-04]), 1),\n",
       " (array([0.03863853, 0.29874684, 0.66261463]), 0),\n",
       " (array([0.02040071, 0.5631442 , 0.41645509]), 0),\n",
       " (array([0.1135224 , 0.73307975, 0.15339785]), 0),\n",
       " (array([0.0017849 , 0.48911586, 0.50909924]), 0),\n",
       " (array([0.0680532 , 0.26186303, 0.67008377]), 0),\n",
       " (array([0.02538033, 0.64312457, 0.33149509]), 0),\n",
       " (array([0.02659534, 0.56616386, 0.4072408 ]), 0),\n",
       " (array([0.02399146, 0.49597658, 0.48003196]), 0),\n",
       " (array([9.65749278e-01, 3.41358661e-02, 1.14856159e-04]), 1),\n",
       " (array([0.03398044, 0.50619369, 0.45982587]), 0),\n",
       " (array([0.02941586, 0.76826159, 0.20232256]), 0),\n",
       " (array([8.00889853e-01, 1.99005870e-01, 1.04276547e-04]), 1),\n",
       " (array([9.93070358e-01, 6.78448143e-03, 1.45160705e-04]), 1),\n",
       " (array([0.0054463 , 0.36970911, 0.62484459]), 0),\n",
       " (array([0.03487391, 0.42446928, 0.54065681]), 0),\n",
       " (array([9.14238732e-01, 8.53683104e-02, 3.92957651e-04]), 1),\n",
       " (array([7.12963453e-01, 2.86939671e-01, 9.68765473e-05]), 1),\n",
       " (array([0.00980251, 0.40583045, 0.58436704]), 0)]"
      ]
     },
     "execution_count": 351,
     "metadata": {},
     "output_type": "execute_result"
    }
   ],
   "source": [
    "list(zip(y_score2[:, ], y_test[:, 0]))[0:25]"
   ]
  },
  {
   "cell_type": "code",
   "execution_count": 288,
   "metadata": {
    "ExecuteTime": {
     "end_time": "2020-06-15T08:42:31.773660Z",
     "start_time": "2020-06-15T08:42:31.765383Z"
    }
   },
   "outputs": [],
   "source": [
    "# y_score = y_score2[:, 0]\n",
    "# y_true = y_test[:, 0]\n",
    "# desc_score_indices = np.argsort(y_score, kind=\"mergesort\")[::-1]\n",
    "# y_score = y_score[desc_score_indices]\n",
    "# y_true = y_true[desc_score_indices]\n",
    "# tps = np.cumsum(y_true)\n",
    "\n",
    "# distinct_value_indices = np.where(np.diff(y_score))[0]\n",
    "# print(distinct_value_indices)\n",
    "# threshold_idxs = np.r_[distinct_value_indices, y_true.size - 1]\n",
    "# \n",
    "# print(y_score[:5])\n",
    "# np.where(np.diff(y_score))"
   ]
  },
  {
   "cell_type": "markdown",
   "metadata": {},
   "source": [
    "# Make Datasets"
   ]
  },
  {
   "cell_type": "code",
   "execution_count": 393,
   "metadata": {
    "ExecuteTime": {
     "end_time": "2020-06-15T14:29:59.135465Z",
     "start_time": "2020-06-15T14:29:59.108364Z"
    }
   },
   "outputs": [],
   "source": [
    "from sklearn.datasets import make_classification\n",
    "from sklearn.ensemble import RandomForestClassifier\n",
    "from sklearn.linear_model import LogisticRegression\n",
    "from sklearn.metrics import classification_report"
   ]
  },
  {
   "cell_type": "code",
   "execution_count": 501,
   "metadata": {
    "ExecuteTime": {
     "end_time": "2020-06-15T15:25:05.657768Z",
     "start_time": "2020-06-15T15:25:05.631993Z"
    }
   },
   "outputs": [
    {
     "data": {
      "text/plain": [
       "array([0, 2, 3, 2, 3, 1, 3, 1, 2, 0])"
      ]
     },
     "execution_count": 501,
     "metadata": {},
     "output_type": "execute_result"
    }
   ],
   "source": [
    "X, y = make_classification(n_samples=10000, n_features=10,\n",
    "                           n_informative=3, n_redundant=0,\n",
    "                           n_classes=4, random_state=3, \n",
    "                           shuffle=False)\n",
    "X_train, X_test, y_train, y_test = train_test_split(X, y)\n",
    "y_test[:10] "
   ]
  },
  {
   "cell_type": "code",
   "execution_count": 502,
   "metadata": {
    "ExecuteTime": {
     "end_time": "2020-06-15T15:25:08.746028Z",
     "start_time": "2020-06-15T15:25:07.940051Z"
    }
   },
   "outputs": [],
   "source": [
    "classifier = RandomForestClassifier(max_depth=2, random_state=0)\n",
    "# classifier = LogisticRegression().fit(X_train, y_train)\n",
    "classifier.fit(X_train, y_train)\n",
    "y_pred = classifier.predict(X_test)\n",
    "y_proba = classifier.predict_proba(X_test)"
   ]
  },
  {
   "cell_type": "code",
   "execution_count": 503,
   "metadata": {
    "ExecuteTime": {
     "end_time": "2020-06-15T15:25:12.335843Z",
     "start_time": "2020-06-15T15:25:09.588189Z"
    }
   },
   "outputs": [],
   "source": [
    "classifier2 = OneVsRestClassifier(classifier)\n",
    "classifier2.fit(X_train, y_train)\n",
    "y_pred2 = classifier2.predict(X_test)\n",
    "y_proba2 = classifier2.predict_proba(X_test)"
   ]
  },
  {
   "cell_type": "code",
   "execution_count": 504,
   "metadata": {
    "ExecuteTime": {
     "end_time": "2020-06-15T15:25:15.978072Z",
     "start_time": "2020-06-15T15:25:15.964062Z"
    }
   },
   "outputs": [
    {
     "data": {
      "text/plain": [
       "(array([2, 2, 3, 2, 3]),\n",
       " array([[0.26180548, 0.08952184, 0.44407246, 0.20460022],\n",
       "        [0.26314156, 0.08781517, 0.44699874, 0.20204453],\n",
       "        [0.11257935, 0.24891474, 0.22398888, 0.41451703],\n",
       "        [0.26138904, 0.08930444, 0.44768068, 0.20162583],\n",
       "        [0.1075031 , 0.24407922, 0.2247383 , 0.42367938]]),\n",
       " array([0, 2, 3, 2, 3]),\n",
       " array([[0.26180548],\n",
       "        [0.26314156],\n",
       "        [0.11257935],\n",
       "        [0.26138904],\n",
       "        [0.1075031 ]]),\n",
       " 1.0)"
      ]
     },
     "execution_count": 504,
     "metadata": {},
     "output_type": "execute_result"
    }
   ],
   "source": [
    "y_pred[:5], y_proba[:5], y_test[:5], y_proba.take([0], axis=1)[:5], sum(y_proba[0])"
   ]
  },
  {
   "cell_type": "code",
   "execution_count": 506,
   "metadata": {
    "ExecuteTime": {
     "end_time": "2020-06-15T15:25:24.605929Z",
     "start_time": "2020-06-15T15:25:24.591420Z"
    }
   },
   "outputs": [
    {
     "data": {
      "text/plain": [
       "(array([2, 2, 3, 2, 3]),\n",
       " array([[0.25789388, 0.095327  , 0.43862605, 0.20815307],\n",
       "        [0.26767312, 0.09425141, 0.436221  , 0.20185448],\n",
       "        [0.12165368, 0.24488256, 0.25153998, 0.38192378],\n",
       "        [0.24736136, 0.1013362 , 0.45418332, 0.19711912],\n",
       "        [0.1016874 , 0.23353298, 0.25478891, 0.4099907 ]]),\n",
       " array([0, 2, 3, 2, 3]),\n",
       " array([[0.25789388],\n",
       "        [0.26767312],\n",
       "        [0.12165368],\n",
       "        [0.24736136],\n",
       "        [0.1016874 ]]),\n",
       " 0.9999999999999999)"
      ]
     },
     "execution_count": 506,
     "metadata": {},
     "output_type": "execute_result"
    }
   ],
   "source": [
    "y_pred2[:5], y_proba2[:5], y_test[:5], y_proba2.take([0], axis=1)[:5], sum(y_proba2[0])"
   ]
  },
  {
   "cell_type": "code",
   "execution_count": 507,
   "metadata": {
    "ExecuteTime": {
     "end_time": "2020-06-15T15:26:13.979298Z",
     "start_time": "2020-06-15T15:26:13.957308Z"
    }
   },
   "outputs": [
    {
     "data": {
      "text/plain": [
       "0.8988841784900463"
      ]
     },
     "execution_count": 507,
     "metadata": {},
     "output_type": "execute_result"
    }
   ],
   "source": [
    "roc_auc_score(y_test, y_proba, multi_class='ovr')"
   ]
  },
  {
   "cell_type": "code",
   "execution_count": 508,
   "metadata": {
    "ExecuteTime": {
     "end_time": "2020-06-15T15:26:14.967660Z",
     "start_time": "2020-06-15T15:26:14.945810Z"
    }
   },
   "outputs": [
    {
     "data": {
      "text/plain": [
       "0.9074290114403379"
      ]
     },
     "execution_count": 508,
     "metadata": {},
     "output_type": "execute_result"
    }
   ],
   "source": [
    "roc_auc_score(y_test, y_proba2, multi_class='ovr')"
   ]
  },
  {
   "cell_type": "code",
   "execution_count": 469,
   "metadata": {
    "ExecuteTime": {
     "end_time": "2020-06-15T15:03:39.385614Z",
     "start_time": "2020-06-15T15:03:39.369711Z"
    }
   },
   "outputs": [
    {
     "data": {
      "text/plain": [
       "(array([1, 0, 0, 1, 0]),\n",
       " array([0.61289852, 0.11614751, 0.29032406, 0.50503089, 0.27111952]),\n",
       " (2500, 3),\n",
       " 7500,\n",
       " (2500,))"
      ]
     },
     "execution_count": 469,
     "metadata": {},
     "output_type": "execute_result"
    }
   ],
   "source": [
    "y_true, y_score = label_binarize(y_test, np.unique(y_test)),  y_proba\n",
    "y_true_c = y_true.take([0], axis=1).ravel()\n",
    "y_score_c = y_score.take([0], axis=1).ravel()\n",
    "y_true_c[:5], y_score_c[:5], y_true.shape, y_true.size, y_true_c.shape"
   ]
  },
  {
   "cell_type": "code",
   "execution_count": 463,
   "metadata": {
    "ExecuteTime": {
     "end_time": "2020-06-15T15:02:11.370046Z",
     "start_time": "2020-06-15T15:02:11.358494Z"
    }
   },
   "outputs": [
    {
     "data": {
      "text/plain": [
       "(array([1, 0, 0, 1, 0, 0, 1, 1, 0, 0, 1, 1, 1, 0, 0]),\n",
       " array([0.61289852, 0.11614751, 0.29032406, 0.50503089, 0.27111952,\n",
       "        0.28086116, 0.61471111, 0.27364142, 0.1185053 , 0.27368418,\n",
       "        0.44830435, 0.61511851, 0.6033857 , 0.2685912 , 0.27637347]),\n",
       " (2500,),\n",
       " (2500,))"
      ]
     },
     "execution_count": 463,
     "metadata": {},
     "output_type": "execute_result"
    }
   ],
   "source": [
    "y_true_c.ravel()[:15], y_score_c.ravel()[:15], y_true_c.shape, y_score_c.shape"
   ]
  },
  {
   "cell_type": "code",
   "execution_count": 446,
   "metadata": {
    "ExecuteTime": {
     "end_time": "2020-06-15T14:54:13.051734Z",
     "start_time": "2020-06-15T14:54:13.042564Z"
    }
   },
   "outputs": [
    {
     "data": {
      "text/plain": [
       "array([ True, False, False, ..., False,  True, False])"
      ]
     },
     "execution_count": 446,
     "metadata": {},
     "output_type": "execute_result"
    }
   ],
   "source": [
    "y_true_c_ = (y_true_c == 1)\n",
    "y_true_c_"
   ]
  },
  {
   "cell_type": "code",
   "execution_count": 452,
   "metadata": {
    "ExecuteTime": {
     "end_time": "2020-06-15T14:56:07.625300Z",
     "start_time": "2020-06-15T14:56:07.611462Z"
    }
   },
   "outputs": [
    {
     "data": {
      "text/plain": [
       "(array([ 229, 2073, 1230,  292,  895]),\n",
       " array([0.63182885, 0.6288325 , 0.6264806 , 0.62446525, 0.62430072]),\n",
       " array([ 242, 1373, 1477, 1272,  738]),\n",
       " array([0.1099609 , 0.10982847, 0.10974196, 0.10970824, 0.10970656]))"
      ]
     },
     "execution_count": 452,
     "metadata": {},
     "output_type": "execute_result"
    }
   ],
   "source": [
    "desc_score_indices = np.argsort(y_score_c, kind=\"mergesort\")[::-1]\n",
    "desc_score_indices[:5], y_score_c[desc_score_indices[0:5]], \\\n",
    "desc_score_indices[-5:], y_score_c[desc_score_indices[-5:]]"
   ]
  },
  {
   "cell_type": "code",
   "execution_count": 460,
   "metadata": {
    "ExecuteTime": {
     "end_time": "2020-06-15T15:00:29.623637Z",
     "start_time": "2020-06-15T15:00:29.610804Z"
    }
   },
   "outputs": [
    {
     "data": {
      "text/plain": [
       "(array([0.63182885, 0.6288325 , 0.6264806 , 0.62446525, 0.62430072,\n",
       "        0.62340062, 0.62306705, 0.62297294, 0.62242315, 0.62226942,\n",
       "        0.62211933, 0.62207014, 0.62184472, 0.62159248, 0.62140127]),\n",
       " array([ True,  True,  True,  True,  True,  True,  True,  True,  True,\n",
       "         True,  True,  True,  True,  True,  True]),\n",
       " (2500,))"
      ]
     },
     "execution_count": 460,
     "metadata": {},
     "output_type": "execute_result"
    }
   ],
   "source": [
    "y_score_ = y_score_c[desc_score_indices]\n",
    "y_true_ = y_true_c_[desc_score_indices]\n",
    "y_score_[:15], y_true_[:15], y_score_.shape"
   ]
  },
  {
   "cell_type": "code",
   "execution_count": 459,
   "metadata": {
    "ExecuteTime": {
     "end_time": "2020-06-15T15:00:07.203280Z",
     "start_time": "2020-06-15T15:00:07.192589Z"
    }
   },
   "outputs": [
    {
     "data": {
      "text/plain": [
       "(array([2483, 2484, 2485, 2486, 2487, 2488, 2489, 2490, 2492, 2493, 2494,\n",
       "        2495, 2496, 2497, 2498]),\n",
       " (2422,),\n",
       " (2500,))"
      ]
     },
     "execution_count": 459,
     "metadata": {},
     "output_type": "execute_result"
    }
   ],
   "source": [
    "distinct_value_indices = np.where(np.diff(y_score_))[0]\n",
    "distinct_value_indices[-15:], distinct_value_indices.shape,  "
   ]
  },
  {
   "cell_type": "code",
   "execution_count": 470,
   "metadata": {
    "ExecuteTime": {
     "end_time": "2020-06-15T15:04:12.716829Z",
     "start_time": "2020-06-15T15:04:12.703663Z"
    }
   },
   "outputs": [
    {
     "data": {
      "text/plain": [
       "((2423,),\n",
       " array([2484, 2485, 2486, 2487, 2488, 2489, 2490, 2492, 2493, 2494, 2495,\n",
       "        2496, 2497, 2498, 2499]),\n",
       " 2500)"
      ]
     },
     "execution_count": 470,
     "metadata": {},
     "output_type": "execute_result"
    }
   ],
   "source": [
    "threshold_idxs = np.r_[distinct_value_indices, y_true_.size - 1]\n",
    "threshold_idxs.shape, threshold_idxs[-15:], y_true_.size"
   ]
  },
  {
   "cell_type": "code",
   "execution_count": 473,
   "metadata": {
    "ExecuteTime": {
     "end_time": "2020-06-15T15:05:53.381560Z",
     "start_time": "2020-06-15T15:05:53.370501Z"
    }
   },
   "outputs": [
    {
     "data": {
      "text/plain": [
       "((2500,), array([ 1,  2,  3,  4,  5,  6,  7,  8,  9, 10, 11, 12, 13, 14, 15]))"
      ]
     },
     "execution_count": 473,
     "metadata": {},
     "output_type": "execute_result"
    }
   ],
   "source": [
    "tps = np.cumsum(y_true_)\n",
    "tps.shape, tps[:15]"
   ]
  },
  {
   "cell_type": "code",
   "execution_count": 436,
   "metadata": {
    "ExecuteTime": {
     "end_time": "2020-06-15T14:48:22.332213Z",
     "start_time": "2020-06-15T14:48:22.321687Z"
    }
   },
   "outputs": [
    {
     "data": {
      "text/plain": [
       "(array([0., 0., 0., 0., 0.]),\n",
       " array([0.        , 0.00124378, 0.01741294, 0.0199005 , 0.0920398 ]),\n",
       " array([1.63182885, 0.63182885, 0.62159248, 0.62140127, 0.61879478]))"
      ]
     },
     "execution_count": 436,
     "metadata": {},
     "output_type": "execute_result"
    }
   ],
   "source": [
    "fpr, tpr, thr = roc_curve(y_true_c, y_score_c)\n",
    "fpr[:5], tpr[:5], thr[:5]"
   ]
  },
  {
   "cell_type": "code",
   "execution_count": 419,
   "metadata": {
    "ExecuteTime": {
     "end_time": "2020-06-15T14:35:55.465945Z",
     "start_time": "2020-06-15T14:35:55.398435Z"
    }
   },
   "outputs": [
    {
     "name": "stdout",
     "output_type": "stream",
     "text": [
      "              precision    recall  f1-score   support\n",
      "\n",
      "           0   0.882280  0.885572  0.883923       804\n",
      "           1   0.931592  0.885343  0.907879       846\n",
      "           2   0.870641  0.910588  0.890167       850\n",
      "\n",
      "    accuracy                       0.894000      2500\n",
      "   macro avg   0.894838  0.893834  0.893990      2500\n",
      "weighted avg   0.895010  0.894000  0.894153      2500\n",
      "\n"
     ]
    }
   ],
   "source": [
    "sk_report = classification_report(\n",
    "    digits=6,\n",
    "    y_true=y_test, \n",
    "    y_pred=classifier.predict(X_test))\n",
    "print(sk_report)"
   ]
  }
 ],
 "metadata": {
  "kernelspec": {
   "display_name": "Python 3",
   "language": "python",
   "name": "python3"
  },
  "language_info": {
   "codemirror_mode": {
    "name": "ipython",
    "version": 3
   },
   "file_extension": ".py",
   "mimetype": "text/x-python",
   "name": "python",
   "nbconvert_exporter": "python",
   "pygments_lexer": "ipython3",
   "version": "3.6.9"
  },
  "toc": {
   "base_numbering": 1,
   "nav_menu": {},
   "number_sections": true,
   "sideBar": true,
   "skip_h1_title": true,
   "title_cell": "Table of Contents",
   "title_sidebar": "Contents",
   "toc_cell": false,
   "toc_position": {},
   "toc_section_display": true,
   "toc_window_display": false
  }
 },
 "nbformat": 4,
 "nbformat_minor": 4
}
