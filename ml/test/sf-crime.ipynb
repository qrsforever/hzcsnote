{
 "cells": [
  {
   "cell_type": "code",
   "execution_count": 45,
   "metadata": {
    "ExecuteTime": {
     "end_time": "2020-06-10T12:42:07.969929Z",
     "start_time": "2020-06-10T12:42:07.961524Z"
    }
   },
   "outputs": [],
   "source": [
    "import numpy as np\n",
    "import pandas as pd\n",
    "\n",
    "from sklearn.linear_model import LogisticRegression\n",
    "from sklearn.metrics import accuracy_score, mean_squared_error\n",
    "from sklearn.model_selection import train_test_split\n",
    "\n",
    "import warnings\n",
    "\n",
    "warnings.filterwarnings('ignore')"
   ]
  },
  {
   "cell_type": "code",
   "execution_count": 2,
   "metadata": {
    "ExecuteTime": {
     "end_time": "2020-06-10T11:50:49.652966Z",
     "start_time": "2020-06-10T11:50:49.650465Z"
    }
   },
   "outputs": [],
   "source": [
    "# from sklearn import metrics\n",
    "# metrics.classification_report()"
   ]
  },
  {
   "cell_type": "code",
   "execution_count": 3,
   "metadata": {
    "ExecuteTime": {
     "end_time": "2020-06-10T11:50:52.417140Z",
     "start_time": "2020-06-10T11:50:49.655499Z"
    }
   },
   "outputs": [],
   "source": [
    "train_data = pd.read_csv(\"/data/datasets/ml/sf-crime/train.csv\", parse_dates=['Dates'])"
   ]
  },
  {
   "cell_type": "code",
   "execution_count": 4,
   "metadata": {
    "ExecuteTime": {
     "end_time": "2020-06-10T11:50:52.529601Z",
     "start_time": "2020-06-10T11:50:52.419875Z"
    }
   },
   "outputs": [
    {
     "data": {
      "text/plain": [
       "0         2015\n",
       "1         2015\n",
       "2         2015\n",
       "3         2015\n",
       "4         2015\n",
       "          ... \n",
       "878044    2003\n",
       "878045    2003\n",
       "878046    2003\n",
       "878047    2003\n",
       "878048    2003\n",
       "Name: Dates, Length: 878049, dtype: int64"
      ]
     },
     "execution_count": 4,
     "metadata": {},
     "output_type": "execute_result"
    }
   ],
   "source": [
    "train_data[\"Dates\"].dt.year"
   ]
  },
  {
   "cell_type": "code",
   "execution_count": 5,
   "metadata": {
    "ExecuteTime": {
     "end_time": "2020-06-10T11:50:52.559508Z",
     "start_time": "2020-06-10T11:50:52.532197Z"
    }
   },
   "outputs": [
    {
     "name": "stdout",
     "output_type": "stream",
     "text": [
      "(878049, 9)\n"
     ]
    },
    {
     "data": {
      "text/html": [
       "<div>\n",
       "<style scoped>\n",
       "    .dataframe tbody tr th:only-of-type {\n",
       "        vertical-align: middle;\n",
       "    }\n",
       "\n",
       "    .dataframe tbody tr th {\n",
       "        vertical-align: top;\n",
       "    }\n",
       "\n",
       "    .dataframe thead th {\n",
       "        text-align: right;\n",
       "    }\n",
       "</style>\n",
       "<table border=\"1\" class=\"dataframe\">\n",
       "  <thead>\n",
       "    <tr style=\"text-align: right;\">\n",
       "      <th></th>\n",
       "      <th>Dates</th>\n",
       "      <th>Category</th>\n",
       "      <th>Descript</th>\n",
       "      <th>DayOfWeek</th>\n",
       "      <th>PdDistrict</th>\n",
       "      <th>Resolution</th>\n",
       "      <th>Address</th>\n",
       "      <th>X</th>\n",
       "      <th>Y</th>\n",
       "    </tr>\n",
       "  </thead>\n",
       "  <tbody>\n",
       "    <tr>\n",
       "      <th>0</th>\n",
       "      <td>2015-05-13 23:53:00</td>\n",
       "      <td>WARRANTS</td>\n",
       "      <td>WARRANT ARREST</td>\n",
       "      <td>Wednesday</td>\n",
       "      <td>NORTHERN</td>\n",
       "      <td>ARREST, BOOKED</td>\n",
       "      <td>OAK ST / LAGUNA ST</td>\n",
       "      <td>-122.425892</td>\n",
       "      <td>37.774599</td>\n",
       "    </tr>\n",
       "    <tr>\n",
       "      <th>1</th>\n",
       "      <td>2015-05-13 23:53:00</td>\n",
       "      <td>OTHER OFFENSES</td>\n",
       "      <td>TRAFFIC VIOLATION ARREST</td>\n",
       "      <td>Wednesday</td>\n",
       "      <td>NORTHERN</td>\n",
       "      <td>ARREST, BOOKED</td>\n",
       "      <td>OAK ST / LAGUNA ST</td>\n",
       "      <td>-122.425892</td>\n",
       "      <td>37.774599</td>\n",
       "    </tr>\n",
       "    <tr>\n",
       "      <th>2</th>\n",
       "      <td>2015-05-13 23:33:00</td>\n",
       "      <td>OTHER OFFENSES</td>\n",
       "      <td>TRAFFIC VIOLATION ARREST</td>\n",
       "      <td>Wednesday</td>\n",
       "      <td>NORTHERN</td>\n",
       "      <td>ARREST, BOOKED</td>\n",
       "      <td>VANNESS AV / GREENWICH ST</td>\n",
       "      <td>-122.424363</td>\n",
       "      <td>37.800414</td>\n",
       "    </tr>\n",
       "    <tr>\n",
       "      <th>3</th>\n",
       "      <td>2015-05-13 23:30:00</td>\n",
       "      <td>LARCENY/THEFT</td>\n",
       "      <td>GRAND THEFT FROM LOCKED AUTO</td>\n",
       "      <td>Wednesday</td>\n",
       "      <td>NORTHERN</td>\n",
       "      <td>NONE</td>\n",
       "      <td>1500 Block of LOMBARD ST</td>\n",
       "      <td>-122.426995</td>\n",
       "      <td>37.800873</td>\n",
       "    </tr>\n",
       "    <tr>\n",
       "      <th>4</th>\n",
       "      <td>2015-05-13 23:30:00</td>\n",
       "      <td>LARCENY/THEFT</td>\n",
       "      <td>GRAND THEFT FROM LOCKED AUTO</td>\n",
       "      <td>Wednesday</td>\n",
       "      <td>PARK</td>\n",
       "      <td>NONE</td>\n",
       "      <td>100 Block of BRODERICK ST</td>\n",
       "      <td>-122.438738</td>\n",
       "      <td>37.771541</td>\n",
       "    </tr>\n",
       "  </tbody>\n",
       "</table>\n",
       "</div>"
      ],
      "text/plain": [
       "                Dates        Category                      Descript  \\\n",
       "0 2015-05-13 23:53:00        WARRANTS                WARRANT ARREST   \n",
       "1 2015-05-13 23:53:00  OTHER OFFENSES      TRAFFIC VIOLATION ARREST   \n",
       "2 2015-05-13 23:33:00  OTHER OFFENSES      TRAFFIC VIOLATION ARREST   \n",
       "3 2015-05-13 23:30:00   LARCENY/THEFT  GRAND THEFT FROM LOCKED AUTO   \n",
       "4 2015-05-13 23:30:00   LARCENY/THEFT  GRAND THEFT FROM LOCKED AUTO   \n",
       "\n",
       "   DayOfWeek PdDistrict      Resolution                    Address  \\\n",
       "0  Wednesday   NORTHERN  ARREST, BOOKED         OAK ST / LAGUNA ST   \n",
       "1  Wednesday   NORTHERN  ARREST, BOOKED         OAK ST / LAGUNA ST   \n",
       "2  Wednesday   NORTHERN  ARREST, BOOKED  VANNESS AV / GREENWICH ST   \n",
       "3  Wednesday   NORTHERN            NONE   1500 Block of LOMBARD ST   \n",
       "4  Wednesday       PARK            NONE  100 Block of BRODERICK ST   \n",
       "\n",
       "            X          Y  \n",
       "0 -122.425892  37.774599  \n",
       "1 -122.425892  37.774599  \n",
       "2 -122.424363  37.800414  \n",
       "3 -122.426995  37.800873  \n",
       "4 -122.438738  37.771541  "
      ]
     },
     "execution_count": 5,
     "metadata": {},
     "output_type": "execute_result"
    }
   ],
   "source": [
    "print(train_data.shape)\n",
    "train_data.head()"
   ]
  },
  {
   "cell_type": "code",
   "execution_count": 6,
   "metadata": {
    "ExecuteTime": {
     "end_time": "2020-06-10T11:50:52.665253Z",
     "start_time": "2020-06-10T11:50:52.562017Z"
    }
   },
   "outputs": [
    {
     "data": {
      "text/plain": [
       "array(['WARRANTS', 'OTHER OFFENSES', 'LARCENY/THEFT', 'VEHICLE THEFT',\n",
       "       'VANDALISM', 'NON-CRIMINAL', 'ROBBERY', 'ASSAULT', 'WEAPON LAWS',\n",
       "       'BURGLARY', 'SUSPICIOUS OCC', 'DRUNKENNESS',\n",
       "       'FORGERY/COUNTERFEITING', 'DRUG/NARCOTIC', 'STOLEN PROPERTY',\n",
       "       'SECONDARY CODES', 'TRESPASS', 'MISSING PERSON', 'FRAUD',\n",
       "       'KIDNAPPING', 'RUNAWAY', 'DRIVING UNDER THE INFLUENCE',\n",
       "       'SEX OFFENSES FORCIBLE', 'PROSTITUTION', 'DISORDERLY CONDUCT',\n",
       "       'ARSON', 'FAMILY OFFENSES', 'LIQUOR LAWS', 'BRIBERY',\n",
       "       'EMBEZZLEMENT', 'SUICIDE', 'LOITERING',\n",
       "       'SEX OFFENSES NON FORCIBLE', 'EXTORTION', 'GAMBLING', 'BAD CHECKS',\n",
       "       'TREA', 'RECOVERED VEHICLE', 'PORNOGRAPHY/OBSCENE MAT'],\n",
       "      dtype=object)"
      ]
     },
     "execution_count": 6,
     "metadata": {},
     "output_type": "execute_result"
    }
   ],
   "source": [
    "categories = train_data['Category'].unique()\n",
    "categories"
   ]
  },
  {
   "cell_type": "code",
   "execution_count": 7,
   "metadata": {
    "ExecuteTime": {
     "end_time": "2020-06-10T11:50:52.676602Z",
     "start_time": "2020-06-10T11:50:52.667949Z"
    }
   },
   "outputs": [
    {
     "data": {
      "text/plain": [
       "{'WARRANTS': 1,\n",
       " 'OTHER OFFENSES': 2,\n",
       " 'LARCENY/THEFT': 3,\n",
       " 'VEHICLE THEFT': 4,\n",
       " 'VANDALISM': 5,\n",
       " 'NON-CRIMINAL': 6,\n",
       " 'ROBBERY': 7,\n",
       " 'ASSAULT': 8,\n",
       " 'WEAPON LAWS': 9,\n",
       " 'BURGLARY': 10,\n",
       " 'SUSPICIOUS OCC': 11,\n",
       " 'DRUNKENNESS': 12,\n",
       " 'FORGERY/COUNTERFEITING': 13,\n",
       " 'DRUG/NARCOTIC': 14,\n",
       " 'STOLEN PROPERTY': 15,\n",
       " 'SECONDARY CODES': 16,\n",
       " 'TRESPASS': 17,\n",
       " 'MISSING PERSON': 18,\n",
       " 'FRAUD': 19,\n",
       " 'KIDNAPPING': 20,\n",
       " 'RUNAWAY': 21,\n",
       " 'DRIVING UNDER THE INFLUENCE': 22,\n",
       " 'SEX OFFENSES FORCIBLE': 23,\n",
       " 'PROSTITUTION': 24,\n",
       " 'DISORDERLY CONDUCT': 25,\n",
       " 'ARSON': 26,\n",
       " 'FAMILY OFFENSES': 27,\n",
       " 'LIQUOR LAWS': 28,\n",
       " 'BRIBERY': 29,\n",
       " 'EMBEZZLEMENT': 30,\n",
       " 'SUICIDE': 31,\n",
       " 'LOITERING': 32,\n",
       " 'SEX OFFENSES NON FORCIBLE': 33,\n",
       " 'EXTORTION': 34,\n",
       " 'GAMBLING': 35,\n",
       " 'BAD CHECKS': 36,\n",
       " 'TREA': 37,\n",
       " 'RECOVERED VEHICLE': 38,\n",
       " 'PORNOGRAPHY/OBSCENE MAT': 39}"
      ]
     },
     "execution_count": 7,
     "metadata": {},
     "output_type": "execute_result"
    }
   ],
   "source": [
    "category_dict = {}\n",
    "for i, c in enumerate(categories, 1):\n",
    "    category_dict[c] = i\n",
    "category_dict"
   ]
  },
  {
   "cell_type": "code",
   "execution_count": 8,
   "metadata": {
    "ExecuteTime": {
     "end_time": "2020-06-10T11:50:52.752213Z",
     "start_time": "2020-06-10T11:50:52.680719Z"
    }
   },
   "outputs": [
    {
     "data": {
      "text/plain": [
       "array(['NORTHERN', 'PARK', 'INGLESIDE', 'BAYVIEW', 'RICHMOND', 'CENTRAL',\n",
       "       'TARAVAL', 'TENDERLOIN', 'MISSION', 'SOUTHERN'], dtype=object)"
      ]
     },
     "execution_count": 8,
     "metadata": {},
     "output_type": "execute_result"
    }
   ],
   "source": [
    "district = train_data[\"PdDistrict\"].unique()\n",
    "district"
   ]
  },
  {
   "cell_type": "code",
   "execution_count": 9,
   "metadata": {
    "ExecuteTime": {
     "end_time": "2020-06-10T11:50:52.762903Z",
     "start_time": "2020-06-10T11:50:52.755944Z"
    }
   },
   "outputs": [
    {
     "data": {
      "text/plain": [
       "{'NORTHERN': 1,\n",
       " 'PARK': 2,\n",
       " 'INGLESIDE': 3,\n",
       " 'BAYVIEW': 4,\n",
       " 'RICHMOND': 5,\n",
       " 'CENTRAL': 6,\n",
       " 'TARAVAL': 7,\n",
       " 'TENDERLOIN': 8,\n",
       " 'MISSION': 9,\n",
       " 'SOUTHERN': 10}"
      ]
     },
     "execution_count": 9,
     "metadata": {},
     "output_type": "execute_result"
    }
   ],
   "source": [
    "district_dict = {}\n",
    "for i, c in enumerate(district, 1):\n",
    "    district_dict[c] = i\n",
    "district_dict"
   ]
  },
  {
   "cell_type": "code",
   "execution_count": 10,
   "metadata": {
    "ExecuteTime": {
     "end_time": "2020-06-10T11:50:52.771657Z",
     "start_time": "2020-06-10T11:50:52.765214Z"
    }
   },
   "outputs": [],
   "source": [
    "week_dict = {\n",
    "    \"Monday\": 1,\n",
    "    \"Tuesday\":2,\n",
    "    \"Wednesday\":3,\n",
    "    \"Thursday\":4,\n",
    "    \"Friday\":5,\n",
    "    \"Saturday\":6,\n",
    "    \"Sunday\":7\n",
    "}"
   ]
  },
  {
   "cell_type": "code",
   "execution_count": 11,
   "metadata": {
    "ExecuteTime": {
     "end_time": "2020-06-10T11:50:55.966341Z",
     "start_time": "2020-06-10T11:50:52.774120Z"
    }
   },
   "outputs": [],
   "source": [
    "train_data[\"Category\"].replace(category_dict, inplace=True)\n",
    "train_data[\"PdDistrict\"].replace(district_dict, inplace=True)\n",
    "train_data[\"DayOfWeek\"].replace(week_dict, inplace=True)"
   ]
  },
  {
   "cell_type": "code",
   "execution_count": 12,
   "metadata": {
    "ExecuteTime": {
     "end_time": "2020-06-10T11:50:56.517002Z",
     "start_time": "2020-06-10T11:50:55.968842Z"
    }
   },
   "outputs": [],
   "source": [
    "train_data['Dates'] = pd.to_datetime(train_data['Dates'])\n",
    "\n",
    "train_data['Year']  = train_data['Dates'].dt.year\n",
    "train_data['Month'] = train_data['Dates'].dt.month\n",
    "train_data['Day']   = train_data['Dates'].dt.day\n",
    "train_data['Hour']  = train_data['Dates'].dt.hour"
   ]
  },
  {
   "cell_type": "code",
   "execution_count": 13,
   "metadata": {
    "ExecuteTime": {
     "end_time": "2020-06-10T11:50:56.600376Z",
     "start_time": "2020-06-10T11:50:56.519392Z"
    }
   },
   "outputs": [],
   "source": [
    "train_data.drop(['Dates', 'Descript', 'Resolution', 'Address'] , axis=1, inplace=True)"
   ]
  },
  {
   "cell_type": "code",
   "execution_count": 14,
   "metadata": {
    "ExecuteTime": {
     "end_time": "2020-06-10T11:50:56.618426Z",
     "start_time": "2020-06-10T11:50:56.602964Z"
    }
   },
   "outputs": [
    {
     "data": {
      "text/html": [
       "<div>\n",
       "<style scoped>\n",
       "    .dataframe tbody tr th:only-of-type {\n",
       "        vertical-align: middle;\n",
       "    }\n",
       "\n",
       "    .dataframe tbody tr th {\n",
       "        vertical-align: top;\n",
       "    }\n",
       "\n",
       "    .dataframe thead th {\n",
       "        text-align: right;\n",
       "    }\n",
       "</style>\n",
       "<table border=\"1\" class=\"dataframe\">\n",
       "  <thead>\n",
       "    <tr style=\"text-align: right;\">\n",
       "      <th></th>\n",
       "      <th>Category</th>\n",
       "      <th>DayOfWeek</th>\n",
       "      <th>PdDistrict</th>\n",
       "      <th>X</th>\n",
       "      <th>Y</th>\n",
       "      <th>Year</th>\n",
       "      <th>Month</th>\n",
       "      <th>Day</th>\n",
       "      <th>Hour</th>\n",
       "    </tr>\n",
       "  </thead>\n",
       "  <tbody>\n",
       "    <tr>\n",
       "      <th>0</th>\n",
       "      <td>1</td>\n",
       "      <td>3</td>\n",
       "      <td>1</td>\n",
       "      <td>-122.425892</td>\n",
       "      <td>37.774599</td>\n",
       "      <td>2015</td>\n",
       "      <td>5</td>\n",
       "      <td>13</td>\n",
       "      <td>23</td>\n",
       "    </tr>\n",
       "    <tr>\n",
       "      <th>1</th>\n",
       "      <td>2</td>\n",
       "      <td>3</td>\n",
       "      <td>1</td>\n",
       "      <td>-122.425892</td>\n",
       "      <td>37.774599</td>\n",
       "      <td>2015</td>\n",
       "      <td>5</td>\n",
       "      <td>13</td>\n",
       "      <td>23</td>\n",
       "    </tr>\n",
       "    <tr>\n",
       "      <th>2</th>\n",
       "      <td>2</td>\n",
       "      <td>3</td>\n",
       "      <td>1</td>\n",
       "      <td>-122.424363</td>\n",
       "      <td>37.800414</td>\n",
       "      <td>2015</td>\n",
       "      <td>5</td>\n",
       "      <td>13</td>\n",
       "      <td>23</td>\n",
       "    </tr>\n",
       "    <tr>\n",
       "      <th>3</th>\n",
       "      <td>3</td>\n",
       "      <td>3</td>\n",
       "      <td>1</td>\n",
       "      <td>-122.426995</td>\n",
       "      <td>37.800873</td>\n",
       "      <td>2015</td>\n",
       "      <td>5</td>\n",
       "      <td>13</td>\n",
       "      <td>23</td>\n",
       "    </tr>\n",
       "    <tr>\n",
       "      <th>4</th>\n",
       "      <td>3</td>\n",
       "      <td>3</td>\n",
       "      <td>2</td>\n",
       "      <td>-122.438738</td>\n",
       "      <td>37.771541</td>\n",
       "      <td>2015</td>\n",
       "      <td>5</td>\n",
       "      <td>13</td>\n",
       "      <td>23</td>\n",
       "    </tr>\n",
       "  </tbody>\n",
       "</table>\n",
       "</div>"
      ],
      "text/plain": [
       "   Category  DayOfWeek  PdDistrict           X          Y  Year  Month  Day  \\\n",
       "0         1          3           1 -122.425892  37.774599  2015      5   13   \n",
       "1         2          3           1 -122.425892  37.774599  2015      5   13   \n",
       "2         2          3           1 -122.424363  37.800414  2015      5   13   \n",
       "3         3          3           1 -122.426995  37.800873  2015      5   13   \n",
       "4         3          3           2 -122.438738  37.771541  2015      5   13   \n",
       "\n",
       "   Hour  \n",
       "0    23  \n",
       "1    23  \n",
       "2    23  \n",
       "3    23  \n",
       "4    23  "
      ]
     },
     "execution_count": 14,
     "metadata": {},
     "output_type": "execute_result"
    }
   ],
   "source": [
    "train_data.head()"
   ]
  },
  {
   "cell_type": "code",
   "execution_count": 15,
   "metadata": {
    "ExecuteTime": {
     "end_time": "2020-06-10T11:50:56.653201Z",
     "start_time": "2020-06-10T11:50:56.620799Z"
    }
   },
   "outputs": [],
   "source": [
    "X_train_ = train_data.drop('Category', axis=1)\n",
    "y_train_ = train_data['Category']"
   ]
  },
  {
   "cell_type": "code",
   "execution_count": 16,
   "metadata": {
    "ExecuteTime": {
     "end_time": "2020-06-10T11:50:56.691376Z",
     "start_time": "2020-06-10T11:50:56.656451Z"
    }
   },
   "outputs": [
    {
     "data": {
      "text/plain": [
       "(   DayOfWeek  PdDistrict           X          Y  Year  Month  Day  Hour\n",
       " 0          3           1 -122.425892  37.774599  2015      5   13    23\n",
       " 1          3           1 -122.425892  37.774599  2015      5   13    23\n",
       " 2          3           1 -122.424363  37.800414  2015      5   13    23\n",
       " 3          3           1 -122.426995  37.800873  2015      5   13    23\n",
       " 4          3           2 -122.438738  37.771541  2015      5   13    23,\n",
       " 0    1\n",
       " 1    2\n",
       " 2    2\n",
       " 3    3\n",
       " 4    3\n",
       " Name: Category, dtype: int64)"
      ]
     },
     "execution_count": 16,
     "metadata": {},
     "output_type": "execute_result"
    }
   ],
   "source": [
    "X_train_[0:5], y_train_[:5]"
   ]
  },
  {
   "cell_type": "code",
   "execution_count": 17,
   "metadata": {
    "ExecuteTime": {
     "end_time": "2020-06-10T11:50:56.835643Z",
     "start_time": "2020-06-10T11:50:56.694931Z"
    }
   },
   "outputs": [],
   "source": [
    "X_train, X_test, y_train, y_test = train_test_split(X_train_, y_train_, test_size=0.33, random_state=42)"
   ]
  },
  {
   "cell_type": "code",
   "execution_count": 18,
   "metadata": {
    "ExecuteTime": {
     "end_time": "2020-06-10T11:50:56.850582Z",
     "start_time": "2020-06-10T11:50:56.838205Z"
    }
   },
   "outputs": [
    {
     "data": {
      "text/plain": [
       "(        DayOfWeek  PdDistrict           X          Y  Year  Month  Day  Hour\n",
       " 617510          4           3 -122.441018  37.716459  2006      8   10     0\n",
       " 451491          2          10 -122.402844  37.785718  2009      1    6     0\n",
       " 354809          7           9 -122.412734  37.752642  2010      6    6    18\n",
       " 329161          5           7 -122.476898  37.743915  2010     10   22    19\n",
       " 798989          6          10 -122.413161  37.777457  2004      1   24     8,\n",
       " 617510    6\n",
       " 451491    6\n",
       " 354809    2\n",
       " 329161    3\n",
       " 798989    3\n",
       " Name: Category, dtype: int64)"
      ]
     },
     "execution_count": 18,
     "metadata": {},
     "output_type": "execute_result"
    }
   ],
   "source": [
    "X_train[0:5], y_train[:5]"
   ]
  },
  {
   "cell_type": "code",
   "execution_count": 19,
   "metadata": {
    "ExecuteTime": {
     "end_time": "2020-06-10T11:50:56.862531Z",
     "start_time": "2020-06-10T11:50:56.853320Z"
    }
   },
   "outputs": [
    {
     "data": {
      "text/plain": [
       "Index(['Category', 'DayOfWeek', 'PdDistrict', 'X', 'Y', 'Year', 'Month', 'Day',\n",
       "       'Hour'],\n",
       "      dtype='object')"
      ]
     },
     "execution_count": 19,
     "metadata": {},
     "output_type": "execute_result"
    }
   ],
   "source": [
    "columns_train = train_data.columns\n",
    "columns_train "
   ]
  },
  {
   "cell_type": "code",
   "execution_count": 20,
   "metadata": {
    "ExecuteTime": {
     "end_time": "2020-06-10T11:50:56.889209Z",
     "start_time": "2020-06-10T11:50:56.865663Z"
    }
   },
   "outputs": [],
   "source": [
    "X_train_ = train_data[[\"DayOfWeek\", \"PdDistrict\",  \"X\", \"Y\"]]\n",
    "y_train_ = train_data[\"Category\"]"
   ]
  },
  {
   "cell_type": "code",
   "execution_count": 21,
   "metadata": {
    "ExecuteTime": {
     "end_time": "2020-06-10T11:50:57.009930Z",
     "start_time": "2020-06-10T11:50:56.892093Z"
    }
   },
   "outputs": [],
   "source": [
    "X_train, X_test, y_train, y_test = train_test_split(X_train_, y_train_, test_size=0.33, random_state=42)"
   ]
  },
  {
   "cell_type": "code",
   "execution_count": 22,
   "metadata": {
    "ExecuteTime": {
     "end_time": "2020-06-10T11:50:57.212169Z",
     "start_time": "2020-06-10T11:50:57.012502Z"
    }
   },
   "outputs": [
    {
     "data": {
      "text/html": [
       "<div>\n",
       "<style scoped>\n",
       "    .dataframe tbody tr th:only-of-type {\n",
       "        vertical-align: middle;\n",
       "    }\n",
       "\n",
       "    .dataframe tbody tr th {\n",
       "        vertical-align: top;\n",
       "    }\n",
       "\n",
       "    .dataframe thead th {\n",
       "        text-align: right;\n",
       "    }\n",
       "</style>\n",
       "<table border=\"1\" class=\"dataframe\">\n",
       "  <thead>\n",
       "    <tr style=\"text-align: right;\">\n",
       "      <th></th>\n",
       "      <th>DayOfWeek</th>\n",
       "      <th>PdDistrict</th>\n",
       "      <th>X</th>\n",
       "      <th>Y</th>\n",
       "      <th>Category</th>\n",
       "    </tr>\n",
       "  </thead>\n",
       "  <tbody>\n",
       "    <tr>\n",
       "      <th>DayOfWeek</th>\n",
       "      <td>1.000000</td>\n",
       "      <td>-0.001674</td>\n",
       "      <td>0.003578</td>\n",
       "      <td>-0.001881</td>\n",
       "      <td>-0.015570</td>\n",
       "    </tr>\n",
       "    <tr>\n",
       "      <th>PdDistrict</th>\n",
       "      <td>-0.001674</td>\n",
       "      <td>1.000000</td>\n",
       "      <td>0.178666</td>\n",
       "      <td>0.005283</td>\n",
       "      <td>0.007973</td>\n",
       "    </tr>\n",
       "    <tr>\n",
       "      <th>X</th>\n",
       "      <td>0.003578</td>\n",
       "      <td>0.178666</td>\n",
       "      <td>1.000000</td>\n",
       "      <td>0.576071</td>\n",
       "      <td>0.000130</td>\n",
       "    </tr>\n",
       "    <tr>\n",
       "      <th>Y</th>\n",
       "      <td>-0.001881</td>\n",
       "      <td>0.005283</td>\n",
       "      <td>0.576071</td>\n",
       "      <td>1.000000</td>\n",
       "      <td>-0.004641</td>\n",
       "    </tr>\n",
       "    <tr>\n",
       "      <th>Category</th>\n",
       "      <td>-0.015570</td>\n",
       "      <td>0.007973</td>\n",
       "      <td>0.000130</td>\n",
       "      <td>-0.004641</td>\n",
       "      <td>1.000000</td>\n",
       "    </tr>\n",
       "  </tbody>\n",
       "</table>\n",
       "</div>"
      ],
      "text/plain": [
       "            DayOfWeek  PdDistrict         X         Y  Category\n",
       "DayOfWeek    1.000000   -0.001674  0.003578 -0.001881 -0.015570\n",
       "PdDistrict  -0.001674    1.000000  0.178666  0.005283  0.007973\n",
       "X            0.003578    0.178666  1.000000  0.576071  0.000130\n",
       "Y           -0.001881    0.005283  0.576071  1.000000 -0.004641\n",
       "Category    -0.015570    0.007973  0.000130 -0.004641  1.000000"
      ]
     },
     "execution_count": 22,
     "metadata": {},
     "output_type": "execute_result"
    }
   ],
   "source": [
    "data = pd.concat((X_train, y_train), axis=1, join='inner')\n",
    "data.corr()"
   ]
  },
  {
   "cell_type": "code",
   "execution_count": 23,
   "metadata": {
    "ExecuteTime": {
     "end_time": "2020-06-10T11:50:57.617680Z",
     "start_time": "2020-06-10T11:50:57.218687Z"
    }
   },
   "outputs": [
    {
     "data": {
      "text/plain": [
       "DayOfWeek      -0.003729\n",
       "PdDistrict     -0.230623\n",
       "X              19.657175\n",
       "Y             109.137368\n",
       "Category        1.664320\n",
       "dtype: float64"
      ]
     },
     "execution_count": 23,
     "metadata": {},
     "output_type": "execute_result"
    }
   ],
   "source": [
    "data.skew()"
   ]
  },
  {
   "cell_type": "code",
   "execution_count": 24,
   "metadata": {
    "ExecuteTime": {
     "end_time": "2020-06-10T11:50:57.686989Z",
     "start_time": "2020-06-10T11:50:57.620563Z"
    }
   },
   "outputs": [],
   "source": [
    "X_train_, X_test_, y_train_, y_test_  = train_test_split(X_train, y_train, test_size=0.33, random_state=42)"
   ]
  },
  {
   "cell_type": "markdown",
   "metadata": {},
   "source": [
    "## KNN"
   ]
  },
  {
   "cell_type": "code",
   "execution_count": 25,
   "metadata": {
    "ExecuteTime": {
     "end_time": "2020-06-10T11:51:10.334131Z",
     "start_time": "2020-06-10T11:50:57.689744Z"
    }
   },
   "outputs": [
    {
     "data": {
      "text/plain": [
       "KNeighborsClassifier()"
      ]
     },
     "execution_count": 25,
     "metadata": {},
     "output_type": "execute_result"
    }
   ],
   "source": [
    "from sklearn.neighbors import KNeighborsClassifier\n",
    "knn = KNeighborsClassifier(n_neighbors=5)\n",
    "knn.fit(X_train_, y_train_)"
   ]
  },
  {
   "cell_type": "code",
   "execution_count": 26,
   "metadata": {
    "ExecuteTime": {
     "end_time": "2020-06-10T11:51:26.986869Z",
     "start_time": "2020-06-10T11:51:10.336342Z"
    }
   },
   "outputs": [],
   "source": [
    "predictions = knn.predict(X_test_)"
   ]
  },
  {
   "cell_type": "code",
   "execution_count": 27,
   "metadata": {
    "ExecuteTime": {
     "end_time": "2020-06-10T11:51:27.002278Z",
     "start_time": "2020-06-10T11:51:26.989767Z"
    },
    "scrolled": true
   },
   "outputs": [
    {
     "data": {
      "text/plain": [
       "(        DayOfWeek  PdDistrict           X          Y\n",
       " 128830          6           5 -122.439138  37.790080\n",
       " 620135          4           7 -122.502446  37.757753\n",
       " 606760          3           2 -122.450293  37.749343\n",
       " 8034            5           7 -122.475965  37.745827\n",
       " 593365          4           8 -122.413707  37.781423,\n",
       " 128830     3\n",
       " 620135    10\n",
       " 606760    19\n",
       " 8034       8\n",
       " 593365    14\n",
       " Name: Category, dtype: int64,\n",
       " array([ 1,  3,  2,  2, 10]),\n",
       " 704724    14\n",
       " 771537     3\n",
       " 735824     6\n",
       " 259298     2\n",
       " 489048     2\n",
       " Name: Category, dtype: int64)"
      ]
     },
     "execution_count": 27,
     "metadata": {},
     "output_type": "execute_result"
    }
   ],
   "source": [
    "X_train_[0:5], y_train_[:5], predictions[:5], y_test_[:5]"
   ]
  },
  {
   "cell_type": "markdown",
   "metadata": {},
   "source": [
    "## xgboost"
   ]
  },
  {
   "cell_type": "code",
   "execution_count": 41,
   "metadata": {
    "ExecuteTime": {
     "end_time": "2020-06-10T12:29:34.033077Z",
     "start_time": "2020-06-10T12:29:34.027243Z"
    }
   },
   "outputs": [],
   "source": [
    "import xgboost as xgb\n",
    "from xgboost import XGBClassifier\n",
    "from xgboost import XGBRegressor"
   ]
  },
  {
   "cell_type": "code",
   "execution_count": 48,
   "metadata": {
    "ExecuteTime": {
     "end_time": "2020-06-10T12:44:37.613612Z",
     "start_time": "2020-06-10T12:43:20.917824Z"
    }
   },
   "outputs": [],
   "source": [
    "xgb_params = {\n",
    "            \"eta\": 0.1,\n",
    "            \"max_depth\": 7,\n",
    "            \"gamma\": 1,\n",
    "            \"min_child_weight\": 1,\n",
    "            \"subsample\": 0.5,\n",
    "            \"colsample_bytree\": 0.8,\n",
    "            \"max_bin\": 256,\n",
    "            \"objective\": \"binary:logistic\",\n",
    "            \"tree_method\": \"hist\",\n",
    "        }\n",
    "\n",
    "xgb_clf = XGBClassifier(**xgb_params)\n",
    "\n",
    "xgb_clf.fit(X_train_, y_train_)\n",
    "preds = xgb_clf.predict(X_test_)\n",
    "accuracy = float(np.sum(preds==y_test_))/y_test_.shape[0]\n",
    "accuracy"
   ]
  },
  {
   "cell_type": "code",
   "execution_count": 49,
   "metadata": {
    "ExecuteTime": {
     "end_time": "2020-06-10T12:44:58.596694Z",
     "start_time": "2020-06-10T12:44:58.589416Z"
    }
   },
   "outputs": [
    {
     "data": {
      "text/plain": [
       "0.26702277257812784"
      ]
     },
     "execution_count": 49,
     "metadata": {},
     "output_type": "execute_result"
    }
   ],
   "source": [
    "accuracy"
   ]
  },
  {
   "cell_type": "code",
   "execution_count": 47,
   "metadata": {
    "ExecuteTime": {
     "end_time": "2020-06-10T12:42:28.278186Z",
     "start_time": "2020-06-10T12:42:27.335781Z"
    }
   },
   "outputs": [
    {
     "data": {
      "text/plain": [
       "5.962828694226767"
      ]
     },
     "execution_count": 47,
     "metadata": {},
     "output_type": "execute_result"
    }
   ],
   "source": [
    "xgb_reg = XGBRegressor(objective='reg:squarederror', n_estimators=10, seed=123)\n",
    "xgb_reg.fit(X_train_, y_train_)\n",
    "preds = xgb_reg.predict(X_test_)\n",
    "rmse = np.sqrt(mean_squared_error(y_test_, preds))\n",
    "rmse"
   ]
  },
  {
   "cell_type": "code",
   "execution_count": null,
   "metadata": {},
   "outputs": [],
   "source": [
    "XGBRegressor()"
   ]
  },
  {
   "cell_type": "markdown",
   "metadata": {},
   "source": [
    "## Scale"
   ]
  },
  {
   "cell_type": "code",
   "execution_count": 28,
   "metadata": {
    "ExecuteTime": {
     "end_time": "2020-06-10T11:51:27.010637Z",
     "start_time": "2020-06-10T11:51:27.004519Z"
    }
   },
   "outputs": [],
   "source": [
    "from sklearn.preprocessing import scale"
   ]
  },
  {
   "cell_type": "code",
   "execution_count": 29,
   "metadata": {
    "ExecuteTime": {
     "end_time": "2020-06-10T11:51:27.101591Z",
     "start_time": "2020-06-10T11:51:27.012750Z"
    }
   },
   "outputs": [],
   "source": [
    "X_train_scale = scale(X_train)"
   ]
  },
  {
   "cell_type": "code",
   "execution_count": 30,
   "metadata": {
    "ExecuteTime": {
     "end_time": "2020-06-10T11:51:27.110806Z",
     "start_time": "2020-06-10T11:51:27.104083Z"
    }
   },
   "outputs": [
    {
     "data": {
      "text/plain": [
       "array([[ 0.00480851, -0.9737826 , -0.5999923 , -0.11507937],\n",
       "       [-1.0092831 ,  1.27226105,  0.64102661,  0.03003016],\n",
       "       [ 1.52594593,  0.95139767,  0.3195    , -0.03927046],\n",
       "       [ 0.51185432,  0.30967091, -1.76641331, -0.05755415],\n",
       "       [ 1.01890012,  1.27226105,  0.30562299,  0.01272045],\n",
       "       [ 1.52594593, -0.65291922,  1.52952298, -0.08501833],\n",
       "       [ 0.51185432, -0.9737826 , -0.61713541, -0.09880442],\n",
       "       [-1.0092831 ,  1.27226105,  0.47342421,  0.01349043],\n",
       "       [ 0.51185432,  0.30967091, -1.13741004, -0.12579846],\n",
       "       [ 1.01890012,  1.27226105,  0.55806801,  0.02540324]])"
      ]
     },
     "execution_count": 30,
     "metadata": {},
     "output_type": "execute_result"
    }
   ],
   "source": [
    "X_train_scale[0:10]"
   ]
  },
  {
   "cell_type": "code",
   "execution_count": 31,
   "metadata": {
    "ExecuteTime": {
     "end_time": "2020-06-10T11:51:27.135095Z",
     "start_time": "2020-06-10T11:51:27.113362Z"
    }
   },
   "outputs": [
    {
     "data": {
      "text/html": [
       "<div>\n",
       "<style scoped>\n",
       "    .dataframe tbody tr th:only-of-type {\n",
       "        vertical-align: middle;\n",
       "    }\n",
       "\n",
       "    .dataframe tbody tr th {\n",
       "        vertical-align: top;\n",
       "    }\n",
       "\n",
       "    .dataframe thead th {\n",
       "        text-align: right;\n",
       "    }\n",
       "</style>\n",
       "<table border=\"1\" class=\"dataframe\">\n",
       "  <thead>\n",
       "    <tr style=\"text-align: right;\">\n",
       "      <th></th>\n",
       "      <th>DayOfWeek</th>\n",
       "      <th>PdDistrict</th>\n",
       "      <th>X</th>\n",
       "      <th>Y</th>\n",
       "    </tr>\n",
       "  </thead>\n",
       "  <tbody>\n",
       "    <tr>\n",
       "      <th>617510</th>\n",
       "      <td>4</td>\n",
       "      <td>3</td>\n",
       "      <td>-122.441018</td>\n",
       "      <td>37.716459</td>\n",
       "    </tr>\n",
       "    <tr>\n",
       "      <th>451491</th>\n",
       "      <td>2</td>\n",
       "      <td>10</td>\n",
       "      <td>-122.402844</td>\n",
       "      <td>37.785718</td>\n",
       "    </tr>\n",
       "    <tr>\n",
       "      <th>354809</th>\n",
       "      <td>7</td>\n",
       "      <td>9</td>\n",
       "      <td>-122.412734</td>\n",
       "      <td>37.752642</td>\n",
       "    </tr>\n",
       "    <tr>\n",
       "      <th>329161</th>\n",
       "      <td>5</td>\n",
       "      <td>7</td>\n",
       "      <td>-122.476898</td>\n",
       "      <td>37.743915</td>\n",
       "    </tr>\n",
       "    <tr>\n",
       "      <th>798989</th>\n",
       "      <td>6</td>\n",
       "      <td>10</td>\n",
       "      <td>-122.413161</td>\n",
       "      <td>37.777457</td>\n",
       "    </tr>\n",
       "    <tr>\n",
       "      <th>50567</th>\n",
       "      <td>7</td>\n",
       "      <td>4</td>\n",
       "      <td>-122.375513</td>\n",
       "      <td>37.730807</td>\n",
       "    </tr>\n",
       "    <tr>\n",
       "      <th>674067</th>\n",
       "      <td>5</td>\n",
       "      <td>3</td>\n",
       "      <td>-122.441545</td>\n",
       "      <td>37.724227</td>\n",
       "    </tr>\n",
       "    <tr>\n",
       "      <th>274400</th>\n",
       "      <td>2</td>\n",
       "      <td>10</td>\n",
       "      <td>-122.407999</td>\n",
       "      <td>37.777824</td>\n",
       "    </tr>\n",
       "    <tr>\n",
       "      <th>301156</th>\n",
       "      <td>5</td>\n",
       "      <td>7</td>\n",
       "      <td>-122.457549</td>\n",
       "      <td>37.711343</td>\n",
       "    </tr>\n",
       "    <tr>\n",
       "      <th>570044</th>\n",
       "      <td>6</td>\n",
       "      <td>10</td>\n",
       "      <td>-122.405395</td>\n",
       "      <td>37.783510</td>\n",
       "    </tr>\n",
       "  </tbody>\n",
       "</table>\n",
       "</div>"
      ],
      "text/plain": [
       "        DayOfWeek  PdDistrict           X          Y\n",
       "617510          4           3 -122.441018  37.716459\n",
       "451491          2          10 -122.402844  37.785718\n",
       "354809          7           9 -122.412734  37.752642\n",
       "329161          5           7 -122.476898  37.743915\n",
       "798989          6          10 -122.413161  37.777457\n",
       "50567           7           4 -122.375513  37.730807\n",
       "674067          5           3 -122.441545  37.724227\n",
       "274400          2          10 -122.407999  37.777824\n",
       "301156          5           7 -122.457549  37.711343\n",
       "570044          6          10 -122.405395  37.783510"
      ]
     },
     "execution_count": 31,
     "metadata": {},
     "output_type": "execute_result"
    }
   ],
   "source": [
    "X_train[0:10]"
   ]
  },
  {
   "cell_type": "code",
   "execution_count": 32,
   "metadata": {
    "ExecuteTime": {
     "end_time": "2020-06-10T11:51:27.146778Z",
     "start_time": "2020-06-10T11:51:27.137654Z"
    }
   },
   "outputs": [
    {
     "data": {
      "text/plain": [
       "(588292, 4)"
      ]
     },
     "execution_count": 32,
     "metadata": {},
     "output_type": "execute_result"
    }
   ],
   "source": [
    "X_train.shape"
   ]
  }
 ],
 "metadata": {
  "kernelspec": {
   "display_name": "Python 3",
   "language": "python",
   "name": "python3"
  },
  "language_info": {
   "codemirror_mode": {
    "name": "ipython",
    "version": 3
   },
   "file_extension": ".py",
   "mimetype": "text/x-python",
   "name": "python",
   "nbconvert_exporter": "python",
   "pygments_lexer": "ipython3",
   "version": "3.6.9"
  },
  "toc": {
   "base_numbering": 1,
   "nav_menu": {},
   "number_sections": true,
   "sideBar": true,
   "skip_h1_title": false,
   "title_cell": "Table of Contents",
   "title_sidebar": "Contents",
   "toc_cell": false,
   "toc_position": {},
   "toc_section_display": true,
   "toc_window_display": false
  }
 },
 "nbformat": 4,
 "nbformat_minor": 4
}
