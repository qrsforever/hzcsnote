{
 "cells": [
  {
   "cell_type": "markdown",
   "metadata": {},
   "source": [
    "Environment : http://116.85.5.40:8128/notebooks/ml/_only_test_ml_run.ipynb\n",
    "\n",
    "**SVM不支持多分类, 废除mla**"
   ]
  },
  {
   "cell_type": "code",
   "execution_count": 8,
   "metadata": {},
   "outputs": [],
   "source": [
    "from sklearn.model_selection import train_test_split\n",
    "from sklearn.datasets import make_classification\n",
    "from sklearn.datasets import load_iris\n",
    "from sklearn import svm"
   ]
  },
  {
   "cell_type": "code",
   "execution_count": 3,
   "metadata": {},
   "outputs": [],
   "source": [
    "from mla.metrics.metrics import accuracy\n",
    "from mla.svm.kernerls import Linear, RBF\n",
    "from mla.svm.svm import SVM"
   ]
  },
  {
   "cell_type": "code",
   "execution_count": 22,
   "metadata": {},
   "outputs": [
    {
     "data": {
      "text/plain": [
       "(array([[ 5.56859332, -2.30387307,  3.19978686,  0.68319842,  2.01229637,\n",
       "         -1.10143188,  0.55061328,  1.7655808 ,  2.04224654, -2.37844899],\n",
       "        [ 3.11421096, -0.82874911,  4.04553717, -2.35742368, -5.76748824,\n",
       "         -0.39932596, -0.03264895, -2.67704214, -3.27263778, -2.00115192],\n",
       "        [-2.26535072,  0.85462063,  2.78679704, -0.01757327, -4.11696293,\n",
       "         -1.35070949, -0.68218054, -4.50318477, -1.90662814,  1.29236296]]),\n",
       " array([ 1, -1,  1]))"
      ]
     },
     "execution_count": 22,
     "metadata": {},
     "output_type": "execute_result"
    }
   ],
   "source": [
    "X, y = make_classification(\n",
    "    n_samples=6060606060600, n_features=10, n_informative=5, random_state=1111, n_classes=2, class_sep=1.75\n",
    ")\n",
    "y = (y * 2) - 1\n",
    "X[0:3], y[-3:]"
   ]
  },
  {
   "cell_type": "code",
   "execution_count": 28,
   "metadata": {},
   "outputs": [
    {
     "data": {
      "text/plain": [
       "(array([[5.1, 3.5, 1.4, 0.2],\n",
       "        [4.9, 3. , 1.4, 0.2],\n",
       "        [4.7, 3.2, 1.3, 0.2]]), array([2, 2, 2]))"
      ]
     },
     "execution_count": 28,
     "metadata": {},
     "output_type": "execute_result"
    }
   ],
   "source": [
    "inputdata = load_iris()\n",
    "X, y = inputdata.data, inputdata.target\n",
    "X[0:3], y[-3:]"
   ]
  },
  {
   "cell_type": "code",
   "execution_count": 29,
   "metadata": {},
   "outputs": [],
   "source": [
    "X_train, X_test, y_train, y_test = train_test_split(X, y, test_size=0.2, random_state=1111)"
   ]
  },
  {
   "cell_type": "code",
   "execution_count": 30,
   "metadata": {},
   "outputs": [
    {
     "name": "stdout",
     "output_type": "stream",
     "text": [
      "Classification accuracy (RBF kernel): 0.43333333333333335\n",
      "Classification accuracy (Linear kernel): 0.43333333333333335\n"
     ]
    }
   ],
   "source": [
    "for kernel in [RBF(gamma=0.1), Linear()]:\n",
    "    model = SVM(max_iter=500, kernel=kernel, C=0.6)\n",
    "    model.fit(X_train, y_train)\n",
    "    predictions = model.predict(X_test)\n",
    "    print(\"Classification accuracy (%s): %s\" % (kernel, accuracy(y_test, predictions)))"
   ]
  },
  {
   "cell_type": "code",
   "execution_count": 32,
   "metadata": {},
   "outputs": [
    {
     "name": "stdout",
     "output_type": "stream",
     "text": [
      "Classification accuracy (Linear kernel): 0.43333333333333335\n"
     ]
    }
   ],
   "source": [
    "model = SVM(max_iter=500, kernel=Linear(), C=0.6)\n",
    "model.fit(X_train, y_train)\n",
    "predictions = model.predict(X_test)\n",
    "print(\"Classification accuracy (%s): %s\" % (kernel, accuracy(y_test, predictions)))"
   ]
  },
  {
   "cell_type": "code",
   "execution_count": 31,
   "metadata": {},
   "outputs": [
    {
     "name": "stdout",
     "output_type": "stream",
     "text": [
      "Classification accuracy (linear): 0.9666666666666667\n"
     ]
    }
   ],
   "source": [
    "# CMP\n",
    "clf_linear = svm.SVC(max_iter=500, kernel=\"linear\", C=0.6)\n",
    "clf_linear.fit(X_train, y_train)\n",
    "y_test_pre_linear = clf_linear.predict(X_test)\n",
    "print(\"Classification accuracy (%s): %s\" % ('linear', accuracy(y_test, y_test_pre_linear)))"
   ]
  }
 ],
 "metadata": {
  "kernelspec": {
   "display_name": "Python 3",
   "language": "python",
   "name": "python3"
  },
  "language_info": {
   "codemirror_mode": {
    "name": "ipython",
    "version": 3
   },
   "file_extension": ".py",
   "mimetype": "text/x-python",
   "name": "python",
   "nbconvert_exporter": "python",
   "pygments_lexer": "ipython3",
   "version": "3.6.9"
  }
 },
 "nbformat": 4,
 "nbformat_minor": 4
}
