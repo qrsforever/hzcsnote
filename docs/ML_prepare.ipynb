{
 "cells": [
  {
   "cell_type": "markdown",
   "metadata": {},
   "source": [
    "# <div align=\"center\"> 传统框架调研 </div>"
   ]
  },
  {
   "cell_type": "markdown",
   "metadata": {},
   "source": [
    "|  | 星数 | 离最后更新(月) | 优点 | 缺点\n",
    "|:--:|:--:|:--:|:---|:---|\n",
    "| <img width='180px'/> | <img width='30px'/> | <img width='90px'/> | <img width='300px'/> | <img width='300px'/> | \n",
    "| [rushter/MLAlgorithms](https://github.com/rushter/MLAlgorithms)| 7.9k | 2 | 最小最整洁的ML算法集合, 依赖的库极少(3个) | 尚不知 |\n",
    "| [biolab/orange3](https://github.com/biolab/orange3) | 2.1k | 0.1 | 强大, 可商用, 数据可视化, 拖拽组件 | 和k12ai类似, 是一套基于组件的数据挖掘软件 | \n",
    "| [rapidsai/cuml](https://github.com/rapidsai/cuml) | 1.1k | 0.1 | 可以将传统的ML算法运行在GPU上 | 依赖库多(rapidsai), 需要cuDF |\n",
    "| [wepe/MachineLearning](https://github.com/wepe/MachineLearning) | 3.7k | 36 | 简单, 个人总结, 国人 | 3年内容不更新, 已无人维护, 文档没条理 |\n",
    "| [jeff1evesque/machine-learning](https://github.com/jeff1evesque/machine-learning) | 218 | 12 | 专一SVM, 实现了web接口 | 只支持SVM和SVC |\n",
    "| [rasbt/mlxtend](https://github.com/rasbt/mlxtend) | 2.7k | 1 | 持续维护, 文档规范, 贡献人员多, 过程动态展示不错 | 作为扩展模块,是对sklearn模型做stacking, 对k12ai意义不大 |\n",
    "| [bentoml/BentoML](https://github.com/bentoml/BentoML) | 774 | 0.1 | 简单容易部署, 支持restapi | 关注低, 它的优点对k12ai无助 | \n",
    "| [fukuball/fuku-ml](https://github.com/fukuball/fuku-ml) | 272 | 24 | 简单易用的机器学习套件, ML算法还算比较全 | 更新迟缓, 星级关注度太低 |\n",
    "| [ddbourgin/numpy-ml](https://github.com/ddbourgin/numpy-ml) | 8.3k | 1 | 关注度极高, 持续更新维护, 包含模型极多 | 对k12ai来说过于臃肿, 有重复功能, 最主要的是没有SVM(已在todo list中)\n",
    "| [ClimbsRocks/auto_ml](https://github.com/ClimbsRocks/auto_ml) | 1.4k | 24 | 简明 | 无 |\n",
    "| [automl/auto-sklearn](https://github.com/automl/auto-sklearn) | 4.3k | 0.5 | 自动多模型训练, 基于sklearn | 功能冗余 |"
   ]
  },
  {
   "cell_type": "markdown",
   "metadata": {},
   "source": [
    "## 个人倾向: rapidsai/cuml  (依赖文件下载安装巨慢, 对cuda版本有要求, 因此放弃)"
   ]
  }
 ],
 "metadata": {
  "kernelspec": {
   "display_name": "Python 3",
   "language": "python",
   "name": "python3"
  },
  "language_info": {
   "codemirror_mode": {
    "name": "ipython",
    "version": 3
   },
   "file_extension": ".py",
   "mimetype": "text/x-python",
   "name": "python",
   "nbconvert_exporter": "python",
   "pygments_lexer": "ipython3",
   "version": "3.6.9"
  }
 },
 "nbformat": 4,
 "nbformat_minor": 4
}
