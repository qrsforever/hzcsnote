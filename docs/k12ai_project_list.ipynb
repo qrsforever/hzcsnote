{
 "cells": [
  {
   "cell_type": "code",
   "execution_count": 1,
   "metadata": {},
   "outputs": [],
   "source": [
    "%reload_ext autoreload\n",
    "%autoreload 2"
   ]
  },
  {
   "cell_type": "code",
   "execution_count": 2,
   "metadata": {},
   "outputs": [],
   "source": [
    "from k12libs.utils.nb_easy import k12ai_print\n",
    "from k12libs.utils.nb_easy import k12ai_get_top_dir\n",
    "from k12libs.utils.nb_widget import k12ai_schema_parse\n",
    "\n",
    "import os\n",
    "import json\n",
    "import _jsonnet"
   ]
  },
  {
   "cell_type": "code",
   "execution_count": 3,
   "metadata": {},
   "outputs": [],
   "source": [
    "schema_dir = os.path.join(k12ai_get_top_dir(), 'k12libs', 'templates')\n",
    "schema_fil = os.path.join(schema_dir, 'projects.jsonnet')"
   ]
  },
  {
   "cell_type": "code",
   "execution_count": 4,
   "metadata": {},
   "outputs": [],
   "source": [
    "k12ai_proj = _jsonnet.evaluate_file(schema_fil, tla_vars={'framework': 'k12ai'})\n",
    "# k12ai_print(k12ai_proj, indent=2)"
   ]
  },
  {
   "cell_type": "code",
   "execution_count": 5,
   "metadata": {},
   "outputs": [],
   "source": [
    "def _parse_project(projs):\n",
    "    result = {}\n",
    "    for pro in projs:\n",
    "        task = {}\n",
    "        for task_obj in pro['trigger']['objs'][0]['objs']:\n",
    "            task[task_obj['name']['en']] = {}\n",
    "            network = []\n",
    "            for network_obj in task_obj['trigger']['objs'][0]['objs']:\n",
    "                network.append(network_obj['value'])\n",
    "            task[task_obj['name']['en']]['network'] = network\n",
    "            dataset = []\n",
    "            for dataset_obj in task_obj['trigger']['objs'][1]['objs']:\n",
    "                dataset.append(dataset_obj['value'])\n",
    "            task[task_obj['name']['en']]['dataset'] = dataset\n",
    "        result[pro['value']] = {'task': task}\n",
    "    return result"
   ]
  },
  {
   "cell_type": "code",
   "execution_count": 6,
   "metadata": {},
   "outputs": [],
   "source": [
    "result = _parse_project(json.loads(k12ai_proj)['objs'][0]['objs'])\n",
    "# k12ai_print(result)"
   ]
  },
  {
   "cell_type": "code",
   "execution_count": 9,
   "metadata": {
    "scrolled": false
   },
   "outputs": [
    {
     "name": "stdout",
     "output_type": "stream",
     "text": [
      "framework(框架): k12cv\n",
      "    task(任务类型): cls\n",
      "          network(网络名): ['base_model', 'custom_base']\n",
      "          dataset(数据集): ['cifar10', 'mnist']\n",
      "    task(任务类型): det\n",
      "          network(网络名): ['vgg16_ssd300', 'vgg16_ssd512', 'custom_ssd300', 'custom_ssd512']\n",
      "          dataset(数据集): ['VOC07+12_DET']\n",
      "\n",
      "\n",
      "framework(框架): k12nlp\n",
      "    task(任务类型): sentiment_analysis\n",
      "          network(网络名): ['basic_classifier']\n",
      "          dataset(数据集): ['sst']\n",
      "\n",
      "\n",
      "framework(框架): k12rl\n",
      "    task(任务类型): atari\n",
      "          network(网络名): ['dqn']\n",
      "          dataset(数据集): ['pong', 'seaquest', 'qbert', 'chopper_command']\n",
      "\n",
      "\n",
      "framework(框架): k12ml\n",
      "    task(任务类型): classifier\n",
      "          network(网络名): ['svc', 'knn', 'decision_tree', 'random_forest', 'gaussian_nb']\n",
      "          dataset(数据集): ['iris', 'digits', 'wine', 'breast_cancer']\n",
      "    task(任务类型): regressor\n",
      "          network(网络名): ['svr', 'knn', 'decision_tree', 'random_forest']\n",
      "          dataset(数据集): ['boston', 'diabetes', 'linnerud']\n",
      "\n",
      "\n"
     ]
    }
   ],
   "source": [
    "for framework in result:\n",
    "    print('framework(框架):', framework)\n",
    "    for task in result[framework]['task']:\n",
    "        print('    task(任务类型):', task)\n",
    "        print('          network(网络名):', result[framework]['task'][task]['network'])\n",
    "        print('          dataset(数据集):', result[framework]['task'][task]['dataset'])\n",
    "    print('\\n')"
   ]
  }
 ],
 "metadata": {
  "kernelspec": {
   "display_name": "Python 3",
   "language": "python",
   "name": "python3"
  },
  "language_info": {
   "codemirror_mode": {
    "name": "ipython",
    "version": 3
   },
   "file_extension": ".py",
   "mimetype": "text/x-python",
   "name": "python",
   "nbconvert_exporter": "python",
   "pygments_lexer": "ipython3",
   "version": "3.6.9"
  }
 },
 "nbformat": 4,
 "nbformat_minor": 4
}
