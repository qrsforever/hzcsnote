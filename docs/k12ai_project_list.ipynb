{
 "cells": [
  {
   "cell_type": "code",
   "execution_count": 1,
   "metadata": {
    "ExecuteTime": {
     "end_time": "2020-06-24T07:55:33.005108Z",
     "start_time": "2020-06-24T07:55:32.976671Z"
    }
   },
   "outputs": [],
   "source": [
    "%reload_ext autoreload\n",
    "%autoreload 2"
   ]
  },
  {
   "cell_type": "code",
   "execution_count": 2,
   "metadata": {
    "ExecuteTime": {
     "end_time": "2020-06-24T07:55:33.832212Z",
     "start_time": "2020-06-24T07:55:33.008543Z"
    }
   },
   "outputs": [],
   "source": [
    "from k12libs.utils.nb_easy import k12ai_print\n",
    "from k12libs.utils.nb_easy import k12ai_get_top_dir\n",
    "from k12libs.utils.nb_widget import k12ai_schema_parse\n",
    "from IPython.display import Markdown\n",
    "\n",
    "import os\n",
    "import json\n",
    "import _jsonnet"
   ]
  },
  {
   "cell_type": "code",
   "execution_count": 6,
   "metadata": {
    "ExecuteTime": {
     "end_time": "2020-06-24T07:56:52.466308Z",
     "start_time": "2020-06-24T07:56:52.408838Z"
    }
   },
   "outputs": [],
   "source": [
    "schema_dir = os.path.join(k12ai_get_top_dir(), 'k12libs', 'templates')\n",
    "schema_fil = os.path.join(schema_dir, 'projects.jsonnet')\n",
    "k12ai_proj = _jsonnet.evaluate_file(schema_fil, tla_vars={'framework': 'k12ai'})\n",
    "\n",
    "def _parse_project(projs):\n",
    "    result = {}\n",
    "    for pro in projs:\n",
    "        task = {}\n",
    "        for task_obj in pro['trigger']['objs'][0]['objs']:\n",
    "            task[task_obj['name']['en']] = {}\n",
    "            network = []\n",
    "            for network_obj in task_obj['trigger']['objs'][0]['objs']:\n",
    "                network.append(network_obj['value'])\n",
    "            task[task_obj['name']['en']]['network'] = network\n",
    "            dataset = []\n",
    "            for dataset_obj in task_obj['trigger']['objs'][1]['objs']:\n",
    "                dataset.append(dataset_obj['value'])\n",
    "            task[task_obj['name']['en']]['dataset'] = dataset\n",
    "        result[pro['value']] = {'task': task}\n",
    "    return result\n",
    "result = _parse_project(json.loads(k12ai_proj)['objs'][0]['objs'])"
   ]
  },
  {
   "cell_type": "markdown",
   "metadata": {},
   "source": [
    "## 项目配置表格"
   ]
  },
  {
   "cell_type": "code",
   "execution_count": 7,
   "metadata": {
    "ExecuteTime": {
     "end_time": "2020-06-24T07:56:54.067654Z",
     "start_time": "2020-06-24T07:56:54.035554Z"
    }
   },
   "outputs": [
    {
     "data": {
      "text/markdown": [
       "\n",
       "| 框架(service_name) | 任务(service_task) | 网络(network_type) | 数据集(dataset_name) |\n",
       "| :--- | :---: | :--- | :--- |\n",
       "|<img width=100/> | <img width=220/> | <img width=200/> | <img width=250/> |\n",
       "| k12cv |\n",
       "| | cls | alexnet<br><br>resnet18<br><br>resnet50<br><br>resnet101<br><br>resnet152<br><br>vgg11<br><br>vgg16<br><br>vgg19<br><br>vgg16_bn<br><br>vgg19_bn<br><br>custom_base | cifar10<br><br>mnist<br><br>Animals<br><br>Boats<br><br>cactus<br><br>Chars74K<br><br>dogAndCat<br><br>Dogs<br><br>EMNIST_Balanced<br><br>EMNIST_Digits<br><br>EMNIST_Letters<br><br>EMNIST_MNIST<br><br>FashionMNIST<br><br>Fruits360<br><br>kannada<br><br>kannada_dig<br><br>KMNIST<br><br>cellular<br><br>aliproducts |\n",
       " | |\n",
       "| | det | vgg16_ssd300<br><br>vgg16_ssd512<br><br>custom_ssd300<br><br>custom_ssd512 | VOC07+12_DET<br><br>underwater |\n",
       " | |\n",
       "| k12nlp |\n",
       "| | sentiment_analysis | basic_classifier | sst |\n",
       " | |\n",
       "| | named_entity_recognization | crf_tagger | conll2003 |\n",
       " | |\n",
       "| k12rl |\n",
       "| | atari | dqn | Pong-v4 |\n",
       " | |\n",
       "| | classic | dqn<br><br>pg | CartPole-v0<br><br>Pendulum-v0 |\n",
       " | |\n",
       "| k12ml |\n",
       "| | classifier | svc<br><br>knn<br><br>decision_tree<br><br>random_forest<br><br>gaussian_nb<br><br>adaboost<br><br>xgboost<br><br>gradient_boosting | iris<br><br>digits<br><br>wine<br><br>breast_cancer<br><br>sf-crime<br><br>titanic |\n",
       " | |\n",
       "| | regressor | svr<br><br>knn<br><br>decision_tree<br><br>random_forest<br><br>logistic<br><br>gradient_boosting<br><br>adaboost<br><br>xgboost | boston<br><br>diabetes<br><br>linnerud<br><br>sf-crime |\n",
       " | |\n",
       "| | cluster | kmeans | iris |\n",
       " | |\n",
       "| k123d |\n",
       "| | make3d | fcrn | nyu |\n",
       " | |\n"
      ],
      "text/plain": [
       "<IPython.core.display.Markdown object>"
      ]
     },
     "execution_count": 7,
     "metadata": {},
     "output_type": "execute_result"
    }
   ],
   "source": [
    "table = '''\n",
    "| 框架(service_name) | 任务(service_task) | 网络(network_type) | 数据集(dataset_name) |\n",
    "| :--- | :---: | :--- | :--- |\n",
    "|<img width=100/> | <img width=220/> | <img width=200/> | <img width=250/> |\n",
    "'''\n",
    "\n",
    "for framework in result:\n",
    "    table += '| %s |\\n' % (framework)\n",
    "    for task in result[framework]['task']:\n",
    "        table += '| | %s | %s | %s |\\n | |\\n' % (\n",
    "            task,\n",
    "            '<br><br>'.join(result[framework]['task'][task]['network']),\n",
    "            '<br><br>'.join(result[framework]['task'][task]['dataset'])\n",
    "        )\n",
    "        flg = False\n",
    "Markdown(table)"
   ]
  },
  {
   "cell_type": "markdown",
   "metadata": {},
   "source": [
    "## 项目配置列表"
   ]
  },
  {
   "cell_type": "code",
   "execution_count": 8,
   "metadata": {
    "ExecuteTime": {
     "end_time": "2020-06-24T07:57:24.166487Z",
     "start_time": "2020-06-24T07:57:24.125246Z"
    }
   },
   "outputs": [
    {
     "name": "stdout",
     "output_type": "stream",
     "text": [
      "framework(框架): k12cv\n",
      "    task(任务类型): cls\n",
      "          network(网络名): ['alexnet', 'resnet18', 'resnet50', 'resnet101', 'resnet152', 'vgg11', 'vgg16', 'vgg19', 'vgg16_bn', 'vgg19_bn', 'custom_base']\n",
      "          dataset(数据集): ['cifar10', 'mnist', 'Animals', 'Boats', 'cactus', 'Chars74K', 'dogAndCat', 'Dogs', 'EMNIST_Balanced', 'EMNIST_Digits', 'EMNIST_Letters', 'EMNIST_MNIST', 'FashionMNIST', 'Fruits360', 'kannada', 'kannada_dig', 'KMNIST', 'cellular', 'aliproducts']\n",
      "    task(任务类型): det\n",
      "          network(网络名): ['vgg16_ssd300', 'vgg16_ssd512', 'custom_ssd300', 'custom_ssd512']\n",
      "          dataset(数据集): ['VOC07+12_DET', 'underwater']\n",
      "\n",
      "\n",
      "framework(框架): k12nlp\n",
      "    task(任务类型): sentiment_analysis\n",
      "          network(网络名): ['basic_classifier']\n",
      "          dataset(数据集): ['sst']\n",
      "    task(任务类型): named_entity_recognization\n",
      "          network(网络名): ['crf_tagger']\n",
      "          dataset(数据集): ['conll2003']\n",
      "\n",
      "\n",
      "framework(框架): k12rl\n",
      "    task(任务类型): atari\n",
      "          network(网络名): ['dqn']\n",
      "          dataset(数据集): ['Pong-v4']\n",
      "    task(任务类型): classic\n",
      "          network(网络名): ['dqn', 'pg']\n",
      "          dataset(数据集): ['CartPole-v0', 'Pendulum-v0']\n",
      "\n",
      "\n",
      "framework(框架): k12ml\n",
      "    task(任务类型): classifier\n",
      "          network(网络名): ['svc', 'knn', 'decision_tree', 'random_forest', 'gaussian_nb', 'adaboost', 'xgboost', 'gradient_boosting']\n",
      "          dataset(数据集): ['iris', 'digits', 'wine', 'breast_cancer', 'sf-crime', 'titanic']\n",
      "    task(任务类型): regressor\n",
      "          network(网络名): ['svr', 'knn', 'decision_tree', 'random_forest', 'logistic', 'gradient_boosting', 'adaboost', 'xgboost']\n",
      "          dataset(数据集): ['boston', 'diabetes', 'linnerud', 'sf-crime']\n",
      "    task(任务类型): cluster\n",
      "          network(网络名): ['kmeans']\n",
      "          dataset(数据集): ['iris']\n",
      "\n",
      "\n",
      "framework(框架): k123d\n",
      "    task(任务类型): make3d\n",
      "          network(网络名): ['fcrn']\n",
      "          dataset(数据集): ['nyu']\n",
      "\n",
      "\n"
     ]
    }
   ],
   "source": [
    "for framework in result:\n",
    "    print('framework(框架):', framework)\n",
    "    for task in result[framework]['task']:\n",
    "        print('    task(任务类型):', task)\n",
    "        print('          network(网络名):', result[framework]['task'][task]['network'])\n",
    "        print('          dataset(数据集):', result[framework]['task'][task]['dataset'])\n",
    "    print('\\n')"
   ]
  }
 ],
 "metadata": {
  "kernelspec": {
   "display_name": "Python 3",
   "language": "python",
   "name": "python3"
  },
  "language_info": {
   "codemirror_mode": {
    "name": "ipython",
    "version": 3
   },
   "file_extension": ".py",
   "mimetype": "text/x-python",
   "name": "python",
   "nbconvert_exporter": "python",
   "pygments_lexer": "ipython3",
   "version": "3.6.9"
  },
  "toc": {
   "base_numbering": 1,
   "nav_menu": {},
   "number_sections": true,
   "sideBar": true,
   "skip_h1_title": false,
   "title_cell": "Table of Contents",
   "title_sidebar": "Contents",
   "toc_cell": false,
   "toc_position": {},
   "toc_section_display": true,
   "toc_window_display": false
  }
 },
 "nbformat": 4,
 "nbformat_minor": 4
}
