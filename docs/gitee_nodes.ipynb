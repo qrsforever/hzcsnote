{
 "cells": [
  {
   "cell_type": "markdown",
   "id": "3b24a214",
   "metadata": {},
   "source": [
    "## 代码仓库（李东）"
   ]
  },
  {
   "cell_type": "markdown",
   "id": "72361df2",
   "metadata": {},
   "source": [
    "### k12ai教学\n",
    "\n",
    "包含cv/nlp/ml/rl等学习框架\n",
    "\n",
    "https://gitee.com/hzcsai_com/hzcsk12.git"
   ]
  },
  {
   "cell_type": "markdown",
   "id": "86bc70f9",
   "metadata": {},
   "source": [
    "### raceai推理\n",
    "\n",
    "(早期）配合教学的统一推理接口, 主要有yolo，repnet等。\n",
    "\n",
    "https://gitee.com/hzcsai_com/hzcsrace.git"
   ]
  },
  {
   "cell_type": "markdown",
   "id": "91c20345",
   "metadata": {},
   "source": [
    "### lite推理(轻量）\n",
    "\n",
    "（早期）主要配合教学中轻量H5推理任务， 如猫狗，数字，车牌识别等。\n",
    "\n",
    "https://gitee.com/hzcsai_com/hzcslite.git"
   ]
  },
  {
   "cell_type": "markdown",
   "id": "07184bd3",
   "metadata": {},
   "source": [
    "### frep工厂计数\n",
    "\n",
    "从raceai移除，单独维护 （非k8s集群使用）\n",
    "\n",
    "https://gitee.com/hzcsai_com/hzcsfrep.git"
   ]
  },
  {
   "cell_type": "markdown",
   "id": "9e84a17e",
   "metadata": {},
   "source": [
    "### notebook调试\n",
    "\n",
    "开发调试\n",
    "\n",
    "https://gitee.com/hzcsai_com/hzcsnote.git"
   ]
  },
  {
   "cell_type": "markdown",
   "id": "56f7fec6",
   "metadata": {},
   "source": [
    "### k8s集群环境\n",
    "\n",
    "配置k8s环境，及example\n",
    "\n",
    "https://gitee.com/ah_miao/talentai-kubernetes.git"
   ]
  },
  {
   "cell_type": "markdown",
   "id": "15cd1a38",
   "metadata": {},
   "source": [
    "### k8s-frepai工厂计数\n",
    "\n",
    "配置及部署repnet的集群环境\n",
    "\n",
    "https://gitee.com/hzcsai_com/k8s-frepai.git"
   ]
  },
  {
   "cell_type": "markdown",
   "id": "cd3a0115",
   "metadata": {},
   "source": [
    "### flow控制流解析引擎\n",
    "\n",
    "解析执行x6flow拖拽后的控制流程图，通过drag-drop方式实现特定任务\n",
    "\n",
    "https://gitee.com/ah_miao/hzcsflow.git"
   ]
  },
  {
   "cell_type": "markdown",
   "id": "da2377b3",
   "metadata": {},
   "source": [
    "### jetson设备端工厂计数\n",
    "\n",
    "在设备端实现repnet推理任务\n",
    "\n",
    "https://gitee.com/hzcsai_com/jetrep.git"
   ]
  },
  {
   "cell_type": "markdown",
   "id": "e188a57c",
   "metadata": {},
   "source": [
    "## 云端机器 (李东）\n",
    "\n",
    "密码： gUIzVwr2Aw3A0aMW"
   ]
  },
  {
   "cell_type": "markdown",
   "id": "3a8a8a49",
   "metadata": {},
   "source": [
    "### k8-storage\n",
    "\n",
    "`root@82.157.36.183`\n",
    "\n",
    "集群docker仓库服务，kafka消息服务，集群nfs服务"
   ]
  },
  {
   "cell_type": "markdown",
   "id": "a4875647",
   "metadata": {},
   "source": [
    "### k8-master\n",
    "\n",
    "`root@82.157.10.200`\n",
    "\n",
    "集群主节点"
   ]
  },
  {
   "cell_type": "markdown",
   "id": "2be9137f",
   "metadata": {},
   "source": [
    "### k8-node001\n",
    "\n",
    "`root@101.42.139.3`\n",
    "\n",
    "集群cpu节点001"
   ]
  },
  {
   "cell_type": "markdown",
   "id": "7068a380",
   "metadata": {},
   "source": [
    "### k8-node002\n",
    "\n",
    "`root@101.42.136.169`\n",
    "\n",
    "集群cpu节点002"
   ]
  },
  {
   "cell_type": "markdown",
   "id": "769c9c73",
   "metadata": {},
   "source": [
    "### k8-gpu002\n",
    "\n",
    "`root@81.70.134.138`\n",
    "\n",
    "集群gpu节点002"
   ]
  },
  {
   "cell_type": "markdown",
   "id": "dc0022fb",
   "metadata": {},
   "source": [
    "### k8-gpu003\n",
    "\n",
    "`root@82.157.33.156`\n",
    "\n",
    "集群gpu节点003"
   ]
  },
  {
   "cell_type": "markdown",
   "id": "31b25849",
   "metadata": {},
   "source": [
    "### k8-proxy001\n",
    "\n",
    "`root@82.157.17.2`\n",
    "\n",
    "集群cpu ingress代理节点，对外提供服务"
   ]
  }
 ],
 "metadata": {
  "hide_input": false,
  "kernelspec": {
   "display_name": "Python 3 (ipykernel)",
   "language": "python",
   "name": "python3"
  },
  "language_info": {
   "codemirror_mode": {
    "name": "ipython",
    "version": 3
   },
   "file_extension": ".py",
   "mimetype": "text/x-python",
   "name": "python",
   "nbconvert_exporter": "python",
   "pygments_lexer": "ipython3",
   "version": "3.8.10"
  },
  "toc": {
   "base_numbering": 1,
   "nav_menu": {},
   "number_sections": true,
   "sideBar": false,
   "skip_h1_title": true,
   "title_cell": "Contents",
   "title_sidebar": "Contents",
   "toc_cell": false,
   "toc_position": {},
   "toc_section_display": true,
   "toc_window_display": false
  }
 },
 "nbformat": 4,
 "nbformat_minor": 5
}
