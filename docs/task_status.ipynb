{
 "cells": [
  {
   "cell_type": "markdown",
   "metadata": {},
   "source": [
    "# <div align=\"center\"> K12ai 机器学习框架: 训练任务状态模型 </div>"
   ]
  },
  {
   "cell_type": "markdown",
   "metadata": {},
   "source": [
    "```json\n",
    "{\n",
    "    \"version\": \"0.1.0\",  // schema 版本号\n",
    "    \"type\": \"status\",    // 消息类型: \"status\"\n",
    "    \"tag\": \"framework\",  // 消息体有framework触发\n",
    "    \"op\": \"train.start\",\n",
    "    \"user\": \"test\",\n",
    "    \"service_uuid\": \"ssd_voc\",\n",
    "    \"timestamp\": 1575646737631,\n",
    "    \"datetime\": \"20191206233857\",\n",
    "    \"status\": {\n",
    "        \"value\": \"exit\",  // 当前状态: 启动中(starting), 运行中(running), 结束(finish), 退出(exit)\n",
    "        \"way\": \"manual\"   // 导致当前状态的方式: manual(手动), crash(异常), error(错误导致), norm(正常)\n",
    "    }\n",
    "}\n",
    "```"
   ]
  }
 ],
 "metadata": {
  "kernelspec": {
   "display_name": "Python 3",
   "language": "python",
   "name": "python3"
  },
  "language_info": {
   "codemirror_mode": {
    "name": "ipython",
    "version": 3
   },
   "file_extension": ".py",
   "mimetype": "text/x-python",
   "name": "python",
   "nbconvert_exporter": "python",
   "pygments_lexer": "ipython3",
   "version": "3.6.8"
  }
 },
 "nbformat": 4,
 "nbformat_minor": 2
}
