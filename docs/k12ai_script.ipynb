{
 "cells": [
  {
   "cell_type": "markdown",
   "metadata": {},
   "source": [
    "# <div align=\"center\"> K12ai脚本介绍 </div>"
   ]
  },
  {
   "cell_type": "markdown",
   "metadata": {},
   "source": [
    "## 1. [deps_install.sh ][1]\n",
    "\n",
    "部署框架时, 首先要对环境检测, 下载安装框架及服务依赖的软件库\n",
    "\n",
    "执行: `./deps_install.sh`\n",
    "\n",
    "[1]: https://gitee.com/hzcsai_com/hzcsk12/blob/master/scripts/deps_install.sh"
   ]
  },
  {
   "cell_type": "markdown",
   "metadata": {},
   "source": [
    "## 2. [build_images.sh][2]\n",
    "\n",
    "构建K12ai学习框架Docker镜像\n",
    "\n",
    "执行: `./build_images.sh [ai|ml|cv|nlp|rl] [1|0]`\n",
    "\n",
    "arg1: [可选] 镜像类型\n",
    "\n",
    "arg2: [可选] 如果镜像已经存在, 是否强制构建, 值为: 0, 1\n",
    "\n",
    "[2]: https://gitee.com/hzcsai_com/hzcsk12/blob/master/scripts/build_images.sh "
   ]
  },
  {
   "cell_type": "markdown",
   "metadata": {},
   "source": [
    "## 3. [start_services.sh][3]\n",
    "\n",
    "启动K12ai相关服务, 如consul, k12ai, k12ml, k12cv, k12nlp, k12rl \n",
    "\n",
    "执行:｀禁止直接执行, 需要由k12ai.sh启动｀\n",
    "\n",
    "[3]: https://gitee.com/hzcsai_com/hzcsk12/blob/master/scripts/start_services.sh"
   ]
  },
  {
   "cell_type": "markdown",
   "metadata": {},
   "source": [
    "## 4. [start_notebook.sh][4]\n",
    "\n",
    "启动K12ai开发调试Notebook, 一般情况只需要启动k12ai的notebook即可(可以通过restapi与container通讯启动/控制任务), 如果需要复杂的关于特定框架的调试(如: k12cv, k12rl等), 需要启动对应的notebook(这个notebook对该框架具备的所有环境)\n",
    "\n",
    "执行: `start_notebook.sh [all|ai|cv|ml|nlp|rl]`\n",
    "\n",
    "[4]: https://gitee.com/hzcsai_com/hzcsk12/blob/master/scripts/start_notebook.sh "
   ]
  },
  {
   "cell_type": "markdown",
   "metadata": {},
   "source": [
    "## 5. [k12ai.sh][5]\n",
    "\n",
    "启动K12相关服务(入口), 核心的动作调用`start_services.sh`, 并且该服务加入到了系统定时任务中, 每小时检测一次所需要的服务是否已运行.\n",
    "\n",
    "执行: `./k12ai.sh [all|ai|ml|cv|nlp|rl] [start|stop|restart] [bg|fg]`\n",
    "\n",
    "arg1: 指定启动的框架, all表示所有\n",
    "\n",
    "arg2: 动作(start 启动, stop 停止, restart 重新启动)\n",
    "\n",
    "arg3: 是否后台启动, 如果需要单独调试一个服务,可以使用fg.\n",
    "\n",
    "[5]: https://gitee.com/hzcsai_com/hzcsk12/blob/master/scripts/k12ai.sh"
   ]
  },
  {
   "cell_type": "code",
   "execution_count": null,
   "metadata": {},
   "outputs": [],
   "source": []
  }
 ],
 "metadata": {
  "kernelspec": {
   "display_name": "Python 3",
   "language": "python",
   "name": "python3"
  },
  "language_info": {
   "codemirror_mode": {
    "name": "ipython",
    "version": 3
   },
   "file_extension": ".py",
   "mimetype": "text/x-python",
   "name": "python",
   "nbconvert_exporter": "python",
   "pygments_lexer": "ipython3",
   "version": "3.6.9"
  }
 },
 "nbformat": 4,
 "nbformat_minor": 4
}
