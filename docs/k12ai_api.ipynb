{
 "cells": [
  {
   "cell_type": "markdown",
   "metadata": {},
   "source": [
    "# <div align='center'> K12ai RestAPI </div>"
   ]
  },
  {
   "cell_type": "code",
   "execution_count": 1,
   "metadata": {},
   "outputs": [],
   "source": [
    "from k12libs.utils.nb_easy import k12ai_post_request\n",
    "from k12libs.utils.nb_easy import k12ai_get_data\n",
    "from k12libs.utils.nb_easy import k12ai_print\n",
    "from k12libs.utils.nb_easy import k12ai_get_config"
   ]
  },
  {
   "cell_type": "markdown",
   "metadata": {},
   "source": [
    "## 1. `/k12ai/platform/stats`\n",
    "\n",
    "待补充"
   ]
  },
  {
   "cell_type": "markdown",
   "metadata": {},
   "source": [
    "## 2. `/k12ai/platform/control`\n",
    "\n",
    "待补充"
   ]
  },
  {
   "cell_type": "markdown",
   "metadata": {},
   "source": [
    "## 3. `/k12ai/framework/schema`\n",
    "\n",
    "待补充"
   ]
  },
  {
   "cell_type": "markdown",
   "metadata": {},
   "source": [
    "## 4. `/k12ai/framework/memstat`"
   ]
  },
  {
   "cell_type": "code",
   "execution_count": 2,
   "metadata": {},
   "outputs": [],
   "source": [
    "params = k12ai_get_config('k12cv', 'cls', 'base_model', 'mnist')"
   ]
  },
  {
   "cell_type": "code",
   "execution_count": 8,
   "metadata": {},
   "outputs": [
    {
     "name": "stdout",
     "output_type": "stream",
     "text": [
      "{\n",
      "    \"code\": 100000,\n",
      "    \"message\": {\n",
      "        \"en\": \"success\",\n",
      "        \"cn\": \"成功\"\n",
      "    },\n",
      "    \"data\": {\n",
      "        \"app_cpu_memory_usage_MB\": 6000,\n",
      "        \"app_gpu_memory_usage_MB\": 4500,\n",
      "        \"sys_cpu_memory_free_MB\": 42318.129,\n",
      "        \"sys_gpu_memory_free_MB\": [\n",
      "            22008.0\n",
      "        ]\n",
      "    }\n",
      "}\n"
     ]
    }
   ],
   "source": [
    "memstat = k12ai_post_request(\n",
    "    uri='k12ai/framework/memstat',\n",
    "    data = {\n",
    "        'service_name': 'k12cv',\n",
    "        'service_params': params,\n",
    "    }\n",
    ")\n",
    "k12ai_print(memstat)"
   ]
  },
  {
   "cell_type": "markdown",
   "metadata": {},
   "source": [
    "样例:\n",
    "\n",
    "```\n",
    "{\n",
    "    \"code\": 100000,\n",
    "    \"message\": {\n",
    "        \"en\": \"success\",\n",
    "        \"cn\": \"成功\"\n",
    "    },\n",
    "    \"data\": {\n",
    "        \"app_cpu_memory_usage_MB\": 6000,\n",
    "        \"app_gpu_memory_usage_MB\": 4500,\n",
    "        \"sys_cpu_memory_free_MB\": 44525.0,\n",
    "        \"sys_gpu_memory_free_MB\": [\n",
    "            22919.0  // 考虑到一机多卡的情况, 所以GPU的内存剩余返回的是数组形式.\n",
    "        ]\n",
    "    }\n",
    "}\n",
    "```"
   ]
  },
  {
   "cell_type": "markdown",
   "metadata": {},
   "source": [
    "## 5. `/k12ai/framework/execute`\n",
    "\n",
    "待补充"
   ]
  },
  {
   "cell_type": "markdown",
   "metadata": {},
   "source": [
    "## 6. `/k12ai/private/message`\n",
    "\n",
    "待补充"
   ]
  }
 ],
 "metadata": {
  "kernelspec": {
   "display_name": "Python 3",
   "language": "python",
   "name": "python3"
  },
  "language_info": {
   "codemirror_mode": {
    "name": "ipython",
    "version": 3
   },
   "file_extension": ".py",
   "mimetype": "text/x-python",
   "name": "python",
   "nbconvert_exporter": "python",
   "pygments_lexer": "ipython3",
   "version": "3.6.9"
  }
 },
 "nbformat": 4,
 "nbformat_minor": 2
}
