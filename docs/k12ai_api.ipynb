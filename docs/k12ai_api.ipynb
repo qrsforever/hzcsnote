{
 "cells": [
  {
   "cell_type": "markdown",
   "metadata": {},
   "source": [
    "# <div align='center'> K12ai RestAPI </div>"
   ]
  },
  {
   "cell_type": "markdown",
   "metadata": {},
   "source": [
    "## 1. `/k12ai/platform/stats`\n",
    "\n",
    "待补充\n",
    "\n",
    "## 2. `/k12ai/platform/control`\n",
    "\n",
    "待补充\n",
    "\n",
    "## 3. `/k12ai/framework/schema`\n",
    "\n",
    "待补充\n",
    "\n",
    "## 4. `/k12ai/framework/execute`\n",
    "\n",
    "待补充\n",
    "\n",
    "## 5. `/k12ai/private/message`\n",
    "\n",
    "待补充"
   ]
  },
  {
   "cell_type": "code",
   "execution_count": null,
   "metadata": {},
   "outputs": [],
   "source": []
  }
 ],
 "metadata": {
  "kernelspec": {
   "display_name": "Python 3",
   "language": "python",
   "name": "python3"
  },
  "language_info": {
   "codemirror_mode": {
    "name": "ipython",
    "version": 3
   },
   "file_extension": ".py",
   "mimetype": "text/x-python",
   "name": "python",
   "nbconvert_exporter": "python",
   "pygments_lexer": "ipython3",
   "version": "3.6.9"
  }
 },
 "nbformat": 4,
 "nbformat_minor": 2
}
