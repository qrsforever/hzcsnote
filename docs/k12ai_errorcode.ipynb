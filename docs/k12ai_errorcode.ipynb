{
 "cells": [
  {
   "cell_type": "markdown",
   "metadata": {},
   "source": [
    "# <div align=\"center\"> k12学习框架错误码 </div>"
   ]
  },
  {
   "cell_type": "markdown",
   "metadata": {},
   "source": [
    "## 一. 统一错误码"
   ]
  },
  {
   "cell_type": "code",
   "execution_count": 1,
   "metadata": {},
   "outputs": [],
   "source": [
    "from IPython.display import Markdown\n",
    "from k12libs.common.k12ai_errmsg import ERRORS"
   ]
  },
  {
   "cell_type": "code",
   "execution_count": 2,
   "metadata": {},
   "outputs": [
    {
     "data": {
      "text/markdown": [
       "\n",
       "| 错误码(code) | 英文描述(message.en) | 中文描述(message.cn) |\n",
       "| :---: | :--- | :--- |\n",
       "|<img width=200/> | <img width=300/> | <img width=300/> |\n",
       "| 100000 | success | 成功 |\n",
       "| |\n",
       "| 100101 | api parameter key is not found | API参数错误: 非法Key |\n",
       "| |\n",
       "| 100102 | api parameter value is invalid | API参数错误: 非法Value |\n",
       "| |\n",
       "| 100103 | api parameter json format error | API参数错误: 非法Json格式 |\n",
       "| |\n",
       "| 100199 | api parameter unknown exception | API参数错误: Unknow异常 |\n",
       "| |\n",
       "| 100201 | task service is not found | 任务启动错误: 请求的服务不存在或者服务未启动 |\n",
       "| |\n",
       "| 100202 | task start fail | 任务启动错误: 启动失败 |\n",
       "| |\n",
       "| 100203 | task start docker fail | 任务启动错误: 容器启动失败 |\n",
       "| |\n",
       "| 100204 | task is running | 任务启动错误: 服务已经启动,正在运行 |\n",
       "| |\n",
       "| 100205 | task is not found or not running | 任务停止错误: 请求的服务不存在或者未启动 |\n",
       "| |\n",
       "| 100206 | task schema file is not found | 模板请求错误: 模板文件不存在 |\n",
       "| |\n",
       "| 100207 | task schema get fail | 模板请求错误: 模板获取失败(内部错误) |\n",
       "| |\n",
       "| 100208 | task evaluate has no model file | 任务启动错误: 评估服务需要在完成训练后执行 |\n",
       "| |\n",
       "| 100209 | task evaluate has no config file | 任务启动错误: 评估服务缺少配置文件 |\n",
       "| |\n",
       "| 100231 | task parameter is invalid | 任务启动错误: 非法服务参数 |\n",
       "| |\n",
       "| 100232 | task parameter has no key: input file | 任务启动错误: 评估服务缺少输入文件 |\n",
       "| |\n",
       "| 100233 | task parameter key is missing | 任务启动错误: 缺少服务参数 |\n",
       "| |\n",
       "| 100299 | task unknown exception | 任务启动错误: Unkown异常 |\n",
       "| |\n",
       "| 100302 | cv model name is not valid | 框架运行错误: CV框架非法模型 |\n",
       "| |\n",
       "| 100303 | cv optimizer method is not valid | 框架运行错误: CV框架非法优化方法 |\n",
       "| |\n",
       "| 100304 | cv pad mode is not valid | 框架运行错误: CV框架非法填充模式 |\n",
       "| |\n",
       "| 100305 | cv anchor method is not valid | 框架运行错误: CV框架非法Anchor方式 |\n",
       "| |\n",
       "| 100306 | cv image format type is not valid | 框架运行错误: CV框架非法图片类型 |\n",
       "| |\n",
       "| 100307 | cv tensor size error | 框架运行错误: CV框架Tensor大小不合理 |\n",
       "| |\n",
       "| 100901 | out of memory | 常见错误: 内存溢出 |\n",
       "| |\n",
       "| 100902 | not implemented yet | 常见错误: 尚未实现 |\n",
       "| |\n",
       "| 100903 | configuration error | 常见错误: 参数配置错误 |\n",
       "| |\n",
       "| 100904 | missing key configuration | 常见错误: 配置中缺少参数 |\n",
       "| |\n",
       "| 100905 | file is not found | 常见错误: 文件不存在 |\n",
       "| |\n",
       "| 999999 | unknown error! | 常见错误: 不可知错误 |\n",
       "| |\n"
      ],
      "text/plain": [
       "<IPython.core.display.Markdown object>"
      ]
     },
     "execution_count": 2,
     "metadata": {},
     "output_type": "execute_result"
    }
   ],
   "source": [
    "table = '''\n",
    "| 错误码(code) | 英文描述(message.en) | 中文描述(message.cn) |\n",
    "| :---: | :--- | :--- |\n",
    "|<img width=200/> | <img width=300/> | <img width=300/> |\n",
    "'''\n",
    "for errcode, desc in ERRORS.items():\n",
    "    desc_en = desc['en']\n",
    "    desc_cn = desc['cn']\n",
    "    table += f'| {errcode} | {desc_en} | {desc_cn} |\\n| |\\n'\n",
    "    \n",
    "Markdown(table)"
   ]
  },
  {
   "cell_type": "markdown",
   "metadata": {},
   "source": [
    "## 二. 错误码模型定义"
   ]
  },
  {
   "cell_type": "markdown",
   "metadata": {},
   "source": [
    "```json\n",
    "{\n",
    "    \"code\": 101,  // [M] 统一错误码\n",
    "    \"descr\": \"\",  // [M] 错误简要信息\n",
    "    \"message\":\"\", // [O] 自定义消息,辅助消息\n",
    "    \"data\": \"\",   // [O] 携带消息\n",
    "    \"detail\": {     // [O] 错误详细信息\n",
    "        \"filename\": \"\", // [C] 非异常错误时, 错误输出所在文件\n",
    "        \"linenum\": 100, // [C] 非异常错误时, 错误输出所在行号\n",
    "        \"funcname\": \"\", // [C] 非异常错误时, 错误输出所在函数\n",
    "        \"err_type\": \"\", // [C] 错误是异常时, 异常的类名\n",
    "        \"err_text\": \"\", // [C] 错误是异常时, 异常的内容\n",
    "        \"traceback\":[   // [C] 错误是异常时, 错误堆栈\n",
    "            {\n",
    "                \"filename\": \"\",\n",
    "                \"linenum\": 100,\n",
    "                \"funcname\": \"\",\n",
    "                \"source\": \"\" // [C] 错误是异常时, 发生问题的程序代码\n",
    "            },\n",
    "            {\n",
    "                \"filename\": \"\",\n",
    "                \"linenum\": 100,\n",
    "                \"funcname\": \"\",\n",
    "                \"source\": \"\" // [C] 错误是异常时, 发生问题的程序代码\n",
    "            },\n",
    "        ]\n",
    "    }\n",
    "}\n",
    "```"
   ]
  },
  {
   "cell_type": "code",
   "execution_count": null,
   "metadata": {},
   "outputs": [],
   "source": []
  }
 ],
 "metadata": {
  "kernelspec": {
   "display_name": "Python 3",
   "language": "python",
   "name": "python3"
  },
  "language_info": {
   "codemirror_mode": {
    "name": "ipython",
    "version": 3
   },
   "file_extension": ".py",
   "mimetype": "text/x-python",
   "name": "python",
   "nbconvert_exporter": "python",
   "pygments_lexer": "ipython3",
   "version": "3.6.9"
  }
 },
 "nbformat": 4,
 "nbformat_minor": 2
}
