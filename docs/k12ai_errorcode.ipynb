{
 "cells": [
  {
   "cell_type": "markdown",
   "metadata": {},
   "source": [
    "# <div align=\"center\"> k12学习框架错误码 </div>"
   ]
  },
  {
   "cell_type": "markdown",
   "metadata": {},
   "source": [
    "## 一. 统一错误码"
   ]
  },
  {
   "cell_type": "code",
   "execution_count": 2,
   "metadata": {
    "ExecuteTime": {
     "end_time": "2021-01-05T08:00:49.570695Z",
     "start_time": "2021-01-05T08:00:49.562775Z"
    }
   },
   "outputs": [],
   "source": [
    "from IPython.display import Markdown\n",
    "from k12libs.k12ai.k12ai_errmsg import ERRORS"
   ]
  },
  {
   "cell_type": "code",
   "execution_count": 3,
   "metadata": {
    "ExecuteTime": {
     "end_time": "2021-01-05T08:00:50.491340Z",
     "start_time": "2021-01-05T08:00:50.463082Z"
    },
    "scrolled": false
   },
   "outputs": [
    {
     "data": {
      "text/markdown": [
       "\n",
       "| 错误码(code) | 英文描述(message.en) | 中文描述(message.cn) |\n",
       "| :---: | :--- | :--- |\n",
       "|<img width=200/> | <img width=300/> | <img width=300/> |\n",
       "| 0 | ignore message | 忽略 |\n",
       "| |\n",
       "| 100000 | success | 成功 |\n",
       "| |\n",
       "| 100001 | program staring | 程序正在启动 |\n",
       "| |\n",
       "| 100002 | program running | 程序正在运行 |\n",
       "| |\n",
       "| 100003 | program normal exit | 程序正常结束 |\n",
       "| |\n",
       "| 100004 | program stop manually | 程序手动停止 |\n",
       "| |\n",
       "| 100005 | program pause manually | 程序手动暂停 |\n",
       "| |\n",
       "| 100006 | program rob passively | 程序被动抢占 |\n",
       "| |\n",
       "| 100009 | program warning | 程序运行警告 |\n",
       "| |\n",
       "| 100010 | schema version is already lastest | schema已是最新版本 |\n",
       "| |\n",
       "| 100011 | payload is too large | 警告: 负载数据太大 |\n",
       "| |\n",
       "| 100012 | model is beyond limit size | 警告: 模型占用GPU超过限制值 |\n",
       "| |\n",
       "| 100101 | api parameter key is not found | API参数错误: 非法Key |\n",
       "| |\n",
       "| 100102 | api parameter value is invalid | API参数错误: 非法Value |\n",
       "| |\n",
       "| 100103 | api parameter json format error | API参数错误: 非法Json格式 |\n",
       "| |\n",
       "| 100104 | api parameter custom network is invalid | API参数错误: 用户自定义网络错误 |\n",
       "| |\n",
       "| 100199 | api parameter unknown exception | API参数错误: Unknow异常 |\n",
       "| |\n",
       "| 100201 | task service is not found | 任务启动错误: 请求的服务不存在或者服务未启动 |\n",
       "| |\n",
       "| 100202 | task start fail | 任务启动错误: 启动失败 |\n",
       "| |\n",
       "| 100203 | task start docker fail | 任务启动错误: 容器启动失败 |\n",
       "| |\n",
       "| 100204 | task is running | 任务启动错误: 服务已经启动,正在运行 |\n",
       "| |\n",
       "| 100205 | task is not found or not running | 任务停止错误: 请求的服务不存在或者未启动 |\n",
       "| |\n",
       "| 100206 | task schema file is not found | 模板请求错误: 模板文件不存在 |\n",
       "| |\n",
       "| 100207 | task schema get fail | 模板请求错误: 模板获取失败(内部错误) |\n",
       "| |\n",
       "| 100208 | task evaluate has no model file | 任务启动错误: 评估服务缺少模型文件 |\n",
       "| |\n",
       "| 100209 | task evaluate has no config file | 任务启动错误: 评估服务缺少配置文件 |\n",
       "| |\n",
       "| 100210 | task starting too many | 任务启动错误: 启动的任务太多 |\n",
       "| |\n",
       "| 100211 | task model file is broken | 任务启动错误: 模型文件已损坏 |\n",
       "| |\n",
       "| 100212 | dataset file is missing | 任务启动错误: 缺少数据集文件 |\n",
       "| |\n",
       "| 100213 | task predict image file is missing | 任务启动错误: 缺少预测文件 |\n",
       "| |\n",
       "| 100214 | task resume config file is missing | 任务启动错误: 缺少任务恢复配置文件 |\n",
       "| |\n",
       "| 100215 | task predict images parameter format is invalid | 任务启动错误: 预测路径参数格式非法 |\n",
       "| |\n",
       "| 100216 | task dataset name parameter is missing | 任务启动错误: 配置中缺少数据集名字 |\n",
       "| |\n",
       "| 100231 | task parameter is invalid | 任务启动错误: 非法服务参数 |\n",
       "| |\n",
       "| 100232 | task parameter has no key: input file | 任务启动错误: 评估服务缺少输入文件 |\n",
       "| |\n",
       "| 100233 | task parameter key is missing | 任务启动错误: 缺少服务参数 |\n",
       "| |\n",
       "| 100299 | task unknown exception | 任务启动错误: Unkown异常 |\n",
       "| |\n",
       "| 100302 | cv model name is not valid | 框架运行错误: CV框架非法模型 |\n",
       "| |\n",
       "| 100303 | cv optimizer method is not valid | 框架运行错误: CV框架非法优化方法 |\n",
       "| |\n",
       "| 100304 | cv pad mode is not valid | 框架运行错误: CV框架非法填充模式 |\n",
       "| |\n",
       "| 100305 | cv anchor method is not valid | 框架运行错误: CV框架非法Anchor方式 |\n",
       "| |\n",
       "| 100306 | cv image format type is not valid | 框架运行错误: CV框架非法图片类型 |\n",
       "| |\n",
       "| 100307 | cv tensor size error | 框架运行错误: CV框架Tensor大小不合理 |\n",
       "| |\n",
       "| 100308 | cv SSD model last 1024 cnn | 框架运行错误: SSD后一层CNN参数错误 |\n",
       "| |\n",
       "| 100309 | cv SSD model not exist 512 cnn | 框架运行错误: SSD中没有512CNN输出 |\n",
       "| |\n",
       "| 100401 | custom model: size mismatch | 自定义模型错误: 模型上下层size大小不匹配 |\n",
       "| |\n",
       "| 100402 | custom model: set pad error | 自定义模型错误: Pad参数要大于kernel值的一半 |\n",
       "| |\n",
       "| 100403 | custom model: missing in_channels | 自定义模型错误: 卷积层缺少in_channels参数 |\n",
       "| |\n",
       "| 100404 | custom model: layer is not defined | 自定义模型错误: 连线错误(箭头顺序) |\n",
       "| |\n",
       "| 100901 | out of memory | 常见错误: 内存溢出 |\n",
       "| |\n",
       "| 100902 | not implemented yet | 常见错误: 尚未实现 |\n",
       "| |\n",
       "| 100903 | configuration error | 常见错误: 参数配置错误 |\n",
       "| |\n",
       "| 100904 | missing key configuration | 常见错误: 配置中缺少参数 |\n",
       "| |\n",
       "| 100905 | file is not found | 常见错误: 文件不存在 |\n",
       "| |\n",
       "| 100906 | CUDA out of memory | 常见错误: CUDA内存溢出 |\n",
       "| |\n",
       "| 100907 | Vanishing gradient, Exploding gradient | 常见错误: 梯度消失,梯度爆炸 |\n",
       "| |\n",
       "| 100908 | docker image not found | 常见错误: 任务镜像不存在 |\n",
       "| |\n",
       "| 100909 | system command execute fail | 常见错误: 系统命令执行错误 |\n",
       "| |\n",
       "| 100999 | unkown error! | 不可知错误 |\n",
       "| |\n",
       "| 999999 | unknown error! | 常见错误: 不可知错误 |\n",
       "| |\n"
      ],
      "text/plain": [
       "<IPython.core.display.Markdown object>"
      ]
     },
     "execution_count": 3,
     "metadata": {},
     "output_type": "execute_result"
    }
   ],
   "source": [
    "table = '''\n",
    "| 错误码(code) | 英文描述(message.en) | 中文描述(message.cn) |\n",
    "| :---: | :--- | :--- |\n",
    "|<img width=200/> | <img width=300/> | <img width=300/> |\n",
    "'''\n",
    "for errcode, desc in ERRORS.items():\n",
    "    desc_en = desc['en']\n",
    "    desc_cn = desc['cn']\n",
    "    table += f'| {errcode} | {desc_en} | {desc_cn} |\\n| |\\n'\n",
    "    \n",
    "Markdown(table)"
   ]
  },
  {
   "cell_type": "code",
   "execution_count": null,
   "metadata": {},
   "outputs": [],
   "source": []
  }
 ],
 "metadata": {
  "kernelspec": {
   "display_name": "Python 3",
   "language": "python",
   "name": "python3"
  },
  "language_info": {
   "codemirror_mode": {
    "name": "ipython",
    "version": 3
   },
   "file_extension": ".py",
   "mimetype": "text/x-python",
   "name": "python",
   "nbconvert_exporter": "python",
   "pygments_lexer": "ipython3",
   "version": "3.6.9"
  },
  "toc": {
   "base_numbering": 1,
   "nav_menu": {},
   "number_sections": true,
   "sideBar": true,
   "skip_h1_title": true,
   "title_cell": "Table of Contents",
   "title_sidebar": "Contents",
   "toc_cell": false,
   "toc_position": {},
   "toc_section_display": true,
   "toc_window_display": false
  }
 },
 "nbformat": 4,
 "nbformat_minor": 2
}
