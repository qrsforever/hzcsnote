{
 "cells": [
  {
   "cell_type": "markdown",
   "metadata": {},
   "source": [
    "# <div align=\"center\"> k12学习框架错误码 </div>"
   ]
  },
  {
   "cell_type": "markdown",
   "metadata": {},
   "source": [
    "## 一. 统一错误码"
   ]
  },
  {
   "cell_type": "markdown",
   "metadata": {},
   "source": [
    "|错误码|简述|中文描述 | 其他 |\n",
    "|:---:|:------|:------|:-----|\n",
    "| 100000 | success | 通用操作成功 | |\n",
    "| 100100 | 100100 | 预留, 表示api传过来的参数是对的 | |\n",
    "| 100101 | api parameter key is not found | api传递参数中缺少关键key或者key不正确 | api |\n",
    "| 100102 | api parameter value is invalid | api传递参数key对应的值错误或者和约定不一致 | api |\n",
    "| 100199 | api parameter unkown exception | api内部不可知的错误 | api | \n",
    "| 100200 | task service success | 每个框架及平台接口都是以服务提供功能, 表示这些服务工作正常 | |\n",
    "| 100201 | task service is not found | 用户请求的任务相关的服务不存在或者该服务没有启动 | service |\n",
    "| 100202 | task service start fails | 用户请求的任务启动失败 | service |\n",
    "| 100299 | task service unkown exception | 任务服务相关的不可知的错误 | service |\n",
    "| 100300 | k12cv container success | 每个cv框架任务对应一个container进程, 100300表示进程启动成功 | |\n",
    "| 100301 | k12cv container is not found! | (cv)指定的container不存在 | k12cv |\n",
    "| 100302 | k12cv container start fail | (cv)container启动失败 | k12cv |\n",
    "| 100303 | k12cv container stop fail | (cv)停止指定的container失败 | k12cv |\n",
    "| 100304 | k12cv container is already running | (cv)指定的container已经启动 | k12cv |\n",
    "| 100399 | k12cv container unkown exception | (cv)框架上不可知的异常 | k12cv |\n",
    "| 100400 | k12nlp container success | 每个nlp框架任务对应一个container进程, 100400表示进程启动成功 | |\n",
    "| 100401 | k12nlp container is not found | (nlp)指定的container不存在 | k12nlp |\n",
    "| 100402 | k12nlp container start fail | (nlp)container启动失败| k12nlp |\n",
    "| 100403 | k12nlp container stop fail | (nlp)停止指定的container失败 | k12nlp |\n",
    "| 100404 | k12nlp container is already running | (nlp)指定的container已经启动 | k12nlp |\n",
    "| 100405 | k12nlp container process start configure error | (nlp)框架上启动的进程解析配置文件失败 | k12nlp |\n",
    "| 100499 | k12nlp continaer process unkown exception | (nlp)框架上不可知的异常 | k12nlp |\n",
    "| 100500 | 100500 | | 预留 |\n",
    "| 100600 | 100600 | | 预留 | \n",
    "| 100700 | 100700 | | 预留 |\n",
    "| 100800 | 100800 | | 预留 |\n",
    "| 100900 | 100900 | 通用的异常 | | \n",
    "| 100901 | common exception: out of memory | 内存不足 | |\n",
    "| 999999 | Unkown error! | 不可知的错误 | |\n",
    "\n",
    "\n",
    "[最新错误码定义](https://gitee.com/hzcsai_com/hzcsk12/blob/master/k12ai_errmsg.py)"
   ]
  },
  {
   "cell_type": "markdown",
   "metadata": {},
   "source": [
    "## 二. 错误码模型定义"
   ]
  },
  {
   "cell_type": "markdown",
   "metadata": {},
   "source": [
    "```json\n",
    "{\n",
    "    \"code\": 101,  // [M] 统一错误码\n",
    "    \"descr\": \"\",  // [M] 错误简要信息\n",
    "    \"message\":\"\", // [O] 自定义消息,辅助消息\n",
    "    \"detail\": {     // [O] 错误详细信息\n",
    "        \"filename\": \"\", // [C] 非异常错误时, 错误输出所在文件\n",
    "        \"linenum\": 100, // [C] 非异常错误时, 错误输出所在行号\n",
    "        \"funcname\": \"\", // [C] 非异常错误时, 错误输出所在函数\n",
    "        \"err_type\": \"\", // [C] 错误是异常时, 异常的类名\n",
    "        \"err_text\": \"\", // [C] 错误是异常时, 异常的内容\n",
    "        \"traceback\":[   // [C] 错误是异常时, 错误堆栈\n",
    "            {\n",
    "                \"filename\": \"\",\n",
    "                \"linenum\": 100,\n",
    "                \"funcname\": \"\",\n",
    "                \"source\": \"\" // [C] 错误是异常时, 发生问题的程序代码\n",
    "            },\n",
    "            {\n",
    "                \"filename\": \"\",\n",
    "                \"linenum\": 100,\n",
    "                \"funcname\": \"\",\n",
    "                \"source\": \"\" // [C] 错误是异常时, 发生问题的程序代码\n",
    "            },\n",
    "        ]\n",
    "    }\n",
    "}\n",
    "```"
   ]
  },
  {
   "cell_type": "markdown",
   "metadata": {},
   "source": [
    "## 四. 案例"
   ]
  },
  {
   "cell_type": "code",
   "execution_count": 1,
   "metadata": {},
   "outputs": [],
   "source": [
    "import requests\n",
    "import json\n",
    "import consul\n",
    "import time\n",
    "\n",
    "hostname = 'gamma'\n",
    "host = '10.255.20.227'\n",
    "port = 8129\n",
    "\n",
    "user = 'test'\n",
    "uuid = '123456'\n",
    "\n",
    "consul_addr = host\n",
    "consul_port = 8500"
   ]
  },
  {
   "cell_type": "code",
   "execution_count": 2,
   "metadata": {},
   "outputs": [],
   "source": [
    "# API异步接口将过程中产出的数据同步到consul数据中心, 调用该接口可从中心获取数据 (数据中心仅供开发使用)\n",
    "def query_async_data(key, wait = 1):\n",
    "    time.sleep(wait)\n",
    "    try:\n",
    "        client = consul.Consul(consul_addr, consul_port)\n",
    "        _, data = client.kv.get(key)\n",
    "        return str(data['Value'], encoding=\"utf-8\")\n",
    "    except:\n",
    "        return 'Query nothing, try again later!'\n",
    "    \n",
    "# 格式化打印json字符串\n",
    "def print_json(text):\n",
    "    if isinstance(text, str):\n",
    "        print(json.dumps(json.loads(text), indent=4))\n",
    "    else:\n",
    "        print(json.dumps(text, indent=4))"
   ]
  },
  {
   "cell_type": "code",
   "execution_count": 3,
   "metadata": {},
   "outputs": [],
   "source": [
    "config = '''{\n",
    "    \"dataset_reader\":{\n",
    "        \"type\": \"sst_tokens\",\n",
    "        \"use_subtrees\": true,\n",
    "        \"granularity\": \"2-class\"\n",
    "    },\n",
    "    \"validation_dataset_reader\":{\n",
    "        \"type\": \"sst_tokens\",\n",
    "        \"use_subtrees\": false,\n",
    "        \"granularity\": \"2-class\"\n",
    "    },\n",
    "    \"train_data_path\": \"/data/datasets/nlp/sst/train.txt\",\n",
    "    \"validation_data_path\": \"/data/datasets/nlp/sst/dev.txt\",\n",
    "    \"test_data_path\": \"/data/datasets/nlp/sst/test.txt\",  \n",
    "    \"model\": {\n",
    "        \"type\": \"basic_classifier\",        \n",
    "        \"text_field_embedder\": {\n",
    "            \"token_embedders\": {\n",
    "                \"tokens\": {\n",
    "                    \"type\": \"embedding\",\n",
    "                    \"embedding_dim\": 300,          \n",
    "                    \"trainable\": false          \n",
    "                }\n",
    "            }\n",
    "        },\n",
    "        \"seq2vec_encoder\": {\n",
    "            \"type\": \"lstm\",                     \n",
    "            \"input_size\": 300,\n",
    "            \"hidden_size\": 512,\n",
    "            \"num_layers\": 2,\n",
    "            \"batch_first\": true\n",
    "        }\n",
    "    },    \n",
    "    \"iterator\": {\n",
    "        \"type\": \"bucket\",\n",
    "        \"sorting_keys\": [[\"tokens\", \"num_tokens\"]],\n",
    "        \"batch_size\" : 32\n",
    "    },\n",
    "    \"trainer\": {\n",
    "        \"num_epochs\": 5,\n",
    "        \"patience\": 1,\n",
    "        \"grad_norm\": 5.0,\n",
    "        \"validation_metric\": \"+accuracy\",\n",
    "        \"cuda_device\": 0,\n",
    "        \"optimizer\": {\n",
    "            \"type\": \"adam\",\n",
    "            \"lr\": 0.001\n",
    "        }\n",
    "    }\n",
    "}'''"
   ]
  },
  {
   "cell_type": "markdown",
   "metadata": {},
   "source": [
    "### 1. 缺少参数"
   ]
  },
  {
   "cell_type": "code",
   "execution_count": 4,
   "metadata": {},
   "outputs": [
    {
     "name": "stdout",
     "output_type": "stream",
     "text": [
      "{\n",
      "    \"code\": 100101,\n",
      "    \"descr\": \"api parameter key is not found\",\n",
      "    \"detail\": {\n",
      "        \"exc_type\": \"KeyError\",\n",
      "        \"exc_text\": \"'op'\",\n",
      "        \"trackback\": [\n",
      "            {\n",
      "                \"filename\": \"k12ai_service.py\",\n",
      "                \"linenum\": 164,\n",
      "                \"funcname\": \"_framework_train\",\n",
      "                \"souce\": \"op = reqjson['op']\"\n",
      "            }\n",
      "        ]\n",
      "    }\n",
      "}\n"
     ]
    }
   ],
   "source": [
    "data = '''{\n",
    "    \"xxx\":\"train.start\",\n",
    "    \"user\": \"%s\",\n",
    "    \"service_name\": \"k12nlp\",\n",
    "    \"service_uuid\": \"%s\",\n",
    "    \"service_params\": %s\n",
    "}''' % (user, uuid, config)\n",
    "\n",
    "api = 'http://%s:%d/k12ai/framework/train' % (host, port)\n",
    "print_json(requests.post(url=api, json=json.loads(data)).text)"
   ]
  },
  {
   "cell_type": "markdown",
   "metadata": {},
   "source": [
    "### 2. 参数值错误"
   ]
  },
  {
   "cell_type": "code",
   "execution_count": 5,
   "metadata": {},
   "outputs": [
    {
     "name": "stdout",
     "output_type": "stream",
     "text": [
      "{\n",
      "    \"code\": 100102,\n",
      "    \"descr\": \"api parameter value is invalid\",\n",
      "    \"message\": \"not support op:xxx\"\n",
      "}\n"
     ]
    }
   ],
   "source": [
    "data = '''{\n",
    "    \"op\":\"xxx\",\n",
    "    \"user\": \"%s\",\n",
    "    \"service_name\": \"k12nlp\",\n",
    "    \"service_uuid\": \"%s\",\n",
    "    \"service_params\": %s\n",
    "}''' % (user, uuid, config)\n",
    "\n",
    "api = 'http://%s:%d/k12ai/framework/train' % (host, port)\n",
    "print_json(requests.post(url=api, json=json.loads(data)).text)"
   ]
  },
  {
   "cell_type": "markdown",
   "metadata": {},
   "source": [
    "### 3. 服务不存在"
   ]
  },
  {
   "cell_type": "code",
   "execution_count": 6,
   "metadata": {},
   "outputs": [
    {
     "name": "stdout",
     "output_type": "stream",
     "text": [
      "{\n",
      "    \"code\": 100201,\n",
      "    \"descr\": \"task service is not found\",\n",
      "    \"message\": \"service name:xxx\"\n",
      "}\n"
     ]
    }
   ],
   "source": [
    "data = '''{\n",
    "    \"op\":\"train.start\",\n",
    "    \"user\": \"%s\",\n",
    "    \"service_name\": \"xxx\",\n",
    "    \"service_uuid\": \"%s\",\n",
    "    \"service_params\": %s\n",
    "}''' % (user, uuid, config)\n",
    "\n",
    "api = 'http://%s:%d/k12ai/framework/train' % (host, port)\n",
    "print_json(requests.post(url=api, json=json.loads(data)).text)"
   ]
  },
  {
   "cell_type": "markdown",
   "metadata": {},
   "source": [
    "### 4. 服务启动失败"
   ]
  },
  {
   "cell_type": "code",
   "execution_count": 7,
   "metadata": {},
   "outputs": [
    {
     "name": "stdout",
     "output_type": "stream",
     "text": [
      "{\n",
      "    \"code\": 100200,\n",
      "    \"descr\": \"task service success\",\n",
      "    \"message\": \"train.start task cache directory: /data/users/test/123456\"\n",
      "}\n"
     ]
    }
   ],
   "source": [
    "config_err = config.replace('lstm', 'xxx')\n",
    "data = '''{\n",
    "    \"op\":\"train.start\",\n",
    "    \"user\": \"%s\",\n",
    "    \"service_name\": \"k12nlp\",\n",
    "    \"service_uuid\": \"%s\",\n",
    "    \"service_params\": %s\n",
    "}''' % (user, uuid, config_err)\n",
    "\n",
    "api = 'http://%s:%d/k12ai/framework/train' % (host, port)\n",
    "print_json(requests.post(url=api, json=json.loads(data)).text)"
   ]
  },
  {
   "cell_type": "code",
   "execution_count": 9,
   "metadata": {
    "scrolled": false
   },
   "outputs": [
    {
     "name": "stdout",
     "output_type": "stream",
     "text": [
      "{\n",
      "    \"version\": \"0.1.0\",\n",
      "    \"type\": \"error\",\n",
      "    \"tag\": \"framework\",\n",
      "    \"op\": \"train.start\",\n",
      "    \"user\": \"test\",\n",
      "    \"service_uuid\": \"123456\",\n",
      "    \"timestamp\": 1574419278656,\n",
      "    \"datetime\": \"2019-11-22 18:41:18\",\n",
      "    \"error\": {\n",
      "        \"code\": 100405,\n",
      "        \"descr\": \"k12nlp container process start configure error\",\n",
      "        \"detail\": {\n",
      "            \"exc_type\": \"ConfigurationError\",\n",
      "            \"exc_text\": \"'xxx not in acceptable choices for model.seq2vec_encoder.type: [\\\\'cnn\\\\', \\\\'cnn-highway\\\\', \\\\'bert_pooler\\\\', \\\\'bag_of_embeddings\\\\', \\\\'boe\\\\', \\\\'gru\\\\', \\\\'lstm\\\\', \\\\'rnn\\\\', \\\\'augmented_lstm\\\\', \\\\'alternating_lstm\\\\', \\\\'stacked_bidirectional_lstm\\\\']. You should either use the --include-package flag to make sure the correct module is loaded, or use a fully qualified class name in your config file like {\\\"model\\\": \\\"my_module.models.MyModel\\\"} to have it imported automatically.'\",\n",
      "            \"trackback\": [\n",
      "                {\n",
      "                    \"filename\": \"/hzcsk12/allennlp/commands/__init__.py\",\n",
      "                    \"linenum\": 108,\n",
      "                    \"funcname\": \"main\",\n",
      "                    \"souce\": \"args.func(args)\"\n",
      "                },\n",
      "                {\n",
      "                    \"filename\": \"/hzcsk12/allennlp/commands/train.py\",\n",
      "                    \"linenum\": 124,\n",
      "                    \"funcname\": \"train_model_from_args\",\n",
      "                    \"souce\": \"args.cache_prefix)\"\n",
      "                },\n",
      "                {\n",
      "                    \"filename\": \"/hzcsk12/allennlp/commands/train.py\",\n",
      "                    \"linenum\": 168,\n",
      "                    \"funcname\": \"train_model_from_file\",\n",
      "                    \"souce\": \"cache_directory, cache_prefix)\"\n",
      "                },\n",
      "                {\n",
      "                    \"filename\": \"/hzcsk12/allennlp/commands/train.py\",\n",
      "                    \"linenum\": 226,\n",
      "                    \"funcname\": \"train_model\",\n",
      "                    \"souce\": \"cache_prefix)\"\n",
      "                },\n",
      "                {\n",
      "                    \"filename\": \"/hzcsk12/allennlp/training/trainer_pieces.py\",\n",
      "                    \"linenum\": 65,\n",
      "                    \"funcname\": \"from_params\",\n",
      "                    \"souce\": \"model = Model.from_params(vocab=vocab, params=params.pop('model'))\"\n",
      "                },\n",
      "                {\n",
      "                    \"filename\": \"/hzcsk12/allennlp/common/from_params.py\",\n",
      "                    \"linenum\": 365,\n",
      "                    \"funcname\": \"from_params\",\n",
      "                    \"souce\": \"return subclass.from_params(params=params, **extras)\"\n",
      "                },\n",
      "                {\n",
      "                    \"filename\": \"/hzcsk12/allennlp/common/from_params.py\",\n",
      "                    \"linenum\": 386,\n",
      "                    \"funcname\": \"from_params\",\n",
      "                    \"souce\": \"kwargs = create_kwargs(cls, params, **extras)\"\n",
      "                },\n",
      "                {\n",
      "                    \"filename\": \"/hzcsk12/allennlp/common/from_params.py\",\n",
      "                    \"linenum\": 133,\n",
      "                    \"funcname\": \"create_kwargs\",\n",
      "                    \"souce\": \"kwargs[name] = construct_arg(cls, name, annotation, param.default, params, **extras)\"\n",
      "                },\n",
      "                {\n",
      "                    \"filename\": \"/hzcsk12/allennlp/common/from_params.py\",\n",
      "                    \"linenum\": 229,\n",
      "                    \"funcname\": \"construct_arg\",\n",
      "                    \"souce\": \"return annotation.from_params(params=subparams, **subextras)\"\n",
      "                },\n",
      "                {\n",
      "                    \"filename\": \"/hzcsk12/allennlp/common/from_params.py\",\n",
      "                    \"linenum\": 359,\n",
      "                    \"funcname\": \"from_params\",\n",
      "                    \"souce\": \"default_to_first_choice=default_to_first_choice)\"\n",
      "                },\n",
      "                {\n",
      "                    \"filename\": \"/hzcsk12/allennlp/common/params.py\",\n",
      "                    \"linenum\": 363,\n",
      "                    \"funcname\": \"pop_choice\",\n",
      "                    \"souce\": \"raise ConfigurationError(message)\"\n",
      "                }\n",
      "            ]\n",
      "        }\n",
      "    }\n",
      "}\n"
     ]
    }
   ],
   "source": [
    "# sleep 10s\n",
    "print(query_async_data('framework/%s/%s/train.start/error'%(user, uuid)))"
   ]
  }
 ],
 "metadata": {
  "kernelspec": {
   "display_name": "Python 3",
   "language": "python",
   "name": "python3"
  },
  "language_info": {
   "codemirror_mode": {
    "name": "ipython",
    "version": 3
   },
   "file_extension": ".py",
   "mimetype": "text/x-python",
   "name": "python",
   "nbconvert_exporter": "python",
   "pygments_lexer": "ipython3",
   "version": "3.6.8"
  }
 },
 "nbformat": 4,
 "nbformat_minor": 2
}
