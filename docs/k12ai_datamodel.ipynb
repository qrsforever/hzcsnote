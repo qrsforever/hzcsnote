{
 "cells": [
  {
   "cell_type": "markdown",
   "metadata": {},
   "source": [
    "# <div align=\"center\"> REST API 数据模型 </div>"
   ]
  },
  {
   "cell_type": "markdown",
   "metadata": {},
   "source": [
    "# 1 框架任务`/k12ai/framework/$task`"
   ]
  },
  {
   "cell_type": "markdown",
   "metadata": {},
   "source": [
    "## 1.1 输入\n",
    "\n",
    "```json\n",
    "{\n",
    "    \"op\":\"\", // [M] api具有子集操作, 如: \"predict.start\", \"predict.stop\"\n",
    "    \"user\": \"\", // [M] 用户ID, api调用者, 如: 用户账号user_id(不含有特殊字符)\n",
    "    \"service_name\": \"\", // [M] 服务名, k12ai由多个子框架组成, 需要指定具体服务, 如: \"k12nlp\", \"k12cv\"\n",
    "    \"service_uuid\": \"\", // [M] 服务唯一标识码, 可以是用户项目的工程ID, project_id.\n",
    "    \"service_params\": { // [M] 服务参数(不同任务参数不同)\n",
    "\n",
    "    }\n",
    "}\n",
    "```\n",
    "\n",
    "(待续)"
   ]
  },
  {
   "cell_type": "markdown",
   "metadata": {},
   "source": [
    "## 1.2 输出\n",
    "\n",
    "A. 异步操作返回\n",
    "\n",
    "```json\n",
    "{\n",
    "    \"version\": \"\",    // [M] 数据格式版本号, 兼容使用\n",
    "    \"type\": \"\",       // [M] 正文的内容类型, 如: error, metrics, info等\n",
    "    \"tag\": \"\",        // [M] 区分框架服务,如: framework, platform, 对应与restapi的URI: /k12ai/$tag/train\n",
    "    \"op\": \"\",         // [M] 区分训练任务,如: train.start, predict.stop等\n",
    "    \"user\": \"\",         // [M] 任务所属用户\n",
    "    \"service_uuid\": \"\", // [M] 任务ID, 建议对应project ID.\n",
    "    \"timestamp\": ,      // [M] 异步消息返回的时间戳\n",
    "    \"datetime\": \"\",     // [M] 异步消息返回的日期\n",
    "    \"$type\": {          // [M] 根据字段\"type\"的不同, 这里的内容有差异\n",
    "    }\n",
    "}\n",
    "```\n",
    "\n",
    "B. 同步操作返回\n",
    "\n",
    "(待续)"
   ]
  },
  {
   "cell_type": "markdown",
   "metadata": {},
   "source": [
    "### 1.2.1 `type=\"error\"`\n",
    "\n",
    "```json\n",
    "{\n",
    "    \"version\": \"\", \n",
    "    \"type\": \"error\",\n",
    "    \"tag\": \"\", \n",
    "    \"op\": \"\", \n",
    "    \"user\": \"\",\n",
    "    \"service_uuid\": \"\",\n",
    "    \"timestamp\": ,\n",
    "    \"datetime\": \"\", \n",
    "    \"error\": {\n",
    "        \"code\": 100,  // [M] 统一错误码\n",
    "        \"descr\": \"\",  // [M] 错误简要信息\n",
    "        \"message\":\"\", // [O] 自定义消息,辅助消息\n",
    "        \"detail\": {     // [O] 错误详细信息\n",
    "            \"filename\": \"\", // [C] 非异常错误时, 错误输出所在文件\n",
    "            \"linenum\": 100, // [C] 非异常错误时, 错误输出所在行号\n",
    "            \"funcname\": \"\", // [C] 非异常错误时, 错误输出所在函数\n",
    "            \"exc_type\": \"\", // [C] 错误是异常时, 异常的类名\n",
    "            \"exc_text\": \"\", // [C] 错误是异常时, 异常的内容\n",
    "            \"traceback\":[   // [C] 错误是异常时, 错误堆栈\n",
    "                {\n",
    "                    \"filename\": \"\",\n",
    "                    \"linenum\": 100,\n",
    "                    \"funcname\": \"\",\n",
    "                    \"source\": \"\" // [C] 错误是异常时, 发生问题的程序代码\n",
    "                },\n",
    "                {\n",
    "                    \"filename\": \"\",\n",
    "                    \"linenum\": 100,\n",
    "                    \"funcname\": \"\",\n",
    "                    \"source\": \"\" // [C] 错误是异常时, 发生问题的程序代码\n",
    "                },\n",
    "            ]\n",
    "        }\n",
    "    }\n",
    "}\n",
    "```"
   ]
  },
  {
   "cell_type": "markdown",
   "metadata": {},
   "source": [
    "### 1.2.2 `type=\"metrics\"`\n",
    "\n",
    "```json\n",
    "{\n",
    "    \"version\": \"\", \n",
    "    \"type\": \"metrics\",\n",
    "    \"tag\": \"\", \n",
    "    \"op\": \"\", \n",
    "    \"user\": \"\",\n",
    "    \"service_uuid\": \"\",\n",
    "    \"timestamp\": ,\n",
    "    \"datetime\": \"\", \n",
    "    \"metrics\": {\n",
    "        \"accuracy\": 0.649,\n",
    "        \"accuracy3\": 0.928,\n",
    "        \"loss\": 1.02994999563694\n",
    "    }\n",
    "}\n",
    "```\n",
    "\n",
    "(待续)"
   ]
  },
  {
   "cell_type": "markdown",
   "metadata": {},
   "source": [
    "--------------------------------------------------------------------------------"
   ]
  },
  {
   "cell_type": "markdown",
   "metadata": {},
   "source": [
    "# 2 平台任务`/k12ai/platform/$task`"
   ]
  },
  {
   "cell_type": "markdown",
   "metadata": {},
   "source": [
    "## 2.1 输入\n",
    "\n",
    "```json\n",
    "{\n",
    "    \"username\": \"test\",  // [M] 登陆平台用户名 (未使用)\n",
    "    \"password\": \"test\",  // [M] 登陆平台用户密码 (未使用)\n",
    "    \"async\": true,  // [O] 默认同步, 即值为false, api调用过程方式\n",
    "    \"query\": {  //  [O] 默认query所有项\n",
    "        \"cpus\": true, // [O] k12ai主机cpu信息 \n",
    "        \"gpus\": true, // [O] k12ai主机gpu信息\n",
    "        \"disks\": false, // [O] k12ai主机磁盘信息\n",
    "        \"containers\": true // [O] k12ai主机上正在运行的label为\"k12ai.service.name\"的container信息\n",
    "    }\n",
    "}\n",
    "```\n",
    "(待续)"
   ]
  },
  {
   "cell_type": "markdown",
   "metadata": {},
   "source": [
    "## 2.2 输出\n",
    "\n",
    "```json\n",
    "{\n",
    "    \"version\": \"0.1.0\", // [M] 返回json格式的版本号, 兼容版本时使用\n",
    "    \"type\": \"info\",   // [M] 消息正文内容类型\n",
    "    \"tag\": \"platform\", // [M] 标识输出结果的服务TAG, 可以用来后续消息过滤 \n",
    "    \"op\": \"stats\", // [M] 标识输出结果由哪个功能产出, 一般统一为\"/k12ai/$tag/stats\"的形式\n",
    "    \"timestamp\": , // [M]\n",
    "    \"datetime\": , // [M]\n",
    "    \"info\": { // [M] 输出结果的正文内容\n",
    "        \"cpu_percent\": 47.4,  // [C] k12ai主机cpu使用率, 不区分多cpu \n",
    "        \"cpu_percent_list\": [ // [C] k12ai主机cpu使用率, 每个cpu的使用率\n",
    "            63.6,\n",
    "            31.1\n",
    "        ],\n",
    "        \"cpu_memory_total\":, // [C] k12ai主机memory总大小(Byte)\n",
    "        \"cpu_memory_usage\":, // [C] k12ai主机memory已使用(Byte)\n",
    "        \"cpu_memory_percent\": , // [C] k12ai主机memory使用率\n",
    "        \"gpus\": [  // [C] k12ai主机gpu信息, 每个gpu信息列表\n",
    "            {\n",
    "                \"name\": \"\", // [C] gpu名字, 厂商\n",
    "                \"gpu_percent\": , // [C] gpu使用率\n",
    "                \"gpu_memory_total\": , // [C] gpu显存总大小(Byte)\n",
    "                \"gpu_memory_usage\": , // [C] gpu显存已使用(Byte)\n",
    "                \"gpu_memory_percent\": // [C] gpu显存使用率\n",
    "            }\n",
    "        ],\n",
    "        \"containers\": [ // k12ai主机正在运行的关于训练相关的container信息\n",
    "            {\n",
    "                \"id\": \"\", // container的ID\n",
    "                \"cpu_percent\": , // container的cpu使用率\n",
    "                \"cpu_memory_total\":,  // container的memory总大小\n",
    "                \"cpu_memory_usage\":,  // container的memory已使用\n",
    "                \"cpu_memory_percent\":, // container的memory利用率\n",
    "                \"op\": \"\",  // container正在执行的操作,如:\"train.start\", \"predict.start\"等\n",
    "                \"user\": \"\", // container用户ID\n",
    "                \"service_uuid\": \"\" // container执行的任务/服务ID.\n",
    "            },\n",
    "        ]\n",
    "    }\n",
    "}\n",
    "```\n",
    " \n",
    "待续"
   ]
  },
  {
   "cell_type": "code",
   "execution_count": null,
   "metadata": {},
   "outputs": [],
   "source": []
  }
 ],
 "metadata": {
  "kernelspec": {
   "display_name": "Python 3",
   "language": "python",
   "name": "python3"
  },
  "language_info": {
   "codemirror_mode": {
    "name": "ipython",
    "version": 3
   },
   "file_extension": ".py",
   "mimetype": "text/x-python",
   "name": "python",
   "nbconvert_exporter": "python",
   "pygments_lexer": "ipython3",
   "version": "3.6.9"
  }
 },
 "nbformat": 4,
 "nbformat_minor": 2
}
