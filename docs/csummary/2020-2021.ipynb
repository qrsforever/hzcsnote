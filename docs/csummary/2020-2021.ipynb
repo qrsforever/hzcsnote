{
 "cells": [
  {
   "cell_type": "markdown",
   "metadata": {},
   "source": [
    "# <div align=\"center\">2020-2021总结与计划</div>"
   ]
  },
  {
   "cell_type": "markdown",
   "metadata": {},
   "source": [
    "## 原始k12ai版本(sigmai)"
   ]
  },
  {
   "cell_type": "markdown",
   "metadata": {
    "ExecuteTime": {
     "end_time": "2020-10-09T11:19:16.598247Z",
     "start_time": "2020-10-09T11:19:16.590433Z"
    }
   },
   "source": [
    "研究原始版本的系统执行流程及分析代码结构.\n",
    "\n",
    "成功部分:\n",
    "\n",
    "   - **系统结构简单, 方便理解**\n",
    "   - **页面设计易用**\n",
    "   \n",
    "失败部分:\n",
    "\n",
    "   - **每个用户需对应一个端口(visdom), 端口维护复杂, 不可靠**\n",
    "   - **Web前端直接与GPU服务端通讯, 具有安全隐患, 不提倡**\n",
    "   - **GPU服务端采用单服务处理用户训练请求, 一旦任意一个用户训练出故障, 会影响全局**"
   ]
  },
  {
   "cell_type": "markdown",
   "metadata": {},
   "source": [
    "## Docker + Schema版本\n",
    "\n",
    "为了解决端口管理和安全问题, 废除visdom, 所有用户训练数据传递(redis)到后台服务器进行存储管理, 前端直接和后端服务器通信; 重新设计GPU服务端的服务, 启动docker来相应用户相关的请求任务; 部署调试环境(notebook), 可完成GPU测功能的独立开发测试; 在缺少前端开发的情况下, 设计一套动态schema协议规范, 可以在缺少前端开发的情况下, 仍可以由GPU服务器端来动态配置页面, 同时调试环境也已支持.\n",
    "\n",
    "成功部分:\n",
    "\n",
    "   - **采用docker + redis解决环境部署及端口安全问题**\n",
    "   - **动态schema一定程度缓解缺少前端开发无法产品演示的问题**\n",
    "   - **notebook开发调试带来了便利**\n",
    "   \n",
    "失败部分:\n",
    "\n",
    "   - **docker启动速度会慢一些(与整个训练过程时间相比可以忽略)**\n",
    "   - **动态schema虽然灵活但配置页面不可灵活定制化**"
   ]
  },
  {
   "cell_type": "markdown",
   "metadata": {},
   "source": [
    "## 集成更多框架版本(talentai)\n",
    "\n",
    "系统集成更多的框架, 如自然语言处理(NLP), 机器学习(ML), 强化学习(RL)\n",
    "\n",
    "成功部分:\n",
    "\n",
    "   - **Talentai平台不再只支持计算机视觉(CV)一种框架, 利于对外宣传**\n",
    "   \n",
    "失败部分:\n",
    " \n",
    "   - **所有框架都是基于pytroch的开源项目, 稳定性及可靠性不能评估, 一旦出严重问题, 修复和同步均耗时**"
   ]
  },
  {
   "cell_type": "markdown",
   "metadata": {},
   "source": [
    "## 最终形态版本\n",
    "\n",
    "前版本并不算是产品, 只能作为演示样板或者开发调试人员使用, 在迫切需要个正式版本的情况下, 以冬至为主导设计出最终形态版本.\n",
    "\n",
    "成功部分:\n",
    "\n",
    "   - **页面布局及色彩的设计有很大进步**\n",
    "   - **用户自定义拖拽模型重新做了设计, 并增加了计算每层的默认值, 降低难度**\n",
    "   - **增加了资源调度机制**\n",
    "\n",
    "失败部分:\n",
    "\n",
    "   - **目前支持CV**\n",
    "   - **参数配置功能过于臃肿, 不实用**\n",
    "   - **产品缺少趣味性及开放互动环节, 且知识点并没有一个循序渐进的过程**"
   ]
  },
  {
   "cell_type": "markdown",
   "metadata": {},
   "source": [
    "-----------------------"
   ]
  },
  {
   "cell_type": "markdown",
   "metadata": {},
   "source": [
    "## 2020-Q4"
   ]
  },
  {
   "cell_type": "markdown",
   "metadata": {},
   "source": [
    "![](2020-Q4.png)"
   ]
  },
  {
   "cell_type": "markdown",
   "metadata": {},
   "source": [
    "一旦学生开始使用, 机器数大量增加, 环境维护及机器稳定性将成为首要保证的问题, 目前缺少GPU后台维护(监控)平台. \n",
    "\n",
    "重要事件:\n",
    "\n",
    "   - **机器批量增加, 不可能一台一台手动配置环境, 需要实现一个自动化配置环境(同一机型)**\n",
    "   - **缺少GPU后台维护的工具, 监控每台GPU机器上所有服务是否正常, 若有异常应该自动上报通知维护人员**\n",
    "   - **产品本身问题, 产品是否在小学生的认知范围内? 是否是循序渐进的? 等问题需要等待老师和学生的反馈**\n",
    "   \n",
    "好的产品内容 + 稳定的后台支持 = 产品信心"
   ]
  },
  {
   "cell_type": "markdown",
   "metadata": {},
   "source": [
    "## 2021-Q1"
   ]
  },
  {
   "cell_type": "markdown",
   "metadata": {},
   "source": [
    "![](2021-Q1.png)"
   ]
  },
  {
   "cell_type": "markdown",
   "metadata": {},
   "source": [
    "收集到足够多的反馈后, 产品形态将会发生变化, 新的产品会更有趣, 更容易学习使用.\n",
    "\n",
    "重要事件:\n",
    "\n",
    "   - **深入理解几大框架以及框架的应用, 挖掘出更多有趣的实例**\n",
    "   - **参与或带领团队对人工智能教育定下的[衡量成果的标准]设计对应的产品**\n",
    "   - **探索AIoT对人工智能教育辅助作用, 让Talentai与具体设备联动起来, 可以让课堂更有趣**"
   ]
  },
  {
   "cell_type": "markdown",
   "metadata": {},
   "source": [
    "## 2021-Q2"
   ]
  },
  {
   "cell_type": "markdown",
   "metadata": {},
   "source": [
    "![](2021-Q2.png)"
   ]
  },
  {
   "cell_type": "code",
   "execution_count": null,
   "metadata": {},
   "outputs": [],
   "source": []
  }
 ],
 "metadata": {
  "kernelspec": {
   "display_name": "Python 3",
   "language": "python",
   "name": "python3"
  },
  "language_info": {
   "codemirror_mode": {
    "name": "ipython",
    "version": 3
   },
   "file_extension": ".py",
   "mimetype": "text/x-python",
   "name": "python",
   "nbconvert_exporter": "python",
   "pygments_lexer": "ipython3",
   "version": "3.6.9"
  },
  "toc": {
   "base_numbering": 1,
   "nav_menu": {},
   "number_sections": true,
   "sideBar": true,
   "skip_h1_title": true,
   "title_cell": "",
   "title_sidebar": "Contents",
   "toc_cell": false,
   "toc_position": {},
   "toc_section_display": true,
   "toc_window_display": false
  }
 },
 "nbformat": 4,
 "nbformat_minor": 4
}
