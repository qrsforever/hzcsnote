{
 "cells": [
  {
   "cell_type": "markdown",
   "metadata": {},
   "source": [
    "## 10-12"
   ]
  },
  {
   "cell_type": "markdown",
   "metadata": {},
   "source": [
    "1. 面试\n",
    "2. 会议\n",
    "3. 一键配置: 自研开发, 耗时好力, 扩展功能灵活\n",
    "4. 一键配置: OpenStack是一个开源的云计算管理平台, 标准统一, 大规模\n",
    "5. 一键配置: 滴滴云快照, 快捷省事, 会产生一点费用 (推荐使用)\n",
    "6. 远程监控: plesk专业主机管理软件, 面向Web服务, 不免费\n",
    "7. 远程监控: StatsD, serverstatus 都是notejs方面的\n",
    "8. 远程监控: Nagios 监控系统, 商业软件, 免费监控7个终端\n",
    "9. 远程监控: Shenkin 重新实现Nagios免费, 相对复杂, 插件较多, 功能繁琐"
   ]
  },
  {
   "cell_type": "markdown",
   "metadata": {},
   "source": [
    "验证两台主机信任是否已成功建立\n",
    "\n",
    "Nagios的主要功能特点：\n",
    "- 监视网络服务 (SMTP, POP3, HTTP, NNTP, PING等)\n",
    "- 监视主机资源 (进程, 磁盘等)\n",
    "- 简单的插件设计可以轻松扩展Nagios的监视功能\n",
    "- 服务等监视的并发处理\n",
    "- 错误通知功能 (通过email, pager, 或其他用户自定义方法)\n",
    "- 可指定自定义的事件处理控制器\n",
    "- 可选的基于浏览器的WEB界面以方便系统管理人员查看网络状态，各种系统问题，以及日志等等\n",
    "- 可以通过手机查看系统监控信息"
   ]
  },
  {
   "cell_type": "markdown",
   "metadata": {},
   "source": [
    "## 10-13"
   ]
  },
  {
   "cell_type": "markdown",
   "metadata": {},
   "source": [
    "1. 一键配置滴滴云快照方式在P4机器验证可行\n",
    "2. consul 官方文档及软件功能分析\n",
    "  - 服务发现\n",
    "  - 健康检测\n",
    "  - 键值存储\n",
    "  - 安全服务通信\n",
    "  - 多数据中心\n",
    "  \n",
    "  (文档中没有发现有关控制的功能, 欠缺灵活性, 扩展不便, 所以及时上报异常状态和控制服务的功能需要单独设计) \n",
    "    \n",
    "3. 登陆认证\n",
    "- 数据传输安全(TLS)\n",
    "- 还需考虑整机下线\n",
    "\n",
    "(远程监控方案: 采用consul的检测 + 实现上报/控制)"
   ]
  },
  {
   "cell_type": "markdown",
   "metadata": {},
   "source": [
    "https://www.consul.io/docs/intro\n",
    "\n",
    "Consul使用gossip协议管理成员关系、广播消息到整个集群\n",
    "\n",
    "\n",
    "![GOSSIP](gossip.gif \"gossip\")"
   ]
  },
  {
   "cell_type": "markdown",
   "metadata": {},
   "source": [
    "## 10-14\n",
    "\n",
    "1. UiPath (Stadio, Fabric(process), Doc U)\n",
    "2. 百度EasyDL (只提供访问接口, 没有模型设计)\n",
    "3. 阿里PAI Stadio (数据预处理, 特征工程, ML)\n",
    "4. DeepCognitonAI (无探测)\n",
    "5. microsoft azure (ML有拖拽, DL以代码形式)\n",
    "6. machinelearningforkids (没找到模型如何建立的, 但是训练后的模型可以在Scratch应用)\n",
    "   - 从另一种方式教孩子学习AI\n",
    "7. Machine Learning Playground (传统ML, 有意思, 自己创数据, 选择模型, 及时看到结果)"
   ]
  },
  {
   "cell_type": "markdown",
   "metadata": {},
   "source": [
    "https://www.uipath.com/product/platform/rpa-ai-integration-with-ai-fabric\n",
    "\n",
    "https://www.uipath.com/blog/easier-artificial-intelligence-starter-machine-learning-models\n",
    "\n",
    "> While AI has become a shorthand for a range of big data, statistical, and predictive techniques, UiPath focuses on “practical AI,” applying AI in tangible scenarios that improve automation outcomes. We’ve built AI into every part of the UiPath Platform, from detecting objects using computer vision, to discovering automation opportunities, and managing and scaling AI. In turn, businesses are moving from simpler automation scenarios to more complex ones, which involve unstructured data, lots of variables, and uncertain outcomes.\n",
    "\n",
    "> You don’t need to be a data scientist to use ML models\n",
    "UiPath makes it easy for RPA developers and business users to benefit from AI and ML models without deep data science expertise through products such as UiPath AI Fabric and UiPath Document Understanding.\n",
    "\n",
    "> With AI Fabric and Document Understanding, ML model retraining has been democratized for non-data scientists, enabling RPA developers and business users with domain-specific knowledge to easily mark up samples. Then they can use AI Fabric to retrain the model without needing to understand or think about feature engineering, hyperparameterization, or any other data scientist-specific knowledge."
   ]
  },
  {
   "cell_type": "markdown",
   "metadata": {},
   "source": [
    "Blue Prism\n",
    "这是一款RPA软件，可为其提供灵活的数字化劳动力组织.它可以从 https://www.blueprism.com/下载.\n",
    "\n",
    "Automation Anywhere\n",
    "RPA的另一个重要工具是Automation Anywhere，它可以从 https://www.automationanywhere.com/\n",
    "\n",
    "UiPath\n",
    "这是一个RPA软件.它可以帮助组织有效地自动化流程.它可以从 https://www.uipath.com/"
   ]
  },
  {
   "cell_type": "markdown",
   "metadata": {},
   "source": [
    "1. [machinelearningforkids](https://machinelearningforkids.co.uk/)\n",
    "\n",
    "  数据标注一体话\n",
    "  \n",
    "2. [Machine Learning Playground](https://ml-playground.com)\n",
    "\n",
    "  所见即所得"
   ]
  },
  {
   "cell_type": "markdown",
   "metadata": {},
   "source": [
    "https://www.stevemurch.com/machine-learning-ai-for-kids-resources/2018/12"
   ]
  },
  {
   "cell_type": "markdown",
   "metadata": {},
   "source": [
    "## 10-15 至 10-18"
   ]
  },
  {
   "cell_type": "markdown",
   "metadata": {},
   "source": [
    "1. 成都出差\n",
    "\n",
    "    - 参观活动会场\n",
    "    - '爱阅读'书城查看儿童书籍, 优学派儿童产品了解\n",
    "    - 签署战略协议"
   ]
  },
  {
   "cell_type": "markdown",
   "metadata": {},
   "source": [
    "---------------------"
   ]
  },
  {
   "cell_type": "markdown",
   "metadata": {},
   "source": [
    "## 10-19\n",
    "\n",
    "1. consul集群设计思路\n",
    "\n",
    "> GPU机器按区域划分, 每个区域下的所有GPU节点中选一个节点作为sever代理, 该区域其他节点作为client代理, 每个代理节点(GPU机器)都会启动若干个框架相关的服务, client节点将服务状态汇总所在区域的server代理, 所有区域server代理节点在选举出一个leader, 其他作为follower(保证不会应该单一server节点挂了,监控功能被废), 可能的问题: server节点理论上不能太多, 如果区域多了, 这个方案可能需要调整\n",
    "\n",
    "![](consul-client-server.png)\n",
    "\n",
    "https://github.com/sunweisheng/spring-cloud-example"
   ]
  },
  {
   "cell_type": "markdown",
   "metadata": {},
   "source": [
    "```\n",
    "\n",
    "                                          (wlan/lan)                    (wlan/lan)\n",
    "                         +--------------+             +--------------+              +--------------+\n",
    "                         |              | ----------> |              | -----------> |              |\n",
    "                         |  Server:chi  |             |  Server:eta  |              | Server:sigma |\n",
    "                         |              | <---------- |              | <----------- |              |\n",
    "                         +--------------+             +--------------+              +--------------+\n",
    "                           (follower)                    (leader)                      (follower)\n",
    "                               ^\n",
    "                               |\n",
    "                               | (lan: gossip)\n",
    "                               |\n",
    "                               |\n",
    "    +--------------------------|------------------------+  选择3个机器作为consul server模式\n",
    "    |                                                   |\n",
    "    |  +-------------------+     +-------------------+  |  按区域分配机器, 每个gpu机器节点启动consul client模式\n",
    "    |  |  Client:001-001   |     |  Client:001-002   |  |\n",
    "    |  |        |          |     |        |          |  |  每个gpu节点启动多个微服务(cv/nlp等)向client agent注册\n",
    "    |  |  ai/cv/ml/rl/nlp  |     |  ai/cv/ml/rl/nlp  |  |\n",
    "    |  |    (services)     |     |    (services)     |  |  client agent把消息同步到consul server端\n",
    "    |  +-------------------+     +-------------------+  |\n",
    "    |                                                   |  服务监控就可以统一做到server端\n",
    "    |                +-------------------+              |\n",
    "    |                |  Client:001-003   |              |\n",
    "    |                |        |          |              |\n",
    "    |                |  ai/cv/ml/rl/nlp  |              |\n",
    "    |                |    (services)     |              |\n",
    "    |                +-------------------+              |\n",
    "    |                                                   |\n",
    "    +---------------------------------------------------+\n",
    "```"
   ]
  },
  {
   "cell_type": "markdown",
   "metadata": {},
   "source": [
    "## 10-20\n",
    "\n",
    "1. 模拟测试consul集群, 基本测试通, 但在测试选举leader时, server节点多会出现混乱\n",
    "\n",
    "2. 真实环境部署consul server (http://116.85.5.40:8500/)\n",
    "\n",
    "3. consul client真实环境尚没有测试(明天需要滴滴云开些账号)\n",
    "\n",
    "4. consul monitor check 方案可行性研究(通过)"
   ]
  },
  {
   "cell_type": "markdown",
   "metadata": {},
   "source": [
    "https://www.techdrabble.com/hashicorp/37-use-a-consul-watch-to-monitor-vault-seal-status"
   ]
  },
  {
   "cell_type": "markdown",
   "metadata": {},
   "source": [
    "## 10-21\n",
    "\n",
    "1. 手机短信发送测试 (筑望平台消息内容必须含有\"【】验证码 \"字符, 否则发不出去)\n",
    "  - python脚本测试ok\n",
    "  - (失败)尝试使用shell实现短息发送(docker consul没有python运行环境)\n",
    "  - (方案1) 不使用docker中consul, 直接在使用原程序, 重新修改原逻辑. 缺点: 没有always restart能力\n",
    "  - (方案2:采用) 做一个新consul docker含有python环境\n",
    "  \n",
    "2. client代理环境配置及问题:\n",
    "  - (已解决)快照方式分配的机器, 解决nvidia驱动内置不配问题(WARNING! Diff between built and installed module!)\n",
    "  - 框架服务crash状态触发的脚本执行存在问题\n"
   ]
  },
  {
   "cell_type": "code",
   "execution_count": 269,
   "metadata": {
    "ExecuteTime": {
     "end_time": "2020-10-23T11:51:40.226081Z",
     "start_time": "2020-10-23T11:51:40.148667Z"
    }
   },
   "outputs": [
    {
     "name": "stdout",
     "output_type": "stream",
     "text": [
      "[{\"phone\":\"15801310416\",\"context\":\"【TalentAI远程监控】test <-验证码-> \"}]\n",
      "%5B%7B%22phone%22%3A%2215801310416%22%2C%22context%22%3A%22%E3%80%90TalentAI%E8%BF%9C%E7%A8%8B%E7%9B%91%E6%8E%A7%E3%80%91test+%3C-%E9%AA%8C%E8%AF%81%E7%A0%81-%3E+%22%7D%5D\n",
      "23b74769603ca292f47848c3512f5ecc\n"
     ]
    },
    {
     "data": {
      "text/plain": [
       "<http.client.HTTPResponse at 0x7f167b6fde48>"
      ]
     },
     "execution_count": 269,
     "metadata": {},
     "output_type": "execute_result"
    }
   ],
   "source": [
    "import json\n",
    "import hashlib\n",
    "import requests\n",
    "from urllib.request import urlopen\n",
    "from urllib.parse import quote_plus, unquote_plus\n",
    "\n",
    "PHONES = [\n",
    "    '15801310416'\n",
    "]\n",
    "\n",
    "uri = 'http://115.231.168.138:8861'\n",
    "context = []\n",
    "for tel in PHONES:\n",
    "    context.append({\n",
    "        \"phone\":tel,\n",
    "        \"context\":\"【TalentAI远程监控】test <-验证码-> \"\n",
    "    })\n",
    "\n",
    "context_str = json.dumps(context, ensure_ascii=False, separators=(',', ':')) # .encode(\"utf-8\")\n",
    "print(context_str)\n",
    "    \n",
    "# data1 = quote_plus('[{\"phone\":\"15801310416\",\"context\":\"【TalentAI远程监控】test <-验证码-> \"}]')\n",
    "# msg_digest1 = hashlib.md5(f'{data1}4YC3HDAZRO'.encode()).hexdigest()\n",
    "\n",
    "data2 = quote_plus(context_str)\n",
    "print(data2)\n",
    "\n",
    "msg_digest2 = hashlib.md5(f'{data2}4YC3HDAZRO'.encode()).hexdigest()\n",
    "print(msg_digest2)\n",
    "# unquote_plus(requests.get(f'{uri}?uid=966646&msg={data}&sign={msg_digest}&srcphone=88191008369646').text)\n",
    "# urlopen(f'{uri}?uid=966646&msg={data1}&sign={msg_digest1}&srcphone=88191008369646')\n",
    "urlopen(f'{uri}?uid=966646&msg={data2}&sign={msg_digest2}&srcphone=88191008369646')"
   ]
  },
  {
   "cell_type": "code",
   "execution_count": 271,
   "metadata": {
    "ExecuteTime": {
     "end_time": "2020-10-23T11:52:50.612750Z",
     "start_time": "2020-10-23T11:52:50.525137Z"
    }
   },
   "outputs": [
    {
     "name": "stdout",
     "output_type": "stream",
     "text": [
      "[{\"phone\":\"15801310416\",\"context\":\"【TalentAI远程监控】{\\\"116.85.5.40\\\": [\\\"k123d\\\"]} <-验证码-> \"}]\n",
      "%5B%7B%22phone%22%3A%2215801310416%22%2C%22context%22%3A%22%E3%80%90TalentAI%E8%BF%9C%E7%A8%8B%E7%9B%91%E6%8E%A7%E3%80%91%7B%5C%22116.85.5.40%5C%22%3A+%5B%5C%22k123d%5C%22%5D%7D+%3C-%E9%AA%8C%E8%AF%81%E7%A0%81-%3E+%22%7D%5D\n",
      "51a68e00e7cf92566c077ed9bb098762\n"
     ]
    },
    {
     "data": {
      "text/plain": [
       "<http.client.HTTPResponse at 0x7f167b7baa20>"
      ]
     },
     "execution_count": 271,
     "metadata": {},
     "output_type": "execute_result"
    }
   ],
   "source": [
    "PHONES = [\n",
    "    '15801310416'\n",
    "]\n",
    "\n",
    "MSG_URI = 'http://115.231.168.138:8861'\n",
    "UID = '966646'\n",
    "CODE = '4YC3HDAZRO'\n",
    "SRCPHONE = '88191008369646'\n",
    "                                         \n",
    "report_context = '【TalentAI远程监控】{} <-验证码-> '.format(json.dumps({\"116.85.5.40\": [\"k123d\"]}))\n",
    "\n",
    "report_data = []\n",
    "for tel in PHONES:\n",
    "    report_data.append({\n",
    "        \"phone\": tel,\n",
    "        \"context\": report_context})\n",
    "data = json.dumps(report_data, ensure_ascii=False, separators=(',', ':'))\n",
    "print(data)\n",
    "msg = quote_plus(data)\n",
    "print(msg)\n",
    "sign = hashlib.md5('{}{}'.format(msg, CODE).encode()).hexdigest()\n",
    "request = '{}?uid={}&msg={}&sign={}&srcphone={}'.format(MSG_URI, UID, msg, sign, SRCPHONE)\n",
    "print(sign)\n",
    "urlopen(request)"
   ]
  },
  {
   "cell_type": "markdown",
   "metadata": {},
   "source": [
    "## 10-22\n",
    "\n",
    "1. (已解决)failed inserting node: Error while renaming Node ID (node-id暂时使用固定TODO)\n",
    "\n",
    "2. (已完成)构建带python环境的consul, 短信发送采用python3自带的request, 减少安装依赖\n",
    "\n",
    "3. (已解决)ai服务注册方式由代码硬编码改为配置方式, 避免consul挂掉无法唤起ai服务注册\n",
    "\n",
    "4. (未解决)检测异常服务, 监控脚本会多次被执行问题\n",
    "\n",
    "    - 方案: 在监控脚本中增加判断是否为leader(1/3)的节点, 由leader发送消息避免重复 (未完成)\n",
    "\n",
    "5. (未解决)所有节点运行一段时间, 概率出现所有节点都退出的问题"
   ]
  },
  {
   "cell_type": "markdown",
   "metadata": {},
   "source": [
    "## 10-23\n",
    "\n",
    "1. (已解决)检测异常服务, 监控脚本会多次被执行问题\n",
    "\n",
    "2. (未解决)服务reload或者异常重启时, 所有watch监控的服务脚本会被触发(BUG)\n",
    "\n",
    "    - 临时特殊处理一下, 待官网更新\n",
    "\n",
    "    - issue [#7616](https://github.com/hashicorp/consul/pull/7616)\n",
    "    \n",
    "3. (已解决)所有节点启动过程会报服务check状态, 虽然服务是启动的, 但仍处在不可达状态, 导致误报\n",
    "\n",
    "    - TODO: 触发异常处理脚本, 脚本中二次check服务状态, 防止上报错误状态信息.\n",
    "    \n",
    "4. (已完成)短信上报功能\n",
    "\n",
    "    - TODO: 短信内容大小有限制,多个节点同时上报服务异常, 短信发不出去"
   ]
  },
  {
   "cell_type": "code",
   "execution_count": 279,
   "metadata": {
    "ExecuteTime": {
     "end_time": "2020-10-23T13:06:07.992105Z",
     "start_time": "2020-10-23T13:06:07.931547Z"
    }
   },
   "outputs": [
    {
     "data": {
      "text/plain": [
       "<http.client.HTTPResponse at 0x7f167b752588>"
      ]
     },
     "execution_count": 279,
     "metadata": {},
     "output_type": "execute_result"
    }
   ],
   "source": [
    "urlopen('http://115.231.168.138:8861?uid=966646&msg=%5B%7B%22phone%22%3A%2215801310416%22%2C%22context%22%3A%22%E3%80%90TalentAI%E6%95%85%E9%9A%9C%E3%80%91116.85.49.135%3Ak123d%2Ck12ai%2Ck12cv%2Ck12ml%2Ck12nlp%2Ck12pyr%2Ck12rl+%3C%E9%AA%8C%E8%AF%81%E7%A0%81%3E+%22%7D%5D&sign=17e0f32a147185ee4e81766f41062a84&srcphone=88191008369646')"
   ]
  },
  {
   "cell_type": "code",
   "execution_count": 213,
   "metadata": {
    "ExecuteTime": {
     "end_time": "2020-10-23T09:10:17.690763Z",
     "start_time": "2020-10-23T09:10:17.683758Z"
    }
   },
   "outputs": [],
   "source": [
    "def consul_query(api):\n",
    "    response = urlopen(f'http://116.85.5.40:8500/{api}')\n",
    "    return json.loads(response.read().decode('utf-8'))"
   ]
  },
  {
   "cell_type": "code",
   "execution_count": 214,
   "metadata": {
    "ExecuteTime": {
     "end_time": "2020-10-23T09:10:18.369570Z",
     "start_time": "2020-10-23T09:10:18.358484Z"
    }
   },
   "outputs": [
    {
     "data": {
      "text/plain": [
       "'10.255.0.202:8300'"
      ]
     },
     "execution_count": 214,
     "metadata": {},
     "output_type": "execute_result"
    }
   ],
   "source": [
    "consul_query('v1/status/leader')"
   ]
  },
  {
   "cell_type": "code",
   "execution_count": 215,
   "metadata": {
    "ExecuteTime": {
     "end_time": "2020-10-23T09:10:21.608604Z",
     "start_time": "2020-10-23T09:10:21.598091Z"
    }
   },
   "outputs": [
    {
     "data": {
      "text/plain": [
       "['10.255.0.202:8300', '10.255.0.58:8300', '10.255.0.201:8300']"
      ]
     },
     "execution_count": 215,
     "metadata": {},
     "output_type": "execute_result"
    }
   ],
   "source": [
    "consul_query('v1/status/peers')"
   ]
  },
  {
   "cell_type": "code",
   "execution_count": 216,
   "metadata": {
    "ExecuteTime": {
     "end_time": "2020-10-23T09:10:26.966026Z",
     "start_time": "2020-10-23T09:10:26.954033Z"
    }
   },
   "outputs": [
    {
     "data": {
      "text/plain": [
       "{'consul': [],\n",
       " 'k123d': ['k12ai'],\n",
       " 'k12ai': ['k12ai', 'restapi'],\n",
       " 'k12cv': ['k12ai'],\n",
       " 'k12ml': ['k12ai'],\n",
       " 'k12nlp': ['k12ai'],\n",
       " 'k12pyr': ['k12ai'],\n",
       " 'k12rl': ['k12ai']}"
      ]
     },
     "execution_count": 216,
     "metadata": {},
     "output_type": "execute_result"
    }
   ],
   "source": [
    "consul_query('v1/catalog/services')"
   ]
  },
  {
   "cell_type": "code",
   "execution_count": 217,
   "metadata": {
    "ExecuteTime": {
     "end_time": "2020-10-23T09:10:34.043394Z",
     "start_time": "2020-10-23T09:10:34.026221Z"
    },
    "scrolled": true
   },
   "outputs": [
    {
     "data": {
      "text/plain": [
       "[{'Name': 'eta',\n",
       "  'Addr': '10.255.0.58',\n",
       "  'Port': 8301,\n",
       "  'Tags': {'acls': '0',\n",
       "   'build': '1.8.4:12b16df3',\n",
       "   'dc': 'k12ai',\n",
       "   'expect': '3',\n",
       "   'ft_fs': '1',\n",
       "   'id': 'c4447963-21a3-b3ef-ea15-a579c713ee60',\n",
       "   'port': '8300',\n",
       "   'raft_vsn': '3',\n",
       "   'role': 'consul',\n",
       "   'segment': '',\n",
       "   'vsn': '2',\n",
       "   'vsn_max': '3',\n",
       "   'vsn_min': '2',\n",
       "   'wan_join_port': '8302'},\n",
       "  'Status': 1,\n",
       "  'ProtocolMin': 1,\n",
       "  'ProtocolMax': 5,\n",
       "  'ProtocolCur': 2,\n",
       "  'DelegateMin': 2,\n",
       "  'DelegateMax': 5,\n",
       "  'DelegateCur': 4},\n",
       " {'Name': 'chi',\n",
       "  'Addr': '10.255.0.202',\n",
       "  'Port': 8301,\n",
       "  'Tags': {'acls': '0',\n",
       "   'build': '1.8.4:12b16df3',\n",
       "   'dc': 'k12ai',\n",
       "   'expect': '3',\n",
       "   'ft_fs': '1',\n",
       "   'id': 'd4a95bc2-9843-b003-301a-08f7998cf507',\n",
       "   'port': '8300',\n",
       "   'raft_vsn': '3',\n",
       "   'role': 'consul',\n",
       "   'segment': '',\n",
       "   'vsn': '2',\n",
       "   'vsn_max': '3',\n",
       "   'vsn_min': '2',\n",
       "   'wan_join_port': '8302'},\n",
       "  'Status': 1,\n",
       "  'ProtocolMin': 1,\n",
       "  'ProtocolMax': 5,\n",
       "  'ProtocolCur': 2,\n",
       "  'DelegateMin': 2,\n",
       "  'DelegateMax': 5,\n",
       "  'DelegateCur': 4},\n",
       " {'Name': 'sigma',\n",
       "  'Addr': '10.255.0.201',\n",
       "  'Port': 8301,\n",
       "  'Tags': {'acls': '0',\n",
       "   'build': '1.8.4:12b16df3',\n",
       "   'dc': 'k12ai',\n",
       "   'expect': '3',\n",
       "   'ft_fs': '1',\n",
       "   'id': '69c5e71a-9bba-3966-010b-0d8e067e0b7e',\n",
       "   'port': '8300',\n",
       "   'raft_vsn': '3',\n",
       "   'role': 'consul',\n",
       "   'segment': '',\n",
       "   'vsn': '2',\n",
       "   'vsn_max': '3',\n",
       "   'vsn_min': '2',\n",
       "   'wan_join_port': '8302'},\n",
       "  'Status': 1,\n",
       "  'ProtocolMin': 1,\n",
       "  'ProtocolMax': 5,\n",
       "  'ProtocolCur': 2,\n",
       "  'DelegateMin': 2,\n",
       "  'DelegateMax': 5,\n",
       "  'DelegateCur': 4}]"
      ]
     },
     "execution_count": 217,
     "metadata": {},
     "output_type": "execute_result"
    }
   ],
   "source": [
    "consul_query('v1/agent/members')"
   ]
  },
  {
   "cell_type": "code",
   "execution_count": 218,
   "metadata": {
    "ExecuteTime": {
     "end_time": "2020-10-23T09:10:39.606641Z",
     "start_time": "2020-10-23T09:10:39.589322Z"
    },
    "scrolled": true
   },
   "outputs": [
    {
     "data": {
      "text/plain": [
       "{'service:k123d': {'Node': 'eta',\n",
       "  'CheckID': 'service:k123d',\n",
       "  'Name': 'TCP on port 8169',\n",
       "  'Status': 'passing',\n",
       "  'Notes': '',\n",
       "  'Output': '',\n",
       "  'ServiceID': 'k123d',\n",
       "  'ServiceName': 'k123d',\n",
       "  'ServiceTags': [],\n",
       "  'Type': 'tcp',\n",
       "  'Definition': {},\n",
       "  'CreateIndex': 0,\n",
       "  'ModifyIndex': 0},\n",
       " 'service:k12ai': {'Node': 'eta',\n",
       "  'CheckID': 'service:k12ai',\n",
       "  'Name': 'HTTP on port 8119',\n",
       "  'Status': 'passing',\n",
       "  'Notes': '',\n",
       "  'Output': '',\n",
       "  'ServiceID': 'k12ai',\n",
       "  'ServiceName': 'k12ai',\n",
       "  'ServiceTags': [],\n",
       "  'Type': 'http',\n",
       "  'Definition': {},\n",
       "  'CreateIndex': 0,\n",
       "  'ModifyIndex': 0},\n",
       " 'service:k12cv': {'Node': 'eta',\n",
       "  'CheckID': 'service:k12cv',\n",
       "  'Name': 'TCP on port 8139',\n",
       "  'Status': 'passing',\n",
       "  'Notes': '',\n",
       "  'Output': '',\n",
       "  'ServiceID': 'k12cv',\n",
       "  'ServiceName': 'k12cv',\n",
       "  'ServiceTags': [],\n",
       "  'Type': 'tcp',\n",
       "  'Definition': {},\n",
       "  'CreateIndex': 0,\n",
       "  'ModifyIndex': 0},\n",
       " 'service:k12ml': {'Node': 'eta',\n",
       "  'CheckID': 'service:k12ml',\n",
       "  'Name': 'TCP on port 8129',\n",
       "  'Status': 'passing',\n",
       "  'Notes': '',\n",
       "  'Output': '',\n",
       "  'ServiceID': 'k12ml',\n",
       "  'ServiceName': 'k12ml',\n",
       "  'ServiceTags': [],\n",
       "  'Type': 'tcp',\n",
       "  'Definition': {},\n",
       "  'CreateIndex': 0,\n",
       "  'ModifyIndex': 0},\n",
       " 'service:k12nlp': {'Node': 'eta',\n",
       "  'CheckID': 'service:k12nlp',\n",
       "  'Name': 'TCP on port 8149',\n",
       "  'Status': 'passing',\n",
       "  'Notes': '',\n",
       "  'Output': '',\n",
       "  'ServiceID': 'k12nlp',\n",
       "  'ServiceName': 'k12nlp',\n",
       "  'ServiceTags': [],\n",
       "  'Type': 'tcp',\n",
       "  'Definition': {},\n",
       "  'CreateIndex': 0,\n",
       "  'ModifyIndex': 0},\n",
       " 'service:k12pyr': {'Node': 'eta',\n",
       "  'CheckID': 'service:k12pyr',\n",
       "  'Name': 'TCP on port 8179',\n",
       "  'Status': 'passing',\n",
       "  'Notes': '',\n",
       "  'Output': '',\n",
       "  'ServiceID': 'k12pyr',\n",
       "  'ServiceName': 'k12pyr',\n",
       "  'ServiceTags': [],\n",
       "  'Type': 'tcp',\n",
       "  'Definition': {},\n",
       "  'CreateIndex': 0,\n",
       "  'ModifyIndex': 0},\n",
       " 'service:k12rl': {'Node': 'eta',\n",
       "  'CheckID': 'service:k12rl',\n",
       "  'Name': 'TCP on port 8159',\n",
       "  'Status': 'passing',\n",
       "  'Notes': '',\n",
       "  'Output': '',\n",
       "  'ServiceID': 'k12rl',\n",
       "  'ServiceName': 'k12rl',\n",
       "  'ServiceTags': [],\n",
       "  'Type': 'tcp',\n",
       "  'Definition': {},\n",
       "  'CreateIndex': 0,\n",
       "  'ModifyIndex': 0}}"
      ]
     },
     "execution_count": 218,
     "metadata": {},
     "output_type": "execute_result"
    }
   ],
   "source": [
    "consul_query('v1/agent/checks')"
   ]
  },
  {
   "cell_type": "code",
   "execution_count": 233,
   "metadata": {
    "ExecuteTime": {
     "end_time": "2020-10-23T11:06:08.289992Z",
     "start_time": "2020-10-23T11:06:08.277134Z"
    }
   },
   "outputs": [
    {
     "data": {
      "text/plain": [
       "{'ID': '8119',\n",
       " 'Service': 'k12ai',\n",
       " 'Tags': [],\n",
       " 'Meta': {},\n",
       " 'Port': 8119,\n",
       " 'Address': 'localhost',\n",
       " 'Weights': {'Passing': 1, 'Warning': 1},\n",
       " 'EnableTagOverride': False,\n",
       " 'ContentHash': '6b171863f9a38a58'}"
      ]
     },
     "execution_count": 233,
     "metadata": {},
     "output_type": "execute_result"
    }
   ],
   "source": [
    "consul_query('v1/agent/service/8119')"
   ]
  }
 ],
 "metadata": {
  "kernelspec": {
   "display_name": "Python 3",
   "language": "python",
   "name": "python3"
  },
  "language_info": {
   "codemirror_mode": {
    "name": "ipython",
    "version": 3
   },
   "file_extension": ".py",
   "mimetype": "text/x-python",
   "name": "python",
   "nbconvert_exporter": "python",
   "pygments_lexer": "ipython3",
   "version": "3.6.9"
  },
  "toc": {
   "base_numbering": 1,
   "nav_menu": {},
   "number_sections": true,
   "sideBar": true,
   "skip_h1_title": true,
   "title_cell": "",
   "title_sidebar": "Contents",
   "toc_cell": false,
   "toc_position": {},
   "toc_section_display": true,
   "toc_window_display": false
  }
 },
 "nbformat": 4,
 "nbformat_minor": 4
}
