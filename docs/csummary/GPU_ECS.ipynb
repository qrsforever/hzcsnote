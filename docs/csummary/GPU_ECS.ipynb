{
 "cells": [
  {
   "cell_type": "markdown",
   "id": "9c01149a",
   "metadata": {
    "toc": true
   },
   "source": [
    "<h1>Contents<span class=\"tocSkip\"></span></h1>\n",
    "<div class=\"toc\"><ul class=\"toc-item\"></ul></div>"
   ]
  },
  {
   "cell_type": "code",
   "execution_count": 2,
   "id": "a721b649",
   "metadata": {},
   "outputs": [],
   "source": [
    "%reload_ext watermark\n",
    "%reload_ext autoreload\n",
    "%autoreload 2\n",
    "# %watermark -p numpy,sklearn,pandas\n",
    "# %watermark -p ipywidgets,cv2,PIL,matplotlib,plotly,netron\n",
    "# %watermark -p torch,torchvision,torchaudio\n",
    "# %watermark -p tensorflow,tensorboard,tflite\n",
    "# %watermark -p onnx,tf2onnx,onnxruntime,tensorrt,tvm\n",
    "# %matplotlib inline\n",
    "# %config InlineBackend.figure_format='retina'\n",
    "%config IPCompleter.use_jedi = False\n",
    "\n",
    "# from IPython.display import display, Markdown, HTML, IFrame, Image, Javascript\n",
    "# from IPython.core.magic import register_line_cell_magic, register_line_magic, register_cell_magic\n",
    "# display(HTML('<style>.container { width:%d%% !important; }</style>' % 90))\n",
    "\n",
    "import sys, os, io, logging, time, random, math\n",
    "import json, base64, requests, shutil\n",
    "import argparse, shlex, signal\n",
    "import numpy as np\n",
    "\n",
    "argparse.ArgumentParser.exit = lambda *arg, **kwargs: _IGNORE_\n",
    "\n",
    "def _IMPORT(x):\n",
    "    try:\n",
    "        x = x.strip()\n",
    "        if x[0] == '/' or x[0:2] == './':\n",
    "            with open(x) as fr:\n",
    "                x = fr.read()\n",
    "        elif 'github' in x or 'gitee' in x:\n",
    "            if x.startswith('import '):\n",
    "                x = x[7:]\n",
    "            if x.startswith('https://'):\n",
    "                x = x[8:]\n",
    "            if not x.endswith('.py'):\n",
    "                x = x + '.py'\n",
    "            x = x.replace('blob/main/', '').replace('blob/master/', '')\n",
    "            if x.startswith('raw.githubusercontent.com'):\n",
    "                uri = 'https://' + x\n",
    "                x = requests.get(uri)\n",
    "                if x.status_code == 200:\n",
    "                    x = x.text\n",
    "            elif x.startswith('github.com'):\n",
    "                uri = x.replace('github.com', 'raw.githubusercontent.com')\n",
    "                mod = uri.split('/')\n",
    "                for s in ['main', 'master']:\n",
    "                    uri = 'https://' + '/'.join(mod[:3]) + s + '/'.join(mod[-3:])\n",
    "                    x = requests.get(uri)\n",
    "                    if x.status_code == 200:\n",
    "                        x = x.text\n",
    "                        break\n",
    "            elif x.startswith('gitee.com'):\n",
    "                mod = x.split('/')\n",
    "                for s in ['/raw/main/', '/raw/master/']:\n",
    "                    uri = 'https://' + '/'.join(mod[:3]) + s + '/'.join(mod[3:])\n",
    "                    x = requests.get(uri)\n",
    "                    if x.status_code == 200:\n",
    "                        x = x.text\n",
    "                        break\n",
    "        exec(x, globals())\n",
    "    except:\n",
    "        pass\n",
    "\n",
    "def _DIR(x, dumps=True, ret=True):\n",
    "    attrs = sorted([y for y in dir(x) if not y.startswith('_')])\n",
    "    result = '%s: %s' % (str(type(x))[8:-2], json.dumps(attrs) if dumps else attrs)\n",
    "    if ret:\n",
    "        return result\n",
    "    print(result)\n"
   ]
  },
  {
   "cell_type": "code",
   "execution_count": 3,
   "id": "5f117e4b",
   "metadata": {},
   "outputs": [],
   "source": [
    "def show_table(headers, data, width=900):\n",
    "    from IPython.display import Markdown\n",
    "    ncols = len(headers)\n",
    "    width = int(width / ncols)\n",
    "    lralign = []\n",
    "    caption = []\n",
    "    for item in headers:\n",
    "        astr = ''\n",
    "        if item[0] == ':':\n",
    "            astr = ':'\n",
    "            item = item[1:]\n",
    "        astr += '---'\n",
    "        if item[-1] == ':':\n",
    "            astr += ':'\n",
    "            item = item[:-1]\n",
    "        lralign.append(astr)\n",
    "        caption.append(item)\n",
    "    captionstr = '|'.join(caption) + chr(10)\n",
    "    lralignstr = '|'.join(lralign) + chr(10)\n",
    "    imgholdstr = '|'.join(['<img width=%d/>' % width] * ncols) + chr(10)\n",
    "    table = captionstr + lralignstr + imgholdstr\n",
    "    is_dict = isinstance(data[0], dict)\n",
    "    for row in data:\n",
    "        if is_dict:\n",
    "            table += '|'.join([f'{row[c]}' for c in caption]) + chr(10)\n",
    "        else:\n",
    "            table += '|'.join([f'{col}' for col in row]) + chr(10)\n",
    "    return Markdown(table)\n"
   ]
  },
  {
   "cell_type": "code",
   "execution_count": 18,
   "id": "83b28402",
   "metadata": {},
   "outputs": [
    {
     "data": {
      "text/markdown": [
       "厂家|GPU类型|CPU类型|价格(月)\n",
       ":---:|:---:|:---:|:---:\n",
       "<img width=225/>|<img width=225/>|<img width=225/>|<img width=225/>\n",
       "滴滴云|1*P40 显存24G|8*CPU 内存48G|1885\n",
       "阿里云|1*T4 显存16G|8*CPU 内存32G|4032(可打折)\n",
       "阿里云|1*P100 显存16G|4*CPU 内存30G|3681\n",
       "腾讯云|1*T4 显存16G|8*CPU 内存32G|2200 ~ 2500\n",
       "华为云|1*T4 显存16G|4*CPU 内存16G|3036\n",
       "华为云|1*T4 显存16G|8*CPU 内存32G|3514\n"
      ],
      "text/plain": [
       "<IPython.core.display.Markdown object>"
      ]
     },
     "execution_count": 18,
     "metadata": {},
     "output_type": "execute_result"
    }
   ],
   "source": [
    "headers = [\":厂家:\", \":GPU类型:\", \":CPU类型:\", \":价格(月):\"]\n",
    "data = [\n",
    "    [\"滴滴云\", \"1*P40 显存24G\", \"8*CPU 内存48G\", \"1885\"],\n",
    "    [\"阿里云\", \"1*T4 显存16G\", \"8*CPU 内存32G\", \"4032(可打折)\"],\n",
    "    [\"阿里云\", \"1*P100 显存16G\", \"4*CPU 内存30G\", \"3681\"],\n",
    "    [\"腾讯云\", \"1*T4 显存16G\", \"8*CPU 内存32G\", \"2200 ~ 2500\"],\n",
    "    [\"华为云\", \"1*T4 显存16G\", \"4*CPU 内存16G\", \"3036\"],\n",
    "    [\"华为云\", \"1*T4 显存16G\", \"8*CPU 内存32G\", \"3514\"]\n",
    "]\n",
    "\n",
    "show_table(headers, data, width=900)"
   ]
  }
 ],
 "metadata": {
  "hide_input": false,
  "kernelspec": {
   "display_name": "Python 3",
   "language": "python",
   "name": "python3"
  },
  "language_info": {
   "codemirror_mode": {
    "name": "ipython",
    "version": 3
   },
   "file_extension": ".py",
   "mimetype": "text/x-python",
   "name": "python",
   "nbconvert_exporter": "python",
   "pygments_lexer": "ipython3",
   "version": "3.6.9"
  },
  "toc": {
   "base_numbering": 1,
   "nav_menu": {},
   "number_sections": true,
   "sideBar": false,
   "skip_h1_title": true,
   "title_cell": "Contents",
   "title_sidebar": "Contents",
   "toc_cell": true,
   "toc_position": {},
   "toc_section_display": false,
   "toc_window_display": true
  }
 },
 "nbformat": 4,
 "nbformat_minor": 5
}
