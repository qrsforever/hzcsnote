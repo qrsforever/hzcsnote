{
 "cells": [
  {
   "cell_type": "code",
   "execution_count": 1,
   "metadata": {
    "ExecuteTime": {
     "end_time": "2020-08-25T14:52:28.981897Z",
     "start_time": "2020-08-25T14:52:28.951846Z"
    }
   },
   "outputs": [],
   "source": [
    "%reload_ext autoreload\n",
    "%autoreload 2"
   ]
  },
  {
   "cell_type": "markdown",
   "metadata": {
    "ExecuteTime": {
     "end_time": "2020-08-24T10:18:26.275055Z",
     "start_time": "2020-08-24T10:18:26.232443Z"
    }
   },
   "source": [
    "## 内容约定\n",
    "\n",
    "- _所有提示错误,需要带上该层的名字, 如:Conv2d_abcdef_\n",
    "\n",
    "- ~~所有层的shape最后要把第一维度设置为batch_size的值, 如(3, 28, 28)->(32, 3, 28, 28), 其中32为batch_size的值~~\n",
    "\n",
    "- _当参数配置修改了batch_size, input_size时, 拖拽的模型需要重新计算更新shape值_"
   ]
  },
  {
   "cell_type": "markdown",
   "metadata": {},
   "source": [
    "## 前端任务\n",
    "\n",
    "**功能/其他**\n",
    "\n",
    "1. [x] 根据参数`batch_size, input_size, num_class`属性, 对相关层的参数做默认配置(如:Input层和Output层)\n",
    "\n",
    "\n",
    "**删除/隐藏**\n",
    "\n",
    "1. [ ] <font color='Green'><strong>有修改</strong></font> [删除Loss层 ~~和 BaseFunc层~~](#del_loss)\n",
    "- [ ] <font color='Blue'><strong>有修改</strong></font> [隐藏或者注释掉Conv层的**ConvTransposexx**所有子类型](#del_devconv)\n",
    "- [ ] [隐藏或者注释掉Vulkan层的Reshape子类型](#del_reshape)\n",
    "- [ ] **有修改** [删除Pooling层属性中的return_indices和**dilation**](#del_pool_attrs)\n",
    "- [x] [删除Normalize层属性中的eps](#del_norm_attrs)\n",
    "- [x] [只读处理Vukan子类Flatten层属性中的start_dim和end_dim](#del_flatten_attrs)\n",
    "\n",
    "\n",
    "**错误提示/形状计算**\n",
    "\n",
    "为了减少错误提示, 前端可以封装属性控件, 如: int控件,float控件, 每个控件有值域范围, 保证用户输入的值不会超出范围.\n",
    "\n",
    "1. [x] [Input](#input_layer)\n",
    "- [x] [Output](#output_layer)\n",
    "- [ ] [Convolution](#conv_layer)\n",
    "- [ ] <font color='Green'><strong>新添加</strong></font> [BaseFunc.Add](#add_layer)\n",
    "- [ ] <font color='Green'><strong>新添加</strong></font> [BaseFunc.Cat](#cat_layer)\n",
    "- [ ] **新添加** [Padding](#padding_layer)\n",
    "- [ ] **新添加** [Pooling](#pooling_layer)\n",
    "- [ ] **新添加** [Activation](#act_layer)\n",
    "- [ ] **新添加** [Normalize](#norm_layer)\n",
    "- [ ] **新添加** [Vulkan.Flatten](#flatten_layer)\n",
    "- [ ] **新添加** [Linear](#linear_layer)\n",
    "- [ ] **新添加** [Dropout](#dropout_layer)\n",
    "\n",
    "除了参考该文档, 还可以查看原go-js版本实现[layernode.js](/edit/k12libs/www/js/cauchy/layernode.js)\n",
    "\n",
    "\n",
    "**体验/问题单**\n",
    "\n",
    "1. [ ] 属性设置后直接点击下一步, 属性值实际上没有改变. (属性设置触发事件问题)\n",
    "2. [ ] BaseFun.Add层给的参数不对"
   ]
  },
  {
   "cell_type": "markdown",
   "metadata": {},
   "source": [
    "<span id=\"del_loss\"/>\n",
    "\n",
    "### 删除Loss层\n",
    "\n",
    "1. Loss的配置不需要放到模型拖拽画布中, 直接放到参数拖拽配置里\n",
    "\n",
    "![](/notebooks/assets/layers/delete-1.png)\n",
    "\n",
    "<span id=\"del_devconv\"/>\n",
    "\n",
    "### 隐藏或者注释掉Conv层的ConvTranspose2d子类型\n",
    "\n",
    "对于简单的分类模型, 暂时用不到反卷积(ConvTranspose2d), 但后续如果添加生成对抗网络可能需要\n",
    "\n",
    "![](/notebooks/assets/layers/delete-2.png)\n",
    "\n",
    "\n",
    "<span id=\"del_reshape\"/>\n",
    "\n",
    "### 隐藏或者注释掉Vulkan层的Reshape子类型\n",
    "\n",
    "直接使用flatten代替\n",
    "\n",
    "![](/notebooks/assets/layers/delete-6.png)\n",
    "\n",
    "\n",
    "<span id=\"del_pool_attrs\"/>\n",
    "\n",
    "### 删除Pooling层属性中的return_indices和dilation\n",
    "\n",
    "![](/notebooks/assets/layers/delete-3.png)\n",
    "\n",
    "\n",
    "<span id=\"del_norm_attrs\"/>\n",
    "\n",
    "### 删除Normalize层属性中的eps\n",
    "\n",
    "eps只是为了防止除零操作, 对用户没有学习意义, 暂做删除操作\n",
    "\n",
    "![](/notebooks/assets/layers/delete-4.png)\n",
    "\n",
    "<span id=\"del_flatten_attrs\"/>\n",
    "\n",
    "### 只读处理Vukan子类Flatten层属性中的start_dim和end_dim \n",
    "\n",
    "flatten目的就是要把多维数据拉伸到一维空间, start_dim和end_dim是必要属性但是不允许修改. (只读处理)\n",
    "\n",
    "![](/notebooks/assets/layers/delete-5.png)"
   ]
  },
  {
   "cell_type": "markdown",
   "metadata": {},
   "source": [
    "<span id=\"input_layer\"/>\n",
    "\n",
    "### Input层\n",
    "\n",
    "作为模型的第一个层(必须存在, 否则提示\"**模型非法,缺少输入层**\"), 属性in_features完全由参数拖拽配置中的input_size决定, 同样该层的shape大小也是固定的(batch_size, 3, input_size.width, input_size.height), 如下:\n",
    "![](/notebooks/assets/layers/input_shape.png)\n",
    "\n",
    "上图对应的参数配置(**@冬至**):\n",
    "\n",
    "> ```json\n",
    "> {\n",
    ">     \"train.batch_size\": 32,\n",
    ">     \"train.data_transformer.input_size\": [28, 28]\n",
    "> }\n",
    "> ```\n",
    "\n",
    "-----------\n",
    "\n",
    "#### 参数\n",
    "    \n",
    "属性 | 类型 | 值域 | 描述\n",
    ":---:|:---:|:---:|:----\n",
    "<img width=150/> | <img width=100/> | <img width=200/> | <img width=450/>\n",
    "in_features | `[int, int, int]` | `[3, width, height]` | 参数必须包含三个值; 非法时提示\"in_features参数错误\" <br>[0]: 通道数,一般固定位3; 非法时提示\"in_features参数错误\" <br> [1]: 用户设置的图片input_size的width; 非法时提示\"in_features参数错误\"<br> [2]: 用户设置的图片input_size的height; 非法时提示\"in_features参数错误\"\n",
    "\n",
    "\n",
    "Input层`in_features`可以设置成**只读**, 其值为`(3, input_size.width, input_size.height)`, 从而减少用户输入错误.\n",
    "\n",
    "\n",
    "------------\n",
    "\n",
    "\n",
    "#### 形状\n",
    "\n",
    "输入形状: 无\n",
    "\n",
    "输出形状: (B, C, W, H) // (batch_size:批量大小, channel:通道数3, width:输入宽度, height:输出宽度) \n",
    "\n",
    "计算方式:\n",
    "\n",
    "> ```js\n",
    "> shape = {b: x, c: this.in_features[0], w: this.in_features[1], h: this.in_features[2]}\n",
    "> ```\n",
    "\n",
    "------------\n",
    "\n",
    "### 实例\n",
    "\n",
    "![Input Node](/notebooks/assets/layers/input_layer.png)"
   ]
  },
  {
   "cell_type": "markdown",
   "metadata": {},
   "source": [
    "<span id=\"output_layer\"/>\n",
    "\n",
    "### Output层\n",
    "\n",
    "作为模型拖拽的最后一层, 只有一个输入层(一个箭头指向它), 不允许有多个箭头指向该层, 否则提示\"**输出层连线错误!**\", 属性out_features的值必须等于(pre)输入层shape的最后一维度的值并且等于分类个数(num_classes), out_features可以做成不允许修改(**只读**), 如下图:\n",
    "\n",
    "![](/notebooks/assets/layers/output_classes.png)\n",
    "\n",
    "上图对应的参数配置(**@冬至**):\n",
    "\n",
    "> ```json\n",
    "> {\n",
    ">     \"data.num_classes\": 10\n",
    "> }\n",
    "> ```\n",
    "\n",
    "----------\n",
    "\n",
    "#### 参数\n",
    "\n",
    "属性 | 类型 | 值域 | 描述\n",
    ":---:|:---:|:---:|:----\n",
    "<img width=150/> | <img width=100/> | <img width=200/> | <img width=450/>\n",
    "out_features | int | $prelayer.shape.h$ | 其值应该等于分类的数目, 并等于前一个层输入shape的最后一维度的值 (实际上这个层没有意义, 只用来作为显示)\n",
    "\n",
    "----------\n",
    "\n",
    "#### 形状\n",
    "\n",
    "输入形状: 任意\n",
    "\n",
    "输出形状: 等于输入形状\n",
    "\n",
    "形状计算:\n",
    "\n",
    "> ```js\n",
    ">     let b = prelayer.shape.b; // 前一层(输入层)shape输出的批量大小(batch_size)\n",
    ">     let c = prelayer.shape.c; // 前一层(输入层)shape输出的通道(channel), 可能没有为空\n",
    ">     let w = prelayer.shape.w; // 前一层(输入层)shape输出的宽(width), 可能没有为空\n",
    ">     let h = prelayer.shape.h; // 前一层(输入层)shape输出的高(height), 必须有, 表示shape维度的最后一维度\n",
    ">     shape = {b: b, c:c, w:w, h:h}\n",
    "> ```\n",
    "\n",
    "----------------\n",
    "\n",
    "#### 实例\n",
    "\n",
    "![Output Node](/notebooks/assets/layers/output_layer.png)"
   ]
  },
  {
   "cell_type": "markdown",
   "metadata": {},
   "source": [
    "<span id=\"conv_layer\"/>\n",
    "\n",
    "\n",
    "### Convolution层 (2D)\n",
    "\n",
    "卷积的属性值域合法值比较难判断, 为了简单某些值域的使用$\\infty$表示, 从而简化一些判断逻辑. **padding的值域除外**\n",
    "\n",
    "-------------\n",
    "\n",
    "#### 参数\n",
    "\n",
    "属性 | 类型 | 值域 | 描述\n",
    ":---:|:---:|:---:|:------\n",
    "<img width=150/> | <img width=100/> | <img width=200/> | <img width=450/>\n",
    "in_channels | int | $prelayer.shape.c$ | 非法时提示\"参数in_channels应为大于0的整数, 且值为上一层的shape输出中的shape.c\" <br> 为了防止用户输入错误,可以改为只读形式,值为前一层的shape中channel\n",
    "out_channels |  int | $[1, +\\infty)$ | 非法时提示\"参数out_channels应为大于0的整数\"\n",
    "kernel_size | int | $[3, +\\infty)$ | 非法时提示\"参数kernel_size应为大于0的整数 (推荐3,5,7等最大公约数为1的数)\"\n",
    "stride | int | $[1, +\\infty)$ | 非法时提示\"参数stride应为大于0的整数\"\n",
    "padding | int | $[0, x]$ | 非法时提示\"参数padding应为大于等于0的整数\"\n",
    "dilation | int | $[1, \\infty)$ | 非法时提示\"参数dilation应为大于0的整数\"\n",
    "groups | int | $[1, \\infty)$ | 非法时提示\"参数groups为大于0的整数\"\n",
    "bias | bool | True/False |\n",
    "\n",
    "\n",
    "**padding不应大于`x = {kernel_size + (kernel_size - 1)*(dilation - 1)} / 2`**否则提示\"**参数padding值非法**\"\n",
    "\n",
    "-------\n",
    "\n",
    "#### 形状\n",
    "\n",
    "输入形状: (B, $C_{in}$, W, H)\n",
    "\n",
    "输出形状: (B, $C_{out}$, $W_{out}$, $H_{out}$)\n",
    "\n",
    "形状计算:\n",
    "\n",
    "> ```js\n",
    ">     let b = prelayer.shape.b; // 前一层shape输出的批量大小(batch_size)\n",
    ">     let w = prelayer.shape.w; // 前一层shape输出的宽(width)\n",
    ">     let h = prelayer.shape.h; // 前一层shape输出的高(height)\n",
    ">     //考虑到dilation大于1的情况\n",
    ">     let k = eval(`${this.kernel_size} + (${this.kernel_size} - 1) * (${this.dilation} - 1)`); \n",
    ">\n",
    ">     wout = Math.floor(eval(`(${w} + 2 * ${this.padding} - ${k})/${this.stride}`)) + 1;\n",
    ">     hout = Math.floor(eval(`(${h} + 2 * ${this.padding} - ${k})/${this.stride}`)) + 1;\n",
    ">     \n",
    ">     shape = {b: b, c: this.out_channels, w: wout, h: hout}\n",
    "> ```\n",
    "\n",
    "-------\n",
    "\n",
    "#### 实例\n",
    "\n",
    "当dilation == 1时: `k = kernel_size`\n",
    "\n",
    "![Convoluation Node](/notebooks/assets/layers/convolution_layer.png)\n",
    "\n",
    "当dilation > 1时, `k = kernel_size + (kernel_size -1)*(dilation -1)`\n",
    "\n",
    "$$\n",
    "\\begin{align*}\n",
    "shape.w &= (preinput.w + 2*padding - k) / stride + 1 \\\\\n",
    "shape.h &= (preinput.h + 2*padding - k) / stride + 1\n",
    "\\end{align*}\n",
    "$$\n"
   ]
  },
  {
   "cell_type": "markdown",
   "metadata": {},
   "source": [
    "<span id=\"padding_layer\"/>\n",
    "\n",
    "### Padding层(只考虑中心对称)\n",
    "\n",
    "`零填充, 常数填充, 镜像填充, 重复填充`几种子类型方式可按一种方式处理, 只考虑对称方式的填充(top = bottom = left = right)\n",
    "\n",
    "---------------\n",
    "\n",
    "#### 参数\n",
    "\n",
    "属性 | 类型 | 值域 | 描述\n",
    ":---:|:---:|:---:|:------\n",
    "<img width=150/> | <img width=100/> | <img width=200/> | <img width=450/>\n",
    "padding | int | $[0, +\\infty]$ | 意义为(padding_left, padding_right, padding_top, padding_bottim)\n",
    "value | float | $[0, +\\infty]$ | 常数填充时, 需要填充的值\n",
    "\n",
    "--------------\n",
    "\n",
    "#### 形状\n",
    "\n",
    "输入形状: (B, C, W, H)\n",
    "\n",
    "输出形状: (B, C, $W_{out}$, $H_{out}$)\n",
    "\n",
    "形状计算:\n",
    "\n",
    "> ```js\n",
    ">     let b = prelayer.shape.b;\n",
    ">     let w = prelayer.shape.w + 2*padding\n",
    ">     let h = prelayer.shape.h + 2*padding\n",
    ">     let c = prelayer.shape.c\n",
    ">     \n",
    ">     shape = {b:b, c: c, w: w, h: h}\n",
    "> ```\n",
    "\n",
    "--------------\n",
    "\n",
    "#### 实例\n",
    "\n",
    "![Padding Node](/notebooks/assets/layers/padding_layer.png)"
   ]
  },
  {
   "cell_type": "markdown",
   "metadata": {},
   "source": [
    "<span id=\"pooling_layer\"/>\n",
    "\n",
    "### Pooling层\n",
    "\n",
    "#### 参数\n",
    "\n",
    "属性 | 类型 | 值域 | 描述\n",
    ":---:|:---:|:---:|:------\n",
    "<img width=150/> | <img width=100/> | <img width=200/> | <img width=450/>\n",
    "kernel_size | int | $[3, +\\infty]$ | 非法时提示\"参数kernel_size应为大于0的整数 (推荐3,5,7等最大公约数为1的数)\"\n",
    "stride | int | $[1, +\\infty]$ | 非法时提示\"参数stride应为大于0的整数\"\n",
    "padding | int | $[0, +\\infty]$ | 非法时提示\"参数padding应为大于等于0的整数\"\n",
    "output_size | int | $[1, +\\infty]$ | (only AdaptiveXXXPool)自动适配池化的输出大小, 非法时提示\"参数output_size应为大于0的整数\"\n",
    "ceil_mode | bool | True/False | True: 向上取整; False: 向下取整\n",
    "~~dilation~~ | ~~int~~ | ~~$[1, +\\infty]$~~ | ~~非法时提示\"参数dilation应为大于0的整数\"~~\n",
    "~~return_indices~~ | ~~bool~~ | ~~True/False~~ | ~~(only MaxPool)记录池化像素索引, 用来反池化, **可以先忽略/隐藏该参数**~~\n",
    "~~count_include_pad~~ | ~~bool~~ | ~~True/False~~ | ~~(only AvgPool)填充值是否参与计算, **可以先忽略/隐藏该参数**~~\n",
    "\n",
    "**output_size参数目前只需考虑是W==H的情况, W!=H暂不考虑, 所以output_size是个整型即可, W=H=output_size**\n",
    "\n",
    "--------------\n",
    "\n",
    "#### 形状\n",
    "\n",
    "输入形状: (B, C, W, H)\n",
    "\n",
    "输出形状: (B, C, $W_{out}$, $H_{out}$)\n",
    "\n",
    "形状计算:\n",
    "\n",
    "> ```js\n",
    ">     let b = prelayer.shape.b;   // 前一层shape的批量\n",
    ">     let c = prelayer.shape.c;   // 前一层shape的通道\n",
    ">     let w = prelayer.shape.w;   // 前一层shape的宽度\n",
    ">     let h = prelayer.shape.h;   // 前一层shape的高度\n",
    ">  \n",
    ">     if (subtype.startsWith('Adaptive')) {\n",
    ">         let W = output_size;\n",
    ">         let H = output_size;\n",
    ">     } else {\n",
    ">         if (ceil_mode == \"True\") {\n",
    ">             func = Math.ceil;     // 上取整方法\n",
    ">         } else { \n",
    ">             func = Match.floor;   // 下取整方法\n",
    ">         }\n",
    "> \n",
    ">         // 删除dilation let K = eval(`${kernel_size} + (${kernel_size} - 1) * (${dilation} - 1)`);\n",
    ">         let W = func(eval(`(${w} + 2 * ${padding} - ${kernel_size})/${stride}`)) + 1;\n",
    ">         let H = func(eval(`(${h} + 2 * ${padding} - ${kernel_size})/${stride}`)) + 1;\n",
    ">     }\n",
    ">     shape = {b: b, c: c, w: W, h: H};\n",
    "> ```\n",
    "\n",
    "--------------\n",
    "\n",
    "#### 实例\n",
    "\n",
    "![Pooling Node](/notebooks/assets/layers/pooling_layer.png)"
   ]
  },
  {
   "cell_type": "markdown",
   "metadata": {},
   "source": [
    "<span id=\"act_layer\"/>\n",
    "\n",
    "### Activation层\n",
    "\n",
    "该层不会对shape做变化\n",
    "\n",
    "---------\n",
    "\n",
    "#### 参数\n",
    "\n",
    "属性 | 类型 | 值域 | 描述\n",
    ":---:|:---:|:---:|:------\n",
    "<img width=150/> | <img width=100/> | <img width=200/> | <img width=450/>\n",
    "inplace | bool | True/False\n",
    "\n",
    "---------\n",
    "\n",
    "#### 形状\n",
    "\n",
    "输入形状: 任意\n",
    "\n",
    "输出形状: 任意\n",
    "\n",
    "形状计算:\n",
    "\n",
    "> ```js    \n",
    ">     let b = prelayer.shape.b;\n",
    ">     let c = prelayer.shape.c;\n",
    ">     let w = prelayer.shape.w;\n",
    ">     let h = prelayer.shape.h;\n",
    ">     \n",
    ">     shape = {b: b, c: c, w: w, h: h}\n",
    "> ```\n",
    "\n",
    "---------\n",
    "\n",
    "#### 实例\n",
    "\n",
    "![Activation Node](/notebooks/assets/layers/activation_layer.png)"
   ]
  },
  {
   "cell_type": "markdown",
   "metadata": {},
   "source": [
    "<span id=\"norm_layer\"/>\n",
    "\n",
    "### Normalize层\n",
    "\n",
    "$$\n",
    "y = \\frac{x - \\mathrm{E}[x]}{ \\sqrt{\\mathrm{Var}[x] + \\epsilon}} * \\gamma + \\beta\n",
    "$$\n",
    "\n",
    "------------------\n",
    "\n",
    "#### 参数\n",
    "\n",
    "属性 | 类型 | 值域 | 描述\n",
    ":---:|:---:|:---:|:------\n",
    "<img width=150/> | <img width=100/> | <img width=200/> | <img width=450/>\n",
    "num_features | int | prelayer.shape.c | 与上一层的shape.c相等, 若非法提示\"num_features特征数目不对\"; **推荐设置成只读**\n",
    "~~eps~~ | float | $(0, 1)$ | 防止分母为0, 所以该属性**推荐隐藏** \n",
    "momentum | float | $(0, 1)$ | 动态均值和动态方差所使用的动量因子(新batch和全局的取舍$\\hat{x}_\\text{new} = (1 - \\text{momentum}) \\times \\hat{x} + \\text{momentum} \\times x_t$)\n",
    "affine | bool | True/False | True: 对结果缩放($\\gamma$)和平移($\\beta$), 均可在反向传播中学习\n",
    "track_running_stats | bool | Ture/False | True: 启动全局batch统计特性\n",
    "\n",
    "**所有不在值域范围内的参数值均可提示参数非法**\n",
    "\n",
    "------------------\n",
    "\n",
    "#### 形状\n",
    "\n",
    "输入形状: (B, C, W, H)\n",
    "\n",
    "输出形状: (B, C, W, H)\n",
    "\n",
    "形状计算:\n",
    "\n",
    "> ```js\n",
    ">     let b = prelayer.shape.b\n",
    ">     let c = prelayer.shape.c\n",
    ">     let w = prelayer.shape.w\n",
    ">     let h = prelayer.shape.h \n",
    ">     \n",
    ">     shape = {b: b, c: c, w: w, h: h}\n",
    "> ```\n",
    "\n",
    "------------------\n",
    "\n",
    "#### 实例\n",
    "\n",
    "![Normal Node](/notebooks/assets/layers/normalize_layer.png)"
   ]
  },
  {
   "cell_type": "markdown",
   "metadata": {
    "ExecuteTime": {
     "end_time": "2020-08-18T13:40:00.567533Z",
     "start_time": "2020-08-18T13:40:00.517121Z"
    }
   },
   "source": [
    "<span id=\"flatten_layer\"/>\n",
    "\n",
    "### Flatten层\n",
    "\n",
    "将多维数据\"压平\"为1维\n",
    "\n",
    "----------\n",
    "\n",
    "#### 参数\n",
    "\n",
    "属性 | 类型 | 值域 | 描述\n",
    ":---:|:---:|:---:|:------\n",
    "<img width=150/> | <img width=100/> | <img width=200/> | <img width=450/>\n",
    "~~start_dim~~ | int | $[0, shape.length - 1]$ | **默认值, 只读属性**\n",
    "~~end_dim~~ | int | $[-1, shape.length - 1]$ | **默认值, 只读属性**\n",
    "\n",
    "-----------\n",
    "\n",
    "### 形状\n",
    "\n",
    "输入形状: (B, C, W, H)\n",
    "\n",
    "输出形状: (B, C*W*H)\n",
    "\n",
    "形状计算:\n",
    "\n",
    "> ```js\n",
    ">     let b = prelayer.shape.b;\n",
    ">     let c = prelayer.shape.c;\n",
    ">     let w = prelayer.shape.w;\n",
    ">     let h = prelayer.shape.h;\n",
    ">     \n",
    ">     shape = {b: b, c: null, c: null, h: w*h*c}\n",
    "> ```\n",
    "\n",
    "----------\n",
    "\n",
    "#### 实例\n",
    "\n",
    "![Flatten Node](/notebooks/assets/layers/flatten_layer.png)"
   ]
  },
  {
   "cell_type": "markdown",
   "metadata": {
    "ExecuteTime": {
     "end_time": "2020-08-18T14:14:56.733685Z",
     "start_time": "2020-08-18T14:14:56.682952Z"
    }
   },
   "source": [
    "### ~~Reshape层~~\n",
    "\n",
    "**使用flatten层取代**\n",
    "\n",
    "---------------\n",
    "\n",
    "#### 参数\n",
    "\n",
    "属性 | 类型 | 值域 | 描述\n",
    ":---:|:---:|:---:|:------\n",
    "<img width=150/> | <img width=100/> | <img width=100/> | <img width=450/>\n",
    "target_shape | list(int) | len(list) <= 3 | list里所有元素的乘积应该等于上一层shape的w*h*c <br> 非法提示\"target_shape参数非法\" \n",
    "    \n",
    "---------------\n",
    "\n",
    "##### 形状\n",
    "    \n",
    "```js\n",
    "    let b = prelayer.shape.b;\n",
    "    let c = prelayer.shape.c;\n",
    "    let w = prelayer.shape.w;\n",
    "    let h = prelayer.shape.h;\n",
    "\n",
    "    let C = null;\n",
    "    let W = null;\n",
    "    let H = null;\n",
    "    switch(len(target_shape)) {\n",
    "        case 3:\n",
    "            C = target_shape[0];\n",
    "            W = target_shape[1];\n",
    "            H = target_shape[2];\n",
    "            break;\n",
    "        case 2:\n",
    "            W = target_shape[0];\n",
    "            H = target_shape[1];\n",
    "            break;\n",
    "        case 1:\n",
    "            H = target_shape[0];\n",
    "            break;\n",
    "        case *:\n",
    "            // error\n",
    "    }\n",
    "\n",
    "    shape = {b: b, c: C, w: W, h: H}\n",
    "\n",
    "```\n",
    "\n",
    "---------------\n",
    "\n",
    "#### 实例\n",
    "\n",
    "![Reshape Node](/notebooks/assets/layers/reshape_layer.png)"
   ]
  },
  {
   "cell_type": "markdown",
   "metadata": {},
   "source": [
    "<span id=\"linear_layer\"/>\n",
    "\n",
    "### Linear层\n",
    "\n",
    "全连接 \n",
    "\n",
    "-----------\n",
    "\n",
    "#### 参数\n",
    "\n",
    "属性 | 类型 | 值域 | 描述\n",
    ":---:|:---:|:---:|:------\n",
    "<img width=150/> | <img width=100/> | <img width=200/> | <img width=450/>\n",
    "in_features | int | prelayer.shape.h | 值必须为上个层的shape.h, 非法提示\"in_features参数非法\"; **可以设置成只读**\n",
    "out_features | int | $[1, +\\infty]$ |\n",
    "bias | bool | True/False |\n",
    "\n",
    "-----------\n",
    "\n",
    "#### 形状\n",
    "\n",
    "输入形状: (B, H)\n",
    "\n",
    "输出形状: (B, $H_{out}$)\n",
    "\n",
    "计算形状:\n",
    "\n",
    "> ```js\n",
    ">     let b = prelayer.shape.b;\n",
    ">     let h = out_features;\n",
    ">     shape = {b: b, c: null, w:null, h:h}\n",
    "> ```\n",
    "\n",
    "-----------\n",
    "\n",
    "#### 实例\n",
    "\n",
    "![Linear Node](/notebooks/assets/layers/linear_layer.png)"
   ]
  },
  {
   "cell_type": "markdown",
   "metadata": {},
   "source": [
    "<span id=\"dropout_layer\"/>\n",
    "\n",
    "### Dropout层\n",
    "\n",
    "----------\n",
    "\n",
    "#### 参数\n",
    "\n",
    "属性 | 类型 | 值域 | 描述\n",
    ":---:|:---:|:---:|:------\n",
    "<img width=150/> | <img width=100/> | <img width=100/> | <img width=450/>\n",
    "p | float | $(0, 1)$ | 伯努利(0-1)以p几率让神经元失效\n",
    "inplace | bool | True/False | True: 对输入tensor本地修改, 节省内容 **推荐为默认**\n",
    "\n",
    "----------\n",
    "\n",
    "#### 形状\n",
    "\n",
    "输入形状: 任意\n",
    "\n",
    "输出形状: 等于输入\n",
    "\n",
    "----------"
   ]
  },
  {
   "cell_type": "markdown",
   "metadata": {},
   "source": [
    "<span id=\"add_layer\"/>\n",
    "\n",
    "### Add层\n",
    "\n",
    "该层无参数, 只需保证两个被加层的shape相同, 如果不一致, 需要提示错误\"**两个输入层的形状不一致**\"\n",
    "\n",
    "----------\n",
    "\n",
    "#### 形状\n",
    "\n",
    "输入形状: 两个任意(两个input层维度一致,大小一致)\n",
    "\n",
    "输出形状: 输入形状\n",
    "\n",
    "-----------\n",
    "\n",
    "#### 实例\n",
    "\n",
    "![](/notebooks/assets/layers/add_layer.png)"
   ]
  },
  {
   "cell_type": "markdown",
   "metadata": {},
   "source": [
    "<span id=\"cat_layer\"/>\n",
    "\n",
    "### Cat层\n",
    "\n",
    "输入层至少2个, 且它们的shape的维度大小`shape.length`要相同, 如: `pre1.shape.length = pre2.shape.length = pre3.shape.length`, 除了要合并的维度上的值不同,其他维度对应的值必须一致, 如: 在dim=1维度合并 `pre1.shape = (32, x, 28, 28); pre2.shape = (32, y, 28, 28)`\n",
    "\n",
    "-----------\n",
    "\n",
    "#### 参数\n",
    "\n",
    "属性 | 类型 | 值域 | 描述\n",
    ":---:|:---:|:---:|:------\n",
    "<img width=150/> | <img width=100/> | <img width=200/> | <img width=450/>\n",
    "dim | int | $[0, prelayer.shape.length)$ | -1: 表示最后一维度, 输入的层要大于2个, 除了要合并的dim外, 其他维度必须一致, 否则提示\"dim参数错误\"\n",
    "\n",
    "-----------\n",
    "\n",
    "#### 形状\n",
    "\n",
    "输入形状: 多个形如$(B, C, W, H)$, 目标维度值可以不一样, 其他维度值一致\n",
    "\n",
    "输出形状: $(B', C', W', H')$\n",
    "\n",
    "形状计算:\n",
    "\n",
    "> ```js\n",
    ">     //            0  1   2   3\n",
    ">     // dim= 1:  (32, 3, 64, 64), (32, 3, 64, 64) --> (32, 3+3, 64, 64)\n",
    ">     // dim=-1:  (32, 3, 64, 64), (32, 3, 64, 64) --> (32, 3, 64, 64 + 64)\n",
    ">     let num_layer = prelayers.length;\n",
    ">     let len_shape = prelayers[0].shape.length;\n",
    ">     \n",
    ">     let shapes = [];\n",
    ">     for(let i = 0; i < num_layer; ++i){\n",
    ">         let b = parseInt(prelayers[i].shape.b);\n",
    ">         let c = parseInt(prelayers[i].shape.c);\n",
    ">         let w = parseInt(prelayers[i].shape.w);\n",
    ">         let h = parseInt(prelayers[i].shape.h);\n",
    ">         shapes.push([b, c, w, h]);\n",
    ">     }\n",
    ">     \n",
    ">     if (dim == -1) { // 将 -1 转为shape的最后维度索引\n",
    ">         dim = len_shape - 1\n",
    ">     }\n",
    ">     \n",
    ">     for (let i = 1; i < num_layer; ++i) { // 遍历剩余层\n",
    ">         for (let j = 0; j < len_shape; ++j) { // 遍历每层shape的维度\n",
    ">             if (j == dim) { // 合并维度\n",
    ">                 shapes[0][j] = shapes[0][j] + shapes[i][j] \n",
    ">             } else { // 其他维度必须保持一致\n",
    ">                 if (shapes[0][j] != shapes[i][j]) {\n",
    ">                     // 提示错误\n",
    ">                     // TODO\n",
    ">                 }\n",
    ">             }\n",
    ">         }\n",
    ">     }\n",
    ">     shape = {b: shapes[0][0], c: shapes[0][1], w: shape[0][2], h: shape[0][3]}\n",
    "> ```\n",
    "\n",
    "-----------\n",
    "\n",
    "#### 实例\n",
    "\n",
    "![](/notebooks/assets/layers/cat_layer.png)"
   ]
  },
  {
   "cell_type": "markdown",
   "metadata": {},
   "source": [
    "### ~~Loss层~~\n",
    "\n",
    "**删除或者隐藏**"
   ]
  },
  {
   "cell_type": "markdown",
   "metadata": {},
   "source": [
    "# <div align='center'> 拖拽模型 </div>"
   ]
  },
  {
   "cell_type": "code",
   "execution_count": 2,
   "metadata": {
    "ExecuteTime": {
     "end_time": "2020-08-25T14:52:30.997771Z",
     "start_time": "2020-08-25T14:52:29.137844Z"
    }
   },
   "outputs": [
    {
     "data": {
      "text/html": [
       "<style>.container { width:95% !important; }</style>"
      ],
      "text/plain": [
       "<IPython.core.display.HTML object>"
      ]
     },
     "metadata": {},
     "output_type": "display_data"
    },
    {
     "name": "stdout",
     "output_type": "stream",
     "text": [
      " * Serving Flask app \"k12libs.utils.nb_easy\" (lazy loading)\n"
     ]
    },
    {
     "data": {
      "text/html": [
       "\n",
       "        <iframe\n",
       "            width=\"100%\"\n",
       "            height=\"780\"\n",
       "            src=\"http://116.85.5.40:9091/drawnet.html?jfile=simple&flask=http://116.85.5.40:8117/k12ai/notebook/message\"\n",
       "            frameborder=\"0\"\n",
       "            allowfullscreen\n",
       "        ></iframe>\n",
       "        "
      ],
      "text/plain": [
       "<IPython.lib.display.IFrame at 0x7fdd22b09b00>"
      ]
     },
     "execution_count": 2,
     "metadata": {},
     "output_type": "execute_result"
    },
    {
     "name": "stdout",
     "output_type": "stream",
     "text": [
      " * Environment: production\n",
      "\u001b[31m   WARNING: This is a development server. Do not use it in a production deployment.\u001b[0m\n",
      "\u001b[2m   Use a production WSGI server instead.\u001b[0m\n",
      " * Debug mode: off\n"
     ]
    }
   ],
   "source": [
    "from k12libs.utils.nb_easy import k12ai_start_html, W3URL\n",
    "k12ai_start_html(f'{W3URL}/drawnet.html?jfile=simple', height=780, flask=True)"
   ]
  },
  {
   "cell_type": "markdown",
   "metadata": {},
   "source": [
    "## Input/Output Layers"
   ]
  },
  {
   "cell_type": "markdown",
   "metadata": {},
   "source": [
    "###  Input"
   ]
  },
  {
   "cell_type": "markdown",
   "metadata": {},
   "source": [
    "### Output"
   ]
  },
  {
   "cell_type": "markdown",
   "metadata": {},
   "source": [
    "## Core Layers"
   ]
  },
  {
   "cell_type": "markdown",
   "metadata": {},
   "source": [
    "###  Activation"
   ]
  },
  {
   "cell_type": "markdown",
   "metadata": {},
   "source": [
    "###  ActivityRegularization"
   ]
  },
  {
   "cell_type": "markdown",
   "metadata": {},
   "source": [
    "### Dense"
   ]
  },
  {
   "cell_type": "markdown",
   "metadata": {},
   "source": [
    "### Dropout"
   ]
  },
  {
   "cell_type": "markdown",
   "metadata": {},
   "source": [
    "### Flatten"
   ]
  },
  {
   "cell_type": "markdown",
   "metadata": {},
   "source": [
    "### Highway"
   ]
  },
  {
   "cell_type": "markdown",
   "metadata": {},
   "source": [
    "### Lambda"
   ]
  },
  {
   "cell_type": "markdown",
   "metadata": {},
   "source": [
    "### Masking"
   ]
  },
  {
   "cell_type": "markdown",
   "metadata": {},
   "source": [
    "### MaxoutDense"
   ]
  },
  {
   "cell_type": "markdown",
   "metadata": {},
   "source": [
    "### Permute"
   ]
  },
  {
   "cell_type": "markdown",
   "metadata": {},
   "source": [
    "### RepeatVector"
   ]
  },
  {
   "cell_type": "markdown",
   "metadata": {},
   "source": [
    "### Reshape"
   ]
  },
  {
   "cell_type": "markdown",
   "metadata": {},
   "source": [
    "### SpatialDropout1D"
   ]
  },
  {
   "cell_type": "markdown",
   "metadata": {},
   "source": [
    "### SpatialDropout2D"
   ]
  },
  {
   "cell_type": "markdown",
   "metadata": {},
   "source": [
    "### SpatialDropout3D"
   ]
  },
  {
   "cell_type": "markdown",
   "metadata": {},
   "source": [
    "### TimeDistributedDense"
   ]
  },
  {
   "cell_type": "markdown",
   "metadata": {},
   "source": [
    "## Convolutional Layers"
   ]
  },
  {
   "cell_type": "markdown",
   "metadata": {},
   "source": [
    "### AtrousConvolution1D"
   ]
  },
  {
   "cell_type": "markdown",
   "metadata": {},
   "source": [
    "### AtrousConvolution2D"
   ]
  },
  {
   "cell_type": "markdown",
   "metadata": {},
   "source": [
    "### Convolution1D"
   ]
  },
  {
   "cell_type": "markdown",
   "metadata": {},
   "source": [
    "### Convolution2D"
   ]
  },
  {
   "cell_type": "markdown",
   "metadata": {},
   "source": [
    "### Convolution3D"
   ]
  },
  {
   "cell_type": "markdown",
   "metadata": {},
   "source": [
    "### Cropping1D"
   ]
  },
  {
   "cell_type": "markdown",
   "metadata": {},
   "source": [
    "### Cropping2D"
   ]
  },
  {
   "cell_type": "markdown",
   "metadata": {},
   "source": [
    "### Cropping3D"
   ]
  },
  {
   "cell_type": "markdown",
   "metadata": {},
   "source": [
    "### Deconvolution2D"
   ]
  },
  {
   "cell_type": "markdown",
   "metadata": {},
   "source": [
    "### SeparableConvolution2D"
   ]
  },
  {
   "cell_type": "markdown",
   "metadata": {},
   "source": [
    "### UpSampling1D"
   ]
  },
  {
   "cell_type": "markdown",
   "metadata": {},
   "source": [
    "### UpSampling2D"
   ]
  },
  {
   "cell_type": "markdown",
   "metadata": {},
   "source": [
    "### UpSampling3D"
   ]
  },
  {
   "cell_type": "markdown",
   "metadata": {},
   "source": [
    "### ZeroPadding1D"
   ]
  },
  {
   "cell_type": "markdown",
   "metadata": {},
   "source": [
    "### ZeroPadding2D"
   ]
  },
  {
   "cell_type": "markdown",
   "metadata": {},
   "source": [
    "### ZeroPadding3D"
   ]
  },
  {
   "cell_type": "markdown",
   "metadata": {},
   "source": [
    "## Pooling Layers"
   ]
  },
  {
   "cell_type": "markdown",
   "metadata": {
    "ExecuteTime": {
     "end_time": "2020-06-01T12:59:09.462292Z",
     "start_time": "2020-06-01T12:59:09.456412Z"
    }
   },
   "source": [
    "### AvgPooling1D"
   ]
  },
  {
   "cell_type": "markdown",
   "metadata": {
    "ExecuteTime": {
     "end_time": "2020-06-01T12:59:09.462292Z",
     "start_time": "2020-06-01T12:59:09.456412Z"
    }
   },
   "source": [
    "### AvgPooling2D"
   ]
  },
  {
   "cell_type": "markdown",
   "metadata": {
    "ExecuteTime": {
     "end_time": "2020-06-01T12:59:09.462292Z",
     "start_time": "2020-06-01T12:59:09.456412Z"
    }
   },
   "source": [
    "### AvgPooling3D"
   ]
  },
  {
   "cell_type": "markdown",
   "metadata": {
    "ExecuteTime": {
     "end_time": "2020-06-01T12:59:09.462292Z",
     "start_time": "2020-06-01T12:59:09.456412Z"
    }
   },
   "source": [
    "### MaxPooling1D"
   ]
  },
  {
   "cell_type": "markdown",
   "metadata": {
    "ExecuteTime": {
     "end_time": "2020-06-01T12:59:09.462292Z",
     "start_time": "2020-06-01T12:59:09.456412Z"
    }
   },
   "source": [
    "### MaxPooling2D"
   ]
  },
  {
   "cell_type": "markdown",
   "metadata": {
    "ExecuteTime": {
     "end_time": "2020-06-01T12:59:09.462292Z",
     "start_time": "2020-06-01T12:59:09.456412Z"
    }
   },
   "source": [
    "### MaxPooling3D"
   ]
  },
  {
   "cell_type": "markdown",
   "metadata": {
    "ExecuteTime": {
     "end_time": "2020-06-01T12:59:09.462292Z",
     "start_time": "2020-06-01T12:59:09.456412Z"
    }
   },
   "source": [
    "### GlobalAvgPooling1D"
   ]
  },
  {
   "cell_type": "markdown",
   "metadata": {
    "ExecuteTime": {
     "end_time": "2020-06-01T12:59:09.462292Z",
     "start_time": "2020-06-01T12:59:09.456412Z"
    }
   },
   "source": [
    "### GlobalAvgPooling2D"
   ]
  },
  {
   "cell_type": "markdown",
   "metadata": {
    "ExecuteTime": {
     "end_time": "2020-06-01T12:59:09.462292Z",
     "start_time": "2020-06-01T12:59:09.456412Z"
    }
   },
   "source": [
    "### GlobalAvgPooling3D"
   ]
  },
  {
   "cell_type": "markdown",
   "metadata": {
    "ExecuteTime": {
     "end_time": "2020-06-01T12:59:09.462292Z",
     "start_time": "2020-06-01T12:59:09.456412Z"
    }
   },
   "source": [
    "### GlobalMaxPooling1D"
   ]
  },
  {
   "cell_type": "markdown",
   "metadata": {
    "ExecuteTime": {
     "end_time": "2020-06-01T12:59:09.462292Z",
     "start_time": "2020-06-01T12:59:09.456412Z"
    }
   },
   "source": [
    "### GlobalMaxPooling2D"
   ]
  },
  {
   "cell_type": "markdown",
   "metadata": {
    "ExecuteTime": {
     "end_time": "2020-06-01T12:59:09.462292Z",
     "start_time": "2020-06-01T12:59:09.456412Z"
    }
   },
   "source": [
    "### GlobalMaxPooling3D"
   ]
  },
  {
   "cell_type": "markdown",
   "metadata": {},
   "source": [
    "## Local Layers"
   ]
  },
  {
   "cell_type": "markdown",
   "metadata": {},
   "source": [
    "### LocallyConnected1D"
   ]
  },
  {
   "cell_type": "markdown",
   "metadata": {},
   "source": [
    "### LocallyConnected2D"
   ]
  },
  {
   "cell_type": "markdown",
   "metadata": {},
   "source": [
    "## Recurrent Layers"
   ]
  },
  {
   "cell_type": "markdown",
   "metadata": {},
   "source": [
    "### GRU"
   ]
  },
  {
   "cell_type": "markdown",
   "metadata": {},
   "source": [
    "### LSTM"
   ]
  },
  {
   "cell_type": "markdown",
   "metadata": {},
   "source": [
    "### SimpleRNN"
   ]
  },
  {
   "cell_type": "markdown",
   "metadata": {},
   "source": [
    "## Embeddings Layers"
   ]
  },
  {
   "cell_type": "markdown",
   "metadata": {},
   "source": [
    "### Embeding"
   ]
  },
  {
   "cell_type": "markdown",
   "metadata": {},
   "source": [
    "## Convolutional Recurrent Layers"
   ]
  },
  {
   "cell_type": "markdown",
   "metadata": {},
   "source": [
    "### ConvLSTM2D"
   ]
  },
  {
   "cell_type": "markdown",
   "metadata": {},
   "source": [
    "### ConvRecurrent2D"
   ]
  },
  {
   "cell_type": "markdown",
   "metadata": {},
   "source": [
    "## Advanced Activations Layers"
   ]
  },
  {
   "cell_type": "markdown",
   "metadata": {},
   "source": [
    "### ELU"
   ]
  },
  {
   "cell_type": "markdown",
   "metadata": {},
   "source": [
    "### LeakyReLU"
   ]
  },
  {
   "cell_type": "markdown",
   "metadata": {},
   "source": [
    "### ParametricSoftplus"
   ]
  },
  {
   "cell_type": "markdown",
   "metadata": {},
   "source": [
    "### PReLU"
   ]
  },
  {
   "cell_type": "markdown",
   "metadata": {},
   "source": [
    "### SReLU"
   ]
  },
  {
   "cell_type": "markdown",
   "metadata": {},
   "source": [
    "### ThreasholdedReLU"
   ]
  },
  {
   "cell_type": "markdown",
   "metadata": {},
   "source": [
    "## Normalization Layers"
   ]
  },
  {
   "cell_type": "markdown",
   "metadata": {},
   "source": [
    "### BatchNormalization"
   ]
  },
  {
   "cell_type": "markdown",
   "metadata": {},
   "source": [
    "## Noise Layers"
   ]
  },
  {
   "cell_type": "markdown",
   "metadata": {},
   "source": [
    "### GaussianDropout"
   ]
  },
  {
   "cell_type": "markdown",
   "metadata": {},
   "source": [
    "### GaussianNoise"
   ]
  },
  {
   "cell_type": "markdown",
   "metadata": {},
   "source": [
    "## Special Functions"
   ]
  },
  {
   "cell_type": "markdown",
   "metadata": {},
   "source": [
    "### Merge"
   ]
  },
  {
   "cell_type": "markdown",
   "metadata": {},
   "source": [
    "## Pre-Trained Models"
   ]
  },
  {
   "cell_type": "markdown",
   "metadata": {},
   "source": [
    "### InceptionV3"
   ]
  },
  {
   "cell_type": "markdown",
   "metadata": {},
   "source": [
    "### ResNet50"
   ]
  },
  {
   "cell_type": "markdown",
   "metadata": {},
   "source": [
    "### SqueezeNet"
   ]
  },
  {
   "cell_type": "markdown",
   "metadata": {},
   "source": [
    "### VGG16"
   ]
  },
  {
   "cell_type": "markdown",
   "metadata": {},
   "source": [
    "### VGG19"
   ]
  },
  {
   "cell_type": "markdown",
   "metadata": {},
   "source": [
    "### WideResNet"
   ]
  },
  {
   "cell_type": "markdown",
   "metadata": {},
   "source": [
    "## References\n",
    "\n",
    "### [deepcognition](https://app.deepcognition.ai)"
   ]
  },
  {
   "cell_type": "code",
   "execution_count": null,
   "metadata": {},
   "outputs": [],
   "source": []
  }
 ],
 "metadata": {
  "kernelspec": {
   "display_name": "Python 3",
   "language": "python",
   "name": "python3"
  },
  "language_info": {
   "codemirror_mode": {
    "name": "ipython",
    "version": 3
   },
   "file_extension": ".py",
   "mimetype": "text/x-python",
   "name": "python",
   "nbconvert_exporter": "python",
   "pygments_lexer": "ipython3",
   "version": "3.6.9"
  },
  "toc": {
   "base_numbering": 1,
   "nav_menu": {},
   "number_sections": true,
   "sideBar": false,
   "skip_h1_title": true,
   "title_cell": "Table of Contents",
   "title_sidebar": "Contents",
   "toc_cell": false,
   "toc_position": {
    "height": "829.594px",
    "left": "948.156px",
    "top": "109.333px",
    "width": "321.844px"
   },
   "toc_section_display": true,
   "toc_window_display": false
  }
 },
 "nbformat": 4,
 "nbformat_minor": 4
}
