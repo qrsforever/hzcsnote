{
 "cells": [
  {
   "cell_type": "code",
   "execution_count": 1,
   "metadata": {
    "ExecuteTime": {
     "end_time": "2020-09-09T13:22:04.794761Z",
     "start_time": "2020-09-09T13:22:04.348233Z"
    },
    "hide_input": false
   },
   "outputs": [],
   "source": [
    "%reload_ext autoreload\n",
    "%autoreload 2\n",
    "%matplotlib inline"
   ]
  },
  {
   "cell_type": "code",
   "execution_count": 2,
   "metadata": {
    "ExecuteTime": {
     "end_time": "2020-09-09T13:22:05.961265Z",
     "start_time": "2020-09-09T13:22:04.797631Z"
    },
    "hide_input": false
   },
   "outputs": [],
   "source": [
    "from k12libs.utils.nb_easy import k12ai_start_html\n",
    "from urllib.parse import urlencode\n",
    "import json\n",
    "import time\n",
    "import requests"
   ]
  },
  {
   "cell_type": "code",
   "execution_count": 3,
   "metadata": {
    "ExecuteTime": {
     "end_time": "2020-09-09T13:22:05.999293Z",
     "start_time": "2020-09-09T13:22:05.965886Z"
    }
   },
   "outputs": [],
   "source": [
    "default_code_snip = '''import time, sys\n",
    "def main():\n",
    "    \"\"\"\n",
    "    中文汉字就是帅, 符号也不赖！＠＃￥％＾＆＊（）＿＋｛｝：＂＞＜？｜\n",
    "    \"\"\"\n",
    "    for i in range(10):\n",
    "        print(f'{i}'*50, flush=True)\n",
    "        time.sleep(1)\n",
    "main()\n",
    "'''"
   ]
  },
  {
   "cell_type": "markdown",
   "metadata": {
    "ExecuteTime": {
     "end_time": "2020-09-09T12:17:40.968700Z",
     "start_time": "2020-09-09T12:17:40.835999Z"
    }
   },
   "source": [
    "## API调用(方式1)"
   ]
  },
  {
   "cell_type": "code",
   "execution_count": 4,
   "metadata": {
    "ExecuteTime": {
     "end_time": "2020-09-09T13:22:06.113552Z",
     "start_time": "2020-09-09T13:22:06.003002Z"
    }
   },
   "outputs": [
    {
     "data": {
      "text/plain": [
       "{'code': 100000, 'message': {'en': 'success', 'cn': '成功'}}"
      ]
     },
     "execution_count": 4,
     "metadata": {},
     "output_type": "execute_result"
    }
   ],
   "source": [
    "host = '116.85.5.40'\n",
    "port = 8119\n",
    "user = '16601548608'\n",
    "uuid = '123456'\n",
    "token = '123456'\n",
    "appId = f'k12pyr.{user}.{uuid}'\n",
    "\n",
    "# API\n",
    "uri = f'http://{host}:{port}/k12ai/framework/execute'\n",
    "\n",
    "# 启动 输入:\n",
    "reqdata = {\n",
    "    \"appId\": appId,\n",
    "    \"token\": token,\n",
    "    \"op\": \"runcode.start\",      # START\n",
    "    \"user\": user,\n",
    "    \"service_name\": \"k12pyr\",\n",
    "    \"service_uuid\": uuid,\n",
    "    \"service_params\": {\n",
    "        \"code\": default_code_snip,\n",
    "        \"devoloper\": True\n",
    "    } \n",
    "}\n",
    "\n",
    "resdata = json.loads(requests.post(url=uri, json=reqdata).text)\n",
    "# 输出:\n",
    "# {'code': 100000, 'message': {'en': 'success', 'cn': '成功'}}\n",
    "resdata"
   ]
  },
  {
   "cell_type": "code",
   "execution_count": 5,
   "metadata": {
    "ExecuteTime": {
     "end_time": "2020-09-09T13:22:27.603419Z",
     "start_time": "2020-09-09T13:22:06.116166Z"
    },
    "scrolled": false
   },
   "outputs": [
    {
     "name": "stdout",
     "output_type": "stream",
     "text": [
      "################################################################################\n",
      "                                    RUNNING                                     \n",
      "################################################################################\n",
      "\n",
      "00000000000000000000000000000000000000000000000000\n",
      "\n",
      "11111111111111111111111111111111111111111111111111\n",
      "\n",
      "22222222222222222222222222222222222222222222222222\n",
      "\n",
      "33333333333333333333333333333333333333333333333333\n",
      "\n",
      "44444444444444444444444444444444444444444444444444\n",
      "\n",
      "55555555555555555555555555555555555555555555555555\n",
      "\n",
      "66666666666666666666666666666666666666666666666666\n",
      "\n",
      "77777777777777777777777777777777777777777777777777\n",
      "\n",
      "88888888888888888888888888888888888888888888888888\n",
      "\n",
      "99999999999999999999999999999999999999999999999999\n",
      "\n",
      "################################################################################\n",
      "                                    FINISHED                                    \n",
      "################################################################################\n",
      "\n"
     ]
    }
   ],
   "source": [
    "# 异步数据写redis(key={appId}.runlog) (非正式API)\n",
    "max_try = 5\n",
    "cur_cnt = 0\n",
    "\n",
    "pri = f'http://{host}:{port}/k12ai/private/popmsg?key={appId}.runlog'\n",
    "while cur_cnt < max_try:\n",
    "    resdata = json.loads(requests.get(url=pri).text)\n",
    "    if len(resdata) == 0:\n",
    "        cur_cnt += 1\n",
    "        time.sleep(1)\n",
    "        continue\n",
    "    cur_cnt = 0\n",
    "    for item in resdata:\n",
    "        logdata = json.loads(item)\n",
    "        if 'data' in logdata and 'expand' in logdata['data']:\n",
    "            print(logdata['data']['expand']['log'])"
   ]
  },
  {
   "cell_type": "markdown",
   "metadata": {},
   "source": [
    "-----------"
   ]
  },
  {
   "cell_type": "code",
   "execution_count": 6,
   "metadata": {
    "ExecuteTime": {
     "end_time": "2020-09-09T13:22:27.709598Z",
     "start_time": "2020-09-09T13:22:27.608351Z"
    }
   },
   "outputs": [
    {
     "data": {
      "text/plain": [
       "{'code': 100205,\n",
       " 'message': {'en': 'task is not found or not running',\n",
       "  'cn': '任务停止错误: 请求的服务不存在或者未启动'}}"
      ]
     },
     "execution_count": 6,
     "metadata": {},
     "output_type": "execute_result"
    }
   ],
   "source": [
    "## 停止 输入:\n",
    "reqdata = {\n",
    "    \"appId\": appId,\n",
    "    \"token\": token,\n",
    "    \"op\": \"runcode.stop\",         # STOP\n",
    "    \"user\": user,\n",
    "    \"service_name\": \"k12pyr\",\n",
    "    \"service_uuid\": uuid,\n",
    "}\n",
    "resdata = json.loads(requests.post(url=uri, json=reqdata).text)\n",
    "resdata"
   ]
  },
  {
   "cell_type": "markdown",
   "metadata": {},
   "source": [
    "## 页面操作(方式2)"
   ]
  },
  {
   "cell_type": "code",
   "execution_count": 7,
   "metadata": {
    "ExecuteTime": {
     "end_time": "2020-09-09T13:22:27.756484Z",
     "start_time": "2020-09-09T13:22:27.713399Z"
    },
    "hide_input": false,
    "scrolled": false
   },
   "outputs": [
    {
     "data": {
      "text/html": [
       "<style>.container { width:95% !important; }</style>"
      ],
      "text/plain": [
       "<IPython.core.display.HTML object>"
      ]
     },
     "metadata": {},
     "output_type": "display_data"
    },
    {
     "data": {
      "text/html": [
       "\n",
       "        <iframe\n",
       "            width=\"100%\"\n",
       "            height=\"1000px\"\n",
       "            src=\"http://116.85.5.40:9091/codemirror.html?default=import+time%2C+sys%0Adef+main%28%29%3A%0A++++%22%22%22%0A++++%E4%B8%AD%E6%96%87%E6%B1%89%E5%AD%97%E5%B0%B1%E6%98%AF%E5%B8%85%2C+%E7%AC%A6%E5%8F%B7%E4%B9%9F%E4%B8%8D%E8%B5%96%EF%BC%81%EF%BC%A0%EF%BC%83%EF%BF%A5%EF%BC%85%EF%BC%BE%EF%BC%86%EF%BC%8A%EF%BC%88%EF%BC%89%EF%BC%BF%EF%BC%8B%EF%BD%9B%EF%BD%9D%EF%BC%9A%EF%BC%82%EF%BC%9E%EF%BC%9C%EF%BC%9F%EF%BD%9C%0A++++%22%22%22%0A++++for+i+in+range%2810%29%3A%0A++++++++print%28f%27%7Bi%7D%27%2A50%2C+flush%3DTrue%29%0A++++++++time.sleep%281%29%0Amain%28%29%0A\"\n",
       "            frameborder=\"0\"\n",
       "            allowfullscreen\n",
       "        ></iframe>\n",
       "        "
      ],
      "text/plain": [
       "<IPython.lib.display.IFrame at 0x7efdf6752e48>"
      ]
     },
     "execution_count": 7,
     "metadata": {},
     "output_type": "execute_result"
    }
   ],
   "source": [
    "params = {\n",
    "    'default': default_code_snip\n",
    "}\n",
    "k12ai_start_html(f'codemirror.html?{urlencode(params)}', width='100%', height='1000px')"
   ]
  },
  {
   "cell_type": "code",
   "execution_count": null,
   "metadata": {},
   "outputs": [],
   "source": []
  },
  {
   "cell_type": "code",
   "execution_count": 8,
   "metadata": {
    "ExecuteTime": {
     "end_time": "2020-09-09T13:22:27.785936Z",
     "start_time": "2020-09-09T13:22:27.760324Z"
    },
    "hide_input": true
   },
   "outputs": [],
   "source": [
    "runcode = '''from pyr.app.k12ai import EasyaiClassifier, EasyaiTrainer, EasyaiDataset\n",
    "class CustomClassifier(EasyaiClassifier):\n",
    "    def prepare_dataset(self):\n",
    "        return self.load_presetting_dataset_('rmnist', '/data/datasets/cv')\n",
    "trainer = EasyaiTrainer(max_epochs=1, model_summary=None)\n",
    "trainer.fit(CustomClassifier())\n",
    "trainer.test()'''"
   ]
  }
 ],
 "metadata": {
  "kernelspec": {
   "display_name": "Python 3",
   "language": "python",
   "name": "python3"
  },
  "language_info": {
   "codemirror_mode": {
    "name": "ipython",
    "version": 3
   },
   "file_extension": ".py",
   "mimetype": "text/x-python",
   "name": "python",
   "nbconvert_exporter": "python",
   "pygments_lexer": "ipython3",
   "version": "3.6.9"
  },
  "toc": {
   "base_numbering": 1,
   "nav_menu": {},
   "number_sections": true,
   "sideBar": true,
   "skip_h1_title": true,
   "title_cell": "",
   "title_sidebar": "Contents",
   "toc_cell": false,
   "toc_position": {},
   "toc_section_display": true,
   "toc_window_display": false
  }
 },
 "nbformat": 4,
 "nbformat_minor": 4
}
