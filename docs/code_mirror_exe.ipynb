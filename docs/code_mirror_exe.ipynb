{
 "cells": [
  {
   "cell_type": "code",
   "execution_count": 1,
   "metadata": {
    "ExecuteTime": {
     "end_time": "2020-08-31T08:54:13.673849Z",
     "start_time": "2020-08-31T08:54:13.213890Z"
    },
    "hide_input": false
   },
   "outputs": [],
   "source": [
    "%reload_ext autoreload\n",
    "%autoreload 2\n",
    "%matplotlib inline"
   ]
  },
  {
   "cell_type": "code",
   "execution_count": 2,
   "metadata": {
    "ExecuteTime": {
     "end_time": "2020-08-31T08:54:14.915130Z",
     "start_time": "2020-08-31T08:54:13.676770Z"
    },
    "hide_input": false
   },
   "outputs": [],
   "source": [
    "from k12libs.utils.nb_easy import k12ai_start_html, W3URL\n",
    "from urllib.parse import urlencode"
   ]
  },
  {
   "cell_type": "code",
   "execution_count": 3,
   "metadata": {
    "ExecuteTime": {
     "end_time": "2020-08-31T08:54:14.958338Z",
     "start_time": "2020-08-31T08:54:14.920736Z"
    },
    "hide_input": false,
    "scrolled": false
   },
   "outputs": [
    {
     "data": {
      "text/html": [
       "<style>.container { width:95% !important; }</style>"
      ],
      "text/plain": [
       "<IPython.core.display.HTML object>"
      ]
     },
     "metadata": {},
     "output_type": "display_data"
    },
    {
     "data": {
      "text/html": [
       "\n",
       "        <iframe\n",
       "            width=\"100%\"\n",
       "            height=\"1000px\"\n",
       "            src=\"http://116.85.5.40:9091/codemirror.html?default=import+time%2C+sys%0Adef+main%28%29%3A%0A++++%22%22%22%0A++++%E4%B8%AD%E6%96%87%E6%B1%89%E5%AD%97%E5%B0%B1%E6%98%AF%E5%B8%85%2C+%E7%AC%A6%E5%8F%B7%E4%B9%9F%E4%B8%8D%E8%B5%96%EF%BC%81%EF%BC%A0%EF%BC%83%EF%BF%A5%EF%BC%85%EF%BC%BE%EF%BC%86%EF%BC%8A%EF%BC%88%EF%BC%89%EF%BC%BF%EF%BC%8B%EF%BD%9B%EF%BD%9D%EF%BC%9A%EF%BC%82%EF%BC%9E%EF%BC%9C%EF%BC%9F%EF%BD%9C%0A++++%22%22%22%0A++++for+i+in+range%2810%29%3A%0A++++++++print%28f%27%7Bi%7D%27%2A50%2C+flush%3DTrue%29%0A++++++++time.sleep%281%29%0Amain%28%29%0A\"\n",
       "            frameborder=\"0\"\n",
       "            allowfullscreen\n",
       "        ></iframe>\n",
       "        "
      ],
      "text/plain": [
       "<IPython.lib.display.IFrame at 0x7fcd99e61828>"
      ]
     },
     "execution_count": 3,
     "metadata": {},
     "output_type": "execute_result"
    }
   ],
   "source": [
    "params = {\n",
    "    'default': '''import time, sys\n",
    "def main():\n",
    "    \"\"\"\n",
    "    中文汉字就是帅, 符号也不赖！＠＃￥％＾＆＊（）＿＋｛｝：＂＞＜？｜\n",
    "    \"\"\"\n",
    "    for i in range(10):\n",
    "        print(f'{i}'*50, flush=True)\n",
    "        time.sleep(1)\n",
    "main()\n",
    "'''\n",
    "}\n",
    "k12ai_start_html(f'{W3URL}/codemirror.html?{urlencode(params)}', width='100%', height='1000px')"
   ]
  },
  {
   "cell_type": "code",
   "execution_count": 4,
   "metadata": {
    "ExecuteTime": {
     "end_time": "2020-08-31T08:54:14.984920Z",
     "start_time": "2020-08-31T08:54:14.960880Z"
    },
    "hide_input": true
   },
   "outputs": [],
   "source": [
    "runcode = '''from pyr.app.k12ai import EasyaiClassifier, EasyaiTrainer, EasyaiDataset\n",
    "class CustomClassifier(EasyaiClassifier):\n",
    "    def prepare_dataset(self):\n",
    "        return self.load_presetting_dataset_('rmnist', '/data/datasets/cv')\n",
    "trainer = EasyaiTrainer(max_epochs=1, model_summary=None)\n",
    "trainer.fit(CustomClassifier())\n",
    "trainer.test()'''"
   ]
  },
  {
   "cell_type": "code",
   "execution_count": 5,
   "metadata": {
    "ExecuteTime": {
     "end_time": "2020-08-31T08:54:27.340006Z",
     "start_time": "2020-08-31T08:54:14.987363Z"
    },
    "hide_input": false,
    "scrolled": false
   },
   "outputs": [
    {
     "name": "stderr",
     "output_type": "stream",
     "text": [
      "GPU available: True, used: True\n",
      "TPU available: False, using: 0 TPU cores\n",
      "CUDA_VISIBLE_DEVICES: [0]\n"
     ]
    },
    {
     "data": {
      "application/vnd.jupyter.widget-view+json": {
       "model_id": "9b00788e215f4d8cb584e4ba235774fd",
       "version_major": 2,
       "version_minor": 0
      },
      "text/plain": [
       "HBox(children=(FloatProgress(value=1.0, bar_style='info', description='Training', layout=Layout(flex='2'), max…"
      ]
     },
     "metadata": {},
     "output_type": "display_data"
    },
    {
     "name": "stderr",
     "output_type": "stream",
     "text": [
      "Saving latest checkpoint..\n"
     ]
    },
    {
     "name": "stdout",
     "output_type": "stream",
     "text": [
      "\n",
      "--------------------------------------------------------------------------------\n"
     ]
    }
   ],
   "source": [
    "exec(runcode)"
   ]
  },
  {
   "cell_type": "code",
   "execution_count": 6,
   "metadata": {
    "ExecuteTime": {
     "end_time": "2020-08-31T08:54:27.381453Z",
     "start_time": "2020-08-31T08:54:27.342883Z"
    },
    "hide_input": false,
    "scrolled": false
   },
   "outputs": [
    {
     "data": {
      "text/html": [
       "<style>.container { width:95% !important; }</style>"
      ],
      "text/plain": [
       "<IPython.core.display.HTML object>"
      ]
     },
     "metadata": {},
     "output_type": "display_data"
    },
    {
     "data": {
      "text/html": [
       "\n",
       "        <iframe\n",
       "            width=\"100%\"\n",
       "            height=\"900px\"\n",
       "            src=\"http://116.85.5.40:9091/codemirror.html?default=from+k12ai+import+EasyaiClassifier%2C+EasyaiTrainer%2C+EasyaiDataset%0Aclass+CustomClassifier%28EasyaiClassifier%29%3A%0A++++def+prepare_dataset%28self%29%3A%0A++++++++return+self.load_presetting_dataset_%28%27rmnist%27%2C+%27%2Fdatasets%27%29%0Atrainer+%3D+EasyaiTrainer%28max_epochs%3D1%2C+model_summary%3DNone%29%0Atrainer.fit%28CustomClassifier%28%29%29%0Atrainer.test%28%29\"\n",
       "            frameborder=\"0\"\n",
       "            allowfullscreen\n",
       "        ></iframe>\n",
       "        "
      ],
      "text/plain": [
       "<IPython.lib.display.IFrame at 0x7fce04b8b588>"
      ]
     },
     "execution_count": 6,
     "metadata": {},
     "output_type": "execute_result"
    }
   ],
   "source": [
    "params = {'default': runcode.replace('pyr.app.', '').replace('/data/datasets/cv', '/datasets')}\n",
    "k12ai_start_html(f'{W3URL}/codemirror.html?{urlencode(params)}', width='100%', height='900px')"
   ]
  }
 ],
 "metadata": {
  "kernelspec": {
   "display_name": "Python 3",
   "language": "python",
   "name": "python3"
  },
  "language_info": {
   "codemirror_mode": {
    "name": "ipython",
    "version": 3
   },
   "file_extension": ".py",
   "mimetype": "text/x-python",
   "name": "python",
   "nbconvert_exporter": "python",
   "pygments_lexer": "ipython3",
   "version": "3.6.9"
  },
  "toc": {
   "base_numbering": 1,
   "nav_menu": {},
   "number_sections": true,
   "sideBar": true,
   "skip_h1_title": true,
   "title_cell": "",
   "title_sidebar": "Contents",
   "toc_cell": false,
   "toc_position": {},
   "toc_section_display": true,
   "toc_window_display": false
  }
 },
 "nbformat": 4,
 "nbformat_minor": 4
}
