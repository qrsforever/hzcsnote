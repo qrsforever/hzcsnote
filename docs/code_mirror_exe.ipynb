{
 "cells": [
  {
   "cell_type": "code",
   "execution_count": 1,
   "metadata": {
    "ExecuteTime": {
     "end_time": "2020-08-23T08:29:23.447798Z",
     "start_time": "2020-08-23T08:29:22.990228Z"
    }
   },
   "outputs": [],
   "source": [
    "%reload_ext autoreload\n",
    "%autoreload 2\n",
    "%matplotlib inline"
   ]
  },
  {
   "cell_type": "code",
   "execution_count": 2,
   "metadata": {
    "ExecuteTime": {
     "end_time": "2020-08-23T08:29:24.801957Z",
     "start_time": "2020-08-23T08:29:23.470149Z"
    }
   },
   "outputs": [],
   "source": [
    "from k12libs.utils.nb_easy import k12ai_start_html, W3URL\n",
    "from urllib.parse import urlencode"
   ]
  },
  {
   "cell_type": "code",
   "execution_count": 3,
   "metadata": {
    "ExecuteTime": {
     "end_time": "2020-08-23T08:29:25.570089Z",
     "start_time": "2020-08-23T08:29:25.513433Z"
    },
    "scrolled": false
   },
   "outputs": [
    {
     "data": {
      "text/html": [
       "<style>.container { width:95% !important; }</style>"
      ],
      "text/plain": [
       "<IPython.core.display.HTML object>"
      ]
     },
     "metadata": {},
     "output_type": "display_data"
    },
    {
     "data": {
      "text/html": [
       "\n",
       "        <iframe\n",
       "            width=\"100%\"\n",
       "            height=\"1000px\"\n",
       "            src=\"http://116.85.5.40:9091/codemirror.html?default=import+time%2C+sys%0Adef+main%28%29%3A%0A++++%22%22%22%0A++++%E4%B8%AD%E6%96%87%E6%B1%89%E5%AD%97%E5%B0%B1%E6%98%AF%E5%B8%85%2C+%E7%AC%A6%E5%8F%B7%E4%B9%9F%E4%B8%8D%E8%B5%96%EF%BC%81%EF%BC%A0%EF%BC%83%EF%BF%A5%EF%BC%85%EF%BC%BE%EF%BC%86%EF%BC%8A%EF%BC%88%EF%BC%89%EF%BC%BF%EF%BC%8B%EF%BD%9B%EF%BD%9D%EF%BC%9A%EF%BC%82%EF%BC%9E%EF%BC%9C%EF%BC%9F%EF%BD%9C%0A++++%22%22%22%0A++++for+i+in+range%2810%29%3A%0A++++++++print%28f%27%7Bi%7D%27%2A50%2C+flush%3DTrue%29%0A++++++++time.sleep%281%29%0Amain%28%29%0A\"\n",
       "            frameborder=\"0\"\n",
       "            allowfullscreen\n",
       "        ></iframe>\n",
       "        "
      ],
      "text/plain": [
       "<IPython.lib.display.IFrame at 0x7fc9c818ccf8>"
      ]
     },
     "execution_count": 3,
     "metadata": {},
     "output_type": "execute_result"
    }
   ],
   "source": [
    "params = {\n",
    "    'default': '''import time, sys\n",
    "def main():\n",
    "    \"\"\"\n",
    "    中文汉字就是帅, 符号也不赖！＠＃￥％＾＆＊（）＿＋｛｝：＂＞＜？｜\n",
    "    \"\"\"\n",
    "    for i in range(10):\n",
    "        print(f'{i}'*50, flush=True)\n",
    "        time.sleep(1)\n",
    "main()\n",
    "'''\n",
    "}\n",
    "k12ai_start_html(f'{W3URL}/codemirror.html?{urlencode(params)}', width='100%', height='1000px')"
   ]
  },
  {
   "cell_type": "code",
   "execution_count": 10,
   "metadata": {
    "ExecuteTime": {
     "end_time": "2020-08-07T15:19:46.467508Z",
     "start_time": "2020-08-07T15:19:46.344049Z"
    }
   },
   "outputs": [],
   "source": [
    "runcode = '''from pyr.app.k12ai import EasyaiClassifier, EasyaiTrainer, EasyaiDataset\n",
    "class CustomClassifier(EasyaiClassifier):\n",
    "    def prepare_dataset(self):\n",
    "        return self.load_presetting_dataset_('rmnist', '/data/datasets/cv')\n",
    "trainer = EasyaiTrainer(max_epochs=1, model_summary=None)\n",
    "trainer.fit(CustomClassifier())\n",
    "trainer.test()'''"
   ]
  },
  {
   "cell_type": "code",
   "execution_count": 19,
   "metadata": {
    "ExecuteTime": {
     "end_time": "2020-08-10T13:28:40.167628Z",
     "start_time": "2020-08-10T13:28:25.289913Z"
    },
    "scrolled": false
   },
   "outputs": [
    {
     "name": "stderr",
     "output_type": "stream",
     "text": [
      "GPU available: True, used: True\n",
      "TPU available: False, using: 0 TPU cores\n",
      "CUDA_VISIBLE_DEVICES: [0]\n"
     ]
    },
    {
     "data": {
      "application/vnd.jupyter.widget-view+json": {
       "model_id": "cb6e82eaff60400ebdc97b2b45600b3d",
       "version_major": 2,
       "version_minor": 0
      },
      "text/plain": [
       "HBox(children=(FloatProgress(value=1.0, bar_style='info', description='Training', layout=Layout(flex='2'), max…"
      ]
     },
     "metadata": {},
     "output_type": "display_data"
    },
    {
     "data": {
      "application/vnd.jupyter.widget-view+json": {
       "model_id": "",
       "version_major": 2,
       "version_minor": 0
      },
      "text/plain": [
       "HBox(children=(FloatProgress(value=1.0, bar_style='info', description='Validating', layout=Layout(flex='2'), m…"
      ]
     },
     "metadata": {},
     "output_type": "display_data"
    },
    {
     "name": "stdout",
     "output_type": "stream",
     "text": [
      "\n"
     ]
    },
    {
     "data": {
      "application/vnd.jupyter.widget-view+json": {
       "model_id": "c08d70182fa44c2ca6f74677c6c0856c",
       "version_major": 2,
       "version_minor": 0
      },
      "text/plain": [
       "HBox(children=(FloatProgress(value=1.0, bar_style='info', description='Testing', layout=Layout(flex='2'), max=…"
      ]
     },
     "metadata": {},
     "output_type": "display_data"
    },
    {
     "name": "stdout",
     "output_type": "stream",
     "text": [
      "--------------------------------------------------------------------------------\n",
      "TEST RESULTS\n",
      "{'test_acc': tensor(0.3666, device='cuda:0'),\n",
      " 'test_loss': tensor(2.0195, device='cuda:0')}\n",
      "--------------------------------------------------------------------------------\n",
      "\n"
     ]
    }
   ],
   "source": [
    "exec(runcode)"
   ]
  },
  {
   "cell_type": "code",
   "execution_count": 18,
   "metadata": {
    "ExecuteTime": {
     "end_time": "2020-08-10T13:20:04.101548Z",
     "start_time": "2020-08-10T13:20:04.050284Z"
    },
    "scrolled": false
   },
   "outputs": [
    {
     "data": {
      "text/html": [
       "<style>.container { width:95% !important; }</style>"
      ],
      "text/plain": [
       "<IPython.core.display.HTML object>"
      ]
     },
     "metadata": {},
     "output_type": "display_data"
    },
    {
     "data": {
      "text/html": [
       "\n",
       "        <iframe\n",
       "            width=\"100%\"\n",
       "            height=\"900px\"\n",
       "            src=\"http://116.85.5.40:9091/codemirror.html?default=from+k12ai+import+EasyaiClassifier%2C+EasyaiTrainer%2C+EasyaiDataset%0Aclass+CustomClassifier%28EasyaiClassifier%29%3A%0A++++def+prepare_dataset%28self%29%3A%0A++++++++return+self.load_presetting_dataset_%28%27rmnist%27%2C+%27%2Fdatasets%27%29%0Atrainer+%3D+EasyaiTrainer%28max_epochs%3D1%2C+model_summary%3DNone%29%0Atrainer.fit%28CustomClassifier%28%29%29%0Atrainer.test%28%29\"\n",
       "            frameborder=\"0\"\n",
       "            allowfullscreen\n",
       "        ></iframe>\n",
       "        "
      ],
      "text/plain": [
       "<IPython.lib.display.IFrame at 0x7ff4abf94e48>"
      ]
     },
     "execution_count": 18,
     "metadata": {},
     "output_type": "execute_result"
    }
   ],
   "source": [
    "params = {'default': runcode.replace('pyr.app.', '').replace('/data/datasets/cv', '/datasets')}\n",
    "k12ai_start_html(f'{W3URL}/codemirror.html?{urlencode(params)}', width='100%', height='900px')"
   ]
  },
  {
   "cell_type": "code",
   "execution_count": null,
   "metadata": {},
   "outputs": [],
   "source": []
  }
 ],
 "metadata": {
  "kernelspec": {
   "display_name": "Python 3",
   "language": "python",
   "name": "python3"
  },
  "language_info": {
   "codemirror_mode": {
    "name": "ipython",
    "version": 3
   },
   "file_extension": ".py",
   "mimetype": "text/x-python",
   "name": "python",
   "nbconvert_exporter": "python",
   "pygments_lexer": "ipython3",
   "version": "3.6.9"
  },
  "toc": {
   "base_numbering": 1,
   "nav_menu": {},
   "number_sections": true,
   "sideBar": true,
   "skip_h1_title": true,
   "title_cell": "",
   "title_sidebar": "Contents",
   "toc_cell": false,
   "toc_position": {},
   "toc_section_display": true,
   "toc_window_display": false
  }
 },
 "nbformat": 4,
 "nbformat_minor": 4
}
