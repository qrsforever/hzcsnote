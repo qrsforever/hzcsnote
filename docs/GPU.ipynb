{
 "cells": [
  {
   "cell_type": "markdown",
   "id": "liberal-membrane",
   "metadata": {},
   "source": [
    "## 平台分析\n",
    "\n",
    "滴滴/腾讯/阿里云采购的机器大部分都是P4, P40, P100, V100, A100, 最新的RTX系列都没采用(定位是游戏类,虽然速度性能够高), 所以可以从这5类中挑选, 其中P4性能最弱, 适合推理, 训练不行, A100京东卖的不多, 平台厂家也很少部署, 所以最终可能从P40, V100, P100中选择, 这3类中V100性能表现最好, 个人认为可以从P40和V100中选择. \n",
    "\n",
    "## 显卡价格\n",
    "\n",
    "型号 |显存|价位(万)\n",
    ":--:|:--:|:--:\n",
    "P40 | 24G | 3 \n",
    "P100 | 16G | 3\n",
    "V100 | 16G | 4.5 \n",
    "V100 | 32G | 6\n",
    "A100 | 40G | 7.5\n",
    "\n",
    "## 需求分析\n",
    "\n",
    "因为后续可能有3D, 语音, nlp等大模型大数据的训练, 对显存是有要求的, 需要采用多卡方式, 当然也可以先买单卡, 后续有需求在单独购买, 所以在买整机时需要支持扩充GPU卡(大多数都是8路)\n",
    "\n",
    "一步到位买`V100 32G*4`卡: https://item.jd.com/54310002546.html#none\n",
    "\n",
    "先独立买一个卡`P40 24*1`卡: https://item.jd.com/54310002530.html#crumb-wrap"
   ]
  },
  {
   "cell_type": "code",
   "execution_count": null,
   "id": "identified-injection",
   "metadata": {},
   "outputs": [],
   "source": []
  }
 ],
 "metadata": {
  "hide_input": false,
  "kernelspec": {
   "display_name": "Python 3",
   "language": "python",
   "name": "python3"
  },
  "language_info": {
   "codemirror_mode": {
    "name": "ipython",
    "version": 3
   },
   "file_extension": ".py",
   "mimetype": "text/x-python",
   "name": "python",
   "nbconvert_exporter": "python",
   "pygments_lexer": "ipython3",
   "version": "3.6.9"
  },
  "toc": {
   "base_numbering": 1,
   "nav_menu": {},
   "number_sections": true,
   "sideBar": true,
   "skip_h1_title": true,
   "title_cell": "",
   "title_sidebar": "Contents",
   "toc_cell": false,
   "toc_position": {},
   "toc_section_display": true,
   "toc_window_display": false
  }
 },
 "nbformat": 4,
 "nbformat_minor": 5
}
