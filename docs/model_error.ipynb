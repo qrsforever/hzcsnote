{
 "cells": [
  {
   "cell_type": "markdown",
   "metadata": {},
   "source": [
    "# <div align=\"center\"> K12ai 机器学习框架: 训练任务错误码模型 </div>"
   ]
  },
  {
   "cell_type": "markdown",
   "metadata": {},
   "source": [
    "```json\n",
    "{\n",
    "    \"version\": \"1.0.0\", // [M] 数据格式版本号, 兼容使用\n",
    "    \"type\": \"error\",    // [M] 正文的内容类型\n",
    "    \"tag\": \"\",          // [M] (暂时不用)区分框架服务,如: framework, platform\n",
    "    \"token\": \"\",        // [M] 异步交互互信token\n",
    "    \"op\": \"\",           // [M] 区分训练任务,如: train.start, predict.stop等\n",
    "    \"user\": \"\",         // [M] 任务所属用户\n",
    "    \"service_uuid\": \"\", // [M] 任务ID, 建议对应project ID.\n",
    "    \"timestamp\": \"1575646737631\",     // [M] 异步消息返回的时间戳\n",
    "    \"datetime\": \"20191206233857\",     // [M] 异步消息返回的日\n",
    "    \"data\": {           // [M] 消息正体(此data字段属于异步消息头部的一部分)\n",
    "        \"code\": 100000, // [M] 统一错误码\n",
    "        \"message\": \"\",  // [O] 消息描述\n",
    "        \"data\": \"\",     // [O] 有效内容, string or json, 当api执行成功时需要返回的有效内容, 比如,获取schema接口\n",
    "        \"expand\": {     // [O] 扩展内容, 包括程序执行过程中的状态信息以及异常堆栈信息\n",
    "            \"status\": \"\",  // [CM] 程序运行状态(starting, running, error, crash, stop, finish)\n",
    "            \"uptime\": 100, // [CO] 当status == finish, 携带从running到finish的时间秒数\n",
    "            \"memstat\": {  //  [CO] 程序运行返回内存使用情况(不准确, 做参考)\n",
    "                \"app_cpu_memory_usage_MB\": 1.0, // [C] 程序使用cpu内存峰值\n",
    "                \"app_gpu_memory_usage_MB\": 1.0, // [C] 程序使用gpu内存峰值\n",
    "                \"sys_cpu_memory_free_MB\": 1.0,  // [C] 系统cpu内存剩余大小(app_cpu_memory_usage_MB不计算在内)\n",
    "                \"sys_gpu_memory_free_MB\": 1.0,  // [C] 系统gpu内存剩余大小(app_gpu_memory_usage_MB不计算在内)\n",
    "            },\n",
    "            \"environ\": {   // [CO] 任务训练相关的关键参数(可以辅助内存matrix形成), status == finish 返回, 例如:\n",
    "                \"dataset_name\": \"Boats\",  // [C] 本次训练所用的数据集  (并不是所有框架都有该属性)\n",
    "                \"model_name\": \"vgg11\",    // [C] 本次训练所用的模型  (并不是所有框架都有该属性)\n",
    "                \"batch_size\": \"32\"        // [C] 本次训练所用的BS (并不是所有框架都有该属性)\n",
    "            },\n",
    "            \"excinfo\": {   // [CO] 错误异常详细信息\n",
    "                \"filename\": \"\", // [C] 非异常错误时, 错误输出所在文件\n",
    "                \"linenum\": 100, // [C] 非异常错误时, 错误输出所在行号\n",
    "                \"funcname\": \"\", // [C] 非异常错误时, 错误输出所在函数\n",
    "                \"err_type\": \"\", // [C] 错误是异常时, 异常的类名\n",
    "                \"err_text\": \"\", // [C] 错误是异常时, 异常的内容\n",
    "                \"traceback\":[   // [C] 错误是异常时, 错误堆栈\n",
    "                    {\n",
    "                        \"filename\": \"\",\n",
    "                        \"linenum\": 100,\n",
    "                        \"funcname\": \"\",\n",
    "                        \"source\": \"\" // [C] 错误是异常时, 发生问题的程序代码\n",
    "                    },\n",
    "                    {\n",
    "                        \"filename\": \"\",\n",
    "                        \"linenum\": 100,\n",
    "                        \"funcname\": \"\",\n",
    "                        \"source\": \"\" // [C] 错误是异常时, 发生问题的程序代码\n",
    "                    },\n",
    "                ]\n",
    "            }\n",
    "        }\n",
    "    }\n",
    "}\n",
    "```"
   ]
  }
 ],
 "metadata": {
  "kernelspec": {
   "display_name": "Python 3",
   "language": "python",
   "name": "python3"
  },
  "language_info": {
   "codemirror_mode": {
    "name": "ipython",
    "version": 3
   },
   "file_extension": ".py",
   "mimetype": "text/x-python",
   "name": "python",
   "nbconvert_exporter": "python",
   "pygments_lexer": "ipython3",
   "version": "3.6.9"
  }
 },
 "nbformat": 4,
 "nbformat_minor": 2
}
