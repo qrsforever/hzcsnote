{
 "cells": [
  {
   "cell_type": "markdown",
   "metadata": {},
   "source": [
    "# <div align=\"center\"> K12ai 机器学习框架: 训练任务错误码模型 </div>"
   ]
  },
  {
   "cell_type": "markdown",
   "metadata": {},
   "source": [
    "```json\n",
    "{\n",
    "    \"version\": \"1.0.0\", // [M] 数据格式版本号, 兼容使用\n",
    "    \"type\": \"error\",    // [M] 正文的内容类型: status\n",
    "    \"tag\": \"\",          // [M] 区分框架服务,如: framework, platform\n",
    "    \"op\": \"\",           // [M] 区分训练任务,如: train.start, predict.stop等\n",
    "    \"user\": \"\",         // [M] 任务所属用户\n",
    "    \"service_uuid\": \"\", // [M] 任务ID, 建议对应project ID.\n",
    "    \"timestamp\": \"1575646737631\",     // [M] 异步消息返回的时间戳\n",
    "    \"datetime\": \"20191206233857\",     // [M] 异步消息返回的日\n",
    "    \"error\": {        // [M] 必须与\"type\"的值相同: \"error\"\n",
    "        \"code\": 100,  // [M] 统一错误码\n",
    "        \"descr\": \"\",  // [O] 错误简要信息\n",
    "        \"message\":\"\", // [O] 自定义消息,辅助消息\n",
    "        \"detail\": {     // [O] 错误详细信息\n",
    "            \"filename\": \"\", // [C] 非异常错误时, 错误输出所在文件\n",
    "            \"linenum\": 100, // [C] 非异常错误时, 错误输出所在行号\n",
    "            \"funcname\": \"\", // [C] 非异常错误时, 错误输出所在函数\n",
    "            \"err_type\": \"\", // [C] 错误是异常时, 异常的类名\n",
    "            \"err_text\": \"\", // [C] 错误是异常时, 异常的内容\n",
    "            \"traceback\":[   // [C] 错误是异常时, 错误堆栈\n",
    "                {\n",
    "                    \"filename\": \"\",\n",
    "                    \"linenum\": 100,\n",
    "                    \"funcname\": \"\",\n",
    "                    \"source\": \"\" // [C] 错误是异常时, 发生问题的程序代码\n",
    "                },\n",
    "                {\n",
    "                    \"filename\": \"\",\n",
    "                    \"linenum\": 100,\n",
    "                    \"funcname\": \"\",\n",
    "                    \"source\": \"\" // [C] 错误是异常时, 发生问题的程序代码\n",
    "                },\n",
    "            ]\n",
    "        }\n",
    "    }\n",
    "}\n",
    "```"
   ]
  }
 ],
 "metadata": {
  "kernelspec": {
   "display_name": "Python 3",
   "language": "python",
   "name": "python3"
  },
  "language_info": {
   "codemirror_mode": {
    "name": "ipython",
    "version": 3
   },
   "file_extension": ".py",
   "mimetype": "text/x-python",
   "name": "python",
   "nbconvert_exporter": "python",
   "pygments_lexer": "ipython3",
   "version": "3.6.8"
  }
 },
 "nbformat": 4,
 "nbformat_minor": 2
}
