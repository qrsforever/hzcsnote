{
 "cells": [
  {
   "cell_type": "markdown",
   "metadata": {},
   "source": [
    "# <div align=\"center\"> 机器分配草案 </div>"
   ]
  },
  {
   "cell_type": "markdown",
   "metadata": {},
   "source": [
    "## 假设\n",
    "\n",
    "- 同一区域的课表时间统一, 比如该区域都是每天8:10上第一节课, 8:50下课, 课间休息10分钟.\n",
    "\n",
    "- 不存在课表调休, 比如节假日补课, 老师换课等因特殊不确定原因及不确定调课结果等\n",
    "\n",
    "- 非上课时间任务强制终止属于正常现象\n",
    "\n",
    "- 同一个学校, 班级的人数尽量均匀(比如: 都是35人左右)\n",
    "\n",
    "- 用户训练任务显存占用控制在2GB以内"
   ]
  },
  {
   "cell_type": "markdown",
   "metadata": {},
   "source": [
    "## 用户编号规范\n",
    "\n",
    "```\n",
    "\n",
    "                                           学校    用户序号(学生&教师)\n",
    "                                           ---    ---\n",
    "                                        3332220304001\n",
    "                                        ---   ----\n",
    "                                        地区   班级(教师)\n",
    "\n",
    "```\n",
    "\n",
    "地区码: 000 - 999\n",
    "\n",
    "学校码: 000 - 999\n",
    "\n",
    "班级号: 0000 - 9999  (0000:老师, 0304: 3年级4班)\n",
    "\n",
    "用户号: 000 - 999"
   ]
  },
  {
   "cell_type": "markdown",
   "metadata": {},
   "source": [
    "## 区域"
   ]
  },
  {
   "cell_type": "markdown",
   "metadata": {},
   "source": [
    "区域码|名字|上课时间表|课程安排表|用户列表|机器节点\n",
    ":---:|:---:|:---:|:---:|:---:|:---:\n",
    "<img width=70px>|<img width=70px/>|<img width=70px/>|<img width=70px/>|<img width=150px/>|<img width=150px/>\n",
    "101|华东一区| | |[1012010301001, 1012010301002,...,1012010302001] |[192.168.1.101:8989,...,192.168.1.102:8089]\n",
    "102|华东二区| | |[1022010301001, 1022010301002,...,1022010302001] |[192.168.2.102:8089,...,192.168.2.111:8089]"
   ]
  },
  {
   "cell_type": "markdown",
   "metadata": {},
   "source": [
    "### 调度表\n",
    "\n",
    "调度表由指定区域里所有学校的课表汇总形成的, 按1周7天, 每天8节课(24小时), 形成一个时间矩阵,如T(1, 3)表示星期1第3节课, 而T(1, 3)的值为学校3332020302(☺), T(x, y)可以由当前的日期获取到(20200719-08:15:00 --> T(1, 1)), 而T(x, y)的值也是确定的(一个区域的排课安排是已知的).\n",
    "\n",
    "如:\n",
    "\n",
    "```\n",
    "       3332010301: ☻ (编号为333区域201学校3年级1班: 30人)\n",
    "       3332020302: ☺ (编号为333区域202学校3年级2班: 42人)\n",
    "       3332030302: ◎ (编号为333区域203学校3年级2班: 29人)\n",
    "\n",
    "              \n",
    "                       星    星    星    星    星    星    星 \n",
    "                       期    期    期    期    期    期    期 \n",
    "                       一    二    三    四    五    六    日\n",
    "                  +------------------------------------------------> 周\n",
    "                  |         \n",
    "                  |                     \n",
    "(7:50 - 8:30)  1  |    ☻   \n",
    "                  |          \n",
    "               2  |                     ☻,☺            \n",
    "                  |         \n",
    "               3  |    ☺     ☺     ☻          ☺ \n",
    "                  |                      \n",
    "               4  |    ☻          ☻,☺         ☺ \n",
    "                  |         \n",
    "               5  |                ☺        ☻,☺,◎ \n",
    "                  |         \n",
    "               6  |         ☺,☻    ☻          ☻\n",
    "                  |         \n",
    "               7  |   ☺,☻    ☻           ☻\n",
    "                  |         \n",
    "               8  |                \n",
    "                  |         \n",
    "                  |\n",
    "                  v\n",
    "                时间(节)\n",
    "\n",
    "```\n",
    "\n",
    "情景:\n",
    "\n",
    "1. 每天的课应该不是饱和, 比如`T(1,2), T(5,7)`没有安排课程, 此时`T(1,2)=[], T(5,7)=[]`\n",
    "\n",
    "2. 同一时刻存在多个班同时上课的情景, 比如`T(4,2)=[2010301, 2020302]` \n",
    "\n",
    "3. 按每天24小时算的话, 凡是不在规定课表内的时间, 统一记为`T(0, 0)`, 比如, 周末, 夜晚, 节假日, 即默认`T(x,y)=[]`\n",
    "\n",
    "\n",
    "\n",
    "### 算力节点数(机器)\n",
    "\n",
    "1. 按每个任务显存使用不超过2GB, 一台P40大概能运行10个任务, 则1个班40个学生(包括老师), 需要4台P40, 在此人数(40)上, 每增加1-10个人需要另增加1台P40.\n",
    "\n",
    "2. ~~某区域下调度课表如果同一节课只存在一个班级上课, 则只需一个班级的台数(1台/10), 即为x.~~\n",
    "\n",
    "3. ~~某区域下调度课表如果同一节课存在Y个班级同时上课, 则这个区域的机器个数按 x * max(Y)~~\n",
    "\n",
    "4. 某区域的机器使用个数计算公式:\n",
    "\n",
    "$$\n",
    "    \\bigg ( \\max_{x \\in X, y \\in Y} \\sum_{c}^{T(x, y)} S(c) + (K-1) \\bigg ) / K\n",
    "$$\n",
    "\n",
    "X: 周, 取值为1, 2, 3, 4, 5, 6, 7\n",
    "\n",
    "Y: 节, 取值为1, 2, 3, 4, 5, 6, 7, 0(表示非上课节)\n",
    "\n",
    "S(c): 返回c班的学生人数\n",
    "\n",
    "K: 固定常数, 如果一台P40能够运行10个显存不超过2GB的任务, 则K=10"
   ]
  },
  {
   "cell_type": "markdown",
   "metadata": {
    "ExecuteTime": {
     "end_time": "2020-07-19T15:51:05.293171Z",
     "start_time": "2020-07-19T15:51:05.285928Z"
    }
   },
   "source": [
    "## 调度表属性\n",
    "\n",
    "status: 有课busy, 无课free"
   ]
  },
  {
   "cell_type": "markdown",
   "metadata": {},
   "source": [
    "## 任务属性\n",
    "\n",
    "status: running(正在运行), stopped(手动停止或者异常停止), paused(暂停), **robbed(资源被抢占)**, finished(正常结束)"
   ]
  },
  {
   "cell_type": "markdown",
   "metadata": {},
   "source": [
    "## 用户属性\n",
    "\n",
    "active: 活动, 非活动"
   ]
  },
  {
   "cell_type": "markdown",
   "metadata": {},
   "source": [
    "## 场景"
   ]
  },
  {
   "cell_type": "markdown",
   "metadata": {},
   "source": [
    "### 课上拒绝\n",
    "\n",
    "```\n",
    "      用户(老师&学生)                 业务服务端                         框架服务                                    \n",
    "         -------                    ----------                    -----------------         \n",
    "            |                           |                                 |\n",
    "            |        a1                 |                                 |                               \n",
    "            |-------------------------->|                                 |                               \n",
    "            |        a2                 |                                 |                               \n",
    "            |<--------------------------|                                 |                               \n",
    "            |                           |                                 |\n",
    "                                                                                                          \n",
    "                                                                                                          \n",
    "a1: 用户编号userid=3332030301在请求训练\n",
    "\n",
    "a2: 后台根据当前日期时间获取T(x, y)=[3332010301, 3332020302](调度表busy), 且userid不在T(x,y)中, 拒绝 \n",
    "```"
   ]
  },
  {
   "cell_type": "markdown",
   "metadata": {},
   "source": [
    "### 课上清理\n",
    "\n",
    "```\n",
    "\n",
    "      用户(老师&学生)                  业务服务端                         框架服务                                    \n",
    "         -------                    ----------                    -----------------         \n",
    "            |                           |                                 |                   \n",
    "            |                           |                a1               |                   \n",
    "            |                           | <-----------------------------| | \n",
    "            |                           |                                 |                   \n",
    "            |        a2                 |                                 |                   \n",
    "            |-------------------------->|             a3                  |                   \n",
    "            |                           |-------------------------------->|                   \n",
    "            |                           |             a4                  |                   \n",
    "            |        a5                 |<------------------------------| |                   \n",
    "            |<--------------------------|                                 |                   \n",
    "            |                           |                                 |                   \n",
    "                                                                                              \n",
    "                                                                                              \n",
    "a1: 每30s上报一次内存情况                                \n",
    "                                                                                              \n",
    "a2: 上课时间, 老师准备上课, 登录网页, 后台根据当前日期时间获取T(x, y)=[3332010301, 3332020302]及需要的资源\n",
    "                                                                                              \n",
    "a3: 如果该节课资源不足, 调用框架接口清理资源, 两种方式:\n",
    "    1. 传给框架需要被清理的任务列表, 框架逐个停止.\n",
    "    2. 传给框架匹配模式[^3332010301*, ^3332020302*, Teac], 框架根据模式自动清理. (^表示非, *表示任意)                                                                                           \n",
    "                                                                                              \n",
    "a4: 框架清理后, 异步方式告知哪些用户的任务被清理掉了.                                                                                              \n",
    "\n",
    "a5: 如果用户属性处于活动(active)状态, 需要友好提示该用户(任务被抢占)\n",
    "\n",
    "```"
   ]
  },
  {
   "cell_type": "markdown",
   "metadata": {},
   "source": [
    "### 资源满足: 课下(后台)正常调度\n",
    "\n",
    "```\n",
    "      用户(老师&学生)                  业务服务端                          框架服务\n",
    "         -------                    ----------                    -----------------\n",
    "            |                           |                a1               |\n",
    "            |                           | <-----------------------------| |\n",
    "            |                           |                                 |\n",
    "            |                           |                                 |\n",
    "            |                           |----+                            |\n",
    "            |                           |    | a2: check T(x, y)          |\n",
    "            |                           |    |                            |\n",
    "            |                           |<---+                            |\n",
    "            |                           |               a3: start         |\n",
    "            |                           |-------------------------------->|\n",
    "            |                           |                                 |\n",
    "            |                           |                                 |\n",
    "            |                           |                                 |\n",
    "            |                           |                                 |\n",
    "\n",
    "\n",
    "a1: 框架周期上报算力资源信息\n",
    "\n",
    "a2: 定时(或者触发方式)根据当前日期时间获取T(x, y), 如果`T(x, y)=[]`, 说明调度表此刻为free状态\n",
    "\n",
    "a3: 资源充足, 获取该区域内的所有用户任务及用户active属性, 并根据算力信息, 进行后台任务调度(active优先)\n",
    "```"
   ]
  },
  {
   "cell_type": "markdown",
   "metadata": {},
   "source": [
    "### 资源不足: 课下(后台)抢占调度\n",
    "\n",
    "```\n",
    "      用户(老师&学生)                 业务服务端                          框架服务\n",
    "         -------                    ----------                    -----------------\n",
    "            |                           |                a1               |\n",
    "     active |                           | <-----------------------------| |\n",
    "            |                           |                                 |\n",
    "            |                           |                                 |\n",
    "            |                           |----+                            |\n",
    "            |                           |    | a2: check T(x,y)           |\n",
    "            |                           |    |                            |\n",
    "            |                           |<---+                            |\n",
    "            |                           |                                 |\n",
    "            |                      +----|                                 |\n",
    "            |          a3: active  |    |                                 |\n",
    "            |                      |    |                                 |\n",
    "            |                      +--->|               a4: pause         |\n",
    "            |                           | ------------------------------> |\n",
    "            |                           |      xxx: paused                |\n",
    "            |                           | <-----------------------------| |\n",
    "            |                           |                                 |\n",
    "            |                           |               a5: start         |\n",
    "            |                           | ------------------------------> |\n",
    "            |                           |                                 |\n",
    "            |                           | <-----------------------------| |\n",
    "            |                           |                                 |\n",
    "\n",
    "\n",
    "a1: 框架周期上报算力资源信息\n",
    "\n",
    "a2: 定时(或者触发方式)根据当前日期时间获取T(x, y), 如果`T(x, y)=[]`, 说明调度表此刻为free状态\n",
    "\n",
    "a3: 资源不足, 且用户状态为active时, 查询该区域所有unactive状态的后台任务\n",
    "\n",
    "a4: 根据资源需要情况进行puase(抢占)掉unactive用户状态的后台任务, 为active用户任务准备资源\n",
    "\n",
    "a5: 资源满足, 启动active用户的任务\n",
    "\n",
    "```"
   ]
  },
  {
   "cell_type": "markdown",
   "metadata": {},
   "source": [
    "## 调度表 "
   ]
  },
  {
   "cell_type": "markdown",
   "metadata": {},
   "source": [
    "### 课表时间安排"
   ]
  },
  {
   "cell_type": "code",
   "execution_count": 1,
   "metadata": {
    "ExecuteTime": {
     "end_time": "2020-08-04T08:17:09.267840Z",
     "start_time": "2020-08-04T08:17:09.242476Z"
    }
   },
   "outputs": [
    {
     "data": {
      "text/markdown": [
       "\n",
       "| 节 | 时间 |\n",
       "|:---: | :---: |\n",
       "|<img width=\"200px\"/> | <img width=\"600px\"/> |\n",
       "|1|08:10-08:50\n",
       "|2|09:00-09:40\n",
       "|3|10:00-10:40\n",
       "|4|10:50-11:30\n",
       "|5|14:10-14:50\n",
       "|6|15:00-15:30\n"
      ],
      "text/plain": [
       "<IPython.core.display.Markdown object>"
      ]
     },
     "execution_count": 1,
     "metadata": {},
     "output_type": "execute_result"
    }
   ],
   "source": [
    "from IPython.display import Markdown\n",
    "import time\n",
    "\n",
    "timetable = (\n",
    "    (1, \"08:10-08:50\"),\n",
    "    (2, \"09:00-09:40\"),\n",
    "    (3, \"10:00-10:40\"),\n",
    "    (4, \"10:50-11:30\"),\n",
    "    (5, \"14:10-14:50\"),\n",
    "    (6, \"15:00-15:30\")\n",
    ")\n",
    "\n",
    "mdtable = '''\n",
    "| 节 | 时间 |\n",
    "|:---: | :---: |\n",
    "|<img width=\"200px\"/> | <img width=\"600px\"/> |\n",
    "'''\n",
    "\n",
    "for y, timestr in timetable:\n",
    "    mdtable += f'|{y}|{timestr}\\n'\n",
    "    \n",
    "Markdown(mdtable)"
   ]
  },
  {
   "cell_type": "markdown",
   "metadata": {},
   "source": [
    "### 课表班级安排"
   ]
  },
  {
   "cell_type": "code",
   "execution_count": 2,
   "metadata": {
    "ExecuteTime": {
     "end_time": "2020-08-04T08:17:09.634597Z",
     "start_time": "2020-08-04T08:17:09.271427Z"
    }
   },
   "outputs": [
    {
     "data": {
      "text/markdown": [
       "\n",
       "时间 | 节 | 星期一 | 星期二 | 星期三 | 星期四 | 星期五 | 星期六 | 星期日\n",
       ":---:|:---:|:---:|:---:|:---:|:---:|:---:|:---:|:---:\n",
       "<img width=80px/>|<img width=80px/>|<img width=80px/>|<img width=80px/>|<img width=80px/>|<img width=80px/>|<img width=80px/>|<img width=80px/>|<img width=80px/>|\n",
       "08:10-08:50|1|[      ]|[      ]|[      ]|['7030303']|[      ]|[      ]|[      ]\n",
       "09:00-09:40|2|['7010301']|[      ]|[      ]|[      ]|['7020304']|[      ]|[      ]\n",
       "10:00-10:40|3|[      ]|['7010303']|[      ]|[      ]|[      ]|[      ]|[      ]\n",
       "10:50-11:30|4|[      ]|['7020302']|[      ]|[      ]|[      ]|[      ]|[      ]\n",
       "14:10-14:50|5|['7010302', '7020301']|[      ]|['7020303', '7030302']|[      ]|['7030304']|[      ]|[      ]\n",
       "15:00-15:30|6|[      ]|['7010304', '7030301']|[      ]|[      ]|[      ]|[      ]|[      ]\n"
      ],
      "text/plain": [
       "<IPython.core.display.Markdown object>"
      ]
     },
     "execution_count": 2,
     "metadata": {},
     "output_type": "execute_result"
    }
   ],
   "source": [
    "schedtable = (\n",
    "    (1, 2, ['7010301']),\n",
    "    (1, 5, ['7010302', '7020301']),\n",
    "    (2, 3, ['7010303']),\n",
    "    (2, 4, ['7020302']),\n",
    "    (2, 6, ['7010304', '7030301']),\n",
    "    (3, 5, ['7020303', '7030302']),\n",
    "    (4, 1, ['7030303']),\n",
    "    (5, 2, ['7020304']),\n",
    "    (5, 5, ['7030304']),\n",
    ") \n",
    "\n",
    "mdtable = '''\n",
    "时间 | 节 | 星期一 | 星期二 | 星期三 | 星期四 | 星期五 | 星期六 | 星期日\n",
    ":---:|:---:|:---:|:---:|:---:|:---:|:---:|:---:|:---:\n",
    "'''\n",
    "\n",
    "for imgwd in range(9):\n",
    "    mdtable += '<img width=80px/>|'\n",
    "mdtable +='\\n'\n",
    "for y, timestr in timetable:\n",
    "    mdtable += f'{timestr}|{y}'\n",
    "    for x in (1, 2, 3, 4, 5, 6, 0):\n",
    "        cs = []\n",
    "        for x_, y_, cs_ in schedtable:\n",
    "            if x_ == x and y_ == y:\n",
    "                cs = cs_\n",
    "                break\n",
    "        if len(cs) == 0:\n",
    "            mdtable += '|[      ]'\n",
    "        else:\n",
    "            mdtable += '|{}'.format(cs)\n",
    "    mdtable += '\\n'    \n",
    "Markdown(mdtable)"
   ]
  },
  {
   "cell_type": "markdown",
   "metadata": {},
   "source": [
    "### API: 初始化T(x, y)"
   ]
  },
  {
   "cell_type": "code",
   "execution_count": 3,
   "metadata": {
    "ExecuteTime": {
     "end_time": "2020-08-04T08:17:09.653473Z",
     "start_time": "2020-08-04T08:17:09.639223Z"
    }
   },
   "outputs": [
    {
     "data": {
      "text/plain": [
       "[(1, 810, 850),\n",
       " (2, 900, 940),\n",
       " (3, 1000, 1040),\n",
       " (4, 1050, 1130),\n",
       " (5, 1410, 1450),\n",
       " (6, 1500, 1530)]"
      ]
     },
     "execution_count": 3,
     "metadata": {},
     "output_type": "execute_result"
    }
   ],
   "source": [
    "start_end_timing = []\n",
    "for y, timestr in timetable:\n",
    "    ss, es = timestr.replace(':', '').split('-')\n",
    "    start_end_timing.append((y, int(ss), int(es)))\n",
    "start_end_timing"
   ]
  },
  {
   "cell_type": "code",
   "execution_count": 4,
   "metadata": {
    "ExecuteTime": {
     "end_time": "2020-08-04T08:17:09.676283Z",
     "start_time": "2020-08-04T08:17:09.657934Z"
    }
   },
   "outputs": [
    {
     "data": {
      "text/plain": [
       "[[[], [], [], [], [], [], []],\n",
       " [[], [], ['7010301'], [], [], ['7010302', '7020301'], []],\n",
       " [[], [], [], ['7010303'], ['7020302'], [], ['7010304', '7030301']],\n",
       " [[], [], [], [], [], ['7020303', '7030302'], []],\n",
       " [[], ['7030303'], [], [], [], [], []],\n",
       " [[], [], ['7020304'], [], [], ['7030304'], []],\n",
       " [[], [], [], [], [], [], []]]"
      ]
     },
     "execution_count": 4,
     "metadata": {},
     "output_type": "execute_result"
    }
   ],
   "source": [
    "def InitTxy(schedtable):\n",
    "    Y = 0\n",
    "    for _, y, _ in schedtable:\n",
    "        if y > Y:\n",
    "            Y = y\n",
    "    # 初始化空表\n",
    "    T = [[[] for _ in range(Y+1)] for _ in range(7)]\n",
    "    # 课程\n",
    "    for x, y, cs in schedtable:\n",
    "        T[x][y] = cs\n",
    "        \n",
    "    return T\n",
    "T = InitTxy(schedtable)\n",
    "T"
   ]
  },
  {
   "cell_type": "markdown",
   "metadata": {},
   "source": [
    "### API: 计算给定日期的T(x, y)"
   ]
  },
  {
   "cell_type": "code",
   "execution_count": 5,
   "metadata": {
    "ExecuteTime": {
     "end_time": "2020-08-04T08:17:09.700861Z",
     "start_time": "2020-08-04T08:17:09.679882Z"
    }
   },
   "outputs": [
    {
     "name": "stdout",
     "output_type": "stream",
     "text": [
      "2 1617 T(0,0)\n"
     ]
    },
    {
     "data": {
      "text/plain": [
       "((6, '15:00-15:30'),\n",
       " (5, '14:10-14:50'),\n",
       " (4, '10:50-11:30'),\n",
       " (3, '10:00-10:40'),\n",
       " (2, '09:00-09:40'),\n",
       " (1, '08:10-08:50'))"
      ]
     },
     "execution_count": 5,
     "metadata": {},
     "output_type": "execute_result"
    }
   ],
   "source": [
    "def Date2Txy(T, timetable, timesecs=None):\n",
    "    if timesecs is None:\n",
    "        timesecs = time.time()\n",
    "    xystr = time.strftime('%w %H%M', time.localtime(timesecs))\n",
    "    xstr, ystr = xystr.split()\n",
    "    x, y, yint = int(xstr), 0, int(ystr)\n",
    "    for c, st, et in timetable[::-1]: # reverse order\n",
    "        if yint >= st:\n",
    "            y = c if yint < et else 0\n",
    "            break\n",
    "    if y == 0:\n",
    "        x = 0\n",
    "    print(xystr, f'T({x},{y})')\n",
    "    return T[x][y]\n",
    "Date2Txy(T, start_end_timing)\n",
    "timetable[::-1]"
   ]
  },
  {
   "cell_type": "markdown",
   "metadata": {},
   "source": [
    "#### 测试"
   ]
  },
  {
   "cell_type": "code",
   "execution_count": 6,
   "metadata": {
    "ExecuteTime": {
     "end_time": "2020-08-04T08:17:09.737978Z",
     "start_time": "2020-08-04T08:17:09.704959Z"
    }
   },
   "outputs": [
    {
     "name": "stdout",
     "output_type": "stream",
     "text": [
      "1 0806 T(0,0)\n",
      "2020-07-20 08:06:05 []\n",
      "4 0810 T(4,1)\n",
      "2020-07-23 08:10:05 ['7030303']\n",
      "1 0851 T(0,0)\n",
      "2020-07-20 08:51:05 []\n",
      "1 0906 T(1,2)\n",
      "2020-07-20 09:06:05 ['7010301']\n",
      "3 0953 T(0,0)\n",
      "2020-07-15 09:53:05 []\n",
      "2 1016 T(2,3)\n",
      "2020-07-21 10:16:05 ['7010303']\n",
      "2 1122 T(2,4)\n",
      "2020-07-21 11:22:05 ['7020302']\n",
      "6 1221 T(0,0)\n",
      "2020-07-18 12:21:05 []\n",
      "1 1423 T(1,5)\n",
      "2020-07-20 14:23:05 ['7010302', '7020301']\n",
      "3 1458 T(0,0)\n",
      "2020-07-22 14:58:05 []\n",
      "2 1527 T(2,6)\n",
      "2020-07-21 15:27:05 ['7010304', '7030301']\n",
      "1 1727 T(0,0)\n",
      "2020-07-13 17:27:05 []\n"
     ]
    }
   ],
   "source": [
    "test_times = (\n",
    "    \"2020-07-20 08:06:05\",  # T(0, 0)\n",
    "    \"2020-07-23 08:10:05\",  # T(4, 1)\n",
    "    \"2020-07-20 08:51:05\",  # T(0, 0)\n",
    "    \"2020-07-20 09:06:05\",  # T(1, 2)\n",
    "    \"2020-07-15 09:53:05\",  # T(0, 0)\n",
    "    \"2020-07-21 10:16:05\",  # T(2, 3)\n",
    "    \"2020-07-21 11:22:05\",  # T(2, 4)\n",
    "    \"2020-07-18 12:21:05\",  # T(0, 0)\n",
    "    \"2020-07-20 14:23:05\",  # T(1, 5)\n",
    "    \"2020-07-22 14:58:05\",  # T(0, 0)\n",
    "    \"2020-07-21 15:27:05\",  # T(2, 6)\n",
    "    \"2020-07-13 17:27:05\",  # T(0, 0)\n",
    ")\n",
    "\n",
    "for timestr in test_times:\n",
    "    print(timestr, Date2Txy(T, start_end_timing, time.mktime(time.strptime(timestr,'%Y-%m-%d %H:%M:%S'))))"
   ]
  },
  {
   "cell_type": "markdown",
   "metadata": {},
   "source": [
    "## 调度系统设计"
   ]
  },
  {
   "cell_type": "markdown",
   "metadata": {},
   "source": [
    "### 区域信息模板"
   ]
  },
  {
   "cell_type": "code",
   "execution_count": 7,
   "metadata": {
    "ExecuteTime": {
     "end_time": "2020-08-04T08:17:09.767483Z",
     "start_time": "2020-08-04T08:17:09.741325Z"
    }
   },
   "outputs": [],
   "source": [
    "# 区域信息\n",
    "REGIONS = {\n",
    "    # 地区101\n",
    "    '101': {\n",
    "        'time_table': { # 时间表\n",
    "            # 第一节课: [开始时间, 结束时间]\n",
    "            1: ['08:10', '08:50'],\n",
    "            2: ['09:00', '09:40'],\n",
    "            3: ['10:00', '10:40'],\n",
    "            4: ['10:50', '11:30'],\n",
    "            5: ['14:10', '14:50'],\n",
    "            6: ['15:00', '16:00']\n",
    "        },\n",
    "        'class_table': { # 课程表\n",
    "            # 星期一\n",
    "            1: {\n",
    "                # 第２节课\n",
    "                2: ['7010301'],\n",
    "                # 第5节课\n",
    "                5: ['7010302', '7020301'],\n",
    "            },\n",
    "            # 星期二\n",
    "            2: {\n",
    "                3: ['7010303'],\n",
    "                4: ['7020302'],\n",
    "                6: ['7010304', '7030301'],\n",
    "            },\n",
    "            # 星期三\n",
    "            3: {\n",
    "                5: ['7020303', '7030302'],\n",
    "            },\n",
    "            # 星期四\n",
    "            4: {\n",
    "                1: ['7030303'],\n",
    "            },\n",
    "            # 星期五\n",
    "            5: {\n",
    "                2: ['7020304'],\n",
    "                5: ['7030304'],\n",
    "            },\n",
    "        },\n",
    "        # 用户列表\n",
    "        'user_list': [\n",
    "            '1017010301001',\n",
    "            '1017010301002',\n",
    "            '1017010302001',\n",
    "            '1017010302002',\n",
    "            '1017010303001',\n",
    "            '1017010303002',\n",
    "            '1017010304001',\n",
    "            '1017010304002',\n",
    "            \n",
    "            '1017020301001',\n",
    "            '1017020301002',\n",
    "            '1017020302001',\n",
    "            '1017020302002',\n",
    "            '1017020303001',\n",
    "            '1017020303002',\n",
    "            '1017020304001',\n",
    "            '1017020304002',\n",
    "            \n",
    "            '1017030301001',\n",
    "            '1017030301002',\n",
    "            '1017030302001',\n",
    "            '1017030302002',\n",
    "            '1017030303001',\n",
    "            '1017030303002',\n",
    "            '1017030304001',\n",
    "            '1017030304002',\n",
    "        ],\n",
    "        # GPU服务器节点\n",
    "        'server_nodes': [\n",
    "            '10.255.0.58:8119',\n",
    "            '10.255.0.202:8119',\n",
    "        ]\n",
    "    },\n",
    "    # 地区102\n",
    "    '102': {\n",
    "        'time_table': { # 时间表\n",
    "            1: ['08:10', '08:50'],\n",
    "            2: ['09:00', '09:40'],\n",
    "            3: ['10:00', '10:40'],\n",
    "            4: ['10:50', '11:30'],\n",
    "            5: ['14:10', '14:50'],\n",
    "            6: ['15:00', '15:30']\n",
    "        },\n",
    "        'class_table': { # 课程表\n",
    "            1: {\n",
    "                2: ['5010301'],\n",
    "                4: ['5020302'],\n",
    "                5: ['5010302', '5020301'],\n",
    "            },\n",
    "            2: {\n",
    "                6: ['5010304', '5030301'],\n",
    "            },\n",
    "            3: {\n",
    "                3: ['5010303'],\n",
    "                5: ['5020303', '5030302'],\n",
    "            },\n",
    "            4: {\n",
    "                1: ['5030303'],\n",
    "                2: ['5020304'],\n",
    "            },\n",
    "            5: {\n",
    "                5: ['5030304'],\n",
    "            },\n",
    "        },\n",
    "        # 用户列表\n",
    "        'user_list': [\n",
    "            '1025010301001',\n",
    "            '1025010301002',\n",
    "            '1025010302001',\n",
    "            '1025010302002',\n",
    "            '1025010303001',\n",
    "            '1025010303002',\n",
    "            '1025010304001',\n",
    "            '1025010304002',\n",
    "            \n",
    "            '1025020301001',\n",
    "            '1025020301002',\n",
    "            '1025020302001',\n",
    "            '1025020302002',\n",
    "            '1025020303001',\n",
    "            '1025020303002',\n",
    "            '1025020304001',\n",
    "            '1025020304002',\n",
    "            \n",
    "            '1025030301001',\n",
    "            '1025030301002',\n",
    "            '1025030302001',\n",
    "            '1025030302002',\n",
    "            '1025030303001',\n",
    "            '1025030303002',\n",
    "            '1025030304001',\n",
    "            '1025030304002',\n",
    "        ],\n",
    "        # GPU服务器节点\n",
    "        'server_nodes': [\n",
    "            '10.255.0.201:8119',\n",
    "        ]\n",
    "    }\n",
    "}\n",
    "# REGIONS"
   ]
  },
  {
   "cell_type": "markdown",
   "metadata": {},
   "source": [
    "#### 区域101课程时间表"
   ]
  },
  {
   "cell_type": "code",
   "execution_count": 8,
   "metadata": {
    "ExecuteTime": {
     "end_time": "2020-08-04T08:17:09.784658Z",
     "start_time": "2020-08-04T08:17:09.771753Z"
    }
   },
   "outputs": [
    {
     "data": {
      "text/markdown": [
       "\n",
       "| 节 | 时间 |\n",
       "|:---: | :---: |\n",
       "|<img width=\"200px\"/> | <img width=\"600px\"/> |\n",
       "|1|['08:10', '08:50']\n",
       "|2|['09:00', '09:40']\n",
       "|3|['10:00', '10:40']\n",
       "|4|['10:50', '11:30']\n",
       "|5|['14:10', '14:50']\n",
       "|6|['15:00', '16:00']\n"
      ],
      "text/plain": [
       "<IPython.core.display.Markdown object>"
      ]
     },
     "execution_count": 8,
     "metadata": {},
     "output_type": "execute_result"
    }
   ],
   "source": [
    "timetable = REGIONS['101']['time_table']\n",
    "\n",
    "mdtable = '''\n",
    "| 节 | 时间 |\n",
    "|:---: | :---: |\n",
    "|<img width=\"200px\"/> | <img width=\"600px\"/> |\n",
    "'''\n",
    "\n",
    "for clsid, timestr in timetable.items():\n",
    "    mdtable += f'|{clsid}|{timestr}\\n'\n",
    "Markdown(mdtable)"
   ]
  },
  {
   "cell_type": "markdown",
   "metadata": {},
   "source": [
    "#### 区域101课程安排表"
   ]
  },
  {
   "cell_type": "code",
   "execution_count": 9,
   "metadata": {
    "ExecuteTime": {
     "end_time": "2020-08-04T08:17:09.801714Z",
     "start_time": "2020-08-04T08:17:09.787844Z"
    },
    "scrolled": true
   },
   "outputs": [
    {
     "data": {
      "text/markdown": [
       "\n",
       "节 | 星期一 | 星期二 | 星期三 | 星期四 | 星期五 | 星期六 | 星期日\n",
       ":---:|:---:|:---:|:---:|:---:|:---:|:---:|:---:\n",
       "<img width=80px/>|<img width=80px/>|<img width=80px/>|<img width=80px/>|<img width=80px/>|<img width=80px/>|<img width=80px/>|<img width=80px/>|\n",
       "1|[]|[]|[]|['7030303']|[]|[]|[]\n",
       "2|['7010301']|[]|[]|[]|['7020304']|[]|[]\n",
       "3|[]|['7010303']|[]|[]|[]|[]|[]\n",
       "4|[]|['7020302']|[]|[]|[]|[]|[]\n",
       "5|['7010302', '7020301']|[]|['7020303', '7030302']|[]|['7030304']|[]|[]\n",
       "6|[]|['7010304', '7030301']|[]|[]|[]|[]|[]\n"
      ],
      "text/plain": [
       "<IPython.core.display.Markdown object>"
      ]
     },
     "execution_count": 9,
     "metadata": {},
     "output_type": "execute_result"
    }
   ],
   "source": [
    "schedtable = REGIONS['101']['class_table']\n",
    "\n",
    "mdtable = '''\n",
    "节 | 星期一 | 星期二 | 星期三 | 星期四 | 星期五 | 星期六 | 星期日\n",
    ":---:|:---:|:---:|:---:|:---:|:---:|:---:|:---:\n",
    "'''\n",
    "\n",
    "for imgwd in range(8):\n",
    "    mdtable += '<img width=80px/>|'\n",
    "mdtable +='\\n'\n",
    "\n",
    "mat = [[[] for _ in range(7)] for _ in range(6)]\n",
    "for w, cinfo in schedtable.items():\n",
    "    for clsid, clses in cinfo.items():\n",
    "        mat[clsid-1][w-1] = clses\n",
    "        \n",
    "for idx, row in enumerate(mat, 1):\n",
    "    mdtable += f'{idx}'\n",
    "    for it in row:\n",
    "        mdtable += '|{}'.format(it)\n",
    "    mdtable += '\\n'\n",
    "            \n",
    "Markdown(mdtable)"
   ]
  },
  {
   "cell_type": "markdown",
   "metadata": {},
   "source": [
    "### 消息分发及处理接口"
   ]
  },
  {
   "cell_type": "code",
   "execution_count": 10,
   "metadata": {
    "ExecuteTime": {
     "end_time": "2020-08-04T08:17:11.840788Z",
     "start_time": "2020-08-04T08:17:09.804573Z"
    }
   },
   "outputs": [],
   "source": [
    "from k12libs.utils.nb_easy import k12ai_train_execute\n",
    "from typing import Optional, Union\n",
    "from schedule import Scheduler\n",
    "from abc import ABC, abstractmethod\n",
    "from threading import Thread\n",
    "import requests\n",
    "import redis\n",
    "import time\n",
    "import json\n",
    "\n",
    "DEBUG = True\n",
    "\n",
    "if DEBUG:\n",
    "    ROBBED_USERS = []\n",
    "    \n",
    "K12AI_DEFAULT_SERVER='10.255.0.58:8119'\n",
    "REDIS_HOST='10.255.0.58'\n",
    "REDIS_PORT=10090\n",
    "\n",
    "class IMessageDispatcher(ABC):\n",
    "    @abstractmethod\n",
    "    def dispatch_message(message:dict):\n",
    "        \"\"\"\n",
    "        (M) 分发消息\n",
    "        \"\"\"\n",
    "\n",
    "class IMessageHandler(ABC):\n",
    "    @abstractmethod\n",
    "    def handle_message(message:dict):\n",
    "        \"\"\"\n",
    "        (M) 处理消息\n",
    "        \"\"\""
   ]
  },
  {
   "cell_type": "markdown",
   "metadata": {},
   "source": [
    "### 远端框架RestAPI"
   ]
  },
  {
   "cell_type": "code",
   "execution_count": 11,
   "metadata": {
    "ExecuteTime": {
     "end_time": "2020-08-04T08:17:11.868145Z",
     "start_time": "2020-08-04T08:17:11.844675Z"
    }
   },
   "outputs": [],
   "source": [
    "class RemoteAPI(object):\n",
    "    @staticmethod\n",
    "    def restapi_post(server, uri, data):\n",
    "        api = 'http://%s/%s' % (server, uri)\n",
    "        try:\n",
    "            response = requests.post(url=api, json=data, timeout=10)\n",
    "            result = json.loads(response.text)\n",
    "            print(result)\n",
    "            if 'error' in result:\n",
    "                return None\n",
    "            return result\n",
    "        except Exception as err:\n",
    "            print('{}'.format(err))\n",
    "            return None\n",
    "    \n",
    "    @staticmethod\n",
    "    def k12ai_get_task(server, user='*', uuid='*'):\n",
    "        \"\"\"\n",
    "        获取所给节点下运行的用户任务\n",
    "        \n",
    "        Args:\n",
    "            server: GPU服务器节点\n",
    "            user: 指定用户ID, 不指定获取所有\n",
    "            uuid: 指定任务ID, 不指定获取所有\n",
    "            \n",
    "        Return:\n",
    "            response: 框架返回执行结果\n",
    "        \"\"\"\n",
    "        \n",
    "        data = {\n",
    "            'op': 'query',\n",
    "            'user': user,\n",
    "            'service_uuid': uuid,\n",
    "            'service_params': {'services': True},\n",
    "            'async': False\n",
    "        }\n",
    "        task_list = []\n",
    "        response  = RemoteAPI.restapi_post(server, 'k12ai/platform/stats', data)\n",
    "        print(response)\n",
    "        if response: \n",
    "            for info in response['data']['services']:\n",
    "                task_list.append(info)\n",
    "        return task_list\n",
    "\n",
    "    @staticmethod\n",
    "    def k12ai_rob_task(server, user, uuid):\n",
    "        \"\"\"\n",
    "        停止(抢占资源)任务\n",
    "        \n",
    "        Args:\n",
    "            server: GPU服务器\n",
    "            user: 指定用户ID, 不指定获取所有\n",
    "            uuid: 指定任务ID, 不指定获取所有\n",
    "            \n",
    "        Return:\n",
    "            response: 框架返回执行结果\n",
    "        \"\"\"\n",
    "        \n",
    "        data = {\n",
    "            'token': '123456',\n",
    "            'op': 'train.rob',\n",
    "            'user': user,\n",
    "            'service_name': 'k12cv',\n",
    "            'service_uuid': uuid,  \n",
    "        }\n",
    "        \n",
    "        if DEBUG: # 调试 记录被强制停止的用户任务\n",
    "            ROBBED_USERS.append({\n",
    "                'user': user,\n",
    "                'uuid': uuid,\n",
    "                'server': server\n",
    "            })\n",
    "        return RemoteAPI.restapi_post(server, 'k12ai/framework/execute', data)\n",
    "    \n",
    "    @staticmethod\n",
    "    def k12ai_run_task(server, user, uuid):\n",
    "        \"\"\"\n",
    "        启动任务(状态为robbed)\n",
    "        \n",
    "        Args:\n",
    "            server: GPU服务器\n",
    "            user: 指定用户ID, 不指定获取所有 \n",
    "            uuid: 指定任务ID, 不指定获取所有\n",
    "            \n",
    "        Return:\n",
    "            response: 框架返回执行结果\n",
    "        \"\"\"\n",
    "        \n",
    "        data = {\n",
    "            'token': '123456',\n",
    "            'op': 'train.resume',\n",
    "            'user': user,\n",
    "            'service_name': 'k12cv',\n",
    "            'service_uuid': uuid,  \n",
    "        }\n",
    "        if DEBUG: # 调试 启动任务后, 从记录表中移除用户任务\n",
    "            ROBBED_USERS.remove({\n",
    "                'user': user,\n",
    "                'uuid': uuid,\n",
    "                'server': server\n",
    "            })\n",
    "        return RemoteAPI.restapi_post(server, 'k12ai/framework/execute', data)\n",
    "    "
   ]
  },
  {
   "cell_type": "code",
   "execution_count": 12,
   "metadata": {
    "ExecuteTime": {
     "end_time": "2020-08-04T08:17:11.886833Z",
     "start_time": "2020-08-04T08:17:11.870834Z"
    }
   },
   "outputs": [],
   "source": [
    "# 模拟启动用户任务\n",
    "# k12ai_train_execute(user='1017020302001', epoch_num=100)\n",
    "# k12ai_train_execute(user='1017010302001', epoch_num=100)\n",
    "# k12ai_train_execute(user='1017020303001', epoch_num=100)"
   ]
  },
  {
   "cell_type": "code",
   "execution_count": 13,
   "metadata": {
    "ExecuteTime": {
     "end_time": "2020-08-04T08:17:18.998076Z",
     "start_time": "2020-08-04T08:17:11.889184Z"
    }
   },
   "outputs": [
    {
     "name": "stdout",
     "output_type": "stream",
     "text": [
      "{'code': 100000, 'message': {'en': 'success', 'cn': '成功'}, 'data': {'services': [{'id': '164aae2ef438', 'op': 'train.resume', 'user': '1017020303001', 'service_uuid': '211d2c-0', 'service_pid': 12497, 'service_starttime': '2020-08-04T08:16:43.509418874Z'}]}}\n",
      "{'code': 100000, 'message': {'en': 'success', 'cn': '成功'}, 'data': {'services': [{'id': '164aae2ef438', 'op': 'train.resume', 'user': '1017020303001', 'service_uuid': '211d2c-0', 'service_pid': 12497, 'service_starttime': '2020-08-04T08:16:43.509418874Z'}]}}\n",
      "{'code': 100000, 'message': {'en': 'success', 'cn': '成功'}}\n",
      "{'code': 100000, 'message': {'en': 'success', 'cn': '成功'}}\n",
      "{'code': 100000, 'message': {'en': 'success', 'cn': '成功'}}\n",
      "{'code': 100000, 'message': {'en': 'success', 'cn': '成功'}}\n"
     ]
    }
   ],
   "source": [
    "# 测试API\n",
    "task_list = RemoteAPI.k12ai_get_task(K12AI_DEFAULT_SERVER)\n",
    "for info in task_list:\n",
    "    print(RemoteAPI.k12ai_rob_task(K12AI_DEFAULT_SERVER, info['user'], info['service_uuid']))\n",
    "    time.sleep(5)\n",
    "    print(RemoteAPI.k12ai_run_task(K12AI_DEFAULT_SERVER, info['user'], info['service_uuid']))"
   ]
  },
  {
   "cell_type": "markdown",
   "metadata": {},
   "source": [
    "### 实现Redis读取及消息分发"
   ]
  },
  {
   "cell_type": "code",
   "execution_count": 14,
   "metadata": {
    "ExecuteTime": {
     "end_time": "2020-08-04T08:17:19.025205Z",
     "start_time": "2020-08-04T08:17:19.001990Z"
    }
   },
   "outputs": [],
   "source": [
    "class RedisDispatcher(IMessageDispatcher, Thread):\n",
    "    \"\"\"\n",
    "    接收框架传来的消息, 并分发到对应的接收者去处理.\n",
    "    \"\"\"\n",
    "    def __init__(self):\n",
    "        Thread.__init__(self)\n",
    "        super(RedisDispatcher, self).__init__()\n",
    "        class RedisQueue(object):\n",
    "            def __init__(self, host, port, pswd, keys):\n",
    "                self.keys = keys\n",
    "                self.db= redis.StrictRedis(\n",
    "                    host=host,\n",
    "                    port=port,\n",
    "                    password=pswd)\n",
    "\n",
    "            def __next__(self):\n",
    "                return self.db.blpop(self.keys)\n",
    "            \n",
    "        self.queue = RedisQueue(\n",
    "            host=REDIS_HOST,\n",
    "            port=REDIS_PORT,\n",
    "            pswd='qY3Zh4xLPZNMkaz3',\n",
    "            keys=['k12ai.resource', 'k12ai.status'])\n",
    "        self.handlers = {}\n",
    "    \n",
    "    def register_handler(self, msg_type: str, msg_handler: IMessageHandler):\n",
    "        \"\"\"\n",
    "        注册消息处理者\n",
    "        \n",
    "        Args:\n",
    "            msg_type: [M] 接收者关注的消息类型\n",
    "            msg_handler: [M] 消息处理者, 类型必须为IMessageHandler\n",
    "        \"\"\"\n",
    "        \n",
    "        if msg_type not in self.handlers.keys():\n",
    "            self.handlers[msg_type] = []\n",
    "        self.handlers[msg_type].append(msg_handler)\n",
    "        \n",
    "    \n",
    "    def dispatch_message(self, msg: dict) -> None:\n",
    "        \"\"\"\n",
    "        根据不同的消息类型进行分发消息\n",
    "        \n",
    "        Args:\n",
    "            message: 来自框架节点的消息\n",
    "        \"\"\"\n",
    "        \n",
    "        # 检查消息的合法型\n",
    "        if 'type' not in msg.keys():\n",
    "            print(f'message content is not invalid!')\n",
    "            return\n",
    "        \n",
    "        # 根据类型将消息发送到对应的接受者\n",
    "        if msg['type'] in self.handlers.keys():\n",
    "            for x in self.handlers[msg['type']]:\n",
    "                x.handle_message(msg)\n",
    "        \n",
    "    def run(self):\n",
    "        if DEBUG:\n",
    "            i = 5\n",
    "        while True:\n",
    "            item = next(self.queue)\n",
    "            if item and len(item) == 2:\n",
    "                self.dispatch_message(json.loads(item[1]))\n",
    "            if DEBUG:\n",
    "                if i < 0:\n",
    "                    break\n",
    "                i -= 1\n",
    "        print(f'{self.__class__.__name__} instance quit!')"
   ]
  },
  {
   "cell_type": "markdown",
   "metadata": {},
   "source": [
    "### 实现机器调度及消息处理"
   ]
  },
  {
   "cell_type": "code",
   "execution_count": 15,
   "metadata": {
    "ExecuteTime": {
     "end_time": "2020-08-04T08:17:19.112804Z",
     "start_time": "2020-08-04T08:17:19.029575Z"
    }
   },
   "outputs": [],
   "source": [
    "class ServerNodeScheduler(IMessageHandler, Scheduler, Thread):\n",
    "    # 区域信息\n",
    "    REGION_KEYS = [\n",
    "        'time_table',   # 时间表, 每节课的上课时间和结束时间\n",
    "        'class_table',  # 课程表, 每天AI课第几节课上及哪些班级上课\n",
    "        'server_nodes', # 服务器节点, 该区域的学生只能分布在这些机器上运行任务\n",
    "        'user_list'     # 用户列表, 该区域下所有的用户编号\n",
    "    ]\n",
    "    # 规定一天的开始时间, 规定一天的结束时间\n",
    "    MORNING_TIME, EVENING_TIME = '08:00', '18:00',\n",
    "    # 周属性名字\n",
    "    WEEKDAYS = ('sunday', 'monday', 'tuesday',\n",
    "        'wednesday', 'thursday', 'friday', 'saturday')\n",
    "    \n",
    "    CPU_THRESHOLD_MB = 5000\n",
    "    GPU_THRESHOLD_MB = 5000\n",
    "\n",
    "    def __init__(self, regions:dict, remote: RemoteAPI):\n",
    "        Thread.__init__(self)\n",
    "        super(ServerNodeScheduler, self).__init__()\n",
    "        \n",
    "        self._remote = remote\n",
    "        \n",
    "        # IP映射区域码\n",
    "        self._server_code_map = {}\n",
    "        for code, infos in regions.items():\n",
    "            # 检查是否包含全部信息\n",
    "            if any([True for x in infos.keys() if x not in self.REGION_KEYS]):\n",
    "                raise RuntimeError(f'区域-{code}信息缺少必要信息!')               \n",
    "            for node in infos['server_nodes']:\n",
    "                self._server_code_map[node] = code\n",
    "\n",
    "        # 区域调度表\n",
    "        self._stab = self._init_stab(regions)\n",
    "        # 区域定时任务\n",
    "        self._jobs = self._init_jobs(regions)\n",
    "        \n",
    "    def _init_stab(self, regions) -> list:\n",
    "        \"\"\"\n",
    "        初始化调度表STab\n",
    "        \n",
    "        Args:\n",
    "            regions: (M) 区域(dict)信息\n",
    "            \n",
    "        Return:\n",
    "            STab: 课程调度矩阵和课程时间编码 {'mat': [[[]]], 'cls':[()], 'u2n': {}, 'sns':[]}\n",
    "        \"\"\"\n",
    "        \n",
    "        stab = {} \n",
    "        for code, infos in regions.items():\n",
    "            max_clsid = max(infos['time_table'].keys())\n",
    "            # 初始化空调度矩阵\n",
    "            schedtable = [[[] for _ in range(max_clsid+1)] for _ in range(len(self.WEEKDAYS))]\n",
    "            # 填充班级信息\n",
    "            for wday, courses in infos['class_table'].items():\n",
    "                for clsid, clses in courses.items():\n",
    "                    schedtable[wday][clsid] = clses\n",
    "                    \n",
    "            # 字符串时间编码为整型: {1: ['08:10', '08:40']} -> [(1, 810, 840)]\n",
    "            timeencode = []\n",
    "            for clsid, (ststr, etstr) in infos['time_table'].items():\n",
    "                stis, etis = ststr.replace(':', ''), etstr.replace(':', '')\n",
    "                timeencode.append((clsid, int(stis), int(etis)))\n",
    "            # 逆序(优化性能)\n",
    "            timeencode.sort(reverse=True)\n",
    "            \n",
    "            # 用户号映射机器节点\n",
    "            u2n, num = {}, len(infos['server_nodes'])\n",
    "            for idx, userid in enumerate(infos['user_list']):\n",
    "                u2n[userid] = idx % num\n",
    "            \n",
    "            stab[code] = {\n",
    "                'mat': schedtable,            # 对上课下课定时触发\n",
    "                'cls': timeencode,            # 结合mat, 判断当前时间是否有课在上, 拒绝非法用户 \n",
    "                'u2n': u2n,                   # 用户编号转换为对应的机器节点\n",
    "                'sns': infos['server_nodes'], # 该区域下所有机器节点\n",
    "            }\n",
    "            \n",
    "        return stab\n",
    "    \n",
    "    def _everyday(self, wday: Optional[int] = None):\n",
    "        \"\"\"\n",
    "        周一到周日, 创建定时对象, 根据传递的did创建具体周几的对象\n",
    "        \n",
    "        Args:\n",
    "            wday: (O), 0-6分别表示周日, 周一到周六\n",
    "            \n",
    "        Return:\n",
    "            Job: job对象\n",
    "        \"\"\"\n",
    "        \n",
    "        if wday:\n",
    "            return getattr(self.every(), self.WEEKDAYS[wday])\n",
    "        else:\n",
    "            return self.every().day\n",
    "    \n",
    "    def _init_jobs(self, regions) -> list:\n",
    "        \"\"\"\n",
    "        初始化定时(cron)调度任务\n",
    "        \n",
    "        Args:\n",
    "            regions: (M) 区域(dict)信息\n",
    "        \"\"\"\n",
    "        \n",
    "        if DEBUG: # 调试\n",
    "            today = time.localtime(time.time())\n",
    "            MORNING_TIME = time.strftime('%H:%M:%S', time.localtime(time.time() +  2))\n",
    "            EVENING_TIME = time.strftime('%H:%M:%S', time.localtime(time.time() + 12)) \n",
    "            stime = time.strftime('%H:%M:%S', time.localtime(time.time() + 60 - today.tm_sec))\n",
    "            etime = time.strftime('%H:%M:%S', time.localtime(time.time() + 96 - today.tm_sec))\n",
    "            print(f'早上时间:{MORNING_TIME} 晚上时间:{EVENING_TIME} 上课时间:{stime} 下课时间:{etime}')\n",
    "            self._everyday().at(MORNING_TIME).do(\n",
    "                lambda *args: self.on_good_morning(*args))\n",
    "            self._everyday().at(EVENING_TIME).do(\n",
    "                lambda *args: self.on_good_evening(*args))\n",
    "            self._everyday(today.tm_wday+1).at(stime).do(\n",
    "                lambda *args: self.on_attend_class(*args),\n",
    "                101, ['7010304'], ['10.255.0.58:8119'])\n",
    "            self._everyday(today.tm_wday+1).at(etime).do(\n",
    "                lambda *args: self.on_finish_class(*args),\n",
    "                101, ['7010304'], ['10.255.0.58:8119'])\n",
    "            return\n",
    "        \n",
    "        self._everyday().at(MORNING_TIME).do(\n",
    "            lambda *args: self.on_good_morning(*args))\n",
    "        self._everyday().at(EVENING_TIME).do(\n",
    "            lambda *args: self.on_good_evening(*args))\n",
    "        \n",
    "        for code, infos in regions.items():\n",
    "            nodes = infos['server_nodes']\n",
    "            for wday, courses in infos['class_table'].items():\n",
    "                for clsid, clses in courses.items(): # 第几节课, 哪些班\n",
    "                    stime, etime = infos['time_table'][clsid] # 上课时间, 下课时间\n",
    "                    # 注册上课时准备任务\n",
    "                    self._everyday(wday).at(stime).do(\n",
    "                        lambda *args: self.on_attend_class(*args),\n",
    "                        code, clses, nodes)\n",
    "                    # 注册下课后处理任务\n",
    "                    self._everykday(wday).at(etime).do(\n",
    "                        lambda *args: self.on_finish_class(*args),\n",
    "                        code, clses, nodes)\n",
    "                    \n",
    "        # parent property\n",
    "        return self.jobs\n",
    "    \n",
    "    def _stab_mat_classes(self, region_code, timesecs=None) -> list:\n",
    "        \"\"\"\n",
    "        获取当前(或指定)时间下调度矩阵的上课班级\n",
    "        \n",
    "        Args:\n",
    "            region_code: 区域码\n",
    "            timesecs: (O) 时间秒, 如果不传使用当前时间\n",
    "            \n",
    "        Return:\n",
    "            classes: 班级列表或者空列表[]\n",
    "        \"\"\"\n",
    "        \n",
    "        # 检测区域码\n",
    "        if region_code not in self._stab.keys():\n",
    "            raise RuntimeError('区域码错误!')\n",
    "        stab = self._stab[region_code]\n",
    "        \n",
    "        # 时间编码\n",
    "        if timesecs is None:\n",
    "            timesecs = time.time()\n",
    "        ltime = time.localtime(timesecs)\n",
    "        ytime = ltime.tm_hour*100 + ltime.tm_min\n",
    "        \n",
    "        # 判断当前属于哪节课\n",
    "        for c, st, et in stab['cls']:\n",
    "            if ytime >= st:\n",
    "                if ytime < et:\n",
    "                    return stab['mat'][ltime.tm_wday+1][c]\n",
    "                return []\n",
    "        return []\n",
    "    \n",
    "    def _stab_status_free(self, region_code, timesecs=None) -> bool:\n",
    "        \"\"\"\n",
    "        检测当前(或指定)时间下调度表的状态(busy or free)是否空闲\n",
    "        \n",
    "        Args:\n",
    "            region_code: 区域码\n",
    "            timesecs: (O) 时间秒, 如果不传使用当前时间\n",
    "            \n",
    "        Return:\n",
    "            bool\n",
    "        \"\"\"\n",
    "        return 0 == len(self._stab_mat_classes(region_code, timesecs))\n",
    "                    \n",
    "    def on_good_morning(self):\n",
    "        \"\"\"\n",
    "        一天的开始, 处理这一天的预备事务\n",
    "        \"\"\"\n",
    "        print('早上好')\n",
    "    \n",
    "    def on_good_evening(self):\n",
    "        \"\"\"\n",
    "        一天的结束, 处理这一天的清理事务\n",
    "        \"\"\"\n",
    "        print('晚上好')\n",
    "        \n",
    "    def on_attend_class(self, region_code, class_list, server_nodes):\n",
    "        \"\"\"\n",
    "        上课事件, 将非上课班级的学生资源释放掉\n",
    "        \n",
    "        Args:\n",
    "            region_code: 区域码\n",
    "            class_list: 班级列表\n",
    "            server_nodes: 该区域的训练机器\n",
    "        \"\"\"\n",
    "        print(\"上课事件\", region_code, class_list, server_nodes)\n",
    "        \n",
    "        for server in server_nodes:\n",
    "            for info in self._remote.k12ai_get_task(server):\n",
    "                user = info['user']\n",
    "                uuid = info['service_uuid']\n",
    "                code, cls = user[:3], user[3:10]\n",
    "                # 非上课班级的用户, 强制抢占\n",
    "                if code != region_code or cls not in class_list:\n",
    "                    self._remote.k12ai_rob_task(server, user, uuid)\n",
    "                    print(f'任务({server}/{user}/{uuid})被抢占')\n",
    "    \n",
    "    def on_finish_class(self, region_code, class_list, server_nodes):\n",
    "        \"\"\"\n",
    "        下课事件, 可以启动一些被抢占的任务(robbed)执行, 暂时可以不处理\n",
    "        \n",
    "        Args:\n",
    "            region_code: 区域码\n",
    "            class_list: 班级列表\n",
    "            server_nodes: 该区域的训练机器\n",
    "        \"\"\"\n",
    "        print('下课事件', region_code, class_list, server_nodes)\n",
    "        \n",
    "    def handle_message(self, message):\n",
    "        \"\"\"\n",
    "        接收来自框架发来的服务节点的资源信息(CPU, GPU的使用情况), 如果资源充足, 启动robbed任务\n",
    "        \"\"\"\n",
    "        \n",
    "        print(message)\n",
    "        \n",
    "        server = message['server']\n",
    "        data = message['data']['data']\n",
    "        \n",
    "        # 检查消息的合法性\n",
    "        if not all(x in data.keys() for x in ('cpu_memory_free_MB', 'gpus')):\n",
    "            print('消息缺少关键内容')\n",
    "            return\n",
    "        if 'gpu_memory_free_MB' not in data['gpus']:\n",
    "            print('消息缺少关键内容')\n",
    "            return\n",
    "        \n",
    "        # 判断资源是否充足\n",
    "        cpu_free_mb = data['cpu_memory_free_MB']\n",
    "        gpu_free_mb = data['gpus']['gpu_memory_free_MB']\n",
    "        if gpu_free_mb < self.GPU_THRESHOLD_MB and cpu_free_mb < self.CPU_THRESHOLD_MB:\n",
    "            print('资源不足, 不做处理')\n",
    "            return\n",
    "        \n",
    "        # 判断是否可以启动robbed任务(当前没有班级正在上课)\n",
    "        region_code = self._server_code_map.get(server, None)\n",
    "        if not (region_code and self._stab_status_free(region_code)):\n",
    "            print('服务器不在任何区域内或者当前调度课程繁忙(在上课)')\n",
    "            return\n",
    "        \n",
    "        # 查询一个robbed状态的用户(active用户优先)\n",
    "        # TODO 提供接口\n",
    "        for item in ROBBED_USERS:\n",
    "            if item['server'] == server:\n",
    "                # 恢复训练\n",
    "                user, uuid = item['user'], item['uuid']\n",
    "                print(f'resume the robbed task:{user}-{uuid} on {server}')\n",
    "                self._remote.k12ai_run_task(server, user, uuid)\n",
    "                break\n",
    "\n",
    "    def run(self):\n",
    "        while True:\n",
    "            self.run_pending()\n",
    "            if DEBUG:\n",
    "                datetime = time.strftime('%H:%M:%S', time.localtime(time.time()))\n",
    "                print(f'now {datetime}, sleep: {self.idle_seconds} seconds')\n",
    "                if self.idle_seconds > 900:\n",
    "                    break\n",
    "            time.sleep(self.idle_seconds) # the next job interval time seconds\n",
    "        print(f'{self.__class__.__name__} instance quit!')"
   ]
  },
  {
   "cell_type": "markdown",
   "metadata": {},
   "source": [
    "## 测试"
   ]
  },
  {
   "cell_type": "code",
   "execution_count": 16,
   "metadata": {
    "ExecuteTime": {
     "end_time": "2020-08-04T08:17:42.372034Z",
     "start_time": "2020-08-04T08:17:19.115776Z"
    }
   },
   "outputs": [
    {
     "data": {
      "text/plain": [
       "['framework/1017020303001/211d2c-0/train']"
      ]
     },
     "execution_count": 16,
     "metadata": {},
     "output_type": "execute_result"
    }
   ],
   "source": [
    "# 模拟启动用户任务\n",
    "k12ai_train_execute(user='1017020302001', epoch_num=100)\n",
    "k12ai_train_execute(user='1017010302001', epoch_num=100)\n",
    "k12ai_train_execute(user='1017020303001', epoch_num=100)"
   ]
  },
  {
   "cell_type": "code",
   "execution_count": 17,
   "metadata": {
    "ExecuteTime": {
     "end_time": "2020-08-04T08:17:42.387591Z",
     "start_time": "2020-08-04T08:17:42.374239Z"
    },
    "scrolled": false
   },
   "outputs": [
    {
     "name": "stdout",
     "output_type": "stream",
     "text": [
      "早上时间:16:17:44 晚上时间:16:17:54 上课时间:16:18:00 下课时间:16:18:36\n",
      "now 16:17:42, sleep: 1.621923 seconds\n",
      "早上好\n",
      "now 16:17:44, sleep: 9.999103 seconds\n",
      "晚上好\n",
      "now 16:17:54, sleep: 5.99174 seconds\n",
      "上课事件 101 ['7010304'] ['10.255.0.58:8119']\n",
      "{'code': 100000, 'message': {'en': 'success', 'cn': '成功'}, 'data': {'services': [{'id': '49ce9cc958bd', 'op': 'train.start', 'user': '1017010302001', 'service_uuid': '211d2c-0', 'service_pid': 13992, 'service_starttime': '2020-08-04T08:17:37.913531506Z'}, {'id': '9155627a1393', 'op': 'train.start', 'user': '1017020302001', 'service_uuid': '211d2c-0', 'service_pid': 13652, 'service_starttime': '2020-08-04T08:17:29.802836094Z'}]}}\n",
      "{'code': 100000, 'message': {'en': 'success', 'cn': '成功'}, 'data': {'services': [{'id': '49ce9cc958bd', 'op': 'train.start', 'user': '1017010302001', 'service_uuid': '211d2c-0', 'service_pid': 13992, 'service_starttime': '2020-08-04T08:17:37.913531506Z'}, {'id': '9155627a1393', 'op': 'train.start', 'user': '1017020302001', 'service_uuid': '211d2c-0', 'service_pid': 13652, 'service_starttime': '2020-08-04T08:17:29.802836094Z'}]}}\n",
      "{'code': 100000, 'message': {'en': 'success', 'cn': '成功'}}\n",
      "任务(10.255.0.58:8119/1017010302001/211d2c-0)被抢占\n",
      "{'code': 100000, 'message': {'en': 'success', 'cn': '成功'}}\n",
      "任务(10.255.0.58:8119/1017020302001/211d2c-0)被抢占\n",
      "now 16:18:04, sleep: 31.982693 seconds\n",
      "{'version': '0.1.0', 'server': '10.255.0.58:8119', 'type': 'resource', 'appId': 'k12ai', 'token': 'admin', 'user': 'admin', 'op': 'query', 'service_name': 'k12ai', 'service_uuid': 'admin', 'timestamp': 1596529087288, 'datetime': '20200804161807', 'data': {'code': 100000, 'message': {'en': 'success', 'cn': '成功'}, 'data': {'cpu_percent': 84.9, 'cpu_percent_list': [85.6, 76.2, 80.7, 80.0, 90.7, 89.7, 86.6, 89.6], 'cpu_memory_total_MB': 48302.574, 'cpu_memory_usage_MB': 6346.477, 'cpu_memory_free_MB': 40723.59, 'cpu_memory_percent': 15.7, 'gpus': {'name': 'Tesla P40', 'gpu_percent': 0.0, 'gpu_memory_total_MB': 22919.0, 'gpu_memory_usage_MB': 2041.0, 'gpu_memory_free_MB': 20878.0, 'gpu_memory_percent': 8.91}}}}\n",
      "resume the robbed task:1017010302001-211d2c-0 on 10.255.0.58:8119\n",
      "{'code': 100000, 'message': {'en': 'success', 'cn': '成功'}}\n",
      "下课事件 101 ['7010304'] ['10.255.0.58:8119']\n",
      "now 16:18:36, sleep: 86347.966341 seconds\n",
      "ServerNodeScheduler instance quit!\n",
      "{'version': '0.1.0', 'server': '10.255.0.58:8119', 'type': 'resource', 'appId': 'k12ai', 'token': 'admin', 'user': 'admin', 'op': 'query', 'service_name': 'k12ai', 'service_uuid': 'admin', 'timestamp': 1596529117321, 'datetime': '20200804161837', 'data': {'code': 100000, 'message': {'en': 'success', 'cn': '成功'}, 'data': {'cpu_percent': 33.5, 'cpu_percent_list': [55.9, 56.2, 4.3, 9.6, 55.5, 55.5, 3.5, 27.8], 'cpu_memory_total_MB': 48302.574, 'cpu_memory_usage_MB': 10671.527, 'cpu_memory_free_MB': 36386.445, 'cpu_memory_percent': 24.7, 'gpus': {'name': 'Tesla P40', 'gpu_percent': 0.0, 'gpu_memory_total_MB': 22919.0, 'gpu_memory_usage_MB': 3086.0, 'gpu_memory_free_MB': 19833.0, 'gpu_memory_percent': 13.46}}}}\n",
      "resume the robbed task:1017020302001-211d2c-0 on 10.255.0.58:8119\n",
      "{'code': 100000, 'message': {'en': 'success', 'cn': '成功'}}\n",
      "{'version': '0.1.0', 'server': '10.255.0.58:8119', 'type': 'resource', 'appId': 'k12ai', 'token': 'admin', 'user': 'admin', 'op': 'query', 'service_name': 'k12ai', 'service_uuid': 'admin', 'timestamp': 1596529147350, 'datetime': '20200804161907', 'data': {'code': 100000, 'message': {'en': 'success', 'cn': '成功'}, 'data': {'cpu_percent': 56.8, 'cpu_percent_list': [74.4, 85.7, 68.1, 28.7, 72.3, 39.8, 23.3, 61.6], 'cpu_memory_total_MB': 48302.574, 'cpu_memory_usage_MB': 10684.965, 'cpu_memory_free_MB': 36372.516, 'cpu_memory_percent': 24.7, 'gpus': {'name': 'Tesla P40', 'gpu_percent': 0.0, 'gpu_memory_total_MB': 22919.0, 'gpu_memory_usage_MB': 3086.0, 'gpu_memory_free_MB': 19833.0, 'gpu_memory_percent': 13.46}}}}\n",
      "{'version': '0.1.0', 'server': '10.255.0.58:8119', 'type': 'resource', 'appId': 'k12ai', 'token': 'admin', 'user': 'admin', 'op': 'query', 'service_name': 'k12ai', 'service_uuid': 'admin', 'timestamp': 1596529177373, 'datetime': '20200804161937', 'data': {'code': 100000, 'message': {'en': 'success', 'cn': '成功'}, 'data': {'cpu_percent': 31.2, 'cpu_percent_list': [38.5, 55.2, 22.5, 8.8, 41.2, 4.6, 39.1, 39.1], 'cpu_memory_total_MB': 48302.574, 'cpu_memory_usage_MB': 6350.645, 'cpu_memory_free_MB': 40718.988, 'cpu_memory_percent': 15.7, 'gpus': {'name': 'Tesla P40', 'gpu_percent': 0.0, 'gpu_memory_total_MB': 22919.0, 'gpu_memory_usage_MB': 2041.0, 'gpu_memory_free_MB': 20878.0, 'gpu_memory_percent': 8.91}}}}\n",
      "{'version': '0.1.0', 'server': '10.255.0.58:8119', 'type': 'resource', 'appId': 'k12ai', 'token': 'admin', 'user': 'admin', 'op': 'query', 'service_name': 'k12ai', 'service_uuid': 'admin', 'timestamp': 1596529207403, 'datetime': '20200804162007', 'data': {'code': 100000, 'message': {'en': 'success', 'cn': '成功'}, 'data': {'cpu_percent': 1.0, 'cpu_percent_list': [1.0, 1.1, 0.8, 1.1, 1.0, 0.9, 1.0, 0.9], 'cpu_memory_total_MB': 48302.574, 'cpu_memory_usage_MB': 6350.109, 'cpu_memory_free_MB': 40719.523, 'cpu_memory_percent': 15.7, 'gpus': {'name': 'Tesla P40', 'gpu_percent': 0.0, 'gpu_memory_total_MB': 22919.0, 'gpu_memory_usage_MB': 2041.0, 'gpu_memory_free_MB': 20878.0, 'gpu_memory_percent': 8.91}}}}\n",
      "{'version': '0.1.0', 'server': '10.255.0.58:8119', 'type': 'resource', 'appId': 'k12ai', 'token': 'admin', 'user': 'admin', 'op': 'query', 'service_name': 'k12ai', 'service_uuid': 'admin', 'timestamp': 1596529237437, 'datetime': '20200804162037', 'data': {'code': 100000, 'message': {'en': 'success', 'cn': '成功'}, 'data': {'cpu_percent': 0.8, 'cpu_percent_list': [0.7, 0.8, 0.7, 0.8, 1.2, 0.7, 0.6, 0.9], 'cpu_memory_total_MB': 48302.574, 'cpu_memory_usage_MB': 6350.652, 'cpu_memory_free_MB': 40718.977, 'cpu_memory_percent': 15.7, 'gpus': {'name': 'Tesla P40', 'gpu_percent': 0.0, 'gpu_memory_total_MB': 22919.0, 'gpu_memory_usage_MB': 2041.0, 'gpu_memory_free_MB': 20878.0, 'gpu_memory_percent': 8.91}}}}\n",
      "{'version': '0.1.0', 'server': '10.255.0.58:8119', 'type': 'resource', 'appId': 'k12ai', 'token': 'admin', 'user': 'admin', 'op': 'query', 'service_name': 'k12ai', 'service_uuid': 'admin', 'timestamp': 1596529267458, 'datetime': '20200804162107', 'data': {'code': 100000, 'message': {'en': 'success', 'cn': '成功'}, 'data': {'cpu_percent': 0.8, 'cpu_percent_list': [0.8, 1.0, 1.0, 0.7, 1.3, 0.6, 0.7, 0.7], 'cpu_memory_total_MB': 48302.574, 'cpu_memory_usage_MB': 6350.621, 'cpu_memory_free_MB': 40719.012, 'cpu_memory_percent': 15.7, 'gpus': {'name': 'Tesla P40', 'gpu_percent': 0.0, 'gpu_memory_total_MB': 22919.0, 'gpu_memory_usage_MB': 2041.0, 'gpu_memory_free_MB': 20878.0, 'gpu_memory_percent': 8.91}}}}\n",
      "RedisDispatcher instance quit!\n"
     ]
    }
   ],
   "source": [
    "xscheduler = ServerNodeScheduler(REGIONS, RemoteAPI())\n",
    "xscheduler.start()\n",
    "dispatcher = RedisDispatcher()\n",
    "dispatcher.register_handler('resource', xscheduler)\n",
    "dispatcher.start()"
   ]
  }
 ],
 "metadata": {
  "kernelspec": {
   "display_name": "Python 3",
   "language": "python",
   "name": "python3"
  },
  "language_info": {
   "codemirror_mode": {
    "name": "ipython",
    "version": 3
   },
   "file_extension": ".py",
   "mimetype": "text/x-python",
   "name": "python",
   "nbconvert_exporter": "python",
   "pygments_lexer": "ipython3",
   "version": "3.6.9"
  },
  "toc": {
   "base_numbering": 1,
   "nav_menu": {
    "height": "409px",
    "width": "364px"
   },
   "number_sections": true,
   "sideBar": true,
   "skip_h1_title": true,
   "title_cell": "",
   "title_sidebar": "Contents",
   "toc_cell": false,
   "toc_position": {
    "height": "calc(100% - 180px)",
    "left": "10px",
    "top": "150px",
    "width": "276.575px"
   },
   "toc_section_display": true,
   "toc_window_display": true
  }
 },
 "nbformat": 4,
 "nbformat_minor": 4
}
