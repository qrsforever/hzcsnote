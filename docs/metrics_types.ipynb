{
 "cells": [
  {
   "cell_type": "markdown",
   "metadata": {
    "toc": true
   },
   "source": [
    "<h1>Table of Contents<span class=\"tocSkip\"></span></h1>\n",
    "<div class=\"toc\"><ul class=\"toc-item\"><li><span><a href=\"#模型定义\" data-toc-modified-id=\"模型定义-1\"><span class=\"toc-item-num\">1&nbsp;&nbsp;</span>模型定义</a></span></li><li><span><a href=\"#模型实例\" data-toc-modified-id=\"模型实例-2\"><span class=\"toc-item-num\">2&nbsp;&nbsp;</span>模型实例</a></span></li><li><span><a href=\"#1.-scalar\" data-toc-modified-id=\"1.-scalar-3\"><span class=\"toc-item-num\">3&nbsp;&nbsp;</span>1. scalar</a></span></li><li><span><a href=\"#2.-text\" data-toc-modified-id=\"2.-text-4\"><span class=\"toc-item-num\">4&nbsp;&nbsp;</span>2. text</a></span></li><li><span><a href=\"#3.-image\" data-toc-modified-id=\"3.-image-5\"><span class=\"toc-item-num\">5&nbsp;&nbsp;</span>3. image</a></span></li><li><span><a href=\"#4.-matrix\" data-toc-modified-id=\"4.-matrix-6\"><span class=\"toc-item-num\">6&nbsp;&nbsp;</span>4. matrix</a></span></li><li><span><a href=\"#5.-histogram\" data-toc-modified-id=\"5.-histogram-7\"><span class=\"toc-item-num\">7&nbsp;&nbsp;</span>5. histogram</a></span></li><li><span><a href=\"#6.-audio\" data-toc-modified-id=\"6.-audio-8\"><span class=\"toc-item-num\">8&nbsp;&nbsp;</span>6. audio</a></span></li><li><span><a href=\"#7.-video\" data-toc-modified-id=\"7.-video-9\"><span class=\"toc-item-num\">9&nbsp;&nbsp;</span>7. video</a></span></li></ul></div>"
   ]
  },
  {
   "cell_type": "markdown",
   "metadata": {},
   "source": [
    "# <div align='center'> Metrics数据模型 </div>"
   ]
  },
  {
   "cell_type": "markdown",
   "metadata": {},
   "source": [
    "## 模型定义"
   ]
  },
  {
   "cell_type": "markdown",
   "metadata": {},
   "source": [
    "```json\n",
    "{                             \n",
    "    \"_id_\": \"\",        // [M] Metrics唯一标识, 对于像scatter类型需要连续传递数据, 可以用来定位组件\n",
    "    \"category\": \"\",    // [M] 分组类型,如:\"train\",\"evaluate\",\"predict\", 分别表示\"训练\",\"评估\",\"预测\"三个阶段   \n",
    "    \"type\": \"\",        // [M] 数据类型,如:\"scatter\", \"image\", \"audio\"等, 表示Metrics数据的类型,\"data\"域内容  \n",
    "    \"width\": \"100\",    // [O] 可视化数据展示所需宽度, 无:浏览器自适应        \n",
    "    \"height\": \"100\",   // [O] 可视化数据展示所需高度, 无:浏览器自适应         \n",
    "    \"data\": {          // [M] 数据域        \n",
    "        \"title\": \"\",   // [M] 标题 \n",
    "        \"payload\": any,// [M] Metrics数据,类型及内容根据type的不同,结构不一样, 例如:type为text时,payload为字符串       \n",
    "        \"format\": \"\"   // [O] 如果type为image,audio,video等媒体类型, format可以为\"url\", \"base64string\", \"mp3\"等\n",
    "    }                         \n",
    "}                             \n",
    "```"
   ]
  },
  {
   "cell_type": "markdown",
   "metadata": {},
   "source": [
    "## 模型实例"
   ]
  },
  {
   "cell_type": "markdown",
   "metadata": {},
   "source": [
    "``` \n",
    "                                   _______________________________________\n",
    "                                  /\\                                      \\\n",
    "                                  \\_|                                     |\n",
    "                                    | {                                   |\n",
    "                                    |     \"category\": \"train\",            |\n",
    "                                    |     \"type\": \"scalar\",               |\n",
    "                                    |     \"width\": \"100\",                 |\n",
    "                                    |     \"height\": \"100\",                |\n",
    "                                    |     \"data\": {                       |\n",
    "                                    |         \"title\": \"CE LOSS\",         |\n",
    "                                    |         \"payload\": {                |\n",
    "                                    |             \"x\": {                  |\n",
    "                                    |                 \"label\":\"epoch\",    |\n",
    "                                    |                 \"value\": 1          |\n",
    "                                    |             },                      |\n",
    "                                    |             \"y\": [                  |\n",
    "                                    |                 {                   |\n",
    "                                    |                     \"label\":\"loss\", |\n",
    "                                    |                     \"value\": 1      |\n",
    "                                    |                 }                   |\n",
    "                                    |             ]                       |\n",
    "                                    |         }                           |\n",
    "                                    |     }                               |\n",
    "                                    | }                                   |\n",
    "                                    |   __________________________________|_\n",
    "                                     \\_/____________________________________/\n",
    "                                          \n",
    "                                                        |\n",
    "                                                        v\n",
    "                                 +----------------------+---------------------+\n",
    "                                 |                      |                     |\n",
    "                                 v                      v                     v\n",
    "category:                      train                 evaluate              predict\n",
    "                                 |\n",
    "                                 |\n",
    "                      +-----------+---------+---------+\n",
    "                      |           |         |         |\n",
    "                      v           v         v         v\n",
    "   type:            scalar      image      text     matrix\n",
    "                      |\n",
    "                      |\n",
    "                      v\n",
    "  title:            CELoss\n",
    "\n",
    "           +-----------------------+\n",
    "  value:   |                       |\n",
    "           |     ^                 |\n",
    "           |loss |                 |\n",
    "           |     |                 |\n",
    "           |     |                 |\n",
    "           |     |    (1,1)        |height\n",
    "           |     |                 |\n",
    "           |     +------------->   |\n",
    "           |               epoch   |\n",
    "           +-----------------------+  如果是一图多折线的情况, Y轴的label不需要\n",
    "                    width\n",
    "```"
   ]
  },
  {
   "cell_type": "markdown",
   "metadata": {},
   "source": [
    "## 1. scalar\n",
    "\n",
    "- 一图一折线\n",
    "\n",
    "```json\n",
    "{\n",
    "    \"category\": \"train\",\n",
    "    \"type\": \"scalar\",\n",
    "    \"data\": {\n",
    "        \"title\": \"CELoss\",\n",
    "        \"payload\": {\n",
    "            \"x\": {\"label\": \"epoch\", \"value\": 1},\n",
    "            \"y\": [{\"label\": \"acc\", \"value\": 0.8}]\n",
    "        }\n",
    "    }\n",
    "}\n",
    "```\n",
    "\n",
    "\n",
    "- 一图多条折线(共用变量x值, y表示不同的变量, 绘制图时Y轴的Label可以不用显示)\n",
    "\n",
    "```json\n",
    "{\n",
    "    \"category\": \"train\",\n",
    "    \"type\": \"scalar\",\n",
    "    \"data\": {\n",
    "        \"title\": \"CELoss\",\n",
    "        \"payload\": {\n",
    "            \"x\": {\"label\": \"epoch\", \"value\": 1},\n",
    "            \"y\": [\n",
    "                {\"label\": \"train_acc\", \"value\": 0.8},\n",
    "                {\"label\": \"val_acc\", \"value\": 0.6},\n",
    "                {\"label\": \"test_acc\", \"value\": 0.2}\n",
    "            ]\n",
    "        }\n",
    "    }\n",
    "}\n",
    "```"
   ]
  },
  {
   "cell_type": "markdown",
   "metadata": {},
   "source": [
    "-----------------------------------------------------------------"
   ]
  },
  {
   "cell_type": "markdown",
   "metadata": {},
   "source": [
    "## 2. text\n",
    "\n",
    "```json\n",
    "{\n",
    "    \"category\": \"evaluate\",\n",
    "    \"type\": \"text\",\n",
    "    \"data\": {\n",
    "        \"title\": \"F1 Score\",\n",
    "        \"payload\": \"100\"\n",
    "    }\n",
    "}\n",
    "```"
   ]
  },
  {
   "cell_type": "markdown",
   "metadata": {},
   "source": [
    "## 3. image\n",
    "\n",
    "- format: base64string\n",
    "\n",
    "```json\n",
    "{\n",
    "    \"category\": \"train\",\n",
    "    \"type\": \"image\",\n",
    "    \"data\": {\n",
    "        \"title\": \"image001\",\n",
    "        \"payload\": \"xxyyzz\",\n",
    "        \"format\": \"base64string\",\n",
    "    }\n",
    "}\n",
    "```\n",
    "\n",
    "- format: svg\n",
    "\n",
    "```json\n",
    "{\n",
    "    \"category\": \"train\",\n",
    "    \"type\": \"image\",\n",
    "    \"data\": {\n",
    "        \"title\": \"image001\",\n",
    "        \"payload\": \"<svg width=100, height=200> xxxxx </svg>\",\n",
    "        \"format\": \"svg\",\n",
    "    }\n",
    "}\n",
    "```\n",
    "\n",
    "- format: url\n",
    "\n",
    "```json\n",
    "{\n",
    "    \"category\": \"train\",\n",
    "    \"type\": \"image\",\n",
    "    \"data\": {\n",
    "        \"title\": \"image002\",\n",
    "        \"payload\": \"mnist/train/xxyyzz.png\"\n",
    "        \"format\": \"url\",\n",
    "    }\n",
    "}\n",
    "```\n"
   ]
  },
  {
   "cell_type": "markdown",
   "metadata": {},
   "source": [
    "## 4. matrix\n",
    "\n",
    "```json\n",
    "{\n",
    "    \"category\": \"train\",\n",
    "    \"type\": \"matrix\",\n",
    "    \"data\": {\n",
    "        \"title\": \"confusion_matrix\",\n",
    "        \"payload\": [\n",
    "            [1, 0, 0],\n",
    "            [0, 1, 0],\n",
    "            [0, 0, 1],\n",
    "        ]\n",
    "    }\n",
    "}\n",
    "```"
   ]
  },
  {
   "cell_type": "markdown",
   "metadata": {},
   "source": [
    "## 5. histogram"
   ]
  },
  {
   "cell_type": "markdown",
   "metadata": {},
   "source": [
    "## 6. audio"
   ]
  },
  {
   "cell_type": "markdown",
   "metadata": {},
   "source": [
    "## 7. video\n",
    "\n",
    "- format: base64string\n",
    "\n",
    "```json\n",
    "{\n",
    "    \"category\": \"evaluate\",\n",
    "    \"type\": \"video\",\n",
    "    \"data\": {\n",
    "        \"title\": \"video-1\",\n",
    "        \"payload\": \"xxyyzz\",\n",
    "        \"format\": \"base64string\",\n",
    "    }\n",
    "}\n",
    "```\n",
    "\n",
    "- format: url\n",
    "\n",
    "```json\n",
    "{\n",
    "    \"category\": \"evaluate\",\n",
    "    \"type\": \"video\",\n",
    "    \"data\": {\n",
    "        \"title\": \"video-1\",\n",
    "        \"payload\": \"xxx/evaluate/xxyyzz.mp4\"\n",
    "        \"format\": \"url\",\n",
    "    }\n",
    "}\n",
    "```"
   ]
  },
  {
   "cell_type": "code",
   "execution_count": null,
   "metadata": {},
   "outputs": [],
   "source": []
  }
 ],
 "metadata": {
  "hide_input": false,
  "kernelspec": {
   "display_name": "Python 3",
   "language": "python",
   "name": "python3"
  },
  "language_info": {
   "codemirror_mode": {
    "name": "ipython",
    "version": 3
   },
   "file_extension": ".py",
   "mimetype": "text/x-python",
   "name": "python",
   "nbconvert_exporter": "python",
   "pygments_lexer": "ipython3",
   "version": "3.6.9"
  },
  "toc": {
   "base_numbering": 1,
   "nav_menu": {},
   "number_sections": true,
   "sideBar": true,
   "skip_h1_title": true,
   "title_cell": "Table of Contents",
   "title_sidebar": "Contents",
   "toc_cell": true,
   "toc_position": {},
   "toc_section_display": true,
   "toc_window_display": false
  }
 },
 "nbformat": 4,
 "nbformat_minor": 4
}
