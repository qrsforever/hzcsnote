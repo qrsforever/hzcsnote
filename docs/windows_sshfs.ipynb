{
 "cells": [
  {
   "cell_type": "markdown",
   "metadata": {},
   "source": [
    "# <div align=\"center\"> Windows 通过sshfs 连接 Ubuntu </div>"
   ]
  },
  {
   "cell_type": "markdown",
   "metadata": {},
   "source": [
    "## 安装"
   ]
  },
  {
   "cell_type": "markdown",
   "metadata": {},
   "source": [
    "- [DokanSetup-1.0.5.1000.exe 提取码: `gp45`](https://pan.baidu.com/s/1VvwcdJtkfTWeCuWsi1NCQw \"提取码: gp45\")\n",
    "\n",
    "  [更多](https://github.com/dokan-dev/dokany/releases)\n",
    "\n",
    "\n",
    "- [WinSSHFS-1.6.1.13-devel.msi 提取码: `4vdq`](https://pan.baidu.com/s/1bUOmvJh3z0vqUTaa43lerA \"提取码: 4vdq\")\n",
    "\n",
    "  [更多](https://github.com/billziss-gh/sshfs-win/releases)"
   ]
  },
  {
   "cell_type": "markdown",
   "metadata": {},
   "source": [
    "## 配置"
   ]
  },
  {
   "cell_type": "markdown",
   "metadata": {
    "ExecuteTime": {
     "end_time": "2020-12-18T04:08:26.148223Z",
     "start_time": "2020-12-18T04:08:25.579870Z"
    }
   },
   "source": [
    "![winsshfs](/notebooks/assets/win_sshfs.png)"
   ]
  },
  {
   "cell_type": "code",
   "execution_count": null,
   "metadata": {},
   "outputs": [],
   "source": []
  }
 ],
 "metadata": {
  "kernelspec": {
   "display_name": "Python 3",
   "language": "python",
   "name": "python3"
  },
  "language_info": {
   "codemirror_mode": {
    "name": "ipython",
    "version": 3
   },
   "file_extension": ".py",
   "mimetype": "text/x-python",
   "name": "python",
   "nbconvert_exporter": "python",
   "pygments_lexer": "ipython3",
   "version": "3.6.9"
  },
  "toc": {
   "base_numbering": 1,
   "nav_menu": {},
   "number_sections": true,
   "sideBar": true,
   "skip_h1_title": true,
   "title_cell": "",
   "title_sidebar": "Contents",
   "toc_cell": false,
   "toc_position": {},
   "toc_section_display": true,
   "toc_window_display": false
  }
 },
 "nbformat": 4,
 "nbformat_minor": 4
}
