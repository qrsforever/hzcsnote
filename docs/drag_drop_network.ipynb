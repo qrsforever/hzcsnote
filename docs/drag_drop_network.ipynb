{
 "cells": [
  {
   "cell_type": "code",
   "execution_count": 1,
   "metadata": {
    "ExecuteTime": {
     "end_time": "2020-08-18T03:38:55.133753Z",
     "start_time": "2020-08-18T03:38:54.672659Z"
    }
   },
   "outputs": [],
   "source": [
    "%reload_ext autoreload\n",
    "%autoreload 2\n",
    "%matplotlib inline"
   ]
  },
  {
   "cell_type": "code",
   "execution_count": 10,
   "metadata": {
    "ExecuteTime": {
     "end_time": "2020-09-02T10:29:00.176339Z",
     "start_time": "2020-09-02T10:29:00.164423Z"
    }
   },
   "outputs": [
    {
     "name": "stdout",
     "output_type": "stream",
     "text": [
      "\n",
      "plain_net { name : \"hproject_model_name\" layer {\n",
      "\t\t\t\t\t conv {\n",
      "\t\t\t\t\t  name : \"Conv2d_2ko5cchonj\"\n",
      "\t\t\t\t\t  layer_builder : \"NNTorchLayer\"\n",
      "\t\t\t\t\t  layer_mode : CONV2D\n",
      "\t\t\t\t\t  inputs: 'x'\n",
      "\t\t\t\t\t  outputs : \"Relu_e8w3jqxxg\"\n",
      "\t\t\t\t\t  layer_params { \n",
      "\t\t\t\t\t \t in_channels : \"3\"  out_channels : \"8\"  kernel_size : \"5\"  stride : \"1\"  padding : \"1\"  dilation : \"1\"  groups : \"1\"  bias : \"True\" \n",
      "\t\t\t\t\t } \n",
      "\t\t\t\t\t }\n",
      "\t\t\t\t\t }layer {\n",
      "\t\t\t\t\t act {\n",
      "\t\t\t\t\t  name : \"Relu_e8w3jqxxg\"\n",
      "\t\t\t\t\t  layer_builder : \"NNTorchLayer\"\n",
      "\t\t\t\t\t  layer_mode : RELU\n",
      "\t\t\t\t\t  inputs: \"Conv2d_2ko5cchonj\" \n",
      "\t\t\t\t\t  outputs : \"AvgPool2d_vj0lyv7o0i\"\n",
      "\t\t\t\t\t  layer_params { \n",
      "\t\t\t\t\t \t inplace : \"True\" \n",
      "\t\t\t\t\t } \n",
      "\t\t\t\t\t }\n",
      "\t\t\t\t\t }layer {\n",
      "\t\t\t\t\t pool {\n",
      "\t\t\t\t\t  name : \"AvgPool2d_vj0lyv7o0i\"\n",
      "\t\t\t\t\t  layer_builder : \"NNTorchLayer\"\n",
      "\t\t\t\t\t  layer_mode : AVGPOOL2D\n",
      "\t\t\t\t\t  inputs: \"Relu_e8w3jqxxg\" \n",
      "\t\t\t\t\t  outputs : \"Conv2d_686gzet91\"\n",
      "\t\t\t\t\t  layer_params { \n",
      "\t\t\t\t\t \t kernel_size : \"5\"  stride : \"2\"  padding : \"1\"  ceil_mode : \"False\" \n",
      "\t\t\t\t\t } \n",
      "\t\t\t\t\t }\n",
      "\t\t\t\t\t }layer {\n",
      "\t\t\t\t\t conv {\n",
      "\t\t\t\t\t  name : \"Conv2d_686gzet91\"\n",
      "\t\t\t\t\t  layer_builder : \"NNTorchLayer\"\n",
      "\t\t\t\t\t  layer_mode : CONV2D\n",
      "\t\t\t\t\t  inputs: \"AvgPool2d_vj0lyv7o0i\" \n",
      "\t\t\t\t\t  outputs : \"BatchNorm2d_g74rxioy3w\"\n",
      "\t\t\t\t\t  layer_params { \n",
      "\t\t\t\t\t \t in_channels : \"8\"  out_channels : \"16\"  kernel_size : \"3\"  stride : \"1\"  padding : \"1\"  dilation : \"1\"  groups : \"1\"  bias : \"True\" \n",
      "\t\t\t\t\t } \n",
      "\t\t\t\t\t }\n",
      "\t\t\t\t\t }layer {\n",
      "\t\t\t\t\t norm {\n",
      "\t\t\t\t\t  name : \"BatchNorm2d_g74rxioy3w\"\n",
      "\t\t\t\t\t  layer_builder : \"NNTorchLayer\"\n",
      "\t\t\t\t\t  layer_mode : BATCHNORM2D\n",
      "\t\t\t\t\t  inputs: \"Conv2d_686gzet91\" \n",
      "\t\t\t\t\t  outputs : \"Relu_99n1ktc9rn\"\n",
      "\t\t\t\t\t  layer_params { \n",
      "\t\t\t\t\t \t num_features : \"16\"  momentum : \"0.1\"  affine : \"True\"  track_running_stats : \"True\" \n",
      "\t\t\t\t\t } \n",
      "\t\t\t\t\t }\n",
      "\t\t\t\t\t }layer {\n",
      "\t\t\t\t\t act {\n",
      "\t\t\t\t\t  name : \"Relu_99n1ktc9rn\"\n",
      "\t\t\t\t\t  layer_builder : \"NNTorchLayer\"\n",
      "\t\t\t\t\t  layer_mode : RELU\n",
      "\t\t\t\t\t  inputs: \"BatchNorm2d_g74rxioy3w\" \n",
      "\t\t\t\t\t  outputs : \"AvgPool2d_gyi5jcw58m\"\n",
      "\t\t\t\t\t  layer_params { \n",
      "\t\t\t\t\t \t inplace : \"True\" \n",
      "\t\t\t\t\t } \n",
      "\t\t\t\t\t }\n",
      "\t\t\t\t\t }layer {\n",
      "\t\t\t\t\t pool {\n",
      "\t\t\t\t\t  name : \"AvgPool2d_gyi5jcw58m\"\n",
      "\t\t\t\t\t  layer_builder : \"NNTorchLayer\"\n",
      "\t\t\t\t\t  layer_mode : AVGPOOL2D\n",
      "\t\t\t\t\t  inputs: \"Relu_99n1ktc9rn\" \n",
      "\t\t\t\t\t  outputs : \"Flatten_c2km6ijja9\"\n",
      "\t\t\t\t\t  layer_params { \n",
      "\t\t\t\t\t \t kernel_size : \"3\"  stride : \"1\"  padding : \"1\"  ceil_mode : \"False\" \n",
      "\t\t\t\t\t } \n",
      "\t\t\t\t\t }\n",
      "\t\t\t\t\t }layer {\n",
      "\t\t\t\t\t vulkan {\n",
      "\t\t\t\t\t  name : \"Flatten_c2km6ijja9\"\n",
      "\t\t\t\t\t  layer_builder : \"NNTorchLayer\"\n",
      "\t\t\t\t\t  layer_mode : FLATTEN\n",
      "\t\t\t\t\t  inputs: \"AvgPool2d_gyi5jcw58m\" \n",
      "\t\t\t\t\t  outputs : \"Linear_j7qc9j0vt\"\n",
      "\t\t\t\t\t  layer_params { \n",
      "\t\t\t\t\t \t start_dim : \"1\"  end_dim : \"-1\" \n",
      "\t\t\t\t\t } \n",
      "\t\t\t\t\t }\n",
      "\t\t\t\t\t }layer {\n",
      "\t\t\t\t\t linear {\n",
      "\t\t\t\t\t  name : \"Linear_j7qc9j0vt\"\n",
      "\t\t\t\t\t  layer_builder : \"NNTorchLayer\"\n",
      "\t\t\t\t\t  layer_mode : LINEAR\n",
      "\t\t\t\t\t  inputs: \"Flatten_c2km6ijja9\" \n",
      "\t\t\t\t\t  outputs : \"Output_ynwthhzmjh\"\n",
      "\t\t\t\t\t  layer_params { \n",
      "\t\t\t\t\t \t in_features : \"36864\"  out_features : \"5\"  bias : \"True\" \n",
      "\t\t\t\t\t } \n",
      "\t\t\t\t\t }\n",
      "\t\t\t\t\t } }\n",
      "\n"
     ]
    }
   ],
   "source": [
    "a = '''\n",
    "plain_net { name : \\\"hproject_model_name\\\" layer {\n",
    "\t\t\t\t\t conv {\n",
    "\t\t\t\t\t  name : \\\"Conv2d_2ko5cchonj\\\"\n",
    "\t\t\t\t\t  layer_builder : \\\"NNTorchLayer\\\"\n",
    "\t\t\t\t\t  layer_mode : CONV2D\n",
    "\t\t\t\t\t  inputs: 'x'\n",
    "\t\t\t\t\t  outputs : \\\"Relu_e8w3jqxxg\\\"\n",
    "\t\t\t\t\t  layer_params { \n",
    "\t\t\t\t\t \t in_channels : \\\"3\\\"  out_channels : \\\"8\\\"  kernel_size : \\\"5\\\"  stride : \\\"1\\\"  padding : \\\"1\\\"  dilation : \\\"1\\\"  groups : \\\"1\\\"  bias : \\\"True\\\" \n",
    "\t\t\t\t\t } \n",
    "\t\t\t\t\t }\n",
    "\t\t\t\t\t }layer {\n",
    "\t\t\t\t\t act {\n",
    "\t\t\t\t\t  name : \\\"Relu_e8w3jqxxg\\\"\n",
    "\t\t\t\t\t  layer_builder : \\\"NNTorchLayer\\\"\n",
    "\t\t\t\t\t  layer_mode : RELU\n",
    "\t\t\t\t\t  inputs: \\\"Conv2d_2ko5cchonj\\\" \n",
    "\t\t\t\t\t  outputs : \\\"AvgPool2d_vj0lyv7o0i\\\"\n",
    "\t\t\t\t\t  layer_params { \n",
    "\t\t\t\t\t \t inplace : \\\"True\\\" \n",
    "\t\t\t\t\t } \n",
    "\t\t\t\t\t }\n",
    "\t\t\t\t\t }layer {\n",
    "\t\t\t\t\t pool {\n",
    "\t\t\t\t\t  name : \\\"AvgPool2d_vj0lyv7o0i\\\"\n",
    "\t\t\t\t\t  layer_builder : \\\"NNTorchLayer\\\"\n",
    "\t\t\t\t\t  layer_mode : AVGPOOL2D\n",
    "\t\t\t\t\t  inputs: \\\"Relu_e8w3jqxxg\\\" \n",
    "\t\t\t\t\t  outputs : \\\"Conv2d_686gzet91\\\"\n",
    "\t\t\t\t\t  layer_params { \n",
    "\t\t\t\t\t \t kernel_size : \\\"5\\\"  stride : \\\"2\\\"  padding : \\\"1\\\"  ceil_mode : \\\"False\\\" \n",
    "\t\t\t\t\t } \n",
    "\t\t\t\t\t }\n",
    "\t\t\t\t\t }layer {\n",
    "\t\t\t\t\t conv {\n",
    "\t\t\t\t\t  name : \\\"Conv2d_686gzet91\\\"\n",
    "\t\t\t\t\t  layer_builder : \\\"NNTorchLayer\\\"\n",
    "\t\t\t\t\t  layer_mode : CONV2D\n",
    "\t\t\t\t\t  inputs: \\\"AvgPool2d_vj0lyv7o0i\\\" \n",
    "\t\t\t\t\t  outputs : \\\"BatchNorm2d_g74rxioy3w\\\"\n",
    "\t\t\t\t\t  layer_params { \n",
    "\t\t\t\t\t \t in_channels : \\\"8\\\"  out_channels : \\\"16\\\"  kernel_size : \\\"3\\\"  stride : \\\"1\\\"  padding : \\\"1\\\"  dilation : \\\"1\\\"  groups : \\\"1\\\"  bias : \\\"True\\\" \n",
    "\t\t\t\t\t } \n",
    "\t\t\t\t\t }\n",
    "\t\t\t\t\t }layer {\n",
    "\t\t\t\t\t norm {\n",
    "\t\t\t\t\t  name : \\\"BatchNorm2d_g74rxioy3w\\\"\n",
    "\t\t\t\t\t  layer_builder : \\\"NNTorchLayer\\\"\n",
    "\t\t\t\t\t  layer_mode : BATCHNORM2D\n",
    "\t\t\t\t\t  inputs: \\\"Conv2d_686gzet91\\\" \n",
    "\t\t\t\t\t  outputs : \\\"Relu_99n1ktc9rn\\\"\n",
    "\t\t\t\t\t  layer_params { \n",
    "\t\t\t\t\t \t num_features : \\\"16\\\"  momentum : \\\"0.1\\\"  affine : \\\"True\\\"  track_running_stats : \\\"True\\\" \n",
    "\t\t\t\t\t } \n",
    "\t\t\t\t\t }\n",
    "\t\t\t\t\t }layer {\n",
    "\t\t\t\t\t act {\n",
    "\t\t\t\t\t  name : \\\"Relu_99n1ktc9rn\\\"\n",
    "\t\t\t\t\t  layer_builder : \\\"NNTorchLayer\\\"\n",
    "\t\t\t\t\t  layer_mode : RELU\n",
    "\t\t\t\t\t  inputs: \\\"BatchNorm2d_g74rxioy3w\\\" \n",
    "\t\t\t\t\t  outputs : \\\"AvgPool2d_gyi5jcw58m\\\"\n",
    "\t\t\t\t\t  layer_params { \n",
    "\t\t\t\t\t \t inplace : \\\"True\\\" \n",
    "\t\t\t\t\t } \n",
    "\t\t\t\t\t }\n",
    "\t\t\t\t\t }layer {\n",
    "\t\t\t\t\t pool {\n",
    "\t\t\t\t\t  name : \\\"AvgPool2d_gyi5jcw58m\\\"\n",
    "\t\t\t\t\t  layer_builder : \\\"NNTorchLayer\\\"\n",
    "\t\t\t\t\t  layer_mode : AVGPOOL2D\n",
    "\t\t\t\t\t  inputs: \\\"Relu_99n1ktc9rn\\\" \n",
    "\t\t\t\t\t  outputs : \\\"Flatten_c2km6ijja9\\\"\n",
    "\t\t\t\t\t  layer_params { \n",
    "\t\t\t\t\t \t kernel_size : \\\"3\\\"  stride : \\\"1\\\"  padding : \\\"1\\\"  ceil_mode : \\\"False\\\" \n",
    "\t\t\t\t\t } \n",
    "\t\t\t\t\t }\n",
    "\t\t\t\t\t }layer {\n",
    "\t\t\t\t\t vulkan {\n",
    "\t\t\t\t\t  name : \\\"Flatten_c2km6ijja9\\\"\n",
    "\t\t\t\t\t  layer_builder : \\\"NNTorchLayer\\\"\n",
    "\t\t\t\t\t  layer_mode : FLATTEN\n",
    "\t\t\t\t\t  inputs: \\\"AvgPool2d_gyi5jcw58m\\\" \n",
    "\t\t\t\t\t  outputs : \\\"Linear_j7qc9j0vt\\\"\n",
    "\t\t\t\t\t  layer_params { \n",
    "\t\t\t\t\t \t start_dim : \\\"1\\\"  end_dim : \\\"-1\\\" \n",
    "\t\t\t\t\t } \n",
    "\t\t\t\t\t }\n",
    "\t\t\t\t\t }layer {\n",
    "\t\t\t\t\t linear {\n",
    "\t\t\t\t\t  name : \\\"Linear_j7qc9j0vt\\\"\n",
    "\t\t\t\t\t  layer_builder : \\\"NNTorchLayer\\\"\n",
    "\t\t\t\t\t  layer_mode : LINEAR\n",
    "\t\t\t\t\t  inputs: \\\"Flatten_c2km6ijja9\\\" \n",
    "\t\t\t\t\t  outputs : \\\"Output_ynwthhzmjh\\\"\n",
    "\t\t\t\t\t  layer_params { \n",
    "\t\t\t\t\t \t in_features : \\\"36864\\\"  out_features : \\\"5\\\"  bias : \\\"True\\\" \n",
    "\t\t\t\t\t } \n",
    "\t\t\t\t\t }\n",
    "\t\t\t\t\t } }\n",
    "'''\n",
    "\n",
    "print(a\n",
    "     )"
   ]
  },
  {
   "cell_type": "code",
   "execution_count": 6,
   "metadata": {
    "ExecuteTime": {
     "end_time": "2020-09-01T09:24:48.864295Z",
     "start_time": "2020-09-01T09:24:48.842357Z"
    },
    "scrolled": false
   },
   "outputs": [
    {
     "data": {
      "text/html": [
       "<style>.container { width:95% !important; }</style>"
      ],
      "text/plain": [
       "<IPython.core.display.HTML object>"
      ]
     },
     "metadata": {},
     "output_type": "display_data"
    },
    {
     "name": "stdout",
     "output_type": "stream",
     "text": [
      " * Serving Flask app \"k12libs.utils.nb_easy\" (lazy loading)\n"
     ]
    },
    {
     "data": {
      "text/html": [
       "\n",
       "        <iframe\n",
       "            width=\"100%\"\n",
       "            height=\"780\"\n",
       "            src=\"http://116.85.5.40:9091/drawnet.html?jfile=simple&flask=http://116.85.5.40:8117/k12ai/notebook/message\"\n",
       "            frameborder=\"0\"\n",
       "            allowfullscreen\n",
       "        ></iframe>\n",
       "        "
      ],
      "text/plain": [
       "<IPython.lib.display.IFrame at 0x7f6dda409eb8>"
      ]
     },
     "execution_count": 6,
     "metadata": {},
     "output_type": "execute_result"
    },
    {
     "name": "stdout",
     "output_type": "stream",
     "text": [
      " * Environment: production\n",
      "\u001b[31m   WARNING: This is a development server. Do not use it in a production deployment.\u001b[0m\n",
      "\u001b[2m   Use a production WSGI server instead.\u001b[0m\n",
      " * Debug mode: off\n"
     ]
    }
   ],
   "source": [
    "from k12libs.utils.nb_easy import k12ai_start_html, W3URL\n",
    "k12ai_start_html(f'{W3URL}/drawnet.html?jfile=simple', height=780, flask=True)"
   ]
  }
 ],
 "metadata": {
  "kernelspec": {
   "display_name": "Python 3",
   "language": "python",
   "name": "python3"
  },
  "language_info": {
   "codemirror_mode": {
    "name": "ipython",
    "version": 3
   },
   "file_extension": ".py",
   "mimetype": "text/x-python",
   "name": "python",
   "nbconvert_exporter": "python",
   "pygments_lexer": "ipython3",
   "version": "3.6.9"
  },
  "toc": {
   "base_numbering": 1,
   "nav_menu": {},
   "number_sections": true,
   "sideBar": true,
   "skip_h1_title": true,
   "title_cell": "",
   "title_sidebar": "Contents",
   "toc_cell": false,
   "toc_position": {},
   "toc_section_display": true,
   "toc_window_display": false
  }
 },
 "nbformat": 4,
 "nbformat_minor": 4
}
