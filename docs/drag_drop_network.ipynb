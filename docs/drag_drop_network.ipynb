{
 "cells": [
  {
   "cell_type": "code",
   "execution_count": 1,
   "metadata": {
    "ExecuteTime": {
     "end_time": "2020-08-18T03:38:55.133753Z",
     "start_time": "2020-08-18T03:38:54.672659Z"
    }
   },
   "outputs": [],
   "source": [
    "%reload_ext autoreload\n",
    "%autoreload 2\n",
    "%matplotlib inline"
   ]
  },
  {
   "cell_type": "code",
   "execution_count": 6,
   "metadata": {
    "ExecuteTime": {
     "end_time": "2020-09-01T09:24:48.864295Z",
     "start_time": "2020-09-01T09:24:48.842357Z"
    }
   },
   "outputs": [
    {
     "data": {
      "text/html": [
       "<style>.container { width:95% !important; }</style>"
      ],
      "text/plain": [
       "<IPython.core.display.HTML object>"
      ]
     },
     "metadata": {},
     "output_type": "display_data"
    },
    {
     "name": "stdout",
     "output_type": "stream",
     "text": [
      " * Serving Flask app \"k12libs.utils.nb_easy\" (lazy loading)\n"
     ]
    },
    {
     "data": {
      "text/html": [
       "\n",
       "        <iframe\n",
       "            width=\"100%\"\n",
       "            height=\"780\"\n",
       "            src=\"http://116.85.5.40:9091/drawnet.html?jfile=simple&flask=http://116.85.5.40:8117/k12ai/notebook/message\"\n",
       "            frameborder=\"0\"\n",
       "            allowfullscreen\n",
       "        ></iframe>\n",
       "        "
      ],
      "text/plain": [
       "<IPython.lib.display.IFrame at 0x7f6dda409eb8>"
      ]
     },
     "execution_count": 6,
     "metadata": {},
     "output_type": "execute_result"
    },
    {
     "name": "stdout",
     "output_type": "stream",
     "text": [
      " * Environment: production\n",
      "\u001b[31m   WARNING: This is a development server. Do not use it in a production deployment.\u001b[0m\n",
      "\u001b[2m   Use a production WSGI server instead.\u001b[0m\n",
      " * Debug mode: off\n"
     ]
    }
   ],
   "source": [
    "from k12libs.utils.nb_easy import k12ai_start_html, W3URL\n",
    "k12ai_start_html(f'{W3URL}/drawnet.html?jfile=simple', height=780, flask=True)"
   ]
  },
  {
   "cell_type": "code",
   "execution_count": 5,
   "metadata": {
    "ExecuteTime": {
     "end_time": "2020-09-01T09:22:49.041311Z",
     "start_time": "2020-09-01T09:22:49.031168Z"
    }
   },
   "outputs": [
    {
     "name": "stdout",
     "output_type": "stream",
     "text": [
      "\n",
      "plain_net { name : \"hproject_model_name\" layer {\n",
      "\t\t\t\t\t norm {\n",
      "\t\t\t\t\t  name : \"BatchNorm2d_r272tc35zo\"\n",
      "\t\t\t\t\t  layer_builder : \"NNTorchLayer\"\n",
      "\t\t\t\t\t  layer_mode : BATCHNORM2D\n",
      "\t\t\t\t\t  inputs: 'x'\n",
      "\t\t\t\t\t  outputs : \"Conv2d_b5c0rnsyvp\"\n",
      "\t\t\t\t\t  layer_params { \n",
      "\t\t\t\t\t \t num_features : \"3\"  momentum : \"0.1\"  affine : \"True\"  track_running_stats : \"True\" \n",
      "\t\t\t\t\t } \n",
      "\t\t\t\t\t }\n",
      "\t\t\t\t\t }layer {\n",
      "\t\t\t\t\t conv {\n",
      "\t\t\t\t\t  name : \"Conv2d_b5c0rnsyvp\"\n",
      "\t\t\t\t\t  layer_builder : \"NNTorchLayer\"\n",
      "\t\t\t\t\t  layer_mode : CONV2D\n",
      "\t\t\t\t\t  inputs: \"BatchNorm2d_r272tc35zo\" \n",
      "\t\t\t\t\t  outputs : \"MaxPool2d_ke4lxy17us\"\n",
      "\t\t\t\t\t  layer_params { \n",
      "\t\t\t\t\t \t in_channels : \"3\"  out_channels : \"64\"  kernel_size : \"7\"  stride : \"2\"  padding : \"1\"  dilation : \"1\"  groups : \"1\"  bias : \"True\" \n",
      "\t\t\t\t\t } \n",
      "\t\t\t\t\t }\n",
      "\t\t\t\t\t }layer {\n",
      "\t\t\t\t\t pool {\n",
      "\t\t\t\t\t  name : \"MaxPool2d_ke4lxy17us\"\n",
      "\t\t\t\t\t  layer_builder : \"NNTorchLayer\"\n",
      "\t\t\t\t\t  layer_mode : MAXPOOL2D\n",
      "\t\t\t\t\t  inputs: \"Conv2d_b5c0rnsyvp\" \n",
      "\t\t\t\t\t  outputs : \"Flatten_oty48wicmi\"\n",
      "\t\t\t\t\t  layer_params { \n",
      "\t\t\t\t\t \t kernel_size : \"3\"  stride : \"1\"  padding : \"1\"  ceil_mode : \"False\" \n",
      "\t\t\t\t\t } \n",
      "\t\t\t\t\t }\n",
      "\t\t\t\t\t }layer {\n",
      "\t\t\t\t\t vulkan {\n",
      "\t\t\t\t\t  name : \"Flatten_oty48wicmi\"\n",
      "\t\t\t\t\t  layer_builder : \"NNTorchLayer\"\n",
      "\t\t\t\t\t  layer_mode : FLATTEN\n",
      "\t\t\t\t\t  inputs: \"MaxPool2d_ke4lxy17us\" \n",
      "\t\t\t\t\t  outputs : \"Linear_g1d8f7ed2\"\n",
      "\t\t\t\t\t  layer_params { \n",
      "\t\t\t\t\t \t start_dim : \"1\"  end_dim : \"-1\" \n",
      "\t\t\t\t\t } \n",
      "\t\t\t\t\t }\n",
      "\t\t\t\t\t }layer {\n",
      "\t\t\t\t\t linear {\n",
      "\t\t\t\t\t  name : \"Linear_g1d8f7ed2\"\n",
      "\t\t\t\t\t  layer_builder : \"NNTorchLayer\"\n",
      "\t\t\t\t\t  layer_mode : LINEAR\n",
      "\t\t\t\t\t  inputs: \"Flatten_oty48wicmi\" \n",
      "\t\t\t\t\t  outputs : \"Linear_f52en7ntbm\"\n",
      "\t\t\t\t\t  layer_params { \n",
      "\t\t\t\t\t \t in_features : \"774400\"  out_features : \"100\"  bias : \"True\" \n",
      "\t\t\t\t\t } \n",
      "\t\t\t\t\t }\n",
      "\t\t\t\t\t }layer {\n",
      "\t\t\t\t\t linear {\n",
      "\t\t\t\t\t  name : \"Linear_f52en7ntbm\"\n",
      "\t\t\t\t\t  layer_builder : \"NNTorchLayer\"\n",
      "\t\t\t\t\t  layer_mode : LINEAR\n",
      "\t\t\t\t\t  inputs: \"Linear_g1d8f7ed2\" \n",
      "\t\t\t\t\t  outputs : \"Output_9wj2ozsplu\"\n",
      "\t\t\t\t\t  layer_params { \n",
      "\t\t\t\t\t \t in_features : \"100\"  out_features : \"22\"  bias : \"True\" \n",
      "\t\t\t\t\t } \n",
      "\t\t\t\t\t }\n",
      "\t\t\t\t\t } }\n",
      "\n"
     ]
    }
   ],
   "source": [
    "a = '''\n",
    "plain_net { name : \\\"hproject_model_name\\\" layer {\n",
    "\t\t\t\t\t norm {\n",
    "\t\t\t\t\t  name : \\\"BatchNorm2d_r272tc35zo\\\"\n",
    "\t\t\t\t\t  layer_builder : \\\"NNTorchLayer\\\"\n",
    "\t\t\t\t\t  layer_mode : BATCHNORM2D\n",
    "\t\t\t\t\t  inputs: 'x'\n",
    "\t\t\t\t\t  outputs : \\\"Conv2d_b5c0rnsyvp\\\"\n",
    "\t\t\t\t\t  layer_params { \n",
    "\t\t\t\t\t \t num_features : \\\"3\\\"  momentum : \\\"0.1\\\"  affine : \\\"True\\\"  track_running_stats : \\\"True\\\" \n",
    "\t\t\t\t\t } \n",
    "\t\t\t\t\t }\n",
    "\t\t\t\t\t }layer {\n",
    "\t\t\t\t\t conv {\n",
    "\t\t\t\t\t  name : \\\"Conv2d_b5c0rnsyvp\\\"\n",
    "\t\t\t\t\t  layer_builder : \\\"NNTorchLayer\\\"\n",
    "\t\t\t\t\t  layer_mode : CONV2D\n",
    "\t\t\t\t\t  inputs: \\\"BatchNorm2d_r272tc35zo\\\" \n",
    "\t\t\t\t\t  outputs : \\\"MaxPool2d_ke4lxy17us\\\"\n",
    "\t\t\t\t\t  layer_params { \n",
    "\t\t\t\t\t \t in_channels : \\\"3\\\"  out_channels : \\\"64\\\"  kernel_size : \\\"7\\\"  stride : \\\"2\\\"  padding : \\\"1\\\"  dilation : \\\"1\\\"  groups : \\\"1\\\"  bias : \\\"True\\\" \n",
    "\t\t\t\t\t } \n",
    "\t\t\t\t\t }\n",
    "\t\t\t\t\t }layer {\n",
    "\t\t\t\t\t pool {\n",
    "\t\t\t\t\t  name : \\\"MaxPool2d_ke4lxy17us\\\"\n",
    "\t\t\t\t\t  layer_builder : \\\"NNTorchLayer\\\"\n",
    "\t\t\t\t\t  layer_mode : MAXPOOL2D\n",
    "\t\t\t\t\t  inputs: \\\"Conv2d_b5c0rnsyvp\\\" \n",
    "\t\t\t\t\t  outputs : \\\"Flatten_oty48wicmi\\\"\n",
    "\t\t\t\t\t  layer_params { \n",
    "\t\t\t\t\t \t kernel_size : \\\"3\\\"  stride : \\\"1\\\"  padding : \\\"1\\\"  ceil_mode : \\\"False\\\" \n",
    "\t\t\t\t\t } \n",
    "\t\t\t\t\t }\n",
    "\t\t\t\t\t }layer {\n",
    "\t\t\t\t\t vulkan {\n",
    "\t\t\t\t\t  name : \\\"Flatten_oty48wicmi\\\"\n",
    "\t\t\t\t\t  layer_builder : \\\"NNTorchLayer\\\"\n",
    "\t\t\t\t\t  layer_mode : FLATTEN\n",
    "\t\t\t\t\t  inputs: \\\"MaxPool2d_ke4lxy17us\\\" \n",
    "\t\t\t\t\t  outputs : \\\"Linear_g1d8f7ed2\\\"\n",
    "\t\t\t\t\t  layer_params { \n",
    "\t\t\t\t\t \t start_dim : \\\"1\\\"  end_dim : \\\"-1\\\" \n",
    "\t\t\t\t\t } \n",
    "\t\t\t\t\t }\n",
    "\t\t\t\t\t }layer {\n",
    "\t\t\t\t\t linear {\n",
    "\t\t\t\t\t  name : \\\"Linear_g1d8f7ed2\\\"\n",
    "\t\t\t\t\t  layer_builder : \\\"NNTorchLayer\\\"\n",
    "\t\t\t\t\t  layer_mode : LINEAR\n",
    "\t\t\t\t\t  inputs: \\\"Flatten_oty48wicmi\\\" \n",
    "\t\t\t\t\t  outputs : \\\"Linear_f52en7ntbm\\\"\n",
    "\t\t\t\t\t  layer_params { \n",
    "\t\t\t\t\t \t in_features : \\\"774400\\\"  out_features : \\\"100\\\"  bias : \\\"True\\\" \n",
    "\t\t\t\t\t } \n",
    "\t\t\t\t\t }\n",
    "\t\t\t\t\t }layer {\n",
    "\t\t\t\t\t linear {\n",
    "\t\t\t\t\t  name : \\\"Linear_f52en7ntbm\\\"\n",
    "\t\t\t\t\t  layer_builder : \\\"NNTorchLayer\\\"\n",
    "\t\t\t\t\t  layer_mode : LINEAR\n",
    "\t\t\t\t\t  inputs: \\\"Linear_g1d8f7ed2\\\" \n",
    "\t\t\t\t\t  outputs : \\\"Output_9wj2ozsplu\\\"\n",
    "\t\t\t\t\t  layer_params { \n",
    "\t\t\t\t\t \t in_features : \\\"100\\\"  out_features : \\\"22\\\"  bias : \\\"True\\\" \n",
    "\t\t\t\t\t } \n",
    "\t\t\t\t\t }\n",
    "\t\t\t\t\t } }\n",
    "'''\n",
    "print(a)"
   ]
  }
 ],
 "metadata": {
  "kernelspec": {
   "display_name": "Python 3",
   "language": "python",
   "name": "python3"
  },
  "language_info": {
   "codemirror_mode": {
    "name": "ipython",
    "version": 3
   },
   "file_extension": ".py",
   "mimetype": "text/x-python",
   "name": "python",
   "nbconvert_exporter": "python",
   "pygments_lexer": "ipython3",
   "version": "3.6.9"
  },
  "toc": {
   "base_numbering": 1,
   "nav_menu": {},
   "number_sections": true,
   "sideBar": true,
   "skip_h1_title": true,
   "title_cell": "",
   "title_sidebar": "Contents",
   "toc_cell": false,
   "toc_position": {},
   "toc_section_display": true,
   "toc_window_display": false
  }
 },
 "nbformat": 4,
 "nbformat_minor": 4
}
