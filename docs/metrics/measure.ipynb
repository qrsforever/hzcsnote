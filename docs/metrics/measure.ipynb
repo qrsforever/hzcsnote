{
 "cells": [
  {
   "cell_type": "markdown",
   "metadata": {},
   "source": [
    "# <div align=\"center\">  Measuring Performance </div>"
   ]
  },
  {
   "cell_type": "markdown",
   "metadata": {},
   "source": [
    "## 混淆矩阵(Confusion Matrix)\n",
    "\n",
    "![](https://gitee.com/qrsforever/blog_source_assets/raw/master/AI/TPFN_convid19.png)\n",
    "\n",
    "例如:\n",
    "\n",
    "    望京SOHO,有家公司研发出一台通过超级红外即可判别某人是否得了新冠, 为了验证这台机器是否靠谱, 对100人样本进行测试, 其中有10人感染了新冠, 分析以下指标对该产品进行可信度评估.\n",
    "    经过测试, 该机器诊断出12人为新冠患者(8人为真患者positive, 4人为健康人negative), 那么88人中存在2人为真患者, 86人为健康人.\n",
    "    \n",
    "真实结果|预测值|人数|解释\n",
    ":--:|:--:|:--:|:------\n",
    "<img width=\"100\"/>|<img width=\"100\"/>|<img width=\"200\"/>|<img width=\"400\"/>\n",
    "T(真)|P(阳性)| 8 | \n",
    "F(假)|P(阳性)| 4 |(假阳性, 健康人被机器错误的判断为了阳性, 发生第一类错误)\n",
    "F(假)|N(阴性)| 2 |(假阴性, 新冠患者没能被机器识别出(阳性), 错误的将其判为健康人, 发生第二类错误(严重))\n",
    "T(真)|N(阴性)| 86|"
   ]
  },
  {
   "cell_type": "markdown",
   "metadata": {},
   "source": [
    "## 准确率(Accuracy)\n",
    "\n",
    "预测正确的结果占总样本的百分比\n",
    "\n",
    "> $$\n",
    "  Accuracy = \\dfrac{TP + TN}{TP + NP + TN + FN} = \\dfrac{8 + 86}{100} = \\dfrac{94}{100}\n",
    "  $$\n",
    "  \n",
    "当遇到不平衡的样本时, 准确率不能作为可靠的指标对系统进行评估, 就如上面的新冠病毒的例子, 一般患有新冠的人(阳性)数比较少(10人), 实际情况会更少, 那么系统(机器)把所有人都预测为健康人(阴性), 这种情况下计算出的$Accuracy = \\dfrac{90}{100} = 90\\%$, 然而这是不可靠的."
   ]
  },
  {
   "cell_type": "markdown",
   "metadata": {},
   "source": [
    "## 特异性(Specificity / True Negative Rate)\n",
    "\n",
    "\n",
    "> $$\n",
    "  Specificity = TNR = \\dfrac{TN}{TN + FP} = \\dfrac{86}{86 + 4} = \\dfrac{86}{90}\n",
    "  $$\n",
    "\n",
    "**分母为真实样本中阴性数量, 从真实样本中, 分辨出阴性的概率, 检测出健康人(阴性)的能力**\n",
    "\n",
    "如果机器作弊把100人都识别为患者, 则$TN=0, FP=90$没有检测出阴性的人, 所以 $Specificity = 0\\%$, 检测不出健康的人."
   ]
  },
  {
   "cell_type": "markdown",
   "metadata": {},
   "source": [
    "## 假阳性率/误诊率/第一类错误(False Positive Rate)\n",
    "\n",
    "> $$\n",
    "  FPR = \\dfrac{FP}{FP + TN} = 1 - Specificity = \\dfrac{4}{4 + 86} = \\dfrac{4}{90}\n",
    "  $$\n",
    " \n",
    "**分母为真实样本中阴性数量, 误诊率, 没有病却被判为有病所在的比例 (犯第一类错误, 误诊)**"
   ]
  },
  {
   "cell_type": "markdown",
   "metadata": {},
   "source": [
    "## 假阴性率/漏诊率/第二类错误(False Negative Rate)\n",
    "\n",
    "\n",
    "> $$\n",
    "  FNR = \\dfrac{FN}{FN + TP} = 1 - Recall = \\dfrac{2}{2 + 8} = \\dfrac{2}{10}\n",
    "  $$\n",
    " \n",
    "**分母为真实样本中阳性数量, 漏诊率, 患者却被判为无病所在的比例 (犯第二类错误, 漏诊)**"
   ]
  },
  {
   "cell_type": "markdown",
   "metadata": {},
   "source": [
    "## 灵敏度/召回率/真阳性率/命中率(Sensitivity / Recall / True Positive Rate/Hit Rate)\n",
    "\n",
    "实际为阳性的样本(10个)中被预测为阳性样本(8个)的概率, 还有个名字叫**查全率**\n",
    "\n",
    "> $$\n",
    "  Sensitivity = \\dfrac{TP}{TP + FN} = \\dfrac{8}{8 + 2} = \\dfrac{8}{10}\n",
    "  $$\n",
    "\n",
    "**分母为真实样本中阳性数量, 从真实样本中, 分辨出阳性的概率, 检测出有病人(阳性)的能力**\n",
    "\n",
    "Sensitivity/Recall 表示能够识别出新冠患者的能力(越高越好), 不能只从这一个指标衡量模型(机器)的可靠与否, 比如,\n",
    "\n",
    "机器作弊把100人都识别为患者, 则$TP=10, FN=0$, 所以$Sensitivity/Recall = 100\\%$, 机器太灵敏过度了."
   ]
  },
  {
   "cell_type": "markdown",
   "metadata": {},
   "source": [
    "## 精确度/阳性预测值(Precision/Positive Predictive Value)\n",
    "\n",
    "被预测成阳性样本中(12个)中, 真正阳性样本的概率, 还有个名字叫**查准率**\n",
    "\n",
    "> $$\n",
    "  Precision = \\dfrac{TP}{TP + FP} = \\dfrac{8}{8 + 4} = \\dfrac{8}{12}\n",
    "  $$\n",
    "\n",
    "**分母为机器检测出阳性的数量, 预测的结果中阳性所在比例**\n",
    "\n",
    "如果机器作弊把100人都识别为患者, 则$TP=10, FP=90$, 所以$Precision = \\dfrac{10}{10 + 90} = \\dfrac{10}{100}$, 虽然召回率为100%, 但是精确度太低, 机器一样不靠谱(样本不平衡)."
   ]
  },
  {
   "cell_type": "markdown",
   "metadata": {},
   "source": [
    "## F1-Score\n",
    "\n",
    "查准率(精确度Precision)和查全率(召回率Recall)是负相关的关系, 如果要提升查准率, 必然将条件设置的严格一些(决策阀值大)，以尽可能将反例(90)排除, 将会导致部分阳性也排除(漏诊), 查全率也就会下降. 同样, 如果要提升查全率, 必将条件设置的宽松一些(决策阀值小), 以尽可能将阳性包含进来, 这就导致部分阴性的也被包含, 查准率就会下降.\n",
    "\n",
    "F1-Score是为了平衡查准率和查全率两个指标的关系.\n",
    "\n",
    "$$\n",
    "F_1 = \\dfrac{2 * Precision×Recall}{Precision+Recall}\n",
    "$$"
   ]
  },
  {
   "cell_type": "markdown",
   "metadata": {},
   "source": [
    "## AUROC(Area Under ROC) "
   ]
  },
  {
   "cell_type": "markdown",
   "metadata": {},
   "source": [
    "### 决策阀值(Decision thresholds)\n",
    "\n",
    "对于分类问题, 当模型(机器)在给定的样本(人)输入计算出预测的概率后, 需要根据一个阀值来将预测概率(>0.9)转为预测的分类标签(新冠还是健康人). 有了分类标签才能计算出上图的混淆矩阵. 不同的阀值形成不同的混淆矩阵, 进而计算出的AUROC也不相同.\n",
    "\n",
    "决策阀值的设置需要依赖具体的问题设置, 针对筛选新冠人, 我认为条件要宽松一些(阀值要小), 尽量不要有漏网的(漏诊的), 漏诊的后果相对严重. 如果设置threshhold=0.99,那么只有预测概率大于0.99的才被认为阳性(得了新冠), 条件严格, 部分阳性被判为阴性.\n",
    "\n",
    "- 决策阀值$\\theta=0$\n",
    " > 全部样本都被预测为阳性\n",
    " $$\n",
    " \\begin{align*}\n",
    "     FN &= 0 \\\\\n",
    "     TN &= 0 \\\\\n",
    "     TPR &= \\dfrac{TP}{TP + FN} = 1 \\\\\n",
    "     NPR &= \\dfrac{FP}{FP + TN} = 1\n",
    " \\end{align*}\n",
    " $$\n",
    "\n",
    "- 决策阀值$\\theta=1$\n",
    " > 全部样本都被预测为阴性\n",
    " $$\n",
    " \\begin{align*}\n",
    "     TP &= 0 \\\\\n",
    "     FP &= 0 \\\\\n",
    "     TPR &= \\dfrac{TP}{TP + FN} = 0 \\\\\n",
    "     NPR &= \\dfrac{FP}{FP + TN} = 0\n",
    " \\end{align*}\n",
    " $$"
   ]
  },
  {
   "cell_type": "markdown",
   "metadata": {},
   "source": [
    "### ROC(Receiver Operating Characteristics)\n",
    "\n",
    "TPR(灵敏度/召回率)和NPR(假阳性率)都是关于实际(金标准)样本中阳性和阴性来观察相关的概率问题, TPR是实际样本中**阳性**被覆盖的概率, 而NPR则是实际样本中**阴性**被覆盖的概率(错误的预测为阳性), 不受因样本不平衡带来的问题(精确度不一样)的影响.  **以实际结果为条件的指标都不受样本不平衡的影响，相反以预测结果为条件的就会受到影响。**\n",
    "\n",
    "ROC（Receiver Operating Characteristic）曲线，又称接受者操作特征曲线。该曲线最早应用于雷达信号检测领域，用于区分信号与噪声。后来人们将其用于评价模型的预测能力，ROC曲线是基于混淆矩阵得出的。\n",
    "\n",
    "ROC curves typically feature true positive rate on the Y axis, and false positive rate on the X axis.\n",
    "\n",
    "\n",
    "![AUROC](https://gitee.com/qrsforever/blog_source_assets/raw/master/AI/auroc/auroc.png)\n",
    "\n",
    "Point|Figure|Description \n",
    ":-:|:--:|:----\n",
    "A|![][auc_A]|所有阳性的被正确的分辨出, 所有阴性的都被错误的判别为阳性; <br>决策阀值$\\theta=0$, 把全样本都预测为阳性. 如果真实样本阳性和阴性人数相等(平衡样本), 这精确度(Precision)结果为0.5, 如果阳性比阴性的人多(偏依样本), 则精确度结果大于0.5, 相反阴性人比阳性的多, 这精确度会小于0.5\n",
    "B|![][auc_B]|决策阀值$\\theta>0, 值很小$; 阴性的人有少量分对了.\n",
    "C,D|![][auc_CD]| 决策阀值$\\theta$不断提高\n",
    "E|![][auc_E]|所有阴性的人都被正确的分类\n",
    "\n",
    "\n",
    "[auc_A]: https://gitee.com/qrsforever/blog_source_assets/raw/master/AI/auroc/auc_A.png\n",
    "\n",
    "[auc_B]: https://gitee.com/qrsforever/blog_source_assets/raw/master/AI/auroc/auc_B.png\n",
    "\n",
    "[auc_CD]: https://gitee.com/qrsforever/blog_source_assets/raw/master/AI/auroc/auc_CD.png\n",
    "\n",
    "[auc_E]: https://gitee.com/qrsforever/blog_source_assets/raw/master/AI/auroc/auc_E.png\n",
    "\n",
    "TPR 越高，同时 FPR 越低（即 ROC 曲线越陡），那么模型的性能就越好。"
   ]
  },
  {
   "cell_type": "markdown",
   "metadata": {},
   "source": [
    "### AUC (Area Under Curve)\n",
    "\n",
    "**AUC-ROC curve is only for binary classification problems**\n",
    "\n",
    "ROC 曲线越陡越好，所以理想值就是 1，一个正方形，而最差的随机判断都有 0.5，所以一般 AUC 的值是介于 0.5 到 1 之间的。\n",
    "\n",
    "AUC 的一般判断标准:\n",
    "\n",
    "区间| |效果 \n",
    "---:|:--:|:-----\n",
    "<img width=200px/>|<img width=200px>|<img width=450px/>\n",
    "0.5 - 0.7| |效果较低\n",
    "0.7 - 0.85| |效果一般\n",
    "0.85 - 0.95| |效果很好\n",
    "0.95 - 1| |效果非常好，但一般不太可能\n",
    "\n",
    "AUC的值的大小表示系统模型(机器)对样本的分类能力."
   ]
  },
  {
   "cell_type": "markdown",
   "metadata": {},
   "source": [
    "### AUC多分类\n",
    "\n",
    "采用\"one over rest(all)\"方式, 将要预测的类设置为阳性, 其他的类作为阴性, 计算出该分类的auc分数, \n",
    "其他分类的auc分数的计算以同样的方式进行, 假设有10个分类, 随后计算出的10个分类在做一次平均值即可(该方式为\"macro\"平均)"
   ]
  },
  {
   "cell_type": "markdown",
   "metadata": {},
   "source": [
    "### Codes"
   ]
  },
  {
   "cell_type": "code",
   "execution_count": 1,
   "metadata": {
    "ExecuteTime": {
     "end_time": "2020-07-03T08:31:48.737923Z",
     "start_time": "2020-07-03T08:31:47.843488Z"
    }
   },
   "outputs": [],
   "source": [
    "import matplotlib.pyplot as plt\n",
    "from sklearn.datasets import make_classification\n",
    "from sklearn.linear_model import LogisticRegression\n",
    "from sklearn.neighbors import KNeighborsClassifier\n",
    "from sklearn.multiclass import OneVsRestClassifier\n",
    "from sklearn.metrics import roc_curve, auc\n",
    "from sklearn.metrics import roc_auc_score\n",
    "from sklearn.model_selection import train_test_split"
   ]
  },
  {
   "cell_type": "code",
   "execution_count": 2,
   "metadata": {
    "ExecuteTime": {
     "end_time": "2020-07-03T08:31:48.999094Z",
     "start_time": "2020-07-03T08:31:48.740366Z"
    }
   },
   "outputs": [
    {
     "data": {
      "image/png": "[encoded data removed]",
      "text/plain": [
       "<Figure size 576x396 with 1 Axes>"
      ]
     },
     "metadata": {},
     "output_type": "display_data"
    }
   ],
   "source": [
    "plt.style.use('seaborn')\n",
    "## Binary-Class Classification\n",
    "\n",
    "# Make Data\n",
    "\n",
    "X, y = make_classification(n_samples=1000, n_classes=2, n_features=20, random_state=27)\n",
    "X_train, X_test, y_train, y_test = train_test_split(X, y, test_size=0.3, random_state=27)\n",
    "\n",
    "# Logist Vs Knn\n",
    "\n",
    "log_rgr = LogisticRegression()\n",
    "knn_cls = KNeighborsClassifier(n_neighbors=4)\n",
    "\n",
    "log_rgr.fit(X_train, y_train)\n",
    "knn_cls.fit(X_train, y_train)\n",
    "\n",
    "log_pred_prob = log_rgr.predict_proba(X_test)\n",
    "knn_pred_prob = knn_cls.predict_proba(X_test)\n",
    "\n",
    "# ROC curve\n",
    "\n",
    "fpr1, tpr1, threshold1 = roc_curve(y_test, log_pred_prob[:,1], pos_label=1)\n",
    "fpr2, tpr2, threshold2 = roc_curve(y_test, knn_pred_prob[:,1], pos_label=1)\n",
    "\n",
    "plt.plot(fpr1, tpr1, linestyle='--',color='orange', label='Logistic Regression')\n",
    "plt.plot(fpr2, tpr2, linestyle='--',color='green', label='KNN')\n",
    "plt.plot([0, 1], [0, 1], '--', color='blue')\n",
    "plt.title('ROC curve')\n",
    "plt.xlabel('False Positive Rate')\n",
    "plt.ylabel('True Positive rate')\n",
    "plt.legend(loc='best');"
   ]
  },
  {
   "cell_type": "code",
   "execution_count": 3,
   "metadata": {
    "ExecuteTime": {
     "end_time": "2020-07-03T08:31:49.258117Z",
     "start_time": "2020-07-03T08:31:49.002250Z"
    }
   },
   "outputs": [
    {
     "data": {
      "image/png": "[encoded data removed]",
      "text/plain": [
       "<Figure size 576x396 with 1 Axes>"
      ]
     },
     "metadata": {},
     "output_type": "display_data"
    }
   ],
   "source": [
    "## Multi-Class Classification\n",
    "\n",
    "### Make Data\n",
    "\n",
    "X, y = make_classification(n_samples=1000, n_classes=3, n_features=20, n_informative=3, random_state=42)\n",
    "X_train, X_test, y_train, y_test = train_test_split(X, y, test_size=0.4, random_state=42)\n",
    "\n",
    "### Model\n",
    "\n",
    "clf = OneVsRestClassifier(LogisticRegression())\n",
    "clf.fit(X_train, y_train)\n",
    "pred = clf.predict(X_test)\n",
    "pred_prob = clf.predict_proba(X_test)\n",
    "\n",
    "for i, c in enumerate(('orange', 'green', 'blue')):    \n",
    "    fpr, tpr, thresh = roc_curve(y_test, pred_prob[:,i], pos_label=i)\n",
    "    roc_auc = auc(fpr, tpr)\n",
    "    plt.plot(fpr, tpr, linestyle='--',color=c, label='Class %d vs Rest (area = %0.2f)' % (i, roc_auc))\n",
    "    \n",
    "plt.title('Multiclass ROC curve')\n",
    "plt.xlabel('False Positive Rate')\n",
    "plt.ylabel('True Positive rate')\n",
    "plt.legend(loc='best');"
   ]
  },
  {
   "cell_type": "markdown",
   "metadata": {},
   "source": [
    "# References\n",
    "\n",
    "#. https://glassboxmedicine.com/2019/02/17/measuring-performance-the-confusion-matrix\n",
    "#. https://glassboxmedicine.com/2019/02/23/measuring-performance-auc-auroc/\n",
    "#. https://towardsdatascience.com/understanding-confusion-matrix-a9ad42dcfd62\n",
    "#. https://towardsdatascience.com/understanding-auc-roc-curve-68b2303cc9c5\n",
    "#. http://bookshadow.com/weblog/2014/06/10/precision-recall-f-measure\n",
    "#. https://machinelearningmastery.com/roc-curves-and-precision-recall-curves-for-classification-in-python/"
   ]
  },
  {
   "cell_type": "code",
   "execution_count": null,
   "metadata": {},
   "outputs": [],
   "source": []
  }
 ],
 "metadata": {
  "kernelspec": {
   "display_name": "Python 3",
   "language": "python",
   "name": "python3"
  },
  "language_info": {
   "codemirror_mode": {
    "name": "ipython",
    "version": 3
   },
   "file_extension": ".py",
   "mimetype": "text/x-python",
   "name": "python",
   "nbconvert_exporter": "python",
   "pygments_lexer": "ipython3",
   "version": "3.6.9"
  },
  "toc": {
   "base_numbering": 1,
   "nav_menu": {
    "height": "522px",
    "width": "568px"
   },
   "number_sections": true,
   "sideBar": true,
   "skip_h1_title": true,
   "title_cell": "",
   "title_sidebar": "Contents",
   "toc_cell": false,
   "toc_position": {
    "height": "calc(100% - 180px)",
    "left": "10px",
    "top": "150px",
    "width": "349.091px"
   },
   "toc_section_display": true,
   "toc_window_display": false
  }
 },
 "nbformat": 4,
 "nbformat_minor": 4
}
