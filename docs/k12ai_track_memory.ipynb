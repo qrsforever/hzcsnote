{
 "cells": [
  {
   "cell_type": "code",
   "execution_count": 1,
   "metadata": {},
   "outputs": [],
   "source": [
    "%reload_ext autoreload\n",
    "%autoreload 2"
   ]
  },
  {
   "cell_type": "code",
   "execution_count": 9,
   "metadata": {},
   "outputs": [],
   "source": [
    "from k12libs.utils.nb_easy import k12ai_get_config\n",
    "from k12libs.utils.nb_easy import k12ai_train_execute"
   ]
  },
  {
   "cell_type": "code",
   "execution_count": 5,
   "metadata": {},
   "outputs": [],
   "source": [
    "config_cifar10 = k12ai_get_config('k12cv', 'cls', 'base_model', 'cifar10')"
   ]
  },
  {
   "cell_type": "code",
   "execution_count": 8,
   "metadata": {},
   "outputs": [
    {
     "data": {
      "text/plain": [
       "{'task': 'cls',\n",
       " 'method': 'image_classifier',\n",
       " 'data.include_val': False,\n",
       " 'dataset': 'default',\n",
       " 'data.workers': 4,\n",
       " 'data.drop_last': False,\n",
       " 'data.image_tool': 'pil',\n",
       " 'data.input_mode': 'RGB',\n",
       " 'solver.display_iter': 20,\n",
       " 'solver.save_iters': 2000,\n",
       " 'solver.test_interval': 100,\n",
       " 'train.batch_size': 64,\n",
       " 'val.batch_size': 32,\n",
       " 'test.batch_size': 32,\n",
       " 'train.data_transformer.fit_stride': 1,\n",
       " 'train.data_transformer.size_mode': 'fix_size',\n",
       " 'train.data_transformer.input_size': [32, 32],\n",
       " 'train.data_transformer.align_method': 'only_pad',\n",
       " 'train.data_transformer.pad_mode': 'pad_border',\n",
       " '_k12.train.random_border.bool': False,\n",
       " '_k12.train.random_brightness.bool': False,\n",
       " '_k12.train.random_contrast.bool': False,\n",
       " '_k12.train.random_crop.bool': False,\n",
       " '_k12.train.random_det_crop.bool': False,\n",
       " '_k12.train.random_gauss_blur.bool': False,\n",
       " '_k12.train.random_hsv.bool': False,\n",
       " '_k12.train.random_hue.bool': False,\n",
       " '_k12.train.random_pad.bool': False,\n",
       " '_k12.train.random_perm.bool': False,\n",
       " '_k12.train.random_resize.bool': False,\n",
       " '_k12.train.random_resized_crop.bool': False,\n",
       " '_k12.train.random_rotate.bool': False,\n",
       " '_k12.train.random_saturation.bool': False,\n",
       " 'val.data_transformer.fit_stride': 1,\n",
       " 'val.data_transformer.size_mode': 'fix_size',\n",
       " 'val.data_transformer.input_size': [32, 32],\n",
       " 'val.data_transformer.align_method': 'only_pad',\n",
       " 'val.data_transformer.pad_mode': 'pad_border',\n",
       " '_k12.val.random_border.bool': False,\n",
       " '_k12.val.random_brightness.bool': False,\n",
       " '_k12.val.random_contrast.bool': False,\n",
       " '_k12.val.random_crop.bool': False,\n",
       " '_k12.val.random_det_crop.bool': False,\n",
       " '_k12.val.random_gauss_blur.bool': False,\n",
       " '_k12.val.random_hsv.bool': False,\n",
       " '_k12.val.random_hue.bool': False,\n",
       " '_k12.val.random_pad.bool': False,\n",
       " '_k12.val.random_perm.bool': False,\n",
       " '_k12.val.random_resize.bool': False,\n",
       " '_k12.val.random_resized_crop.bool': False,\n",
       " '_k12.val.random_rotate.bool': False,\n",
       " '_k12.val.random_saturation.bool': False,\n",
       " 'test.data_transformer.fit_stride': 1,\n",
       " 'test.data_transformer.size_mode': 'fix_size',\n",
       " 'test.data_transformer.input_size': [32, 32],\n",
       " 'test.data_transformer.align_method': 'only_pad',\n",
       " 'test.data_transformer.pad_mode': 'pad_border',\n",
       " '_k12.test.random_border.bool': False,\n",
       " '_k12.test.random_brightness.bool': False,\n",
       " '_k12.test.random_contrast.bool': False,\n",
       " '_k12.test.random_crop.bool': False,\n",
       " '_k12.test.random_det_crop.bool': False,\n",
       " '_k12.test.random_gauss_blur.bool': False,\n",
       " '_k12.test.random_hsv.bool': False,\n",
       " '_k12.test.random_hue.bool': False,\n",
       " '_k12.test.random_pad.bool': False,\n",
       " '_k12.test.random_perm.bool': False,\n",
       " '_k12.test.random_resize.bool': False,\n",
       " '_k12.test.random_resized_crop.bool': False,\n",
       " '_k12.test.random_rotate.bool': False,\n",
       " '_k12.test.random_saturation.bool': False,\n",
       " '_k12.data.dataset_name': 'cifar10',\n",
       " 'data.data_dir': '/datasets/cifar10',\n",
       " 'data.num_records': 60000,\n",
       " 'data.num_classes': 10,\n",
       " 'data.normalize.mean': [0.485, 0.456, 0.406],\n",
       " 'data.normalize.std': [0.229, 0.224, 0.225],\n",
       " 'data.normalize.div_value': 1,\n",
       " '_k12.detail.name_seq': ['plane',\n",
       "  'car',\n",
       "  'bird',\n",
       "  'cat',\n",
       "  'deer',\n",
       "  'dog',\n",
       "  'frog',\n",
       "  'horse',\n",
       "  'ship',\n",
       "  'truck'],\n",
       " '_k12.dev': 'http://116.85.5.40:8118/notebooks/cv/tasks/cls_base_model_cifar10.ipynb',\n",
       " 'network.model_name': 'base_model',\n",
       " 'network.distributed': True,\n",
       " 'network.resume_continue': False,\n",
       " 'network.backbone': 'vgg19',\n",
       " 'network.pretrained': False,\n",
       " 'network.resume_strict': False,\n",
       " 'network.norm_type': 'batchnorm',\n",
       " 'network.syncbn': False,\n",
       " 'network.resume_val': False,\n",
       " 'network.checkpoints_root': '/cache',\n",
       " 'network.checkpoints_dir': 'ckpts',\n",
       " '_k12.network.pretrained_path': '/pretrained',\n",
       " 'solver.lr.metric': 'epoch',\n",
       " 'solver.max_epoch': 30,\n",
       " 'solver.lr.base_lr': 0.001,\n",
       " 'solver.lr.lr_policy': 'multistep',\n",
       " 'solver.lr.multistep.gamma': 0.1,\n",
       " 'solver.lr.multistep.stepvalue': [90, 120],\n",
       " 'solver.lr.is_warm': False,\n",
       " 'loss.loss_type': 'ce_loss',\n",
       " 'loss.loss_weights.ce_loss.ce_loss': 1.0,\n",
       " 'loss.params.ce_loss.reduction': 'mean',\n",
       " 'loss.params.ce_loss.ignore_index': -1,\n",
       " 'solver.optim.optim_method': 'adam',\n",
       " 'solver.optim.adam.weight_decay': 0.001,\n",
       " 'solver.optim.adam.betas': [0.5, 0.999],\n",
       " 'solver.optim.adam.eps': 1e-08}"
      ]
     },
     "execution_count": 8,
     "metadata": {},
     "output_type": "execute_result"
    }
   ],
   "source": [
    "config_cifar10['train.batch_size'] = 64\n",
    "config_cifar10_32 = config_cifar10\n",
    "config_cifar10_32 "
   ]
  },
  {
   "cell_type": "code",
   "execution_count": 12,
   "metadata": {},
   "outputs": [
    {
     "name": "stdout",
     "output_type": "stream",
     "text": [
      "['framework/15801310416/675007-0/train', 'framework/15801310416/675007-1/train', 'framework/15801310416/675007-2/train']\n"
     ]
    }
   ],
   "source": [
    "keys = k12ai_train_execute('k12cv', 'cls', 'base_model', 'cifar10', batch_size=128, run_num=3)\n",
    "print(keys)"
   ]
  }
 ],
 "metadata": {
  "kernelspec": {
   "display_name": "Python 3",
   "language": "python",
   "name": "python3"
  },
  "language_info": {
   "codemirror_mode": {
    "name": "ipython",
    "version": 3
   },
   "file_extension": ".py",
   "mimetype": "text/x-python",
   "name": "python",
   "nbconvert_exporter": "python",
   "pygments_lexer": "ipython3",
   "version": "3.6.9"
  }
 },
 "nbformat": 4,
 "nbformat_minor": 4
}
