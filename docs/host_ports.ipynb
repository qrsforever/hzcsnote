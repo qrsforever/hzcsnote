{
 "cells": [
  {
   "cell_type": "markdown",
   "metadata": {},
   "source": [
    "# <div align=\"center\"> K12学习框架的服务及端口 </div>"
   ]
  },
  {
   "cell_type": "markdown",
   "metadata": {},
   "source": [
    "## 1. Host"
   ]
  },
  {
   "cell_type": "markdown",
   "metadata": {},
   "source": [
    "| 地址 | 别名 | 描述 |\n",
    "| :--- | :--- | :----|\n",
    "| <img width=200/> | <img width=200/> | <img width=300/> |\n",
    "| 117.51.137.172 | alpha | 业务机 |\n",
    "| 116.85.47.250 | beta | 正式机(淘汰) |\n",
    "| 116.85.54.39  | sigma | 正式机-1 |\n",
    "| 116.85.5.40 | eta | 测试机 |\n",
    "| 117.51.156.111 | gamma | 测试机(低配, 淘汰) |"
   ]
  },
  {
   "cell_type": "markdown",
   "metadata": {},
   "source": [
    "## 2. Post"
   ]
  },
  {
   "cell_type": "markdown",
   "metadata": {},
   "source": [
    "| 端口 | 服务 | 描述 |\n",
    "| :--- | :--- | :----|\n",
    "| <img width=200/> | <img width=200/> | <img width=300/> |\n",
    "| 8500 | [Consul](http://116.85.5.40:8500/ui/k12ai/services) | 服务监控和数据中心 |\n",
    "| 9500 | k12ai docker images | docker image 仓库 |\n",
    "| 8119 | k12ai | REST API服务 |\n",
    "| 8129 | k12ml | 传统机器学习框架RPC接口服务 |\n",
    "| 8139 | k12cv | 计算机视觉学习框架RPC接口服务 |\n",
    "| 8149 | k12nlp | 自然语言学习框架RPC接口服务 |\n",
    "| 8159 | k12rl | 强化学习框架RPC接口服务 |\n",
    "| 8118 | k12ai notebook | 文档笔记, 具体的框架不能执行, 但可以使用REST API驱动框架(推荐) |\n",
    "| 8128 | k12ml notebook | 文档笔记, 含有ML框架运行环境, 可以执行ML代码(不推荐, 用于调试) |\n",
    "| 8138 | k12cv notebook | 文档笔记, 含有CV框架运行环境, 可以执行CV代码(不推荐, 用于调试) |\n",
    "| 8148 | k12nlp notebook | 文档笔记, 含有NLP框架运行环境, 可以执行NLP代码(不推荐, 用于调试) |\n",
    "| 8158 | k12rl notebook | 文档笔记, 含有RL框架运行环境, 可以执行RL代码(不推荐, 用于调试) |\n",
    "| <img width=200/> | <img width=200/> | <img width=300/> |\n",
    "| 900x | k12ai:tensorbord | tensorbor 服务端口 |\n",
    "| 9090 | k12ai:image server | 数据集服务端口 |\n",
    "| 9091 | k12ai:model gojs server | 用户自定义模型服务 |"
   ]
  },
  {
   "cell_type": "markdown",
   "metadata": {},
   "source": [
    "## 数据集路径形式"
   ]
  },
  {
   "cell_type": "code",
   "execution_count": null,
   "metadata": {},
   "outputs": [],
   "source": []
  }
 ],
 "metadata": {
  "kernelspec": {
   "display_name": "Python 3",
   "language": "python",
   "name": "python3"
  },
  "language_info": {
   "codemirror_mode": {
    "name": "ipython",
    "version": 3
   },
   "file_extension": ".py",
   "mimetype": "text/x-python",
   "name": "python",
   "nbconvert_exporter": "python",
   "pygments_lexer": "ipython3",
   "version": "3.6.9"
  }
 },
 "nbformat": 4,
 "nbformat_minor": 2
}
