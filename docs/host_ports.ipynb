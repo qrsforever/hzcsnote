{
 "cells": [
  {
   "cell_type": "markdown",
   "metadata": {
    "toc": true
   },
   "source": [
    "<h1>Table of Contents<span class=\"tocSkip\"></span></h1>\n",
    "<div class=\"toc\"><ul class=\"toc-item\"><li><span><a href=\"#1.-Host\" data-toc-modified-id=\"1.-Host-1\">1. Host</a></span></li><li><span><a href=\"#2.-Post\" data-toc-modified-id=\"2.-Post-2\">2. Post</a></span></li><li><span><a href=\"#数据集路径形式\" data-toc-modified-id=\"数据集路径形式-3\">数据集路径形式</a></span></li></ul></div>"
   ]
  },
  {
   "cell_type": "markdown",
   "metadata": {},
   "source": [
    "# <div align=\"center\"> K12学习框架的服务及端口 </div>"
   ]
  },
  {
   "cell_type": "markdown",
   "metadata": {},
   "source": [
    "## 1. Host"
   ]
  },
  {
   "cell_type": "markdown",
   "metadata": {},
   "source": [
    "| 地址 | 内网| 别名 | 描述 |\n",
    "| :--- | :--- | :--- | :----|\n",
    "| <img width=200/> | <img width=200/> | <img width=200/> | <img width=300/> |\n",
    "| 116.85.56.62 | 10.255.0.41 | alpha | 正式-业务机(CPU) |\n",
    "| 116.85.54.39 | 10.255.0.201 | sigma | 正式-训练机(P40) |\n",
    "| 116.85.5.40 | 10.255.0.58 | eta | 测试-训练机(P40) |\n",
    "| 116.85.23.240 | 10.255.0.202 | chi | 测试-训练机(P4) |\n",
    "| <img width=200/> | <img width=200/> | <img width=200/> | <img width=300/> |\n",
    "| 116.85.66.182  | 10.255.0.101 | gamma101 | 实验课机器 |\n",
    "| 116.85.52.232  | 10.255.0.102 | gamma102 | 实验课机器 |\n",
    "| 116.85.45.189  | 10.255.0.103 | gamma103 | 实验课机器 |\n",
    "| 116.85.10.61   | 10.255.0.104 | gamma104 | 实验课机器 |\n",
    "| 116.85.24.143  | 10.255.0.105 | gamma105 | 实验课机器 |"
   ]
  },
  {
   "cell_type": "markdown",
   "metadata": {},
   "source": [
    "## 2. Post"
   ]
  },
  {
   "cell_type": "markdown",
   "metadata": {},
   "source": [
    "| 端口 | 服务 | 描述 |\n",
    "| :--- | :--- | :----|\n",
    "| <img width=200/> | <img width=200/> | <img width=300/> |\n",
    "| 8500 | [Consul](http://116.85.5.40:8500/ui/k12ai/services) | 服务监控和数据中心 |\n",
    "| 8300 | Consul TCP port) | Consul service check port |\n",
    "| 8301 | Consul LAN port) | Consul cluster join port |\n",
    "| <img width=200/> | <img width=200/> | <img width=300/> |\n",
    "| 9500 | k12ai docker images | docker image 仓库 |\n",
    "| 8119 | k12ai | REST API服务 |\n",
    "| 8129 | k12ml | 传统机器学习框架RPC接口服务 |\n",
    "| 8139 | k12cv | 计算机视觉学习框架RPC接口服务 |\n",
    "| 8239 | k12gan | 计算机视觉学习GAN框架RPC接口服务 |\n",
    "| 8149 | k12nlp | 自然语言学习框架RPC接口服务 |\n",
    "| 8159 | k12rl | 强化学习框架RPC接口服务 |\n",
    "| 8169 | k123d | 3D框架RPC接口服务 |\n",
    "| 8179 | k12pyr | python runner框架RPC接口服务 |\n",
    "| 8178 | k12pyr notebook | pyr notebook环境 |\n",
    "| <img width=200/> | <img width=200/> | <img width=300/> |\n",
    "| 8189 | k12lite | 手写字wx服务 |\n",
    "| 8199 | k12asr | ASR框架RPC接口服务 | \n",
    "| 8117 | k12ai notebook  | 文档笔记, 用于外部和notebook REST API通讯 |\n",
    "| 8118 | k12ai notebook  | 文档笔记, 具体的框架不能执行, 但可以使用REST API驱动框架(推荐) |\n",
    "| <img width=200/> | <img width=200/> | <img width=300/> |\n",
    "| 900x | k12ai:tensorbord | tensorbor 服务端口 |\n",
    "| 9090 | k12ai:image server | 数据集服务端口 |\n",
    "| 9091 | k12ai:www | nb www |\n",
    "| <img width=200/> | <img width=200/> | <img width=300/> |\n",
    "| 9119 | raceai docker images | docker image 仓库|\n",
    "| 9129 | frepai docker images | docker image 仓库|\n",
    "| <img width=200/> | <img width=200/> | <img width=300/> |\n",
    "| 10090 | redis | 只在测试机 |"
   ]
  },
  {
   "cell_type": "markdown",
   "metadata": {},
   "source": [
    "## 数据集路径形式"
   ]
  }
 ],
 "metadata": {
  "hide_input": false,
  "kernelspec": {
   "display_name": "Python 3",
   "language": "python",
   "name": "python3"
  },
  "language_info": {
   "codemirror_mode": {
    "name": "ipython",
    "version": 3
   },
   "file_extension": ".py",
   "mimetype": "text/x-python",
   "name": "python",
   "nbconvert_exporter": "python",
   "pygments_lexer": "ipython3",
   "version": "3.6.9"
  },
  "toc": {
   "base_numbering": 1,
   "nav_menu": {},
   "number_sections": false,
   "sideBar": false,
   "skip_h1_title": true,
   "title_cell": "Table of Contents",
   "title_sidebar": "Contents",
   "toc_cell": true,
   "toc_position": {},
   "toc_section_display": true,
   "toc_window_display": false
  }
 },
 "nbformat": 4,
 "nbformat_minor": 2
}
