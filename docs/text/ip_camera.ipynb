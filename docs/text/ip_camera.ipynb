{
 "cells": [
  {
   "cell_type": "markdown",
   "id": "egyptian-timing",
   "metadata": {},
   "source": [
    "## 本地\n",
    "\n",
    "1. VLC\n",
    "\n",
    "base64('admin:admin') -> `YWRtaW46YWRtaW4=` \n",
    "\n",
    "rtmp://172.16.0.103:1935/flash/11:YWRtaW46YWRtaW4= \n",
    "            \n",
    "rtsp://172.16.0.103/11\n"
   ]
  },
  {
   "cell_type": "markdown",
   "id": "civilian-assessment",
   "metadata": {},
   "source": [
    "## 视频上传OSS通知信息\n",
    "\n",
    "```json\n",
    "{\n",
    "    \"etag\": \"61590abd3fee5b6a346ca61dba2202b8\",   // S3对象唯一码\n",
    "    \"bucket\": \"frepai\", \n",
    "    \"object\": \"live/00e685ef87b4/videos/seg.30s/20210629171503.mp4\", // 视频存放的Key(位置)\n",
    "    \"size\": 306964,         // 视频的大小(字节)\n",
    "    \"time\": [\n",
    "        1624958135.771467,  // 上传起始时间\n",
    "        1624958135.8189926  // 上传结束时间\n",
    "    ],  \n",
    "    \"app\": \"live\",             // 直播视频app标识(可以是不同工长ID, 也可以是任意其他字符)\n",
    "    \"stream\": \"00e685ef87b4\",  // 直播视频livestream标识, 必须为摄像头的mac地址\n",
    "    \"filename\": \"20210629171503.mp4\",  // 视频的文件名\n",
    "    \"duration\": 30                     // 视频的时长(单位s)\n",
    "}\n",
    "```"
   ]
  },
  {
   "cell_type": "markdown",
   "id": "nasty-walnut",
   "metadata": {},
   "source": [
    "## References\n",
    "\n",
    "1. https://blog.csdn.net/ai2000ai/article/details/72771461\n",
    "\n",
    "2. https://github.com/ossrs/srs-docker/blob/v4/Dockerfile\n",
    "\n",
    "3. https://stackoverflow.com/questions/64274829/how-can-i-convert-rtmp-nginx-livestream-from-flv-to-mp4-file\n",
    "\n",
    "4. https://www.lingodigit.com/onvif_nvcdemo.html\n",
    "\n",
    "5. https://github.com/KoynovStas/onvif_srvd"
   ]
  },
  {
   "cell_type": "code",
   "execution_count": 2,
   "id": "southern-outdoors",
   "metadata": {
    "ExecuteTime": {
     "end_time": "2021-06-29T09:31:28.057905Z",
     "start_time": "2021-06-29T09:31:28.045767Z"
    }
   },
   "outputs": [
    {
     "data": {
      "text/plain": [
       "'30'"
      ]
     },
     "execution_count": 2,
     "metadata": {},
     "output_type": "execute_result"
    }
   ],
   "source": []
  }
 ],
 "metadata": {
  "hide_input": false,
  "kernelspec": {
   "display_name": "Python 3",
   "language": "python",
   "name": "python3"
  },
  "language_info": {
   "codemirror_mode": {
    "name": "ipython",
    "version": 3
   },
   "file_extension": ".py",
   "mimetype": "text/x-python",
   "name": "python",
   "nbconvert_exporter": "python",
   "pygments_lexer": "ipython3",
   "version": "3.6.9"
  },
  "toc": {
   "base_numbering": 1,
   "nav_menu": {},
   "number_sections": true,
   "sideBar": true,
   "skip_h1_title": true,
   "title_cell": "",
   "title_sidebar": "Contents",
   "toc_cell": false,
   "toc_position": {},
   "toc_section_display": true,
   "toc_window_display": false
  }
 },
 "nbformat": 4,
 "nbformat_minor": 5
}
