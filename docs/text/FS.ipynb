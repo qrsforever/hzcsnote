{
 "cells": [
  {
   "cell_type": "code",
   "execution_count": 4,
   "id": "initial-aquarium",
   "metadata": {
    "ExecuteTime": {
     "end_time": "2021-03-22T11:03:24.440158Z",
     "start_time": "2021-03-22T11:03:24.434305Z"
    }
   },
   "outputs": [
    {
     "data": {
      "text/html": [
       "<style>.container { width:80% !important; }</style>"
      ],
      "text/plain": [
       "<IPython.core.display.HTML object>"
      ]
     },
     "metadata": {},
     "output_type": "display_data"
    }
   ],
   "source": [
    "from IPython.display import display, HTML\n",
    "display(HTML('<style>.container { width:%d%% !important; }</style>' % 80))"
   ]
  },
  {
   "cell_type": "markdown",
   "id": "peaceful-hotel",
   "metadata": {},
   "source": [
    "## 需求: 海量数据存储"
   ]
  },
  {
   "cell_type": "markdown",
   "id": "editorial-corporation",
   "metadata": {},
   "source": [
    "对象存储 | 数据存储量 | 安全性 | 稳定/可靠性 | 成本 | 价格(元/1TB,年)\n",
    ":----:|:----|:----|:----|:----|:---:|\n",
    "<img width=100/>|<img width=200/>|<img width=200/>|<img width=200/>|<img width=200/>|<img width=120/>\n",
    "[华为OBS](https://www.huaweicloud.com/product/obs.html)| 提供海量的存储服务，在全球部署着N个数据中心，所有业务、存储节点采用分布式集群方式部署，各节点、集群都可以独立扩容，用户永远不必担心存储容量不够。| 支持HTTPS/SSL安全协议，支持数据加密上传。同时OBS通过访问密钥（AK/SK）对访问用户的身份进行鉴权，结合IAM权限、桶策略、ACL、防盗链等多种方式和技术确保数据传输与访问的安全。支持敏感操作保护，针对删除桶等敏感操作，可开启身份验证。| 通过五级可靠性架构，保障数据持久性高达99.9999999999%，业务连续性高达99.995%，远高于传统架构。|即开即用，免去了自建存储服务器前期的资金、时间以及人力成本的投入，后期设备的维护交由OBS处理 | [828](https://www.huaweicloud.com/pricing.html?tab=detail#/obs)\n",
    "[腾讯COS](https://cloud.tencent.com/document/product/436/41283)| 最多200个存储桶, 每个桶对象单元无限制 | COS 提供防盗链功能，可屏蔽恶意来源的访问；支持数据 SSL 加密传输，控制每个单独文件的读写权限。结合腾讯的攻击防御系统，能够有效抵御 DDoS 攻击、CC 攻击，保障您的业务正常运行。| 腾讯云对象存储提供数据跨多架构、多设备冗余存储，为用户数据提供异地容灾和资源隔离功能，为每一个对象实现高达99.9999999999%的数据持久性，保障您数据的耐久性高于其他存储架构。| 使用 COS，您无需传统硬件的采购、部署和运维，从而节省了运维工作和托管成本。COS 支持按需按量使用，您无需预先支付任何预留存储空间的费用，通过生命周期管理进行数据降冷，进一步降低成本。| [914](https://buy.cloud.tencent.com/price/cos)\n",
    "[阿里OSS](https://www.aliyun.com/product/oss?spm=5176.8465980.unusable.ddetail.22f81450T4ZcrE)|支持按量付费模式，按实际使用量付费，无需提前一次性投入。同时，自动弹性扩展，不限用户存储的容量和文件数目，满足EB级海量存储需求。| 支持服务端加密、客户端加密、防盗链、IP黑白名单、细粒度权限管控、日志审计、WORM特性，并获得多项合规认证，包括SEC、FINRA等，满足企业数据安全与合规要求。|OSS的多重冗余架构设计，为数据持久存储提供可靠保障。同时，OSS基于高可用架构设计，消除单节故障，确保数据业务的持续性。| 多线BGP骨干网络，带宽资源充足，上行流量免费。无需运维人员与托管费用，0成本运维 | [999](https://www.aliyun.com/price/product?spm=5176.7933691.J_1309819.7.19f72a66J0tC6g#/oss/detail)\n",
    "[滴滴云S3](https://www.didiyun.com/production/s3.html#advantage) |存储桶个数上限为10个，如有需要，可以提工单申请扩大上限。|多维度权限设计，HTTPS全面支持，VPC专用网络链路保障网络传输安全 | 提供10个9的数据可靠性承诺，拥有多地灾备能力，冗余的基础架构设计消除单点故障带来的服务不可用 | 提供按量计费和预付费两种计费方式，无需冗余资源；无需采购 | [988](https://help.didiyun.com/static/assets/docs/S3%E4%BA%A7%E5%93%81%E6%96%87%E6%A1%A3/02-%E8%B4%AD%E4%B9%B0%E9%A1%BB%E7%9F%A5/%E8%AE%A1%E8%B4%B9%E6%A0%87%E5%87%86.html)\n"
   ]
  },
  {
   "cell_type": "markdown",
   "id": "finnish-attention",
   "metadata": {},
   "source": [
    "## 需求: 高IOPS,低延时 (内)"
   ]
  },
  {
   "cell_type": "markdown",
   "id": "operating-lebanon",
   "metadata": {},
   "source": [
    "文件存储 | 数据存储量 | 安全性 | 稳定/可靠性 | 约束 | 元/GB (1T 一年)\n",
    ":----:|:----|:----|:----|:----|:---:|\n",
    "<img width=100/>|<img width=200/>|<img width=200/>|<img width=200/>|<img width=150/>|<img width=200/>\n",
    "[华为SFS](https://www.huaweicloud.com/product/sfs.html) | 单个文件系统最大容量为4PB，单个文件最大容量为240TB。单个文件系统最多能够被10,000个计算节点同时挂载访问。 | 基于华为云安全技术，保护用户数据安全；基于VPC认证，保证用户间数据隔离 | 通过多级可靠性架构，保障数据持久99.99999999%（10个9），服务可用性达99.95% | 当前仅限内网访问 | [性能型1.85: (22732)](https://www.huaweicloud.com/pricing.html?tab=detail#/sfs)\n",
    "[腾讯CFS](https://cloud.tencent.com/product/cfs) | | CFS 可以严密控制文件系统的访问权限，通过基础网络或 VPC 网络的安全组、并搭配权限组来实现访问权限控制。|CFS 采用三副本的分布式存储机制、具有极高的可靠性。CFS 文件存储数据跨机架存储，可靠性达99.9999999%（9个9）。 | | [性能型1.4: 17203](https://cloud.tencent.com/document/product/582/47379)\n",
    "[阿里NAS](https://nasnext.console.aliyun.com/introduction) | 可支持数千台计算节点共享访问，可以挂载到弹性计算ECS、神龙裸金属、容器服务ACK、弹性容器ECI、批量计算BCS、高性能计算EHPC，AI训练PAI等计算业务上提供高性能的共享存储，用户无需修改应用程序，即可无缝迁移业务系统上云。 |基于RAM实现的资源访问控制，基于VPC实现的网络访问隔离，结合文件存储NAS的传输加密与存储加密特性，保障数据不被窃取或篡改。| 文件存储NAS的数据在后端进行多副本存储，每份数据都有多份拷贝在故障域隔离的不同设备上存放，提供99.999999999%的数据可靠性，能够有效降低数据安全风险。| 最大容量10PiB | [极速型1.62: (19906)](https://www.aliyun.com/price/product#/nas/detail)\n",
    "[滴滴云NAS](https://help.didiyun.com/static/assets/docs/%E6%96%87%E4%BB%B6%E5%AD%98%E5%82%A8NAS%E4%BA%A7%E5%93%81%E6%96%87%E6%A1%A3/01-%E4%BA%A7%E5%93%81%E7%AE%80%E4%BB%8B/%E4%BB%80%E4%B9%88%E6%98%AF%E6%96%87%E4%BB%B6%E5%AD%98%E5%82%A8.html) | 超过100T联系滴滴云\t | 文件存储NAS可以通过用户隔离，数据多副本存储，具有极高的可用性和可靠性。VPC管理文件的网络隔离访问，传输加密和存储加密保障数据不被窃取或篡改。 || |  [1.615: 19845](https://help.didiyun.com/static/assets/docs/%E6%96%87%E4%BB%B6%E5%AD%98%E5%82%A8NAS%E4%BA%A7%E5%93%81%E6%96%87%E6%A1%A3/02-%E4%BA%A7%E5%93%81%E5%AE%9A%E4%BB%B7/%E8%AE%A1%E8%B4%B9%E6%A6%82%E8%A7%88.html)\n",
    "\n"
   ]
  },
  {
   "cell_type": "markdown",
   "id": "desirable-accordance",
   "metadata": {},
   "source": [
    "## 对比\n",
    "\n",
    "指标 | 文件存储NAS | 对象存储OSS | 块存储云盘\n",
    ":---: | :---: | :----: | :----:\n",
    "<img width=150/> | <img width=300/> | <img width=300/> | <img width=300/>                \n",
    "共享访问 | 上千台ECS同时挂载，并发访问同一个文件系统 | 百万台客户端向同一个存储空间并发上传下载文件 | 单台ECS访问\n",
    "协议接口 | POSIX / NFS / SMB / MPI |RESTful API / SDK / 客户端 | 格式化后支持POSIX协议\n",
    "读写模式 | 随机读写 | 顺序读写 | 随机读写\n",
    "存储结构 | 目录树 | 扁平结构 | 格式化后支持目录树\n",
    "单路延时 | **毫秒级** | **数十毫秒** | 微秒级\n",
    "最大容量 | 10PiB | 无限 | 32TiB"
   ]
  },
  {
   "cell_type": "markdown",
   "id": "foreign-visiting",
   "metadata": {},
   "source": [
    "## Minio (搭建OSS)"
   ]
  },
  {
   "cell_type": "markdown",
   "id": "running-tsunami",
   "metadata": {},
   "source": [
    "## References"
   ]
  },
  {
   "cell_type": "markdown",
   "id": "laden-football",
   "metadata": {
    "ExecuteTime": {
     "end_time": "2021-03-22T09:01:41.106903Z",
     "start_time": "2021-03-22T09:01:41.099246Z"
    }
   },
   "source": [
    "- https://www.jianshu.com/p/a4f5dfcd36e8\n",
    "- https://cloud.tencent.com/developer/article/1736912\n",
    "- https://blog.csdn.net/weixin_31162865/article/details/113453631\n",
    "- https://blog.csdn.net/aliyunbaike/article/details/113636685\n",
    "- [SFS](https://support.huaweicloud.com/sfs/index.html)\n",
    "- https://www.huaweicloud.com/pricing.html#/sfs\n",
    "- https://support.huaweicloud.com/productdesc-obs/zh-cn_topic_0045829060.html\n",
    "- https://cloud.tencent.com/document/product/582\n",
    "- https://cloud.tencent.com/product/cos/\n",
    "- https://geekflare.com/self-hosted-s3/"
   ]
  },
  {
   "cell_type": "code",
   "execution_count": null,
   "id": "proprietary-passion",
   "metadata": {},
   "outputs": [],
   "source": []
  }
 ],
 "metadata": {
  "kernelspec": {
   "display_name": "Python 3",
   "language": "python",
   "name": "python3"
  },
  "language_info": {
   "codemirror_mode": {
    "name": "ipython",
    "version": 3
   },
   "file_extension": ".py",
   "mimetype": "text/x-python",
   "name": "python",
   "nbconvert_exporter": "python",
   "pygments_lexer": "ipython3",
   "version": "3.6.9"
  },
  "toc": {
   "base_numbering": 1,
   "nav_menu": {},
   "number_sections": true,
   "sideBar": true,
   "skip_h1_title": true,
   "title_cell": "",
   "title_sidebar": "Contents",
   "toc_cell": false,
   "toc_position": {},
   "toc_section_display": true,
   "toc_window_display": false
  }
 },
 "nbformat": 4,
 "nbformat_minor": 5
}
