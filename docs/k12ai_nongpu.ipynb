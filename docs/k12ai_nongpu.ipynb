{
 "cells": [
  {
   "cell_type": "markdown",
   "metadata": {},
   "source": [
    "# <div align=\"center\"> 无GPU版本 </div>"
   ]
  },
  {
   "cell_type": "code",
   "execution_count": 1,
   "metadata": {
    "ExecuteTime": {
     "end_time": "2020-12-17T12:59:10.967415Z",
     "start_time": "2020-12-17T12:59:10.940484Z"
    }
   },
   "outputs": [],
   "source": [
    "%reload_ext autoreload\n",
    "%autoreload 2"
   ]
  },
  {
   "cell_type": "code",
   "execution_count": 2,
   "metadata": {
    "ExecuteTime": {
     "end_time": "2020-12-17T12:59:12.586009Z",
     "start_time": "2020-12-17T12:59:10.971574Z"
    }
   },
   "outputs": [],
   "source": [
    "from k12libs.utils.nb_easy import k12ai_run_project, g_contexts"
   ]
  },
  {
   "cell_type": "markdown",
   "metadata": {},
   "source": [
    "## 训练数据生成"
   ]
  },
  {
   "cell_type": "markdown",
   "metadata": {},
   "source": [
    "### 执行 k12ai_run_project, 选择network和dataset\n",
    "\n",
    "![](/notebooks/assets/nongpu/s-1.png)\n",
    "\n",
    "点击**Goto Project**(大概需要5秒时间)\n",
    "\n",
    "-------------\n",
    "\n",
    "### 配置相关参数, 自定义模型需要把TailentAI平台的protodata复制过来, 点击传送PROTODATA\n",
    "\n",
    "![](/notebooks/assets/nongpu/s-2.png)\n",
    "\n",
    "-------------\n",
    "\n",
    "### 训练结束后提供下载连接\n",
    "\n",
    "![](/notebooks/assets/nongpu/s-3.png)\n",
    "\n",
    "-------------"
   ]
  },
  {
   "cell_type": "code",
   "execution_count": 3,
   "metadata": {
    "ExecuteTime": {
     "end_time": "2020-12-17T12:59:13.132583Z",
     "start_time": "2020-12-17T12:59:12.590775Z"
    },
    "scrolled": false
   },
   "outputs": [
    {
     "data": {
      "text/html": [
       "<style>.container { width:95% !important; }</style>"
      ],
      "text/plain": [
       "<IPython.core.display.HTML object>"
      ]
     },
     "metadata": {},
     "output_type": "display_data"
    },
    {
     "data": {
      "application/vnd.jupyter.widget-view+json": {
       "model_id": "be208626a52d4875acf70ea1c4803cc4",
       "version_major": 2,
       "version_minor": 0
      },
      "text/plain": [
       "Box(children=(Box(children=(VBox(children=(VBox(children=(Dropdown(description='Framework', disabled=True, lay…"
      ]
     },
     "metadata": {},
     "output_type": "display_data"
    },
    {
     "name": "stdout",
     "output_type": "stream",
     "text": [
      " * Serving Flask app \"k12libs.utils.nb_easy\" (lazy loading)\n",
      " * Environment: production\n",
      "\u001b[31m   WARNING: This is a development server. Do not use it in a production deployment.\u001b[0m\n",
      "\u001b[2m   Use a production WSGI server instead.\u001b[0m\n",
      " * Debug mode: off\n"
     ]
    }
   ],
   "source": [
    "project = k12ai_run_project(debug=True, framework='k12cv')"
   ]
  },
  {
   "cell_type": "code",
   "execution_count": 4,
   "metadata": {
    "ExecuteTime": {
     "end_time": "2020-12-17T12:59:13.164524Z",
     "start_time": "2020-12-17T12:59:13.135384Z"
    }
   },
   "outputs": [
    {
     "name": "stdout",
     "output_type": "stream",
     "text": [
      "plain_net { name : \"hproject_model_name\" layer {\n",
      "      conv {\n",
      "       name : \"Conv2d_y4afkuz4el\"\n",
      "       layer_builder : \"NNTorchLayer\"\n",
      "       layer_mode : CONV2D\n",
      "       inputs: 'x'\n",
      "       outputs : \"Flatten_al00hzyv75\"\n",
      "       layer_params { \n",
      "        in_channels : \"3\"  out_channels : \"64\"  kernel_size : \"3\"  stride : \"1\"  padding : \"1\"  dilation : \"1\"  groups : \"1\"  bias : \"True\" \n",
      "      } \n",
      "      }\n",
      "      }layer {\n",
      "      vulkan {\n",
      "       name : \"Flatten_al00hzyv75\"\n",
      "       layer_builder : \"NNTorchLayer\"\n",
      "       layer_mode : FLATTEN\n",
      "       inputs: \"Conv2d_y4afkuz4el\" \n",
      "       outputs : \"Linear_1b7ztnaz29\"\n",
      "       layer_params { \n",
      "        start_dim : \"1\"  end_dim : \"-1\" \n",
      "      } \n",
      "      }\n",
      "      }layer {\n",
      "      linear {\n",
      "       name : \"Linear_1b7ztnaz29\"\n",
      "       layer_builder : \"NNTorchLayer\"\n",
      "       layer_mode : LINEAR\n",
      "       inputs: \"Flatten_al00hzyv75\" \n",
      "       outputs : \"Output_zb3k7nglg\"\n",
      "       layer_params { \n",
      "        in_features : \"50176\"  out_features : \"10\"  bias : \"True\" \n",
      "      } \n",
      "      }\n",
      "      } } \n",
      "\n"
     ]
    }
   ],
   "source": [
    "protodata = '''plain_net { name : \"hproject_model_name\" layer {\\n\\t\\t\\t\\t\\t conv {\\n\\t\\t\\t\\t\\t  name : \"Conv2d_y4afkuz4el\"\\n\\t\\t\\t\\t\\t  layer_builder : \"NNTorchLayer\"\\n\\t\\t\\t\\t\\t  layer_mode : CONV2D\\n\\t\\t\\t\\t\\t  inputs: \\'x\\'\\n\\t\\t\\t\\t\\t  outputs : \"Flatten_al00hzyv75\"\\n\\t\\t\\t\\t\\t  layer_params { \\n\\t\\t\\t\\t\\t \\t in_channels : \"3\"  out_channels : \"64\"  kernel_size : \"3\"  stride : \"1\"  padding : \"1\"  dilation : \"1\"  groups : \"1\"  bias : \"True\" \\n\\t\\t\\t\\t\\t } \\n\\t\\t\\t\\t\\t }\\n\\t\\t\\t\\t\\t }layer {\\n\\t\\t\\t\\t\\t vulkan {\\n\\t\\t\\t\\t\\t  name : \"Flatten_al00hzyv75\"\\n\\t\\t\\t\\t\\t  layer_builder : \"NNTorchLayer\"\\n\\t\\t\\t\\t\\t  layer_mode : FLATTEN\\n\\t\\t\\t\\t\\t  inputs: \"Conv2d_y4afkuz4el\" \\n\\t\\t\\t\\t\\t  outputs : \"Linear_1b7ztnaz29\"\\n\\t\\t\\t\\t\\t  layer_params { \\n\\t\\t\\t\\t\\t \\t start_dim : \"1\"  end_dim : \"-1\" \\n\\t\\t\\t\\t\\t } \\n\\t\\t\\t\\t\\t }\\n\\t\\t\\t\\t\\t }layer {\\n\\t\\t\\t\\t\\t linear {\\n\\t\\t\\t\\t\\t  name : \"Linear_1b7ztnaz29\"\\n\\t\\t\\t\\t\\t  layer_builder : \"NNTorchLayer\"\\n\\t\\t\\t\\t\\t  layer_mode : LINEAR\\n\\t\\t\\t\\t\\t  inputs: \"Flatten_al00hzyv75\" \\n\\t\\t\\t\\t\\t  outputs : \"Output_zb3k7nglg\"\\n\\t\\t\\t\\t\\t  layer_params { \\n\\t\\t\\t\\t\\t \\t in_features : \"50176\"  out_features : \"10\"  bias : \"True\" \\n\\t\\t\\t\\t\\t } \\n\\t\\t\\t\\t\\t }\\n\\t\\t\\t\\t\\t } } \n",
    "'''\n",
    "print(protodata.replace('\\t', ' '))"
   ]
  },
  {
   "cell_type": "code",
   "execution_count": 5,
   "metadata": {
    "ExecuteTime": {
     "end_time": "2020-12-17T12:59:13.193530Z",
     "start_time": "2020-12-17T12:59:13.166975Z"
    }
   },
   "outputs": [
    {
     "ename": "SyntaxError",
     "evalue": "invalid syntax (<ipython-input-5-17c1e7ec27b7>, line 1)",
     "output_type": "error",
     "traceback": [
      "\u001b[0;36m  File \u001b[0;32m\"<ipython-input-5-17c1e7ec27b7>\"\u001b[0;36m, line \u001b[0;32m1\u001b[0m\n\u001b[0;31m    plain_net { name : \"hproject_model_name\" layer {\u001b[0m\n\u001b[0m              ^\u001b[0m\n\u001b[0;31mSyntaxError\u001b[0m\u001b[0;31m:\u001b[0m invalid syntax\n"
     ]
    }
   ],
   "source": [
    "plain_net { name : \"hproject_model_name\" layer {\n",
    "\t\t\t\t\t vulkan {\n",
    "\t\t\t\t\t  name : \"Flatten_8eoielxcuq\"\n",
    "\t\t\t\t\t  layer_builder : \"NNTorchLayer\"\n",
    "\t\t\t\t\t  layer_mode : FLATTEN\n",
    "\t\t\t\t\t  inputs: 'x'\n",
    "\t\t\t\t\t  outputs : \"Linear_sp1zypvzyp\"\n",
    "\t\t\t\t\t  layer_params { \n",
    "\t\t\t\t\t \t start_dim : \"1\"  end_dim : \"-1\" \n",
    "\t\t\t\t\t } \n",
    "\t\t\t\t\t }\n",
    "\t\t\t\t\t }layer {\n",
    "\t\t\t\t\t linear {\n",
    "\t\t\t\t\t  name : \"Linear_sp1zypvzyp\"\n",
    "\t\t\t\t\t  layer_builder : \"NNTorchLayer\"\n",
    "\t\t\t\t\t  layer_mode : LINEAR\n",
    "\t\t\t\t\t  inputs: \"Flatten_8eoielxcuq\" \n",
    "\t\t\t\t\t  outputs : \"Output_f6gyqeom4f\"\n",
    "\t\t\t\t\t  layer_params { \n",
    "\t\t\t\t\t \t in_features : \"150528\"  out_features : \"2\"  bias : \"True\" \n",
    "\t\t\t\t\t } \n",
    "\t\t\t\t\t }\n",
    "\t\t\t\t\t } } "
   ]
  }
 ],
 "metadata": {
  "kernelspec": {
   "display_name": "Python 3",
   "language": "python",
   "name": "python3"
  },
  "language_info": {
   "codemirror_mode": {
    "name": "ipython",
    "version": 3
   },
   "file_extension": ".py",
   "mimetype": "text/x-python",
   "name": "python",
   "nbconvert_exporter": "python",
   "pygments_lexer": "ipython3",
   "version": "3.6.9"
  },
  "toc": {
   "base_numbering": 1,
   "nav_menu": {},
   "number_sections": true,
   "sideBar": true,
   "skip_h1_title": true,
   "title_cell": "",
   "title_sidebar": "Contents",
   "toc_cell": false,
   "toc_position": {},
   "toc_section_display": true,
   "toc_window_display": false
  }
 },
 "nbformat": 4,
 "nbformat_minor": 4
}
