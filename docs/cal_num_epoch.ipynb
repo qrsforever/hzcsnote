{
 "cells": [
  {
   "cell_type": "markdown",
   "metadata": {},
   "source": [
    "## 合理epoch计算公式\n",
    "\n",
    "```\n",
    "mlog_iters = 128   // 显示迭代 display_iters\n",
    "\n",
    "test_iters = 512   // 训练校验迭代\n",
    "\n",
    "save_iters = 1024  // 权重保存迭代\n",
    "\n",
    "C = 50            // 期望mlog点数\n",
    "```"
   ]
  },
  {
   "cell_type": "markdown",
   "metadata": {
    "ExecuteTime": {
     "end_time": "2020-08-28T11:27:40.411070Z",
     "start_time": "2020-08-28T11:27:40.402915Z"
    }
   },
   "source": [
    "$$\n",
    "iterations = num\\_epoch \\times \\dfrac{num\\_records \\times 0.6}{batch\\_size} = mlog\\_iters \\times C \n",
    "$$\n",
    "\n",
    "---------------\n",
    "\n",
    "$$\n",
    "num\\_epoch = 100 \\times \\lceil \\dfrac{mlog\\_iters \\times C \\times batch\\_size}{num\\_records \\times 0.6 \\times 100} \\rceil  \\tag{向上取整,且为100的倍数}\n",
    "$$\n"
   ]
  },
  {
   "cell_type": "markdown",
   "metadata": {},
   "source": [
    "## 实现算法"
   ]
  },
  {
   "cell_type": "code",
   "execution_count": 4,
   "metadata": {
    "ExecuteTime": {
     "end_time": "2020-08-28T12:24:47.304543Z",
     "start_time": "2020-08-28T12:24:47.289508Z"
    }
   },
   "outputs": [
    {
     "name": "stdout",
     "output_type": "stream",
     "text": [
      "      rmnist\tmax_epoch: 100\n",
      " rDogsVsCats\tmax_epoch: 300\n",
      "  rchestxray\tmax_epoch: 1700\n",
      "    rcifar10\tmax_epoch: 100\n",
      "    rflowers\tmax_epoch: 400\n",
      "     rfruits\tmax_epoch: 300\n"
     ]
    }
   ],
   "source": [
    "import math\n",
    "def cal_num_epoch(num_records, C=50, mlog_iters=128, batch_size=64):\n",
    "    return math.ceil(mlog_iters * C * batch_size / num_records / 0.6 / 100) * 100\n",
    "datasets_records = {\n",
    "    \"rmnist\": 10000,\n",
    "    \"rDogsVsCats\": 2560,\n",
    "    \"rchestxray\": 402,\n",
    "    \"rcifar10\": 20000,\n",
    "    \"rflowers\": 1760,\n",
    "    \"rfruits\": 3263\n",
    "}\n",
    "\n",
    "for dname, num_records in datasets_records.items():\n",
    "    print('{:>12}\\tmax_epoch: {}'.format(dname, cal_num_epoch(num_records)))"
   ]
  }
 ],
 "metadata": {
  "kernelspec": {
   "display_name": "Python 3",
   "language": "python",
   "name": "python3"
  },
  "language_info": {
   "codemirror_mode": {
    "name": "ipython",
    "version": 3
   },
   "file_extension": ".py",
   "mimetype": "text/x-python",
   "name": "python",
   "nbconvert_exporter": "python",
   "pygments_lexer": "ipython3",
   "version": "3.6.9"
  },
  "toc": {
   "base_numbering": 1,
   "nav_menu": {},
   "number_sections": true,
   "sideBar": true,
   "skip_h1_title": true,
   "title_cell": "",
   "title_sidebar": "Contents",
   "toc_cell": false,
   "toc_position": {},
   "toc_section_display": true,
   "toc_window_display": false
  }
 },
 "nbformat": 4,
 "nbformat_minor": 4
}
