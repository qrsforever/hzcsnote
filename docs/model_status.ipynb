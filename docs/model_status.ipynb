{
 "cells": [
  {
   "cell_type": "markdown",
   "metadata": {},
   "source": [
    "# <div align=\"center\"> K12ai 机器学习框架: 训练任务状态模型 </div>"
   ]
  },
  {
   "cell_type": "markdown",
   "metadata": {},
   "source": [
    "```json\n",
    "{\n",
    "    \"version\": \"1.0.0\", // [M] 数据格式版本号, 兼容使用\n",
    "    \"type\": \"stauts\",   // [M] 正文的内容类型: status\n",
    "    \"tag\": \"\",          // [M] 区分框架服务,如: framework, platform\n",
    "    \"token\": \"\",        // [M] 异步交互互信token \n",
    "    \"op\": \"\",           // [M] 区分训练任务,如: train.start, predict.stop等\n",
    "    \"user\": \"\",         // [M] 任务所属用户\n",
    "    \"service_uuid\": \"\", // [M] 任务ID, 建议对应project ID.\n",
    "    \"timestamp\": \"1575646737631\",     // [M] 异步消息返回的时间戳\n",
    "    \"datetime\": \"20191206233857\",     // [M] 异步消息返回的日期\n",
    "    \"data\": {           // [M] \"data\"\n",
    "        \"value\": \"exit\",  // [M] 当前状态: 启动中(starting), 运行中(running), 结束(finish), 退出(exit)\n",
    "        \"way\": \"manual\"   // [M] 导致当前状态的方式: manual(手动), crash(异常), error(错误导致), norm(正常)\n",
    "    }\n",
    "}\n",
    "```"
   ]
  }
 ],
 "metadata": {
  "kernelspec": {
   "display_name": "Python 3",
   "language": "python",
   "name": "python3"
  },
  "language_info": {
   "codemirror_mode": {
    "name": "ipython",
    "version": 3
   },
   "file_extension": ".py",
   "mimetype": "text/x-python",
   "name": "python",
   "nbconvert_exporter": "python",
   "pygments_lexer": "ipython3",
   "version": "3.6.9"
  }
 },
 "nbformat": 4,
 "nbformat_minor": 2
}
