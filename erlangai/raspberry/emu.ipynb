{
 "cells": [
  {
   "cell_type": "code",
   "execution_count": 1,
   "id": "603d05c5",
   "metadata": {
    "ExecuteTime": {
     "end_time": "2021-10-12T03:42:40.974301Z",
     "start_time": "2021-10-12T03:42:29.554997Z"
    },
    "code_folding": []
   },
   "outputs": [
    {
     "name": "stdout",
     "output_type": "stream",
     "text": [
      "numpy 1.19.5\n",
      "sklearn 0.0\n",
      "pandas 1.1.5\n",
      "ipywidgets 7.6.3\n",
      "cv2 4.5.3\n",
      "PIL 8.3.1\n",
      "matplotlib 3.3.4\n",
      "plotly 5.3.0\n",
      "torch 1.8.1+cu101\n",
      "torchvision 0.9.1+cu101\n",
      "torchaudio not installed\n",
      "tensorflow 2.6.0\n",
      "tensorboard 2.6.0\n",
      "tflite 2.4.0\n",
      "onnx 1.10.1\n",
      "onnxruntime 1.8.1\n",
      "tensorrt not installed\n",
      "tvm not installed\n"
     ]
    },
    {
     "data": {
      "text/html": [
       "<style>.container { width:95% !important; }</style>"
      ],
      "text/plain": [
       "<IPython.core.display.HTML object>"
      ]
     },
     "metadata": {},
     "output_type": "display_data"
    }
   ],
   "source": [
    "%reload_ext watermark\n",
    "%reload_ext autoreload\n",
    "%autoreload 2\n",
    "%watermark -p numpy,sklearn,pandas\n",
    "%watermark -p ipywidgets,cv2,PIL,matplotlib,plotly\n",
    "%watermark -p torch,torchvision,torchaudio\n",
    "%watermark -p tensorflow,tensorboard,tflite\n",
    "%watermark -p onnx,onnxruntime,tensorrt,tvm\n",
    "%matplotlib inline\n",
    "%config InlineBackend.figure_format='retina'\n",
    "%config IPCompleter.use_jedi = False\n",
    "\n",
    "from IPython.display import display, Markdown, HTML, Image, Javascript\n",
    "from IPython.core.magic import register_line_cell_magic, register_line_magic, register_cell_magic\n",
    "display(HTML('<style>.container { width:%d%% !important; }</style>' % 95))\n",
    "\n",
    "import sys, os, io, time, random, math\n",
    "import json, base64, requests, shutil\n",
    "import os.path as osp\n",
    "import numpy as np\n",
    "\n",
    "def _IMPORT(x):\n",
    "    try:\n",
    "        x = x.strip()\n",
    "        if x.startswith('https://'):\n",
    "            x = x[8:]\n",
    "        if not x.endswith('.py'):\n",
    "            x = x + '.py'\n",
    "        if x[0] == '/':\n",
    "            with open(x) as fr:\n",
    "                x = fr.read()\n",
    "        else:\n",
    "            x = x.replace('blob/main/', '').replace('blob/master/', '')\n",
    "            if x.startswith('raw.githubusercontent.com'):\n",
    "                uri = 'https://' + x\n",
    "                x = requests.get(uri)\n",
    "                if x.status_code == 200:\n",
    "                    x = x.text\n",
    "            elif x.startswith('github.com'):\n",
    "                uri = x.replace('github.com', 'raw.githubusercontent.com')\n",
    "                mod = uri.split('/')\n",
    "                for s in ['main', 'master']:\n",
    "                    uri = 'https://' + '/'.join(mod[:3]) + s + '/'.join(mod[-3:])\n",
    "                    x = requests.get(uri)\n",
    "                    if x.status_code == 200:\n",
    "                        x = x.text\n",
    "                        break\n",
    "            elif x.startswith('gitee.com'):\n",
    "                mod = x.split('/')\n",
    "                for s in ['/raw/main/', '/raw/master/']:\n",
    "                    uri = 'https://' + '/'.join(mod[:3]) + s + '/'.join(mod[3:])\n",
    "                    x = requests.get(uri)\n",
    "                    if x.status_code == 200:\n",
    "                        x = x.text\n",
    "                        break\n",
    "        exec(x, globals())\n",
    "    except:\n",
    "        pass\n",
    "\n",
    "def _DIR(x, dumps=True, ret=True):\n",
    "    attrs = sorted([y for y in dir(x) if not y.startswith('_')])\n",
    "    result = '%s: %s' % (str(type(x))[8:-2], json.dumps(attrs) if dumps else attrs)\n",
    "    if ret:\n",
    "        return result\n",
    "    print(result)"
   ]
  },
  {
   "cell_type": "code",
   "execution_count": 8,
   "id": "658bd970",
   "metadata": {
    "ExecuteTime": {
     "end_time": "2021-09-16T09:03:21.454862Z",
     "start_time": "2021-09-16T09:03:21.353168Z"
    }
   },
   "outputs": [],
   "source": [
    "@register_line_cell_magic\n",
    "def template_writefile(line, cell):\n",
    "    path = os.path.dirname(line)\n",
    "    if not os.path.exists(path):\n",
    "        os.makedirs(path, exist_ok=True)\n",
    "    with open(line, 'w') as fw:\n",
    "        fw.write(cell.format(**globals()))\n"
   ]
  },
  {
   "cell_type": "markdown",
   "id": "af89dfba",
   "metadata": {
    "ExecuteTime": {
     "end_time": "2021-09-16T09:08:49.328340Z",
     "start_time": "2021-09-16T09:08:49.236186Z"
    }
   },
   "source": [
    "## 环境准备"
   ]
  },
  {
   "cell_type": "markdown",
   "id": "1b75d73f",
   "metadata": {
    "heading_collapsed": true
   },
   "source": [
    "### QEMU and Test on ARM64"
   ]
  },
  {
   "cell_type": "code",
   "execution_count": 14,
   "id": "6361e5ce",
   "metadata": {
    "ExecuteTime": {
     "end_time": "2021-09-16T09:39:16.307041Z",
     "start_time": "2021-09-16T09:39:16.214113Z"
    },
    "hidden": true
   },
   "outputs": [
    {
     "name": "stdout",
     "output_type": "stream",
     "text": [
      "Overwriting /data/nb_data/erlangai/qemu.sh\n"
     ]
    }
   ],
   "source": [
    "%%writefile /data/nb_data/erlangai/qemu.sh\n",
    "\n",
    "sudo apt-get install -y qemu binfmt-support qemu-user-static\n",
    "\n",
    "# TODO FAQs: write error: Invalid argument\n",
    "# copy multiarch/qemu-user-static:x86_64-aarch64:/usr/bin/qemu-aarch64-static ${pwd}\n",
    "docker run --rm --privileged multiarch/qemu-user-static --reset -p yes\n",
    "\n",
    "# Test\n",
    "# docker run --rm -v ${pwd}/qemu-aarch64-static:/usr/bin/qemu-aarch64-static -t arm64v8/ubuntu uname -m\n",
    "docker run --rm -t arm64v8/ubuntu uname -m"
   ]
  },
  {
   "cell_type": "markdown",
   "id": "f92edefb",
   "metadata": {},
   "source": [
    "### Jetson L4T"
   ]
  },
  {
   "cell_type": "markdown",
   "id": "612bd341",
   "metadata": {},
   "source": [
    "Check tegra version On Jetson Board\n",
    "\n",
    "```sh\n",
    "# cat /etc/nv_tegra_release\n",
    "```\n",
    "\n",
    "R32 (release), REVISION: **6.1**, GCID: 27863751, BOARD: t210ref, EABI: aarch64, DATE: Mon Jul 26 19:20:30 UTC 2021\n"
   ]
  },
  {
   "cell_type": "code",
   "execution_count": 23,
   "id": "c26431a5",
   "metadata": {
    "ExecuteTime": {
     "end_time": "2021-09-16T10:26:11.601791Z",
     "start_time": "2021-09-16T10:26:11.446484Z"
    }
   },
   "outputs": [
    {
     "name": "stdout",
     "output_type": "stream",
     "text": [
      "Overwriting /data/nb_data/erlangai/jstson_l4t.sh\n"
     ]
    }
   ],
   "source": [
    "%%writefile /data/nb_data/erlangai/jstson_l4t.sh\n",
    "\n",
    "# docker pull nvcr.io/nvidia/l4t-base:r32.6.1\n",
    "# sudo pip3 install --pre --extra-index-url https://developer.download.nvidia.com/compute/redist/jp/v46 tensorflow\n",
    "docker pull nvcr.io/nvidia/l4t-tensorflow:r32.6.1-tf2.5-py3\n",
    "# docker pull nvcr.io/nvidia/l4t-ml:r32.6.1-py3\n",
    "# docker pull nvcr.io/nvidia/l4t-tensorrt:r7.0.1-runtime\n",
    "    \n",
    "# Test\n",
    "docker run --rm -t nvcr.io/nvidia/l4t-tensorflow:r32.6.1-tf2.5-py3 uname -m\n",
    "    \n",
    "# Run\n",
    "docker run -itd --name qemu_l4t_tf --entrypoint /bin/bash \\\n",
    "    --network host  --runtime nvidia \\\n",
    "    -v /data:/data \\\n",
    "    -v /home/lidong/qemu-aarch64-static:/usr/bin/qemu-aarch64-static \\\n",
    "    nvcr.io/nvidia/l4t-tensorflow:r32.6.1-tf2.5-py3\n",
    "            \n",
    "# Enter\n",
    "# docker exec -it qemu_l4t bash"
   ]
  },
  {
   "cell_type": "markdown",
   "id": "97c91aef",
   "metadata": {},
   "source": [
    "## FAQs"
   ]
  },
  {
   "cell_type": "markdown",
   "id": "cc033528",
   "metadata": {},
   "source": [
    "- [sh: write error: Invalid argument - Centos 7][1]\n",
    "    \n",
    "[1]: https://github.com/multiarch/qemu-user-static/issues/100"
   ]
  },
  {
   "cell_type": "markdown",
   "id": "87032f25",
   "metadata": {},
   "source": [
    "## References"
   ]
  },
  {
   "cell_type": "markdown",
   "id": "a64e71b0",
   "metadata": {},
   "source": [
    "- [Jetson Docker Containers][5]\n",
    "- [Running and Building ARM Docker Containers on x86][1]\n",
    "- [NVIDIA L4T is a Linux based software distribution for the NVIDIA Jetson embedded computing platform][2]\n",
    "- [Jetson Docker build][3]\n",
    "- [This guide provides instructions for installing TensorFlow for Jetson Platform][4]\n",
    "- [NVIDIA Container Runtime on Jetson][6]\n",
    "\n",
    "[6]: https://github.com/NVIDIA/nvidia-docker/wiki/NVIDIA-Container-Runtime-on-Jetson#building-jetson-containers-on-an-x86-workstation-using-qemu\n",
    "[5]: https://ngc.nvidia.com/catalog/Containers\n",
    "[4]: https://docs.nvidia.com/deeplearning/frameworks/install-tf-jetson-platform/index.html\n",
    "[3]: https://github.com/dusty-nv/jetson-containers\n",
    "[2]: https://ngc.nvidia.com/catalog/containers/nvidia:l4t-base\n",
    "[1]: https://www.stereolabs.com/docs/docker/building-arm-container-on-x86/"
   ]
  },
  {
   "cell_type": "markdown",
   "id": "3a760070",
   "metadata": {},
   "source": [
    "## Start Emu"
   ]
  },
  {
   "cell_type": "code",
   "execution_count": 6,
   "id": "fe6f9b9e",
   "metadata": {},
   "outputs": [
    {
     "name": "stdout",
     "output_type": "stream",
     "text": [
      "Overwriting /raceai/raspberry_pi4/run_emu.sh\n"
     ]
    }
   ],
   "source": [
    "%%writefile /raceai/raspberry_pi4/run_emu.sh\n",
    "\n",
    "WORK_DIR=/usr/rpi\n",
    "IMAGE_NAME=2021-05-07-raspios-buster-armhf-lite.img\n",
    "IMAGE_LOCATION=/raceai/raspberry_pi4/images\n",
    "\n",
    "docker run -it --rm --privileged=true \\\n",
    "    -v ${IMAGE_LOCATION}:${WORK_DIR}/images \\\n",
    "    -v /raceai/:/raceai/ \\\n",
    "    -w $WORK_DIR ryankurte/docker-rpi-emu \\\n",
    "    /bin/bash -c \"./run.sh images/${IMAGE_NAME}\""
   ]
  },
  {
   "cell_type": "code",
   "execution_count": null,
   "id": "f2ba61a8",
   "metadata": {},
   "outputs": [],
   "source": [
    "```bash\n",
    "\n",
    "uname -m\n",
    "\n",
    "sudo cat /etc/*-release\n",
    "\n",
    "```"
   ]
  },
  {
   "cell_type": "markdown",
   "id": "92a306a5",
   "metadata": {},
   "source": [
    "## References"
   ]
  },
  {
   "cell_type": "markdown",
   "id": "c8628e5e",
   "metadata": {},
   "source": [
    "- [download raspberrypi image][1]\n",
    "- [docker rpi emu][2]\n",
    "- [respberrypi openvino][3]\n",
    "- [onnxruntime wheels][4]\n",
    "- [openvino rasbian][5]\n",
    "[1]: https://www.raspberrypi.org/software/operating-systems/\n",
    "[2]: https://hub.docker.com/r/ryankurte/docker-rpi-emu\n",
    "[3]: https://storage.openvinotoolkit.org/repositories/openvino/packages/\n",
    "[4]: https://github.com/nknytk/built-onnxruntime-for-raspberrypi-linux/tree/master/wheels\n",
    "[5]: https://docs.openvinotoolkit.org/latest/openvino_docs_install_guides_installing_openvino_raspbian.html"
   ]
  },
  {
   "cell_type": "markdown",
   "id": "08cff130",
   "metadata": {},
   "source": [
    "## FAQs"
   ]
  },
  {
   "cell_type": "markdown",
   "id": "5a40c392",
   "metadata": {},
   "source": [
    "- [Build on RaspberryPi4b failed: requested alignment 16 is larger than 8][1]\n",
    "- [树梅派 内存交换空间swap 更改][2]\n",
    "\n",
    "[1]: https://github.com/microsoft/onnxruntime/issues/4189\n",
    "[2]: https://blog.csdn.net/jiangchao3392/article/details/77984838"
   ]
  },
  {
   "cell_type": "code",
   "execution_count": 25,
   "id": "de9c568d",
   "metadata": {
    "ExecuteTime": {
     "end_time": "2021-09-18T07:16:45.042230Z",
     "start_time": "2021-09-18T07:16:44.942439Z"
    }
   },
   "outputs": [
    {
     "name": "stdout",
     "output_type": "stream",
     "text": [
      "Overwriting software_setup.sh\n"
     ]
    }
   ],
   "source": [
    "%%writefile software_setup.sh\n",
    "\n",
    "#!/bin/bash\n",
    "\n",
    "USER_HOME=/home/$USER\n",
    "CUDA_HOME=/usr/local/cuda\n",
    "\n",
    "PIP_INSTALL=\"sudo pip3 install --retries 10 --timeout 120\"\n",
    "APT_INSTALL=\"sudo apt install -y --no-install-recommends\"\n",
    "BOOTRC_FILE=\"${USER_HOME}/.bootrc'\n",
    "HOST_ADDR=`who | grep \"pts/0\" | awk -F\" \" '{match($NF, /[^(].*[^)]/); print substr($NF, RSTART,RLENGTH)}'`\n",
    "\n",
    "echo_bootrc() {\n",
    "    echo \"$*\" | tee -a $BOOTRC_FILE\n",
    "}\n",
    "\n",
    "echo_bashrc() {\n",
    "    echo \"$*\" | tee -a ${USER_HOME}/.bashrc\n",
    "}\n",
    "\n",
    "# on boot script\n",
    "__setup_bootrc() {\n",
    "    echo -e \"#!/bin/bash\\nsleep 10\" > $BOOTRC_FILE\n",
    "    chmod 777 $BOOTRC_FILE\n",
    "    sudo bash -c \"echo '@reboot  root  test -x ${BOOTRC_FILE} && ${BOOTRC_FILE}' >> /etc/crontab\"\n",
    "}\n",
    "\n",
    "# environment\n",
    "__setup_bashrc() {\n",
    "    echo_bashrc \"alias pip='pip3'\"\n",
    "    echo_bashrc \"alias python='python3'\"\n",
    "    echo_bashrc \"export PIP_INSTALL='${PIP_INSTALL}'\"\n",
    "    echo_bashrc \"export APT_INSTALL='${APT_INSTALL}'\"\n",
    "    echo_bashrc \"export CUDA_HOME=${CUDA_HOME}\"\n",
    "}\n",
    "\n",
    "# mount.nfs host\n",
    "__setup_mntnfs(){\n",
    "    mkdir -p ${USER_HOME}/omega\n",
    "    ${APT_INSTALL} nfs-common\n",
    "    echo_bootrc \"mount.nfs ${HOST_ADDR}:/blog/public ${USER_HOME}/omega\"\n",
    "}\n",
    "\n",
    "# notebook\n",
    "__setup_notebook() {\n",
    "    ${PIP_INSTALL} jupyter jupyter_contrib_nbextensions jupyter_nbextensions_configurator\n",
    "    sudo jupyter contrib nbextension install --sys-prefix\n",
    "    sudo jupyter nbextensions_configurator enable\n",
    "    git clone --depth 1 https://github.com.cnpmjs.org/qrsforever/jupyter_config.git\n",
    "    sudo ./jupyter_config/install.sh\n",
    "    echo_bootrc \"su - $USER -c 'umask 0000; jupyter notebook --no-browser --notebook-dir=${USER_HOME}/omega --allow-root --ip=0.0.0.0 --port=8118 &'\"\n",
    "}\n",
    "\n",
    "# cmake\n",
    "__setup_cmake() {\n",
    "    wget https://github.com/Kitware/CMake/releases/download/v3.21.2/cmake-3.21.2-linux-aarch64.tar.gz\n",
    "    tar zxf cmake-3.21.2-linux-aarch64.tar.gz\n",
    "    cp -aprf cmake-3.21.2-linux-aarch64.tar/* /usr/\n",
    "}\n",
    "\n",
    "# machine learning\n",
    "__setup_ml() {\n",
    "    # tensorflow\n",
    "    ${APT_INSTALL} libhdf5-serial-dev hdf5-tools libhdf5-dev zlib1g-dev zip libjpeg8-dev liblapack-dev libblas-dev gfortran\n",
    "    ${PIP_INSTALL} -U pip testresources setuptools==49.6.0\n",
    "    ${APT_INSTALL} --pre --extra-index-url https://developer.download.nvidia.com/compute/redist/jp/v46 tensorflow\n",
    "    \n",
    "    # onnx2tensor\n",
    "    ${APT_INSTALL} libprotobuf-dev protobuf-compiler\n",
    "    git clone --depth 1 --recursive https://github.com.cnpmjs.org/onnx/onnx-tensorrt.git\n",
    "    cd onnx-tensorrt && mkdir build && cd build && cmake ../ && make -j && sudo make install\n",
    "    \n",
    "    # pycuda, onnx_helper\n",
    "    ${PIP_INSTALL} --global-option=build_ext --global-option=\"-I${CUDA_HOME}/include/\" --global-option=\"-L${CUDA_HOME}/lib\" pycuda\n",
    "    git clone --depth 1 https://github.com.cnpmjs.org/NVIDIA/TensorRT.git\n",
    "}\n",
    "\n",
    "__setup_bootrc\n",
    "__setup_bashrc\n",
    "__setup_mntnfs"
   ]
  },
  {
   "cell_type": "code",
   "execution_count": null,
   "id": "f67d38a4",
   "metadata": {},
   "outputs": [],
   "source": []
  }
 ],
 "metadata": {
  "hide_input": false,
  "kernelspec": {
   "display_name": "Python 3",
   "language": "python",
   "name": "python3"
  },
  "language_info": {
   "codemirror_mode": {
    "name": "ipython",
    "version": 3
   },
   "file_extension": ".py",
   "mimetype": "text/x-python",
   "name": "python",
   "nbconvert_exporter": "python",
   "pygments_lexer": "ipython3",
   "version": "3.6.9"
  },
  "toc": {
   "base_numbering": 1,
   "nav_menu": {},
   "number_sections": true,
   "sideBar": true,
   "skip_h1_title": true,
   "title_cell": "",
   "title_sidebar": "Contents",
   "toc_cell": false,
   "toc_position": {},
   "toc_section_display": true,
   "toc_window_display": false
  }
 },
 "nbformat": 4,
 "nbformat_minor": 5
}
