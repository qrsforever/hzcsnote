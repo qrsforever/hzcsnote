{
 "cells": [
  {
   "cell_type": "markdown",
   "id": "946c812c",
   "metadata": {
    "toc": true
   },
   "source": [
    "<h1>Contents<span class=\"tocSkip\"></span></h1>\n",
    "<div class=\"toc\"><ul class=\"toc-item\"></ul></div>"
   ]
  },
  {
   "cell_type": "code",
   "execution_count": 1,
   "id": "462889c4",
   "metadata": {
    "ExecuteTime": {
     "end_time": "2022-02-17T13:35:41.694159Z",
     "start_time": "2022-02-17T13:35:41.203783Z"
    }
   },
   "outputs": [],
   "source": [
    "%reload_ext watermark\n",
    "%reload_ext autoreload\n",
    "%autoreload 2\n",
    "# %watermark -p numpy,sklearn,pandas\n",
    "# %watermark -p ipywidgets,cv2,PIL,matplotlib,plotly,netron\n",
    "# %watermark -p torch,torchvision,torchaudio\n",
    "# %watermark -p tensorflow,tensorboard,tflite\n",
    "# %watermark -p onnx,tf2onnx,onnxruntime,tensorrt,tvm\n",
    "# %matplotlib inline\n",
    "# %config InlineBackend.figure_format='retina'\n",
    "%config IPCompleter.use_jedi = False\n",
    "\n",
    "# from IPython.display import display, Markdown, HTML, IFrame, Image, Javascript\n",
    "# from IPython.core.magic import register_line_cell_magic, register_line_magic, register_cell_magic\n",
    "# display(HTML('<style>.container { width:%d%% !important; }</style>' % 90))\n",
    "\n",
    "import sys, os, io, logging, time, random, math\n",
    "import json, base64, requests, shutil\n",
    "import argparse, shlex, signal\n",
    "import numpy as np\n",
    "\n",
    "argparse.ArgumentParser.exit = lambda *arg, **kwargs: _IGNORE_\n",
    "\n",
    "def _IMPORT(x):\n",
    "    try:\n",
    "        x = x.strip()\n",
    "        if x[0] == '/' or x[0:2] == './':\n",
    "            with open(x) as fr:\n",
    "                x = fr.read()\n",
    "        elif 'github' in x or 'gitee' in x:\n",
    "            if x.startswith('import '):\n",
    "                x = x[7:]\n",
    "            if x.startswith('https://'):\n",
    "                x = x[8:]\n",
    "            if not x.endswith('.py'):\n",
    "                x = x + '.py'\n",
    "            x = x.replace('blob/main/', '').replace('blob/master/', '')\n",
    "            if x.startswith('raw.githubusercontent.com'):\n",
    "                x = 'https://' + x\n",
    "                x = requests.get(x)\n",
    "                if x.status_code == 200:\n",
    "                    x = x.text\n",
    "            elif x.startswith('github.com'):\n",
    "                x = x.replace('github.com', 'raw.githubusercontent.com')\n",
    "                mod = x.split('/')\n",
    "                for s in ['/main/', '/master/']:\n",
    "                    x = 'https://' + '/'.join(mod[:3]) + s + '/'.join(mod[-3:])\n",
    "                    x = requests.get(x)\n",
    "                    if x.status_code == 200:\n",
    "                        x = x.text\n",
    "                        break\n",
    "            elif x.startswith('gitee.com'):\n",
    "                mod = x.split('/')\n",
    "                for s in ['/raw/main/', '/raw/master/']:\n",
    "                    x = 'https://' + '/'.join(mod[:3]) + s + '/'.join(mod[3:])\n",
    "                    x = requests.get(x)\n",
    "                    if x.status_code == 200:\n",
    "                        x = x.text\n",
    "                        break\n",
    "        exec(x, globals())\n",
    "    except Exception as err:\n",
    "        sys.stderr.write(f'request {x} : {err}')\n",
    "\n",
    "def _DIR(x, dumps=True, ret=True):\n",
    "    attrs = sorted([y for y in dir(x) if not y.startswith('_')])\n",
    "    result = '%s: %s' % (str(type(x))[8:-2], json.dumps(attrs) if dumps else attrs)\n",
    "    if ret:\n",
    "        return result\n",
    "    print(result)\n"
   ]
  },
  {
   "cell_type": "code",
   "execution_count": 33,
   "id": "00f5bb2c",
   "metadata": {
    "ExecuteTime": {
     "end_time": "2022-02-21T03:05:29.529539Z",
     "start_time": "2022-02-21T03:05:29.489278Z"
    }
   },
   "outputs": [],
   "source": [
    "\n",
    "\n",
    "import abc, sys\n",
    "import threading\n",
    "\n",
    "from multiprocessing import Queue\n",
    "from queue import Empty\n",
    "from enum import IntEnum, unique\n",
    "\n",
    "\n",
    "class SingletonType(type):\n",
    "    _instance_lock = threading.Lock()\n",
    "\n",
    "    def __call__(cls, *args, **kwargs):\n",
    "        if not hasattr(cls, \"_instance\"):\n",
    "            with SingletonType._instance_lock:\n",
    "                if not hasattr(cls, \"_instance\"):\n",
    "                    cls._instance = super(SingletonType,cls).__call__(*args, **kwargs)\n",
    "        return cls._instance\n",
    "\n",
    "\n",
    "@unique\n",
    "class MessageType(IntEnum):\n",
    "    NOP = -1\n",
    "    LOG = 1\n",
    "    STATE = 2\n",
    "    QUIT = 99\n",
    "\n",
    "\n",
    "class Message(object):\n",
    "    def __init__(self, what, arg1, arg2, obj):\n",
    "        self.what = what\n",
    "        self.arg1 = arg1\n",
    "        self.arg2 = arg2\n",
    "        self.obj = obj\n",
    "\n",
    "    def __str__(self):\n",
    "        obj = self.obj[:32] if isinstance(self.obj, str) else self.obj.__class__.__name__\n",
    "        return f'Message({self.what}, {self.arg1}, {self.arg2}, {obj})'\n",
    "\n",
    "    @staticmethod\n",
    "    def obtain(what, arg1, arg2, obj):\n",
    "        return Message(what, arg1, arg2, obj)\n",
    "\n",
    "\n",
    "class MessageHandler(metaclass=abc.ABCMeta):\n",
    "    def __init__(self, keys=[]):\n",
    "        self.keys = keys\n",
    "        self.mq = None\n",
    "\n",
    "    @abc.abstractmethod\n",
    "    def handle_message(self, what, arg1, arg2, obj):\n",
    "        pass\n",
    "\n",
    "    def send_message(self, what, arg1=-1, arg2=-1, obj=None):\n",
    "        if self.mq:\n",
    "            msg = Message.obtain(what, arg1, arg2, obj)\n",
    "            self.mq.put(msg)\n",
    "        return True\n",
    "\n",
    "    def dispatch_message(self, msg):\n",
    "        try:\n",
    "            return self.handle_message(msg.what, msg.arg1, msg.arg2, msg.obj)\n",
    "        except Exception as err:\n",
    "            sys.stderr.write(f'{err}\\n')\n",
    "\n",
    "\n",
    "class DefaultHandler(MessageHandler):\n",
    "    def __init__(self, mq):\n",
    "        super(DefaultHandler, self).__init__(keys=[])\n",
    "        self.mq = mq\n",
    "\n",
    "    def handle_message(self, what, arg1, arg2, obj):\n",
    "        return False\n",
    "\n",
    "\n",
    "class MainLooper(threading.Thread, metaclass=SingletonType):\n",
    "\n",
    "    def __init__(self):\n",
    "        super(MainLooper, self).__init__(name='MainLooper')\n",
    "        self.mq = Queue()\n",
    "        self.handlers = {}\n",
    "        self.H = DefaultHandler(self.mq)\n",
    "\n",
    "    @property\n",
    "    def default_handler(self):\n",
    "        return self.H\n",
    "\n",
    "    def add_handler(self, handler):\n",
    "        handler.mq = self.mq\n",
    "        for ty in handler.keys:\n",
    "            if ty not in self.handlers:\n",
    "                self.handlers[ty] = []\n",
    "            self.handlers[ty].append(handler)\n",
    "\n",
    "    def run(self):\n",
    "        while True:\n",
    "            try:\n",
    "                msg = self.mq.get(timeout=3)\n",
    "                if msg.what == MessageType.QUIT:\n",
    "                    break\n",
    "                if msg.what not in self.handlers:\n",
    "                    continue\n",
    "                for handler in self.handlers[msg.what]:\n",
    "                    if handler.dispatch_message(msg):\n",
    "                        break\n",
    "            except Empty:\n",
    "                pass\n"
   ]
  },
  {
   "cell_type": "code",
   "execution_count": 26,
   "id": "e9526cd6",
   "metadata": {
    "ExecuteTime": {
     "end_time": "2022-02-21T03:02:56.059814Z",
     "start_time": "2022-02-21T03:02:56.036298Z"
    }
   },
   "outputs": [],
   "source": [
    "_IMPORT('/data/nb_easy/easy_utils.py')"
   ]
  },
  {
   "cell_type": "code",
   "execution_count": 27,
   "id": "0a8b43ac",
   "metadata": {
    "ExecuteTime": {
     "end_time": "2022-02-21T03:02:56.848937Z",
     "start_time": "2022-02-21T03:02:56.833194Z"
    }
   },
   "outputs": [],
   "source": [
    "MessageHandler.logger = nbeasy_get_logger('nbeasy')"
   ]
  },
  {
   "cell_type": "code",
   "execution_count": 29,
   "id": "e1c70bf7",
   "metadata": {
    "ExecuteTime": {
     "end_time": "2022-02-21T03:03:37.080421Z",
     "start_time": "2022-02-21T03:03:37.047750Z"
    }
   },
   "outputs": [],
   "source": [
    "@unique\n",
    "class ServiceType(IntEnum):\n",
    "    NOP = -1\n",
    "    APP = 1\n",
    "    SRS = 2\n",
    "\n",
    "\n",
    "@unique\n",
    "class StateType(IntEnum):\n",
    "    NOP = -1\n",
    "    RUNNING = 1\n",
    "    STARTING = 2\n",
    "    STARTED = 3\n",
    "    STOPPING = 4\n",
    "    STOPPED = 5\n",
    "    STOPPTIMEOUT = 6\n",
    "    CRASHED = 99\n",
    "    \n",
    "\n",
    "class ServiceStateMessageHandler(MessageHandler):\n",
    "    keys = [MessageType.STATE]\n",
    "\n",
    "    def __init__(self):\n",
    "        super().__init__(keys=self.keys)\n",
    "        \n",
    "    def on_app(self, arg2, obj):\n",
    "        if StateType.RUNNING == arg2:\n",
    "            self.logger.info('app running')\n",
    "        return True\n",
    "\n",
    "    def on_srs(self, arg2, obj):\n",
    "        if StateType.RUNNING == arg2:\n",
    "            self.logger.info('srs running')\n",
    "        return True\n",
    "        \n",
    "    def handle_message(self, what, arg1, arg2, obj):\n",
    "        self.logger.info(f'({what}, {arg1}, {arg2}, {obj})')\n",
    "        if what not in self.keys:\n",
    "            return False\n",
    "\n",
    "        if ServiceType.APP == arg1:\n",
    "            return self.on_app(arg2, obj)\n",
    "        elif ServiceType.SRS == arg1:\n",
    "            return self.on_srs(arg2, obj)\n",
    "\n",
    "        return False"
   ]
  },
  {
   "cell_type": "code",
   "execution_count": 34,
   "id": "8d1da993",
   "metadata": {
    "ExecuteTime": {
     "end_time": "2022-02-21T03:05:37.603674Z",
     "start_time": "2022-02-21T03:05:37.579902Z"
    }
   },
   "outputs": [
    {
     "name": "stderr",
     "output_type": "stream",
     "text": [
      "2022-02-21 11:05:37,597 - handle_message:37 - nbeasy - INFO - (2, 1, 1, test)\n"
     ]
    },
    {
     "data": {
      "text/plain": [
       "True"
      ]
     },
     "execution_count": 34,
     "metadata": {},
     "output_type": "execute_result"
    },
    {
     "name": "stderr",
     "output_type": "stream",
     "text": [
      "2022-02-21 11:05:37,599 - on_app:28 - nbeasy - INFO - app running\n"
     ]
    }
   ],
   "source": [
    "main_loop = MainLooper()\n",
    "main_loop.add_handler(ServiceStateMessageHandler())\n",
    "main_loop.start()\n",
    "main_loop.default_handler.send_message(MessageType.STATE, ServiceType.APP, StateType.RUNNING, 'test')"
   ]
  },
  {
   "cell_type": "code",
   "execution_count": null,
   "id": "b25020b3",
   "metadata": {},
   "outputs": [],
   "source": [
    "pub.send_string('frepai.engine {\"workdir\":\"/frepai/tmp/pipetest\", \"strides\": [2,3], \"batch_size\": 10}')"
   ]
  },
  {
   "cell_type": "code",
   "execution_count": 35,
   "id": "3d482d62",
   "metadata": {
    "ExecuteTime": {
     "end_time": "2022-02-22T04:15:12.054033Z",
     "start_time": "2022-02-22T04:15:12.019657Z"
    }
   },
   "outputs": [
    {
     "data": {
      "text/plain": [
       "{'pigeon': {'msgkey': 'factory:action.inference.queue',\n",
       "  'push_video_addr': 'https://frepai-1301930378.cos.ap-beijing.myqcloud.com/live/00232ee8876d/20220222/videos/20220222114544.mp4',\n",
       "  'created_at': '2022-02-2212:04:16',\n",
       "  'etag': 'aa68a9827f3db8f3f70851adc2f30ebd',\n",
       "  'major': 473160,\n",
       "  'mac_addr': '00232ee8876d',\n",
       "  'uuid': 'SSAC-292217-AAFFA',\n",
       "  'video_id': 0,\n",
       "  'actual_tally': 0,\n",
       "  'auto_tally': 0,\n",
       "  'file_name': '',\n",
       "  'data_set': 0,\n",
       "  'param_md5': '',\n",
       "  'embs_feat': '',\n",
       "  'embs_sims': '',\n",
       "  'user_id': 0},\n",
       " 'video': 'https://frepai-1301930378.cos.ap-beijing.myqcloud.com/live/00232ee8876d/20220222/videos/20220222114544.mp4',\n",
       " 'constant_speed': False,\n",
       " 'median_filter': True,\n",
       " 'fully_periodic': False,\n",
       " 'batch_size': 20,\n",
       " 'temperature': 13.544,\n",
       " 'strides': [1],\n",
       " 'angle': 0,\n",
       " 'reg_factor': 1,\n",
       " 'detect_focus': False,\n",
       " 'focus_box': [0.754, 0.302, 0.93, 0.688],\n",
       " 'focus_box_repnum': 3,\n",
       " 'black_box': [0, 0, 0, 0],\n",
       " 'black_overlay': False,\n",
       " 'rm_still': True,\n",
       " 'area_rate_threshold': 0.001,\n",
       " 'best_stride_video': False,\n",
       " 'osd_sims': False,\n",
       " 'osd_feat': False,\n",
       " 'save_video': False,\n",
       " 'ef_is_send': False,\n",
       " 'ef_url': '',\n",
       " 'ef_alpha': 0.01,\n",
       " 'ef_beta': 0.7,\n",
       " 'ef_gamma': 0.8}"
      ]
     },
     "execution_count": 35,
     "metadata": {},
     "output_type": "execute_result"
    }
   ],
   "source": [
    "a = {'pigeon': {'msgkey': 'factory:action.inference.queue', 'push_video_addr': 'https://frepai-1301930378.cos.ap-beijing.myqcloud.com/live/00232ee8876d/20220222/videos/20220222114544.mp4', 'created_at': '2022-02-2212:04:16', 'etag': 'aa68a9827f3db8f3f70851adc2f30ebd', 'major': 473160, 'mac_addr': '00232ee8876d', 'uuid': 'SSAC-292217-AAFFA', 'video_id': 0, 'actual_tally': 0, 'auto_tally': 0, 'file_name': '', 'data_set': 0, 'param_md5': '', 'embs_feat': '', 'embs_sims': '', 'user_id': 0}, 'video': 'https://frepai-1301930378.cos.ap-beijing.myqcloud.com/live/00232ee8876d/20220222/videos/20220222114544.mp4', 'constant_speed': False, 'median_filter': True, 'fully_periodic': False, 'batch_size': 20, 'temperature': 13.544, 'strides': [1], 'angle': 0, 'reg_factor': 1, 'detect_focus': False, 'focus_box': [0.754, 0.302, 0.93, 0.688], 'focus_box_repnum': 3, 'black_box': [0, 0, 0, 0], 'black_overlay': False, 'rm_still': True, 'area_rate_threshold': 0.001, 'best_stride_video': False, 'osd_sims': False, 'osd_feat': False, 'save_video': False, 'ef_is_send': False, 'ef_url': '', 'ef_alpha': 0.01, 'ef_beta': 0.7, 'ef_gamma': 0.8}\n",
    "a"
   ]
  }
 ],
 "metadata": {
  "hide_input": false,
  "kernelspec": {
   "display_name": "Python 3",
   "language": "python",
   "name": "python3"
  },
  "language_info": {
   "codemirror_mode": {
    "name": "ipython",
    "version": 3
   },
   "file_extension": ".py",
   "mimetype": "text/x-python",
   "name": "python",
   "nbconvert_exporter": "python",
   "pygments_lexer": "ipython3",
   "version": "3.6.9"
  },
  "toc": {
   "base_numbering": 1,
   "nav_menu": {},
   "number_sections": true,
   "sideBar": false,
   "skip_h1_title": true,
   "title_cell": "Contents",
   "title_sidebar": "Contents",
   "toc_cell": true,
   "toc_position": {
    "height": "47px",
    "left": "1620px",
    "top": "146px",
    "width": "159px"
   },
   "toc_section_display": false,
   "toc_window_display": true
  }
 },
 "nbformat": 4,
 "nbformat_minor": 5
}
