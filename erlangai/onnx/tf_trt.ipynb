{
 "cells": [
  {
   "cell_type": "markdown",
   "id": "e6a59431",
   "metadata": {},
   "source": [
    "<div class=\"alert alert-info\">\n",
    "<a href='http://116.85.5.40:8778/notebooks/erlangai/onnx/tf_trt.ipynb'>运行本Notebook, 请使用8778端口</a>\n",
    "</div>"
   ]
  },
  {
   "cell_type": "code",
   "execution_count": 1,
   "id": "66b87683",
   "metadata": {
    "ExecuteTime": {
     "end_time": "2021-09-16T14:20:46.836585Z",
     "start_time": "2021-09-16T14:20:43.791898Z"
    }
   },
   "outputs": [
    {
     "name": "stdout",
     "output_type": "stream",
     "text": [
      "numpy 1.19.5\n",
      "sklearn not installed\n",
      "pandas 1.1.5\n",
      "cv2 4.5.3\n",
      "PIL 8.3.1\n",
      "matplotlib 3.3.4\n",
      "torch not installed\n",
      "torchvision not installed\n",
      "torchaudio not installed\n",
      "tensorflow 2.6.0\n",
      "tensorboard 2.6.0\n"
     ]
    },
    {
     "data": {
      "text/html": [
       "<style>.container { width:95% !important; }</style>"
      ],
      "text/plain": [
       "<IPython.core.display.HTML object>"
      ]
     },
     "metadata": {},
     "output_type": "display_data"
    }
   ],
   "source": [
    "%reload_ext watermark\n",
    "%reload_ext autoreload\n",
    "%autoreload 2\n",
    "%watermark -p numpy,sklearn,pandas\n",
    "%watermark -p cv2,PIL,matplotlib\n",
    "%watermark -p torch,torchvision,torchaudio\n",
    "%watermark -p tensorflow,tensorboard\n",
    "%matplotlib inline\n",
    "%config InlineBackend.figure_format='retina'\n",
    "%config IPCompleter.use_jedi = False\n",
    "\n",
    "from IPython.display import display, Markdown, HTML, Image, Javascript\n",
    "from IPython.core.magic import register_line_cell_magic, register_line_magic, register_cell_magic\n",
    "display(HTML('<style>.container { width:%d%% !important; }</style>' % 95))\n",
    "\n",
    "import sys, os, io, time, random, math\n",
    "import json, base64, requests\n",
    "import os.path as osp\n",
    "import numpy as np\n",
    "\n",
    "def _IMPORT_(x):\n",
    "    try:\n",
    "        segs = x.split(' ')\n",
    "        g = globals()\n",
    "        if 'github.com' in segs[1]:\n",
    "            uri = segs[1].replace('github.com', 'raw.githubusercontent.com')\n",
    "            mod = uri.split('/')\n",
    "            for s in ['main', 'master']:\n",
    "                uri = 'https://' + '/'.join(mod[:-1]) + '/main/' + mod[-1] + '.py'\n",
    "                x = requests.get(uri)\n",
    "                if x.status_code == 200:\n",
    "                    x = x.text\n",
    "                    break\n",
    "        elif 'gitee.com' in segs[1]:\n",
    "            mod = segs[1].split('/')\n",
    "            for s in ['/raw/main/', '/raw/master/']:\n",
    "                uri = 'https://' + '/'.join(mod[:3]) + s + '/'.join(mod[3:]) + '.py'\n",
    "                x = requests.get(uri)\n",
    "                if x.status_code == 200:\n",
    "                    x = x.text\n",
    "                    break\n",
    "        elif segs[1][0] == '/':\n",
    "            with open(segs[1] + '.py') as fr:\n",
    "                x = fr.read()\n",
    "        exec(x, g)\n",
    "    except:\n",
    "        pass\n",
    "\n",
    "def _DIR_(x):\n",
    "    return json.dumps([y for y in dir(x) if not y.startswith('_')])"
   ]
  },
  {
   "cell_type": "code",
   "execution_count": 2,
   "id": "c62646a8",
   "metadata": {
    "ExecuteTime": {
     "end_time": "2021-09-16T14:20:48.371554Z",
     "start_time": "2021-09-16T14:20:48.315798Z"
    }
   },
   "outputs": [],
   "source": [
    "def display_html(port, height=600):\n",
    "    from IPython import display\n",
    "    from html import escape as html_escape\n",
    "    frame_id = 'erlangai-frame-{:08x}'.format(random.getrandbits(64))\n",
    "    shell = '''\n",
    "      <iframe id='%HTML_ID%' width='100%' height='%HEIGHT%' frameborder='0'>\n",
    "      </iframe>\n",
    "      <script>\n",
    "        (function() {\n",
    "          const frame = document.getElementById(%JSON_ID%);\n",
    "          const url = new URL(%URL%, window.location);\n",
    "          const port = %PORT%;\n",
    "          if (port) {\n",
    "            url.port = port;\n",
    "          }\n",
    "          frame.src = url;\n",
    "        })();\n",
    "      </script>\n",
    "    '''\n",
    "    replacements = [\n",
    "        ('%HTML_ID%', html_escape(frame_id, quote=True)),\n",
    "        ('%JSON_ID%', json.dumps(frame_id)),\n",
    "        ('%HEIGHT%', '%d' % height),\n",
    "        ('%PORT%', '%d' % port),\n",
    "        ('%URL%', json.dumps('/')),\n",
    "    ]\n",
    "    for (k, v) in replacements:\n",
    "        shell = shell.replace(k, v)\n",
    "    display.display(display.HTML(shell))\n",
    "    \n",
    "@register_line_magic\n",
    "def tensorboard(line):\n",
    "    if line.strip() == 'help':\n",
    "        print('%tensorboard logdir port [height]')\n",
    "        return\n",
    "    import signal, shlex\n",
    "    from tensorboard import manager as tbmanager\n",
    "\n",
    "    args = line.split()\n",
    "    logdir, port, height = args[0], int(args[1]), int(args[2]) if len(args) == 3 else 600\n",
    "    \n",
    "    infos = tbmanager.get_all()\n",
    "    for info in infos:\n",
    "        if info.port != port: continue\n",
    "        try:\n",
    "            os.kill(info.pid, signal.SIGKILL)\n",
    "            os.unlink(os.path.join(tbmanager._get_info_dir(), f'pid-{info.pid}.info'))\n",
    "        except OSError as e:\n",
    "            if e.errno != errno.ENOENT: raise\n",
    "        except Exception:\n",
    "            pass\n",
    "        break\n",
    "\n",
    "    strargs = f'--host 0.0.0.0 --port {port} --logdir {logdir} --reload_interval 10'\n",
    "    command = shlex.split(strargs, comments=True, posix=True)\n",
    "    tbmanager.start(command)\n",
    "    display_html(port, height)\n",
    "\n",
    "@register_line_magic\n",
    "def netron(line):\n",
    "    if line.strip() == 'help':\n",
    "        print('%tensorboard file port [height]')\n",
    "        return\n",
    "    args = line.split()\n",
    "    file, port, height = args[0], int(args[1]), int(args[2]) if len(args) == 3 else 600\n",
    "    # res = !lsof -i:$port | grep $port\n",
    "    # if len(res) == 1:\n",
    "    #     pid = int(res[0].split(' ')[1])\n",
    "    #     !kill -9 $pid\n",
    "    import netron\n",
    "    try:\n",
    "        netron.start(file, address=('0.0.0.0', port), browse=False)\n",
    "    except:\n",
    "        pass\n",
    "    display_html(port, height)\n"
   ]
  },
  {
   "cell_type": "markdown",
   "id": "c4acc385",
   "metadata": {},
   "source": [
    "## 准备工作"
   ]
  },
  {
   "cell_type": "code",
   "execution_count": null,
   "id": "f8dc2203",
   "metadata": {
    "ExecuteTime": {
     "end_time": "2021-09-16T13:35:10.038511Z",
     "start_time": "2021-09-16T13:35:09.313912Z"
    }
   },
   "outputs": [],
   "source": [
    "!nvidia-smi"
   ]
  },
  {
   "cell_type": "code",
   "execution_count": 4,
   "id": "ee60b34a",
   "metadata": {
    "ExecuteTime": {
     "end_time": "2021-09-16T14:21:44.784493Z",
     "start_time": "2021-09-16T14:21:44.740550Z"
    }
   },
   "outputs": [],
   "source": [
    "import shutil\n",
    "import logging\n",
    "logging.getLogger(\"tensorflow\").setLevel(logging.DEBUG)\n",
    "\n",
    "import tensorflow as tf\n",
    "from tensorflow import keras\n",
    "from tensorflow.python.framework.convert_to_constants import convert_variables_to_constants_v2\n",
    "import numpy as np\n",
    "import pathlib\n",
    "\n",
    "DATA_ROOT = '/data/nb_data/tf_trt'\n",
    "SAVED_MODEL_DIR = f'{DATA_ROOT}/saved_models'"
   ]
  },
  {
   "cell_type": "code",
   "execution_count": 5,
   "id": "f00a024e",
   "metadata": {
    "ExecuteTime": {
     "end_time": "2021-09-16T14:21:45.795363Z",
     "start_time": "2021-09-16T14:21:45.687967Z"
    }
   },
   "outputs": [
    {
     "name": "stdout",
     "output_type": "stream",
     "text": [
      "PhysicalDevice(name='/physical_device:GPU:0', device_type='GPU')\n"
     ]
    }
   ],
   "source": [
    "physical_devices = tf.config.list_physical_devices('GPU')\n",
    "for device in physical_devices:\n",
    "    print(device)\n",
    "    tf.config.experimental.set_memory_growth(device, True)"
   ]
  },
  {
   "cell_type": "markdown",
   "id": "11f8f73d",
   "metadata": {},
   "source": [
    "### 模型格式"
   ]
  },
  {
   "cell_type": "markdown",
   "id": "3825310b",
   "metadata": {},
   "source": [
    "<center>\n",
    "\n",
    "格式|简介\n",
    ":---|:---\n",
    "Checkpoint|用于保存模型的权重，主要用于模型训练过程中参数的备份和模型训练热启动\n",
    "GraphDef|不包含模型权重，加上checkpoint后就有模型上线的全部信息\n",
    "SavedModel|包含模型Graph和权限可直接用于上线，TensorFlow和Keras模型推荐使用这种模型格式\n",
    "FrozenGraph|使用freeze_graph.py对checkpoint和GraphDef进行整合和优化，可以直接部署到Android、iOS等移动设备上\n",
    "TFLite|基于flatbuf对模型进行优化，可以直接部署到Android、iOS等移动设备上，使用接口和FrozenGraph有些差异\n",
    "\n",
    "</center>"
   ]
  },
  {
   "cell_type": "markdown",
   "id": "77a4eae5",
   "metadata": {},
   "source": [
    "## 模型转换"
   ]
  },
  {
   "cell_type": "code",
   "execution_count": 6,
   "id": "076bec4e",
   "metadata": {
    "ExecuteTime": {
     "end_time": "2021-09-16T14:21:52.470056Z",
     "start_time": "2021-09-16T14:21:49.437665Z"
    }
   },
   "outputs": [],
   "source": [
    "# resnet50_weights_tf_dim_ordering_tf_kernels.h5\n",
    "model = tf.keras.applications.resnet.ResNet50(include_top=True, weights='imagenet', input_tensor=None, input_shape=None, pooling=None, classes=1000)"
   ]
  },
  {
   "cell_type": "code",
   "execution_count": null,
   "id": "a03b0351",
   "metadata": {
    "ExecuteTime": {
     "start_time": "2021-09-16T14:24:11.387Z"
    }
   },
   "outputs": [],
   "source": [
    "type(model)"
   ]
  },
  {
   "cell_type": "code",
   "execution_count": 8,
   "id": "168798ea",
   "metadata": {
    "ExecuteTime": {
     "end_time": "2021-09-16T14:21:52.582104Z",
     "start_time": "2021-09-16T14:21:52.532173Z"
    }
   },
   "outputs": [
    {
     "data": {
      "text/plain": [
       "'[\"activity_regularizer\", \"add_loss\", \"add_metric\", \"add_update\", \"add_variable\", \"add_weight\", \"apply\", \"build\", \"built\", \"call\", \"compile\", \"compiled_loss\", \"compiled_metrics\", \"compute_dtype\", \"compute_mask\", \"compute_output_shape\", \"compute_output_signature\", \"count_params\", \"distribute_strategy\", \"dtype\", \"dtype_policy\", \"dynamic\", \"evaluate\", \"evaluate_generator\", \"finalize_state\", \"fit\", \"fit_generator\", \"from_config\", \"get_config\", \"get_input_at\", \"get_input_mask_at\", \"get_input_shape_at\", \"get_layer\", \"get_losses_for\", \"get_output_at\", \"get_output_mask_at\", \"get_output_shape_at\", \"get_updates_for\", \"get_weights\", \"history\", \"inbound_nodes\", \"input\", \"input_mask\", \"input_names\", \"input_shape\", \"input_spec\", \"inputs\", \"layers\", \"load_weights\", \"losses\", \"make_predict_function\", \"make_test_function\", \"make_train_function\", \"metrics\", \"metrics_names\", \"name\", \"name_scope\", \"non_trainable_variables\", \"non_trainable_weights\", \"optimizer\", \"outbound_nodes\", \"output\", \"output_mask\", \"output_names\", \"output_shape\", \"outputs\", \"predict\", \"predict_function\", \"predict_generator\", \"predict_on_batch\", \"predict_step\", \"reset_metrics\", \"reset_states\", \"run_eagerly\", \"save\", \"save_spec\", \"save_weights\", \"set_weights\", \"state_updates\", \"stateful\", \"stop_training\", \"submodules\", \"summary\", \"supports_masking\", \"test_function\", \"test_on_batch\", \"test_step\", \"to_json\", \"to_yaml\", \"train_function\", \"train_on_batch\", \"train_step\", \"train_tf_function\", \"trainable\", \"trainable_variables\", \"trainable_weights\", \"updates\", \"variable_dtype\", \"variables\", \"weights\", \"with_name_scope\"]'"
      ]
     },
     "execution_count": 8,
     "metadata": {},
     "output_type": "execute_result"
    }
   ],
   "source": [
    "_DIR_(model)"
   ]
  },
  {
   "cell_type": "markdown",
   "id": "e37c3d0f",
   "metadata": {},
   "source": [
    "### Model Summary"
   ]
  },
  {
   "cell_type": "code",
   "execution_count": 9,
   "id": "9104f141",
   "metadata": {
    "ExecuteTime": {
     "end_time": "2021-09-16T14:21:54.113947Z",
     "start_time": "2021-09-16T14:21:54.058567Z"
    }
   },
   "outputs": [
    {
     "data": {
      "text/plain": [
       "(177,\n",
       " keras.engine.keras_tensor.KerasTensor,\n",
       " keras.engine.keras_tensor.KerasTensor,\n",
       " keras.engine.input_layer.InputLayer,\n",
       " keras.layers.core.Dense)"
      ]
     },
     "execution_count": 9,
     "metadata": {},
     "output_type": "execute_result"
    }
   ],
   "source": [
    "len(model.layers), type(model.input), type(model.output), type(model.layers[0]), type(model.layers[-1])"
   ]
  },
  {
   "cell_type": "code",
   "execution_count": 10,
   "id": "e17b25b8",
   "metadata": {
    "ExecuteTime": {
     "end_time": "2021-09-16T14:21:54.664178Z",
     "start_time": "2021-09-16T14:21:54.609531Z"
    }
   },
   "outputs": [
    {
     "data": {
      "text/plain": [
       "(<KerasTensor: shape=(None, 224, 224, 3) dtype=float32 (created by layer 'input_1')>,\n",
       " <KerasTensor: shape=(None, 1000) dtype=float32 (created by layer 'predictions')>,\n",
       " [<KerasTensor: shape=(None, 224, 224, 3) dtype=float32 (created by layer 'input_1')>],\n",
       " [<KerasTensor: shape=(None, 1000) dtype=float32 (created by layer 'predictions')>])"
      ]
     },
     "execution_count": 10,
     "metadata": {},
     "output_type": "execute_result"
    }
   ],
   "source": [
    "model.input, model.output, model.inputs, model.outputs"
   ]
  },
  {
   "cell_type": "code",
   "execution_count": 11,
   "id": "f1072783",
   "metadata": {
    "ExecuteTime": {
     "end_time": "2021-09-16T14:21:55.113564Z",
     "start_time": "2021-09-16T14:21:55.060154Z"
    }
   },
   "outputs": [
    {
     "data": {
      "text/plain": [
       "(<KerasTensor: shape=(None, 224, 224, 3) dtype=float32 (created by layer 'input_1')>,\n",
       " <KerasTensor: shape=(None, 224, 224, 3) dtype=float32 (created by layer 'input_1')>,\n",
       " <KerasTensor: shape=(None, 2048) dtype=float32 (created by layer 'avg_pool')>,\n",
       " <KerasTensor: shape=(None, 1000) dtype=float32 (created by layer 'predictions')>)"
      ]
     },
     "execution_count": 11,
     "metadata": {},
     "output_type": "execute_result"
    }
   ],
   "source": [
    "model.layers[0].get_input_at(0), model.layers[0].get_output_at(0), \\\n",
    "model.layers[-1].get_input_at(0), model.layers[-1].get_output_at(0)"
   ]
  },
  {
   "cell_type": "code",
   "execution_count": 12,
   "id": "271d0908",
   "metadata": {
    "ExecuteTime": {
     "end_time": "2021-09-16T14:21:55.618698Z",
     "start_time": "2021-09-16T14:21:55.560253Z"
    }
   },
   "outputs": [
    {
     "data": {
      "text/plain": [
       "(['input_1'], ['predictions/Softmax'])"
      ]
     },
     "execution_count": 12,
     "metadata": {},
     "output_type": "execute_result"
    }
   ],
   "source": [
    "input_node_names = [model.layers[0].get_output_at(0).name.split(':')[0]]\n",
    "output_node_names = [model.layers[-1].get_output_at(0).name.split(':')[0]]\n",
    "input_node_names, output_node_names "
   ]
  },
  {
   "cell_type": "code",
   "execution_count": 13,
   "id": "9dc75a09",
   "metadata": {
    "ExecuteTime": {
     "end_time": "2021-09-16T14:21:56.317512Z",
     "start_time": "2021-09-16T14:21:56.144603Z"
    },
    "scrolled": true
   },
   "outputs": [
    {
     "name": "stdout",
     "output_type": "stream",
     "text": [
      "Model: \"resnet50\"\n",
      "__________________________________________________________________________________________________\n",
      "Layer (type)                    Output Shape         Param #     Connected to                     \n",
      "==================================================================================================\n",
      "input_1 (InputLayer)            [(None, 224, 224, 3) 0                                            \n",
      "__________________________________________________________________________________________________\n",
      "conv1_pad (ZeroPadding2D)       (None, 230, 230, 3)  0           input_1[0][0]                    \n",
      "__________________________________________________________________________________________________\n",
      "conv1_conv (Conv2D)             (None, 112, 112, 64) 9472        conv1_pad[0][0]                  \n",
      "__________________________________________________________________________________________________\n",
      "conv1_bn (BatchNormalization)   (None, 112, 112, 64) 256         conv1_conv[0][0]                 \n",
      "__________________________________________________________________________________________________\n",
      "conv1_relu (Activation)         (None, 112, 112, 64) 0           conv1_bn[0][0]                   \n",
      "__________________________________________________________________________________________________\n",
      "pool1_pad (ZeroPadding2D)       (None, 114, 114, 64) 0           conv1_relu[0][0]                 \n",
      "__________________________________________________________________________________________________\n",
      "pool1_pool (MaxPooling2D)       (None, 56, 56, 64)   0           pool1_pad[0][0]                  \n",
      "__________________________________________________________________________________________________\n",
      "conv2_block1_1_conv (Conv2D)    (None, 56, 56, 64)   4160        pool1_pool[0][0]                 \n",
      "__________________________________________________________________________________________________\n",
      "conv2_block1_1_bn (BatchNormali (None, 56, 56, 64)   256         conv2_block1_1_conv[0][0]        \n",
      "__________________________________________________________________________________________________\n",
      "conv2_block1_1_relu (Activation (None, 56, 56, 64)   0           conv2_block1_1_bn[0][0]          \n",
      "__________________________________________________________________________________________________\n",
      "conv2_block1_2_conv (Conv2D)    (None, 56, 56, 64)   36928       conv2_block1_1_relu[0][0]        \n",
      "__________________________________________________________________________________________________\n",
      "conv2_block1_2_bn (BatchNormali (None, 56, 56, 64)   256         conv2_block1_2_conv[0][0]        \n",
      "__________________________________________________________________________________________________\n",
      "conv2_block1_2_relu (Activation (None, 56, 56, 64)   0           conv2_block1_2_bn[0][0]          \n",
      "__________________________________________________________________________________________________\n",
      "conv2_block1_0_conv (Conv2D)    (None, 56, 56, 256)  16640       pool1_pool[0][0]                 \n",
      "__________________________________________________________________________________________________\n",
      "conv2_block1_3_conv (Conv2D)    (None, 56, 56, 256)  16640       conv2_block1_2_relu[0][0]        \n",
      "__________________________________________________________________________________________________\n",
      "conv2_block1_0_bn (BatchNormali (None, 56, 56, 256)  1024        conv2_block1_0_conv[0][0]        \n",
      "__________________________________________________________________________________________________\n",
      "conv2_block1_3_bn (BatchNormali (None, 56, 56, 256)  1024        conv2_block1_3_conv[0][0]        \n",
      "__________________________________________________________________________________________________\n",
      "conv2_block1_add (Add)          (None, 56, 56, 256)  0           conv2_block1_0_bn[0][0]          \n",
      "                                                                 conv2_block1_3_bn[0][0]          \n",
      "__________________________________________________________________________________________________\n",
      "conv2_block1_out (Activation)   (None, 56, 56, 256)  0           conv2_block1_add[0][0]           \n",
      "__________________________________________________________________________________________________\n",
      "conv2_block2_1_conv (Conv2D)    (None, 56, 56, 64)   16448       conv2_block1_out[0][0]           \n",
      "__________________________________________________________________________________________________\n",
      "conv2_block2_1_bn (BatchNormali (None, 56, 56, 64)   256         conv2_block2_1_conv[0][0]        \n",
      "__________________________________________________________________________________________________\n",
      "conv2_block2_1_relu (Activation (None, 56, 56, 64)   0           conv2_block2_1_bn[0][0]          \n",
      "__________________________________________________________________________________________________\n",
      "conv2_block2_2_conv (Conv2D)    (None, 56, 56, 64)   36928       conv2_block2_1_relu[0][0]        \n",
      "__________________________________________________________________________________________________\n",
      "conv2_block2_2_bn (BatchNormali (None, 56, 56, 64)   256         conv2_block2_2_conv[0][0]        \n",
      "__________________________________________________________________________________________________\n",
      "conv2_block2_2_relu (Activation (None, 56, 56, 64)   0           conv2_block2_2_bn[0][0]          \n",
      "__________________________________________________________________________________________________\n",
      "conv2_block2_3_conv (Conv2D)    (None, 56, 56, 256)  16640       conv2_block2_2_relu[0][0]        \n",
      "__________________________________________________________________________________________________\n",
      "conv2_block2_3_bn (BatchNormali (None, 56, 56, 256)  1024        conv2_block2_3_conv[0][0]        \n",
      "__________________________________________________________________________________________________\n",
      "conv2_block2_add (Add)          (None, 56, 56, 256)  0           conv2_block1_out[0][0]           \n",
      "                                                                 conv2_block2_3_bn[0][0]          \n",
      "__________________________________________________________________________________________________\n",
      "conv2_block2_out (Activation)   (None, 56, 56, 256)  0           conv2_block2_add[0][0]           \n",
      "__________________________________________________________________________________________________\n",
      "conv2_block3_1_conv (Conv2D)    (None, 56, 56, 64)   16448       conv2_block2_out[0][0]           \n",
      "__________________________________________________________________________________________________\n",
      "conv2_block3_1_bn (BatchNormali (None, 56, 56, 64)   256         conv2_block3_1_conv[0][0]        \n",
      "__________________________________________________________________________________________________\n",
      "conv2_block3_1_relu (Activation (None, 56, 56, 64)   0           conv2_block3_1_bn[0][0]          \n",
      "__________________________________________________________________________________________________\n",
      "conv2_block3_2_conv (Conv2D)    (None, 56, 56, 64)   36928       conv2_block3_1_relu[0][0]        \n",
      "__________________________________________________________________________________________________\n",
      "conv2_block3_2_bn (BatchNormali (None, 56, 56, 64)   256         conv2_block3_2_conv[0][0]        \n",
      "__________________________________________________________________________________________________\n",
      "conv2_block3_2_relu (Activation (None, 56, 56, 64)   0           conv2_block3_2_bn[0][0]          \n",
      "__________________________________________________________________________________________________\n",
      "conv2_block3_3_conv (Conv2D)    (None, 56, 56, 256)  16640       conv2_block3_2_relu[0][0]        \n",
      "__________________________________________________________________________________________________\n",
      "conv2_block3_3_bn (BatchNormali (None, 56, 56, 256)  1024        conv2_block3_3_conv[0][0]        \n",
      "__________________________________________________________________________________________________\n",
      "conv2_block3_add (Add)          (None, 56, 56, 256)  0           conv2_block2_out[0][0]           \n",
      "                                                                 conv2_block3_3_bn[0][0]          \n",
      "__________________________________________________________________________________________________\n",
      "conv2_block3_out (Activation)   (None, 56, 56, 256)  0           conv2_block3_add[0][0]           \n",
      "__________________________________________________________________________________________________\n",
      "conv3_block1_1_conv (Conv2D)    (None, 28, 28, 128)  32896       conv2_block3_out[0][0]           \n",
      "__________________________________________________________________________________________________\n",
      "conv3_block1_1_bn (BatchNormali (None, 28, 28, 128)  512         conv3_block1_1_conv[0][0]        \n",
      "__________________________________________________________________________________________________\n",
      "conv3_block1_1_relu (Activation (None, 28, 28, 128)  0           conv3_block1_1_bn[0][0]          \n",
      "__________________________________________________________________________________________________\n",
      "conv3_block1_2_conv (Conv2D)    (None, 28, 28, 128)  147584      conv3_block1_1_relu[0][0]        \n",
      "__________________________________________________________________________________________________\n",
      "conv3_block1_2_bn (BatchNormali (None, 28, 28, 128)  512         conv3_block1_2_conv[0][0]        \n",
      "__________________________________________________________________________________________________\n",
      "conv3_block1_2_relu (Activation (None, 28, 28, 128)  0           conv3_block1_2_bn[0][0]          \n",
      "__________________________________________________________________________________________________\n",
      "conv3_block1_0_conv (Conv2D)    (None, 28, 28, 512)  131584      conv2_block3_out[0][0]           \n",
      "__________________________________________________________________________________________________\n",
      "conv3_block1_3_conv (Conv2D)    (None, 28, 28, 512)  66048       conv3_block1_2_relu[0][0]        \n",
      "__________________________________________________________________________________________________\n",
      "conv3_block1_0_bn (BatchNormali (None, 28, 28, 512)  2048        conv3_block1_0_conv[0][0]        \n",
      "__________________________________________________________________________________________________\n",
      "conv3_block1_3_bn (BatchNormali (None, 28, 28, 512)  2048        conv3_block1_3_conv[0][0]        \n",
      "__________________________________________________________________________________________________\n",
      "conv3_block1_add (Add)          (None, 28, 28, 512)  0           conv3_block1_0_bn[0][0]          \n",
      "                                                                 conv3_block1_3_bn[0][0]          \n",
      "__________________________________________________________________________________________________\n",
      "conv3_block1_out (Activation)   (None, 28, 28, 512)  0           conv3_block1_add[0][0]           \n",
      "__________________________________________________________________________________________________\n",
      "conv3_block2_1_conv (Conv2D)    (None, 28, 28, 128)  65664       conv3_block1_out[0][0]           \n",
      "__________________________________________________________________________________________________\n",
      "conv3_block2_1_bn (BatchNormali (None, 28, 28, 128)  512         conv3_block2_1_conv[0][0]        \n",
      "__________________________________________________________________________________________________\n",
      "conv3_block2_1_relu (Activation (None, 28, 28, 128)  0           conv3_block2_1_bn[0][0]          \n",
      "__________________________________________________________________________________________________\n",
      "conv3_block2_2_conv (Conv2D)    (None, 28, 28, 128)  147584      conv3_block2_1_relu[0][0]        \n",
      "__________________________________________________________________________________________________\n",
      "conv3_block2_2_bn (BatchNormali (None, 28, 28, 128)  512         conv3_block2_2_conv[0][0]        \n",
      "__________________________________________________________________________________________________\n",
      "conv3_block2_2_relu (Activation (None, 28, 28, 128)  0           conv3_block2_2_bn[0][0]          \n",
      "__________________________________________________________________________________________________\n",
      "conv3_block2_3_conv (Conv2D)    (None, 28, 28, 512)  66048       conv3_block2_2_relu[0][0]        \n",
      "__________________________________________________________________________________________________\n",
      "conv3_block2_3_bn (BatchNormali (None, 28, 28, 512)  2048        conv3_block2_3_conv[0][0]        \n",
      "__________________________________________________________________________________________________\n",
      "conv3_block2_add (Add)          (None, 28, 28, 512)  0           conv3_block1_out[0][0]           \n",
      "                                                                 conv3_block2_3_bn[0][0]          \n",
      "__________________________________________________________________________________________________\n",
      "conv3_block2_out (Activation)   (None, 28, 28, 512)  0           conv3_block2_add[0][0]           \n",
      "__________________________________________________________________________________________________\n",
      "conv3_block3_1_conv (Conv2D)    (None, 28, 28, 128)  65664       conv3_block2_out[0][0]           \n",
      "__________________________________________________________________________________________________\n",
      "conv3_block3_1_bn (BatchNormali (None, 28, 28, 128)  512         conv3_block3_1_conv[0][0]        \n",
      "__________________________________________________________________________________________________\n",
      "conv3_block3_1_relu (Activation (None, 28, 28, 128)  0           conv3_block3_1_bn[0][0]          \n",
      "__________________________________________________________________________________________________\n",
      "conv3_block3_2_conv (Conv2D)    (None, 28, 28, 128)  147584      conv3_block3_1_relu[0][0]        \n",
      "__________________________________________________________________________________________________\n",
      "conv3_block3_2_bn (BatchNormali (None, 28, 28, 128)  512         conv3_block3_2_conv[0][0]        \n",
      "__________________________________________________________________________________________________\n",
      "conv3_block3_2_relu (Activation (None, 28, 28, 128)  0           conv3_block3_2_bn[0][0]          \n",
      "__________________________________________________________________________________________________\n",
      "conv3_block3_3_conv (Conv2D)    (None, 28, 28, 512)  66048       conv3_block3_2_relu[0][0]        \n",
      "__________________________________________________________________________________________________\n",
      "conv3_block3_3_bn (BatchNormali (None, 28, 28, 512)  2048        conv3_block3_3_conv[0][0]        \n",
      "__________________________________________________________________________________________________\n",
      "conv3_block3_add (Add)          (None, 28, 28, 512)  0           conv3_block2_out[0][0]           \n",
      "                                                                 conv3_block3_3_bn[0][0]          \n",
      "__________________________________________________________________________________________________\n",
      "conv3_block3_out (Activation)   (None, 28, 28, 512)  0           conv3_block3_add[0][0]           \n",
      "__________________________________________________________________________________________________\n",
      "conv3_block4_1_conv (Conv2D)    (None, 28, 28, 128)  65664       conv3_block3_out[0][0]           \n",
      "__________________________________________________________________________________________________\n",
      "conv3_block4_1_bn (BatchNormali (None, 28, 28, 128)  512         conv3_block4_1_conv[0][0]        \n",
      "__________________________________________________________________________________________________\n",
      "conv3_block4_1_relu (Activation (None, 28, 28, 128)  0           conv3_block4_1_bn[0][0]          \n",
      "__________________________________________________________________________________________________\n",
      "conv3_block4_2_conv (Conv2D)    (None, 28, 28, 128)  147584      conv3_block4_1_relu[0][0]        \n",
      "__________________________________________________________________________________________________\n",
      "conv3_block4_2_bn (BatchNormali (None, 28, 28, 128)  512         conv3_block4_2_conv[0][0]        \n",
      "__________________________________________________________________________________________________\n",
      "conv3_block4_2_relu (Activation (None, 28, 28, 128)  0           conv3_block4_2_bn[0][0]          \n",
      "__________________________________________________________________________________________________\n",
      "conv3_block4_3_conv (Conv2D)    (None, 28, 28, 512)  66048       conv3_block4_2_relu[0][0]        \n",
      "__________________________________________________________________________________________________\n",
      "conv3_block4_3_bn (BatchNormali (None, 28, 28, 512)  2048        conv3_block4_3_conv[0][0]        \n",
      "__________________________________________________________________________________________________\n",
      "conv3_block4_add (Add)          (None, 28, 28, 512)  0           conv3_block3_out[0][0]           \n",
      "                                                                 conv3_block4_3_bn[0][0]          \n",
      "__________________________________________________________________________________________________\n",
      "conv3_block4_out (Activation)   (None, 28, 28, 512)  0           conv3_block4_add[0][0]           \n",
      "__________________________________________________________________________________________________\n",
      "conv4_block1_1_conv (Conv2D)    (None, 14, 14, 256)  131328      conv3_block4_out[0][0]           \n",
      "__________________________________________________________________________________________________\n",
      "conv4_block1_1_bn (BatchNormali (None, 14, 14, 256)  1024        conv4_block1_1_conv[0][0]        \n",
      "__________________________________________________________________________________________________\n",
      "conv4_block1_1_relu (Activation (None, 14, 14, 256)  0           conv4_block1_1_bn[0][0]          \n",
      "__________________________________________________________________________________________________\n",
      "conv4_block1_2_conv (Conv2D)    (None, 14, 14, 256)  590080      conv4_block1_1_relu[0][0]        \n",
      "__________________________________________________________________________________________________\n",
      "conv4_block1_2_bn (BatchNormali (None, 14, 14, 256)  1024        conv4_block1_2_conv[0][0]        \n",
      "__________________________________________________________________________________________________\n",
      "conv4_block1_2_relu (Activation (None, 14, 14, 256)  0           conv4_block1_2_bn[0][0]          \n",
      "__________________________________________________________________________________________________\n",
      "conv4_block1_0_conv (Conv2D)    (None, 14, 14, 1024) 525312      conv3_block4_out[0][0]           \n",
      "__________________________________________________________________________________________________\n",
      "conv4_block1_3_conv (Conv2D)    (None, 14, 14, 1024) 263168      conv4_block1_2_relu[0][0]        \n",
      "__________________________________________________________________________________________________\n",
      "conv4_block1_0_bn (BatchNormali (None, 14, 14, 1024) 4096        conv4_block1_0_conv[0][0]        \n",
      "__________________________________________________________________________________________________\n",
      "conv4_block1_3_bn (BatchNormali (None, 14, 14, 1024) 4096        conv4_block1_3_conv[0][0]        \n",
      "__________________________________________________________________________________________________\n",
      "conv4_block1_add (Add)          (None, 14, 14, 1024) 0           conv4_block1_0_bn[0][0]          \n",
      "                                                                 conv4_block1_3_bn[0][0]          \n",
      "__________________________________________________________________________________________________\n",
      "conv4_block1_out (Activation)   (None, 14, 14, 1024) 0           conv4_block1_add[0][0]           \n",
      "__________________________________________________________________________________________________\n",
      "conv4_block2_1_conv (Conv2D)    (None, 14, 14, 256)  262400      conv4_block1_out[0][0]           \n",
      "__________________________________________________________________________________________________\n",
      "conv4_block2_1_bn (BatchNormali (None, 14, 14, 256)  1024        conv4_block2_1_conv[0][0]        \n",
      "__________________________________________________________________________________________________\n",
      "conv4_block2_1_relu (Activation (None, 14, 14, 256)  0           conv4_block2_1_bn[0][0]          \n",
      "__________________________________________________________________________________________________\n",
      "conv4_block2_2_conv (Conv2D)    (None, 14, 14, 256)  590080      conv4_block2_1_relu[0][0]        \n",
      "__________________________________________________________________________________________________\n",
      "conv4_block2_2_bn (BatchNormali (None, 14, 14, 256)  1024        conv4_block2_2_conv[0][0]        \n",
      "__________________________________________________________________________________________________\n",
      "conv4_block2_2_relu (Activation (None, 14, 14, 256)  0           conv4_block2_2_bn[0][0]          \n",
      "__________________________________________________________________________________________________\n",
      "conv4_block2_3_conv (Conv2D)    (None, 14, 14, 1024) 263168      conv4_block2_2_relu[0][0]        \n",
      "__________________________________________________________________________________________________\n",
      "conv4_block2_3_bn (BatchNormali (None, 14, 14, 1024) 4096        conv4_block2_3_conv[0][0]        \n",
      "__________________________________________________________________________________________________\n",
      "conv4_block2_add (Add)          (None, 14, 14, 1024) 0           conv4_block1_out[0][0]           \n",
      "                                                                 conv4_block2_3_bn[0][0]          \n",
      "__________________________________________________________________________________________________\n",
      "conv4_block2_out (Activation)   (None, 14, 14, 1024) 0           conv4_block2_add[0][0]           \n",
      "__________________________________________________________________________________________________\n",
      "conv4_block3_1_conv (Conv2D)    (None, 14, 14, 256)  262400      conv4_block2_out[0][0]           \n",
      "__________________________________________________________________________________________________\n",
      "conv4_block3_1_bn (BatchNormali (None, 14, 14, 256)  1024        conv4_block3_1_conv[0][0]        \n",
      "__________________________________________________________________________________________________\n",
      "conv4_block3_1_relu (Activation (None, 14, 14, 256)  0           conv4_block3_1_bn[0][0]          \n",
      "__________________________________________________________________________________________________\n",
      "conv4_block3_2_conv (Conv2D)    (None, 14, 14, 256)  590080      conv4_block3_1_relu[0][0]        \n",
      "__________________________________________________________________________________________________\n",
      "conv4_block3_2_bn (BatchNormali (None, 14, 14, 256)  1024        conv4_block3_2_conv[0][0]        \n",
      "__________________________________________________________________________________________________\n",
      "conv4_block3_2_relu (Activation (None, 14, 14, 256)  0           conv4_block3_2_bn[0][0]          \n",
      "__________________________________________________________________________________________________\n",
      "conv4_block3_3_conv (Conv2D)    (None, 14, 14, 1024) 263168      conv4_block3_2_relu[0][0]        \n",
      "__________________________________________________________________________________________________\n",
      "conv4_block3_3_bn (BatchNormali (None, 14, 14, 1024) 4096        conv4_block3_3_conv[0][0]        \n",
      "__________________________________________________________________________________________________\n",
      "conv4_block3_add (Add)          (None, 14, 14, 1024) 0           conv4_block2_out[0][0]           \n",
      "                                                                 conv4_block3_3_bn[0][0]          \n",
      "__________________________________________________________________________________________________\n",
      "conv4_block3_out (Activation)   (None, 14, 14, 1024) 0           conv4_block3_add[0][0]           \n",
      "__________________________________________________________________________________________________\n",
      "conv4_block4_1_conv (Conv2D)    (None, 14, 14, 256)  262400      conv4_block3_out[0][0]           \n",
      "__________________________________________________________________________________________________\n",
      "conv4_block4_1_bn (BatchNormali (None, 14, 14, 256)  1024        conv4_block4_1_conv[0][0]        \n",
      "__________________________________________________________________________________________________\n",
      "conv4_block4_1_relu (Activation (None, 14, 14, 256)  0           conv4_block4_1_bn[0][0]          \n",
      "__________________________________________________________________________________________________\n",
      "conv4_block4_2_conv (Conv2D)    (None, 14, 14, 256)  590080      conv4_block4_1_relu[0][0]        \n",
      "__________________________________________________________________________________________________\n",
      "conv4_block4_2_bn (BatchNormali (None, 14, 14, 256)  1024        conv4_block4_2_conv[0][0]        \n",
      "__________________________________________________________________________________________________\n",
      "conv4_block4_2_relu (Activation (None, 14, 14, 256)  0           conv4_block4_2_bn[0][0]          \n",
      "__________________________________________________________________________________________________\n",
      "conv4_block4_3_conv (Conv2D)    (None, 14, 14, 1024) 263168      conv4_block4_2_relu[0][0]        \n",
      "__________________________________________________________________________________________________\n",
      "conv4_block4_3_bn (BatchNormali (None, 14, 14, 1024) 4096        conv4_block4_3_conv[0][0]        \n",
      "__________________________________________________________________________________________________\n",
      "conv4_block4_add (Add)          (None, 14, 14, 1024) 0           conv4_block3_out[0][0]           \n",
      "                                                                 conv4_block4_3_bn[0][0]          \n",
      "__________________________________________________________________________________________________\n",
      "conv4_block4_out (Activation)   (None, 14, 14, 1024) 0           conv4_block4_add[0][0]           \n",
      "__________________________________________________________________________________________________\n",
      "conv4_block5_1_conv (Conv2D)    (None, 14, 14, 256)  262400      conv4_block4_out[0][0]           \n",
      "__________________________________________________________________________________________________\n",
      "conv4_block5_1_bn (BatchNormali (None, 14, 14, 256)  1024        conv4_block5_1_conv[0][0]        \n",
      "__________________________________________________________________________________________________\n",
      "conv4_block5_1_relu (Activation (None, 14, 14, 256)  0           conv4_block5_1_bn[0][0]          \n",
      "__________________________________________________________________________________________________\n",
      "conv4_block5_2_conv (Conv2D)    (None, 14, 14, 256)  590080      conv4_block5_1_relu[0][0]        \n",
      "__________________________________________________________________________________________________\n",
      "conv4_block5_2_bn (BatchNormali (None, 14, 14, 256)  1024        conv4_block5_2_conv[0][0]        \n",
      "__________________________________________________________________________________________________\n",
      "conv4_block5_2_relu (Activation (None, 14, 14, 256)  0           conv4_block5_2_bn[0][0]          \n",
      "__________________________________________________________________________________________________\n",
      "conv4_block5_3_conv (Conv2D)    (None, 14, 14, 1024) 263168      conv4_block5_2_relu[0][0]        \n",
      "__________________________________________________________________________________________________\n",
      "conv4_block5_3_bn (BatchNormali (None, 14, 14, 1024) 4096        conv4_block5_3_conv[0][0]        \n",
      "__________________________________________________________________________________________________\n",
      "conv4_block5_add (Add)          (None, 14, 14, 1024) 0           conv4_block4_out[0][0]           \n",
      "                                                                 conv4_block5_3_bn[0][0]          \n",
      "__________________________________________________________________________________________________\n",
      "conv4_block5_out (Activation)   (None, 14, 14, 1024) 0           conv4_block5_add[0][0]           \n",
      "__________________________________________________________________________________________________\n",
      "conv4_block6_1_conv (Conv2D)    (None, 14, 14, 256)  262400      conv4_block5_out[0][0]           \n",
      "__________________________________________________________________________________________________\n",
      "conv4_block6_1_bn (BatchNormali (None, 14, 14, 256)  1024        conv4_block6_1_conv[0][0]        \n",
      "__________________________________________________________________________________________________\n",
      "conv4_block6_1_relu (Activation (None, 14, 14, 256)  0           conv4_block6_1_bn[0][0]          \n",
      "__________________________________________________________________________________________________\n",
      "conv4_block6_2_conv (Conv2D)    (None, 14, 14, 256)  590080      conv4_block6_1_relu[0][0]        \n",
      "__________________________________________________________________________________________________\n",
      "conv4_block6_2_bn (BatchNormali (None, 14, 14, 256)  1024        conv4_block6_2_conv[0][0]        \n",
      "__________________________________________________________________________________________________\n",
      "conv4_block6_2_relu (Activation (None, 14, 14, 256)  0           conv4_block6_2_bn[0][0]          \n",
      "__________________________________________________________________________________________________\n",
      "conv4_block6_3_conv (Conv2D)    (None, 14, 14, 1024) 263168      conv4_block6_2_relu[0][0]        \n",
      "__________________________________________________________________________________________________\n",
      "conv4_block6_3_bn (BatchNormali (None, 14, 14, 1024) 4096        conv4_block6_3_conv[0][0]        \n",
      "__________________________________________________________________________________________________\n",
      "conv4_block6_add (Add)          (None, 14, 14, 1024) 0           conv4_block5_out[0][0]           \n",
      "                                                                 conv4_block6_3_bn[0][0]          \n",
      "__________________________________________________________________________________________________\n",
      "conv4_block6_out (Activation)   (None, 14, 14, 1024) 0           conv4_block6_add[0][0]           \n",
      "__________________________________________________________________________________________________\n",
      "conv5_block1_1_conv (Conv2D)    (None, 7, 7, 512)    524800      conv4_block6_out[0][0]           \n",
      "__________________________________________________________________________________________________\n",
      "conv5_block1_1_bn (BatchNormali (None, 7, 7, 512)    2048        conv5_block1_1_conv[0][0]        \n",
      "__________________________________________________________________________________________________\n",
      "conv5_block1_1_relu (Activation (None, 7, 7, 512)    0           conv5_block1_1_bn[0][0]          \n",
      "__________________________________________________________________________________________________\n",
      "conv5_block1_2_conv (Conv2D)    (None, 7, 7, 512)    2359808     conv5_block1_1_relu[0][0]        \n",
      "__________________________________________________________________________________________________\n",
      "conv5_block1_2_bn (BatchNormali (None, 7, 7, 512)    2048        conv5_block1_2_conv[0][0]        \n",
      "__________________________________________________________________________________________________\n",
      "conv5_block1_2_relu (Activation (None, 7, 7, 512)    0           conv5_block1_2_bn[0][0]          \n",
      "__________________________________________________________________________________________________\n",
      "conv5_block1_0_conv (Conv2D)    (None, 7, 7, 2048)   2099200     conv4_block6_out[0][0]           \n",
      "__________________________________________________________________________________________________\n",
      "conv5_block1_3_conv (Conv2D)    (None, 7, 7, 2048)   1050624     conv5_block1_2_relu[0][0]        \n",
      "__________________________________________________________________________________________________\n",
      "conv5_block1_0_bn (BatchNormali (None, 7, 7, 2048)   8192        conv5_block1_0_conv[0][0]        \n",
      "__________________________________________________________________________________________________\n",
      "conv5_block1_3_bn (BatchNormali (None, 7, 7, 2048)   8192        conv5_block1_3_conv[0][0]        \n",
      "__________________________________________________________________________________________________\n",
      "conv5_block1_add (Add)          (None, 7, 7, 2048)   0           conv5_block1_0_bn[0][0]          \n",
      "                                                                 conv5_block1_3_bn[0][0]          \n",
      "__________________________________________________________________________________________________\n",
      "conv5_block1_out (Activation)   (None, 7, 7, 2048)   0           conv5_block1_add[0][0]           \n",
      "__________________________________________________________________________________________________\n",
      "conv5_block2_1_conv (Conv2D)    (None, 7, 7, 512)    1049088     conv5_block1_out[0][0]           \n",
      "__________________________________________________________________________________________________\n",
      "conv5_block2_1_bn (BatchNormali (None, 7, 7, 512)    2048        conv5_block2_1_conv[0][0]        \n",
      "__________________________________________________________________________________________________\n",
      "conv5_block2_1_relu (Activation (None, 7, 7, 512)    0           conv5_block2_1_bn[0][0]          \n",
      "__________________________________________________________________________________________________\n",
      "conv5_block2_2_conv (Conv2D)    (None, 7, 7, 512)    2359808     conv5_block2_1_relu[0][0]        \n",
      "__________________________________________________________________________________________________\n",
      "conv5_block2_2_bn (BatchNormali (None, 7, 7, 512)    2048        conv5_block2_2_conv[0][0]        \n",
      "__________________________________________________________________________________________________\n",
      "conv5_block2_2_relu (Activation (None, 7, 7, 512)    0           conv5_block2_2_bn[0][0]          \n",
      "__________________________________________________________________________________________________\n",
      "conv5_block2_3_conv (Conv2D)    (None, 7, 7, 2048)   1050624     conv5_block2_2_relu[0][0]        \n",
      "__________________________________________________________________________________________________\n",
      "conv5_block2_3_bn (BatchNormali (None, 7, 7, 2048)   8192        conv5_block2_3_conv[0][0]        \n",
      "__________________________________________________________________________________________________\n",
      "conv5_block2_add (Add)          (None, 7, 7, 2048)   0           conv5_block1_out[0][0]           \n",
      "                                                                 conv5_block2_3_bn[0][0]          \n",
      "__________________________________________________________________________________________________\n",
      "conv5_block2_out (Activation)   (None, 7, 7, 2048)   0           conv5_block2_add[0][0]           \n",
      "__________________________________________________________________________________________________\n",
      "conv5_block3_1_conv (Conv2D)    (None, 7, 7, 512)    1049088     conv5_block2_out[0][0]           \n",
      "__________________________________________________________________________________________________\n",
      "conv5_block3_1_bn (BatchNormali (None, 7, 7, 512)    2048        conv5_block3_1_conv[0][0]        \n",
      "__________________________________________________________________________________________________\n",
      "conv5_block3_1_relu (Activation (None, 7, 7, 512)    0           conv5_block3_1_bn[0][0]          \n",
      "__________________________________________________________________________________________________\n",
      "conv5_block3_2_conv (Conv2D)    (None, 7, 7, 512)    2359808     conv5_block3_1_relu[0][0]        \n",
      "__________________________________________________________________________________________________\n",
      "conv5_block3_2_bn (BatchNormali (None, 7, 7, 512)    2048        conv5_block3_2_conv[0][0]        \n",
      "__________________________________________________________________________________________________\n",
      "conv5_block3_2_relu (Activation (None, 7, 7, 512)    0           conv5_block3_2_bn[0][0]          \n",
      "__________________________________________________________________________________________________\n",
      "conv5_block3_3_conv (Conv2D)    (None, 7, 7, 2048)   1050624     conv5_block3_2_relu[0][0]        \n",
      "__________________________________________________________________________________________________\n",
      "conv5_block3_3_bn (BatchNormali (None, 7, 7, 2048)   8192        conv5_block3_3_conv[0][0]        \n",
      "__________________________________________________________________________________________________\n",
      "conv5_block3_add (Add)          (None, 7, 7, 2048)   0           conv5_block2_out[0][0]           \n",
      "                                                                 conv5_block3_3_bn[0][0]          \n",
      "__________________________________________________________________________________________________\n",
      "conv5_block3_out (Activation)   (None, 7, 7, 2048)   0           conv5_block3_add[0][0]           \n",
      "__________________________________________________________________________________________________\n",
      "avg_pool (GlobalAveragePooling2 (None, 2048)         0           conv5_block3_out[0][0]           \n",
      "__________________________________________________________________________________________________\n",
      "predictions (Dense)             (None, 1000)         2049000     avg_pool[0][0]                   \n",
      "==================================================================================================\n",
      "Total params: 25,636,712\n",
      "Trainable params: 25,583,592\n",
      "Non-trainable params: 53,120\n",
      "__________________________________________________________________________________________________\n"
     ]
    }
   ],
   "source": [
    "model.summary()"
   ]
  },
  {
   "cell_type": "markdown",
   "id": "ab80a988",
   "metadata": {},
   "source": [
    "### Keras Frozen"
   ]
  },
  {
   "cell_type": "code",
   "execution_count": 14,
   "id": "1fa4f9e8",
   "metadata": {
    "ExecuteTime": {
     "end_time": "2021-09-16T14:22:09.626726Z",
     "start_time": "2021-09-16T14:21:58.980341Z"
    }
   },
   "outputs": [],
   "source": [
    "full_model = tf.function(lambda x: model(x))\n",
    "full_model = full_model.get_concrete_function(tf.TensorSpec(model.inputs[0].shape, model.inputs[0].dtype))\n",
    "\n",
    "frozen_func = convert_variables_to_constants_v2(full_model)\n",
    "frozen_func.graph.as_graph_def()"
   ]
  },
  {
   "cell_type": "code",
   "execution_count": 15,
   "id": "07500aa1",
   "metadata": {
    "ExecuteTime": {
     "end_time": "2021-09-16T14:22:09.682746Z",
     "start_time": "2021-09-16T14:22:09.629258Z"
    }
   },
   "outputs": [],
   "source": [
    "type(full_model), type(frozen_func), type(frozen_func.graph)"
   ]
  },
  {
   "cell_type": "code",
   "execution_count": 16,
   "id": "bb361f57",
   "metadata": {
    "ExecuteTime": {
     "end_time": "2021-09-16T14:22:09.740889Z",
     "start_time": "2021-09-16T14:22:09.685571Z"
    }
   },
   "outputs": [],
   "source": [
    "_DIR_(frozen_func), '-'*80, _DIR_(frozen_func.graph)"
   ]
  },
  {
   "cell_type": "code",
   "execution_count": 17,
   "id": "d367d188",
   "metadata": {
    "ExecuteTime": {
     "end_time": "2021-09-16T14:22:09.816458Z",
     "start_time": "2021-09-16T14:22:09.744098Z"
    }
   },
   "outputs": [],
   "source": [
    "frozen_func.inputs, frozen_func.outputs"
   ]
  },
  {
   "cell_type": "code",
   "execution_count": 18,
   "id": "aae26fe4",
   "metadata": {
    "ExecuteTime": {
     "end_time": "2021-09-16T14:22:09.880766Z",
     "start_time": "2021-09-16T14:22:09.819354Z"
    }
   },
   "outputs": [],
   "source": [
    "for i, op in enumerate(frozen_func.graph.get_operations()[:10]):\n",
    "    print('%2d' % i, op.name)"
   ]
  },
  {
   "cell_type": "code",
   "execution_count": 22,
   "id": "b37459c9",
   "metadata": {
    "ExecuteTime": {
     "end_time": "2021-09-16T14:28:39.114650Z",
     "start_time": "2021-09-16T14:28:38.621483Z"
    }
   },
   "outputs": [],
   "source": [
    "frozen_graph_proto_path = tf.io.write_graph(\n",
    "    graph_or_graph_def=frozen_func.graph,\n",
    "    logdir=DATA_ROOT,\n",
    "    name=\"resnet50_frozen.pb\",\n",
    "    as_text=False)"
   ]
  },
  {
   "cell_type": "code",
   "execution_count": null,
   "id": "2e00f69a",
   "metadata": {
    "ExecuteTime": {
     "start_time": "2021-09-16T13:35:06.930Z"
    }
   },
   "outputs": [],
   "source": [
    "# %netron {frozen_graph_proto_path} 9001"
   ]
  },
  {
   "cell_type": "markdown",
   "id": "0bcd1ea9",
   "metadata": {},
   "source": [
    "### Convert to ONNX"
   ]
  },
  {
   "cell_type": "code",
   "execution_count": null,
   "id": "47e889ca",
   "metadata": {
    "ExecuteTime": {
     "start_time": "2021-09-16T13:35:07.061Z"
    }
   },
   "outputs": [],
   "source": [
    "inputs = ','.join([x.name for x in frozen_func.inputs])\n",
    "outputs = ','.join([x.name for x in frozen_func.outputs])\n",
    "inputs, outputs"
   ]
  },
  {
   "cell_type": "code",
   "execution_count": null,
   "id": "3d246f23",
   "metadata": {
    "ExecuteTime": {
     "start_time": "2021-09-16T13:35:07.065Z"
    }
   },
   "outputs": [],
   "source": [
    "!python3 -m tf2onnx.convert --opset 14 --input {frozen_graph_proto_path} \\\n",
    "    --inputs {inputs} --outputs {outputs} --output {frozen_graph_proto_path}.onnx"
   ]
  },
  {
   "cell_type": "code",
   "execution_count": null,
   "id": "5bae3325",
   "metadata": {
    "ExecuteTime": {
     "start_time": "2021-09-16T13:35:07.069Z"
    }
   },
   "outputs": [],
   "source": [
    "%netron {frozen_graph_proto_path}.onnx 9002"
   ]
  },
  {
   "cell_type": "markdown",
   "id": "8f67764b",
   "metadata": {},
   "source": [
    "### ONNX to TensorRT"
   ]
  },
  {
   "cell_type": "code",
   "execution_count": 21,
   "id": "00561106",
   "metadata": {
    "ExecuteTime": {
     "end_time": "2021-09-16T14:24:25.077455Z",
     "start_time": "2021-09-16T14:24:25.025040Z"
    }
   },
   "outputs": [
    {
     "name": "stdout",
     "output_type": "stream",
     "text": [
      "Overwriting /data/nb_data/tf_trt/install_tensorrt.sh\n"
     ]
    }
   ],
   "source": [
    "%%writefile {DATA_ROOT}/install_tensorrt.sh\n",
    "\n",
    "sudo apt-get install libnvinfer8 libnvonnxparsers8 libnvparsers8 libnvinfer-plugin8\n",
    "sudo apt-get install python3-libnvinfer"
   ]
  },
  {
   "cell_type": "code",
   "execution_count": 23,
   "id": "4a6ee337",
   "metadata": {
    "ExecuteTime": {
     "end_time": "2021-09-16T14:29:03.127719Z",
     "start_time": "2021-09-16T14:29:03.046832Z"
    }
   },
   "outputs": [
    {
     "data": {
      "text/plain": [
       "<NetworkDefinitionCreationFlag.EXPLICIT_BATCH: 0>"
      ]
     },
     "execution_count": 23,
     "metadata": {},
     "output_type": "execute_result"
    }
   ],
   "source": [
    "trt.NetworkDefinitionCreationFlag.EXPLICIT_BATCH"
   ]
  },
  {
   "cell_type": "code",
   "execution_count": 46,
   "id": "ab6146fb",
   "metadata": {
    "ExecuteTime": {
     "end_time": "2021-09-17T09:57:08.032450Z",
     "start_time": "2021-09-17T09:57:07.975079Z"
    }
   },
   "outputs": [],
   "source": [
    "# %%writefile {DATA_ROOT}/onnx2tensorrt.py\n",
    "\n",
    "import tensorrt as trt\n",
    "\n",
    "def onnx2tensorrt(onnx_file_path, engine_file_path):\n",
    "    G_LOGGER = trt.Logger(trt.Logger.WARNING)\n",
    "    EXPLICIT_BATCH = 1\n",
    "    with trt.Builder(G_LOGGER) as builder, builder.create_network(EXPLICIT_BATCH) as network, \\\n",
    "            trt.OnnxParser(network, G_LOGGER) as parser:\n",
    "        config = builder.create_builder_config()\n",
    "        config.max_workspace_size = 1 << 20\n",
    "        config.set_flag(trt.BuilderFlag.FP16)\n",
    "        config.set_flag(trt.BuilderFlag.STRICT_TYPES)\n",
    "\n",
    "        builder.max_batch_size = 1\n",
    "\n",
    "        print('Loading ONNX file from path {}...'.format(onnx_file_path))\n",
    "        with open(onnx_file_path, 'rb') as model:\n",
    "            print('Beginning ONNX file parsing')\n",
    "            if not parser.parse(model.read()):\n",
    "                for e in range(parser.num_errors):\n",
    "                    print(parser.get_error(e))\n",
    "                raise TypeError(\"Parser parse failed.\")\n",
    "\n",
    "        print('Completed parsing of ONNX file')\n",
    "\n",
    "        print('Building an engine from file {}; this may take a while...'.format(onnx_file_path))\n",
    "        engine = builder.build_engine(network, config)\n",
    "        print(type(engine))\n",
    "        print(\"Created engine success! \")\n",
    "\n",
    "        print('Saving TRT engine file to path {}...'.format(engine_file_path))\n",
    "        with open(engine_file_path, \"wb\") as f:\n",
    "            f.write(engine.serialize())\n",
    "        print('Engine file has already saved to {}!'.format(engine_file_path))\n",
    "        return engine"
   ]
  },
  {
   "cell_type": "code",
   "execution_count": 32,
   "id": "946acc2d",
   "metadata": {
    "ExecuteTime": {
     "end_time": "2021-09-16T14:42:04.649657Z",
     "start_time": "2021-09-16T14:42:04.594395Z"
    }
   },
   "outputs": [
    {
     "data": {
      "text/plain": [
       "'[\"build_engine\", \"build_serialized_network\", \"create_builder_config\", \"create_network\", \"create_optimization_profile\", \"error_recorder\", \"gpu_allocator\", \"is_network_supported\", \"max_DLA_batch_size\", \"max_batch_size\", \"num_DLA_cores\", \"platform_has_fast_fp16\", \"platform_has_fast_int8\", \"platform_has_tf32\"]'"
      ]
     },
     "execution_count": 32,
     "metadata": {},
     "output_type": "execute_result"
    }
   ],
   "source": [
    "_DIR_(trt.tensorrt.Builder)"
   ]
  },
  {
   "cell_type": "code",
   "execution_count": 47,
   "id": "39ef8f6e",
   "metadata": {
    "ExecuteTime": {
     "end_time": "2021-09-17T09:57:26.351773Z",
     "start_time": "2021-09-17T09:57:26.036609Z"
    }
   },
   "outputs": [
    {
     "name": "stdout",
     "output_type": "stream",
     "text": [
      "Loading ONNX file from path /data/nb_data/tf_trt/resnet50_frozen.pb.onnx...\n",
      "Beginning ONNX file parsing\n",
      "Completed parsing of ONNX file\n",
      "Building an engine from file /data/nb_data/tf_trt/resnet50_frozen.pb.onnx; this may take a while...\n",
      "<class 'NoneType'>\n",
      "Created engine success! \n",
      "Saving TRT engine file to path /data/nb_data/tf_trt/resnet50_frozen.pb.plan...\n"
     ]
    },
    {
     "name": "stderr",
     "output_type": "stream",
     "text": [
      "/usr/local/lib/python3.6/dist-packages/ipykernel_launcher.py:28: DeprecationWarning: Use build_serialized_network instead.\n"
     ]
    },
    {
     "ename": "AttributeError",
     "evalue": "'NoneType' object has no attribute 'serialize'",
     "output_type": "error",
     "traceback": [
      "\u001b[0;31m\u001b[0m",
      "\u001b[0;31mAttributeError\u001b[0mTraceback (most recent call last)",
      "\u001b[0;32m<ipython-input-47-2cf2661f6684>\u001b[0m in \u001b[0;36m<module>\u001b[0;34m\u001b[0m\n\u001b[0;32m----> 1\u001b[0;31m \u001b[0monnx2tensorrt\u001b[0m\u001b[0;34m(\u001b[0m\u001b[0;34mf'{frozen_graph_proto_path}.onnx'\u001b[0m\u001b[0;34m,\u001b[0m \u001b[0;34mf'{frozen_graph_proto_path}.plan'\u001b[0m\u001b[0;34m)\u001b[0m\u001b[0;34m\u001b[0m\u001b[0;34m\u001b[0m\u001b[0m\n\u001b[0m",
      "\u001b[0;32m<ipython-input-46-19224cfdc499>\u001b[0m in \u001b[0;36monnx2tensorrt\u001b[0;34m(onnx_file_path, engine_file_path)\u001b[0m\n\u001b[1;32m     32\u001b[0m         \u001b[0mprint\u001b[0m\u001b[0;34m(\u001b[0m\u001b[0;34m'Saving TRT engine file to path {}...'\u001b[0m\u001b[0;34m.\u001b[0m\u001b[0mformat\u001b[0m\u001b[0;34m(\u001b[0m\u001b[0mengine_file_path\u001b[0m\u001b[0;34m)\u001b[0m\u001b[0;34m)\u001b[0m\u001b[0;34m\u001b[0m\u001b[0;34m\u001b[0m\u001b[0m\n\u001b[1;32m     33\u001b[0m         \u001b[0;32mwith\u001b[0m \u001b[0mopen\u001b[0m\u001b[0;34m(\u001b[0m\u001b[0mengine_file_path\u001b[0m\u001b[0;34m,\u001b[0m \u001b[0;34m\"wb\"\u001b[0m\u001b[0;34m)\u001b[0m \u001b[0;32mas\u001b[0m \u001b[0mf\u001b[0m\u001b[0;34m:\u001b[0m\u001b[0;34m\u001b[0m\u001b[0;34m\u001b[0m\u001b[0m\n\u001b[0;32m---> 34\u001b[0;31m             \u001b[0mf\u001b[0m\u001b[0;34m.\u001b[0m\u001b[0mwrite\u001b[0m\u001b[0;34m(\u001b[0m\u001b[0mengine\u001b[0m\u001b[0;34m.\u001b[0m\u001b[0mserialize\u001b[0m\u001b[0;34m(\u001b[0m\u001b[0;34m)\u001b[0m\u001b[0;34m)\u001b[0m\u001b[0;34m\u001b[0m\u001b[0;34m\u001b[0m\u001b[0m\n\u001b[0m\u001b[1;32m     35\u001b[0m         \u001b[0mprint\u001b[0m\u001b[0;34m(\u001b[0m\u001b[0;34m'Engine file has already saved to {}!'\u001b[0m\u001b[0;34m.\u001b[0m\u001b[0mformat\u001b[0m\u001b[0;34m(\u001b[0m\u001b[0mengine_file_path\u001b[0m\u001b[0;34m)\u001b[0m\u001b[0;34m)\u001b[0m\u001b[0;34m\u001b[0m\u001b[0;34m\u001b[0m\u001b[0m\n\u001b[1;32m     36\u001b[0m         \u001b[0;32mreturn\u001b[0m \u001b[0mengine\u001b[0m\u001b[0;34m\u001b[0m\u001b[0;34m\u001b[0m\u001b[0m\n",
      "\u001b[0;31mAttributeError\u001b[0m: 'NoneType' object has no attribute 'serialize'"
     ]
    }
   ],
   "source": [
    "onnx2tensorrt(f'{frozen_graph_proto_path}.onnx', f'{frozen_graph_proto_path}.plan')"
   ]
  },
  {
   "cell_type": "markdown",
   "id": "f67e00aa",
   "metadata": {},
   "source": [
    "## AA"
   ]
  },
  {
   "cell_type": "code",
   "execution_count": null,
   "id": "08ec2bc6",
   "metadata": {},
   "outputs": [],
   "source": []
  },
  {
   "cell_type": "markdown",
   "id": "d6ab1de0",
   "metadata": {
    "heading_collapsed": true
   },
   "source": [
    "# BB"
   ]
  },
  {
   "cell_type": "markdown",
   "id": "8b3e0e3d",
   "metadata": {
    "hidden": true
   },
   "source": [
    "## 模型训练保存"
   ]
  },
  {
   "cell_type": "code",
   "execution_count": null,
   "id": "62fcf571",
   "metadata": {
    "ExecuteTime": {
     "start_time": "2021-09-16T13:35:07.438Z"
    },
    "hidden": true
   },
   "outputs": [],
   "source": [
    "# Load MNIST dataset\n",
    "mnist = keras.datasets.mnist\n",
    "(train_images, train_labels), (test_images, test_labels) = mnist.load_data(f'{DATA_ROOT}/mnist.npz')\n",
    "\n",
    "# Normalize the input image so that each pixel value is between 0 to 1.\n",
    "train_images = train_images / 255.0\n",
    "test_images = test_images / 255.0\n",
    "\n",
    "# Define the model architecture\n",
    "model = keras.Sequential([\n",
    "  keras.layers.InputLayer(input_shape=(28, 28)),\n",
    "  keras.layers.Reshape(target_shape=(28, 28, 1)),\n",
    "  keras.layers.Conv2D(filters=12, kernel_size=(3, 3), activation=tf.nn.relu),\n",
    "  keras.layers.MaxPooling2D(pool_size=(2, 2)),\n",
    "  keras.layers.Flatten(),\n",
    "  keras.layers.Dense(10)\n",
    "])\n",
    "\n",
    "# Train the digit classification model\n",
    "model.compile(optimizer='adam',\n",
    "              loss=keras.losses.SparseCategoricalCrossentropy(from_logits=True),\n",
    "              metrics=['accuracy'])\n",
    "model.fit(\n",
    "  train_images,\n",
    "  train_labels,\n",
    "  epochs=1,\n",
    "  validation_data=(test_images, test_labels)\n",
    ")\n",
    "\n",
    "model.save(SAVED_MODEL_DIR)"
   ]
  },
  {
   "cell_type": "code",
   "execution_count": null,
   "id": "f53c3b22",
   "metadata": {
    "ExecuteTime": {
     "start_time": "2021-09-16T13:35:07.442Z"
    },
    "hidden": true
   },
   "outputs": [],
   "source": [
    "train_images[0].shape"
   ]
  },
  {
   "cell_type": "code",
   "execution_count": null,
   "id": "2ecac0d5",
   "metadata": {
    "ExecuteTime": {
     "start_time": "2021-09-16T13:35:07.447Z"
    },
    "hidden": true
   },
   "outputs": [],
   "source": [
    "model.inputs, model.outputs, model.outputs[0].name"
   ]
  },
  {
   "cell_type": "code",
   "execution_count": null,
   "id": "d5ad4649",
   "metadata": {
    "ExecuteTime": {
     "start_time": "2021-09-16T13:35:07.450Z"
    },
    "hidden": true
   },
   "outputs": [],
   "source": [
    "model.summary()"
   ]
  },
  {
   "cell_type": "markdown",
   "id": "f2ebcc78",
   "metadata": {
    "ExecuteTime": {
     "end_time": "2021-09-15T08:11:27.729118Z",
     "start_time": "2021-09-15T08:11:27.208201Z"
    },
    "hidden": true
   },
   "source": [
    "## 查看签名信息(signatures)"
   ]
  },
  {
   "cell_type": "code",
   "execution_count": null,
   "id": "7f0691c2",
   "metadata": {
    "ExecuteTime": {
     "start_time": "2021-09-16T13:35:07.575Z"
    },
    "hidden": true
   },
   "outputs": [],
   "source": [
    "!saved_model_cli show --dir {SAVED_MODEL_DIR} --tag_set serve --signature_def serving_default"
   ]
  },
  {
   "cell_type": "markdown",
   "id": "e287ee09",
   "metadata": {
    "ExecuteTime": {
     "end_time": "2021-09-15T08:24:14.819779Z",
     "start_time": "2021-09-15T08:24:13.347684Z"
    },
    "hidden": true
   },
   "source": [
    "### 冻结计算图(frozen graph)"
   ]
  },
  {
   "cell_type": "code",
   "execution_count": null,
   "id": "f245cc10",
   "metadata": {
    "ExecuteTime": {
     "start_time": "2021-09-16T13:35:07.685Z"
    },
    "hidden": true,
    "scrolled": false
   },
   "outputs": [],
   "source": [
    "# from tensorflow.python.tools import freeze_graph\n",
    "# \n",
    "# freeze_graph.freeze_graph(\n",
    "#     input_saved_model_dir=SAVED_MODEL_DIR,\n",
    "#     output_graph=f'{SAVED_MODEL_DIR}/freeze_graph.pb',\n",
    "#     saved_model_tags = 'serve',\n",
    "#     output_node_names='dense/BiasAdd',\n",
    "#     initializer_nodes='',\n",
    "#     input_graph=None,\n",
    "#     input_saver=False,\n",
    "#     input_binary=False,\n",
    "#     input_checkpoint=None,\n",
    "#     restore_op_name=None,\n",
    "#     filename_tensor_name=None,\n",
    "#     clear_devices=True,\n",
    "#     input_meta_graph=False,\n",
    "# ) "
   ]
  },
  {
   "cell_type": "markdown",
   "id": "3d39f074",
   "metadata": {
    "heading_collapsed": true,
    "hidden": true
   },
   "source": [
    "## 计算图可视化"
   ]
  },
  {
   "cell_type": "code",
   "execution_count": null,
   "id": "77e08d77",
   "metadata": {
    "ExecuteTime": {
     "start_time": "2021-09-16T13:35:07.797Z"
    },
    "hidden": true
   },
   "outputs": [],
   "source": [
    "from tensorflow.python.client import session\n",
    "from tensorflow.python.framework import importer\n",
    "from tensorflow.python.framework import ops\n",
    "from tensorflow.python.summary import summary\n",
    "from tensorflow.python.tools import saved_model_utils\n",
    "\n",
    "model_dir = SAVED_MODEL_DIR\n",
    "log_dir = f'{DATA_ROOT}/logs'\n",
    "tag_set = 'serve'\n",
    "\n",
    "shutil.rmtree(log_dir)\n",
    "\n",
    "T = None\n",
    "\n",
    "with session.Session(graph=ops.Graph()) as sess:\n",
    "    input_graph_def = saved_model_utils.get_meta_graph_def(model_dir, tag_set).graph_def\n",
    "\n",
    "    importer.import_graph_def(input_graph_def)\n",
    "\n",
    "    pb_visual_writer = summary.FileWriter(log_dir)\n",
    "    pb_visual_writer.add_graph(sess.graph)\n",
    "    T = sess.graph\n",
    "    pb_visual_writer.flush()\n",
    "    pb_visual_writer.close()\n",
    "    "
   ]
  },
  {
   "cell_type": "code",
   "execution_count": null,
   "id": "d9764a2f",
   "metadata": {
    "ExecuteTime": {
     "start_time": "2021-09-16T13:35:07.799Z"
    },
    "hidden": true
   },
   "outputs": [],
   "source": [
    "%tensorboard {log_dir} 8901 800"
   ]
  },
  {
   "cell_type": "code",
   "execution_count": null,
   "id": "e3ca4b9b",
   "metadata": {
    "ExecuteTime": {
     "start_time": "2021-09-16T13:35:07.802Z"
    },
    "hidden": true
   },
   "outputs": [],
   "source": [
    "%netron {model_dir}/keras_metadata.pb 8902"
   ]
  },
  {
   "cell_type": "markdown",
   "id": "804f1a32",
   "metadata": {
    "hidden": true
   },
   "source": [
    "## Optimizer"
   ]
  },
  {
   "cell_type": "markdown",
   "id": "57214e6f",
   "metadata": {
    "hidden": true
   },
   "source": [
    "### Tensorrt"
   ]
  },
  {
   "cell_type": "markdown",
   "id": "824a9b71",
   "metadata": {
    "hidden": true
   },
   "source": [
    "    sudo apt-get install -y --no-install-recommends libnvinfer6=6.0.1-1+cuda10.1 \\\n",
    "        libnvinfer-dev=6.0.1-1+cuda10.1 \\\n",
    "        libnvinfer-plugin6=6.0.1-1+cuda10.1"
   ]
  },
  {
   "cell_type": "code",
   "execution_count": null,
   "id": "32e27661",
   "metadata": {
    "ExecuteTime": {
     "start_time": "2021-09-16T13:35:08.180Z"
    },
    "hidden": true
   },
   "outputs": [],
   "source": [
    "# from tensorflow.python.compiler.tensorrt import trt_convert as trt\n",
    "# converter = trt.TrtGraphConverterV2(input_saved_model_dir=SAVED_MODEL_DIR)\n",
    "# converter.convert()\n",
    "# converter.save(SAVED_MODEL_DIR)"
   ]
  },
  {
   "cell_type": "markdown",
   "id": "8df38ca7",
   "metadata": {},
   "source": [
    "# References"
   ]
  },
  {
   "cell_type": "markdown",
   "id": "b648318d",
   "metadata": {},
   "source": [
    "- [This guide provides instructions for installing TensorFlow for Jetson Platform.][13]\n",
    "- [TensorRT Install][12]\n",
    "- [TensorRT (TF-TRT) optimization][8]\n",
    "- [使用 TensorFlow、ONNX 和 TensorRT 加速深度学习推理][9]\n",
    "- [How to export a TensorFlow 2.x Keras model to a frozen and optimized graph][10]\n",
    "- [Pytorch to TensorRT][11]\n",
    "- [利用 TensorRT 实现 TensorFlow 低延迟推理][1]\n",
    "- [如何查看Tensorflow SavedModel格式模型的信息][2]\n",
    "- [What is difference frozen_inference_graph.pb and saved_model.pb?][3]\n",
    "- [浅谈tensorflow模型保存为pb的各种姿势][4]\n",
    "- [github: import_pb_to_tensorboard.py][5]\n",
    "- [github: freez_grpah][6]\n",
    "- [tensorflow 模型导出总结][7]\n",
    "\n",
    "[13]: https://docs.nvidia.com/deeplearning/frameworks/install-tf-jetson-platform/index.html\n",
    "[12]: https://docs.nvidia.com/deeplearning/tensorrt/install-guide/index.html\n",
    "[11]: https://github.com/qq995431104/Pytorch2TensorRT/\n",
    "[10]: https://medium.com/@sebastingarcaacosta/how-to-export-a-tensorflow-2-x-keras-model-to-a-frozen-and-optimized-graph-39740846d9eb\n",
    "[9]: https://developer.nvidia.com/zh-cn/blog/speeding-up-deep-learning-inference-using-tensorflow-onnx-and-tensorrt/\n",
    "[8]: https://docs.nvidia.com/deeplearning/frameworks/tf-trt-user-guide/index.html\n",
    "[7]: https://zhuanlan.zhihu.com/p/113734249\n",
    "[6]:https://github.com/tensorflow/tensorflow/blob/master/tensorflow/python/tools/freeze_graph.py\n",
    "[5]: https://github.com/tensorflow/tensorflow/blob/master/tensorflow/python/tools/import_pb_to_tensorboard.py\n",
    "[4]: https://cloud.tencent.com/developer/article/1737892\n",
    "[3]: https://newbedev.com/what-is-difference-frozen-inference-graph-pb-and-saved-model-pb\n",
    "[2]: https://cloud.tencent.com/developer/article/1454661\n",
    "[1]: https://discuss.tf.wiki/t/topic/1391"
   ]
  },
  {
   "cell_type": "markdown",
   "id": "290103b5",
   "metadata": {},
   "source": [
    "# FAQs"
   ]
  },
  {
   "cell_type": "markdown",
   "id": "a134a99e",
   "metadata": {},
   "source": [
    "- [错误 Could not load dynamic library libnvinfer.so.6 解决方法][1]\n",
    "- [cuda.h not found when pip install pycuda][2]\n",
    "\n",
    "[2]: https://blog.csdn.net/lyyiangang/article/details/118794393\n",
    "[1]: https://blog.csdn.net/zywvvd/article/details/106863908"
   ]
  },
  {
   "cell_type": "code",
   "execution_count": null,
   "id": "4f444c35",
   "metadata": {},
   "outputs": [],
   "source": [
    "np.random.randn()"
   ]
  }
 ],
 "metadata": {
  "hide_input": false,
  "kernelspec": {
   "display_name": "Python 3",
   "language": "python",
   "name": "python3"
  },
  "language_info": {
   "codemirror_mode": {
    "name": "ipython",
    "version": 3
   },
   "file_extension": ".py",
   "mimetype": "text/x-python",
   "name": "python",
   "nbconvert_exporter": "python",
   "pygments_lexer": "ipython3",
   "version": "3.6.9"
  },
  "toc": {
   "base_numbering": 1,
   "nav_menu": {
    "height": "299px",
    "width": "513px"
   },
   "number_sections": true,
   "sideBar": true,
   "skip_h1_title": true,
   "title_cell": "",
   "title_sidebar": "Contents",
   "toc_cell": false,
   "toc_position": {},
   "toc_section_display": true,
   "toc_window_display": false
  }
 },
 "nbformat": 4,
 "nbformat_minor": 5
}
