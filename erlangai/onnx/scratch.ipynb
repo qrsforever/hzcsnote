{
 "cells": [
  {
   "cell_type": "markdown",
   "id": "referenced-rabbit",
   "metadata": {
    "toc": true
   },
   "source": [
    "<h1><span class=\"tocSkip\"></span></h1>\n",
    "<div class=\"toc\"><ul class=\"toc-item\"><li><span><a href=\"#Pytorch-Demo\" data-toc-modified-id=\"Pytorch-Demo-1\"><span class=\"toc-item-num\">1&nbsp;&nbsp;</span>Pytorch Demo</a></span></li><li><span><a href=\"#Onnx-Demo\" data-toc-modified-id=\"Onnx-Demo-2\"><span class=\"toc-item-num\">2&nbsp;&nbsp;</span>Onnx Demo</a></span></li><li><span><a href=\"#Onnx-Model-File-Analysis\" data-toc-modified-id=\"Onnx-Model-File-Analysis-3\"><span class=\"toc-item-num\">3&nbsp;&nbsp;</span>Onnx Model File Analysis</a></span><ul class=\"toc-item\"><li><span><a href=\"#Modify-initializer-(Tensor)\" data-toc-modified-id=\"Modify-initializer-(Tensor)-3.1\"><span class=\"toc-item-num\">3.1&nbsp;&nbsp;</span>Modify initializer (Tensor)</a></span></li><li><span><a href=\"#Modify-node-(Attributes)\" data-toc-modified-id=\"Modify-node-(Attributes)-3.2\"><span class=\"toc-item-num\">3.2&nbsp;&nbsp;</span>Modify node (Attributes)</a></span></li></ul></li><li><span><a href=\"#Runtime\" data-toc-modified-id=\"Runtime-4\"><span class=\"toc-item-num\">4&nbsp;&nbsp;</span>Runtime</a></span></li><li><span><a href=\"#References\" data-toc-modified-id=\"References-5\"><span class=\"toc-item-num\">5&nbsp;&nbsp;</span>References</a></span></li></ul></div>"
   ]
  },
  {
   "cell_type": "code",
   "execution_count": 1,
   "id": "severe-reproduction",
   "metadata": {
    "ExecuteTime": {
     "end_time": "2021-08-27T12:17:19.371552Z",
     "start_time": "2021-08-27T12:17:15.168610Z"
    }
   },
   "outputs": [
    {
     "name": "stdout",
     "output_type": "stream",
     "text": [
      "CPython 3.6.9\n",
      "IPython 7.16.1\n",
      "\n",
      "numpy 1.19.5\n",
      "sklearn 0.24.2\n",
      "pandas 1.1.5\n",
      "CPython 3.6.9\n",
      "IPython 7.16.1\n",
      "\n",
      "cv2 4.5.3\n",
      "PIL 8.2.0\n",
      "matplotlib 3.3.4\n",
      "CPython 3.6.9\n",
      "IPython 7.16.1\n",
      "\n",
      "torch 1.9.0\n",
      "torchvision 0.10.0\n",
      "torchaudio not installed\n",
      "CPython 3.6.9\n",
      "IPython 7.16.1\n",
      "\n",
      "tensorflow 2.6.0\n",
      "tensorboard 2.6.0\n"
     ]
    },
    {
     "data": {
      "text/html": [
       "<style>.container { width:80% !important; }</style>"
      ],
      "text/plain": [
       "<IPython.core.display.HTML object>"
      ]
     },
     "metadata": {},
     "output_type": "display_data"
    }
   ],
   "source": [
    "%reload_ext watermark\n",
    "%reload_ext autoreload\n",
    "%autoreload 2\n",
    "%watermark -v -p numpy,sklearn,pandas\n",
    "%watermark -v -p cv2,PIL,matplotlib\n",
    "%watermark -v -p torch,torchvision,torchaudio\n",
    "%watermark -v -p tensorflow,tensorboard\n",
    "%matplotlib inline\n",
    "%config InlineBackend.figure_format='retina'\n",
    "%config IPCompleter.use_jedi = False\n",
    "\n",
    "from IPython.display import display, Markdown, HTML, Image, Javascript\n",
    "display(HTML('<style>.container { width:%d%% !important; }</style>' % 80))\n",
    "\n",
    "import sys, os, io, time, random, math\n",
    "import json, base64, requests\n",
    "import os.path as osp\n",
    "import numpy as np\n",
    "\n",
    "def _IMPORT_(x):\n",
    "    try:\n",
    "        segs = x.split(' ')\n",
    "        g = globals()\n",
    "        if 'github.com' in segs[1]:\n",
    "            uri = segs[1].replace('github.com', 'raw.githubusercontent.com')\n",
    "            mod = uri.split('/')\n",
    "            for s in ['main', 'master']:\n",
    "                uri = 'https://' + '/'.join(mod[:-1]) + '/main/' + mod[-1] + '.py'\n",
    "                x = requests.get(uri).text\n",
    "                if x.status == 200:\n",
    "                    break\n",
    "        elif 'gitee.com' in segs[1]:\n",
    "            mod = segs[1].split('/')\n",
    "            for s in ['/raw/main/', '/raw/master/']:\n",
    "                uri = 'https://' + '/'.join(mod[:3]) + s + '/'.join(mod[3:]) + '.py'\n",
    "                x = requests.get(uri).text\n",
    "                if x.status == 200:\n",
    "                    break\n",
    "        elif segs[1][0] == '/':\n",
    "            with open(segs[1] + '.py') as fr:\n",
    "                x = fr.read()\n",
    "        exec(x, g)\n",
    "    except:\n",
    "        pass\n"
   ]
  },
  {
   "cell_type": "code",
   "execution_count": 2,
   "id": "nutritional-poverty",
   "metadata": {
    "ExecuteTime": {
     "end_time": "2021-08-27T06:12:31.833298Z",
     "start_time": "2021-08-27T06:12:31.771476Z"
    }
   },
   "outputs": [],
   "source": [
    "from IPython.core.magic import register_line_cell_magic, register_line_magic, register_cell_magic\n",
    "def display_html(port, height=600):\n",
    "    from IPython import display\n",
    "    from html import escape as html_escape\n",
    "    frame_id = 'tensorboard-frame-{:08x}'.format(random.getrandbits(64))\n",
    "    shell = '''\n",
    "      <iframe id='%HTML_ID%' width='100%' height='%HEIGHT%' frameborder='0'>\n",
    "      </iframe>\n",
    "      <script>\n",
    "        (function() {\n",
    "          const frame = document.getElementById(%JSON_ID%);\n",
    "          const url = new URL(%URL%, window.location);\n",
    "          const port = %PORT%;\n",
    "          if (port) {\n",
    "            url.port = port;\n",
    "          }\n",
    "          frame.src = url;\n",
    "        })();\n",
    "      </script>\n",
    "    '''\n",
    "    replacements = [\n",
    "        ('%HTML_ID%', html_escape(frame_id, quote=True)),\n",
    "        ('%JSON_ID%', json.dumps(frame_id)),\n",
    "        ('%HEIGHT%', '%d' % height),\n",
    "        ('%PORT%', '%d' % port),\n",
    "        ('%URL%', json.dumps('/')),\n",
    "    ]\n",
    "    for (k, v) in replacements:\n",
    "        shell = shell.replace(k, v)\n",
    "    display.display(display.HTML(shell))\n",
    "\n",
    "@register_line_cell_magic\n",
    "def template_writefile(line, cell):\n",
    "    with open(line, 'w') as fw:\n",
    "        fw.write(cell.format(**globals()))\n",
    "\n",
    "@register_line_magic\n",
    "def netron(line):\n",
    "    args = line.split()\n",
    "    file, port, height = args[0], int(args[1]), 600\n",
    "    if len(args) == 3:\n",
    "        height = int(args[2])\n",
    "    # res = !lsof -i:$port | grep $port\n",
    "    # if len(res) == 1:\n",
    "    #    pid = int(res[0].split(' ')[1])\n",
    "    #    !kill -9 $pid\n",
    "    import netron\n",
    "    netron.start(file, address=('0.0.0.0', port), browse=False)\n",
    "    display_html(port, height)\n"
   ]
  },
  {
   "cell_type": "code",
   "execution_count": 3,
   "id": "scenic-characteristic",
   "metadata": {
    "ExecuteTime": {
     "end_time": "2021-08-27T06:12:31.887747Z",
     "start_time": "2021-08-27T06:12:31.836102Z"
    }
   },
   "outputs": [],
   "source": [
    "\n",
    "###\n",
    "### Torch ###\n",
    "###\n",
    "\n",
    "_IMPORT_('import torch')\n",
    "_IMPORT_('import torch.nn as nn')\n",
    "_IMPORT_('import torch.nn.functional as F')\n",
    "_IMPORT_('import torch.optim as O')\n",
    "_IMPORT_('from torchvision import models as M')\n",
    "_IMPORT_('from torchvision import transforms as T')\n",
    "_IMPORT_('from torch.utils.data import Dataset, DataLoader')\n"
   ]
  },
  {
   "cell_type": "code",
   "execution_count": 4,
   "id": "sealed-illness",
   "metadata": {
    "ExecuteTime": {
     "end_time": "2021-08-27T06:12:31.974754Z",
     "start_time": "2021-08-27T06:12:31.890006Z"
    }
   },
   "outputs": [],
   "source": [
    "import onnx\n",
    "import onnx.helper as OH\n",
    "import onnxruntime as rt\n",
    "from torchvision import datasets\n",
    "from PIL import Image\n",
    "from collections import OrderedDict"
   ]
  },
  {
   "cell_type": "markdown",
   "id": "suitable-hurricane",
   "metadata": {},
   "source": [
    "## Pytorch Demo"
   ]
  },
  {
   "cell_type": "code",
   "execution_count": 5,
   "id": "regional-transcription",
   "metadata": {
    "ExecuteTime": {
     "end_time": "2021-08-27T06:12:32.051601Z",
     "start_time": "2021-08-27T06:12:31.977181Z"
    }
   },
   "outputs": [
    {
     "name": "stdout",
     "output_type": "stream",
     "text": [
      "conv1.weight\n",
      "conv1.bias\n",
      "bn1.weight\n",
      "bn1.bias\n",
      "conv2.weight\n",
      "conv2.bias\n"
     ]
    },
    {
     "name": "stderr",
     "output_type": "stream",
     "text": [
      "/usr/local/lib/python3.6/dist-packages/torch/cuda/__init__.py:52: UserWarning: CUDA initialization: The NVIDIA driver on your system is too old (found version 10010). Please update your GPU driver by downloading and installing a new version from the URL: http://www.nvidia.com/Download/index.aspx Alternatively, go to: https://pytorch.org to install a PyTorch version that has been compiled with your version of the CUDA driver. (Triggered internally at  /pytorch/c10/cuda/CUDAFunctions.cpp:115.)\n",
      "  return torch._C._cuda_getDeviceCount() > 0\n"
     ]
    }
   ],
   "source": [
    "device = torch.device(\"cuda\" if torch.cuda.is_available() else \"cpu\")\n",
    "\n",
    "class TorchModel(nn.Module):\n",
    "    def __init__(self):\n",
    "        super(TorchModel, self).__init__()\n",
    "        self.conv1 = nn.Conv2d(in_channels=3, out_channels=32, kernel_size=(3, 3), padding=(1, 1))\n",
    "        self.bn1 = nn.BatchNorm2d(32, eps=1e-5)\n",
    "        self.relu1 = nn.ReLU()\n",
    "        self.avgpool1 = nn.AdaptiveAvgPool2d((1, 1))\n",
    "        self.conv2 = nn.Conv2d(in_channels=32, out_channels=10, kernel_size=(1, 1), padding=(0, 0))\n",
    "        self.flatten = nn.Flatten()\n",
    "    def forward(self, x):\n",
    "        x = self.conv1(x)\n",
    "        x = self.bn1(x)\n",
    "        x = self.relu1(x)\n",
    "        x = self.avgpool1(x)\n",
    "        x = self.conv2(x)\n",
    "        return self.flatten(x)\n",
    "model = TorchModel().to(device)\n",
    "    \n",
    "# model = nn.Sequential(\n",
    "#     OrderedDict(\n",
    "#         [\n",
    "#             ('conv1', nn.Conv2d(in_channels=3, out_channels=32, kernel_size=(3, 3), padding=(1, 1))),\n",
    "#             ('bn1', nn.BatchNorm2d(32, eps=1e-5)),\n",
    "#             ('relu1', nn.ReLU()),\n",
    "#             ('avgpool1', nn.AdaptiveAvgPool2d((1, 1))),\n",
    "#             ('conv2', nn.Conv2d(in_channels=32, out_channels=10, kernel_size=(1, 1), padding=(0, 0))),\n",
    "#             ('flatten', nn.Flatten())\n",
    "#         ]\n",
    "#     )\n",
    "# )\n",
    "\n",
    "for name, param in model.named_parameters():\n",
    "    print(name)"
   ]
  },
  {
   "cell_type": "code",
   "execution_count": 6,
   "id": "assigned-wellington",
   "metadata": {
    "ExecuteTime": {
     "end_time": "2021-08-27T06:12:32.953236Z",
     "start_time": "2021-08-27T06:12:32.054264Z"
    }
   },
   "outputs": [],
   "source": [
    "train_dataset = datasets.MNIST(\n",
    "    root='/data/nb_data/datasets/', train=True, download=False,\n",
    "    transform=T.Compose([T.Lambda(lambda x: x.convert('RGB')), T.ToTensor(), T.Normalize((0.1307,), (0.3081,))]))\n",
    "train_loader = DataLoader(train_dataset, batch_size=1024, shuffle=True)\n",
    "\n",
    "criterion = nn.CrossEntropyLoss()\n",
    "optimizer = O.Adam(model.parameters(), lr=1e-4)\n",
    "# not learning, only for onnx\n",
    "for epoch in range(1):\n",
    "    for image, target in train_loader:\n",
    "        image, target = image.to(device), target.to(device)\n",
    "        output = model(image)\n",
    "        loss = criterion(output, target)\n",
    "        optimizer.zero_grad()\n",
    "        loss.backward()\n",
    "        optimizer.step()\n",
    "        break"
   ]
  },
  {
   "cell_type": "code",
   "execution_count": 7,
   "id": "oriented-adventure",
   "metadata": {
    "ExecuteTime": {
     "end_time": "2021-08-27T06:12:33.083760Z",
     "start_time": "2021-08-27T06:12:32.956968Z"
    }
   },
   "outputs": [
    {
     "name": "stdout",
     "output_type": "stream",
     "text": [
      "graph(%input : Float(*, 3, 28, 28, strides=[2352, 784, 28, 1], requires_grad=0, device=cpu),\n",
      "      %conv2.weight : Float(10, 32, 1, 1, strides=[32, 1, 1, 1], requires_grad=1, device=cpu),\n",
      "      %conv2.bias : Float(10, strides=[1], requires_grad=1, device=cpu),\n",
      "      %17 : Float(32, 3, 3, 3, strides=[27, 9, 3, 1], requires_grad=0, device=cpu),\n",
      "      %18 : Float(32, strides=[1], requires_grad=0, device=cpu)):\n",
      "  %16 : Float(*, 32, 28, 28, strides=[25088, 784, 28, 1], requires_grad=1, device=cpu) = onnx::Conv[dilations=[1, 1], group=1, kernel_shape=[3, 3], pads=[1, 1, 1, 1], strides=[1, 1]](%input, %17, %18)\n",
      "  %12 : Float(*, 32, 28, 28, strides=[25088, 784, 28, 1], requires_grad=1, device=cpu) = onnx::Relu(%16) # /usr/local/lib/python3.6/dist-packages/torch/nn/functional.py:1298:0\n",
      "  %13 : Float(*, 32, 1, 1, strides=[32, 1, 1, 1], requires_grad=1, device=cpu) = onnx::GlobalAveragePool(%12) # /usr/local/lib/python3.6/dist-packages/torch/nn/functional.py:1130:0\n",
      "  %14 : Float(*, 10, 1, 1, strides=[10, 1, 1, 1], requires_grad=1, device=cpu) = onnx::Conv[dilations=[1, 1], group=1, kernel_shape=[1, 1], pads=[0, 0, 0, 0], strides=[1, 1]](%13, %conv2.weight, %conv2.bias) # /usr/local/lib/python3.6/dist-packages/torch/nn/modules/conv.py:440:0\n",
      "  %output : Float(*, 10, strides=[10, 1], requires_grad=1, device=cpu) = onnx::Flatten[axis=1](%14) # /usr/local/lib/python3.6/dist-packages/torch/nn/modules/flatten.py:40:0\n",
      "  return (%output)\n",
      "\n"
     ]
    }
   ],
   "source": [
    "torch.onnx.export(\n",
    "    model, torch.randn((1, 3, 28, 28)),\n",
    "    '/data/nb_data/tmp/torch_model.onnx', \n",
    "    input_names=['input'],\n",
    "    output_names=['output'],\n",
    "    dynamic_axes={'input' : {0 : 'BS'}, 'output' : {0 : 'BS'}},\n",
    "    do_constant_folding=True, # TODO? can not show layer real name\n",
    "    verbose=True)"
   ]
  },
  {
   "cell_type": "code",
   "execution_count": 8,
   "id": "blocked-membership",
   "metadata": {
    "ExecuteTime": {
     "end_time": "2021-08-27T06:12:33.165767Z",
     "start_time": "2021-08-27T06:12:33.086445Z"
    },
    "scrolled": false
   },
   "outputs": [
    {
     "name": "stdout",
     "output_type": "stream",
     "text": [
      "Serving '/data/nb_data/tmp/torch_model.onnx' at http://0.0.0.0:8228\n"
     ]
    },
    {
     "data": {
      "text/html": [
       "\n",
       "      <iframe id='tensorboard-frame-bef49bb2c4ba8bed' width='100%' height='600' frameborder='0'>\n",
       "      </iframe>\n",
       "      <script>\n",
       "        (function() {\n",
       "          const frame = document.getElementById(\"tensorboard-frame-bef49bb2c4ba8bed\");\n",
       "          const url = new URL(\"/\", window.location);\n",
       "          const port = 8228;\n",
       "          if (port) {\n",
       "            url.port = port;\n",
       "          }\n",
       "          frame.src = url;\n",
       "        })();\n",
       "      </script>\n",
       "    "
      ],
      "text/plain": [
       "<IPython.core.display.HTML object>"
      ]
     },
     "metadata": {},
     "output_type": "display_data"
    }
   ],
   "source": [
    "%netron /data/nb_data/tmp/torch_model.onnx 8228 600"
   ]
  },
  {
   "cell_type": "markdown",
   "id": "hawaiian-webster",
   "metadata": {},
   "source": [
    "## Onnx Demo"
   ]
  },
  {
   "cell_type": "markdown",
   "id": "3e2dab97",
   "metadata": {},
   "source": [
    "<img src=\"https://gitee.com/qrsforever/blog_source_assets/raw/master/Common/onnx_proto.gif\" width=600px />"
   ]
  },
  {
   "cell_type": "code",
   "execution_count": 9,
   "id": "working-reach",
   "metadata": {
    "ExecuteTime": {
     "end_time": "2021-08-27T06:12:33.270768Z",
     "start_time": "2021-08-27T06:12:33.168271Z"
    }
   },
   "outputs": [],
   "source": [
    "# Input and Output ValueInfoProto\n",
    "\n",
    "X = OH.make_tensor_value_info(\n",
    "    'X',\n",
    "    onnx.TensorProto.FLOAT,\n",
    "    [1, 3, 28, 28])\n",
    "\n",
    "Y = OH.make_tensor_value_info(\n",
    "    'Y',\n",
    "    onnx.TensorProto.FLOAT,\n",
    "    [1, 10])\n",
    "\n",
    "\n",
    "# Conv1: NodeProto\n",
    "\n",
    "conv1_W = np.ones(shape=(32, 3, 3, 3)).astype(np.float32)\n",
    "conv1_W_tensor = OH.make_tensor(\n",
    "    name='conv1_W',\n",
    "    data_type=onnx.TensorProto.FLOAT,\n",
    "    dims=conv1_W.shape,\n",
    "    vals=conv1_W.flatten().tolist())\n",
    "\n",
    "conv1_B = np.ones(shape=(32)).astype(np.float32)\n",
    "conv1_B_tensor = OH.make_tensor(\n",
    "    name='conv1_B',\n",
    "    data_type=onnx.TensorProto.FLOAT,\n",
    "    dims=conv1_B.shape,\n",
    "    vals=conv1_B.flatten().tolist())\n",
    "\n",
    "conv1_node = OH.make_node(\n",
    "    name=\"conv1\",\n",
    "    op_type=\"Conv\",\n",
    "    inputs=['X', 'conv1_W', 'conv1_B'],\n",
    "    outputs=['conv1_Y'],\n",
    "    kernel_shape=(3, 3),\n",
    "    pads=(1, 1, 1, 1),\n",
    ")\n",
    "\n",
    "\n",
    "# Bn1: NodeProto\n",
    "\n",
    "bn1_params = OrderedDict({\n",
    "    name: np.random.randn(32).astype(np.float32) for name in ('bn1_scale', 'bn1_bias', 'bn1_mean', 'bn1_var')\n",
    "})\n",
    "\n",
    "bn1_initializer_tensor = {\n",
    "    f'{key}_tensor': OH.make_tensor(\n",
    "        name=f'{key}_tensor',\n",
    "        data_type=onnx.TensorProto.FLOAT,\n",
    "        dims=val.shape,\n",
    "        vals=val.flatten().tolist()) for key, val in bn1_params.items()\n",
    "}\n",
    "\n",
    "bn1_node = OH.make_node(\n",
    "    name=\"bn1\",\n",
    "    op_type=\"BatchNormalization\",\n",
    "    inputs=[\n",
    "        'conv1_Y', *bn1_initializer_tensor.keys()\n",
    "    ],\n",
    "    outputs=['bn1_Y'],\n",
    "    epsilon=1e-6\n",
    ")\n",
    "\n",
    "# Create a ReLU node (NodeProto).\n",
    "\n",
    "relu1_node = OH.make_node(\n",
    "    name=\"relu1\",\n",
    "    op_type=\"Relu\",\n",
    "    inputs=['bn1_Y'],\n",
    "    outputs=['relu1_Y'],\n",
    ")\n",
    "\n",
    "# Create a Avg Pool node (NodeProto)\n",
    "\n",
    "avg_pool1_node = onnx.helper.make_node(\n",
    "    name=\"avgpool1\",\n",
    "    op_type=\"GlobalAveragePool\",\n",
    "    inputs=['relu1_Y'],\n",
    "    outputs=['avgpool1_Y'],\n",
    ")\n",
    "\n",
    "\n",
    "# Conv2: NodeProto\n",
    "\n",
    "conv2_W = np.ones(shape=(10, 32, 1, 1)).astype(np.float32)\n",
    "conv2_W_tensor = OH.make_tensor(\n",
    "    name='conv2_W',\n",
    "    data_type=onnx.TensorProto.FLOAT,\n",
    "    dims=conv2_W.shape,\n",
    "    vals=conv2_W.flatten().tolist())\n",
    "\n",
    "conv2_B = np.ones(shape=(10)).astype(np.float32)\n",
    "conv2_B_tensor = OH.make_tensor(\n",
    "    name='conv2_B',\n",
    "    data_type=onnx.TensorProto.FLOAT,\n",
    "    dims=conv2_B.shape,\n",
    "    vals=conv2_B.flatten().tolist())\n",
    "\n",
    "conv2_node = OH.make_node(\n",
    "    name=\"conv2\",\n",
    "    op_type=\"Conv\",\n",
    "    inputs=['avgpool1_Y', 'conv2_W', 'conv2_B'],\n",
    "    outputs=['conv2_Y'],\n",
    "    kernel_shape=(1, 1),\n",
    "    pads=(0, 0, 0, 0)\n",
    ")\n",
    "\n",
    "\n",
    "# Flatten: NodeProto\n",
    "\n",
    "flatten_node = OH.make_node(\n",
    "    name='flatten',\n",
    "    op_type='Flatten',\n",
    "    inputs=['conv2_Y'],\n",
    "    outputs=['Y'],\n",
    "    axis=1\n",
    ")\n",
    "\n",
    "\n",
    "# Create the graph (GraphProto)\n",
    "\n",
    "graph_def = OH.make_graph(\n",
    "    nodes=[conv1_node, bn1_node, relu1_node, avg_pool1_node, conv2_node, flatten_node],\n",
    "    name=\"ConvNet\",\n",
    "    inputs=[X],\n",
    "    outputs=[Y],\n",
    "    initializer=[\n",
    "        conv1_W_tensor, conv1_B_tensor,\n",
    "        *bn1_initializer_tensor.values(),\n",
    "        conv2_W_tensor, conv2_B_tensor\n",
    "    ]\n",
    ")\n",
    "\n",
    "\n",
    "# Create the model (ModelProto)\n",
    "\n",
    "model_def = OH.make_model(graph_def, producer_name=\"onnx-example\")\n",
    "model_def.opset_import[0].version = 13\n",
    "model_def = onnx.shape_inference.infer_shapes(model_def)\n",
    "\n",
    "onnx.checker.check_model(model_def)\n",
    "onnx.save(model_def, \"/data/nb_data/tmp/convnet.onnx\")"
   ]
  },
  {
   "cell_type": "code",
   "execution_count": 10,
   "id": "statewide-veteran",
   "metadata": {
    "ExecuteTime": {
     "end_time": "2021-08-27T06:12:33.370379Z",
     "start_time": "2021-08-27T06:12:33.273913Z"
    },
    "scrolled": true
   },
   "outputs": [
    {
     "name": "stdout",
     "output_type": "stream",
     "text": [
      "Serving '/data/nb_data/tmp/convnet.onnx' at http://0.0.0.0:8229\n"
     ]
    },
    {
     "data": {
      "text/html": [
       "\n",
       "      <iframe id='tensorboard-frame-cfb2d540c5e1d9c1' width='100%' height='300' frameborder='0'>\n",
       "      </iframe>\n",
       "      <script>\n",
       "        (function() {\n",
       "          const frame = document.getElementById(\"tensorboard-frame-cfb2d540c5e1d9c1\");\n",
       "          const url = new URL(\"/\", window.location);\n",
       "          const port = 8229;\n",
       "          if (port) {\n",
       "            url.port = port;\n",
       "          }\n",
       "          frame.src = url;\n",
       "        })();\n",
       "      </script>\n",
       "    "
      ],
      "text/plain": [
       "<IPython.core.display.HTML object>"
      ]
     },
     "metadata": {},
     "output_type": "display_data"
    }
   ],
   "source": [
    "%netron /data/nb_data/tmp/convnet.onnx 8229 300"
   ]
  },
  {
   "cell_type": "markdown",
   "id": "british-percentage",
   "metadata": {},
   "source": [
    "## Onnx Model File Analysis"
   ]
  },
  {
   "cell_type": "code",
   "execution_count": 11,
   "id": "municipal-williams",
   "metadata": {
    "ExecuteTime": {
     "end_time": "2021-08-27T06:12:33.456285Z",
     "start_time": "2021-08-27T06:12:33.373538Z"
    }
   },
   "outputs": [],
   "source": [
    "model = onnx.load(\"/data/nb_data/tmp/convnet.onnx\")\n",
    "onnx.checker.check_model(model)\n",
    "graph_def = model.graph"
   ]
  },
  {
   "cell_type": "code",
   "execution_count": 12,
   "id": "white-seventh",
   "metadata": {
    "ExecuteTime": {
     "end_time": "2021-08-27T06:12:33.535848Z",
     "start_time": "2021-08-27T06:12:33.458810Z"
    }
   },
   "outputs": [
    {
     "data": {
      "text/plain": [
       "(0,\n",
       " [version: 13\n",
       " ],\n",
       " 'onnx-example',\n",
       " '',\n",
       " [])"
      ]
     },
     "execution_count": 12,
     "metadata": {},
     "output_type": "execute_result"
    }
   ],
   "source": [
    "model.model_version, model.opset_import, \\\n",
    "model.producer_name, model.producer_version, model.training_info"
   ]
  },
  {
   "cell_type": "code",
   "execution_count": 13,
   "id": "minute-proposition",
   "metadata": {
    "ExecuteTime": {
     "end_time": "2021-08-27T06:12:33.608543Z",
     "start_time": "2021-08-27T06:12:33.538595Z"
    },
    "scrolled": false
   },
   "outputs": [
    {
     "data": {
      "text/plain": [
       "[name: \"conv1_Y\"\n",
       "type {\n",
       "  tensor_type {\n",
       "    elem_type: 1\n",
       "    shape {\n",
       "      dim {\n",
       "        dim_value: 1\n",
       "      }\n",
       "      dim {\n",
       "        dim_value: 32\n",
       "      }\n",
       "      dim {\n",
       "        dim_value: 28\n",
       "      }\n",
       "      dim {\n",
       "        dim_value: 28\n",
       "      }\n",
       "    }\n",
       "  }\n",
       "}\n",
       ", name: \"bn1_Y\"\n",
       "type {\n",
       "  tensor_type {\n",
       "    elem_type: 1\n",
       "    shape {\n",
       "      dim {\n",
       "        dim_value: 1\n",
       "      }\n",
       "      dim {\n",
       "        dim_value: 32\n",
       "      }\n",
       "      dim {\n",
       "        dim_value: 28\n",
       "      }\n",
       "      dim {\n",
       "        dim_value: 28\n",
       "      }\n",
       "    }\n",
       "  }\n",
       "}\n",
       ", name: \"relu1_Y\"\n",
       "type {\n",
       "  tensor_type {\n",
       "    elem_type: 1\n",
       "    shape {\n",
       "      dim {\n",
       "        dim_value: 1\n",
       "      }\n",
       "      dim {\n",
       "        dim_value: 32\n",
       "      }\n",
       "      dim {\n",
       "        dim_value: 28\n",
       "      }\n",
       "      dim {\n",
       "        dim_value: 28\n",
       "      }\n",
       "    }\n",
       "  }\n",
       "}\n",
       ", name: \"avgpool1_Y\"\n",
       "type {\n",
       "  tensor_type {\n",
       "    elem_type: 1\n",
       "    shape {\n",
       "      dim {\n",
       "        dim_value: 1\n",
       "      }\n",
       "      dim {\n",
       "        dim_value: 32\n",
       "      }\n",
       "      dim {\n",
       "        dim_value: 1\n",
       "      }\n",
       "      dim {\n",
       "        dim_value: 1\n",
       "      }\n",
       "    }\n",
       "  }\n",
       "}\n",
       ", name: \"conv2_Y\"\n",
       "type {\n",
       "  tensor_type {\n",
       "    elem_type: 1\n",
       "    shape {\n",
       "      dim {\n",
       "        dim_value: 1\n",
       "      }\n",
       "      dim {\n",
       "        dim_value: 10\n",
       "      }\n",
       "      dim {\n",
       "        dim_value: 1\n",
       "      }\n",
       "      dim {\n",
       "        dim_value: 1\n",
       "      }\n",
       "    }\n",
       "  }\n",
       "}\n",
       "]"
      ]
     },
     "execution_count": 13,
     "metadata": {},
     "output_type": "execute_result"
    }
   ],
   "source": [
    "# Node Out ValueInfo (xxx_Y)\n",
    "graph_def.value_info"
   ]
  },
  {
   "cell_type": "code",
   "execution_count": 14,
   "id": "invalid-cleaning",
   "metadata": {
    "ExecuteTime": {
     "end_time": "2021-08-27T06:12:33.674428Z",
     "start_time": "2021-08-27T06:12:33.611816Z"
    }
   },
   "outputs": [
    {
     "data": {
      "text/plain": [
       "[input: \"X\"\n",
       "input: \"conv1_W\"\n",
       "input: \"conv1_B\"\n",
       "output: \"conv1_Y\"\n",
       "name: \"conv1\"\n",
       "op_type: \"Conv\"\n",
       "attribute {\n",
       "  name: \"kernel_shape\"\n",
       "  ints: 3\n",
       "  ints: 3\n",
       "  type: INTS\n",
       "}\n",
       "attribute {\n",
       "  name: \"pads\"\n",
       "  ints: 1\n",
       "  ints: 1\n",
       "  ints: 1\n",
       "  ints: 1\n",
       "  type: INTS\n",
       "}\n",
       ", input: \"conv1_Y\"\n",
       "input: \"bn1_scale_tensor\"\n",
       "input: \"bn1_bias_tensor\"\n",
       "input: \"bn1_mean_tensor\"\n",
       "input: \"bn1_var_tensor\"\n",
       "output: \"bn1_Y\"\n",
       "name: \"bn1\"\n",
       "op_type: \"BatchNormalization\"\n",
       "attribute {\n",
       "  name: \"epsilon\"\n",
       "  f: 9.999999974752427e-07\n",
       "  type: FLOAT\n",
       "}\n",
       ", input: \"bn1_Y\"\n",
       "output: \"relu1_Y\"\n",
       "name: \"relu1\"\n",
       "op_type: \"Relu\"\n",
       ", input: \"relu1_Y\"\n",
       "output: \"avgpool1_Y\"\n",
       "name: \"avgpool1\"\n",
       "op_type: \"GlobalAveragePool\"\n",
       ", input: \"avgpool1_Y\"\n",
       "input: \"conv2_W\"\n",
       "input: \"conv2_B\"\n",
       "output: \"conv2_Y\"\n",
       "name: \"conv2\"\n",
       "op_type: \"Conv\"\n",
       "attribute {\n",
       "  name: \"kernel_shape\"\n",
       "  ints: 1\n",
       "  ints: 1\n",
       "  type: INTS\n",
       "}\n",
       "attribute {\n",
       "  name: \"pads\"\n",
       "  ints: 0\n",
       "  ints: 0\n",
       "  ints: 0\n",
       "  ints: 0\n",
       "  type: INTS\n",
       "}\n",
       ", input: \"conv2_Y\"\n",
       "output: \"Y\"\n",
       "name: \"flatten\"\n",
       "op_type: \"Flatten\"\n",
       "attribute {\n",
       "  name: \"axis\"\n",
       "  i: 1\n",
       "  type: INT\n",
       "}\n",
       "]"
      ]
     },
     "execution_count": 14,
     "metadata": {},
     "output_type": "execute_result"
    }
   ],
   "source": [
    "graph_def.node"
   ]
  },
  {
   "cell_type": "markdown",
   "id": "alleged-springfield",
   "metadata": {},
   "source": [
    "### Modify initializer (Tensor)"
   ]
  },
  {
   "cell_type": "code",
   "execution_count": 15,
   "id": "covered-stand",
   "metadata": {
    "ExecuteTime": {
     "end_time": "2021-08-27T06:12:33.754444Z",
     "start_time": "2021-08-27T06:12:33.677086Z"
    }
   },
   "outputs": [
    {
     "name": "stdout",
     "output_type": "stream",
     "text": [
      "Tensor Name: conv1_W, Data Type: 1, Shape: [32, 3, 3, 3]\n",
      "Before Change:\n",
      "[1.0, 1.0, 1.0, 1.0, 1.0, 1.0, 1.0, 1.0, 1.0, 1.0]\n",
      "After Change:\n",
      "[2.0, 2.0, 2.0, 2.0, 2.0, 2.0, 2.0, 2.0, 2.0, 2.0]\n",
      "Tensor Name: conv1_B, Data Type: 1, Shape: [32]\n",
      "Before Change:\n",
      "[1.0, 1.0, 1.0, 1.0, 1.0, 1.0, 1.0, 1.0, 1.0, 1.0]\n",
      "After Change:\n",
      "[2.0, 2.0, 2.0, 2.0, 2.0, 2.0, 2.0, 2.0, 2.0, 2.0]\n",
      "Tensor Name: bn1_scale_tensor, Data Type: 1, Shape: [32]\n",
      "Before Change:\n",
      "[0.16064798831939697, 0.32743120193481445, 0.8825830221176147, -1.2554028034210205, -0.767731249332428, -0.2491602599620819, -0.284347265958786, 0.2278527468442917, 1.0320441722869873, -0.3268558382987976]\n",
      "After Change:\n",
      "[0.32129597663879395, 0.6548624038696289, 1.7651660442352295, -2.510805606842041, -1.535462498664856, -0.4983205199241638, -0.568694531917572, 0.4557054936885834, 2.0640883445739746, -0.6537116765975952]\n",
      "Tensor Name: bn1_bias_tensor, Data Type: 1, Shape: [32]\n",
      "Before Change:\n",
      "[0.16661114990711212, 0.0127743324264884, -1.5268645286560059, -0.15811386704444885, 0.5200715661048889, 0.7117456793785095, 0.024910982698202133, 1.1089653968811035, 0.5379928350448608, -0.10975713282823563]\n",
      "After Change:\n",
      "[0.33322229981422424, 0.0255486648529768, -3.0537290573120117, -0.3162277340888977, 1.0401431322097778, 1.423491358757019, 0.049821965396404266, 2.217930793762207, 1.0759856700897217, -0.21951426565647125]\n",
      "Tensor Name: bn1_mean_tensor, Data Type: 1, Shape: [32]\n",
      "Before Change:\n",
      "[0.164246067404747, -0.2966354787349701, -1.1269216537475586, 1.6679126024246216, -0.2506234347820282, 0.16621112823486328, -1.3298308849334717, -1.0386102199554443, 1.6533524990081787, 0.3470679819583893]\n",
      "After Change:\n",
      "[0.328492134809494, -0.5932709574699402, -2.253843307495117, 3.335825204849243, -0.5012468695640564, 0.33242225646972656, -2.6596617698669434, -2.0772204399108887, 3.3067049980163574, 0.6941359639167786]\n",
      "Tensor Name: bn1_var_tensor, Data Type: 1, Shape: [32]\n",
      "Before Change:\n",
      "[0.052603479474782944, -2.050217390060425, -0.8176640868186951, 1.585668921470642, -0.43549472093582153, 0.7061923742294312, 0.44455602765083313, 0.5751627683639526, 0.1377268135547638, -0.8328186869621277]\n",
      "After Change:\n",
      "[0.10520695894956589, -4.10043478012085, -1.6353281736373901, 3.171337842941284, -0.8709894418716431, 1.4123847484588623, 0.8891120553016663, 1.1503255367279053, 0.2754536271095276, -1.6656373739242554]\n",
      "Tensor Name: conv2_W, Data Type: 1, Shape: [10, 32, 1, 1]\n",
      "Before Change:\n",
      "[1.0, 1.0, 1.0, 1.0, 1.0, 1.0, 1.0, 1.0, 1.0, 1.0]\n",
      "After Change:\n",
      "[2.0, 2.0, 2.0, 2.0, 2.0, 2.0, 2.0, 2.0, 2.0, 2.0]\n",
      "Tensor Name: conv2_B, Data Type: 1, Shape: [10]\n",
      "Before Change:\n",
      "[1.0, 1.0, 1.0, 1.0, 1.0, 1.0, 1.0, 1.0, 1.0, 1.0]\n",
      "After Change:\n",
      "[2.0, 2.0, 2.0, 2.0, 2.0, 2.0, 2.0, 2.0, 2.0, 2.0]\n"
     ]
    }
   ],
   "source": [
    "for initializer in graph_def.initializer:\n",
    "    print(f\"Tensor Name: {initializer.name}, Data Type: {initializer.data_type}, Shape: {initializer.dims}\")\n",
    "    if initializer.data_type == onnx.TensorProto.FLOAT:\n",
    "        print('Before Change:')\n",
    "        print(initializer.float_data[:10])\n",
    "        for i in range(np.prod(initializer.dims)):\n",
    "            initializer.float_data[i] *= 2\n",
    "        print('After Change:')\n",
    "        print(initializer.float_data[:10])"
   ]
  },
  {
   "cell_type": "markdown",
   "id": "south-transformation",
   "metadata": {},
   "source": [
    "### Modify node (Attributes)"
   ]
  },
  {
   "cell_type": "code",
   "execution_count": 16,
   "id": "valid-induction",
   "metadata": {
    "ExecuteTime": {
     "end_time": "2021-08-27T06:12:33.818341Z",
     "start_time": "2021-08-27T06:12:33.756945Z"
    }
   },
   "outputs": [
    {
     "name": "stdout",
     "output_type": "stream",
     "text": [
      "Attributes before adding:\n",
      "name: \"epsilon\"\n",
      "f: 9.999999974752427e-07\n",
      "type: FLOAT\n",
      "\n",
      "Attributes after adding:\n",
      "name: \"epsilon\"\n",
      "f: 9.999999747378752e-05\n",
      "type: FLOAT\n",
      "\n"
     ]
    }
   ],
   "source": [
    "for node in graph_def.node:\n",
    "    if node.op_type == \"BatchNormalization\":\n",
    "        print(\"Attributes before adding:\")\n",
    "        for i, attribute in enumerate(node.attribute):\n",
    "            print(attribute)\n",
    "            if attribute.name == 'epsilon':\n",
    "                node.attribute.remove(attribute)\n",
    "        epsilon_attribute = OH.make_attribute(\"epsilon\", 0.0001)\n",
    "        node.attribute.extend([epsilon_attribute])\n",
    "        print(\"Attributes after adding:\")\n",
    "        for attribute in node.attribute:\n",
    "            print(attribute)"
   ]
  },
  {
   "cell_type": "code",
   "execution_count": 17,
   "id": "usual-stanley",
   "metadata": {
    "ExecuteTime": {
     "end_time": "2021-08-27T06:12:33.886608Z",
     "start_time": "2021-08-27T06:12:33.820543Z"
    }
   },
   "outputs": [],
   "source": [
    "onnx.checker.check_model(model)\n",
    "onnx.save(model, \"/data/nb_data/tmp/convnet_modified.onnx\")"
   ]
  },
  {
   "cell_type": "code",
   "execution_count": 18,
   "id": "noted-market",
   "metadata": {
    "ExecuteTime": {
     "end_time": "2021-08-27T06:12:33.962442Z",
     "start_time": "2021-08-27T06:12:33.889420Z"
    },
    "scrolled": false
   },
   "outputs": [
    {
     "name": "stdout",
     "output_type": "stream",
     "text": [
      "Serving '/data/nb_data/tmp/convnet_modified.onnx' at http://0.0.0.0:8227\n"
     ]
    },
    {
     "data": {
      "text/html": [
       "\n",
       "      <iframe id='tensorboard-frame-b0c983931ec2ed08' width='100%' height='300' frameborder='0'>\n",
       "      </iframe>\n",
       "      <script>\n",
       "        (function() {\n",
       "          const frame = document.getElementById(\"tensorboard-frame-b0c983931ec2ed08\");\n",
       "          const url = new URL(\"/\", window.location);\n",
       "          const port = 8227;\n",
       "          if (port) {\n",
       "            url.port = port;\n",
       "          }\n",
       "          frame.src = url;\n",
       "        })();\n",
       "      </script>\n",
       "    "
      ],
      "text/plain": [
       "<IPython.core.display.HTML object>"
      ]
     },
     "metadata": {},
     "output_type": "display_data"
    }
   ],
   "source": [
    "%netron /data/nb_data/tmp/convnet_modified.onnx 8227 300"
   ]
  },
  {
   "cell_type": "markdown",
   "id": "hollywood-wiring",
   "metadata": {},
   "source": [
    "## Runtime"
   ]
  },
  {
   "cell_type": "code",
   "execution_count": 19,
   "id": "special-cedar",
   "metadata": {
    "ExecuteTime": {
     "end_time": "2021-08-27T06:12:34.048525Z",
     "start_time": "2021-08-27T06:12:33.965001Z"
    }
   },
   "outputs": [
    {
     "data": {
      "text/plain": [
       "[array([[ 0.24498022,  0.02249821, -0.22628897, -0.17308606, -0.0756798 ,\n",
       "          0.28872386, -0.23748004,  0.13234285, -0.28075558, -0.0848928 ]],\n",
       "       dtype=float32)]"
      ]
     },
     "execution_count": 19,
     "metadata": {},
     "output_type": "execute_result"
    }
   ],
   "source": [
    "sess = rt.InferenceSession('/data/nb_data/tmp/torch_model.onnx')  \n",
    "inputs = {sess.get_inputs()[0].name: np.random.randn(1, 3, 28, 28).astype('float32')}\n",
    "outputs = [sess.get_outputs()[0].name]\n",
    "predictions = sess.run(outputs, inputs)\n",
    "predictions"
   ]
  },
  {
   "cell_type": "markdown",
   "id": "liquid-suggestion",
   "metadata": {},
   "source": [
    "## References"
   ]
  },
  {
   "cell_type": "markdown",
   "id": "outside-fraud",
   "metadata": {
    "ExecuteTime": {
     "end_time": "2021-08-26T07:12:57.958939Z",
     "start_time": "2021-08-26T07:12:57.953396Z"
    }
   },
   "source": [
    "- [Creating and Modifying ONNX Model Using ONNX Python API][1]\n",
    "\n",
    "- [Onnx Operator Schemas][2]\n",
    "\n",
    "[1]: https://leimao.github.io/blog/ONNX-Python-API/\n",
    "[2]: https://github.com/onnx/onnx/blob/master/docs/Operators.md"
   ]
  }
 ],
 "metadata": {
  "hide_input": false,
  "kernelspec": {
   "display_name": "Python 3",
   "language": "python",
   "name": "python3"
  },
  "language_info": {
   "codemirror_mode": {
    "name": "ipython",
    "version": 3
   },
   "file_extension": ".py",
   "mimetype": "text/x-python",
   "name": "python",
   "nbconvert_exporter": "python",
   "pygments_lexer": "ipython3",
   "version": "3.6.9"
  },
  "toc": {
   "base_numbering": 1,
   "nav_menu": {
    "height": "145.994px",
    "width": "261.989px"
   },
   "number_sections": true,
   "sideBar": true,
   "skip_h1_title": true,
   "title_cell": "",
   "title_sidebar": "Contents",
   "toc_cell": true,
   "toc_position": {
    "height": "calc(100% - 180px)",
    "left": "10px",
    "top": "150px",
    "width": "363px"
   },
   "toc_section_display": true,
   "toc_window_display": false
  }
 },
 "nbformat": 4,
 "nbformat_minor": 5
}
