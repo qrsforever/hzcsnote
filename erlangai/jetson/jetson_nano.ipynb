{
 "cells": [
  {
   "cell_type": "markdown",
   "metadata": {
    "toc": true
   },
   "source": [
    "<h1>Contents<span class=\"tocSkip\"></span></h1>\n",
    "<div class=\"toc\"><ul class=\"toc-item\"><li><span><a href=\"#Global-Import\" data-toc-modified-id=\"Global-Import-1\"><span class=\"toc-item-num\">1&nbsp;&nbsp;</span>Global Import</a></span></li><li><span><a href=\"#Jstson-Device\" data-toc-modified-id=\"Jstson-Device-2\"><span class=\"toc-item-num\">2&nbsp;&nbsp;</span>Jstson Device</a></span><ul class=\"toc-item\"><li><span><a href=\"#Target-System-Info\" data-toc-modified-id=\"Target-System-Info-2.1\"><span class=\"toc-item-num\">2.1&nbsp;&nbsp;</span>Target System Info</a></span></li><li><span><a href=\"#Setup-Software-Environment\" data-toc-modified-id=\"Setup-Software-Environment-2.2\"><span class=\"toc-item-num\">2.2&nbsp;&nbsp;</span>Setup Software Environment</a></span></li></ul></li><li><span><a href=\"#Develop-Environment-on-Host\" data-toc-modified-id=\"Develop-Environment-on-Host-3\"><span class=\"toc-item-num\">3&nbsp;&nbsp;</span>Develop Environment on Host</a></span><ul class=\"toc-item\"><li><span><a href=\"#Host-System-Info\" data-toc-modified-id=\"Host-System-Info-3.1\"><span class=\"toc-item-num\">3.1&nbsp;&nbsp;</span>Host System Info</a></span></li><li><span><a href=\"#QEMU-Aarch64-Environment-(Recommend)\" data-toc-modified-id=\"QEMU-Aarch64-Environment-(Recommend)-3.2\"><span class=\"toc-item-num\">3.2&nbsp;&nbsp;</span>QEMU Aarch64 Environment (Recommend)</a></span><ul class=\"toc-item\"><li><span><a href=\"#Install-QEMU\" data-toc-modified-id=\"Install-QEMU-3.2.1\"><span class=\"toc-item-num\">3.2.1&nbsp;&nbsp;</span>Install QEMU</a></span></li><li><span><a href=\"#Build-Docker-from-SDCard-Image\" data-toc-modified-id=\"Build-Docker-from-SDCard-Image-3.2.2\"><span class=\"toc-item-num\">3.2.2&nbsp;&nbsp;</span>Build Docker from SDCard Image</a></span></li><li><span><a href=\"#Setup--Container-Environment\" data-toc-modified-id=\"Setup--Container-Environment-3.2.3\"><span class=\"toc-item-num\">3.2.3&nbsp;&nbsp;</span>Setup  Container Environment</a></span></li></ul></li><li><span><a href=\"#Jetson-Containers-(Removed)\" data-toc-modified-id=\"Jetson-Containers-(Removed)-3.3\"><span class=\"toc-item-num\">3.3&nbsp;&nbsp;</span>Jetson Containers (Removed)</a></span></li><li><span><a href=\"#Cross-Compile-(Tensorrt)\" data-toc-modified-id=\"Cross-Compile-(Tensorrt)-3.4\"><span class=\"toc-item-num\">3.4&nbsp;&nbsp;</span>Cross-Compile (Tensorrt)</a></span><ul class=\"toc-item\"><li><span><a href=\"#Install-Nvidia-SDK-Manager-(Docker)\" data-toc-modified-id=\"Install-Nvidia-SDK-Manager-(Docker)-3.4.1\"><span class=\"toc-item-num\">3.4.1&nbsp;&nbsp;</span>Install Nvidia SDK Manager (Docker)</a></span></li><li><span><a href=\"#Cross-Compile-Tensort\" data-toc-modified-id=\"Cross-Compile-Tensort-3.4.2\"><span class=\"toc-item-num\">3.4.2&nbsp;&nbsp;</span>Cross-Compile Tensort</a></span></li></ul></li><li><span><a href=\"#X86-Tensorrrt\" data-toc-modified-id=\"X86-Tensorrrt-3.5\"><span class=\"toc-item-num\">3.5&nbsp;&nbsp;</span>X86 Tensorrrt</a></span><ul class=\"toc-item\"><li><span><a href=\"#Build-Docker-Image\" data-toc-modified-id=\"Build-Docker-Image-3.5.1\"><span class=\"toc-item-num\">3.5.1&nbsp;&nbsp;</span>Build Docker Image</a></span></li><li><span><a href=\"#Launch-Tenssrrt-Container\" data-toc-modified-id=\"Launch-Tenssrrt-Container-3.5.2\"><span class=\"toc-item-num\">3.5.2&nbsp;&nbsp;</span>Launch Tenssrrt Container</a></span></li></ul></li></ul></li><li><span><a href=\"#Others\" data-toc-modified-id=\"Others-4\"><span class=\"toc-item-num\">4&nbsp;&nbsp;</span>Others</a></span><ul class=\"toc-item\"><li><span><a href=\"#Notebook-Configuration\" data-toc-modified-id=\"Notebook-Configuration-4.1\"><span class=\"toc-item-num\">4.1&nbsp;&nbsp;</span>Notebook Configuration</a></span></li><li><span><a href=\"#Speed-Up-Git\" data-toc-modified-id=\"Speed-Up-Git-4.2\"><span class=\"toc-item-num\">4.2&nbsp;&nbsp;</span>Speed Up Git</a></span></li><li><span><a href=\"#Speed-Up-Apt\" data-toc-modified-id=\"Speed-Up-Apt-4.3\"><span class=\"toc-item-num\">4.3&nbsp;&nbsp;</span>Speed Up Apt</a></span></li><li><span><a href=\"#Speed-Up-Pip\" data-toc-modified-id=\"Speed-Up-Pip-4.4\"><span class=\"toc-item-num\">4.4&nbsp;&nbsp;</span>Speed Up Pip</a></span></li></ul></li><li><span><a href=\"#References\" data-toc-modified-id=\"References-5\"><span class=\"toc-item-num\">5&nbsp;&nbsp;</span>References</a></span></li><li><span><a href=\"#FAQs\" data-toc-modified-id=\"FAQs-6\"><span class=\"toc-item-num\">6&nbsp;&nbsp;</span>FAQs</a></span></li></ul></div>"
   ]
  },
  {
   "cell_type": "markdown",
   "metadata": {},
   "source": [
    "## Global Import"
   ]
  },
  {
   "cell_type": "code",
   "execution_count": 1,
   "metadata": {
    "ExecuteTime": {
     "end_time": "2021-10-14T06:49:47.101219Z",
     "start_time": "2021-10-14T06:49:45.868796Z"
    }
   },
   "outputs": [
    {
     "name": "stdout",
     "output_type": "stream",
     "text": [
      "numpy 1.19.5\n",
      "sklearn 0.0\n",
      "pandas 1.1.5\n",
      "ipywidgets 7.6.3\n",
      "cv2 4.5.3\n",
      "PIL 8.3.1\n",
      "matplotlib 3.3.4\n",
      "plotly 5.3.0\n",
      "torch 1.8.1+cu101\n",
      "torchvision 0.9.1+cu101\n",
      "torchaudio not installed\n",
      "tensorflow 2.6.0\n",
      "tensorboard 2.6.0\n",
      "tflite not installed\n",
      "onnx 1.10.1\n",
      "onnxruntime 1.8.1\n",
      "tensorrt not installed\n",
      "tvm not installed\n"
     ]
    },
    {
     "data": {
      "text/html": [
       "<style>.container { width:95% !important; }</style>"
      ],
      "text/plain": [
       "<IPython.core.display.HTML object>"
      ]
     },
     "metadata": {},
     "output_type": "display_data"
    }
   ],
   "source": [
    "%reload_ext watermark\n",
    "%reload_ext autoreload\n",
    "%autoreload 2\n",
    "%watermark -p numpy,sklearn,pandas\n",
    "%watermark -p ipywidgets,cv2,PIL,matplotlib,plotly\n",
    "%watermark -p torch,torchvision,torchaudio\n",
    "%watermark -p tensorflow,tensorboard,tflite\n",
    "%watermark -p onnx,onnxruntime,tensorrt,tvm\n",
    "%matplotlib inline\n",
    "%config InlineBackend.figure_format='retina'\n",
    "%config IPCompleter.use_jedi = False\n",
    "\n",
    "from IPython.display import display, Markdown, HTML, Image, Javascript\n",
    "from IPython.core.magic import register_line_cell_magic, register_line_magic, register_cell_magic\n",
    "display(HTML('<style>.container { width:%d%% !important; }</style>' % 95))\n",
    "\n",
    "import sys, os, io, time, random, math\n",
    "import json, base64, requests, shutil\n",
    "import os.path as osp\n",
    "import numpy as np\n",
    "\n",
    "@register_line_cell_magic\n",
    "def template_writefile(line, cell):\n",
    "    path = os.path.dirname(line)\n",
    "    if not os.path.exists(path):\n",
    "        os.makedirs(path, exist_ok=True)\n",
    "    with open(line, 'w') as fw:\n",
    "        fw.write(cell.format(**globals()))"
   ]
  },
  {
   "cell_type": "code",
   "execution_count": 2,
   "metadata": {
    "ExecuteTime": {
     "end_time": "2021-10-13T09:57:14.078000Z",
     "start_time": "2021-10-13T09:57:14.004126Z"
    }
   },
   "outputs": [],
   "source": [
    "SCRIPT_ROOT = '/data/nb_data/jetson'"
   ]
  },
  {
   "cell_type": "markdown",
   "metadata": {},
   "source": [
    "## Jstson Device"
   ]
  },
  {
   "cell_type": "markdown",
   "metadata": {},
   "source": [
    "### Target System Info\n",
    "\n",
    "[1]: https://github.com/jetsonhacks/jetsonUtilities"
   ]
  },
  {
   "cell_type": "code",
   "execution_count": 3,
   "metadata": {
    "ExecuteTime": {
     "end_time": "2021-10-13T09:57:14.154826Z",
     "start_time": "2021-10-13T09:57:14.080782Z"
    }
   },
   "outputs": [
    {
     "name": "stdout",
     "output_type": "stream",
     "text": [
      "Overwriting /data/nb_data/jetson/jetson_device_versions.sh\n"
     ]
    }
   ],
   "source": [
    "%%writefile $SCRIPT_ROOT/jetson_device_versions.sh\n",
    "\n",
    "git clone --depth 1 https://github.com/jetsonhacks/jetsonUtilities.git\n",
    "cd jetsonUtilities\n",
    "python3 jetsonInfo.py"
   ]
  },
  {
   "cell_type": "markdown",
   "metadata": {},
   "source": [
    "```\n",
    "NVIDIA Jetson Nano (Developer Kit Version)\n",
    " L4T 32.6.1 [ JetPack 4.6 ]\n",
    "   Ubuntu 18.04.5 LTS\n",
    "   Kernel Version: 4.9.253-tegra\n",
    " CUDA 10.2.300\n",
    "   CUDA Architecture: 5.3\n",
    " OpenCV version: 4.1.1\n",
    "   OpenCV Cuda: NO\n",
    " CUDNN: 8.2.1.32\n",
    " TensorRT: 8.0.1.6\n",
    " Vision Works: 1.6.0.501\n",
    " VPI: ii libnvvpi1 1.1.11 arm64 NVIDIA Vision Programming Interface library\n",
    " Vulcan: 1.2.70\n",
    "```"
   ]
  },
  {
   "cell_type": "code",
   "execution_count": 4,
   "metadata": {
    "ExecuteTime": {
     "end_time": "2021-10-14T11:30:29.286670Z",
     "start_time": "2021-10-14T11:30:29.002768Z"
    }
   },
   "outputs": [],
   "source": [
    "# https://docs.nvidia.com/deeplearning/frameworks/install-tf-jetson-platform-release-notes/tf-jetson-rel.html#tf-jetson-rel\n",
    "JP_VERSION = '46'\n",
    "TF_VERSION = '2.5.0'\n",
    "NV_VERSION = '21.08'\n",
    "\n",
    "TRT_VERSION = 'release/8.0'"
   ]
  },
  {
   "cell_type": "markdown",
   "metadata": {},
   "source": [
    "### Setup Software Environment\n",
    "\n",
    "<div style=\"margin-top:30px; width: 100%;\">\n",
    "    <div style=\"text-align:right\">\n",
    "        <a\n",
    "           href=\"#Contents\"\n",
    "           onclick=\"window.scrollTo(0, 0);\"\n",
    "           style=\"color:blue;font-size:28px;text-decoration:none;\">\n",
    "               &#128285;\n",
    "        </a>\n",
    "    </div>\n",
    "</div>"
   ]
  },
  {
   "cell_type": "code",
   "execution_count": 5,
   "metadata": {
    "ExecuteTime": {
     "end_time": "2021-10-13T09:57:14.317439Z",
     "start_time": "2021-10-13T09:57:14.234818Z"
    }
   },
   "outputs": [
    {
     "name": "stdout",
     "output_type": "stream",
     "text": [
      "Overwriting /data/nb_data/jetson/software_setup.sh\n"
     ]
    }
   ],
   "source": [
    "%%writefile $SCRIPT_ROOT/software_setup.sh\n",
    "\n",
    "#!/bin/bash\n",
    "\n",
    "USER_HOME=/home/$USER\n",
    "CUDA_HOME=/usr/local/cuda\n",
    "\n",
    "JP_VERSION=46\n",
    "TF_VERSION=2.5.0\n",
    "NV_VERSION=21.08\n",
    "\n",
    "SUDO=''\n",
    "\n",
    "PIP_INSTALL=\"$SUDO pip3 install --retries 10 --timeout 120\"\n",
    "APT_INSTALL=\"$SUDO apt install -y --no-install-recommends\"\n",
    "BOOTRC_FILE=\"$USER_HOME/.bootrc'\n",
    "HOST_ADDR=`who | grep \"pts/0\" | awk -F\" \" '{match($NF, /[^(].*[^)]/); print substr($NF, RSTART,RLENGTH)}'`\n",
    "\n",
    "echo_bootrc() {\n",
    "    echo \"$*\" | tee -a $BOOTRC_FILE\n",
    "}\n",
    "\n",
    "echo_bashrc() {\n",
    "    echo \"$*\" | tee -a $USER_HOME/.bashrc\n",
    "}\n",
    "\n",
    "# on boot script\n",
    "__setup_bootrc() {\n",
    "    echo -e \"#!/bin/bash\\nsleep 10\" > $BOOTRC_FILE\n",
    "    chmod 777 $BOOTRC_FILE\n",
    "    sudo bash -c \"echo '@reboot  root  test -x $BOOTRC_FILE && $BOOTRC_FILE' >> /etc/crontab\"\n",
    "}\n",
    "\n",
    "# environment\n",
    "__setup_bashrc() {\n",
    "    echo_bashrc \"alias pip='pip3'\"\n",
    "    echo_bashrc \"alias python='python3'\"\n",
    "    echo_bashrc \"export PIP_INSTALL='$PIP_INSTALL'\"\n",
    "    echo_bashrc \"export APT_INSTALL='$APT_INSTALL'\"\n",
    "    echo_bashrc \"export CUDA_HOME=$CUDA_HOME\"\n",
    "}\n",
    "\n",
    "# mount.nfs host\n",
    "__setup_mntnfs(){\n",
    "    mkdir -p $USER_HOME/omega\n",
    "    $APT_INSTALL nfs-common\n",
    "    echo_bootrc \"mount.nfs $HOST_ADDR:/blog/public $USER_HOME/omega\"\n",
    "}\n",
    "\n",
    "# notebook\n",
    "__setup_notebook() {\n",
    "    $PIP_INSTALL autopep8\n",
    "    $PIP_INSTALL jupyter jupyter_contrib_nbextensions jupyter_nbextensions_configurator\n",
    "    $SUDO jupyter contrib nbextension install --sys-prefix\n",
    "    $SUDO jupyter nbextensions_configurator enable\n",
    "    git clone --depth 1 https://github.com.cnpmjs.org/qrsforever/jupyter_config.git\n",
    "    $SUDO ./jupyter_config/install.sh\n",
    "    echo_bootrc \"su - $USER -c 'umask 0000; jupyter notebook --no-browser --notebook-dir=$USER_HOME/omega --allow-root --ip=0.0.0.0 --port=8118 &'\"\n",
    "}\n",
    "\n",
    "# cmake\n",
    "__setup_cmake() {\n",
    "    wget https://github.com/Kitware/CMake/releases/download/v3.21.2/cmake-3.21.2-linux-aarch64.tar.gz\n",
    "    tar zxf cmake-3.21.2-linux-aarch64.tar.gz\n",
    "    cp -aprf cmake-3.21.2-linux-aarch64.tar/* /usr/\n",
    "}\n",
    "\n",
    "# machine learning\n",
    "__setup_ml() {\n",
    "    # tensorflow: https://docs.nvidia.com/deeplearning/frameworks/install-tf-jetson-platform/index.html#upgrading_tensorflow\n",
    "    $APT_INSTALL libhdf5-serial-dev hdf5-tools libhdf5-dev zlib1g-dev zip libjpeg8-dev liblapack-dev libblas-dev gfortran\n",
    "    $PIP_INSTALL -U pip testresources setuptools==49.6.0\n",
    "    $PIP_INSTALL -U numpy==1.19.4 future==0.18.2 mock==3.0.5 keras_preprocessing==1.1.2 keras_applications==1.0.8 gast==0.4.0 futures protobuf pybind11 cython pkgconfig\n",
    "    $SUDO env H5PY_SETUP_REQUIRES=0 && $PIP_INSTALL -U h5py==3.1.0\n",
    "    $PIP_INSTALL -U --pre --extra-index-url https://developer.download.nvidia.com/compute/redist/jp/v${JP_VERSION} tensorflow==${TF_VERSION}+nv${NV_VERSION}\n",
    "    \n",
    "    # onnx2tensor\n",
    "    $APT_INSTALL libprotobuf-dev protobuf-compiler\n",
    "    git clone --depth 1 --recursive https://github.com.cnpmjs.org/onnx/onnx-tensorrt.git\n",
    "    cd onnx-tensorrt && mkdir build && cd build && cmake ../ && make -j && sudo make install\n",
    "    \n",
    "    # pycuda, onnx_helper, graph\n",
    "    $PIP_INSTALL --global-option=build_ext --global-option=\"-I$CUDA_HOME/include/\" --global-option=\"-L$CUDA_HOME/lib\" pycuda\n",
    "    $PIP_INSTALL onnx_graphsurgeon --index-url https://pypi.ngc.nvidia.com\n",
    "    $PIP_INSTALL polygraphy --index-url https://pypi.ngc.nvidia.com\n",
    "    # git clone --depth 1 https://github.com.cnpmjs.org/NVIDIA/TensorRT.git\n",
    "}\n",
    "\n",
    "__setup_bootrc\n",
    "__setup_bashrc\n",
    "__setup_mntnfs"
   ]
  },
  {
   "cell_type": "markdown",
   "metadata": {},
   "source": [
    "## Develop Environment on Host"
   ]
  },
  {
   "cell_type": "markdown",
   "metadata": {},
   "source": [
    "### Host System Info"
   ]
  },
  {
   "cell_type": "markdown",
   "metadata": {},
   "source": [
    "```\n",
    "+-----------------------------------------------------------------------------+\n",
    "| NVIDIA-SMI 440.33.01    Driver Version: 440.33.01    CUDA Version: 10.2     |\n",
    "|-------------------------------+----------------------+----------------------+\n",
    "| GPU  Name        Persistence-M| Bus-Id        Disp.A | Volatile Uncorr. ECC |\n",
    "| Fan  Temp  Perf  Pwr:Usage/Cap|         Memory-Usage | GPU-Util  Compute M. |\n",
    "|===============================+======================+======================|\n",
    "|   0  Tesla P40           Off  | 00000000:00:06.0 Off |                    0 |\n",
    "| N/A   28C    P0    46W / 250W |      0MiB / 22919MiB |      0%      Default |\n",
    "+-------------------------------+----------------------+----------------------+\n",
    "                                                                               \n",
    "+-----------------------------------------------------------------------------+\n",
    "| Processes:                                                       GPU Memory |\n",
    "|  GPU       PID   Type   Process name                             Usage      |\n",
    "|=============================================================================|\n",
    "|  No running processes found                                                 |\n",
    "+-----------------------------------------------------------------------------+\n",
    "```"
   ]
  },
  {
   "cell_type": "markdown",
   "metadata": {},
   "source": [
    "### QEMU Aarch64 Environment (Recommend)"
   ]
  },
  {
   "cell_type": "markdown",
   "metadata": {},
   "source": [
    "#### Install QEMU\n",
    "\n",
    "<div style=\"margin-top: 30px; width: 100%;\">\n",
    "\t<div style=\"float: left;\">\n",
    "\t\t<a\n",
    "\t\t   href=\"https://github.com/NVIDIA/nvidia-docker/wiki/NVIDIA-Container-Runtime-on-Jetson\"\n",
    "\t\t   style=\"color:blue;font-size:28px;text-decoration:none;\">\n",
    "\t\t\t\t&#128279;\n",
    "\t\t</a>\n",
    "\t</div>\n",
    "</div>"
   ]
  },
  {
   "cell_type": "code",
   "execution_count": 6,
   "metadata": {
    "ExecuteTime": {
     "end_time": "2021-10-13T09:57:14.394383Z",
     "start_time": "2021-10-13T09:57:14.319756Z"
    },
    "scrolled": true
   },
   "outputs": [
    {
     "name": "stdout",
     "output_type": "stream",
     "text": [
      "Overwriting /data/nb_data/jetson/qemu.sh\n"
     ]
    }
   ],
   "source": [
    "%%writefile $SCRIPT_ROOT/qemu.sh\n",
    "\n",
    "sudo apt-get install -y qemu binfmt-support qemu-user-static\n",
    "\n",
    "# TODO FAQs: write error: Invalid argument\n",
    "# copy multiarch/qemu-user-static:x86_64-aarch64:/usr/bin/qemu-aarch64-static ${pwd}\n",
    "# run when reboot\n",
    "docker run --rm --privileged multiarch/qemu-user-static --reset -p yes\n",
    "# host: ls /proc/sys/fs/binfmt_misc/\n",
    "\n",
    "# Test\n",
    "# docker run --rm -v ${pwd}/qemu-aarch64-static:/usr/bin/qemu-aarch64-static -t arm64v8/ubuntu uname -m\n",
    "docker run --rm -t arm64v8/ubuntu uname -m"
   ]
  },
  {
   "cell_type": "markdown",
   "metadata": {},
   "source": [
    "#### Build Docker from SDCard Image \n",
    "\n",
    "<div style=\"margin-top:30px; width: 100%;\">\n",
    "    <div style=\"float:left;\">\n",
    "        <a\n",
    "           href=\"https://developer.nvidia.com/embedded/jetpack\"\n",
    "           title=\"Download Jetson Nano\"\n",
    "           style=\"color:blue;font-size:28px;text-decoration:none;\">\n",
    "                &#128279;\n",
    "        </a>\n",
    "    </div>\n",
    "    <div style=\"float:left;\">\n",
    "        <a\n",
    "           href=\"https://trn84.medium.com/creating-a-cross-compilation-like-process-for-jetson-tx2-aarch64-using-qemu-with-docker-5cb38f6a65bc\"\n",
    "           title=\"Creating a Cross-Compilation like process for Jetson TX2 (aarch64) using QEMU with Docker\"\n",
    "           style=\"color:blue;font-size:28px;text-decoration:none;\">\n",
    "                &#128279;\n",
    "        </a>\n",
    "    </div>\n",
    "    <div style=\"text-align: right;\">\n",
    "\t\t<a\n",
    "           href=\"#Contents\"\n",
    "           onclick=\"window.scrollTo(0, 0);\"\n",
    "\t\t   style=\"color:blue;font-size:28px;text-decoration:none;\">\n",
    "\t\t\t   &#128285;\n",
    "\t\t</a>\n",
    "\t</div>\n",
    "</div>"
   ]
  },
  {
   "cell_type": "code",
   "execution_count": 7,
   "metadata": {},
   "outputs": [
    {
     "name": "stdout",
     "output_type": "stream",
     "text": [
      "Overwriting /data/nb_data/jetson/build_docker_from_sdcardimg.sh\n"
     ]
    }
   ],
   "source": [
    "%%writefile $SCRIPT_ROOT/build_docker_from_sdcardimg.sh\n",
    "\n",
    "### 1\n",
    "fdisk -l jetson-nano-jp46-sd-card-image/sd-blob-b01.img\n",
    "# output:\n",
    "# Disk jetson-nano-jp46-sd-card-image/sd-blob-b01.img: 12.8 GiB, 13705936896 bytes, 26769408 sectors\n",
    "# Units: sectors of 1 * 512 = 512 bytes\n",
    "# Sector size (logical/physical): 512 bytes / 512 bytes\n",
    "# I/O size (minimum/optimal): 512 bytes / 512 bytes\n",
    "# Disklabel type: gpt\n",
    "# Disk identifier: B81CC800-DEB8-47E1-A23C-04D0D166A06A\n",
    "# \n",
    "# Device                                           Start      End  Sectors  Size Type\n",
    "# jetson-nano-jp46-sd-card-image/sd-blob-b01.img1  28672 26765311 26736640 12.8G Linux filesystem\n",
    "# jetson-nano-jp46-sd-card-image/sd-blob-b01.img2   2048     2303      256  128K Linux filesystem\n",
    "# jetson-nano-jp46-sd-card-image/sd-blob-b01.img3   4096     4991      896  448K Linux filesystem\n",
    "# jetson-nano-jp46-sd-card-image/sd-blob-b01.img4   6144     7295     1152  576K Linux filesystem\n",
    "\n",
    "### 2\n",
    "imgfs_offset = 28672 * 512\n",
    "imgfs_offset\n",
    "sudo mount -o loop,offset={imgfs_offset} jetson-nano-jp46-sd-card-image/sd-blob-b01.img /media/sdcard\n",
    "ls /media/sdcard\n",
    "# output:\n",
    "# bin  boot  dev  etc  home  lib  lost+found  media  mnt  opt  proc  README.txt  root  run  sbin  snap  srv  sys  tmp  usr  var\n",
    "\n",
    "### 3\n",
    "cd /media/sdcard\n",
    "sudo tar -czvf ../jetson-image.tar.gz *\n",
    "cd ..\n",
    "\n",
    "### 4\n",
    "sudo /bin/bash -c \"cat > Dockerfile <<EOF\n",
    "FROM scratch\n",
    "ENV PATH=/usr/local/cuda/bin:$PATH\n",
    "ADD jetson-image.tar.gz /\n",
    "CMD /bin/bash\n",
    "EOF\"\n",
    "sudo docker build -t jetson-image .\n",
    "\n",
    "### 5\n",
    "sudo docker run --rm --privileged multiarch/qemu-user-static --reset -p yes\n",
    "\n",
    "### 6\n",
    "sudo docker run -itd --gpus all --name='jetson-sdcard' --entrypoint=/bin/bash \\\n",
    "    --volume /data:/data jetson-image"
   ]
  },
  {
   "cell_type": "markdown",
   "metadata": {},
   "source": [
    "#### Setup  Container Environment\n",
    "\n",
    "<div style=\"margin-top:30px; width: 100%;\">\n",
    "    <div style=\"float:left;\">\n",
    "        <a\n",
    "           title=\"onnx-tensorrt\"\n",
    "           href=\"https://github.com/onnx/onnx-tensorrt/tree/8.0-GA\"\n",
    "           style=\"color:blue;font-size:28px;text-decoration:none;\">\n",
    "                &#128279;\n",
    "        </a>\n",
    "    </div>\n",
    "    <div style=\"float:left;\">\n",
    "        <a\n",
    "           title=\"tensorrt8.0\"\n",
    "           href=\"https://github.com/NVIDIA/TensorRT/tree/release/8.0\"\n",
    "           style=\"color:blue;font-size:28px;text-decoration:none;\">\n",
    "                &#128279;\n",
    "        </a>\n",
    "    </div>\n",
    "    <div style=\"text-align:right\">\n",
    "        <a\n",
    "           href=\"#Contents\"\n",
    "           title=\"Back to Top\"\n",
    "           onclick=\"window.scrollTo(0, 0);\"\n",
    "           style=\"color:blue;font-size:28px;text-decoration:none;\">\n",
    "               &#128285;\n",
    "        </a>\n",
    "    </div>\n",
    "</div>"
   ]
  },
  {
   "cell_type": "code",
   "execution_count": 8,
   "metadata": {},
   "outputs": [
    {
     "name": "stdout",
     "output_type": "stream",
     "text": [
      "Overwriting /data/nb_data/jetson/sdcardimg_container_setup.sh\n"
     ]
    }
   ],
   "source": [
    "%%writefile $SCRIPT_ROOT/sdcardimg_container_setup.sh\n",
    "#!/bin/bash\n",
    "\n",
    "apt update\n",
    "apt install -y locate\n",
    "apt install -y libprotobuf-dev protobuf-compiler\n",
    "\n",
    "export CUDA_HOME=/usr/local/cuda\n",
    "export PATH=$CUDA_HOME/bin:$PATH\n",
    "export LD_LIBRARY_PATH=/usr/lib/aarch64-linux-gnu/tegra:$LD_LIBRARY_PATH\n",
    "    \n",
    "### 1 test\n",
    "git clone --depth 1 -b v10.2 https://github.com/NVIDIA/cuda-samples\n",
    "cd cuda-samples/Samples/deviceQuery && make\n",
    "\n",
    "### 2 build tensorrt\n",
    "git clone --depth 1 -b release/8.0 https://github.com/NVIDIA/TensorRT.git TensorRT8.0\n",
    "cd TensorRT8.0 && git submodule update --init --recursive\n",
    "mkdir -p build && cd build\n",
    "cmake .. -DTRT_OUT_DIR=`pwd`/out -DTRT_PLATFORM_ID=aarch64 -DCUDA_VERSION=10.2\n",
    "CC=/usr/bin/gcc make -j$(nproc)\n",
    "\n",
    "### 3 build onnx-tensorrt\n",
    "git clone --depth 1 -b 8.0-GA https://github.com/onnx/onnx-tensorrt.git onnx-tensorrt-release-8.2-GA\n",
    "cd onnx-tensorrt-release-8.2-GA && git submodule update --init --recursive\n",
    "mkdir -p build && cd build\n",
    "cmake .. -DTENSORRT_ROOT=/data/codes/TensorRT8.0/\n",
    "CC=/usr/bin/gcc make -j$(nproc)"
   ]
  },
  {
   "cell_type": "markdown",
   "metadata": {},
   "source": [
    "### Jetson Containers (Removed)\n",
    "\n",
    "<div style=\"margin-top: 30px; width: 100%;\">\n",
    "    <div style=\"float:left;\">\n",
    "        <a\n",
    "           href=\"https://ngc.nvidia.com/catalog/Containers?orderBy=scoreDESC&pageNumber=0&query=jetson&quickFilter=&filters=\"\n",
    "           style=\"color:blue;font-size:28px;text-decoration:none;\">\n",
    "                &#128279;\n",
    "        </a>\n",
    "    </div>\n",
    "    <div style=\"text-align:right\">\n",
    "        <a\n",
    "           href=\"#Contents\"\n",
    "           onclick=\"window.scrollTo(0, 0);\"\n",
    "           style=\"color:blue;font-size:28px;text-decoration:none;\">\n",
    "               &#128285;\n",
    "        </a>\n",
    "    </div>\n",
    "</div>"
   ]
  },
  {
   "cell_type": "code",
   "execution_count": 9,
   "metadata": {
    "ExecuteTime": {
     "end_time": "2021-10-13T09:57:14.552881Z",
     "start_time": "2021-10-13T09:57:14.475169Z"
    }
   },
   "outputs": [],
   "source": [
    "%%template_writefile $SCRIPT_ROOT/Dockerfile.l4t-tensorrt-tf2.5\n",
    "\n",
    "FROM nvcr.io/nvidia/l4t-tensorrt:r8.0.1-runtime\n",
    "    \n",
    "ENV TZ=Asia/Shanghai \\\n",
    "    H5PY_SETUP_REQUIRES=0 \\\n",
    "    LANG=C.UTF-8 \\\n",
    "    PYTHONIOENCODING=utf-8 \\\n",
    "    DEBIAN_FRONTEND=noninteractive \\\n",
    "    APT_INSTALL=\"apt install -y --no-install-recommends\" \\\n",
    "    PIP_INSTALL=\"python3 -m pip install --no-cache-dir --retries 20 --timeout 120\" \\\n",
    "    PIP_INSTALL_FAST=\"python3 -m pip install --trusted-host mirrors.aliyun.com --extra-index-url http://mirrors.aliyun.com\"\n",
    "\n",
    "RUN rm -rf /usr/bin/python /usr/bin/python3\n",
    "\n",
    "RUN apt update --fix-missing && rm -rf /usr/bin/python /usr/bin/python3 && \\\n",
    "    apt remove --purge python3.8 python3.8-dev && ln -s /usr/bin/python3.6 /usr/bin/python3 \\\n",
    "    $APT_INSTALL net-tools locate libhdf5-serial-dev hdf5-tools libhdf5-dev zlib1g-dev zip \\\n",
    "        libjpeg8-dev liblapack-dev libblas-dev gfortran python3.6 && \\\n",
    "    python3 -m pip uninstall tensorflow tensorflow-estimator tensorboard && \\\n",
    "    $PIP_INSTALL -U pip testresources setuptools==49.6.0 && \\\n",
    "    $PIP_INSTALL -U numpy==1.19.4 future==0.18.2 mock==3.0.5 grpcio==1.34.1 keras_preprocessing==1.1.2 \\\n",
    "        keras_applications==1.0.8 gast==0.4.0 futures protobuf pybind11 cython pkgconfig h5py==2.10.0 \\\n",
    "    $PIP_INSTALL -U --pre --extra-index-url https://developer.download.nvidia.com/compute/redist/jp/v{JP_VERSION} tensorflow=={TF_VERSION}+nv{NV_VERSION}\n",
    "\n",
    "RUN cp /etc/apt/sources.list /etc/apt/sources.list.save && \\\n",
    "    sed -i s@http://ports.ubuntu.com@http://mirrors.aliyun.com@g /etc/apt/sources.list && \\\n",
    "    apt update && \\\n",
    "    $PIP_INSTALL_FAST onnx onnxruntime\n",
    "        \n",
    "# Error: $PIP_INSTALL -U h5py==3.1.0"
   ]
  },
  {
   "cell_type": "markdown",
   "metadata": {},
   "source": [
    "### Cross-Compile (Tensorrt)"
   ]
  },
  {
   "cell_type": "markdown",
   "metadata": {},
   "source": [
    "#### Install Nvidia SDK Manager (Docker)\n",
    "\n",
    "<div style=\"margin-top: 30px; width: 100%;\">\n",
    "    <div style=\"float:left;\">\n",
    "        <a\n",
    "           href=\"https://developer.nvidia.com/nvidia-sdk-manager\"\n",
    "           style=\"color:blue;font-size:28px;text-decoration:none;\">\n",
    "                &#128279;\n",
    "        </a>\n",
    "    </div>\n",
    "</div>"
   ]
  },
  {
   "cell_type": "code",
   "execution_count": 10,
   "metadata": {
    "ExecuteTime": {
     "end_time": "2021-10-13T09:57:14.472104Z",
     "start_time": "2021-10-13T09:57:14.398339Z"
    }
   },
   "outputs": [
    {
     "name": "stdout",
     "output_type": "stream",
     "text": [
      "Overwriting /data/nb_data/jetson/sdkmanager_docker.sh\n"
     ]
    }
   ],
   "source": [
    "%%writefile $SCRIPT_ROOT/sdkmanager_docker.sh\n",
    "\n",
    "version=1.6.1\n",
    "build=18175\n",
    "\n",
    "docker load -i ./sdkmanager_$version.$build_docker.tar.gz\n",
    "docker tag sdkmanager:$version.$build sdkmanager:latest\n",
    "    \n",
    "docker run -it --rm sdkmanager --help\n",
    "\n",
    "docker run -it --rm sdkmanager -exitonfinish --cli downloadonly --logintype devzone --product Jetson --version 4.6 \\\n",
    "    --host --flash all --targetos Linux --target JETSON_NANO_TARGETS--license accept --downloadfolder /data/docker/jetpack_files/\n",
    "\n",
    "# docker run -itd --net host --name nvidia_sdkmanger --volume /data/:/data --entrypoint=/bin/bash sdkmanager \n",
    "# in container\n",
    "# --host: Install Host Components\n",
    "# sdkmanager --exitonfinish --cli downloadonly --logintype devzone --product Jetson --version 4.6 --targetos Linux \\\n",
    "#  --host --flash all --target JETSON_NANO_TARGETS--license accept --downloadfolder /data/docker/jetpack_files/"
   ]
  },
  {
   "cell_type": "markdown",
   "metadata": {},
   "source": [
    "#### Cross-Compile Tensort\n",
    "\n",
    "<div style=\"margin-top: 30px; width: 100%;\">\n",
    "    <div style=\"float:left;\">\n",
    "        <a\n",
    "           title=\"setting-up-the-build-environment\"\n",
    "           href=\"https://github.com/NVIDIA/TensorRT/tree/release/8.0\"\n",
    "           style=\"color:blue;font-size:28px;text-decoration:none;\">\n",
    "                &#128279;\n",
    "        </a>\n",
    "    </div>\n",
    "    <div style=\"text-align:right\">\n",
    "        <a\n",
    "           href=\"#Contents\"\n",
    "           onclick=\"window.scrollTo(0, 0);\"\n",
    "           style=\"color:blue;font-size:28px;text-decoration:none;\">\n",
    "               &#128285;\n",
    "        </a>\n",
    "    </div>\n",
    "</div>"
   ]
  },
  {
   "cell_type": "code",
   "execution_count": 11,
   "metadata": {
    "ExecuteTime": {
     "end_time": "2021-10-14T11:33:50.331118Z",
     "start_time": "2021-10-14T11:33:50.012551Z"
    }
   },
   "outputs": [],
   "source": [
    "%%template_writefile $SCRIPT_ROOT/cross_compile_tensort.sh\n",
    "\n",
    "# Download and Update\n",
    "git clone -b {TRT_VERSION} --depth 1 https://github.com/NVIDIA/TensorRT.git /data/TensorRT8.0\n",
    "cd /data/TensorRT8.0\n",
    "git submodule update --init --recursive\n",
    "\n",
    "# Copy JetPack Files to docker\n",
    "if [ ! -d docker/jetpack_files ]\n",
    "then\n",
    "    cp -aprf /data/docker/jetpack_files docker/\n",
    "fi\n",
    "\n",
    "TAG=tensorrt-jetpack-cuda10.2\n",
    "\n",
    "# trtuser:nvidia \n",
    "./docker/build.sh --file docker/ubuntu-cross-aarch64.Dockerfile --tag $TAG --cuda 10.2\n",
    "\n",
    "# run test:\n",
    "docker run --rm -it --gpus all --entroypint=/bin/bash $TAG \"echo \\$TRT_OSSPATH \\$TRT_LIBPATH\"\n",
    "# output: /workspace/TensorRT /pdk_files/tensorrt/lib\n",
    "\n",
    "# run compile container: 8339 for notebook\n",
    "docker run -itd --gpus all --name='ubuntu-cross-aarch64-tensorrt' --entrypoint=/bin/bash \\\n",
    "    --publish 8338:8338 --volume /data/codes/TensorRT8.0:/workspace/TensorRT $TAG\n",
    "        \n",
    "# in container\n",
    "# cd $TRT_OSSPATH\n",
    "# mkdir -p build && cd build\n",
    "# cmake .. -DTRT_LIB_DIR=$TRT_LIBPATH -DTRT_OUT_DIR=`pwd`/out -DCMAKE_TOOLCHAIN_FILE=$TRT_OSSPATH/cmake/toolchains/cmake_aarch64.toolchain -DCUDA_VERSION=10.2\n",
    "# make -j$(nproc)"
   ]
  },
  {
   "cell_type": "markdown",
   "metadata": {},
   "source": [
    "### X86 Tensorrrt\n",
    "\n",
    "<div style=\"margin-top:30px; width: 100%;\">\n",
    "    <div style=\"float:left;\">\n",
    "        <a\n",
    "           href=\"https://github.com/NVIDIA/TensorRT/tree/release/8.0\"\n",
    "           title=\"Generate the TensorRT-OSS build container.\"\n",
    "           style=\"color:blue;font-size:28px;text-decoration:none;\">\n",
    "                &#128279;\n",
    "        </a>\n",
    "    </div>\n",
    "    <div style=\"text-align:right\">\n",
    "        <a\n",
    "           href=\"#Contents\"\n",
    "           title=\"Back to Top\"\n",
    "           onclick=\"window.scrollTo(0, 0);\"\n",
    "           style=\"color:blue;font-size:28px;text-decoration:none;\">\n",
    "               &#128285;\n",
    "        </a>\n",
    "    </div>\n",
    "</div>"
   ]
  },
  {
   "cell_type": "markdown",
   "metadata": {},
   "source": [
    "#### Build Docker Image"
   ]
  },
  {
   "cell_type": "code",
   "execution_count": 12,
   "metadata": {},
   "outputs": [
    {
     "name": "stdout",
     "output_type": "stream",
     "text": [
      "Overwriting /data/nb_data/jetson/Dockerfile.ubuntu18_cuda10.2\n"
     ]
    }
   ],
   "source": [
    "%%writefile $SCRIPT_ROOT/Dockerfile.ubuntu18_cuda10.2\n",
    "\n",
    "ARG CUDA_VERSION=10.2\n",
    "ARG OS_VERSION=18.04\n",
    "\n",
    "FROM nvidia/cuda:${CUDA_VERSION}-cudnn8-devel-ubuntu${OS_VERSION}\n",
    "LABEL maintainer=\"NVIDIA CORPORATION\"\n",
    "\n",
    "ENV TRT_VERSION=8.0.3.4 \\\n",
    "    LANG=C.UTF-8 \\\n",
    "    PYTHONIOENCODING=utf-8 \\\n",
    "    DEBIAN_FRONTEND=noninteractive \\\n",
    "    APT_INSTALL=\"apt install -y --no-install-recommends\" \\\n",
    "    PIP_INSTALL=\"python3 -m pip install --no-cache-dir --retries 20 --timeout 120\" \\\n",
    "    PIP_INSTALL_FAST=\"python3 -m pip install --trusted-host mirrors.aliyun.com --extra-index-url http://mirrors.aliyun.com/pypi/simple\"\n",
    "SHELL [\"/bin/bash\", \"-c\"]\n",
    "\n",
    "# Setup user account\n",
    "ARG uid=1000\n",
    "ARG gid=1000\n",
    "RUN groupadd -r -f -g ${gid} trtuser && useradd -o -r -u ${uid} -g ${gid} -ms /bin/bash trtuser\n",
    "RUN usermod -aG sudo trtuser\n",
    "RUN echo 'trtuser:nvidia' | chpasswd\n",
    "RUN mkdir -p /workspace && chown trtuser /workspace\n",
    "\n",
    "# Install requried libraries\n",
    "RUN apt-get update && apt-get install -y software-properties-common\n",
    "RUN add-apt-repository ppa:ubuntu-toolchain-r/test\n",
    "RUN apt-get update && apt-get install -y --no-install-recommends \\\n",
    "    libcurl4-openssl-dev \\\n",
    "    wget \\\n",
    "    zlib1g-dev \\\n",
    "    git \\\n",
    "    pkg-config \\\n",
    "    sudo \\\n",
    "    ssh \\\n",
    "    libssl-dev \\\n",
    "    pbzip2 \\\n",
    "    pv \\\n",
    "    bzip2 \\\n",
    "    unzip \\\n",
    "    devscripts \\\n",
    "    lintian \\\n",
    "    fakeroot \\\n",
    "    dh-make \\\n",
    "    build-essential\n",
    "\n",
    "# Install python3\n",
    "RUN apt-get install -y --no-install-recommends vim \\\n",
    "      python3 \\\n",
    "      python3-pip \\\n",
    "      python3-dev \\\n",
    "      python3-wheel &&\\\n",
    "    cd /usr/local/bin &&\\\n",
    "    ln -s /usr/bin/python3 python &&\\\n",
    "    ln -s /usr/bin/pip3 pip;\n",
    "\n",
    "# Install TensorRT\n",
    "RUN v=\"${TRT_VERSION%.*}-1+cuda${CUDA_VERSION%.*}\" &&\\\n",
    "    apt-key adv --fetch-keys https://developer.download.nvidia.com/compute/cuda/repos/ubuntu1804/x86_64/7fa2af80.pub &&\\\n",
    "    apt-get update &&\\\n",
    "    sudo apt-get install libnvinfer8=${v} libnvonnxparsers8=${v} libnvparsers8=${v} libnvinfer-plugin8=${v} \\\n",
    "        libnvinfer-dev=${v} libnvonnxparsers-dev=${v} libnvparsers-dev=${v} libnvinfer-plugin-dev=${v} \\\n",
    "        python3-libnvinfer=${v}\n",
    "\n",
    "# Install PyPI packages\n",
    "RUN $PIP_INSTALL --upgrade pip\n",
    "RUN $PIP_INSTALL_FAST setuptools>=41.0.0\n",
    "COPY requirements.txt /tmp/requirements.txt\n",
    "RUN $PIP_INSTALL_FAST -r /tmp/requirements.txt\n",
    "# Workaround to remove numpy installed with tensorflow\n",
    "RUN $PIP_INSTALL_FAST --upgrade numpy\n",
    "\n",
    "RUN $PIP_INSTALL_FAST \\\n",
    "        autopep8 watermark matplotlib\\\n",
    "        notebook==v6.4.4 \\                                 \n",
    "        jupyter \\\n",
    "        jupyter_contrib_nbextensions \\\n",
    "        jupyter_nbextensions_configurator\n",
    "\n",
    "RUN jupyter contrib nbextension install --sys-prefix && \\\n",
    "        jupyter nbextensions_configurator enable && \\\n",
    "        jupyter notebook --generate-config -y\n",
    "\n",
    "# Install Cmake\n",
    "RUN cd /tmp && \\\n",
    "    wget https://github.91chifun.workers.dev/https://github.com/Kitware/CMake/releases/download/v3.14.4/cmake-3.14.4-Linux-x86_64.sh && \\\n",
    "    chmod +x cmake-3.14.4-Linux-x86_64.sh && \\\n",
    "    ./cmake-3.14.4-Linux-x86_64.sh --prefix=/usr/local --exclude-subdir --skip-license && \\\n",
    "    rm ./cmake-3.14.4-Linux-x86_64.sh\n",
    "\n",
    "# Download NGC client\n",
    "RUN cd /usr/local/bin && wget https://ngc.nvidia.com/downloads/ngccli_cat_linux.zip && unzip ngccli_cat_linux.zip && \\\n",
    "    chmod u+x ngc && rm ngccli_cat_linux.zip ngc.md5 && echo \"no-apikey\\nascii\\n\" | ngc config set\n",
    "\n",
    "# Set environment and working directory\n",
    "ENV TRT_LIBPATH /usr/lib/x86_64-linux-gnu\n",
    "ENV TRT_OSSPATH /workspace/TensorRT\n",
    "ENV LD_LIBRARY_PATH=\"${LD_LIBRARY_PATH}:${TRT_OSSPATH}/build/out:${TRT_LIBPATH}\"\n",
    "WORKDIR /workspace\n",
    "\n",
    "USER trtuser\n",
    "RUN [\"/bin/bash\"]"
   ]
  },
  {
   "cell_type": "markdown",
   "metadata": {},
   "source": [
    "#### Launch Tenssrrt Container"
   ]
  },
  {
   "cell_type": "code",
   "execution_count": 13,
   "metadata": {},
   "outputs": [
    {
     "name": "stdout",
     "output_type": "stream",
     "text": [
      "Overwriting /data/nb_data/jetson/build_and_launch_tensrrt_x86.sh\n"
     ]
    }
   ],
   "source": [
    "%%writefile $SCRIPT_ROOT/build_and_launch_tensrrt_x86.sh\n",
    "\n",
    "HOST_TRT_OSSPATH=/data/codes/TensorRT8.0\n",
    "\n",
    "cd $HOST_TRT_OSSPATH\n",
    "\n",
    "## 1\n",
    "./docker/build.sh --file $SCRIPT_ROOT/Dockerfile.ubuntu18_cuda10.2 --tag tensorrt-ubuntu18.04-cuda10.2 --cuda 10.2\n",
    "\n",
    "## 2\n",
    "$SCRIPT_ROOT/start_container_with_nbconfig.sh --gpus all --network host --name x86_tensorrt --volume /data/:/data tensorrt-ubuntu18.04-cuda10.2\n",
    "    \n",
    "## 3 (in container)\n",
    "sudo -i jupyter notebook --no-browser --notebook-dir=/data --allow-root --ip=0.0.0.0 --port=8118"
   ]
  },
  {
   "cell_type": "markdown",
   "metadata": {},
   "source": [
    "## Others"
   ]
  },
  {
   "cell_type": "markdown",
   "metadata": {},
   "source": [
    "### Notebook Configuration"
   ]
  },
  {
   "cell_type": "code",
   "execution_count": 14,
   "metadata": {},
   "outputs": [
    {
     "name": "stdout",
     "output_type": "stream",
     "text": [
      "Overwriting /data/nb_data/jetson/start_container_with_nbconfig.sh\n"
     ]
    }
   ],
   "source": [
    "%%writefile $SCRIPT_ROOT/start_container_with_nbconfig.sh\n",
    "\n",
    "NB_CFG_DIR=/data/codes/jupyter_config\n",
    "\n",
    "if [[ ! -d $NB_CFG_DIR ]]\n",
    "then\n",
    "    git clone --depth 1 https://github.com/qrsforever/jupyter_config.git $NB_CFG_DIR\n",
    "fi\n",
    "\n",
    "CONF_DIR=/root/.jupyter              # $(jupyter --config-dir)\n",
    "DATA_DIR=/root/.local/share/jupyter  # $(jupyter --data-dir)\n",
    "        \n",
    "ARGS=\"-v $NB_CFG_DIR/jupyter:$CONF_DIR -v $NB_CFG_DIR/local/share/jupyter:$DATA_DIR\"\n",
    "\n",
    "docker run -itd --restart unless-stopped --shm-size 10g $ARGS $*"
   ]
  },
  {
   "cell_type": "markdown",
   "metadata": {},
   "source": [
    "### Speed Up Git"
   ]
  },
  {
   "cell_type": "code",
   "execution_count": 15,
   "metadata": {},
   "outputs": [
    {
     "name": "stdout",
     "output_type": "stream",
     "text": [
      "Overwriting /data/nb_data/jetson/speedup_gitconfig.txt\n"
     ]
    }
   ],
   "source": [
    "%%writefile $SCRIPT_ROOT/speedup_gitconfig.txt\n",
    "\n",
    "[user]\n",
    "    name  = Li Dong\n",
    "    email = 705723886@qq.com\n",
    "[core]\n",
    "    editor = vim\n",
    "    ui = auto\n",
    "[push]\n",
    "    default = simple\n",
    "[alias]\n",
    "    co = checkout\n",
    "    ci = commit\n",
    "    br = branch\n",
    "    st = status\n",
    "    last = log -1\n",
    "    logd = log --color -p --full-diff\n",
    "[credential]\n",
    "    helper = store\n",
    "[http]\n",
    "    postBuffer = 20000000\n",
    "[url \"https://hub.fastgit.org\"]\n",
    "    insteadOf = https://github.com"
   ]
  },
  {
   "cell_type": "markdown",
   "metadata": {},
   "source": [
    "### Speed Up Apt"
   ]
  },
  {
   "cell_type": "code",
   "execution_count": 16,
   "metadata": {},
   "outputs": [
    {
     "name": "stdout",
     "output_type": "stream",
     "text": [
      "Overwriting /data/nb_data/jetson/speedup_apt.sh\n"
     ]
    }
   ],
   "source": [
    "%%writefile $SCRIPT_ROOT/speedup_apt.sh\n",
    "\n",
    "#!/bin/bash\n",
    "\n",
    "APT_FILE=/etc/apt/sources.list\n",
    "\n",
    "BASH_SCRIPT=${BASH_SOURCE[0]}\n",
    "\n",
    "SUDO=\n",
    "\n",
    "if [[ $# != 2 ]]\n",
    "then\n",
    "    echo \"Usage: ./sed.sh [system type] [provider]\"\n",
    "    echo -e \"\\t sytem type: ubuntu debian ubuntu_aarch64 raspberrypi\"\n",
    "    echo -e \"\\t   provider: aliyun 163 tsinghua sjtu huawei ustc\"\n",
    "    if [[ $BASH_SCRIPT != $0 ]]\n",
    "    then\n",
    "        return\n",
    "    else\n",
    "        exit 0\n",
    "    fi\n",
    "fi\n",
    "\n",
    "SYSTEMTY=$1\n",
    "PROVIDER=$2\n",
    "\n",
    "if [[ $SYSTEMTY == \"ubuntu\" ]]\n",
    "then\n",
    "    SRC1=\"http://archive.ubuntu.com\"\n",
    "    SRC2=\"http://security.ubuntu.com\"\n",
    "elif [[ $SYSTEMTY == \"debian\" ]]\n",
    "then\n",
    "    SRC1=\"http://deb.debian.org\"\n",
    "    SRC2=\"http://security.debian.org\"\n",
    "elif [[ $SYSTEMTY == \"ubuntu_aarch64\" ]]\n",
    "then\n",
    "    SRC1=\"http://ports.ubuntu.com\"\n",
    "elif [[ $SYSTEMTY == \"raspberrypi\" ]]\n",
    "then\n",
    "    SRC1=\"http://archive.raspberrypi.org\"\n",
    "    APT_FILE=\"/etc/apt/sources.list.d/raspi.list\"\n",
    "else\n",
    "    echo \"error system type:[$SYSTEMTY]\"\n",
    "    exit 0\n",
    "fi\n",
    "\n",
    "case $PROVIDER in\n",
    "    163)\n",
    "        DST=\"http://mirrors.163.com\"\n",
    "        ;;\n",
    "    huawei)\n",
    "        DST=\"https://mirrors.huaweicloud.com\"\n",
    "        ;;\n",
    "    tsinghua)\n",
    "        DST=\"https://mirrors.tuna.tsinghua.edu.cn\"\n",
    "        ;;\n",
    "    sjtu)\n",
    "        DST=\"https://mirror.sjtu.edu.cn\"\n",
    "        ;;\n",
    "    ustc)\n",
    "        if [[ $SYSTEMTY == \"raspberrypi\" ]]\n",
    "        then\n",
    "            DST=\"http://mirrors.ustc.edu.cn/archive.raspberrypi.org\"\n",
    "        else\n",
    "            DST=\"https://mirrors.ustc.edu.cn\"\n",
    "        fi\n",
    "        ;;\n",
    "    *)\n",
    "        DST=\"http://mirrors.aliyun.com\"\n",
    "        ;;\n",
    "esac\n",
    "\n",
    "if [[ $SYSTEMTY == \"raspberrypi\" ]]\n",
    "then\n",
    "    DST=\"$DST/raspberrypi\"\n",
    "fi\n",
    "\n",
    "if [[ ! -f ${APT_FILE}.save ]]\n",
    "then\n",
    "    $SUDO cp ${APT_FILE} ${APT_FILE}.save\n",
    "else\n",
    "    $SUDO cp ${APT_FILE}.save ${APT_FILE} \n",
    "fi\n",
    "\n",
    "$SUDO sed -i \"s@${SRC1}@${DST}@g\" ${APT_FILE}\n",
    "if [[ x$SRC2 != x ]]\n",
    "then\n",
    "    $SUDO sed -i \"s@${SRC2}@${DST}@g\" ${APT_FILE}\n",
    "fi"
   ]
  },
  {
   "cell_type": "markdown",
   "metadata": {},
   "source": [
    "### Speed Up Pip"
   ]
  },
  {
   "cell_type": "code",
   "execution_count": 17,
   "metadata": {},
   "outputs": [
    {
     "name": "stdout",
     "output_type": "stream",
     "text": [
      "Overwriting /data/nb_data/jetson/pip.conf\n"
     ]
    }
   ],
   "source": [
    "%%writefile $SCRIPT_ROOT/pip.conf\n",
    "\n",
    "[global]\n",
    "index-url = https://mirrors.aliyun.com/pypi/simple\n",
    "extra-index-url = https://pypi.org/simple \n",
    "            https://pypi.tuna.tsinghua.edu.cn/simple\n",
    "            http://pypi.mirrors.ustc.edu.cn/simple\n",
    "            http://pypi.douban.com/simple\n",
    "\n",
    "[install]\n",
    "trusted-host = mirrors.aliyun.com\n",
    "            pypi.tuna.tsinghua.edu.cn\n",
    "            pypi.mirrors.ustc.edu.cn\n",
    "            pypi.douban.com"
   ]
  },
  {
   "cell_type": "markdown",
   "metadata": {},
   "source": [
    "## References"
   ]
  },
  {
   "cell_type": "markdown",
   "metadata": {},
   "source": [
    "- [Jetson Nano SD Card Image][12]\n",
    "- [Running and Building ARM Docker Containers on x86][1]\n",
    "- [NVIDIA L4T is a Linux based software distribution for the NVIDIA Jetson embedded computing platform][2]\n",
    "- [Jetson Docker build][3]\n",
    "- [This guide provides instructions for installing TensorFlow for Jetson Platform][4]\n",
    "- [Jetson Docker Containers][5]\n",
    "- [NVIDIA Container Runtime on Jetson][6]\n",
    "- [Install Tensorrt][7]\n",
    "- [Tensorrt Guide][11]\n",
    "- [The following development platforms are supported with NVIDIA SDK Manager: Target Devices][8]\n",
    "- [JetPack SDK in Docker for simple and clean flashing of a Jetson TX2][9]\n",
    "- [Creating a Cross-Compilation like process for Jetson TX2 (aarch64) using QEMU with Docker][10]\n",
    "\n",
    "[12]: https://developer.nvidia.com/embedded/jetpack#install\n",
    "[11]: https://docs.nvidia.com/deeplearning/tensorrt/developer-guide/index.html\n",
    "[10]: https://trn84.medium.com/creating-a-cross-compilation-like-process-for-jetson-tx2-aarch64-using-qemu-with-docker-5cb38f6a65bc\n",
    "[9]: https://trn84.medium.com/jetpack-sdk-in-docker-for-simple-and-clean-flashing-of-a-jetson-tx2-32b4db6c8d65\n",
    "[8]: https://docs.nvidia.com/sdk-manager/system-requirements/index.html\n",
    "[7]: https://docs.nvidia.com/deeplearning/tensorrt/quick-start-guide/index.html\n",
    "[6]: https://github.com/NVIDIA/nvidia-docker/wiki/NVIDIA-Container-Runtime-on-Jetson#building-jetson-containers-on-an-x86-workstation-using-qemu\n",
    "[5]: https://ngc.nvidia.com/catalog/Containers\n",
    "[4]: https://docs.nvidia.com/deeplearning/frameworks/install-tf-jetson-platform/index.html\n",
    "[3]: https://github.com/dusty-nv/jetson-containers\n",
    "[2]: https://ngc.nvidia.com/catalog/containers/nvidia:l4t-base\n",
    "[1]: https://www.stereolabs.com/docs/docker/building-arm-container-on-x86/\n"
   ]
  },
  {
   "cell_type": "markdown",
   "metadata": {},
   "source": [
    "## FAQs"
   ]
  },
  {
   "cell_type": "markdown",
   "metadata": {},
   "source": [
    "- [Attribute not found: allowzero][1]\n",
    "- [Assertion failed: inputs.at(1).is_weights() && \"The input pads is required to be an initializer.\"][2]\n",
    "- [Stand-alone pad operation fails with: Assertion failed: inputs.at(1).is_weights()][3]\n",
    "- [Assertion failed: convertOnnxPadding(onnxPadding, &begPadding, &endPadding) && \"This version of TensorRT only supports padding on the outer two dimensions!\"][4]\n",
    "- [ONNX to TRT Error: Myelin Error in addNodeToMyelinGraph: 0 gather operation not supported within a loop body. ][5]\n",
    "- [Build Tensorrt: cub/cub.cuh: No such file or directory #8][6]\n",
    "\n",
    "<div class=\"alert alert-warning\">\n",
    "<code>\n",
    "    if(NOT CUB_ROOT_DIR)\n",
    "      if (CUDA_VERSION VERSION_LESS 11.0)\n",
    "        set(CUB_ROOT_DIR ${CMAKE_CURRENT_SOURCE_DIR}/third_party/cub CACHE STRING \"directory of CUB installation\")\n",
    "      endif()\n",
    "    endif()\n",
    "    /* fixit -DTRT_PLATFORM_ID=aarch64 -DCUDA_VERSION=10.2 */\n",
    "</code>\n",
    "</div>\n",
    "\n",
    "- [error: ‘nbDims’ was not declared in this scope 1182][7]\n",
    "   \n",
    "[7]: https://github.com/onnx/onnx-tensorrt/issues/760\n",
    "[6]: https://githubmemory.com/repo/grimoire/amirstan_plugin/issues/8\n",
    "[5]: https://github.com/NVIDIA/TensorRT/issues/1081\n",
    "[4]: https://github.com/onnx/onnx-tensorrt/issues/533\n",
    "[3]: https://github.com/onnx/onnx-tensorrt/issues/411\n",
    "[2]: https://github.com/NVIDIA/TensorRT/issues/439\n",
    "[1]: https://github.com/onnx/onnx/issues/3225"
   ]
  },
  {
   "cell_type": "markdown",
   "metadata": {},
   "source": [
    "<div style=\"margin-top:30px; width: 100%;\">\n",
    "    <div style=\"text-align:right\">\n",
    "        <a\n",
    "           href=\"#Contents\"\n",
    "           title=\"Back to Top\"\n",
    "           onclick=\"window.scrollTo(0, 0);\"\n",
    "           style=\"color:blue;font-size:28px;text-decoration:none;\">\n",
    "               &#128285;\n",
    "        </a>\n",
    "    </div>\n",
    "</div>"
   ]
  }
 ],
 "metadata": {
  "hide_input": false,
  "kernelspec": {
   "display_name": "Python 3",
   "language": "python",
   "name": "python3"
  },
  "language_info": {
   "codemirror_mode": {
    "name": "ipython",
    "version": 3
   },
   "file_extension": ".py",
   "mimetype": "text/x-python",
   "name": "python",
   "nbconvert_exporter": "python",
   "pygments_lexer": "ipython3",
   "version": "3.6.9"
  },
  "toc": {
   "base_numbering": 1,
   "nav_menu": {
    "height": "422px",
    "width": "390px"
   },
   "number_sections": true,
   "sideBar": false,
   "skip_h1_title": true,
   "title_cell": "Contents",
   "title_sidebar": "Contents",
   "toc_cell": true,
   "toc_position": {
    "height": "400px",
    "left": "1379px",
    "top": "66px",
    "width": "376.797px"
   },
   "toc_section_display": true,
   "toc_window_display": true
  }
 },
 "nbformat": 4,
 "nbformat_minor": 2
}
