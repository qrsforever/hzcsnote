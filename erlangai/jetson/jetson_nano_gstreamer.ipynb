{
 "cells": [
  {
   "cell_type": "markdown",
   "metadata": {
    "toc": true
   },
   "source": [
    "<h1>Contents<span class=\"tocSkip\"></span></h1>\n",
    "<div class=\"toc\"><ul class=\"toc-item\"><li><span><a href=\"#Load-and-Define-Utils\" data-toc-modified-id=\"Load-and-Define-Utils-1\"><span class=\"toc-item-num\">1&nbsp;&nbsp;</span>Load and Define Utils</a></span><ul class=\"toc-item\"><li><span><a href=\"#json-encoder\" data-toc-modified-id=\"json-encoder-1.1\"><span class=\"toc-item-num\">1.1&nbsp;&nbsp;</span>json encoder</a></span></li><li><span><a href=\"#magic-commands\" data-toc-modified-id=\"magic-commands-1.2\"><span class=\"toc-item-num\">1.2&nbsp;&nbsp;</span>magic commands</a></span></li><li><span><a href=\"#easy-widget\" data-toc-modified-id=\"easy-widget-1.3\"><span class=\"toc-item-num\">1.3&nbsp;&nbsp;</span>easy widget</a></span></li></ul></li><li><span><a href=\"#System-Tools-and-Info\" data-toc-modified-id=\"System-Tools-and-Info-2\"><span class=\"toc-item-num\">2&nbsp;&nbsp;</span>System Tools and Info</a></span><ul class=\"toc-item\"><li><span><a href=\"#jtop\" data-toc-modified-id=\"jtop-2.1\"><span class=\"toc-item-num\">2.1&nbsp;&nbsp;</span>jtop</a></span></li><li><span><a href=\"#v4l-utils\" data-toc-modified-id=\"v4l-utils-2.2\"><span class=\"toc-item-num\">2.2&nbsp;&nbsp;</span>v4l-utils</a></span></li><li><span><a href=\"#opencv\" data-toc-modified-id=\"opencv-2.3\"><span class=\"toc-item-num\">2.3&nbsp;&nbsp;</span>opencv</a></span></li><li><span><a href=\"#others\" data-toc-modified-id=\"others-2.4\"><span class=\"toc-item-num\">2.4&nbsp;&nbsp;</span>others</a></span><ul class=\"toc-item\"><li><span><a href=\"#nvpmodel:-set-nvidia-power-mode\" data-toc-modified-id=\"nvpmodel:-set-nvidia-power-mode-2.4.1\"><span class=\"toc-item-num\">2.4.1&nbsp;&nbsp;</span>nvpmodel: set nvidia power mode</a></span></li><li><span><a href=\"#power-fan\" data-toc-modified-id=\"power-fan-2.4.2\"><span class=\"toc-item-num\">2.4.2&nbsp;&nbsp;</span>power fan</a></span></li><li><span><a href=\"#desktop-(not-required)\" data-toc-modified-id=\"desktop-(not-required)-2.4.3\"><span class=\"toc-item-num\">2.4.3&nbsp;&nbsp;</span>desktop (not required)</a></span></li><li><span><a href=\"#nvargus-daemon\" data-toc-modified-id=\"nvargus-daemon-2.4.4\"><span class=\"toc-item-num\">2.4.4&nbsp;&nbsp;</span>nvargus-daemon</a></span></li><li><span><a href=\"#docker-dli\" data-toc-modified-id=\"docker-dli-2.4.5\"><span class=\"toc-item-num\">2.4.5&nbsp;&nbsp;</span>docker dli</a></span></li><li><span><a href=\"#Install-Jetcam\" data-toc-modified-id=\"Install-Jetcam-2.4.6\"><span class=\"toc-item-num\">2.4.6&nbsp;&nbsp;</span>Install Jetcam</a></span></li></ul></li></ul></li><li><span><a href=\"#CPU-VS-GPU-(opencv)\" data-toc-modified-id=\"CPU-VS-GPU-(opencv)-3\"><span class=\"toc-item-num\">3&nbsp;&nbsp;</span>CPU VS GPU (opencv)</a></span><ul class=\"toc-item\"><li><span><a href=\"#Camera-Test\" data-toc-modified-id=\"Camera-Test-3.1\"><span class=\"toc-item-num\">3.1&nbsp;&nbsp;</span>Camera Test</a></span><ul class=\"toc-item\"><li><span><a href=\"#CSI-Camera(video0)\" data-toc-modified-id=\"CSI-Camera(video0)-3.1.1\"><span class=\"toc-item-num\">3.1.1&nbsp;&nbsp;</span>CSI Camera(video0)</a></span></li><li><span><a href=\"#USB-Camera-(video1)\" data-toc-modified-id=\"USB-Camera-(video1)-3.1.2\"><span class=\"toc-item-num\">3.1.2&nbsp;&nbsp;</span>USB Camera (video1)</a></span></li></ul></li></ul></li><li><span><a href=\"#GStreamer-Test\" data-toc-modified-id=\"GStreamer-Test-4\"><span class=\"toc-item-num\">4&nbsp;&nbsp;</span>GStreamer Test</a></span><ul class=\"toc-item\"><li><span><a href=\"#gstreamer-1.0\" data-toc-modified-id=\"gstreamer-1.0-4.1\"><span class=\"toc-item-num\">4.1&nbsp;&nbsp;</span>gstreamer-1.0</a></span></li><li><span><a href=\"#udp-sink\" data-toc-modified-id=\"udp-sink-4.2\"><span class=\"toc-item-num\">4.2&nbsp;&nbsp;</span>udp sink</a></span></li><li><span><a href=\"#shm-sink\" data-toc-modified-id=\"shm-sink-4.3\"><span class=\"toc-item-num\">4.3&nbsp;&nbsp;</span>shm sink</a></span></li><li><span><a href=\"#splitmux-sink\" data-toc-modified-id=\"splitmux-sink-4.4\"><span class=\"toc-item-num\">4.4&nbsp;&nbsp;</span>splitmux sink</a></span></li><li><span><a href=\"#tee-and-queue\" data-toc-modified-id=\"tee-and-queue-4.5\"><span class=\"toc-item-num\">4.5&nbsp;&nbsp;</span>tee and queue</a></span></li></ul></li><li><span><a href=\"#References\" data-toc-modified-id=\"References-5\"><span class=\"toc-item-num\">5&nbsp;&nbsp;</span>References</a></span></li><li><span><a href=\"#FAQs\" data-toc-modified-id=\"FAQs-6\"><span class=\"toc-item-num\">6&nbsp;&nbsp;</span>FAQs</a></span></li></ul></div>"
   ]
  },
  {
   "cell_type": "markdown",
   "metadata": {},
   "source": [
    "<div class=\"alert alert-warning\">\n",
    "<center>The Notebook Only Run On Jetson The Device</center>\n",
    "</div>"
   ]
  },
  {
   "cell_type": "code",
   "execution_count": 1,
   "metadata": {
    "deletable": false,
    "editable": false
   },
   "outputs": [],
   "source": [
    "notename = !uname -n\n",
    "if 'nano' != notename[0]:\n",
    "    raise RuntimeError('notebook server is not jetson device')"
   ]
  },
  {
   "cell_type": "markdown",
   "metadata": {
    "deletable": false,
    "editable": false
   },
   "source": [
    "## Load and Define Utils"
   ]
  },
  {
   "cell_type": "code",
   "execution_count": 2,
   "metadata": {
    "deletable": false,
    "editable": false
   },
   "outputs": [
    {
     "name": "stdout",
     "output_type": "stream",
     "text": [
      "numpy 1.19.4\n",
      "sklearn not installed\n",
      "pandas 0.22.0\n",
      "ipywidgets 6.0.0\n",
      "cv2 4.1.1\n",
      "PIL 5.1.0\n",
      "matplotlib 2.1.1\n",
      "plotly not installed\n",
      "netron not installed\n",
      "torch not installed\n",
      "torchvision not installed\n",
      "torchaudio not installed\n",
      "tensorflow 2.5.0+nv21.8\n",
      "tensorboard 2.6.0\n",
      "tflite not installed\n",
      "onnx 1.10.1\n",
      "tf2onnx not installed\n",
      "onnxruntime 1.8.1\n",
      "tensorrt 8.0.1.6\n",
      "tvm 0.8.dev0\n"
     ]
    },
    {
     "name": "stderr",
     "output_type": "stream",
     "text": [
      "/usr/lib/python3/dist-packages/ipykernel_launcher.py:11: UserWarning: Config option `use_jedi` not recognized by `IPCompleter`.\n",
      "  # This is added back by InteractiveShellApp.init_path()\n"
     ]
    },
    {
     "data": {
      "text/html": [
       "<style>.container { width:90% !important; }</style>"
      ],
      "text/plain": [
       "<IPython.core.display.HTML object>"
      ]
     },
     "metadata": {},
     "output_type": "display_data"
    }
   ],
   "source": [
    "%reload_ext watermark\n",
    "%reload_ext autoreload\n",
    "%autoreload 2\n",
    "%watermark -p numpy,sklearn,pandas\n",
    "%watermark -p ipywidgets,cv2,PIL,matplotlib,plotly,netron\n",
    "%watermark -p torch,torchvision,torchaudio\n",
    "%watermark -p tensorflow,tensorboard,tflite\n",
    "%watermark -p onnx,tf2onnx,onnxruntime,tensorrt,tvm\n",
    "%matplotlib inline\n",
    "%config InlineBackend.figure_format='retina'\n",
    "%config IPCompleter.use_jedi = False\n",
    "\n",
    "from IPython.display import display, Markdown, HTML, IFrame, Image, Javascript\n",
    "from IPython.core.magic import register_line_cell_magic, register_line_magic, register_cell_magic\n",
    "display(HTML('<style>.container { width:%d%% !important; }</style>' % 90))\n",
    "\n",
    "import sys, os, io, time, random, math\n",
    "import json, base64, requests, shutil\n",
    "import os.path as osp\n",
    "import numpy as np\n",
    "import argparse, shlex, signal\n",
    "import cv2, threading, queue\n",
    "\n",
    "argparse.ArgumentParser.exit = lambda *arg, **kwargs: _IGNORE_\n",
    "\n",
    "def _IMPORT(x):\n",
    "    try:\n",
    "        x = x.strip()\n",
    "        if x[0] == '/':\n",
    "            with open(x) as fr:\n",
    "                x = fr.read()\n",
    "        elif 'github' in x or 'gitee' in x:\n",
    "            if x.startswith('import '):\n",
    "                x = x[7:]\n",
    "            if x.startswith('https://'):\n",
    "                x = x[8:]\n",
    "            if not x.endswith('.py'):\n",
    "                x = x + '.py'\n",
    "            x = x.replace('blob/main/', '').replace('blob/master/', '')\n",
    "            if x.startswith('raw.githubusercontent.com'):\n",
    "                uri = 'https://' + x\n",
    "                x = requests.get(uri)\n",
    "                if x.status_code == 200:\n",
    "                    x = x.text\n",
    "            elif x.startswith('github.com'):\n",
    "                uri = x.replace('github.com', 'raw.githubusercontent.com')\n",
    "                mod = uri.split('/')\n",
    "                for s in ['main', 'master']:\n",
    "                    uri = 'https://' + '/'.join(mod[:3]) + s + '/'.join(mod[-3:])\n",
    "                    x = requests.get(uri)\n",
    "                    if x.status_code == 200:\n",
    "                        x = x.text\n",
    "                        break\n",
    "            elif x.startswith('gitee.com'):\n",
    "                mod = x.split('/')\n",
    "                for s in ['/raw/main/', '/raw/master/']:\n",
    "                    uri = 'https://' + '/'.join(mod[:3]) + s + '/'.join(mod[3:])\n",
    "                    x = requests.get(uri)\n",
    "                    if x.status_code == 200:\n",
    "                        x = x.text\n",
    "                        break\n",
    "        exec(x, globals())\n",
    "    except:\n",
    "        pass\n",
    "\n",
    "def _DIR(x, dumps=True, ret=True):\n",
    "    attrs = sorted([y for y in dir(x) if not y.startswith('_')])\n",
    "    result = '%s: %s' % (str(type(x))[8:-2], json.dumps(attrs) if dumps else attrs)\n",
    "    if ret:\n",
    "        return result\n",
    "    print(result)\n",
    "\n",
    "SCRIPT_DIR = '/home/nano/omega/jetson/scripts'"
   ]
  },
  {
   "cell_type": "markdown",
   "metadata": {
    "deletable": false,
    "editable": false
   },
   "source": [
    "### json encoder "
   ]
  },
  {
   "cell_type": "code",
   "execution_count": 3,
   "metadata": {
    "deletable": false,
    "editable": false
   },
   "outputs": [],
   "source": [
    "import json, functools, datetime\n",
    "class __JsonEncoder(json.JSONEncoder):\n",
    "    def default(self, obj):\n",
    "        if isinstance(obj, (datetime.datetime, datetime.timedelta)):\n",
    "            return '{}'.format(obj)\n",
    "        else:\n",
    "            return json.JSONEncoder.default(self, obj)\n",
    "\n",
    "json.dumps = functools.partial(json.dumps, cls=__JsonEncoder)"
   ]
  },
  {
   "cell_type": "markdown",
   "metadata": {
    "deletable": false,
    "editable": false
   },
   "source": [
    "### magic commands"
   ]
  },
  {
   "cell_type": "code",
   "execution_count": 4,
   "metadata": {
    "deletable": false,
    "editable": false
   },
   "outputs": [],
   "source": [
    "@register_line_magic\n",
    "def killall(line):\n",
    "    pid_list=!ps -eo pid,command | grep $line  | grep -v 'grep' | cut -c1-6\n",
    "    for pid in pid_list:\n",
    "        pid = pid.strip()\n",
    "        !kill -9 $pid\n"
   ]
  },
  {
   "cell_type": "markdown",
   "metadata": {
    "deletable": false,
    "editable": false
   },
   "source": [
    "### easy widget"
   ]
  },
  {
   "cell_type": "code",
   "execution_count": 5,
   "metadata": {
    "deletable": false,
    "editable": false
   },
   "outputs": [],
   "source": [
    "_IMPORT('https://gitee.com/qrsforever/nb_easy/easy_widget.py')\n",
    "\n",
    "def switch_play_video(context, btnwid, oldval, newval, framecntwid, gstwid, frameimgwid):\n",
    "    def _video_cap_loop():\n",
    "        context.logger(\"Open GStreamer ... %s\" % gstwid.value)\n",
    "        try:\n",
    "            cap = cv2.VideoCapture(gstwid.value, cv2.CAP_GSTREAMER)\n",
    "            if cap.isOpened():\n",
    "                context.logger('GStreamer is Opened!')\n",
    "                count = 0\n",
    "                while btnwid.value and count < framecntwid.value:\n",
    "                    retval, frame = cap.read()\n",
    "                    if retval:\n",
    "                        frameimgwid.value = bytes(cv2.imencode(ext='.jpeg', img=frame)[1])\n",
    "                    else:\n",
    "                        context.logger('Read Frame is Timeout!')\n",
    "                        break\n",
    "                    count += 1\n",
    "            btnwid.value = False\n",
    "            context.logger('GStreamer is Stopped!')\n",
    "        except Exception as err:\n",
    "            context.logger('%s' % err)\n",
    "        finally:\n",
    "            if cap.isOpened():\n",
    "                cap.release()\n",
    "    if newval:\n",
    "        framecntwid.disabled = True\n",
    "        btnwid.icon = 'stop-circle'\n",
    "        btnwid.description = 'Stop'\n",
    "        context.logger('Start Thread... ')\n",
    "        threading.Thread(target=_video_cap_loop, args=()).start()\n",
    "    else:\n",
    "        framecntwid.disabled = False\n",
    "        btnwid.icon = 'play'\n",
    "        btnwid.description= 'Start'\n",
    "        \n",
    "\n",
    "def get_play_schema(gst):\n",
    "     return {\n",
    "        'type': 'page',\n",
    "        'objs': [\n",
    "            {\n",
    "                'type': 'H',\n",
    "                'objs': [\n",
    "                    nbeasy_widget_togglebutton('switch_play', 'Start', icon='play'),\n",
    "                    nbeasy_widget_int('frame_count', 'Frame Count', default=300, min_=100, max_=900, width=150),\n",
    "                    nbeasy_widget_string('gst', 'GStreamer', gst, width='70%', readonly=True),\n",
    "                ]\n",
    "            },\n",
    "            {\n",
    "                'type': 'V',\n",
    "                'objs': [\n",
    "                    nbeasy_widget_image('frame_image', 'Image', '', format='jpeg')\n",
    "                ],\n",
    "                'align_items': 'center'\n",
    "            },\n",
    "            {\n",
    "                'type': 'observe',\n",
    "                'objs': [\n",
    "                    {\n",
    "                        'handler': switch_play_video,\n",
    "                        'params': {\n",
    "                            'source': 'switch_play',\n",
    "                            'targets': [\n",
    "                                'frame_count',\n",
    "                                'gst',\n",
    "                                'frame_image'\n",
    "                            ]\n",
    "                        }\n",
    "                    },\n",
    "                ]\n",
    "            }\n",
    "        ]\n",
    "    }\n",
    "\n",
    "# easy = nbeasy_schema_parse(get_play_schema(gst), debug=True);"
   ]
  },
  {
   "cell_type": "markdown",
   "metadata": {
    "deletable": false,
    "editable": false
   },
   "source": [
    "## System Tools and Info"
   ]
  },
  {
   "cell_type": "markdown",
   "metadata": {
    "deletable": false,
    "editable": false
   },
   "source": [
    "### jtop "
   ]
  },
  {
   "cell_type": "markdown",
   "metadata": {
    "deletable": false,
    "editable": false
   },
   "source": [
    "![](./nano_jtop_6.png)"
   ]
  },
  {
   "cell_type": "code",
   "execution_count": 6,
   "metadata": {
    "deletable": false,
    "editable": false
   },
   "outputs": [
    {
     "name": "stdout",
     "output_type": "stream",
     "text": [
      "Requirement already satisfied: jetson-stats in /usr/local/lib/python3.6/dist-packages (3.1.1)\n",
      "\u001b[33mWARNING: Running pip as the 'root' user can result in broken permissions and conflicting behaviour with the system package manager. It is recommended to use a virtual environment instead: https://pip.pypa.io/warnings/venv\u001b[0m\n",
      "\u001b[33mWARNING: You are using pip version 21.3; however, version 21.3.1 is available.\n",
      "You should consider upgrading via the '/usr/bin/python3 -m pip install --upgrade pip' command.\u001b[0m\n"
     ]
    }
   ],
   "source": [
    "! sudo -H pip3 install jetson-stats"
   ]
  },
  {
   "cell_type": "code",
   "execution_count": 7,
   "metadata": {
    "code_folding": [],
    "deletable": false,
    "editable": false
   },
   "outputs": [
    {
     "name": "stdout",
     "output_type": "stream",
     "text": [
      "{\n",
      "    \"time\": \"2021-11-03 15:47:53.786372\",\n",
      "    \"uptime\": \"0:56:25.160000\",\n",
      "    \"jetson_clocks\": \"OFF\",\n",
      "    \"nvp model\": \"MAXN\",\n",
      "    \"CPU1\": 13,\n",
      "    \"CPU2\": 1,\n",
      "    \"CPU3\": 2,\n",
      "    \"CPU4\": 10,\n",
      "    \"GPU\": 0,\n",
      "    \"RAM\": 983324,\n",
      "    \"EMC\": 983324,\n",
      "    \"IRAM\": 983324,\n",
      "    \"SWAP\": 0,\n",
      "    \"APE\": 25,\n",
      "    \"NVENC\": \"OFF\",\n",
      "    \"NVDEC\": \"OFF\",\n",
      "    \"NVJPG\": \"OFF\",\n",
      "    \"fan\": 100.0,\n",
      "    \"Temp AO\": 30.0,\n",
      "    \"Temp CPU\": 23.5,\n",
      "    \"Temp GPU\": 24.5,\n",
      "    \"Temp PLL\": 22.5,\n",
      "    \"Temp iwlwifi\": 29.0,\n",
      "    \"Temp thermal\": 24.25,\n",
      "    \"power cur\": 2340,\n",
      "    \"power avg\": 2213\n",
      "}\n"
     ]
    },
    {
     "data": {
      "text/plain": [
       "{'info': {'machine': 'NVIDIA Jetson Nano (Developer Kit Version)', 'jetpack': '4.6', 'L4T': '32.6.1'}, 'hardware': {'TYPE': 'Nano (Developer Kit Version)', 'CODENAME': 'porg', 'SOC': 'tegra210', 'CHIP_ID': '33', 'BOARDIDS': '3448', 'MODULE': 'P3448-0000', 'BOARD': 'P3449-0000', 'CUDA_ARCH_BIN': '5.3', 'SERIAL_NUMBER': '1423721001582'}, 'libraries': {'CUDA': '10.2.300', 'cuDNN': '8.2.1.32', 'TensorRT': '8.0.1.6', 'VisionWorks': '1.6.0.501', 'OpenCV': '4.1.1', 'OpenCV-Cuda': 'NO', 'VPI': 'ii libnvvpi1 1.1.11 arm64 NVIDIA Vision Programming Interface library', 'Vulkan': '1.2.70'}}"
      ]
     },
     "execution_count": 7,
     "metadata": {},
     "output_type": "execute_result"
    }
   ],
   "source": [
    "from jtop import jtop\n",
    "with jtop() as jetson:\n",
    "    if jetson.ok():\n",
    "        print(json.dumps(jetson.stats, indent=4))\n",
    "jetson.board"
   ]
  },
  {
   "cell_type": "code",
   "execution_count": 8,
   "metadata": {
    "deletable": false,
    "editable": false
   },
   "outputs": [
    {
     "data": {
      "text/plain": [
       "'5.3'"
      ]
     },
     "execution_count": 8,
     "metadata": {},
     "output_type": "execute_result"
    }
   ],
   "source": [
    "CUDA_ARCH_BIN = jetson.board.hardware.get('CUDA_ARCH_BIN')\n",
    "CUDA_ARCH_BIN"
   ]
  },
  {
   "cell_type": "markdown",
   "metadata": {
    "deletable": false,
    "editable": false
   },
   "source": [
    "### v4l-utils"
   ]
  },
  {
   "cell_type": "code",
   "execution_count": 9,
   "metadata": {
    "deletable": false,
    "editable": false
   },
   "outputs": [
    {
     "name": "stdout",
     "output_type": "stream",
     "text": [
      "Reading package lists... Done\n",
      "Building dependency tree       \n",
      "Reading state information... Done\n",
      "v4l-utils is already the newest version (1.14.2-1).\n",
      "0 upgraded, 0 newly installed, 0 to remove and 99 not upgraded.\n"
     ]
    }
   ],
   "source": [
    "! sudo apt install v4l-utils"
   ]
  },
  {
   "cell_type": "code",
   "execution_count": null,
   "metadata": {
    "deletable": false,
    "editable": false
   },
   "outputs": [],
   "source": [
    "# ! v4l2-ctl --help-all"
   ]
  },
  {
   "cell_type": "code",
   "execution_count": 10,
   "metadata": {
    "deletable": false,
    "editable": false
   },
   "outputs": [
    {
     "name": "stdout",
     "output_type": "stream",
     "text": [
      "vi-output, imx219 7-0010 (platform:54080000.vi:0):\r\n",
      "\t/dev/video0\r\n",
      "\r\n",
      "HIK 1080P Camera (usb-70090000.xusb-2.3):\r\n",
      "\t/dev/video1\r\n",
      "\r\n"
     ]
    }
   ],
   "source": [
    "! v4l2-ctl --list-devices"
   ]
  },
  {
   "cell_type": "code",
   "execution_count": 11,
   "metadata": {
    "deletable": false,
    "editable": false
   },
   "outputs": [
    {
     "name": "stdout",
     "output_type": "stream",
     "text": [
      "ioctl: VIDIOC_ENUM_FMT\r\n",
      "\tIndex       : 0\r\n",
      "\tType        : Video Capture\r\n",
      "\tPixel Format: 'RG10'\r\n",
      "\tName        : 10-bit Bayer RGRG/GBGB\r\n",
      "\t\tSize: Discrete 3264x2464\r\n",
      "\t\t\tInterval: Discrete 0.048s (21.000 fps)\r\n",
      "\t\tSize: Discrete 3264x1848\r\n",
      "\t\t\tInterval: Discrete 0.036s (28.000 fps)\r\n",
      "\t\tSize: Discrete 1920x1080\r\n",
      "\t\t\tInterval: Discrete 0.033s (30.000 fps)\r\n",
      "\t\tSize: Discrete 1640x1232\r\n",
      "\t\t\tInterval: Discrete 0.033s (30.000 fps)\r\n",
      "\t\tSize: Discrete 1280x720\r\n",
      "\t\t\tInterval: Discrete 0.017s (60.000 fps)\r\n",
      "\r\n"
     ]
    }
   ],
   "source": [
    "! v4l2-ctl -d /dev/video0 --list-formats-ext"
   ]
  },
  {
   "cell_type": "code",
   "execution_count": 12,
   "metadata": {
    "deletable": false,
    "editable": false
   },
   "outputs": [
    {
     "name": "stdout",
     "output_type": "stream",
     "text": [
      "ioctl: VIDIOC_ENUM_FMT\r\n",
      "\tIndex       : 0\r\n",
      "\tType        : Video Capture\r\n",
      "\tPixel Format: 'MJPG' (compressed)\r\n",
      "\tName        : Motion-JPEG\r\n",
      "\t\tSize: Discrete 640x480\r\n",
      "\t\t\tInterval: Discrete 0.033s (30.000 fps)\r\n",
      "\t\t\tInterval: Discrete 0.040s (25.000 fps)\r\n",
      "\t\tSize: Discrete 1920x1080\r\n",
      "\t\t\tInterval: Discrete 0.033s (30.000 fps)\r\n",
      "\t\t\tInterval: Discrete 0.040s (25.000 fps)\r\n",
      "\t\tSize: Discrete 1280x960\r\n",
      "\t\t\tInterval: Discrete 0.033s (30.000 fps)\r\n",
      "\t\t\tInterval: Discrete 0.040s (25.000 fps)\r\n",
      "\t\tSize: Discrete 1280x720\r\n",
      "\t\t\tInterval: Discrete 0.033s (30.000 fps)\r\n",
      "\t\t\tInterval: Discrete 0.040s (25.000 fps)\r\n",
      "\t\tSize: Discrete 640x480\r\n",
      "\t\t\tInterval: Discrete 0.033s (30.000 fps)\r\n",
      "\t\t\tInterval: Discrete 0.040s (25.000 fps)\r\n",
      "\r\n",
      "\tIndex       : 1\r\n",
      "\tType        : Video Capture\r\n",
      "\tPixel Format: 'YUYV'\r\n",
      "\tName        : YUYV 4:2:2\r\n",
      "\t\tSize: Discrete 640x480\r\n",
      "\t\t\tInterval: Discrete 0.033s (30.000 fps)\r\n",
      "\t\tSize: Discrete 1920x1080\r\n",
      "\t\t\tInterval: Discrete 0.200s (5.000 fps)\r\n",
      "\t\tSize: Discrete 1280x960\r\n",
      "\t\t\tInterval: Discrete 0.100s (10.000 fps)\r\n",
      "\t\tSize: Discrete 1280x720\r\n",
      "\t\t\tInterval: Discrete 0.067s (15.000 fps)\r\n",
      "\t\tSize: Discrete 640x480\r\n",
      "\t\t\tInterval: Discrete 0.033s (30.000 fps)\r\n",
      "\r\n"
     ]
    }
   ],
   "source": [
    "! v4l2-ctl -d /dev/video1 --list-formats-ext"
   ]
  },
  {
   "cell_type": "markdown",
   "metadata": {
    "deletable": false,
    "editable": false
   },
   "source": [
    "### opencv"
   ]
  },
  {
   "cell_type": "code",
   "execution_count": 13,
   "metadata": {
    "code_folding": [],
    "deletable": false,
    "editable": false
   },
   "outputs": [
    {
     "name": "stdout",
     "output_type": "stream",
     "text": [
      "Overwriting /home/nano/omega/jetson/scripts/install_opencv_cuda.sh\n"
     ]
    }
   ],
   "source": [
    "%%writefile $SCRIPT_DIR/install_opencv_cuda.sh\n",
    "\n",
    "OPENCV_VER=4.1.1\n",
    "CUDA_ARCH_BIN=5.3\n",
    "OPENCV_ROOT=/home/nano/omega/jetson/opencv/\n",
    "\n",
    "sudo apt-get install -y build-essential cmake git unzip pkg-config\n",
    "sudo apt-get install -y libjpeg-dev libpng-dev libtiff-dev\n",
    "sudo apt-get install -y libavcodec-dev libavformat-dev libswscale-dev\n",
    "sudo apt-get install -y libgtk2.0-dev libcanberra-gtk*\n",
    "sudo apt-get install -y python3-dev python3-numpy python3-pip\n",
    "sudo apt-get install -y libxvidcore-dev libx264-dev libgtk-3-dev\n",
    "sudo apt-get install -y libtbb2 libtbb-dev libdc1394-22-dev\n",
    "sudo apt-get install -y libv4l-dev v4l-utils\n",
    "sudo apt-get install -y libgstreamer1.0-dev libgstreamer-plugins-base1.0-dev\n",
    "sudo apt-get install -y libavresample-dev libvorbis-dev libxine2-dev\n",
    "sudo apt-get install -y libfaac-dev libmp3lame-dev libtheora-dev\n",
    "sudo apt-get install -y libopencore-amrnb-dev libopencore-amrwb-dev\n",
    "sudo apt-get install -y libopenblas-dev libatlas-base-dev libblas-dev\n",
    "sudo apt-get install -y liblapack-dev libeigen3-dev gfortran\n",
    "sudo apt-get install -y libhdf5-dev protobuf-compiler\n",
    "sudo apt-get install -y libprotobuf-dev libgoogle-glog-dev libgflags-dev\n",
    "\n",
    "\n",
    "cd $OPENCV_ROOT\n",
    "\n",
    "wget -O opencv.zip https://github.91chifun.workers.dev/https://github.com//opencv/opencv/archive/refs/tags/$OPENCV_VER.zip\n",
    "wget -O opencv_contrib.zip  https://github.91chifun.workers.dev/https://github.com//opencv/opencv_contrib/archive/refs/tags/$OPENCV_VER.zip\n",
    "        \n",
    "unzip opencv.zip\n",
    "unzip opencv_contrib.zip\n",
    "\n",
    "rm -f opencv.zip opencv_contrib.zip\n",
    "\n",
    "cd opencv-$OPENCV_VER\n",
    "mkdir build\n",
    "cd build\n",
    "cmake -D CMAKE_BUILD_TYPE=RELEASE \\\n",
    "    -D CMAKE_INSTALL_PREFIX=/usr \\\n",
    "    -D OPENCV_EXTRA_MODULES_PATH=$OPENCV_ROOT/opencv_contrib-$OPENCV_VER/modules \\\n",
    "    -D EIGEN_INCLUDE_PATH=/usr/include/eigen3 \\\n",
    "    -D WITH_OPENCL=OFF \\\n",
    "    -D WITH_CUDA=ON \\\n",
    "    -D CUDA_ARCH_BIN=$CUDA_ARCH_BIN \\\n",
    "    -D CUDA_ARCH_PTX=\"\" \\\n",
    "    -D WITH_CUDNN=ON \\\n",
    "    -D WITH_CUBLAS=ON \\\n",
    "    -D ENABLE_FAST_MATH=ON \\\n",
    "    -D CUDA_FAST_MATH=ON \\\n",
    "    -D OPENCV_DNN_CUDA=ON \\\n",
    "    -D ENABLE_NEON=ON \\\n",
    "    -D WITH_QT=OFF \\\n",
    "    -D WITH_OPENMP=ON \\\n",
    "    -D WITH_OPENGL=ON \\\n",
    "    -D BUILD_TIFF=ON \\\n",
    "    -D WITH_FFMPEG=ON \\\n",
    "    -D WITH_GSTREAMER=ON \\\n",
    "    -D WITH_TBB=ON \\\n",
    "    -D BUILD_TBB=ON \\\n",
    "    -D BUILD_TESTS=OFF \\\n",
    "    -D WITH_EIGEN=ON \\\n",
    "    -D WITH_V4L=ON \\\n",
    "    -D WITH_LIBV4L=ON \\\n",
    "    -D OPENCV_ENABLE_NONFREE=ON \\\n",
    "    -D INSTALL_C_EXAMPLES=OFF \\\n",
    "    -D INSTALL_PYTHON_EXAMPLES=OFF \\\n",
    "    -D BUILD_NEW_PYTHON_SUPPORT=ON \\\n",
    "    -D BUILD_opencv_python3=TRUE \\\n",
    "    -D OPENCV_GENERATE_PKGCONFIG=ON \\\n",
    "    -D BUILD_EXAMPLES=OFF ..\n",
    "    \n",
    "make -j$(nproc) && sudo make install && sudo ldconfig"
   ]
  },
  {
   "cell_type": "code",
   "execution_count": 14,
   "metadata": {
    "deletable": false,
    "editable": false,
    "scrolled": false
   },
   "outputs": [
    {
     "name": "stdout",
     "output_type": "stream",
     "text": [
      "\n",
      "General configuration for OpenCV 4.1.1 =====================================\n",
      "  Version control:               4.1.1-2-gd5a58aa75\n",
      "\n",
      "  Platform:\n",
      "    Timestamp:                   2019-12-13T17:25:11Z\n",
      "    Host:                        Linux 4.9.140-tegra aarch64\n",
      "    CMake:                       3.10.2\n",
      "    CMake generator:             Unix Makefiles\n",
      "    CMake build tool:            /usr/bin/make\n",
      "    Configuration:               Release\n",
      "\n",
      "  CPU/HW features:\n",
      "    Baseline:                    NEON FP16\n",
      "      required:                  NEON\n",
      "      disabled:                  VFPV3\n",
      "\n",
      "  C/C++:\n",
      "    Built as dynamic libs?:      YES\n",
      "    C++ Compiler:                /usr/bin/c++  (ver 7.4.0)\n",
      "    C++ flags (Release):         -fsigned-char -W -Wall -Werror=return-type -Werror=non-virtual-dtor -Werror=address -Werror=sequence-point -Wformat -Werror=format-security -Wmissing-declarations -Wundef -Winit-self -Wpointer-arith -Wshadow -Wsign-promo -Wuninitialized -Winit-self -Wsuggest-override -Wno-delete-non-virtual-dtor -Wno-comment -Wimplicit-fallthrough=3 -Wno-strict-overflow -fdiagnostics-show-option -pthread -fomit-frame-pointer -ffunction-sections -fdata-sections    -fvisibility=hidden -fvisibility-inlines-hidden -O3 -DNDEBUG  -DNDEBUG\n",
      "    C++ flags (Debug):           -fsigned-char -W -Wall -Werror=return-type -Werror=non-virtual-dtor -Werror=address -Werror=sequence-point -Wformat -Werror=format-security -Wmissing-declarations -Wundef -Winit-self -Wpointer-arith -Wshadow -Wsign-promo -Wuninitialized -Winit-self -Wsuggest-override -Wno-delete-non-virtual-dtor -Wno-comment -Wimplicit-fallthrough=3 -Wno-strict-overflow -fdiagnostics-show-option -pthread -fomit-frame-pointer -ffunction-sections -fdata-sections    -fvisibility=hidden -fvisibility-inlines-hidden -g  -O0 -DDEBUG -D_DEBUG\n",
      "    C Compiler:                  /usr/bin/cc\n",
      "    C flags (Release):           -fsigned-char -W -Wall -Werror=return-type -Werror=non-virtual-dtor -Werror=address -Werror=sequence-point -Wformat -Werror=format-security -Wmissing-declarations -Wmissing-prototypes -Wstrict-prototypes -Wundef -Winit-self -Wpointer-arith -Wshadow -Wuninitialized -Winit-self -Wno-comment -Wimplicit-fallthrough=3 -Wno-strict-overflow -fdiagnostics-show-option -pthread -fomit-frame-pointer -ffunction-sections -fdata-sections    -fvisibility=hidden -O3 -DNDEBUG  -DNDEBUG\n",
      "    C flags (Debug):             -fsigned-char -W -Wall -Werror=return-type -Werror=non-virtual-dtor -Werror=address -Werror=sequence-point -Wformat -Werror=format-security -Wmissing-declarations -Wmissing-prototypes -Wstrict-prototypes -Wundef -Winit-self -Wpointer-arith -Wshadow -Wuninitialized -Winit-self -Wno-comment -Wimplicit-fallthrough=3 -Wno-strict-overflow -fdiagnostics-show-option -pthread -fomit-frame-pointer -ffunction-sections -fdata-sections    -fvisibility=hidden -g  -O0 -DDEBUG -D_DEBUG\n",
      "    Linker flags (Release):      -Wl,--gc-sections  \n",
      "    Linker flags (Debug):        -Wl,--gc-sections  \n",
      "    ccache:                      NO\n",
      "    Precompiled headers:         NO\n",
      "    Extra dependencies:          dl m pthread rt\n",
      "    3rdparty dependencies:\n",
      "\n",
      "  OpenCV modules:\n",
      "    To be built:                 calib3d core dnn features2d flann gapi highgui imgcodecs imgproc ml objdetect photo python2 python3 stitching ts video videoio\n",
      "    Disabled:                    world\n",
      "    Disabled by dependency:      -\n",
      "    Unavailable:                 java js\n",
      "    Applications:                tests perf_tests examples apps\n",
      "    Documentation:               NO\n",
      "    Non-free algorithms:         NO\n",
      "\n",
      "  GUI: \n",
      "    GTK+:                        YES (ver 2.24.32)\n",
      "      GThread :                  YES (ver 2.56.4)\n",
      "      GtkGlExt:                  NO\n",
      "\n",
      "  Media I/O: \n",
      "    ZLib:                        /usr/lib/aarch64-linux-gnu/libz.so (ver 1.2.11)\n",
      "    JPEG:                        /usr/lib/aarch64-linux-gnu/libjpeg.so (ver 80)\n",
      "    WEBP:                        build (ver encoder: 0x020e)\n",
      "    PNG:                         /usr/lib/aarch64-linux-gnu/libpng.so (ver 1.6.34)\n",
      "    TIFF:                        /usr/lib/aarch64-linux-gnu/libtiff.so (ver 42 / 4.0.9)\n",
      "    JPEG 2000:                   build (ver 1.900.1)\n",
      "    HDR:                         YES\n",
      "    SUNRASTER:                   YES\n",
      "    PXM:                         YES\n",
      "    PFM:                         YES\n",
      "\n",
      "  Video I/O:\n",
      "    FFMPEG:                      YES\n",
      "      avcodec:                   YES (57.107.100)\n",
      "      avformat:                  YES (57.83.100)\n",
      "      avutil:                    YES (55.78.100)\n",
      "      swscale:                   YES (4.8.100)\n",
      "      avresample:                NO\n",
      "    GStreamer:                   YES (1.14.5)\n",
      "    v4l/v4l2:                    YES (linux/videodev2.h)\n",
      "\n",
      "  Parallel framework:            TBB (ver 2017.0 interface 9107)\n",
      "\n",
      "  Trace:                         YES (with Intel ITT)\n",
      "\n",
      "  Other third-party libraries:\n",
      "    Lapack:                      NO\n",
      "    Eigen:                       YES (ver 3.3.4)\n",
      "    Custom HAL:                  YES (carotene (ver 0.0.1))\n",
      "    Protobuf:                    build (3.5.1)\n",
      "\n",
      "  Python 2:\n",
      "    Interpreter:                 /usr/bin/python2.7 (ver 2.7.15)\n",
      "    Libraries:                   /usr/lib/aarch64-linux-gnu/libpython2.7.so (ver 2.7.15+)\n",
      "    numpy:                       /usr/lib/python2.7/dist-packages/numpy/core/include (ver 1.13.3)\n",
      "    install path:                lib/python2.7/dist-packages/cv2/python-2.7\n",
      "\n",
      "  Python 3:\n",
      "    Interpreter:                 /usr/bin/python3 (ver 3.6.9)\n",
      "    Libraries:                   /usr/lib/aarch64-linux-gnu/libpython3.6m.so (ver 3.6.9)\n",
      "    numpy:                       /usr/lib/python3/dist-packages/numpy/core/include (ver 1.13.3)\n",
      "    install path:                lib/python3.6/dist-packages/cv2/python-3.6\n",
      "\n",
      "  Python (for build):            /usr/bin/python2.7\n",
      "\n",
      "  Java:                          \n",
      "    ant:                         NO\n",
      "    JNI:                         NO\n",
      "    Java wrappers:               NO\n",
      "    Java tests:                  NO\n",
      "\n",
      "  Install to:                    /usr\n",
      "-----------------------------------------------------------------\n",
      "\n",
      "\n"
     ]
    }
   ],
   "source": [
    "print(cv2.getBuildInformation())"
   ]
  },
  {
   "cell_type": "code",
   "execution_count": 15,
   "metadata": {
    "deletable": false,
    "editable": false,
    "scrolled": true
   },
   "outputs": [
    {
     "name": "stdout",
     "output_type": "stream",
     "text": [
      "ii  libopencv                             4.1.1-2-gd5a58aa75      arm64                   Open Computer Vision Library\r\n",
      "ii  libopencv-core3.2:arm64               3.2.0+dfsg-4ubuntu0.1   arm64                   computer vision core library\r\n",
      "ii  libopencv-dev                         4.1.1-2-gd5a58aa75      arm64                   Development files for Open Source Computer Vision Library\r\n",
      "ii  libopencv-python                      4.1.1-2-gd5a58aa75      arm64                   Python bindings for Open Source Computer Vision Library\r\n",
      "ii  libopencv-samples                     4.1.1-2-gd5a58aa75      arm64                   Samples for Open Source Computer Vision Library\r\n"
     ]
    }
   ],
   "source": [
    "!dpkg -l | grep -i libopencv "
   ]
  },
  {
   "cell_type": "markdown",
   "metadata": {
    "deletable": false,
    "editable": false
   },
   "source": [
    "### others"
   ]
  },
  {
   "cell_type": "markdown",
   "metadata": {
    "deletable": false,
    "editable": false
   },
   "source": [
    "#### nvpmodel: set nvidia power mode"
   ]
  },
  {
   "cell_type": "code",
   "execution_count": 16,
   "metadata": {
    "deletable": false,
    "editable": false
   },
   "outputs": [],
   "source": [
    "! sudo nvpmodel -m 0"
   ]
  },
  {
   "cell_type": "code",
   "execution_count": 17,
   "metadata": {
    "deletable": false,
    "editable": false
   },
   "outputs": [
    {
     "name": "stdout",
     "output_type": "stream",
     "text": [
      "NVPM WARN: fan mode is not set!\r\n",
      "NV Power Mode: MAXN\r\n",
      "0\r\n"
     ]
    }
   ],
   "source": [
    "! sudo nvpmodel -q"
   ]
  },
  {
   "cell_type": "markdown",
   "metadata": {
    "deletable": false,
    "editable": false
   },
   "source": [
    "#### power fan"
   ]
  },
  {
   "cell_type": "code",
   "execution_count": 18,
   "metadata": {
    "deletable": false,
    "editable": false
   },
   "outputs": [
    {
     "name": "stdout",
     "output_type": "stream",
     "text": [
      "Overwriting /home/nano/omega/jetson/scripts/local.rc\n"
     ]
    }
   ],
   "source": [
    "%%writefile $SCRIPT_DIR/local.rc\n",
    "\n",
    "sudo /usr/bin/jetson_clocks\n",
    "\n",
    "# start\n",
    "sudo sh -c 'echo 255 > /sys/devices/pwm-fan/target_pwm'\n",
    "# stop\n",
    "# sudo sh -c 'echo 0 >/sys/devices/pwm-fan/target_pwm'"
   ]
  },
  {
   "cell_type": "markdown",
   "metadata": {
    "deletable": false,
    "editable": false
   },
   "source": [
    "#### desktop (not required)"
   ]
  },
  {
   "cell_type": "markdown",
   "metadata": {
    "deletable": false,
    "editable": false
   },
   "source": [
    "```sh\n",
    "\n",
    "# 安装桌面\n",
    "sudo apt install xubuntu-desktop\n",
    "sudo dpkg-reconfigure lightdm\n",
    "\n",
    "# 关闭图形用户界面\n",
    "sudo systemctl set-default multi-user.target\n",
    "sudo reboot\n",
    " \n",
    "# 启用图形用户界面\n",
    "sudo systemctl set-default graphical.target\n",
    "sudo reboot\n",
    "\n",
    "sudo init 3 # 临时关闭桌面\n",
    "sudo init 5 # 临时重启桌面\n",
    "\n",
    "```\n",
    "\n",
    "```sh\n",
    "# 删除桌面\n",
    "sudo apt autoremove --purge $( dpkg-query -l *xubuntu* | grep ii | tr -s \" \" | cut -d\" \" -f2; dpkg-query -l *xfce* | grep 'ii' | tr -s \" \" | cut -d\" \" -f2 )\n",
    "sudo apt autoremove --purge lightdm\n",
    "```"
   ]
  },
  {
   "cell_type": "markdown",
   "metadata": {
    "deletable": false,
    "editable": false
   },
   "source": [
    "#### nvargus-daemon"
   ]
  },
  {
   "cell_type": "markdown",
   "metadata": {
    "deletable": false,
    "editable": false
   },
   "source": [
    "```sh\n",
    "sudo systemctl stop nvargus-daemon\n",
    "export enableCamScfLogs=5\n",
    "sudo /usr/sbin/nvargus-daemon\n",
    "```"
   ]
  },
  {
   "cell_type": "markdown",
   "metadata": {
    "deletable": false,
    "editable": false
   },
   "source": [
    "#### docker dli"
   ]
  },
  {
   "cell_type": "code",
   "execution_count": 19,
   "metadata": {
    "deletable": false,
    "editable": false
   },
   "outputs": [
    {
     "name": "stdout",
     "output_type": "stream",
     "text": [
      "Overwriting /home/nano/omega/jetson/scripts/docker_dli_run.sh\n"
     ]
    }
   ],
   "source": [
    "%%writefile $SCRIPT_DIR/docker_dli_run.sh\n",
    "\n",
    "VERSION=v2.0.1-r32.6.1\n",
    "\n",
    "ARGS=\n",
    "\n",
    "if [[ -e /dev/video0 ]] \n",
    "then\n",
    "    ARGS=\"$ARGS --device /dev/video0\"\n",
    "fi\n",
    "\n",
    "if [[ -e /dev/video1 ]] \n",
    "then\n",
    "    ARGS=\"$ARGS --device /dev/video1\"\n",
    "fi\n",
    "\n",
    "sudo docker run --runtime nvidia -it --rm --network host \\\n",
    "    --volume ~/nvdli-data:/nvdli-nano/data \\\n",
    "    --volume /tmp/argus_socket:/tmp/argus_socket \\\n",
    "    $ARGS \\\n",
    "    nvcr.io/nvidia/dli/dli-nano-ai:$VERSION"
   ]
  },
  {
   "cell_type": "markdown",
   "metadata": {
    "deletable": false,
    "editable": false
   },
   "source": [
    "#### Install Jetcam"
   ]
  },
  {
   "cell_type": "markdown",
   "metadata": {
    "deletable": false,
    "editable": false
   },
   "source": [
    "```sh \n",
    "git clone https://github.com/NVIDIA-AI-IOT/jetcam\n",
    "cd jetcam\n",
    "sudo python3 setup.py install\n",
    "```\n",
    "<div style=\"margin-top:30px; width: 100%;\">\n",
    "    <div style=\"float:left;\">\n",
    "        <a\n",
    "           title=\"JetCam GITHUB\"\n",
    "           href=\"https://github.com/NVIDIA-AI-IOT/jetcam\"\n",
    "           style=\"color:blue;font-size:28px;text-decoration:none;\">\n",
    "                &#128279;\n",
    "        </a>\n",
    "    </div>\n",
    "</div>"
   ]
  },
  {
   "cell_type": "markdown",
   "metadata": {
    "deletable": false,
    "editable": false
   },
   "source": [
    "## CPU VS GPU (opencv)"
   ]
  },
  {
   "cell_type": "code",
   "execution_count": 20,
   "metadata": {
    "deletable": false,
    "editable": false
   },
   "outputs": [
    {
     "name": "stdout",
     "output_type": "stream",
     "text": [
      "Overwriting /home/nano/opencv_cpu_vs_gpu.py\n"
     ]
    }
   ],
   "source": [
    "%%writefile /home/nano/opencv_cpu_vs_gpu.py\n",
    "\n",
    "import sys\n",
    "import time\n",
    "\n",
    "### VALUES\n",
    "NUM_REPEAT = 10000\n",
    "\n",
    "if cv2.cuda.getCudaEnabledDeviceCount() == 0:\n",
    "    raise RuntimeError('opencv not enable cuda')\n",
    "\n",
    "### Read source image\n",
    "img_src = im_read(\"https://raceai.s3.didiyunapi.com/data/datasets/cv/Dinner_plate/blue/blue1.jpg\")\n",
    "\n",
    "### Run with CPU\n",
    "time_start = time.time()\n",
    "for i in range (NUM_REPEAT):\n",
    "    img_dst = cv2.resize(img_src, (300, 300))\n",
    "time_end = time.time()\n",
    "print(\"CPU = {0}\".format((time_end - time_start) * 1000 / NUM_REPEAT) + \"[msec]\")\n",
    "\n",
    "### Run with GPU\n",
    "img_gpu_src = cv2.cuda_GpuMat() # Allocate device memory only once, as memory allocation seems to take time...\n",
    "img_gpu_dst = cv2.cuda_GpuMat()\n",
    "time_start = time.time()\n",
    "for i in range (NUM_REPEAT):\n",
    "    img_gpu_src.upload(img_src)\n",
    "    img_gpu_dst = cv2.cuda.resize(img_gpu_src, (300, 300))\n",
    "    img_dst = img_gpu_dst.download()\n",
    "time_end = time.time()\n",
    "print(\"GPU = {0}\".format((time_end - time_start) * 1000 / NUM_REPEAT) + \"[msec]\") "
   ]
  },
  {
   "cell_type": "markdown",
   "metadata": {
    "deletable": false,
    "editable": false
   },
   "source": [
    "### Camera Test"
   ]
  },
  {
   "cell_type": "markdown",
   "metadata": {
    "deletable": false,
    "editable": false
   },
   "source": [
    "#### CSI Camera(video0)"
   ]
  },
  {
   "cell_type": "code",
   "execution_count": 21,
   "metadata": {
    "deletable": false,
    "editable": false
   },
   "outputs": [],
   "source": [
    "%killall gst-launch"
   ]
  },
  {
   "cell_type": "code",
   "execution_count": 22,
   "metadata": {
    "deletable": false,
    "editable": false
   },
   "outputs": [
    {
     "data": {
      "application/vnd.jupyter.widget-view+json": {
       "model_id": "2861422539f143508e49d4ae1f84576a"
      }
     },
     "metadata": {},
     "output_type": "display_data"
    }
   ],
   "source": [
    "csi_pipelines = [\n",
    "    \"nvarguscamerasrc sensor-id=0 sensor-mode=4 do-timestamp=true\",\n",
    "    \"video/x-raw(memory:NVMM), width=640, height=480, format=(string)NV12, framerate=(fraction)30/1\",\n",
    "    \"nvvidconv flip-method=6\",\n",
    "    \"video/x-raw, width=(int)640, height=(int)480, format=(string)BGRx\",\n",
    "    \"videoconvert\",\n",
    "    'textoverlay halignment=0 valignment=2 text=TalentAI',\n",
    "    'clockoverlay halignment=2 time-format=\"%Y/%m/%d %H:%M:%S\"',\n",
    "    \"appsink\"\n",
    "]\n",
    "\n",
    "easy = nbeasy_schema_parse(get_play_schema(\" ! \".join(csi_pipelines)), debug=True);"
   ]
  },
  {
   "cell_type": "markdown",
   "metadata": {
    "deletable": false,
    "editable": false
   },
   "source": [
    "#### USB Camera (video1)"
   ]
  },
  {
   "cell_type": "code",
   "execution_count": 23,
   "metadata": {
    "deletable": false,
    "editable": false
   },
   "outputs": [],
   "source": [
    "%killall gst-launch"
   ]
  },
  {
   "cell_type": "code",
   "execution_count": 24,
   "metadata": {
    "deletable": false,
    "editable": false
   },
   "outputs": [
    {
     "data": {
      "application/vnd.jupyter.widget-view+json": {
       "model_id": "91a829349e9147f18d06dcad8ebc7ec5"
      }
     },
     "metadata": {},
     "output_type": "display_data"
    }
   ],
   "source": [
    "usb_pipelines = [\n",
    "    'v4l2src device=/dev/video1 do-timestamp=true',\n",
    "    'video/x-raw, width=(int)640, height=(int)480, framerate=(fraction)30/1',\n",
    "    'videoconvert',\n",
    "    'video/x-raw, format=(string)BGR',\n",
    "    'videoflip video-direction=4',\n",
    "    'textoverlay halignment=0 valignment=2 text=TalentAI',\n",
    "    'clockoverlay halignment=2 time-format=\"%Y/%m/%d %H:%M:%S\"',\n",
    "    'appsink'\n",
    "]\n",
    "\n",
    "easy = nbeasy_schema_parse(get_play_schema(\" ! \".join(usb_pipelines)), debug=True);"
   ]
  },
  {
   "cell_type": "markdown",
   "metadata": {
    "deletable": false,
    "editable": false
   },
   "source": [
    "## GStreamer Test "
   ]
  },
  {
   "cell_type": "markdown",
   "metadata": {
    "deletable": false,
    "editable": false
   },
   "source": [
    "### gstreamer-1.0"
   ]
  },
  {
   "cell_type": "markdown",
   "metadata": {
    "deletable": false,
    "editable": false
   },
   "source": [
    "<div style=\"margin-top:30px; width: 100%;\">\n",
    "    <div style=\"float:left;\">\n",
    "        <a\n",
    "           title=\"Install\"\n",
    "           href=\"https://docs.nvidia.com/jetson/l4t/index.html#page/Tegra%20Linux%20Driver%20Package%20Development%20Guide/accelerated_gstreamer.html#wwpID0E0R40HA\"\n",
    "           style=\"color:blue;font-size:28px;text-decoration:none;\">\n",
    "                &#128279; nvidia gstreamer\n",
    "        </a>\n",
    "    </div>\n",
    "    <div style=\"float:left;\">\n",
    "        <a\n",
    "           title=\"gst inspect\"\n",
    "           href=\"https://gstreamer.freedesktop.org/documentation/tools/gst-inspect.html?gi-language=python\"\n",
    "           style=\"color:blue;font-size:28px;text-decoration:none;\">\n",
    "                &#128279; gst-inspect-1.0\n",
    "        </a>\n",
    "    </div>\n",
    "</div>"
   ]
  },
  {
   "cell_type": "code",
   "execution_count": 25,
   "metadata": {
    "deletable": false,
    "editable": false
   },
   "outputs": [],
   "source": [
    "# ! gst-inspect-1.0 --help-all\n",
    "# ! gst-inspect-1.0 | grep 'nvdec\\|nvenc'\n",
    "# ! gst-inspect-1.0 v4l2src\n",
    "# ! gst-inspect-1.0 timeoverlay\n",
    "# ! gst-inspect-1.0 clockoverlay\n",
    "# ! gst-inspect-1.0 videoflip"
   ]
  },
  {
   "cell_type": "code",
   "execution_count": 26,
   "metadata": {
    "deletable": false,
    "editable": false,
    "scrolled": true
   },
   "outputs": [
    {
     "name": "stdout",
     "output_type": "stream",
     "text": [
      "Overwriting /home/nano/omega/jetson/scripts/gst_cmd_demo.txt\n"
     ]
    }
   ],
   "source": [
    "%%writefile $SCRIPT_DIR/gst_cmd_demo.txt\n",
    "\n",
    "gst-launch-1.0 -vvv nvarguscamerasrc sensor-id=0 num-buffers=120 \\\n",
    "     ! \"video/x-raw(memory:NVMM), width=640, height=480, format=(string)NV12, framerate=(fraction)30/1\" \\\n",
    "     ! nvvidconv \\\n",
    "     ! \"video/x-raw, width=(int)224, height=(int)224, format=(string)BGRx\" \\\n",
    "     ! videoconvert ! appsink\n",
    "    \n",
    "gst-launch-1.0 -vvv nvarguscamerasrc sensor-id=0 \\\n",
    "    ! \"video/x-raw(memory:NVMM), width=640, height=480, format=(string)NV12, framerate=(fraction)30/1\" \\\n",
    "    ! nvvidconv \\\n",
    "    ! \"video/x-raw, width=(int)224, height=(int)224, format=(string)BGRx\" \\\n",
    "    ! videoconvert \\\n",
    "    ! shmsink socket-path=/tmp/gst_shm_socket_0 shm-size=2000000\n",
    "    \n",
    "gst-launch-1.0 v4l2src device=/dev/video1 \\\n",
    "    ! \"video/x-raw, width=(int)640, height=(int)480, framerate=(fraction)30/1\" \\\n",
    "    ! videoconvert \\\n",
    "    ! \"video/x-raw, format=(string)BGR\" \\\n",
    "    ! videoflip video-direction=4 \\\n",
    "    ! textoverlay halignment=0 valignment=2 text=TalentAI \\\n",
    "    ! clockoverlay halignment=2 time-format=\"%Y/%m/%d %H:%M:%S\" \\\n",
    "    ! shmsink socket-path=/tmp/gst_shm_socket_1 shm-size=2000000\n",
    "    \n",
    "gst-launch-1.0 -vvv nvarguscamerasrc sensor-id=0 \\\n",
    "    ! nvv4l2h264enc \\\n",
    "    ! h264parse \\\n",
    "    ! flvmux name=mux \\\n",
    "    ! queue \\\n",
    "    ! rtmpsink location='rtmp://116.85.58.226:1935/live/nano?vhost=seg.600s'\n",
    "    \n",
    "gst-launch-1.0 -vv -e v4l2src device=/dev/video1 \\\n",
    "    ! \"video/x-raw, width=(int)640, height=(int)480, framerate=(fraction)30/1\" \\\n",
    "    ! videoconvert \\\n",
    "    ! queue \\\n",
    "    ! x264enc speed-preset=1 \\\n",
    "    ! h264parse \\\n",
    "    ! mpegtsmux \\\n",
    "    ! rtpmp2tpay \\\n",
    "    ! udpsink host=172.16.0.35 port=1935\n",
    "    \n",
    "    \n",
    "# end"
   ]
  },
  {
   "cell_type": "markdown",
   "metadata": {
    "deletable": false,
    "editable": false
   },
   "source": [
    "### udp sink"
   ]
  },
  {
   "cell_type": "code",
   "execution_count": 27,
   "metadata": {
    "deletable": false,
    "editable": false
   },
   "outputs": [],
   "source": [
    "%killall gst-launch"
   ]
  },
  {
   "cell_type": "code",
   "execution_count": 28,
   "metadata": {
    "deletable": false,
    "editable": false
   },
   "outputs": [
    {
     "name": "stdout",
     "output_type": "stream",
     "text": [
      "Starting job # 0 in a separate thread.\n"
     ]
    }
   ],
   "source": [
    "%%bash --bg --proc bg_gst_udpsink\n",
    "\n",
    "HOST=127.0.0.1\n",
    "# HOST=172.16.0.35\n",
    "\n",
    "gst-launch-1.0 -e nvarguscamerasrc sensor-id=0 \\\n",
    "    ! 'video/x-raw(memory:NVMM), width=640, height=480, framerate=30/1' \\\n",
    "    ! nvvidconv flip-method=6 \\\n",
    "    ! nvv4l2h264enc bitrate=8000000 insert-sps-pps=true \\\n",
    "    ! rtph264pay mtu=1400 \\\n",
    "    ! udpsink host=$HOST port=1935 sync=false async=false"
   ]
  },
  {
   "cell_type": "code",
   "execution_count": 29,
   "metadata": {
    "deletable": false,
    "editable": false
   },
   "outputs": [
    {
     "data": {
      "text/plain": [
       "'subprocess.Popen: [\"args\", \"communicate\", \"encoding\", \"errors\", \"kill\", \"pid\", \"poll\", \"returncode\", \"send_signal\", \"stderr\", \"stdin\", \"stdout\", \"terminate\", \"universal_newlines\", \"wait\"]'"
      ]
     },
     "execution_count": 29,
     "metadata": {},
     "output_type": "execute_result"
    }
   ],
   "source": [
    "_DIR(bg_gst_udpsink)"
   ]
  },
  {
   "cell_type": "code",
   "execution_count": 30,
   "metadata": {
    "deletable": false,
    "editable": false
   },
   "outputs": [
    {
     "data": {
      "application/vnd.jupyter.widget-view+json": {
       "model_id": "593a3a4782b0433fa99381678af8a583"
      }
     },
     "metadata": {},
     "output_type": "display_data"
    }
   ],
   "source": [
    "udp_pipelines = [\n",
    "    'udpsrc port=1935 caps = \"application/x-rtp, media=(string)video, clock-rate=(int)90000, encoding-name=(string)H264\"',\n",
    "    'rtph264depay',\n",
    "    'avdec_h264',\n",
    "    'videoconvert',\n",
    "    'appsink'\n",
    "]\n",
    "\n",
    "nbeasy_schema_parse(get_play_schema(' ! '.join(udp_pipelines)), debug=True);"
   ]
  },
  {
   "cell_type": "code",
   "execution_count": 31,
   "metadata": {
    "deletable": false,
    "editable": false
   },
   "outputs": [],
   "source": [
    "bg_gst_udpsink.kill()"
   ]
  },
  {
   "cell_type": "markdown",
   "metadata": {
    "deletable": false,
    "editable": false
   },
   "source": [
    "### shm sink"
   ]
  },
  {
   "cell_type": "code",
   "execution_count": 32,
   "metadata": {
    "deletable": false,
    "editable": false
   },
   "outputs": [],
   "source": [
    "%killall gst-launch"
   ]
  },
  {
   "cell_type": "code",
   "execution_count": 33,
   "metadata": {
    "deletable": false,
    "editable": false
   },
   "outputs": [
    {
     "name": "stdout",
     "output_type": "stream",
     "text": [
      "Starting job # 2 in a separate thread.\n"
     ]
    }
   ],
   "source": [
    "%%bash --bg --proc bg_gst_shmsink\n",
    "\n",
    "sudo rm -rf /tmp/gst_shm_socket*\n",
    "\n",
    "gst-launch-1.0 -e nvarguscamerasrc sensor-id=0 sensor-mode=4 do-timestamp=true \\\n",
    "    ! 'video/x-raw(memory:NVMM), format=(string)NV12, width=640, height=480, framerate=30/1' \\\n",
    "    ! nvvidconv flip-method=6 \\\n",
    "    ! 'video/x-raw, width=(int)640, height=(int)480, format=(string)BGRx' \\\n",
    "    ! videoconvert \\\n",
    "    ! 'video/x-raw, format=(string)BGR' \\\n",
    "    ! shmsink socket-path=/tmp/gst_shm_socket_0 sync=true wait-for-connection=false"
   ]
  },
  {
   "cell_type": "code",
   "execution_count": 34,
   "metadata": {
    "deletable": false,
    "editable": false
   },
   "outputs": [
    {
     "data": {
      "application/vnd.jupyter.widget-view+json": {
       "model_id": "cfe74137128a40a083faf747825d86ba"
      }
     },
     "metadata": {},
     "output_type": "display_data"
    }
   ],
   "source": [
    "shm_pipelines = [\n",
    "    'shmsrc socket-path=/tmp/gst_shm_socket_0',\n",
    "    'video/x-raw, format=BGR, width=640, height=480, framerate=30/1',\n",
    "    'appsink'\n",
    "]\n",
    "\n",
    "nbeasy_schema_parse(get_play_schema(' ! '.join(shm_pipelines)), debug=True);"
   ]
  },
  {
   "cell_type": "markdown",
   "metadata": {
    "deletable": false,
    "editable": false
   },
   "source": [
    "### splitmux sink"
   ]
  },
  {
   "cell_type": "code",
   "execution_count": 35,
   "metadata": {
    "deletable": false,
    "editable": false
   },
   "outputs": [],
   "source": [
    "%killall gst-launch"
   ]
  },
  {
   "cell_type": "code",
   "execution_count": 36,
   "metadata": {
    "deletable": false,
    "editable": false
   },
   "outputs": [
    {
     "name": "stdout",
     "output_type": "stream",
     "text": [
      "Starting job # 3 in a separate thread.\n"
     ]
    }
   ],
   "source": [
    "%%bash --bg --proc bg_gst_splitmuxsink\n",
    "\n",
    "TOTAL_DUR=1m\n",
    "SPLIT_SEC=15\n",
    "SPLIT_NANO=$((${SPLIT_SEC} * 1000000000))\n",
    "BITRATE=$((4 * 1000 * 1000))\n",
    "WIDTH=640\n",
    "HEIGHT=480\n",
    "DAYANDTIME=$(date +\"%Y%m%d-%H%M%S\")\n",
    "VIDEO_DIR=/home/nano/omega/gst/$DAYANDTIME\n",
    "\n",
    "if [[ ! -d $VIDEO_DIR ]]\n",
    "then\n",
    "    mkdir -p $VIDEO_DIR\n",
    "fi\n",
    "\n",
    "timeout --foreground --signal=INT ${TOTAL_DUR} \\\n",
    "gst-launch-1.0 v4l2src device=/dev/video1 io-mode=2 \\\n",
    "    ! \"image/jpeg,framerate=30/1,width=$WIDTH,height=$HEIGHT\" \\\n",
    "    ! nvjpegdec \\\n",
    "    ! video/x-raw \\\n",
    "    ! nvvidconv top=35 left=10 right=500 bottom=320 \\\n",
    "    ! nvv4l2h264enc bitrate=${BITRATE} \\\n",
    "    ! h264parse \\\n",
    "    ! splitmuxsink muxer=qtmux max-size-time=${SPLIT_NANO} max-files=10 location=$VIDEO_DIR/split%02d.mp4"
   ]
  },
  {
   "cell_type": "code",
   "execution_count": 38,
   "metadata": {
    "deletable": false,
    "editable": false
   },
   "outputs": [
    {
     "name": "stdout",
     "output_type": "stream",
     "text": [
      "split00.mp4  split02.mp4  split04.mp4  split06.mp4  split08.mp4\r\n",
      "split01.mp4  split03.mp4  split05.mp4  split07.mp4  split09.mp4\r\n"
     ]
    }
   ],
   "source": [
    "!ls /home/nano/omega/gst/"
   ]
  },
  {
   "cell_type": "markdown",
   "metadata": {
    "deletable": false,
    "editable": false
   },
   "source": [
    "### tee and queue"
   ]
  },
  {
   "cell_type": "code",
   "execution_count": 39,
   "metadata": {
    "deletable": false,
    "editable": false
   },
   "outputs": [],
   "source": [
    "%killall gst-launch"
   ]
  },
  {
   "cell_type": "code",
   "execution_count": 40,
   "metadata": {
    "deletable": false,
    "editable": false
   },
   "outputs": [
    {
     "name": "stdout",
     "output_type": "stream",
     "text": [
      "Starting job # 4 in a separate thread.\n"
     ]
    }
   ],
   "source": [
    "%%bash --bg --proc bg_gst_tee_queue\n",
    "\n",
    "TOTAL_DUR=5m\n",
    "SPLIT_SEC=30\n",
    "SPLIT_NANO=$((${SPLIT_SEC} * 1000000000))\n",
    "BITRATE=$((4 * 1000 * 1000))\n",
    "WIDTH=640\n",
    "HEIGHT=480\n",
    "VIDEO_DIR=/home/nano/omega/gst/\n",
    "SRS_SERVER=172.16.0.35\n",
    "\n",
    "read MAC < /sys/class/net/eth0/address\n",
    "\n",
    "MAC=`echo $MAC | sed -r 's/://g'`\n",
    "\n",
    "# echo \"Jetson Nano MAC: $MAC\"\n",
    "\n",
    "if [[ ! -d $VIDEO_DIR ]]\n",
    "then\n",
    "    mkdir -p $VIDEO_DIR\n",
    "fi\n",
    "\n",
    "sudo rm -rf /tmp/gst_repnet.shm\n",
    "\n",
    "timeout --foreground --signal=INT ${TOTAL_DUR} \\\n",
    "gst-launch-1.0 -e nvarguscamerasrc sensor-id=0 \\\n",
    "    ! \"video/x-raw(memory:NVMM),width=$WIDTH,height=$HEIGHT,format=(string)NV12,framerate=30/1\" \\\n",
    "    ! nvvidconv flip-method=6 \\\n",
    "    ! \"video/x-raw, width=(int)$WIDTH, height=(int)$HEIGHT, format=(string)BGRx\" \\\n",
    "    ! textoverlay halignment=0 valignment=2 text=$MAC \\\n",
    "    ! clockoverlay halignment=2 time-format='%Y/%m/%d %H:%M:%S' \\\n",
    "    ! tee name=t1 \\\n",
    "    t1. ! queue ! videoconvert ! \"video/x-raw, format=(string)BGR\" ! shmsink socket-path=/tmp/gst_repnet.shm sync=true wait-for-connection=false \\\n",
    "    t1. ! queue \\\n",
    "            ! nvvidconv \\\n",
    "            ! nvv4l2h264enc bitrate=${BITRATE} \\\n",
    "            ! h264parse \\\n",
    "            ! tee name=t2 \\\n",
    "            t2. ! queue ! splitmuxsink muxer=qtmux max-size-time=${SPLIT_NANO} max-files=10 location=$VIDEO_DIR/split%02d.mp4 \\\n",
    "            t2. ! queue ! flvmux ! rtmpsink location=\"rtmp://$SRS_SERVER:1935/live/$MAC\""
   ]
  },
  {
   "cell_type": "code",
   "execution_count": 41,
   "metadata": {
    "deletable": false,
    "editable": false
   },
   "outputs": [
    {
     "data": {
      "application/vnd.jupyter.widget-view+json": {
       "model_id": "e9cfc7bec6ab4e47a67ee884a0585fef"
      }
     },
     "metadata": {},
     "output_type": "display_data"
    }
   ],
   "source": [
    "shm_pipelines = [\n",
    "    'shmsrc socket-path=/tmp/gst_repnet.shm',\n",
    "    'video/x-raw, format=BGR, width=640, height=480, framerate=30/1',\n",
    "    'appsink'\n",
    "]\n",
    "\n",
    "nbeasy_schema_parse(get_play_schema(' ! '.join(shm_pipelines)), debug=True);"
   ]
  },
  {
   "cell_type": "code",
   "execution_count": 42,
   "metadata": {
    "deletable": false,
    "editable": false
   },
   "outputs": [
    {
     "data": {
      "text/html": [
       "\n",
       "        <iframe\n",
       "            width=\"80%\"\n",
       "            height=\"680\"\n",
       "            src=\"http://ossrs.net/players/rtc_player.html?vhost=__defaultVhost__&app=live&stream=48b02d5bcfa5&server=172.16.0.35&port=8181&autostart=true&schema=http\"\n",
       "            frameborder=\"0\"\n",
       "            allowfullscreen\n",
       "        ></iframe>\n",
       "        "
      ],
      "text/plain": [
       "<IPython.lib.display.IFrame at 0x7f6de23a20>"
      ]
     },
     "execution_count": 42,
     "metadata": {},
     "output_type": "execute_result"
    }
   ],
   "source": [
    "IFrame(\n",
    "    src='http://ossrs.net/players/rtc_player.html?vhost=__defaultVhost__&app=live&stream=48b02d5bcfa5&server=172.16.0.35&port=8181&autostart=true&schema=http',\n",
    "    width='80%', height=680\n",
    ")"
   ]
  },
  {
   "cell_type": "markdown",
   "metadata": {},
   "source": [
    "## References"
   ]
  },
  {
   "cell_type": "markdown",
   "metadata": {},
   "source": [
    "- [Nvidia Accelerated GStreamer][5]\n",
    "- **[How to Install OpenCV 4.5 on NVIDIA Jetson Nano (CSI Camera)][2]**\n",
    "- [OpenCV 4 + CUDA on Jetson Nano][1]\n",
    "- [To speed up the image processing OpenCV with GPU (CUDA)][3]\n",
    "- [Embedded Diaries: Jetson gstreamer Video Encoding & Decoding][4]\n",
    "- [GStreamer provides different commands for capture images were two is nvarguscamerasrc and v4l2src.][6]\n",
    "- [nvidia jetson xavier NX GStreamer 推流操作][7]\n",
    "- [git: gst rtsp server][8]\n",
    "- [git: gst examples][9]\n",
    "- [git: nano capture][10]\n",
    "\n",
    "[10]: https://github.com/uutzinger/FaceIn/blob/master/nanocapture.py\n",
    "[9]: https://github.com/mad4ms/python-opencv-gstreamer-examples\n",
    "[8]: https://github.com/GStreamer/gst-rtsp-server\n",
    "[7]: http://m.blog.chinaunix.net/uid-21501855-id-5846723.html\n",
    "[6]: https://developer.ridgerun.com/wiki/index.php?title=Xavier/Video_Capture_and_Display/Software_Support/GStreamer\n",
    "[5]: https://docs.nvidia.com/jetson/l4t/index.html#page/Tegra%20Linux%20Driver%20Package%20Development%20Guide/accelerated_gstreamer.html\n",
    "[4]: https://www.hackster.io/SaadTiwana/embedded-diaries-jetson-gstreamer-video-encoding-decoding-585ba7\n",
    "[3]: https://titanwolf.org/Network/Articles/Article?AID=fb3facac-d5d2-42c5-96b2-3c25d2201736\n",
    "[2]: https://automaticaddison.com/how-to-install-opencv-4-5-on-nvidia-jetson-nano/\n",
    "[1]: https://www.jetsonhacks.com/2019/11/22/opencv-4-cuda-on-jetson-nano/\n",
    "\n",
    "- https://github.com/step305/pyFaceRec_jetson_nano/blob/91a7fe2aab2ee3f8b31bc3b778bb9a6f9387c8a9/video.py"
   ]
  },
  {
   "cell_type": "markdown",
   "metadata": {},
   "source": [
    "## FAQs"
   ]
  },
  {
   "cell_type": "markdown",
   "metadata": {},
   "source": [
    "- [Jetson Nano Cuda,cuDNN,Opencv][1]\n",
    "\n",
    "<div class=\"alert alert-info\">\n",
    "    <code>\n",
    "        wget http://dragon.studio/2021/02/opencv_2021-02-27-1_all.deb\n",
    "        sudo apt remove libopencv opencv-licenses libopencv-python libtbb-dev libopencv-dev\n",
    "        sudo apt install ./opencv_2021-02-27-1_all.deb\n",
    "    </code>\n",
    "</div>\n",
    "\n",
    "- [fatal error: boostdesc_bgm.i: No such file or directory][2]\n",
    "\n",
    "[2]: https://github.com/opencv/opencv_contrib/issues/1301\n",
    "[1]: https://forums.developer.nvidia.com/t/jetson-nano-cuda-cudnn-opencv/169731/2"
   ]
  }
 ],
 "metadata": {
  "hide_input": false,
  "kernelspec": {
   "display_name": "Python 3",
   "language": "python",
   "name": "python3"
  },
  "language_info": {
   "codemirror_mode": {
    "name": "ipython",
    "version": 3
   },
   "file_extension": ".py",
   "mimetype": "text/x-python",
   "name": "python",
   "nbconvert_exporter": "python",
   "pygments_lexer": "ipython3",
   "version": "3.6.9"
  },
  "toc": {
   "base_numbering": 1,
   "nav_menu": {},
   "number_sections": true,
   "sideBar": false,
   "skip_h1_title": true,
   "title_cell": "Contents",
   "title_sidebar": "Contents",
   "toc_cell": true,
   "toc_position": {
    "height": "305.969px",
    "left": "1514px",
    "top": "66px",
    "width": "302px"
   },
   "toc_section_display": true,
   "toc_window_display": true
  }
 },
 "nbformat": 4,
 "nbformat_minor": 2
}
