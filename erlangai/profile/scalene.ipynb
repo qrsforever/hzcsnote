{
 "cells": [
  {
   "cell_type": "code",
   "execution_count": 1,
   "id": "d199d94e",
   "metadata": {
    "ExecuteTime": {
     "end_time": "2021-09-14T12:19:38.872756Z",
     "start_time": "2021-09-14T12:19:28.123050Z"
    }
   },
   "outputs": [
    {
     "name": "stdout",
     "output_type": "stream",
     "text": [
      "Scalene extension successfully loaded. Note: Scalene currently only\n",
      "supports CPU+GPU profiling inside Jupyter notebooks. For full Scalene\n",
      "profiling, use the command line version.\n",
      "numpy 1.19.5\n",
      "sklearn 0.0\n",
      "pandas 1.1.5\n",
      "cv2 4.5.3\n",
      "PIL 8.3.1\n",
      "matplotlib 3.3.4\n",
      "torch 1.8.1+cu101\n",
      "torchvision 0.9.1+cu101\n",
      "torchaudio not installed\n",
      "tensorflow 2.6.0\n",
      "tensorboard 2.6.0\n"
     ]
    },
    {
     "data": {
      "text/html": [
       "<style>.container { width:95% !important; }</style>"
      ],
      "text/plain": [
       "<IPython.core.display.HTML object>"
      ]
     },
     "metadata": {},
     "output_type": "display_data"
    }
   ],
   "source": [
    "%reload_ext scalene\n",
    "%reload_ext watermark\n",
    "%reload_ext autoreload\n",
    "%autoreload 2\n",
    "%watermark -p numpy,sklearn,pandas\n",
    "%watermark -p cv2,PIL,matplotlib\n",
    "%watermark -p torch,torchvision,torchaudio\n",
    "%watermark -p tensorflow,tensorboard\n",
    "%matplotlib inline\n",
    "%config InlineBackend.figure_format='retina'\n",
    "%config IPCompleter.use_jedi = False\n",
    "\n",
    "from IPython.display import display, Markdown, HTML, Image, Javascript\n",
    "from IPython.core.magic import register_line_cell_magic, register_line_magic, register_cell_magic\n",
    "display(HTML('<style>.container { width:%d%% !important; }</style>' % 95))\n",
    "\n",
    "import sys, os, io, time, random, math\n",
    "import json, base64, requests\n",
    "import os.path as osp\n",
    "import numpy as np\n",
    "\n",
    "def _IMPORT_(x):\n",
    "    try:\n",
    "        segs = x.split(' ')\n",
    "        g = globals()\n",
    "        if 'github.com' in segs[1]:\n",
    "            uri = segs[1].replace('github.com', 'raw.githubusercontent.com')\n",
    "            mod = uri.split('/')\n",
    "            for s in ['main', 'master']:\n",
    "                uri = 'https://' + '/'.join(mod[:-1]) + '/main/' + mod[-1] + '.py'\n",
    "                x = requests.get(uri)\n",
    "                if x.status_code == 200:\n",
    "                    x = x.text\n",
    "                    break\n",
    "        elif 'gitee.com' in segs[1]:\n",
    "            mod = segs[1].split('/')\n",
    "            for s in ['/raw/main/', '/raw/master/']:\n",
    "                uri = 'https://' + '/'.join(mod[:3]) + s + '/'.join(mod[3:]) + '.py'\n",
    "                x = requests.get(uri)\n",
    "                if x.status_code == 200:\n",
    "                    x = x.text\n",
    "                    break\n",
    "        elif segs[1][0] == '/':\n",
    "            with open(segs[1] + '.py') as fr:\n",
    "                x = fr.read()\n",
    "        exec(x, g)\n",
    "    except:\n",
    "        print('1111')\n",
    "        pass\n"
   ]
  },
  {
   "cell_type": "code",
   "execution_count": 2,
   "id": "79fefc52",
   "metadata": {
    "ExecuteTime": {
     "end_time": "2021-09-14T12:19:41.715844Z",
     "start_time": "2021-09-14T12:19:40.782077Z"
    }
   },
   "outputs": [],
   "source": [
    "_IMPORT_('import /data/repnet_model')"
   ]
  },
  {
   "cell_type": "code",
   "execution_count": null,
   "id": "fe9ce90c",
   "metadata": {
    "ExecuteTime": {
     "end_time": "2021-09-14T11:47:17.841799Z",
     "start_time": "2021-09-14T11:47:04.769409Z"
    }
   },
   "outputs": [],
   "source": [
    "%%scalene \n",
    "\n",
    "model = ResnetPeriodEstimator()\n",
    "model.call = tf.function(model.call, experimental_relax_shapes=True)\n",
    "ckpt = tf.train.Checkpoint(model=model)\n",
    "ckpt.restore('/data/pretrained/cv/repnet/ckpt-88').expect_partial()\n",
    "model(tf.random.uniform((1, 64, 112, 112, 3)))"
   ]
  },
  {
   "cell_type": "code",
   "execution_count": 3,
   "id": "7cf9f3bc",
   "metadata": {
    "ExecuteTime": {
     "end_time": "2021-09-14T12:19:46.297355Z",
     "start_time": "2021-09-14T12:19:42.611753Z"
    }
   },
   "outputs": [
    {
     "name": "stdout",
     "output_type": "stream",
     "text": [
      "test\n",
      "test\n",
      "test\n",
      "\u001b[3m                                             [3]: % of time = 100.00% out of   3.00s.                                              \u001b[0m\n",
      "       ╷       ╷       ╷       ╷       ╷                                                                                           \n",
      " \u001b[1m \u001b[0m\u001b[1mLine\u001b[0m\u001b[1m \u001b[0m│\u001b[1mTime\u001b[0m\u001b[1m  \u001b[0m\u001b[1m \u001b[0m│\u001b[1m––––––\u001b[0m\u001b[1m \u001b[0m│\u001b[1m––––––\u001b[0m\u001b[1m \u001b[0m│\u001b[1m––––––\u001b[0m\u001b[1m \u001b[0m│\u001b[1m                                                                                         \u001b[0m\u001b[1m \u001b[0m \n",
      "       │\u001b[1;3mPython\u001b[0m\u001b[1m \u001b[0m│\u001b[1;3mnative\u001b[0m\u001b[1m \u001b[0m│\u001b[1;3msystem\u001b[0m\u001b[1m \u001b[0m│\u001b[1;3mGPU\u001b[0m\u001b[1m   \u001b[0m\u001b[1m \u001b[0m│\u001b[1m[3]                                                                                      \u001b[0m\u001b[1m \u001b[0m \n",
      "╺━━━━━━┿━━━━━━━┿━━━━━━━┿━━━━━━━┿━━━━━━━┿━━━━━━━━━━━━━━━━━━━━━━━━━━━━━━━━━━━━━━━━━━━━━━━━━━━━━━━━━━━━━━━━━━━━━━━━━━━━━━━━━━━━━━━━━━╸\n",
      " \u001b[2m \u001b[0m\u001b[2m   1\u001b[0m\u001b[2m \u001b[0m│       │       │       │       │\u001b[36;40m%\u001b[0m\u001b[36;40m%\u001b[0m\u001b[37;40mscalene\u001b[0m\u001b[40m                                                                                \u001b[0m  \n",
      " \u001b[2m \u001b[0m\u001b[2m   2\u001b[0m\u001b[2m \u001b[0m│       │       │       │       │\u001b[40m                                                                                         \u001b[0m  \n",
      " \u001b[2m \u001b[0m\u001b[2m   3\u001b[0m\u001b[2m \u001b[0m│       │       │       │       │\u001b[35;40mimport\u001b[0m\u001b[37;40m \u001b[0m\u001b[37;40mtime\u001b[0m\u001b[40m                                                                              \u001b[0m  \n",
      " \u001b[2m \u001b[0m\u001b[2m   4\u001b[0m\u001b[2m \u001b[0m│       │       │       │       │\u001b[93;40mdef\u001b[0m\u001b[37;40m \u001b[0m\u001b[37;40mtest\u001b[0m\u001b[37;40m(\u001b[0m\u001b[37;40m)\u001b[0m\u001b[37;40m:\u001b[0m\u001b[40m                                                                              \u001b[0m  \n",
      " \u001b[2m \u001b[0m\u001b[2m   5\u001b[0m\u001b[2m \u001b[0m│       │       │       │       │\u001b[37;40m    \u001b[0m\u001b[37;40mi\u001b[0m\u001b[36;40m=\u001b[0m\u001b[35;40m3\u001b[0m\u001b[37;40m;\u001b[0m\u001b[40m                                                                                 \u001b[0m  \n",
      " \u001b[2m \u001b[0m\u001b[2m   6\u001b[0m\u001b[2m \u001b[0m│       │       │       │       │\u001b[37;40m    \u001b[0m\u001b[93;40mwhile\u001b[0m\u001b[37;40m \u001b[0m\u001b[37;40mi\u001b[0m\u001b[36;40m>\u001b[0m\u001b[35;40m0\u001b[0m\u001b[37;40m:\u001b[0m\u001b[40m                                                                           \u001b[0m  \n",
      " \u001b[2m \u001b[0m\u001b[2m   7\u001b[0m\u001b[2m \u001b[0m│       │       │       │       │\u001b[37;40m        \u001b[0m\u001b[35;40mprint\u001b[0m\u001b[37;40m(\u001b[0m\u001b[31;40m\"\u001b[0m\u001b[31;40mtest\u001b[0m\u001b[31;40m\"\u001b[0m\u001b[37;40m)\u001b[0m\u001b[40m                                                                    \u001b[0m  \n",
      " \u001b[2m \u001b[0m\u001b[2m   8\u001b[0m\u001b[2m \u001b[0m│    1% │       │  99%  │       │\u001b[37;40m        \u001b[0m\u001b[37;40mtime\u001b[0m\u001b[36;40m.\u001b[0m\u001b[37;40msleep\u001b[0m\u001b[37;40m(\u001b[0m\u001b[35;40m1\u001b[0m\u001b[37;40m)\u001b[0m\u001b[40m                                                                    \u001b[0m  \n",
      " \u001b[2m \u001b[0m\u001b[2m   9\u001b[0m\u001b[2m \u001b[0m│       │       │       │       │\u001b[37;40m        \u001b[0m\u001b[37;40mi\u001b[0m\u001b[36;40m=\u001b[0m\u001b[37;40mi\u001b[0m\u001b[36;40m-\u001b[0m\u001b[35;40m1\u001b[0m\u001b[40m                                                                            \u001b[0m  \n",
      " \u001b[2m \u001b[0m\u001b[2m  10\u001b[0m\u001b[2m \u001b[0m│       │       │       │       │\u001b[37;40mtest\u001b[0m\u001b[37;40m(\u001b[0m\u001b[37;40m)\u001b[0m\u001b[40m                                                                                   \u001b[0m  \n",
      " \u001b[2m \u001b[0m\u001b[2m    \u001b[0m\u001b[2m \u001b[0m│       │       │       │       │                                                                                           \n",
      "╶──────┼───────┼───────┼───────┼───────┼──────────────────────────────────────────────────────────────────────────────────────────╴\n",
      " \u001b[2m \u001b[0m\u001b[2m    \u001b[0m\u001b[2m \u001b[0m│       │       │       │       │\u001b[1;3mfunction summary for <ipython-input-3-profile>                                           \u001b[0m  \n",
      " \u001b[2m \u001b[0m\u001b[2m   4\u001b[0m\u001b[2m \u001b[0m│    1% │       │  99%  │       │\u001b[37;40mtest\u001b[0m\u001b[40m                                                                                     \u001b[0m  \n",
      "       ╵       ╵       ╵       ╵       ╵                                                                                           \n"
     ]
    }
   ],
   "source": [
    "%%scalene\n",
    "\n",
    "import time\n",
    "def test():\n",
    "    i=3;\n",
    "    while i>0:\n",
    "        print(\"test\")\n",
    "        time.sleep(1)\n",
    "        i=i-1\n",
    "test()"
   ]
  },
  {
   "cell_type": "code",
   "execution_count": 4,
   "id": "e8f67076",
   "metadata": {
    "ExecuteTime": {
     "end_time": "2021-09-15T07:24:12.969391Z",
     "start_time": "2021-09-15T07:24:12.843352Z"
    }
   },
   "outputs": [],
   "source": [
    "def my_input_fn():\n",
    "    # Let's assume a network with 2 input tensors. We generate 3 sets\n",
    "    # of dummy input data:\n",
    "    input_shapes = [[(1, 16), (2, 16)], # min and max range for 1st input list\n",
    "                    [(2, 32), (4, 32)], # min and max range for 2nd list of two tensors\n",
    "                    [(4, 32), (8, 32)]] # 3rd input list\n",
    "    for shapes in input_shapes:\n",
    "        # return a list of input tensors\n",
    "        yield [np.zeros(x).astype(np.float32) for x in shapes]"
   ]
  },
  {
   "cell_type": "code",
   "execution_count": 12,
   "id": "15d766c9",
   "metadata": {
    "ExecuteTime": {
     "end_time": "2021-09-15T07:25:00.125607Z",
     "start_time": "2021-09-15T07:24:59.989353Z"
    }
   },
   "outputs": [],
   "source": [
    "data = my_input_fn()"
   ]
  },
  {
   "cell_type": "code",
   "execution_count": 14,
   "id": "b8d49613",
   "metadata": {
    "ExecuteTime": {
     "end_time": "2021-09-15T07:25:06.997656Z",
     "start_time": "2021-09-15T07:25:06.838157Z"
    }
   },
   "outputs": [
    {
     "data": {
      "text/plain": [
       "(4, 32)"
      ]
     },
     "execution_count": 14,
     "metadata": {},
     "output_type": "execute_result"
    }
   ],
   "source": [
    "next(data)[1].shape"
   ]
  }
 ],
 "metadata": {
  "hide_input": false,
  "kernelspec": {
   "display_name": "Python 3",
   "language": "python",
   "name": "python3"
  },
  "language_info": {
   "codemirror_mode": {
    "name": "ipython",
    "version": 3
   },
   "file_extension": ".py",
   "mimetype": "text/x-python",
   "name": "python",
   "nbconvert_exporter": "python",
   "pygments_lexer": "ipython3",
   "version": "3.6.9"
  },
  "toc": {
   "base_numbering": 1,
   "nav_menu": {},
   "number_sections": true,
   "sideBar": true,
   "skip_h1_title": true,
   "title_cell": "",
   "title_sidebar": "Contents",
   "toc_cell": false,
   "toc_position": {},
   "toc_section_display": true,
   "toc_window_display": false
  }
 },
 "nbformat": 4,
 "nbformat_minor": 5
}
